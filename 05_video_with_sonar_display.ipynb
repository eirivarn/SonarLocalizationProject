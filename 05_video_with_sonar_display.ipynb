{
 "cells": [
  {
   "cell_type": "code",
   "execution_count": 1,
   "id": "02cca469",
   "metadata": {},
   "outputs": [
    {
     "name": "stdout",
     "output_type": "stream",
     "text": [
      "Wrote 592 frames to exports/videos/20240822_140646_088691+0200_sonar_video.mp4 @ 15.67 FPS\n"
     ]
    }
   ],
   "source": [
    "# %% Video with Sonar Display - Refactored\n",
    "from pathlib import Path\n",
    "import pandas as pd\n",
    "from utils.video_with_sonar import export_video_with_sonar_display\n",
    "\n",
    "# ---------- CONFIG (edit these) ----------\n",
    "SONAR_FILE     = Path(\"exports/by_bag/sensor_sonoptix_echo_image__2024-08-22_14-06-43_video.csv\")\n",
    "VIDEO_SEQ_DIR  = Path(\"exports/frames/2024-08-22_14-06-43_video__image_compressed_image_data\")\n",
    "OUT_DIR        = Path(\"exports/videos\")\n",
    "\n",
    "# Selection / speed\n",
    "START_IDX      = 0\n",
    "END_IDX        = None\n",
    "STRIDE         = 1\n",
    "TARGET_FPS     = None\n",
    "\n",
    "# Timestamp matching\n",
    "TIME_TOLERANCE = pd.Timedelta(\"100ms\")\n",
    "\n",
    "# Sonar geometry / display\n",
    "FOV_DEG              = 120.0\n",
    "RANGE_MIN_M          = 0.0\n",
    "RANGE_MAX_M          = 30.0\n",
    "DISPLAY_RANGE_MAX_M  = 10.0\n",
    "FLIP_BEAMS           = True\n",
    "FLIP_RANGE           = False\n",
    "\n",
    "# Enhancement (display only)\n",
    "USE_ENHANCED         = True\n",
    "ENH_SCALE            = \"db\"\n",
    "ENH_TVG              = \"amplitude\"\n",
    "ENH_ALPHA_DB_PER_M   = 0.0\n",
    "ENH_R0               = 1e-2\n",
    "ENH_P_LOW            = 1.0\n",
    "ENH_P_HIGH           = 99.5\n",
    "ENH_GAMMA            = 0.9\n",
    "ENH_ZERO_AWARE       = True\n",
    "ENH_EPS_LOG          = 1e-6\n",
    "\n",
    "# Visuals / sizes\n",
    "CMAP_RAW     = \"viridis\"\n",
    "CMAP_ENH     = \"viridis\"\n",
    "CONE_W, CONE_H = 900, 700\n",
    "VIDEO_HEIGHT   = CONE_H\n",
    "PAD_BETWEEN    = 8\n",
    "FONT_SCALE     = 0.55\n",
    "\n",
    "CONE_FLIP_VERTICAL = True\n",
    "\n",
    "# Run the export\n",
    "export_video_with_sonar_display(\n",
    "    SONAR_FILE, VIDEO_SEQ_DIR, OUT_DIR,\n",
    "    START_IDX=START_IDX, END_IDX=END_IDX, STRIDE=STRIDE, TARGET_FPS=TARGET_FPS,\n",
    "    TIME_TOLERANCE=TIME_TOLERANCE,\n",
    "    FOV_DEG=FOV_DEG, RANGE_MIN_M=RANGE_MIN_M, RANGE_MAX_M=RANGE_MAX_M, DISPLAY_RANGE_MAX_M=DISPLAY_RANGE_MAX_M,\n",
    "    FLIP_BEAMS=FLIP_BEAMS, FLIP_RANGE=FLIP_RANGE,\n",
    "    USE_ENHANCED=USE_ENHANCED, ENH_SCALE=ENH_SCALE, ENH_TVG=ENH_TVG, ENH_ALPHA_DB_PER_M=ENH_ALPHA_DB_PER_M,\n",
    "    ENH_R0=ENH_R0, ENH_P_LOW=ENH_P_LOW, ENH_P_HIGH=ENH_P_HIGH, ENH_GAMMA=ENH_GAMMA, ENH_ZERO_AWARE=ENH_ZERO_AWARE, ENH_EPS_LOG=ENH_EPS_LOG,\n",
    "    CMAP_RAW=CMAP_RAW, CMAP_ENH=CMAP_ENH, CONE_W=CONE_W, CONE_H=CONE_H, VIDEO_HEIGHT=VIDEO_HEIGHT, PAD_BETWEEN=PAD_BETWEEN, FONT_SCALE=FONT_SCALE,\n",
    "    CONE_FLIP_VERTICAL=CONE_FLIP_VERTICAL\n",
    ")"
   ]
  }
 ],
 "metadata": {
  "kernelspec": {
   "display_name": "venv",
   "language": "python",
   "name": "python3"
  },
  "language_info": {
   "codemirror_mode": {
    "name": "ipython",
    "version": 3
   },
   "file_extension": ".py",
   "mimetype": "text/x-python",
   "name": "python",
   "nbconvert_exporter": "python",
   "pygments_lexer": "ipython3",
   "version": "3.13.5"
  }
 },
 "nbformat": 4,
 "nbformat_minor": 5
}
