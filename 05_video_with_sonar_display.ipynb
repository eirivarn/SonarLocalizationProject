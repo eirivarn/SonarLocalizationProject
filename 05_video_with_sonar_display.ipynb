{
 "cells": [
  {
   "cell_type": "code",
   "execution_count": 1,
   "id": "b0280e45",
   "metadata": {},
   "outputs": [
    {
     "name": "stdout",
     "output_type": "stream",
     "text": [
      "Using sonar defaults: range 0.0..20.0 m, display max 5.0 m\n"
     ]
    }
   ],
   "source": [
    "# Use centralized sonar defaults and provide notebook-level override guidance\n",
    "from utils.sonar_config import SONAR_VIS_DEFAULTS\n",
    "sonar_config = SONAR_VIS_DEFAULTS.copy()\n",
    "\n",
    "RANGE_MIN_M = sonar_config['range_min_m']\n",
    "RANGE_MAX_M = sonar_config['range_max_m']  # default; override below if needed\n",
    "DISPLAY_RANGE_MAX_M = sonar_config['display_range_max_m']\n",
    "\n",
    "# Notebook-specific override example (uncomment to apply):\n",
    "# RANGE_MAX_M = 30.0\n",
    "\n",
    "print(f\"Using sonar defaults: range {RANGE_MIN_M}..{RANGE_MAX_M} m, display max {DISPLAY_RANGE_MAX_M} m\")\n"
   ]
  },
  {
   "cell_type": "code",
   "execution_count": 2,
   "id": "214c7e63",
   "metadata": {},
   "outputs": [
    {
     "name": "stdout",
     "output_type": "stream",
     "text": [
      "NPZ extent: (-8.660254037844386, 8.660254037844386, 0.0, 10.0)\n",
      "px_per_m (x,y): 51.962, 70.000\n"
     ]
    }
   ],
   "source": [
    "# Diagnostic: compute pixels->meters from an exported NPZ (if available)\n",
    "from pathlib import Path\n",
    "from utils.sonar_utils import load_cone_run_npz\n",
    "npz_files = list(Path('exports/outputs').glob('*_cones.npz'))\n",
    "if npz_files:\n",
    "    cones, ts, extent, meta = load_cone_run_npz(npz_files[-1])\n",
    "    x_min, x_max, y_min, y_max = extent\n",
    "    px_per_m_x = cones.shape[2] / (x_max - x_min)\n",
    "    px_per_m_y = cones.shape[1] / (y_max - y_min)\n",
    "    print(f\"NPZ extent: {extent}\")\n",
    "    print(f\"px_per_m (x,y): {px_per_m_x:.3f}, {px_per_m_y:.3f}\")\n",
    "else:\n",
    "    print('No NPZ cone files found in exports/outputs')\n"
   ]
  },
  {
   "cell_type": "code",
   "execution_count": 3,
   "id": "0e6eb99e",
   "metadata": {},
   "outputs": [
    {
     "name": "stdout",
     "output_type": "stream",
     "text": [
      "🛠️ OPTIMIZED SONAR VIDEO\n",
      "======================================================================\n",
      "🎯 Target Bag: 2024-08-22_14-06-43\n",
      "   Cone Size: 900x700\n",
      "   Range: 0.0-5.0m | FOV: 120.0°\n",
      "   🎥 Camera: enabled\n",
      "   🕸  Net-line: enabled (dist tol=0.5s, pitch tol=0.3s)\n",
      "   Loading sonar data: sensor_sonoptix_echo_image__2024-08-22_14-06-43_video.csv\n",
      "   ✅ Loaded 592 sonar frames in 4.78s\n",
      "   ✅ Loaded 322 navigation records in 0.00s\n",
      "      Available: ['NetDistance', 'NetPitch', 'timestamp']\n",
      "   ✅ Loaded 95 camera index entries\n",
      "   Frames: 0..591 (step 1) => 592\n",
      "   Natural FPS: 15.7\n",
      "   ✅ Loaded 592 sonar frames in 4.78s\n",
      "   ✅ Loaded 322 navigation records in 0.00s\n",
      "      Available: ['NetDistance', 'NetPitch', 'timestamp']\n",
      "   ✅ Loaded 95 camera index entries\n",
      "   Frames: 0..591 (step 1) => 592\n",
      "   Natural FPS: 15.7\n",
      "\n",
      "🎉 DONE! Wrote 592 frames to exports/videos/2024-08-22_14-06-43_optimized_sync_withcam_20240822_140646_088691+0200.mp4 @ 15.67 FPS\n",
      "Metadata saved to: exports/videos/2024-08-22_14-06-43_optimized_sync_withcam_20240822_140646_088691+0200.mp4.meta.json\n",
      "\n",
      "🎉 DONE! Wrote 592 frames to exports/videos/2024-08-22_14-06-43_optimized_sync_withcam_20240822_140646_088691+0200.mp4 @ 15.67 FPS\n",
      "Metadata saved to: exports/videos/2024-08-22_14-06-43_optimized_sync_withcam_20240822_140646_088691+0200.mp4.meta.json\n"
     ]
    }
   ],
   "source": [
    "# Export video using the optimized exporter. Edit TARGET_BAG/paths below as needed.\n",
    "from pathlib import Path\n",
    "from utils.sonar_and_foto_generation import export_optimized_sonar_video\n",
    "from utils.sonar_config import SONAR_VIS_DEFAULTS, ENHANCE_DEFAULTS, CONE_W_DEFAULT, CONE_H_DEFAULT, CONE_FLIP_VERTICAL_DEFAULT\n",
    "\n",
    "# --- Edit these to match the dataset you want to export ---\n",
    "TARGET_BAG = '2024-08-22_14-06-43'\n",
    "EXPORTS_FOLDER = Path('exports')\n",
    "VIDEO_SEQ_DIR = Path('exports/frames/2024-08-22_14-06-43_video__image_compressed_image_data')\n",
    "\n",
    "START_IDX = 0\n",
    "END_IDX = None\n",
    "STRIDE = 1\n",
    "\n",
    "# --- Use central sonar config defaults (override below if desired) ---\n",
    "sonar_cfg = SONAR_VIS_DEFAULTS.copy()\n",
    "enh_cfg = ENHANCE_DEFAULTS.copy()\n",
    "\n",
    "FOV_DEG = sonar_cfg.get('fov_deg', 120.0)\n",
    "RANGE_MIN_M = sonar_cfg.get('range_min_m', 0.0)\n",
    "RANGE_MAX_M = sonar_cfg.get('range_max_m', 30.0)\n",
    "DISPLAY_RANGE_MAX_M = sonar_cfg.get('display_range_max_m', 10.0)\n",
    "FLIP_BEAMS = sonar_cfg.get('flip_beams', True)\n",
    "FLIP_RANGE = sonar_cfg.get('flip_range', False)\n",
    "\n",
    "# Enhancement defaults (display only)\n",
    "USE_ENHANCED = True\n",
    "ENH_SCALE = enh_cfg.get('scale', 'db')\n",
    "ENH_TVG = enh_cfg.get('tvg', 'amplitude')\n",
    "ENH_ALPHA_DB_PER_M = enh_cfg.get('alpha_db_per_m', 0.0)\n",
    "ENH_R0 = enh_cfg.get('r0', 1e-2)\n",
    "ENH_P_LOW = enh_cfg.get('p_low', 1.0)\n",
    "ENH_P_HIGH = enh_cfg.get('p_high', 99.5)\n",
    "ENH_GAMMA = enh_cfg.get('gamma', 0.9)\n",
    "ENH_ZERO_AWARE = enh_cfg.get('zero_aware', True)\n",
    "ENH_EPS_LOG = enh_cfg.get('eps_log', 1e-6)\n",
    "\n",
    "# Visuals / sizes from central defaults (override if needed)\n",
    "CONE_W = sonar_cfg.get('cone_w', CONE_W_DEFAULT)\n",
    "CONE_H = sonar_cfg.get('cone_h', CONE_H_DEFAULT)\n",
    "VIDEO_HEIGHT = CONE_H\n",
    "PAD_BETWEEN = sonar_cfg.get('pad_between', 8)\n",
    "FONT_SCALE = sonar_cfg.get('font_scale', 0.55)\n",
    "CONE_FLIP_VERTICAL = sonar_cfg.get('cone_flip_vertical', CONE_FLIP_VERTICAL_DEFAULT)\n",
    "\n",
    "# Run the export (uncomment the call below to execute) - review params before running\n",
    "export_optimized_sonar_video(TARGET_BAG, EXPORTS_FOLDER, START_IDX=START_IDX, END_IDX=END_IDX, STRIDE=STRIDE, VIDEO_SEQ_DIR=VIDEO_SEQ_DIR, VIDEO_HEIGHT=VIDEO_HEIGHT, PAD_BETWEEN=PAD_BETWEEN, FONT_SCALE=FONT_SCALE, FOV_DEG=FOV_DEG, RANGE_MIN_M=RANGE_MIN_M, RANGE_MAX_M=RANGE_MAX_M, DISPLAY_RANGE_MAX_M=DISPLAY_RANGE_MAX_M, FLIP_BEAMS=FLIP_BEAMS, FLIP_RANGE=FLIP_RANGE, USE_ENHANCED=USE_ENHANCED, ENH_SCALE=ENH_SCALE, ENH_TVG=ENH_TVG, ENH_ALPHA_DB_PER_M=ENH_ALPHA_DB_PER_M, ENH_R0=ENH_R0, ENH_P_LOW=ENH_P_LOW, ENH_P_HIGH=ENH_P_HIGH, ENH_GAMMA=ENH_GAMMA, ENH_ZERO_AWARE=ENH_ZERO_AWARE, ENH_EPS_LOG=ENH_EPS_LOG, CONE_W=CONE_W, CONE_H=CONE_H, CONE_FLIP_VERTICAL=CONE_FLIP_VERTICAL)\n"
   ]
  },
  {
   "cell_type": "markdown",
   "id": "0b5071b3",
   "metadata": {},
   "source": [
    "## 📋 SOLAQUA Dataset Overview\n",
    "\n",
    "### 🌊 Available Experimental Datasets\n",
    "\n",
    "| Bag ID | Date | Type | D0 | D1 | Z | V | rmax | Comment |\n",
    "|--------|------|------|----|----|---|---|------|---------|\n",
    "| `2024-08-20_13-39-34` | 2024-08-20 | Calibration | 1.5 | 1.5 | 2 | 0.2 | 20m | Stereo camera calibration |\n",
    "| `2024-08-20_13-40-35` | 2024-08-20 | Calibration | 1.5 | 1.5 | 2 | 0.2 | 20m | Stereo camera calibration |\n",
    "| `2024-08-22_14-06-43` | 2024-08-22 | Multi-DVL NFH | 0.5-1.0 | - | 2 | 0.2 | 20m | Early multi-DVL experiment |\n",
    "| `2024-08-22_14-29-05` | 2024-08-22 | Multi-DVL NFH | 0.6-0.8 | - | 2 | 0.1 | 20m | Optimized multi-DVL |\n",
    "| `2024-08-22_14-47-39` | 2024-08-22 | Multi-DVL NFH | 0.6 | 0.6 | 2 | 0.1 | 20m | Constant distance experiment |\n",
    "\n",
    "### 📊 Parameter Definitions:\n",
    "- **D0/D1**: Initial/Final desired distance to net [m]\n",
    "- **Z**: Depth [m] \n",
    "- **V**: Net-relative velocity [m/s]\n",
    "- **rmax**: Sonar maximum range [m]\n",
    "- **NFH**: Net Following Horizontal\n",
    "- **Multi-DVL**: Experiments using Waterlinked A50 + Nortek Nucleus 1000 DVLs\n",
    "\n",
    "### 🎯 Available Sensor Data:\n",
    "IMU, Gyroscope, DVL, USBL, Multibeam sonar, Ping 360 sonar, Mono/Stereo cameras, Depth/Pressure/Temperature sensors\n",
    "\n",
    "---"
   ]
  }
 ],
 "metadata": {
  "kernelspec": {
   "display_name": "venv",
   "language": "python",
   "name": "python3"
  },
  "language_info": {
   "codemirror_mode": {
    "name": "ipython",
    "version": 3
   },
   "file_extension": ".py",
   "mimetype": "text/x-python",
   "name": "python",
   "nbconvert_exporter": "python",
   "pygments_lexer": "ipython3",
   "version": "3.13.5"
  }
 },
 "nbformat": 4,
 "nbformat_minor": 5
}
