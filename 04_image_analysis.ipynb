{
 "cells": [
  {
   "cell_type": "code",
   "execution_count": 28,
   "id": "7a8d02c0",
   "metadata": {},
   "outputs": [],
   "source": [
    "from pathlib import Path\n",
    "import utils.sonar_analysis as iau\n",
    "import importlib\n",
    "importlib.reload(iau)\n",
    "\n",
    "# Centralized sonar defaults (inserted by sweep)\n",
    "from utils.config import SONAR_VIS_DEFAULTS\n",
    "config = SONAR_VIS_DEFAULTS.copy()\n",
    "# Backwards-compatible variable names used in older notebooks\n",
    "RANGE_MIN_M = config['range_min_m']\n",
    "RANGE_MAX_M = config['range_max_m']\n",
    "DISPLAY_RANGE_MAX_M = config['display_range_max_m']"
   ]
  },
  {
   "cell_type": "markdown",
   "id": "9220eb1d",
   "metadata": {},
   "source": [
    "# Simple Image Analysis with CV2\n",
    "\n",
    "This notebook demonstrates:\n",
    "1. **Pick a frame** from NPZ files and save it locally\n",
    "2. **Use standard cv2 functions** directly for image processing\n",
    "3. **Experiment** with different OpenCV operations"
   ]
  },
  {
   "cell_type": "code",
   "execution_count": 29,
   "id": "4b3e8f46",
   "metadata": {},
   "outputs": [
    {
     "name": "stdout",
     "output_type": "stream",
     "text": [
      "Using DATA_DIR = /Volumes/LaCie/SOLAQUA/raw_data\n"
     ]
    }
   ],
   "source": [
    "# Prefer selecting by bag ID (part of the NPZ filename) instead of a numeric index.\n",
    "# Set TARGET_BAG to a substring that appears in the NPZ filename \n",
    "# '2024-08-22_14-47-39' #1\n",
    "# '2024-08-22_14-29-05' #2\n",
    "# '2024-08-20_14-22-12' #3\n",
    "# '2024-08-20_14-31-29' #4\n",
    "# '2024-08-20_18-47-40' #5\n",
    "# '2024-08-20_13-55-34' #6\n",
    "# '2024-08-20_13-57-42' #7\n",
    "# '2024-08-20_17-02-00' #8\n",
    "TARGET_BAG = '2024-08-20_17-02-00'  # change this to your desired bag ID\n",
    "from utils.config import EXPORTS_DIR_DEFAULT, EXPORTS_SUBDIRS\n",
    "EXPORTS_FOLDER = Path(EXPORTS_DIR_DEFAULT)\n",
    "\n",
    "# If you keep your raw .bag files or raw data on an external drive, point DATA_DIR there.\n",
    "# Example (your external disk): /Volumes/LaCie/SOLAQUA/raw_data\n",
    "DATA_DIR = Path(\"/Volumes/LaCie/SOLAQUA/raw_data\")\n",
    "print(f\"Using DATA_DIR = {DATA_DIR}\")\n",
    "\n",
    "# NOTE: To export data for this specific bag, use:\n",
    "# python scripts/solaqua_export.py --data-dir /Volumes/LaCie/SOLAQUA/raw_data --exports-dir /Volumes/LaCie/SOLAQUA/exports --bag-stem 2024-08-20_17-02-00 --all\n",
    "\n",
    "# Find NPZ files and pick the one matching TARGET_BAG\n",
    "files = iau.get_available_npz_files()\n",
    "if not files:\n",
    "    raise FileNotFoundError(f\"No NPZ files found in configured exports outputs (looked under {EXPORTS_FOLDER / EXPORTS_SUBDIRS.get('outputs','outputs')})\")\n",
    "matches = [p for p in files if TARGET_BAG in p.name]\n",
    "if not matches:\n",
    "    # Help the user by listing available NPZ files\n",
    "    print(f'No NPZ file matched TARGET_BAG={TARGET_BAG!r}')\n",
    "    print('Available NPZ files:')\n",
    "    for i,p in enumerate(files):\n",
    "        print(f'  {i}: {p.name}')\n",
    "    raise ValueError(f'No NPZ file contains \"{TARGET_BAG}\" in its name')\n",
    "\n",
    "# If multiple matches, choose the most recently modified one\n",
    "selected = max(matches, key=lambda p: p.stat().st_mtime)\n",
    "NPZ_FILE_INDEX = files.index(selected)"
   ]
  },
  {
   "cell_type": "markdown",
   "id": "0c65358c",
   "metadata": {},
   "source": [
    "## Distance Analysis Over Time\n",
    "\n",
    "Now let's perform a comprehensive analysis of the red line distance over time. The red line represents the major axis of the detected elongated contour (likely a fishing net), and we'll track how this distance changes throughout the video sequence."
   ]
  },
  {
   "cell_type": "code",
   "execution_count": 30,
   "id": "b9c5da85",
   "metadata": {},
   "outputs": [
    {
     "name": "stdout",
     "output_type": "stream",
     "text": [
      "GENERATING CONTOUR DETECTION PIPELINE VIDEO\n",
      "============================================================\n",
      "=== CONTOUR DETECTION PIPELINE VIDEO (Using analyze_npz_sequence Methods) ===\n",
      "Processing 472 frames...\n",
      "Output grid (3x2):\n",
      "  Row 1: Raw Sonar | Preprocessed Edges\n",
      "  Row 2: After Morphology | After Dilation\n",
      "  Row 3: All Contours + AOI | Best Contour + Ellipse\n",
      "Processed 50/472 frames\n",
      "Processed 100/472 frames\n",
      "Processed 150/472 frames\n",
      "Processed 200/472 frames\n",
      "Processed 250/472 frames\n",
      "Processed 300/472 frames\n",
      "Processed 350/472 frames\n",
      "Processed 400/472 frames\n",
      "Processed 450/472 frames\n",
      "\n",
      "✓ Contour detection video saved to: /Volumes/LaCie/SOLAQUA/exports/videos/net_detection_pipeline.mp4\n",
      "\n",
      "Grid layout (3x2) - showing exact pipeline from analyze_npz_sequence:\n",
      "  Row 1:\n",
      "    1. Raw sonar frame from NPZ\n",
      "    2. preprocess_edges() output\n",
      "  Row 2:\n",
      "    3. After morphology close\n",
      "    4. After dilation\n",
      "  Row 3:\n",
      "    5. All contours (blue) + AOI boundary (green)\n",
      "    6. Best contour (green) + fitted ellipse (magenta) + major axis (red line)\n",
      "\n",
      "This video shows the EXACT same analysis pipeline used in analyze_npz_sequence()\n"
     ]
    }
   ],
   "source": [
    "# Import video generation module\n",
    "import utils.video_generation as sg\n",
    "import importlib\n",
    "importlib.reload(sg)\n",
    "\n",
    "print(\"GENERATING CONTOUR DETECTION PIPELINE VIDEO\")\n",
    "print(\"=\" * 60)\n",
    "\n",
    "# Generate contour detection video showing the exact analysis pipeline\n",
    "try:\n",
    "    video_path = sg.create_enhanced_contour_detection_video(\n",
    "        npz_file_index=NPZ_FILE_INDEX,          \n",
    "        frame_start=1,           \n",
    "        frame_count=500,         \n",
    "        frame_step=2,            \n",
    "        output_path=str(Path(EXPORTS_DIR_DEFAULT) / EXPORTS_SUBDIRS.get('videos','videos') / 'net_detection_pipeline.mp4')\n",
    "    )\n",
    "    \n",
    "except Exception as e:\n",
    "    print(f\"❌ Video generation failed: {e}\")\n",
    "    import traceback\n",
    "    traceback.print_exc()"
   ]
  },
  {
   "cell_type": "code",
   "execution_count": 31,
   "id": "d9c0382e",
   "metadata": {},
   "outputs": [
    {
     "name": "stdout",
     "output_type": "stream",
     "text": [
      "\n",
      "============================================================\n",
      "ANALYZING DISTANCE OVER TIME\n",
      "============================================================\n",
      "=== DISTANCE ANALYSIS FROM NPZ ===\n",
      "Processing 944 frames from 1 (step=1)\n",
      "\n",
      "=== ANALYSIS COMPLETE ===\n",
      "Total frames: 944, Successful: 944 (100.0%)\n",
      "Distance (meters): mean=1.312, std=0.807\n",
      "Analysis results saved to: /Volumes/LaCie/SOLAQUA/exports/outputs/2024-08-20_17-02-00_data_cones_analysis_results.csv\n"
     ]
    }
   ],
   "source": [
    "# Analyze distance over time using functional API\n",
    "print(\"\\n\" + \"=\" * 60)\n",
    "print(\"ANALYZING DISTANCE OVER TIME\")\n",
    "print(\"=\" * 60)\n",
    "\n",
    "net_analysis_results = iau.analyze_npz_sequence(\n",
    "    npz_file_index=NPZ_FILE_INDEX,    \n",
    "    frame_start=1,        # Start from frame 1\n",
    "    frame_count=1500,      # Analyze all frames from the video\n",
    "    frame_step=1,          # Every frame\n",
    "    save_outputs=True      # Save outputs to CSV and NPZ\n",
    ")"
   ]
  },
  {
   "cell_type": "code",
   "execution_count": 32,
   "id": "0bd5183d",
   "metadata": {},
   "outputs": [
    {
     "data": {
      "text/plain": [
       "Index(['frame_index', 'timestamp', 'distance_pixels', 'angle_degrees',\n",
       "       'distance_meters', 'detection_success', 'tracking_status', 'area',\n",
       "       'aspect_ratio', 'ellipse_elongation', 'rect', 'centroid_x',\n",
       "       'centroid_y'],\n",
       "      dtype='object')"
      ]
     },
     "execution_count": 32,
     "metadata": {},
     "output_type": "execute_result"
    }
   ],
   "source": [
    "net_analysis_results.columns"
   ]
  },
  {
   "cell_type": "markdown",
   "id": "fede9d64",
   "metadata": {},
   "source": [
    "## Convert to Real-World Distances\n",
    "\n",
    "Now let's convert the pixel distances to real-world distances using the fact that the entire sonar image represents a 10x10 meter area."
   ]
  },
  {
   "cell_type": "code",
   "execution_count": 33,
   "id": "886897de",
   "metadata": {},
   "outputs": [
    {
     "name": "stdout",
     "output_type": "stream",
     "text": [
      "Using pixels_to_meters_avg = 0.016765 m/px\n",
      "Mapping source: npz_metadata\n"
     ]
    }
   ],
   "source": [
    "# Auto-detect pixel->meter mapping from the selected NPZ using utils function\n",
    "from utils.sonar_utils import get_pixel_to_meter_mapping\n",
    "mapping_info = get_pixel_to_meter_mapping(selected)\n",
    "\n",
    "# Extract commonly used variables for backwards compatibility\n",
    "pixels_to_meters_avg = mapping_info['pixels_to_meters_avg']\n",
    "image_shape = mapping_info['image_shape'] \n",
    "sonar_coverage_meters = mapping_info['sonar_coverage_meters']\n",
    "\n",
    "print(f\"Using pixels_to_meters_avg = {pixels_to_meters_avg:.6f} m/px\")\n",
    "print(f\"Mapping source: {mapping_info['source']}\")"
   ]
  },
  {
   "cell_type": "code",
   "execution_count": 34,
   "id": "15d6238c",
   "metadata": {},
   "outputs": [
    {
     "data": {
      "application/vnd.plotly.v1+json": {
       "config": {
        "plotlyServerURL": "https://plot.ly"
       },
       "data": [
        {
         "line": {
          "color": "blue"
         },
         "mode": "lines+markers",
         "name": "Distance",
         "type": "scatter",
         "x": {
          "bdata": "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",
          "dtype": "i2"
         },
         "xaxis": "x",
         "y": {
          "bdata": "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",
          "dtype": "f8"
         },
         "yaxis": "y"
        },
        {
         "line": {
          "color": "green"
         },
         "mode": "lines+markers",
         "name": "Over Time",
         "type": "scatter",
         "x": [
          "2024-08-20T15:02:03.319382668",
          "2024-08-20T15:02:03.405480623",
          "2024-08-20T15:02:03.458926201",
          "2024-08-20T15:02:03.505110979",
          "2024-08-20T15:02:03.609708309",
          "2024-08-20T15:02:03.678177118",
          "2024-08-20T15:02:03.741356611",
          "2024-08-20T15:02:03.792009115",
          "2024-08-20T15:02:03.846092939",
          "2024-08-20T15:02:03.902281761",
          "2024-08-20T15:02:04.086481810",
          "2024-08-20T15:02:04.100424767",
          "2024-08-20T15:02:04.152793884",
          "2024-08-20T15:02:04.202293396",
          "2024-08-20T15:02:04.257944583",
          "2024-08-20T15:02:04.315842390",
          "2024-08-20T15:02:04.354002953",
          "2024-08-20T15:02:04.418097496",
          "2024-08-20T15:02:04.460487843",
          "2024-08-20T15:02:04.520919323",
          "2024-08-20T15:02:04.586270809",
          "2024-08-20T15:02:04.647171021",
          "2024-08-20T15:02:04.712663174",
          "2024-08-20T15:02:04.801765203",
          "2024-08-20T15:02:04.849609375",
          "2024-08-20T15:02:04.905240774",
          "2024-08-20T15:02:04.978989840",
          "2024-08-20T15:02:05.035968065",
          "2024-08-20T15:02:05.119496584",
          "2024-08-20T15:02:05.162311792",
          "2024-08-20T15:02:05.233328342",
          "2024-08-20T15:02:05.291502237",
          "2024-08-20T15:02:05.355968714",
          "2024-08-20T15:02:05.420989513",
          "2024-08-20T15:02:05.493349552",
          "2024-08-20T15:02:05.554372549",
          "2024-08-20T15:02:05.611735821",
          "2024-08-20T15:02:05.684974670",
          "2024-08-20T15:02:05.740617037",
          "2024-08-20T15:02:05.800923586",
          "2024-08-20T15:02:05.894599199",
          "2024-08-20T15:02:05.934297085",
          "2024-08-20T15:02:05.995323420",
          "2024-08-20T15:02:06.072461367",
          "2024-08-20T15:02:06.123364925",
          "2024-08-20T15:02:06.183022022",
          "2024-08-20T15:02:06.258321047",
          "2024-08-20T15:02:06.337062359",
          "2024-08-20T15:02:06.437871456",
          "2024-08-20T15:02:06.500073910",
          "2024-08-20T15:02:06.553930998",
          "2024-08-20T15:02:06.602186441",
          "2024-08-20T15:02:06.661056757",
          "2024-08-20T15:02:06.723252773",
          "2024-08-20T15:02:06.767759323",
          "2024-08-20T15:02:06.825304508",
          "2024-08-20T15:02:06.900381327",
          "2024-08-20T15:02:06.953545570",
          "2024-08-20T15:02:07.019463301",
          "2024-08-20T15:02:07.082802057",
          "2024-08-20T15:02:07.148806810",
          "2024-08-20T15:02:07.225367069",
          "2024-08-20T15:02:07.287548780",
          "2024-08-20T15:02:07.346837044",
          "2024-08-20T15:02:07.404702902",
          "2024-08-20T15:02:07.473433733",
          "2024-08-20T15:02:07.531546116",
          "2024-08-20T15:02:07.594927073",
          "2024-08-20T15:02:07.659075260",
          "2024-08-20T15:02:07.722234011",
          "2024-08-20T15:02:07.787806273",
          "2024-08-20T15:02:07.853889227",
          "2024-08-20T15:02:07.915701151",
          "2024-08-20T15:02:08.024667978",
          "2024-08-20T15:02:08.074301004",
          "2024-08-20T15:02:08.142426729",
          "2024-08-20T15:02:08.195958614",
          "2024-08-20T15:02:08.260633230",
          "2024-08-20T15:02:08.313341618",
          "2024-08-20T15:02:08.369414568",
          "2024-08-20T15:02:08.426076412",
          "2024-08-20T15:02:08.497674465",
          "2024-08-20T15:02:08.550859928",
          "2024-08-20T15:02:08.617468834",
          "2024-08-20T15:02:08.684263468",
          "2024-08-20T15:02:08.747846603",
          "2024-08-20T15:02:08.806670189",
          "2024-08-20T15:02:08.877762556",
          "2024-08-20T15:02:08.935708284",
          "2024-08-20T15:02:09.004830599",
          "2024-08-20T15:02:09.066636800",
          "2024-08-20T15:02:09.127972364",
          "2024-08-20T15:02:09.195428133",
          "2024-08-20T15:02:09.258732796",
          "2024-08-20T15:02:09.322979450",
          "2024-08-20T15:02:09.388846636",
          "2024-08-20T15:02:09.455889225",
          "2024-08-20T15:02:09.517638445",
          "2024-08-20T15:02:09.576431036",
          "2024-08-20T15:02:09.640974283",
          "2024-08-20T15:02:09.706049681",
          "2024-08-20T15:02:09.776943207",
          "2024-08-20T15:02:09.844408751",
          "2024-08-20T15:02:09.913848400",
          "2024-08-20T15:02:09.964217663",
          "2024-08-20T15:02:10.023548603",
          "2024-08-20T15:02:10.089924812",
          "2024-08-20T15:02:10.158896923",
          "2024-08-20T15:02:10.216018438",
          "2024-08-20T15:02:10.282464027",
          "2024-08-20T15:02:10.346537590",
          "2024-08-20T15:02:10.410078526",
          "2024-08-20T15:02:10.475857496",
          "2024-08-20T15:02:10.538304090",
          "2024-08-20T15:02:10.608801603",
          "2024-08-20T15:02:10.672032833",
          "2024-08-20T15:02:10.732135057",
          "2024-08-20T15:02:10.800167561",
          "2024-08-20T15:02:10.863806009",
          "2024-08-20T15:02:10.930808067",
          "2024-08-20T15:02:10.986194849",
          "2024-08-20T15:02:11.056145191",
          "2024-08-20T15:02:11.114486694",
          "2024-08-20T15:02:11.179707050",
          "2024-08-20T15:02:11.240445137",
          "2024-08-20T15:02:11.307287455",
          "2024-08-20T15:02:11.374160051",
          "2024-08-20T15:02:11.435974360",
          "2024-08-20T15:02:11.507108927",
          "2024-08-20T15:02:11.561276674",
          "2024-08-20T15:02:11.625485897",
          "2024-08-20T15:02:11.688947201",
          "2024-08-20T15:02:11.760122776",
          "2024-08-20T15:02:11.821008444",
          "2024-08-20T15:02:11.890764475",
          "2024-08-20T15:02:11.949049711",
          "2024-08-20T15:02:12.016218661",
          "2024-08-20T15:02:12.072448015",
          "2024-08-20T15:02:12.135240555",
          "2024-08-20T15:02:12.201061964",
          "2024-08-20T15:02:12.264262915",
          "2024-08-20T15:02:12.328293800",
          "2024-08-20T15:02:12.399371147",
          "2024-08-20T15:02:12.461815596",
          "2024-08-20T15:02:12.518969535",
          "2024-08-20T15:02:12.584862709",
          "2024-08-20T15:02:12.661695242",
          "2024-08-20T15:02:12.716780424",
          "2024-08-20T15:02:12.782329559",
          "2024-08-20T15:02:12.843914032",
          "2024-08-20T15:02:12.903848648",
          "2024-08-20T15:02:12.968052626",
          "2024-08-20T15:02:13.031479120",
          "2024-08-20T15:02:13.145377159",
          "2024-08-20T15:02:13.203678846",
          "2024-08-20T15:02:13.263162613",
          "2024-08-20T15:02:13.322014570",
          "2024-08-20T15:02:13.371045828",
          "2024-08-20T15:02:13.431981087",
          "2024-08-20T15:02:13.487802029",
          "2024-08-20T15:02:13.544198990",
          "2024-08-20T15:02:13.611216068",
          "2024-08-20T15:02:13.672913074",
          "2024-08-20T15:02:13.745206833",
          "2024-08-20T15:02:13.800183296",
          "2024-08-20T15:02:13.872680902",
          "2024-08-20T15:02:13.936649084",
          "2024-08-20T15:02:13.996327162",
          "2024-08-20T15:02:14.061575413",
          "2024-08-20T15:02:14.126532793",
          "2024-08-20T15:02:14.185605764",
          "2024-08-20T15:02:14.271306515",
          "2024-08-20T15:02:14.348901987",
          "2024-08-20T15:02:14.394125223",
          "2024-08-20T15:02:14.467455149",
          "2024-08-20T15:02:14.505803823",
          "2024-08-20T15:02:14.570301533",
          "2024-08-20T15:02:14.634587526",
          "2024-08-20T15:02:14.696284771",
          "2024-08-20T15:02:14.774227142",
          "2024-08-20T15:02:14.829032898",
          "2024-08-20T15:02:14.913076639",
          "2024-08-20T15:02:14.954526663",
          "2024-08-20T15:02:15.022917747",
          "2024-08-20T15:02:15.080084562",
          "2024-08-20T15:02:15.143835068",
          "2024-08-20T15:02:15.210468531",
          "2024-08-20T15:02:15.274260998",
          "2024-08-20T15:02:15.338841438",
          "2024-08-20T15:02:15.414268494",
          "2024-08-20T15:02:15.473277569",
          "2024-08-20T15:02:15.549124241",
          "2024-08-20T15:02:15.596066475",
          "2024-08-20T15:02:15.661518097",
          "2024-08-20T15:02:15.723046780",
          "2024-08-20T15:02:15.784467936",
          "2024-08-20T15:02:15.849677324",
          "2024-08-20T15:02:15.922968149",
          "2024-08-20T15:02:15.976027012",
          "2024-08-20T15:02:16.040674448",
          "2024-08-20T15:02:16.103974104",
          "2024-08-20T15:02:16.227833509",
          "2024-08-20T15:02:16.287337780",
          "2024-08-20T15:02:16.326759815",
          "2024-08-20T15:02:16.387101173",
          "2024-08-20T15:02:16.444554567",
          "2024-08-20T15:02:16.492290735",
          "2024-08-20T15:02:16.551457167",
          "2024-08-20T15:02:16.617150307",
          "2024-08-20T15:02:16.681065559",
          "2024-08-20T15:02:16.744091988",
          "2024-08-20T15:02:16.812081575",
          "2024-08-20T15:02:16.891238928",
          "2024-08-20T15:02:16.938555717",
          "2024-08-20T15:02:17.001221180",
          "2024-08-20T15:02:17.072429419",
          "2024-08-20T15:02:17.137677193",
          "2024-08-20T15:02:17.194078922",
          "2024-08-20T15:02:17.268404484",
          "2024-08-20T15:02:17.319498301",
          "2024-08-20T15:02:17.385424137",
          "2024-08-20T15:02:17.451843739",
          "2024-08-20T15:02:17.512377262",
          "2024-08-20T15:02:17.590619087",
          "2024-08-20T15:02:17.643316269",
          "2024-08-20T15:02:17.707903624",
          "2024-08-20T15:02:17.783972502",
          "2024-08-20T15:02:17.835364819",
          "2024-08-20T15:02:17.896744251",
          "2024-08-20T15:02:18.100656986",
          "2024-08-20T15:02:18.114543915",
          "2024-08-20T15:02:18.170460939",
          "2024-08-20T15:02:18.227427483",
          "2024-08-20T15:02:18.277421713",
          "2024-08-20T15:02:18.324504375",
          "2024-08-20T15:02:18.379124880",
          "2024-08-20T15:02:18.435323238",
          "2024-08-20T15:02:18.477159023",
          "2024-08-20T15:02:18.539041758",
          "2024-08-20T15:02:18.601981401",
          "2024-08-20T15:02:18.665370226",
          "2024-08-20T15:02:18.732744455",
          "2024-08-20T15:02:18.793458700",
          "2024-08-20T15:02:18.857421398",
          "2024-08-20T15:02:18.927323580",
          "2024-08-20T15:02:18.984479666",
          "2024-08-20T15:02:19.060393810",
          "2024-08-20T15:02:19.115445375",
          "2024-08-20T15:02:19.182053566",
          "2024-08-20T15:02:19.243398190",
          "2024-08-20T15:02:19.304740191",
          "2024-08-20T15:02:19.374708176",
          "2024-08-20T15:02:19.439968586",
          "2024-08-20T15:02:19.500493765",
          "2024-08-20T15:02:19.566367149",
          "2024-08-20T15:02:19.631720781",
          "2024-08-20T15:02:19.691996813",
          "2024-08-20T15:02:19.752685785",
          "2024-08-20T15:02:19.819993973",
          "2024-08-20T15:02:19.889420986",
          "2024-08-20T15:02:19.945078850",
          "2024-08-20T15:02:20.016147852",
          "2024-08-20T15:02:20.082740068",
          "2024-08-20T15:02:20.140391588",
          "2024-08-20T15:02:20.211611986",
          "2024-08-20T15:02:20.267622232",
          "2024-08-20T15:02:20.329037428",
          "2024-08-20T15:02:20.400877476",
          "2024-08-20T15:02:20.459259510",
          "2024-08-20T15:02:20.522083521",
          "2024-08-20T15:02:20.600039244",
          "2024-08-20T15:02:20.650019407",
          "2024-08-20T15:02:20.712558985",
          "2024-08-20T15:02:20.780246735",
          "2024-08-20T15:02:20.843518734",
          "2024-08-20T15:02:20.902980566",
          "2024-08-20T15:02:20.969496489",
          "2024-08-20T15:02:21.043545246",
          "2024-08-20T15:02:21.098949909",
          "2024-08-20T15:02:21.163802147",
          "2024-08-20T15:02:21.232574224",
          "2024-08-20T15:02:21.292226315",
          "2024-08-20T15:02:21.412611485",
          "2024-08-20T15:02:21.461090326",
          "2024-08-20T15:02:21.514377594",
          "2024-08-20T15:02:21.585579634",
          "2024-08-20T15:02:21.630430222",
          "2024-08-20T15:02:21.681182384",
          "2024-08-20T15:02:21.743328810",
          "2024-08-20T15:02:21.801466227",
          "2024-08-20T15:02:21.868949175",
          "2024-08-20T15:02:21.930560350",
          "2024-08-20T15:02:21.992127419",
          "2024-08-20T15:02:22.057843924",
          "2024-08-20T15:02:22.123460770",
          "2024-08-20T15:02:22.190582037",
          "2024-08-20T15:02:22.385959625",
          "2024-08-20T15:02:22.406623125",
          "2024-08-20T15:02:22.459173679",
          "2024-08-20T15:02:22.508291483",
          "2024-08-20T15:02:22.560722351",
          "2024-08-20T15:02:22.607272863",
          "2024-08-20T15:02:22.661085129",
          "2024-08-20T15:02:22.698955536",
          "2024-08-20T15:02:22.759381771",
          "2024-08-20T15:02:22.825728893",
          "2024-08-20T15:02:22.895782709",
          "2024-08-20T15:02:22.956181049",
          "2024-08-20T15:02:23.021456003",
          "2024-08-20T15:02:23.080005169",
          "2024-08-20T15:02:23.144580126",
          "2024-08-20T15:02:23.207614899",
          "2024-08-20T15:02:23.289229631",
          "2024-08-20T15:02:23.349857807",
          "2024-08-20T15:02:23.400171995",
          "2024-08-20T15:02:23.468316317",
          "2024-08-20T15:02:23.529410362",
          "2024-08-20T15:02:23.599021673",
          "2024-08-20T15:02:23.659621239",
          "2024-08-20T15:02:23.730462790",
          "2024-08-20T15:02:23.790312529",
          "2024-08-20T15:02:23.850436687",
          "2024-08-20T15:02:23.913272858",
          "2024-08-20T15:02:24.029149055",
          "2024-08-20T15:02:24.045118809",
          "2024-08-20T15:02:24.106728792",
          "2024-08-20T15:02:24.170419931",
          "2024-08-20T15:02:24.233547926",
          "2024-08-20T15:02:24.304278612",
          "2024-08-20T15:02:24.375125885",
          "2024-08-20T15:02:24.426752806",
          "2024-08-20T15:02:24.496708155",
          "2024-08-20T15:02:24.554205656",
          "2024-08-20T15:02:24.617552519",
          "2024-08-20T15:02:24.686195135",
          "2024-08-20T15:02:24.760207415",
          "2024-08-20T15:02:24.807860136",
          "2024-08-20T15:02:24.876455545",
          "2024-08-20T15:02:24.941790581",
          "2024-08-20T15:02:25.008382558",
          "2024-08-20T15:02:25.066074371",
          "2024-08-20T15:02:25.140570402",
          "2024-08-20T15:02:25.205810308",
          "2024-08-20T15:02:25.257520914",
          "2024-08-20T15:02:25.333059788",
          "2024-08-20T15:02:25.394671440",
          "2024-08-20T15:02:25.450978041",
          "2024-08-20T15:02:25.514000653",
          "2024-08-20T15:02:25.586850882",
          "2024-08-20T15:02:25.641273737",
          "2024-08-20T15:02:25.706361294",
          "2024-08-20T15:02:25.772564888",
          "2024-08-20T15:02:25.834031105",
          "2024-08-20T15:02:25.896715164",
          "2024-08-20T15:02:25.989979267",
          "2024-08-20T15:02:26.024762392",
          "2024-08-20T15:02:26.089249611",
          "2024-08-20T15:02:26.188222408",
          "2024-08-20T15:02:26.218493223",
          "2024-08-20T15:02:26.281080246",
          "2024-08-20T15:02:26.349369526",
          "2024-08-20T15:02:26.408915758",
          "2024-08-20T15:02:26.476541281",
          "2024-08-20T15:02:26.537716150",
          "2024-08-20T15:02:26.606913328",
          "2024-08-20T15:02:26.671022177",
          "2024-08-20T15:02:26.728426933",
          "2024-08-20T15:02:26.792001247",
          "2024-08-20T15:02:26.856270075",
          "2024-08-20T15:02:26.922894239",
          "2024-08-20T15:02:26.982944012",
          "2024-08-20T15:02:27.062229872",
          "2024-08-20T15:02:27.117772818",
          "2024-08-20T15:02:27.176681280",
          "2024-08-20T15:02:27.241223097",
          "2024-08-20T15:02:27.306010246",
          "2024-08-20T15:02:27.374457359",
          "2024-08-20T15:02:27.444693565",
          "2024-08-20T15:02:27.507872105",
          "2024-08-20T15:02:27.562695265",
          "2024-08-20T15:02:27.624082088",
          "2024-08-20T15:02:27.690708160",
          "2024-08-20T15:02:27.756972313",
          "2024-08-20T15:02:27.817291260",
          "2024-08-20T15:02:27.887534618",
          "2024-08-20T15:02:27.956670761",
          "2024-08-20T15:02:28.015558720",
          "2024-08-20T15:02:28.075350285",
          "2024-08-20T15:02:28.141049147",
          "2024-08-20T15:02:28.206633329",
          "2024-08-20T15:02:28.308828831",
          "2024-08-20T15:02:28.328412294",
          "2024-08-20T15:02:28.393704653",
          "2024-08-20T15:02:28.467985153",
          "2024-08-20T15:02:28.521673917",
          "2024-08-20T15:02:28.585394144",
          "2024-08-20T15:02:28.648542881",
          "2024-08-20T15:02:28.713586330",
          "2024-08-20T15:02:28.775563002",
          "2024-08-20T15:02:28.858064651",
          "2024-08-20T15:02:28.909208536",
          "2024-08-20T15:02:28.967791796",
          "2024-08-20T15:02:29.044754267",
          "2024-08-20T15:02:29.101896763",
          "2024-08-20T15:02:29.174269199",
          "2024-08-20T15:02:29.223347902",
          "2024-08-20T15:02:29.288270235",
          "2024-08-20T15:02:29.357653856",
          "2024-08-20T15:02:29.429944754",
          "2024-08-20T15:02:29.481639624",
          "2024-08-20T15:02:29.551261902",
          "2024-08-20T15:02:29.619050741",
          "2024-08-20T15:02:29.672195196",
          "2024-08-20T15:02:29.743817329",
          "2024-08-20T15:02:29.802409649",
          "2024-08-20T15:02:29.870204210",
          "2024-08-20T15:02:29.929674625",
          "2024-08-20T15:02:29.993205070",
          "2024-08-20T15:02:30.063259840",
          "2024-08-20T15:02:30.121053696",
          "2024-08-20T15:02:30.184971809",
          "2024-08-20T15:02:30.253999472",
          "2024-08-20T15:02:30.319680214",
          "2024-08-20T15:02:30.376842976",
          "2024-08-20T15:02:30.445385218",
          "2024-08-20T15:02:30.511816740",
          "2024-08-20T15:02:30.585410833",
          "2024-08-20T15:02:30.636364937",
          "2024-08-20T15:02:30.698356390",
          "2024-08-20T15:02:30.768208265",
          "2024-08-20T15:02:30.832251787",
          "2024-08-20T15:02:30.893371105",
          "2024-08-20T15:02:30.953153610",
          "2024-08-20T15:02:31.020323038",
          "2024-08-20T15:02:31.085214853",
          "2024-08-20T15:02:31.145336151",
          "2024-08-20T15:02:31.209053040",
          "2024-08-20T15:02:31.275628567",
          "2024-08-20T15:02:31.336674452",
          "2024-08-20T15:02:31.404606342",
          "2024-08-20T15:02:31.474096537",
          "2024-08-20T15:02:31.529267787",
          "2024-08-20T15:02:31.591548443",
          "2024-08-20T15:02:31.669923067",
          "2024-08-20T15:02:31.731186628",
          "2024-08-20T15:02:31.783874989",
          "2024-08-20T15:02:31.853004456",
          "2024-08-20T15:02:31.919548512",
          "2024-08-20T15:02:31.975577593",
          "2024-08-20T15:02:32.044359446",
          "2024-08-20T15:02:32.105341911",
          "2024-08-20T15:02:32.170599937",
          "2024-08-20T15:02:32.233540297",
          "2024-08-20T15:02:32.296683788",
          "2024-08-20T15:02:32.362432957",
          "2024-08-20T15:02:32.424155951",
          "2024-08-20T15:02:32.489302397",
          "2024-08-20T15:02:32.558390856",
          "2024-08-20T15:02:32.622975588",
          "2024-08-20T15:02:32.687146664",
          "2024-08-20T15:02:32.749906301",
          "2024-08-20T15:02:32.807499886",
          "2024-08-20T15:02:32.886009455",
          "2024-08-20T15:02:32.937165022",
          "2024-08-20T15:02:33.000575066",
          "2024-08-20T15:02:33.068406582",
          "2024-08-20T15:02:33.133463621",
          "2024-08-20T15:02:33.192821980",
          "2024-08-20T15:02:33.257572174",
          "2024-08-20T15:02:33.324933767",
          "2024-08-20T15:02:33.388277531",
          "2024-08-20T15:02:33.450236797",
          "2024-08-20T15:02:33.514576435",
          "2024-08-20T15:02:33.577020407",
          "2024-08-20T15:02:33.643186092",
          "2024-08-20T15:02:33.704810858",
          "2024-08-20T15:02:33.786421061",
          "2024-08-20T15:02:33.835893154",
          "2024-08-20T15:02:33.897256136",
          "2024-08-20T15:02:33.968865156",
          "2024-08-20T15:02:34.032231092",
          "2024-08-20T15:02:34.091290712",
          "2024-08-20T15:02:34.152712107",
          "2024-08-20T15:02:34.217556477",
          "2024-08-20T15:02:34.288420200",
          "2024-08-20T15:02:34.344680071",
          "2024-08-20T15:02:34.409139872",
          "2024-08-20T15:02:34.491739273",
          "2024-08-20T15:02:34.536132811",
          "2024-08-20T15:02:34.602285147",
          "2024-08-20T15:02:34.671800137",
          "2024-08-20T15:02:34.739990473",
          "2024-08-20T15:02:34.796599865",
          "2024-08-20T15:02:34.858361244",
          "2024-08-20T15:02:34.923528910",
          "2024-08-20T15:02:34.985959053",
          "2024-08-20T15:02:35.051245689",
          "2024-08-20T15:02:35.114219904",
          "2024-08-20T15:02:35.186524630",
          "2024-08-20T15:02:35.240365982",
          "2024-08-20T15:02:35.307219505",
          "2024-08-20T15:02:35.374120235",
          "2024-08-20T15:02:35.435068607",
          "2024-08-20T15:02:35.502814293",
          "2024-08-20T15:02:35.562094688",
          "2024-08-20T15:02:35.627502203",
          "2024-08-20T15:02:35.687851667",
          "2024-08-20T15:02:35.757017374",
          "2024-08-20T15:02:35.815479517",
          "2024-08-20T15:02:35.883457661",
          "2024-08-20T15:02:35.946527243",
          "2024-08-20T15:02:36.015923262",
          "2024-08-20T15:02:36.076918840",
          "2024-08-20T15:02:36.141477585",
          "2024-08-20T15:02:36.212254047",
          "2024-08-20T15:02:36.269061089",
          "2024-08-20T15:02:36.401069403",
          "2024-08-20T15:02:36.415702820",
          "2024-08-20T15:02:36.476120234",
          "2024-08-20T15:02:36.524751902",
          "2024-08-20T15:02:36.588729620",
          "2024-08-20T15:02:36.656764746",
          "2024-08-20T15:02:36.713495970",
          "2024-08-20T15:02:36.785143852",
          "2024-08-20T15:02:36.856444120",
          "2024-08-20T15:02:36.906286478",
          "2024-08-20T15:02:36.971770048",
          "2024-08-20T15:02:37.038597345",
          "2024-08-20T15:02:37.109313488",
          "2024-08-20T15:02:37.164714336",
          "2024-08-20T15:02:37.241803408",
          "2024-08-20T15:02:37.292017698",
          "2024-08-20T15:02:37.357360601",
          "2024-08-20T15:02:37.419152021",
          "2024-08-20T15:02:37.499569654",
          "2024-08-20T15:02:37.556719780",
          "2024-08-20T15:02:37.612350941",
          "2024-08-20T15:02:37.681804657",
          "2024-08-20T15:02:37.750665426",
          "2024-08-20T15:02:37.800620079",
          "2024-08-20T15:02:37.868513823",
          "2024-08-20T15:02:37.937636137",
          "2024-08-20T15:02:37.997366428",
          "2024-08-20T15:02:38.059195280",
          "2024-08-20T15:02:38.123811483",
          "2024-08-20T15:02:38.192901373",
          "2024-08-20T15:02:38.257703781",
          "2024-08-20T15:02:38.311951876",
          "2024-08-20T15:02:38.380110502",
          "2024-08-20T15:02:38.464016199",
          "2024-08-20T15:02:38.504472017",
          "2024-08-20T15:02:38.570107698",
          "2024-08-20T15:02:38.639117956",
          "2024-08-20T15:02:38.699297428",
          "2024-08-20T15:02:38.763996601",
          "2024-08-20T15:02:38.824991703",
          "2024-08-20T15:02:38.892581224",
          "2024-08-20T15:02:38.955995083",
          "2024-08-20T15:02:39.017602444",
          "2024-08-20T15:02:39.081228971",
          "2024-08-20T15:02:39.150828362",
          "2024-08-20T15:02:39.211597204",
          "2024-08-20T15:02:39.276732683",
          "2024-08-20T15:02:39.349095583",
          "2024-08-20T15:02:39.405489922",
          "2024-08-20T15:02:39.466227055",
          "2024-08-20T15:02:39.533651828",
          "2024-08-20T15:02:39.596955538",
          "2024-08-20T15:02:39.658757210",
          "2024-08-20T15:02:39.721477509",
          "2024-08-20T15:02:39.784847021",
          "2024-08-20T15:02:39.848814726",
          "2024-08-20T15:02:39.913841009",
          "2024-08-20T15:02:39.978740692",
          "2024-08-20T15:02:40.055141687",
          "2024-08-20T15:02:40.105005026",
          "2024-08-20T15:02:40.169577837",
          "2024-08-20T15:02:40.232192516",
          "2024-08-20T15:02:40.301141500",
          "2024-08-20T15:02:40.363980055",
          "2024-08-20T15:02:40.424654245",
          "2024-08-20T15:02:40.502946854",
          "2024-08-20T15:02:40.556308508",
          "2024-08-20T15:02:40.615940809",
          "2024-08-20T15:02:40.682437420",
          "2024-08-20T15:02:40.757077217",
          "2024-08-20T15:02:40.808046103",
          "2024-08-20T15:02:40.883944273",
          "2024-08-20T15:02:40.936366796",
          "2024-08-20T15:02:41.002176762",
          "2024-08-20T15:02:41.074617863",
          "2024-08-20T15:02:41.138268471",
          "2024-08-20T15:02:41.198826551",
          "2024-08-20T15:02:41.258303642",
          "2024-08-20T15:02:41.322492599",
          "2024-08-20T15:02:41.385825157",
          "2024-08-20T15:02:41.453613758",
          "2024-08-20T15:02:41.516478777",
          "2024-08-20T15:02:41.578755617",
          "2024-08-20T15:02:41.664737940",
          "2024-08-20T15:02:41.705242872",
          "2024-08-20T15:02:41.771662712",
          "2024-08-20T15:02:41.836927891",
          "2024-08-20T15:02:41.900242329",
          "2024-08-20T15:02:41.965221167",
          "2024-08-20T15:02:42.025212049",
          "2024-08-20T15:02:42.098856211",
          "2024-08-20T15:02:42.162461996",
          "2024-08-20T15:02:42.216889143",
          "2024-08-20T15:02:42.287718296",
          "2024-08-20T15:02:42.351011038",
          "2024-08-20T15:02:42.412981272",
          "2024-08-20T15:02:42.472959280",
          "2024-08-20T15:02:42.543612480",
          "2024-08-20T15:02:42.602368832",
          "2024-08-20T15:02:42.665592432",
          "2024-08-20T15:02:42.731606722",
          "2024-08-20T15:02:42.796190739",
          "2024-08-20T15:02:42.859025002",
          "2024-08-20T15:02:42.921743631",
          "2024-08-20T15:02:42.987928391",
          "2024-08-20T15:02:43.053850651",
          "2024-08-20T15:02:43.115114450",
          "2024-08-20T15:02:43.178860664",
          "2024-08-20T15:02:43.243556738",
          "2024-08-20T15:02:43.310729265",
          "2024-08-20T15:02:43.371588230",
          "2024-08-20T15:02:43.442394733",
          "2024-08-20T15:02:43.502681493",
          "2024-08-20T15:02:43.565409184",
          "2024-08-20T15:02:43.628380299",
          "2024-08-20T15:02:43.695437431",
          "2024-08-20T15:02:43.765447378",
          "2024-08-20T15:02:43.818656683",
          "2024-08-20T15:02:43.883245230",
          "2024-08-20T15:02:43.945189953",
          "2024-08-20T15:02:44.009675026",
          "2024-08-20T15:02:44.075845480",
          "2024-08-20T15:02:44.135784864",
          "2024-08-20T15:02:44.208365440",
          "2024-08-20T15:02:44.269842625",
          "2024-08-20T15:02:44.344428301",
          "2024-08-20T15:02:44.398745775",
          "2024-08-20T15:02:44.467899084",
          "2024-08-20T15:02:44.522106647",
          "2024-08-20T15:02:44.588603020",
          "2024-08-20T15:02:44.651349545",
          "2024-08-20T15:02:44.713465452",
          "2024-08-20T15:02:44.783766270",
          "2024-08-20T15:02:44.844271421",
          "2024-08-20T15:02:44.909726143",
          "2024-08-20T15:02:44.967473984",
          "2024-08-20T15:02:45.037386656",
          "2024-08-20T15:02:45.102091551",
          "2024-08-20T15:02:45.172166109",
          "2024-08-20T15:02:45.227487087",
          "2024-08-20T15:02:45.292939425",
          "2024-08-20T15:02:45.359697342",
          "2024-08-20T15:02:45.418978930",
          "2024-08-20T15:02:45.487732410",
          "2024-08-20T15:02:45.549961805",
          "2024-08-20T15:02:45.616326571",
          "2024-08-20T15:02:45.677319050",
          "2024-08-20T15:02:45.743819475",
          "2024-08-20T15:02:45.813199043",
          "2024-08-20T15:02:45.865628719",
          "2024-08-20T15:02:45.927272081",
          "2024-08-20T15:02:45.996158838",
          "2024-08-20T15:02:46.067193985",
          "2024-08-20T15:02:46.123626232",
          "2024-08-20T15:02:46.191937923",
          "2024-08-20T15:02:46.251148939",
          "2024-08-20T15:02:46.316469669",
          "2024-08-20T15:02:46.378380537",
          "2024-08-20T15:02:46.441873550",
          "2024-08-20T15:02:46.507786036",
          "2024-08-20T15:02:46.576288223",
          "2024-08-20T15:02:46.638680696",
          "2024-08-20T15:02:46.696688890",
          "2024-08-20T15:02:46.775818586",
          "2024-08-20T15:02:46.827747107",
          "2024-08-20T15:02:46.892245054",
          "2024-08-20T15:02:46.962090015",
          "2024-08-20T15:02:47.024994850",
          "2024-08-20T15:02:47.086260557",
          "2024-08-20T15:02:47.147103310",
          "2024-08-20T15:02:47.215975046",
          "2024-08-20T15:02:47.276088715",
          "2024-08-20T15:02:47.338946819",
          "2024-08-20T15:02:47.408558846",
          "2024-08-20T15:02:47.465504408",
          "2024-08-20T15:02:47.531743525",
          "2024-08-20T15:02:47.598091125",
          "2024-08-20T15:02:47.660308361",
          "2024-08-20T15:02:47.719327927",
          "2024-08-20T15:02:47.785126448",
          "2024-08-20T15:02:47.855172873",
          "2024-08-20T15:02:47.917206287",
          "2024-08-20T15:02:47.978836298",
          "2024-08-20T15:02:48.039448977",
          "2024-08-20T15:02:48.105156898",
          "2024-08-20T15:02:48.170488834",
          "2024-08-20T15:02:48.232907295",
          "2024-08-20T15:02:48.303911448",
          "2024-08-20T15:02:48.424147844",
          "2024-08-20T15:02:48.474778891",
          "2024-08-20T15:02:48.525318146",
          "2024-08-20T15:02:48.574520350",
          "2024-08-20T15:02:48.638705730",
          "2024-08-20T15:02:48.694788933",
          "2024-08-20T15:02:48.756630182",
          "2024-08-20T15:02:48.808746576",
          "2024-08-20T15:02:48.879315853",
          "2024-08-20T15:02:48.940842867",
          "2024-08-20T15:02:49.005152702",
          "2024-08-20T15:02:49.090731144",
          "2024-08-20T15:02:49.145848274",
          "2024-08-20T15:02:49.208703518",
          "2024-08-20T15:02:49.259515047",
          "2024-08-20T15:02:49.325878143",
          "2024-08-20T15:02:49.389034271",
          "2024-08-20T15:02:49.456420183",
          "2024-08-20T15:02:49.513288736",
          "2024-08-20T15:02:49.586161613",
          "2024-08-20T15:02:49.645891190",
          "2024-08-20T15:02:49.706012726",
          "2024-08-20T15:02:49.779233456",
          "2024-08-20T15:02:49.833560228",
          "2024-08-20T15:02:49.898226023",
          "2024-08-20T15:02:49.967815876",
          "2024-08-20T15:02:50.028273582",
          "2024-08-20T15:02:50.089180470",
          "2024-08-20T15:02:50.164211512",
          "2024-08-20T15:02:50.221920729",
          "2024-08-20T15:02:50.286460876",
          "2024-08-20T15:02:50.345307589",
          "2024-08-20T15:02:50.408935785",
          "2024-08-20T15:02:50.476115227",
          "2024-08-20T15:02:50.540927410",
          "2024-08-20T15:02:50.601357460",
          "2024-08-20T15:02:50.683282852",
          "2024-08-20T15:02:50.737979412",
          "2024-08-20T15:02:50.793661833",
          "2024-08-20T15:02:50.856802702",
          "2024-08-20T15:02:50.928539276",
          "2024-08-20T15:02:50.990999937",
          "2024-08-20T15:02:51.050350189",
          "2024-08-20T15:02:51.113314867",
          "2024-08-20T15:02:51.180135012",
          "2024-08-20T15:02:51.243540764",
          "2024-08-20T15:02:51.310220718",
          "2024-08-20T15:02:51.375783682",
          "2024-08-20T15:02:51.440604925",
          "2024-08-20T15:02:51.497595549",
          "2024-08-20T15:02:51.571428776",
          "2024-08-20T15:02:51.632876873",
          "2024-08-20T15:02:51.688552618",
          "2024-08-20T15:02:51.755705357",
          "2024-08-20T15:02:51.818155050",
          "2024-08-20T15:02:51.886819363",
          "2024-08-20T15:02:51.949652910",
          "2024-08-20T15:02:52.007593393",
          "2024-08-20T15:02:52.074826956",
          "2024-08-20T15:02:52.138803720",
          "2024-08-20T15:02:52.210093021",
          "2024-08-20T15:02:52.275668144",
          "2024-08-20T15:02:52.333082676",
          "2024-08-20T15:02:52.394371986",
          "2024-08-20T15:02:52.459259748",
          "2024-08-20T15:02:52.531399488",
          "2024-08-20T15:02:52.616756916",
          "2024-08-20T15:02:52.650221825",
          "2024-08-20T15:02:52.711702585",
          "2024-08-20T15:02:52.788189173",
          "2024-08-20T15:02:52.842796803",
          "2024-08-20T15:02:52.903967857",
          "2024-08-20T15:02:52.970984697",
          "2024-08-20T15:02:53.038519382",
          "2024-08-20T15:02:53.152612686",
          "2024-08-20T15:02:53.167658567",
          "2024-08-20T15:02:53.230545044",
          "2024-08-20T15:02:53.297919989",
          "2024-08-20T15:02:53.353726149",
          "2024-08-20T15:02:53.420627832",
          "2024-08-20T15:02:53.480882883",
          "2024-08-20T15:02:53.546744585",
          "2024-08-20T15:02:53.608026266",
          "2024-08-20T15:02:53.677996635",
          "2024-08-20T15:02:53.742529392",
          "2024-08-20T15:02:53.830651283",
          "2024-08-20T15:02:53.866359472",
          "2024-08-20T15:02:53.927977800",
          "2024-08-20T15:02:53.992221832",
          "2024-08-20T15:02:54.059623480",
          "2024-08-20T15:02:54.120739460",
          "2024-08-20T15:02:54.193795681",
          "2024-08-20T15:02:54.249335289",
          "2024-08-20T15:02:54.317995310",
          "2024-08-20T15:02:54.383571148",
          "2024-08-20T15:02:54.442311764",
          "2024-08-20T15:02:54.506179332",
          "2024-08-20T15:02:54.576658010",
          "2024-08-20T15:02:54.637471914",
          "2024-08-20T15:02:54.703898668",
          "2024-08-20T15:02:54.764864922",
          "2024-08-20T15:02:54.824655294",
          "2024-08-20T15:02:54.891189337",
          "2024-08-20T15:02:54.953490496",
          "2024-08-20T15:02:55.032611132",
          "2024-08-20T15:02:55.081305981",
          "2024-08-20T15:02:55.158447266",
          "2024-08-20T15:02:55.210823774",
          "2024-08-20T15:02:55.275956392",
          "2024-08-20T15:02:55.346074104",
          "2024-08-20T15:02:55.404232740",
          "2024-08-20T15:02:55.470694542",
          "2024-08-20T15:02:55.528641939",
          "2024-08-20T15:02:55.594437122",
          "2024-08-20T15:02:55.665844917",
          "2024-08-20T15:02:55.724285126",
          "2024-08-20T15:02:55.791144371",
          "2024-08-20T15:02:55.852353096",
          "2024-08-20T15:02:55.915487528",
          "2024-08-20T15:02:55.984474897",
          "2024-08-20T15:02:56.056498051",
          "2024-08-20T15:02:56.105704546",
          "2024-08-20T15:02:56.178903818",
          "2024-08-20T15:02:56.237900257",
          "2024-08-20T15:02:56.296718359",
          "2024-08-20T15:02:56.362215996",
          "2024-08-20T15:02:56.431545496",
          "2024-08-20T15:02:56.490846157",
          "2024-08-20T15:02:56.555861950",
          "2024-08-20T15:02:56.618054867",
          "2024-08-20T15:02:56.681535482",
          "2024-08-20T15:02:56.746267319",
          "2024-08-20T15:02:56.808086872",
          "2024-08-20T15:02:56.885196209",
          "2024-08-20T15:02:56.941173553",
          "2024-08-20T15:02:57.000983477",
          "2024-08-20T15:02:57.067066668",
          "2024-08-20T15:02:57.138018608",
          "2024-08-20T15:02:57.195511103",
          "2024-08-20T15:02:57.258635283",
          "2024-08-20T15:02:57.336707115",
          "2024-08-20T15:02:57.389498711",
          "2024-08-20T15:02:57.454029560",
          "2024-08-20T15:02:57.516662359",
          "2024-08-20T15:02:57.577827215",
          "2024-08-20T15:02:57.647586823",
          "2024-08-20T15:02:57.707729816",
          "2024-08-20T15:02:57.770277739",
          "2024-08-20T15:02:57.843634605",
          "2024-08-20T15:02:57.905560493",
          "2024-08-20T15:02:57.984967232",
          "2024-08-20T15:02:58.030342817",
          "2024-08-20T15:02:58.103184938",
          "2024-08-20T15:02:58.154094458",
          "2024-08-20T15:02:58.218283176",
          "2024-08-20T15:02:58.289098263",
          "2024-08-20T15:02:58.362024546",
          "2024-08-20T15:02:58.409986258",
          "2024-08-20T15:02:58.476369143",
          "2024-08-20T15:02:58.542753220",
          "2024-08-20T15:02:58.617930889",
          "2024-08-20T15:02:58.667797565",
          "2024-08-20T15:02:58.727853537",
          "2024-08-20T15:02:58.802760124",
          "2024-08-20T15:02:58.860068798",
          "2024-08-20T15:02:58.929995775",
          "2024-08-20T15:02:58.988093376",
          "2024-08-20T15:02:59.054110765",
          "2024-08-20T15:02:59.112466335",
          "2024-08-20T15:02:59.183475733",
          "2024-08-20T15:02:59.242676258",
          "2024-08-20T15:02:59.309902430",
          "2024-08-20T15:02:59.369946957",
          "2024-08-20T15:02:59.437035084",
          "2024-08-20T15:02:59.499349594",
          "2024-08-20T15:02:59.564939260",
          "2024-08-20T15:02:59.626541376",
          "2024-08-20T15:02:59.690696716",
          "2024-08-20T15:02:59.769605160",
          "2024-08-20T15:02:59.822539091",
          "2024-08-20T15:02:59.885165215",
          "2024-08-20T15:02:59.949295282",
          "2024-08-20T15:03:00.010670662",
          "2024-08-20T15:03:00.085540771",
          "2024-08-20T15:03:00.138278008",
          "2024-08-20T15:03:00.206751585",
          "2024-08-20T15:03:00.266874312",
          "2024-08-20T15:03:00.328287601",
          "2024-08-20T15:03:00.396478415",
          "2024-08-20T15:03:00.461751699",
          "2024-08-20T15:03:00.520747900",
          "2024-08-20T15:03:00.584263086",
          "2024-08-20T15:03:00.652987242",
          "2024-08-20T15:03:00.717644691",
          "2024-08-20T15:03:00.778317928",
          "2024-08-20T15:03:00.844145060",
          "2024-08-20T15:03:00.916547537",
          "2024-08-20T15:03:00.970337152",
          "2024-08-20T15:03:01.032670736",
          "2024-08-20T15:03:01.101945639",
          "2024-08-20T15:03:01.165431499",
          "2024-08-20T15:03:01.227845192",
          "2024-08-20T15:03:01.292094231",
          "2024-08-20T15:03:01.357944250",
          "2024-08-20T15:03:01.416323423",
          "2024-08-20T15:03:01.483250856",
          "2024-08-20T15:03:01.549711466",
          "2024-08-20T15:03:01.612559795",
          "2024-08-20T15:03:01.679686785",
          "2024-08-20T15:03:01.740689993",
          "2024-08-20T15:03:01.805357456",
          "2024-08-20T15:03:01.873299122",
          "2024-08-20T15:03:01.929613352",
          "2024-08-20T15:03:01.999979973",
          "2024-08-20T15:03:02.060384035",
          "2024-08-20T15:03:02.120594025",
          "2024-08-20T15:03:02.191109419",
          "2024-08-20T15:03:02.255161285",
          "2024-08-20T15:03:02.314748526",
          "2024-08-20T15:03:02.384042025",
          "2024-08-20T15:03:02.441551685",
          "2024-08-20T15:03:02.516515254",
          "2024-08-20T15:03:02.573863745",
          "2024-08-20T15:03:02.636080980",
          "2024-08-20T15:03:02.704131842",
          "2024-08-20T15:03:02.767637730",
          "2024-08-20T15:03:02.827582121",
          "2024-08-20T15:03:02.892561913",
          "2024-08-20T15:03:02.957124710",
          "2024-08-20T15:03:03.024444580",
          "2024-08-20T15:03:03.084048986",
          "2024-08-20T15:03:03.150004625",
          "2024-08-20T15:03:03.227559805",
          "2024-08-20T15:03:03.280505419",
          "2024-08-20T15:03:03.348907709",
          "2024-08-20T15:03:03.428015232",
          "2024-08-20T15:03:03.476912498",
          "2024-08-20T15:03:03.530843735",
          "2024-08-20T15:03:03.602569342",
          "2024-08-20T15:03:03.660551786"
         ],
         "xaxis": "x2",
         "y": {
          "bdata": "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",
          "dtype": "f8"
         },
         "yaxis": "y2"
        },
        {
         "marker": {
          "color": "lightcoral"
         },
         "name": "Distribution",
         "nbinsx": 30,
         "opacity": 0.7,
         "type": "histogram",
         "x": {
          "bdata": "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",
          "dtype": "f8"
         },
         "xaxis": "x3",
         "yaxis": "y3"
        },
        {
         "line": {
          "color": "lightcoral",
          "width": 1
         },
         "mode": "lines",
         "name": "Raw",
         "opacity": 0.5,
         "type": "scatter",
         "x": {
          "bdata": "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",
          "dtype": "i2"
         },
         "xaxis": "x4",
         "y": {
          "bdata": "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",
          "dtype": "f8"
         },
         "yaxis": "y4"
        },
        {
         "line": {
          "color": "darkred",
          "width": 3
         },
         "mode": "lines",
         "name": "Smoothed (n=47)",
         "type": "scatter",
         "x": {
          "bdata": "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",
          "dtype": "i2"
         },
         "xaxis": "x4",
         "y": {
          "bdata": "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",
          "dtype": "f8"
         },
         "yaxis": "y4"
        }
       ],
       "layout": {
        "annotations": [
         {
          "font": {
           "size": 16
          },
          "showarrow": false,
          "text": "Distance vs Frame",
          "x": 0.225,
          "xanchor": "center",
          "xref": "paper",
          "y": 1,
          "yanchor": "bottom",
          "yref": "paper"
         },
         {
          "font": {
           "size": 16
          },
          "showarrow": false,
          "text": "Distance vs Time",
          "x": 0.775,
          "xanchor": "center",
          "xref": "paper",
          "y": 1,
          "yanchor": "bottom",
          "yref": "paper"
         },
         {
          "font": {
           "size": 16
          },
          "showarrow": false,
          "text": "Distribution",
          "x": 0.225,
          "xanchor": "center",
          "xref": "paper",
          "y": 0.375,
          "yanchor": "bottom",
          "yref": "paper"
         },
         {
          "font": {
           "size": 16
          },
          "showarrow": false,
          "text": "Trends",
          "x": 0.775,
          "xanchor": "center",
          "xref": "paper",
          "y": 0.375,
          "yanchor": "bottom",
          "yref": "paper"
         },
         {
          "showarrow": false,
          "text": "Mean: 1.31",
          "x": 1.3116528341497649,
          "xanchor": "left",
          "xref": "x3",
          "y": 1,
          "yanchor": "top",
          "yref": "y3 domain"
         }
        ],
        "height": 800,
        "shapes": [
         {
          "line": {
           "color": "red",
           "dash": "dash"
          },
          "type": "line",
          "x0": 1.3116528341497649,
          "x1": 1.3116528341497649,
          "xref": "x3",
          "y0": 0,
          "y1": 1,
          "yref": "y3 domain"
         }
        ],
        "showlegend": true,
        "template": {
         "data": {
          "bar": [
           {
            "error_x": {
             "color": "#2a3f5f"
            },
            "error_y": {
             "color": "#2a3f5f"
            },
            "marker": {
             "line": {
              "color": "#E5ECF6",
              "width": 0.5
             },
             "pattern": {
              "fillmode": "overlay",
              "size": 10,
              "solidity": 0.2
             }
            },
            "type": "bar"
           }
          ],
          "barpolar": [
           {
            "marker": {
             "line": {
              "color": "#E5ECF6",
              "width": 0.5
             },
             "pattern": {
              "fillmode": "overlay",
              "size": 10,
              "solidity": 0.2
             }
            },
            "type": "barpolar"
           }
          ],
          "carpet": [
           {
            "aaxis": {
             "endlinecolor": "#2a3f5f",
             "gridcolor": "white",
             "linecolor": "white",
             "minorgridcolor": "white",
             "startlinecolor": "#2a3f5f"
            },
            "baxis": {
             "endlinecolor": "#2a3f5f",
             "gridcolor": "white",
             "linecolor": "white",
             "minorgridcolor": "white",
             "startlinecolor": "#2a3f5f"
            },
            "type": "carpet"
           }
          ],
          "choropleth": [
           {
            "colorbar": {
             "outlinewidth": 0,
             "ticks": ""
            },
            "type": "choropleth"
           }
          ],
          "contour": [
           {
            "colorbar": {
             "outlinewidth": 0,
             "ticks": ""
            },
            "colorscale": [
             [
              0,
              "#0d0887"
             ],
             [
              0.1111111111111111,
              "#46039f"
             ],
             [
              0.2222222222222222,
              "#7201a8"
             ],
             [
              0.3333333333333333,
              "#9c179e"
             ],
             [
              0.4444444444444444,
              "#bd3786"
             ],
             [
              0.5555555555555556,
              "#d8576b"
             ],
             [
              0.6666666666666666,
              "#ed7953"
             ],
             [
              0.7777777777777778,
              "#fb9f3a"
             ],
             [
              0.8888888888888888,
              "#fdca26"
             ],
             [
              1,
              "#f0f921"
             ]
            ],
            "type": "contour"
           }
          ],
          "contourcarpet": [
           {
            "colorbar": {
             "outlinewidth": 0,
             "ticks": ""
            },
            "type": "contourcarpet"
           }
          ],
          "heatmap": [
           {
            "colorbar": {
             "outlinewidth": 0,
             "ticks": ""
            },
            "colorscale": [
             [
              0,
              "#0d0887"
             ],
             [
              0.1111111111111111,
              "#46039f"
             ],
             [
              0.2222222222222222,
              "#7201a8"
             ],
             [
              0.3333333333333333,
              "#9c179e"
             ],
             [
              0.4444444444444444,
              "#bd3786"
             ],
             [
              0.5555555555555556,
              "#d8576b"
             ],
             [
              0.6666666666666666,
              "#ed7953"
             ],
             [
              0.7777777777777778,
              "#fb9f3a"
             ],
             [
              0.8888888888888888,
              "#fdca26"
             ],
             [
              1,
              "#f0f921"
             ]
            ],
            "type": "heatmap"
           }
          ],
          "histogram": [
           {
            "marker": {
             "pattern": {
              "fillmode": "overlay",
              "size": 10,
              "solidity": 0.2
             }
            },
            "type": "histogram"
           }
          ],
          "histogram2d": [
           {
            "colorbar": {
             "outlinewidth": 0,
             "ticks": ""
            },
            "colorscale": [
             [
              0,
              "#0d0887"
             ],
             [
              0.1111111111111111,
              "#46039f"
             ],
             [
              0.2222222222222222,
              "#7201a8"
             ],
             [
              0.3333333333333333,
              "#9c179e"
             ],
             [
              0.4444444444444444,
              "#bd3786"
             ],
             [
              0.5555555555555556,
              "#d8576b"
             ],
             [
              0.6666666666666666,
              "#ed7953"
             ],
             [
              0.7777777777777778,
              "#fb9f3a"
             ],
             [
              0.8888888888888888,
              "#fdca26"
             ],
             [
              1,
              "#f0f921"
             ]
            ],
            "type": "histogram2d"
           }
          ],
          "histogram2dcontour": [
           {
            "colorbar": {
             "outlinewidth": 0,
             "ticks": ""
            },
            "colorscale": [
             [
              0,
              "#0d0887"
             ],
             [
              0.1111111111111111,
              "#46039f"
             ],
             [
              0.2222222222222222,
              "#7201a8"
             ],
             [
              0.3333333333333333,
              "#9c179e"
             ],
             [
              0.4444444444444444,
              "#bd3786"
             ],
             [
              0.5555555555555556,
              "#d8576b"
             ],
             [
              0.6666666666666666,
              "#ed7953"
             ],
             [
              0.7777777777777778,
              "#fb9f3a"
             ],
             [
              0.8888888888888888,
              "#fdca26"
             ],
             [
              1,
              "#f0f921"
             ]
            ],
            "type": "histogram2dcontour"
           }
          ],
          "mesh3d": [
           {
            "colorbar": {
             "outlinewidth": 0,
             "ticks": ""
            },
            "type": "mesh3d"
           }
          ],
          "parcoords": [
           {
            "line": {
             "colorbar": {
              "outlinewidth": 0,
              "ticks": ""
             }
            },
            "type": "parcoords"
           }
          ],
          "pie": [
           {
            "automargin": true,
            "type": "pie"
           }
          ],
          "scatter": [
           {
            "fillpattern": {
             "fillmode": "overlay",
             "size": 10,
             "solidity": 0.2
            },
            "type": "scatter"
           }
          ],
          "scatter3d": [
           {
            "line": {
             "colorbar": {
              "outlinewidth": 0,
              "ticks": ""
             }
            },
            "marker": {
             "colorbar": {
              "outlinewidth": 0,
              "ticks": ""
             }
            },
            "type": "scatter3d"
           }
          ],
          "scattercarpet": [
           {
            "marker": {
             "colorbar": {
              "outlinewidth": 0,
              "ticks": ""
             }
            },
            "type": "scattercarpet"
           }
          ],
          "scattergeo": [
           {
            "marker": {
             "colorbar": {
              "outlinewidth": 0,
              "ticks": ""
             }
            },
            "type": "scattergeo"
           }
          ],
          "scattergl": [
           {
            "marker": {
             "colorbar": {
              "outlinewidth": 0,
              "ticks": ""
             }
            },
            "type": "scattergl"
           }
          ],
          "scattermap": [
           {
            "marker": {
             "colorbar": {
              "outlinewidth": 0,
              "ticks": ""
             }
            },
            "type": "scattermap"
           }
          ],
          "scattermapbox": [
           {
            "marker": {
             "colorbar": {
              "outlinewidth": 0,
              "ticks": ""
             }
            },
            "type": "scattermapbox"
           }
          ],
          "scatterpolar": [
           {
            "marker": {
             "colorbar": {
              "outlinewidth": 0,
              "ticks": ""
             }
            },
            "type": "scatterpolar"
           }
          ],
          "scatterpolargl": [
           {
            "marker": {
             "colorbar": {
              "outlinewidth": 0,
              "ticks": ""
             }
            },
            "type": "scatterpolargl"
           }
          ],
          "scatterternary": [
           {
            "marker": {
             "colorbar": {
              "outlinewidth": 0,
              "ticks": ""
             }
            },
            "type": "scatterternary"
           }
          ],
          "surface": [
           {
            "colorbar": {
             "outlinewidth": 0,
             "ticks": ""
            },
            "colorscale": [
             [
              0,
              "#0d0887"
             ],
             [
              0.1111111111111111,
              "#46039f"
             ],
             [
              0.2222222222222222,
              "#7201a8"
             ],
             [
              0.3333333333333333,
              "#9c179e"
             ],
             [
              0.4444444444444444,
              "#bd3786"
             ],
             [
              0.5555555555555556,
              "#d8576b"
             ],
             [
              0.6666666666666666,
              "#ed7953"
             ],
             [
              0.7777777777777778,
              "#fb9f3a"
             ],
             [
              0.8888888888888888,
              "#fdca26"
             ],
             [
              1,
              "#f0f921"
             ]
            ],
            "type": "surface"
           }
          ],
          "table": [
           {
            "cells": {
             "fill": {
              "color": "#EBF0F8"
             },
             "line": {
              "color": "white"
             }
            },
            "header": {
             "fill": {
              "color": "#C8D4E3"
             },
             "line": {
              "color": "white"
             }
            },
            "type": "table"
           }
          ]
         },
         "layout": {
          "annotationdefaults": {
           "arrowcolor": "#2a3f5f",
           "arrowhead": 0,
           "arrowwidth": 1
          },
          "autotypenumbers": "strict",
          "coloraxis": {
           "colorbar": {
            "outlinewidth": 0,
            "ticks": ""
           }
          },
          "colorscale": {
           "diverging": [
            [
             0,
             "#8e0152"
            ],
            [
             0.1,
             "#c51b7d"
            ],
            [
             0.2,
             "#de77ae"
            ],
            [
             0.3,
             "#f1b6da"
            ],
            [
             0.4,
             "#fde0ef"
            ],
            [
             0.5,
             "#f7f7f7"
            ],
            [
             0.6,
             "#e6f5d0"
            ],
            [
             0.7,
             "#b8e186"
            ],
            [
             0.8,
             "#7fbc41"
            ],
            [
             0.9,
             "#4d9221"
            ],
            [
             1,
             "#276419"
            ]
           ],
           "sequential": [
            [
             0,
             "#0d0887"
            ],
            [
             0.1111111111111111,
             "#46039f"
            ],
            [
             0.2222222222222222,
             "#7201a8"
            ],
            [
             0.3333333333333333,
             "#9c179e"
            ],
            [
             0.4444444444444444,
             "#bd3786"
            ],
            [
             0.5555555555555556,
             "#d8576b"
            ],
            [
             0.6666666666666666,
             "#ed7953"
            ],
            [
             0.7777777777777778,
             "#fb9f3a"
            ],
            [
             0.8888888888888888,
             "#fdca26"
            ],
            [
             1,
             "#f0f921"
            ]
           ],
           "sequentialminus": [
            [
             0,
             "#0d0887"
            ],
            [
             0.1111111111111111,
             "#46039f"
            ],
            [
             0.2222222222222222,
             "#7201a8"
            ],
            [
             0.3333333333333333,
             "#9c179e"
            ],
            [
             0.4444444444444444,
             "#bd3786"
            ],
            [
             0.5555555555555556,
             "#d8576b"
            ],
            [
             0.6666666666666666,
             "#ed7953"
            ],
            [
             0.7777777777777778,
             "#fb9f3a"
            ],
            [
             0.8888888888888888,
             "#fdca26"
            ],
            [
             1,
             "#f0f921"
            ]
           ]
          },
          "colorway": [
           "#636efa",
           "#EF553B",
           "#00cc96",
           "#ab63fa",
           "#FFA15A",
           "#19d3f3",
           "#FF6692",
           "#B6E880",
           "#FF97FF",
           "#FECB52"
          ],
          "font": {
           "color": "#2a3f5f"
          },
          "geo": {
           "bgcolor": "white",
           "lakecolor": "white",
           "landcolor": "#E5ECF6",
           "showlakes": true,
           "showland": true,
           "subunitcolor": "white"
          },
          "hoverlabel": {
           "align": "left"
          },
          "hovermode": "closest",
          "mapbox": {
           "style": "light"
          },
          "paper_bgcolor": "white",
          "plot_bgcolor": "#E5ECF6",
          "polar": {
           "angularaxis": {
            "gridcolor": "white",
            "linecolor": "white",
            "ticks": ""
           },
           "bgcolor": "#E5ECF6",
           "radialaxis": {
            "gridcolor": "white",
            "linecolor": "white",
            "ticks": ""
           }
          },
          "scene": {
           "xaxis": {
            "backgroundcolor": "#E5ECF6",
            "gridcolor": "white",
            "gridwidth": 2,
            "linecolor": "white",
            "showbackground": true,
            "ticks": "",
            "zerolinecolor": "white"
           },
           "yaxis": {
            "backgroundcolor": "#E5ECF6",
            "gridcolor": "white",
            "gridwidth": 2,
            "linecolor": "white",
            "showbackground": true,
            "ticks": "",
            "zerolinecolor": "white"
           },
           "zaxis": {
            "backgroundcolor": "#E5ECF6",
            "gridcolor": "white",
            "gridwidth": 2,
            "linecolor": "white",
            "showbackground": true,
            "ticks": "",
            "zerolinecolor": "white"
           }
          },
          "shapedefaults": {
           "line": {
            "color": "#2a3f5f"
           }
          },
          "ternary": {
           "aaxis": {
            "gridcolor": "white",
            "linecolor": "white",
            "ticks": ""
           },
           "baxis": {
            "gridcolor": "white",
            "linecolor": "white",
            "ticks": ""
           },
           "bgcolor": "#E5ECF6",
           "caxis": {
            "gridcolor": "white",
            "linecolor": "white",
            "ticks": ""
           }
          },
          "title": {
           "x": 0.05
          },
          "xaxis": {
           "automargin": true,
           "gridcolor": "white",
           "linecolor": "white",
           "ticks": "",
           "title": {
            "standoff": 15
           },
           "zerolinecolor": "white",
           "zerolinewidth": 2
          },
          "yaxis": {
           "automargin": true,
           "gridcolor": "white",
           "linecolor": "white",
           "ticks": "",
           "title": {
            "standoff": 15
           },
           "zerolinecolor": "white",
           "zerolinewidth": 2
          }
         }
        },
        "title": {
         "text": "Real-World Distance Analysis"
        },
        "xaxis": {
         "anchor": "y",
         "domain": [
          0,
          0.45
         ]
        },
        "xaxis2": {
         "anchor": "y2",
         "domain": [
          0.55,
          1
         ]
        },
        "xaxis3": {
         "anchor": "y3",
         "domain": [
          0,
          0.45
         ]
        },
        "xaxis4": {
         "anchor": "y4",
         "domain": [
          0.55,
          1
         ]
        },
        "yaxis": {
         "anchor": "x",
         "domain": [
          0.625,
          1
         ],
         "title": {
          "text": "Distance (meters)"
         }
        },
        "yaxis2": {
         "anchor": "x2",
         "domain": [
          0.625,
          1
         ],
         "title": {
          "text": "Distance (meters)"
         }
        },
        "yaxis3": {
         "anchor": "x3",
         "domain": [
          0,
          0.375
         ]
        },
        "yaxis4": {
         "anchor": "x4",
         "domain": [
          0,
          0.375
         ]
        }
       }
      }
     },
     "metadata": {},
     "output_type": "display_data"
    }
   ],
   "source": [
    "from utils.sonar_visualization import plot_distance_analysis\n",
    "plot_distance_analysis(net_analysis_results, \"Real-World Distance Analysis\")"
   ]
  },
  {
   "cell_type": "code",
   "execution_count": 35,
   "id": "6136c219",
   "metadata": {},
   "outputs": [
    {
     "name": "stdout",
     "output_type": "stream",
     "text": [
      " LOADING ALL DISTANCE DATA FOR BAG: 2024-08-20_17-02-00\n",
      "============================================================\n",
      " 1. Loading Navigation Data...\n",
      "    Loaded 497 navigation records\n",
      "    NetPitch data available: 497 valid records\n",
      " 2. Loading Guidance Data...\n",
      "    Loaded 509 guidance records with ['error_net_distance', 'desired_net_distance', 'r_net_distance_d']\n",
      " 3. Loading DVL Altimeter...\n",
      "    DVL altimeter file not found\n",
      " 4. Loading USBL...\n",
      "    Loaded 30 USBL records\n",
      " 5. Loading DVL Position...\n",
      "    Loaded 265 DVL position records\n",
      " 6. Loading Navigation Position...\n",
      "    Loaded 245 navigation position records\n",
      " 7. Loading INS Z Position...\n",
      "    INS file not found\n",
      "\n",
      " LOADING SUMMARY:\n",
      "    Target bag: 2024-08-20_17-02-00\n",
      "    Raw data loaded: 2/2\n",
      "    Distance measurements: 4\n",
      "\n",
      "RAW DATA LOADED:\n",
      "    navigation: 497 records\n",
      "    guidance: 509 records\n",
      "\n",
      "DISTANCE MEASUREMENTS LOADED:\n",
      "    USBL_3D: 30 records - 3D acoustic position\n",
      "    USBL_Depth: 30 records - USBL depth measurement\n",
      "    DVL_Position: 265 records - 3D DVL position\n",
      "    Nav_Position: 245 records - 2D navigation position\n"
     ]
    }
   ],
   "source": [
    "# COMPARISON: SONAR vs DVL DISTANCE MEASUREMENTS\n",
    "# =================================================\n",
    "import utils.distance_measurement as sda\n",
    "from utils.sonar_visualization import compare_sonar_vs_dvl\n",
    "\n",
    "# IMPORTANT: Pass the by_bag folder, not just the exports root\n",
    "# The function expects the folder containing the CSV files\n",
    "from utils.config import EXPORTS_SUBDIRS\n",
    "BY_BAG_FOLDER = EXPORTS_FOLDER / EXPORTS_SUBDIRS.get('by_bag', 'by_bag')\n",
    "\n",
    "# Load all distance data for the target bag\n",
    "raw_data, distance_measurements = sda.load_all_distance_data_for_bag(TARGET_BAG, BY_BAG_FOLDER)\n",
    "\n",
    "# Display what we loaded\n",
    "print(f\"\\nRAW DATA LOADED:\")\n",
    "for key, data in raw_data.items():\n",
    "    if data is not None:\n",
    "        print(f\"    {key}: {len(data)} records\")\n",
    "    else:\n",
    "        print(f\"    {key}: None\")\n",
    "\n",
    "print(f\"\\nDISTANCE MEASUREMENTS LOADED:\")\n",
    "for key, info in distance_measurements.items():\n",
    "    data_len = len(info['data'])\n",
    "    print(f\"    {key}: {data_len} records - {info['description']}\")"
   ]
  },
  {
   "cell_type": "code",
   "execution_count": 36,
   "id": "c10a8be6",
   "metadata": {},
   "outputs": [
    {
     "name": "stdout",
     "output_type": "stream",
     "text": [
      "\n",
      "============================================================\n",
      "SONAR vs DVL COMPARISON\n",
      "============================================================\n",
      "\n",
      "Comparison: Sonar=1.312m, DVL=1.121m, Ratio=1.170x\n"
     ]
    },
    {
     "data": {
      "application/vnd.plotly.v1+json": {
       "config": {
        "plotlyServerURL": "https://plot.ly"
       },
       "data": [
        {
         "line": {
          "color": "red",
          "width": 3
         },
         "mode": "lines",
         "name": "Sonar",
         "type": "scatter",
         "x": {
          "bdata": "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",
          "dtype": "f8"
         },
         "y": {
          "bdata": "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",
          "dtype": "f8"
         }
        },
        {
         "line": {
          "color": "blue",
          "width": 3
         },
         "mode": "lines",
         "name": "DVL",
         "type": "scatter",
         "x": {
          "bdata": "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",
          "dtype": "f8"
         },
         "y": {
          "bdata": "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",
          "dtype": "f8"
         }
        }
       ],
       "layout": {
        "height": 600,
        "template": {
         "data": {
          "bar": [
           {
            "error_x": {
             "color": "#2a3f5f"
            },
            "error_y": {
             "color": "#2a3f5f"
            },
            "marker": {
             "line": {
              "color": "#E5ECF6",
              "width": 0.5
             },
             "pattern": {
              "fillmode": "overlay",
              "size": 10,
              "solidity": 0.2
             }
            },
            "type": "bar"
           }
          ],
          "barpolar": [
           {
            "marker": {
             "line": {
              "color": "#E5ECF6",
              "width": 0.5
             },
             "pattern": {
              "fillmode": "overlay",
              "size": 10,
              "solidity": 0.2
             }
            },
            "type": "barpolar"
           }
          ],
          "carpet": [
           {
            "aaxis": {
             "endlinecolor": "#2a3f5f",
             "gridcolor": "white",
             "linecolor": "white",
             "minorgridcolor": "white",
             "startlinecolor": "#2a3f5f"
            },
            "baxis": {
             "endlinecolor": "#2a3f5f",
             "gridcolor": "white",
             "linecolor": "white",
             "minorgridcolor": "white",
             "startlinecolor": "#2a3f5f"
            },
            "type": "carpet"
           }
          ],
          "choropleth": [
           {
            "colorbar": {
             "outlinewidth": 0,
             "ticks": ""
            },
            "type": "choropleth"
           }
          ],
          "contour": [
           {
            "colorbar": {
             "outlinewidth": 0,
             "ticks": ""
            },
            "colorscale": [
             [
              0,
              "#0d0887"
             ],
             [
              0.1111111111111111,
              "#46039f"
             ],
             [
              0.2222222222222222,
              "#7201a8"
             ],
             [
              0.3333333333333333,
              "#9c179e"
             ],
             [
              0.4444444444444444,
              "#bd3786"
             ],
             [
              0.5555555555555556,
              "#d8576b"
             ],
             [
              0.6666666666666666,
              "#ed7953"
             ],
             [
              0.7777777777777778,
              "#fb9f3a"
             ],
             [
              0.8888888888888888,
              "#fdca26"
             ],
             [
              1,
              "#f0f921"
             ]
            ],
            "type": "contour"
           }
          ],
          "contourcarpet": [
           {
            "colorbar": {
             "outlinewidth": 0,
             "ticks": ""
            },
            "type": "contourcarpet"
           }
          ],
          "heatmap": [
           {
            "colorbar": {
             "outlinewidth": 0,
             "ticks": ""
            },
            "colorscale": [
             [
              0,
              "#0d0887"
             ],
             [
              0.1111111111111111,
              "#46039f"
             ],
             [
              0.2222222222222222,
              "#7201a8"
             ],
             [
              0.3333333333333333,
              "#9c179e"
             ],
             [
              0.4444444444444444,
              "#bd3786"
             ],
             [
              0.5555555555555556,
              "#d8576b"
             ],
             [
              0.6666666666666666,
              "#ed7953"
             ],
             [
              0.7777777777777778,
              "#fb9f3a"
             ],
             [
              0.8888888888888888,
              "#fdca26"
             ],
             [
              1,
              "#f0f921"
             ]
            ],
            "type": "heatmap"
           }
          ],
          "histogram": [
           {
            "marker": {
             "pattern": {
              "fillmode": "overlay",
              "size": 10,
              "solidity": 0.2
             }
            },
            "type": "histogram"
           }
          ],
          "histogram2d": [
           {
            "colorbar": {
             "outlinewidth": 0,
             "ticks": ""
            },
            "colorscale": [
             [
              0,
              "#0d0887"
             ],
             [
              0.1111111111111111,
              "#46039f"
             ],
             [
              0.2222222222222222,
              "#7201a8"
             ],
             [
              0.3333333333333333,
              "#9c179e"
             ],
             [
              0.4444444444444444,
              "#bd3786"
             ],
             [
              0.5555555555555556,
              "#d8576b"
             ],
             [
              0.6666666666666666,
              "#ed7953"
             ],
             [
              0.7777777777777778,
              "#fb9f3a"
             ],
             [
              0.8888888888888888,
              "#fdca26"
             ],
             [
              1,
              "#f0f921"
             ]
            ],
            "type": "histogram2d"
           }
          ],
          "histogram2dcontour": [
           {
            "colorbar": {
             "outlinewidth": 0,
             "ticks": ""
            },
            "colorscale": [
             [
              0,
              "#0d0887"
             ],
             [
              0.1111111111111111,
              "#46039f"
             ],
             [
              0.2222222222222222,
              "#7201a8"
             ],
             [
              0.3333333333333333,
              "#9c179e"
             ],
             [
              0.4444444444444444,
              "#bd3786"
             ],
             [
              0.5555555555555556,
              "#d8576b"
             ],
             [
              0.6666666666666666,
              "#ed7953"
             ],
             [
              0.7777777777777778,
              "#fb9f3a"
             ],
             [
              0.8888888888888888,
              "#fdca26"
             ],
             [
              1,
              "#f0f921"
             ]
            ],
            "type": "histogram2dcontour"
           }
          ],
          "mesh3d": [
           {
            "colorbar": {
             "outlinewidth": 0,
             "ticks": ""
            },
            "type": "mesh3d"
           }
          ],
          "parcoords": [
           {
            "line": {
             "colorbar": {
              "outlinewidth": 0,
              "ticks": ""
             }
            },
            "type": "parcoords"
           }
          ],
          "pie": [
           {
            "automargin": true,
            "type": "pie"
           }
          ],
          "scatter": [
           {
            "fillpattern": {
             "fillmode": "overlay",
             "size": 10,
             "solidity": 0.2
            },
            "type": "scatter"
           }
          ],
          "scatter3d": [
           {
            "line": {
             "colorbar": {
              "outlinewidth": 0,
              "ticks": ""
             }
            },
            "marker": {
             "colorbar": {
              "outlinewidth": 0,
              "ticks": ""
             }
            },
            "type": "scatter3d"
           }
          ],
          "scattercarpet": [
           {
            "marker": {
             "colorbar": {
              "outlinewidth": 0,
              "ticks": ""
             }
            },
            "type": "scattercarpet"
           }
          ],
          "scattergeo": [
           {
            "marker": {
             "colorbar": {
              "outlinewidth": 0,
              "ticks": ""
             }
            },
            "type": "scattergeo"
           }
          ],
          "scattergl": [
           {
            "marker": {
             "colorbar": {
              "outlinewidth": 0,
              "ticks": ""
             }
            },
            "type": "scattergl"
           }
          ],
          "scattermap": [
           {
            "marker": {
             "colorbar": {
              "outlinewidth": 0,
              "ticks": ""
             }
            },
            "type": "scattermap"
           }
          ],
          "scattermapbox": [
           {
            "marker": {
             "colorbar": {
              "outlinewidth": 0,
              "ticks": ""
             }
            },
            "type": "scattermapbox"
           }
          ],
          "scatterpolar": [
           {
            "marker": {
             "colorbar": {
              "outlinewidth": 0,
              "ticks": ""
             }
            },
            "type": "scatterpolar"
           }
          ],
          "scatterpolargl": [
           {
            "marker": {
             "colorbar": {
              "outlinewidth": 0,
              "ticks": ""
             }
            },
            "type": "scatterpolargl"
           }
          ],
          "scatterternary": [
           {
            "marker": {
             "colorbar": {
              "outlinewidth": 0,
              "ticks": ""
             }
            },
            "type": "scatterternary"
           }
          ],
          "surface": [
           {
            "colorbar": {
             "outlinewidth": 0,
             "ticks": ""
            },
            "colorscale": [
             [
              0,
              "#0d0887"
             ],
             [
              0.1111111111111111,
              "#46039f"
             ],
             [
              0.2222222222222222,
              "#7201a8"
             ],
             [
              0.3333333333333333,
              "#9c179e"
             ],
             [
              0.4444444444444444,
              "#bd3786"
             ],
             [
              0.5555555555555556,
              "#d8576b"
             ],
             [
              0.6666666666666666,
              "#ed7953"
             ],
             [
              0.7777777777777778,
              "#fb9f3a"
             ],
             [
              0.8888888888888888,
              "#fdca26"
             ],
             [
              1,
              "#f0f921"
             ]
            ],
            "type": "surface"
           }
          ],
          "table": [
           {
            "cells": {
             "fill": {
              "color": "#EBF0F8"
             },
             "line": {
              "color": "white"
             }
            },
            "header": {
             "fill": {
              "color": "#C8D4E3"
             },
             "line": {
              "color": "white"
             }
            },
            "type": "table"
           }
          ]
         },
         "layout": {
          "annotationdefaults": {
           "arrowcolor": "#2a3f5f",
           "arrowhead": 0,
           "arrowwidth": 1
          },
          "autotypenumbers": "strict",
          "coloraxis": {
           "colorbar": {
            "outlinewidth": 0,
            "ticks": ""
           }
          },
          "colorscale": {
           "diverging": [
            [
             0,
             "#8e0152"
            ],
            [
             0.1,
             "#c51b7d"
            ],
            [
             0.2,
             "#de77ae"
            ],
            [
             0.3,
             "#f1b6da"
            ],
            [
             0.4,
             "#fde0ef"
            ],
            [
             0.5,
             "#f7f7f7"
            ],
            [
             0.6,
             "#e6f5d0"
            ],
            [
             0.7,
             "#b8e186"
            ],
            [
             0.8,
             "#7fbc41"
            ],
            [
             0.9,
             "#4d9221"
            ],
            [
             1,
             "#276419"
            ]
           ],
           "sequential": [
            [
             0,
             "#0d0887"
            ],
            [
             0.1111111111111111,
             "#46039f"
            ],
            [
             0.2222222222222222,
             "#7201a8"
            ],
            [
             0.3333333333333333,
             "#9c179e"
            ],
            [
             0.4444444444444444,
             "#bd3786"
            ],
            [
             0.5555555555555556,
             "#d8576b"
            ],
            [
             0.6666666666666666,
             "#ed7953"
            ],
            [
             0.7777777777777778,
             "#fb9f3a"
            ],
            [
             0.8888888888888888,
             "#fdca26"
            ],
            [
             1,
             "#f0f921"
            ]
           ],
           "sequentialminus": [
            [
             0,
             "#0d0887"
            ],
            [
             0.1111111111111111,
             "#46039f"
            ],
            [
             0.2222222222222222,
             "#7201a8"
            ],
            [
             0.3333333333333333,
             "#9c179e"
            ],
            [
             0.4444444444444444,
             "#bd3786"
            ],
            [
             0.5555555555555556,
             "#d8576b"
            ],
            [
             0.6666666666666666,
             "#ed7953"
            ],
            [
             0.7777777777777778,
             "#fb9f3a"
            ],
            [
             0.8888888888888888,
             "#fdca26"
            ],
            [
             1,
             "#f0f921"
            ]
           ]
          },
          "colorway": [
           "#636efa",
           "#EF553B",
           "#00cc96",
           "#ab63fa",
           "#FFA15A",
           "#19d3f3",
           "#FF6692",
           "#B6E880",
           "#FF97FF",
           "#FECB52"
          ],
          "font": {
           "color": "#2a3f5f"
          },
          "geo": {
           "bgcolor": "white",
           "lakecolor": "white",
           "landcolor": "#E5ECF6",
           "showlakes": true,
           "showland": true,
           "subunitcolor": "white"
          },
          "hoverlabel": {
           "align": "left"
          },
          "hovermode": "closest",
          "mapbox": {
           "style": "light"
          },
          "paper_bgcolor": "white",
          "plot_bgcolor": "#E5ECF6",
          "polar": {
           "angularaxis": {
            "gridcolor": "white",
            "linecolor": "white",
            "ticks": ""
           },
           "bgcolor": "#E5ECF6",
           "radialaxis": {
            "gridcolor": "white",
            "linecolor": "white",
            "ticks": ""
           }
          },
          "scene": {
           "xaxis": {
            "backgroundcolor": "#E5ECF6",
            "gridcolor": "white",
            "gridwidth": 2,
            "linecolor": "white",
            "showbackground": true,
            "ticks": "",
            "zerolinecolor": "white"
           },
           "yaxis": {
            "backgroundcolor": "#E5ECF6",
            "gridcolor": "white",
            "gridwidth": 2,
            "linecolor": "white",
            "showbackground": true,
            "ticks": "",
            "zerolinecolor": "white"
           },
           "zaxis": {
            "backgroundcolor": "#E5ECF6",
            "gridcolor": "white",
            "gridwidth": 2,
            "linecolor": "white",
            "showbackground": true,
            "ticks": "",
            "zerolinecolor": "white"
           }
          },
          "shapedefaults": {
           "line": {
            "color": "#2a3f5f"
           }
          },
          "ternary": {
           "aaxis": {
            "gridcolor": "white",
            "linecolor": "white",
            "ticks": ""
           },
           "baxis": {
            "gridcolor": "white",
            "linecolor": "white",
            "ticks": ""
           },
           "bgcolor": "#E5ECF6",
           "caxis": {
            "gridcolor": "white",
            "linecolor": "white",
            "ticks": ""
           }
          },
          "title": {
           "x": 0.05
          },
          "xaxis": {
           "automargin": true,
           "gridcolor": "white",
           "linecolor": "white",
           "ticks": "",
           "title": {
            "standoff": 15
           },
           "zerolinecolor": "white",
           "zerolinewidth": 2
          },
          "yaxis": {
           "automargin": true,
           "gridcolor": "white",
           "linecolor": "white",
           "ticks": "",
           "title": {
            "standoff": 15
           },
           "zerolinecolor": "white",
           "zerolinewidth": 2
          }
         }
        },
        "title": {
         "text": "Sonar vs DVL Distance Comparison"
        },
        "xaxis": {
         "anchor": "y",
         "domain": [
          0,
          1
         ],
         "title": {
          "text": "Time (seconds)"
         }
        },
        "yaxis": {
         "anchor": "x",
         "domain": [
          0,
          1
         ],
         "title": {
          "text": "Distance (meters)"
         }
        }
       }
      }
     },
     "metadata": {},
     "output_type": "display_data"
    },
    {
     "name": "stdout",
     "output_type": "stream",
     "text": [
      "\n",
      "Comparison Statistics:\n",
      "  sonar_mean_m: 1.312\n",
      "  dvl_mean_m: 1.121\n",
      "  scale_ratio: 1.170\n",
      "  sonar_frames: 944\n",
      "  dvl_records: 497\n"
     ]
    }
   ],
   "source": [
    "# Compare sonar vs DVL using the sonar_visualization function\n",
    "print(f\"\\n\" + \"=\" * 60)\n",
    "print(\"SONAR vs DVL COMPARISON\")\n",
    "print(\"=\" * 60)\n",
    "\n",
    "fig, comparison_stats = compare_sonar_vs_dvl(\n",
    "    net_analysis_results,\n",
    "    raw_data,\n",
    "    sonar_coverage_m=sonar_coverage_meters,\n",
    "    sonar_image_size=image_shape[0]\n",
    ")\n",
    "\n",
    "if fig:\n",
    "    fig.show()\n",
    "\n",
    "print(f\"\\nComparison Statistics:\")\n",
    "for key, value in comparison_stats.items():\n",
    "    if isinstance(value, float):\n",
    "        print(f\"  {key}: {value:.3f}\")\n",
    "    else:\n",
    "        print(f\"  {key}: {value}\")"
   ]
  },
  {
   "cell_type": "code",
   "execution_count": 37,
   "id": "50f97352",
   "metadata": {},
   "outputs": [
    {
     "name": "stdout",
     "output_type": "stream",
     "text": [
      "GENERATING THREE-SYSTEM VIDEO WITH UNIFORM STYLING\n",
      "============================================================\n",
      "Target Bag: 2024-08-20_17-02-00\n",
      "GENERATING THREE-SYSTEM VIDEO\n",
      "==================================================\n",
      "🔄 PREPARING THREE-SYSTEM SYNCHRONIZED DATA\n",
      "============================================================\n",
      "✓ Using notebook 08's FFT loading methods...\n",
      "✓ Loaded 410 relative FFT pose records\n",
      "✓ Loaded FFT data via notebook 08 method: 410 records\n",
      "✓ Using notebook 08's three-system synchronization...\n",
      "Step 1: Calculating net relative positions\n",
      "FFT distances appear to be in cm (max: 183.3), converting to meters\n",
      "Final FFT distance range: -1.833 to 1.596 m\n",
      "FFT pitch range: -82.7 to 88.1\n",
      "FFT X range: -1.821 to 1.573 m\n",
      "FFT Y range: -0.596 to 0.441 m\n",
      "Step 2: Synchronizing all three systems\n",
      "Synchronized 1851 time points\n",
      "Available columns in sync_df: ['sync_timestamp', 'fft_distance_m', 'fft_pitch_deg', 'fft_x_m', 'fft_y_m', 'fft_heading', 'sonar_distance_m', 'sonar_pitch_deg', 'sonar_x_m', 'sonar_y_m', 'sonar_detection_success', 'nav_distance_m', 'nav_pitch_deg', 'nav_x_m', 'nav_y_m']\n",
      "Available distance columns: ['fft_distance_m', 'sonar_distance_m', 'nav_distance_m']\n",
      "Found distance columns: FFT=fft_distance_m, Sonar=sonar_distance_m, Nav=nav_distance_m\n",
      "Step 3: Creating visualizations\n",
      "Position data summary:\n",
      "  FFT: 1769 points, X: 0.82±0.38, Y: 0.04±0.12\n",
      "  Sonar: 1851 points, X: 1.11±0.32, Y: -0.24±0.68\n",
      "  DVL: 1813 points, X: 1.10±0.29, Y: -0.08±0.28\n",
      "Step 4: Saving results\n",
      "Results saved to: /Volumes/LaCie/SOLAQUA/exports/outputs/2024-08-20_17-02-00_three_system_net_relative_analysis.csv\n",
      "Statistics saved to: /Volumes/LaCie/SOLAQUA/exports/outputs/2024-08-20_17-02-00_three_system_net_relative_stats.json\n",
      "✓ Three-system synchronization completed: 1851 synchronized records\n",
      "✗ Notebook 08 synchronization failed: \"['timestamp', 'sonar_angle_deg', 'detection_success'] not in index\"\n",
      "Falling back to individual synchronization...\n",
      "✓ Using fallback synchronization method\n",
      "✓ Fallback synchronization completed\n",
      "   Systems active: DVL + Sonar + FFT\n",
      "OPTIMIZED SONAR VIDEO WITH THREE-SYSTEM SYNCHRONIZATION\n",
      "======================================================================\n",
      "Target Bag: 2024-08-20_17-02-00\n",
      "   Cone Size: 900x700\n",
      "   Range: 0.0-5.0m | FOV: 120.0\n",
      "Auto-detecting video files for bag: 2024-08-20_17-02-00\n",
      "Found video frames: 2024-08-20_17-02-00_video__image_compressed_image_data_frames\n",
      "Using frames directory: /Volumes/LaCie/SOLAQUA/exports/frames/2024-08-20_17-02-00_video__image_compressed_image_data_frames\n",
      "Camera: enabled\n",
      "Net-line: enabled (dist tol=0.5s, pitch tol=2.0s)\n",
      "Sonar Analysis: enabled\n",
      "FFT Data: enabled\n",
      "   Loading sonar data: sensor_sonoptix_echo_image__2024-08-20_17-02-00_video.csv\n",
      "Loaded 945 sonar frames in 37.89s\n",
      " LOADING ALL DISTANCE DATA FOR BAG: 2024-08-20_17-02-00\n",
      "============================================================\n",
      " 1. Loading Navigation Data...\n",
      "    Loaded 497 navigation records\n",
      "    NetPitch data available: 497 valid records\n",
      " 2. Loading Guidance Data...\n",
      "    Loaded 509 guidance records with ['error_net_distance', 'desired_net_distance', 'r_net_distance_d']\n",
      " 3. Loading DVL Altimeter...\n",
      "    DVL altimeter file not found\n",
      " 4. Loading USBL...\n",
      "    Loaded 30 USBL records\n",
      " 5. Loading DVL Position...\n",
      "    Loaded 265 DVL position records\n",
      " 6. Loading Navigation Position...\n",
      "    Loaded 245 navigation position records\n",
      " 7. Loading INS Z Position...\n",
      "    INS file not found\n",
      "\n",
      " LOADING SUMMARY:\n",
      "    Target bag: 2024-08-20_17-02-00\n",
      "    Raw data loaded: 2/2\n",
      "    Distance measurements: 4\n",
      "   Auto-loaded DVL data: 497 records\n",
      "   Used absolute timestamps for FFT data\n",
      "   Time Range Verification:\n",
      "     Sonar: 2024-08-20 15:02:03.239282846+00:00 to 2024-08-20 15:03:03.660551786+00:00\n",
      "     DVL:   2024-08-20 15:02:05.408126593+00:00 to 2024-08-20 15:03:02.795768261+00:00\n",
      "     FFT:   2024-08-20 15:02:03.753343105 to 2024-08-20 15:03:00.519725800\n",
      "   Using synchronized DVL data: 497 records\n",
      "      Available: ['NetDistance', 'NetPitch', 'timestamp']\n",
      "Loaded 755 camera index entries\n",
      "   Frames: 1..944 (step 1) => 944\n",
      "   Natural FPS: 16.4\n",
      "\n",
      "🎉 DONE! Wrote 944 frames to /Volumes/LaCie/SOLAQUA/exports/videos/2024-08-20_17-02-00_optimized_sync_withcam_withsonar_20240820_170203_319382+0200.mp4 @ 16.42 FPS\n",
      "Three-system synchronization: DVL(Yellow/Orange) | FFT(Cyan) | Sonar(Magenta)\n",
      "Metadata saved to: /Volumes/LaCie/SOLAQUA/exports/videos/2024-08-20_17-02-00_optimized_sync_withcam_withsonar_20240820_170203_319382+0200.mp4.meta.json\n",
      "\n",
      "3-SYSTEM VIDEO GENERATED: /Volumes/LaCie/SOLAQUA/exports/videos/2024-08-20_17-02-00_optimized_sync_withcam_withsonar_20240820_170203_319382+0200.mp4\n",
      "   Systems synchronized:\n",
      "   - DVL: Navigation-based robot position relative to net\n",
      "   - FFT: High-precision signal processing net detection\n",
      "   - Sonar: Image analysis of sonar returns\n",
      "\n",
      "VIDEO SUMMARY:\n",
      "   File: 2024-08-20_17-02-00_optimized_sync_withcam_withsonar_20240820_170203_319382+0200.mp4\n",
      "   Location: /Volumes/LaCie/SOLAQUA/exports/videos\n",
      "   Frames: 1-1500\n",
      "   Systems: DVL (Yellow/Orange) + FFT (Cyan) + Sonar (Magenta)\n",
      "   Styling: Uniform line thickness and visual appearance\n"
     ]
    }
   ],
   "source": [
    "# Generate Three-SYSTEM Video \n",
    "# ===========================\n",
    "from pathlib import Path\n",
    "import importlib\n",
    "\n",
    "# CONFIGURATION\n",
    "FFT_CSV_PATH = Path(\"/Volumes/LaCie/SOLAQUA/relative_fft_pose\")\n",
    "TARGET_FFT_FILE = FFT_CSV_PATH / f\"{TARGET_BAG}_relative_pose_fft.csv\"\n",
    "\n",
    "print(\"GENERATING THREE-SYSTEM VIDEO WITH UNIFORM STYLING\")\n",
    "print(\"=\" * 60)\n",
    "print(f\"Target Bag: {TARGET_BAG}\")\n",
    "\n",
    "# Reload the module to pick up the new functions\n",
    "import utils.video_generation as sg\n",
    "importlib.reload(sg)\n",
    "\n",
    "# Import the utility function\n",
    "from utils.video_generation import generate_three_system_video\n",
    "\n",
    "try:\n",
    "    # Generate video using the streamlined utility function\n",
    "    video_path = generate_three_system_video(\n",
    "        target_bag=TARGET_BAG,\n",
    "        exports_folder=EXPORTS_FOLDER,\n",
    "        net_analysis_results=net_analysis_results,\n",
    "        raw_data=raw_data,\n",
    "        fft_csv_path=TARGET_FFT_FILE if TARGET_FFT_FILE.exists() else None,\n",
    "        start_idx=1,\n",
    "        end_idx=1500\n",
    "    )\n",
    "    \n",
    "    print(f\"\\nVIDEO SUMMARY:\")\n",
    "    print(f\"   File: {video_path.name}\")\n",
    "    print(f\"   Location: {video_path.parent}\")\n",
    "    print(f\"   Frames: 1-1500\")\n",
    "    print(f\"   Systems: DVL (Yellow/Orange) + FFT (Cyan) + Sonar (Magenta)\")\n",
    "    print(f\"   Styling: Uniform line thickness and visual appearance\")\n",
    "    \n",
    "except Exception as e:\n",
    "    print(f\"ideo generation failed: {e}\")\n",
    "    print(f\"Error details: {type(e).__name__}: {str(e)}\")\n",
    "    import traceback\n",
    "    traceback.print_exc()"
   ]
  }
 ],
 "metadata": {
  "kernelspec": {
   "display_name": "venv",
   "language": "python",
   "name": "python3"
  },
  "language_info": {
   "codemirror_mode": {
    "name": "ipython",
    "version": 3
   },
   "file_extension": ".py",
   "mimetype": "text/x-python",
   "name": "python",
   "nbconvert_exporter": "python",
   "pygments_lexer": "ipython3",
   "version": "3.13.5"
  }
 },
 "nbformat": 4,
 "nbformat_minor": 5
}
