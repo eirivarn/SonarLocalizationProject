{
 "cells": [
  {
   "cell_type": "code",
   "execution_count": 1,
   "id": "7a8d02c0",
   "metadata": {},
   "outputs": [],
   "source": [
    "from pathlib import Path\n",
    "import utils.sonar_analysis as iau\n",
    "\n",
    "# Centralized sonar defaults (inserted by sweep)\n",
    "from utils.config import SONAR_VIS_DEFAULTS, IMAGE_PROCESSING_CONFIG, TRACKING_CONFIG\n",
    "config = SONAR_VIS_DEFAULTS.copy()\n",
    "# Backwards-compatible variable names used in older notebooks\n",
    "RANGE_MIN_M = config['range_min_m']\n",
    "RANGE_MAX_M = config['range_max_m']\n",
    "DISPLAY_RANGE_MAX_M = config['display_range_max_m']"
   ]
  },
  {
   "cell_type": "markdown",
   "id": "9220eb1d",
   "metadata": {},
   "source": [
    "# Simple Image Analysis with CV2\n",
    "\n",
    "This notebook demonstrates:\n",
    "1. **Pick a frame** from NPZ files and save it locally\n",
    "2. **Use standard cv2 functions** directly for image processing\n",
    "3. **Experiment** with different OpenCV operations"
   ]
  },
  {
   "cell_type": "code",
   "execution_count": 2,
   "id": "4b3e8f46",
   "metadata": {},
   "outputs": [
    {
     "name": "stdout",
     "output_type": "stream",
     "text": [
      "Using DATA_DIR = /Volumes/LaCie/SOLAQUA/raw_data\n"
     ]
    }
   ],
   "source": [
    "# Prefer selecting by bag ID (part of the NPZ filename) instead of a numeric index.\n",
    "# Set TARGET_BAG to a substring that appears in the NPZ filename \n",
    "# '2024-08-22_14-47-39' #1\n",
    "# '2024-08-22_14-29-05' #2\n",
    "# '2024-08-20_14-22-12' #3\n",
    "# '2024-08-20_14-31-29' #4\n",
    "# '2024-08-20_18-47-40' #5\n",
    "# '2024-08-20_13-55-34' #6\n",
    "# '2024-08-20_13-57-42' #7\n",
    "# '2024-08-20_17-02-00' #8\n",
    "TARGET_BAG = '2024-08-20_17-02-00'  # change this to your desired bag ID\n",
    "from utils.config import EXPORTS_DIR_DEFAULT, EXPORTS_SUBDIRS\n",
    "EXPORTS_FOLDER = Path(EXPORTS_DIR_DEFAULT)\n",
    "\n",
    "# If you keep your raw .bag files or raw data on an external drive, point DATA_DIR there.\n",
    "# Example (your external disk): /Volumes/LaCie/SOLAQUA/raw_data\n",
    "DATA_DIR = Path(\"/Volumes/LaCie/SOLAQUA/raw_data\")\n",
    "print(f\"Using DATA_DIR = {DATA_DIR}\")\n",
    "\n",
    "# NOTE: To export data for this specific bag, use:\n",
    "# python scripts/solaqua_export.py --data-dir /Volumes/LaCie/SOLAQUA/raw_data --exports-dir /Volumes/LaCie/SOLAQUA/exports --bag-stem 2024-08-20_17-02-00 --all\n",
    "\n",
    "# Find NPZ files and pick the one matching TARGET_BAG\n",
    "files = iau.get_available_npz_files()\n",
    "if not files:\n",
    "    raise FileNotFoundError(f\"No NPZ files found in configured exports outputs (looked under {EXPORTS_FOLDER / EXPORTS_SUBDIRS.get('outputs','outputs')})\")\n",
    "matches = [p for p in files if TARGET_BAG in p.name]\n",
    "if not matches:\n",
    "    # Help the user by listing available NPZ files\n",
    "    print(f'No NPZ file matched TARGET_BAG={TARGET_BAG!r}')\n",
    "    print('Available NPZ files:')\n",
    "    for i,p in enumerate(files):\n",
    "        print(f'  {i}: {p.name}')\n",
    "    raise ValueError(f'No NPZ file contains \"{TARGET_BAG}\" in its name')\n",
    "\n",
    "# If multiple matches, choose the most recently modified one\n",
    "selected = max(matches, key=lambda p: p.stat().st_mtime)\n",
    "NPZ_FILE_INDEX = files.index(selected)"
   ]
  },
  {
   "cell_type": "markdown",
   "id": "0c65358c",
   "metadata": {},
   "source": [
    "## Distance Analysis Over Time\n",
    "\n",
    "Now let's perform a comprehensive analysis of the red line distance over time. The red line represents the major axis of the detected elongated contour (likely a fishing net), and we'll track how this distance changes throughout the video sequence."
   ]
  },
  {
   "cell_type": "code",
   "execution_count": 3,
   "id": "6584f7f6",
   "metadata": {},
   "outputs": [
    {
     "name": "stdout",
     "output_type": "stream",
     "text": [
      "Verified expansion factor: 0.5\n",
      "GENERATING CONTOUR DETECTION PIPELINE VIDEO\n",
      "============================================================\n",
      "=== CONTOUR DETECTION PIPELINE VIDEO (3x3 Grid with NetTracker) ===\n",
      "Processing 944 frames...\n",
      "Grid layout (3x3):\n",
      "  Row 1: Raw | Momentum-Merged | Edges\n",
      "  Row 2: Dilated | Morphology | Search Mask\n",
      "  Row 3: Best Contour | Tracking Info | Distance\n",
      "Tracker config:\n",
      "  expansion: 0.5\n",
      "  center_alpha: 0.3\n",
      "  size_alpha: 0.01\n",
      "  angle_alpha: 0.2\n",
      "Processing 944 frames...\n",
      "Grid layout (3x3):\n",
      "  Row 1: Raw | Momentum-Merged | Edges\n",
      "  Row 2: Dilated | Morphology | Search Mask\n",
      "  Row 3: Best Contour | Tracking Info | Distance\n",
      "Tracker config:\n",
      "  expansion: 0.5\n",
      "  center_alpha: 0.3\n",
      "  size_alpha: 0.01\n",
      "  angle_alpha: 0.2\n",
      "Processed 50/944 frames\n",
      "Processed 50/944 frames\n",
      "Processed 100/944 frames\n",
      "Processed 100/944 frames\n",
      "Processed 150/944 frames\n",
      "Processed 150/944 frames\n",
      "Processed 200/944 frames\n",
      "Processed 200/944 frames\n",
      "Processed 250/944 frames\n",
      "Processed 250/944 frames\n",
      "Processed 300/944 frames\n",
      "Processed 300/944 frames\n",
      "Processed 350/944 frames\n",
      "Processed 350/944 frames\n",
      "Processed 400/944 frames\n",
      "Processed 400/944 frames\n",
      "Processed 450/944 frames\n",
      "Processed 450/944 frames\n",
      "Processed 500/944 frames\n",
      "Processed 500/944 frames\n",
      "Processed 550/944 frames\n",
      "Processed 550/944 frames\n",
      "Processed 600/944 frames\n",
      "Processed 600/944 frames\n",
      "Processed 650/944 frames\n",
      "Processed 650/944 frames\n",
      "Processed 700/944 frames\n",
      "Processed 700/944 frames\n",
      "Processed 750/944 frames\n",
      "Processed 750/944 frames\n",
      "Processed 800/944 frames\n",
      "Processed 800/944 frames\n",
      "Processed 850/944 frames\n",
      "Processed 850/944 frames\n",
      "Processed 900/944 frames\n",
      "Processed 900/944 frames\n",
      "\n",
      "✓ Video saved to: /Volumes/LaCie/SOLAQUA/exports/videos/net_detection_pipeline.mp4\n",
      "Grid layout: Raw | Momentum | Edges\n",
      "             Dilated | Morphology | Search Mask\n",
      "             Best Contour | Tracking Info | Distance\n",
      "\n",
      "✓ Video saved to: /Volumes/LaCie/SOLAQUA/exports/videos/net_detection_pipeline.mp4\n",
      "Grid layout: Raw | Momentum | Edges\n",
      "             Dilated | Morphology | Search Mask\n",
      "             Best Contour | Tracking Info | Distance\n"
     ]
    }
   ],
   "source": [
    "# Import video generation module\n",
    "import utils.video_generation as sg\n",
    "import importlib\n",
    "\n",
    "# Force reload to pick up config changes\n",
    "importlib.reload(sg)\n",
    "\n",
    "# Verify the config value is correct\n",
    "from utils.config import TRACKING_CONFIG as CHECK_CONFIG\n",
    "print(f\"Verified expansion factor: {CHECK_CONFIG['ellipse_expansion_factor']}\")\n",
    "\n",
    "print(\"GENERATING CONTOUR DETECTION PIPELINE VIDEO\")\n",
    "print(\"=\" * 60)\n",
    "\n",
    "# Generate contour detection video showing the exact analysis pipeline\n",
    "try:\n",
    "    video_path = sg.create_enhanced_contour_detection_video(\n",
    "        npz_file_index=NPZ_FILE_INDEX,          \n",
    "        frame_start=1,           \n",
    "        frame_count=1500,         \n",
    "        frame_step=1,            \n",
    "        output_path=str(Path(EXPORTS_DIR_DEFAULT) / EXPORTS_SUBDIRS.get('videos','videos') / 'net_detection_pipeline.mp4')\n",
    "    )\n",
    "    \n",
    "except Exception as e:\n",
    "    print(f\"❌ Video generation failed: {e}\")\n",
    "    import traceback\n",
    "    traceback.print_exc()"
   ]
  },
  {
   "cell_type": "code",
   "execution_count": 4,
   "id": "d9c0382e",
   "metadata": {},
   "outputs": [
    {
     "name": "stdout",
     "output_type": "stream",
     "text": [
      "\n",
      "============================================================\n",
      "ANALYZING DISTANCE OVER TIME\n",
      "============================================================\n",
      "Analyzing 944 frames from 2024-08-20_17-02-00_data_cones.npz\n",
      "Analyzing 944 frames from 2024-08-20_17-02-00_data_cones.npz\n",
      "  50/944 | TRACKED\n",
      "  50/944 | TRACKED\n",
      "  100/944 | TRACKED\n",
      "  100/944 | TRACKED\n",
      "  150/944 | TRACKED\n",
      "  150/944 | TRACKED\n",
      "  200/944 | TRACKED\n",
      "  200/944 | TRACKED\n",
      "  250/944 | TRACKED\n",
      "  250/944 | TRACKED\n",
      "  300/944 | TRACKED\n",
      "  300/944 | TRACKED\n",
      "  350/944 | TRACKED\n",
      "  350/944 | TRACKED\n",
      "  400/944 | TRACKED\n",
      "  400/944 | TRACKED\n",
      "  450/944 | TRACKED\n",
      "  450/944 | TRACKED\n",
      "  500/944 | TRACKED\n",
      "  500/944 | TRACKED\n",
      "  550/944 | TRACKED\n",
      "  550/944 | TRACKED\n",
      "  600/944 | TRACKED\n",
      "  600/944 | TRACKED\n",
      "  650/944 | TRACKED\n",
      "  650/944 | TRACKED\n",
      "  700/944 | TRACKED\n",
      "  700/944 | TRACKED\n",
      "  750/944 | TRACKED\n",
      "  750/944 | TRACKED\n",
      "  800/944 | TRACKED\n",
      "  800/944 | TRACKED\n",
      "  850/944 | TRACKED\n",
      "  850/944 | TRACKED\n",
      "  900/944 | TRACKED\n",
      "  900/944 | TRACKED\n",
      "Saved: /Volumes/LaCie/SOLAQUA/exports/outputs/2024-08-20_17-02-00_data_cones_analysis.csv\n",
      "Saved: /Volumes/LaCie/SOLAQUA/exports/outputs/2024-08-20_17-02-00_data_cones_analysis.csv\n"
     ]
    }
   ],
   "source": [
    "# Analyze distance over time using functional API\n",
    "print(\"\\n\" + \"=\" * 60)\n",
    "print(\"ANALYZING DISTANCE OVER TIME\")\n",
    "print(\"=\" * 60)\n",
    "\n",
    "net_analysis_results = iau.analyze_npz_sequence(\n",
    "    npz_file_index=NPZ_FILE_INDEX,    \n",
    "    frame_start=1,\n",
    "    frame_count=1500,\n",
    "    frame_step=1,\n",
    "    save_outputs=True\n",
    ")"
   ]
  },
  {
   "cell_type": "code",
   "execution_count": 5,
   "id": "0bd5183d",
   "metadata": {},
   "outputs": [
    {
     "data": {
      "text/plain": [
       "Index(['frame_index', 'timestamp', 'distance_pixels', 'distance_meters',\n",
       "       'angle_degrees', 'detection_success', 'tracking_status', 'area'],\n",
       "      dtype='object')"
      ]
     },
     "execution_count": 5,
     "metadata": {},
     "output_type": "execute_result"
    }
   ],
   "source": [
    "net_analysis_results.columns"
   ]
  },
  {
   "cell_type": "markdown",
   "id": "fede9d64",
   "metadata": {},
   "source": [
    "## Convert to Real-World Distances\n",
    "\n",
    "Now let's convert the pixel distances to real-world distances using the fact that the entire sonar image represents a 10x10 meter area."
   ]
  },
  {
   "cell_type": "code",
   "execution_count": 6,
   "id": "886897de",
   "metadata": {},
   "outputs": [
    {
     "name": "stdout",
     "output_type": "stream",
     "text": [
      "Using pixels_to_meters_avg = 0.016765 m/px\n",
      "Mapping source: npz_metadata\n"
     ]
    }
   ],
   "source": [
    "# Auto-detect pixel->meter mapping from the selected NPZ using utils function\n",
    "from utils.sonar_utils import get_pixel_to_meter_mapping\n",
    "mapping_info = get_pixel_to_meter_mapping(selected)\n",
    "\n",
    "# Extract commonly used variables for backwards compatibility\n",
    "pixels_to_meters_avg = mapping_info['pixels_to_meters_avg']\n",
    "image_shape = mapping_info['image_shape'] \n",
    "sonar_coverage_meters = mapping_info['sonar_coverage_meters']\n",
    "\n",
    "print(f\"Using pixels_to_meters_avg = {pixels_to_meters_avg:.6f} m/px\")\n",
    "print(f\"Mapping source: {mapping_info['source']}\")"
   ]
  },
  {
   "cell_type": "code",
   "execution_count": 7,
   "id": "15d6238c",
   "metadata": {},
   "outputs": [
    {
     "data": {
      "application/vnd.plotly.v1+json": {
       "config": {
        "plotlyServerURL": "https://plot.ly"
       },
       "data": [
        {
         "line": {
          "color": "blue"
         },
         "mode": "lines+markers",
         "name": "Distance",
         "type": "scatter",
         "x": {
          "bdata": "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",
          "dtype": "i2"
         },
         "xaxis": "x",
         "y": {
          "bdata": "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",
          "dtype": "f8"
         },
         "yaxis": "y"
        },
        {
         "line": {
          "color": "green"
         },
         "mode": "lines+markers",
         "name": "Over Time",
         "type": "scatter",
         "x": [
          "2024-08-20T15:02:03.319382668",
          "2024-08-20T15:02:03.405480623",
          "2024-08-20T15:02:03.458926201",
          "2024-08-20T15:02:03.505110979",
          "2024-08-20T15:02:03.609708309",
          "2024-08-20T15:02:03.678177118",
          "2024-08-20T15:02:03.741356611",
          "2024-08-20T15:02:03.792009115",
          "2024-08-20T15:02:03.846092939",
          "2024-08-20T15:02:03.902281761",
          "2024-08-20T15:02:04.086481810",
          "2024-08-20T15:02:04.100424767",
          "2024-08-20T15:02:04.152793884",
          "2024-08-20T15:02:04.202293396",
          "2024-08-20T15:02:04.257944583",
          "2024-08-20T15:02:04.315842390",
          "2024-08-20T15:02:04.354002953",
          "2024-08-20T15:02:04.418097496",
          "2024-08-20T15:02:04.460487843",
          "2024-08-20T15:02:04.520919323",
          "2024-08-20T15:02:04.586270809",
          "2024-08-20T15:02:04.647171021",
          "2024-08-20T15:02:04.712663174",
          "2024-08-20T15:02:04.801765203",
          "2024-08-20T15:02:04.849609375",
          "2024-08-20T15:02:04.905240774",
          "2024-08-20T15:02:04.978989840",
          "2024-08-20T15:02:05.035968065",
          "2024-08-20T15:02:05.119496584",
          "2024-08-20T15:02:05.162311792",
          "2024-08-20T15:02:05.233328342",
          "2024-08-20T15:02:05.291502237",
          "2024-08-20T15:02:05.355968714",
          "2024-08-20T15:02:05.420989513",
          "2024-08-20T15:02:05.493349552",
          "2024-08-20T15:02:05.554372549",
          "2024-08-20T15:02:05.611735821",
          "2024-08-20T15:02:05.684974670",
          "2024-08-20T15:02:05.740617037",
          "2024-08-20T15:02:05.800923586",
          "2024-08-20T15:02:05.894599199",
          "2024-08-20T15:02:05.934297085",
          "2024-08-20T15:02:05.995323420",
          "2024-08-20T15:02:06.072461367",
          "2024-08-20T15:02:06.123364925",
          "2024-08-20T15:02:06.183022022",
          "2024-08-20T15:02:06.258321047",
          "2024-08-20T15:02:06.337062359",
          "2024-08-20T15:02:06.437871456",
          "2024-08-20T15:02:06.500073910",
          "2024-08-20T15:02:06.553930998",
          "2024-08-20T15:02:06.602186441",
          "2024-08-20T15:02:06.661056757",
          "2024-08-20T15:02:06.723252773",
          "2024-08-20T15:02:06.767759323",
          "2024-08-20T15:02:06.825304508",
          "2024-08-20T15:02:06.900381327",
          "2024-08-20T15:02:06.953545570",
          "2024-08-20T15:02:07.019463301",
          "2024-08-20T15:02:07.082802057",
          "2024-08-20T15:02:07.148806810",
          "2024-08-20T15:02:07.225367069",
          "2024-08-20T15:02:07.287548780",
          "2024-08-20T15:02:07.346837044",
          "2024-08-20T15:02:07.404702902",
          "2024-08-20T15:02:07.473433733",
          "2024-08-20T15:02:07.531546116",
          "2024-08-20T15:02:07.594927073",
          "2024-08-20T15:02:07.659075260",
          "2024-08-20T15:02:07.722234011",
          "2024-08-20T15:02:07.787806273",
          "2024-08-20T15:02:07.853889227",
          "2024-08-20T15:02:07.915701151",
          "2024-08-20T15:02:08.024667978",
          "2024-08-20T15:02:08.074301004",
          "2024-08-20T15:02:08.142426729",
          "2024-08-20T15:02:08.195958614",
          "2024-08-20T15:02:08.260633230",
          "2024-08-20T15:02:08.313341618",
          "2024-08-20T15:02:08.369414568",
          "2024-08-20T15:02:08.426076412",
          "2024-08-20T15:02:08.497674465",
          "2024-08-20T15:02:08.550859928",
          "2024-08-20T15:02:08.617468834",
          "2024-08-20T15:02:08.684263468",
          "2024-08-20T15:02:08.747846603",
          "2024-08-20T15:02:08.806670189",
          "2024-08-20T15:02:08.877762556",
          "2024-08-20T15:02:08.935708284",
          "2024-08-20T15:02:09.004830599",
          "2024-08-20T15:02:09.066636800",
          "2024-08-20T15:02:09.127972364",
          "2024-08-20T15:02:09.195428133",
          "2024-08-20T15:02:09.258732796",
          "2024-08-20T15:02:09.322979450",
          "2024-08-20T15:02:09.388846636",
          "2024-08-20T15:02:09.455889225",
          "2024-08-20T15:02:09.517638445",
          "2024-08-20T15:02:09.576431036",
          "2024-08-20T15:02:09.640974283",
          "2024-08-20T15:02:09.706049681",
          "2024-08-20T15:02:09.776943207",
          "2024-08-20T15:02:09.844408751",
          "2024-08-20T15:02:09.913848400",
          "2024-08-20T15:02:09.964217663",
          "2024-08-20T15:02:10.023548603",
          "2024-08-20T15:02:10.089924812",
          "2024-08-20T15:02:10.158896923",
          "2024-08-20T15:02:10.216018438",
          "2024-08-20T15:02:10.282464027",
          "2024-08-20T15:02:10.346537590",
          "2024-08-20T15:02:10.410078526",
          "2024-08-20T15:02:10.475857496",
          "2024-08-20T15:02:10.538304090",
          "2024-08-20T15:02:10.608801603",
          "2024-08-20T15:02:10.672032833",
          "2024-08-20T15:02:10.732135057",
          "2024-08-20T15:02:10.800167561",
          "2024-08-20T15:02:10.863806009",
          "2024-08-20T15:02:10.930808067",
          "2024-08-20T15:02:10.986194849",
          "2024-08-20T15:02:11.056145191",
          "2024-08-20T15:02:11.114486694",
          "2024-08-20T15:02:11.179707050",
          "2024-08-20T15:02:11.240445137",
          "2024-08-20T15:02:11.307287455",
          "2024-08-20T15:02:11.374160051",
          "2024-08-20T15:02:11.435974360",
          "2024-08-20T15:02:11.507108927",
          "2024-08-20T15:02:11.561276674",
          "2024-08-20T15:02:11.625485897",
          "2024-08-20T15:02:11.688947201",
          "2024-08-20T15:02:11.760122776",
          "2024-08-20T15:02:11.821008444",
          "2024-08-20T15:02:11.890764475",
          "2024-08-20T15:02:11.949049711",
          "2024-08-20T15:02:12.016218661",
          "2024-08-20T15:02:12.072448015",
          "2024-08-20T15:02:12.135240555",
          "2024-08-20T15:02:12.201061964",
          "2024-08-20T15:02:12.264262915",
          "2024-08-20T15:02:12.328293800",
          "2024-08-20T15:02:12.399371147",
          "2024-08-20T15:02:12.461815596",
          "2024-08-20T15:02:12.518969535",
          "2024-08-20T15:02:12.584862709",
          "2024-08-20T15:02:12.661695242",
          "2024-08-20T15:02:12.716780424",
          "2024-08-20T15:02:12.782329559",
          "2024-08-20T15:02:12.843914032",
          "2024-08-20T15:02:12.903848648",
          "2024-08-20T15:02:12.968052626",
          "2024-08-20T15:02:13.031479120",
          "2024-08-20T15:02:13.145377159",
          "2024-08-20T15:02:13.203678846",
          "2024-08-20T15:02:13.263162613",
          "2024-08-20T15:02:13.322014570",
          "2024-08-20T15:02:13.371045828",
          "2024-08-20T15:02:13.431981087",
          "2024-08-20T15:02:13.487802029",
          "2024-08-20T15:02:13.544198990",
          "2024-08-20T15:02:13.611216068",
          "2024-08-20T15:02:13.672913074",
          "2024-08-20T15:02:13.745206833",
          "2024-08-20T15:02:13.800183296",
          "2024-08-20T15:02:13.872680902",
          "2024-08-20T15:02:13.936649084",
          "2024-08-20T15:02:13.996327162",
          "2024-08-20T15:02:14.061575413",
          "2024-08-20T15:02:14.126532793",
          "2024-08-20T15:02:14.185605764",
          "2024-08-20T15:02:14.271306515",
          "2024-08-20T15:02:14.348901987",
          "2024-08-20T15:02:14.394125223",
          "2024-08-20T15:02:14.467455149",
          "2024-08-20T15:02:14.505803823",
          "2024-08-20T15:02:14.570301533",
          "2024-08-20T15:02:14.634587526",
          "2024-08-20T15:02:14.696284771",
          "2024-08-20T15:02:14.774227142",
          "2024-08-20T15:02:14.829032898",
          "2024-08-20T15:02:14.913076639",
          "2024-08-20T15:02:14.954526663",
          "2024-08-20T15:02:15.022917747",
          "2024-08-20T15:02:15.080084562",
          "2024-08-20T15:02:15.143835068",
          "2024-08-20T15:02:15.210468531",
          "2024-08-20T15:02:15.274260998",
          "2024-08-20T15:02:15.338841438",
          "2024-08-20T15:02:15.414268494",
          "2024-08-20T15:02:15.473277569",
          "2024-08-20T15:02:15.549124241",
          "2024-08-20T15:02:15.596066475",
          "2024-08-20T15:02:15.661518097",
          "2024-08-20T15:02:15.723046780",
          "2024-08-20T15:02:15.784467936",
          "2024-08-20T15:02:15.849677324",
          "2024-08-20T15:02:15.922968149",
          "2024-08-20T15:02:15.976027012",
          "2024-08-20T15:02:16.040674448",
          "2024-08-20T15:02:16.103974104",
          "2024-08-20T15:02:16.227833509",
          "2024-08-20T15:02:16.287337780",
          "2024-08-20T15:02:16.326759815",
          "2024-08-20T15:02:16.387101173",
          "2024-08-20T15:02:16.444554567",
          "2024-08-20T15:02:16.492290735",
          "2024-08-20T15:02:16.551457167",
          "2024-08-20T15:02:16.617150307",
          "2024-08-20T15:02:16.681065559",
          "2024-08-20T15:02:16.744091988",
          "2024-08-20T15:02:16.812081575",
          "2024-08-20T15:02:16.891238928",
          "2024-08-20T15:02:16.938555717",
          "2024-08-20T15:02:17.001221180",
          "2024-08-20T15:02:17.072429419",
          "2024-08-20T15:02:17.137677193",
          "2024-08-20T15:02:17.194078922",
          "2024-08-20T15:02:17.268404484",
          "2024-08-20T15:02:17.319498301",
          "2024-08-20T15:02:17.385424137",
          "2024-08-20T15:02:17.451843739",
          "2024-08-20T15:02:17.512377262",
          "2024-08-20T15:02:17.590619087",
          "2024-08-20T15:02:17.643316269",
          "2024-08-20T15:02:17.707903624",
          "2024-08-20T15:02:17.783972502",
          "2024-08-20T15:02:17.835364819",
          "2024-08-20T15:02:17.896744251",
          "2024-08-20T15:02:18.100656986",
          "2024-08-20T15:02:18.114543915",
          "2024-08-20T15:02:18.170460939",
          "2024-08-20T15:02:18.227427483",
          "2024-08-20T15:02:18.277421713",
          "2024-08-20T15:02:18.324504375",
          "2024-08-20T15:02:18.379124880",
          "2024-08-20T15:02:18.435323238",
          "2024-08-20T15:02:18.477159023",
          "2024-08-20T15:02:18.539041758",
          "2024-08-20T15:02:18.601981401",
          "2024-08-20T15:02:18.665370226",
          "2024-08-20T15:02:18.732744455",
          "2024-08-20T15:02:18.793458700",
          "2024-08-20T15:02:18.857421398",
          "2024-08-20T15:02:18.927323580",
          "2024-08-20T15:02:18.984479666",
          "2024-08-20T15:02:19.060393810",
          "2024-08-20T15:02:19.115445375",
          "2024-08-20T15:02:19.182053566",
          "2024-08-20T15:02:19.243398190",
          "2024-08-20T15:02:19.304740191",
          "2024-08-20T15:02:19.374708176",
          "2024-08-20T15:02:19.439968586",
          "2024-08-20T15:02:19.500493765",
          "2024-08-20T15:02:19.566367149",
          "2024-08-20T15:02:19.631720781",
          "2024-08-20T15:02:19.691996813",
          "2024-08-20T15:02:19.752685785",
          "2024-08-20T15:02:19.819993973",
          "2024-08-20T15:02:19.889420986",
          "2024-08-20T15:02:19.945078850",
          "2024-08-20T15:02:20.016147852",
          "2024-08-20T15:02:20.082740068",
          "2024-08-20T15:02:20.140391588",
          "2024-08-20T15:02:20.211611986",
          "2024-08-20T15:02:20.267622232",
          "2024-08-20T15:02:20.329037428",
          "2024-08-20T15:02:20.400877476",
          "2024-08-20T15:02:20.459259510",
          "2024-08-20T15:02:20.522083521",
          "2024-08-20T15:02:20.600039244",
          "2024-08-20T15:02:20.650019407",
          "2024-08-20T15:02:20.712558985",
          "2024-08-20T15:02:20.780246735",
          "2024-08-20T15:02:20.843518734",
          "2024-08-20T15:02:20.902980566",
          "2024-08-20T15:02:20.969496489",
          "2024-08-20T15:02:21.043545246",
          "2024-08-20T15:02:21.098949909",
          "2024-08-20T15:02:21.163802147",
          "2024-08-20T15:02:21.232574224",
          "2024-08-20T15:02:21.292226315",
          "2024-08-20T15:02:21.412611485",
          "2024-08-20T15:02:21.461090326",
          "2024-08-20T15:02:21.514377594",
          "2024-08-20T15:02:21.585579634",
          "2024-08-20T15:02:21.630430222",
          "2024-08-20T15:02:21.681182384",
          "2024-08-20T15:02:21.743328810",
          "2024-08-20T15:02:21.801466227",
          "2024-08-20T15:02:21.868949175",
          "2024-08-20T15:02:21.930560350",
          "2024-08-20T15:02:21.992127419",
          "2024-08-20T15:02:22.057843924",
          "2024-08-20T15:02:22.123460770",
          "2024-08-20T15:02:22.190582037",
          "2024-08-20T15:02:22.385959625",
          "2024-08-20T15:02:22.406623125",
          "2024-08-20T15:02:22.459173679",
          "2024-08-20T15:02:22.508291483",
          "2024-08-20T15:02:22.560722351",
          "2024-08-20T15:02:22.607272863",
          "2024-08-20T15:02:22.661085129",
          "2024-08-20T15:02:22.698955536",
          "2024-08-20T15:02:22.759381771",
          "2024-08-20T15:02:22.825728893",
          "2024-08-20T15:02:22.895782709",
          "2024-08-20T15:02:22.956181049",
          "2024-08-20T15:02:23.021456003",
          "2024-08-20T15:02:23.080005169",
          "2024-08-20T15:02:23.144580126",
          "2024-08-20T15:02:23.207614899",
          "2024-08-20T15:02:23.289229631",
          "2024-08-20T15:02:23.349857807",
          "2024-08-20T15:02:23.400171995",
          "2024-08-20T15:02:23.468316317",
          "2024-08-20T15:02:23.529410362",
          "2024-08-20T15:02:23.599021673",
          "2024-08-20T15:02:23.659621239",
          "2024-08-20T15:02:23.730462790",
          "2024-08-20T15:02:23.790312529",
          "2024-08-20T15:02:23.850436687",
          "2024-08-20T15:02:23.913272858",
          "2024-08-20T15:02:24.029149055",
          "2024-08-20T15:02:24.045118809",
          "2024-08-20T15:02:24.106728792",
          "2024-08-20T15:02:24.170419931",
          "2024-08-20T15:02:24.233547926",
          "2024-08-20T15:02:24.304278612",
          "2024-08-20T15:02:24.375125885",
          "2024-08-20T15:02:24.426752806",
          "2024-08-20T15:02:24.496708155",
          "2024-08-20T15:02:24.554205656",
          "2024-08-20T15:02:24.617552519",
          "2024-08-20T15:02:24.686195135",
          "2024-08-20T15:02:24.760207415",
          "2024-08-20T15:02:24.807860136",
          "2024-08-20T15:02:24.876455545",
          "2024-08-20T15:02:24.941790581",
          "2024-08-20T15:02:25.008382558",
          "2024-08-20T15:02:25.066074371",
          "2024-08-20T15:02:25.140570402",
          "2024-08-20T15:02:25.205810308",
          "2024-08-20T15:02:25.257520914",
          "2024-08-20T15:02:25.333059788",
          "2024-08-20T15:02:25.394671440",
          "2024-08-20T15:02:25.450978041",
          "2024-08-20T15:02:25.514000653",
          "2024-08-20T15:02:25.586850882",
          "2024-08-20T15:02:25.641273737",
          "2024-08-20T15:02:25.706361294",
          "2024-08-20T15:02:25.772564888",
          "2024-08-20T15:02:25.834031105",
          "2024-08-20T15:02:25.896715164",
          "2024-08-20T15:02:25.989979267",
          "2024-08-20T15:02:26.024762392",
          "2024-08-20T15:02:26.089249611",
          "2024-08-20T15:02:26.188222408",
          "2024-08-20T15:02:26.218493223",
          "2024-08-20T15:02:26.281080246",
          "2024-08-20T15:02:26.349369526",
          "2024-08-20T15:02:26.408915758",
          "2024-08-20T15:02:26.476541281",
          "2024-08-20T15:02:26.537716150",
          "2024-08-20T15:02:26.606913328",
          "2024-08-20T15:02:26.671022177",
          "2024-08-20T15:02:26.728426933",
          "2024-08-20T15:02:26.792001247",
          "2024-08-20T15:02:26.856270075",
          "2024-08-20T15:02:26.922894239",
          "2024-08-20T15:02:26.982944012",
          "2024-08-20T15:02:27.062229872",
          "2024-08-20T15:02:27.117772818",
          "2024-08-20T15:02:27.176681280",
          "2024-08-20T15:02:27.241223097",
          "2024-08-20T15:02:27.306010246",
          "2024-08-20T15:02:27.374457359",
          "2024-08-20T15:02:27.444693565",
          "2024-08-20T15:02:27.507872105",
          "2024-08-20T15:02:27.562695265",
          "2024-08-20T15:02:27.624082088",
          "2024-08-20T15:02:27.690708160",
          "2024-08-20T15:02:27.756972313",
          "2024-08-20T15:02:27.817291260",
          "2024-08-20T15:02:27.887534618",
          "2024-08-20T15:02:27.956670761",
          "2024-08-20T15:02:28.015558720",
          "2024-08-20T15:02:28.075350285",
          "2024-08-20T15:02:28.141049147",
          "2024-08-20T15:02:28.206633329",
          "2024-08-20T15:02:28.308828831",
          "2024-08-20T15:02:28.328412294",
          "2024-08-20T15:02:28.393704653",
          "2024-08-20T15:02:28.467985153",
          "2024-08-20T15:02:28.521673917",
          "2024-08-20T15:02:28.585394144",
          "2024-08-20T15:02:28.648542881",
          "2024-08-20T15:02:28.713586330",
          "2024-08-20T15:02:28.775563002",
          "2024-08-20T15:02:28.858064651",
          "2024-08-20T15:02:28.909208536",
          "2024-08-20T15:02:28.967791796",
          "2024-08-20T15:02:29.044754267",
          "2024-08-20T15:02:29.101896763",
          "2024-08-20T15:02:29.174269199",
          "2024-08-20T15:02:29.223347902",
          "2024-08-20T15:02:29.288270235",
          "2024-08-20T15:02:29.357653856",
          "2024-08-20T15:02:29.429944754",
          "2024-08-20T15:02:29.481639624",
          "2024-08-20T15:02:29.551261902",
          "2024-08-20T15:02:29.619050741",
          "2024-08-20T15:02:29.672195196",
          "2024-08-20T15:02:29.743817329",
          "2024-08-20T15:02:29.802409649",
          "2024-08-20T15:02:29.870204210",
          "2024-08-20T15:02:29.929674625",
          "2024-08-20T15:02:29.993205070",
          "2024-08-20T15:02:30.063259840",
          "2024-08-20T15:02:30.121053696",
          "2024-08-20T15:02:30.184971809",
          "2024-08-20T15:02:30.253999472",
          "2024-08-20T15:02:30.319680214",
          "2024-08-20T15:02:30.376842976",
          "2024-08-20T15:02:30.445385218",
          "2024-08-20T15:02:30.511816740",
          "2024-08-20T15:02:30.585410833",
          "2024-08-20T15:02:30.636364937",
          "2024-08-20T15:02:30.698356390",
          "2024-08-20T15:02:30.768208265",
          "2024-08-20T15:02:30.832251787",
          "2024-08-20T15:02:30.893371105",
          "2024-08-20T15:02:30.953153610",
          "2024-08-20T15:02:31.020323038",
          "2024-08-20T15:02:31.085214853",
          "2024-08-20T15:02:31.145336151",
          "2024-08-20T15:02:31.209053040",
          "2024-08-20T15:02:31.275628567",
          "2024-08-20T15:02:31.336674452",
          "2024-08-20T15:02:31.404606342",
          "2024-08-20T15:02:31.474096537",
          "2024-08-20T15:02:31.529267787",
          "2024-08-20T15:02:31.591548443",
          "2024-08-20T15:02:31.669923067",
          "2024-08-20T15:02:31.731186628",
          "2024-08-20T15:02:31.783874989",
          "2024-08-20T15:02:31.853004456",
          "2024-08-20T15:02:31.919548512",
          "2024-08-20T15:02:31.975577593",
          "2024-08-20T15:02:32.044359446",
          "2024-08-20T15:02:32.105341911",
          "2024-08-20T15:02:32.170599937",
          "2024-08-20T15:02:32.233540297",
          "2024-08-20T15:02:32.296683788",
          "2024-08-20T15:02:32.362432957",
          "2024-08-20T15:02:32.424155951",
          "2024-08-20T15:02:32.489302397",
          "2024-08-20T15:02:32.558390856",
          "2024-08-20T15:02:32.622975588",
          "2024-08-20T15:02:32.687146664",
          "2024-08-20T15:02:32.749906301",
          "2024-08-20T15:02:32.807499886",
          "2024-08-20T15:02:32.886009455",
          "2024-08-20T15:02:32.937165022",
          "2024-08-20T15:02:33.000575066",
          "2024-08-20T15:02:33.068406582",
          "2024-08-20T15:02:33.133463621",
          "2024-08-20T15:02:33.192821980",
          "2024-08-20T15:02:33.257572174",
          "2024-08-20T15:02:33.324933767",
          "2024-08-20T15:02:33.388277531",
          "2024-08-20T15:02:33.450236797",
          "2024-08-20T15:02:33.514576435",
          "2024-08-20T15:02:33.577020407",
          "2024-08-20T15:02:33.643186092",
          "2024-08-20T15:02:33.704810858",
          "2024-08-20T15:02:33.786421061",
          "2024-08-20T15:02:33.835893154",
          "2024-08-20T15:02:33.897256136",
          "2024-08-20T15:02:33.968865156",
          "2024-08-20T15:02:34.032231092",
          "2024-08-20T15:02:34.091290712",
          "2024-08-20T15:02:34.152712107",
          "2024-08-20T15:02:34.217556477",
          "2024-08-20T15:02:34.288420200",
          "2024-08-20T15:02:34.344680071",
          "2024-08-20T15:02:34.409139872",
          "2024-08-20T15:02:34.491739273",
          "2024-08-20T15:02:34.536132811",
          "2024-08-20T15:02:34.602285147",
          "2024-08-20T15:02:34.671800137",
          "2024-08-20T15:02:34.739990473",
          "2024-08-20T15:02:34.796599865",
          "2024-08-20T15:02:34.858361244",
          "2024-08-20T15:02:34.923528910",
          "2024-08-20T15:02:34.985959053",
          "2024-08-20T15:02:35.051245689",
          "2024-08-20T15:02:35.114219904",
          "2024-08-20T15:02:35.186524630",
          "2024-08-20T15:02:35.240365982",
          "2024-08-20T15:02:35.307219505",
          "2024-08-20T15:02:35.374120235",
          "2024-08-20T15:02:35.435068607",
          "2024-08-20T15:02:35.502814293",
          "2024-08-20T15:02:35.562094688",
          "2024-08-20T15:02:35.627502203",
          "2024-08-20T15:02:35.687851667",
          "2024-08-20T15:02:35.757017374",
          "2024-08-20T15:02:35.815479517",
          "2024-08-20T15:02:35.883457661",
          "2024-08-20T15:02:35.946527243",
          "2024-08-20T15:02:36.015923262",
          "2024-08-20T15:02:36.076918840",
          "2024-08-20T15:02:36.141477585",
          "2024-08-20T15:02:36.212254047",
          "2024-08-20T15:02:36.269061089",
          "2024-08-20T15:02:36.401069403",
          "2024-08-20T15:02:36.415702820",
          "2024-08-20T15:02:36.476120234",
          "2024-08-20T15:02:36.524751902",
          "2024-08-20T15:02:36.588729620",
          "2024-08-20T15:02:36.656764746",
          "2024-08-20T15:02:36.713495970",
          "2024-08-20T15:02:36.785143852",
          "2024-08-20T15:02:36.856444120",
          "2024-08-20T15:02:36.906286478",
          "2024-08-20T15:02:36.971770048",
          "2024-08-20T15:02:37.038597345",
          "2024-08-20T15:02:37.109313488",
          "2024-08-20T15:02:37.164714336",
          "2024-08-20T15:02:37.241803408",
          "2024-08-20T15:02:37.292017698",
          "2024-08-20T15:02:37.357360601",
          "2024-08-20T15:02:37.419152021",
          "2024-08-20T15:02:37.499569654",
          "2024-08-20T15:02:37.556719780",
          "2024-08-20T15:02:37.612350941",
          "2024-08-20T15:02:37.681804657",
          "2024-08-20T15:02:37.750665426",
          "2024-08-20T15:02:37.800620079",
          "2024-08-20T15:02:37.868513823",
          "2024-08-20T15:02:37.937636137",
          "2024-08-20T15:02:37.997366428",
          "2024-08-20T15:02:38.059195280",
          "2024-08-20T15:02:38.123811483",
          "2024-08-20T15:02:38.192901373",
          "2024-08-20T15:02:38.257703781",
          "2024-08-20T15:02:38.311951876",
          "2024-08-20T15:02:38.380110502",
          "2024-08-20T15:02:38.464016199",
          "2024-08-20T15:02:38.504472017",
          "2024-08-20T15:02:38.570107698",
          "2024-08-20T15:02:38.639117956",
          "2024-08-20T15:02:38.699297428",
          "2024-08-20T15:02:38.763996601",
          "2024-08-20T15:02:38.824991703",
          "2024-08-20T15:02:38.892581224",
          "2024-08-20T15:02:38.955995083",
          "2024-08-20T15:02:39.017602444",
          "2024-08-20T15:02:39.081228971",
          "2024-08-20T15:02:39.150828362",
          "2024-08-20T15:02:39.211597204",
          "2024-08-20T15:02:39.276732683",
          "2024-08-20T15:02:39.349095583",
          "2024-08-20T15:02:39.405489922",
          "2024-08-20T15:02:39.466227055",
          "2024-08-20T15:02:39.533651828",
          "2024-08-20T15:02:39.596955538",
          "2024-08-20T15:02:39.658757210",
          "2024-08-20T15:02:39.721477509",
          "2024-08-20T15:02:39.784847021",
          "2024-08-20T15:02:39.848814726",
          "2024-08-20T15:02:39.913841009",
          "2024-08-20T15:02:39.978740692",
          "2024-08-20T15:02:40.055141687",
          "2024-08-20T15:02:40.105005026",
          "2024-08-20T15:02:40.169577837",
          "2024-08-20T15:02:40.232192516",
          "2024-08-20T15:02:40.301141500",
          "2024-08-20T15:02:40.363980055",
          "2024-08-20T15:02:40.424654245",
          "2024-08-20T15:02:40.502946854",
          "2024-08-20T15:02:40.556308508",
          "2024-08-20T15:02:40.615940809",
          "2024-08-20T15:02:40.682437420",
          "2024-08-20T15:02:40.757077217",
          "2024-08-20T15:02:40.808046103",
          "2024-08-20T15:02:40.883944273",
          "2024-08-20T15:02:40.936366796",
          "2024-08-20T15:02:41.002176762",
          "2024-08-20T15:02:41.074617863",
          "2024-08-20T15:02:41.138268471",
          "2024-08-20T15:02:41.198826551",
          "2024-08-20T15:02:41.258303642",
          "2024-08-20T15:02:41.322492599",
          "2024-08-20T15:02:41.385825157",
          "2024-08-20T15:02:41.453613758",
          "2024-08-20T15:02:41.516478777",
          "2024-08-20T15:02:41.578755617",
          "2024-08-20T15:02:41.664737940",
          "2024-08-20T15:02:41.705242872",
          "2024-08-20T15:02:41.771662712",
          "2024-08-20T15:02:41.836927891",
          "2024-08-20T15:02:41.900242329",
          "2024-08-20T15:02:41.965221167",
          "2024-08-20T15:02:42.025212049",
          "2024-08-20T15:02:42.098856211",
          "2024-08-20T15:02:42.162461996",
          "2024-08-20T15:02:42.216889143",
          "2024-08-20T15:02:42.287718296",
          "2024-08-20T15:02:42.351011038",
          "2024-08-20T15:02:42.412981272",
          "2024-08-20T15:02:42.472959280",
          "2024-08-20T15:02:42.543612480",
          "2024-08-20T15:02:42.602368832",
          "2024-08-20T15:02:42.665592432",
          "2024-08-20T15:02:42.731606722",
          "2024-08-20T15:02:42.796190739",
          "2024-08-20T15:02:42.859025002",
          "2024-08-20T15:02:42.921743631",
          "2024-08-20T15:02:42.987928391",
          "2024-08-20T15:02:43.053850651",
          "2024-08-20T15:02:43.115114450",
          "2024-08-20T15:02:43.178860664",
          "2024-08-20T15:02:43.243556738",
          "2024-08-20T15:02:43.310729265",
          "2024-08-20T15:02:43.371588230",
          "2024-08-20T15:02:43.442394733",
          "2024-08-20T15:02:43.502681493",
          "2024-08-20T15:02:43.565409184",
          "2024-08-20T15:02:43.628380299",
          "2024-08-20T15:02:43.695437431",
          "2024-08-20T15:02:43.765447378",
          "2024-08-20T15:02:43.818656683",
          "2024-08-20T15:02:43.883245230",
          "2024-08-20T15:02:43.945189953",
          "2024-08-20T15:02:44.009675026",
          "2024-08-20T15:02:44.075845480",
          "2024-08-20T15:02:44.135784864",
          "2024-08-20T15:02:44.208365440",
          "2024-08-20T15:02:44.269842625",
          "2024-08-20T15:02:44.344428301",
          "2024-08-20T15:02:44.398745775",
          "2024-08-20T15:02:44.467899084",
          "2024-08-20T15:02:44.522106647",
          "2024-08-20T15:02:44.588603020",
          "2024-08-20T15:02:44.651349545",
          "2024-08-20T15:02:44.713465452",
          "2024-08-20T15:02:44.783766270",
          "2024-08-20T15:02:44.844271421",
          "2024-08-20T15:02:44.909726143",
          "2024-08-20T15:02:44.967473984",
          "2024-08-20T15:02:45.037386656",
          "2024-08-20T15:02:45.102091551",
          "2024-08-20T15:02:45.172166109",
          "2024-08-20T15:02:45.227487087",
          "2024-08-20T15:02:45.292939425",
          "2024-08-20T15:02:45.359697342",
          "2024-08-20T15:02:45.418978930",
          "2024-08-20T15:02:45.487732410",
          "2024-08-20T15:02:45.549961805",
          "2024-08-20T15:02:45.616326571",
          "2024-08-20T15:02:45.677319050",
          "2024-08-20T15:02:45.743819475",
          "2024-08-20T15:02:45.813199043",
          "2024-08-20T15:02:45.865628719",
          "2024-08-20T15:02:45.927272081",
          "2024-08-20T15:02:45.996158838",
          "2024-08-20T15:02:46.067193985",
          "2024-08-20T15:02:46.123626232",
          "2024-08-20T15:02:46.191937923",
          "2024-08-20T15:02:46.251148939",
          "2024-08-20T15:02:46.316469669",
          "2024-08-20T15:02:46.378380537",
          "2024-08-20T15:02:46.441873550",
          "2024-08-20T15:02:46.507786036",
          "2024-08-20T15:02:46.576288223",
          "2024-08-20T15:02:46.638680696",
          "2024-08-20T15:02:46.696688890",
          "2024-08-20T15:02:46.775818586",
          "2024-08-20T15:02:46.827747107",
          "2024-08-20T15:02:46.892245054",
          "2024-08-20T15:02:46.962090015",
          "2024-08-20T15:02:47.024994850",
          "2024-08-20T15:02:47.086260557",
          "2024-08-20T15:02:47.147103310",
          "2024-08-20T15:02:47.215975046",
          "2024-08-20T15:02:47.276088715",
          "2024-08-20T15:02:47.338946819",
          "2024-08-20T15:02:47.408558846",
          "2024-08-20T15:02:47.465504408",
          "2024-08-20T15:02:47.531743525",
          "2024-08-20T15:02:47.598091125",
          "2024-08-20T15:02:47.660308361",
          "2024-08-20T15:02:47.719327927",
          "2024-08-20T15:02:47.785126448",
          "2024-08-20T15:02:47.855172873",
          "2024-08-20T15:02:47.917206287",
          "2024-08-20T15:02:47.978836298",
          "2024-08-20T15:02:48.039448977",
          "2024-08-20T15:02:48.105156898",
          "2024-08-20T15:02:48.170488834",
          "2024-08-20T15:02:48.232907295",
          "2024-08-20T15:02:48.303911448",
          "2024-08-20T15:02:48.424147844",
          "2024-08-20T15:02:48.474778891",
          "2024-08-20T15:02:48.525318146",
          "2024-08-20T15:02:48.574520350",
          "2024-08-20T15:02:48.638705730",
          "2024-08-20T15:02:48.694788933",
          "2024-08-20T15:02:48.756630182",
          "2024-08-20T15:02:48.808746576",
          "2024-08-20T15:02:48.879315853",
          "2024-08-20T15:02:48.940842867",
          "2024-08-20T15:02:49.005152702",
          "2024-08-20T15:02:49.090731144",
          "2024-08-20T15:02:49.145848274",
          "2024-08-20T15:02:49.208703518",
          "2024-08-20T15:02:49.259515047",
          "2024-08-20T15:02:49.325878143",
          "2024-08-20T15:02:49.389034271",
          "2024-08-20T15:02:49.456420183",
          "2024-08-20T15:02:49.513288736",
          "2024-08-20T15:02:49.586161613",
          "2024-08-20T15:02:49.645891190",
          "2024-08-20T15:02:49.706012726",
          "2024-08-20T15:02:49.779233456",
          "2024-08-20T15:02:49.833560228",
          "2024-08-20T15:02:49.898226023",
          "2024-08-20T15:02:49.967815876",
          "2024-08-20T15:02:50.028273582",
          "2024-08-20T15:02:50.089180470",
          "2024-08-20T15:02:50.164211512",
          "2024-08-20T15:02:50.221920729",
          "2024-08-20T15:02:50.286460876",
          "2024-08-20T15:02:50.345307589",
          "2024-08-20T15:02:50.408935785",
          "2024-08-20T15:02:50.476115227",
          "2024-08-20T15:02:50.540927410",
          "2024-08-20T15:02:50.601357460",
          "2024-08-20T15:02:50.683282852",
          "2024-08-20T15:02:50.737979412",
          "2024-08-20T15:02:50.793661833",
          "2024-08-20T15:02:50.856802702",
          "2024-08-20T15:02:50.928539276",
          "2024-08-20T15:02:50.990999937",
          "2024-08-20T15:02:51.050350189",
          "2024-08-20T15:02:51.113314867",
          "2024-08-20T15:02:51.180135012",
          "2024-08-20T15:02:51.243540764",
          "2024-08-20T15:02:51.310220718",
          "2024-08-20T15:02:51.375783682",
          "2024-08-20T15:02:51.440604925",
          "2024-08-20T15:02:51.497595549",
          "2024-08-20T15:02:51.571428776",
          "2024-08-20T15:02:51.632876873",
          "2024-08-20T15:02:51.688552618",
          "2024-08-20T15:02:51.755705357",
          "2024-08-20T15:02:51.818155050",
          "2024-08-20T15:02:51.886819363",
          "2024-08-20T15:02:51.949652910",
          "2024-08-20T15:02:52.007593393",
          "2024-08-20T15:02:52.074826956",
          "2024-08-20T15:02:52.138803720",
          "2024-08-20T15:02:52.210093021",
          "2024-08-20T15:02:52.275668144",
          "2024-08-20T15:02:52.333082676",
          "2024-08-20T15:02:52.394371986",
          "2024-08-20T15:02:52.459259748",
          "2024-08-20T15:02:52.531399488",
          "2024-08-20T15:02:52.616756916",
          "2024-08-20T15:02:52.650221825",
          "2024-08-20T15:02:52.711702585",
          "2024-08-20T15:02:52.788189173",
          "2024-08-20T15:02:52.842796803",
          "2024-08-20T15:02:52.903967857",
          "2024-08-20T15:02:52.970984697",
          "2024-08-20T15:02:53.038519382",
          "2024-08-20T15:02:53.152612686",
          "2024-08-20T15:02:53.167658567",
          "2024-08-20T15:02:53.230545044",
          "2024-08-20T15:02:53.297919989",
          "2024-08-20T15:02:53.353726149",
          "2024-08-20T15:02:53.420627832",
          "2024-08-20T15:02:53.480882883",
          "2024-08-20T15:02:53.546744585",
          "2024-08-20T15:02:53.608026266",
          "2024-08-20T15:02:53.677996635",
          "2024-08-20T15:02:53.742529392",
          "2024-08-20T15:02:53.830651283",
          "2024-08-20T15:02:53.866359472",
          "2024-08-20T15:02:53.927977800",
          "2024-08-20T15:02:53.992221832",
          "2024-08-20T15:02:54.059623480",
          "2024-08-20T15:02:54.120739460",
          "2024-08-20T15:02:54.193795681",
          "2024-08-20T15:02:54.249335289",
          "2024-08-20T15:02:54.317995310",
          "2024-08-20T15:02:54.383571148",
          "2024-08-20T15:02:54.442311764",
          "2024-08-20T15:02:54.506179332",
          "2024-08-20T15:02:54.576658010",
          "2024-08-20T15:02:54.637471914",
          "2024-08-20T15:02:54.703898668",
          "2024-08-20T15:02:54.764864922",
          "2024-08-20T15:02:54.824655294",
          "2024-08-20T15:02:54.891189337",
          "2024-08-20T15:02:54.953490496",
          "2024-08-20T15:02:55.032611132",
          "2024-08-20T15:02:55.081305981",
          "2024-08-20T15:02:55.158447266",
          "2024-08-20T15:02:55.210823774",
          "2024-08-20T15:02:55.275956392",
          "2024-08-20T15:02:55.346074104",
          "2024-08-20T15:02:55.404232740",
          "2024-08-20T15:02:55.470694542",
          "2024-08-20T15:02:55.528641939",
          "2024-08-20T15:02:55.594437122",
          "2024-08-20T15:02:55.665844917",
          "2024-08-20T15:02:55.724285126",
          "2024-08-20T15:02:55.791144371",
          "2024-08-20T15:02:55.852353096",
          "2024-08-20T15:02:55.915487528",
          "2024-08-20T15:02:55.984474897",
          "2024-08-20T15:02:56.056498051",
          "2024-08-20T15:02:56.105704546",
          "2024-08-20T15:02:56.178903818",
          "2024-08-20T15:02:56.237900257",
          "2024-08-20T15:02:56.296718359",
          "2024-08-20T15:02:56.362215996",
          "2024-08-20T15:02:56.431545496",
          "2024-08-20T15:02:56.490846157",
          "2024-08-20T15:02:56.555861950",
          "2024-08-20T15:02:56.618054867",
          "2024-08-20T15:02:56.681535482",
          "2024-08-20T15:02:56.746267319",
          "2024-08-20T15:02:56.808086872",
          "2024-08-20T15:02:56.885196209",
          "2024-08-20T15:02:56.941173553",
          "2024-08-20T15:02:57.000983477",
          "2024-08-20T15:02:57.067066668",
          "2024-08-20T15:02:57.138018608",
          "2024-08-20T15:02:57.195511103",
          "2024-08-20T15:02:57.258635283",
          "2024-08-20T15:02:57.336707115",
          "2024-08-20T15:02:57.389498711",
          "2024-08-20T15:02:57.454029560",
          "2024-08-20T15:02:57.516662359",
          "2024-08-20T15:02:57.577827215",
          "2024-08-20T15:02:57.647586823",
          "2024-08-20T15:02:57.707729816",
          "2024-08-20T15:02:57.770277739",
          "2024-08-20T15:02:57.843634605",
          "2024-08-20T15:02:57.905560493",
          "2024-08-20T15:02:57.984967232",
          "2024-08-20T15:02:58.030342817",
          "2024-08-20T15:02:58.103184938",
          "2024-08-20T15:02:58.154094458",
          "2024-08-20T15:02:58.218283176",
          "2024-08-20T15:02:58.289098263",
          "2024-08-20T15:02:58.362024546",
          "2024-08-20T15:02:58.409986258",
          "2024-08-20T15:02:58.476369143",
          "2024-08-20T15:02:58.542753220",
          "2024-08-20T15:02:58.617930889",
          "2024-08-20T15:02:58.667797565",
          "2024-08-20T15:02:58.727853537",
          "2024-08-20T15:02:58.802760124",
          "2024-08-20T15:02:58.860068798",
          "2024-08-20T15:02:58.929995775",
          "2024-08-20T15:02:58.988093376",
          "2024-08-20T15:02:59.054110765",
          "2024-08-20T15:02:59.112466335",
          "2024-08-20T15:02:59.183475733",
          "2024-08-20T15:02:59.242676258",
          "2024-08-20T15:02:59.309902430",
          "2024-08-20T15:02:59.369946957",
          "2024-08-20T15:02:59.437035084",
          "2024-08-20T15:02:59.499349594",
          "2024-08-20T15:02:59.564939260",
          "2024-08-20T15:02:59.626541376",
          "2024-08-20T15:02:59.690696716",
          "2024-08-20T15:02:59.769605160",
          "2024-08-20T15:02:59.822539091",
          "2024-08-20T15:02:59.885165215",
          "2024-08-20T15:02:59.949295282",
          "2024-08-20T15:03:00.010670662",
          "2024-08-20T15:03:00.085540771",
          "2024-08-20T15:03:00.138278008",
          "2024-08-20T15:03:00.206751585",
          "2024-08-20T15:03:00.266874312",
          "2024-08-20T15:03:00.328287601",
          "2024-08-20T15:03:00.396478415",
          "2024-08-20T15:03:00.461751699",
          "2024-08-20T15:03:00.520747900",
          "2024-08-20T15:03:00.584263086",
          "2024-08-20T15:03:00.652987242",
          "2024-08-20T15:03:00.717644691",
          "2024-08-20T15:03:00.778317928",
          "2024-08-20T15:03:00.844145060",
          "2024-08-20T15:03:00.916547537",
          "2024-08-20T15:03:00.970337152",
          "2024-08-20T15:03:01.032670736",
          "2024-08-20T15:03:01.101945639",
          "2024-08-20T15:03:01.165431499",
          "2024-08-20T15:03:01.227845192",
          "2024-08-20T15:03:01.292094231",
          "2024-08-20T15:03:01.357944250",
          "2024-08-20T15:03:01.416323423",
          "2024-08-20T15:03:01.483250856",
          "2024-08-20T15:03:01.549711466",
          "2024-08-20T15:03:01.612559795",
          "2024-08-20T15:03:01.679686785",
          "2024-08-20T15:03:01.740689993",
          "2024-08-20T15:03:01.805357456",
          "2024-08-20T15:03:01.873299122",
          "2024-08-20T15:03:01.929613352",
          "2024-08-20T15:03:01.999979973",
          "2024-08-20T15:03:02.060384035",
          "2024-08-20T15:03:02.120594025",
          "2024-08-20T15:03:02.191109419",
          "2024-08-20T15:03:02.255161285",
          "2024-08-20T15:03:02.314748526",
          "2024-08-20T15:03:02.384042025",
          "2024-08-20T15:03:02.441551685",
          "2024-08-20T15:03:02.516515254",
          "2024-08-20T15:03:02.573863745",
          "2024-08-20T15:03:02.636080980",
          "2024-08-20T15:03:02.704131842",
          "2024-08-20T15:03:02.767637730",
          "2024-08-20T15:03:02.827582121",
          "2024-08-20T15:03:02.892561913",
          "2024-08-20T15:03:02.957124710",
          "2024-08-20T15:03:03.024444580",
          "2024-08-20T15:03:03.084048986",
          "2024-08-20T15:03:03.150004625",
          "2024-08-20T15:03:03.227559805",
          "2024-08-20T15:03:03.280505419",
          "2024-08-20T15:03:03.348907709",
          "2024-08-20T15:03:03.428015232",
          "2024-08-20T15:03:03.476912498",
          "2024-08-20T15:03:03.530843735",
          "2024-08-20T15:03:03.602569342",
          "2024-08-20T15:03:03.660551786"
         ],
         "xaxis": "x2",
         "y": {
          "bdata": "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",
          "dtype": "f8"
         },
         "yaxis": "y2"
        },
        {
         "marker": {
          "color": "lightcoral"
         },
         "name": "Distribution",
         "nbinsx": 30,
         "opacity": 0.7,
         "type": "histogram",
         "x": {
          "bdata": "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",
          "dtype": "f8"
         },
         "xaxis": "x3",
         "yaxis": "y3"
        },
        {
         "line": {
          "color": "lightcoral",
          "width": 1
         },
         "mode": "lines",
         "name": "Raw",
         "opacity": 0.5,
         "type": "scatter",
         "x": {
          "bdata": "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",
          "dtype": "i2"
         },
         "xaxis": "x4",
         "y": {
          "bdata": "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",
          "dtype": "f8"
         },
         "yaxis": "y4"
        },
        {
         "line": {
          "color": "darkred",
          "width": 3
         },
         "mode": "lines",
         "name": "Smoothed (n=47)",
         "type": "scatter",
         "x": {
          "bdata": "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",
          "dtype": "i2"
         },
         "xaxis": "x4",
         "y": {
          "bdata": "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",
          "dtype": "f8"
         },
         "yaxis": "y4"
        }
       ],
       "layout": {
        "annotations": [
         {
          "font": {
           "size": 16
          },
          "showarrow": false,
          "text": "Distance vs Frame",
          "x": 0.225,
          "xanchor": "center",
          "xref": "paper",
          "y": 1,
          "yanchor": "bottom",
          "yref": "paper"
         },
         {
          "font": {
           "size": 16
          },
          "showarrow": false,
          "text": "Distance vs Time",
          "x": 0.775,
          "xanchor": "center",
          "xref": "paper",
          "y": 1,
          "yanchor": "bottom",
          "yref": "paper"
         },
         {
          "font": {
           "size": 16
          },
          "showarrow": false,
          "text": "Distribution",
          "x": 0.225,
          "xanchor": "center",
          "xref": "paper",
          "y": 0.375,
          "yanchor": "bottom",
          "yref": "paper"
         },
         {
          "font": {
           "size": 16
          },
          "showarrow": false,
          "text": "Trends",
          "x": 0.775,
          "xanchor": "center",
          "xref": "paper",
          "y": 0.375,
          "yanchor": "bottom",
          "yref": "paper"
         },
         {
          "showarrow": false,
          "text": "Mean: 1.26",
          "x": 1.2649372778333616,
          "xanchor": "left",
          "xref": "x3",
          "y": 1,
          "yanchor": "top",
          "yref": "y3 domain"
         }
        ],
        "height": 800,
        "shapes": [
         {
          "line": {
           "color": "red",
           "dash": "dash"
          },
          "type": "line",
          "x0": 1.2649372778333616,
          "x1": 1.2649372778333616,
          "xref": "x3",
          "y0": 0,
          "y1": 1,
          "yref": "y3 domain"
         }
        ],
        "showlegend": true,
        "template": {
         "data": {
          "bar": [
           {
            "error_x": {
             "color": "#2a3f5f"
            },
            "error_y": {
             "color": "#2a3f5f"
            },
            "marker": {
             "line": {
              "color": "#E5ECF6",
              "width": 0.5
             },
             "pattern": {
              "fillmode": "overlay",
              "size": 10,
              "solidity": 0.2
             }
            },
            "type": "bar"
           }
          ],
          "barpolar": [
           {
            "marker": {
             "line": {
              "color": "#E5ECF6",
              "width": 0.5
             },
             "pattern": {
              "fillmode": "overlay",
              "size": 10,
              "solidity": 0.2
             }
            },
            "type": "barpolar"
           }
          ],
          "carpet": [
           {
            "aaxis": {
             "endlinecolor": "#2a3f5f",
             "gridcolor": "white",
             "linecolor": "white",
             "minorgridcolor": "white",
             "startlinecolor": "#2a3f5f"
            },
            "baxis": {
             "endlinecolor": "#2a3f5f",
             "gridcolor": "white",
             "linecolor": "white",
             "minorgridcolor": "white",
             "startlinecolor": "#2a3f5f"
            },
            "type": "carpet"
           }
          ],
          "choropleth": [
           {
            "colorbar": {
             "outlinewidth": 0,
             "ticks": ""
            },
            "type": "choropleth"
           }
          ],
          "contour": [
           {
            "colorbar": {
             "outlinewidth": 0,
             "ticks": ""
            },
            "colorscale": [
             [
              0,
              "#0d0887"
             ],
             [
              0.1111111111111111,
              "#46039f"
             ],
             [
              0.2222222222222222,
              "#7201a8"
             ],
             [
              0.3333333333333333,
              "#9c179e"
             ],
             [
              0.4444444444444444,
              "#bd3786"
             ],
             [
              0.5555555555555556,
              "#d8576b"
             ],
             [
              0.6666666666666666,
              "#ed7953"
             ],
             [
              0.7777777777777778,
              "#fb9f3a"
             ],
             [
              0.8888888888888888,
              "#fdca26"
             ],
             [
              1,
              "#f0f921"
             ]
            ],
            "type": "contour"
           }
          ],
          "contourcarpet": [
           {
            "colorbar": {
             "outlinewidth": 0,
             "ticks": ""
            },
            "type": "contourcarpet"
           }
          ],
          "heatmap": [
           {
            "colorbar": {
             "outlinewidth": 0,
             "ticks": ""
            },
            "colorscale": [
             [
              0,
              "#0d0887"
             ],
             [
              0.1111111111111111,
              "#46039f"
             ],
             [
              0.2222222222222222,
              "#7201a8"
             ],
             [
              0.3333333333333333,
              "#9c179e"
             ],
             [
              0.4444444444444444,
              "#bd3786"
             ],
             [
              0.5555555555555556,
              "#d8576b"
             ],
             [
              0.6666666666666666,
              "#ed7953"
             ],
             [
              0.7777777777777778,
              "#fb9f3a"
             ],
             [
              0.8888888888888888,
              "#fdca26"
             ],
             [
              1,
              "#f0f921"
             ]
            ],
            "type": "heatmap"
           }
          ],
          "histogram": [
           {
            "marker": {
             "pattern": {
              "fillmode": "overlay",
              "size": 10,
              "solidity": 0.2
             }
            },
            "type": "histogram"
           }
          ],
          "histogram2d": [
           {
            "colorbar": {
             "outlinewidth": 0,
             "ticks": ""
            },
            "colorscale": [
             [
              0,
              "#0d0887"
             ],
             [
              0.1111111111111111,
              "#46039f"
             ],
             [
              0.2222222222222222,
              "#7201a8"
             ],
             [
              0.3333333333333333,
              "#9c179e"
             ],
             [
              0.4444444444444444,
              "#bd3786"
             ],
             [
              0.5555555555555556,
              "#d8576b"
             ],
             [
              0.6666666666666666,
              "#ed7953"
             ],
             [
              0.7777777777777778,
              "#fb9f3a"
             ],
             [
              0.8888888888888888,
              "#fdca26"
             ],
             [
              1,
              "#f0f921"
             ]
            ],
            "type": "histogram2d"
           }
          ],
          "histogram2dcontour": [
           {
            "colorbar": {
             "outlinewidth": 0,
             "ticks": ""
            },
            "colorscale": [
             [
              0,
              "#0d0887"
             ],
             [
              0.1111111111111111,
              "#46039f"
             ],
             [
              0.2222222222222222,
              "#7201a8"
             ],
             [
              0.3333333333333333,
              "#9c179e"
             ],
             [
              0.4444444444444444,
              "#bd3786"
             ],
             [
              0.5555555555555556,
              "#d8576b"
             ],
             [
              0.6666666666666666,
              "#ed7953"
             ],
             [
              0.7777777777777778,
              "#fb9f3a"
             ],
             [
              0.8888888888888888,
              "#fdca26"
             ],
             [
              1,
              "#f0f921"
             ]
            ],
            "type": "histogram2dcontour"
           }
          ],
          "mesh3d": [
           {
            "colorbar": {
             "outlinewidth": 0,
             "ticks": ""
            },
            "type": "mesh3d"
           }
          ],
          "parcoords": [
           {
            "line": {
             "colorbar": {
              "outlinewidth": 0,
              "ticks": ""
             }
            },
            "type": "parcoords"
           }
          ],
          "pie": [
           {
            "automargin": true,
            "type": "pie"
           }
          ],
          "scatter": [
           {
            "fillpattern": {
             "fillmode": "overlay",
             "size": 10,
             "solidity": 0.2
            },
            "type": "scatter"
           }
          ],
          "scatter3d": [
           {
            "line": {
             "colorbar": {
              "outlinewidth": 0,
              "ticks": ""
             }
            },
            "marker": {
             "colorbar": {
              "outlinewidth": 0,
              "ticks": ""
             }
            },
            "type": "scatter3d"
           }
          ],
          "scattercarpet": [
           {
            "marker": {
             "colorbar": {
              "outlinewidth": 0,
              "ticks": ""
             }
            },
            "type": "scattercarpet"
           }
          ],
          "scattergeo": [
           {
            "marker": {
             "colorbar": {
              "outlinewidth": 0,
              "ticks": ""
             }
            },
            "type": "scattergeo"
           }
          ],
          "scattergl": [
           {
            "marker": {
             "colorbar": {
              "outlinewidth": 0,
              "ticks": ""
             }
            },
            "type": "scattergl"
           }
          ],
          "scattermap": [
           {
            "marker": {
             "colorbar": {
              "outlinewidth": 0,
              "ticks": ""
             }
            },
            "type": "scattermap"
           }
          ],
          "scattermapbox": [
           {
            "marker": {
             "colorbar": {
              "outlinewidth": 0,
              "ticks": ""
             }
            },
            "type": "scattermapbox"
           }
          ],
          "scatterpolar": [
           {
            "marker": {
             "colorbar": {
              "outlinewidth": 0,
              "ticks": ""
             }
            },
            "type": "scatterpolar"
           }
          ],
          "scatterpolargl": [
           {
            "marker": {
             "colorbar": {
              "outlinewidth": 0,
              "ticks": ""
             }
            },
            "type": "scatterpolargl"
           }
          ],
          "scatterternary": [
           {
            "marker": {
             "colorbar": {
              "outlinewidth": 0,
              "ticks": ""
             }
            },
            "type": "scatterternary"
           }
          ],
          "surface": [
           {
            "colorbar": {
             "outlinewidth": 0,
             "ticks": ""
            },
            "colorscale": [
             [
              0,
              "#0d0887"
             ],
             [
              0.1111111111111111,
              "#46039f"
             ],
             [
              0.2222222222222222,
              "#7201a8"
             ],
             [
              0.3333333333333333,
              "#9c179e"
             ],
             [
              0.4444444444444444,
              "#bd3786"
             ],
             [
              0.5555555555555556,
              "#d8576b"
             ],
             [
              0.6666666666666666,
              "#ed7953"
             ],
             [
              0.7777777777777778,
              "#fb9f3a"
             ],
             [
              0.8888888888888888,
              "#fdca26"
             ],
             [
              1,
              "#f0f921"
             ]
            ],
            "type": "surface"
           }
          ],
          "table": [
           {
            "cells": {
             "fill": {
              "color": "#EBF0F8"
             },
             "line": {
              "color": "white"
             }
            },
            "header": {
             "fill": {
              "color": "#C8D4E3"
             },
             "line": {
              "color": "white"
             }
            },
            "type": "table"
           }
          ]
         },
         "layout": {
          "annotationdefaults": {
           "arrowcolor": "#2a3f5f",
           "arrowhead": 0,
           "arrowwidth": 1
          },
          "autotypenumbers": "strict",
          "coloraxis": {
           "colorbar": {
            "outlinewidth": 0,
            "ticks": ""
           }
          },
          "colorscale": {
           "diverging": [
            [
             0,
             "#8e0152"
            ],
            [
             0.1,
             "#c51b7d"
            ],
            [
             0.2,
             "#de77ae"
            ],
            [
             0.3,
             "#f1b6da"
            ],
            [
             0.4,
             "#fde0ef"
            ],
            [
             0.5,
             "#f7f7f7"
            ],
            [
             0.6,
             "#e6f5d0"
            ],
            [
             0.7,
             "#b8e186"
            ],
            [
             0.8,
             "#7fbc41"
            ],
            [
             0.9,
             "#4d9221"
            ],
            [
             1,
             "#276419"
            ]
           ],
           "sequential": [
            [
             0,
             "#0d0887"
            ],
            [
             0.1111111111111111,
             "#46039f"
            ],
            [
             0.2222222222222222,
             "#7201a8"
            ],
            [
             0.3333333333333333,
             "#9c179e"
            ],
            [
             0.4444444444444444,
             "#bd3786"
            ],
            [
             0.5555555555555556,
             "#d8576b"
            ],
            [
             0.6666666666666666,
             "#ed7953"
            ],
            [
             0.7777777777777778,
             "#fb9f3a"
            ],
            [
             0.8888888888888888,
             "#fdca26"
            ],
            [
             1,
             "#f0f921"
            ]
           ],
           "sequentialminus": [
            [
             0,
             "#0d0887"
            ],
            [
             0.1111111111111111,
             "#46039f"
            ],
            [
             0.2222222222222222,
             "#7201a8"
            ],
            [
             0.3333333333333333,
             "#9c179e"
            ],
            [
             0.4444444444444444,
             "#bd3786"
            ],
            [
             0.5555555555555556,
             "#d8576b"
            ],
            [
             0.6666666666666666,
             "#ed7953"
            ],
            [
             0.7777777777777778,
             "#fb9f3a"
            ],
            [
             0.8888888888888888,
             "#fdca26"
            ],
            [
             1,
             "#f0f921"
            ]
           ]
          },
          "colorway": [
           "#636efa",
           "#EF553B",
           "#00cc96",
           "#ab63fa",
           "#FFA15A",
           "#19d3f3",
           "#FF6692",
           "#B6E880",
           "#FF97FF",
           "#FECB52"
          ],
          "font": {
           "color": "#2a3f5f"
          },
          "geo": {
           "bgcolor": "white",
           "lakecolor": "white",
           "landcolor": "#E5ECF6",
           "showlakes": true,
           "showland": true,
           "subunitcolor": "white"
          },
          "hoverlabel": {
           "align": "left"
          },
          "hovermode": "closest",
          "mapbox": {
           "style": "light"
          },
          "paper_bgcolor": "white",
          "plot_bgcolor": "#E5ECF6",
          "polar": {
           "angularaxis": {
            "gridcolor": "white",
            "linecolor": "white",
            "ticks": ""
           },
           "bgcolor": "#E5ECF6",
           "radialaxis": {
            "gridcolor": "white",
            "linecolor": "white",
            "ticks": ""
           }
          },
          "scene": {
           "xaxis": {
            "backgroundcolor": "#E5ECF6",
            "gridcolor": "white",
            "gridwidth": 2,
            "linecolor": "white",
            "showbackground": true,
            "ticks": "",
            "zerolinecolor": "white"
           },
           "yaxis": {
            "backgroundcolor": "#E5ECF6",
            "gridcolor": "white",
            "gridwidth": 2,
            "linecolor": "white",
            "showbackground": true,
            "ticks": "",
            "zerolinecolor": "white"
           },
           "zaxis": {
            "backgroundcolor": "#E5ECF6",
            "gridcolor": "white",
            "gridwidth": 2,
            "linecolor": "white",
            "showbackground": true,
            "ticks": "",
            "zerolinecolor": "white"
           }
          },
          "shapedefaults": {
           "line": {
            "color": "#2a3f5f"
           }
          },
          "ternary": {
           "aaxis": {
            "gridcolor": "white",
            "linecolor": "white",
            "ticks": ""
           },
           "baxis": {
            "gridcolor": "white",
            "linecolor": "white",
            "ticks": ""
           },
           "bgcolor": "#E5ECF6",
           "caxis": {
            "gridcolor": "white",
            "linecolor": "white",
            "ticks": ""
           }
          },
          "title": {
           "x": 0.05
          },
          "xaxis": {
           "automargin": true,
           "gridcolor": "white",
           "linecolor": "white",
           "ticks": "",
           "title": {
            "standoff": 15
           },
           "zerolinecolor": "white",
           "zerolinewidth": 2
          },
          "yaxis": {
           "automargin": true,
           "gridcolor": "white",
           "linecolor": "white",
           "ticks": "",
           "title": {
            "standoff": 15
           },
           "zerolinecolor": "white",
           "zerolinewidth": 2
          }
         }
        },
        "title": {
         "text": "Real-World Distance Analysis"
        },
        "xaxis": {
         "anchor": "y",
         "domain": [
          0,
          0.45
         ]
        },
        "xaxis2": {
         "anchor": "y2",
         "domain": [
          0.55,
          1
         ]
        },
        "xaxis3": {
         "anchor": "y3",
         "domain": [
          0,
          0.45
         ]
        },
        "xaxis4": {
         "anchor": "y4",
         "domain": [
          0.55,
          1
         ]
        },
        "yaxis": {
         "anchor": "x",
         "domain": [
          0.625,
          1
         ],
         "title": {
          "text": "Distance (meters)"
         }
        },
        "yaxis2": {
         "anchor": "x2",
         "domain": [
          0.625,
          1
         ],
         "title": {
          "text": "Distance (meters)"
         }
        },
        "yaxis3": {
         "anchor": "x3",
         "domain": [
          0,
          0.375
         ]
        },
        "yaxis4": {
         "anchor": "x4",
         "domain": [
          0,
          0.375
         ]
        }
       }
      }
     },
     "metadata": {},
     "output_type": "display_data"
    }
   ],
   "source": [
    "from utils.sonar_visualization import plot_distance_analysis\n",
    "plot_distance_analysis(net_analysis_results, \"Real-World Distance Analysis\")"
   ]
  },
  {
   "cell_type": "code",
   "execution_count": 8,
   "id": "6136c219",
   "metadata": {},
   "outputs": [
    {
     "name": "stdout",
     "output_type": "stream",
     "text": [
      " LOADING ALL DISTANCE DATA FOR BAG: 2024-08-20_17-02-00\n",
      "============================================================\n",
      " 1. Loading Navigation Data...\n",
      "    Loaded 497 navigation records\n",
      "    NetPitch data available: 497 valid records\n",
      " 2. Loading Guidance Data...\n",
      "    Loaded 509 guidance records with ['error_net_distance', 'desired_net_distance', 'r_net_distance_d']\n",
      " 3. Loading DVL Altimeter...\n",
      "    DVL altimeter file not found\n",
      " 4. Loading USBL...\n",
      "    Loaded 30 USBL records\n",
      " 5. Loading DVL Position...\n",
      "    Loaded 265 DVL position records\n",
      " 6. Loading Navigation Position...\n",
      "    Loaded 245 navigation position records\n",
      " 7. Loading INS Z Position...\n",
      "    INS file not found\n",
      "\n",
      " LOADING SUMMARY:\n",
      "    Target bag: 2024-08-20_17-02-00\n",
      "    Raw data loaded: 2/2\n",
      "    Distance measurements: 4\n",
      "\n",
      "RAW DATA LOADED:\n",
      "    navigation: 497 records\n",
      "    guidance: 509 records\n",
      "\n",
      "DISTANCE MEASUREMENTS LOADED:\n",
      "    USBL_3D: 30 records - 3D acoustic position\n",
      "    USBL_Depth: 30 records - USBL depth measurement\n",
      "    DVL_Position: 265 records - 3D DVL position\n",
      "    Nav_Position: 245 records - 2D navigation position\n"
     ]
    }
   ],
   "source": [
    "# COMPARISON: SONAR vs DVL DISTANCE MEASUREMENTS\n",
    "# =================================================\n",
    "import utils.distance_measurement as sda\n",
    "from utils.sonar_visualization import compare_sonar_vs_dvl\n",
    "\n",
    "# IMPORTANT: Pass the by_bag folder, not just the exports root\n",
    "# The function expects the folder containing the CSV files\n",
    "from utils.config import EXPORTS_SUBDIRS\n",
    "BY_BAG_FOLDER = EXPORTS_FOLDER / EXPORTS_SUBDIRS.get('by_bag', 'by_bag')\n",
    "\n",
    "# Load all distance data for the target bag\n",
    "raw_data, distance_measurements = sda.load_all_distance_data_for_bag(TARGET_BAG, BY_BAG_FOLDER)\n",
    "\n",
    "# Display what we loaded\n",
    "print(f\"\\nRAW DATA LOADED:\")\n",
    "for key, data in raw_data.items():\n",
    "    if data is not None:\n",
    "        print(f\"    {key}: {len(data)} records\")\n",
    "    else:\n",
    "        print(f\"    {key}: None\")\n",
    "\n",
    "print(f\"\\nDISTANCE MEASUREMENTS LOADED:\")\n",
    "for key, info in distance_measurements.items():\n",
    "    data_len = len(info['data'])\n",
    "    print(f\"    {key}: {data_len} records - {info['description']}\")"
   ]
  },
  {
   "cell_type": "code",
   "execution_count": 9,
   "id": "c10a8be6",
   "metadata": {},
   "outputs": [
    {
     "name": "stdout",
     "output_type": "stream",
     "text": [
      "\n",
      "============================================================\n",
      "SONAR vs DVL COMPARISON\n",
      "============================================================\n",
      "\n",
      "Comparison: Sonar=1.265m, DVL=1.121m, Ratio=1.129x\n"
     ]
    },
    {
     "data": {
      "application/vnd.plotly.v1+json": {
       "config": {
        "plotlyServerURL": "https://plot.ly"
       },
       "data": [
        {
         "line": {
          "color": "red",
          "width": 3
         },
         "mode": "lines",
         "name": "Sonar",
         "type": "scatter",
         "x": {
          "bdata": "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",
          "dtype": "f8"
         },
         "y": {
          "bdata": "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",
          "dtype": "f8"
         }
        },
        {
         "line": {
          "color": "blue",
          "width": 3
         },
         "mode": "lines",
         "name": "DVL",
         "type": "scatter",
         "x": {
          "bdata": "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",
          "dtype": "f8"
         },
         "y": {
          "bdata": "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",
          "dtype": "f8"
         }
        }
       ],
       "layout": {
        "height": 600,
        "template": {
         "data": {
          "bar": [
           {
            "error_x": {
             "color": "#2a3f5f"
            },
            "error_y": {
             "color": "#2a3f5f"
            },
            "marker": {
             "line": {
              "color": "#E5ECF6",
              "width": 0.5
             },
             "pattern": {
              "fillmode": "overlay",
              "size": 10,
              "solidity": 0.2
             }
            },
            "type": "bar"
           }
          ],
          "barpolar": [
           {
            "marker": {
             "line": {
              "color": "#E5ECF6",
              "width": 0.5
             },
             "pattern": {
              "fillmode": "overlay",
              "size": 10,
              "solidity": 0.2
             }
            },
            "type": "barpolar"
           }
          ],
          "carpet": [
           {
            "aaxis": {
             "endlinecolor": "#2a3f5f",
             "gridcolor": "white",
             "linecolor": "white",
             "minorgridcolor": "white",
             "startlinecolor": "#2a3f5f"
            },
            "baxis": {
             "endlinecolor": "#2a3f5f",
             "gridcolor": "white",
             "linecolor": "white",
             "minorgridcolor": "white",
             "startlinecolor": "#2a3f5f"
            },
            "type": "carpet"
           }
          ],
          "choropleth": [
           {
            "colorbar": {
             "outlinewidth": 0,
             "ticks": ""
            },
            "type": "choropleth"
           }
          ],
          "contour": [
           {
            "colorbar": {
             "outlinewidth": 0,
             "ticks": ""
            },
            "colorscale": [
             [
              0,
              "#0d0887"
             ],
             [
              0.1111111111111111,
              "#46039f"
             ],
             [
              0.2222222222222222,
              "#7201a8"
             ],
             [
              0.3333333333333333,
              "#9c179e"
             ],
             [
              0.4444444444444444,
              "#bd3786"
             ],
             [
              0.5555555555555556,
              "#d8576b"
             ],
             [
              0.6666666666666666,
              "#ed7953"
             ],
             [
              0.7777777777777778,
              "#fb9f3a"
             ],
             [
              0.8888888888888888,
              "#fdca26"
             ],
             [
              1,
              "#f0f921"
             ]
            ],
            "type": "contour"
           }
          ],
          "contourcarpet": [
           {
            "colorbar": {
             "outlinewidth": 0,
             "ticks": ""
            },
            "type": "contourcarpet"
           }
          ],
          "heatmap": [
           {
            "colorbar": {
             "outlinewidth": 0,
             "ticks": ""
            },
            "colorscale": [
             [
              0,
              "#0d0887"
             ],
             [
              0.1111111111111111,
              "#46039f"
             ],
             [
              0.2222222222222222,
              "#7201a8"
             ],
             [
              0.3333333333333333,
              "#9c179e"
             ],
             [
              0.4444444444444444,
              "#bd3786"
             ],
             [
              0.5555555555555556,
              "#d8576b"
             ],
             [
              0.6666666666666666,
              "#ed7953"
             ],
             [
              0.7777777777777778,
              "#fb9f3a"
             ],
             [
              0.8888888888888888,
              "#fdca26"
             ],
             [
              1,
              "#f0f921"
             ]
            ],
            "type": "heatmap"
           }
          ],
          "histogram": [
           {
            "marker": {
             "pattern": {
              "fillmode": "overlay",
              "size": 10,
              "solidity": 0.2
             }
            },
            "type": "histogram"
           }
          ],
          "histogram2d": [
           {
            "colorbar": {
             "outlinewidth": 0,
             "ticks": ""
            },
            "colorscale": [
             [
              0,
              "#0d0887"
             ],
             [
              0.1111111111111111,
              "#46039f"
             ],
             [
              0.2222222222222222,
              "#7201a8"
             ],
             [
              0.3333333333333333,
              "#9c179e"
             ],
             [
              0.4444444444444444,
              "#bd3786"
             ],
             [
              0.5555555555555556,
              "#d8576b"
             ],
             [
              0.6666666666666666,
              "#ed7953"
             ],
             [
              0.7777777777777778,
              "#fb9f3a"
             ],
             [
              0.8888888888888888,
              "#fdca26"
             ],
             [
              1,
              "#f0f921"
             ]
            ],
            "type": "histogram2d"
           }
          ],
          "histogram2dcontour": [
           {
            "colorbar": {
             "outlinewidth": 0,
             "ticks": ""
            },
            "colorscale": [
             [
              0,
              "#0d0887"
             ],
             [
              0.1111111111111111,
              "#46039f"
             ],
             [
              0.2222222222222222,
              "#7201a8"
             ],
             [
              0.3333333333333333,
              "#9c179e"
             ],
             [
              0.4444444444444444,
              "#bd3786"
             ],
             [
              0.5555555555555556,
              "#d8576b"
             ],
             [
              0.6666666666666666,
              "#ed7953"
             ],
             [
              0.7777777777777778,
              "#fb9f3a"
             ],
             [
              0.8888888888888888,
              "#fdca26"
             ],
             [
              1,
              "#f0f921"
             ]
            ],
            "type": "histogram2dcontour"
           }
          ],
          "mesh3d": [
           {
            "colorbar": {
             "outlinewidth": 0,
             "ticks": ""
            },
            "type": "mesh3d"
           }
          ],
          "parcoords": [
           {
            "line": {
             "colorbar": {
              "outlinewidth": 0,
              "ticks": ""
             }
            },
            "type": "parcoords"
           }
          ],
          "pie": [
           {
            "automargin": true,
            "type": "pie"
           }
          ],
          "scatter": [
           {
            "fillpattern": {
             "fillmode": "overlay",
             "size": 10,
             "solidity": 0.2
            },
            "type": "scatter"
           }
          ],
          "scatter3d": [
           {
            "line": {
             "colorbar": {
              "outlinewidth": 0,
              "ticks": ""
             }
            },
            "marker": {
             "colorbar": {
              "outlinewidth": 0,
              "ticks": ""
             }
            },
            "type": "scatter3d"
           }
          ],
          "scattercarpet": [
           {
            "marker": {
             "colorbar": {
              "outlinewidth": 0,
              "ticks": ""
             }
            },
            "type": "scattercarpet"
           }
          ],
          "scattergeo": [
           {
            "marker": {
             "colorbar": {
              "outlinewidth": 0,
              "ticks": ""
             }
            },
            "type": "scattergeo"
           }
          ],
          "scattergl": [
           {
            "marker": {
             "colorbar": {
              "outlinewidth": 0,
              "ticks": ""
             }
            },
            "type": "scattergl"
           }
          ],
          "scattermap": [
           {
            "marker": {
             "colorbar": {
              "outlinewidth": 0,
              "ticks": ""
             }
            },
            "type": "scattermap"
           }
          ],
          "scattermapbox": [
           {
            "marker": {
             "colorbar": {
              "outlinewidth": 0,
              "ticks": ""
             }
            },
            "type": "scattermapbox"
           }
          ],
          "scatterpolar": [
           {
            "marker": {
             "colorbar": {
              "outlinewidth": 0,
              "ticks": ""
             }
            },
            "type": "scatterpolar"
           }
          ],
          "scatterpolargl": [
           {
            "marker": {
             "colorbar": {
              "outlinewidth": 0,
              "ticks": ""
             }
            },
            "type": "scatterpolargl"
           }
          ],
          "scatterternary": [
           {
            "marker": {
             "colorbar": {
              "outlinewidth": 0,
              "ticks": ""
             }
            },
            "type": "scatterternary"
           }
          ],
          "surface": [
           {
            "colorbar": {
             "outlinewidth": 0,
             "ticks": ""
            },
            "colorscale": [
             [
              0,
              "#0d0887"
             ],
             [
              0.1111111111111111,
              "#46039f"
             ],
             [
              0.2222222222222222,
              "#7201a8"
             ],
             [
              0.3333333333333333,
              "#9c179e"
             ],
             [
              0.4444444444444444,
              "#bd3786"
             ],
             [
              0.5555555555555556,
              "#d8576b"
             ],
             [
              0.6666666666666666,
              "#ed7953"
             ],
             [
              0.7777777777777778,
              "#fb9f3a"
             ],
             [
              0.8888888888888888,
              "#fdca26"
             ],
             [
              1,
              "#f0f921"
             ]
            ],
            "type": "surface"
           }
          ],
          "table": [
           {
            "cells": {
             "fill": {
              "color": "#EBF0F8"
             },
             "line": {
              "color": "white"
             }
            },
            "header": {
             "fill": {
              "color": "#C8D4E3"
             },
             "line": {
              "color": "white"
             }
            },
            "type": "table"
           }
          ]
         },
         "layout": {
          "annotationdefaults": {
           "arrowcolor": "#2a3f5f",
           "arrowhead": 0,
           "arrowwidth": 1
          },
          "autotypenumbers": "strict",
          "coloraxis": {
           "colorbar": {
            "outlinewidth": 0,
            "ticks": ""
           }
          },
          "colorscale": {
           "diverging": [
            [
             0,
             "#8e0152"
            ],
            [
             0.1,
             "#c51b7d"
            ],
            [
             0.2,
             "#de77ae"
            ],
            [
             0.3,
             "#f1b6da"
            ],
            [
             0.4,
             "#fde0ef"
            ],
            [
             0.5,
             "#f7f7f7"
            ],
            [
             0.6,
             "#e6f5d0"
            ],
            [
             0.7,
             "#b8e186"
            ],
            [
             0.8,
             "#7fbc41"
            ],
            [
             0.9,
             "#4d9221"
            ],
            [
             1,
             "#276419"
            ]
           ],
           "sequential": [
            [
             0,
             "#0d0887"
            ],
            [
             0.1111111111111111,
             "#46039f"
            ],
            [
             0.2222222222222222,
             "#7201a8"
            ],
            [
             0.3333333333333333,
             "#9c179e"
            ],
            [
             0.4444444444444444,
             "#bd3786"
            ],
            [
             0.5555555555555556,
             "#d8576b"
            ],
            [
             0.6666666666666666,
             "#ed7953"
            ],
            [
             0.7777777777777778,
             "#fb9f3a"
            ],
            [
             0.8888888888888888,
             "#fdca26"
            ],
            [
             1,
             "#f0f921"
            ]
           ],
           "sequentialminus": [
            [
             0,
             "#0d0887"
            ],
            [
             0.1111111111111111,
             "#46039f"
            ],
            [
             0.2222222222222222,
             "#7201a8"
            ],
            [
             0.3333333333333333,
             "#9c179e"
            ],
            [
             0.4444444444444444,
             "#bd3786"
            ],
            [
             0.5555555555555556,
             "#d8576b"
            ],
            [
             0.6666666666666666,
             "#ed7953"
            ],
            [
             0.7777777777777778,
             "#fb9f3a"
            ],
            [
             0.8888888888888888,
             "#fdca26"
            ],
            [
             1,
             "#f0f921"
            ]
           ]
          },
          "colorway": [
           "#636efa",
           "#EF553B",
           "#00cc96",
           "#ab63fa",
           "#FFA15A",
           "#19d3f3",
           "#FF6692",
           "#B6E880",
           "#FF97FF",
           "#FECB52"
          ],
          "font": {
           "color": "#2a3f5f"
          },
          "geo": {
           "bgcolor": "white",
           "lakecolor": "white",
           "landcolor": "#E5ECF6",
           "showlakes": true,
           "showland": true,
           "subunitcolor": "white"
          },
          "hoverlabel": {
           "align": "left"
          },
          "hovermode": "closest",
          "mapbox": {
           "style": "light"
          },
          "paper_bgcolor": "white",
          "plot_bgcolor": "#E5ECF6",
          "polar": {
           "angularaxis": {
            "gridcolor": "white",
            "linecolor": "white",
            "ticks": ""
           },
           "bgcolor": "#E5ECF6",
           "radialaxis": {
            "gridcolor": "white",
            "linecolor": "white",
            "ticks": ""
           }
          },
          "scene": {
           "xaxis": {
            "backgroundcolor": "#E5ECF6",
            "gridcolor": "white",
            "gridwidth": 2,
            "linecolor": "white",
            "showbackground": true,
            "ticks": "",
            "zerolinecolor": "white"
           },
           "yaxis": {
            "backgroundcolor": "#E5ECF6",
            "gridcolor": "white",
            "gridwidth": 2,
            "linecolor": "white",
            "showbackground": true,
            "ticks": "",
            "zerolinecolor": "white"
           },
           "zaxis": {
            "backgroundcolor": "#E5ECF6",
            "gridcolor": "white",
            "gridwidth": 2,
            "linecolor": "white",
            "showbackground": true,
            "ticks": "",
            "zerolinecolor": "white"
           }
          },
          "shapedefaults": {
           "line": {
            "color": "#2a3f5f"
           }
          },
          "ternary": {
           "aaxis": {
            "gridcolor": "white",
            "linecolor": "white",
            "ticks": ""
           },
           "baxis": {
            "gridcolor": "white",
            "linecolor": "white",
            "ticks": ""
           },
           "bgcolor": "#E5ECF6",
           "caxis": {
            "gridcolor": "white",
            "linecolor": "white",
            "ticks": ""
           }
          },
          "title": {
           "x": 0.05
          },
          "xaxis": {
           "automargin": true,
           "gridcolor": "white",
           "linecolor": "white",
           "ticks": "",
           "title": {
            "standoff": 15
           },
           "zerolinecolor": "white",
           "zerolinewidth": 2
          },
          "yaxis": {
           "automargin": true,
           "gridcolor": "white",
           "linecolor": "white",
           "ticks": "",
           "title": {
            "standoff": 15
           },
           "zerolinecolor": "white",
           "zerolinewidth": 2
          }
         }
        },
        "title": {
         "text": "Sonar vs DVL Distance Comparison"
        },
        "xaxis": {
         "anchor": "y",
         "domain": [
          0,
          1
         ],
         "title": {
          "text": "Time (seconds)"
         }
        },
        "yaxis": {
         "anchor": "x",
         "domain": [
          0,
          1
         ],
         "title": {
          "text": "Distance (meters)"
         }
        }
       }
      }
     },
     "metadata": {},
     "output_type": "display_data"
    },
    {
     "name": "stdout",
     "output_type": "stream",
     "text": [
      "\n",
      "Comparison Statistics:\n",
      "  sonar_mean_m: 1.265\n",
      "  dvl_mean_m: 1.121\n",
      "  scale_ratio: 1.129\n",
      "  sonar_frames: 944\n",
      "  dvl_records: 497\n"
     ]
    }
   ],
   "source": [
    "# Compare sonar vs DVL using the sonar_visualization function\n",
    "print(f\"\\n\" + \"=\" * 60)\n",
    "print(\"SONAR vs DVL COMPARISON\")\n",
    "print(\"=\" * 60)\n",
    "\n",
    "fig, comparison_stats = compare_sonar_vs_dvl(\n",
    "    net_analysis_results,\n",
    "    raw_data,\n",
    "    sonar_coverage_m=sonar_coverage_meters,\n",
    "    sonar_image_size=image_shape[0]\n",
    ")\n",
    "\n",
    "if fig:\n",
    "    fig.show()\n",
    "\n",
    "print(f\"\\nComparison Statistics:\")\n",
    "for key, value in comparison_stats.items():\n",
    "    if isinstance(value, float):\n",
    "        print(f\"  {key}: {value:.3f}\")\n",
    "    else:\n",
    "        print(f\"  {key}: {value}\")"
   ]
  },
  {
   "cell_type": "code",
   "execution_count": null,
   "id": "50f97352",
   "metadata": {},
   "outputs": [
    {
     "name": "stdout",
     "output_type": "stream",
     "text": [
      "GENERATING THREE-SYSTEM VIDEO WITH UNIFORM STYLING\n",
      "============================================================\n",
      "Target Bag: 2024-08-20_17-02-00\n",
      "GENERATING THREE-SYSTEM VIDEO\n",
      "==================================================\n",
      "🔄 PREPARING THREE-SYSTEM SYNCHRONIZED DATA\n",
      "============================================================\n",
      "✓ Using notebook 08's FFT loading methods...\n",
      "✓ Loaded 410 relative FFT pose records\n",
      "✓ Loaded FFT data via notebook 08 method: 410 records\n",
      "✓ Using notebook 08's three-system synchronization...\n",
      "Step 1: Calculating net relative positions\n",
      "FFT distances appear to be in cm (max: 183.3), converting to meters\n",
      "Final FFT distance range: -1.833 to 1.596 m\n",
      "FFT pitch range: -82.7 to 88.1\n",
      "FFT X range: -1.821 to 1.573 m\n",
      "FFT Y range: -0.596 to 0.441 m\n",
      "Step 2: Synchronizing all three systems\n",
      "Synchronized 1851 time points\n",
      "Available columns in sync_df: ['sync_timestamp', 'fft_distance_m', 'fft_pitch_deg', 'fft_x_m', 'fft_y_m', 'fft_heading', 'sonar_distance_m', 'sonar_pitch_deg', 'sonar_x_m', 'sonar_y_m', 'sonar_detection_success', 'nav_distance_m', 'nav_pitch_deg', 'nav_x_m', 'nav_y_m']\n",
      "Available distance columns: ['fft_distance_m', 'sonar_distance_m', 'nav_distance_m']\n",
      "Found distance columns: FFT=fft_distance_m, Sonar=sonar_distance_m, Nav=nav_distance_m\n",
      "Step 3: Creating visualizations\n",
      "Position data summary:\n",
      "  FFT: 1769 points, X: 0.82±0.38, Y: 0.04±0.12\n",
      "  Sonar: 1851 points, X: 1.08±0.32, Y: -0.23±0.65\n",
      "  DVL: 1813 points, X: 1.10±0.29, Y: -0.08±0.28\n",
      "Step 4: Saving results\n",
      "Results saved to: /Volumes/LaCie/SOLAQUA/exports/outputs/2024-08-20_17-02-00_three_system_net_relative_analysis.csv\n",
      "Statistics saved to: /Volumes/LaCie/SOLAQUA/exports/outputs/2024-08-20_17-02-00_three_system_net_relative_stats.json\n",
      "✓ Three-system synchronization completed: 1851 synchronized records\n",
      "✗ Notebook 08 synchronization failed: \"['timestamp', 'sonar_angle_deg', 'detection_success'] not in index\"\n",
      "Falling back to individual synchronization...\n",
      "✓ Using fallback synchronization method\n",
      "✓ Fallback synchronization completed\n",
      "   Systems active: DVL + Sonar + FFT\n",
      "OPTIMIZED SONAR VIDEO WITH THREE-SYSTEM SYNCHRONIZATION\n",
      "======================================================================\n",
      "Target Bag: 2024-08-20_17-02-00\n",
      "   Cone Size: 900x700\n",
      "   Range: 0.0-5.0m | FOV: 120.0\n",
      "Auto-detecting video files for bag: 2024-08-20_17-02-00\n",
      "Found video frames: 2024-08-20_17-02-00_video__image_compressed_image_data_frames\n",
      "Using frames directory: /Volumes/LaCie/SOLAQUA/exports/frames/2024-08-20_17-02-00_video__image_compressed_image_data_frames\n",
      "Camera: enabled\n",
      "Net-line: enabled (dist tol=0.5s, pitch tol=2.0s)\n",
      "Sonar Analysis: enabled\n",
      "FFT Data: enabled\n",
      "   Loading sonar data: sensor_sonoptix_echo_image__2024-08-20_17-02-00_video.csv\n",
      "Synchronized 1851 time points\n",
      "Available columns in sync_df: ['sync_timestamp', 'fft_distance_m', 'fft_pitch_deg', 'fft_x_m', 'fft_y_m', 'fft_heading', 'sonar_distance_m', 'sonar_pitch_deg', 'sonar_x_m', 'sonar_y_m', 'sonar_detection_success', 'nav_distance_m', 'nav_pitch_deg', 'nav_x_m', 'nav_y_m']\n",
      "Available distance columns: ['fft_distance_m', 'sonar_distance_m', 'nav_distance_m']\n",
      "Found distance columns: FFT=fft_distance_m, Sonar=sonar_distance_m, Nav=nav_distance_m\n",
      "Step 3: Creating visualizations\n",
      "Position data summary:\n",
      "  FFT: 1769 points, X: 0.82±0.38, Y: 0.04±0.12\n",
      "  Sonar: 1851 points, X: 1.08±0.32, Y: -0.23±0.65\n",
      "  DVL: 1813 points, X: 1.10±0.29, Y: -0.08±0.28\n",
      "Step 4: Saving results\n",
      "Results saved to: /Volumes/LaCie/SOLAQUA/exports/outputs/2024-08-20_17-02-00_three_system_net_relative_analysis.csv\n",
      "Statistics saved to: /Volumes/LaCie/SOLAQUA/exports/outputs/2024-08-20_17-02-00_three_system_net_relative_stats.json\n",
      "✓ Three-system synchronization completed: 1851 synchronized records\n",
      "✗ Notebook 08 synchronization failed: \"['timestamp', 'sonar_angle_deg', 'detection_success'] not in index\"\n",
      "Falling back to individual synchronization...\n",
      "✓ Using fallback synchronization method\n",
      "✓ Fallback synchronization completed\n",
      "   Systems active: DVL + Sonar + FFT\n",
      "OPTIMIZED SONAR VIDEO WITH THREE-SYSTEM SYNCHRONIZATION\n",
      "======================================================================\n",
      "Target Bag: 2024-08-20_17-02-00\n",
      "   Cone Size: 900x700\n",
      "   Range: 0.0-5.0m | FOV: 120.0\n",
      "Auto-detecting video files for bag: 2024-08-20_17-02-00\n",
      "Found video frames: 2024-08-20_17-02-00_video__image_compressed_image_data_frames\n",
      "Using frames directory: /Volumes/LaCie/SOLAQUA/exports/frames/2024-08-20_17-02-00_video__image_compressed_image_data_frames\n",
      "Camera: enabled\n",
      "Net-line: enabled (dist tol=0.5s, pitch tol=2.0s)\n",
      "Sonar Analysis: enabled\n",
      "FFT Data: enabled\n",
      "   Loading sonar data: sensor_sonoptix_echo_image__2024-08-20_17-02-00_video.csv\n",
      "Loaded 945 sonar frames in 37.79s\n",
      " LOADING ALL DISTANCE DATA FOR BAG: 2024-08-20_17-02-00\n",
      "============================================================\n",
      " 1. Loading Navigation Data...\n",
      "    Loaded 497 navigation records\n",
      "    NetPitch data available: 497 valid records\n",
      " 2. Loading Guidance Data...\n",
      "    Loaded 509 guidance records with ['error_net_distance', 'desired_net_distance', 'r_net_distance_d']\n",
      " 3. Loading DVL Altimeter...\n",
      "    DVL altimeter file not found\n",
      " 4. Loading USBL...\n",
      "    Loaded 30 USBL records\n",
      " 5. Loading DVL Position...\n",
      "    Loaded 265 DVL position records\n",
      " 6. Loading Navigation Position...\n",
      "    Loaded 245 navigation position records\n",
      " 7. Loading INS Z Position...\n",
      "    INS file not found\n",
      "\n",
      " LOADING SUMMARY:\n",
      "    Target bag: 2024-08-20_17-02-00\n",
      "    Raw data loaded: 2/2\n",
      "    Distance measurements: 4\n",
      "   Auto-loaded DVL data: 497 records\n",
      "   Used absolute timestamps for FFT data\n",
      "   Time Range Verification:\n",
      "     Sonar: 2024-08-20 15:02:03.239282846+00:00 to 2024-08-20 15:03:03.660551786+00:00\n",
      "     DVL:   2024-08-20 15:02:05.408126593+00:00 to 2024-08-20 15:03:02.795768261+00:00\n",
      "     FFT:   2024-08-20 15:02:03.753343105 to 2024-08-20 15:03:00.519725800\n",
      "   Using synchronized DVL data: 497 records\n",
      "      Available: ['NetDistance', 'NetPitch', 'timestamp']\n",
      "Loaded 755 camera index entries\n",
      "   Frames: 1..944 (step 1) => 944\n",
      "   Natural FPS: 16.4\n",
      "Loaded 945 sonar frames in 37.79s\n",
      " LOADING ALL DISTANCE DATA FOR BAG: 2024-08-20_17-02-00\n",
      "============================================================\n",
      " 1. Loading Navigation Data...\n",
      "    Loaded 497 navigation records\n",
      "    NetPitch data available: 497 valid records\n",
      " 2. Loading Guidance Data...\n",
      "    Loaded 509 guidance records with ['error_net_distance', 'desired_net_distance', 'r_net_distance_d']\n",
      " 3. Loading DVL Altimeter...\n",
      "    DVL altimeter file not found\n",
      " 4. Loading USBL...\n",
      "    Loaded 30 USBL records\n",
      " 5. Loading DVL Position...\n",
      "    Loaded 265 DVL position records\n",
      " 6. Loading Navigation Position...\n",
      "    Loaded 245 navigation position records\n",
      " 7. Loading INS Z Position...\n",
      "    INS file not found\n",
      "\n",
      " LOADING SUMMARY:\n",
      "    Target bag: 2024-08-20_17-02-00\n",
      "    Raw data loaded: 2/2\n",
      "    Distance measurements: 4\n",
      "   Auto-loaded DVL data: 497 records\n",
      "   Used absolute timestamps for FFT data\n",
      "   Time Range Verification:\n",
      "     Sonar: 2024-08-20 15:02:03.239282846+00:00 to 2024-08-20 15:03:03.660551786+00:00\n",
      "     DVL:   2024-08-20 15:02:05.408126593+00:00 to 2024-08-20 15:03:02.795768261+00:00\n",
      "     FFT:   2024-08-20 15:02:03.753343105 to 2024-08-20 15:03:00.519725800\n",
      "   Using synchronized DVL data: 497 records\n",
      "      Available: ['NetDistance', 'NetPitch', 'timestamp']\n",
      "Loaded 755 camera index entries\n",
      "   Frames: 1..944 (step 1) => 944\n",
      "   Natural FPS: 16.4\n"
     ]
    }
   ],
   "source": [
    "# CONFIGURATION\n",
    "FFT_CSV_PATH = Path(\"/Volumes/LaCie/SOLAQUA/relative_fft_pose\")\n",
    "TARGET_FFT_FILE = FFT_CSV_PATH / f\"{TARGET_BAG}_relative_pose_fft.csv\"\n",
    "\n",
    "print(\"GENERATING THREE-SYSTEM VIDEO WITH UNIFORM STYLING\")\n",
    "print(\"=\" * 60)\n",
    "print(f\"Target Bag: {TARGET_BAG}\")\n",
    "\n",
    "# Import the utility function\n",
    "from utils.video_generation import generate_three_system_video\n",
    "\n",
    "try:\n",
    "    # Generate video using the streamlined utility function\n",
    "    video_path = generate_three_system_video(\n",
    "        target_bag=TARGET_BAG,\n",
    "        exports_folder=EXPORTS_FOLDER,\n",
    "        net_analysis_results=net_analysis_results,\n",
    "        raw_data=raw_data,\n",
    "        fft_csv_path=TARGET_FFT_FILE if TARGET_FFT_FILE.exists() else None,\n",
    "        start_idx=1,\n",
    "        end_idx=1500\n",
    "    )\n",
    "    \n",
    "except Exception as e:\n",
    "    print(f\"Video generation failed: {e}\")\n",
    "    print(f\"Error details: {type(e).__name__}: {str(e)}\")\n",
    "    import traceback\n",
    "    traceback.print_exc()"
   ]
  },
  {
   "cell_type": "code",
   "execution_count": null,
   "id": "08601bf4",
   "metadata": {},
   "outputs": [],
   "source": []
  }
 ],
 "metadata": {
  "kernelspec": {
   "display_name": "venv",
   "language": "python",
   "name": "python3"
  },
  "language_info": {
   "codemirror_mode": {
    "name": "ipython",
    "version": 3
   },
   "file_extension": ".py",
   "mimetype": "text/x-python",
   "name": "python",
   "nbconvert_exporter": "python",
   "pygments_lexer": "ipython3",
   "version": "3.13.5"
  }
 },
 "nbformat": 4,
 "nbformat_minor": 5
}
