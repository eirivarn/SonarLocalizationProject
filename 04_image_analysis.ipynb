{
 "cells": [
  {
   "cell_type": "code",
   "execution_count": 2,
   "id": "7a8d02c0",
   "metadata": {},
   "outputs": [],
   "source": [
    "from pathlib import Path\n",
    "import utils.contour_analysis as iau\n",
    "import importlib\n",
    "importlib.reload(iau)\n",
    "\n",
    "# Centralized sonar defaults (inserted by sweep)\n",
    "from utils.config import SONAR_VIS_DEFAULTS\n",
    "config = SONAR_VIS_DEFAULTS.copy()\n",
    "# Backwards-compatible variable names used in older notebooks\n",
    "RANGE_MIN_M = config['range_min_m']\n",
    "RANGE_MAX_M = config['range_max_m']\n",
    "DISPLAY_RANGE_MAX_M = config['display_range_max_m']"
   ]
  },
  {
   "cell_type": "markdown",
   "id": "9220eb1d",
   "metadata": {},
   "source": [
    "# Simple Image Analysis with CV2\n",
    "\n",
    "This notebook demonstrates:\n",
    "1. **Pick a frame** from NPZ files and save it locally\n",
    "2. **Use standard cv2 functions** directly for image processing\n",
    "3. **Experiment** with different OpenCV operations"
   ]
  },
  {
   "cell_type": "code",
   "execution_count": 3,
   "id": "4b3e8f46",
   "metadata": {},
   "outputs": [
    {
     "name": "stdout",
     "output_type": "stream",
     "text": [
      "Using DATA_DIR = /Volumes/LaCie/SOLAQUA/raw_data\n"
     ]
    }
   ],
   "source": [
    "# Prefer selecting by bag ID (part of the NPZ filename) instead of a numeric index.\n",
    "# Set TARGET_BAG to a substring that appears in the NPZ filename \n",
    "# '2024-08-22_14-47-39' #1\n",
    "# '2024-08-22_14-29-05' #2\n",
    "# '2024-08-20_14-22-12' #3\n",
    "# '2024-08-20_14-31-29' #4\n",
    "# '2024-08-20_18-47-40' #5\n",
    "# '2024-08-20_13-55-34' #6\n",
    "# '2024-08-20_13-57-42' #7\n",
    "# '2024-08-20_17-02-00' #8\n",
    "TARGET_BAG = '2024-08-20_14-31-29'  # change this to your desired bag ID\n",
    "from utils.config import EXPORTS_DIR_DEFAULT, EXPORTS_SUBDIRS\n",
    "EXPORTS_FOLDER = Path(EXPORTS_DIR_DEFAULT)\n",
    "\n",
    "# If you keep your raw .bag files or raw data on an external drive, point DATA_DIR there.\n",
    "# Example (your external disk): /Volumes/LaCie/SOLAQUA/raw_data\n",
    "DATA_DIR = Path(\"/Volumes/LaCie/SOLAQUA/raw_data\")\n",
    "print(f\"Using DATA_DIR = {DATA_DIR}\")\n",
    "\n",
    "# NOTE: To export data for this specific bag, use:\n",
    "# python scripts/solaqua_export.py --data-dir /Volumes/LaCie/SOLAQUA/raw_data --exports-dir /Volumes/LaCie/SOLAQUA/exports --bag-stem 2024-08-20_17-02-00 --all\n",
    "\n",
    "# Find NPZ files and pick the one matching TARGET_BAG\n",
    "files = iau.get_available_npz_files()\n",
    "if not files:\n",
    "    raise FileNotFoundError(f\"No NPZ files found in configured exports outputs (looked under {EXPORTS_FOLDER / EXPORTS_SUBDIRS.get('outputs','outputs')})\")\n",
    "matches = [p for p in files if TARGET_BAG in p.name]\n",
    "if not matches:\n",
    "    # Help the user by listing available NPZ files\n",
    "    print(f'No NPZ file matched TARGET_BAG={TARGET_BAG!r}')\n",
    "    print('Available NPZ files:')\n",
    "    for i,p in enumerate(files):\n",
    "        print(f'  {i}: {p.name}')\n",
    "    raise ValueError(f'No NPZ file contains \"{TARGET_BAG}\" in its name')\n",
    "\n",
    "# If multiple matches, choose the most recently modified one\n",
    "selected = max(matches, key=lambda p: p.stat().st_mtime)\n",
    "NPZ_FILE_INDEX = files.index(selected)"
   ]
  },
  {
   "cell_type": "markdown",
   "id": "0c65358c",
   "metadata": {},
   "source": [
    "## Distance Analysis Over Time\n",
    "\n",
    "Now let's perform a comprehensive analysis of the red line distance over time. The red line represents the major axis of the detected elongated contour (likely a fishing net), and we'll track how this distance changes throughout the video sequence."
   ]
  },
  {
   "cell_type": "code",
   "execution_count": 4,
   "id": "b9c5da85",
   "metadata": {},
   "outputs": [
    {
     "name": "stdout",
     "output_type": "stream",
     "text": [
      "=== ENHANCED VIDEO CREATION WITH AOI/CORRIDOR VISUALIZATION ===\n",
      "Processing 1059 frames...\n",
      "AOI/Corridor visualization: ENABLED (Green ellipse + Orange corridor)\n",
      "Processed 10/1059 frames\n",
      "Processed 20/1059 frames\n",
      "Processed 30/1059 frames\n",
      "Processed 40/1059 frames\n",
      "Processed 50/1059 frames\n",
      "Processed 60/1059 frames\n",
      "Processed 70/1059 frames\n",
      "Processed 80/1059 frames\n",
      "Processed 90/1059 frames\n",
      "Processed 100/1059 frames\n",
      "Processed 110/1059 frames\n",
      "Processed 120/1059 frames\n",
      "Processed 130/1059 frames\n",
      "Processed 140/1059 frames\n",
      "Processed 150/1059 frames\n",
      "Processed 160/1059 frames\n",
      "Processed 170/1059 frames\n",
      "Processed 180/1059 frames\n",
      "Processed 190/1059 frames\n",
      "Processed 200/1059 frames\n",
      "Processed 210/1059 frames\n",
      "Processed 220/1059 frames\n",
      "Processed 230/1059 frames\n",
      "Processed 240/1059 frames\n",
      "Processed 250/1059 frames\n",
      "Processed 260/1059 frames\n",
      "Processed 270/1059 frames\n",
      "Processed 280/1059 frames\n",
      "Processed 290/1059 frames\n",
      "Processed 300/1059 frames\n",
      "Processed 310/1059 frames\n",
      "Processed 320/1059 frames\n",
      "Processed 330/1059 frames\n",
      "Processed 340/1059 frames\n",
      "Processed 350/1059 frames\n",
      "Processed 360/1059 frames\n",
      "Processed 370/1059 frames\n",
      "Processed 380/1059 frames\n",
      "Processed 390/1059 frames\n",
      "Processed 400/1059 frames\n",
      "Processed 410/1059 frames\n",
      "Processed 420/1059 frames\n",
      "Processed 430/1059 frames\n",
      "Processed 440/1059 frames\n",
      "Processed 450/1059 frames\n",
      "Processed 460/1059 frames\n",
      "Processed 470/1059 frames\n",
      "Processed 480/1059 frames\n",
      "Processed 490/1059 frames\n",
      "Processed 500/1059 frames\n",
      "Processed 510/1059 frames\n",
      "Processed 520/1059 frames\n",
      "Processed 530/1059 frames\n",
      "Processed 540/1059 frames\n",
      "Processed 550/1059 frames\n",
      "Processed 560/1059 frames\n",
      "Processed 570/1059 frames\n",
      "Processed 580/1059 frames\n",
      "Processed 590/1059 frames\n",
      "Processed 600/1059 frames\n",
      "Processed 610/1059 frames\n",
      "Processed 620/1059 frames\n",
      "Processed 630/1059 frames\n",
      "Processed 640/1059 frames\n",
      "Processed 650/1059 frames\n",
      "Processed 660/1059 frames\n",
      "Processed 670/1059 frames\n",
      "Processed 680/1059 frames\n",
      "Processed 690/1059 frames\n",
      "Processed 700/1059 frames\n",
      "Processed 710/1059 frames\n",
      "Processed 720/1059 frames\n",
      "Processed 730/1059 frames\n",
      "Processed 740/1059 frames\n",
      "Processed 750/1059 frames\n",
      "Processed 760/1059 frames\n",
      "Processed 770/1059 frames\n",
      "Processed 780/1059 frames\n",
      "Processed 790/1059 frames\n",
      "Processed 800/1059 frames\n",
      "Processed 810/1059 frames\n",
      "Processed 820/1059 frames\n",
      "Processed 830/1059 frames\n",
      "Processed 840/1059 frames\n",
      "Processed 850/1059 frames\n",
      "Processed 860/1059 frames\n",
      "Processed 870/1059 frames\n",
      "Processed 880/1059 frames\n",
      "Processed 890/1059 frames\n",
      "Processed 900/1059 frames\n",
      "Processed 910/1059 frames\n",
      "Processed 920/1059 frames\n",
      "Processed 930/1059 frames\n",
      "Processed 940/1059 frames\n",
      "Processed 950/1059 frames\n",
      "Processed 960/1059 frames\n",
      "Processed 970/1059 frames\n",
      "Processed 980/1059 frames\n",
      "Processed 990/1059 frames\n",
      "Processed 1000/1059 frames\n",
      "Processed 1010/1059 frames\n",
      "Processed 1020/1059 frames\n",
      "Processed 1030/1059 frames\n",
      "Processed 1040/1059 frames\n",
      "Processed 1050/1059 frames\n",
      "\n",
      "Video saved to: /Volumes/LaCie/SOLAQUA/exports/videos/core_aoi_tracking.mp4\n",
      "Shows: Green contour + Magenta ellipse + Red axis + Green AOI fill + Orange corridor fill\n"
     ]
    }
   ],
   "source": [
    "# Create the unified processor with corridor splitting enabled\n",
    "from utils.config import TRACKING_CONFIG\n",
    "TRACKING_CONFIG['use_corridor_splitting'] = True  # Force enable\n",
    "\n",
    "processor = iau.SonarDataProcessor()\n",
    "\n",
    "# Import video generation module\n",
    "import utils.video_generation as sg\n",
    "\n",
    "# Use the enhanced video creation with CORE processor\n",
    "# The processor maintains masks internally and will render them\n",
    "video_path = sg.create_enhanced_contour_detection_video_with_processor(\n",
    "    npz_file_index=NPZ_FILE_INDEX,          \n",
    "    frame_start=1,           \n",
    "    frame_count=1500,         \n",
    "    frame_step=1,            \n",
    "    output_path=Path(EXPORTS_DIR_DEFAULT) / EXPORTS_SUBDIRS.get('videos','videos') / 'core_aoi_tracking.mp4',\n",
    "    processor=processor      \n",
    ")"
   ]
  },
  {
   "cell_type": "code",
   "execution_count": 5,
   "id": "d9c0382e",
   "metadata": {},
   "outputs": [
    {
     "name": "stdout",
     "output_type": "stream",
     "text": [
      "=== DISTANCE ANALYSIS FROM NPZ ===\n",
      "Processing 1059 frames from 1 (step=1)\n",
      "\n",
      "=== ANALYSIS COMPLETE ===\n",
      "Total frames: 1059, Successful: 1059 (100.0%)\n",
      "Distance (meters): mean=2.009, std=0.290\n",
      "Analysis results saved to: /Volumes/LaCie/SOLAQUA/exports/outputs/2024-08-20_14-31-29_data_cones_analysis_results.csv\n"
     ]
    }
   ],
   "source": [
    "engine = iau.DistanceAnalysisEngine()\n",
    "net_analysis_results = engine.analyze_npz_sequence(\n",
    "    npz_file_index=NPZ_FILE_INDEX,    \n",
    "    frame_start=1,        # Start from frame 1\n",
    "    frame_count=1500,      # Analyze all frames from the video\n",
    "    frame_step=1,          # Every frame\n",
    "    save_outputs=True   # Save outputs to CSV and NPZ\n",
    ")"
   ]
  },
  {
   "cell_type": "code",
   "execution_count": 6,
   "id": "0bd5183d",
   "metadata": {},
   "outputs": [
    {
     "data": {
      "text/plain": [
       "Index(['frame_index', 'timestamp', 'distance_pixels', 'angle_degrees',\n",
       "       'distance_meters', 'detection_success', 'tracking_status', 'area',\n",
       "       'aspect_ratio', 'ellipse_elongation', 'rect', 'centroid_x',\n",
       "       'centroid_y', 'ellipse_mask', 'corridor_mask'],\n",
       "      dtype='object')"
      ]
     },
     "execution_count": 6,
     "metadata": {},
     "output_type": "execute_result"
    }
   ],
   "source": [
    "net_analysis_results.columns"
   ]
  },
  {
   "cell_type": "markdown",
   "id": "fede9d64",
   "metadata": {},
   "source": [
    "## Convert to Real-World Distances\n",
    "\n",
    "Now let's convert the pixel distances to real-world distances using the fact that the entire sonar image represents a 10x10 meter area."
   ]
  },
  {
   "cell_type": "code",
   "execution_count": 7,
   "id": "886897de",
   "metadata": {},
   "outputs": [
    {
     "name": "stdout",
     "output_type": "stream",
     "text": [
      "Using pixels_to_meters_avg = 0.016765 m/px\n",
      "Mapping source: npz_metadata\n"
     ]
    }
   ],
   "source": [
    "# Auto-detect pixel->meter mapping from the selected NPZ using utils function\n",
    "mapping_info = iau.get_pixel_to_meter_mapping(selected)\n",
    "\n",
    "# Extract commonly used variables for backwards compatibility\n",
    "pixels_to_meters_avg = mapping_info['pixels_to_meters_avg']\n",
    "image_shape = mapping_info['image_shape'] \n",
    "sonar_coverage_meters = mapping_info['sonar_coverage_meters']\n",
    "\n",
    "print(f\"Using pixels_to_meters_avg = {pixels_to_meters_avg:.6f} m/px\")\n",
    "print(f\"Mapping source: {mapping_info['source']}\")"
   ]
  },
  {
   "cell_type": "code",
   "execution_count": 8,
   "id": "15d6238c",
   "metadata": {},
   "outputs": [
    {
     "data": {
      "application/vnd.plotly.v1+json": {
       "config": {
        "plotlyServerURL": "https://plot.ly"
       },
       "data": [
        {
         "line": {
          "color": "blue"
         },
         "mode": "lines+markers",
         "name": "Distance",
         "type": "scatter",
         "x": {
          "bdata": "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",
          "dtype": "i2"
         },
         "xaxis": "x",
         "y": {
          "bdata": "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",
          "dtype": "f8"
         },
         "yaxis": "y"
        },
        {
         "line": {
          "color": "green"
         },
         "mode": "lines+markers",
         "name": "Over Time",
         "type": "scatter",
         "x": [
          "2024-08-20T12:31:31.646577597",
          "2024-08-20T12:31:31.698080540",
          "2024-08-20T12:31:31.754469156",
          "2024-08-20T12:31:31.831546307",
          "2024-08-20T12:31:31.885334969",
          "2024-08-20T12:31:31.954052687",
          "2024-08-20T12:31:32.018088102",
          "2024-08-20T12:31:32.075402021",
          "2024-08-20T12:31:32.144854307",
          "2024-08-20T12:31:32.212814808",
          "2024-08-20T12:31:32.267182350",
          "2024-08-20T12:31:32.335195303",
          "2024-08-20T12:31:32.406787634",
          "2024-08-20T12:31:32.457234144",
          "2024-08-20T12:31:32.525289297",
          "2024-08-20T12:31:32.593762636",
          "2024-08-20T12:31:32.650238276",
          "2024-08-20T12:31:32.717152596",
          "2024-08-20T12:31:32.780387640",
          "2024-08-20T12:31:32.841059446",
          "2024-08-20T12:31:32.906817913",
          "2024-08-20T12:31:32.980269432",
          "2024-08-20T12:31:33.040210009",
          "2024-08-20T12:31:33.106266499",
          "2024-08-20T12:31:33.161862612",
          "2024-08-20T12:31:33.230583906",
          "2024-08-20T12:31:33.295020342",
          "2024-08-20T12:31:33.354778290",
          "2024-08-20T12:31:33.423379660",
          "2024-08-20T12:31:33.499363661",
          "2024-08-20T12:31:33.546871662",
          "2024-08-20T12:31:33.631410837",
          "2024-08-20T12:31:33.684964657",
          "2024-08-20T12:31:33.745022058",
          "2024-08-20T12:31:33.802020550",
          "2024-08-20T12:31:33.867725372",
          "2024-08-20T12:31:33.932236671",
          "2024-08-20T12:31:33.996148348",
          "2024-08-20T12:31:34.059749126",
          "2024-08-20T12:31:34.130630255",
          "2024-08-20T12:31:34.195817947",
          "2024-08-20T12:31:34.251893044",
          "2024-08-20T12:31:34.316012621",
          "2024-08-20T12:31:34.379064322",
          "2024-08-20T12:31:34.445616961",
          "2024-08-20T12:31:34.520291328",
          "2024-08-20T12:31:34.579352856",
          "2024-08-20T12:31:34.646281242",
          "2024-08-20T12:31:34.700042009",
          "2024-08-20T12:31:34.761975288",
          "2024-08-20T12:31:34.835655928",
          "2024-08-20T12:31:34.894368649",
          "2024-08-20T12:31:34.965850830",
          "2024-08-20T12:31:35.017930269",
          "2024-08-20T12:31:35.101395130",
          "2024-08-20T12:31:35.153437853",
          "2024-08-20T12:31:35.210199833",
          "2024-08-20T12:31:35.280081749",
          "2024-08-20T12:31:35.341067553",
          "2024-08-20T12:31:35.418746471",
          "2024-08-20T12:31:35.467732430",
          "2024-08-20T12:31:35.540701389",
          "2024-08-20T12:31:35.614132166",
          "2024-08-20T12:31:35.677764654",
          "2024-08-20T12:31:35.727799416",
          "2024-08-20T12:31:35.795963526",
          "2024-08-20T12:31:35.855257273",
          "2024-08-20T12:31:35.913671255",
          "2024-08-20T12:31:35.982911110",
          "2024-08-20T12:31:36.049960136",
          "2024-08-20T12:31:36.160790920",
          "2024-08-20T12:31:36.215159893",
          "2024-08-20T12:31:36.266360521",
          "2024-08-20T12:31:36.326954126",
          "2024-08-20T12:31:36.374673843",
          "2024-08-20T12:31:36.427510977",
          "2024-08-20T12:31:36.628982067",
          "2024-08-20T12:31:36.644722223",
          "2024-08-20T12:31:36.702798367",
          "2024-08-20T12:31:36.749392509",
          "2024-08-20T12:31:36.813193321",
          "2024-08-20T12:31:36.846895218",
          "2024-08-20T12:31:36.894267559",
          "2024-08-20T12:31:36.945302010",
          "2024-08-20T12:31:37.010329723",
          "2024-08-20T12:31:37.070846558",
          "2024-08-20T12:31:37.136649847",
          "2024-08-20T12:31:37.203574896",
          "2024-08-20T12:31:37.265544414",
          "2024-08-20T12:31:37.322830439",
          "2024-08-20T12:31:37.397317410",
          "2024-08-20T12:31:37.454933405",
          "2024-08-20T12:31:37.514069796",
          "2024-08-20T12:31:37.582529068",
          "2024-08-20T12:31:37.645457506",
          "2024-08-20T12:31:37.712982655",
          "2024-08-20T12:31:37.774693966",
          "2024-08-20T12:31:37.836584330",
          "2024-08-20T12:31:37.902946949",
          "2024-08-20T12:31:37.974624872",
          "2024-08-20T12:31:38.037126303",
          "2024-08-20T12:31:38.101852179",
          "2024-08-20T12:31:38.158796310",
          "2024-08-20T12:31:38.217875719",
          "2024-08-20T12:31:38.284002304",
          "2024-08-20T12:31:38.349200964",
          "2024-08-20T12:31:38.414858341",
          "2024-08-20T12:31:38.477511644",
          "2024-08-20T12:31:38.549622059",
          "2024-08-20T12:31:38.615042448",
          "2024-08-20T12:31:38.667257547",
          "2024-08-20T12:31:38.734623909",
          "2024-08-20T12:31:38.804688454",
          "2024-08-20T12:31:38.878034830",
          "2024-08-20T12:31:38.926593781",
          "2024-08-20T12:31:38.987664461",
          "2024-08-20T12:31:39.057875633",
          "2024-08-20T12:31:39.118229628",
          "2024-08-20T12:31:39.185204983",
          "2024-08-20T12:31:39.246366262",
          "2024-08-20T12:31:39.310639620",
          "2024-08-20T12:31:39.377806425",
          "2024-08-20T12:31:39.437372923",
          "2024-08-20T12:31:39.503720760",
          "2024-08-20T12:31:39.562573433",
          "2024-08-20T12:31:39.626982450",
          "2024-08-20T12:31:39.692898989",
          "2024-08-20T12:31:39.761131048",
          "2024-08-20T12:31:39.826190472",
          "2024-08-20T12:31:39.891431570",
          "2024-08-20T12:31:40.085423231",
          "2024-08-20T12:31:40.098029852",
          "2024-08-20T12:31:40.161843300",
          "2024-08-20T12:31:40.205168724",
          "2024-08-20T12:31:40.251532555",
          "2024-08-20T12:31:40.312841892",
          "2024-08-20T12:31:40.358989716",
          "2024-08-20T12:31:40.406612158",
          "2024-08-20T12:31:40.464359999",
          "2024-08-20T12:31:40.534104824",
          "2024-08-20T12:31:40.594321251",
          "2024-08-20T12:31:40.653865337",
          "2024-08-20T12:31:40.716713667",
          "2024-08-20T12:31:40.790132523",
          "2024-08-20T12:31:40.852404594",
          "2024-08-20T12:31:40.924584389",
          "2024-08-20T12:31:40.990194321",
          "2024-08-20T12:31:41.044213057",
          "2024-08-20T12:31:41.098100662",
          "2024-08-20T12:31:41.164961815",
          "2024-08-20T12:31:41.241569757",
          "2024-08-20T12:31:41.303011417",
          "2024-08-20T12:31:41.367163658",
          "2024-08-20T12:31:41.419644594",
          "2024-08-20T12:31:41.492321014",
          "2024-08-20T12:31:41.558728695",
          "2024-08-20T12:31:41.614335537",
          "2024-08-20T12:31:41.681729317",
          "2024-08-20T12:31:41.740458488",
          "2024-08-20T12:31:41.805760622",
          "2024-08-20T12:31:41.875095844",
          "2024-08-20T12:31:41.943003178",
          "2024-08-20T12:31:41.995601177",
          "2024-08-20T12:31:42.078662395",
          "2024-08-20T12:31:42.127113818",
          "2024-08-20T12:31:42.196267605",
          "2024-08-20T12:31:42.250454426",
          "2024-08-20T12:31:42.321537495",
          "2024-08-20T12:31:42.387549877",
          "2024-08-20T12:31:42.516468524",
          "2024-08-20T12:31:42.560358047",
          "2024-08-20T12:31:42.619677305",
          "2024-08-20T12:31:42.667245865",
          "2024-08-20T12:31:42.727994204",
          "2024-08-20T12:31:42.775864601",
          "2024-08-20T12:31:42.833236217",
          "2024-08-20T12:31:42.890518188",
          "2024-08-20T12:31:42.956952333",
          "2024-08-20T12:31:43.025605440",
          "2024-08-20T12:31:43.084932089",
          "2024-08-20T12:31:43.145882130",
          "2024-08-20T12:31:43.238186121",
          "2024-08-20T12:31:43.275223970",
          "2024-08-20T12:31:43.338101149",
          "2024-08-20T12:31:43.406572580",
          "2024-08-20T12:31:43.483829260",
          "2024-08-20T12:31:43.530000924",
          "2024-08-20T12:31:43.597750902",
          "2024-08-20T12:31:43.658497095",
          "2024-08-20T12:31:43.726749182",
          "2024-08-20T12:31:43.786095142",
          "2024-08-20T12:31:43.863275766",
          "2024-08-20T12:31:43.920380116",
          "2024-08-20T12:31:43.986305475",
          "2024-08-20T12:31:44.042047501",
          "2024-08-20T12:31:44.117374897",
          "2024-08-20T12:31:44.180620432",
          "2024-08-20T12:31:44.241193295",
          "2024-08-20T12:31:44.306932449",
          "2024-08-20T12:31:44.361572266",
          "2024-08-20T12:31:44.434217930",
          "2024-08-20T12:31:44.492784262",
          "2024-08-20T12:31:44.555565357",
          "2024-08-20T12:31:44.651940823",
          "2024-08-20T12:31:44.685032129",
          "2024-08-20T12:31:44.746576548",
          "2024-08-20T12:31:44.813697577",
          "2024-08-20T12:31:44.887895823",
          "2024-08-20T12:31:44.949828863",
          "2024-08-20T12:31:45.007232189",
          "2024-08-20T12:31:45.073174953",
          "2024-08-20T12:31:45.141270638",
          "2024-08-20T12:31:45.199509621",
          "2024-08-20T12:31:45.289059162",
          "2024-08-20T12:31:45.331021309",
          "2024-08-20T12:31:45.411118984",
          "2024-08-20T12:31:45.516622304",
          "2024-08-20T12:31:45.577656031",
          "2024-08-20T12:31:45.638229370",
          "2024-08-20T12:31:45.726750612",
          "2024-08-20T12:31:45.759828329",
          "2024-08-20T12:31:45.812025785",
          "2024-08-20T12:31:45.864082098",
          "2024-08-20T12:31:45.925406933",
          "2024-08-20T12:31:45.989795685",
          "2024-08-20T12:31:46.055088997",
          "2024-08-20T12:31:46.102125406",
          "2024-08-20T12:31:46.154039860",
          "2024-08-20T12:31:46.222038031",
          "2024-08-20T12:31:46.283673525",
          "2024-08-20T12:31:46.347721815",
          "2024-08-20T12:31:46.420304775",
          "2024-08-20T12:31:46.481950283",
          "2024-08-20T12:31:46.541814089",
          "2024-08-20T12:31:46.606258869",
          "2024-08-20T12:31:46.679786205",
          "2024-08-20T12:31:46.736270189",
          "2024-08-20T12:31:46.794671774",
          "2024-08-20T12:31:46.863101244",
          "2024-08-20T12:31:46.935025930",
          "2024-08-20T12:31:46.990176201",
          "2024-08-20T12:31:47.054307699",
          "2024-08-20T12:31:47.115860939",
          "2024-08-20T12:31:47.183064461",
          "2024-08-20T12:31:47.242532730",
          "2024-08-20T12:31:47.316887617",
          "2024-08-20T12:31:47.389654875",
          "2024-08-20T12:31:47.440395117",
          "2024-08-20T12:31:47.522526026",
          "2024-08-20T12:31:47.571510792",
          "2024-08-20T12:31:47.648420811",
          "2024-08-20T12:31:47.825736284",
          "2024-08-20T12:31:47.843222618",
          "2024-08-20T12:31:47.888325214",
          "2024-08-20T12:31:47.953749895",
          "2024-08-20T12:31:48.004361391",
          "2024-08-20T12:31:48.040638685",
          "2024-08-20T12:31:48.106209993",
          "2024-08-20T12:31:48.149106264",
          "2024-08-20T12:31:48.203912735",
          "2024-08-20T12:31:48.271149158",
          "2024-08-20T12:31:48.334847927",
          "2024-08-20T12:31:48.395498037",
          "2024-08-20T12:31:48.460103273",
          "2024-08-20T12:31:48.523717879",
          "2024-08-20T12:31:48.589677572",
          "2024-08-20T12:31:48.654162645",
          "2024-08-20T12:31:48.715465784",
          "2024-08-20T12:31:48.789288521",
          "2024-08-20T12:31:48.850009203",
          "2024-08-20T12:31:48.908723831",
          "2024-08-20T12:31:48.977153063",
          "2024-08-20T12:31:49.043497562",
          "2024-08-20T12:31:49.102124214",
          "2024-08-20T12:31:49.178101540",
          "2024-08-20T12:31:49.226215839",
          "2024-08-20T12:31:49.296092749",
          "2024-08-20T12:31:49.357970715",
          "2024-08-20T12:31:49.420014858",
          "2024-08-20T12:31:49.491424561",
          "2024-08-20T12:31:49.560839891",
          "2024-08-20T12:31:49.613677502",
          "2024-08-20T12:31:49.677239656",
          "2024-08-20T12:31:49.744240284",
          "2024-08-20T12:31:49.805918217",
          "2024-08-20T12:31:49.869468689",
          "2024-08-20T12:31:49.933706522",
          "2024-08-20T12:31:50.000298500",
          "2024-08-20T12:31:50.061558485",
          "2024-08-20T12:31:50.123506069",
          "2024-08-20T12:31:50.186713219",
          "2024-08-20T12:31:50.250667810",
          "2024-08-20T12:31:50.317352295",
          "2024-08-20T12:31:50.384612799",
          "2024-08-20T12:31:50.444391251",
          "2024-08-20T12:31:50.519822597",
          "2024-08-20T12:31:50.574129105",
          "2024-08-20T12:31:50.685823441",
          "2024-08-20T12:31:50.739253759",
          "2024-08-20T12:31:50.803405046",
          "2024-08-20T12:31:50.837083817",
          "2024-08-20T12:31:50.911969662",
          "2024-08-20T12:31:50.959758043",
          "2024-08-20T12:31:51.037622213",
          "2024-08-20T12:31:51.088937759",
          "2024-08-20T12:31:51.155440807",
          "2024-08-20T12:31:51.219081879",
          "2024-08-20T12:31:51.301193237",
          "2024-08-20T12:31:51.353073359",
          "2024-08-20T12:31:51.402487516",
          "2024-08-20T12:31:51.471892595",
          "2024-08-20T12:31:51.529047489",
          "2024-08-20T12:31:51.601649284",
          "2024-08-20T12:31:51.662197113",
          "2024-08-20T12:31:51.723462582",
          "2024-08-20T12:31:51.799422979",
          "2024-08-20T12:31:51.856409788",
          "2024-08-20T12:31:51.917263746",
          "2024-08-20T12:31:51.981797695",
          "2024-08-20T12:31:52.045412779",
          "2024-08-20T12:31:52.116870880",
          "2024-08-20T12:31:52.195272207",
          "2024-08-20T12:31:52.235750675",
          "2024-08-20T12:31:52.313540220",
          "2024-08-20T12:31:52.373891115",
          "2024-08-20T12:31:52.433332920",
          "2024-08-20T12:31:52.493750095",
          "2024-08-20T12:31:52.561791420",
          "2024-08-20T12:31:52.619624853",
          "2024-08-20T12:31:52.686259031",
          "2024-08-20T12:31:52.751447916",
          "2024-08-20T12:31:52.809981108",
          "2024-08-20T12:31:52.875110149",
          "2024-08-20T12:31:52.943279743",
          "2024-08-20T12:31:53.003955364",
          "2024-08-20T12:31:53.099415541",
          "2024-08-20T12:31:53.143888950",
          "2024-08-20T12:31:53.212150812",
          "2024-08-20T12:31:53.259493113",
          "2024-08-20T12:31:53.322640181",
          "2024-08-20T12:31:53.388837576",
          "2024-08-20T12:31:53.455111027",
          "2024-08-20T12:31:53.516661644",
          "2024-08-20T12:31:53.593705893",
          "2024-08-20T12:31:53.684018612",
          "2024-08-20T12:31:53.742606163",
          "2024-08-20T12:31:53.794399261",
          "2024-08-20T12:31:53.845454931",
          "2024-08-20T12:31:53.910133600",
          "2024-08-20T12:31:53.964103222",
          "2024-08-20T12:31:54.027899265",
          "2024-08-20T12:31:54.094071627",
          "2024-08-20T12:31:54.160755157",
          "2024-08-20T12:31:54.224005461",
          "2024-08-20T12:31:54.286396027",
          "2024-08-20T12:31:54.351824284",
          "2024-08-20T12:31:54.417450666",
          "2024-08-20T12:31:54.481439590",
          "2024-08-20T12:31:54.550186157",
          "2024-08-20T12:31:54.616944313",
          "2024-08-20T12:31:54.681591749",
          "2024-08-20T12:31:54.731174707",
          "2024-08-20T12:31:54.801552534",
          "2024-08-20T12:31:54.858095884",
          "2024-08-20T12:31:54.922172785",
          "2024-08-20T12:31:54.988988161",
          "2024-08-20T12:31:55.051735878",
          "2024-08-20T12:31:55.117093325",
          "2024-08-20T12:31:55.185985327",
          "2024-08-20T12:31:55.241997719",
          "2024-08-20T12:31:55.319412231",
          "2024-08-20T12:31:55.380599499",
          "2024-08-20T12:31:55.444195986",
          "2024-08-20T12:31:55.504720211",
          "2024-08-20T12:31:55.562536716",
          "2024-08-20T12:31:55.632965565",
          "2024-08-20T12:31:55.694044590",
          "2024-08-20T12:31:55.766027689",
          "2024-08-20T12:31:55.825833797",
          "2024-08-20T12:31:55.882542372",
          "2024-08-20T12:31:55.965233564",
          "2024-08-20T12:31:56.017625093",
          "2024-08-20T12:31:56.086488485",
          "2024-08-20T12:31:56.138632298",
          "2024-08-20T12:31:56.206171513",
          "2024-08-20T12:31:56.270372152",
          "2024-08-20T12:31:56.333415985",
          "2024-08-20T12:31:56.399590015",
          "2024-08-20T12:31:56.461598396",
          "2024-08-20T12:31:56.525592089",
          "2024-08-20T12:31:56.598979950",
          "2024-08-20T12:31:56.654695749",
          "2024-08-20T12:31:56.724888325",
          "2024-08-20T12:31:56.784654140",
          "2024-08-20T12:31:56.850581408",
          "2024-08-20T12:31:56.918162823",
          "2024-08-20T12:31:56.975262642",
          "2024-08-20T12:31:57.039210320",
          "2024-08-20T12:31:57.106537342",
          "2024-08-20T12:31:57.169817448",
          "2024-08-20T12:31:57.228921175",
          "2024-08-20T12:31:57.307356358",
          "2024-08-20T12:31:57.357964993",
          "2024-08-20T12:31:57.425617218",
          "2024-08-20T12:31:57.485058069",
          "2024-08-20T12:31:57.549180984",
          "2024-08-20T12:31:57.617109060",
          "2024-08-20T12:31:57.681005478",
          "2024-08-20T12:31:57.739080667",
          "2024-08-20T12:31:57.809083462",
          "2024-08-20T12:31:57.869064808",
          "2024-08-20T12:31:57.933215380",
          "2024-08-20T12:31:57.998693228",
          "2024-08-20T12:31:58.079336405",
          "2024-08-20T12:31:58.126728058",
          "2024-08-20T12:31:58.246094227",
          "2024-08-20T12:31:58.317513227",
          "2024-08-20T12:31:58.374687433",
          "2024-08-20T12:31:58.441545248",
          "2024-08-20T12:31:58.497110128",
          "2024-08-20T12:31:58.515092373",
          "2024-08-20T12:31:58.583954573",
          "2024-08-20T12:31:58.642869949",
          "2024-08-20T12:31:58.699170828",
          "2024-08-20T12:31:58.767191410",
          "2024-08-20T12:31:58.894729614",
          "2024-08-20T12:31:58.971887827",
          "2024-08-20T12:31:59.019374132",
          "2024-08-20T12:31:59.093962193",
          "2024-08-20T12:31:59.145352364",
          "2024-08-20T12:31:59.196387768",
          "2024-08-20T12:31:59.258487462",
          "2024-08-20T12:31:59.312619925",
          "2024-08-20T12:31:59.360480309",
          "2024-08-20T12:31:59.406090021",
          "2024-08-20T12:31:59.467573404",
          "2024-08-20T12:31:59.538860321",
          "2024-08-20T12:31:59.596888781",
          "2024-08-20T12:31:59.660770178",
          "2024-08-20T12:31:59.722817421",
          "2024-08-20T12:31:59.796043396",
          "2024-08-20T12:31:59.855432510",
          "2024-08-20T12:31:59.917607069",
          "2024-08-20T12:31:59.981152058",
          "2024-08-20T12:32:00.046614170",
          "2024-08-20T12:32:00.116068602",
          "2024-08-20T12:32:00.180363894",
          "2024-08-20T12:32:00.235885859",
          "2024-08-20T12:32:00.300757408",
          "2024-08-20T12:32:00.364879131",
          "2024-08-20T12:32:00.426994085",
          "2024-08-20T12:32:00.490753889",
          "2024-08-20T12:32:00.556451082",
          "2024-08-20T12:32:00.621814966",
          "2024-08-20T12:32:00.684234142",
          "2024-08-20T12:32:00.751878500",
          "2024-08-20T12:32:00.813055992",
          "2024-08-20T12:32:00.878074884",
          "2024-08-20T12:32:00.939508915",
          "2024-08-20T12:32:01.026828766",
          "2024-08-20T12:32:01.083851099",
          "2024-08-20T12:32:01.130403280",
          "2024-08-20T12:32:01.195429325",
          "2024-08-20T12:32:01.259222746",
          "2024-08-20T12:32:01.327367544",
          "2024-08-20T12:32:01.390734196",
          "2024-08-20T12:32:01.452910423",
          "2024-08-20T12:32:01.525518656",
          "2024-08-20T12:32:01.601485968",
          "2024-08-20T12:32:01.649453402",
          "2024-08-20T12:32:01.708504438",
          "2024-08-20T12:32:01.774153471",
          "2024-08-20T12:32:01.837582111",
          "2024-08-20T12:32:01.897799730",
          "2024-08-20T12:32:01.965152979",
          "2024-08-20T12:32:02.029840231",
          "2024-08-20T12:32:02.095897913",
          "2024-08-20T12:32:02.160734415",
          "2024-08-20T12:32:02.218735933",
          "2024-08-20T12:32:02.288457155",
          "2024-08-20T12:32:02.359291792",
          "2024-08-20T12:32:02.475972652",
          "2024-08-20T12:32:02.529736757",
          "2024-08-20T12:32:02.580031157",
          "2024-08-20T12:32:02.652652979",
          "2024-08-20T12:32:02.715064526",
          "2024-08-20T12:32:02.759466648",
          "2024-08-20T12:32:02.812071085",
          "2024-08-20T12:32:02.866895914",
          "2024-08-20T12:32:02.926912308",
          "2024-08-20T12:32:02.986917734",
          "2024-08-20T12:32:03.070995808",
          "2024-08-20T12:32:03.117275000",
          "2024-08-20T12:32:03.180187702",
          "2024-08-20T12:32:03.274830341",
          "2024-08-20T12:32:03.312358856",
          "2024-08-20T12:32:03.375781536",
          "2024-08-20T12:32:03.444642305",
          "2024-08-20T12:32:03.506773472",
          "2024-08-20T12:32:03.565086126",
          "2024-08-20T12:32:03.635361433",
          "2024-08-20T12:32:03.704640865",
          "2024-08-20T12:32:03.754069090",
          "2024-08-20T12:32:03.817774296",
          "2024-08-20T12:32:03.885667801",
          "2024-08-20T12:32:03.949582100",
          "2024-08-20T12:32:04.152120352",
          "2024-08-20T12:32:04.176693678",
          "2024-08-20T12:32:04.229840994",
          "2024-08-20T12:32:04.275537491",
          "2024-08-20T12:32:04.318161011",
          "2024-08-20T12:32:04.380656719",
          "2024-08-20T12:32:04.427859545",
          "2024-08-20T12:32:04.470818520",
          "2024-08-20T12:32:04.530091524",
          "2024-08-20T12:32:04.593271255",
          "2024-08-20T12:32:04.655096054",
          "2024-08-20T12:32:04.720361471",
          "2024-08-20T12:32:04.779545784",
          "2024-08-20T12:32:04.851375818",
          "2024-08-20T12:32:04.909154892",
          "2024-08-20T12:32:04.970146179",
          "2024-08-20T12:32:05.043316364",
          "2024-08-20T12:32:05.102694988",
          "2024-08-20T12:32:05.170411825",
          "2024-08-20T12:32:05.233238935",
          "2024-08-20T12:32:05.295729876",
          "2024-08-20T12:32:05.358954430",
          "2024-08-20T12:32:05.435359001",
          "2024-08-20T12:32:05.486187458",
          "2024-08-20T12:32:05.548171520",
          "2024-08-20T12:32:05.613305807",
          "2024-08-20T12:32:05.681502819",
          "2024-08-20T12:32:05.742025375",
          "2024-08-20T12:32:05.803889990",
          "2024-08-20T12:32:05.869393826",
          "2024-08-20T12:32:05.936910152",
          "2024-08-20T12:32:05.998200178",
          "2024-08-20T12:32:06.065215349",
          "2024-08-20T12:32:06.137341499",
          "2024-08-20T12:32:06.199806929",
          "2024-08-20T12:32:06.259449482",
          "2024-08-20T12:32:06.318027735",
          "2024-08-20T12:32:06.444319010",
          "2024-08-20T12:32:06.493461609",
          "2024-08-20T12:32:06.539442301",
          "2024-08-20T12:32:06.595186710",
          "2024-08-20T12:32:06.662042141",
          "2024-08-20T12:32:06.701421738",
          "2024-08-20T12:32:06.762592554",
          "2024-08-20T12:32:06.833586216",
          "2024-08-20T12:32:06.901032448",
          "2024-08-20T12:32:06.960171938",
          "2024-08-20T12:32:07.070335627",
          "2024-08-20T12:32:07.130691766",
          "2024-08-20T12:32:07.173504829",
          "2024-08-20T12:32:07.240737200",
          "2024-08-20T12:32:07.296923637",
          "2024-08-20T12:32:07.340842962",
          "2024-08-20T12:32:07.405558109",
          "2024-08-20T12:32:07.466569185",
          "2024-08-20T12:32:07.534528016",
          "2024-08-20T12:32:07.598155737",
          "2024-08-20T12:32:07.658993721",
          "2024-08-20T12:32:07.725365639",
          "2024-08-20T12:32:07.790530205",
          "2024-08-20T12:32:07.852323771",
          "2024-08-20T12:32:07.914979696",
          "2024-08-20T12:32:07.979363203",
          "2024-08-20T12:32:08.047949314",
          "2024-08-20T12:32:08.109010935",
          "2024-08-20T12:32:08.180575609",
          "2024-08-20T12:32:08.241008997",
          "2024-08-20T12:32:08.309106350",
          "2024-08-20T12:32:08.362391233",
          "2024-08-20T12:32:08.430958748",
          "2024-08-20T12:32:08.494646072",
          "2024-08-20T12:32:08.573122501",
          "2024-08-20T12:32:08.620083332",
          "2024-08-20T12:32:08.695462942",
          "2024-08-20T12:32:08.760540724",
          "2024-08-20T12:32:08.823538780",
          "2024-08-20T12:32:08.882977962",
          "2024-08-20T12:32:08.945380688",
          "2024-08-20T12:32:09.005148411",
          "2024-08-20T12:32:09.073797703",
          "2024-08-20T12:32:09.133194208",
          "2024-08-20T12:32:09.201883078",
          "2024-08-20T12:32:09.260366678",
          "2024-08-20T12:32:09.324267864",
          "2024-08-20T12:32:09.393876791",
          "2024-08-20T12:32:09.459993601",
          "2024-08-20T12:32:09.520138024",
          "2024-08-20T12:32:09.584651709",
          "2024-08-20T12:32:09.653498888",
          "2024-08-20T12:32:09.717895985",
          "2024-08-20T12:32:09.773041964",
          "2024-08-20T12:32:09.835564137",
          "2024-08-20T12:32:09.914501905",
          "2024-08-20T12:32:09.962744951",
          "2024-08-20T12:32:10.031638860",
          "2024-08-20T12:32:10.107410192",
          "2024-08-20T12:32:10.156399727",
          "2024-08-20T12:32:10.242722988",
          "2024-08-20T12:32:10.284255266",
          "2024-08-20T12:32:10.350280762",
          "2024-08-20T12:32:10.415549040",
          "2024-08-20T12:32:10.490339518",
          "2024-08-20T12:32:10.542406559",
          "2024-08-20T12:32:10.606433392",
          "2024-08-20T12:32:10.672309875",
          "2024-08-20T12:32:10.731908321",
          "2024-08-20T12:32:10.795915365",
          "2024-08-20T12:32:10.867793083",
          "2024-08-20T12:32:10.923258781",
          "2024-08-20T12:32:10.990879536",
          "2024-08-20T12:32:11.053830147",
          "2024-08-20T12:32:11.117461681",
          "2024-08-20T12:32:11.180577993",
          "2024-08-20T12:32:11.241839647",
          "2024-08-20T12:32:11.313542843",
          "2024-08-20T12:32:11.374937534",
          "2024-08-20T12:32:11.453725338",
          "2024-08-20T12:32:11.515441418",
          "2024-08-20T12:32:11.566701174",
          "2024-08-20T12:32:11.627892256",
          "2024-08-20T12:32:11.690349102",
          "2024-08-20T12:32:11.897476673",
          "2024-08-20T12:32:11.914672375",
          "2024-08-20T12:32:11.972121954",
          "2024-08-20T12:32:12.014937639",
          "2024-08-20T12:32:12.076613665",
          "2024-08-20T12:32:12.123513222",
          "2024-08-20T12:32:12.165148973",
          "2024-08-20T12:32:12.226626396",
          "2024-08-20T12:32:12.299782276",
          "2024-08-20T12:32:12.347287416",
          "2024-08-20T12:32:12.428418398",
          "2024-08-20T12:32:12.465209007",
          "2024-08-20T12:32:12.521679162",
          "2024-08-20T12:32:12.616198778",
          "2024-08-20T12:32:12.655107975",
          "2024-08-20T12:32:12.719058037",
          "2024-08-20T12:32:12.784639359",
          "2024-08-20T12:32:12.844016552",
          "2024-08-20T12:32:12.911249876",
          "2024-08-20T12:32:12.971348763",
          "2024-08-20T12:32:13.037095308",
          "2024-08-20T12:32:13.108957052",
          "2024-08-20T12:32:13.175371170",
          "2024-08-20T12:32:13.232727289",
          "2024-08-20T12:32:13.294271231",
          "2024-08-20T12:32:13.355450392",
          "2024-08-20T12:32:13.423166275",
          "2024-08-20T12:32:13.491424084",
          "2024-08-20T12:32:13.554909706",
          "2024-08-20T12:32:13.621417999",
          "2024-08-20T12:32:13.677004337",
          "2024-08-20T12:32:13.741997480",
          "2024-08-20T12:32:13.806313753",
          "2024-08-20T12:32:13.870028496",
          "2024-08-20T12:32:13.950917959",
          "2024-08-20T12:32:14.007267475",
          "2024-08-20T12:32:14.080993176",
          "2024-08-20T12:32:14.125068426",
          "2024-08-20T12:32:14.189636469",
          "2024-08-20T12:32:14.260818958",
          "2024-08-20T12:32:14.317100286",
          "2024-08-20T12:32:14.388468266",
          "2024-08-20T12:32:14.443886757",
          "2024-08-20T12:32:14.513310909",
          "2024-08-20T12:32:14.570663214",
          "2024-08-20T12:32:14.645582199",
          "2024-08-20T12:32:14.698962212",
          "2024-08-20T12:32:14.764524937",
          "2024-08-20T12:32:14.828240156",
          "2024-08-20T12:32:14.897371769",
          "2024-08-20T12:32:14.960376978",
          "2024-08-20T12:32:15.022049904",
          "2024-08-20T12:32:15.086454391",
          "2024-08-20T12:32:15.151795626",
          "2024-08-20T12:32:15.259594916",
          "2024-08-20T12:32:15.305924654",
          "2024-08-20T12:32:15.349359035",
          "2024-08-20T12:32:15.415702343",
          "2024-08-20T12:32:15.474610806",
          "2024-08-20T12:32:15.533133268",
          "2024-08-20T12:32:15.594834089",
          "2024-08-20T12:32:15.662967205",
          "2024-08-20T12:32:15.732156515",
          "2024-08-20T12:32:15.792417049",
          "2024-08-20T12:32:15.854184866",
          "2024-08-20T12:32:15.929616928",
          "2024-08-20T12:32:15.979289770",
          "2024-08-20T12:32:16.044380665",
          "2024-08-20T12:32:16.109071255",
          "2024-08-20T12:32:16.173303127",
          "2024-08-20T12:32:16.236704588",
          "2024-08-20T12:32:16.298940420",
          "2024-08-20T12:32:16.363949060",
          "2024-08-20T12:32:16.429052114",
          "2024-08-20T12:32:16.495676994",
          "2024-08-20T12:32:16.563974619",
          "2024-08-20T12:32:16.628737926",
          "2024-08-20T12:32:16.683604002",
          "2024-08-20T12:32:16.747362137",
          "2024-08-20T12:32:16.811230421",
          "2024-08-20T12:32:16.894486904",
          "2024-08-20T12:32:16.943464756",
          "2024-08-20T12:32:17.003162622",
          "2024-08-20T12:32:17.071985245",
          "2024-08-20T12:32:17.130120039",
          "2024-08-20T12:32:17.202895403",
          "2024-08-20T12:32:17.262152910",
          "2024-08-20T12:32:17.323701382",
          "2024-08-20T12:32:17.391057014",
          "2024-08-20T12:32:17.460146427",
          "2024-08-20T12:32:17.516348838",
          "2024-08-20T12:32:17.587677717",
          "2024-08-20T12:32:17.663161039",
          "2024-08-20T12:32:17.729306221",
          "2024-08-20T12:32:17.783740997",
          "2024-08-20T12:32:17.836572409",
          "2024-08-20T12:32:17.902688503",
          "2024-08-20T12:32:17.969396830",
          "2024-08-20T12:32:18.028899670",
          "2024-08-20T12:32:18.103655577",
          "2024-08-20T12:32:18.158678055",
          "2024-08-20T12:32:18.226256609",
          "2024-08-20T12:32:18.285520554",
          "2024-08-20T12:32:18.349532127",
          "2024-08-20T12:32:18.413268805",
          "2024-08-20T12:32:18.483874321",
          "2024-08-20T12:32:18.539608240",
          "2024-08-20T12:32:18.602851391",
          "2024-08-20T12:32:18.677931309",
          "2024-08-20T12:32:18.733165026",
          "2024-08-20T12:32:18.800684214",
          "2024-08-20T12:32:18.861093521",
          "2024-08-20T12:32:18.926404238",
          "2024-08-20T12:32:18.993632078",
          "2024-08-20T12:32:19.069874525",
          "2024-08-20T12:32:19.117948532",
          "2024-08-20T12:32:19.200914860",
          "2024-08-20T12:32:19.253322363",
          "2024-08-20T12:32:19.311729431",
          "2024-08-20T12:32:19.376033068",
          "2024-08-20T12:32:19.438573122",
          "2024-08-20T12:32:19.641410828",
          "2024-08-20T12:32:19.654555321",
          "2024-08-20T12:32:19.715248346",
          "2024-08-20T12:32:19.769082546",
          "2024-08-20T12:32:19.818604708",
          "2024-08-20T12:32:19.870902300",
          "2024-08-20T12:32:19.912018538",
          "2024-08-20T12:32:19.968078613",
          "2024-08-20T12:32:20.021872520",
          "2024-08-20T12:32:20.084562540",
          "2024-08-20T12:32:20.146262407",
          "2024-08-20T12:32:20.204253435",
          "2024-08-20T12:32:20.283720255",
          "2024-08-20T12:32:20.342211246",
          "2024-08-20T12:32:20.401872158",
          "2024-08-20T12:32:20.459979773",
          "2024-08-20T12:32:20.535012722",
          "2024-08-20T12:32:20.604409933",
          "2024-08-20T12:32:20.669075489",
          "2024-08-20T12:32:20.725562334",
          "2024-08-20T12:32:20.783657789",
          "2024-08-20T12:32:20.856504679",
          "2024-08-20T12:32:20.908174276",
          "2024-08-20T12:32:20.973562956",
          "2024-08-20T12:32:21.039135695",
          "2024-08-20T12:32:21.102957964",
          "2024-08-20T12:32:21.164821625",
          "2024-08-20T12:32:21.226932526",
          "2024-08-20T12:32:21.310919762",
          "2024-08-20T12:32:21.356320620",
          "2024-08-20T12:32:21.421990871",
          "2024-08-20T12:32:21.498748541",
          "2024-08-20T12:32:21.547738791",
          "2024-08-20T12:32:21.612203121",
          "2024-08-20T12:32:21.683804750",
          "2024-08-20T12:32:21.747052670",
          "2024-08-20T12:32:21.805133820",
          "2024-08-20T12:32:21.868482828",
          "2024-08-20T12:32:21.933825016",
          "2024-08-20T12:32:22.007386208",
          "2024-08-20T12:32:22.202165365",
          "2024-08-20T12:32:22.217349291",
          "2024-08-20T12:32:22.271653891",
          "2024-08-20T12:32:22.339073896",
          "2024-08-20T12:32:22.381552458",
          "2024-08-20T12:32:22.422751427",
          "2024-08-20T12:32:22.473684072",
          "2024-08-20T12:32:22.529688358",
          "2024-08-20T12:32:22.577117920",
          "2024-08-20T12:32:22.634452581",
          "2024-08-20T12:32:22.702052116",
          "2024-08-20T12:32:22.764541388",
          "2024-08-20T12:32:22.838447809",
          "2024-08-20T12:32:22.900586605",
          "2024-08-20T12:32:22.959349155",
          "2024-08-20T12:32:23.019825935",
          "2024-08-20T12:32:23.091227055",
          "2024-08-20T12:32:23.147575855",
          "2024-08-20T12:32:23.250677824",
          "2024-08-20T12:32:23.314685345",
          "2024-08-20T12:32:23.379333496",
          "2024-08-20T12:32:23.432261944",
          "2024-08-20T12:32:23.468308449",
          "2024-08-20T12:32:23.534738779",
          "2024-08-20T12:32:23.609557629",
          "2024-08-20T12:32:23.658764839",
          "2024-08-20T12:32:23.736021042",
          "2024-08-20T12:32:23.806108713",
          "2024-08-20T12:32:23.851105928",
          "2024-08-20T12:32:23.923846006",
          "2024-08-20T12:32:23.979481459",
          "2024-08-20T12:32:24.049850225",
          "2024-08-20T12:32:24.116756916",
          "2024-08-20T12:32:24.172649860",
          "2024-08-20T12:32:24.242017031",
          "2024-08-20T12:32:24.313230753",
          "2024-08-20T12:32:24.373333216",
          "2024-08-20T12:32:24.432698965",
          "2024-08-20T12:32:24.497494936",
          "2024-08-20T12:32:24.556919336",
          "2024-08-20T12:32:24.619958878",
          "2024-08-20T12:32:24.694590092",
          "2024-08-20T12:32:24.755054235",
          "2024-08-20T12:32:24.816127777",
          "2024-08-20T12:32:24.879865170",
          "2024-08-20T12:32:24.948583841",
          "2024-08-20T12:32:25.009097338",
          "2024-08-20T12:32:25.072582722",
          "2024-08-20T12:32:25.134156226",
          "2024-08-20T12:32:25.209835052",
          "2024-08-20T12:32:25.266155005",
          "2024-08-20T12:32:25.328676224",
          "2024-08-20T12:32:25.389340639",
          "2024-08-20T12:32:25.459961176",
          "2024-08-20T12:32:25.656535149",
          "2024-08-20T12:32:25.675324440",
          "2024-08-20T12:32:25.735753775",
          "2024-08-20T12:32:25.779924870",
          "2024-08-20T12:32:25.828056097",
          "2024-08-20T12:32:25.892619133",
          "2024-08-20T12:32:25.932744980",
          "2024-08-20T12:32:25.982826948",
          "2024-08-20T12:32:26.031718016",
          "2024-08-20T12:32:26.094892740",
          "2024-08-20T12:32:26.164943695",
          "2024-08-20T12:32:26.222272635",
          "2024-08-20T12:32:26.299106836",
          "2024-08-20T12:32:26.350537062",
          "2024-08-20T12:32:26.413803339",
          "2024-08-20T12:32:26.481874228",
          "2024-08-20T12:32:26.544533014",
          "2024-08-20T12:32:26.612437963",
          "2024-08-20T12:32:26.681493521",
          "2024-08-20T12:32:26.733595133",
          "2024-08-20T12:32:26.800962448",
          "2024-08-20T12:32:26.863312483",
          "2024-08-20T12:32:26.924211740",
          "2024-08-20T12:32:27.005340815",
          "2024-08-20T12:32:27.053587914",
          "2024-08-20T12:32:27.132493018",
          "2024-08-20T12:32:27.186813354",
          "2024-08-20T12:32:27.258537291",
          "2024-08-20T12:32:27.322412968",
          "2024-08-20T12:32:27.374728203",
          "2024-08-20T12:32:27.443943977",
          "2024-08-20T12:32:27.537418842",
          "2024-08-20T12:32:27.567750216",
          "2024-08-20T12:32:27.639685154",
          "2024-08-20T12:32:27.695221186",
          "2024-08-20T12:32:27.767902374",
          "2024-08-20T12:32:27.829355001",
          "2024-08-20T12:32:27.885272264",
          "2024-08-20T12:32:27.967789650",
          "2024-08-20T12:32:28.019821405",
          "2024-08-20T12:32:28.081153631",
          "2024-08-20T12:32:28.140494108",
          "2024-08-20T12:32:28.206147432",
          "2024-08-20T12:32:28.275706291",
          "2024-08-20T12:32:28.333075523",
          "2024-08-20T12:32:28.398140430",
          "2024-08-20T12:32:28.464513302",
          "2024-08-20T12:32:28.530590773",
          "2024-08-20T12:32:28.593862057",
          "2024-08-20T12:32:28.655631304",
          "2024-08-20T12:32:28.716402054",
          "2024-08-20T12:32:28.782117128",
          "2024-08-20T12:32:28.844393253",
          "2024-08-20T12:32:28.910505295",
          "2024-08-20T12:32:28.978312016",
          "2024-08-20T12:32:29.038023710",
          "2024-08-20T12:32:29.099702120",
          "2024-08-20T12:32:29.164088964",
          "2024-08-20T12:32:29.236219168",
          "2024-08-20T12:32:29.297885895",
          "2024-08-20T12:32:29.372434378",
          "2024-08-20T12:32:29.437843800",
          "2024-08-20T12:32:29.490306616",
          "2024-08-20T12:32:29.548657179",
          "2024-08-20T12:32:29.617269039",
          "2024-08-20T12:32:29.681074858",
          "2024-08-20T12:32:29.745016336",
          "2024-08-20T12:32:29.845786333",
          "2024-08-20T12:32:29.869696617",
          "2024-08-20T12:32:29.932155132",
          "2024-08-20T12:32:29.998889685",
          "2024-08-20T12:32:30.064047098",
          "2024-08-20T12:32:30.126353025",
          "2024-08-20T12:32:30.187588930",
          "2024-08-20T12:32:30.254764557",
          "2024-08-20T12:32:30.316999435",
          "2024-08-20T12:32:30.381423712",
          "2024-08-20T12:32:30.448472500",
          "2024-08-20T12:32:30.510729074",
          "2024-08-20T12:32:30.582882881",
          "2024-08-20T12:32:30.641760588",
          "2024-08-20T12:32:30.700930595",
          "2024-08-20T12:32:30.773675680",
          "2024-08-20T12:32:30.828474283",
          "2024-08-20T12:32:30.895357132",
          "2024-08-20T12:32:30.979616642",
          "2024-08-20T12:32:31.020097971",
          "2024-08-20T12:32:31.104388714",
          "2024-08-20T12:32:31.148559809",
          "2024-08-20T12:32:31.223516703",
          "2024-08-20T12:32:31.285018921",
          "2024-08-20T12:32:31.338774204",
          "2024-08-20T12:32:31.425596476",
          "2024-08-20T12:32:31.474105120",
          "2024-08-20T12:32:31.570835114",
          "2024-08-20T12:32:31.606189251",
          "2024-08-20T12:32:31.665826082",
          "2024-08-20T12:32:31.724066734",
          "2024-08-20T12:32:31.790659189",
          "2024-08-20T12:32:31.853273630",
          "2024-08-20T12:32:31.921447515",
          "2024-08-20T12:32:31.992860317",
          "2024-08-20T12:32:32.044477701",
          "2024-08-20T12:32:32.110384226",
          "2024-08-20T12:32:32.176378965",
          "2024-08-20T12:32:32.243774652",
          "2024-08-20T12:32:32.302000761",
          "2024-08-20T12:32:32.367604733",
          "2024-08-20T12:32:32.442351103",
          "2024-08-20T12:32:32.493723392",
          "2024-08-20T12:32:32.559916735",
          "2024-08-20T12:32:32.631492376",
          "2024-08-20T12:32:32.694627762",
          "2024-08-20T12:32:32.751923323",
          "2024-08-20T12:32:32.815062046",
          "2024-08-20T12:32:32.876699686",
          "2024-08-20T12:32:32.942596197",
          "2024-08-20T12:32:33.005778551",
          "2024-08-20T12:32:33.077551365",
          "2024-08-20T12:32:33.132998466",
          "2024-08-20T12:32:33.197347641",
          "2024-08-20T12:32:33.274517536",
          "2024-08-20T12:32:33.341079950",
          "2024-08-20T12:32:33.390523434",
          "2024-08-20T12:32:33.451868773",
          "2024-08-20T12:32:33.524205208",
          "2024-08-20T12:32:33.583175898",
          "2024-08-20T12:32:33.643757343",
          "2024-08-20T12:32:33.722567320",
          "2024-08-20T12:32:33.784609795",
          "2024-08-20T12:32:33.835817337",
          "2024-08-20T12:32:33.902390480",
          "2024-08-20T12:32:33.967731714",
          "2024-08-20T12:32:34.033613205",
          "2024-08-20T12:32:34.093379021",
          "2024-08-20T12:32:34.156913996",
          "2024-08-20T12:32:34.222994804",
          "2024-08-20T12:32:34.286250353",
          "2024-08-20T12:32:34.347366810",
          "2024-08-20T12:32:34.424208403",
          "2024-08-20T12:32:34.477258921",
          "2024-08-20T12:32:34.539607286",
          "2024-08-20T12:32:34.605196238",
          "2024-08-20T12:32:34.687729359",
          "2024-08-20T12:32:34.741885662",
          "2024-08-20T12:32:34.811897278",
          "2024-08-20T12:32:34.858983755",
          "2024-08-20T12:32:34.929039717",
          "2024-08-20T12:32:34.990838051",
          "2024-08-20T12:32:35.051336765",
          "2024-08-20T12:32:35.116840363",
          "2024-08-20T12:32:35.184880972",
          "2024-08-20T12:32:35.244393587",
          "2024-08-20T12:32:35.313100815",
          "2024-08-20T12:32:35.382365227",
          "2024-08-20T12:32:35.436410904",
          "2024-08-20T12:32:35.508954763",
          "2024-08-20T12:32:35.570202112",
          "2024-08-20T12:32:35.630119562",
          "2024-08-20T12:32:35.700355291",
          "2024-08-20T12:32:35.757547855",
          "2024-08-20T12:32:35.838016033",
          "2024-08-20T12:32:35.895524263",
          "2024-08-20T12:32:35.949483156",
          "2024-08-20T12:32:36.014299870",
          "2024-08-20T12:32:36.085625648",
          "2024-08-20T12:32:36.143968821",
          "2024-08-20T12:32:36.215384245",
          "2024-08-20T12:32:36.273806810",
          "2024-08-20T12:32:36.334777594",
          "2024-08-20T12:32:36.396035433",
          "2024-08-20T12:32:36.459128618",
          "2024-08-20T12:32:36.536199569",
          "2024-08-20T12:32:36.611348867",
          "2024-08-20T12:32:36.663014412",
          "2024-08-20T12:32:36.724813461",
          "2024-08-20T12:32:36.790119171",
          "2024-08-20T12:32:36.846107483",
          "2024-08-20T12:32:36.909994602",
          "2024-08-20T12:32:36.978778839",
          "2024-08-20T12:32:37.064140797",
          "2024-08-20T12:32:37.110807419",
          "2024-08-20T12:32:37.165380716",
          "2024-08-20T12:32:37.249405622",
          "2024-08-20T12:32:37.295228958",
          "2024-08-20T12:32:37.364059448",
          "2024-08-20T12:32:37.432104588",
          "2024-08-20T12:32:37.494274378",
          "2024-08-20T12:32:37.564444065",
          "2024-08-20T12:32:37.627028942",
          "2024-08-20T12:32:37.681501627",
          "2024-08-20T12:32:37.752588987",
          "2024-08-20T12:32:37.809874058",
          "2024-08-20T12:32:37.869818449",
          "2024-08-20T12:32:37.944360971",
          "2024-08-20T12:32:37.999409199",
          "2024-08-20T12:32:38.071468115",
          "2024-08-20T12:32:38.126783132",
          "2024-08-20T12:32:38.192690611",
          "2024-08-20T12:32:38.251639842",
          "2024-08-20T12:32:38.321995735",
          "2024-08-20T12:32:38.387015343",
          "2024-08-20T12:32:38.445560455",
          "2024-08-20T12:32:38.511261702",
          "2024-08-20T12:32:38.585229158",
          "2024-08-20T12:32:38.649010897",
          "2024-08-20T12:32:38.707718849",
          "2024-08-20T12:32:38.769330263",
          "2024-08-20T12:32:38.832927227",
          "2024-08-20T12:32:38.904418230",
          "2024-08-20T12:32:38.961381197",
          "2024-08-20T12:32:39.026988983",
          "2024-08-20T12:32:39.090400696",
          "2024-08-20T12:32:39.162725687",
          "2024-08-20T12:32:39.223012447",
          "2024-08-20T12:32:39.292057514",
          "2024-08-20T12:32:39.364494085"
         ],
         "xaxis": "x2",
         "y": {
          "bdata": "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",
          "dtype": "f8"
         },
         "yaxis": "y2"
        },
        {
         "marker": {
          "color": "lightcoral"
         },
         "name": "Distribution",
         "nbinsx": 30,
         "opacity": 0.7,
         "type": "histogram",
         "x": {
          "bdata": "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",
          "dtype": "f8"
         },
         "xaxis": "x3",
         "yaxis": "y3"
        },
        {
         "line": {
          "color": "lightcoral",
          "width": 1
         },
         "mode": "lines",
         "name": "Raw",
         "opacity": 0.5,
         "type": "scatter",
         "x": {
          "bdata": "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",
          "dtype": "i2"
         },
         "xaxis": "x4",
         "y": {
          "bdata": "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",
          "dtype": "f8"
         },
         "yaxis": "y4"
        },
        {
         "line": {
          "color": "darkred",
          "width": 3
         },
         "mode": "lines",
         "name": "Smoothed (n=52)",
         "type": "scatter",
         "x": {
          "bdata": "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",
          "dtype": "i2"
         },
         "xaxis": "x4",
         "y": {
          "bdata": "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",
          "dtype": "f8"
         },
         "yaxis": "y4"
        }
       ],
       "layout": {
        "annotations": [
         {
          "font": {
           "size": 16
          },
          "showarrow": false,
          "text": "Distance vs Frame",
          "x": 0.225,
          "xanchor": "center",
          "xref": "paper",
          "y": 1,
          "yanchor": "bottom",
          "yref": "paper"
         },
         {
          "font": {
           "size": 16
          },
          "showarrow": false,
          "text": "Distance vs Time",
          "x": 0.775,
          "xanchor": "center",
          "xref": "paper",
          "y": 1,
          "yanchor": "bottom",
          "yref": "paper"
         },
         {
          "font": {
           "size": 16
          },
          "showarrow": false,
          "text": "Distribution",
          "x": 0.225,
          "xanchor": "center",
          "xref": "paper",
          "y": 0.375,
          "yanchor": "bottom",
          "yref": "paper"
         },
         {
          "font": {
           "size": 16
          },
          "showarrow": false,
          "text": "Trends",
          "x": 0.775,
          "xanchor": "center",
          "xref": "paper",
          "y": 0.375,
          "yanchor": "bottom",
          "yref": "paper"
         },
         {
          "showarrow": false,
          "text": "Mean: 2.01",
          "x": 2.0086887297865266,
          "xanchor": "left",
          "xref": "x3",
          "y": 1,
          "yanchor": "top",
          "yref": "y3 domain"
         }
        ],
        "height": 800,
        "shapes": [
         {
          "line": {
           "color": "red",
           "dash": "dash"
          },
          "type": "line",
          "x0": 2.0086887297865266,
          "x1": 2.0086887297865266,
          "xref": "x3",
          "y0": 0,
          "y1": 1,
          "yref": "y3 domain"
         }
        ],
        "showlegend": true,
        "template": {
         "data": {
          "bar": [
           {
            "error_x": {
             "color": "#2a3f5f"
            },
            "error_y": {
             "color": "#2a3f5f"
            },
            "marker": {
             "line": {
              "color": "#E5ECF6",
              "width": 0.5
             },
             "pattern": {
              "fillmode": "overlay",
              "size": 10,
              "solidity": 0.2
             }
            },
            "type": "bar"
           }
          ],
          "barpolar": [
           {
            "marker": {
             "line": {
              "color": "#E5ECF6",
              "width": 0.5
             },
             "pattern": {
              "fillmode": "overlay",
              "size": 10,
              "solidity": 0.2
             }
            },
            "type": "barpolar"
           }
          ],
          "carpet": [
           {
            "aaxis": {
             "endlinecolor": "#2a3f5f",
             "gridcolor": "white",
             "linecolor": "white",
             "minorgridcolor": "white",
             "startlinecolor": "#2a3f5f"
            },
            "baxis": {
             "endlinecolor": "#2a3f5f",
             "gridcolor": "white",
             "linecolor": "white",
             "minorgridcolor": "white",
             "startlinecolor": "#2a3f5f"
            },
            "type": "carpet"
           }
          ],
          "choropleth": [
           {
            "colorbar": {
             "outlinewidth": 0,
             "ticks": ""
            },
            "type": "choropleth"
           }
          ],
          "contour": [
           {
            "colorbar": {
             "outlinewidth": 0,
             "ticks": ""
            },
            "colorscale": [
             [
              0,
              "#0d0887"
             ],
             [
              0.1111111111111111,
              "#46039f"
             ],
             [
              0.2222222222222222,
              "#7201a8"
             ],
             [
              0.3333333333333333,
              "#9c179e"
             ],
             [
              0.4444444444444444,
              "#bd3786"
             ],
             [
              0.5555555555555556,
              "#d8576b"
             ],
             [
              0.6666666666666666,
              "#ed7953"
             ],
             [
              0.7777777777777778,
              "#fb9f3a"
             ],
             [
              0.8888888888888888,
              "#fdca26"
             ],
             [
              1,
              "#f0f921"
             ]
            ],
            "type": "contour"
           }
          ],
          "contourcarpet": [
           {
            "colorbar": {
             "outlinewidth": 0,
             "ticks": ""
            },
            "type": "contourcarpet"
           }
          ],
          "heatmap": [
           {
            "colorbar": {
             "outlinewidth": 0,
             "ticks": ""
            },
            "colorscale": [
             [
              0,
              "#0d0887"
             ],
             [
              0.1111111111111111,
              "#46039f"
             ],
             [
              0.2222222222222222,
              "#7201a8"
             ],
             [
              0.3333333333333333,
              "#9c179e"
             ],
             [
              0.4444444444444444,
              "#bd3786"
             ],
             [
              0.5555555555555556,
              "#d8576b"
             ],
             [
              0.6666666666666666,
              "#ed7953"
             ],
             [
              0.7777777777777778,
              "#fb9f3a"
             ],
             [
              0.8888888888888888,
              "#fdca26"
             ],
             [
              1,
              "#f0f921"
             ]
            ],
            "type": "heatmap"
           }
          ],
          "histogram": [
           {
            "marker": {
             "pattern": {
              "fillmode": "overlay",
              "size": 10,
              "solidity": 0.2
             }
            },
            "type": "histogram"
           }
          ],
          "histogram2d": [
           {
            "colorbar": {
             "outlinewidth": 0,
             "ticks": ""
            },
            "colorscale": [
             [
              0,
              "#0d0887"
             ],
             [
              0.1111111111111111,
              "#46039f"
             ],
             [
              0.2222222222222222,
              "#7201a8"
             ],
             [
              0.3333333333333333,
              "#9c179e"
             ],
             [
              0.4444444444444444,
              "#bd3786"
             ],
             [
              0.5555555555555556,
              "#d8576b"
             ],
             [
              0.6666666666666666,
              "#ed7953"
             ],
             [
              0.7777777777777778,
              "#fb9f3a"
             ],
             [
              0.8888888888888888,
              "#fdca26"
             ],
             [
              1,
              "#f0f921"
             ]
            ],
            "type": "histogram2d"
           }
          ],
          "histogram2dcontour": [
           {
            "colorbar": {
             "outlinewidth": 0,
             "ticks": ""
            },
            "colorscale": [
             [
              0,
              "#0d0887"
             ],
             [
              0.1111111111111111,
              "#46039f"
             ],
             [
              0.2222222222222222,
              "#7201a8"
             ],
             [
              0.3333333333333333,
              "#9c179e"
             ],
             [
              0.4444444444444444,
              "#bd3786"
             ],
             [
              0.5555555555555556,
              "#d8576b"
             ],
             [
              0.6666666666666666,
              "#ed7953"
             ],
             [
              0.7777777777777778,
              "#fb9f3a"
             ],
             [
              0.8888888888888888,
              "#fdca26"
             ],
             [
              1,
              "#f0f921"
             ]
            ],
            "type": "histogram2dcontour"
           }
          ],
          "mesh3d": [
           {
            "colorbar": {
             "outlinewidth": 0,
             "ticks": ""
            },
            "type": "mesh3d"
           }
          ],
          "parcoords": [
           {
            "line": {
             "colorbar": {
              "outlinewidth": 0,
              "ticks": ""
             }
            },
            "type": "parcoords"
           }
          ],
          "pie": [
           {
            "automargin": true,
            "type": "pie"
           }
          ],
          "scatter": [
           {
            "fillpattern": {
             "fillmode": "overlay",
             "size": 10,
             "solidity": 0.2
            },
            "type": "scatter"
           }
          ],
          "scatter3d": [
           {
            "line": {
             "colorbar": {
              "outlinewidth": 0,
              "ticks": ""
             }
            },
            "marker": {
             "colorbar": {
              "outlinewidth": 0,
              "ticks": ""
             }
            },
            "type": "scatter3d"
           }
          ],
          "scattercarpet": [
           {
            "marker": {
             "colorbar": {
              "outlinewidth": 0,
              "ticks": ""
             }
            },
            "type": "scattercarpet"
           }
          ],
          "scattergeo": [
           {
            "marker": {
             "colorbar": {
              "outlinewidth": 0,
              "ticks": ""
             }
            },
            "type": "scattergeo"
           }
          ],
          "scattergl": [
           {
            "marker": {
             "colorbar": {
              "outlinewidth": 0,
              "ticks": ""
             }
            },
            "type": "scattergl"
           }
          ],
          "scattermap": [
           {
            "marker": {
             "colorbar": {
              "outlinewidth": 0,
              "ticks": ""
             }
            },
            "type": "scattermap"
           }
          ],
          "scattermapbox": [
           {
            "marker": {
             "colorbar": {
              "outlinewidth": 0,
              "ticks": ""
             }
            },
            "type": "scattermapbox"
           }
          ],
          "scatterpolar": [
           {
            "marker": {
             "colorbar": {
              "outlinewidth": 0,
              "ticks": ""
             }
            },
            "type": "scatterpolar"
           }
          ],
          "scatterpolargl": [
           {
            "marker": {
             "colorbar": {
              "outlinewidth": 0,
              "ticks": ""
             }
            },
            "type": "scatterpolargl"
           }
          ],
          "scatterternary": [
           {
            "marker": {
             "colorbar": {
              "outlinewidth": 0,
              "ticks": ""
             }
            },
            "type": "scatterternary"
           }
          ],
          "surface": [
           {
            "colorbar": {
             "outlinewidth": 0,
             "ticks": ""
            },
            "colorscale": [
             [
              0,
              "#0d0887"
             ],
             [
              0.1111111111111111,
              "#46039f"
             ],
             [
              0.2222222222222222,
              "#7201a8"
             ],
             [
              0.3333333333333333,
              "#9c179e"
             ],
             [
              0.4444444444444444,
              "#bd3786"
             ],
             [
              0.5555555555555556,
              "#d8576b"
             ],
             [
              0.6666666666666666,
              "#ed7953"
             ],
             [
              0.7777777777777778,
              "#fb9f3a"
             ],
             [
              0.8888888888888888,
              "#fdca26"
             ],
             [
              1,
              "#f0f921"
             ]
            ],
            "type": "surface"
           }
          ],
          "table": [
           {
            "cells": {
             "fill": {
              "color": "#EBF0F8"
             },
             "line": {
              "color": "white"
             }
            },
            "header": {
             "fill": {
              "color": "#C8D4E3"
             },
             "line": {
              "color": "white"
             }
            },
            "type": "table"
           }
          ]
         },
         "layout": {
          "annotationdefaults": {
           "arrowcolor": "#2a3f5f",
           "arrowhead": 0,
           "arrowwidth": 1
          },
          "autotypenumbers": "strict",
          "coloraxis": {
           "colorbar": {
            "outlinewidth": 0,
            "ticks": ""
           }
          },
          "colorscale": {
           "diverging": [
            [
             0,
             "#8e0152"
            ],
            [
             0.1,
             "#c51b7d"
            ],
            [
             0.2,
             "#de77ae"
            ],
            [
             0.3,
             "#f1b6da"
            ],
            [
             0.4,
             "#fde0ef"
            ],
            [
             0.5,
             "#f7f7f7"
            ],
            [
             0.6,
             "#e6f5d0"
            ],
            [
             0.7,
             "#b8e186"
            ],
            [
             0.8,
             "#7fbc41"
            ],
            [
             0.9,
             "#4d9221"
            ],
            [
             1,
             "#276419"
            ]
           ],
           "sequential": [
            [
             0,
             "#0d0887"
            ],
            [
             0.1111111111111111,
             "#46039f"
            ],
            [
             0.2222222222222222,
             "#7201a8"
            ],
            [
             0.3333333333333333,
             "#9c179e"
            ],
            [
             0.4444444444444444,
             "#bd3786"
            ],
            [
             0.5555555555555556,
             "#d8576b"
            ],
            [
             0.6666666666666666,
             "#ed7953"
            ],
            [
             0.7777777777777778,
             "#fb9f3a"
            ],
            [
             0.8888888888888888,
             "#fdca26"
            ],
            [
             1,
             "#f0f921"
            ]
           ],
           "sequentialminus": [
            [
             0,
             "#0d0887"
            ],
            [
             0.1111111111111111,
             "#46039f"
            ],
            [
             0.2222222222222222,
             "#7201a8"
            ],
            [
             0.3333333333333333,
             "#9c179e"
            ],
            [
             0.4444444444444444,
             "#bd3786"
            ],
            [
             0.5555555555555556,
             "#d8576b"
            ],
            [
             0.6666666666666666,
             "#ed7953"
            ],
            [
             0.7777777777777778,
             "#fb9f3a"
            ],
            [
             0.8888888888888888,
             "#fdca26"
            ],
            [
             1,
             "#f0f921"
            ]
           ]
          },
          "colorway": [
           "#636efa",
           "#EF553B",
           "#00cc96",
           "#ab63fa",
           "#FFA15A",
           "#19d3f3",
           "#FF6692",
           "#B6E880",
           "#FF97FF",
           "#FECB52"
          ],
          "font": {
           "color": "#2a3f5f"
          },
          "geo": {
           "bgcolor": "white",
           "lakecolor": "white",
           "landcolor": "#E5ECF6",
           "showlakes": true,
           "showland": true,
           "subunitcolor": "white"
          },
          "hoverlabel": {
           "align": "left"
          },
          "hovermode": "closest",
          "mapbox": {
           "style": "light"
          },
          "paper_bgcolor": "white",
          "plot_bgcolor": "#E5ECF6",
          "polar": {
           "angularaxis": {
            "gridcolor": "white",
            "linecolor": "white",
            "ticks": ""
           },
           "bgcolor": "#E5ECF6",
           "radialaxis": {
            "gridcolor": "white",
            "linecolor": "white",
            "ticks": ""
           }
          },
          "scene": {
           "xaxis": {
            "backgroundcolor": "#E5ECF6",
            "gridcolor": "white",
            "gridwidth": 2,
            "linecolor": "white",
            "showbackground": true,
            "ticks": "",
            "zerolinecolor": "white"
           },
           "yaxis": {
            "backgroundcolor": "#E5ECF6",
            "gridcolor": "white",
            "gridwidth": 2,
            "linecolor": "white",
            "showbackground": true,
            "ticks": "",
            "zerolinecolor": "white"
           },
           "zaxis": {
            "backgroundcolor": "#E5ECF6",
            "gridcolor": "white",
            "gridwidth": 2,
            "linecolor": "white",
            "showbackground": true,
            "ticks": "",
            "zerolinecolor": "white"
           }
          },
          "shapedefaults": {
           "line": {
            "color": "#2a3f5f"
           }
          },
          "ternary": {
           "aaxis": {
            "gridcolor": "white",
            "linecolor": "white",
            "ticks": ""
           },
           "baxis": {
            "gridcolor": "white",
            "linecolor": "white",
            "ticks": ""
           },
           "bgcolor": "#E5ECF6",
           "caxis": {
            "gridcolor": "white",
            "linecolor": "white",
            "ticks": ""
           }
          },
          "title": {
           "x": 0.05
          },
          "xaxis": {
           "automargin": true,
           "gridcolor": "white",
           "linecolor": "white",
           "ticks": "",
           "title": {
            "standoff": 15
           },
           "zerolinecolor": "white",
           "zerolinewidth": 2
          },
          "yaxis": {
           "automargin": true,
           "gridcolor": "white",
           "linecolor": "white",
           "ticks": "",
           "title": {
            "standoff": 15
           },
           "zerolinecolor": "white",
           "zerolinewidth": 2
          }
         }
        },
        "title": {
         "text": "Real-World Distance Analysis"
        },
        "xaxis": {
         "anchor": "y",
         "domain": [
          0,
          0.45
         ]
        },
        "xaxis2": {
         "anchor": "y2",
         "domain": [
          0.55,
          1
         ]
        },
        "xaxis3": {
         "anchor": "y3",
         "domain": [
          0,
          0.45
         ]
        },
        "xaxis4": {
         "anchor": "y4",
         "domain": [
          0.55,
          1
         ]
        },
        "yaxis": {
         "anchor": "x",
         "domain": [
          0.625,
          1
         ],
         "title": {
          "text": "Distance (meters)"
         }
        },
        "yaxis2": {
         "anchor": "x2",
         "domain": [
          0.625,
          1
         ],
         "title": {
          "text": "Distance (meters)"
         }
        },
        "yaxis3": {
         "anchor": "x3",
         "domain": [
          0,
          0.375
         ]
        },
        "yaxis4": {
         "anchor": "x4",
         "domain": [
          0,
          0.375
         ]
        }
       }
      }
     },
     "metadata": {},
     "output_type": "display_data"
    }
   ],
   "source": [
    "iau.VisualizationEngine.plot_distance_analysis(net_analysis_results, \"Real-World Distance Analysis\")"
   ]
  },
  {
   "cell_type": "code",
   "execution_count": 12,
   "id": "c10a8be6",
   "metadata": {},
   "outputs": [
    {
     "name": "stdout",
     "output_type": "stream",
     "text": [
      " LOADING ALL DISTANCE DATA FOR BAG: 2024-08-20_14-31-29\n",
      "============================================================\n",
      " 1. Loading Navigation Data...\n",
      "    Loaded 559 navigation records\n",
      "    NetPitch data available: 559 valid records\n",
      " 2. Loading Guidance Data...\n",
      "    Loaded 549 guidance records with ['error_net_distance', 'desired_net_distance', 'r_net_distance_d']\n",
      " 3. Loading DVL Altimeter...\n",
      "    DVL altimeter file not found\n",
      " 4. Loading USBL...\n",
      "    Loaded 33 USBL records\n",
      " 5. Loading DVL Position...\n",
      "    Loaded 283 DVL position records\n",
      " 6. Loading Navigation Position...\n",
      "    Loaded 278 navigation position records\n",
      " 7. Loading INS Z Position...\n",
      "    INS file not found\n",
      "\n",
      " LOADING SUMMARY:\n",
      "    Target bag: 2024-08-20_14-31-29\n",
      "    Raw data loaded: 2/2\n",
      "    Distance measurements: 4\n",
      "\n",
      " RAW DATA LOADED:\n",
      "    navigation: 559 records\n",
      "    guidance: 549 records\n",
      "\n",
      " DISTANCE MEASUREMENTS LOADED:\n",
      "    USBL_3D: 33 records - 3D acoustic position\n",
      "    USBL_Depth: 33 records - USBL depth measurement\n",
      "    DVL_Position: 283 records - 3D DVL position\n",
      "    Nav_Position: 278 records - 2D navigation position\n"
     ]
    }
   ],
   "source": [
    "# COMPARISON: SONAR vs DVL DISTANCE MEASUREMENTS\n",
    "# =================================================\n",
    "import utils.distance_measurement as sda\n",
    "\n",
    "# IMPORTANT: Pass the by_bag folder, not just the exports root\n",
    "# The function expects the folder containing the CSV files\n",
    "from utils.config import EXPORTS_SUBDIRS\n",
    "BY_BAG_FOLDER = EXPORTS_FOLDER / EXPORTS_SUBDIRS.get('by_bag', 'by_bag')\n",
    "\n",
    "# Load all distance data for the target bag\n",
    "raw_data, distance_measurements = sda.load_all_distance_data_for_bag(TARGET_BAG, BY_BAG_FOLDER)\n",
    "\n",
    "# Display what we loaded\n",
    "print(f\"\\n RAW DATA LOADED:\")\n",
    "for key, data in raw_data.items():\n",
    "    if data is not None:\n",
    "        print(f\"    {key}: {len(data)} records\")\n",
    "    else:\n",
    "        print(f\"    {key}: None\")\n",
    "\n",
    "print(f\"\\n DISTANCE MEASUREMENTS LOADED:\")\n",
    "for key, info in distance_measurements.items():\n",
    "    data_len = len(info['data'])\n",
    "    print(f\"    {key}: {data_len} records - {info['description']}\")"
   ]
  },
  {
   "cell_type": "code",
   "execution_count": 13,
   "id": "0375375e",
   "metadata": {},
   "outputs": [
    {
     "name": "stdout",
     "output_type": "stream",
     "text": [
      "\n",
      "Comparison: Sonar=2.009m, DVL=1.968m, Ratio=1.021x\n"
     ]
    },
    {
     "data": {
      "application/vnd.plotly.v1+json": {
       "config": {
        "plotlyServerURL": "https://plot.ly"
       },
       "data": [
        {
         "line": {
          "color": "red",
          "width": 3
         },
         "mode": "lines",
         "name": "Sonar",
         "type": "scatter",
         "x": {
          "bdata": "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",
          "dtype": "f8"
         },
         "y": {
          "bdata": "QKTuvQB7A0AKBMw5Z4UDQOW6ORUe8wJACgTMOWeFA0C64HUwFRoDQKjLVdCjMANA+e9ywU4aA0CL6j2VQjwDQG9SEAQLMgNA/eSyE+X7AkDsQ+m3U+sCQKa6A3xl6wJAjM7xrXfRAkCW6X20kQUDQEPufXN2MQNA0t3c8EsbA0BqYyatZAwDQLqkI+VIKwNA3+21CZK9A0B++NGW1G0DQEMiYUb4PANAin0YtuBJA0DYrGJUz24DQM0A0AV90wNAGcaTCGSSA0B49lOHlc8DQOvDxP3IEgRAZlmOIU7BA0D8/P/BKsADQCFGkuZzUgRATEY90nSmBEA+JgLFzKAEQI2SBB6+wgRAupRhXRABBUCWS884x24EQHECPRR+3ANAlkvPOMduBEAHK/3V33AEQL/f0R+c6gNAF/tJqDNzA0CSoEYQFnUDQFdQdhb4aANAzvvioGxwA0C5MrgAcpUDQBMA9TN2XQNA7siB9TA3A0DR7Z15z0MDQAJlWxlpGANA0DDZ3+/oAkBbvx28P98CQIGQqmmqKgNANQtzL/ZGA0BA5/C2xFwDQMilzpls5wNAwCFvyfrmA0Bvt4E6I8QDQI1j4EOa3gNAiEzjE/OkA0D00j49NJkDQDQZoYRCugNAWKvTcey6A0BOqaxf/7QDQNd0/ub8AQRAgJBWwtL5A0BAXU2nhwYEQE/TbJuuvANA4gsZw6W0A0Ausmf465oDQEzxj5LFewNAJsRP4sp+A0CVoo+PUo0DQPqlmXrLgANAD6PVq3yMA0ArlI6jV60DQAZL/H4OGwNA/zp4fCbaAkCTJXF5g/sCQLdNKFbeAQNAPrVub1CRAkCClR15PnkCQBgkp6r2vQJAmZb129GDAkADsY8+zHcCQLlbFzR6NgJABkw+sWqYAkDZRunyQrQCQPUco6dxHgNA0NMQgyiMAkCsin5e3/kBQFvv+cBqsQFA3bbq0NhzAUDCTX/q3msBQJR71jjM8gBADKUH/4u+AEAcGbviMswAQJlGK8YPkQBAxeDrV754AEBVeVMQAIoAQAR/ZmrmgwBAhLkRiGKRAEDaFdwqxToAQOqOH6KrMgBAbMYoqULB/z+mINZ/UW//P2jz8CCVS/8/i9oLMO95/z8+xbrfmDb/P7XHnhsr8v4/osyCgQ8o/z8+TfI/80v/P07K+iU8x/4/Ip2geii1/j8he7/aVdL+P4sdLcwdMP8/+MC9T0FQ/z9QXnbDzTr/P/PJN/Uid/4/1rH64cU2/j/1vIpgdBX+PxZ/6tRqAP4/X35//FH6/T+md7O0viH+P3paOXyyGf4/eraZ/rnN/j9Z8VBhRe/+P5+61GoxAP8/poySMyz0/j9JlRkxsi7/PyK+yVR4Q/8/Eku4GVzu/j8AegVIhmX+P1JZ5fAiV/8/kCTM+H1S/z/kv8jXRRv/PyTM4NIHXv8/9f7mw70i/z+bQtTiJtb+P+0eT3Zp6f4/G1vzeVX1/j+fsEi4dFv+Pz7TSuaFP/4/R+Y/Ur2g/j/i5YVcuoP+PwWaUPRkwv4/FoBe33jY/j9qNn8RJ9v+PypQ9Z0KJ/4/UN4esLqO/j8snUmN8bn+P1bt1cljS/4/0DF1ADey/j/sLDy9oFj+P2YuYykOP/4/ZhHs16qa/j/JKxKKHif+P9Cng5Ln8/0/XaOou5P1/T/4irfBBsP9P10pdZxgH/4/i6QdES1K/j/sjuTRI6f9P+gOoEaZeP0/MaHEjyud/j/tc/dsY7H+P0kkz4Kzq/4/879ipP0a/z/kbsz5Air/P3xnQi/c4f4/9agMfcqd/z+shrT2E3n/P2DY4lQEOwBAx9Yd1bwNAEBsmGL0B+T/P+g0ULpntv8/HXT5LL/v/z9dgy9hRd7/PyQZSQA1EQBAGcOaaZX1/z+oHNjFFhUAQGaqxtwIGwBAdUvRwZEEAEBl1K9TPQEAQMkfdAxA2v8/zkNLQMX9/z8AJQ9QVfT/P+RyqBDxNABAiVlfjfdsAECaI84/qzUAQFI9y4t8MABA+vyLMccxAEBnaEM7jA8AQPgd+BMtWwBAgCMjTt1JAEDDmyunPDcAQESWdVoCHgBA8+ztqmJBAECRTW1RoEMAQCet9AGTJQBAnw4Pa3Tm/z+m2bJS1FoAQIgHUjhwfQBAZDWispl3AECXKYf3R3wAQIPvhDV+8gBAyudTGGGIAEBqU1vLxL0AQBJC1UTSXQBAhX0+5BQOAEANAivOW+T/P5UVKqsvTABAPrNadW5iAEALhP+DpP7/P43UhgegFwBAc4DBElMZAEC1XFDtxu//P06iHf53DQBAwhujCP0oAEBvqZKBAisAQCSqlyGg+P8/iRALJj3X/z9qfCPuB/7/Pw3ncsC+8v8/mWWf9vwAAECryyYXFUoAQNL6P5ej4v8/YiLOewa3/z9E+B1v4RMAQKew+LtALQBAeGO4risNAEAz6SVbe3b/PxQH9W7sDP8/0rUkuYLS/j9hUL7aOg7/P3pnFsslAv8/HzL5Nqp2/j8dgVfw/z7+P76ILy5gAP8/Ma+D0ylt/j/dO1msA8/9P/qr2FCSkf4/h3zmFlDS/T/Ln45KAI/+Pzix9lOVPf4/n6SNDZTh/T+z/YLxauf9P238AQlaDP0/OunBUGbe/D+e67LZkTf9PwdiyrAKkP0/S7qJZ3KU/T/4TfhQ4Ov9P6+70wdOx/w/PPRajsRW/D96y3EfHNv8PzeBCo3fAvw/nC3e6bCS+z8xZNtCb3L7P8gBXrF+M/s/5e3HWUUc+z94NpesHsD7P1ifOIPwwfs/7Ro3sw/B/D+kiBJqfZz7PzKLmV0f4/s/JETjRuJ7/D903U6i4qz7P70qHsYKFfw/2Gmx8VHb+z9OeUirtef7P33/oQjr9vs/bVd3OMDT+z/BwMmjjBT7P1ITZAFAg/s/OwSm8rYs+z8BXA4quVz7P/wbq4h1uvo/Q7LNYQlI+z+ftCjRtX/7P2Yc++t+U/s/WDks57N2+z+QE075uXT7P2WdihjCcvs/A9DINxNP+z+YA7jVMUX7PxjfcKpLkfs/TLg+im5j+z9hwPFrfrb7P4Jn/RfswPs/QvYmKBNU+z8R7HauWy/7P/ua/jUuVfs/ik+OqwJj+z8TcGisOFb6P8P8Dhu0QPo/DI8zZEZl+z/T7eciGs/7Pz1lk8EE3/s/mPMNPUXO/D+/xqQ41ib9P3Y0gO9DAvw/N6iGG/Bi+z+AOqtkgof8P8nMz60UrP0/b0wa9wOa/D8muvWtcXX7P90n0WTfUPo/2OiqqUrR+T/TD8Z8+N/5Px3o6R1y1/k/f//g0a4O+j+VsllF3sb5P6aQWbmg8vk/Y62YgL3n+T9jpvl9Qc/5PwlSmeKchPk/UuS9Ky+p+j9dqN3Yqyf6P2Y9JBdBFfo/Ck1wdzr/+T/Tsgt+yc75P+gjkgkdSvo/kO4tDZ/o+T/ktQ8BsuX5P3dFA6dJ8vk/wNcn8NsW+z/Adp80PnP6P3gEuAcARvo/71vwEydg+j/r8nWQY8T6P/pNNosndfo/IhXR2Pn6+T90PUzMVRf6P9EbIL9LNvo/DWVSqO5Q+j8yp/8we2f6P37KL1z3kfo/CIduSWaE+j/RpCpaXIz6P3UWg9y3pvo/enhaxVeI+j9tjvtYJm36P6JZKAZhufo/LN6z8e+w+j+zvy0T7Jb6P3ffyGdwhfo/hepHLFOh+j9QOzaSeOf6PxiE9Uv2i/o/YdY1Vatl+j/YcKs3uXL6P7Gzr2xnpvo/I3SPlVvp+j9Oz4bC2yX7P27t6ZJFBPs/UT1Nb2LA+j9ZSqCE9+v6P2h3wKuejvo/5vrapGN1+j+dslPnbMH6P72xduUq+fo/HnxX1Uls+z/xt2gktqr7P4UueHcxMfs/rf19zZXr+j/JeJk27/D6PzckS8Jvz/o/gaCenrfg+j/OH7io/wn7P77Kn68FOPs/LfiJCsc++z/9C/5X56X7P3mT0+Q8e/s/u1N2BgP5+j+PQRsQpLf6P4SFNZ8suvo/m0QKl4Qq+z9Xuohb0M/6P8FfyxGE1/o/1+3BCMQ6+z8J49cRNHP7P8PB3d4WWPs/rVtVuNOL+z+BsxllL/D6P+EmdxDATPs/0nnFjq7P+z/Vm4XC2SL8P8Uvr7vJN/w/TiWUUTMX+z/UPjAoLuT6P5boXPQ50vs/etFEOx+W/D+OV32SZ/n7P/pHYE6B2/s/Q9qElxMA/T9/KhQN0Z/8PyGBU5fWQf0/wS4CE7lt/D8ry3J9To38P2XjiTHWkPw/JW5W9Z1E/D/iS8ToqHD8P6xZIyLn1/w/EufLOnvQ/D9P7ku0hK78P27i3D/HhPw/EL8xEsN1/D9SHHqdo1P8P2mFSxErq/w/IkO47AjZ/D+GMC0/nL78P1mTbE19gf0/R12qdAnu/T9+jsOvZ7v9P9w8LgOSAP0/7Xebjhiw/D9XSrK7ktP8P6H1JIGe1vw/aPBgT//m/D++OldVqgj9P9pdpG5O0/w/mPhjHs/Z/D/imogHw2z8P4Z1K2QFwfw/JL08ODPh/D/izo5GCOz8P5a4eYroA/0/McXVpdhk/T/CHbSgE4n9PyK3O9H2D/0/26xMATjJ/D+/lWzSpKr8P9zVjsvQkPw/REsw2AHA/D+aK6uHnK38P4/vQAH7x/w/0bQ6LqXk/D+Mc7ftgZH8P/rrLGeolvw/9Nygiu95/D/Yqwyj1pz8P5qknyhEUfw/T7FNZ8OH/D/ZZn6KIin9P8v+FOSsr/w/VRaK52CQ/D/ZPoL8JWP9P46UIl6gcf0/h+AHh/HD/T+A2CVJOaP9P0AzkRzdlP0/4qcFCFlI/j8Df6M1MQr+P6rxVLqn3P0/pHxdSOr8/T9FCkPMaOz9P8JTe0QqNf4/Tfg04eLh/T+bd/L1FCX+P80fnHK+Df4//kjnB8QY/j8b6mRYoi3+P2GEhwUEI/4/+qmUIN5I/j93NDYDNtz+PwXo9dp3RP4/eqEJ4QXd/j+QFZ5cIv7+PyZc+bImhf4/Tot0CAWg/j936dDgQuv+Pyg9UqnRRf8/kKyyijwp/z+t7eLAkcX+P2psg6Tdnf4//ILmYIwL/z/mrgkVB3z/P2xB4IGasf8/vi+5N6xA/z/5D15u+ykAQGVqgaqBDwBAJnSQ8iyT/z/LcUZxLm3/PxuDcliTzP8/c9MMp/L5/j86CZFDP2z/P7PStu9aSP8/kIULNkmB/z+WdA5PWwv/P51DEkVEpf8/0DejcIKm/z9FgE7p4SH/P0t6cE3ywf8/KGRF4WRH/z/Sk0LmxZH/P5KVkZwcPP8//D2eHWMeAEA3fcCm1Dz/P7h5AMdm5/4/joPyc7Bu/z8CE6dBrPz/PwKgg+xEiP8/qk4EljpD/z/vrkthi///P5qxorCgDQBA6IP5tnE7/z83AT/RJxn/P5ccAMpG0v8/9dTZ0coH/z+kZ7GHnc/+P1/xaReD6P8/03h5mVsnAEDbOyWDkF//PxDyhzff9/8/nYqCqS3Z/z9WGIsYCdn/Px04vHGHDgBApBRJiPAMAEA4CBlFdLf/P1C3+oxr3f8/JM25vnkHAEAiJXvNxAQAQDwXZw9wCQBALbU+AyH5/z/F0AXS3QAAQLrWV/CX6f8/sVm9v+g3/z+bs8vYUBL/P1uV1VFvEf8/1BkGq45F/z9qs1w+7ob/P52h9ED7iv8/maKzNsCe/z8JhjOrj3v/PxZyXawpqv8/kpucsczM/z8Sd3ZL8bT/PxvEDaMm0P8/qlUGc565/z/NqDZJqPr/PzNtURxB7v8/VGvRAeQCAEAvBxCjrRsAQE7mxsPQAABAOuPBWyT3/z+2MGGEzQcAQAQX6U/wQABAmfQr84Hy/z8uv//TCRsAQE/qYte1QQBAkUcH1XMqAEDQcIxQRTsAQEx9cRXoSwBAgvxWUJw6AECtYQrkO9r/PzgUZwTXEwBA7zcO2XU2AEBEBX56wzEAQCmQVdHMWABAWUCLaLoIAEBqDTG4OPf/P8NE2ZjUDABA8vYcLTIhAEBkTNjCrSwAQBzUtBpbgwBAaUk+nENnAEACyAEbmmUAQDXlcT06UABA4RkK2fFcAEAOtkB6QwMAQDFvtS3h+v8/7Y210Cz//z8raPtdfFkAQNv24qdDHABAeMsLO1IIAECszHoHgfv/P6wgXWBO7v8/xtHPgz8RAEDNz0aKDjIAQN7WJ8TzZwBATgKVs5wrAEBY00IeRpsAQCnTCbgJLABAPQoTpXRwAECD0AjU/E4AQD/Bfc0+bABA+aaR9P1ZAEAE6rwEX5MAQHj3TLd6pgBAvgjVt0LoAEB/cpYHWXcAQIrKoZ3MLABAv7JhLks8AEB+JC+82k4AQHgi5dDwXwBARF/7fLFiAEAyFBNrWV0AQMRO3KMXXABAslrmAAxLAEAzLsIbbkcAQKcHlXQ0lwBAmQFmcv1bAEBVGn8peUcAQDCbkBq/bgBA6sFwS2lTAEDneA6mCXUAQL01Oav4cgBACvJ6h7lSAEBkBQ6JNkIAQOGMfNMIQwBADXrACfsyAEDQNipc7XgAQNRtpi27eQBAekvoGooyAEDEMJXWEz8AQOfN3vgmXwBAVJ/mxMJEAEDgTpJQyF4AQHd4yIc5fABApF5sxuDT/z9m4q1tInv/P1g6aVvaTwBAZuKtbSJ7/z8Jc1K7Cl7+P1IFdwSdgv8/we5G2lohAED+Dh8x/Pb/P6WZjEAAKQBA59SXF/EJAECounVsQVwAQHcHZ9kMJQBAtH4/ge9nAECuBA3dkqgAQPQUWnRokwBAKand5rOIAEBJVuMMi2cAQFyFQPYaUQBArH8HWa2QAEBqIHRlSegAQJTOTe2EkQBAlc0hXeJiAECNb9VHsxkAQKYiSRZlgQBAwLzOmj1GAEA8nlMPrhsAQPGp4kA8SABAZbiHRZUrAECJ+zoySykAQHangRF1bQBA2qzcwPPhAEB1swbCu6kAQBG1STmdWQBA7kpq8wN/AEBpZ2PJjUIAQJyHrK48FgBAH0laNS4cAED/EvT+6UAAQM933AqgmgBAKrPm5UG8AECzfBm+RZ4AQMW0FkWbLABAmO8yodBrAEAAg3YlFfD/P8L962T01v8/7HJO0XTC/z/tjbZyZeL/P8aDzhS8MwBAUZeoL6pmAEBNxRQrSEwAQKiyoNY74f8/NX6dA8sn/z/qbvWtSsT/P5bpit211/8/tSXQETey/z+Co9eV5DkAQPpznXyOcv8//6Zx7uk4AEC9rLsb4A8AQHbwlYxkLQBASYJO4HNsAEB7mb4MhzsAQAdOdGP8sf8/BU8+2fIi/z9O72nL9p7+PzylPfcQyv4/ieUhzV4Y/z/F5kN9nnz/P+qzSY/NDv8/W0dNVgLD/j8Jl/i43vb+P8N5KB2MXP4/1FOKqcMI/z8FDI8OrPv+PxLngShaSf8/UMJmc5h7/z+mPn+ccEf/PwJleOPP7v4/7/HfhW6W/z+3raJZL3L/P9JgZUjWkf4//kylhEw7/j9dDtKKYz3/Pzi01e2/3P4/pObM93Iw/z8v217hE9L+P2QhHlx/Vf4/qvNB5kcw/j/zhWYv2lT/Pyi6l4pfHP8/Zup9t20q/z+t93pKYnX+P10Ip3zpc/4/B+RpPBDh/T91DJpXD8n9P+pWyZa61f0/5Kej70b9/T/vn2/zjFn+P0DeE3RtNf4/B5N/2/QA/j/4DQ3MpC/+P2xcOQs3QP4/FtHFfIsg/j8+DkaDpA7/P229wHgjX/4/qoEO8JFL/j+qsPQ6gLj+P3ySDPZuJ/4/Sewh/B9H/j+Ask7GGrb+PxbevZ3Ka/8/rRqvc43a/j8UpGGJnrf+Py1cbEC2Xv4/PIpx+Oq2/j8ohTShRpb+P9mI/M89dP4//qNkZL2h/j9x1oIHXzP/P/iTnGxQOP8/tQeu4220/j8ACz/pdMD/P1tz+L70Cf8/bZSv6MZJ/z9oT2BLzaL/P5Kh30uPBf8/guGhwkPQ/z9FgyqAQuv/P2F8/J49BwBAWdoV7ZtRAEDrUNruiRsAQCFjRMSvDgBAupWUnjDy/z9Dmm1rNbf/P1QHy6U6GQBAZZDDEtQYAEB8nEa+/9n/P7GhsCe6iP8/ovcvTmar/z8NkGWm0FQAQI5xCHxF/f8/AkcuRTrO/z+kRpJWZer/P9sjDzNKPABArh4ceIImAEBxeCOX/0kAQA9jylu9MQBALjskmpY0AEBNmyln6UEAQA0wjTj1LwBARe5vBmz1/z9HQMon/4wAQPvOC4ORDAFAAZ8G1L0rAUDE9u1+8/AAQIqEEUxO/gBAzp72cyAEAUBRvhzVbt0AQLldj/p80QBA22kntP6ZAEDImKVWd2EAQDgCMxSmwABAhbTU6LFQAUBha0LEaL4AQKgAdDptpgBAhAaBQGBzAEB4SBBbz1EAQBqQx0uEQQBAX/6nK1yWAEDWbK6LRX0AQE1AL+jd5QBAaoLqmEONAEDlWpg7bhgBQG8pgLrPKQFAS+DtlYaXAEC0kwjZpi0AQMoOz86GSgBA88mBTNsYAECmwf96coAAQHaTBhEnXQBAFtutV7UdAECuBkWdrREAQBEsiarkcQBAmNbTJpSdAEBzjUECSwsAQNCrtJgKt/8/VEPgcTrf/z/18Tmk5DL/P2Grr+3cRP8/yRFB75BX/z+kmVD8/x0AQAQ1VV3iHABA+B+zCsCZ/z++596etBb/PxtZuqWk3P4/wIN2wyDq/j9ZQyPEeDr+P9YkuUZ4RP4/H7fdjwpp/z+mjdXIu/X+P7VUkGCt1/0/PBvZY3qG/j9ZeG4NMNP+P9IDJGu8gv8/tzlz7/pL/z8rAM+OwwoAQLUG8YBcGQBAOwgLjC8VAEAbziXp8vj/P+iWrrSnCwBAbxEekFfd/z+1aZqc3gkAQADultNf5P8/X8HNeI7R/z/UQXtKN/X+Pw7YL2Pjm/8/zv3PkY0SAEDOBAa0H1EAQDG6V40nTABAOfggme01AED9mQcmVykAQJQ/t1YT9v8/7EtGSicBAEAB1yB32xwAQJx/vf/VBgBA+TgbyV40AECjfflKqFUAQPD64CotnwBAzLFOBuQMAEDZgLYIYBgAQGhyLUxU2v8/2cTLNNFJAEA0t57JdIoAQB/cGEpX8P8/Js1iDHAWAEADCKHPTQj/P12WNE5x//0/W7VCxzYh/z8XsHFPHuP+P1ZLwLUP2f0/n93k/qH9/j/hxj/OBd7/P4CtXbzOsP8/uBIthlBl/z/ONDbYojIAQPUDm163rP8/rHF2FSWI/j/1A5tet6z/P9lVSG2AMf8/kMMjJO4M/j9zosRajV39P4LQn5JfVPw/ePgwGqij/D+VSt0av3j8Pw6Hu5vlaf0/rYYmSlLD/T8zRetLv1b9P+qyxgItMvw/72I+/qOP+z849WJHNrT8P3XZk/e7Rf0/LEdvrikh/D9N2zcu1cv8P+cDZX1TPP0/L5aJxuVg/j/mA2V9Uzz9P99fnoOws/0/ls15Oh6P/D/fX56DsLP9P/wSlDks4f0/+qtLmI/s/T8d4v7K0ID9P8PY5/qB3P0/qB4x4Wyk/j9fjAyY2n/9P+qA12lB5vw/oe6yIK/B+z+0VPqzcdf6Pz/hM5JLyvs/9k4PSbml+j+tvOr/JoH5PyjzTre+bPk/cOsOKzxz+j8nWerhqU75PwXXEDi3sPk/MCOvijbE+D95tdPTyOj5P+zD1t9MDPs/omWLvWnr+z+U+E80XUb8P/UCHIIOUPs/zzVchpFc+z8NSsMVTwr8P5XaXoeYc/w/xkTgw0QW/D+f2KcHBoj8PywvIiSgX/w/Nwo12QKd/D/N8+WhYIX8P3fg3db4Afw/1EmrrAfY+z9gPTfiEMv7P6HRpjkLe/w/ocuaAnD3/D/2lMHxfSf9P8OZEyTGvP0/M+Ub28kU/T/Ew9hkfZn8Pw5W/a0Pvv0/V+gh96Hi/j9mDUO7tuP+P9DQINGhNf4/GWNFGjRa/z8tz3/Dgd//P5i4ANguPABAm+NJRXUWAEAnyRssnAYAQJKfPrhIR/8/ze8yl0gRAEDxOMW7kaMAQMVRP2YIiABAojIoVkDNAEAgUilzSc0AQESbu5eSXwFAjhaBo0tXAUB73L2yMlIBQKAlUNd75AFAe9y9sjJSAUCJNbu+9K4BQKhNGoSq8QFA35YCWYvVAUA5mUlD9PMBQI57qif93gFAQrQwMcPNAUBDI7jkCAUCQLnHuyb54AFAt+MNblgAAkBQb+gTghACQPvVlzScoQJADIMK6mQvA0D7v9eD3l4DQJBKu6kw9AJAtZNNznmGA0DZ3N/ywhgEQLWTTc55hgNA2dzf8sIYBEA5tsvLcIcEQCIncVn6AQRAq5kPrxEzBEAKvmjMiPEDQCGMyUJQwANAg4JgjwFRA0DyIPTUPyYDQA5wMdsiCwNA7gsI5GM8A0DjGzbXck8DQL7So7IpvQJA4xs213JPA0DD2gyGAhEDQOgjn6pLowNADW0xz5Q1BEDoI5+qS6MDQMPaDIYCEQNAn5F6Ybl+AkCFNEzDiEQCQGHruZ4/sgFAhTRMw4hEAkBh67meP7IBQDyiJ3r2HwFAGFmVVa2NAEDmHwZiyPb/P52N4Rg20v4/VPu8z6Ot/T8LaZiGEYn8P8LWcz1/ZPs/eERP9Ow/+j8vsiqrWhv5P+YfBmLI9vc/nY3hGDbS9j/BGBDMaz/2P7vps+nDcfU/PBkUHeMM9j+ypGv3rBf2PywVvgB0H/Y/yzjcI4PZ9T8UywBtFf72P11dJbanIvg/pu9J/zlH+T/vgW5IzGv6PzgUk5FekPs/gqa32vC0/D/LONwjg9n9PxTLAG0V/v4/rq4S21MRAEDT96T/nKMAQPhANyTmNQFAHIrJSC/IAUBB01tteFoCQGUc7pHB7AJAimWAtgp/A0CurhLbUxEEQNP3pP+cowRA+EA3JOY1BUAcislIL8gFQEHTW214WgZAZRzukcHsBkBLJe/O1SIHQOX8qFjy1gZAkctRtiZJB0DpwLVT274GQF1YVm3pFQdA28AboIjvBkBNVwWYArAGQHGgl7xLQgdAlukp4ZTUB0C6MrwF3mYIQJbpKeGU1AdAcaCXvEtCB0BNVwWYArAGQEN4dyDSMQdAUeVGVK6xB0CMuOOSSa8HQBv3BP7/tQdA0o6BjpfsB0D5X/VW4XEIQPMy3DR+iAhAyHjgel7uCEANU+6mAtAIQKRJlKr9EAlAgLW+V8IjCUCTL4HDrykJQPEIW8yhywhA9DMvTUeMCEAqW8Wo4s0IQKQ06dsk5whAAyeyn3fzCEAPanF6XR4JQPcEYKTlMAlAymz70XYPCUDYO3zRiskIQPyEDvbTWwlA",
          "dtype": "f8"
         }
        },
        {
         "line": {
          "color": "blue",
          "width": 3
         },
         "mode": "lines",
         "name": "DVL",
         "type": "scatter",
         "x": {
          "bdata": "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",
          "dtype": "f8"
         },
         "y": {
          "bdata": "AAAAgD0KA0AAAACAwvUCQAAAAEAzMwNAAAAAwB6FA0AAAAAgrkcDQAAAAAApXANAAAAAoJmZA0AAAAAAKVwDQAAAAKCZmQNAAAAA4KNwA0AAAADAzMwEQAAAAGBmZgRAAAAAIFyPBEAAAAAgXI8EQAAAAADXowRAAAAAoEfhBEAAAADAzMwEQAAAAIDC9QRAAAAAgML1BEAAAACAPQoFQAAAAIDC9QRAAAAAYLgeBUAAAACAwvUEQAAAAEDhegRAAAAA4HoUBEAAAACAFK4DQAAAAAApXANAAAAAgML1AkAAAABgZmYCQAAAACCF6wFAAAAAgBSuAUAAAACgmZkBQAAAAAApXAFAAAAAIK5HAUAAAABAMzMBQAAAAIA9CgFAAAAAgML1AEAAAACgR+EAQAAAAADXowBAAAAAIFyPAEAAAABgZmYAQAAAAGBmZgBAAAAAoHA9AEAAAACgcD0AQAAAAKBwPQBAAAAAwPUoAEAAAADgehQAQAAAAOB6FABAAAAA4HoUAEAAAACgR+H2PwAAAAAAAABAAAAAAAAAAEAAAABACtf/PwAAAAAAAABAAAAAAAAAAEAAAADgehQAQAAAAMD1KABAAAAAoHA9AEAAAADgehQAQAAAAMD1KABAAAAAoHA9AEAAAACgcD0AQAAAAGBmZgBAAAAAYGZmAEAAAABA4XoAQAAAAOBRuABAAAAAwMzMAEAAAACgR+EAQAAAAKBH4QBAAAAAgD0KAUAAAACAPQoBQAAAAGC4HgFAAAAAIK5HAUAAAABAMzMBQAAAAOCjcAFAAAAAwB6FAUAAAADAHoUBQAAAAIAUrgFAAAAAgBSuAUAAAABACtcBQAAAAEAK1wFAAAAA4HoUAkAAAADgehQCQAAAAAAAAAJAAAAAAAAAAkAAAABgZmYCQAAAACCF6wFAAAAAIIXrAUAAAABACtcBQAAAAEAK1wFAAAAAIIXrAUAAAAAAAAACQAAAAAAAAAJAAAAAQArXAUAAAAAAAAACQAAAAGCPwgFAAAAAgBSuAUAAAADAHoUBQAAAAAApXAFAAAAAIK5HAUAAAABguB4BQAAAAMDMzABAAAAAANejAEAAAAAA16MAQAAAACBcjwBAAAAAoHA9AEAAAAAAAAAAQAAAAIAUrv8/AAAAwB6F/z8AAACAPQr/PwEAAKBH4f4/AQAA4FG4/j8AAAAghev9PwAAAOB6FP4/AAAAYI/C/T8AAACgmZn9PwAAAOCjcP0/AAAAgML1/D////9fuB79P//////Wo/w//////9aj/D8AAADA9Sj8PwAAAIDrUfw/AAAAwPUo/D8AAACAFK77PwAAAAAAAPw/AAAAgBSu+z8AAADAHoX7PwEAAAApXPs/AAAAQArX+z8AAACAFK77PwAAAMAehfs/AAAAQDMz+z8AAACgR+H6PwAAAEAzM/s/AAAAQDMz+z8AAACAPQr7PwAAAIA9Cvs/AAAAQDMz+z8AAACAPQr7PwAAAKBH4fo/AAAAoEfh+j8AAACgR+H6PwAAAOBRuPo/AAAA4FG4+j8AAAAgXI/6PwAAAOBRuPo/AAAAIFyP+j8AAAAgXI/6PwAAAOBRuPo/AAAAIFyP+j/////fo3DtPwAAACBcj/o/AAAA4FG4+j8AAADgUbj6PwAAAOBRuPo/AAAAYGZm+j8AAADgUbj6PwAAAOBRuPo/AAAA4FG4+j8AAADgUbj6PwAAACBcj/o/AAAAIFyP+j8AAACgR+H6PwAAAOBRuPo/AAAA4FG4+j8AAACgR+H6PwAAAGBmZvo/AAAAoEfh+j8AAABAMzP7PwAAAKBH4fo/AAAAoEfh+j8AAACAPQr7PwAAAEAzM/s/AQAAAClc+z8BAAAAKVz7PwEAAAApXPs/AAAAgBSu+z8AAADA9Sj8PwAAAEAK1/s/AAAAQArX+z8AAADA9Sj8PwAAAEDhevw/AAAAQOF6/D8AAABA4Xr8PwAAAEDhevw//////9aj/D8AAADAzMz8PwAAAIDC9fw/////X7ge/T////8frkf9P////x+uR/0/AAAAoJmZ/T8AAABgj8L9PwAAAGCPwv0/AAAA4HoU/j8AAADgehT+PwAAAOB6FP4/AAAAoHA9/j8AAACgcD3+PwAAAGBmZv4/AAAAoHA9/j8AAAAgXI/+PwAAACBcj/4/AAAAoHA9/j8AAACgcD3+PwAAACBcj/4/AAAAIFyP/j8AAAAgXI/+PwAAACBcj/4/AAAAIFyP/j8BAADgUbj+PwAAACBcj/4/AQAAoEfh/j8BAADgUbj+PwAAAIA9Cv8/AAAAgD0K/z8AAACAPQr/PwEAAKBH4f4/AQAAoEfh/j8BAACgR+H+PwEAAOBRuP4/AQAAoEfh/j8AAAAgXI/+PwEAAOBRuP4/AQAAoEfh/j8AAACAPQr/PwAAAIA9Cv8/AQAAoEfh/j8AAACAPQr/PwAAAGBmZv4/AQAA4FG4/j8BAACgR+H+PwEAAKBH4f4/AAAAgD0K/z8BAABAMzP/PwEAAEAzM/8/AQAAAClc/z8BAAAAKVz/PwEAAAApXP8/AAAAgBSu/z8BAAAAKVz/PwEAAKBH4f4/AQAAAClc/z8BAABAMzP/PwAAAMAehf8/AAAAgBSu/z8AAACAFK7/PwAAAAAAAABAAAAAwPUoAEAAAAAAAAAAQAAAAOB6FABAAAAAgOtRAEAAAADA9SgAQAAAAKBwPQBAAAAAIFyPAEAAAABgZmYAQAAAAEDhegBAAAAAQOF6AEAAAABgZmYAQAAAACBcjwBAAAAA4FG4AEAAAAAgXI8AQAAAAMDMzABAAAAA4FG4AEAAAACgR+EAQAAAAIDC9QBAAAAAYLgeAUAAAACAwvUAQAAAAIDC9QBAAAAAgML1AEAAAACgR+EAQAAAACCuRwFAAAAAAClcAUAAAADgo3ABQAAAAOCjcAFAAAAAQDMzAUAAAABAMzMBQAAAAEAzMwFAAAAAQDMzAUAAAAAgrkcBQAAAACCuRwFAAAAAIK5HAUAAAABAMzMBQAAAACCuRwFAAAAAQDMzAUAAAABAMzMBQAAAAEAzMwFAAAAAQDMzAUAAAAAgrkcBQAAAAEAzMwFAAAAAIK5HAUAAAACAPQoBQAAAACCuRwFAAAAAIK5HAUAAAABguB4BQAAAAEAzMwFAAAAAQDMzAUAAAAAgrkcBQAAAAEAzMwFAAAAAQDMzAUAAAAAgrkcBQAAAAIA9CgFAAAAAYLgeAUAAAACAPQoBQAAAAGC4HgFAAAAAQDMzAUAAAABguB4BQAAAAGC4HgFAAAAAQDMzAUAAAABAMzMBQAAAAEAzMwFAAAAAgD0KAUAAAABguB4BQAAAAEAzMwFAAAAAQDMzAUAAAABAMzMBQAAAAAApXAFAAAAAIK5HAUAAAAAgrkcBQAAAAAApXAFAAAAA4KNwAUAAAADgo3ABQAAAAIAUrgFAAAAAwB6FAUAAAACgmZkBQAAAAIAUrgFAAAAAwB6FAUAAAADAHoUBQAAAAIAUrgFAAAAAoJmZAUAAAADAHoUBQAAAAIAUrgFAAAAA4KNwAUAAAADAHoUBQAAAAOCjcAFAAAAAYLgeAUAAAABAMzMBQAAAAEAzMwFAAAAAQDMzAUAAAABAMzMBQAAAAIA9CgFAAAAAoEfhAEAAAACgR+EAQAAAAKBH4QBAAAAAwMzMAEAAAACgR+EAQAAAAMDMzABAAAAAANejAEAAAADgUbgAQAAAACBcjwBAAAAAQOF6AEAAAACgcD0AQAAAAOB6FABAAAAA4HoUAEAAAABACtf/PwEAAAApXP8/AQAAAClc/z8BAABAMzP/PwEAAAApXP8/AQAAoEfh/j8BAACgR+H+PwEAAKBH4f4/AAAAIFyP/j8AAACAPQr/PwEAAKBH4f4/AQAAQDMz/z8BAABAMzP/PwEAAKBH4f4/AAAAgD0K/z8BAABAMzP/PwEAAEAzM/8/AQAAoEfh/j8AAACAPQr/PwAAAIA9Cv8/AAAAgD0K/z8BAABAMzP/PwEAAAApXP8/AAAAgD0K/z8BAAAAKVz/PwAAAMAehf8/AAAAwB6F/z8AAACAFK7/PwAAAEAK1/8/AAAAAAAAAEAAAACgcD0AQAAAAIDrUQBAAAAAoHA9AEAAAACgcD0AQAAAACBcjwBAAAAAANejAEAAAAAA16MAQAAAAADXowBAAAAAoEfhAEAAAACgR+EAQAAAAIDC9QBAAAAAgML1AEAAAACgR+EAQAAAAKBH4QBAAAAAwMzMAEAAAADgUbgAQAAAAKBH4QBAAAAA4FG4AEAAAAAgXI8AQAAAAOBRuABAAAAA4FG4AEAAAAAA16MAQAAAACBcjwBAAAAA4FG4AEAAAAAgXI8AQAAAAADXowBAAAAA4FG4AEAAAADgUbgAQAAAAOBRuABAAAAAwMzMAEAAAACgR+EAQAAAAMDMzABAAAAA4FG4AEAAAACgR+EAQAAAAMDMzABAAAAA4FG4AEAAAACgR+EAQAAAAKBH4QBAAAAAoEfhAEAAAACAwvUAQAAAAOBRuABAAAAAANejAEAAAACgR+EAQAAAAIDC9QBAAAAAoEfhAEAAAABguB4BQAAAAGC4HgFAAAAAQDMzAUAAAACAwvUAQAAAAGC4HgFAAAAAYLgeAUAAAADgo3ABQAAAAMAehQFAAAAAAClcAUAAAAAAKVwBQAAAAOCjcAFAAAAAYI/CAUAAAABACtcBQAAAAGCPwgFAAAAAIIXrAUAAAADgehQCQAAAAAAAAAJAAAAA4HoUAkAAAABgZmYCQAAAAMDMzAJAAAAAoEfhAkAAAAAgXI8CQAAAAIDrUQJAAAAAoHA9AkAAAADgehQCQAAAAAAAAAJAAAAAIIXrAUAAAABACtcBQAAAAKCZmQFAAAAAoJmZAUAAAADAHoUBQAAAAGC4HgFAAAAAIK5HAUAAAACAPQoBQAAAAKBH4QBAAAAAANejAEAAAAAA16MAQAAAAEAzMwFAAAAAYGZmAEAAAABguB75PwAAAGC4Hvk/AAAAgML1+D8AAACAwvX4P//////Wo/g/AAAAgBSu/z8BAACgR+H+PwEAAEAzM/8/AQAA4FG4/j8AAABgZmb+PwAAAGCPwv0/AAAAoHA9/j8AAACAFK77PwAAAIA9Cvs/AAAAoEfh+j8AAACgR+H6PwEAAAApXPs/AQAAAClc+z8AAABgZmb2PwAAACCF6/U/AQAAAClc7z//////1qPwP////9+jcM0/AAAA4FG48j8AAACgR+HiPwEAAOBRuO4/AAAAQArX6z8AAAAAAADwP////9+jcO0/AQAAAClc8z8AAABACtf3PwAAAOCjcPk/AAAAIIXr+T8AAAAghev5PwAAAAAAAABAAAAAgBSu/z/////fUbjePwEAAAApXPs/AAAAwB6F+z8AAABguB75PwAAAAAAAPg/AAAAwMzM7D8AAAAghevxPwAAAOB6FPI/AAAAwB6F8z8AAABACtfzPwAAAAAAAPQ/AAAAwPUo9D8AAAAAKVznPwAAAIA9CvM/AAAAIFyP9j8AAACA61H4PwAAAEAzMwFAAAAAQDMzAUAAAACAwvX0PwAAACCF6/E/AAAAYI/C8T8AAADgehTyP//////Wo/A//////9aj8D8AAACAwvXwP////1+4Hu0/////X7ge7T8AAADA9SjsPwAAAMAehes/AAAAAAAA8D8AAABA4XrwPwAAAEAK1wNAAAAAwPUoBEAAAADAzMwCQAAAAEDhegJAAAAAYGZmAkD/////1qP8P//////Wo/w/AAAAgOtR/D8AAACgcD0CQAAAAEDhegJAAAAAwPUo/D8AAADA9SgIQAAAAOCjcANAAAAAIIXr+T8AAACgmZn5PwAAAIDC9fg/AAAA4HoU+j8AAACgmZn5PwAAAIDC9QBAAAAAIFyPAkAAAABguB4JQAAAAEAzMwNAAAAAQDMzCUA=",
          "dtype": "f8"
         }
        }
       ],
       "layout": {
        "height": 600,
        "template": {
         "data": {
          "bar": [
           {
            "error_x": {
             "color": "#2a3f5f"
            },
            "error_y": {
             "color": "#2a3f5f"
            },
            "marker": {
             "line": {
              "color": "#E5ECF6",
              "width": 0.5
             },
             "pattern": {
              "fillmode": "overlay",
              "size": 10,
              "solidity": 0.2
             }
            },
            "type": "bar"
           }
          ],
          "barpolar": [
           {
            "marker": {
             "line": {
              "color": "#E5ECF6",
              "width": 0.5
             },
             "pattern": {
              "fillmode": "overlay",
              "size": 10,
              "solidity": 0.2
             }
            },
            "type": "barpolar"
           }
          ],
          "carpet": [
           {
            "aaxis": {
             "endlinecolor": "#2a3f5f",
             "gridcolor": "white",
             "linecolor": "white",
             "minorgridcolor": "white",
             "startlinecolor": "#2a3f5f"
            },
            "baxis": {
             "endlinecolor": "#2a3f5f",
             "gridcolor": "white",
             "linecolor": "white",
             "minorgridcolor": "white",
             "startlinecolor": "#2a3f5f"
            },
            "type": "carpet"
           }
          ],
          "choropleth": [
           {
            "colorbar": {
             "outlinewidth": 0,
             "ticks": ""
            },
            "type": "choropleth"
           }
          ],
          "contour": [
           {
            "colorbar": {
             "outlinewidth": 0,
             "ticks": ""
            },
            "colorscale": [
             [
              0,
              "#0d0887"
             ],
             [
              0.1111111111111111,
              "#46039f"
             ],
             [
              0.2222222222222222,
              "#7201a8"
             ],
             [
              0.3333333333333333,
              "#9c179e"
             ],
             [
              0.4444444444444444,
              "#bd3786"
             ],
             [
              0.5555555555555556,
              "#d8576b"
             ],
             [
              0.6666666666666666,
              "#ed7953"
             ],
             [
              0.7777777777777778,
              "#fb9f3a"
             ],
             [
              0.8888888888888888,
              "#fdca26"
             ],
             [
              1,
              "#f0f921"
             ]
            ],
            "type": "contour"
           }
          ],
          "contourcarpet": [
           {
            "colorbar": {
             "outlinewidth": 0,
             "ticks": ""
            },
            "type": "contourcarpet"
           }
          ],
          "heatmap": [
           {
            "colorbar": {
             "outlinewidth": 0,
             "ticks": ""
            },
            "colorscale": [
             [
              0,
              "#0d0887"
             ],
             [
              0.1111111111111111,
              "#46039f"
             ],
             [
              0.2222222222222222,
              "#7201a8"
             ],
             [
              0.3333333333333333,
              "#9c179e"
             ],
             [
              0.4444444444444444,
              "#bd3786"
             ],
             [
              0.5555555555555556,
              "#d8576b"
             ],
             [
              0.6666666666666666,
              "#ed7953"
             ],
             [
              0.7777777777777778,
              "#fb9f3a"
             ],
             [
              0.8888888888888888,
              "#fdca26"
             ],
             [
              1,
              "#f0f921"
             ]
            ],
            "type": "heatmap"
           }
          ],
          "histogram": [
           {
            "marker": {
             "pattern": {
              "fillmode": "overlay",
              "size": 10,
              "solidity": 0.2
             }
            },
            "type": "histogram"
           }
          ],
          "histogram2d": [
           {
            "colorbar": {
             "outlinewidth": 0,
             "ticks": ""
            },
            "colorscale": [
             [
              0,
              "#0d0887"
             ],
             [
              0.1111111111111111,
              "#46039f"
             ],
             [
              0.2222222222222222,
              "#7201a8"
             ],
             [
              0.3333333333333333,
              "#9c179e"
             ],
             [
              0.4444444444444444,
              "#bd3786"
             ],
             [
              0.5555555555555556,
              "#d8576b"
             ],
             [
              0.6666666666666666,
              "#ed7953"
             ],
             [
              0.7777777777777778,
              "#fb9f3a"
             ],
             [
              0.8888888888888888,
              "#fdca26"
             ],
             [
              1,
              "#f0f921"
             ]
            ],
            "type": "histogram2d"
           }
          ],
          "histogram2dcontour": [
           {
            "colorbar": {
             "outlinewidth": 0,
             "ticks": ""
            },
            "colorscale": [
             [
              0,
              "#0d0887"
             ],
             [
              0.1111111111111111,
              "#46039f"
             ],
             [
              0.2222222222222222,
              "#7201a8"
             ],
             [
              0.3333333333333333,
              "#9c179e"
             ],
             [
              0.4444444444444444,
              "#bd3786"
             ],
             [
              0.5555555555555556,
              "#d8576b"
             ],
             [
              0.6666666666666666,
              "#ed7953"
             ],
             [
              0.7777777777777778,
              "#fb9f3a"
             ],
             [
              0.8888888888888888,
              "#fdca26"
             ],
             [
              1,
              "#f0f921"
             ]
            ],
            "type": "histogram2dcontour"
           }
          ],
          "mesh3d": [
           {
            "colorbar": {
             "outlinewidth": 0,
             "ticks": ""
            },
            "type": "mesh3d"
           }
          ],
          "parcoords": [
           {
            "line": {
             "colorbar": {
              "outlinewidth": 0,
              "ticks": ""
             }
            },
            "type": "parcoords"
           }
          ],
          "pie": [
           {
            "automargin": true,
            "type": "pie"
           }
          ],
          "scatter": [
           {
            "fillpattern": {
             "fillmode": "overlay",
             "size": 10,
             "solidity": 0.2
            },
            "type": "scatter"
           }
          ],
          "scatter3d": [
           {
            "line": {
             "colorbar": {
              "outlinewidth": 0,
              "ticks": ""
             }
            },
            "marker": {
             "colorbar": {
              "outlinewidth": 0,
              "ticks": ""
             }
            },
            "type": "scatter3d"
           }
          ],
          "scattercarpet": [
           {
            "marker": {
             "colorbar": {
              "outlinewidth": 0,
              "ticks": ""
             }
            },
            "type": "scattercarpet"
           }
          ],
          "scattergeo": [
           {
            "marker": {
             "colorbar": {
              "outlinewidth": 0,
              "ticks": ""
             }
            },
            "type": "scattergeo"
           }
          ],
          "scattergl": [
           {
            "marker": {
             "colorbar": {
              "outlinewidth": 0,
              "ticks": ""
             }
            },
            "type": "scattergl"
           }
          ],
          "scattermap": [
           {
            "marker": {
             "colorbar": {
              "outlinewidth": 0,
              "ticks": ""
             }
            },
            "type": "scattermap"
           }
          ],
          "scattermapbox": [
           {
            "marker": {
             "colorbar": {
              "outlinewidth": 0,
              "ticks": ""
             }
            },
            "type": "scattermapbox"
           }
          ],
          "scatterpolar": [
           {
            "marker": {
             "colorbar": {
              "outlinewidth": 0,
              "ticks": ""
             }
            },
            "type": "scatterpolar"
           }
          ],
          "scatterpolargl": [
           {
            "marker": {
             "colorbar": {
              "outlinewidth": 0,
              "ticks": ""
             }
            },
            "type": "scatterpolargl"
           }
          ],
          "scatterternary": [
           {
            "marker": {
             "colorbar": {
              "outlinewidth": 0,
              "ticks": ""
             }
            },
            "type": "scatterternary"
           }
          ],
          "surface": [
           {
            "colorbar": {
             "outlinewidth": 0,
             "ticks": ""
            },
            "colorscale": [
             [
              0,
              "#0d0887"
             ],
             [
              0.1111111111111111,
              "#46039f"
             ],
             [
              0.2222222222222222,
              "#7201a8"
             ],
             [
              0.3333333333333333,
              "#9c179e"
             ],
             [
              0.4444444444444444,
              "#bd3786"
             ],
             [
              0.5555555555555556,
              "#d8576b"
             ],
             [
              0.6666666666666666,
              "#ed7953"
             ],
             [
              0.7777777777777778,
              "#fb9f3a"
             ],
             [
              0.8888888888888888,
              "#fdca26"
             ],
             [
              1,
              "#f0f921"
             ]
            ],
            "type": "surface"
           }
          ],
          "table": [
           {
            "cells": {
             "fill": {
              "color": "#EBF0F8"
             },
             "line": {
              "color": "white"
             }
            },
            "header": {
             "fill": {
              "color": "#C8D4E3"
             },
             "line": {
              "color": "white"
             }
            },
            "type": "table"
           }
          ]
         },
         "layout": {
          "annotationdefaults": {
           "arrowcolor": "#2a3f5f",
           "arrowhead": 0,
           "arrowwidth": 1
          },
          "autotypenumbers": "strict",
          "coloraxis": {
           "colorbar": {
            "outlinewidth": 0,
            "ticks": ""
           }
          },
          "colorscale": {
           "diverging": [
            [
             0,
             "#8e0152"
            ],
            [
             0.1,
             "#c51b7d"
            ],
            [
             0.2,
             "#de77ae"
            ],
            [
             0.3,
             "#f1b6da"
            ],
            [
             0.4,
             "#fde0ef"
            ],
            [
             0.5,
             "#f7f7f7"
            ],
            [
             0.6,
             "#e6f5d0"
            ],
            [
             0.7,
             "#b8e186"
            ],
            [
             0.8,
             "#7fbc41"
            ],
            [
             0.9,
             "#4d9221"
            ],
            [
             1,
             "#276419"
            ]
           ],
           "sequential": [
            [
             0,
             "#0d0887"
            ],
            [
             0.1111111111111111,
             "#46039f"
            ],
            [
             0.2222222222222222,
             "#7201a8"
            ],
            [
             0.3333333333333333,
             "#9c179e"
            ],
            [
             0.4444444444444444,
             "#bd3786"
            ],
            [
             0.5555555555555556,
             "#d8576b"
            ],
            [
             0.6666666666666666,
             "#ed7953"
            ],
            [
             0.7777777777777778,
             "#fb9f3a"
            ],
            [
             0.8888888888888888,
             "#fdca26"
            ],
            [
             1,
             "#f0f921"
            ]
           ],
           "sequentialminus": [
            [
             0,
             "#0d0887"
            ],
            [
             0.1111111111111111,
             "#46039f"
            ],
            [
             0.2222222222222222,
             "#7201a8"
            ],
            [
             0.3333333333333333,
             "#9c179e"
            ],
            [
             0.4444444444444444,
             "#bd3786"
            ],
            [
             0.5555555555555556,
             "#d8576b"
            ],
            [
             0.6666666666666666,
             "#ed7953"
            ],
            [
             0.7777777777777778,
             "#fb9f3a"
            ],
            [
             0.8888888888888888,
             "#fdca26"
            ],
            [
             1,
             "#f0f921"
            ]
           ]
          },
          "colorway": [
           "#636efa",
           "#EF553B",
           "#00cc96",
           "#ab63fa",
           "#FFA15A",
           "#19d3f3",
           "#FF6692",
           "#B6E880",
           "#FF97FF",
           "#FECB52"
          ],
          "font": {
           "color": "#2a3f5f"
          },
          "geo": {
           "bgcolor": "white",
           "lakecolor": "white",
           "landcolor": "#E5ECF6",
           "showlakes": true,
           "showland": true,
           "subunitcolor": "white"
          },
          "hoverlabel": {
           "align": "left"
          },
          "hovermode": "closest",
          "mapbox": {
           "style": "light"
          },
          "paper_bgcolor": "white",
          "plot_bgcolor": "#E5ECF6",
          "polar": {
           "angularaxis": {
            "gridcolor": "white",
            "linecolor": "white",
            "ticks": ""
           },
           "bgcolor": "#E5ECF6",
           "radialaxis": {
            "gridcolor": "white",
            "linecolor": "white",
            "ticks": ""
           }
          },
          "scene": {
           "xaxis": {
            "backgroundcolor": "#E5ECF6",
            "gridcolor": "white",
            "gridwidth": 2,
            "linecolor": "white",
            "showbackground": true,
            "ticks": "",
            "zerolinecolor": "white"
           },
           "yaxis": {
            "backgroundcolor": "#E5ECF6",
            "gridcolor": "white",
            "gridwidth": 2,
            "linecolor": "white",
            "showbackground": true,
            "ticks": "",
            "zerolinecolor": "white"
           },
           "zaxis": {
            "backgroundcolor": "#E5ECF6",
            "gridcolor": "white",
            "gridwidth": 2,
            "linecolor": "white",
            "showbackground": true,
            "ticks": "",
            "zerolinecolor": "white"
           }
          },
          "shapedefaults": {
           "line": {
            "color": "#2a3f5f"
           }
          },
          "ternary": {
           "aaxis": {
            "gridcolor": "white",
            "linecolor": "white",
            "ticks": ""
           },
           "baxis": {
            "gridcolor": "white",
            "linecolor": "white",
            "ticks": ""
           },
           "bgcolor": "#E5ECF6",
           "caxis": {
            "gridcolor": "white",
            "linecolor": "white",
            "ticks": ""
           }
          },
          "title": {
           "x": 0.05
          },
          "xaxis": {
           "automargin": true,
           "gridcolor": "white",
           "linecolor": "white",
           "ticks": "",
           "title": {
            "standoff": 15
           },
           "zerolinecolor": "white",
           "zerolinewidth": 2
          },
          "yaxis": {
           "automargin": true,
           "gridcolor": "white",
           "linecolor": "white",
           "ticks": "",
           "title": {
            "standoff": 15
           },
           "zerolinecolor": "white",
           "zerolinewidth": 2
          }
         }
        },
        "title": {
         "text": "Sonar vs DVL Distance Comparison"
        },
        "xaxis": {
         "anchor": "y",
         "domain": [
          0,
          1
         ],
         "title": {
          "text": "Time (seconds)"
         }
        },
        "yaxis": {
         "anchor": "x",
         "domain": [
          0,
          1
         ],
         "title": {
          "text": "Distance (meters)"
         }
        }
       }
      }
     },
     "metadata": {},
     "output_type": "display_data"
    }
   ],
   "source": [
    "fig, comparison_stats = iau.ComparisonEngine.compare_sonar_vs_dvl(net_analysis_results, raw_data, sonar_coverage_m=sonar_coverage_meters, sonar_image_size=image_shape[0])\n",
    "fig.show()"
   ]
  },
  {
   "cell_type": "code",
   "execution_count": 14,
   "id": "50f97352",
   "metadata": {},
   "outputs": [
    {
     "name": "stdout",
     "output_type": "stream",
     "text": [
      "GENERATING THREE-SYSTEM VIDEO WITH UNIFORM STYLING\n",
      "============================================================\n",
      "Target Bag: 2024-08-20_14-31-29\n",
      "GENERATING TWO-SYSTEM VIDEO\n",
      "==================================================\n",
      "🔄 PREPARING THREE-SYSTEM SYNCHRONIZED DATA\n",
      "============================================================\n",
      "ℹ️  No FFT data path provided\n",
      "   Running in two-system mode: DVL + Sonar only\n",
      "✓ Using fallback synchronization method\n",
      "✓ Fallback synchronization completed\n",
      "   Systems active: DVL + Sonar\n",
      "OPTIMIZED SONAR VIDEO WITH THREE-SYSTEM SYNCHRONIZATION\n",
      "======================================================================\n",
      "Target Bag: 2024-08-20_14-31-29\n",
      "   Cone Size: 900x700\n",
      "   Range: 0.0-5.0m | FOV: 120.0\n",
      "Auto-detecting video files for bag: 2024-08-20_14-31-29\n",
      "Found video frames: 2024-08-20_14-31-29_video__image_compressed_image_data_frames\n",
      "Using frames directory: /Volumes/LaCie/SOLAQUA/exports/frames/2024-08-20_14-31-29_video__image_compressed_image_data_frames\n",
      "Camera: enabled\n",
      "Net-line: enabled (dist tol=0.5s, pitch tol=2.0s)\n",
      "Sonar Analysis: enabled\n",
      "FFT Data: disabled\n",
      "   Loading sonar data: sensor_sonoptix_echo_image__2024-08-20_14-31-29_video.csv\n",
      "Loaded 1060 sonar frames in 41.93s\n",
      " LOADING ALL DISTANCE DATA FOR BAG: 2024-08-20_14-31-29\n",
      "============================================================\n",
      " 1. Loading Navigation Data...\n",
      "    Loaded 559 navigation records\n",
      "    NetPitch data available: 559 valid records\n",
      " 2. Loading Guidance Data...\n",
      "    Loaded 549 guidance records with ['error_net_distance', 'desired_net_distance', 'r_net_distance_d']\n",
      " 3. Loading DVL Altimeter...\n",
      "    DVL altimeter file not found\n",
      " 4. Loading USBL...\n",
      "    Loaded 33 USBL records\n",
      " 5. Loading DVL Position...\n",
      "    Loaded 283 DVL position records\n",
      " 6. Loading Navigation Position...\n",
      "    Loaded 278 navigation position records\n",
      " 7. Loading INS Z Position...\n",
      "    INS file not found\n",
      "\n",
      " LOADING SUMMARY:\n",
      "    Target bag: 2024-08-20_14-31-29\n",
      "    Raw data loaded: 2/2\n",
      "    Distance measurements: 4\n",
      "   Auto-loaded DVL data: 559 records\n",
      "   Time Range Verification:\n",
      "     Sonar: 2024-08-20 12:31:31.569867373+00:00 to 2024-08-20 12:32:39.364494085+00:00\n",
      "     DVL:   2024-08-20 12:31:31.549889803+00:00 to 2024-08-20 12:32:38.557893991+00:00\n",
      "   Using synchronized DVL data: 559 records\n",
      "      Available: ['NetDistance', 'NetPitch', 'timestamp']\n",
      "Loaded 844 camera index entries\n",
      "   Frames: 1..1059 (step 1) => 1059\n",
      "   Natural FPS: 15.6\n",
      "\n",
      "🎉 DONE! Wrote 1059 frames to /Volumes/LaCie/SOLAQUA/exports/videos/2024-08-20_14-31-29_optimized_sync_withcam_withsonar_20240820_143131_646577+0200.mp4 @ 15.60 FPS\n",
      "Three-system synchronization: DVL(Yellow/Orange) | FFT(Cyan) | Sonar(Magenta)\n",
      "Metadata saved to: /Volumes/LaCie/SOLAQUA/exports/videos/2024-08-20_14-31-29_optimized_sync_withcam_withsonar_20240820_143131_646577+0200.mp4.meta.json\n",
      "\n",
      "2-SYSTEM VIDEO GENERATED: /Volumes/LaCie/SOLAQUA/exports/videos/2024-08-20_14-31-29_optimized_sync_withcam_withsonar_20240820_143131_646577+0200.mp4\n",
      "   Systems synchronized:\n",
      "   - DVL: Navigation-based robot position relative to net\n",
      "   - Sonar: Image analysis of sonar returns\n",
      "\n",
      "VIDEO SUMMARY:\n",
      "   File: 2024-08-20_14-31-29_optimized_sync_withcam_withsonar_20240820_143131_646577+0200.mp4\n",
      "   Location: /Volumes/LaCie/SOLAQUA/exports/videos\n",
      "   Frames: 1-1500\n",
      "   Systems: DVL (Yellow/Orange) + FFT (Cyan) + Sonar (Magenta)\n",
      "   Styling: Uniform line thickness and visual appearance\n"
     ]
    }
   ],
   "source": [
    "# Generate Three-SYSTEM Video \n",
    "# ===========================\n",
    "from pathlib import Path\n",
    "import importlib\n",
    "\n",
    "# CONFIGURATION\n",
    "FFT_CSV_PATH = Path(\"/Volumes/LaCie/SOLAQUA/relative_fft_pose\")\n",
    "TARGET_FFT_FILE = FFT_CSV_PATH / f\"{TARGET_BAG}_relative_pose_fft.csv\"\n",
    "\n",
    "print(\"GENERATING THREE-SYSTEM VIDEO WITH UNIFORM STYLING\")\n",
    "print(\"=\" * 60)\n",
    "print(f\"Target Bag: {TARGET_BAG}\")\n",
    "\n",
    "# Reload the module to pick up the new functions\n",
    "import utils.video_generation as sg\n",
    "importlib.reload(sg)\n",
    "\n",
    "# Import the utility function\n",
    "from utils.video_generation import generate_three_system_video\n",
    "\n",
    "try:\n",
    "    # Generate video using the streamlined utility function\n",
    "    video_path = generate_three_system_video(\n",
    "        target_bag=TARGET_BAG,\n",
    "        exports_folder=EXPORTS_FOLDER,\n",
    "        net_analysis_results=net_analysis_results,\n",
    "        raw_data=raw_data,\n",
    "        fft_csv_path=TARGET_FFT_FILE if TARGET_FFT_FILE.exists() else None,\n",
    "        start_idx=1,\n",
    "        end_idx=1500\n",
    "    )\n",
    "    \n",
    "    print(f\"\\nVIDEO SUMMARY:\")\n",
    "    print(f\"   File: {video_path.name}\")\n",
    "    print(f\"   Location: {video_path.parent}\")\n",
    "    print(f\"   Frames: 1-1500\")\n",
    "    print(f\"   Systems: DVL (Yellow/Orange) + FFT (Cyan) + Sonar (Magenta)\")\n",
    "    print(f\"   Styling: Uniform line thickness and visual appearance\")\n",
    "    \n",
    "except Exception as e:\n",
    "    print(f\"ideo generation failed: {e}\")\n",
    "    print(f\"Error details: {type(e).__name__}: {str(e)}\")\n",
    "    import traceback\n",
    "    traceback.print_exc()"
   ]
  },
  {
   "cell_type": "code",
   "execution_count": null,
   "id": "78935611",
   "metadata": {},
   "outputs": [],
   "source": []
  }
 ],
 "metadata": {
  "kernelspec": {
   "display_name": "venv",
   "language": "python",
   "name": "python3"
  },
  "language_info": {
   "codemirror_mode": {
    "name": "ipython",
    "version": 3
   },
   "file_extension": ".py",
   "mimetype": "text/x-python",
   "name": "python",
   "nbconvert_exporter": "python",
   "pygments_lexer": "ipython3",
   "version": "3.13.5"
  }
 },
 "nbformat": 4,
 "nbformat_minor": 5
}
