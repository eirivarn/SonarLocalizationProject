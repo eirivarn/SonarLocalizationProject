{
 "cells": [
  {
   "cell_type": "code",
   "execution_count": 1,
   "id": "7a8d02c0",
   "metadata": {},
   "outputs": [],
   "source": [
    "from pathlib import Path\n",
    "import utils.sonar_image_analysis as iau\n",
    "import importlib\n",
    "importlib.reload(iau)\n",
    "\n",
    "# Centralized sonar defaults (inserted by sweep)\n",
    "from utils.sonar_config import SONAR_VIS_DEFAULTS\n",
    "sonar_config = SONAR_VIS_DEFAULTS.copy()\n",
    "# Backwards-compatible variable names used in older notebooks\n",
    "RANGE_MIN_M = sonar_config['range_min_m']\n",
    "RANGE_MAX_M = sonar_config['range_max_m']\n",
    "DISPLAY_RANGE_MAX_M = sonar_config['display_range_max_m']"
   ]
  },
  {
   "cell_type": "markdown",
   "id": "9220eb1d",
   "metadata": {},
   "source": [
    "# Simple Image Analysis with CV2\n",
    "\n",
    "This notebook demonstrates:\n",
    "1. **Pick a frame** from NPZ files and save it locally\n",
    "2. **Use standard cv2 functions** directly for image processing\n",
    "3. **Experiment** with different OpenCV operations"
   ]
  },
  {
   "cell_type": "code",
   "execution_count": 2,
   "id": "4b3e8f46",
   "metadata": {},
   "outputs": [
    {
     "name": "stdout",
     "output_type": "stream",
     "text": [
      "Using DATA_DIR = /Volumes/LaCie/SOLAQUA/raw_data\n"
     ]
    }
   ],
   "source": [
    "# Prefer selecting by bag ID (part of the NPZ filename) instead of a numeric index.\n",
    "# Set TARGET_BAG to a substring that appears in the NPZ filename \n",
    "# '2024-08-22_14-47-39' #1\n",
    "# '2024-08-22_14-29-05' #2\n",
    "# '2024-08-20_14-22-12' #3\n",
    "# '2024-08-20_14-31-29' #4\n",
    "# '2024-08-20_18-47-40' #5\n",
    "# '2024-08-20_13-55-34' #6\n",
    "# '2024-08-20_13-57-42' #7\n",
    "# '2024-08-20_17-02-00' #8\n",
    "TARGET_BAG = '2024-08-20_17-02-00'  # change this to your desired bag ID\n",
    "from utils.sonar_config import EXPORTS_DIR_DEFAULT, EXPORTS_SUBDIRS\n",
    "EXPORTS_FOLDER = Path(EXPORTS_DIR_DEFAULT)\n",
    "\n",
    "# If you keep your raw .bag files or raw data on an external drive, point DATA_DIR there.\n",
    "# Example (your external disk): /Volumes/LaCie/SOLAQUA/raw_data\n",
    "DATA_DIR = Path(\"/Volumes/LaCie/SOLAQUA/raw_data\")\n",
    "print(f\"Using DATA_DIR = {DATA_DIR}\")\n",
    "\n",
    "# NOTE: To export data for this specific bag, use:\n",
    "# python scripts/solaqua_export.py --data-dir /Volumes/LaCie/SOLAQUA/raw_data --exports-dir /Volumes/LaCie/SOLAQUA/exports --bag-stem 2024-08-20_17-02-00 --all\n",
    "\n",
    "# Find NPZ files and pick the one matching TARGET_BAG\n",
    "files = iau.get_available_npz_files()\n",
    "if not files:\n",
    "    raise FileNotFoundError(f\"No NPZ files found in configured exports outputs (looked under {EXPORTS_FOLDER / EXPORTS_SUBDIRS.get('outputs','outputs')})\")\n",
    "matches = [p for p in files if TARGET_BAG in p.name]\n",
    "if not matches:\n",
    "    # Help the user by listing available NPZ files\n",
    "    print(f'No NPZ file matched TARGET_BAG={TARGET_BAG!r}')\n",
    "    print('Available NPZ files:')\n",
    "    for i,p in enumerate(files):\n",
    "        print(f'  {i}: {p.name}')\n",
    "    raise ValueError(f'No NPZ file contains \"{TARGET_BAG}\" in its name')\n",
    "\n",
    "# If multiple matches, choose the most recently modified one\n",
    "selected = max(matches, key=lambda p: p.stat().st_mtime)\n",
    "NPZ_FILE_INDEX = files.index(selected)"
   ]
  },
  {
   "cell_type": "markdown",
   "id": "0c65358c",
   "metadata": {},
   "source": [
    "## Distance Analysis Over Time\n",
    "\n",
    "Now let's perform a comprehensive analysis of the red line distance over time. The red line represents the major axis of the detected elongated contour (likely a fishing net), and we'll track how this distance changes throughout the video sequence."
   ]
  },
  {
   "cell_type": "code",
   "execution_count": null,
   "id": "b9c5da85",
   "metadata": {},
   "outputs": [
    {
     "name": "stdout",
     "output_type": "stream",
     "text": [
      "=== ENHANCED VIDEO CREATION () ===\n",
      "Creating video with  processor...\n",
      "Frames: 1500, step: 1\n",
      "Processing 944 frames...\n",
      "Processing 944 frames...\n",
      "Processed 10/944 frames\n",
      "Processed 10/944 frames\n",
      "Processed 20/944 frames\n",
      "Processed 20/944 frames\n",
      "Processed 30/944 frames\n",
      "Processed 30/944 frames\n",
      "Processed 40/944 frames\n",
      "Processed 40/944 frames\n",
      "Processed 50/944 frames\n",
      "Processed 50/944 frames\n",
      "Processed 60/944 frames\n",
      "Processed 60/944 frames\n",
      "Processed 70/944 frames\n",
      "Processed 70/944 frames\n",
      "Processed 80/944 frames\n",
      "Processed 80/944 frames\n",
      "Processed 90/944 frames\n",
      "Processed 90/944 frames\n",
      "Processed 100/944 frames\n",
      "Processed 100/944 frames\n",
      "Processed 110/944 frames\n",
      "Processed 110/944 frames\n",
      "Processed 120/944 frames\n",
      "Processed 120/944 frames\n",
      "Processed 130/944 frames\n",
      "Processed 130/944 frames\n",
      "Processed 140/944 frames\n",
      "Processed 140/944 frames\n",
      "Processed 150/944 frames\n",
      "Processed 150/944 frames\n",
      "Processed 160/944 frames\n",
      "Processed 160/944 frames\n",
      "Processed 170/944 frames\n",
      "Processed 170/944 frames\n",
      "Processed 180/944 frames\n",
      "Processed 180/944 frames\n",
      "Processed 190/944 frames\n",
      "Processed 190/944 frames\n",
      "Processed 200/944 frames\n",
      "Processed 200/944 frames\n",
      "Processed 210/944 frames\n",
      "Processed 210/944 frames\n",
      "Processed 220/944 frames\n",
      "Processed 220/944 frames\n",
      "Processed 230/944 frames\n",
      "Processed 230/944 frames\n",
      "Processed 240/944 frames\n",
      "Processed 240/944 frames\n"
     ]
    }
   ],
   "source": [
    "# Create the unified processor\n",
    "processor = iau.SonarDataProcessor()\n",
    "\n",
    "# Use the enhanced video creation with CORE processor\n",
    "video_path = iau.create_enhanced_contour_detection_video_with_processor(\n",
    "    npz_file_index=NPZ_FILE_INDEX,          # Which NPZ file to use\n",
    "    frame_start=1,           # Starting frame\n",
    "    frame_count=1500,         # Number of frames to process\n",
    "    frame_step=1,            # Step between frames\n",
    "    output_path=Path(EXPORTS_DIR_DEFAULT) / EXPORTS_SUBDIRS.get('videos','videos') / 'core_aoi_tracking.mp4',\n",
    "    processor=processor      # Use our CORE processor\n",
    ")"
   ]
  },
  {
   "cell_type": "code",
   "execution_count": null,
   "id": "d9c0382e",
   "metadata": {},
   "outputs": [
    {
     "name": "stdout",
     "output_type": "stream",
     "text": [
      "=== DISTANCE ANALYSIS FROM NPZ ===\n",
      "Analyzing: /Volumes/LaCie/SOLAQUA/exports/outputs/2024-08-20_17-02-00_data_cones.npz\n",
      "Processing 944 frames from 1 (step=1)\n",
      "Processing 944 frames from 1 (step=1)\n",
      "\n",
      "=== ANALYSIS COMPLETE ===\n",
      "Total frames processed: 944\n",
      "Successful detections: 944 (100.0%)\n",
      "Distance statistics (meters):\n",
      "  - Mean: 1.300\n",
      "  - Std:  0.798\n",
      "  - Min:  0.560\n",
      "  - Max:  4.616\n",
      "  - Range: 4.056\n",
      "Analysis results saved to: /Volumes/LaCie/SOLAQUA/exports/outputs/2024-08-20_17-02-00_data_cones_analysis_results.csv\n",
      "\n",
      "=== ANALYSIS COMPLETE ===\n",
      "Total frames processed: 944\n",
      "Successful detections: 944 (100.0%)\n",
      "Distance statistics (meters):\n",
      "  - Mean: 1.300\n",
      "  - Std:  0.798\n",
      "  - Min:  0.560\n",
      "  - Max:  4.616\n",
      "  - Range: 4.056\n",
      "Analysis results saved to: /Volumes/LaCie/SOLAQUA/exports/outputs/2024-08-20_17-02-00_data_cones_analysis_results.csv\n"
     ]
    }
   ],
   "source": [
    "engine = iau.DistanceAnalysisEngine()\n",
    "net_analysis_results = engine.analyze_npz_sequence(\n",
    "    npz_file_index=NPZ_FILE_INDEX,    \n",
    "    frame_start=1,        # Start from frame 1\n",
    "    frame_count=1500,      # Analyze all frames from the video\n",
    "    frame_step=1,          # Every frame\n",
    "    save_outputs=True   # Save outputs to CSV and NPZ\n",
    ")"
   ]
  },
  {
   "cell_type": "code",
   "execution_count": null,
   "id": "0bd5183d",
   "metadata": {},
   "outputs": [
    {
     "data": {
      "text/plain": [
       "Index(['frame_index', 'timestamp', 'distance_pixels', 'angle_degrees',\n",
       "       'distance_meters', 'detection_success', 'tracking_status', 'area',\n",
       "       'aspect_ratio', 'solidity', 'extent', 'ellipse_elongation',\n",
       "       'straightness', 'rect', 'centroid_x', 'centroid_y'],\n",
       "      dtype='object')"
      ]
     },
     "execution_count": 13,
     "metadata": {},
     "output_type": "execute_result"
    }
   ],
   "source": [
    "net_analysis_results.columns"
   ]
  },
  {
   "cell_type": "markdown",
   "id": "fede9d64",
   "metadata": {},
   "source": [
    "## Convert to Real-World Distances\n",
    "\n",
    "Now let's convert the pixel distances to real-world distances using the fact that the entire sonar image represents a 10x10 meter area."
   ]
  },
  {
   "cell_type": "code",
   "execution_count": null,
   "id": "886897de",
   "metadata": {},
   "outputs": [
    {
     "name": "stdout",
     "output_type": "stream",
     "text": [
      "Detected NPZ extent: x=[-8.660,8.660] m, y=[0.000,10.000] m\n",
      "Image shape from NPZ: H=700, W=900\n",
      "meters/pixel: x=0.019245, y=0.014286, avg=0.016765\n",
      "Using pixels_to_meters_avg = 0.016765 m/px\n",
      "Mapping source: npz_metadata\n"
     ]
    }
   ],
   "source": [
    "# Auto-detect pixel->meter mapping from the selected NPZ using utils function\n",
    "mapping_info = iau.get_pixel_to_meter_mapping(selected)\n",
    "\n",
    "# Extract commonly used variables for backwards compatibility\n",
    "pixels_to_meters_avg = mapping_info['pixels_to_meters_avg']\n",
    "image_shape = mapping_info['image_shape'] \n",
    "sonar_coverage_meters = mapping_info['sonar_coverage_meters']\n",
    "\n",
    "print(f\"Using pixels_to_meters_avg = {pixels_to_meters_avg:.6f} m/px\")\n",
    "print(f\"Mapping source: {mapping_info['source']}\")"
   ]
  },
  {
   "cell_type": "code",
   "execution_count": null,
   "id": "15d6238c",
   "metadata": {},
   "outputs": [
    {
     "data": {
      "application/vnd.plotly.v1+json": {
       "config": {
        "plotlyServerURL": "https://plot.ly"
       },
       "data": [
        {
         "line": {
          "color": "blue"
         },
         "mode": "lines+markers",
         "name": "Distance",
         "type": "scatter",
         "x": {
          "bdata": "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",
          "dtype": "i2"
         },
         "xaxis": "x",
         "y": {
          "bdata": "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",
          "dtype": "f8"
         },
         "yaxis": "y"
        },
        {
         "line": {
          "color": "green"
         },
         "mode": "lines+markers",
         "name": "Distance over Time",
         "type": "scatter",
         "x": [
          "2024-08-20T15:02:03.319382668",
          "2024-08-20T15:02:03.405480623",
          "2024-08-20T15:02:03.458926201",
          "2024-08-20T15:02:03.505110979",
          "2024-08-20T15:02:03.609708309",
          "2024-08-20T15:02:03.678177118",
          "2024-08-20T15:02:03.741356611",
          "2024-08-20T15:02:03.792009115",
          "2024-08-20T15:02:03.846092939",
          "2024-08-20T15:02:03.902281761",
          "2024-08-20T15:02:04.086481810",
          "2024-08-20T15:02:04.100424767",
          "2024-08-20T15:02:04.152793884",
          "2024-08-20T15:02:04.202293396",
          "2024-08-20T15:02:04.257944583",
          "2024-08-20T15:02:04.315842390",
          "2024-08-20T15:02:04.354002953",
          "2024-08-20T15:02:04.418097496",
          "2024-08-20T15:02:04.460487843",
          "2024-08-20T15:02:04.520919323",
          "2024-08-20T15:02:04.586270809",
          "2024-08-20T15:02:04.647171021",
          "2024-08-20T15:02:04.712663174",
          "2024-08-20T15:02:04.801765203",
          "2024-08-20T15:02:04.849609375",
          "2024-08-20T15:02:04.905240774",
          "2024-08-20T15:02:04.978989840",
          "2024-08-20T15:02:05.035968065",
          "2024-08-20T15:02:05.119496584",
          "2024-08-20T15:02:05.162311792",
          "2024-08-20T15:02:05.233328342",
          "2024-08-20T15:02:05.291502237",
          "2024-08-20T15:02:05.355968714",
          "2024-08-20T15:02:05.420989513",
          "2024-08-20T15:02:05.493349552",
          "2024-08-20T15:02:05.554372549",
          "2024-08-20T15:02:05.611735821",
          "2024-08-20T15:02:05.684974670",
          "2024-08-20T15:02:05.740617037",
          "2024-08-20T15:02:05.800923586",
          "2024-08-20T15:02:05.894599199",
          "2024-08-20T15:02:05.934297085",
          "2024-08-20T15:02:05.995323420",
          "2024-08-20T15:02:06.072461367",
          "2024-08-20T15:02:06.123364925",
          "2024-08-20T15:02:06.183022022",
          "2024-08-20T15:02:06.258321047",
          "2024-08-20T15:02:06.337062359",
          "2024-08-20T15:02:06.437871456",
          "2024-08-20T15:02:06.500073910",
          "2024-08-20T15:02:06.553930998",
          "2024-08-20T15:02:06.602186441",
          "2024-08-20T15:02:06.661056757",
          "2024-08-20T15:02:06.723252773",
          "2024-08-20T15:02:06.767759323",
          "2024-08-20T15:02:06.825304508",
          "2024-08-20T15:02:06.900381327",
          "2024-08-20T15:02:06.953545570",
          "2024-08-20T15:02:07.019463301",
          "2024-08-20T15:02:07.082802057",
          "2024-08-20T15:02:07.148806810",
          "2024-08-20T15:02:07.225367069",
          "2024-08-20T15:02:07.287548780",
          "2024-08-20T15:02:07.346837044",
          "2024-08-20T15:02:07.404702902",
          "2024-08-20T15:02:07.473433733",
          "2024-08-20T15:02:07.531546116",
          "2024-08-20T15:02:07.594927073",
          "2024-08-20T15:02:07.659075260",
          "2024-08-20T15:02:07.722234011",
          "2024-08-20T15:02:07.787806273",
          "2024-08-20T15:02:07.853889227",
          "2024-08-20T15:02:07.915701151",
          "2024-08-20T15:02:08.024667978",
          "2024-08-20T15:02:08.074301004",
          "2024-08-20T15:02:08.142426729",
          "2024-08-20T15:02:08.195958614",
          "2024-08-20T15:02:08.260633230",
          "2024-08-20T15:02:08.313341618",
          "2024-08-20T15:02:08.369414568",
          "2024-08-20T15:02:08.426076412",
          "2024-08-20T15:02:08.497674465",
          "2024-08-20T15:02:08.550859928",
          "2024-08-20T15:02:08.617468834",
          "2024-08-20T15:02:08.684263468",
          "2024-08-20T15:02:08.747846603",
          "2024-08-20T15:02:08.806670189",
          "2024-08-20T15:02:08.877762556",
          "2024-08-20T15:02:08.935708284",
          "2024-08-20T15:02:09.004830599",
          "2024-08-20T15:02:09.066636800",
          "2024-08-20T15:02:09.127972364",
          "2024-08-20T15:02:09.195428133",
          "2024-08-20T15:02:09.258732796",
          "2024-08-20T15:02:09.322979450",
          "2024-08-20T15:02:09.388846636",
          "2024-08-20T15:02:09.455889225",
          "2024-08-20T15:02:09.517638445",
          "2024-08-20T15:02:09.576431036",
          "2024-08-20T15:02:09.640974283",
          "2024-08-20T15:02:09.706049681",
          "2024-08-20T15:02:09.776943207",
          "2024-08-20T15:02:09.844408751",
          "2024-08-20T15:02:09.913848400",
          "2024-08-20T15:02:09.964217663",
          "2024-08-20T15:02:10.023548603",
          "2024-08-20T15:02:10.089924812",
          "2024-08-20T15:02:10.158896923",
          "2024-08-20T15:02:10.216018438",
          "2024-08-20T15:02:10.282464027",
          "2024-08-20T15:02:10.346537590",
          "2024-08-20T15:02:10.410078526",
          "2024-08-20T15:02:10.475857496",
          "2024-08-20T15:02:10.538304090",
          "2024-08-20T15:02:10.608801603",
          "2024-08-20T15:02:10.672032833",
          "2024-08-20T15:02:10.732135057",
          "2024-08-20T15:02:10.800167561",
          "2024-08-20T15:02:10.863806009",
          "2024-08-20T15:02:10.930808067",
          "2024-08-20T15:02:10.986194849",
          "2024-08-20T15:02:11.056145191",
          "2024-08-20T15:02:11.114486694",
          "2024-08-20T15:02:11.179707050",
          "2024-08-20T15:02:11.240445137",
          "2024-08-20T15:02:11.307287455",
          "2024-08-20T15:02:11.374160051",
          "2024-08-20T15:02:11.435974360",
          "2024-08-20T15:02:11.507108927",
          "2024-08-20T15:02:11.561276674",
          "2024-08-20T15:02:11.625485897",
          "2024-08-20T15:02:11.688947201",
          "2024-08-20T15:02:11.760122776",
          "2024-08-20T15:02:11.821008444",
          "2024-08-20T15:02:11.890764475",
          "2024-08-20T15:02:11.949049711",
          "2024-08-20T15:02:12.016218661",
          "2024-08-20T15:02:12.072448015",
          "2024-08-20T15:02:12.135240555",
          "2024-08-20T15:02:12.201061964",
          "2024-08-20T15:02:12.264262915",
          "2024-08-20T15:02:12.328293800",
          "2024-08-20T15:02:12.399371147",
          "2024-08-20T15:02:12.461815596",
          "2024-08-20T15:02:12.518969535",
          "2024-08-20T15:02:12.584862709",
          "2024-08-20T15:02:12.661695242",
          "2024-08-20T15:02:12.716780424",
          "2024-08-20T15:02:12.782329559",
          "2024-08-20T15:02:12.843914032",
          "2024-08-20T15:02:12.903848648",
          "2024-08-20T15:02:12.968052626",
          "2024-08-20T15:02:13.031479120",
          "2024-08-20T15:02:13.145377159",
          "2024-08-20T15:02:13.203678846",
          "2024-08-20T15:02:13.263162613",
          "2024-08-20T15:02:13.322014570",
          "2024-08-20T15:02:13.371045828",
          "2024-08-20T15:02:13.431981087",
          "2024-08-20T15:02:13.487802029",
          "2024-08-20T15:02:13.544198990",
          "2024-08-20T15:02:13.611216068",
          "2024-08-20T15:02:13.672913074",
          "2024-08-20T15:02:13.745206833",
          "2024-08-20T15:02:13.800183296",
          "2024-08-20T15:02:13.872680902",
          "2024-08-20T15:02:13.936649084",
          "2024-08-20T15:02:13.996327162",
          "2024-08-20T15:02:14.061575413",
          "2024-08-20T15:02:14.126532793",
          "2024-08-20T15:02:14.185605764",
          "2024-08-20T15:02:14.271306515",
          "2024-08-20T15:02:14.348901987",
          "2024-08-20T15:02:14.394125223",
          "2024-08-20T15:02:14.467455149",
          "2024-08-20T15:02:14.505803823",
          "2024-08-20T15:02:14.570301533",
          "2024-08-20T15:02:14.634587526",
          "2024-08-20T15:02:14.696284771",
          "2024-08-20T15:02:14.774227142",
          "2024-08-20T15:02:14.829032898",
          "2024-08-20T15:02:14.913076639",
          "2024-08-20T15:02:14.954526663",
          "2024-08-20T15:02:15.022917747",
          "2024-08-20T15:02:15.080084562",
          "2024-08-20T15:02:15.143835068",
          "2024-08-20T15:02:15.210468531",
          "2024-08-20T15:02:15.274260998",
          "2024-08-20T15:02:15.338841438",
          "2024-08-20T15:02:15.414268494",
          "2024-08-20T15:02:15.473277569",
          "2024-08-20T15:02:15.549124241",
          "2024-08-20T15:02:15.596066475",
          "2024-08-20T15:02:15.661518097",
          "2024-08-20T15:02:15.723046780",
          "2024-08-20T15:02:15.784467936",
          "2024-08-20T15:02:15.849677324",
          "2024-08-20T15:02:15.922968149",
          "2024-08-20T15:02:15.976027012",
          "2024-08-20T15:02:16.040674448",
          "2024-08-20T15:02:16.103974104",
          "2024-08-20T15:02:16.227833509",
          "2024-08-20T15:02:16.287337780",
          "2024-08-20T15:02:16.326759815",
          "2024-08-20T15:02:16.387101173",
          "2024-08-20T15:02:16.444554567",
          "2024-08-20T15:02:16.492290735",
          "2024-08-20T15:02:16.551457167",
          "2024-08-20T15:02:16.617150307",
          "2024-08-20T15:02:16.681065559",
          "2024-08-20T15:02:16.744091988",
          "2024-08-20T15:02:16.812081575",
          "2024-08-20T15:02:16.891238928",
          "2024-08-20T15:02:16.938555717",
          "2024-08-20T15:02:17.001221180",
          "2024-08-20T15:02:17.072429419",
          "2024-08-20T15:02:17.137677193",
          "2024-08-20T15:02:17.194078922",
          "2024-08-20T15:02:17.268404484",
          "2024-08-20T15:02:17.319498301",
          "2024-08-20T15:02:17.385424137",
          "2024-08-20T15:02:17.451843739",
          "2024-08-20T15:02:17.512377262",
          "2024-08-20T15:02:17.590619087",
          "2024-08-20T15:02:17.643316269",
          "2024-08-20T15:02:17.707903624",
          "2024-08-20T15:02:17.783972502",
          "2024-08-20T15:02:17.835364819",
          "2024-08-20T15:02:17.896744251",
          "2024-08-20T15:02:18.100656986",
          "2024-08-20T15:02:18.114543915",
          "2024-08-20T15:02:18.170460939",
          "2024-08-20T15:02:18.227427483",
          "2024-08-20T15:02:18.277421713",
          "2024-08-20T15:02:18.324504375",
          "2024-08-20T15:02:18.379124880",
          "2024-08-20T15:02:18.435323238",
          "2024-08-20T15:02:18.477159023",
          "2024-08-20T15:02:18.539041758",
          "2024-08-20T15:02:18.601981401",
          "2024-08-20T15:02:18.665370226",
          "2024-08-20T15:02:18.732744455",
          "2024-08-20T15:02:18.793458700",
          "2024-08-20T15:02:18.857421398",
          "2024-08-20T15:02:18.927323580",
          "2024-08-20T15:02:18.984479666",
          "2024-08-20T15:02:19.060393810",
          "2024-08-20T15:02:19.115445375",
          "2024-08-20T15:02:19.182053566",
          "2024-08-20T15:02:19.243398190",
          "2024-08-20T15:02:19.304740191",
          "2024-08-20T15:02:19.374708176",
          "2024-08-20T15:02:19.439968586",
          "2024-08-20T15:02:19.500493765",
          "2024-08-20T15:02:19.566367149",
          "2024-08-20T15:02:19.631720781",
          "2024-08-20T15:02:19.691996813",
          "2024-08-20T15:02:19.752685785",
          "2024-08-20T15:02:19.819993973",
          "2024-08-20T15:02:19.889420986",
          "2024-08-20T15:02:19.945078850",
          "2024-08-20T15:02:20.016147852",
          "2024-08-20T15:02:20.082740068",
          "2024-08-20T15:02:20.140391588",
          "2024-08-20T15:02:20.211611986",
          "2024-08-20T15:02:20.267622232",
          "2024-08-20T15:02:20.329037428",
          "2024-08-20T15:02:20.400877476",
          "2024-08-20T15:02:20.459259510",
          "2024-08-20T15:02:20.522083521",
          "2024-08-20T15:02:20.600039244",
          "2024-08-20T15:02:20.650019407",
          "2024-08-20T15:02:20.712558985",
          "2024-08-20T15:02:20.780246735",
          "2024-08-20T15:02:20.843518734",
          "2024-08-20T15:02:20.902980566",
          "2024-08-20T15:02:20.969496489",
          "2024-08-20T15:02:21.043545246",
          "2024-08-20T15:02:21.098949909",
          "2024-08-20T15:02:21.163802147",
          "2024-08-20T15:02:21.232574224",
          "2024-08-20T15:02:21.292226315",
          "2024-08-20T15:02:21.412611485",
          "2024-08-20T15:02:21.461090326",
          "2024-08-20T15:02:21.514377594",
          "2024-08-20T15:02:21.585579634",
          "2024-08-20T15:02:21.630430222",
          "2024-08-20T15:02:21.681182384",
          "2024-08-20T15:02:21.743328810",
          "2024-08-20T15:02:21.801466227",
          "2024-08-20T15:02:21.868949175",
          "2024-08-20T15:02:21.930560350",
          "2024-08-20T15:02:21.992127419",
          "2024-08-20T15:02:22.057843924",
          "2024-08-20T15:02:22.123460770",
          "2024-08-20T15:02:22.190582037",
          "2024-08-20T15:02:22.385959625",
          "2024-08-20T15:02:22.406623125",
          "2024-08-20T15:02:22.459173679",
          "2024-08-20T15:02:22.508291483",
          "2024-08-20T15:02:22.560722351",
          "2024-08-20T15:02:22.607272863",
          "2024-08-20T15:02:22.661085129",
          "2024-08-20T15:02:22.698955536",
          "2024-08-20T15:02:22.759381771",
          "2024-08-20T15:02:22.825728893",
          "2024-08-20T15:02:22.895782709",
          "2024-08-20T15:02:22.956181049",
          "2024-08-20T15:02:23.021456003",
          "2024-08-20T15:02:23.080005169",
          "2024-08-20T15:02:23.144580126",
          "2024-08-20T15:02:23.207614899",
          "2024-08-20T15:02:23.289229631",
          "2024-08-20T15:02:23.349857807",
          "2024-08-20T15:02:23.400171995",
          "2024-08-20T15:02:23.468316317",
          "2024-08-20T15:02:23.529410362",
          "2024-08-20T15:02:23.599021673",
          "2024-08-20T15:02:23.659621239",
          "2024-08-20T15:02:23.730462790",
          "2024-08-20T15:02:23.790312529",
          "2024-08-20T15:02:23.850436687",
          "2024-08-20T15:02:23.913272858",
          "2024-08-20T15:02:24.029149055",
          "2024-08-20T15:02:24.045118809",
          "2024-08-20T15:02:24.106728792",
          "2024-08-20T15:02:24.170419931",
          "2024-08-20T15:02:24.233547926",
          "2024-08-20T15:02:24.304278612",
          "2024-08-20T15:02:24.375125885",
          "2024-08-20T15:02:24.426752806",
          "2024-08-20T15:02:24.496708155",
          "2024-08-20T15:02:24.554205656",
          "2024-08-20T15:02:24.617552519",
          "2024-08-20T15:02:24.686195135",
          "2024-08-20T15:02:24.760207415",
          "2024-08-20T15:02:24.807860136",
          "2024-08-20T15:02:24.876455545",
          "2024-08-20T15:02:24.941790581",
          "2024-08-20T15:02:25.008382558",
          "2024-08-20T15:02:25.066074371",
          "2024-08-20T15:02:25.140570402",
          "2024-08-20T15:02:25.205810308",
          "2024-08-20T15:02:25.257520914",
          "2024-08-20T15:02:25.333059788",
          "2024-08-20T15:02:25.394671440",
          "2024-08-20T15:02:25.450978041",
          "2024-08-20T15:02:25.514000653",
          "2024-08-20T15:02:25.586850882",
          "2024-08-20T15:02:25.641273737",
          "2024-08-20T15:02:25.706361294",
          "2024-08-20T15:02:25.772564888",
          "2024-08-20T15:02:25.834031105",
          "2024-08-20T15:02:25.896715164",
          "2024-08-20T15:02:25.989979267",
          "2024-08-20T15:02:26.024762392",
          "2024-08-20T15:02:26.089249611",
          "2024-08-20T15:02:26.188222408",
          "2024-08-20T15:02:26.218493223",
          "2024-08-20T15:02:26.281080246",
          "2024-08-20T15:02:26.349369526",
          "2024-08-20T15:02:26.408915758",
          "2024-08-20T15:02:26.476541281",
          "2024-08-20T15:02:26.537716150",
          "2024-08-20T15:02:26.606913328",
          "2024-08-20T15:02:26.671022177",
          "2024-08-20T15:02:26.728426933",
          "2024-08-20T15:02:26.792001247",
          "2024-08-20T15:02:26.856270075",
          "2024-08-20T15:02:26.922894239",
          "2024-08-20T15:02:26.982944012",
          "2024-08-20T15:02:27.062229872",
          "2024-08-20T15:02:27.117772818",
          "2024-08-20T15:02:27.176681280",
          "2024-08-20T15:02:27.241223097",
          "2024-08-20T15:02:27.306010246",
          "2024-08-20T15:02:27.374457359",
          "2024-08-20T15:02:27.444693565",
          "2024-08-20T15:02:27.507872105",
          "2024-08-20T15:02:27.562695265",
          "2024-08-20T15:02:27.624082088",
          "2024-08-20T15:02:27.690708160",
          "2024-08-20T15:02:27.756972313",
          "2024-08-20T15:02:27.817291260",
          "2024-08-20T15:02:27.887534618",
          "2024-08-20T15:02:27.956670761",
          "2024-08-20T15:02:28.015558720",
          "2024-08-20T15:02:28.075350285",
          "2024-08-20T15:02:28.141049147",
          "2024-08-20T15:02:28.206633329",
          "2024-08-20T15:02:28.308828831",
          "2024-08-20T15:02:28.328412294",
          "2024-08-20T15:02:28.393704653",
          "2024-08-20T15:02:28.467985153",
          "2024-08-20T15:02:28.521673917",
          "2024-08-20T15:02:28.585394144",
          "2024-08-20T15:02:28.648542881",
          "2024-08-20T15:02:28.713586330",
          "2024-08-20T15:02:28.775563002",
          "2024-08-20T15:02:28.858064651",
          "2024-08-20T15:02:28.909208536",
          "2024-08-20T15:02:28.967791796",
          "2024-08-20T15:02:29.044754267",
          "2024-08-20T15:02:29.101896763",
          "2024-08-20T15:02:29.174269199",
          "2024-08-20T15:02:29.223347902",
          "2024-08-20T15:02:29.288270235",
          "2024-08-20T15:02:29.357653856",
          "2024-08-20T15:02:29.429944754",
          "2024-08-20T15:02:29.481639624",
          "2024-08-20T15:02:29.551261902",
          "2024-08-20T15:02:29.619050741",
          "2024-08-20T15:02:29.672195196",
          "2024-08-20T15:02:29.743817329",
          "2024-08-20T15:02:29.802409649",
          "2024-08-20T15:02:29.870204210",
          "2024-08-20T15:02:29.929674625",
          "2024-08-20T15:02:29.993205070",
          "2024-08-20T15:02:30.063259840",
          "2024-08-20T15:02:30.121053696",
          "2024-08-20T15:02:30.184971809",
          "2024-08-20T15:02:30.253999472",
          "2024-08-20T15:02:30.319680214",
          "2024-08-20T15:02:30.376842976",
          "2024-08-20T15:02:30.445385218",
          "2024-08-20T15:02:30.511816740",
          "2024-08-20T15:02:30.585410833",
          "2024-08-20T15:02:30.636364937",
          "2024-08-20T15:02:30.698356390",
          "2024-08-20T15:02:30.768208265",
          "2024-08-20T15:02:30.832251787",
          "2024-08-20T15:02:30.893371105",
          "2024-08-20T15:02:30.953153610",
          "2024-08-20T15:02:31.020323038",
          "2024-08-20T15:02:31.085214853",
          "2024-08-20T15:02:31.145336151",
          "2024-08-20T15:02:31.209053040",
          "2024-08-20T15:02:31.275628567",
          "2024-08-20T15:02:31.336674452",
          "2024-08-20T15:02:31.404606342",
          "2024-08-20T15:02:31.474096537",
          "2024-08-20T15:02:31.529267787",
          "2024-08-20T15:02:31.591548443",
          "2024-08-20T15:02:31.669923067",
          "2024-08-20T15:02:31.731186628",
          "2024-08-20T15:02:31.783874989",
          "2024-08-20T15:02:31.853004456",
          "2024-08-20T15:02:31.919548512",
          "2024-08-20T15:02:31.975577593",
          "2024-08-20T15:02:32.044359446",
          "2024-08-20T15:02:32.105341911",
          "2024-08-20T15:02:32.170599937",
          "2024-08-20T15:02:32.233540297",
          "2024-08-20T15:02:32.296683788",
          "2024-08-20T15:02:32.362432957",
          "2024-08-20T15:02:32.424155951",
          "2024-08-20T15:02:32.489302397",
          "2024-08-20T15:02:32.558390856",
          "2024-08-20T15:02:32.622975588",
          "2024-08-20T15:02:32.687146664",
          "2024-08-20T15:02:32.749906301",
          "2024-08-20T15:02:32.807499886",
          "2024-08-20T15:02:32.886009455",
          "2024-08-20T15:02:32.937165022",
          "2024-08-20T15:02:33.000575066",
          "2024-08-20T15:02:33.068406582",
          "2024-08-20T15:02:33.133463621",
          "2024-08-20T15:02:33.192821980",
          "2024-08-20T15:02:33.257572174",
          "2024-08-20T15:02:33.324933767",
          "2024-08-20T15:02:33.388277531",
          "2024-08-20T15:02:33.450236797",
          "2024-08-20T15:02:33.514576435",
          "2024-08-20T15:02:33.577020407",
          "2024-08-20T15:02:33.643186092",
          "2024-08-20T15:02:33.704810858",
          "2024-08-20T15:02:33.786421061",
          "2024-08-20T15:02:33.835893154",
          "2024-08-20T15:02:33.897256136",
          "2024-08-20T15:02:33.968865156",
          "2024-08-20T15:02:34.032231092",
          "2024-08-20T15:02:34.091290712",
          "2024-08-20T15:02:34.152712107",
          "2024-08-20T15:02:34.217556477",
          "2024-08-20T15:02:34.288420200",
          "2024-08-20T15:02:34.344680071",
          "2024-08-20T15:02:34.409139872",
          "2024-08-20T15:02:34.491739273",
          "2024-08-20T15:02:34.536132811",
          "2024-08-20T15:02:34.602285147",
          "2024-08-20T15:02:34.671800137",
          "2024-08-20T15:02:34.739990473",
          "2024-08-20T15:02:34.796599865",
          "2024-08-20T15:02:34.858361244",
          "2024-08-20T15:02:34.923528910",
          "2024-08-20T15:02:34.985959053",
          "2024-08-20T15:02:35.051245689",
          "2024-08-20T15:02:35.114219904",
          "2024-08-20T15:02:35.186524630",
          "2024-08-20T15:02:35.240365982",
          "2024-08-20T15:02:35.307219505",
          "2024-08-20T15:02:35.374120235",
          "2024-08-20T15:02:35.435068607",
          "2024-08-20T15:02:35.502814293",
          "2024-08-20T15:02:35.562094688",
          "2024-08-20T15:02:35.627502203",
          "2024-08-20T15:02:35.687851667",
          "2024-08-20T15:02:35.757017374",
          "2024-08-20T15:02:35.815479517",
          "2024-08-20T15:02:35.883457661",
          "2024-08-20T15:02:35.946527243",
          "2024-08-20T15:02:36.015923262",
          "2024-08-20T15:02:36.076918840",
          "2024-08-20T15:02:36.141477585",
          "2024-08-20T15:02:36.212254047",
          "2024-08-20T15:02:36.269061089",
          "2024-08-20T15:02:36.401069403",
          "2024-08-20T15:02:36.415702820",
          "2024-08-20T15:02:36.476120234",
          "2024-08-20T15:02:36.524751902",
          "2024-08-20T15:02:36.588729620",
          "2024-08-20T15:02:36.656764746",
          "2024-08-20T15:02:36.713495970",
          "2024-08-20T15:02:36.785143852",
          "2024-08-20T15:02:36.856444120",
          "2024-08-20T15:02:36.906286478",
          "2024-08-20T15:02:36.971770048",
          "2024-08-20T15:02:37.038597345",
          "2024-08-20T15:02:37.109313488",
          "2024-08-20T15:02:37.164714336",
          "2024-08-20T15:02:37.241803408",
          "2024-08-20T15:02:37.292017698",
          "2024-08-20T15:02:37.357360601",
          "2024-08-20T15:02:37.419152021",
          "2024-08-20T15:02:37.499569654",
          "2024-08-20T15:02:37.556719780",
          "2024-08-20T15:02:37.612350941",
          "2024-08-20T15:02:37.681804657",
          "2024-08-20T15:02:37.750665426",
          "2024-08-20T15:02:37.800620079",
          "2024-08-20T15:02:37.868513823",
          "2024-08-20T15:02:37.937636137",
          "2024-08-20T15:02:37.997366428",
          "2024-08-20T15:02:38.059195280",
          "2024-08-20T15:02:38.123811483",
          "2024-08-20T15:02:38.192901373",
          "2024-08-20T15:02:38.257703781",
          "2024-08-20T15:02:38.311951876",
          "2024-08-20T15:02:38.380110502",
          "2024-08-20T15:02:38.464016199",
          "2024-08-20T15:02:38.504472017",
          "2024-08-20T15:02:38.570107698",
          "2024-08-20T15:02:38.639117956",
          "2024-08-20T15:02:38.699297428",
          "2024-08-20T15:02:38.763996601",
          "2024-08-20T15:02:38.824991703",
          "2024-08-20T15:02:38.892581224",
          "2024-08-20T15:02:38.955995083",
          "2024-08-20T15:02:39.017602444",
          "2024-08-20T15:02:39.081228971",
          "2024-08-20T15:02:39.150828362",
          "2024-08-20T15:02:39.211597204",
          "2024-08-20T15:02:39.276732683",
          "2024-08-20T15:02:39.349095583",
          "2024-08-20T15:02:39.405489922",
          "2024-08-20T15:02:39.466227055",
          "2024-08-20T15:02:39.533651828",
          "2024-08-20T15:02:39.596955538",
          "2024-08-20T15:02:39.658757210",
          "2024-08-20T15:02:39.721477509",
          "2024-08-20T15:02:39.784847021",
          "2024-08-20T15:02:39.848814726",
          "2024-08-20T15:02:39.913841009",
          "2024-08-20T15:02:39.978740692",
          "2024-08-20T15:02:40.055141687",
          "2024-08-20T15:02:40.105005026",
          "2024-08-20T15:02:40.169577837",
          "2024-08-20T15:02:40.232192516",
          "2024-08-20T15:02:40.301141500",
          "2024-08-20T15:02:40.363980055",
          "2024-08-20T15:02:40.424654245",
          "2024-08-20T15:02:40.502946854",
          "2024-08-20T15:02:40.556308508",
          "2024-08-20T15:02:40.615940809",
          "2024-08-20T15:02:40.682437420",
          "2024-08-20T15:02:40.757077217",
          "2024-08-20T15:02:40.808046103",
          "2024-08-20T15:02:40.883944273",
          "2024-08-20T15:02:40.936366796",
          "2024-08-20T15:02:41.002176762",
          "2024-08-20T15:02:41.074617863",
          "2024-08-20T15:02:41.138268471",
          "2024-08-20T15:02:41.198826551",
          "2024-08-20T15:02:41.258303642",
          "2024-08-20T15:02:41.322492599",
          "2024-08-20T15:02:41.385825157",
          "2024-08-20T15:02:41.453613758",
          "2024-08-20T15:02:41.516478777",
          "2024-08-20T15:02:41.578755617",
          "2024-08-20T15:02:41.664737940",
          "2024-08-20T15:02:41.705242872",
          "2024-08-20T15:02:41.771662712",
          "2024-08-20T15:02:41.836927891",
          "2024-08-20T15:02:41.900242329",
          "2024-08-20T15:02:41.965221167",
          "2024-08-20T15:02:42.025212049",
          "2024-08-20T15:02:42.098856211",
          "2024-08-20T15:02:42.162461996",
          "2024-08-20T15:02:42.216889143",
          "2024-08-20T15:02:42.287718296",
          "2024-08-20T15:02:42.351011038",
          "2024-08-20T15:02:42.412981272",
          "2024-08-20T15:02:42.472959280",
          "2024-08-20T15:02:42.543612480",
          "2024-08-20T15:02:42.602368832",
          "2024-08-20T15:02:42.665592432",
          "2024-08-20T15:02:42.731606722",
          "2024-08-20T15:02:42.796190739",
          "2024-08-20T15:02:42.859025002",
          "2024-08-20T15:02:42.921743631",
          "2024-08-20T15:02:42.987928391",
          "2024-08-20T15:02:43.053850651",
          "2024-08-20T15:02:43.115114450",
          "2024-08-20T15:02:43.178860664",
          "2024-08-20T15:02:43.243556738",
          "2024-08-20T15:02:43.310729265",
          "2024-08-20T15:02:43.371588230",
          "2024-08-20T15:02:43.442394733",
          "2024-08-20T15:02:43.502681493",
          "2024-08-20T15:02:43.565409184",
          "2024-08-20T15:02:43.628380299",
          "2024-08-20T15:02:43.695437431",
          "2024-08-20T15:02:43.765447378",
          "2024-08-20T15:02:43.818656683",
          "2024-08-20T15:02:43.883245230",
          "2024-08-20T15:02:43.945189953",
          "2024-08-20T15:02:44.009675026",
          "2024-08-20T15:02:44.075845480",
          "2024-08-20T15:02:44.135784864",
          "2024-08-20T15:02:44.208365440",
          "2024-08-20T15:02:44.269842625",
          "2024-08-20T15:02:44.344428301",
          "2024-08-20T15:02:44.398745775",
          "2024-08-20T15:02:44.467899084",
          "2024-08-20T15:02:44.522106647",
          "2024-08-20T15:02:44.588603020",
          "2024-08-20T15:02:44.651349545",
          "2024-08-20T15:02:44.713465452",
          "2024-08-20T15:02:44.783766270",
          "2024-08-20T15:02:44.844271421",
          "2024-08-20T15:02:44.909726143",
          "2024-08-20T15:02:44.967473984",
          "2024-08-20T15:02:45.037386656",
          "2024-08-20T15:02:45.102091551",
          "2024-08-20T15:02:45.172166109",
          "2024-08-20T15:02:45.227487087",
          "2024-08-20T15:02:45.292939425",
          "2024-08-20T15:02:45.359697342",
          "2024-08-20T15:02:45.418978930",
          "2024-08-20T15:02:45.487732410",
          "2024-08-20T15:02:45.549961805",
          "2024-08-20T15:02:45.616326571",
          "2024-08-20T15:02:45.677319050",
          "2024-08-20T15:02:45.743819475",
          "2024-08-20T15:02:45.813199043",
          "2024-08-20T15:02:45.865628719",
          "2024-08-20T15:02:45.927272081",
          "2024-08-20T15:02:45.996158838",
          "2024-08-20T15:02:46.067193985",
          "2024-08-20T15:02:46.123626232",
          "2024-08-20T15:02:46.191937923",
          "2024-08-20T15:02:46.251148939",
          "2024-08-20T15:02:46.316469669",
          "2024-08-20T15:02:46.378380537",
          "2024-08-20T15:02:46.441873550",
          "2024-08-20T15:02:46.507786036",
          "2024-08-20T15:02:46.576288223",
          "2024-08-20T15:02:46.638680696",
          "2024-08-20T15:02:46.696688890",
          "2024-08-20T15:02:46.775818586",
          "2024-08-20T15:02:46.827747107",
          "2024-08-20T15:02:46.892245054",
          "2024-08-20T15:02:46.962090015",
          "2024-08-20T15:02:47.024994850",
          "2024-08-20T15:02:47.086260557",
          "2024-08-20T15:02:47.147103310",
          "2024-08-20T15:02:47.215975046",
          "2024-08-20T15:02:47.276088715",
          "2024-08-20T15:02:47.338946819",
          "2024-08-20T15:02:47.408558846",
          "2024-08-20T15:02:47.465504408",
          "2024-08-20T15:02:47.531743525",
          "2024-08-20T15:02:47.598091125",
          "2024-08-20T15:02:47.660308361",
          "2024-08-20T15:02:47.719327927",
          "2024-08-20T15:02:47.785126448",
          "2024-08-20T15:02:47.855172873",
          "2024-08-20T15:02:47.917206287",
          "2024-08-20T15:02:47.978836298",
          "2024-08-20T15:02:48.039448977",
          "2024-08-20T15:02:48.105156898",
          "2024-08-20T15:02:48.170488834",
          "2024-08-20T15:02:48.232907295",
          "2024-08-20T15:02:48.303911448",
          "2024-08-20T15:02:48.424147844",
          "2024-08-20T15:02:48.474778891",
          "2024-08-20T15:02:48.525318146",
          "2024-08-20T15:02:48.574520350",
          "2024-08-20T15:02:48.638705730",
          "2024-08-20T15:02:48.694788933",
          "2024-08-20T15:02:48.756630182",
          "2024-08-20T15:02:48.808746576",
          "2024-08-20T15:02:48.879315853",
          "2024-08-20T15:02:48.940842867",
          "2024-08-20T15:02:49.005152702",
          "2024-08-20T15:02:49.090731144",
          "2024-08-20T15:02:49.145848274",
          "2024-08-20T15:02:49.208703518",
          "2024-08-20T15:02:49.259515047",
          "2024-08-20T15:02:49.325878143",
          "2024-08-20T15:02:49.389034271",
          "2024-08-20T15:02:49.456420183",
          "2024-08-20T15:02:49.513288736",
          "2024-08-20T15:02:49.586161613",
          "2024-08-20T15:02:49.645891190",
          "2024-08-20T15:02:49.706012726",
          "2024-08-20T15:02:49.779233456",
          "2024-08-20T15:02:49.833560228",
          "2024-08-20T15:02:49.898226023",
          "2024-08-20T15:02:49.967815876",
          "2024-08-20T15:02:50.028273582",
          "2024-08-20T15:02:50.089180470",
          "2024-08-20T15:02:50.164211512",
          "2024-08-20T15:02:50.221920729",
          "2024-08-20T15:02:50.286460876",
          "2024-08-20T15:02:50.345307589",
          "2024-08-20T15:02:50.408935785",
          "2024-08-20T15:02:50.476115227",
          "2024-08-20T15:02:50.540927410",
          "2024-08-20T15:02:50.601357460",
          "2024-08-20T15:02:50.683282852",
          "2024-08-20T15:02:50.737979412",
          "2024-08-20T15:02:50.793661833",
          "2024-08-20T15:02:50.856802702",
          "2024-08-20T15:02:50.928539276",
          "2024-08-20T15:02:50.990999937",
          "2024-08-20T15:02:51.050350189",
          "2024-08-20T15:02:51.113314867",
          "2024-08-20T15:02:51.180135012",
          "2024-08-20T15:02:51.243540764",
          "2024-08-20T15:02:51.310220718",
          "2024-08-20T15:02:51.375783682",
          "2024-08-20T15:02:51.440604925",
          "2024-08-20T15:02:51.497595549",
          "2024-08-20T15:02:51.571428776",
          "2024-08-20T15:02:51.632876873",
          "2024-08-20T15:02:51.688552618",
          "2024-08-20T15:02:51.755705357",
          "2024-08-20T15:02:51.818155050",
          "2024-08-20T15:02:51.886819363",
          "2024-08-20T15:02:51.949652910",
          "2024-08-20T15:02:52.007593393",
          "2024-08-20T15:02:52.074826956",
          "2024-08-20T15:02:52.138803720",
          "2024-08-20T15:02:52.210093021",
          "2024-08-20T15:02:52.275668144",
          "2024-08-20T15:02:52.333082676",
          "2024-08-20T15:02:52.394371986",
          "2024-08-20T15:02:52.459259748",
          "2024-08-20T15:02:52.531399488",
          "2024-08-20T15:02:52.616756916",
          "2024-08-20T15:02:52.650221825",
          "2024-08-20T15:02:52.711702585",
          "2024-08-20T15:02:52.788189173",
          "2024-08-20T15:02:52.842796803",
          "2024-08-20T15:02:52.903967857",
          "2024-08-20T15:02:52.970984697",
          "2024-08-20T15:02:53.038519382",
          "2024-08-20T15:02:53.152612686",
          "2024-08-20T15:02:53.167658567",
          "2024-08-20T15:02:53.230545044",
          "2024-08-20T15:02:53.297919989",
          "2024-08-20T15:02:53.353726149",
          "2024-08-20T15:02:53.420627832",
          "2024-08-20T15:02:53.480882883",
          "2024-08-20T15:02:53.546744585",
          "2024-08-20T15:02:53.608026266",
          "2024-08-20T15:02:53.677996635",
          "2024-08-20T15:02:53.742529392",
          "2024-08-20T15:02:53.830651283",
          "2024-08-20T15:02:53.866359472",
          "2024-08-20T15:02:53.927977800",
          "2024-08-20T15:02:53.992221832",
          "2024-08-20T15:02:54.059623480",
          "2024-08-20T15:02:54.120739460",
          "2024-08-20T15:02:54.193795681",
          "2024-08-20T15:02:54.249335289",
          "2024-08-20T15:02:54.317995310",
          "2024-08-20T15:02:54.383571148",
          "2024-08-20T15:02:54.442311764",
          "2024-08-20T15:02:54.506179332",
          "2024-08-20T15:02:54.576658010",
          "2024-08-20T15:02:54.637471914",
          "2024-08-20T15:02:54.703898668",
          "2024-08-20T15:02:54.764864922",
          "2024-08-20T15:02:54.824655294",
          "2024-08-20T15:02:54.891189337",
          "2024-08-20T15:02:54.953490496",
          "2024-08-20T15:02:55.032611132",
          "2024-08-20T15:02:55.081305981",
          "2024-08-20T15:02:55.158447266",
          "2024-08-20T15:02:55.210823774",
          "2024-08-20T15:02:55.275956392",
          "2024-08-20T15:02:55.346074104",
          "2024-08-20T15:02:55.404232740",
          "2024-08-20T15:02:55.470694542",
          "2024-08-20T15:02:55.528641939",
          "2024-08-20T15:02:55.594437122",
          "2024-08-20T15:02:55.665844917",
          "2024-08-20T15:02:55.724285126",
          "2024-08-20T15:02:55.791144371",
          "2024-08-20T15:02:55.852353096",
          "2024-08-20T15:02:55.915487528",
          "2024-08-20T15:02:55.984474897",
          "2024-08-20T15:02:56.056498051",
          "2024-08-20T15:02:56.105704546",
          "2024-08-20T15:02:56.178903818",
          "2024-08-20T15:02:56.237900257",
          "2024-08-20T15:02:56.296718359",
          "2024-08-20T15:02:56.362215996",
          "2024-08-20T15:02:56.431545496",
          "2024-08-20T15:02:56.490846157",
          "2024-08-20T15:02:56.555861950",
          "2024-08-20T15:02:56.618054867",
          "2024-08-20T15:02:56.681535482",
          "2024-08-20T15:02:56.746267319",
          "2024-08-20T15:02:56.808086872",
          "2024-08-20T15:02:56.885196209",
          "2024-08-20T15:02:56.941173553",
          "2024-08-20T15:02:57.000983477",
          "2024-08-20T15:02:57.067066668",
          "2024-08-20T15:02:57.138018608",
          "2024-08-20T15:02:57.195511103",
          "2024-08-20T15:02:57.258635283",
          "2024-08-20T15:02:57.336707115",
          "2024-08-20T15:02:57.389498711",
          "2024-08-20T15:02:57.454029560",
          "2024-08-20T15:02:57.516662359",
          "2024-08-20T15:02:57.577827215",
          "2024-08-20T15:02:57.647586823",
          "2024-08-20T15:02:57.707729816",
          "2024-08-20T15:02:57.770277739",
          "2024-08-20T15:02:57.843634605",
          "2024-08-20T15:02:57.905560493",
          "2024-08-20T15:02:57.984967232",
          "2024-08-20T15:02:58.030342817",
          "2024-08-20T15:02:58.103184938",
          "2024-08-20T15:02:58.154094458",
          "2024-08-20T15:02:58.218283176",
          "2024-08-20T15:02:58.289098263",
          "2024-08-20T15:02:58.362024546",
          "2024-08-20T15:02:58.409986258",
          "2024-08-20T15:02:58.476369143",
          "2024-08-20T15:02:58.542753220",
          "2024-08-20T15:02:58.617930889",
          "2024-08-20T15:02:58.667797565",
          "2024-08-20T15:02:58.727853537",
          "2024-08-20T15:02:58.802760124",
          "2024-08-20T15:02:58.860068798",
          "2024-08-20T15:02:58.929995775",
          "2024-08-20T15:02:58.988093376",
          "2024-08-20T15:02:59.054110765",
          "2024-08-20T15:02:59.112466335",
          "2024-08-20T15:02:59.183475733",
          "2024-08-20T15:02:59.242676258",
          "2024-08-20T15:02:59.309902430",
          "2024-08-20T15:02:59.369946957",
          "2024-08-20T15:02:59.437035084",
          "2024-08-20T15:02:59.499349594",
          "2024-08-20T15:02:59.564939260",
          "2024-08-20T15:02:59.626541376",
          "2024-08-20T15:02:59.690696716",
          "2024-08-20T15:02:59.769605160",
          "2024-08-20T15:02:59.822539091",
          "2024-08-20T15:02:59.885165215",
          "2024-08-20T15:02:59.949295282",
          "2024-08-20T15:03:00.010670662",
          "2024-08-20T15:03:00.085540771",
          "2024-08-20T15:03:00.138278008",
          "2024-08-20T15:03:00.206751585",
          "2024-08-20T15:03:00.266874312",
          "2024-08-20T15:03:00.328287601",
          "2024-08-20T15:03:00.396478415",
          "2024-08-20T15:03:00.461751699",
          "2024-08-20T15:03:00.520747900",
          "2024-08-20T15:03:00.584263086",
          "2024-08-20T15:03:00.652987242",
          "2024-08-20T15:03:00.717644691",
          "2024-08-20T15:03:00.778317928",
          "2024-08-20T15:03:00.844145060",
          "2024-08-20T15:03:00.916547537",
          "2024-08-20T15:03:00.970337152",
          "2024-08-20T15:03:01.032670736",
          "2024-08-20T15:03:01.101945639",
          "2024-08-20T15:03:01.165431499",
          "2024-08-20T15:03:01.227845192",
          "2024-08-20T15:03:01.292094231",
          "2024-08-20T15:03:01.357944250",
          "2024-08-20T15:03:01.416323423",
          "2024-08-20T15:03:01.483250856",
          "2024-08-20T15:03:01.549711466",
          "2024-08-20T15:03:01.612559795",
          "2024-08-20T15:03:01.679686785",
          "2024-08-20T15:03:01.740689993",
          "2024-08-20T15:03:01.805357456",
          "2024-08-20T15:03:01.873299122",
          "2024-08-20T15:03:01.929613352",
          "2024-08-20T15:03:01.999979973",
          "2024-08-20T15:03:02.060384035",
          "2024-08-20T15:03:02.120594025",
          "2024-08-20T15:03:02.191109419",
          "2024-08-20T15:03:02.255161285",
          "2024-08-20T15:03:02.314748526",
          "2024-08-20T15:03:02.384042025",
          "2024-08-20T15:03:02.441551685",
          "2024-08-20T15:03:02.516515254",
          "2024-08-20T15:03:02.573863745",
          "2024-08-20T15:03:02.636080980",
          "2024-08-20T15:03:02.704131842",
          "2024-08-20T15:03:02.767637730",
          "2024-08-20T15:03:02.827582121",
          "2024-08-20T15:03:02.892561913",
          "2024-08-20T15:03:02.957124710",
          "2024-08-20T15:03:03.024444580",
          "2024-08-20T15:03:03.084048986",
          "2024-08-20T15:03:03.150004625",
          "2024-08-20T15:03:03.227559805",
          "2024-08-20T15:03:03.280505419",
          "2024-08-20T15:03:03.348907709",
          "2024-08-20T15:03:03.428015232",
          "2024-08-20T15:03:03.476912498",
          "2024-08-20T15:03:03.530843735",
          "2024-08-20T15:03:03.602569342",
          "2024-08-20T15:03:03.660551786"
         ],
         "xaxis": "x2",
         "y": {
          "bdata": "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",
          "dtype": "f8"
         },
         "yaxis": "y2"
        },
        {
         "marker": {
          "color": "lightcoral"
         },
         "name": "Distribution",
         "nbinsx": 30,
         "opacity": 0.7,
         "type": "histogram",
         "x": {
          "bdata": "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",
          "dtype": "f8"
         },
         "xaxis": "x3",
         "yaxis": "y3"
        },
        {
         "line": {
          "color": "lightcoral",
          "width": 1
         },
         "mode": "lines",
         "name": "Raw",
         "opacity": 0.5,
         "type": "scatter",
         "x": {
          "bdata": "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",
          "dtype": "i2"
         },
         "xaxis": "x4",
         "y": {
          "bdata": "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",
          "dtype": "f8"
         },
         "yaxis": "y4"
        },
        {
         "line": {
          "color": "darkred",
          "width": 3
         },
         "mode": "lines",
         "name": "Smoothed (n=47)",
         "type": "scatter",
         "x": {
          "bdata": "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",
          "dtype": "i2"
         },
         "xaxis": "x4",
         "y": {
          "bdata": "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",
          "dtype": "f8"
         },
         "yaxis": "y4"
        }
       ],
       "layout": {
        "annotations": [
         {
          "font": {
           "size": 16
          },
          "showarrow": false,
          "text": "Distance vs Frame Index",
          "x": 0.225,
          "xanchor": "center",
          "xref": "paper",
          "y": 1,
          "yanchor": "bottom",
          "yref": "paper"
         },
         {
          "font": {
           "size": 16
          },
          "showarrow": false,
          "text": "Distance vs Time",
          "x": 0.775,
          "xanchor": "center",
          "xref": "paper",
          "y": 1,
          "yanchor": "bottom",
          "yref": "paper"
         },
         {
          "font": {
           "size": 16
          },
          "showarrow": false,
          "text": "Distance Distribution",
          "x": 0.225,
          "xanchor": "center",
          "xref": "paper",
          "y": 0.375,
          "yanchor": "bottom",
          "yref": "paper"
         },
         {
          "font": {
           "size": 16
          },
          "showarrow": false,
          "text": "Distance Trends",
          "x": 0.775,
          "xanchor": "center",
          "xref": "paper",
          "y": 0.375,
          "yanchor": "bottom",
          "yref": "paper"
         },
         {
          "showarrow": false,
          "text": "Mean: 1.30meters",
          "x": 1.3003326352074347,
          "xanchor": "left",
          "xref": "x3",
          "y": 1,
          "yanchor": "top",
          "yref": "y3 domain"
         }
        ],
        "height": 800,
        "shapes": [
         {
          "line": {
           "color": "red",
           "dash": "dash"
          },
          "type": "line",
          "x0": 1.3003326352074347,
          "x1": 1.3003326352074347,
          "xref": "x3",
          "y0": 0,
          "y1": 1,
          "yref": "y3 domain"
         }
        ],
        "showlegend": true,
        "template": {
         "data": {
          "bar": [
           {
            "error_x": {
             "color": "#2a3f5f"
            },
            "error_y": {
             "color": "#2a3f5f"
            },
            "marker": {
             "line": {
              "color": "#E5ECF6",
              "width": 0.5
             },
             "pattern": {
              "fillmode": "overlay",
              "size": 10,
              "solidity": 0.2
             }
            },
            "type": "bar"
           }
          ],
          "barpolar": [
           {
            "marker": {
             "line": {
              "color": "#E5ECF6",
              "width": 0.5
             },
             "pattern": {
              "fillmode": "overlay",
              "size": 10,
              "solidity": 0.2
             }
            },
            "type": "barpolar"
           }
          ],
          "carpet": [
           {
            "aaxis": {
             "endlinecolor": "#2a3f5f",
             "gridcolor": "white",
             "linecolor": "white",
             "minorgridcolor": "white",
             "startlinecolor": "#2a3f5f"
            },
            "baxis": {
             "endlinecolor": "#2a3f5f",
             "gridcolor": "white",
             "linecolor": "white",
             "minorgridcolor": "white",
             "startlinecolor": "#2a3f5f"
            },
            "type": "carpet"
           }
          ],
          "choropleth": [
           {
            "colorbar": {
             "outlinewidth": 0,
             "ticks": ""
            },
            "type": "choropleth"
           }
          ],
          "contour": [
           {
            "colorbar": {
             "outlinewidth": 0,
             "ticks": ""
            },
            "colorscale": [
             [
              0,
              "#0d0887"
             ],
             [
              0.1111111111111111,
              "#46039f"
             ],
             [
              0.2222222222222222,
              "#7201a8"
             ],
             [
              0.3333333333333333,
              "#9c179e"
             ],
             [
              0.4444444444444444,
              "#bd3786"
             ],
             [
              0.5555555555555556,
              "#d8576b"
             ],
             [
              0.6666666666666666,
              "#ed7953"
             ],
             [
              0.7777777777777778,
              "#fb9f3a"
             ],
             [
              0.8888888888888888,
              "#fdca26"
             ],
             [
              1,
              "#f0f921"
             ]
            ],
            "type": "contour"
           }
          ],
          "contourcarpet": [
           {
            "colorbar": {
             "outlinewidth": 0,
             "ticks": ""
            },
            "type": "contourcarpet"
           }
          ],
          "heatmap": [
           {
            "colorbar": {
             "outlinewidth": 0,
             "ticks": ""
            },
            "colorscale": [
             [
              0,
              "#0d0887"
             ],
             [
              0.1111111111111111,
              "#46039f"
             ],
             [
              0.2222222222222222,
              "#7201a8"
             ],
             [
              0.3333333333333333,
              "#9c179e"
             ],
             [
              0.4444444444444444,
              "#bd3786"
             ],
             [
              0.5555555555555556,
              "#d8576b"
             ],
             [
              0.6666666666666666,
              "#ed7953"
             ],
             [
              0.7777777777777778,
              "#fb9f3a"
             ],
             [
              0.8888888888888888,
              "#fdca26"
             ],
             [
              1,
              "#f0f921"
             ]
            ],
            "type": "heatmap"
           }
          ],
          "histogram": [
           {
            "marker": {
             "pattern": {
              "fillmode": "overlay",
              "size": 10,
              "solidity": 0.2
             }
            },
            "type": "histogram"
           }
          ],
          "histogram2d": [
           {
            "colorbar": {
             "outlinewidth": 0,
             "ticks": ""
            },
            "colorscale": [
             [
              0,
              "#0d0887"
             ],
             [
              0.1111111111111111,
              "#46039f"
             ],
             [
              0.2222222222222222,
              "#7201a8"
             ],
             [
              0.3333333333333333,
              "#9c179e"
             ],
             [
              0.4444444444444444,
              "#bd3786"
             ],
             [
              0.5555555555555556,
              "#d8576b"
             ],
             [
              0.6666666666666666,
              "#ed7953"
             ],
             [
              0.7777777777777778,
              "#fb9f3a"
             ],
             [
              0.8888888888888888,
              "#fdca26"
             ],
             [
              1,
              "#f0f921"
             ]
            ],
            "type": "histogram2d"
           }
          ],
          "histogram2dcontour": [
           {
            "colorbar": {
             "outlinewidth": 0,
             "ticks": ""
            },
            "colorscale": [
             [
              0,
              "#0d0887"
             ],
             [
              0.1111111111111111,
              "#46039f"
             ],
             [
              0.2222222222222222,
              "#7201a8"
             ],
             [
              0.3333333333333333,
              "#9c179e"
             ],
             [
              0.4444444444444444,
              "#bd3786"
             ],
             [
              0.5555555555555556,
              "#d8576b"
             ],
             [
              0.6666666666666666,
              "#ed7953"
             ],
             [
              0.7777777777777778,
              "#fb9f3a"
             ],
             [
              0.8888888888888888,
              "#fdca26"
             ],
             [
              1,
              "#f0f921"
             ]
            ],
            "type": "histogram2dcontour"
           }
          ],
          "mesh3d": [
           {
            "colorbar": {
             "outlinewidth": 0,
             "ticks": ""
            },
            "type": "mesh3d"
           }
          ],
          "parcoords": [
           {
            "line": {
             "colorbar": {
              "outlinewidth": 0,
              "ticks": ""
             }
            },
            "type": "parcoords"
           }
          ],
          "pie": [
           {
            "automargin": true,
            "type": "pie"
           }
          ],
          "scatter": [
           {
            "fillpattern": {
             "fillmode": "overlay",
             "size": 10,
             "solidity": 0.2
            },
            "type": "scatter"
           }
          ],
          "scatter3d": [
           {
            "line": {
             "colorbar": {
              "outlinewidth": 0,
              "ticks": ""
             }
            },
            "marker": {
             "colorbar": {
              "outlinewidth": 0,
              "ticks": ""
             }
            },
            "type": "scatter3d"
           }
          ],
          "scattercarpet": [
           {
            "marker": {
             "colorbar": {
              "outlinewidth": 0,
              "ticks": ""
             }
            },
            "type": "scattercarpet"
           }
          ],
          "scattergeo": [
           {
            "marker": {
             "colorbar": {
              "outlinewidth": 0,
              "ticks": ""
             }
            },
            "type": "scattergeo"
           }
          ],
          "scattergl": [
           {
            "marker": {
             "colorbar": {
              "outlinewidth": 0,
              "ticks": ""
             }
            },
            "type": "scattergl"
           }
          ],
          "scattermap": [
           {
            "marker": {
             "colorbar": {
              "outlinewidth": 0,
              "ticks": ""
             }
            },
            "type": "scattermap"
           }
          ],
          "scattermapbox": [
           {
            "marker": {
             "colorbar": {
              "outlinewidth": 0,
              "ticks": ""
             }
            },
            "type": "scattermapbox"
           }
          ],
          "scatterpolar": [
           {
            "marker": {
             "colorbar": {
              "outlinewidth": 0,
              "ticks": ""
             }
            },
            "type": "scatterpolar"
           }
          ],
          "scatterpolargl": [
           {
            "marker": {
             "colorbar": {
              "outlinewidth": 0,
              "ticks": ""
             }
            },
            "type": "scatterpolargl"
           }
          ],
          "scatterternary": [
           {
            "marker": {
             "colorbar": {
              "outlinewidth": 0,
              "ticks": ""
             }
            },
            "type": "scatterternary"
           }
          ],
          "surface": [
           {
            "colorbar": {
             "outlinewidth": 0,
             "ticks": ""
            },
            "colorscale": [
             [
              0,
              "#0d0887"
             ],
             [
              0.1111111111111111,
              "#46039f"
             ],
             [
              0.2222222222222222,
              "#7201a8"
             ],
             [
              0.3333333333333333,
              "#9c179e"
             ],
             [
              0.4444444444444444,
              "#bd3786"
             ],
             [
              0.5555555555555556,
              "#d8576b"
             ],
             [
              0.6666666666666666,
              "#ed7953"
             ],
             [
              0.7777777777777778,
              "#fb9f3a"
             ],
             [
              0.8888888888888888,
              "#fdca26"
             ],
             [
              1,
              "#f0f921"
             ]
            ],
            "type": "surface"
           }
          ],
          "table": [
           {
            "cells": {
             "fill": {
              "color": "#EBF0F8"
             },
             "line": {
              "color": "white"
             }
            },
            "header": {
             "fill": {
              "color": "#C8D4E3"
             },
             "line": {
              "color": "white"
             }
            },
            "type": "table"
           }
          ]
         },
         "layout": {
          "annotationdefaults": {
           "arrowcolor": "#2a3f5f",
           "arrowhead": 0,
           "arrowwidth": 1
          },
          "autotypenumbers": "strict",
          "coloraxis": {
           "colorbar": {
            "outlinewidth": 0,
            "ticks": ""
           }
          },
          "colorscale": {
           "diverging": [
            [
             0,
             "#8e0152"
            ],
            [
             0.1,
             "#c51b7d"
            ],
            [
             0.2,
             "#de77ae"
            ],
            [
             0.3,
             "#f1b6da"
            ],
            [
             0.4,
             "#fde0ef"
            ],
            [
             0.5,
             "#f7f7f7"
            ],
            [
             0.6,
             "#e6f5d0"
            ],
            [
             0.7,
             "#b8e186"
            ],
            [
             0.8,
             "#7fbc41"
            ],
            [
             0.9,
             "#4d9221"
            ],
            [
             1,
             "#276419"
            ]
           ],
           "sequential": [
            [
             0,
             "#0d0887"
            ],
            [
             0.1111111111111111,
             "#46039f"
            ],
            [
             0.2222222222222222,
             "#7201a8"
            ],
            [
             0.3333333333333333,
             "#9c179e"
            ],
            [
             0.4444444444444444,
             "#bd3786"
            ],
            [
             0.5555555555555556,
             "#d8576b"
            ],
            [
             0.6666666666666666,
             "#ed7953"
            ],
            [
             0.7777777777777778,
             "#fb9f3a"
            ],
            [
             0.8888888888888888,
             "#fdca26"
            ],
            [
             1,
             "#f0f921"
            ]
           ],
           "sequentialminus": [
            [
             0,
             "#0d0887"
            ],
            [
             0.1111111111111111,
             "#46039f"
            ],
            [
             0.2222222222222222,
             "#7201a8"
            ],
            [
             0.3333333333333333,
             "#9c179e"
            ],
            [
             0.4444444444444444,
             "#bd3786"
            ],
            [
             0.5555555555555556,
             "#d8576b"
            ],
            [
             0.6666666666666666,
             "#ed7953"
            ],
            [
             0.7777777777777778,
             "#fb9f3a"
            ],
            [
             0.8888888888888888,
             "#fdca26"
            ],
            [
             1,
             "#f0f921"
            ]
           ]
          },
          "colorway": [
           "#636efa",
           "#EF553B",
           "#00cc96",
           "#ab63fa",
           "#FFA15A",
           "#19d3f3",
           "#FF6692",
           "#B6E880",
           "#FF97FF",
           "#FECB52"
          ],
          "font": {
           "color": "#2a3f5f"
          },
          "geo": {
           "bgcolor": "white",
           "lakecolor": "white",
           "landcolor": "#E5ECF6",
           "showlakes": true,
           "showland": true,
           "subunitcolor": "white"
          },
          "hoverlabel": {
           "align": "left"
          },
          "hovermode": "closest",
          "mapbox": {
           "style": "light"
          },
          "paper_bgcolor": "white",
          "plot_bgcolor": "#E5ECF6",
          "polar": {
           "angularaxis": {
            "gridcolor": "white",
            "linecolor": "white",
            "ticks": ""
           },
           "bgcolor": "#E5ECF6",
           "radialaxis": {
            "gridcolor": "white",
            "linecolor": "white",
            "ticks": ""
           }
          },
          "scene": {
           "xaxis": {
            "backgroundcolor": "#E5ECF6",
            "gridcolor": "white",
            "gridwidth": 2,
            "linecolor": "white",
            "showbackground": true,
            "ticks": "",
            "zerolinecolor": "white"
           },
           "yaxis": {
            "backgroundcolor": "#E5ECF6",
            "gridcolor": "white",
            "gridwidth": 2,
            "linecolor": "white",
            "showbackground": true,
            "ticks": "",
            "zerolinecolor": "white"
           },
           "zaxis": {
            "backgroundcolor": "#E5ECF6",
            "gridcolor": "white",
            "gridwidth": 2,
            "linecolor": "white",
            "showbackground": true,
            "ticks": "",
            "zerolinecolor": "white"
           }
          },
          "shapedefaults": {
           "line": {
            "color": "#2a3f5f"
           }
          },
          "ternary": {
           "aaxis": {
            "gridcolor": "white",
            "linecolor": "white",
            "ticks": ""
           },
           "baxis": {
            "gridcolor": "white",
            "linecolor": "white",
            "ticks": ""
           },
           "bgcolor": "#E5ECF6",
           "caxis": {
            "gridcolor": "white",
            "linecolor": "white",
            "ticks": ""
           }
          },
          "title": {
           "x": 0.05
          },
          "xaxis": {
           "automargin": true,
           "gridcolor": "white",
           "linecolor": "white",
           "ticks": "",
           "title": {
            "standoff": 15
           },
           "zerolinecolor": "white",
           "zerolinewidth": 2
          },
          "yaxis": {
           "automargin": true,
           "gridcolor": "white",
           "linecolor": "white",
           "ticks": "",
           "title": {
            "standoff": 15
           },
           "zerolinecolor": "white",
           "zerolinewidth": 2
          }
         }
        },
        "title": {
         "text": "Real-World Distance Analysis"
        },
        "xaxis": {
         "anchor": "y",
         "domain": [
          0,
          0.45
         ],
         "title": {
          "text": "Frame Index"
         }
        },
        "xaxis2": {
         "anchor": "y2",
         "domain": [
          0.55,
          1
         ],
         "title": {
          "text": "Time"
         }
        },
        "xaxis3": {
         "anchor": "y3",
         "domain": [
          0,
          0.45
         ],
         "title": {
          "text": "Distance (meters)"
         }
        },
        "xaxis4": {
         "anchor": "y4",
         "domain": [
          0.55,
          1
         ],
         "title": {
          "text": "Frame Index"
         }
        },
        "yaxis": {
         "anchor": "x",
         "domain": [
          0.625,
          1
         ],
         "title": {
          "text": "Distance (meters)"
         }
        },
        "yaxis2": {
         "anchor": "x2",
         "domain": [
          0.625,
          1
         ],
         "title": {
          "text": "Distance (meters)"
         }
        },
        "yaxis3": {
         "anchor": "x3",
         "domain": [
          0,
          0.375
         ],
         "title": {
          "text": "Frequency"
         }
        },
        "yaxis4": {
         "anchor": "x4",
         "domain": [
          0,
          0.375
         ],
         "title": {
          "text": "Distance (meters)"
         }
        }
       }
      }
     },
     "metadata": {},
     "output_type": "display_data"
    }
   ],
   "source": [
    "iau.VisualizationEngine.plot_distance_analysis(net_analysis_results, \"Real-World Distance Analysis\")"
   ]
  },
  {
   "cell_type": "code",
   "execution_count": null,
   "id": "c10a8be6",
   "metadata": {},
   "outputs": [
    {
     "name": "stdout",
     "output_type": "stream",
     "text": [
      " LOADING ALL DISTANCE DATA FOR BAG: 2024-08-20_17-02-00\n",
      "============================================================\n",
      "📡 1. Loading Navigation Data...\n",
      "    Loaded 497 navigation records\n",
      "    NetPitch data available: 497 valid records\n",
      "📡 2. Loading Guidance Data...\n",
      "    Loaded 509 guidance records with ['error_net_distance', 'desired_net_distance', 'r_net_distance_d']\n",
      "📡 3. Loading DVL Altimeter...\n",
      "    DVL altimeter file not found\n",
      " 4. Loading USBL...\n",
      "    Loaded 30 USBL records\n",
      "📡 5. Loading DVL Position...\n",
      "    Loaded 265 DVL position records\n",
      " 6. Loading Navigation Position...\n",
      "    Loaded 245 navigation position records\n",
      "📡 7. Loading INS Z Position...\n",
      "    INS file not found\n",
      "\n",
      " LOADING SUMMARY:\n",
      "    Target bag: 2024-08-20_17-02-00\n",
      "    Raw data loaded: 2/2\n",
      "    Distance measurements: 4\n",
      "\n",
      " RAW DATA LOADED:\n",
      "    navigation: 497 records\n",
      "    guidance: 509 records\n",
      "\n",
      " DISTANCE MEASUREMENTS LOADED:\n",
      "    USBL_3D: 30 records - 3D acoustic position\n",
      "    USBL_Depth: 30 records - USBL depth measurement\n",
      "    DVL_Position: 265 records - 3D DVL position\n",
      "    Nav_Position: 245 records - 2D navigation position\n"
     ]
    }
   ],
   "source": [
    "# COMPARISON: SONAR vs DVL DISTANCE MEASUREMENTS\n",
    "# =================================================\n",
    "import utils.net_distance_analysis as sda\n",
    "\n",
    "# IMPORTANT: Pass the by_bag folder, not just the exports root\n",
    "# The function expects the folder containing the CSV files\n",
    "from utils.sonar_config import EXPORTS_SUBDIRS\n",
    "BY_BAG_FOLDER = EXPORTS_FOLDER / EXPORTS_SUBDIRS.get('by_bag', 'by_bag')\n",
    "\n",
    "# Load all distance data for the target bag\n",
    "raw_data, distance_measurements = sda.load_all_distance_data_for_bag(TARGET_BAG, BY_BAG_FOLDER)\n",
    "\n",
    "# Display what we loaded\n",
    "print(f\"\\n RAW DATA LOADED:\")\n",
    "for key, data in raw_data.items():\n",
    "    if data is not None:\n",
    "        print(f\"    {key}: {len(data)} records\")\n",
    "    else:\n",
    "        print(f\"    {key}: None\")\n",
    "\n",
    "print(f\"\\n DISTANCE MEASUREMENTS LOADED:\")\n",
    "for key, info in distance_measurements.items():\n",
    "    data_len = len(info['data'])\n",
    "    print(f\"    {key}: {data_len} records - {info['description']}\")"
   ]
  },
  {
   "cell_type": "code",
   "execution_count": null,
   "id": "0375375e",
   "metadata": {},
   "outputs": [
    {
     "name": "stdout",
     "output_type": "stream",
     "text": [
      "\n",
      "SONAR vs DVL COMPARISON STATISTICS:\n",
      "==================================================\n",
      "Sonar mean distance: 1.300 m\n",
      "DVL mean distance:   1.121 m\n",
      "Scale ratio (Sonar/DVL): 1.160x\n",
      "Sonar mean pitch:    -9.33\n",
      "DVL mean pitch:      -1.81\n",
      "Pitch difference:    -7.52\n",
      "Sonar duration: 57.4s (944 frames)\n",
      "DVL duration:   57.4s (497 records)\n"
     ]
    },
    {
     "data": {
      "application/vnd.plotly.v1+json": {
       "config": {
        "plotlyServerURL": "https://plot.ly"
       },
       "data": [
        {
         "line": {
          "color": "red",
          "width": 3
         },
         "mode": "lines",
         "name": "Sonar Distance",
         "type": "scatter",
         "x": {
          "bdata": "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",
          "dtype": "f8"
         },
         "xaxis": "x",
         "y": {
          "bdata": "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",
          "dtype": "f8"
         },
         "yaxis": "y"
        },
        {
         "line": {
          "color": "blue",
          "width": 3
         },
         "mode": "lines",
         "name": "DVL Distance",
         "type": "scatter",
         "x": {
          "bdata": "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",
          "dtype": "f8"
         },
         "xaxis": "x",
         "y": {
          "bdata": "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",
          "dtype": "f8"
         },
         "yaxis": "y"
        },
        {
         "line": {
          "color": "orange",
          "width": 3
         },
         "mode": "lines",
         "name": "Sonar Pitch",
         "type": "scatter",
         "x": {
          "bdata": "cWTh8ZMorz9xZOHxkyi/P1QLafVuXsc/cWTh8ZMozz/G3ix3XHnTP1QLafVuXtc/4jelc4FD2z9xZOHxkyjfP3/IDjjThuE/xt4sd1x54z8N9Uq25WvlP1QLafVuXuc/myGHNPhQ6T/iN6VzgUPrPyhOw7IKNu0/cWTh8ZMo7z9cvX+Yjo3wP3/IDjjThvE/o9Od1xeA8j/G3ix3XHnzP+rpuxahcvQ/DfVKtuVr9T8xANpVKmX2P1QLafVuXvc/eBb4lLNX+D+bIYc0+FD5P74sFtQ8Svo/4jelc4FD+z8FQzQTxjz8PyhOw7IKNv0/TFlSUk8v/j9xZOHxkyj/P8o3uEjsEABAXL1/mI6NAEDtQkfoMAoBQH/IDjjThgFAEU7Wh3UDAkCj053XF4ACQDRZZSe6/AJAxt4sd1x5A0BXZPTG/vUDQOrpuxahcgRAe2+DZkPvBEAN9Uq25WsFQJ56EgaI6AVAMQDaVSplBkDChaGlzOEGQFQLafVuXgdA5ZAwRRHbB0B4FviUs1cIQAmcv+RV1AhAmyGHNPhQCUAsp06Ems0JQL4sFtQ8SgpAULLdI9/GCkDiN6VzgUMLQHO9bMMjwAtABUM0E8Y8DECYyPtiaLkMQChOw7IKNg1AutOKAq2yDUBMWVJSTy8OQN/eGaLxqw5AcWTh8ZMoD0AB6qhBNqUPQMo3uEjsEBBAk/qbcD1PEEBcvX+Yjo0QQCSAY8DfyxBA7UJH6DAKEUC2BSsQgkgRQH/IDjjThhFAR4vyXyTFEUARTtaHdQMSQNoQuq/GQRJAo9Od1xeAEkBrloH/aL4SQDRZZSe6/BJA/RtJTws7E0DG3ix3XHkTQI6hEJ+ttxNAV2T0xv71E0AhJ9juTzQUQOrpuxahchRAsqyfPvKwFEB7b4NmQ+8UQEQyZ46ULRVADfVKtuVrFUDVty7eNqoVQJ56EgaI6BVAaD32LdkmFkAxANpVKmUWQPrCvX17oxZAwoWhpczhFkCLSIXNHSAXQFQLafVuXhdAHc5MHcCcF0DlkDBFEdsXQK5TFG1iGRhAeBb4lLNXGEBB2du8BJYYQAmcv+RV1BhA0l6jDKcSGUCbIYc0+FAZQGTkalxJjxlALKdOhJrNGUD1aTKs6wsaQL4sFtQ8ShpAiO/5+42IGkBQst0j38YaQBl1wUswBRtA4jelc4FDG0Cr+oib0oEbQHO9bMMjwBtAPIBQ63T+G0AFQzQTxjwcQM4FGDsXexxAmMj7Ymi5HEBhi9+KufccQChOw7IKNh1A8RCn2lt0HUC604oCrbIdQIOWbir+8B1ATFlSUk8vHkAVHDZ6oG0eQN/eGaLxqx5AqKH9yULqHkBxZOHxkygfQDgnxRnlZh9AAeqoQTalH0DKrIxph+MfQMo3uEjsECBALhmq3BQwIECT+ptwPU8gQPfbjQRmbiBAXL1/mI6NIEC/nnEst6wgQCSAY8DfyyBAiWFVVAjrIEDtQkfoMAohQFIkOXxZKSFAtgUrEIJIIUAb5xykqmchQH/IDjjThiFA46kAzPulIUBHi/JfJMUhQKxs5PNM5CFAEU7Wh3UDIkB1L8gbniIiQNoQuq/GQSJAPvKrQ+9gIkCj053XF4AiQAe1j2tAnyJAa5aB/2i+IkDPd3OTkd0iQDRZZSe6/CJAmTpXu+IbI0D9G0lPCzsjQGL9OuMzWiNAxt4sd1x5I0ArwB4LhZgjQI6hEJ+ttyNA84ICM9bWI0BXZPTG/vUjQLxF5lonFSRAISfY7k80JECFCMqCeFMkQOrpuxahciRATsutqsmRJECyrJ8+8rAkQBaOkdIa0CRAe2+DZkPvJEDgUHX6aw4lQEQyZ46ULSVAqRNZIr1MJUAN9Uq25WslQHLWPEoOiyVA1bcu3jaqJUA6mSByX8klQJ56EgaI6CVAA1wEmrAHJkBoPfYt2SYmQMwe6MEBRiZAMQDaVSplJkCV4cvpUoQmQPrCvX17oyZAXaSvEaTCJkDChaGlzOEmQCZnkzn1ACdAi0iFzR0gJ0DwKXdhRj8nQFQLafVuXidAuexaiZd9J0AdzkwdwJwnQIGvPrHouydA5ZAwRRHbJ0BKciLZOfonQK5TFG1iGShAEzUGAYs4KEB4FviUs1coQNz36SjcdihAQdnbvASWKECkus1QLbUoQAmcv+RV1ChAbX2xeH7zKEDSXqMMpxIpQDZAlaDPMSlAmyGHNPhQKUAAA3nIIHApQGTkalxJjylAyMVc8HGuKUAsp06Ems0pQJGIQBjD7ClA9WkyrOsLKkBaSyRAFCsqQL4sFtQ8SipAIw4IaGVpKkCI7/n7jYgqQOzQ64+2pypAULLdI9/GKkC0k8+3B+YqQBl1wUswBStAfVaz31gkK0DiN6VzgUMrQEYZlweqYitAq/qIm9KBK0AQ3Hov+6ArQHO9bMMjwCtA2J5eV0zfK0A8gFDrdP4rQKFhQn+dHSxABUM0E8Y8LEBqJCan7lssQM4FGDsXeyxAM+cJzz+aLECYyPtiaLksQPyp7faQ2CxAYYvfirn3LEDFbNEe4hYtQChOw7IKNi1AjS+1RjNVLUDxEKfaW3QtQFbymG6Eky1AutOKAq2yLUAftXyW1dEtQIOWbir+8C1A6HdgviYQLkBMWVJSTy8uQLE6ROZ3Ti5AFRw2eqBtLkB6/ScOyYwuQN/eGaLxqy5AQ8ALNhrLLkCoof3JQuouQAyD711rCS9AcWTh8ZMoL0DTRdOFvEcvQDgnxRnlZi9AnQi3rQ2GL0AB6qhBNqUvQGbLmtVexC9AyqyMaYfjL0AXR7/+VwEwQMo3uEjsEDBAfCixkoAgMEAuGarcFDAwQOAJoyapPzBAk/qbcD1PMEBF65S60V4wQPfbjQRmbjBAqsyGTvp9MEBcvX+Yjo0wQA2ueOIinTBAv55xLLesMEByj2p2S7wwQCSAY8DfyzBA1nBcCnTbMECJYVVUCOswQDtSTp6c+jBA7UJH6DAKMUCfM0AyxRkxQFIkOXxZKTFABBUyxu04MUC2BSsQgkgxQGj2I1oWWDFAG+ccpKpnMUDN1xXuPncxQH/IDjjThjFAMrkHgmeWMUDjqQDM+6UxQJWa+RWQtTFAR4vyXyTFMUD6e+upuNQxQKxs5PNM5DFAXl3dPeHzMUARTtaHdQMyQMM+z9EJEzJAdS/IG54iMkAnIMFlMjIyQNoQuq/GQTJAjAGz+VpRMkA+8qtD72AyQPDipI2DcDJAo9Od1xeAMkBVxJYhrI8yQAe1j2tAnzJAuaWItdSuMkBrloH/aL4yQB2Hekn9zTJAz3dzk5HdMkCCaGzdJe0yQDRZZSe6/DJA5klecU4MM0CZOle74hszQEsrUAV3KzNA/RtJTws7M0CvDEKZn0ozQGL9OuMzWjNAFO4zLchpM0DG3ix3XHkzQHjPJcHwiDNAK8AeC4WYM0DcsBdVGagzQI6hEJ+ttzNAQZIJ6UHHM0DzggIz1tYzQKVz+3xq5jNAV2T0xv71M0AKVe0QkwU0QLxF5lonFTRAbjbfpLskNEAhJ9juTzQ0QNMX0TjkQzRAhQjKgnhTNEA3+cLMDGM0QOrpuxahcjRAnNq0YDWCNEBOy62qyZE0QAC8pvRdoTRAsqyfPvKwNEBknZiIhsA0QBaOkdIa0DRAyX6KHK/fNEB7b4NmQ+80QC1gfLDX/jRA4FB1+msONUCSQW5EAB41QEQyZ46ULTVA9iJg2Cg9NUCpE1kivUw1QFsEUmxRXDVADfVKtuVrNUC/5UMAens1QHLWPEoOizVAJMc1lKKaNUDVty7eNqo1QIioJyjLuTVAOpkgcl/JNUDsiRm889g1QJ56EgaI6DVAUWsLUBz4NUADXASasAc2QLVM/eNEFzZAaD32LdkmNkAaLu93bTY2QMwe6MEBRjZAfg/hC5ZVNkAxANpVKmU2QOPw0p++dDZAleHL6VKENkBH0sQz55M2QPrCvX17ozZAq7O2xw+zNkBdpK8RpMI2QBCVqFs40jZAwoWhpczhNkB0dprvYPE2QCZnkzn1ADdA2VeMg4kQN0CLSIXNHSA3QD05fheyLzdA8Cl3YUY/N0CiGnCr2k43QFQLafVuXjdABvxhPwNuN0C57FqJl303QGvdU9MrjTdAHc5MHcCcN0DPvkVnVKw3QIGvPrHouzdAM6A3+3zLN0DlkDBFEds3QJiBKY+l6jdASnIi2Tn6N0D8Yhsjzgk4QK5TFG1iGThAYUQNt/YoOEATNQYBizg4QMUl/0ofSDhAeBb4lLNXOEAqB/HeR2c4QNz36SjcdjhAjujicnCGOEBB2du8BJY4QPPJ1AaZpThApLrNUC21OEBXq8aawcQ4QAmcv+RV1DhAu4y4LurjOEBtfbF4fvM4QCBuqsISAzlA0l6jDKcSOUCET5xWOyI5QDZAlaDPMTlA6TCO6mNBOUCbIYc0+FA5QE0SgH6MYDlAAAN5yCBwOUCy83EStX85QGTkalxJjzlAFtVjpt2eOUDIxVzwca45QHq2VToGvjlALKdOhJrNOUDfl0fOLt05QJGIQBjD7DlAQ3k5Ylf8OUD1aTKs6ws6QKhaK/Z/GzpAWkskQBQrOkAMPB2KqDo6QL4sFtQ8SjpAcR0PHtFZOkAjDghoZWk6QNX+ALL5eDpAiO/5+42IOkA64PJFIpg6QOzQ64+2pzpAncHk2Uq3OkBQst0j38Y6QAKj1m1z1jpAtJPPtwfmOkBnhMgBnPU6QBl1wUswBTtAy2W6lcQUO0B9VrPfWCQ7QDBHrCntMztA4jelc4FDO0CUKJ69FVM7QEYZlweqYjtA+QmQUT5yO0Cr+oib0oE7QF3rgeVmkTtAENx6L/ugO0DBzHN5j7A7QHO9bMMjwDtAJa5lDbjPO0DYnl5XTN87QIqPV6Hg7jtAPIBQ63T+O0DvcEk1CQ48QKFhQn+dHTxAU1I7yTEtPEAFQzQTxjw8QLgzLV1aTDxAaiQmp+5bPEAcFR/xgms8QM4FGDsXezxAgfYQhauKPEAz5wnPP5o8QOXXAhnUqTxAmMj7Ymi5PEBJufSs/Mg8QPyp7faQ2DxArprmQCXoPEBhi9+Kufc8QBJ82NRNBz1AxWzRHuIWPUB3XcpodiY9QChOw7IKNj1A2z68/J5FPUCNL7VGM1U9QEAgrpDHZD1A8RCn2lt0PUCkAaAk8IM9QFbymG6Ekz1ACeORuBijPUC604oCrbI9QG3Eg0xBwj1AH7V8ltXRPUDSpXXgaeE9QIOWbir+8D1ANodndJIAPkDod2C+JhA+QJtoWQi7Hz5ATFlSUk8vPkD+SUuc4z4+QLE6ROZ3Tj5AYis9MAxePkAVHDZ6oG0+QMcML8Q0fT5Aev0nDsmMPkAr7iBYXZw+QN/eGaLxqz5AkM8S7IW7PkBDwAs2Gss+QPSwBICu2j5AqKH9yULqPkBZkvYT1/k+QAyD711rCT9AvnPop/8YP0BxZOHxkyg/QCJV2jsoOD9A00XThbxHP0CHNszPUFc/QDgnxRnlZj9A6xe+Y3l2P0CdCLetDYY/QFD5r/ehlT9AAeqoQTalP0C02qGLyrQ/QGbLmtVexD9AGbyTH/PTP0DKrIxph+M/QH2dhbMb8z9AF0e//lcBQEBxv7sjIglAQMo3uEjsEEBAI7C0bbYYQEB8KLGSgCBAQNWgrbdKKEBALhmq3BQwQECHkaYB3zdAQOAJoyapP0BAOYKfS3NHQECT+ptwPU9AQOtymJUHV0BAReuUutFeQECeY5Hfm2ZAQPfbjQRmbkBAUFSKKTB2QECqzIZO+n1AQAJFg3PEhUBAXL1/mI6NQEC1NXy9WJVAQA2ueOIinUBAZyZ1B+2kQEC/nnEst6xAQBkXblGBtEBAco9qdku8QEDLB2ebFcRAQCSAY8Dfy0BAfvhf5anTQEDWcFwKdNtAQDDpWC8+40BAiWFVVAjrQEDi2VF50vJAQDtSTp6c+kBAlMpKw2YCQUDtQkfoMApBQEe7Qw37EUFAnzNAMsUZQUD4qzxXjyFBQFIkOXxZKUFAqpw1oSMxQUAEFTLG7ThBQF2NLuu3QEFAtgUrEIJIQUAPfic1TFBBQGj2I1oWWEFAwW4gf+BfQUAb5xykqmdBQHNfGcl0b0FAzdcV7j53QUAmUBITCX9BQH/IDjjThkFA2EALXZ2OQUAyuQeCZ5ZBQIoxBKcxnkFA46kAzPulQUA9Iv3wxa1BQJWa+RWQtUFA7xL2Olq9QUBHi/JfJMVBQKED74TuzEFA+nvrqbjUQUBT9OfOgtxBQKxs5PNM5EFABuXgGBfsQUBeXd094fNBQLjV2WKr+0FAEU7Wh3UDQkBqxtKsPwtCQMM+z9EJE0JAHLfL9tMaQkB1L8gbniJCQM6nxEBoKkJAJyDBZTIyQkCAmL2K/DlCQNoQuq/GQUJAMom21JBJQkCMAbP5WlFCQOV5rx4lWUJAPvKrQ+9gQkCXaqhouWhCQPDipI2DcEJASVuhsk14QkCj053XF4BCQPtLmvzhh0JAVcSWIayPQkCuPJNGdpdCQAe1j2tAn0JAYC2MkAqnQkC5pYi11K5CQBIehdqetkJAa5aB/2i+QkDFDn4kM8ZCQB2Hekn9zUJAd/92bsfVQkDPd3OTkd1CQCnwb7hb5UJAgmhs3SXtQkDb4GgC8PRCQDRZZSe6/EJAjtFhTIQEQ0DmSV5xTgxDQEDCWpYYFENAmTpXu+IbQ0DxslPgrCNDQEsrUAV3K0NApKNMKkEzQ0D9G0lPCztDQFaURXTVQkNArwxCmZ9KQ0AIhT6+aVJDQGL9OuMzWkNAunU3CP5hQ0AU7jMtyGlDQG1mMFKScUNAxt4sd1x5Q0AfVymcJoFDQHjPJcHwiENA0Uci5rqQQ0ArwB4LhZhDQIM4GzBPoENA3LAXVRmoQ0A2KRR6469DQI6hEJ+tt0NA6BkNxHe/Q0BBkgnpQcdDQJoKBg4Mz0NA84ICM9bWQ0BN+/5XoN5DQKVz+3xq5kNA/+v3oTTuQ0BXZPTG/vVDQLHc8OvI/UNAClXtEJMFREBjzek1XQ1EQLxF5lonFURAFr7if/EcREBuNt+kuyREQMeu28mFLERAISfY7k80REB5n9QTGjxEQNMX0TjkQ0RALJDNXa5LRECFCMqCeFNEQN6AxqdCW0RAN/nCzAxjRECQcb/x1mpEQOrpuxahckRAQmK4O2t6RECc2rRgNYJEQPVSsYX/iURATsutqsmRRECnQ6rPk5lEQAC8pvRdoURAWTSjGSipRECyrJ8+8rBEQAslnGO8uERAZJ2YiIbAREC+FZWtUMhEQBaOkdIa0ERAcAaO9+TXREDJfoocr99EQCL3hkF550RAe2+DZkPvREDV53+LDfdEQC1gfLDX/kRAh9h41aEGRUDgUHX6aw5FQDnJcR82FkVAkkFuRAAeRUDquWppyiVFQEQyZ46ULUVAnapjs141RUD2ImDYKD1FQE+bXP3yREVAqRNZIr1MRUABjFVHh1RFQFsEUmxRXEVAtHxOkRtkRUAN9Uq25WtFQGZtR9uvc0VAv+VDAHp7RUAYXkAlRINFQHLWPEoOi0VAyk45b9iSRUAkxzWUoppFQH0/MrlsokVA1bcu3jaqRUAvMCsDAbJFQIioJyjLuUVA4SAkTZXBRUA6mSByX8lFQJMRHZcp0UVA7IkZvPPYRUBGAhbhveBFQJ56EgaI6EVA+PIOK1LwRUBRawtQHPhFQKrjB3Xm/0VAA1wEmrAHRkBd1AC/eg9GQLVM/eNEF0ZAD8X5CA8fRkBoPfYt2SZGQMC18lKjLkZAGi7vd202RkBypuucNz5GQMwe6MEBRkZAJZfk5stNRkB+D+ELllVGQNeH3TBgXUZAMQDaVSplRkCJeNZ69GxGQOPw0p++dEZAPGnPxIh8RkCV4cvpUoRGQO5ZyA4djEZAR9LEM+eTRkCgSsFYsZtGQPrCvX17o0ZAUju6okWrRkCrs7bHD7NGQAUss+zZukZAXaSvEaTCRkC3HKw2bspGQBCVqFs40kZAaQ2lgALaRkDChaGlzOFGQBv+ncqW6UZAdHaa72DxRkDO7pYUK/lGQCZnkzn1AEdAgN+PXr8IR0DZV4yDiRBHQDLQiKhTGEdAi0iFzR0gR0DlwIHy5ydHQD05fheyL0dAlrF6PHw3R0DwKXdhRj9HQEiic4YQR0dAohpwq9pOR0D6kmzQpFZHQFQLafVuXkdArYNlGjlmR0AG/GE/A25HQF90XmTNdUdAuexaiZd9R0ARZVeuYYVHQGvdU9MrjUdAxFVQ+PWUR0AdzkwdwJxHQHZGSUKKpEdAz75FZ1SsR0AoN0KMHrRHQIGvPrHou0dA2ic71rLDR0AzoDf7fMtHQI0YNCBH00dA5ZAwRRHbR0A/CS1q2+JHQJiBKY+l6kdA8fkltG/yR0BKciLZOfpHQKPqHv4DAkhA/GIbI84JSEBW2xdImBFIQK5TFG1iGUhACMwQkiwhSEBhRA239ihIQLm8CdzAMEhAEzUGAYs4SEBsrQImVUBIQMUl/0ofSEhAHp77b+lPSEB4FviUs1dIQNCO9Ll9X0hAKgfx3kdnSECDf+0DEm9IQNz36SjcdkhANXDmTaZ+SECO6OJycIZIQOdg35c6jkhAQdnbvASWSECZUdjhzp1IQPPJ1AaZpUhATELRK2OtSECkus1QLbVIQP4yynX3vEhAV6vGmsHESECwI8O/i8xIQAmcv+RV1EhAYhS8CSDcSEC7jLgu6uNIQBUFtVO060hAbX2xeH7zSEDH9a2dSPtIQCBuqsISA0lAeeam59wKSUDSXqMMpxJJQCzXnzFxGklAhE+cVjsiSUDex5h7BSpJQDZAlaDPMUlAj7iRxZk5SUDpMI7qY0FJQEGpig8uSUlAmyGHNPhQSUD0mYNZwlhJQE0SgH6MYElApop8o1ZoSUAAA3nIIHBJQFh7de3qd0lAsvNxErV/SUALbG43f4dJQGTkalxJj0lAvVxngROXSUAW1WOm3Z5JQG9NYMunpklAyMVc8HGuSUAhPlkVPLZJQHq2VToGvklA1C5SX9DFSUAsp06Ems1JQIYfS6lk1UlA35dHzi7dSUA4EETz+ORJQJGIQBjD7ElA6gA9PY30SUBDeTliV/xJQJ3xNYchBEpA9WkyrOsLSkBP4i7RtRNKQKhaK/Z/G0pAAdMnG0ojSkBaSyRAFCtKQLPDIGXeMkpADDwdiqg6SkBltBmvckJKQL4sFtQ8SkpAF6US+QZSSkBxHQ8e0VlKQMmVC0ObYUpAIw4IaGVpSkB8hgSNL3FKQNX+ALL5eEpALnf91sOASkCI7/n7jYhKQOBn9iBYkEpAOuDyRSKYSkCTWO9q7J9KQOzQ64+2p0pARUnotICvSkCdweTZSrdKQPc54f4Uv0pAULLdI9/GSkCpKtpIqc5KQAKj1m1z1kpAXBvTkj3eSkC0k8+3B+ZKQA4MzNzR7UpAZ4TIAZz1SkDA/MQmZv1KQBl1wUswBUtAcu29cPoMS0DLZbqVxBRLQCXetrqOHEtAfVaz31gkS0DXzq8EIyxLQDBHrCntM0tAiL+oTrc7S0DiN6VzgUNLQDuwoZhLS0tAlCievRVTS0DtoJri31pLQEYZlweqYktAn5GTLHRqS0D5CZBRPnJLQFGCjHYIektAq/qIm9KBS0AEc4XAnIlLQF3rgeVmkUtAtmN+CjGZS0AQ3Hov+6BLQGhUd1TFqEtAwcxzeY+wS0AbRXCeWbhLQHO9bMMjwEtAzTVp6O3HS0AlrmUNuM9LQH8mYjKC10tA2J5eV0zfS0AxF1t8FudLQIqPV6Hg7ktA5AdUxqr2S0A8gFDrdP5LQJb4TBA/BkxA73BJNQkOTEBI6UVa0xVMQKFhQn+dHUxA+tk+pGclTEBTUjvJMS1MQKzKN+77NExABUM0E8Y8TEBeuzA4kERMQLgzLV1aTExAEKwpgiRUTEBqJCan7ltMQMOcIsy4Y0xAHBUf8YJrTEB1jRsWTXNMQM4FGDsXe0xAJ34UYOGCTECB9hCFq4pMQNluDap1kkxAM+cJzz+aTECMXwb0CaJMQOXXAhnUqUxAPlD/PZ6xTECYyPtiaLlMQA==",
          "dtype": "f8"
         },
         "xaxis": "x2",
         "y": {
          "bdata": "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",
          "dtype": "f8"
         },
         "yaxis": "y2"
        },
        {
         "line": {
          "color": "green",
          "width": 3
         },
         "mode": "lines",
         "name": "DVL Pitch",
         "type": "scatter",
         "x": {
          "bdata": "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",
          "dtype": "f8"
         },
         "xaxis": "x2",
         "y": {
          "bdata": "s+BBf6sgEMD6tJ18+Y4WwKm1b070Lg7AbTniawfTEMBTM5BwTMcWwCgKtDtZUhfA2MUGOXTJHcDeLorMTccfwMJR+933lyLA0rR+w78YIMBc5iKrdYsfwKrO7TaMdSHAzGYmO1IIIMBkCO8k21onwAcOhF21sCPAvsMDsILlIMCiC2JSfLohwAZ32PyJzh7Ag5m1rqzrFsCzV86IRdobwO+mEZ1XWxPA01laDMQTFsBb49KfhnYSwEt16NOIQQ/AJ83rqox1FMAv/lfobD0MwPltOOcgUwPAdZVFW3ZE9r/1FcTSR7bwv3x/TvS+dea/bNf3xDo0BcD1eBq1S/zyv6ATbQtsnvK/r/vrEXc7BMBvlUdMt+nhv+mwrqFjugPAQa7Bib9J/78QkuB3X6kAwC4fspXvh/m//U0jA71SBcBJtlNM+90BwOBp7RTCYw7AgouqR6uKEcA9Rt3FjAsDwP50K9q1JxDA143KYaPbB8DwUcgSlhsSwALHcEx4ZwfAlECgovmFAcDrtgLFUc8KwEy8p2/p8gjASay2R+9+EcCd96IwWfH6v/NDB3dRxuK/7rdHjnAZCsCLjbNhSEzyv4fswGIuSPu/2B4aHfQl1r/wWGiNQDzMv6QIiz1B9dI/W+PSn4Z2AsCPwAdRYsznv/kjjPwpzbO/fvrbBPsSAcAHtgm4MDYNwMN5cUBdMDDAu+h3Sh6aEMDfvzOOJocUwDwUGpOB6g/AAambL5XvEcBdPhg47/oPwIcHyRT2hg7ATAY4j9mLDcDxosqserYVwMI8pW4akhXAAMRsNHlnDcD9tB71mWEUwMRlWmjnDQ/ATPtTmXvZ8L+YCVOnMxsNwJqUzcb1fRbAcp6dlmNZF8C5aF6A5g0JwARs+hDhbwbAjqFs8r83BcAYHmvbj5gOwKuF7tOqOw/A3KpcpqiuCcAiCfDq2toFwJzm7bfgBQLA5q9p2ERwFMBKVxO3pckJwKI0RkBOFgLAHl2cljYADcCG7n+xDv4FwAEMdbJsEQ/AAa9wyyPXBsAgmP3tafcPwDvmV2cYrQvAjNNUpqIQFMBaWFiAxBMJwJGye3HAmBTAtMkq0Ky/DMDGsu6f1qYNwHVXX3OjegvAfVlojUA8DMAvLRcDeV4FwOmKyDrlgPm/xfNZGElDEMBZfj7nQk0DwM4TOE/JfAbATp8XHCXFAsDzu5BvjmPzv4uriH4rxAfAlNfE+di31L8NnPwDyzUDwK5MxzlDeQDAJJ0MEUde5r/rX9N5l3wHwAcVSk2GSgXAFHLLk/uoAsANTOM7PMoMwFyOiRXFNhHAvgMkzipaEMAJQMCGdCEVwCryMkJk7xjA2FLokc8RF8CYBgOcRAYQwBMZYJo0fA/Al1ouz/9YCcAC7JJieCkQwHB0cD8Iew/AuSp4mBNEDsDgrqWHxvgSwCM6ti5DGATAUYQRkpCPDMDBRwbEpGgHwIQBdfEHcgfAO+ZXZxitC8D8HaCXMro6QMSpFexIvx7A0LgZKXlVEMCcMjnlOpM5QJp2+KkSBgHASIn7aoiiGMDpB97sHQ0XwK3qCZY6FSDAgot9ROdPJsAAbFImKEAhwPEwbmUT0STAzovuSspUIsDCzaC0jkQhwE2aN+1MPiPAt0L/IrSEIMACSrWgx1AgwDCfcVmfnhrAp8T2K/igGsDtATDDp4IZwFrVbTL9nxbAp8T2K/igGsAPpNjItTkNwOq988al/jtA6cMiabxbB8ARfTAC+i0NwM4sgbKwBQ/A2juF7+CbEMCBPhYQvPESwACAsbAXtg3AIRp+8TppF8AwGL+iWrMcwFONREym7BHAL3f/N7DHFMBuDc9Ts+EWwEOCYn57QxLAcJcrHG9XGMAuH7KV74cJwIVjBZJMmwzAQRqjOyC9EcCfPmLMuaIEwK/8sVM2WPG/J2/JbD1OBMC7sm0nNtT/v/vdLfXuUgTAJQBj80qk2D+ejz30heAAwJAyvK0QggPAsXG2u9MiCsDb0EINJ+gDwOBGjD7j/Pu/U4jb606s87+q5C5pAFAHwNbXWoGTdPy/ikQ1dwfl/b+wEzxoPSv/v4CMulQns+S/CJCgsN4g+L9m7PUe0Wn3v58+Ysy5ovQ/h+/beojX2j9xGnBwvkABwJqlA7gOPP2/TKLon7Ss/b/5I4z8Kc3Dv3EacHC+QAHAHhMMd0Zn6L8vy4ZiNDXgvyYmS4L85u+/y6dWZnal4r+XNBN17JnRP4svAmHOje+/RVFADFiH8L9fSawh6enwv5bPMA9qGvU/IkPZrY0L6T/UzHqkqXD4P/LgsJRNgABAjHUyaFPp87/M3Jxv0lfzvyNnN3MPVuA/3egPwxn84z9JcpjImSwCQDKxRhpfHPe/65JYDOBvAMAX1mY/Hjnkv9R9Jx7aIe+/68IpXJvC6b9z7btgkIb0v1l+PudCTQPACurTE5hzBcAWpNq59t74v2UCwILE/SvAp85D/J0pMMDh3GvMo+QvwJqOHaw+Ti3AQgk6tpfmK8DZRUd1xLIswBZjddIvICrAX71AruTUKsD6a3mYQJ34PxAaV38iDABApfbe39p5CUDns9c6OnIZQLT+FpyOmBVAETdoS4cMFEC0Vgo4x2IaQKU6mmM8KxlAol87AZwaFEANfQmQ4dAVQIE+FhC88RJAW6m0IDEkE0CFhmZoKwIPQPinVmZ2pRJAF2ivB5AcAEAoOXNWZXMAQN2FueAVtuE/9AcouNoY/T9yEtyFT6Pxv5onpSNDt/c/pzvfLFt1+D9ccCU2tyfpv8OYYHPQ0/W/0xrRO9bb7D9FUUAMWIfwP6YEDaCAie0/xOX0qr9s9L8NT2jM25wEQH7WHtIR7J0/wx9x5M89pD+Q03sYu23rP6PXWoGTdNw/xG1rsoLP8z8Pj9xfYKnGv2AkjPwpzfM/23aOMc3C+D/dvU3NLXQCQB3h/FBLMQJAxZ9eDXcYv791mxr3BCzbv/C7vm9Egs6/LUqnVj2M+z+z2jnqa3u9P1IDs8dHVeS/nmlXjQen9j8HgUI2NLHuv1PGKtCsv5w/AZTruS907j94844L3sj9vxTSHV4A7+q/DsxKs7Ks0b+WsOWFOeXsv9rtFyoKYLk/dR4FRcyfDcCKvL5vRILuv9+roW/H+Pi/WRby0v3U27+ZYr6g+kcAwAEshn1cYwTAjHUyaFPpA8BKm846B3sJwOtf03mXfPe/XA3PU7Ph9r/xmfH47M72v4PFFqsxl/+/g8UWqzGX/78QNL45EIIQwEHXqwg9gwPA6S3EU5xGAcD1z2AAYd7bv5+3elnSldq/yl8INjqe87/xW4hwRinxvw8yvK0QgsM/eIzvEMrU0L+gfSce2iHfPyXGD7hSMN2/DNVtMv2f1j8ICCqpG774P5LvRfPNGvO/cuTG4fuxqr8YYiZf8Unuv59nmD4n8eu/hbo03Qbu/z+ton7wfAXUPyUAY/NKpNi/RUh5VodtsL/I2t8RM0fkP6N3i1diCv+/Lann65Kg87+zZ5ovaJb3v47axiCXEgPAqh2Jl9cq9b9k4E8AKEkGwBCtsXxDIQzAe98vge5SEcAMVT1oaoQJwD7hx5SoDxbA/EiXScFjGMBIJQSRqpMTwDqkfos7YBXAPBOwSIvoFMCGxCvomsIWwFoZKbZeUQbATQ0EEFYDE8CUiWxxa6cUwO/BPKjDSBXAcoplfoxAEsDPHBEDV2QVwIYeBVlNKUVAQZ5R2mWoBcAX65lVV5ACwC9c1CxE2hLAb3WOlg5oF8CK3Z010tchwHYXmVuDeyLACliTBAV3KsBzpxxEacsvwK8L3TlxryvAjPhuOrZPLcAbca089bsqwHJ2/nGwRybAwMeeFTwiIcAnvAkvUE8gwHBZR5hSM0FAbmcpKYWRG8DC2K2UPIMQwEEW29KiRQbAxtvYHlTgEcAcO1cmHeEWwIcLkX1z/hnAokQQ9i8tIsAXp4pcGUcgwK2B2nc9ryDArDRGQE4WIsAnoiH8wQYiwAX3GDnatx3AP5X9t+xBHcDt4jxPvh0cwL9KiWMDlhPAAXYWnUz8CMBEsgpr3ZMIwG2sAgTtLwPAzeJxC2E/CMATSeEUfm8OwN+ABMTAxBHABynca+XYEMCViHFzCWn7vxwXU2cjDAbAn8vnLUzQC8Crk1NBNBL7v2vfVALGCv2/B9/zNq5vAcCGtuvE9j/lvxTqVIw4RgPAPPSFJ76877++KOzdoqYCwIaqxC2tTAbAaeETUabA97+HUBBSUycLwB1QesqYauO/L4IIePPN+78s3cxgyRvavxmU6ZH8agHAa89n8z9F/r9QZjx1rRf3v3N1MmhT6eO/61RyJA2mBcB10oDjZsvQv3c/W9naO/K/Wp3ZReXh9b/dOPLdxKDCv5phxZPZruK/VHBa8llJ5b8nKWaaVnbfPzAspTaW2SrAnJFINlarLsBO1T4++L8vwHdUB+bH4i7Ax2kmEttGQsDidffjEoZCwASSufHFwkHAxCmwLiEeBEBFSHlWh22Qv2DX98Q6NPW/9Mgvm1gd8j8mmr4ti1L2P09Q+0I5PSHAwR7QUTcaAEAkl7oVjFIMQOBYEwfxNkJAOmlvuKNbKUCCWM3+Dz4+QM6VsNCtaz5Aj0JZYC5eKECkZTlfeHs8QKuV6c3GTjLAGIhq5WunN0Ax4pWPRhM0QCM6ti5DGNQ/9Pc6qVRT/r+F9FRNneUKwEjCVZlffRbAJC/70jDMG8Cnny4cgFQYwFV5MbWmixjA5evukDOoE8AoG0JCueA4wLpMFR50Mx/AePwTSo8YOsAoZVHpCKcfwEW8fLxa1DnAg6MnACosOMDMLNu4OHs1wIuxXRq6qwxA6/pp09boJ8DTMMqTzk8owJ5Ej32PWiTAFsK1Z4U0IkAxD8Ft9RMCwAXVou6fweK/y8AmCpxCPkBV7Wly224/QH/mR/Va3zlAeMqBW77zOUAeqB1pXcI+QAD1Y5QZjj9AE180c/5YQEC+/AcZSAxAQHPcCCTMLUBABg1mBq/DO0CEJhJO8Z86QMqp7Cn7RTtAeWjI+CtRQUAGncbRcwFBQH5w/sOeyjHA0Su9dbMXRUC/K5bvGTEWQHQK/PUtGVRA0IzXHCCEP8CYJNi4J341wOlf+kqkUD/AIXUf4GB/R8Ddt3Tcp0FOwPpB0VnwyUbAUz2ws21QVUCAHKJMqXtFQMDAVV2VmUVA88vZrM+nRUAQ5gurGvwJQL9pItFkhQpAtEPwYnWtRUDbsFxoO7VFQBEEuAWw+jvAvEJPVxpbO8BoIGzdWfw9wIs8MiyD+kTAXCzIMEYRScCBTWy9BvFDwA==",
          "dtype": "f8"
         },
         "yaxis": "y2"
        }
       ],
       "layout": {
        "annotations": [
         {
          "font": {
           "size": 16
          },
          "showarrow": false,
          "text": "Distance Comparison",
          "x": 0.5,
          "xanchor": "center",
          "xref": "paper",
          "y": 1,
          "yanchor": "bottom",
          "yref": "paper"
         },
         {
          "font": {
           "size": 16
          },
          "showarrow": false,
          "text": "Pitch Comparison",
          "x": 0.5,
          "xanchor": "center",
          "xref": "paper",
          "y": 0.375,
          "yanchor": "bottom",
          "yref": "paper"
         }
        ],
        "height": 800,
        "hovermode": "x unified",
        "template": {
         "data": {
          "bar": [
           {
            "error_x": {
             "color": "#2a3f5f"
            },
            "error_y": {
             "color": "#2a3f5f"
            },
            "marker": {
             "line": {
              "color": "#E5ECF6",
              "width": 0.5
             },
             "pattern": {
              "fillmode": "overlay",
              "size": 10,
              "solidity": 0.2
             }
            },
            "type": "bar"
           }
          ],
          "barpolar": [
           {
            "marker": {
             "line": {
              "color": "#E5ECF6",
              "width": 0.5
             },
             "pattern": {
              "fillmode": "overlay",
              "size": 10,
              "solidity": 0.2
             }
            },
            "type": "barpolar"
           }
          ],
          "carpet": [
           {
            "aaxis": {
             "endlinecolor": "#2a3f5f",
             "gridcolor": "white",
             "linecolor": "white",
             "minorgridcolor": "white",
             "startlinecolor": "#2a3f5f"
            },
            "baxis": {
             "endlinecolor": "#2a3f5f",
             "gridcolor": "white",
             "linecolor": "white",
             "minorgridcolor": "white",
             "startlinecolor": "#2a3f5f"
            },
            "type": "carpet"
           }
          ],
          "choropleth": [
           {
            "colorbar": {
             "outlinewidth": 0,
             "ticks": ""
            },
            "type": "choropleth"
           }
          ],
          "contour": [
           {
            "colorbar": {
             "outlinewidth": 0,
             "ticks": ""
            },
            "colorscale": [
             [
              0,
              "#0d0887"
             ],
             [
              0.1111111111111111,
              "#46039f"
             ],
             [
              0.2222222222222222,
              "#7201a8"
             ],
             [
              0.3333333333333333,
              "#9c179e"
             ],
             [
              0.4444444444444444,
              "#bd3786"
             ],
             [
              0.5555555555555556,
              "#d8576b"
             ],
             [
              0.6666666666666666,
              "#ed7953"
             ],
             [
              0.7777777777777778,
              "#fb9f3a"
             ],
             [
              0.8888888888888888,
              "#fdca26"
             ],
             [
              1,
              "#f0f921"
             ]
            ],
            "type": "contour"
           }
          ],
          "contourcarpet": [
           {
            "colorbar": {
             "outlinewidth": 0,
             "ticks": ""
            },
            "type": "contourcarpet"
           }
          ],
          "heatmap": [
           {
            "colorbar": {
             "outlinewidth": 0,
             "ticks": ""
            },
            "colorscale": [
             [
              0,
              "#0d0887"
             ],
             [
              0.1111111111111111,
              "#46039f"
             ],
             [
              0.2222222222222222,
              "#7201a8"
             ],
             [
              0.3333333333333333,
              "#9c179e"
             ],
             [
              0.4444444444444444,
              "#bd3786"
             ],
             [
              0.5555555555555556,
              "#d8576b"
             ],
             [
              0.6666666666666666,
              "#ed7953"
             ],
             [
              0.7777777777777778,
              "#fb9f3a"
             ],
             [
              0.8888888888888888,
              "#fdca26"
             ],
             [
              1,
              "#f0f921"
             ]
            ],
            "type": "heatmap"
           }
          ],
          "histogram": [
           {
            "marker": {
             "pattern": {
              "fillmode": "overlay",
              "size": 10,
              "solidity": 0.2
             }
            },
            "type": "histogram"
           }
          ],
          "histogram2d": [
           {
            "colorbar": {
             "outlinewidth": 0,
             "ticks": ""
            },
            "colorscale": [
             [
              0,
              "#0d0887"
             ],
             [
              0.1111111111111111,
              "#46039f"
             ],
             [
              0.2222222222222222,
              "#7201a8"
             ],
             [
              0.3333333333333333,
              "#9c179e"
             ],
             [
              0.4444444444444444,
              "#bd3786"
             ],
             [
              0.5555555555555556,
              "#d8576b"
             ],
             [
              0.6666666666666666,
              "#ed7953"
             ],
             [
              0.7777777777777778,
              "#fb9f3a"
             ],
             [
              0.8888888888888888,
              "#fdca26"
             ],
             [
              1,
              "#f0f921"
             ]
            ],
            "type": "histogram2d"
           }
          ],
          "histogram2dcontour": [
           {
            "colorbar": {
             "outlinewidth": 0,
             "ticks": ""
            },
            "colorscale": [
             [
              0,
              "#0d0887"
             ],
             [
              0.1111111111111111,
              "#46039f"
             ],
             [
              0.2222222222222222,
              "#7201a8"
             ],
             [
              0.3333333333333333,
              "#9c179e"
             ],
             [
              0.4444444444444444,
              "#bd3786"
             ],
             [
              0.5555555555555556,
              "#d8576b"
             ],
             [
              0.6666666666666666,
              "#ed7953"
             ],
             [
              0.7777777777777778,
              "#fb9f3a"
             ],
             [
              0.8888888888888888,
              "#fdca26"
             ],
             [
              1,
              "#f0f921"
             ]
            ],
            "type": "histogram2dcontour"
           }
          ],
          "mesh3d": [
           {
            "colorbar": {
             "outlinewidth": 0,
             "ticks": ""
            },
            "type": "mesh3d"
           }
          ],
          "parcoords": [
           {
            "line": {
             "colorbar": {
              "outlinewidth": 0,
              "ticks": ""
             }
            },
            "type": "parcoords"
           }
          ],
          "pie": [
           {
            "automargin": true,
            "type": "pie"
           }
          ],
          "scatter": [
           {
            "fillpattern": {
             "fillmode": "overlay",
             "size": 10,
             "solidity": 0.2
            },
            "type": "scatter"
           }
          ],
          "scatter3d": [
           {
            "line": {
             "colorbar": {
              "outlinewidth": 0,
              "ticks": ""
             }
            },
            "marker": {
             "colorbar": {
              "outlinewidth": 0,
              "ticks": ""
             }
            },
            "type": "scatter3d"
           }
          ],
          "scattercarpet": [
           {
            "marker": {
             "colorbar": {
              "outlinewidth": 0,
              "ticks": ""
             }
            },
            "type": "scattercarpet"
           }
          ],
          "scattergeo": [
           {
            "marker": {
             "colorbar": {
              "outlinewidth": 0,
              "ticks": ""
             }
            },
            "type": "scattergeo"
           }
          ],
          "scattergl": [
           {
            "marker": {
             "colorbar": {
              "outlinewidth": 0,
              "ticks": ""
             }
            },
            "type": "scattergl"
           }
          ],
          "scattermap": [
           {
            "marker": {
             "colorbar": {
              "outlinewidth": 0,
              "ticks": ""
             }
            },
            "type": "scattermap"
           }
          ],
          "scattermapbox": [
           {
            "marker": {
             "colorbar": {
              "outlinewidth": 0,
              "ticks": ""
             }
            },
            "type": "scattermapbox"
           }
          ],
          "scatterpolar": [
           {
            "marker": {
             "colorbar": {
              "outlinewidth": 0,
              "ticks": ""
             }
            },
            "type": "scatterpolar"
           }
          ],
          "scatterpolargl": [
           {
            "marker": {
             "colorbar": {
              "outlinewidth": 0,
              "ticks": ""
             }
            },
            "type": "scatterpolargl"
           }
          ],
          "scatterternary": [
           {
            "marker": {
             "colorbar": {
              "outlinewidth": 0,
              "ticks": ""
             }
            },
            "type": "scatterternary"
           }
          ],
          "surface": [
           {
            "colorbar": {
             "outlinewidth": 0,
             "ticks": ""
            },
            "colorscale": [
             [
              0,
              "#0d0887"
             ],
             [
              0.1111111111111111,
              "#46039f"
             ],
             [
              0.2222222222222222,
              "#7201a8"
             ],
             [
              0.3333333333333333,
              "#9c179e"
             ],
             [
              0.4444444444444444,
              "#bd3786"
             ],
             [
              0.5555555555555556,
              "#d8576b"
             ],
             [
              0.6666666666666666,
              "#ed7953"
             ],
             [
              0.7777777777777778,
              "#fb9f3a"
             ],
             [
              0.8888888888888888,
              "#fdca26"
             ],
             [
              1,
              "#f0f921"
             ]
            ],
            "type": "surface"
           }
          ],
          "table": [
           {
            "cells": {
             "fill": {
              "color": "#EBF0F8"
             },
             "line": {
              "color": "white"
             }
            },
            "header": {
             "fill": {
              "color": "#C8D4E3"
             },
             "line": {
              "color": "white"
             }
            },
            "type": "table"
           }
          ]
         },
         "layout": {
          "annotationdefaults": {
           "arrowcolor": "#2a3f5f",
           "arrowhead": 0,
           "arrowwidth": 1
          },
          "autotypenumbers": "strict",
          "coloraxis": {
           "colorbar": {
            "outlinewidth": 0,
            "ticks": ""
           }
          },
          "colorscale": {
           "diverging": [
            [
             0,
             "#8e0152"
            ],
            [
             0.1,
             "#c51b7d"
            ],
            [
             0.2,
             "#de77ae"
            ],
            [
             0.3,
             "#f1b6da"
            ],
            [
             0.4,
             "#fde0ef"
            ],
            [
             0.5,
             "#f7f7f7"
            ],
            [
             0.6,
             "#e6f5d0"
            ],
            [
             0.7,
             "#b8e186"
            ],
            [
             0.8,
             "#7fbc41"
            ],
            [
             0.9,
             "#4d9221"
            ],
            [
             1,
             "#276419"
            ]
           ],
           "sequential": [
            [
             0,
             "#0d0887"
            ],
            [
             0.1111111111111111,
             "#46039f"
            ],
            [
             0.2222222222222222,
             "#7201a8"
            ],
            [
             0.3333333333333333,
             "#9c179e"
            ],
            [
             0.4444444444444444,
             "#bd3786"
            ],
            [
             0.5555555555555556,
             "#d8576b"
            ],
            [
             0.6666666666666666,
             "#ed7953"
            ],
            [
             0.7777777777777778,
             "#fb9f3a"
            ],
            [
             0.8888888888888888,
             "#fdca26"
            ],
            [
             1,
             "#f0f921"
            ]
           ],
           "sequentialminus": [
            [
             0,
             "#0d0887"
            ],
            [
             0.1111111111111111,
             "#46039f"
            ],
            [
             0.2222222222222222,
             "#7201a8"
            ],
            [
             0.3333333333333333,
             "#9c179e"
            ],
            [
             0.4444444444444444,
             "#bd3786"
            ],
            [
             0.5555555555555556,
             "#d8576b"
            ],
            [
             0.6666666666666666,
             "#ed7953"
            ],
            [
             0.7777777777777778,
             "#fb9f3a"
            ],
            [
             0.8888888888888888,
             "#fdca26"
            ],
            [
             1,
             "#f0f921"
            ]
           ]
          },
          "colorway": [
           "#636efa",
           "#EF553B",
           "#00cc96",
           "#ab63fa",
           "#FFA15A",
           "#19d3f3",
           "#FF6692",
           "#B6E880",
           "#FF97FF",
           "#FECB52"
          ],
          "font": {
           "color": "#2a3f5f"
          },
          "geo": {
           "bgcolor": "white",
           "lakecolor": "white",
           "landcolor": "#E5ECF6",
           "showlakes": true,
           "showland": true,
           "subunitcolor": "white"
          },
          "hoverlabel": {
           "align": "left"
          },
          "hovermode": "closest",
          "mapbox": {
           "style": "light"
          },
          "paper_bgcolor": "white",
          "plot_bgcolor": "#E5ECF6",
          "polar": {
           "angularaxis": {
            "gridcolor": "white",
            "linecolor": "white",
            "ticks": ""
           },
           "bgcolor": "#E5ECF6",
           "radialaxis": {
            "gridcolor": "white",
            "linecolor": "white",
            "ticks": ""
           }
          },
          "scene": {
           "xaxis": {
            "backgroundcolor": "#E5ECF6",
            "gridcolor": "white",
            "gridwidth": 2,
            "linecolor": "white",
            "showbackground": true,
            "ticks": "",
            "zerolinecolor": "white"
           },
           "yaxis": {
            "backgroundcolor": "#E5ECF6",
            "gridcolor": "white",
            "gridwidth": 2,
            "linecolor": "white",
            "showbackground": true,
            "ticks": "",
            "zerolinecolor": "white"
           },
           "zaxis": {
            "backgroundcolor": "#E5ECF6",
            "gridcolor": "white",
            "gridwidth": 2,
            "linecolor": "white",
            "showbackground": true,
            "ticks": "",
            "zerolinecolor": "white"
           }
          },
          "shapedefaults": {
           "line": {
            "color": "#2a3f5f"
           }
          },
          "ternary": {
           "aaxis": {
            "gridcolor": "white",
            "linecolor": "white",
            "ticks": ""
           },
           "baxis": {
            "gridcolor": "white",
            "linecolor": "white",
            "ticks": ""
           },
           "bgcolor": "#E5ECF6",
           "caxis": {
            "gridcolor": "white",
            "linecolor": "white",
            "ticks": ""
           }
          },
          "title": {
           "x": 0.05
          },
          "xaxis": {
           "automargin": true,
           "gridcolor": "white",
           "linecolor": "white",
           "ticks": "",
           "title": {
            "standoff": 15
           },
           "zerolinecolor": "white",
           "zerolinewidth": 2
          },
          "yaxis": {
           "automargin": true,
           "gridcolor": "white",
           "linecolor": "white",
           "ticks": "",
           "title": {
            "standoff": 15
           },
           "zerolinecolor": "white",
           "zerolinewidth": 2
          }
         }
        },
        "title": {
         "text": "Interactive Distance & Pitch Comparison: Sonar vs DVL"
        },
        "xaxis": {
         "anchor": "y",
         "domain": [
          0,
          1
         ],
         "showgrid": true,
         "title": {
          "text": "Time (seconds)"
         }
        },
        "xaxis2": {
         "anchor": "y2",
         "domain": [
          0,
          1
         ],
         "showgrid": true,
         "title": {
          "text": "Time (seconds)"
         }
        },
        "yaxis": {
         "anchor": "x",
         "domain": [
          0.625,
          1
         ],
         "showgrid": true,
         "title": {
          "text": "Distance (meters)"
         }
        },
        "yaxis2": {
         "anchor": "x2",
         "domain": [
          0,
          0.375
         ],
         "showgrid": true,
         "title": {
          "text": "Pitch (degrees)"
         }
        }
       }
      }
     },
     "metadata": {},
     "output_type": "display_data"
    }
   ],
   "source": [
    "fig, comparison_stats = iau.ComparisonEngine.compare_sonar_vs_dvl(net_analysis_results, raw_data, sonar_coverage_m=sonar_coverage_meters, sonar_image_size=image_shape[0], use_plotly=True)\n",
    "fig.show()"
   ]
  },
  {
   "cell_type": "code",
   "execution_count": null,
   "id": "50f97352",
   "metadata": {},
   "outputs": [
    {
     "name": "stdout",
     "output_type": "stream",
     "text": [
      "GENERATING THREE-SYSTEM VIDEO WITH UNIFORM STYLING\n",
      "============================================================\n",
      "Target Bag: 2024-08-20_17-02-00\n",
      "GENERATING THREE-SYSTEM VIDEO\n",
      "==================================================\n",
      "🔄 PREPARING THREE-SYSTEM SYNCHRONIZED DATA\n",
      "============================================================\n",
      "✓ Using notebook 08's FFT loading methods...\n",
      "✓ Loaded 410 relative FFT pose records\n",
      "✓ Loaded FFT data via notebook 08 method: 410 records\n",
      "✓ Using notebook 08's three-system synchronization...\n",
      "Step 1: Calculating net relative positions\n",
      "FFT distances appear to be in cm (max: 183.3), converting to meters\n",
      "Final FFT distance range: -1.833 to 1.596 m\n",
      "FFT pitch range: -82.7 to 88.1\n",
      "FFT X range: -1.821 to 1.573 m\n",
      "FFT Y range: -0.596 to 0.441 m\n",
      "Step 2: Synchronizing all three systems\n",
      "Synchronized 1851 time points\n",
      "Available columns in sync_df: ['sync_timestamp', 'fft_distance_m', 'fft_pitch_deg', 'fft_x_m', 'fft_y_m', 'fft_heading', 'sonar_distance_m', 'sonar_pitch_deg', 'sonar_x_m', 'sonar_y_m', 'sonar_detection_success', 'nav_distance_m', 'nav_pitch_deg', 'nav_x_m', 'nav_y_m']\n",
      "Available distance columns: ['fft_distance_m', 'sonar_distance_m', 'nav_distance_m']\n",
      "Found distance columns: FFT=fft_distance_m, Sonar=sonar_distance_m, Nav=nav_distance_m\n",
      "Step 3: Creating visualizations\n",
      "Position data summary:\n",
      "  FFT: 1769 points, X: 0.82±0.38, Y: 0.04±0.12\n",
      "  Sonar: 1851 points, X: 1.11±0.33, Y: -0.23±0.66\n",
      "  DVL: 1813 points, X: 1.10±0.29, Y: -0.08±0.28\n",
      "Step 4: Saving results\n",
      "Results saved to: /Volumes/LaCie/SOLAQUA/exports/outputs/2024-08-20_17-02-00_three_system_net_relative_analysis.csv\n",
      "Statistics saved to: /Volumes/LaCie/SOLAQUA/exports/outputs/2024-08-20_17-02-00_three_system_net_relative_stats.json\n",
      "✓ Three-system synchronization completed: 1851 synchronized records\n",
      "✗ Notebook 08 synchronization failed: \"['timestamp', 'sonar_angle_deg', 'detection_success'] not in index\"\n",
      "Falling back to individual synchronization...\n",
      "✓ Using fallback synchronization method\n",
      "✓ Fallback synchronization completed\n",
      "OPTIMIZED SONAR VIDEO WITH THREE-SYSTEM SYNCHRONIZATION\n",
      "======================================================================\n",
      "Target Bag: 2024-08-20_17-02-00\n",
      "   Cone Size: 900x700\n",
      "   Range: 0.0-5.0m | FOV: 120.0\n",
      "Auto-detecting video files for bag: 2024-08-20_17-02-00\n",
      "Found video frames: 2024-08-20_17-02-00_video__image_compressed_image_data_frames\n",
      "Using frames directory: /Volumes/LaCie/SOLAQUA/exports/frames/2024-08-20_17-02-00_video__image_compressed_image_data_frames\n",
      "Camera: enabled\n",
      "Net-line: enabled (dist tol=0.5s, pitch tol=2.0s)\n",
      "Sonar Analysis: enabled\n",
      "FFT Data: enabled\n",
      "   Loading sonar data: sensor_sonoptix_echo_image__2024-08-20_17-02-00_video.csv\n",
      "Synchronized 1851 time points\n",
      "Available columns in sync_df: ['sync_timestamp', 'fft_distance_m', 'fft_pitch_deg', 'fft_x_m', 'fft_y_m', 'fft_heading', 'sonar_distance_m', 'sonar_pitch_deg', 'sonar_x_m', 'sonar_y_m', 'sonar_detection_success', 'nav_distance_m', 'nav_pitch_deg', 'nav_x_m', 'nav_y_m']\n",
      "Available distance columns: ['fft_distance_m', 'sonar_distance_m', 'nav_distance_m']\n",
      "Found distance columns: FFT=fft_distance_m, Sonar=sonar_distance_m, Nav=nav_distance_m\n",
      "Step 3: Creating visualizations\n",
      "Position data summary:\n",
      "  FFT: 1769 points, X: 0.82±0.38, Y: 0.04±0.12\n",
      "  Sonar: 1851 points, X: 1.11±0.33, Y: -0.23±0.66\n",
      "  DVL: 1813 points, X: 1.10±0.29, Y: -0.08±0.28\n",
      "Step 4: Saving results\n",
      "Results saved to: /Volumes/LaCie/SOLAQUA/exports/outputs/2024-08-20_17-02-00_three_system_net_relative_analysis.csv\n",
      "Statistics saved to: /Volumes/LaCie/SOLAQUA/exports/outputs/2024-08-20_17-02-00_three_system_net_relative_stats.json\n",
      "✓ Three-system synchronization completed: 1851 synchronized records\n",
      "✗ Notebook 08 synchronization failed: \"['timestamp', 'sonar_angle_deg', 'detection_success'] not in index\"\n",
      "Falling back to individual synchronization...\n",
      "✓ Using fallback synchronization method\n",
      "✓ Fallback synchronization completed\n",
      "OPTIMIZED SONAR VIDEO WITH THREE-SYSTEM SYNCHRONIZATION\n",
      "======================================================================\n",
      "Target Bag: 2024-08-20_17-02-00\n",
      "   Cone Size: 900x700\n",
      "   Range: 0.0-5.0m | FOV: 120.0\n",
      "Auto-detecting video files for bag: 2024-08-20_17-02-00\n",
      "Found video frames: 2024-08-20_17-02-00_video__image_compressed_image_data_frames\n",
      "Using frames directory: /Volumes/LaCie/SOLAQUA/exports/frames/2024-08-20_17-02-00_video__image_compressed_image_data_frames\n",
      "Camera: enabled\n",
      "Net-line: enabled (dist tol=0.5s, pitch tol=2.0s)\n",
      "Sonar Analysis: enabled\n",
      "FFT Data: enabled\n",
      "   Loading sonar data: sensor_sonoptix_echo_image__2024-08-20_17-02-00_video.csv\n",
      "Loaded 945 sonar frames in 38.41s\n",
      " LOADING ALL DISTANCE DATA FOR BAG: 2024-08-20_17-02-00\n",
      "============================================================\n",
      "📡 1. Loading Navigation Data...\n",
      "    Loaded 497 navigation records\n",
      "    NetPitch data available: 497 valid records\n",
      "📡 2. Loading Guidance Data...\n",
      "    Loaded 509 guidance records with ['error_net_distance', 'desired_net_distance', 'r_net_distance_d']\n",
      "📡 3. Loading DVL Altimeter...\n",
      "    DVL altimeter file not found\n",
      " 4. Loading USBL...\n",
      "    Loaded 30 USBL records\n",
      "📡 5. Loading DVL Position...\n",
      "    Loaded 265 DVL position records\n",
      " 6. Loading Navigation Position...\n",
      "    Loaded 245 navigation position records\n",
      "📡 7. Loading INS Z Position...\n",
      "    INS file not found\n",
      "\n",
      " LOADING SUMMARY:\n",
      "    Target bag: 2024-08-20_17-02-00\n",
      "    Raw data loaded: 2/2\n",
      "    Distance measurements: 4\n",
      "   Auto-loaded DVL data: 497 records\n",
      "   Used absolute timestamps for FFT data\n",
      "   Time Range Verification:\n",
      "     Sonar: 2024-08-20 15:02:03.239282846+00:00 to 2024-08-20 15:03:03.660551786+00:00\n",
      "     DVL:   2024-08-20 15:02:05.408126593+00:00 to 2024-08-20 15:03:02.795768261+00:00\n",
      "     FFT:   2024-08-20 15:02:03.753343105 to 2024-08-20 15:03:00.519725800\n",
      "   Using synchronized DVL data: 497 records\n",
      "      Available: ['NetDistance', 'NetPitch', 'timestamp']\n",
      "Loaded 755 camera index entries\n",
      "   Frames: 1..944 (step 1) => 944\n",
      "   Natural FPS: 16.4\n",
      "Loaded 945 sonar frames in 38.41s\n",
      " LOADING ALL DISTANCE DATA FOR BAG: 2024-08-20_17-02-00\n",
      "============================================================\n",
      "📡 1. Loading Navigation Data...\n",
      "    Loaded 497 navigation records\n",
      "    NetPitch data available: 497 valid records\n",
      "📡 2. Loading Guidance Data...\n",
      "    Loaded 509 guidance records with ['error_net_distance', 'desired_net_distance', 'r_net_distance_d']\n",
      "📡 3. Loading DVL Altimeter...\n",
      "    DVL altimeter file not found\n",
      " 4. Loading USBL...\n",
      "    Loaded 30 USBL records\n",
      "📡 5. Loading DVL Position...\n",
      "    Loaded 265 DVL position records\n",
      " 6. Loading Navigation Position...\n",
      "    Loaded 245 navigation position records\n",
      "📡 7. Loading INS Z Position...\n",
      "    INS file not found\n",
      "\n",
      " LOADING SUMMARY:\n",
      "    Target bag: 2024-08-20_17-02-00\n",
      "    Raw data loaded: 2/2\n",
      "    Distance measurements: 4\n",
      "   Auto-loaded DVL data: 497 records\n",
      "   Used absolute timestamps for FFT data\n",
      "   Time Range Verification:\n",
      "     Sonar: 2024-08-20 15:02:03.239282846+00:00 to 2024-08-20 15:03:03.660551786+00:00\n",
      "     DVL:   2024-08-20 15:02:05.408126593+00:00 to 2024-08-20 15:03:02.795768261+00:00\n",
      "     FFT:   2024-08-20 15:02:03.753343105 to 2024-08-20 15:03:00.519725800\n",
      "   Using synchronized DVL data: 497 records\n",
      "      Available: ['NetDistance', 'NetPitch', 'timestamp']\n",
      "Loaded 755 camera index entries\n",
      "   Frames: 1..944 (step 1) => 944\n",
      "   Natural FPS: 16.4\n",
      "\n",
      "🎉 DONE! Wrote 944 frames to /Volumes/LaCie/SOLAQUA/exports/videos/2024-08-20_17-02-00_optimized_sync_withcam_withsonar_20240820_170203_319382+0200.mp4 @ 16.42 FPS\n",
      "Three-system synchronization: DVL(Yellow/Orange) | FFT(Cyan) | Sonar(Magenta)\n",
      "Metadata saved to: /Volumes/LaCie/SOLAQUA/exports/videos/2024-08-20_17-02-00_optimized_sync_withcam_withsonar_20240820_170203_319382+0200.mp4.meta.json\n",
      "\n",
      "THREE-SYSTEM VIDEO GENERATED: /Volumes/LaCie/SOLAQUA/exports/videos/2024-08-20_17-02-00_optimized_sync_withcam_withsonar_20240820_170203_319382+0200.mp4\n",
      "   Systems synchronized:\n",
      "   - DVL: Navigation-based robot position relative to net\n",
      "   - FFT: High-precision signal processing net detection\n",
      "   - Sonar: Image analysis of sonar returns\n",
      "   - Uniform styling: All systems use consistent visual appearance\n",
      "\n",
      "VIDEO SUMMARY:\n",
      "   File: 2024-08-20_17-02-00_optimized_sync_withcam_withsonar_20240820_170203_319382+0200.mp4\n",
      "   Location: /Volumes/LaCie/SOLAQUA/exports/videos\n",
      "   Frames: 1-1500\n",
      "   Systems: DVL (Yellow/Orange) + FFT (Cyan) + Sonar (Magenta)\n",
      "   Styling: Uniform line thickness and visual appearance\n",
      "\n",
      "🎉 DONE! Wrote 944 frames to /Volumes/LaCie/SOLAQUA/exports/videos/2024-08-20_17-02-00_optimized_sync_withcam_withsonar_20240820_170203_319382+0200.mp4 @ 16.42 FPS\n",
      "Three-system synchronization: DVL(Yellow/Orange) | FFT(Cyan) | Sonar(Magenta)\n",
      "Metadata saved to: /Volumes/LaCie/SOLAQUA/exports/videos/2024-08-20_17-02-00_optimized_sync_withcam_withsonar_20240820_170203_319382+0200.mp4.meta.json\n",
      "\n",
      "THREE-SYSTEM VIDEO GENERATED: /Volumes/LaCie/SOLAQUA/exports/videos/2024-08-20_17-02-00_optimized_sync_withcam_withsonar_20240820_170203_319382+0200.mp4\n",
      "   Systems synchronized:\n",
      "   - DVL: Navigation-based robot position relative to net\n",
      "   - FFT: High-precision signal processing net detection\n",
      "   - Sonar: Image analysis of sonar returns\n",
      "   - Uniform styling: All systems use consistent visual appearance\n",
      "\n",
      "VIDEO SUMMARY:\n",
      "   File: 2024-08-20_17-02-00_optimized_sync_withcam_withsonar_20240820_170203_319382+0200.mp4\n",
      "   Location: /Volumes/LaCie/SOLAQUA/exports/videos\n",
      "   Frames: 1-1500\n",
      "   Systems: DVL (Yellow/Orange) + FFT (Cyan) + Sonar (Magenta)\n",
      "   Styling: Uniform line thickness and visual appearance\n"
     ]
    }
   ],
   "source": [
    "# Generate Three-SYSTEM Video \n",
    "# ===========================\n",
    "from pathlib import Path\n",
    "import importlib\n",
    "\n",
    "# CONFIGURATION\n",
    "FFT_CSV_PATH = Path(\"/Volumes/LaCie/SOLAQUA/relative_fft_pose\")\n",
    "TARGET_FFT_FILE = FFT_CSV_PATH / f\"{TARGET_BAG}_relative_pose_fft.csv\"\n",
    "\n",
    "print(\"GENERATING THREE-SYSTEM VIDEO WITH UNIFORM STYLING\")\n",
    "print(\"=\" * 60)\n",
    "print(f\"Target Bag: {TARGET_BAG}\")\n",
    "\n",
    "# Reload the module to pick up the new functions\n",
    "import utils.sonar_and_foto_generation as sg\n",
    "importlib.reload(sg)\n",
    "\n",
    "# Import the utility function\n",
    "from utils.sonar_and_foto_generation import generate_three_system_video\n",
    "\n",
    "try:\n",
    "    # Generate video using the streamlined utility function\n",
    "    video_path = generate_three_system_video(\n",
    "        target_bag=TARGET_BAG,\n",
    "        exports_folder=EXPORTS_FOLDER,\n",
    "        net_analysis_results=net_analysis_results,\n",
    "        raw_data=raw_data,\n",
    "        fft_csv_path=TARGET_FFT_FILE if TARGET_FFT_FILE.exists() else None,\n",
    "        start_idx=1,\n",
    "        end_idx=1500\n",
    "    )\n",
    "    \n",
    "    print(f\"\\nVIDEO SUMMARY:\")\n",
    "    print(f\"   File: {video_path.name}\")\n",
    "    print(f\"   Location: {video_path.parent}\")\n",
    "    print(f\"   Frames: 1-1500\")\n",
    "    print(f\"   Systems: DVL (Yellow/Orange) + FFT (Cyan) + Sonar (Magenta)\")\n",
    "    print(f\"   Styling: Uniform line thickness and visual appearance\")\n",
    "    \n",
    "except Exception as e:\n",
    "    print(f\"ideo generation failed: {e}\")\n",
    "    print(f\"Error details: {type(e).__name__}: {str(e)}\")\n",
    "    import traceback\n",
    "    traceback.print_exc()"
   ]
  },
  {
   "cell_type": "code",
   "execution_count": null,
   "id": "78935611",
   "metadata": {},
   "outputs": [],
   "source": []
  }
 ],
 "metadata": {
  "kernelspec": {
   "display_name": "venv",
   "language": "python",
   "name": "python3"
  },
  "language_info": {
   "codemirror_mode": {
    "name": "ipython",
    "version": 3
   },
   "file_extension": ".py",
   "mimetype": "text/x-python",
   "name": "python",
   "nbconvert_exporter": "python",
   "pygments_lexer": "ipython3",
   "version": "3.13.5"
  }
 },
 "nbformat": 4,
 "nbformat_minor": 5
}
