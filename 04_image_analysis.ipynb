{
 "cells": [
  {
   "cell_type": "code",
   "execution_count": 1,
   "id": "7a8d02c0",
   "metadata": {},
   "outputs": [],
   "source": [
    "from pathlib import Path\n",
    "import utils.sonar_analysis as iau\n",
    "\n",
    "# Centralized sonar defaults (inserted by sweep)\n",
    "from utils.config import SONAR_VIS_DEFAULTS\n",
    "config = SONAR_VIS_DEFAULTS.copy()\n",
    "# Backwards-compatible variable names used in older notebooks\n",
    "RANGE_MIN_M = config['range_min_m']\n",
    "RANGE_MAX_M = config['range_max_m']\n",
    "DISPLAY_RANGE_MAX_M = config['display_range_max_m']"
   ]
  },
  {
   "cell_type": "markdown",
   "id": "9220eb1d",
   "metadata": {},
   "source": [
    "# Simple Image Analysis with CV2\n",
    "\n",
    "This notebook demonstrates:\n",
    "1. **Pick a frame** from NPZ files and save it locally\n",
    "2. **Use standard cv2 functions** directly for image processing\n",
    "3. **Experiment** with different OpenCV operations"
   ]
  },
  {
   "cell_type": "code",
   "execution_count": 2,
   "id": "4b3e8f46",
   "metadata": {},
   "outputs": [
    {
     "name": "stdout",
     "output_type": "stream",
     "text": [
      "Using DATA_DIR = /Volumes/LaCie/SOLAQUA/raw_data\n"
     ]
    }
   ],
   "source": [
    "# Prefer selecting by bag ID (part of the NPZ filename) instead of a numeric index.\n",
    "# Set TARGET_BAG to a substring that appears in the NPZ filename \n",
    "# '2024-08-22_14-47-39' #1\n",
    "# '2024-08-22_14-29-05' #2\n",
    "# '2024-08-20_14-22-12' #3\n",
    "# '2024-08-20_14-31-29' #4\n",
    "# '2024-08-20_18-47-40' #5\n",
    "# '2024-08-20_13-55-34' #6\n",
    "# '2024-08-20_13-57-42' #7\n",
    "# '2024-08-20_17-02-00' #8\n",
    "TARGET_BAG = '2024-08-20_17-02-00'  # change this to your desired bag ID\n",
    "from utils.config import EXPORTS_DIR_DEFAULT, EXPORTS_SUBDIRS\n",
    "EXPORTS_FOLDER = Path(EXPORTS_DIR_DEFAULT)\n",
    "\n",
    "# If you keep your raw .bag files or raw data on an external drive, point DATA_DIR there.\n",
    "# Example (your external disk): /Volumes/LaCie/SOLAQUA/raw_data\n",
    "DATA_DIR = Path(\"/Volumes/LaCie/SOLAQUA/raw_data\")\n",
    "print(f\"Using DATA_DIR = {DATA_DIR}\")\n",
    "\n",
    "# NOTE: To export data for this specific bag, use:\n",
    "# python scripts/solaqua_export.py --data-dir /Volumes/LaCie/SOLAQUA/raw_data --exports-dir /Volumes/LaCie/SOLAQUA/exports --bag-stem 2024-08-20_17-02-00 --all\n",
    "\n",
    "# Find NPZ files and pick the one matching TARGET_BAG\n",
    "files = iau.get_available_npz_files()\n",
    "if not files:\n",
    "    raise FileNotFoundError(f\"No NPZ files found in configured exports outputs (looked under {EXPORTS_FOLDER / EXPORTS_SUBDIRS.get('outputs','outputs')})\")\n",
    "matches = [p for p in files if TARGET_BAG in p.name]\n",
    "if not matches:\n",
    "    # Help the user by listing available NPZ files\n",
    "    print(f'No NPZ file matched TARGET_BAG={TARGET_BAG!r}')\n",
    "    print('Available NPZ files:')\n",
    "    for i,p in enumerate(files):\n",
    "        print(f'  {i}: {p.name}')\n",
    "    raise ValueError(f'No NPZ file contains \"{TARGET_BAG}\" in its name')\n",
    "\n",
    "# If multiple matches, choose the most recently modified one\n",
    "selected = max(matches, key=lambda p: p.stat().st_mtime)\n",
    "NPZ_FILE_INDEX = files.index(selected)"
   ]
  },
  {
   "cell_type": "markdown",
   "id": "0c65358c",
   "metadata": {},
   "source": [
    "## Distance Analysis Over Time\n",
    "\n",
    "Now let's perform a comprehensive analysis of the red line distance over time. The red line represents the major axis of the detected elongated contour (likely a fishing net), and we'll track how this distance changes throughout the video sequence."
   ]
  },
  {
   "cell_type": "code",
   "execution_count": 3,
   "id": "6584f7f6",
   "metadata": {},
   "outputs": [
    {
     "name": "stdout",
     "output_type": "stream",
     "text": [
      "Verified expansion factor: 0.5\n",
      "GENERATING CONTOUR DETECTION PIPELINE VIDEO\n",
      "============================================================\n",
      "=== CONTOUR DETECTION PIPELINE VIDEO (3x3 Grid with NetTracker) ===\n",
      "Processing 944 frames...\n",
      "Grid layout (2x3):\n",
      "  Row 1: Raw | Momentum-Merged | Edges\n",
      "  Row 2: Search Mask | Best Contour | Distance\n",
      "Output grid size: 2700x1400\n",
      "Tracker config:\n",
      "  expansion: 0.5\n",
      "  center_alpha: 0.3\n",
      "  size_alpha: 0.01\n",
      "  angle_alpha: 0.2\n",
      "Processed 50/944 frames\n",
      "Processed 100/944 frames\n",
      "Processed 150/944 frames\n",
      "Processed 200/944 frames\n",
      "Processed 250/944 frames\n",
      "Processed 300/944 frames\n",
      "Processed 350/944 frames\n",
      "Processed 400/944 frames\n",
      "Processed 450/944 frames\n",
      "Processed 500/944 frames\n",
      "Processed 550/944 frames\n",
      "Processed 600/944 frames\n",
      "Processed 650/944 frames\n",
      "Processed 700/944 frames\n",
      "Processed 750/944 frames\n",
      "Processed 800/944 frames\n",
      "Processed 850/944 frames\n",
      "Processed 900/944 frames\n",
      "\n",
      "✓ Video saved to: /Volumes/LaCie/SOLAQUA/exports/videos/net_detection_pipeline.mp4\n",
      "Grid layout: Raw | Momentum | Edges\n",
      "             Search Mask | Best Contour | Distance\n"
     ]
    }
   ],
   "source": [
    "# Import video generation module\n",
    "import utils.video_generation as sg\n",
    "import importlib\n",
    "\n",
    "# Force reload to pick up config changes\n",
    "importlib.reload(sg)\n",
    "\n",
    "# Verify the config value is correct\n",
    "from utils.config import TRACKING_CONFIG as CHECK_CONFIG\n",
    "print(f\"Verified expansion factor: {CHECK_CONFIG['ellipse_expansion_factor']}\")\n",
    "\n",
    "print(\"GENERATING CONTOUR DETECTION PIPELINE VIDEO\")\n",
    "print(\"=\" * 60)\n",
    "\n",
    "# Generate contour detection video showing the exact analysis pipeline\n",
    "try:\n",
    "    video_path = sg.create_enhanced_contour_detection_video(\n",
    "        npz_file_index=NPZ_FILE_INDEX,          \n",
    "        frame_start=1,           \n",
    "        frame_count=1500,         \n",
    "        frame_step=1,            \n",
    "        output_path=str(Path(EXPORTS_DIR_DEFAULT) / EXPORTS_SUBDIRS.get('videos','videos') / 'net_detection_pipeline.mp4')\n",
    "    )\n",
    "    \n",
    "except Exception as e:\n",
    "    print(f\"❌ Video generation failed: {e}\")\n",
    "    import traceback\n",
    "    traceback.print_exc()"
   ]
  },
  {
   "cell_type": "code",
   "execution_count": 4,
   "id": "d9c0382e",
   "metadata": {},
   "outputs": [
    {
     "name": "stdout",
     "output_type": "stream",
     "text": [
      "\n",
      "============================================================\n",
      "ANALYZING DISTANCE OVER TIME\n",
      "============================================================\n",
      "Analyzing 944 frames from 2024-08-20_17-02-00_data_cones.npz\n",
      "  50/944 | TRACKED\n",
      "  100/944 | TRACKED\n",
      "  150/944 | TRACKED\n",
      "  200/944 | TRACKED\n",
      "  250/944 | TRACKED\n",
      "  300/944 | TRACKED\n",
      "  350/944 | TRACKED\n",
      "  400/944 | TRACKED\n",
      "  450/944 | TRACKED\n",
      "  500/944 | TRACKED\n",
      "  550/944 | TRACKED\n",
      "  600/944 | TRACKED\n",
      "  650/944 | TRACKED\n",
      "  700/944 | TRACKED\n",
      "  750/944 | TRACKED\n",
      "  800/944 | TRACKED\n",
      "  850/944 | TRACKED\n",
      "  900/944 | TRACKED\n",
      "Saved: /Volumes/LaCie/SOLAQUA/exports/outputs/2024-08-20_17-02-00_data_cones_analysis.csv\n"
     ]
    }
   ],
   "source": [
    "# Analyze distance over time using functional API\n",
    "print(\"\\n\" + \"=\" * 60)\n",
    "print(\"ANALYZING DISTANCE OVER TIME\")\n",
    "print(\"=\" * 60)\n",
    "\n",
    "net_analysis_results = iau.analyze_npz_sequence(\n",
    "    npz_file_index=NPZ_FILE_INDEX,    \n",
    "    frame_start=1,\n",
    "    frame_count=1500,\n",
    "    frame_step=1,\n",
    "    save_outputs=True\n",
    ")"
   ]
  },
  {
   "cell_type": "code",
   "execution_count": 5,
   "id": "0bd5183d",
   "metadata": {},
   "outputs": [
    {
     "data": {
      "text/plain": [
       "Index(['frame_index', 'timestamp', 'distance_pixels', 'distance_meters',\n",
       "       'angle_degrees', 'detection_success', 'tracking_status', 'area'],\n",
       "      dtype='object')"
      ]
     },
     "execution_count": 5,
     "metadata": {},
     "output_type": "execute_result"
    }
   ],
   "source": [
    "net_analysis_results.columns"
   ]
  },
  {
   "cell_type": "markdown",
   "id": "fede9d64",
   "metadata": {},
   "source": [
    "## Convert to Real-World Distances\n",
    "\n",
    "Now let's convert the pixel distances to real-world distances using the fact that the entire sonar image represents a 10x10 meter area."
   ]
  },
  {
   "cell_type": "code",
   "execution_count": 6,
   "id": "886897de",
   "metadata": {},
   "outputs": [
    {
     "name": "stdout",
     "output_type": "stream",
     "text": [
      "Using pixels_to_meters_avg = 0.016765 m/px\n",
      "Mapping source: npz_metadata\n"
     ]
    }
   ],
   "source": [
    "# Auto-detect pixel->meter mapping from the selected NPZ using utils function\n",
    "from utils.sonar_utils import get_pixel_to_meter_mapping\n",
    "mapping_info = get_pixel_to_meter_mapping(selected)\n",
    "\n",
    "# Extract commonly used variables for backwards compatibility\n",
    "pixels_to_meters_avg = mapping_info['pixels_to_meters_avg']\n",
    "image_shape = mapping_info['image_shape'] \n",
    "sonar_coverage_meters = mapping_info['sonar_coverage_meters']\n",
    "\n",
    "print(f\"Using pixels_to_meters_avg = {pixels_to_meters_avg:.6f} m/px\")\n",
    "print(f\"Mapping source: {mapping_info['source']}\")"
   ]
  },
  {
   "cell_type": "code",
   "execution_count": 7,
   "id": "15d6238c",
   "metadata": {},
   "outputs": [
    {
     "data": {
      "application/vnd.plotly.v1+json": {
       "config": {
        "plotlyServerURL": "https://plot.ly"
       },
       "data": [
        {
         "line": {
          "color": "blue"
         },
         "mode": "lines+markers",
         "name": "Distance",
         "type": "scatter",
         "x": {
          "bdata": "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",
          "dtype": "i2"
         },
         "xaxis": "x",
         "y": {
          "bdata": "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",
          "dtype": "f8"
         },
         "yaxis": "y"
        },
        {
         "line": {
          "color": "green"
         },
         "mode": "lines+markers",
         "name": "Over Time",
         "type": "scatter",
         "x": [
          "2024-08-20T15:02:03.319382668",
          "2024-08-20T15:02:03.405480623",
          "2024-08-20T15:02:03.458926201",
          "2024-08-20T15:02:03.505110979",
          "2024-08-20T15:02:03.609708309",
          "2024-08-20T15:02:03.678177118",
          "2024-08-20T15:02:03.741356611",
          "2024-08-20T15:02:03.792009115",
          "2024-08-20T15:02:03.846092939",
          "2024-08-20T15:02:03.902281761",
          "2024-08-20T15:02:04.086481810",
          "2024-08-20T15:02:04.100424767",
          "2024-08-20T15:02:04.152793884",
          "2024-08-20T15:02:04.202293396",
          "2024-08-20T15:02:04.257944583",
          "2024-08-20T15:02:04.315842390",
          "2024-08-20T15:02:04.354002953",
          "2024-08-20T15:02:04.418097496",
          "2024-08-20T15:02:04.460487843",
          "2024-08-20T15:02:04.520919323",
          "2024-08-20T15:02:04.586270809",
          "2024-08-20T15:02:04.647171021",
          "2024-08-20T15:02:04.712663174",
          "2024-08-20T15:02:04.801765203",
          "2024-08-20T15:02:04.849609375",
          "2024-08-20T15:02:04.905240774",
          "2024-08-20T15:02:04.978989840",
          "2024-08-20T15:02:05.035968065",
          "2024-08-20T15:02:05.119496584",
          "2024-08-20T15:02:05.162311792",
          "2024-08-20T15:02:05.233328342",
          "2024-08-20T15:02:05.291502237",
          "2024-08-20T15:02:05.355968714",
          "2024-08-20T15:02:05.420989513",
          "2024-08-20T15:02:05.493349552",
          "2024-08-20T15:02:05.554372549",
          "2024-08-20T15:02:05.611735821",
          "2024-08-20T15:02:05.684974670",
          "2024-08-20T15:02:05.740617037",
          "2024-08-20T15:02:05.800923586",
          "2024-08-20T15:02:05.894599199",
          "2024-08-20T15:02:05.934297085",
          "2024-08-20T15:02:05.995323420",
          "2024-08-20T15:02:06.072461367",
          "2024-08-20T15:02:06.123364925",
          "2024-08-20T15:02:06.183022022",
          "2024-08-20T15:02:06.258321047",
          "2024-08-20T15:02:06.337062359",
          "2024-08-20T15:02:06.437871456",
          "2024-08-20T15:02:06.500073910",
          "2024-08-20T15:02:06.553930998",
          "2024-08-20T15:02:06.602186441",
          "2024-08-20T15:02:06.661056757",
          "2024-08-20T15:02:06.723252773",
          "2024-08-20T15:02:06.767759323",
          "2024-08-20T15:02:06.825304508",
          "2024-08-20T15:02:06.900381327",
          "2024-08-20T15:02:06.953545570",
          "2024-08-20T15:02:07.019463301",
          "2024-08-20T15:02:07.082802057",
          "2024-08-20T15:02:07.148806810",
          "2024-08-20T15:02:07.225367069",
          "2024-08-20T15:02:07.287548780",
          "2024-08-20T15:02:07.346837044",
          "2024-08-20T15:02:07.404702902",
          "2024-08-20T15:02:07.473433733",
          "2024-08-20T15:02:07.531546116",
          "2024-08-20T15:02:07.594927073",
          "2024-08-20T15:02:07.659075260",
          "2024-08-20T15:02:07.722234011",
          "2024-08-20T15:02:07.787806273",
          "2024-08-20T15:02:07.853889227",
          "2024-08-20T15:02:07.915701151",
          "2024-08-20T15:02:08.024667978",
          "2024-08-20T15:02:08.074301004",
          "2024-08-20T15:02:08.142426729",
          "2024-08-20T15:02:08.195958614",
          "2024-08-20T15:02:08.260633230",
          "2024-08-20T15:02:08.313341618",
          "2024-08-20T15:02:08.369414568",
          "2024-08-20T15:02:08.426076412",
          "2024-08-20T15:02:08.497674465",
          "2024-08-20T15:02:08.550859928",
          "2024-08-20T15:02:08.617468834",
          "2024-08-20T15:02:08.684263468",
          "2024-08-20T15:02:08.747846603",
          "2024-08-20T15:02:08.806670189",
          "2024-08-20T15:02:08.877762556",
          "2024-08-20T15:02:08.935708284",
          "2024-08-20T15:02:09.004830599",
          "2024-08-20T15:02:09.066636800",
          "2024-08-20T15:02:09.127972364",
          "2024-08-20T15:02:09.195428133",
          "2024-08-20T15:02:09.258732796",
          "2024-08-20T15:02:09.322979450",
          "2024-08-20T15:02:09.388846636",
          "2024-08-20T15:02:09.455889225",
          "2024-08-20T15:02:09.517638445",
          "2024-08-20T15:02:09.576431036",
          "2024-08-20T15:02:09.640974283",
          "2024-08-20T15:02:09.706049681",
          "2024-08-20T15:02:09.776943207",
          "2024-08-20T15:02:09.844408751",
          "2024-08-20T15:02:09.913848400",
          "2024-08-20T15:02:09.964217663",
          "2024-08-20T15:02:10.023548603",
          "2024-08-20T15:02:10.089924812",
          "2024-08-20T15:02:10.158896923",
          "2024-08-20T15:02:10.216018438",
          "2024-08-20T15:02:10.282464027",
          "2024-08-20T15:02:10.346537590",
          "2024-08-20T15:02:10.410078526",
          "2024-08-20T15:02:10.475857496",
          "2024-08-20T15:02:10.538304090",
          "2024-08-20T15:02:10.608801603",
          "2024-08-20T15:02:10.672032833",
          "2024-08-20T15:02:10.732135057",
          "2024-08-20T15:02:10.800167561",
          "2024-08-20T15:02:10.863806009",
          "2024-08-20T15:02:10.930808067",
          "2024-08-20T15:02:10.986194849",
          "2024-08-20T15:02:11.056145191",
          "2024-08-20T15:02:11.114486694",
          "2024-08-20T15:02:11.179707050",
          "2024-08-20T15:02:11.240445137",
          "2024-08-20T15:02:11.307287455",
          "2024-08-20T15:02:11.374160051",
          "2024-08-20T15:02:11.435974360",
          "2024-08-20T15:02:11.507108927",
          "2024-08-20T15:02:11.561276674",
          "2024-08-20T15:02:11.625485897",
          "2024-08-20T15:02:11.688947201",
          "2024-08-20T15:02:11.760122776",
          "2024-08-20T15:02:11.821008444",
          "2024-08-20T15:02:11.890764475",
          "2024-08-20T15:02:11.949049711",
          "2024-08-20T15:02:12.016218661",
          "2024-08-20T15:02:12.072448015",
          "2024-08-20T15:02:12.135240555",
          "2024-08-20T15:02:12.201061964",
          "2024-08-20T15:02:12.264262915",
          "2024-08-20T15:02:12.328293800",
          "2024-08-20T15:02:12.399371147",
          "2024-08-20T15:02:12.461815596",
          "2024-08-20T15:02:12.518969535",
          "2024-08-20T15:02:12.584862709",
          "2024-08-20T15:02:12.661695242",
          "2024-08-20T15:02:12.716780424",
          "2024-08-20T15:02:12.782329559",
          "2024-08-20T15:02:12.843914032",
          "2024-08-20T15:02:12.903848648",
          "2024-08-20T15:02:12.968052626",
          "2024-08-20T15:02:13.031479120",
          "2024-08-20T15:02:13.145377159",
          "2024-08-20T15:02:13.203678846",
          "2024-08-20T15:02:13.263162613",
          "2024-08-20T15:02:13.322014570",
          "2024-08-20T15:02:13.371045828",
          "2024-08-20T15:02:13.431981087",
          "2024-08-20T15:02:13.487802029",
          "2024-08-20T15:02:13.544198990",
          "2024-08-20T15:02:13.611216068",
          "2024-08-20T15:02:13.672913074",
          "2024-08-20T15:02:13.745206833",
          "2024-08-20T15:02:13.800183296",
          "2024-08-20T15:02:13.872680902",
          "2024-08-20T15:02:13.936649084",
          "2024-08-20T15:02:13.996327162",
          "2024-08-20T15:02:14.061575413",
          "2024-08-20T15:02:14.126532793",
          "2024-08-20T15:02:14.185605764",
          "2024-08-20T15:02:14.271306515",
          "2024-08-20T15:02:14.348901987",
          "2024-08-20T15:02:14.394125223",
          "2024-08-20T15:02:14.467455149",
          "2024-08-20T15:02:14.505803823",
          "2024-08-20T15:02:14.570301533",
          "2024-08-20T15:02:14.634587526",
          "2024-08-20T15:02:14.696284771",
          "2024-08-20T15:02:14.774227142",
          "2024-08-20T15:02:14.829032898",
          "2024-08-20T15:02:14.913076639",
          "2024-08-20T15:02:14.954526663",
          "2024-08-20T15:02:15.022917747",
          "2024-08-20T15:02:15.080084562",
          "2024-08-20T15:02:15.143835068",
          "2024-08-20T15:02:15.210468531",
          "2024-08-20T15:02:15.274260998",
          "2024-08-20T15:02:15.338841438",
          "2024-08-20T15:02:15.414268494",
          "2024-08-20T15:02:15.473277569",
          "2024-08-20T15:02:15.549124241",
          "2024-08-20T15:02:15.596066475",
          "2024-08-20T15:02:15.661518097",
          "2024-08-20T15:02:15.723046780",
          "2024-08-20T15:02:15.784467936",
          "2024-08-20T15:02:15.849677324",
          "2024-08-20T15:02:15.922968149",
          "2024-08-20T15:02:15.976027012",
          "2024-08-20T15:02:16.040674448",
          "2024-08-20T15:02:16.103974104",
          "2024-08-20T15:02:16.227833509",
          "2024-08-20T15:02:16.287337780",
          "2024-08-20T15:02:16.326759815",
          "2024-08-20T15:02:16.387101173",
          "2024-08-20T15:02:16.444554567",
          "2024-08-20T15:02:16.492290735",
          "2024-08-20T15:02:16.551457167",
          "2024-08-20T15:02:16.617150307",
          "2024-08-20T15:02:16.681065559",
          "2024-08-20T15:02:16.744091988",
          "2024-08-20T15:02:16.812081575",
          "2024-08-20T15:02:16.891238928",
          "2024-08-20T15:02:16.938555717",
          "2024-08-20T15:02:17.001221180",
          "2024-08-20T15:02:17.072429419",
          "2024-08-20T15:02:17.137677193",
          "2024-08-20T15:02:17.194078922",
          "2024-08-20T15:02:17.268404484",
          "2024-08-20T15:02:17.319498301",
          "2024-08-20T15:02:17.385424137",
          "2024-08-20T15:02:17.451843739",
          "2024-08-20T15:02:17.512377262",
          "2024-08-20T15:02:17.590619087",
          "2024-08-20T15:02:17.643316269",
          "2024-08-20T15:02:17.707903624",
          "2024-08-20T15:02:17.783972502",
          "2024-08-20T15:02:17.835364819",
          "2024-08-20T15:02:17.896744251",
          "2024-08-20T15:02:18.100656986",
          "2024-08-20T15:02:18.114543915",
          "2024-08-20T15:02:18.170460939",
          "2024-08-20T15:02:18.227427483",
          "2024-08-20T15:02:18.277421713",
          "2024-08-20T15:02:18.324504375",
          "2024-08-20T15:02:18.379124880",
          "2024-08-20T15:02:18.435323238",
          "2024-08-20T15:02:18.477159023",
          "2024-08-20T15:02:18.539041758",
          "2024-08-20T15:02:18.601981401",
          "2024-08-20T15:02:18.665370226",
          "2024-08-20T15:02:18.732744455",
          "2024-08-20T15:02:18.793458700",
          "2024-08-20T15:02:18.857421398",
          "2024-08-20T15:02:18.927323580",
          "2024-08-20T15:02:18.984479666",
          "2024-08-20T15:02:19.060393810",
          "2024-08-20T15:02:19.115445375",
          "2024-08-20T15:02:19.182053566",
          "2024-08-20T15:02:19.243398190",
          "2024-08-20T15:02:19.304740191",
          "2024-08-20T15:02:19.374708176",
          "2024-08-20T15:02:19.439968586",
          "2024-08-20T15:02:19.500493765",
          "2024-08-20T15:02:19.566367149",
          "2024-08-20T15:02:19.631720781",
          "2024-08-20T15:02:19.691996813",
          "2024-08-20T15:02:19.752685785",
          "2024-08-20T15:02:19.819993973",
          "2024-08-20T15:02:19.889420986",
          "2024-08-20T15:02:19.945078850",
          "2024-08-20T15:02:20.016147852",
          "2024-08-20T15:02:20.082740068",
          "2024-08-20T15:02:20.140391588",
          "2024-08-20T15:02:20.211611986",
          "2024-08-20T15:02:20.267622232",
          "2024-08-20T15:02:20.329037428",
          "2024-08-20T15:02:20.400877476",
          "2024-08-20T15:02:20.459259510",
          "2024-08-20T15:02:20.522083521",
          "2024-08-20T15:02:20.600039244",
          "2024-08-20T15:02:20.650019407",
          "2024-08-20T15:02:20.712558985",
          "2024-08-20T15:02:20.780246735",
          "2024-08-20T15:02:20.843518734",
          "2024-08-20T15:02:20.902980566",
          "2024-08-20T15:02:20.969496489",
          "2024-08-20T15:02:21.043545246",
          "2024-08-20T15:02:21.098949909",
          "2024-08-20T15:02:21.163802147",
          "2024-08-20T15:02:21.232574224",
          "2024-08-20T15:02:21.292226315",
          "2024-08-20T15:02:21.412611485",
          "2024-08-20T15:02:21.461090326",
          "2024-08-20T15:02:21.514377594",
          "2024-08-20T15:02:21.585579634",
          "2024-08-20T15:02:21.630430222",
          "2024-08-20T15:02:21.681182384",
          "2024-08-20T15:02:21.743328810",
          "2024-08-20T15:02:21.801466227",
          "2024-08-20T15:02:21.868949175",
          "2024-08-20T15:02:21.930560350",
          "2024-08-20T15:02:21.992127419",
          "2024-08-20T15:02:22.057843924",
          "2024-08-20T15:02:22.123460770",
          "2024-08-20T15:02:22.190582037",
          "2024-08-20T15:02:22.385959625",
          "2024-08-20T15:02:22.406623125",
          "2024-08-20T15:02:22.459173679",
          "2024-08-20T15:02:22.508291483",
          "2024-08-20T15:02:22.560722351",
          "2024-08-20T15:02:22.607272863",
          "2024-08-20T15:02:22.661085129",
          "2024-08-20T15:02:22.698955536",
          "2024-08-20T15:02:22.759381771",
          "2024-08-20T15:02:22.825728893",
          "2024-08-20T15:02:22.895782709",
          "2024-08-20T15:02:22.956181049",
          "2024-08-20T15:02:23.021456003",
          "2024-08-20T15:02:23.080005169",
          "2024-08-20T15:02:23.144580126",
          "2024-08-20T15:02:23.207614899",
          "2024-08-20T15:02:23.289229631",
          "2024-08-20T15:02:23.349857807",
          "2024-08-20T15:02:23.400171995",
          "2024-08-20T15:02:23.468316317",
          "2024-08-20T15:02:23.529410362",
          "2024-08-20T15:02:23.599021673",
          "2024-08-20T15:02:23.659621239",
          "2024-08-20T15:02:23.730462790",
          "2024-08-20T15:02:23.790312529",
          "2024-08-20T15:02:23.850436687",
          "2024-08-20T15:02:23.913272858",
          "2024-08-20T15:02:24.029149055",
          "2024-08-20T15:02:24.045118809",
          "2024-08-20T15:02:24.106728792",
          "2024-08-20T15:02:24.170419931",
          "2024-08-20T15:02:24.233547926",
          "2024-08-20T15:02:24.304278612",
          "2024-08-20T15:02:24.375125885",
          "2024-08-20T15:02:24.426752806",
          "2024-08-20T15:02:24.496708155",
          "2024-08-20T15:02:24.554205656",
          "2024-08-20T15:02:24.617552519",
          "2024-08-20T15:02:24.686195135",
          "2024-08-20T15:02:24.760207415",
          "2024-08-20T15:02:24.807860136",
          "2024-08-20T15:02:24.876455545",
          "2024-08-20T15:02:24.941790581",
          "2024-08-20T15:02:25.008382558",
          "2024-08-20T15:02:25.066074371",
          "2024-08-20T15:02:25.140570402",
          "2024-08-20T15:02:25.205810308",
          "2024-08-20T15:02:25.257520914",
          "2024-08-20T15:02:25.333059788",
          "2024-08-20T15:02:25.394671440",
          "2024-08-20T15:02:25.450978041",
          "2024-08-20T15:02:25.514000653",
          "2024-08-20T15:02:25.586850882",
          "2024-08-20T15:02:25.641273737",
          "2024-08-20T15:02:25.706361294",
          "2024-08-20T15:02:25.772564888",
          "2024-08-20T15:02:25.834031105",
          "2024-08-20T15:02:25.896715164",
          "2024-08-20T15:02:25.989979267",
          "2024-08-20T15:02:26.024762392",
          "2024-08-20T15:02:26.089249611",
          "2024-08-20T15:02:26.188222408",
          "2024-08-20T15:02:26.218493223",
          "2024-08-20T15:02:26.281080246",
          "2024-08-20T15:02:26.349369526",
          "2024-08-20T15:02:26.408915758",
          "2024-08-20T15:02:26.476541281",
          "2024-08-20T15:02:26.537716150",
          "2024-08-20T15:02:26.606913328",
          "2024-08-20T15:02:26.671022177",
          "2024-08-20T15:02:26.728426933",
          "2024-08-20T15:02:26.792001247",
          "2024-08-20T15:02:26.856270075",
          "2024-08-20T15:02:26.922894239",
          "2024-08-20T15:02:26.982944012",
          "2024-08-20T15:02:27.062229872",
          "2024-08-20T15:02:27.117772818",
          "2024-08-20T15:02:27.176681280",
          "2024-08-20T15:02:27.241223097",
          "2024-08-20T15:02:27.306010246",
          "2024-08-20T15:02:27.374457359",
          "2024-08-20T15:02:27.444693565",
          "2024-08-20T15:02:27.507872105",
          "2024-08-20T15:02:27.562695265",
          "2024-08-20T15:02:27.624082088",
          "2024-08-20T15:02:27.690708160",
          "2024-08-20T15:02:27.756972313",
          "2024-08-20T15:02:27.817291260",
          "2024-08-20T15:02:27.887534618",
          "2024-08-20T15:02:27.956670761",
          "2024-08-20T15:02:28.015558720",
          "2024-08-20T15:02:28.075350285",
          "2024-08-20T15:02:28.141049147",
          "2024-08-20T15:02:28.206633329",
          "2024-08-20T15:02:28.308828831",
          "2024-08-20T15:02:28.328412294",
          "2024-08-20T15:02:28.393704653",
          "2024-08-20T15:02:28.467985153",
          "2024-08-20T15:02:28.521673917",
          "2024-08-20T15:02:28.585394144",
          "2024-08-20T15:02:28.648542881",
          "2024-08-20T15:02:28.713586330",
          "2024-08-20T15:02:28.775563002",
          "2024-08-20T15:02:28.858064651",
          "2024-08-20T15:02:28.909208536",
          "2024-08-20T15:02:28.967791796",
          "2024-08-20T15:02:29.044754267",
          "2024-08-20T15:02:29.101896763",
          "2024-08-20T15:02:29.174269199",
          "2024-08-20T15:02:29.223347902",
          "2024-08-20T15:02:29.288270235",
          "2024-08-20T15:02:29.357653856",
          "2024-08-20T15:02:29.429944754",
          "2024-08-20T15:02:29.481639624",
          "2024-08-20T15:02:29.551261902",
          "2024-08-20T15:02:29.619050741",
          "2024-08-20T15:02:29.672195196",
          "2024-08-20T15:02:29.743817329",
          "2024-08-20T15:02:29.802409649",
          "2024-08-20T15:02:29.870204210",
          "2024-08-20T15:02:29.929674625",
          "2024-08-20T15:02:29.993205070",
          "2024-08-20T15:02:30.063259840",
          "2024-08-20T15:02:30.121053696",
          "2024-08-20T15:02:30.184971809",
          "2024-08-20T15:02:30.253999472",
          "2024-08-20T15:02:30.319680214",
          "2024-08-20T15:02:30.376842976",
          "2024-08-20T15:02:30.445385218",
          "2024-08-20T15:02:30.511816740",
          "2024-08-20T15:02:30.585410833",
          "2024-08-20T15:02:30.636364937",
          "2024-08-20T15:02:30.698356390",
          "2024-08-20T15:02:30.768208265",
          "2024-08-20T15:02:30.832251787",
          "2024-08-20T15:02:30.893371105",
          "2024-08-20T15:02:30.953153610",
          "2024-08-20T15:02:31.020323038",
          "2024-08-20T15:02:31.085214853",
          "2024-08-20T15:02:31.145336151",
          "2024-08-20T15:02:31.209053040",
          "2024-08-20T15:02:31.275628567",
          "2024-08-20T15:02:31.336674452",
          "2024-08-20T15:02:31.404606342",
          "2024-08-20T15:02:31.474096537",
          "2024-08-20T15:02:31.529267787",
          "2024-08-20T15:02:31.591548443",
          "2024-08-20T15:02:31.669923067",
          "2024-08-20T15:02:31.731186628",
          "2024-08-20T15:02:31.783874989",
          "2024-08-20T15:02:31.853004456",
          "2024-08-20T15:02:31.919548512",
          "2024-08-20T15:02:31.975577593",
          "2024-08-20T15:02:32.044359446",
          "2024-08-20T15:02:32.105341911",
          "2024-08-20T15:02:32.170599937",
          "2024-08-20T15:02:32.233540297",
          "2024-08-20T15:02:32.296683788",
          "2024-08-20T15:02:32.362432957",
          "2024-08-20T15:02:32.424155951",
          "2024-08-20T15:02:32.489302397",
          "2024-08-20T15:02:32.558390856",
          "2024-08-20T15:02:32.622975588",
          "2024-08-20T15:02:32.687146664",
          "2024-08-20T15:02:32.749906301",
          "2024-08-20T15:02:32.807499886",
          "2024-08-20T15:02:32.886009455",
          "2024-08-20T15:02:32.937165022",
          "2024-08-20T15:02:33.000575066",
          "2024-08-20T15:02:33.068406582",
          "2024-08-20T15:02:33.133463621",
          "2024-08-20T15:02:33.192821980",
          "2024-08-20T15:02:33.257572174",
          "2024-08-20T15:02:33.324933767",
          "2024-08-20T15:02:33.388277531",
          "2024-08-20T15:02:33.450236797",
          "2024-08-20T15:02:33.514576435",
          "2024-08-20T15:02:33.577020407",
          "2024-08-20T15:02:33.643186092",
          "2024-08-20T15:02:33.704810858",
          "2024-08-20T15:02:33.786421061",
          "2024-08-20T15:02:33.835893154",
          "2024-08-20T15:02:33.897256136",
          "2024-08-20T15:02:33.968865156",
          "2024-08-20T15:02:34.032231092",
          "2024-08-20T15:02:34.091290712",
          "2024-08-20T15:02:34.152712107",
          "2024-08-20T15:02:34.217556477",
          "2024-08-20T15:02:34.288420200",
          "2024-08-20T15:02:34.344680071",
          "2024-08-20T15:02:34.409139872",
          "2024-08-20T15:02:34.491739273",
          "2024-08-20T15:02:34.536132811",
          "2024-08-20T15:02:34.602285147",
          "2024-08-20T15:02:34.671800137",
          "2024-08-20T15:02:34.739990473",
          "2024-08-20T15:02:34.796599865",
          "2024-08-20T15:02:34.858361244",
          "2024-08-20T15:02:34.923528910",
          "2024-08-20T15:02:34.985959053",
          "2024-08-20T15:02:35.051245689",
          "2024-08-20T15:02:35.114219904",
          "2024-08-20T15:02:35.186524630",
          "2024-08-20T15:02:35.240365982",
          "2024-08-20T15:02:35.307219505",
          "2024-08-20T15:02:35.374120235",
          "2024-08-20T15:02:35.435068607",
          "2024-08-20T15:02:35.502814293",
          "2024-08-20T15:02:35.562094688",
          "2024-08-20T15:02:35.627502203",
          "2024-08-20T15:02:35.687851667",
          "2024-08-20T15:02:35.757017374",
          "2024-08-20T15:02:35.815479517",
          "2024-08-20T15:02:35.883457661",
          "2024-08-20T15:02:35.946527243",
          "2024-08-20T15:02:36.015923262",
          "2024-08-20T15:02:36.076918840",
          "2024-08-20T15:02:36.141477585",
          "2024-08-20T15:02:36.212254047",
          "2024-08-20T15:02:36.269061089",
          "2024-08-20T15:02:36.401069403",
          "2024-08-20T15:02:36.415702820",
          "2024-08-20T15:02:36.476120234",
          "2024-08-20T15:02:36.524751902",
          "2024-08-20T15:02:36.588729620",
          "2024-08-20T15:02:36.656764746",
          "2024-08-20T15:02:36.713495970",
          "2024-08-20T15:02:36.785143852",
          "2024-08-20T15:02:36.856444120",
          "2024-08-20T15:02:36.906286478",
          "2024-08-20T15:02:36.971770048",
          "2024-08-20T15:02:37.038597345",
          "2024-08-20T15:02:37.109313488",
          "2024-08-20T15:02:37.164714336",
          "2024-08-20T15:02:37.241803408",
          "2024-08-20T15:02:37.292017698",
          "2024-08-20T15:02:37.357360601",
          "2024-08-20T15:02:37.419152021",
          "2024-08-20T15:02:37.499569654",
          "2024-08-20T15:02:37.556719780",
          "2024-08-20T15:02:37.612350941",
          "2024-08-20T15:02:37.681804657",
          "2024-08-20T15:02:37.750665426",
          "2024-08-20T15:02:37.800620079",
          "2024-08-20T15:02:37.868513823",
          "2024-08-20T15:02:37.937636137",
          "2024-08-20T15:02:37.997366428",
          "2024-08-20T15:02:38.059195280",
          "2024-08-20T15:02:38.123811483",
          "2024-08-20T15:02:38.192901373",
          "2024-08-20T15:02:38.257703781",
          "2024-08-20T15:02:38.311951876",
          "2024-08-20T15:02:38.380110502",
          "2024-08-20T15:02:38.464016199",
          "2024-08-20T15:02:38.504472017",
          "2024-08-20T15:02:38.570107698",
          "2024-08-20T15:02:38.639117956",
          "2024-08-20T15:02:38.699297428",
          "2024-08-20T15:02:38.763996601",
          "2024-08-20T15:02:38.824991703",
          "2024-08-20T15:02:38.892581224",
          "2024-08-20T15:02:38.955995083",
          "2024-08-20T15:02:39.017602444",
          "2024-08-20T15:02:39.081228971",
          "2024-08-20T15:02:39.150828362",
          "2024-08-20T15:02:39.211597204",
          "2024-08-20T15:02:39.276732683",
          "2024-08-20T15:02:39.349095583",
          "2024-08-20T15:02:39.405489922",
          "2024-08-20T15:02:39.466227055",
          "2024-08-20T15:02:39.533651828",
          "2024-08-20T15:02:39.596955538",
          "2024-08-20T15:02:39.658757210",
          "2024-08-20T15:02:39.721477509",
          "2024-08-20T15:02:39.784847021",
          "2024-08-20T15:02:39.848814726",
          "2024-08-20T15:02:39.913841009",
          "2024-08-20T15:02:39.978740692",
          "2024-08-20T15:02:40.055141687",
          "2024-08-20T15:02:40.105005026",
          "2024-08-20T15:02:40.169577837",
          "2024-08-20T15:02:40.232192516",
          "2024-08-20T15:02:40.301141500",
          "2024-08-20T15:02:40.363980055",
          "2024-08-20T15:02:40.424654245",
          "2024-08-20T15:02:40.502946854",
          "2024-08-20T15:02:40.556308508",
          "2024-08-20T15:02:40.615940809",
          "2024-08-20T15:02:40.682437420",
          "2024-08-20T15:02:40.757077217",
          "2024-08-20T15:02:40.808046103",
          "2024-08-20T15:02:40.883944273",
          "2024-08-20T15:02:40.936366796",
          "2024-08-20T15:02:41.002176762",
          "2024-08-20T15:02:41.074617863",
          "2024-08-20T15:02:41.138268471",
          "2024-08-20T15:02:41.198826551",
          "2024-08-20T15:02:41.258303642",
          "2024-08-20T15:02:41.322492599",
          "2024-08-20T15:02:41.385825157",
          "2024-08-20T15:02:41.453613758",
          "2024-08-20T15:02:41.516478777",
          "2024-08-20T15:02:41.578755617",
          "2024-08-20T15:02:41.664737940",
          "2024-08-20T15:02:41.705242872",
          "2024-08-20T15:02:41.771662712",
          "2024-08-20T15:02:41.836927891",
          "2024-08-20T15:02:41.900242329",
          "2024-08-20T15:02:41.965221167",
          "2024-08-20T15:02:42.025212049",
          "2024-08-20T15:02:42.098856211",
          "2024-08-20T15:02:42.162461996",
          "2024-08-20T15:02:42.216889143",
          "2024-08-20T15:02:42.287718296",
          "2024-08-20T15:02:42.351011038",
          "2024-08-20T15:02:42.412981272",
          "2024-08-20T15:02:42.472959280",
          "2024-08-20T15:02:42.543612480",
          "2024-08-20T15:02:42.602368832",
          "2024-08-20T15:02:42.665592432",
          "2024-08-20T15:02:42.731606722",
          "2024-08-20T15:02:42.796190739",
          "2024-08-20T15:02:42.859025002",
          "2024-08-20T15:02:42.921743631",
          "2024-08-20T15:02:42.987928391",
          "2024-08-20T15:02:43.053850651",
          "2024-08-20T15:02:43.115114450",
          "2024-08-20T15:02:43.178860664",
          "2024-08-20T15:02:43.243556738",
          "2024-08-20T15:02:43.310729265",
          "2024-08-20T15:02:43.371588230",
          "2024-08-20T15:02:43.442394733",
          "2024-08-20T15:02:43.502681493",
          "2024-08-20T15:02:43.565409184",
          "2024-08-20T15:02:43.628380299",
          "2024-08-20T15:02:43.695437431",
          "2024-08-20T15:02:43.765447378",
          "2024-08-20T15:02:43.818656683",
          "2024-08-20T15:02:43.883245230",
          "2024-08-20T15:02:43.945189953",
          "2024-08-20T15:02:44.009675026",
          "2024-08-20T15:02:44.075845480",
          "2024-08-20T15:02:44.135784864",
          "2024-08-20T15:02:44.208365440",
          "2024-08-20T15:02:44.269842625",
          "2024-08-20T15:02:44.344428301",
          "2024-08-20T15:02:44.398745775",
          "2024-08-20T15:02:44.467899084",
          "2024-08-20T15:02:44.522106647",
          "2024-08-20T15:02:44.588603020",
          "2024-08-20T15:02:44.651349545",
          "2024-08-20T15:02:44.713465452",
          "2024-08-20T15:02:44.783766270",
          "2024-08-20T15:02:44.844271421",
          "2024-08-20T15:02:44.909726143",
          "2024-08-20T15:02:44.967473984",
          "2024-08-20T15:02:45.037386656",
          "2024-08-20T15:02:45.102091551",
          "2024-08-20T15:02:45.172166109",
          "2024-08-20T15:02:45.227487087",
          "2024-08-20T15:02:45.292939425",
          "2024-08-20T15:02:45.359697342",
          "2024-08-20T15:02:45.418978930",
          "2024-08-20T15:02:45.487732410",
          "2024-08-20T15:02:45.549961805",
          "2024-08-20T15:02:45.616326571",
          "2024-08-20T15:02:45.677319050",
          "2024-08-20T15:02:45.743819475",
          "2024-08-20T15:02:45.813199043",
          "2024-08-20T15:02:45.865628719",
          "2024-08-20T15:02:45.927272081",
          "2024-08-20T15:02:45.996158838",
          "2024-08-20T15:02:46.067193985",
          "2024-08-20T15:02:46.123626232",
          "2024-08-20T15:02:46.191937923",
          "2024-08-20T15:02:46.251148939",
          "2024-08-20T15:02:46.316469669",
          "2024-08-20T15:02:46.378380537",
          "2024-08-20T15:02:46.441873550",
          "2024-08-20T15:02:46.507786036",
          "2024-08-20T15:02:46.576288223",
          "2024-08-20T15:02:46.638680696",
          "2024-08-20T15:02:46.696688890",
          "2024-08-20T15:02:46.775818586",
          "2024-08-20T15:02:46.827747107",
          "2024-08-20T15:02:46.892245054",
          "2024-08-20T15:02:46.962090015",
          "2024-08-20T15:02:47.024994850",
          "2024-08-20T15:02:47.086260557",
          "2024-08-20T15:02:47.147103310",
          "2024-08-20T15:02:47.215975046",
          "2024-08-20T15:02:47.276088715",
          "2024-08-20T15:02:47.338946819",
          "2024-08-20T15:02:47.408558846",
          "2024-08-20T15:02:47.465504408",
          "2024-08-20T15:02:47.531743525",
          "2024-08-20T15:02:47.598091125",
          "2024-08-20T15:02:47.660308361",
          "2024-08-20T15:02:47.719327927",
          "2024-08-20T15:02:47.785126448",
          "2024-08-20T15:02:47.855172873",
          "2024-08-20T15:02:47.917206287",
          "2024-08-20T15:02:47.978836298",
          "2024-08-20T15:02:48.039448977",
          "2024-08-20T15:02:48.105156898",
          "2024-08-20T15:02:48.170488834",
          "2024-08-20T15:02:48.232907295",
          "2024-08-20T15:02:48.303911448",
          "2024-08-20T15:02:48.424147844",
          "2024-08-20T15:02:48.474778891",
          "2024-08-20T15:02:48.525318146",
          "2024-08-20T15:02:48.574520350",
          "2024-08-20T15:02:48.638705730",
          "2024-08-20T15:02:48.694788933",
          "2024-08-20T15:02:48.756630182",
          "2024-08-20T15:02:48.808746576",
          "2024-08-20T15:02:48.879315853",
          "2024-08-20T15:02:48.940842867",
          "2024-08-20T15:02:49.005152702",
          "2024-08-20T15:02:49.090731144",
          "2024-08-20T15:02:49.145848274",
          "2024-08-20T15:02:49.208703518",
          "2024-08-20T15:02:49.259515047",
          "2024-08-20T15:02:49.325878143",
          "2024-08-20T15:02:49.389034271",
          "2024-08-20T15:02:49.456420183",
          "2024-08-20T15:02:49.513288736",
          "2024-08-20T15:02:49.586161613",
          "2024-08-20T15:02:49.645891190",
          "2024-08-20T15:02:49.706012726",
          "2024-08-20T15:02:49.779233456",
          "2024-08-20T15:02:49.833560228",
          "2024-08-20T15:02:49.898226023",
          "2024-08-20T15:02:49.967815876",
          "2024-08-20T15:02:50.028273582",
          "2024-08-20T15:02:50.089180470",
          "2024-08-20T15:02:50.164211512",
          "2024-08-20T15:02:50.221920729",
          "2024-08-20T15:02:50.286460876",
          "2024-08-20T15:02:50.345307589",
          "2024-08-20T15:02:50.408935785",
          "2024-08-20T15:02:50.476115227",
          "2024-08-20T15:02:50.540927410",
          "2024-08-20T15:02:50.601357460",
          "2024-08-20T15:02:50.683282852",
          "2024-08-20T15:02:50.737979412",
          "2024-08-20T15:02:50.793661833",
          "2024-08-20T15:02:50.856802702",
          "2024-08-20T15:02:50.928539276",
          "2024-08-20T15:02:50.990999937",
          "2024-08-20T15:02:51.050350189",
          "2024-08-20T15:02:51.113314867",
          "2024-08-20T15:02:51.180135012",
          "2024-08-20T15:02:51.243540764",
          "2024-08-20T15:02:51.310220718",
          "2024-08-20T15:02:51.375783682",
          "2024-08-20T15:02:51.440604925",
          "2024-08-20T15:02:51.497595549",
          "2024-08-20T15:02:51.571428776",
          "2024-08-20T15:02:51.632876873",
          "2024-08-20T15:02:51.688552618",
          "2024-08-20T15:02:51.755705357",
          "2024-08-20T15:02:51.818155050",
          "2024-08-20T15:02:51.886819363",
          "2024-08-20T15:02:51.949652910",
          "2024-08-20T15:02:52.007593393",
          "2024-08-20T15:02:52.074826956",
          "2024-08-20T15:02:52.138803720",
          "2024-08-20T15:02:52.210093021",
          "2024-08-20T15:02:52.275668144",
          "2024-08-20T15:02:52.333082676",
          "2024-08-20T15:02:52.394371986",
          "2024-08-20T15:02:52.459259748",
          "2024-08-20T15:02:52.531399488",
          "2024-08-20T15:02:52.616756916",
          "2024-08-20T15:02:52.650221825",
          "2024-08-20T15:02:52.711702585",
          "2024-08-20T15:02:52.788189173",
          "2024-08-20T15:02:52.842796803",
          "2024-08-20T15:02:52.903967857",
          "2024-08-20T15:02:52.970984697",
          "2024-08-20T15:02:53.038519382",
          "2024-08-20T15:02:53.152612686",
          "2024-08-20T15:02:53.167658567",
          "2024-08-20T15:02:53.230545044",
          "2024-08-20T15:02:53.297919989",
          "2024-08-20T15:02:53.353726149",
          "2024-08-20T15:02:53.420627832",
          "2024-08-20T15:02:53.480882883",
          "2024-08-20T15:02:53.546744585",
          "2024-08-20T15:02:53.608026266",
          "2024-08-20T15:02:53.677996635",
          "2024-08-20T15:02:53.742529392",
          "2024-08-20T15:02:53.830651283",
          "2024-08-20T15:02:53.866359472",
          "2024-08-20T15:02:53.927977800",
          "2024-08-20T15:02:53.992221832",
          "2024-08-20T15:02:54.059623480",
          "2024-08-20T15:02:54.120739460",
          "2024-08-20T15:02:54.193795681",
          "2024-08-20T15:02:54.249335289",
          "2024-08-20T15:02:54.317995310",
          "2024-08-20T15:02:54.383571148",
          "2024-08-20T15:02:54.442311764",
          "2024-08-20T15:02:54.506179332",
          "2024-08-20T15:02:54.576658010",
          "2024-08-20T15:02:54.637471914",
          "2024-08-20T15:02:54.703898668",
          "2024-08-20T15:02:54.764864922",
          "2024-08-20T15:02:54.824655294",
          "2024-08-20T15:02:54.891189337",
          "2024-08-20T15:02:54.953490496",
          "2024-08-20T15:02:55.032611132",
          "2024-08-20T15:02:55.081305981",
          "2024-08-20T15:02:55.158447266",
          "2024-08-20T15:02:55.210823774",
          "2024-08-20T15:02:55.275956392",
          "2024-08-20T15:02:55.346074104",
          "2024-08-20T15:02:55.404232740",
          "2024-08-20T15:02:55.470694542",
          "2024-08-20T15:02:55.528641939",
          "2024-08-20T15:02:55.594437122",
          "2024-08-20T15:02:55.665844917",
          "2024-08-20T15:02:55.724285126",
          "2024-08-20T15:02:55.791144371",
          "2024-08-20T15:02:55.852353096",
          "2024-08-20T15:02:55.915487528",
          "2024-08-20T15:02:55.984474897",
          "2024-08-20T15:02:56.056498051",
          "2024-08-20T15:02:56.105704546",
          "2024-08-20T15:02:56.178903818",
          "2024-08-20T15:02:56.237900257",
          "2024-08-20T15:02:56.296718359",
          "2024-08-20T15:02:56.362215996",
          "2024-08-20T15:02:56.431545496",
          "2024-08-20T15:02:56.490846157",
          "2024-08-20T15:02:56.555861950",
          "2024-08-20T15:02:56.618054867",
          "2024-08-20T15:02:56.681535482",
          "2024-08-20T15:02:56.746267319",
          "2024-08-20T15:02:56.808086872",
          "2024-08-20T15:02:56.885196209",
          "2024-08-20T15:02:56.941173553",
          "2024-08-20T15:02:57.000983477",
          "2024-08-20T15:02:57.067066668",
          "2024-08-20T15:02:57.138018608",
          "2024-08-20T15:02:57.195511103",
          "2024-08-20T15:02:57.258635283",
          "2024-08-20T15:02:57.336707115",
          "2024-08-20T15:02:57.389498711",
          "2024-08-20T15:02:57.454029560",
          "2024-08-20T15:02:57.516662359",
          "2024-08-20T15:02:57.577827215",
          "2024-08-20T15:02:57.647586823",
          "2024-08-20T15:02:57.707729816",
          "2024-08-20T15:02:57.770277739",
          "2024-08-20T15:02:57.843634605",
          "2024-08-20T15:02:57.905560493",
          "2024-08-20T15:02:57.984967232",
          "2024-08-20T15:02:58.030342817",
          "2024-08-20T15:02:58.103184938",
          "2024-08-20T15:02:58.154094458",
          "2024-08-20T15:02:58.218283176",
          "2024-08-20T15:02:58.289098263",
          "2024-08-20T15:02:58.362024546",
          "2024-08-20T15:02:58.409986258",
          "2024-08-20T15:02:58.476369143",
          "2024-08-20T15:02:58.542753220",
          "2024-08-20T15:02:58.617930889",
          "2024-08-20T15:02:58.667797565",
          "2024-08-20T15:02:58.727853537",
          "2024-08-20T15:02:58.802760124",
          "2024-08-20T15:02:58.860068798",
          "2024-08-20T15:02:58.929995775",
          "2024-08-20T15:02:58.988093376",
          "2024-08-20T15:02:59.054110765",
          "2024-08-20T15:02:59.112466335",
          "2024-08-20T15:02:59.183475733",
          "2024-08-20T15:02:59.242676258",
          "2024-08-20T15:02:59.309902430",
          "2024-08-20T15:02:59.369946957",
          "2024-08-20T15:02:59.437035084",
          "2024-08-20T15:02:59.499349594",
          "2024-08-20T15:02:59.564939260",
          "2024-08-20T15:02:59.626541376",
          "2024-08-20T15:02:59.690696716",
          "2024-08-20T15:02:59.769605160",
          "2024-08-20T15:02:59.822539091",
          "2024-08-20T15:02:59.885165215",
          "2024-08-20T15:02:59.949295282",
          "2024-08-20T15:03:00.010670662",
          "2024-08-20T15:03:00.085540771",
          "2024-08-20T15:03:00.138278008",
          "2024-08-20T15:03:00.206751585",
          "2024-08-20T15:03:00.266874312",
          "2024-08-20T15:03:00.328287601",
          "2024-08-20T15:03:00.396478415",
          "2024-08-20T15:03:00.461751699",
          "2024-08-20T15:03:00.520747900",
          "2024-08-20T15:03:00.584263086",
          "2024-08-20T15:03:00.652987242",
          "2024-08-20T15:03:00.717644691",
          "2024-08-20T15:03:00.778317928",
          "2024-08-20T15:03:00.844145060",
          "2024-08-20T15:03:00.916547537",
          "2024-08-20T15:03:00.970337152",
          "2024-08-20T15:03:01.032670736",
          "2024-08-20T15:03:01.101945639",
          "2024-08-20T15:03:01.165431499",
          "2024-08-20T15:03:01.227845192",
          "2024-08-20T15:03:01.292094231",
          "2024-08-20T15:03:01.357944250",
          "2024-08-20T15:03:01.416323423",
          "2024-08-20T15:03:01.483250856",
          "2024-08-20T15:03:01.549711466",
          "2024-08-20T15:03:01.612559795",
          "2024-08-20T15:03:01.679686785",
          "2024-08-20T15:03:01.740689993",
          "2024-08-20T15:03:01.805357456",
          "2024-08-20T15:03:01.873299122",
          "2024-08-20T15:03:01.929613352",
          "2024-08-20T15:03:01.999979973",
          "2024-08-20T15:03:02.060384035",
          "2024-08-20T15:03:02.120594025",
          "2024-08-20T15:03:02.191109419",
          "2024-08-20T15:03:02.255161285",
          "2024-08-20T15:03:02.314748526",
          "2024-08-20T15:03:02.384042025",
          "2024-08-20T15:03:02.441551685",
          "2024-08-20T15:03:02.516515254",
          "2024-08-20T15:03:02.573863745",
          "2024-08-20T15:03:02.636080980",
          "2024-08-20T15:03:02.704131842",
          "2024-08-20T15:03:02.767637730",
          "2024-08-20T15:03:02.827582121",
          "2024-08-20T15:03:02.892561913",
          "2024-08-20T15:03:02.957124710",
          "2024-08-20T15:03:03.024444580",
          "2024-08-20T15:03:03.084048986",
          "2024-08-20T15:03:03.150004625",
          "2024-08-20T15:03:03.227559805",
          "2024-08-20T15:03:03.280505419",
          "2024-08-20T15:03:03.348907709",
          "2024-08-20T15:03:03.428015232",
          "2024-08-20T15:03:03.476912498",
          "2024-08-20T15:03:03.530843735",
          "2024-08-20T15:03:03.602569342",
          "2024-08-20T15:03:03.660551786"
         ],
         "xaxis": "x2",
         "y": {
          "bdata": "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",
          "dtype": "f8"
         },
         "yaxis": "y2"
        },
        {
         "marker": {
          "color": "lightcoral"
         },
         "name": "Distribution",
         "nbinsx": 30,
         "opacity": 0.7,
         "type": "histogram",
         "x": {
          "bdata": "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",
          "dtype": "f8"
         },
         "xaxis": "x3",
         "yaxis": "y3"
        },
        {
         "line": {
          "color": "lightcoral",
          "width": 1
         },
         "mode": "lines",
         "name": "Raw",
         "opacity": 0.5,
         "type": "scatter",
         "x": {
          "bdata": "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",
          "dtype": "i2"
         },
         "xaxis": "x4",
         "y": {
          "bdata": "v4JscsEG4j9/MSxlgwTiP1y53EgN8eE/V02YyVcC4j9Vwb9lzf7hPx0ACfJrCeI/mmvZR6oe4j9OmKHniyXiP/fBDlv3GeI/itmY5FkP4j9ptoLVJxTiP/71OgutEOI/6uttLSEU4j+W5agWsSHiPw2AGF9gMuI/HILKeQgo4j/4vr5MmxTiP8JRr0FsGeI/nl+ofxAd4j8YzFQ7tiTiP6hOWx5LJOI/AyzgvCgi4j9OllfVwBniPxb/AmFIE+I/RjuHD68d4j8GTABKCR7iP/v9DM9HMOI/H/g3JplI4j9OrcKwcjniPynSE6MiOeI/E4x4/C1M4j/59xZacVHiP8CqkldQTOI/JiJxEixe4j/CdPslYoHiP7dB4sz8ueI/RlFeOTj14j+JYkq31kDjP26v5Mv6c+M/G2x9J3zD4z8Rtqa6MxrkP9QxRxWnXOQ/XO4GvK+s5D9QSkhQxP7kP+IpFkW9e+U/me6YAizS5T/AC/sHWjDmPwL74Y6gr+Y/3HqS0uI15z+xYPsYk7jnP5pBv2LdPOg/yHNrgxG46D8o56vynyfpP/TAl+ZD2ek/dlRwfUxP6j/uZHBSI7jqP7Hv51rOOOs/FyTTxrS46z+dt/EWwD7sP6Ln7pprx+w/yG3x39Ux7T86lfjr6Z3tPwd6UjDC/+0/9QEYoyFn7j/ZEkaAIs7uPy1GM/ilQO8/Tm2ucuic7z/oJcVV9fzvP3tS6KQTOPA/ML4AFW5w8D+hpPkrLaTwP03GNwUMyvA/n7mCMzEK8T/bOt6BUzrxP1MtOW/nWfE/YFUDCLBz8T/ORMFAQIfxPyhvZtLPsfE/RCO2d+fL8T8xylRp8NfxPxsEwfVs6vE/QJ4wB2/+8T+KAemjFQXyPwWKIILxGvI/U6f6SPEm8j8LodDQATfyP9sIi0x6QPI/NnE7aLFR8j+6F1DlJGHyP34X7CTGaPI/IoF7ANdx8j9WmTVeGXjyP34wigfZcfI/5CISnN1j8j98fd62P1LyPxp6ofgIRPI/slAB1D0x8j/nXuoaOyjyPzDJea6CEvI/ht1/5CX/8T87X/tksPzxPzwACJmL7PE/aYILsJvT8T8BHGvagcfxP2OpUWaesfE/hZ76jI+b8T9yE8n7gozxP7GvoW4Zh/E/d9s7fE6D8T9vpt1GyHTxP1uS5TAabPE/PyJfpWdC8T+3OELVUCHxP84bq/77A/E/DrNRNRfy8D+7MokW/drwP/eatgEEyvA/wTY8HiC+8D9YJSamqavwP5QrijWVjPA/k5vAtxR68D8rocxW1VvwP6r/q2IoQfA/WrvhZsAw8D+osweEHxnwP6gLNv1sAvA/cxtTHUTk7z/iz9y5grLvP76TuX8Bou8/i3uvxbeM7z+O9zpcwmjvPzwojyj5R+8/qHClA7gV7z+mhzJjCvzuP1L0H3Jb9e4/Ij001s/67j+qstgdb//uP9Qh/6FK+e4/uLDiTYX97j+i5HyR6S/vPyLu2r6fQ+8/0GS9e2Ne7z/SnJIq8Y3vPyHYmVbUm+8/26GB0ku57z/WMnkME87vPwm0IYzW0e8/sVAVk3nu7z9GO7dIAAzwP8EzvBz+FPA/nxwbZUsk8D9jvA2VkB7wP14N5RZ0IvA/WbOkWFwe8D+5JOraJx7wP+WJvDLuGPA/adOeJp4J8D981jIb4/3vPzwRhx4mE/A/ip8IJB4a8D9dySJlnRHwP7QGu4/kB/A/0kRIy7P67z8dHpltYeXvPyE3R9jj5u8/4nMFdL3c7z/UXd3QjqnvP8O2PoVojO8/ixVCnqhy7z+4PrQUM0rvPzgCdWSJJO8/BWNm9PAW7z9xR9HybAzvP2SyO/No8u4/H+V80fjk7j/fWoKC1NfuPy83sEt53O4/gmnRuh7Y7j8LfRuZ4NXuP1v2SKFa2e4/Lfr6NbDg7j+sBPs9J9ruPxJMsrxEwe4/BXt3kjrQ7j93xYeKGtXuPw0Yk6w07+4/UifnNoHs7j/8sambFv3uP9shuFGiC+8/ccCTsLgm7z+AoqqS4TLvP0X9/Hs9VO8/AO7DKt817z8AuGk6KwbvPzF5p8ak/u4/KCpTHkfw7j/fsKpeLODuPzENM8Vk4u4/AhhVajDi7j8dP9V3A/HuPx8eZ3Hk8O4/2FoHvqXf7j9SEvtBhs/uP+hy8zXFye4/oXxBtbik7j9C30b0MZHuP4kppyQ8fO4/m2AFRw9R7j+xf60/50fuP5ioPNpmI+4/tbnlkn4n7j9YhS//YSLuP2xY/TsUCe4/MxvSZHsG7j+ZluyCy+PtPzrq019rx+0/qqUwl2au7T/i3MlOl6btP3xprcaRou0/TUlrNgeZ7T8hJ0yGqa/tP6gZJWV2uu0/L7AP2vbC7T+OCck+vcDtP00fPYLfwe0/rF1BnCnO7T/kF7MB2crtP1tKB9kSqu0/b0zuLZri7T+S+ewaT/LtPzX/VGRh+e0/QChOT5317T+kDztL0hTuP/iDNu/jEu4/M/LeTm/87T8+R2dgUtjtP4djyOO8zO0/b5cJdDmt7T/vZIqs57DtP/x9Xt8+tO0/4Zj4ZH667T8URnbwqsvtPya2zxaDs+0/wyluc4Co7T/kcC2Gq57tPxDrIkfFm+0/woaPTyyi7T86plCa4KntP006V2uDi+0/M5HGkzOV7T9+4Yso4XbtP0AZsXpIbe0/d9Ih1Apc7T9b8PV7p17tP1h34JbhZ+0/G0cuH+eH7T+s1FyhMbntP8AkYpDwze0/QFj3kmPp7T9W38YmcAPuP0nnJcDRHe4/yf0Voust7j/YVztZz0PuP/7WE36MY+4/QixkQvBZ7j8qNGU4IUzuPyZGNFiSRO4/eFIkriVD7j9Qpwb/WjruP8IBPi0UPO4/XwEg02U37j+JGTMZvj7uP1kW6LWgRO4/+pokfrxA7j8+Wf88WT7uPxSZbT9PNu4/6PQqQnsu7j8qZtGvLi/uPzM0oaNyMe4/KjaGrFQ17j9Yk9vHHEPuP1kwZbtEU+4/7KXt6ntk7j9sXZbCNmjuP5hKTo6Fae4/pEJNish57j8SJJMBwYXuPxL7YPsMge4/YWuHYzCB7j8t7/eZXWzuPxnD3ZpUY+4/vi48zgxS7j9LemPKMkLuPyqsOuAPLe4/IWvBqf8A7j/qz2Wqs9jtP2xSrS3Dy+0/AqlpEkSg7T/SnV9BPIvtP3Gcpd1LiO0/JMQvSyuL7T+Fwv8682ntPxuiDsZvTu0/yOQ5VYpB7T/ko/x+zhftPwxNo+OHI+0/WpPjf7gh7T/ezAe54yvtP+KkkR6nTe0/LSX4n+Fi7T+krk8gQ47tP9hIESJOou0/ZmEb3Gyb7T+NaeUD4pbtP3iQ5oESn+0/yXz+zWu57T9z6TFBo8jtP8UJIqIuv+0/t3wsfe+/7T/fWvmh7cjtP/EO5SXCtO0/wwMKiXqM7T8mQogvr27tP9CnFEXSX+0/gGP994xd7T8ZuB1ybUDtP7VN60u9KO0/nS5XjeAZ7T+K8ZXdCCHtP+D80QoVKu0/ZhWrpzgf7T/OdhtyjCPtPyFVeBMqH+0/kpUrS+ss7T+vFyGyriTtP8jgIvRrL+0/HqfzhYYs7T/dEHNddTrtPyI0nW0TWu0/wEw59iJs7T+1D5vuXnHtP4IFv2JWfu0/NcTwd2mU7T8ZQgku0KntP0u5Cvb8su0/gNrQxevJ7T/Uq8vJKODtP2El7k9l3e0/+DyHlE3k7T9OwQxm+/3tP4eDqm/KBO4/zQq74qEY7j/oSfUNnwvuP4Wgs0zlDO4//qX6w4YT7j/WQTPCVxjuP/eWrSfUGO4/VHPROgER7j+USPkZ+fztPxCayNZF/e0/JuYYpIv87T+ZTJFPivXtP1I9Y8Gx6+0/SeDEujjg7T/HZK+en9ntPxiiKQNc2O0/WTWTsY/r7T/ZDMq9RuDtPwmaIs4szO0/kKZiXF3W7T8iQBf6mcrtPxIyQCitwu0/XRFVqxDR7T8fAuL4KNntP5j/Qge2z+0/VvTlPjnO7T9SZbjqo8DtP0vTVhuuwu0/ZMdT5JGu7T9i9QiSyartPwDTVNnnne0/Tn5qqOyi7T9v4L8mqJztP9n+vE+SnO0/JAD3iO+P7T/xYi7rnH3tP5iK4jF1dO0/d1K0WzVm7T+HOp/cBWrtPy3wZq2VSe0/uIP3ZOhM7T9m2o5E80vtP9mo21wDVu0/C/6O8M9x7T9OcSYu8mDtPyIldbvCc+0/FJvq0ZBp7T9viOD88G/tP/ovxzzIgO0/RZpAaRKX7T+Aw91VsJ7tP12+9qV0oe0/UDP4nh+l7T9NAASFa6XtP8MrQwDqoe0/LSXJceWa7T+NePJqI6ntPwOypwcMne0/r+DQBi+R7T/sUroSCJXtPxlmgkiVnO0/LwmEEcOY7T9ds63VIovtP12cBUdEe+0/WIkiLT5r7T9AdtVMPGDtPz0CxXzKNu0/wsviMMgr7T+l2E6+yDbtP7vMUXB+Pu0/Jsfw/lxI7T8Se+frz1PtP6r3U82UXO0/4c7on3FS7T8swS31wlrtP857yF0hde0/gzaN7YNq7T+h1ICtI2LtP1/7OzTkXu0/uixzDXFX7T+vKsNg2GDtP8U071acb+0/C5ewFMwf7T8lCcX4ZSXtP5YETNHgQu0/y/MrbLdZ7T/dlGabNXbtP5j0VT8ehO0/eSnNwO0u7T/dwEKxA2PtP0+7UE8vIe0/EPJfgBhC7T8WpDkVB2XtP77Y86n3fO0/dZro3xku7T+/6JS8AO/sPyrFKrBmwew/ZGi5u7YF7T8XjvvMwyPtP5+evHRf0ew/E5bgj0ig7D8lf668Z3LsPzaRjbp/duw/xOHovdZk7D8JuzBw+m/sP7jXacbiaew/uzkDFxdG7D9toSzF5wrsPy1L5ERRpew/SLgy2K++7D8maf1A7kftPxiqC67Wvu0/tYiZsW4J7j8q7VbJs1buP7XOkkltlO4/aGEHZ1/V7j8m/2vvyeLuPwmaCDo+Ee8/EFzCy00a7z9DUmUw6T7vP8lUXU5reu8/aM72rGeN7z8dhTlo3ZfvP/4s7Fvsq+8/Wdsunm617z8sr24GYb/vP5nVCfhCre8/Uib380GJ7z+CphCYsWPvPyhcgsmyUu8/h3bdUiNX7z+vy+uoVBnvP0OLm6Bg8u4/x4eT5yKF7j9U4J4cr1zuP3c4YYnZLe4/SwTbjEcR7j910kP9X7LtP7wyHbNAju0/tZscFZhv7T9G4E/2OzntP9JCaQvuGe0/jFnYAjgU7T+4OrVmgxHtPxc8zud2C+0/VCvX/tgW7T8MkMQf+S7tP8c7uowgLe0/TZxyMgZT7T/QzVXsMVHtP1SHG+8JbO0/+vvFef+X7T/vDiTmwMLtP7H1po6d4e0/zYQbgvYA7j9xnaBWzADuPwIfI1UUHe4/ZqCSVsIB7j/AKJtMMPntPzwh1oXs8e0/gxbr3/nz7T/ZCHBHI8rtP63Mpgw3w+0/mxBYb+no7T/o5NkxqdLtP1C0Voqy+e0/OIrCWzT07T8HbD0xdA/uP1LehHKuIO4/mEQjSqsK7j8t8HMv9QTuPw7kW1yp/+0/0koHoJvy7T8hinaC1PntP8VDRHrgEO4/anQvKfMh7j/tyHOUFkbuP1ZUNDqGae4/NbaeR7p67j9mA/VQWWLuP6RYH7uOWe4/ISeJ4P567j8hUr8p/5zuP82Oe9f8mu4/0LOUuM+i7j+vK2dSfJ/uP3OHv7w8ne4/M0IVO7uW7j+SoCNguYfuPwMa39Vwde4/m7i++zJ17j9UJ4Sg4GXuPxgUDe86ae4/Pj9EzfmG7j9F+B/GAajuP52AwZdKrO4/KBzjqC+z7j8Q94LHFp/uP87UYLV+o+4/97u6Zx2w7j9HaVxTrMHuPySnldV4ue4/WDHssCLO7j9x1LRpfM7uP5v7nFup5u4/6PF/B37T7j9F4tY1advuP/pazAYC4+4/qnOeW0Pu7j/v03Bg2/7uPzqGdJwAC+8/icFSEyQN7z9JnTKBLBvvP9Kt7XX/LO8/LR1jRQY77z8LbXu8WkfvPxsYu3jCRO8/bIPR9lFE7z+WLyjXPlbvP6Q83Iw8Pu8/NSKt4DQe7z94Ezgr6gjvP29ACG3e+u4/G5qpBZP27j+HOOfPCufuP6qaBwhUBu8/N4tIqkYf7z/JGeUXmC7vPyRMXFRnJe8//gpZgj8w7z9kAL2iHjvvP416I2ZENe8/Zju+ooQ27z/O/hI1HSvvPzEGtloPGO8/7zVVpGQW7z8DAlRNKE7vP1/klqFnDO8/sRo4TVXq7j+Cor5c1c7uP8UYig4rsu4/8aDuKXOI7j9vVWJI/F/uP2gpBkuwYO4/LT1+enUs7j9U8vWeMRnuP2xBN5V/CO4/9Zd78hb77T93e4fLmtHtP03K/9Zox+0/vk3aeae37T+QWRrRSsftP2F4O4KO3O0/IsyHL+nv7T83ipODQgLuPx+9bpum/O0/ui3yyWQN7j/3L8hs8SDuP1TRZhEYLu4/zhIUwzxH7j8Ae2TmOmvuP3wTvaJxlu4/3xsVKTeV7j98SBwd85buP7cjnDPUlO4/JtM5w6R87j9HogjjdY7uP+L35FYSk+4/wtl5oVOB7j8YPtBR1nXuP1/FyLhOZ+4/h72ui91X7j843tfMA1juP8eC12YyVe4/iyjne0097j+xfww09iXuPyYbwi4pE+4/vhz46eMO7j9dblIJnBTuP4lvajDjDu4/plzXzgYk7j8+M8hnszLuP3dXhflLQO4/M6b4jItG7j/CNOgRzknuPzM1t+k+Uu4/ncgwQ2NS7j9h8heYN1fuP2pNgF0yTu4//s43tuFS7j8NJ7ledmLuP6z8aIk4ge4/SRAY629/7j+66ndH7XfuP/XvSVL6eu4/rPi1LZyY7j91sIEvJLzuPzrJ2HPAy+4/6pnbOI3b7j+LXuw8SvPuP7rtP5c47O4/Rw76KW/W7j8z+5KMwcjuP6a5mQ3kru4/QKjDMdGo7j+b9PZWtaDuP81jxMVPpu4/XYhZvbqu7j+F3xxWaMPuP6pc1WZn7u4/h7t0GeAh7z9XzRXGJ2TvP68eKT4Uu+8/e9+RJToQ8D/JYoVbZ/nvP/vgaowNFvA/fp7hjXM18D+LDEEBBRLwP3cEcQfl6e8/DjwdVTIy8D9Cev5vCGbwP7b/6p+HPvA/wFMujiR98D+xL9Kh7q3wP7LYHIqtfvA/OHcolQzC8D++slHrSqzwP4ACP2zx6vA/HznqKX878T+ZP+YIzZjxPzlstfCSzPE/b5otjy//8T+/wDcuDEfyP5debkv0hvI/nYlxOkC98j8ehNy/9fLyP7Z9z55GM/M/T5YrBet28z96nYHGy6rzP4SdlFGR6fM/JZ55jIno8z/XUvuiNg/0PzW8eRLtdPQ/w5udWdjB9D9St41E/fv0P6Ow1NhYMfU/RV99BbVn9T+YVhlZfZf1P0V+8e+VwfU/TqJMhMbD9T/xD+BtreL1P1+sF3CU/fU/Gtbz47oO9j8K8apUcxP2Px/ITweZG/Y/vBldXKoo9j+fKiY5ujX2Pwviw13iO/Y/smmE/tgv9j/rjkVXWh72P6L1r/rkF/Y/MPYNgI4L9j+4qyluPxb2P0MoP+U3C/Y/9OTO/ZUN9j9J/NE8dBL2P86qP0EhHPY/T7QxcXwj9j/7GxlpnCn2P4b0ldclL/Y/bfpYJso09j/G1Qw4VjH2PyeWehUeOfY/J/La36FC9j9VfvUqD0z2P07imfGlU/Y/n0cioDRf9j9mSB4ddWf2P94zLh0TZvY/ExC5fDBk9j/O098OjXD2P7JI1SuScvY//7xcXB989j+SBiWQiID2P/nv4sY+d/Y/zf046WGE9j/0C/IAJ5f2PzNCGE+UmfY/+F8QcUOs9j9tjxyu7LP2Pxmn+Fe5u/Y/+NPWASvJ9j/o3B1S1NT2P0N80gzy5vY/B/z89hH39j88PGp3KgL3P+7iqlVwAfc/2EvlaukA9z/OzVQRaw73PyDfPILaFfc/I5/yg3Uh9z+wOlEAcin3PwFyXzDwLfc/2sWzcBEw9z/ON/zilyz3P7IcbomuM/c/RtCYZ9gz9z9tI2oBUTf3P7WOt8OZKfc/KRJ9p68m9z+Yomu/bxP3PxiQreiyBvc/MF2ore319j+Jt2LphvP2P5wvdWmy7fY/tG85xbzr9j/bgc0lTOH2P6wZvcJj6PY/EWgkTZ3v9j+39Wisn/L2Px9YRHlC9PY/xo4HGGj29j84i3yVLgX3P9e2/QMTCPc/WOv4aTsX9z9BBmq+rij3P/gy0xAsQ/c/xOA3gxpc9z9jWDOy4Wn3P1Q+Lzj7fPc/Tu2qEaaU9z8LHr7GmrH3PwjXJmRJ2fc/mKv1D0oI+D+uL5MxfDv4P+Qp4Au8bPg/nq0wMqml+D9qvemKkeb4P14K+F4hH/k/+dkkXX4q+T8zL9CUoTb5P//WmwDSOvk/dT+pO+Ym+T8nsRCrUir5P7P7OqVZLPk/8DwBEZUq+T8jBxOa2iX5P0dPdco4GPk/ZlVbHFcM+T98XfMhf/r4PwZ5yntB8/g/78AELjLt+D+R9k3pqOL4P0KKjbUjw/g/Vqco5Xes+D+UvoIs+uf4P+Hi3bUg2/g/ndqR7M7t+D+tjQIuAAb5P6Pc29oiEfk/fCswAdwj+T94IaI1Pkz5P7IG/sDVbPk/C1/oS3OT+T9n3oos7rz5P2S7rHiS/Pk/Q/X/ik4g+j9NjwYaZET6P6BjHLSdS/o/k/l4JhRz+j8cuH+23qD6P2CywV8buPo//tj/VenK+j+8WqIcquD6P20d5CQP7fo/T0Q2omDr+j9fv94kaPP6PyVxi2WK6/o/7/gPCsby+j8QHAEFQ/r6P5sH+eU25vo/DW/Vb7j8+j8I2duphgb7P2DwfTcNFPs/bSjDyCoH+z8JwDyMovn6PziUDulUIvs/nH/aZRot+z/CwAYdfjP7P83P4htGSfs/blVqlKpZ+z/t8Na1xHX7P75D4ZDXfvs/d1jnO3p1+z8zzpUjT337P5SUCBCnmfs/pQOgxdXF+z/KJFE5Kef7PxvrXCS3Cfw/PPoV91cS/D+5ihR7EiX8P++fSkWcTPw/RXIDGilT/D+iDtwcEWb8PznrIXUxmPw/E2BaHlbQ/D/0JmYQa+L8P6CAJUo7Df0/Q4b3eN1a/T+YKkhZ36j9P6oelNXp4/0/Jv4PVn4C/j8L96+og0/+PxTBd9qU0f4/bz1wTBlD/z+xwtVJrsL/P2+qHApKDgBAEMnDbdpsAECBVE3/IsQAQGwF2TVdKAFAqapkPUWTAUAHMDz5MwACQFI3Wi0UeAJAH3tFyJfvAkAaddhgVGsDQJA2/qiSHgRAUB9de6S2BEC9BdJBVEEFQA6gCcPB5wVATN/r7FKCBkDYlUygIDIHQMA1skAW5gdAdyp6qAnFCEAFnnUnXMgJQKNWLxTRHQtAmAh6ttXPDED1P6jQDJINQEJP+pZC+Q1A6mE2QJ6kD0DWcIjmKgYPQAmkQu6z3g5AYgT+H9K3DkA32e5e0jcOQG+KPrHS+A5As4YIwJCxDkDDNw1KgIEOQMCZ1r+4Qg5AAlnAqkxPDkAxGOQ0rQ0OQE0gQCaFAA5AZCFgitdzDUCv0E+MMm8NQCI9NJEB8g1APrNL7O4WDkCJPYnCSFAOQG0VeFKyfA5ArF+ThYmgDkAUYYJZZ+UOQO2LzEXnKw9A8X2wbyZ4D0BDEFpKcqMPQIOEbEMRVw9AL+Rhn2rtD0BZK0llRyIQQOA5FsPYOhBAWzUPRR5TEEB9byjVd1wQQOErZ9kSXhBAaOMgjjNtEEASaHg8LYQQQGp5EuMHkxBA+Ia8UXG3EECnEq/O1c8QQJQ4knOQ1RBAITQ+RRLsEEA/vnfrrv4QQHTraZn3BxFAP2OH+AEsEUA6aR4ASEgRQMW+9jhjVBFA72CG3ZFUEUAZdm9NUWwRQKhswtZSbhFAN6APj0uREUByN2VxVcQRQDUt7zsUuRFAFNgr4IPYEUAmoMJRP94RQPXED2Qa9hFAbyJqAkoXEkDoAempPUsSQJu+pR3AeBJAjgB6Y1SjEkDFGZGCxZASQA==",
          "dtype": "f8"
         },
         "yaxis": "y4"
        },
        {
         "line": {
          "color": "darkred",
          "width": 3
         },
         "mode": "lines",
         "name": "Smoothed (n=47)",
         "type": "scatter",
         "x": {
          "bdata": "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",
          "dtype": "i2"
         },
         "xaxis": "x4",
         "y": {
          "bdata": "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",
          "dtype": "f8"
         },
         "yaxis": "y4"
        }
       ],
       "layout": {
        "annotations": [
         {
          "font": {
           "size": 16
          },
          "showarrow": false,
          "text": "Distance vs Frame",
          "x": 0.225,
          "xanchor": "center",
          "xref": "paper",
          "y": 1,
          "yanchor": "bottom",
          "yref": "paper"
         },
         {
          "font": {
           "size": 16
          },
          "showarrow": false,
          "text": "Distance vs Time",
          "x": 0.775,
          "xanchor": "center",
          "xref": "paper",
          "y": 1,
          "yanchor": "bottom",
          "yref": "paper"
         },
         {
          "font": {
           "size": 16
          },
          "showarrow": false,
          "text": "Distribution",
          "x": 0.225,
          "xanchor": "center",
          "xref": "paper",
          "y": 0.375,
          "yanchor": "bottom",
          "yref": "paper"
         },
         {
          "font": {
           "size": 16
          },
          "showarrow": false,
          "text": "Trends",
          "x": 0.775,
          "xanchor": "center",
          "xref": "paper",
          "y": 0.375,
          "yanchor": "bottom",
          "yref": "paper"
         },
         {
          "showarrow": false,
          "text": "Mean: 1.28",
          "x": 1.2755806126643197,
          "xanchor": "left",
          "xref": "x3",
          "y": 1,
          "yanchor": "top",
          "yref": "y3 domain"
         }
        ],
        "height": 800,
        "shapes": [
         {
          "line": {
           "color": "red",
           "dash": "dash"
          },
          "type": "line",
          "x0": 1.2755806126643197,
          "x1": 1.2755806126643197,
          "xref": "x3",
          "y0": 0,
          "y1": 1,
          "yref": "y3 domain"
         }
        ],
        "showlegend": true,
        "template": {
         "data": {
          "bar": [
           {
            "error_x": {
             "color": "#2a3f5f"
            },
            "error_y": {
             "color": "#2a3f5f"
            },
            "marker": {
             "line": {
              "color": "#E5ECF6",
              "width": 0.5
             },
             "pattern": {
              "fillmode": "overlay",
              "size": 10,
              "solidity": 0.2
             }
            },
            "type": "bar"
           }
          ],
          "barpolar": [
           {
            "marker": {
             "line": {
              "color": "#E5ECF6",
              "width": 0.5
             },
             "pattern": {
              "fillmode": "overlay",
              "size": 10,
              "solidity": 0.2
             }
            },
            "type": "barpolar"
           }
          ],
          "carpet": [
           {
            "aaxis": {
             "endlinecolor": "#2a3f5f",
             "gridcolor": "white",
             "linecolor": "white",
             "minorgridcolor": "white",
             "startlinecolor": "#2a3f5f"
            },
            "baxis": {
             "endlinecolor": "#2a3f5f",
             "gridcolor": "white",
             "linecolor": "white",
             "minorgridcolor": "white",
             "startlinecolor": "#2a3f5f"
            },
            "type": "carpet"
           }
          ],
          "choropleth": [
           {
            "colorbar": {
             "outlinewidth": 0,
             "ticks": ""
            },
            "type": "choropleth"
           }
          ],
          "contour": [
           {
            "colorbar": {
             "outlinewidth": 0,
             "ticks": ""
            },
            "colorscale": [
             [
              0,
              "#0d0887"
             ],
             [
              0.1111111111111111,
              "#46039f"
             ],
             [
              0.2222222222222222,
              "#7201a8"
             ],
             [
              0.3333333333333333,
              "#9c179e"
             ],
             [
              0.4444444444444444,
              "#bd3786"
             ],
             [
              0.5555555555555556,
              "#d8576b"
             ],
             [
              0.6666666666666666,
              "#ed7953"
             ],
             [
              0.7777777777777778,
              "#fb9f3a"
             ],
             [
              0.8888888888888888,
              "#fdca26"
             ],
             [
              1,
              "#f0f921"
             ]
            ],
            "type": "contour"
           }
          ],
          "contourcarpet": [
           {
            "colorbar": {
             "outlinewidth": 0,
             "ticks": ""
            },
            "type": "contourcarpet"
           }
          ],
          "heatmap": [
           {
            "colorbar": {
             "outlinewidth": 0,
             "ticks": ""
            },
            "colorscale": [
             [
              0,
              "#0d0887"
             ],
             [
              0.1111111111111111,
              "#46039f"
             ],
             [
              0.2222222222222222,
              "#7201a8"
             ],
             [
              0.3333333333333333,
              "#9c179e"
             ],
             [
              0.4444444444444444,
              "#bd3786"
             ],
             [
              0.5555555555555556,
              "#d8576b"
             ],
             [
              0.6666666666666666,
              "#ed7953"
             ],
             [
              0.7777777777777778,
              "#fb9f3a"
             ],
             [
              0.8888888888888888,
              "#fdca26"
             ],
             [
              1,
              "#f0f921"
             ]
            ],
            "type": "heatmap"
           }
          ],
          "histogram": [
           {
            "marker": {
             "pattern": {
              "fillmode": "overlay",
              "size": 10,
              "solidity": 0.2
             }
            },
            "type": "histogram"
           }
          ],
          "histogram2d": [
           {
            "colorbar": {
             "outlinewidth": 0,
             "ticks": ""
            },
            "colorscale": [
             [
              0,
              "#0d0887"
             ],
             [
              0.1111111111111111,
              "#46039f"
             ],
             [
              0.2222222222222222,
              "#7201a8"
             ],
             [
              0.3333333333333333,
              "#9c179e"
             ],
             [
              0.4444444444444444,
              "#bd3786"
             ],
             [
              0.5555555555555556,
              "#d8576b"
             ],
             [
              0.6666666666666666,
              "#ed7953"
             ],
             [
              0.7777777777777778,
              "#fb9f3a"
             ],
             [
              0.8888888888888888,
              "#fdca26"
             ],
             [
              1,
              "#f0f921"
             ]
            ],
            "type": "histogram2d"
           }
          ],
          "histogram2dcontour": [
           {
            "colorbar": {
             "outlinewidth": 0,
             "ticks": ""
            },
            "colorscale": [
             [
              0,
              "#0d0887"
             ],
             [
              0.1111111111111111,
              "#46039f"
             ],
             [
              0.2222222222222222,
              "#7201a8"
             ],
             [
              0.3333333333333333,
              "#9c179e"
             ],
             [
              0.4444444444444444,
              "#bd3786"
             ],
             [
              0.5555555555555556,
              "#d8576b"
             ],
             [
              0.6666666666666666,
              "#ed7953"
             ],
             [
              0.7777777777777778,
              "#fb9f3a"
             ],
             [
              0.8888888888888888,
              "#fdca26"
             ],
             [
              1,
              "#f0f921"
             ]
            ],
            "type": "histogram2dcontour"
           }
          ],
          "mesh3d": [
           {
            "colorbar": {
             "outlinewidth": 0,
             "ticks": ""
            },
            "type": "mesh3d"
           }
          ],
          "parcoords": [
           {
            "line": {
             "colorbar": {
              "outlinewidth": 0,
              "ticks": ""
             }
            },
            "type": "parcoords"
           }
          ],
          "pie": [
           {
            "automargin": true,
            "type": "pie"
           }
          ],
          "scatter": [
           {
            "fillpattern": {
             "fillmode": "overlay",
             "size": 10,
             "solidity": 0.2
            },
            "type": "scatter"
           }
          ],
          "scatter3d": [
           {
            "line": {
             "colorbar": {
              "outlinewidth": 0,
              "ticks": ""
             }
            },
            "marker": {
             "colorbar": {
              "outlinewidth": 0,
              "ticks": ""
             }
            },
            "type": "scatter3d"
           }
          ],
          "scattercarpet": [
           {
            "marker": {
             "colorbar": {
              "outlinewidth": 0,
              "ticks": ""
             }
            },
            "type": "scattercarpet"
           }
          ],
          "scattergeo": [
           {
            "marker": {
             "colorbar": {
              "outlinewidth": 0,
              "ticks": ""
             }
            },
            "type": "scattergeo"
           }
          ],
          "scattergl": [
           {
            "marker": {
             "colorbar": {
              "outlinewidth": 0,
              "ticks": ""
             }
            },
            "type": "scattergl"
           }
          ],
          "scattermap": [
           {
            "marker": {
             "colorbar": {
              "outlinewidth": 0,
              "ticks": ""
             }
            },
            "type": "scattermap"
           }
          ],
          "scattermapbox": [
           {
            "marker": {
             "colorbar": {
              "outlinewidth": 0,
              "ticks": ""
             }
            },
            "type": "scattermapbox"
           }
          ],
          "scatterpolar": [
           {
            "marker": {
             "colorbar": {
              "outlinewidth": 0,
              "ticks": ""
             }
            },
            "type": "scatterpolar"
           }
          ],
          "scatterpolargl": [
           {
            "marker": {
             "colorbar": {
              "outlinewidth": 0,
              "ticks": ""
             }
            },
            "type": "scatterpolargl"
           }
          ],
          "scatterternary": [
           {
            "marker": {
             "colorbar": {
              "outlinewidth": 0,
              "ticks": ""
             }
            },
            "type": "scatterternary"
           }
          ],
          "surface": [
           {
            "colorbar": {
             "outlinewidth": 0,
             "ticks": ""
            },
            "colorscale": [
             [
              0,
              "#0d0887"
             ],
             [
              0.1111111111111111,
              "#46039f"
             ],
             [
              0.2222222222222222,
              "#7201a8"
             ],
             [
              0.3333333333333333,
              "#9c179e"
             ],
             [
              0.4444444444444444,
              "#bd3786"
             ],
             [
              0.5555555555555556,
              "#d8576b"
             ],
             [
              0.6666666666666666,
              "#ed7953"
             ],
             [
              0.7777777777777778,
              "#fb9f3a"
             ],
             [
              0.8888888888888888,
              "#fdca26"
             ],
             [
              1,
              "#f0f921"
             ]
            ],
            "type": "surface"
           }
          ],
          "table": [
           {
            "cells": {
             "fill": {
              "color": "#EBF0F8"
             },
             "line": {
              "color": "white"
             }
            },
            "header": {
             "fill": {
              "color": "#C8D4E3"
             },
             "line": {
              "color": "white"
             }
            },
            "type": "table"
           }
          ]
         },
         "layout": {
          "annotationdefaults": {
           "arrowcolor": "#2a3f5f",
           "arrowhead": 0,
           "arrowwidth": 1
          },
          "autotypenumbers": "strict",
          "coloraxis": {
           "colorbar": {
            "outlinewidth": 0,
            "ticks": ""
           }
          },
          "colorscale": {
           "diverging": [
            [
             0,
             "#8e0152"
            ],
            [
             0.1,
             "#c51b7d"
            ],
            [
             0.2,
             "#de77ae"
            ],
            [
             0.3,
             "#f1b6da"
            ],
            [
             0.4,
             "#fde0ef"
            ],
            [
             0.5,
             "#f7f7f7"
            ],
            [
             0.6,
             "#e6f5d0"
            ],
            [
             0.7,
             "#b8e186"
            ],
            [
             0.8,
             "#7fbc41"
            ],
            [
             0.9,
             "#4d9221"
            ],
            [
             1,
             "#276419"
            ]
           ],
           "sequential": [
            [
             0,
             "#0d0887"
            ],
            [
             0.1111111111111111,
             "#46039f"
            ],
            [
             0.2222222222222222,
             "#7201a8"
            ],
            [
             0.3333333333333333,
             "#9c179e"
            ],
            [
             0.4444444444444444,
             "#bd3786"
            ],
            [
             0.5555555555555556,
             "#d8576b"
            ],
            [
             0.6666666666666666,
             "#ed7953"
            ],
            [
             0.7777777777777778,
             "#fb9f3a"
            ],
            [
             0.8888888888888888,
             "#fdca26"
            ],
            [
             1,
             "#f0f921"
            ]
           ],
           "sequentialminus": [
            [
             0,
             "#0d0887"
            ],
            [
             0.1111111111111111,
             "#46039f"
            ],
            [
             0.2222222222222222,
             "#7201a8"
            ],
            [
             0.3333333333333333,
             "#9c179e"
            ],
            [
             0.4444444444444444,
             "#bd3786"
            ],
            [
             0.5555555555555556,
             "#d8576b"
            ],
            [
             0.6666666666666666,
             "#ed7953"
            ],
            [
             0.7777777777777778,
             "#fb9f3a"
            ],
            [
             0.8888888888888888,
             "#fdca26"
            ],
            [
             1,
             "#f0f921"
            ]
           ]
          },
          "colorway": [
           "#636efa",
           "#EF553B",
           "#00cc96",
           "#ab63fa",
           "#FFA15A",
           "#19d3f3",
           "#FF6692",
           "#B6E880",
           "#FF97FF",
           "#FECB52"
          ],
          "font": {
           "color": "#2a3f5f"
          },
          "geo": {
           "bgcolor": "white",
           "lakecolor": "white",
           "landcolor": "#E5ECF6",
           "showlakes": true,
           "showland": true,
           "subunitcolor": "white"
          },
          "hoverlabel": {
           "align": "left"
          },
          "hovermode": "closest",
          "mapbox": {
           "style": "light"
          },
          "paper_bgcolor": "white",
          "plot_bgcolor": "#E5ECF6",
          "polar": {
           "angularaxis": {
            "gridcolor": "white",
            "linecolor": "white",
            "ticks": ""
           },
           "bgcolor": "#E5ECF6",
           "radialaxis": {
            "gridcolor": "white",
            "linecolor": "white",
            "ticks": ""
           }
          },
          "scene": {
           "xaxis": {
            "backgroundcolor": "#E5ECF6",
            "gridcolor": "white",
            "gridwidth": 2,
            "linecolor": "white",
            "showbackground": true,
            "ticks": "",
            "zerolinecolor": "white"
           },
           "yaxis": {
            "backgroundcolor": "#E5ECF6",
            "gridcolor": "white",
            "gridwidth": 2,
            "linecolor": "white",
            "showbackground": true,
            "ticks": "",
            "zerolinecolor": "white"
           },
           "zaxis": {
            "backgroundcolor": "#E5ECF6",
            "gridcolor": "white",
            "gridwidth": 2,
            "linecolor": "white",
            "showbackground": true,
            "ticks": "",
            "zerolinecolor": "white"
           }
          },
          "shapedefaults": {
           "line": {
            "color": "#2a3f5f"
           }
          },
          "ternary": {
           "aaxis": {
            "gridcolor": "white",
            "linecolor": "white",
            "ticks": ""
           },
           "baxis": {
            "gridcolor": "white",
            "linecolor": "white",
            "ticks": ""
           },
           "bgcolor": "#E5ECF6",
           "caxis": {
            "gridcolor": "white",
            "linecolor": "white",
            "ticks": ""
           }
          },
          "title": {
           "x": 0.05
          },
          "xaxis": {
           "automargin": true,
           "gridcolor": "white",
           "linecolor": "white",
           "ticks": "",
           "title": {
            "standoff": 15
           },
           "zerolinecolor": "white",
           "zerolinewidth": 2
          },
          "yaxis": {
           "automargin": true,
           "gridcolor": "white",
           "linecolor": "white",
           "ticks": "",
           "title": {
            "standoff": 15
           },
           "zerolinecolor": "white",
           "zerolinewidth": 2
          }
         }
        },
        "title": {
         "text": "Real-World Distance Analysis"
        },
        "xaxis": {
         "anchor": "y",
         "domain": [
          0,
          0.45
         ]
        },
        "xaxis2": {
         "anchor": "y2",
         "domain": [
          0.55,
          1
         ]
        },
        "xaxis3": {
         "anchor": "y3",
         "domain": [
          0,
          0.45
         ]
        },
        "xaxis4": {
         "anchor": "y4",
         "domain": [
          0.55,
          1
         ]
        },
        "yaxis": {
         "anchor": "x",
         "domain": [
          0.625,
          1
         ],
         "title": {
          "text": "Distance (meters)"
         }
        },
        "yaxis2": {
         "anchor": "x2",
         "domain": [
          0.625,
          1
         ],
         "title": {
          "text": "Distance (meters)"
         }
        },
        "yaxis3": {
         "anchor": "x3",
         "domain": [
          0,
          0.375
         ]
        },
        "yaxis4": {
         "anchor": "x4",
         "domain": [
          0,
          0.375
         ]
        }
       }
      }
     },
     "metadata": {},
     "output_type": "display_data"
    }
   ],
   "source": [
    "from utils.sonar_visualization import plot_distance_analysis\n",
    "plot_distance_analysis(net_analysis_results, \"Real-World Distance Analysis\")"
   ]
  },
  {
   "cell_type": "code",
   "execution_count": 8,
   "id": "6136c219",
   "metadata": {},
   "outputs": [
    {
     "name": "stdout",
     "output_type": "stream",
     "text": [
      " LOADING ALL DISTANCE DATA FOR BAG: 2024-08-20_17-02-00\n",
      "============================================================\n",
      " 1. Loading Navigation Data...\n",
      "    Loaded 497 navigation records\n",
      "    NetPitch data available: 497 valid records\n",
      " 2. Loading Guidance Data...\n",
      "    Loaded 509 guidance records with ['error_net_distance', 'desired_net_distance', 'r_net_distance_d']\n",
      " 3. Loading DVL Altimeter...\n",
      "    DVL altimeter file not found\n",
      " 4. Loading USBL...\n",
      "    Loaded 30 USBL records\n",
      " 5. Loading DVL Position...\n",
      "    Loaded 265 DVL position records\n",
      " 6. Loading Navigation Position...\n",
      "    Loaded 245 navigation position records\n",
      " 7. Loading INS Z Position...\n",
      "    INS file not found\n",
      "\n",
      " LOADING SUMMARY:\n",
      "    Target bag: 2024-08-20_17-02-00\n",
      "    Raw data loaded: 2/2\n",
      "    Distance measurements: 4\n",
      "\n",
      "RAW DATA LOADED:\n",
      "    navigation: 497 records\n",
      "    guidance: 509 records\n",
      "\n",
      "DISTANCE MEASUREMENTS LOADED:\n",
      "    USBL_3D: 30 records - 3D acoustic position\n",
      "    USBL_Depth: 30 records - USBL depth measurement\n",
      "    DVL_Position: 265 records - 3D DVL position\n",
      "    Nav_Position: 245 records - 2D navigation position\n"
     ]
    }
   ],
   "source": [
    "# COMPARISON: SONAR vs DVL DISTANCE MEASUREMENTS\n",
    "# =================================================\n",
    "import utils.distance_measurement as sda\n",
    "from utils.sonar_visualization import compare_sonar_vs_dvl\n",
    "\n",
    "# IMPORTANT: Pass the by_bag folder, not just the exports root\n",
    "# The function expects the folder containing the CSV files\n",
    "from utils.config import EXPORTS_SUBDIRS\n",
    "BY_BAG_FOLDER = EXPORTS_FOLDER / EXPORTS_SUBDIRS.get('by_bag', 'by_bag')\n",
    "\n",
    "# Load all distance data for the target bag\n",
    "raw_data, distance_measurements = sda.load_all_distance_data_for_bag(TARGET_BAG, BY_BAG_FOLDER)\n",
    "\n",
    "# Display what we loaded\n",
    "print(f\"\\nRAW DATA LOADED:\")\n",
    "for key, data in raw_data.items():\n",
    "    if data is not None:\n",
    "        print(f\"    {key}: {len(data)} records\")\n",
    "    else:\n",
    "        print(f\"    {key}: None\")\n",
    "\n",
    "print(f\"\\nDISTANCE MEASUREMENTS LOADED:\")\n",
    "for key, info in distance_measurements.items():\n",
    "    data_len = len(info['data'])\n",
    "    print(f\"    {key}: {data_len} records - {info['description']}\")"
   ]
  },
  {
   "cell_type": "code",
   "execution_count": 9,
   "id": "c10a8be6",
   "metadata": {},
   "outputs": [
    {
     "name": "stdout",
     "output_type": "stream",
     "text": [
      "\n",
      "============================================================\n",
      "SONAR vs DVL COMPARISON\n",
      "============================================================\n",
      "\n",
      "Comparison: Sonar=1.276m, DVL=1.121m, Ratio=1.138x\n"
     ]
    },
    {
     "data": {
      "application/vnd.plotly.v1+json": {
       "config": {
        "plotlyServerURL": "https://plot.ly"
       },
       "data": [
        {
         "line": {
          "color": "red",
          "width": 3
         },
         "mode": "lines",
         "name": "Sonar",
         "type": "scatter",
         "x": {
          "bdata": "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",
          "dtype": "f8"
         },
         "y": {
          "bdata": "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",
          "dtype": "f8"
         }
        },
        {
         "line": {
          "color": "blue",
          "width": 3
         },
         "mode": "lines",
         "name": "DVL",
         "type": "scatter",
         "x": {
          "bdata": "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",
          "dtype": "f8"
         },
         "y": {
          "bdata": "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",
          "dtype": "f8"
         }
        }
       ],
       "layout": {
        "height": 600,
        "template": {
         "data": {
          "bar": [
           {
            "error_x": {
             "color": "#2a3f5f"
            },
            "error_y": {
             "color": "#2a3f5f"
            },
            "marker": {
             "line": {
              "color": "#E5ECF6",
              "width": 0.5
             },
             "pattern": {
              "fillmode": "overlay",
              "size": 10,
              "solidity": 0.2
             }
            },
            "type": "bar"
           }
          ],
          "barpolar": [
           {
            "marker": {
             "line": {
              "color": "#E5ECF6",
              "width": 0.5
             },
             "pattern": {
              "fillmode": "overlay",
              "size": 10,
              "solidity": 0.2
             }
            },
            "type": "barpolar"
           }
          ],
          "carpet": [
           {
            "aaxis": {
             "endlinecolor": "#2a3f5f",
             "gridcolor": "white",
             "linecolor": "white",
             "minorgridcolor": "white",
             "startlinecolor": "#2a3f5f"
            },
            "baxis": {
             "endlinecolor": "#2a3f5f",
             "gridcolor": "white",
             "linecolor": "white",
             "minorgridcolor": "white",
             "startlinecolor": "#2a3f5f"
            },
            "type": "carpet"
           }
          ],
          "choropleth": [
           {
            "colorbar": {
             "outlinewidth": 0,
             "ticks": ""
            },
            "type": "choropleth"
           }
          ],
          "contour": [
           {
            "colorbar": {
             "outlinewidth": 0,
             "ticks": ""
            },
            "colorscale": [
             [
              0,
              "#0d0887"
             ],
             [
              0.1111111111111111,
              "#46039f"
             ],
             [
              0.2222222222222222,
              "#7201a8"
             ],
             [
              0.3333333333333333,
              "#9c179e"
             ],
             [
              0.4444444444444444,
              "#bd3786"
             ],
             [
              0.5555555555555556,
              "#d8576b"
             ],
             [
              0.6666666666666666,
              "#ed7953"
             ],
             [
              0.7777777777777778,
              "#fb9f3a"
             ],
             [
              0.8888888888888888,
              "#fdca26"
             ],
             [
              1,
              "#f0f921"
             ]
            ],
            "type": "contour"
           }
          ],
          "contourcarpet": [
           {
            "colorbar": {
             "outlinewidth": 0,
             "ticks": ""
            },
            "type": "contourcarpet"
           }
          ],
          "heatmap": [
           {
            "colorbar": {
             "outlinewidth": 0,
             "ticks": ""
            },
            "colorscale": [
             [
              0,
              "#0d0887"
             ],
             [
              0.1111111111111111,
              "#46039f"
             ],
             [
              0.2222222222222222,
              "#7201a8"
             ],
             [
              0.3333333333333333,
              "#9c179e"
             ],
             [
              0.4444444444444444,
              "#bd3786"
             ],
             [
              0.5555555555555556,
              "#d8576b"
             ],
             [
              0.6666666666666666,
              "#ed7953"
             ],
             [
              0.7777777777777778,
              "#fb9f3a"
             ],
             [
              0.8888888888888888,
              "#fdca26"
             ],
             [
              1,
              "#f0f921"
             ]
            ],
            "type": "heatmap"
           }
          ],
          "histogram": [
           {
            "marker": {
             "pattern": {
              "fillmode": "overlay",
              "size": 10,
              "solidity": 0.2
             }
            },
            "type": "histogram"
           }
          ],
          "histogram2d": [
           {
            "colorbar": {
             "outlinewidth": 0,
             "ticks": ""
            },
            "colorscale": [
             [
              0,
              "#0d0887"
             ],
             [
              0.1111111111111111,
              "#46039f"
             ],
             [
              0.2222222222222222,
              "#7201a8"
             ],
             [
              0.3333333333333333,
              "#9c179e"
             ],
             [
              0.4444444444444444,
              "#bd3786"
             ],
             [
              0.5555555555555556,
              "#d8576b"
             ],
             [
              0.6666666666666666,
              "#ed7953"
             ],
             [
              0.7777777777777778,
              "#fb9f3a"
             ],
             [
              0.8888888888888888,
              "#fdca26"
             ],
             [
              1,
              "#f0f921"
             ]
            ],
            "type": "histogram2d"
           }
          ],
          "histogram2dcontour": [
           {
            "colorbar": {
             "outlinewidth": 0,
             "ticks": ""
            },
            "colorscale": [
             [
              0,
              "#0d0887"
             ],
             [
              0.1111111111111111,
              "#46039f"
             ],
             [
              0.2222222222222222,
              "#7201a8"
             ],
             [
              0.3333333333333333,
              "#9c179e"
             ],
             [
              0.4444444444444444,
              "#bd3786"
             ],
             [
              0.5555555555555556,
              "#d8576b"
             ],
             [
              0.6666666666666666,
              "#ed7953"
             ],
             [
              0.7777777777777778,
              "#fb9f3a"
             ],
             [
              0.8888888888888888,
              "#fdca26"
             ],
             [
              1,
              "#f0f921"
             ]
            ],
            "type": "histogram2dcontour"
           }
          ],
          "mesh3d": [
           {
            "colorbar": {
             "outlinewidth": 0,
             "ticks": ""
            },
            "type": "mesh3d"
           }
          ],
          "parcoords": [
           {
            "line": {
             "colorbar": {
              "outlinewidth": 0,
              "ticks": ""
             }
            },
            "type": "parcoords"
           }
          ],
          "pie": [
           {
            "automargin": true,
            "type": "pie"
           }
          ],
          "scatter": [
           {
            "fillpattern": {
             "fillmode": "overlay",
             "size": 10,
             "solidity": 0.2
            },
            "type": "scatter"
           }
          ],
          "scatter3d": [
           {
            "line": {
             "colorbar": {
              "outlinewidth": 0,
              "ticks": ""
             }
            },
            "marker": {
             "colorbar": {
              "outlinewidth": 0,
              "ticks": ""
             }
            },
            "type": "scatter3d"
           }
          ],
          "scattercarpet": [
           {
            "marker": {
             "colorbar": {
              "outlinewidth": 0,
              "ticks": ""
             }
            },
            "type": "scattercarpet"
           }
          ],
          "scattergeo": [
           {
            "marker": {
             "colorbar": {
              "outlinewidth": 0,
              "ticks": ""
             }
            },
            "type": "scattergeo"
           }
          ],
          "scattergl": [
           {
            "marker": {
             "colorbar": {
              "outlinewidth": 0,
              "ticks": ""
             }
            },
            "type": "scattergl"
           }
          ],
          "scattermap": [
           {
            "marker": {
             "colorbar": {
              "outlinewidth": 0,
              "ticks": ""
             }
            },
            "type": "scattermap"
           }
          ],
          "scattermapbox": [
           {
            "marker": {
             "colorbar": {
              "outlinewidth": 0,
              "ticks": ""
             }
            },
            "type": "scattermapbox"
           }
          ],
          "scatterpolar": [
           {
            "marker": {
             "colorbar": {
              "outlinewidth": 0,
              "ticks": ""
             }
            },
            "type": "scatterpolar"
           }
          ],
          "scatterpolargl": [
           {
            "marker": {
             "colorbar": {
              "outlinewidth": 0,
              "ticks": ""
             }
            },
            "type": "scatterpolargl"
           }
          ],
          "scatterternary": [
           {
            "marker": {
             "colorbar": {
              "outlinewidth": 0,
              "ticks": ""
             }
            },
            "type": "scatterternary"
           }
          ],
          "surface": [
           {
            "colorbar": {
             "outlinewidth": 0,
             "ticks": ""
            },
            "colorscale": [
             [
              0,
              "#0d0887"
             ],
             [
              0.1111111111111111,
              "#46039f"
             ],
             [
              0.2222222222222222,
              "#7201a8"
             ],
             [
              0.3333333333333333,
              "#9c179e"
             ],
             [
              0.4444444444444444,
              "#bd3786"
             ],
             [
              0.5555555555555556,
              "#d8576b"
             ],
             [
              0.6666666666666666,
              "#ed7953"
             ],
             [
              0.7777777777777778,
              "#fb9f3a"
             ],
             [
              0.8888888888888888,
              "#fdca26"
             ],
             [
              1,
              "#f0f921"
             ]
            ],
            "type": "surface"
           }
          ],
          "table": [
           {
            "cells": {
             "fill": {
              "color": "#EBF0F8"
             },
             "line": {
              "color": "white"
             }
            },
            "header": {
             "fill": {
              "color": "#C8D4E3"
             },
             "line": {
              "color": "white"
             }
            },
            "type": "table"
           }
          ]
         },
         "layout": {
          "annotationdefaults": {
           "arrowcolor": "#2a3f5f",
           "arrowhead": 0,
           "arrowwidth": 1
          },
          "autotypenumbers": "strict",
          "coloraxis": {
           "colorbar": {
            "outlinewidth": 0,
            "ticks": ""
           }
          },
          "colorscale": {
           "diverging": [
            [
             0,
             "#8e0152"
            ],
            [
             0.1,
             "#c51b7d"
            ],
            [
             0.2,
             "#de77ae"
            ],
            [
             0.3,
             "#f1b6da"
            ],
            [
             0.4,
             "#fde0ef"
            ],
            [
             0.5,
             "#f7f7f7"
            ],
            [
             0.6,
             "#e6f5d0"
            ],
            [
             0.7,
             "#b8e186"
            ],
            [
             0.8,
             "#7fbc41"
            ],
            [
             0.9,
             "#4d9221"
            ],
            [
             1,
             "#276419"
            ]
           ],
           "sequential": [
            [
             0,
             "#0d0887"
            ],
            [
             0.1111111111111111,
             "#46039f"
            ],
            [
             0.2222222222222222,
             "#7201a8"
            ],
            [
             0.3333333333333333,
             "#9c179e"
            ],
            [
             0.4444444444444444,
             "#bd3786"
            ],
            [
             0.5555555555555556,
             "#d8576b"
            ],
            [
             0.6666666666666666,
             "#ed7953"
            ],
            [
             0.7777777777777778,
             "#fb9f3a"
            ],
            [
             0.8888888888888888,
             "#fdca26"
            ],
            [
             1,
             "#f0f921"
            ]
           ],
           "sequentialminus": [
            [
             0,
             "#0d0887"
            ],
            [
             0.1111111111111111,
             "#46039f"
            ],
            [
             0.2222222222222222,
             "#7201a8"
            ],
            [
             0.3333333333333333,
             "#9c179e"
            ],
            [
             0.4444444444444444,
             "#bd3786"
            ],
            [
             0.5555555555555556,
             "#d8576b"
            ],
            [
             0.6666666666666666,
             "#ed7953"
            ],
            [
             0.7777777777777778,
             "#fb9f3a"
            ],
            [
             0.8888888888888888,
             "#fdca26"
            ],
            [
             1,
             "#f0f921"
            ]
           ]
          },
          "colorway": [
           "#636efa",
           "#EF553B",
           "#00cc96",
           "#ab63fa",
           "#FFA15A",
           "#19d3f3",
           "#FF6692",
           "#B6E880",
           "#FF97FF",
           "#FECB52"
          ],
          "font": {
           "color": "#2a3f5f"
          },
          "geo": {
           "bgcolor": "white",
           "lakecolor": "white",
           "landcolor": "#E5ECF6",
           "showlakes": true,
           "showland": true,
           "subunitcolor": "white"
          },
          "hoverlabel": {
           "align": "left"
          },
          "hovermode": "closest",
          "mapbox": {
           "style": "light"
          },
          "paper_bgcolor": "white",
          "plot_bgcolor": "#E5ECF6",
          "polar": {
           "angularaxis": {
            "gridcolor": "white",
            "linecolor": "white",
            "ticks": ""
           },
           "bgcolor": "#E5ECF6",
           "radialaxis": {
            "gridcolor": "white",
            "linecolor": "white",
            "ticks": ""
           }
          },
          "scene": {
           "xaxis": {
            "backgroundcolor": "#E5ECF6",
            "gridcolor": "white",
            "gridwidth": 2,
            "linecolor": "white",
            "showbackground": true,
            "ticks": "",
            "zerolinecolor": "white"
           },
           "yaxis": {
            "backgroundcolor": "#E5ECF6",
            "gridcolor": "white",
            "gridwidth": 2,
            "linecolor": "white",
            "showbackground": true,
            "ticks": "",
            "zerolinecolor": "white"
           },
           "zaxis": {
            "backgroundcolor": "#E5ECF6",
            "gridcolor": "white",
            "gridwidth": 2,
            "linecolor": "white",
            "showbackground": true,
            "ticks": "",
            "zerolinecolor": "white"
           }
          },
          "shapedefaults": {
           "line": {
            "color": "#2a3f5f"
           }
          },
          "ternary": {
           "aaxis": {
            "gridcolor": "white",
            "linecolor": "white",
            "ticks": ""
           },
           "baxis": {
            "gridcolor": "white",
            "linecolor": "white",
            "ticks": ""
           },
           "bgcolor": "#E5ECF6",
           "caxis": {
            "gridcolor": "white",
            "linecolor": "white",
            "ticks": ""
           }
          },
          "title": {
           "x": 0.05
          },
          "xaxis": {
           "automargin": true,
           "gridcolor": "white",
           "linecolor": "white",
           "ticks": "",
           "title": {
            "standoff": 15
           },
           "zerolinecolor": "white",
           "zerolinewidth": 2
          },
          "yaxis": {
           "automargin": true,
           "gridcolor": "white",
           "linecolor": "white",
           "ticks": "",
           "title": {
            "standoff": 15
           },
           "zerolinecolor": "white",
           "zerolinewidth": 2
          }
         }
        },
        "title": {
         "text": "Sonar vs DVL Distance Comparison"
        },
        "xaxis": {
         "anchor": "y",
         "domain": [
          0,
          1
         ],
         "title": {
          "text": "Time (seconds)"
         }
        },
        "yaxis": {
         "anchor": "x",
         "domain": [
          0,
          1
         ],
         "title": {
          "text": "Distance (meters)"
         }
        }
       }
      }
     },
     "metadata": {},
     "output_type": "display_data"
    },
    {
     "name": "stdout",
     "output_type": "stream",
     "text": [
      "\n",
      "Comparison Statistics:\n",
      "  sonar_mean_m: 1.276\n",
      "  dvl_mean_m: 1.121\n",
      "  scale_ratio: 1.138\n",
      "  sonar_frames: 944\n",
      "  dvl_records: 497\n"
     ]
    }
   ],
   "source": [
    "# Compare sonar vs DVL using the sonar_visualization function\n",
    "print(f\"\\n\" + \"=\" * 60)\n",
    "print(\"SONAR vs DVL COMPARISON\")\n",
    "print(\"=\" * 60)\n",
    "\n",
    "fig, comparison_stats = compare_sonar_vs_dvl(\n",
    "    net_analysis_results,\n",
    "    raw_data,\n",
    "    sonar_coverage_m=sonar_coverage_meters,\n",
    "    sonar_image_size=image_shape[0]\n",
    ")\n",
    "\n",
    "if fig:\n",
    "    fig.show()\n",
    "\n",
    "print(f\"\\nComparison Statistics:\")\n",
    "for key, value in comparison_stats.items():\n",
    "    if isinstance(value, float):\n",
    "        print(f\"  {key}: {value:.3f}\")\n",
    "    else:\n",
    "        print(f\"  {key}: {value}\")"
   ]
  },
  {
   "cell_type": "code",
   "execution_count": 10,
   "id": "50f97352",
   "metadata": {},
   "outputs": [
    {
     "name": "stdout",
     "output_type": "stream",
     "text": [
      "GENERATING THREE-SYSTEM VIDEO WITH UNIFORM STYLING\n",
      "============================================================\n",
      "Target Bag: 2024-08-20_17-02-00\n",
      "GENERATING THREE-SYSTEM VIDEO\n",
      "==================================================\n",
      "🔄 PREPARING THREE-SYSTEM SYNCHRONIZED DATA\n",
      "============================================================\n",
      "✓ Using notebook 08's FFT loading methods...\n",
      "✓ Loaded 410 relative FFT pose records\n",
      "✓ Loaded FFT data via notebook 08 method: 410 records\n",
      "✓ Using notebook 08's three-system synchronization...\n",
      "Step 1: Calculating net relative positions\n",
      "FFT distances appear to be in cm (max: 183.3), converting to meters\n",
      "Final FFT distance range: -1.833 to 1.596 m\n",
      "FFT pitch range: -82.7 to 88.1\n",
      "FFT X range: -1.821 to 1.573 m\n",
      "FFT Y range: -0.596 to 0.441 m\n",
      "Step 2: Synchronizing all three systems\n",
      "Synchronized 1851 time points\n",
      "Available columns in sync_df: ['sync_timestamp', 'fft_distance_m', 'fft_pitch_deg', 'fft_x_m', 'fft_y_m', 'fft_heading', 'sonar_distance_m', 'sonar_pitch_deg', 'sonar_x_m', 'sonar_y_m', 'sonar_detection_success', 'nav_distance_m', 'nav_pitch_deg', 'nav_x_m', 'nav_y_m']\n",
      "Available distance columns: ['fft_distance_m', 'sonar_distance_m', 'nav_distance_m']\n",
      "Found distance columns: FFT=fft_distance_m, Sonar=sonar_distance_m, Nav=nav_distance_m\n",
      "Step 3: Creating visualizations\n",
      "Position data summary:\n",
      "  FFT: 1769 points, X: 0.82±0.38, Y: 0.04±0.12\n",
      "  Sonar: 1851 points, X: 1.09±0.32, Y: -0.23±0.66\n",
      "  DVL: 1813 points, X: 1.10±0.29, Y: -0.08±0.28\n",
      "Step 4: Saving results\n",
      "Results saved to: /Volumes/LaCie/SOLAQUA/exports/outputs/2024-08-20_17-02-00_three_system_net_relative_analysis.csv\n",
      "Statistics saved to: /Volumes/LaCie/SOLAQUA/exports/outputs/2024-08-20_17-02-00_three_system_net_relative_stats.json\n",
      "✓ Three-system synchronization completed: 1851 synchronized records\n",
      "✗ Notebook 08 synchronization failed: \"['timestamp', 'sonar_angle_deg', 'detection_success'] not in index\"\n",
      "Falling back to individual synchronization...\n",
      "✓ Using fallback synchronization method\n",
      "✓ Fallback synchronization completed\n",
      "   Systems active: DVL + Sonar + FFT\n",
      "OPTIMIZED SONAR VIDEO WITH THREE-SYSTEM SYNCHRONIZATION\n",
      "======================================================================\n",
      "Target Bag: 2024-08-20_17-02-00\n",
      "   Cone Size: 900x700\n",
      "   Range: 0.0-5.0m | FOV: 120.0\n",
      "Auto-detecting video files for bag: 2024-08-20_17-02-00\n",
      "Found video frames: 2024-08-20_17-02-00_video__image_compressed_image_data_frames\n",
      "Using frames directory: /Volumes/LaCie/SOLAQUA/exports/frames/2024-08-20_17-02-00_video__image_compressed_image_data_frames\n",
      "Camera: enabled\n",
      "Net-line: enabled (dist tol=0.5s, pitch tol=2.0s)\n",
      "Sonar Analysis: enabled\n",
      "FFT Data: enabled\n",
      "   Loading sonar data: sensor_sonoptix_echo_image__2024-08-20_17-02-00_video.csv\n",
      "Loaded 945 sonar frames in 37.96s\n",
      " LOADING ALL DISTANCE DATA FOR BAG: 2024-08-20_17-02-00\n",
      "============================================================\n",
      " 1. Loading Navigation Data...\n",
      "    Loaded 497 navigation records\n",
      "    NetPitch data available: 497 valid records\n",
      " 2. Loading Guidance Data...\n",
      "    Loaded 509 guidance records with ['error_net_distance', 'desired_net_distance', 'r_net_distance_d']\n",
      " 3. Loading DVL Altimeter...\n",
      "    DVL altimeter file not found\n",
      " 4. Loading USBL...\n",
      "    Loaded 30 USBL records\n",
      " 5. Loading DVL Position...\n",
      "    Loaded 265 DVL position records\n",
      " 6. Loading Navigation Position...\n",
      "    Loaded 245 navigation position records\n",
      " 7. Loading INS Z Position...\n",
      "    INS file not found\n",
      "\n",
      " LOADING SUMMARY:\n",
      "    Target bag: 2024-08-20_17-02-00\n",
      "    Raw data loaded: 2/2\n",
      "    Distance measurements: 4\n",
      "   Auto-loaded DVL data: 497 records\n",
      "   Used absolute timestamps for FFT data\n",
      "   Time Range Verification:\n",
      "     Sonar: 2024-08-20 15:02:03.239282846+00:00 to 2024-08-20 15:03:03.660551786+00:00\n",
      "     DVL:   2024-08-20 15:02:05.408126593+00:00 to 2024-08-20 15:03:02.795768261+00:00\n",
      "     FFT:   2024-08-20 15:02:03.753343105 to 2024-08-20 15:03:00.519725800\n",
      "   Using synchronized DVL data: 497 records\n",
      "      Available: ['NetDistance', 'NetPitch', 'timestamp']\n",
      "Loaded 755 camera index entries\n",
      "   Frames: 1..944 (step 1) => 944\n",
      "   Natural FPS: 16.4\n",
      "\n",
      " DONE! Wrote 944 frames to /Volumes/LaCie/SOLAQUA/exports/videos/2024-08-20_17-02-00_optimized_sync_withcam_withsonar_20240820_170203_319382+0200.mp4 @ 16.42 FPS\n",
      "Three-system synchronization: DVL(Yellow/Orange) | FFT(Cyan) | Sonar(Magenta)\n",
      "Metadata saved to: /Volumes/LaCie/SOLAQUA/exports/videos/2024-08-20_17-02-00_optimized_sync_withcam_withsonar_20240820_170203_319382+0200.mp4.meta.json\n",
      "\n",
      "3-SYSTEM VIDEO GENERATED: /Volumes/LaCie/SOLAQUA/exports/videos/2024-08-20_17-02-00_optimized_sync_withcam_withsonar_20240820_170203_319382+0200.mp4\n",
      "   Systems synchronized:\n",
      "   - DVL: Navigation-based robot position relative to net\n",
      "   - FFT: High-precision signal processing net detection\n",
      "   - Sonar: Image analysis of sonar returns\n"
     ]
    }
   ],
   "source": [
    "# CONFIGURATION\n",
    "FFT_CSV_PATH = Path(\"/Volumes/LaCie/SOLAQUA/relative_fft_pose\")\n",
    "TARGET_FFT_FILE = FFT_CSV_PATH / f\"{TARGET_BAG}_relative_pose_fft.csv\"\n",
    "\n",
    "print(\"GENERATING THREE-SYSTEM VIDEO WITH UNIFORM STYLING\")\n",
    "print(\"=\" * 60)\n",
    "print(f\"Target Bag: {TARGET_BAG}\")\n",
    "\n",
    "# Import the utility function\n",
    "from utils.video_generation import generate_three_system_video\n",
    "\n",
    "try:\n",
    "    # Generate video using the streamlined utility function\n",
    "    video_path = generate_three_system_video(\n",
    "        target_bag=TARGET_BAG,\n",
    "        exports_folder=EXPORTS_FOLDER,\n",
    "        net_analysis_results=net_analysis_results,\n",
    "        raw_data=raw_data,\n",
    "        fft_csv_path=TARGET_FFT_FILE if TARGET_FFT_FILE.exists() else None,\n",
    "        start_idx=1,\n",
    "        end_idx=1500\n",
    "    )\n",
    "    \n",
    "except Exception as e:\n",
    "    print(f\"Video generation failed: {e}\")\n",
    "    print(f\"Error details: {type(e).__name__}: {str(e)}\")\n",
    "    import traceback\n",
    "    traceback.print_exc()"
   ]
  },
  {
   "cell_type": "code",
   "execution_count": null,
   "id": "08601bf4",
   "metadata": {},
   "outputs": [],
   "source": []
  }
 ],
 "metadata": {
  "kernelspec": {
   "display_name": "venv",
   "language": "python",
   "name": "python3"
  },
  "language_info": {
   "codemirror_mode": {
    "name": "ipython",
    "version": 3
   },
   "file_extension": ".py",
   "mimetype": "text/x-python",
   "name": "python",
   "nbconvert_exporter": "python",
   "pygments_lexer": "ipython3",
   "version": "3.13.5"
  }
 },
 "nbformat": 4,
 "nbformat_minor": 5
}
