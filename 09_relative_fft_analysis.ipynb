{
 "cells": [
  {
   "cell_type": "markdown",
   "id": "7178e0df",
   "metadata": {},
   "source": [
    "# Relative FFT Pose Analysis\n",
    "\n",
    "This notebook analyzes the relative FFT pose data and prepares it for comparison with Sonar and DVL measurements.\n",
    "\n",
    "The FFT data contains:\n",
    "- **time**: timestamp in Unix seconds\n",
    "- **distance**: distance measurement in centimeters  \n",
    "- **heading**: heading in radians\n",
    "- **pitch**: pitch angle in radians"
   ]
  },
  {
   "cell_type": "markdown",
   "id": "beb9bf42",
   "metadata": {},
   "source": [
    "## 1. Import Libraries and Load Data\n",
    "\n",
    "Import necessary libraries and load the relative FFT pose data."
   ]
  },
  {
   "cell_type": "code",
   "execution_count": 1,
   "id": "3e75e413",
   "metadata": {},
   "outputs": [
    {
     "name": "stdout",
     "output_type": "stream",
     "text": [
      "Libraries imported successfully!\n"
     ]
    }
   ],
   "source": [
    "# Import required libraries\n",
    "import pandas as pd\n",
    "import numpy as np\n",
    "import plotly.graph_objects as go\n",
    "from pathlib import Path\n",
    "\n",
    "# Import our custom FFT analysis utilities\n",
    "from utils.relative_fft_analysis import (\n",
    "    load_relative_fft_data,\n",
    "    analyze_fft_data_quality,\n",
    "    convert_fft_to_xy_coordinates,\n",
    "    create_three_system_comparison_plot\n",
    ")\n",
    "\n",
    "print(\"Libraries imported successfully!\")"
   ]
  },
  {
   "cell_type": "code",
   "execution_count": 2,
   "id": "e597e57c",
   "metadata": {},
   "outputs": [
    {
     "name": "stdout",
     "output_type": "stream",
     "text": [
      "FFT CSV Path: /Volumes/LaCie/SOLAQUA/relative_fft_pose/2024-08-20_17-02-00_relative_pose_fft.csv\n",
      "File exists: True\n",
      "✓ Loaded 410 relative FFT pose records\n",
      "✓ Loaded FFT data: 410 records\n",
      "Time range: 2024-08-20 15:02:03.753343105 to 2024-08-20 15:03:00.519725800\n",
      "\n",
      "Sample FFT data:\n",
      "           time  distance   heading     pitch                     timestamp  \\\n",
      "0  1.724166e+09  0.000323 -1.189418  0.750176 2024-08-20 15:02:03.753343105   \n",
      "1  1.724166e+09  0.000087 -1.173581  0.586265 2024-08-20 15:02:04.286877632   \n",
      "2  1.724166e+09  0.024386  1.250215  1.438593 2024-08-20 15:02:04.366403103   \n",
      "3  1.724166e+09  0.093198  1.461399  1.428290 2024-08-20 15:02:04.683693647   \n",
      "4  1.724166e+09  0.000892  1.270715  0.817889 2024-08-20 15:02:04.915297031   \n",
      "\n",
      "     distance_m  pitch_rad  pitch_deg  heading_rad  heading_deg  \n",
      "0  3.230434e-06   0.750176  42.981929    -1.189418   -68.148656  \n",
      "1  8.718776e-07   0.586265  33.590534    -1.173581   -67.241221  \n",
      "2  2.438620e-04   1.438593  82.425327     1.250215    71.632029  \n",
      "3  9.319766e-04   1.428290  81.835004     1.461399    83.732010  \n",
      "4  8.924165e-06   0.817889  46.861574     1.270715    72.806587  \n"
     ]
    }
   ],
   "source": [
    "# Configuration\n",
    "FFT_CSV_PATH = Path(\"/Volumes/LaCie/SOLAQUA/relative_fft_pose/2024-08-20_17-02-00_relative_pose_fft.csv\")\n",
    "\n",
    "print(f\"FFT CSV Path: {FFT_CSV_PATH}\")\n",
    "print(f\"File exists: {FFT_CSV_PATH.exists()}\")\n",
    "\n",
    "# Load the relative FFT data\n",
    "if FFT_CSV_PATH.exists():\n",
    "    df_fft = load_relative_fft_data(FFT_CSV_PATH)\n",
    "    print(f\"✓ Loaded FFT data: {len(df_fft)} records\")\n",
    "    print(f\"Time range: {df_fft['timestamp'].min()} to {df_fft['timestamp'].max()}\")\n",
    "    \n",
    "    # Display sample data\n",
    "    print(\"\\nSample FFT data:\")\n",
    "    print(df_fft.head())\n",
    "else:\n",
    "    print(f\"✗ FFT data file not found: {FFT_CSV_PATH}\")\n",
    "    df_fft = None"
   ]
  },
  {
   "cell_type": "markdown",
   "id": "51ac80a3",
   "metadata": {},
   "source": [
    "## 2. Analyze Data Quality\n",
    "\n",
    "Analyze the quality and characteristics of the relative FFT data."
   ]
  },
  {
   "cell_type": "code",
   "execution_count": 3,
   "id": "fb3e41be",
   "metadata": {},
   "outputs": [
    {
     "name": "stdout",
     "output_type": "stream",
     "text": [
      "=== RELATIVE FFT DATA QUALITY ANALYSIS ===\n",
      "Total measurements: 410\n",
      "Time range: 56.8 seconds\n",
      "Sampling rate: 7.22 Hz\n",
      "\n",
      "Distance measurements:\n",
      "  Count: 410\n",
      "  Range: -1.833 to 1.596 m\n",
      "  Mean: 0.877 ± 0.320 m\n",
      "\n",
      "Pitch measurements:\n",
      "  Count: 410\n",
      "  Range: -82.7° to 88.1°\n",
      "  Mean: 3.8° ± 14.6°\n",
      "\n",
      "Heading measurements:\n",
      "  Count: 410\n",
      "  Range: -84.0° to 83.7°\n",
      "  Mean: 3.7° ± 14.3°\n"
     ]
    }
   ],
   "source": [
    "if df_fft is not None:\n",
    "    # Analyze data quality\n",
    "    fft_stats = analyze_fft_data_quality(df_fft)\n",
    "    \n",
    "    print(\"=== RELATIVE FFT DATA QUALITY ANALYSIS ===\")\n",
    "    print(f\"Total measurements: {fft_stats['total_measurements']}\")\n",
    "    print(f\"Time range: {fft_stats['time_range_seconds']:.1f} seconds\")\n",
    "    print(f\"Sampling rate: {fft_stats['sampling_rate_hz']:.2f} Hz\")\n",
    "    \n",
    "    print(f\"\\nDistance measurements:\")\n",
    "    print(f\"  Count: {fft_stats['distance_count']}\")\n",
    "    print(f\"  Range: {fft_stats['distance_min_m']:.3f} to {fft_stats['distance_max_m']:.3f} m\")\n",
    "    print(f\"  Mean: {fft_stats['distance_mean_m']:.3f} ± {fft_stats['distance_std_m']:.3f} m\")\n",
    "    \n",
    "    print(f\"\\nPitch measurements:\")\n",
    "    print(f\"  Count: {fft_stats['pitch_count']}\")\n",
    "    print(f\"  Range: {fft_stats['pitch_min_deg']:.1f}° to {fft_stats['pitch_max_deg']:.1f}°\")\n",
    "    print(f\"  Mean: {fft_stats['pitch_mean_deg']:.1f}° ± {fft_stats['pitch_std_deg']:.1f}°\")\n",
    "    \n",
    "    print(f\"\\nHeading measurements:\")\n",
    "    print(f\"  Count: {fft_stats['heading_count']}\")\n",
    "    print(f\"  Range: {fft_stats['heading_min_deg']:.1f}° to {fft_stats['heading_max_deg']:.1f}°\")\n",
    "    print(f\"  Mean: {fft_stats['heading_mean_deg']:.1f}° ± {fft_stats['heading_std_deg']:.1f}°\")"
   ]
  },
  {
   "cell_type": "markdown",
   "id": "ed271ce1",
   "metadata": {},
   "source": [
    "## 3. Convert to XY Coordinates\n",
    "\n",
    "Convert the distance and pitch measurements to XY coordinates for comparison with other systems."
   ]
  },
  {
   "cell_type": "code",
   "execution_count": 4,
   "id": "f3ce7370",
   "metadata": {},
   "outputs": [
    {
     "name": "stdout",
     "output_type": "stream",
     "text": [
      "✓ Converted FFT measurements to XY coordinates\n",
      "X range: -1.821 to 1.573 m\n",
      "Y range: -0.596 to 0.441 m\n",
      "\n",
      "Sample FFT data with XY coordinates:\n",
      "                      timestamp    distance_m  pitch_deg         fft_x  \\\n",
      "0 2024-08-20 15:02:03.753343105  3.230434e-06  42.981929  2.363285e-06   \n",
      "1 2024-08-20 15:02:04.286877632  8.718776e-07  33.590534  7.262850e-07   \n",
      "2 2024-08-20 15:02:04.366403103  2.438620e-04  82.425327  3.214546e-05   \n",
      "3 2024-08-20 15:02:04.683693647  9.319766e-04  81.835004  1.323632e-04   \n",
      "4 2024-08-20 15:02:04.915297031  8.924165e-06  46.861574  6.102016e-06   \n",
      "\n",
      "          fft_y  \n",
      "0  2.202406e-06  \n",
      "1  4.823697e-07  \n",
      "2  2.417340e-04  \n",
      "3  9.225293e-04  \n",
      "4  6.511998e-06  \n"
     ]
    }
   ],
   "source": [
    "if df_fft is not None:\n",
    "    # Convert to XY coordinates\n",
    "    df_fft = convert_fft_to_xy_coordinates(df_fft)\n",
    "    \n",
    "    print(\"✓ Converted FFT measurements to XY coordinates\")\n",
    "    print(f\"X range: {df_fft['fft_x'].min():.3f} to {df_fft['fft_x'].max():.3f} m\")\n",
    "    print(f\"Y range: {df_fft['fft_y'].min():.3f} to {df_fft['fft_y'].max():.3f} m\")\n",
    "    \n",
    "    # Display sample with XY coordinates\n",
    "    print(\"\\nSample FFT data with XY coordinates:\")\n",
    "    display_cols = ['timestamp', 'distance_m', 'pitch_deg', 'fft_x', 'fft_y']\n",
    "    print(df_fft[display_cols].head())"
   ]
  },
  {
   "cell_type": "markdown",
   "id": "9b3cf26b",
   "metadata": {},
   "source": [
    "## 4. Visualize FFT Data\n",
    "\n",
    "Create plots to visualize the FFT measurements over time and in XY space."
   ]
  },
  {
   "cell_type": "code",
   "execution_count": 5,
   "id": "2de074bc",
   "metadata": {},
   "outputs": [
    {
     "data": {
      "application/vnd.plotly.v1+json": {
       "config": {
        "plotlyServerURL": "https://plot.ly"
       },
       "data": [
        {
         "line": {
          "color": "blue"
         },
         "marker": {
          "size": 4
         },
         "mode": "lines+markers",
         "name": "Distance",
         "type": "scatter",
         "x": [
          "2024-08-20T15:02:03.753343105",
          "2024-08-20T15:02:04.286877632",
          "2024-08-20T15:02:04.366403103",
          "2024-08-20T15:02:04.683693647",
          "2024-08-20T15:02:04.915297031",
          "2024-08-20T15:02:05.084481955",
          "2024-08-20T15:02:05.158435106",
          "2024-08-20T15:02:05.236343145",
          "2024-08-20T15:02:05.326221704",
          "2024-08-20T15:02:05.404215097",
          "2024-08-20T15:02:05.480346918",
          "2024-08-20T15:02:05.560374498",
          "2024-08-20T15:02:05.648545265",
          "2024-08-20T15:02:05.725035906",
          "2024-08-20T15:02:05.799499989",
          "2024-08-20T15:02:05.901206493",
          "2024-08-20T15:02:05.967822075",
          "2024-08-20T15:02:06.062466621",
          "2024-08-20T15:02:06.123165607",
          "2024-08-20T15:02:06.194533825",
          "2024-08-20T15:02:06.289225101",
          "2024-08-20T15:02:06.364275217",
          "2024-08-20T15:02:06.483819485",
          "2024-08-20T15:02:06.514274597",
          "2024-08-20T15:02:06.605874300",
          "2024-08-20T15:02:06.727084637",
          "2024-08-20T15:02:06.802437544",
          "2024-08-20T15:02:06.884123087",
          "2024-08-20T15:02:06.955416441",
          "2024-08-20T15:02:07.047633886",
          "2024-08-20T15:02:07.121618986",
          "2024-08-20T15:02:07.197739363",
          "2024-08-20T15:02:07.275727510",
          "2024-08-20T15:02:07.353418112",
          "2024-08-20T15:02:07.442238092",
          "2024-08-20T15:02:07.565906286",
          "2024-08-20T15:02:07.639085531",
          "2024-08-20T15:02:07.719254494",
          "2024-08-20T15:02:07.807295084",
          "2024-08-20T15:02:07.881276846",
          "2024-08-20T15:02:07.956668854",
          "2024-08-20T15:02:08.046113968",
          "2024-08-20T15:02:08.122446299",
          "2024-08-20T15:02:08.196683407",
          "2024-08-20T15:02:08.320810556",
          "2024-08-20T15:02:08.368727922",
          "2024-08-20T15:02:08.472889900",
          "2024-08-20T15:02:08.565894365",
          "2024-08-20T15:02:08.642631531",
          "2024-08-20T15:02:08.719401360",
          "2024-08-20T15:02:08.795868158",
          "2024-08-20T15:02:08.875091076",
          "2024-08-20T15:02:08.965901136",
          "2024-08-20T15:02:09.042343140",
          "2024-08-20T15:02:09.162106037",
          "2024-08-20T15:02:09.238454819",
          "2024-08-20T15:02:09.315991402",
          "2024-08-20T15:02:09.404951811",
          "2024-08-20T15:02:09.482789040",
          "2024-08-20T15:02:09.556789637",
          "2024-08-20T15:02:09.635899544",
          "2024-08-20T15:02:09.712990761",
          "2024-08-20T15:02:09.804790497",
          "2024-08-20T15:02:09.877582312",
          "2024-08-20T15:02:09.955979824",
          "2024-08-20T15:02:10.046456575",
          "2024-08-20T15:02:10.121959209",
          "2024-08-20T15:02:10.199405670",
          "2024-08-20T15:02:10.322257519",
          "2024-08-20T15:02:10.396345615",
          "2024-08-20T15:02:10.474006891",
          "2024-08-20T15:02:10.566845894",
          "2024-08-20T15:02:10.641668797",
          "2024-08-20T15:02:10.718416929",
          "2024-08-20T15:02:10.795139074",
          "2024-08-20T15:02:10.886515379",
          "2024-08-20T15:02:10.962904692",
          "2024-08-20T15:02:11.035766840",
          "2024-08-20T15:02:11.115008593",
          "2024-08-20T15:02:11.235077620",
          "2024-08-20T15:02:11.359288454",
          "2024-08-20T15:02:11.479769230",
          "2024-08-20T15:02:11.634877920",
          "2024-08-20T15:02:11.756905079",
          "2024-08-20T15:02:11.888004065",
          "2024-08-20T15:02:12.047279835",
          "2024-08-20T15:02:12.157192469",
          "2024-08-20T15:02:12.322944641",
          "2024-08-20T15:02:12.447111607",
          "2024-08-20T15:02:12.553499699",
          "2024-08-20T15:02:12.674876690",
          "2024-08-20T15:02:12.843362570",
          "2024-08-20T15:02:12.962796211",
          "2024-08-20T15:02:13.115097046",
          "2024-08-20T15:02:13.283073902",
          "2024-08-20T15:02:13.404504299",
          "2024-08-20T15:02:13.556448698",
          "2024-08-20T15:02:13.678884745",
          "2024-08-20T15:02:13.800711155",
          "2024-08-20T15:02:13.922041178",
          "2024-08-20T15:02:14.074223280",
          "2024-08-20T15:02:14.198152304",
          "2024-08-20T15:02:14.321067572",
          "2024-08-20T15:02:14.443800211",
          "2024-08-20T15:02:14.593149185",
          "2024-08-20T15:02:14.714362621",
          "2024-08-20T15:02:14.842286348",
          "2024-08-20T15:02:14.959927082",
          "2024-08-20T15:02:15.081702709",
          "2024-08-20T15:02:15.247588158",
          "2024-08-20T15:02:15.368896246",
          "2024-08-20T15:02:15.519512891",
          "2024-08-20T15:02:15.689424515",
          "2024-08-20T15:02:15.797812939",
          "2024-08-20T15:02:15.962221384",
          "2024-08-20T15:02:16.084906340",
          "2024-08-20T15:02:16.208043098",
          "2024-08-20T15:02:16.312473297",
          "2024-08-20T15:02:16.482465506",
          "2024-08-20T15:02:16.604576588",
          "2024-08-20T15:02:16.725301504",
          "2024-08-20T15:02:16.835228920",
          "2024-08-20T15:02:17.004967928",
          "2024-08-20T15:02:17.154425383",
          "2024-08-20T15:02:17.278763056",
          "2024-08-20T15:02:17.448799610",
          "2024-08-20T15:02:17.555910587",
          "2024-08-20T15:02:17.722048998",
          "2024-08-20T15:02:17.874911785",
          "2024-08-20T15:02:18.042182207",
          "2024-08-20T15:02:18.168005943",
          "2024-08-20T15:02:18.324055195",
          "2024-08-20T15:02:18.486371279",
          "2024-08-20T15:02:18.592553139",
          "2024-08-20T15:02:18.762857914",
          "2024-08-20T15:02:18.883042097",
          "2024-08-20T15:02:19.004307985",
          "2024-08-20T15:02:19.157008648",
          "2024-08-20T15:02:19.327267885",
          "2024-08-20T15:02:19.436714411",
          "2024-08-20T15:02:19.599973917",
          "2024-08-20T15:02:19.766749144",
          "2024-08-20T15:02:19.871646643",
          "2024-08-20T15:02:19.999830484",
          "2024-08-20T15:02:20.161592722",
          "2024-08-20T15:02:20.286218882",
          "2024-08-20T15:02:20.440714836",
          "2024-08-20T15:02:20.605215549",
          "2024-08-20T15:02:20.714147568",
          "2024-08-20T15:02:20.837599516",
          "2024-08-20T15:02:20.952944517",
          "2024-08-20T15:02:21.123185635",
          "2024-08-20T15:02:21.246286154",
          "2024-08-20T15:02:21.405198812",
          "2024-08-20T15:02:21.517128468",
          "2024-08-20T15:02:21.647811174",
          "2024-08-20T15:02:21.762786627",
          "2024-08-20T15:02:21.883120775",
          "2024-08-20T15:02:21.996558905",
          "2024-08-20T15:02:22.161293983",
          "2024-08-20T15:02:22.282233715",
          "2024-08-20T15:02:22.409548044",
          "2024-08-20T15:02:22.514147043",
          "2024-08-20T15:02:22.635485888",
          "2024-08-20T15:02:22.802203894",
          "2024-08-20T15:02:22.922529221",
          "2024-08-20T15:02:23.046664715",
          "2024-08-20T15:02:23.153642893",
          "2024-08-20T15:02:23.278475761",
          "2024-08-20T15:02:23.445415258",
          "2024-08-20T15:02:23.566859245",
          "2024-08-20T15:02:23.685121775",
          "2024-08-20T15:02:23.797124863",
          "2024-08-20T15:02:23.917525291",
          "2024-08-20T15:02:24.082720518",
          "2024-08-20T15:02:24.204988718",
          "2024-08-20T15:02:24.327560902",
          "2024-08-20T15:02:24.435809612",
          "2024-08-20T15:02:24.601779699",
          "2024-08-20T15:02:24.720721960",
          "2024-08-20T15:02:24.841271162",
          "2024-08-20T15:02:24.964134693",
          "2024-08-20T15:02:25.087717772",
          "2024-08-20T15:02:25.196487188",
          "2024-08-20T15:02:25.360753536",
          "2024-08-20T15:02:25.486140490",
          "2024-08-20T15:02:25.606671095",
          "2024-08-20T15:02:25.761582851",
          "2024-08-20T15:02:25.888092041",
          "2024-08-20T15:02:26.003779888",
          "2024-08-20T15:02:26.114914894",
          "2024-08-20T15:02:26.283519506",
          "2024-08-20T15:02:26.403701067",
          "2024-08-20T15:02:26.524965048",
          "2024-08-20T15:02:26.634034872",
          "2024-08-20T15:02:26.801784515",
          "2024-08-20T15:02:26.926733494",
          "2024-08-20T15:02:27.054726362",
          "2024-08-20T15:02:27.154217958",
          "2024-08-20T15:02:27.276260614",
          "2024-08-20T15:02:27.442172289",
          "2024-08-20T15:02:27.565934896",
          "2024-08-20T15:02:27.687217712",
          "2024-08-20T15:02:27.794624090",
          "2024-08-20T15:02:27.963214636",
          "2024-08-20T15:02:28.086113691",
          "2024-08-20T15:02:28.237822294",
          "2024-08-20T15:02:28.358745098",
          "2024-08-20T15:02:28.488312006",
          "2024-08-20T15:02:28.644916296",
          "2024-08-20T15:02:28.766032219",
          "2024-08-20T15:02:28.918739080",
          "2024-08-20T15:02:29.073685884",
          "2024-08-20T15:02:29.194067240",
          "2024-08-20T15:02:29.362292051",
          "2024-08-20T15:02:29.487104893",
          "2024-08-20T15:02:29.616975546",
          "2024-08-20T15:02:29.713651896",
          "2024-08-20T15:02:29.840871096",
          "2024-08-20T15:02:30.003021717",
          "2024-08-20T15:02:30.125239611",
          "2024-08-20T15:02:30.245824337",
          "2024-08-20T15:02:30.402277231",
          "2024-08-20T15:02:30.525814056",
          "2024-08-20T15:02:30.645123005",
          "2024-08-20T15:02:30.753787518",
          "2024-08-20T15:02:30.924138308",
          "2024-08-20T15:02:31.041220903",
          "2024-08-20T15:02:31.166867971",
          "2024-08-20T15:02:31.319327116",
          "2024-08-20T15:02:31.474601984",
          "2024-08-20T15:02:31.650249481",
          "2024-08-20T15:02:31.759696245",
          "2024-08-20T15:02:31.915396214",
          "2024-08-20T15:02:32.038312197",
          "2024-08-20T15:02:32.156599045",
          "2024-08-20T15:02:32.280468464",
          "2024-08-20T15:02:32.433677435",
          "2024-08-20T15:02:32.559539795",
          "2024-08-20T15:02:32.725037813",
          "2024-08-20T15:02:32.845351696",
          "2024-08-20T15:02:32.970373631",
          "2024-08-20T15:02:33.121558189",
          "2024-08-20T15:02:33.242991924",
          "2024-08-20T15:02:33.369984865",
          "2024-08-20T15:02:33.475648403",
          "2024-08-20T15:02:33.644472599",
          "2024-08-20T15:02:33.781922817",
          "2024-08-20T15:02:33.884264708",
          "2024-08-20T15:02:34.040078163",
          "2024-08-20T15:02:34.164381027",
          "2024-08-20T15:02:34.282924891",
          "2024-08-20T15:02:34.392761230",
          "2024-08-20T15:02:34.562018633",
          "2024-08-20T15:02:34.686735630",
          "2024-08-20T15:02:34.796435595",
          "2024-08-20T15:02:34.916106939",
          "2024-08-20T15:02:35.080923796",
          "2024-08-20T15:02:35.204292297",
          "2024-08-20T15:02:35.314707041",
          "2024-08-20T15:02:35.435313702",
          "2024-08-20T15:02:35.604522943",
          "2024-08-20T15:02:35.725950956",
          "2024-08-20T15:02:35.875488758",
          "2024-08-20T15:02:36.000121593",
          "2024-08-20T15:02:36.121001005",
          "2024-08-20T15:02:36.278142929",
          "2024-08-20T15:02:36.396673679",
          "2024-08-20T15:02:36.563310862",
          "2024-08-20T15:02:36.685620308",
          "2024-08-20T15:02:36.792343378",
          "2024-08-20T15:02:36.959307909",
          "2024-08-20T15:02:37.082326889",
          "2024-08-20T15:02:37.245044470",
          "2024-08-20T15:02:37.361033678",
          "2024-08-20T15:02:37.480875254",
          "2024-08-20T15:02:37.603250504",
          "2024-08-20T15:02:37.755744457",
          "2024-08-20T15:02:37.845965624",
          "2024-08-20T15:02:38.003075123",
          "2024-08-20T15:02:38.121742725",
          "2024-08-20T15:02:38.252454996",
          "2024-08-20T15:02:38.352252245",
          "2024-08-20T15:02:38.474505186",
          "2024-08-20T15:02:38.596199274",
          "2024-08-20T15:02:38.770739794",
          "2024-08-20T15:02:38.877174616",
          "2024-08-20T15:02:38.993919849",
          "2024-08-20T15:02:39.162438154",
          "2024-08-20T15:02:39.287177086",
          "2024-08-20T15:02:39.438882113",
          "2024-08-20T15:02:39.562500954",
          "2024-08-20T15:02:39.713303566",
          "2024-08-20T15:02:39.834657192",
          "2024-08-20T15:02:39.955525637",
          "2024-08-20T15:02:40.075647593",
          "2024-08-20T15:02:40.242157221",
          "2024-08-20T15:02:40.367233038",
          "2024-08-20T15:02:40.498326778",
          "2024-08-20T15:02:40.643377304",
          "2024-08-20T15:02:40.763145208",
          "2024-08-20T15:02:40.884384871",
          "2024-08-20T15:02:41.010831594",
          "2024-08-20T15:02:41.116868496",
          "2024-08-20T15:02:41.281048775",
          "2024-08-20T15:02:41.403657198",
          "2024-08-20T15:02:41.526602507",
          "2024-08-20T15:02:41.677771568",
          "2024-08-20T15:02:41.801970482",
          "2024-08-20T15:02:41.953197718",
          "2024-08-20T15:02:42.078015089",
          "2024-08-20T15:02:42.201169968",
          "2024-08-20T15:02:42.322632074",
          "2024-08-20T15:02:42.442066908",
          "2024-08-20T15:02:42.562625647",
          "2024-08-20T15:02:42.720097780",
          "2024-08-20T15:02:42.837252617",
          "2024-08-20T15:02:43.003489494",
          "2024-08-20T15:02:43.125187397",
          "2024-08-20T15:02:43.247076035",
          "2024-08-20T15:02:43.401223898",
          "2024-08-20T15:02:43.523348092",
          "2024-08-20T15:02:43.644113302",
          "2024-08-20T15:02:43.798686743",
          "2024-08-20T15:02:43.921944857",
          "2024-08-20T15:02:44.075364590",
          "2024-08-20T15:02:44.198359489",
          "2024-08-20T15:02:44.362286806",
          "2024-08-20T15:02:44.485900879",
          "2024-08-20T15:02:44.598856449",
          "2024-08-20T15:02:44.761202574",
          "2024-08-20T15:02:44.880804062",
          "2024-08-20T15:02:45.002302170",
          "2024-08-20T15:02:45.110001564",
          "2024-08-20T15:02:45.355456591",
          "2024-08-20T15:02:45.476576328",
          "2024-08-20T15:02:45.602966309",
          "2024-08-20T15:02:45.732405186",
          "2024-08-20T15:02:45.843926191",
          "2024-08-20T15:02:45.965078354",
          "2024-08-20T15:02:46.072152376",
          "2024-08-20T15:02:46.198323250",
          "2024-08-20T15:02:46.361271620",
          "2024-08-20T15:02:46.480956793",
          "2024-08-20T15:02:46.604932308",
          "2024-08-20T15:02:46.712121487",
          "2024-08-20T15:02:46.835193396",
          "2024-08-20T15:02:46.953438759",
          "2024-08-20T15:02:47.076820612",
          "2024-08-20T15:02:47.241947889",
          "2024-08-20T15:02:47.363602400",
          "2024-08-20T15:02:47.485330820",
          "2024-08-20T15:02:47.640625000",
          "2024-08-20T15:02:47.792040586",
          "2024-08-20T15:02:47.914000511",
          "2024-08-20T15:02:48.032869816",
          "2024-08-20T15:02:48.199754238",
          "2024-08-20T15:02:48.363554716",
          "2024-08-20T15:02:48.484921694",
          "2024-08-20T15:02:48.639476776",
          "2024-08-20T15:02:48.792294979",
          "2024-08-20T15:02:48.913881063",
          "2024-08-20T15:02:49.081993580",
          "2024-08-20T15:02:49.207182646",
          "2024-08-20T15:02:49.323836327",
          "2024-08-20T15:02:49.432366848",
          "2024-08-20T15:02:49.602751017",
          "2024-08-20T15:02:49.722833157",
          "2024-08-20T15:02:49.847737074",
          "2024-08-20T15:02:49.995359182",
          "2024-08-20T15:02:50.117849112",
          "2024-08-20T15:02:50.236436605",
          "2024-08-20T15:02:50.357519627",
          "2024-08-20T15:02:50.523447275",
          "2024-08-20T15:02:50.632985592",
          "2024-08-20T15:02:50.798610210",
          "2024-08-20T15:02:50.925453901",
          "2024-08-20T15:02:51.076693296",
          "2024-08-20T15:02:51.245827436",
          "2024-08-20T15:02:51.370656013",
          "2024-08-20T15:02:51.517471313",
          "2024-08-20T15:02:51.684295893",
          "2024-08-20T15:02:51.837095499",
          "2024-08-20T15:02:51.992043018",
          "2024-08-20T15:02:52.113965988",
          "2024-08-20T15:02:52.283131123",
          "2024-08-20T15:02:52.430674314",
          "2024-08-20T15:02:52.551435232",
          "2024-08-20T15:02:52.716956377",
          "2024-08-20T15:02:53.039571285",
          "2024-08-20T15:02:53.162780762",
          "2024-08-20T15:02:53.269373178",
          "2024-08-20T15:02:53.395482302",
          "2024-08-20T15:02:53.603687525",
          "2024-08-20T15:02:53.711513519",
          "2024-08-20T15:02:53.832164764",
          "2024-08-20T15:02:53.997287512",
          "2024-08-20T15:02:55.000480413",
          "2024-08-20T15:02:55.123721600",
          "2024-08-20T15:02:55.231111288",
          "2024-08-20T15:02:55.399628878",
          "2024-08-20T15:02:55.564450741",
          "2024-08-20T15:02:55.673389912",
          "2024-08-20T15:02:55.841045380",
          "2024-08-20T15:02:55.993667364",
          "2024-08-20T15:02:56.557906389",
          "2024-08-20T15:02:56.957200766",
          "2024-08-20T15:02:57.083323717",
          "2024-08-20T15:02:58.592865705",
          "2024-08-20T15:03:00.519725800"
         ],
         "xaxis": "x",
         "y": {
          "bdata": "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",
          "dtype": "f8"
         },
         "yaxis": "y"
        },
        {
         "marker": {
          "color": "red",
          "size": 6
         },
         "mode": "markers",
         "name": "XY Position",
         "type": "scatter",
         "x": {
          "bdata": "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",
          "dtype": "f8"
         },
         "xaxis": "x2",
         "y": {
          "bdata": "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",
          "dtype": "f8"
         },
         "yaxis": "y2"
        },
        {
         "line": {
          "color": "green"
         },
         "marker": {
          "size": 4
         },
         "mode": "lines+markers",
         "name": "Pitch",
         "type": "scatter",
         "x": [
          "2024-08-20T15:02:03.753343105",
          "2024-08-20T15:02:04.286877632",
          "2024-08-20T15:02:04.366403103",
          "2024-08-20T15:02:04.683693647",
          "2024-08-20T15:02:04.915297031",
          "2024-08-20T15:02:05.084481955",
          "2024-08-20T15:02:05.158435106",
          "2024-08-20T15:02:05.236343145",
          "2024-08-20T15:02:05.326221704",
          "2024-08-20T15:02:05.404215097",
          "2024-08-20T15:02:05.480346918",
          "2024-08-20T15:02:05.560374498",
          "2024-08-20T15:02:05.648545265",
          "2024-08-20T15:02:05.725035906",
          "2024-08-20T15:02:05.799499989",
          "2024-08-20T15:02:05.901206493",
          "2024-08-20T15:02:05.967822075",
          "2024-08-20T15:02:06.062466621",
          "2024-08-20T15:02:06.123165607",
          "2024-08-20T15:02:06.194533825",
          "2024-08-20T15:02:06.289225101",
          "2024-08-20T15:02:06.364275217",
          "2024-08-20T15:02:06.483819485",
          "2024-08-20T15:02:06.514274597",
          "2024-08-20T15:02:06.605874300",
          "2024-08-20T15:02:06.727084637",
          "2024-08-20T15:02:06.802437544",
          "2024-08-20T15:02:06.884123087",
          "2024-08-20T15:02:06.955416441",
          "2024-08-20T15:02:07.047633886",
          "2024-08-20T15:02:07.121618986",
          "2024-08-20T15:02:07.197739363",
          "2024-08-20T15:02:07.275727510",
          "2024-08-20T15:02:07.353418112",
          "2024-08-20T15:02:07.442238092",
          "2024-08-20T15:02:07.565906286",
          "2024-08-20T15:02:07.639085531",
          "2024-08-20T15:02:07.719254494",
          "2024-08-20T15:02:07.807295084",
          "2024-08-20T15:02:07.881276846",
          "2024-08-20T15:02:07.956668854",
          "2024-08-20T15:02:08.046113968",
          "2024-08-20T15:02:08.122446299",
          "2024-08-20T15:02:08.196683407",
          "2024-08-20T15:02:08.320810556",
          "2024-08-20T15:02:08.368727922",
          "2024-08-20T15:02:08.472889900",
          "2024-08-20T15:02:08.565894365",
          "2024-08-20T15:02:08.642631531",
          "2024-08-20T15:02:08.719401360",
          "2024-08-20T15:02:08.795868158",
          "2024-08-20T15:02:08.875091076",
          "2024-08-20T15:02:08.965901136",
          "2024-08-20T15:02:09.042343140",
          "2024-08-20T15:02:09.162106037",
          "2024-08-20T15:02:09.238454819",
          "2024-08-20T15:02:09.315991402",
          "2024-08-20T15:02:09.404951811",
          "2024-08-20T15:02:09.482789040",
          "2024-08-20T15:02:09.556789637",
          "2024-08-20T15:02:09.635899544",
          "2024-08-20T15:02:09.712990761",
          "2024-08-20T15:02:09.804790497",
          "2024-08-20T15:02:09.877582312",
          "2024-08-20T15:02:09.955979824",
          "2024-08-20T15:02:10.046456575",
          "2024-08-20T15:02:10.121959209",
          "2024-08-20T15:02:10.199405670",
          "2024-08-20T15:02:10.322257519",
          "2024-08-20T15:02:10.396345615",
          "2024-08-20T15:02:10.474006891",
          "2024-08-20T15:02:10.566845894",
          "2024-08-20T15:02:10.641668797",
          "2024-08-20T15:02:10.718416929",
          "2024-08-20T15:02:10.795139074",
          "2024-08-20T15:02:10.886515379",
          "2024-08-20T15:02:10.962904692",
          "2024-08-20T15:02:11.035766840",
          "2024-08-20T15:02:11.115008593",
          "2024-08-20T15:02:11.235077620",
          "2024-08-20T15:02:11.359288454",
          "2024-08-20T15:02:11.479769230",
          "2024-08-20T15:02:11.634877920",
          "2024-08-20T15:02:11.756905079",
          "2024-08-20T15:02:11.888004065",
          "2024-08-20T15:02:12.047279835",
          "2024-08-20T15:02:12.157192469",
          "2024-08-20T15:02:12.322944641",
          "2024-08-20T15:02:12.447111607",
          "2024-08-20T15:02:12.553499699",
          "2024-08-20T15:02:12.674876690",
          "2024-08-20T15:02:12.843362570",
          "2024-08-20T15:02:12.962796211",
          "2024-08-20T15:02:13.115097046",
          "2024-08-20T15:02:13.283073902",
          "2024-08-20T15:02:13.404504299",
          "2024-08-20T15:02:13.556448698",
          "2024-08-20T15:02:13.678884745",
          "2024-08-20T15:02:13.800711155",
          "2024-08-20T15:02:13.922041178",
          "2024-08-20T15:02:14.074223280",
          "2024-08-20T15:02:14.198152304",
          "2024-08-20T15:02:14.321067572",
          "2024-08-20T15:02:14.443800211",
          "2024-08-20T15:02:14.593149185",
          "2024-08-20T15:02:14.714362621",
          "2024-08-20T15:02:14.842286348",
          "2024-08-20T15:02:14.959927082",
          "2024-08-20T15:02:15.081702709",
          "2024-08-20T15:02:15.247588158",
          "2024-08-20T15:02:15.368896246",
          "2024-08-20T15:02:15.519512891",
          "2024-08-20T15:02:15.689424515",
          "2024-08-20T15:02:15.797812939",
          "2024-08-20T15:02:15.962221384",
          "2024-08-20T15:02:16.084906340",
          "2024-08-20T15:02:16.208043098",
          "2024-08-20T15:02:16.312473297",
          "2024-08-20T15:02:16.482465506",
          "2024-08-20T15:02:16.604576588",
          "2024-08-20T15:02:16.725301504",
          "2024-08-20T15:02:16.835228920",
          "2024-08-20T15:02:17.004967928",
          "2024-08-20T15:02:17.154425383",
          "2024-08-20T15:02:17.278763056",
          "2024-08-20T15:02:17.448799610",
          "2024-08-20T15:02:17.555910587",
          "2024-08-20T15:02:17.722048998",
          "2024-08-20T15:02:17.874911785",
          "2024-08-20T15:02:18.042182207",
          "2024-08-20T15:02:18.168005943",
          "2024-08-20T15:02:18.324055195",
          "2024-08-20T15:02:18.486371279",
          "2024-08-20T15:02:18.592553139",
          "2024-08-20T15:02:18.762857914",
          "2024-08-20T15:02:18.883042097",
          "2024-08-20T15:02:19.004307985",
          "2024-08-20T15:02:19.157008648",
          "2024-08-20T15:02:19.327267885",
          "2024-08-20T15:02:19.436714411",
          "2024-08-20T15:02:19.599973917",
          "2024-08-20T15:02:19.766749144",
          "2024-08-20T15:02:19.871646643",
          "2024-08-20T15:02:19.999830484",
          "2024-08-20T15:02:20.161592722",
          "2024-08-20T15:02:20.286218882",
          "2024-08-20T15:02:20.440714836",
          "2024-08-20T15:02:20.605215549",
          "2024-08-20T15:02:20.714147568",
          "2024-08-20T15:02:20.837599516",
          "2024-08-20T15:02:20.952944517",
          "2024-08-20T15:02:21.123185635",
          "2024-08-20T15:02:21.246286154",
          "2024-08-20T15:02:21.405198812",
          "2024-08-20T15:02:21.517128468",
          "2024-08-20T15:02:21.647811174",
          "2024-08-20T15:02:21.762786627",
          "2024-08-20T15:02:21.883120775",
          "2024-08-20T15:02:21.996558905",
          "2024-08-20T15:02:22.161293983",
          "2024-08-20T15:02:22.282233715",
          "2024-08-20T15:02:22.409548044",
          "2024-08-20T15:02:22.514147043",
          "2024-08-20T15:02:22.635485888",
          "2024-08-20T15:02:22.802203894",
          "2024-08-20T15:02:22.922529221",
          "2024-08-20T15:02:23.046664715",
          "2024-08-20T15:02:23.153642893",
          "2024-08-20T15:02:23.278475761",
          "2024-08-20T15:02:23.445415258",
          "2024-08-20T15:02:23.566859245",
          "2024-08-20T15:02:23.685121775",
          "2024-08-20T15:02:23.797124863",
          "2024-08-20T15:02:23.917525291",
          "2024-08-20T15:02:24.082720518",
          "2024-08-20T15:02:24.204988718",
          "2024-08-20T15:02:24.327560902",
          "2024-08-20T15:02:24.435809612",
          "2024-08-20T15:02:24.601779699",
          "2024-08-20T15:02:24.720721960",
          "2024-08-20T15:02:24.841271162",
          "2024-08-20T15:02:24.964134693",
          "2024-08-20T15:02:25.087717772",
          "2024-08-20T15:02:25.196487188",
          "2024-08-20T15:02:25.360753536",
          "2024-08-20T15:02:25.486140490",
          "2024-08-20T15:02:25.606671095",
          "2024-08-20T15:02:25.761582851",
          "2024-08-20T15:02:25.888092041",
          "2024-08-20T15:02:26.003779888",
          "2024-08-20T15:02:26.114914894",
          "2024-08-20T15:02:26.283519506",
          "2024-08-20T15:02:26.403701067",
          "2024-08-20T15:02:26.524965048",
          "2024-08-20T15:02:26.634034872",
          "2024-08-20T15:02:26.801784515",
          "2024-08-20T15:02:26.926733494",
          "2024-08-20T15:02:27.054726362",
          "2024-08-20T15:02:27.154217958",
          "2024-08-20T15:02:27.276260614",
          "2024-08-20T15:02:27.442172289",
          "2024-08-20T15:02:27.565934896",
          "2024-08-20T15:02:27.687217712",
          "2024-08-20T15:02:27.794624090",
          "2024-08-20T15:02:27.963214636",
          "2024-08-20T15:02:28.086113691",
          "2024-08-20T15:02:28.237822294",
          "2024-08-20T15:02:28.358745098",
          "2024-08-20T15:02:28.488312006",
          "2024-08-20T15:02:28.644916296",
          "2024-08-20T15:02:28.766032219",
          "2024-08-20T15:02:28.918739080",
          "2024-08-20T15:02:29.073685884",
          "2024-08-20T15:02:29.194067240",
          "2024-08-20T15:02:29.362292051",
          "2024-08-20T15:02:29.487104893",
          "2024-08-20T15:02:29.616975546",
          "2024-08-20T15:02:29.713651896",
          "2024-08-20T15:02:29.840871096",
          "2024-08-20T15:02:30.003021717",
          "2024-08-20T15:02:30.125239611",
          "2024-08-20T15:02:30.245824337",
          "2024-08-20T15:02:30.402277231",
          "2024-08-20T15:02:30.525814056",
          "2024-08-20T15:02:30.645123005",
          "2024-08-20T15:02:30.753787518",
          "2024-08-20T15:02:30.924138308",
          "2024-08-20T15:02:31.041220903",
          "2024-08-20T15:02:31.166867971",
          "2024-08-20T15:02:31.319327116",
          "2024-08-20T15:02:31.474601984",
          "2024-08-20T15:02:31.650249481",
          "2024-08-20T15:02:31.759696245",
          "2024-08-20T15:02:31.915396214",
          "2024-08-20T15:02:32.038312197",
          "2024-08-20T15:02:32.156599045",
          "2024-08-20T15:02:32.280468464",
          "2024-08-20T15:02:32.433677435",
          "2024-08-20T15:02:32.559539795",
          "2024-08-20T15:02:32.725037813",
          "2024-08-20T15:02:32.845351696",
          "2024-08-20T15:02:32.970373631",
          "2024-08-20T15:02:33.121558189",
          "2024-08-20T15:02:33.242991924",
          "2024-08-20T15:02:33.369984865",
          "2024-08-20T15:02:33.475648403",
          "2024-08-20T15:02:33.644472599",
          "2024-08-20T15:02:33.781922817",
          "2024-08-20T15:02:33.884264708",
          "2024-08-20T15:02:34.040078163",
          "2024-08-20T15:02:34.164381027",
          "2024-08-20T15:02:34.282924891",
          "2024-08-20T15:02:34.392761230",
          "2024-08-20T15:02:34.562018633",
          "2024-08-20T15:02:34.686735630",
          "2024-08-20T15:02:34.796435595",
          "2024-08-20T15:02:34.916106939",
          "2024-08-20T15:02:35.080923796",
          "2024-08-20T15:02:35.204292297",
          "2024-08-20T15:02:35.314707041",
          "2024-08-20T15:02:35.435313702",
          "2024-08-20T15:02:35.604522943",
          "2024-08-20T15:02:35.725950956",
          "2024-08-20T15:02:35.875488758",
          "2024-08-20T15:02:36.000121593",
          "2024-08-20T15:02:36.121001005",
          "2024-08-20T15:02:36.278142929",
          "2024-08-20T15:02:36.396673679",
          "2024-08-20T15:02:36.563310862",
          "2024-08-20T15:02:36.685620308",
          "2024-08-20T15:02:36.792343378",
          "2024-08-20T15:02:36.959307909",
          "2024-08-20T15:02:37.082326889",
          "2024-08-20T15:02:37.245044470",
          "2024-08-20T15:02:37.361033678",
          "2024-08-20T15:02:37.480875254",
          "2024-08-20T15:02:37.603250504",
          "2024-08-20T15:02:37.755744457",
          "2024-08-20T15:02:37.845965624",
          "2024-08-20T15:02:38.003075123",
          "2024-08-20T15:02:38.121742725",
          "2024-08-20T15:02:38.252454996",
          "2024-08-20T15:02:38.352252245",
          "2024-08-20T15:02:38.474505186",
          "2024-08-20T15:02:38.596199274",
          "2024-08-20T15:02:38.770739794",
          "2024-08-20T15:02:38.877174616",
          "2024-08-20T15:02:38.993919849",
          "2024-08-20T15:02:39.162438154",
          "2024-08-20T15:02:39.287177086",
          "2024-08-20T15:02:39.438882113",
          "2024-08-20T15:02:39.562500954",
          "2024-08-20T15:02:39.713303566",
          "2024-08-20T15:02:39.834657192",
          "2024-08-20T15:02:39.955525637",
          "2024-08-20T15:02:40.075647593",
          "2024-08-20T15:02:40.242157221",
          "2024-08-20T15:02:40.367233038",
          "2024-08-20T15:02:40.498326778",
          "2024-08-20T15:02:40.643377304",
          "2024-08-20T15:02:40.763145208",
          "2024-08-20T15:02:40.884384871",
          "2024-08-20T15:02:41.010831594",
          "2024-08-20T15:02:41.116868496",
          "2024-08-20T15:02:41.281048775",
          "2024-08-20T15:02:41.403657198",
          "2024-08-20T15:02:41.526602507",
          "2024-08-20T15:02:41.677771568",
          "2024-08-20T15:02:41.801970482",
          "2024-08-20T15:02:41.953197718",
          "2024-08-20T15:02:42.078015089",
          "2024-08-20T15:02:42.201169968",
          "2024-08-20T15:02:42.322632074",
          "2024-08-20T15:02:42.442066908",
          "2024-08-20T15:02:42.562625647",
          "2024-08-20T15:02:42.720097780",
          "2024-08-20T15:02:42.837252617",
          "2024-08-20T15:02:43.003489494",
          "2024-08-20T15:02:43.125187397",
          "2024-08-20T15:02:43.247076035",
          "2024-08-20T15:02:43.401223898",
          "2024-08-20T15:02:43.523348092",
          "2024-08-20T15:02:43.644113302",
          "2024-08-20T15:02:43.798686743",
          "2024-08-20T15:02:43.921944857",
          "2024-08-20T15:02:44.075364590",
          "2024-08-20T15:02:44.198359489",
          "2024-08-20T15:02:44.362286806",
          "2024-08-20T15:02:44.485900879",
          "2024-08-20T15:02:44.598856449",
          "2024-08-20T15:02:44.761202574",
          "2024-08-20T15:02:44.880804062",
          "2024-08-20T15:02:45.002302170",
          "2024-08-20T15:02:45.110001564",
          "2024-08-20T15:02:45.355456591",
          "2024-08-20T15:02:45.476576328",
          "2024-08-20T15:02:45.602966309",
          "2024-08-20T15:02:45.732405186",
          "2024-08-20T15:02:45.843926191",
          "2024-08-20T15:02:45.965078354",
          "2024-08-20T15:02:46.072152376",
          "2024-08-20T15:02:46.198323250",
          "2024-08-20T15:02:46.361271620",
          "2024-08-20T15:02:46.480956793",
          "2024-08-20T15:02:46.604932308",
          "2024-08-20T15:02:46.712121487",
          "2024-08-20T15:02:46.835193396",
          "2024-08-20T15:02:46.953438759",
          "2024-08-20T15:02:47.076820612",
          "2024-08-20T15:02:47.241947889",
          "2024-08-20T15:02:47.363602400",
          "2024-08-20T15:02:47.485330820",
          "2024-08-20T15:02:47.640625000",
          "2024-08-20T15:02:47.792040586",
          "2024-08-20T15:02:47.914000511",
          "2024-08-20T15:02:48.032869816",
          "2024-08-20T15:02:48.199754238",
          "2024-08-20T15:02:48.363554716",
          "2024-08-20T15:02:48.484921694",
          "2024-08-20T15:02:48.639476776",
          "2024-08-20T15:02:48.792294979",
          "2024-08-20T15:02:48.913881063",
          "2024-08-20T15:02:49.081993580",
          "2024-08-20T15:02:49.207182646",
          "2024-08-20T15:02:49.323836327",
          "2024-08-20T15:02:49.432366848",
          "2024-08-20T15:02:49.602751017",
          "2024-08-20T15:02:49.722833157",
          "2024-08-20T15:02:49.847737074",
          "2024-08-20T15:02:49.995359182",
          "2024-08-20T15:02:50.117849112",
          "2024-08-20T15:02:50.236436605",
          "2024-08-20T15:02:50.357519627",
          "2024-08-20T15:02:50.523447275",
          "2024-08-20T15:02:50.632985592",
          "2024-08-20T15:02:50.798610210",
          "2024-08-20T15:02:50.925453901",
          "2024-08-20T15:02:51.076693296",
          "2024-08-20T15:02:51.245827436",
          "2024-08-20T15:02:51.370656013",
          "2024-08-20T15:02:51.517471313",
          "2024-08-20T15:02:51.684295893",
          "2024-08-20T15:02:51.837095499",
          "2024-08-20T15:02:51.992043018",
          "2024-08-20T15:02:52.113965988",
          "2024-08-20T15:02:52.283131123",
          "2024-08-20T15:02:52.430674314",
          "2024-08-20T15:02:52.551435232",
          "2024-08-20T15:02:52.716956377",
          "2024-08-20T15:02:53.039571285",
          "2024-08-20T15:02:53.162780762",
          "2024-08-20T15:02:53.269373178",
          "2024-08-20T15:02:53.395482302",
          "2024-08-20T15:02:53.603687525",
          "2024-08-20T15:02:53.711513519",
          "2024-08-20T15:02:53.832164764",
          "2024-08-20T15:02:53.997287512",
          "2024-08-20T15:02:55.000480413",
          "2024-08-20T15:02:55.123721600",
          "2024-08-20T15:02:55.231111288",
          "2024-08-20T15:02:55.399628878",
          "2024-08-20T15:02:55.564450741",
          "2024-08-20T15:02:55.673389912",
          "2024-08-20T15:02:55.841045380",
          "2024-08-20T15:02:55.993667364",
          "2024-08-20T15:02:56.557906389",
          "2024-08-20T15:02:56.957200766",
          "2024-08-20T15:02:57.083323717",
          "2024-08-20T15:02:58.592865705",
          "2024-08-20T15:03:00.519725800"
         ],
         "xaxis": "x3",
         "y": {
          "bdata": "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",
          "dtype": "f8"
         },
         "yaxis": "y3"
        },
        {
         "line": {
          "color": "orange"
         },
         "marker": {
          "size": 4
         },
         "mode": "lines+markers",
         "name": "Heading",
         "type": "scatter",
         "x": [
          "2024-08-20T15:02:03.753343105",
          "2024-08-20T15:02:04.286877632",
          "2024-08-20T15:02:04.366403103",
          "2024-08-20T15:02:04.683693647",
          "2024-08-20T15:02:04.915297031",
          "2024-08-20T15:02:05.084481955",
          "2024-08-20T15:02:05.158435106",
          "2024-08-20T15:02:05.236343145",
          "2024-08-20T15:02:05.326221704",
          "2024-08-20T15:02:05.404215097",
          "2024-08-20T15:02:05.480346918",
          "2024-08-20T15:02:05.560374498",
          "2024-08-20T15:02:05.648545265",
          "2024-08-20T15:02:05.725035906",
          "2024-08-20T15:02:05.799499989",
          "2024-08-20T15:02:05.901206493",
          "2024-08-20T15:02:05.967822075",
          "2024-08-20T15:02:06.062466621",
          "2024-08-20T15:02:06.123165607",
          "2024-08-20T15:02:06.194533825",
          "2024-08-20T15:02:06.289225101",
          "2024-08-20T15:02:06.364275217",
          "2024-08-20T15:02:06.483819485",
          "2024-08-20T15:02:06.514274597",
          "2024-08-20T15:02:06.605874300",
          "2024-08-20T15:02:06.727084637",
          "2024-08-20T15:02:06.802437544",
          "2024-08-20T15:02:06.884123087",
          "2024-08-20T15:02:06.955416441",
          "2024-08-20T15:02:07.047633886",
          "2024-08-20T15:02:07.121618986",
          "2024-08-20T15:02:07.197739363",
          "2024-08-20T15:02:07.275727510",
          "2024-08-20T15:02:07.353418112",
          "2024-08-20T15:02:07.442238092",
          "2024-08-20T15:02:07.565906286",
          "2024-08-20T15:02:07.639085531",
          "2024-08-20T15:02:07.719254494",
          "2024-08-20T15:02:07.807295084",
          "2024-08-20T15:02:07.881276846",
          "2024-08-20T15:02:07.956668854",
          "2024-08-20T15:02:08.046113968",
          "2024-08-20T15:02:08.122446299",
          "2024-08-20T15:02:08.196683407",
          "2024-08-20T15:02:08.320810556",
          "2024-08-20T15:02:08.368727922",
          "2024-08-20T15:02:08.472889900",
          "2024-08-20T15:02:08.565894365",
          "2024-08-20T15:02:08.642631531",
          "2024-08-20T15:02:08.719401360",
          "2024-08-20T15:02:08.795868158",
          "2024-08-20T15:02:08.875091076",
          "2024-08-20T15:02:08.965901136",
          "2024-08-20T15:02:09.042343140",
          "2024-08-20T15:02:09.162106037",
          "2024-08-20T15:02:09.238454819",
          "2024-08-20T15:02:09.315991402",
          "2024-08-20T15:02:09.404951811",
          "2024-08-20T15:02:09.482789040",
          "2024-08-20T15:02:09.556789637",
          "2024-08-20T15:02:09.635899544",
          "2024-08-20T15:02:09.712990761",
          "2024-08-20T15:02:09.804790497",
          "2024-08-20T15:02:09.877582312",
          "2024-08-20T15:02:09.955979824",
          "2024-08-20T15:02:10.046456575",
          "2024-08-20T15:02:10.121959209",
          "2024-08-20T15:02:10.199405670",
          "2024-08-20T15:02:10.322257519",
          "2024-08-20T15:02:10.396345615",
          "2024-08-20T15:02:10.474006891",
          "2024-08-20T15:02:10.566845894",
          "2024-08-20T15:02:10.641668797",
          "2024-08-20T15:02:10.718416929",
          "2024-08-20T15:02:10.795139074",
          "2024-08-20T15:02:10.886515379",
          "2024-08-20T15:02:10.962904692",
          "2024-08-20T15:02:11.035766840",
          "2024-08-20T15:02:11.115008593",
          "2024-08-20T15:02:11.235077620",
          "2024-08-20T15:02:11.359288454",
          "2024-08-20T15:02:11.479769230",
          "2024-08-20T15:02:11.634877920",
          "2024-08-20T15:02:11.756905079",
          "2024-08-20T15:02:11.888004065",
          "2024-08-20T15:02:12.047279835",
          "2024-08-20T15:02:12.157192469",
          "2024-08-20T15:02:12.322944641",
          "2024-08-20T15:02:12.447111607",
          "2024-08-20T15:02:12.553499699",
          "2024-08-20T15:02:12.674876690",
          "2024-08-20T15:02:12.843362570",
          "2024-08-20T15:02:12.962796211",
          "2024-08-20T15:02:13.115097046",
          "2024-08-20T15:02:13.283073902",
          "2024-08-20T15:02:13.404504299",
          "2024-08-20T15:02:13.556448698",
          "2024-08-20T15:02:13.678884745",
          "2024-08-20T15:02:13.800711155",
          "2024-08-20T15:02:13.922041178",
          "2024-08-20T15:02:14.074223280",
          "2024-08-20T15:02:14.198152304",
          "2024-08-20T15:02:14.321067572",
          "2024-08-20T15:02:14.443800211",
          "2024-08-20T15:02:14.593149185",
          "2024-08-20T15:02:14.714362621",
          "2024-08-20T15:02:14.842286348",
          "2024-08-20T15:02:14.959927082",
          "2024-08-20T15:02:15.081702709",
          "2024-08-20T15:02:15.247588158",
          "2024-08-20T15:02:15.368896246",
          "2024-08-20T15:02:15.519512891",
          "2024-08-20T15:02:15.689424515",
          "2024-08-20T15:02:15.797812939",
          "2024-08-20T15:02:15.962221384",
          "2024-08-20T15:02:16.084906340",
          "2024-08-20T15:02:16.208043098",
          "2024-08-20T15:02:16.312473297",
          "2024-08-20T15:02:16.482465506",
          "2024-08-20T15:02:16.604576588",
          "2024-08-20T15:02:16.725301504",
          "2024-08-20T15:02:16.835228920",
          "2024-08-20T15:02:17.004967928",
          "2024-08-20T15:02:17.154425383",
          "2024-08-20T15:02:17.278763056",
          "2024-08-20T15:02:17.448799610",
          "2024-08-20T15:02:17.555910587",
          "2024-08-20T15:02:17.722048998",
          "2024-08-20T15:02:17.874911785",
          "2024-08-20T15:02:18.042182207",
          "2024-08-20T15:02:18.168005943",
          "2024-08-20T15:02:18.324055195",
          "2024-08-20T15:02:18.486371279",
          "2024-08-20T15:02:18.592553139",
          "2024-08-20T15:02:18.762857914",
          "2024-08-20T15:02:18.883042097",
          "2024-08-20T15:02:19.004307985",
          "2024-08-20T15:02:19.157008648",
          "2024-08-20T15:02:19.327267885",
          "2024-08-20T15:02:19.436714411",
          "2024-08-20T15:02:19.599973917",
          "2024-08-20T15:02:19.766749144",
          "2024-08-20T15:02:19.871646643",
          "2024-08-20T15:02:19.999830484",
          "2024-08-20T15:02:20.161592722",
          "2024-08-20T15:02:20.286218882",
          "2024-08-20T15:02:20.440714836",
          "2024-08-20T15:02:20.605215549",
          "2024-08-20T15:02:20.714147568",
          "2024-08-20T15:02:20.837599516",
          "2024-08-20T15:02:20.952944517",
          "2024-08-20T15:02:21.123185635",
          "2024-08-20T15:02:21.246286154",
          "2024-08-20T15:02:21.405198812",
          "2024-08-20T15:02:21.517128468",
          "2024-08-20T15:02:21.647811174",
          "2024-08-20T15:02:21.762786627",
          "2024-08-20T15:02:21.883120775",
          "2024-08-20T15:02:21.996558905",
          "2024-08-20T15:02:22.161293983",
          "2024-08-20T15:02:22.282233715",
          "2024-08-20T15:02:22.409548044",
          "2024-08-20T15:02:22.514147043",
          "2024-08-20T15:02:22.635485888",
          "2024-08-20T15:02:22.802203894",
          "2024-08-20T15:02:22.922529221",
          "2024-08-20T15:02:23.046664715",
          "2024-08-20T15:02:23.153642893",
          "2024-08-20T15:02:23.278475761",
          "2024-08-20T15:02:23.445415258",
          "2024-08-20T15:02:23.566859245",
          "2024-08-20T15:02:23.685121775",
          "2024-08-20T15:02:23.797124863",
          "2024-08-20T15:02:23.917525291",
          "2024-08-20T15:02:24.082720518",
          "2024-08-20T15:02:24.204988718",
          "2024-08-20T15:02:24.327560902",
          "2024-08-20T15:02:24.435809612",
          "2024-08-20T15:02:24.601779699",
          "2024-08-20T15:02:24.720721960",
          "2024-08-20T15:02:24.841271162",
          "2024-08-20T15:02:24.964134693",
          "2024-08-20T15:02:25.087717772",
          "2024-08-20T15:02:25.196487188",
          "2024-08-20T15:02:25.360753536",
          "2024-08-20T15:02:25.486140490",
          "2024-08-20T15:02:25.606671095",
          "2024-08-20T15:02:25.761582851",
          "2024-08-20T15:02:25.888092041",
          "2024-08-20T15:02:26.003779888",
          "2024-08-20T15:02:26.114914894",
          "2024-08-20T15:02:26.283519506",
          "2024-08-20T15:02:26.403701067",
          "2024-08-20T15:02:26.524965048",
          "2024-08-20T15:02:26.634034872",
          "2024-08-20T15:02:26.801784515",
          "2024-08-20T15:02:26.926733494",
          "2024-08-20T15:02:27.054726362",
          "2024-08-20T15:02:27.154217958",
          "2024-08-20T15:02:27.276260614",
          "2024-08-20T15:02:27.442172289",
          "2024-08-20T15:02:27.565934896",
          "2024-08-20T15:02:27.687217712",
          "2024-08-20T15:02:27.794624090",
          "2024-08-20T15:02:27.963214636",
          "2024-08-20T15:02:28.086113691",
          "2024-08-20T15:02:28.237822294",
          "2024-08-20T15:02:28.358745098",
          "2024-08-20T15:02:28.488312006",
          "2024-08-20T15:02:28.644916296",
          "2024-08-20T15:02:28.766032219",
          "2024-08-20T15:02:28.918739080",
          "2024-08-20T15:02:29.073685884",
          "2024-08-20T15:02:29.194067240",
          "2024-08-20T15:02:29.362292051",
          "2024-08-20T15:02:29.487104893",
          "2024-08-20T15:02:29.616975546",
          "2024-08-20T15:02:29.713651896",
          "2024-08-20T15:02:29.840871096",
          "2024-08-20T15:02:30.003021717",
          "2024-08-20T15:02:30.125239611",
          "2024-08-20T15:02:30.245824337",
          "2024-08-20T15:02:30.402277231",
          "2024-08-20T15:02:30.525814056",
          "2024-08-20T15:02:30.645123005",
          "2024-08-20T15:02:30.753787518",
          "2024-08-20T15:02:30.924138308",
          "2024-08-20T15:02:31.041220903",
          "2024-08-20T15:02:31.166867971",
          "2024-08-20T15:02:31.319327116",
          "2024-08-20T15:02:31.474601984",
          "2024-08-20T15:02:31.650249481",
          "2024-08-20T15:02:31.759696245",
          "2024-08-20T15:02:31.915396214",
          "2024-08-20T15:02:32.038312197",
          "2024-08-20T15:02:32.156599045",
          "2024-08-20T15:02:32.280468464",
          "2024-08-20T15:02:32.433677435",
          "2024-08-20T15:02:32.559539795",
          "2024-08-20T15:02:32.725037813",
          "2024-08-20T15:02:32.845351696",
          "2024-08-20T15:02:32.970373631",
          "2024-08-20T15:02:33.121558189",
          "2024-08-20T15:02:33.242991924",
          "2024-08-20T15:02:33.369984865",
          "2024-08-20T15:02:33.475648403",
          "2024-08-20T15:02:33.644472599",
          "2024-08-20T15:02:33.781922817",
          "2024-08-20T15:02:33.884264708",
          "2024-08-20T15:02:34.040078163",
          "2024-08-20T15:02:34.164381027",
          "2024-08-20T15:02:34.282924891",
          "2024-08-20T15:02:34.392761230",
          "2024-08-20T15:02:34.562018633",
          "2024-08-20T15:02:34.686735630",
          "2024-08-20T15:02:34.796435595",
          "2024-08-20T15:02:34.916106939",
          "2024-08-20T15:02:35.080923796",
          "2024-08-20T15:02:35.204292297",
          "2024-08-20T15:02:35.314707041",
          "2024-08-20T15:02:35.435313702",
          "2024-08-20T15:02:35.604522943",
          "2024-08-20T15:02:35.725950956",
          "2024-08-20T15:02:35.875488758",
          "2024-08-20T15:02:36.000121593",
          "2024-08-20T15:02:36.121001005",
          "2024-08-20T15:02:36.278142929",
          "2024-08-20T15:02:36.396673679",
          "2024-08-20T15:02:36.563310862",
          "2024-08-20T15:02:36.685620308",
          "2024-08-20T15:02:36.792343378",
          "2024-08-20T15:02:36.959307909",
          "2024-08-20T15:02:37.082326889",
          "2024-08-20T15:02:37.245044470",
          "2024-08-20T15:02:37.361033678",
          "2024-08-20T15:02:37.480875254",
          "2024-08-20T15:02:37.603250504",
          "2024-08-20T15:02:37.755744457",
          "2024-08-20T15:02:37.845965624",
          "2024-08-20T15:02:38.003075123",
          "2024-08-20T15:02:38.121742725",
          "2024-08-20T15:02:38.252454996",
          "2024-08-20T15:02:38.352252245",
          "2024-08-20T15:02:38.474505186",
          "2024-08-20T15:02:38.596199274",
          "2024-08-20T15:02:38.770739794",
          "2024-08-20T15:02:38.877174616",
          "2024-08-20T15:02:38.993919849",
          "2024-08-20T15:02:39.162438154",
          "2024-08-20T15:02:39.287177086",
          "2024-08-20T15:02:39.438882113",
          "2024-08-20T15:02:39.562500954",
          "2024-08-20T15:02:39.713303566",
          "2024-08-20T15:02:39.834657192",
          "2024-08-20T15:02:39.955525637",
          "2024-08-20T15:02:40.075647593",
          "2024-08-20T15:02:40.242157221",
          "2024-08-20T15:02:40.367233038",
          "2024-08-20T15:02:40.498326778",
          "2024-08-20T15:02:40.643377304",
          "2024-08-20T15:02:40.763145208",
          "2024-08-20T15:02:40.884384871",
          "2024-08-20T15:02:41.010831594",
          "2024-08-20T15:02:41.116868496",
          "2024-08-20T15:02:41.281048775",
          "2024-08-20T15:02:41.403657198",
          "2024-08-20T15:02:41.526602507",
          "2024-08-20T15:02:41.677771568",
          "2024-08-20T15:02:41.801970482",
          "2024-08-20T15:02:41.953197718",
          "2024-08-20T15:02:42.078015089",
          "2024-08-20T15:02:42.201169968",
          "2024-08-20T15:02:42.322632074",
          "2024-08-20T15:02:42.442066908",
          "2024-08-20T15:02:42.562625647",
          "2024-08-20T15:02:42.720097780",
          "2024-08-20T15:02:42.837252617",
          "2024-08-20T15:02:43.003489494",
          "2024-08-20T15:02:43.125187397",
          "2024-08-20T15:02:43.247076035",
          "2024-08-20T15:02:43.401223898",
          "2024-08-20T15:02:43.523348092",
          "2024-08-20T15:02:43.644113302",
          "2024-08-20T15:02:43.798686743",
          "2024-08-20T15:02:43.921944857",
          "2024-08-20T15:02:44.075364590",
          "2024-08-20T15:02:44.198359489",
          "2024-08-20T15:02:44.362286806",
          "2024-08-20T15:02:44.485900879",
          "2024-08-20T15:02:44.598856449",
          "2024-08-20T15:02:44.761202574",
          "2024-08-20T15:02:44.880804062",
          "2024-08-20T15:02:45.002302170",
          "2024-08-20T15:02:45.110001564",
          "2024-08-20T15:02:45.355456591",
          "2024-08-20T15:02:45.476576328",
          "2024-08-20T15:02:45.602966309",
          "2024-08-20T15:02:45.732405186",
          "2024-08-20T15:02:45.843926191",
          "2024-08-20T15:02:45.965078354",
          "2024-08-20T15:02:46.072152376",
          "2024-08-20T15:02:46.198323250",
          "2024-08-20T15:02:46.361271620",
          "2024-08-20T15:02:46.480956793",
          "2024-08-20T15:02:46.604932308",
          "2024-08-20T15:02:46.712121487",
          "2024-08-20T15:02:46.835193396",
          "2024-08-20T15:02:46.953438759",
          "2024-08-20T15:02:47.076820612",
          "2024-08-20T15:02:47.241947889",
          "2024-08-20T15:02:47.363602400",
          "2024-08-20T15:02:47.485330820",
          "2024-08-20T15:02:47.640625000",
          "2024-08-20T15:02:47.792040586",
          "2024-08-20T15:02:47.914000511",
          "2024-08-20T15:02:48.032869816",
          "2024-08-20T15:02:48.199754238",
          "2024-08-20T15:02:48.363554716",
          "2024-08-20T15:02:48.484921694",
          "2024-08-20T15:02:48.639476776",
          "2024-08-20T15:02:48.792294979",
          "2024-08-20T15:02:48.913881063",
          "2024-08-20T15:02:49.081993580",
          "2024-08-20T15:02:49.207182646",
          "2024-08-20T15:02:49.323836327",
          "2024-08-20T15:02:49.432366848",
          "2024-08-20T15:02:49.602751017",
          "2024-08-20T15:02:49.722833157",
          "2024-08-20T15:02:49.847737074",
          "2024-08-20T15:02:49.995359182",
          "2024-08-20T15:02:50.117849112",
          "2024-08-20T15:02:50.236436605",
          "2024-08-20T15:02:50.357519627",
          "2024-08-20T15:02:50.523447275",
          "2024-08-20T15:02:50.632985592",
          "2024-08-20T15:02:50.798610210",
          "2024-08-20T15:02:50.925453901",
          "2024-08-20T15:02:51.076693296",
          "2024-08-20T15:02:51.245827436",
          "2024-08-20T15:02:51.370656013",
          "2024-08-20T15:02:51.517471313",
          "2024-08-20T15:02:51.684295893",
          "2024-08-20T15:02:51.837095499",
          "2024-08-20T15:02:51.992043018",
          "2024-08-20T15:02:52.113965988",
          "2024-08-20T15:02:52.283131123",
          "2024-08-20T15:02:52.430674314",
          "2024-08-20T15:02:52.551435232",
          "2024-08-20T15:02:52.716956377",
          "2024-08-20T15:02:53.039571285",
          "2024-08-20T15:02:53.162780762",
          "2024-08-20T15:02:53.269373178",
          "2024-08-20T15:02:53.395482302",
          "2024-08-20T15:02:53.603687525",
          "2024-08-20T15:02:53.711513519",
          "2024-08-20T15:02:53.832164764",
          "2024-08-20T15:02:53.997287512",
          "2024-08-20T15:02:55.000480413",
          "2024-08-20T15:02:55.123721600",
          "2024-08-20T15:02:55.231111288",
          "2024-08-20T15:02:55.399628878",
          "2024-08-20T15:02:55.564450741",
          "2024-08-20T15:02:55.673389912",
          "2024-08-20T15:02:55.841045380",
          "2024-08-20T15:02:55.993667364",
          "2024-08-20T15:02:56.557906389",
          "2024-08-20T15:02:56.957200766",
          "2024-08-20T15:02:57.083323717",
          "2024-08-20T15:02:58.592865705",
          "2024-08-20T15:03:00.519725800"
         ],
         "xaxis": "x4",
         "y": {
          "bdata": "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",
          "dtype": "f8"
         },
         "yaxis": "y4"
        }
       ],
       "layout": {
        "annotations": [
         {
          "font": {
           "size": 16
          },
          "showarrow": false,
          "text": "Distance Over Time",
          "x": 0.225,
          "xanchor": "center",
          "xref": "paper",
          "y": 1,
          "yanchor": "bottom",
          "yref": "paper"
         },
         {
          "font": {
           "size": 16
          },
          "showarrow": false,
          "text": "XY Position Plot",
          "x": 0.775,
          "xanchor": "center",
          "xref": "paper",
          "y": 1,
          "yanchor": "bottom",
          "yref": "paper"
         },
         {
          "font": {
           "size": 16
          },
          "showarrow": false,
          "text": "Pitch Over Time",
          "x": 0.225,
          "xanchor": "center",
          "xref": "paper",
          "y": 0.375,
          "yanchor": "bottom",
          "yref": "paper"
         },
         {
          "font": {
           "size": 16
          },
          "showarrow": false,
          "text": "Heading Over Time",
          "x": 0.775,
          "xanchor": "center",
          "xref": "paper",
          "y": 0.375,
          "yanchor": "bottom",
          "yref": "paper"
         }
        ],
        "height": 800,
        "showlegend": false,
        "template": {
         "data": {
          "bar": [
           {
            "error_x": {
             "color": "#2a3f5f"
            },
            "error_y": {
             "color": "#2a3f5f"
            },
            "marker": {
             "line": {
              "color": "#E5ECF6",
              "width": 0.5
             },
             "pattern": {
              "fillmode": "overlay",
              "size": 10,
              "solidity": 0.2
             }
            },
            "type": "bar"
           }
          ],
          "barpolar": [
           {
            "marker": {
             "line": {
              "color": "#E5ECF6",
              "width": 0.5
             },
             "pattern": {
              "fillmode": "overlay",
              "size": 10,
              "solidity": 0.2
             }
            },
            "type": "barpolar"
           }
          ],
          "carpet": [
           {
            "aaxis": {
             "endlinecolor": "#2a3f5f",
             "gridcolor": "white",
             "linecolor": "white",
             "minorgridcolor": "white",
             "startlinecolor": "#2a3f5f"
            },
            "baxis": {
             "endlinecolor": "#2a3f5f",
             "gridcolor": "white",
             "linecolor": "white",
             "minorgridcolor": "white",
             "startlinecolor": "#2a3f5f"
            },
            "type": "carpet"
           }
          ],
          "choropleth": [
           {
            "colorbar": {
             "outlinewidth": 0,
             "ticks": ""
            },
            "type": "choropleth"
           }
          ],
          "contour": [
           {
            "colorbar": {
             "outlinewidth": 0,
             "ticks": ""
            },
            "colorscale": [
             [
              0,
              "#0d0887"
             ],
             [
              0.1111111111111111,
              "#46039f"
             ],
             [
              0.2222222222222222,
              "#7201a8"
             ],
             [
              0.3333333333333333,
              "#9c179e"
             ],
             [
              0.4444444444444444,
              "#bd3786"
             ],
             [
              0.5555555555555556,
              "#d8576b"
             ],
             [
              0.6666666666666666,
              "#ed7953"
             ],
             [
              0.7777777777777778,
              "#fb9f3a"
             ],
             [
              0.8888888888888888,
              "#fdca26"
             ],
             [
              1,
              "#f0f921"
             ]
            ],
            "type": "contour"
           }
          ],
          "contourcarpet": [
           {
            "colorbar": {
             "outlinewidth": 0,
             "ticks": ""
            },
            "type": "contourcarpet"
           }
          ],
          "heatmap": [
           {
            "colorbar": {
             "outlinewidth": 0,
             "ticks": ""
            },
            "colorscale": [
             [
              0,
              "#0d0887"
             ],
             [
              0.1111111111111111,
              "#46039f"
             ],
             [
              0.2222222222222222,
              "#7201a8"
             ],
             [
              0.3333333333333333,
              "#9c179e"
             ],
             [
              0.4444444444444444,
              "#bd3786"
             ],
             [
              0.5555555555555556,
              "#d8576b"
             ],
             [
              0.6666666666666666,
              "#ed7953"
             ],
             [
              0.7777777777777778,
              "#fb9f3a"
             ],
             [
              0.8888888888888888,
              "#fdca26"
             ],
             [
              1,
              "#f0f921"
             ]
            ],
            "type": "heatmap"
           }
          ],
          "histogram": [
           {
            "marker": {
             "pattern": {
              "fillmode": "overlay",
              "size": 10,
              "solidity": 0.2
             }
            },
            "type": "histogram"
           }
          ],
          "histogram2d": [
           {
            "colorbar": {
             "outlinewidth": 0,
             "ticks": ""
            },
            "colorscale": [
             [
              0,
              "#0d0887"
             ],
             [
              0.1111111111111111,
              "#46039f"
             ],
             [
              0.2222222222222222,
              "#7201a8"
             ],
             [
              0.3333333333333333,
              "#9c179e"
             ],
             [
              0.4444444444444444,
              "#bd3786"
             ],
             [
              0.5555555555555556,
              "#d8576b"
             ],
             [
              0.6666666666666666,
              "#ed7953"
             ],
             [
              0.7777777777777778,
              "#fb9f3a"
             ],
             [
              0.8888888888888888,
              "#fdca26"
             ],
             [
              1,
              "#f0f921"
             ]
            ],
            "type": "histogram2d"
           }
          ],
          "histogram2dcontour": [
           {
            "colorbar": {
             "outlinewidth": 0,
             "ticks": ""
            },
            "colorscale": [
             [
              0,
              "#0d0887"
             ],
             [
              0.1111111111111111,
              "#46039f"
             ],
             [
              0.2222222222222222,
              "#7201a8"
             ],
             [
              0.3333333333333333,
              "#9c179e"
             ],
             [
              0.4444444444444444,
              "#bd3786"
             ],
             [
              0.5555555555555556,
              "#d8576b"
             ],
             [
              0.6666666666666666,
              "#ed7953"
             ],
             [
              0.7777777777777778,
              "#fb9f3a"
             ],
             [
              0.8888888888888888,
              "#fdca26"
             ],
             [
              1,
              "#f0f921"
             ]
            ],
            "type": "histogram2dcontour"
           }
          ],
          "mesh3d": [
           {
            "colorbar": {
             "outlinewidth": 0,
             "ticks": ""
            },
            "type": "mesh3d"
           }
          ],
          "parcoords": [
           {
            "line": {
             "colorbar": {
              "outlinewidth": 0,
              "ticks": ""
             }
            },
            "type": "parcoords"
           }
          ],
          "pie": [
           {
            "automargin": true,
            "type": "pie"
           }
          ],
          "scatter": [
           {
            "fillpattern": {
             "fillmode": "overlay",
             "size": 10,
             "solidity": 0.2
            },
            "type": "scatter"
           }
          ],
          "scatter3d": [
           {
            "line": {
             "colorbar": {
              "outlinewidth": 0,
              "ticks": ""
             }
            },
            "marker": {
             "colorbar": {
              "outlinewidth": 0,
              "ticks": ""
             }
            },
            "type": "scatter3d"
           }
          ],
          "scattercarpet": [
           {
            "marker": {
             "colorbar": {
              "outlinewidth": 0,
              "ticks": ""
             }
            },
            "type": "scattercarpet"
           }
          ],
          "scattergeo": [
           {
            "marker": {
             "colorbar": {
              "outlinewidth": 0,
              "ticks": ""
             }
            },
            "type": "scattergeo"
           }
          ],
          "scattergl": [
           {
            "marker": {
             "colorbar": {
              "outlinewidth": 0,
              "ticks": ""
             }
            },
            "type": "scattergl"
           }
          ],
          "scattermap": [
           {
            "marker": {
             "colorbar": {
              "outlinewidth": 0,
              "ticks": ""
             }
            },
            "type": "scattermap"
           }
          ],
          "scattermapbox": [
           {
            "marker": {
             "colorbar": {
              "outlinewidth": 0,
              "ticks": ""
             }
            },
            "type": "scattermapbox"
           }
          ],
          "scatterpolar": [
           {
            "marker": {
             "colorbar": {
              "outlinewidth": 0,
              "ticks": ""
             }
            },
            "type": "scatterpolar"
           }
          ],
          "scatterpolargl": [
           {
            "marker": {
             "colorbar": {
              "outlinewidth": 0,
              "ticks": ""
             }
            },
            "type": "scatterpolargl"
           }
          ],
          "scatterternary": [
           {
            "marker": {
             "colorbar": {
              "outlinewidth": 0,
              "ticks": ""
             }
            },
            "type": "scatterternary"
           }
          ],
          "surface": [
           {
            "colorbar": {
             "outlinewidth": 0,
             "ticks": ""
            },
            "colorscale": [
             [
              0,
              "#0d0887"
             ],
             [
              0.1111111111111111,
              "#46039f"
             ],
             [
              0.2222222222222222,
              "#7201a8"
             ],
             [
              0.3333333333333333,
              "#9c179e"
             ],
             [
              0.4444444444444444,
              "#bd3786"
             ],
             [
              0.5555555555555556,
              "#d8576b"
             ],
             [
              0.6666666666666666,
              "#ed7953"
             ],
             [
              0.7777777777777778,
              "#fb9f3a"
             ],
             [
              0.8888888888888888,
              "#fdca26"
             ],
             [
              1,
              "#f0f921"
             ]
            ],
            "type": "surface"
           }
          ],
          "table": [
           {
            "cells": {
             "fill": {
              "color": "#EBF0F8"
             },
             "line": {
              "color": "white"
             }
            },
            "header": {
             "fill": {
              "color": "#C8D4E3"
             },
             "line": {
              "color": "white"
             }
            },
            "type": "table"
           }
          ]
         },
         "layout": {
          "annotationdefaults": {
           "arrowcolor": "#2a3f5f",
           "arrowhead": 0,
           "arrowwidth": 1
          },
          "autotypenumbers": "strict",
          "coloraxis": {
           "colorbar": {
            "outlinewidth": 0,
            "ticks": ""
           }
          },
          "colorscale": {
           "diverging": [
            [
             0,
             "#8e0152"
            ],
            [
             0.1,
             "#c51b7d"
            ],
            [
             0.2,
             "#de77ae"
            ],
            [
             0.3,
             "#f1b6da"
            ],
            [
             0.4,
             "#fde0ef"
            ],
            [
             0.5,
             "#f7f7f7"
            ],
            [
             0.6,
             "#e6f5d0"
            ],
            [
             0.7,
             "#b8e186"
            ],
            [
             0.8,
             "#7fbc41"
            ],
            [
             0.9,
             "#4d9221"
            ],
            [
             1,
             "#276419"
            ]
           ],
           "sequential": [
            [
             0,
             "#0d0887"
            ],
            [
             0.1111111111111111,
             "#46039f"
            ],
            [
             0.2222222222222222,
             "#7201a8"
            ],
            [
             0.3333333333333333,
             "#9c179e"
            ],
            [
             0.4444444444444444,
             "#bd3786"
            ],
            [
             0.5555555555555556,
             "#d8576b"
            ],
            [
             0.6666666666666666,
             "#ed7953"
            ],
            [
             0.7777777777777778,
             "#fb9f3a"
            ],
            [
             0.8888888888888888,
             "#fdca26"
            ],
            [
             1,
             "#f0f921"
            ]
           ],
           "sequentialminus": [
            [
             0,
             "#0d0887"
            ],
            [
             0.1111111111111111,
             "#46039f"
            ],
            [
             0.2222222222222222,
             "#7201a8"
            ],
            [
             0.3333333333333333,
             "#9c179e"
            ],
            [
             0.4444444444444444,
             "#bd3786"
            ],
            [
             0.5555555555555556,
             "#d8576b"
            ],
            [
             0.6666666666666666,
             "#ed7953"
            ],
            [
             0.7777777777777778,
             "#fb9f3a"
            ],
            [
             0.8888888888888888,
             "#fdca26"
            ],
            [
             1,
             "#f0f921"
            ]
           ]
          },
          "colorway": [
           "#636efa",
           "#EF553B",
           "#00cc96",
           "#ab63fa",
           "#FFA15A",
           "#19d3f3",
           "#FF6692",
           "#B6E880",
           "#FF97FF",
           "#FECB52"
          ],
          "font": {
           "color": "#2a3f5f"
          },
          "geo": {
           "bgcolor": "white",
           "lakecolor": "white",
           "landcolor": "#E5ECF6",
           "showlakes": true,
           "showland": true,
           "subunitcolor": "white"
          },
          "hoverlabel": {
           "align": "left"
          },
          "hovermode": "closest",
          "mapbox": {
           "style": "light"
          },
          "paper_bgcolor": "white",
          "plot_bgcolor": "#E5ECF6",
          "polar": {
           "angularaxis": {
            "gridcolor": "white",
            "linecolor": "white",
            "ticks": ""
           },
           "bgcolor": "#E5ECF6",
           "radialaxis": {
            "gridcolor": "white",
            "linecolor": "white",
            "ticks": ""
           }
          },
          "scene": {
           "xaxis": {
            "backgroundcolor": "#E5ECF6",
            "gridcolor": "white",
            "gridwidth": 2,
            "linecolor": "white",
            "showbackground": true,
            "ticks": "",
            "zerolinecolor": "white"
           },
           "yaxis": {
            "backgroundcolor": "#E5ECF6",
            "gridcolor": "white",
            "gridwidth": 2,
            "linecolor": "white",
            "showbackground": true,
            "ticks": "",
            "zerolinecolor": "white"
           },
           "zaxis": {
            "backgroundcolor": "#E5ECF6",
            "gridcolor": "white",
            "gridwidth": 2,
            "linecolor": "white",
            "showbackground": true,
            "ticks": "",
            "zerolinecolor": "white"
           }
          },
          "shapedefaults": {
           "line": {
            "color": "#2a3f5f"
           }
          },
          "ternary": {
           "aaxis": {
            "gridcolor": "white",
            "linecolor": "white",
            "ticks": ""
           },
           "baxis": {
            "gridcolor": "white",
            "linecolor": "white",
            "ticks": ""
           },
           "bgcolor": "#E5ECF6",
           "caxis": {
            "gridcolor": "white",
            "linecolor": "white",
            "ticks": ""
           }
          },
          "title": {
           "x": 0.05
          },
          "xaxis": {
           "automargin": true,
           "gridcolor": "white",
           "linecolor": "white",
           "ticks": "",
           "title": {
            "standoff": 15
           },
           "zerolinecolor": "white",
           "zerolinewidth": 2
          },
          "yaxis": {
           "automargin": true,
           "gridcolor": "white",
           "linecolor": "white",
           "ticks": "",
           "title": {
            "standoff": 15
           },
           "zerolinecolor": "white",
           "zerolinewidth": 2
          }
         }
        },
        "title": {
         "text": "Relative FFT Pose Data Analysis"
        },
        "xaxis": {
         "anchor": "y",
         "domain": [
          0,
          0.45
         ],
         "title": {
          "text": "Time"
         }
        },
        "xaxis2": {
         "anchor": "y2",
         "domain": [
          0.55,
          1
         ],
         "title": {
          "text": "X Position (m)"
         }
        },
        "xaxis3": {
         "anchor": "y3",
         "domain": [
          0,
          0.45
         ],
         "title": {
          "text": "Time"
         }
        },
        "xaxis4": {
         "anchor": "y4",
         "domain": [
          0.55,
          1
         ],
         "title": {
          "text": "Time"
         }
        },
        "yaxis": {
         "anchor": "x",
         "domain": [
          0.625,
          1
         ],
         "title": {
          "text": "Distance (m)"
         }
        },
        "yaxis2": {
         "anchor": "x2",
         "domain": [
          0.625,
          1
         ],
         "title": {
          "text": "Y Position (m)"
         }
        },
        "yaxis3": {
         "anchor": "x3",
         "domain": [
          0,
          0.375
         ],
         "title": {
          "text": "Pitch (degrees)"
         }
        },
        "yaxis4": {
         "anchor": "x4",
         "domain": [
          0,
          0.375
         ],
         "title": {
          "text": "Heading (degrees)"
         }
        }
       }
      }
     },
     "metadata": {},
     "output_type": "display_data"
    },
    {
     "name": "stdout",
     "output_type": "stream",
     "text": [
      "✓ FFT data visualization complete\n"
     ]
    }
   ],
   "source": [
    "if df_fft is not None:\n",
    "    # Create visualization\n",
    "    from plotly.subplots import make_subplots\n",
    "    \n",
    "    fig = make_subplots(\n",
    "        rows=2, cols=2,\n",
    "        subplot_titles=[\n",
    "            'Distance Over Time',\n",
    "            'XY Position Plot',\n",
    "            'Pitch Over Time', \n",
    "            'Heading Over Time'\n",
    "        ]\n",
    "    )\n",
    "    \n",
    "    # Distance over time\n",
    "    fig.add_trace(\n",
    "        go.Scatter(x=df_fft['timestamp'], y=df_fft['distance_m'],\n",
    "                  mode='lines+markers', name='Distance',\n",
    "                  line=dict(color='blue'), marker=dict(size=4)),\n",
    "        row=1, col=1\n",
    "    )\n",
    "    \n",
    "    # XY position plot\n",
    "    fig.add_trace(\n",
    "        go.Scatter(x=df_fft['fft_x'], y=df_fft['fft_y'],\n",
    "                  mode='markers', name='XY Position',\n",
    "                  marker=dict(color='red', size=6)),\n",
    "        row=1, col=2\n",
    "    )\n",
    "    \n",
    "    # Pitch over time\n",
    "    fig.add_trace(\n",
    "        go.Scatter(x=df_fft['timestamp'], y=df_fft['pitch_deg'],\n",
    "                  mode='lines+markers', name='Pitch',\n",
    "                  line=dict(color='green'), marker=dict(size=4)),\n",
    "        row=2, col=1\n",
    "    )\n",
    "    \n",
    "    # Heading over time\n",
    "    fig.add_trace(\n",
    "        go.Scatter(x=df_fft['timestamp'], y=df_fft['heading_deg'],\n",
    "                  mode='lines+markers', name='Heading',\n",
    "                  line=dict(color='orange'), marker=dict(size=4)),\n",
    "        row=2, col=2\n",
    "    )\n",
    "    \n",
    "    # Update layout\n",
    "    fig.update_layout(\n",
    "        title='Relative FFT Pose Data Analysis',\n",
    "        height=800,\n",
    "        showlegend=False\n",
    "    )\n",
    "    \n",
    "    # Update axes labels\n",
    "    fig.update_xaxes(title_text=\"Time\", row=1, col=1)\n",
    "    fig.update_yaxes(title_text=\"Distance (m)\", row=1, col=1)\n",
    "    \n",
    "    fig.update_xaxes(title_text=\"X Position (m)\", row=1, col=2)\n",
    "    fig.update_yaxes(title_text=\"Y Position (m)\", row=1, col=2)\n",
    "    \n",
    "    fig.update_xaxes(title_text=\"Time\", row=2, col=1)\n",
    "    fig.update_yaxes(title_text=\"Pitch (degrees)\", row=2, col=1)\n",
    "    \n",
    "    fig.update_xaxes(title_text=\"Time\", row=2, col=2)\n",
    "    fig.update_yaxes(title_text=\"Heading (degrees)\", row=2, col=2)\n",
    "    \n",
    "    fig.show()\n",
    "    \n",
    "    print(\"✓ FFT data visualization complete\")"
   ]
  }
 ],
 "metadata": {
  "kernelspec": {
   "display_name": "venv",
   "language": "python",
   "name": "python3"
  },
  "language_info": {
   "codemirror_mode": {
    "name": "ipython",
    "version": 3
   },
   "file_extension": ".py",
   "mimetype": "text/x-python",
   "name": "python",
   "nbconvert_exporter": "python",
   "pygments_lexer": "ipython3",
   "version": "3.13.5"
  }
 },
 "nbformat": 4,
 "nbformat_minor": 5
}
