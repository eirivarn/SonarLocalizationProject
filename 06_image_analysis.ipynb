{
 "cells": [
  {
   "cell_type": "code",
   "execution_count": 1,
   "id": "7a8d02c0",
   "metadata": {},
   "outputs": [],
   "source": [
    "# Centralized sonar defaults (inserted by sweep)\n",
    "from utils.sonar_config import SONAR_VIS_DEFAULTS\n",
    "sonar_config = SONAR_VIS_DEFAULTS.copy()\n",
    "# Backwards-compatible variable names used in older notebooks\n",
    "RANGE_MIN_M = sonar_config['range_min_m']\n",
    "RANGE_MAX_M = sonar_config['range_max_m']\n",
    "DISPLAY_RANGE_MAX_M = sonar_config['display_range_max_m']"
   ]
  },
  {
   "cell_type": "markdown",
   "id": "9220eb1d",
   "metadata": {},
   "source": [
    "# Simple Image Analysis with CV2\n",
    "\n",
    "This notebook demonstrates:\n",
    "1. **Pick a frame** from NPZ files and save it locally\n",
    "2. **Use standard cv2 functions** directly for image processing\n",
    "3. **Experiment** with different OpenCV operations"
   ]
  },
  {
   "cell_type": "code",
   "execution_count": 17,
   "id": "4b3e8f46",
   "metadata": {},
   "outputs": [
    {
     "name": "stdout",
     "output_type": "stream",
     "text": [
      "Using DATA_DIR = /Volumes/LaCie/SOLAQUA/raw_data\n",
      "Selected NPZ file: 2024-08-20_14-31-29_data_cones.npz (index=8)\n"
     ]
    }
   ],
   "source": [
    "from pathlib import Path\n",
    "import utils.sonar_image_analysis as iau\n",
    "\n",
    "\n",
    "# Prefer selecting by bag ID (part of the NPZ filename) instead of a numeric index.\n",
    "# Set TARGET_BAG to a substring that appears in the NPZ filename (e.g. '2024-08-22_14-29-05')\n",
    "# '2024-08-22_14-47-39'\n",
    "# '2024-08-22_14-29-05'\n",
    "TARGET_BAG = '2024-08-20_14-31-29'  # change this to your desired bag ID\n",
    "from utils.sonar_config import EXPORTS_DIR_DEFAULT, EXPORTS_SUBDIRS\n",
    "EXPORTS_FOLDER = Path(EXPORTS_DIR_DEFAULT)\n",
    "\n",
    "# If you keep your raw .bag files or raw data on an external drive, point DATA_DIR there.\n",
    "# Example (your external disk): /Volumes/LaCie/SOLAQUA/raw_data\n",
    "DATA_DIR = Path(\"/Volumes/LaCie/SOLAQUA/raw_data\")\n",
    "print(f\"Using DATA_DIR = {DATA_DIR}\")\n",
    "\n",
    "# Find NPZ files and pick the one matching TARGET_BAG\n",
    "files = iau.get_available_npz_files()\n",
    "if not files:\n",
    "    raise FileNotFoundError(f\"No NPZ files found in configured exports outputs (looked under {EXPORTS_FOLDER / EXPORTS_SUBDIRS.get('outputs','outputs')})\")\n",
    "matches = [p for p in files if TARGET_BAG in p.name]\n",
    "if not matches:\n",
    "    # Help the user by listing available NPZ files\n",
    "    print(f'No NPZ file matched TARGET_BAG={TARGET_BAG!r}')\n",
    "    print('Available NPZ files:')\n",
    "    for i,p in enumerate(files):\n",
    "        print(f'  {i}: {p.name}')\n",
    "    raise ValueError(f'No NPZ file contains \"{TARGET_BAG}\" in its name')\n",
    "\n",
    "# If multiple matches, choose the most recently modified one\n",
    "selected = max(matches, key=lambda p: p.stat().st_mtime)\n",
    "NPZ_FILE_INDEX = files.index(selected)\n",
    "print(f'Selected NPZ file: {selected.name} (index={NPZ_FILE_INDEX})')"
   ]
  },
  {
   "cell_type": "markdown",
   "id": "0c65358c",
   "metadata": {},
   "source": [
    "## Distance Analysis Over Time\n",
    "\n",
    "Now let's perform a comprehensive analysis of the red line distance over time. The red line represents the major axis of the detected elongated contour (likely a fishing net), and we'll track how this distance changes throughout the video sequence."
   ]
  },
  {
   "cell_type": "code",
   "execution_count": 18,
   "id": "d9c0382e",
   "metadata": {},
   "outputs": [
    {
     "name": "stdout",
     "output_type": "stream",
     "text": [
      "=== DISTANCE ANALYSIS FROM NPZ ===\n",
      "Analyzing: /Volumes/LaCie/SOLAQUA/exports/outputs/2024-08-20_14-31-29_data_cones.npz\n",
      "Processing 1000 frames from 1 (step=1)\n",
      "Processing 1000 frames from 1 (step=1)\n",
      "  Processed 50/1000 frames (Success rate: 90.0%)\n",
      "  Processed 50/1000 frames (Success rate: 90.0%)\n",
      "  Processed 100/1000 frames (Success rate: 59.0%)\n",
      "  Processed 100/1000 frames (Success rate: 59.0%)\n",
      "  Processed 150/1000 frames (Success rate: 72.7%)\n",
      "  Processed 150/1000 frames (Success rate: 72.7%)\n",
      "  Processed 200/1000 frames (Success rate: 79.5%)\n",
      "  Processed 200/1000 frames (Success rate: 79.5%)\n",
      "  Processed 250/1000 frames (Success rate: 83.6%)\n",
      "  Processed 250/1000 frames (Success rate: 83.6%)\n",
      "  Processed 300/1000 frames (Success rate: 86.3%)\n",
      "  Processed 300/1000 frames (Success rate: 86.3%)\n",
      "  Processed 350/1000 frames (Success rate: 88.3%)\n",
      "  Processed 350/1000 frames (Success rate: 88.3%)\n",
      "  Processed 400/1000 frames (Success rate: 89.8%)\n",
      "  Processed 400/1000 frames (Success rate: 89.8%)\n",
      "  Processed 450/1000 frames (Success rate: 90.9%)\n",
      "  Processed 450/1000 frames (Success rate: 90.9%)\n",
      "  Processed 500/1000 frames (Success rate: 88.0%)\n",
      "  Processed 500/1000 frames (Success rate: 88.0%)\n",
      "  Processed 550/1000 frames (Success rate: 88.2%)\n",
      "  Processed 550/1000 frames (Success rate: 88.2%)\n",
      "  Processed 600/1000 frames (Success rate: 86.3%)\n",
      "  Processed 600/1000 frames (Success rate: 86.3%)\n",
      "  Processed 650/1000 frames (Success rate: 79.7%)\n",
      "  Processed 650/1000 frames (Success rate: 79.7%)\n",
      "  Processed 700/1000 frames (Success rate: 75.4%)\n",
      "  Processed 700/1000 frames (Success rate: 75.4%)\n",
      "  Processed 750/1000 frames (Success rate: 70.4%)\n",
      "  Processed 750/1000 frames (Success rate: 70.4%)\n",
      "  Processed 800/1000 frames (Success rate: 66.0%)\n",
      "  Processed 800/1000 frames (Success rate: 66.0%)\n",
      "  Processed 850/1000 frames (Success rate: 62.9%)\n",
      "  Processed 850/1000 frames (Success rate: 62.9%)\n",
      "  Processed 900/1000 frames (Success rate: 59.4%)\n",
      "  Processed 900/1000 frames (Success rate: 59.4%)\n",
      "  Processed 950/1000 frames (Success rate: 56.3%)\n",
      "  Processed 950/1000 frames (Success rate: 56.3%)\n",
      "  Processed 1000/1000 frames (Success rate: 53.5%)\n",
      "\n",
      "=== ANALYSIS COMPLETE ===\n",
      "Total frames processed: 1000\n",
      "Successful detections: 535 (53.5%)\n",
      "Distance statistics (meters):\n",
      "  - Mean: 1.915\n",
      "  - Std:  0.210\n",
      "  - Min:  1.553\n",
      "  - Max:  2.415\n",
      "  - Range: 0.862\n",
      "✅ Analyzed 1000 frames using elliptical AOI\n",
      "🎯 Detection success rate: 53.5%\n",
      "📊 Elliptical tracking active: 0 frames\n",
      "  Processed 1000/1000 frames (Success rate: 53.5%)\n",
      "\n",
      "=== ANALYSIS COMPLETE ===\n",
      "Total frames processed: 1000\n",
      "Successful detections: 535 (53.5%)\n",
      "Distance statistics (meters):\n",
      "  - Mean: 1.915\n",
      "  - Std:  0.210\n",
      "  - Min:  1.553\n",
      "  - Max:  2.415\n",
      "  - Range: 0.862\n",
      "✅ Analyzed 1000 frames using elliptical AOI\n",
      "🎯 Detection success rate: 53.5%\n",
      "📊 Elliptical tracking active: 0 frames\n"
     ]
    }
   ],
   "source": [
    "# Now using the NEW unified SonarDataProcessor with elliptical AOI support!\n",
    "# This gives us much better net tracking compared to the old rectangular AOI\n",
    "\n",
    "# First reload the module to get the latest elliptical AOI changes\n",
    "import importlib\n",
    "importlib.reload(iau)\n",
    "\n",
    "# Create the unified processor\n",
    "processor = iau.SonarDataProcessor()\n",
    "\n",
    "# Use the new Distance Analysis Engine with elliptical AOI\n",
    "engine = iau.DistanceAnalysisEngine()\n",
    "distance_results = engine.analyze_npz_sequence(\n",
    "    npz_file_index=NPZ_FILE_INDEX,    \n",
    "    frame_start=1,        # Start from frame 1\n",
    "    frame_count=1000,      # Analyze all frames from the video\n",
    "    frame_step=1          # Every frame\n",
    ")\n",
    "\n",
    "print(f\"✅ Analyzed {len(distance_results)} frames using elliptical AOI\")\n",
    "print(f\"🎯 Detection success rate: {distance_results['detection_success'].mean():.1%}\")\n",
    "print(f\"📊 Elliptical tracking active: {(distance_results['tracking_status'].str.contains('ELLIPSE')).sum()} frames\")"
   ]
  },
  {
   "cell_type": "code",
   "execution_count": 19,
   "id": "b9c5da85",
   "metadata": {},
   "outputs": [
    {
     "name": "stdout",
     "output_type": "stream",
     "text": [
      "=== ENHANCED ELLIPTICAL AOI VIDEO CREATION ===\n",
      "Creating video with elliptical AOI tracking...\n",
      "Frames: 1000, step: 1\n",
      "✅ Processing 1000 frames with elliptical AOI...\n",
      "✅ Processing 1000 frames with elliptical AOI...\n",
      "Processed 80/1000 frames | Ellipse tracking: 0\n",
      "Processed 80/1000 frames | Ellipse tracking: 0\n",
      "Processed 230/1000 frames | Ellipse tracking: 0\n",
      "Processed 230/1000 frames | Ellipse tracking: 0\n",
      "Processed 540/1000 frames | Ellipse tracking: 0\n",
      "Processed 540/1000 frames | Ellipse tracking: 0\n",
      "Processed 550/1000 frames | Ellipse tracking: 0\n",
      "Processed 550/1000 frames | Ellipse tracking: 0\n",
      "Processed 570/1000 frames | Ellipse tracking: 0\n",
      "Processed 570/1000 frames | Ellipse tracking: 0\n",
      "Processed 580/1000 frames | Ellipse tracking: 0\n",
      "Processed 580/1000 frames | Ellipse tracking: 0\n",
      "Processed 610/1000 frames | Ellipse tracking: 0\n",
      "Processed 610/1000 frames | Ellipse tracking: 0\n",
      "Processed 720/1000 frames | Ellipse tracking: 0\n",
      "Processed 720/1000 frames | Ellipse tracking: 0\n",
      "Processed 730/1000 frames | Ellipse tracking: 0\n",
      "Processed 730/1000 frames | Ellipse tracking: 0\n",
      "Processed 780/1000 frames | Ellipse tracking: 0\n",
      "Processed 780/1000 frames | Ellipse tracking: 0\n",
      "Processed 790/1000 frames | Ellipse tracking: 0\n",
      "Processed 790/1000 frames | Ellipse tracking: 0\n",
      "Processed 800/1000 frames | Ellipse tracking: 0\n",
      "Processed 800/1000 frames | Ellipse tracking: 0\n",
      "Processed 810/1000 frames | Ellipse tracking: 0\n",
      "Processed 810/1000 frames | Ellipse tracking: 0\n",
      "Processed 930/1000 frames | Ellipse tracking: 0\n",
      "Processed 930/1000 frames | Ellipse tracking: 0\n",
      "Processed 990/1000 frames | Ellipse tracking: 0\n",
      "Processed 990/1000 frames | Ellipse tracking: 0\n",
      "Processed 1000/1000 frames | Ellipse tracking: 0\n",
      "\n",
      "=== ENHANCED VIDEO CREATION COMPLETE ===\n",
      "Video saved to: /Volumes/LaCie/SOLAQUA/exports/videos/core_aoi_tracking.mp4\n",
      "Video specs: 900x700, 15 fps, 1000 frames\n",
      "🟢 ELLIPTICAL AOI TRACKING STATS:\n",
      "  - Total detected frames: 0\n",
      "  - Ellipse-guided frames: 0\n",
      "  - Ellipse effectiveness: 0.0%\n",
      "  - Lost/searching frames: 1000\n",
      "Processed 1000/1000 frames | Ellipse tracking: 0\n",
      "\n",
      "=== ENHANCED VIDEO CREATION COMPLETE ===\n",
      "Video saved to: /Volumes/LaCie/SOLAQUA/exports/videos/core_aoi_tracking.mp4\n",
      "Video specs: 900x700, 15 fps, 1000 frames\n",
      "🟢 ELLIPTICAL AOI TRACKING STATS:\n",
      "  - Total detected frames: 0\n",
      "  - Ellipse-guided frames: 0\n",
      "  - Ellipse effectiveness: 0.0%\n",
      "  - Lost/searching frames: 1000\n"
     ]
    }
   ],
   "source": [
    "# Create video using the CORE simplified processor\n",
    "# This will show the yellow rectangular AOI and track with momentum merging!\n",
    "\n",
    "# Use the enhanced video creation with CORE processor\n",
    "video_path = iau.create_enhanced_contour_detection_video_with_processor(\n",
    "    npz_file_index=NPZ_FILE_INDEX,          # Which NPZ file to use\n",
    "    frame_start=1,           # Starting frame\n",
    "    frame_count=1000,         # Start with 100 frames for testing\n",
    "    frame_step=1,            # Step between frames\n",
    "    output_path=Path(EXPORTS_DIR_DEFAULT) / EXPORTS_SUBDIRS.get('videos','videos') / 'core_aoi_tracking.mp4',\n",
    "    processor=processor      # Use our CORE processor\n",
    ")\n"
   ]
  },
  {
   "cell_type": "markdown",
   "id": "fede9d64",
   "metadata": {},
   "source": [
    "## Convert to Real-World Distances\n",
    "\n",
    "Now let's convert the pixel distances to real-world distances using the fact that the entire sonar image represents a 10x10 meter area."
   ]
  },
  {
   "cell_type": "code",
   "execution_count": 20,
   "id": "886897de",
   "metadata": {},
   "outputs": [
    {
     "name": "stdout",
     "output_type": "stream",
     "text": [
      "Detected NPZ extent: x=[-8.660,8.660] m, y=[0.000,10.000] m\n",
      "Image shape from NPZ: H=700, W=900\n",
      "meters/pixel: x=0.019245, y=0.014286, avg=0.016765\n",
      "Using pixels_to_meters_avg = 0.016765 m/px\n"
     ]
    }
   ],
   "source": [
    "# Auto-detect pixel->meter mapping from the selected NPZ (if available)\n",
    "try:\n",
    "    cones, ts, extent, meta = iau.load_cone_run_npz(selected)\n",
    "    T, H, W = cones.shape\n",
    "    x_min, x_max, y_min, y_max = extent\n",
    "    width_m = float(x_max - x_min)\n",
    "    height_m = float(y_max - y_min)\n",
    "    px2m_x = width_m / float(W)\n",
    "    px2m_y = height_m / float(H)\n",
    "    pixels_to_meters_avg = 0.5 * (px2m_x + px2m_y)\n",
    "    image_shape = (H, W)\n",
    "    sonar_coverage_meters = max(width_m, height_m)\n",
    "    print(f\"Detected NPZ extent: x=[{x_min:.3f},{x_max:.3f}] m, y=[{y_min:.3f},{y_max:.3f}] m\")\n",
    "    print(f\"Image shape from NPZ: H={H}, W={W}\")\n",
    "    print(f\"meters/pixel: x={px2m_x:.6f}, y={px2m_y:.6f}, avg={pixels_to_meters_avg:.6f}\")\n",
    "except Exception as e:\n",
    "    print(\"Could not read NPZ metadata:\", e)\n",
    "    print(\"Falling back to defaults from sonar_config.\")\n",
    "    from utils.sonar_config import CONE_H_DEFAULT, CONE_W_DEFAULT, DISPLAY_RANGE_MAX_M_DEFAULT\n",
    "    image_shape = (CONE_H_DEFAULT, CONE_W_DEFAULT)\n",
    "    sonar_coverage_meters = DISPLAY_RANGE_MAX_M_DEFAULT * 2  # approximate\n",
    "    pixels_to_meters_avg = sonar_coverage_meters / max(image_shape)\n",
    "    \n",
    "# Use the computed pixels_to_meters_avg in downstream analysis\n",
    "print(f\"Using pixels_to_meters_avg = {pixels_to_meters_avg:.6f} m/px\")"
   ]
  },
  {
   "cell_type": "code",
   "execution_count": 21,
   "id": "15d6238c",
   "metadata": {},
   "outputs": [
    {
     "data": {
      "application/vnd.plotly.v1+json": {
       "config": {
        "plotlyServerURL": "https://plot.ly"
       },
       "data": [
        {
         "line": {
          "color": "blue"
         },
         "mode": "lines+markers",
         "name": "Distance",
         "type": "scatter",
         "x": {
          "bdata": "AQACAAMABAAFAAYABwAIAAkACgALAAwADQAOAA8AEAARABIAEwAUABUAFgAXABgAGQAaABsAHAAdAB4AHwAgACEAIgAjACQAJQAmACcAKAApACoAKwAsAC0AVwBYAFkAWgBbAFwAXQBeAF8AYABhAGIAYwBkAGUAZgBnAGgAaQBqAGsAbABtAG4AbwBwAHEAcgBzAHQAdQB2AHcAeAB5AHoAewB8AH0AfgB/AIAAgQCCAIMAhACFAIYAhwCIAIkAigCLAIwAjQCOAI8AkACRAJIAkwCUAJUAlgCXAJgAmQCaAJsAnACdAJ4AnwCgAKEAogCjAKQApQCmAKcAqACpAKoAqwCsAK0ArgCvALAAsQCyALMAtAC1ALYAtwC4ALkAugC7ALwAvQC+AL8AwADBAMIAwwDEAMUAxgDHAMgAyQDKAMsAzADNAM4AzwDQANEA0gDTANQA1QDWANcA2ADZANoA2wDcAN0A3gDfAOAA4QDiAOMA5ADlAOYA5wDoAOkA6gDrAOwA7QDuAO8A8ADxAPIA8wD0APUA9gD3APgA+QD6APsA/AD9AP4A/wAAAQEBAgEDAQQBBQEGAQcBCAEJAQoBCwEMAQ0BDgEPARABEQESARMBFAEVARYBFwEYARkBGgEbARwBHQEeAR8BIAEhASIBIwEkASUBJgEnASgBKQEqASsBLAEtAS4BLwEwATEBMgEzATQBNQE2ATcBOAE5AToBOwE8AT0BPgE/AUABQQFCAUMBRAFFAUYBRwFIAUkBSgFLAUwBTQFOAU8BUAFRAVIBUwFUAVUBVgFXAVgBWQFaAVsBXAFdAV4BXwFgAWEBYgFjAWQBZQFmAWcBaAFpAWoBawFsAW0BbgFvAXABcQFyAXMBdAF1AXYBdwF4AXkBegF7AXwBfQF+AX8BgAGBAYIBgwGEAYUBhgGHAYgBiQGKAYsBjAGNAY4BjwGQAZEBkgGTAZQBlQGWAZcBmAGZAZoBmwGcAZ0BngGfAaABoQGiAaMBpAGlAaYBpwGoAakBqgGrAawBrQGuAa8BsAGxAbIBswG0AbUBtgG3AbgBuQG6AbsBvAG9Ab4BvwHAAcEBwgHDAcQBxQHGAccByAHJAcoBywHMAc0BzgHPAdAB0QHSAdMB1AHVAdYB1wHYAdkB2gHbAdwB3QHeAd8B4AHqAfYB9wH4AfkB/QH+Af8BAQICAgMCBAIFAgYCBwIIAgkCCgILAgwCDQIOAg8CEAIRAhICEwIUAhUCFgIXAhgCGQIaAhsCHAIdAh4CHwIgAiECIgIjAiQCJQImAicCKAIqAisCLAItAi4CLwIwAjECMgIzAjQCNQI2AjcCOAI5AjoCOwI8Aj0CPgI/AkACQQJCAkMCRAJFAkYCRwJIApkCpAKmAqoCqwKsAq0CrgKvArACOQM7AzwDQANBA0IDQwM=",
          "dtype": "i2"
         },
         "xaxis": "x",
         "y": {
          "bdata": "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",
          "dtype": "f8"
         },
         "yaxis": "y"
        },
        {
         "line": {
          "color": "green"
         },
         "mode": "lines+markers",
         "name": "Distance over Time",
         "type": "scatter",
         "x": [
          "2024-08-20T12:31:31.621807575",
          "2024-08-20T12:31:31.681648731",
          "2024-08-20T12:31:31.742511034",
          "2024-08-20T12:31:31.818883181",
          "2024-08-20T12:31:31.874155045",
          "2024-08-20T12:31:31.937494755",
          "2024-08-20T12:31:31.999329090",
          "2024-08-20T12:31:32.063158035",
          "2024-08-20T12:31:32.130053520",
          "2024-08-20T12:31:32.191398144",
          "2024-08-20T12:31:32.254230738",
          "2024-08-20T12:31:32.318058729",
          "2024-08-20T12:31:32.395849943",
          "2024-08-20T12:31:32.445717096",
          "2024-08-20T12:31:32.511543512",
          "2024-08-20T12:31:32.576503515",
          "2024-08-20T12:31:32.637341022",
          "2024-08-20T12:31:32.702203035",
          "2024-08-20T12:31:32.768987656",
          "2024-08-20T12:31:32.829861403",
          "2024-08-20T12:31:32.894687653",
          "2024-08-20T12:31:32.962601185",
          "2024-08-20T12:31:33.025435448",
          "2024-08-20T12:31:33.088264227",
          "2024-08-20T12:31:33.151147127",
          "2024-08-20T12:31:33.218916655",
          "2024-08-20T12:31:33.280750036",
          "2024-08-20T12:31:33.342585087",
          "2024-08-20T12:31:33.407411814",
          "2024-08-20T12:31:33.484754801",
          "2024-08-20T12:31:33.533624887",
          "2024-08-20T12:31:33.610753059",
          "2024-08-20T12:31:33.671589851",
          "2024-08-20T12:31:33.730820179",
          "2024-08-20T12:31:33.790660143",
          "2024-08-20T12:31:33.854523897",
          "2024-08-20T12:31:33.919317245",
          "2024-08-20T12:31:33.984568357",
          "2024-08-20T12:31:34.048381805",
          "2024-08-20T12:31:34.117199183",
          "2024-08-20T12:31:34.183008671",
          "2024-08-20T12:31:34.237861395",
          "2024-08-20T12:31:34.303685427",
          "2024-08-20T12:31:34.367515802",
          "2024-08-20T12:31:34.431509018",
          "2024-08-20T12:31:37.120796442",
          "2024-08-20T12:31:37.190546751",
          "2024-08-20T12:31:37.245904446",
          "2024-08-20T12:31:37.310695887",
          "2024-08-20T12:31:37.375525713",
          "2024-08-20T12:31:37.443047285",
          "2024-08-20T12:31:37.501889229",
          "2024-08-20T12:31:37.570401907",
          "2024-08-20T12:31:37.634161472",
          "2024-08-20T12:31:37.698097229",
          "2024-08-20T12:31:37.760633230",
          "2024-08-20T12:31:37.822077274",
          "2024-08-20T12:31:37.890928745",
          "2024-08-20T12:31:37.950802088",
          "2024-08-20T12:31:38.016170025",
          "2024-08-20T12:31:38.079568386",
          "2024-08-20T12:31:38.144387484",
          "2024-08-20T12:31:38.206281900",
          "2024-08-20T12:31:38.272046804",
          "2024-08-20T12:31:38.335875273",
          "2024-08-20T12:31:38.399709225",
          "2024-08-20T12:31:38.464562416",
          "2024-08-20T12:31:38.526404619",
          "2024-08-20T12:31:38.595264912",
          "2024-08-20T12:31:38.654108047",
          "2024-08-20T12:31:38.719931841",
          "2024-08-20T12:31:38.783764362",
          "2024-08-20T12:31:38.857566357",
          "2024-08-20T12:31:38.911419630",
          "2024-08-20T12:31:38.976246357",
          "2024-08-20T12:31:39.042104006",
          "2024-08-20T12:31:39.101980925",
          "2024-08-20T12:31:39.166769743",
          "2024-08-20T12:31:39.232593060",
          "2024-08-20T12:31:39.297420025",
          "2024-08-20T12:31:39.361249447",
          "2024-08-20T12:31:39.423182011",
          "2024-08-20T12:31:39.490002155",
          "2024-08-20T12:31:39.549880981",
          "2024-08-20T12:31:39.614220381",
          "2024-08-20T12:31:39.680010796",
          "2024-08-20T12:31:39.748333454",
          "2024-08-20T12:31:39.812162876",
          "2024-08-20T12:31:39.877536774",
          "2024-08-20T12:31:40.073243380",
          "2024-08-20T12:31:40.086207151",
          "2024-08-20T12:31:40.148041010",
          "2024-08-20T12:31:40.191923618",
          "2024-08-20T12:31:40.237802505",
          "2024-08-20T12:31:40.300632715",
          "2024-08-20T12:31:40.345512867",
          "2024-08-20T12:31:40.391391993",
          "2024-08-20T12:31:40.451229811",
          "2024-08-20T12:31:40.517088412",
          "2024-08-20T12:31:40.581882000",
          "2024-08-20T12:31:40.639754295",
          "2024-08-20T12:31:40.703556538",
          "2024-08-20T12:31:40.769875050",
          "2024-08-20T12:31:40.833705902",
          "2024-08-20T12:31:40.910538912",
          "2024-08-20T12:31:40.974536657",
          "2024-08-20T12:31:41.029807091",
          "2024-08-20T12:31:41.085696697",
          "2024-08-20T12:31:41.153585434",
          "2024-08-20T12:31:41.224370241",
          "2024-08-20T12:31:41.289196968",
          "2024-08-20T12:31:41.349036694",
          "2024-08-20T12:31:41.405884266",
          "2024-08-20T12:31:41.472689152",
          "2024-08-20T12:31:41.540507078",
          "2024-08-20T12:31:41.601395369",
          "2024-08-20T12:31:41.668616772",
          "2024-08-20T12:31:41.727491379",
          "2024-08-20T12:31:41.791326761",
          "2024-08-20T12:31:41.859107018",
          "2024-08-20T12:31:41.926977396",
          "2024-08-20T12:31:41.982784510",
          "2024-08-20T12:31:42.058573484",
          "2024-08-20T12:31:42.111595631",
          "2024-08-20T12:31:42.179451942",
          "2024-08-20T12:31:42.239253283",
          "2024-08-20T12:31:42.305081129",
          "2024-08-20T12:31:42.369940758",
          "2024-08-20T12:31:42.492574692",
          "2024-08-20T12:31:42.547464371",
          "2024-08-20T12:31:42.607268095",
          "2024-08-20T12:31:42.656136990",
          "2024-08-20T12:31:42.714980364",
          "2024-08-20T12:31:42.763849974",
          "2024-08-20T12:31:42.821695328",
          "2024-08-20T12:31:42.879108429",
          "2024-08-20T12:31:42.943912029",
          "2024-08-20T12:31:43.009702921",
          "2024-08-20T12:31:43.071511984",
          "2024-08-20T12:31:43.133901834",
          "2024-08-20T12:31:43.203717709",
          "2024-08-20T12:31:43.261597157",
          "2024-08-20T12:31:43.326387167",
          "2024-08-20T12:31:43.394617081",
          "2024-08-20T12:31:43.464424372",
          "2024-08-20T12:31:43.518105029",
          "2024-08-20T12:31:43.583888292",
          "2024-08-20T12:31:43.646115065",
          "2024-08-20T12:31:43.712907553",
          "2024-08-20T12:31:43.773782730",
          "2024-08-20T12:31:43.840597391",
          "2024-08-20T12:31:43.906425953",
          "2024-08-20T12:31:43.967237234",
          "2024-08-20T12:31:44.030067205",
          "2024-08-20T12:31:44.103466988",
          "2024-08-20T12:31:44.162308455",
          "2024-08-20T12:31:44.223145008",
          "2024-08-20T12:31:44.291014671",
          "2024-08-20T12:31:44.349857092",
          "2024-08-20T12:31:44.415681124",
          "2024-08-20T12:31:44.479695797",
          "2024-08-20T12:31:44.542475224",
          "2024-08-20T12:31:44.613296270",
          "2024-08-20T12:31:44.672163725",
          "2024-08-20T12:31:44.734963417",
          "2024-08-20T12:31:44.800783157",
          "2024-08-20T12:31:44.875235319",
          "2024-08-20T12:31:44.934039116",
          "2024-08-20T12:31:44.991886139",
          "2024-08-20T12:31:45.054715633",
          "2024-08-20T12:31:45.123562574",
          "2024-08-20T12:31:45.184406042",
          "2024-08-20T12:31:45.253189325",
          "2024-08-20T12:31:45.314022064",
          "2024-08-20T12:31:45.391814232",
          "2024-08-20T12:31:45.503517866",
          "2024-08-20T12:31:45.563381672",
          "2024-08-20T12:31:45.625192165",
          "2024-08-20T12:31:45.689467907",
          "2024-08-20T12:31:45.743281364",
          "2024-08-20T12:31:45.799130917",
          "2024-08-20T12:31:45.849994183",
          "2024-08-20T12:31:45.911336899",
          "2024-08-20T12:31:45.973172188",
          "2024-08-20T12:31:46.031045198",
          "2024-08-20T12:31:46.077892065",
          "2024-08-20T12:31:46.141758204",
          "2024-08-20T12:31:46.209540129",
          "2024-08-20T12:31:46.271375179",
          "2024-08-20T12:31:46.336202383",
          "2024-08-20T12:31:46.402061224",
          "2024-08-20T12:31:46.463126421",
          "2024-08-20T12:31:46.525985479",
          "2024-08-20T12:31:46.593837023",
          "2024-08-20T12:31:46.663606167",
          "2024-08-20T12:31:46.721510649",
          "2024-08-20T12:31:46.782323599",
          "2024-08-20T12:31:46.850108624",
          "2024-08-20T12:31:46.921957970",
          "2024-08-20T12:31:46.977843285",
          "2024-08-20T12:31:47.038705826",
          "2024-08-20T12:31:47.102475882",
          "2024-08-20T12:31:47.169295788",
          "2024-08-20T12:31:47.230172157",
          "2024-08-20T12:31:47.304938078",
          "2024-08-20T12:31:47.368804932",
          "2024-08-20T12:31:47.427606583",
          "2024-08-20T12:31:47.491471767",
          "2024-08-20T12:31:47.555302143",
          "2024-08-20T12:31:47.623177528",
          "2024-08-20T12:31:47.811676741",
          "2024-08-20T12:31:47.827633619",
          "2024-08-20T12:31:47.877500534",
          "2024-08-20T12:31:47.938337326",
          "2024-08-20T12:31:47.984474659",
          "2024-08-20T12:31:48.027358532",
          "2024-08-20T12:31:48.088195324",
          "2024-08-20T12:31:48.136068344",
          "2024-08-20T12:31:48.191809654",
          "2024-08-20T12:31:48.256190538",
          "2024-08-20T12:31:48.321072102",
          "2024-08-20T12:31:48.382852077",
          "2024-08-20T12:31:48.445721865",
          "2024-08-20T12:31:48.511081219",
          "2024-08-20T12:31:48.576905251",
          "2024-08-20T12:31:48.638738394",
          "2024-08-20T12:31:48.701770544",
          "2024-08-20T12:31:48.774565697",
          "2024-08-20T12:31:48.831388712",
          "2024-08-20T12:31:48.893730640",
          "2024-08-20T12:31:48.961057901",
          "2024-08-20T12:31:49.028914213",
          "2024-08-20T12:31:49.090711117",
          "2024-08-20T12:31:49.154539824",
          "2024-08-20T12:31:49.213383436",
          "2024-08-20T12:31:49.279206991",
          "2024-08-20T12:31:49.345029116",
          "2024-08-20T12:31:49.405867100",
          "2024-08-20T12:31:49.473721266",
          "2024-08-20T12:31:49.545494080",
          "2024-08-20T12:31:49.602399588",
          "2024-08-20T12:31:49.663179159",
          "2024-08-20T12:31:49.729102612",
          "2024-08-20T12:31:49.791011810",
          "2024-08-20T12:31:49.853843212",
          "2024-08-20T12:31:49.919657946",
          "2024-08-20T12:31:49.983487844",
          "2024-08-20T12:31:50.046319723",
          "2024-08-20T12:31:50.110692024",
          "2024-08-20T12:31:50.174520016",
          "2024-08-20T12:31:50.238417864",
          "2024-08-20T12:31:50.303511620",
          "2024-08-20T12:31:50.366343737",
          "2024-08-20T12:31:50.432175159",
          "2024-08-20T12:31:50.505977631",
          "2024-08-20T12:31:50.560830355",
          "2024-08-20T12:31:50.670942068",
          "2024-08-20T12:31:50.726747036",
          "2024-08-20T12:31:50.789601564",
          "2024-08-20T12:31:50.825510979",
          "2024-08-20T12:31:50.890295744",
          "2024-08-20T12:31:50.943155289",
          "2024-08-20T12:31:51.012972832",
          "2024-08-20T12:31:51.074837446",
          "2024-08-20T12:31:51.134642601",
          "2024-08-20T12:31:51.200467348",
          "2024-08-20T12:31:51.273272991",
          "2024-08-20T12:31:51.336102962",
          "2024-08-20T12:31:51.389957905",
          "2024-08-20T12:31:51.454820395",
          "2024-08-20T12:31:51.517674922",
          "2024-08-20T12:31:51.586463928",
          "2024-08-20T12:31:51.646686554",
          "2024-08-20T12:31:51.712054014",
          "2024-08-20T12:31:51.782867193",
          "2024-08-20T12:31:51.838715792",
          "2024-08-20T12:31:51.903051376",
          "2024-08-20T12:31:51.967877626",
          "2024-08-20T12:31:52.030061007",
          "2024-08-20T12:31:52.102158070",
          "2024-08-20T12:31:52.168978691",
          "2024-08-20T12:31:52.222800970",
          "2024-08-20T12:31:52.292626858",
          "2024-08-20T12:31:52.351458549",
          "2024-08-20T12:31:52.418277025",
          "2024-08-20T12:31:52.481150866",
          "2024-08-20T12:31:52.541553497",
          "2024-08-20T12:31:52.606345415",
          "2024-08-20T12:31:52.673228025",
          "2024-08-20T12:31:52.735998154",
          "2024-08-20T12:31:52.798882484",
          "2024-08-20T12:31:52.862711668",
          "2024-08-20T12:31:52.927570105",
          "2024-08-20T12:31:52.990370035",
          "2024-08-20T12:31:53.070696592",
          "2024-08-20T12:31:53.131572007",
          "2024-08-20T12:31:53.195363998",
          "2024-08-20T12:31:53.245267153",
          "2024-08-20T12:31:53.310670376",
          "2024-08-20T12:31:53.375495911",
          "2024-08-20T12:31:53.440849304",
          "2024-08-20T12:31:53.502685069",
          "2024-08-20T12:31:53.581473112",
          "2024-08-20T12:31:53.671237707",
          "2024-08-20T12:31:53.730012655",
          "2024-08-20T12:31:53.778313637",
          "2024-08-20T12:31:53.833030939",
          "2024-08-20T12:31:53.893876076",
          "2024-08-20T12:31:53.949759483",
          "2024-08-20T12:31:54.014583826",
          "2024-08-20T12:31:54.080477238",
          "2024-08-20T12:31:54.146250486",
          "2024-08-20T12:31:54.208119631",
          "2024-08-20T12:31:54.272945881",
          "2024-08-20T12:31:54.337438822",
          "2024-08-20T12:31:54.401267767",
          "2024-08-20T12:31:54.464104652",
          "2024-08-20T12:31:54.525992393",
          "2024-08-20T12:31:54.604726553",
          "2024-08-20T12:31:54.660574675",
          "2024-08-20T12:31:54.717456818",
          "2024-08-20T12:31:54.788233280",
          "2024-08-20T12:31:54.846078873",
          "2024-08-20T12:31:54.909790993",
          "2024-08-20T12:31:54.976554394",
          "2024-08-20T12:31:55.039385557",
          "2024-08-20T12:31:55.105245590",
          "2024-08-20T12:31:55.171085119",
          "2024-08-20T12:31:55.230873108",
          "2024-08-20T12:31:55.299697399",
          "2024-08-20T12:31:55.362556934",
          "2024-08-20T12:31:55.429852486",
          "2024-08-20T12:31:55.490688562",
          "2024-08-20T12:31:55.549531460",
          "2024-08-20T12:31:55.615355253",
          "2024-08-20T12:31:55.682177305",
          "2024-08-20T12:31:55.744011879",
          "2024-08-20T12:31:55.807841063",
          "2024-08-20T12:31:55.870673656",
          "2024-08-20T12:31:55.949462414",
          "2024-08-20T12:31:56.003352642",
          "2024-08-20T12:31:56.067021132",
          "2024-08-20T12:31:56.125862597",
          "2024-08-20T12:31:56.193681240",
          "2024-08-20T12:31:56.253522635",
          "2024-08-20T12:31:56.318383694",
          "2024-08-20T12:31:56.386166811",
          "2024-08-20T12:31:56.448000908",
          "2024-08-20T12:31:56.512829065",
          "2024-08-20T12:31:56.583638668",
          "2024-08-20T12:31:56.640494585",
          "2024-08-20T12:31:56.703325510",
          "2024-08-20T12:31:56.767193556",
          "2024-08-20T12:31:56.835482836",
          "2024-08-20T12:31:56.902304649",
          "2024-08-20T12:31:56.962438345",
          "2024-08-20T12:31:57.025873184",
          "2024-08-20T12:31:57.087665081",
          "2024-08-20T12:31:57.154531956",
          "2024-08-20T12:31:57.214373350",
          "2024-08-20T12:31:57.293160200",
          "2024-08-20T12:31:57.345025063",
          "2024-08-20T12:31:57.412839890",
          "2024-08-20T12:31:57.473701954",
          "2024-08-20T12:31:57.534539223",
          "2024-08-20T12:31:57.604353428",
          "2024-08-20T12:31:57.663195133",
          "2024-08-20T12:31:57.726027727",
          "2024-08-20T12:31:57.791850805",
          "2024-08-20T12:31:57.855682135",
          "2024-08-20T12:31:57.919509649",
          "2024-08-20T12:31:57.984847546",
          "2024-08-20T12:31:58.048672438",
          "2024-08-20T12:31:58.114497423",
          "2024-08-20T12:31:58.232179642",
          "2024-08-20T12:31:58.303023338",
          "2024-08-20T12:31:58.362874031",
          "2024-08-20T12:31:58.422821522",
          "2024-08-20T12:31:58.476673603",
          "2024-08-20T12:31:58.501605749",
          "2024-08-20T12:31:58.569931507",
          "2024-08-20T12:31:58.628283978",
          "2024-08-20T12:31:58.687161207",
          "2024-08-20T12:31:58.754455805",
          "2024-08-20T12:31:58.874644995",
          "2024-08-20T12:31:58.942510366",
          "2024-08-20T12:31:59.005335093",
          "2024-08-20T12:31:59.067801952",
          "2024-08-20T12:31:59.130631208",
          "2024-08-20T12:31:59.181493998",
          "2024-08-20T12:31:59.239844561",
          "2024-08-20T12:31:59.299728394",
          "2024-08-20T12:31:59.346602917",
          "2024-08-20T12:31:59.392479658",
          "2024-08-20T12:31:59.455312490",
          "2024-08-20T12:31:59.519181966",
          "2024-08-20T12:31:59.584981441",
          "2024-08-20T12:31:59.647796392",
          "2024-08-20T12:31:59.710932016",
          "2024-08-20T12:31:59.783735514",
          "2024-08-20T12:31:59.839586020",
          "2024-08-20T12:31:59.903450012",
          "2024-08-20T12:31:59.966248512",
          "2024-08-20T12:32:00.031110048",
          "2024-08-20T12:32:00.101887941",
          "2024-08-20T12:32:00.159729958",
          "2024-08-20T12:32:00.222562075",
          "2024-08-20T12:32:00.287391663",
          "2024-08-20T12:32:00.352120399",
          "2024-08-20T12:32:00.413935184",
          "2024-08-20T12:32:00.478729010",
          "2024-08-20T12:32:00.542225122",
          "2024-08-20T12:32:00.610045195",
          "2024-08-20T12:32:00.671614647",
          "2024-08-20T12:32:00.735095501",
          "2024-08-20T12:32:00.799942493",
          "2024-08-20T12:32:00.863315344",
          "2024-08-20T12:32:00.928106546",
          "2024-08-20T12:32:01.008890390",
          "2024-08-20T12:32:01.070760727",
          "2024-08-20T12:32:01.117598772",
          "2024-08-20T12:32:01.181464672",
          "2024-08-20T12:32:01.245420218",
          "2024-08-20T12:32:01.314198017",
          "2024-08-20T12:32:01.377030849",
          "2024-08-20T12:32:01.439896584",
          "2024-08-20T12:32:01.512666941",
          "2024-08-20T12:32:01.589461088",
          "2024-08-20T12:32:01.634341002",
          "2024-08-20T12:32:01.695178032",
          "2024-08-20T12:32:01.761003256",
          "2024-08-20T12:32:01.821839809",
          "2024-08-20T12:32:01.885703325",
          "2024-08-20T12:32:01.950496435",
          "2024-08-20T12:32:02.016355275",
          "2024-08-20T12:32:02.079560041",
          "2024-08-20T12:32:02.147934437",
          "2024-08-20T12:32:02.205846548",
          "2024-08-20T12:32:02.270641804",
          "2024-08-20T12:32:02.914112091",
          "2024-08-20T12:32:03.692140341",
          "2024-08-20T12:32:03.742039919",
          "2024-08-20T12:32:03.805836201",
          "2024-08-20T12:32:03.872937918",
          "2024-08-20T12:32:04.215462923",
          "2024-08-20T12:32:04.261340141",
          "2024-08-20T12:32:04.305223465",
          "2024-08-20T12:32:04.410940409",
          "2024-08-20T12:32:04.457854271",
          "2024-08-20T12:32:04.517654896",
          "2024-08-20T12:32:04.580527544",
          "2024-08-20T12:32:04.637335539",
          "2024-08-20T12:32:04.706151247",
          "2024-08-20T12:32:04.765990496",
          "2024-08-20T12:32:04.830850601",
          "2024-08-20T12:32:04.894646168",
          "2024-08-20T12:32:04.958475590",
          "2024-08-20T12:32:05.028358459",
          "2024-08-20T12:32:05.090869427",
          "2024-08-20T12:32:05.155694008",
          "2024-08-20T12:32:05.220520258",
          "2024-08-20T12:32:05.280360222",
          "2024-08-20T12:32:05.344203472",
          "2024-08-20T12:32:05.416617870",
          "2024-08-20T12:32:05.473434925",
          "2024-08-20T12:32:05.533270836",
          "2024-08-20T12:32:05.599692583",
          "2024-08-20T12:32:05.668574572",
          "2024-08-20T12:32:05.727350950",
          "2024-08-20T12:32:05.791183472",
          "2024-08-20T12:32:05.854014158",
          "2024-08-20T12:32:05.924823761",
          "2024-08-20T12:32:05.983665466",
          "2024-08-20T12:32:06.046497345",
          "2024-08-20T12:32:06.113318920",
          "2024-08-20T12:32:06.185126543",
          "2024-08-20T12:32:06.244966507",
          "2024-08-20T12:32:06.305804491",
          "2024-08-20T12:32:06.427478552",
          "2024-08-20T12:32:06.476348162",
          "2024-08-20T12:32:06.519232987",
          "2024-08-20T12:32:06.580214500",
          "2024-08-20T12:32:06.640358686",
          "2024-08-20T12:32:06.689215422",
          "2024-08-20T12:32:06.750109673",
          "2024-08-20T12:32:06.817869663",
          "2024-08-20T12:32:06.883101940",
          "2024-08-20T12:32:07.051910162",
          "2024-08-20T12:32:07.107870817",
          "2024-08-20T12:32:07.159778595",
          "2024-08-20T12:32:07.225763559",
          "2024-08-20T12:32:07.280441046",
          "2024-08-20T12:32:07.327314854",
          "2024-08-20T12:32:07.392040730",
          "2024-08-20T12:32:07.453844547",
          "2024-08-20T12:32:07.519663572",
          "2024-08-20T12:32:07.585496664",
          "2024-08-20T12:32:07.646383524",
          "2024-08-20T12:32:07.712150097",
          "2024-08-20T12:32:07.776016474",
          "2024-08-20T12:32:07.839809179",
          "2024-08-20T12:32:07.902639627",
          "2024-08-20T12:32:07.965471029",
          "2024-08-20T12:32:08.032032250",
          "2024-08-20T12:32:08.093867064",
          "2024-08-20T12:32:08.167701006",
          "2024-08-20T12:32:08.227540970",
          "2024-08-20T12:32:08.295396090",
          "2024-08-20T12:32:08.349215508",
          "2024-08-20T12:32:08.416072607",
          "2024-08-20T12:32:08.480871439",
          "2024-08-20T12:32:08.542946577",
          "2024-08-20T12:32:08.606839895",
          "2024-08-20T12:32:08.670669317",
          "2024-08-20T12:32:08.748494625",
          "2024-08-20T12:32:08.810294867",
          "2024-08-20T12:32:08.870174646",
          "2024-08-20T12:32:08.929901600",
          "2024-08-20T12:32:14.110471010",
          "2024-08-20T12:32:14.813715219",
          "2024-08-20T12:32:14.945337057",
          "2024-08-20T12:32:15.243623495",
          "2024-08-20T12:32:15.292493105",
          "2024-08-20T12:32:15.336418152",
          "2024-08-20T12:32:15.403240204",
          "2024-08-20T12:32:15.460046530",
          "2024-08-20T12:32:15.519924878",
          "2024-08-20T12:32:15.582721472",
          "2024-08-20T12:32:24.357778549",
          "2024-08-20T12:32:24.479396105",
          "2024-08-20T12:32:24.543224573",
          "2024-08-20T12:32:24.801352024",
          "2024-08-20T12:32:24.864221811",
          "2024-08-20T12:32:24.932000160",
          "2024-08-20T12:32:24.992837667"
         ],
         "xaxis": "x2",
         "y": {
          "bdata": "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",
          "dtype": "f8"
         },
         "yaxis": "y2"
        },
        {
         "marker": {
          "color": "lightcoral"
         },
         "name": "Distribution",
         "nbinsx": 30,
         "opacity": 0.7,
         "type": "histogram",
         "x": {
          "bdata": "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",
          "dtype": "f8"
         },
         "xaxis": "x3",
         "yaxis": "y3"
        },
        {
         "line": {
          "color": "lightcoral",
          "width": 1
         },
         "mode": "lines",
         "name": "Raw",
         "opacity": 0.5,
         "type": "scatter",
         "x": {
          "bdata": "AQACAAMABAAFAAYABwAIAAkACgALAAwADQAOAA8AEAARABIAEwAUABUAFgAXABgAGQAaABsAHAAdAB4AHwAgACEAIgAjACQAJQAmACcAKAApACoAKwAsAC0AVwBYAFkAWgBbAFwAXQBeAF8AYABhAGIAYwBkAGUAZgBnAGgAaQBqAGsAbABtAG4AbwBwAHEAcgBzAHQAdQB2AHcAeAB5AHoAewB8AH0AfgB/AIAAgQCCAIMAhACFAIYAhwCIAIkAigCLAIwAjQCOAI8AkACRAJIAkwCUAJUAlgCXAJgAmQCaAJsAnACdAJ4AnwCgAKEAogCjAKQApQCmAKcAqACpAKoAqwCsAK0ArgCvALAAsQCyALMAtAC1ALYAtwC4ALkAugC7ALwAvQC+AL8AwADBAMIAwwDEAMUAxgDHAMgAyQDKAMsAzADNAM4AzwDQANEA0gDTANQA1QDWANcA2ADZANoA2wDcAN0A3gDfAOAA4QDiAOMA5ADlAOYA5wDoAOkA6gDrAOwA7QDuAO8A8ADxAPIA8wD0APUA9gD3APgA+QD6APsA/AD9AP4A/wAAAQEBAgEDAQQBBQEGAQcBCAEJAQoBCwEMAQ0BDgEPARABEQESARMBFAEVARYBFwEYARkBGgEbARwBHQEeAR8BIAEhASIBIwEkASUBJgEnASgBKQEqASsBLAEtAS4BLwEwATEBMgEzATQBNQE2ATcBOAE5AToBOwE8AT0BPgE/AUABQQFCAUMBRAFFAUYBRwFIAUkBSgFLAUwBTQFOAU8BUAFRAVIBUwFUAVUBVgFXAVgBWQFaAVsBXAFdAV4BXwFgAWEBYgFjAWQBZQFmAWcBaAFpAWoBawFsAW0BbgFvAXABcQFyAXMBdAF1AXYBdwF4AXkBegF7AXwBfQF+AX8BgAGBAYIBgwGEAYUBhgGHAYgBiQGKAYsBjAGNAY4BjwGQAZEBkgGTAZQBlQGWAZcBmAGZAZoBmwGcAZ0BngGfAaABoQGiAaMBpAGlAaYBpwGoAakBqgGrAawBrQGuAa8BsAGxAbIBswG0AbUBtgG3AbgBuQG6AbsBvAG9Ab4BvwHAAcEBwgHDAcQBxQHGAccByAHJAcoBywHMAc0BzgHPAdAB0QHSAdMB1AHVAdYB1wHYAdkB2gHbAdwB3QHeAd8B4AHqAfYB9wH4AfkB/QH+Af8BAQICAgMCBAIFAgYCBwIIAgkCCgILAgwCDQIOAg8CEAIRAhICEwIUAhUCFgIXAhgCGQIaAhsCHAIdAh4CHwIgAiECIgIjAiQCJQImAicCKAIqAisCLAItAi4CLwIwAjECMgIzAjQCNQI2AjcCOAI5AjoCOwI8Aj0CPgI/AkACQQJCAkMCRAJFAkYCRwJIApkCpAKmAqoCqwKsAq0CrgKvArACOQM7AzwDQANBA0IDQwM=",
          "dtype": "i2"
         },
         "xaxis": "x4",
         "y": {
          "bdata": "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",
          "dtype": "f8"
         },
         "yaxis": "y4"
        },
        {
         "line": {
          "color": "darkred",
          "width": 3
         },
         "mode": "lines",
         "name": "Smoothed (n=26)",
         "type": "scatter",
         "x": {
          "bdata": "AQACAAMABAAFAAYABwAIAAkACgALAAwADQAOAA8AEAARABIAEwAUABUAFgAXABgAGQAaABsAHAAdAB4AHwAgACEAIgAjACQAJQAmACcAKAApACoAKwAsAC0AVwBYAFkAWgBbAFwAXQBeAF8AYABhAGIAYwBkAGUAZgBnAGgAaQBqAGsAbABtAG4AbwBwAHEAcgBzAHQAdQB2AHcAeAB5AHoAewB8AH0AfgB/AIAAgQCCAIMAhACFAIYAhwCIAIkAigCLAIwAjQCOAI8AkACRAJIAkwCUAJUAlgCXAJgAmQCaAJsAnACdAJ4AnwCgAKEAogCjAKQApQCmAKcAqACpAKoAqwCsAK0ArgCvALAAsQCyALMAtAC1ALYAtwC4ALkAugC7ALwAvQC+AL8AwADBAMIAwwDEAMUAxgDHAMgAyQDKAMsAzADNAM4AzwDQANEA0gDTANQA1QDWANcA2ADZANoA2wDcAN0A3gDfAOAA4QDiAOMA5ADlAOYA5wDoAOkA6gDrAOwA7QDuAO8A8ADxAPIA8wD0APUA9gD3APgA+QD6APsA/AD9AP4A/wAAAQEBAgEDAQQBBQEGAQcBCAEJAQoBCwEMAQ0BDgEPARABEQESARMBFAEVARYBFwEYARkBGgEbARwBHQEeAR8BIAEhASIBIwEkASUBJgEnASgBKQEqASsBLAEtAS4BLwEwATEBMgEzATQBNQE2ATcBOAE5AToBOwE8AT0BPgE/AUABQQFCAUMBRAFFAUYBRwFIAUkBSgFLAUwBTQFOAU8BUAFRAVIBUwFUAVUBVgFXAVgBWQFaAVsBXAFdAV4BXwFgAWEBYgFjAWQBZQFmAWcBaAFpAWoBawFsAW0BbgFvAXABcQFyAXMBdAF1AXYBdwF4AXkBegF7AXwBfQF+AX8BgAGBAYIBgwGEAYUBhgGHAYgBiQGKAYsBjAGNAY4BjwGQAZEBkgGTAZQBlQGWAZcBmAGZAZoBmwGcAZ0BngGfAaABoQGiAaMBpAGlAaYBpwGoAakBqgGrAawBrQGuAa8BsAGxAbIBswG0AbUBtgG3AbgBuQG6AbsBvAG9Ab4BvwHAAcEBwgHDAcQBxQHGAccByAHJAcoBywHMAc0BzgHPAdAB0QHSAdMB1AHVAdYB1wHYAdkB2gHbAdwB3QHeAd8B4AHqAfYB9wH4AfkB/QH+Af8BAQICAgMCBAIFAgYCBwIIAgkCCgILAgwCDQIOAg8CEAIRAhICEwIUAhUCFgIXAhgCGQIaAhsCHAIdAh4CHwIgAiECIgIjAiQCJQImAicCKAIqAisCLAItAi4CLwIwAjECMgIzAjQCNQI2AjcCOAI5AjoCOwI8Aj0CPgI/AkACQQJCAkMCRAJFAkYCRwJIApkCpAKmAqoCqwKsAq0CrgKvArACOQM7AzwDQANBA0IDQwM=",
          "dtype": "i2"
         },
         "xaxis": "x4",
         "y": {
          "bdata": "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",
          "dtype": "f8"
         },
         "yaxis": "y4"
        }
       ],
       "layout": {
        "annotations": [
         {
          "font": {
           "size": 16
          },
          "showarrow": false,
          "text": "Distance vs Frame Index",
          "x": 0.225,
          "xanchor": "center",
          "xref": "paper",
          "y": 1,
          "yanchor": "bottom",
          "yref": "paper"
         },
         {
          "font": {
           "size": 16
          },
          "showarrow": false,
          "text": "Distance vs Time",
          "x": 0.775,
          "xanchor": "center",
          "xref": "paper",
          "y": 1,
          "yanchor": "bottom",
          "yref": "paper"
         },
         {
          "font": {
           "size": 16
          },
          "showarrow": false,
          "text": "Distance Distribution",
          "x": 0.225,
          "xanchor": "center",
          "xref": "paper",
          "y": 0.375,
          "yanchor": "bottom",
          "yref": "paper"
         },
         {
          "font": {
           "size": 16
          },
          "showarrow": false,
          "text": "Distance Trends",
          "x": 0.775,
          "xanchor": "center",
          "xref": "paper",
          "y": 0.375,
          "yanchor": "bottom",
          "yref": "paper"
         },
         {
          "showarrow": false,
          "text": "Mean: 1.92meters",
          "x": 1.9151448445405481,
          "xanchor": "left",
          "xref": "x3",
          "y": 1,
          "yanchor": "top",
          "yref": "y3 domain"
         }
        ],
        "height": 800,
        "shapes": [
         {
          "line": {
           "color": "red",
           "dash": "dash"
          },
          "type": "line",
          "x0": 1.9151448445405481,
          "x1": 1.9151448445405481,
          "xref": "x3",
          "y0": 0,
          "y1": 1,
          "yref": "y3 domain"
         }
        ],
        "showlegend": true,
        "template": {
         "data": {
          "bar": [
           {
            "error_x": {
             "color": "#2a3f5f"
            },
            "error_y": {
             "color": "#2a3f5f"
            },
            "marker": {
             "line": {
              "color": "#E5ECF6",
              "width": 0.5
             },
             "pattern": {
              "fillmode": "overlay",
              "size": 10,
              "solidity": 0.2
             }
            },
            "type": "bar"
           }
          ],
          "barpolar": [
           {
            "marker": {
             "line": {
              "color": "#E5ECF6",
              "width": 0.5
             },
             "pattern": {
              "fillmode": "overlay",
              "size": 10,
              "solidity": 0.2
             }
            },
            "type": "barpolar"
           }
          ],
          "carpet": [
           {
            "aaxis": {
             "endlinecolor": "#2a3f5f",
             "gridcolor": "white",
             "linecolor": "white",
             "minorgridcolor": "white",
             "startlinecolor": "#2a3f5f"
            },
            "baxis": {
             "endlinecolor": "#2a3f5f",
             "gridcolor": "white",
             "linecolor": "white",
             "minorgridcolor": "white",
             "startlinecolor": "#2a3f5f"
            },
            "type": "carpet"
           }
          ],
          "choropleth": [
           {
            "colorbar": {
             "outlinewidth": 0,
             "ticks": ""
            },
            "type": "choropleth"
           }
          ],
          "contour": [
           {
            "colorbar": {
             "outlinewidth": 0,
             "ticks": ""
            },
            "colorscale": [
             [
              0,
              "#0d0887"
             ],
             [
              0.1111111111111111,
              "#46039f"
             ],
             [
              0.2222222222222222,
              "#7201a8"
             ],
             [
              0.3333333333333333,
              "#9c179e"
             ],
             [
              0.4444444444444444,
              "#bd3786"
             ],
             [
              0.5555555555555556,
              "#d8576b"
             ],
             [
              0.6666666666666666,
              "#ed7953"
             ],
             [
              0.7777777777777778,
              "#fb9f3a"
             ],
             [
              0.8888888888888888,
              "#fdca26"
             ],
             [
              1,
              "#f0f921"
             ]
            ],
            "type": "contour"
           }
          ],
          "contourcarpet": [
           {
            "colorbar": {
             "outlinewidth": 0,
             "ticks": ""
            },
            "type": "contourcarpet"
           }
          ],
          "heatmap": [
           {
            "colorbar": {
             "outlinewidth": 0,
             "ticks": ""
            },
            "colorscale": [
             [
              0,
              "#0d0887"
             ],
             [
              0.1111111111111111,
              "#46039f"
             ],
             [
              0.2222222222222222,
              "#7201a8"
             ],
             [
              0.3333333333333333,
              "#9c179e"
             ],
             [
              0.4444444444444444,
              "#bd3786"
             ],
             [
              0.5555555555555556,
              "#d8576b"
             ],
             [
              0.6666666666666666,
              "#ed7953"
             ],
             [
              0.7777777777777778,
              "#fb9f3a"
             ],
             [
              0.8888888888888888,
              "#fdca26"
             ],
             [
              1,
              "#f0f921"
             ]
            ],
            "type": "heatmap"
           }
          ],
          "histogram": [
           {
            "marker": {
             "pattern": {
              "fillmode": "overlay",
              "size": 10,
              "solidity": 0.2
             }
            },
            "type": "histogram"
           }
          ],
          "histogram2d": [
           {
            "colorbar": {
             "outlinewidth": 0,
             "ticks": ""
            },
            "colorscale": [
             [
              0,
              "#0d0887"
             ],
             [
              0.1111111111111111,
              "#46039f"
             ],
             [
              0.2222222222222222,
              "#7201a8"
             ],
             [
              0.3333333333333333,
              "#9c179e"
             ],
             [
              0.4444444444444444,
              "#bd3786"
             ],
             [
              0.5555555555555556,
              "#d8576b"
             ],
             [
              0.6666666666666666,
              "#ed7953"
             ],
             [
              0.7777777777777778,
              "#fb9f3a"
             ],
             [
              0.8888888888888888,
              "#fdca26"
             ],
             [
              1,
              "#f0f921"
             ]
            ],
            "type": "histogram2d"
           }
          ],
          "histogram2dcontour": [
           {
            "colorbar": {
             "outlinewidth": 0,
             "ticks": ""
            },
            "colorscale": [
             [
              0,
              "#0d0887"
             ],
             [
              0.1111111111111111,
              "#46039f"
             ],
             [
              0.2222222222222222,
              "#7201a8"
             ],
             [
              0.3333333333333333,
              "#9c179e"
             ],
             [
              0.4444444444444444,
              "#bd3786"
             ],
             [
              0.5555555555555556,
              "#d8576b"
             ],
             [
              0.6666666666666666,
              "#ed7953"
             ],
             [
              0.7777777777777778,
              "#fb9f3a"
             ],
             [
              0.8888888888888888,
              "#fdca26"
             ],
             [
              1,
              "#f0f921"
             ]
            ],
            "type": "histogram2dcontour"
           }
          ],
          "mesh3d": [
           {
            "colorbar": {
             "outlinewidth": 0,
             "ticks": ""
            },
            "type": "mesh3d"
           }
          ],
          "parcoords": [
           {
            "line": {
             "colorbar": {
              "outlinewidth": 0,
              "ticks": ""
             }
            },
            "type": "parcoords"
           }
          ],
          "pie": [
           {
            "automargin": true,
            "type": "pie"
           }
          ],
          "scatter": [
           {
            "fillpattern": {
             "fillmode": "overlay",
             "size": 10,
             "solidity": 0.2
            },
            "type": "scatter"
           }
          ],
          "scatter3d": [
           {
            "line": {
             "colorbar": {
              "outlinewidth": 0,
              "ticks": ""
             }
            },
            "marker": {
             "colorbar": {
              "outlinewidth": 0,
              "ticks": ""
             }
            },
            "type": "scatter3d"
           }
          ],
          "scattercarpet": [
           {
            "marker": {
             "colorbar": {
              "outlinewidth": 0,
              "ticks": ""
             }
            },
            "type": "scattercarpet"
           }
          ],
          "scattergeo": [
           {
            "marker": {
             "colorbar": {
              "outlinewidth": 0,
              "ticks": ""
             }
            },
            "type": "scattergeo"
           }
          ],
          "scattergl": [
           {
            "marker": {
             "colorbar": {
              "outlinewidth": 0,
              "ticks": ""
             }
            },
            "type": "scattergl"
           }
          ],
          "scattermap": [
           {
            "marker": {
             "colorbar": {
              "outlinewidth": 0,
              "ticks": ""
             }
            },
            "type": "scattermap"
           }
          ],
          "scattermapbox": [
           {
            "marker": {
             "colorbar": {
              "outlinewidth": 0,
              "ticks": ""
             }
            },
            "type": "scattermapbox"
           }
          ],
          "scatterpolar": [
           {
            "marker": {
             "colorbar": {
              "outlinewidth": 0,
              "ticks": ""
             }
            },
            "type": "scatterpolar"
           }
          ],
          "scatterpolargl": [
           {
            "marker": {
             "colorbar": {
              "outlinewidth": 0,
              "ticks": ""
             }
            },
            "type": "scatterpolargl"
           }
          ],
          "scatterternary": [
           {
            "marker": {
             "colorbar": {
              "outlinewidth": 0,
              "ticks": ""
             }
            },
            "type": "scatterternary"
           }
          ],
          "surface": [
           {
            "colorbar": {
             "outlinewidth": 0,
             "ticks": ""
            },
            "colorscale": [
             [
              0,
              "#0d0887"
             ],
             [
              0.1111111111111111,
              "#46039f"
             ],
             [
              0.2222222222222222,
              "#7201a8"
             ],
             [
              0.3333333333333333,
              "#9c179e"
             ],
             [
              0.4444444444444444,
              "#bd3786"
             ],
             [
              0.5555555555555556,
              "#d8576b"
             ],
             [
              0.6666666666666666,
              "#ed7953"
             ],
             [
              0.7777777777777778,
              "#fb9f3a"
             ],
             [
              0.8888888888888888,
              "#fdca26"
             ],
             [
              1,
              "#f0f921"
             ]
            ],
            "type": "surface"
           }
          ],
          "table": [
           {
            "cells": {
             "fill": {
              "color": "#EBF0F8"
             },
             "line": {
              "color": "white"
             }
            },
            "header": {
             "fill": {
              "color": "#C8D4E3"
             },
             "line": {
              "color": "white"
             }
            },
            "type": "table"
           }
          ]
         },
         "layout": {
          "annotationdefaults": {
           "arrowcolor": "#2a3f5f",
           "arrowhead": 0,
           "arrowwidth": 1
          },
          "autotypenumbers": "strict",
          "coloraxis": {
           "colorbar": {
            "outlinewidth": 0,
            "ticks": ""
           }
          },
          "colorscale": {
           "diverging": [
            [
             0,
             "#8e0152"
            ],
            [
             0.1,
             "#c51b7d"
            ],
            [
             0.2,
             "#de77ae"
            ],
            [
             0.3,
             "#f1b6da"
            ],
            [
             0.4,
             "#fde0ef"
            ],
            [
             0.5,
             "#f7f7f7"
            ],
            [
             0.6,
             "#e6f5d0"
            ],
            [
             0.7,
             "#b8e186"
            ],
            [
             0.8,
             "#7fbc41"
            ],
            [
             0.9,
             "#4d9221"
            ],
            [
             1,
             "#276419"
            ]
           ],
           "sequential": [
            [
             0,
             "#0d0887"
            ],
            [
             0.1111111111111111,
             "#46039f"
            ],
            [
             0.2222222222222222,
             "#7201a8"
            ],
            [
             0.3333333333333333,
             "#9c179e"
            ],
            [
             0.4444444444444444,
             "#bd3786"
            ],
            [
             0.5555555555555556,
             "#d8576b"
            ],
            [
             0.6666666666666666,
             "#ed7953"
            ],
            [
             0.7777777777777778,
             "#fb9f3a"
            ],
            [
             0.8888888888888888,
             "#fdca26"
            ],
            [
             1,
             "#f0f921"
            ]
           ],
           "sequentialminus": [
            [
             0,
             "#0d0887"
            ],
            [
             0.1111111111111111,
             "#46039f"
            ],
            [
             0.2222222222222222,
             "#7201a8"
            ],
            [
             0.3333333333333333,
             "#9c179e"
            ],
            [
             0.4444444444444444,
             "#bd3786"
            ],
            [
             0.5555555555555556,
             "#d8576b"
            ],
            [
             0.6666666666666666,
             "#ed7953"
            ],
            [
             0.7777777777777778,
             "#fb9f3a"
            ],
            [
             0.8888888888888888,
             "#fdca26"
            ],
            [
             1,
             "#f0f921"
            ]
           ]
          },
          "colorway": [
           "#636efa",
           "#EF553B",
           "#00cc96",
           "#ab63fa",
           "#FFA15A",
           "#19d3f3",
           "#FF6692",
           "#B6E880",
           "#FF97FF",
           "#FECB52"
          ],
          "font": {
           "color": "#2a3f5f"
          },
          "geo": {
           "bgcolor": "white",
           "lakecolor": "white",
           "landcolor": "#E5ECF6",
           "showlakes": true,
           "showland": true,
           "subunitcolor": "white"
          },
          "hoverlabel": {
           "align": "left"
          },
          "hovermode": "closest",
          "mapbox": {
           "style": "light"
          },
          "paper_bgcolor": "white",
          "plot_bgcolor": "#E5ECF6",
          "polar": {
           "angularaxis": {
            "gridcolor": "white",
            "linecolor": "white",
            "ticks": ""
           },
           "bgcolor": "#E5ECF6",
           "radialaxis": {
            "gridcolor": "white",
            "linecolor": "white",
            "ticks": ""
           }
          },
          "scene": {
           "xaxis": {
            "backgroundcolor": "#E5ECF6",
            "gridcolor": "white",
            "gridwidth": 2,
            "linecolor": "white",
            "showbackground": true,
            "ticks": "",
            "zerolinecolor": "white"
           },
           "yaxis": {
            "backgroundcolor": "#E5ECF6",
            "gridcolor": "white",
            "gridwidth": 2,
            "linecolor": "white",
            "showbackground": true,
            "ticks": "",
            "zerolinecolor": "white"
           },
           "zaxis": {
            "backgroundcolor": "#E5ECF6",
            "gridcolor": "white",
            "gridwidth": 2,
            "linecolor": "white",
            "showbackground": true,
            "ticks": "",
            "zerolinecolor": "white"
           }
          },
          "shapedefaults": {
           "line": {
            "color": "#2a3f5f"
           }
          },
          "ternary": {
           "aaxis": {
            "gridcolor": "white",
            "linecolor": "white",
            "ticks": ""
           },
           "baxis": {
            "gridcolor": "white",
            "linecolor": "white",
            "ticks": ""
           },
           "bgcolor": "#E5ECF6",
           "caxis": {
            "gridcolor": "white",
            "linecolor": "white",
            "ticks": ""
           }
          },
          "title": {
           "x": 0.05
          },
          "xaxis": {
           "automargin": true,
           "gridcolor": "white",
           "linecolor": "white",
           "ticks": "",
           "title": {
            "standoff": 15
           },
           "zerolinecolor": "white",
           "zerolinewidth": 2
          },
          "yaxis": {
           "automargin": true,
           "gridcolor": "white",
           "linecolor": "white",
           "ticks": "",
           "title": {
            "standoff": 15
           },
           "zerolinecolor": "white",
           "zerolinewidth": 2
          }
         }
        },
        "title": {
         "text": "Real-World Distance Analysis"
        },
        "xaxis": {
         "anchor": "y",
         "domain": [
          0,
          0.45
         ],
         "title": {
          "text": "Frame Index"
         }
        },
        "xaxis2": {
         "anchor": "y2",
         "domain": [
          0.55,
          1
         ],
         "title": {
          "text": "Time"
         }
        },
        "xaxis3": {
         "anchor": "y3",
         "domain": [
          0,
          0.45
         ],
         "title": {
          "text": "Distance (meters)"
         }
        },
        "xaxis4": {
         "anchor": "y4",
         "domain": [
          0.55,
          1
         ],
         "title": {
          "text": "Frame Index"
         }
        },
        "yaxis": {
         "anchor": "x",
         "domain": [
          0.625,
          1
         ],
         "title": {
          "text": "Distance (meters)"
         }
        },
        "yaxis2": {
         "anchor": "x2",
         "domain": [
          0.625,
          1
         ],
         "title": {
          "text": "Distance (meters)"
         }
        },
        "yaxis3": {
         "anchor": "x3",
         "domain": [
          0,
          0.375
         ],
         "title": {
          "text": "Frequency"
         }
        },
        "yaxis4": {
         "anchor": "x4",
         "domain": [
          0,
          0.375
         ],
         "title": {
          "text": "Distance (meters)"
         }
        }
       }
      }
     },
     "metadata": {},
     "output_type": "display_data"
    },
    {
     "data": {
      "application/vnd.plotly.v1+json": {
       "config": {
        "plotlyServerURL": "https://plot.ly"
       },
       "data": [
        {
         "line": {
          "color": "blue"
         },
         "mode": "lines+markers",
         "name": "Distance",
         "type": "scatter",
         "x": {
          "bdata": "AQACAAMABAAFAAYABwAIAAkACgALAAwADQAOAA8AEAARABIAEwAUABUAFgAXABgAGQAaABsAHAAdAB4AHwAgACEAIgAjACQAJQAmACcAKAApACoAKwAsAC0AVwBYAFkAWgBbAFwAXQBeAF8AYABhAGIAYwBkAGUAZgBnAGgAaQBqAGsAbABtAG4AbwBwAHEAcgBzAHQAdQB2AHcAeAB5AHoAewB8AH0AfgB/AIAAgQCCAIMAhACFAIYAhwCIAIkAigCLAIwAjQCOAI8AkACRAJIAkwCUAJUAlgCXAJgAmQCaAJsAnACdAJ4AnwCgAKEAogCjAKQApQCmAKcAqACpAKoAqwCsAK0ArgCvALAAsQCyALMAtAC1ALYAtwC4ALkAugC7ALwAvQC+AL8AwADBAMIAwwDEAMUAxgDHAMgAyQDKAMsAzADNAM4AzwDQANEA0gDTANQA1QDWANcA2ADZANoA2wDcAN0A3gDfAOAA4QDiAOMA5ADlAOYA5wDoAOkA6gDrAOwA7QDuAO8A8ADxAPIA8wD0APUA9gD3APgA+QD6APsA/AD9AP4A/wAAAQEBAgEDAQQBBQEGAQcBCAEJAQoBCwEMAQ0BDgEPARABEQESARMBFAEVARYBFwEYARkBGgEbARwBHQEeAR8BIAEhASIBIwEkASUBJgEnASgBKQEqASsBLAEtAS4BLwEwATEBMgEzATQBNQE2ATcBOAE5AToBOwE8AT0BPgE/AUABQQFCAUMBRAFFAUYBRwFIAUkBSgFLAUwBTQFOAU8BUAFRAVIBUwFUAVUBVgFXAVgBWQFaAVsBXAFdAV4BXwFgAWEBYgFjAWQBZQFmAWcBaAFpAWoBawFsAW0BbgFvAXABcQFyAXMBdAF1AXYBdwF4AXkBegF7AXwBfQF+AX8BgAGBAYIBgwGEAYUBhgGHAYgBiQGKAYsBjAGNAY4BjwGQAZEBkgGTAZQBlQGWAZcBmAGZAZoBmwGcAZ0BngGfAaABoQGiAaMBpAGlAaYBpwGoAakBqgGrAawBrQGuAa8BsAGxAbIBswG0AbUBtgG3AbgBuQG6AbsBvAG9Ab4BvwHAAcEBwgHDAcQBxQHGAccByAHJAcoBywHMAc0BzgHPAdAB0QHSAdMB1AHVAdYB1wHYAdkB2gHbAdwB3QHeAd8B4AHqAfYB9wH4AfkB/QH+Af8BAQICAgMCBAIFAgYCBwIIAgkCCgILAgwCDQIOAg8CEAIRAhICEwIUAhUCFgIXAhgCGQIaAhsCHAIdAh4CHwIgAiECIgIjAiQCJQImAicCKAIqAisCLAItAi4CLwIwAjECMgIzAjQCNQI2AjcCOAI5AjoCOwI8Aj0CPgI/AkACQQJCAkMCRAJFAkYCRwJIApkCpAKmAqoCqwKsAq0CrgKvArACOQM7AzwDQANBA0IDQwM=",
          "dtype": "i2"
         },
         "xaxis": "x",
         "y": {
          "bdata": "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",
          "dtype": "f8"
         },
         "yaxis": "y"
        },
        {
         "line": {
          "color": "green"
         },
         "mode": "lines+markers",
         "name": "Distance over Time",
         "type": "scatter",
         "x": [
          "2024-08-20T12:31:31.621807575",
          "2024-08-20T12:31:31.681648731",
          "2024-08-20T12:31:31.742511034",
          "2024-08-20T12:31:31.818883181",
          "2024-08-20T12:31:31.874155045",
          "2024-08-20T12:31:31.937494755",
          "2024-08-20T12:31:31.999329090",
          "2024-08-20T12:31:32.063158035",
          "2024-08-20T12:31:32.130053520",
          "2024-08-20T12:31:32.191398144",
          "2024-08-20T12:31:32.254230738",
          "2024-08-20T12:31:32.318058729",
          "2024-08-20T12:31:32.395849943",
          "2024-08-20T12:31:32.445717096",
          "2024-08-20T12:31:32.511543512",
          "2024-08-20T12:31:32.576503515",
          "2024-08-20T12:31:32.637341022",
          "2024-08-20T12:31:32.702203035",
          "2024-08-20T12:31:32.768987656",
          "2024-08-20T12:31:32.829861403",
          "2024-08-20T12:31:32.894687653",
          "2024-08-20T12:31:32.962601185",
          "2024-08-20T12:31:33.025435448",
          "2024-08-20T12:31:33.088264227",
          "2024-08-20T12:31:33.151147127",
          "2024-08-20T12:31:33.218916655",
          "2024-08-20T12:31:33.280750036",
          "2024-08-20T12:31:33.342585087",
          "2024-08-20T12:31:33.407411814",
          "2024-08-20T12:31:33.484754801",
          "2024-08-20T12:31:33.533624887",
          "2024-08-20T12:31:33.610753059",
          "2024-08-20T12:31:33.671589851",
          "2024-08-20T12:31:33.730820179",
          "2024-08-20T12:31:33.790660143",
          "2024-08-20T12:31:33.854523897",
          "2024-08-20T12:31:33.919317245",
          "2024-08-20T12:31:33.984568357",
          "2024-08-20T12:31:34.048381805",
          "2024-08-20T12:31:34.117199183",
          "2024-08-20T12:31:34.183008671",
          "2024-08-20T12:31:34.237861395",
          "2024-08-20T12:31:34.303685427",
          "2024-08-20T12:31:34.367515802",
          "2024-08-20T12:31:34.431509018",
          "2024-08-20T12:31:37.120796442",
          "2024-08-20T12:31:37.190546751",
          "2024-08-20T12:31:37.245904446",
          "2024-08-20T12:31:37.310695887",
          "2024-08-20T12:31:37.375525713",
          "2024-08-20T12:31:37.443047285",
          "2024-08-20T12:31:37.501889229",
          "2024-08-20T12:31:37.570401907",
          "2024-08-20T12:31:37.634161472",
          "2024-08-20T12:31:37.698097229",
          "2024-08-20T12:31:37.760633230",
          "2024-08-20T12:31:37.822077274",
          "2024-08-20T12:31:37.890928745",
          "2024-08-20T12:31:37.950802088",
          "2024-08-20T12:31:38.016170025",
          "2024-08-20T12:31:38.079568386",
          "2024-08-20T12:31:38.144387484",
          "2024-08-20T12:31:38.206281900",
          "2024-08-20T12:31:38.272046804",
          "2024-08-20T12:31:38.335875273",
          "2024-08-20T12:31:38.399709225",
          "2024-08-20T12:31:38.464562416",
          "2024-08-20T12:31:38.526404619",
          "2024-08-20T12:31:38.595264912",
          "2024-08-20T12:31:38.654108047",
          "2024-08-20T12:31:38.719931841",
          "2024-08-20T12:31:38.783764362",
          "2024-08-20T12:31:38.857566357",
          "2024-08-20T12:31:38.911419630",
          "2024-08-20T12:31:38.976246357",
          "2024-08-20T12:31:39.042104006",
          "2024-08-20T12:31:39.101980925",
          "2024-08-20T12:31:39.166769743",
          "2024-08-20T12:31:39.232593060",
          "2024-08-20T12:31:39.297420025",
          "2024-08-20T12:31:39.361249447",
          "2024-08-20T12:31:39.423182011",
          "2024-08-20T12:31:39.490002155",
          "2024-08-20T12:31:39.549880981",
          "2024-08-20T12:31:39.614220381",
          "2024-08-20T12:31:39.680010796",
          "2024-08-20T12:31:39.748333454",
          "2024-08-20T12:31:39.812162876",
          "2024-08-20T12:31:39.877536774",
          "2024-08-20T12:31:40.073243380",
          "2024-08-20T12:31:40.086207151",
          "2024-08-20T12:31:40.148041010",
          "2024-08-20T12:31:40.191923618",
          "2024-08-20T12:31:40.237802505",
          "2024-08-20T12:31:40.300632715",
          "2024-08-20T12:31:40.345512867",
          "2024-08-20T12:31:40.391391993",
          "2024-08-20T12:31:40.451229811",
          "2024-08-20T12:31:40.517088412",
          "2024-08-20T12:31:40.581882000",
          "2024-08-20T12:31:40.639754295",
          "2024-08-20T12:31:40.703556538",
          "2024-08-20T12:31:40.769875050",
          "2024-08-20T12:31:40.833705902",
          "2024-08-20T12:31:40.910538912",
          "2024-08-20T12:31:40.974536657",
          "2024-08-20T12:31:41.029807091",
          "2024-08-20T12:31:41.085696697",
          "2024-08-20T12:31:41.153585434",
          "2024-08-20T12:31:41.224370241",
          "2024-08-20T12:31:41.289196968",
          "2024-08-20T12:31:41.349036694",
          "2024-08-20T12:31:41.405884266",
          "2024-08-20T12:31:41.472689152",
          "2024-08-20T12:31:41.540507078",
          "2024-08-20T12:31:41.601395369",
          "2024-08-20T12:31:41.668616772",
          "2024-08-20T12:31:41.727491379",
          "2024-08-20T12:31:41.791326761",
          "2024-08-20T12:31:41.859107018",
          "2024-08-20T12:31:41.926977396",
          "2024-08-20T12:31:41.982784510",
          "2024-08-20T12:31:42.058573484",
          "2024-08-20T12:31:42.111595631",
          "2024-08-20T12:31:42.179451942",
          "2024-08-20T12:31:42.239253283",
          "2024-08-20T12:31:42.305081129",
          "2024-08-20T12:31:42.369940758",
          "2024-08-20T12:31:42.492574692",
          "2024-08-20T12:31:42.547464371",
          "2024-08-20T12:31:42.607268095",
          "2024-08-20T12:31:42.656136990",
          "2024-08-20T12:31:42.714980364",
          "2024-08-20T12:31:42.763849974",
          "2024-08-20T12:31:42.821695328",
          "2024-08-20T12:31:42.879108429",
          "2024-08-20T12:31:42.943912029",
          "2024-08-20T12:31:43.009702921",
          "2024-08-20T12:31:43.071511984",
          "2024-08-20T12:31:43.133901834",
          "2024-08-20T12:31:43.203717709",
          "2024-08-20T12:31:43.261597157",
          "2024-08-20T12:31:43.326387167",
          "2024-08-20T12:31:43.394617081",
          "2024-08-20T12:31:43.464424372",
          "2024-08-20T12:31:43.518105029",
          "2024-08-20T12:31:43.583888292",
          "2024-08-20T12:31:43.646115065",
          "2024-08-20T12:31:43.712907553",
          "2024-08-20T12:31:43.773782730",
          "2024-08-20T12:31:43.840597391",
          "2024-08-20T12:31:43.906425953",
          "2024-08-20T12:31:43.967237234",
          "2024-08-20T12:31:44.030067205",
          "2024-08-20T12:31:44.103466988",
          "2024-08-20T12:31:44.162308455",
          "2024-08-20T12:31:44.223145008",
          "2024-08-20T12:31:44.291014671",
          "2024-08-20T12:31:44.349857092",
          "2024-08-20T12:31:44.415681124",
          "2024-08-20T12:31:44.479695797",
          "2024-08-20T12:31:44.542475224",
          "2024-08-20T12:31:44.613296270",
          "2024-08-20T12:31:44.672163725",
          "2024-08-20T12:31:44.734963417",
          "2024-08-20T12:31:44.800783157",
          "2024-08-20T12:31:44.875235319",
          "2024-08-20T12:31:44.934039116",
          "2024-08-20T12:31:44.991886139",
          "2024-08-20T12:31:45.054715633",
          "2024-08-20T12:31:45.123562574",
          "2024-08-20T12:31:45.184406042",
          "2024-08-20T12:31:45.253189325",
          "2024-08-20T12:31:45.314022064",
          "2024-08-20T12:31:45.391814232",
          "2024-08-20T12:31:45.503517866",
          "2024-08-20T12:31:45.563381672",
          "2024-08-20T12:31:45.625192165",
          "2024-08-20T12:31:45.689467907",
          "2024-08-20T12:31:45.743281364",
          "2024-08-20T12:31:45.799130917",
          "2024-08-20T12:31:45.849994183",
          "2024-08-20T12:31:45.911336899",
          "2024-08-20T12:31:45.973172188",
          "2024-08-20T12:31:46.031045198",
          "2024-08-20T12:31:46.077892065",
          "2024-08-20T12:31:46.141758204",
          "2024-08-20T12:31:46.209540129",
          "2024-08-20T12:31:46.271375179",
          "2024-08-20T12:31:46.336202383",
          "2024-08-20T12:31:46.402061224",
          "2024-08-20T12:31:46.463126421",
          "2024-08-20T12:31:46.525985479",
          "2024-08-20T12:31:46.593837023",
          "2024-08-20T12:31:46.663606167",
          "2024-08-20T12:31:46.721510649",
          "2024-08-20T12:31:46.782323599",
          "2024-08-20T12:31:46.850108624",
          "2024-08-20T12:31:46.921957970",
          "2024-08-20T12:31:46.977843285",
          "2024-08-20T12:31:47.038705826",
          "2024-08-20T12:31:47.102475882",
          "2024-08-20T12:31:47.169295788",
          "2024-08-20T12:31:47.230172157",
          "2024-08-20T12:31:47.304938078",
          "2024-08-20T12:31:47.368804932",
          "2024-08-20T12:31:47.427606583",
          "2024-08-20T12:31:47.491471767",
          "2024-08-20T12:31:47.555302143",
          "2024-08-20T12:31:47.623177528",
          "2024-08-20T12:31:47.811676741",
          "2024-08-20T12:31:47.827633619",
          "2024-08-20T12:31:47.877500534",
          "2024-08-20T12:31:47.938337326",
          "2024-08-20T12:31:47.984474659",
          "2024-08-20T12:31:48.027358532",
          "2024-08-20T12:31:48.088195324",
          "2024-08-20T12:31:48.136068344",
          "2024-08-20T12:31:48.191809654",
          "2024-08-20T12:31:48.256190538",
          "2024-08-20T12:31:48.321072102",
          "2024-08-20T12:31:48.382852077",
          "2024-08-20T12:31:48.445721865",
          "2024-08-20T12:31:48.511081219",
          "2024-08-20T12:31:48.576905251",
          "2024-08-20T12:31:48.638738394",
          "2024-08-20T12:31:48.701770544",
          "2024-08-20T12:31:48.774565697",
          "2024-08-20T12:31:48.831388712",
          "2024-08-20T12:31:48.893730640",
          "2024-08-20T12:31:48.961057901",
          "2024-08-20T12:31:49.028914213",
          "2024-08-20T12:31:49.090711117",
          "2024-08-20T12:31:49.154539824",
          "2024-08-20T12:31:49.213383436",
          "2024-08-20T12:31:49.279206991",
          "2024-08-20T12:31:49.345029116",
          "2024-08-20T12:31:49.405867100",
          "2024-08-20T12:31:49.473721266",
          "2024-08-20T12:31:49.545494080",
          "2024-08-20T12:31:49.602399588",
          "2024-08-20T12:31:49.663179159",
          "2024-08-20T12:31:49.729102612",
          "2024-08-20T12:31:49.791011810",
          "2024-08-20T12:31:49.853843212",
          "2024-08-20T12:31:49.919657946",
          "2024-08-20T12:31:49.983487844",
          "2024-08-20T12:31:50.046319723",
          "2024-08-20T12:31:50.110692024",
          "2024-08-20T12:31:50.174520016",
          "2024-08-20T12:31:50.238417864",
          "2024-08-20T12:31:50.303511620",
          "2024-08-20T12:31:50.366343737",
          "2024-08-20T12:31:50.432175159",
          "2024-08-20T12:31:50.505977631",
          "2024-08-20T12:31:50.560830355",
          "2024-08-20T12:31:50.670942068",
          "2024-08-20T12:31:50.726747036",
          "2024-08-20T12:31:50.789601564",
          "2024-08-20T12:31:50.825510979",
          "2024-08-20T12:31:50.890295744",
          "2024-08-20T12:31:50.943155289",
          "2024-08-20T12:31:51.012972832",
          "2024-08-20T12:31:51.074837446",
          "2024-08-20T12:31:51.134642601",
          "2024-08-20T12:31:51.200467348",
          "2024-08-20T12:31:51.273272991",
          "2024-08-20T12:31:51.336102962",
          "2024-08-20T12:31:51.389957905",
          "2024-08-20T12:31:51.454820395",
          "2024-08-20T12:31:51.517674922",
          "2024-08-20T12:31:51.586463928",
          "2024-08-20T12:31:51.646686554",
          "2024-08-20T12:31:51.712054014",
          "2024-08-20T12:31:51.782867193",
          "2024-08-20T12:31:51.838715792",
          "2024-08-20T12:31:51.903051376",
          "2024-08-20T12:31:51.967877626",
          "2024-08-20T12:31:52.030061007",
          "2024-08-20T12:31:52.102158070",
          "2024-08-20T12:31:52.168978691",
          "2024-08-20T12:31:52.222800970",
          "2024-08-20T12:31:52.292626858",
          "2024-08-20T12:31:52.351458549",
          "2024-08-20T12:31:52.418277025",
          "2024-08-20T12:31:52.481150866",
          "2024-08-20T12:31:52.541553497",
          "2024-08-20T12:31:52.606345415",
          "2024-08-20T12:31:52.673228025",
          "2024-08-20T12:31:52.735998154",
          "2024-08-20T12:31:52.798882484",
          "2024-08-20T12:31:52.862711668",
          "2024-08-20T12:31:52.927570105",
          "2024-08-20T12:31:52.990370035",
          "2024-08-20T12:31:53.070696592",
          "2024-08-20T12:31:53.131572007",
          "2024-08-20T12:31:53.195363998",
          "2024-08-20T12:31:53.245267153",
          "2024-08-20T12:31:53.310670376",
          "2024-08-20T12:31:53.375495911",
          "2024-08-20T12:31:53.440849304",
          "2024-08-20T12:31:53.502685069",
          "2024-08-20T12:31:53.581473112",
          "2024-08-20T12:31:53.671237707",
          "2024-08-20T12:31:53.730012655",
          "2024-08-20T12:31:53.778313637",
          "2024-08-20T12:31:53.833030939",
          "2024-08-20T12:31:53.893876076",
          "2024-08-20T12:31:53.949759483",
          "2024-08-20T12:31:54.014583826",
          "2024-08-20T12:31:54.080477238",
          "2024-08-20T12:31:54.146250486",
          "2024-08-20T12:31:54.208119631",
          "2024-08-20T12:31:54.272945881",
          "2024-08-20T12:31:54.337438822",
          "2024-08-20T12:31:54.401267767",
          "2024-08-20T12:31:54.464104652",
          "2024-08-20T12:31:54.525992393",
          "2024-08-20T12:31:54.604726553",
          "2024-08-20T12:31:54.660574675",
          "2024-08-20T12:31:54.717456818",
          "2024-08-20T12:31:54.788233280",
          "2024-08-20T12:31:54.846078873",
          "2024-08-20T12:31:54.909790993",
          "2024-08-20T12:31:54.976554394",
          "2024-08-20T12:31:55.039385557",
          "2024-08-20T12:31:55.105245590",
          "2024-08-20T12:31:55.171085119",
          "2024-08-20T12:31:55.230873108",
          "2024-08-20T12:31:55.299697399",
          "2024-08-20T12:31:55.362556934",
          "2024-08-20T12:31:55.429852486",
          "2024-08-20T12:31:55.490688562",
          "2024-08-20T12:31:55.549531460",
          "2024-08-20T12:31:55.615355253",
          "2024-08-20T12:31:55.682177305",
          "2024-08-20T12:31:55.744011879",
          "2024-08-20T12:31:55.807841063",
          "2024-08-20T12:31:55.870673656",
          "2024-08-20T12:31:55.949462414",
          "2024-08-20T12:31:56.003352642",
          "2024-08-20T12:31:56.067021132",
          "2024-08-20T12:31:56.125862597",
          "2024-08-20T12:31:56.193681240",
          "2024-08-20T12:31:56.253522635",
          "2024-08-20T12:31:56.318383694",
          "2024-08-20T12:31:56.386166811",
          "2024-08-20T12:31:56.448000908",
          "2024-08-20T12:31:56.512829065",
          "2024-08-20T12:31:56.583638668",
          "2024-08-20T12:31:56.640494585",
          "2024-08-20T12:31:56.703325510",
          "2024-08-20T12:31:56.767193556",
          "2024-08-20T12:31:56.835482836",
          "2024-08-20T12:31:56.902304649",
          "2024-08-20T12:31:56.962438345",
          "2024-08-20T12:31:57.025873184",
          "2024-08-20T12:31:57.087665081",
          "2024-08-20T12:31:57.154531956",
          "2024-08-20T12:31:57.214373350",
          "2024-08-20T12:31:57.293160200",
          "2024-08-20T12:31:57.345025063",
          "2024-08-20T12:31:57.412839890",
          "2024-08-20T12:31:57.473701954",
          "2024-08-20T12:31:57.534539223",
          "2024-08-20T12:31:57.604353428",
          "2024-08-20T12:31:57.663195133",
          "2024-08-20T12:31:57.726027727",
          "2024-08-20T12:31:57.791850805",
          "2024-08-20T12:31:57.855682135",
          "2024-08-20T12:31:57.919509649",
          "2024-08-20T12:31:57.984847546",
          "2024-08-20T12:31:58.048672438",
          "2024-08-20T12:31:58.114497423",
          "2024-08-20T12:31:58.232179642",
          "2024-08-20T12:31:58.303023338",
          "2024-08-20T12:31:58.362874031",
          "2024-08-20T12:31:58.422821522",
          "2024-08-20T12:31:58.476673603",
          "2024-08-20T12:31:58.501605749",
          "2024-08-20T12:31:58.569931507",
          "2024-08-20T12:31:58.628283978",
          "2024-08-20T12:31:58.687161207",
          "2024-08-20T12:31:58.754455805",
          "2024-08-20T12:31:58.874644995",
          "2024-08-20T12:31:58.942510366",
          "2024-08-20T12:31:59.005335093",
          "2024-08-20T12:31:59.067801952",
          "2024-08-20T12:31:59.130631208",
          "2024-08-20T12:31:59.181493998",
          "2024-08-20T12:31:59.239844561",
          "2024-08-20T12:31:59.299728394",
          "2024-08-20T12:31:59.346602917",
          "2024-08-20T12:31:59.392479658",
          "2024-08-20T12:31:59.455312490",
          "2024-08-20T12:31:59.519181966",
          "2024-08-20T12:31:59.584981441",
          "2024-08-20T12:31:59.647796392",
          "2024-08-20T12:31:59.710932016",
          "2024-08-20T12:31:59.783735514",
          "2024-08-20T12:31:59.839586020",
          "2024-08-20T12:31:59.903450012",
          "2024-08-20T12:31:59.966248512",
          "2024-08-20T12:32:00.031110048",
          "2024-08-20T12:32:00.101887941",
          "2024-08-20T12:32:00.159729958",
          "2024-08-20T12:32:00.222562075",
          "2024-08-20T12:32:00.287391663",
          "2024-08-20T12:32:00.352120399",
          "2024-08-20T12:32:00.413935184",
          "2024-08-20T12:32:00.478729010",
          "2024-08-20T12:32:00.542225122",
          "2024-08-20T12:32:00.610045195",
          "2024-08-20T12:32:00.671614647",
          "2024-08-20T12:32:00.735095501",
          "2024-08-20T12:32:00.799942493",
          "2024-08-20T12:32:00.863315344",
          "2024-08-20T12:32:00.928106546",
          "2024-08-20T12:32:01.008890390",
          "2024-08-20T12:32:01.070760727",
          "2024-08-20T12:32:01.117598772",
          "2024-08-20T12:32:01.181464672",
          "2024-08-20T12:32:01.245420218",
          "2024-08-20T12:32:01.314198017",
          "2024-08-20T12:32:01.377030849",
          "2024-08-20T12:32:01.439896584",
          "2024-08-20T12:32:01.512666941",
          "2024-08-20T12:32:01.589461088",
          "2024-08-20T12:32:01.634341002",
          "2024-08-20T12:32:01.695178032",
          "2024-08-20T12:32:01.761003256",
          "2024-08-20T12:32:01.821839809",
          "2024-08-20T12:32:01.885703325",
          "2024-08-20T12:32:01.950496435",
          "2024-08-20T12:32:02.016355275",
          "2024-08-20T12:32:02.079560041",
          "2024-08-20T12:32:02.147934437",
          "2024-08-20T12:32:02.205846548",
          "2024-08-20T12:32:02.270641804",
          "2024-08-20T12:32:02.914112091",
          "2024-08-20T12:32:03.692140341",
          "2024-08-20T12:32:03.742039919",
          "2024-08-20T12:32:03.805836201",
          "2024-08-20T12:32:03.872937918",
          "2024-08-20T12:32:04.215462923",
          "2024-08-20T12:32:04.261340141",
          "2024-08-20T12:32:04.305223465",
          "2024-08-20T12:32:04.410940409",
          "2024-08-20T12:32:04.457854271",
          "2024-08-20T12:32:04.517654896",
          "2024-08-20T12:32:04.580527544",
          "2024-08-20T12:32:04.637335539",
          "2024-08-20T12:32:04.706151247",
          "2024-08-20T12:32:04.765990496",
          "2024-08-20T12:32:04.830850601",
          "2024-08-20T12:32:04.894646168",
          "2024-08-20T12:32:04.958475590",
          "2024-08-20T12:32:05.028358459",
          "2024-08-20T12:32:05.090869427",
          "2024-08-20T12:32:05.155694008",
          "2024-08-20T12:32:05.220520258",
          "2024-08-20T12:32:05.280360222",
          "2024-08-20T12:32:05.344203472",
          "2024-08-20T12:32:05.416617870",
          "2024-08-20T12:32:05.473434925",
          "2024-08-20T12:32:05.533270836",
          "2024-08-20T12:32:05.599692583",
          "2024-08-20T12:32:05.668574572",
          "2024-08-20T12:32:05.727350950",
          "2024-08-20T12:32:05.791183472",
          "2024-08-20T12:32:05.854014158",
          "2024-08-20T12:32:05.924823761",
          "2024-08-20T12:32:05.983665466",
          "2024-08-20T12:32:06.046497345",
          "2024-08-20T12:32:06.113318920",
          "2024-08-20T12:32:06.185126543",
          "2024-08-20T12:32:06.244966507",
          "2024-08-20T12:32:06.305804491",
          "2024-08-20T12:32:06.427478552",
          "2024-08-20T12:32:06.476348162",
          "2024-08-20T12:32:06.519232987",
          "2024-08-20T12:32:06.580214500",
          "2024-08-20T12:32:06.640358686",
          "2024-08-20T12:32:06.689215422",
          "2024-08-20T12:32:06.750109673",
          "2024-08-20T12:32:06.817869663",
          "2024-08-20T12:32:06.883101940",
          "2024-08-20T12:32:07.051910162",
          "2024-08-20T12:32:07.107870817",
          "2024-08-20T12:32:07.159778595",
          "2024-08-20T12:32:07.225763559",
          "2024-08-20T12:32:07.280441046",
          "2024-08-20T12:32:07.327314854",
          "2024-08-20T12:32:07.392040730",
          "2024-08-20T12:32:07.453844547",
          "2024-08-20T12:32:07.519663572",
          "2024-08-20T12:32:07.585496664",
          "2024-08-20T12:32:07.646383524",
          "2024-08-20T12:32:07.712150097",
          "2024-08-20T12:32:07.776016474",
          "2024-08-20T12:32:07.839809179",
          "2024-08-20T12:32:07.902639627",
          "2024-08-20T12:32:07.965471029",
          "2024-08-20T12:32:08.032032250",
          "2024-08-20T12:32:08.093867064",
          "2024-08-20T12:32:08.167701006",
          "2024-08-20T12:32:08.227540970",
          "2024-08-20T12:32:08.295396090",
          "2024-08-20T12:32:08.349215508",
          "2024-08-20T12:32:08.416072607",
          "2024-08-20T12:32:08.480871439",
          "2024-08-20T12:32:08.542946577",
          "2024-08-20T12:32:08.606839895",
          "2024-08-20T12:32:08.670669317",
          "2024-08-20T12:32:08.748494625",
          "2024-08-20T12:32:08.810294867",
          "2024-08-20T12:32:08.870174646",
          "2024-08-20T12:32:08.929901600",
          "2024-08-20T12:32:14.110471010",
          "2024-08-20T12:32:14.813715219",
          "2024-08-20T12:32:14.945337057",
          "2024-08-20T12:32:15.243623495",
          "2024-08-20T12:32:15.292493105",
          "2024-08-20T12:32:15.336418152",
          "2024-08-20T12:32:15.403240204",
          "2024-08-20T12:32:15.460046530",
          "2024-08-20T12:32:15.519924878",
          "2024-08-20T12:32:15.582721472",
          "2024-08-20T12:32:24.357778549",
          "2024-08-20T12:32:24.479396105",
          "2024-08-20T12:32:24.543224573",
          "2024-08-20T12:32:24.801352024",
          "2024-08-20T12:32:24.864221811",
          "2024-08-20T12:32:24.932000160",
          "2024-08-20T12:32:24.992837667"
         ],
         "xaxis": "x2",
         "y": {
          "bdata": "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",
          "dtype": "f8"
         },
         "yaxis": "y2"
        },
        {
         "marker": {
          "color": "lightcoral"
         },
         "name": "Distribution",
         "nbinsx": 30,
         "opacity": 0.7,
         "type": "histogram",
         "x": {
          "bdata": "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",
          "dtype": "f8"
         },
         "xaxis": "x3",
         "yaxis": "y3"
        },
        {
         "line": {
          "color": "lightcoral",
          "width": 1
         },
         "mode": "lines",
         "name": "Raw",
         "opacity": 0.5,
         "type": "scatter",
         "x": {
          "bdata": "AQACAAMABAAFAAYABwAIAAkACgALAAwADQAOAA8AEAARABIAEwAUABUAFgAXABgAGQAaABsAHAAdAB4AHwAgACEAIgAjACQAJQAmACcAKAApACoAKwAsAC0AVwBYAFkAWgBbAFwAXQBeAF8AYABhAGIAYwBkAGUAZgBnAGgAaQBqAGsAbABtAG4AbwBwAHEAcgBzAHQAdQB2AHcAeAB5AHoAewB8AH0AfgB/AIAAgQCCAIMAhACFAIYAhwCIAIkAigCLAIwAjQCOAI8AkACRAJIAkwCUAJUAlgCXAJgAmQCaAJsAnACdAJ4AnwCgAKEAogCjAKQApQCmAKcAqACpAKoAqwCsAK0ArgCvALAAsQCyALMAtAC1ALYAtwC4ALkAugC7ALwAvQC+AL8AwADBAMIAwwDEAMUAxgDHAMgAyQDKAMsAzADNAM4AzwDQANEA0gDTANQA1QDWANcA2ADZANoA2wDcAN0A3gDfAOAA4QDiAOMA5ADlAOYA5wDoAOkA6gDrAOwA7QDuAO8A8ADxAPIA8wD0APUA9gD3APgA+QD6APsA/AD9AP4A/wAAAQEBAgEDAQQBBQEGAQcBCAEJAQoBCwEMAQ0BDgEPARABEQESARMBFAEVARYBFwEYARkBGgEbARwBHQEeAR8BIAEhASIBIwEkASUBJgEnASgBKQEqASsBLAEtAS4BLwEwATEBMgEzATQBNQE2ATcBOAE5AToBOwE8AT0BPgE/AUABQQFCAUMBRAFFAUYBRwFIAUkBSgFLAUwBTQFOAU8BUAFRAVIBUwFUAVUBVgFXAVgBWQFaAVsBXAFdAV4BXwFgAWEBYgFjAWQBZQFmAWcBaAFpAWoBawFsAW0BbgFvAXABcQFyAXMBdAF1AXYBdwF4AXkBegF7AXwBfQF+AX8BgAGBAYIBgwGEAYUBhgGHAYgBiQGKAYsBjAGNAY4BjwGQAZEBkgGTAZQBlQGWAZcBmAGZAZoBmwGcAZ0BngGfAaABoQGiAaMBpAGlAaYBpwGoAakBqgGrAawBrQGuAa8BsAGxAbIBswG0AbUBtgG3AbgBuQG6AbsBvAG9Ab4BvwHAAcEBwgHDAcQBxQHGAccByAHJAcoBywHMAc0BzgHPAdAB0QHSAdMB1AHVAdYB1wHYAdkB2gHbAdwB3QHeAd8B4AHqAfYB9wH4AfkB/QH+Af8BAQICAgMCBAIFAgYCBwIIAgkCCgILAgwCDQIOAg8CEAIRAhICEwIUAhUCFgIXAhgCGQIaAhsCHAIdAh4CHwIgAiECIgIjAiQCJQImAicCKAIqAisCLAItAi4CLwIwAjECMgIzAjQCNQI2AjcCOAI5AjoCOwI8Aj0CPgI/AkACQQJCAkMCRAJFAkYCRwJIApkCpAKmAqoCqwKsAq0CrgKvArACOQM7AzwDQANBA0IDQwM=",
          "dtype": "i2"
         },
         "xaxis": "x4",
         "y": {
          "bdata": "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",
          "dtype": "f8"
         },
         "yaxis": "y4"
        },
        {
         "line": {
          "color": "darkred",
          "width": 3
         },
         "mode": "lines",
         "name": "Smoothed (n=26)",
         "type": "scatter",
         "x": {
          "bdata": "AQACAAMABAAFAAYABwAIAAkACgALAAwADQAOAA8AEAARABIAEwAUABUAFgAXABgAGQAaABsAHAAdAB4AHwAgACEAIgAjACQAJQAmACcAKAApACoAKwAsAC0AVwBYAFkAWgBbAFwAXQBeAF8AYABhAGIAYwBkAGUAZgBnAGgAaQBqAGsAbABtAG4AbwBwAHEAcgBzAHQAdQB2AHcAeAB5AHoAewB8AH0AfgB/AIAAgQCCAIMAhACFAIYAhwCIAIkAigCLAIwAjQCOAI8AkACRAJIAkwCUAJUAlgCXAJgAmQCaAJsAnACdAJ4AnwCgAKEAogCjAKQApQCmAKcAqACpAKoAqwCsAK0ArgCvALAAsQCyALMAtAC1ALYAtwC4ALkAugC7ALwAvQC+AL8AwADBAMIAwwDEAMUAxgDHAMgAyQDKAMsAzADNAM4AzwDQANEA0gDTANQA1QDWANcA2ADZANoA2wDcAN0A3gDfAOAA4QDiAOMA5ADlAOYA5wDoAOkA6gDrAOwA7QDuAO8A8ADxAPIA8wD0APUA9gD3APgA+QD6APsA/AD9AP4A/wAAAQEBAgEDAQQBBQEGAQcBCAEJAQoBCwEMAQ0BDgEPARABEQESARMBFAEVARYBFwEYARkBGgEbARwBHQEeAR8BIAEhASIBIwEkASUBJgEnASgBKQEqASsBLAEtAS4BLwEwATEBMgEzATQBNQE2ATcBOAE5AToBOwE8AT0BPgE/AUABQQFCAUMBRAFFAUYBRwFIAUkBSgFLAUwBTQFOAU8BUAFRAVIBUwFUAVUBVgFXAVgBWQFaAVsBXAFdAV4BXwFgAWEBYgFjAWQBZQFmAWcBaAFpAWoBawFsAW0BbgFvAXABcQFyAXMBdAF1AXYBdwF4AXkBegF7AXwBfQF+AX8BgAGBAYIBgwGEAYUBhgGHAYgBiQGKAYsBjAGNAY4BjwGQAZEBkgGTAZQBlQGWAZcBmAGZAZoBmwGcAZ0BngGfAaABoQGiAaMBpAGlAaYBpwGoAakBqgGrAawBrQGuAa8BsAGxAbIBswG0AbUBtgG3AbgBuQG6AbsBvAG9Ab4BvwHAAcEBwgHDAcQBxQHGAccByAHJAcoBywHMAc0BzgHPAdAB0QHSAdMB1AHVAdYB1wHYAdkB2gHbAdwB3QHeAd8B4AHqAfYB9wH4AfkB/QH+Af8BAQICAgMCBAIFAgYCBwIIAgkCCgILAgwCDQIOAg8CEAIRAhICEwIUAhUCFgIXAhgCGQIaAhsCHAIdAh4CHwIgAiECIgIjAiQCJQImAicCKAIqAisCLAItAi4CLwIwAjECMgIzAjQCNQI2AjcCOAI5AjoCOwI8Aj0CPgI/AkACQQJCAkMCRAJFAkYCRwJIApkCpAKmAqoCqwKsAq0CrgKvArACOQM7AzwDQANBA0IDQwM=",
          "dtype": "i2"
         },
         "xaxis": "x4",
         "y": {
          "bdata": "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",
          "dtype": "f8"
         },
         "yaxis": "y4"
        }
       ],
       "layout": {
        "annotations": [
         {
          "font": {
           "size": 16
          },
          "showarrow": false,
          "text": "Distance vs Frame Index",
          "x": 0.225,
          "xanchor": "center",
          "xref": "paper",
          "y": 1,
          "yanchor": "bottom",
          "yref": "paper"
         },
         {
          "font": {
           "size": 16
          },
          "showarrow": false,
          "text": "Distance vs Time",
          "x": 0.775,
          "xanchor": "center",
          "xref": "paper",
          "y": 1,
          "yanchor": "bottom",
          "yref": "paper"
         },
         {
          "font": {
           "size": 16
          },
          "showarrow": false,
          "text": "Distance Distribution",
          "x": 0.225,
          "xanchor": "center",
          "xref": "paper",
          "y": 0.375,
          "yanchor": "bottom",
          "yref": "paper"
         },
         {
          "font": {
           "size": 16
          },
          "showarrow": false,
          "text": "Distance Trends",
          "x": 0.775,
          "xanchor": "center",
          "xref": "paper",
          "y": 0.375,
          "yanchor": "bottom",
          "yref": "paper"
         },
         {
          "showarrow": false,
          "text": "Mean: 1.92meters",
          "x": 1.9151448445405481,
          "xanchor": "left",
          "xref": "x3",
          "y": 1,
          "yanchor": "top",
          "yref": "y3 domain"
         }
        ],
        "height": 800,
        "shapes": [
         {
          "line": {
           "color": "red",
           "dash": "dash"
          },
          "type": "line",
          "x0": 1.9151448445405481,
          "x1": 1.9151448445405481,
          "xref": "x3",
          "y0": 0,
          "y1": 1,
          "yref": "y3 domain"
         }
        ],
        "showlegend": true,
        "template": {
         "data": {
          "bar": [
           {
            "error_x": {
             "color": "#2a3f5f"
            },
            "error_y": {
             "color": "#2a3f5f"
            },
            "marker": {
             "line": {
              "color": "#E5ECF6",
              "width": 0.5
             },
             "pattern": {
              "fillmode": "overlay",
              "size": 10,
              "solidity": 0.2
             }
            },
            "type": "bar"
           }
          ],
          "barpolar": [
           {
            "marker": {
             "line": {
              "color": "#E5ECF6",
              "width": 0.5
             },
             "pattern": {
              "fillmode": "overlay",
              "size": 10,
              "solidity": 0.2
             }
            },
            "type": "barpolar"
           }
          ],
          "carpet": [
           {
            "aaxis": {
             "endlinecolor": "#2a3f5f",
             "gridcolor": "white",
             "linecolor": "white",
             "minorgridcolor": "white",
             "startlinecolor": "#2a3f5f"
            },
            "baxis": {
             "endlinecolor": "#2a3f5f",
             "gridcolor": "white",
             "linecolor": "white",
             "minorgridcolor": "white",
             "startlinecolor": "#2a3f5f"
            },
            "type": "carpet"
           }
          ],
          "choropleth": [
           {
            "colorbar": {
             "outlinewidth": 0,
             "ticks": ""
            },
            "type": "choropleth"
           }
          ],
          "contour": [
           {
            "colorbar": {
             "outlinewidth": 0,
             "ticks": ""
            },
            "colorscale": [
             [
              0,
              "#0d0887"
             ],
             [
              0.1111111111111111,
              "#46039f"
             ],
             [
              0.2222222222222222,
              "#7201a8"
             ],
             [
              0.3333333333333333,
              "#9c179e"
             ],
             [
              0.4444444444444444,
              "#bd3786"
             ],
             [
              0.5555555555555556,
              "#d8576b"
             ],
             [
              0.6666666666666666,
              "#ed7953"
             ],
             [
              0.7777777777777778,
              "#fb9f3a"
             ],
             [
              0.8888888888888888,
              "#fdca26"
             ],
             [
              1,
              "#f0f921"
             ]
            ],
            "type": "contour"
           }
          ],
          "contourcarpet": [
           {
            "colorbar": {
             "outlinewidth": 0,
             "ticks": ""
            },
            "type": "contourcarpet"
           }
          ],
          "heatmap": [
           {
            "colorbar": {
             "outlinewidth": 0,
             "ticks": ""
            },
            "colorscale": [
             [
              0,
              "#0d0887"
             ],
             [
              0.1111111111111111,
              "#46039f"
             ],
             [
              0.2222222222222222,
              "#7201a8"
             ],
             [
              0.3333333333333333,
              "#9c179e"
             ],
             [
              0.4444444444444444,
              "#bd3786"
             ],
             [
              0.5555555555555556,
              "#d8576b"
             ],
             [
              0.6666666666666666,
              "#ed7953"
             ],
             [
              0.7777777777777778,
              "#fb9f3a"
             ],
             [
              0.8888888888888888,
              "#fdca26"
             ],
             [
              1,
              "#f0f921"
             ]
            ],
            "type": "heatmap"
           }
          ],
          "histogram": [
           {
            "marker": {
             "pattern": {
              "fillmode": "overlay",
              "size": 10,
              "solidity": 0.2
             }
            },
            "type": "histogram"
           }
          ],
          "histogram2d": [
           {
            "colorbar": {
             "outlinewidth": 0,
             "ticks": ""
            },
            "colorscale": [
             [
              0,
              "#0d0887"
             ],
             [
              0.1111111111111111,
              "#46039f"
             ],
             [
              0.2222222222222222,
              "#7201a8"
             ],
             [
              0.3333333333333333,
              "#9c179e"
             ],
             [
              0.4444444444444444,
              "#bd3786"
             ],
             [
              0.5555555555555556,
              "#d8576b"
             ],
             [
              0.6666666666666666,
              "#ed7953"
             ],
             [
              0.7777777777777778,
              "#fb9f3a"
             ],
             [
              0.8888888888888888,
              "#fdca26"
             ],
             [
              1,
              "#f0f921"
             ]
            ],
            "type": "histogram2d"
           }
          ],
          "histogram2dcontour": [
           {
            "colorbar": {
             "outlinewidth": 0,
             "ticks": ""
            },
            "colorscale": [
             [
              0,
              "#0d0887"
             ],
             [
              0.1111111111111111,
              "#46039f"
             ],
             [
              0.2222222222222222,
              "#7201a8"
             ],
             [
              0.3333333333333333,
              "#9c179e"
             ],
             [
              0.4444444444444444,
              "#bd3786"
             ],
             [
              0.5555555555555556,
              "#d8576b"
             ],
             [
              0.6666666666666666,
              "#ed7953"
             ],
             [
              0.7777777777777778,
              "#fb9f3a"
             ],
             [
              0.8888888888888888,
              "#fdca26"
             ],
             [
              1,
              "#f0f921"
             ]
            ],
            "type": "histogram2dcontour"
           }
          ],
          "mesh3d": [
           {
            "colorbar": {
             "outlinewidth": 0,
             "ticks": ""
            },
            "type": "mesh3d"
           }
          ],
          "parcoords": [
           {
            "line": {
             "colorbar": {
              "outlinewidth": 0,
              "ticks": ""
             }
            },
            "type": "parcoords"
           }
          ],
          "pie": [
           {
            "automargin": true,
            "type": "pie"
           }
          ],
          "scatter": [
           {
            "fillpattern": {
             "fillmode": "overlay",
             "size": 10,
             "solidity": 0.2
            },
            "type": "scatter"
           }
          ],
          "scatter3d": [
           {
            "line": {
             "colorbar": {
              "outlinewidth": 0,
              "ticks": ""
             }
            },
            "marker": {
             "colorbar": {
              "outlinewidth": 0,
              "ticks": ""
             }
            },
            "type": "scatter3d"
           }
          ],
          "scattercarpet": [
           {
            "marker": {
             "colorbar": {
              "outlinewidth": 0,
              "ticks": ""
             }
            },
            "type": "scattercarpet"
           }
          ],
          "scattergeo": [
           {
            "marker": {
             "colorbar": {
              "outlinewidth": 0,
              "ticks": ""
             }
            },
            "type": "scattergeo"
           }
          ],
          "scattergl": [
           {
            "marker": {
             "colorbar": {
              "outlinewidth": 0,
              "ticks": ""
             }
            },
            "type": "scattergl"
           }
          ],
          "scattermap": [
           {
            "marker": {
             "colorbar": {
              "outlinewidth": 0,
              "ticks": ""
             }
            },
            "type": "scattermap"
           }
          ],
          "scattermapbox": [
           {
            "marker": {
             "colorbar": {
              "outlinewidth": 0,
              "ticks": ""
             }
            },
            "type": "scattermapbox"
           }
          ],
          "scatterpolar": [
           {
            "marker": {
             "colorbar": {
              "outlinewidth": 0,
              "ticks": ""
             }
            },
            "type": "scatterpolar"
           }
          ],
          "scatterpolargl": [
           {
            "marker": {
             "colorbar": {
              "outlinewidth": 0,
              "ticks": ""
             }
            },
            "type": "scatterpolargl"
           }
          ],
          "scatterternary": [
           {
            "marker": {
             "colorbar": {
              "outlinewidth": 0,
              "ticks": ""
             }
            },
            "type": "scatterternary"
           }
          ],
          "surface": [
           {
            "colorbar": {
             "outlinewidth": 0,
             "ticks": ""
            },
            "colorscale": [
             [
              0,
              "#0d0887"
             ],
             [
              0.1111111111111111,
              "#46039f"
             ],
             [
              0.2222222222222222,
              "#7201a8"
             ],
             [
              0.3333333333333333,
              "#9c179e"
             ],
             [
              0.4444444444444444,
              "#bd3786"
             ],
             [
              0.5555555555555556,
              "#d8576b"
             ],
             [
              0.6666666666666666,
              "#ed7953"
             ],
             [
              0.7777777777777778,
              "#fb9f3a"
             ],
             [
              0.8888888888888888,
              "#fdca26"
             ],
             [
              1,
              "#f0f921"
             ]
            ],
            "type": "surface"
           }
          ],
          "table": [
           {
            "cells": {
             "fill": {
              "color": "#EBF0F8"
             },
             "line": {
              "color": "white"
             }
            },
            "header": {
             "fill": {
              "color": "#C8D4E3"
             },
             "line": {
              "color": "white"
             }
            },
            "type": "table"
           }
          ]
         },
         "layout": {
          "annotationdefaults": {
           "arrowcolor": "#2a3f5f",
           "arrowhead": 0,
           "arrowwidth": 1
          },
          "autotypenumbers": "strict",
          "coloraxis": {
           "colorbar": {
            "outlinewidth": 0,
            "ticks": ""
           }
          },
          "colorscale": {
           "diverging": [
            [
             0,
             "#8e0152"
            ],
            [
             0.1,
             "#c51b7d"
            ],
            [
             0.2,
             "#de77ae"
            ],
            [
             0.3,
             "#f1b6da"
            ],
            [
             0.4,
             "#fde0ef"
            ],
            [
             0.5,
             "#f7f7f7"
            ],
            [
             0.6,
             "#e6f5d0"
            ],
            [
             0.7,
             "#b8e186"
            ],
            [
             0.8,
             "#7fbc41"
            ],
            [
             0.9,
             "#4d9221"
            ],
            [
             1,
             "#276419"
            ]
           ],
           "sequential": [
            [
             0,
             "#0d0887"
            ],
            [
             0.1111111111111111,
             "#46039f"
            ],
            [
             0.2222222222222222,
             "#7201a8"
            ],
            [
             0.3333333333333333,
             "#9c179e"
            ],
            [
             0.4444444444444444,
             "#bd3786"
            ],
            [
             0.5555555555555556,
             "#d8576b"
            ],
            [
             0.6666666666666666,
             "#ed7953"
            ],
            [
             0.7777777777777778,
             "#fb9f3a"
            ],
            [
             0.8888888888888888,
             "#fdca26"
            ],
            [
             1,
             "#f0f921"
            ]
           ],
           "sequentialminus": [
            [
             0,
             "#0d0887"
            ],
            [
             0.1111111111111111,
             "#46039f"
            ],
            [
             0.2222222222222222,
             "#7201a8"
            ],
            [
             0.3333333333333333,
             "#9c179e"
            ],
            [
             0.4444444444444444,
             "#bd3786"
            ],
            [
             0.5555555555555556,
             "#d8576b"
            ],
            [
             0.6666666666666666,
             "#ed7953"
            ],
            [
             0.7777777777777778,
             "#fb9f3a"
            ],
            [
             0.8888888888888888,
             "#fdca26"
            ],
            [
             1,
             "#f0f921"
            ]
           ]
          },
          "colorway": [
           "#636efa",
           "#EF553B",
           "#00cc96",
           "#ab63fa",
           "#FFA15A",
           "#19d3f3",
           "#FF6692",
           "#B6E880",
           "#FF97FF",
           "#FECB52"
          ],
          "font": {
           "color": "#2a3f5f"
          },
          "geo": {
           "bgcolor": "white",
           "lakecolor": "white",
           "landcolor": "#E5ECF6",
           "showlakes": true,
           "showland": true,
           "subunitcolor": "white"
          },
          "hoverlabel": {
           "align": "left"
          },
          "hovermode": "closest",
          "mapbox": {
           "style": "light"
          },
          "paper_bgcolor": "white",
          "plot_bgcolor": "#E5ECF6",
          "polar": {
           "angularaxis": {
            "gridcolor": "white",
            "linecolor": "white",
            "ticks": ""
           },
           "bgcolor": "#E5ECF6",
           "radialaxis": {
            "gridcolor": "white",
            "linecolor": "white",
            "ticks": ""
           }
          },
          "scene": {
           "xaxis": {
            "backgroundcolor": "#E5ECF6",
            "gridcolor": "white",
            "gridwidth": 2,
            "linecolor": "white",
            "showbackground": true,
            "ticks": "",
            "zerolinecolor": "white"
           },
           "yaxis": {
            "backgroundcolor": "#E5ECF6",
            "gridcolor": "white",
            "gridwidth": 2,
            "linecolor": "white",
            "showbackground": true,
            "ticks": "",
            "zerolinecolor": "white"
           },
           "zaxis": {
            "backgroundcolor": "#E5ECF6",
            "gridcolor": "white",
            "gridwidth": 2,
            "linecolor": "white",
            "showbackground": true,
            "ticks": "",
            "zerolinecolor": "white"
           }
          },
          "shapedefaults": {
           "line": {
            "color": "#2a3f5f"
           }
          },
          "ternary": {
           "aaxis": {
            "gridcolor": "white",
            "linecolor": "white",
            "ticks": ""
           },
           "baxis": {
            "gridcolor": "white",
            "linecolor": "white",
            "ticks": ""
           },
           "bgcolor": "#E5ECF6",
           "caxis": {
            "gridcolor": "white",
            "linecolor": "white",
            "ticks": ""
           }
          },
          "title": {
           "x": 0.05
          },
          "xaxis": {
           "automargin": true,
           "gridcolor": "white",
           "linecolor": "white",
           "ticks": "",
           "title": {
            "standoff": 15
           },
           "zerolinecolor": "white",
           "zerolinewidth": 2
          },
          "yaxis": {
           "automargin": true,
           "gridcolor": "white",
           "linecolor": "white",
           "ticks": "",
           "title": {
            "standoff": 15
           },
           "zerolinecolor": "white",
           "zerolinewidth": 2
          }
         }
        },
        "title": {
         "text": "Real-World Distance Analysis"
        },
        "xaxis": {
         "anchor": "y",
         "domain": [
          0,
          0.45
         ],
         "title": {
          "text": "Frame Index"
         }
        },
        "xaxis2": {
         "anchor": "y2",
         "domain": [
          0.55,
          1
         ],
         "title": {
          "text": "Time"
         }
        },
        "xaxis3": {
         "anchor": "y3",
         "domain": [
          0,
          0.45
         ],
         "title": {
          "text": "Distance (meters)"
         }
        },
        "xaxis4": {
         "anchor": "y4",
         "domain": [
          0.55,
          1
         ],
         "title": {
          "text": "Frame Index"
         }
        },
        "yaxis": {
         "anchor": "x",
         "domain": [
          0.625,
          1
         ],
         "title": {
          "text": "Distance (meters)"
         }
        },
        "yaxis2": {
         "anchor": "x2",
         "domain": [
          0.625,
          1
         ],
         "title": {
          "text": "Distance (meters)"
         }
        },
        "yaxis3": {
         "anchor": "x3",
         "domain": [
          0,
          0.375
         ],
         "title": {
          "text": "Frequency"
         }
        },
        "yaxis4": {
         "anchor": "x4",
         "domain": [
          0,
          0.375
         ],
         "title": {
          "text": "Distance (meters)"
         }
        }
       }
      }
     },
     "metadata": {},
     "output_type": "display_data"
    }
   ],
   "source": [
    "# Real-world distance analysis and plotting using utility function\n",
    "iau.plot_real_world_distance_analysis(distance_results, image_shape=image_shape, sonar_coverage_meters=sonar_coverage_meters)"
   ]
  },
  {
   "cell_type": "code",
   "execution_count": 22,
   "id": "c10a8be6",
   "metadata": {},
   "outputs": [
    {
     "name": "stdout",
     "output_type": "stream",
     "text": [
      "🎯 LOADING DVL DATA FOR COMPARISON: 2024-08-20_14-31-29\n",
      "============================================================\n",
      "🎯 LOADING ALL DISTANCE DATA FOR BAG: 2024-08-20_14-31-29\n",
      "============================================================\n",
      "📡 1. Loading Navigation Data...\n",
      "   ✅ Loaded 559 navigation records\n",
      "📡 2. Loading Guidance Data...\n",
      "   ✅ Loaded 549 guidance records with ['error_net_distance', 'desired_net_distance', 'r_net_distance_d']\n",
      "📡 3. Loading DVL Altimeter...\n",
      "   ❌ DVL altimeter file not found\n",
      "📡 4. Loading USBL...\n",
      "   ✅ Loaded 33 USBL records\n",
      "📡 5. Loading DVL Position...\n",
      "   ✅ Loaded 283 DVL position records\n",
      "📡 6. Loading Navigation Position...\n",
      "   ✅ Loaded 278 navigation position records\n",
      "📡 7. Loading INS Z Position...\n",
      "   ❌ INS file not found\n",
      "\n",
      "📊 LOADING SUMMARY:\n",
      "   🎯 Target bag: 2024-08-20_14-31-29\n",
      "   📁 Raw data loaded: 2/2\n",
      "   📏 Distance measurements: 4\n",
      "\n",
      "📊 RAW DATA LOADED:\n",
      "   ✅ navigation: 559 records\n",
      "   ✅ guidance: 549 records\n",
      "\n",
      "📏 DISTANCE MEASUREMENTS LOADED:\n",
      "   ✅ USBL_3D: 33 records - 3D acoustic position\n",
      "   ✅ USBL_Depth: 33 records - USBL depth measurement\n",
      "   ✅ DVL_Position: 283 records - 3D DVL position\n",
      "   ✅ Nav_Position: 278 records - 2D navigation position\n"
     ]
    }
   ],
   "source": [
    "# 🔄 COMPARISON: SONAR vs DVL DISTANCE MEASUREMENTS\n",
    "# =================================================\n",
    "import utils.net_distance_analysis as sda\n",
    "\n",
    "print(f\"🎯 LOADING DVL DATA FOR COMPARISON: {TARGET_BAG}\")\n",
    "print(\"=\" * 60)\n",
    "\n",
    "# IMPORTANT: Pass the by_bag folder, not just the exports root\n",
    "# The function expects the folder containing the CSV files\n",
    "from utils.sonar_config import EXPORTS_SUBDIRS\n",
    "BY_BAG_FOLDER = EXPORTS_FOLDER / EXPORTS_SUBDIRS.get('by_bag', 'by_bag')\n",
    "\n",
    "# Load all distance data for the target bag\n",
    "raw_data, distance_measurements = sda.load_all_distance_data_for_bag(TARGET_BAG, BY_BAG_FOLDER)\n",
    "\n",
    "# Display what we loaded\n",
    "print(f\"\\n📊 RAW DATA LOADED:\")\n",
    "for key, data in raw_data.items():\n",
    "    if data is not None:\n",
    "        print(f\"   ✅ {key}: {len(data)} records\")\n",
    "    else:\n",
    "        print(f\"   ❌ {key}: None\")\n",
    "\n",
    "print(f\"\\n📏 DISTANCE MEASUREMENTS LOADED:\")\n",
    "for key, info in distance_measurements.items():\n",
    "    data_len = len(info['data'])\n",
    "    print(f\"   ✅ {key}: {data_len} records - {info['description']}\")"
   ]
  },
  {
   "cell_type": "code",
   "execution_count": 23,
   "id": "0375375e",
   "metadata": {},
   "outputs": [
    {
     "name": "stderr",
     "output_type": "stream",
     "text": [
      "/Users/eirikvarnes/code/SOLAQUA/utils/sonar_image_analysis.py:326: FutureWarning:\n",
      "\n",
      "Series.fillna with 'method' is deprecated and will raise in a future version. Use obj.ffill() or obj.bfill() instead.\n",
      "\n",
      "/Users/eirikvarnes/code/SOLAQUA/utils/sonar_image_analysis.py:333: FutureWarning:\n",
      "\n",
      "Series.fillna with 'method' is deprecated and will raise in a future version. Use obj.ffill() or obj.bfill() instead.\n",
      "\n"
     ]
    },
    {
     "data": {
      "application/vnd.plotly.v1+json": {
       "config": {
        "plotlyServerURL": "https://plot.ly"
       },
       "data": [
        {
         "line": {
          "color": "rgba(255,0,0,0.3)"
         },
         "mode": "lines",
         "name": "Sonar Raw",
         "type": "scatter",
         "x": {
          "bdata": "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",
          "dtype": "f8"
         },
         "xaxis": "x",
         "y": {
          "bdata": "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",
          "dtype": "f8"
         },
         "yaxis": "y"
        },
        {
         "line": {
          "color": "red",
          "width": 3
         },
         "mode": "lines",
         "name": "Sonar Smoothed",
         "type": "scatter",
         "x": {
          "bdata": "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",
          "dtype": "f8"
         },
         "xaxis": "x",
         "y": {
          "bdata": "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",
          "dtype": "f8"
         },
         "yaxis": "y"
        },
        {
         "line": {
          "color": "blue",
          "width": 3
         },
         "mode": "lines",
         "name": "DVL Distance",
         "type": "scatter",
         "x": {
          "bdata": "AAAAAAAAAAAGnygBGOzJP1oqHgA5zdg/FGlIACrR4j9WNfz/HJzoP1ToQgD+Ju8/x2n6f+S88j8WNxDAPWf1P8xYGwD9qPg/FD4KwAcL/D//VvR/9S3/PyN29F/qrgJAto0MYDQZBEA8TACguK8FQCcpBAA0BwdAhS/9XzasCED4sArg1UoKQMf8/9+owgtAWBn1X9NKDUAJDgfAercOQN9j+m9vJBBAKAYJ0D3bEEC6qQcgQ5wRQKyu/F+ZbBJAZwgEkJMrE0DfzQmQVwoUQFRS/B8tyhRA6v4FEKuWFUBsrAGgQ0AWQNqyB1APEBdAJTD+//16F0A6vQnAauUXQK2o+9+VaRhAiI/8f6TTGEApYQZgjEMZQAG8+5+goxlAM8oKsFUhGkDCGv/vnI4aQAee/I+s8RpA0X38T0VuG0B1mf8vVdEbQNPWB+AGTRxAmC8EQOKnHEBgCgJwWx0dQIaK+u+Ehh1AblwBsPr6HUCzQP1fXG0eQOslClD66h5AV8cI4BpRH0AGF/O/0c4fQEtU/beDGyBAhqb+1z9XIEAYn/+nrY8gQOvFBMBuxSBAZKn97+v0IEDXBP33cyYhQIsA/XeqYCFAuTgEcK6QIUD26/0vn9YhQGO/AxAyCiJAX4L/H7o7IkDZ8v/nhm0iQOsPBDC0piJAbAcC6CDmIkDNjgOY+hsjQPSsBIgLTiNAMYIA+CuEI0B+2/8/z7ojQBB5AMhf7iNALMcDSG8uJEA2KwNQimMkQP0i/ueEkiRAva//d5rGJEB0LQHIbgYlQAtHAqCZOiVApVr/PzJvJUDIfgRo1aUlQKh7AgB+3SVAEUb9P5gRJkCi6f5HLEYmQIVz/gcHhyZAiQsDQFy6JkAMA/4/Ov0mQKuXAHgbMidAPDH1N8RpJ0Cebf73kZ4nQFDbABhB2CdAFrADONSWKEC/Pf3XIdUoQAynBHiWDSlAe8X/j6ZAKUAn3wSQ7nwpQJ1FATh8rilAVpUBkKjkKUD+HAAgECgqQPlWAGAwXipAyz8CmJWRKkA/sv2Hm8MqQEXe/efsAitAPXkCqHw1K0C+ywCoxnMrQGetA0i2oCtAcj4FWJXiK0CrPAAwPhosQHbAA3CkUyxAFB0BkJ6CLEDaFP/fJ8AsQLQjAPja+SxASywA+G0tLUC2pQHIeF8tQHIu/f/DnC1AVmIBwG/PLUCyEgLY0REuQJGH/R/ZQi5Ah2wECD2ELkDuN/43O7QuQOFnA4DI5i5A3GMA4IwjL0AtLv1np1gvQEAMBVCyii9ADJH+V1DAL0ASlQH4i/svQGalAlTcGDBAgrIA2MY4MEAY+v/vilEwQGcD/0dlazBAG7j+u5CLMECGbQBAkqUwQBqnAJyHwDBAFNn/503ZMEBPFwHMt/IwQFRd/y9QDzFASBYASEUvMUB0H/9TkUkxQBRnAADkZDFAPL7/h6J8MUDpkAHEUJ0xQKsoAPRrujFAkUUCXHzVMUA3qwH0wu4xQFTDAohQCTJAh+cAHFYiMkAfEgAUCkIyQPXDAHAJWjJAopYCrLd6MkA1XAD0XZMyQKJPAqCsrTJAY4f+98rHMkC0fgBAOOgyQLun/oPAATNA0WD/50MiM0A8rf6vijszQC7K//OaVjNAnqgCdDNzM0CbmACMf40zQGHA/0eHpjNAd3/+c3/JM0AJj/7jeeAzQLdv/9t2AzRAh9b/Qz4YNECWPgLsFDo0QBTTASDZUjRA6vkAyHxrNEC10ACkV4Q0QHGoAJQWpTRAqj//k3jDNEC/AQDcuds0QOAs/wMn+jRA/8kAzAwUNUCphgJYEi01QMK8/0MFTjVA0eAARItnNUDEvgJw6oo1QLa2AqAQnjVAodgAKKO+NUAqbf83Z9c1QDZCAvCW8TVARVUCGIVXNkDrvQAUhm82QB0EAVi7kDZA2FsCpEGqNkBadf9Tz8Q2QMSZAVyA3TZAHWD6H1/7NkBGHAHIyBo3QMM2ACBJMzdA/gICHElLN0BKZQFIKms3QKeE/ysthDdAYAoCcNukN0BsUQFY5r43QAmP/uN54DdAgCcC3Hn4N0AKvADsPRE4QKW1/4ePLDhAK1n/+5RFOEBezwCsSGc4QDmzAuichDhAocr+s0WYOEBebgKcdrk4QPUQ/0OJ1DhAUB8CwJHuOECM5v5z4wk5QC2u/sPuIzlAaA7/n/k9OUAqbf83Z1g5QI6y/7NGczlALZr+h5yTOUD3rP4X7q45QIqcArysxjlAKV8AfJjmOUAOCADQWf45QA9d/5ezGzpAiJECZJg6OkBtzgCY5FQ6QHbM//+NbjpA+fgAtJiIOkAsvAA4TKo6QKes/6NRwzpAnxcAQFTbOkDlRALgNPg6QJ5hAmioGTtA9EYBMAsyO0Bv3/63bUo7QGAhARDobDtA/+D/a5mGO0CRhP67np87QPtQ/9+svztA7NkBRLLYO0CaaP8fgfM7QL9CAiBQDjxASTIBePEoPECbr/8rjEU8QBkZAITxZDxAvI0AgHl+PEAbJ/8/wJc8QLCT/2tuuDxA/vf+C6bQPEBRDgHo+es8QLkf/+stBj1A0eAARIsnPUDgh/9LhEE9QEXv/r+EXz1ACrwA7D12PUCkjQLIeY09QFsAAQgrrT1AE1//CwrLPUCpPwJMh+I9QJJt/xuS/D1ATEgBKBoWPkCDigBgoi8+QIpEAdgJTz5A4UgANNNoPkD77wDQWok+QHyd/xcCoj5A80H/n2vBPkDIngA0Ed0+QK8F/1PY9j5AheL+izYVP0DouAE89Sw/QCrf/h/RST9AwgMAUBBiP0D3qf+zs4A/QFcE/1vJnD9AV8gBYOG4P0C3EQAw39A/QDNzAkx57D9AukIB1ogEQECK6QCQrDZAQGqx/y3NQkBAWvUAsJZQQEBGAQDSB2BAQH42AIjsbEBAAj4AKA15QEAJ+ACgdIZAQLG8/x0+lEBA1moAUDSkQEC/9ABalrBAQLFh/9UgvkBAdVL/IwrOQEAbIQF4S9pAQIb7AFgo6EBAI3oAKNL1QEDfHgBImAVBQML5/zFnFEFA/McAWDYjQUDOHgAiES5BQIPlAKj/PEFAxD4BFKNJQUDRwgDqD1hBQBYNAPJxZEFAUVUB9AR0QUCtX/9hCoFBQLS0/3NrkEFAon4AGrGdQUB01f/jS6xBQMINAG55uUFACYz/f7/FQUBAR/9Z4NZBQEFtAKi14UFAptsA1mTxQUCjdAD8x/1BQPXQ//HsCkJAkxcBZFQYQkB/SAGabylCQDtIAQITNkJAqFYB7NNDQkD49wB6bVRCQFXoAOTrX0JAJgwA3k1sQkAGGAAkP3pCQHpSAG5RiUJAexYAutqWQkBStADah6VCQAR1/5WrskJAXi0AWGDCQkBRBAHKUM9CQMfGAKx13EJAlFD/+4HpQkAFwwBcJfZCQMBW/6PTBENAneP/NTAWQ0DYKwE4wx9DQJ+8//d2L0NAzhQABGg9Q0BsWwF2z0pDQJFLACTxWUNA07z/aQxlQ0AH9wBmSXFDQLFUAFQ9gUNAoDYA1HqOQ0ATVf/toJtDQJJTARiLqUNAwCcBKk+2Q0BwQgD0ZMZDQFtbAVAI00NAaZkAVJXgQ0DgRAGW7fBDQDQzAEIO/UNA5UP/7ToLREA9xgB8vBdEQKZv/7XvI0RAbcQAensyREBPWv+BjkJEQLZrAD4RT0RAaHAAooVcREAAwACuY21EQBskANzFeURAWsb/fUOIREB8AgB+CJVEQHCJAABwokRAs4v/wZuwRECF6f9FZb5EQGM3AcCQzERA0ScBUJbZRECfKwB8puhEQKOxAOop9kRAjZoA2g4GRUDCHgFGURNFQCjv/739QUVA4+7/JaFORUDWvv/doltFQEc0AKIAbUVAWKb/r/F5RUApugDEtYZFQDOv/0fhlUVAN8IAlI+kRUD60/+fLrBFQMT3AAgYwUVA8h8AqIrNRUC6j/+pyN5FQLpFADqD6UVAv5j9H//6RUBT6v8NOwZGQDYxARj/EkZAmN0AJPQiRkAHCwGiWzBGQIIT/+fYO0ZAYGT/xb5IRkD/j/9BJVlGQFIcAKTIZUZAZdMAlDV0RkBoegDA7oRGQKVXANx3kkZAGYgACGGgRkCrLwGuGq1GQGaG/wfnukZAi0v/2WnHRkDLOwBCYdhGQGgzALSj5EZAUI3/UYfxRkDysP8jm/9GQLuk/x8GDEdAfuX/XXgbR0AIagCInihHQAUAAUpHNkdABQABSkdCR0AyUABinlJHQFwzAdijX0dArEQBJBhvR0BXcAB8/ntHQKoGAfyKikdAHnr/3YqWR0Cfif8nvqZHQKz2/12etEdA9Lv/ey/ER0AxJAFMFNFHQKTJ/8Oh30dAArcAymXsR0D6kwBOkvxHQI4hADi2CEhALsr/85oVSECXo/+ZjCVIQItf/xV8NEhAdOYAvCNCSEABHwCUpk5IQGSZ/wkOXEhABaUAAupqSECW8/+JFXlIQBo1AbSdhkhALVD/F1eUSED/eACimKNIQPIBAE7PsEhAXQQAphC9SEBQvQC+Bc1IQNjF/d8C20hAvez/ZTzqSEBbFAFEffRIQKxbAMTkAUlAM8AAILkRSUDiOwGy7xtJQJqDABZCK0lAlFQBUjY7SUCAkgAK9UZJQIirAGifVElAKR8BKrxjSUAH9wBmCXNJQAJIAEZ2gUlAt+j/fc+LSUDOw//ZM51JQASkAMg+q0lAIZr/q9y2SUBSBQEEfMRJQPxb/zdB0UlAQ///XfHfSUCPTf9NwO5JQBDr/69J/ElA9Fb/FWkISkAUFgDWrxVKQPT/ACTASEpAe+AAhidiSkD3FQHUaHpKQJjq/6VXk0pAg1cAkKmfSkDgjgAGc61KQJN4/3PmvEpAVgoA3EzKSkB3TQGWANpKQPV//8d450pASAwAKhz0SkANbQA24ABLQA5FAL77DktAOa8AkmgdS0DctAAKAS5LQLhBAZxdOUtAiPwAklNIS0CgTf9zB1VLQN5T/0GgYktA85kAhE5xS0AIKgE2AoFLQDZIALjLjktAVx8AUoqaS0Cmef/TGKlLQPpu/zkouEtAARUAdv3HS0BXxP8J7dBLQAokALY+4EtAq0MB6qzuS0AM/f93hf9LQPdpAGJXCUxAPPH/VxsWTECUPP+/7yVMQCgpAUhlNUxA6W7/E6FATEDGPwFODk9MQGyvAAS+XUxAAjQACuRqTECygP9ph3dMQFJjALDThUxAyV8BHGCVTEBNvv+tKaNMQIDPAPgWsUxAgYz/ibG9TEDmx//n581MQHyGAHh13ExA+cUA5F/nTEDhmQBex/RMQO0SANxfBU1AGlMBDhkQTUCITQG8hyBNQIzCAFKzLk1AphEACpg7TUBoFQBaqEpNQPuyAOK4Vk1AiXL/F6NkTUDyZgC0lXRNQOj4AI7Rf01AjWD/T+ePTUCUQwB6nppNQCtgALaDqk1AW1EBMp+4TUAx6v/BLMdNQEgMACqc0U1AU0wBEIffTUDzOwHYNu5NQEuv/f8g/E1AK0//3SsKTkAiZQCy1BdOQOWA/9tcJU5ApNP/4cozTkAJ3f+p80BOQKBHAawSTk5AbyAB/ENdTkCFR//x/GlOQE+1/8mreE5A7JUAnKGHTkCVrP99SpVOQCFGAB7upE5AgM8A+JayTkBbFwCot75OQPSuAPqLzk5AAKwAcpHbTkCLtwD6HupOQEKMADyc9U5AWDQAyMcDT0CKff9vtxJPQKrC/1N6Kk9ACvkA2t9DT0BPVwAeFJBPQCevAGzhqE9AS9v/zbnCT0AibwDQfdtPQE54/9uJ8k9AVYMAfmUGUEDwiABjOhNQQPAjAP3THlBAPvf/IBssUED4+v/dZzdQQC+QAGu+RFBAAt7/UPtPUEBD6/8hn1xQQBik/zYiaVBAFF0A4hp1UECwdwA9jYFQQHry/5b/jVBAxqwAp8OaUECipP9me6ZQQI68/9FPs1BA8GAA63XAUEA=",
          "dtype": "f8"
         },
         "xaxis": "x",
         "y": {
          "bdata": "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",
          "dtype": "f8"
         },
         "yaxis": "y"
        }
       ],
       "layout": {
        "height": 600,
        "hovermode": "x unified",
        "template": {
         "data": {
          "bar": [
           {
            "error_x": {
             "color": "#2a3f5f"
            },
            "error_y": {
             "color": "#2a3f5f"
            },
            "marker": {
             "line": {
              "color": "#E5ECF6",
              "width": 0.5
             },
             "pattern": {
              "fillmode": "overlay",
              "size": 10,
              "solidity": 0.2
             }
            },
            "type": "bar"
           }
          ],
          "barpolar": [
           {
            "marker": {
             "line": {
              "color": "#E5ECF6",
              "width": 0.5
             },
             "pattern": {
              "fillmode": "overlay",
              "size": 10,
              "solidity": 0.2
             }
            },
            "type": "barpolar"
           }
          ],
          "carpet": [
           {
            "aaxis": {
             "endlinecolor": "#2a3f5f",
             "gridcolor": "white",
             "linecolor": "white",
             "minorgridcolor": "white",
             "startlinecolor": "#2a3f5f"
            },
            "baxis": {
             "endlinecolor": "#2a3f5f",
             "gridcolor": "white",
             "linecolor": "white",
             "minorgridcolor": "white",
             "startlinecolor": "#2a3f5f"
            },
            "type": "carpet"
           }
          ],
          "choropleth": [
           {
            "colorbar": {
             "outlinewidth": 0,
             "ticks": ""
            },
            "type": "choropleth"
           }
          ],
          "contour": [
           {
            "colorbar": {
             "outlinewidth": 0,
             "ticks": ""
            },
            "colorscale": [
             [
              0,
              "#0d0887"
             ],
             [
              0.1111111111111111,
              "#46039f"
             ],
             [
              0.2222222222222222,
              "#7201a8"
             ],
             [
              0.3333333333333333,
              "#9c179e"
             ],
             [
              0.4444444444444444,
              "#bd3786"
             ],
             [
              0.5555555555555556,
              "#d8576b"
             ],
             [
              0.6666666666666666,
              "#ed7953"
             ],
             [
              0.7777777777777778,
              "#fb9f3a"
             ],
             [
              0.8888888888888888,
              "#fdca26"
             ],
             [
              1,
              "#f0f921"
             ]
            ],
            "type": "contour"
           }
          ],
          "contourcarpet": [
           {
            "colorbar": {
             "outlinewidth": 0,
             "ticks": ""
            },
            "type": "contourcarpet"
           }
          ],
          "heatmap": [
           {
            "colorbar": {
             "outlinewidth": 0,
             "ticks": ""
            },
            "colorscale": [
             [
              0,
              "#0d0887"
             ],
             [
              0.1111111111111111,
              "#46039f"
             ],
             [
              0.2222222222222222,
              "#7201a8"
             ],
             [
              0.3333333333333333,
              "#9c179e"
             ],
             [
              0.4444444444444444,
              "#bd3786"
             ],
             [
              0.5555555555555556,
              "#d8576b"
             ],
             [
              0.6666666666666666,
              "#ed7953"
             ],
             [
              0.7777777777777778,
              "#fb9f3a"
             ],
             [
              0.8888888888888888,
              "#fdca26"
             ],
             [
              1,
              "#f0f921"
             ]
            ],
            "type": "heatmap"
           }
          ],
          "histogram": [
           {
            "marker": {
             "pattern": {
              "fillmode": "overlay",
              "size": 10,
              "solidity": 0.2
             }
            },
            "type": "histogram"
           }
          ],
          "histogram2d": [
           {
            "colorbar": {
             "outlinewidth": 0,
             "ticks": ""
            },
            "colorscale": [
             [
              0,
              "#0d0887"
             ],
             [
              0.1111111111111111,
              "#46039f"
             ],
             [
              0.2222222222222222,
              "#7201a8"
             ],
             [
              0.3333333333333333,
              "#9c179e"
             ],
             [
              0.4444444444444444,
              "#bd3786"
             ],
             [
              0.5555555555555556,
              "#d8576b"
             ],
             [
              0.6666666666666666,
              "#ed7953"
             ],
             [
              0.7777777777777778,
              "#fb9f3a"
             ],
             [
              0.8888888888888888,
              "#fdca26"
             ],
             [
              1,
              "#f0f921"
             ]
            ],
            "type": "histogram2d"
           }
          ],
          "histogram2dcontour": [
           {
            "colorbar": {
             "outlinewidth": 0,
             "ticks": ""
            },
            "colorscale": [
             [
              0,
              "#0d0887"
             ],
             [
              0.1111111111111111,
              "#46039f"
             ],
             [
              0.2222222222222222,
              "#7201a8"
             ],
             [
              0.3333333333333333,
              "#9c179e"
             ],
             [
              0.4444444444444444,
              "#bd3786"
             ],
             [
              0.5555555555555556,
              "#d8576b"
             ],
             [
              0.6666666666666666,
              "#ed7953"
             ],
             [
              0.7777777777777778,
              "#fb9f3a"
             ],
             [
              0.8888888888888888,
              "#fdca26"
             ],
             [
              1,
              "#f0f921"
             ]
            ],
            "type": "histogram2dcontour"
           }
          ],
          "mesh3d": [
           {
            "colorbar": {
             "outlinewidth": 0,
             "ticks": ""
            },
            "type": "mesh3d"
           }
          ],
          "parcoords": [
           {
            "line": {
             "colorbar": {
              "outlinewidth": 0,
              "ticks": ""
             }
            },
            "type": "parcoords"
           }
          ],
          "pie": [
           {
            "automargin": true,
            "type": "pie"
           }
          ],
          "scatter": [
           {
            "fillpattern": {
             "fillmode": "overlay",
             "size": 10,
             "solidity": 0.2
            },
            "type": "scatter"
           }
          ],
          "scatter3d": [
           {
            "line": {
             "colorbar": {
              "outlinewidth": 0,
              "ticks": ""
             }
            },
            "marker": {
             "colorbar": {
              "outlinewidth": 0,
              "ticks": ""
             }
            },
            "type": "scatter3d"
           }
          ],
          "scattercarpet": [
           {
            "marker": {
             "colorbar": {
              "outlinewidth": 0,
              "ticks": ""
             }
            },
            "type": "scattercarpet"
           }
          ],
          "scattergeo": [
           {
            "marker": {
             "colorbar": {
              "outlinewidth": 0,
              "ticks": ""
             }
            },
            "type": "scattergeo"
           }
          ],
          "scattergl": [
           {
            "marker": {
             "colorbar": {
              "outlinewidth": 0,
              "ticks": ""
             }
            },
            "type": "scattergl"
           }
          ],
          "scattermap": [
           {
            "marker": {
             "colorbar": {
              "outlinewidth": 0,
              "ticks": ""
             }
            },
            "type": "scattermap"
           }
          ],
          "scattermapbox": [
           {
            "marker": {
             "colorbar": {
              "outlinewidth": 0,
              "ticks": ""
             }
            },
            "type": "scattermapbox"
           }
          ],
          "scatterpolar": [
           {
            "marker": {
             "colorbar": {
              "outlinewidth": 0,
              "ticks": ""
             }
            },
            "type": "scatterpolar"
           }
          ],
          "scatterpolargl": [
           {
            "marker": {
             "colorbar": {
              "outlinewidth": 0,
              "ticks": ""
             }
            },
            "type": "scatterpolargl"
           }
          ],
          "scatterternary": [
           {
            "marker": {
             "colorbar": {
              "outlinewidth": 0,
              "ticks": ""
             }
            },
            "type": "scatterternary"
           }
          ],
          "surface": [
           {
            "colorbar": {
             "outlinewidth": 0,
             "ticks": ""
            },
            "colorscale": [
             [
              0,
              "#0d0887"
             ],
             [
              0.1111111111111111,
              "#46039f"
             ],
             [
              0.2222222222222222,
              "#7201a8"
             ],
             [
              0.3333333333333333,
              "#9c179e"
             ],
             [
              0.4444444444444444,
              "#bd3786"
             ],
             [
              0.5555555555555556,
              "#d8576b"
             ],
             [
              0.6666666666666666,
              "#ed7953"
             ],
             [
              0.7777777777777778,
              "#fb9f3a"
             ],
             [
              0.8888888888888888,
              "#fdca26"
             ],
             [
              1,
              "#f0f921"
             ]
            ],
            "type": "surface"
           }
          ],
          "table": [
           {
            "cells": {
             "fill": {
              "color": "#EBF0F8"
             },
             "line": {
              "color": "white"
             }
            },
            "header": {
             "fill": {
              "color": "#C8D4E3"
             },
             "line": {
              "color": "white"
             }
            },
            "type": "table"
           }
          ]
         },
         "layout": {
          "annotationdefaults": {
           "arrowcolor": "#2a3f5f",
           "arrowhead": 0,
           "arrowwidth": 1
          },
          "autotypenumbers": "strict",
          "coloraxis": {
           "colorbar": {
            "outlinewidth": 0,
            "ticks": ""
           }
          },
          "colorscale": {
           "diverging": [
            [
             0,
             "#8e0152"
            ],
            [
             0.1,
             "#c51b7d"
            ],
            [
             0.2,
             "#de77ae"
            ],
            [
             0.3,
             "#f1b6da"
            ],
            [
             0.4,
             "#fde0ef"
            ],
            [
             0.5,
             "#f7f7f7"
            ],
            [
             0.6,
             "#e6f5d0"
            ],
            [
             0.7,
             "#b8e186"
            ],
            [
             0.8,
             "#7fbc41"
            ],
            [
             0.9,
             "#4d9221"
            ],
            [
             1,
             "#276419"
            ]
           ],
           "sequential": [
            [
             0,
             "#0d0887"
            ],
            [
             0.1111111111111111,
             "#46039f"
            ],
            [
             0.2222222222222222,
             "#7201a8"
            ],
            [
             0.3333333333333333,
             "#9c179e"
            ],
            [
             0.4444444444444444,
             "#bd3786"
            ],
            [
             0.5555555555555556,
             "#d8576b"
            ],
            [
             0.6666666666666666,
             "#ed7953"
            ],
            [
             0.7777777777777778,
             "#fb9f3a"
            ],
            [
             0.8888888888888888,
             "#fdca26"
            ],
            [
             1,
             "#f0f921"
            ]
           ],
           "sequentialminus": [
            [
             0,
             "#0d0887"
            ],
            [
             0.1111111111111111,
             "#46039f"
            ],
            [
             0.2222222222222222,
             "#7201a8"
            ],
            [
             0.3333333333333333,
             "#9c179e"
            ],
            [
             0.4444444444444444,
             "#bd3786"
            ],
            [
             0.5555555555555556,
             "#d8576b"
            ],
            [
             0.6666666666666666,
             "#ed7953"
            ],
            [
             0.7777777777777778,
             "#fb9f3a"
            ],
            [
             0.8888888888888888,
             "#fdca26"
            ],
            [
             1,
             "#f0f921"
            ]
           ]
          },
          "colorway": [
           "#636efa",
           "#EF553B",
           "#00cc96",
           "#ab63fa",
           "#FFA15A",
           "#19d3f3",
           "#FF6692",
           "#B6E880",
           "#FF97FF",
           "#FECB52"
          ],
          "font": {
           "color": "#2a3f5f"
          },
          "geo": {
           "bgcolor": "white",
           "lakecolor": "white",
           "landcolor": "#E5ECF6",
           "showlakes": true,
           "showland": true,
           "subunitcolor": "white"
          },
          "hoverlabel": {
           "align": "left"
          },
          "hovermode": "closest",
          "mapbox": {
           "style": "light"
          },
          "paper_bgcolor": "white",
          "plot_bgcolor": "#E5ECF6",
          "polar": {
           "angularaxis": {
            "gridcolor": "white",
            "linecolor": "white",
            "ticks": ""
           },
           "bgcolor": "#E5ECF6",
           "radialaxis": {
            "gridcolor": "white",
            "linecolor": "white",
            "ticks": ""
           }
          },
          "scene": {
           "xaxis": {
            "backgroundcolor": "#E5ECF6",
            "gridcolor": "white",
            "gridwidth": 2,
            "linecolor": "white",
            "showbackground": true,
            "ticks": "",
            "zerolinecolor": "white"
           },
           "yaxis": {
            "backgroundcolor": "#E5ECF6",
            "gridcolor": "white",
            "gridwidth": 2,
            "linecolor": "white",
            "showbackground": true,
            "ticks": "",
            "zerolinecolor": "white"
           },
           "zaxis": {
            "backgroundcolor": "#E5ECF6",
            "gridcolor": "white",
            "gridwidth": 2,
            "linecolor": "white",
            "showbackground": true,
            "ticks": "",
            "zerolinecolor": "white"
           }
          },
          "shapedefaults": {
           "line": {
            "color": "#2a3f5f"
           }
          },
          "ternary": {
           "aaxis": {
            "gridcolor": "white",
            "linecolor": "white",
            "ticks": ""
           },
           "baxis": {
            "gridcolor": "white",
            "linecolor": "white",
            "ticks": ""
           },
           "bgcolor": "#E5ECF6",
           "caxis": {
            "gridcolor": "white",
            "linecolor": "white",
            "ticks": ""
           }
          },
          "title": {
           "x": 0.05
          },
          "xaxis": {
           "automargin": true,
           "gridcolor": "white",
           "linecolor": "white",
           "ticks": "",
           "title": {
            "standoff": 15
           },
           "zerolinecolor": "white",
           "zerolinewidth": 2
          },
          "yaxis": {
           "automargin": true,
           "gridcolor": "white",
           "linecolor": "white",
           "ticks": "",
           "title": {
            "standoff": 15
           },
           "zerolinecolor": "white",
           "zerolinewidth": 2
          }
         }
        },
        "title": {
         "text": "🔄 Interactive Distance Comparison: Sonar vs DVL"
        },
        "xaxis": {
         "anchor": "y",
         "domain": [
          0,
          1
         ],
         "showgrid": true,
         "title": {
          "text": "Time (seconds)"
         }
        },
        "yaxis": {
         "anchor": "x",
         "domain": [
          0,
          1
         ],
         "showgrid": true,
         "title": {
          "text": "Distance (meters)"
         }
        }
       }
      }
     },
     "metadata": {},
     "output_type": "display_data"
    },
    {
     "name": "stdout",
     "output_type": "stream",
     "text": [
      "\n",
      "📊 SONAR vs DVL COMPARISON STATISTICS:\n",
      "==================================================\n",
      "Sonar mean distance: 1.915 m\n",
      "DVL mean distance:   1.968 m\n",
      "Scale ratio (Sonar/DVL): 0.973x\n",
      "Sonar duration: 67.1s (1000 frames)\n",
      "DVL duration:   67.0s (559 records)\n",
      "\n",
      "Comparison stats summary:\n",
      "{'dvl_duration_s': 67.007197142,\n",
      " 'dvl_mean_m': 1.9676565289337435,\n",
      " 'dvl_records': 559,\n",
      " 'scale_ratio': 0.9733125758377906,\n",
      " 'sonar_duration_s': 67.07427141341341,\n",
      " 'sonar_frames': 1000,\n",
      " 'sonar_mean_m': 1.9151448445405481}\n"
     ]
    },
    {
     "data": {
      "application/vnd.plotly.v1+json": {
       "config": {
        "plotlyServerURL": "https://plot.ly"
       },
       "data": [
        {
         "line": {
          "color": "rgba(255,0,0,0.3)"
         },
         "mode": "lines",
         "name": "Sonar Raw",
         "type": "scatter",
         "x": {
          "bdata": "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",
          "dtype": "f8"
         },
         "xaxis": "x",
         "y": {
          "bdata": "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",
          "dtype": "f8"
         },
         "yaxis": "y"
        },
        {
         "line": {
          "color": "red",
          "width": 3
         },
         "mode": "lines",
         "name": "Sonar Smoothed",
         "type": "scatter",
         "x": {
          "bdata": "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",
          "dtype": "f8"
         },
         "xaxis": "x",
         "y": {
          "bdata": "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",
          "dtype": "f8"
         },
         "yaxis": "y"
        },
        {
         "line": {
          "color": "blue",
          "width": 3
         },
         "mode": "lines",
         "name": "DVL Distance",
         "type": "scatter",
         "x": {
          "bdata": "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",
          "dtype": "f8"
         },
         "xaxis": "x",
         "y": {
          "bdata": "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",
          "dtype": "f8"
         },
         "yaxis": "y"
        }
       ],
       "layout": {
        "height": 600,
        "hovermode": "x unified",
        "template": {
         "data": {
          "bar": [
           {
            "error_x": {
             "color": "#2a3f5f"
            },
            "error_y": {
             "color": "#2a3f5f"
            },
            "marker": {
             "line": {
              "color": "#E5ECF6",
              "width": 0.5
             },
             "pattern": {
              "fillmode": "overlay",
              "size": 10,
              "solidity": 0.2
             }
            },
            "type": "bar"
           }
          ],
          "barpolar": [
           {
            "marker": {
             "line": {
              "color": "#E5ECF6",
              "width": 0.5
             },
             "pattern": {
              "fillmode": "overlay",
              "size": 10,
              "solidity": 0.2
             }
            },
            "type": "barpolar"
           }
          ],
          "carpet": [
           {
            "aaxis": {
             "endlinecolor": "#2a3f5f",
             "gridcolor": "white",
             "linecolor": "white",
             "minorgridcolor": "white",
             "startlinecolor": "#2a3f5f"
            },
            "baxis": {
             "endlinecolor": "#2a3f5f",
             "gridcolor": "white",
             "linecolor": "white",
             "minorgridcolor": "white",
             "startlinecolor": "#2a3f5f"
            },
            "type": "carpet"
           }
          ],
          "choropleth": [
           {
            "colorbar": {
             "outlinewidth": 0,
             "ticks": ""
            },
            "type": "choropleth"
           }
          ],
          "contour": [
           {
            "colorbar": {
             "outlinewidth": 0,
             "ticks": ""
            },
            "colorscale": [
             [
              0,
              "#0d0887"
             ],
             [
              0.1111111111111111,
              "#46039f"
             ],
             [
              0.2222222222222222,
              "#7201a8"
             ],
             [
              0.3333333333333333,
              "#9c179e"
             ],
             [
              0.4444444444444444,
              "#bd3786"
             ],
             [
              0.5555555555555556,
              "#d8576b"
             ],
             [
              0.6666666666666666,
              "#ed7953"
             ],
             [
              0.7777777777777778,
              "#fb9f3a"
             ],
             [
              0.8888888888888888,
              "#fdca26"
             ],
             [
              1,
              "#f0f921"
             ]
            ],
            "type": "contour"
           }
          ],
          "contourcarpet": [
           {
            "colorbar": {
             "outlinewidth": 0,
             "ticks": ""
            },
            "type": "contourcarpet"
           }
          ],
          "heatmap": [
           {
            "colorbar": {
             "outlinewidth": 0,
             "ticks": ""
            },
            "colorscale": [
             [
              0,
              "#0d0887"
             ],
             [
              0.1111111111111111,
              "#46039f"
             ],
             [
              0.2222222222222222,
              "#7201a8"
             ],
             [
              0.3333333333333333,
              "#9c179e"
             ],
             [
              0.4444444444444444,
              "#bd3786"
             ],
             [
              0.5555555555555556,
              "#d8576b"
             ],
             [
              0.6666666666666666,
              "#ed7953"
             ],
             [
              0.7777777777777778,
              "#fb9f3a"
             ],
             [
              0.8888888888888888,
              "#fdca26"
             ],
             [
              1,
              "#f0f921"
             ]
            ],
            "type": "heatmap"
           }
          ],
          "histogram": [
           {
            "marker": {
             "pattern": {
              "fillmode": "overlay",
              "size": 10,
              "solidity": 0.2
             }
            },
            "type": "histogram"
           }
          ],
          "histogram2d": [
           {
            "colorbar": {
             "outlinewidth": 0,
             "ticks": ""
            },
            "colorscale": [
             [
              0,
              "#0d0887"
             ],
             [
              0.1111111111111111,
              "#46039f"
             ],
             [
              0.2222222222222222,
              "#7201a8"
             ],
             [
              0.3333333333333333,
              "#9c179e"
             ],
             [
              0.4444444444444444,
              "#bd3786"
             ],
             [
              0.5555555555555556,
              "#d8576b"
             ],
             [
              0.6666666666666666,
              "#ed7953"
             ],
             [
              0.7777777777777778,
              "#fb9f3a"
             ],
             [
              0.8888888888888888,
              "#fdca26"
             ],
             [
              1,
              "#f0f921"
             ]
            ],
            "type": "histogram2d"
           }
          ],
          "histogram2dcontour": [
           {
            "colorbar": {
             "outlinewidth": 0,
             "ticks": ""
            },
            "colorscale": [
             [
              0,
              "#0d0887"
             ],
             [
              0.1111111111111111,
              "#46039f"
             ],
             [
              0.2222222222222222,
              "#7201a8"
             ],
             [
              0.3333333333333333,
              "#9c179e"
             ],
             [
              0.4444444444444444,
              "#bd3786"
             ],
             [
              0.5555555555555556,
              "#d8576b"
             ],
             [
              0.6666666666666666,
              "#ed7953"
             ],
             [
              0.7777777777777778,
              "#fb9f3a"
             ],
             [
              0.8888888888888888,
              "#fdca26"
             ],
             [
              1,
              "#f0f921"
             ]
            ],
            "type": "histogram2dcontour"
           }
          ],
          "mesh3d": [
           {
            "colorbar": {
             "outlinewidth": 0,
             "ticks": ""
            },
            "type": "mesh3d"
           }
          ],
          "parcoords": [
           {
            "line": {
             "colorbar": {
              "outlinewidth": 0,
              "ticks": ""
             }
            },
            "type": "parcoords"
           }
          ],
          "pie": [
           {
            "automargin": true,
            "type": "pie"
           }
          ],
          "scatter": [
           {
            "fillpattern": {
             "fillmode": "overlay",
             "size": 10,
             "solidity": 0.2
            },
            "type": "scatter"
           }
          ],
          "scatter3d": [
           {
            "line": {
             "colorbar": {
              "outlinewidth": 0,
              "ticks": ""
             }
            },
            "marker": {
             "colorbar": {
              "outlinewidth": 0,
              "ticks": ""
             }
            },
            "type": "scatter3d"
           }
          ],
          "scattercarpet": [
           {
            "marker": {
             "colorbar": {
              "outlinewidth": 0,
              "ticks": ""
             }
            },
            "type": "scattercarpet"
           }
          ],
          "scattergeo": [
           {
            "marker": {
             "colorbar": {
              "outlinewidth": 0,
              "ticks": ""
             }
            },
            "type": "scattergeo"
           }
          ],
          "scattergl": [
           {
            "marker": {
             "colorbar": {
              "outlinewidth": 0,
              "ticks": ""
             }
            },
            "type": "scattergl"
           }
          ],
          "scattermap": [
           {
            "marker": {
             "colorbar": {
              "outlinewidth": 0,
              "ticks": ""
             }
            },
            "type": "scattermap"
           }
          ],
          "scattermapbox": [
           {
            "marker": {
             "colorbar": {
              "outlinewidth": 0,
              "ticks": ""
             }
            },
            "type": "scattermapbox"
           }
          ],
          "scatterpolar": [
           {
            "marker": {
             "colorbar": {
              "outlinewidth": 0,
              "ticks": ""
             }
            },
            "type": "scatterpolar"
           }
          ],
          "scatterpolargl": [
           {
            "marker": {
             "colorbar": {
              "outlinewidth": 0,
              "ticks": ""
             }
            },
            "type": "scatterpolargl"
           }
          ],
          "scatterternary": [
           {
            "marker": {
             "colorbar": {
              "outlinewidth": 0,
              "ticks": ""
             }
            },
            "type": "scatterternary"
           }
          ],
          "surface": [
           {
            "colorbar": {
             "outlinewidth": 0,
             "ticks": ""
            },
            "colorscale": [
             [
              0,
              "#0d0887"
             ],
             [
              0.1111111111111111,
              "#46039f"
             ],
             [
              0.2222222222222222,
              "#7201a8"
             ],
             [
              0.3333333333333333,
              "#9c179e"
             ],
             [
              0.4444444444444444,
              "#bd3786"
             ],
             [
              0.5555555555555556,
              "#d8576b"
             ],
             [
              0.6666666666666666,
              "#ed7953"
             ],
             [
              0.7777777777777778,
              "#fb9f3a"
             ],
             [
              0.8888888888888888,
              "#fdca26"
             ],
             [
              1,
              "#f0f921"
             ]
            ],
            "type": "surface"
           }
          ],
          "table": [
           {
            "cells": {
             "fill": {
              "color": "#EBF0F8"
             },
             "line": {
              "color": "white"
             }
            },
            "header": {
             "fill": {
              "color": "#C8D4E3"
             },
             "line": {
              "color": "white"
             }
            },
            "type": "table"
           }
          ]
         },
         "layout": {
          "annotationdefaults": {
           "arrowcolor": "#2a3f5f",
           "arrowhead": 0,
           "arrowwidth": 1
          },
          "autotypenumbers": "strict",
          "coloraxis": {
           "colorbar": {
            "outlinewidth": 0,
            "ticks": ""
           }
          },
          "colorscale": {
           "diverging": [
            [
             0,
             "#8e0152"
            ],
            [
             0.1,
             "#c51b7d"
            ],
            [
             0.2,
             "#de77ae"
            ],
            [
             0.3,
             "#f1b6da"
            ],
            [
             0.4,
             "#fde0ef"
            ],
            [
             0.5,
             "#f7f7f7"
            ],
            [
             0.6,
             "#e6f5d0"
            ],
            [
             0.7,
             "#b8e186"
            ],
            [
             0.8,
             "#7fbc41"
            ],
            [
             0.9,
             "#4d9221"
            ],
            [
             1,
             "#276419"
            ]
           ],
           "sequential": [
            [
             0,
             "#0d0887"
            ],
            [
             0.1111111111111111,
             "#46039f"
            ],
            [
             0.2222222222222222,
             "#7201a8"
            ],
            [
             0.3333333333333333,
             "#9c179e"
            ],
            [
             0.4444444444444444,
             "#bd3786"
            ],
            [
             0.5555555555555556,
             "#d8576b"
            ],
            [
             0.6666666666666666,
             "#ed7953"
            ],
            [
             0.7777777777777778,
             "#fb9f3a"
            ],
            [
             0.8888888888888888,
             "#fdca26"
            ],
            [
             1,
             "#f0f921"
            ]
           ],
           "sequentialminus": [
            [
             0,
             "#0d0887"
            ],
            [
             0.1111111111111111,
             "#46039f"
            ],
            [
             0.2222222222222222,
             "#7201a8"
            ],
            [
             0.3333333333333333,
             "#9c179e"
            ],
            [
             0.4444444444444444,
             "#bd3786"
            ],
            [
             0.5555555555555556,
             "#d8576b"
            ],
            [
             0.6666666666666666,
             "#ed7953"
            ],
            [
             0.7777777777777778,
             "#fb9f3a"
            ],
            [
             0.8888888888888888,
             "#fdca26"
            ],
            [
             1,
             "#f0f921"
            ]
           ]
          },
          "colorway": [
           "#636efa",
           "#EF553B",
           "#00cc96",
           "#ab63fa",
           "#FFA15A",
           "#19d3f3",
           "#FF6692",
           "#B6E880",
           "#FF97FF",
           "#FECB52"
          ],
          "font": {
           "color": "#2a3f5f"
          },
          "geo": {
           "bgcolor": "white",
           "lakecolor": "white",
           "landcolor": "#E5ECF6",
           "showlakes": true,
           "showland": true,
           "subunitcolor": "white"
          },
          "hoverlabel": {
           "align": "left"
          },
          "hovermode": "closest",
          "mapbox": {
           "style": "light"
          },
          "paper_bgcolor": "white",
          "plot_bgcolor": "#E5ECF6",
          "polar": {
           "angularaxis": {
            "gridcolor": "white",
            "linecolor": "white",
            "ticks": ""
           },
           "bgcolor": "#E5ECF6",
           "radialaxis": {
            "gridcolor": "white",
            "linecolor": "white",
            "ticks": ""
           }
          },
          "scene": {
           "xaxis": {
            "backgroundcolor": "#E5ECF6",
            "gridcolor": "white",
            "gridwidth": 2,
            "linecolor": "white",
            "showbackground": true,
            "ticks": "",
            "zerolinecolor": "white"
           },
           "yaxis": {
            "backgroundcolor": "#E5ECF6",
            "gridcolor": "white",
            "gridwidth": 2,
            "linecolor": "white",
            "showbackground": true,
            "ticks": "",
            "zerolinecolor": "white"
           },
           "zaxis": {
            "backgroundcolor": "#E5ECF6",
            "gridcolor": "white",
            "gridwidth": 2,
            "linecolor": "white",
            "showbackground": true,
            "ticks": "",
            "zerolinecolor": "white"
           }
          },
          "shapedefaults": {
           "line": {
            "color": "#2a3f5f"
           }
          },
          "ternary": {
           "aaxis": {
            "gridcolor": "white",
            "linecolor": "white",
            "ticks": ""
           },
           "baxis": {
            "gridcolor": "white",
            "linecolor": "white",
            "ticks": ""
           },
           "bgcolor": "#E5ECF6",
           "caxis": {
            "gridcolor": "white",
            "linecolor": "white",
            "ticks": ""
           }
          },
          "title": {
           "x": 0.05
          },
          "xaxis": {
           "automargin": true,
           "gridcolor": "white",
           "linecolor": "white",
           "ticks": "",
           "title": {
            "standoff": 15
           },
           "zerolinecolor": "white",
           "zerolinewidth": 2
          },
          "yaxis": {
           "automargin": true,
           "gridcolor": "white",
           "linecolor": "white",
           "ticks": "",
           "title": {
            "standoff": 15
           },
           "zerolinecolor": "white",
           "zerolinewidth": 2
          }
         }
        },
        "title": {
         "text": "🔄 Interactive Distance Comparison: Sonar vs DVL"
        },
        "xaxis": {
         "anchor": "y",
         "domain": [
          0,
          1
         ],
         "showgrid": true,
         "title": {
          "text": "Time (seconds)"
         }
        },
        "yaxis": {
         "anchor": "x",
         "domain": [
          0,
          1
         ],
         "showgrid": true,
         "title": {
          "text": "Distance (meters)"
         }
        }
       }
      }
     },
     "metadata": {},
     "output_type": "display_data"
    }
   ],
   "source": [
    "try:\n",
    "    fig, comparison_stats = iau.interactive_distance_comparison(distance_results, raw_data, sonar_coverage_m=sonar_coverage_meters, sonar_image_size=image_shape[0])\n",
    "    if comparison_stats and isinstance(comparison_stats, dict) and 'error' in comparison_stats:\n",
    "        print('Comparison did not run:', comparison_stats['error'])\n",
    "    else:\n",
    "        print('\\nComparison stats summary:')\n",
    "        from pprint import pprint\n",
    "        pprint(comparison_stats)\n",
    "        # Display the interactive plot\n",
    "        fig.show()\n",
    "except Exception as e:\n",
    "    print('Error running interactive comparison:', e)"
   ]
  },
  {
   "cell_type": "code",
   "execution_count": 9,
   "id": "50f97352",
   "metadata": {},
   "outputs": [
    {
     "name": "stdout",
     "output_type": "stream",
     "text": [
      "🎬 GENERATING VIDEO WITH DUAL NET DISTANCE OVERLAYS\n",
      "============================================================\n",
      "🎯 Target Bag: 2024-08-22_14-47-39\n",
      "📊 DVL Data: 374 records\n",
      "📏 Sonar Analysis: 725 frames\n",
      "🎥 Camera: disabled\n",
      "🛠️ OPTIMIZED SONAR VIDEO\n",
      "======================================================================\n",
      "🎯 Target Bag: 2024-08-22_14-47-39\n",
      "   Cone Size: 900x700\n",
      "   Range: 0.0-5.0m | FOV: 120.0°\n",
      "   🎥 Camera: disabled\n",
      "   🕸  Net-line: enabled (dist tol=0.5s, pitch tol=2.0s)\n",
      "   📊 Sonar Analysis: enabled\n",
      "   Loading sonar data: sensor_sonoptix_echo_image__2024-08-22_14-47-39_video.csv\n",
      "   ✅ Loaded 726 sonar frames in 29.28s\n",
      "   ✅ Loaded 374 navigation records in 0.01s\n",
      "      Available: ['NetDistance', 'NetPitch', 'timestamp']\n",
      "   Frames: 1..725 (step 1) => 725\n",
      "   Natural FPS: 15.4\n",
      "   ✅ Loaded 726 sonar frames in 29.28s\n",
      "   ✅ Loaded 374 navigation records in 0.01s\n",
      "      Available: ['NetDistance', 'NetPitch', 'timestamp']\n",
      "   Frames: 1..725 (step 1) => 725\n",
      "   Natural FPS: 15.4\n",
      "\n",
      "🎉 DONE! Wrote 725 frames to /Volumes/LaCie/SOLAQUA/exports/videos/2024-08-22_14-47-39_optimized_sync_withsonar_20240822_144742_079270+0200.mp4 @ 15.43 FPS\n",
      "Metadata saved to: /Volumes/LaCie/SOLAQUA/exports/videos/2024-08-22_14-47-39_optimized_sync_withsonar_20240822_144742_079270+0200.mp4.meta.json\n",
      "\n",
      "✅ Video generated successfully!\n",
      "📁 Output: None\n",
      "\n",
      "🎉 DONE! Wrote 725 frames to /Volumes/LaCie/SOLAQUA/exports/videos/2024-08-22_14-47-39_optimized_sync_withsonar_20240822_144742_079270+0200.mp4 @ 15.43 FPS\n",
      "Metadata saved to: /Volumes/LaCie/SOLAQUA/exports/videos/2024-08-22_14-47-39_optimized_sync_withsonar_20240822_144742_079270+0200.mp4.meta.json\n",
      "\n",
      "✅ Video generated successfully!\n",
      "📁 Output: None\n"
     ]
    }
   ],
   "source": [
    "# 🎥 Generate Video with Both DVL and Sonar Analysis Overlays\n",
    "# ========================================================\n",
    "import utils.sonar_and_foto_generation as sg\n",
    "\n",
    "# Set up paths\n",
    "VIDEO_SEQ_DIR = None  # Set to path if you want camera footage included\n",
    "\n",
    "print(\"🎬 GENERATING VIDEO WITH DUAL NET DISTANCE OVERLAYS\")\n",
    "print(\"=\" * 60)\n",
    "print(f\"🎯 Target Bag: {TARGET_BAG}\")\n",
    "print(f\"📊 DVL Data: {len(raw_data.get('navigation', []))} records\")\n",
    "print(f\"📏 Sonar Analysis: {len(distance_results)} frames\")\n",
    "print(f\"🎥 Camera: {'enabled' if VIDEO_SEQ_DIR else 'disabled'}\")\n",
    "\n",
    "# Generate the video with both overlays\n",
    "try:\n",
    "    video_path = sg.export_optimized_sonar_video(\n",
    "        TARGET_BAG=TARGET_BAG,\n",
    "        EXPORTS_FOLDER=EXPORTS_FOLDER,\n",
    "        START_IDX=1,\n",
    "        END_IDX=1000,  # Adjust as needed\n",
    "        STRIDE=1,\n",
    "        VIDEO_SEQ_DIR=VIDEO_SEQ_DIR,\n",
    "        INCLUDE_NET=True,  # Enable DVL net distance overlay\n",
    "        SONAR_DISTANCE_RESULTS=distance_results,  # Enable sonar analysis overlay\n",
    "        NET_DISTANCE_TOLERANCE=0.5,\n",
    "        NET_PITCH_TOLERANCE=2.0,  # Increased from 0.3 to 2.0 seconds for better pitch sync\n",
    "    )\n",
    "    print(f\"\\n✅ Video generated successfully!\")\n",
    "    print(f\"📁 Output: {video_path}\")\n",
    "except Exception as e:\n",
    "    print(f\"❌ Error generating video: {e}\")"
   ]
  }
 ],
 "metadata": {
  "kernelspec": {
   "display_name": "venv",
   "language": "python",
   "name": "python3"
  },
  "language_info": {
   "codemirror_mode": {
    "name": "ipython",
    "version": 3
   },
   "file_extension": ".py",
   "mimetype": "text/x-python",
   "name": "python",
   "nbconvert_exporter": "python",
   "pygments_lexer": "ipython3",
   "version": "3.13.5"
  }
 },
 "nbformat": 4,
 "nbformat_minor": 5
}
