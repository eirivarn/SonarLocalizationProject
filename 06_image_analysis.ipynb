{
 "cells": [
  {
   "cell_type": "code",
   "execution_count": 1,
   "id": "7a8d02c0",
   "metadata": {},
   "outputs": [],
   "source": [
    "from pathlib import Path\n",
    "import utils.sonar_image_analysis as iau\n",
    "import importlib\n",
    "importlib.reload(iau)\n",
    "\n",
    "# Centralized sonar defaults (inserted by sweep)\n",
    "from utils.sonar_config import SONAR_VIS_DEFAULTS\n",
    "sonar_config = SONAR_VIS_DEFAULTS.copy()\n",
    "# Backwards-compatible variable names used in older notebooks\n",
    "RANGE_MIN_M = sonar_config['range_min_m']\n",
    "RANGE_MAX_M = sonar_config['range_max_m']\n",
    "DISPLAY_RANGE_MAX_M = sonar_config['display_range_max_m']"
   ]
  },
  {
   "cell_type": "markdown",
   "id": "9220eb1d",
   "metadata": {},
   "source": [
    "# Simple Image Analysis with CV2\n",
    "\n",
    "This notebook demonstrates:\n",
    "1. **Pick a frame** from NPZ files and save it locally\n",
    "2. **Use standard cv2 functions** directly for image processing\n",
    "3. **Experiment** with different OpenCV operations"
   ]
  },
  {
   "cell_type": "code",
   "execution_count": 2,
   "id": "4b3e8f46",
   "metadata": {},
   "outputs": [
    {
     "name": "stdout",
     "output_type": "stream",
     "text": [
      "Using DATA_DIR = /Volumes/LaCie/SOLAQUA/raw_data\n",
      "Selected NPZ file: 2024-08-20_14-31-29_data_cones.npz (index=8)\n"
     ]
    }
   ],
   "source": [
    "\n",
    "\n",
    "# Prefer selecting by bag ID (part of the NPZ filename) instead of a numeric index.\n",
    "# Set TARGET_BAG to a substring that appears in the NPZ filename \n",
    "# '2024-08-22_14-47-39'\n",
    "# '2024-08-22_14-29-05'\n",
    "# '2024-08-20_14-22-12'\n",
    "# '2024-08-20_14-31-29' HARD\n",
    "# '2024-08-20_18-47-40' EASY\n",
    "TARGET_BAG = '2024-08-20_14-31-29'  # change this to your desired bag ID\n",
    "from utils.sonar_config import EXPORTS_DIR_DEFAULT, EXPORTS_SUBDIRS\n",
    "EXPORTS_FOLDER = Path(EXPORTS_DIR_DEFAULT)\n",
    "\n",
    "# If you keep your raw .bag files or raw data on an external drive, point DATA_DIR there.\n",
    "# Example (your external disk): /Volumes/LaCie/SOLAQUA/raw_data\n",
    "DATA_DIR = Path(\"/Volumes/LaCie/SOLAQUA/raw_data\")\n",
    "print(f\"Using DATA_DIR = {DATA_DIR}\")\n",
    "\n",
    "# Find NPZ files and pick the one matching TARGET_BAG\n",
    "files = iau.get_available_npz_files()\n",
    "if not files:\n",
    "    raise FileNotFoundError(f\"No NPZ files found in configured exports outputs (looked under {EXPORTS_FOLDER / EXPORTS_SUBDIRS.get('outputs','outputs')})\")\n",
    "matches = [p for p in files if TARGET_BAG in p.name]\n",
    "if not matches:\n",
    "    # Help the user by listing available NPZ files\n",
    "    print(f'No NPZ file matched TARGET_BAG={TARGET_BAG!r}')\n",
    "    print('Available NPZ files:')\n",
    "    for i,p in enumerate(files):\n",
    "        print(f'  {i}: {p.name}')\n",
    "    raise ValueError(f'No NPZ file contains \"{TARGET_BAG}\" in its name')\n",
    "\n",
    "# If multiple matches, choose the most recently modified one\n",
    "selected = max(matches, key=lambda p: p.stat().st_mtime)\n",
    "NPZ_FILE_INDEX = files.index(selected)\n",
    "print(f'Selected NPZ file: {selected.name} (index={NPZ_FILE_INDEX})')"
   ]
  },
  {
   "cell_type": "markdown",
   "id": "0c65358c",
   "metadata": {},
   "source": [
    "## Distance Analysis Over Time\n",
    "\n",
    "Now let's perform a comprehensive analysis of the red line distance over time. The red line represents the major axis of the detected elongated contour (likely a fishing net), and we'll track how this distance changes throughout the video sequence."
   ]
  },
  {
   "cell_type": "code",
   "execution_count": 3,
   "id": "b9c5da85",
   "metadata": {},
   "outputs": [
    {
     "name": "stdout",
     "output_type": "stream",
     "text": [
      "=== ENHANCED VIDEO CREATION (Simplified) ===\n",
      "Creating video with simplified processor...\n",
      "Frames: 1500, step: 1\n"
     ]
    },
    {
     "name": "stdout",
     "output_type": "stream",
     "text": [
      "Processing 1059 frames with simplified processor...\n",
      "Processed 10/1059 frames\n",
      "Processed 20/1059 frames\n",
      "Processed 30/1059 frames\n",
      "Processed 40/1059 frames\n",
      "Processed 50/1059 frames\n",
      "Processed 60/1059 frames\n",
      "Processed 70/1059 frames\n",
      "Processed 80/1059 frames\n",
      "Processed 90/1059 frames\n",
      "Processed 100/1059 frames\n",
      "Processed 110/1059 frames\n",
      "Processed 120/1059 frames\n",
      "Processed 130/1059 frames\n",
      "Processed 140/1059 frames\n",
      "Processed 150/1059 frames\n",
      "Processed 160/1059 frames\n",
      "Processed 170/1059 frames\n",
      "Processed 180/1059 frames\n",
      "Processed 190/1059 frames\n",
      "Processed 200/1059 frames\n",
      "Processed 210/1059 frames\n",
      "Processed 220/1059 frames\n",
      "Processed 230/1059 frames\n",
      "Processed 240/1059 frames\n",
      "Processed 250/1059 frames\n",
      "Processed 260/1059 frames\n",
      "Processed 270/1059 frames\n",
      "Processed 280/1059 frames\n",
      "Processed 290/1059 frames\n",
      "Processed 300/1059 frames\n",
      "Processed 310/1059 frames\n",
      "Processed 320/1059 frames\n",
      "Processed 330/1059 frames\n",
      "Processed 340/1059 frames\n",
      "Processed 350/1059 frames\n",
      "Processed 360/1059 frames\n",
      "Processed 370/1059 frames\n",
      "Processed 380/1059 frames\n",
      "Processed 390/1059 frames\n",
      "Processed 400/1059 frames\n",
      "Processed 410/1059 frames\n",
      "Processed 420/1059 frames\n",
      "Processed 430/1059 frames\n",
      "Processed 440/1059 frames\n",
      "Processed 450/1059 frames\n",
      "Processed 460/1059 frames\n",
      "Processed 470/1059 frames\n",
      "Processed 480/1059 frames\n",
      "Processed 490/1059 frames\n",
      "Processed 500/1059 frames\n",
      "Processed 510/1059 frames\n",
      "Processed 520/1059 frames\n",
      "Processed 530/1059 frames\n",
      "Processed 540/1059 frames\n",
      "Processed 550/1059 frames\n",
      "Processed 560/1059 frames\n",
      "Processed 570/1059 frames\n",
      "Processed 580/1059 frames\n",
      "Processed 590/1059 frames\n",
      "Processed 600/1059 frames\n",
      "Processed 610/1059 frames\n",
      "Processed 620/1059 frames\n",
      "Processed 630/1059 frames\n",
      "Processed 640/1059 frames\n",
      "Processed 650/1059 frames\n",
      "Processed 660/1059 frames\n",
      "Processed 670/1059 frames\n",
      "Processed 680/1059 frames\n",
      "Processed 690/1059 frames\n",
      "Processed 700/1059 frames\n",
      "Processed 710/1059 frames\n",
      "Processed 720/1059 frames\n",
      "Processed 730/1059 frames\n",
      "Processed 740/1059 frames\n",
      "Processed 750/1059 frames\n",
      "Processed 760/1059 frames\n",
      "Processed 770/1059 frames\n",
      "Processed 780/1059 frames\n",
      "Processed 790/1059 frames\n",
      "Processed 800/1059 frames\n",
      "Processed 810/1059 frames\n",
      "Processed 820/1059 frames\n",
      "Processed 830/1059 frames\n",
      "Processed 840/1059 frames\n",
      "Processed 850/1059 frames\n",
      "Processed 860/1059 frames\n",
      "Processed 870/1059 frames\n",
      "Processed 880/1059 frames\n",
      "Processed 890/1059 frames\n",
      "Processed 900/1059 frames\n",
      "Processed 910/1059 frames\n",
      "Processed 920/1059 frames\n",
      "Processed 930/1059 frames\n",
      "Processed 940/1059 frames\n",
      "Processed 950/1059 frames\n",
      "Processed 960/1059 frames\n",
      "Processed 970/1059 frames\n",
      "Processed 980/1059 frames\n",
      "Processed 990/1059 frames\n",
      "Processed 1000/1059 frames\n",
      "Processed 1010/1059 frames\n",
      "Processed 1020/1059 frames\n",
      "Processed 1030/1059 frames\n",
      "Processed 1040/1059 frames\n",
      "Processed 1050/1059 frames\n",
      "\n",
      "=== ENHANCED VIDEO CREATION COMPLETE ===\n",
      "Video saved to: /Volumes/LaCie/SOLAQUA/exports/videos/core_aoi_tracking.mp4\n",
      "Video specs: 900x700, 15 fps, 1059 frames\n",
      "SIMPLIFIED TRACKING STATS:\n",
      "  - Total detected frames: 1059\n",
      "  - Lost/searching frames: 0\n",
      "  - Detection success rate: 100.0%\n"
     ]
    }
   ],
   "source": [
    "# Create the unified processor\n",
    "processor = iau.SonarDataProcessor()\n",
    "\n",
    "# Use the enhanced video creation with CORE processor\n",
    "video_path = iau.create_enhanced_contour_detection_video_with_processor(\n",
    "    npz_file_index=NPZ_FILE_INDEX,          # Which NPZ file to use\n",
    "    frame_start=1,           # Starting frame\n",
    "    frame_count=1500,         # Number of frames to process\n",
    "    frame_step=1,            # Step between frames\n",
    "    output_path=Path(EXPORTS_DIR_DEFAULT) / EXPORTS_SUBDIRS.get('videos','videos') / 'core_aoi_tracking.mp4',\n",
    "    processor=processor      # Use our CORE processor\n",
    ")"
   ]
  },
  {
   "cell_type": "code",
   "execution_count": 4,
   "id": "d9c0382e",
   "metadata": {},
   "outputs": [
    {
     "name": "stdout",
     "output_type": "stream",
     "text": [
      "=== DISTANCE ANALYSIS FROM NPZ ===\n",
      "Analyzing: /Volumes/LaCie/SOLAQUA/exports/outputs/2024-08-20_14-31-29_data_cones.npz\n",
      "Processing 1059 frames from 1 (step=1)\n",
      "  Processed 50/1059 frames (Success rate: 100.0%)\n",
      "  Processed 100/1059 frames (Success rate: 100.0%)\n",
      "  Processed 150/1059 frames (Success rate: 100.0%)\n",
      "  Processed 200/1059 frames (Success rate: 100.0%)\n",
      "  Processed 250/1059 frames (Success rate: 100.0%)\n",
      "  Processed 300/1059 frames (Success rate: 100.0%)\n",
      "  Processed 350/1059 frames (Success rate: 100.0%)\n",
      "  Processed 400/1059 frames (Success rate: 100.0%)\n",
      "  Processed 450/1059 frames (Success rate: 100.0%)\n",
      "  Processed 500/1059 frames (Success rate: 100.0%)\n",
      "  Processed 550/1059 frames (Success rate: 100.0%)\n",
      "  Processed 600/1059 frames (Success rate: 100.0%)\n",
      "  Processed 650/1059 frames (Success rate: 100.0%)\n",
      "  Processed 700/1059 frames (Success rate: 100.0%)\n",
      "  Processed 750/1059 frames (Success rate: 100.0%)\n",
      "  Processed 800/1059 frames (Success rate: 100.0%)\n",
      "  Processed 850/1059 frames (Success rate: 100.0%)\n",
      "  Processed 900/1059 frames (Success rate: 100.0%)\n",
      "  Processed 950/1059 frames (Success rate: 100.0%)\n",
      "  Processed 1000/1059 frames (Success rate: 100.0%)\n",
      "  Processed 1050/1059 frames (Success rate: 99.8%)\n",
      "\n",
      "=== ANALYSIS COMPLETE ===\n",
      "Total frames processed: 1059\n",
      "Successful detections: 1055 (99.6%)\n",
      "Distance statistics (meters):\n",
      "  - Mean: 2.020\n",
      "  - Std:  0.301\n",
      "  - Min:  1.583\n",
      "  - Max:  3.096\n",
      "  - Range: 1.513\n",
      "Analyzed 1059 frames using elliptical AOI\n",
      " Detection success rate: 99.6%\n",
      " Elliptical tracking active: 0 frames\n"
     ]
    }
   ],
   "source": [
    "engine = iau.DistanceAnalysisEngine()\n",
    "distance_results = engine.analyze_npz_sequence(\n",
    "    npz_file_index=NPZ_FILE_INDEX,    \n",
    "    frame_start=1,        # Start from frame 1\n",
    "    frame_count=1500,      # Analyze all frames from the video\n",
    "    frame_step=1          # Every frame\n",
    ")\n",
    "\n",
    "print(f\"Analyzed {len(distance_results)} frames using elliptical AOI\")\n",
    "print(f\" Detection success rate: {distance_results['detection_success'].mean():.1%}\")\n",
    "print(f\" Elliptical tracking active: {(distance_results['tracking_status'].str.contains('ELLIPSE')).sum()} frames\")"
   ]
  },
  {
   "cell_type": "markdown",
   "id": "fede9d64",
   "metadata": {},
   "source": [
    "## Convert to Real-World Distances\n",
    "\n",
    "Now let's convert the pixel distances to real-world distances using the fact that the entire sonar image represents a 10x10 meter area."
   ]
  },
  {
   "cell_type": "code",
   "execution_count": 5,
   "id": "886897de",
   "metadata": {},
   "outputs": [
    {
     "name": "stdout",
     "output_type": "stream",
     "text": [
      "Detected NPZ extent: x=[-8.660,8.660] m, y=[0.000,10.000] m\n",
      "Image shape from NPZ: H=700, W=900\n",
      "meters/pixel: x=0.019245, y=0.014286, avg=0.016765\n",
      "Using pixels_to_meters_avg = 0.016765 m/px\n"
     ]
    }
   ],
   "source": [
    "# Auto-detect pixel->meter mapping from the selected NPZ (if available)\n",
    "try:\n",
    "    cones, ts, extent, meta = iau.load_cone_run_npz(selected)\n",
    "    T, H, W = cones.shape\n",
    "    x_min, x_max, y_min, y_max = extent\n",
    "    width_m = float(x_max - x_min)\n",
    "    height_m = float(y_max - y_min)\n",
    "    px2m_x = width_m / float(W)\n",
    "    px2m_y = height_m / float(H)\n",
    "    pixels_to_meters_avg = 0.5 * (px2m_x + px2m_y)\n",
    "    image_shape = (H, W)\n",
    "    sonar_coverage_meters = max(width_m, height_m)\n",
    "    print(f\"Detected NPZ extent: x=[{x_min:.3f},{x_max:.3f}] m, y=[{y_min:.3f},{y_max:.3f}] m\")\n",
    "    print(f\"Image shape from NPZ: H={H}, W={W}\")\n",
    "    print(f\"meters/pixel: x={px2m_x:.6f}, y={px2m_y:.6f}, avg={pixels_to_meters_avg:.6f}\")\n",
    "except Exception as e:\n",
    "    print(\"Could not read NPZ metadata:\", e)\n",
    "    print(\"Falling back to defaults from sonar_config.\")\n",
    "    from utils.sonar_config import CONE_H_DEFAULT, CONE_W_DEFAULT, DISPLAY_RANGE_MAX_M_DEFAULT\n",
    "    image_shape = (CONE_H_DEFAULT, CONE_W_DEFAULT)\n",
    "    sonar_coverage_meters = DISPLAY_RANGE_MAX_M_DEFAULT * 2  # approximate\n",
    "    pixels_to_meters_avg = sonar_coverage_meters / max(image_shape)\n",
    "    \n",
    "# Use the computed pixels_to_meters_avg in downstream analysis\n",
    "print(f\"Using pixels_to_meters_avg = {pixels_to_meters_avg:.6f} m/px\")"
   ]
  },
  {
   "cell_type": "code",
   "execution_count": 6,
   "id": "15d6238c",
   "metadata": {},
   "outputs": [
    {
     "data": {
      "application/vnd.plotly.v1+json": {
       "config": {
        "plotlyServerURL": "https://plot.ly"
       },
       "data": [
        {
         "line": {
          "color": "blue"
         },
         "mode": "lines+markers",
         "name": "Distance",
         "type": "scatter",
         "x": {
          "bdata": "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",
          "dtype": "i2"
         },
         "xaxis": "x",
         "y": {
          "bdata": "m8jhpQssA0Bj7QlUUzcDQG6ElD9w0AJAA4KqwucAA0A4uVv1xDIDQDyUKkJZFgNAv2F/CdLiAkAGaDceki0DQEe4NZNVDwNAzFgIb/SZAkDnemKfw3oCQNQE37s/CANAYQbrNoriAkDq0vz/dN8CQCdsFTb24wJAtCJq0PwJA0CZ9xxuNwEDQKStn6cA2AJAapNw4aT5AkCYr+Sdn/ECQPZAShtnxAJAcX5VQboSA0D+DytgZN4CQMaPSgobCwNAi8w+8o+wAkC9JI+NrSYDQNmdbQkLYgNAp/HKEmUgA0DwvEOFBssCQH3O5cAI/gJASamoplECA0C2qxNbldoCQFGYp8MV9AJAWYYNRrUmA0CE/M2NceUCQAcJSTqrgAJAbEsapsXqAkBgXNGbZTcCQD4u/xvi/gFAGTz87iEAAkDZ9mMkRZsBQM7yWeWUtwFADK7ZrNymAUDAVg0tyZwBQLYP2gubZAFAGRKl7HOGAUC0+KV5kYEBQHZZI9AykQFAT6ZM/O2vAUCOSSNMY9oBQA1Lqd/d4QFAj7veOHH9AUBWuZxP9RgCQI5vOa30NAJA8KC6519PAkAuw/yB2moCQJAJs7bqhwJAy+Lq/IuuAkCeGZwib8cCQLnXscok8gJA9sgv2nD7AkAqNk4S/PUCQHnCVihQGANApZW5Sb8oA0BDrXHAADcDQJuVYxGLPQNA/7/XKWQ1A0AMTGCxvTYDQCBuJVBqPANA7wRC05tBA0AhenFoxzEDQIL9879MNANAtTrisptDA0B+lJxjK10DQAwi9VnKiQNAVbRtea7BA0D8g6tYXysDQNp6STJsJANA4ZQCGKgfA0DpfpLJovgCQBUe1JjY/gJA97/zSdDrAkDtzcrQhNkCQCRJU3Nb2wJAI2aSJ5zSAkCAs/ekWsgCQEswvuPNsQJAuFqXc9yEAkCsc2Er06sCQJSePYBsYwJADXU2yF1OAkBOAC/3Jj0CQLaRcya4/gFA3HOzt5nqAUDQYrCX9b0BQO+EywnQnAFAWFqcHTKCAUDJQMDE7l4BQJrvBjogKAFABBuL7tgUAUDkYSPD8uEAQBkh/piyxgBAtCAQRFiiAEALvd2WUYMAQKM1o4NYcQBAPsboBgtVAEAkGY3h8T4AQB2b9i0iJgBAR0KJSHMRAEBXBDnnvfz/Pyj61ZAS2P8/F0jcw9+t/z/tMHiDEpD/PzP6xu64df8/M5i5qwFq/z/hRCGg/U3/P0XP+nwmSv8/LTWyL2Q8/z8s+6WdfC7/P4WtnuiCF/8/+vPzBWEO/z9vtbOZHPT+P8U9bQhc5/4/Umyfeee8/j8YSoQ+BrP+P+o6D9Pbp/4/26H5/l2W/j/44Bqcx4b+PzHd8WZ7ef4/pKvBdqBn/j8inBZt0lj+PyYpQXvOSP4/ifNmxeZa/j9OJuweoFb+P5B+E1qGR/4/qK6/deRV/j/YfgPJ5Ub+P8JEUkkNV/4/vlzaPMNR/j9+nvovWVz+Py2f3zuMff4/8zsVOFp2/j/4BFn3ZVb+P4IomkGwVP4/OgDrq/FR/j9UhNEGV1b+P1i7xln1U/4/h9Vx4odP/j8WcKR3sCb+PxlPQtgRKv4/saLZQwRA/j+s3K8WsD7+P2objq4IPv4/0ki7N1cs/j8xIFw40R/+P6+KRs4kDf4/rfhXPRwh/j+WToWIbif+Pw2CEjjgSP4/gsVbKQk9/j8YVMM9FDL+PyKN1gpyMP4/S+jIrmcp/j/Qe9FegDP+P3pP9JKeLv4/LVCuE1c7/j+6aP/GI0P+P6QF29AURP4/AzRDnw1T/j/H1R5ARm3+P2guzn2VeP4//osRy8Kb/j8CrUbQvaj+P4KkkTrtvv4/UNclycjH/j8viZMNndv+P9Roj/ls6f4/kGs3Dx3y/j9odK+QXAH/P9t7lKE2DP8/6HUJjhMj/z9AtlslRjr/P205aafBQv8/ovQeRiRG/z9ztYCHwEz/P603wtycZv8/bKkwbFiJ/z8+NGnLzKD/Pyg5Ath+hP8/gubvUqyH/z+1iUprdpD/Pw7A950I3f8/H++XEKe0/z8sLEn1JKj/P/qQMJVbq/8/+GBQ5Tml/z9hVVSVTrD/PzdzoM3oxf8/VBD5nPDI/z8dT7sbEuD/P6qt7vue2/8/9+7BkcPr/z+ZuNx5bQUAQK3waEBgAgBAbM3FUoEKAEAhglrX6QYAQOpW2ftyBABAOAlt10UEAEDZuhhyxfL/P7p5H52l9v8/LOSzpbP7/z9Q0KMxdvj/PxRopuUO8f8/ZmiY7izh/z+3oIAL8c//P/w1vI/Azv8/caqcMYvP/z+sC5akl9D/Pzyxzb/A1v8/Ek5dHDrf/z/H/zF/IcT/P9Dv41qJyf8/KFTr4NnD/z9Aa1M6m83/P195Gpr8qv8/1mrBGv6W/z+t/aTSUp//P9YQjJi7lP8/i8dC53mT/z9SZCNfnon/P606jzpZev8/ALe4mUpp/z+Q5ExKEVP/P1Y5YNJfTP8/Oj47eAgk/z/LYifRbwT/P3rbzeQc6P4/M4A/J0zA/j9DjzFD/6n+Py2qNGTtjv4/vMq+1mVU/j/be32sRDP+P+jktGm4Hf4/M6SWIj4Q/j8HvOfGTBD+P2YQ4sGo5v0/wpbamI+7/T/FDXNnUqn9PyTtb945ef0/R45NA/tO/T/gRmSpwz39P5XVkju2GP0/qhrieq4A/T8ts8B8TN/8P09CN3RGuvw/ATq8Z26c/D+DdkT793H8Pw8ieDN2Qvw/KY9pE0Yd/D81f8PENRD8PzQErtkN+vs/bKrpmw7m+z/ccuWoI8/7Pxm+cnsptfs/QRJmOAu9+z97V7O8p6n7P5HO/xHynPs/WPF3Vd+B+z+8/u97fn/7P8RLeLSegPs/iJ40h3Fl+z/1+ki2aUn7P2KN6N1UN/s//9fDRAwW+z8cMEjqMv36PwJ17G5+5vo/+YWw47nM+j8Mh63RO7r6P3zhry0OxPo/rF1kOY+2+j8ACV4PDKb6P+LxaniioPo/Jae9S5OE+j+ZMDAx3Zb6P1yYEamsefo/qQXDR/xf+j8i2gHp9Ub6P8MzgfXtM/o/lMRUEKpQ+j9MsEQ+uVv6P7jf2PN+Qvo/B5Kfg+8y+j/7V655wCH6P0nsDI39Gfo/y817bWIp+j+hxLZTqkz6P3UBcI3OHfo/vWaw20EE+j8Y2dLCCQr6P3NYJYzy6Pk/9fvUdPfZ+T9m+j2HUMr5PxXwYNPUwPk/uwNVMoK7+T+2bkM1pbD5P00g9Fbpo/k/jYkPaBKg+T+zUuuO7575PzftOJIrnPk/TnplYjGg+T+z8zVqJqH5P2X7DvHbkvk/h5MmEnqP+T8LOQEHb4b5PyoXr/OSePk/YTKcGF9d+T/bnIQ2S1T5P+vTxUo3YPk/P4H86wxt+T9vtH1u4mj5PwBHxXUBc/k/wE80trtv+T/vqx0poHf5P7IKg0pVhPk/VRozzPSI+T/GbstZw5D5P1ZK2w5Fnvk/72ojJTiq+T+vZSoSd8n5P+3YTFG13fk/sJ36AHDS+T8TgbK0LsT5PxIBBkAkwfk/E31ldp3U+T9eOCXTFt35P/e6WN6b7Pk/UoFtA8T4+T9vl2T6cPf5PxDDhn6jBfo/OKHTMvIV+j9rVWVxtiH6P4LpL/ZTKvo/6NuMloM1+j8lmkGufCv6PzL+OVd+L/o/iZlCE4w8+j9xHEHiUk/6PxdTClNDSPo/OY8dHnBI+j+tCGKRjlL6P+lF07aFWfo/joOX5zle+j+aAG155Gj6P8qDyfFPePo/3GHIZqqJ+j/WOYFbYo/6P+ma/tHrh/o/e6wFa8+P+j+tIOW/GKD6P3r79FoCovo/X1PjcmS0+j+p2g0KKsX6P02zlR0Dy/o/nyn0CyzE+j9yuddkGrz6P/AjCVwoufo/KGz/Gb28+j+mQGSQ2L36P9eVOorswvo/bTTDsyPM+j/tORnib976P5Sj1g7o1Po/3ALflNTK+j/IxIc/4rz6P2OvQu2Ysfo/qjwPnSOp+j8q2EVltrH6PyUvKqJqrvo/JAbLA9O/+j+JpaCnc836P/OJ/Rejz/o/JkIp48n0+j8WqA6/fez6P9p6Wf3N3Po/b25yPVrJ+j9yz59Dq776Pxh+GdoFyPo/NITV6Qjc+j8PXgEYMtn6P6SpS3JQ8fo/o8jZv6/0+j96AH8Wxvn6PyOHcZFKBvs/x2S8KeEc+z/ONHcXkTj7P5HT5psoS/s/YBwfNaBV+z8lfKyfZHD7P0KxmNMMe/s/geZzsPd++z+YYJqPoZL7P7UFFqlQpfs/O5loubK2+z9TLhJZ2Lr7PzW5nf6f0vs/whaC1JrO+z/cVOiAEc/7PxhT4aJf3fs/1BbBD8zn+z9N3ncaD/n7P/M15uvF/Ps/Aw6+8xIG/D+pqHKplgb8P6T5wGzk/fs/eNI56AsB/D8XAshtKAL8P2WVIkIMCvw/t3doEfkW/D/b80rzpyH8P11ng+KbJ/w/LdTYdDsx/D9es23S6ir8P5dUk0EHM/w/t/nO3TE1/D81VkFyRDX8P0FCsLv9P/w/OO5iT2lP/D/5/fVUGJv8PxS81nb5i/w/OiOanCWG/D+rFpI/7Xf8P+bmpFPBfPw/z2cjdcOD/D81z6fjF3X8Px7jL5LycPw/xM4Lmml2/D8ST5XQfXD8P34FoxWca/w/k12nL1xl/D/ilBtvTnT8Pz2l1NQqivw/FK/okLSz/D/5Eg8Lt/X8P4RTRUOjvvw/cypC/TbK/D/2FRKE0dX8P19/Dctq8/w/xLTn43AO/T+t17bYxQz9PxFQL/EWGP0/PmToKfFI/T/Lim6CsY/9PxbgCgQ/nP0/8TQOgiJd/T8fEgCgXlr9P7za65Dwj/0/Fs57k1G1/T938DDJpIL9P5KF6yzUev0/Xaf/q8xt/T966tVkFXn9PxDUnwtSnf0/bT1Qz7/H/T/oJ866Bwv+Pxu7sMAW0v0/JHZ9/ngB/j8ilEVxiRn+P2L30LpAM/4/oQmElIsh/j/YnsnaFBb+P+YDTdvcK/4/5tVht7VG/j+D8tNQpU/+P1LxXjmubP4/da0wDLVu/j/YIfgTAJv+PxjfEmm0qf4/Bc6+x1G1/j/iRMsfoeD+P6yyCJc59P4/aPtSAogC/z/t8Kwa1BH/P6qOd71YFv8/ekYDBtkd/z8XAgiE0/r+P93iIH7nL/8/S8OXSzQo/z9SzCqdE/3+P7MnhuQdLv8/vqgF2jsp/z/CR5QBYD7/P8CgFtsmNv8/EKYgbb0m/z/4EG4LGi7/P1JPIQmaG/8/yb/RQEcH/z8D+ECLn13/P631g/gZW/8/YniJhX8d/z8DCDGhBE//P98LoXeEQv8/pnSqeXsm/z/scl1pM6P/P8Wr6vIUHv8/VwySK6xX/z8hgmBWagT/P9ZlnjrPRP8/yWh2QKBU/z9SVl4uKRL/PzdMDBVJzP4//PdD5tnc/j+zaEWBs9T+Pzh5OeKYJv8/lm2GowUl/z9fPi7wbk7/Pw65mmVCXv8/FzkC2cwp/z/LEBjHTBH/P9su57Z06f4/C8IZCkcU/z/Y+QJ9z9T+PwO1bRpmcf8/m0RIyYJa/z9Qe029oFH/P4Xqum96bf8/7SBluuNU/z8mmyzfQ1L/P6rEHR1tQP8/kHhYo9Uv/z/WdKoV8m7/P5uxgMwVLv8/fjF6Jxk5/z9UerBYlCr/P4vnauJhNP8/uvL2BOg3/z/LtwEVcTn/P3PCFxFPL/8/PG9PZZVL/z/Zfzd42Fv/P7yEBDXKc/8/uB3GbUdl/z/m0MckboP/P7UJFdhqkP8/sSLGSZd//z83t9rpkXv/P0MO4ubdjv8/DUixZuey/z/NVEsI6ZD/P4JSSphIpf8/+LCVWLqi/z+FHxlZZ6n/PxQjOAMqsP8/uOAPQpza/z/hgt/RyM3/PwdreSlq0/8/cci82R7j/z8HyP5sCuH/Pw3kgHfF9P8/zhju8eXo/z/UwIl+0uX/P0OC6DuF6/8/WfR0ygf2/z8gmVosYAUAQIQwNhf8DQBAxBMTivEXAEB14EO93x0AQK5ZP4zhHgBAhGrmrMYgAEAOOzhTohkAQJssidXuIgBA9wPWsS0aAEAAGJlfWB4AQPNfufLtIwBAcNG7zOkaAEBBm6z7xRkAQE4eallqGQBA5JlRq28dAEA3k6/ZPyEAQN1ifTsKJwBA8sOrqbckAEA4PkDGEi8AQLyJRKeJIwBAcsw0UfcoAEBz5ZME2ikAQNXqh1mZLwBAylARvgc6AECdSv38Qz8AQBY0yCDVTgBAP7YWII9cAED783hdQ1IAQPKCnURFTQBAII4YN3hFAEDkZrm8bEAAQDCxtiqCRQBAxYVHs4FEAEA7TB06XkEAQHbQAjJfQgBAeiyADAc4AEDEWy9FYTsAQHLFKc45SwBABkx+pls8AEC5p22SRywAQEhRW2gPPABArj87XzVMAECuCAuiGDgAQP0yuPlENQBAPIdgDGghAEDhdIEUuCwAQPRccgGnIwBAGSEsov8xAECU3OVpzywAQIWtyzl1JABAcnRqjhA2AECCFD14hTMAQCkstPsHLwBAOHb4ARQzAEBjMqsbcjIAQNBU7N4kNwBAnNUEhjwxAEDR48TBkTgAQIhFC33KLwBANLIeY8YVAEDnLD/HKiwAQM3Kvm33FABAoxGJ7SYjAEBABR1RwA4AQCZ0FZy8FgBA0ueHUvsZAECO9LRt5R0AQA7UzChBDQBAJpozqCEUAECflsSfXRoAQO5+KB9eGwBAk2I2ysImAECXjQVp6x8AQNh6Sc8LHQBAyMI11awhAEB1+SMqPigAQPi62JgZKgBAxAqJGgguAEB77hqmJzUAQO94p7bhJQBA8nbSeTAdAEA5p21bsDsAQKuP5Z4YHABAn3th+N8yAECWy3fGfigAQNeFMycJMwBAdNnr03lDAEDuQLujH00AQJ7+Q2QQMABAj+v6vc5FAEBv0CoFKkEAQN1dCavMVABA0CphqHBGAEDYueXt/TIAQOK+6xywSABATtNgX7hGAEBivg1HoSwAQHGpbRfMUgBAGfpD6oBRAEB/yU1dMU8AQMmcsEVsTABAA1ejwC40AEBctG30mjkAQIs6rreXPQBA24ga8JZFAEDV3t6oejoAQG0ZJKrKFgBAZr5CgZkIAEBR+FmPHQEAQKKF1A8eBgBA7/fhH4z3/z+8xV9lhxcAQECnX77GAwBAmT20NI3r/z+bVmyq/fH/P4vs9WO99v8/7CH4PHACAECoXBgIOR8AQAii/sExIABA0lTfmCcZAEDCL0gBz///PwcN4BLm3v8/BnaNHaALAEDHI/D/zOH/P0nxoNzA9f8/kIrK5VrR/z9NVFuyIQcAQHUlZKPPxP8/qhjuutRy/z91/NpRSbj/P9YuMVnAff8/ddqpIH5j/z8+UfdSUWT/Pzh8B6xvWP8/nWk8Wse4/z9XatMzHVL/P2oB3pPz0v4/OA+lEk/I/j/AbgpFDgb/P0BGtPAW0v4/Mdhojgrs/j/YD3sUc+D+P5Cp6Vhv2f4/wxS7Z8/K/j/WBhEa7Uv+P61srSCEaP4/CyGhGJcr/j9QJ+qO84D+P5J0nz7m6/0/7wslYCg0/j9ht2Al7iT+P8ArCE0dLv4/JNjnOdeX/T9x8G2ut6v9Pxu8WYPbaP4/dTxPHqTV/T/mohfAxOD9P8BMhsX7Ov4/vF7KmEwk/j9YblSywAD+P/f9aV/v4v0/cbEwq7qA/T91zClkxxr+P36adTrQ6v0/GDmdOL0K/j++CU7t+Eb+Pz7l14TKBP4/AymFdC1N/j8dlKzNPTX+P8dMTK1nUf4/HYEfaR01/j+ijK35s5z+P7VqzWQgrP4/r5yy4vxT/j9LLaYBe27+Pyw3uf2Olf4/Dtvpc7LL/j8qubbzav3+P/MQPy0drv4/YTDBvGSP/j/+LtopgMj+P2ppjCHh0v4/dWFIZUaz/j+q10AAhrb+P4UCBTHls/4/xbOidE8N/z9zEknG3P3+PzfZvZIlDP8/c9uuKuE6/z9HW9Zc6V//P9fvGZUxYv8/jZ0NrOS0/z/S8nUpHYD/P/cSv+28aP8/pA4LUspu/z/HyVZtnrT/P2h81Du+Xf8/2dfL7Vl8/z+493VjlnD/P9YOWN8qe/8/QDBBiDfB/z8f5dk+Zpv/Pw5N5Ml3S/8/XObvV3gZAEAY+KG21kkAQJ7AEEwEEQBA9NAwyzgEAECJeQGpx1kAQIKAfvbtcgBABvR1OHyAAEDO4AAQQHIAQPSIMsSXXABAaoLDushxAEBJHm3LsKgAQJxhWzWrogBAic8ZKfiJAEBqzTM7GeQAQJwpBLPVdgBAZMYY65LDAEAFiJMvJtUAQIMzvoKE+QBA6wzwmfeuAEAwVXyfgKYAQE0g9esx0QBA61vYMdjVAEC5gdY6lTUBQBWqJ8V3KQFAzKBcUNu3AEDHucz8qAEBQLWCE34U+ABAXsSTW7XoAEB5m3AfIcsAQIvCXbLjwgBAMMkboQwnAUB+Ei1gWwkBQE4j+XrqowBA5mWAF1lbAECSPP+wWKAAQECdWIVdngBAomg40DCGAEDE8JVPUXYAQBabyzo0ewBAfcG3R4TtAEBMnGpLAbsAQMITettejv8/LogURTYmAEDKwXBS+IAAQO0C/scbagBAjjGKQJ0FAUCoSshJFlgAQIRCr9Eu0wBAAHNOFnh0AEC3+0GtyFEAQE3tNJT4wv8/igf6iQsSAEA2kXKNU0MAQCsh6/6MOQBAYVyIvFyHAEDWvelYeW4AQDwQc1nHIgBAMx8oNUm0AEDPRJBO8mcBQIOqOHwuzv4/n5/DV56bAEDo5cditLMAQKex3sTJewBARE7GTBeWAEDDPsVJCL3+P9av1zZvQgBAI39PwZxqAECki30IaJAAQI5DBOTYlQBAfU2Ji1lUAEAkd4cKA0UAQMYnoxexAABAs1AvFcmj/j/sXcxL/ZcAQDJe/O7/YgBAP5VEHmEdAEBjn3fZXCQAQJ0pPcQNZQBAQ4qaqJBjAEAvD5tzl87+P8vgcoHJyQBADTHEy5guAUASD5fvQ0AAQGqPGHVflwBA1JG6Sf0ZAUD14oFML08BQE7lite+xQBAIwD8gV+FAUAZ181CTW4AQF50SY5NVwBADuLjHlV8AEAUlzHkJ20AQHp2Z/MHSQBA7iRwr/tIAED4n6tliD0AQDFaaC+kQABABCrI4yBeAEAO/njcbUMAQHcdgOL8VwBAKdJonuo5AEB1309nGz4AQJeR65BFnP8/RykmKe7r/z/C0GHIGeP/P2yu2bjLAgBA0gysF7Mk/j++s1DOtlb+P2Hh8/tfLQBAAiDWlCcD/z+su6H6urL+P0k5tIMptf4/pLPVxuBQ/j9AJzHOTOT/P/gnTGeRY/8/KskZJM5l/j8q+FbzS4T+PyFRPiv3AgBAps9mEZ7n/T/xAfK6owP+P7fSM17opf0/xRm32a6o/j+mvnaw9UP+P6LRctwT4/4/HQTgU9L6/j8hTrwMqpH+P4Buc6rLc/0/6H7+ZJeG/T9N9euXZWH7P7j/NMjPf/4/ELh2QQiP/T+7YzLakDn8P0YabMZvwPw/bEsx2T2L/j9m0kPdW878P9CGK/ijUv4/mhFKheuh/D+v3WkV9N78P3j4kBj/zfs/SnzkA6xC+z/YcqeXXBD7P0Vz5xuMhvw/ZjJi23Yq/D9KqkriX4D8PwRlwUddkfs/WCH0ezRt+z8dGW4osO77Pz5K8uiAu/0/uHB+u0jr/D/Igx0ONP78P08+unsxzPw/qmhP9RYb/T+S6saEatT8P6aOkPySI/0//09NSmaW/D8U1hUudin8P2iaLvfVmPw/phgaNpnj/T9QpFFwKVL+P4PgBIV3Wv0/w4zROueF/T/+VcyeImb9P/MDnvJPjv0/odKdTGox/T+FLyrqOuT9P3dSFibPTP4/QPeUhZFv/z+mCpmIe+D9P1mwX9jfdf4/9TRu6d9w/T/67qpWW+8AQC/lOYPl8P0/912ZietK/j8Qu+3f/ogAQI75Q4CF3AFAWpoyPqMzAEBJ88d07u7+PzyMlJfILf4/hO+L7VdoAEA0MepdO2IAQPGOSAAcgQBA5s7EusebAEAbuBZhYKb/P6BTxIg8DgFA6NvggZY9AEA0wYvYyrUAQFnVDAod5wBAhRQbwrAAAUBEwP3CkYIBQFCZuddRrgBAhOPC0TeSAUBFtwKPhVsBQLk2BJnTEQFAPgeLMaZ1AUDQ8+v/6ikBQAwi8+rw1gFAEtTxeE1qAkC70ati7VQDQA4lZMzLuAJA/eOPEPedAkDmkPs0mtwCQJkwjfVJoQNAEwZZy3UpA0DudZeY6DQDQNhyvNPTGgNAI9eeaZsSBECt7uzc6UADQBWOOiR1cQRAg2nxkVAoAkBHyIpNLhMDQJgO0QGr7AJACmmq5RzhA0CgV9Esdu0BQFuC4Vu5kgFAMDWHd+rwAUCqO3F7fEECQDmzIlznmgJAVylxwUUiA0AdPlK9PGkDQFm2apHMtQNAanIr8U3TA0Bw9iK7YigEQAVvMBjVNgRAF9XadRB1BEBxSEg9Q8MEQO9lAtl+pwRA1A9Pq0NIBUBrP5oGKr4FQPr0RUKXfgVAVuxVhKGHBUDPvQclUwIGQJngD+qRYQZAYEkfWNt9BkC47NMd0YsGQLbpeH0SdgZAWuYlkzyUBkDa8HutGXgGQNfOIjvaewZAafNrzf7ECED+oog2c5oIQEcvj+uGfghAG9jSoexXBkCUWMYS4XgGQLwx0ZP6VAZAZGnZIa13BkAYcm/2FZ4GQOHABUt4vAZAo9+Mqs7VBkAjjjBmfbYGQHnxgpfA+AZAP+ODoIJmB0BC0eTFHyIHQACAxMCcFwdA1eMbsWtAB0BHYaznIRQHQNn9Wn/iLgdAqMeURe8LB0Dkzee/WAsHQIEVdYTbDAdAlKzSg14XB0C/ZpSlgyQHQEhZhLCiOAdAixrXg3NKB0BwQD2r7UgHQKNm2Ly7LQdA6d2XheVMB0DrwWKbpHgHQHr+MM/XDwdAKTbgTvd0B0BtxkwRdB8HQFh5l5t7JQdAF1uTiDPdB0BhvNZBNvEHQKikQ8+WjwdAeqPOTEibB0Dw8eGS5KsHQEgcRY9cywdA6JfGQliiB0DG+U7ti9wHQFW+ska32gdASOiqJFnOB0B8LSxvaOAHQD5DgK2wXwhAwpDBl8FwCEC5ZLCCBkoIQH9FMTe2tQhAwyd+NlFaCECceiJWHzMIQFCgj76zdAhAAy+rix1zCEBsVGR1B8AIQA==",
          "dtype": "f8"
         },
         "yaxis": "y"
        },
        {
         "line": {
          "color": "green"
         },
         "mode": "lines+markers",
         "name": "Distance over Time",
         "type": "scatter",
         "x": [
          "2024-08-20T12:31:31.621807575",
          "2024-08-20T12:31:31.681648731",
          "2024-08-20T12:31:31.742511034",
          "2024-08-20T12:31:31.818883181",
          "2024-08-20T12:31:31.874155045",
          "2024-08-20T12:31:31.937494755",
          "2024-08-20T12:31:31.999329090",
          "2024-08-20T12:31:32.063158035",
          "2024-08-20T12:31:32.130053520",
          "2024-08-20T12:31:32.191398144",
          "2024-08-20T12:31:32.254230738",
          "2024-08-20T12:31:32.318058729",
          "2024-08-20T12:31:32.395849943",
          "2024-08-20T12:31:32.445717096",
          "2024-08-20T12:31:32.511543512",
          "2024-08-20T12:31:32.576503515",
          "2024-08-20T12:31:32.637341022",
          "2024-08-20T12:31:32.702203035",
          "2024-08-20T12:31:32.768987656",
          "2024-08-20T12:31:32.829861403",
          "2024-08-20T12:31:32.894687653",
          "2024-08-20T12:31:32.962601185",
          "2024-08-20T12:31:33.025435448",
          "2024-08-20T12:31:33.088264227",
          "2024-08-20T12:31:33.151147127",
          "2024-08-20T12:31:33.218916655",
          "2024-08-20T12:31:33.280750036",
          "2024-08-20T12:31:33.342585087",
          "2024-08-20T12:31:33.407411814",
          "2024-08-20T12:31:33.484754801",
          "2024-08-20T12:31:33.533624887",
          "2024-08-20T12:31:33.610753059",
          "2024-08-20T12:31:33.671589851",
          "2024-08-20T12:31:33.730820179",
          "2024-08-20T12:31:33.790660143",
          "2024-08-20T12:31:33.854523897",
          "2024-08-20T12:31:33.919317245",
          "2024-08-20T12:31:33.984568357",
          "2024-08-20T12:31:34.048381805",
          "2024-08-20T12:31:34.117199183",
          "2024-08-20T12:31:34.183008671",
          "2024-08-20T12:31:34.237861395",
          "2024-08-20T12:31:34.303685427",
          "2024-08-20T12:31:34.367515802",
          "2024-08-20T12:31:34.431509018",
          "2024-08-20T12:31:34.508416414",
          "2024-08-20T12:31:34.565290689",
          "2024-08-20T12:31:34.624107361",
          "2024-08-20T12:31:34.686995983",
          "2024-08-20T12:31:34.749772310",
          "2024-08-20T12:31:34.822613001",
          "2024-08-20T12:31:34.882473946",
          "2024-08-20T12:31:34.943256378",
          "2024-08-20T12:31:35.006085634",
          "2024-08-20T12:31:35.075951576",
          "2024-08-20T12:31:35.139728308",
          "2024-08-20T12:31:35.197573662",
          "2024-08-20T12:31:35.264425278",
          "2024-08-20T12:31:35.328751326",
          "2024-08-20T12:31:35.404547215",
          "2024-08-20T12:31:35.454563379",
          "2024-08-20T12:31:35.522747992",
          "2024-08-20T12:31:35.597547531",
          "2024-08-20T12:31:35.666362762",
          "2024-08-20T12:31:35.716230869",
          "2024-08-20T12:31:35.779061317",
          "2024-08-20T12:31:35.839905977",
          "2024-08-20T12:31:35.902730942",
          "2024-08-20T12:31:35.968554974",
          "2024-08-20T12:31:36.034378290",
          "2024-08-20T12:31:36.146079779",
          "2024-08-20T12:31:36.202927351",
          "2024-08-20T12:31:36.253791808",
          "2024-08-20T12:31:36.310640812",
          "2024-08-20T12:31:36.362536430",
          "2024-08-20T12:31:36.415360451",
          "2024-08-20T12:31:36.612915516",
          "2024-08-20T12:31:36.629870653",
          "2024-08-20T12:31:36.686092138",
          "2024-08-20T12:31:36.731478691",
          "2024-08-20T12:31:36.792353392",
          "2024-08-20T12:31:36.835259199",
          "2024-08-20T12:31:36.882076502",
          "2024-08-20T12:31:36.930180311",
          "2024-08-20T12:31:36.995010138",
          "2024-08-20T12:31:37.057901382",
          "2024-08-20T12:31:37.120796442",
          "2024-08-20T12:31:37.190546751",
          "2024-08-20T12:31:37.245904446",
          "2024-08-20T12:31:37.310695887",
          "2024-08-20T12:31:37.375525713",
          "2024-08-20T12:31:37.443047285",
          "2024-08-20T12:31:37.501889229",
          "2024-08-20T12:31:37.570401907",
          "2024-08-20T12:31:37.634161472",
          "2024-08-20T12:31:37.698097229",
          "2024-08-20T12:31:37.760633230",
          "2024-08-20T12:31:37.822077274",
          "2024-08-20T12:31:37.890928745",
          "2024-08-20T12:31:37.950802088",
          "2024-08-20T12:31:38.016170025",
          "2024-08-20T12:31:38.079568386",
          "2024-08-20T12:31:38.144387484",
          "2024-08-20T12:31:38.206281900",
          "2024-08-20T12:31:38.272046804",
          "2024-08-20T12:31:38.335875273",
          "2024-08-20T12:31:38.399709225",
          "2024-08-20T12:31:38.464562416",
          "2024-08-20T12:31:38.526404619",
          "2024-08-20T12:31:38.595264912",
          "2024-08-20T12:31:38.654108047",
          "2024-08-20T12:31:38.719931841",
          "2024-08-20T12:31:38.783764362",
          "2024-08-20T12:31:38.857566357",
          "2024-08-20T12:31:38.911419630",
          "2024-08-20T12:31:38.976246357",
          "2024-08-20T12:31:39.042104006",
          "2024-08-20T12:31:39.101980925",
          "2024-08-20T12:31:39.166769743",
          "2024-08-20T12:31:39.232593060",
          "2024-08-20T12:31:39.297420025",
          "2024-08-20T12:31:39.361249447",
          "2024-08-20T12:31:39.423182011",
          "2024-08-20T12:31:39.490002155",
          "2024-08-20T12:31:39.549880981",
          "2024-08-20T12:31:39.614220381",
          "2024-08-20T12:31:39.680010796",
          "2024-08-20T12:31:39.748333454",
          "2024-08-20T12:31:39.812162876",
          "2024-08-20T12:31:39.877536774",
          "2024-08-20T12:31:40.073243380",
          "2024-08-20T12:31:40.086207151",
          "2024-08-20T12:31:40.148041010",
          "2024-08-20T12:31:40.191923618",
          "2024-08-20T12:31:40.237802505",
          "2024-08-20T12:31:40.300632715",
          "2024-08-20T12:31:40.345512867",
          "2024-08-20T12:31:40.391391993",
          "2024-08-20T12:31:40.451229811",
          "2024-08-20T12:31:40.517088412",
          "2024-08-20T12:31:40.581882000",
          "2024-08-20T12:31:40.639754295",
          "2024-08-20T12:31:40.703556538",
          "2024-08-20T12:31:40.769875050",
          "2024-08-20T12:31:40.833705902",
          "2024-08-20T12:31:40.910538912",
          "2024-08-20T12:31:40.974536657",
          "2024-08-20T12:31:41.029807091",
          "2024-08-20T12:31:41.085696697",
          "2024-08-20T12:31:41.153585434",
          "2024-08-20T12:31:41.224370241",
          "2024-08-20T12:31:41.289196968",
          "2024-08-20T12:31:41.349036694",
          "2024-08-20T12:31:41.405884266",
          "2024-08-20T12:31:41.472689152",
          "2024-08-20T12:31:41.540507078",
          "2024-08-20T12:31:41.601395369",
          "2024-08-20T12:31:41.668616772",
          "2024-08-20T12:31:41.727491379",
          "2024-08-20T12:31:41.791326761",
          "2024-08-20T12:31:41.859107018",
          "2024-08-20T12:31:41.926977396",
          "2024-08-20T12:31:41.982784510",
          "2024-08-20T12:31:42.058573484",
          "2024-08-20T12:31:42.111595631",
          "2024-08-20T12:31:42.179451942",
          "2024-08-20T12:31:42.239253283",
          "2024-08-20T12:31:42.305081129",
          "2024-08-20T12:31:42.369940758",
          "2024-08-20T12:31:42.492574692",
          "2024-08-20T12:31:42.547464371",
          "2024-08-20T12:31:42.607268095",
          "2024-08-20T12:31:42.656136990",
          "2024-08-20T12:31:42.714980364",
          "2024-08-20T12:31:42.763849974",
          "2024-08-20T12:31:42.821695328",
          "2024-08-20T12:31:42.879108429",
          "2024-08-20T12:31:42.943912029",
          "2024-08-20T12:31:43.009702921",
          "2024-08-20T12:31:43.071511984",
          "2024-08-20T12:31:43.133901834",
          "2024-08-20T12:31:43.203717709",
          "2024-08-20T12:31:43.261597157",
          "2024-08-20T12:31:43.326387167",
          "2024-08-20T12:31:43.394617081",
          "2024-08-20T12:31:43.464424372",
          "2024-08-20T12:31:43.518105029",
          "2024-08-20T12:31:43.583888292",
          "2024-08-20T12:31:43.646115065",
          "2024-08-20T12:31:43.712907553",
          "2024-08-20T12:31:43.773782730",
          "2024-08-20T12:31:43.840597391",
          "2024-08-20T12:31:43.906425953",
          "2024-08-20T12:31:43.967237234",
          "2024-08-20T12:31:44.030067205",
          "2024-08-20T12:31:44.103466988",
          "2024-08-20T12:31:44.162308455",
          "2024-08-20T12:31:44.223145008",
          "2024-08-20T12:31:44.291014671",
          "2024-08-20T12:31:44.349857092",
          "2024-08-20T12:31:44.415681124",
          "2024-08-20T12:31:44.479695797",
          "2024-08-20T12:31:44.542475224",
          "2024-08-20T12:31:44.613296270",
          "2024-08-20T12:31:44.672163725",
          "2024-08-20T12:31:44.734963417",
          "2024-08-20T12:31:44.800783157",
          "2024-08-20T12:31:44.875235319",
          "2024-08-20T12:31:44.934039116",
          "2024-08-20T12:31:44.991886139",
          "2024-08-20T12:31:45.054715633",
          "2024-08-20T12:31:45.123562574",
          "2024-08-20T12:31:45.184406042",
          "2024-08-20T12:31:45.253189325",
          "2024-08-20T12:31:45.314022064",
          "2024-08-20T12:31:45.391814232",
          "2024-08-20T12:31:45.503517866",
          "2024-08-20T12:31:45.563381672",
          "2024-08-20T12:31:45.625192165",
          "2024-08-20T12:31:45.689467907",
          "2024-08-20T12:31:45.743281364",
          "2024-08-20T12:31:45.799130917",
          "2024-08-20T12:31:45.849994183",
          "2024-08-20T12:31:45.911336899",
          "2024-08-20T12:31:45.973172188",
          "2024-08-20T12:31:46.031045198",
          "2024-08-20T12:31:46.077892065",
          "2024-08-20T12:31:46.141758204",
          "2024-08-20T12:31:46.209540129",
          "2024-08-20T12:31:46.271375179",
          "2024-08-20T12:31:46.336202383",
          "2024-08-20T12:31:46.402061224",
          "2024-08-20T12:31:46.463126421",
          "2024-08-20T12:31:46.525985479",
          "2024-08-20T12:31:46.593837023",
          "2024-08-20T12:31:46.663606167",
          "2024-08-20T12:31:46.721510649",
          "2024-08-20T12:31:46.782323599",
          "2024-08-20T12:31:46.850108624",
          "2024-08-20T12:31:46.921957970",
          "2024-08-20T12:31:46.977843285",
          "2024-08-20T12:31:47.038705826",
          "2024-08-20T12:31:47.102475882",
          "2024-08-20T12:31:47.169295788",
          "2024-08-20T12:31:47.230172157",
          "2024-08-20T12:31:47.304938078",
          "2024-08-20T12:31:47.368804932",
          "2024-08-20T12:31:47.427606583",
          "2024-08-20T12:31:47.491471767",
          "2024-08-20T12:31:47.555302143",
          "2024-08-20T12:31:47.623177528",
          "2024-08-20T12:31:47.811676741",
          "2024-08-20T12:31:47.827633619",
          "2024-08-20T12:31:47.877500534",
          "2024-08-20T12:31:47.938337326",
          "2024-08-20T12:31:47.984474659",
          "2024-08-20T12:31:48.027358532",
          "2024-08-20T12:31:48.088195324",
          "2024-08-20T12:31:48.136068344",
          "2024-08-20T12:31:48.191809654",
          "2024-08-20T12:31:48.256190538",
          "2024-08-20T12:31:48.321072102",
          "2024-08-20T12:31:48.382852077",
          "2024-08-20T12:31:48.445721865",
          "2024-08-20T12:31:48.511081219",
          "2024-08-20T12:31:48.576905251",
          "2024-08-20T12:31:48.638738394",
          "2024-08-20T12:31:48.701770544",
          "2024-08-20T12:31:48.774565697",
          "2024-08-20T12:31:48.831388712",
          "2024-08-20T12:31:48.893730640",
          "2024-08-20T12:31:48.961057901",
          "2024-08-20T12:31:49.028914213",
          "2024-08-20T12:31:49.090711117",
          "2024-08-20T12:31:49.154539824",
          "2024-08-20T12:31:49.213383436",
          "2024-08-20T12:31:49.279206991",
          "2024-08-20T12:31:49.345029116",
          "2024-08-20T12:31:49.405867100",
          "2024-08-20T12:31:49.473721266",
          "2024-08-20T12:31:49.545494080",
          "2024-08-20T12:31:49.602399588",
          "2024-08-20T12:31:49.663179159",
          "2024-08-20T12:31:49.729102612",
          "2024-08-20T12:31:49.791011810",
          "2024-08-20T12:31:49.853843212",
          "2024-08-20T12:31:49.919657946",
          "2024-08-20T12:31:49.983487844",
          "2024-08-20T12:31:50.046319723",
          "2024-08-20T12:31:50.110692024",
          "2024-08-20T12:31:50.174520016",
          "2024-08-20T12:31:50.238417864",
          "2024-08-20T12:31:50.303511620",
          "2024-08-20T12:31:50.366343737",
          "2024-08-20T12:31:50.432175159",
          "2024-08-20T12:31:50.505977631",
          "2024-08-20T12:31:50.560830355",
          "2024-08-20T12:31:50.670942068",
          "2024-08-20T12:31:50.726747036",
          "2024-08-20T12:31:50.789601564",
          "2024-08-20T12:31:50.825510979",
          "2024-08-20T12:31:50.890295744",
          "2024-08-20T12:31:50.943155289",
          "2024-08-20T12:31:51.012972832",
          "2024-08-20T12:31:51.074837446",
          "2024-08-20T12:31:51.134642601",
          "2024-08-20T12:31:51.200467348",
          "2024-08-20T12:31:51.273272991",
          "2024-08-20T12:31:51.336102962",
          "2024-08-20T12:31:51.389957905",
          "2024-08-20T12:31:51.454820395",
          "2024-08-20T12:31:51.517674922",
          "2024-08-20T12:31:51.586463928",
          "2024-08-20T12:31:51.646686554",
          "2024-08-20T12:31:51.712054014",
          "2024-08-20T12:31:51.782867193",
          "2024-08-20T12:31:51.838715792",
          "2024-08-20T12:31:51.903051376",
          "2024-08-20T12:31:51.967877626",
          "2024-08-20T12:31:52.030061007",
          "2024-08-20T12:31:52.102158070",
          "2024-08-20T12:31:52.168978691",
          "2024-08-20T12:31:52.222800970",
          "2024-08-20T12:31:52.292626858",
          "2024-08-20T12:31:52.351458549",
          "2024-08-20T12:31:52.418277025",
          "2024-08-20T12:31:52.481150866",
          "2024-08-20T12:31:52.541553497",
          "2024-08-20T12:31:52.606345415",
          "2024-08-20T12:31:52.673228025",
          "2024-08-20T12:31:52.735998154",
          "2024-08-20T12:31:52.798882484",
          "2024-08-20T12:31:52.862711668",
          "2024-08-20T12:31:52.927570105",
          "2024-08-20T12:31:52.990370035",
          "2024-08-20T12:31:53.070696592",
          "2024-08-20T12:31:53.131572007",
          "2024-08-20T12:31:53.195363998",
          "2024-08-20T12:31:53.245267153",
          "2024-08-20T12:31:53.310670376",
          "2024-08-20T12:31:53.375495911",
          "2024-08-20T12:31:53.440849304",
          "2024-08-20T12:31:53.502685069",
          "2024-08-20T12:31:53.581473112",
          "2024-08-20T12:31:53.671237707",
          "2024-08-20T12:31:53.730012655",
          "2024-08-20T12:31:53.778313637",
          "2024-08-20T12:31:53.833030939",
          "2024-08-20T12:31:53.893876076",
          "2024-08-20T12:31:53.949759483",
          "2024-08-20T12:31:54.014583826",
          "2024-08-20T12:31:54.080477238",
          "2024-08-20T12:31:54.146250486",
          "2024-08-20T12:31:54.208119631",
          "2024-08-20T12:31:54.272945881",
          "2024-08-20T12:31:54.337438822",
          "2024-08-20T12:31:54.401267767",
          "2024-08-20T12:31:54.464104652",
          "2024-08-20T12:31:54.525992393",
          "2024-08-20T12:31:54.604726553",
          "2024-08-20T12:31:54.660574675",
          "2024-08-20T12:31:54.717456818",
          "2024-08-20T12:31:54.788233280",
          "2024-08-20T12:31:54.846078873",
          "2024-08-20T12:31:54.909790993",
          "2024-08-20T12:31:54.976554394",
          "2024-08-20T12:31:55.039385557",
          "2024-08-20T12:31:55.105245590",
          "2024-08-20T12:31:55.171085119",
          "2024-08-20T12:31:55.230873108",
          "2024-08-20T12:31:55.299697399",
          "2024-08-20T12:31:55.362556934",
          "2024-08-20T12:31:55.429852486",
          "2024-08-20T12:31:55.490688562",
          "2024-08-20T12:31:55.549531460",
          "2024-08-20T12:31:55.615355253",
          "2024-08-20T12:31:55.682177305",
          "2024-08-20T12:31:55.744011879",
          "2024-08-20T12:31:55.807841063",
          "2024-08-20T12:31:55.870673656",
          "2024-08-20T12:31:55.949462414",
          "2024-08-20T12:31:56.003352642",
          "2024-08-20T12:31:56.067021132",
          "2024-08-20T12:31:56.125862597",
          "2024-08-20T12:31:56.193681240",
          "2024-08-20T12:31:56.253522635",
          "2024-08-20T12:31:56.318383694",
          "2024-08-20T12:31:56.386166811",
          "2024-08-20T12:31:56.448000908",
          "2024-08-20T12:31:56.512829065",
          "2024-08-20T12:31:56.583638668",
          "2024-08-20T12:31:56.640494585",
          "2024-08-20T12:31:56.703325510",
          "2024-08-20T12:31:56.767193556",
          "2024-08-20T12:31:56.835482836",
          "2024-08-20T12:31:56.902304649",
          "2024-08-20T12:31:56.962438345",
          "2024-08-20T12:31:57.025873184",
          "2024-08-20T12:31:57.087665081",
          "2024-08-20T12:31:57.154531956",
          "2024-08-20T12:31:57.214373350",
          "2024-08-20T12:31:57.293160200",
          "2024-08-20T12:31:57.345025063",
          "2024-08-20T12:31:57.412839890",
          "2024-08-20T12:31:57.473701954",
          "2024-08-20T12:31:57.534539223",
          "2024-08-20T12:31:57.604353428",
          "2024-08-20T12:31:57.663195133",
          "2024-08-20T12:31:57.726027727",
          "2024-08-20T12:31:57.791850805",
          "2024-08-20T12:31:57.855682135",
          "2024-08-20T12:31:57.919509649",
          "2024-08-20T12:31:57.984847546",
          "2024-08-20T12:31:58.048672438",
          "2024-08-20T12:31:58.114497423",
          "2024-08-20T12:31:58.232179642",
          "2024-08-20T12:31:58.303023338",
          "2024-08-20T12:31:58.362874031",
          "2024-08-20T12:31:58.422821522",
          "2024-08-20T12:31:58.476673603",
          "2024-08-20T12:31:58.501605749",
          "2024-08-20T12:31:58.569931507",
          "2024-08-20T12:31:58.628283978",
          "2024-08-20T12:31:58.687161207",
          "2024-08-20T12:31:58.754455805",
          "2024-08-20T12:31:58.874644995",
          "2024-08-20T12:31:58.942510366",
          "2024-08-20T12:31:59.005335093",
          "2024-08-20T12:31:59.067801952",
          "2024-08-20T12:31:59.130631208",
          "2024-08-20T12:31:59.181493998",
          "2024-08-20T12:31:59.239844561",
          "2024-08-20T12:31:59.299728394",
          "2024-08-20T12:31:59.346602917",
          "2024-08-20T12:31:59.392479658",
          "2024-08-20T12:31:59.455312490",
          "2024-08-20T12:31:59.519181966",
          "2024-08-20T12:31:59.584981441",
          "2024-08-20T12:31:59.647796392",
          "2024-08-20T12:31:59.710932016",
          "2024-08-20T12:31:59.783735514",
          "2024-08-20T12:31:59.839586020",
          "2024-08-20T12:31:59.903450012",
          "2024-08-20T12:31:59.966248512",
          "2024-08-20T12:32:00.031110048",
          "2024-08-20T12:32:00.101887941",
          "2024-08-20T12:32:00.159729958",
          "2024-08-20T12:32:00.222562075",
          "2024-08-20T12:32:00.287391663",
          "2024-08-20T12:32:00.352120399",
          "2024-08-20T12:32:00.413935184",
          "2024-08-20T12:32:00.478729010",
          "2024-08-20T12:32:00.542225122",
          "2024-08-20T12:32:00.610045195",
          "2024-08-20T12:32:00.671614647",
          "2024-08-20T12:32:00.735095501",
          "2024-08-20T12:32:00.799942493",
          "2024-08-20T12:32:00.863315344",
          "2024-08-20T12:32:00.928106546",
          "2024-08-20T12:32:01.008890390",
          "2024-08-20T12:32:01.070760727",
          "2024-08-20T12:32:01.117598772",
          "2024-08-20T12:32:01.181464672",
          "2024-08-20T12:32:01.245420218",
          "2024-08-20T12:32:01.314198017",
          "2024-08-20T12:32:01.377030849",
          "2024-08-20T12:32:01.439896584",
          "2024-08-20T12:32:01.512666941",
          "2024-08-20T12:32:01.589461088",
          "2024-08-20T12:32:01.634341002",
          "2024-08-20T12:32:01.695178032",
          "2024-08-20T12:32:01.761003256",
          "2024-08-20T12:32:01.821839809",
          "2024-08-20T12:32:01.885703325",
          "2024-08-20T12:32:01.950496435",
          "2024-08-20T12:32:02.016355275",
          "2024-08-20T12:32:02.079560041",
          "2024-08-20T12:32:02.147934437",
          "2024-08-20T12:32:02.205846548",
          "2024-08-20T12:32:02.270641804",
          "2024-08-20T12:32:02.344480515",
          "2024-08-20T12:32:02.461406469",
          "2024-08-20T12:32:02.517229556",
          "2024-08-20T12:32:02.564082146",
          "2024-08-20T12:32:02.629870892",
          "2024-08-20T12:32:02.699684858",
          "2024-08-20T12:32:02.746571541",
          "2024-08-20T12:32:02.795462847",
          "2024-08-20T12:32:02.853273153",
          "2024-08-20T12:32:02.914112091",
          "2024-08-20T12:32:02.973954678",
          "2024-08-20T12:32:03.051743984",
          "2024-08-20T12:32:03.102615833",
          "2024-08-20T12:32:03.168430090",
          "2024-08-20T12:32:03.248250484",
          "2024-08-20T12:32:03.296088934",
          "2024-08-20T12:32:03.361934662",
          "2024-08-20T12:32:03.423750877",
          "2024-08-20T12:32:03.487687349",
          "2024-08-20T12:32:03.550518513",
          "2024-08-20T12:32:03.618339300",
          "2024-08-20T12:32:03.692140341",
          "2024-08-20T12:32:03.742039919",
          "2024-08-20T12:32:03.805836201",
          "2024-08-20T12:32:03.872937918",
          "2024-08-20T12:32:03.934771776",
          "2024-08-20T12:32:04.138708115",
          "2024-08-20T12:32:04.162652016",
          "2024-08-20T12:32:04.215462923",
          "2024-08-20T12:32:04.261340141",
          "2024-08-20T12:32:04.305223465",
          "2024-08-20T12:32:04.367092133",
          "2024-08-20T12:32:04.410940409",
          "2024-08-20T12:32:04.457854271",
          "2024-08-20T12:32:04.517654896",
          "2024-08-20T12:32:04.580527544",
          "2024-08-20T12:32:04.637335539",
          "2024-08-20T12:32:04.706151247",
          "2024-08-20T12:32:04.765990496",
          "2024-08-20T12:32:04.830850601",
          "2024-08-20T12:32:04.894646168",
          "2024-08-20T12:32:04.958475590",
          "2024-08-20T12:32:05.028358459",
          "2024-08-20T12:32:05.090869427",
          "2024-08-20T12:32:05.155694008",
          "2024-08-20T12:32:05.220520258",
          "2024-08-20T12:32:05.280360222",
          "2024-08-20T12:32:05.344203472",
          "2024-08-20T12:32:05.416617870",
          "2024-08-20T12:32:05.473434925",
          "2024-08-20T12:32:05.533270836",
          "2024-08-20T12:32:05.599692583",
          "2024-08-20T12:32:05.668574572",
          "2024-08-20T12:32:05.727350950",
          "2024-08-20T12:32:05.791183472",
          "2024-08-20T12:32:05.854014158",
          "2024-08-20T12:32:05.924823761",
          "2024-08-20T12:32:05.983665466",
          "2024-08-20T12:32:06.046497345",
          "2024-08-20T12:32:06.113318920",
          "2024-08-20T12:32:06.185126543",
          "2024-08-20T12:32:06.244966507",
          "2024-08-20T12:32:06.305804491",
          "2024-08-20T12:32:06.427478552",
          "2024-08-20T12:32:06.476348162",
          "2024-08-20T12:32:06.519232987",
          "2024-08-20T12:32:06.580214500",
          "2024-08-20T12:32:06.640358686",
          "2024-08-20T12:32:06.689215422",
          "2024-08-20T12:32:06.750109673",
          "2024-08-20T12:32:06.817869663",
          "2024-08-20T12:32:06.883101940",
          "2024-08-20T12:32:06.941977024",
          "2024-08-20T12:32:07.051910162",
          "2024-08-20T12:32:07.107870817",
          "2024-08-20T12:32:07.159778595",
          "2024-08-20T12:32:07.225763559",
          "2024-08-20T12:32:07.280441046",
          "2024-08-20T12:32:07.327314854",
          "2024-08-20T12:32:07.392040730",
          "2024-08-20T12:32:07.453844547",
          "2024-08-20T12:32:07.519663572",
          "2024-08-20T12:32:07.585496664",
          "2024-08-20T12:32:07.646383524",
          "2024-08-20T12:32:07.712150097",
          "2024-08-20T12:32:07.776016474",
          "2024-08-20T12:32:07.839809179",
          "2024-08-20T12:32:07.902639627",
          "2024-08-20T12:32:07.965471029",
          "2024-08-20T12:32:08.032032250",
          "2024-08-20T12:32:08.093867064",
          "2024-08-20T12:32:08.167701006",
          "2024-08-20T12:32:08.227540970",
          "2024-08-20T12:32:08.295396090",
          "2024-08-20T12:32:08.349215508",
          "2024-08-20T12:32:08.416072607",
          "2024-08-20T12:32:08.480871439",
          "2024-08-20T12:32:08.542946577",
          "2024-08-20T12:32:08.606839895",
          "2024-08-20T12:32:08.670669317",
          "2024-08-20T12:32:08.748494625",
          "2024-08-20T12:32:08.810294867",
          "2024-08-20T12:32:08.870174646",
          "2024-08-20T12:32:08.929901600",
          "2024-08-20T12:32:08.990741253",
          "2024-08-20T12:32:09.054567575",
          "2024-08-20T12:32:09.119748592",
          "2024-08-20T12:32:09.183618307",
          "2024-08-20T12:32:09.246409178",
          "2024-08-20T12:32:09.310237885",
          "2024-08-20T12:32:09.376274586",
          "2024-08-20T12:32:09.444119215",
          "2024-08-20T12:32:09.505930185",
          "2024-08-20T12:32:09.570753813",
          "2024-08-20T12:32:09.633613825",
          "2024-08-20T12:32:09.695421457",
          "2024-08-20T12:32:09.758251190",
          "2024-08-20T12:32:09.823078632",
          "2024-08-20T12:32:09.892893553",
          "2024-08-20T12:32:09.950737238",
          "2024-08-20T12:32:10.014777422",
          "2024-08-20T12:32:10.086585045",
          "2024-08-20T12:32:10.141972303",
          "2024-08-20T12:32:10.210790157",
          "2024-08-20T12:32:10.270623446",
          "2024-08-20T12:32:10.334451199",
          "2024-08-20T12:32:10.401107311",
          "2024-08-20T12:32:10.475941658",
          "2024-08-20T12:32:10.526770592",
          "2024-08-20T12:32:10.592339277",
          "2024-08-20T12:32:10.654148579",
          "2024-08-20T12:32:10.718975782",
          "2024-08-20T12:32:10.782802105",
          "2024-08-20T12:32:10.848627567",
          "2024-08-20T12:32:10.910460711",
          "2024-08-20T12:32:10.977282286",
          "2024-08-20T12:32:11.039152861",
          "2024-08-20T12:32:11.103947401",
          "2024-08-20T12:32:11.167773247",
          "2024-08-20T12:32:11.229755402",
          "2024-08-20T12:32:11.300566435",
          "2024-08-20T12:32:11.360479593",
          "2024-08-20T12:32:11.429301023",
          "2024-08-20T12:32:11.491092443",
          "2024-08-20T12:32:11.549935341",
          "2024-08-20T12:32:11.614765167",
          "2024-08-20T12:32:11.678591490",
          "2024-08-20T12:32:11.881561279",
          "2024-08-20T12:32:11.898514748",
          "2024-08-20T12:32:11.957359314",
          "2024-08-20T12:32:12.000243187",
          "2024-08-20T12:32:12.059998989",
          "2024-08-20T12:32:12.107871294",
          "2024-08-20T12:32:12.150756359",
          "2024-08-20T12:32:12.212984085",
          "2024-08-20T12:32:12.266843080",
          "2024-08-20T12:32:12.333659649",
          "2024-08-20T12:32:12.400614738",
          "2024-08-20T12:32:12.452477217",
          "2024-08-20T12:32:12.509835005",
          "2024-08-20T12:32:12.584639788",
          "2024-08-20T12:32:12.639522791",
          "2024-08-20T12:32:12.704347134",
          "2024-08-20T12:32:12.766216516",
          "2024-08-20T12:32:12.831049442",
          "2024-08-20T12:32:12.897837639",
          "2024-08-20T12:32:12.957735538",
          "2024-08-20T12:32:13.023500681",
          "2024-08-20T12:32:13.087365866",
          "2024-08-20T12:32:13.162170649",
          "2024-08-20T12:32:13.215023041",
          "2024-08-20T12:32:13.280812502",
          "2024-08-20T12:32:13.341650486",
          "2024-08-20T12:32:13.405478477",
          "2024-08-20T12:32:13.470162392",
          "2024-08-20T12:32:13.536520719",
          "2024-08-20T12:32:13.601319313",
          "2024-08-20T12:32:13.662052870",
          "2024-08-20T12:32:13.725847721",
          "2024-08-20T12:32:13.791673660",
          "2024-08-20T12:32:13.853515148",
          "2024-08-20T12:32:13.930917978",
          "2024-08-20T12:32:13.993786335",
          "2024-08-20T12:32:14.059574604",
          "2024-08-20T12:32:14.110471010",
          "2024-08-20T12:32:14.175262690",
          "2024-08-20T12:32:14.239600658",
          "2024-08-20T12:32:14.304803610",
          "2024-08-20T12:32:14.370627165",
          "2024-08-20T12:32:14.430467367",
          "2024-08-20T12:32:14.494708300",
          "2024-08-20T12:32:14.558565378",
          "2024-08-20T12:32:14.631342411",
          "2024-08-20T12:32:14.685559273",
          "2024-08-20T12:32:14.750857830",
          "2024-08-20T12:32:14.813715219",
          "2024-08-20T12:32:14.879512548",
          "2024-08-20T12:32:14.945337057",
          "2024-08-20T12:32:15.009166241",
          "2024-08-20T12:32:15.070513248",
          "2024-08-20T12:32:15.136845350",
          "2024-08-20T12:32:15.243623495",
          "2024-08-20T12:32:15.292493105",
          "2024-08-20T12:32:15.336418152",
          "2024-08-20T12:32:15.403240204",
          "2024-08-20T12:32:15.460046530",
          "2024-08-20T12:32:15.519924878",
          "2024-08-20T12:32:15.582721472",
          "2024-08-20T12:32:15.646606445",
          "2024-08-20T12:32:15.718358517",
          "2024-08-20T12:32:15.777199030",
          "2024-08-20T12:32:15.840064526",
          "2024-08-20T12:32:15.907848120",
          "2024-08-20T12:32:15.965693712",
          "2024-08-20T12:32:16.031555175",
          "2024-08-20T12:32:16.096345186",
          "2024-08-20T12:32:16.159226656",
          "2024-08-20T12:32:16.222518921",
          "2024-08-20T12:32:16.286342859",
          "2024-08-20T12:32:16.351169825",
          "2024-08-20T12:32:16.413003683",
          "2024-08-20T12:32:16.480856419",
          "2024-08-20T12:32:16.542655945",
          "2024-08-20T12:32:16.610476255",
          "2024-08-20T12:32:16.670314550",
          "2024-08-20T12:32:16.734145641",
          "2024-08-20T12:32:16.799000502",
          "2024-08-20T12:32:16.881431103",
          "2024-08-20T12:32:16.929389238",
          "2024-08-20T12:32:16.989288330",
          "2024-08-20T12:32:17.056051016",
          "2024-08-20T12:32:17.117888451",
          "2024-08-20T12:32:17.183228970",
          "2024-08-20T12:32:17.246451139",
          "2024-08-20T12:32:17.311335325",
          "2024-08-20T12:32:17.374109983",
          "2024-08-20T12:32:17.440968990",
          "2024-08-20T12:32:17.502764702",
          "2024-08-20T12:32:17.568790674",
          "2024-08-20T12:32:17.629988670",
          "2024-08-20T12:32:17.707792282",
          "2024-08-20T12:32:17.769598246",
          "2024-08-20T12:32:17.823451996",
          "2024-08-20T12:32:17.886348248",
          "2024-08-20T12:32:17.957094431",
          "2024-08-20T12:32:18.015938759",
          "2024-08-20T12:32:18.084788322",
          "2024-08-20T12:32:18.142599106",
          "2024-08-20T12:32:18.207425594",
          "2024-08-20T12:32:18.270257473",
          "2024-08-20T12:32:18.335122108",
          "2024-08-20T12:32:18.399975538",
          "2024-08-20T12:32:18.470842600",
          "2024-08-20T12:32:18.525648832",
          "2024-08-20T12:32:18.590513945",
          "2024-08-20T12:32:18.657296419",
          "2024-08-20T12:32:18.718192339",
          "2024-08-20T12:32:18.782960415",
          "2024-08-20T12:32:18.847694159",
          "2024-08-20T12:32:18.910487652",
          "2024-08-20T12:32:18.975023031",
          "2024-08-20T12:32:19.037863016",
          "2024-08-20T12:32:19.103645325",
          "2024-08-20T12:32:19.172459364",
          "2024-08-20T12:32:19.240307093",
          "2024-08-20T12:32:19.297124147",
          "2024-08-20T12:32:19.359956264",
          "2024-08-20T12:32:19.425780773",
          "2024-08-20T12:32:19.623049498",
          "2024-08-20T12:32:19.641996622",
          "2024-08-20T12:32:19.698847055",
          "2024-08-20T12:32:19.756545067",
          "2024-08-20T12:32:19.804416180",
          "2024-08-20T12:32:19.850294828",
          "2024-08-20T12:32:19.894176245",
          "2024-08-20T12:32:19.955012321",
          "2024-08-20T12:32:20.001924038",
          "2024-08-20T12:32:20.070703506",
          "2024-08-20T12:32:20.132539988",
          "2024-08-20T12:32:20.191419840",
          "2024-08-20T12:32:20.262194872",
          "2024-08-20T12:32:20.322516203",
          "2024-08-20T12:32:20.387259722",
          "2024-08-20T12:32:20.446102619",
          "2024-08-20T12:32:20.520902157",
          "2024-08-20T12:32:20.584731817",
          "2024-08-20T12:32:20.653100014",
          "2024-08-20T12:32:20.706911802",
          "2024-08-20T12:32:20.771246910",
          "2024-08-20T12:32:20.832086563",
          "2024-08-20T12:32:20.895421505",
          "2024-08-20T12:32:20.959251165",
          "2024-08-20T12:32:21.024112225",
          "2024-08-20T12:32:21.086937666",
          "2024-08-20T12:32:21.150739670",
          "2024-08-20T12:32:21.215182066",
          "2024-08-20T12:32:21.288241148",
          "2024-08-20T12:32:21.342065573",
          "2024-08-20T12:32:21.407263279",
          "2024-08-20T12:32:21.483011246",
          "2024-08-20T12:32:21.532878399",
          "2024-08-20T12:32:21.599734306",
          "2024-08-20T12:32:21.667518377",
          "2024-08-20T12:32:21.730396748",
          "2024-08-20T12:32:21.791186571",
          "2024-08-20T12:32:21.855018854",
          "2024-08-20T12:32:21.920847893",
          "2024-08-20T12:32:21.982674122",
          "2024-08-20T12:32:22.189171791",
          "2024-08-20T12:32:22.202137947",
          "2024-08-20T12:32:22.256990194",
          "2024-08-20T12:32:22.320201874",
          "2024-08-20T12:32:22.365945339",
          "2024-08-20T12:32:22.409827948",
          "2024-08-20T12:32:22.457733631",
          "2024-08-20T12:32:22.516542673",
          "2024-08-20T12:32:22.564417124",
          "2024-08-20T12:32:22.622356653",
          "2024-08-20T12:32:22.687514067",
          "2024-08-20T12:32:22.750309229",
          "2024-08-20T12:32:22.818037748",
          "2024-08-20T12:32:22.886855364",
          "2024-08-20T12:32:22.941748381",
          "2024-08-20T12:32:23.005697012",
          "2024-08-20T12:32:23.077054977",
          "2024-08-20T12:32:23.133903503",
          "2024-08-20T12:32:23.235785723",
          "2024-08-20T12:32:23.298555374",
          "2024-08-20T12:32:23.360395193",
          "2024-08-20T12:32:23.415242434",
          "2024-08-20T12:32:23.455136061",
          "2024-08-20T12:32:23.520959139",
          "2024-08-20T12:32:23.591769695",
          "2024-08-20T12:32:23.645626307",
          "2024-08-20T12:32:23.709454775",
          "2024-08-20T12:32:23.781263590",
          "2024-08-20T12:32:23.837112904",
          "2024-08-20T12:32:23.903935671",
          "2024-08-20T12:32:23.965770245",
          "2024-08-20T12:32:24.034584522",
          "2024-08-20T12:32:24.102404833",
          "2024-08-20T12:32:24.158255816",
          "2024-08-20T12:32:24.223082304",
          "2024-08-20T12:32:24.300907373",
          "2024-08-20T12:32:24.357778549",
          "2024-08-20T12:32:24.416562796",
          "2024-08-20T12:32:24.479396105",
          "2024-08-20T12:32:24.543224573",
          "2024-08-20T12:32:24.606056452",
          "2024-08-20T12:32:24.671190023",
          "2024-08-20T12:32:24.737014294",
          "2024-08-20T12:32:24.801352024",
          "2024-08-20T12:32:24.864221811",
          "2024-08-20T12:32:24.932000160",
          "2024-08-20T12:32:24.992837667",
          "2024-08-20T12:32:25.054672956",
          "2024-08-20T12:32:25.118500710",
          "2024-08-20T12:32:25.195301294",
          "2024-08-20T12:32:25.253140926",
          "2024-08-20T12:32:25.311498642",
          "2024-08-20T12:32:25.375326633",
          "2024-08-20T12:32:25.440153599",
          "2024-08-20T12:32:25.641125202",
          "2024-08-20T12:32:25.657083750",
          "2024-08-20T12:32:25.720910788",
          "2024-08-20T12:32:25.765789747",
          "2024-08-20T12:32:25.811667442",
          "2024-08-20T12:32:25.873502493",
          "2024-08-20T12:32:25.917384863",
          "2024-08-20T12:32:25.965266705",
          "2024-08-20T12:32:26.015124083",
          "2024-08-20T12:32:26.081945181",
          "2024-08-20T12:32:26.143970490",
          "2024-08-20T12:32:26.207308531",
          "2024-08-20T12:32:26.277124882",
          "2024-08-20T12:32:26.335473299",
          "2024-08-20T12:32:26.399356604",
          "2024-08-20T12:32:26.469116211",
          "2024-08-20T12:32:26.526027203",
          "2024-08-20T12:32:26.599806547",
          "2024-08-20T12:32:26.662598610",
          "2024-08-20T12:32:26.719447613",
          "2024-08-20T12:32:26.787300110",
          "2024-08-20T12:32:26.846109152",
          "2024-08-20T12:32:26.909974575",
          "2024-08-20T12:32:26.982742786",
          "2024-08-20T12:32:27.039618492",
          "2024-08-20T12:32:27.109428883",
          "2024-08-20T12:32:27.168270826",
          "2024-08-20T12:32:27.244070053",
          "2024-08-20T12:32:27.300915718",
          "2024-08-20T12:32:27.358763456",
          "2024-08-20T12:32:27.430572271",
          "2024-08-20T12:32:27.495396614",
          "2024-08-20T12:32:27.552243471",
          "2024-08-20T12:32:27.618986607",
          "2024-08-20T12:32:27.679826498",
          "2024-08-20T12:32:27.744651794",
          "2024-08-20T12:32:27.811474085",
          "2024-08-20T12:32:27.871311665",
          "2024-08-20T12:32:27.938232660",
          "2024-08-20T12:32:28.007043123",
          "2024-08-20T12:32:28.066883086",
          "2024-08-20T12:32:28.126723528",
          "2024-08-20T12:32:28.193597555",
          "2024-08-20T12:32:28.260417461",
          "2024-08-20T12:32:28.320315361",
          "2024-08-20T12:32:28.384086132",
          "2024-08-20T12:32:28.446953297",
          "2024-08-20T12:32:28.518725634",
          "2024-08-20T12:32:28.576572895",
          "2024-08-20T12:32:28.641489267",
          "2024-08-20T12:32:28.702045441",
          "2024-08-20T12:32:28.767858028",
          "2024-08-20T12:32:28.830724716",
          "2024-08-20T12:32:28.896514893",
          "2024-08-20T12:32:28.961437941",
          "2024-08-20T12:32:29.023036718",
          "2024-08-20T12:32:29.086858511",
          "2024-08-20T12:32:29.150660276",
          "2024-08-20T12:32:29.214490175",
          "2024-08-20T12:32:29.280347824",
          "2024-08-20T12:32:29.347641230",
          "2024-08-20T12:32:29.408477068",
          "2024-08-20T12:32:29.473303795",
          "2024-08-20T12:32:29.534140825",
          "2024-08-20T12:32:29.603953600",
          "2024-08-20T12:32:29.662796974",
          "2024-08-20T12:32:29.728660822",
          "2024-08-20T12:32:29.829075098",
          "2024-08-20T12:32:29.855006218",
          "2024-08-20T12:32:29.918835640",
          "2024-08-20T12:32:29.984659910",
          "2024-08-20T12:32:30.048488617",
          "2024-08-20T12:32:30.111320496",
          "2024-08-20T12:32:30.174177170",
          "2024-08-20T12:32:30.241478205",
          "2024-08-20T12:32:30.304310322",
          "2024-08-20T12:32:30.367180586",
          "2024-08-20T12:32:30.433924198",
          "2024-08-20T12:32:30.496754646",
          "2024-08-20T12:32:30.561550379",
          "2024-08-20T12:32:30.623412132",
          "2024-08-20T12:32:30.686249495",
          "2024-08-20T12:32:30.753970623",
          "2024-08-20T12:32:30.815323591",
          "2024-08-20T12:32:30.879150867",
          "2024-08-20T12:32:30.955455780",
          "2024-08-20T12:32:31.006345749",
          "2024-08-20T12:32:31.084110022",
          "2024-08-20T12:32:31.133013964",
          "2024-08-20T12:32:31.203535080",
          "2024-08-20T12:32:31.271354437",
          "2024-08-20T12:32:31.326326847",
          "2024-08-20T12:32:31.408055782",
          "2024-08-20T12:32:31.458920002",
          "2024-08-20T12:32:31.552667856",
          "2024-08-20T12:32:31.591563702",
          "2024-08-20T12:32:31.650408030",
          "2024-08-20T12:32:31.710282564",
          "2024-08-20T12:32:31.776070833",
          "2024-08-20T12:32:31.837939978",
          "2024-08-20T12:32:31.907718420",
          "2024-08-20T12:32:31.973545551",
          "2024-08-20T12:32:32.030505180",
          "2024-08-20T12:32:32.096329927",
          "2024-08-20T12:32:32.159909010",
          "2024-08-20T12:32:32.223783493",
          "2024-08-20T12:32:32.285617352",
          "2024-08-20T12:32:32.355093002",
          "2024-08-20T12:32:32.423932314",
          "2024-08-20T12:32:32.477780581",
          "2024-08-20T12:32:32.545111179",
          "2024-08-20T12:32:32.610616684",
          "2024-08-20T12:32:32.672452688",
          "2024-08-20T12:32:32.738783121",
          "2024-08-20T12:32:32.800617695",
          "2024-08-20T12:32:32.862452507",
          "2024-08-20T12:32:32.927278280",
          "2024-08-20T12:32:32.991107702",
          "2024-08-20T12:32:33.061918974",
          "2024-08-20T12:32:33.117813110",
          "2024-08-20T12:32:33.183628321",
          "2024-08-20T12:32:33.247426987",
          "2024-08-20T12:32:33.313245773",
          "2024-08-20T12:32:33.376078844",
          "2024-08-20T12:32:33.437913418",
          "2024-08-20T12:32:33.507761955",
          "2024-08-20T12:32:33.566568375",
          "2024-08-20T12:32:33.630432606",
          "2024-08-20T12:32:33.696256876",
          "2024-08-20T12:32:33.763337374",
          "2024-08-20T12:32:33.823216915",
          "2024-08-20T12:32:33.886786699",
          "2024-08-20T12:32:33.951614380",
          "2024-08-20T12:32:34.019431353",
          "2024-08-20T12:32:34.080267668",
          "2024-08-20T12:32:34.142103195",
          "2024-08-20T12:32:34.208925486",
          "2024-08-20T12:32:34.270759106",
          "2024-08-20T12:32:34.334587574",
          "2024-08-20T12:32:34.409389973",
          "2024-08-20T12:32:34.463746071",
          "2024-08-20T12:32:34.525631427",
          "2024-08-20T12:32:34.590441942",
          "2024-08-20T12:32:34.672589302",
          "2024-08-20T12:32:34.718495369",
          "2024-08-20T12:32:34.784605265",
          "2024-08-20T12:32:34.845502377",
          "2024-08-20T12:32:34.915297985",
          "2024-08-20T12:32:34.976535082",
          "2024-08-20T12:32:35.038368940",
          "2024-08-20T12:32:35.101213455",
          "2024-08-20T12:32:35.170028687",
          "2024-08-20T12:32:35.229869604",
          "2024-08-20T12:32:35.296691179",
          "2024-08-20T12:32:35.365506649",
          "2024-08-20T12:32:35.421391964",
          "2024-08-20T12:32:35.489713669",
          "2024-08-20T12:32:35.550548553",
          "2024-08-20T12:32:35.615374088",
          "2024-08-20T12:32:35.679830551",
          "2024-08-20T12:32:35.741671562",
          "2024-08-20T12:32:35.821450710",
          "2024-08-20T12:32:35.875407696",
          "2024-08-20T12:32:35.999787569",
          "2024-08-20T12:32:36.072578192",
          "2024-08-20T12:32:36.198305845",
          "2024-08-20T12:32:36.259132385",
          "2024-08-20T12:32:36.320932627",
          "2024-08-20T12:32:36.381804943",
          "2024-08-20T12:32:36.446623564",
          "2024-08-20T12:32:36.520399332",
          "2024-08-20T12:32:36.578244925",
          "2024-08-20T12:32:36.646062136",
          "2024-08-20T12:32:36.707958698",
          "2024-08-20T12:32:36.768796206",
          "2024-08-20T12:32:36.829632759",
          "2024-08-20T12:32:36.895457745",
          "2024-08-20T12:32:36.961305380",
          "2024-08-20T12:32:37.027129889",
          "2024-08-20T12:32:37.094947815",
          "2024-08-20T12:32:37.150824547",
          "2024-08-20T12:32:37.228126764",
          "2024-08-20T12:32:37.278991222",
          "2024-08-20T12:32:37.345320702",
          "2024-08-20T12:32:37.412676811",
          "2024-08-20T12:32:37.476505041",
          "2024-08-20T12:32:37.534350395",
          "2024-08-20T12:32:37.598179579",
          "2024-08-20T12:32:37.665997982",
          "2024-08-20T12:32:37.730824471",
          "2024-08-20T12:32:37.793656349",
          "2024-08-20T12:32:37.855490446",
          "2024-08-20T12:32:37.923312902",
          "2024-08-20T12:32:37.984147787",
          "2024-08-20T12:32:38.045563459",
          "2024-08-20T12:32:38.111385584",
          "2024-08-20T12:32:38.179205894",
          "2024-08-20T12:32:38.238048077",
          "2024-08-20T12:32:38.304870605",
          "2024-08-20T12:32:38.370692492",
          "2024-08-20T12:32:38.430532455",
          "2024-08-20T12:32:38.496356726",
          "2024-08-20T12:32:38.569162130",
          "2024-08-20T12:32:38.633988142",
          "2024-08-20T12:32:38.691833019",
          "2024-08-20T12:32:38.750226259",
          "2024-08-20T12:32:38.815091372",
          "2024-08-20T12:32:38.885902166",
          "2024-08-20T12:32:38.943747044",
          "2024-08-20T12:32:39.007613659",
          "2024-08-20T12:32:39.073400497",
          "2024-08-20T12:32:39.143213987",
          "2024-08-20T12:32:39.201062202"
         ],
         "xaxis": "x2",
         "y": {
          "bdata": "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",
          "dtype": "f8"
         },
         "yaxis": "y2"
        },
        {
         "marker": {
          "color": "lightcoral"
         },
         "name": "Distribution",
         "nbinsx": 30,
         "opacity": 0.7,
         "type": "histogram",
         "x": {
          "bdata": "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",
          "dtype": "f8"
         },
         "xaxis": "x3",
         "yaxis": "y3"
        },
        {
         "line": {
          "color": "lightcoral",
          "width": 1
         },
         "mode": "lines",
         "name": "Raw",
         "opacity": 0.5,
         "type": "scatter",
         "x": {
          "bdata": "AQACAAMABAAFAAYABwAIAAkACgALAAwADQAOAA8AEAARABIAEwAUABUAFgAXABgAGQAaABsAHAAdAB4AHwAgACEAIgAjACQAJQAmACcAKAApACoAKwAsAC0ALgAvADAAMQAyADMANAA1ADYANwA4ADkAOgA7ADwAPQA+AD8AQABBAEIAQwBEAEUARgBHAEgASQBKAEsATABNAE4ATwBQAFEAUgBTAFQAVQBWAFcAWABZAFoAWwBcAF0AXgBfAGAAYQBiAGMAZABlAGYAZwBoAGkAagBrAGwAbQBuAG8AcABxAHIAcwB0AHUAdgB3AHgAeQB6AHsAfAB9AH4AfwCAAIEAggCDAIQAhQCGAIcAiACJAIoAiwCMAI0AjgCPAJAAkQCSAJMAlACVAJYAlwCYAJkAmgCbAJwAnQCeAJ8AoAChAKIAowCkAKUApgCnAKgAqQCqAKsArACtAK4ArwCwALEAsgCzALQAtQC2ALcAuAC5ALoAuwC8AL0AvgC/AMAAwQDCAMMAxADFAMYAxwDIAMkAygDLAMwAzQDOAM8A0ADRANIA0wDUANUA1gDXANgA2QDaANsA3ADdAN4A3wDgAOEA4gDjAOQA5QDmAOcA6ADpAOoA6wDsAO0A7gDvAPAA8QDyAPMA9AD1APYA9wD4APkA+gD7APwA/QD+AP8AAAEBAQIBAwEEAQUBBgEHAQgBCQEKAQsBDAENAQ4BDwEQAREBEgETARQBFQEWARcBGAEZARoBGwEcAR0BHgEfASABIQEiASMBJAElASYBJwEoASkBKgErASwBLQEuAS8BMAExATIBMwE0ATUBNgE3ATgBOQE6ATsBPAE9AT4BPwFAAUEBQgFDAUQBRQFGAUcBSAFJAUoBSwFMAU0BTgFPAVABUQFSAVMBVAFVAVYBVwFYAVkBWgFbAVwBXQFeAV8BYAFhAWIBYwFkAWUBZgFnAWgBaQFqAWsBbAFtAW4BbwFwAXEBcgFzAXQBdQF2AXcBeAF5AXoBewF8AX0BfgF/AYABgQGCAYMBhAGFAYYBhwGIAYkBigGLAYwBjQGOAY8BkAGRAZIBkwGUAZUBlgGXAZgBmQGaAZsBnAGdAZ4BnwGgAaEBogGjAaQBpQGmAacBqAGpAaoBqwGsAa0BrgGvAbABsQGyAbMBtAG1AbYBtwG4AbkBugG7AbwBvQG+Ab8BwAHBAcIBwwHEAcUBxgHHAcgByQHKAcsBzAHNAc4BzwHQAdEB0gHTAdQB1QHWAdcB2AHZAdoB2wHcAd0B3gHfAeAB4QHiAeMB5AHlAeYB5wHoAekB6gHrAewB7QHuAe8B8AHxAfIB8wH0AfUB9gH3AfgB+QH6AfsB/AH9Af4B/wEAAgECAgIDAgQCBQIGAgcCCAIJAgoCCwIMAg0CDgIPAhACEQISAhMCFAIVAhYCFwIYAhkCGgIbAhwCHQIeAh8CIAIhAiICIwIkAiUCJgInAigCKQIqAisCLAItAi4CLwIwAjECMgIzAjQCNQI2AjcCOAI5AjoCOwI8Aj0CPgI/AkACQQJCAkMCRAJFAkYCRwJIAkkCSgJLAkwCTQJOAk8CUAJRAlICUwJUAlUCVgJXAlgCWQJaAlsCXAJdAl4CXwJgAmECYgJjAmQCZQJmAmcCaAJpAmoCawJsAm0CbgJvAnACcQJyAnMCdAJ1AnYCdwJ4AnkCegJ7AnwCfQJ+An8CgAKBAoICgwKEAoUChgKHAogCiQKKAosCjAKNAo4CjwKQApECkgKTApQClQKWApcCmAKZApoCmwKcAp0CngKfAqACoQKiAqMCpAKlAqYCpwKoAqkCqgKrAqwCrQKuAq8CsAKxArICswK0ArUCtgK3ArgCuQK6ArsCvAK9Ar4CvwLAAsECwgLDAsQCxQLGAscCyALJAsoCywLMAs0CzgLPAtAC0QLSAtMC1ALVAtYC1wLYAtkC2gLbAtwC3QLeAt8C4ALhAuIC4wLkAuUC5gLnAugC6QLqAusC7ALtAu4C7wLwAvEC8gLzAvQC9QL2AvcC+AL5AvoC+wL8Av0C/gL/AgADAQMCAwMDBAMFAwYDBwMIAwkDCgMLAwwDDQMOAw8DEAMRAxIDEwMUAxUDFgMXAxgDGQMaAxsDHAMdAx4DHwMgAyEDIgMjAyQDJQMmAycDKAMpAyoDKwMsAy0DLgMvAzADMQMyAzMDNAM1AzYDNwM4AzkDOgM7AzwDPQM+Az8DQANBA0IDQwNEA0UDRgNHA0gDSQNKA0sDTANNA04DTwNQA1EDUgNTA1QDVQNWA1cDWANZA1oDWwNcA10DXgNfA2ADYQNiA2MDZANlA2YDZwNoA2kDagNrA2wDbQNuA28DcANxA3IDcwN0A3UDdgN3A3gDeQN6A3sDfAN9A34DfwOAA4EDggODA4QDhQOGA4cDiAOJA4oDiwOMA40DjgOPA5ADkQOSA5MDlAOVA5YDlwOYA5kDmgObA5wDnQOeA58DoAOhA6IDowOkA6UDpgOnA6gDqQOqA6sDrAOtA64DrwOwA7EDsgOzA7QDtQO2A7cDuAO5A7oDuwO8A70DvgO/A8ADwQPCA8MDxAPFA8YDxwPIA8kDygPLA8wDzQPOA88D0APRA9ID0wPUA9UD1gPXA9gD2QPaA9sD3APdA94D3wPgA+ED4gPjA+QD5QPmA+cD6APpA+oD6wPsA+0D7wPwA/ID8wP0A/UD9gP3A/gD+QP6A/sD/AP9A/4D/wMABAEEAgQDBAQEBQQGBAcECAQJBAoECwQMBA0EDgQPBBAEEQQSBBMEFAQVBBYEFwQYBBkEGgQbBBwEHQQeBB8EIAQhBA==",
          "dtype": "i2"
         },
         "xaxis": "x4",
         "y": {
          "bdata": "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",
          "dtype": "f8"
         },
         "yaxis": "y4"
        },
        {
         "line": {
          "color": "darkred",
          "width": 3
         },
         "mode": "lines",
         "name": "Smoothed (n=52)",
         "type": "scatter",
         "x": {
          "bdata": "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",
          "dtype": "i2"
         },
         "xaxis": "x4",
         "y": {
          "bdata": "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",
          "dtype": "f8"
         },
         "yaxis": "y4"
        }
       ],
       "layout": {
        "annotations": [
         {
          "font": {
           "size": 16
          },
          "showarrow": false,
          "text": "Distance vs Frame Index",
          "x": 0.225,
          "xanchor": "center",
          "xref": "paper",
          "y": 1,
          "yanchor": "bottom",
          "yref": "paper"
         },
         {
          "font": {
           "size": 16
          },
          "showarrow": false,
          "text": "Distance vs Time",
          "x": 0.775,
          "xanchor": "center",
          "xref": "paper",
          "y": 1,
          "yanchor": "bottom",
          "yref": "paper"
         },
         {
          "font": {
           "size": 16
          },
          "showarrow": false,
          "text": "Distance Distribution",
          "x": 0.225,
          "xanchor": "center",
          "xref": "paper",
          "y": 0.375,
          "yanchor": "bottom",
          "yref": "paper"
         },
         {
          "font": {
           "size": 16
          },
          "showarrow": false,
          "text": "Distance Trends",
          "x": 0.775,
          "xanchor": "center",
          "xref": "paper",
          "y": 0.375,
          "yanchor": "bottom",
          "yref": "paper"
         },
         {
          "showarrow": false,
          "text": "Mean: 2.02meters",
          "x": 2.0202659945235917,
          "xanchor": "left",
          "xref": "x3",
          "y": 1,
          "yanchor": "top",
          "yref": "y3 domain"
         }
        ],
        "height": 800,
        "shapes": [
         {
          "line": {
           "color": "red",
           "dash": "dash"
          },
          "type": "line",
          "x0": 2.0202659945235917,
          "x1": 2.0202659945235917,
          "xref": "x3",
          "y0": 0,
          "y1": 1,
          "yref": "y3 domain"
         }
        ],
        "showlegend": true,
        "template": {
         "data": {
          "bar": [
           {
            "error_x": {
             "color": "#2a3f5f"
            },
            "error_y": {
             "color": "#2a3f5f"
            },
            "marker": {
             "line": {
              "color": "#E5ECF6",
              "width": 0.5
             },
             "pattern": {
              "fillmode": "overlay",
              "size": 10,
              "solidity": 0.2
             }
            },
            "type": "bar"
           }
          ],
          "barpolar": [
           {
            "marker": {
             "line": {
              "color": "#E5ECF6",
              "width": 0.5
             },
             "pattern": {
              "fillmode": "overlay",
              "size": 10,
              "solidity": 0.2
             }
            },
            "type": "barpolar"
           }
          ],
          "carpet": [
           {
            "aaxis": {
             "endlinecolor": "#2a3f5f",
             "gridcolor": "white",
             "linecolor": "white",
             "minorgridcolor": "white",
             "startlinecolor": "#2a3f5f"
            },
            "baxis": {
             "endlinecolor": "#2a3f5f",
             "gridcolor": "white",
             "linecolor": "white",
             "minorgridcolor": "white",
             "startlinecolor": "#2a3f5f"
            },
            "type": "carpet"
           }
          ],
          "choropleth": [
           {
            "colorbar": {
             "outlinewidth": 0,
             "ticks": ""
            },
            "type": "choropleth"
           }
          ],
          "contour": [
           {
            "colorbar": {
             "outlinewidth": 0,
             "ticks": ""
            },
            "colorscale": [
             [
              0,
              "#0d0887"
             ],
             [
              0.1111111111111111,
              "#46039f"
             ],
             [
              0.2222222222222222,
              "#7201a8"
             ],
             [
              0.3333333333333333,
              "#9c179e"
             ],
             [
              0.4444444444444444,
              "#bd3786"
             ],
             [
              0.5555555555555556,
              "#d8576b"
             ],
             [
              0.6666666666666666,
              "#ed7953"
             ],
             [
              0.7777777777777778,
              "#fb9f3a"
             ],
             [
              0.8888888888888888,
              "#fdca26"
             ],
             [
              1,
              "#f0f921"
             ]
            ],
            "type": "contour"
           }
          ],
          "contourcarpet": [
           {
            "colorbar": {
             "outlinewidth": 0,
             "ticks": ""
            },
            "type": "contourcarpet"
           }
          ],
          "heatmap": [
           {
            "colorbar": {
             "outlinewidth": 0,
             "ticks": ""
            },
            "colorscale": [
             [
              0,
              "#0d0887"
             ],
             [
              0.1111111111111111,
              "#46039f"
             ],
             [
              0.2222222222222222,
              "#7201a8"
             ],
             [
              0.3333333333333333,
              "#9c179e"
             ],
             [
              0.4444444444444444,
              "#bd3786"
             ],
             [
              0.5555555555555556,
              "#d8576b"
             ],
             [
              0.6666666666666666,
              "#ed7953"
             ],
             [
              0.7777777777777778,
              "#fb9f3a"
             ],
             [
              0.8888888888888888,
              "#fdca26"
             ],
             [
              1,
              "#f0f921"
             ]
            ],
            "type": "heatmap"
           }
          ],
          "histogram": [
           {
            "marker": {
             "pattern": {
              "fillmode": "overlay",
              "size": 10,
              "solidity": 0.2
             }
            },
            "type": "histogram"
           }
          ],
          "histogram2d": [
           {
            "colorbar": {
             "outlinewidth": 0,
             "ticks": ""
            },
            "colorscale": [
             [
              0,
              "#0d0887"
             ],
             [
              0.1111111111111111,
              "#46039f"
             ],
             [
              0.2222222222222222,
              "#7201a8"
             ],
             [
              0.3333333333333333,
              "#9c179e"
             ],
             [
              0.4444444444444444,
              "#bd3786"
             ],
             [
              0.5555555555555556,
              "#d8576b"
             ],
             [
              0.6666666666666666,
              "#ed7953"
             ],
             [
              0.7777777777777778,
              "#fb9f3a"
             ],
             [
              0.8888888888888888,
              "#fdca26"
             ],
             [
              1,
              "#f0f921"
             ]
            ],
            "type": "histogram2d"
           }
          ],
          "histogram2dcontour": [
           {
            "colorbar": {
             "outlinewidth": 0,
             "ticks": ""
            },
            "colorscale": [
             [
              0,
              "#0d0887"
             ],
             [
              0.1111111111111111,
              "#46039f"
             ],
             [
              0.2222222222222222,
              "#7201a8"
             ],
             [
              0.3333333333333333,
              "#9c179e"
             ],
             [
              0.4444444444444444,
              "#bd3786"
             ],
             [
              0.5555555555555556,
              "#d8576b"
             ],
             [
              0.6666666666666666,
              "#ed7953"
             ],
             [
              0.7777777777777778,
              "#fb9f3a"
             ],
             [
              0.8888888888888888,
              "#fdca26"
             ],
             [
              1,
              "#f0f921"
             ]
            ],
            "type": "histogram2dcontour"
           }
          ],
          "mesh3d": [
           {
            "colorbar": {
             "outlinewidth": 0,
             "ticks": ""
            },
            "type": "mesh3d"
           }
          ],
          "parcoords": [
           {
            "line": {
             "colorbar": {
              "outlinewidth": 0,
              "ticks": ""
             }
            },
            "type": "parcoords"
           }
          ],
          "pie": [
           {
            "automargin": true,
            "type": "pie"
           }
          ],
          "scatter": [
           {
            "fillpattern": {
             "fillmode": "overlay",
             "size": 10,
             "solidity": 0.2
            },
            "type": "scatter"
           }
          ],
          "scatter3d": [
           {
            "line": {
             "colorbar": {
              "outlinewidth": 0,
              "ticks": ""
             }
            },
            "marker": {
             "colorbar": {
              "outlinewidth": 0,
              "ticks": ""
             }
            },
            "type": "scatter3d"
           }
          ],
          "scattercarpet": [
           {
            "marker": {
             "colorbar": {
              "outlinewidth": 0,
              "ticks": ""
             }
            },
            "type": "scattercarpet"
           }
          ],
          "scattergeo": [
           {
            "marker": {
             "colorbar": {
              "outlinewidth": 0,
              "ticks": ""
             }
            },
            "type": "scattergeo"
           }
          ],
          "scattergl": [
           {
            "marker": {
             "colorbar": {
              "outlinewidth": 0,
              "ticks": ""
             }
            },
            "type": "scattergl"
           }
          ],
          "scattermap": [
           {
            "marker": {
             "colorbar": {
              "outlinewidth": 0,
              "ticks": ""
             }
            },
            "type": "scattermap"
           }
          ],
          "scattermapbox": [
           {
            "marker": {
             "colorbar": {
              "outlinewidth": 0,
              "ticks": ""
             }
            },
            "type": "scattermapbox"
           }
          ],
          "scatterpolar": [
           {
            "marker": {
             "colorbar": {
              "outlinewidth": 0,
              "ticks": ""
             }
            },
            "type": "scatterpolar"
           }
          ],
          "scatterpolargl": [
           {
            "marker": {
             "colorbar": {
              "outlinewidth": 0,
              "ticks": ""
             }
            },
            "type": "scatterpolargl"
           }
          ],
          "scatterternary": [
           {
            "marker": {
             "colorbar": {
              "outlinewidth": 0,
              "ticks": ""
             }
            },
            "type": "scatterternary"
           }
          ],
          "surface": [
           {
            "colorbar": {
             "outlinewidth": 0,
             "ticks": ""
            },
            "colorscale": [
             [
              0,
              "#0d0887"
             ],
             [
              0.1111111111111111,
              "#46039f"
             ],
             [
              0.2222222222222222,
              "#7201a8"
             ],
             [
              0.3333333333333333,
              "#9c179e"
             ],
             [
              0.4444444444444444,
              "#bd3786"
             ],
             [
              0.5555555555555556,
              "#d8576b"
             ],
             [
              0.6666666666666666,
              "#ed7953"
             ],
             [
              0.7777777777777778,
              "#fb9f3a"
             ],
             [
              0.8888888888888888,
              "#fdca26"
             ],
             [
              1,
              "#f0f921"
             ]
            ],
            "type": "surface"
           }
          ],
          "table": [
           {
            "cells": {
             "fill": {
              "color": "#EBF0F8"
             },
             "line": {
              "color": "white"
             }
            },
            "header": {
             "fill": {
              "color": "#C8D4E3"
             },
             "line": {
              "color": "white"
             }
            },
            "type": "table"
           }
          ]
         },
         "layout": {
          "annotationdefaults": {
           "arrowcolor": "#2a3f5f",
           "arrowhead": 0,
           "arrowwidth": 1
          },
          "autotypenumbers": "strict",
          "coloraxis": {
           "colorbar": {
            "outlinewidth": 0,
            "ticks": ""
           }
          },
          "colorscale": {
           "diverging": [
            [
             0,
             "#8e0152"
            ],
            [
             0.1,
             "#c51b7d"
            ],
            [
             0.2,
             "#de77ae"
            ],
            [
             0.3,
             "#f1b6da"
            ],
            [
             0.4,
             "#fde0ef"
            ],
            [
             0.5,
             "#f7f7f7"
            ],
            [
             0.6,
             "#e6f5d0"
            ],
            [
             0.7,
             "#b8e186"
            ],
            [
             0.8,
             "#7fbc41"
            ],
            [
             0.9,
             "#4d9221"
            ],
            [
             1,
             "#276419"
            ]
           ],
           "sequential": [
            [
             0,
             "#0d0887"
            ],
            [
             0.1111111111111111,
             "#46039f"
            ],
            [
             0.2222222222222222,
             "#7201a8"
            ],
            [
             0.3333333333333333,
             "#9c179e"
            ],
            [
             0.4444444444444444,
             "#bd3786"
            ],
            [
             0.5555555555555556,
             "#d8576b"
            ],
            [
             0.6666666666666666,
             "#ed7953"
            ],
            [
             0.7777777777777778,
             "#fb9f3a"
            ],
            [
             0.8888888888888888,
             "#fdca26"
            ],
            [
             1,
             "#f0f921"
            ]
           ],
           "sequentialminus": [
            [
             0,
             "#0d0887"
            ],
            [
             0.1111111111111111,
             "#46039f"
            ],
            [
             0.2222222222222222,
             "#7201a8"
            ],
            [
             0.3333333333333333,
             "#9c179e"
            ],
            [
             0.4444444444444444,
             "#bd3786"
            ],
            [
             0.5555555555555556,
             "#d8576b"
            ],
            [
             0.6666666666666666,
             "#ed7953"
            ],
            [
             0.7777777777777778,
             "#fb9f3a"
            ],
            [
             0.8888888888888888,
             "#fdca26"
            ],
            [
             1,
             "#f0f921"
            ]
           ]
          },
          "colorway": [
           "#636efa",
           "#EF553B",
           "#00cc96",
           "#ab63fa",
           "#FFA15A",
           "#19d3f3",
           "#FF6692",
           "#B6E880",
           "#FF97FF",
           "#FECB52"
          ],
          "font": {
           "color": "#2a3f5f"
          },
          "geo": {
           "bgcolor": "white",
           "lakecolor": "white",
           "landcolor": "#E5ECF6",
           "showlakes": true,
           "showland": true,
           "subunitcolor": "white"
          },
          "hoverlabel": {
           "align": "left"
          },
          "hovermode": "closest",
          "mapbox": {
           "style": "light"
          },
          "paper_bgcolor": "white",
          "plot_bgcolor": "#E5ECF6",
          "polar": {
           "angularaxis": {
            "gridcolor": "white",
            "linecolor": "white",
            "ticks": ""
           },
           "bgcolor": "#E5ECF6",
           "radialaxis": {
            "gridcolor": "white",
            "linecolor": "white",
            "ticks": ""
           }
          },
          "scene": {
           "xaxis": {
            "backgroundcolor": "#E5ECF6",
            "gridcolor": "white",
            "gridwidth": 2,
            "linecolor": "white",
            "showbackground": true,
            "ticks": "",
            "zerolinecolor": "white"
           },
           "yaxis": {
            "backgroundcolor": "#E5ECF6",
            "gridcolor": "white",
            "gridwidth": 2,
            "linecolor": "white",
            "showbackground": true,
            "ticks": "",
            "zerolinecolor": "white"
           },
           "zaxis": {
            "backgroundcolor": "#E5ECF6",
            "gridcolor": "white",
            "gridwidth": 2,
            "linecolor": "white",
            "showbackground": true,
            "ticks": "",
            "zerolinecolor": "white"
           }
          },
          "shapedefaults": {
           "line": {
            "color": "#2a3f5f"
           }
          },
          "ternary": {
           "aaxis": {
            "gridcolor": "white",
            "linecolor": "white",
            "ticks": ""
           },
           "baxis": {
            "gridcolor": "white",
            "linecolor": "white",
            "ticks": ""
           },
           "bgcolor": "#E5ECF6",
           "caxis": {
            "gridcolor": "white",
            "linecolor": "white",
            "ticks": ""
           }
          },
          "title": {
           "x": 0.05
          },
          "xaxis": {
           "automargin": true,
           "gridcolor": "white",
           "linecolor": "white",
           "ticks": "",
           "title": {
            "standoff": 15
           },
           "zerolinecolor": "white",
           "zerolinewidth": 2
          },
          "yaxis": {
           "automargin": true,
           "gridcolor": "white",
           "linecolor": "white",
           "ticks": "",
           "title": {
            "standoff": 15
           },
           "zerolinecolor": "white",
           "zerolinewidth": 2
          }
         }
        },
        "title": {
         "text": "Real-World Distance Analysis"
        },
        "xaxis": {
         "anchor": "y",
         "domain": [
          0,
          0.45
         ],
         "title": {
          "text": "Frame Index"
         }
        },
        "xaxis2": {
         "anchor": "y2",
         "domain": [
          0.55,
          1
         ],
         "title": {
          "text": "Time"
         }
        },
        "xaxis3": {
         "anchor": "y3",
         "domain": [
          0,
          0.45
         ],
         "title": {
          "text": "Distance (meters)"
         }
        },
        "xaxis4": {
         "anchor": "y4",
         "domain": [
          0.55,
          1
         ],
         "title": {
          "text": "Frame Index"
         }
        },
        "yaxis": {
         "anchor": "x",
         "domain": [
          0.625,
          1
         ],
         "title": {
          "text": "Distance (meters)"
         }
        },
        "yaxis2": {
         "anchor": "x2",
         "domain": [
          0.625,
          1
         ],
         "title": {
          "text": "Distance (meters)"
         }
        },
        "yaxis3": {
         "anchor": "x3",
         "domain": [
          0,
          0.375
         ],
         "title": {
          "text": "Frequency"
         }
        },
        "yaxis4": {
         "anchor": "x4",
         "domain": [
          0,
          0.375
         ],
         "title": {
          "text": "Distance (meters)"
         }
        }
       }
      }
     },
     "metadata": {},
     "output_type": "display_data"
    }
   ],
   "source": [
    "iau.VisualizationEngine.plot_distance_analysis(distance_results, \"Real-World Distance Analysis\")"
   ]
  },
  {
   "cell_type": "code",
   "execution_count": 7,
   "id": "c10a8be6",
   "metadata": {},
   "outputs": [
    {
     "name": "stdout",
     "output_type": "stream",
     "text": [
      " LOADING ALL DISTANCE DATA FOR BAG: 2024-08-20_14-31-29\n",
      "============================================================\n",
      "📡 1. Loading Navigation Data...\n",
      "    Loaded 559 navigation records\n",
      "📡 2. Loading Guidance Data...\n",
      "    Loaded 549 guidance records with ['error_net_distance', 'desired_net_distance', 'r_net_distance_d']\n",
      "📡 3. Loading DVL Altimeter...\n",
      "    DVL altimeter file not found\n",
      " 4. Loading USBL...\n",
      "    Loaded 33 USBL records\n",
      "📡 5. Loading DVL Position...\n",
      "    Loaded 283 DVL position records\n",
      " 6. Loading Navigation Position...\n",
      "    Loaded 278 navigation position records\n",
      "📡 7. Loading INS Z Position...\n",
      "    INS file not found\n",
      "\n",
      " LOADING SUMMARY:\n",
      "    Target bag: 2024-08-20_14-31-29\n",
      "    Raw data loaded: 2/2\n",
      "    Distance measurements: 4\n",
      "\n",
      " RAW DATA LOADED:\n",
      "    navigation: 559 records\n",
      "    guidance: 549 records\n",
      "\n",
      " DISTANCE MEASUREMENTS LOADED:\n",
      "    USBL_3D: 33 records - 3D acoustic position\n",
      "    USBL_Depth: 33 records - USBL depth measurement\n",
      "    DVL_Position: 283 records - 3D DVL position\n",
      "    Nav_Position: 278 records - 2D navigation position\n"
     ]
    }
   ],
   "source": [
    "# COMPARISON: SONAR vs DVL DISTANCE MEASUREMENTS\n",
    "# =================================================\n",
    "import utils.net_distance_analysis as sda\n",
    "\n",
    "# IMPORTANT: Pass the by_bag folder, not just the exports root\n",
    "# The function expects the folder containing the CSV files\n",
    "from utils.sonar_config import EXPORTS_SUBDIRS\n",
    "BY_BAG_FOLDER = EXPORTS_FOLDER / EXPORTS_SUBDIRS.get('by_bag', 'by_bag')\n",
    "\n",
    "# Load all distance data for the target bag\n",
    "raw_data, distance_measurements = sda.load_all_distance_data_for_bag(TARGET_BAG, BY_BAG_FOLDER)\n",
    "\n",
    "# Display what we loaded\n",
    "print(f\"\\n RAW DATA LOADED:\")\n",
    "for key, data in raw_data.items():\n",
    "    if data is not None:\n",
    "        print(f\"    {key}: {len(data)} records\")\n",
    "    else:\n",
    "        print(f\"    {key}: None\")\n",
    "\n",
    "print(f\"\\n DISTANCE MEASUREMENTS LOADED:\")\n",
    "for key, info in distance_measurements.items():\n",
    "    data_len = len(info['data'])\n",
    "    print(f\"    {key}: {data_len} records - {info['description']}\")"
   ]
  },
  {
   "cell_type": "code",
   "execution_count": 8,
   "id": "0375375e",
   "metadata": {},
   "outputs": [
    {
     "name": "stdout",
     "output_type": "stream",
     "text": [
      "\n",
      "SONAR vs DVL COMPARISON STATISTICS:\n",
      "==================================================\n",
      "Sonar mean distance: 2.020 m\n",
      "DVL mean distance:   1.968 m\n",
      "Scale ratio (Sonar/DVL): 1.027x\n",
      "Sonar duration: 67.1s (1059 frames)\n",
      "DVL duration:   67.0s (559 records)\n"
     ]
    },
    {
     "name": "stderr",
     "output_type": "stream",
     "text": [
      "/Users/eirikvarnes/code/SOLAQUA/utils/sonar_image_analysis.py:311: FutureWarning:\n",
      "\n",
      "Series.fillna with 'method' is deprecated and will raise in a future version. Use obj.ffill() or obj.bfill() instead.\n",
      "\n",
      "/Users/eirikvarnes/code/SOLAQUA/utils/sonar_image_analysis.py:318: FutureWarning:\n",
      "\n",
      "Series.fillna with 'method' is deprecated and will raise in a future version. Use obj.ffill() or obj.bfill() instead.\n",
      "\n"
     ]
    },
    {
     "data": {
      "application/vnd.plotly.v1+json": {
       "config": {
        "plotlyServerURL": "https://plot.ly"
       },
       "data": [
        {
         "line": {
          "color": "rgba(255,0,0,0.3)"
         },
         "mode": "lines",
         "name": "Sonar Raw",
         "type": "scatter",
         "x": {
          "bdata": "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",
          "dtype": "f8"
         },
         "xaxis": "x",
         "y": {
          "bdata": "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",
          "dtype": "f8"
         },
         "yaxis": "y"
        },
        {
         "line": {
          "color": "red",
          "width": 3
         },
         "mode": "lines",
         "name": "Sonar Smoothed",
         "type": "scatter",
         "x": {
          "bdata": "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",
          "dtype": "f8"
         },
         "xaxis": "x",
         "y": {
          "bdata": "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",
          "dtype": "f8"
         },
         "yaxis": "y"
        },
        {
         "line": {
          "color": "blue",
          "width": 3
         },
         "mode": "lines",
         "name": "DVL Distance",
         "type": "scatter",
         "x": {
          "bdata": "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",
          "dtype": "f8"
         },
         "xaxis": "x",
         "y": {
          "bdata": "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",
          "dtype": "f8"
         },
         "yaxis": "y"
        }
       ],
       "layout": {
        "height": 600,
        "hovermode": "x unified",
        "template": {
         "data": {
          "bar": [
           {
            "error_x": {
             "color": "#2a3f5f"
            },
            "error_y": {
             "color": "#2a3f5f"
            },
            "marker": {
             "line": {
              "color": "#E5ECF6",
              "width": 0.5
             },
             "pattern": {
              "fillmode": "overlay",
              "size": 10,
              "solidity": 0.2
             }
            },
            "type": "bar"
           }
          ],
          "barpolar": [
           {
            "marker": {
             "line": {
              "color": "#E5ECF6",
              "width": 0.5
             },
             "pattern": {
              "fillmode": "overlay",
              "size": 10,
              "solidity": 0.2
             }
            },
            "type": "barpolar"
           }
          ],
          "carpet": [
           {
            "aaxis": {
             "endlinecolor": "#2a3f5f",
             "gridcolor": "white",
             "linecolor": "white",
             "minorgridcolor": "white",
             "startlinecolor": "#2a3f5f"
            },
            "baxis": {
             "endlinecolor": "#2a3f5f",
             "gridcolor": "white",
             "linecolor": "white",
             "minorgridcolor": "white",
             "startlinecolor": "#2a3f5f"
            },
            "type": "carpet"
           }
          ],
          "choropleth": [
           {
            "colorbar": {
             "outlinewidth": 0,
             "ticks": ""
            },
            "type": "choropleth"
           }
          ],
          "contour": [
           {
            "colorbar": {
             "outlinewidth": 0,
             "ticks": ""
            },
            "colorscale": [
             [
              0,
              "#0d0887"
             ],
             [
              0.1111111111111111,
              "#46039f"
             ],
             [
              0.2222222222222222,
              "#7201a8"
             ],
             [
              0.3333333333333333,
              "#9c179e"
             ],
             [
              0.4444444444444444,
              "#bd3786"
             ],
             [
              0.5555555555555556,
              "#d8576b"
             ],
             [
              0.6666666666666666,
              "#ed7953"
             ],
             [
              0.7777777777777778,
              "#fb9f3a"
             ],
             [
              0.8888888888888888,
              "#fdca26"
             ],
             [
              1,
              "#f0f921"
             ]
            ],
            "type": "contour"
           }
          ],
          "contourcarpet": [
           {
            "colorbar": {
             "outlinewidth": 0,
             "ticks": ""
            },
            "type": "contourcarpet"
           }
          ],
          "heatmap": [
           {
            "colorbar": {
             "outlinewidth": 0,
             "ticks": ""
            },
            "colorscale": [
             [
              0,
              "#0d0887"
             ],
             [
              0.1111111111111111,
              "#46039f"
             ],
             [
              0.2222222222222222,
              "#7201a8"
             ],
             [
              0.3333333333333333,
              "#9c179e"
             ],
             [
              0.4444444444444444,
              "#bd3786"
             ],
             [
              0.5555555555555556,
              "#d8576b"
             ],
             [
              0.6666666666666666,
              "#ed7953"
             ],
             [
              0.7777777777777778,
              "#fb9f3a"
             ],
             [
              0.8888888888888888,
              "#fdca26"
             ],
             [
              1,
              "#f0f921"
             ]
            ],
            "type": "heatmap"
           }
          ],
          "histogram": [
           {
            "marker": {
             "pattern": {
              "fillmode": "overlay",
              "size": 10,
              "solidity": 0.2
             }
            },
            "type": "histogram"
           }
          ],
          "histogram2d": [
           {
            "colorbar": {
             "outlinewidth": 0,
             "ticks": ""
            },
            "colorscale": [
             [
              0,
              "#0d0887"
             ],
             [
              0.1111111111111111,
              "#46039f"
             ],
             [
              0.2222222222222222,
              "#7201a8"
             ],
             [
              0.3333333333333333,
              "#9c179e"
             ],
             [
              0.4444444444444444,
              "#bd3786"
             ],
             [
              0.5555555555555556,
              "#d8576b"
             ],
             [
              0.6666666666666666,
              "#ed7953"
             ],
             [
              0.7777777777777778,
              "#fb9f3a"
             ],
             [
              0.8888888888888888,
              "#fdca26"
             ],
             [
              1,
              "#f0f921"
             ]
            ],
            "type": "histogram2d"
           }
          ],
          "histogram2dcontour": [
           {
            "colorbar": {
             "outlinewidth": 0,
             "ticks": ""
            },
            "colorscale": [
             [
              0,
              "#0d0887"
             ],
             [
              0.1111111111111111,
              "#46039f"
             ],
             [
              0.2222222222222222,
              "#7201a8"
             ],
             [
              0.3333333333333333,
              "#9c179e"
             ],
             [
              0.4444444444444444,
              "#bd3786"
             ],
             [
              0.5555555555555556,
              "#d8576b"
             ],
             [
              0.6666666666666666,
              "#ed7953"
             ],
             [
              0.7777777777777778,
              "#fb9f3a"
             ],
             [
              0.8888888888888888,
              "#fdca26"
             ],
             [
              1,
              "#f0f921"
             ]
            ],
            "type": "histogram2dcontour"
           }
          ],
          "mesh3d": [
           {
            "colorbar": {
             "outlinewidth": 0,
             "ticks": ""
            },
            "type": "mesh3d"
           }
          ],
          "parcoords": [
           {
            "line": {
             "colorbar": {
              "outlinewidth": 0,
              "ticks": ""
             }
            },
            "type": "parcoords"
           }
          ],
          "pie": [
           {
            "automargin": true,
            "type": "pie"
           }
          ],
          "scatter": [
           {
            "fillpattern": {
             "fillmode": "overlay",
             "size": 10,
             "solidity": 0.2
            },
            "type": "scatter"
           }
          ],
          "scatter3d": [
           {
            "line": {
             "colorbar": {
              "outlinewidth": 0,
              "ticks": ""
             }
            },
            "marker": {
             "colorbar": {
              "outlinewidth": 0,
              "ticks": ""
             }
            },
            "type": "scatter3d"
           }
          ],
          "scattercarpet": [
           {
            "marker": {
             "colorbar": {
              "outlinewidth": 0,
              "ticks": ""
             }
            },
            "type": "scattercarpet"
           }
          ],
          "scattergeo": [
           {
            "marker": {
             "colorbar": {
              "outlinewidth": 0,
              "ticks": ""
             }
            },
            "type": "scattergeo"
           }
          ],
          "scattergl": [
           {
            "marker": {
             "colorbar": {
              "outlinewidth": 0,
              "ticks": ""
             }
            },
            "type": "scattergl"
           }
          ],
          "scattermap": [
           {
            "marker": {
             "colorbar": {
              "outlinewidth": 0,
              "ticks": ""
             }
            },
            "type": "scattermap"
           }
          ],
          "scattermapbox": [
           {
            "marker": {
             "colorbar": {
              "outlinewidth": 0,
              "ticks": ""
             }
            },
            "type": "scattermapbox"
           }
          ],
          "scatterpolar": [
           {
            "marker": {
             "colorbar": {
              "outlinewidth": 0,
              "ticks": ""
             }
            },
            "type": "scatterpolar"
           }
          ],
          "scatterpolargl": [
           {
            "marker": {
             "colorbar": {
              "outlinewidth": 0,
              "ticks": ""
             }
            },
            "type": "scatterpolargl"
           }
          ],
          "scatterternary": [
           {
            "marker": {
             "colorbar": {
              "outlinewidth": 0,
              "ticks": ""
             }
            },
            "type": "scatterternary"
           }
          ],
          "surface": [
           {
            "colorbar": {
             "outlinewidth": 0,
             "ticks": ""
            },
            "colorscale": [
             [
              0,
              "#0d0887"
             ],
             [
              0.1111111111111111,
              "#46039f"
             ],
             [
              0.2222222222222222,
              "#7201a8"
             ],
             [
              0.3333333333333333,
              "#9c179e"
             ],
             [
              0.4444444444444444,
              "#bd3786"
             ],
             [
              0.5555555555555556,
              "#d8576b"
             ],
             [
              0.6666666666666666,
              "#ed7953"
             ],
             [
              0.7777777777777778,
              "#fb9f3a"
             ],
             [
              0.8888888888888888,
              "#fdca26"
             ],
             [
              1,
              "#f0f921"
             ]
            ],
            "type": "surface"
           }
          ],
          "table": [
           {
            "cells": {
             "fill": {
              "color": "#EBF0F8"
             },
             "line": {
              "color": "white"
             }
            },
            "header": {
             "fill": {
              "color": "#C8D4E3"
             },
             "line": {
              "color": "white"
             }
            },
            "type": "table"
           }
          ]
         },
         "layout": {
          "annotationdefaults": {
           "arrowcolor": "#2a3f5f",
           "arrowhead": 0,
           "arrowwidth": 1
          },
          "autotypenumbers": "strict",
          "coloraxis": {
           "colorbar": {
            "outlinewidth": 0,
            "ticks": ""
           }
          },
          "colorscale": {
           "diverging": [
            [
             0,
             "#8e0152"
            ],
            [
             0.1,
             "#c51b7d"
            ],
            [
             0.2,
             "#de77ae"
            ],
            [
             0.3,
             "#f1b6da"
            ],
            [
             0.4,
             "#fde0ef"
            ],
            [
             0.5,
             "#f7f7f7"
            ],
            [
             0.6,
             "#e6f5d0"
            ],
            [
             0.7,
             "#b8e186"
            ],
            [
             0.8,
             "#7fbc41"
            ],
            [
             0.9,
             "#4d9221"
            ],
            [
             1,
             "#276419"
            ]
           ],
           "sequential": [
            [
             0,
             "#0d0887"
            ],
            [
             0.1111111111111111,
             "#46039f"
            ],
            [
             0.2222222222222222,
             "#7201a8"
            ],
            [
             0.3333333333333333,
             "#9c179e"
            ],
            [
             0.4444444444444444,
             "#bd3786"
            ],
            [
             0.5555555555555556,
             "#d8576b"
            ],
            [
             0.6666666666666666,
             "#ed7953"
            ],
            [
             0.7777777777777778,
             "#fb9f3a"
            ],
            [
             0.8888888888888888,
             "#fdca26"
            ],
            [
             1,
             "#f0f921"
            ]
           ],
           "sequentialminus": [
            [
             0,
             "#0d0887"
            ],
            [
             0.1111111111111111,
             "#46039f"
            ],
            [
             0.2222222222222222,
             "#7201a8"
            ],
            [
             0.3333333333333333,
             "#9c179e"
            ],
            [
             0.4444444444444444,
             "#bd3786"
            ],
            [
             0.5555555555555556,
             "#d8576b"
            ],
            [
             0.6666666666666666,
             "#ed7953"
            ],
            [
             0.7777777777777778,
             "#fb9f3a"
            ],
            [
             0.8888888888888888,
             "#fdca26"
            ],
            [
             1,
             "#f0f921"
            ]
           ]
          },
          "colorway": [
           "#636efa",
           "#EF553B",
           "#00cc96",
           "#ab63fa",
           "#FFA15A",
           "#19d3f3",
           "#FF6692",
           "#B6E880",
           "#FF97FF",
           "#FECB52"
          ],
          "font": {
           "color": "#2a3f5f"
          },
          "geo": {
           "bgcolor": "white",
           "lakecolor": "white",
           "landcolor": "#E5ECF6",
           "showlakes": true,
           "showland": true,
           "subunitcolor": "white"
          },
          "hoverlabel": {
           "align": "left"
          },
          "hovermode": "closest",
          "mapbox": {
           "style": "light"
          },
          "paper_bgcolor": "white",
          "plot_bgcolor": "#E5ECF6",
          "polar": {
           "angularaxis": {
            "gridcolor": "white",
            "linecolor": "white",
            "ticks": ""
           },
           "bgcolor": "#E5ECF6",
           "radialaxis": {
            "gridcolor": "white",
            "linecolor": "white",
            "ticks": ""
           }
          },
          "scene": {
           "xaxis": {
            "backgroundcolor": "#E5ECF6",
            "gridcolor": "white",
            "gridwidth": 2,
            "linecolor": "white",
            "showbackground": true,
            "ticks": "",
            "zerolinecolor": "white"
           },
           "yaxis": {
            "backgroundcolor": "#E5ECF6",
            "gridcolor": "white",
            "gridwidth": 2,
            "linecolor": "white",
            "showbackground": true,
            "ticks": "",
            "zerolinecolor": "white"
           },
           "zaxis": {
            "backgroundcolor": "#E5ECF6",
            "gridcolor": "white",
            "gridwidth": 2,
            "linecolor": "white",
            "showbackground": true,
            "ticks": "",
            "zerolinecolor": "white"
           }
          },
          "shapedefaults": {
           "line": {
            "color": "#2a3f5f"
           }
          },
          "ternary": {
           "aaxis": {
            "gridcolor": "white",
            "linecolor": "white",
            "ticks": ""
           },
           "baxis": {
            "gridcolor": "white",
            "linecolor": "white",
            "ticks": ""
           },
           "bgcolor": "#E5ECF6",
           "caxis": {
            "gridcolor": "white",
            "linecolor": "white",
            "ticks": ""
           }
          },
          "title": {
           "x": 0.05
          },
          "xaxis": {
           "automargin": true,
           "gridcolor": "white",
           "linecolor": "white",
           "ticks": "",
           "title": {
            "standoff": 15
           },
           "zerolinecolor": "white",
           "zerolinewidth": 2
          },
          "yaxis": {
           "automargin": true,
           "gridcolor": "white",
           "linecolor": "white",
           "ticks": "",
           "title": {
            "standoff": 15
           },
           "zerolinecolor": "white",
           "zerolinewidth": 2
          }
         }
        },
        "title": {
         "text": "Interactive Distance Comparison: Sonar vs DVL"
        },
        "xaxis": {
         "anchor": "y",
         "domain": [
          0,
          1
         ],
         "showgrid": true,
         "title": {
          "text": "Time (seconds)"
         }
        },
        "yaxis": {
         "anchor": "x",
         "domain": [
          0,
          1
         ],
         "showgrid": true,
         "title": {
          "text": "Distance (meters)"
         }
        }
       }
      }
     },
     "metadata": {},
     "output_type": "display_data"
    }
   ],
   "source": [
    "fig, comparison_stats = iau.ComparisonEngine.compare_sonar_vs_dvl(distance_results, raw_data, sonar_coverage_m=sonar_coverage_meters, sonar_image_size=image_shape[0], use_plotly=True)\n",
    "fig.show()"
   ]
  },
  {
   "cell_type": "code",
   "execution_count": 9,
   "id": "50f97352",
   "metadata": {},
   "outputs": [
    {
     "name": "stdout",
     "output_type": "stream",
     "text": [
      "GENERATING VIDEO WITH DUAL NET DISTANCE OVERLAYS\n",
      "============================================================\n",
      " Target Bag: 2024-08-20_14-31-29\n",
      " DVL Data: 559 records\n",
      " Sonar Analysis: 1059 frames\n",
      " Auto-detect video: enabled (PNG frames + index.csv)\n",
      "⏱  Sync tolerance: 1.0s\n",
      "OPTIMIZED SONAR VIDEO\n",
      "======================================================================\n",
      "Target Bag: 2024-08-20_14-31-29\n",
      "   Cone Size: 900x700\n",
      "   Range: 0.0-5.0m | FOV: 120.0°\n",
      "Auto-detecting video files for bag: 2024-08-20_14-31-29\n",
      "Found video frames: 2024-08-20_14-31-29_video__image_compressed_image_data_frames\n",
      "Using frames directory: /Volumes/LaCie/SOLAQUA/exports/frames/2024-08-20_14-31-29_video__image_compressed_image_data_frames\n",
      "Camera: enabled\n",
      "Net-line: enabled (dist tol=0.5s, pitch tol=2.0s)\n",
      "Sonar Analysis: enabled\n",
      "   Loading sonar data: sensor_sonoptix_echo_image__2024-08-20_14-31-29_video.csv\n",
      "Loaded 1060 sonar frames in 42.29s\n",
      "Loaded 559 navigation records in 0.02s\n",
      "      Available: ['NetDistance', 'NetPitch', 'timestamp']\n",
      "Loaded 844 camera index entries\n",
      "   Frames: 1..1059 (step 1) => 1059\n",
      "   Natural FPS: 15.7\n",
      "Loaded 1060 sonar frames in 42.29s\n",
      "Loaded 559 navigation records in 0.02s\n",
      "      Available: ['NetDistance', 'NetPitch', 'timestamp']\n",
      "Loaded 844 camera index entries\n",
      "   Frames: 1..1059 (step 1) => 1059\n",
      "   Natural FPS: 15.7\n",
      "\n",
      "🎉 DONE! Wrote 1059 frames to /Volumes/LaCie/SOLAQUA/exports/videos/2024-08-20_14-31-29_optimized_sync_withcam_withsonar_20240820_143131_621807+0200.mp4 @ 15.67 FPS\n",
      "Metadata saved to: /Volumes/LaCie/SOLAQUA/exports/videos/2024-08-20_14-31-29_optimized_sync_withcam_withsonar_20240820_143131_621807+0200.mp4.meta.json\n",
      "\n",
      " Video generated successfully!\n",
      " Output: None\n",
      "\n",
      " Check the video output:\n",
      "   - Camera frames should sync properly with sonar\n",
      "   - When camera data ends, video should switch to sonar-only\n",
      "   - No frozen camera frames should appear\n",
      "\n",
      "🎉 DONE! Wrote 1059 frames to /Volumes/LaCie/SOLAQUA/exports/videos/2024-08-20_14-31-29_optimized_sync_withcam_withsonar_20240820_143131_621807+0200.mp4 @ 15.67 FPS\n",
      "Metadata saved to: /Volumes/LaCie/SOLAQUA/exports/videos/2024-08-20_14-31-29_optimized_sync_withcam_withsonar_20240820_143131_621807+0200.mp4.meta.json\n",
      "\n",
      " Video generated successfully!\n",
      " Output: None\n",
      "\n",
      " Check the video output:\n",
      "   - Camera frames should sync properly with sonar\n",
      "   - When camera data ends, video should switch to sonar-only\n",
      "   - No frozen camera frames should appear\n"
     ]
    }
   ],
   "source": [
    "# Generate Video with Both DVL and Sonar Analysis Overlays (Improved Sync)\n",
    "# ==========================================================================\n",
    "import utils.sonar_and_foto_generation as sg\n",
    "\n",
    "# Enable automatic video detection with improved synchronization\n",
    "from utils.sonar_config import VIDEO_CONFIG\n",
    "VIDEO_CONFIG['enable_video_overlay'] = True  \n",
    "VIDEO_CONFIG['max_sync_tolerance_seconds'] = 1.0  # Tighter sync tolerance\n",
    "\n",
    "print(\"GENERATING VIDEO WITH DUAL NET DISTANCE OVERLAYS\")\n",
    "print(\"=\" * 60)\n",
    "print(f\" Target Bag: {TARGET_BAG}\")\n",
    "print(f\" DVL Data: {len(raw_data.get('navigation', []))} records\")\n",
    "print(f\" Sonar Analysis: {len(distance_results)} frames\")\n",
    "print(f\" Auto-detect video: enabled (PNG frames + index.csv)\")\n",
    "print(f\"⏱  Sync tolerance: {VIDEO_CONFIG['max_sync_tolerance_seconds']}s\")\n",
    "\n",
    "# Generate the video with both overlays and improved sync\n",
    "try:\n",
    "    video_path = sg.export_optimized_sonar_video(\n",
    "        TARGET_BAG=TARGET_BAG,\n",
    "        EXPORTS_FOLDER=EXPORTS_FOLDER,\n",
    "        START_IDX=1,\n",
    "        END_IDX=1200,  \n",
    "        STRIDE=1,    \n",
    "        AUTO_DETECT_VIDEO=True,       # Enable automatic video file detection\n",
    "        INCLUDE_NET=True,             # Enable DVL net distance overlay\n",
    "        SONAR_DISTANCE_RESULTS=distance_results,  # Enable sonar analysis overlay\n",
    "        NET_DISTANCE_TOLERANCE=0.5,\n",
    "        NET_PITCH_TOLERANCE=2.0,      # Increased from 0.3 to 2.0 seconds for better pitch sync\n",
    "    )\n",
    "\n",
    "    print(f\"\\n Video generated successfully!\")\n",
    "    print(f\" Output: {video_path}\")\n",
    "    print(f\"\\n Check the video output:\")\n",
    "    print(f\"   - Camera frames should sync properly with sonar\")\n",
    "    print(f\"   - When camera data ends, video should switch to sonar-only\")\n",
    "    print(f\"   - No frozen camera frames should appear\")\n",
    "    \n",
    "except Exception as e:\n",
    "    print(f\"Error generating video: {e}\")\n",
    "    import traceback\n",
    "    traceback.print_exc()\n",
    "    print(\"\\n Troubleshooting:\")\n",
    "    print(\"  1. Run the video detection cell above to verify files exist\")\n",
    "    print(\"  2. Check that PNG frames directory has index.csv file\")\n",
    "    print(\"  3. Try disabling video overlay: VIDEO_CONFIG['enable_video_overlay'] = False\")\n",
    "    print(\"  4. Check exports directory structure\")"
   ]
  },
  {
   "cell_type": "code",
   "execution_count": 14,
   "id": "9228a95a",
   "metadata": {},
   "outputs": [],
   "source": []
  },
  {
   "cell_type": "code",
   "execution_count": null,
   "id": "88ad738a",
   "metadata": {},
   "outputs": [],
   "source": [
    "# Debug: Check for large distance jumps in the results\n",
    "import numpy as np\n",
    "\n",
    "# Calculate frame-to-frame distance changes\n",
    "valid_distances = distance_results[distance_results['detection_success']]['distance_pixels'].dropna()\n",
    "distance_changes = np.abs(np.diff(valid_distances))\n",
    "\n",
    "# Find large jumps\n",
    "threshold = 20  # Same as max_distance_change_pixels\n",
    "large_jumps = distance_changes > threshold\n",
    "large_jump_indices = np.where(large_jumps)[0]\n",
    "\n",
    "print(f\"Distance Stability Analysis:\")\n",
    "print(f\"Total valid distance measurements: {len(valid_distances)}\")\n",
    "print(f\"Large distance jumps (>{threshold} pixels): {np.sum(large_jumps)}\")\n",
    "print(f\"Percentage of large jumps: {np.sum(large_jumps)/len(distance_changes)*100:.1f}%\")\n",
    "\n",
    "if len(large_jump_indices) > 0:\n",
    "    print(f\"\\nLargest jumps found:\")\n",
    "    # Show the 5 largest jumps\n",
    "    largest_indices = large_jump_indices[np.argsort(distance_changes[large_jump_indices])[-5:]]\n",
    "    for idx in largest_indices:\n",
    "        prev_dist = valid_distances.iloc[idx]\n",
    "        next_dist = valid_distances.iloc[idx+1]\n",
    "        change = distance_changes[idx]\n",
    "        print(f\"  Frame {idx} → {idx+1}: {prev_dist:.1f} → {next_dist:.1f} pixels (change: {change:.1f})\")\n",
    "\n",
    "# Check the actual distance values\n",
    "print(f\"\\nDistance statistics:\")\n",
    "print(f\"Mean: {valid_distances.mean():.1f} pixels\")\n",
    "print(f\"Std: {valid_distances.std():.1f} pixels\")\n",
    "print(f\"Min: {valid_distances.min():.1f} pixels\") \n",
    "print(f\"Max: {valid_distances.max():.1f} pixels\")\n",
    "print(f\"Range: {valid_distances.max() - valid_distances.min():.1f} pixels\")"
   ]
  },
  {
   "cell_type": "code",
   "execution_count": null,
   "id": "5d3b7a30",
   "metadata": {},
   "outputs": [],
   "source": [
    "# Let's create a debug version of the processor to see what's happening\n",
    "import utils.sonar_image_analysis as iau\n",
    "import importlib\n",
    "importlib.reload(iau)\n",
    "\n",
    "# Create a debug processor that prints distance threshold decisions\n",
    "class DebugSonarDataProcessor(iau.SonarDataProcessor):\n",
    "    def analyze_frame(self, frame_u8, extent=None):\n",
    "        result = super().analyze_frame(frame_u8, extent)\n",
    "        \n",
    "        # Print debug info when distance changes\n",
    "        if result.distance_pixels is not None and self.previous_distance_pixels is not None:\n",
    "            change = abs(result.distance_pixels - self.previous_distance_pixels)\n",
    "            threshold = self.img_config.get('max_distance_change_pixels', 20)\n",
    "            \n",
    "            if change > threshold:\n",
    "                print(f\"🚨 LARGE DISTANCE CHANGE DETECTED:\")\n",
    "                print(f\"   Previous: {self.previous_distance_pixels:.1f} pixels\")\n",
    "                print(f\"   Current:  {result.distance_pixels:.1f} pixels\")\n",
    "                print(f\"   Change:   {change:.1f} pixels (threshold: {threshold})\")\n",
    "                print(f\"   Action:   {'SMOOTHED' if change > threshold else 'ACCEPTED'}\")\n",
    "        \n",
    "        return result\n",
    "\n",
    "# Test with a few frames to see if threshold is working\n",
    "debug_processor = DebugSonarDataProcessor()\n",
    "\n",
    "# Load a few frames and process them\n",
    "cones, ts, extent, meta = iau.load_cone_run_npz(selected)\n",
    "print(f\"Testing distance threshold with {min(10, len(cones))} frames...\")\n",
    "\n",
    "for i in range(min(10, len(cones))):\n",
    "    frame_u8 = iau.to_uint8_gray(cones[i])\n",
    "    result = debug_processor.analyze_frame(frame_u8, extent)\n",
    "    \n",
    "    if result.detection_success:\n",
    "        print(f\"Frame {i}: distance = {result.distance_pixels:.1f} pixels\")"
   ]
  }
 ],
 "metadata": {
  "kernelspec": {
   "display_name": "venv",
   "language": "python",
   "name": "python3"
  },
  "language_info": {
   "codemirror_mode": {
    "name": "ipython",
    "version": 3
   },
   "file_extension": ".py",
   "mimetype": "text/x-python",
   "name": "python",
   "nbconvert_exporter": "python",
   "pygments_lexer": "ipython3",
   "version": "3.13.5"
  }
 },
 "nbformat": 4,
 "nbformat_minor": 5
}
