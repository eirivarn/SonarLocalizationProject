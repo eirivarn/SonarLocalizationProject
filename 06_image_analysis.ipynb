{
 "cells": [
  {
   "cell_type": "code",
   "execution_count": 1,
   "id": "7a8d02c0",
   "metadata": {},
   "outputs": [],
   "source": [
    "from pathlib import Path\n",
    "import utils.sonar_image_analysis as iau\n",
    "import importlib\n",
    "importlib.reload(iau)\n",
    "\n",
    "# Centralized sonar defaults (inserted by sweep)\n",
    "from utils.sonar_config import SONAR_VIS_DEFAULTS\n",
    "sonar_config = SONAR_VIS_DEFAULTS.copy()\n",
    "# Backwards-compatible variable names used in older notebooks\n",
    "RANGE_MIN_M = sonar_config['range_min_m']\n",
    "RANGE_MAX_M = sonar_config['range_max_m']\n",
    "DISPLAY_RANGE_MAX_M = sonar_config['display_range_max_m']"
   ]
  },
  {
   "cell_type": "markdown",
   "id": "9220eb1d",
   "metadata": {},
   "source": [
    "# Simple Image Analysis with CV2\n",
    "\n",
    "This notebook demonstrates:\n",
    "1. **Pick a frame** from NPZ files and save it locally\n",
    "2. **Use standard cv2 functions** directly for image processing\n",
    "3. **Experiment** with different OpenCV operations"
   ]
  },
  {
   "cell_type": "code",
   "execution_count": 2,
   "id": "4b3e8f46",
   "metadata": {},
   "outputs": [
    {
     "name": "stdout",
     "output_type": "stream",
     "text": [
      "Using DATA_DIR = /Volumes/LaCie/SOLAQUA/raw_data\n",
      "Selected NPZ file: 2024-08-20_14-31-29_data_cones.npz (index=8)\n"
     ]
    }
   ],
   "source": [
    "\n",
    "\n",
    "# Prefer selecting by bag ID (part of the NPZ filename) instead of a numeric index.\n",
    "# Set TARGET_BAG to a substring that appears in the NPZ filename \n",
    "# '2024-08-22_14-47-39' #1\n",
    "# '2024-08-22_14-29-05' #2\n",
    "# '2024-08-20_14-22-12' #3\n",
    "# '2024-08-20_14-31-29' #4\n",
    "# '2024-08-20_18-47-40' #5\n",
    "# '2024-08-20_13-55-34' #6\n",
    "# '2024-08-20_13-57-42' #7\n",
    "TARGET_BAG = '2024-08-20_14-31-29'  # change this to your desired bag ID\n",
    "from utils.sonar_config import EXPORTS_DIR_DEFAULT, EXPORTS_SUBDIRS\n",
    "EXPORTS_FOLDER = Path(EXPORTS_DIR_DEFAULT)\n",
    "\n",
    "# If you keep your raw .bag files or raw data on an external drive, point DATA_DIR there.\n",
    "# Example (your external disk): /Volumes/LaCie/SOLAQUA/raw_data\n",
    "DATA_DIR = Path(\"/Volumes/LaCie/SOLAQUA/raw_data\")\n",
    "print(f\"Using DATA_DIR = {DATA_DIR}\")\n",
    "\n",
    "# Find NPZ files and pick the one matching TARGET_BAG\n",
    "files = iau.get_available_npz_files()\n",
    "if not files:\n",
    "    raise FileNotFoundError(f\"No NPZ files found in configured exports outputs (looked under {EXPORTS_FOLDER / EXPORTS_SUBDIRS.get('outputs','outputs')})\")\n",
    "matches = [p for p in files if TARGET_BAG in p.name]\n",
    "if not matches:\n",
    "    # Help the user by listing available NPZ files\n",
    "    print(f'No NPZ file matched TARGET_BAG={TARGET_BAG!r}')\n",
    "    print('Available NPZ files:')\n",
    "    for i,p in enumerate(files):\n",
    "        print(f'  {i}: {p.name}')\n",
    "    raise ValueError(f'No NPZ file contains \"{TARGET_BAG}\" in its name')\n",
    "\n",
    "# If multiple matches, choose the most recently modified one\n",
    "selected = max(matches, key=lambda p: p.stat().st_mtime)\n",
    "NPZ_FILE_INDEX = files.index(selected)\n",
    "print(f'Selected NPZ file: {selected.name} (index={NPZ_FILE_INDEX})')"
   ]
  },
  {
   "cell_type": "markdown",
   "id": "0c65358c",
   "metadata": {},
   "source": [
    "## Distance Analysis Over Time\n",
    "\n",
    "Now let's perform a comprehensive analysis of the red line distance over time. The red line represents the major axis of the detected elongated contour (likely a fishing net), and we'll track how this distance changes throughout the video sequence."
   ]
  },
  {
   "cell_type": "code",
   "execution_count": 3,
   "id": "b9c5da85",
   "metadata": {},
   "outputs": [
    {
     "name": "stdout",
     "output_type": "stream",
     "text": [
      "=== ENHANCED VIDEO CREATION (Simplified) ===\n",
      "Creating video with simplified processor...\n",
      "Frames: 1500, step: 1\n",
      "Processing 1059 frames with simplified processor...\n",
      "Processed 10/1059 frames\n",
      "Processed 20/1059 frames\n",
      "Processed 30/1059 frames\n",
      "Processed 40/1059 frames\n",
      "Processed 50/1059 frames\n",
      "Processed 60/1059 frames\n",
      "Processed 70/1059 frames\n",
      "Processed 80/1059 frames\n",
      "Processed 90/1059 frames\n",
      "Processed 100/1059 frames\n",
      "Processed 110/1059 frames\n",
      "Processed 120/1059 frames\n",
      "Processed 130/1059 frames\n",
      "Processed 140/1059 frames\n",
      "Processed 150/1059 frames\n",
      "Processed 160/1059 frames\n",
      "Processed 170/1059 frames\n",
      "Processed 180/1059 frames\n",
      "Processed 190/1059 frames\n",
      "Processed 200/1059 frames\n",
      "Processed 210/1059 frames\n",
      "Processed 220/1059 frames\n",
      "Processed 230/1059 frames\n",
      "Processed 240/1059 frames\n",
      "Processed 250/1059 frames\n",
      "Processed 260/1059 frames\n",
      "Processed 270/1059 frames\n",
      "Processed 280/1059 frames\n",
      "Processed 290/1059 frames\n",
      "Processed 300/1059 frames\n",
      "Processed 310/1059 frames\n",
      "Processed 320/1059 frames\n",
      "Processed 330/1059 frames\n",
      "Processed 340/1059 frames\n",
      "Processed 350/1059 frames\n",
      "Processed 360/1059 frames\n",
      "Processed 370/1059 frames\n",
      "Processed 380/1059 frames\n",
      "Processed 390/1059 frames\n",
      "Processed 400/1059 frames\n",
      "Processed 410/1059 frames\n",
      "Processed 420/1059 frames\n",
      "Processed 430/1059 frames\n",
      "Processed 440/1059 frames\n",
      "Processed 450/1059 frames\n",
      "Processed 460/1059 frames\n",
      "Processed 470/1059 frames\n",
      "Processed 480/1059 frames\n",
      "Processed 490/1059 frames\n",
      "Processed 500/1059 frames\n",
      "Processed 510/1059 frames\n",
      "Processed 520/1059 frames\n",
      "Processed 530/1059 frames\n",
      "Processed 540/1059 frames\n",
      "Processed 550/1059 frames\n",
      "Processed 560/1059 frames\n",
      "Processed 570/1059 frames\n",
      "Processed 580/1059 frames\n",
      "Processed 590/1059 frames\n",
      "Processed 600/1059 frames\n",
      "Processed 610/1059 frames\n",
      "Processed 620/1059 frames\n",
      "Processed 630/1059 frames\n",
      "Processed 640/1059 frames\n",
      "Processed 650/1059 frames\n",
      "Processed 660/1059 frames\n",
      "Processed 670/1059 frames\n",
      "Processed 680/1059 frames\n",
      "Processed 690/1059 frames\n",
      "Processed 700/1059 frames\n",
      "Processed 710/1059 frames\n",
      "Processed 720/1059 frames\n",
      "Processed 730/1059 frames\n",
      "Processed 740/1059 frames\n",
      "Processed 750/1059 frames\n",
      "Processed 760/1059 frames\n",
      "Processed 770/1059 frames\n",
      "Processed 780/1059 frames\n",
      "Processed 790/1059 frames\n",
      "Processed 800/1059 frames\n",
      "Processed 810/1059 frames\n",
      "Processed 820/1059 frames\n",
      "Processed 830/1059 frames\n",
      "Processed 840/1059 frames\n",
      "Processed 850/1059 frames\n",
      "Processed 860/1059 frames\n",
      "Processed 870/1059 frames\n",
      "Processed 880/1059 frames\n",
      "Processed 890/1059 frames\n",
      "Processed 900/1059 frames\n",
      "Processed 910/1059 frames\n",
      "Processed 920/1059 frames\n",
      "Processed 930/1059 frames\n",
      "Processed 940/1059 frames\n",
      "Processed 950/1059 frames\n",
      "Processed 960/1059 frames\n",
      "Processed 970/1059 frames\n",
      "Processed 980/1059 frames\n",
      "Processed 990/1059 frames\n",
      "Processed 1000/1059 frames\n",
      "Processed 1010/1059 frames\n",
      "Processed 1020/1059 frames\n",
      "Processed 1030/1059 frames\n",
      "Processed 1040/1059 frames\n",
      "Processed 1050/1059 frames\n",
      "\n",
      "=== ENHANCED VIDEO CREATION COMPLETE ===\n",
      "Video saved to: /Volumes/LaCie/SOLAQUA/exports/videos/core_aoi_tracking.mp4\n",
      "Video specs: 900x700, 15 fps, 1059 frames\n",
      "SIMPLIFIED TRACKING STATS:\n",
      "  - Total detected frames: 1059\n",
      "  - Lost/searching frames: 0\n",
      "  - Detection success rate: 100.0%\n"
     ]
    }
   ],
   "source": [
    "# Create the unified processor\n",
    "processor = iau.SonarDataProcessor()\n",
    "\n",
    "# Use the enhanced video creation with CORE processor\n",
    "video_path = iau.create_enhanced_contour_detection_video_with_processor(\n",
    "    npz_file_index=NPZ_FILE_INDEX,          # Which NPZ file to use\n",
    "    frame_start=1,           # Starting frame\n",
    "    frame_count=1500,         # Number of frames to process\n",
    "    frame_step=1,            # Step between frames\n",
    "    output_path=Path(EXPORTS_DIR_DEFAULT) / EXPORTS_SUBDIRS.get('videos','videos') / 'core_aoi_tracking.mp4',\n",
    "    processor=processor      # Use our CORE processor\n",
    ")"
   ]
  },
  {
   "cell_type": "code",
   "execution_count": 4,
   "id": "d9c0382e",
   "metadata": {},
   "outputs": [
    {
     "name": "stdout",
     "output_type": "stream",
     "text": [
      "=== DISTANCE ANALYSIS FROM NPZ ===\n",
      "Analyzing: /Volumes/LaCie/SOLAQUA/exports/outputs/2024-08-20_14-31-29_data_cones.npz\n",
      "Processing 1059 frames from 1 (step=1)\n",
      "  Processed 50/1059 frames (Success rate: 100.0%)\n",
      "  Processed 100/1059 frames (Success rate: 100.0%)\n",
      "  Processed 150/1059 frames (Success rate: 100.0%)\n",
      "  Processed 200/1059 frames (Success rate: 100.0%)\n",
      "  Processed 250/1059 frames (Success rate: 100.0%)\n",
      "  Processed 300/1059 frames (Success rate: 100.0%)\n",
      "  Processed 350/1059 frames (Success rate: 100.0%)\n",
      "  Processed 400/1059 frames (Success rate: 100.0%)\n",
      "  Processed 450/1059 frames (Success rate: 100.0%)\n",
      "  Processed 500/1059 frames (Success rate: 100.0%)\n",
      "  Processed 550/1059 frames (Success rate: 100.0%)\n",
      "  Processed 600/1059 frames (Success rate: 100.0%)\n",
      "  Processed 650/1059 frames (Success rate: 100.0%)\n",
      "  Processed 700/1059 frames (Success rate: 100.0%)\n",
      "  Processed 750/1059 frames (Success rate: 100.0%)\n",
      "  Processed 800/1059 frames (Success rate: 100.0%)\n",
      "  Processed 850/1059 frames (Success rate: 100.0%)\n",
      "  Processed 900/1059 frames (Success rate: 100.0%)\n",
      "  Processed 950/1059 frames (Success rate: 100.0%)\n",
      "  Processed 1000/1059 frames (Success rate: 100.0%)\n",
      "  Processed 1050/1059 frames (Success rate: 100.0%)\n",
      "\n",
      "=== ANALYSIS COMPLETE ===\n",
      "Total frames processed: 1059\n",
      "Successful detections: 1059 (100.0%)\n",
      "Distance statistics (meters):\n",
      "  - Mean: 2.025\n",
      "  - Std:  0.325\n",
      "  - Min:  1.554\n",
      "  - Max:  3.158\n",
      "  - Range: 1.604\n",
      "Analyzed 1059 frames using elliptical AOI\n",
      " Detection success rate: 100.0%\n",
      " Elliptical tracking active: 0 frames\n"
     ]
    }
   ],
   "source": [
    "engine = iau.DistanceAnalysisEngine()\n",
    "distance_results = engine.analyze_npz_sequence(\n",
    "    npz_file_index=NPZ_FILE_INDEX,    \n",
    "    frame_start=1,        # Start from frame 1\n",
    "    frame_count=1500,      # Analyze all frames from the video\n",
    "    frame_step=1          # Every frame\n",
    ")\n",
    "\n",
    "print(f\"Analyzed {len(distance_results)} frames using elliptical AOI\")\n",
    "print(f\" Detection success rate: {distance_results['detection_success'].mean():.1%}\")\n",
    "print(f\" Elliptical tracking active: {(distance_results['tracking_status'].str.contains('ELLIPSE')).sum()} frames\")"
   ]
  },
  {
   "cell_type": "code",
   "execution_count": 5,
   "id": "0bd5183d",
   "metadata": {},
   "outputs": [
    {
     "data": {
      "text/plain": [
       "Index(['frame_index', 'timestamp', 'distance_pixels', 'angle_degrees',\n",
       "       'distance_meters', 'detection_success', 'tracking_status', 'area',\n",
       "       'aspect_ratio', 'solidity', 'extent', 'ellipse_elongation',\n",
       "       'straightness', 'rect', 'centroid_x', 'centroid_y'],\n",
       "      dtype='object')"
      ]
     },
     "execution_count": 5,
     "metadata": {},
     "output_type": "execute_result"
    }
   ],
   "source": [
    "distance_results.columns"
   ]
  },
  {
   "cell_type": "markdown",
   "id": "fede9d64",
   "metadata": {},
   "source": [
    "## Convert to Real-World Distances\n",
    "\n",
    "Now let's convert the pixel distances to real-world distances using the fact that the entire sonar image represents a 10x10 meter area."
   ]
  },
  {
   "cell_type": "code",
   "execution_count": 6,
   "id": "886897de",
   "metadata": {},
   "outputs": [
    {
     "name": "stdout",
     "output_type": "stream",
     "text": [
      "Detected NPZ extent: x=[-8.660,8.660] m, y=[0.000,10.000] m\n",
      "Image shape from NPZ: H=700, W=900\n",
      "meters/pixel: x=0.019245, y=0.014286, avg=0.016765\n",
      "Using pixels_to_meters_avg = 0.016765 m/px\n"
     ]
    }
   ],
   "source": [
    "# Auto-detect pixel->meter mapping from the selected NPZ (if available)\n",
    "try:\n",
    "    cones, ts, extent, meta = iau.load_cone_run_npz(selected)\n",
    "    T, H, W = cones.shape\n",
    "    x_min, x_max, y_min, y_max = extent\n",
    "    width_m = float(x_max - x_min)\n",
    "    height_m = float(y_max - y_min)\n",
    "    px2m_x = width_m / float(W)\n",
    "    px2m_y = height_m / float(H)\n",
    "    pixels_to_meters_avg = 0.5 * (px2m_x + px2m_y)\n",
    "    image_shape = (H, W)\n",
    "    sonar_coverage_meters = max(width_m, height_m)\n",
    "    print(f\"Detected NPZ extent: x=[{x_min:.3f},{x_max:.3f}] m, y=[{y_min:.3f},{y_max:.3f}] m\")\n",
    "    print(f\"Image shape from NPZ: H={H}, W={W}\")\n",
    "    print(f\"meters/pixel: x={px2m_x:.6f}, y={px2m_y:.6f}, avg={pixels_to_meters_avg:.6f}\")\n",
    "except Exception as e:\n",
    "    print(\"Could not read NPZ metadata:\", e)\n",
    "    print(\"Falling back to defaults from sonar_config.\")\n",
    "    from utils.sonar_config import CONE_H_DEFAULT, CONE_W_DEFAULT, DISPLAY_RANGE_MAX_M_DEFAULT\n",
    "    image_shape = (CONE_H_DEFAULT, CONE_W_DEFAULT)\n",
    "    sonar_coverage_meters = DISPLAY_RANGE_MAX_M_DEFAULT * 2  # approximate\n",
    "    pixels_to_meters_avg = sonar_coverage_meters / max(image_shape)\n",
    "    \n",
    "# Use the computed pixels_to_meters_avg in downstream analysis\n",
    "print(f\"Using pixels_to_meters_avg = {pixels_to_meters_avg:.6f} m/px\")"
   ]
  },
  {
   "cell_type": "code",
   "execution_count": 7,
   "id": "15d6238c",
   "metadata": {},
   "outputs": [
    {
     "data": {
      "application/vnd.plotly.v1+json": {
       "config": {
        "plotlyServerURL": "https://plot.ly"
       },
       "data": [
        {
         "line": {
          "color": "blue"
         },
         "mode": "lines+markers",
         "name": "Distance",
         "type": "scatter",
         "x": {
          "bdata": "AQACAAMABAAFAAYABwAIAAkACgALAAwADQAOAA8AEAARABIAEwAUABUAFgAXABgAGQAaABsAHAAdAB4AHwAgACEAIgAjACQAJQAmACcAKAApACoAKwAsAC0ALgAvADAAMQAyADMANAA1ADYANwA4ADkAOgA7ADwAPQA+AD8AQABBAEIAQwBEAEUARgBHAEgASQBKAEsATABNAE4ATwBQAFEAUgBTAFQAVQBWAFcAWABZAFoAWwBcAF0AXgBfAGAAYQBiAGMAZABlAGYAZwBoAGkAagBrAGwAbQBuAG8AcABxAHIAcwB0AHUAdgB3AHgAeQB6AHsAfAB9AH4AfwCAAIEAggCDAIQAhQCGAIcAiACJAIoAiwCMAI0AjgCPAJAAkQCSAJMAlACVAJYAlwCYAJkAmgCbAJwAnQCeAJ8AoAChAKIAowCkAKUApgCnAKgAqQCqAKsArACtAK4ArwCwALEAsgCzALQAtQC2ALcAuAC5ALoAuwC8AL0AvgC/AMAAwQDCAMMAxADFAMYAxwDIAMkAygDLAMwAzQDOAM8A0ADRANIA0wDUANUA1gDXANgA2QDaANsA3ADdAN4A3wDgAOEA4gDjAOQA5QDmAOcA6ADpAOoA6wDsAO0A7gDvAPAA8QDyAPMA9AD1APYA9wD4APkA+gD7APwA/QD+AP8AAAEBAQIBAwEEAQUBBgEHAQgBCQEKAQsBDAENAQ4BDwEQAREBEgETARQBFQEWARcBGAEZARoBGwEcAR0BHgEfASABIQEiASMBJAElASYBJwEoASkBKgErASwBLQEuAS8BMAExATIBMwE0ATUBNgE3ATgBOQE6ATsBPAE9AT4BPwFAAUEBQgFDAUQBRQFGAUcBSAFJAUoBSwFMAU0BTgFPAVABUQFSAVMBVAFVAVYBVwFYAVkBWgFbAVwBXQFeAV8BYAFhAWIBYwFkAWUBZgFnAWgBaQFqAWsBbAFtAW4BbwFwAXEBcgFzAXQBdQF2AXcBeAF5AXoBewF8AX0BfgF/AYABgQGCAYMBhAGFAYYBhwGIAYkBigGLAYwBjQGOAY8BkAGRAZIBkwGUAZUBlgGXAZgBmQGaAZsBnAGdAZ4BnwGgAaEBogGjAaQBpQGmAacBqAGpAaoBqwGsAa0BrgGvAbABsQGyAbMBtAG1AbYBtwG4AbkBugG7AbwBvQG+Ab8BwAHBAcIBwwHEAcUBxgHHAcgByQHKAcsBzAHNAc4BzwHQAdEB0gHTAdQB1QHWAdcB2AHZAdoB2wHcAd0B3gHfAeAB4QHiAeMB5AHlAeYB5wHoAekB6gHrAewB7QHuAe8B8AHxAfIB8wH0AfUB9gH3AfgB+QH6AfsB/AH9Af4B/wEAAgECAgIDAgQCBQIGAgcCCAIJAgoCCwIMAg0CDgIPAhACEQISAhMCFAIVAhYCFwIYAhkCGgIbAhwCHQIeAh8CIAIhAiICIwIkAiUCJgInAigCKQIqAisCLAItAi4CLwIwAjECMgIzAjQCNQI2AjcCOAI5AjoCOwI8Aj0CPgI/AkACQQJCAkMCRAJFAkYCRwJIAkkCSgJLAkwCTQJOAk8CUAJRAlICUwJUAlUCVgJXAlgCWQJaAlsCXAJdAl4CXwJgAmECYgJjAmQCZQJmAmcCaAJpAmoCawJsAm0CbgJvAnACcQJyAnMCdAJ1AnYCdwJ4AnkCegJ7AnwCfQJ+An8CgAKBAoICgwKEAoUChgKHAogCiQKKAosCjAKNAo4CjwKQApECkgKTApQClQKWApcCmAKZApoCmwKcAp0CngKfAqACoQKiAqMCpAKlAqYCpwKoAqkCqgKrAqwCrQKuAq8CsAKxArICswK0ArUCtgK3ArgCuQK6ArsCvAK9Ar4CvwLAAsECwgLDAsQCxQLGAscCyALJAsoCywLMAs0CzgLPAtAC0QLSAtMC1ALVAtYC1wLYAtkC2gLbAtwC3QLeAt8C4ALhAuIC4wLkAuUC5gLnAugC6QLqAusC7ALtAu4C7wLwAvEC8gLzAvQC9QL2AvcC+AL5AvoC+wL8Av0C/gL/AgADAQMCAwMDBAMFAwYDBwMIAwkDCgMLAwwDDQMOAw8DEAMRAxIDEwMUAxUDFgMXAxgDGQMaAxsDHAMdAx4DHwMgAyEDIgMjAyQDJQMmAycDKAMpAyoDKwMsAy0DLgMvAzADMQMyAzMDNAM1AzYDNwM4AzkDOgM7AzwDPQM+Az8DQANBA0IDQwNEA0UDRgNHA0gDSQNKA0sDTANNA04DTwNQA1EDUgNTA1QDVQNWA1cDWANZA1oDWwNcA10DXgNfA2ADYQNiA2MDZANlA2YDZwNoA2kDagNrA2wDbQNuA28DcANxA3IDcwN0A3UDdgN3A3gDeQN6A3sDfAN9A34DfwOAA4EDggODA4QDhQOGA4cDiAOJA4oDiwOMA40DjgOPA5ADkQOSA5MDlAOVA5YDlwOYA5kDmgObA5wDnQOeA58DoAOhA6IDowOkA6UDpgOnA6gDqQOqA6sDrAOtA64DrwOwA7EDsgOzA7QDtQO2A7cDuAO5A7oDuwO8A70DvgO/A8ADwQPCA8MDxAPFA8YDxwPIA8kDygPLA8wDzQPOA88D0APRA9ID0wPUA9UD1gPXA9gD2QPaA9sD3APdA94D3wPgA+ED4gPjA+QD5QPmA+cD6APpA+oD6wPsA+0D7gPvA/AD8QPyA/MD9AP1A/YD9wP4A/kD+gP7A/wD/QP+A/8DAAQBBAIEAwQEBAUEBgQHBAgECQQKBAsEDAQNBA4EDwQQBBEEEgQTBBQEFQQWBBcEGAQZBBoEGwQcBB0EHgQfBCAEIQQiBCME",
          "dtype": "i2"
         },
         "xaxis": "x",
         "y": {
          "bdata": "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",
          "dtype": "f8"
         },
         "yaxis": "y"
        },
        {
         "line": {
          "color": "green"
         },
         "mode": "lines+markers",
         "name": "Distance over Time",
         "type": "scatter",
         "x": [
          "2024-08-20T12:31:31.621807575",
          "2024-08-20T12:31:31.681648731",
          "2024-08-20T12:31:31.742511034",
          "2024-08-20T12:31:31.818883181",
          "2024-08-20T12:31:31.874155045",
          "2024-08-20T12:31:31.937494755",
          "2024-08-20T12:31:31.999329090",
          "2024-08-20T12:31:32.063158035",
          "2024-08-20T12:31:32.130053520",
          "2024-08-20T12:31:32.191398144",
          "2024-08-20T12:31:32.254230738",
          "2024-08-20T12:31:32.318058729",
          "2024-08-20T12:31:32.395849943",
          "2024-08-20T12:31:32.445717096",
          "2024-08-20T12:31:32.511543512",
          "2024-08-20T12:31:32.576503515",
          "2024-08-20T12:31:32.637341022",
          "2024-08-20T12:31:32.702203035",
          "2024-08-20T12:31:32.768987656",
          "2024-08-20T12:31:32.829861403",
          "2024-08-20T12:31:32.894687653",
          "2024-08-20T12:31:32.962601185",
          "2024-08-20T12:31:33.025435448",
          "2024-08-20T12:31:33.088264227",
          "2024-08-20T12:31:33.151147127",
          "2024-08-20T12:31:33.218916655",
          "2024-08-20T12:31:33.280750036",
          "2024-08-20T12:31:33.342585087",
          "2024-08-20T12:31:33.407411814",
          "2024-08-20T12:31:33.484754801",
          "2024-08-20T12:31:33.533624887",
          "2024-08-20T12:31:33.610753059",
          "2024-08-20T12:31:33.671589851",
          "2024-08-20T12:31:33.730820179",
          "2024-08-20T12:31:33.790660143",
          "2024-08-20T12:31:33.854523897",
          "2024-08-20T12:31:33.919317245",
          "2024-08-20T12:31:33.984568357",
          "2024-08-20T12:31:34.048381805",
          "2024-08-20T12:31:34.117199183",
          "2024-08-20T12:31:34.183008671",
          "2024-08-20T12:31:34.237861395",
          "2024-08-20T12:31:34.303685427",
          "2024-08-20T12:31:34.367515802",
          "2024-08-20T12:31:34.431509018",
          "2024-08-20T12:31:34.508416414",
          "2024-08-20T12:31:34.565290689",
          "2024-08-20T12:31:34.624107361",
          "2024-08-20T12:31:34.686995983",
          "2024-08-20T12:31:34.749772310",
          "2024-08-20T12:31:34.822613001",
          "2024-08-20T12:31:34.882473946",
          "2024-08-20T12:31:34.943256378",
          "2024-08-20T12:31:35.006085634",
          "2024-08-20T12:31:35.075951576",
          "2024-08-20T12:31:35.139728308",
          "2024-08-20T12:31:35.197573662",
          "2024-08-20T12:31:35.264425278",
          "2024-08-20T12:31:35.328751326",
          "2024-08-20T12:31:35.404547215",
          "2024-08-20T12:31:35.454563379",
          "2024-08-20T12:31:35.522747992",
          "2024-08-20T12:31:35.597547531",
          "2024-08-20T12:31:35.666362762",
          "2024-08-20T12:31:35.716230869",
          "2024-08-20T12:31:35.779061317",
          "2024-08-20T12:31:35.839905977",
          "2024-08-20T12:31:35.902730942",
          "2024-08-20T12:31:35.968554974",
          "2024-08-20T12:31:36.034378290",
          "2024-08-20T12:31:36.146079779",
          "2024-08-20T12:31:36.202927351",
          "2024-08-20T12:31:36.253791808",
          "2024-08-20T12:31:36.310640812",
          "2024-08-20T12:31:36.362536430",
          "2024-08-20T12:31:36.415360451",
          "2024-08-20T12:31:36.612915516",
          "2024-08-20T12:31:36.629870653",
          "2024-08-20T12:31:36.686092138",
          "2024-08-20T12:31:36.731478691",
          "2024-08-20T12:31:36.792353392",
          "2024-08-20T12:31:36.835259199",
          "2024-08-20T12:31:36.882076502",
          "2024-08-20T12:31:36.930180311",
          "2024-08-20T12:31:36.995010138",
          "2024-08-20T12:31:37.057901382",
          "2024-08-20T12:31:37.120796442",
          "2024-08-20T12:31:37.190546751",
          "2024-08-20T12:31:37.245904446",
          "2024-08-20T12:31:37.310695887",
          "2024-08-20T12:31:37.375525713",
          "2024-08-20T12:31:37.443047285",
          "2024-08-20T12:31:37.501889229",
          "2024-08-20T12:31:37.570401907",
          "2024-08-20T12:31:37.634161472",
          "2024-08-20T12:31:37.698097229",
          "2024-08-20T12:31:37.760633230",
          "2024-08-20T12:31:37.822077274",
          "2024-08-20T12:31:37.890928745",
          "2024-08-20T12:31:37.950802088",
          "2024-08-20T12:31:38.016170025",
          "2024-08-20T12:31:38.079568386",
          "2024-08-20T12:31:38.144387484",
          "2024-08-20T12:31:38.206281900",
          "2024-08-20T12:31:38.272046804",
          "2024-08-20T12:31:38.335875273",
          "2024-08-20T12:31:38.399709225",
          "2024-08-20T12:31:38.464562416",
          "2024-08-20T12:31:38.526404619",
          "2024-08-20T12:31:38.595264912",
          "2024-08-20T12:31:38.654108047",
          "2024-08-20T12:31:38.719931841",
          "2024-08-20T12:31:38.783764362",
          "2024-08-20T12:31:38.857566357",
          "2024-08-20T12:31:38.911419630",
          "2024-08-20T12:31:38.976246357",
          "2024-08-20T12:31:39.042104006",
          "2024-08-20T12:31:39.101980925",
          "2024-08-20T12:31:39.166769743",
          "2024-08-20T12:31:39.232593060",
          "2024-08-20T12:31:39.297420025",
          "2024-08-20T12:31:39.361249447",
          "2024-08-20T12:31:39.423182011",
          "2024-08-20T12:31:39.490002155",
          "2024-08-20T12:31:39.549880981",
          "2024-08-20T12:31:39.614220381",
          "2024-08-20T12:31:39.680010796",
          "2024-08-20T12:31:39.748333454",
          "2024-08-20T12:31:39.812162876",
          "2024-08-20T12:31:39.877536774",
          "2024-08-20T12:31:40.073243380",
          "2024-08-20T12:31:40.086207151",
          "2024-08-20T12:31:40.148041010",
          "2024-08-20T12:31:40.191923618",
          "2024-08-20T12:31:40.237802505",
          "2024-08-20T12:31:40.300632715",
          "2024-08-20T12:31:40.345512867",
          "2024-08-20T12:31:40.391391993",
          "2024-08-20T12:31:40.451229811",
          "2024-08-20T12:31:40.517088412",
          "2024-08-20T12:31:40.581882000",
          "2024-08-20T12:31:40.639754295",
          "2024-08-20T12:31:40.703556538",
          "2024-08-20T12:31:40.769875050",
          "2024-08-20T12:31:40.833705902",
          "2024-08-20T12:31:40.910538912",
          "2024-08-20T12:31:40.974536657",
          "2024-08-20T12:31:41.029807091",
          "2024-08-20T12:31:41.085696697",
          "2024-08-20T12:31:41.153585434",
          "2024-08-20T12:31:41.224370241",
          "2024-08-20T12:31:41.289196968",
          "2024-08-20T12:31:41.349036694",
          "2024-08-20T12:31:41.405884266",
          "2024-08-20T12:31:41.472689152",
          "2024-08-20T12:31:41.540507078",
          "2024-08-20T12:31:41.601395369",
          "2024-08-20T12:31:41.668616772",
          "2024-08-20T12:31:41.727491379",
          "2024-08-20T12:31:41.791326761",
          "2024-08-20T12:31:41.859107018",
          "2024-08-20T12:31:41.926977396",
          "2024-08-20T12:31:41.982784510",
          "2024-08-20T12:31:42.058573484",
          "2024-08-20T12:31:42.111595631",
          "2024-08-20T12:31:42.179451942",
          "2024-08-20T12:31:42.239253283",
          "2024-08-20T12:31:42.305081129",
          "2024-08-20T12:31:42.369940758",
          "2024-08-20T12:31:42.492574692",
          "2024-08-20T12:31:42.547464371",
          "2024-08-20T12:31:42.607268095",
          "2024-08-20T12:31:42.656136990",
          "2024-08-20T12:31:42.714980364",
          "2024-08-20T12:31:42.763849974",
          "2024-08-20T12:31:42.821695328",
          "2024-08-20T12:31:42.879108429",
          "2024-08-20T12:31:42.943912029",
          "2024-08-20T12:31:43.009702921",
          "2024-08-20T12:31:43.071511984",
          "2024-08-20T12:31:43.133901834",
          "2024-08-20T12:31:43.203717709",
          "2024-08-20T12:31:43.261597157",
          "2024-08-20T12:31:43.326387167",
          "2024-08-20T12:31:43.394617081",
          "2024-08-20T12:31:43.464424372",
          "2024-08-20T12:31:43.518105029",
          "2024-08-20T12:31:43.583888292",
          "2024-08-20T12:31:43.646115065",
          "2024-08-20T12:31:43.712907553",
          "2024-08-20T12:31:43.773782730",
          "2024-08-20T12:31:43.840597391",
          "2024-08-20T12:31:43.906425953",
          "2024-08-20T12:31:43.967237234",
          "2024-08-20T12:31:44.030067205",
          "2024-08-20T12:31:44.103466988",
          "2024-08-20T12:31:44.162308455",
          "2024-08-20T12:31:44.223145008",
          "2024-08-20T12:31:44.291014671",
          "2024-08-20T12:31:44.349857092",
          "2024-08-20T12:31:44.415681124",
          "2024-08-20T12:31:44.479695797",
          "2024-08-20T12:31:44.542475224",
          "2024-08-20T12:31:44.613296270",
          "2024-08-20T12:31:44.672163725",
          "2024-08-20T12:31:44.734963417",
          "2024-08-20T12:31:44.800783157",
          "2024-08-20T12:31:44.875235319",
          "2024-08-20T12:31:44.934039116",
          "2024-08-20T12:31:44.991886139",
          "2024-08-20T12:31:45.054715633",
          "2024-08-20T12:31:45.123562574",
          "2024-08-20T12:31:45.184406042",
          "2024-08-20T12:31:45.253189325",
          "2024-08-20T12:31:45.314022064",
          "2024-08-20T12:31:45.391814232",
          "2024-08-20T12:31:45.503517866",
          "2024-08-20T12:31:45.563381672",
          "2024-08-20T12:31:45.625192165",
          "2024-08-20T12:31:45.689467907",
          "2024-08-20T12:31:45.743281364",
          "2024-08-20T12:31:45.799130917",
          "2024-08-20T12:31:45.849994183",
          "2024-08-20T12:31:45.911336899",
          "2024-08-20T12:31:45.973172188",
          "2024-08-20T12:31:46.031045198",
          "2024-08-20T12:31:46.077892065",
          "2024-08-20T12:31:46.141758204",
          "2024-08-20T12:31:46.209540129",
          "2024-08-20T12:31:46.271375179",
          "2024-08-20T12:31:46.336202383",
          "2024-08-20T12:31:46.402061224",
          "2024-08-20T12:31:46.463126421",
          "2024-08-20T12:31:46.525985479",
          "2024-08-20T12:31:46.593837023",
          "2024-08-20T12:31:46.663606167",
          "2024-08-20T12:31:46.721510649",
          "2024-08-20T12:31:46.782323599",
          "2024-08-20T12:31:46.850108624",
          "2024-08-20T12:31:46.921957970",
          "2024-08-20T12:31:46.977843285",
          "2024-08-20T12:31:47.038705826",
          "2024-08-20T12:31:47.102475882",
          "2024-08-20T12:31:47.169295788",
          "2024-08-20T12:31:47.230172157",
          "2024-08-20T12:31:47.304938078",
          "2024-08-20T12:31:47.368804932",
          "2024-08-20T12:31:47.427606583",
          "2024-08-20T12:31:47.491471767",
          "2024-08-20T12:31:47.555302143",
          "2024-08-20T12:31:47.623177528",
          "2024-08-20T12:31:47.811676741",
          "2024-08-20T12:31:47.827633619",
          "2024-08-20T12:31:47.877500534",
          "2024-08-20T12:31:47.938337326",
          "2024-08-20T12:31:47.984474659",
          "2024-08-20T12:31:48.027358532",
          "2024-08-20T12:31:48.088195324",
          "2024-08-20T12:31:48.136068344",
          "2024-08-20T12:31:48.191809654",
          "2024-08-20T12:31:48.256190538",
          "2024-08-20T12:31:48.321072102",
          "2024-08-20T12:31:48.382852077",
          "2024-08-20T12:31:48.445721865",
          "2024-08-20T12:31:48.511081219",
          "2024-08-20T12:31:48.576905251",
          "2024-08-20T12:31:48.638738394",
          "2024-08-20T12:31:48.701770544",
          "2024-08-20T12:31:48.774565697",
          "2024-08-20T12:31:48.831388712",
          "2024-08-20T12:31:48.893730640",
          "2024-08-20T12:31:48.961057901",
          "2024-08-20T12:31:49.028914213",
          "2024-08-20T12:31:49.090711117",
          "2024-08-20T12:31:49.154539824",
          "2024-08-20T12:31:49.213383436",
          "2024-08-20T12:31:49.279206991",
          "2024-08-20T12:31:49.345029116",
          "2024-08-20T12:31:49.405867100",
          "2024-08-20T12:31:49.473721266",
          "2024-08-20T12:31:49.545494080",
          "2024-08-20T12:31:49.602399588",
          "2024-08-20T12:31:49.663179159",
          "2024-08-20T12:31:49.729102612",
          "2024-08-20T12:31:49.791011810",
          "2024-08-20T12:31:49.853843212",
          "2024-08-20T12:31:49.919657946",
          "2024-08-20T12:31:49.983487844",
          "2024-08-20T12:31:50.046319723",
          "2024-08-20T12:31:50.110692024",
          "2024-08-20T12:31:50.174520016",
          "2024-08-20T12:31:50.238417864",
          "2024-08-20T12:31:50.303511620",
          "2024-08-20T12:31:50.366343737",
          "2024-08-20T12:31:50.432175159",
          "2024-08-20T12:31:50.505977631",
          "2024-08-20T12:31:50.560830355",
          "2024-08-20T12:31:50.670942068",
          "2024-08-20T12:31:50.726747036",
          "2024-08-20T12:31:50.789601564",
          "2024-08-20T12:31:50.825510979",
          "2024-08-20T12:31:50.890295744",
          "2024-08-20T12:31:50.943155289",
          "2024-08-20T12:31:51.012972832",
          "2024-08-20T12:31:51.074837446",
          "2024-08-20T12:31:51.134642601",
          "2024-08-20T12:31:51.200467348",
          "2024-08-20T12:31:51.273272991",
          "2024-08-20T12:31:51.336102962",
          "2024-08-20T12:31:51.389957905",
          "2024-08-20T12:31:51.454820395",
          "2024-08-20T12:31:51.517674922",
          "2024-08-20T12:31:51.586463928",
          "2024-08-20T12:31:51.646686554",
          "2024-08-20T12:31:51.712054014",
          "2024-08-20T12:31:51.782867193",
          "2024-08-20T12:31:51.838715792",
          "2024-08-20T12:31:51.903051376",
          "2024-08-20T12:31:51.967877626",
          "2024-08-20T12:31:52.030061007",
          "2024-08-20T12:31:52.102158070",
          "2024-08-20T12:31:52.168978691",
          "2024-08-20T12:31:52.222800970",
          "2024-08-20T12:31:52.292626858",
          "2024-08-20T12:31:52.351458549",
          "2024-08-20T12:31:52.418277025",
          "2024-08-20T12:31:52.481150866",
          "2024-08-20T12:31:52.541553497",
          "2024-08-20T12:31:52.606345415",
          "2024-08-20T12:31:52.673228025",
          "2024-08-20T12:31:52.735998154",
          "2024-08-20T12:31:52.798882484",
          "2024-08-20T12:31:52.862711668",
          "2024-08-20T12:31:52.927570105",
          "2024-08-20T12:31:52.990370035",
          "2024-08-20T12:31:53.070696592",
          "2024-08-20T12:31:53.131572007",
          "2024-08-20T12:31:53.195363998",
          "2024-08-20T12:31:53.245267153",
          "2024-08-20T12:31:53.310670376",
          "2024-08-20T12:31:53.375495911",
          "2024-08-20T12:31:53.440849304",
          "2024-08-20T12:31:53.502685069",
          "2024-08-20T12:31:53.581473112",
          "2024-08-20T12:31:53.671237707",
          "2024-08-20T12:31:53.730012655",
          "2024-08-20T12:31:53.778313637",
          "2024-08-20T12:31:53.833030939",
          "2024-08-20T12:31:53.893876076",
          "2024-08-20T12:31:53.949759483",
          "2024-08-20T12:31:54.014583826",
          "2024-08-20T12:31:54.080477238",
          "2024-08-20T12:31:54.146250486",
          "2024-08-20T12:31:54.208119631",
          "2024-08-20T12:31:54.272945881",
          "2024-08-20T12:31:54.337438822",
          "2024-08-20T12:31:54.401267767",
          "2024-08-20T12:31:54.464104652",
          "2024-08-20T12:31:54.525992393",
          "2024-08-20T12:31:54.604726553",
          "2024-08-20T12:31:54.660574675",
          "2024-08-20T12:31:54.717456818",
          "2024-08-20T12:31:54.788233280",
          "2024-08-20T12:31:54.846078873",
          "2024-08-20T12:31:54.909790993",
          "2024-08-20T12:31:54.976554394",
          "2024-08-20T12:31:55.039385557",
          "2024-08-20T12:31:55.105245590",
          "2024-08-20T12:31:55.171085119",
          "2024-08-20T12:31:55.230873108",
          "2024-08-20T12:31:55.299697399",
          "2024-08-20T12:31:55.362556934",
          "2024-08-20T12:31:55.429852486",
          "2024-08-20T12:31:55.490688562",
          "2024-08-20T12:31:55.549531460",
          "2024-08-20T12:31:55.615355253",
          "2024-08-20T12:31:55.682177305",
          "2024-08-20T12:31:55.744011879",
          "2024-08-20T12:31:55.807841063",
          "2024-08-20T12:31:55.870673656",
          "2024-08-20T12:31:55.949462414",
          "2024-08-20T12:31:56.003352642",
          "2024-08-20T12:31:56.067021132",
          "2024-08-20T12:31:56.125862597",
          "2024-08-20T12:31:56.193681240",
          "2024-08-20T12:31:56.253522635",
          "2024-08-20T12:31:56.318383694",
          "2024-08-20T12:31:56.386166811",
          "2024-08-20T12:31:56.448000908",
          "2024-08-20T12:31:56.512829065",
          "2024-08-20T12:31:56.583638668",
          "2024-08-20T12:31:56.640494585",
          "2024-08-20T12:31:56.703325510",
          "2024-08-20T12:31:56.767193556",
          "2024-08-20T12:31:56.835482836",
          "2024-08-20T12:31:56.902304649",
          "2024-08-20T12:31:56.962438345",
          "2024-08-20T12:31:57.025873184",
          "2024-08-20T12:31:57.087665081",
          "2024-08-20T12:31:57.154531956",
          "2024-08-20T12:31:57.214373350",
          "2024-08-20T12:31:57.293160200",
          "2024-08-20T12:31:57.345025063",
          "2024-08-20T12:31:57.412839890",
          "2024-08-20T12:31:57.473701954",
          "2024-08-20T12:31:57.534539223",
          "2024-08-20T12:31:57.604353428",
          "2024-08-20T12:31:57.663195133",
          "2024-08-20T12:31:57.726027727",
          "2024-08-20T12:31:57.791850805",
          "2024-08-20T12:31:57.855682135",
          "2024-08-20T12:31:57.919509649",
          "2024-08-20T12:31:57.984847546",
          "2024-08-20T12:31:58.048672438",
          "2024-08-20T12:31:58.114497423",
          "2024-08-20T12:31:58.232179642",
          "2024-08-20T12:31:58.303023338",
          "2024-08-20T12:31:58.362874031",
          "2024-08-20T12:31:58.422821522",
          "2024-08-20T12:31:58.476673603",
          "2024-08-20T12:31:58.501605749",
          "2024-08-20T12:31:58.569931507",
          "2024-08-20T12:31:58.628283978",
          "2024-08-20T12:31:58.687161207",
          "2024-08-20T12:31:58.754455805",
          "2024-08-20T12:31:58.874644995",
          "2024-08-20T12:31:58.942510366",
          "2024-08-20T12:31:59.005335093",
          "2024-08-20T12:31:59.067801952",
          "2024-08-20T12:31:59.130631208",
          "2024-08-20T12:31:59.181493998",
          "2024-08-20T12:31:59.239844561",
          "2024-08-20T12:31:59.299728394",
          "2024-08-20T12:31:59.346602917",
          "2024-08-20T12:31:59.392479658",
          "2024-08-20T12:31:59.455312490",
          "2024-08-20T12:31:59.519181966",
          "2024-08-20T12:31:59.584981441",
          "2024-08-20T12:31:59.647796392",
          "2024-08-20T12:31:59.710932016",
          "2024-08-20T12:31:59.783735514",
          "2024-08-20T12:31:59.839586020",
          "2024-08-20T12:31:59.903450012",
          "2024-08-20T12:31:59.966248512",
          "2024-08-20T12:32:00.031110048",
          "2024-08-20T12:32:00.101887941",
          "2024-08-20T12:32:00.159729958",
          "2024-08-20T12:32:00.222562075",
          "2024-08-20T12:32:00.287391663",
          "2024-08-20T12:32:00.352120399",
          "2024-08-20T12:32:00.413935184",
          "2024-08-20T12:32:00.478729010",
          "2024-08-20T12:32:00.542225122",
          "2024-08-20T12:32:00.610045195",
          "2024-08-20T12:32:00.671614647",
          "2024-08-20T12:32:00.735095501",
          "2024-08-20T12:32:00.799942493",
          "2024-08-20T12:32:00.863315344",
          "2024-08-20T12:32:00.928106546",
          "2024-08-20T12:32:01.008890390",
          "2024-08-20T12:32:01.070760727",
          "2024-08-20T12:32:01.117598772",
          "2024-08-20T12:32:01.181464672",
          "2024-08-20T12:32:01.245420218",
          "2024-08-20T12:32:01.314198017",
          "2024-08-20T12:32:01.377030849",
          "2024-08-20T12:32:01.439896584",
          "2024-08-20T12:32:01.512666941",
          "2024-08-20T12:32:01.589461088",
          "2024-08-20T12:32:01.634341002",
          "2024-08-20T12:32:01.695178032",
          "2024-08-20T12:32:01.761003256",
          "2024-08-20T12:32:01.821839809",
          "2024-08-20T12:32:01.885703325",
          "2024-08-20T12:32:01.950496435",
          "2024-08-20T12:32:02.016355275",
          "2024-08-20T12:32:02.079560041",
          "2024-08-20T12:32:02.147934437",
          "2024-08-20T12:32:02.205846548",
          "2024-08-20T12:32:02.270641804",
          "2024-08-20T12:32:02.344480515",
          "2024-08-20T12:32:02.461406469",
          "2024-08-20T12:32:02.517229556",
          "2024-08-20T12:32:02.564082146",
          "2024-08-20T12:32:02.629870892",
          "2024-08-20T12:32:02.699684858",
          "2024-08-20T12:32:02.746571541",
          "2024-08-20T12:32:02.795462847",
          "2024-08-20T12:32:02.853273153",
          "2024-08-20T12:32:02.914112091",
          "2024-08-20T12:32:02.973954678",
          "2024-08-20T12:32:03.051743984",
          "2024-08-20T12:32:03.102615833",
          "2024-08-20T12:32:03.168430090",
          "2024-08-20T12:32:03.248250484",
          "2024-08-20T12:32:03.296088934",
          "2024-08-20T12:32:03.361934662",
          "2024-08-20T12:32:03.423750877",
          "2024-08-20T12:32:03.487687349",
          "2024-08-20T12:32:03.550518513",
          "2024-08-20T12:32:03.618339300",
          "2024-08-20T12:32:03.692140341",
          "2024-08-20T12:32:03.742039919",
          "2024-08-20T12:32:03.805836201",
          "2024-08-20T12:32:03.872937918",
          "2024-08-20T12:32:03.934771776",
          "2024-08-20T12:32:04.138708115",
          "2024-08-20T12:32:04.162652016",
          "2024-08-20T12:32:04.215462923",
          "2024-08-20T12:32:04.261340141",
          "2024-08-20T12:32:04.305223465",
          "2024-08-20T12:32:04.367092133",
          "2024-08-20T12:32:04.410940409",
          "2024-08-20T12:32:04.457854271",
          "2024-08-20T12:32:04.517654896",
          "2024-08-20T12:32:04.580527544",
          "2024-08-20T12:32:04.637335539",
          "2024-08-20T12:32:04.706151247",
          "2024-08-20T12:32:04.765990496",
          "2024-08-20T12:32:04.830850601",
          "2024-08-20T12:32:04.894646168",
          "2024-08-20T12:32:04.958475590",
          "2024-08-20T12:32:05.028358459",
          "2024-08-20T12:32:05.090869427",
          "2024-08-20T12:32:05.155694008",
          "2024-08-20T12:32:05.220520258",
          "2024-08-20T12:32:05.280360222",
          "2024-08-20T12:32:05.344203472",
          "2024-08-20T12:32:05.416617870",
          "2024-08-20T12:32:05.473434925",
          "2024-08-20T12:32:05.533270836",
          "2024-08-20T12:32:05.599692583",
          "2024-08-20T12:32:05.668574572",
          "2024-08-20T12:32:05.727350950",
          "2024-08-20T12:32:05.791183472",
          "2024-08-20T12:32:05.854014158",
          "2024-08-20T12:32:05.924823761",
          "2024-08-20T12:32:05.983665466",
          "2024-08-20T12:32:06.046497345",
          "2024-08-20T12:32:06.113318920",
          "2024-08-20T12:32:06.185126543",
          "2024-08-20T12:32:06.244966507",
          "2024-08-20T12:32:06.305804491",
          "2024-08-20T12:32:06.427478552",
          "2024-08-20T12:32:06.476348162",
          "2024-08-20T12:32:06.519232987",
          "2024-08-20T12:32:06.580214500",
          "2024-08-20T12:32:06.640358686",
          "2024-08-20T12:32:06.689215422",
          "2024-08-20T12:32:06.750109673",
          "2024-08-20T12:32:06.817869663",
          "2024-08-20T12:32:06.883101940",
          "2024-08-20T12:32:06.941977024",
          "2024-08-20T12:32:07.051910162",
          "2024-08-20T12:32:07.107870817",
          "2024-08-20T12:32:07.159778595",
          "2024-08-20T12:32:07.225763559",
          "2024-08-20T12:32:07.280441046",
          "2024-08-20T12:32:07.327314854",
          "2024-08-20T12:32:07.392040730",
          "2024-08-20T12:32:07.453844547",
          "2024-08-20T12:32:07.519663572",
          "2024-08-20T12:32:07.585496664",
          "2024-08-20T12:32:07.646383524",
          "2024-08-20T12:32:07.712150097",
          "2024-08-20T12:32:07.776016474",
          "2024-08-20T12:32:07.839809179",
          "2024-08-20T12:32:07.902639627",
          "2024-08-20T12:32:07.965471029",
          "2024-08-20T12:32:08.032032250",
          "2024-08-20T12:32:08.093867064",
          "2024-08-20T12:32:08.167701006",
          "2024-08-20T12:32:08.227540970",
          "2024-08-20T12:32:08.295396090",
          "2024-08-20T12:32:08.349215508",
          "2024-08-20T12:32:08.416072607",
          "2024-08-20T12:32:08.480871439",
          "2024-08-20T12:32:08.542946577",
          "2024-08-20T12:32:08.606839895",
          "2024-08-20T12:32:08.670669317",
          "2024-08-20T12:32:08.748494625",
          "2024-08-20T12:32:08.810294867",
          "2024-08-20T12:32:08.870174646",
          "2024-08-20T12:32:08.929901600",
          "2024-08-20T12:32:08.990741253",
          "2024-08-20T12:32:09.054567575",
          "2024-08-20T12:32:09.119748592",
          "2024-08-20T12:32:09.183618307",
          "2024-08-20T12:32:09.246409178",
          "2024-08-20T12:32:09.310237885",
          "2024-08-20T12:32:09.376274586",
          "2024-08-20T12:32:09.444119215",
          "2024-08-20T12:32:09.505930185",
          "2024-08-20T12:32:09.570753813",
          "2024-08-20T12:32:09.633613825",
          "2024-08-20T12:32:09.695421457",
          "2024-08-20T12:32:09.758251190",
          "2024-08-20T12:32:09.823078632",
          "2024-08-20T12:32:09.892893553",
          "2024-08-20T12:32:09.950737238",
          "2024-08-20T12:32:10.014777422",
          "2024-08-20T12:32:10.086585045",
          "2024-08-20T12:32:10.141972303",
          "2024-08-20T12:32:10.210790157",
          "2024-08-20T12:32:10.270623446",
          "2024-08-20T12:32:10.334451199",
          "2024-08-20T12:32:10.401107311",
          "2024-08-20T12:32:10.475941658",
          "2024-08-20T12:32:10.526770592",
          "2024-08-20T12:32:10.592339277",
          "2024-08-20T12:32:10.654148579",
          "2024-08-20T12:32:10.718975782",
          "2024-08-20T12:32:10.782802105",
          "2024-08-20T12:32:10.848627567",
          "2024-08-20T12:32:10.910460711",
          "2024-08-20T12:32:10.977282286",
          "2024-08-20T12:32:11.039152861",
          "2024-08-20T12:32:11.103947401",
          "2024-08-20T12:32:11.167773247",
          "2024-08-20T12:32:11.229755402",
          "2024-08-20T12:32:11.300566435",
          "2024-08-20T12:32:11.360479593",
          "2024-08-20T12:32:11.429301023",
          "2024-08-20T12:32:11.491092443",
          "2024-08-20T12:32:11.549935341",
          "2024-08-20T12:32:11.614765167",
          "2024-08-20T12:32:11.678591490",
          "2024-08-20T12:32:11.881561279",
          "2024-08-20T12:32:11.898514748",
          "2024-08-20T12:32:11.957359314",
          "2024-08-20T12:32:12.000243187",
          "2024-08-20T12:32:12.059998989",
          "2024-08-20T12:32:12.107871294",
          "2024-08-20T12:32:12.150756359",
          "2024-08-20T12:32:12.212984085",
          "2024-08-20T12:32:12.266843080",
          "2024-08-20T12:32:12.333659649",
          "2024-08-20T12:32:12.400614738",
          "2024-08-20T12:32:12.452477217",
          "2024-08-20T12:32:12.509835005",
          "2024-08-20T12:32:12.584639788",
          "2024-08-20T12:32:12.639522791",
          "2024-08-20T12:32:12.704347134",
          "2024-08-20T12:32:12.766216516",
          "2024-08-20T12:32:12.831049442",
          "2024-08-20T12:32:12.897837639",
          "2024-08-20T12:32:12.957735538",
          "2024-08-20T12:32:13.023500681",
          "2024-08-20T12:32:13.087365866",
          "2024-08-20T12:32:13.162170649",
          "2024-08-20T12:32:13.215023041",
          "2024-08-20T12:32:13.280812502",
          "2024-08-20T12:32:13.341650486",
          "2024-08-20T12:32:13.405478477",
          "2024-08-20T12:32:13.470162392",
          "2024-08-20T12:32:13.536520719",
          "2024-08-20T12:32:13.601319313",
          "2024-08-20T12:32:13.662052870",
          "2024-08-20T12:32:13.725847721",
          "2024-08-20T12:32:13.791673660",
          "2024-08-20T12:32:13.853515148",
          "2024-08-20T12:32:13.930917978",
          "2024-08-20T12:32:13.993786335",
          "2024-08-20T12:32:14.059574604",
          "2024-08-20T12:32:14.110471010",
          "2024-08-20T12:32:14.175262690",
          "2024-08-20T12:32:14.239600658",
          "2024-08-20T12:32:14.304803610",
          "2024-08-20T12:32:14.370627165",
          "2024-08-20T12:32:14.430467367",
          "2024-08-20T12:32:14.494708300",
          "2024-08-20T12:32:14.558565378",
          "2024-08-20T12:32:14.631342411",
          "2024-08-20T12:32:14.685559273",
          "2024-08-20T12:32:14.750857830",
          "2024-08-20T12:32:14.813715219",
          "2024-08-20T12:32:14.879512548",
          "2024-08-20T12:32:14.945337057",
          "2024-08-20T12:32:15.009166241",
          "2024-08-20T12:32:15.070513248",
          "2024-08-20T12:32:15.136845350",
          "2024-08-20T12:32:15.243623495",
          "2024-08-20T12:32:15.292493105",
          "2024-08-20T12:32:15.336418152",
          "2024-08-20T12:32:15.403240204",
          "2024-08-20T12:32:15.460046530",
          "2024-08-20T12:32:15.519924878",
          "2024-08-20T12:32:15.582721472",
          "2024-08-20T12:32:15.646606445",
          "2024-08-20T12:32:15.718358517",
          "2024-08-20T12:32:15.777199030",
          "2024-08-20T12:32:15.840064526",
          "2024-08-20T12:32:15.907848120",
          "2024-08-20T12:32:15.965693712",
          "2024-08-20T12:32:16.031555175",
          "2024-08-20T12:32:16.096345186",
          "2024-08-20T12:32:16.159226656",
          "2024-08-20T12:32:16.222518921",
          "2024-08-20T12:32:16.286342859",
          "2024-08-20T12:32:16.351169825",
          "2024-08-20T12:32:16.413003683",
          "2024-08-20T12:32:16.480856419",
          "2024-08-20T12:32:16.542655945",
          "2024-08-20T12:32:16.610476255",
          "2024-08-20T12:32:16.670314550",
          "2024-08-20T12:32:16.734145641",
          "2024-08-20T12:32:16.799000502",
          "2024-08-20T12:32:16.881431103",
          "2024-08-20T12:32:16.929389238",
          "2024-08-20T12:32:16.989288330",
          "2024-08-20T12:32:17.056051016",
          "2024-08-20T12:32:17.117888451",
          "2024-08-20T12:32:17.183228970",
          "2024-08-20T12:32:17.246451139",
          "2024-08-20T12:32:17.311335325",
          "2024-08-20T12:32:17.374109983",
          "2024-08-20T12:32:17.440968990",
          "2024-08-20T12:32:17.502764702",
          "2024-08-20T12:32:17.568790674",
          "2024-08-20T12:32:17.629988670",
          "2024-08-20T12:32:17.707792282",
          "2024-08-20T12:32:17.769598246",
          "2024-08-20T12:32:17.823451996",
          "2024-08-20T12:32:17.886348248",
          "2024-08-20T12:32:17.957094431",
          "2024-08-20T12:32:18.015938759",
          "2024-08-20T12:32:18.084788322",
          "2024-08-20T12:32:18.142599106",
          "2024-08-20T12:32:18.207425594",
          "2024-08-20T12:32:18.270257473",
          "2024-08-20T12:32:18.335122108",
          "2024-08-20T12:32:18.399975538",
          "2024-08-20T12:32:18.470842600",
          "2024-08-20T12:32:18.525648832",
          "2024-08-20T12:32:18.590513945",
          "2024-08-20T12:32:18.657296419",
          "2024-08-20T12:32:18.718192339",
          "2024-08-20T12:32:18.782960415",
          "2024-08-20T12:32:18.847694159",
          "2024-08-20T12:32:18.910487652",
          "2024-08-20T12:32:18.975023031",
          "2024-08-20T12:32:19.037863016",
          "2024-08-20T12:32:19.103645325",
          "2024-08-20T12:32:19.172459364",
          "2024-08-20T12:32:19.240307093",
          "2024-08-20T12:32:19.297124147",
          "2024-08-20T12:32:19.359956264",
          "2024-08-20T12:32:19.425780773",
          "2024-08-20T12:32:19.623049498",
          "2024-08-20T12:32:19.641996622",
          "2024-08-20T12:32:19.698847055",
          "2024-08-20T12:32:19.756545067",
          "2024-08-20T12:32:19.804416180",
          "2024-08-20T12:32:19.850294828",
          "2024-08-20T12:32:19.894176245",
          "2024-08-20T12:32:19.955012321",
          "2024-08-20T12:32:20.001924038",
          "2024-08-20T12:32:20.070703506",
          "2024-08-20T12:32:20.132539988",
          "2024-08-20T12:32:20.191419840",
          "2024-08-20T12:32:20.262194872",
          "2024-08-20T12:32:20.322516203",
          "2024-08-20T12:32:20.387259722",
          "2024-08-20T12:32:20.446102619",
          "2024-08-20T12:32:20.520902157",
          "2024-08-20T12:32:20.584731817",
          "2024-08-20T12:32:20.653100014",
          "2024-08-20T12:32:20.706911802",
          "2024-08-20T12:32:20.771246910",
          "2024-08-20T12:32:20.832086563",
          "2024-08-20T12:32:20.895421505",
          "2024-08-20T12:32:20.959251165",
          "2024-08-20T12:32:21.024112225",
          "2024-08-20T12:32:21.086937666",
          "2024-08-20T12:32:21.150739670",
          "2024-08-20T12:32:21.215182066",
          "2024-08-20T12:32:21.288241148",
          "2024-08-20T12:32:21.342065573",
          "2024-08-20T12:32:21.407263279",
          "2024-08-20T12:32:21.483011246",
          "2024-08-20T12:32:21.532878399",
          "2024-08-20T12:32:21.599734306",
          "2024-08-20T12:32:21.667518377",
          "2024-08-20T12:32:21.730396748",
          "2024-08-20T12:32:21.791186571",
          "2024-08-20T12:32:21.855018854",
          "2024-08-20T12:32:21.920847893",
          "2024-08-20T12:32:21.982674122",
          "2024-08-20T12:32:22.189171791",
          "2024-08-20T12:32:22.202137947",
          "2024-08-20T12:32:22.256990194",
          "2024-08-20T12:32:22.320201874",
          "2024-08-20T12:32:22.365945339",
          "2024-08-20T12:32:22.409827948",
          "2024-08-20T12:32:22.457733631",
          "2024-08-20T12:32:22.516542673",
          "2024-08-20T12:32:22.564417124",
          "2024-08-20T12:32:22.622356653",
          "2024-08-20T12:32:22.687514067",
          "2024-08-20T12:32:22.750309229",
          "2024-08-20T12:32:22.818037748",
          "2024-08-20T12:32:22.886855364",
          "2024-08-20T12:32:22.941748381",
          "2024-08-20T12:32:23.005697012",
          "2024-08-20T12:32:23.077054977",
          "2024-08-20T12:32:23.133903503",
          "2024-08-20T12:32:23.235785723",
          "2024-08-20T12:32:23.298555374",
          "2024-08-20T12:32:23.360395193",
          "2024-08-20T12:32:23.415242434",
          "2024-08-20T12:32:23.455136061",
          "2024-08-20T12:32:23.520959139",
          "2024-08-20T12:32:23.591769695",
          "2024-08-20T12:32:23.645626307",
          "2024-08-20T12:32:23.709454775",
          "2024-08-20T12:32:23.781263590",
          "2024-08-20T12:32:23.837112904",
          "2024-08-20T12:32:23.903935671",
          "2024-08-20T12:32:23.965770245",
          "2024-08-20T12:32:24.034584522",
          "2024-08-20T12:32:24.102404833",
          "2024-08-20T12:32:24.158255816",
          "2024-08-20T12:32:24.223082304",
          "2024-08-20T12:32:24.300907373",
          "2024-08-20T12:32:24.357778549",
          "2024-08-20T12:32:24.416562796",
          "2024-08-20T12:32:24.479396105",
          "2024-08-20T12:32:24.543224573",
          "2024-08-20T12:32:24.606056452",
          "2024-08-20T12:32:24.671190023",
          "2024-08-20T12:32:24.737014294",
          "2024-08-20T12:32:24.801352024",
          "2024-08-20T12:32:24.864221811",
          "2024-08-20T12:32:24.932000160",
          "2024-08-20T12:32:24.992837667",
          "2024-08-20T12:32:25.054672956",
          "2024-08-20T12:32:25.118500710",
          "2024-08-20T12:32:25.195301294",
          "2024-08-20T12:32:25.253140926",
          "2024-08-20T12:32:25.311498642",
          "2024-08-20T12:32:25.375326633",
          "2024-08-20T12:32:25.440153599",
          "2024-08-20T12:32:25.641125202",
          "2024-08-20T12:32:25.657083750",
          "2024-08-20T12:32:25.720910788",
          "2024-08-20T12:32:25.765789747",
          "2024-08-20T12:32:25.811667442",
          "2024-08-20T12:32:25.873502493",
          "2024-08-20T12:32:25.917384863",
          "2024-08-20T12:32:25.965266705",
          "2024-08-20T12:32:26.015124083",
          "2024-08-20T12:32:26.081945181",
          "2024-08-20T12:32:26.143970490",
          "2024-08-20T12:32:26.207308531",
          "2024-08-20T12:32:26.277124882",
          "2024-08-20T12:32:26.335473299",
          "2024-08-20T12:32:26.399356604",
          "2024-08-20T12:32:26.469116211",
          "2024-08-20T12:32:26.526027203",
          "2024-08-20T12:32:26.599806547",
          "2024-08-20T12:32:26.662598610",
          "2024-08-20T12:32:26.719447613",
          "2024-08-20T12:32:26.787300110",
          "2024-08-20T12:32:26.846109152",
          "2024-08-20T12:32:26.909974575",
          "2024-08-20T12:32:26.982742786",
          "2024-08-20T12:32:27.039618492",
          "2024-08-20T12:32:27.109428883",
          "2024-08-20T12:32:27.168270826",
          "2024-08-20T12:32:27.244070053",
          "2024-08-20T12:32:27.300915718",
          "2024-08-20T12:32:27.358763456",
          "2024-08-20T12:32:27.430572271",
          "2024-08-20T12:32:27.495396614",
          "2024-08-20T12:32:27.552243471",
          "2024-08-20T12:32:27.618986607",
          "2024-08-20T12:32:27.679826498",
          "2024-08-20T12:32:27.744651794",
          "2024-08-20T12:32:27.811474085",
          "2024-08-20T12:32:27.871311665",
          "2024-08-20T12:32:27.938232660",
          "2024-08-20T12:32:28.007043123",
          "2024-08-20T12:32:28.066883086",
          "2024-08-20T12:32:28.126723528",
          "2024-08-20T12:32:28.193597555",
          "2024-08-20T12:32:28.260417461",
          "2024-08-20T12:32:28.320315361",
          "2024-08-20T12:32:28.384086132",
          "2024-08-20T12:32:28.446953297",
          "2024-08-20T12:32:28.518725634",
          "2024-08-20T12:32:28.576572895",
          "2024-08-20T12:32:28.641489267",
          "2024-08-20T12:32:28.702045441",
          "2024-08-20T12:32:28.767858028",
          "2024-08-20T12:32:28.830724716",
          "2024-08-20T12:32:28.896514893",
          "2024-08-20T12:32:28.961437941",
          "2024-08-20T12:32:29.023036718",
          "2024-08-20T12:32:29.086858511",
          "2024-08-20T12:32:29.150660276",
          "2024-08-20T12:32:29.214490175",
          "2024-08-20T12:32:29.280347824",
          "2024-08-20T12:32:29.347641230",
          "2024-08-20T12:32:29.408477068",
          "2024-08-20T12:32:29.473303795",
          "2024-08-20T12:32:29.534140825",
          "2024-08-20T12:32:29.603953600",
          "2024-08-20T12:32:29.662796974",
          "2024-08-20T12:32:29.728660822",
          "2024-08-20T12:32:29.829075098",
          "2024-08-20T12:32:29.855006218",
          "2024-08-20T12:32:29.918835640",
          "2024-08-20T12:32:29.984659910",
          "2024-08-20T12:32:30.048488617",
          "2024-08-20T12:32:30.111320496",
          "2024-08-20T12:32:30.174177170",
          "2024-08-20T12:32:30.241478205",
          "2024-08-20T12:32:30.304310322",
          "2024-08-20T12:32:30.367180586",
          "2024-08-20T12:32:30.433924198",
          "2024-08-20T12:32:30.496754646",
          "2024-08-20T12:32:30.561550379",
          "2024-08-20T12:32:30.623412132",
          "2024-08-20T12:32:30.686249495",
          "2024-08-20T12:32:30.753970623",
          "2024-08-20T12:32:30.815323591",
          "2024-08-20T12:32:30.879150867",
          "2024-08-20T12:32:30.955455780",
          "2024-08-20T12:32:31.006345749",
          "2024-08-20T12:32:31.084110022",
          "2024-08-20T12:32:31.133013964",
          "2024-08-20T12:32:31.203535080",
          "2024-08-20T12:32:31.271354437",
          "2024-08-20T12:32:31.326326847",
          "2024-08-20T12:32:31.408055782",
          "2024-08-20T12:32:31.458920002",
          "2024-08-20T12:32:31.552667856",
          "2024-08-20T12:32:31.591563702",
          "2024-08-20T12:32:31.650408030",
          "2024-08-20T12:32:31.710282564",
          "2024-08-20T12:32:31.776070833",
          "2024-08-20T12:32:31.837939978",
          "2024-08-20T12:32:31.907718420",
          "2024-08-20T12:32:31.973545551",
          "2024-08-20T12:32:32.030505180",
          "2024-08-20T12:32:32.096329927",
          "2024-08-20T12:32:32.159909010",
          "2024-08-20T12:32:32.223783493",
          "2024-08-20T12:32:32.285617352",
          "2024-08-20T12:32:32.355093002",
          "2024-08-20T12:32:32.423932314",
          "2024-08-20T12:32:32.477780581",
          "2024-08-20T12:32:32.545111179",
          "2024-08-20T12:32:32.610616684",
          "2024-08-20T12:32:32.672452688",
          "2024-08-20T12:32:32.738783121",
          "2024-08-20T12:32:32.800617695",
          "2024-08-20T12:32:32.862452507",
          "2024-08-20T12:32:32.927278280",
          "2024-08-20T12:32:32.991107702",
          "2024-08-20T12:32:33.061918974",
          "2024-08-20T12:32:33.117813110",
          "2024-08-20T12:32:33.183628321",
          "2024-08-20T12:32:33.247426987",
          "2024-08-20T12:32:33.313245773",
          "2024-08-20T12:32:33.376078844",
          "2024-08-20T12:32:33.437913418",
          "2024-08-20T12:32:33.507761955",
          "2024-08-20T12:32:33.566568375",
          "2024-08-20T12:32:33.630432606",
          "2024-08-20T12:32:33.696256876",
          "2024-08-20T12:32:33.763337374",
          "2024-08-20T12:32:33.823216915",
          "2024-08-20T12:32:33.886786699",
          "2024-08-20T12:32:33.951614380",
          "2024-08-20T12:32:34.019431353",
          "2024-08-20T12:32:34.080267668",
          "2024-08-20T12:32:34.142103195",
          "2024-08-20T12:32:34.208925486",
          "2024-08-20T12:32:34.270759106",
          "2024-08-20T12:32:34.334587574",
          "2024-08-20T12:32:34.409389973",
          "2024-08-20T12:32:34.463746071",
          "2024-08-20T12:32:34.525631427",
          "2024-08-20T12:32:34.590441942",
          "2024-08-20T12:32:34.672589302",
          "2024-08-20T12:32:34.718495369",
          "2024-08-20T12:32:34.784605265",
          "2024-08-20T12:32:34.845502377",
          "2024-08-20T12:32:34.915297985",
          "2024-08-20T12:32:34.976535082",
          "2024-08-20T12:32:35.038368940",
          "2024-08-20T12:32:35.101213455",
          "2024-08-20T12:32:35.170028687",
          "2024-08-20T12:32:35.229869604",
          "2024-08-20T12:32:35.296691179",
          "2024-08-20T12:32:35.365506649",
          "2024-08-20T12:32:35.421391964",
          "2024-08-20T12:32:35.489713669",
          "2024-08-20T12:32:35.550548553",
          "2024-08-20T12:32:35.615374088",
          "2024-08-20T12:32:35.679830551",
          "2024-08-20T12:32:35.741671562",
          "2024-08-20T12:32:35.821450710",
          "2024-08-20T12:32:35.875407696",
          "2024-08-20T12:32:35.934213400",
          "2024-08-20T12:32:35.999787569",
          "2024-08-20T12:32:36.072578192",
          "2024-08-20T12:32:36.127431630",
          "2024-08-20T12:32:36.198305845",
          "2024-08-20T12:32:36.259132385",
          "2024-08-20T12:32:36.320932627",
          "2024-08-20T12:32:36.381804943",
          "2024-08-20T12:32:36.446623564",
          "2024-08-20T12:32:36.520399332",
          "2024-08-20T12:32:36.578244925",
          "2024-08-20T12:32:36.646062136",
          "2024-08-20T12:32:36.707958698",
          "2024-08-20T12:32:36.768796206",
          "2024-08-20T12:32:36.829632759",
          "2024-08-20T12:32:36.895457745",
          "2024-08-20T12:32:36.961305380",
          "2024-08-20T12:32:37.027129889",
          "2024-08-20T12:32:37.094947815",
          "2024-08-20T12:32:37.150824547",
          "2024-08-20T12:32:37.228126764",
          "2024-08-20T12:32:37.278991222",
          "2024-08-20T12:32:37.345320702",
          "2024-08-20T12:32:37.412676811",
          "2024-08-20T12:32:37.476505041",
          "2024-08-20T12:32:37.534350395",
          "2024-08-20T12:32:37.598179579",
          "2024-08-20T12:32:37.665997982",
          "2024-08-20T12:32:37.730824471",
          "2024-08-20T12:32:37.793656349",
          "2024-08-20T12:32:37.855490446",
          "2024-08-20T12:32:37.923312902",
          "2024-08-20T12:32:37.984147787",
          "2024-08-20T12:32:38.045563459",
          "2024-08-20T12:32:38.111385584",
          "2024-08-20T12:32:38.179205894",
          "2024-08-20T12:32:38.238048077",
          "2024-08-20T12:32:38.304870605",
          "2024-08-20T12:32:38.370692492",
          "2024-08-20T12:32:38.430532455",
          "2024-08-20T12:32:38.496356726",
          "2024-08-20T12:32:38.569162130",
          "2024-08-20T12:32:38.633988142",
          "2024-08-20T12:32:38.691833019",
          "2024-08-20T12:32:38.750226259",
          "2024-08-20T12:32:38.815091372",
          "2024-08-20T12:32:38.885902166",
          "2024-08-20T12:32:38.943747044",
          "2024-08-20T12:32:39.007613659",
          "2024-08-20T12:32:39.073400497",
          "2024-08-20T12:32:39.143213987",
          "2024-08-20T12:32:39.201062202",
          "2024-08-20T12:32:39.264887571",
          "2024-08-20T12:32:39.331712246"
         ],
         "xaxis": "x2",
         "y": {
          "bdata": "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",
          "dtype": "f8"
         },
         "yaxis": "y2"
        },
        {
         "marker": {
          "color": "lightcoral"
         },
         "name": "Distribution",
         "nbinsx": 30,
         "opacity": 0.7,
         "type": "histogram",
         "x": {
          "bdata": "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",
          "dtype": "f8"
         },
         "xaxis": "x3",
         "yaxis": "y3"
        },
        {
         "line": {
          "color": "lightcoral",
          "width": 1
         },
         "mode": "lines",
         "name": "Raw",
         "opacity": 0.5,
         "type": "scatter",
         "x": {
          "bdata": "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",
          "dtype": "i2"
         },
         "xaxis": "x4",
         "y": {
          "bdata": "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",
          "dtype": "f8"
         },
         "yaxis": "y4"
        },
        {
         "line": {
          "color": "darkred",
          "width": 3
         },
         "mode": "lines",
         "name": "Smoothed (n=52)",
         "type": "scatter",
         "x": {
          "bdata": "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",
          "dtype": "i2"
         },
         "xaxis": "x4",
         "y": {
          "bdata": "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",
          "dtype": "f8"
         },
         "yaxis": "y4"
        }
       ],
       "layout": {
        "annotations": [
         {
          "font": {
           "size": 16
          },
          "showarrow": false,
          "text": "Distance vs Frame Index",
          "x": 0.225,
          "xanchor": "center",
          "xref": "paper",
          "y": 1,
          "yanchor": "bottom",
          "yref": "paper"
         },
         {
          "font": {
           "size": 16
          },
          "showarrow": false,
          "text": "Distance vs Time",
          "x": 0.775,
          "xanchor": "center",
          "xref": "paper",
          "y": 1,
          "yanchor": "bottom",
          "yref": "paper"
         },
         {
          "font": {
           "size": 16
          },
          "showarrow": false,
          "text": "Distance Distribution",
          "x": 0.225,
          "xanchor": "center",
          "xref": "paper",
          "y": 0.375,
          "yanchor": "bottom",
          "yref": "paper"
         },
         {
          "font": {
           "size": 16
          },
          "showarrow": false,
          "text": "Distance Trends",
          "x": 0.775,
          "xanchor": "center",
          "xref": "paper",
          "y": 0.375,
          "yanchor": "bottom",
          "yref": "paper"
         },
         {
          "showarrow": false,
          "text": "Mean: 2.03meters",
          "x": 2.0251776391145406,
          "xanchor": "left",
          "xref": "x3",
          "y": 1,
          "yanchor": "top",
          "yref": "y3 domain"
         }
        ],
        "height": 800,
        "shapes": [
         {
          "line": {
           "color": "red",
           "dash": "dash"
          },
          "type": "line",
          "x0": 2.0251776391145406,
          "x1": 2.0251776391145406,
          "xref": "x3",
          "y0": 0,
          "y1": 1,
          "yref": "y3 domain"
         }
        ],
        "showlegend": true,
        "template": {
         "data": {
          "bar": [
           {
            "error_x": {
             "color": "#2a3f5f"
            },
            "error_y": {
             "color": "#2a3f5f"
            },
            "marker": {
             "line": {
              "color": "#E5ECF6",
              "width": 0.5
             },
             "pattern": {
              "fillmode": "overlay",
              "size": 10,
              "solidity": 0.2
             }
            },
            "type": "bar"
           }
          ],
          "barpolar": [
           {
            "marker": {
             "line": {
              "color": "#E5ECF6",
              "width": 0.5
             },
             "pattern": {
              "fillmode": "overlay",
              "size": 10,
              "solidity": 0.2
             }
            },
            "type": "barpolar"
           }
          ],
          "carpet": [
           {
            "aaxis": {
             "endlinecolor": "#2a3f5f",
             "gridcolor": "white",
             "linecolor": "white",
             "minorgridcolor": "white",
             "startlinecolor": "#2a3f5f"
            },
            "baxis": {
             "endlinecolor": "#2a3f5f",
             "gridcolor": "white",
             "linecolor": "white",
             "minorgridcolor": "white",
             "startlinecolor": "#2a3f5f"
            },
            "type": "carpet"
           }
          ],
          "choropleth": [
           {
            "colorbar": {
             "outlinewidth": 0,
             "ticks": ""
            },
            "type": "choropleth"
           }
          ],
          "contour": [
           {
            "colorbar": {
             "outlinewidth": 0,
             "ticks": ""
            },
            "colorscale": [
             [
              0,
              "#0d0887"
             ],
             [
              0.1111111111111111,
              "#46039f"
             ],
             [
              0.2222222222222222,
              "#7201a8"
             ],
             [
              0.3333333333333333,
              "#9c179e"
             ],
             [
              0.4444444444444444,
              "#bd3786"
             ],
             [
              0.5555555555555556,
              "#d8576b"
             ],
             [
              0.6666666666666666,
              "#ed7953"
             ],
             [
              0.7777777777777778,
              "#fb9f3a"
             ],
             [
              0.8888888888888888,
              "#fdca26"
             ],
             [
              1,
              "#f0f921"
             ]
            ],
            "type": "contour"
           }
          ],
          "contourcarpet": [
           {
            "colorbar": {
             "outlinewidth": 0,
             "ticks": ""
            },
            "type": "contourcarpet"
           }
          ],
          "heatmap": [
           {
            "colorbar": {
             "outlinewidth": 0,
             "ticks": ""
            },
            "colorscale": [
             [
              0,
              "#0d0887"
             ],
             [
              0.1111111111111111,
              "#46039f"
             ],
             [
              0.2222222222222222,
              "#7201a8"
             ],
             [
              0.3333333333333333,
              "#9c179e"
             ],
             [
              0.4444444444444444,
              "#bd3786"
             ],
             [
              0.5555555555555556,
              "#d8576b"
             ],
             [
              0.6666666666666666,
              "#ed7953"
             ],
             [
              0.7777777777777778,
              "#fb9f3a"
             ],
             [
              0.8888888888888888,
              "#fdca26"
             ],
             [
              1,
              "#f0f921"
             ]
            ],
            "type": "heatmap"
           }
          ],
          "histogram": [
           {
            "marker": {
             "pattern": {
              "fillmode": "overlay",
              "size": 10,
              "solidity": 0.2
             }
            },
            "type": "histogram"
           }
          ],
          "histogram2d": [
           {
            "colorbar": {
             "outlinewidth": 0,
             "ticks": ""
            },
            "colorscale": [
             [
              0,
              "#0d0887"
             ],
             [
              0.1111111111111111,
              "#46039f"
             ],
             [
              0.2222222222222222,
              "#7201a8"
             ],
             [
              0.3333333333333333,
              "#9c179e"
             ],
             [
              0.4444444444444444,
              "#bd3786"
             ],
             [
              0.5555555555555556,
              "#d8576b"
             ],
             [
              0.6666666666666666,
              "#ed7953"
             ],
             [
              0.7777777777777778,
              "#fb9f3a"
             ],
             [
              0.8888888888888888,
              "#fdca26"
             ],
             [
              1,
              "#f0f921"
             ]
            ],
            "type": "histogram2d"
           }
          ],
          "histogram2dcontour": [
           {
            "colorbar": {
             "outlinewidth": 0,
             "ticks": ""
            },
            "colorscale": [
             [
              0,
              "#0d0887"
             ],
             [
              0.1111111111111111,
              "#46039f"
             ],
             [
              0.2222222222222222,
              "#7201a8"
             ],
             [
              0.3333333333333333,
              "#9c179e"
             ],
             [
              0.4444444444444444,
              "#bd3786"
             ],
             [
              0.5555555555555556,
              "#d8576b"
             ],
             [
              0.6666666666666666,
              "#ed7953"
             ],
             [
              0.7777777777777778,
              "#fb9f3a"
             ],
             [
              0.8888888888888888,
              "#fdca26"
             ],
             [
              1,
              "#f0f921"
             ]
            ],
            "type": "histogram2dcontour"
           }
          ],
          "mesh3d": [
           {
            "colorbar": {
             "outlinewidth": 0,
             "ticks": ""
            },
            "type": "mesh3d"
           }
          ],
          "parcoords": [
           {
            "line": {
             "colorbar": {
              "outlinewidth": 0,
              "ticks": ""
             }
            },
            "type": "parcoords"
           }
          ],
          "pie": [
           {
            "automargin": true,
            "type": "pie"
           }
          ],
          "scatter": [
           {
            "fillpattern": {
             "fillmode": "overlay",
             "size": 10,
             "solidity": 0.2
            },
            "type": "scatter"
           }
          ],
          "scatter3d": [
           {
            "line": {
             "colorbar": {
              "outlinewidth": 0,
              "ticks": ""
             }
            },
            "marker": {
             "colorbar": {
              "outlinewidth": 0,
              "ticks": ""
             }
            },
            "type": "scatter3d"
           }
          ],
          "scattercarpet": [
           {
            "marker": {
             "colorbar": {
              "outlinewidth": 0,
              "ticks": ""
             }
            },
            "type": "scattercarpet"
           }
          ],
          "scattergeo": [
           {
            "marker": {
             "colorbar": {
              "outlinewidth": 0,
              "ticks": ""
             }
            },
            "type": "scattergeo"
           }
          ],
          "scattergl": [
           {
            "marker": {
             "colorbar": {
              "outlinewidth": 0,
              "ticks": ""
             }
            },
            "type": "scattergl"
           }
          ],
          "scattermap": [
           {
            "marker": {
             "colorbar": {
              "outlinewidth": 0,
              "ticks": ""
             }
            },
            "type": "scattermap"
           }
          ],
          "scattermapbox": [
           {
            "marker": {
             "colorbar": {
              "outlinewidth": 0,
              "ticks": ""
             }
            },
            "type": "scattermapbox"
           }
          ],
          "scatterpolar": [
           {
            "marker": {
             "colorbar": {
              "outlinewidth": 0,
              "ticks": ""
             }
            },
            "type": "scatterpolar"
           }
          ],
          "scatterpolargl": [
           {
            "marker": {
             "colorbar": {
              "outlinewidth": 0,
              "ticks": ""
             }
            },
            "type": "scatterpolargl"
           }
          ],
          "scatterternary": [
           {
            "marker": {
             "colorbar": {
              "outlinewidth": 0,
              "ticks": ""
             }
            },
            "type": "scatterternary"
           }
          ],
          "surface": [
           {
            "colorbar": {
             "outlinewidth": 0,
             "ticks": ""
            },
            "colorscale": [
             [
              0,
              "#0d0887"
             ],
             [
              0.1111111111111111,
              "#46039f"
             ],
             [
              0.2222222222222222,
              "#7201a8"
             ],
             [
              0.3333333333333333,
              "#9c179e"
             ],
             [
              0.4444444444444444,
              "#bd3786"
             ],
             [
              0.5555555555555556,
              "#d8576b"
             ],
             [
              0.6666666666666666,
              "#ed7953"
             ],
             [
              0.7777777777777778,
              "#fb9f3a"
             ],
             [
              0.8888888888888888,
              "#fdca26"
             ],
             [
              1,
              "#f0f921"
             ]
            ],
            "type": "surface"
           }
          ],
          "table": [
           {
            "cells": {
             "fill": {
              "color": "#EBF0F8"
             },
             "line": {
              "color": "white"
             }
            },
            "header": {
             "fill": {
              "color": "#C8D4E3"
             },
             "line": {
              "color": "white"
             }
            },
            "type": "table"
           }
          ]
         },
         "layout": {
          "annotationdefaults": {
           "arrowcolor": "#2a3f5f",
           "arrowhead": 0,
           "arrowwidth": 1
          },
          "autotypenumbers": "strict",
          "coloraxis": {
           "colorbar": {
            "outlinewidth": 0,
            "ticks": ""
           }
          },
          "colorscale": {
           "diverging": [
            [
             0,
             "#8e0152"
            ],
            [
             0.1,
             "#c51b7d"
            ],
            [
             0.2,
             "#de77ae"
            ],
            [
             0.3,
             "#f1b6da"
            ],
            [
             0.4,
             "#fde0ef"
            ],
            [
             0.5,
             "#f7f7f7"
            ],
            [
             0.6,
             "#e6f5d0"
            ],
            [
             0.7,
             "#b8e186"
            ],
            [
             0.8,
             "#7fbc41"
            ],
            [
             0.9,
             "#4d9221"
            ],
            [
             1,
             "#276419"
            ]
           ],
           "sequential": [
            [
             0,
             "#0d0887"
            ],
            [
             0.1111111111111111,
             "#46039f"
            ],
            [
             0.2222222222222222,
             "#7201a8"
            ],
            [
             0.3333333333333333,
             "#9c179e"
            ],
            [
             0.4444444444444444,
             "#bd3786"
            ],
            [
             0.5555555555555556,
             "#d8576b"
            ],
            [
             0.6666666666666666,
             "#ed7953"
            ],
            [
             0.7777777777777778,
             "#fb9f3a"
            ],
            [
             0.8888888888888888,
             "#fdca26"
            ],
            [
             1,
             "#f0f921"
            ]
           ],
           "sequentialminus": [
            [
             0,
             "#0d0887"
            ],
            [
             0.1111111111111111,
             "#46039f"
            ],
            [
             0.2222222222222222,
             "#7201a8"
            ],
            [
             0.3333333333333333,
             "#9c179e"
            ],
            [
             0.4444444444444444,
             "#bd3786"
            ],
            [
             0.5555555555555556,
             "#d8576b"
            ],
            [
             0.6666666666666666,
             "#ed7953"
            ],
            [
             0.7777777777777778,
             "#fb9f3a"
            ],
            [
             0.8888888888888888,
             "#fdca26"
            ],
            [
             1,
             "#f0f921"
            ]
           ]
          },
          "colorway": [
           "#636efa",
           "#EF553B",
           "#00cc96",
           "#ab63fa",
           "#FFA15A",
           "#19d3f3",
           "#FF6692",
           "#B6E880",
           "#FF97FF",
           "#FECB52"
          ],
          "font": {
           "color": "#2a3f5f"
          },
          "geo": {
           "bgcolor": "white",
           "lakecolor": "white",
           "landcolor": "#E5ECF6",
           "showlakes": true,
           "showland": true,
           "subunitcolor": "white"
          },
          "hoverlabel": {
           "align": "left"
          },
          "hovermode": "closest",
          "mapbox": {
           "style": "light"
          },
          "paper_bgcolor": "white",
          "plot_bgcolor": "#E5ECF6",
          "polar": {
           "angularaxis": {
            "gridcolor": "white",
            "linecolor": "white",
            "ticks": ""
           },
           "bgcolor": "#E5ECF6",
           "radialaxis": {
            "gridcolor": "white",
            "linecolor": "white",
            "ticks": ""
           }
          },
          "scene": {
           "xaxis": {
            "backgroundcolor": "#E5ECF6",
            "gridcolor": "white",
            "gridwidth": 2,
            "linecolor": "white",
            "showbackground": true,
            "ticks": "",
            "zerolinecolor": "white"
           },
           "yaxis": {
            "backgroundcolor": "#E5ECF6",
            "gridcolor": "white",
            "gridwidth": 2,
            "linecolor": "white",
            "showbackground": true,
            "ticks": "",
            "zerolinecolor": "white"
           },
           "zaxis": {
            "backgroundcolor": "#E5ECF6",
            "gridcolor": "white",
            "gridwidth": 2,
            "linecolor": "white",
            "showbackground": true,
            "ticks": "",
            "zerolinecolor": "white"
           }
          },
          "shapedefaults": {
           "line": {
            "color": "#2a3f5f"
           }
          },
          "ternary": {
           "aaxis": {
            "gridcolor": "white",
            "linecolor": "white",
            "ticks": ""
           },
           "baxis": {
            "gridcolor": "white",
            "linecolor": "white",
            "ticks": ""
           },
           "bgcolor": "#E5ECF6",
           "caxis": {
            "gridcolor": "white",
            "linecolor": "white",
            "ticks": ""
           }
          },
          "title": {
           "x": 0.05
          },
          "xaxis": {
           "automargin": true,
           "gridcolor": "white",
           "linecolor": "white",
           "ticks": "",
           "title": {
            "standoff": 15
           },
           "zerolinecolor": "white",
           "zerolinewidth": 2
          },
          "yaxis": {
           "automargin": true,
           "gridcolor": "white",
           "linecolor": "white",
           "ticks": "",
           "title": {
            "standoff": 15
           },
           "zerolinecolor": "white",
           "zerolinewidth": 2
          }
         }
        },
        "title": {
         "text": "Real-World Distance Analysis"
        },
        "xaxis": {
         "anchor": "y",
         "domain": [
          0,
          0.45
         ],
         "title": {
          "text": "Frame Index"
         }
        },
        "xaxis2": {
         "anchor": "y2",
         "domain": [
          0.55,
          1
         ],
         "title": {
          "text": "Time"
         }
        },
        "xaxis3": {
         "anchor": "y3",
         "domain": [
          0,
          0.45
         ],
         "title": {
          "text": "Distance (meters)"
         }
        },
        "xaxis4": {
         "anchor": "y4",
         "domain": [
          0.55,
          1
         ],
         "title": {
          "text": "Frame Index"
         }
        },
        "yaxis": {
         "anchor": "x",
         "domain": [
          0.625,
          1
         ],
         "title": {
          "text": "Distance (meters)"
         }
        },
        "yaxis2": {
         "anchor": "x2",
         "domain": [
          0.625,
          1
         ],
         "title": {
          "text": "Distance (meters)"
         }
        },
        "yaxis3": {
         "anchor": "x3",
         "domain": [
          0,
          0.375
         ],
         "title": {
          "text": "Frequency"
         }
        },
        "yaxis4": {
         "anchor": "x4",
         "domain": [
          0,
          0.375
         ],
         "title": {
          "text": "Distance (meters)"
         }
        }
       }
      }
     },
     "metadata": {},
     "output_type": "display_data"
    }
   ],
   "source": [
    "iau.VisualizationEngine.plot_distance_analysis(distance_results, \"Real-World Distance Analysis\")"
   ]
  },
  {
   "cell_type": "code",
   "execution_count": 8,
   "id": "c10a8be6",
   "metadata": {},
   "outputs": [
    {
     "name": "stdout",
     "output_type": "stream",
     "text": [
      " LOADING ALL DISTANCE DATA FOR BAG: 2024-08-20_14-31-29\n",
      "============================================================\n",
      "📡 1. Loading Navigation Data...\n",
      "    Loaded 559 navigation records\n",
      "    NetPitch data available: 559 valid records\n",
      "📡 2. Loading Guidance Data...\n",
      "    Loaded 549 guidance records with ['error_net_distance', 'desired_net_distance', 'r_net_distance_d']\n",
      "📡 3. Loading DVL Altimeter...\n",
      "    DVL altimeter file not found\n",
      " 4. Loading USBL...\n",
      "    Loaded 33 USBL records\n",
      "📡 5. Loading DVL Position...\n",
      "    Loaded 283 DVL position records\n",
      " 6. Loading Navigation Position...\n",
      "    Loaded 278 navigation position records\n",
      "📡 7. Loading INS Z Position...\n",
      "    INS file not found\n",
      "\n",
      " LOADING SUMMARY:\n",
      "    Target bag: 2024-08-20_14-31-29\n",
      "    Raw data loaded: 2/2\n",
      "    Distance measurements: 4\n",
      "\n",
      " RAW DATA LOADED:\n",
      "    navigation: 559 records\n",
      "    guidance: 549 records\n",
      "\n",
      " DISTANCE MEASUREMENTS LOADED:\n",
      "    USBL_3D: 33 records - 3D acoustic position\n",
      "    USBL_Depth: 33 records - USBL depth measurement\n",
      "    DVL_Position: 283 records - 3D DVL position\n",
      "    Nav_Position: 278 records - 2D navigation position\n"
     ]
    }
   ],
   "source": [
    "# COMPARISON: SONAR vs DVL DISTANCE MEASUREMENTS\n",
    "# =================================================\n",
    "import utils.net_distance_analysis as sda\n",
    "\n",
    "# IMPORTANT: Pass the by_bag folder, not just the exports root\n",
    "# The function expects the folder containing the CSV files\n",
    "from utils.sonar_config import EXPORTS_SUBDIRS\n",
    "BY_BAG_FOLDER = EXPORTS_FOLDER / EXPORTS_SUBDIRS.get('by_bag', 'by_bag')\n",
    "\n",
    "# Load all distance data for the target bag\n",
    "raw_data, distance_measurements = sda.load_all_distance_data_for_bag(TARGET_BAG, BY_BAG_FOLDER)\n",
    "\n",
    "# Display what we loaded\n",
    "print(f\"\\n RAW DATA LOADED:\")\n",
    "for key, data in raw_data.items():\n",
    "    if data is not None:\n",
    "        print(f\"    {key}: {len(data)} records\")\n",
    "    else:\n",
    "        print(f\"    {key}: None\")\n",
    "\n",
    "print(f\"\\n DISTANCE MEASUREMENTS LOADED:\")\n",
    "for key, info in distance_measurements.items():\n",
    "    data_len = len(info['data'])\n",
    "    print(f\"    {key}: {data_len} records - {info['description']}\")"
   ]
  },
  {
   "cell_type": "code",
   "execution_count": 9,
   "id": "0375375e",
   "metadata": {},
   "outputs": [
    {
     "name": "stdout",
     "output_type": "stream",
     "text": [
      "\n",
      "SONAR vs DVL COMPARISON STATISTICS:\n",
      "==================================================\n",
      "Sonar mean distance: 2.025 m\n",
      "DVL mean distance:   1.968 m\n",
      "Scale ratio (Sonar/DVL): 1.029x\n",
      "Sonar mean pitch:    9.63°\n",
      "DVL mean pitch:      5.07°\n",
      "Pitch difference:    4.55°\n",
      "Sonar duration: 67.1s (1059 frames)\n",
      "DVL duration:   67.0s (559 records)\n"
     ]
    },
    {
     "data": {
      "application/vnd.plotly.v1+json": {
       "config": {
        "plotlyServerURL": "https://plot.ly"
       },
       "data": [
        {
         "line": {
          "color": "red",
          "width": 3
         },
         "mode": "lines",
         "name": "Sonar Distance",
         "type": "scatter",
         "x": {
          "bdata": "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",
          "dtype": "f8"
         },
         "xaxis": "x",
         "y": {
          "bdata": "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",
          "dtype": "f8"
         },
         "yaxis": "y"
        },
        {
         "line": {
          "color": "blue",
          "width": 3
         },
         "mode": "lines",
         "name": "DVL Distance",
         "type": "scatter",
         "x": {
          "bdata": "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",
          "dtype": "f8"
         },
         "xaxis": "x",
         "y": {
          "bdata": "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",
          "dtype": "f8"
         },
         "yaxis": "y"
        },
        {
         "line": {
          "color": "orange",
          "width": 3
         },
         "mode": "lines",
         "name": "Sonar Pitch",
         "type": "scatter",
         "x": {
          "bdata": "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",
          "dtype": "f8"
         },
         "xaxis": "x2",
         "y": {
          "bdata": "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",
          "dtype": "f8"
         },
         "yaxis": "y2"
        },
        {
         "line": {
          "color": "green",
          "width": 3
         },
         "mode": "lines",
         "name": "DVL Pitch",
         "type": "scatter",
         "x": {
          "bdata": "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",
          "dtype": "f8"
         },
         "xaxis": "x2",
         "y": {
          "bdata": "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",
          "dtype": "f8"
         },
         "yaxis": "y2"
        }
       ],
       "layout": {
        "annotations": [
         {
          "font": {
           "size": 16
          },
          "showarrow": false,
          "text": "Distance Comparison",
          "x": 0.5,
          "xanchor": "center",
          "xref": "paper",
          "y": 1,
          "yanchor": "bottom",
          "yref": "paper"
         },
         {
          "font": {
           "size": 16
          },
          "showarrow": false,
          "text": "Pitch Comparison",
          "x": 0.5,
          "xanchor": "center",
          "xref": "paper",
          "y": 0.375,
          "yanchor": "bottom",
          "yref": "paper"
         }
        ],
        "height": 800,
        "hovermode": "x unified",
        "template": {
         "data": {
          "bar": [
           {
            "error_x": {
             "color": "#2a3f5f"
            },
            "error_y": {
             "color": "#2a3f5f"
            },
            "marker": {
             "line": {
              "color": "#E5ECF6",
              "width": 0.5
             },
             "pattern": {
              "fillmode": "overlay",
              "size": 10,
              "solidity": 0.2
             }
            },
            "type": "bar"
           }
          ],
          "barpolar": [
           {
            "marker": {
             "line": {
              "color": "#E5ECF6",
              "width": 0.5
             },
             "pattern": {
              "fillmode": "overlay",
              "size": 10,
              "solidity": 0.2
             }
            },
            "type": "barpolar"
           }
          ],
          "carpet": [
           {
            "aaxis": {
             "endlinecolor": "#2a3f5f",
             "gridcolor": "white",
             "linecolor": "white",
             "minorgridcolor": "white",
             "startlinecolor": "#2a3f5f"
            },
            "baxis": {
             "endlinecolor": "#2a3f5f",
             "gridcolor": "white",
             "linecolor": "white",
             "minorgridcolor": "white",
             "startlinecolor": "#2a3f5f"
            },
            "type": "carpet"
           }
          ],
          "choropleth": [
           {
            "colorbar": {
             "outlinewidth": 0,
             "ticks": ""
            },
            "type": "choropleth"
           }
          ],
          "contour": [
           {
            "colorbar": {
             "outlinewidth": 0,
             "ticks": ""
            },
            "colorscale": [
             [
              0,
              "#0d0887"
             ],
             [
              0.1111111111111111,
              "#46039f"
             ],
             [
              0.2222222222222222,
              "#7201a8"
             ],
             [
              0.3333333333333333,
              "#9c179e"
             ],
             [
              0.4444444444444444,
              "#bd3786"
             ],
             [
              0.5555555555555556,
              "#d8576b"
             ],
             [
              0.6666666666666666,
              "#ed7953"
             ],
             [
              0.7777777777777778,
              "#fb9f3a"
             ],
             [
              0.8888888888888888,
              "#fdca26"
             ],
             [
              1,
              "#f0f921"
             ]
            ],
            "type": "contour"
           }
          ],
          "contourcarpet": [
           {
            "colorbar": {
             "outlinewidth": 0,
             "ticks": ""
            },
            "type": "contourcarpet"
           }
          ],
          "heatmap": [
           {
            "colorbar": {
             "outlinewidth": 0,
             "ticks": ""
            },
            "colorscale": [
             [
              0,
              "#0d0887"
             ],
             [
              0.1111111111111111,
              "#46039f"
             ],
             [
              0.2222222222222222,
              "#7201a8"
             ],
             [
              0.3333333333333333,
              "#9c179e"
             ],
             [
              0.4444444444444444,
              "#bd3786"
             ],
             [
              0.5555555555555556,
              "#d8576b"
             ],
             [
              0.6666666666666666,
              "#ed7953"
             ],
             [
              0.7777777777777778,
              "#fb9f3a"
             ],
             [
              0.8888888888888888,
              "#fdca26"
             ],
             [
              1,
              "#f0f921"
             ]
            ],
            "type": "heatmap"
           }
          ],
          "histogram": [
           {
            "marker": {
             "pattern": {
              "fillmode": "overlay",
              "size": 10,
              "solidity": 0.2
             }
            },
            "type": "histogram"
           }
          ],
          "histogram2d": [
           {
            "colorbar": {
             "outlinewidth": 0,
             "ticks": ""
            },
            "colorscale": [
             [
              0,
              "#0d0887"
             ],
             [
              0.1111111111111111,
              "#46039f"
             ],
             [
              0.2222222222222222,
              "#7201a8"
             ],
             [
              0.3333333333333333,
              "#9c179e"
             ],
             [
              0.4444444444444444,
              "#bd3786"
             ],
             [
              0.5555555555555556,
              "#d8576b"
             ],
             [
              0.6666666666666666,
              "#ed7953"
             ],
             [
              0.7777777777777778,
              "#fb9f3a"
             ],
             [
              0.8888888888888888,
              "#fdca26"
             ],
             [
              1,
              "#f0f921"
             ]
            ],
            "type": "histogram2d"
           }
          ],
          "histogram2dcontour": [
           {
            "colorbar": {
             "outlinewidth": 0,
             "ticks": ""
            },
            "colorscale": [
             [
              0,
              "#0d0887"
             ],
             [
              0.1111111111111111,
              "#46039f"
             ],
             [
              0.2222222222222222,
              "#7201a8"
             ],
             [
              0.3333333333333333,
              "#9c179e"
             ],
             [
              0.4444444444444444,
              "#bd3786"
             ],
             [
              0.5555555555555556,
              "#d8576b"
             ],
             [
              0.6666666666666666,
              "#ed7953"
             ],
             [
              0.7777777777777778,
              "#fb9f3a"
             ],
             [
              0.8888888888888888,
              "#fdca26"
             ],
             [
              1,
              "#f0f921"
             ]
            ],
            "type": "histogram2dcontour"
           }
          ],
          "mesh3d": [
           {
            "colorbar": {
             "outlinewidth": 0,
             "ticks": ""
            },
            "type": "mesh3d"
           }
          ],
          "parcoords": [
           {
            "line": {
             "colorbar": {
              "outlinewidth": 0,
              "ticks": ""
             }
            },
            "type": "parcoords"
           }
          ],
          "pie": [
           {
            "automargin": true,
            "type": "pie"
           }
          ],
          "scatter": [
           {
            "fillpattern": {
             "fillmode": "overlay",
             "size": 10,
             "solidity": 0.2
            },
            "type": "scatter"
           }
          ],
          "scatter3d": [
           {
            "line": {
             "colorbar": {
              "outlinewidth": 0,
              "ticks": ""
             }
            },
            "marker": {
             "colorbar": {
              "outlinewidth": 0,
              "ticks": ""
             }
            },
            "type": "scatter3d"
           }
          ],
          "scattercarpet": [
           {
            "marker": {
             "colorbar": {
              "outlinewidth": 0,
              "ticks": ""
             }
            },
            "type": "scattercarpet"
           }
          ],
          "scattergeo": [
           {
            "marker": {
             "colorbar": {
              "outlinewidth": 0,
              "ticks": ""
             }
            },
            "type": "scattergeo"
           }
          ],
          "scattergl": [
           {
            "marker": {
             "colorbar": {
              "outlinewidth": 0,
              "ticks": ""
             }
            },
            "type": "scattergl"
           }
          ],
          "scattermap": [
           {
            "marker": {
             "colorbar": {
              "outlinewidth": 0,
              "ticks": ""
             }
            },
            "type": "scattermap"
           }
          ],
          "scattermapbox": [
           {
            "marker": {
             "colorbar": {
              "outlinewidth": 0,
              "ticks": ""
             }
            },
            "type": "scattermapbox"
           }
          ],
          "scatterpolar": [
           {
            "marker": {
             "colorbar": {
              "outlinewidth": 0,
              "ticks": ""
             }
            },
            "type": "scatterpolar"
           }
          ],
          "scatterpolargl": [
           {
            "marker": {
             "colorbar": {
              "outlinewidth": 0,
              "ticks": ""
             }
            },
            "type": "scatterpolargl"
           }
          ],
          "scatterternary": [
           {
            "marker": {
             "colorbar": {
              "outlinewidth": 0,
              "ticks": ""
             }
            },
            "type": "scatterternary"
           }
          ],
          "surface": [
           {
            "colorbar": {
             "outlinewidth": 0,
             "ticks": ""
            },
            "colorscale": [
             [
              0,
              "#0d0887"
             ],
             [
              0.1111111111111111,
              "#46039f"
             ],
             [
              0.2222222222222222,
              "#7201a8"
             ],
             [
              0.3333333333333333,
              "#9c179e"
             ],
             [
              0.4444444444444444,
              "#bd3786"
             ],
             [
              0.5555555555555556,
              "#d8576b"
             ],
             [
              0.6666666666666666,
              "#ed7953"
             ],
             [
              0.7777777777777778,
              "#fb9f3a"
             ],
             [
              0.8888888888888888,
              "#fdca26"
             ],
             [
              1,
              "#f0f921"
             ]
            ],
            "type": "surface"
           }
          ],
          "table": [
           {
            "cells": {
             "fill": {
              "color": "#EBF0F8"
             },
             "line": {
              "color": "white"
             }
            },
            "header": {
             "fill": {
              "color": "#C8D4E3"
             },
             "line": {
              "color": "white"
             }
            },
            "type": "table"
           }
          ]
         },
         "layout": {
          "annotationdefaults": {
           "arrowcolor": "#2a3f5f",
           "arrowhead": 0,
           "arrowwidth": 1
          },
          "autotypenumbers": "strict",
          "coloraxis": {
           "colorbar": {
            "outlinewidth": 0,
            "ticks": ""
           }
          },
          "colorscale": {
           "diverging": [
            [
             0,
             "#8e0152"
            ],
            [
             0.1,
             "#c51b7d"
            ],
            [
             0.2,
             "#de77ae"
            ],
            [
             0.3,
             "#f1b6da"
            ],
            [
             0.4,
             "#fde0ef"
            ],
            [
             0.5,
             "#f7f7f7"
            ],
            [
             0.6,
             "#e6f5d0"
            ],
            [
             0.7,
             "#b8e186"
            ],
            [
             0.8,
             "#7fbc41"
            ],
            [
             0.9,
             "#4d9221"
            ],
            [
             1,
             "#276419"
            ]
           ],
           "sequential": [
            [
             0,
             "#0d0887"
            ],
            [
             0.1111111111111111,
             "#46039f"
            ],
            [
             0.2222222222222222,
             "#7201a8"
            ],
            [
             0.3333333333333333,
             "#9c179e"
            ],
            [
             0.4444444444444444,
             "#bd3786"
            ],
            [
             0.5555555555555556,
             "#d8576b"
            ],
            [
             0.6666666666666666,
             "#ed7953"
            ],
            [
             0.7777777777777778,
             "#fb9f3a"
            ],
            [
             0.8888888888888888,
             "#fdca26"
            ],
            [
             1,
             "#f0f921"
            ]
           ],
           "sequentialminus": [
            [
             0,
             "#0d0887"
            ],
            [
             0.1111111111111111,
             "#46039f"
            ],
            [
             0.2222222222222222,
             "#7201a8"
            ],
            [
             0.3333333333333333,
             "#9c179e"
            ],
            [
             0.4444444444444444,
             "#bd3786"
            ],
            [
             0.5555555555555556,
             "#d8576b"
            ],
            [
             0.6666666666666666,
             "#ed7953"
            ],
            [
             0.7777777777777778,
             "#fb9f3a"
            ],
            [
             0.8888888888888888,
             "#fdca26"
            ],
            [
             1,
             "#f0f921"
            ]
           ]
          },
          "colorway": [
           "#636efa",
           "#EF553B",
           "#00cc96",
           "#ab63fa",
           "#FFA15A",
           "#19d3f3",
           "#FF6692",
           "#B6E880",
           "#FF97FF",
           "#FECB52"
          ],
          "font": {
           "color": "#2a3f5f"
          },
          "geo": {
           "bgcolor": "white",
           "lakecolor": "white",
           "landcolor": "#E5ECF6",
           "showlakes": true,
           "showland": true,
           "subunitcolor": "white"
          },
          "hoverlabel": {
           "align": "left"
          },
          "hovermode": "closest",
          "mapbox": {
           "style": "light"
          },
          "paper_bgcolor": "white",
          "plot_bgcolor": "#E5ECF6",
          "polar": {
           "angularaxis": {
            "gridcolor": "white",
            "linecolor": "white",
            "ticks": ""
           },
           "bgcolor": "#E5ECF6",
           "radialaxis": {
            "gridcolor": "white",
            "linecolor": "white",
            "ticks": ""
           }
          },
          "scene": {
           "xaxis": {
            "backgroundcolor": "#E5ECF6",
            "gridcolor": "white",
            "gridwidth": 2,
            "linecolor": "white",
            "showbackground": true,
            "ticks": "",
            "zerolinecolor": "white"
           },
           "yaxis": {
            "backgroundcolor": "#E5ECF6",
            "gridcolor": "white",
            "gridwidth": 2,
            "linecolor": "white",
            "showbackground": true,
            "ticks": "",
            "zerolinecolor": "white"
           },
           "zaxis": {
            "backgroundcolor": "#E5ECF6",
            "gridcolor": "white",
            "gridwidth": 2,
            "linecolor": "white",
            "showbackground": true,
            "ticks": "",
            "zerolinecolor": "white"
           }
          },
          "shapedefaults": {
           "line": {
            "color": "#2a3f5f"
           }
          },
          "ternary": {
           "aaxis": {
            "gridcolor": "white",
            "linecolor": "white",
            "ticks": ""
           },
           "baxis": {
            "gridcolor": "white",
            "linecolor": "white",
            "ticks": ""
           },
           "bgcolor": "#E5ECF6",
           "caxis": {
            "gridcolor": "white",
            "linecolor": "white",
            "ticks": ""
           }
          },
          "title": {
           "x": 0.05
          },
          "xaxis": {
           "automargin": true,
           "gridcolor": "white",
           "linecolor": "white",
           "ticks": "",
           "title": {
            "standoff": 15
           },
           "zerolinecolor": "white",
           "zerolinewidth": 2
          },
          "yaxis": {
           "automargin": true,
           "gridcolor": "white",
           "linecolor": "white",
           "ticks": "",
           "title": {
            "standoff": 15
           },
           "zerolinecolor": "white",
           "zerolinewidth": 2
          }
         }
        },
        "title": {
         "text": "Interactive Distance & Pitch Comparison: Sonar vs DVL"
        },
        "xaxis": {
         "anchor": "y",
         "domain": [
          0,
          1
         ],
         "showgrid": true,
         "title": {
          "text": "Time (seconds)"
         }
        },
        "xaxis2": {
         "anchor": "y2",
         "domain": [
          0,
          1
         ],
         "showgrid": true,
         "title": {
          "text": "Time (seconds)"
         }
        },
        "yaxis": {
         "anchor": "x",
         "domain": [
          0.625,
          1
         ],
         "showgrid": true,
         "title": {
          "text": "Distance (meters)"
         }
        },
        "yaxis2": {
         "anchor": "x2",
         "domain": [
          0,
          0.375
         ],
         "showgrid": true,
         "title": {
          "text": "Pitch (degrees)"
         }
        }
       }
      }
     },
     "metadata": {},
     "output_type": "display_data"
    }
   ],
   "source": [
    "fig, comparison_stats = iau.ComparisonEngine.compare_sonar_vs_dvl(distance_results, raw_data, sonar_coverage_m=sonar_coverage_meters, sonar_image_size=image_shape[0], use_plotly=True)\n",
    "fig.show()"
   ]
  },
  {
   "cell_type": "code",
   "execution_count": 10,
   "id": "50f97352",
   "metadata": {},
   "outputs": [
    {
     "name": "stdout",
     "output_type": "stream",
     "text": [
      "GENERATING VIDEO WITH DUAL NET DISTANCE OVERLAYS\n",
      "============================================================\n",
      " Target Bag: 2024-08-20_14-31-29\n",
      " DVL Data: 559 records\n",
      " Sonar Analysis: 1059 frames\n",
      " Auto-detect video: enabled (PNG frames + index.csv)\n",
      "⏱  Sync tolerance: 1.0s\n",
      "OPTIMIZED SONAR VIDEO\n",
      "======================================================================\n",
      "Target Bag: 2024-08-20_14-31-29\n",
      "   Cone Size: 900x700\n",
      "   Range: 0.0-5.0m | FOV: 120.0°\n",
      "Auto-detecting video files for bag: 2024-08-20_14-31-29\n",
      "Found video frames: 2024-08-20_14-31-29_video__image_compressed_image_data_frames\n",
      "Using frames directory: /Volumes/LaCie/SOLAQUA/exports/frames/2024-08-20_14-31-29_video__image_compressed_image_data_frames\n",
      "Camera: enabled\n",
      "Net-line: enabled (dist tol=0.5s, pitch tol=2.0s)\n",
      "Sonar Analysis: enabled\n",
      "   Loading sonar data: sensor_sonoptix_echo_image__2024-08-20_14-31-29_video.csv\n"
     ]
    },
    {
     "ename": "KeyboardInterrupt",
     "evalue": "",
     "output_type": "error",
     "traceback": [
      "\u001b[31m---------------------------------------------------------------------------\u001b[39m",
      "\u001b[31mKeyboardInterrupt\u001b[39m                         Traceback (most recent call last)",
      "\u001b[36mCell\u001b[39m\u001b[36m \u001b[39m\u001b[32mIn[10]\u001b[39m\u001b[32m, line 20\u001b[39m\n\u001b[32m     18\u001b[39m \u001b[38;5;66;03m# Generate the video with both overlays and improved sync\u001b[39;00m\n\u001b[32m     19\u001b[39m \u001b[38;5;28;01mtry\u001b[39;00m:\n\u001b[32m---> \u001b[39m\u001b[32m20\u001b[39m     video_path = \u001b[43msg\u001b[49m\u001b[43m.\u001b[49m\u001b[43mexport_optimized_sonar_video\u001b[49m\u001b[43m(\u001b[49m\n\u001b[32m     21\u001b[39m \u001b[43m        \u001b[49m\u001b[43mTARGET_BAG\u001b[49m\u001b[43m=\u001b[49m\u001b[43mTARGET_BAG\u001b[49m\u001b[43m,\u001b[49m\n\u001b[32m     22\u001b[39m \u001b[43m        \u001b[49m\u001b[43mEXPORTS_FOLDER\u001b[49m\u001b[43m=\u001b[49m\u001b[43mEXPORTS_FOLDER\u001b[49m\u001b[43m,\u001b[49m\n\u001b[32m     23\u001b[39m \u001b[43m        \u001b[49m\u001b[43mSTART_IDX\u001b[49m\u001b[43m=\u001b[49m\u001b[32;43m1\u001b[39;49m\u001b[43m,\u001b[49m\n\u001b[32m     24\u001b[39m \u001b[43m        \u001b[49m\u001b[43mEND_IDX\u001b[49m\u001b[43m=\u001b[49m\u001b[32;43m1200\u001b[39;49m\u001b[43m,\u001b[49m\u001b[43m  \u001b[49m\n\u001b[32m     25\u001b[39m \u001b[43m        \u001b[49m\u001b[43mSTRIDE\u001b[49m\u001b[43m=\u001b[49m\u001b[32;43m1\u001b[39;49m\u001b[43m,\u001b[49m\u001b[43m    \u001b[49m\n\u001b[32m     26\u001b[39m \u001b[43m        \u001b[49m\u001b[43mAUTO_DETECT_VIDEO\u001b[49m\u001b[43m=\u001b[49m\u001b[38;5;28;43;01mTrue\u001b[39;49;00m\u001b[43m,\u001b[49m\u001b[43m       \u001b[49m\u001b[38;5;66;43;03m# Enable automatic video file detection\u001b[39;49;00m\n\u001b[32m     27\u001b[39m \u001b[43m        \u001b[49m\u001b[43mINCLUDE_NET\u001b[49m\u001b[43m=\u001b[49m\u001b[38;5;28;43;01mTrue\u001b[39;49;00m\u001b[43m,\u001b[49m\u001b[43m             \u001b[49m\u001b[38;5;66;43;03m# Enable DVL net distance overlay\u001b[39;49;00m\n\u001b[32m     28\u001b[39m \u001b[43m        \u001b[49m\u001b[43mSONAR_DISTANCE_RESULTS\u001b[49m\u001b[43m=\u001b[49m\u001b[43mdistance_results\u001b[49m\u001b[43m,\u001b[49m\u001b[43m  \u001b[49m\u001b[38;5;66;43;03m# Enable sonar analysis overlay\u001b[39;49;00m\n\u001b[32m     29\u001b[39m \u001b[43m        \u001b[49m\u001b[43mNET_DISTANCE_TOLERANCE\u001b[49m\u001b[43m=\u001b[49m\u001b[32;43m0.5\u001b[39;49m\u001b[43m,\u001b[49m\n\u001b[32m     30\u001b[39m \u001b[43m        \u001b[49m\u001b[43mNET_PITCH_TOLERANCE\u001b[49m\u001b[43m=\u001b[49m\u001b[32;43m2.0\u001b[39;49m\u001b[43m,\u001b[49m\u001b[43m      \u001b[49m\u001b[38;5;66;43;03m# Increased from 0.3 to 2.0 seconds for better pitch sync\u001b[39;49;00m\n\u001b[32m     31\u001b[39m \u001b[43m    \u001b[49m\u001b[43m)\u001b[49m\n\u001b[32m     33\u001b[39m     \u001b[38;5;28mprint\u001b[39m(\u001b[33mf\u001b[39m\u001b[33m\"\u001b[39m\u001b[38;5;130;01m\\n\u001b[39;00m\u001b[33m Video generated successfully!\u001b[39m\u001b[33m\"\u001b[39m)\n\u001b[32m     34\u001b[39m     \u001b[38;5;28mprint\u001b[39m(\u001b[33mf\u001b[39m\u001b[33m\"\u001b[39m\u001b[33m Output: \u001b[39m\u001b[38;5;132;01m{\u001b[39;00mvideo_path\u001b[38;5;132;01m}\u001b[39;00m\u001b[33m\"\u001b[39m)\n",
      "\u001b[36mFile \u001b[39m\u001b[32m~/code/SOLAQUA/utils/sonar_and_foto_generation.py:138\u001b[39m, in \u001b[36mexport_optimized_sonar_video\u001b[39m\u001b[34m(TARGET_BAG, EXPORTS_FOLDER, START_IDX, END_IDX, STRIDE, VIDEO_SEQ_DIR, AUTO_DETECT_VIDEO, VIDEO_HEIGHT, PAD_BETWEEN, FONT_SCALE, FOV_DEG, RANGE_MIN_M, RANGE_MAX_M, DISPLAY_RANGE_MAX_M, FLIP_BEAMS, FLIP_RANGE, USE_ENHANCED, ENH_SCALE, ENH_TVG, ENH_ALPHA_DB_PER_M, ENH_R0, ENH_P_LOW, ENH_P_HIGH, ENH_GAMMA, ENH_ZERO_AWARE, ENH_EPS_LOG, CONE_W, CONE_H, CONE_FLIP_VERTICAL, CMAP_NAME, INCLUDE_NET, NET_DISTANCE_TOLERANCE, NET_PITCH_TOLERANCE, SONAR_DISTANCE_RESULTS)\u001b[39m\n\u001b[32m    136\u001b[39m \u001b[38;5;28mprint\u001b[39m(\u001b[33mf\u001b[39m\u001b[33m\"\u001b[39m\u001b[33m   Loading sonar data: \u001b[39m\u001b[38;5;132;01m{\u001b[39;00msonar_csv_file.name\u001b[38;5;132;01m}\u001b[39;00m\u001b[33m\"\u001b[39m)\n\u001b[32m    137\u001b[39m t0 = time.time()\n\u001b[32m--> \u001b[39m\u001b[32m138\u001b[39m df = \u001b[43mload_df\u001b[49m\u001b[43m(\u001b[49m\u001b[43msonar_csv_file\u001b[49m\u001b[43m)\u001b[49m\n\u001b[32m    139\u001b[39m \u001b[38;5;28;01mif\u001b[39;00m \u001b[33m\"\u001b[39m\u001b[33mts_utc\u001b[39m\u001b[33m\"\u001b[39m \u001b[38;5;129;01mnot\u001b[39;00m \u001b[38;5;129;01min\u001b[39;00m df.columns:\n\u001b[32m    140\u001b[39m     \u001b[38;5;28;01mif\u001b[39;00m \u001b[33m\"\u001b[39m\u001b[33mt\u001b[39m\u001b[33m\"\u001b[39m \u001b[38;5;129;01mnot\u001b[39;00m \u001b[38;5;129;01min\u001b[39;00m df.columns:\n",
      "\u001b[36mFile \u001b[39m\u001b[32m~/code/SOLAQUA/utils/sonar_utils.py:26\u001b[39m, in \u001b[36mload_df\u001b[39m\u001b[34m(path)\u001b[39m\n\u001b[32m     24\u001b[39m \u001b[38;5;250m\u001b[39m\u001b[33;03m\"\"\"Load CSV or Parquet into a DataFrame.\"\"\"\u001b[39;00m\n\u001b[32m     25\u001b[39m path = Path(path)\n\u001b[32m---> \u001b[39m\u001b[32m26\u001b[39m \u001b[38;5;28;01mreturn\u001b[39;00m pd.read_parquet(path) \u001b[38;5;28;01mif\u001b[39;00m path.suffix.lower() == \u001b[33m\"\u001b[39m\u001b[33m.parquet\u001b[39m\u001b[33m\"\u001b[39m \u001b[38;5;28;01melse\u001b[39;00m \u001b[43mpd\u001b[49m\u001b[43m.\u001b[49m\u001b[43mread_csv\u001b[49m\u001b[43m(\u001b[49m\u001b[43mpath\u001b[49m\u001b[43m)\u001b[49m\n",
      "\u001b[36mFile \u001b[39m\u001b[32m~/code/SOLAQUA/venv/lib/python3.13/site-packages/pandas/io/parsers/readers.py:1026\u001b[39m, in \u001b[36mread_csv\u001b[39m\u001b[34m(filepath_or_buffer, sep, delimiter, header, names, index_col, usecols, dtype, engine, converters, true_values, false_values, skipinitialspace, skiprows, skipfooter, nrows, na_values, keep_default_na, na_filter, verbose, skip_blank_lines, parse_dates, infer_datetime_format, keep_date_col, date_parser, date_format, dayfirst, cache_dates, iterator, chunksize, compression, thousands, decimal, lineterminator, quotechar, quoting, doublequote, escapechar, comment, encoding, encoding_errors, dialect, on_bad_lines, delim_whitespace, low_memory, memory_map, float_precision, storage_options, dtype_backend)\u001b[39m\n\u001b[32m   1013\u001b[39m kwds_defaults = _refine_defaults_read(\n\u001b[32m   1014\u001b[39m     dialect,\n\u001b[32m   1015\u001b[39m     delimiter,\n\u001b[32m   (...)\u001b[39m\u001b[32m   1022\u001b[39m     dtype_backend=dtype_backend,\n\u001b[32m   1023\u001b[39m )\n\u001b[32m   1024\u001b[39m kwds.update(kwds_defaults)\n\u001b[32m-> \u001b[39m\u001b[32m1026\u001b[39m \u001b[38;5;28;01mreturn\u001b[39;00m \u001b[43m_read\u001b[49m\u001b[43m(\u001b[49m\u001b[43mfilepath_or_buffer\u001b[49m\u001b[43m,\u001b[49m\u001b[43m \u001b[49m\u001b[43mkwds\u001b[49m\u001b[43m)\u001b[49m\n",
      "\u001b[36mFile \u001b[39m\u001b[32m~/code/SOLAQUA/venv/lib/python3.13/site-packages/pandas/io/parsers/readers.py:626\u001b[39m, in \u001b[36m_read\u001b[39m\u001b[34m(filepath_or_buffer, kwds)\u001b[39m\n\u001b[32m    623\u001b[39m     \u001b[38;5;28;01mreturn\u001b[39;00m parser\n\u001b[32m    625\u001b[39m \u001b[38;5;28;01mwith\u001b[39;00m parser:\n\u001b[32m--> \u001b[39m\u001b[32m626\u001b[39m     \u001b[38;5;28;01mreturn\u001b[39;00m \u001b[43mparser\u001b[49m\u001b[43m.\u001b[49m\u001b[43mread\u001b[49m\u001b[43m(\u001b[49m\u001b[43mnrows\u001b[49m\u001b[43m)\u001b[49m\n",
      "\u001b[36mFile \u001b[39m\u001b[32m~/code/SOLAQUA/venv/lib/python3.13/site-packages/pandas/io/parsers/readers.py:1923\u001b[39m, in \u001b[36mTextFileReader.read\u001b[39m\u001b[34m(self, nrows)\u001b[39m\n\u001b[32m   1916\u001b[39m nrows = validate_integer(\u001b[33m\"\u001b[39m\u001b[33mnrows\u001b[39m\u001b[33m\"\u001b[39m, nrows)\n\u001b[32m   1917\u001b[39m \u001b[38;5;28;01mtry\u001b[39;00m:\n\u001b[32m   1918\u001b[39m     \u001b[38;5;66;03m# error: \"ParserBase\" has no attribute \"read\"\u001b[39;00m\n\u001b[32m   1919\u001b[39m     (\n\u001b[32m   1920\u001b[39m         index,\n\u001b[32m   1921\u001b[39m         columns,\n\u001b[32m   1922\u001b[39m         col_dict,\n\u001b[32m-> \u001b[39m\u001b[32m1923\u001b[39m     ) = \u001b[38;5;28;43mself\u001b[39;49m\u001b[43m.\u001b[49m\u001b[43m_engine\u001b[49m\u001b[43m.\u001b[49m\u001b[43mread\u001b[49m\u001b[43m(\u001b[49m\u001b[43m  \u001b[49m\u001b[38;5;66;43;03m# type: ignore[attr-defined]\u001b[39;49;00m\n\u001b[32m   1924\u001b[39m \u001b[43m        \u001b[49m\u001b[43mnrows\u001b[49m\n\u001b[32m   1925\u001b[39m \u001b[43m    \u001b[49m\u001b[43m)\u001b[49m\n\u001b[32m   1926\u001b[39m \u001b[38;5;28;01mexcept\u001b[39;00m \u001b[38;5;167;01mException\u001b[39;00m:\n\u001b[32m   1927\u001b[39m     \u001b[38;5;28mself\u001b[39m.close()\n",
      "\u001b[36mFile \u001b[39m\u001b[32m~/code/SOLAQUA/venv/lib/python3.13/site-packages/pandas/io/parsers/c_parser_wrapper.py:234\u001b[39m, in \u001b[36mCParserWrapper.read\u001b[39m\u001b[34m(self, nrows)\u001b[39m\n\u001b[32m    232\u001b[39m \u001b[38;5;28;01mtry\u001b[39;00m:\n\u001b[32m    233\u001b[39m     \u001b[38;5;28;01mif\u001b[39;00m \u001b[38;5;28mself\u001b[39m.low_memory:\n\u001b[32m--> \u001b[39m\u001b[32m234\u001b[39m         chunks = \u001b[38;5;28;43mself\u001b[39;49m\u001b[43m.\u001b[49m\u001b[43m_reader\u001b[49m\u001b[43m.\u001b[49m\u001b[43mread_low_memory\u001b[49m\u001b[43m(\u001b[49m\u001b[43mnrows\u001b[49m\u001b[43m)\u001b[49m\n\u001b[32m    235\u001b[39m         \u001b[38;5;66;03m# destructive to chunks\u001b[39;00m\n\u001b[32m    236\u001b[39m         data = _concatenate_chunks(chunks)\n",
      "\u001b[36mFile \u001b[39m\u001b[32mpandas/_libs/parsers.pyx:838\u001b[39m, in \u001b[36mpandas._libs.parsers.TextReader.read_low_memory\u001b[39m\u001b[34m()\u001b[39m\n",
      "\u001b[36mFile \u001b[39m\u001b[32mpandas/_libs/parsers.pyx:905\u001b[39m, in \u001b[36mpandas._libs.parsers.TextReader._read_rows\u001b[39m\u001b[34m()\u001b[39m\n",
      "\u001b[36mFile \u001b[39m\u001b[32mpandas/_libs/parsers.pyx:874\u001b[39m, in \u001b[36mpandas._libs.parsers.TextReader._tokenize_rows\u001b[39m\u001b[34m()\u001b[39m\n",
      "\u001b[36mFile \u001b[39m\u001b[32mpandas/_libs/parsers.pyx:891\u001b[39m, in \u001b[36mpandas._libs.parsers.TextReader._check_tokenize_status\u001b[39m\u001b[34m()\u001b[39m\n",
      "\u001b[36mFile \u001b[39m\u001b[32mpandas/_libs/parsers.pyx:2053\u001b[39m, in \u001b[36mpandas._libs.parsers.raise_parser_error\u001b[39m\u001b[34m()\u001b[39m\n",
      "\u001b[36mFile \u001b[39m\u001b[32m<frozen codecs>:322\u001b[39m, in \u001b[36mdecode\u001b[39m\u001b[34m(self, input, final)\u001b[39m\n",
      "\u001b[31mKeyboardInterrupt\u001b[39m: "
     ]
    }
   ],
   "source": [
    "# Generate Video with Both DVL and Sonar Analysis Overlays (Improved Sync)\n",
    "# ==========================================================================\n",
    "import utils.sonar_and_foto_generation as sg\n",
    "\n",
    "# Enable automatic video detection with improved synchronization\n",
    "from utils.sonar_config import VIDEO_CONFIG\n",
    "VIDEO_CONFIG['enable_video_overlay'] = True  \n",
    "VIDEO_CONFIG['max_sync_tolerance_seconds'] = 1.0  # Tighter sync tolerance\n",
    "\n",
    "print(\"GENERATING VIDEO WITH DUAL NET DISTANCE OVERLAYS\")\n",
    "print(\"=\" * 60)\n",
    "print(f\" Target Bag: {TARGET_BAG}\")\n",
    "print(f\" DVL Data: {len(raw_data.get('navigation', []))} records\")\n",
    "print(f\" Sonar Analysis: {len(distance_results)} frames\")\n",
    "print(f\" Auto-detect video: enabled (PNG frames + index.csv)\")\n",
    "print(f\"⏱  Sync tolerance: {VIDEO_CONFIG['max_sync_tolerance_seconds']}s\")\n",
    "\n",
    "# Generate the video with both overlays and improved sync\n",
    "try:\n",
    "    video_path = sg.export_optimized_sonar_video(\n",
    "        TARGET_BAG=TARGET_BAG,\n",
    "        EXPORTS_FOLDER=EXPORTS_FOLDER,\n",
    "        START_IDX=1,\n",
    "        END_IDX=1200,  \n",
    "        STRIDE=1,    \n",
    "        AUTO_DETECT_VIDEO=True,       # Enable automatic video file detection\n",
    "        INCLUDE_NET=True,             # Enable DVL net distance overlay\n",
    "        SONAR_DISTANCE_RESULTS=distance_results,  # Enable sonar analysis overlay\n",
    "        NET_DISTANCE_TOLERANCE=0.5,\n",
    "        NET_PITCH_TOLERANCE=2.0,      # Increased from 0.3 to 2.0 seconds for better pitch sync\n",
    "    )\n",
    "\n",
    "    print(f\"\\n Video generated successfully!\")\n",
    "    print(f\" Output: {video_path}\")\n",
    "    print(f\"\\n Check the video output:\")\n",
    "    print(f\"   - Camera frames should sync properly with sonar\")\n",
    "    print(f\"   - When camera data ends, video should switch to sonar-only\")\n",
    "    print(f\"   - No frozen camera frames should appear\")\n",
    "    \n",
    "except Exception as e:\n",
    "    print(f\"Error generating video: {e}\")\n",
    "    import traceback\n",
    "    traceback.print_exc()\n",
    "    print(\"\\n Troubleshooting:\")\n",
    "    print(\"  1. Run the video detection cell above to verify files exist\")\n",
    "    print(\"  2. Check that PNG frames directory has index.csv file\")\n",
    "    print(\"  3. Try disabling video overlay: VIDEO_CONFIG['enable_video_overlay'] = False\")\n",
    "    print(\"  4. Check exports directory structure\")"
   ]
  },
  {
   "cell_type": "code",
   "execution_count": null,
   "id": "a0dffba5",
   "metadata": {},
   "outputs": [],
   "source": []
  }
 ],
 "metadata": {
  "kernelspec": {
   "display_name": "venv",
   "language": "python",
   "name": "python3"
  },
  "language_info": {
   "codemirror_mode": {
    "name": "ipython",
    "version": 3
   },
   "file_extension": ".py",
   "mimetype": "text/x-python",
   "name": "python",
   "nbconvert_exporter": "python",
   "pygments_lexer": "ipython3",
   "version": "3.13.5"
  }
 },
 "nbformat": 4,
 "nbformat_minor": 5
}
