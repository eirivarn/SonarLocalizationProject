{
 "cells": [
  {
   "cell_type": "code",
   "execution_count": 1,
   "id": "7a8d02c0",
   "metadata": {},
   "outputs": [],
   "source": [
    "from pathlib import Path\n",
    "import utils.sonar_image_analysis as iau\n",
    "import importlib\n",
    "importlib.reload(iau)\n",
    "\n",
    "# Centralized sonar defaults (inserted by sweep)\n",
    "from utils.sonar_config import SONAR_VIS_DEFAULTS\n",
    "sonar_config = SONAR_VIS_DEFAULTS.copy()\n",
    "# Backwards-compatible variable names used in older notebooks\n",
    "RANGE_MIN_M = sonar_config['range_min_m']\n",
    "RANGE_MAX_M = sonar_config['range_max_m']\n",
    "DISPLAY_RANGE_MAX_M = sonar_config['display_range_max_m']"
   ]
  },
  {
   "cell_type": "markdown",
   "id": "9220eb1d",
   "metadata": {},
   "source": [
    "# Simple Image Analysis with CV2\n",
    "\n",
    "This notebook demonstrates:\n",
    "1. **Pick a frame** from NPZ files and save it locally\n",
    "2. **Use standard cv2 functions** directly for image processing\n",
    "3. **Experiment** with different OpenCV operations"
   ]
  },
  {
   "cell_type": "code",
   "execution_count": 70,
   "id": "4b3e8f46",
   "metadata": {},
   "outputs": [
    {
     "name": "stdout",
     "output_type": "stream",
     "text": [
      "Using DATA_DIR = /Volumes/LaCie/SOLAQUA/raw_data\n",
      "Selected NPZ file: 2024-08-22_14-47-39_data_cones.npz (index=11)\n"
     ]
    }
   ],
   "source": [
    "\n",
    "\n",
    "# Prefer selecting by bag ID (part of the NPZ filename) instead of a numeric index.\n",
    "# Set TARGET_BAG to a substring that appears in the NPZ filename \n",
    "# '2024-08-22_14-47-39' #1\n",
    "# '2024-08-22_14-29-05' #2\n",
    "# '2024-08-20_14-22-12' #3\n",
    "# '2024-08-20_14-31-29' #4\n",
    "# '2024-08-20_18-47-40' #5\n",
    "TARGET_BAG = '2024-08-22_14-47-39'  # change this to your desired bag ID\n",
    "from utils.sonar_config import EXPORTS_DIR_DEFAULT, EXPORTS_SUBDIRS\n",
    "EXPORTS_FOLDER = Path(EXPORTS_DIR_DEFAULT)\n",
    "\n",
    "# If you keep your raw .bag files or raw data on an external drive, point DATA_DIR there.\n",
    "# Example (your external disk): /Volumes/LaCie/SOLAQUA/raw_data\n",
    "DATA_DIR = Path(\"/Volumes/LaCie/SOLAQUA/raw_data\")\n",
    "print(f\"Using DATA_DIR = {DATA_DIR}\")\n",
    "\n",
    "# Find NPZ files and pick the one matching TARGET_BAG\n",
    "files = iau.get_available_npz_files()\n",
    "if not files:\n",
    "    raise FileNotFoundError(f\"No NPZ files found in configured exports outputs (looked under {EXPORTS_FOLDER / EXPORTS_SUBDIRS.get('outputs','outputs')})\")\n",
    "matches = [p for p in files if TARGET_BAG in p.name]\n",
    "if not matches:\n",
    "    # Help the user by listing available NPZ files\n",
    "    print(f'No NPZ file matched TARGET_BAG={TARGET_BAG!r}')\n",
    "    print('Available NPZ files:')\n",
    "    for i,p in enumerate(files):\n",
    "        print(f'  {i}: {p.name}')\n",
    "    raise ValueError(f'No NPZ file contains \"{TARGET_BAG}\" in its name')\n",
    "\n",
    "# If multiple matches, choose the most recently modified one\n",
    "selected = max(matches, key=lambda p: p.stat().st_mtime)\n",
    "NPZ_FILE_INDEX = files.index(selected)\n",
    "print(f'Selected NPZ file: {selected.name} (index={NPZ_FILE_INDEX})')"
   ]
  },
  {
   "cell_type": "markdown",
   "id": "0c65358c",
   "metadata": {},
   "source": [
    "## Distance Analysis Over Time\n",
    "\n",
    "Now let's perform a comprehensive analysis of the red line distance over time. The red line represents the major axis of the detected elongated contour (likely a fishing net), and we'll track how this distance changes throughout the video sequence."
   ]
  },
  {
   "cell_type": "code",
   "execution_count": 64,
   "id": "b9c5da85",
   "metadata": {},
   "outputs": [
    {
     "name": "stdout",
     "output_type": "stream",
     "text": [
      "=== ENHANCED VIDEO CREATION (Simplified) ===\n",
      "Creating video with simplified processor...\n",
      "Frames: 1500, step: 1\n",
      "Processing 994 frames with simplified processor...\n",
      "Processed 10/994 frames\n",
      "Processed 20/994 frames\n",
      "Processed 30/994 frames\n",
      "Processed 40/994 frames\n",
      "Processed 50/994 frames\n",
      "Processed 60/994 frames\n",
      "Processed 70/994 frames\n",
      "Processed 80/994 frames\n",
      "Processed 90/994 frames\n",
      "Processed 100/994 frames\n",
      "Processed 110/994 frames\n",
      "Processed 120/994 frames\n",
      "Processed 130/994 frames\n",
      "Processed 140/994 frames\n",
      "Processed 150/994 frames\n",
      "Processed 160/994 frames\n",
      "Processed 170/994 frames\n",
      "Processed 180/994 frames\n",
      "Processed 190/994 frames\n",
      "Processed 200/994 frames\n",
      "Processed 210/994 frames\n",
      "Processed 220/994 frames\n",
      "Processed 230/994 frames\n",
      "Processed 240/994 frames\n",
      "Processed 250/994 frames\n",
      "Processed 260/994 frames\n",
      "Processed 270/994 frames\n",
      "Processed 280/994 frames\n",
      "Processed 290/994 frames\n",
      "Processed 300/994 frames\n",
      "Processed 310/994 frames\n",
      "Processed 320/994 frames\n",
      "Processed 330/994 frames\n",
      "Processed 340/994 frames\n",
      "Processed 350/994 frames\n",
      "Processed 360/994 frames\n",
      "Processed 370/994 frames\n",
      "Processed 380/994 frames\n",
      "Processed 390/994 frames\n",
      "Processed 400/994 frames\n",
      "Processed 410/994 frames\n",
      "Processed 420/994 frames\n",
      "Processed 430/994 frames\n",
      "Processed 440/994 frames\n",
      "Processed 450/994 frames\n",
      "Processed 460/994 frames\n",
      "Processed 470/994 frames\n",
      "Processed 480/994 frames\n",
      "Processed 490/994 frames\n",
      "Processed 500/994 frames\n",
      "Processed 510/994 frames\n",
      "Processed 520/994 frames\n",
      "Processed 530/994 frames\n",
      "Processed 540/994 frames\n",
      "Processed 550/994 frames\n",
      "Processed 560/994 frames\n",
      "Processed 570/994 frames\n",
      "Processed 580/994 frames\n",
      "Processed 590/994 frames\n",
      "Processed 600/994 frames\n",
      "Processed 610/994 frames\n",
      "Processed 620/994 frames\n",
      "Processed 630/994 frames\n",
      "Processed 640/994 frames\n",
      "Processed 650/994 frames\n",
      "Processed 660/994 frames\n",
      "Processed 670/994 frames\n",
      "Processed 680/994 frames\n",
      "Processed 690/994 frames\n",
      "Processed 700/994 frames\n",
      "Processed 710/994 frames\n",
      "Processed 720/994 frames\n",
      "Processed 730/994 frames\n",
      "Processed 740/994 frames\n",
      "Processed 750/994 frames\n",
      "Processed 760/994 frames\n",
      "Processed 770/994 frames\n",
      "Processed 780/994 frames\n",
      "Processed 790/994 frames\n",
      "Processed 800/994 frames\n",
      "Processed 810/994 frames\n",
      "Processed 820/994 frames\n",
      "Processed 830/994 frames\n",
      "Processed 840/994 frames\n",
      "Processed 850/994 frames\n",
      "Processed 860/994 frames\n",
      "Processed 870/994 frames\n",
      "Processed 880/994 frames\n",
      "Processed 890/994 frames\n",
      "Processed 900/994 frames\n",
      "Processed 910/994 frames\n",
      "Processed 920/994 frames\n",
      "Processed 930/994 frames\n",
      "Processed 940/994 frames\n",
      "Processed 950/994 frames\n",
      "Processed 960/994 frames\n",
      "Processed 970/994 frames\n",
      "Processed 980/994 frames\n",
      "Processed 990/994 frames\n",
      "\n",
      "=== ENHANCED VIDEO CREATION COMPLETE ===\n",
      "Video saved to: /Volumes/LaCie/SOLAQUA/exports/videos/core_aoi_tracking.mp4\n",
      "Video specs: 900x700, 15 fps, 994 frames\n",
      "SIMPLIFIED TRACKING STATS:\n",
      "  - Total detected frames: 994\n",
      "  - Lost/searching frames: 0\n",
      "  - Detection success rate: 100.0%\n"
     ]
    }
   ],
   "source": [
    "# Create the unified processor\n",
    "processor = iau.SonarDataProcessor()\n",
    "\n",
    "# Use the enhanced video creation with CORE processor\n",
    "video_path = iau.create_enhanced_contour_detection_video_with_processor(\n",
    "    npz_file_index=NPZ_FILE_INDEX,          # Which NPZ file to use\n",
    "    frame_start=1,           # Starting frame\n",
    "    frame_count=1500,         # Number of frames to process\n",
    "    frame_step=1,            # Step between frames\n",
    "    output_path=Path(EXPORTS_DIR_DEFAULT) / EXPORTS_SUBDIRS.get('videos','videos') / 'core_aoi_tracking.mp4',\n",
    "    processor=processor      # Use our CORE processor\n",
    ")"
   ]
  },
  {
   "cell_type": "code",
   "execution_count": 71,
   "id": "d9c0382e",
   "metadata": {},
   "outputs": [
    {
     "name": "stdout",
     "output_type": "stream",
     "text": [
      "=== DISTANCE ANALYSIS FROM NPZ ===\n",
      "Analyzing: /Volumes/LaCie/SOLAQUA/exports/outputs/2024-08-22_14-47-39_data_cones.npz\n",
      "Processing 725 frames from 1 (step=1)\n",
      "  Processed 50/725 frames (Success rate: 100.0%)\n",
      "  Processed 100/725 frames (Success rate: 100.0%)\n",
      "  Processed 150/725 frames (Success rate: 100.0%)\n",
      "  Processed 200/725 frames (Success rate: 100.0%)\n",
      "  Processed 250/725 frames (Success rate: 100.0%)\n",
      "  Processed 300/725 frames (Success rate: 100.0%)\n",
      "  Processed 350/725 frames (Success rate: 100.0%)\n",
      "  Processed 400/725 frames (Success rate: 100.0%)\n",
      "  Processed 450/725 frames (Success rate: 100.0%)\n",
      "  Processed 500/725 frames (Success rate: 100.0%)\n",
      "  Processed 550/725 frames (Success rate: 100.0%)\n",
      "  Processed 600/725 frames (Success rate: 100.0%)\n",
      "  Processed 650/725 frames (Success rate: 100.0%)\n",
      "  Processed 700/725 frames (Success rate: 100.0%)\n",
      "\n",
      "=== ANALYSIS COMPLETE ===\n",
      "Total frames processed: 725\n",
      "Successful detections: 725 (100.0%)\n",
      "Distance statistics (meters):\n",
      "  - Mean: 0.674\n",
      "  - Std:  0.056\n",
      "  - Min:  0.516\n",
      "  - Max:  0.827\n",
      "  - Range: 0.312\n",
      "Analyzed 725 frames using elliptical AOI\n",
      " Detection success rate: 100.0%\n",
      " Elliptical tracking active: 0 frames\n"
     ]
    }
   ],
   "source": [
    "engine = iau.DistanceAnalysisEngine()\n",
    "distance_results = engine.analyze_npz_sequence(\n",
    "    npz_file_index=NPZ_FILE_INDEX,    \n",
    "    frame_start=1,        # Start from frame 1\n",
    "    frame_count=1500,      # Analyze all frames from the video\n",
    "    frame_step=1          # Every frame\n",
    ")\n",
    "\n",
    "print(f\"Analyzed {len(distance_results)} frames using elliptical AOI\")\n",
    "print(f\" Detection success rate: {distance_results['detection_success'].mean():.1%}\")\n",
    "print(f\" Elliptical tracking active: {(distance_results['tracking_status'].str.contains('ELLIPSE')).sum()} frames\")"
   ]
  },
  {
   "cell_type": "markdown",
   "id": "fede9d64",
   "metadata": {},
   "source": [
    "## Convert to Real-World Distances\n",
    "\n",
    "Now let's convert the pixel distances to real-world distances using the fact that the entire sonar image represents a 10x10 meter area."
   ]
  },
  {
   "cell_type": "code",
   "execution_count": 72,
   "id": "886897de",
   "metadata": {},
   "outputs": [
    {
     "name": "stdout",
     "output_type": "stream",
     "text": [
      "Detected NPZ extent: x=[-8.660,8.660] m, y=[0.000,10.000] m\n",
      "Image shape from NPZ: H=700, W=900\n",
      "meters/pixel: x=0.019245, y=0.014286, avg=0.016765\n",
      "Using pixels_to_meters_avg = 0.016765 m/px\n"
     ]
    }
   ],
   "source": [
    "# Auto-detect pixel->meter mapping from the selected NPZ (if available)\n",
    "try:\n",
    "    cones, ts, extent, meta = iau.load_cone_run_npz(selected)\n",
    "    T, H, W = cones.shape\n",
    "    x_min, x_max, y_min, y_max = extent\n",
    "    width_m = float(x_max - x_min)\n",
    "    height_m = float(y_max - y_min)\n",
    "    px2m_x = width_m / float(W)\n",
    "    px2m_y = height_m / float(H)\n",
    "    pixels_to_meters_avg = 0.5 * (px2m_x + px2m_y)\n",
    "    image_shape = (H, W)\n",
    "    sonar_coverage_meters = max(width_m, height_m)\n",
    "    print(f\"Detected NPZ extent: x=[{x_min:.3f},{x_max:.3f}] m, y=[{y_min:.3f},{y_max:.3f}] m\")\n",
    "    print(f\"Image shape from NPZ: H={H}, W={W}\")\n",
    "    print(f\"meters/pixel: x={px2m_x:.6f}, y={px2m_y:.6f}, avg={pixels_to_meters_avg:.6f}\")\n",
    "except Exception as e:\n",
    "    print(\"Could not read NPZ metadata:\", e)\n",
    "    print(\"Falling back to defaults from sonar_config.\")\n",
    "    from utils.sonar_config import CONE_H_DEFAULT, CONE_W_DEFAULT, DISPLAY_RANGE_MAX_M_DEFAULT\n",
    "    image_shape = (CONE_H_DEFAULT, CONE_W_DEFAULT)\n",
    "    sonar_coverage_meters = DISPLAY_RANGE_MAX_M_DEFAULT * 2  # approximate\n",
    "    pixels_to_meters_avg = sonar_coverage_meters / max(image_shape)\n",
    "    \n",
    "# Use the computed pixels_to_meters_avg in downstream analysis\n",
    "print(f\"Using pixels_to_meters_avg = {pixels_to_meters_avg:.6f} m/px\")"
   ]
  },
  {
   "cell_type": "code",
   "execution_count": 73,
   "id": "15d6238c",
   "metadata": {},
   "outputs": [
    {
     "data": {
      "application/vnd.plotly.v1+json": {
       "config": {
        "plotlyServerURL": "https://plot.ly"
       },
       "data": [
        {
         "line": {
          "color": "blue"
         },
         "mode": "lines+markers",
         "name": "Distance",
         "type": "scatter",
         "x": {
          "bdata": "AQACAAMABAAFAAYABwAIAAkACgALAAwADQAOAA8AEAARABIAEwAUABUAFgAXABgAGQAaABsAHAAdAB4AHwAgACEAIgAjACQAJQAmACcAKAApACoAKwAsAC0ALgAvADAAMQAyADMANAA1ADYANwA4ADkAOgA7ADwAPQA+AD8AQABBAEIAQwBEAEUARgBHAEgASQBKAEsATABNAE4ATwBQAFEAUgBTAFQAVQBWAFcAWABZAFoAWwBcAF0AXgBfAGAAYQBiAGMAZABlAGYAZwBoAGkAagBrAGwAbQBuAG8AcABxAHIAcwB0AHUAdgB3AHgAeQB6AHsAfAB9AH4AfwCAAIEAggCDAIQAhQCGAIcAiACJAIoAiwCMAI0AjgCPAJAAkQCSAJMAlACVAJYAlwCYAJkAmgCbAJwAnQCeAJ8AoAChAKIAowCkAKUApgCnAKgAqQCqAKsArACtAK4ArwCwALEAsgCzALQAtQC2ALcAuAC5ALoAuwC8AL0AvgC/AMAAwQDCAMMAxADFAMYAxwDIAMkAygDLAMwAzQDOAM8A0ADRANIA0wDUANUA1gDXANgA2QDaANsA3ADdAN4A3wDgAOEA4gDjAOQA5QDmAOcA6ADpAOoA6wDsAO0A7gDvAPAA8QDyAPMA9AD1APYA9wD4APkA+gD7APwA/QD+AP8AAAEBAQIBAwEEAQUBBgEHAQgBCQEKAQsBDAENAQ4BDwEQAREBEgETARQBFQEWARcBGAEZARoBGwEcAR0BHgEfASABIQEiASMBJAElASYBJwEoASkBKgErASwBLQEuAS8BMAExATIBMwE0ATUBNgE3ATgBOQE6ATsBPAE9AT4BPwFAAUEBQgFDAUQBRQFGAUcBSAFJAUoBSwFMAU0BTgFPAVABUQFSAVMBVAFVAVYBVwFYAVkBWgFbAVwBXQFeAV8BYAFhAWIBYwFkAWUBZgFnAWgBaQFqAWsBbAFtAW4BbwFwAXEBcgFzAXQBdQF2AXcBeAF5AXoBewF8AX0BfgF/AYABgQGCAYMBhAGFAYYBhwGIAYkBigGLAYwBjQGOAY8BkAGRAZIBkwGUAZUBlgGXAZgBmQGaAZsBnAGdAZ4BnwGgAaEBogGjAaQBpQGmAacBqAGpAaoBqwGsAa0BrgGvAbABsQGyAbMBtAG1AbYBtwG4AbkBugG7AbwBvQG+Ab8BwAHBAcIBwwHEAcUBxgHHAcgByQHKAcsBzAHNAc4BzwHQAdEB0gHTAdQB1QHWAdcB2AHZAdoB2wHcAd0B3gHfAeAB4QHiAeMB5AHlAeYB5wHoAekB6gHrAewB7QHuAe8B8AHxAfIB8wH0AfUB9gH3AfgB+QH6AfsB/AH9Af4B/wEAAgECAgIDAgQCBQIGAgcCCAIJAgoCCwIMAg0CDgIPAhACEQISAhMCFAIVAhYCFwIYAhkCGgIbAhwCHQIeAh8CIAIhAiICIwIkAiUCJgInAigCKQIqAisCLAItAi4CLwIwAjECMgIzAjQCNQI2AjcCOAI5AjoCOwI8Aj0CPgI/AkACQQJCAkMCRAJFAkYCRwJIAkkCSgJLAkwCTQJOAk8CUAJRAlICUwJUAlUCVgJXAlgCWQJaAlsCXAJdAl4CXwJgAmECYgJjAmQCZQJmAmcCaAJpAmoCawJsAm0CbgJvAnACcQJyAnMCdAJ1AnYCdwJ4AnkCegJ7AnwCfQJ+An8CgAKBAoICgwKEAoUChgKHAogCiQKKAosCjAKNAo4CjwKQApECkgKTApQClQKWApcCmAKZApoCmwKcAp0CngKfAqACoQKiAqMCpAKlAqYCpwKoAqkCqgKrAqwCrQKuAq8CsAKxArICswK0ArUCtgK3ArgCuQK6ArsCvAK9Ar4CvwLAAsECwgLDAsQCxQLGAscCyALJAsoCywLMAs0CzgLPAtAC0QLSAtMC1ALVAg==",
          "dtype": "i2"
         },
         "xaxis": "x",
         "y": {
          "bdata": "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",
          "dtype": "f8"
         },
         "yaxis": "y"
        },
        {
         "line": {
          "color": "green"
         },
         "mode": "lines+markers",
         "name": "Distance over Time",
         "type": "scatter",
         "x": [
          "2024-08-22T12:47:42.079270124",
          "2024-08-22T12:47:42.142102480",
          "2024-08-22T12:47:42.205967665",
          "2024-08-22T12:47:42.269795418",
          "2024-08-22T12:47:42.336023808",
          "2024-08-22T12:47:42.397914648",
          "2024-08-22T12:47:42.462719917",
          "2024-08-22T12:47:42.526518106",
          "2024-08-22T12:47:42.591380119",
          "2024-08-22T12:47:42.655776262",
          "2024-08-22T12:47:42.717646360",
          "2024-08-22T12:47:42.782440901",
          "2024-08-22T12:47:42.847325802",
          "2024-08-22T12:47:42.913094282",
          "2024-08-22T12:47:42.979914427",
          "2024-08-22T12:47:43.037758112",
          "2024-08-22T12:47:43.103629589",
          "2024-08-22T12:47:43.168455124",
          "2024-08-22T12:47:43.230289459",
          "2024-08-22T12:47:43.297112226",
          "2024-08-22T12:47:43.358057499",
          "2024-08-22T12:47:43.423883915",
          "2024-08-22T12:47:43.489706516",
          "2024-08-22T12:47:43.554531097",
          "2024-08-22T12:47:43.614371061",
          "2024-08-22T12:47:43.681210041",
          "2024-08-22T12:47:43.743044615",
          "2024-08-22T12:47:43.807869673",
          "2024-08-22T12:47:43.873695135",
          "2024-08-22T12:47:43.941514730",
          "2024-08-22T12:47:43.998361826",
          "2024-08-22T12:47:44.074665546",
          "2024-08-22T12:47:44.126527070",
          "2024-08-22T12:47:44.193355322",
          "2024-08-22T12:47:44.255183697",
          "2024-08-22T12:47:44.318017483",
          "2024-08-22T12:47:44.382842064",
          "2024-08-22T12:47:44.445672750",
          "2024-08-22T12:47:44.510514021",
          "2024-08-22T12:47:44.575340748",
          "2024-08-22T12:47:44.638174295",
          "2024-08-22T12:47:44.705569983",
          "2024-08-22T12:47:44.768403053",
          "2024-08-22T12:47:44.834228277",
          "2024-08-22T12:47:44.898564339",
          "2024-08-22T12:47:44.959438801",
          "2024-08-22T12:47:45.023231506",
          "2024-08-22T12:47:45.087059975",
          "2024-08-22T12:47:45.153880835",
          "2024-08-22T12:47:45.219862700",
          "2024-08-22T12:47:45.279679060",
          "2024-08-22T12:47:45.342511177",
          "2024-08-22T12:47:45.406341076",
          "2024-08-22T12:47:45.471167803",
          "2024-08-22T12:47:45.533998965",
          "2024-08-22T12:47:45.599824429",
          "2024-08-22T12:47:45.661656857",
          "2024-08-22T12:47:45.727523565",
          "2024-08-22T12:47:45.791311502",
          "2024-08-22T12:47:45.857160330",
          "2024-08-22T12:47:45.917972803",
          "2024-08-22T12:47:45.981801510",
          "2024-08-22T12:47:46.045691729",
          "2024-08-22T12:47:46.110457182",
          "2024-08-22T12:47:46.174287081",
          "2024-08-22T12:47:46.238117933",
          "2024-08-22T12:47:46.302991867",
          "2024-08-22T12:47:46.365823507",
          "2024-08-22T12:47:46.431176424",
          "2024-08-22T12:47:46.495586872",
          "2024-08-22T12:47:46.559441805",
          "2024-08-22T12:47:46.625262260",
          "2024-08-22T12:47:46.693078756",
          "2024-08-22T12:47:46.753947496",
          "2024-08-22T12:47:46.817774057",
          "2024-08-22T12:47:46.883601427",
          "2024-08-22T12:47:46.942441463",
          "2024-08-22T12:47:47.006270170",
          "2024-08-22T12:47:47.071098804",
          "2024-08-22T12:47:47.134925604",
          "2024-08-22T12:47:47.201746941",
          "2024-08-22T12:47:47.263585805",
          "2024-08-22T12:47:47.325416565",
          "2024-08-22T12:47:47.391242743",
          "2024-08-22T12:47:47.456104517",
          "2024-08-22T12:47:47.517956257",
          "2024-08-22T12:47:47.585775137",
          "2024-08-22T12:47:47.783459425",
          "2024-08-22T12:47:47.798418760",
          "2024-08-22T12:47:47.860253811",
          "2024-08-22T12:47:47.905133486",
          "2024-08-22T12:47:47.952027798",
          "2024-08-22T12:47:48.012863636",
          "2024-08-22T12:47:48.058742285",
          "2024-08-22T12:47:48.106619596",
          "2024-08-22T12:47:48.160469055",
          "2024-08-22T12:47:48.222304106",
          "2024-08-22T12:47:48.289125204",
          "2024-08-22T12:47:48.353955030",
          "2024-08-22T12:47:48.416471243",
          "2024-08-22T12:47:48.481297970",
          "2024-08-22T12:47:48.548118830",
          "2024-08-22T12:47:48.608991146",
          "2024-08-22T12:47:48.672789335",
          "2024-08-22T12:47:48.734709978",
          "2024-08-22T12:47:48.799378157",
          "2024-08-22T12:47:48.863616467",
          "2024-08-22T12:47:48.926483631",
          "2024-08-22T12:47:48.991314173",
          "2024-08-22T12:47:49.057138681",
          "2024-08-22T12:47:49.119432688",
          "2024-08-22T12:47:49.185294628",
          "2024-08-22T12:47:49.246094227",
          "2024-08-22T12:47:49.310529947",
          "2024-08-22T12:47:49.374395370",
          "2024-08-22T12:47:49.438732386",
          "2024-08-22T12:47:49.502139807",
          "2024-08-22T12:47:49.566963911",
          "2024-08-22T12:47:49.630340815",
          "2024-08-22T12:47:49.695523739",
          "2024-08-22T12:47:49.758430243",
          "2024-08-22T12:47:49.822546244",
          "2024-08-22T12:47:49.886227369",
          "2024-08-22T12:47:49.950020552",
          "2024-08-22T12:47:50.013556719",
          "2024-08-22T12:47:50.078420162",
          "2024-08-22T12:47:50.142329693",
          "2024-08-22T12:47:50.206041574",
          "2024-08-22T12:47:50.276866674",
          "2024-08-22T12:47:50.335693598",
          "2024-08-22T12:47:50.406504631",
          "2024-08-22T12:47:50.465346336",
          "2024-08-22T12:47:50.536157608",
          "2024-08-22T12:47:50.598988771",
          "2024-08-22T12:47:50.653844595",
          "2024-08-22T12:47:50.719306231",
          "2024-08-22T12:47:50.785254002",
          "2024-08-22T12:47:50.907845259",
          "2024-08-22T12:47:50.924805403",
          "2024-08-22T12:47:50.978656054",
          "2024-08-22T12:47:51.037887335",
          "2024-08-22T12:47:51.102393389",
          "2024-08-22T12:47:51.169251919",
          "2024-08-22T12:47:51.230048656",
          "2024-08-22T12:47:51.294878006",
          "2024-08-22T12:47:51.358228445",
          "2024-08-22T12:47:51.422244549",
          "2024-08-22T12:47:51.490060091",
          "2024-08-22T12:47:51.550378561",
          "2024-08-22T12:47:51.613721371",
          "2024-08-22T12:47:51.680542469",
          "2024-08-22T12:47:51.742375851",
          "2024-08-22T12:47:51.806545258",
          "2024-08-22T12:47:51.871034145",
          "2024-08-22T12:47:51.933865786",
          "2024-08-22T12:47:51.998691559",
          "2024-08-22T12:47:52.063024044",
          "2024-08-22T12:47:52.127844810",
          "2024-08-22T12:47:52.193671465",
          "2024-08-22T12:47:52.260490893",
          "2024-08-22T12:47:52.325387478",
          "2024-08-22T12:47:52.388179302",
          "2024-08-22T12:47:52.446037531",
          "2024-08-22T12:47:52.510822295",
          "2024-08-22T12:47:52.576648712",
          "2024-08-22T12:47:52.638478994",
          "2024-08-22T12:47:52.702308178",
          "2024-08-22T12:47:52.766648531",
          "2024-08-22T12:47:52.829560041",
          "2024-08-22T12:47:52.895339251",
          "2024-08-22T12:47:52.959167957",
          "2024-08-22T12:47:53.022039413",
          "2024-08-22T12:47:53.090818167",
          "2024-08-22T12:47:53.150656223",
          "2024-08-22T12:47:53.214524746",
          "2024-08-22T12:47:53.280311108",
          "2024-08-22T12:47:53.342396975",
          "2024-08-22T12:47:53.406488180",
          "2024-08-22T12:47:53.471314669",
          "2024-08-22T12:47:53.534695386",
          "2024-08-22T12:47:53.598518610",
          "2024-08-22T12:47:53.666336536",
          "2024-08-22T12:47:53.726413012",
          "2024-08-22T12:47:53.792237997",
          "2024-08-22T12:47:53.856068611",
          "2024-08-22T12:47:53.918899775",
          "2024-08-22T12:47:53.987715483",
          "2024-08-22T12:47:54.048559189",
          "2024-08-22T12:47:54.114376545",
          "2024-08-22T12:47:54.185188532",
          "2024-08-22T12:47:54.239042997",
          "2024-08-22T12:47:54.302942753",
          "2024-08-22T12:47:54.368766546",
          "2024-08-22T12:47:54.433595419",
          "2024-08-22T12:47:54.497421741",
          "2024-08-22T12:47:54.559295416",
          "2024-08-22T12:47:54.622127771",
          "2024-08-22T12:47:54.688026905",
          "2024-08-22T12:47:54.749866486",
          "2024-08-22T12:47:54.814872265",
          "2024-08-22T12:47:54.881490231",
          "2024-08-22T12:47:54.948314667",
          "2024-08-22T12:47:55.006204605",
          "2024-08-22T12:47:55.070983887",
          "2024-08-22T12:47:55.135812759",
          "2024-08-22T12:47:55.199640512",
          "2024-08-22T12:47:55.262197970",
          "2024-08-22T12:47:55.326779127",
          "2024-08-22T12:47:55.390609503",
          "2024-08-22T12:47:55.455941677",
          "2024-08-22T12:47:55.518773794",
          "2024-08-22T12:47:55.583600044",
          "2024-08-22T12:47:55.646431446",
          "2024-08-22T12:47:55.762367487",
          "2024-08-22T12:47:55.822207451",
          "2024-08-22T12:47:55.870615721",
          "2024-08-22T12:47:55.903528929",
          "2024-08-22T12:47:55.972343922",
          "2024-08-22T12:47:56.034180641",
          "2024-08-22T12:47:56.230654240",
          "2024-08-22T12:47:56.244616270",
          "2024-08-22T12:47:56.305584192",
          "2024-08-22T12:47:56.353327036",
          "2024-08-22T12:47:56.397209167",
          "2024-08-22T12:47:56.459064722",
          "2024-08-22T12:47:56.504005194",
          "2024-08-22T12:47:56.550822735",
          "2024-08-22T12:47:56.610658884",
          "2024-08-22T12:47:56.675529957",
          "2024-08-22T12:47:56.734373331",
          "2024-08-22T12:47:56.799198389",
          "2024-08-22T12:47:56.862029791",
          "2024-08-22T12:47:56.926856995",
          "2024-08-22T12:47:56.990686655",
          "2024-08-22T12:47:57.055063725",
          "2024-08-22T12:47:57.118893147",
          "2024-08-22T12:47:57.183237076",
          "2024-08-22T12:47:57.246649742",
          "2024-08-22T12:47:57.319489717",
          "2024-08-22T12:47:57.378296375",
          "2024-08-22T12:47:57.439493179",
          "2024-08-22T12:47:57.503848791",
          "2024-08-22T12:47:57.567677498",
          "2024-08-22T12:47:57.629513025",
          "2024-08-22T12:47:57.695339918",
          "2024-08-22T12:47:57.760162354",
          "2024-08-22T12:47:57.823992252",
          "2024-08-22T12:47:57.892808676",
          "2024-08-22T12:47:57.957634211",
          "2024-08-22T12:47:58.015479803",
          "2024-08-22T12:47:58.080342054",
          "2024-08-22T12:47:58.142693281",
          "2024-08-22T12:47:58.205541849",
          "2024-08-22T12:47:58.271376610",
          "2024-08-22T12:47:58.335172415",
          "2024-08-22T12:47:58.399001360",
          "2024-08-22T12:47:58.463826895",
          "2024-08-22T12:47:58.527019978",
          "2024-08-22T12:47:58.590854406",
          "2024-08-22T12:47:58.654217720",
          "2024-08-22T12:47:58.718048811",
          "2024-08-22T12:47:58.786936283",
          "2024-08-22T12:47:58.849254608",
          "2024-08-22T12:47:58.910111427",
          "2024-08-22T12:47:58.974449873",
          "2024-08-22T12:47:59.041270733",
          "2024-08-22T12:47:59.102612257",
          "2024-08-22T12:47:59.167439699",
          "2024-08-22T12:47:59.231272697",
          "2024-08-22T12:47:59.296097040",
          "2024-08-22T12:47:59.358959436",
          "2024-08-22T12:47:59.421829700",
          "2024-08-22T12:47:59.485619307",
          "2024-08-22T12:47:59.552475691",
          "2024-08-22T12:47:59.614999771",
          "2024-08-22T12:47:59.680792332",
          "2024-08-22T12:47:59.745616198",
          "2024-08-22T12:47:59.809447050",
          "2024-08-22T12:47:59.874827623",
          "2024-08-22T12:47:59.935665131",
          "2024-08-22T12:48:00.000491381",
          "2024-08-22T12:48:00.064320802",
          "2024-08-22T12:48:00.126153708",
          "2024-08-22T12:48:00.194033384",
          "2024-08-22T12:48:00.257676363",
          "2024-08-22T12:48:00.317556143",
          "2024-08-22T12:48:00.389369011",
          "2024-08-22T12:48:00.446218491",
          "2024-08-22T12:48:00.514036179",
          "2024-08-22T12:48:00.575871229",
          "2024-08-22T12:48:00.638703346",
          "2024-08-22T12:48:00.702565670",
          "2024-08-22T12:48:00.766397476",
          "2024-08-22T12:48:00.830226421",
          "2024-08-22T12:48:00.897011518",
          "2024-08-22T12:48:00.958845615",
          "2024-08-22T12:48:01.022715807",
          "2024-08-22T12:48:01.089756012",
          "2024-08-22T12:48:01.151363611",
          "2024-08-22T12:48:01.213592052",
          "2024-08-22T12:48:01.279414177",
          "2024-08-22T12:48:01.341246605",
          "2024-08-22T12:48:01.409272671",
          "2024-08-22T12:48:01.472929239",
          "2024-08-22T12:48:01.537722111",
          "2024-08-22T12:48:01.601768732",
          "2024-08-22T12:48:01.663604975",
          "2024-08-22T12:48:01.728463888",
          "2024-08-22T12:48:01.798316479",
          "2024-08-22T12:48:01.854205132",
          "2024-08-22T12:48:01.917881250",
          "2024-08-22T12:48:01.984704494",
          "2024-08-22T12:48:02.047544479",
          "2024-08-22T12:48:02.110928059",
          "2024-08-22T12:48:02.178150415",
          "2024-08-22T12:48:02.237989902",
          "2024-08-22T12:48:02.302819014",
          "2024-08-22T12:48:02.366724014",
          "2024-08-22T12:48:02.429532051",
          "2024-08-22T12:48:02.495329380",
          "2024-08-22T12:48:02.559236526",
          "2024-08-22T12:48:02.622107506",
          "2024-08-22T12:48:02.685937405",
          "2024-08-22T12:48:02.752839565",
          "2024-08-22T12:48:02.813643456",
          "2024-08-22T12:48:02.878467321",
          "2024-08-22T12:48:02.943349600",
          "2024-08-22T12:48:03.008521795",
          "2024-08-22T12:48:03.073345900",
          "2024-08-22T12:48:03.134183167",
          "2024-08-22T12:48:03.198012590",
          "2024-08-22T12:48:03.263839006",
          "2024-08-22T12:48:03.327667713",
          "2024-08-22T12:48:03.392527819",
          "2024-08-22T12:48:03.458356142",
          "2024-08-22T12:48:03.520795345",
          "2024-08-22T12:48:03.582893372",
          "2024-08-22T12:48:03.645724535",
          "2024-08-22T12:48:03.711549759",
          "2024-08-22T12:48:03.776377201",
          "2024-08-22T12:48:03.838209629",
          "2024-08-22T12:48:03.903037071",
          "2024-08-22T12:48:03.966867447",
          "2024-08-22T12:48:04.033856153",
          "2024-08-22T12:48:04.095293045",
          "2024-08-22T12:48:04.158123732",
          "2024-08-22T12:48:04.251384020",
          "2024-08-22T12:48:04.299203396",
          "2024-08-22T12:48:04.358987808",
          "2024-08-22T12:48:04.414835691",
          "2024-08-22T12:48:04.480659723",
          "2024-08-22T12:48:04.542493343",
          "2024-08-22T12:48:04.606324911",
          "2024-08-22T12:48:04.672146797",
          "2024-08-22T12:48:04.739003181",
          "2024-08-22T12:48:04.799292564",
          "2024-08-22T12:48:04.863119364",
          "2024-08-22T12:48:04.925953388",
          "2024-08-22T12:48:04.993772745",
          "2024-08-22T12:48:05.055605650",
          "2024-08-22T12:48:05.118066788",
          "2024-08-22T12:48:05.186921835",
          "2024-08-22T12:48:05.247793436",
          "2024-08-22T12:48:05.313646793",
          "2024-08-22T12:48:05.389665604",
          "2024-08-22T12:48:05.440528870",
          "2024-08-22T12:48:05.504357815",
          "2024-08-22T12:48:05.567247868",
          "2024-08-22T12:48:05.632790327",
          "2024-08-22T12:48:05.696887970",
          "2024-08-22T12:48:05.758721352",
          "2024-08-22T12:48:05.821586132",
          "2024-08-22T12:48:05.887387276",
          "2024-08-22T12:48:05.951206684",
          "2024-08-22T12:48:06.014078617",
          "2024-08-22T12:48:06.079903603",
          "2024-08-22T12:48:06.196130276",
          "2024-08-22T12:48:06.256000757",
          "2024-08-22T12:48:06.315805674",
          "2024-08-22T12:48:06.377641916",
          "2024-08-22T12:48:06.437481880",
          "2024-08-22T12:48:06.498317719",
          "2024-08-22T12:48:06.573117733",
          "2024-08-22T12:48:06.624019146",
          "2024-08-22T12:48:06.681829453",
          "2024-08-22T12:48:06.738674879",
          "2024-08-22T12:48:06.786588430",
          "2024-08-22T12:48:06.845424891",
          "2024-08-22T12:48:06.910216093",
          "2024-08-22T12:48:06.978382826",
          "2024-08-22T12:48:07.039703846",
          "2024-08-22T12:48:07.106487274",
          "2024-08-22T12:48:07.171312809",
          "2024-08-22T12:48:07.236644506",
          "2024-08-22T12:48:07.305712223",
          "2024-08-22T12:48:07.364514351",
          "2024-08-22T12:48:07.424396753",
          "2024-08-22T12:48:07.487226486",
          "2024-08-22T12:48:07.554117918",
          "2024-08-22T12:48:07.614000797",
          "2024-08-22T12:48:07.682816267",
          "2024-08-22T12:48:07.742656946",
          "2024-08-22T12:48:07.806071281",
          "2024-08-22T12:48:07.872926474",
          "2024-08-22T12:48:07.933764458",
          "2024-08-22T12:48:07.998591661",
          "2024-08-22T12:48:08.061423063",
          "2024-08-22T12:48:08.127249241",
          "2024-08-22T12:48:08.191115618",
          "2024-08-22T12:48:08.255943537",
          "2024-08-22T12:48:08.318773985",
          "2024-08-22T12:48:08.381644011",
          "2024-08-22T12:48:08.445428848",
          "2024-08-22T12:48:08.510257959",
          "2024-08-22T12:48:08.574086189",
          "2024-08-22T12:48:08.637914181",
          "2024-08-22T12:48:08.702741861",
          "2024-08-22T12:48:08.765633106",
          "2024-08-22T12:48:08.830401182",
          "2024-08-22T12:48:08.902842045",
          "2024-08-22T12:48:08.963669062",
          "2024-08-22T12:48:09.027417660",
          "2024-08-22T12:48:09.089256287",
          "2024-08-22T12:48:09.151085854",
          "2024-08-22T12:48:09.215949059",
          "2024-08-22T12:48:09.279741287",
          "2024-08-22T12:48:09.343537331",
          "2024-08-22T12:48:09.405372858",
          "2024-08-22T12:48:09.474188089",
          "2024-08-22T12:48:09.535604239",
          "2024-08-22T12:48:09.598435879",
          "2024-08-22T12:48:09.664261341",
          "2024-08-22T12:48:09.726097584",
          "2024-08-22T12:48:09.790688276",
          "2024-08-22T12:48:09.854517937",
          "2024-08-22T12:48:09.917387009",
          "2024-08-22T12:48:09.984212160",
          "2024-08-22T12:48:10.046046495",
          "2024-08-22T12:48:10.109876156",
          "2024-08-22T12:48:10.175780058",
          "2024-08-22T12:48:10.237578869",
          "2024-08-22T12:48:10.303402185",
          "2024-08-22T12:48:10.368229866",
          "2024-08-22T12:48:10.430063725",
          "2024-08-22T12:48:10.494897842",
          "2024-08-22T12:48:10.560847759",
          "2024-08-22T12:48:10.622554302",
          "2024-08-22T12:48:10.687430859",
          "2024-08-22T12:48:10.753256798",
          "2024-08-22T12:48:10.818082094",
          "2024-08-22T12:48:10.881979465",
          "2024-08-22T12:48:10.945779085",
          "2024-08-22T12:48:11.006616831",
          "2024-08-22T12:48:11.073957682",
          "2024-08-22T12:48:11.134518385",
          "2024-08-22T12:48:11.201706171",
          "2024-08-22T12:48:11.262543201",
          "2024-08-22T12:48:11.333355188",
          "2024-08-22T12:48:11.390202522",
          "2024-08-22T12:48:11.455028296",
          "2024-08-22T12:48:11.517862081",
          "2024-08-22T12:48:11.611610174",
          "2024-08-22T12:48:11.669455051",
          "2024-08-22T12:48:11.717326641",
          "2024-08-22T12:48:11.776171684",
          "2024-08-22T12:48:11.848975182",
          "2024-08-22T12:48:11.915800571",
          "2024-08-22T12:48:11.968654394",
          "2024-08-22T12:48:12.030488729",
          "2024-08-22T12:48:12.226046562",
          "2024-08-22T12:48:12.241007805",
          "2024-08-22T12:48:12.292895317",
          "2024-08-22T12:48:12.354283094",
          "2024-08-22T12:48:12.401190758",
          "2024-08-22T12:48:12.468835354",
          "2024-08-22T12:48:12.526808976",
          "2024-08-22T12:48:12.573686361",
          "2024-08-22T12:48:12.618607044",
          "2024-08-22T12:48:12.681426764",
          "2024-08-22T12:48:12.739243031",
          "2024-08-22T12:48:12.800078392",
          "2024-08-22T12:48:12.864424229",
          "2024-08-22T12:48:12.926810980",
          "2024-08-22T12:48:12.991647482",
          "2024-08-22T12:48:13.054472923",
          "2024-08-22T12:48:13.118298292",
          "2024-08-22T12:48:13.184121132",
          "2024-08-22T12:48:13.244959593",
          "2024-08-22T12:48:13.319758415",
          "2024-08-22T12:48:13.376607418",
          "2024-08-22T12:48:13.437460423",
          "2024-08-22T12:48:13.503284693",
          "2024-08-22T12:48:13.566152334",
          "2024-08-22T12:48:13.629945517",
          "2024-08-22T12:48:13.695771456",
          "2024-08-22T12:48:13.758603811",
          "2024-08-22T12:48:13.824428320",
          "2024-08-22T12:48:13.887018919",
          "2024-08-22T12:48:13.949892282",
          "2024-08-22T12:48:14.013723373",
          "2024-08-22T12:48:14.079546928",
          "2024-08-22T12:48:14.142429590",
          "2024-08-22T12:48:14.206259251",
          "2024-08-22T12:48:14.272220612",
          "2024-08-22T12:48:14.334095001",
          "2024-08-22T12:48:14.398452759",
          "2024-08-22T12:48:14.465273142",
          "2024-08-22T12:48:14.527107954",
          "2024-08-22T12:48:14.597918749",
          "2024-08-22T12:48:14.656789780",
          "2024-08-22T12:48:14.718644619",
          "2024-08-22T12:48:14.791415215",
          "2024-08-22T12:48:14.848263741",
          "2024-08-22T12:48:14.917078972",
          "2024-08-22T12:48:14.975400209",
          "2024-08-22T12:48:15.038426638",
          "2024-08-22T12:48:15.102252960",
          "2024-08-22T12:48:15.166082382",
          "2024-08-22T12:48:15.230912685",
          "2024-08-22T12:48:15.296732903",
          "2024-08-22T12:48:15.360564232",
          "2024-08-22T12:48:15.422398090",
          "2024-08-22T12:48:15.489219189",
          "2024-08-22T12:48:15.551053286",
          "2024-08-22T12:48:15.613885641",
          "2024-08-22T12:48:15.679549932",
          "2024-08-22T12:48:15.742384195",
          "2024-08-22T12:48:15.806211948",
          "2024-08-22T12:48:15.874030352",
          "2024-08-22T12:48:15.935862541",
          "2024-08-22T12:48:16.000688791",
          "2024-08-22T12:48:16.062524318",
          "2024-08-22T12:48:16.126353740",
          "2024-08-22T12:48:16.193174839",
          "2024-08-22T12:48:16.256008387",
          "2024-08-22T12:48:16.317842007",
          "2024-08-22T12:48:16.384663582",
          "2024-08-22T12:48:16.448492289",
          "2024-08-22T12:48:16.514316558",
          "2024-08-22T12:48:16.584706306",
          "2024-08-22T12:48:16.651526451",
          "2024-08-22T12:48:16.709371567",
          "2024-08-22T12:48:16.770213127",
          "2024-08-22T12:48:16.830084801",
          "2024-08-22T12:48:16.896869898",
          "2024-08-22T12:48:17.010566473",
          "2024-08-22T12:48:17.058462620",
          "2024-08-22T12:48:17.087386608",
          "2024-08-22T12:48:17.153210163",
          "2024-08-22T12:48:17.214046478",
          "2024-08-22T12:48:17.278963566",
          "2024-08-22T12:48:17.356720448",
          "2024-08-22T12:48:17.407584190",
          "2024-08-22T12:48:17.472446442",
          "2024-08-22T12:48:17.533287287",
          "2024-08-22T12:48:17.598434925",
          "2024-08-22T12:48:17.666251659",
          "2024-08-22T12:48:17.728086472",
          "2024-08-22T12:48:17.796902895",
          "2024-08-22T12:48:17.853750229",
          "2024-08-22T12:48:17.918576956",
          "2024-08-22T12:48:17.982419252",
          "2024-08-22T12:48:18.045286417",
          "2024-08-22T12:48:18.111075163",
          "2024-08-22T12:48:18.175018311",
          "2024-08-22T12:48:18.238881826",
          "2024-08-22T12:48:18.306704998",
          "2024-08-22T12:48:18.381465673",
          "2024-08-22T12:48:18.441364765",
          "2024-08-22T12:48:18.496666908",
          "2024-08-22T12:48:18.560503960",
          "2024-08-22T12:48:18.622337103",
          "2024-08-22T12:48:18.687837839",
          "2024-08-22T12:48:18.752664089",
          "2024-08-22T12:48:18.813536167",
          "2024-08-22T12:48:18.881377220",
          "2024-08-22T12:48:18.949187517",
          "2024-08-22T12:48:19.006035805",
          "2024-08-22T12:48:19.074423313",
          "2024-08-22T12:48:19.135317802",
          "2024-08-22T12:48:19.198184729",
          "2024-08-22T12:48:19.268092155",
          "2024-08-22T12:48:19.325936794",
          "2024-08-22T12:48:19.392759085",
          "2024-08-22T12:48:19.453595400",
          "2024-08-22T12:48:19.518422603",
          "2024-08-22T12:48:19.587238312",
          "2024-08-22T12:48:19.646118641",
          "2024-08-22T12:48:19.710908890",
          "2024-08-22T12:48:19.773740530",
          "2024-08-22T12:48:19.838566065",
          "2024-08-22T12:48:19.902397156",
          "2024-08-22T12:48:19.966228247",
          "2024-08-22T12:48:20.030054092",
          "2024-08-22T12:48:20.095877886",
          "2024-08-22T12:48:20.164695978",
          "2024-08-22T12:48:20.239495516",
          "2024-08-22T12:48:20.291373491",
          "2024-08-22T12:48:20.354243517",
          "2024-08-22T12:48:20.414179564",
          "2024-08-22T12:48:20.481322050",
          "2024-08-22T12:48:20.541258812",
          "2024-08-22T12:48:20.609018803",
          "2024-08-22T12:48:20.678862810",
          "2024-08-22T12:48:20.733717442",
          "2024-08-22T12:48:20.798050165",
          "2024-08-22T12:48:20.865389585",
          "2024-08-22T12:48:20.927229404",
          "2024-08-22T12:48:20.991416931",
          "2024-08-22T12:48:21.058275223",
          "2024-08-22T12:48:21.118589163",
          "2024-08-22T12:48:21.183450222",
          "2024-08-22T12:48:21.246274710",
          "2024-08-22T12:48:21.310076952",
          "2024-08-22T12:48:21.376941681",
          "2024-08-22T12:48:21.437736273",
          "2024-08-22T12:48:21.503562450",
          "2024-08-22T12:48:21.566435099",
          "2024-08-22T12:48:21.630221605",
          "2024-08-22T12:48:21.699072361",
          "2024-08-22T12:48:21.757911444",
          "2024-08-22T12:48:21.822707176",
          "2024-08-22T12:48:21.886566877",
          "2024-08-22T12:48:21.952358961",
          "2024-08-22T12:48:22.015738726",
          "2024-08-22T12:48:22.093341589",
          "2024-08-22T12:48:22.148159981",
          "2024-08-22T12:48:22.240055799",
          "2024-08-22T12:48:22.272927523",
          "2024-08-22T12:48:22.333765268",
          "2024-08-22T12:48:22.397595406",
          "2024-08-22T12:48:22.464415073",
          "2024-08-22T12:48:22.525756358",
          "2024-08-22T12:48:22.590583324",
          "2024-08-22T12:48:22.656409740",
          "2024-08-22T12:48:22.718276978",
          "2024-08-22T12:48:22.784124851",
          "2024-08-22T12:48:22.844954967",
          "2024-08-22T12:48:22.909729719",
          "2024-08-22T12:48:22.977585316",
          "2024-08-22T12:48:23.038386583",
          "2024-08-22T12:48:23.102214813",
          "2024-08-22T12:48:23.169073343",
          "2024-08-22T12:48:23.231907129",
          "2024-08-22T12:48:23.294798851",
          "2024-08-22T12:48:23.358588696",
          "2024-08-22T12:48:23.422009945",
          "2024-08-22T12:48:23.486795664",
          "2024-08-22T12:48:23.551650286",
          "2024-08-22T12:48:23.614455223",
          "2024-08-22T12:48:23.678283691",
          "2024-08-22T12:48:23.741661787",
          "2024-08-22T12:48:23.807444572",
          "2024-08-22T12:48:23.875263214",
          "2024-08-22T12:48:23.954244852",
          "2024-08-22T12:48:24.012124062",
          "2024-08-22T12:48:24.065950155",
          "2024-08-22T12:48:24.125792503",
          "2024-08-22T12:48:24.191614151",
          "2024-08-22T12:48:24.254447221",
          "2024-08-22T12:48:24.317785740",
          "2024-08-22T12:48:24.384190321",
          "2024-08-22T12:48:24.445951700",
          "2024-08-22T12:48:24.510778189",
          "2024-08-22T12:48:24.575604439",
          "2024-08-22T12:48:24.637439728",
          "2024-08-22T12:48:24.703263283",
          "2024-08-22T12:48:24.766096115",
          "2024-08-22T12:48:24.839897871",
          "2024-08-22T12:48:24.895748854",
          "2024-08-22T12:48:24.957583189",
          "2024-08-22T12:48:25.023407221",
          "2024-08-22T12:48:25.086802721",
          "2024-08-22T12:48:25.151571035",
          "2024-08-22T12:48:25.213406563",
          "2024-08-22T12:48:25.278267145",
          "2024-08-22T12:48:25.342061520",
          "2024-08-22T12:48:25.406211615",
          "2024-08-22T12:48:25.470717669",
          "2024-08-22T12:48:25.534016848",
          "2024-08-22T12:48:25.597887278",
          "2024-08-22T12:48:25.663712502",
          "2024-08-22T12:48:25.727603674",
          "2024-08-22T12:48:25.795359135",
          "2024-08-22T12:48:25.857623100",
          "2024-08-22T12:48:25.918251038",
          "2024-08-22T12:48:25.983794451",
          "2024-08-22T12:48:26.045357943",
          "2024-08-22T12:48:26.110183716",
          "2024-08-22T12:48:26.178068399",
          "2024-08-22T12:48:26.238583803",
          "2024-08-22T12:48:26.303044558",
          "2024-08-22T12:48:26.366868734",
          "2024-08-22T12:48:26.429269552",
          "2024-08-22T12:48:26.494606733",
          "2024-08-22T12:48:26.558431387",
          "2024-08-22T12:48:26.622294426",
          "2024-08-22T12:48:26.687122345",
          "2024-08-22T12:48:26.749953985",
          "2024-08-22T12:48:26.814786673",
          "2024-08-22T12:48:26.882600784",
          "2024-08-22T12:48:26.942437887",
          "2024-08-22T12:48:27.006267548",
          "2024-08-22T12:48:27.073091030",
          "2024-08-22T12:48:27.133926392",
          "2024-08-22T12:48:27.201036692",
          "2024-08-22T12:48:27.265863656",
          "2024-08-22T12:48:27.326701403",
          "2024-08-22T12:48:27.390530109",
          "2024-08-22T12:48:27.454359531",
          "2024-08-22T12:48:27.519186257",
          "2024-08-22T12:48:27.586011410",
          "2024-08-22T12:48:27.649364233",
          "2024-08-22T12:48:27.713886976",
          "2024-08-22T12:48:27.775721550",
          "2024-08-22T12:48:27.839550734",
          "2024-08-22T12:48:27.902930737",
          "2024-08-22T12:48:27.967752457",
          "2024-08-22T12:48:28.030100107",
          "2024-08-22T12:48:28.093927860",
          "2024-08-22T12:48:28.157761335",
          "2024-08-22T12:48:28.222586393",
          "2024-08-22T12:48:28.288410664",
          "2024-08-22T12:48:28.350244761",
          "2024-08-22T12:48:28.414075375"
         ],
         "xaxis": "x2",
         "y": {
          "bdata": "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",
          "dtype": "f8"
         },
         "yaxis": "y2"
        },
        {
         "marker": {
          "color": "lightcoral"
         },
         "name": "Distribution",
         "nbinsx": 30,
         "opacity": 0.7,
         "type": "histogram",
         "x": {
          "bdata": "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",
          "dtype": "f8"
         },
         "xaxis": "x3",
         "yaxis": "y3"
        },
        {
         "line": {
          "color": "lightcoral",
          "width": 1
         },
         "mode": "lines",
         "name": "Raw",
         "opacity": 0.5,
         "type": "scatter",
         "x": {
          "bdata": "AQACAAMABAAFAAYABwAIAAkACgALAAwADQAOAA8AEAARABIAEwAUABUAFgAXABgAGQAaABsAHAAdAB4AHwAgACEAIgAjACQAJQAmACcAKAApACoAKwAsAC0ALgAvADAAMQAyADMANAA1ADYANwA4ADkAOgA7ADwAPQA+AD8AQABBAEIAQwBEAEUARgBHAEgASQBKAEsATABNAE4ATwBQAFEAUgBTAFQAVQBWAFcAWABZAFoAWwBcAF0AXgBfAGAAYQBiAGMAZABlAGYAZwBoAGkAagBrAGwAbQBuAG8AcABxAHIAcwB0AHUAdgB3AHgAeQB6AHsAfAB9AH4AfwCAAIEAggCDAIQAhQCGAIcAiACJAIoAiwCMAI0AjgCPAJAAkQCSAJMAlACVAJYAlwCYAJkAmgCbAJwAnQCeAJ8AoAChAKIAowCkAKUApgCnAKgAqQCqAKsArACtAK4ArwCwALEAsgCzALQAtQC2ALcAuAC5ALoAuwC8AL0AvgC/AMAAwQDCAMMAxADFAMYAxwDIAMkAygDLAMwAzQDOAM8A0ADRANIA0wDUANUA1gDXANgA2QDaANsA3ADdAN4A3wDgAOEA4gDjAOQA5QDmAOcA6ADpAOoA6wDsAO0A7gDvAPAA8QDyAPMA9AD1APYA9wD4APkA+gD7APwA/QD+AP8AAAEBAQIBAwEEAQUBBgEHAQgBCQEKAQsBDAENAQ4BDwEQAREBEgETARQBFQEWARcBGAEZARoBGwEcAR0BHgEfASABIQEiASMBJAElASYBJwEoASkBKgErASwBLQEuAS8BMAExATIBMwE0ATUBNgE3ATgBOQE6ATsBPAE9AT4BPwFAAUEBQgFDAUQBRQFGAUcBSAFJAUoBSwFMAU0BTgFPAVABUQFSAVMBVAFVAVYBVwFYAVkBWgFbAVwBXQFeAV8BYAFhAWIBYwFkAWUBZgFnAWgBaQFqAWsBbAFtAW4BbwFwAXEBcgFzAXQBdQF2AXcBeAF5AXoBewF8AX0BfgF/AYABgQGCAYMBhAGFAYYBhwGIAYkBigGLAYwBjQGOAY8BkAGRAZIBkwGUAZUBlgGXAZgBmQGaAZsBnAGdAZ4BnwGgAaEBogGjAaQBpQGmAacBqAGpAaoBqwGsAa0BrgGvAbABsQGyAbMBtAG1AbYBtwG4AbkBugG7AbwBvQG+Ab8BwAHBAcIBwwHEAcUBxgHHAcgByQHKAcsBzAHNAc4BzwHQAdEB0gHTAdQB1QHWAdcB2AHZAdoB2wHcAd0B3gHfAeAB4QHiAeMB5AHlAeYB5wHoAekB6gHrAewB7QHuAe8B8AHxAfIB8wH0AfUB9gH3AfgB+QH6AfsB/AH9Af4B/wEAAgECAgIDAgQCBQIGAgcCCAIJAgoCCwIMAg0CDgIPAhACEQISAhMCFAIVAhYCFwIYAhkCGgIbAhwCHQIeAh8CIAIhAiICIwIkAiUCJgInAigCKQIqAisCLAItAi4CLwIwAjECMgIzAjQCNQI2AjcCOAI5AjoCOwI8Aj0CPgI/AkACQQJCAkMCRAJFAkYCRwJIAkkCSgJLAkwCTQJOAk8CUAJRAlICUwJUAlUCVgJXAlgCWQJaAlsCXAJdAl4CXwJgAmECYgJjAmQCZQJmAmcCaAJpAmoCawJsAm0CbgJvAnACcQJyAnMCdAJ1AnYCdwJ4AnkCegJ7AnwCfQJ+An8CgAKBAoICgwKEAoUChgKHAogCiQKKAosCjAKNAo4CjwKQApECkgKTApQClQKWApcCmAKZApoCmwKcAp0CngKfAqACoQKiAqMCpAKlAqYCpwKoAqkCqgKrAqwCrQKuAq8CsAKxArICswK0ArUCtgK3ArgCuQK6ArsCvAK9Ar4CvwLAAsECwgLDAsQCxQLGAscCyALJAsoCywLMAs0CzgLPAtAC0QLSAtMC1ALVAg==",
          "dtype": "i2"
         },
         "xaxis": "x4",
         "y": {
          "bdata": "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",
          "dtype": "f8"
         },
         "yaxis": "y4"
        },
        {
         "line": {
          "color": "darkred",
          "width": 3
         },
         "mode": "lines",
         "name": "Smoothed (n=36)",
         "type": "scatter",
         "x": {
          "bdata": "AQACAAMABAAFAAYABwAIAAkACgALAAwADQAOAA8AEAARABIAEwAUABUAFgAXABgAGQAaABsAHAAdAB4AHwAgACEAIgAjACQAJQAmACcAKAApACoAKwAsAC0ALgAvADAAMQAyADMANAA1ADYANwA4ADkAOgA7ADwAPQA+AD8AQABBAEIAQwBEAEUARgBHAEgASQBKAEsATABNAE4ATwBQAFEAUgBTAFQAVQBWAFcAWABZAFoAWwBcAF0AXgBfAGAAYQBiAGMAZABlAGYAZwBoAGkAagBrAGwAbQBuAG8AcABxAHIAcwB0AHUAdgB3AHgAeQB6AHsAfAB9AH4AfwCAAIEAggCDAIQAhQCGAIcAiACJAIoAiwCMAI0AjgCPAJAAkQCSAJMAlACVAJYAlwCYAJkAmgCbAJwAnQCeAJ8AoAChAKIAowCkAKUApgCnAKgAqQCqAKsArACtAK4ArwCwALEAsgCzALQAtQC2ALcAuAC5ALoAuwC8AL0AvgC/AMAAwQDCAMMAxADFAMYAxwDIAMkAygDLAMwAzQDOAM8A0ADRANIA0wDUANUA1gDXANgA2QDaANsA3ADdAN4A3wDgAOEA4gDjAOQA5QDmAOcA6ADpAOoA6wDsAO0A7gDvAPAA8QDyAPMA9AD1APYA9wD4APkA+gD7APwA/QD+AP8AAAEBAQIBAwEEAQUBBgEHAQgBCQEKAQsBDAENAQ4BDwEQAREBEgETARQBFQEWARcBGAEZARoBGwEcAR0BHgEfASABIQEiASMBJAElASYBJwEoASkBKgErASwBLQEuAS8BMAExATIBMwE0ATUBNgE3ATgBOQE6ATsBPAE9AT4BPwFAAUEBQgFDAUQBRQFGAUcBSAFJAUoBSwFMAU0BTgFPAVABUQFSAVMBVAFVAVYBVwFYAVkBWgFbAVwBXQFeAV8BYAFhAWIBYwFkAWUBZgFnAWgBaQFqAWsBbAFtAW4BbwFwAXEBcgFzAXQBdQF2AXcBeAF5AXoBewF8AX0BfgF/AYABgQGCAYMBhAGFAYYBhwGIAYkBigGLAYwBjQGOAY8BkAGRAZIBkwGUAZUBlgGXAZgBmQGaAZsBnAGdAZ4BnwGgAaEBogGjAaQBpQGmAacBqAGpAaoBqwGsAa0BrgGvAbABsQGyAbMBtAG1AbYBtwG4AbkBugG7AbwBvQG+Ab8BwAHBAcIBwwHEAcUBxgHHAcgByQHKAcsBzAHNAc4BzwHQAdEB0gHTAdQB1QHWAdcB2AHZAdoB2wHcAd0B3gHfAeAB4QHiAeMB5AHlAeYB5wHoAekB6gHrAewB7QHuAe8B8AHxAfIB8wH0AfUB9gH3AfgB+QH6AfsB/AH9Af4B/wEAAgECAgIDAgQCBQIGAgcCCAIJAgoCCwIMAg0CDgIPAhACEQISAhMCFAIVAhYCFwIYAhkCGgIbAhwCHQIeAh8CIAIhAiICIwIkAiUCJgInAigCKQIqAisCLAItAi4CLwIwAjECMgIzAjQCNQI2AjcCOAI5AjoCOwI8Aj0CPgI/AkACQQJCAkMCRAJFAkYCRwJIAkkCSgJLAkwCTQJOAk8CUAJRAlICUwJUAlUCVgJXAlgCWQJaAlsCXAJdAl4CXwJgAmECYgJjAmQCZQJmAmcCaAJpAmoCawJsAm0CbgJvAnACcQJyAnMCdAJ1AnYCdwJ4AnkCegJ7AnwCfQJ+An8CgAKBAoICgwKEAoUChgKHAogCiQKKAosCjAKNAo4CjwKQApECkgKTApQClQKWApcCmAKZApoCmwKcAp0CngKfAqACoQKiAqMCpAKlAqYCpwKoAqkCqgKrAqwCrQKuAq8CsAKxArICswK0ArUCtgK3ArgCuQK6ArsCvAK9Ar4CvwLAAsECwgLDAsQCxQLGAscCyALJAsoCywLMAs0CzgLPAtAC0QLSAtMC1ALVAg==",
          "dtype": "i2"
         },
         "xaxis": "x4",
         "y": {
          "bdata": "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",
          "dtype": "f8"
         },
         "yaxis": "y4"
        }
       ],
       "layout": {
        "annotations": [
         {
          "font": {
           "size": 16
          },
          "showarrow": false,
          "text": "Distance vs Frame Index",
          "x": 0.225,
          "xanchor": "center",
          "xref": "paper",
          "y": 1,
          "yanchor": "bottom",
          "yref": "paper"
         },
         {
          "font": {
           "size": 16
          },
          "showarrow": false,
          "text": "Distance vs Time",
          "x": 0.775,
          "xanchor": "center",
          "xref": "paper",
          "y": 1,
          "yanchor": "bottom",
          "yref": "paper"
         },
         {
          "font": {
           "size": 16
          },
          "showarrow": false,
          "text": "Distance Distribution",
          "x": 0.225,
          "xanchor": "center",
          "xref": "paper",
          "y": 0.375,
          "yanchor": "bottom",
          "yref": "paper"
         },
         {
          "font": {
           "size": 16
          },
          "showarrow": false,
          "text": "Distance Trends",
          "x": 0.775,
          "xanchor": "center",
          "xref": "paper",
          "y": 0.375,
          "yanchor": "bottom",
          "yref": "paper"
         },
         {
          "showarrow": false,
          "text": "Mean: 0.67meters",
          "x": 0.6740167715637693,
          "xanchor": "left",
          "xref": "x3",
          "y": 1,
          "yanchor": "top",
          "yref": "y3 domain"
         }
        ],
        "height": 800,
        "shapes": [
         {
          "line": {
           "color": "red",
           "dash": "dash"
          },
          "type": "line",
          "x0": 0.6740167715637693,
          "x1": 0.6740167715637693,
          "xref": "x3",
          "y0": 0,
          "y1": 1,
          "yref": "y3 domain"
         }
        ],
        "showlegend": true,
        "template": {
         "data": {
          "bar": [
           {
            "error_x": {
             "color": "#2a3f5f"
            },
            "error_y": {
             "color": "#2a3f5f"
            },
            "marker": {
             "line": {
              "color": "#E5ECF6",
              "width": 0.5
             },
             "pattern": {
              "fillmode": "overlay",
              "size": 10,
              "solidity": 0.2
             }
            },
            "type": "bar"
           }
          ],
          "barpolar": [
           {
            "marker": {
             "line": {
              "color": "#E5ECF6",
              "width": 0.5
             },
             "pattern": {
              "fillmode": "overlay",
              "size": 10,
              "solidity": 0.2
             }
            },
            "type": "barpolar"
           }
          ],
          "carpet": [
           {
            "aaxis": {
             "endlinecolor": "#2a3f5f",
             "gridcolor": "white",
             "linecolor": "white",
             "minorgridcolor": "white",
             "startlinecolor": "#2a3f5f"
            },
            "baxis": {
             "endlinecolor": "#2a3f5f",
             "gridcolor": "white",
             "linecolor": "white",
             "minorgridcolor": "white",
             "startlinecolor": "#2a3f5f"
            },
            "type": "carpet"
           }
          ],
          "choropleth": [
           {
            "colorbar": {
             "outlinewidth": 0,
             "ticks": ""
            },
            "type": "choropleth"
           }
          ],
          "contour": [
           {
            "colorbar": {
             "outlinewidth": 0,
             "ticks": ""
            },
            "colorscale": [
             [
              0,
              "#0d0887"
             ],
             [
              0.1111111111111111,
              "#46039f"
             ],
             [
              0.2222222222222222,
              "#7201a8"
             ],
             [
              0.3333333333333333,
              "#9c179e"
             ],
             [
              0.4444444444444444,
              "#bd3786"
             ],
             [
              0.5555555555555556,
              "#d8576b"
             ],
             [
              0.6666666666666666,
              "#ed7953"
             ],
             [
              0.7777777777777778,
              "#fb9f3a"
             ],
             [
              0.8888888888888888,
              "#fdca26"
             ],
             [
              1,
              "#f0f921"
             ]
            ],
            "type": "contour"
           }
          ],
          "contourcarpet": [
           {
            "colorbar": {
             "outlinewidth": 0,
             "ticks": ""
            },
            "type": "contourcarpet"
           }
          ],
          "heatmap": [
           {
            "colorbar": {
             "outlinewidth": 0,
             "ticks": ""
            },
            "colorscale": [
             [
              0,
              "#0d0887"
             ],
             [
              0.1111111111111111,
              "#46039f"
             ],
             [
              0.2222222222222222,
              "#7201a8"
             ],
             [
              0.3333333333333333,
              "#9c179e"
             ],
             [
              0.4444444444444444,
              "#bd3786"
             ],
             [
              0.5555555555555556,
              "#d8576b"
             ],
             [
              0.6666666666666666,
              "#ed7953"
             ],
             [
              0.7777777777777778,
              "#fb9f3a"
             ],
             [
              0.8888888888888888,
              "#fdca26"
             ],
             [
              1,
              "#f0f921"
             ]
            ],
            "type": "heatmap"
           }
          ],
          "histogram": [
           {
            "marker": {
             "pattern": {
              "fillmode": "overlay",
              "size": 10,
              "solidity": 0.2
             }
            },
            "type": "histogram"
           }
          ],
          "histogram2d": [
           {
            "colorbar": {
             "outlinewidth": 0,
             "ticks": ""
            },
            "colorscale": [
             [
              0,
              "#0d0887"
             ],
             [
              0.1111111111111111,
              "#46039f"
             ],
             [
              0.2222222222222222,
              "#7201a8"
             ],
             [
              0.3333333333333333,
              "#9c179e"
             ],
             [
              0.4444444444444444,
              "#bd3786"
             ],
             [
              0.5555555555555556,
              "#d8576b"
             ],
             [
              0.6666666666666666,
              "#ed7953"
             ],
             [
              0.7777777777777778,
              "#fb9f3a"
             ],
             [
              0.8888888888888888,
              "#fdca26"
             ],
             [
              1,
              "#f0f921"
             ]
            ],
            "type": "histogram2d"
           }
          ],
          "histogram2dcontour": [
           {
            "colorbar": {
             "outlinewidth": 0,
             "ticks": ""
            },
            "colorscale": [
             [
              0,
              "#0d0887"
             ],
             [
              0.1111111111111111,
              "#46039f"
             ],
             [
              0.2222222222222222,
              "#7201a8"
             ],
             [
              0.3333333333333333,
              "#9c179e"
             ],
             [
              0.4444444444444444,
              "#bd3786"
             ],
             [
              0.5555555555555556,
              "#d8576b"
             ],
             [
              0.6666666666666666,
              "#ed7953"
             ],
             [
              0.7777777777777778,
              "#fb9f3a"
             ],
             [
              0.8888888888888888,
              "#fdca26"
             ],
             [
              1,
              "#f0f921"
             ]
            ],
            "type": "histogram2dcontour"
           }
          ],
          "mesh3d": [
           {
            "colorbar": {
             "outlinewidth": 0,
             "ticks": ""
            },
            "type": "mesh3d"
           }
          ],
          "parcoords": [
           {
            "line": {
             "colorbar": {
              "outlinewidth": 0,
              "ticks": ""
             }
            },
            "type": "parcoords"
           }
          ],
          "pie": [
           {
            "automargin": true,
            "type": "pie"
           }
          ],
          "scatter": [
           {
            "fillpattern": {
             "fillmode": "overlay",
             "size": 10,
             "solidity": 0.2
            },
            "type": "scatter"
           }
          ],
          "scatter3d": [
           {
            "line": {
             "colorbar": {
              "outlinewidth": 0,
              "ticks": ""
             }
            },
            "marker": {
             "colorbar": {
              "outlinewidth": 0,
              "ticks": ""
             }
            },
            "type": "scatter3d"
           }
          ],
          "scattercarpet": [
           {
            "marker": {
             "colorbar": {
              "outlinewidth": 0,
              "ticks": ""
             }
            },
            "type": "scattercarpet"
           }
          ],
          "scattergeo": [
           {
            "marker": {
             "colorbar": {
              "outlinewidth": 0,
              "ticks": ""
             }
            },
            "type": "scattergeo"
           }
          ],
          "scattergl": [
           {
            "marker": {
             "colorbar": {
              "outlinewidth": 0,
              "ticks": ""
             }
            },
            "type": "scattergl"
           }
          ],
          "scattermap": [
           {
            "marker": {
             "colorbar": {
              "outlinewidth": 0,
              "ticks": ""
             }
            },
            "type": "scattermap"
           }
          ],
          "scattermapbox": [
           {
            "marker": {
             "colorbar": {
              "outlinewidth": 0,
              "ticks": ""
             }
            },
            "type": "scattermapbox"
           }
          ],
          "scatterpolar": [
           {
            "marker": {
             "colorbar": {
              "outlinewidth": 0,
              "ticks": ""
             }
            },
            "type": "scatterpolar"
           }
          ],
          "scatterpolargl": [
           {
            "marker": {
             "colorbar": {
              "outlinewidth": 0,
              "ticks": ""
             }
            },
            "type": "scatterpolargl"
           }
          ],
          "scatterternary": [
           {
            "marker": {
             "colorbar": {
              "outlinewidth": 0,
              "ticks": ""
             }
            },
            "type": "scatterternary"
           }
          ],
          "surface": [
           {
            "colorbar": {
             "outlinewidth": 0,
             "ticks": ""
            },
            "colorscale": [
             [
              0,
              "#0d0887"
             ],
             [
              0.1111111111111111,
              "#46039f"
             ],
             [
              0.2222222222222222,
              "#7201a8"
             ],
             [
              0.3333333333333333,
              "#9c179e"
             ],
             [
              0.4444444444444444,
              "#bd3786"
             ],
             [
              0.5555555555555556,
              "#d8576b"
             ],
             [
              0.6666666666666666,
              "#ed7953"
             ],
             [
              0.7777777777777778,
              "#fb9f3a"
             ],
             [
              0.8888888888888888,
              "#fdca26"
             ],
             [
              1,
              "#f0f921"
             ]
            ],
            "type": "surface"
           }
          ],
          "table": [
           {
            "cells": {
             "fill": {
              "color": "#EBF0F8"
             },
             "line": {
              "color": "white"
             }
            },
            "header": {
             "fill": {
              "color": "#C8D4E3"
             },
             "line": {
              "color": "white"
             }
            },
            "type": "table"
           }
          ]
         },
         "layout": {
          "annotationdefaults": {
           "arrowcolor": "#2a3f5f",
           "arrowhead": 0,
           "arrowwidth": 1
          },
          "autotypenumbers": "strict",
          "coloraxis": {
           "colorbar": {
            "outlinewidth": 0,
            "ticks": ""
           }
          },
          "colorscale": {
           "diverging": [
            [
             0,
             "#8e0152"
            ],
            [
             0.1,
             "#c51b7d"
            ],
            [
             0.2,
             "#de77ae"
            ],
            [
             0.3,
             "#f1b6da"
            ],
            [
             0.4,
             "#fde0ef"
            ],
            [
             0.5,
             "#f7f7f7"
            ],
            [
             0.6,
             "#e6f5d0"
            ],
            [
             0.7,
             "#b8e186"
            ],
            [
             0.8,
             "#7fbc41"
            ],
            [
             0.9,
             "#4d9221"
            ],
            [
             1,
             "#276419"
            ]
           ],
           "sequential": [
            [
             0,
             "#0d0887"
            ],
            [
             0.1111111111111111,
             "#46039f"
            ],
            [
             0.2222222222222222,
             "#7201a8"
            ],
            [
             0.3333333333333333,
             "#9c179e"
            ],
            [
             0.4444444444444444,
             "#bd3786"
            ],
            [
             0.5555555555555556,
             "#d8576b"
            ],
            [
             0.6666666666666666,
             "#ed7953"
            ],
            [
             0.7777777777777778,
             "#fb9f3a"
            ],
            [
             0.8888888888888888,
             "#fdca26"
            ],
            [
             1,
             "#f0f921"
            ]
           ],
           "sequentialminus": [
            [
             0,
             "#0d0887"
            ],
            [
             0.1111111111111111,
             "#46039f"
            ],
            [
             0.2222222222222222,
             "#7201a8"
            ],
            [
             0.3333333333333333,
             "#9c179e"
            ],
            [
             0.4444444444444444,
             "#bd3786"
            ],
            [
             0.5555555555555556,
             "#d8576b"
            ],
            [
             0.6666666666666666,
             "#ed7953"
            ],
            [
             0.7777777777777778,
             "#fb9f3a"
            ],
            [
             0.8888888888888888,
             "#fdca26"
            ],
            [
             1,
             "#f0f921"
            ]
           ]
          },
          "colorway": [
           "#636efa",
           "#EF553B",
           "#00cc96",
           "#ab63fa",
           "#FFA15A",
           "#19d3f3",
           "#FF6692",
           "#B6E880",
           "#FF97FF",
           "#FECB52"
          ],
          "font": {
           "color": "#2a3f5f"
          },
          "geo": {
           "bgcolor": "white",
           "lakecolor": "white",
           "landcolor": "#E5ECF6",
           "showlakes": true,
           "showland": true,
           "subunitcolor": "white"
          },
          "hoverlabel": {
           "align": "left"
          },
          "hovermode": "closest",
          "mapbox": {
           "style": "light"
          },
          "paper_bgcolor": "white",
          "plot_bgcolor": "#E5ECF6",
          "polar": {
           "angularaxis": {
            "gridcolor": "white",
            "linecolor": "white",
            "ticks": ""
           },
           "bgcolor": "#E5ECF6",
           "radialaxis": {
            "gridcolor": "white",
            "linecolor": "white",
            "ticks": ""
           }
          },
          "scene": {
           "xaxis": {
            "backgroundcolor": "#E5ECF6",
            "gridcolor": "white",
            "gridwidth": 2,
            "linecolor": "white",
            "showbackground": true,
            "ticks": "",
            "zerolinecolor": "white"
           },
           "yaxis": {
            "backgroundcolor": "#E5ECF6",
            "gridcolor": "white",
            "gridwidth": 2,
            "linecolor": "white",
            "showbackground": true,
            "ticks": "",
            "zerolinecolor": "white"
           },
           "zaxis": {
            "backgroundcolor": "#E5ECF6",
            "gridcolor": "white",
            "gridwidth": 2,
            "linecolor": "white",
            "showbackground": true,
            "ticks": "",
            "zerolinecolor": "white"
           }
          },
          "shapedefaults": {
           "line": {
            "color": "#2a3f5f"
           }
          },
          "ternary": {
           "aaxis": {
            "gridcolor": "white",
            "linecolor": "white",
            "ticks": ""
           },
           "baxis": {
            "gridcolor": "white",
            "linecolor": "white",
            "ticks": ""
           },
           "bgcolor": "#E5ECF6",
           "caxis": {
            "gridcolor": "white",
            "linecolor": "white",
            "ticks": ""
           }
          },
          "title": {
           "x": 0.05
          },
          "xaxis": {
           "automargin": true,
           "gridcolor": "white",
           "linecolor": "white",
           "ticks": "",
           "title": {
            "standoff": 15
           },
           "zerolinecolor": "white",
           "zerolinewidth": 2
          },
          "yaxis": {
           "automargin": true,
           "gridcolor": "white",
           "linecolor": "white",
           "ticks": "",
           "title": {
            "standoff": 15
           },
           "zerolinecolor": "white",
           "zerolinewidth": 2
          }
         }
        },
        "title": {
         "text": "Real-World Distance Analysis"
        },
        "xaxis": {
         "anchor": "y",
         "domain": [
          0,
          0.45
         ],
         "title": {
          "text": "Frame Index"
         }
        },
        "xaxis2": {
         "anchor": "y2",
         "domain": [
          0.55,
          1
         ],
         "title": {
          "text": "Time"
         }
        },
        "xaxis3": {
         "anchor": "y3",
         "domain": [
          0,
          0.45
         ],
         "title": {
          "text": "Distance (meters)"
         }
        },
        "xaxis4": {
         "anchor": "y4",
         "domain": [
          0.55,
          1
         ],
         "title": {
          "text": "Frame Index"
         }
        },
        "yaxis": {
         "anchor": "x",
         "domain": [
          0.625,
          1
         ],
         "title": {
          "text": "Distance (meters)"
         }
        },
        "yaxis2": {
         "anchor": "x2",
         "domain": [
          0.625,
          1
         ],
         "title": {
          "text": "Distance (meters)"
         }
        },
        "yaxis3": {
         "anchor": "x3",
         "domain": [
          0,
          0.375
         ],
         "title": {
          "text": "Frequency"
         }
        },
        "yaxis4": {
         "anchor": "x4",
         "domain": [
          0,
          0.375
         ],
         "title": {
          "text": "Distance (meters)"
         }
        }
       }
      }
     },
     "metadata": {},
     "output_type": "display_data"
    }
   ],
   "source": [
    "iau.VisualizationEngine.plot_distance_analysis(distance_results, \"Real-World Distance Analysis\")"
   ]
  },
  {
   "cell_type": "code",
   "execution_count": 74,
   "id": "c10a8be6",
   "metadata": {},
   "outputs": [
    {
     "name": "stdout",
     "output_type": "stream",
     "text": [
      " LOADING ALL DISTANCE DATA FOR BAG: 2024-08-22_14-47-39\n",
      "============================================================\n",
      "📡 1. Loading Navigation Data...\n",
      "    Loaded 374 navigation records\n",
      "📡 2. Loading Guidance Data...\n",
      "    Loaded 364 guidance records with ['error_net_distance', 'desired_net_distance', 'r_net_distance_d']\n",
      "📡 3. Loading DVL Altimeter...\n",
      "    Loaded 20 DVL altimeter records\n",
      " 4. Loading USBL...\n",
      "    Loaded 21 USBL records\n",
      "📡 5. Loading DVL Position...\n",
      "    Loaded 208 DVL position records\n",
      " 6. Loading Navigation Position...\n",
      "    Loaded 194 navigation position records\n",
      "📡 7. Loading INS Z Position...\n",
      "    Loaded 402 INS records with positionFrame.z\n",
      "\n",
      " LOADING SUMMARY:\n",
      "    Target bag: 2024-08-22_14-47-39\n",
      "    Raw data loaded: 2/2\n",
      "    Distance measurements: 6\n",
      "\n",
      " RAW DATA LOADED:\n",
      "    navigation: 374 records\n",
      "    guidance: 364 records\n",
      "\n",
      " DISTANCE MEASUREMENTS LOADED:\n",
      "    DVL_Altimeter: 20 records - Distance to seafloor\n",
      "    USBL_3D: 21 records - 3D acoustic position\n",
      "    USBL_Depth: 21 records - USBL depth measurement\n",
      "    DVL_Position: 208 records - 3D DVL position\n",
      "    Nav_Position: 194 records - 2D navigation position\n",
      "    INS_Z_Position: 402 records - INS positionFrame.z (vertical position)\n"
     ]
    }
   ],
   "source": [
    "# COMPARISON: SONAR vs DVL DISTANCE MEASUREMENTS\n",
    "# =================================================\n",
    "import utils.net_distance_analysis as sda\n",
    "\n",
    "# IMPORTANT: Pass the by_bag folder, not just the exports root\n",
    "# The function expects the folder containing the CSV files\n",
    "from utils.sonar_config import EXPORTS_SUBDIRS\n",
    "BY_BAG_FOLDER = EXPORTS_FOLDER / EXPORTS_SUBDIRS.get('by_bag', 'by_bag')\n",
    "\n",
    "# Load all distance data for the target bag\n",
    "raw_data, distance_measurements = sda.load_all_distance_data_for_bag(TARGET_BAG, BY_BAG_FOLDER)\n",
    "\n",
    "# Display what we loaded\n",
    "print(f\"\\n RAW DATA LOADED:\")\n",
    "for key, data in raw_data.items():\n",
    "    if data is not None:\n",
    "        print(f\"    {key}: {len(data)} records\")\n",
    "    else:\n",
    "        print(f\"    {key}: None\")\n",
    "\n",
    "print(f\"\\n DISTANCE MEASUREMENTS LOADED:\")\n",
    "for key, info in distance_measurements.items():\n",
    "    data_len = len(info['data'])\n",
    "    print(f\"    {key}: {data_len} records - {info['description']}\")"
   ]
  },
  {
   "cell_type": "code",
   "execution_count": 75,
   "id": "0375375e",
   "metadata": {},
   "outputs": [
    {
     "name": "stdout",
     "output_type": "stream",
     "text": [
      "\n",
      "SONAR vs DVL COMPARISON STATISTICS:\n",
      "==================================================\n",
      "Sonar mean distance: 0.674 m\n",
      "DVL mean distance:   0.603 m\n",
      "Scale ratio (Sonar/DVL): 1.118x\n",
      "Sonar duration: 41.5s (725 frames)\n",
      "DVL duration:   41.5s (374 records)\n"
     ]
    },
    {
     "name": "stderr",
     "output_type": "stream",
     "text": [
      "/Users/eirikvarnes/code/SOLAQUA/utils/sonar_image_analysis.py:311: FutureWarning:\n",
      "\n",
      "Series.fillna with 'method' is deprecated and will raise in a future version. Use obj.ffill() or obj.bfill() instead.\n",
      "\n",
      "/Users/eirikvarnes/code/SOLAQUA/utils/sonar_image_analysis.py:318: FutureWarning:\n",
      "\n",
      "Series.fillna with 'method' is deprecated and will raise in a future version. Use obj.ffill() or obj.bfill() instead.\n",
      "\n"
     ]
    },
    {
     "data": {
      "application/vnd.plotly.v1+json": {
       "config": {
        "plotlyServerURL": "https://plot.ly"
       },
       "data": [
        {
         "line": {
          "color": "rgba(255,0,0,0.3)"
         },
         "mode": "lines",
         "name": "Sonar Raw",
         "type": "scatter",
         "x": {
          "bdata": "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",
          "dtype": "f8"
         },
         "xaxis": "x",
         "y": {
          "bdata": "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",
          "dtype": "f8"
         },
         "yaxis": "y"
        },
        {
         "line": {
          "color": "red",
          "width": 3
         },
         "mode": "lines",
         "name": "Sonar Smoothed",
         "type": "scatter",
         "x": {
          "bdata": "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",
          "dtype": "f8"
         },
         "xaxis": "x",
         "y": {
          "bdata": "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",
          "dtype": "f8"
         },
         "yaxis": "y"
        },
        {
         "line": {
          "color": "blue",
          "width": 3
         },
         "mode": "lines",
         "name": "DVL Distance",
         "type": "scatter",
         "x": {
          "bdata": "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",
          "dtype": "f8"
         },
         "xaxis": "x",
         "y": {
          "bdata": "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",
          "dtype": "f8"
         },
         "yaxis": "y"
        }
       ],
       "layout": {
        "height": 600,
        "hovermode": "x unified",
        "template": {
         "data": {
          "bar": [
           {
            "error_x": {
             "color": "#2a3f5f"
            },
            "error_y": {
             "color": "#2a3f5f"
            },
            "marker": {
             "line": {
              "color": "#E5ECF6",
              "width": 0.5
             },
             "pattern": {
              "fillmode": "overlay",
              "size": 10,
              "solidity": 0.2
             }
            },
            "type": "bar"
           }
          ],
          "barpolar": [
           {
            "marker": {
             "line": {
              "color": "#E5ECF6",
              "width": 0.5
             },
             "pattern": {
              "fillmode": "overlay",
              "size": 10,
              "solidity": 0.2
             }
            },
            "type": "barpolar"
           }
          ],
          "carpet": [
           {
            "aaxis": {
             "endlinecolor": "#2a3f5f",
             "gridcolor": "white",
             "linecolor": "white",
             "minorgridcolor": "white",
             "startlinecolor": "#2a3f5f"
            },
            "baxis": {
             "endlinecolor": "#2a3f5f",
             "gridcolor": "white",
             "linecolor": "white",
             "minorgridcolor": "white",
             "startlinecolor": "#2a3f5f"
            },
            "type": "carpet"
           }
          ],
          "choropleth": [
           {
            "colorbar": {
             "outlinewidth": 0,
             "ticks": ""
            },
            "type": "choropleth"
           }
          ],
          "contour": [
           {
            "colorbar": {
             "outlinewidth": 0,
             "ticks": ""
            },
            "colorscale": [
             [
              0,
              "#0d0887"
             ],
             [
              0.1111111111111111,
              "#46039f"
             ],
             [
              0.2222222222222222,
              "#7201a8"
             ],
             [
              0.3333333333333333,
              "#9c179e"
             ],
             [
              0.4444444444444444,
              "#bd3786"
             ],
             [
              0.5555555555555556,
              "#d8576b"
             ],
             [
              0.6666666666666666,
              "#ed7953"
             ],
             [
              0.7777777777777778,
              "#fb9f3a"
             ],
             [
              0.8888888888888888,
              "#fdca26"
             ],
             [
              1,
              "#f0f921"
             ]
            ],
            "type": "contour"
           }
          ],
          "contourcarpet": [
           {
            "colorbar": {
             "outlinewidth": 0,
             "ticks": ""
            },
            "type": "contourcarpet"
           }
          ],
          "heatmap": [
           {
            "colorbar": {
             "outlinewidth": 0,
             "ticks": ""
            },
            "colorscale": [
             [
              0,
              "#0d0887"
             ],
             [
              0.1111111111111111,
              "#46039f"
             ],
             [
              0.2222222222222222,
              "#7201a8"
             ],
             [
              0.3333333333333333,
              "#9c179e"
             ],
             [
              0.4444444444444444,
              "#bd3786"
             ],
             [
              0.5555555555555556,
              "#d8576b"
             ],
             [
              0.6666666666666666,
              "#ed7953"
             ],
             [
              0.7777777777777778,
              "#fb9f3a"
             ],
             [
              0.8888888888888888,
              "#fdca26"
             ],
             [
              1,
              "#f0f921"
             ]
            ],
            "type": "heatmap"
           }
          ],
          "histogram": [
           {
            "marker": {
             "pattern": {
              "fillmode": "overlay",
              "size": 10,
              "solidity": 0.2
             }
            },
            "type": "histogram"
           }
          ],
          "histogram2d": [
           {
            "colorbar": {
             "outlinewidth": 0,
             "ticks": ""
            },
            "colorscale": [
             [
              0,
              "#0d0887"
             ],
             [
              0.1111111111111111,
              "#46039f"
             ],
             [
              0.2222222222222222,
              "#7201a8"
             ],
             [
              0.3333333333333333,
              "#9c179e"
             ],
             [
              0.4444444444444444,
              "#bd3786"
             ],
             [
              0.5555555555555556,
              "#d8576b"
             ],
             [
              0.6666666666666666,
              "#ed7953"
             ],
             [
              0.7777777777777778,
              "#fb9f3a"
             ],
             [
              0.8888888888888888,
              "#fdca26"
             ],
             [
              1,
              "#f0f921"
             ]
            ],
            "type": "histogram2d"
           }
          ],
          "histogram2dcontour": [
           {
            "colorbar": {
             "outlinewidth": 0,
             "ticks": ""
            },
            "colorscale": [
             [
              0,
              "#0d0887"
             ],
             [
              0.1111111111111111,
              "#46039f"
             ],
             [
              0.2222222222222222,
              "#7201a8"
             ],
             [
              0.3333333333333333,
              "#9c179e"
             ],
             [
              0.4444444444444444,
              "#bd3786"
             ],
             [
              0.5555555555555556,
              "#d8576b"
             ],
             [
              0.6666666666666666,
              "#ed7953"
             ],
             [
              0.7777777777777778,
              "#fb9f3a"
             ],
             [
              0.8888888888888888,
              "#fdca26"
             ],
             [
              1,
              "#f0f921"
             ]
            ],
            "type": "histogram2dcontour"
           }
          ],
          "mesh3d": [
           {
            "colorbar": {
             "outlinewidth": 0,
             "ticks": ""
            },
            "type": "mesh3d"
           }
          ],
          "parcoords": [
           {
            "line": {
             "colorbar": {
              "outlinewidth": 0,
              "ticks": ""
             }
            },
            "type": "parcoords"
           }
          ],
          "pie": [
           {
            "automargin": true,
            "type": "pie"
           }
          ],
          "scatter": [
           {
            "fillpattern": {
             "fillmode": "overlay",
             "size": 10,
             "solidity": 0.2
            },
            "type": "scatter"
           }
          ],
          "scatter3d": [
           {
            "line": {
             "colorbar": {
              "outlinewidth": 0,
              "ticks": ""
             }
            },
            "marker": {
             "colorbar": {
              "outlinewidth": 0,
              "ticks": ""
             }
            },
            "type": "scatter3d"
           }
          ],
          "scattercarpet": [
           {
            "marker": {
             "colorbar": {
              "outlinewidth": 0,
              "ticks": ""
             }
            },
            "type": "scattercarpet"
           }
          ],
          "scattergeo": [
           {
            "marker": {
             "colorbar": {
              "outlinewidth": 0,
              "ticks": ""
             }
            },
            "type": "scattergeo"
           }
          ],
          "scattergl": [
           {
            "marker": {
             "colorbar": {
              "outlinewidth": 0,
              "ticks": ""
             }
            },
            "type": "scattergl"
           }
          ],
          "scattermap": [
           {
            "marker": {
             "colorbar": {
              "outlinewidth": 0,
              "ticks": ""
             }
            },
            "type": "scattermap"
           }
          ],
          "scattermapbox": [
           {
            "marker": {
             "colorbar": {
              "outlinewidth": 0,
              "ticks": ""
             }
            },
            "type": "scattermapbox"
           }
          ],
          "scatterpolar": [
           {
            "marker": {
             "colorbar": {
              "outlinewidth": 0,
              "ticks": ""
             }
            },
            "type": "scatterpolar"
           }
          ],
          "scatterpolargl": [
           {
            "marker": {
             "colorbar": {
              "outlinewidth": 0,
              "ticks": ""
             }
            },
            "type": "scatterpolargl"
           }
          ],
          "scatterternary": [
           {
            "marker": {
             "colorbar": {
              "outlinewidth": 0,
              "ticks": ""
             }
            },
            "type": "scatterternary"
           }
          ],
          "surface": [
           {
            "colorbar": {
             "outlinewidth": 0,
             "ticks": ""
            },
            "colorscale": [
             [
              0,
              "#0d0887"
             ],
             [
              0.1111111111111111,
              "#46039f"
             ],
             [
              0.2222222222222222,
              "#7201a8"
             ],
             [
              0.3333333333333333,
              "#9c179e"
             ],
             [
              0.4444444444444444,
              "#bd3786"
             ],
             [
              0.5555555555555556,
              "#d8576b"
             ],
             [
              0.6666666666666666,
              "#ed7953"
             ],
             [
              0.7777777777777778,
              "#fb9f3a"
             ],
             [
              0.8888888888888888,
              "#fdca26"
             ],
             [
              1,
              "#f0f921"
             ]
            ],
            "type": "surface"
           }
          ],
          "table": [
           {
            "cells": {
             "fill": {
              "color": "#EBF0F8"
             },
             "line": {
              "color": "white"
             }
            },
            "header": {
             "fill": {
              "color": "#C8D4E3"
             },
             "line": {
              "color": "white"
             }
            },
            "type": "table"
           }
          ]
         },
         "layout": {
          "annotationdefaults": {
           "arrowcolor": "#2a3f5f",
           "arrowhead": 0,
           "arrowwidth": 1
          },
          "autotypenumbers": "strict",
          "coloraxis": {
           "colorbar": {
            "outlinewidth": 0,
            "ticks": ""
           }
          },
          "colorscale": {
           "diverging": [
            [
             0,
             "#8e0152"
            ],
            [
             0.1,
             "#c51b7d"
            ],
            [
             0.2,
             "#de77ae"
            ],
            [
             0.3,
             "#f1b6da"
            ],
            [
             0.4,
             "#fde0ef"
            ],
            [
             0.5,
             "#f7f7f7"
            ],
            [
             0.6,
             "#e6f5d0"
            ],
            [
             0.7,
             "#b8e186"
            ],
            [
             0.8,
             "#7fbc41"
            ],
            [
             0.9,
             "#4d9221"
            ],
            [
             1,
             "#276419"
            ]
           ],
           "sequential": [
            [
             0,
             "#0d0887"
            ],
            [
             0.1111111111111111,
             "#46039f"
            ],
            [
             0.2222222222222222,
             "#7201a8"
            ],
            [
             0.3333333333333333,
             "#9c179e"
            ],
            [
             0.4444444444444444,
             "#bd3786"
            ],
            [
             0.5555555555555556,
             "#d8576b"
            ],
            [
             0.6666666666666666,
             "#ed7953"
            ],
            [
             0.7777777777777778,
             "#fb9f3a"
            ],
            [
             0.8888888888888888,
             "#fdca26"
            ],
            [
             1,
             "#f0f921"
            ]
           ],
           "sequentialminus": [
            [
             0,
             "#0d0887"
            ],
            [
             0.1111111111111111,
             "#46039f"
            ],
            [
             0.2222222222222222,
             "#7201a8"
            ],
            [
             0.3333333333333333,
             "#9c179e"
            ],
            [
             0.4444444444444444,
             "#bd3786"
            ],
            [
             0.5555555555555556,
             "#d8576b"
            ],
            [
             0.6666666666666666,
             "#ed7953"
            ],
            [
             0.7777777777777778,
             "#fb9f3a"
            ],
            [
             0.8888888888888888,
             "#fdca26"
            ],
            [
             1,
             "#f0f921"
            ]
           ]
          },
          "colorway": [
           "#636efa",
           "#EF553B",
           "#00cc96",
           "#ab63fa",
           "#FFA15A",
           "#19d3f3",
           "#FF6692",
           "#B6E880",
           "#FF97FF",
           "#FECB52"
          ],
          "font": {
           "color": "#2a3f5f"
          },
          "geo": {
           "bgcolor": "white",
           "lakecolor": "white",
           "landcolor": "#E5ECF6",
           "showlakes": true,
           "showland": true,
           "subunitcolor": "white"
          },
          "hoverlabel": {
           "align": "left"
          },
          "hovermode": "closest",
          "mapbox": {
           "style": "light"
          },
          "paper_bgcolor": "white",
          "plot_bgcolor": "#E5ECF6",
          "polar": {
           "angularaxis": {
            "gridcolor": "white",
            "linecolor": "white",
            "ticks": ""
           },
           "bgcolor": "#E5ECF6",
           "radialaxis": {
            "gridcolor": "white",
            "linecolor": "white",
            "ticks": ""
           }
          },
          "scene": {
           "xaxis": {
            "backgroundcolor": "#E5ECF6",
            "gridcolor": "white",
            "gridwidth": 2,
            "linecolor": "white",
            "showbackground": true,
            "ticks": "",
            "zerolinecolor": "white"
           },
           "yaxis": {
            "backgroundcolor": "#E5ECF6",
            "gridcolor": "white",
            "gridwidth": 2,
            "linecolor": "white",
            "showbackground": true,
            "ticks": "",
            "zerolinecolor": "white"
           },
           "zaxis": {
            "backgroundcolor": "#E5ECF6",
            "gridcolor": "white",
            "gridwidth": 2,
            "linecolor": "white",
            "showbackground": true,
            "ticks": "",
            "zerolinecolor": "white"
           }
          },
          "shapedefaults": {
           "line": {
            "color": "#2a3f5f"
           }
          },
          "ternary": {
           "aaxis": {
            "gridcolor": "white",
            "linecolor": "white",
            "ticks": ""
           },
           "baxis": {
            "gridcolor": "white",
            "linecolor": "white",
            "ticks": ""
           },
           "bgcolor": "#E5ECF6",
           "caxis": {
            "gridcolor": "white",
            "linecolor": "white",
            "ticks": ""
           }
          },
          "title": {
           "x": 0.05
          },
          "xaxis": {
           "automargin": true,
           "gridcolor": "white",
           "linecolor": "white",
           "ticks": "",
           "title": {
            "standoff": 15
           },
           "zerolinecolor": "white",
           "zerolinewidth": 2
          },
          "yaxis": {
           "automargin": true,
           "gridcolor": "white",
           "linecolor": "white",
           "ticks": "",
           "title": {
            "standoff": 15
           },
           "zerolinecolor": "white",
           "zerolinewidth": 2
          }
         }
        },
        "title": {
         "text": "Interactive Distance Comparison: Sonar vs DVL"
        },
        "xaxis": {
         "anchor": "y",
         "domain": [
          0,
          1
         ],
         "showgrid": true,
         "title": {
          "text": "Time (seconds)"
         }
        },
        "yaxis": {
         "anchor": "x",
         "domain": [
          0,
          1
         ],
         "showgrid": true,
         "title": {
          "text": "Distance (meters)"
         }
        }
       }
      }
     },
     "metadata": {},
     "output_type": "display_data"
    }
   ],
   "source": [
    "fig, comparison_stats = iau.ComparisonEngine.compare_sonar_vs_dvl(distance_results, raw_data, sonar_coverage_m=sonar_coverage_meters, sonar_image_size=image_shape[0], use_plotly=True)\n",
    "fig.show()"
   ]
  },
  {
   "cell_type": "code",
   "execution_count": 34,
   "id": "50f97352",
   "metadata": {},
   "outputs": [
    {
     "name": "stdout",
     "output_type": "stream",
     "text": [
      "GENERATING VIDEO WITH DUAL NET DISTANCE OVERLAYS\n",
      "============================================================\n",
      " Target Bag: 2024-08-20_18-47-40\n",
      " DVL Data: 299 records\n",
      " Sonar Analysis: 613 frames\n",
      " Auto-detect video: enabled (PNG frames + index.csv)\n",
      "⏱  Sync tolerance: 1.0s\n",
      "OPTIMIZED SONAR VIDEO\n",
      "======================================================================\n",
      "Target Bag: 2024-08-20_18-47-40\n",
      "   Cone Size: 900x700\n",
      "   Range: 0.0-5.0m | FOV: 120.0°\n",
      "Auto-detecting video files for bag: 2024-08-20_18-47-40\n",
      "Found video frames: 2024-08-20_18-47-40_video__image_compressed_image_data\n",
      "Using frames directory: /Volumes/LaCie/SOLAQUA/exports/frames/2024-08-20_18-47-40_video__image_compressed_image_data\n",
      "Camera: enabled\n",
      "Net-line: enabled (dist tol=0.5s, pitch tol=2.0s)\n",
      "Sonar Analysis: enabled\n",
      "   Loading sonar data: sensor_sonoptix_echo_image__2024-08-20_18-47-40_video.csv\n",
      "Found video frames: 2024-08-20_18-47-40_video__image_compressed_image_data\n",
      "Using frames directory: /Volumes/LaCie/SOLAQUA/exports/frames/2024-08-20_18-47-40_video__image_compressed_image_data\n",
      "Camera: enabled\n",
      "Net-line: enabled (dist tol=0.5s, pitch tol=2.0s)\n",
      "Sonar Analysis: enabled\n",
      "   Loading sonar data: sensor_sonoptix_echo_image__2024-08-20_18-47-40_video.csv\n",
      "Loaded 614 sonar frames in 25.47s\n",
      "Loaded 299 navigation records in 0.01s\n",
      "      Available: ['NetDistance', 'NetPitch', 'timestamp']\n",
      "Loaded 99 camera index entries\n",
      "   Frames: 1..613 (step 1) => 613\n",
      "   Natural FPS: 15.9\n",
      "Loaded 614 sonar frames in 25.47s\n",
      "Loaded 299 navigation records in 0.01s\n",
      "      Available: ['NetDistance', 'NetPitch', 'timestamp']\n",
      "Loaded 99 camera index entries\n",
      "   Frames: 1..613 (step 1) => 613\n",
      "   Natural FPS: 15.9\n",
      "   Frame 611: Outside camera time range, using sonar-only\n",
      "   Frame 612: Outside camera time range, using sonar-only\n",
      "   Frame 613: Outside camera time range, using sonar-only\n",
      "   Frame 611: Outside camera time range, using sonar-only\n",
      "   Frame 612: Outside camera time range, using sonar-only\n",
      "   Frame 613: Outside camera time range, using sonar-only\n"
     ]
    },
    {
     "name": "stderr",
     "output_type": "stream",
     "text": [
      "[ WARN:0@958.992] global cap_ffmpeg.cpp:198 write FFmpeg: Failed to write frame\n",
      "[ WARN:0@959.045] global cap_ffmpeg.cpp:198 write FFmpeg: Failed to write frame\n",
      "[ WARN:0@959.100] global cap_ffmpeg.cpp:198 write FFmpeg: Failed to write frame\n"
     ]
    },
    {
     "name": "stdout",
     "output_type": "stream",
     "text": [
      "\n",
      "🎉 DONE! Wrote 613 frames to /Volumes/LaCie/SOLAQUA/exports/videos/2024-08-20_18-47-40_optimized_sync_withcam_withsonar_20240820_184744_171939+0200.mp4 @ 15.92 FPS\n",
      "Metadata saved to: /Volumes/LaCie/SOLAQUA/exports/videos/2024-08-20_18-47-40_optimized_sync_withcam_withsonar_20240820_184744_171939+0200.mp4.meta.json\n",
      "\n",
      " Video generated successfully!\n",
      " Output: None\n",
      "\n",
      " Check the video output:\n",
      "   - Camera frames should sync properly with sonar\n",
      "   - When camera data ends, video should switch to sonar-only\n",
      "   - No frozen camera frames should appear\n"
     ]
    }
   ],
   "source": [
    "# Generate Video with Both DVL and Sonar Analysis Overlays (Improved Sync)\n",
    "# ==========================================================================\n",
    "import utils.sonar_and_foto_generation as sg\n",
    "\n",
    "# Enable automatic video detection with improved synchronization\n",
    "from utils.sonar_config import VIDEO_CONFIG\n",
    "VIDEO_CONFIG['enable_video_overlay'] = True  \n",
    "VIDEO_CONFIG['max_sync_tolerance_seconds'] = 1.0  # Tighter sync tolerance\n",
    "\n",
    "print(\"GENERATING VIDEO WITH DUAL NET DISTANCE OVERLAYS\")\n",
    "print(\"=\" * 60)\n",
    "print(f\" Target Bag: {TARGET_BAG}\")\n",
    "print(f\" DVL Data: {len(raw_data.get('navigation', []))} records\")\n",
    "print(f\" Sonar Analysis: {len(distance_results)} frames\")\n",
    "print(f\" Auto-detect video: enabled (PNG frames + index.csv)\")\n",
    "print(f\"⏱  Sync tolerance: {VIDEO_CONFIG['max_sync_tolerance_seconds']}s\")\n",
    "\n",
    "# Generate the video with both overlays and improved sync\n",
    "try:\n",
    "    video_path = sg.export_optimized_sonar_video(\n",
    "        TARGET_BAG=TARGET_BAG,\n",
    "        EXPORTS_FOLDER=EXPORTS_FOLDER,\n",
    "        START_IDX=1,\n",
    "        END_IDX=1200,  \n",
    "        STRIDE=1,    \n",
    "        AUTO_DETECT_VIDEO=True,       # Enable automatic video file detection\n",
    "        INCLUDE_NET=True,             # Enable DVL net distance overlay\n",
    "        SONAR_DISTANCE_RESULTS=distance_results,  # Enable sonar analysis overlay\n",
    "        NET_DISTANCE_TOLERANCE=0.5,\n",
    "        NET_PITCH_TOLERANCE=2.0,      # Increased from 0.3 to 2.0 seconds for better pitch sync\n",
    "    )\n",
    "\n",
    "    print(f\"\\n Video generated successfully!\")\n",
    "    print(f\" Output: {video_path}\")\n",
    "    print(f\"\\n Check the video output:\")\n",
    "    print(f\"   - Camera frames should sync properly with sonar\")\n",
    "    print(f\"   - When camera data ends, video should switch to sonar-only\")\n",
    "    print(f\"   - No frozen camera frames should appear\")\n",
    "    \n",
    "except Exception as e:\n",
    "    print(f\"Error generating video: {e}\")\n",
    "    import traceback\n",
    "    traceback.print_exc()\n",
    "    print(\"\\n Troubleshooting:\")\n",
    "    print(\"  1. Run the video detection cell above to verify files exist\")\n",
    "    print(\"  2. Check that PNG frames directory has index.csv file\")\n",
    "    print(\"  3. Try disabling video overlay: VIDEO_CONFIG['enable_video_overlay'] = False\")\n",
    "    print(\"  4. Check exports directory structure\")"
   ]
  },
  {
   "cell_type": "code",
   "execution_count": null,
   "id": "a0dffba5",
   "metadata": {},
   "outputs": [],
   "source": []
  }
 ],
 "metadata": {
  "kernelspec": {
   "display_name": "venv",
   "language": "python",
   "name": "python3"
  },
  "language_info": {
   "codemirror_mode": {
    "name": "ipython",
    "version": 3
   },
   "file_extension": ".py",
   "mimetype": "text/x-python",
   "name": "python",
   "nbconvert_exporter": "python",
   "pygments_lexer": "ipython3",
   "version": "3.13.5"
  }
 },
 "nbformat": 4,
 "nbformat_minor": 5
}
