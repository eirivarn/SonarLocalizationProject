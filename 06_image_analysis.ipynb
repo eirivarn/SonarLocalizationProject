{
 "cells": [
  {
   "cell_type": "code",
   "execution_count": 1,
   "id": "7a8d02c0",
   "metadata": {},
   "outputs": [],
   "source": [
    "# Centralized sonar defaults (inserted by sweep)\n",
    "from utils.sonar_config import SONAR_VIS_DEFAULTS\n",
    "sonar_config = SONAR_VIS_DEFAULTS.copy()\n",
    "# Backwards-compatible variable names used in older notebooks\n",
    "RANGE_MIN_M = sonar_config['range_min_m']\n",
    "RANGE_MAX_M = sonar_config['range_max_m']\n",
    "DISPLAY_RANGE_MAX_M = sonar_config['display_range_max_m']"
   ]
  },
  {
   "cell_type": "markdown",
   "id": "9220eb1d",
   "metadata": {},
   "source": [
    "# Simple Image Analysis with CV2\n",
    "\n",
    "This notebook demonstrates:\n",
    "1. **Pick a frame** from NPZ files and save it locally\n",
    "2. **Use standard cv2 functions** directly for image processing\n",
    "3. **Experiment** with different OpenCV operations"
   ]
  },
  {
   "cell_type": "code",
   "execution_count": 2,
   "id": "4b3e8f46",
   "metadata": {},
   "outputs": [
    {
     "name": "stdout",
     "output_type": "stream",
     "text": [
      "Using DATA_DIR = /Volumes/LaCie/SOLAQUA/raw_data\n",
      "Selected NPZ file: 2024-08-20_14-16-05_data_cones.npz (index=5)\n"
     ]
    }
   ],
   "source": [
    "from pathlib import Path\n",
    "import utils.sonar_image_analysis as iau\n",
    "\n",
    "\n",
    "# Prefer selecting by bag ID (part of the NPZ filename) instead of a numeric index.\n",
    "# Set TARGET_BAG to a substring that appears in the NPZ filename (e.g. '2024-08-22_14-29-05')\n",
    "# '2024-08-22_14-47-39'\n",
    "# '2024-08-22_14-29-05'\n",
    "# '2024-08-20_14-31-29' HARD\n",
    "TARGET_BAG = '2024-08-20_14-16-05'  # change this to your desired bag ID\n",
    "from utils.sonar_config import EXPORTS_DIR_DEFAULT, EXPORTS_SUBDIRS\n",
    "EXPORTS_FOLDER = Path(EXPORTS_DIR_DEFAULT)\n",
    "\n",
    "# If you keep your raw .bag files or raw data on an external drive, point DATA_DIR there.\n",
    "# Example (your external disk): /Volumes/LaCie/SOLAQUA/raw_data\n",
    "DATA_DIR = Path(\"/Volumes/LaCie/SOLAQUA/raw_data\")\n",
    "print(f\"Using DATA_DIR = {DATA_DIR}\")\n",
    "\n",
    "# Find NPZ files and pick the one matching TARGET_BAG\n",
    "files = iau.get_available_npz_files()\n",
    "if not files:\n",
    "    raise FileNotFoundError(f\"No NPZ files found in configured exports outputs (looked under {EXPORTS_FOLDER / EXPORTS_SUBDIRS.get('outputs','outputs')})\")\n",
    "matches = [p for p in files if TARGET_BAG in p.name]\n",
    "if not matches:\n",
    "    # Help the user by listing available NPZ files\n",
    "    print(f'No NPZ file matched TARGET_BAG={TARGET_BAG!r}')\n",
    "    print('Available NPZ files:')\n",
    "    for i,p in enumerate(files):\n",
    "        print(f'  {i}: {p.name}')\n",
    "    raise ValueError(f'No NPZ file contains \"{TARGET_BAG}\" in its name')\n",
    "\n",
    "# If multiple matches, choose the most recently modified one\n",
    "selected = max(matches, key=lambda p: p.stat().st_mtime)\n",
    "NPZ_FILE_INDEX = files.index(selected)\n",
    "print(f'Selected NPZ file: {selected.name} (index={NPZ_FILE_INDEX})')"
   ]
  },
  {
   "cell_type": "markdown",
   "id": "0c65358c",
   "metadata": {},
   "source": [
    "## Distance Analysis Over Time\n",
    "\n",
    "Now let's perform a comprehensive analysis of the red line distance over time. The red line represents the major axis of the detected elongated contour (likely a fishing net), and we'll track how this distance changes throughout the video sequence."
   ]
  },
  {
   "cell_type": "code",
   "execution_count": 3,
   "id": "d9c0382e",
   "metadata": {},
   "outputs": [
    {
     "name": "stdout",
     "output_type": "stream",
     "text": [
      "=== DISTANCE ANALYSIS FROM NPZ ===\n",
      "Analyzing: /Volumes/LaCie/SOLAQUA/exports/outputs/2024-08-20_14-16-05_data_cones.npz\n",
      "Processing 814 frames from 1 (step=1)\n",
      "Processing 814 frames from 1 (step=1)\n",
      "  Processed 50/814 frames (Success rate: 100.0%)\n",
      "  Processed 50/814 frames (Success rate: 100.0%)\n",
      "  Processed 100/814 frames (Success rate: 100.0%)\n",
      "  Processed 100/814 frames (Success rate: 100.0%)\n",
      "  Processed 150/814 frames (Success rate: 100.0%)\n",
      "  Processed 150/814 frames (Success rate: 100.0%)\n",
      "  Processed 200/814 frames (Success rate: 100.0%)\n",
      "  Processed 200/814 frames (Success rate: 100.0%)\n",
      "  Processed 250/814 frames (Success rate: 100.0%)\n",
      "  Processed 250/814 frames (Success rate: 100.0%)\n",
      "  Processed 300/814 frames (Success rate: 100.0%)\n",
      "  Processed 300/814 frames (Success rate: 100.0%)\n",
      "  Processed 350/814 frames (Success rate: 100.0%)\n",
      "  Processed 350/814 frames (Success rate: 100.0%)\n",
      "  Processed 400/814 frames (Success rate: 100.0%)\n",
      "  Processed 400/814 frames (Success rate: 100.0%)\n",
      "  Processed 450/814 frames (Success rate: 100.0%)\n",
      "  Processed 450/814 frames (Success rate: 100.0%)\n",
      "  Processed 500/814 frames (Success rate: 100.0%)\n",
      "  Processed 500/814 frames (Success rate: 100.0%)\n",
      "  Processed 550/814 frames (Success rate: 100.0%)\n",
      "  Processed 550/814 frames (Success rate: 100.0%)\n",
      "  Processed 600/814 frames (Success rate: 100.0%)\n",
      "  Processed 600/814 frames (Success rate: 100.0%)\n",
      "  Processed 650/814 frames (Success rate: 100.0%)\n",
      "  Processed 650/814 frames (Success rate: 100.0%)\n",
      "  Processed 700/814 frames (Success rate: 100.0%)\n",
      "  Processed 700/814 frames (Success rate: 100.0%)\n",
      "  Processed 750/814 frames (Success rate: 100.0%)\n",
      "  Processed 750/814 frames (Success rate: 100.0%)\n",
      "  Processed 800/814 frames (Success rate: 100.0%)\n",
      "\n",
      "=== ANALYSIS COMPLETE ===\n",
      "Total frames processed: 814\n",
      "Successful detections: 814 (100.0%)\n",
      "Distance statistics (meters):\n",
      "  - Mean: 1.404\n",
      "  - Std:  0.109\n",
      "  - Min:  1.009\n",
      "  - Max:  1.731\n",
      "  - Range: 0.722\n",
      "✅ Analyzed 814 frames using elliptical AOI\n",
      "🎯 Detection success rate: 100.0%\n",
      "📊 Elliptical tracking active: 0 frames\n",
      "  Processed 800/814 frames (Success rate: 100.0%)\n",
      "\n",
      "=== ANALYSIS COMPLETE ===\n",
      "Total frames processed: 814\n",
      "Successful detections: 814 (100.0%)\n",
      "Distance statistics (meters):\n",
      "  - Mean: 1.404\n",
      "  - Std:  0.109\n",
      "  - Min:  1.009\n",
      "  - Max:  1.731\n",
      "  - Range: 0.722\n",
      "✅ Analyzed 814 frames using elliptical AOI\n",
      "🎯 Detection success rate: 100.0%\n",
      "📊 Elliptical tracking active: 0 frames\n"
     ]
    }
   ],
   "source": [
    "# Now using the NEW unified SonarDataProcessor with elliptical AOI support!\n",
    "# This gives us much better net tracking compared to the old rectangular AOI\n",
    "\n",
    "# First reload the module to get the latest elliptical AOI changes\n",
    "import importlib\n",
    "importlib.reload(iau)\n",
    "\n",
    "# Create the unified processor\n",
    "processor = iau.SonarDataProcessor()\n",
    "\n",
    "# Use the new Distance Analysis Engine with elliptical AOI\n",
    "engine = iau.DistanceAnalysisEngine()\n",
    "distance_results = engine.analyze_npz_sequence(\n",
    "    npz_file_index=NPZ_FILE_INDEX,    \n",
    "    frame_start=1,        # Start from frame 1\n",
    "    frame_count=1000,      # Analyze all frames from the video\n",
    "    frame_step=1          # Every frame\n",
    ")\n",
    "\n",
    "print(f\"✅ Analyzed {len(distance_results)} frames using elliptical AOI\")\n",
    "print(f\"🎯 Detection success rate: {distance_results['detection_success'].mean():.1%}\")\n",
    "print(f\"📊 Elliptical tracking active: {(distance_results['tracking_status'].str.contains('ELLIPSE')).sum()} frames\")"
   ]
  },
  {
   "cell_type": "code",
   "execution_count": 4,
   "id": "b9c5da85",
   "metadata": {},
   "outputs": [
    {
     "name": "stdout",
     "output_type": "stream",
     "text": [
      "=== ENHANCED ELLIPTICAL AOI VIDEO CREATION ===\n",
      "Creating video with elliptical AOI tracking...\n",
      "Frames: 1000, step: 1\n",
      "✅ Processing 814 frames with elliptical AOI...\n",
      "✅ Processing 814 frames with elliptical AOI...\n",
      "Processed 90/814 frames | Ellipse tracking: 0\n",
      "Processed 100/814 frames | Ellipse tracking: 0\n",
      "Processed 90/814 frames | Ellipse tracking: 0\n",
      "Processed 100/814 frames | Ellipse tracking: 0\n",
      "Processed 170/814 frames | Ellipse tracking: 0\n",
      "Processed 170/814 frames | Ellipse tracking: 0\n",
      "Processed 370/814 frames | Ellipse tracking: 0\n",
      "Processed 370/814 frames | Ellipse tracking: 0\n",
      "\n",
      "=== ENHANCED VIDEO CREATION COMPLETE ===\n",
      "Video saved to: /Volumes/LaCie/SOLAQUA/exports/videos/core_aoi_tracking.mp4\n",
      "Video specs: 900x700, 15 fps, 814 frames\n",
      "🟢 ELLIPTICAL AOI TRACKING STATS:\n",
      "  - Total detected frames: 0\n",
      "  - Ellipse-guided frames: 0\n",
      "  - Ellipse effectiveness: 0.0%\n",
      "  - Lost/searching frames: 814\n",
      "\n",
      "=== ENHANCED VIDEO CREATION COMPLETE ===\n",
      "Video saved to: /Volumes/LaCie/SOLAQUA/exports/videos/core_aoi_tracking.mp4\n",
      "Video specs: 900x700, 15 fps, 814 frames\n",
      "🟢 ELLIPTICAL AOI TRACKING STATS:\n",
      "  - Total detected frames: 0\n",
      "  - Ellipse-guided frames: 0\n",
      "  - Ellipse effectiveness: 0.0%\n",
      "  - Lost/searching frames: 814\n"
     ]
    }
   ],
   "source": [
    "# Create video using the CORE simplified processor\n",
    "# This will show the yellow rectangular AOI and track with momentum merging!\n",
    "\n",
    "# Use the enhanced video creation with CORE processor\n",
    "video_path = iau.create_enhanced_contour_detection_video_with_processor(\n",
    "    npz_file_index=NPZ_FILE_INDEX,          # Which NPZ file to use\n",
    "    frame_start=1,           # Starting frame\n",
    "    frame_count=1000,         # Start with 100 frames for testing\n",
    "    frame_step=1,            # Step between frames\n",
    "    output_path=Path(EXPORTS_DIR_DEFAULT) / EXPORTS_SUBDIRS.get('videos','videos') / 'core_aoi_tracking.mp4',\n",
    "    processor=processor      # Use our CORE processor\n",
    ")\n"
   ]
  },
  {
   "cell_type": "markdown",
   "id": "fede9d64",
   "metadata": {},
   "source": [
    "## Convert to Real-World Distances\n",
    "\n",
    "Now let's convert the pixel distances to real-world distances using the fact that the entire sonar image represents a 10x10 meter area."
   ]
  },
  {
   "cell_type": "code",
   "execution_count": 5,
   "id": "886897de",
   "metadata": {},
   "outputs": [
    {
     "name": "stdout",
     "output_type": "stream",
     "text": [
      "Detected NPZ extent: x=[-8.660,8.660] m, y=[0.000,10.000] m\n",
      "Image shape from NPZ: H=700, W=900\n",
      "meters/pixel: x=0.019245, y=0.014286, avg=0.016765\n",
      "Using pixels_to_meters_avg = 0.016765 m/px\n"
     ]
    }
   ],
   "source": [
    "# Auto-detect pixel->meter mapping from the selected NPZ (if available)\n",
    "try:\n",
    "    cones, ts, extent, meta = iau.load_cone_run_npz(selected)\n",
    "    T, H, W = cones.shape\n",
    "    x_min, x_max, y_min, y_max = extent\n",
    "    width_m = float(x_max - x_min)\n",
    "    height_m = float(y_max - y_min)\n",
    "    px2m_x = width_m / float(W)\n",
    "    px2m_y = height_m / float(H)\n",
    "    pixels_to_meters_avg = 0.5 * (px2m_x + px2m_y)\n",
    "    image_shape = (H, W)\n",
    "    sonar_coverage_meters = max(width_m, height_m)\n",
    "    print(f\"Detected NPZ extent: x=[{x_min:.3f},{x_max:.3f}] m, y=[{y_min:.3f},{y_max:.3f}] m\")\n",
    "    print(f\"Image shape from NPZ: H={H}, W={W}\")\n",
    "    print(f\"meters/pixel: x={px2m_x:.6f}, y={px2m_y:.6f}, avg={pixels_to_meters_avg:.6f}\")\n",
    "except Exception as e:\n",
    "    print(\"Could not read NPZ metadata:\", e)\n",
    "    print(\"Falling back to defaults from sonar_config.\")\n",
    "    from utils.sonar_config import CONE_H_DEFAULT, CONE_W_DEFAULT, DISPLAY_RANGE_MAX_M_DEFAULT\n",
    "    image_shape = (CONE_H_DEFAULT, CONE_W_DEFAULT)\n",
    "    sonar_coverage_meters = DISPLAY_RANGE_MAX_M_DEFAULT * 2  # approximate\n",
    "    pixels_to_meters_avg = sonar_coverage_meters / max(image_shape)\n",
    "    \n",
    "# Use the computed pixels_to_meters_avg in downstream analysis\n",
    "print(f\"Using pixels_to_meters_avg = {pixels_to_meters_avg:.6f} m/px\")"
   ]
  },
  {
   "cell_type": "code",
   "execution_count": 6,
   "id": "15d6238c",
   "metadata": {},
   "outputs": [
    {
     "data": {
      "application/vnd.plotly.v1+json": {
       "config": {
        "plotlyServerURL": "https://plot.ly"
       },
       "data": [
        {
         "line": {
          "color": "blue"
         },
         "mode": "lines+markers",
         "name": "Distance",
         "type": "scatter",
         "x": {
          "bdata": "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",
          "dtype": "i2"
         },
         "xaxis": "x",
         "y": {
          "bdata": "abhoGlBK8j8Chtf3XNPxP6CE4GV+2vM/FivA36JR8j8YXzTOhYTxPzNvfeFjffM/yNpwFJe98z9m3KUlv8rzPx3oEi7UJvA/nhmW0dv18T+d33k7wuryP2mCrCaVt/M/Y1S6CIib8z+xKjKvhGz0P+PzXZsmQPQ/PTDzqTKn8z/o/9mvx/TzP2sXzBEiOvQ/4SaTEpLO9D93RZ2LJ930P0hoqplmkfE/WyLda8A98z8ENPLg3L/1PzxxNAqMhfQ/fSxPM1yV9T8NJ7TVRcb1PzrMe2BqGvY/svxY9Pk98z8JvfLKEgH0P9kOsoXwI/Q/Oozaxnni9D9jnWnu7Kn0P0iJYGKa9PM/hWd/R6Xj9D/cR/o97SP1P9PtQ+y/cPQ/2FLo2Der9D9OI0daow/1P6Oj+5wwnvQ/Rb9xj+MA9T+2YyxXY3z0P6sadkDsJvU/znOSKgCR9T+p4o6+w770P97E47ejWPQ/fUOiZpL/8z/cbRtH3UP2P+1+zGTeA/U/Uw7u7gPz9T+ttxAQgy32P2siGI5M1/U/olVIl8Ri9D/b0qoNY8z0P3p1SNrTjPU/TZyVQIWy8z+eLb1/icf0Py6rz45gBvU/u84RgD6O9D8KLxLSKpb1PyyG5oFNLPU/Iw5Zffw19j8t8YLXy031P/F+B/CUQ/Q/7C5ZNxTi9T/jKGXcS+D0P37kTkuv1PQ/Dil5KkAs9j9Ruc3W4n72Pxhv5uhNVPg/eOlGHAEz9j+DqEWwKtz2P1JDSPS+Nfc/68lRtwIJ9z/QUg8SCHn0P9EoUbAKT/Y/xpQeE0wK9j/imvIgqtD2P1DKPud+qfY/BsVV6+id9j99pYSqUOr2P57p0/bOiPY/2oTr73Lj9j+NIC7VFcv4P36536L6Rfc/jW0wxZvm9z8SG5lElHn3P7h9rQAwfPc/T6wJJtQ49z+bCpnbgtz3Pw62GNRA0/c/fmQYqok4+T+tHap1IU75P9JJcQDQpPg///IhbvTQ9z9ITdMdf1j4P4zFipA0Jvg/wKoZxAy19z+hIWz0PrH3P957XrABqPc/QD0imNqc9z9DGrLfHML3P77xVTFwefc/KKsyAmLa9z9cmjlZCMb3P3gR8pyNDPg/d/m4eao6+D/SUcGfezf3P8lnxjIEL/g/gsyRxpMu+T9nofzQtQX5P1UDp4/2pPg/ENmlCCaN+D91y2B097/4Py9emfxKZfk/aAYBEXiB+D/Srvv2QFn4P1O2ut4FfPg/H41d5nD99z9uLHJmm6z4P0CGFObCc/g/amza8ac0+D/dwOJgyEb4P3jdLd3xVvg/yr7NPrNN+D9qZ27Lze/3P9pgHy1gW/g/to7Z3I6D+D+i3t1P6iz4P9uLuB+7Kvg/wMrLvhcT+D9hdGSvKp/4P+mvivq2gfg/+/nmMylJ+D8R0+CxXxb4P1hiElffffg/A7ora5389j8QfgtIOIX4P5/XxVNWwvg/10xPxnH09z8zCo4+7Mj3P3ibL1s8Yfg/OvlNvR2k9z+j9AFl/wb4P1PTcpj9ovc/1UCyIrng9z/PVHdILqz3P9RMQS7cg/c/vBS8GYW29z9Eouv/tab3P7E9C7yLRvc/lWjTPL879z/HADBS+SP3PyeFLaGw5vY/cUU2AQhi9z8p76Z11SP3P2VkRT5gVfc/Y3EKWScY9z+pXTedxuz2Pxu6Aicd+PY/xNDWRQ3o9j86P9ocsf72PxCqt5zKt/Y/pyyDLBvR9j/kYdIuFLD2PxGm5P5jmPY/AZuvjHTc9j89ZdrL4q72P5YZZ6s5qvY/VkSUTRa09j9dLv7Mr5/2P+lNKEuZavY/2wTAwA2J9j9tkN3BNo32P7MZiFufNPc/Li5/Nygq9j/QfYwxb3H2P1f6u7GdL/Y/AW6iF/0N9j+FcYtF8wT2P3QLxtP7HfY/xMXFjAg89j+40hOOREH2P3vQkOZubfY/JMryIC8X9j9+DN3XlCj2PzX/toP3//U/Rw7v6+cR9j/IocGL/Cf2PyqffTfnMPY/Y/VWk2Uk9j8MjEvvhjT2P/lzPf4wJPY/oGsuOWcq9j9aoAJ9Wfr1P76dmV+l/vU/1Xgzs1MP9j/vtOM7axj2P+6S+n6nG/Y/ox4CVNk59j+1MJwptSX2P/+UYrt7P/Y/QVCUVjkh9j+0I0zol+v1P0EApLnPIPY/9DrFBrHm9T8usXpCssT1P+PXv8KeDPY/HXAciBgH9j+WeYgvp9f1P28LG5avhvY/jgu0az0g9j9lRhB5CTX2P75KuC2mQvY/EcgIEeMq9j/i6mAeSgv2P8tg4t6jA/Y/bjt0otsG9j9Bt1f29yb2Pz5pjYZSGPY/M7CXexWH9j9OtGrNKmT2P620GsluPfY/2WBvhmAv9j+GP9ECTUj2P65drG+yVfY//kDqu3cU9j9RHm2a90L2P4PnYFXGW/Y/n5t9DiIH9z+RjbYwRU/2P8Vj4g+KWvY/RjrxwMlF9j9Ohoj5xED2Pzo5r/kDbvY/OYeq+3yc9j+uWGoeBWT2P4nGHKa8+fY/2Gftvq3D9j8uB7GISqL2P104a0TxbfY/tMFcuXJc9j99WA+SKVn2Pyx92Cgxd/c/XAWfwF2S9j9xj2ZfyST2P2P5eHlcRPc/zbNr6Ey09j8kwS/kNoP2P/+sdwYysfU/dy9g4aLf9T8Dc69OgK/2P1g184VSgPY/c9LMB7ki9j9tb8HiSaH2P9r41srIc/Y/0OFD/fmK9j+XCReRNyP2P+bHaGCHSPY/QSwktDkp9j9xqe9Lncb1P/7fA9eaTvU/JfQRy0oe9j/MwV/sxnv1P2SUe6bKD/U/18X9k0kk9T/BvvUggAr1P8mkufasPvU/h20954wx9T8YHPaQX8r1P8X53RiDxvU/tO00ppjj9T816wVqnkH1P+b6ssWOSvU/UaHCemOq9T/Er2Tcn3H1Px/MyDopUvU/Tv1ddWy+9T8cRZoTRBH2P0MroWOZWvU/qUUCcpL99T86gqmWPCX2P8zRkTwNe/U/lJtgGOJt9T/Ta6ZVk6P1P7AJ9HUz1PU/fLKxM43a9T8JFhPkJFH2P3iiFskKjfU/MLgEl2R/9T8c2oh+sY71P+VU0coA+fU/Zg6SSY4T9T+h9QvnehL2P9zj2/TATvU/iyE476pO9T9l3LLkt3f1PydSYlzRlfU/xpRgDeG89T9I3nbZ65f1P24FXSbuRvU/xNoG1BE59T+FE1vkQwr1P4OET82V8PQ/F8m+tU4j9T+OlzC/8Qr1P/LsElnQ3vQ/4x67vM3i9D8FRoyXW7L0P+okD5GtmPQ/ccFa8oCG9T9B0epRdcT0P8Sps83P3vQ/4icp1gPj9D/ORIbiO770P1RjPDtLg/Q/gxpvscNV9D/k4UWYGlr1P0GwBQt+XvQ/MLRRMMqo9D/SV+3e/+b0Pya2LOwNR/Q/IfB4kaZW9D9TrrKiAYr0P4zGe/au+fQ/0mq8CSKb9D/Q25HsOoL0P3Zn6JKGz/Q/190XHzag9D+SIPTR+k/1P4s/lFXBtvQ/5AmXyZI09D/kLlLKoGz0P56+D76Dc/Q/YTCMrzq59D+NppKGAFP0P0NIBHtG7fQ/mQ5HPef89D/hD14al/L0P9C7NyLEfPQ/+oVeFWuF9D+wc/0FnwH1P/5d3vjVufQ/YoAnHfo29T+Oa915lzT1P2Nfjs+uRPU/Vi5e7Bxq9T/kbwWSMxT2PziTKurbfPU/oNbUqRWc9T/LwLrQ0Mn1P7RmJJjm7vU/bOg0Sj/n9T8++el8CsT1PyK9h9UF9PU/rDhjrRQb9j/jgBj3/SP2P25UEi6XSfY/TWMsPCs59j9UP4DwW1L2P5Ehl2BtSPY/dE1bgxWC9j/l5rff8lf2P2gP2NQsOvY/llDVdJVG9j9DSAWUyGP2P4yB0hXnkPY/nZNRnblW9j/VbjeHezn2P9y7q2T9h/Y/5BCYog9h9j8DgVR9Em72P034tKlSNvY/QAtmaax69j8JMmd1OHb2P/HuKDHvHPc/kE1qICA89z8lULwV3v/2P1cMIzDBrvY/A7Vpathk9j8JObtp7b32PxT4ErY54vY/1kpkd85e9j+jmzeWwpr2P3JYhVyEEPc/SbSnws4l9z+vQZyE0Z33P8NAmkMPUfc/MwKyBwXw9j8TMQ37i7T3P6p6rAMhzPc/39ieNqbG9z9n1ioeJqj3P43Z7SpEp/c/hN0EGXqZ9z/MsfkOlUj3P7fr6fCLtPg/UxFqDI/79z8IWUZgFRH4P4qYUB7rQPg/InGny7SF9j+CRb4uY0r2P7FQh1l9IfY/YfedvTXs9z9brKW28CP4P8pM6JfHO/g/opQBAUqE9z+QrXGSUqb4P8TkyV6sCfg/cjt39ij29z+Yv0Hq0QX4P7wkvlvMKPg/co/TdtTB+D+YEVUByjj5Px2brd44hfg/nYi6eqoj+T8AZN9I6lf5PyG0ipMECfk/5y1/L7PA+D/p+0fUQAj5P3fgYKYt4fg/uJ5lpkLk+D8pY3lOKy75P+qpgIt0Q/k/fMHONyst+T9DWcL+6Tn5P4M6PHHVa/k/HqAiYeai+T8iff9KSqb5P3FQ763VE/o/Dt13j861+T+5bpYXI/j5P5jgU/L9APo/W2KneODe+T9HnXVJORv6P2R+p0ha1/k/IQ6dK/pG+j8fEUhXp+H5Pwjn77xVXfk/zi5+Ys4S+T+ak6AqzZr5P+MjWXrFzfk/s6M43mds+T/RYooRnbz4P4hs0Sv6/vg/W7BSJErx+T9Ywj3sJ+T5P7BoRB0KCvo/QkcN/gQ/+T9HJDUZut35PzBxQvD+H/k/AwO3B95E+T8zL3mcNG75P8qqblOGKvk/9PHgnLbs+D98ceyl2xj5P3hh2ixV3vg/xADiBLQR+j8DiqbKimb5PxqzhC6hfvo/XtD6ynAi+T+7eTQNkdj3PxElnMcJvvc/+QaCyn+p9z8YUQMAbZL3P2n7yOyhGvg/CMNH5TEJ+D8e2USrMg/4P6fpEQcmZPg/xEhvjieH9z81lNZyiEz4P5h+8yFzYvc/TrigUL+R9z+DWkYqnIb3Px3/R0yz2/c/yrRMCijc9z9r+dIZAAX6P4nB2iHppvg/ub5XgHuK+D/kr0ihkIT4P04eELBkb/g/LQoDV/5h+D+u8HRzVzb4P8A2/69LAvg/QUj3QMgn+D9HecBjHLP3Pw8ZgZKWbPg/GXYGKLI99z+ypTYWyHz4P9GNJdHE7PY/8yQy9Qrl+T9q3pDHDuv5PwXhv3i33vk/OsCW4IEK+j+jmqX44uT4Pxlkma7xQ/c/gTYJn8rp+D9pzkB7shD4P9mi3ql9P/k/8XgAqwJH+j+DfQ716fr5P7sx7prTNfk/o6nOChmP+T8q6dec1cz5P3ni+mkxsvs//FX4jFK2+T9TskXQz0n5Pyi07Lo0Ffk/mLPcGcXI+T8o3yDTfFT5Py4Od2mlFfg/RG5bPnoa+T9S8DMFCc34P/hW9qdeJfg/GPvC+l389z9w+b32nkv5PzaJs5Mvzvc/mgzgHtMZ+D9I82LT0473P8F5Q/AISPc/FvCzBpyc9z9mm/Rva7L3PyTNtp3qZfc/+MQDdC/l9j+9mrY4cSv6PxOA6ioenfY/t9yt0UMX9z8C2pr2oO/2PwffeDB/9PU/fP2zsgFn9j864rTc6O35P2+qE8vvMfY/l7CWQOA09j8WVDbELR32P6wFCF8Dm/k/jZYeHJcU9j/ChPJasS72P/HS9kgzXfY/WtDuxxnc9j9Zl/ILY4H2P0ZO7YV30PY/ReKqn7to9D94JpZRwJH1Pxg9qx52DPY/Pc7gNxoP9T+4xw+Q7X/2PwwCvsMXP/Y/fzGbIQHO9z/I2TIXXFP2PzyCK0GQBfY/m/95d4CN9T/RsRLKIWP2Pyt1fg3jqPc/HObmJitC9j8MlAgjHET2P2jB587JTPY/CPeWqbMp9j/fonc59R32PwOTwN0nV/Y/KoyAuuPR9z9x9yCVM0L3Pyi9HYZe8/c/5Rt0yTFB9z97iTEwJ7z2PxFsvjVAx/Y/EdTFrUcO9j/Mz+EmYZ72P7SMDfMeF/Y/V0bzSyGS9T/6tsX3WeL3P1sysJRqcfc/P+JQpBIH+D/QltsXDhz3P6/dMKdUaPY/Q9ZpOQGu9j/szZ8W2/D3P/r2xuiRF/c/2sKYgC3t9j+au/GbdMb2PyyMWMCRmPY/nfMpcRW+9j8SdEqXfab2Pz33hrpzS/c/snLZS5Az9z8iyHxyOgD3P85haFCuMvc/W7dVeeev9j/K5f2Gchj3P3ZQd+h5ifY/2MhKyWDj9T8fJ3+6IOL1Py+ZIjb1OPc/98Ry6DwD9z99i9c/8g/3Pwk4WS7f7PY/g0QlaMJf9j+OwvZcXJT1P7f4iP1CDvc/jWY5ClV39z/uCCePkqn2P6xGk+y2lPU/yQcQKSHw9j83l/mzG/X2PwhzFWaWuvY/FzbxhO4G9z8jFZAzOhn1P1R9EpdbyfY/OC3F/U3c9j/fCdkVJsn2PwpZOCVO4/Y/5vMVCnj69j9EZo/XVsn2PxJ9qvlTxfY/MGXId5KO9j8ZAVFgEp72P7mY2UNW2fY/bDYhx14I9z8KwAOa/073P6eqnsAYJfc/NaOwnX7/9j9IqnLDvsX3PyFueh/4sfc/wfRgPHCx9z/XRv2XmJX3PxtYSOIc+/Y/ODnsk0Gv9z9y2sRORnr3P41n/EM3vPc/EYSax88F+D+MNZXnz3L3P2v2ro+Mvvc/R28i6UKS9z9keQKFghb4P+7ihtPkmvc/0my//ip39T9AfOC40ub3P6FZSzcYE/k/uQMbY25a+D9gBU3MSRX4P+S/1jadwvc/I9YQNEkd+D9JduY817r3Pz8S9REibPg/9OPuI3Sp+D9HMz2sYd73P0mPNwNlBfg/vKrU3wb/9z/BR09op832P1kpkTKwMPg/njxbF60e+D8XXfFqzS74PxZJaeWEAPg/zkg170TR9z8OMsIrcrf3P/UboPMpAfg/NpwWJZWk9z9ihZA2iFD3P3Fnb8hDG/c/oZ7f4gcz9z87tutxfE33P02vgrQrYfc/eVl10m2r9z9wKJNzVgT3P7tmuHQwPfc/OJ9hUT0/9z/OwSoLIkP3P4VSE78BTvc/43ef2SAg9z/66oKaMDj3P8jfTt/p8PY//R+HOiBC9z8myoNAcjD3P3uXrnXHP/c/nY0dbT0C9z//x/ZqWD33P9slnN7sEfc/XJK4159N9z8bc8cRTi73Pzf/nh6DV/c/ekgg0dps9z/Nj7Rm1Rn3P0xSvgQP9PY//2SdbBQj9z/WjEhQlz73Pw0Ch8MjVvY/7H2BX/vl9j+3wsPOMO72Pzd4BtmkWfc/mdZH5+x39z98BCqjlHr3PyhxVom/zfY/wHm/6Pbr9T+OJOs1WRf2P6spUUC+ZvY/BO47Hzod9j8OvG5+shb2P/pRH2pvwvU/392HjjON9T/zTIUhqFn1PzwzH+GEUfU/d6PL8XQb9T/PR1vvOR31Pzb0PwaXSvU/HsD1NWF09T9JmpY2+ZH0P9kDnU296fQ/GEJEjZCQ9D8TWYUoHdP0P7oBykwWyfQ/87BW5S/X9D8Qq7C6TcX0P5ODmPCGhvQ/kkYOTgnL9D8DSpqARCD1Px14s14gN/U/ql85WjYe9T8k4hM8WZf0P9VOkBbosvQ/mKNJl4XF9D9IGX2hOW30Pxy1l5+PnPQ/ELjeakgS9D/uoIIZ7Rn0P2nqYTx8N/Q/g/A9iVlH9D/wusFa1s/0P6HHCYgyzPM/2+cMcwu/8z/Sr6lA7EzzP6FVw7WIbvM/Dwxu/KiG8z+LYkYSSTXzP5meoOTl/PI/Hy1qLu4L8z9B3rYk97PyPyET6Ywu0PI/XRoL0qpv8j9bIJXeVh3zPyPREtJNF/M/jWK2biqv8j8kxX4AUajyPxrQUR4gx/I/57HYqzWl8j9ziDD7rsXyP+PJ34rwmvI/ucjkolFx8j9/6fa9cHjyP7VLeFGBo/I/JnYYeJYw8z+IQCP11KDyP25nqoSuv/I//OcVwIVd8z/vV4PGXZHzPyR4XdfRuPM/lw1gtN8k9D9jCPcHANHzP0Xx/CevvvQ/4K3U6hSI9D+AP6Lq7Wf0P+5CefBfAvM/asqQNAnh8j9luYMPA6ryP0who0Fu0fM/SSJaZpuZ8j8GZhZcUGDzPznjRJ0G2/M/gutGRvEN9D8jJH2lWpj0PzUVo8whmPQ/mXuRaPtH9D9JMM1s2Uz0P1VoAnVgZ/Q/dYhNZWZt9D/lQkF7sL/0P+dphhCvRvY/8yPaTfl49D/tmt3YlPP0P0QlZRfQ5/I/Bkk1Lf+p9D9R5DXzejD0PzlWByAJhPQ/7siHpNKV9D9X/5QepeL0P2DlymFRufQ/ugMiyDH28z8YiqJaHmH0P0LIkQe6t/Q/BQ7E7j4c9D8jD4Nvvuf0P/EzH/pwO/Q/mOJKcOJj9D/EIAMgTjv0PyjUXc74RvY/EO11pL3F8z++kWXDGuD0P9aTIgogofQ/tT/WG9cu9D/1YPcrTq/0P0LejHn4PvU/lATZxvsy9T+WMv3D/zr1P7vZDEaEIPU/1f1XgBxM9T8ZHZBeYx31Pwl8RhkdV/U/4rXCkwIf9T/6kFk4UR32PwCLWEl3P/U/zq8JrZ5T9T8AjGVFUJL1P+f3LSNA3/U/76uZs+zA9T8Ayj7VU3f1P4Qja/26ZvU/9DI0V9Md9j8=",
          "dtype": "f8"
         },
         "yaxis": "y"
        },
        {
         "line": {
          "color": "green"
         },
         "mode": "lines+markers",
         "name": "Distance over Time",
         "type": "scatter",
         "x": [
          "2024-08-20T12:16:08.095385790",
          "2024-08-20T12:16:08.156692982",
          "2024-08-20T12:16:08.219524860",
          "2024-08-20T12:16:08.285349369",
          "2024-08-20T12:16:08.348218918",
          "2024-08-20T12:16:08.418995619",
          "2024-08-20T12:16:08.475838661",
          "2024-08-20T12:16:08.545522451",
          "2024-08-20T12:16:08.604363203",
          "2024-08-20T12:16:08.668194294",
          "2024-08-20T12:16:08.738012314",
          "2024-08-20T12:16:08.796479225",
          "2024-08-20T12:16:08.859308958",
          "2024-08-20T12:16:08.929124117",
          "2024-08-20T12:16:08.998935699",
          "2024-08-20T12:16:09.053789139",
          "2024-08-20T12:16:09.317293882",
          "2024-08-20T12:16:09.332246304",
          "2024-08-20T12:16:09.398071289",
          "2024-08-20T12:16:09.444946289",
          "2024-08-20T12:16:09.487864494",
          "2024-08-20T12:16:09.538703918",
          "2024-08-20T12:16:09.594544888",
          "2024-08-20T12:16:09.646440983",
          "2024-08-20T12:16:09.688481331",
          "2024-08-20T12:16:09.747323990",
          "2024-08-20T12:16:09.791205168",
          "2024-08-20T12:16:09.837082386",
          "2024-08-20T12:16:09.885986328",
          "2024-08-20T12:16:10.151277542",
          "2024-08-20T12:16:10.166237116",
          "2024-08-20T12:16:10.220057487",
          "2024-08-20T12:16:10.281892776",
          "2024-08-20T12:16:10.328772068",
          "2024-08-20T12:16:10.372649193",
          "2024-08-20T12:16:10.421150446",
          "2024-08-20T12:16:10.479957104",
          "2024-08-20T12:16:10.525750874",
          "2024-08-20T12:16:10.570657969",
          "2024-08-20T12:16:10.616500139",
          "2024-08-20T12:16:10.677337170",
          "2024-08-20T12:16:10.722884893",
          "2024-08-20T12:16:10.786714554",
          "2024-08-20T12:16:10.852535009",
          "2024-08-20T12:16:10.914369583",
          "2024-08-20T12:16:10.971218109",
          "2024-08-20T12:16:11.038893223",
          "2024-08-20T12:16:11.101723909",
          "2024-08-20T12:16:11.163594007",
          "2024-08-20T12:16:11.230381966",
          "2024-08-20T12:16:11.337513924",
          "2024-08-20T12:16:11.390371799",
          "2024-08-20T12:16:11.447247267",
          "2024-08-20T12:16:11.508056402",
          "2024-08-20T12:16:11.565927744",
          "2024-08-20T12:16:11.628760576",
          "2024-08-20T12:16:11.676606178",
          "2024-08-20T12:16:11.743453979",
          "2024-08-20T12:16:11.804263115",
          "2024-08-20T12:16:11.868093252",
          "2024-08-20T12:16:11.932918787",
          "2024-08-20T12:16:12.010747194",
          "2024-08-20T12:16:12.059581757",
          "2024-08-20T12:16:12.125442743",
          "2024-08-20T12:16:12.191058159",
          "2024-08-20T12:16:12.251457690",
          "2024-08-20T12:16:12.319262266",
          "2024-08-20T12:16:12.381096601",
          "2024-08-20T12:16:12.444440603",
          "2024-08-20T12:16:12.509266852",
          "2024-08-20T12:16:12.573122740",
          "2024-08-20T12:16:12.636775732",
          "2024-08-20T12:16:12.719557524",
          "2024-08-20T12:16:12.782385588",
          "2024-08-20T12:16:12.833288193",
          "2024-08-20T12:16:12.894086123",
          "2024-08-20T12:16:12.958918571",
          "2024-08-20T12:16:13.020746946",
          "2024-08-20T12:16:13.085608482",
          "2024-08-20T12:16:13.150400400",
          "2024-08-20T12:16:13.215255499",
          "2024-08-20T12:16:13.277569056",
          "2024-08-20T12:16:13.341398478",
          "2024-08-20T12:16:13.408219576",
          "2024-08-20T12:16:13.467061996",
          "2024-08-20T12:16:13.534880161",
          "2024-08-20T12:16:13.606726408",
          "2024-08-20T12:16:13.665532112",
          "2024-08-20T12:16:13.725370646",
          "2024-08-20T12:16:13.787713289",
          "2024-08-20T12:16:13.852538347",
          "2024-08-20T12:16:13.928337097",
          "2024-08-20T12:16:13.984186649",
          "2024-08-20T12:16:14.045024872",
          "2024-08-20T12:16:14.109850883",
          "2024-08-20T12:16:14.175674677",
          "2024-08-20T12:16:14.236512661",
          "2024-08-20T12:16:14.305328131",
          "2024-08-20T12:16:14.363680601",
          "2024-08-20T12:16:14.429505348",
          "2024-08-20T12:16:14.491366386",
          "2024-08-20T12:16:14.559155703",
          "2024-08-20T12:16:14.622988224",
          "2024-08-20T12:16:14.683823109",
          "2024-08-20T12:16:14.749647856",
          "2024-08-20T12:16:14.815474033",
          "2024-08-20T12:16:14.942689419",
          "2024-08-20T12:16:14.996544361",
          "2024-08-20T12:16:15.050402403",
          "2024-08-20T12:16:15.096278429",
          "2024-08-20T12:16:15.142211437",
          "2024-08-20T12:16:15.197064161",
          "2024-08-20T12:16:15.259902715",
          "2024-08-20T12:16:15.330705404",
          "2024-08-20T12:16:15.396497011",
          "2024-08-20T12:16:15.454342842",
          "2024-08-20T12:16:15.516176462",
          "2024-08-20T12:16:15.581003189",
          "2024-08-20T12:16:15.645887136",
          "2024-08-20T12:16:15.713536263",
          "2024-08-20T12:16:15.772229433",
          "2024-08-20T12:16:15.839612007",
          "2024-08-20T12:16:15.907465696",
          "2024-08-20T12:16:15.965557575",
          "2024-08-20T12:16:16.028423309",
          "2024-08-20T12:16:16.094249487",
          "2024-08-20T12:16:16.161033869",
          "2024-08-20T12:16:16.221873045",
          "2024-08-20T12:16:16.283735752",
          "2024-08-20T12:16:16.347535372",
          "2024-08-20T12:16:16.413395643",
          "2024-08-20T12:16:16.476192474",
          "2024-08-20T12:16:16.546299696",
          "2024-08-20T12:16:16.629079819",
          "2024-08-20T12:16:16.684929371",
          "2024-08-20T12:16:16.736790419",
          "2024-08-20T12:16:16.798627377",
          "2024-08-20T12:16:16.865446091",
          "2024-08-20T12:16:16.926492929",
          "2024-08-20T12:16:17.003689289",
          "2024-08-20T12:16:17.068026304",
          "2024-08-20T12:16:17.116954088",
          "2024-08-20T12:16:17.180784941",
          "2024-08-20T12:16:17.246645451",
          "2024-08-20T12:16:17.312469959",
          "2024-08-20T12:16:17.371610641",
          "2024-08-20T12:16:17.436438084",
          "2024-08-20T12:16:17.505678176",
          "2024-08-20T12:16:17.700255156",
          "2024-08-20T12:16:17.715215206",
          "2024-08-20T12:16:17.781074524",
          "2024-08-20T12:16:17.826915026",
          "2024-08-20T12:16:17.874336004",
          "2024-08-20T12:16:17.919216871",
          "2024-08-20T12:16:17.978058338",
          "2024-08-20T12:16:18.023938417",
          "2024-08-20T12:16:18.077301979",
          "2024-08-20T12:16:18.153097868",
          "2024-08-20T12:16:18.210949183",
          "2024-08-20T12:16:18.271780491",
          "2024-08-20T12:16:18.342592001",
          "2024-08-20T12:16:18.397445917",
          "2024-08-20T12:16:18.460276127",
          "2024-08-20T12:16:18.524105548",
          "2024-08-20T12:16:18.589965820",
          "2024-08-20T12:16:18.653793812",
          "2024-08-20T12:16:18.720581770",
          "2024-08-20T12:16:18.779474258",
          "2024-08-20T12:16:18.844306469",
          "2024-08-20T12:16:18.908523321",
          "2024-08-20T12:16:18.978335142",
          "2024-08-20T12:16:19.094026089",
          "2024-08-20T12:16:19.159850359",
          "2024-08-20T12:16:19.213402510",
          "2024-08-20T12:16:19.274233818",
          "2024-08-20T12:16:19.335072517",
          "2024-08-20T12:16:19.380311966",
          "2024-08-20T12:16:19.438191414",
          "2024-08-20T12:16:19.486337900",
          "2024-08-20T12:16:19.548173428",
          "2024-08-20T12:16:19.614435673",
          "2024-08-20T12:16:19.677235126",
          "2024-08-20T12:16:19.740064621",
          "2024-08-20T12:16:19.807920456",
          "2024-08-20T12:16:19.871726990",
          "2024-08-20T12:16:19.933547735",
          "2024-08-20T12:16:19.997411728",
          "2024-08-20T12:16:20.060209990",
          "2024-08-20T12:16:20.128026724",
          "2024-08-20T12:16:20.190895081",
          "2024-08-20T12:16:20.252728462",
          "2024-08-20T12:16:20.320512533",
          "2024-08-20T12:16:20.381349087",
          "2024-08-20T12:16:20.450168133",
          "2024-08-20T12:16:20.508009911",
          "2024-08-20T12:16:20.576901436",
          "2024-08-20T12:16:20.640777111",
          "2024-08-20T12:16:20.700568438",
          "2024-08-20T12:16:20.764396906",
          "2024-08-20T12:16:20.831218243",
          "2024-08-20T12:16:20.893592358",
          "2024-08-20T12:16:20.956424236",
          "2024-08-20T12:16:21.034921169",
          "2024-08-20T12:16:21.094760180",
          "2024-08-20T12:16:21.155631542",
          "2024-08-20T12:16:21.211953878",
          "2024-08-20T12:16:21.277812719",
          "2024-08-20T12:16:21.340610743",
          "2024-08-20T12:16:21.405436754",
          "2024-08-20T12:16:21.468268633",
          "2024-08-20T12:16:21.532132626",
          "2024-08-20T12:16:21.595961571",
          "2024-08-20T12:16:21.662785530",
          "2024-08-20T12:16:21.727574587",
          "2024-08-20T12:16:21.788411379",
          "2024-08-20T12:16:21.853240013",
          "2024-08-20T12:16:21.919152498",
          "2024-08-20T12:16:21.979023933",
          "2024-08-20T12:16:22.114965916",
          "2024-08-20T12:16:22.173819304",
          "2024-08-20T12:16:22.189765453",
          "2024-08-20T12:16:22.243622065",
          "2024-08-20T12:16:22.301979542",
          "2024-08-20T12:16:22.372381449",
          "2024-08-20T12:16:22.429226637",
          "2024-08-20T12:16:22.494352818",
          "2024-08-20T12:16:22.558182955",
          "2024-08-20T12:16:22.620466948",
          "2024-08-20T12:16:22.689296246",
          "2024-08-20T12:16:22.750136614",
          "2024-08-20T12:16:22.815995932",
          "2024-08-20T12:16:22.878876448",
          "2024-08-20T12:16:22.939754486",
          "2024-08-20T12:16:23.005537271",
          "2024-08-20T12:16:23.067454815",
          "2024-08-20T12:16:23.136214256",
          "2024-08-20T12:16:23.195904970",
          "2024-08-20T12:16:23.263723372",
          "2024-08-20T12:16:23.326404095",
          "2024-08-20T12:16:23.392229080",
          "2024-08-20T12:16:23.451071978",
          "2024-08-20T12:16:23.517899752",
          "2024-08-20T12:16:23.584714890",
          "2024-08-20T12:16:23.644552946",
          "2024-08-20T12:16:23.710378170",
          "2024-08-20T12:16:23.774206638",
          "2024-08-20T12:16:23.837038994",
          "2024-08-20T12:16:23.902899265",
          "2024-08-20T12:16:23.966692924",
          "2024-08-20T12:16:24.029523611",
          "2024-08-20T12:16:24.098378658",
          "2024-08-20T12:16:24.156186581",
          "2024-08-20T12:16:24.222009897",
          "2024-08-20T12:16:24.301798344",
          "2024-08-20T12:16:24.350664854",
          "2024-08-20T12:16:24.414499998",
          "2024-08-20T12:16:24.476333618",
          "2024-08-20T12:16:24.540163040",
          "2024-08-20T12:16:24.607981682",
          "2024-08-20T12:16:24.672324657",
          "2024-08-20T12:16:24.734939814",
          "2024-08-20T12:16:24.796520472",
          "2024-08-20T12:16:24.859352112",
          "2024-08-20T12:16:24.924237728",
          "2024-08-20T12:16:24.991036892",
          "2024-08-20T12:16:25.055827379",
          "2024-08-20T12:16:25.168562651",
          "2024-08-20T12:16:25.223378658",
          "2024-08-20T12:16:25.277269363",
          "2024-08-20T12:16:25.347047329",
          "2024-08-20T12:16:25.397949219",
          "2024-08-20T12:16:25.447778225",
          "2024-08-20T12:16:25.513601541",
          "2024-08-20T12:16:25.567355394",
          "2024-08-20T12:16:25.628190517",
          "2024-08-20T12:16:25.692020416",
          "2024-08-20T12:16:25.755885124",
          "2024-08-20T12:16:25.819678545",
          "2024-08-20T12:16:25.886539221",
          "2024-08-20T12:16:25.949131489",
          "2024-08-20T12:16:26.013958454",
          "2024-08-20T12:16:26.078693628",
          "2024-08-20T12:16:26.143519640",
          "2024-08-20T12:16:26.205090284",
          "2024-08-20T12:16:26.268921852",
          "2024-08-20T12:16:26.334743023",
          "2024-08-20T12:16:26.396163225",
          "2024-08-20T12:16:26.459990978",
          "2024-08-20T12:16:26.530802965",
          "2024-08-20T12:16:26.590641975",
          "2024-08-20T12:16:26.654471159",
          "2024-08-20T12:16:26.718213081",
          "2024-08-20T12:16:26.786028862",
          "2024-08-20T12:16:26.843874216",
          "2024-08-20T12:16:26.908700466",
          "2024-08-20T12:16:26.972530365",
          "2024-08-20T12:16:27.043340445",
          "2024-08-20T12:16:27.102183580",
          "2024-08-20T12:16:27.164018154",
          "2024-08-20T12:16:27.273385286",
          "2024-08-20T12:16:27.321257830",
          "2024-08-20T12:16:27.382095575",
          "2024-08-20T12:16:27.427971363",
          "2024-08-20T12:16:27.504765749",
          "2024-08-20T12:16:27.548648357",
          "2024-08-20T12:16:27.615473986",
          "2024-08-20T12:16:27.676312208",
          "2024-08-20T12:16:27.740140438",
          "2024-08-20T12:16:27.806761503",
          "2024-08-20T12:16:27.870623589",
          "2024-08-20T12:16:27.933420897",
          "2024-08-20T12:16:28.003234625",
          "2024-08-20T12:16:28.061078548",
          "2024-08-20T12:16:28.154828310",
          "2024-08-20T12:16:28.206448078",
          "2024-08-20T12:16:28.264327048",
          "2024-08-20T12:16:28.316189289",
          "2024-08-20T12:16:28.379982948",
          "2024-08-20T12:16:28.446804285",
          "2024-08-20T12:16:28.509667157",
          "2024-08-20T12:16:28.573464155",
          "2024-08-20T12:16:28.638877630",
          "2024-08-20T12:16:28.701742649",
          "2024-08-20T12:16:28.765537739",
          "2024-08-20T12:16:28.830366611",
          "2024-08-20T12:16:28.892197847",
          "2024-08-20T12:16:28.956026554",
          "2024-08-20T12:16:29.024352551",
          "2024-08-20T12:16:29.086186409",
          "2024-08-20T12:16:29.151012659",
          "2024-08-20T12:16:29.212503910",
          "2024-08-20T12:16:29.280323029",
          "2024-08-20T12:16:29.348139763",
          "2024-08-20T12:16:29.406981945",
          "2024-08-20T12:16:29.469735146",
          "2024-08-20T12:16:29.531569481",
          "2024-08-20T12:16:29.597393990",
          "2024-08-20T12:16:29.661501169",
          "2024-08-20T12:16:29.723593950",
          "2024-08-20T12:16:29.789381266",
          "2024-08-20T12:16:29.854513884",
          "2024-08-20T12:16:29.924432278",
          "2024-08-20T12:16:29.982328653",
          "2024-08-20T12:16:30.045651436",
          "2024-08-20T12:16:30.110443592",
          "2024-08-20T12:16:30.171280146",
          "2024-08-20T12:16:30.236106157",
          "2024-08-20T12:16:30.305918694",
          "2024-08-20T12:16:30.364761829",
          "2024-08-20T12:16:30.428591251",
          "2024-08-20T12:16:30.493417263",
          "2024-08-20T12:16:30.556249619",
          "2024-08-20T12:16:30.626084566",
          "2024-08-20T12:16:30.687896252",
          "2024-08-20T12:16:30.806614637",
          "2024-08-20T12:16:30.871407032",
          "2024-08-20T12:16:30.929253340",
          "2024-08-20T12:16:30.978122473",
          "2024-08-20T12:16:31.036021948",
          "2024-08-20T12:16:31.096859932",
          "2024-08-20T12:16:31.140511751",
          "2024-08-20T12:16:31.200352907",
          "2024-08-20T12:16:31.266175031",
          "2024-08-20T12:16:31.326369762",
          "2024-08-20T12:16:31.388169289",
          "2024-08-20T12:16:31.455027103",
          "2024-08-20T12:16:31.519330978",
          "2024-08-20T12:16:31.580135584",
          "2024-08-20T12:16:31.645958900",
          "2024-08-20T12:16:31.710784674",
          "2024-08-20T12:16:31.771656752",
          "2024-08-20T12:16:31.838446140",
          "2024-08-20T12:16:31.907258987",
          "2024-08-20T12:16:31.967431068",
          "2024-08-20T12:16:32.028268576",
          "2024-08-20T12:16:32.099089384",
          "2024-08-20T12:16:32.160914183",
          "2024-08-20T12:16:32.224743605",
          "2024-08-20T12:16:32.285583258",
          "2024-08-20T12:16:32.347416162",
          "2024-08-20T12:16:32.428202152",
          "2024-08-20T12:16:32.476071596",
          "2024-08-20T12:16:32.548875332",
          "2024-08-20T12:16:32.606748343",
          "2024-08-20T12:16:32.667106867",
          "2024-08-20T12:16:32.732671499",
          "2024-08-20T12:16:32.799492836",
          "2024-08-20T12:16:32.863267422",
          "2024-08-20T12:16:32.924104929",
          "2024-08-20T12:16:32.987934113",
          "2024-08-20T12:16:33.078692436",
          "2024-08-20T12:16:33.135137796",
          "2024-08-20T12:16:33.180017233",
          "2024-08-20T12:16:33.244468451",
          "2024-08-20T12:16:33.311290979",
          "2024-08-20T12:16:33.380610704",
          "2024-08-20T12:16:33.443478823",
          "2024-08-20T12:16:33.507271767",
          "2024-08-20T12:16:33.565117121",
          "2024-08-20T12:16:33.627983570",
          "2024-08-20T12:16:33.694771528",
          "2024-08-20T12:16:33.756604671",
          "2024-08-20T12:16:33.819472075",
          "2024-08-20T12:16:33.884301901",
          "2024-08-20T12:16:33.951085329",
          "2024-08-20T12:16:34.015942812",
          "2024-08-20T12:16:34.082733870",
          "2024-08-20T12:16:34.139580965",
          "2024-08-20T12:16:34.205641747",
          "2024-08-20T12:16:34.278481722",
          "2024-08-20T12:16:34.334296465",
          "2024-08-20T12:16:34.397128344",
          "2024-08-20T12:16:34.459961653",
          "2024-08-20T12:16:34.528776169",
          "2024-08-20T12:16:34.589202642",
          "2024-08-20T12:16:34.657021523",
          "2024-08-20T12:16:34.721847773",
          "2024-08-20T12:16:34.779693127",
          "2024-08-20T12:16:34.845558167",
          "2024-08-20T12:16:34.909351110",
          "2024-08-20T12:16:34.978670359",
          "2024-08-20T12:16:35.036588907",
          "2024-08-20T12:16:35.100418568",
          "2024-08-20T12:16:35.166277170",
          "2024-08-20T12:16:35.229074240",
          "2024-08-20T12:16:35.294898033",
          "2024-08-20T12:16:35.396627426",
          "2024-08-20T12:16:35.470429659",
          "2024-08-20T12:16:35.533899546",
          "2024-08-20T12:16:35.587755442",
          "2024-08-20T12:16:35.633633852",
          "2024-08-20T12:16:35.681555748",
          "2024-08-20T12:16:35.740349770",
          "2024-08-20T12:16:35.804176807",
          "2024-08-20T12:16:35.874988794",
          "2024-08-20T12:16:35.934828758",
          "2024-08-20T12:16:35.996936798",
          "2024-08-20T12:16:36.061763048",
          "2024-08-20T12:16:36.124597549",
          "2024-08-20T12:16:36.188092709",
          "2024-08-20T12:16:36.251937628",
          "2024-08-20T12:16:36.319757462",
          "2024-08-20T12:16:36.380624533",
          "2024-08-20T12:16:36.445451021",
          "2024-08-20T12:16:36.510277748",
          "2024-08-20T12:16:36.584500551",
          "2024-08-20T12:16:36.644340515",
          "2024-08-20T12:16:36.701697350",
          "2024-08-20T12:16:36.767521858",
          "2024-08-20T12:16:36.828392982",
          "2024-08-20T12:16:36.892188311",
          "2024-08-20T12:16:36.961858511",
          "2024-08-20T12:16:37.025690794",
          "2024-08-20T12:16:37.085562944",
          "2024-08-20T12:16:37.149357319",
          "2024-08-20T12:16:37.213186264",
          "2024-08-20T12:16:37.277015924",
          "2024-08-20T12:16:37.340923786",
          "2024-08-20T12:16:37.405789852",
          "2024-08-20T12:16:37.469618082",
          "2024-08-20T12:16:37.531413078",
          "2024-08-20T12:16:37.596240282",
          "2024-08-20T12:16:37.662063360",
          "2024-08-20T12:16:37.726890802",
          "2024-08-20T12:16:37.787763119",
          "2024-08-20T12:16:37.855547428",
          "2024-08-20T12:16:37.917381525",
          "2024-08-20T12:16:37.981212378",
          "2024-08-20T12:16:38.046036482",
          "2024-08-20T12:16:38.109570980",
          "2024-08-20T12:16:38.174366713",
          "2024-08-20T12:16:38.235985994",
          "2024-08-20T12:16:38.301046133",
          "2024-08-20T12:16:38.363903999",
          "2024-08-20T12:16:38.431695938",
          "2024-08-20T12:16:38.492533445",
          "2024-08-20T12:16:38.559354544",
          "2024-08-20T12:16:38.626209259",
          "2024-08-20T12:16:38.685063124",
          "2024-08-20T12:16:38.749844551",
          "2024-08-20T12:16:38.819657564",
          "2024-08-20T12:16:38.881402731",
          "2024-08-20T12:16:38.941209078",
          "2024-08-20T12:16:39.004039526",
          "2024-08-20T12:16:39.076845646",
          "2024-08-20T12:16:39.135687113",
          "2024-08-20T12:16:39.195986748",
          "2024-08-20T12:16:39.259816170",
          "2024-08-20T12:16:39.327204943",
          "2024-08-20T12:16:39.386985779",
          "2024-08-20T12:16:39.450998545",
          "2024-08-20T12:16:39.518326283",
          "2024-08-20T12:16:39.581085205",
          "2024-08-20T12:16:39.645912886",
          "2024-08-20T12:16:39.708446026",
          "2024-08-20T12:16:39.772303820",
          "2024-08-20T12:16:39.838095665",
          "2024-08-20T12:16:39.901435614",
          "2024-08-20T12:16:39.965547562",
          "2024-08-20T12:16:40.028379202",
          "2024-08-20T12:16:40.093206644",
          "2024-08-20T12:16:40.157036781",
          "2024-08-20T12:16:40.220864296",
          "2024-08-20T12:16:40.285703659",
          "2024-08-20T12:16:40.347567558",
          "2024-08-20T12:16:40.415346146",
          "2024-08-20T12:16:40.490145683",
          "2024-08-20T12:16:40.540010929",
          "2024-08-20T12:16:40.605837584",
          "2024-08-20T12:16:40.667669058",
          "2024-08-20T12:16:40.736486197",
          "2024-08-20T12:16:40.799316406",
          "2024-08-20T12:16:40.860188723",
          "2024-08-20T12:16:40.924980640",
          "2024-08-20T12:16:40.987322807",
          "2024-08-20T12:16:41.052266598",
          "2024-08-20T12:16:41.116094828",
          "2024-08-20T12:16:41.188935995",
          "2024-08-20T12:16:41.247742176",
          "2024-08-20T12:16:41.311650991",
          "2024-08-20T12:16:41.373488665",
          "2024-08-20T12:16:41.437658548",
          "2024-08-20T12:16:41.507472754",
          "2024-08-20T12:16:41.566313267",
          "2024-08-20T12:16:41.632138252",
          "2024-08-20T12:16:41.696951389",
          "2024-08-20T12:16:41.756791115",
          "2024-08-20T12:16:41.823612928",
          "2024-08-20T12:16:41.885446310",
          "2024-08-20T12:16:41.947316408",
          "2024-08-20T12:16:42.016132832",
          "2024-08-20T12:16:42.075978756",
          "2024-08-20T12:16:42.142799854",
          "2024-08-20T12:16:42.207627058",
          "2024-08-20T12:16:42.267501831",
          "2024-08-20T12:16:42.334329367",
          "2024-08-20T12:16:42.399032593",
          "2024-08-20T12:16:42.460904121",
          "2024-08-20T12:16:42.536894560",
          "2024-08-20T12:16:42.592325926",
          "2024-08-20T12:16:42.652166605",
          "2024-08-20T12:16:42.718005180",
          "2024-08-20T12:16:42.779834986",
          "2024-08-20T12:16:42.843824148",
          "2024-08-20T12:16:42.907660246",
          "2024-08-20T12:16:42.977556467",
          "2024-08-20T12:16:43.037439823",
          "2024-08-20T12:16:43.100963354",
          "2024-08-20T12:16:43.171775341",
          "2024-08-20T12:16:43.229617834",
          "2024-08-20T12:16:43.293076277",
          "2024-08-20T12:16:43.355946779",
          "2024-08-20T12:16:43.420776367",
          "2024-08-20T12:16:43.489561558",
          "2024-08-20T12:16:43.547403097",
          "2024-08-20T12:16:43.651124477",
          "2024-08-20T12:16:43.710998774",
          "2024-08-20T12:16:43.767498255",
          "2024-08-20T12:16:43.824345112",
          "2024-08-20T12:16:43.883220911",
          "2024-08-20T12:16:43.949009657",
          "2024-08-20T12:16:44.006890059",
          "2024-08-20T12:16:44.062737703",
          "2024-08-20T12:16:44.124540567",
          "2024-08-20T12:16:44.189367533",
          "2024-08-20T12:16:44.253229618",
          "2024-08-20T12:16:44.316185713",
          "2024-08-20T12:16:44.379046202",
          "2024-08-20T12:16:44.444174528",
          "2024-08-20T12:16:44.514346600",
          "2024-08-20T12:16:44.572191715",
          "2024-08-20T12:16:44.639078379",
          "2024-08-20T12:16:44.704474688",
          "2024-08-20T12:16:44.763350487",
          "2024-08-20T12:16:44.829139471",
          "2024-08-20T12:16:44.894028425",
          "2024-08-20T12:16:44.956413269",
          "2024-08-20T12:16:45.025400400",
          "2024-08-20T12:16:45.084244251",
          "2024-08-20T12:16:45.152088881",
          "2024-08-20T12:16:45.213922262",
          "2024-08-20T12:16:45.277752161",
          "2024-08-20T12:16:45.347600698",
          "2024-08-20T12:16:45.406036139",
          "2024-08-20T12:16:45.467909098",
          "2024-08-20T12:16:45.534692049",
          "2024-08-20T12:16:45.597522736",
          "2024-08-20T12:16:45.659392357",
          "2024-08-20T12:16:45.726183414",
          "2024-08-20T12:16:45.793002129",
          "2024-08-20T12:16:45.853837729",
          "2024-08-20T12:16:45.916709185",
          "2024-08-20T12:16:45.982528448",
          "2024-08-20T12:16:46.046327353",
          "2024-08-20T12:16:46.109154224",
          "2024-08-20T12:16:46.170989513",
          "2024-08-20T12:16:46.236022949",
          "2024-08-20T12:16:46.299850464",
          "2024-08-20T12:16:46.364199400",
          "2024-08-20T12:16:46.429173470",
          "2024-08-20T12:16:46.495971680",
          "2024-08-20T12:16:46.555811644",
          "2024-08-20T12:16:46.626326084",
          "2024-08-20T12:16:46.684170961",
          "2024-08-20T12:16:46.757974625",
          "2024-08-20T12:16:46.817813396",
          "2024-08-20T12:16:46.876714945",
          "2024-08-20T12:16:46.940485477",
          "2024-08-20T12:16:47.012800694",
          "2024-08-20T12:16:47.068651915",
          "2024-08-20T12:16:47.132986546",
          "2024-08-20T12:16:47.206822395",
          "2024-08-20T12:16:47.259686232",
          "2024-08-20T12:16:47.386310101",
          "2024-08-20T12:16:47.437172651",
          "2024-08-20T12:16:47.497013569",
          "2024-08-20T12:16:47.543887615",
          "2024-08-20T12:16:47.607716322",
          "2024-08-20T12:16:47.665561199",
          "2024-08-20T12:16:47.728394032",
          "2024-08-20T12:16:47.786280394",
          "2024-08-20T12:16:47.846248865",
          "2024-08-20T12:16:47.902099133",
          "2024-08-20T12:16:47.973907232",
          "2024-08-20T12:16:48.028760433",
          "2024-08-20T12:16:48.096580982",
          "2024-08-20T12:16:48.161984444",
          "2024-08-20T12:16:48.220808029",
          "2024-08-20T12:16:48.283670425",
          "2024-08-20T12:16:48.349090099",
          "2024-08-20T12:16:48.412950039",
          "2024-08-20T12:16:48.475680590",
          "2024-08-20T12:16:48.554410934",
          "2024-08-20T12:16:48.622227669",
          "2024-08-20T12:16:48.677082300",
          "2024-08-20T12:16:48.732578278",
          "2024-08-20T12:16:48.808376551",
          "2024-08-20T12:16:48.861769676",
          "2024-08-20T12:16:48.925569057",
          "2024-08-20T12:16:49.130389451",
          "2024-08-20T12:16:49.145349264",
          "2024-08-20T12:16:49.204797268",
          "2024-08-20T12:16:49.248680592",
          "2024-08-20T12:16:49.307520628",
          "2024-08-20T12:16:49.354395866",
          "2024-08-20T12:16:49.398307085",
          "2024-08-20T12:16:49.458119392",
          "2024-08-20T12:16:49.504994154",
          "2024-08-20T12:16:49.563835859",
          "2024-08-20T12:16:49.637637615",
          "2024-08-20T12:16:49.693488598",
          "2024-08-20T12:16:49.772279263",
          "2024-08-20T12:16:49.957781553",
          "2024-08-20T12:16:49.973739862",
          "2024-08-20T12:16:50.034578085",
          "2024-08-20T12:16:50.078537464",
          "2024-08-20T12:16:50.138314486",
          "2024-08-20T12:16:50.185190439",
          "2024-08-20T12:16:50.231067896",
          "2024-08-20T12:16:50.275953293",
          "2024-08-20T12:16:50.339813471",
          "2024-08-20T12:16:50.397620916",
          "2024-08-20T12:16:50.467789412",
          "2024-08-20T12:16:50.526661395",
          "2024-08-20T12:16:50.592426062",
          "2024-08-20T12:16:50.652230978",
          "2024-08-20T12:16:50.718054771",
          "2024-08-20T12:16:50.783918858",
          "2024-08-20T12:16:50.844773531",
          "2024-08-20T12:16:50.909575939",
          "2024-08-20T12:16:50.972373724",
          "2024-08-20T12:16:51.039195061",
          "2024-08-20T12:16:51.115990639",
          "2024-08-20T12:16:51.167850733",
          "2024-08-20T12:16:51.228871584",
          "2024-08-20T12:16:51.291702986",
          "2024-08-20T12:16:51.355562449",
          "2024-08-20T12:16:51.420359612",
          "2024-08-20T12:16:51.487182617",
          "2024-08-20T12:16:51.550013781",
          "2024-08-20T12:16:51.621820211",
          "2024-08-20T12:16:51.675227165",
          "2024-08-20T12:16:51.742013693",
          "2024-08-20T12:16:51.840767384",
          "2024-08-20T12:16:51.902601719",
          "2024-08-20T12:16:51.948479891",
          "2024-08-20T12:16:52.006323338",
          "2024-08-20T12:16:52.068565607",
          "2024-08-20T12:16:52.127442597",
          "2024-08-20T12:16:52.188757658",
          "2024-08-20T12:16:52.252624750",
          "2024-08-20T12:16:52.320444345",
          "2024-08-20T12:16:52.380243301",
          "2024-08-20T12:16:52.445104599",
          "2024-08-20T12:16:52.511892796",
          "2024-08-20T12:16:52.576718092",
          "2024-08-20T12:16:52.636559010",
          "2024-08-20T12:16:52.701385260",
          "2024-08-20T12:16:52.764218569",
          "2024-08-20T12:16:52.829043627",
          "2024-08-20T12:16:52.893871069",
          "2024-08-20T12:16:52.955703735",
          "2024-08-20T12:16:53.022524595",
          "2024-08-20T12:16:53.102823734",
          "2024-08-20T12:16:53.160718679",
          "2024-08-20T12:16:53.218513250",
          "2024-08-20T12:16:53.278518200",
          "2024-08-20T12:16:53.341351271",
          "2024-08-20T12:16:53.405178785",
          "2024-08-20T12:16:53.468009949",
          "2024-08-20T12:16:53.537825823",
          "2024-08-20T12:16:53.600655079",
          "2024-08-20T12:16:53.664532423",
          "2024-08-20T12:16:53.725801706",
          "2024-08-20T12:16:53.787636995",
          "2024-08-20T12:16:53.852016687",
          "2024-08-20T12:16:53.921796083",
          "2024-08-20T12:16:53.980579615",
          "2024-08-20T12:16:54.043408871",
          "2024-08-20T12:16:54.110231400",
          "2024-08-20T12:16:54.175058365",
          "2024-08-20T12:16:54.237909555",
          "2024-08-20T12:16:54.302735806",
          "2024-08-20T12:16:54.363573790",
          "2024-08-20T12:16:54.439370394",
          "2024-08-20T12:16:54.505674600",
          "2024-08-20T12:16:54.556575775",
          "2024-08-20T12:16:54.621365547",
          "2024-08-20T12:16:54.685702324",
          "2024-08-20T12:16:54.758507013",
          "2024-08-20T12:16:54.812362909",
          "2024-08-20T12:16:54.884222269",
          "2024-08-20T12:16:54.940021515",
          "2024-08-20T12:16:55.005850554",
          "2024-08-20T12:16:55.069046736",
          "2024-08-20T12:16:55.132934093",
          "2024-08-20T12:16:55.196768284",
          "2024-08-20T12:16:55.270569801",
          "2024-08-20T12:16:55.329474926",
          "2024-08-20T12:16:55.388601303",
          "2024-08-20T12:16:55.451397657",
          "2024-08-20T12:16:55.521809101",
          "2024-08-20T12:16:55.582866669",
          "2024-08-20T12:16:55.644743443",
          "2024-08-20T12:16:55.708039522",
          "2024-08-20T12:16:55.774860382",
          "2024-08-20T12:16:55.848698854",
          "2024-08-20T12:16:55.903517723",
          "2024-08-20T12:16:55.965970278",
          "2024-08-20T12:16:56.032788038",
          "2024-08-20T12:16:56.092688084",
          "2024-08-20T12:16:56.156456709",
          "2024-08-20T12:16:56.225302219",
          "2024-08-20T12:16:56.291131735",
          "2024-08-20T12:16:56.351935387",
          "2024-08-20T12:16:56.413772106",
          "2024-08-20T12:16:56.478632450",
          "2024-08-20T12:16:56.541461706",
          "2024-08-20T12:16:56.606253862",
          "2024-08-20T12:16:56.667126894",
          "2024-08-20T12:16:56.737072706",
          "2024-08-20T12:16:56.797910452",
          "2024-08-20T12:16:56.859745264",
          "2024-08-20T12:16:56.926205397",
          "2024-08-20T12:16:57.039867163",
          "2024-08-20T12:16:57.100703478",
          "2024-08-20T12:16:57.161543369",
          "2024-08-20T12:16:57.224379301",
          "2024-08-20T12:16:57.279637098",
          "2024-08-20T12:16:57.342443943",
          "2024-08-20T12:16:57.387506008",
          "2024-08-20T12:16:57.436410189",
          "2024-08-20T12:16:57.502428055",
          "2024-08-20T12:16:57.566221237",
          "2024-08-20T12:16:57.641531944",
          "2024-08-20T12:16:57.694428682",
          "2024-08-20T12:16:57.759217501",
          "2024-08-20T12:16:57.822085619",
          "2024-08-20T12:16:57.889868975",
          "2024-08-20T12:16:57.949707508",
          "2024-08-20T12:16:58.013572693",
          "2024-08-20T12:16:58.077366352",
          "2024-08-20T12:16:58.139806509",
          "2024-08-20T12:16:58.203635216",
          "2024-08-20T12:16:58.267492055",
          "2024-08-20T12:16:58.340271473",
          "2024-08-20T12:16:58.398117065",
          "2024-08-20T12:16:58.459951639",
          "2024-08-20T12:16:58.526771784",
          "2024-08-20T12:16:58.589602709",
          "2024-08-20T12:16:58.652434587",
          "2024-08-20T12:16:58.720253468",
          "2024-08-20T12:16:58.780977964",
          "2024-08-20T12:16:58.879713774",
          "2024-08-20T12:16:58.937559366",
          "2024-08-20T12:16:59.003454447",
          "2024-08-20T12:16:59.054319143",
          "2024-08-20T12:16:59.102700710",
          "2024-08-20T12:16:59.163537502",
          "2024-08-20T12:16:59.231873512",
          "2024-08-20T12:16:59.295702934",
          "2024-08-20T12:16:59.365517855",
          "2024-08-20T12:16:59.422363997",
          "2024-08-20T12:16:59.484198570",
          "2024-08-20T12:16:59.549028635",
          "2024-08-20T12:16:59.615846634",
          "2024-08-20T12:16:59.681671381",
          "2024-08-20T12:16:59.741510391",
          "2024-08-20T12:16:59.817307472",
          "2024-08-20T12:16:59.877695560",
          "2024-08-20T12:16:59.933547974",
          "2024-08-20T12:17:00.047241688",
          "2024-08-20T12:17:00.098105907",
          "2024-08-20T12:17:00.155955315"
         ],
         "xaxis": "x2",
         "y": {
          "bdata": "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",
          "dtype": "f8"
         },
         "yaxis": "y2"
        },
        {
         "marker": {
          "color": "lightcoral"
         },
         "name": "Distribution",
         "nbinsx": 30,
         "opacity": 0.7,
         "type": "histogram",
         "x": {
          "bdata": "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",
          "dtype": "f8"
         },
         "xaxis": "x3",
         "yaxis": "y3"
        },
        {
         "line": {
          "color": "lightcoral",
          "width": 1
         },
         "mode": "lines",
         "name": "Raw",
         "opacity": 0.5,
         "type": "scatter",
         "x": {
          "bdata": "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",
          "dtype": "i2"
         },
         "xaxis": "x4",
         "y": {
          "bdata": "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",
          "dtype": "f8"
         },
         "yaxis": "y4"
        },
        {
         "line": {
          "color": "darkred",
          "width": 3
         },
         "mode": "lines",
         "name": "Smoothed (n=40)",
         "type": "scatter",
         "x": {
          "bdata": "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",
          "dtype": "i2"
         },
         "xaxis": "x4",
         "y": {
          "bdata": "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",
          "dtype": "f8"
         },
         "yaxis": "y4"
        }
       ],
       "layout": {
        "annotations": [
         {
          "font": {
           "size": 16
          },
          "showarrow": false,
          "text": "Distance vs Frame Index",
          "x": 0.225,
          "xanchor": "center",
          "xref": "paper",
          "y": 1,
          "yanchor": "bottom",
          "yref": "paper"
         },
         {
          "font": {
           "size": 16
          },
          "showarrow": false,
          "text": "Distance vs Time",
          "x": 0.775,
          "xanchor": "center",
          "xref": "paper",
          "y": 1,
          "yanchor": "bottom",
          "yref": "paper"
         },
         {
          "font": {
           "size": 16
          },
          "showarrow": false,
          "text": "Distance Distribution",
          "x": 0.225,
          "xanchor": "center",
          "xref": "paper",
          "y": 0.375,
          "yanchor": "bottom",
          "yref": "paper"
         },
         {
          "font": {
           "size": 16
          },
          "showarrow": false,
          "text": "Distance Trends",
          "x": 0.775,
          "xanchor": "center",
          "xref": "paper",
          "y": 0.375,
          "yanchor": "bottom",
          "yref": "paper"
         },
         {
          "showarrow": false,
          "text": "Mean: 1.40meters",
          "x": 1.4040110483730173,
          "xanchor": "left",
          "xref": "x3",
          "y": 1,
          "yanchor": "top",
          "yref": "y3 domain"
         }
        ],
        "height": 800,
        "shapes": [
         {
          "line": {
           "color": "red",
           "dash": "dash"
          },
          "type": "line",
          "x0": 1.4040110483730173,
          "x1": 1.4040110483730173,
          "xref": "x3",
          "y0": 0,
          "y1": 1,
          "yref": "y3 domain"
         }
        ],
        "showlegend": true,
        "template": {
         "data": {
          "bar": [
           {
            "error_x": {
             "color": "#2a3f5f"
            },
            "error_y": {
             "color": "#2a3f5f"
            },
            "marker": {
             "line": {
              "color": "#E5ECF6",
              "width": 0.5
             },
             "pattern": {
              "fillmode": "overlay",
              "size": 10,
              "solidity": 0.2
             }
            },
            "type": "bar"
           }
          ],
          "barpolar": [
           {
            "marker": {
             "line": {
              "color": "#E5ECF6",
              "width": 0.5
             },
             "pattern": {
              "fillmode": "overlay",
              "size": 10,
              "solidity": 0.2
             }
            },
            "type": "barpolar"
           }
          ],
          "carpet": [
           {
            "aaxis": {
             "endlinecolor": "#2a3f5f",
             "gridcolor": "white",
             "linecolor": "white",
             "minorgridcolor": "white",
             "startlinecolor": "#2a3f5f"
            },
            "baxis": {
             "endlinecolor": "#2a3f5f",
             "gridcolor": "white",
             "linecolor": "white",
             "minorgridcolor": "white",
             "startlinecolor": "#2a3f5f"
            },
            "type": "carpet"
           }
          ],
          "choropleth": [
           {
            "colorbar": {
             "outlinewidth": 0,
             "ticks": ""
            },
            "type": "choropleth"
           }
          ],
          "contour": [
           {
            "colorbar": {
             "outlinewidth": 0,
             "ticks": ""
            },
            "colorscale": [
             [
              0,
              "#0d0887"
             ],
             [
              0.1111111111111111,
              "#46039f"
             ],
             [
              0.2222222222222222,
              "#7201a8"
             ],
             [
              0.3333333333333333,
              "#9c179e"
             ],
             [
              0.4444444444444444,
              "#bd3786"
             ],
             [
              0.5555555555555556,
              "#d8576b"
             ],
             [
              0.6666666666666666,
              "#ed7953"
             ],
             [
              0.7777777777777778,
              "#fb9f3a"
             ],
             [
              0.8888888888888888,
              "#fdca26"
             ],
             [
              1,
              "#f0f921"
             ]
            ],
            "type": "contour"
           }
          ],
          "contourcarpet": [
           {
            "colorbar": {
             "outlinewidth": 0,
             "ticks": ""
            },
            "type": "contourcarpet"
           }
          ],
          "heatmap": [
           {
            "colorbar": {
             "outlinewidth": 0,
             "ticks": ""
            },
            "colorscale": [
             [
              0,
              "#0d0887"
             ],
             [
              0.1111111111111111,
              "#46039f"
             ],
             [
              0.2222222222222222,
              "#7201a8"
             ],
             [
              0.3333333333333333,
              "#9c179e"
             ],
             [
              0.4444444444444444,
              "#bd3786"
             ],
             [
              0.5555555555555556,
              "#d8576b"
             ],
             [
              0.6666666666666666,
              "#ed7953"
             ],
             [
              0.7777777777777778,
              "#fb9f3a"
             ],
             [
              0.8888888888888888,
              "#fdca26"
             ],
             [
              1,
              "#f0f921"
             ]
            ],
            "type": "heatmap"
           }
          ],
          "histogram": [
           {
            "marker": {
             "pattern": {
              "fillmode": "overlay",
              "size": 10,
              "solidity": 0.2
             }
            },
            "type": "histogram"
           }
          ],
          "histogram2d": [
           {
            "colorbar": {
             "outlinewidth": 0,
             "ticks": ""
            },
            "colorscale": [
             [
              0,
              "#0d0887"
             ],
             [
              0.1111111111111111,
              "#46039f"
             ],
             [
              0.2222222222222222,
              "#7201a8"
             ],
             [
              0.3333333333333333,
              "#9c179e"
             ],
             [
              0.4444444444444444,
              "#bd3786"
             ],
             [
              0.5555555555555556,
              "#d8576b"
             ],
             [
              0.6666666666666666,
              "#ed7953"
             ],
             [
              0.7777777777777778,
              "#fb9f3a"
             ],
             [
              0.8888888888888888,
              "#fdca26"
             ],
             [
              1,
              "#f0f921"
             ]
            ],
            "type": "histogram2d"
           }
          ],
          "histogram2dcontour": [
           {
            "colorbar": {
             "outlinewidth": 0,
             "ticks": ""
            },
            "colorscale": [
             [
              0,
              "#0d0887"
             ],
             [
              0.1111111111111111,
              "#46039f"
             ],
             [
              0.2222222222222222,
              "#7201a8"
             ],
             [
              0.3333333333333333,
              "#9c179e"
             ],
             [
              0.4444444444444444,
              "#bd3786"
             ],
             [
              0.5555555555555556,
              "#d8576b"
             ],
             [
              0.6666666666666666,
              "#ed7953"
             ],
             [
              0.7777777777777778,
              "#fb9f3a"
             ],
             [
              0.8888888888888888,
              "#fdca26"
             ],
             [
              1,
              "#f0f921"
             ]
            ],
            "type": "histogram2dcontour"
           }
          ],
          "mesh3d": [
           {
            "colorbar": {
             "outlinewidth": 0,
             "ticks": ""
            },
            "type": "mesh3d"
           }
          ],
          "parcoords": [
           {
            "line": {
             "colorbar": {
              "outlinewidth": 0,
              "ticks": ""
             }
            },
            "type": "parcoords"
           }
          ],
          "pie": [
           {
            "automargin": true,
            "type": "pie"
           }
          ],
          "scatter": [
           {
            "fillpattern": {
             "fillmode": "overlay",
             "size": 10,
             "solidity": 0.2
            },
            "type": "scatter"
           }
          ],
          "scatter3d": [
           {
            "line": {
             "colorbar": {
              "outlinewidth": 0,
              "ticks": ""
             }
            },
            "marker": {
             "colorbar": {
              "outlinewidth": 0,
              "ticks": ""
             }
            },
            "type": "scatter3d"
           }
          ],
          "scattercarpet": [
           {
            "marker": {
             "colorbar": {
              "outlinewidth": 0,
              "ticks": ""
             }
            },
            "type": "scattercarpet"
           }
          ],
          "scattergeo": [
           {
            "marker": {
             "colorbar": {
              "outlinewidth": 0,
              "ticks": ""
             }
            },
            "type": "scattergeo"
           }
          ],
          "scattergl": [
           {
            "marker": {
             "colorbar": {
              "outlinewidth": 0,
              "ticks": ""
             }
            },
            "type": "scattergl"
           }
          ],
          "scattermap": [
           {
            "marker": {
             "colorbar": {
              "outlinewidth": 0,
              "ticks": ""
             }
            },
            "type": "scattermap"
           }
          ],
          "scattermapbox": [
           {
            "marker": {
             "colorbar": {
              "outlinewidth": 0,
              "ticks": ""
             }
            },
            "type": "scattermapbox"
           }
          ],
          "scatterpolar": [
           {
            "marker": {
             "colorbar": {
              "outlinewidth": 0,
              "ticks": ""
             }
            },
            "type": "scatterpolar"
           }
          ],
          "scatterpolargl": [
           {
            "marker": {
             "colorbar": {
              "outlinewidth": 0,
              "ticks": ""
             }
            },
            "type": "scatterpolargl"
           }
          ],
          "scatterternary": [
           {
            "marker": {
             "colorbar": {
              "outlinewidth": 0,
              "ticks": ""
             }
            },
            "type": "scatterternary"
           }
          ],
          "surface": [
           {
            "colorbar": {
             "outlinewidth": 0,
             "ticks": ""
            },
            "colorscale": [
             [
              0,
              "#0d0887"
             ],
             [
              0.1111111111111111,
              "#46039f"
             ],
             [
              0.2222222222222222,
              "#7201a8"
             ],
             [
              0.3333333333333333,
              "#9c179e"
             ],
             [
              0.4444444444444444,
              "#bd3786"
             ],
             [
              0.5555555555555556,
              "#d8576b"
             ],
             [
              0.6666666666666666,
              "#ed7953"
             ],
             [
              0.7777777777777778,
              "#fb9f3a"
             ],
             [
              0.8888888888888888,
              "#fdca26"
             ],
             [
              1,
              "#f0f921"
             ]
            ],
            "type": "surface"
           }
          ],
          "table": [
           {
            "cells": {
             "fill": {
              "color": "#EBF0F8"
             },
             "line": {
              "color": "white"
             }
            },
            "header": {
             "fill": {
              "color": "#C8D4E3"
             },
             "line": {
              "color": "white"
             }
            },
            "type": "table"
           }
          ]
         },
         "layout": {
          "annotationdefaults": {
           "arrowcolor": "#2a3f5f",
           "arrowhead": 0,
           "arrowwidth": 1
          },
          "autotypenumbers": "strict",
          "coloraxis": {
           "colorbar": {
            "outlinewidth": 0,
            "ticks": ""
           }
          },
          "colorscale": {
           "diverging": [
            [
             0,
             "#8e0152"
            ],
            [
             0.1,
             "#c51b7d"
            ],
            [
             0.2,
             "#de77ae"
            ],
            [
             0.3,
             "#f1b6da"
            ],
            [
             0.4,
             "#fde0ef"
            ],
            [
             0.5,
             "#f7f7f7"
            ],
            [
             0.6,
             "#e6f5d0"
            ],
            [
             0.7,
             "#b8e186"
            ],
            [
             0.8,
             "#7fbc41"
            ],
            [
             0.9,
             "#4d9221"
            ],
            [
             1,
             "#276419"
            ]
           ],
           "sequential": [
            [
             0,
             "#0d0887"
            ],
            [
             0.1111111111111111,
             "#46039f"
            ],
            [
             0.2222222222222222,
             "#7201a8"
            ],
            [
             0.3333333333333333,
             "#9c179e"
            ],
            [
             0.4444444444444444,
             "#bd3786"
            ],
            [
             0.5555555555555556,
             "#d8576b"
            ],
            [
             0.6666666666666666,
             "#ed7953"
            ],
            [
             0.7777777777777778,
             "#fb9f3a"
            ],
            [
             0.8888888888888888,
             "#fdca26"
            ],
            [
             1,
             "#f0f921"
            ]
           ],
           "sequentialminus": [
            [
             0,
             "#0d0887"
            ],
            [
             0.1111111111111111,
             "#46039f"
            ],
            [
             0.2222222222222222,
             "#7201a8"
            ],
            [
             0.3333333333333333,
             "#9c179e"
            ],
            [
             0.4444444444444444,
             "#bd3786"
            ],
            [
             0.5555555555555556,
             "#d8576b"
            ],
            [
             0.6666666666666666,
             "#ed7953"
            ],
            [
             0.7777777777777778,
             "#fb9f3a"
            ],
            [
             0.8888888888888888,
             "#fdca26"
            ],
            [
             1,
             "#f0f921"
            ]
           ]
          },
          "colorway": [
           "#636efa",
           "#EF553B",
           "#00cc96",
           "#ab63fa",
           "#FFA15A",
           "#19d3f3",
           "#FF6692",
           "#B6E880",
           "#FF97FF",
           "#FECB52"
          ],
          "font": {
           "color": "#2a3f5f"
          },
          "geo": {
           "bgcolor": "white",
           "lakecolor": "white",
           "landcolor": "#E5ECF6",
           "showlakes": true,
           "showland": true,
           "subunitcolor": "white"
          },
          "hoverlabel": {
           "align": "left"
          },
          "hovermode": "closest",
          "mapbox": {
           "style": "light"
          },
          "paper_bgcolor": "white",
          "plot_bgcolor": "#E5ECF6",
          "polar": {
           "angularaxis": {
            "gridcolor": "white",
            "linecolor": "white",
            "ticks": ""
           },
           "bgcolor": "#E5ECF6",
           "radialaxis": {
            "gridcolor": "white",
            "linecolor": "white",
            "ticks": ""
           }
          },
          "scene": {
           "xaxis": {
            "backgroundcolor": "#E5ECF6",
            "gridcolor": "white",
            "gridwidth": 2,
            "linecolor": "white",
            "showbackground": true,
            "ticks": "",
            "zerolinecolor": "white"
           },
           "yaxis": {
            "backgroundcolor": "#E5ECF6",
            "gridcolor": "white",
            "gridwidth": 2,
            "linecolor": "white",
            "showbackground": true,
            "ticks": "",
            "zerolinecolor": "white"
           },
           "zaxis": {
            "backgroundcolor": "#E5ECF6",
            "gridcolor": "white",
            "gridwidth": 2,
            "linecolor": "white",
            "showbackground": true,
            "ticks": "",
            "zerolinecolor": "white"
           }
          },
          "shapedefaults": {
           "line": {
            "color": "#2a3f5f"
           }
          },
          "ternary": {
           "aaxis": {
            "gridcolor": "white",
            "linecolor": "white",
            "ticks": ""
           },
           "baxis": {
            "gridcolor": "white",
            "linecolor": "white",
            "ticks": ""
           },
           "bgcolor": "#E5ECF6",
           "caxis": {
            "gridcolor": "white",
            "linecolor": "white",
            "ticks": ""
           }
          },
          "title": {
           "x": 0.05
          },
          "xaxis": {
           "automargin": true,
           "gridcolor": "white",
           "linecolor": "white",
           "ticks": "",
           "title": {
            "standoff": 15
           },
           "zerolinecolor": "white",
           "zerolinewidth": 2
          },
          "yaxis": {
           "automargin": true,
           "gridcolor": "white",
           "linecolor": "white",
           "ticks": "",
           "title": {
            "standoff": 15
           },
           "zerolinecolor": "white",
           "zerolinewidth": 2
          }
         }
        },
        "title": {
         "text": "Real-World Distance Analysis"
        },
        "xaxis": {
         "anchor": "y",
         "domain": [
          0,
          0.45
         ],
         "title": {
          "text": "Frame Index"
         }
        },
        "xaxis2": {
         "anchor": "y2",
         "domain": [
          0.55,
          1
         ],
         "title": {
          "text": "Time"
         }
        },
        "xaxis3": {
         "anchor": "y3",
         "domain": [
          0,
          0.45
         ],
         "title": {
          "text": "Distance (meters)"
         }
        },
        "xaxis4": {
         "anchor": "y4",
         "domain": [
          0.55,
          1
         ],
         "title": {
          "text": "Frame Index"
         }
        },
        "yaxis": {
         "anchor": "x",
         "domain": [
          0.625,
          1
         ],
         "title": {
          "text": "Distance (meters)"
         }
        },
        "yaxis2": {
         "anchor": "x2",
         "domain": [
          0.625,
          1
         ],
         "title": {
          "text": "Distance (meters)"
         }
        },
        "yaxis3": {
         "anchor": "x3",
         "domain": [
          0,
          0.375
         ],
         "title": {
          "text": "Frequency"
         }
        },
        "yaxis4": {
         "anchor": "x4",
         "domain": [
          0,
          0.375
         ],
         "title": {
          "text": "Distance (meters)"
         }
        }
       }
      }
     },
     "metadata": {},
     "output_type": "display_data"
    },
    {
     "data": {
      "application/vnd.plotly.v1+json": {
       "config": {
        "plotlyServerURL": "https://plot.ly"
       },
       "data": [
        {
         "line": {
          "color": "blue"
         },
         "mode": "lines+markers",
         "name": "Distance",
         "type": "scatter",
         "x": {
          "bdata": "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",
          "dtype": "i2"
         },
         "xaxis": "x",
         "y": {
          "bdata": "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",
          "dtype": "f8"
         },
         "yaxis": "y"
        },
        {
         "line": {
          "color": "green"
         },
         "mode": "lines+markers",
         "name": "Distance over Time",
         "type": "scatter",
         "x": [
          "2024-08-20T12:16:08.095385790",
          "2024-08-20T12:16:08.156692982",
          "2024-08-20T12:16:08.219524860",
          "2024-08-20T12:16:08.285349369",
          "2024-08-20T12:16:08.348218918",
          "2024-08-20T12:16:08.418995619",
          "2024-08-20T12:16:08.475838661",
          "2024-08-20T12:16:08.545522451",
          "2024-08-20T12:16:08.604363203",
          "2024-08-20T12:16:08.668194294",
          "2024-08-20T12:16:08.738012314",
          "2024-08-20T12:16:08.796479225",
          "2024-08-20T12:16:08.859308958",
          "2024-08-20T12:16:08.929124117",
          "2024-08-20T12:16:08.998935699",
          "2024-08-20T12:16:09.053789139",
          "2024-08-20T12:16:09.317293882",
          "2024-08-20T12:16:09.332246304",
          "2024-08-20T12:16:09.398071289",
          "2024-08-20T12:16:09.444946289",
          "2024-08-20T12:16:09.487864494",
          "2024-08-20T12:16:09.538703918",
          "2024-08-20T12:16:09.594544888",
          "2024-08-20T12:16:09.646440983",
          "2024-08-20T12:16:09.688481331",
          "2024-08-20T12:16:09.747323990",
          "2024-08-20T12:16:09.791205168",
          "2024-08-20T12:16:09.837082386",
          "2024-08-20T12:16:09.885986328",
          "2024-08-20T12:16:10.151277542",
          "2024-08-20T12:16:10.166237116",
          "2024-08-20T12:16:10.220057487",
          "2024-08-20T12:16:10.281892776",
          "2024-08-20T12:16:10.328772068",
          "2024-08-20T12:16:10.372649193",
          "2024-08-20T12:16:10.421150446",
          "2024-08-20T12:16:10.479957104",
          "2024-08-20T12:16:10.525750874",
          "2024-08-20T12:16:10.570657969",
          "2024-08-20T12:16:10.616500139",
          "2024-08-20T12:16:10.677337170",
          "2024-08-20T12:16:10.722884893",
          "2024-08-20T12:16:10.786714554",
          "2024-08-20T12:16:10.852535009",
          "2024-08-20T12:16:10.914369583",
          "2024-08-20T12:16:10.971218109",
          "2024-08-20T12:16:11.038893223",
          "2024-08-20T12:16:11.101723909",
          "2024-08-20T12:16:11.163594007",
          "2024-08-20T12:16:11.230381966",
          "2024-08-20T12:16:11.337513924",
          "2024-08-20T12:16:11.390371799",
          "2024-08-20T12:16:11.447247267",
          "2024-08-20T12:16:11.508056402",
          "2024-08-20T12:16:11.565927744",
          "2024-08-20T12:16:11.628760576",
          "2024-08-20T12:16:11.676606178",
          "2024-08-20T12:16:11.743453979",
          "2024-08-20T12:16:11.804263115",
          "2024-08-20T12:16:11.868093252",
          "2024-08-20T12:16:11.932918787",
          "2024-08-20T12:16:12.010747194",
          "2024-08-20T12:16:12.059581757",
          "2024-08-20T12:16:12.125442743",
          "2024-08-20T12:16:12.191058159",
          "2024-08-20T12:16:12.251457690",
          "2024-08-20T12:16:12.319262266",
          "2024-08-20T12:16:12.381096601",
          "2024-08-20T12:16:12.444440603",
          "2024-08-20T12:16:12.509266852",
          "2024-08-20T12:16:12.573122740",
          "2024-08-20T12:16:12.636775732",
          "2024-08-20T12:16:12.719557524",
          "2024-08-20T12:16:12.782385588",
          "2024-08-20T12:16:12.833288193",
          "2024-08-20T12:16:12.894086123",
          "2024-08-20T12:16:12.958918571",
          "2024-08-20T12:16:13.020746946",
          "2024-08-20T12:16:13.085608482",
          "2024-08-20T12:16:13.150400400",
          "2024-08-20T12:16:13.215255499",
          "2024-08-20T12:16:13.277569056",
          "2024-08-20T12:16:13.341398478",
          "2024-08-20T12:16:13.408219576",
          "2024-08-20T12:16:13.467061996",
          "2024-08-20T12:16:13.534880161",
          "2024-08-20T12:16:13.606726408",
          "2024-08-20T12:16:13.665532112",
          "2024-08-20T12:16:13.725370646",
          "2024-08-20T12:16:13.787713289",
          "2024-08-20T12:16:13.852538347",
          "2024-08-20T12:16:13.928337097",
          "2024-08-20T12:16:13.984186649",
          "2024-08-20T12:16:14.045024872",
          "2024-08-20T12:16:14.109850883",
          "2024-08-20T12:16:14.175674677",
          "2024-08-20T12:16:14.236512661",
          "2024-08-20T12:16:14.305328131",
          "2024-08-20T12:16:14.363680601",
          "2024-08-20T12:16:14.429505348",
          "2024-08-20T12:16:14.491366386",
          "2024-08-20T12:16:14.559155703",
          "2024-08-20T12:16:14.622988224",
          "2024-08-20T12:16:14.683823109",
          "2024-08-20T12:16:14.749647856",
          "2024-08-20T12:16:14.815474033",
          "2024-08-20T12:16:14.942689419",
          "2024-08-20T12:16:14.996544361",
          "2024-08-20T12:16:15.050402403",
          "2024-08-20T12:16:15.096278429",
          "2024-08-20T12:16:15.142211437",
          "2024-08-20T12:16:15.197064161",
          "2024-08-20T12:16:15.259902715",
          "2024-08-20T12:16:15.330705404",
          "2024-08-20T12:16:15.396497011",
          "2024-08-20T12:16:15.454342842",
          "2024-08-20T12:16:15.516176462",
          "2024-08-20T12:16:15.581003189",
          "2024-08-20T12:16:15.645887136",
          "2024-08-20T12:16:15.713536263",
          "2024-08-20T12:16:15.772229433",
          "2024-08-20T12:16:15.839612007",
          "2024-08-20T12:16:15.907465696",
          "2024-08-20T12:16:15.965557575",
          "2024-08-20T12:16:16.028423309",
          "2024-08-20T12:16:16.094249487",
          "2024-08-20T12:16:16.161033869",
          "2024-08-20T12:16:16.221873045",
          "2024-08-20T12:16:16.283735752",
          "2024-08-20T12:16:16.347535372",
          "2024-08-20T12:16:16.413395643",
          "2024-08-20T12:16:16.476192474",
          "2024-08-20T12:16:16.546299696",
          "2024-08-20T12:16:16.629079819",
          "2024-08-20T12:16:16.684929371",
          "2024-08-20T12:16:16.736790419",
          "2024-08-20T12:16:16.798627377",
          "2024-08-20T12:16:16.865446091",
          "2024-08-20T12:16:16.926492929",
          "2024-08-20T12:16:17.003689289",
          "2024-08-20T12:16:17.068026304",
          "2024-08-20T12:16:17.116954088",
          "2024-08-20T12:16:17.180784941",
          "2024-08-20T12:16:17.246645451",
          "2024-08-20T12:16:17.312469959",
          "2024-08-20T12:16:17.371610641",
          "2024-08-20T12:16:17.436438084",
          "2024-08-20T12:16:17.505678176",
          "2024-08-20T12:16:17.700255156",
          "2024-08-20T12:16:17.715215206",
          "2024-08-20T12:16:17.781074524",
          "2024-08-20T12:16:17.826915026",
          "2024-08-20T12:16:17.874336004",
          "2024-08-20T12:16:17.919216871",
          "2024-08-20T12:16:17.978058338",
          "2024-08-20T12:16:18.023938417",
          "2024-08-20T12:16:18.077301979",
          "2024-08-20T12:16:18.153097868",
          "2024-08-20T12:16:18.210949183",
          "2024-08-20T12:16:18.271780491",
          "2024-08-20T12:16:18.342592001",
          "2024-08-20T12:16:18.397445917",
          "2024-08-20T12:16:18.460276127",
          "2024-08-20T12:16:18.524105548",
          "2024-08-20T12:16:18.589965820",
          "2024-08-20T12:16:18.653793812",
          "2024-08-20T12:16:18.720581770",
          "2024-08-20T12:16:18.779474258",
          "2024-08-20T12:16:18.844306469",
          "2024-08-20T12:16:18.908523321",
          "2024-08-20T12:16:18.978335142",
          "2024-08-20T12:16:19.094026089",
          "2024-08-20T12:16:19.159850359",
          "2024-08-20T12:16:19.213402510",
          "2024-08-20T12:16:19.274233818",
          "2024-08-20T12:16:19.335072517",
          "2024-08-20T12:16:19.380311966",
          "2024-08-20T12:16:19.438191414",
          "2024-08-20T12:16:19.486337900",
          "2024-08-20T12:16:19.548173428",
          "2024-08-20T12:16:19.614435673",
          "2024-08-20T12:16:19.677235126",
          "2024-08-20T12:16:19.740064621",
          "2024-08-20T12:16:19.807920456",
          "2024-08-20T12:16:19.871726990",
          "2024-08-20T12:16:19.933547735",
          "2024-08-20T12:16:19.997411728",
          "2024-08-20T12:16:20.060209990",
          "2024-08-20T12:16:20.128026724",
          "2024-08-20T12:16:20.190895081",
          "2024-08-20T12:16:20.252728462",
          "2024-08-20T12:16:20.320512533",
          "2024-08-20T12:16:20.381349087",
          "2024-08-20T12:16:20.450168133",
          "2024-08-20T12:16:20.508009911",
          "2024-08-20T12:16:20.576901436",
          "2024-08-20T12:16:20.640777111",
          "2024-08-20T12:16:20.700568438",
          "2024-08-20T12:16:20.764396906",
          "2024-08-20T12:16:20.831218243",
          "2024-08-20T12:16:20.893592358",
          "2024-08-20T12:16:20.956424236",
          "2024-08-20T12:16:21.034921169",
          "2024-08-20T12:16:21.094760180",
          "2024-08-20T12:16:21.155631542",
          "2024-08-20T12:16:21.211953878",
          "2024-08-20T12:16:21.277812719",
          "2024-08-20T12:16:21.340610743",
          "2024-08-20T12:16:21.405436754",
          "2024-08-20T12:16:21.468268633",
          "2024-08-20T12:16:21.532132626",
          "2024-08-20T12:16:21.595961571",
          "2024-08-20T12:16:21.662785530",
          "2024-08-20T12:16:21.727574587",
          "2024-08-20T12:16:21.788411379",
          "2024-08-20T12:16:21.853240013",
          "2024-08-20T12:16:21.919152498",
          "2024-08-20T12:16:21.979023933",
          "2024-08-20T12:16:22.114965916",
          "2024-08-20T12:16:22.173819304",
          "2024-08-20T12:16:22.189765453",
          "2024-08-20T12:16:22.243622065",
          "2024-08-20T12:16:22.301979542",
          "2024-08-20T12:16:22.372381449",
          "2024-08-20T12:16:22.429226637",
          "2024-08-20T12:16:22.494352818",
          "2024-08-20T12:16:22.558182955",
          "2024-08-20T12:16:22.620466948",
          "2024-08-20T12:16:22.689296246",
          "2024-08-20T12:16:22.750136614",
          "2024-08-20T12:16:22.815995932",
          "2024-08-20T12:16:22.878876448",
          "2024-08-20T12:16:22.939754486",
          "2024-08-20T12:16:23.005537271",
          "2024-08-20T12:16:23.067454815",
          "2024-08-20T12:16:23.136214256",
          "2024-08-20T12:16:23.195904970",
          "2024-08-20T12:16:23.263723372",
          "2024-08-20T12:16:23.326404095",
          "2024-08-20T12:16:23.392229080",
          "2024-08-20T12:16:23.451071978",
          "2024-08-20T12:16:23.517899752",
          "2024-08-20T12:16:23.584714890",
          "2024-08-20T12:16:23.644552946",
          "2024-08-20T12:16:23.710378170",
          "2024-08-20T12:16:23.774206638",
          "2024-08-20T12:16:23.837038994",
          "2024-08-20T12:16:23.902899265",
          "2024-08-20T12:16:23.966692924",
          "2024-08-20T12:16:24.029523611",
          "2024-08-20T12:16:24.098378658",
          "2024-08-20T12:16:24.156186581",
          "2024-08-20T12:16:24.222009897",
          "2024-08-20T12:16:24.301798344",
          "2024-08-20T12:16:24.350664854",
          "2024-08-20T12:16:24.414499998",
          "2024-08-20T12:16:24.476333618",
          "2024-08-20T12:16:24.540163040",
          "2024-08-20T12:16:24.607981682",
          "2024-08-20T12:16:24.672324657",
          "2024-08-20T12:16:24.734939814",
          "2024-08-20T12:16:24.796520472",
          "2024-08-20T12:16:24.859352112",
          "2024-08-20T12:16:24.924237728",
          "2024-08-20T12:16:24.991036892",
          "2024-08-20T12:16:25.055827379",
          "2024-08-20T12:16:25.168562651",
          "2024-08-20T12:16:25.223378658",
          "2024-08-20T12:16:25.277269363",
          "2024-08-20T12:16:25.347047329",
          "2024-08-20T12:16:25.397949219",
          "2024-08-20T12:16:25.447778225",
          "2024-08-20T12:16:25.513601541",
          "2024-08-20T12:16:25.567355394",
          "2024-08-20T12:16:25.628190517",
          "2024-08-20T12:16:25.692020416",
          "2024-08-20T12:16:25.755885124",
          "2024-08-20T12:16:25.819678545",
          "2024-08-20T12:16:25.886539221",
          "2024-08-20T12:16:25.949131489",
          "2024-08-20T12:16:26.013958454",
          "2024-08-20T12:16:26.078693628",
          "2024-08-20T12:16:26.143519640",
          "2024-08-20T12:16:26.205090284",
          "2024-08-20T12:16:26.268921852",
          "2024-08-20T12:16:26.334743023",
          "2024-08-20T12:16:26.396163225",
          "2024-08-20T12:16:26.459990978",
          "2024-08-20T12:16:26.530802965",
          "2024-08-20T12:16:26.590641975",
          "2024-08-20T12:16:26.654471159",
          "2024-08-20T12:16:26.718213081",
          "2024-08-20T12:16:26.786028862",
          "2024-08-20T12:16:26.843874216",
          "2024-08-20T12:16:26.908700466",
          "2024-08-20T12:16:26.972530365",
          "2024-08-20T12:16:27.043340445",
          "2024-08-20T12:16:27.102183580",
          "2024-08-20T12:16:27.164018154",
          "2024-08-20T12:16:27.273385286",
          "2024-08-20T12:16:27.321257830",
          "2024-08-20T12:16:27.382095575",
          "2024-08-20T12:16:27.427971363",
          "2024-08-20T12:16:27.504765749",
          "2024-08-20T12:16:27.548648357",
          "2024-08-20T12:16:27.615473986",
          "2024-08-20T12:16:27.676312208",
          "2024-08-20T12:16:27.740140438",
          "2024-08-20T12:16:27.806761503",
          "2024-08-20T12:16:27.870623589",
          "2024-08-20T12:16:27.933420897",
          "2024-08-20T12:16:28.003234625",
          "2024-08-20T12:16:28.061078548",
          "2024-08-20T12:16:28.154828310",
          "2024-08-20T12:16:28.206448078",
          "2024-08-20T12:16:28.264327048",
          "2024-08-20T12:16:28.316189289",
          "2024-08-20T12:16:28.379982948",
          "2024-08-20T12:16:28.446804285",
          "2024-08-20T12:16:28.509667157",
          "2024-08-20T12:16:28.573464155",
          "2024-08-20T12:16:28.638877630",
          "2024-08-20T12:16:28.701742649",
          "2024-08-20T12:16:28.765537739",
          "2024-08-20T12:16:28.830366611",
          "2024-08-20T12:16:28.892197847",
          "2024-08-20T12:16:28.956026554",
          "2024-08-20T12:16:29.024352551",
          "2024-08-20T12:16:29.086186409",
          "2024-08-20T12:16:29.151012659",
          "2024-08-20T12:16:29.212503910",
          "2024-08-20T12:16:29.280323029",
          "2024-08-20T12:16:29.348139763",
          "2024-08-20T12:16:29.406981945",
          "2024-08-20T12:16:29.469735146",
          "2024-08-20T12:16:29.531569481",
          "2024-08-20T12:16:29.597393990",
          "2024-08-20T12:16:29.661501169",
          "2024-08-20T12:16:29.723593950",
          "2024-08-20T12:16:29.789381266",
          "2024-08-20T12:16:29.854513884",
          "2024-08-20T12:16:29.924432278",
          "2024-08-20T12:16:29.982328653",
          "2024-08-20T12:16:30.045651436",
          "2024-08-20T12:16:30.110443592",
          "2024-08-20T12:16:30.171280146",
          "2024-08-20T12:16:30.236106157",
          "2024-08-20T12:16:30.305918694",
          "2024-08-20T12:16:30.364761829",
          "2024-08-20T12:16:30.428591251",
          "2024-08-20T12:16:30.493417263",
          "2024-08-20T12:16:30.556249619",
          "2024-08-20T12:16:30.626084566",
          "2024-08-20T12:16:30.687896252",
          "2024-08-20T12:16:30.806614637",
          "2024-08-20T12:16:30.871407032",
          "2024-08-20T12:16:30.929253340",
          "2024-08-20T12:16:30.978122473",
          "2024-08-20T12:16:31.036021948",
          "2024-08-20T12:16:31.096859932",
          "2024-08-20T12:16:31.140511751",
          "2024-08-20T12:16:31.200352907",
          "2024-08-20T12:16:31.266175031",
          "2024-08-20T12:16:31.326369762",
          "2024-08-20T12:16:31.388169289",
          "2024-08-20T12:16:31.455027103",
          "2024-08-20T12:16:31.519330978",
          "2024-08-20T12:16:31.580135584",
          "2024-08-20T12:16:31.645958900",
          "2024-08-20T12:16:31.710784674",
          "2024-08-20T12:16:31.771656752",
          "2024-08-20T12:16:31.838446140",
          "2024-08-20T12:16:31.907258987",
          "2024-08-20T12:16:31.967431068",
          "2024-08-20T12:16:32.028268576",
          "2024-08-20T12:16:32.099089384",
          "2024-08-20T12:16:32.160914183",
          "2024-08-20T12:16:32.224743605",
          "2024-08-20T12:16:32.285583258",
          "2024-08-20T12:16:32.347416162",
          "2024-08-20T12:16:32.428202152",
          "2024-08-20T12:16:32.476071596",
          "2024-08-20T12:16:32.548875332",
          "2024-08-20T12:16:32.606748343",
          "2024-08-20T12:16:32.667106867",
          "2024-08-20T12:16:32.732671499",
          "2024-08-20T12:16:32.799492836",
          "2024-08-20T12:16:32.863267422",
          "2024-08-20T12:16:32.924104929",
          "2024-08-20T12:16:32.987934113",
          "2024-08-20T12:16:33.078692436",
          "2024-08-20T12:16:33.135137796",
          "2024-08-20T12:16:33.180017233",
          "2024-08-20T12:16:33.244468451",
          "2024-08-20T12:16:33.311290979",
          "2024-08-20T12:16:33.380610704",
          "2024-08-20T12:16:33.443478823",
          "2024-08-20T12:16:33.507271767",
          "2024-08-20T12:16:33.565117121",
          "2024-08-20T12:16:33.627983570",
          "2024-08-20T12:16:33.694771528",
          "2024-08-20T12:16:33.756604671",
          "2024-08-20T12:16:33.819472075",
          "2024-08-20T12:16:33.884301901",
          "2024-08-20T12:16:33.951085329",
          "2024-08-20T12:16:34.015942812",
          "2024-08-20T12:16:34.082733870",
          "2024-08-20T12:16:34.139580965",
          "2024-08-20T12:16:34.205641747",
          "2024-08-20T12:16:34.278481722",
          "2024-08-20T12:16:34.334296465",
          "2024-08-20T12:16:34.397128344",
          "2024-08-20T12:16:34.459961653",
          "2024-08-20T12:16:34.528776169",
          "2024-08-20T12:16:34.589202642",
          "2024-08-20T12:16:34.657021523",
          "2024-08-20T12:16:34.721847773",
          "2024-08-20T12:16:34.779693127",
          "2024-08-20T12:16:34.845558167",
          "2024-08-20T12:16:34.909351110",
          "2024-08-20T12:16:34.978670359",
          "2024-08-20T12:16:35.036588907",
          "2024-08-20T12:16:35.100418568",
          "2024-08-20T12:16:35.166277170",
          "2024-08-20T12:16:35.229074240",
          "2024-08-20T12:16:35.294898033",
          "2024-08-20T12:16:35.396627426",
          "2024-08-20T12:16:35.470429659",
          "2024-08-20T12:16:35.533899546",
          "2024-08-20T12:16:35.587755442",
          "2024-08-20T12:16:35.633633852",
          "2024-08-20T12:16:35.681555748",
          "2024-08-20T12:16:35.740349770",
          "2024-08-20T12:16:35.804176807",
          "2024-08-20T12:16:35.874988794",
          "2024-08-20T12:16:35.934828758",
          "2024-08-20T12:16:35.996936798",
          "2024-08-20T12:16:36.061763048",
          "2024-08-20T12:16:36.124597549",
          "2024-08-20T12:16:36.188092709",
          "2024-08-20T12:16:36.251937628",
          "2024-08-20T12:16:36.319757462",
          "2024-08-20T12:16:36.380624533",
          "2024-08-20T12:16:36.445451021",
          "2024-08-20T12:16:36.510277748",
          "2024-08-20T12:16:36.584500551",
          "2024-08-20T12:16:36.644340515",
          "2024-08-20T12:16:36.701697350",
          "2024-08-20T12:16:36.767521858",
          "2024-08-20T12:16:36.828392982",
          "2024-08-20T12:16:36.892188311",
          "2024-08-20T12:16:36.961858511",
          "2024-08-20T12:16:37.025690794",
          "2024-08-20T12:16:37.085562944",
          "2024-08-20T12:16:37.149357319",
          "2024-08-20T12:16:37.213186264",
          "2024-08-20T12:16:37.277015924",
          "2024-08-20T12:16:37.340923786",
          "2024-08-20T12:16:37.405789852",
          "2024-08-20T12:16:37.469618082",
          "2024-08-20T12:16:37.531413078",
          "2024-08-20T12:16:37.596240282",
          "2024-08-20T12:16:37.662063360",
          "2024-08-20T12:16:37.726890802",
          "2024-08-20T12:16:37.787763119",
          "2024-08-20T12:16:37.855547428",
          "2024-08-20T12:16:37.917381525",
          "2024-08-20T12:16:37.981212378",
          "2024-08-20T12:16:38.046036482",
          "2024-08-20T12:16:38.109570980",
          "2024-08-20T12:16:38.174366713",
          "2024-08-20T12:16:38.235985994",
          "2024-08-20T12:16:38.301046133",
          "2024-08-20T12:16:38.363903999",
          "2024-08-20T12:16:38.431695938",
          "2024-08-20T12:16:38.492533445",
          "2024-08-20T12:16:38.559354544",
          "2024-08-20T12:16:38.626209259",
          "2024-08-20T12:16:38.685063124",
          "2024-08-20T12:16:38.749844551",
          "2024-08-20T12:16:38.819657564",
          "2024-08-20T12:16:38.881402731",
          "2024-08-20T12:16:38.941209078",
          "2024-08-20T12:16:39.004039526",
          "2024-08-20T12:16:39.076845646",
          "2024-08-20T12:16:39.135687113",
          "2024-08-20T12:16:39.195986748",
          "2024-08-20T12:16:39.259816170",
          "2024-08-20T12:16:39.327204943",
          "2024-08-20T12:16:39.386985779",
          "2024-08-20T12:16:39.450998545",
          "2024-08-20T12:16:39.518326283",
          "2024-08-20T12:16:39.581085205",
          "2024-08-20T12:16:39.645912886",
          "2024-08-20T12:16:39.708446026",
          "2024-08-20T12:16:39.772303820",
          "2024-08-20T12:16:39.838095665",
          "2024-08-20T12:16:39.901435614",
          "2024-08-20T12:16:39.965547562",
          "2024-08-20T12:16:40.028379202",
          "2024-08-20T12:16:40.093206644",
          "2024-08-20T12:16:40.157036781",
          "2024-08-20T12:16:40.220864296",
          "2024-08-20T12:16:40.285703659",
          "2024-08-20T12:16:40.347567558",
          "2024-08-20T12:16:40.415346146",
          "2024-08-20T12:16:40.490145683",
          "2024-08-20T12:16:40.540010929",
          "2024-08-20T12:16:40.605837584",
          "2024-08-20T12:16:40.667669058",
          "2024-08-20T12:16:40.736486197",
          "2024-08-20T12:16:40.799316406",
          "2024-08-20T12:16:40.860188723",
          "2024-08-20T12:16:40.924980640",
          "2024-08-20T12:16:40.987322807",
          "2024-08-20T12:16:41.052266598",
          "2024-08-20T12:16:41.116094828",
          "2024-08-20T12:16:41.188935995",
          "2024-08-20T12:16:41.247742176",
          "2024-08-20T12:16:41.311650991",
          "2024-08-20T12:16:41.373488665",
          "2024-08-20T12:16:41.437658548",
          "2024-08-20T12:16:41.507472754",
          "2024-08-20T12:16:41.566313267",
          "2024-08-20T12:16:41.632138252",
          "2024-08-20T12:16:41.696951389",
          "2024-08-20T12:16:41.756791115",
          "2024-08-20T12:16:41.823612928",
          "2024-08-20T12:16:41.885446310",
          "2024-08-20T12:16:41.947316408",
          "2024-08-20T12:16:42.016132832",
          "2024-08-20T12:16:42.075978756",
          "2024-08-20T12:16:42.142799854",
          "2024-08-20T12:16:42.207627058",
          "2024-08-20T12:16:42.267501831",
          "2024-08-20T12:16:42.334329367",
          "2024-08-20T12:16:42.399032593",
          "2024-08-20T12:16:42.460904121",
          "2024-08-20T12:16:42.536894560",
          "2024-08-20T12:16:42.592325926",
          "2024-08-20T12:16:42.652166605",
          "2024-08-20T12:16:42.718005180",
          "2024-08-20T12:16:42.779834986",
          "2024-08-20T12:16:42.843824148",
          "2024-08-20T12:16:42.907660246",
          "2024-08-20T12:16:42.977556467",
          "2024-08-20T12:16:43.037439823",
          "2024-08-20T12:16:43.100963354",
          "2024-08-20T12:16:43.171775341",
          "2024-08-20T12:16:43.229617834",
          "2024-08-20T12:16:43.293076277",
          "2024-08-20T12:16:43.355946779",
          "2024-08-20T12:16:43.420776367",
          "2024-08-20T12:16:43.489561558",
          "2024-08-20T12:16:43.547403097",
          "2024-08-20T12:16:43.651124477",
          "2024-08-20T12:16:43.710998774",
          "2024-08-20T12:16:43.767498255",
          "2024-08-20T12:16:43.824345112",
          "2024-08-20T12:16:43.883220911",
          "2024-08-20T12:16:43.949009657",
          "2024-08-20T12:16:44.006890059",
          "2024-08-20T12:16:44.062737703",
          "2024-08-20T12:16:44.124540567",
          "2024-08-20T12:16:44.189367533",
          "2024-08-20T12:16:44.253229618",
          "2024-08-20T12:16:44.316185713",
          "2024-08-20T12:16:44.379046202",
          "2024-08-20T12:16:44.444174528",
          "2024-08-20T12:16:44.514346600",
          "2024-08-20T12:16:44.572191715",
          "2024-08-20T12:16:44.639078379",
          "2024-08-20T12:16:44.704474688",
          "2024-08-20T12:16:44.763350487",
          "2024-08-20T12:16:44.829139471",
          "2024-08-20T12:16:44.894028425",
          "2024-08-20T12:16:44.956413269",
          "2024-08-20T12:16:45.025400400",
          "2024-08-20T12:16:45.084244251",
          "2024-08-20T12:16:45.152088881",
          "2024-08-20T12:16:45.213922262",
          "2024-08-20T12:16:45.277752161",
          "2024-08-20T12:16:45.347600698",
          "2024-08-20T12:16:45.406036139",
          "2024-08-20T12:16:45.467909098",
          "2024-08-20T12:16:45.534692049",
          "2024-08-20T12:16:45.597522736",
          "2024-08-20T12:16:45.659392357",
          "2024-08-20T12:16:45.726183414",
          "2024-08-20T12:16:45.793002129",
          "2024-08-20T12:16:45.853837729",
          "2024-08-20T12:16:45.916709185",
          "2024-08-20T12:16:45.982528448",
          "2024-08-20T12:16:46.046327353",
          "2024-08-20T12:16:46.109154224",
          "2024-08-20T12:16:46.170989513",
          "2024-08-20T12:16:46.236022949",
          "2024-08-20T12:16:46.299850464",
          "2024-08-20T12:16:46.364199400",
          "2024-08-20T12:16:46.429173470",
          "2024-08-20T12:16:46.495971680",
          "2024-08-20T12:16:46.555811644",
          "2024-08-20T12:16:46.626326084",
          "2024-08-20T12:16:46.684170961",
          "2024-08-20T12:16:46.757974625",
          "2024-08-20T12:16:46.817813396",
          "2024-08-20T12:16:46.876714945",
          "2024-08-20T12:16:46.940485477",
          "2024-08-20T12:16:47.012800694",
          "2024-08-20T12:16:47.068651915",
          "2024-08-20T12:16:47.132986546",
          "2024-08-20T12:16:47.206822395",
          "2024-08-20T12:16:47.259686232",
          "2024-08-20T12:16:47.386310101",
          "2024-08-20T12:16:47.437172651",
          "2024-08-20T12:16:47.497013569",
          "2024-08-20T12:16:47.543887615",
          "2024-08-20T12:16:47.607716322",
          "2024-08-20T12:16:47.665561199",
          "2024-08-20T12:16:47.728394032",
          "2024-08-20T12:16:47.786280394",
          "2024-08-20T12:16:47.846248865",
          "2024-08-20T12:16:47.902099133",
          "2024-08-20T12:16:47.973907232",
          "2024-08-20T12:16:48.028760433",
          "2024-08-20T12:16:48.096580982",
          "2024-08-20T12:16:48.161984444",
          "2024-08-20T12:16:48.220808029",
          "2024-08-20T12:16:48.283670425",
          "2024-08-20T12:16:48.349090099",
          "2024-08-20T12:16:48.412950039",
          "2024-08-20T12:16:48.475680590",
          "2024-08-20T12:16:48.554410934",
          "2024-08-20T12:16:48.622227669",
          "2024-08-20T12:16:48.677082300",
          "2024-08-20T12:16:48.732578278",
          "2024-08-20T12:16:48.808376551",
          "2024-08-20T12:16:48.861769676",
          "2024-08-20T12:16:48.925569057",
          "2024-08-20T12:16:49.130389451",
          "2024-08-20T12:16:49.145349264",
          "2024-08-20T12:16:49.204797268",
          "2024-08-20T12:16:49.248680592",
          "2024-08-20T12:16:49.307520628",
          "2024-08-20T12:16:49.354395866",
          "2024-08-20T12:16:49.398307085",
          "2024-08-20T12:16:49.458119392",
          "2024-08-20T12:16:49.504994154",
          "2024-08-20T12:16:49.563835859",
          "2024-08-20T12:16:49.637637615",
          "2024-08-20T12:16:49.693488598",
          "2024-08-20T12:16:49.772279263",
          "2024-08-20T12:16:49.957781553",
          "2024-08-20T12:16:49.973739862",
          "2024-08-20T12:16:50.034578085",
          "2024-08-20T12:16:50.078537464",
          "2024-08-20T12:16:50.138314486",
          "2024-08-20T12:16:50.185190439",
          "2024-08-20T12:16:50.231067896",
          "2024-08-20T12:16:50.275953293",
          "2024-08-20T12:16:50.339813471",
          "2024-08-20T12:16:50.397620916",
          "2024-08-20T12:16:50.467789412",
          "2024-08-20T12:16:50.526661395",
          "2024-08-20T12:16:50.592426062",
          "2024-08-20T12:16:50.652230978",
          "2024-08-20T12:16:50.718054771",
          "2024-08-20T12:16:50.783918858",
          "2024-08-20T12:16:50.844773531",
          "2024-08-20T12:16:50.909575939",
          "2024-08-20T12:16:50.972373724",
          "2024-08-20T12:16:51.039195061",
          "2024-08-20T12:16:51.115990639",
          "2024-08-20T12:16:51.167850733",
          "2024-08-20T12:16:51.228871584",
          "2024-08-20T12:16:51.291702986",
          "2024-08-20T12:16:51.355562449",
          "2024-08-20T12:16:51.420359612",
          "2024-08-20T12:16:51.487182617",
          "2024-08-20T12:16:51.550013781",
          "2024-08-20T12:16:51.621820211",
          "2024-08-20T12:16:51.675227165",
          "2024-08-20T12:16:51.742013693",
          "2024-08-20T12:16:51.840767384",
          "2024-08-20T12:16:51.902601719",
          "2024-08-20T12:16:51.948479891",
          "2024-08-20T12:16:52.006323338",
          "2024-08-20T12:16:52.068565607",
          "2024-08-20T12:16:52.127442597",
          "2024-08-20T12:16:52.188757658",
          "2024-08-20T12:16:52.252624750",
          "2024-08-20T12:16:52.320444345",
          "2024-08-20T12:16:52.380243301",
          "2024-08-20T12:16:52.445104599",
          "2024-08-20T12:16:52.511892796",
          "2024-08-20T12:16:52.576718092",
          "2024-08-20T12:16:52.636559010",
          "2024-08-20T12:16:52.701385260",
          "2024-08-20T12:16:52.764218569",
          "2024-08-20T12:16:52.829043627",
          "2024-08-20T12:16:52.893871069",
          "2024-08-20T12:16:52.955703735",
          "2024-08-20T12:16:53.022524595",
          "2024-08-20T12:16:53.102823734",
          "2024-08-20T12:16:53.160718679",
          "2024-08-20T12:16:53.218513250",
          "2024-08-20T12:16:53.278518200",
          "2024-08-20T12:16:53.341351271",
          "2024-08-20T12:16:53.405178785",
          "2024-08-20T12:16:53.468009949",
          "2024-08-20T12:16:53.537825823",
          "2024-08-20T12:16:53.600655079",
          "2024-08-20T12:16:53.664532423",
          "2024-08-20T12:16:53.725801706",
          "2024-08-20T12:16:53.787636995",
          "2024-08-20T12:16:53.852016687",
          "2024-08-20T12:16:53.921796083",
          "2024-08-20T12:16:53.980579615",
          "2024-08-20T12:16:54.043408871",
          "2024-08-20T12:16:54.110231400",
          "2024-08-20T12:16:54.175058365",
          "2024-08-20T12:16:54.237909555",
          "2024-08-20T12:16:54.302735806",
          "2024-08-20T12:16:54.363573790",
          "2024-08-20T12:16:54.439370394",
          "2024-08-20T12:16:54.505674600",
          "2024-08-20T12:16:54.556575775",
          "2024-08-20T12:16:54.621365547",
          "2024-08-20T12:16:54.685702324",
          "2024-08-20T12:16:54.758507013",
          "2024-08-20T12:16:54.812362909",
          "2024-08-20T12:16:54.884222269",
          "2024-08-20T12:16:54.940021515",
          "2024-08-20T12:16:55.005850554",
          "2024-08-20T12:16:55.069046736",
          "2024-08-20T12:16:55.132934093",
          "2024-08-20T12:16:55.196768284",
          "2024-08-20T12:16:55.270569801",
          "2024-08-20T12:16:55.329474926",
          "2024-08-20T12:16:55.388601303",
          "2024-08-20T12:16:55.451397657",
          "2024-08-20T12:16:55.521809101",
          "2024-08-20T12:16:55.582866669",
          "2024-08-20T12:16:55.644743443",
          "2024-08-20T12:16:55.708039522",
          "2024-08-20T12:16:55.774860382",
          "2024-08-20T12:16:55.848698854",
          "2024-08-20T12:16:55.903517723",
          "2024-08-20T12:16:55.965970278",
          "2024-08-20T12:16:56.032788038",
          "2024-08-20T12:16:56.092688084",
          "2024-08-20T12:16:56.156456709",
          "2024-08-20T12:16:56.225302219",
          "2024-08-20T12:16:56.291131735",
          "2024-08-20T12:16:56.351935387",
          "2024-08-20T12:16:56.413772106",
          "2024-08-20T12:16:56.478632450",
          "2024-08-20T12:16:56.541461706",
          "2024-08-20T12:16:56.606253862",
          "2024-08-20T12:16:56.667126894",
          "2024-08-20T12:16:56.737072706",
          "2024-08-20T12:16:56.797910452",
          "2024-08-20T12:16:56.859745264",
          "2024-08-20T12:16:56.926205397",
          "2024-08-20T12:16:57.039867163",
          "2024-08-20T12:16:57.100703478",
          "2024-08-20T12:16:57.161543369",
          "2024-08-20T12:16:57.224379301",
          "2024-08-20T12:16:57.279637098",
          "2024-08-20T12:16:57.342443943",
          "2024-08-20T12:16:57.387506008",
          "2024-08-20T12:16:57.436410189",
          "2024-08-20T12:16:57.502428055",
          "2024-08-20T12:16:57.566221237",
          "2024-08-20T12:16:57.641531944",
          "2024-08-20T12:16:57.694428682",
          "2024-08-20T12:16:57.759217501",
          "2024-08-20T12:16:57.822085619",
          "2024-08-20T12:16:57.889868975",
          "2024-08-20T12:16:57.949707508",
          "2024-08-20T12:16:58.013572693",
          "2024-08-20T12:16:58.077366352",
          "2024-08-20T12:16:58.139806509",
          "2024-08-20T12:16:58.203635216",
          "2024-08-20T12:16:58.267492055",
          "2024-08-20T12:16:58.340271473",
          "2024-08-20T12:16:58.398117065",
          "2024-08-20T12:16:58.459951639",
          "2024-08-20T12:16:58.526771784",
          "2024-08-20T12:16:58.589602709",
          "2024-08-20T12:16:58.652434587",
          "2024-08-20T12:16:58.720253468",
          "2024-08-20T12:16:58.780977964",
          "2024-08-20T12:16:58.879713774",
          "2024-08-20T12:16:58.937559366",
          "2024-08-20T12:16:59.003454447",
          "2024-08-20T12:16:59.054319143",
          "2024-08-20T12:16:59.102700710",
          "2024-08-20T12:16:59.163537502",
          "2024-08-20T12:16:59.231873512",
          "2024-08-20T12:16:59.295702934",
          "2024-08-20T12:16:59.365517855",
          "2024-08-20T12:16:59.422363997",
          "2024-08-20T12:16:59.484198570",
          "2024-08-20T12:16:59.549028635",
          "2024-08-20T12:16:59.615846634",
          "2024-08-20T12:16:59.681671381",
          "2024-08-20T12:16:59.741510391",
          "2024-08-20T12:16:59.817307472",
          "2024-08-20T12:16:59.877695560",
          "2024-08-20T12:16:59.933547974",
          "2024-08-20T12:17:00.047241688",
          "2024-08-20T12:17:00.098105907",
          "2024-08-20T12:17:00.155955315"
         ],
         "xaxis": "x2",
         "y": {
          "bdata": "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",
          "dtype": "f8"
         },
         "yaxis": "y2"
        },
        {
         "marker": {
          "color": "lightcoral"
         },
         "name": "Distribution",
         "nbinsx": 30,
         "opacity": 0.7,
         "type": "histogram",
         "x": {
          "bdata": "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",
          "dtype": "f8"
         },
         "xaxis": "x3",
         "yaxis": "y3"
        },
        {
         "line": {
          "color": "lightcoral",
          "width": 1
         },
         "mode": "lines",
         "name": "Raw",
         "opacity": 0.5,
         "type": "scatter",
         "x": {
          "bdata": "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",
          "dtype": "i2"
         },
         "xaxis": "x4",
         "y": {
          "bdata": "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",
          "dtype": "f8"
         },
         "yaxis": "y4"
        },
        {
         "line": {
          "color": "darkred",
          "width": 3
         },
         "mode": "lines",
         "name": "Smoothed (n=40)",
         "type": "scatter",
         "x": {
          "bdata": "AQACAAMABAAFAAYABwAIAAkACgALAAwADQAOAA8AEAARABIAEwAUABUAFgAXABgAGQAaABsAHAAdAB4AHwAgACEAIgAjACQAJQAmACcAKAApACoAKwAsAC0ALgAvADAAMQAyADMANAA1ADYANwA4ADkAOgA7ADwAPQA+AD8AQABBAEIAQwBEAEUARgBHAEgASQBKAEsATABNAE4ATwBQAFEAUgBTAFQAVQBWAFcAWABZAFoAWwBcAF0AXgBfAGAAYQBiAGMAZABlAGYAZwBoAGkAagBrAGwAbQBuAG8AcABxAHIAcwB0AHUAdgB3AHgAeQB6AHsAfAB9AH4AfwCAAIEAggCDAIQAhQCGAIcAiACJAIoAiwCMAI0AjgCPAJAAkQCSAJMAlACVAJYAlwCYAJkAmgCbAJwAnQCeAJ8AoAChAKIAowCkAKUApgCnAKgAqQCqAKsArACtAK4ArwCwALEAsgCzALQAtQC2ALcAuAC5ALoAuwC8AL0AvgC/AMAAwQDCAMMAxADFAMYAxwDIAMkAygDLAMwAzQDOAM8A0ADRANIA0wDUANUA1gDXANgA2QDaANsA3ADdAN4A3wDgAOEA4gDjAOQA5QDmAOcA6ADpAOoA6wDsAO0A7gDvAPAA8QDyAPMA9AD1APYA9wD4APkA+gD7APwA/QD+AP8AAAEBAQIBAwEEAQUBBgEHAQgBCQEKAQsBDAENAQ4BDwEQAREBEgETARQBFQEWARcBGAEZARoBGwEcAR0BHgEfASABIQEiASMBJAElASYBJwEoASkBKgErASwBLQEuAS8BMAExATIBMwE0ATUBNgE3ATgBOQE6ATsBPAE9AT4BPwFAAUEBQgFDAUQBRQFGAUcBSAFJAUoBSwFMAU0BTgFPAVABUQFSAVMBVAFVAVYBVwFYAVkBWgFbAVwBXQFeAV8BYAFhAWIBYwFkAWUBZgFnAWgBaQFqAWsBbAFtAW4BbwFwAXEBcgFzAXQBdQF2AXcBeAF5AXoBewF8AX0BfgF/AYABgQGCAYMBhAGFAYYBhwGIAYkBigGLAYwBjQGOAY8BkAGRAZIBkwGUAZUBlgGXAZgBmQGaAZsBnAGdAZ4BnwGgAaEBogGjAaQBpQGmAacBqAGpAaoBqwGsAa0BrgGvAbABsQGyAbMBtAG1AbYBtwG4AbkBugG7AbwBvQG+Ab8BwAHBAcIBwwHEAcUBxgHHAcgByQHKAcsBzAHNAc4BzwHQAdEB0gHTAdQB1QHWAdcB2AHZAdoB2wHcAd0B3gHfAeAB4QHiAeMB5AHlAeYB5wHoAekB6gHrAewB7QHuAe8B8AHxAfIB8wH0AfUB9gH3AfgB+QH6AfsB/AH9Af4B/wEAAgECAgIDAgQCBQIGAgcCCAIJAgoCCwIMAg0CDgIPAhACEQISAhMCFAIVAhYCFwIYAhkCGgIbAhwCHQIeAh8CIAIhAiICIwIkAiUCJgInAigCKQIqAisCLAItAi4CLwIwAjECMgIzAjQCNQI2AjcCOAI5AjoCOwI8Aj0CPgI/AkACQQJCAkMCRAJFAkYCRwJIAkkCSgJLAkwCTQJOAk8CUAJRAlICUwJUAlUCVgJXAlgCWQJaAlsCXAJdAl4CXwJgAmECYgJjAmQCZQJmAmcCaAJpAmoCawJsAm0CbgJvAnACcQJyAnMCdAJ1AnYCdwJ4AnkCegJ7AnwCfQJ+An8CgAKBAoICgwKEAoUChgKHAogCiQKKAosCjAKNAo4CjwKQApECkgKTApQClQKWApcCmAKZApoCmwKcAp0CngKfAqACoQKiAqMCpAKlAqYCpwKoAqkCqgKrAqwCrQKuAq8CsAKxArICswK0ArUCtgK3ArgCuQK6ArsCvAK9Ar4CvwLAAsECwgLDAsQCxQLGAscCyALJAsoCywLMAs0CzgLPAtAC0QLSAtMC1ALVAtYC1wLYAtkC2gLbAtwC3QLeAt8C4ALhAuIC4wLkAuUC5gLnAugC6QLqAusC7ALtAu4C7wLwAvEC8gLzAvQC9QL2AvcC+AL5AvoC+wL8Av0C/gL/AgADAQMCAwMDBAMFAwYDBwMIAwkDCgMLAwwDDQMOAw8DEAMRAxIDEwMUAxUDFgMXAxgDGQMaAxsDHAMdAx4DHwMgAyEDIgMjAyQDJQMmAycDKAMpAyoDKwMsAy0DLgM=",
          "dtype": "i2"
         },
         "xaxis": "x4",
         "y": {
          "bdata": "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",
          "dtype": "f8"
         },
         "yaxis": "y4"
        }
       ],
       "layout": {
        "annotations": [
         {
          "font": {
           "size": 16
          },
          "showarrow": false,
          "text": "Distance vs Frame Index",
          "x": 0.225,
          "xanchor": "center",
          "xref": "paper",
          "y": 1,
          "yanchor": "bottom",
          "yref": "paper"
         },
         {
          "font": {
           "size": 16
          },
          "showarrow": false,
          "text": "Distance vs Time",
          "x": 0.775,
          "xanchor": "center",
          "xref": "paper",
          "y": 1,
          "yanchor": "bottom",
          "yref": "paper"
         },
         {
          "font": {
           "size": 16
          },
          "showarrow": false,
          "text": "Distance Distribution",
          "x": 0.225,
          "xanchor": "center",
          "xref": "paper",
          "y": 0.375,
          "yanchor": "bottom",
          "yref": "paper"
         },
         {
          "font": {
           "size": 16
          },
          "showarrow": false,
          "text": "Distance Trends",
          "x": 0.775,
          "xanchor": "center",
          "xref": "paper",
          "y": 0.375,
          "yanchor": "bottom",
          "yref": "paper"
         },
         {
          "showarrow": false,
          "text": "Mean: 1.40meters",
          "x": 1.4040110483730173,
          "xanchor": "left",
          "xref": "x3",
          "y": 1,
          "yanchor": "top",
          "yref": "y3 domain"
         }
        ],
        "height": 800,
        "shapes": [
         {
          "line": {
           "color": "red",
           "dash": "dash"
          },
          "type": "line",
          "x0": 1.4040110483730173,
          "x1": 1.4040110483730173,
          "xref": "x3",
          "y0": 0,
          "y1": 1,
          "yref": "y3 domain"
         }
        ],
        "showlegend": true,
        "template": {
         "data": {
          "bar": [
           {
            "error_x": {
             "color": "#2a3f5f"
            },
            "error_y": {
             "color": "#2a3f5f"
            },
            "marker": {
             "line": {
              "color": "#E5ECF6",
              "width": 0.5
             },
             "pattern": {
              "fillmode": "overlay",
              "size": 10,
              "solidity": 0.2
             }
            },
            "type": "bar"
           }
          ],
          "barpolar": [
           {
            "marker": {
             "line": {
              "color": "#E5ECF6",
              "width": 0.5
             },
             "pattern": {
              "fillmode": "overlay",
              "size": 10,
              "solidity": 0.2
             }
            },
            "type": "barpolar"
           }
          ],
          "carpet": [
           {
            "aaxis": {
             "endlinecolor": "#2a3f5f",
             "gridcolor": "white",
             "linecolor": "white",
             "minorgridcolor": "white",
             "startlinecolor": "#2a3f5f"
            },
            "baxis": {
             "endlinecolor": "#2a3f5f",
             "gridcolor": "white",
             "linecolor": "white",
             "minorgridcolor": "white",
             "startlinecolor": "#2a3f5f"
            },
            "type": "carpet"
           }
          ],
          "choropleth": [
           {
            "colorbar": {
             "outlinewidth": 0,
             "ticks": ""
            },
            "type": "choropleth"
           }
          ],
          "contour": [
           {
            "colorbar": {
             "outlinewidth": 0,
             "ticks": ""
            },
            "colorscale": [
             [
              0,
              "#0d0887"
             ],
             [
              0.1111111111111111,
              "#46039f"
             ],
             [
              0.2222222222222222,
              "#7201a8"
             ],
             [
              0.3333333333333333,
              "#9c179e"
             ],
             [
              0.4444444444444444,
              "#bd3786"
             ],
             [
              0.5555555555555556,
              "#d8576b"
             ],
             [
              0.6666666666666666,
              "#ed7953"
             ],
             [
              0.7777777777777778,
              "#fb9f3a"
             ],
             [
              0.8888888888888888,
              "#fdca26"
             ],
             [
              1,
              "#f0f921"
             ]
            ],
            "type": "contour"
           }
          ],
          "contourcarpet": [
           {
            "colorbar": {
             "outlinewidth": 0,
             "ticks": ""
            },
            "type": "contourcarpet"
           }
          ],
          "heatmap": [
           {
            "colorbar": {
             "outlinewidth": 0,
             "ticks": ""
            },
            "colorscale": [
             [
              0,
              "#0d0887"
             ],
             [
              0.1111111111111111,
              "#46039f"
             ],
             [
              0.2222222222222222,
              "#7201a8"
             ],
             [
              0.3333333333333333,
              "#9c179e"
             ],
             [
              0.4444444444444444,
              "#bd3786"
             ],
             [
              0.5555555555555556,
              "#d8576b"
             ],
             [
              0.6666666666666666,
              "#ed7953"
             ],
             [
              0.7777777777777778,
              "#fb9f3a"
             ],
             [
              0.8888888888888888,
              "#fdca26"
             ],
             [
              1,
              "#f0f921"
             ]
            ],
            "type": "heatmap"
           }
          ],
          "histogram": [
           {
            "marker": {
             "pattern": {
              "fillmode": "overlay",
              "size": 10,
              "solidity": 0.2
             }
            },
            "type": "histogram"
           }
          ],
          "histogram2d": [
           {
            "colorbar": {
             "outlinewidth": 0,
             "ticks": ""
            },
            "colorscale": [
             [
              0,
              "#0d0887"
             ],
             [
              0.1111111111111111,
              "#46039f"
             ],
             [
              0.2222222222222222,
              "#7201a8"
             ],
             [
              0.3333333333333333,
              "#9c179e"
             ],
             [
              0.4444444444444444,
              "#bd3786"
             ],
             [
              0.5555555555555556,
              "#d8576b"
             ],
             [
              0.6666666666666666,
              "#ed7953"
             ],
             [
              0.7777777777777778,
              "#fb9f3a"
             ],
             [
              0.8888888888888888,
              "#fdca26"
             ],
             [
              1,
              "#f0f921"
             ]
            ],
            "type": "histogram2d"
           }
          ],
          "histogram2dcontour": [
           {
            "colorbar": {
             "outlinewidth": 0,
             "ticks": ""
            },
            "colorscale": [
             [
              0,
              "#0d0887"
             ],
             [
              0.1111111111111111,
              "#46039f"
             ],
             [
              0.2222222222222222,
              "#7201a8"
             ],
             [
              0.3333333333333333,
              "#9c179e"
             ],
             [
              0.4444444444444444,
              "#bd3786"
             ],
             [
              0.5555555555555556,
              "#d8576b"
             ],
             [
              0.6666666666666666,
              "#ed7953"
             ],
             [
              0.7777777777777778,
              "#fb9f3a"
             ],
             [
              0.8888888888888888,
              "#fdca26"
             ],
             [
              1,
              "#f0f921"
             ]
            ],
            "type": "histogram2dcontour"
           }
          ],
          "mesh3d": [
           {
            "colorbar": {
             "outlinewidth": 0,
             "ticks": ""
            },
            "type": "mesh3d"
           }
          ],
          "parcoords": [
           {
            "line": {
             "colorbar": {
              "outlinewidth": 0,
              "ticks": ""
             }
            },
            "type": "parcoords"
           }
          ],
          "pie": [
           {
            "automargin": true,
            "type": "pie"
           }
          ],
          "scatter": [
           {
            "fillpattern": {
             "fillmode": "overlay",
             "size": 10,
             "solidity": 0.2
            },
            "type": "scatter"
           }
          ],
          "scatter3d": [
           {
            "line": {
             "colorbar": {
              "outlinewidth": 0,
              "ticks": ""
             }
            },
            "marker": {
             "colorbar": {
              "outlinewidth": 0,
              "ticks": ""
             }
            },
            "type": "scatter3d"
           }
          ],
          "scattercarpet": [
           {
            "marker": {
             "colorbar": {
              "outlinewidth": 0,
              "ticks": ""
             }
            },
            "type": "scattercarpet"
           }
          ],
          "scattergeo": [
           {
            "marker": {
             "colorbar": {
              "outlinewidth": 0,
              "ticks": ""
             }
            },
            "type": "scattergeo"
           }
          ],
          "scattergl": [
           {
            "marker": {
             "colorbar": {
              "outlinewidth": 0,
              "ticks": ""
             }
            },
            "type": "scattergl"
           }
          ],
          "scattermap": [
           {
            "marker": {
             "colorbar": {
              "outlinewidth": 0,
              "ticks": ""
             }
            },
            "type": "scattermap"
           }
          ],
          "scattermapbox": [
           {
            "marker": {
             "colorbar": {
              "outlinewidth": 0,
              "ticks": ""
             }
            },
            "type": "scattermapbox"
           }
          ],
          "scatterpolar": [
           {
            "marker": {
             "colorbar": {
              "outlinewidth": 0,
              "ticks": ""
             }
            },
            "type": "scatterpolar"
           }
          ],
          "scatterpolargl": [
           {
            "marker": {
             "colorbar": {
              "outlinewidth": 0,
              "ticks": ""
             }
            },
            "type": "scatterpolargl"
           }
          ],
          "scatterternary": [
           {
            "marker": {
             "colorbar": {
              "outlinewidth": 0,
              "ticks": ""
             }
            },
            "type": "scatterternary"
           }
          ],
          "surface": [
           {
            "colorbar": {
             "outlinewidth": 0,
             "ticks": ""
            },
            "colorscale": [
             [
              0,
              "#0d0887"
             ],
             [
              0.1111111111111111,
              "#46039f"
             ],
             [
              0.2222222222222222,
              "#7201a8"
             ],
             [
              0.3333333333333333,
              "#9c179e"
             ],
             [
              0.4444444444444444,
              "#bd3786"
             ],
             [
              0.5555555555555556,
              "#d8576b"
             ],
             [
              0.6666666666666666,
              "#ed7953"
             ],
             [
              0.7777777777777778,
              "#fb9f3a"
             ],
             [
              0.8888888888888888,
              "#fdca26"
             ],
             [
              1,
              "#f0f921"
             ]
            ],
            "type": "surface"
           }
          ],
          "table": [
           {
            "cells": {
             "fill": {
              "color": "#EBF0F8"
             },
             "line": {
              "color": "white"
             }
            },
            "header": {
             "fill": {
              "color": "#C8D4E3"
             },
             "line": {
              "color": "white"
             }
            },
            "type": "table"
           }
          ]
         },
         "layout": {
          "annotationdefaults": {
           "arrowcolor": "#2a3f5f",
           "arrowhead": 0,
           "arrowwidth": 1
          },
          "autotypenumbers": "strict",
          "coloraxis": {
           "colorbar": {
            "outlinewidth": 0,
            "ticks": ""
           }
          },
          "colorscale": {
           "diverging": [
            [
             0,
             "#8e0152"
            ],
            [
             0.1,
             "#c51b7d"
            ],
            [
             0.2,
             "#de77ae"
            ],
            [
             0.3,
             "#f1b6da"
            ],
            [
             0.4,
             "#fde0ef"
            ],
            [
             0.5,
             "#f7f7f7"
            ],
            [
             0.6,
             "#e6f5d0"
            ],
            [
             0.7,
             "#b8e186"
            ],
            [
             0.8,
             "#7fbc41"
            ],
            [
             0.9,
             "#4d9221"
            ],
            [
             1,
             "#276419"
            ]
           ],
           "sequential": [
            [
             0,
             "#0d0887"
            ],
            [
             0.1111111111111111,
             "#46039f"
            ],
            [
             0.2222222222222222,
             "#7201a8"
            ],
            [
             0.3333333333333333,
             "#9c179e"
            ],
            [
             0.4444444444444444,
             "#bd3786"
            ],
            [
             0.5555555555555556,
             "#d8576b"
            ],
            [
             0.6666666666666666,
             "#ed7953"
            ],
            [
             0.7777777777777778,
             "#fb9f3a"
            ],
            [
             0.8888888888888888,
             "#fdca26"
            ],
            [
             1,
             "#f0f921"
            ]
           ],
           "sequentialminus": [
            [
             0,
             "#0d0887"
            ],
            [
             0.1111111111111111,
             "#46039f"
            ],
            [
             0.2222222222222222,
             "#7201a8"
            ],
            [
             0.3333333333333333,
             "#9c179e"
            ],
            [
             0.4444444444444444,
             "#bd3786"
            ],
            [
             0.5555555555555556,
             "#d8576b"
            ],
            [
             0.6666666666666666,
             "#ed7953"
            ],
            [
             0.7777777777777778,
             "#fb9f3a"
            ],
            [
             0.8888888888888888,
             "#fdca26"
            ],
            [
             1,
             "#f0f921"
            ]
           ]
          },
          "colorway": [
           "#636efa",
           "#EF553B",
           "#00cc96",
           "#ab63fa",
           "#FFA15A",
           "#19d3f3",
           "#FF6692",
           "#B6E880",
           "#FF97FF",
           "#FECB52"
          ],
          "font": {
           "color": "#2a3f5f"
          },
          "geo": {
           "bgcolor": "white",
           "lakecolor": "white",
           "landcolor": "#E5ECF6",
           "showlakes": true,
           "showland": true,
           "subunitcolor": "white"
          },
          "hoverlabel": {
           "align": "left"
          },
          "hovermode": "closest",
          "mapbox": {
           "style": "light"
          },
          "paper_bgcolor": "white",
          "plot_bgcolor": "#E5ECF6",
          "polar": {
           "angularaxis": {
            "gridcolor": "white",
            "linecolor": "white",
            "ticks": ""
           },
           "bgcolor": "#E5ECF6",
           "radialaxis": {
            "gridcolor": "white",
            "linecolor": "white",
            "ticks": ""
           }
          },
          "scene": {
           "xaxis": {
            "backgroundcolor": "#E5ECF6",
            "gridcolor": "white",
            "gridwidth": 2,
            "linecolor": "white",
            "showbackground": true,
            "ticks": "",
            "zerolinecolor": "white"
           },
           "yaxis": {
            "backgroundcolor": "#E5ECF6",
            "gridcolor": "white",
            "gridwidth": 2,
            "linecolor": "white",
            "showbackground": true,
            "ticks": "",
            "zerolinecolor": "white"
           },
           "zaxis": {
            "backgroundcolor": "#E5ECF6",
            "gridcolor": "white",
            "gridwidth": 2,
            "linecolor": "white",
            "showbackground": true,
            "ticks": "",
            "zerolinecolor": "white"
           }
          },
          "shapedefaults": {
           "line": {
            "color": "#2a3f5f"
           }
          },
          "ternary": {
           "aaxis": {
            "gridcolor": "white",
            "linecolor": "white",
            "ticks": ""
           },
           "baxis": {
            "gridcolor": "white",
            "linecolor": "white",
            "ticks": ""
           },
           "bgcolor": "#E5ECF6",
           "caxis": {
            "gridcolor": "white",
            "linecolor": "white",
            "ticks": ""
           }
          },
          "title": {
           "x": 0.05
          },
          "xaxis": {
           "automargin": true,
           "gridcolor": "white",
           "linecolor": "white",
           "ticks": "",
           "title": {
            "standoff": 15
           },
           "zerolinecolor": "white",
           "zerolinewidth": 2
          },
          "yaxis": {
           "automargin": true,
           "gridcolor": "white",
           "linecolor": "white",
           "ticks": "",
           "title": {
            "standoff": 15
           },
           "zerolinecolor": "white",
           "zerolinewidth": 2
          }
         }
        },
        "title": {
         "text": "Real-World Distance Analysis"
        },
        "xaxis": {
         "anchor": "y",
         "domain": [
          0,
          0.45
         ],
         "title": {
          "text": "Frame Index"
         }
        },
        "xaxis2": {
         "anchor": "y2",
         "domain": [
          0.55,
          1
         ],
         "title": {
          "text": "Time"
         }
        },
        "xaxis3": {
         "anchor": "y3",
         "domain": [
          0,
          0.45
         ],
         "title": {
          "text": "Distance (meters)"
         }
        },
        "xaxis4": {
         "anchor": "y4",
         "domain": [
          0.55,
          1
         ],
         "title": {
          "text": "Frame Index"
         }
        },
        "yaxis": {
         "anchor": "x",
         "domain": [
          0.625,
          1
         ],
         "title": {
          "text": "Distance (meters)"
         }
        },
        "yaxis2": {
         "anchor": "x2",
         "domain": [
          0.625,
          1
         ],
         "title": {
          "text": "Distance (meters)"
         }
        },
        "yaxis3": {
         "anchor": "x3",
         "domain": [
          0,
          0.375
         ],
         "title": {
          "text": "Frequency"
         }
        },
        "yaxis4": {
         "anchor": "x4",
         "domain": [
          0,
          0.375
         ],
         "title": {
          "text": "Distance (meters)"
         }
        }
       }
      }
     },
     "metadata": {},
     "output_type": "display_data"
    }
   ],
   "source": [
    "# Real-world distance analysis and plotting using utility function\n",
    "iau.plot_real_world_distance_analysis(distance_results, image_shape=image_shape, sonar_coverage_meters=sonar_coverage_meters)"
   ]
  },
  {
   "cell_type": "code",
   "execution_count": 7,
   "id": "c10a8be6",
   "metadata": {},
   "outputs": [
    {
     "name": "stdout",
     "output_type": "stream",
     "text": [
      "🎯 LOADING DVL DATA FOR COMPARISON: 2024-08-20_14-16-05\n",
      "============================================================\n",
      "🎯 LOADING ALL DISTANCE DATA FOR BAG: 2024-08-20_14-16-05\n",
      "============================================================\n",
      "📡 1. Loading Navigation Data...\n",
      "   ✅ Loaded 420 navigation records\n",
      "📡 2. Loading Guidance Data...\n",
      "   ✅ Loaded 443 guidance records with ['error_net_distance', 'desired_net_distance', 'r_net_distance_d']\n",
      "📡 3. Loading DVL Altimeter...\n",
      "   ❌ DVL altimeter file not found\n",
      "📡 4. Loading USBL...\n",
      "   ✅ Loaded 23 USBL records\n",
      "📡 5. Loading DVL Position...\n",
      "   ✅ Loaded 231 DVL position records\n",
      "📡 6. Loading Navigation Position...\n",
      "   ✅ Loaded 223 navigation position records\n",
      "📡 7. Loading INS Z Position...\n",
      "   ❌ INS file not found\n",
      "\n",
      "📊 LOADING SUMMARY:\n",
      "   🎯 Target bag: 2024-08-20_14-16-05\n",
      "   📁 Raw data loaded: 2/2\n",
      "   📏 Distance measurements: 4\n",
      "\n",
      "📊 RAW DATA LOADED:\n",
      "   ✅ navigation: 420 records\n",
      "   ✅ guidance: 443 records\n",
      "\n",
      "📏 DISTANCE MEASUREMENTS LOADED:\n",
      "   ✅ USBL_3D: 23 records - 3D acoustic position\n",
      "   ✅ USBL_Depth: 23 records - USBL depth measurement\n",
      "   ✅ DVL_Position: 231 records - 3D DVL position\n",
      "   ✅ Nav_Position: 223 records - 2D navigation position\n"
     ]
    }
   ],
   "source": [
    "# 🔄 COMPARISON: SONAR vs DVL DISTANCE MEASUREMENTS\n",
    "# =================================================\n",
    "import utils.net_distance_analysis as sda\n",
    "\n",
    "print(f\"🎯 LOADING DVL DATA FOR COMPARISON: {TARGET_BAG}\")\n",
    "print(\"=\" * 60)\n",
    "\n",
    "# IMPORTANT: Pass the by_bag folder, not just the exports root\n",
    "# The function expects the folder containing the CSV files\n",
    "from utils.sonar_config import EXPORTS_SUBDIRS\n",
    "BY_BAG_FOLDER = EXPORTS_FOLDER / EXPORTS_SUBDIRS.get('by_bag', 'by_bag')\n",
    "\n",
    "# Load all distance data for the target bag\n",
    "raw_data, distance_measurements = sda.load_all_distance_data_for_bag(TARGET_BAG, BY_BAG_FOLDER)\n",
    "\n",
    "# Display what we loaded\n",
    "print(f\"\\n📊 RAW DATA LOADED:\")\n",
    "for key, data in raw_data.items():\n",
    "    if data is not None:\n",
    "        print(f\"   ✅ {key}: {len(data)} records\")\n",
    "    else:\n",
    "        print(f\"   ❌ {key}: None\")\n",
    "\n",
    "print(f\"\\n📏 DISTANCE MEASUREMENTS LOADED:\")\n",
    "for key, info in distance_measurements.items():\n",
    "    data_len = len(info['data'])\n",
    "    print(f\"   ✅ {key}: {data_len} records - {info['description']}\")"
   ]
  },
  {
   "cell_type": "code",
   "execution_count": 8,
   "id": "0375375e",
   "metadata": {},
   "outputs": [
    {
     "name": "stderr",
     "output_type": "stream",
     "text": [
      "/Users/eirikvarnes/code/SOLAQUA/utils/sonar_image_analysis.py:331: FutureWarning:\n",
      "\n",
      "Series.fillna with 'method' is deprecated and will raise in a future version. Use obj.ffill() or obj.bfill() instead.\n",
      "\n",
      "/Users/eirikvarnes/code/SOLAQUA/utils/sonar_image_analysis.py:338: FutureWarning:\n",
      "\n",
      "Series.fillna with 'method' is deprecated and will raise in a future version. Use obj.ffill() or obj.bfill() instead.\n",
      "\n"
     ]
    },
    {
     "data": {
      "application/vnd.plotly.v1+json": {
       "config": {
        "plotlyServerURL": "https://plot.ly"
       },
       "data": [
        {
         "line": {
          "color": "rgba(255,0,0,0.3)"
         },
         "mode": "lines",
         "name": "Sonar Raw",
         "type": "scatter",
         "x": {
          "bdata": "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",
          "dtype": "f8"
         },
         "xaxis": "x",
         "y": {
          "bdata": "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",
          "dtype": "f8"
         },
         "yaxis": "y"
        },
        {
         "line": {
          "color": "red",
          "width": 3
         },
         "mode": "lines",
         "name": "Sonar Smoothed",
         "type": "scatter",
         "x": {
          "bdata": "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",
          "dtype": "f8"
         },
         "xaxis": "x",
         "y": {
          "bdata": "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",
          "dtype": "f8"
         },
         "yaxis": "y"
        },
        {
         "line": {
          "color": "blue",
          "width": 3
         },
         "mode": "lines",
         "name": "DVL Distance",
         "type": "scatter",
         "x": {
          "bdata": "AAAAAAAAAABsiVD9Z3O3P6l3HgBkbcs/i9sSALYY1D9jDRIA7gLcP9oo6H+ElOE/l1wJADW15D/Gv/V/EzzoP7uOzn9jbes/3MiGfyIA7z+y2vy/6ijxP+fR2z8Z4vI/pYLRf+tX9D+t58y/Wx32P4Xsxv9AKPg/3pz7v6u8+T866ep/mmn7P3Z05391Qf0/CYmTf1bm/j+rmug/4FcAQG69/79MLAFAxsDu/9kGAkCbTup/RAUDQNTS+F+Q0wNAgCoBQDSwBECKnMCf2p8HQEDU/H88cghA/R/rn2NECUBGv+P/gUIKQIas/J+0HQtA/yvhvy/4C0C/gf5/8twMQG1T8J9k4g1Aat3qX7CwDkD2dfJ/zYkPQNeI838tMhBA6471b7+rEEBs1vBf5hQRQMXF9v8WjxFAQ+HrH8/6EUA2y/2//mASQNVl/r9UzxJA8o3wD740E0CuhvkvZrQTQP3T+S+RFhRAZWQAEMabFECY2/o/QBQVQH7b/z/PdBVALgf2b8nTFUBa0/7/5lAWQP0z/78cuxZAPMT9TxcaF0DD7ACwg44XQAeSAADD+BdAeQv275J/GEDJ1fUvPNEYQMTo8S8NQxlAVivyb8DEGUByzvdvODsaQPZ0+f8GoRpAsGryjxwFG0DaSfGv7XobQHQS9l965htAagj+H3ZgHEBavfjfoMgcQJaB9i+4Lh1AoZvzD/+bHUAYpvbv6CceQLkN8a/ohx5ASQD3b3ABH0BxUvGvgGQfQCPs/w+8zx9AKHT5N7ElIEBUovlX518gQHDf+/9ejiBAKt/+H9HGIECUJvmfaQIhQDw8+EfnPSFApgX6Bzt9IUB9U/3vLashQOr0+39O4SFASSf+Z04RIkDWZfsHxlciQGgJ+lfLiCJAvwT/P3S+IkD0gPhHf/AiQKRx/t8+JCNAZwn9D1pZI0DnBvmPO5kjQFjw/h/3zSNAEnT4xyIDJED76vuHLEQkQDHe+b/PeiRAT6n5x86nJECbof23rukkQAFh+1fDHSVAamP+Z1NUJUCruf9vvIMlQIcY+webxCVAQbf/F7v6JUCgOf83dTYmQF5s/LcCaSZAx6H/l8ulJkAsHvjHZNsmQMxi+g/9DydAA7D8VyhIJ0AAAfl/xn0nQPrU+B91tidAISz4pzPyJ0BK0vgvVygoQPVj+9/9WChAZU7673+PKEBLG/8f1s4oQPug/BfnAilAbKf8V5U7KUD4w/r/a/YpQA90/jdANipAI9b573VvKkAzu/vXSpgqQDpk+3ca3CpAbjv4f5EMK0AH+fzXiUErQNmB+X9jgitA/lv8fzKzK0AqGP23fvErQLZn/uccJyxA7NH9l8lhLEBluvsP9ZksQIQC+1dyySxAQRIAYJgALUDijwBA3jwtQDf4/8fCcC1A7UP6xySzLUDa3PYPsuUtQBlh+Q/DGC5AQZD4H91MLkCYbgCgBIouQAp1AOCywi5AXFb5T0v3LkBW9v+f+jUvQGw29u9xZC9AdUr7d2GpL0C4AP9Xx9MvQNvp/wPJAzBAO+z9x7sjMECLDv/rBz4wQLUx/7OpWzBAuvT/D091MEBbVvwHWo8wQBCW/S/hrDBA4mr/K3TIMEBpVf+rhOQwQFHv/ZuE/DBAfXX/n10WMUA8vv+HIjgxQCja/I+xTzFAu8H8h4dpMUCej/3vMoQxQEeR/FtepDFAYlT+JxK6MUBS1f+XPdoxQOw6AFSE8zFAxp/8a+YRMkD0SQCUxS8yQI4q/WOlTTJATVYA5GhmMkAbqvxHs38yQCen/L94mzJAolUAaCG7MkBM5fwz1NgyQM5y/68/8zJAyhX/84sNM0BZX/zrFyczQPHY/5s/RzNAemX9tyljM0Asfv1XcHwzQFwr/St7ljNATRv8Z8ewM0AI0fxfZc4zQDRG/Yum5jNAvUn8H5oHNEDOuf+7SiM0QI6F/auCPDRA49n895RYNEAlGf9f8YE0QBO6/1PnkDRANaz9K5iqNECpI/5jTMY0QLlb/OcV4DRALZf/I2L6NEBbD/z7zho1QAWy/4ONMjVAQ2f/J3JRNUCOa/+nO2s1QDe0/h9yjTVAI8r9X4ynNUAli/5HW8I1QHCP/sck3DVAS2P4q6f0NUBKQAA0QBY2QKgY/gu4LDZApNL87xBJNkBwo/4Dd2I2QEXb/oOyhDZA+Uj+69KiNkBJJ/5nTgY3QM/K/dtTHzdA9PH+ryI6N0CUPP+/L1Q3QClo/afHbTdAhdH9sx6KN0DKOgAI9qo3QObv/Ke9wzdAzzMAmI7eN0A1FQDoUv43QCT9/S/FEzhAZz/8Q80yOEAKwv6zMlI4QEoQ/8fBbjhAUTn9C0qIOECaMgDsDaE4QJf0/8PAujhA1CT8ez7ZOEBkS/5DVPU4QNkd/AvXDTlAOlj/57AqOUAWZP7jmko5QJT4/RdfYzlA3jv9r1l+OUCANv3PHZc5QOCb/4dWsDlAYcn8czbLOUAMqP33XOo5QGaJ/muhAzpA1J7/D5EkOkC2Rfw3bUE6QP39/4upWjpA1Ov94xB6OkBtJPyXk5I6QMcQABx7rDpAs5X/38TLOkD+af7zD+Q6QMjr/gcRAztAa0z/x8YcO0Cs8v0Hajs7QBCZ/JObVjtArIb85/RvO0DKMvxbjYw7QGn9/cdhqDtAvMP/s2zCO0AOOwCgkuE7QIRU/nMg/DtAekgAUKgVPEDWGP0zRjM8QMpl/CtGSzxAOCP865JrPECs3v3LF4M8QDf4/8fCojxA2zb+10i8PEDAAf0jq9U8QK/p+msd9zxAA2n8Sx0PPUCqDP/Dvy09QBFo/+9HRz1A0Pr+R9JgPUCrYf6LGXo9QGV7/6/SnD1AKtz/u5a1PUCf0/6XA9c9QA6i/HdZ8D1ASZP/h0MJPkC1N/17niY+QFn+/dtFQz5AwgMAUJBdPkDfaP+3nXY+QAeY/se3lj5A6RP/y0OxPkD8EQDI+8s+QMVY/F/b6T5AZ03+tyoFP0Bx+P3LUCQ/QI/l/4N/PD9ArkH/B89XP0DH/P/fqHQ/QD0c/HsrjT9ACTf9/1atP0ATh/zLH8U/QJJWAHyF4D9A4ab/3+r6P0A4IQB6Ug5AQGVx/5FpG0BA31T/e8snQEC9Of45PDhAQMf//kNjRUBARyb+LWNRQEAAqP4bXYJAQKCe/507jkBANWL+u5KeQECNY/6zYa1AQOJ+/2dGukBAQ2r+i2zHQEBIHP4PutRAQPuh/wkh5UBAdrH+CU3yQEDx7P/XUf9AQHX3/tssDEFAxKL+h68YQUBd8/7NOCxBQKMI/9tSN0FAGyf/P8BFQUAJPv65xVJBQB+c/tXrX0FAONP+s1huQUBWTf6RY3xBQG0iACZTi0FAB6L+5eCZQUC3KP/P66ZBQDoYAJaUtEFAZFX+YT3CQUCZ+P5hptJBQAL3/xsC4EFA9PH+ryLsQUDsIv7B/f1BQAq//0/4CEJA1OX/G5wXQkDIg/89kCRCQNej/ufhM0JAsZf+CRRBQkDbH/83/FBCQBiY/u1+XUJABDv+C0RqQkD12v8P1nlCQMb+/gk4hkJAXMr+G2mVQkAKSf4RmqRCQK8P/3EBskJAa/H+f2m/QkBJif9pms5CQNvf/+Wf20JA+B/+OUPoQkBLg/7p1vVCQIqb/8lyB0NA1Oj+f9YTQ0DW3/6bWCBDQGCr/9HJL0NAnSP/h0w8Q0DtGP6j1ElDQJVl/3G/VkNAaZz/t89lQ0A8XP6FFnNDQNeP/qvPg0NA8zf/gUKQQ0Dv7v4B4ZtDQD5Q/z1erUNA6j/+4U22Q0AkB/5N7sVDQLqS/g3D0kNA/UD+QUDkQ0Duz/5t+u5DQLYQAPbz/0NAdhn+080KREAcMv+XFBhEQOHE/zlmJ0RAKoT+1/M1REAtrv7D7kNEQMv0/zVWUURAYxX/D2FeRED3Cv7DRWtEQGFy/oGNeERAwBL++8KIREB+jf55VZVEQPXJ/jf+okRAcNb+0y+vRED4ov75hL9EQOsh/ocSzkRAuj7/f1TaREBpi/7f9+ZEQL6z/hWA9ERAyG//AT4DRUALJQDwaRRFQPHY/5t/HkVAfSEAEi8tRUAKHf/7TztFQONC/7NPSUVAy6P/C2JYRUA+jf8rQIdFQA6j/2nTk0VAwhr/75yhRUAaXP45CLJFQLDQ/1mQv0VA4Ir+rz7ORUBmIf+hoNpFQAJV/8dZ60VAJ1f/hz74RUCeDADofwRGQK/7/jUvEkZAjisAVl8hRkDYFv4JNy5GQOGp/kPlPEZA5IL+BSxKRkAtq/9ftFdGQHls/nEYZ0ZAAgT/nWV0RkA2d/4xUIVGQP9+/mnNkEZAco3/nVWeRkAyif75i65GQPwU/yt2vEZAi7P+o6rIRkDiav8rdNZGQPJY/j8440ZALaH/QcvyRkCfO/5hhP1GQKz5/sFYDUdA2VD/kx4bR0B4+f5PAyhHQCgv/w/aN0dANtL+eW1ER0BdR/5bJ1JHQE4q/hXQX0dA",
          "dtype": "f8"
         },
         "xaxis": "x",
         "y": {
          "bdata": "AAAAIK5H+T8AAAAgrkf5PwAAAGC4Hvk/AAAA4KNw+T8AAADgo3D5PwAAACCuR/k/AAAAIK5H+T8AAAAgrkf5PwAAACCuR/k/AAAAgML1+D8AAACAwvX4PwAAAIDC9fg/AAAAwMzM+D8AAABguB75PwAAAMDMzPg/AAAAYLge+T8AAACAwvX4P//////Wo/g/AAAAwMzM+D//////1qP4PwAAAMDMzPg/AAAAQOF6+D//////1qP4PwAAAEDhevg/AAAAgOtR+D//////1qP4PwAAAEDhevg//////9aj+D8AAABA4Xr4PwAAAIDrUfg/AAAAwMzM+D//////1qP4PwAAAIDrUfg/AAAAgOtR+D8AAADA9Sj4PwAAAEDhevg/AAAAwPUo+D8AAADA9Sj4PwAAAIDrUfg/AAAAwPUo+D8AAACA61H4PwAAAEDhevg/AAAAQOF6+D8AAABA4Xr4PwAAAIDrUfg/AAAAwMzM+D8AAACA61H4PwAAAMDMzPg/AAAAQOF6+D//////1qP4PwAAAMDMzPg/AAAAgOtR+D8AAACA61H4PwAAAAAAAPg/AAAAwB6F9z8BAAAAKVz3PwAAAMAehfc/AQAAAClc9z8AAACAPQr3PwAAAOBRuPY/AAAAoEfh9j8AAADgUbj2PwAAAOBRuPY/AAAAIFyP9j8AAABgZmb2PwAAACBcj/Y/AAAAIFyP9j8AAACgcD32PwAAAOB6FPY/AAAAYGZm9j8AAABgZmb2PwAAACCF6/U/AAAA4HoU9j8AAADgehT2PwAAACCF6/U/AAAA4HoU9j8AAADgehT2PwAAAKBwPfY/AAAAYI/C9T8AAAAghev1PwAAAGCPwvU/AAAAYI/C9T8AAADgehT2PwAAACCF6/U/AAAA4HoU9j8AAAAghev1PwAAAGCPwvU/AAAA4HoU9j8AAABgj8L1PwAAAGCPwvU/AAAA4KNw9T8AAACgcD32PwAAAGCPwvU/AAAAYI/C9T8AAADgehT2PwAAAOB6FPY/AAAAIIXr9T8AAABgj8L1PwAAAGCPwvU/AAAAIIXr9T8AAABgj8L1PwAAAKCZmfU/AAAAoJmZ9T8AAADgo3D1PwAAACCuR/U/AAAAYI/C9T8AAACgmZn1PwAAAGCPwvU/AAAA4KNw9T8AAADgo3D1PwAAAOCjcPU/AAAA4KNw9T8AAABgj8L1PwAAAOCjcPU/AAAAYI/C9T8AAADgehT2PwAAAKCZmfU/AAAAYI/C9T8AAABgj8L1PwAAAOB6FPY/AAAAoHA99j8AAADgehT2PwAAAKBwPfY/AAAA4HoU9j8AAADgehT2PwAAACBcj/Y/AAAAYGZm9j8AAABgZmb2PwAAAOBRuPY/AAAAYGZm9j8AAAAgXI/2PwAAAKBH4fY/AAAA4FG49j8AAABAMzP3PwAAAKBH4fY/AAAAYGZm9j8AAACgcD32PwAAAKBwPfY/AAAAYI/C9T8AAACgmZn1PwAAAOCjcPU/AAAAIK5H9T8AAACAwvX0PwAAAGC4HvU/AAAAYLge9T8AAABguB71PwAAAGC4HvU/AAAAYLge9T8AAADAzMz0PwAAACCuR/U/AAAAIK5H9T8AAACAwvX0PwAAAOCjcPU/AAAA4KNw9T8AAACgmZn1PwAAAGC4HvU/AAAA4KNw9T8AAADgo3D1PwAAAGCPwvU/AAAAoHA99j8AAABgj8L1PwAAACCF6/U/AAAAIIXr9T8AAAAghev1PwAAAOB6FPY/AAAAIIXr9T8AAABgZmb2PwAAAKBwPfY/AAAA4HoU9j8AAAAgXI/2PwAAAGBmZvY/AAAA4FG49j8AAADgUbj2PwAAAGBmZvY/AAAAIFyP9j8AAACgR+H2PwAAACBcj/Y/AAAAoEfh9j8AAADgUbj2PwAAAOBRuPY/AAAA4FG49j8AAACAPQr3PwAAAEAzM/c/AAAA4FG49j8AAACgR+H2PwEAAAApXPc/AAAAgD0K9z8AAACAFK73PwAAAMAehfc/AQAAAClc9z8AAACAFK73PwAAAEAK1/c/AAAAQArX9z8AAAAAAAD4PwAAAMD1KPg/AAAAgOtR+D8AAADA9Sj4PwAAAMDMzPg//////9aj+D//////1qP4P//////Wo/g/AAAAYLge+T8AAAAgrkf5PwAAAOCjcPk/AAAA4KNw+T8AAADgehT6PwAAACCF6/k/AAAA4HoU+j8AAADgehT6PwAAACCF6/k/AAAA4HoU+j8AAADgehT6PwAAACBcj/o/AAAAIFyP+j8AAAAgXI/6PwAAAEAzM/s/AAAAgD0K+z8AAABAMzP7PwAAAEAzM/s/AAAAwB6F+z8AAADAHoX7PwEAAAApXPs/AAAAgBSu+z8AAACAFK77PwAAAAAAAPw/AAAAwPUo/D8AAACA61H8P//////Wo/w/AAAAgOtR/D//////1qP8PwAAAMDMzPw/AAAAwMzM/D////9fuB79P////x+uR/0/AAAAoJmZ/T8AAADgo3D9PwAAACCF6/0/AAAAoHA9/j8AAACgcD3+PwAAAOB6FP4/AAAAYGZm/j8AAADgehT+PwAAACCF6/0/AAAAoJmZ/T8AAADAzMz8PwAAAMDMzPw/AAAAgOtR/D8AAADA9Sj8PwAAAIAUrvs/AAAAgBSu+z8AAABAMzP7PwAAAKBH4fo/AAAA4FG4+j8AAAAgXI/6PwAAACBcj/o/AAAAoHA9+j8AAAAghev5PwAAAKCZmfk/AAAA4KNw+T8AAAAgrkf5PwAAAIDC9fg//////9aj+D8AAACA61H4PwAAAEDhevg/AAAAQArX9z8AAABACtf3PwAAAMAehfc/AQAAAClc9z8AAABAMzP3PwAAAKBH4fY/AAAAoEfh9j8AAADgUbj2PwAAACBcj/Y/AAAA4FG49j8AAADgehT2PwAAACCF6/U/AAAAYI/C9T8AAAAghev1PwAAAGCPwvU/AAAAoJmZ9T8AAACgmZn1PwAAAGCPwvU/AAAAYLge9T8AAADgo3D1PwAAAKCZmfU/AAAA4KNw9T8AAAAgrkf1PwAAACCuR/U/AAAA4KNw9T8AAABguB71PwAAAOCjcPU/AAAA4KNw9T8AAACAwvX0PwAAAGC4HvU/AAAAYLge9T8AAACAwvX0PwAAAIDC9fQ/AAAAgML19D8AAADgo3D1PwAAAKCZmfU/AAAAoJmZ9T8AAAAghev1PwAAAAApXOc/AAAAYI/C9T8AAADgehT2PwAAAGBmZvY/AAAAoHA99j8AAACgcD32PwAAAGBmZvY/AAAAgD0K9z8AAACgR+H2PwAAAIA9Cvc/AQAAAClc9z8AAACAFK73PwAAAEAzM/c/AQAAAClc9z8AAADAHoX3PwAAAIAUrvc/AAAAwPUo+D8AAAAAAAD4PwAAAMD1KPg/AAAAgOtR+D//////1qP4PwAAAMDMzPg/AAAAgML1+D8AAACAwvX4PwAAACCuR/k/AAAA4KNw+T8AAAAgrkf5PwAAAKCZmfk/AAAAIIXr+T8AAABgj8L5PwAAACCF6/k/AAAAoJmZ+T8AAACgmZn5PwAAACCuR/k/AAAA4KNw+T8AAABguB75PwAAACCuR/k/AAAA4KNw+T8AAADgo3D5PwAAAIDC9fg/AAAA4KNw+T8AAAAgrkf5P//////Wo/g/AAAAoHA94j8AAACA61H4PwAAAEAK1/c/AAAAQArX9z8BAAAAKVz3PwAAAIA9Cvc/AAAAgD0K9z8AAABgZmb2PwAAAOB6FPY/AAAAYI/C9T8AAADgehT2PwAAAKCZmfU/AAAAYI/C9T8AAAAgrkf1PwAAAGC4HvU/AAAAQOF68D8AAACA61HwPwAAAOCjcPE/AAAAIK5H8T8AAACA61H0PwAAAIDrUfQ/AAAAQArX8z8AAADAHoXzPwAAAEAzM/M/AAAA4FG48j8AAADgUbjyPwAAAGBmZvI/AAAAYI/C8T8AAACgmZnxPwAAACCuR/E/AAAAoJmZ8T8AAAAgrkfxPwAAAGC4HvE/AAAAgML18D//////1qPwPwAAAGC4HvE/AAAAwMzM8D8AAABA4XrwP//////Wo/A/AAAAAClc5z8AAABACtfjPwAAAMDMzOw/AAAAYLge8T8AAACAwvXwPwAAAMDMzPA/AAAAgML18D8AAAAgrkfxPwAAACCuR/E/AAAA4KNw8T8AAADgo3DxPwAAACCF6/E/AAAAYI/C8T8AAADgehTyPwAAACCF6/E/AAAAoHA98j8AAACgcD3yPwAAACBcj/I/AAAAIFyP8j8AAACAPQrzPwAAAIA9CvM/AAAAQDMz8z8AAADAHoXzPwAAAEAK1/M/AAAAAAAA9D8AAABA4Xr0PwAAAEDhevQ/AAAAwMzM9D8AAADAzMz0PwAAAOCjcPU/AAAAoJmZ9T8AAACgmZn1PwAAAGCPwvU/AAAA4HoU9j8AAACgcD32PwAAAOBRuPY/",
          "dtype": "f8"
         },
         "yaxis": "y"
        }
       ],
       "layout": {
        "height": 600,
        "hovermode": "x unified",
        "template": {
         "data": {
          "bar": [
           {
            "error_x": {
             "color": "#2a3f5f"
            },
            "error_y": {
             "color": "#2a3f5f"
            },
            "marker": {
             "line": {
              "color": "#E5ECF6",
              "width": 0.5
             },
             "pattern": {
              "fillmode": "overlay",
              "size": 10,
              "solidity": 0.2
             }
            },
            "type": "bar"
           }
          ],
          "barpolar": [
           {
            "marker": {
             "line": {
              "color": "#E5ECF6",
              "width": 0.5
             },
             "pattern": {
              "fillmode": "overlay",
              "size": 10,
              "solidity": 0.2
             }
            },
            "type": "barpolar"
           }
          ],
          "carpet": [
           {
            "aaxis": {
             "endlinecolor": "#2a3f5f",
             "gridcolor": "white",
             "linecolor": "white",
             "minorgridcolor": "white",
             "startlinecolor": "#2a3f5f"
            },
            "baxis": {
             "endlinecolor": "#2a3f5f",
             "gridcolor": "white",
             "linecolor": "white",
             "minorgridcolor": "white",
             "startlinecolor": "#2a3f5f"
            },
            "type": "carpet"
           }
          ],
          "choropleth": [
           {
            "colorbar": {
             "outlinewidth": 0,
             "ticks": ""
            },
            "type": "choropleth"
           }
          ],
          "contour": [
           {
            "colorbar": {
             "outlinewidth": 0,
             "ticks": ""
            },
            "colorscale": [
             [
              0,
              "#0d0887"
             ],
             [
              0.1111111111111111,
              "#46039f"
             ],
             [
              0.2222222222222222,
              "#7201a8"
             ],
             [
              0.3333333333333333,
              "#9c179e"
             ],
             [
              0.4444444444444444,
              "#bd3786"
             ],
             [
              0.5555555555555556,
              "#d8576b"
             ],
             [
              0.6666666666666666,
              "#ed7953"
             ],
             [
              0.7777777777777778,
              "#fb9f3a"
             ],
             [
              0.8888888888888888,
              "#fdca26"
             ],
             [
              1,
              "#f0f921"
             ]
            ],
            "type": "contour"
           }
          ],
          "contourcarpet": [
           {
            "colorbar": {
             "outlinewidth": 0,
             "ticks": ""
            },
            "type": "contourcarpet"
           }
          ],
          "heatmap": [
           {
            "colorbar": {
             "outlinewidth": 0,
             "ticks": ""
            },
            "colorscale": [
             [
              0,
              "#0d0887"
             ],
             [
              0.1111111111111111,
              "#46039f"
             ],
             [
              0.2222222222222222,
              "#7201a8"
             ],
             [
              0.3333333333333333,
              "#9c179e"
             ],
             [
              0.4444444444444444,
              "#bd3786"
             ],
             [
              0.5555555555555556,
              "#d8576b"
             ],
             [
              0.6666666666666666,
              "#ed7953"
             ],
             [
              0.7777777777777778,
              "#fb9f3a"
             ],
             [
              0.8888888888888888,
              "#fdca26"
             ],
             [
              1,
              "#f0f921"
             ]
            ],
            "type": "heatmap"
           }
          ],
          "histogram": [
           {
            "marker": {
             "pattern": {
              "fillmode": "overlay",
              "size": 10,
              "solidity": 0.2
             }
            },
            "type": "histogram"
           }
          ],
          "histogram2d": [
           {
            "colorbar": {
             "outlinewidth": 0,
             "ticks": ""
            },
            "colorscale": [
             [
              0,
              "#0d0887"
             ],
             [
              0.1111111111111111,
              "#46039f"
             ],
             [
              0.2222222222222222,
              "#7201a8"
             ],
             [
              0.3333333333333333,
              "#9c179e"
             ],
             [
              0.4444444444444444,
              "#bd3786"
             ],
             [
              0.5555555555555556,
              "#d8576b"
             ],
             [
              0.6666666666666666,
              "#ed7953"
             ],
             [
              0.7777777777777778,
              "#fb9f3a"
             ],
             [
              0.8888888888888888,
              "#fdca26"
             ],
             [
              1,
              "#f0f921"
             ]
            ],
            "type": "histogram2d"
           }
          ],
          "histogram2dcontour": [
           {
            "colorbar": {
             "outlinewidth": 0,
             "ticks": ""
            },
            "colorscale": [
             [
              0,
              "#0d0887"
             ],
             [
              0.1111111111111111,
              "#46039f"
             ],
             [
              0.2222222222222222,
              "#7201a8"
             ],
             [
              0.3333333333333333,
              "#9c179e"
             ],
             [
              0.4444444444444444,
              "#bd3786"
             ],
             [
              0.5555555555555556,
              "#d8576b"
             ],
             [
              0.6666666666666666,
              "#ed7953"
             ],
             [
              0.7777777777777778,
              "#fb9f3a"
             ],
             [
              0.8888888888888888,
              "#fdca26"
             ],
             [
              1,
              "#f0f921"
             ]
            ],
            "type": "histogram2dcontour"
           }
          ],
          "mesh3d": [
           {
            "colorbar": {
             "outlinewidth": 0,
             "ticks": ""
            },
            "type": "mesh3d"
           }
          ],
          "parcoords": [
           {
            "line": {
             "colorbar": {
              "outlinewidth": 0,
              "ticks": ""
             }
            },
            "type": "parcoords"
           }
          ],
          "pie": [
           {
            "automargin": true,
            "type": "pie"
           }
          ],
          "scatter": [
           {
            "fillpattern": {
             "fillmode": "overlay",
             "size": 10,
             "solidity": 0.2
            },
            "type": "scatter"
           }
          ],
          "scatter3d": [
           {
            "line": {
             "colorbar": {
              "outlinewidth": 0,
              "ticks": ""
             }
            },
            "marker": {
             "colorbar": {
              "outlinewidth": 0,
              "ticks": ""
             }
            },
            "type": "scatter3d"
           }
          ],
          "scattercarpet": [
           {
            "marker": {
             "colorbar": {
              "outlinewidth": 0,
              "ticks": ""
             }
            },
            "type": "scattercarpet"
           }
          ],
          "scattergeo": [
           {
            "marker": {
             "colorbar": {
              "outlinewidth": 0,
              "ticks": ""
             }
            },
            "type": "scattergeo"
           }
          ],
          "scattergl": [
           {
            "marker": {
             "colorbar": {
              "outlinewidth": 0,
              "ticks": ""
             }
            },
            "type": "scattergl"
           }
          ],
          "scattermap": [
           {
            "marker": {
             "colorbar": {
              "outlinewidth": 0,
              "ticks": ""
             }
            },
            "type": "scattermap"
           }
          ],
          "scattermapbox": [
           {
            "marker": {
             "colorbar": {
              "outlinewidth": 0,
              "ticks": ""
             }
            },
            "type": "scattermapbox"
           }
          ],
          "scatterpolar": [
           {
            "marker": {
             "colorbar": {
              "outlinewidth": 0,
              "ticks": ""
             }
            },
            "type": "scatterpolar"
           }
          ],
          "scatterpolargl": [
           {
            "marker": {
             "colorbar": {
              "outlinewidth": 0,
              "ticks": ""
             }
            },
            "type": "scatterpolargl"
           }
          ],
          "scatterternary": [
           {
            "marker": {
             "colorbar": {
              "outlinewidth": 0,
              "ticks": ""
             }
            },
            "type": "scatterternary"
           }
          ],
          "surface": [
           {
            "colorbar": {
             "outlinewidth": 0,
             "ticks": ""
            },
            "colorscale": [
             [
              0,
              "#0d0887"
             ],
             [
              0.1111111111111111,
              "#46039f"
             ],
             [
              0.2222222222222222,
              "#7201a8"
             ],
             [
              0.3333333333333333,
              "#9c179e"
             ],
             [
              0.4444444444444444,
              "#bd3786"
             ],
             [
              0.5555555555555556,
              "#d8576b"
             ],
             [
              0.6666666666666666,
              "#ed7953"
             ],
             [
              0.7777777777777778,
              "#fb9f3a"
             ],
             [
              0.8888888888888888,
              "#fdca26"
             ],
             [
              1,
              "#f0f921"
             ]
            ],
            "type": "surface"
           }
          ],
          "table": [
           {
            "cells": {
             "fill": {
              "color": "#EBF0F8"
             },
             "line": {
              "color": "white"
             }
            },
            "header": {
             "fill": {
              "color": "#C8D4E3"
             },
             "line": {
              "color": "white"
             }
            },
            "type": "table"
           }
          ]
         },
         "layout": {
          "annotationdefaults": {
           "arrowcolor": "#2a3f5f",
           "arrowhead": 0,
           "arrowwidth": 1
          },
          "autotypenumbers": "strict",
          "coloraxis": {
           "colorbar": {
            "outlinewidth": 0,
            "ticks": ""
           }
          },
          "colorscale": {
           "diverging": [
            [
             0,
             "#8e0152"
            ],
            [
             0.1,
             "#c51b7d"
            ],
            [
             0.2,
             "#de77ae"
            ],
            [
             0.3,
             "#f1b6da"
            ],
            [
             0.4,
             "#fde0ef"
            ],
            [
             0.5,
             "#f7f7f7"
            ],
            [
             0.6,
             "#e6f5d0"
            ],
            [
             0.7,
             "#b8e186"
            ],
            [
             0.8,
             "#7fbc41"
            ],
            [
             0.9,
             "#4d9221"
            ],
            [
             1,
             "#276419"
            ]
           ],
           "sequential": [
            [
             0,
             "#0d0887"
            ],
            [
             0.1111111111111111,
             "#46039f"
            ],
            [
             0.2222222222222222,
             "#7201a8"
            ],
            [
             0.3333333333333333,
             "#9c179e"
            ],
            [
             0.4444444444444444,
             "#bd3786"
            ],
            [
             0.5555555555555556,
             "#d8576b"
            ],
            [
             0.6666666666666666,
             "#ed7953"
            ],
            [
             0.7777777777777778,
             "#fb9f3a"
            ],
            [
             0.8888888888888888,
             "#fdca26"
            ],
            [
             1,
             "#f0f921"
            ]
           ],
           "sequentialminus": [
            [
             0,
             "#0d0887"
            ],
            [
             0.1111111111111111,
             "#46039f"
            ],
            [
             0.2222222222222222,
             "#7201a8"
            ],
            [
             0.3333333333333333,
             "#9c179e"
            ],
            [
             0.4444444444444444,
             "#bd3786"
            ],
            [
             0.5555555555555556,
             "#d8576b"
            ],
            [
             0.6666666666666666,
             "#ed7953"
            ],
            [
             0.7777777777777778,
             "#fb9f3a"
            ],
            [
             0.8888888888888888,
             "#fdca26"
            ],
            [
             1,
             "#f0f921"
            ]
           ]
          },
          "colorway": [
           "#636efa",
           "#EF553B",
           "#00cc96",
           "#ab63fa",
           "#FFA15A",
           "#19d3f3",
           "#FF6692",
           "#B6E880",
           "#FF97FF",
           "#FECB52"
          ],
          "font": {
           "color": "#2a3f5f"
          },
          "geo": {
           "bgcolor": "white",
           "lakecolor": "white",
           "landcolor": "#E5ECF6",
           "showlakes": true,
           "showland": true,
           "subunitcolor": "white"
          },
          "hoverlabel": {
           "align": "left"
          },
          "hovermode": "closest",
          "mapbox": {
           "style": "light"
          },
          "paper_bgcolor": "white",
          "plot_bgcolor": "#E5ECF6",
          "polar": {
           "angularaxis": {
            "gridcolor": "white",
            "linecolor": "white",
            "ticks": ""
           },
           "bgcolor": "#E5ECF6",
           "radialaxis": {
            "gridcolor": "white",
            "linecolor": "white",
            "ticks": ""
           }
          },
          "scene": {
           "xaxis": {
            "backgroundcolor": "#E5ECF6",
            "gridcolor": "white",
            "gridwidth": 2,
            "linecolor": "white",
            "showbackground": true,
            "ticks": "",
            "zerolinecolor": "white"
           },
           "yaxis": {
            "backgroundcolor": "#E5ECF6",
            "gridcolor": "white",
            "gridwidth": 2,
            "linecolor": "white",
            "showbackground": true,
            "ticks": "",
            "zerolinecolor": "white"
           },
           "zaxis": {
            "backgroundcolor": "#E5ECF6",
            "gridcolor": "white",
            "gridwidth": 2,
            "linecolor": "white",
            "showbackground": true,
            "ticks": "",
            "zerolinecolor": "white"
           }
          },
          "shapedefaults": {
           "line": {
            "color": "#2a3f5f"
           }
          },
          "ternary": {
           "aaxis": {
            "gridcolor": "white",
            "linecolor": "white",
            "ticks": ""
           },
           "baxis": {
            "gridcolor": "white",
            "linecolor": "white",
            "ticks": ""
           },
           "bgcolor": "#E5ECF6",
           "caxis": {
            "gridcolor": "white",
            "linecolor": "white",
            "ticks": ""
           }
          },
          "title": {
           "x": 0.05
          },
          "xaxis": {
           "automargin": true,
           "gridcolor": "white",
           "linecolor": "white",
           "ticks": "",
           "title": {
            "standoff": 15
           },
           "zerolinecolor": "white",
           "zerolinewidth": 2
          },
          "yaxis": {
           "automargin": true,
           "gridcolor": "white",
           "linecolor": "white",
           "ticks": "",
           "title": {
            "standoff": 15
           },
           "zerolinecolor": "white",
           "zerolinewidth": 2
          }
         }
        },
        "title": {
         "text": "🔄 Interactive Distance Comparison: Sonar vs DVL"
        },
        "xaxis": {
         "anchor": "y",
         "domain": [
          0,
          1
         ],
         "showgrid": true,
         "title": {
          "text": "Time (seconds)"
         }
        },
        "yaxis": {
         "anchor": "x",
         "domain": [
          0,
          1
         ],
         "showgrid": true,
         "title": {
          "text": "Distance (meters)"
         }
        }
       }
      }
     },
     "metadata": {},
     "output_type": "display_data"
    },
    {
     "name": "stdout",
     "output_type": "stream",
     "text": [
      "\n",
      "📊 SONAR vs DVL COMPARISON STATISTICS:\n",
      "==================================================\n",
      "Sonar mean distance: 1.404 m\n",
      "DVL mean distance:   1.432 m\n",
      "Scale ratio (Sonar/DVL): 0.981x\n",
      "Sonar duration: 46.8s (814 frames)\n",
      "DVL duration:   46.7s (420 records)\n",
      "\n",
      "Comparison stats summary:\n",
      "{'dvl_duration_s': 46.748537778,\n",
      " 'dvl_mean_m': 1.4318809530564718,\n",
      " 'dvl_records': 420,\n",
      " 'scale_ratio': 0.9805361579648337,\n",
      " 'sonar_duration_s': 46.806039054479704,\n",
      " 'sonar_frames': 814,\n",
      " 'sonar_mean_m': 1.4040110483730173}\n"
     ]
    },
    {
     "data": {
      "application/vnd.plotly.v1+json": {
       "config": {
        "plotlyServerURL": "https://plot.ly"
       },
       "data": [
        {
         "line": {
          "color": "rgba(255,0,0,0.3)"
         },
         "mode": "lines",
         "name": "Sonar Raw",
         "type": "scatter",
         "x": {
          "bdata": "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",
          "dtype": "f8"
         },
         "xaxis": "x",
         "y": {
          "bdata": "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",
          "dtype": "f8"
         },
         "yaxis": "y"
        },
        {
         "line": {
          "color": "red",
          "width": 3
         },
         "mode": "lines",
         "name": "Sonar Smoothed",
         "type": "scatter",
         "x": {
          "bdata": "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",
          "dtype": "f8"
         },
         "xaxis": "x",
         "y": {
          "bdata": "McX8xGMu8j9kEWnehX/yP0lYVmpervI/TYrqVTTC8j/Yl0uOTsLyP1dxnwD0tfI/MQcMmmuk8j/fSbdH/JTyP3/TDh2xufI/YR6+yvXG8j9RBhUj+g3zPyCicz32MfM/bJz9KgFA8z8s98+GUMLzP9JG1iSID/Q/+0ELeBY09D9bxkUjlBj0P2184DAR9vM/8UdoPZHn8z+RJeeKXfLzP2gKtYDxPfQ/uhgO4eB29D9HPtzOzKH0P6c1fZJLpPQ/cO0XXGyv9D+q8/32o8r0P6mSku9A3PQ/GX4clCz49D+6QPfrc730P3/t/ytef/Q/C85oSkp29D9QI4+C4WD0P11Q73wQZPQ/4ow8AcqL9D8P6Caq2sT0P+l2JdU7tvQ/AlK2LMnG9D8L5sv68tX0P0lHtnBQ8/Q/2x29UFzW9D8wJH09M830P9H9nV4WxvQ/+K0WppPT9D/+SfNyGuT0Px4OJVyGF/U/lmlsxzw99T+Gb/TUF0D1P9fNCoW7b/U/33N+FKRg9T+JiPMyBlX1P+oau/kBYfU/5pJQbxI/9T/BGuXI+xn1P2pa2HZKyfQ/8Mj0Ja7T9D8eWPp6wNj0P648eMrTz/Q/WUgQ5N379D85kx4y8iz1PxMZfvIMHvU/dFTyvLId9T+wKrgSdCX1P9tPX7sbR/U/v4ALaEJt9T/JFkogVZn1P9xd+svBwPU/pqH6/usy9j9R1vxGHVX2P+ROU+DklvY/ckWLXDuu9j90P98nY6H2P36qtPBhsvY/lcPulZGX9j8aW5iuRW72PzJDH5kJT/Y/pPBtkIYV9j+esIbij1b2P+YeHGW9ZvY/mGQ/4fed9j/asGw5Aez2P3E4m3XPSPc/2zrTz2ZH9z+1Tly/oGb3P8Eu8knHXfc/GsXa1L919z9larOYSaT3P0YtDxt53fc/R4enygUD+D9f96WbCxX4P5Y/M9ZBJPg/hTK6mntc+D/vsUvKGWj4P0F0w2Zwd/g/1EgDXI5s+D+1ux5CJFn4P9OGDNjNIvg/pXuCBFzy9z9u1aosYbP3PxNpL5/6nfc/+vl1q+e29z8fzmv3qrT3P5s/gIcvl/c/pgAiV0mj9z/Vn1nbCsj3P3YXdU957Pc/RT9PjzMP+D8YyNRqISj4P9/wegBQWfg/3d27H+uJ+D91je+H3aP4P5OThZMdxfg/ybQfqczF+D+vlSA5TMv4P1OPZ7eq0vg/BcivVs2q+D/W67u4L4f4P3BFf99CfPg/EOYCI7Z5+D99LoRh8mL4P4fvWR45SPg/BsVZNgY++D9q3MmHJE34P1n/h4mTTvg/g5KsR61A+D/NxaQ78D/4P5Yz4BE+OPg/Npdm4NhF+D9MF4fmiUf4P7zG6pEGYvg/xhAcLQpO+D8uXZNMBT74P+JgvV+SRfg/ma19VLc/+D/cmG30jDH4P80rvIFuO/g/oOVh9mEv+D85vZuUTyj4P3GESwQfEvg/V4ns25YO+D+K6MsOhQ34P/0hLqlMAvg/j7obhljz9z8FkUAdL/j3P9D+1Pltyvc/tfmG1D+79z/VyRyan7v3P10GN5TXnfc/vZnxzzSB9z8pW1M5Q3P3P4wyQNStXPc/EdEEIFlU9z/yGM3FMEH3P8/YXigQN/c/Zjlo9sIo9z9KdzYWHx73PyxF0gU/F/c/scLNkkgW9z+oNWV8XQ73P4gqUZdG/vY/4i32Of3w9j9Psk/uxtr2P4uwPsk/0PY/aJM+enfE9j/R2mZkzMT2P64Jtv/kvfY/QbJY5kmz9j8dW/mHPJ/2P7KUQqonqPY/1mt0yxqq9j+7ljzLdqn2P8CQIFM8qfY/eGphps6g9j/+cRSnwo32P79ChO6kffY/x5xheZZq9j+qxaDxwlX2P7a5KQidTfY/qMOAVt9C9j9EXbVH+zX2P9ev1u/6KPY/aNVkVEwc9j8fJ+VUKir2P9mqTlxWJvY/bu4Kqqwq9j+Gw9dF+Cz2P5jN4MedKvY/h5J0Mbso9j+BsrHHjiT2P0cP/8YwIPY/ay7gQk4c9j/Rg/qUDCD2P6rIBPRqG/Y/f/0LjjIc9j9X255S9Bb2P8zi0lsrFvY/d1YQPBcb9j9ZKGQ9whr2P2q8T9ttHvY/y2lE+yAk9j+RA3x4rx/2PxG/tZCsHfY/GAc9/+cZ9j9xBGYwwgX2Px1tnxt5AfY/ZN1rR1P99T/wphP8x/r1P7t+wJgAAfY/vy5x6yQK9j+B5tT9mRf2P4F67s2eIvY//BCMDFQk9j/Io22L0iz2PxOOaHiHJvY/+7KdiTEh9j+ODP5RoSX2PycJyjcvKfY/8bJMd5sh9j/x8a4F+Cv2P0n0/rGhNPY/pW3myn859j8AizKqjD/2PzjSCaKkOfY/uCUQVctH9j+KD+w+TlD2P/HCB8VmVvY/DjBPTTZb9j8VvkYkUlb2P/bDHIJOWvY/dTXFUL5k9j8KBE7UWGD2P9oJk0i/ZPY/rXmUuepv9j9uBByjNYD2P99sljdqhfY/Kl8w77uH9j/kU1I8eXL2PykwvuPMkPY/AmWz0ESm9j/g0eyRVJ72PxzmJ/AvpfY/pGWrmCCq9j+ssTVbMrv2P7NEjb38vPY/4nKwzt2d9j+tYkKN+pX2P36Z57hxlPY/IM5hwASE9j89grxLjnT2P1fkqaNWX/Y/Iit8uEJP9j/hUp5spVv2P2uOEnS8WvY/NAIrmxZR9j8Lidfm7Gn2PzuJYdNDYvY/92vxuBBn9j9qrzxhN1L2Py/2UAEJKvY/OhlY62AO9j/uBycKmeb1P8sJgO4ftPU/6vmNKauE9T+gGqZSX2D1P5uE9MSjTPU/hBJuQnFK9T+Sdzr9QFH1P7TcY6TgVvU/GL219Epi9T+6L9lm+WT1P3lWzHkeePU/RLCVMpOA9T+IAXam35H1P5l1WYgAkfU/6cpaCL6K9T9nph7RFZf1P44Sz35ZmfU/VjeKbnah9T/NGK2KdKj1PzPoAqPJuPU/9jqesJGy9T+IdC/aRr71P8Uyff3BzfU/jRenn87P9T8rakcsbb71P4y32647yPU/N8LwbNbA9T+ufpm4M7r1P7PAUnrMvPU/QQIN/UnB9T9BLIVBcLL1P9mZsOOam/U/a8CocnSM9T9fjO3Oooj1P2YP21GjhPU/T2d/dkeT9T+JMEZzU4/1P8+KRMcCf/U/IkoU8f1u9T/9D13W1231PwUxocRzUPU/3VWd4blO9T+u4n9n3Dn1Pzg9xRn3DPU/WPB2xtn79D/JZX1xruz0P213zOm/5/Q/qM8CsVTq9D/frpx32+z0Pz8tTUbz7/Q/ReaY0nvX9D+n68F4Stj0P6zkp2Jy1PQ/J1EWowDM9D9XqDnmy870P173nF+fyvQ/VKRFPUu49D94gTN4RJf0P9Ye6XyLn/Q/ZMinVESc9D/PvliXeZb0PynWc0YSm/Q/+oy/GVCS9D8BB/sJeJj0P8ncsFjnnvQ/yjbiTjK39D+gkQNtjrX0P5kJ5KPfsfQ/C/ImyDzA9D90Sqq/Z670P4a/KpGUnPQ/aD9n6iiS9D/RP4eW7KD0P3QkGLQapPQ/Zs/WtY2X9D+5EvsH2Jz0P35ZbiRklfQ/5CDe8QCt9D9KRsga18D0P+h6vTX+x/Q/2WCnrcnJ9D/DCgAwn+H0P0jBUecZ//Q/e24bWzEO9T9INvu8yyv1P7SSJyuHUvU/MoWZrSl/9T+EhCT99Jf1P1heyIjqpvU/cYVyFry99T/pDbdxqMX1P/TAZ+zT1/U/y19JJrHk9T9TujjrP/D1P2BATILA9vU/miOHBIgV9j9g8ArhRyf2P/Nd2pNLNPY/VRdWBdE+9j/DaAZUN0j2P5ojtFm0VfY/1a/IdPJb9j/Vwh5Ta1n2P59N6strXPY/dlVx0nxc9j9xYbMVQ2P2P/6WHHpyX/Y/DwPdHuBe9j/rr1s6r1H2P0gtv2GEU/Y/9qYbplth9j/1JArm63X2P+XajFv1jfY/aP9xI9eb9j+INgC8taz2P8Nfk67kwvY/kA3JVfLH9j87pZ+56cf2P9S6hU1txfY/jIZP7Lu99j+YE8Gpe7v2P9p+uXK8xfY/VmMrY6669j95L8XRYcj2P3KOhcV06fY/X96UsH8T9z8e+KNL2Tn3P5P2mbSZVvc/VRB1IlB89z9VkL3Ck4P3P/IrFf7dkvc/879mdeSc9z+EAhgl8an3PwecJTzO1/c/DXInlt399z9OSx6HxAb4P0Dmcbgyx/c/xDQaZYSa9z+DigKnJHv3P4BxET/ldfc/dDiutKhZ9z/OYmFdYVn3P3mUHmoCXvc/HVVpQKxY9z9S3qRrdn/3P1XcRv9gmvc/H6oqK3XE9z807k38RR34P9PgzYBqP/g/WnGxICVO+D+6eM1Ft034P7cAZIP7c/g/Zw9xPkuX+D9EjyDancH4P5yrL5O80Pg/iz6UAsrx+D+mqQbhHAL5P//DaYq+C/k/C854420L+T9aNiizWwD5P9+aLEZa/fg/nNXKEm4N+T+8SbFuEwf5P88gNgoaH/k/3NIgo4g++T8jxXpj3l35P0I/lXsNevk/5aWESIaW+T98Dek5e7P5P6Z8cXOawPk//XN/5U3b+T+fd6s5APv5PwAKdHLPDfo/Rw5k3WMD+j9J9lOdG/D5PzjjyL8b5fk/YFPOCmXe+T8NJP0j/M/5P1SfrJq3n/k/K3BbSlp/+T+TeOGeH2f5P7nvQOMsZfk/BZ+hxWde+T8eLK2XFGn5Px1LzL47fvk/gNmUf3qM+T9QvKRpMZT5PwOGq3fZj/k/Ct0fgTWM+T+CQdYWJpL5P9JbRcj0dPk/ztgkA09Y+T9jRgnCyyT5P2SrugIsM/k/ZcO/xnVZ+T/k2RnbxHb5PyrKSnZpb/k/6ZvgQiZq+T8GdEeBAzr5P3gOQ1L1B/k/5CB9dR/X+D+doCPCOpn4P3nv7IanZ/g/Sy/KupMj+D+B0jjZeu/3PyBMnZ292fc/bPWGDRfC9z+3La+iL9j3Pwj7TZTn6fc/adsR9yO+9z8QNPniusj3Py9o9ZIg2Pc/twAjWQjl9z+Pz80FawL4P1RoKnyAIfg/XfqHv8RE+D/A65AH1XT4PzB3tEwhhPg/nlb/TJCp+D9IcEok7pr4P9FKfq/0m/g/ysK2wQ5o+D9F0Kg//lH4PxdnJLnt6Pc/dnj8d4Ld9z9RjONALdr3P57R4JcV7Pc/DULZ37sr+D9LHC4YhIr4P+aUnJJFs/g/m7e3cGjp+D9aTC0UtfX4P2LNmc189fg/pqiDAOT6+D+zSbkV7SX5P6XrSp0mHPk/s2BsVsIh+T9l+R5WFsz4P6o7lcGj/Pg/N9XiPFhA+T82Aa6KN4v5P8tHpDwO0vk/PneTtscK+j/DZoMzyBX6P6GfpQ9yCvo/HkImNRPW+T9h9m78U7H5P02ALfCMmfk/CqU8Q5JZ+T8OKORnZyb5P4D7Wx9s4/g/1BUaM4mq+D+gn3lJibH4P5kM4EJMivg/ojZD0a5Y+D8+0qyALCn4P/WThnm+Gvg/8r09wVDK9z/WezsEVMb3P23xW+4kxvc/xNxAmQDF9z+Ekr2HtsH3PwxkmqGnnPc/CXDQXO5a9z9EZ2GIF2/3P7b+wWaxffc/fN1lH5509z8M4ZJt2BT3Pz9e3lApJfc/hUIaqV4n9z+9DUmsLRP3P1Ygo2oK3PY/18fZjCoX9z8ZCqGIrwH3P1bQNee3Ivc/zumDQiUI9z8zU/N6n7X2PxNPFQdkb/Y/56RGUmFw9j/2h4rsFDT2P2N95c8g2fU/4srGQ0qq9T9eWWRMk/X1Pyk7h+HxBPY/F454YDv99T/tsWboJOn1P9HivcNkGvY/E7xKrgxL9j/g4irxrIz2Pz/YEtdNifY/01awmW6N9j+PTTfVJo72P7SAdPE6TPY/jNicd85E9j8Up5+OtTL2P0pT8JnocvY/bcEjSNCm9j80R8Y5Osr2P7H9Zbbb3vY/zP3P4c/l9j8ZryXJExr3P1YWd0RJLfc/nkkVbWf+9j8pkBzht+T2P1eDmK7ovfY/yT55TdGr9j/q9Yb5CaH2PxuJxWAEsPY/PdsyLJ+f9j+y1qt7/Mz2P+OKN3/U+fY/AyJe3u4d9z+aKszfAUL3PzG6VDgUQ/c/LezPAG1H9z9fM5LVKSP3P/6fiIEp4/Y/FaxVCFnf9j+YJcUHqNX2P/+PdPSQ8/Y/6lFTS5f39j9zyikBCfL2P04o0Wnc8PY/nWY4yMYG9z/6sF/kTOv2P+zmlP3b2vY/pkilp4zK9j89y5QmUrr2Pz4Fy9TytvY/P9DqqjC29j9oyyXAMZz2P7ECIZZ4h/Y/6/ABwQ6P9j8P/YueZrX2P+w9DXS4qfY/vPCv4uSy9j+V2e3U4rr2PyIWr6DapvY/BfqXoSGt9j/TjFAaO5z2Pxd2I0QFkPY/4SAGSWGS9j8D42ecspn2PwwgtuX7lvY/GhpW30999j8a0q9nDIb2P5hmCTUJqfY/6V2eecy79j+yparyl6T2P1HH898DqfY/pu7Lbomy9j/g3FnBoMT2P8Cnyu/g6fY/NJ/IWGjF9j/lBoebjMz2P0crEyye3vY/YAKVMZb39j8tpyQGoSH3PxM4BcbIO/c/VMGTXKlY9z8LPS7olG33P7xsVHrydPc/dshQq/CF9z9OdtMSDIz3PwBjnr4ilfc/pxsHK/OW9z8aJ2MX75/3Py4SZPdRwvc/WAQg1ean9z8pmbaqzYD3P2PdeFzDgfc/qHXc776Q9z+t8JT5bpX3P59ooUwFoPc/3ftqpPau9z/z/HjpZrT3P3uM999/yPc/Mun1Iw3n9z8YiopVEwX4P26VB9FNHPg/T1rSKt1V+D8t5lXE71b4PzfAhLV7Dfg/VpZ6yLzs9z8nLF7dGff3PzNuSac4/fc/GJ403BT/9z9c31BnL+73P1N1BFMZ7fc/8cHmdP/h9z+CsvuvduX3P09fQqt37fc/7SLu91/e9z/1wgjLgc/3PyZ/mMIyvPc/L3/n7HKR9z9w7bNiVHr3P3Vl3D43Zfc//R8ekqRX9z8hV9jh90v3P9DUXMZGRfc/BG24HOE89z9oaOdDUkj3P93/typxSPc/Pzq7yoVF9z+xLehy4Tr3P0rioRG0Nfc/U8oakLkr9z9ujGKxMin3P05sOqKBLfc/rL/1Ipkn9z+sAjfKgyP3P2WwMeh8Ifc/CqNzhVAq9z/wut45xTb3P6A/BAUAOPc/bwTCkx059z/N8JR+tUL3P9zP+zAePPc/5I/8OlUx9z87OcRN4B/3P5R4lbCmCvc/1JxROyAB9z8/Z9A3IQX3PygYvCCeGvc/+qTwNeoZ9z/24Pdr3Q33P02vYSbgCPc/JGtPo0P39j+qlwy2DOH2P9ErbvRDyvY/pi2IqVez9j8tUKik+nf2PwNSg1yMQfY/RI0je5ID9j9NTNelmc31P0v/4FNXpPU/Boa3ZnWg9T/FxPV9B4v1Pw6gzVnRZ/U/mIZJKt4+9T/2rVJ49yT1PzvSGtKwC/U/cPDSi3399D/feaAKK/T0P38s4bmh4/Q/4HlQjLrN9D984G+Arb/0P4cSL/W6t/Q/tK/WJf6/9D9Ph/jUNsv0P6RyB2ba3/Q/aQre9gDm9D/KvFjCkOr0PwDElVcC7PQ/+quSFU3n9D918g3MANf0PynuJNwQwvQ/DiYqvOGe9D//wIHNJov0P+g2Y/p0c/Q/rQafSGxn9D+aXU72QFb0P6LUGg34QfQ/FruXOG0m9D+RYCss4Qz0Pwp2liUO8fM/i6DtcrPR8z+p1rrnbLHzP7pvsISgiPM/ALHzYEpM8z/42GFfuhrzP3Gp7Tss/fI/SVUVXyn78j+S1SFZ+ujyP6jMmZMm4PI/2dXye17N8j9h7pyAFMbyP2BI8qUvyvI/c2fmEvbI8j8wDrpH/7/yPxUj7TErsvI/ond10ZWv8j+v6s4mdKzyP5oodLKykvI/WV5ufDiR8j/kfpolRZ7yPzQTyR46qPI/iZ/Wbf7G8j8f4bJ5PuDyP7vBGmhQDfM/TEhsDG9L8z8kB6MMZaPzP7qX5mdc4vM/KShTbIMK9D+JemBEZAT0P+uTPGGsHPQ/YGExzqj98z8x6vYb48bzPwSmDM3dlvM/kp+yK1Fl8z+0Kb+810TzP/l5ssk5RfM/N5Oua3dH8z+5kVuAE3DzP8P/mzbBqvM/JR3o3yvy8z+igVKWFgb0P2J6CfNJSvQ/TBV1gDtt9D+AH8QtW8z0P+8/9zNywfQ/3fOa0yfA9D+FI5OC17L0PwvIu1CtoPQ/XwoDxgqV9D8mVquTBJP0P01QpvRFl/Q/CuJUt1CG9D/BlTU7+2v0P/kyvAl5XfQ/KNwyn5lC9D8mK1ZAq3P0PwBfKYEsf/Q/EViFbVaf9D8WW9hrEVr0P4yn8EGhgPQ/HxnJtcR39D8IMRhHlX30PzoKVfq4jfQ/Jx/7npuZ9D+fOGGENJ70Py//hXPxlvQ/OAJLzk6b9D+GdHg5wLD0PznJ2zLws/Q/6ZCDLpvS9D+YdVnPgNv0P9jZaAbH6fQ/yUUO9IrZ9D9Vz1VbriT1P73fzJmvL/U/3sG+f65J9T9ZoDtJp1f1Pws6jTAjWPU/z8uYelhi9T+b+6PgRXb1Pz3IelKJePU/ZMoO1waD9T/UiFFM2I31P4Adl5c/mfU/Z6Iznn6l9T+IMXtF17L1P+HkwXKLwfU/cdZbC93R9T8=",
          "dtype": "f8"
         },
         "yaxis": "y"
        },
        {
         "line": {
          "color": "blue",
          "width": 3
         },
         "mode": "lines",
         "name": "DVL Distance",
         "type": "scatter",
         "x": {
          "bdata": "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",
          "dtype": "f8"
         },
         "xaxis": "x",
         "y": {
          "bdata": "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",
          "dtype": "f8"
         },
         "yaxis": "y"
        }
       ],
       "layout": {
        "height": 600,
        "hovermode": "x unified",
        "template": {
         "data": {
          "bar": [
           {
            "error_x": {
             "color": "#2a3f5f"
            },
            "error_y": {
             "color": "#2a3f5f"
            },
            "marker": {
             "line": {
              "color": "#E5ECF6",
              "width": 0.5
             },
             "pattern": {
              "fillmode": "overlay",
              "size": 10,
              "solidity": 0.2
             }
            },
            "type": "bar"
           }
          ],
          "barpolar": [
           {
            "marker": {
             "line": {
              "color": "#E5ECF6",
              "width": 0.5
             },
             "pattern": {
              "fillmode": "overlay",
              "size": 10,
              "solidity": 0.2
             }
            },
            "type": "barpolar"
           }
          ],
          "carpet": [
           {
            "aaxis": {
             "endlinecolor": "#2a3f5f",
             "gridcolor": "white",
             "linecolor": "white",
             "minorgridcolor": "white",
             "startlinecolor": "#2a3f5f"
            },
            "baxis": {
             "endlinecolor": "#2a3f5f",
             "gridcolor": "white",
             "linecolor": "white",
             "minorgridcolor": "white",
             "startlinecolor": "#2a3f5f"
            },
            "type": "carpet"
           }
          ],
          "choropleth": [
           {
            "colorbar": {
             "outlinewidth": 0,
             "ticks": ""
            },
            "type": "choropleth"
           }
          ],
          "contour": [
           {
            "colorbar": {
             "outlinewidth": 0,
             "ticks": ""
            },
            "colorscale": [
             [
              0,
              "#0d0887"
             ],
             [
              0.1111111111111111,
              "#46039f"
             ],
             [
              0.2222222222222222,
              "#7201a8"
             ],
             [
              0.3333333333333333,
              "#9c179e"
             ],
             [
              0.4444444444444444,
              "#bd3786"
             ],
             [
              0.5555555555555556,
              "#d8576b"
             ],
             [
              0.6666666666666666,
              "#ed7953"
             ],
             [
              0.7777777777777778,
              "#fb9f3a"
             ],
             [
              0.8888888888888888,
              "#fdca26"
             ],
             [
              1,
              "#f0f921"
             ]
            ],
            "type": "contour"
           }
          ],
          "contourcarpet": [
           {
            "colorbar": {
             "outlinewidth": 0,
             "ticks": ""
            },
            "type": "contourcarpet"
           }
          ],
          "heatmap": [
           {
            "colorbar": {
             "outlinewidth": 0,
             "ticks": ""
            },
            "colorscale": [
             [
              0,
              "#0d0887"
             ],
             [
              0.1111111111111111,
              "#46039f"
             ],
             [
              0.2222222222222222,
              "#7201a8"
             ],
             [
              0.3333333333333333,
              "#9c179e"
             ],
             [
              0.4444444444444444,
              "#bd3786"
             ],
             [
              0.5555555555555556,
              "#d8576b"
             ],
             [
              0.6666666666666666,
              "#ed7953"
             ],
             [
              0.7777777777777778,
              "#fb9f3a"
             ],
             [
              0.8888888888888888,
              "#fdca26"
             ],
             [
              1,
              "#f0f921"
             ]
            ],
            "type": "heatmap"
           }
          ],
          "histogram": [
           {
            "marker": {
             "pattern": {
              "fillmode": "overlay",
              "size": 10,
              "solidity": 0.2
             }
            },
            "type": "histogram"
           }
          ],
          "histogram2d": [
           {
            "colorbar": {
             "outlinewidth": 0,
             "ticks": ""
            },
            "colorscale": [
             [
              0,
              "#0d0887"
             ],
             [
              0.1111111111111111,
              "#46039f"
             ],
             [
              0.2222222222222222,
              "#7201a8"
             ],
             [
              0.3333333333333333,
              "#9c179e"
             ],
             [
              0.4444444444444444,
              "#bd3786"
             ],
             [
              0.5555555555555556,
              "#d8576b"
             ],
             [
              0.6666666666666666,
              "#ed7953"
             ],
             [
              0.7777777777777778,
              "#fb9f3a"
             ],
             [
              0.8888888888888888,
              "#fdca26"
             ],
             [
              1,
              "#f0f921"
             ]
            ],
            "type": "histogram2d"
           }
          ],
          "histogram2dcontour": [
           {
            "colorbar": {
             "outlinewidth": 0,
             "ticks": ""
            },
            "colorscale": [
             [
              0,
              "#0d0887"
             ],
             [
              0.1111111111111111,
              "#46039f"
             ],
             [
              0.2222222222222222,
              "#7201a8"
             ],
             [
              0.3333333333333333,
              "#9c179e"
             ],
             [
              0.4444444444444444,
              "#bd3786"
             ],
             [
              0.5555555555555556,
              "#d8576b"
             ],
             [
              0.6666666666666666,
              "#ed7953"
             ],
             [
              0.7777777777777778,
              "#fb9f3a"
             ],
             [
              0.8888888888888888,
              "#fdca26"
             ],
             [
              1,
              "#f0f921"
             ]
            ],
            "type": "histogram2dcontour"
           }
          ],
          "mesh3d": [
           {
            "colorbar": {
             "outlinewidth": 0,
             "ticks": ""
            },
            "type": "mesh3d"
           }
          ],
          "parcoords": [
           {
            "line": {
             "colorbar": {
              "outlinewidth": 0,
              "ticks": ""
             }
            },
            "type": "parcoords"
           }
          ],
          "pie": [
           {
            "automargin": true,
            "type": "pie"
           }
          ],
          "scatter": [
           {
            "fillpattern": {
             "fillmode": "overlay",
             "size": 10,
             "solidity": 0.2
            },
            "type": "scatter"
           }
          ],
          "scatter3d": [
           {
            "line": {
             "colorbar": {
              "outlinewidth": 0,
              "ticks": ""
             }
            },
            "marker": {
             "colorbar": {
              "outlinewidth": 0,
              "ticks": ""
             }
            },
            "type": "scatter3d"
           }
          ],
          "scattercarpet": [
           {
            "marker": {
             "colorbar": {
              "outlinewidth": 0,
              "ticks": ""
             }
            },
            "type": "scattercarpet"
           }
          ],
          "scattergeo": [
           {
            "marker": {
             "colorbar": {
              "outlinewidth": 0,
              "ticks": ""
             }
            },
            "type": "scattergeo"
           }
          ],
          "scattergl": [
           {
            "marker": {
             "colorbar": {
              "outlinewidth": 0,
              "ticks": ""
             }
            },
            "type": "scattergl"
           }
          ],
          "scattermap": [
           {
            "marker": {
             "colorbar": {
              "outlinewidth": 0,
              "ticks": ""
             }
            },
            "type": "scattermap"
           }
          ],
          "scattermapbox": [
           {
            "marker": {
             "colorbar": {
              "outlinewidth": 0,
              "ticks": ""
             }
            },
            "type": "scattermapbox"
           }
          ],
          "scatterpolar": [
           {
            "marker": {
             "colorbar": {
              "outlinewidth": 0,
              "ticks": ""
             }
            },
            "type": "scatterpolar"
           }
          ],
          "scatterpolargl": [
           {
            "marker": {
             "colorbar": {
              "outlinewidth": 0,
              "ticks": ""
             }
            },
            "type": "scatterpolargl"
           }
          ],
          "scatterternary": [
           {
            "marker": {
             "colorbar": {
              "outlinewidth": 0,
              "ticks": ""
             }
            },
            "type": "scatterternary"
           }
          ],
          "surface": [
           {
            "colorbar": {
             "outlinewidth": 0,
             "ticks": ""
            },
            "colorscale": [
             [
              0,
              "#0d0887"
             ],
             [
              0.1111111111111111,
              "#46039f"
             ],
             [
              0.2222222222222222,
              "#7201a8"
             ],
             [
              0.3333333333333333,
              "#9c179e"
             ],
             [
              0.4444444444444444,
              "#bd3786"
             ],
             [
              0.5555555555555556,
              "#d8576b"
             ],
             [
              0.6666666666666666,
              "#ed7953"
             ],
             [
              0.7777777777777778,
              "#fb9f3a"
             ],
             [
              0.8888888888888888,
              "#fdca26"
             ],
             [
              1,
              "#f0f921"
             ]
            ],
            "type": "surface"
           }
          ],
          "table": [
           {
            "cells": {
             "fill": {
              "color": "#EBF0F8"
             },
             "line": {
              "color": "white"
             }
            },
            "header": {
             "fill": {
              "color": "#C8D4E3"
             },
             "line": {
              "color": "white"
             }
            },
            "type": "table"
           }
          ]
         },
         "layout": {
          "annotationdefaults": {
           "arrowcolor": "#2a3f5f",
           "arrowhead": 0,
           "arrowwidth": 1
          },
          "autotypenumbers": "strict",
          "coloraxis": {
           "colorbar": {
            "outlinewidth": 0,
            "ticks": ""
           }
          },
          "colorscale": {
           "diverging": [
            [
             0,
             "#8e0152"
            ],
            [
             0.1,
             "#c51b7d"
            ],
            [
             0.2,
             "#de77ae"
            ],
            [
             0.3,
             "#f1b6da"
            ],
            [
             0.4,
             "#fde0ef"
            ],
            [
             0.5,
             "#f7f7f7"
            ],
            [
             0.6,
             "#e6f5d0"
            ],
            [
             0.7,
             "#b8e186"
            ],
            [
             0.8,
             "#7fbc41"
            ],
            [
             0.9,
             "#4d9221"
            ],
            [
             1,
             "#276419"
            ]
           ],
           "sequential": [
            [
             0,
             "#0d0887"
            ],
            [
             0.1111111111111111,
             "#46039f"
            ],
            [
             0.2222222222222222,
             "#7201a8"
            ],
            [
             0.3333333333333333,
             "#9c179e"
            ],
            [
             0.4444444444444444,
             "#bd3786"
            ],
            [
             0.5555555555555556,
             "#d8576b"
            ],
            [
             0.6666666666666666,
             "#ed7953"
            ],
            [
             0.7777777777777778,
             "#fb9f3a"
            ],
            [
             0.8888888888888888,
             "#fdca26"
            ],
            [
             1,
             "#f0f921"
            ]
           ],
           "sequentialminus": [
            [
             0,
             "#0d0887"
            ],
            [
             0.1111111111111111,
             "#46039f"
            ],
            [
             0.2222222222222222,
             "#7201a8"
            ],
            [
             0.3333333333333333,
             "#9c179e"
            ],
            [
             0.4444444444444444,
             "#bd3786"
            ],
            [
             0.5555555555555556,
             "#d8576b"
            ],
            [
             0.6666666666666666,
             "#ed7953"
            ],
            [
             0.7777777777777778,
             "#fb9f3a"
            ],
            [
             0.8888888888888888,
             "#fdca26"
            ],
            [
             1,
             "#f0f921"
            ]
           ]
          },
          "colorway": [
           "#636efa",
           "#EF553B",
           "#00cc96",
           "#ab63fa",
           "#FFA15A",
           "#19d3f3",
           "#FF6692",
           "#B6E880",
           "#FF97FF",
           "#FECB52"
          ],
          "font": {
           "color": "#2a3f5f"
          },
          "geo": {
           "bgcolor": "white",
           "lakecolor": "white",
           "landcolor": "#E5ECF6",
           "showlakes": true,
           "showland": true,
           "subunitcolor": "white"
          },
          "hoverlabel": {
           "align": "left"
          },
          "hovermode": "closest",
          "mapbox": {
           "style": "light"
          },
          "paper_bgcolor": "white",
          "plot_bgcolor": "#E5ECF6",
          "polar": {
           "angularaxis": {
            "gridcolor": "white",
            "linecolor": "white",
            "ticks": ""
           },
           "bgcolor": "#E5ECF6",
           "radialaxis": {
            "gridcolor": "white",
            "linecolor": "white",
            "ticks": ""
           }
          },
          "scene": {
           "xaxis": {
            "backgroundcolor": "#E5ECF6",
            "gridcolor": "white",
            "gridwidth": 2,
            "linecolor": "white",
            "showbackground": true,
            "ticks": "",
            "zerolinecolor": "white"
           },
           "yaxis": {
            "backgroundcolor": "#E5ECF6",
            "gridcolor": "white",
            "gridwidth": 2,
            "linecolor": "white",
            "showbackground": true,
            "ticks": "",
            "zerolinecolor": "white"
           },
           "zaxis": {
            "backgroundcolor": "#E5ECF6",
            "gridcolor": "white",
            "gridwidth": 2,
            "linecolor": "white",
            "showbackground": true,
            "ticks": "",
            "zerolinecolor": "white"
           }
          },
          "shapedefaults": {
           "line": {
            "color": "#2a3f5f"
           }
          },
          "ternary": {
           "aaxis": {
            "gridcolor": "white",
            "linecolor": "white",
            "ticks": ""
           },
           "baxis": {
            "gridcolor": "white",
            "linecolor": "white",
            "ticks": ""
           },
           "bgcolor": "#E5ECF6",
           "caxis": {
            "gridcolor": "white",
            "linecolor": "white",
            "ticks": ""
           }
          },
          "title": {
           "x": 0.05
          },
          "xaxis": {
           "automargin": true,
           "gridcolor": "white",
           "linecolor": "white",
           "ticks": "",
           "title": {
            "standoff": 15
           },
           "zerolinecolor": "white",
           "zerolinewidth": 2
          },
          "yaxis": {
           "automargin": true,
           "gridcolor": "white",
           "linecolor": "white",
           "ticks": "",
           "title": {
            "standoff": 15
           },
           "zerolinecolor": "white",
           "zerolinewidth": 2
          }
         }
        },
        "title": {
         "text": "🔄 Interactive Distance Comparison: Sonar vs DVL"
        },
        "xaxis": {
         "anchor": "y",
         "domain": [
          0,
          1
         ],
         "showgrid": true,
         "title": {
          "text": "Time (seconds)"
         }
        },
        "yaxis": {
         "anchor": "x",
         "domain": [
          0,
          1
         ],
         "showgrid": true,
         "title": {
          "text": "Distance (meters)"
         }
        }
       }
      }
     },
     "metadata": {},
     "output_type": "display_data"
    }
   ],
   "source": [
    "try:\n",
    "    fig, comparison_stats = iau.interactive_distance_comparison(distance_results, raw_data, sonar_coverage_m=sonar_coverage_meters, sonar_image_size=image_shape[0])\n",
    "    if comparison_stats and isinstance(comparison_stats, dict) and 'error' in comparison_stats:\n",
    "        print('Comparison did not run:', comparison_stats['error'])\n",
    "    else:\n",
    "        print('\\nComparison stats summary:')\n",
    "        from pprint import pprint\n",
    "        pprint(comparison_stats)\n",
    "        # Display the interactive plot\n",
    "        fig.show()\n",
    "except Exception as e:\n",
    "    print('Error running interactive comparison:', e)"
   ]
  },
  {
   "cell_type": "code",
   "execution_count": null,
   "id": "50f97352",
   "metadata": {},
   "outputs": [
    {
     "name": "stdout",
     "output_type": "stream",
     "text": [
      "🎬 GENERATING VIDEO WITH DUAL NET DISTANCE OVERLAYS\n",
      "============================================================\n",
      "🎯 Target Bag: 2024-08-22_14-47-39\n",
      "📊 DVL Data: 374 records\n",
      "📏 Sonar Analysis: 725 frames\n",
      "🎥 Camera: disabled\n",
      "🛠️ OPTIMIZED SONAR VIDEO\n",
      "======================================================================\n",
      "🎯 Target Bag: 2024-08-22_14-47-39\n",
      "   Cone Size: 900x700\n",
      "   Range: 0.0-5.0m | FOV: 120.0°\n",
      "   🎥 Camera: disabled\n",
      "   🕸  Net-line: enabled (dist tol=0.5s, pitch tol=2.0s)\n",
      "   📊 Sonar Analysis: enabled\n",
      "   Loading sonar data: sensor_sonoptix_echo_image__2024-08-22_14-47-39_video.csv\n",
      "   ✅ Loaded 726 sonar frames in 29.28s\n",
      "   ✅ Loaded 374 navigation records in 0.01s\n",
      "      Available: ['NetDistance', 'NetPitch', 'timestamp']\n",
      "   Frames: 1..725 (step 1) => 725\n",
      "   Natural FPS: 15.4\n",
      "   ✅ Loaded 726 sonar frames in 29.28s\n",
      "   ✅ Loaded 374 navigation records in 0.01s\n",
      "      Available: ['NetDistance', 'NetPitch', 'timestamp']\n",
      "   Frames: 1..725 (step 1) => 725\n",
      "   Natural FPS: 15.4\n",
      "\n",
      "🎉 DONE! Wrote 725 frames to /Volumes/LaCie/SOLAQUA/exports/videos/2024-08-22_14-47-39_optimized_sync_withsonar_20240822_144742_079270+0200.mp4 @ 15.43 FPS\n",
      "Metadata saved to: /Volumes/LaCie/SOLAQUA/exports/videos/2024-08-22_14-47-39_optimized_sync_withsonar_20240822_144742_079270+0200.mp4.meta.json\n",
      "\n",
      "✅ Video generated successfully!\n",
      "📁 Output: None\n",
      "\n",
      "🎉 DONE! Wrote 725 frames to /Volumes/LaCie/SOLAQUA/exports/videos/2024-08-22_14-47-39_optimized_sync_withsonar_20240822_144742_079270+0200.mp4 @ 15.43 FPS\n",
      "Metadata saved to: /Volumes/LaCie/SOLAQUA/exports/videos/2024-08-22_14-47-39_optimized_sync_withsonar_20240822_144742_079270+0200.mp4.meta.json\n",
      "\n",
      "✅ Video generated successfully!\n",
      "📁 Output: None\n"
     ]
    }
   ],
   "source": [
    "# 🎥 Generate Video with Both DVL and Sonar Analysis Overlays\n",
    "# ========================================================\n",
    "import utils.sonar_and_foto_generation as sg\n",
    "\n",
    "# Set up paths\n",
    "VIDEO_SEQ_DIR = None  # Set to path if you want camera footage included\n",
    "\n",
    "print(\"🎬 GENERATING VIDEO WITH DUAL NET DISTANCE OVERLAYS\")\n",
    "print(\"=\" * 60)\n",
    "print(f\"🎯 Target Bag: {TARGET_BAG}\")\n",
    "print(f\"📊 DVL Data: {len(raw_data.get('navigation', []))} records\")\n",
    "print(f\"📏 Sonar Analysis: {len(distance_results)} frames\")\n",
    "print(f\"🎥 Camera: {'enabled' if VIDEO_SEQ_DIR else 'disabled'}\")\n",
    "\n",
    "# Generate the video with both overlays\n",
    "try:\n",
    "    video_path = sg.export_optimized_sonar_video(\n",
    "        TARGET_BAG=TARGET_BAG,\n",
    "        EXPORTS_FOLDER=EXPORTS_FOLDER,\n",
    "        START_IDX=1,\n",
    "        END_IDX=1000,  # Adjust as needed\n",
    "        STRIDE=1,\n",
    "        VIDEO_SEQ_DIR=VIDEO_SEQ_DIR,\n",
    "        INCLUDE_NET=True,  # Enable DVL net distance overlay\n",
    "        SONAR_DISTANCE_RESULTS=distance_results,  # Enable sonar analysis overlay\n",
    "        NET_DISTANCE_TOLERANCE=0.5,\n",
    "        NET_PITCH_TOLERANCE=2.0,  # Increased from 0.3 to 2.0 seconds for better pitch sync\n",
    "    )\n",
    "    print(f\"\\n✅ Video generated successfully!\")\n",
    "    print(f\"📁 Output: {video_path}\")\n",
    "except Exception as e:\n",
    "    print(f\"❌ Error generating video: {e}\")"
   ]
  }
 ],
 "metadata": {
  "kernelspec": {
   "display_name": "venv",
   "language": "python",
   "name": "python3"
  },
  "language_info": {
   "codemirror_mode": {
    "name": "ipython",
    "version": 3
   },
   "file_extension": ".py",
   "mimetype": "text/x-python",
   "name": "python",
   "nbconvert_exporter": "python",
   "pygments_lexer": "ipython3",
   "version": "3.13.5"
  }
 },
 "nbformat": 4,
 "nbformat_minor": 5
}
