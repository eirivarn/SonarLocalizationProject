{
 "cells": [
  {
   "cell_type": "code",
   "execution_count": 11,
   "id": "7a8d02c0",
   "metadata": {},
   "outputs": [],
   "source": [
    "# Centralized sonar defaults (inserted by sweep)\n",
    "from utils.sonar_config import SONAR_VIS_DEFAULTS\n",
    "sonar_config = SONAR_VIS_DEFAULTS.copy()\n",
    "# Backwards-compatible variable names used in older notebooks\n",
    "RANGE_MIN_M = sonar_config['range_min_m']\n",
    "RANGE_MAX_M = sonar_config['range_max_m']\n",
    "DISPLAY_RANGE_MAX_M = sonar_config['display_range_max_m']\n",
    "\n",
    "# If an exported NPZ/MP4 sidecar is available, downstream cells will prefer that metadata\n",
    "# Optional: override defaults below, e.g.\n",
    "# DISPLAY_RANGE_MAX_M = 10.0\n"
   ]
  },
  {
   "cell_type": "markdown",
   "id": "9220eb1d",
   "metadata": {},
   "source": [
    "# Simple Image Analysis with CV2\n",
    "\n",
    "This notebook demonstrates:\n",
    "1. **Pick a frame** from NPZ files and save it locally\n",
    "2. **Use standard cv2 functions** directly for image processing\n",
    "3. **Experiment** with different OpenCV operations"
   ]
  },
  {
   "cell_type": "code",
   "execution_count": null,
   "id": "4b3e8f46",
   "metadata": {},
   "outputs": [
    {
     "name": "stdout",
     "output_type": "stream",
     "text": [
      "✅ Plotly available for interactive plots\n",
      "Selected NPZ file: 2024-08-22_14-47-39_data_cones.npz (index=2)\n"
     ]
    }
   ],
   "source": [
    "from pathlib import Path\n",
    "import utils.sonar_image_analysis as iau\n",
    "import matplotlib.pyplot as plt\n",
    "\n",
    "# For interactive plots\n",
    "try:\n",
    "    import plotly.graph_objects as go\n",
    "    from plotly.subplots import make_subplots\n",
    "    print(\"✅ Plotly available for interactive plots\")\n",
    "except ImportError:\n",
    "    print(\"⚠️ Plotly not available - install with: pip install plotly\")\n",
    "\n",
    "# Prefer selecting by bag ID (part of the NPZ filename) instead of a numeric index.\n",
    "# Set TARGET_BAG to a substring that appears in the NPZ filename (e.g. '2024-08-22_14-29-05')\n",
    "TARGET_BAG = '2024-08-22_14-47-39'  # change this to your desired bag ID\n",
    "from utils.sonar_config import EXPORTS_DIR_DEFAULT, EXPORTS_SUBDIRS\n",
    "EXPORTS_FOLDER = Path(EXPORTS_DIR_DEFAULT)\n",
    "\n",
    "# If you keep your raw .bag files or raw data on an external drive, point DATA_DIR there.\n",
    "# Example (your external disk): /Volumes/LaCie/SOLAQUA/raw_data\n",
    "DATA_DIR = Path(\"/Volumes/LaCie/SOLAQUA/raw_data\")\n",
    "print(f\"Using DATA_DIR = {DATA_DIR}\")\n",
    "\n",
    "# Find NPZ files and pick the one matching TARGET_BAG\n",
    "files = iau.get_available_npz_files()\n",
    "if not files:\n",
    "    raise FileNotFoundError(f\"No NPZ files found in configured exports outputs (looked under {EXPORTS_FOLDER / EXPORTS_SUBDIRS.get('outputs','outputs')})\")\n",
    "matches = [p for p in files if TARGET_BAG in p.name]\n",
    "if not matches:\n",
    "    # Help the user by listing available NPZ files\n",
    "    print(f'No NPZ file matched TARGET_BAG={TARGET_BAG!r}')\n",
    "    print('Available NPZ files:')\n",
    "    for i,p in enumerate(files):\n",
    "        print(f'  {i}: {p.name}')\n",
    "    raise ValueError(f'No NPZ file contains \"{TARGET_BAG}\" in its name')\n",
    "\n",
    "# If multiple matches, choose the most recently modified one\n",
    "selected = max(matches, key=lambda p: p.stat().st_mtime)\n",
    "NPZ_FILE_INDEX = files.index(selected)\n",
    "print(f'Selected NPZ file: {selected.name} (index={NPZ_FILE_INDEX})')\n",
    "\n",
    "# Set up matplotlib\n",
    "plt.rcParams['figure.figsize'] = (12, 8)\n",
    "plt.rcParams['image.cmap'] = 'gray'"
   ]
  },
  {
   "cell_type": "markdown",
   "id": "10558e62",
   "metadata": {},
   "source": [
    "## Pick and Save a Frame\n",
    "\n",
    "First, let's see what NPZ files are available and pick a frame to work with:"
   ]
  },
  {
   "cell_type": "code",
   "execution_count": null,
   "id": "7ad52c23",
   "metadata": {},
   "outputs": [
    {
     "name": "stdout",
     "output_type": "stream",
     "text": [
      "Frame saved to: exports/frames/current_frame.png\n",
      "Source: 2024-08-22_14-47-39_data_cones.npz, Frame 725/725\n",
      "Timestamp: 12:48:28\n",
      "Shape: (700, 900)\n"
     ]
    }
   ],
   "source": [
    "# Pick and save a frame\n",
    "frame_info = iau.pick_and_save_frame(\n",
    "    npz_file_index=NPZ_FILE_INDEX,           \n",
    "    frame_position=1000,         \n",
    "    output_path=Path(EXPORTS_DIR_DEFAULT) / EXPORTS_SUBDIRS.get('frames','frames') / 'current_frame.png'  \n",
    ")\n"
   ]
  },
  {
   "cell_type": "markdown",
   "id": "0c65358c",
   "metadata": {},
   "source": [
    "## Red Line Distance Analysis Over Time\n",
    "\n",
    "Now let's perform a comprehensive analysis of the red line distance over time. The red line represents the major axis of the detected elongated contour (likely a fishing net), and we'll track how this distance changes throughout the video sequence."
   ]
  },
  {
   "cell_type": "code",
   "execution_count": 14,
   "id": "d9c0382e",
   "metadata": {},
   "outputs": [
    {
     "name": "stdout",
     "output_type": "stream",
     "text": [
      "=== RED LINE DISTANCE ANALYSIS OVER TIME ===\n",
      "Analyzing: exports/outputs/2024-08-22_14-47-39_data_cones.npz\n",
      "Total frames available: 726\n",
      "Analyzing frames 1 to 726 (step=1)\n",
      "Total frames available: 726\n",
      "Analyzing frames 1 to 726 (step=1)\n",
      "  Processed 50/725 frames (Success rate: 100.0%)\n",
      "  Processed 50/725 frames (Success rate: 100.0%)\n",
      "  Processed 100/725 frames (Success rate: 100.0%)\n",
      "  Processed 100/725 frames (Success rate: 100.0%)\n",
      "  Processed 150/725 frames (Success rate: 100.0%)\n",
      "  Processed 150/725 frames (Success rate: 100.0%)\n",
      "  Processed 200/725 frames (Success rate: 100.0%)\n",
      "  Processed 200/725 frames (Success rate: 100.0%)\n",
      "  Processed 250/725 frames (Success rate: 100.0%)\n",
      "  Processed 250/725 frames (Success rate: 100.0%)\n",
      "  Processed 300/725 frames (Success rate: 100.0%)\n",
      "  Processed 300/725 frames (Success rate: 100.0%)\n",
      "  Processed 350/725 frames (Success rate: 100.0%)\n",
      "  Processed 350/725 frames (Success rate: 100.0%)\n",
      "  Processed 400/725 frames (Success rate: 100.0%)\n",
      "  Processed 400/725 frames (Success rate: 100.0%)\n",
      "  Processed 450/725 frames (Success rate: 100.0%)\n",
      "  Processed 450/725 frames (Success rate: 100.0%)\n",
      "  Processed 500/725 frames (Success rate: 100.0%)\n",
      "  Processed 500/725 frames (Success rate: 100.0%)\n",
      "  Processed 550/725 frames (Success rate: 100.0%)\n",
      "  Processed 550/725 frames (Success rate: 100.0%)\n",
      "  Processed 600/725 frames (Success rate: 100.0%)\n",
      "  Processed 600/725 frames (Success rate: 100.0%)\n",
      "  Processed 650/725 frames (Success rate: 100.0%)\n",
      "  Processed 650/725 frames (Success rate: 100.0%)\n",
      "  Processed 700/725 frames (Success rate: 100.0%)\n",
      "  Processed 700/725 frames (Success rate: 100.0%)\n",
      "\n",
      "=== ANALYSIS COMPLETE ===\n",
      "Total frames processed: 725\n",
      "Successful detections: 725 (100.0%)\n",
      "Distance statistics (pixels):\n",
      "  - Mean: 47.13\n",
      "  - Std:  3.57\n",
      "  - Min:  35.22\n",
      "  - Max:  58.76\n",
      "  - Range:23.54\n",
      "\n",
      "=== ANALYSIS COMPLETE ===\n",
      "Total frames processed: 725\n",
      "Successful detections: 725 (100.0%)\n",
      "Distance statistics (pixels):\n",
      "  - Mean: 47.13\n",
      "  - Std:  3.57\n",
      "  - Min:  35.22\n",
      "  - Max:  58.76\n",
      "  - Range:23.54\n"
     ]
    }
   ],
   "source": [
    "# Analyze the red line distance over time\n",
    "# Now uses the SAME calculation as the video display - no smoothing, no fallbacks\n",
    "distance_results = iau.analyze_red_line_distance_over_time(\n",
    "    npz_file_index=NPZ_FILE_INDEX,    \n",
    "    frame_start=1,        # Start from frame 1\n",
    "    frame_count=1000,      # Analyze all frames from the video\n",
    "    frame_step=1,          # Every frame\n",
    "    save_error_frames=False  # Set to True to save debug frames\n",
    ")"
   ]
  },
  {
   "cell_type": "code",
   "execution_count": null,
   "id": "b9c5da85",
   "metadata": {},
   "outputs": [
    {
     "name": "stdout",
     "output_type": "stream",
     "text": [
      "=== CONTOUR DETECTION VIDEO CREATION ===\n",
      "Creating video with 1000 frames, stepping by 1...\n",
      "  Image Processing: MOMENTUM MERGING (radius=3, threshold=0.1, decay=0.9), canny=(40, 120), min_area=100\n",
      "  Tracking: boost=1000.0x, expansion=10px\n",
      "  Video: fps=15, show_contours=True, show_ellipse=True\n",
      "Processing frames...\n",
      "Processed 10/725 frames\n",
      "Processing frames...\n",
      "Processed 10/725 frames\n",
      "Processed 20/725 frames\n",
      "Processed 30/725 frames\n",
      "Processed 20/725 frames\n",
      "Processed 30/725 frames\n",
      "Processed 40/725 frames\n",
      "Processed 50/725 frames\n",
      "Processed 40/725 frames\n",
      "Processed 50/725 frames\n",
      "Processed 60/725 frames\n",
      "Processed 60/725 frames\n",
      "Processed 70/725 frames\n",
      "Processed 80/725 frames\n",
      "Processed 70/725 frames\n",
      "Processed 80/725 frames\n",
      "Processed 90/725 frames\n",
      "Processed 100/725 frames\n",
      "Processed 90/725 frames\n",
      "Processed 100/725 frames\n",
      "Processed 110/725 frames\n",
      "Processed 120/725 frames\n",
      "Processed 110/725 frames\n",
      "Processed 120/725 frames\n",
      "Processed 130/725 frames\n",
      "Processed 140/725 frames\n",
      "Processed 130/725 frames\n",
      "Processed 140/725 frames\n",
      "Processed 150/725 frames\n",
      "Processed 160/725 frames\n",
      "Processed 150/725 frames\n",
      "Processed 160/725 frames\n",
      "Processed 170/725 frames\n",
      "Processed 180/725 frames\n",
      "Processed 170/725 frames\n",
      "Processed 180/725 frames\n",
      "Processed 190/725 frames\n",
      "Processed 200/725 frames\n",
      "Processed 190/725 frames\n",
      "Processed 200/725 frames\n",
      "Processed 210/725 frames\n",
      "Processed 220/725 frames\n",
      "Processed 210/725 frames\n",
      "Processed 220/725 frames\n",
      "Processed 230/725 frames\n",
      "Processed 240/725 frames\n",
      "Processed 230/725 frames\n",
      "Processed 240/725 frames\n",
      "Processed 250/725 frames\n",
      "Processed 260/725 frames\n",
      "Processed 250/725 frames\n",
      "Processed 260/725 frames\n",
      "Processed 270/725 frames\n",
      "Processed 280/725 frames\n",
      "Processed 270/725 frames\n",
      "Processed 280/725 frames\n",
      "Processed 290/725 frames\n",
      "Processed 300/725 frames\n",
      "Processed 290/725 frames\n",
      "Processed 300/725 frames\n",
      "Processed 310/725 frames\n",
      "Processed 320/725 frames\n",
      "Processed 310/725 frames\n",
      "Processed 320/725 frames\n",
      "Processed 330/725 frames\n",
      "Processed 340/725 frames\n",
      "Processed 330/725 frames\n",
      "Processed 340/725 frames\n",
      "Processed 350/725 frames\n",
      "Processed 360/725 frames\n",
      "Processed 350/725 frames\n",
      "Processed 360/725 frames\n",
      "Processed 370/725 frames\n",
      "Processed 380/725 frames\n",
      "Processed 370/725 frames\n",
      "Processed 380/725 frames\n",
      "Processed 390/725 frames\n",
      "Processed 400/725 frames\n",
      "Processed 390/725 frames\n",
      "Processed 400/725 frames\n",
      "Processed 410/725 frames\n",
      "Processed 420/725 frames\n",
      "Processed 410/725 frames\n",
      "Processed 420/725 frames\n",
      "Processed 430/725 frames\n",
      "Processed 440/725 frames\n",
      "Processed 430/725 frames\n",
      "Processed 440/725 frames\n",
      "Processed 450/725 frames\n",
      "Processed 460/725 frames\n",
      "Processed 450/725 frames\n",
      "Processed 460/725 frames\n",
      "Processed 470/725 frames\n",
      "Processed 480/725 frames\n",
      "Processed 470/725 frames\n",
      "Processed 480/725 frames\n",
      "Processed 490/725 frames\n",
      "Processed 500/725 frames\n",
      "Processed 490/725 frames\n",
      "Processed 500/725 frames\n",
      "Processed 510/725 frames\n",
      "Processed 520/725 frames\n",
      "Processed 510/725 frames\n",
      "Processed 520/725 frames\n",
      "Processed 530/725 frames\n",
      "Processed 540/725 frames\n",
      "Processed 530/725 frames\n",
      "Processed 540/725 frames\n",
      "Processed 550/725 frames\n",
      "Processed 560/725 frames\n",
      "Processed 550/725 frames\n",
      "Processed 560/725 frames\n",
      "Processed 570/725 frames\n",
      "Processed 580/725 frames\n",
      "Processed 570/725 frames\n",
      "Processed 580/725 frames\n",
      "Processed 590/725 frames\n",
      "Processed 600/725 frames\n",
      "Processed 590/725 frames\n",
      "Processed 600/725 frames\n",
      "Processed 610/725 frames\n",
      "Processed 620/725 frames\n",
      "Processed 610/725 frames\n",
      "Processed 620/725 frames\n",
      "Processed 630/725 frames\n",
      "Processed 640/725 frames\n",
      "Processed 630/725 frames\n",
      "Processed 640/725 frames\n",
      "Processed 650/725 frames\n",
      "Processed 660/725 frames\n",
      "Processed 650/725 frames\n",
      "Processed 660/725 frames\n",
      "Processed 670/725 frames\n",
      "Processed 680/725 frames\n",
      "Processed 670/725 frames\n",
      "Processed 680/725 frames\n",
      "Processed 690/725 frames\n",
      "Processed 700/725 frames\n",
      "Processed 690/725 frames\n",
      "Processed 700/725 frames\n",
      "Processed 710/725 frames\n",
      "Processed 710/725 frames\n",
      "Processed 720/725 frames\n",
      "\n",
      "=== VIDEO CREATION COMPLETE ===\n",
      "Video saved to: exports/videos/contour_detection_configurable.mp4\n",
      "Video specs: 900x700, 15 fps, 725 frames\n",
      "Tracking stats:\n",
      "  - Tracked frames: 686\n",
      "  - New detections: 1\n",
      "  - Lost/searching frames: 38\n",
      "  - Detection success rate: 94.8%\n",
      "  - Tracking continuity:   99.9%\n",
      "Processed 720/725 frames\n",
      "\n",
      "=== VIDEO CREATION COMPLETE ===\n",
      "Video saved to: exports/videos/contour_detection_configurable.mp4\n",
      "Video specs: 900x700, 15 fps, 725 frames\n",
      "Tracking stats:\n",
      "  - Tracked frames: 686\n",
      "  - New detections: 1\n",
      "  - Lost/searching frames: 38\n",
      "  - Detection success rate: 94.8%\n",
      "  - Tracking continuity:   99.9%\n"
     ]
    }
   ],
   "source": [
    "# Create the video with \n",
    "video_path = iau.create_contour_detection_video(\n",
    "    npz_file_index=NPZ_FILE_INDEX,          # Which NPZ file to use\n",
    "    frame_start=1,           # Starting frame\n",
    "    frame_count=1000,           # How many frames to process\n",
    "    frame_step=1,              # Step between frames \n",
    "    output_path=Path(EXPORTS_DIR_DEFAULT) / EXPORTS_SUBDIRS.get('videos','videos') / 'contour_detection_configurable.mp4',\n",
    ")\n"
   ]
  },
  {
   "cell_type": "markdown",
   "id": "fede9d64",
   "metadata": {},
   "source": [
    "## Convert to Real-World Distances\n",
    "\n",
    "Now let's convert the pixel distances to real-world distances using the fact that the entire sonar image represents a 10x10 meter area."
   ]
  },
  {
   "cell_type": "code",
   "execution_count": 16,
   "id": "886897de",
   "metadata": {},
   "outputs": [
    {
     "name": "stdout",
     "output_type": "stream",
     "text": [
      "Detected NPZ extent: x=[-8.660,8.660] m, y=[0.000,10.000] m\n",
      "Image shape from NPZ: H=700, W=900\n",
      "meters/pixel: x=0.019245, y=0.014286, avg=0.016765\n",
      "Using pixels_to_meters_avg = 0.016765 m/px\n"
     ]
    }
   ],
   "source": [
    "# Auto-detect pixel->meter mapping from the selected NPZ (if available)\n",
    "try:\n",
    "    cones, ts, extent, meta = iau.load_cone_run_npz(selected)\n",
    "    T, H, W = cones.shape\n",
    "    x_min, x_max, y_min, y_max = extent\n",
    "    width_m = float(x_max - x_min)\n",
    "    height_m = float(y_max - y_min)\n",
    "    px2m_x = width_m / float(W)\n",
    "    px2m_y = height_m / float(H)\n",
    "    pixels_to_meters_avg = 0.5 * (px2m_x + px2m_y)\n",
    "    image_shape = (H, W)\n",
    "    sonar_coverage_meters = max(width_m, height_m)\n",
    "    print(f\"Detected NPZ extent: x=[{x_min:.3f},{x_max:.3f}] m, y=[{y_min:.3f},{y_max:.3f}] m\")\n",
    "    print(f\"Image shape from NPZ: H={H}, W={W}\")\n",
    "    print(f\"meters/pixel: x={px2m_x:.6f}, y={px2m_y:.6f}, avg={pixels_to_meters_avg:.6f}\")\n",
    "except Exception as e:\n",
    "    print(\"Could not read NPZ metadata:\", e)\n",
    "    print(\"Falling back to defaults from sonar_config.\")\n",
    "    from utils.sonar_config import CONE_H_DEFAULT, CONE_W_DEFAULT, DISPLAY_RANGE_MAX_M_DEFAULT\n",
    "    image_shape = (CONE_H_DEFAULT, CONE_W_DEFAULT)\n",
    "    sonar_coverage_meters = DISPLAY_RANGE_MAX_M_DEFAULT * 2  # approximate\n",
    "    pixels_to_meters_avg = sonar_coverage_meters / max(image_shape)\n",
    "    \n",
    "# Use the computed pixels_to_meters_avg in downstream analysis\n",
    "print(f\"Using pixels_to_meters_avg = {pixels_to_meters_avg:.6f} m/px\")"
   ]
  },
  {
   "cell_type": "code",
   "execution_count": 17,
   "id": "15d6238c",
   "metadata": {},
   "outputs": [
    {
     "data": {
      "application/vnd.plotly.v1+json": {
       "config": {
        "plotlyServerURL": "https://plot.ly"
       },
       "data": [
        {
         "line": {
          "color": "blue",
          "width": 2
         },
         "marker": {
          "color": "red",
          "size": 6
         },
         "mode": "lines+markers",
         "name": "Distance",
         "showlegend": false,
         "type": "scatter",
         "x": {
          "bdata": "AQACAAMABAAFAAYABwAIAAkACgALAAwADQAOAA8AEAARABIAEwAUABUAFgAXABgAGQAaABsAHAAdAB4AHwAgACEAIgAjACQAJQAmACcAKAApACoAKwAsAC0ALgAvADAAMQAyADMANAA1ADYANwA4ADkAOgA7ADwAPQA+AD8AQABBAEIAQwBEAEUARgBHAEgASQBKAEsATABNAE4ATwBQAFEAUgBTAFQAVQBWAFcAWABZAFoAWwBcAF0AXgBfAGAAYQBiAGMAZABlAGYAZwBoAGkAagBrAGwAbQBuAG8AcABxAHIAcwB0AHUAdgB3AHgAeQB6AHsAfAB9AH4AfwCAAIEAggCDAIQAhQCGAIcAiACJAIoAiwCMAI0AjgCPAJAAkQCSAJMAlACVAJYAlwCYAJkAmgCbAJwAnQCeAJ8AoAChAKIAowCkAKUApgCnAKgAqQCqAKsArACtAK4ArwCwALEAsgCzALQAtQC2ALcAuAC5ALoAuwC8AL0AvgC/AMAAwQDCAMMAxADFAMYAxwDIAMkAygDLAMwAzQDOAM8A0ADRANIA0wDUANUA1gDXANgA2QDaANsA3ADdAN4A3wDgAOEA4gDjAOQA5QDmAOcA6ADpAOoA6wDsAO0A7gDvAPAA8QDyAPMA9AD1APYA9wD4APkA+gD7APwA/QD+AP8AAAEBAQIBAwEEAQUBBgEHAQgBCQEKAQsBDAENAQ4BDwEQAREBEgETARQBFQEWARcBGAEZARoBGwEcAR0BHgEfASABIQEiASMBJAElASYBJwEoASkBKgErASwBLQEuAS8BMAExATIBMwE0ATUBNgE3ATgBOQE6ATsBPAE9AT4BPwFAAUEBQgFDAUQBRQFGAUcBSAFJAUoBSwFMAU0BTgFPAVABUQFSAVMBVAFVAVYBVwFYAVkBWgFbAVwBXQFeAV8BYAFhAWIBYwFkAWUBZgFnAWgBaQFqAWsBbAFtAW4BbwFwAXEBcgFzAXQBdQF2AXcBeAF5AXoBewF8AX0BfgF/AYABgQGCAYMBhAGFAYYBhwGIAYkBigGLAYwBjQGOAY8BkAGRAZIBkwGUAZUBlgGXAZgBmQGaAZsBnAGdAZ4BnwGgAaEBogGjAaQBpQGmAacBqAGpAaoBqwGsAa0BrgGvAbABsQGyAbMBtAG1AbYBtwG4AbkBugG7AbwBvQG+Ab8BwAHBAcIBwwHEAcUBxgHHAcgByQHKAcsBzAHNAc4BzwHQAdEB0gHTAdQB1QHWAdcB2AHZAdoB2wHcAd0B3gHfAeAB4QHiAeMB5AHlAeYB5wHoAekB6gHrAewB7QHuAe8B8AHxAfIB8wH0AfUB9gH3AfgB+QH6AfsB/AH9Af4B/wEAAgECAgIDAgQCBQIGAgcCCAIJAgoCCwIMAg0CDgIPAhACEQISAhMCFAIVAhYCFwIYAhkCGgIbAhwCHQIeAh8CIAIhAiICIwIkAiUCJgInAigCKQIqAisCLAItAi4CLwIwAjECMgIzAjQCNQI2AjcCOAI5AjoCOwI8Aj0CPgI/AkACQQJCAkMCRAJFAkYCRwJIAkkCSgJLAkwCTQJOAk8CUAJRAlICUwJUAlUCVgJXAlgCWQJaAlsCXAJdAl4CXwJgAmECYgJjAmQCZQJmAmcCaAJpAmoCawJsAm0CbgJvAnACcQJyAnMCdAJ1AnYCdwJ4AnkCegJ7AnwCfQJ+An8CgAKBAoICgwKEAoUChgKHAogCiQKKAosCjAKNAo4CjwKQApECkgKTApQClQKWApcCmAKZApoCmwKcAp0CngKfAqACoQKiAqMCpAKlAqYCpwKoAqkCqgKrAqwCrQKuAq8CsAKxArICswK0ArUCtgK3ArgCuQK6ArsCvAK9Ar4CvwLAAsECwgLDAsQCxQLGAscCyALJAsoCywLMAs0CzgLPAtAC0QLSAtMC1ALVAg==",
          "dtype": "i2"
         },
         "xaxis": "x",
         "y": {
          "bdata": "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",
          "dtype": "f8"
         },
         "yaxis": "y"
        },
        {
         "line": {
          "color": "green",
          "width": 2
         },
         "marker": {
          "color": "red",
          "size": 6
         },
         "mode": "lines+markers",
         "name": "Distance over Time",
         "showlegend": false,
         "type": "scatter",
         "x": {
          "bdata": "AQACAAMABAAFAAYABwAIAAkACgALAAwADQAOAA8AEAARABIAEwAUABUAFgAXABgAGQAaABsAHAAdAB4AHwAgACEAIgAjACQAJQAmACcAKAApACoAKwAsAC0ALgAvADAAMQAyADMANAA1ADYANwA4ADkAOgA7ADwAPQA+AD8AQABBAEIAQwBEAEUARgBHAEgASQBKAEsATABNAE4ATwBQAFEAUgBTAFQAVQBWAFcAWABZAFoAWwBcAF0AXgBfAGAAYQBiAGMAZABlAGYAZwBoAGkAagBrAGwAbQBuAG8AcABxAHIAcwB0AHUAdgB3AHgAeQB6AHsAfAB9AH4AfwCAAIEAggCDAIQAhQCGAIcAiACJAIoAiwCMAI0AjgCPAJAAkQCSAJMAlACVAJYAlwCYAJkAmgCbAJwAnQCeAJ8AoAChAKIAowCkAKUApgCnAKgAqQCqAKsArACtAK4ArwCwALEAsgCzALQAtQC2ALcAuAC5ALoAuwC8AL0AvgC/AMAAwQDCAMMAxADFAMYAxwDIAMkAygDLAMwAzQDOAM8A0ADRANIA0wDUANUA1gDXANgA2QDaANsA3ADdAN4A3wDgAOEA4gDjAOQA5QDmAOcA6ADpAOoA6wDsAO0A7gDvAPAA8QDyAPMA9AD1APYA9wD4APkA+gD7APwA/QD+AP8AAAEBAQIBAwEEAQUBBgEHAQgBCQEKAQsBDAENAQ4BDwEQAREBEgETARQBFQEWARcBGAEZARoBGwEcAR0BHgEfASABIQEiASMBJAElASYBJwEoASkBKgErASwBLQEuAS8BMAExATIBMwE0ATUBNgE3ATgBOQE6ATsBPAE9AT4BPwFAAUEBQgFDAUQBRQFGAUcBSAFJAUoBSwFMAU0BTgFPAVABUQFSAVMBVAFVAVYBVwFYAVkBWgFbAVwBXQFeAV8BYAFhAWIBYwFkAWUBZgFnAWgBaQFqAWsBbAFtAW4BbwFwAXEBcgFzAXQBdQF2AXcBeAF5AXoBewF8AX0BfgF/AYABgQGCAYMBhAGFAYYBhwGIAYkBigGLAYwBjQGOAY8BkAGRAZIBkwGUAZUBlgGXAZgBmQGaAZsBnAGdAZ4BnwGgAaEBogGjAaQBpQGmAacBqAGpAaoBqwGsAa0BrgGvAbABsQGyAbMBtAG1AbYBtwG4AbkBugG7AbwBvQG+Ab8BwAHBAcIBwwHEAcUBxgHHAcgByQHKAcsBzAHNAc4BzwHQAdEB0gHTAdQB1QHWAdcB2AHZAdoB2wHcAd0B3gHfAeAB4QHiAeMB5AHlAeYB5wHoAekB6gHrAewB7QHuAe8B8AHxAfIB8wH0AfUB9gH3AfgB+QH6AfsB/AH9Af4B/wEAAgECAgIDAgQCBQIGAgcCCAIJAgoCCwIMAg0CDgIPAhACEQISAhMCFAIVAhYCFwIYAhkCGgIbAhwCHQIeAh8CIAIhAiICIwIkAiUCJgInAigCKQIqAisCLAItAi4CLwIwAjECMgIzAjQCNQI2AjcCOAI5AjoCOwI8Aj0CPgI/AkACQQJCAkMCRAJFAkYCRwJIAkkCSgJLAkwCTQJOAk8CUAJRAlICUwJUAlUCVgJXAlgCWQJaAlsCXAJdAl4CXwJgAmECYgJjAmQCZQJmAmcCaAJpAmoCawJsAm0CbgJvAnACcQJyAnMCdAJ1AnYCdwJ4AnkCegJ7AnwCfQJ+An8CgAKBAoICgwKEAoUChgKHAogCiQKKAosCjAKNAo4CjwKQApECkgKTApQClQKWApcCmAKZApoCmwKcAp0CngKfAqACoQKiAqMCpAKlAqYCpwKoAqkCqgKrAqwCrQKuAq8CsAKxArICswK0ArUCtgK3ArgCuQK6ArsCvAK9Ar4CvwLAAsECwgLDAsQCxQLGAscCyALJAsoCywLMAs0CzgLPAtAC0QLSAtMC1ALVAg==",
          "dtype": "i2"
         },
         "xaxis": "x2",
         "y": {
          "bdata": "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",
          "dtype": "f8"
         },
         "yaxis": "y2"
        },
        {
         "marker": {
          "color": "lightcoral"
         },
         "name": "Distance Distribution",
         "nbinsx": 30,
         "opacity": 0.7,
         "showlegend": false,
         "type": "histogram",
         "x": {
          "bdata": "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",
          "dtype": "f8"
         },
         "xaxis": "x3",
         "yaxis": "y3"
        },
        {
         "line": {
          "color": "lightcoral",
          "width": 1
         },
         "mode": "lines",
         "name": "Raw data",
         "opacity": 0.5,
         "type": "scatter",
         "x": {
          "bdata": "AQACAAMABAAFAAYABwAIAAkACgALAAwADQAOAA8AEAARABIAEwAUABUAFgAXABgAGQAaABsAHAAdAB4AHwAgACEAIgAjACQAJQAmACcAKAApACoAKwAsAC0ALgAvADAAMQAyADMANAA1ADYANwA4ADkAOgA7ADwAPQA+AD8AQABBAEIAQwBEAEUARgBHAEgASQBKAEsATABNAE4ATwBQAFEAUgBTAFQAVQBWAFcAWABZAFoAWwBcAF0AXgBfAGAAYQBiAGMAZABlAGYAZwBoAGkAagBrAGwAbQBuAG8AcABxAHIAcwB0AHUAdgB3AHgAeQB6AHsAfAB9AH4AfwCAAIEAggCDAIQAhQCGAIcAiACJAIoAiwCMAI0AjgCPAJAAkQCSAJMAlACVAJYAlwCYAJkAmgCbAJwAnQCeAJ8AoAChAKIAowCkAKUApgCnAKgAqQCqAKsArACtAK4ArwCwALEAsgCzALQAtQC2ALcAuAC5ALoAuwC8AL0AvgC/AMAAwQDCAMMAxADFAMYAxwDIAMkAygDLAMwAzQDOAM8A0ADRANIA0wDUANUA1gDXANgA2QDaANsA3ADdAN4A3wDgAOEA4gDjAOQA5QDmAOcA6ADpAOoA6wDsAO0A7gDvAPAA8QDyAPMA9AD1APYA9wD4APkA+gD7APwA/QD+AP8AAAEBAQIBAwEEAQUBBgEHAQgBCQEKAQsBDAENAQ4BDwEQAREBEgETARQBFQEWARcBGAEZARoBGwEcAR0BHgEfASABIQEiASMBJAElASYBJwEoASkBKgErASwBLQEuAS8BMAExATIBMwE0ATUBNgE3ATgBOQE6ATsBPAE9AT4BPwFAAUEBQgFDAUQBRQFGAUcBSAFJAUoBSwFMAU0BTgFPAVABUQFSAVMBVAFVAVYBVwFYAVkBWgFbAVwBXQFeAV8BYAFhAWIBYwFkAWUBZgFnAWgBaQFqAWsBbAFtAW4BbwFwAXEBcgFzAXQBdQF2AXcBeAF5AXoBewF8AX0BfgF/AYABgQGCAYMBhAGFAYYBhwGIAYkBigGLAYwBjQGOAY8BkAGRAZIBkwGUAZUBlgGXAZgBmQGaAZsBnAGdAZ4BnwGgAaEBogGjAaQBpQGmAacBqAGpAaoBqwGsAa0BrgGvAbABsQGyAbMBtAG1AbYBtwG4AbkBugG7AbwBvQG+Ab8BwAHBAcIBwwHEAcUBxgHHAcgByQHKAcsBzAHNAc4BzwHQAdEB0gHTAdQB1QHWAdcB2AHZAdoB2wHcAd0B3gHfAeAB4QHiAeMB5AHlAeYB5wHoAekB6gHrAewB7QHuAe8B8AHxAfIB8wH0AfUB9gH3AfgB+QH6AfsB/AH9Af4B/wEAAgECAgIDAgQCBQIGAgcCCAIJAgoCCwIMAg0CDgIPAhACEQISAhMCFAIVAhYCFwIYAhkCGgIbAhwCHQIeAh8CIAIhAiICIwIkAiUCJgInAigCKQIqAisCLAItAi4CLwIwAjECMgIzAjQCNQI2AjcCOAI5AjoCOwI8Aj0CPgI/AkACQQJCAkMCRAJFAkYCRwJIAkkCSgJLAkwCTQJOAk8CUAJRAlICUwJUAlUCVgJXAlgCWQJaAlsCXAJdAl4CXwJgAmECYgJjAmQCZQJmAmcCaAJpAmoCawJsAm0CbgJvAnACcQJyAnMCdAJ1AnYCdwJ4AnkCegJ7AnwCfQJ+An8CgAKBAoICgwKEAoUChgKHAogCiQKKAosCjAKNAo4CjwKQApECkgKTApQClQKWApcCmAKZApoCmwKcAp0CngKfAqACoQKiAqMCpAKlAqYCpwKoAqkCqgKrAqwCrQKuAq8CsAKxArICswK0ArUCtgK3ArgCuQK6ArsCvAK9Ar4CvwLAAsECwgLDAsQCxQLGAscCyALJAsoCywLMAs0CzgLPAtAC0QLSAtMC1ALVAg==",
          "dtype": "i2"
         },
         "xaxis": "x4",
         "y": {
          "bdata": "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",
          "dtype": "f8"
         },
         "yaxis": "y4"
        },
        {
         "line": {
          "color": "darkred",
          "width": 3
         },
         "mode": "lines",
         "name": "Moving Avg (window=36)",
         "type": "scatter",
         "x": {
          "bdata": "AQACAAMABAAFAAYABwAIAAkACgALAAwADQAOAA8AEAARABIAEwAUABUAFgAXABgAGQAaABsAHAAdAB4AHwAgACEAIgAjACQAJQAmACcAKAApACoAKwAsAC0ALgAvADAAMQAyADMANAA1ADYANwA4ADkAOgA7ADwAPQA+AD8AQABBAEIAQwBEAEUARgBHAEgASQBKAEsATABNAE4ATwBQAFEAUgBTAFQAVQBWAFcAWABZAFoAWwBcAF0AXgBfAGAAYQBiAGMAZABlAGYAZwBoAGkAagBrAGwAbQBuAG8AcABxAHIAcwB0AHUAdgB3AHgAeQB6AHsAfAB9AH4AfwCAAIEAggCDAIQAhQCGAIcAiACJAIoAiwCMAI0AjgCPAJAAkQCSAJMAlACVAJYAlwCYAJkAmgCbAJwAnQCeAJ8AoAChAKIAowCkAKUApgCnAKgAqQCqAKsArACtAK4ArwCwALEAsgCzALQAtQC2ALcAuAC5ALoAuwC8AL0AvgC/AMAAwQDCAMMAxADFAMYAxwDIAMkAygDLAMwAzQDOAM8A0ADRANIA0wDUANUA1gDXANgA2QDaANsA3ADdAN4A3wDgAOEA4gDjAOQA5QDmAOcA6ADpAOoA6wDsAO0A7gDvAPAA8QDyAPMA9AD1APYA9wD4APkA+gD7APwA/QD+AP8AAAEBAQIBAwEEAQUBBgEHAQgBCQEKAQsBDAENAQ4BDwEQAREBEgETARQBFQEWARcBGAEZARoBGwEcAR0BHgEfASABIQEiASMBJAElASYBJwEoASkBKgErASwBLQEuAS8BMAExATIBMwE0ATUBNgE3ATgBOQE6ATsBPAE9AT4BPwFAAUEBQgFDAUQBRQFGAUcBSAFJAUoBSwFMAU0BTgFPAVABUQFSAVMBVAFVAVYBVwFYAVkBWgFbAVwBXQFeAV8BYAFhAWIBYwFkAWUBZgFnAWgBaQFqAWsBbAFtAW4BbwFwAXEBcgFzAXQBdQF2AXcBeAF5AXoBewF8AX0BfgF/AYABgQGCAYMBhAGFAYYBhwGIAYkBigGLAYwBjQGOAY8BkAGRAZIBkwGUAZUBlgGXAZgBmQGaAZsBnAGdAZ4BnwGgAaEBogGjAaQBpQGmAacBqAGpAaoBqwGsAa0BrgGvAbABsQGyAbMBtAG1AbYBtwG4AbkBugG7AbwBvQG+Ab8BwAHBAcIBwwHEAcUBxgHHAcgByQHKAcsBzAHNAc4BzwHQAdEB0gHTAdQB1QHWAdcB2AHZAdoB2wHcAd0B3gHfAeAB4QHiAeMB5AHlAeYB5wHoAekB6gHrAewB7QHuAe8B8AHxAfIB8wH0AfUB9gH3AfgB+QH6AfsB/AH9Af4B/wEAAgECAgIDAgQCBQIGAgcCCAIJAgoCCwIMAg0CDgIPAhACEQISAhMCFAIVAhYCFwIYAhkCGgIbAhwCHQIeAh8CIAIhAiICIwIkAiUCJgInAigCKQIqAisCLAItAi4CLwIwAjECMgIzAjQCNQI2AjcCOAI5AjoCOwI8Aj0CPgI/AkACQQJCAkMCRAJFAkYCRwJIAkkCSgJLAkwCTQJOAk8CUAJRAlICUwJUAlUCVgJXAlgCWQJaAlsCXAJdAl4CXwJgAmECYgJjAmQCZQJmAmcCaAJpAmoCawJsAm0CbgJvAnACcQJyAnMCdAJ1AnYCdwJ4AnkCegJ7AnwCfQJ+An8CgAKBAoICgwKEAoUChgKHAogCiQKKAosCjAKNAo4CjwKQApECkgKTApQClQKWApcCmAKZApoCmwKcAp0CngKfAqACoQKiAqMCpAKlAqYCpwKoAqkCqgKrAqwCrQKuAq8CsAKxArICswK0ArUCtgK3ArgCuQK6ArsCvAK9Ar4CvwLAAsECwgLDAsQCxQLGAscCyALJAsoCywLMAs0CzgLPAtAC0QLSAtMC1ALVAg==",
          "dtype": "i2"
         },
         "xaxis": "x4",
         "y": {
          "bdata": "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",
          "dtype": "f8"
         },
         "yaxis": "y4"
        },
        {
         "fill": "toself",
         "fillcolor": "rgba(255,0,0,0.3)",
         "line": {
          "color": "rgba(255,255,255,0)"
         },
         "name": "±1 Std Dev",
         "type": "scatter",
         "x": [
          1,
          2,
          3,
          4,
          5,
          6,
          7,
          8,
          9,
          10,
          11,
          12,
          13,
          14,
          15,
          16,
          17,
          18,
          19,
          20,
          21,
          22,
          23,
          24,
          25,
          26,
          27,
          28,
          29,
          30,
          31,
          32,
          33,
          34,
          35,
          36,
          37,
          38,
          39,
          40,
          41,
          42,
          43,
          44,
          45,
          46,
          47,
          48,
          49,
          50,
          51,
          52,
          53,
          54,
          55,
          56,
          57,
          58,
          59,
          60,
          61,
          62,
          63,
          64,
          65,
          66,
          67,
          68,
          69,
          70,
          71,
          72,
          73,
          74,
          75,
          76,
          77,
          78,
          79,
          80,
          81,
          82,
          83,
          84,
          85,
          86,
          87,
          88,
          89,
          90,
          91,
          92,
          93,
          94,
          95,
          96,
          97,
          98,
          99,
          100,
          101,
          102,
          103,
          104,
          105,
          106,
          107,
          108,
          109,
          110,
          111,
          112,
          113,
          114,
          115,
          116,
          117,
          118,
          119,
          120,
          121,
          122,
          123,
          124,
          125,
          126,
          127,
          128,
          129,
          130,
          131,
          132,
          133,
          134,
          135,
          136,
          137,
          138,
          139,
          140,
          141,
          142,
          143,
          144,
          145,
          146,
          147,
          148,
          149,
          150,
          151,
          152,
          153,
          154,
          155,
          156,
          157,
          158,
          159,
          160,
          161,
          162,
          163,
          164,
          165,
          166,
          167,
          168,
          169,
          170,
          171,
          172,
          173,
          174,
          175,
          176,
          177,
          178,
          179,
          180,
          181,
          182,
          183,
          184,
          185,
          186,
          187,
          188,
          189,
          190,
          191,
          192,
          193,
          194,
          195,
          196,
          197,
          198,
          199,
          200,
          201,
          202,
          203,
          204,
          205,
          206,
          207,
          208,
          209,
          210,
          211,
          212,
          213,
          214,
          215,
          216,
          217,
          218,
          219,
          220,
          221,
          222,
          223,
          224,
          225,
          226,
          227,
          228,
          229,
          230,
          231,
          232,
          233,
          234,
          235,
          236,
          237,
          238,
          239,
          240,
          241,
          242,
          243,
          244,
          245,
          246,
          247,
          248,
          249,
          250,
          251,
          252,
          253,
          254,
          255,
          256,
          257,
          258,
          259,
          260,
          261,
          262,
          263,
          264,
          265,
          266,
          267,
          268,
          269,
          270,
          271,
          272,
          273,
          274,
          275,
          276,
          277,
          278,
          279,
          280,
          281,
          282,
          283,
          284,
          285,
          286,
          287,
          288,
          289,
          290,
          291,
          292,
          293,
          294,
          295,
          296,
          297,
          298,
          299,
          300,
          301,
          302,
          303,
          304,
          305,
          306,
          307,
          308,
          309,
          310,
          311,
          312,
          313,
          314,
          315,
          316,
          317,
          318,
          319,
          320,
          321,
          322,
          323,
          324,
          325,
          326,
          327,
          328,
          329,
          330,
          331,
          332,
          333,
          334,
          335,
          336,
          337,
          338,
          339,
          340,
          341,
          342,
          343,
          344,
          345,
          346,
          347,
          348,
          349,
          350,
          351,
          352,
          353,
          354,
          355,
          356,
          357,
          358,
          359,
          360,
          361,
          362,
          363,
          364,
          365,
          366,
          367,
          368,
          369,
          370,
          371,
          372,
          373,
          374,
          375,
          376,
          377,
          378,
          379,
          380,
          381,
          382,
          383,
          384,
          385,
          386,
          387,
          388,
          389,
          390,
          391,
          392,
          393,
          394,
          395,
          396,
          397,
          398,
          399,
          400,
          401,
          402,
          403,
          404,
          405,
          406,
          407,
          408,
          409,
          410,
          411,
          412,
          413,
          414,
          415,
          416,
          417,
          418,
          419,
          420,
          421,
          422,
          423,
          424,
          425,
          426,
          427,
          428,
          429,
          430,
          431,
          432,
          433,
          434,
          435,
          436,
          437,
          438,
          439,
          440,
          441,
          442,
          443,
          444,
          445,
          446,
          447,
          448,
          449,
          450,
          451,
          452,
          453,
          454,
          455,
          456,
          457,
          458,
          459,
          460,
          461,
          462,
          463,
          464,
          465,
          466,
          467,
          468,
          469,
          470,
          471,
          472,
          473,
          474,
          475,
          476,
          477,
          478,
          479,
          480,
          481,
          482,
          483,
          484,
          485,
          486,
          487,
          488,
          489,
          490,
          491,
          492,
          493,
          494,
          495,
          496,
          497,
          498,
          499,
          500,
          501,
          502,
          503,
          504,
          505,
          506,
          507,
          508,
          509,
          510,
          511,
          512,
          513,
          514,
          515,
          516,
          517,
          518,
          519,
          520,
          521,
          522,
          523,
          524,
          525,
          526,
          527,
          528,
          529,
          530,
          531,
          532,
          533,
          534,
          535,
          536,
          537,
          538,
          539,
          540,
          541,
          542,
          543,
          544,
          545,
          546,
          547,
          548,
          549,
          550,
          551,
          552,
          553,
          554,
          555,
          556,
          557,
          558,
          559,
          560,
          561,
          562,
          563,
          564,
          565,
          566,
          567,
          568,
          569,
          570,
          571,
          572,
          573,
          574,
          575,
          576,
          577,
          578,
          579,
          580,
          581,
          582,
          583,
          584,
          585,
          586,
          587,
          588,
          589,
          590,
          591,
          592,
          593,
          594,
          595,
          596,
          597,
          598,
          599,
          600,
          601,
          602,
          603,
          604,
          605,
          606,
          607,
          608,
          609,
          610,
          611,
          612,
          613,
          614,
          615,
          616,
          617,
          618,
          619,
          620,
          621,
          622,
          623,
          624,
          625,
          626,
          627,
          628,
          629,
          630,
          631,
          632,
          633,
          634,
          635,
          636,
          637,
          638,
          639,
          640,
          641,
          642,
          643,
          644,
          645,
          646,
          647,
          648,
          649,
          650,
          651,
          652,
          653,
          654,
          655,
          656,
          657,
          658,
          659,
          660,
          661,
          662,
          663,
          664,
          665,
          666,
          667,
          668,
          669,
          670,
          671,
          672,
          673,
          674,
          675,
          676,
          677,
          678,
          679,
          680,
          681,
          682,
          683,
          684,
          685,
          686,
          687,
          688,
          689,
          690,
          691,
          692,
          693,
          694,
          695,
          696,
          697,
          698,
          699,
          700,
          701,
          702,
          703,
          704,
          705,
          706,
          707,
          708,
          709,
          710,
          711,
          712,
          713,
          714,
          715,
          716,
          717,
          718,
          719,
          720,
          721,
          722,
          723,
          724,
          725,
          725,
          724,
          723,
          722,
          721,
          720,
          719,
          718,
          717,
          716,
          715,
          714,
          713,
          712,
          711,
          710,
          709,
          708,
          707,
          706,
          705,
          704,
          703,
          702,
          701,
          700,
          699,
          698,
          697,
          696,
          695,
          694,
          693,
          692,
          691,
          690,
          689,
          688,
          687,
          686,
          685,
          684,
          683,
          682,
          681,
          680,
          679,
          678,
          677,
          676,
          675,
          674,
          673,
          672,
          671,
          670,
          669,
          668,
          667,
          666,
          665,
          664,
          663,
          662,
          661,
          660,
          659,
          658,
          657,
          656,
          655,
          654,
          653,
          652,
          651,
          650,
          649,
          648,
          647,
          646,
          645,
          644,
          643,
          642,
          641,
          640,
          639,
          638,
          637,
          636,
          635,
          634,
          633,
          632,
          631,
          630,
          629,
          628,
          627,
          626,
          625,
          624,
          623,
          622,
          621,
          620,
          619,
          618,
          617,
          616,
          615,
          614,
          613,
          612,
          611,
          610,
          609,
          608,
          607,
          606,
          605,
          604,
          603,
          602,
          601,
          600,
          599,
          598,
          597,
          596,
          595,
          594,
          593,
          592,
          591,
          590,
          589,
          588,
          587,
          586,
          585,
          584,
          583,
          582,
          581,
          580,
          579,
          578,
          577,
          576,
          575,
          574,
          573,
          572,
          571,
          570,
          569,
          568,
          567,
          566,
          565,
          564,
          563,
          562,
          561,
          560,
          559,
          558,
          557,
          556,
          555,
          554,
          553,
          552,
          551,
          550,
          549,
          548,
          547,
          546,
          545,
          544,
          543,
          542,
          541,
          540,
          539,
          538,
          537,
          536,
          535,
          534,
          533,
          532,
          531,
          530,
          529,
          528,
          527,
          526,
          525,
          524,
          523,
          522,
          521,
          520,
          519,
          518,
          517,
          516,
          515,
          514,
          513,
          512,
          511,
          510,
          509,
          508,
          507,
          506,
          505,
          504,
          503,
          502,
          501,
          500,
          499,
          498,
          497,
          496,
          495,
          494,
          493,
          492,
          491,
          490,
          489,
          488,
          487,
          486,
          485,
          484,
          483,
          482,
          481,
          480,
          479,
          478,
          477,
          476,
          475,
          474,
          473,
          472,
          471,
          470,
          469,
          468,
          467,
          466,
          465,
          464,
          463,
          462,
          461,
          460,
          459,
          458,
          457,
          456,
          455,
          454,
          453,
          452,
          451,
          450,
          449,
          448,
          447,
          446,
          445,
          444,
          443,
          442,
          441,
          440,
          439,
          438,
          437,
          436,
          435,
          434,
          433,
          432,
          431,
          430,
          429,
          428,
          427,
          426,
          425,
          424,
          423,
          422,
          421,
          420,
          419,
          418,
          417,
          416,
          415,
          414,
          413,
          412,
          411,
          410,
          409,
          408,
          407,
          406,
          405,
          404,
          403,
          402,
          401,
          400,
          399,
          398,
          397,
          396,
          395,
          394,
          393,
          392,
          391,
          390,
          389,
          388,
          387,
          386,
          385,
          384,
          383,
          382,
          381,
          380,
          379,
          378,
          377,
          376,
          375,
          374,
          373,
          372,
          371,
          370,
          369,
          368,
          367,
          366,
          365,
          364,
          363,
          362,
          361,
          360,
          359,
          358,
          357,
          356,
          355,
          354,
          353,
          352,
          351,
          350,
          349,
          348,
          347,
          346,
          345,
          344,
          343,
          342,
          341,
          340,
          339,
          338,
          337,
          336,
          335,
          334,
          333,
          332,
          331,
          330,
          329,
          328,
          327,
          326,
          325,
          324,
          323,
          322,
          321,
          320,
          319,
          318,
          317,
          316,
          315,
          314,
          313,
          312,
          311,
          310,
          309,
          308,
          307,
          306,
          305,
          304,
          303,
          302,
          301,
          300,
          299,
          298,
          297,
          296,
          295,
          294,
          293,
          292,
          291,
          290,
          289,
          288,
          287,
          286,
          285,
          284,
          283,
          282,
          281,
          280,
          279,
          278,
          277,
          276,
          275,
          274,
          273,
          272,
          271,
          270,
          269,
          268,
          267,
          266,
          265,
          264,
          263,
          262,
          261,
          260,
          259,
          258,
          257,
          256,
          255,
          254,
          253,
          252,
          251,
          250,
          249,
          248,
          247,
          246,
          245,
          244,
          243,
          242,
          241,
          240,
          239,
          238,
          237,
          236,
          235,
          234,
          233,
          232,
          231,
          230,
          229,
          228,
          227,
          226,
          225,
          224,
          223,
          222,
          221,
          220,
          219,
          218,
          217,
          216,
          215,
          214,
          213,
          212,
          211,
          210,
          209,
          208,
          207,
          206,
          205,
          204,
          203,
          202,
          201,
          200,
          199,
          198,
          197,
          196,
          195,
          194,
          193,
          192,
          191,
          190,
          189,
          188,
          187,
          186,
          185,
          184,
          183,
          182,
          181,
          180,
          179,
          178,
          177,
          176,
          175,
          174,
          173,
          172,
          171,
          170,
          169,
          168,
          167,
          166,
          165,
          164,
          163,
          162,
          161,
          160,
          159,
          158,
          157,
          156,
          155,
          154,
          153,
          152,
          151,
          150,
          149,
          148,
          147,
          146,
          145,
          144,
          143,
          142,
          141,
          140,
          139,
          138,
          137,
          136,
          135,
          134,
          133,
          132,
          131,
          130,
          129,
          128,
          127,
          126,
          125,
          124,
          123,
          122,
          121,
          120,
          119,
          118,
          117,
          116,
          115,
          114,
          113,
          112,
          111,
          110,
          109,
          108,
          107,
          106,
          105,
          104,
          103,
          102,
          101,
          100,
          99,
          98,
          97,
          96,
          95,
          94,
          93,
          92,
          91,
          90,
          89,
          88,
          87,
          86,
          85,
          84,
          83,
          82,
          81,
          80,
          79,
          78,
          77,
          76,
          75,
          74,
          73,
          72,
          71,
          70,
          69,
          68,
          67,
          66,
          65,
          64,
          63,
          62,
          61,
          60,
          59,
          58,
          57,
          56,
          55,
          54,
          53,
          52,
          51,
          50,
          49,
          48,
          47,
          46,
          45,
          44,
          43,
          42,
          41,
          40,
          39,
          38,
          37,
          36,
          35,
          34,
          33,
          32,
          31,
          30,
          29,
          28,
          27,
          26,
          25,
          24,
          23,
          22,
          21,
          20,
          19,
          18,
          17,
          16,
          15,
          14,
          13,
          12,
          11,
          10,
          9,
          8,
          7,
          6,
          5,
          4,
          3,
          2,
          1
         ],
         "xaxis": "x4",
         "y": [
          null,
          null,
          null,
          null,
          null,
          null,
          null,
          null,
          null,
          null,
          null,
          null,
          null,
          null,
          null,
          null,
          null,
          null,
          0.8005357066953667,
          0.7986493943310771,
          0.7983027615784355,
          0.7965947139269711,
          0.79481720437988,
          0.7915573658147408,
          0.7892524380584416,
          0.7845601479361026,
          0.7771894404967691,
          0.7695915796484536,
          0.7609921858671396,
          0.7556566792174423,
          0.7499325843860426,
          0.7430428056631622,
          0.7372934565589324,
          0.7326037521555443,
          0.7263446869228594,
          0.7198359124239593,
          0.7138192183714084,
          0.7086066272014918,
          0.7041786518654206,
          0.6995210134429887,
          0.6954673145898237,
          0.6909850566014855,
          0.6880348413335038,
          0.683597190273465,
          0.6802198656676534,
          0.6763667956950202,
          0.6721606324058836,
          0.6683640329747687,
          0.6644650143672751,
          0.660899504374839,
          0.6567047960915282,
          0.6532788209593584,
          0.6500278104528094,
          0.6466048336974501,
          0.6430375608631216,
          0.6403919780889245,
          0.6377981047340835,
          0.6348878791415212,
          0.6316506868048792,
          0.6279181584541884,
          0.6240269111475837,
          0.6199224692765639,
          0.6162631712273962,
          0.6128140436277634,
          0.6096701144593669,
          0.6061860290375424,
          0.6026087199110437,
          0.5991973489141961,
          0.5964462722889433,
          0.5945416470018648,
          0.5910305051176867,
          0.5897080317991453,
          0.5887154784584385,
          0.5882231818158522,
          0.5880941584805287,
          0.5881156859451738,
          0.5886383644209026,
          0.5889626068044317,
          0.5893778509037657,
          0.5896913474889015,
          0.5898617008369722,
          0.5900065793609763,
          0.5902867436033297,
          0.5904122591740909,
          0.5904261413246688,
          0.5905968204930999,
          0.5910516140943093,
          0.5921846946324167,
          0.5929364925260104,
          0.5944392384644234,
          0.5965381348121022,
          0.5987149933225465,
          0.6025902292127535,
          0.6066655314034367,
          0.6101158128638487,
          0.6130547261720397,
          0.6163598751431941,
          0.6201339813459912,
          0.6236463694762793,
          0.6269918139623526,
          0.6302417671820781,
          0.6341649106963718,
          0.6382058231120681,
          0.6418855507342305,
          0.6453552201668009,
          0.6490710827068953,
          0.6529258395415057,
          0.6568179205444524,
          0.6597793295003868,
          0.6628116110311855,
          0.6660721285459813,
          0.6688491258148187,
          0.6720985174257157,
          0.6753273970437534,
          0.6784627531702919,
          0.6802313645233973,
          0.6828039990039727,
          0.6850621229233852,
          0.6878283247383887,
          0.6904736584348071,
          0.6927968835625304,
          0.6948552028788009,
          0.6971130476205919,
          0.6998449455752567,
          0.7018532165473063,
          0.7039035535833602,
          0.7062477967146881,
          0.708320835394503,
          0.7106008135600318,
          0.7128180259992162,
          0.7147967512587846,
          0.7160820213515315,
          0.7176372513953828,
          0.7189846062816501,
          0.7196309091599586,
          0.7200607058755131,
          0.7205153762217071,
          0.7214232627259448,
          0.7215960829101414,
          0.7218135833989038,
          0.7217649351753104,
          0.7216234498706443,
          0.7215540554121439,
          0.7215251471479985,
          0.721471150960337,
          0.72149877175568,
          0.7215796687857166,
          0.7214962860209075,
          0.7215353878409376,
          0.7215464892958795,
          0.7215696305237421,
          0.7214455524855271,
          0.7217537145869494,
          0.7218000184190294,
          0.7218072095487832,
          0.7216947448076979,
          0.7217343945545088,
          0.7215616215707973,
          0.7212409137542561,
          0.7204889968074344,
          0.7198712829091551,
          0.7190193841747197,
          0.7177901238306739,
          0.7164939872778119,
          0.715175601124683,
          0.718704823331475,
          0.7173303304317624,
          0.7201762532783541,
          0.7238424881785486,
          0.7272877989086995,
          0.7271126551918674,
          0.7267937891619857,
          0.7300978661613015,
          0.7292789778885176,
          0.7290158378352872,
          0.728601824277402,
          0.7283415944961661,
          0.7283705114568404,
          0.728303755288591,
          0.7282509584078145,
          0.7282517380359462,
          0.7282669904221332,
          0.7282848012217354,
          0.7282356233344867,
          0.7280487019740486,
          0.7278850438258322,
          0.7276578014932958,
          0.72742070172976,
          0.7267606983729682,
          0.7264183246631924,
          0.725928440738483,
          0.7254805475881508,
          0.7248403480279436,
          0.7246134135229829,
          0.7242296601572535,
          0.7238632453895955,
          0.723518119170596,
          0.7243202847180327,
          0.7268466527280842,
          0.7284459728198261,
          0.7280574943559868,
          0.726573382030065,
          0.7306297057906609,
          0.7300676022121383,
          0.7256245996599284,
          0.7208486134857597,
          0.7201035717210857,
          0.7195962090802979,
          0.7145597957641884,
          0.7215593145314468,
          0.7213480083519197,
          0.7281518750004661,
          0.7279252071787782,
          0.7328966045206717,
          0.7329036249493864,
          0.7329614660565954,
          0.7330208922890813,
          0.733126856460249,
          0.7329947692419939,
          0.7329487589111829,
          0.7328272063765887,
          0.7327147529421184,
          0.73260682659393,
          0.732465913479911,
          0.7323267761311526,
          0.7321581367565801,
          0.7318882062368965,
          0.7316003288114843,
          0.7313620563109708,
          0.7311720882096979,
          0.7309879290927599,
          0.7307157472836702,
          0.730477729758083,
          0.7292978574719443,
          0.7261146867295668,
          0.7236179431885603,
          0.7236834009992763,
          0.7206217386287747,
          0.7156512084114711,
          0.7116617598422952,
          0.7115853553071957,
          0.7119407024209002,
          0.7124320550511009,
          0.7128429450303919,
          0.7136068547880655,
          0.7067320542656128,
          0.7081304886900829,
          0.6997976488174413,
          0.701388300769446,
          0.6933935790621147,
          0.6955146930565175,
          0.6962603716024569,
          0.7015154371257005,
          0.7063366764364737,
          0.7084054809313436,
          0.7097632327936683,
          0.7110281747060666,
          0.7138926685013351,
          0.7148825421856635,
          0.7159609597748239,
          0.7169350274846303,
          0.7173906316784061,
          0.7176090119847015,
          0.7176536255967421,
          0.7175200337061551,
          0.7175183439220159,
          0.7174998468301093,
          0.7177303730515592,
          0.718619729006773,
          0.7197237251082095,
          0.7208332519116206,
          0.7208418310872123,
          0.7209120026551903,
          0.7220967832659277,
          0.7238248188535218,
          0.7242599716398046,
          0.7247433665517921,
          0.7250628474218209,
          0.7254490831360296,
          0.7263991745835323,
          0.7264121810446273,
          0.7267398219877925,
          0.7268955677803817,
          0.7263392881844639,
          0.7258149681862401,
          0.7267885502473007,
          0.7260059713882396,
          0.725627086999857,
          0.7235397115997277,
          0.7202730333724494,
          0.7192360549547382,
          0.7183453358478452,
          0.7174158524339843,
          0.7148979406915683,
          0.7140267539319052,
          0.7129512900504188,
          0.7118564931086603,
          0.7112339537118553,
          0.7108580970670083,
          0.7104315302677169,
          0.7104108861446123,
          0.710420231690825,
          0.7103087247667758,
          0.7097141800748928,
          0.7081577467859199,
          0.7061904202372894,
          0.7038897101962871,
          0.7038149587464841,
          0.7037540782899688,
          0.7010926568868939,
          0.6973775246001097,
          0.6973912970637518,
          0.6955600688373552,
          0.6940878533699618,
          0.6942249134104659,
          0.6913041898466263,
          0.6917294630458428,
          0.6894861948716235,
          0.686994075200802,
          0.6873106749699786,
          0.687733478037709,
          0.6829860596833834,
          0.6835065676196603,
          0.68326904804815,
          0.6793384710882173,
          0.6782722241274405,
          0.6761308037697911,
          0.6756328500556644,
          0.6755315267310626,
          0.6751454547212308,
          0.6747186845678921,
          0.6745017459146685,
          0.6743819343658132,
          0.674395266670575,
          0.6743635912649172,
          0.6742271966412233,
          0.6743147069090784,
          0.6742334655476074,
          0.6742725663901111,
          0.6744900414637666,
          0.6745898930426064,
          0.6750314192684088,
          0.6757895929982961,
          0.677155122018521,
          0.678173364445357,
          0.6795267076740968,
          0.6805039154364728,
          0.6820022219163343,
          0.6841048972113284,
          0.6858449451624591,
          0.6882746395295878,
          0.6913656032440502,
          0.6951258941766828,
          0.6987826605285447,
          0.7024915189712875,
          0.7054453583558709,
          0.7083050631656652,
          0.7111503531691741,
          0.714061050777145,
          0.7159040066486198,
          0.717646171461544,
          0.7188750634535817,
          0.7198674690272133,
          0.7204447078922789,
          0.7208886273113659,
          0.7213258963208086,
          0.7215962716941303,
          0.7218394441932195,
          0.7219186261796673,
          0.7218884976112759,
          0.7218518117066234,
          0.721801524272363,
          0.7219111176345011,
          0.7217619923282733,
          0.7215889238477109,
          0.7215055004339742,
          0.7213414773890091,
          0.7213127744412791,
          0.7213175161644964,
          0.7214131995281894,
          0.7215589386502098,
          0.7215626151901102,
          0.7215272878148389,
          0.7215383967479368,
          0.7211551864575956,
          0.7208249632447391,
          0.7201515718312693,
          0.7190071386186496,
          0.7172486006482244,
          0.7152900593882721,
          0.7129415843528213,
          0.7112277680642297,
          0.7106731284048164,
          0.7096289815419968,
          0.7085610028176413,
          0.708898242617026,
          0.7097921856119289,
          0.711346700349733,
          0.7128439935957271,
          0.7145225787265803,
          0.7166941459157047,
          0.7185700659493949,
          0.7203671331806043,
          0.7220400236953254,
          0.7231147046670395,
          0.7240149305960829,
          0.7248127790042476,
          0.7252999485077378,
          0.7255601654844067,
          0.7258333276719589,
          0.7260712223081622,
          0.7263543629652333,
          0.7265533629613657,
          0.7268477013820039,
          0.7269461176416722,
          0.7268778922151696,
          0.7267011330827011,
          0.7265367604085389,
          0.7264776378374792,
          0.7261071402387974,
          0.7261378855807525,
          0.7261550672882757,
          0.7261969980713875,
          0.7264236140089907,
          0.7265774814668903,
          0.7266564730497818,
          0.7267661452423504,
          0.7266760317846122,
          0.7255347376141373,
          0.7244226760422948,
          0.7230408315684422,
          0.7214806300621658,
          0.7193974718600666,
          0.7170261526164384,
          0.714663161702113,
          0.712307823467258,
          0.7093425578889391,
          0.7064411135039328,
          0.7033371651136425,
          0.7000171426207552,
          0.6976218926025406,
          0.6954776509395227,
          0.6932294764850493,
          0.6912976883636591,
          0.6893900842510936,
          0.6878720177789428,
          0.6864914986791759,
          0.6847109824835681,
          0.6830641529628593,
          0.680667481903318,
          0.6790308067409211,
          0.6777699492692149,
          0.6769508574160198,
          0.6757156813286391,
          0.6749318894822851,
          0.6745696919873234,
          0.6747024629112687,
          0.6740882559444561,
          0.6741106845869922,
          0.6743234427210151,
          0.6740991735585811,
          0.6736946624301475,
          0.673496877962878,
          0.6736098826455218,
          0.6733143035947041,
          0.6729662846664219,
          0.6727085074487943,
          0.6725456389242923,
          0.6725476426775984,
          0.6722595221475332,
          0.6716906546523579,
          0.6710953677973057,
          0.669908536968525,
          0.6682007143863807,
          0.666696993460691,
          0.6657872102627053,
          0.6642685828709471,
          0.6628328481114205,
          0.6611266137297761,
          0.6598783714586167,
          0.6589775264048635,
          0.6572479567676409,
          0.6556544457069141,
          0.6545771562650632,
          0.6533544281751387,
          0.6525379238017524,
          0.6515133602088632,
          0.6508268305392368,
          0.6508486966399408,
          0.6506665714688664,
          0.6508927117389771,
          0.6518113200718413,
          0.6532379239744531,
          0.6549538905199821,
          0.6573372678207149,
          0.6600119731253388,
          0.661815339980664,
          0.6636368795487682,
          0.6656203224495899,
          0.6674565664732726,
          0.6692845106734444,
          0.6713581291664267,
          0.6731979304630151,
          0.6751230436498551,
          0.6770869974804032,
          0.6789850759967672,
          0.6806472899593896,
          0.68212213621939,
          0.6834707582833351,
          0.6844410752821957,
          0.6855325853847228,
          0.686369312588237,
          0.6866571505683475,
          0.6867895701164818,
          0.6871092839168007,
          0.68716960734855,
          0.6869167287456351,
          0.6856456453381138,
          0.685347046928591,
          0.6850279996343434,
          0.6847589287507777,
          0.6843874049991999,
          0.6842533554651394,
          0.6838661323739736,
          0.6836049831861264,
          0.6835669127699282,
          0.6836587933683702,
          0.6836428212610286,
          0.6836577131694216,
          0.6836707202623319,
          0.6835389328243128,
          0.6834278982139695,
          0.6837021347721907,
          0.6835979875867082,
          0.6840343207225977,
          0.6849010549836833,
          0.6859120796983517,
          0.6876909728352838,
          0.6905108313674223,
          0.693007574486138,
          0.6947516758968818,
          0.697137938241015,
          0.7001948605927565,
          0.7029693097877399,
          0.7055175162006069,
          0.7080593214872486,
          0.7103550174038274,
          0.7126940198242213,
          0.714946206770718,
          0.7167596012620986,
          0.7181374124616043,
          0.7195180662891514,
          0.7204492004615507,
          0.7213066599587705,
          0.7216291067055638,
          0.7219188588251305,
          0.722052018527564,
          0.7221207302767946,
          0.7222065580788973,
          0.722234949447844,
          0.722155325006482,
          0.7219619506270437,
          0.7217136756655302,
          0.7216108736491983,
          0.7215546481385205,
          0.7214526310902025,
          0.7212854765823709,
          0.7212501424533885,
          0.7212172908153716,
          0.7211175327100003,
          0.721119493654925,
          0.727042279564995,
          0.7269742113956839,
          0.726591242812614,
          0.7258783944892675,
          0.7318568088438558,
          0.7311363101876849,
          0.7301738720078943,
          0.7311318890919403,
          0.7296057734189223,
          0.7311250368448217,
          0.7290015516875205,
          0.7269534006665256,
          0.7250259370725707,
          0.7230184850085181,
          0.7211072379609915,
          0.7200637701622081,
          0.719389520309144,
          0.7181075106785247,
          0.7168254061289738,
          0.7174278103577791,
          0.7181261894161115,
          0.7172033313162293,
          0.716122389676537,
          0.7178566176122034,
          0.7185357534869448,
          0.7171119617733628,
          0.7179906790268229,
          0.7162779427441064,
          0.7162204318390719,
          0.7141847621558348,
          0.7120116017828053,
          0.7090280455944178,
          0.7057993522826096,
          0.702585982576603,
          0.6994881230121182,
          0.6961312874295155,
          0.6959607506592189,
          0.6921486029684714,
          0.6883593469256194,
          0.685760222723923,
          0.6857833976780568,
          0.6815484225700492,
          0.6766322967919622,
          0.6764844072760412,
          0.6716000895966332,
          0.6716306514520274,
          0.6677196872643828,
          0.663623813757321,
          0.6584133043834179,
          0.6531484140710195,
          0.6480495437321045,
          0.6482385198536026,
          0.6427362775265872,
          0.6430621001158268,
          0.6435570731145729,
          0.6358712974637969,
          0.6301850765883523,
          0.6312056904834179,
          0.634460011973503,
          0.6254945825266857,
          0.6175375451628666,
          0.6218520332261755,
          0.612935055376105,
          0.6179121978942729,
          0.6159910484226413,
          0.6217415898024777,
          0.6274905806865216,
          0.6328026698413527,
          0.6379990567578884,
          0.6398889863725206,
          0.6449657651250803,
          0.6496911324594887,
          0.653803578916353,
          0.6581318611923379,
          0.6622469350152714,
          0.6664995709422429,
          0.6705477563160394,
          0.6743030771377317,
          0.6774928950988995,
          0.6806907342698156,
          0.6825033524290054,
          0.6850615040124338,
          0.6875734739823297,
          0.6899425393849062,
          0.6916988689875475,
          0.6933157949099022,
          0.6947208061947556,
          0.6956860362013815,
          0.6973931419946193,
          0.6982565484745019,
          0.6985445974441417,
          0.6984419330832097,
          0.699622454884846,
          0.6994038804228463,
          0.7005474727935033,
          0.6998864883792236,
          0.6980483432546983,
          0.6990214610047523,
          0.6960410907140324,
          0.6962589769178585,
          0.697289807703972,
          0.6983613122333702,
          0.6993913793872896,
          0.7003007716238737,
          0.701378713922699,
          0.6995082302221552,
          0.7004249741774673,
          0.7011964512514942,
          0.702583792081432,
          0.7046674002445075,
          0.7069914356322596,
          0.7094337140155902,
          0.7120217355965888,
          0.7137795214944679,
          0.7155360962932517,
          0.7167634997141175,
          0.7177143283935308,
          0.7190108555584381,
          0.7204606054576012,
          0.7217033149390207,
          0.7223029884356826,
          0.7231081678878614,
          0.7236332597183793,
          0.7240272147113544,
          0.7241924487997009,
          0.7243075559990753,
          0.724418488489409,
          0.7243975435416089,
          0.7243536554198492,
          0.7242841856595211,
          0.7242639081021558,
          0.7241419267048326,
          0.7241314433517868,
          0.7243135268272445,
          0.7246608562040608,
          0.7247577531193249,
          0.725233091768301,
          null,
          null,
          null,
          null,
          null,
          null,
          null,
          null,
          null,
          null,
          null,
          null,
          null,
          null,
          null,
          null,
          null,
          null,
          null,
          null,
          null,
          null,
          null,
          null,
          null,
          null,
          null,
          null,
          null,
          null,
          null,
          null,
          null,
          null,
          0.694143946177302,
          0.6963058404006043,
          0.6968220189580143,
          0.6983414149619682,
          0.6992650750113195,
          0.6992337103013855,
          0.6987479910508776,
          0.6984570900255983,
          0.6979680347268576,
          0.697748760801287,
          0.6973899460599374,
          0.6964143626410257,
          0.6955084392056923,
          0.6944890408628575,
          0.6931513537965622,
          0.6923990432707322,
          0.6916015385881584,
          0.690441269832171,
          0.6894401222720249,
          0.6885744713733107,
          0.6879014605253069,
          0.6872696039200834,
          0.6864287198884015,
          0.685790779608065,
          0.6854846576622087,
          0.6854328000713448,
          0.6852758692549924,
          0.6849713821573786,
          0.6846529329178381,
          0.6838205941565837,
          0.6832087951205648,
          0.6826321131014293,
          0.6765239147463888,
          0.6758303889074907,
          0.6750414976287532,
          0.674376205536558,
          0.6733452056203668,
          0.6728025291808125,
          0.6708055325721332,
          0.6622741308404776,
          0.660417779585588,
          0.6536079825618083,
          0.6481785460832907,
          0.6462654077786852,
          0.6406504451778965,
          0.6388811714695586,
          0.6323598757049954,
          0.6263294471857758,
          0.6210312525437376,
          0.6189714664817818,
          0.6137207413477592,
          0.6077142463473151,
          0.6016510084782328,
          0.5963742131497406,
          0.5924329187473026,
          0.5881475993952178,
          0.5825348692077359,
          0.5739065561876939,
          0.5694975536666581,
          0.5640235993172898,
          0.5585101557780965,
          0.5541273703695336,
          0.5510693769258076,
          0.5493229486681628,
          0.5476404652773739,
          0.5464607109081749,
          0.5455422162262961,
          0.5444673719660567,
          0.5435533396556775,
          0.542479276703872,
          0.541813995817499,
          0.5388215394685666,
          0.5368353764070203,
          0.53594416968934,
          0.5344353400743389,
          0.531562149480653,
          0.5302002124826737,
          0.5281656423749911,
          0.5259027341773311,
          0.5241337249541346,
          0.5229767039587221,
          0.5213725941920392,
          0.5210145634511655,
          0.5200826937680461,
          0.5196427020528196,
          0.5188785150320553,
          0.5185768531870438,
          0.5200706207222656,
          0.5219672382812459,
          0.5238650180836805,
          0.525487297584197,
          0.527588166463721,
          0.5271822121509542,
          0.5327646134181101,
          0.5335568098803762,
          0.5378416623212765,
          0.5428378117221141,
          0.5434749909085437,
          0.5469476549375295,
          0.5495731813724474,
          0.5524951781554444,
          0.553069215139988,
          0.5557723615760688,
          0.559087031915503,
          0.5619210672558987,
          0.5659712702713078,
          0.5700122284377871,
          0.5777137071787382,
          0.5849871662577892,
          0.5849984503435819,
          0.5918820698192593,
          0.5917571388701397,
          0.5982746467009141,
          0.5981383912686808,
          0.5979792744028856,
          0.6046101535672043,
          0.6112640360442587,
          0.611164732506092,
          0.6110841971334038,
          0.618679404881613,
          0.6254813261151149,
          0.6255266648214306,
          0.6330190080637823,
          0.633574609160327,
          0.6340491067829652,
          0.6344792091968373,
          0.6352585396994969,
          0.6361943935347052,
          0.6483853756970797,
          0.6488815159823664,
          0.6588969099130957,
          0.6593423548679864,
          0.659879293299973,
          0.6753730774367968,
          0.6777274814481011,
          0.6782855896364166,
          0.6784291511544019,
          0.6898637838161665,
          0.6898979142483845,
          0.6894465689353149,
          0.688983375638219,
          0.6882890873589786,
          0.6870968940599975,
          0.6858291808597353,
          0.6845117688909458,
          0.6830153903195217,
          0.681043193965645,
          0.679130310870278,
          0.6776090448046029,
          0.6764104921808661,
          0.6757558149455779,
          0.674832172017089,
          0.6738298473081635,
          0.6729318645916738,
          0.6715389580984168,
          0.6699139656953587,
          0.6688778977748344,
          0.6679284619532412,
          0.6670648492431289,
          0.6661227720792395,
          0.6653120416723828,
          0.6650368245650408,
          0.6647719173956379,
          0.6646367958534058,
          0.6647461833671549,
          0.6650830967735716,
          0.6657304469350693,
          0.6662400253523447,
          0.6665343287631819,
          0.6672017436594081,
          0.6681324578462724,
          0.6687472723475295,
          0.6689276982385756,
          0.6689834605428665,
          0.6690273552959292,
          0.6690667703402037,
          0.6689890711884255,
          0.668995468912137,
          0.6691378157029407,
          0.669101235506197,
          0.668788546209726,
          0.6686048332353194,
          0.6689517449681324,
          0.6688535720420854,
          0.6681606338395758,
          0.6669521200107255,
          0.6656305118794089,
          0.6640452370376356,
          0.662535050906419,
          0.6603289016703341,
          0.6586761381343395,
          0.6548477858995215,
          0.6518321973956915,
          0.6490632978274518,
          0.6465886889599982,
          0.6437867733079637,
          0.6412077273818299,
          0.6385654063623453,
          0.6370817919799663,
          0.6347455746352896,
          0.6328537478079,
          0.6309243773235289,
          0.6290822869593534,
          0.6276576198478043,
          0.6261679693775405,
          0.6252109424752219,
          0.6245748630296887,
          0.6242869419115944,
          0.6240274972996576,
          0.6235109366567472,
          0.6234909259222443,
          0.6236533778005308,
          0.6236923238379702,
          0.6239523472325045,
          0.6241991220179117,
          0.6245010739392723,
          0.624653256303988,
          0.6248880446714831,
          0.624970301745964,
          0.6249173540071032,
          0.6249211166818904,
          0.6247754471648699,
          0.6245144005589287,
          0.6244466713266932,
          0.6242981038818994,
          0.6244194619395144,
          0.6244041878472503,
          0.6254891344705883,
          0.6264196986504624,
          0.6273625099625423,
          0.6282052390197457,
          0.6295877229448799,
          0.6310199016758978,
          0.6327599046559145,
          0.6335557710869392,
          0.6352975366014909,
          0.6369410027411397,
          0.6389168219314364,
          0.6410981809923137,
          0.6429908980166074,
          0.6453048823074896,
          0.6470158351606344,
          0.6483647905035257,
          0.6493779433430632,
          0.6503897632543872,
          0.6521006855566887,
          0.6530880734402121,
          0.6537938728079806,
          0.6549538537315992,
          0.656654785358699,
          0.6586347868237341,
          0.6599211853341272,
          0.6618515992602456,
          0.6628305354032193,
          0.663049733026013,
          0.6632257885809517,
          0.6640606852989686,
          0.6642958834637761,
          0.6641541194478058,
          0.6640486625551075,
          0.6641275286030056,
          0.6644940341688634,
          0.6646636638172483,
          0.6648438109662218,
          0.6656115368886008,
          0.6660565722005323,
          0.6660694841263822,
          0.6662991926107109,
          0.6663958106685169,
          0.6665893580364334,
          0.6666032560058217,
          0.6665420581256337,
          0.6668804413475815,
          0.6678926251943885,
          0.6688693672111016,
          0.670272096661811,
          0.6718987460488676,
          0.6736950519713183,
          0.675558943821234,
          0.6774575655255054,
          0.679494609368759,
          0.6814798938882443,
          0.6829737958887627,
          0.6842026232491601,
          0.6852910097893453,
          0.6861844364417148,
          0.6863876926237866,
          0.6865592940143337,
          0.686710065347263,
          0.685469243852627,
          0.6850830141298958,
          0.683925508934764,
          0.6827581105745412,
          0.6816355680163685,
          0.6809658831055426,
          0.6799117135409191,
          0.6791368642288543,
          0.678090884480669,
          0.6772619449933011,
          0.6767419109592673,
          0.6765157004046516,
          0.6759602600048242,
          0.6751288818480253,
          0.6739967559505812,
          0.6733551132652772,
          0.6730302616678512,
          0.6728291530798846,
          0.6728187007624641,
          0.6729092756898016,
          0.6730006311953225,
          0.6732983298418954,
          0.6737276024853078,
          0.6740337709530648,
          0.6741411270671721,
          0.6737220421716551,
          0.6733680688251111,
          0.673189910762349,
          0.6730216303692629,
          0.6730422326322048,
          0.6732687202461125,
          0.6737909448608344,
          0.6748021878610732,
          0.6758197021308922,
          0.6764092969541617,
          0.677331701052201,
          0.6791670433492734,
          0.679848084612668,
          0.6811378702463314,
          0.6823279414297225,
          0.6834853039283874,
          0.6835527540815127,
          0.6833652084509892,
          0.6825136937803807,
          0.6820721454590144,
          0.6811833120088443,
          0.6798378555596197,
          0.678149580853812,
          0.6766344454139989,
          0.6755271018180965,
          0.6749693541393194,
          0.673888455938284,
          0.6726622116701887,
          0.671076803639637,
          0.6695174281957599,
          0.6684750497854515,
          0.6672844685391632,
          0.665782557032685,
          0.6644208278065727,
          0.6632220029592719,
          0.6621982764541687,
          0.6619596821486535,
          0.6618776447180016,
          0.6617265390763896,
          0.6616411795014505,
          0.6620627015493697,
          0.6627535452057974,
          0.663728398202878,
          0.6642556703430669,
          0.6643409363397925,
          0.6644433908568625,
          0.6647101794699192,
          0.6641774688502268,
          0.6634101009937098,
          0.6625568310147419,
          0.6620181844861233,
          0.6614056575095847,
          0.6606562099398883,
          0.6604257883893376,
          0.6602794663786059,
          0.6598927772935056,
          0.6593057401264146,
          0.6583706539072821,
          0.6581859136763312,
          0.6583355629760189,
          0.6583691090171173,
          0.6583612016228203,
          0.6584153368740653,
          0.6584747926936552,
          0.6587192320671431,
          0.6589383309122883,
          0.6589604625724911,
          0.6590084175905127,
          0.6586141265781368,
          0.6586861726522133,
          0.6573816296485835,
          0.6575210607930808,
          0.6565074403333202,
          0.6545049346654223,
          0.6538108580619783,
          0.6534055490007081,
          0.6530086875989969,
          0.6527300922870523,
          0.6521310875030799,
          0.6518937380930019,
          0.651204446767725,
          0.6515014385762198,
          0.6518650946053511,
          0.6513050771360387,
          0.6516984717794488,
          0.6528432858597387,
          0.6531600856611981,
          0.653730266538578,
          0.6549993825243082,
          0.655950588221591,
          0.6570140063071236,
          0.6581713050398968,
          0.6591239457881337,
          0.6602485643213589,
          0.6605648723410504,
          0.6613178423298128,
          0.662137408403336,
          0.6630776499614263,
          0.6640432686817083,
          0.6649357492922083,
          0.6657749202485488,
          0.6665322349683801,
          0.6675621197849185,
          0.6683774609539465,
          0.6686547251672232,
          0.668831228956523,
          0.6685536399876552,
          0.6693455928381167,
          0.6720514433802985,
          0.6719660918529965,
          0.6743623934889809,
          0.6765237301503595,
          0.6764543284717852,
          0.6762711249565685,
          0.6782981253115372,
          0.6775297968764908,
          0.6801505036264329,
          0.6793747395553388,
          0.6777560269569318,
          0.6790133844395615,
          0.677579825468619,
          0.6758320452917073,
          0.6762711462222927,
          0.6763135744363026,
          0.6744827969574941,
          0.6732699428797796,
          0.6718282522457202,
          0.6708976789030141,
          0.6710727387925333,
          0.6713087579234149,
          0.6705663449814416,
          0.6685578855140538,
          0.6677121475706261,
          0.666348926158895,
          0.6648772007077387,
          0.6633590854635314,
          0.6618612833022552,
          0.6608923447993803,
          0.6599519510871101,
          0.6591251736750401,
          0.6585756399373722,
          0.6596481001821745,
          0.6613840579596952,
          0.6612484900037647,
          0.6614872677319351,
          0.6570292297234345,
          0.6566375342543316,
          0.6525654970915534,
          0.6520100359993135,
          0.6494836523978892,
          0.6487888102370718,
          0.6484078697565551,
          0.6480206980088717,
          0.6475691617790812,
          0.6476922325466437,
          0.6483002223041506,
          0.6482230723857033,
          0.6491546313316867,
          0.648975454287307,
          0.6502002990998866,
          0.651433182312322,
          0.6524252520973494,
          0.6529869934170874,
          0.6535749061507607,
          0.6538955975032634,
          0.6542900518098449,
          0.6554437066390049,
          0.6569576658864604,
          0.6576831869406428,
          0.6584549970408641,
          0.6591615351838878,
          0.6599898984729992,
          0.6608245570229666,
          0.6615145774044388,
          0.6620685842289498,
          0.6623350181614053,
          0.6628030453624137,
          0.6623783550793925,
          0.6622331427645395,
          0.6620579135623569,
          0.6620378545004455,
          0.662279876397769,
          0.6628719024322529,
          0.6641710511561836,
          0.6647186320248372,
          0.6665824960667192,
          0.666664431407874,
          0.6675192795683276,
          0.668465351119989,
          0.669030172856353,
          0.6696691618503562,
          0.6695272051097166,
          0.668943953271214,
          0.6685120860266751,
          0.6698552847196823,
          0.6694308596553858,
          0.6692498582375591,
          0.668709001453346,
          0.6692183787714299,
          0.669687572223014,
          0.6701583585336224,
          0.6705530642091447,
          0.6713922518792758,
          0.6720007792498874,
          0.6725932717995026,
          0.6733317655330173,
          0.6743802676190249,
          0.6750980442232196,
          0.6759126860430247,
          0.6765921834930003,
          0.6772386925653437,
          0.6778392118570445,
          0.6775041477579812,
          0.6776970824234932,
          0.6773581950982295,
          0.6778541885290083,
          0.6782942917933639,
          0.6781837642776581,
          0.6786991883999381,
          0.6793709608761928,
          0.6799614822149722,
          0.6808100671473437,
          0.6813496947793213,
          0.6816528154035928,
          0.6817678789765648,
          0.6828166908227993,
          0.6842520768292476,
          0.6852755924931924,
          0.68654661632528,
          0.6882302476137447,
          0.688421727206798,
          0.6887374076305743,
          0.6891158281520993,
          0.6899447964666863,
          0.6903533268408029,
          0.6907089643714501,
          0.6909766553506241,
          0.6913517534026868,
          0.6913153448884616,
          0.6914321935179807,
          0.6914247507120943,
          0.6912500752908765,
          0.6907349649062368,
          0.6895284560926572,
          0.6894229888274602,
          0.6893384730368801,
          0.6889640772232477,
          0.6884049988462846,
          0.6887842243433857,
          0.6888792810209362,
          0.6887107675934657,
          0.6884131778661912,
          0.687770790845805,
          0.6869064222193888,
          0.6849802423075354,
          0.6829959818994836,
          0.6813282921163778,
          0.6792797774268977,
          0.676723277296615,
          0.6739803297889666,
          0.6713674194080039,
          0.6688705929711098,
          0.6658738585896489,
          0.662524311247295,
          0.6596524527522182,
          0.6571050387290572,
          0.6542996811290882,
          0.6503271568200504,
          0.6464906061586357,
          0.6423427639925551,
          0.6379047646718397,
          0.6341299280365386,
          0.6299340270413318,
          0.6257933550334043,
          0.6216733102159199,
          0.6174619883124861,
          0.61331630418071,
          0.608933774351514,
          0.6050168041326285,
          0.6013324002991077,
          0.598345254464715,
          0.5953913509339577,
          0.5929145441861673,
          0.5902482533884129,
          0.5880438004814474,
          0.5859587014682629,
          0.5841801109978595,
          0.5827864207580081,
          0.5813079111610464,
          0.580129234593904,
          0.5787955607692259,
          0.5773511954648339,
          0.5767704577708241,
          0.5766949273835318,
          0.5767745467234174,
          0.5763681833356258,
          0.5763977940498617,
          0.5767442491500113,
          0.5762726346271706,
          0.5757808468017215,
          0.5755467561103152,
          0.5762034127334007,
          0.5770599558849138,
          0.5769044867926629,
          0.5766393045493489,
          0.5758468035472378,
          0.574335534660865,
          0.5730599124948178,
          0.5712290141497597,
          0.5688900424190075,
          0.5664152910000987,
          0.5645945424252716,
          0.5635287365149175,
          0.562635650121255,
          0.5613989668750469,
          0.5607801959279852,
          0.5592154162554027,
          0.5589813807878032,
          0.5587403182528153,
          0.5587337586513307,
          0.5587425636789122,
          0.5587260657486601,
          0.5585489034716976,
          0.5582879445037754,
          0.557280576298231,
          0.557003231887199,
          0.5566275055823328,
          0.55634253346625,
          0.5557374659545288,
          0.555054963704224,
          0.5544517514603307,
          0.5543356645351661,
          0.5541133520794661,
          0.5538528496648764,
          0.5544384714223085,
          0.5552308342496646,
          0.5563907057995613,
          0.5574533874864254,
          0.5586156866182579,
          0.5600818458568673,
          0.5616803250945757,
          0.5637173409801726,
          0.566302678440905,
          0.5690485645993713,
          0.5721508950295605,
          0.5760623889918969,
          0.5804158143929026,
          0.5847894105062429,
          0.5888001063614029,
          0.59318531419605,
          0.5983652034998113,
          0.6028722457851639,
          0.6092848564956839,
          0.6138003526934975,
          0.6187413045327689,
          0.6231579165639701,
          0.6275115171980478,
          0.6314629712411787,
          0.6347908200556382,
          0.6379641859560277,
          0.6402066479219505,
          0.6440674647562219,
          0.647301461565692,
          0.6499814767048028,
          0.652917184766124,
          0.6559564274881402,
          0.6580842739468853,
          0.661045844695536,
          0.6640734254444454,
          0.6676380295317641,
          0.6717264953965603,
          0.676079217627199,
          0.6808647299388908,
          0.686059421347563,
          0.6912131529629708,
          0.6972287566751811,
          null,
          null,
          null,
          null,
          null,
          null,
          null,
          null,
          null,
          null,
          null,
          null,
          null,
          null,
          null,
          null,
          null,
          null
         ],
         "yaxis": "y4"
        }
       ],
       "layout": {
        "annotations": [
         {
          "font": {
           "size": 16
          },
          "showarrow": false,
          "text": "Red Line Distance vs Frame Index",
          "x": 0.225,
          "xanchor": "center",
          "xref": "paper",
          "y": 1,
          "yanchor": "bottom",
          "yref": "paper"
         },
         {
          "font": {
           "size": 16
          },
          "showarrow": false,
          "text": "Red Line Distance vs Time",
          "x": 0.775,
          "xanchor": "center",
          "xref": "paper",
          "y": 1,
          "yanchor": "bottom",
          "yref": "paper"
         },
         {
          "font": {
           "size": 16
          },
          "showarrow": false,
          "text": "Red Line Distance Distribution",
          "x": 0.225,
          "xanchor": "center",
          "xref": "paper",
          "y": 0.375,
          "yanchor": "bottom",
          "yref": "paper"
         },
         {
          "font": {
           "size": 16
          },
          "showarrow": false,
          "text": "Distance Trends and Variability",
          "x": 0.775,
          "xanchor": "center",
          "xref": "paper",
          "y": 0.375,
          "yanchor": "bottom",
          "yref": "paper"
         },
         {
          "showarrow": false,
          "text": "Mean: 0.67m",
          "x": 0.6733473509634267,
          "xanchor": "left",
          "xref": "x3",
          "y": 1,
          "yanchor": "top",
          "yref": "y3 domain"
         },
         {
          "showarrow": false,
          "text": "Median: 0.68m",
          "x": 0.6792607936346974,
          "xanchor": "left",
          "xref": "x3",
          "y": 1,
          "yanchor": "top",
          "yref": "y3 domain"
         },
         {
          "bgcolor": "wheat",
          "opacity": 0.8,
          "showarrow": false,
          "text": "Mean: 0.67m<br>Std: 0.05m<br>Range: 0.50-0.84m",
          "x": 0.02,
          "xref": "paper",
          "y": 0.98,
          "yref": "paper"
         }
        ],
        "height": 800,
        "shapes": [
         {
          "line": {
           "color": "red",
           "dash": "dash",
           "width": 2
          },
          "type": "line",
          "x0": 0.6733473509634267,
          "x1": 0.6733473509634267,
          "xref": "x3",
          "y0": 0,
          "y1": 1,
          "yref": "y3 domain"
         },
         {
          "line": {
           "color": "green",
           "dash": "dash",
           "width": 2
          },
          "type": "line",
          "x0": 0.6792607936346974,
          "x1": 0.6792607936346974,
          "xref": "x3",
          "y0": 0,
          "y1": 1,
          "yref": "y3 domain"
         }
        ],
        "showlegend": true,
        "template": {
         "data": {
          "bar": [
           {
            "error_x": {
             "color": "#2a3f5f"
            },
            "error_y": {
             "color": "#2a3f5f"
            },
            "marker": {
             "line": {
              "color": "#E5ECF6",
              "width": 0.5
             },
             "pattern": {
              "fillmode": "overlay",
              "size": 10,
              "solidity": 0.2
             }
            },
            "type": "bar"
           }
          ],
          "barpolar": [
           {
            "marker": {
             "line": {
              "color": "#E5ECF6",
              "width": 0.5
             },
             "pattern": {
              "fillmode": "overlay",
              "size": 10,
              "solidity": 0.2
             }
            },
            "type": "barpolar"
           }
          ],
          "carpet": [
           {
            "aaxis": {
             "endlinecolor": "#2a3f5f",
             "gridcolor": "white",
             "linecolor": "white",
             "minorgridcolor": "white",
             "startlinecolor": "#2a3f5f"
            },
            "baxis": {
             "endlinecolor": "#2a3f5f",
             "gridcolor": "white",
             "linecolor": "white",
             "minorgridcolor": "white",
             "startlinecolor": "#2a3f5f"
            },
            "type": "carpet"
           }
          ],
          "choropleth": [
           {
            "colorbar": {
             "outlinewidth": 0,
             "ticks": ""
            },
            "type": "choropleth"
           }
          ],
          "contour": [
           {
            "colorbar": {
             "outlinewidth": 0,
             "ticks": ""
            },
            "colorscale": [
             [
              0,
              "#0d0887"
             ],
             [
              0.1111111111111111,
              "#46039f"
             ],
             [
              0.2222222222222222,
              "#7201a8"
             ],
             [
              0.3333333333333333,
              "#9c179e"
             ],
             [
              0.4444444444444444,
              "#bd3786"
             ],
             [
              0.5555555555555556,
              "#d8576b"
             ],
             [
              0.6666666666666666,
              "#ed7953"
             ],
             [
              0.7777777777777778,
              "#fb9f3a"
             ],
             [
              0.8888888888888888,
              "#fdca26"
             ],
             [
              1,
              "#f0f921"
             ]
            ],
            "type": "contour"
           }
          ],
          "contourcarpet": [
           {
            "colorbar": {
             "outlinewidth": 0,
             "ticks": ""
            },
            "type": "contourcarpet"
           }
          ],
          "heatmap": [
           {
            "colorbar": {
             "outlinewidth": 0,
             "ticks": ""
            },
            "colorscale": [
             [
              0,
              "#0d0887"
             ],
             [
              0.1111111111111111,
              "#46039f"
             ],
             [
              0.2222222222222222,
              "#7201a8"
             ],
             [
              0.3333333333333333,
              "#9c179e"
             ],
             [
              0.4444444444444444,
              "#bd3786"
             ],
             [
              0.5555555555555556,
              "#d8576b"
             ],
             [
              0.6666666666666666,
              "#ed7953"
             ],
             [
              0.7777777777777778,
              "#fb9f3a"
             ],
             [
              0.8888888888888888,
              "#fdca26"
             ],
             [
              1,
              "#f0f921"
             ]
            ],
            "type": "heatmap"
           }
          ],
          "histogram": [
           {
            "marker": {
             "pattern": {
              "fillmode": "overlay",
              "size": 10,
              "solidity": 0.2
             }
            },
            "type": "histogram"
           }
          ],
          "histogram2d": [
           {
            "colorbar": {
             "outlinewidth": 0,
             "ticks": ""
            },
            "colorscale": [
             [
              0,
              "#0d0887"
             ],
             [
              0.1111111111111111,
              "#46039f"
             ],
             [
              0.2222222222222222,
              "#7201a8"
             ],
             [
              0.3333333333333333,
              "#9c179e"
             ],
             [
              0.4444444444444444,
              "#bd3786"
             ],
             [
              0.5555555555555556,
              "#d8576b"
             ],
             [
              0.6666666666666666,
              "#ed7953"
             ],
             [
              0.7777777777777778,
              "#fb9f3a"
             ],
             [
              0.8888888888888888,
              "#fdca26"
             ],
             [
              1,
              "#f0f921"
             ]
            ],
            "type": "histogram2d"
           }
          ],
          "histogram2dcontour": [
           {
            "colorbar": {
             "outlinewidth": 0,
             "ticks": ""
            },
            "colorscale": [
             [
              0,
              "#0d0887"
             ],
             [
              0.1111111111111111,
              "#46039f"
             ],
             [
              0.2222222222222222,
              "#7201a8"
             ],
             [
              0.3333333333333333,
              "#9c179e"
             ],
             [
              0.4444444444444444,
              "#bd3786"
             ],
             [
              0.5555555555555556,
              "#d8576b"
             ],
             [
              0.6666666666666666,
              "#ed7953"
             ],
             [
              0.7777777777777778,
              "#fb9f3a"
             ],
             [
              0.8888888888888888,
              "#fdca26"
             ],
             [
              1,
              "#f0f921"
             ]
            ],
            "type": "histogram2dcontour"
           }
          ],
          "mesh3d": [
           {
            "colorbar": {
             "outlinewidth": 0,
             "ticks": ""
            },
            "type": "mesh3d"
           }
          ],
          "parcoords": [
           {
            "line": {
             "colorbar": {
              "outlinewidth": 0,
              "ticks": ""
             }
            },
            "type": "parcoords"
           }
          ],
          "pie": [
           {
            "automargin": true,
            "type": "pie"
           }
          ],
          "scatter": [
           {
            "fillpattern": {
             "fillmode": "overlay",
             "size": 10,
             "solidity": 0.2
            },
            "type": "scatter"
           }
          ],
          "scatter3d": [
           {
            "line": {
             "colorbar": {
              "outlinewidth": 0,
              "ticks": ""
             }
            },
            "marker": {
             "colorbar": {
              "outlinewidth": 0,
              "ticks": ""
             }
            },
            "type": "scatter3d"
           }
          ],
          "scattercarpet": [
           {
            "marker": {
             "colorbar": {
              "outlinewidth": 0,
              "ticks": ""
             }
            },
            "type": "scattercarpet"
           }
          ],
          "scattergeo": [
           {
            "marker": {
             "colorbar": {
              "outlinewidth": 0,
              "ticks": ""
             }
            },
            "type": "scattergeo"
           }
          ],
          "scattergl": [
           {
            "marker": {
             "colorbar": {
              "outlinewidth": 0,
              "ticks": ""
             }
            },
            "type": "scattergl"
           }
          ],
          "scattermap": [
           {
            "marker": {
             "colorbar": {
              "outlinewidth": 0,
              "ticks": ""
             }
            },
            "type": "scattermap"
           }
          ],
          "scattermapbox": [
           {
            "marker": {
             "colorbar": {
              "outlinewidth": 0,
              "ticks": ""
             }
            },
            "type": "scattermapbox"
           }
          ],
          "scatterpolar": [
           {
            "marker": {
             "colorbar": {
              "outlinewidth": 0,
              "ticks": ""
             }
            },
            "type": "scatterpolar"
           }
          ],
          "scatterpolargl": [
           {
            "marker": {
             "colorbar": {
              "outlinewidth": 0,
              "ticks": ""
             }
            },
            "type": "scatterpolargl"
           }
          ],
          "scatterternary": [
           {
            "marker": {
             "colorbar": {
              "outlinewidth": 0,
              "ticks": ""
             }
            },
            "type": "scatterternary"
           }
          ],
          "surface": [
           {
            "colorbar": {
             "outlinewidth": 0,
             "ticks": ""
            },
            "colorscale": [
             [
              0,
              "#0d0887"
             ],
             [
              0.1111111111111111,
              "#46039f"
             ],
             [
              0.2222222222222222,
              "#7201a8"
             ],
             [
              0.3333333333333333,
              "#9c179e"
             ],
             [
              0.4444444444444444,
              "#bd3786"
             ],
             [
              0.5555555555555556,
              "#d8576b"
             ],
             [
              0.6666666666666666,
              "#ed7953"
             ],
             [
              0.7777777777777778,
              "#fb9f3a"
             ],
             [
              0.8888888888888888,
              "#fdca26"
             ],
             [
              1,
              "#f0f921"
             ]
            ],
            "type": "surface"
           }
          ],
          "table": [
           {
            "cells": {
             "fill": {
              "color": "#EBF0F8"
             },
             "line": {
              "color": "white"
             }
            },
            "header": {
             "fill": {
              "color": "#C8D4E3"
             },
             "line": {
              "color": "white"
             }
            },
            "type": "table"
           }
          ]
         },
         "layout": {
          "annotationdefaults": {
           "arrowcolor": "#2a3f5f",
           "arrowhead": 0,
           "arrowwidth": 1
          },
          "autotypenumbers": "strict",
          "coloraxis": {
           "colorbar": {
            "outlinewidth": 0,
            "ticks": ""
           }
          },
          "colorscale": {
           "diverging": [
            [
             0,
             "#8e0152"
            ],
            [
             0.1,
             "#c51b7d"
            ],
            [
             0.2,
             "#de77ae"
            ],
            [
             0.3,
             "#f1b6da"
            ],
            [
             0.4,
             "#fde0ef"
            ],
            [
             0.5,
             "#f7f7f7"
            ],
            [
             0.6,
             "#e6f5d0"
            ],
            [
             0.7,
             "#b8e186"
            ],
            [
             0.8,
             "#7fbc41"
            ],
            [
             0.9,
             "#4d9221"
            ],
            [
             1,
             "#276419"
            ]
           ],
           "sequential": [
            [
             0,
             "#0d0887"
            ],
            [
             0.1111111111111111,
             "#46039f"
            ],
            [
             0.2222222222222222,
             "#7201a8"
            ],
            [
             0.3333333333333333,
             "#9c179e"
            ],
            [
             0.4444444444444444,
             "#bd3786"
            ],
            [
             0.5555555555555556,
             "#d8576b"
            ],
            [
             0.6666666666666666,
             "#ed7953"
            ],
            [
             0.7777777777777778,
             "#fb9f3a"
            ],
            [
             0.8888888888888888,
             "#fdca26"
            ],
            [
             1,
             "#f0f921"
            ]
           ],
           "sequentialminus": [
            [
             0,
             "#0d0887"
            ],
            [
             0.1111111111111111,
             "#46039f"
            ],
            [
             0.2222222222222222,
             "#7201a8"
            ],
            [
             0.3333333333333333,
             "#9c179e"
            ],
            [
             0.4444444444444444,
             "#bd3786"
            ],
            [
             0.5555555555555556,
             "#d8576b"
            ],
            [
             0.6666666666666666,
             "#ed7953"
            ],
            [
             0.7777777777777778,
             "#fb9f3a"
            ],
            [
             0.8888888888888888,
             "#fdca26"
            ],
            [
             1,
             "#f0f921"
            ]
           ]
          },
          "colorway": [
           "#636efa",
           "#EF553B",
           "#00cc96",
           "#ab63fa",
           "#FFA15A",
           "#19d3f3",
           "#FF6692",
           "#B6E880",
           "#FF97FF",
           "#FECB52"
          ],
          "font": {
           "color": "#2a3f5f"
          },
          "geo": {
           "bgcolor": "white",
           "lakecolor": "white",
           "landcolor": "#E5ECF6",
           "showlakes": true,
           "showland": true,
           "subunitcolor": "white"
          },
          "hoverlabel": {
           "align": "left"
          },
          "hovermode": "closest",
          "mapbox": {
           "style": "light"
          },
          "paper_bgcolor": "white",
          "plot_bgcolor": "#E5ECF6",
          "polar": {
           "angularaxis": {
            "gridcolor": "white",
            "linecolor": "white",
            "ticks": ""
           },
           "bgcolor": "#E5ECF6",
           "radialaxis": {
            "gridcolor": "white",
            "linecolor": "white",
            "ticks": ""
           }
          },
          "scene": {
           "xaxis": {
            "backgroundcolor": "#E5ECF6",
            "gridcolor": "white",
            "gridwidth": 2,
            "linecolor": "white",
            "showbackground": true,
            "ticks": "",
            "zerolinecolor": "white"
           },
           "yaxis": {
            "backgroundcolor": "#E5ECF6",
            "gridcolor": "white",
            "gridwidth": 2,
            "linecolor": "white",
            "showbackground": true,
            "ticks": "",
            "zerolinecolor": "white"
           },
           "zaxis": {
            "backgroundcolor": "#E5ECF6",
            "gridcolor": "white",
            "gridwidth": 2,
            "linecolor": "white",
            "showbackground": true,
            "ticks": "",
            "zerolinecolor": "white"
           }
          },
          "shapedefaults": {
           "line": {
            "color": "#2a3f5f"
           }
          },
          "ternary": {
           "aaxis": {
            "gridcolor": "white",
            "linecolor": "white",
            "ticks": ""
           },
           "baxis": {
            "gridcolor": "white",
            "linecolor": "white",
            "ticks": ""
           },
           "bgcolor": "#E5ECF6",
           "caxis": {
            "gridcolor": "white",
            "linecolor": "white",
            "ticks": ""
           }
          },
          "title": {
           "x": 0.05
          },
          "xaxis": {
           "automargin": true,
           "gridcolor": "white",
           "linecolor": "white",
           "ticks": "",
           "title": {
            "standoff": 15
           },
           "zerolinecolor": "white",
           "zerolinewidth": 2
          },
          "yaxis": {
           "automargin": true,
           "gridcolor": "white",
           "linecolor": "white",
           "ticks": "",
           "title": {
            "standoff": 15
           },
           "zerolinecolor": "white",
           "zerolinewidth": 2
          }
         }
        },
        "title": {
         "font": {
          "size": 16,
          "weight": "bold"
         },
         "text": "Red Line Distance Analysis Over Time (Real-World Distances)"
        },
        "xaxis": {
         "anchor": "y",
         "domain": [
          0,
          0.45
         ],
         "title": {
          "text": "Frame Index"
         }
        },
        "xaxis2": {
         "anchor": "y2",
         "domain": [
          0.55,
          1
         ],
         "title": {
          "text": "Frame Index"
         }
        },
        "xaxis3": {
         "anchor": "y3",
         "domain": [
          0,
          0.45
         ],
         "title": {
          "text": "Distance (m)"
         }
        },
        "xaxis4": {
         "anchor": "y4",
         "domain": [
          0.55,
          1
         ],
         "title": {
          "text": "Frame Index"
         }
        },
        "yaxis": {
         "anchor": "x",
         "domain": [
          0.625,
          1
         ],
         "title": {
          "text": "Distance (m)"
         }
        },
        "yaxis2": {
         "anchor": "x2",
         "domain": [
          0.625,
          1
         ],
         "title": {
          "text": "Distance (m)"
         }
        },
        "yaxis3": {
         "anchor": "x3",
         "domain": [
          0,
          0.375
         ],
         "title": {
          "text": "Frequency"
         }
        },
        "yaxis4": {
         "anchor": "x4",
         "domain": [
          0,
          0.375
         ],
         "title": {
          "text": "Distance (m)"
         }
        }
       }
      }
     },
     "metadata": {},
     "output_type": "display_data"
    }
   ],
   "source": [
    "# Real-world distance analysis and plotting using utility function\n",
    "iau.plot_real_world_distance_analysis(distance_results, image_shape=image_shape, sonar_coverage_meters=sonar_coverage_meters)"
   ]
  },
  {
   "cell_type": "code",
   "execution_count": 18,
   "id": "c10a8be6",
   "metadata": {},
   "outputs": [
    {
     "name": "stdout",
     "output_type": "stream",
     "text": [
      "🎯 LOADING DVL DATA FOR COMPARISON: 2024-08-22_14-47-39\n",
      "============================================================\n",
      "🎯 LOADING ALL DISTANCE DATA FOR BAG: 2024-08-22_14-47-39\n",
      "============================================================\n",
      "📡 1. Loading Navigation Data...\n",
      "   ✅ Loaded 374 navigation records\n",
      "📡 2. Loading Guidance Data...\n",
      "   ✅ Loaded 364 guidance records with ['error_net_distance', 'desired_net_distance', 'r_net_distance_d']\n",
      "📡 3. Loading DVL Altimeter...\n",
      "   ✅ Loaded 20 DVL altimeter records\n",
      "📡 4. Loading USBL...\n",
      "   ✅ Loaded 21 USBL records\n",
      "📡 5. Loading DVL Position...\n",
      "   ✅ Loaded 208 DVL position records\n",
      "📡 6. Loading Navigation Position...\n",
      "   ✅ Loaded 194 navigation position records\n",
      "📡 7. Loading INS Z Position...\n",
      "   ✅ Loaded 402 INS records with positionFrame.z\n",
      "\n",
      "📊 LOADING SUMMARY:\n",
      "   🎯 Target bag: 2024-08-22_14-47-39\n",
      "   📁 Raw data loaded: 2/2\n",
      "   📏 Distance measurements: 6\n",
      "\n",
      "📊 RAW DATA LOADED:\n",
      "   ✅ navigation: 374 records\n",
      "   ✅ guidance: 364 records\n",
      "\n",
      "📏 DISTANCE MEASUREMENTS LOADED:\n",
      "   ✅ DVL_Altimeter: 20 records - Distance to seafloor\n",
      "   ✅ USBL_3D: 21 records - 3D acoustic position\n",
      "   ✅ USBL_Depth: 21 records - USBL depth measurement\n",
      "   ✅ DVL_Position: 208 records - 3D DVL position\n",
      "   ✅ Nav_Position: 194 records - 2D navigation position\n",
      "   ✅ INS_Z_Position: 402 records - INS positionFrame.z (vertical position)\n"
     ]
    }
   ],
   "source": [
    "# 🔄 COMPARISON: SONAR vs DVL DISTANCE MEASUREMENTS\n",
    "# =================================================\n",
    "import utils.net_distance_analysis as sda\n",
    "\n",
    "print(f\"🎯 LOADING DVL DATA FOR COMPARISON: {TARGET_BAG}\")\n",
    "print(\"=\" * 60)\n",
    "\n",
    "# Load all distance data for the target bag\n",
    "raw_data, distance_measurements = sda.load_all_distance_data_for_bag(TARGET_BAG, EXPORTS_FOLDER)\n",
    "\n",
    "# Display what we loaded\n",
    "print(f\"\\n📊 RAW DATA LOADED:\")\n",
    "for key, data in raw_data.items():\n",
    "    if data is not None:\n",
    "        print(f\"   ✅ {key}: {len(data)} records\")\n",
    "    else:\n",
    "        print(f\"   ❌ {key}: None\")\n",
    "\n",
    "print(f\"\\n📏 DISTANCE MEASUREMENTS LOADED:\")\n",
    "for key, info in distance_measurements.items():\n",
    "    data_len = len(info['data'])\n",
    "    print(f\"   ✅ {key}: {data_len} records - {info['description']}\")"
   ]
  },
  {
   "cell_type": "code",
   "execution_count": 19,
   "id": "0375375e",
   "metadata": {},
   "outputs": [
    {
     "name": "stdout",
     "output_type": "stream",
     "text": [
      "\n",
      "Comparison stats summary:\n",
      "{'dvl_mean_m': 0.6028074854437042,\n",
      " 'dvl_records': 374,\n",
      " 'sonar_frames': 725,\n",
      " 'sonar_mean_m': 0.6733333108166993,\n",
      " 'time_span_s': 41.476662158}\n"
     ]
    },
    {
     "data": {
      "application/vnd.plotly.v1+json": {
       "config": {
        "plotlyServerURL": "https://plot.ly"
       },
       "data": [
        {
         "hovertemplate": "Time: %{x:.1f}s<br>Distance: %{y:.3f}m<extra>Sonar Raw</extra>",
         "line": {
          "color": "rgba(255, 0, 0, 0.3)",
          "width": 1
         },
         "mode": "lines",
         "name": "Sonar Raw Distance",
         "type": "scatter",
         "x": {
          "bdata": "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",
          "dtype": "f8"
         },
         "xaxis": "x",
         "y": {
          "bdata": "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",
          "dtype": "f8"
         },
         "yaxis": "y"
        },
        {
         "hovertemplate": "Time: %{x:.1f}s<br>Distance: %{y:.3f}m<extra>Sonar Smoothed</extra>",
         "line": {
          "color": "rgba(255, 0, 0, 1)",
          "width": 3
         },
         "mode": "lines",
         "name": "Sonar Smoothed Distance",
         "type": "scatter",
         "x": {
          "bdata": "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",
          "dtype": "f8"
         },
         "xaxis": "x",
         "y": {
          "bdata": "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",
          "dtype": "f8"
         },
         "yaxis": "y"
        },
        {
         "hovertemplate": "Time: %{x:.1f}s<br>Distance: %{y:.3f}m<extra>DVL Distance</extra>",
         "line": {
          "color": "rgba(0, 0, 255, 1)",
          "width": 3
         },
         "mode": "lines",
         "name": "DVL Distance",
         "type": "scatter",
         "x": {
          "bdata": "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",
          "dtype": "f8"
         },
         "xaxis": "x",
         "y": {
          "bdata": "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",
          "dtype": "f8"
         },
         "yaxis": "y"
        }
       ],
       "layout": {
        "hovermode": "x unified",
        "template": {
         "data": {
          "bar": [
           {
            "error_x": {
             "color": "#2a3f5f"
            },
            "error_y": {
             "color": "#2a3f5f"
            },
            "marker": {
             "line": {
              "color": "#E5ECF6",
              "width": 0.5
             },
             "pattern": {
              "fillmode": "overlay",
              "size": 10,
              "solidity": 0.2
             }
            },
            "type": "bar"
           }
          ],
          "barpolar": [
           {
            "marker": {
             "line": {
              "color": "#E5ECF6",
              "width": 0.5
             },
             "pattern": {
              "fillmode": "overlay",
              "size": 10,
              "solidity": 0.2
             }
            },
            "type": "barpolar"
           }
          ],
          "carpet": [
           {
            "aaxis": {
             "endlinecolor": "#2a3f5f",
             "gridcolor": "white",
             "linecolor": "white",
             "minorgridcolor": "white",
             "startlinecolor": "#2a3f5f"
            },
            "baxis": {
             "endlinecolor": "#2a3f5f",
             "gridcolor": "white",
             "linecolor": "white",
             "minorgridcolor": "white",
             "startlinecolor": "#2a3f5f"
            },
            "type": "carpet"
           }
          ],
          "choropleth": [
           {
            "colorbar": {
             "outlinewidth": 0,
             "ticks": ""
            },
            "type": "choropleth"
           }
          ],
          "contour": [
           {
            "colorbar": {
             "outlinewidth": 0,
             "ticks": ""
            },
            "colorscale": [
             [
              0,
              "#0d0887"
             ],
             [
              0.1111111111111111,
              "#46039f"
             ],
             [
              0.2222222222222222,
              "#7201a8"
             ],
             [
              0.3333333333333333,
              "#9c179e"
             ],
             [
              0.4444444444444444,
              "#bd3786"
             ],
             [
              0.5555555555555556,
              "#d8576b"
             ],
             [
              0.6666666666666666,
              "#ed7953"
             ],
             [
              0.7777777777777778,
              "#fb9f3a"
             ],
             [
              0.8888888888888888,
              "#fdca26"
             ],
             [
              1,
              "#f0f921"
             ]
            ],
            "type": "contour"
           }
          ],
          "contourcarpet": [
           {
            "colorbar": {
             "outlinewidth": 0,
             "ticks": ""
            },
            "type": "contourcarpet"
           }
          ],
          "heatmap": [
           {
            "colorbar": {
             "outlinewidth": 0,
             "ticks": ""
            },
            "colorscale": [
             [
              0,
              "#0d0887"
             ],
             [
              0.1111111111111111,
              "#46039f"
             ],
             [
              0.2222222222222222,
              "#7201a8"
             ],
             [
              0.3333333333333333,
              "#9c179e"
             ],
             [
              0.4444444444444444,
              "#bd3786"
             ],
             [
              0.5555555555555556,
              "#d8576b"
             ],
             [
              0.6666666666666666,
              "#ed7953"
             ],
             [
              0.7777777777777778,
              "#fb9f3a"
             ],
             [
              0.8888888888888888,
              "#fdca26"
             ],
             [
              1,
              "#f0f921"
             ]
            ],
            "type": "heatmap"
           }
          ],
          "histogram": [
           {
            "marker": {
             "pattern": {
              "fillmode": "overlay",
              "size": 10,
              "solidity": 0.2
             }
            },
            "type": "histogram"
           }
          ],
          "histogram2d": [
           {
            "colorbar": {
             "outlinewidth": 0,
             "ticks": ""
            },
            "colorscale": [
             [
              0,
              "#0d0887"
             ],
             [
              0.1111111111111111,
              "#46039f"
             ],
             [
              0.2222222222222222,
              "#7201a8"
             ],
             [
              0.3333333333333333,
              "#9c179e"
             ],
             [
              0.4444444444444444,
              "#bd3786"
             ],
             [
              0.5555555555555556,
              "#d8576b"
             ],
             [
              0.6666666666666666,
              "#ed7953"
             ],
             [
              0.7777777777777778,
              "#fb9f3a"
             ],
             [
              0.8888888888888888,
              "#fdca26"
             ],
             [
              1,
              "#f0f921"
             ]
            ],
            "type": "histogram2d"
           }
          ],
          "histogram2dcontour": [
           {
            "colorbar": {
             "outlinewidth": 0,
             "ticks": ""
            },
            "colorscale": [
             [
              0,
              "#0d0887"
             ],
             [
              0.1111111111111111,
              "#46039f"
             ],
             [
              0.2222222222222222,
              "#7201a8"
             ],
             [
              0.3333333333333333,
              "#9c179e"
             ],
             [
              0.4444444444444444,
              "#bd3786"
             ],
             [
              0.5555555555555556,
              "#d8576b"
             ],
             [
              0.6666666666666666,
              "#ed7953"
             ],
             [
              0.7777777777777778,
              "#fb9f3a"
             ],
             [
              0.8888888888888888,
              "#fdca26"
             ],
             [
              1,
              "#f0f921"
             ]
            ],
            "type": "histogram2dcontour"
           }
          ],
          "mesh3d": [
           {
            "colorbar": {
             "outlinewidth": 0,
             "ticks": ""
            },
            "type": "mesh3d"
           }
          ],
          "parcoords": [
           {
            "line": {
             "colorbar": {
              "outlinewidth": 0,
              "ticks": ""
             }
            },
            "type": "parcoords"
           }
          ],
          "pie": [
           {
            "automargin": true,
            "type": "pie"
           }
          ],
          "scatter": [
           {
            "fillpattern": {
             "fillmode": "overlay",
             "size": 10,
             "solidity": 0.2
            },
            "type": "scatter"
           }
          ],
          "scatter3d": [
           {
            "line": {
             "colorbar": {
              "outlinewidth": 0,
              "ticks": ""
             }
            },
            "marker": {
             "colorbar": {
              "outlinewidth": 0,
              "ticks": ""
             }
            },
            "type": "scatter3d"
           }
          ],
          "scattercarpet": [
           {
            "marker": {
             "colorbar": {
              "outlinewidth": 0,
              "ticks": ""
             }
            },
            "type": "scattercarpet"
           }
          ],
          "scattergeo": [
           {
            "marker": {
             "colorbar": {
              "outlinewidth": 0,
              "ticks": ""
             }
            },
            "type": "scattergeo"
           }
          ],
          "scattergl": [
           {
            "marker": {
             "colorbar": {
              "outlinewidth": 0,
              "ticks": ""
             }
            },
            "type": "scattergl"
           }
          ],
          "scattermap": [
           {
            "marker": {
             "colorbar": {
              "outlinewidth": 0,
              "ticks": ""
             }
            },
            "type": "scattermap"
           }
          ],
          "scattermapbox": [
           {
            "marker": {
             "colorbar": {
              "outlinewidth": 0,
              "ticks": ""
             }
            },
            "type": "scattermapbox"
           }
          ],
          "scatterpolar": [
           {
            "marker": {
             "colorbar": {
              "outlinewidth": 0,
              "ticks": ""
             }
            },
            "type": "scatterpolar"
           }
          ],
          "scatterpolargl": [
           {
            "marker": {
             "colorbar": {
              "outlinewidth": 0,
              "ticks": ""
             }
            },
            "type": "scatterpolargl"
           }
          ],
          "scatterternary": [
           {
            "marker": {
             "colorbar": {
              "outlinewidth": 0,
              "ticks": ""
             }
            },
            "type": "scatterternary"
           }
          ],
          "surface": [
           {
            "colorbar": {
             "outlinewidth": 0,
             "ticks": ""
            },
            "colorscale": [
             [
              0,
              "#0d0887"
             ],
             [
              0.1111111111111111,
              "#46039f"
             ],
             [
              0.2222222222222222,
              "#7201a8"
             ],
             [
              0.3333333333333333,
              "#9c179e"
             ],
             [
              0.4444444444444444,
              "#bd3786"
             ],
             [
              0.5555555555555556,
              "#d8576b"
             ],
             [
              0.6666666666666666,
              "#ed7953"
             ],
             [
              0.7777777777777778,
              "#fb9f3a"
             ],
             [
              0.8888888888888888,
              "#fdca26"
             ],
             [
              1,
              "#f0f921"
             ]
            ],
            "type": "surface"
           }
          ],
          "table": [
           {
            "cells": {
             "fill": {
              "color": "#EBF0F8"
             },
             "line": {
              "color": "white"
             }
            },
            "header": {
             "fill": {
              "color": "#C8D4E3"
             },
             "line": {
              "color": "white"
             }
            },
            "type": "table"
           }
          ]
         },
         "layout": {
          "annotationdefaults": {
           "arrowcolor": "#2a3f5f",
           "arrowhead": 0,
           "arrowwidth": 1
          },
          "autotypenumbers": "strict",
          "coloraxis": {
           "colorbar": {
            "outlinewidth": 0,
            "ticks": ""
           }
          },
          "colorscale": {
           "diverging": [
            [
             0,
             "#8e0152"
            ],
            [
             0.1,
             "#c51b7d"
            ],
            [
             0.2,
             "#de77ae"
            ],
            [
             0.3,
             "#f1b6da"
            ],
            [
             0.4,
             "#fde0ef"
            ],
            [
             0.5,
             "#f7f7f7"
            ],
            [
             0.6,
             "#e6f5d0"
            ],
            [
             0.7,
             "#b8e186"
            ],
            [
             0.8,
             "#7fbc41"
            ],
            [
             0.9,
             "#4d9221"
            ],
            [
             1,
             "#276419"
            ]
           ],
           "sequential": [
            [
             0,
             "#0d0887"
            ],
            [
             0.1111111111111111,
             "#46039f"
            ],
            [
             0.2222222222222222,
             "#7201a8"
            ],
            [
             0.3333333333333333,
             "#9c179e"
            ],
            [
             0.4444444444444444,
             "#bd3786"
            ],
            [
             0.5555555555555556,
             "#d8576b"
            ],
            [
             0.6666666666666666,
             "#ed7953"
            ],
            [
             0.7777777777777778,
             "#fb9f3a"
            ],
            [
             0.8888888888888888,
             "#fdca26"
            ],
            [
             1,
             "#f0f921"
            ]
           ],
           "sequentialminus": [
            [
             0,
             "#0d0887"
            ],
            [
             0.1111111111111111,
             "#46039f"
            ],
            [
             0.2222222222222222,
             "#7201a8"
            ],
            [
             0.3333333333333333,
             "#9c179e"
            ],
            [
             0.4444444444444444,
             "#bd3786"
            ],
            [
             0.5555555555555556,
             "#d8576b"
            ],
            [
             0.6666666666666666,
             "#ed7953"
            ],
            [
             0.7777777777777778,
             "#fb9f3a"
            ],
            [
             0.8888888888888888,
             "#fdca26"
            ],
            [
             1,
             "#f0f921"
            ]
           ]
          },
          "colorway": [
           "#636efa",
           "#EF553B",
           "#00cc96",
           "#ab63fa",
           "#FFA15A",
           "#19d3f3",
           "#FF6692",
           "#B6E880",
           "#FF97FF",
           "#FECB52"
          ],
          "font": {
           "color": "#2a3f5f"
          },
          "geo": {
           "bgcolor": "white",
           "lakecolor": "white",
           "landcolor": "#E5ECF6",
           "showlakes": true,
           "showland": true,
           "subunitcolor": "white"
          },
          "hoverlabel": {
           "align": "left"
          },
          "hovermode": "closest",
          "mapbox": {
           "style": "light"
          },
          "paper_bgcolor": "white",
          "plot_bgcolor": "#E5ECF6",
          "polar": {
           "angularaxis": {
            "gridcolor": "white",
            "linecolor": "white",
            "ticks": ""
           },
           "bgcolor": "#E5ECF6",
           "radialaxis": {
            "gridcolor": "white",
            "linecolor": "white",
            "ticks": ""
           }
          },
          "scene": {
           "xaxis": {
            "backgroundcolor": "#E5ECF6",
            "gridcolor": "white",
            "gridwidth": 2,
            "linecolor": "white",
            "showbackground": true,
            "ticks": "",
            "zerolinecolor": "white"
           },
           "yaxis": {
            "backgroundcolor": "#E5ECF6",
            "gridcolor": "white",
            "gridwidth": 2,
            "linecolor": "white",
            "showbackground": true,
            "ticks": "",
            "zerolinecolor": "white"
           },
           "zaxis": {
            "backgroundcolor": "#E5ECF6",
            "gridcolor": "white",
            "gridwidth": 2,
            "linecolor": "white",
            "showbackground": true,
            "ticks": "",
            "zerolinecolor": "white"
           }
          },
          "shapedefaults": {
           "line": {
            "color": "#2a3f5f"
           }
          },
          "ternary": {
           "aaxis": {
            "gridcolor": "white",
            "linecolor": "white",
            "ticks": ""
           },
           "baxis": {
            "gridcolor": "white",
            "linecolor": "white",
            "ticks": ""
           },
           "bgcolor": "#E5ECF6",
           "caxis": {
            "gridcolor": "white",
            "linecolor": "white",
            "ticks": ""
           }
          },
          "title": {
           "x": 0.05
          },
          "xaxis": {
           "automargin": true,
           "gridcolor": "white",
           "linecolor": "white",
           "ticks": "",
           "title": {
            "standoff": 15
           },
           "zerolinecolor": "white",
           "zerolinewidth": 2
          },
          "yaxis": {
           "automargin": true,
           "gridcolor": "white",
           "linecolor": "white",
           "ticks": "",
           "title": {
            "standoff": 15
           },
           "zerolinecolor": "white",
           "zerolinewidth": 2
          }
         }
        },
        "title": {
         "text": "🔄 Interactive Distance Comparison: Sonar vs DVL"
        },
        "xaxis": {
         "anchor": "y",
         "domain": [
          0,
          1
         ],
         "gridcolor": "LightGray",
         "gridwidth": 1,
         "showgrid": true,
         "title": {
          "text": "Time (seconds)"
         }
        },
        "yaxis": {
         "anchor": "x",
         "domain": [
          0,
          1
         ],
         "gridcolor": "LightGray",
         "gridwidth": 1,
         "showgrid": true,
         "title": {
          "text": "Distance (meters)"
         }
        }
       }
      }
     },
     "metadata": {},
     "output_type": "display_data"
    }
   ],
   "source": [
    "try:\n",
    "    fig, comparison_stats = iau.interactive_distance_comparison(distance_results, raw_data, sonar_coverage_m=sonar_coverage_meters, sonar_image_size=image_shape[0])\n",
    "    if comparison_stats and isinstance(comparison_stats, dict) and 'error' in comparison_stats:\n",
    "        print('Comparison did not run:', comparison_stats['error'])\n",
    "    else:\n",
    "        print('\\nComparison stats summary:')\n",
    "        from pprint import pprint\n",
    "        pprint(comparison_stats)\n",
    "        # Display the interactive plot\n",
    "        fig.show()\n",
    "except Exception as e:\n",
    "    print('Error running interactive comparison:', e)"
   ]
  },
  {
   "cell_type": "code",
   "execution_count": 20,
   "id": "50f97352",
   "metadata": {},
   "outputs": [
    {
     "name": "stdout",
     "output_type": "stream",
     "text": [
      "🎬 GENERATING VIDEO WITH DUAL NET DISTANCE OVERLAYS\n",
      "============================================================\n",
      "🎯 Target Bag: 2024-08-22_14-47-39\n",
      "📊 DVL Data: 374 records\n",
      "📏 Sonar Analysis: 725 frames\n",
      "🎥 Camera: disabled\n",
      "🛠️ OPTIMIZED SONAR VIDEO\n",
      "======================================================================\n",
      "🎯 Target Bag: 2024-08-22_14-47-39\n",
      "   Cone Size: 900x700\n",
      "   Range: 0.0-5.0m | FOV: 120.0°\n",
      "   🎥 Camera: disabled\n",
      "   🕸  Net-line: enabled (dist tol=0.5s, pitch tol=2.0s)\n",
      "   📊 Sonar Analysis: enabled\n",
      "   Loading sonar data: sensor_sonoptix_echo_image__2024-08-22_14-47-39_video.csv\n",
      "   ✅ Loaded 726 sonar frames in 6.58s\n",
      "   ✅ Loaded 374 navigation records in 0.01s\n",
      "      Available: ['NetDistance', 'NetPitch', 'timestamp']\n",
      "   Frames: 1..725 (step 1) => 725\n",
      "   Natural FPS: 15.4\n",
      "   ✅ Loaded 726 sonar frames in 6.58s\n",
      "   ✅ Loaded 374 navigation records in 0.01s\n",
      "      Available: ['NetDistance', 'NetPitch', 'timestamp']\n",
      "   Frames: 1..725 (step 1) => 725\n",
      "   Natural FPS: 15.4\n",
      "\n",
      "🎉 DONE! Wrote 725 frames to exports/videos/2024-08-22_14-47-39_optimized_sync_withsonar_20240822_144742_079270+0200.mp4 @ 15.43 FPS\n",
      "Metadata saved to: exports/videos/2024-08-22_14-47-39_optimized_sync_withsonar_20240822_144742_079270+0200.mp4.meta.json\n",
      "\n",
      "✅ Video generated successfully!\n",
      "📁 Output: None\n",
      "\n",
      "🎉 DONE! Wrote 725 frames to exports/videos/2024-08-22_14-47-39_optimized_sync_withsonar_20240822_144742_079270+0200.mp4 @ 15.43 FPS\n",
      "Metadata saved to: exports/videos/2024-08-22_14-47-39_optimized_sync_withsonar_20240822_144742_079270+0200.mp4.meta.json\n",
      "\n",
      "✅ Video generated successfully!\n",
      "📁 Output: None\n"
     ]
    }
   ],
   "source": [
    "# 🎥 Generate Video with Both DVL and Sonar Analysis Overlays\n",
    "# ========================================================\n",
    "import utils.sonar_and_foto_generation as sg\n",
    "\n",
    "# Set up paths\n",
    "VIDEO_SEQ_DIR = None  # Set to path if you want camera footage included\n",
    "\n",
    "print(\"🎬 GENERATING VIDEO WITH DUAL NET DISTANCE OVERLAYS\")\n",
    "print(\"=\" * 60)\n",
    "print(f\"🎯 Target Bag: {TARGET_BAG}\")\n",
    "print(f\"📊 DVL Data: {len(raw_data.get('navigation', []))} records\")\n",
    "print(f\"📏 Sonar Analysis: {len(distance_results)} frames\")\n",
    "print(f\"🎥 Camera: {'enabled' if VIDEO_SEQ_DIR else 'disabled'}\")\n",
    "\n",
    "# Generate the video with both overlays\n",
    "try:\n",
    "    video_path = sg.export_optimized_sonar_video(\n",
    "        TARGET_BAG=TARGET_BAG,\n",
    "        EXPORTS_FOLDER=EXPORTS_FOLDER,\n",
    "        START_IDX=1,\n",
    "        END_IDX=1000,  # Adjust as needed\n",
    "        STRIDE=1,\n",
    "        VIDEO_SEQ_DIR=VIDEO_SEQ_DIR,\n",
    "        INCLUDE_NET=True,  # Enable DVL net distance overlay\n",
    "        SONAR_DISTANCE_RESULTS=distance_results,  # Enable sonar analysis overlay\n",
    "        NET_DISTANCE_TOLERANCE=0.5,\n",
    "        NET_PITCH_TOLERANCE=2.0,  # Increased from 0.3 to 2.0 seconds for better pitch sync\n",
    "    )\n",
    "    print(f\"\\n✅ Video generated successfully!\")\n",
    "    print(f\"📁 Output: {video_path}\")\n",
    "except Exception as e:\n",
    "    print(f\"❌ Error generating video: {e}\")"
   ]
  }
 ],
 "metadata": {
  "kernelspec": {
   "display_name": "venv",
   "language": "python",
   "name": "python3"
  },
  "language_info": {
   "codemirror_mode": {
    "name": "ipython",
    "version": 3
   },
   "file_extension": ".py",
   "mimetype": "text/x-python",
   "name": "python",
   "nbconvert_exporter": "python",
   "pygments_lexer": "ipython3",
   "version": "3.13.5"
  }
 },
 "nbformat": 4,
 "nbformat_minor": 5
}
