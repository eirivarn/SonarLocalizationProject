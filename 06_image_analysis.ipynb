{
 "cells": [
  {
   "cell_type": "code",
   "execution_count": 12,
   "id": "7a8d02c0",
   "metadata": {},
   "outputs": [],
   "source": [
    "# Centralized sonar defaults (inserted by sweep)\n",
    "from utils.sonar_config import SONAR_VIS_DEFAULTS\n",
    "sonar_config = SONAR_VIS_DEFAULTS.copy()\n",
    "# Backwards-compatible variable names used in older notebooks\n",
    "RANGE_MIN_M = sonar_config['range_min_m']\n",
    "RANGE_MAX_M = sonar_config['range_max_m']\n",
    "DISPLAY_RANGE_MAX_M = sonar_config['display_range_max_m']\n",
    "\n",
    "# If an exported NPZ/MP4 sidecar is available, downstream cells will prefer that metadata\n",
    "# Optional: override defaults below, e.g.\n",
    "# DISPLAY_RANGE_MAX_M = 10.0\n"
   ]
  },
  {
   "cell_type": "markdown",
   "id": "9220eb1d",
   "metadata": {},
   "source": [
    "# Simple Image Analysis with CV2\n",
    "\n",
    "This notebook demonstrates:\n",
    "1. **Pick a frame** from NPZ files and save it locally\n",
    "2. **Use standard cv2 functions** directly for image processing\n",
    "3. **Experiment** with different OpenCV operations"
   ]
  },
  {
   "cell_type": "code",
   "execution_count": 13,
   "id": "4b3e8f46",
   "metadata": {},
   "outputs": [
    {
     "name": "stdout",
     "output_type": "stream",
     "text": [
      "✅ Plotly available for interactive plots\n",
      "Selected NPZ file: 2024-08-22_14-06-43_data_cones.npz (index=0)\n"
     ]
    }
   ],
   "source": [
    "from pathlib import Path\n",
    "import utils.sonar_image_analysis as iau\n",
    "import matplotlib.pyplot as plt\n",
    "\n",
    "# For interactive plots\n",
    "try:\n",
    "    import plotly.graph_objects as go\n",
    "    from plotly.subplots import make_subplots\n",
    "    print(\"✅ Plotly available for interactive plots\")\n",
    "except ImportError:\n",
    "    print(\"⚠️ Plotly not available - install with: pip install plotly\")\n",
    "\n",
    "# Prefer selecting by bag ID (part of the NPZ filename) instead of a numeric index.\n",
    "# Set TARGET_BAG to a substring that appears in the NPZ filename (e.g. '2024-08-22_14-29-05')\n",
    "TARGET_BAG = '2024-08-22_14-06-43'  # change this to your desired bag ID\n",
    "EXPORTS_FOLDER = Path(\"exports\")\n",
    "\n",
    "# Find NPZ files and pick the one matching TARGET_BAG\n",
    "files = iau.get_available_npz_files()\n",
    "if not files:\n",
    "    raise FileNotFoundError('No NPZ files found in exports/outputs')\n",
    "matches = [p for p in files if TARGET_BAG in p.name]\n",
    "if not matches:\n",
    "    # Help the user by listing available NPZ files\n",
    "    print(f'No NPZ file matched TARGET_BAG={TARGET_BAG!r}')\n",
    "    print('Available NPZ files:')\n",
    "    for i,p in enumerate(files):\n",
    "        print(f'  {i}: {p.name}')\n",
    "    raise ValueError(f'No NPZ file contains \"{TARGET_BAG}\" in its name')\n",
    "# If multiple matches, choose the most recently modified one\n",
    "selected = max(matches, key=lambda p: p.stat().st_mtime)\n",
    "NPZ_FILE_INDEX = files.index(selected)\n",
    "print(f'Selected NPZ file: {selected.name} (index={NPZ_FILE_INDEX})')\n",
    "\n",
    "# Set up matplotlib\n",
    "plt.rcParams['figure.figsize'] = (12, 8)\n",
    "plt.rcParams['image.cmap'] = 'gray'"
   ]
  },
  {
   "cell_type": "markdown",
   "id": "10558e62",
   "metadata": {},
   "source": [
    "## Pick and Save a Frame\n",
    "\n",
    "First, let's see what NPZ files are available and pick a frame to work with:"
   ]
  },
  {
   "cell_type": "code",
   "execution_count": 14,
   "id": "7ad52c23",
   "metadata": {},
   "outputs": [
    {
     "name": "stdout",
     "output_type": "stream",
     "text": [
      "Frame saved to: exports/frames/current_frame.png\n",
      "Source: 2024-08-22_14-06-43_data_cones.npz, Frame 591/591\n",
      "Timestamp: 12:07:23\n",
      "Shape: (700, 900)\n"
     ]
    }
   ],
   "source": [
    "# Pick and save a frame\n",
    "frame_info = iau.pick_and_save_frame(\n",
    "    npz_file_index=NPZ_FILE_INDEX,           \n",
    "    frame_position=1000,         \n",
    "    output_path=EXPORTS_FOLDER / 'frames' / 'current_frame.png'  \n",
    ")\n"
   ]
  },
  {
   "cell_type": "markdown",
   "id": "0c65358c",
   "metadata": {},
   "source": [
    "## Red Line Distance Analysis Over Time\n",
    "\n",
    "Now let's perform a comprehensive analysis of the red line distance over time. The red line represents the major axis of the detected elongated contour (likely a fishing net), and we'll track how this distance changes throughout the video sequence."
   ]
  },
  {
   "cell_type": "code",
   "execution_count": 15,
   "id": "d9c0382e",
   "metadata": {},
   "outputs": [
    {
     "name": "stdout",
     "output_type": "stream",
     "text": [
      "=== RED LINE DISTANCE ANALYSIS OVER TIME ===\n",
      "Analyzing: exports/outputs/2024-08-22_14-06-43_data_cones.npz\n",
      "Total frames available: 592\n",
      "Analyzing frames 1 to 592 (step=1)\n",
      "Total frames available: 592\n",
      "Analyzing frames 1 to 592 (step=1)\n",
      "  Processed 50/591 frames (Success rate: 100.0%)\n",
      "  Processed 50/591 frames (Success rate: 100.0%)\n",
      "  Processed 100/591 frames (Success rate: 100.0%)\n",
      "  Processed 100/591 frames (Success rate: 100.0%)\n",
      "  Processed 150/591 frames (Success rate: 100.0%)\n",
      "  Processed 150/591 frames (Success rate: 100.0%)\n",
      "  Processed 200/591 frames (Success rate: 100.0%)\n",
      "  Processed 200/591 frames (Success rate: 100.0%)\n",
      "  Processed 250/591 frames (Success rate: 100.0%)\n",
      "  Processed 250/591 frames (Success rate: 100.0%)\n",
      "  Processed 300/591 frames (Success rate: 100.0%)\n",
      "  Processed 300/591 frames (Success rate: 100.0%)\n",
      "  Processed 350/591 frames (Success rate: 100.0%)\n",
      "  Processed 350/591 frames (Success rate: 100.0%)\n",
      "  Processed 400/591 frames (Success rate: 100.0%)\n",
      "  Processed 400/591 frames (Success rate: 100.0%)\n",
      "  Processed 450/591 frames (Success rate: 100.0%)\n",
      "  Processed 450/591 frames (Success rate: 100.0%)\n",
      "  Processed 500/591 frames (Success rate: 100.0%)\n",
      "  Processed 500/591 frames (Success rate: 100.0%)\n",
      "  Processed 550/591 frames (Success rate: 100.0%)\n",
      "  Processed 550/591 frames (Success rate: 100.0%)\n",
      "\n",
      "=== ANALYSIS COMPLETE ===\n",
      "Total frames processed: 591\n",
      "Successful detections: 591 (100.0%)\n",
      "Distance statistics (pixels):\n",
      "  - Mean: 57.26\n",
      "  - Std:  23.73\n",
      "  - Min:  24.12\n",
      "  - Max:  136.05\n",
      "  - Range:111.93\n",
      "\n",
      "=== ANALYSIS COMPLETE ===\n",
      "Total frames processed: 591\n",
      "Successful detections: 591 (100.0%)\n",
      "Distance statistics (pixels):\n",
      "  - Mean: 57.26\n",
      "  - Std:  23.73\n",
      "  - Min:  24.12\n",
      "  - Max:  136.05\n",
      "  - Range:111.93\n"
     ]
    }
   ],
   "source": [
    "# Analyze the red line distance over time\n",
    "distance_results = iau.analyze_red_line_distance_over_time(\n",
    "    npz_file_index=NPZ_FILE_INDEX,    \n",
    "    frame_start=1,        # Start from frame 1\n",
    "    frame_count=1000,      # Analyze all frames from the video\n",
    "    frame_step=1          # Every frame\n",
    ")"
   ]
  },
  {
   "cell_type": "code",
   "execution_count": 16,
   "id": "b9c5da85",
   "metadata": {},
   "outputs": [
    {
     "name": "stdout",
     "output_type": "stream",
     "text": [
      "=== CONTOUR DETECTION VIDEO CREATION ===\n",
      "Creating video with 1000 frames, stepping by 1...\n",
      "  Image Processing: MOMENTUM MERGING (radius=3, threshold=0.1, decay=0.9), canny=(40, 120), min_area=100\n",
      "  Tracking: boost=1000.0x, expansion=10px\n",
      "  Video: fps=15, show_contours=True, show_ellipse=True\n",
      "Processing frames...\n",
      "Processed 10/591 frames\n",
      "Processing frames...\n",
      "Processed 10/591 frames\n",
      "Processed 20/591 frames\n",
      "Processed 30/591 frames\n",
      "Processed 20/591 frames\n",
      "Processed 30/591 frames\n",
      "Processed 40/591 frames\n",
      "Processed 50/591 frames\n",
      "Processed 40/591 frames\n",
      "Processed 50/591 frames\n",
      "Processed 60/591 frames\n",
      "Processed 70/591 frames\n",
      "Processed 60/591 frames\n",
      "Processed 70/591 frames\n",
      "Processed 80/591 frames\n",
      "Processed 90/591 frames\n",
      "Processed 80/591 frames\n",
      "Processed 90/591 frames\n",
      "Processed 100/591 frames\n",
      "Processed 110/591 frames\n",
      "Processed 100/591 frames\n",
      "Processed 110/591 frames\n",
      "Processed 120/591 frames\n",
      "Processed 120/591 frames\n",
      "Processed 130/591 frames\n",
      "Processed 130/591 frames\n",
      "Processed 140/591 frames\n",
      "Processed 150/591 frames\n",
      "Processed 140/591 frames\n",
      "Processed 150/591 frames\n",
      "Processed 160/591 frames\n",
      "Processed 170/591 frames\n",
      "Processed 160/591 frames\n",
      "Processed 170/591 frames\n",
      "Processed 180/591 frames\n",
      "Processed 190/591 frames\n",
      "Processed 180/591 frames\n",
      "Processed 190/591 frames\n",
      "Processed 200/591 frames\n",
      "Processed 210/591 frames\n",
      "Processed 200/591 frames\n",
      "Processed 210/591 frames\n",
      "Processed 220/591 frames\n",
      "Processed 230/591 frames\n",
      "Processed 220/591 frames\n",
      "Processed 230/591 frames\n",
      "Processed 240/591 frames\n",
      "Processed 240/591 frames\n",
      "Processed 250/591 frames\n",
      "Processed 260/591 frames\n",
      "Processed 250/591 frames\n",
      "Processed 260/591 frames\n",
      "Processed 270/591 frames\n",
      "Processed 270/591 frames\n",
      "Processed 280/591 frames\n",
      "Processed 280/591 frames\n",
      "Processed 290/591 frames\n",
      "Processed 300/591 frames\n",
      "Processed 290/591 frames\n",
      "Processed 300/591 frames\n",
      "Processed 310/591 frames\n",
      "Processed 310/591 frames\n",
      "Processed 320/591 frames\n",
      "Processed 320/591 frames\n",
      "Processed 330/591 frames\n",
      "Processed 330/591 frames\n",
      "Processed 340/591 frames\n",
      "Processed 340/591 frames\n",
      "Processed 350/591 frames\n",
      "Processed 350/591 frames\n",
      "Processed 360/591 frames\n",
      "Processed 360/591 frames\n",
      "Processed 370/591 frames\n",
      "Processed 370/591 frames\n",
      "Processed 380/591 frames\n",
      "Processed 390/591 frames\n",
      "Processed 380/591 frames\n",
      "Processed 390/591 frames\n",
      "Processed 400/591 frames\n",
      "Processed 400/591 frames\n",
      "Processed 410/591 frames\n",
      "Processed 410/591 frames\n",
      "Processed 420/591 frames\n",
      "Processed 420/591 frames\n",
      "Processed 430/591 frames\n",
      "Processed 430/591 frames\n",
      "Processed 440/591 frames\n",
      "Processed 440/591 frames\n",
      "Processed 450/591 frames\n",
      "Processed 450/591 frames\n",
      "Processed 460/591 frames\n",
      "Processed 460/591 frames\n",
      "Processed 470/591 frames\n",
      "Processed 470/591 frames\n",
      "Processed 480/591 frames\n",
      "Processed 480/591 frames\n",
      "Processed 490/591 frames\n",
      "Processed 490/591 frames\n",
      "Processed 500/591 frames\n",
      "Processed 510/591 frames\n",
      "Processed 500/591 frames\n",
      "Processed 510/591 frames\n",
      "Processed 520/591 frames\n",
      "Processed 520/591 frames\n",
      "Processed 530/591 frames\n",
      "Processed 540/591 frames\n",
      "Processed 530/591 frames\n",
      "Processed 540/591 frames\n",
      "Processed 550/591 frames\n",
      "Processed 550/591 frames\n",
      "Processed 560/591 frames\n",
      "Processed 560/591 frames\n",
      "Processed 570/591 frames\n",
      "Processed 570/591 frames\n",
      "Processed 580/591 frames\n",
      "Processed 580/591 frames\n",
      "Processed 590/591 frames\n",
      "\n",
      "=== VIDEO CREATION COMPLETE ===\n",
      "Video saved to: exports/videos/contour_detection_configurable.mp4\n",
      "Video specs: 900x700, 15 fps, 591 frames\n",
      "Tracking stats:\n",
      "  - Tracked frames: 577\n",
      "  - New detections: 1\n",
      "  - Lost/searching frames: 13\n",
      "  - Detection success rate: 97.8%\n",
      "  - Tracking continuity:   99.8%\n",
      "Processed 590/591 frames\n",
      "\n",
      "=== VIDEO CREATION COMPLETE ===\n",
      "Video saved to: exports/videos/contour_detection_configurable.mp4\n",
      "Video specs: 900x700, 15 fps, 591 frames\n",
      "Tracking stats:\n",
      "  - Tracked frames: 577\n",
      "  - New detections: 1\n",
      "  - Lost/searching frames: 13\n",
      "  - Detection success rate: 97.8%\n",
      "  - Tracking continuity:   99.8%\n"
     ]
    }
   ],
   "source": [
    "# Create the video with \n",
    "video_path = iau.create_contour_detection_video(\n",
    "    npz_file_index=NPZ_FILE_INDEX,          # Which NPZ file to use\n",
    "    frame_start=1,           # Starting frame\n",
    "    frame_count=1000,           # How many frames to process\n",
    "    frame_step=1,              # Step between frames \n",
    "    output_path=EXPORTS_FOLDER / 'videos' / 'contour_detection_configurable.mp4'\n",
    ")"
   ]
  },
  {
   "cell_type": "markdown",
   "id": "fede9d64",
   "metadata": {},
   "source": [
    "## Convert to Real-World Distances\n",
    "\n",
    "Now let's convert the pixel distances to real-world distances using the fact that the entire sonar image represents a 10x10 meter area."
   ]
  },
  {
   "cell_type": "code",
   "execution_count": 17,
   "id": "886897de",
   "metadata": {},
   "outputs": [
    {
     "name": "stdout",
     "output_type": "stream",
     "text": [
      "Detected NPZ extent: x=[-8.660,8.660] m, y=[0.000,10.000] m\n",
      "Image shape from NPZ: H=700, W=900\n",
      "meters/pixel: x=0.019245, y=0.014286, avg=0.016765\n",
      "Using pixels_to_meters_avg = 0.016765 m/px\n"
     ]
    }
   ],
   "source": [
    "# Auto-detect pixel->meter mapping from the selected NPZ (if available)\n",
    "try:\n",
    "    cones, ts, extent, meta = iau.load_cone_run_npz(selected)\n",
    "    T, H, W = cones.shape\n",
    "    x_min, x_max, y_min, y_max = extent\n",
    "    width_m = float(x_max - x_min)\n",
    "    height_m = float(y_max - y_min)\n",
    "    px2m_x = width_m / float(W)\n",
    "    px2m_y = height_m / float(H)\n",
    "    pixels_to_meters_avg = 0.5 * (px2m_x + px2m_y)\n",
    "    image_shape = (H, W)\n",
    "    sonar_coverage_meters = max(width_m, height_m)\n",
    "    print(f\"Detected NPZ extent: x=[{x_min:.3f},{x_max:.3f}] m, y=[{y_min:.3f},{y_max:.3f}] m\")\n",
    "    print(f\"Image shape from NPZ: H={H}, W={W}\")\n",
    "    print(f\"meters/pixel: x={px2m_x:.6f}, y={px2m_y:.6f}, avg={pixels_to_meters_avg:.6f}\")\n",
    "except Exception as e:\n",
    "    print(\"Could not read NPZ metadata:\", e)\n",
    "    print(\"Falling back to defaults from sonar_config.\")\n",
    "    from utils.sonar_config import CONE_H_DEFAULT, CONE_W_DEFAULT, DISPLAY_RANGE_MAX_M_DEFAULT\n",
    "    image_shape = (CONE_H_DEFAULT, CONE_W_DEFAULT)\n",
    "    sonar_coverage_meters = DISPLAY_RANGE_MAX_M_DEFAULT * 2  # approximate\n",
    "    pixels_to_meters_avg = sonar_coverage_meters / max(image_shape)\n",
    "    \n",
    "# Use the computed pixels_to_meters_avg in downstream analysis\n",
    "print(f\"Using pixels_to_meters_avg = {pixels_to_meters_avg:.6f} m/px\")"
   ]
  },
  {
   "cell_type": "code",
   "execution_count": 18,
   "id": "15d6238c",
   "metadata": {},
   "outputs": [
    {
     "data": {
      "image/png": "[encoded data removed]",
      "text/plain": [
       "<Figure size 1600x1200 with 4 Axes>"
      ]
     },
     "metadata": {},
     "output_type": "display_data"
    }
   ],
   "source": [
    "# Real-world distance analysis and plotting using utility function\n",
    "iau.plot_real_world_distance_analysis(distance_results, image_shape=image_shape, sonar_coverage_meters=sonar_coverage_meters)"
   ]
  },
  {
   "cell_type": "code",
   "execution_count": 19,
   "id": "c10a8be6",
   "metadata": {},
   "outputs": [
    {
     "name": "stdout",
     "output_type": "stream",
     "text": [
      "🎯 LOADING DVL DATA FOR COMPARISON: 2024-08-22_14-06-43\n",
      "============================================================\n",
      "🎯 LOADING ALL DISTANCE DATA FOR BAG: 2024-08-22_14-06-43\n",
      "============================================================\n",
      "📡 1. Loading Navigation Data...\n",
      "   ✅ Loaded 322 navigation records\n",
      "📡 2. Loading Guidance Data...\n",
      "   ✅ Loaded 317 guidance records with ['error_net_distance', 'desired_net_distance', 'r_net_distance_d']\n",
      "📡 3. Loading DVL Altimeter...\n",
      "   ✅ Loaded 17 DVL altimeter records\n",
      "📡 4. Loading USBL...\n",
      "   ✅ Loaded 17 USBL records\n",
      "📡 5. Loading DVL Position...\n",
      "   ✅ Loaded 154 DVL position records\n",
      "📡 6. Loading Navigation Position...\n",
      "   ✅ Loaded 156 navigation position records\n",
      "📡 7. Loading INS Z Position...\n",
      "   ✅ Loaded 366 INS records with positionFrame.z\n",
      "\n",
      "📊 LOADING SUMMARY:\n",
      "   🎯 Target bag: 2024-08-22_14-06-43\n",
      "   📁 Raw data loaded: 2/2\n",
      "   📏 Distance measurements: 6\n",
      "\n",
      "📊 RAW DATA LOADED:\n",
      "   ✅ navigation: 322 records\n",
      "   ✅ guidance: 317 records\n",
      "\n",
      "📏 DISTANCE MEASUREMENTS LOADED:\n",
      "   ✅ DVL_Altimeter: 17 records - Distance to seafloor\n",
      "   ✅ USBL_3D: 17 records - 3D acoustic position\n",
      "   ✅ USBL_Depth: 17 records - USBL depth measurement\n",
      "   ✅ DVL_Position: 154 records - 3D DVL position\n",
      "   ✅ Nav_Position: 156 records - 2D navigation position\n",
      "   ✅ INS_Z_Position: 366 records - INS positionFrame.z (vertical position)\n"
     ]
    }
   ],
   "source": [
    "# 🔄 COMPARISON: SONAR vs DVL DISTANCE MEASUREMENTS\n",
    "# =================================================\n",
    "import utils.net_distance_analysis as sda\n",
    "\n",
    "print(f\"🎯 LOADING DVL DATA FOR COMPARISON: {TARGET_BAG}\")\n",
    "print(\"=\" * 60)\n",
    "\n",
    "# Load all distance data for the target bag\n",
    "raw_data, distance_measurements = sda.load_all_distance_data_for_bag(TARGET_BAG, EXPORTS_FOLDER)\n",
    "\n",
    "# Display what we loaded\n",
    "print(f\"\\n📊 RAW DATA LOADED:\")\n",
    "for key, data in raw_data.items():\n",
    "    if data is not None:\n",
    "        print(f\"   ✅ {key}: {len(data)} records\")\n",
    "    else:\n",
    "        print(f\"   ❌ {key}: None\")\n",
    "\n",
    "print(f\"\\n📏 DISTANCE MEASUREMENTS LOADED:\")\n",
    "for key, info in distance_measurements.items():\n",
    "    data_len = len(info['data'])\n",
    "    print(f\"   ✅ {key}: {data_len} records - {info['description']}\")"
   ]
  },
  {
   "cell_type": "code",
   "execution_count": 20,
   "id": "0375375e",
   "metadata": {},
   "outputs": [
    {
     "name": "stdout",
     "output_type": "stream",
     "text": [
      "\n",
      "Comparison stats summary:\n",
      "{'dvl_mean_m': 0.7157763967880552,\n",
      " 'dvl_records': 322,\n",
      " 'sonar_frames': 591,\n",
      " 'sonar_mean_m': 0.8179897705064342,\n",
      " 'time_span_s': 34.801393271}\n"
     ]
    },
    {
     "data": {
      "application/vnd.plotly.v1+json": {
       "config": {
        "plotlyServerURL": "https://plot.ly"
       },
       "data": [
        {
         "hovertemplate": "Time: %{x:.1f}s<br>Distance: %{y:.3f}m<extra>Sonar Raw</extra>",
         "line": {
          "color": "rgba(255, 0, 0, 0.3)",
          "width": 1
         },
         "mode": "lines",
         "name": "Sonar Raw Distance",
         "type": "scatter",
         "x": {
          "bdata": "BTS+AVYzrj8FNL4BVjO+PwOnToGApsY/BTS+AVYzzj+D4BbBFeDSPwOnToGAptY/hW2GQets2j8FNL4BVjPeP0P9+mDg/OA/g+AWwRXg4j/EwzIhS8PkPwOnToGApuY/RIpq4bWJ6D+FbYZB62zqP8VQoqEgUOw/BTS+AVYz7j+jC+2wRQvwP0P9+mDg/PA/4+4IEXvu8T+D4BbBFeDyPyTSJHGw0fM/xMMyIUvD9D9ktUDR5bT1PwOnToGApvY/pJhcMRuY9z9EimrhtYn4P+R7eJFQe/k/hW2GQets+j8lX5TxhV77P8VQoqEgUPw/ZUKwUbtB/T8FNL4BVjP+P6UlzLHwJP8/owvtsEULAEBzBPQIE4QAQEP9+mDg/ABAE/YBua11AUDj7ggRe+4BQLPnD2lIZwJAg+AWwRXgAkBT2R0Z41gDQCTSJHGw0QNA9MoryX1KBEDEwzIhS8MEQJS8OXkYPAVAZLVA0eW0BUAzrkcpsy0GQAOnToGApgZA1J9V2U0fB0CkmFwxG5gHQHSRY4noEAhARIpq4bWJCEAUg3E5gwIJQOR7eJFQewlAtXR/6R30CUCFbYZB62wKQFVmjZm45QpAJV+U8YVeC0D1V5tJU9cLQMVQoqEgUAxAlEmp+e3IDEBlQrBRu0ENQDU7t6mIug1ABTS+AVYzDkDVLMVZI6wOQKUlzLHwJA9AdR7TCb6dD0CjC+2wRQsQQAuI8FysRxBAcwT0CBOEEEDbgPe0ecAQQEP9+mDg/BBAq3n+DEc5EUAT9gG5rXURQHtyBWUUshFA4+4IEXvuEUBLawy94SoSQLPnD2lIZxJAG2QTFa+jEkCD4BbBFeASQOtcGm18HBNAU9kdGeNYE0C7VSHFSZUTQCTSJHGw0RNAjE4oHRcOFED0yivJfUoUQFxHL3XkhhRAxMMyIUvDFEAsQDbNsf8UQJS8OXkYPBVA/Dg9JX94FUBktUDR5bQVQMwxRH1M8RVAM65HKbMtFkCbKkvVGWoWQAOnToGAphZAbCNSLefiFkDUn1XZTR8XQDwcWYW0WxdApJhcMRuYF0AMFWDdgdQXQHSRY4noEBhA3A1nNU9NGEBEimrhtYkYQKwGbo0cxhhAFINxOYMCGUB8/3Tl6T4ZQOR7eJFQexlATfh7Pbe3GUC1dH/pHfQZQB3xgpWEMBpAhW2GQetsGkDt6YntUakaQFVmjZm45RpAveKQRR8iG0AlX5TxhV4bQI3bl53smhtA9VebSVPXG0Bd1J71uRMcQMVQoqEgUBxALM2lTYeMHECUSan57cgcQP3FrKVUBR1AZUKwUbtBHUDNvrP9IX4dQDU7t6mIuh1Anbe6Ve/2HUAFNL4BVjMeQG2wwa28bx5A1SzFWSOsHkA9qcgFiugeQKUlzLHwJB9ADaLPXVdhH0B1HtMJvp0fQN6a1rUk2h9AowvtsEULIEDXye4GeSkgQAuI8FysRyBAP0byst9lIEBzBPQIE4QgQKfC9V5GoiBA24D3tHnAIEAPP/kKrd4gQEP9+mDg/CBAd7v8thMbIUCref4MRzkhQN83AGN6VyFAE/YBua11IUBHtAMP4ZMhQHtyBWUUsiFArzAHu0fQIUDj7ggRe+4hQBetCmeuDCJAS2sMveEqIkCAKQ4TFUkiQLPnD2lIZyJA6KURv3uFIkAbZBMVr6MiQFAiFWviwSJAg+AWwRXgIkC3nhgXSf4iQOtcGm18HCNAHxscw686I0BT2R0Z41gjQIeXH28WdyNAu1UhxUmVI0DvEyMbfbMjQCTSJHGw0SNAV5Amx+PvI0CMTigdFw4kQL8MKnNKLCRA9MoryX1KJEAniS0fsWgkQFxHL3XkhiRAjwUxyxelJEDEwzIhS8MkQPeBNHd+4SRALEA2zbH/JEBf/jcj5R0lQJS8OXkYPCVAyHo7z0taJUD8OD0lf3glQDD3PnuyliVAZLVA0eW0JUCYc0InGdMlQMwxRH1M8SVAAPBF038PJkAzrkcpsy0mQGhsSX/mSyZAmypL1RlqJkDQ6EwrTYgmQAOnToGApiZAOGVQ17PEJkBsI1It5+ImQKDhU4MaASdA1J9V2U0fJ0AIXlcvgT0nQDwcWYW0WydAcNpa2+d5J0CkmFwxG5gnQNhWXodOtidADBVg3YHUJ0BA02EztfInQHSRY4noEChAqU9l3xsvKEDcDWc1T00oQBHMaIuCayhARIpq4bWJKEB5SGw36acoQKwGbo0cxihA4cRv40/kKEAUg3E5gwIpQElBc4+2IClAfP905ek+KUCwvXY7HV0pQOR7eJFQeylAGDp654OZKUBN+Hs9t7cpQIC2fZPq1SlAtXR/6R30KUDoMoE/URIqQB3xgpWEMCpAUK+E67dOKkCFbYZB62wqQLgriJceiypA7emJ7VGpKkAgqItDhccqQFVmjZm45SpAiCSP7+sDK0C94pBFHyIrQPCgkptSQCtAJV+U8YVeK0BZHZZHuXwrQI3bl53smitAwZmZ8x+5K0D1V5tJU9crQCkWnZ+G9StAXdSe9bkTLECRkqBL7TEsQMVQoqEgUCxA+Q6k91NuLEAszaVNh4wsQGGLp6O6qixAlEmp+e3ILEDJB6tPIecsQP3FrKVUBS1AMYSu+4cjLUBlQrBRu0EtQJkAsqfuXy1Azb6z/SF+LUABfbVTVZwtQDU7t6mIui1Aafm4/7vYLUCdt7pV7/YtQNF1vKsiFS5ABTS+AVYzLkA68r9XiVEuQG2wwa28by5Aom7DA/CNLkDVLMVZI6wuQArrxq9Wyi5APanIBYroLkByZ8pbvQYvQKUlzLHwJC9A2uPNByRDL0ANos9dV2EvQEJg0bOKfy9AdR7TCb6dL0Cp3NRf8bsvQN6a1rUk2i9AEVnYC1j4L0CjC+2wRQswQL3q7VtfGjBA18nuBnkpMEDxqO+xkjgwQAuI8FysRzBAJWfxB8ZWMEA/RvKy32UwQFkl8135dDBAcwT0CBOEMECN4/SzLJMwQKfC9V5GojBAwaH2CWCxMEDbgPe0ecAwQPVf+F+TzzBADz/5Cq3eMEApHvq1xu0wQEP9+mDg/DBAXdz7C/oLMUB3u/y2ExsxQJGa/WEtKjFAq3n+DEc5MUDFWP+3YEgxQN83AGN6VzFA+RYBDpRmMUAT9gG5rXUxQCzVAmTHhDFAR7QDD+GTMUBhkwS6+qIxQHtyBWUUsjFAlVEGEC7BMUCvMAe7R9AxQMkPCGZh3zFA4+4IEXvuMUD9zQm8lP0xQBetCmeuDDJAMYwLEsgbMkBLawy94SoyQGVKDWj7OTJAgCkOExVJMkCZCA++LlgyQLPnD2lIZzJAzcYQFGJ2MkDopRG/e4UyQAGFEmqVlDJAG2QTFa+jMkA1QxTAyLIyQFAiFWviwTJAaQEWFvzQMkCD4BbBFeAyQJ2/F2wv7zJAt54YF0n+MkDSfRnCYg0zQOtcGm18HDNABTwbGJYrM0AfGxzDrzozQDr6HG7JSTNAU9kdGeNYM0BtuB7E/GczQIeXH28WdzNAonYgGjCGM0C7VSHFSZUzQNU0InBjpDNA7xMjG32zM0AK8yPGlsIzQCTSJHGw0TNAPbElHMrgM0BXkCbH4+8zQHJvJ3L9/jNAjE4oHRcONEClLSnIMB00QL8MKnNKLDRA2usqHmQ7NED0yivJfUo0QA2qLHSXWTRAJ4ktH7FoNEBCaC7Kync0QFxHL3XkhjRAdiYwIP6VNECPBTHLF6U0QKnkMXYxtDRAxMMyIUvDNEDeojPMZNI0QPeBNHd+4TRAEWE1IpjwNEAsQDbNsf80QEYfN3jLDjVAX/43I+UdNUB53TjO/iw1QJS8OXkYPDVArps6JDJLNUDIejvPS1o1QOFZPHplaTVA/Dg9JX94NUAWGD7QmIc1QDD3PnuyljVASdY/JsylNUBktUDR5bQ1QH6UQXz/wzVAmHNCJxnTNUCxUkPSMuI1QMwxRH1M8TVA5hBFKGYANkAA8EXTfw82QBrPRn6ZHjZAM65HKbMtNkBOjUjUzDw2QGhsSX/mSzZAgktKKgBbNkCbKkvVGWo2QLYJTIAzeTZA0OhMK02INkDqx03WZpc2QAOnToGApjZAHoZPLJq1NkA4ZVDXs8Q2QFJEUYLN0zZAbCNSLefiNkCGAlPYAPI2QKDhU4MaATdAusBULjQQN0DUn1XZTR83QO5+VoRnLjdACF5XL4E9N0AiPVjamkw3QDwcWYW0WzdAV/tZMM5qN0Bw2lrb53k3QIq5W4YBiTdApJhcMRuYN0C/d13cNKc3QNhWXodOtjdA8jVfMmjFN0AMFWDdgdQ3QCb0YIib4zdAQNNhM7XyN0BasmLezgE4QHSRY4noEDhAjnBkNAIgOECpT2XfGy84QMIuZoo1PjhA3A1nNU9NOED27GfgaFw4QBHMaIuCazhAKqtpNpx6OEBEimrhtYk4QF5pa4zPmDhAeUhsN+mnOECSJ23iArc4QKwGbo0cxjhAxuVuODbVOEDhxG/jT+Q4QPujcI5p8zhAFINxOYMCOUAuYnLknBE5QElBc4+2IDlAYyB0OtAvOUB8/3Tl6T45QJbedZADTjlAsL12Ox1dOUDLnHfmNmw5QOR7eJFQezlA/lp5PGqKOUAYOnrng5k5QDMZe5KdqDlATfh7Pbe3OUBm13zo0MY5QIC2fZPq1TlAm5V+PgTlOUC1dH/pHfQ5QM5TgJQ3AzpA6DKBP1ESOkADEoLqaiE6QB3xgpWEMDpANtCDQJ4/OkBQr4Trt046QGuOhZbRXTpAhW2GQetsOkCeTIfsBHw6QLgriJceizpA0wqJQjiaOkDt6YntUak6QAfJiphruDpAIKiLQ4XHOkA7h4zuntY6QFVmjZm45TpAb0WORNL0OkCIJI/v6wM7QKIDkJoFEztAveKQRR8iO0DXwZHwODE7QPCgkptSQDtACoCTRmxPO0AlX5TxhV47QD8+lZyfbTtAWR2WR7l8O0By/Jby0os7QI3bl53smjtAp7qYSAaqO0DBmZnzH7k7QNp4mp45yDtA9VebSVPXO0APN5z0bOY7QCkWnZ+G9TtAQvWdSqAEPEBd1J71uRM8QHezn6DTIjxAkZKgS+0xPECrcaH2BkE8QMVQoqEgUDxA3y+jTDpfPED5DqT3U248QBPupKJtfTxALM2lTYeMPEBHrKb4oJs8QGGLp6O6qjxAe2qoTtS5PECUSan57cg8QK8oqqQH2DxAyQerTyHnPEDj5qv6OvY8QP3FrKVUBT1AF6WtUG4UPUAxhK77hyM9QEtjr6ahMj1AZUKwUbtBPUB/IbH81FA9QJkAsqfuXz1As9+yUghvPUDNvrP9IX49QOidtKg7jT1AAX21U1WcPUAbXLb+bqs9QDU7t6mIuj1AUBq4VKLJPUBp+bj/u9g9QIPYuarV5z1Anbe6Ve/2PUC4lrsACQY+QNF1vKsiFT5A61S9VjwkPkAFNL4BVjM+QB8Tv6xvQj5AOvK/V4lRPkBT0cACo2A+QG2wwa28bz5Ah4/CWNZ+PkCibsMD8I0+QLtNxK4JnT5A1SzFWSOsPkDvC8YEPbs+QArrxq9Wyj5AI8rHWnDZPkA9qcgFiug+QFeIybCj9z5AcmfKW70GP0CMRssG1xU/QKUlzLHwJD9AvwTNXAo0P0Da480HJEM/QPTCzrI9Uj9ADaLPXVdhP0AngdAIcXA/QEJg0bOKfz9AXD/SXqSOP0B1HtMJvp0/QI/907TXrD9AqdzUX/G7P0DEu9UKC8s/QN6a1rUk2j9A93nXYD7pP0ARWdgLWPg/QBacbNu4A0BAowvtsEULQEAwe22G0hJAQL3q7VtfGkBASlpuMewhQEDXye4GeSlAQGQ5b9wFMUBA8ajvsZI4QEB+GHCHH0BAQAuI8FysR0BAmPdwMjlPQEAlZ/EHxlZAQLLWcd1SXkBAP0byst9lQEDMtXKIbG1AQFkl8135dEBA5pRzM4Z8QEBzBPQIE4RAQAB0dN6fi0BAjeP0syyTQEAaU3WJuZpAQKfC9V5GokBANDJ2NNOpQEDBofYJYLFAQE4Rd9/suEBA24D3tHnAQEBo8HeKBshAQPVf+F+Tz0BAgs94NSDXQEAPP/kKrd5AQJyueeA55kBAKR76tcbtQEC2jXqLU/VAQEP9+mDg/EBA0Gx7Nm0EQUBd3PsL+gtBQOpLfOGGE0FAd7v8thMbQUAEK32MoCJBQJGa/WEtKkFAHgp+N7oxQUCref4MRzlBQDjpfuLTQEFAxVj/t2BIQUBSyH+N7U9BQN83AGN6V0FAbKeAOAdfQUD5FgEOlGZBQIaGgeMgbkFA",
          "dtype": "f8"
         },
         "xaxis": "x",
         "y": {
          "bdata": "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",
          "dtype": "f8"
         },
         "yaxis": "y"
        },
        {
         "hovertemplate": "Time: %{x:.1f}s<br>Distance: %{y:.3f}m<extra>Sonar Smoothed</extra>",
         "line": {
          "color": "rgba(255, 0, 0, 1)",
          "width": 3
         },
         "mode": "lines",
         "name": "Sonar Smoothed Distance",
         "type": "scatter",
         "x": {
          "bdata": "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",
          "dtype": "f8"
         },
         "xaxis": "x",
         "y": {
          "bdata": "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",
          "dtype": "f8"
         },
         "yaxis": "y"
        },
        {
         "hovertemplate": "Time: %{x:.1f}s<br>Distance: %{y:.3f}m<extra>DVL Distance</extra>",
         "line": {
          "color": "rgba(0, 0, 255, 1)",
          "width": 3
         },
         "mode": "lines",
         "name": "DVL Distance",
         "type": "scatter",
         "x": {
          "bdata": "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",
          "dtype": "f8"
         },
         "xaxis": "x",
         "y": {
          "bdata": "////f8L12D8AAACgmZnZP////59H4do/AAAAwB6F2z8AAADA9SjcP////7/MzNw/AAAAwB6F2z////+/zMzcPwAAAMAehds/AAAAwB6F2z8AAADAHoXbP////59H4do/////n0fh2j////+fR+HaP////59H4do/AAAAoHA92j/9//8/MzPDPwAAAKBwPdo/AAAAwB6F2z////+/zMzcP////7/MzNw/////36Nw3T/////fUbjePwAAAAAAAOA/AAAAANej4D8AAACAwvXgPwAAACCF6+E/AAAAIIXr4T8AAACgcD3iPwAAAKBwPeI/AAAAIIXr4T8AAAAghevhPwAAAKCZmeE/AAAAIK5H4T8AAACAwvXgPwAAACCuR+E/AAAAgML14D8AAACAwvXgPwAAACCuR+E/AAAAoJmZ4T8AAAAghevhPwAAAKBwPeI/AAAAoHA94j8AAACgcD3iPwAAAKBwPeI/AAAAIFyP4j8AAAAghevhPwAAAKBwPeI/AAAAgBSu1z8AAAAghevhPwAAAKCZmeE/AAAAAAAA0D8AAAAghevhPwAAACCF6+E/AAAAIIXr4T8AAAAghevhPwAAACCF6+E/AAAAIIXr4T8AAACA61HIPwAAAKCZmeE/AAAAIK5H4T8AAAAgrkfhPwAAACCuR+E/AAAAIIXr4T8AAACgmZnhPwAAACCuR+E/AAAAIK5H4T8AAAAgrkfhPwAAAIDC9eA/AAAAgML14D8AAACAwvXgPwAAACCuR+E/AAAAoJmZ4T////+fmZnJPwAAACCuR+E/AAAAIK5H4T8AAAAghevhPwAAACCF6+E/AAAAIFyP4j8AAACgcD3iP/3//59H4co/AAAAoHA94j8AAAAghevhPwAAACCF6+E//f//n0fhyj8AAAAgXI/iPwAAAEAzM+M/AAAAQDMz4z8AAADAHoXjPwAAAMD1KOQ/AAAAQOF65D8AAABA4XrkPwAAAMD1KOQ/AAAAwPUo5D8AAABACtfjPwAAAMAeheM/AAAAoEfh4j8AAAAgXI/iPwAAAKBH4eI/AAAAoEfh4j8AAABAMzPjPwAAAKBH4eI/AAAAIFyP4j8AAAAgXI/iPwAAACBcj+I/AAAAIFyP4j8AAACgcD3iPwAAACCF6+E/AAAAIIXr4T8AAACgmZnhPwAAACCuR+E/AAAAIK5H4T8AAAAgrkfhPwAAAADXo+A/AAAAANej4D8AAAAA16PgPwAAAADXo+A/AAAAgML14D8AAACA61HgPwAAAADXo+A/AAAAgOtR4D8AAACA61HgPwAAAIDrUeA/AAAAgOtR4D8AAAAAAADgPwAAAAAAAOA/AAAAAAAA4D//////KFzfP/////8oXN8/AAAAAAAA4D8AAAAAAADgPwAAAAAAAOA//////yhc3z/////fUbjeP/////8oXN8/////31G43j/////fUbjeP////99RuN4/////31G43j/////fUbjePwAAAOB6FN4/////31G43j/////fUbjeP////9+jcN0/////31G43j/////fUbjeP////99RuN4//////yhc3z/////fUbjePwAAAGBmZtY//////yhc3z//////KFzfP/////8oXN8/AAAAAAAA4D/////fUbjeP////99RuN4//////yhc3z//////KFzfP////99RuN4/AAAA4HoU3j/////fo3DdP////9+jcN0/////36Nw3T/////fo3DdPwAAAOB6FN4/////36Nw3T/////fo3DdP////9+jcN0/////36Nw3T/////fo3DdP////9+jcN0/////31G43j8AAADgehTeP/////8oXN8/AAAAAAAA4D//////KFzfPwAAAIDrUeA/AAAAAAAA4D8AAACAwvXgPwAAAIDC9eA/AAAAIK5H4T8AAAAghevhPwAAAKBwPeI/AAAAIFyP4j8AAAAgXI/iPwAAAMAeheM/AAAAwB6F4z8AAADA9SjkPwAAAMDMzOQ/AAAA4KNw5T8AAADgo3DlPwAAAGBmZuY/AAAAIIXr0T8AAACAFK7nPwAAAAAAAOg/AAAAgOtR6D8AAAAA16PoPwAAAKCZmek/AAAAoJmZ6T8AAACgcD3qPwAAAKBH4eo/AAAAoEfh6j8AAABAMzPrPwAAAMAehes/AAAAQArX6z8AAADAzMzsPwAAAMDMzOw/AAAAwMzM7D8AAADAzMzsPwAAAMDMzOw/////X7ge7T8AAADAzMzsP////9+jcO0/AAAAwMzM7D/////fo3DtP////9+jcO0/AAAAYI/C7T8AAADgehTuP////9+jcO0/////36Nw7T8AAABgj8LtPwEAAAApXO8/AAAAYI/C7T8AAADgehTuPwAAAGCPwu0/AAAAYI/C7T/////fo3DtP////1+4Hu0/AAAAgOtR8D8AAADA9SjwPwAAAOB6FO4/AAAAYGZm7j8AAACAFK7vPwEAAAApXO8/AQAAAClc7z8BAACAPQrvPwEAAOBRuO4/AAAAYGZm7j8AAABgZmbuPwEAAIA9Cu8/AQAAAClc7z8AAADgehTuPwEAAAApXO8/AAAAgBSu7z8BAAAAKVzvPwAAAAAAAPA/AQAAAClc7z8BAAAAKVzvPwEAAIA9Cu8/AQAA4FG47j8BAACAPQrvPwAAAIAUru8/AQAAgD0K7z8AAADAzMzwPwAAAAAAAPA/AAAAIK5H8T8AAADA9SjwPwAAAIDrUfA/AAAA4KNw8T8AAAAgrkfxPwAAAIDC9fA/AAAAIK5H8T8AAADAzMzwPwAAACCuR/E/AAAAwMzM8D8AAACAwvXwPwAAAGC4HvE/AAAAgML18D8AAAAgrkfxPwAAAMDMzPA/AAAAgML18D//////1qPwPwAAAMDMzPA/AAAAYLge8T8AAAAgrkfxPwAAAKCZmfE/AAAA4KNw8T8AAACgmZnxPwAAAEAzM+M/AAAAQDMz4z8AAABAMzPjPwAAACBcj+o/AAAAYGZm8j8AAAAghevxPwAAACBcj/I/AAAA4FG48j8AAABgZmbyPwAAAOBRuPI/AAAAoEfh8j8AAABACtfjPwEAAAApXPM/AAAAwB6F8z8BAAAAKVzzPwAAAEAzM/M/AAAAgD0K8z8AAABAMzPzPwAAAIA9CvM/AAAAwPUo5D8AAADAHoXzPwAAAMAehfM/AAAAgOtR9D8AAABACtfzPwAAAMD1KPQ/AAAAAAAA9D8AAABACtfzP//////Wo/Q/AAAAgOtR9D8AAABACtfzPwAAAIDrUfQ/AAAAAAAA9D8AAAAAAAD0PwAAAMDMzOQ/AAAAAAAA9D8AAACA61H0PwAAAIDC9fQ/AAAAQArX8z8AAACA61H0PwAAAAAAAPQ/AAAAAAAA9D8AAABA4Xr0PwAAAEDhevQ/AAAAwMzM9D8=",
          "dtype": "f8"
         },
         "yaxis": "y"
        }
       ],
       "layout": {
        "hovermode": "x unified",
        "template": {
         "data": {
          "bar": [
           {
            "error_x": {
             "color": "#2a3f5f"
            },
            "error_y": {
             "color": "#2a3f5f"
            },
            "marker": {
             "line": {
              "color": "#E5ECF6",
              "width": 0.5
             },
             "pattern": {
              "fillmode": "overlay",
              "size": 10,
              "solidity": 0.2
             }
            },
            "type": "bar"
           }
          ],
          "barpolar": [
           {
            "marker": {
             "line": {
              "color": "#E5ECF6",
              "width": 0.5
             },
             "pattern": {
              "fillmode": "overlay",
              "size": 10,
              "solidity": 0.2
             }
            },
            "type": "barpolar"
           }
          ],
          "carpet": [
           {
            "aaxis": {
             "endlinecolor": "#2a3f5f",
             "gridcolor": "white",
             "linecolor": "white",
             "minorgridcolor": "white",
             "startlinecolor": "#2a3f5f"
            },
            "baxis": {
             "endlinecolor": "#2a3f5f",
             "gridcolor": "white",
             "linecolor": "white",
             "minorgridcolor": "white",
             "startlinecolor": "#2a3f5f"
            },
            "type": "carpet"
           }
          ],
          "choropleth": [
           {
            "colorbar": {
             "outlinewidth": 0,
             "ticks": ""
            },
            "type": "choropleth"
           }
          ],
          "contour": [
           {
            "colorbar": {
             "outlinewidth": 0,
             "ticks": ""
            },
            "colorscale": [
             [
              0,
              "#0d0887"
             ],
             [
              0.1111111111111111,
              "#46039f"
             ],
             [
              0.2222222222222222,
              "#7201a8"
             ],
             [
              0.3333333333333333,
              "#9c179e"
             ],
             [
              0.4444444444444444,
              "#bd3786"
             ],
             [
              0.5555555555555556,
              "#d8576b"
             ],
             [
              0.6666666666666666,
              "#ed7953"
             ],
             [
              0.7777777777777778,
              "#fb9f3a"
             ],
             [
              0.8888888888888888,
              "#fdca26"
             ],
             [
              1,
              "#f0f921"
             ]
            ],
            "type": "contour"
           }
          ],
          "contourcarpet": [
           {
            "colorbar": {
             "outlinewidth": 0,
             "ticks": ""
            },
            "type": "contourcarpet"
           }
          ],
          "heatmap": [
           {
            "colorbar": {
             "outlinewidth": 0,
             "ticks": ""
            },
            "colorscale": [
             [
              0,
              "#0d0887"
             ],
             [
              0.1111111111111111,
              "#46039f"
             ],
             [
              0.2222222222222222,
              "#7201a8"
             ],
             [
              0.3333333333333333,
              "#9c179e"
             ],
             [
              0.4444444444444444,
              "#bd3786"
             ],
             [
              0.5555555555555556,
              "#d8576b"
             ],
             [
              0.6666666666666666,
              "#ed7953"
             ],
             [
              0.7777777777777778,
              "#fb9f3a"
             ],
             [
              0.8888888888888888,
              "#fdca26"
             ],
             [
              1,
              "#f0f921"
             ]
            ],
            "type": "heatmap"
           }
          ],
          "histogram": [
           {
            "marker": {
             "pattern": {
              "fillmode": "overlay",
              "size": 10,
              "solidity": 0.2
             }
            },
            "type": "histogram"
           }
          ],
          "histogram2d": [
           {
            "colorbar": {
             "outlinewidth": 0,
             "ticks": ""
            },
            "colorscale": [
             [
              0,
              "#0d0887"
             ],
             [
              0.1111111111111111,
              "#46039f"
             ],
             [
              0.2222222222222222,
              "#7201a8"
             ],
             [
              0.3333333333333333,
              "#9c179e"
             ],
             [
              0.4444444444444444,
              "#bd3786"
             ],
             [
              0.5555555555555556,
              "#d8576b"
             ],
             [
              0.6666666666666666,
              "#ed7953"
             ],
             [
              0.7777777777777778,
              "#fb9f3a"
             ],
             [
              0.8888888888888888,
              "#fdca26"
             ],
             [
              1,
              "#f0f921"
             ]
            ],
            "type": "histogram2d"
           }
          ],
          "histogram2dcontour": [
           {
            "colorbar": {
             "outlinewidth": 0,
             "ticks": ""
            },
            "colorscale": [
             [
              0,
              "#0d0887"
             ],
             [
              0.1111111111111111,
              "#46039f"
             ],
             [
              0.2222222222222222,
              "#7201a8"
             ],
             [
              0.3333333333333333,
              "#9c179e"
             ],
             [
              0.4444444444444444,
              "#bd3786"
             ],
             [
              0.5555555555555556,
              "#d8576b"
             ],
             [
              0.6666666666666666,
              "#ed7953"
             ],
             [
              0.7777777777777778,
              "#fb9f3a"
             ],
             [
              0.8888888888888888,
              "#fdca26"
             ],
             [
              1,
              "#f0f921"
             ]
            ],
            "type": "histogram2dcontour"
           }
          ],
          "mesh3d": [
           {
            "colorbar": {
             "outlinewidth": 0,
             "ticks": ""
            },
            "type": "mesh3d"
           }
          ],
          "parcoords": [
           {
            "line": {
             "colorbar": {
              "outlinewidth": 0,
              "ticks": ""
             }
            },
            "type": "parcoords"
           }
          ],
          "pie": [
           {
            "automargin": true,
            "type": "pie"
           }
          ],
          "scatter": [
           {
            "fillpattern": {
             "fillmode": "overlay",
             "size": 10,
             "solidity": 0.2
            },
            "type": "scatter"
           }
          ],
          "scatter3d": [
           {
            "line": {
             "colorbar": {
              "outlinewidth": 0,
              "ticks": ""
             }
            },
            "marker": {
             "colorbar": {
              "outlinewidth": 0,
              "ticks": ""
             }
            },
            "type": "scatter3d"
           }
          ],
          "scattercarpet": [
           {
            "marker": {
             "colorbar": {
              "outlinewidth": 0,
              "ticks": ""
             }
            },
            "type": "scattercarpet"
           }
          ],
          "scattergeo": [
           {
            "marker": {
             "colorbar": {
              "outlinewidth": 0,
              "ticks": ""
             }
            },
            "type": "scattergeo"
           }
          ],
          "scattergl": [
           {
            "marker": {
             "colorbar": {
              "outlinewidth": 0,
              "ticks": ""
             }
            },
            "type": "scattergl"
           }
          ],
          "scattermap": [
           {
            "marker": {
             "colorbar": {
              "outlinewidth": 0,
              "ticks": ""
             }
            },
            "type": "scattermap"
           }
          ],
          "scattermapbox": [
           {
            "marker": {
             "colorbar": {
              "outlinewidth": 0,
              "ticks": ""
             }
            },
            "type": "scattermapbox"
           }
          ],
          "scatterpolar": [
           {
            "marker": {
             "colorbar": {
              "outlinewidth": 0,
              "ticks": ""
             }
            },
            "type": "scatterpolar"
           }
          ],
          "scatterpolargl": [
           {
            "marker": {
             "colorbar": {
              "outlinewidth": 0,
              "ticks": ""
             }
            },
            "type": "scatterpolargl"
           }
          ],
          "scatterternary": [
           {
            "marker": {
             "colorbar": {
              "outlinewidth": 0,
              "ticks": ""
             }
            },
            "type": "scatterternary"
           }
          ],
          "surface": [
           {
            "colorbar": {
             "outlinewidth": 0,
             "ticks": ""
            },
            "colorscale": [
             [
              0,
              "#0d0887"
             ],
             [
              0.1111111111111111,
              "#46039f"
             ],
             [
              0.2222222222222222,
              "#7201a8"
             ],
             [
              0.3333333333333333,
              "#9c179e"
             ],
             [
              0.4444444444444444,
              "#bd3786"
             ],
             [
              0.5555555555555556,
              "#d8576b"
             ],
             [
              0.6666666666666666,
              "#ed7953"
             ],
             [
              0.7777777777777778,
              "#fb9f3a"
             ],
             [
              0.8888888888888888,
              "#fdca26"
             ],
             [
              1,
              "#f0f921"
             ]
            ],
            "type": "surface"
           }
          ],
          "table": [
           {
            "cells": {
             "fill": {
              "color": "#EBF0F8"
             },
             "line": {
              "color": "white"
             }
            },
            "header": {
             "fill": {
              "color": "#C8D4E3"
             },
             "line": {
              "color": "white"
             }
            },
            "type": "table"
           }
          ]
         },
         "layout": {
          "annotationdefaults": {
           "arrowcolor": "#2a3f5f",
           "arrowhead": 0,
           "arrowwidth": 1
          },
          "autotypenumbers": "strict",
          "coloraxis": {
           "colorbar": {
            "outlinewidth": 0,
            "ticks": ""
           }
          },
          "colorscale": {
           "diverging": [
            [
             0,
             "#8e0152"
            ],
            [
             0.1,
             "#c51b7d"
            ],
            [
             0.2,
             "#de77ae"
            ],
            [
             0.3,
             "#f1b6da"
            ],
            [
             0.4,
             "#fde0ef"
            ],
            [
             0.5,
             "#f7f7f7"
            ],
            [
             0.6,
             "#e6f5d0"
            ],
            [
             0.7,
             "#b8e186"
            ],
            [
             0.8,
             "#7fbc41"
            ],
            [
             0.9,
             "#4d9221"
            ],
            [
             1,
             "#276419"
            ]
           ],
           "sequential": [
            [
             0,
             "#0d0887"
            ],
            [
             0.1111111111111111,
             "#46039f"
            ],
            [
             0.2222222222222222,
             "#7201a8"
            ],
            [
             0.3333333333333333,
             "#9c179e"
            ],
            [
             0.4444444444444444,
             "#bd3786"
            ],
            [
             0.5555555555555556,
             "#d8576b"
            ],
            [
             0.6666666666666666,
             "#ed7953"
            ],
            [
             0.7777777777777778,
             "#fb9f3a"
            ],
            [
             0.8888888888888888,
             "#fdca26"
            ],
            [
             1,
             "#f0f921"
            ]
           ],
           "sequentialminus": [
            [
             0,
             "#0d0887"
            ],
            [
             0.1111111111111111,
             "#46039f"
            ],
            [
             0.2222222222222222,
             "#7201a8"
            ],
            [
             0.3333333333333333,
             "#9c179e"
            ],
            [
             0.4444444444444444,
             "#bd3786"
            ],
            [
             0.5555555555555556,
             "#d8576b"
            ],
            [
             0.6666666666666666,
             "#ed7953"
            ],
            [
             0.7777777777777778,
             "#fb9f3a"
            ],
            [
             0.8888888888888888,
             "#fdca26"
            ],
            [
             1,
             "#f0f921"
            ]
           ]
          },
          "colorway": [
           "#636efa",
           "#EF553B",
           "#00cc96",
           "#ab63fa",
           "#FFA15A",
           "#19d3f3",
           "#FF6692",
           "#B6E880",
           "#FF97FF",
           "#FECB52"
          ],
          "font": {
           "color": "#2a3f5f"
          },
          "geo": {
           "bgcolor": "white",
           "lakecolor": "white",
           "landcolor": "#E5ECF6",
           "showlakes": true,
           "showland": true,
           "subunitcolor": "white"
          },
          "hoverlabel": {
           "align": "left"
          },
          "hovermode": "closest",
          "mapbox": {
           "style": "light"
          },
          "paper_bgcolor": "white",
          "plot_bgcolor": "#E5ECF6",
          "polar": {
           "angularaxis": {
            "gridcolor": "white",
            "linecolor": "white",
            "ticks": ""
           },
           "bgcolor": "#E5ECF6",
           "radialaxis": {
            "gridcolor": "white",
            "linecolor": "white",
            "ticks": ""
           }
          },
          "scene": {
           "xaxis": {
            "backgroundcolor": "#E5ECF6",
            "gridcolor": "white",
            "gridwidth": 2,
            "linecolor": "white",
            "showbackground": true,
            "ticks": "",
            "zerolinecolor": "white"
           },
           "yaxis": {
            "backgroundcolor": "#E5ECF6",
            "gridcolor": "white",
            "gridwidth": 2,
            "linecolor": "white",
            "showbackground": true,
            "ticks": "",
            "zerolinecolor": "white"
           },
           "zaxis": {
            "backgroundcolor": "#E5ECF6",
            "gridcolor": "white",
            "gridwidth": 2,
            "linecolor": "white",
            "showbackground": true,
            "ticks": "",
            "zerolinecolor": "white"
           }
          },
          "shapedefaults": {
           "line": {
            "color": "#2a3f5f"
           }
          },
          "ternary": {
           "aaxis": {
            "gridcolor": "white",
            "linecolor": "white",
            "ticks": ""
           },
           "baxis": {
            "gridcolor": "white",
            "linecolor": "white",
            "ticks": ""
           },
           "bgcolor": "#E5ECF6",
           "caxis": {
            "gridcolor": "white",
            "linecolor": "white",
            "ticks": ""
           }
          },
          "title": {
           "x": 0.05
          },
          "xaxis": {
           "automargin": true,
           "gridcolor": "white",
           "linecolor": "white",
           "ticks": "",
           "title": {
            "standoff": 15
           },
           "zerolinecolor": "white",
           "zerolinewidth": 2
          },
          "yaxis": {
           "automargin": true,
           "gridcolor": "white",
           "linecolor": "white",
           "ticks": "",
           "title": {
            "standoff": 15
           },
           "zerolinecolor": "white",
           "zerolinewidth": 2
          }
         }
        },
        "title": {
         "text": "🔄 Interactive Distance Comparison: Sonar vs DVL"
        },
        "xaxis": {
         "anchor": "y",
         "domain": [
          0,
          1
         ],
         "gridcolor": "LightGray",
         "gridwidth": 1,
         "showgrid": true,
         "title": {
          "text": "Time (seconds)"
         }
        },
        "yaxis": {
         "anchor": "x",
         "domain": [
          0,
          1
         ],
         "gridcolor": "LightGray",
         "gridwidth": 1,
         "showgrid": true,
         "title": {
          "text": "Distance (meters)"
         }
        }
       }
      }
     },
     "metadata": {},
     "output_type": "display_data"
    }
   ],
   "source": [
    "try:\n",
    "    fig, comparison_stats = iau.interactive_distance_comparison(distance_results, raw_data, sonar_coverage_m=sonar_coverage_meters, sonar_image_size=image_shape[0])\n",
    "    if comparison_stats and isinstance(comparison_stats, dict) and 'error' in comparison_stats:\n",
    "        print('Comparison did not run:', comparison_stats['error'])\n",
    "    else:\n",
    "        print('\\nComparison stats summary:')\n",
    "        from pprint import pprint\n",
    "        pprint(comparison_stats)\n",
    "        # Display the interactive plot\n",
    "        fig.show()\n",
    "except Exception as e:\n",
    "    print('Error running interactive comparison:', e)"
   ]
  },
  {
   "cell_type": "code",
   "execution_count": 22,
   "id": "50f97352",
   "metadata": {},
   "outputs": [
    {
     "name": "stdout",
     "output_type": "stream",
     "text": [
      "🎬 GENERATING VIDEO WITH DUAL NET DISTANCE OVERLAYS\n",
      "============================================================\n",
      "🎯 Target Bag: 2024-08-22_14-06-43\n",
      "📊 DVL Data: 322 records\n",
      "📏 Sonar Analysis: 591 frames\n",
      "🎥 Camera: disabled\n",
      "🛠️ OPTIMIZED SONAR VIDEO\n",
      "======================================================================\n",
      "🎯 Target Bag: 2024-08-22_14-06-43\n",
      "   Cone Size: 900x700\n",
      "   Range: 0.0-5.0m | FOV: 120.0°\n",
      "   🎥 Camera: disabled\n",
      "   🕸  Net-line: enabled (dist tol=0.5s, pitch tol=2.0s)\n",
      "   📊 Sonar Analysis: enabled\n",
      "   Loading sonar data: sensor_sonoptix_echo_image__2024-08-22_14-06-43_video.csv\n",
      "   ✅ Loaded 592 sonar frames in 4.94s\n",
      "   ✅ Loaded 322 navigation records in 0.00s\n",
      "      Available: ['NetDistance', 'NetPitch', 'timestamp']\n",
      "   Frames: 1..591 (step 1) => 591\n",
      "   Natural FPS: 15.9\n",
      "Frame 1: ts_target=2024-08-22 12:06:46.152521133+00:00, min_dt=0 days 00:00:03.644741297, sync_status=NO_DATA\n",
      "  net_distance=None, net_angle_deg=0.0\n",
      "  Current record has pitch: 1.5°\n",
      "❌ Frame 1 error: unsupported format string passed to NoneType.__format__\n",
      "Frame 2: ts_target=2024-08-22 12:06:46.216351986+00:00, min_dt=0 days 00:00:03.580910444, sync_status=NO_DATA\n",
      "  net_distance=None, net_angle_deg=0.0\n",
      "  Current record has pitch: 1.5°\n",
      "❌ Frame 2 error: unsupported format string passed to NoneType.__format__\n",
      "Frame 3: ts_target=2024-08-22 12:06:46.280781269+00:00, min_dt=0 days 00:00:03.516481161, sync_status=NO_DATA\n",
      "  net_distance=None, net_angle_deg=0.0\n",
      "  Current record has pitch: 1.5°\n",
      "❌ Frame 3 error: unsupported format string passed to NoneType.__format__\n",
      "   ✅ Loaded 592 sonar frames in 4.94s\n",
      "   ✅ Loaded 322 navigation records in 0.00s\n",
      "      Available: ['NetDistance', 'NetPitch', 'timestamp']\n",
      "   Frames: 1..591 (step 1) => 591\n",
      "   Natural FPS: 15.9\n",
      "Frame 1: ts_target=2024-08-22 12:06:46.152521133+00:00, min_dt=0 days 00:00:03.644741297, sync_status=NO_DATA\n",
      "  net_distance=None, net_angle_deg=0.0\n",
      "  Current record has pitch: 1.5°\n",
      "❌ Frame 1 error: unsupported format string passed to NoneType.__format__\n",
      "Frame 2: ts_target=2024-08-22 12:06:46.216351986+00:00, min_dt=0 days 00:00:03.580910444, sync_status=NO_DATA\n",
      "  net_distance=None, net_angle_deg=0.0\n",
      "  Current record has pitch: 1.5°\n",
      "❌ Frame 2 error: unsupported format string passed to NoneType.__format__\n",
      "Frame 3: ts_target=2024-08-22 12:06:46.280781269+00:00, min_dt=0 days 00:00:03.516481161, sync_status=NO_DATA\n",
      "  net_distance=None, net_angle_deg=0.0\n",
      "  Current record has pitch: 1.5°\n",
      "❌ Frame 3 error: unsupported format string passed to NoneType.__format__\n",
      "Frame 4: ts_target=2024-08-22 12:06:46.344704628+00:00, min_dt=0 days 00:00:03.452557802, sync_status=NO_DATA\n",
      "  net_distance=None, net_angle_deg=0.0\n",
      "  Current record has pitch: 1.5°\n",
      "❌ Frame 4 error: unsupported format string passed to NoneType.__format__\n",
      "Frame 4: ts_target=2024-08-22 12:06:46.344704628+00:00, min_dt=0 days 00:00:03.452557802, sync_status=NO_DATA\n",
      "  net_distance=None, net_angle_deg=0.0\n",
      "  Current record has pitch: 1.5°\n",
      "❌ Frame 4 error: unsupported format string passed to NoneType.__format__\n",
      "Frame 51: Using pitch from current record: 1.5°\n",
      "Frame 52: Using pitch from current record: 1.5°\n",
      "Frame 53: Using pitch from current record: 1.5°\n",
      "Frame 54: Using pitch from current record: 1.5°\n",
      "Frame 51: Using pitch from current record: 1.5°\n",
      "Frame 52: Using pitch from current record: 1.5°\n",
      "Frame 53: Using pitch from current record: 1.5°\n",
      "Frame 54: Using pitch from current record: 1.5°\n",
      "Frame 55: Using pitch from current record: 1.5°\n",
      "Frame 56: Using pitch from current record: 1.5°\n",
      "Frame 57: Using pitch from current record: 1.5°\n",
      "Frame 58: Using pitch from current record: 1.5°\n",
      "Frame 55: Using pitch from current record: 1.5°\n",
      "Frame 56: Using pitch from current record: 1.5°\n",
      "Frame 57: Using pitch from current record: 1.5°\n",
      "Frame 58: Using pitch from current record: 1.5°\n",
      "Frame 59: Using pitch from current record: 1.5°\n",
      "Frame 60: Using pitch from current record: 1.6°\n",
      "Frame 61: Using pitch from current record: -1.0°\n",
      "Frame 62: Using pitch from current record: -1.0°\n",
      "Frame 59: Using pitch from current record: 1.5°\n",
      "Frame 60: Using pitch from current record: 1.6°\n",
      "Frame 61: Using pitch from current record: -1.0°\n",
      "Frame 62: Using pitch from current record: -1.0°\n",
      "Frame 63: Using pitch from current record: -1.0°\n",
      "Frame 64: Using pitch from current record: -3.4°\n",
      "Frame 65: Using pitch from current record: -4.5°\n",
      "Frame 66: Using pitch from current record: -1.0°\n",
      "Frame 63: Using pitch from current record: -1.0°\n",
      "Frame 64: Using pitch from current record: -3.4°\n",
      "Frame 65: Using pitch from current record: -4.5°\n",
      "Frame 66: Using pitch from current record: -1.0°\n",
      "Frame 67: Using pitch from current record: -1.0°\n",
      "Frame 68: Using pitch from current record: -3.3°\n",
      "Frame 69: Using pitch from current record: -0.9°\n",
      "Frame 70: Using pitch from current record: -0.9°\n",
      "Frame 67: Using pitch from current record: -1.0°\n",
      "Frame 68: Using pitch from current record: -3.3°\n",
      "Frame 69: Using pitch from current record: -0.9°\n",
      "Frame 70: Using pitch from current record: -0.9°\n",
      "Frame 71: Using pitch from current record: -1.0°\n",
      "Frame 72: Using pitch from current record: -1.0°\n",
      "Frame 73: Using pitch from current record: -1.0°\n",
      "Frame 74: Using pitch from current record: -3.5°\n",
      "Frame 71: Using pitch from current record: -1.0°\n",
      "Frame 72: Using pitch from current record: -1.0°\n",
      "Frame 73: Using pitch from current record: -1.0°\n",
      "Frame 74: Using pitch from current record: -3.5°\n",
      "Frame 75: Using pitch from current record: -3.5°\n",
      "Frame 76: Using pitch from current record: -3.5°\n",
      "Frame 77: Using pitch from current record: -2.2°\n",
      "Frame 78: Using pitch from current record: -2.2°\n",
      "Frame 75: Using pitch from current record: -3.5°\n",
      "Frame 76: Using pitch from current record: -3.5°\n",
      "Frame 77: Using pitch from current record: -2.2°\n",
      "Frame 78: Using pitch from current record: -2.2°\n",
      "Frame 79: Using pitch from current record: -2.2°\n",
      "Frame 80: Using pitch from current record: 0.4°\n",
      "Frame 81: Using pitch from current record: 42.1°\n",
      "Frame 82: Using pitch from current record: -2.0°\n",
      "Frame 79: Using pitch from current record: -2.2°\n",
      "Frame 80: Using pitch from current record: 0.4°\n",
      "Frame 81: Using pitch from current record: 42.1°\n",
      "Frame 82: Using pitch from current record: -2.0°\n",
      "Frame 83: Using pitch from current record: -2.0°\n",
      "Frame 84: Using pitch from current record: -0.9°\n",
      "Frame 85: Using pitch from current record: -1.1°\n",
      "Frame 86: Using pitch from current record: -1.1°\n",
      "Frame 83: Using pitch from current record: -2.0°\n",
      "Frame 84: Using pitch from current record: -0.9°\n",
      "Frame 85: Using pitch from current record: -1.1°\n",
      "Frame 86: Using pitch from current record: -1.1°\n",
      "Frame 87: Using pitch from current record: -3.3°\n",
      "Frame 88: Using pitch from current record: -2.2°\n",
      "Frame 89: Using pitch from current record: -7.4°\n",
      "Frame 90: Using pitch from current record: -7.4°\n",
      "Frame 87: Using pitch from current record: -3.3°\n",
      "Frame 88: Using pitch from current record: -2.2°\n",
      "Frame 89: Using pitch from current record: -7.4°\n",
      "Frame 90: Using pitch from current record: -7.4°\n",
      "Frame 91: Using pitch from current record: -9.3°\n",
      "Frame 92: Using pitch from current record: -7.0°\n",
      "Frame 93: Using pitch from current record: -7.0°\n",
      "Frame 94: Using pitch from current record: -8.6°\n",
      "Frame 91: Using pitch from current record: -9.3°\n",
      "Frame 92: Using pitch from current record: -7.0°\n",
      "Frame 93: Using pitch from current record: -7.0°\n",
      "Frame 94: Using pitch from current record: -8.6°\n",
      "Frame 95: Using pitch from current record: -11.0°\n",
      "Frame 96: Using pitch from current record: -11.0°\n",
      "Frame 97: Using pitch from current record: -9.4°\n",
      "Frame 98: Using pitch from current record: -9.4°\n",
      "Frame 95: Using pitch from current record: -11.0°\n",
      "Frame 96: Using pitch from current record: -11.0°\n",
      "Frame 97: Using pitch from current record: -9.4°\n",
      "Frame 98: Using pitch from current record: -9.4°\n",
      "Frame 99: Using pitch from current record: -9.5°\n",
      "Frame 100: Using pitch from current record: -9.4°\n",
      "Frame 101: Using pitch from current record: -9.4°\n",
      "Frame 102: Using pitch from current record: -8.4°\n",
      "Frame 99: Using pitch from current record: -9.5°\n",
      "Frame 100: Using pitch from current record: -9.4°\n",
      "Frame 101: Using pitch from current record: -9.4°\n",
      "Frame 102: Using pitch from current record: -8.4°\n",
      "Frame 103: Using pitch from current record: -9.5°\n",
      "Frame 104: Using pitch from current record: -9.5°\n",
      "Frame 105: Using pitch from current record: -8.6°\n",
      "Frame 106: Using pitch from current record: -3.9°\n",
      "Frame 103: Using pitch from current record: -9.5°\n",
      "Frame 104: Using pitch from current record: -9.5°\n",
      "Frame 105: Using pitch from current record: -8.6°\n",
      "Frame 106: Using pitch from current record: -3.9°\n",
      "Frame 107: Using pitch from current record: -3.9°\n",
      "Frame 108: Using pitch from current record: -3.0°\n",
      "Frame 109: Using pitch from current record: -5.0°\n",
      "Frame 110: Using pitch from current record: -5.0°\n",
      "Frame 107: Using pitch from current record: -3.9°\n",
      "Frame 108: Using pitch from current record: -3.0°\n",
      "Frame 109: Using pitch from current record: -5.0°\n",
      "Frame 110: Using pitch from current record: -5.0°\n",
      "Frame 111: Using pitch from current record: -3.0°\n",
      "Frame 112: Using pitch from current record: -3.0°\n",
      "Frame 113: Using pitch from current record: -1.1°\n",
      "Frame 114: Using pitch from current record: -1.1°\n",
      "Frame 111: Using pitch from current record: -3.0°\n",
      "Frame 112: Using pitch from current record: -3.0°\n",
      "Frame 113: Using pitch from current record: -1.1°\n",
      "Frame 114: Using pitch from current record: -1.1°\n",
      "Frame 115: Using pitch from current record: -1.1°\n",
      "Frame 116: Using pitch from current record: -2.1°\n",
      "Frame 117: Using pitch from current record: -2.1°\n",
      "Frame 118: Using pitch from current record: -3.9°\n",
      "Frame 115: Using pitch from current record: -1.1°\n",
      "Frame 116: Using pitch from current record: -2.1°\n",
      "Frame 117: Using pitch from current record: -2.1°\n",
      "Frame 118: Using pitch from current record: -3.9°\n",
      "Frame 119: Using pitch from current record: -1.4°\n",
      "Frame 120: Using pitch from current record: -1.4°\n",
      "Frame 121: Using pitch from current record: -1.3°\n",
      "Frame 122: Using pitch from current record: -4.0°\n",
      "Frame 119: Using pitch from current record: -1.4°\n",
      "Frame 120: Using pitch from current record: -1.4°\n",
      "Frame 121: Using pitch from current record: -1.3°\n",
      "Frame 122: Using pitch from current record: -4.0°\n",
      "Frame 123: Using pitch from current record: -4.0°\n",
      "Frame 124: Using pitch from current record: -1.2°\n",
      "Frame 125: Using pitch from current record: -1.2°\n",
      "Frame 126: Using pitch from current record: -3.0°\n",
      "Frame 123: Using pitch from current record: -4.0°\n",
      "Frame 124: Using pitch from current record: -1.2°\n",
      "Frame 125: Using pitch from current record: -1.2°\n",
      "Frame 126: Using pitch from current record: -3.0°\n",
      "Frame 127: Using pitch from current record: -3.0°\n",
      "Frame 128: Using pitch from current record: -0.2°\n",
      "Frame 129: Using pitch from current record: -0.6°\n",
      "Frame 130: Using pitch from current record: -0.6°\n",
      "Frame 127: Using pitch from current record: -3.0°\n",
      "Frame 128: Using pitch from current record: -0.2°\n",
      "Frame 129: Using pitch from current record: -0.6°\n",
      "Frame 130: Using pitch from current record: -0.6°\n",
      "Frame 131: Using pitch from current record: -43.9°\n",
      "Frame 132: Using pitch from current record: -43.9°\n",
      "Frame 133: Using pitch from current record: -2.5°\n",
      "Frame 134: Using pitch from current record: -2.4°\n",
      "Frame 131: Using pitch from current record: -43.9°\n",
      "Frame 132: Using pitch from current record: -43.9°\n",
      "Frame 133: Using pitch from current record: -2.5°\n",
      "Frame 134: Using pitch from current record: -2.4°\n",
      "Frame 135: Using pitch from current record: -2.4°\n",
      "Frame 136: Using pitch from current record: -41.3°\n",
      "Frame 137: Using pitch from current record: -41.3°\n",
      "Frame 138: Using pitch from current record: -41.3°\n",
      "Frame 135: Using pitch from current record: -2.4°\n",
      "Frame 136: Using pitch from current record: -41.3°\n",
      "Frame 137: Using pitch from current record: -41.3°\n",
      "Frame 138: Using pitch from current record: -41.3°\n",
      "Frame 139: Using pitch from current record: -0.6°\n",
      "Frame 140: Using pitch from current record: 0.4°\n",
      "Frame 141: Using pitch from current record: 0.4°\n",
      "Frame 142: Using pitch from current record: 2.3°\n",
      "Frame 139: Using pitch from current record: -0.6°\n",
      "Frame 140: Using pitch from current record: 0.4°\n",
      "Frame 141: Using pitch from current record: 0.4°\n",
      "Frame 142: Using pitch from current record: 2.3°\n",
      "Frame 143: Using pitch from current record: 2.3°\n",
      "Frame 144: Using pitch from current record: 4.2°\n",
      "Frame 145: Using pitch from current record: 3.2°\n",
      "Frame 146: Using pitch from current record: 3.2°\n",
      "Frame 143: Using pitch from current record: 2.3°\n",
      "Frame 144: Using pitch from current record: 4.2°\n",
      "Frame 145: Using pitch from current record: 3.2°\n",
      "Frame 146: Using pitch from current record: 3.2°\n",
      "Frame 147: Using pitch from current record: 4.2°\n",
      "Frame 148: Using pitch from current record: 4.2°\n",
      "Frame 149: Using pitch from current record: 45.5°\n",
      "Frame 150: Using pitch from current record: 5.0°\n",
      "Frame 147: Using pitch from current record: 4.2°\n",
      "Frame 148: Using pitch from current record: 4.2°\n",
      "Frame 149: Using pitch from current record: 45.5°\n",
      "Frame 150: Using pitch from current record: 5.0°\n",
      "Frame 151: Using pitch from current record: 5.0°\n",
      "Frame 152: Using pitch from current record: 6.1°\n",
      "Frame 153: Using pitch from current record: 6.1°\n",
      "Frame 154: Using pitch from current record: 1.4°\n",
      "Frame 151: Using pitch from current record: 5.0°\n",
      "Frame 152: Using pitch from current record: 6.1°\n",
      "Frame 153: Using pitch from current record: 6.1°\n",
      "Frame 154: Using pitch from current record: 1.4°\n",
      "Frame 155: Using pitch from current record: 1.4°\n",
      "Frame 156: Using pitch from current record: 2.2°\n",
      "Frame 157: Using pitch from current record: 2.2°\n",
      "Frame 158: Using pitch from current record: -1.6°\n",
      "Frame 155: Using pitch from current record: 1.4°\n",
      "Frame 156: Using pitch from current record: 2.2°\n",
      "Frame 157: Using pitch from current record: 2.2°\n",
      "Frame 158: Using pitch from current record: -1.6°\n",
      "Frame 159: Using pitch from current record: -1.6°\n",
      "Frame 160: Using pitch from current record: -2.6°\n",
      "Frame 161: Using pitch from current record: -2.6°\n",
      "Frame 162: Using pitch from current record: -2.6°\n",
      "Frame 159: Using pitch from current record: -1.6°\n",
      "Frame 160: Using pitch from current record: -2.6°\n",
      "Frame 161: Using pitch from current record: -2.6°\n",
      "Frame 162: Using pitch from current record: -2.6°\n",
      "Frame 163: Using pitch from current record: -3.5°\n",
      "Frame 164: Using pitch from current record: -4.6°\n",
      "Frame 165: Using pitch from current record: -4.6°\n",
      "Frame 166: Using pitch from current record: -6.6°\n",
      "Frame 163: Using pitch from current record: -3.5°\n",
      "Frame 164: Using pitch from current record: -4.6°\n",
      "Frame 165: Using pitch from current record: -4.6°\n",
      "Frame 166: Using pitch from current record: -6.6°\n",
      "Frame 167: Using pitch from current record: -6.6°\n",
      "Frame 168: Using pitch from current record: -6.5°\n",
      "Frame 169: Using pitch from current record: -8.5°\n",
      "Frame 170: Using pitch from current record: -8.5°\n",
      "Frame 167: Using pitch from current record: -6.6°\n",
      "Frame 168: Using pitch from current record: -6.5°\n",
      "Frame 169: Using pitch from current record: -8.5°\n",
      "Frame 170: Using pitch from current record: -8.5°\n",
      "Frame 171: Using pitch from current record: -8.4°\n",
      "Frame 172: Using pitch from current record: -8.4°\n",
      "Frame 173: Using pitch from current record: -7.4°\n",
      "Frame 174: Using pitch from current record: 42.2°\n",
      "Frame 171: Using pitch from current record: -8.4°\n",
      "Frame 172: Using pitch from current record: -8.4°\n",
      "Frame 173: Using pitch from current record: -7.4°\n",
      "Frame 174: Using pitch from current record: 42.2°\n",
      "Frame 175: Using pitch from current record: 42.2°\n",
      "Frame 176: Using pitch from current record: -6.4°\n",
      "Frame 177: Using pitch from current record: -6.4°\n",
      "Frame 178: Using pitch from current record: -5.4°\n",
      "Frame 175: Using pitch from current record: 42.2°\n",
      "Frame 176: Using pitch from current record: -6.4°\n",
      "Frame 177: Using pitch from current record: -6.4°\n",
      "Frame 178: Using pitch from current record: -5.4°\n",
      "Frame 179: Using pitch from current record: -5.4°\n",
      "Frame 180: Using pitch from current record: -8.2°\n",
      "Frame 181: Using pitch from current record: -8.2°\n",
      "Frame 182: Using pitch from current record: -9.9°\n",
      "Frame 179: Using pitch from current record: -5.4°\n",
      "Frame 180: Using pitch from current record: -8.2°\n",
      "Frame 181: Using pitch from current record: -8.2°\n",
      "Frame 182: Using pitch from current record: -9.9°\n",
      "Frame 183: Using pitch from current record: -9.9°\n",
      "Frame 184: Using pitch from current record: -9.9°\n",
      "Frame 185: Using pitch from current record: -9.9°\n",
      "Frame 186: Using pitch from current record: 41.1°\n",
      "Frame 183: Using pitch from current record: -9.9°\n",
      "Frame 184: Using pitch from current record: -9.9°\n",
      "Frame 185: Using pitch from current record: -9.9°\n",
      "Frame 186: Using pitch from current record: 41.1°\n",
      "Frame 187: Using pitch from current record: 41.1°\n",
      "Frame 188: Using pitch from current record: -10.1°\n",
      "Frame 189: Using pitch from current record: -10.1°\n",
      "Frame 190: Using pitch from current record: -6.5°\n",
      "Frame 187: Using pitch from current record: 41.1°\n",
      "Frame 188: Using pitch from current record: -10.1°\n",
      "Frame 189: Using pitch from current record: -10.1°\n",
      "Frame 190: Using pitch from current record: -6.5°\n",
      "Frame 191: Using pitch from current record: -8.4°\n",
      "Frame 192: Using pitch from current record: -8.4°\n",
      "Frame 193: Using pitch from current record: 43.1°\n",
      "Frame 191: Using pitch from current record: -8.4°\n",
      "Frame 192: Using pitch from current record: -8.4°\n",
      "Frame 193: Using pitch from current record: 43.1°\n",
      "Frame 194: Using pitch from current record: 43.1°\n",
      "Frame 195: Using pitch from current record: -10.7°\n",
      "Frame 196: Using pitch from current record: -10.7°\n",
      "Frame 197: Using pitch from current record: -11.6°\n",
      "Frame 194: Using pitch from current record: 43.1°\n",
      "Frame 195: Using pitch from current record: -10.7°\n",
      "Frame 196: Using pitch from current record: -10.7°\n",
      "Frame 197: Using pitch from current record: -11.6°\n",
      "Frame 198: Using pitch from current record: -11.3°\n",
      "Frame 199: Using pitch from current record: -11.3°\n",
      "Frame 200: Using pitch from current record: -14.3°\n",
      "Frame 201: Using pitch from current record: -13.2°\n",
      "Frame 198: Using pitch from current record: -11.3°\n",
      "Frame 199: Using pitch from current record: -11.3°\n",
      "Frame 200: Using pitch from current record: -14.3°\n",
      "Frame 201: Using pitch from current record: -13.2°\n",
      "Frame 202: Using pitch from current record: -13.2°\n",
      "Frame 203: Using pitch from current record: -15.4°\n",
      "Frame 204: Using pitch from current record: -15.4°\n",
      "Frame 205: Using pitch from current record: -15.6°\n",
      "Frame 202: Using pitch from current record: -13.2°\n",
      "Frame 203: Using pitch from current record: -15.4°\n",
      "Frame 204: Using pitch from current record: -15.4°\n",
      "Frame 205: Using pitch from current record: -15.6°\n",
      "Frame 206: Using pitch from current record: -15.6°\n",
      "Frame 207: Using pitch from current record: -15.3°\n",
      "Frame 208: Using pitch from current record: -15.3°\n",
      "Frame 209: Using pitch from current record: -12.3°\n",
      "Frame 206: Using pitch from current record: -15.6°\n",
      "Frame 207: Using pitch from current record: -15.3°\n",
      "Frame 208: Using pitch from current record: -15.3°\n",
      "Frame 209: Using pitch from current record: -12.3°\n",
      "Frame 210: Using pitch from current record: -12.4°\n",
      "Frame 211: Using pitch from current record: -12.4°\n",
      "Frame 212: Using pitch from current record: -11.2°\n",
      "Frame 213: Using pitch from current record: -11.2°\n",
      "Frame 210: Using pitch from current record: -12.4°\n",
      "Frame 211: Using pitch from current record: -12.4°\n",
      "Frame 212: Using pitch from current record: -11.2°\n",
      "Frame 213: Using pitch from current record: -11.2°\n",
      "Frame 214: Using pitch from current record: -6.9°\n",
      "Frame 215: Using pitch from current record: -4.4°\n",
      "Frame 216: Using pitch from current record: -4.4°\n",
      "Frame 217: Using pitch from current record: -5.2°\n",
      "Frame 214: Using pitch from current record: -6.9°\n",
      "Frame 215: Using pitch from current record: -4.4°\n",
      "Frame 216: Using pitch from current record: -4.4°\n",
      "Frame 217: Using pitch from current record: -5.2°\n",
      "Frame 218: Using pitch from current record: -5.2°\n",
      "Frame 219: Using pitch from current record: -4.4°\n",
      "Frame 220: Using pitch from current record: -4.4°\n",
      "Frame 221: Using pitch from current record: -1.7°\n",
      "Frame 218: Using pitch from current record: -5.2°\n",
      "Frame 219: Using pitch from current record: -4.4°\n",
      "Frame 220: Using pitch from current record: -4.4°\n",
      "Frame 221: Using pitch from current record: -1.7°\n",
      "Frame 222: Using pitch from current record: -1.7°\n",
      "Frame 223: Using pitch from current record: 0.1°\n",
      "Frame 224: Using pitch from current record: 0.1°\n",
      "Frame 225: Using pitch from current record: -3.6°\n",
      "Frame 222: Using pitch from current record: -1.7°\n",
      "Frame 223: Using pitch from current record: 0.1°\n",
      "Frame 224: Using pitch from current record: 0.1°\n",
      "Frame 225: Using pitch from current record: -3.6°\n",
      "Frame 226: Using pitch from current record: -3.6°\n",
      "Frame 227: Using pitch from current record: -2.7°\n",
      "Frame 228: Using pitch from current record: -2.7°\n",
      "Frame 229: Using pitch from current record: -1.8°\n",
      "Frame 226: Using pitch from current record: -3.6°\n",
      "Frame 227: Using pitch from current record: -2.7°\n",
      "Frame 228: Using pitch from current record: -2.7°\n",
      "Frame 229: Using pitch from current record: -1.8°\n",
      "Frame 230: Using pitch from current record: -1.8°\n",
      "Frame 231: Using pitch from current record: -2.7°\n",
      "Frame 232: Using pitch from current record: -3.7°\n",
      "Frame 233: Using pitch from current record: -3.7°\n",
      "Frame 230: Using pitch from current record: -1.8°\n",
      "Frame 231: Using pitch from current record: -2.7°\n",
      "Frame 232: Using pitch from current record: -3.7°\n",
      "Frame 233: Using pitch from current record: -3.7°\n",
      "Frame 234: Using pitch from current record: -1.4°\n",
      "Frame 235: Using pitch from current record: -1.4°\n",
      "Frame 236: Using pitch from current record: 0.5°\n",
      "Frame 237: Using pitch from current record: 0.5°\n",
      "Frame 234: Using pitch from current record: -1.4°\n",
      "Frame 235: Using pitch from current record: -1.4°\n",
      "Frame 236: Using pitch from current record: 0.5°\n",
      "Frame 237: Using pitch from current record: 0.5°\n",
      "Frame 238: Using pitch from current record: 0.5°\n",
      "Frame 239: Using pitch from current record: -4.2°\n",
      "Frame 240: Using pitch from current record: -4.2°\n",
      "Frame 241: Using pitch from current record: -1.4°\n",
      "Frame 238: Using pitch from current record: 0.5°\n",
      "Frame 239: Using pitch from current record: -4.2°\n",
      "Frame 240: Using pitch from current record: -4.2°\n",
      "Frame 241: Using pitch from current record: -1.4°\n",
      "Frame 242: Using pitch from current record: -1.4°\n",
      "Frame 243: Using pitch from current record: -0.4°\n",
      "Frame 244: Using pitch from current record: -2.4°\n",
      "Frame 245: Using pitch from current record: -2.4°\n",
      "Frame 242: Using pitch from current record: -1.4°\n",
      "Frame 243: Using pitch from current record: -0.4°\n",
      "Frame 244: Using pitch from current record: -2.4°\n",
      "Frame 245: Using pitch from current record: -2.4°\n",
      "Frame 246: Using pitch from current record: -1.4°\n",
      "Frame 247: Using pitch from current record: -1.4°\n",
      "Frame 248: Using pitch from current record: -3.5°\n",
      "Frame 249: Using pitch from current record: -3.5°\n",
      "Frame 246: Using pitch from current record: -1.4°\n",
      "Frame 247: Using pitch from current record: -1.4°\n",
      "Frame 248: Using pitch from current record: -3.5°\n",
      "Frame 249: Using pitch from current record: -3.5°\n",
      "Frame 250: Using pitch from current record: -3.5°\n",
      "Frame 251: Using pitch from current record: -1.5°\n",
      "Frame 252: Using pitch from current record: -1.5°\n",
      "Frame 253: Using pitch from current record: -3.5°\n",
      "Frame 250: Using pitch from current record: -3.5°\n",
      "Frame 251: Using pitch from current record: -1.5°\n",
      "Frame 252: Using pitch from current record: -1.5°\n",
      "Frame 253: Using pitch from current record: -3.5°\n",
      "Frame 254: Using pitch from current record: -1.4°\n",
      "Frame 255: Using pitch from current record: -1.4°\n",
      "Frame 256: Using pitch from current record: -3.6°\n",
      "Frame 257: Using pitch from current record: -3.6°\n",
      "Frame 254: Using pitch from current record: -1.4°\n",
      "Frame 255: Using pitch from current record: -1.4°\n",
      "Frame 256: Using pitch from current record: -3.6°\n",
      "Frame 257: Using pitch from current record: -3.6°\n",
      "Frame 258: Using pitch from current record: -4.5°\n",
      "Frame 259: Using pitch from current record: -4.5°\n",
      "Frame 260: Using pitch from current record: -4.6°\n",
      "Frame 261: Using pitch from current record: -3.6°\n",
      "Frame 258: Using pitch from current record: -4.5°\n",
      "Frame 259: Using pitch from current record: -4.5°\n",
      "Frame 260: Using pitch from current record: -4.6°\n",
      "Frame 261: Using pitch from current record: -3.6°\n",
      "Frame 262: Using pitch from current record: -3.6°\n",
      "Frame 263: Using pitch from current record: -3.6°\n",
      "Frame 264: Using pitch from current record: -3.6°\n",
      "Frame 265: Using pitch from current record: -3.6°\n",
      "Frame 262: Using pitch from current record: -3.6°\n",
      "Frame 263: Using pitch from current record: -3.6°\n",
      "Frame 264: Using pitch from current record: -3.6°\n",
      "Frame 265: Using pitch from current record: -3.6°\n",
      "Frame 266: Using pitch from current record: -0.4°\n",
      "Frame 267: Using pitch from current record: -0.4°\n",
      "Frame 268: Using pitch from current record: -0.4°\n",
      "Frame 269: Using pitch from current record: -0.4°\n",
      "Frame 266: Using pitch from current record: -0.4°\n",
      "Frame 267: Using pitch from current record: -0.4°\n",
      "Frame 268: Using pitch from current record: -0.4°\n",
      "Frame 269: Using pitch from current record: -0.4°\n",
      "Frame 270: Using pitch from current record: -1.4°\n",
      "Frame 271: Using pitch from current record: -2.6°\n",
      "Frame 272: Using pitch from current record: -2.6°\n",
      "Frame 273: Using pitch from current record: -3.6°\n",
      "Frame 270: Using pitch from current record: -1.4°\n",
      "Frame 271: Using pitch from current record: -2.6°\n",
      "Frame 272: Using pitch from current record: -2.6°\n",
      "Frame 273: Using pitch from current record: -3.6°\n",
      "Frame 274: Using pitch from current record: -3.6°\n",
      "Frame 275: Using pitch from current record: -2.6°\n",
      "Frame 276: Using pitch from current record: -3.7°\n",
      "Frame 277: Using pitch from current record: -3.7°\n",
      "Frame 274: Using pitch from current record: -3.6°\n",
      "Frame 275: Using pitch from current record: -2.6°\n",
      "Frame 276: Using pitch from current record: -3.7°\n",
      "Frame 277: Using pitch from current record: -3.7°\n",
      "Frame 278: Using pitch from current record: -2.6°\n",
      "Frame 279: Using pitch from current record: -2.6°\n",
      "Frame 280: Using pitch from current record: -3.8°\n",
      "Frame 281: Using pitch from current record: -3.8°\n",
      "Frame 278: Using pitch from current record: -2.6°\n",
      "Frame 279: Using pitch from current record: -2.6°\n",
      "Frame 280: Using pitch from current record: -3.8°\n",
      "Frame 281: Using pitch from current record: -3.8°\n",
      "Frame 282: Using pitch from current record: -3.7°\n",
      "Frame 283: Using pitch from current record: -3.8°\n",
      "Frame 284: Using pitch from current record: -4.9°\n",
      "Frame 285: Using pitch from current record: -4.9°\n",
      "Frame 282: Using pitch from current record: -3.7°\n",
      "Frame 283: Using pitch from current record: -3.8°\n",
      "Frame 284: Using pitch from current record: -4.9°\n",
      "Frame 285: Using pitch from current record: -4.9°\n",
      "Frame 286: Using pitch from current record: -3.8°\n",
      "Frame 287: Using pitch from current record: -3.8°\n",
      "Frame 288: Using pitch from current record: -1.5°\n",
      "Frame 289: Using pitch from current record: -1.5°\n",
      "Frame 286: Using pitch from current record: -3.8°\n",
      "Frame 287: Using pitch from current record: -3.8°\n",
      "Frame 288: Using pitch from current record: -1.5°\n",
      "Frame 289: Using pitch from current record: -1.5°\n",
      "Frame 290: Using pitch from current record: -2.6°\n",
      "Frame 291: Using pitch from current record: -2.6°\n",
      "Frame 292: Using pitch from current record: -3.7°\n",
      "Frame 293: Using pitch from current record: -3.7°\n",
      "Frame 290: Using pitch from current record: -2.6°\n",
      "Frame 291: Using pitch from current record: -2.6°\n",
      "Frame 292: Using pitch from current record: -3.7°\n",
      "Frame 293: Using pitch from current record: -3.7°\n",
      "Frame 294: Using pitch from current record: -1.5°\n",
      "Frame 295: Using pitch from current record: -1.5°\n",
      "Frame 296: Using pitch from current record: -3.8°\n",
      "Frame 297: Using pitch from current record: -3.8°\n",
      "Frame 294: Using pitch from current record: -1.5°\n",
      "Frame 295: Using pitch from current record: -1.5°\n",
      "Frame 296: Using pitch from current record: -3.8°\n",
      "Frame 297: Using pitch from current record: -3.8°\n",
      "Frame 298: Using pitch from current record: -4.7°\n",
      "Frame 299: Using pitch from current record: -3.6°\n",
      "Frame 300: Using pitch from current record: -3.6°\n",
      "Frame 301: Using pitch from current record: -2.6°\n",
      "Frame 298: Using pitch from current record: -4.7°\n",
      "Frame 299: Using pitch from current record: -3.6°\n",
      "Frame 300: Using pitch from current record: -3.6°\n",
      "Frame 301: Using pitch from current record: -2.6°\n",
      "Frame 302: Using pitch from current record: -2.6°\n",
      "Frame 303: Using pitch from current record: -1.5°\n",
      "Frame 304: Using pitch from current record: -1.5°\n",
      "Frame 305: Using pitch from current record: -44.4°\n",
      "Frame 302: Using pitch from current record: -2.6°\n",
      "Frame 303: Using pitch from current record: -1.5°\n",
      "Frame 304: Using pitch from current record: -1.5°\n",
      "Frame 305: Using pitch from current record: -44.4°\n",
      "Frame 306: Using pitch from current record: -1.5°\n",
      "Frame 307: Using pitch from current record: -1.5°\n",
      "Frame 308: Using pitch from current record: -4.6°\n",
      "Frame 309: Using pitch from current record: -4.6°\n",
      "Frame 306: Using pitch from current record: -1.5°\n",
      "Frame 307: Using pitch from current record: -1.5°\n",
      "Frame 308: Using pitch from current record: -4.6°\n",
      "Frame 309: Using pitch from current record: -4.6°\n",
      "Frame 310: Using pitch from current record: -5.7°\n",
      "Frame 311: Using pitch from current record: -0.4°\n",
      "Frame 312: Using pitch from current record: -0.4°\n",
      "Frame 313: Using pitch from current record: 4.8°\n",
      "Frame 310: Using pitch from current record: -5.7°\n",
      "Frame 311: Using pitch from current record: -0.4°\n",
      "Frame 312: Using pitch from current record: -0.4°\n",
      "Frame 313: Using pitch from current record: 4.8°\n",
      "Frame 314: Using pitch from current record: 4.8°\n",
      "Frame 315: Using pitch from current record: 1.6°\n",
      "Frame 316: Using pitch from current record: 1.6°\n",
      "Frame 317: Using pitch from current record: 3.7°\n",
      "Frame 314: Using pitch from current record: 4.8°\n",
      "Frame 315: Using pitch from current record: 1.6°\n",
      "Frame 316: Using pitch from current record: 1.6°\n",
      "Frame 317: Using pitch from current record: 3.7°\n",
      "Frame 318: Using pitch from current record: 1.7°\n",
      "Frame 319: Using pitch from current record: 1.7°\n",
      "Frame 320: Using pitch from current record: 5.9°\n",
      "Frame 321: Using pitch from current record: 5.9°\n",
      "Frame 318: Using pitch from current record: 1.7°\n",
      "Frame 319: Using pitch from current record: 1.7°\n",
      "Frame 320: Using pitch from current record: 5.9°\n",
      "Frame 321: Using pitch from current record: 5.9°\n",
      "Frame 322: Using pitch from current record: 6.9°\n",
      "Frame 323: Using pitch from current record: 7.0°\n",
      "Frame 324: Using pitch from current record: 7.0°\n",
      "Frame 325: Using pitch from current record: 7.0°\n",
      "Frame 322: Using pitch from current record: 6.9°\n",
      "Frame 323: Using pitch from current record: 7.0°\n",
      "Frame 324: Using pitch from current record: 7.0°\n",
      "Frame 325: Using pitch from current record: 7.0°\n",
      "Frame 326: Using pitch from current record: 7.0°\n",
      "Frame 327: Using pitch from current record: 6.1°\n",
      "Frame 328: Using pitch from current record: 3.9°\n",
      "Frame 329: Using pitch from current record: 3.9°\n",
      "Frame 326: Using pitch from current record: 7.0°\n",
      "Frame 327: Using pitch from current record: 6.1°\n",
      "Frame 328: Using pitch from current record: 3.9°\n",
      "Frame 329: Using pitch from current record: 3.9°\n",
      "Frame 330: Using pitch from current record: 4.0°\n",
      "Frame 331: Using pitch from current record: 4.0°\n",
      "Frame 332: Using pitch from current record: 2.8°\n",
      "Frame 333: Using pitch from current record: 1.8°\n",
      "Frame 330: Using pitch from current record: 4.0°\n",
      "Frame 331: Using pitch from current record: 4.0°\n",
      "Frame 332: Using pitch from current record: 2.8°\n",
      "Frame 333: Using pitch from current record: 1.8°\n",
      "Frame 334: Using pitch from current record: 1.8°\n",
      "Frame 335: Using pitch from current record: 0.7°\n",
      "Frame 336: Using pitch from current record: 0.7°\n",
      "Frame 337: Using pitch from current record: -0.4°\n",
      "Frame 334: Using pitch from current record: 1.8°\n",
      "Frame 335: Using pitch from current record: 0.7°\n",
      "Frame 336: Using pitch from current record: 0.7°\n",
      "Frame 337: Using pitch from current record: -0.4°\n",
      "Frame 338: Using pitch from current record: -0.4°\n",
      "Frame 339: Using pitch from current record: -1.5°\n",
      "Frame 340: Using pitch from current record: -0.4°\n",
      "Frame 341: Using pitch from current record: -0.4°\n",
      "Frame 338: Using pitch from current record: -0.4°\n",
      "Frame 339: Using pitch from current record: -1.5°\n",
      "Frame 340: Using pitch from current record: -0.4°\n",
      "Frame 341: Using pitch from current record: -0.4°\n",
      "Frame 342: Using pitch from current record: -2.6°\n",
      "Frame 343: Using pitch from current record: -2.6°\n",
      "Frame 344: Using pitch from current record: -2.6°\n",
      "Frame 345: Using pitch from current record: -5.8°\n",
      "Frame 342: Using pitch from current record: -2.6°\n",
      "Frame 343: Using pitch from current record: -2.6°\n",
      "Frame 344: Using pitch from current record: -2.6°\n",
      "Frame 345: Using pitch from current record: -5.8°\n",
      "Frame 346: Using pitch from current record: -5.8°\n",
      "Frame 347: Using pitch from current record: -5.8°\n",
      "Frame 348: Using pitch from current record: -5.8°\n",
      "Frame 349: Using pitch from current record: -3.5°\n",
      "Frame 346: Using pitch from current record: -5.8°\n",
      "Frame 347: Using pitch from current record: -5.8°\n",
      "Frame 348: Using pitch from current record: -5.8°\n",
      "Frame 349: Using pitch from current record: -3.5°\n",
      "Frame 350: Using pitch from current record: -7.7°\n",
      "Frame 351: Using pitch from current record: -7.7°\n",
      "Frame 352: Using pitch from current record: -7.4°\n",
      "Frame 353: Using pitch from current record: -7.4°\n",
      "Frame 350: Using pitch from current record: -7.7°\n",
      "Frame 351: Using pitch from current record: -7.7°\n",
      "Frame 352: Using pitch from current record: -7.4°\n",
      "Frame 353: Using pitch from current record: -7.4°\n",
      "Frame 354: Using pitch from current record: -7.5°\n",
      "Frame 355: Using pitch from current record: -9.4°\n",
      "Frame 356: Using pitch from current record: -9.4°\n",
      "Frame 357: Using pitch from current record: -10.1°\n",
      "Frame 354: Using pitch from current record: -7.5°\n",
      "Frame 355: Using pitch from current record: -9.4°\n",
      "Frame 356: Using pitch from current record: -9.4°\n",
      "Frame 357: Using pitch from current record: -10.1°\n",
      "Frame 358: Using pitch from current record: -10.1°\n",
      "Frame 359: Using pitch from current record: -8.1°\n",
      "Frame 360: Using pitch from current record: -12.5°\n",
      "Frame 361: Using pitch from current record: -12.5°\n",
      "Frame 358: Using pitch from current record: -10.1°\n",
      "Frame 359: Using pitch from current record: -8.1°\n",
      "Frame 360: Using pitch from current record: -12.5°\n",
      "Frame 361: Using pitch from current record: -12.5°\n",
      "Frame 362: Using pitch from current record: -11.4°\n",
      "Frame 363: Using pitch from current record: -11.4°\n",
      "Frame 364: Using pitch from current record: -12.3°\n",
      "Frame 365: Using pitch from current record: -12.3°\n",
      "Frame 362: Using pitch from current record: -11.4°\n",
      "Frame 363: Using pitch from current record: -11.4°\n",
      "Frame 364: Using pitch from current record: -12.3°\n",
      "Frame 365: Using pitch from current record: -12.3°\n",
      "Frame 366: Using pitch from current record: -12.8°\n",
      "Frame 367: Using pitch from current record: -14.1°\n",
      "Frame 368: Using pitch from current record: -14.1°\n",
      "Frame 369: Using pitch from current record: -14.7°\n",
      "Frame 366: Using pitch from current record: -12.8°\n",
      "Frame 367: Using pitch from current record: -14.1°\n",
      "Frame 368: Using pitch from current record: -14.1°\n",
      "Frame 369: Using pitch from current record: -14.7°\n",
      "Frame 370: Using pitch from current record: -14.7°\n",
      "Frame 371: Using pitch from current record: -15.6°\n",
      "Frame 372: Using pitch from current record: -15.5°\n",
      "Frame 373: Using pitch from current record: -15.5°\n",
      "Frame 370: Using pitch from current record: -14.7°\n",
      "Frame 371: Using pitch from current record: -15.6°\n",
      "Frame 372: Using pitch from current record: -15.5°\n",
      "Frame 373: Using pitch from current record: -15.5°\n",
      "Frame 374: Using pitch from current record: -16.2°\n",
      "Frame 375: Using pitch from current record: -16.2°\n",
      "Frame 376: Using pitch from current record: -19.5°\n",
      "Frame 377: Using pitch from current record: 37.1°\n",
      "Frame 374: Using pitch from current record: -16.2°\n",
      "Frame 375: Using pitch from current record: -16.2°\n",
      "Frame 376: Using pitch from current record: -19.5°\n",
      "Frame 377: Using pitch from current record: 37.1°\n",
      "Frame 378: Using pitch from current record: 37.1°\n",
      "Frame 379: Using pitch from current record: -20.2°\n",
      "Frame 380: Using pitch from current record: -20.2°\n",
      "Frame 381: Using pitch from current record: -21.1°\n",
      "Frame 378: Using pitch from current record: 37.1°\n",
      "Frame 379: Using pitch from current record: -20.2°\n",
      "Frame 380: Using pitch from current record: -20.2°\n",
      "Frame 381: Using pitch from current record: -21.1°\n",
      "Frame 382: Using pitch from current record: -22.1°\n",
      "Frame 383: Using pitch from current record: -22.1°\n",
      "Frame 384: Using pitch from current record: -27.4°\n",
      "Frame 385: Using pitch from current record: -27.4°\n",
      "Frame 382: Using pitch from current record: -22.1°\n",
      "Frame 383: Using pitch from current record: -22.1°\n",
      "Frame 384: Using pitch from current record: -27.4°\n",
      "Frame 385: Using pitch from current record: -27.4°\n",
      "Frame 386: Using pitch from current record: -26.1°\n",
      "Frame 387: Using pitch from current record: -25.0°\n",
      "Frame 388: Using pitch from current record: -25.0°\n",
      "Frame 389: Using pitch from current record: -27.5°\n",
      "Frame 386: Using pitch from current record: -26.1°\n",
      "Frame 387: Using pitch from current record: -25.0°\n",
      "Frame 388: Using pitch from current record: -25.0°\n",
      "Frame 389: Using pitch from current record: -27.5°\n",
      "Frame 390: Using pitch from current record: -27.5°\n",
      "Frame 391: Using pitch from current record: -26.7°\n",
      "Frame 392: Using pitch from current record: -26.7°\n",
      "Frame 393: Using pitch from current record: -28.2°\n",
      "Frame 390: Using pitch from current record: -27.5°\n",
      "Frame 391: Using pitch from current record: -26.7°\n",
      "Frame 392: Using pitch from current record: -26.7°\n",
      "Frame 393: Using pitch from current record: -28.2°\n",
      "Frame 394: Using pitch from current record: -30.1°\n",
      "Frame 395: Using pitch from current record: -30.1°\n",
      "Frame 396: Using pitch from current record: -29.5°\n",
      "Frame 397: Using pitch from current record: -29.5°\n",
      "Frame 394: Using pitch from current record: -30.1°\n",
      "Frame 395: Using pitch from current record: -30.1°\n",
      "Frame 396: Using pitch from current record: -29.5°\n",
      "Frame 397: Using pitch from current record: -29.5°\n",
      "Frame 398: Using pitch from current record: -28.1°\n",
      "Frame 399: Using pitch from current record: -34.6°\n",
      "Frame 400: Using pitch from current record: -34.6°\n",
      "Frame 401: Using pitch from current record: -34.5°\n",
      "Frame 398: Using pitch from current record: -28.1°\n",
      "Frame 399: Using pitch from current record: -34.6°\n",
      "Frame 400: Using pitch from current record: -34.6°\n",
      "Frame 401: Using pitch from current record: -34.5°\n",
      "Frame 402: Using pitch from current record: -34.5°\n",
      "Frame 403: Using pitch from current record: -35.1°\n",
      "Frame 404: Using pitch from current record: -35.1°\n",
      "Frame 405: Using pitch from current record: -34.7°\n",
      "Frame 402: Using pitch from current record: -34.5°\n",
      "Frame 403: Using pitch from current record: -35.1°\n",
      "Frame 404: Using pitch from current record: -35.1°\n",
      "Frame 405: Using pitch from current record: -34.7°\n",
      "Frame 406: Using pitch from current record: -35.6°\n",
      "Frame 407: Using pitch from current record: -35.6°\n",
      "Frame 408: Using pitch from current record: -35.5°\n",
      "Frame 409: Using pitch from current record: -35.5°\n",
      "Frame 406: Using pitch from current record: -35.6°\n",
      "Frame 407: Using pitch from current record: -35.6°\n",
      "Frame 408: Using pitch from current record: -35.5°\n",
      "Frame 409: Using pitch from current record: -35.5°\n",
      "Frame 410: Using pitch from current record: -35.4°\n",
      "Frame 411: Using pitch from current record: -35.4°\n",
      "Frame 412: Using pitch from current record: -34.6°\n",
      "Frame 413: Using pitch from current record: -37.5°\n",
      "Frame 410: Using pitch from current record: -35.4°\n",
      "Frame 411: Using pitch from current record: -35.4°\n",
      "Frame 412: Using pitch from current record: -34.6°\n",
      "Frame 413: Using pitch from current record: -37.5°\n",
      "Frame 414: Using pitch from current record: -37.5°\n",
      "Frame 415: Using pitch from current record: -38.8°\n",
      "Frame 416: Using pitch from current record: -38.8°\n",
      "Frame 417: Using pitch from current record: -38.4°\n",
      "Frame 414: Using pitch from current record: -37.5°\n",
      "Frame 415: Using pitch from current record: -38.8°\n",
      "Frame 416: Using pitch from current record: -38.8°\n",
      "Frame 417: Using pitch from current record: -38.4°\n",
      "Frame 418: Using pitch from current record: -37.9°\n",
      "Frame 419: Using pitch from current record: -37.9°\n",
      "Frame 420: Using pitch from current record: -37.4°\n",
      "Frame 421: Using pitch from current record: -40.6°\n",
      "Frame 418: Using pitch from current record: -37.9°\n",
      "Frame 419: Using pitch from current record: -37.9°\n",
      "Frame 420: Using pitch from current record: -37.4°\n",
      "Frame 421: Using pitch from current record: -40.6°\n",
      "Frame 422: Using pitch from current record: -40.6°\n",
      "Frame 423: Using pitch from current record: -41.4°\n",
      "Frame 424: Using pitch from current record: -41.4°\n",
      "Frame 425: Using pitch from current record: -39.8°\n",
      "Frame 422: Using pitch from current record: -40.6°\n",
      "Frame 423: Using pitch from current record: -41.4°\n",
      "Frame 424: Using pitch from current record: -41.4°\n",
      "Frame 425: Using pitch from current record: -39.8°\n",
      "Frame 426: Using pitch from current record: -37.2°\n",
      "Frame 427: Using pitch from current record: -37.2°\n",
      "Frame 428: Using pitch from current record: -40.7°\n",
      "Frame 429: Using pitch from current record: -40.7°\n",
      "Frame 426: Using pitch from current record: -37.2°\n",
      "Frame 427: Using pitch from current record: -37.2°\n",
      "Frame 428: Using pitch from current record: -40.7°\n",
      "Frame 429: Using pitch from current record: -40.7°\n",
      "Frame 430: Using pitch from current record: -40.3°\n",
      "Frame 431: Using pitch from current record: -40.3°\n",
      "Frame 432: Using pitch from current record: -40.7°\n",
      "Frame 433: Using pitch from current record: -42.5°\n",
      "Frame 430: Using pitch from current record: -40.3°\n",
      "Frame 431: Using pitch from current record: -40.3°\n",
      "Frame 432: Using pitch from current record: -40.7°\n",
      "Frame 433: Using pitch from current record: -42.5°\n",
      "Frame 434: Using pitch from current record: -42.5°\n",
      "Frame 435: Using pitch from current record: -42.4°\n",
      "Frame 436: Using pitch from current record: -42.4°\n",
      "Frame 437: Using pitch from current record: -42.8°\n",
      "Frame 434: Using pitch from current record: -42.5°\n",
      "Frame 435: Using pitch from current record: -42.4°\n",
      "Frame 436: Using pitch from current record: -42.4°\n",
      "Frame 437: Using pitch from current record: -42.8°\n",
      "Frame 438: Using pitch from current record: -37.8°\n",
      "Frame 439: Using pitch from current record: -37.8°\n",
      "Frame 440: Using pitch from current record: -37.9°\n",
      "Frame 441: Using pitch from current record: -37.9°\n",
      "Frame 438: Using pitch from current record: -37.8°\n",
      "Frame 439: Using pitch from current record: -37.8°\n",
      "Frame 440: Using pitch from current record: -37.9°\n",
      "Frame 441: Using pitch from current record: -37.9°\n",
      "Frame 442: Using pitch from current record: -43.2°\n",
      "Frame 443: Using pitch from current record: -41.5°\n",
      "Frame 444: Using pitch from current record: -41.5°\n",
      "Frame 445: Using pitch from current record: -40.0°\n",
      "Frame 442: Using pitch from current record: -43.2°\n",
      "Frame 443: Using pitch from current record: -41.5°\n",
      "Frame 444: Using pitch from current record: -41.5°\n",
      "Frame 445: Using pitch from current record: -40.0°\n",
      "Frame 446: Using pitch from current record: -40.0°\n",
      "Frame 447: Using pitch from current record: -40.7°\n",
      "Frame 448: Using pitch from current record: -40.6°\n",
      "Frame 449: Using pitch from current record: -40.6°\n",
      "Frame 446: Using pitch from current record: -40.0°\n",
      "Frame 447: Using pitch from current record: -40.7°\n",
      "Frame 448: Using pitch from current record: -40.6°\n",
      "Frame 449: Using pitch from current record: -40.6°\n",
      "Frame 450: Using pitch from current record: -40.6°\n",
      "Frame 451: Using pitch from current record: -40.6°\n",
      "Frame 452: Using pitch from current record: -40.6°\n",
      "Frame 453: Using pitch from current record: -41.1°\n",
      "Frame 450: Using pitch from current record: -40.6°\n",
      "Frame 451: Using pitch from current record: -40.6°\n",
      "Frame 452: Using pitch from current record: -40.6°\n",
      "Frame 453: Using pitch from current record: -41.1°\n",
      "Frame 454: Using pitch from current record: -41.1°\n",
      "Frame 455: Using pitch from current record: -41.1°\n",
      "Frame 456: Using pitch from current record: -42.2°\n",
      "Frame 457: Using pitch from current record: -42.2°\n",
      "Frame 454: Using pitch from current record: -41.1°\n",
      "Frame 455: Using pitch from current record: -41.1°\n",
      "Frame 456: Using pitch from current record: -42.2°\n",
      "Frame 457: Using pitch from current record: -42.2°\n",
      "Frame 458: Using pitch from current record: -42.7°\n",
      "Frame 459: Using pitch from current record: -42.7°\n",
      "Frame 460: Using pitch from current record: -42.7°\n",
      "Frame 461: Using pitch from current record: -41.5°\n",
      "Frame 458: Using pitch from current record: -42.7°\n",
      "Frame 459: Using pitch from current record: -42.7°\n",
      "Frame 460: Using pitch from current record: -42.7°\n",
      "Frame 461: Using pitch from current record: -41.5°\n",
      "Frame 462: Using pitch from current record: -41.5°\n",
      "Frame 463: Using pitch from current record: -40.9°\n",
      "Frame 464: Using pitch from current record: -40.9°\n",
      "Frame 465: Using pitch from current record: -44.9°\n",
      "Frame 462: Using pitch from current record: -41.5°\n",
      "Frame 463: Using pitch from current record: -40.9°\n",
      "Frame 464: Using pitch from current record: -40.9°\n",
      "Frame 465: Using pitch from current record: -44.9°\n",
      "Frame 466: Using pitch from current record: -44.9°\n",
      "Frame 467: Using pitch from current record: -44.5°\n",
      "Frame 468: Using pitch from current record: -43.9°\n",
      "Frame 469: Using pitch from current record: -43.9°\n",
      "Frame 466: Using pitch from current record: -44.9°\n",
      "Frame 467: Using pitch from current record: -44.5°\n",
      "Frame 468: Using pitch from current record: -43.9°\n",
      "Frame 469: Using pitch from current record: -43.9°\n",
      "Frame 470: Using pitch from current record: -45.4°\n",
      "Frame 471: Using pitch from current record: -45.4°\n",
      "Frame 472: Using pitch from current record: -43.6°\n",
      "Frame 473: Using pitch from current record: -45.4°\n",
      "Frame 470: Using pitch from current record: -45.4°\n",
      "Frame 471: Using pitch from current record: -45.4°\n",
      "Frame 472: Using pitch from current record: -43.6°\n",
      "Frame 473: Using pitch from current record: -45.4°\n",
      "Frame 474: Using pitch from current record: -45.4°\n",
      "Frame 475: Using pitch from current record: -46.5°\n",
      "Frame 476: Using pitch from current record: -46.5°\n",
      "Frame 477: Using pitch from current record: -47.5°\n",
      "Frame 474: Using pitch from current record: -45.4°\n",
      "Frame 475: Using pitch from current record: -46.5°\n",
      "Frame 476: Using pitch from current record: -46.5°\n",
      "Frame 477: Using pitch from current record: -47.5°\n",
      "Frame 478: Using pitch from current record: -47.7°\n",
      "Frame 479: Using pitch from current record: -47.7°\n",
      "Frame 480: Using pitch from current record: -47.3°\n",
      "Frame 481: Using pitch from current record: -47.3°\n",
      "Frame 478: Using pitch from current record: -47.7°\n",
      "Frame 479: Using pitch from current record: -47.7°\n",
      "Frame 480: Using pitch from current record: -47.3°\n",
      "Frame 481: Using pitch from current record: -47.3°\n",
      "Frame 482: Using pitch from current record: -46.6°\n",
      "Frame 483: Using pitch from current record: -47.5°\n",
      "Frame 484: Using pitch from current record: -47.5°\n",
      "Frame 485: Using pitch from current record: -43.8°\n",
      "Frame 482: Using pitch from current record: -46.6°\n",
      "Frame 483: Using pitch from current record: -47.5°\n",
      "Frame 484: Using pitch from current record: -47.5°\n",
      "Frame 485: Using pitch from current record: -43.8°\n",
      "Frame 486: Using pitch from current record: -43.8°\n",
      "Frame 487: Using pitch from current record: -46.3°\n",
      "Frame 488: Using pitch from current record: -46.3°\n",
      "Frame 489: Using pitch from current record: -43.8°\n",
      "Frame 486: Using pitch from current record: -43.8°\n",
      "Frame 487: Using pitch from current record: -46.3°\n",
      "Frame 488: Using pitch from current record: -46.3°\n",
      "Frame 489: Using pitch from current record: -43.8°\n",
      "Frame 490: Using pitch from current record: -45.9°\n",
      "Frame 491: Using pitch from current record: -45.9°\n",
      "Frame 492: Using pitch from current record: -45.5°\n",
      "Frame 493: Using pitch from current record: -45.5°\n",
      "Frame 490: Using pitch from current record: -45.9°\n",
      "Frame 491: Using pitch from current record: -45.9°\n",
      "Frame 492: Using pitch from current record: -45.5°\n",
      "Frame 493: Using pitch from current record: -45.5°\n",
      "Frame 494: Using pitch from current record: -43.7°\n",
      "Frame 495: Using pitch from current record: -43.7°\n",
      "Frame 496: Using pitch from current record: -44.2°\n",
      "Frame 497: Using pitch from current record: -45.0°\n",
      "Frame 494: Using pitch from current record: -43.7°\n",
      "Frame 495: Using pitch from current record: -43.7°\n",
      "Frame 496: Using pitch from current record: -44.2°\n",
      "Frame 497: Using pitch from current record: -45.0°\n",
      "Frame 498: Using pitch from current record: -45.0°\n",
      "Frame 499: Using pitch from current record: -44.0°\n",
      "Frame 500: Using pitch from current record: -44.0°\n",
      "Frame 501: Using pitch from current record: -45.2°\n",
      "Frame 498: Using pitch from current record: -45.0°\n",
      "Frame 499: Using pitch from current record: -44.0°\n",
      "Frame 500: Using pitch from current record: -44.0°\n",
      "Frame 501: Using pitch from current record: -45.2°\n",
      "Frame 502: Using pitch from current record: -45.2°\n",
      "Frame 503: Using pitch from current record: -45.1°\n",
      "Frame 504: Using pitch from current record: -46.2°\n",
      "Frame 505: Using pitch from current record: -46.2°\n",
      "Frame 502: Using pitch from current record: -45.2°\n",
      "Frame 503: Using pitch from current record: -45.1°\n",
      "Frame 504: Using pitch from current record: -46.2°\n",
      "Frame 505: Using pitch from current record: -46.2°\n",
      "Frame 506: Using pitch from current record: -45.4°\n",
      "Frame 507: Using pitch from current record: -45.4°\n",
      "Frame 508: Using pitch from current record: -45.1°\n",
      "Frame 509: Using pitch from current record: -45.6°\n",
      "Frame 506: Using pitch from current record: -45.4°\n",
      "Frame 507: Using pitch from current record: -45.4°\n",
      "Frame 508: Using pitch from current record: -45.1°\n",
      "Frame 509: Using pitch from current record: -45.6°\n",
      "Frame 510: Using pitch from current record: -45.6°\n",
      "Frame 511: Using pitch from current record: -44.8°\n",
      "Frame 512: Using pitch from current record: -46.1°\n",
      "Frame 513: Using pitch from current record: -46.1°\n",
      "Frame 510: Using pitch from current record: -45.6°\n",
      "Frame 511: Using pitch from current record: -44.8°\n",
      "Frame 512: Using pitch from current record: -46.1°\n",
      "Frame 513: Using pitch from current record: -46.1°\n",
      "Frame 514: Using pitch from current record: -45.6°\n",
      "Frame 515: Using pitch from current record: -45.6°\n",
      "Frame 516: Using pitch from current record: -50.2°\n",
      "Frame 517: Using pitch from current record: -48.9°\n",
      "Frame 514: Using pitch from current record: -45.6°\n",
      "Frame 515: Using pitch from current record: -45.6°\n",
      "Frame 516: Using pitch from current record: -50.2°\n",
      "Frame 517: Using pitch from current record: -48.9°\n",
      "Frame 518: Using pitch from current record: -48.9°\n",
      "Frame 519: Using pitch from current record: -48.2°\n",
      "Frame 520: Using pitch from current record: -48.2°\n",
      "Frame 521: Using pitch from current record: -48.9°\n",
      "Frame 518: Using pitch from current record: -48.9°\n",
      "Frame 519: Using pitch from current record: -48.2°\n",
      "Frame 520: Using pitch from current record: -48.2°\n",
      "Frame 521: Using pitch from current record: -48.9°\n",
      "Frame 522: Using pitch from current record: -48.9°\n",
      "Frame 523: Using pitch from current record: -48.5°\n",
      "Frame 524: Using pitch from current record: -48.5°\n",
      "Frame 525: Using pitch from current record: -49.1°\n",
      "Frame 522: Using pitch from current record: -48.9°\n",
      "Frame 523: Using pitch from current record: -48.5°\n",
      "Frame 524: Using pitch from current record: -48.5°\n",
      "Frame 525: Using pitch from current record: -49.1°\n",
      "Frame 526: Using pitch from current record: -48.9°\n",
      "Frame 527: Using pitch from current record: -48.9°\n",
      "Frame 528: Using pitch from current record: -53.2°\n",
      "Frame 529: Using pitch from current record: -53.2°\n",
      "Frame 526: Using pitch from current record: -48.9°\n",
      "Frame 527: Using pitch from current record: -48.9°\n",
      "Frame 528: Using pitch from current record: -53.2°\n",
      "Frame 529: Using pitch from current record: -53.2°\n",
      "Frame 530: Using pitch from current record: -52.6°\n",
      "Frame 531: Using pitch from current record: -52.6°\n",
      "Frame 532: Using pitch from current record: -52.6°\n",
      "Frame 533: Using pitch from current record: -12.0°\n",
      "Frame 530: Using pitch from current record: -52.6°\n",
      "Frame 531: Using pitch from current record: -52.6°\n",
      "Frame 532: Using pitch from current record: -52.6°\n",
      "Frame 533: Using pitch from current record: -12.0°\n",
      "Frame 534: Using pitch from current record: -12.0°\n",
      "Frame 535: Using pitch from current record: -47.6°\n",
      "Frame 536: Using pitch from current record: -48.7°\n",
      "Frame 537: Using pitch from current record: -48.7°\n",
      "Frame 534: Using pitch from current record: -12.0°\n",
      "Frame 535: Using pitch from current record: -47.6°\n",
      "Frame 536: Using pitch from current record: -48.7°\n",
      "Frame 537: Using pitch from current record: -48.7°\n",
      "Frame 538: Using pitch from current record: -47.3°\n",
      "Frame 539: Using pitch from current record: -47.3°\n",
      "Frame 540: Using pitch from current record: -48.3°\n",
      "Frame 541: Using pitch from current record: -48.3°\n",
      "Frame 538: Using pitch from current record: -47.3°\n",
      "Frame 539: Using pitch from current record: -47.3°\n",
      "Frame 540: Using pitch from current record: -48.3°\n",
      "Frame 541: Using pitch from current record: -48.3°\n",
      "Frame 542: Using pitch from current record: -47.6°\n",
      "Frame 543: Using pitch from current record: -48.4°\n",
      "Frame 544: Using pitch from current record: -48.4°\n",
      "Frame 545: Using pitch from current record: -46.5°\n",
      "Frame 542: Using pitch from current record: -47.6°\n",
      "Frame 543: Using pitch from current record: -48.4°\n",
      "Frame 544: Using pitch from current record: -48.4°\n",
      "Frame 545: Using pitch from current record: -46.5°\n",
      "Frame 546: Using pitch from current record: -46.5°\n",
      "Frame 547: Using pitch from current record: -59.5°\n",
      "Frame 548: Using pitch from current record: -47.2°\n",
      "Frame 549: Using pitch from current record: -47.2°\n",
      "Frame 546: Using pitch from current record: -46.5°\n",
      "Frame 547: Using pitch from current record: -59.5°\n",
      "Frame 548: Using pitch from current record: -47.2°\n",
      "Frame 549: Using pitch from current record: -47.2°\n",
      "Frame 550: Using pitch from current record: -47.0°\n",
      "Frame 551: Using pitch from current record: -47.0°\n",
      "Frame 552: Using pitch from current record: -47.2°\n",
      "Frame 553: Using pitch from current record: -47.3°\n",
      "Frame 550: Using pitch from current record: -47.0°\n",
      "Frame 551: Using pitch from current record: -47.0°\n",
      "Frame 552: Using pitch from current record: -47.2°\n",
      "Frame 553: Using pitch from current record: -47.3°\n",
      "Frame 554: Using pitch from current record: -47.3°\n",
      "Frame 555: Using pitch from current record: -48.4°\n",
      "Frame 556: Using pitch from current record: -48.4°\n",
      "Frame 557: Using pitch from current record: -45.7°\n",
      "Frame 554: Using pitch from current record: -47.3°\n",
      "Frame 555: Using pitch from current record: -48.4°\n",
      "Frame 556: Using pitch from current record: -48.4°\n",
      "Frame 557: Using pitch from current record: -45.7°\n",
      "Frame 558: Using pitch from current record: -45.7°\n",
      "Frame 559: Using pitch from current record: -47.8°\n",
      "Frame 560: Using pitch from current record: -52.0°\n",
      "Frame 561: Using pitch from current record: -52.0°\n",
      "Frame 558: Using pitch from current record: -45.7°\n",
      "Frame 559: Using pitch from current record: -47.8°\n",
      "Frame 560: Using pitch from current record: -52.0°\n",
      "Frame 561: Using pitch from current record: -52.0°\n",
      "Frame 562: Using pitch from current record: -45.7°\n",
      "Frame 563: Using pitch from current record: -45.7°\n",
      "Frame 564: Using pitch from current record: -47.4°\n",
      "Frame 565: Using pitch from current record: -47.4°\n",
      "Frame 562: Using pitch from current record: -45.7°\n",
      "Frame 563: Using pitch from current record: -45.7°\n",
      "Frame 564: Using pitch from current record: -47.4°\n",
      "Frame 565: Using pitch from current record: -47.4°\n",
      "Frame 566: Using pitch from current record: -43.5°\n",
      "Frame 567: Using pitch from current record: -44.7°\n",
      "Frame 568: Using pitch from current record: -44.7°\n",
      "Frame 569: Using pitch from current record: -44.2°\n",
      "Frame 566: Using pitch from current record: -43.5°\n",
      "Frame 567: Using pitch from current record: -44.7°\n",
      "Frame 568: Using pitch from current record: -44.7°\n",
      "Frame 569: Using pitch from current record: -44.2°\n",
      "Frame 570: Using pitch from current record: -44.2°\n",
      "Frame 571: Using pitch from current record: -43.7°\n",
      "Frame 572: Using pitch from current record: -44.2°\n",
      "Frame 573: Using pitch from current record: -44.2°\n",
      "Frame 570: Using pitch from current record: -44.2°\n",
      "Frame 571: Using pitch from current record: -43.7°\n",
      "Frame 572: Using pitch from current record: -44.2°\n",
      "Frame 573: Using pitch from current record: -44.2°\n",
      "Frame 574: Using pitch from current record: -43.2°\n",
      "Frame 575: Using pitch from current record: -43.2°\n",
      "Frame 576: Using pitch from current record: -43.4°\n",
      "Frame 577: Using pitch from current record: -44.6°\n",
      "Frame 574: Using pitch from current record: -43.2°\n",
      "Frame 575: Using pitch from current record: -43.2°\n",
      "Frame 576: Using pitch from current record: -43.4°\n",
      "Frame 577: Using pitch from current record: -44.6°\n",
      "Frame 578: Using pitch from current record: -44.6°\n",
      "Frame 579: Using pitch from current record: -43.0°\n",
      "Frame 580: Using pitch from current record: -43.0°\n",
      "Frame 581: Using pitch from current record: -44.1°\n",
      "Frame 578: Using pitch from current record: -44.6°\n",
      "Frame 579: Using pitch from current record: -43.0°\n",
      "Frame 580: Using pitch from current record: -43.0°\n",
      "Frame 581: Using pitch from current record: -44.1°\n",
      "Frame 582: Using pitch from current record: -44.3°\n",
      "Frame 583: Using pitch from current record: -44.3°\n",
      "Frame 584: Using pitch from current record: -52.3°\n",
      "Frame 585: Using pitch from current record: -52.3°\n",
      "Frame 582: Using pitch from current record: -44.3°\n",
      "Frame 583: Using pitch from current record: -44.3°\n",
      "Frame 584: Using pitch from current record: -52.3°\n",
      "Frame 585: Using pitch from current record: -52.3°\n",
      "Frame 586: Using pitch from current record: -44.2°\n",
      "Frame 587: Using pitch from current record: -41.7°\n",
      "Frame 588: Using pitch from current record: -41.7°\n",
      "Frame 589: Using pitch from current record: -41.7°\n",
      "Frame 586: Using pitch from current record: -44.2°\n",
      "Frame 587: Using pitch from current record: -41.7°\n",
      "Frame 588: Using pitch from current record: -41.7°\n",
      "Frame 589: Using pitch from current record: -41.7°\n",
      "Frame 590: Using pitch from current record: -41.7°\n",
      "Frame 591: Using pitch from current record: -43.3°\n",
      "\n",
      "🎉 DONE! Wrote 587 frames to exports/videos/2024-08-22_14-06-43_optimized_sync_withsonar_20240822_140646_152521+0200.mp4 @ 15.92 FPS\n",
      "Metadata saved to: exports/videos/2024-08-22_14-06-43_optimized_sync_withsonar_20240822_140646_152521+0200.mp4.meta.json\n",
      "\n",
      "✅ Video generated successfully!\n",
      "📁 Output: None\n",
      "Frame 590: Using pitch from current record: -41.7°\n",
      "Frame 591: Using pitch from current record: -43.3°\n",
      "\n",
      "🎉 DONE! Wrote 587 frames to exports/videos/2024-08-22_14-06-43_optimized_sync_withsonar_20240822_140646_152521+0200.mp4 @ 15.92 FPS\n",
      "Metadata saved to: exports/videos/2024-08-22_14-06-43_optimized_sync_withsonar_20240822_140646_152521+0200.mp4.meta.json\n",
      "\n",
      "✅ Video generated successfully!\n",
      "📁 Output: None\n"
     ]
    }
   ],
   "source": [
    "# 🎥 Generate Video with Both DVL and Sonar Analysis Overlays\n",
    "# ========================================================\n",
    "import utils.sonar_and_foto_generation as sg\n",
    "\n",
    "# Set up paths\n",
    "VIDEO_SEQ_DIR = None  # Set to path if you want camera footage included\n",
    "\n",
    "print(\"🎬 GENERATING VIDEO WITH DUAL NET DISTANCE OVERLAYS\")\n",
    "print(\"=\" * 60)\n",
    "print(f\"🎯 Target Bag: {TARGET_BAG}\")\n",
    "print(f\"📊 DVL Data: {len(raw_data.get('navigation', []))} records\")\n",
    "print(f\"📏 Sonar Analysis: {len(distance_results)} frames\")\n",
    "print(f\"🎥 Camera: {'enabled' if VIDEO_SEQ_DIR else 'disabled'}\")\n",
    "\n",
    "# Generate the video with both overlays\n",
    "try:\n",
    "    video_path = sg.export_optimized_sonar_video(\n",
    "        TARGET_BAG=TARGET_BAG,\n",
    "        EXPORTS_FOLDER=EXPORTS_FOLDER,\n",
    "        START_IDX=1,\n",
    "        END_IDX=1000,  # Adjust as needed\n",
    "        STRIDE=1,\n",
    "        VIDEO_SEQ_DIR=VIDEO_SEQ_DIR,\n",
    "        INCLUDE_NET=True,  # Enable DVL net distance overlay\n",
    "        SONAR_DISTANCE_RESULTS=distance_results,  # Enable sonar analysis overlay\n",
    "        NET_DISTANCE_TOLERANCE=0.5,\n",
    "        NET_PITCH_TOLERANCE=2.0,  # Increased from 0.3 to 2.0 seconds for better pitch sync\n",
    "    )\n",
    "    print(f\"\\n✅ Video generated successfully!\")\n",
    "    print(f\"📁 Output: {video_path}\")\n",
    "except Exception as e:\n",
    "    print(f\"❌ Error generating video: {e}\")"
   ]
  }
 ],
 "metadata": {
  "kernelspec": {
   "display_name": "venv",
   "language": "python",
   "name": "python3"
  },
  "language_info": {
   "codemirror_mode": {
    "name": "ipython",
    "version": 3
   },
   "file_extension": ".py",
   "mimetype": "text/x-python",
   "name": "python",
   "nbconvert_exporter": "python",
   "pygments_lexer": "ipython3",
   "version": "3.13.5"
  }
 },
 "nbformat": 4,
 "nbformat_minor": 5
}
