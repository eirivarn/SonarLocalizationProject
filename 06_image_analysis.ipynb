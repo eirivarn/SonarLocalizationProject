{
 "cells": [
  {
   "cell_type": "code",
   "execution_count": 1,
   "id": "7a8d02c0",
   "metadata": {},
   "outputs": [],
   "source": [
    "# Centralized sonar defaults (inserted by sweep)\n",
    "from utils.sonar_config import SONAR_VIS_DEFAULTS\n",
    "sonar_config = SONAR_VIS_DEFAULTS.copy()\n",
    "# Backwards-compatible variable names used in older notebooks\n",
    "RANGE_MIN_M = sonar_config['range_min_m']\n",
    "RANGE_MAX_M = sonar_config['range_max_m']\n",
    "DISPLAY_RANGE_MAX_M = sonar_config['display_range_max_m']"
   ]
  },
  {
   "cell_type": "code",
   "execution_count": 2,
   "id": "9fdf3a1e",
   "metadata": {},
   "outputs": [
    {
     "name": "stdout",
     "output_type": "stream",
     "text": [
      "🎛️  Current distance validation setting: True\n",
      "\n",
      "📋 Distance Validation Options:\n",
      "   ✅ use_distance_validation = True  → Filters negative/out-of-bounds distances\n",
      "   ⚠️  use_distance_validation = False → Raw distances (may have jumps/errors)\n",
      "\n",
      "🎯 Filter Description:\n",
      "   • Ensures distance is never negative\n",
      "   • Ensures distance is within image bounds (0 to image height)\n",
      "   • Uses last valid distance when current measurement is invalid\n",
      "   • Current setting: ENABLED\n"
     ]
    }
   ],
   "source": [
    "# 🔧 DISTANCE VALIDATION CONFIGURATION\n",
    "# ===================================\n",
    "# Configure the new distance validation filter\n",
    "\n",
    "from utils.sonar_config import IMAGE_PROCESSING_CONFIG\n",
    "\n",
    "print(f\"🎛️  Current distance validation setting: {IMAGE_PROCESSING_CONFIG.get('use_distance_validation', True)}\")\n",
    "\n",
    "# Option 1: Keep distance validation ON (default - filters invalid measurements)\n",
    "# IMAGE_PROCESSING_CONFIG['use_distance_validation'] = True\n",
    "\n",
    "# Option 2: Turn distance validation OFF (raw distances, may have jumps/errors)  \n",
    "# IMAGE_PROCESSING_CONFIG['use_distance_validation'] = False\n",
    "\n",
    "print(\"\\n📋 Distance Validation Options:\")\n",
    "print(\"   ✅ use_distance_validation = True  → Filters negative/out-of-bounds distances\")\n",
    "print(\"   ⚠️  use_distance_validation = False → Raw distances (may have jumps/errors)\")\n",
    "print(f\"\\n🎯 Filter Description:\")\n",
    "print(\"   • Ensures distance is never negative\")\n",
    "print(\"   • Ensures distance is within image bounds (0 to image height)\")\n",
    "print(\"   • Uses last valid distance when current measurement is invalid\")\n",
    "print(f\"   • Current setting: {'ENABLED' if IMAGE_PROCESSING_CONFIG.get('use_distance_validation', True) else 'DISABLED'}\")"
   ]
  },
  {
   "cell_type": "code",
   "execution_count": 3,
   "id": "84bc0ad4",
   "metadata": {},
   "outputs": [
    {
     "name": "stdout",
     "output_type": "stream",
     "text": [
      "🎛️  ELLIPSE SMOOTHING PARAMETERS:\n",
      "   ellipse_smoothing_alpha: 0.3\n",
      "   ellipse_max_movement_pixels: 8.0\n",
      "\n",
      "🔧 TUNING GUIDELINES:\n",
      "   ellipse_smoothing_alpha (0.0-1.0):\n",
      "      ↓ Lower (0.1) = Very smooth, slow to adapt to movement\n",
      "      ↑ Higher (0.5) = More responsive, but may be jittery\n",
      "   ellipse_max_movement_pixels:\n",
      "      ↓ Lower (2.0) = Prevents jumping, very stable tracking\n",
      "      ↑ Higher (8.0) = Allows faster movement, may jump to noise\n",
      "\n",
      "🎯 Current behavior:\n",
      "   Smoothing: Medium\n",
      "   Movement limit: 8.0 pixels per frame\n"
     ]
    }
   ],
   "source": [
    "# 🎯 ELLIPSE TRACKING SMOOTHNESS CONFIGURATION\n",
    "# ============================================\n",
    "# Configure ellipse movement smoothing to prevent jumping/flickering\n",
    "\n",
    "from utils.sonar_config import TRACKING_CONFIG\n",
    "\n",
    "print(\"🎛️  ELLIPSE SMOOTHING PARAMETERS:\")\n",
    "print(f\"   ellipse_smoothing_alpha: {TRACKING_CONFIG.get('ellipse_smoothing_alpha', 0.2)}\")\n",
    "print(f\"   ellipse_max_movement_pixels: {TRACKING_CONFIG.get('ellipse_max_movement_pixels', 4.0)}\")\n",
    "\n",
    "print(\"\\n🔧 TUNING GUIDELINES:\")\n",
    "print(\"   ellipse_smoothing_alpha (0.0-1.0):\")\n",
    "print(\"      ↓ Lower (0.1) = Very smooth, slow to adapt to movement\")  \n",
    "print(\"      ↑ Higher (0.5) = More responsive, but may be jittery\")\n",
    "print(\"   ellipse_max_movement_pixels:\")\n",
    "print(\"      ↓ Lower (2.0) = Prevents jumping, very stable tracking\")\n",
    "print(\"      ↑ Higher (8.0) = Allows faster movement, may jump to noise\")\n",
    "\n",
    "# OPTIONAL: Adjust parameters for smoother tracking\n",
    "# TRACKING_CONFIG['ellipse_smoothing_alpha'] = 0.15  # Smoother movement\n",
    "# TRACKING_CONFIG['ellipse_max_movement_pixels'] = 3.0  # Limit jump distance\n",
    "\n",
    "print(f\"\\n🎯 Current behavior:\")\n",
    "print(f\"   Smoothing: {'Low (very smooth)' if TRACKING_CONFIG.get('ellipse_smoothing_alpha', 0.2) < 0.2 else 'Medium' if TRACKING_CONFIG.get('ellipse_smoothing_alpha', 0.2) < 0.4 else 'High (responsive)'}\")\n",
    "print(f\"   Movement limit: {TRACKING_CONFIG.get('ellipse_max_movement_pixels', 4.0)} pixels per frame\")"
   ]
  },
  {
   "cell_type": "markdown",
   "id": "9220eb1d",
   "metadata": {},
   "source": [
    "# Simple Image Analysis with CV2\n",
    "\n",
    "This notebook demonstrates:\n",
    "1. **Pick a frame** from NPZ files and save it locally\n",
    "2. **Use standard cv2 functions** directly for image processing\n",
    "3. **Experiment** with different OpenCV operations"
   ]
  },
  {
   "cell_type": "code",
   "execution_count": 4,
   "id": "4b3e8f46",
   "metadata": {},
   "outputs": [
    {
     "name": "stdout",
     "output_type": "stream",
     "text": [
      "Using DATA_DIR = /Volumes/LaCie/SOLAQUA/raw_data\n",
      "Selected NPZ file: 2024-08-20_14-31-29_data_cones.npz (index=8)\n"
     ]
    }
   ],
   "source": [
    "from pathlib import Path\n",
    "import utils.sonar_image_analysis as iau\n",
    "\n",
    "\n",
    "# Prefer selecting by bag ID (part of the NPZ filename) instead of a numeric index.\n",
    "# Set TARGET_BAG to a substring that appears in the NPZ filename (e.g. '2024-08-22_14-29-05')\n",
    "# '2024-08-22_14-47-39'\n",
    "# '2024-08-22_14-29-05'\n",
    "# '2024-08-20_14-31-29' HARD\n",
    "TARGET_BAG = '2024-08-20_14-31-29'  # change this to your desired bag ID\n",
    "from utils.sonar_config import EXPORTS_DIR_DEFAULT, EXPORTS_SUBDIRS\n",
    "EXPORTS_FOLDER = Path(EXPORTS_DIR_DEFAULT)\n",
    "\n",
    "# If you keep your raw .bag files or raw data on an external drive, point DATA_DIR there.\n",
    "# Example (your external disk): /Volumes/LaCie/SOLAQUA/raw_data\n",
    "DATA_DIR = Path(\"/Volumes/LaCie/SOLAQUA/raw_data\")\n",
    "print(f\"Using DATA_DIR = {DATA_DIR}\")\n",
    "\n",
    "# Find NPZ files and pick the one matching TARGET_BAG\n",
    "files = iau.get_available_npz_files()\n",
    "if not files:\n",
    "    raise FileNotFoundError(f\"No NPZ files found in configured exports outputs (looked under {EXPORTS_FOLDER / EXPORTS_SUBDIRS.get('outputs','outputs')})\")\n",
    "matches = [p for p in files if TARGET_BAG in p.name]\n",
    "if not matches:\n",
    "    # Help the user by listing available NPZ files\n",
    "    print(f'No NPZ file matched TARGET_BAG={TARGET_BAG!r}')\n",
    "    print('Available NPZ files:')\n",
    "    for i,p in enumerate(files):\n",
    "        print(f'  {i}: {p.name}')\n",
    "    raise ValueError(f'No NPZ file contains \"{TARGET_BAG}\" in its name')\n",
    "\n",
    "# If multiple matches, choose the most recently modified one\n",
    "selected = max(matches, key=lambda p: p.stat().st_mtime)\n",
    "NPZ_FILE_INDEX = files.index(selected)\n",
    "print(f'Selected NPZ file: {selected.name} (index={NPZ_FILE_INDEX})')"
   ]
  },
  {
   "cell_type": "markdown",
   "id": "0c65358c",
   "metadata": {},
   "source": [
    "## Distance Analysis Over Time\n",
    "\n",
    "Now let's perform a comprehensive analysis of the red line distance over time. The red line represents the major axis of the detected elongated contour (likely a fishing net), and we'll track how this distance changes throughout the video sequence."
   ]
  },
  {
   "cell_type": "code",
   "execution_count": 5,
   "id": "d9c0382e",
   "metadata": {},
   "outputs": [
    {
     "name": "stdout",
     "output_type": "stream",
     "text": [
      "=== DISTANCE ANALYSIS FROM NPZ ===\n",
      "Analyzing: /Volumes/LaCie/SOLAQUA/exports/outputs/2024-08-20_14-31-29_data_cones.npz\n",
      "Processing 1059 frames from 1 (step=1)\n",
      "Processing 1059 frames from 1 (step=1)\n",
      "  Processed 50/1059 frames (Success rate: 100.0%)\n",
      "  Processed 50/1059 frames (Success rate: 100.0%)\n",
      "  Processed 100/1059 frames (Success rate: 100.0%)\n",
      "  Processed 100/1059 frames (Success rate: 100.0%)\n",
      "  Processed 150/1059 frames (Success rate: 100.0%)\n",
      "  Processed 150/1059 frames (Success rate: 100.0%)\n",
      "  Processed 200/1059 frames (Success rate: 100.0%)\n",
      "  Processed 200/1059 frames (Success rate: 100.0%)\n",
      "  Processed 250/1059 frames (Success rate: 100.0%)\n",
      "  Processed 250/1059 frames (Success rate: 100.0%)\n",
      "  Processed 300/1059 frames (Success rate: 100.0%)\n",
      "  Processed 300/1059 frames (Success rate: 100.0%)\n",
      "  Processed 350/1059 frames (Success rate: 100.0%)\n",
      "  Processed 350/1059 frames (Success rate: 100.0%)\n",
      "  Processed 400/1059 frames (Success rate: 100.0%)\n",
      "  Processed 400/1059 frames (Success rate: 100.0%)\n",
      "  Processed 450/1059 frames (Success rate: 100.0%)\n",
      "  Processed 450/1059 frames (Success rate: 100.0%)\n",
      "  Processed 500/1059 frames (Success rate: 100.0%)\n",
      "  Processed 500/1059 frames (Success rate: 100.0%)\n",
      "  Processed 550/1059 frames (Success rate: 100.0%)\n",
      "  Processed 550/1059 frames (Success rate: 100.0%)\n",
      "  Processed 600/1059 frames (Success rate: 100.0%)\n",
      "  Processed 600/1059 frames (Success rate: 100.0%)\n",
      "  Processed 650/1059 frames (Success rate: 100.0%)\n",
      "  Processed 650/1059 frames (Success rate: 100.0%)\n",
      "  Processed 700/1059 frames (Success rate: 100.0%)\n",
      "  Processed 700/1059 frames (Success rate: 100.0%)\n",
      "  Processed 750/1059 frames (Success rate: 100.0%)\n",
      "  Processed 750/1059 frames (Success rate: 100.0%)\n",
      "  Processed 800/1059 frames (Success rate: 100.0%)\n",
      "  Processed 800/1059 frames (Success rate: 100.0%)\n",
      "  Processed 850/1059 frames (Success rate: 100.0%)\n",
      "  Processed 850/1059 frames (Success rate: 100.0%)\n",
      "  Processed 900/1059 frames (Success rate: 100.0%)\n",
      "  Processed 900/1059 frames (Success rate: 100.0%)\n",
      "  Processed 950/1059 frames (Success rate: 100.0%)\n",
      "  Processed 950/1059 frames (Success rate: 100.0%)\n",
      "  Processed 1000/1059 frames (Success rate: 100.0%)\n",
      "  Processed 1000/1059 frames (Success rate: 100.0%)\n",
      "  Processed 1050/1059 frames (Success rate: 100.0%)\n",
      "\n",
      "=== ANALYSIS COMPLETE ===\n",
      "Total frames processed: 1059\n",
      "Successful detections: 1059 (100.0%)\n",
      "Distance statistics (meters):\n",
      "  - Mean: 2.043\n",
      "  - Std:  0.334\n",
      "  - Min:  1.503\n",
      "  - Max:  3.119\n",
      "  - Range: 1.615\n",
      "✅ Analyzed 1059 frames using elliptical AOI\n",
      "🎯 Detection success rate: 100.0%\n",
      "📊 Elliptical tracking active: 1059 frames\n",
      "  Processed 1050/1059 frames (Success rate: 100.0%)\n",
      "\n",
      "=== ANALYSIS COMPLETE ===\n",
      "Total frames processed: 1059\n",
      "Successful detections: 1059 (100.0%)\n",
      "Distance statistics (meters):\n",
      "  - Mean: 2.043\n",
      "  - Std:  0.334\n",
      "  - Min:  1.503\n",
      "  - Max:  3.119\n",
      "  - Range: 1.615\n",
      "✅ Analyzed 1059 frames using elliptical AOI\n",
      "🎯 Detection success rate: 100.0%\n",
      "📊 Elliptical tracking active: 1059 frames\n"
     ]
    }
   ],
   "source": [
    "# Now using the NEW unified SonarDataProcessor with elliptical AOI support!\n",
    "# This gives us much better net tracking compared to the old rectangular AOI\n",
    "\n",
    "# First reload the module to get the latest elliptical AOI changes\n",
    "import importlib\n",
    "importlib.reload(iau)\n",
    "\n",
    "# Create the unified processor\n",
    "processor = iau.SonarDataProcessor()\n",
    "\n",
    "# Use the new Distance Analysis Engine with elliptical AOI\n",
    "engine = iau.DistanceAnalysisEngine()\n",
    "distance_results = engine.analyze_npz_sequence(\n",
    "    npz_file_index=NPZ_FILE_INDEX,    \n",
    "    frame_start=1,        # Start from frame 1\n",
    "    frame_count=1500,      # Analyze all frames from the video\n",
    "    frame_step=1          # Every frame\n",
    ")\n",
    "\n",
    "print(f\"✅ Analyzed {len(distance_results)} frames using elliptical AOI\")\n",
    "print(f\"🎯 Detection success rate: {distance_results['detection_success'].mean():.1%}\")\n",
    "print(f\"📊 Elliptical tracking active: {(distance_results['tracking_status'].str.contains('ELLIPSE')).sum()} frames\")"
   ]
  },
  {
   "cell_type": "code",
   "execution_count": 6,
   "id": "b9c5da85",
   "metadata": {},
   "outputs": [
    {
     "name": "stdout",
     "output_type": "stream",
     "text": [
      "=== ENHANCED ELLIPTICAL AOI VIDEO CREATION ===\n",
      "Creating video with elliptical AOI tracking...\n",
      "Frames: 1500, step: 1\n",
      "✅ Processing 1059 frames with elliptical AOI...\n",
      "✅ Processing 1059 frames with elliptical AOI...\n",
      "Processed 10/1059 frames | Ellipse tracking: 0\n",
      "Processed 10/1059 frames | Ellipse tracking: 0\n",
      "Processed 20/1059 frames | Ellipse tracking: 0\n",
      "Processed 20/1059 frames | Ellipse tracking: 0\n",
      "Processed 30/1059 frames | Ellipse tracking: 0\n",
      "Processed 30/1059 frames | Ellipse tracking: 0\n",
      "Processed 40/1059 frames | Ellipse tracking: 0\n",
      "Processed 40/1059 frames | Ellipse tracking: 0\n",
      "Processed 50/1059 frames | Ellipse tracking: 0\n",
      "Processed 50/1059 frames | Ellipse tracking: 0\n",
      "Processed 60/1059 frames | Ellipse tracking: 0\n",
      "Processed 60/1059 frames | Ellipse tracking: 0\n",
      "Processed 70/1059 frames | Ellipse tracking: 0\n",
      "Processed 70/1059 frames | Ellipse tracking: 0\n",
      "Processed 80/1059 frames | Ellipse tracking: 0\n",
      "Processed 80/1059 frames | Ellipse tracking: 0\n",
      "Processed 90/1059 frames | Ellipse tracking: 0\n",
      "Processed 90/1059 frames | Ellipse tracking: 0\n",
      "Processed 100/1059 frames | Ellipse tracking: 0\n",
      "Processed 100/1059 frames | Ellipse tracking: 0\n",
      "Processed 110/1059 frames | Ellipse tracking: 0\n",
      "Processed 110/1059 frames | Ellipse tracking: 0\n",
      "Processed 120/1059 frames | Ellipse tracking: 0\n",
      "Processed 120/1059 frames | Ellipse tracking: 0\n",
      "Processed 130/1059 frames | Ellipse tracking: 0\n",
      "Processed 130/1059 frames | Ellipse tracking: 0\n",
      "Processed 140/1059 frames | Ellipse tracking: 0\n",
      "Processed 140/1059 frames | Ellipse tracking: 0\n",
      "Processed 150/1059 frames | Ellipse tracking: 0\n",
      "Processed 150/1059 frames | Ellipse tracking: 0\n",
      "Processed 160/1059 frames | Ellipse tracking: 0\n",
      "Processed 160/1059 frames | Ellipse tracking: 0\n",
      "Processed 170/1059 frames | Ellipse tracking: 0\n",
      "Processed 170/1059 frames | Ellipse tracking: 0\n",
      "Processed 180/1059 frames | Ellipse tracking: 0\n",
      "Processed 180/1059 frames | Ellipse tracking: 0\n",
      "Processed 190/1059 frames | Ellipse tracking: 0\n",
      "Processed 190/1059 frames | Ellipse tracking: 0\n",
      "Processed 200/1059 frames | Ellipse tracking: 0\n",
      "Processed 200/1059 frames | Ellipse tracking: 0\n",
      "Processed 210/1059 frames | Ellipse tracking: 0\n",
      "Processed 210/1059 frames | Ellipse tracking: 0\n",
      "Processed 220/1059 frames | Ellipse tracking: 0\n",
      "Processed 220/1059 frames | Ellipse tracking: 0\n",
      "Processed 230/1059 frames | Ellipse tracking: 0\n",
      "Processed 230/1059 frames | Ellipse tracking: 0\n",
      "Processed 240/1059 frames | Ellipse tracking: 0\n",
      "Processed 240/1059 frames | Ellipse tracking: 0\n",
      "Processed 250/1059 frames | Ellipse tracking: 0\n",
      "Processed 250/1059 frames | Ellipse tracking: 0\n",
      "Processed 260/1059 frames | Ellipse tracking: 0\n",
      "Processed 260/1059 frames | Ellipse tracking: 0\n",
      "Processed 270/1059 frames | Ellipse tracking: 0\n",
      "Processed 270/1059 frames | Ellipse tracking: 0\n",
      "Processed 280/1059 frames | Ellipse tracking: 0\n",
      "Processed 280/1059 frames | Ellipse tracking: 0\n",
      "Processed 290/1059 frames | Ellipse tracking: 0\n",
      "Processed 290/1059 frames | Ellipse tracking: 0\n",
      "Processed 300/1059 frames | Ellipse tracking: 0\n",
      "Processed 300/1059 frames | Ellipse tracking: 0\n",
      "Processed 310/1059 frames | Ellipse tracking: 0\n",
      "Processed 310/1059 frames | Ellipse tracking: 0\n",
      "Processed 320/1059 frames | Ellipse tracking: 0\n",
      "Processed 320/1059 frames | Ellipse tracking: 0\n",
      "Processed 330/1059 frames | Ellipse tracking: 0\n",
      "Processed 330/1059 frames | Ellipse tracking: 0\n",
      "Processed 340/1059 frames | Ellipse tracking: 0\n",
      "Processed 340/1059 frames | Ellipse tracking: 0\n",
      "Processed 350/1059 frames | Ellipse tracking: 0\n",
      "Processed 350/1059 frames | Ellipse tracking: 0\n",
      "Processed 360/1059 frames | Ellipse tracking: 0\n",
      "Processed 360/1059 frames | Ellipse tracking: 0\n",
      "Processed 370/1059 frames | Ellipse tracking: 0\n",
      "Processed 370/1059 frames | Ellipse tracking: 0\n",
      "Processed 380/1059 frames | Ellipse tracking: 0\n",
      "Processed 380/1059 frames | Ellipse tracking: 0\n",
      "Processed 390/1059 frames | Ellipse tracking: 0\n",
      "Processed 390/1059 frames | Ellipse tracking: 0\n",
      "Processed 400/1059 frames | Ellipse tracking: 0\n",
      "Processed 400/1059 frames | Ellipse tracking: 0\n",
      "Processed 410/1059 frames | Ellipse tracking: 0\n",
      "Processed 410/1059 frames | Ellipse tracking: 0\n",
      "Processed 420/1059 frames | Ellipse tracking: 0\n",
      "Processed 420/1059 frames | Ellipse tracking: 0\n",
      "Processed 430/1059 frames | Ellipse tracking: 0\n",
      "Processed 430/1059 frames | Ellipse tracking: 0\n",
      "Processed 440/1059 frames | Ellipse tracking: 0\n",
      "Processed 440/1059 frames | Ellipse tracking: 0\n",
      "Processed 450/1059 frames | Ellipse tracking: 0\n",
      "Processed 450/1059 frames | Ellipse tracking: 0\n",
      "Processed 460/1059 frames | Ellipse tracking: 0\n",
      "Processed 460/1059 frames | Ellipse tracking: 0\n",
      "Processed 470/1059 frames | Ellipse tracking: 0\n",
      "Processed 470/1059 frames | Ellipse tracking: 0\n",
      "Processed 480/1059 frames | Ellipse tracking: 0\n",
      "Processed 480/1059 frames | Ellipse tracking: 0\n",
      "Processed 490/1059 frames | Ellipse tracking: 0\n",
      "Processed 490/1059 frames | Ellipse tracking: 0\n",
      "Processed 500/1059 frames | Ellipse tracking: 0\n",
      "Processed 500/1059 frames | Ellipse tracking: 0\n",
      "Processed 510/1059 frames | Ellipse tracking: 0\n",
      "Processed 510/1059 frames | Ellipse tracking: 0\n",
      "Processed 520/1059 frames | Ellipse tracking: 0\n",
      "Processed 520/1059 frames | Ellipse tracking: 0\n",
      "Processed 530/1059 frames | Ellipse tracking: 0\n",
      "Processed 530/1059 frames | Ellipse tracking: 0\n",
      "Processed 540/1059 frames | Ellipse tracking: 0\n",
      "Processed 540/1059 frames | Ellipse tracking: 0\n",
      "Processed 550/1059 frames | Ellipse tracking: 0\n",
      "Processed 550/1059 frames | Ellipse tracking: 0\n",
      "Processed 560/1059 frames | Ellipse tracking: 0\n",
      "Processed 560/1059 frames | Ellipse tracking: 0\n",
      "Processed 570/1059 frames | Ellipse tracking: 0\n",
      "Processed 570/1059 frames | Ellipse tracking: 0\n",
      "Processed 580/1059 frames | Ellipse tracking: 0\n",
      "Processed 580/1059 frames | Ellipse tracking: 0\n",
      "Processed 590/1059 frames | Ellipse tracking: 0\n",
      "Processed 590/1059 frames | Ellipse tracking: 0\n",
      "Processed 600/1059 frames | Ellipse tracking: 0\n",
      "Processed 600/1059 frames | Ellipse tracking: 0\n",
      "Processed 610/1059 frames | Ellipse tracking: 0\n",
      "Processed 610/1059 frames | Ellipse tracking: 0\n",
      "Processed 620/1059 frames | Ellipse tracking: 0\n",
      "Processed 620/1059 frames | Ellipse tracking: 0\n",
      "Processed 630/1059 frames | Ellipse tracking: 0\n",
      "Processed 630/1059 frames | Ellipse tracking: 0\n",
      "Processed 640/1059 frames | Ellipse tracking: 0\n",
      "Processed 640/1059 frames | Ellipse tracking: 0\n",
      "Processed 650/1059 frames | Ellipse tracking: 0\n",
      "Processed 650/1059 frames | Ellipse tracking: 0\n",
      "Processed 660/1059 frames | Ellipse tracking: 0\n",
      "Processed 660/1059 frames | Ellipse tracking: 0\n",
      "Processed 670/1059 frames | Ellipse tracking: 0\n",
      "Processed 670/1059 frames | Ellipse tracking: 0\n",
      "Processed 680/1059 frames | Ellipse tracking: 0\n",
      "Processed 680/1059 frames | Ellipse tracking: 0\n",
      "Processed 690/1059 frames | Ellipse tracking: 0\n",
      "Processed 690/1059 frames | Ellipse tracking: 0\n",
      "Processed 700/1059 frames | Ellipse tracking: 0\n",
      "Processed 700/1059 frames | Ellipse tracking: 0\n",
      "Processed 710/1059 frames | Ellipse tracking: 0\n",
      "Processed 710/1059 frames | Ellipse tracking: 0\n",
      "Processed 720/1059 frames | Ellipse tracking: 0\n",
      "Processed 720/1059 frames | Ellipse tracking: 0\n",
      "Processed 730/1059 frames | Ellipse tracking: 0\n",
      "Processed 730/1059 frames | Ellipse tracking: 0\n",
      "Processed 740/1059 frames | Ellipse tracking: 0\n",
      "Processed 740/1059 frames | Ellipse tracking: 0\n",
      "Processed 750/1059 frames | Ellipse tracking: 0\n",
      "Processed 750/1059 frames | Ellipse tracking: 0\n",
      "Processed 760/1059 frames | Ellipse tracking: 0\n",
      "Processed 760/1059 frames | Ellipse tracking: 0\n",
      "Processed 770/1059 frames | Ellipse tracking: 0\n",
      "Processed 770/1059 frames | Ellipse tracking: 0\n",
      "Processed 780/1059 frames | Ellipse tracking: 0\n",
      "Processed 780/1059 frames | Ellipse tracking: 0\n",
      "Processed 790/1059 frames | Ellipse tracking: 0\n",
      "Processed 790/1059 frames | Ellipse tracking: 0\n",
      "Processed 800/1059 frames | Ellipse tracking: 0\n",
      "Processed 800/1059 frames | Ellipse tracking: 0\n",
      "Processed 810/1059 frames | Ellipse tracking: 0\n",
      "Processed 810/1059 frames | Ellipse tracking: 0\n",
      "Processed 820/1059 frames | Ellipse tracking: 0\n",
      "Processed 820/1059 frames | Ellipse tracking: 0\n",
      "Processed 830/1059 frames | Ellipse tracking: 0\n",
      "Processed 830/1059 frames | Ellipse tracking: 0\n",
      "Processed 840/1059 frames | Ellipse tracking: 0\n",
      "Processed 840/1059 frames | Ellipse tracking: 0\n",
      "Processed 850/1059 frames | Ellipse tracking: 0\n",
      "Processed 850/1059 frames | Ellipse tracking: 0\n",
      "Processed 860/1059 frames | Ellipse tracking: 0\n",
      "Processed 860/1059 frames | Ellipse tracking: 0\n",
      "Processed 870/1059 frames | Ellipse tracking: 0\n",
      "Processed 870/1059 frames | Ellipse tracking: 0\n",
      "Processed 880/1059 frames | Ellipse tracking: 0\n",
      "Processed 880/1059 frames | Ellipse tracking: 0\n",
      "Processed 890/1059 frames | Ellipse tracking: 0\n",
      "Processed 890/1059 frames | Ellipse tracking: 0\n",
      "Processed 900/1059 frames | Ellipse tracking: 0\n",
      "Processed 900/1059 frames | Ellipse tracking: 0\n",
      "Processed 910/1059 frames | Ellipse tracking: 0\n",
      "Processed 910/1059 frames | Ellipse tracking: 0\n",
      "Processed 920/1059 frames | Ellipse tracking: 0\n",
      "Processed 920/1059 frames | Ellipse tracking: 0\n",
      "Processed 930/1059 frames | Ellipse tracking: 0\n",
      "Processed 930/1059 frames | Ellipse tracking: 0\n",
      "Processed 940/1059 frames | Ellipse tracking: 0\n",
      "Processed 940/1059 frames | Ellipse tracking: 0\n",
      "Processed 950/1059 frames | Ellipse tracking: 0\n",
      "Processed 950/1059 frames | Ellipse tracking: 0\n",
      "Processed 960/1059 frames | Ellipse tracking: 0\n",
      "Processed 960/1059 frames | Ellipse tracking: 0\n",
      "Processed 970/1059 frames | Ellipse tracking: 0\n",
      "Processed 970/1059 frames | Ellipse tracking: 0\n",
      "Processed 980/1059 frames | Ellipse tracking: 0\n",
      "Processed 980/1059 frames | Ellipse tracking: 0\n",
      "Processed 990/1059 frames | Ellipse tracking: 0\n",
      "Processed 990/1059 frames | Ellipse tracking: 0\n",
      "Processed 1000/1059 frames | Ellipse tracking: 0\n",
      "Processed 1000/1059 frames | Ellipse tracking: 0\n",
      "Processed 1010/1059 frames | Ellipse tracking: 0\n",
      "Processed 1010/1059 frames | Ellipse tracking: 0\n",
      "Processed 1020/1059 frames | Ellipse tracking: 0\n",
      "Processed 1020/1059 frames | Ellipse tracking: 0\n",
      "Processed 1030/1059 frames | Ellipse tracking: 0\n",
      "Processed 1030/1059 frames | Ellipse tracking: 0\n",
      "Processed 1040/1059 frames | Ellipse tracking: 0\n",
      "Processed 1040/1059 frames | Ellipse tracking: 0\n",
      "Processed 1050/1059 frames | Ellipse tracking: 0\n",
      "Processed 1050/1059 frames | Ellipse tracking: 0\n",
      "\n",
      "=== ENHANCED VIDEO CREATION COMPLETE ===\n",
      "Video saved to: /Volumes/LaCie/SOLAQUA/exports/videos/elliptical_aoi_tracking.mp4\n",
      "Video specs: 900x700, 15 fps, 1059 frames\n",
      "🟢 ELLIPTICAL AOI TRACKING STATS:\n",
      "  - Total detected frames: 0\n",
      "  - Ellipse-guided frames: 0\n",
      "  - Ellipse effectiveness: 0.0%\n",
      "  - Lost/searching frames: 1059\n",
      "✅ Video created with ELLIPTICAL AOI visualization!\n",
      "🎯 The AOI should now appear as a yellow ELLIPSE that smoothly tracks the net\n",
      "📁 Video saved to: /Volumes/LaCie/SOLAQUA/exports/videos/elliptical_aoi_tracking.mp4\n",
      "\n",
      "=== ENHANCED VIDEO CREATION COMPLETE ===\n",
      "Video saved to: /Volumes/LaCie/SOLAQUA/exports/videos/elliptical_aoi_tracking.mp4\n",
      "Video specs: 900x700, 15 fps, 1059 frames\n",
      "🟢 ELLIPTICAL AOI TRACKING STATS:\n",
      "  - Total detected frames: 0\n",
      "  - Ellipse-guided frames: 0\n",
      "  - Ellipse effectiveness: 0.0%\n",
      "  - Lost/searching frames: 1059\n",
      "✅ Video created with ELLIPTICAL AOI visualization!\n",
      "🎯 The AOI should now appear as a yellow ELLIPSE that smoothly tracks the net\n",
      "📁 Video saved to: /Volumes/LaCie/SOLAQUA/exports/videos/elliptical_aoi_tracking.mp4\n"
     ]
    }
   ],
   "source": [
    "# Create video using the CORE simplified processor with ELLIPTICAL AOI\n",
    "# This will now show the yellow ELLIPTICAL AOI instead of rectangular!\n",
    "\n",
    "# Use the enhanced video creation with CORE processor\n",
    "video_path = iau.create_enhanced_contour_detection_video_with_processor(\n",
    "    npz_file_index=NPZ_FILE_INDEX,          # Which NPZ file to use\n",
    "    frame_start=1,           # Starting frame\n",
    "    frame_count=1500,         # Start with 1500 frames for testing\n",
    "    frame_step=1,            # Step between frames\n",
    "    output_path=Path(EXPORTS_DIR_DEFAULT) / EXPORTS_SUBDIRS.get('videos','videos') / 'elliptical_aoi_tracking.mp4',\n",
    "    processor=processor      # Use our CORE processor with ellipse tracking\n",
    ")\n",
    "\n",
    "print(f\"✅ Video created with ELLIPTICAL AOI visualization!\")\n",
    "print(f\"🎯 The AOI should now appear as a yellow ELLIPSE that smoothly tracks the net\")\n",
    "print(f\"📁 Video saved to: {video_path}\")"
   ]
  },
  {
   "cell_type": "markdown",
   "id": "21e94325",
   "metadata": {},
   "source": [
    "## 🎯 Elliptical AOI Visualization\n",
    "\n",
    "The AOI (Area of Interest) has been updated to use **elliptical tracking** instead of rectangular:\n",
    "\n",
    "### What you'll see in the video:\n",
    "- **Yellow Ellipse**: The elliptical AOI that tracks the net contour\n",
    "- **Magenta Ellipse**: The fitted ellipse around the best detected contour  \n",
    "- **Red Line**: The major axis of the detected net (90° rotated)\n",
    "- **Green Contour**: The best detected net contour\n",
    "- **Blue Dot**: Intersection with center beam for distance measurement\n",
    "\n",
    "### Key Improvements:\n",
    "1. **Smooth Movement**: Ellipse uses exponential smoothing to prevent jumping\n",
    "2. **Better Shape Matching**: Elliptical AOI better matches elongated net shape\n",
    "3. **More Restrictive**: Elliptical area excludes more non-net pixels than rectangular\n",
    "4. **Adaptive**: AOI adapts to the net's actual shape and orientation"
   ]
  },
  {
   "cell_type": "markdown",
   "id": "fede9d64",
   "metadata": {},
   "source": [
    "## Convert to Real-World Distances\n",
    "\n",
    "Now let's convert the pixel distances to real-world distances using the fact that the entire sonar image represents a 10x10 meter area."
   ]
  },
  {
   "cell_type": "code",
   "execution_count": 7,
   "id": "886897de",
   "metadata": {},
   "outputs": [
    {
     "name": "stdout",
     "output_type": "stream",
     "text": [
      "Detected NPZ extent: x=[-8.660,8.660] m, y=[0.000,10.000] m\n",
      "Image shape from NPZ: H=700, W=900\n",
      "meters/pixel: x=0.019245, y=0.014286, avg=0.016765\n",
      "Using pixels_to_meters_avg = 0.016765 m/px\n"
     ]
    }
   ],
   "source": [
    "# Auto-detect pixel->meter mapping from the selected NPZ (if available)\n",
    "try:\n",
    "    cones, ts, extent, meta = iau.load_cone_run_npz(selected)\n",
    "    T, H, W = cones.shape\n",
    "    x_min, x_max, y_min, y_max = extent\n",
    "    width_m = float(x_max - x_min)\n",
    "    height_m = float(y_max - y_min)\n",
    "    px2m_x = width_m / float(W)\n",
    "    px2m_y = height_m / float(H)\n",
    "    pixels_to_meters_avg = 0.5 * (px2m_x + px2m_y)\n",
    "    image_shape = (H, W)\n",
    "    sonar_coverage_meters = max(width_m, height_m)\n",
    "    print(f\"Detected NPZ extent: x=[{x_min:.3f},{x_max:.3f}] m, y=[{y_min:.3f},{y_max:.3f}] m\")\n",
    "    print(f\"Image shape from NPZ: H={H}, W={W}\")\n",
    "    print(f\"meters/pixel: x={px2m_x:.6f}, y={px2m_y:.6f}, avg={pixels_to_meters_avg:.6f}\")\n",
    "except Exception as e:\n",
    "    print(\"Could not read NPZ metadata:\", e)\n",
    "    print(\"Falling back to defaults from sonar_config.\")\n",
    "    from utils.sonar_config import CONE_H_DEFAULT, CONE_W_DEFAULT, DISPLAY_RANGE_MAX_M_DEFAULT\n",
    "    image_shape = (CONE_H_DEFAULT, CONE_W_DEFAULT)\n",
    "    sonar_coverage_meters = DISPLAY_RANGE_MAX_M_DEFAULT * 2  # approximate\n",
    "    pixels_to_meters_avg = sonar_coverage_meters / max(image_shape)\n",
    "    \n",
    "# Use the computed pixels_to_meters_avg in downstream analysis\n",
    "print(f\"Using pixels_to_meters_avg = {pixels_to_meters_avg:.6f} m/px\")"
   ]
  },
  {
   "cell_type": "code",
   "execution_count": 8,
   "id": "15d6238c",
   "metadata": {},
   "outputs": [
    {
     "data": {
      "application/vnd.plotly.v1+json": {
       "config": {
        "plotlyServerURL": "https://plot.ly"
       },
       "data": [
        {
         "line": {
          "color": "blue"
         },
         "mode": "lines+markers",
         "name": "Distance",
         "type": "scatter",
         "x": {
          "bdata": "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",
          "dtype": "i2"
         },
         "xaxis": "x",
         "y": {
          "bdata": "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",
          "dtype": "f8"
         },
         "yaxis": "y"
        },
        {
         "line": {
          "color": "green"
         },
         "mode": "lines+markers",
         "name": "Distance over Time",
         "type": "scatter",
         "x": [
          "2024-08-20T12:31:31.621807575",
          "2024-08-20T12:31:31.681648731",
          "2024-08-20T12:31:31.742511034",
          "2024-08-20T12:31:31.818883181",
          "2024-08-20T12:31:31.874155045",
          "2024-08-20T12:31:31.937494755",
          "2024-08-20T12:31:31.999329090",
          "2024-08-20T12:31:32.063158035",
          "2024-08-20T12:31:32.130053520",
          "2024-08-20T12:31:32.191398144",
          "2024-08-20T12:31:32.254230738",
          "2024-08-20T12:31:32.318058729",
          "2024-08-20T12:31:32.395849943",
          "2024-08-20T12:31:32.445717096",
          "2024-08-20T12:31:32.511543512",
          "2024-08-20T12:31:32.576503515",
          "2024-08-20T12:31:32.637341022",
          "2024-08-20T12:31:32.702203035",
          "2024-08-20T12:31:32.768987656",
          "2024-08-20T12:31:32.829861403",
          "2024-08-20T12:31:32.894687653",
          "2024-08-20T12:31:32.962601185",
          "2024-08-20T12:31:33.025435448",
          "2024-08-20T12:31:33.088264227",
          "2024-08-20T12:31:33.151147127",
          "2024-08-20T12:31:33.218916655",
          "2024-08-20T12:31:33.280750036",
          "2024-08-20T12:31:33.342585087",
          "2024-08-20T12:31:33.407411814",
          "2024-08-20T12:31:33.484754801",
          "2024-08-20T12:31:33.533624887",
          "2024-08-20T12:31:33.610753059",
          "2024-08-20T12:31:33.671589851",
          "2024-08-20T12:31:33.730820179",
          "2024-08-20T12:31:33.790660143",
          "2024-08-20T12:31:33.854523897",
          "2024-08-20T12:31:33.919317245",
          "2024-08-20T12:31:33.984568357",
          "2024-08-20T12:31:34.048381805",
          "2024-08-20T12:31:34.117199183",
          "2024-08-20T12:31:34.183008671",
          "2024-08-20T12:31:34.237861395",
          "2024-08-20T12:31:34.303685427",
          "2024-08-20T12:31:34.367515802",
          "2024-08-20T12:31:34.431509018",
          "2024-08-20T12:31:34.508416414",
          "2024-08-20T12:31:34.565290689",
          "2024-08-20T12:31:34.624107361",
          "2024-08-20T12:31:34.686995983",
          "2024-08-20T12:31:34.749772310",
          "2024-08-20T12:31:34.822613001",
          "2024-08-20T12:31:34.882473946",
          "2024-08-20T12:31:34.943256378",
          "2024-08-20T12:31:35.006085634",
          "2024-08-20T12:31:35.075951576",
          "2024-08-20T12:31:35.139728308",
          "2024-08-20T12:31:35.197573662",
          "2024-08-20T12:31:35.264425278",
          "2024-08-20T12:31:35.328751326",
          "2024-08-20T12:31:35.404547215",
          "2024-08-20T12:31:35.454563379",
          "2024-08-20T12:31:35.522747992",
          "2024-08-20T12:31:35.597547531",
          "2024-08-20T12:31:35.666362762",
          "2024-08-20T12:31:35.716230869",
          "2024-08-20T12:31:35.779061317",
          "2024-08-20T12:31:35.839905977",
          "2024-08-20T12:31:35.902730942",
          "2024-08-20T12:31:35.968554974",
          "2024-08-20T12:31:36.034378290",
          "2024-08-20T12:31:36.146079779",
          "2024-08-20T12:31:36.202927351",
          "2024-08-20T12:31:36.253791808",
          "2024-08-20T12:31:36.310640812",
          "2024-08-20T12:31:36.362536430",
          "2024-08-20T12:31:36.415360451",
          "2024-08-20T12:31:36.612915516",
          "2024-08-20T12:31:36.629870653",
          "2024-08-20T12:31:36.686092138",
          "2024-08-20T12:31:36.731478691",
          "2024-08-20T12:31:36.792353392",
          "2024-08-20T12:31:36.835259199",
          "2024-08-20T12:31:36.882076502",
          "2024-08-20T12:31:36.930180311",
          "2024-08-20T12:31:36.995010138",
          "2024-08-20T12:31:37.057901382",
          "2024-08-20T12:31:37.120796442",
          "2024-08-20T12:31:37.190546751",
          "2024-08-20T12:31:37.245904446",
          "2024-08-20T12:31:37.310695887",
          "2024-08-20T12:31:37.375525713",
          "2024-08-20T12:31:37.443047285",
          "2024-08-20T12:31:37.501889229",
          "2024-08-20T12:31:37.570401907",
          "2024-08-20T12:31:37.634161472",
          "2024-08-20T12:31:37.698097229",
          "2024-08-20T12:31:37.760633230",
          "2024-08-20T12:31:37.822077274",
          "2024-08-20T12:31:37.890928745",
          "2024-08-20T12:31:37.950802088",
          "2024-08-20T12:31:38.016170025",
          "2024-08-20T12:31:38.079568386",
          "2024-08-20T12:31:38.144387484",
          "2024-08-20T12:31:38.206281900",
          "2024-08-20T12:31:38.272046804",
          "2024-08-20T12:31:38.335875273",
          "2024-08-20T12:31:38.399709225",
          "2024-08-20T12:31:38.464562416",
          "2024-08-20T12:31:38.526404619",
          "2024-08-20T12:31:38.595264912",
          "2024-08-20T12:31:38.654108047",
          "2024-08-20T12:31:38.719931841",
          "2024-08-20T12:31:38.783764362",
          "2024-08-20T12:31:38.857566357",
          "2024-08-20T12:31:38.911419630",
          "2024-08-20T12:31:38.976246357",
          "2024-08-20T12:31:39.042104006",
          "2024-08-20T12:31:39.101980925",
          "2024-08-20T12:31:39.166769743",
          "2024-08-20T12:31:39.232593060",
          "2024-08-20T12:31:39.297420025",
          "2024-08-20T12:31:39.361249447",
          "2024-08-20T12:31:39.423182011",
          "2024-08-20T12:31:39.490002155",
          "2024-08-20T12:31:39.549880981",
          "2024-08-20T12:31:39.614220381",
          "2024-08-20T12:31:39.680010796",
          "2024-08-20T12:31:39.748333454",
          "2024-08-20T12:31:39.812162876",
          "2024-08-20T12:31:39.877536774",
          "2024-08-20T12:31:40.073243380",
          "2024-08-20T12:31:40.086207151",
          "2024-08-20T12:31:40.148041010",
          "2024-08-20T12:31:40.191923618",
          "2024-08-20T12:31:40.237802505",
          "2024-08-20T12:31:40.300632715",
          "2024-08-20T12:31:40.345512867",
          "2024-08-20T12:31:40.391391993",
          "2024-08-20T12:31:40.451229811",
          "2024-08-20T12:31:40.517088412",
          "2024-08-20T12:31:40.581882000",
          "2024-08-20T12:31:40.639754295",
          "2024-08-20T12:31:40.703556538",
          "2024-08-20T12:31:40.769875050",
          "2024-08-20T12:31:40.833705902",
          "2024-08-20T12:31:40.910538912",
          "2024-08-20T12:31:40.974536657",
          "2024-08-20T12:31:41.029807091",
          "2024-08-20T12:31:41.085696697",
          "2024-08-20T12:31:41.153585434",
          "2024-08-20T12:31:41.224370241",
          "2024-08-20T12:31:41.289196968",
          "2024-08-20T12:31:41.349036694",
          "2024-08-20T12:31:41.405884266",
          "2024-08-20T12:31:41.472689152",
          "2024-08-20T12:31:41.540507078",
          "2024-08-20T12:31:41.601395369",
          "2024-08-20T12:31:41.668616772",
          "2024-08-20T12:31:41.727491379",
          "2024-08-20T12:31:41.791326761",
          "2024-08-20T12:31:41.859107018",
          "2024-08-20T12:31:41.926977396",
          "2024-08-20T12:31:41.982784510",
          "2024-08-20T12:31:42.058573484",
          "2024-08-20T12:31:42.111595631",
          "2024-08-20T12:31:42.179451942",
          "2024-08-20T12:31:42.239253283",
          "2024-08-20T12:31:42.305081129",
          "2024-08-20T12:31:42.369940758",
          "2024-08-20T12:31:42.492574692",
          "2024-08-20T12:31:42.547464371",
          "2024-08-20T12:31:42.607268095",
          "2024-08-20T12:31:42.656136990",
          "2024-08-20T12:31:42.714980364",
          "2024-08-20T12:31:42.763849974",
          "2024-08-20T12:31:42.821695328",
          "2024-08-20T12:31:42.879108429",
          "2024-08-20T12:31:42.943912029",
          "2024-08-20T12:31:43.009702921",
          "2024-08-20T12:31:43.071511984",
          "2024-08-20T12:31:43.133901834",
          "2024-08-20T12:31:43.203717709",
          "2024-08-20T12:31:43.261597157",
          "2024-08-20T12:31:43.326387167",
          "2024-08-20T12:31:43.394617081",
          "2024-08-20T12:31:43.464424372",
          "2024-08-20T12:31:43.518105029",
          "2024-08-20T12:31:43.583888292",
          "2024-08-20T12:31:43.646115065",
          "2024-08-20T12:31:43.712907553",
          "2024-08-20T12:31:43.773782730",
          "2024-08-20T12:31:43.840597391",
          "2024-08-20T12:31:43.906425953",
          "2024-08-20T12:31:43.967237234",
          "2024-08-20T12:31:44.030067205",
          "2024-08-20T12:31:44.103466988",
          "2024-08-20T12:31:44.162308455",
          "2024-08-20T12:31:44.223145008",
          "2024-08-20T12:31:44.291014671",
          "2024-08-20T12:31:44.349857092",
          "2024-08-20T12:31:44.415681124",
          "2024-08-20T12:31:44.479695797",
          "2024-08-20T12:31:44.542475224",
          "2024-08-20T12:31:44.613296270",
          "2024-08-20T12:31:44.672163725",
          "2024-08-20T12:31:44.734963417",
          "2024-08-20T12:31:44.800783157",
          "2024-08-20T12:31:44.875235319",
          "2024-08-20T12:31:44.934039116",
          "2024-08-20T12:31:44.991886139",
          "2024-08-20T12:31:45.054715633",
          "2024-08-20T12:31:45.123562574",
          "2024-08-20T12:31:45.184406042",
          "2024-08-20T12:31:45.253189325",
          "2024-08-20T12:31:45.314022064",
          "2024-08-20T12:31:45.391814232",
          "2024-08-20T12:31:45.503517866",
          "2024-08-20T12:31:45.563381672",
          "2024-08-20T12:31:45.625192165",
          "2024-08-20T12:31:45.689467907",
          "2024-08-20T12:31:45.743281364",
          "2024-08-20T12:31:45.799130917",
          "2024-08-20T12:31:45.849994183",
          "2024-08-20T12:31:45.911336899",
          "2024-08-20T12:31:45.973172188",
          "2024-08-20T12:31:46.031045198",
          "2024-08-20T12:31:46.077892065",
          "2024-08-20T12:31:46.141758204",
          "2024-08-20T12:31:46.209540129",
          "2024-08-20T12:31:46.271375179",
          "2024-08-20T12:31:46.336202383",
          "2024-08-20T12:31:46.402061224",
          "2024-08-20T12:31:46.463126421",
          "2024-08-20T12:31:46.525985479",
          "2024-08-20T12:31:46.593837023",
          "2024-08-20T12:31:46.663606167",
          "2024-08-20T12:31:46.721510649",
          "2024-08-20T12:31:46.782323599",
          "2024-08-20T12:31:46.850108624",
          "2024-08-20T12:31:46.921957970",
          "2024-08-20T12:31:46.977843285",
          "2024-08-20T12:31:47.038705826",
          "2024-08-20T12:31:47.102475882",
          "2024-08-20T12:31:47.169295788",
          "2024-08-20T12:31:47.230172157",
          "2024-08-20T12:31:47.304938078",
          "2024-08-20T12:31:47.368804932",
          "2024-08-20T12:31:47.427606583",
          "2024-08-20T12:31:47.491471767",
          "2024-08-20T12:31:47.555302143",
          "2024-08-20T12:31:47.623177528",
          "2024-08-20T12:31:47.811676741",
          "2024-08-20T12:31:47.827633619",
          "2024-08-20T12:31:47.877500534",
          "2024-08-20T12:31:47.938337326",
          "2024-08-20T12:31:47.984474659",
          "2024-08-20T12:31:48.027358532",
          "2024-08-20T12:31:48.088195324",
          "2024-08-20T12:31:48.136068344",
          "2024-08-20T12:31:48.191809654",
          "2024-08-20T12:31:48.256190538",
          "2024-08-20T12:31:48.321072102",
          "2024-08-20T12:31:48.382852077",
          "2024-08-20T12:31:48.445721865",
          "2024-08-20T12:31:48.511081219",
          "2024-08-20T12:31:48.576905251",
          "2024-08-20T12:31:48.638738394",
          "2024-08-20T12:31:48.701770544",
          "2024-08-20T12:31:48.774565697",
          "2024-08-20T12:31:48.831388712",
          "2024-08-20T12:31:48.893730640",
          "2024-08-20T12:31:48.961057901",
          "2024-08-20T12:31:49.028914213",
          "2024-08-20T12:31:49.090711117",
          "2024-08-20T12:31:49.154539824",
          "2024-08-20T12:31:49.213383436",
          "2024-08-20T12:31:49.279206991",
          "2024-08-20T12:31:49.345029116",
          "2024-08-20T12:31:49.405867100",
          "2024-08-20T12:31:49.473721266",
          "2024-08-20T12:31:49.545494080",
          "2024-08-20T12:31:49.602399588",
          "2024-08-20T12:31:49.663179159",
          "2024-08-20T12:31:49.729102612",
          "2024-08-20T12:31:49.791011810",
          "2024-08-20T12:31:49.853843212",
          "2024-08-20T12:31:49.919657946",
          "2024-08-20T12:31:49.983487844",
          "2024-08-20T12:31:50.046319723",
          "2024-08-20T12:31:50.110692024",
          "2024-08-20T12:31:50.174520016",
          "2024-08-20T12:31:50.238417864",
          "2024-08-20T12:31:50.303511620",
          "2024-08-20T12:31:50.366343737",
          "2024-08-20T12:31:50.432175159",
          "2024-08-20T12:31:50.505977631",
          "2024-08-20T12:31:50.560830355",
          "2024-08-20T12:31:50.670942068",
          "2024-08-20T12:31:50.726747036",
          "2024-08-20T12:31:50.789601564",
          "2024-08-20T12:31:50.825510979",
          "2024-08-20T12:31:50.890295744",
          "2024-08-20T12:31:50.943155289",
          "2024-08-20T12:31:51.012972832",
          "2024-08-20T12:31:51.074837446",
          "2024-08-20T12:31:51.134642601",
          "2024-08-20T12:31:51.200467348",
          "2024-08-20T12:31:51.273272991",
          "2024-08-20T12:31:51.336102962",
          "2024-08-20T12:31:51.389957905",
          "2024-08-20T12:31:51.454820395",
          "2024-08-20T12:31:51.517674922",
          "2024-08-20T12:31:51.586463928",
          "2024-08-20T12:31:51.646686554",
          "2024-08-20T12:31:51.712054014",
          "2024-08-20T12:31:51.782867193",
          "2024-08-20T12:31:51.838715792",
          "2024-08-20T12:31:51.903051376",
          "2024-08-20T12:31:51.967877626",
          "2024-08-20T12:31:52.030061007",
          "2024-08-20T12:31:52.102158070",
          "2024-08-20T12:31:52.168978691",
          "2024-08-20T12:31:52.222800970",
          "2024-08-20T12:31:52.292626858",
          "2024-08-20T12:31:52.351458549",
          "2024-08-20T12:31:52.418277025",
          "2024-08-20T12:31:52.481150866",
          "2024-08-20T12:31:52.541553497",
          "2024-08-20T12:31:52.606345415",
          "2024-08-20T12:31:52.673228025",
          "2024-08-20T12:31:52.735998154",
          "2024-08-20T12:31:52.798882484",
          "2024-08-20T12:31:52.862711668",
          "2024-08-20T12:31:52.927570105",
          "2024-08-20T12:31:52.990370035",
          "2024-08-20T12:31:53.070696592",
          "2024-08-20T12:31:53.131572007",
          "2024-08-20T12:31:53.195363998",
          "2024-08-20T12:31:53.245267153",
          "2024-08-20T12:31:53.310670376",
          "2024-08-20T12:31:53.375495911",
          "2024-08-20T12:31:53.440849304",
          "2024-08-20T12:31:53.502685069",
          "2024-08-20T12:31:53.581473112",
          "2024-08-20T12:31:53.671237707",
          "2024-08-20T12:31:53.730012655",
          "2024-08-20T12:31:53.778313637",
          "2024-08-20T12:31:53.833030939",
          "2024-08-20T12:31:53.893876076",
          "2024-08-20T12:31:53.949759483",
          "2024-08-20T12:31:54.014583826",
          "2024-08-20T12:31:54.080477238",
          "2024-08-20T12:31:54.146250486",
          "2024-08-20T12:31:54.208119631",
          "2024-08-20T12:31:54.272945881",
          "2024-08-20T12:31:54.337438822",
          "2024-08-20T12:31:54.401267767",
          "2024-08-20T12:31:54.464104652",
          "2024-08-20T12:31:54.525992393",
          "2024-08-20T12:31:54.604726553",
          "2024-08-20T12:31:54.660574675",
          "2024-08-20T12:31:54.717456818",
          "2024-08-20T12:31:54.788233280",
          "2024-08-20T12:31:54.846078873",
          "2024-08-20T12:31:54.909790993",
          "2024-08-20T12:31:54.976554394",
          "2024-08-20T12:31:55.039385557",
          "2024-08-20T12:31:55.105245590",
          "2024-08-20T12:31:55.171085119",
          "2024-08-20T12:31:55.230873108",
          "2024-08-20T12:31:55.299697399",
          "2024-08-20T12:31:55.362556934",
          "2024-08-20T12:31:55.429852486",
          "2024-08-20T12:31:55.490688562",
          "2024-08-20T12:31:55.549531460",
          "2024-08-20T12:31:55.615355253",
          "2024-08-20T12:31:55.682177305",
          "2024-08-20T12:31:55.744011879",
          "2024-08-20T12:31:55.807841063",
          "2024-08-20T12:31:55.870673656",
          "2024-08-20T12:31:55.949462414",
          "2024-08-20T12:31:56.003352642",
          "2024-08-20T12:31:56.067021132",
          "2024-08-20T12:31:56.125862597",
          "2024-08-20T12:31:56.193681240",
          "2024-08-20T12:31:56.253522635",
          "2024-08-20T12:31:56.318383694",
          "2024-08-20T12:31:56.386166811",
          "2024-08-20T12:31:56.448000908",
          "2024-08-20T12:31:56.512829065",
          "2024-08-20T12:31:56.583638668",
          "2024-08-20T12:31:56.640494585",
          "2024-08-20T12:31:56.703325510",
          "2024-08-20T12:31:56.767193556",
          "2024-08-20T12:31:56.835482836",
          "2024-08-20T12:31:56.902304649",
          "2024-08-20T12:31:56.962438345",
          "2024-08-20T12:31:57.025873184",
          "2024-08-20T12:31:57.087665081",
          "2024-08-20T12:31:57.154531956",
          "2024-08-20T12:31:57.214373350",
          "2024-08-20T12:31:57.293160200",
          "2024-08-20T12:31:57.345025063",
          "2024-08-20T12:31:57.412839890",
          "2024-08-20T12:31:57.473701954",
          "2024-08-20T12:31:57.534539223",
          "2024-08-20T12:31:57.604353428",
          "2024-08-20T12:31:57.663195133",
          "2024-08-20T12:31:57.726027727",
          "2024-08-20T12:31:57.791850805",
          "2024-08-20T12:31:57.855682135",
          "2024-08-20T12:31:57.919509649",
          "2024-08-20T12:31:57.984847546",
          "2024-08-20T12:31:58.048672438",
          "2024-08-20T12:31:58.114497423",
          "2024-08-20T12:31:58.232179642",
          "2024-08-20T12:31:58.303023338",
          "2024-08-20T12:31:58.362874031",
          "2024-08-20T12:31:58.422821522",
          "2024-08-20T12:31:58.476673603",
          "2024-08-20T12:31:58.501605749",
          "2024-08-20T12:31:58.569931507",
          "2024-08-20T12:31:58.628283978",
          "2024-08-20T12:31:58.687161207",
          "2024-08-20T12:31:58.754455805",
          "2024-08-20T12:31:58.874644995",
          "2024-08-20T12:31:58.942510366",
          "2024-08-20T12:31:59.005335093",
          "2024-08-20T12:31:59.067801952",
          "2024-08-20T12:31:59.130631208",
          "2024-08-20T12:31:59.181493998",
          "2024-08-20T12:31:59.239844561",
          "2024-08-20T12:31:59.299728394",
          "2024-08-20T12:31:59.346602917",
          "2024-08-20T12:31:59.392479658",
          "2024-08-20T12:31:59.455312490",
          "2024-08-20T12:31:59.519181966",
          "2024-08-20T12:31:59.584981441",
          "2024-08-20T12:31:59.647796392",
          "2024-08-20T12:31:59.710932016",
          "2024-08-20T12:31:59.783735514",
          "2024-08-20T12:31:59.839586020",
          "2024-08-20T12:31:59.903450012",
          "2024-08-20T12:31:59.966248512",
          "2024-08-20T12:32:00.031110048",
          "2024-08-20T12:32:00.101887941",
          "2024-08-20T12:32:00.159729958",
          "2024-08-20T12:32:00.222562075",
          "2024-08-20T12:32:00.287391663",
          "2024-08-20T12:32:00.352120399",
          "2024-08-20T12:32:00.413935184",
          "2024-08-20T12:32:00.478729010",
          "2024-08-20T12:32:00.542225122",
          "2024-08-20T12:32:00.610045195",
          "2024-08-20T12:32:00.671614647",
          "2024-08-20T12:32:00.735095501",
          "2024-08-20T12:32:00.799942493",
          "2024-08-20T12:32:00.863315344",
          "2024-08-20T12:32:00.928106546",
          "2024-08-20T12:32:01.008890390",
          "2024-08-20T12:32:01.070760727",
          "2024-08-20T12:32:01.117598772",
          "2024-08-20T12:32:01.181464672",
          "2024-08-20T12:32:01.245420218",
          "2024-08-20T12:32:01.314198017",
          "2024-08-20T12:32:01.377030849",
          "2024-08-20T12:32:01.439896584",
          "2024-08-20T12:32:01.512666941",
          "2024-08-20T12:32:01.589461088",
          "2024-08-20T12:32:01.634341002",
          "2024-08-20T12:32:01.695178032",
          "2024-08-20T12:32:01.761003256",
          "2024-08-20T12:32:01.821839809",
          "2024-08-20T12:32:01.885703325",
          "2024-08-20T12:32:01.950496435",
          "2024-08-20T12:32:02.016355275",
          "2024-08-20T12:32:02.079560041",
          "2024-08-20T12:32:02.147934437",
          "2024-08-20T12:32:02.205846548",
          "2024-08-20T12:32:02.270641804",
          "2024-08-20T12:32:02.344480515",
          "2024-08-20T12:32:02.461406469",
          "2024-08-20T12:32:02.517229556",
          "2024-08-20T12:32:02.564082146",
          "2024-08-20T12:32:02.629870892",
          "2024-08-20T12:32:02.699684858",
          "2024-08-20T12:32:02.746571541",
          "2024-08-20T12:32:02.795462847",
          "2024-08-20T12:32:02.853273153",
          "2024-08-20T12:32:02.914112091",
          "2024-08-20T12:32:02.973954678",
          "2024-08-20T12:32:03.051743984",
          "2024-08-20T12:32:03.102615833",
          "2024-08-20T12:32:03.168430090",
          "2024-08-20T12:32:03.248250484",
          "2024-08-20T12:32:03.296088934",
          "2024-08-20T12:32:03.361934662",
          "2024-08-20T12:32:03.423750877",
          "2024-08-20T12:32:03.487687349",
          "2024-08-20T12:32:03.550518513",
          "2024-08-20T12:32:03.618339300",
          "2024-08-20T12:32:03.692140341",
          "2024-08-20T12:32:03.742039919",
          "2024-08-20T12:32:03.805836201",
          "2024-08-20T12:32:03.872937918",
          "2024-08-20T12:32:03.934771776",
          "2024-08-20T12:32:04.138708115",
          "2024-08-20T12:32:04.162652016",
          "2024-08-20T12:32:04.215462923",
          "2024-08-20T12:32:04.261340141",
          "2024-08-20T12:32:04.305223465",
          "2024-08-20T12:32:04.367092133",
          "2024-08-20T12:32:04.410940409",
          "2024-08-20T12:32:04.457854271",
          "2024-08-20T12:32:04.517654896",
          "2024-08-20T12:32:04.580527544",
          "2024-08-20T12:32:04.637335539",
          "2024-08-20T12:32:04.706151247",
          "2024-08-20T12:32:04.765990496",
          "2024-08-20T12:32:04.830850601",
          "2024-08-20T12:32:04.894646168",
          "2024-08-20T12:32:04.958475590",
          "2024-08-20T12:32:05.028358459",
          "2024-08-20T12:32:05.090869427",
          "2024-08-20T12:32:05.155694008",
          "2024-08-20T12:32:05.220520258",
          "2024-08-20T12:32:05.280360222",
          "2024-08-20T12:32:05.344203472",
          "2024-08-20T12:32:05.416617870",
          "2024-08-20T12:32:05.473434925",
          "2024-08-20T12:32:05.533270836",
          "2024-08-20T12:32:05.599692583",
          "2024-08-20T12:32:05.668574572",
          "2024-08-20T12:32:05.727350950",
          "2024-08-20T12:32:05.791183472",
          "2024-08-20T12:32:05.854014158",
          "2024-08-20T12:32:05.924823761",
          "2024-08-20T12:32:05.983665466",
          "2024-08-20T12:32:06.046497345",
          "2024-08-20T12:32:06.113318920",
          "2024-08-20T12:32:06.185126543",
          "2024-08-20T12:32:06.244966507",
          "2024-08-20T12:32:06.305804491",
          "2024-08-20T12:32:06.427478552",
          "2024-08-20T12:32:06.476348162",
          "2024-08-20T12:32:06.519232987",
          "2024-08-20T12:32:06.580214500",
          "2024-08-20T12:32:06.640358686",
          "2024-08-20T12:32:06.689215422",
          "2024-08-20T12:32:06.750109673",
          "2024-08-20T12:32:06.817869663",
          "2024-08-20T12:32:06.883101940",
          "2024-08-20T12:32:06.941977024",
          "2024-08-20T12:32:07.051910162",
          "2024-08-20T12:32:07.107870817",
          "2024-08-20T12:32:07.159778595",
          "2024-08-20T12:32:07.225763559",
          "2024-08-20T12:32:07.280441046",
          "2024-08-20T12:32:07.327314854",
          "2024-08-20T12:32:07.392040730",
          "2024-08-20T12:32:07.453844547",
          "2024-08-20T12:32:07.519663572",
          "2024-08-20T12:32:07.585496664",
          "2024-08-20T12:32:07.646383524",
          "2024-08-20T12:32:07.712150097",
          "2024-08-20T12:32:07.776016474",
          "2024-08-20T12:32:07.839809179",
          "2024-08-20T12:32:07.902639627",
          "2024-08-20T12:32:07.965471029",
          "2024-08-20T12:32:08.032032250",
          "2024-08-20T12:32:08.093867064",
          "2024-08-20T12:32:08.167701006",
          "2024-08-20T12:32:08.227540970",
          "2024-08-20T12:32:08.295396090",
          "2024-08-20T12:32:08.349215508",
          "2024-08-20T12:32:08.416072607",
          "2024-08-20T12:32:08.480871439",
          "2024-08-20T12:32:08.542946577",
          "2024-08-20T12:32:08.606839895",
          "2024-08-20T12:32:08.670669317",
          "2024-08-20T12:32:08.748494625",
          "2024-08-20T12:32:08.810294867",
          "2024-08-20T12:32:08.870174646",
          "2024-08-20T12:32:08.929901600",
          "2024-08-20T12:32:08.990741253",
          "2024-08-20T12:32:09.054567575",
          "2024-08-20T12:32:09.119748592",
          "2024-08-20T12:32:09.183618307",
          "2024-08-20T12:32:09.246409178",
          "2024-08-20T12:32:09.310237885",
          "2024-08-20T12:32:09.376274586",
          "2024-08-20T12:32:09.444119215",
          "2024-08-20T12:32:09.505930185",
          "2024-08-20T12:32:09.570753813",
          "2024-08-20T12:32:09.633613825",
          "2024-08-20T12:32:09.695421457",
          "2024-08-20T12:32:09.758251190",
          "2024-08-20T12:32:09.823078632",
          "2024-08-20T12:32:09.892893553",
          "2024-08-20T12:32:09.950737238",
          "2024-08-20T12:32:10.014777422",
          "2024-08-20T12:32:10.086585045",
          "2024-08-20T12:32:10.141972303",
          "2024-08-20T12:32:10.210790157",
          "2024-08-20T12:32:10.270623446",
          "2024-08-20T12:32:10.334451199",
          "2024-08-20T12:32:10.401107311",
          "2024-08-20T12:32:10.475941658",
          "2024-08-20T12:32:10.526770592",
          "2024-08-20T12:32:10.592339277",
          "2024-08-20T12:32:10.654148579",
          "2024-08-20T12:32:10.718975782",
          "2024-08-20T12:32:10.782802105",
          "2024-08-20T12:32:10.848627567",
          "2024-08-20T12:32:10.910460711",
          "2024-08-20T12:32:10.977282286",
          "2024-08-20T12:32:11.039152861",
          "2024-08-20T12:32:11.103947401",
          "2024-08-20T12:32:11.167773247",
          "2024-08-20T12:32:11.229755402",
          "2024-08-20T12:32:11.300566435",
          "2024-08-20T12:32:11.360479593",
          "2024-08-20T12:32:11.429301023",
          "2024-08-20T12:32:11.491092443",
          "2024-08-20T12:32:11.549935341",
          "2024-08-20T12:32:11.614765167",
          "2024-08-20T12:32:11.678591490",
          "2024-08-20T12:32:11.881561279",
          "2024-08-20T12:32:11.898514748",
          "2024-08-20T12:32:11.957359314",
          "2024-08-20T12:32:12.000243187",
          "2024-08-20T12:32:12.059998989",
          "2024-08-20T12:32:12.107871294",
          "2024-08-20T12:32:12.150756359",
          "2024-08-20T12:32:12.212984085",
          "2024-08-20T12:32:12.266843080",
          "2024-08-20T12:32:12.333659649",
          "2024-08-20T12:32:12.400614738",
          "2024-08-20T12:32:12.452477217",
          "2024-08-20T12:32:12.509835005",
          "2024-08-20T12:32:12.584639788",
          "2024-08-20T12:32:12.639522791",
          "2024-08-20T12:32:12.704347134",
          "2024-08-20T12:32:12.766216516",
          "2024-08-20T12:32:12.831049442",
          "2024-08-20T12:32:12.897837639",
          "2024-08-20T12:32:12.957735538",
          "2024-08-20T12:32:13.023500681",
          "2024-08-20T12:32:13.087365866",
          "2024-08-20T12:32:13.162170649",
          "2024-08-20T12:32:13.215023041",
          "2024-08-20T12:32:13.280812502",
          "2024-08-20T12:32:13.341650486",
          "2024-08-20T12:32:13.405478477",
          "2024-08-20T12:32:13.470162392",
          "2024-08-20T12:32:13.536520719",
          "2024-08-20T12:32:13.601319313",
          "2024-08-20T12:32:13.662052870",
          "2024-08-20T12:32:13.725847721",
          "2024-08-20T12:32:13.791673660",
          "2024-08-20T12:32:13.853515148",
          "2024-08-20T12:32:13.930917978",
          "2024-08-20T12:32:13.993786335",
          "2024-08-20T12:32:14.059574604",
          "2024-08-20T12:32:14.110471010",
          "2024-08-20T12:32:14.175262690",
          "2024-08-20T12:32:14.239600658",
          "2024-08-20T12:32:14.304803610",
          "2024-08-20T12:32:14.370627165",
          "2024-08-20T12:32:14.430467367",
          "2024-08-20T12:32:14.494708300",
          "2024-08-20T12:32:14.558565378",
          "2024-08-20T12:32:14.631342411",
          "2024-08-20T12:32:14.685559273",
          "2024-08-20T12:32:14.750857830",
          "2024-08-20T12:32:14.813715219",
          "2024-08-20T12:32:14.879512548",
          "2024-08-20T12:32:14.945337057",
          "2024-08-20T12:32:15.009166241",
          "2024-08-20T12:32:15.070513248",
          "2024-08-20T12:32:15.136845350",
          "2024-08-20T12:32:15.243623495",
          "2024-08-20T12:32:15.292493105",
          "2024-08-20T12:32:15.336418152",
          "2024-08-20T12:32:15.403240204",
          "2024-08-20T12:32:15.460046530",
          "2024-08-20T12:32:15.519924878",
          "2024-08-20T12:32:15.582721472",
          "2024-08-20T12:32:15.646606445",
          "2024-08-20T12:32:15.718358517",
          "2024-08-20T12:32:15.777199030",
          "2024-08-20T12:32:15.840064526",
          "2024-08-20T12:32:15.907848120",
          "2024-08-20T12:32:15.965693712",
          "2024-08-20T12:32:16.031555175",
          "2024-08-20T12:32:16.096345186",
          "2024-08-20T12:32:16.159226656",
          "2024-08-20T12:32:16.222518921",
          "2024-08-20T12:32:16.286342859",
          "2024-08-20T12:32:16.351169825",
          "2024-08-20T12:32:16.413003683",
          "2024-08-20T12:32:16.480856419",
          "2024-08-20T12:32:16.542655945",
          "2024-08-20T12:32:16.610476255",
          "2024-08-20T12:32:16.670314550",
          "2024-08-20T12:32:16.734145641",
          "2024-08-20T12:32:16.799000502",
          "2024-08-20T12:32:16.881431103",
          "2024-08-20T12:32:16.929389238",
          "2024-08-20T12:32:16.989288330",
          "2024-08-20T12:32:17.056051016",
          "2024-08-20T12:32:17.117888451",
          "2024-08-20T12:32:17.183228970",
          "2024-08-20T12:32:17.246451139",
          "2024-08-20T12:32:17.311335325",
          "2024-08-20T12:32:17.374109983",
          "2024-08-20T12:32:17.440968990",
          "2024-08-20T12:32:17.502764702",
          "2024-08-20T12:32:17.568790674",
          "2024-08-20T12:32:17.629988670",
          "2024-08-20T12:32:17.707792282",
          "2024-08-20T12:32:17.769598246",
          "2024-08-20T12:32:17.823451996",
          "2024-08-20T12:32:17.886348248",
          "2024-08-20T12:32:17.957094431",
          "2024-08-20T12:32:18.015938759",
          "2024-08-20T12:32:18.084788322",
          "2024-08-20T12:32:18.142599106",
          "2024-08-20T12:32:18.207425594",
          "2024-08-20T12:32:18.270257473",
          "2024-08-20T12:32:18.335122108",
          "2024-08-20T12:32:18.399975538",
          "2024-08-20T12:32:18.470842600",
          "2024-08-20T12:32:18.525648832",
          "2024-08-20T12:32:18.590513945",
          "2024-08-20T12:32:18.657296419",
          "2024-08-20T12:32:18.718192339",
          "2024-08-20T12:32:18.782960415",
          "2024-08-20T12:32:18.847694159",
          "2024-08-20T12:32:18.910487652",
          "2024-08-20T12:32:18.975023031",
          "2024-08-20T12:32:19.037863016",
          "2024-08-20T12:32:19.103645325",
          "2024-08-20T12:32:19.172459364",
          "2024-08-20T12:32:19.240307093",
          "2024-08-20T12:32:19.297124147",
          "2024-08-20T12:32:19.359956264",
          "2024-08-20T12:32:19.425780773",
          "2024-08-20T12:32:19.623049498",
          "2024-08-20T12:32:19.641996622",
          "2024-08-20T12:32:19.698847055",
          "2024-08-20T12:32:19.756545067",
          "2024-08-20T12:32:19.804416180",
          "2024-08-20T12:32:19.850294828",
          "2024-08-20T12:32:19.894176245",
          "2024-08-20T12:32:19.955012321",
          "2024-08-20T12:32:20.001924038",
          "2024-08-20T12:32:20.070703506",
          "2024-08-20T12:32:20.132539988",
          "2024-08-20T12:32:20.191419840",
          "2024-08-20T12:32:20.262194872",
          "2024-08-20T12:32:20.322516203",
          "2024-08-20T12:32:20.387259722",
          "2024-08-20T12:32:20.446102619",
          "2024-08-20T12:32:20.520902157",
          "2024-08-20T12:32:20.584731817",
          "2024-08-20T12:32:20.653100014",
          "2024-08-20T12:32:20.706911802",
          "2024-08-20T12:32:20.771246910",
          "2024-08-20T12:32:20.832086563",
          "2024-08-20T12:32:20.895421505",
          "2024-08-20T12:32:20.959251165",
          "2024-08-20T12:32:21.024112225",
          "2024-08-20T12:32:21.086937666",
          "2024-08-20T12:32:21.150739670",
          "2024-08-20T12:32:21.215182066",
          "2024-08-20T12:32:21.288241148",
          "2024-08-20T12:32:21.342065573",
          "2024-08-20T12:32:21.407263279",
          "2024-08-20T12:32:21.483011246",
          "2024-08-20T12:32:21.532878399",
          "2024-08-20T12:32:21.599734306",
          "2024-08-20T12:32:21.667518377",
          "2024-08-20T12:32:21.730396748",
          "2024-08-20T12:32:21.791186571",
          "2024-08-20T12:32:21.855018854",
          "2024-08-20T12:32:21.920847893",
          "2024-08-20T12:32:21.982674122",
          "2024-08-20T12:32:22.189171791",
          "2024-08-20T12:32:22.202137947",
          "2024-08-20T12:32:22.256990194",
          "2024-08-20T12:32:22.320201874",
          "2024-08-20T12:32:22.365945339",
          "2024-08-20T12:32:22.409827948",
          "2024-08-20T12:32:22.457733631",
          "2024-08-20T12:32:22.516542673",
          "2024-08-20T12:32:22.564417124",
          "2024-08-20T12:32:22.622356653",
          "2024-08-20T12:32:22.687514067",
          "2024-08-20T12:32:22.750309229",
          "2024-08-20T12:32:22.818037748",
          "2024-08-20T12:32:22.886855364",
          "2024-08-20T12:32:22.941748381",
          "2024-08-20T12:32:23.005697012",
          "2024-08-20T12:32:23.077054977",
          "2024-08-20T12:32:23.133903503",
          "2024-08-20T12:32:23.235785723",
          "2024-08-20T12:32:23.298555374",
          "2024-08-20T12:32:23.360395193",
          "2024-08-20T12:32:23.415242434",
          "2024-08-20T12:32:23.455136061",
          "2024-08-20T12:32:23.520959139",
          "2024-08-20T12:32:23.591769695",
          "2024-08-20T12:32:23.645626307",
          "2024-08-20T12:32:23.709454775",
          "2024-08-20T12:32:23.781263590",
          "2024-08-20T12:32:23.837112904",
          "2024-08-20T12:32:23.903935671",
          "2024-08-20T12:32:23.965770245",
          "2024-08-20T12:32:24.034584522",
          "2024-08-20T12:32:24.102404833",
          "2024-08-20T12:32:24.158255816",
          "2024-08-20T12:32:24.223082304",
          "2024-08-20T12:32:24.300907373",
          "2024-08-20T12:32:24.357778549",
          "2024-08-20T12:32:24.416562796",
          "2024-08-20T12:32:24.479396105",
          "2024-08-20T12:32:24.543224573",
          "2024-08-20T12:32:24.606056452",
          "2024-08-20T12:32:24.671190023",
          "2024-08-20T12:32:24.737014294",
          "2024-08-20T12:32:24.801352024",
          "2024-08-20T12:32:24.864221811",
          "2024-08-20T12:32:24.932000160",
          "2024-08-20T12:32:24.992837667",
          "2024-08-20T12:32:25.054672956",
          "2024-08-20T12:32:25.118500710",
          "2024-08-20T12:32:25.195301294",
          "2024-08-20T12:32:25.253140926",
          "2024-08-20T12:32:25.311498642",
          "2024-08-20T12:32:25.375326633",
          "2024-08-20T12:32:25.440153599",
          "2024-08-20T12:32:25.641125202",
          "2024-08-20T12:32:25.657083750",
          "2024-08-20T12:32:25.720910788",
          "2024-08-20T12:32:25.765789747",
          "2024-08-20T12:32:25.811667442",
          "2024-08-20T12:32:25.873502493",
          "2024-08-20T12:32:25.917384863",
          "2024-08-20T12:32:25.965266705",
          "2024-08-20T12:32:26.015124083",
          "2024-08-20T12:32:26.081945181",
          "2024-08-20T12:32:26.143970490",
          "2024-08-20T12:32:26.207308531",
          "2024-08-20T12:32:26.277124882",
          "2024-08-20T12:32:26.335473299",
          "2024-08-20T12:32:26.399356604",
          "2024-08-20T12:32:26.469116211",
          "2024-08-20T12:32:26.526027203",
          "2024-08-20T12:32:26.599806547",
          "2024-08-20T12:32:26.662598610",
          "2024-08-20T12:32:26.719447613",
          "2024-08-20T12:32:26.787300110",
          "2024-08-20T12:32:26.846109152",
          "2024-08-20T12:32:26.909974575",
          "2024-08-20T12:32:26.982742786",
          "2024-08-20T12:32:27.039618492",
          "2024-08-20T12:32:27.109428883",
          "2024-08-20T12:32:27.168270826",
          "2024-08-20T12:32:27.244070053",
          "2024-08-20T12:32:27.300915718",
          "2024-08-20T12:32:27.358763456",
          "2024-08-20T12:32:27.430572271",
          "2024-08-20T12:32:27.495396614",
          "2024-08-20T12:32:27.552243471",
          "2024-08-20T12:32:27.618986607",
          "2024-08-20T12:32:27.679826498",
          "2024-08-20T12:32:27.744651794",
          "2024-08-20T12:32:27.811474085",
          "2024-08-20T12:32:27.871311665",
          "2024-08-20T12:32:27.938232660",
          "2024-08-20T12:32:28.007043123",
          "2024-08-20T12:32:28.066883086",
          "2024-08-20T12:32:28.126723528",
          "2024-08-20T12:32:28.193597555",
          "2024-08-20T12:32:28.260417461",
          "2024-08-20T12:32:28.320315361",
          "2024-08-20T12:32:28.384086132",
          "2024-08-20T12:32:28.446953297",
          "2024-08-20T12:32:28.518725634",
          "2024-08-20T12:32:28.576572895",
          "2024-08-20T12:32:28.641489267",
          "2024-08-20T12:32:28.702045441",
          "2024-08-20T12:32:28.767858028",
          "2024-08-20T12:32:28.830724716",
          "2024-08-20T12:32:28.896514893",
          "2024-08-20T12:32:28.961437941",
          "2024-08-20T12:32:29.023036718",
          "2024-08-20T12:32:29.086858511",
          "2024-08-20T12:32:29.150660276",
          "2024-08-20T12:32:29.214490175",
          "2024-08-20T12:32:29.280347824",
          "2024-08-20T12:32:29.347641230",
          "2024-08-20T12:32:29.408477068",
          "2024-08-20T12:32:29.473303795",
          "2024-08-20T12:32:29.534140825",
          "2024-08-20T12:32:29.603953600",
          "2024-08-20T12:32:29.662796974",
          "2024-08-20T12:32:29.728660822",
          "2024-08-20T12:32:29.829075098",
          "2024-08-20T12:32:29.855006218",
          "2024-08-20T12:32:29.918835640",
          "2024-08-20T12:32:29.984659910",
          "2024-08-20T12:32:30.048488617",
          "2024-08-20T12:32:30.111320496",
          "2024-08-20T12:32:30.174177170",
          "2024-08-20T12:32:30.241478205",
          "2024-08-20T12:32:30.304310322",
          "2024-08-20T12:32:30.367180586",
          "2024-08-20T12:32:30.433924198",
          "2024-08-20T12:32:30.496754646",
          "2024-08-20T12:32:30.561550379",
          "2024-08-20T12:32:30.623412132",
          "2024-08-20T12:32:30.686249495",
          "2024-08-20T12:32:30.753970623",
          "2024-08-20T12:32:30.815323591",
          "2024-08-20T12:32:30.879150867",
          "2024-08-20T12:32:30.955455780",
          "2024-08-20T12:32:31.006345749",
          "2024-08-20T12:32:31.084110022",
          "2024-08-20T12:32:31.133013964",
          "2024-08-20T12:32:31.203535080",
          "2024-08-20T12:32:31.271354437",
          "2024-08-20T12:32:31.326326847",
          "2024-08-20T12:32:31.408055782",
          "2024-08-20T12:32:31.458920002",
          "2024-08-20T12:32:31.552667856",
          "2024-08-20T12:32:31.591563702",
          "2024-08-20T12:32:31.650408030",
          "2024-08-20T12:32:31.710282564",
          "2024-08-20T12:32:31.776070833",
          "2024-08-20T12:32:31.837939978",
          "2024-08-20T12:32:31.907718420",
          "2024-08-20T12:32:31.973545551",
          "2024-08-20T12:32:32.030505180",
          "2024-08-20T12:32:32.096329927",
          "2024-08-20T12:32:32.159909010",
          "2024-08-20T12:32:32.223783493",
          "2024-08-20T12:32:32.285617352",
          "2024-08-20T12:32:32.355093002",
          "2024-08-20T12:32:32.423932314",
          "2024-08-20T12:32:32.477780581",
          "2024-08-20T12:32:32.545111179",
          "2024-08-20T12:32:32.610616684",
          "2024-08-20T12:32:32.672452688",
          "2024-08-20T12:32:32.738783121",
          "2024-08-20T12:32:32.800617695",
          "2024-08-20T12:32:32.862452507",
          "2024-08-20T12:32:32.927278280",
          "2024-08-20T12:32:32.991107702",
          "2024-08-20T12:32:33.061918974",
          "2024-08-20T12:32:33.117813110",
          "2024-08-20T12:32:33.183628321",
          "2024-08-20T12:32:33.247426987",
          "2024-08-20T12:32:33.313245773",
          "2024-08-20T12:32:33.376078844",
          "2024-08-20T12:32:33.437913418",
          "2024-08-20T12:32:33.507761955",
          "2024-08-20T12:32:33.566568375",
          "2024-08-20T12:32:33.630432606",
          "2024-08-20T12:32:33.696256876",
          "2024-08-20T12:32:33.763337374",
          "2024-08-20T12:32:33.823216915",
          "2024-08-20T12:32:33.886786699",
          "2024-08-20T12:32:33.951614380",
          "2024-08-20T12:32:34.019431353",
          "2024-08-20T12:32:34.080267668",
          "2024-08-20T12:32:34.142103195",
          "2024-08-20T12:32:34.208925486",
          "2024-08-20T12:32:34.270759106",
          "2024-08-20T12:32:34.334587574",
          "2024-08-20T12:32:34.409389973",
          "2024-08-20T12:32:34.463746071",
          "2024-08-20T12:32:34.525631427",
          "2024-08-20T12:32:34.590441942",
          "2024-08-20T12:32:34.672589302",
          "2024-08-20T12:32:34.718495369",
          "2024-08-20T12:32:34.784605265",
          "2024-08-20T12:32:34.845502377",
          "2024-08-20T12:32:34.915297985",
          "2024-08-20T12:32:34.976535082",
          "2024-08-20T12:32:35.038368940",
          "2024-08-20T12:32:35.101213455",
          "2024-08-20T12:32:35.170028687",
          "2024-08-20T12:32:35.229869604",
          "2024-08-20T12:32:35.296691179",
          "2024-08-20T12:32:35.365506649",
          "2024-08-20T12:32:35.421391964",
          "2024-08-20T12:32:35.489713669",
          "2024-08-20T12:32:35.550548553",
          "2024-08-20T12:32:35.615374088",
          "2024-08-20T12:32:35.679830551",
          "2024-08-20T12:32:35.741671562",
          "2024-08-20T12:32:35.821450710",
          "2024-08-20T12:32:35.875407696",
          "2024-08-20T12:32:35.934213400",
          "2024-08-20T12:32:35.999787569",
          "2024-08-20T12:32:36.072578192",
          "2024-08-20T12:32:36.127431630",
          "2024-08-20T12:32:36.198305845",
          "2024-08-20T12:32:36.259132385",
          "2024-08-20T12:32:36.320932627",
          "2024-08-20T12:32:36.381804943",
          "2024-08-20T12:32:36.446623564",
          "2024-08-20T12:32:36.520399332",
          "2024-08-20T12:32:36.578244925",
          "2024-08-20T12:32:36.646062136",
          "2024-08-20T12:32:36.707958698",
          "2024-08-20T12:32:36.768796206",
          "2024-08-20T12:32:36.829632759",
          "2024-08-20T12:32:36.895457745",
          "2024-08-20T12:32:36.961305380",
          "2024-08-20T12:32:37.027129889",
          "2024-08-20T12:32:37.094947815",
          "2024-08-20T12:32:37.150824547",
          "2024-08-20T12:32:37.228126764",
          "2024-08-20T12:32:37.278991222",
          "2024-08-20T12:32:37.345320702",
          "2024-08-20T12:32:37.412676811",
          "2024-08-20T12:32:37.476505041",
          "2024-08-20T12:32:37.534350395",
          "2024-08-20T12:32:37.598179579",
          "2024-08-20T12:32:37.665997982",
          "2024-08-20T12:32:37.730824471",
          "2024-08-20T12:32:37.793656349",
          "2024-08-20T12:32:37.855490446",
          "2024-08-20T12:32:37.923312902",
          "2024-08-20T12:32:37.984147787",
          "2024-08-20T12:32:38.045563459",
          "2024-08-20T12:32:38.111385584",
          "2024-08-20T12:32:38.179205894",
          "2024-08-20T12:32:38.238048077",
          "2024-08-20T12:32:38.304870605",
          "2024-08-20T12:32:38.370692492",
          "2024-08-20T12:32:38.430532455",
          "2024-08-20T12:32:38.496356726",
          "2024-08-20T12:32:38.569162130",
          "2024-08-20T12:32:38.633988142",
          "2024-08-20T12:32:38.691833019",
          "2024-08-20T12:32:38.750226259",
          "2024-08-20T12:32:38.815091372",
          "2024-08-20T12:32:38.885902166",
          "2024-08-20T12:32:38.943747044",
          "2024-08-20T12:32:39.007613659",
          "2024-08-20T12:32:39.073400497",
          "2024-08-20T12:32:39.143213987",
          "2024-08-20T12:32:39.201062202",
          "2024-08-20T12:32:39.264887571",
          "2024-08-20T12:32:39.331712246"
         ],
         "xaxis": "x2",
         "y": {
          "bdata": "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",
          "dtype": "f8"
         },
         "yaxis": "y2"
        },
        {
         "marker": {
          "color": "lightcoral"
         },
         "name": "Distribution",
         "nbinsx": 30,
         "opacity": 0.7,
         "type": "histogram",
         "x": {
          "bdata": "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",
          "dtype": "f8"
         },
         "xaxis": "x3",
         "yaxis": "y3"
        },
        {
         "line": {
          "color": "lightcoral",
          "width": 1
         },
         "mode": "lines",
         "name": "Raw",
         "opacity": 0.5,
         "type": "scatter",
         "x": {
          "bdata": "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",
          "dtype": "i2"
         },
         "xaxis": "x4",
         "y": {
          "bdata": "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",
          "dtype": "f8"
         },
         "yaxis": "y4"
        },
        {
         "line": {
          "color": "darkred",
          "width": 3
         },
         "mode": "lines",
         "name": "Smoothed (n=52)",
         "type": "scatter",
         "x": {
          "bdata": "AQACAAMABAAFAAYABwAIAAkACgALAAwADQAOAA8AEAARABIAEwAUABUAFgAXABgAGQAaABsAHAAdAB4AHwAgACEAIgAjACQAJQAmACcAKAApACoAKwAsAC0ALgAvADAAMQAyADMANAA1ADYANwA4ADkAOgA7ADwAPQA+AD8AQABBAEIAQwBEAEUARgBHAEgASQBKAEsATABNAE4ATwBQAFEAUgBTAFQAVQBWAFcAWABZAFoAWwBcAF0AXgBfAGAAYQBiAGMAZABlAGYAZwBoAGkAagBrAGwAbQBuAG8AcABxAHIAcwB0AHUAdgB3AHgAeQB6AHsAfAB9AH4AfwCAAIEAggCDAIQAhQCGAIcAiACJAIoAiwCMAI0AjgCPAJAAkQCSAJMAlACVAJYAlwCYAJkAmgCbAJwAnQCeAJ8AoAChAKIAowCkAKUApgCnAKgAqQCqAKsArACtAK4ArwCwALEAsgCzALQAtQC2ALcAuAC5ALoAuwC8AL0AvgC/AMAAwQDCAMMAxADFAMYAxwDIAMkAygDLAMwAzQDOAM8A0ADRANIA0wDUANUA1gDXANgA2QDaANsA3ADdAN4A3wDgAOEA4gDjAOQA5QDmAOcA6ADpAOoA6wDsAO0A7gDvAPAA8QDyAPMA9AD1APYA9wD4APkA+gD7APwA/QD+AP8AAAEBAQIBAwEEAQUBBgEHAQgBCQEKAQsBDAENAQ4BDwEQAREBEgETARQBFQEWARcBGAEZARoBGwEcAR0BHgEfASABIQEiASMBJAElASYBJwEoASkBKgErASwBLQEuAS8BMAExATIBMwE0ATUBNgE3ATgBOQE6ATsBPAE9AT4BPwFAAUEBQgFDAUQBRQFGAUcBSAFJAUoBSwFMAU0BTgFPAVABUQFSAVMBVAFVAVYBVwFYAVkBWgFbAVwBXQFeAV8BYAFhAWIBYwFkAWUBZgFnAWgBaQFqAWsBbAFtAW4BbwFwAXEBcgFzAXQBdQF2AXcBeAF5AXoBewF8AX0BfgF/AYABgQGCAYMBhAGFAYYBhwGIAYkBigGLAYwBjQGOAY8BkAGRAZIBkwGUAZUBlgGXAZgBmQGaAZsBnAGdAZ4BnwGgAaEBogGjAaQBpQGmAacBqAGpAaoBqwGsAa0BrgGvAbABsQGyAbMBtAG1AbYBtwG4AbkBugG7AbwBvQG+Ab8BwAHBAcIBwwHEAcUBxgHHAcgByQHKAcsBzAHNAc4BzwHQAdEB0gHTAdQB1QHWAdcB2AHZAdoB2wHcAd0B3gHfAeAB4QHiAeMB5AHlAeYB5wHoAekB6gHrAewB7QHuAe8B8AHxAfIB8wH0AfUB9gH3AfgB+QH6AfsB/AH9Af4B/wEAAgECAgIDAgQCBQIGAgcCCAIJAgoCCwIMAg0CDgIPAhACEQISAhMCFAIVAhYCFwIYAhkCGgIbAhwCHQIeAh8CIAIhAiICIwIkAiUCJgInAigCKQIqAisCLAItAi4CLwIwAjECMgIzAjQCNQI2AjcCOAI5AjoCOwI8Aj0CPgI/AkACQQJCAkMCRAJFAkYCRwJIAkkCSgJLAkwCTQJOAk8CUAJRAlICUwJUAlUCVgJXAlgCWQJaAlsCXAJdAl4CXwJgAmECYgJjAmQCZQJmAmcCaAJpAmoCawJsAm0CbgJvAnACcQJyAnMCdAJ1AnYCdwJ4AnkCegJ7AnwCfQJ+An8CgAKBAoICgwKEAoUChgKHAogCiQKKAosCjAKNAo4CjwKQApECkgKTApQClQKWApcCmAKZApoCmwKcAp0CngKfAqACoQKiAqMCpAKlAqYCpwKoAqkCqgKrAqwCrQKuAq8CsAKxArICswK0ArUCtgK3ArgCuQK6ArsCvAK9Ar4CvwLAAsECwgLDAsQCxQLGAscCyALJAsoCywLMAs0CzgLPAtAC0QLSAtMC1ALVAtYC1wLYAtkC2gLbAtwC3QLeAt8C4ALhAuIC4wLkAuUC5gLnAugC6QLqAusC7ALtAu4C7wLwAvEC8gLzAvQC9QL2AvcC+AL5AvoC+wL8Av0C/gL/AgADAQMCAwMDBAMFAwYDBwMIAwkDCgMLAwwDDQMOAw8DEAMRAxIDEwMUAxUDFgMXAxgDGQMaAxsDHAMdAx4DHwMgAyEDIgMjAyQDJQMmAycDKAMpAyoDKwMsAy0DLgMvAzADMQMyAzMDNAM1AzYDNwM4AzkDOgM7AzwDPQM+Az8DQANBA0IDQwNEA0UDRgNHA0gDSQNKA0sDTANNA04DTwNQA1EDUgNTA1QDVQNWA1cDWANZA1oDWwNcA10DXgNfA2ADYQNiA2MDZANlA2YDZwNoA2kDagNrA2wDbQNuA28DcANxA3IDcwN0A3UDdgN3A3gDeQN6A3sDfAN9A34DfwOAA4EDggODA4QDhQOGA4cDiAOJA4oDiwOMA40DjgOPA5ADkQOSA5MDlAOVA5YDlwOYA5kDmgObA5wDnQOeA58DoAOhA6IDowOkA6UDpgOnA6gDqQOqA6sDrAOtA64DrwOwA7EDsgOzA7QDtQO2A7cDuAO5A7oDuwO8A70DvgO/A8ADwQPCA8MDxAPFA8YDxwPIA8kDygPLA8wDzQPOA88D0APRA9ID0wPUA9UD1gPXA9gD2QPaA9sD3APdA94D3wPgA+ED4gPjA+QD5QPmA+cD6APpA+oD6wPsA+0D7gPvA/AD8QPyA/MD9AP1A/YD9wP4A/kD+gP7A/wD/QP+A/8DAAQBBAIEAwQEBAUEBgQHBAgECQQKBAsEDAQNBA4EDwQQBBEEEgQTBBQEFQQWBBcEGAQZBBoEGwQcBB0EHgQfBCAEIQQiBCME",
          "dtype": "i2"
         },
         "xaxis": "x4",
         "y": {
          "bdata": "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",
          "dtype": "f8"
         },
         "yaxis": "y4"
        }
       ],
       "layout": {
        "annotations": [
         {
          "font": {
           "size": 16
          },
          "showarrow": false,
          "text": "Distance vs Frame Index",
          "x": 0.225,
          "xanchor": "center",
          "xref": "paper",
          "y": 1,
          "yanchor": "bottom",
          "yref": "paper"
         },
         {
          "font": {
           "size": 16
          },
          "showarrow": false,
          "text": "Distance vs Time",
          "x": 0.775,
          "xanchor": "center",
          "xref": "paper",
          "y": 1,
          "yanchor": "bottom",
          "yref": "paper"
         },
         {
          "font": {
           "size": 16
          },
          "showarrow": false,
          "text": "Distance Distribution",
          "x": 0.225,
          "xanchor": "center",
          "xref": "paper",
          "y": 0.375,
          "yanchor": "bottom",
          "yref": "paper"
         },
         {
          "font": {
           "size": 16
          },
          "showarrow": false,
          "text": "Distance Trends",
          "x": 0.775,
          "xanchor": "center",
          "xref": "paper",
          "y": 0.375,
          "yanchor": "bottom",
          "yref": "paper"
         },
         {
          "showarrow": false,
          "text": "Mean: 2.04meters",
          "x": 2.0433065635266563,
          "xanchor": "left",
          "xref": "x3",
          "y": 1,
          "yanchor": "top",
          "yref": "y3 domain"
         }
        ],
        "height": 800,
        "shapes": [
         {
          "line": {
           "color": "red",
           "dash": "dash"
          },
          "type": "line",
          "x0": 2.0433065635266563,
          "x1": 2.0433065635266563,
          "xref": "x3",
          "y0": 0,
          "y1": 1,
          "yref": "y3 domain"
         }
        ],
        "showlegend": true,
        "template": {
         "data": {
          "bar": [
           {
            "error_x": {
             "color": "#2a3f5f"
            },
            "error_y": {
             "color": "#2a3f5f"
            },
            "marker": {
             "line": {
              "color": "#E5ECF6",
              "width": 0.5
             },
             "pattern": {
              "fillmode": "overlay",
              "size": 10,
              "solidity": 0.2
             }
            },
            "type": "bar"
           }
          ],
          "barpolar": [
           {
            "marker": {
             "line": {
              "color": "#E5ECF6",
              "width": 0.5
             },
             "pattern": {
              "fillmode": "overlay",
              "size": 10,
              "solidity": 0.2
             }
            },
            "type": "barpolar"
           }
          ],
          "carpet": [
           {
            "aaxis": {
             "endlinecolor": "#2a3f5f",
             "gridcolor": "white",
             "linecolor": "white",
             "minorgridcolor": "white",
             "startlinecolor": "#2a3f5f"
            },
            "baxis": {
             "endlinecolor": "#2a3f5f",
             "gridcolor": "white",
             "linecolor": "white",
             "minorgridcolor": "white",
             "startlinecolor": "#2a3f5f"
            },
            "type": "carpet"
           }
          ],
          "choropleth": [
           {
            "colorbar": {
             "outlinewidth": 0,
             "ticks": ""
            },
            "type": "choropleth"
           }
          ],
          "contour": [
           {
            "colorbar": {
             "outlinewidth": 0,
             "ticks": ""
            },
            "colorscale": [
             [
              0,
              "#0d0887"
             ],
             [
              0.1111111111111111,
              "#46039f"
             ],
             [
              0.2222222222222222,
              "#7201a8"
             ],
             [
              0.3333333333333333,
              "#9c179e"
             ],
             [
              0.4444444444444444,
              "#bd3786"
             ],
             [
              0.5555555555555556,
              "#d8576b"
             ],
             [
              0.6666666666666666,
              "#ed7953"
             ],
             [
              0.7777777777777778,
              "#fb9f3a"
             ],
             [
              0.8888888888888888,
              "#fdca26"
             ],
             [
              1,
              "#f0f921"
             ]
            ],
            "type": "contour"
           }
          ],
          "contourcarpet": [
           {
            "colorbar": {
             "outlinewidth": 0,
             "ticks": ""
            },
            "type": "contourcarpet"
           }
          ],
          "heatmap": [
           {
            "colorbar": {
             "outlinewidth": 0,
             "ticks": ""
            },
            "colorscale": [
             [
              0,
              "#0d0887"
             ],
             [
              0.1111111111111111,
              "#46039f"
             ],
             [
              0.2222222222222222,
              "#7201a8"
             ],
             [
              0.3333333333333333,
              "#9c179e"
             ],
             [
              0.4444444444444444,
              "#bd3786"
             ],
             [
              0.5555555555555556,
              "#d8576b"
             ],
             [
              0.6666666666666666,
              "#ed7953"
             ],
             [
              0.7777777777777778,
              "#fb9f3a"
             ],
             [
              0.8888888888888888,
              "#fdca26"
             ],
             [
              1,
              "#f0f921"
             ]
            ],
            "type": "heatmap"
           }
          ],
          "histogram": [
           {
            "marker": {
             "pattern": {
              "fillmode": "overlay",
              "size": 10,
              "solidity": 0.2
             }
            },
            "type": "histogram"
           }
          ],
          "histogram2d": [
           {
            "colorbar": {
             "outlinewidth": 0,
             "ticks": ""
            },
            "colorscale": [
             [
              0,
              "#0d0887"
             ],
             [
              0.1111111111111111,
              "#46039f"
             ],
             [
              0.2222222222222222,
              "#7201a8"
             ],
             [
              0.3333333333333333,
              "#9c179e"
             ],
             [
              0.4444444444444444,
              "#bd3786"
             ],
             [
              0.5555555555555556,
              "#d8576b"
             ],
             [
              0.6666666666666666,
              "#ed7953"
             ],
             [
              0.7777777777777778,
              "#fb9f3a"
             ],
             [
              0.8888888888888888,
              "#fdca26"
             ],
             [
              1,
              "#f0f921"
             ]
            ],
            "type": "histogram2d"
           }
          ],
          "histogram2dcontour": [
           {
            "colorbar": {
             "outlinewidth": 0,
             "ticks": ""
            },
            "colorscale": [
             [
              0,
              "#0d0887"
             ],
             [
              0.1111111111111111,
              "#46039f"
             ],
             [
              0.2222222222222222,
              "#7201a8"
             ],
             [
              0.3333333333333333,
              "#9c179e"
             ],
             [
              0.4444444444444444,
              "#bd3786"
             ],
             [
              0.5555555555555556,
              "#d8576b"
             ],
             [
              0.6666666666666666,
              "#ed7953"
             ],
             [
              0.7777777777777778,
              "#fb9f3a"
             ],
             [
              0.8888888888888888,
              "#fdca26"
             ],
             [
              1,
              "#f0f921"
             ]
            ],
            "type": "histogram2dcontour"
           }
          ],
          "mesh3d": [
           {
            "colorbar": {
             "outlinewidth": 0,
             "ticks": ""
            },
            "type": "mesh3d"
           }
          ],
          "parcoords": [
           {
            "line": {
             "colorbar": {
              "outlinewidth": 0,
              "ticks": ""
             }
            },
            "type": "parcoords"
           }
          ],
          "pie": [
           {
            "automargin": true,
            "type": "pie"
           }
          ],
          "scatter": [
           {
            "fillpattern": {
             "fillmode": "overlay",
             "size": 10,
             "solidity": 0.2
            },
            "type": "scatter"
           }
          ],
          "scatter3d": [
           {
            "line": {
             "colorbar": {
              "outlinewidth": 0,
              "ticks": ""
             }
            },
            "marker": {
             "colorbar": {
              "outlinewidth": 0,
              "ticks": ""
             }
            },
            "type": "scatter3d"
           }
          ],
          "scattercarpet": [
           {
            "marker": {
             "colorbar": {
              "outlinewidth": 0,
              "ticks": ""
             }
            },
            "type": "scattercarpet"
           }
          ],
          "scattergeo": [
           {
            "marker": {
             "colorbar": {
              "outlinewidth": 0,
              "ticks": ""
             }
            },
            "type": "scattergeo"
           }
          ],
          "scattergl": [
           {
            "marker": {
             "colorbar": {
              "outlinewidth": 0,
              "ticks": ""
             }
            },
            "type": "scattergl"
           }
          ],
          "scattermap": [
           {
            "marker": {
             "colorbar": {
              "outlinewidth": 0,
              "ticks": ""
             }
            },
            "type": "scattermap"
           }
          ],
          "scattermapbox": [
           {
            "marker": {
             "colorbar": {
              "outlinewidth": 0,
              "ticks": ""
             }
            },
            "type": "scattermapbox"
           }
          ],
          "scatterpolar": [
           {
            "marker": {
             "colorbar": {
              "outlinewidth": 0,
              "ticks": ""
             }
            },
            "type": "scatterpolar"
           }
          ],
          "scatterpolargl": [
           {
            "marker": {
             "colorbar": {
              "outlinewidth": 0,
              "ticks": ""
             }
            },
            "type": "scatterpolargl"
           }
          ],
          "scatterternary": [
           {
            "marker": {
             "colorbar": {
              "outlinewidth": 0,
              "ticks": ""
             }
            },
            "type": "scatterternary"
           }
          ],
          "surface": [
           {
            "colorbar": {
             "outlinewidth": 0,
             "ticks": ""
            },
            "colorscale": [
             [
              0,
              "#0d0887"
             ],
             [
              0.1111111111111111,
              "#46039f"
             ],
             [
              0.2222222222222222,
              "#7201a8"
             ],
             [
              0.3333333333333333,
              "#9c179e"
             ],
             [
              0.4444444444444444,
              "#bd3786"
             ],
             [
              0.5555555555555556,
              "#d8576b"
             ],
             [
              0.6666666666666666,
              "#ed7953"
             ],
             [
              0.7777777777777778,
              "#fb9f3a"
             ],
             [
              0.8888888888888888,
              "#fdca26"
             ],
             [
              1,
              "#f0f921"
             ]
            ],
            "type": "surface"
           }
          ],
          "table": [
           {
            "cells": {
             "fill": {
              "color": "#EBF0F8"
             },
             "line": {
              "color": "white"
             }
            },
            "header": {
             "fill": {
              "color": "#C8D4E3"
             },
             "line": {
              "color": "white"
             }
            },
            "type": "table"
           }
          ]
         },
         "layout": {
          "annotationdefaults": {
           "arrowcolor": "#2a3f5f",
           "arrowhead": 0,
           "arrowwidth": 1
          },
          "autotypenumbers": "strict",
          "coloraxis": {
           "colorbar": {
            "outlinewidth": 0,
            "ticks": ""
           }
          },
          "colorscale": {
           "diverging": [
            [
             0,
             "#8e0152"
            ],
            [
             0.1,
             "#c51b7d"
            ],
            [
             0.2,
             "#de77ae"
            ],
            [
             0.3,
             "#f1b6da"
            ],
            [
             0.4,
             "#fde0ef"
            ],
            [
             0.5,
             "#f7f7f7"
            ],
            [
             0.6,
             "#e6f5d0"
            ],
            [
             0.7,
             "#b8e186"
            ],
            [
             0.8,
             "#7fbc41"
            ],
            [
             0.9,
             "#4d9221"
            ],
            [
             1,
             "#276419"
            ]
           ],
           "sequential": [
            [
             0,
             "#0d0887"
            ],
            [
             0.1111111111111111,
             "#46039f"
            ],
            [
             0.2222222222222222,
             "#7201a8"
            ],
            [
             0.3333333333333333,
             "#9c179e"
            ],
            [
             0.4444444444444444,
             "#bd3786"
            ],
            [
             0.5555555555555556,
             "#d8576b"
            ],
            [
             0.6666666666666666,
             "#ed7953"
            ],
            [
             0.7777777777777778,
             "#fb9f3a"
            ],
            [
             0.8888888888888888,
             "#fdca26"
            ],
            [
             1,
             "#f0f921"
            ]
           ],
           "sequentialminus": [
            [
             0,
             "#0d0887"
            ],
            [
             0.1111111111111111,
             "#46039f"
            ],
            [
             0.2222222222222222,
             "#7201a8"
            ],
            [
             0.3333333333333333,
             "#9c179e"
            ],
            [
             0.4444444444444444,
             "#bd3786"
            ],
            [
             0.5555555555555556,
             "#d8576b"
            ],
            [
             0.6666666666666666,
             "#ed7953"
            ],
            [
             0.7777777777777778,
             "#fb9f3a"
            ],
            [
             0.8888888888888888,
             "#fdca26"
            ],
            [
             1,
             "#f0f921"
            ]
           ]
          },
          "colorway": [
           "#636efa",
           "#EF553B",
           "#00cc96",
           "#ab63fa",
           "#FFA15A",
           "#19d3f3",
           "#FF6692",
           "#B6E880",
           "#FF97FF",
           "#FECB52"
          ],
          "font": {
           "color": "#2a3f5f"
          },
          "geo": {
           "bgcolor": "white",
           "lakecolor": "white",
           "landcolor": "#E5ECF6",
           "showlakes": true,
           "showland": true,
           "subunitcolor": "white"
          },
          "hoverlabel": {
           "align": "left"
          },
          "hovermode": "closest",
          "mapbox": {
           "style": "light"
          },
          "paper_bgcolor": "white",
          "plot_bgcolor": "#E5ECF6",
          "polar": {
           "angularaxis": {
            "gridcolor": "white",
            "linecolor": "white",
            "ticks": ""
           },
           "bgcolor": "#E5ECF6",
           "radialaxis": {
            "gridcolor": "white",
            "linecolor": "white",
            "ticks": ""
           }
          },
          "scene": {
           "xaxis": {
            "backgroundcolor": "#E5ECF6",
            "gridcolor": "white",
            "gridwidth": 2,
            "linecolor": "white",
            "showbackground": true,
            "ticks": "",
            "zerolinecolor": "white"
           },
           "yaxis": {
            "backgroundcolor": "#E5ECF6",
            "gridcolor": "white",
            "gridwidth": 2,
            "linecolor": "white",
            "showbackground": true,
            "ticks": "",
            "zerolinecolor": "white"
           },
           "zaxis": {
            "backgroundcolor": "#E5ECF6",
            "gridcolor": "white",
            "gridwidth": 2,
            "linecolor": "white",
            "showbackground": true,
            "ticks": "",
            "zerolinecolor": "white"
           }
          },
          "shapedefaults": {
           "line": {
            "color": "#2a3f5f"
           }
          },
          "ternary": {
           "aaxis": {
            "gridcolor": "white",
            "linecolor": "white",
            "ticks": ""
           },
           "baxis": {
            "gridcolor": "white",
            "linecolor": "white",
            "ticks": ""
           },
           "bgcolor": "#E5ECF6",
           "caxis": {
            "gridcolor": "white",
            "linecolor": "white",
            "ticks": ""
           }
          },
          "title": {
           "x": 0.05
          },
          "xaxis": {
           "automargin": true,
           "gridcolor": "white",
           "linecolor": "white",
           "ticks": "",
           "title": {
            "standoff": 15
           },
           "zerolinecolor": "white",
           "zerolinewidth": 2
          },
          "yaxis": {
           "automargin": true,
           "gridcolor": "white",
           "linecolor": "white",
           "ticks": "",
           "title": {
            "standoff": 15
           },
           "zerolinecolor": "white",
           "zerolinewidth": 2
          }
         }
        },
        "title": {
         "text": "Real-World Distance Analysis"
        },
        "xaxis": {
         "anchor": "y",
         "domain": [
          0,
          0.45
         ],
         "title": {
          "text": "Frame Index"
         }
        },
        "xaxis2": {
         "anchor": "y2",
         "domain": [
          0.55,
          1
         ],
         "title": {
          "text": "Time"
         }
        },
        "xaxis3": {
         "anchor": "y3",
         "domain": [
          0,
          0.45
         ],
         "title": {
          "text": "Distance (meters)"
         }
        },
        "xaxis4": {
         "anchor": "y4",
         "domain": [
          0.55,
          1
         ],
         "title": {
          "text": "Frame Index"
         }
        },
        "yaxis": {
         "anchor": "x",
         "domain": [
          0.625,
          1
         ],
         "title": {
          "text": "Distance (meters)"
         }
        },
        "yaxis2": {
         "anchor": "x2",
         "domain": [
          0.625,
          1
         ],
         "title": {
          "text": "Distance (meters)"
         }
        },
        "yaxis3": {
         "anchor": "x3",
         "domain": [
          0,
          0.375
         ],
         "title": {
          "text": "Frequency"
         }
        },
        "yaxis4": {
         "anchor": "x4",
         "domain": [
          0,
          0.375
         ],
         "title": {
          "text": "Distance (meters)"
         }
        }
       }
      }
     },
     "metadata": {},
     "output_type": "display_data"
    },
    {
     "data": {
      "application/vnd.plotly.v1+json": {
       "config": {
        "plotlyServerURL": "https://plot.ly"
       },
       "data": [
        {
         "line": {
          "color": "blue"
         },
         "mode": "lines+markers",
         "name": "Distance",
         "type": "scatter",
         "x": {
          "bdata": "AQACAAMABAAFAAYABwAIAAkACgALAAwADQAOAA8AEAARABIAEwAUABUAFgAXABgAGQAaABsAHAAdAB4AHwAgACEAIgAjACQAJQAmACcAKAApACoAKwAsAC0ALgAvADAAMQAyADMANAA1ADYANwA4ADkAOgA7ADwAPQA+AD8AQABBAEIAQwBEAEUARgBHAEgASQBKAEsATABNAE4ATwBQAFEAUgBTAFQAVQBWAFcAWABZAFoAWwBcAF0AXgBfAGAAYQBiAGMAZABlAGYAZwBoAGkAagBrAGwAbQBuAG8AcABxAHIAcwB0AHUAdgB3AHgAeQB6AHsAfAB9AH4AfwCAAIEAggCDAIQAhQCGAIcAiACJAIoAiwCMAI0AjgCPAJAAkQCSAJMAlACVAJYAlwCYAJkAmgCbAJwAnQCeAJ8AoAChAKIAowCkAKUApgCnAKgAqQCqAKsArACtAK4ArwCwALEAsgCzALQAtQC2ALcAuAC5ALoAuwC8AL0AvgC/AMAAwQDCAMMAxADFAMYAxwDIAMkAygDLAMwAzQDOAM8A0ADRANIA0wDUANUA1gDXANgA2QDaANsA3ADdAN4A3wDgAOEA4gDjAOQA5QDmAOcA6ADpAOoA6wDsAO0A7gDvAPAA8QDyAPMA9AD1APYA9wD4APkA+gD7APwA/QD+AP8AAAEBAQIBAwEEAQUBBgEHAQgBCQEKAQsBDAENAQ4BDwEQAREBEgETARQBFQEWARcBGAEZARoBGwEcAR0BHgEfASABIQEiASMBJAElASYBJwEoASkBKgErASwBLQEuAS8BMAExATIBMwE0ATUBNgE3ATgBOQE6ATsBPAE9AT4BPwFAAUEBQgFDAUQBRQFGAUcBSAFJAUoBSwFMAU0BTgFPAVABUQFSAVMBVAFVAVYBVwFYAVkBWgFbAVwBXQFeAV8BYAFhAWIBYwFkAWUBZgFnAWgBaQFqAWsBbAFtAW4BbwFwAXEBcgFzAXQBdQF2AXcBeAF5AXoBewF8AX0BfgF/AYABgQGCAYMBhAGFAYYBhwGIAYkBigGLAYwBjQGOAY8BkAGRAZIBkwGUAZUBlgGXAZgBmQGaAZsBnAGdAZ4BnwGgAaEBogGjAaQBpQGmAacBqAGpAaoBqwGsAa0BrgGvAbABsQGyAbMBtAG1AbYBtwG4AbkBugG7AbwBvQG+Ab8BwAHBAcIBwwHEAcUBxgHHAcgByQHKAcsBzAHNAc4BzwHQAdEB0gHTAdQB1QHWAdcB2AHZAdoB2wHcAd0B3gHfAeAB4QHiAeMB5AHlAeYB5wHoAekB6gHrAewB7QHuAe8B8AHxAfIB8wH0AfUB9gH3AfgB+QH6AfsB/AH9Af4B/wEAAgECAgIDAgQCBQIGAgcCCAIJAgoCCwIMAg0CDgIPAhACEQISAhMCFAIVAhYCFwIYAhkCGgIbAhwCHQIeAh8CIAIhAiICIwIkAiUCJgInAigCKQIqAisCLAItAi4CLwIwAjECMgIzAjQCNQI2AjcCOAI5AjoCOwI8Aj0CPgI/AkACQQJCAkMCRAJFAkYCRwJIAkkCSgJLAkwCTQJOAk8CUAJRAlICUwJUAlUCVgJXAlgCWQJaAlsCXAJdAl4CXwJgAmECYgJjAmQCZQJmAmcCaAJpAmoCawJsAm0CbgJvAnACcQJyAnMCdAJ1AnYCdwJ4AnkCegJ7AnwCfQJ+An8CgAKBAoICgwKEAoUChgKHAogCiQKKAosCjAKNAo4CjwKQApECkgKTApQClQKWApcCmAKZApoCmwKcAp0CngKfAqACoQKiAqMCpAKlAqYCpwKoAqkCqgKrAqwCrQKuAq8CsAKxArICswK0ArUCtgK3ArgCuQK6ArsCvAK9Ar4CvwLAAsECwgLDAsQCxQLGAscCyALJAsoCywLMAs0CzgLPAtAC0QLSAtMC1ALVAtYC1wLYAtkC2gLbAtwC3QLeAt8C4ALhAuIC4wLkAuUC5gLnAugC6QLqAusC7ALtAu4C7wLwAvEC8gLzAvQC9QL2AvcC+AL5AvoC+wL8Av0C/gL/AgADAQMCAwMDBAMFAwYDBwMIAwkDCgMLAwwDDQMOAw8DEAMRAxIDEwMUAxUDFgMXAxgDGQMaAxsDHAMdAx4DHwMgAyEDIgMjAyQDJQMmAycDKAMpAyoDKwMsAy0DLgMvAzADMQMyAzMDNAM1AzYDNwM4AzkDOgM7AzwDPQM+Az8DQANBA0IDQwNEA0UDRgNHA0gDSQNKA0sDTANNA04DTwNQA1EDUgNTA1QDVQNWA1cDWANZA1oDWwNcA10DXgNfA2ADYQNiA2MDZANlA2YDZwNoA2kDagNrA2wDbQNuA28DcANxA3IDcwN0A3UDdgN3A3gDeQN6A3sDfAN9A34DfwOAA4EDggODA4QDhQOGA4cDiAOJA4oDiwOMA40DjgOPA5ADkQOSA5MDlAOVA5YDlwOYA5kDmgObA5wDnQOeA58DoAOhA6IDowOkA6UDpgOnA6gDqQOqA6sDrAOtA64DrwOwA7EDsgOzA7QDtQO2A7cDuAO5A7oDuwO8A70DvgO/A8ADwQPCA8MDxAPFA8YDxwPIA8kDygPLA8wDzQPOA88D0APRA9ID0wPUA9UD1gPXA9gD2QPaA9sD3APdA94D3wPgA+ED4gPjA+QD5QPmA+cD6APpA+oD6wPsA+0D7gPvA/AD8QPyA/MD9AP1A/YD9wP4A/kD+gP7A/wD/QP+A/8DAAQBBAIEAwQEBAUEBgQHBAgECQQKBAsEDAQNBA4EDwQQBBEEEgQTBBQEFQQWBBcEGAQZBBoEGwQcBB0EHgQfBCAEIQQiBCME",
          "dtype": "i2"
         },
         "xaxis": "x",
         "y": {
          "bdata": "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",
          "dtype": "f8"
         },
         "yaxis": "y"
        },
        {
         "line": {
          "color": "green"
         },
         "mode": "lines+markers",
         "name": "Distance over Time",
         "type": "scatter",
         "x": [
          "2024-08-20T12:31:31.621807575",
          "2024-08-20T12:31:31.681648731",
          "2024-08-20T12:31:31.742511034",
          "2024-08-20T12:31:31.818883181",
          "2024-08-20T12:31:31.874155045",
          "2024-08-20T12:31:31.937494755",
          "2024-08-20T12:31:31.999329090",
          "2024-08-20T12:31:32.063158035",
          "2024-08-20T12:31:32.130053520",
          "2024-08-20T12:31:32.191398144",
          "2024-08-20T12:31:32.254230738",
          "2024-08-20T12:31:32.318058729",
          "2024-08-20T12:31:32.395849943",
          "2024-08-20T12:31:32.445717096",
          "2024-08-20T12:31:32.511543512",
          "2024-08-20T12:31:32.576503515",
          "2024-08-20T12:31:32.637341022",
          "2024-08-20T12:31:32.702203035",
          "2024-08-20T12:31:32.768987656",
          "2024-08-20T12:31:32.829861403",
          "2024-08-20T12:31:32.894687653",
          "2024-08-20T12:31:32.962601185",
          "2024-08-20T12:31:33.025435448",
          "2024-08-20T12:31:33.088264227",
          "2024-08-20T12:31:33.151147127",
          "2024-08-20T12:31:33.218916655",
          "2024-08-20T12:31:33.280750036",
          "2024-08-20T12:31:33.342585087",
          "2024-08-20T12:31:33.407411814",
          "2024-08-20T12:31:33.484754801",
          "2024-08-20T12:31:33.533624887",
          "2024-08-20T12:31:33.610753059",
          "2024-08-20T12:31:33.671589851",
          "2024-08-20T12:31:33.730820179",
          "2024-08-20T12:31:33.790660143",
          "2024-08-20T12:31:33.854523897",
          "2024-08-20T12:31:33.919317245",
          "2024-08-20T12:31:33.984568357",
          "2024-08-20T12:31:34.048381805",
          "2024-08-20T12:31:34.117199183",
          "2024-08-20T12:31:34.183008671",
          "2024-08-20T12:31:34.237861395",
          "2024-08-20T12:31:34.303685427",
          "2024-08-20T12:31:34.367515802",
          "2024-08-20T12:31:34.431509018",
          "2024-08-20T12:31:34.508416414",
          "2024-08-20T12:31:34.565290689",
          "2024-08-20T12:31:34.624107361",
          "2024-08-20T12:31:34.686995983",
          "2024-08-20T12:31:34.749772310",
          "2024-08-20T12:31:34.822613001",
          "2024-08-20T12:31:34.882473946",
          "2024-08-20T12:31:34.943256378",
          "2024-08-20T12:31:35.006085634",
          "2024-08-20T12:31:35.075951576",
          "2024-08-20T12:31:35.139728308",
          "2024-08-20T12:31:35.197573662",
          "2024-08-20T12:31:35.264425278",
          "2024-08-20T12:31:35.328751326",
          "2024-08-20T12:31:35.404547215",
          "2024-08-20T12:31:35.454563379",
          "2024-08-20T12:31:35.522747992",
          "2024-08-20T12:31:35.597547531",
          "2024-08-20T12:31:35.666362762",
          "2024-08-20T12:31:35.716230869",
          "2024-08-20T12:31:35.779061317",
          "2024-08-20T12:31:35.839905977",
          "2024-08-20T12:31:35.902730942",
          "2024-08-20T12:31:35.968554974",
          "2024-08-20T12:31:36.034378290",
          "2024-08-20T12:31:36.146079779",
          "2024-08-20T12:31:36.202927351",
          "2024-08-20T12:31:36.253791808",
          "2024-08-20T12:31:36.310640812",
          "2024-08-20T12:31:36.362536430",
          "2024-08-20T12:31:36.415360451",
          "2024-08-20T12:31:36.612915516",
          "2024-08-20T12:31:36.629870653",
          "2024-08-20T12:31:36.686092138",
          "2024-08-20T12:31:36.731478691",
          "2024-08-20T12:31:36.792353392",
          "2024-08-20T12:31:36.835259199",
          "2024-08-20T12:31:36.882076502",
          "2024-08-20T12:31:36.930180311",
          "2024-08-20T12:31:36.995010138",
          "2024-08-20T12:31:37.057901382",
          "2024-08-20T12:31:37.120796442",
          "2024-08-20T12:31:37.190546751",
          "2024-08-20T12:31:37.245904446",
          "2024-08-20T12:31:37.310695887",
          "2024-08-20T12:31:37.375525713",
          "2024-08-20T12:31:37.443047285",
          "2024-08-20T12:31:37.501889229",
          "2024-08-20T12:31:37.570401907",
          "2024-08-20T12:31:37.634161472",
          "2024-08-20T12:31:37.698097229",
          "2024-08-20T12:31:37.760633230",
          "2024-08-20T12:31:37.822077274",
          "2024-08-20T12:31:37.890928745",
          "2024-08-20T12:31:37.950802088",
          "2024-08-20T12:31:38.016170025",
          "2024-08-20T12:31:38.079568386",
          "2024-08-20T12:31:38.144387484",
          "2024-08-20T12:31:38.206281900",
          "2024-08-20T12:31:38.272046804",
          "2024-08-20T12:31:38.335875273",
          "2024-08-20T12:31:38.399709225",
          "2024-08-20T12:31:38.464562416",
          "2024-08-20T12:31:38.526404619",
          "2024-08-20T12:31:38.595264912",
          "2024-08-20T12:31:38.654108047",
          "2024-08-20T12:31:38.719931841",
          "2024-08-20T12:31:38.783764362",
          "2024-08-20T12:31:38.857566357",
          "2024-08-20T12:31:38.911419630",
          "2024-08-20T12:31:38.976246357",
          "2024-08-20T12:31:39.042104006",
          "2024-08-20T12:31:39.101980925",
          "2024-08-20T12:31:39.166769743",
          "2024-08-20T12:31:39.232593060",
          "2024-08-20T12:31:39.297420025",
          "2024-08-20T12:31:39.361249447",
          "2024-08-20T12:31:39.423182011",
          "2024-08-20T12:31:39.490002155",
          "2024-08-20T12:31:39.549880981",
          "2024-08-20T12:31:39.614220381",
          "2024-08-20T12:31:39.680010796",
          "2024-08-20T12:31:39.748333454",
          "2024-08-20T12:31:39.812162876",
          "2024-08-20T12:31:39.877536774",
          "2024-08-20T12:31:40.073243380",
          "2024-08-20T12:31:40.086207151",
          "2024-08-20T12:31:40.148041010",
          "2024-08-20T12:31:40.191923618",
          "2024-08-20T12:31:40.237802505",
          "2024-08-20T12:31:40.300632715",
          "2024-08-20T12:31:40.345512867",
          "2024-08-20T12:31:40.391391993",
          "2024-08-20T12:31:40.451229811",
          "2024-08-20T12:31:40.517088412",
          "2024-08-20T12:31:40.581882000",
          "2024-08-20T12:31:40.639754295",
          "2024-08-20T12:31:40.703556538",
          "2024-08-20T12:31:40.769875050",
          "2024-08-20T12:31:40.833705902",
          "2024-08-20T12:31:40.910538912",
          "2024-08-20T12:31:40.974536657",
          "2024-08-20T12:31:41.029807091",
          "2024-08-20T12:31:41.085696697",
          "2024-08-20T12:31:41.153585434",
          "2024-08-20T12:31:41.224370241",
          "2024-08-20T12:31:41.289196968",
          "2024-08-20T12:31:41.349036694",
          "2024-08-20T12:31:41.405884266",
          "2024-08-20T12:31:41.472689152",
          "2024-08-20T12:31:41.540507078",
          "2024-08-20T12:31:41.601395369",
          "2024-08-20T12:31:41.668616772",
          "2024-08-20T12:31:41.727491379",
          "2024-08-20T12:31:41.791326761",
          "2024-08-20T12:31:41.859107018",
          "2024-08-20T12:31:41.926977396",
          "2024-08-20T12:31:41.982784510",
          "2024-08-20T12:31:42.058573484",
          "2024-08-20T12:31:42.111595631",
          "2024-08-20T12:31:42.179451942",
          "2024-08-20T12:31:42.239253283",
          "2024-08-20T12:31:42.305081129",
          "2024-08-20T12:31:42.369940758",
          "2024-08-20T12:31:42.492574692",
          "2024-08-20T12:31:42.547464371",
          "2024-08-20T12:31:42.607268095",
          "2024-08-20T12:31:42.656136990",
          "2024-08-20T12:31:42.714980364",
          "2024-08-20T12:31:42.763849974",
          "2024-08-20T12:31:42.821695328",
          "2024-08-20T12:31:42.879108429",
          "2024-08-20T12:31:42.943912029",
          "2024-08-20T12:31:43.009702921",
          "2024-08-20T12:31:43.071511984",
          "2024-08-20T12:31:43.133901834",
          "2024-08-20T12:31:43.203717709",
          "2024-08-20T12:31:43.261597157",
          "2024-08-20T12:31:43.326387167",
          "2024-08-20T12:31:43.394617081",
          "2024-08-20T12:31:43.464424372",
          "2024-08-20T12:31:43.518105029",
          "2024-08-20T12:31:43.583888292",
          "2024-08-20T12:31:43.646115065",
          "2024-08-20T12:31:43.712907553",
          "2024-08-20T12:31:43.773782730",
          "2024-08-20T12:31:43.840597391",
          "2024-08-20T12:31:43.906425953",
          "2024-08-20T12:31:43.967237234",
          "2024-08-20T12:31:44.030067205",
          "2024-08-20T12:31:44.103466988",
          "2024-08-20T12:31:44.162308455",
          "2024-08-20T12:31:44.223145008",
          "2024-08-20T12:31:44.291014671",
          "2024-08-20T12:31:44.349857092",
          "2024-08-20T12:31:44.415681124",
          "2024-08-20T12:31:44.479695797",
          "2024-08-20T12:31:44.542475224",
          "2024-08-20T12:31:44.613296270",
          "2024-08-20T12:31:44.672163725",
          "2024-08-20T12:31:44.734963417",
          "2024-08-20T12:31:44.800783157",
          "2024-08-20T12:31:44.875235319",
          "2024-08-20T12:31:44.934039116",
          "2024-08-20T12:31:44.991886139",
          "2024-08-20T12:31:45.054715633",
          "2024-08-20T12:31:45.123562574",
          "2024-08-20T12:31:45.184406042",
          "2024-08-20T12:31:45.253189325",
          "2024-08-20T12:31:45.314022064",
          "2024-08-20T12:31:45.391814232",
          "2024-08-20T12:31:45.503517866",
          "2024-08-20T12:31:45.563381672",
          "2024-08-20T12:31:45.625192165",
          "2024-08-20T12:31:45.689467907",
          "2024-08-20T12:31:45.743281364",
          "2024-08-20T12:31:45.799130917",
          "2024-08-20T12:31:45.849994183",
          "2024-08-20T12:31:45.911336899",
          "2024-08-20T12:31:45.973172188",
          "2024-08-20T12:31:46.031045198",
          "2024-08-20T12:31:46.077892065",
          "2024-08-20T12:31:46.141758204",
          "2024-08-20T12:31:46.209540129",
          "2024-08-20T12:31:46.271375179",
          "2024-08-20T12:31:46.336202383",
          "2024-08-20T12:31:46.402061224",
          "2024-08-20T12:31:46.463126421",
          "2024-08-20T12:31:46.525985479",
          "2024-08-20T12:31:46.593837023",
          "2024-08-20T12:31:46.663606167",
          "2024-08-20T12:31:46.721510649",
          "2024-08-20T12:31:46.782323599",
          "2024-08-20T12:31:46.850108624",
          "2024-08-20T12:31:46.921957970",
          "2024-08-20T12:31:46.977843285",
          "2024-08-20T12:31:47.038705826",
          "2024-08-20T12:31:47.102475882",
          "2024-08-20T12:31:47.169295788",
          "2024-08-20T12:31:47.230172157",
          "2024-08-20T12:31:47.304938078",
          "2024-08-20T12:31:47.368804932",
          "2024-08-20T12:31:47.427606583",
          "2024-08-20T12:31:47.491471767",
          "2024-08-20T12:31:47.555302143",
          "2024-08-20T12:31:47.623177528",
          "2024-08-20T12:31:47.811676741",
          "2024-08-20T12:31:47.827633619",
          "2024-08-20T12:31:47.877500534",
          "2024-08-20T12:31:47.938337326",
          "2024-08-20T12:31:47.984474659",
          "2024-08-20T12:31:48.027358532",
          "2024-08-20T12:31:48.088195324",
          "2024-08-20T12:31:48.136068344",
          "2024-08-20T12:31:48.191809654",
          "2024-08-20T12:31:48.256190538",
          "2024-08-20T12:31:48.321072102",
          "2024-08-20T12:31:48.382852077",
          "2024-08-20T12:31:48.445721865",
          "2024-08-20T12:31:48.511081219",
          "2024-08-20T12:31:48.576905251",
          "2024-08-20T12:31:48.638738394",
          "2024-08-20T12:31:48.701770544",
          "2024-08-20T12:31:48.774565697",
          "2024-08-20T12:31:48.831388712",
          "2024-08-20T12:31:48.893730640",
          "2024-08-20T12:31:48.961057901",
          "2024-08-20T12:31:49.028914213",
          "2024-08-20T12:31:49.090711117",
          "2024-08-20T12:31:49.154539824",
          "2024-08-20T12:31:49.213383436",
          "2024-08-20T12:31:49.279206991",
          "2024-08-20T12:31:49.345029116",
          "2024-08-20T12:31:49.405867100",
          "2024-08-20T12:31:49.473721266",
          "2024-08-20T12:31:49.545494080",
          "2024-08-20T12:31:49.602399588",
          "2024-08-20T12:31:49.663179159",
          "2024-08-20T12:31:49.729102612",
          "2024-08-20T12:31:49.791011810",
          "2024-08-20T12:31:49.853843212",
          "2024-08-20T12:31:49.919657946",
          "2024-08-20T12:31:49.983487844",
          "2024-08-20T12:31:50.046319723",
          "2024-08-20T12:31:50.110692024",
          "2024-08-20T12:31:50.174520016",
          "2024-08-20T12:31:50.238417864",
          "2024-08-20T12:31:50.303511620",
          "2024-08-20T12:31:50.366343737",
          "2024-08-20T12:31:50.432175159",
          "2024-08-20T12:31:50.505977631",
          "2024-08-20T12:31:50.560830355",
          "2024-08-20T12:31:50.670942068",
          "2024-08-20T12:31:50.726747036",
          "2024-08-20T12:31:50.789601564",
          "2024-08-20T12:31:50.825510979",
          "2024-08-20T12:31:50.890295744",
          "2024-08-20T12:31:50.943155289",
          "2024-08-20T12:31:51.012972832",
          "2024-08-20T12:31:51.074837446",
          "2024-08-20T12:31:51.134642601",
          "2024-08-20T12:31:51.200467348",
          "2024-08-20T12:31:51.273272991",
          "2024-08-20T12:31:51.336102962",
          "2024-08-20T12:31:51.389957905",
          "2024-08-20T12:31:51.454820395",
          "2024-08-20T12:31:51.517674922",
          "2024-08-20T12:31:51.586463928",
          "2024-08-20T12:31:51.646686554",
          "2024-08-20T12:31:51.712054014",
          "2024-08-20T12:31:51.782867193",
          "2024-08-20T12:31:51.838715792",
          "2024-08-20T12:31:51.903051376",
          "2024-08-20T12:31:51.967877626",
          "2024-08-20T12:31:52.030061007",
          "2024-08-20T12:31:52.102158070",
          "2024-08-20T12:31:52.168978691",
          "2024-08-20T12:31:52.222800970",
          "2024-08-20T12:31:52.292626858",
          "2024-08-20T12:31:52.351458549",
          "2024-08-20T12:31:52.418277025",
          "2024-08-20T12:31:52.481150866",
          "2024-08-20T12:31:52.541553497",
          "2024-08-20T12:31:52.606345415",
          "2024-08-20T12:31:52.673228025",
          "2024-08-20T12:31:52.735998154",
          "2024-08-20T12:31:52.798882484",
          "2024-08-20T12:31:52.862711668",
          "2024-08-20T12:31:52.927570105",
          "2024-08-20T12:31:52.990370035",
          "2024-08-20T12:31:53.070696592",
          "2024-08-20T12:31:53.131572007",
          "2024-08-20T12:31:53.195363998",
          "2024-08-20T12:31:53.245267153",
          "2024-08-20T12:31:53.310670376",
          "2024-08-20T12:31:53.375495911",
          "2024-08-20T12:31:53.440849304",
          "2024-08-20T12:31:53.502685069",
          "2024-08-20T12:31:53.581473112",
          "2024-08-20T12:31:53.671237707",
          "2024-08-20T12:31:53.730012655",
          "2024-08-20T12:31:53.778313637",
          "2024-08-20T12:31:53.833030939",
          "2024-08-20T12:31:53.893876076",
          "2024-08-20T12:31:53.949759483",
          "2024-08-20T12:31:54.014583826",
          "2024-08-20T12:31:54.080477238",
          "2024-08-20T12:31:54.146250486",
          "2024-08-20T12:31:54.208119631",
          "2024-08-20T12:31:54.272945881",
          "2024-08-20T12:31:54.337438822",
          "2024-08-20T12:31:54.401267767",
          "2024-08-20T12:31:54.464104652",
          "2024-08-20T12:31:54.525992393",
          "2024-08-20T12:31:54.604726553",
          "2024-08-20T12:31:54.660574675",
          "2024-08-20T12:31:54.717456818",
          "2024-08-20T12:31:54.788233280",
          "2024-08-20T12:31:54.846078873",
          "2024-08-20T12:31:54.909790993",
          "2024-08-20T12:31:54.976554394",
          "2024-08-20T12:31:55.039385557",
          "2024-08-20T12:31:55.105245590",
          "2024-08-20T12:31:55.171085119",
          "2024-08-20T12:31:55.230873108",
          "2024-08-20T12:31:55.299697399",
          "2024-08-20T12:31:55.362556934",
          "2024-08-20T12:31:55.429852486",
          "2024-08-20T12:31:55.490688562",
          "2024-08-20T12:31:55.549531460",
          "2024-08-20T12:31:55.615355253",
          "2024-08-20T12:31:55.682177305",
          "2024-08-20T12:31:55.744011879",
          "2024-08-20T12:31:55.807841063",
          "2024-08-20T12:31:55.870673656",
          "2024-08-20T12:31:55.949462414",
          "2024-08-20T12:31:56.003352642",
          "2024-08-20T12:31:56.067021132",
          "2024-08-20T12:31:56.125862597",
          "2024-08-20T12:31:56.193681240",
          "2024-08-20T12:31:56.253522635",
          "2024-08-20T12:31:56.318383694",
          "2024-08-20T12:31:56.386166811",
          "2024-08-20T12:31:56.448000908",
          "2024-08-20T12:31:56.512829065",
          "2024-08-20T12:31:56.583638668",
          "2024-08-20T12:31:56.640494585",
          "2024-08-20T12:31:56.703325510",
          "2024-08-20T12:31:56.767193556",
          "2024-08-20T12:31:56.835482836",
          "2024-08-20T12:31:56.902304649",
          "2024-08-20T12:31:56.962438345",
          "2024-08-20T12:31:57.025873184",
          "2024-08-20T12:31:57.087665081",
          "2024-08-20T12:31:57.154531956",
          "2024-08-20T12:31:57.214373350",
          "2024-08-20T12:31:57.293160200",
          "2024-08-20T12:31:57.345025063",
          "2024-08-20T12:31:57.412839890",
          "2024-08-20T12:31:57.473701954",
          "2024-08-20T12:31:57.534539223",
          "2024-08-20T12:31:57.604353428",
          "2024-08-20T12:31:57.663195133",
          "2024-08-20T12:31:57.726027727",
          "2024-08-20T12:31:57.791850805",
          "2024-08-20T12:31:57.855682135",
          "2024-08-20T12:31:57.919509649",
          "2024-08-20T12:31:57.984847546",
          "2024-08-20T12:31:58.048672438",
          "2024-08-20T12:31:58.114497423",
          "2024-08-20T12:31:58.232179642",
          "2024-08-20T12:31:58.303023338",
          "2024-08-20T12:31:58.362874031",
          "2024-08-20T12:31:58.422821522",
          "2024-08-20T12:31:58.476673603",
          "2024-08-20T12:31:58.501605749",
          "2024-08-20T12:31:58.569931507",
          "2024-08-20T12:31:58.628283978",
          "2024-08-20T12:31:58.687161207",
          "2024-08-20T12:31:58.754455805",
          "2024-08-20T12:31:58.874644995",
          "2024-08-20T12:31:58.942510366",
          "2024-08-20T12:31:59.005335093",
          "2024-08-20T12:31:59.067801952",
          "2024-08-20T12:31:59.130631208",
          "2024-08-20T12:31:59.181493998",
          "2024-08-20T12:31:59.239844561",
          "2024-08-20T12:31:59.299728394",
          "2024-08-20T12:31:59.346602917",
          "2024-08-20T12:31:59.392479658",
          "2024-08-20T12:31:59.455312490",
          "2024-08-20T12:31:59.519181966",
          "2024-08-20T12:31:59.584981441",
          "2024-08-20T12:31:59.647796392",
          "2024-08-20T12:31:59.710932016",
          "2024-08-20T12:31:59.783735514",
          "2024-08-20T12:31:59.839586020",
          "2024-08-20T12:31:59.903450012",
          "2024-08-20T12:31:59.966248512",
          "2024-08-20T12:32:00.031110048",
          "2024-08-20T12:32:00.101887941",
          "2024-08-20T12:32:00.159729958",
          "2024-08-20T12:32:00.222562075",
          "2024-08-20T12:32:00.287391663",
          "2024-08-20T12:32:00.352120399",
          "2024-08-20T12:32:00.413935184",
          "2024-08-20T12:32:00.478729010",
          "2024-08-20T12:32:00.542225122",
          "2024-08-20T12:32:00.610045195",
          "2024-08-20T12:32:00.671614647",
          "2024-08-20T12:32:00.735095501",
          "2024-08-20T12:32:00.799942493",
          "2024-08-20T12:32:00.863315344",
          "2024-08-20T12:32:00.928106546",
          "2024-08-20T12:32:01.008890390",
          "2024-08-20T12:32:01.070760727",
          "2024-08-20T12:32:01.117598772",
          "2024-08-20T12:32:01.181464672",
          "2024-08-20T12:32:01.245420218",
          "2024-08-20T12:32:01.314198017",
          "2024-08-20T12:32:01.377030849",
          "2024-08-20T12:32:01.439896584",
          "2024-08-20T12:32:01.512666941",
          "2024-08-20T12:32:01.589461088",
          "2024-08-20T12:32:01.634341002",
          "2024-08-20T12:32:01.695178032",
          "2024-08-20T12:32:01.761003256",
          "2024-08-20T12:32:01.821839809",
          "2024-08-20T12:32:01.885703325",
          "2024-08-20T12:32:01.950496435",
          "2024-08-20T12:32:02.016355275",
          "2024-08-20T12:32:02.079560041",
          "2024-08-20T12:32:02.147934437",
          "2024-08-20T12:32:02.205846548",
          "2024-08-20T12:32:02.270641804",
          "2024-08-20T12:32:02.344480515",
          "2024-08-20T12:32:02.461406469",
          "2024-08-20T12:32:02.517229556",
          "2024-08-20T12:32:02.564082146",
          "2024-08-20T12:32:02.629870892",
          "2024-08-20T12:32:02.699684858",
          "2024-08-20T12:32:02.746571541",
          "2024-08-20T12:32:02.795462847",
          "2024-08-20T12:32:02.853273153",
          "2024-08-20T12:32:02.914112091",
          "2024-08-20T12:32:02.973954678",
          "2024-08-20T12:32:03.051743984",
          "2024-08-20T12:32:03.102615833",
          "2024-08-20T12:32:03.168430090",
          "2024-08-20T12:32:03.248250484",
          "2024-08-20T12:32:03.296088934",
          "2024-08-20T12:32:03.361934662",
          "2024-08-20T12:32:03.423750877",
          "2024-08-20T12:32:03.487687349",
          "2024-08-20T12:32:03.550518513",
          "2024-08-20T12:32:03.618339300",
          "2024-08-20T12:32:03.692140341",
          "2024-08-20T12:32:03.742039919",
          "2024-08-20T12:32:03.805836201",
          "2024-08-20T12:32:03.872937918",
          "2024-08-20T12:32:03.934771776",
          "2024-08-20T12:32:04.138708115",
          "2024-08-20T12:32:04.162652016",
          "2024-08-20T12:32:04.215462923",
          "2024-08-20T12:32:04.261340141",
          "2024-08-20T12:32:04.305223465",
          "2024-08-20T12:32:04.367092133",
          "2024-08-20T12:32:04.410940409",
          "2024-08-20T12:32:04.457854271",
          "2024-08-20T12:32:04.517654896",
          "2024-08-20T12:32:04.580527544",
          "2024-08-20T12:32:04.637335539",
          "2024-08-20T12:32:04.706151247",
          "2024-08-20T12:32:04.765990496",
          "2024-08-20T12:32:04.830850601",
          "2024-08-20T12:32:04.894646168",
          "2024-08-20T12:32:04.958475590",
          "2024-08-20T12:32:05.028358459",
          "2024-08-20T12:32:05.090869427",
          "2024-08-20T12:32:05.155694008",
          "2024-08-20T12:32:05.220520258",
          "2024-08-20T12:32:05.280360222",
          "2024-08-20T12:32:05.344203472",
          "2024-08-20T12:32:05.416617870",
          "2024-08-20T12:32:05.473434925",
          "2024-08-20T12:32:05.533270836",
          "2024-08-20T12:32:05.599692583",
          "2024-08-20T12:32:05.668574572",
          "2024-08-20T12:32:05.727350950",
          "2024-08-20T12:32:05.791183472",
          "2024-08-20T12:32:05.854014158",
          "2024-08-20T12:32:05.924823761",
          "2024-08-20T12:32:05.983665466",
          "2024-08-20T12:32:06.046497345",
          "2024-08-20T12:32:06.113318920",
          "2024-08-20T12:32:06.185126543",
          "2024-08-20T12:32:06.244966507",
          "2024-08-20T12:32:06.305804491",
          "2024-08-20T12:32:06.427478552",
          "2024-08-20T12:32:06.476348162",
          "2024-08-20T12:32:06.519232987",
          "2024-08-20T12:32:06.580214500",
          "2024-08-20T12:32:06.640358686",
          "2024-08-20T12:32:06.689215422",
          "2024-08-20T12:32:06.750109673",
          "2024-08-20T12:32:06.817869663",
          "2024-08-20T12:32:06.883101940",
          "2024-08-20T12:32:06.941977024",
          "2024-08-20T12:32:07.051910162",
          "2024-08-20T12:32:07.107870817",
          "2024-08-20T12:32:07.159778595",
          "2024-08-20T12:32:07.225763559",
          "2024-08-20T12:32:07.280441046",
          "2024-08-20T12:32:07.327314854",
          "2024-08-20T12:32:07.392040730",
          "2024-08-20T12:32:07.453844547",
          "2024-08-20T12:32:07.519663572",
          "2024-08-20T12:32:07.585496664",
          "2024-08-20T12:32:07.646383524",
          "2024-08-20T12:32:07.712150097",
          "2024-08-20T12:32:07.776016474",
          "2024-08-20T12:32:07.839809179",
          "2024-08-20T12:32:07.902639627",
          "2024-08-20T12:32:07.965471029",
          "2024-08-20T12:32:08.032032250",
          "2024-08-20T12:32:08.093867064",
          "2024-08-20T12:32:08.167701006",
          "2024-08-20T12:32:08.227540970",
          "2024-08-20T12:32:08.295396090",
          "2024-08-20T12:32:08.349215508",
          "2024-08-20T12:32:08.416072607",
          "2024-08-20T12:32:08.480871439",
          "2024-08-20T12:32:08.542946577",
          "2024-08-20T12:32:08.606839895",
          "2024-08-20T12:32:08.670669317",
          "2024-08-20T12:32:08.748494625",
          "2024-08-20T12:32:08.810294867",
          "2024-08-20T12:32:08.870174646",
          "2024-08-20T12:32:08.929901600",
          "2024-08-20T12:32:08.990741253",
          "2024-08-20T12:32:09.054567575",
          "2024-08-20T12:32:09.119748592",
          "2024-08-20T12:32:09.183618307",
          "2024-08-20T12:32:09.246409178",
          "2024-08-20T12:32:09.310237885",
          "2024-08-20T12:32:09.376274586",
          "2024-08-20T12:32:09.444119215",
          "2024-08-20T12:32:09.505930185",
          "2024-08-20T12:32:09.570753813",
          "2024-08-20T12:32:09.633613825",
          "2024-08-20T12:32:09.695421457",
          "2024-08-20T12:32:09.758251190",
          "2024-08-20T12:32:09.823078632",
          "2024-08-20T12:32:09.892893553",
          "2024-08-20T12:32:09.950737238",
          "2024-08-20T12:32:10.014777422",
          "2024-08-20T12:32:10.086585045",
          "2024-08-20T12:32:10.141972303",
          "2024-08-20T12:32:10.210790157",
          "2024-08-20T12:32:10.270623446",
          "2024-08-20T12:32:10.334451199",
          "2024-08-20T12:32:10.401107311",
          "2024-08-20T12:32:10.475941658",
          "2024-08-20T12:32:10.526770592",
          "2024-08-20T12:32:10.592339277",
          "2024-08-20T12:32:10.654148579",
          "2024-08-20T12:32:10.718975782",
          "2024-08-20T12:32:10.782802105",
          "2024-08-20T12:32:10.848627567",
          "2024-08-20T12:32:10.910460711",
          "2024-08-20T12:32:10.977282286",
          "2024-08-20T12:32:11.039152861",
          "2024-08-20T12:32:11.103947401",
          "2024-08-20T12:32:11.167773247",
          "2024-08-20T12:32:11.229755402",
          "2024-08-20T12:32:11.300566435",
          "2024-08-20T12:32:11.360479593",
          "2024-08-20T12:32:11.429301023",
          "2024-08-20T12:32:11.491092443",
          "2024-08-20T12:32:11.549935341",
          "2024-08-20T12:32:11.614765167",
          "2024-08-20T12:32:11.678591490",
          "2024-08-20T12:32:11.881561279",
          "2024-08-20T12:32:11.898514748",
          "2024-08-20T12:32:11.957359314",
          "2024-08-20T12:32:12.000243187",
          "2024-08-20T12:32:12.059998989",
          "2024-08-20T12:32:12.107871294",
          "2024-08-20T12:32:12.150756359",
          "2024-08-20T12:32:12.212984085",
          "2024-08-20T12:32:12.266843080",
          "2024-08-20T12:32:12.333659649",
          "2024-08-20T12:32:12.400614738",
          "2024-08-20T12:32:12.452477217",
          "2024-08-20T12:32:12.509835005",
          "2024-08-20T12:32:12.584639788",
          "2024-08-20T12:32:12.639522791",
          "2024-08-20T12:32:12.704347134",
          "2024-08-20T12:32:12.766216516",
          "2024-08-20T12:32:12.831049442",
          "2024-08-20T12:32:12.897837639",
          "2024-08-20T12:32:12.957735538",
          "2024-08-20T12:32:13.023500681",
          "2024-08-20T12:32:13.087365866",
          "2024-08-20T12:32:13.162170649",
          "2024-08-20T12:32:13.215023041",
          "2024-08-20T12:32:13.280812502",
          "2024-08-20T12:32:13.341650486",
          "2024-08-20T12:32:13.405478477",
          "2024-08-20T12:32:13.470162392",
          "2024-08-20T12:32:13.536520719",
          "2024-08-20T12:32:13.601319313",
          "2024-08-20T12:32:13.662052870",
          "2024-08-20T12:32:13.725847721",
          "2024-08-20T12:32:13.791673660",
          "2024-08-20T12:32:13.853515148",
          "2024-08-20T12:32:13.930917978",
          "2024-08-20T12:32:13.993786335",
          "2024-08-20T12:32:14.059574604",
          "2024-08-20T12:32:14.110471010",
          "2024-08-20T12:32:14.175262690",
          "2024-08-20T12:32:14.239600658",
          "2024-08-20T12:32:14.304803610",
          "2024-08-20T12:32:14.370627165",
          "2024-08-20T12:32:14.430467367",
          "2024-08-20T12:32:14.494708300",
          "2024-08-20T12:32:14.558565378",
          "2024-08-20T12:32:14.631342411",
          "2024-08-20T12:32:14.685559273",
          "2024-08-20T12:32:14.750857830",
          "2024-08-20T12:32:14.813715219",
          "2024-08-20T12:32:14.879512548",
          "2024-08-20T12:32:14.945337057",
          "2024-08-20T12:32:15.009166241",
          "2024-08-20T12:32:15.070513248",
          "2024-08-20T12:32:15.136845350",
          "2024-08-20T12:32:15.243623495",
          "2024-08-20T12:32:15.292493105",
          "2024-08-20T12:32:15.336418152",
          "2024-08-20T12:32:15.403240204",
          "2024-08-20T12:32:15.460046530",
          "2024-08-20T12:32:15.519924878",
          "2024-08-20T12:32:15.582721472",
          "2024-08-20T12:32:15.646606445",
          "2024-08-20T12:32:15.718358517",
          "2024-08-20T12:32:15.777199030",
          "2024-08-20T12:32:15.840064526",
          "2024-08-20T12:32:15.907848120",
          "2024-08-20T12:32:15.965693712",
          "2024-08-20T12:32:16.031555175",
          "2024-08-20T12:32:16.096345186",
          "2024-08-20T12:32:16.159226656",
          "2024-08-20T12:32:16.222518921",
          "2024-08-20T12:32:16.286342859",
          "2024-08-20T12:32:16.351169825",
          "2024-08-20T12:32:16.413003683",
          "2024-08-20T12:32:16.480856419",
          "2024-08-20T12:32:16.542655945",
          "2024-08-20T12:32:16.610476255",
          "2024-08-20T12:32:16.670314550",
          "2024-08-20T12:32:16.734145641",
          "2024-08-20T12:32:16.799000502",
          "2024-08-20T12:32:16.881431103",
          "2024-08-20T12:32:16.929389238",
          "2024-08-20T12:32:16.989288330",
          "2024-08-20T12:32:17.056051016",
          "2024-08-20T12:32:17.117888451",
          "2024-08-20T12:32:17.183228970",
          "2024-08-20T12:32:17.246451139",
          "2024-08-20T12:32:17.311335325",
          "2024-08-20T12:32:17.374109983",
          "2024-08-20T12:32:17.440968990",
          "2024-08-20T12:32:17.502764702",
          "2024-08-20T12:32:17.568790674",
          "2024-08-20T12:32:17.629988670",
          "2024-08-20T12:32:17.707792282",
          "2024-08-20T12:32:17.769598246",
          "2024-08-20T12:32:17.823451996",
          "2024-08-20T12:32:17.886348248",
          "2024-08-20T12:32:17.957094431",
          "2024-08-20T12:32:18.015938759",
          "2024-08-20T12:32:18.084788322",
          "2024-08-20T12:32:18.142599106",
          "2024-08-20T12:32:18.207425594",
          "2024-08-20T12:32:18.270257473",
          "2024-08-20T12:32:18.335122108",
          "2024-08-20T12:32:18.399975538",
          "2024-08-20T12:32:18.470842600",
          "2024-08-20T12:32:18.525648832",
          "2024-08-20T12:32:18.590513945",
          "2024-08-20T12:32:18.657296419",
          "2024-08-20T12:32:18.718192339",
          "2024-08-20T12:32:18.782960415",
          "2024-08-20T12:32:18.847694159",
          "2024-08-20T12:32:18.910487652",
          "2024-08-20T12:32:18.975023031",
          "2024-08-20T12:32:19.037863016",
          "2024-08-20T12:32:19.103645325",
          "2024-08-20T12:32:19.172459364",
          "2024-08-20T12:32:19.240307093",
          "2024-08-20T12:32:19.297124147",
          "2024-08-20T12:32:19.359956264",
          "2024-08-20T12:32:19.425780773",
          "2024-08-20T12:32:19.623049498",
          "2024-08-20T12:32:19.641996622",
          "2024-08-20T12:32:19.698847055",
          "2024-08-20T12:32:19.756545067",
          "2024-08-20T12:32:19.804416180",
          "2024-08-20T12:32:19.850294828",
          "2024-08-20T12:32:19.894176245",
          "2024-08-20T12:32:19.955012321",
          "2024-08-20T12:32:20.001924038",
          "2024-08-20T12:32:20.070703506",
          "2024-08-20T12:32:20.132539988",
          "2024-08-20T12:32:20.191419840",
          "2024-08-20T12:32:20.262194872",
          "2024-08-20T12:32:20.322516203",
          "2024-08-20T12:32:20.387259722",
          "2024-08-20T12:32:20.446102619",
          "2024-08-20T12:32:20.520902157",
          "2024-08-20T12:32:20.584731817",
          "2024-08-20T12:32:20.653100014",
          "2024-08-20T12:32:20.706911802",
          "2024-08-20T12:32:20.771246910",
          "2024-08-20T12:32:20.832086563",
          "2024-08-20T12:32:20.895421505",
          "2024-08-20T12:32:20.959251165",
          "2024-08-20T12:32:21.024112225",
          "2024-08-20T12:32:21.086937666",
          "2024-08-20T12:32:21.150739670",
          "2024-08-20T12:32:21.215182066",
          "2024-08-20T12:32:21.288241148",
          "2024-08-20T12:32:21.342065573",
          "2024-08-20T12:32:21.407263279",
          "2024-08-20T12:32:21.483011246",
          "2024-08-20T12:32:21.532878399",
          "2024-08-20T12:32:21.599734306",
          "2024-08-20T12:32:21.667518377",
          "2024-08-20T12:32:21.730396748",
          "2024-08-20T12:32:21.791186571",
          "2024-08-20T12:32:21.855018854",
          "2024-08-20T12:32:21.920847893",
          "2024-08-20T12:32:21.982674122",
          "2024-08-20T12:32:22.189171791",
          "2024-08-20T12:32:22.202137947",
          "2024-08-20T12:32:22.256990194",
          "2024-08-20T12:32:22.320201874",
          "2024-08-20T12:32:22.365945339",
          "2024-08-20T12:32:22.409827948",
          "2024-08-20T12:32:22.457733631",
          "2024-08-20T12:32:22.516542673",
          "2024-08-20T12:32:22.564417124",
          "2024-08-20T12:32:22.622356653",
          "2024-08-20T12:32:22.687514067",
          "2024-08-20T12:32:22.750309229",
          "2024-08-20T12:32:22.818037748",
          "2024-08-20T12:32:22.886855364",
          "2024-08-20T12:32:22.941748381",
          "2024-08-20T12:32:23.005697012",
          "2024-08-20T12:32:23.077054977",
          "2024-08-20T12:32:23.133903503",
          "2024-08-20T12:32:23.235785723",
          "2024-08-20T12:32:23.298555374",
          "2024-08-20T12:32:23.360395193",
          "2024-08-20T12:32:23.415242434",
          "2024-08-20T12:32:23.455136061",
          "2024-08-20T12:32:23.520959139",
          "2024-08-20T12:32:23.591769695",
          "2024-08-20T12:32:23.645626307",
          "2024-08-20T12:32:23.709454775",
          "2024-08-20T12:32:23.781263590",
          "2024-08-20T12:32:23.837112904",
          "2024-08-20T12:32:23.903935671",
          "2024-08-20T12:32:23.965770245",
          "2024-08-20T12:32:24.034584522",
          "2024-08-20T12:32:24.102404833",
          "2024-08-20T12:32:24.158255816",
          "2024-08-20T12:32:24.223082304",
          "2024-08-20T12:32:24.300907373",
          "2024-08-20T12:32:24.357778549",
          "2024-08-20T12:32:24.416562796",
          "2024-08-20T12:32:24.479396105",
          "2024-08-20T12:32:24.543224573",
          "2024-08-20T12:32:24.606056452",
          "2024-08-20T12:32:24.671190023",
          "2024-08-20T12:32:24.737014294",
          "2024-08-20T12:32:24.801352024",
          "2024-08-20T12:32:24.864221811",
          "2024-08-20T12:32:24.932000160",
          "2024-08-20T12:32:24.992837667",
          "2024-08-20T12:32:25.054672956",
          "2024-08-20T12:32:25.118500710",
          "2024-08-20T12:32:25.195301294",
          "2024-08-20T12:32:25.253140926",
          "2024-08-20T12:32:25.311498642",
          "2024-08-20T12:32:25.375326633",
          "2024-08-20T12:32:25.440153599",
          "2024-08-20T12:32:25.641125202",
          "2024-08-20T12:32:25.657083750",
          "2024-08-20T12:32:25.720910788",
          "2024-08-20T12:32:25.765789747",
          "2024-08-20T12:32:25.811667442",
          "2024-08-20T12:32:25.873502493",
          "2024-08-20T12:32:25.917384863",
          "2024-08-20T12:32:25.965266705",
          "2024-08-20T12:32:26.015124083",
          "2024-08-20T12:32:26.081945181",
          "2024-08-20T12:32:26.143970490",
          "2024-08-20T12:32:26.207308531",
          "2024-08-20T12:32:26.277124882",
          "2024-08-20T12:32:26.335473299",
          "2024-08-20T12:32:26.399356604",
          "2024-08-20T12:32:26.469116211",
          "2024-08-20T12:32:26.526027203",
          "2024-08-20T12:32:26.599806547",
          "2024-08-20T12:32:26.662598610",
          "2024-08-20T12:32:26.719447613",
          "2024-08-20T12:32:26.787300110",
          "2024-08-20T12:32:26.846109152",
          "2024-08-20T12:32:26.909974575",
          "2024-08-20T12:32:26.982742786",
          "2024-08-20T12:32:27.039618492",
          "2024-08-20T12:32:27.109428883",
          "2024-08-20T12:32:27.168270826",
          "2024-08-20T12:32:27.244070053",
          "2024-08-20T12:32:27.300915718",
          "2024-08-20T12:32:27.358763456",
          "2024-08-20T12:32:27.430572271",
          "2024-08-20T12:32:27.495396614",
          "2024-08-20T12:32:27.552243471",
          "2024-08-20T12:32:27.618986607",
          "2024-08-20T12:32:27.679826498",
          "2024-08-20T12:32:27.744651794",
          "2024-08-20T12:32:27.811474085",
          "2024-08-20T12:32:27.871311665",
          "2024-08-20T12:32:27.938232660",
          "2024-08-20T12:32:28.007043123",
          "2024-08-20T12:32:28.066883086",
          "2024-08-20T12:32:28.126723528",
          "2024-08-20T12:32:28.193597555",
          "2024-08-20T12:32:28.260417461",
          "2024-08-20T12:32:28.320315361",
          "2024-08-20T12:32:28.384086132",
          "2024-08-20T12:32:28.446953297",
          "2024-08-20T12:32:28.518725634",
          "2024-08-20T12:32:28.576572895",
          "2024-08-20T12:32:28.641489267",
          "2024-08-20T12:32:28.702045441",
          "2024-08-20T12:32:28.767858028",
          "2024-08-20T12:32:28.830724716",
          "2024-08-20T12:32:28.896514893",
          "2024-08-20T12:32:28.961437941",
          "2024-08-20T12:32:29.023036718",
          "2024-08-20T12:32:29.086858511",
          "2024-08-20T12:32:29.150660276",
          "2024-08-20T12:32:29.214490175",
          "2024-08-20T12:32:29.280347824",
          "2024-08-20T12:32:29.347641230",
          "2024-08-20T12:32:29.408477068",
          "2024-08-20T12:32:29.473303795",
          "2024-08-20T12:32:29.534140825",
          "2024-08-20T12:32:29.603953600",
          "2024-08-20T12:32:29.662796974",
          "2024-08-20T12:32:29.728660822",
          "2024-08-20T12:32:29.829075098",
          "2024-08-20T12:32:29.855006218",
          "2024-08-20T12:32:29.918835640",
          "2024-08-20T12:32:29.984659910",
          "2024-08-20T12:32:30.048488617",
          "2024-08-20T12:32:30.111320496",
          "2024-08-20T12:32:30.174177170",
          "2024-08-20T12:32:30.241478205",
          "2024-08-20T12:32:30.304310322",
          "2024-08-20T12:32:30.367180586",
          "2024-08-20T12:32:30.433924198",
          "2024-08-20T12:32:30.496754646",
          "2024-08-20T12:32:30.561550379",
          "2024-08-20T12:32:30.623412132",
          "2024-08-20T12:32:30.686249495",
          "2024-08-20T12:32:30.753970623",
          "2024-08-20T12:32:30.815323591",
          "2024-08-20T12:32:30.879150867",
          "2024-08-20T12:32:30.955455780",
          "2024-08-20T12:32:31.006345749",
          "2024-08-20T12:32:31.084110022",
          "2024-08-20T12:32:31.133013964",
          "2024-08-20T12:32:31.203535080",
          "2024-08-20T12:32:31.271354437",
          "2024-08-20T12:32:31.326326847",
          "2024-08-20T12:32:31.408055782",
          "2024-08-20T12:32:31.458920002",
          "2024-08-20T12:32:31.552667856",
          "2024-08-20T12:32:31.591563702",
          "2024-08-20T12:32:31.650408030",
          "2024-08-20T12:32:31.710282564",
          "2024-08-20T12:32:31.776070833",
          "2024-08-20T12:32:31.837939978",
          "2024-08-20T12:32:31.907718420",
          "2024-08-20T12:32:31.973545551",
          "2024-08-20T12:32:32.030505180",
          "2024-08-20T12:32:32.096329927",
          "2024-08-20T12:32:32.159909010",
          "2024-08-20T12:32:32.223783493",
          "2024-08-20T12:32:32.285617352",
          "2024-08-20T12:32:32.355093002",
          "2024-08-20T12:32:32.423932314",
          "2024-08-20T12:32:32.477780581",
          "2024-08-20T12:32:32.545111179",
          "2024-08-20T12:32:32.610616684",
          "2024-08-20T12:32:32.672452688",
          "2024-08-20T12:32:32.738783121",
          "2024-08-20T12:32:32.800617695",
          "2024-08-20T12:32:32.862452507",
          "2024-08-20T12:32:32.927278280",
          "2024-08-20T12:32:32.991107702",
          "2024-08-20T12:32:33.061918974",
          "2024-08-20T12:32:33.117813110",
          "2024-08-20T12:32:33.183628321",
          "2024-08-20T12:32:33.247426987",
          "2024-08-20T12:32:33.313245773",
          "2024-08-20T12:32:33.376078844",
          "2024-08-20T12:32:33.437913418",
          "2024-08-20T12:32:33.507761955",
          "2024-08-20T12:32:33.566568375",
          "2024-08-20T12:32:33.630432606",
          "2024-08-20T12:32:33.696256876",
          "2024-08-20T12:32:33.763337374",
          "2024-08-20T12:32:33.823216915",
          "2024-08-20T12:32:33.886786699",
          "2024-08-20T12:32:33.951614380",
          "2024-08-20T12:32:34.019431353",
          "2024-08-20T12:32:34.080267668",
          "2024-08-20T12:32:34.142103195",
          "2024-08-20T12:32:34.208925486",
          "2024-08-20T12:32:34.270759106",
          "2024-08-20T12:32:34.334587574",
          "2024-08-20T12:32:34.409389973",
          "2024-08-20T12:32:34.463746071",
          "2024-08-20T12:32:34.525631427",
          "2024-08-20T12:32:34.590441942",
          "2024-08-20T12:32:34.672589302",
          "2024-08-20T12:32:34.718495369",
          "2024-08-20T12:32:34.784605265",
          "2024-08-20T12:32:34.845502377",
          "2024-08-20T12:32:34.915297985",
          "2024-08-20T12:32:34.976535082",
          "2024-08-20T12:32:35.038368940",
          "2024-08-20T12:32:35.101213455",
          "2024-08-20T12:32:35.170028687",
          "2024-08-20T12:32:35.229869604",
          "2024-08-20T12:32:35.296691179",
          "2024-08-20T12:32:35.365506649",
          "2024-08-20T12:32:35.421391964",
          "2024-08-20T12:32:35.489713669",
          "2024-08-20T12:32:35.550548553",
          "2024-08-20T12:32:35.615374088",
          "2024-08-20T12:32:35.679830551",
          "2024-08-20T12:32:35.741671562",
          "2024-08-20T12:32:35.821450710",
          "2024-08-20T12:32:35.875407696",
          "2024-08-20T12:32:35.934213400",
          "2024-08-20T12:32:35.999787569",
          "2024-08-20T12:32:36.072578192",
          "2024-08-20T12:32:36.127431630",
          "2024-08-20T12:32:36.198305845",
          "2024-08-20T12:32:36.259132385",
          "2024-08-20T12:32:36.320932627",
          "2024-08-20T12:32:36.381804943",
          "2024-08-20T12:32:36.446623564",
          "2024-08-20T12:32:36.520399332",
          "2024-08-20T12:32:36.578244925",
          "2024-08-20T12:32:36.646062136",
          "2024-08-20T12:32:36.707958698",
          "2024-08-20T12:32:36.768796206",
          "2024-08-20T12:32:36.829632759",
          "2024-08-20T12:32:36.895457745",
          "2024-08-20T12:32:36.961305380",
          "2024-08-20T12:32:37.027129889",
          "2024-08-20T12:32:37.094947815",
          "2024-08-20T12:32:37.150824547",
          "2024-08-20T12:32:37.228126764",
          "2024-08-20T12:32:37.278991222",
          "2024-08-20T12:32:37.345320702",
          "2024-08-20T12:32:37.412676811",
          "2024-08-20T12:32:37.476505041",
          "2024-08-20T12:32:37.534350395",
          "2024-08-20T12:32:37.598179579",
          "2024-08-20T12:32:37.665997982",
          "2024-08-20T12:32:37.730824471",
          "2024-08-20T12:32:37.793656349",
          "2024-08-20T12:32:37.855490446",
          "2024-08-20T12:32:37.923312902",
          "2024-08-20T12:32:37.984147787",
          "2024-08-20T12:32:38.045563459",
          "2024-08-20T12:32:38.111385584",
          "2024-08-20T12:32:38.179205894",
          "2024-08-20T12:32:38.238048077",
          "2024-08-20T12:32:38.304870605",
          "2024-08-20T12:32:38.370692492",
          "2024-08-20T12:32:38.430532455",
          "2024-08-20T12:32:38.496356726",
          "2024-08-20T12:32:38.569162130",
          "2024-08-20T12:32:38.633988142",
          "2024-08-20T12:32:38.691833019",
          "2024-08-20T12:32:38.750226259",
          "2024-08-20T12:32:38.815091372",
          "2024-08-20T12:32:38.885902166",
          "2024-08-20T12:32:38.943747044",
          "2024-08-20T12:32:39.007613659",
          "2024-08-20T12:32:39.073400497",
          "2024-08-20T12:32:39.143213987",
          "2024-08-20T12:32:39.201062202",
          "2024-08-20T12:32:39.264887571",
          "2024-08-20T12:32:39.331712246"
         ],
         "xaxis": "x2",
         "y": {
          "bdata": "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",
          "dtype": "f8"
         },
         "yaxis": "y2"
        },
        {
         "marker": {
          "color": "lightcoral"
         },
         "name": "Distribution",
         "nbinsx": 30,
         "opacity": 0.7,
         "type": "histogram",
         "x": {
          "bdata": "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",
          "dtype": "f8"
         },
         "xaxis": "x3",
         "yaxis": "y3"
        },
        {
         "line": {
          "color": "lightcoral",
          "width": 1
         },
         "mode": "lines",
         "name": "Raw",
         "opacity": 0.5,
         "type": "scatter",
         "x": {
          "bdata": "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",
          "dtype": "i2"
         },
         "xaxis": "x4",
         "y": {
          "bdata": "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",
          "dtype": "f8"
         },
         "yaxis": "y4"
        },
        {
         "line": {
          "color": "darkred",
          "width": 3
         },
         "mode": "lines",
         "name": "Smoothed (n=52)",
         "type": "scatter",
         "x": {
          "bdata": "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",
          "dtype": "i2"
         },
         "xaxis": "x4",
         "y": {
          "bdata": "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",
          "dtype": "f8"
         },
         "yaxis": "y4"
        }
       ],
       "layout": {
        "annotations": [
         {
          "font": {
           "size": 16
          },
          "showarrow": false,
          "text": "Distance vs Frame Index",
          "x": 0.225,
          "xanchor": "center",
          "xref": "paper",
          "y": 1,
          "yanchor": "bottom",
          "yref": "paper"
         },
         {
          "font": {
           "size": 16
          },
          "showarrow": false,
          "text": "Distance vs Time",
          "x": 0.775,
          "xanchor": "center",
          "xref": "paper",
          "y": 1,
          "yanchor": "bottom",
          "yref": "paper"
         },
         {
          "font": {
           "size": 16
          },
          "showarrow": false,
          "text": "Distance Distribution",
          "x": 0.225,
          "xanchor": "center",
          "xref": "paper",
          "y": 0.375,
          "yanchor": "bottom",
          "yref": "paper"
         },
         {
          "font": {
           "size": 16
          },
          "showarrow": false,
          "text": "Distance Trends",
          "x": 0.775,
          "xanchor": "center",
          "xref": "paper",
          "y": 0.375,
          "yanchor": "bottom",
          "yref": "paper"
         },
         {
          "showarrow": false,
          "text": "Mean: 2.04meters",
          "x": 2.0433065635266563,
          "xanchor": "left",
          "xref": "x3",
          "y": 1,
          "yanchor": "top",
          "yref": "y3 domain"
         }
        ],
        "height": 800,
        "shapes": [
         {
          "line": {
           "color": "red",
           "dash": "dash"
          },
          "type": "line",
          "x0": 2.0433065635266563,
          "x1": 2.0433065635266563,
          "xref": "x3",
          "y0": 0,
          "y1": 1,
          "yref": "y3 domain"
         }
        ],
        "showlegend": true,
        "template": {
         "data": {
          "bar": [
           {
            "error_x": {
             "color": "#2a3f5f"
            },
            "error_y": {
             "color": "#2a3f5f"
            },
            "marker": {
             "line": {
              "color": "#E5ECF6",
              "width": 0.5
             },
             "pattern": {
              "fillmode": "overlay",
              "size": 10,
              "solidity": 0.2
             }
            },
            "type": "bar"
           }
          ],
          "barpolar": [
           {
            "marker": {
             "line": {
              "color": "#E5ECF6",
              "width": 0.5
             },
             "pattern": {
              "fillmode": "overlay",
              "size": 10,
              "solidity": 0.2
             }
            },
            "type": "barpolar"
           }
          ],
          "carpet": [
           {
            "aaxis": {
             "endlinecolor": "#2a3f5f",
             "gridcolor": "white",
             "linecolor": "white",
             "minorgridcolor": "white",
             "startlinecolor": "#2a3f5f"
            },
            "baxis": {
             "endlinecolor": "#2a3f5f",
             "gridcolor": "white",
             "linecolor": "white",
             "minorgridcolor": "white",
             "startlinecolor": "#2a3f5f"
            },
            "type": "carpet"
           }
          ],
          "choropleth": [
           {
            "colorbar": {
             "outlinewidth": 0,
             "ticks": ""
            },
            "type": "choropleth"
           }
          ],
          "contour": [
           {
            "colorbar": {
             "outlinewidth": 0,
             "ticks": ""
            },
            "colorscale": [
             [
              0,
              "#0d0887"
             ],
             [
              0.1111111111111111,
              "#46039f"
             ],
             [
              0.2222222222222222,
              "#7201a8"
             ],
             [
              0.3333333333333333,
              "#9c179e"
             ],
             [
              0.4444444444444444,
              "#bd3786"
             ],
             [
              0.5555555555555556,
              "#d8576b"
             ],
             [
              0.6666666666666666,
              "#ed7953"
             ],
             [
              0.7777777777777778,
              "#fb9f3a"
             ],
             [
              0.8888888888888888,
              "#fdca26"
             ],
             [
              1,
              "#f0f921"
             ]
            ],
            "type": "contour"
           }
          ],
          "contourcarpet": [
           {
            "colorbar": {
             "outlinewidth": 0,
             "ticks": ""
            },
            "type": "contourcarpet"
           }
          ],
          "heatmap": [
           {
            "colorbar": {
             "outlinewidth": 0,
             "ticks": ""
            },
            "colorscale": [
             [
              0,
              "#0d0887"
             ],
             [
              0.1111111111111111,
              "#46039f"
             ],
             [
              0.2222222222222222,
              "#7201a8"
             ],
             [
              0.3333333333333333,
              "#9c179e"
             ],
             [
              0.4444444444444444,
              "#bd3786"
             ],
             [
              0.5555555555555556,
              "#d8576b"
             ],
             [
              0.6666666666666666,
              "#ed7953"
             ],
             [
              0.7777777777777778,
              "#fb9f3a"
             ],
             [
              0.8888888888888888,
              "#fdca26"
             ],
             [
              1,
              "#f0f921"
             ]
            ],
            "type": "heatmap"
           }
          ],
          "histogram": [
           {
            "marker": {
             "pattern": {
              "fillmode": "overlay",
              "size": 10,
              "solidity": 0.2
             }
            },
            "type": "histogram"
           }
          ],
          "histogram2d": [
           {
            "colorbar": {
             "outlinewidth": 0,
             "ticks": ""
            },
            "colorscale": [
             [
              0,
              "#0d0887"
             ],
             [
              0.1111111111111111,
              "#46039f"
             ],
             [
              0.2222222222222222,
              "#7201a8"
             ],
             [
              0.3333333333333333,
              "#9c179e"
             ],
             [
              0.4444444444444444,
              "#bd3786"
             ],
             [
              0.5555555555555556,
              "#d8576b"
             ],
             [
              0.6666666666666666,
              "#ed7953"
             ],
             [
              0.7777777777777778,
              "#fb9f3a"
             ],
             [
              0.8888888888888888,
              "#fdca26"
             ],
             [
              1,
              "#f0f921"
             ]
            ],
            "type": "histogram2d"
           }
          ],
          "histogram2dcontour": [
           {
            "colorbar": {
             "outlinewidth": 0,
             "ticks": ""
            },
            "colorscale": [
             [
              0,
              "#0d0887"
             ],
             [
              0.1111111111111111,
              "#46039f"
             ],
             [
              0.2222222222222222,
              "#7201a8"
             ],
             [
              0.3333333333333333,
              "#9c179e"
             ],
             [
              0.4444444444444444,
              "#bd3786"
             ],
             [
              0.5555555555555556,
              "#d8576b"
             ],
             [
              0.6666666666666666,
              "#ed7953"
             ],
             [
              0.7777777777777778,
              "#fb9f3a"
             ],
             [
              0.8888888888888888,
              "#fdca26"
             ],
             [
              1,
              "#f0f921"
             ]
            ],
            "type": "histogram2dcontour"
           }
          ],
          "mesh3d": [
           {
            "colorbar": {
             "outlinewidth": 0,
             "ticks": ""
            },
            "type": "mesh3d"
           }
          ],
          "parcoords": [
           {
            "line": {
             "colorbar": {
              "outlinewidth": 0,
              "ticks": ""
             }
            },
            "type": "parcoords"
           }
          ],
          "pie": [
           {
            "automargin": true,
            "type": "pie"
           }
          ],
          "scatter": [
           {
            "fillpattern": {
             "fillmode": "overlay",
             "size": 10,
             "solidity": 0.2
            },
            "type": "scatter"
           }
          ],
          "scatter3d": [
           {
            "line": {
             "colorbar": {
              "outlinewidth": 0,
              "ticks": ""
             }
            },
            "marker": {
             "colorbar": {
              "outlinewidth": 0,
              "ticks": ""
             }
            },
            "type": "scatter3d"
           }
          ],
          "scattercarpet": [
           {
            "marker": {
             "colorbar": {
              "outlinewidth": 0,
              "ticks": ""
             }
            },
            "type": "scattercarpet"
           }
          ],
          "scattergeo": [
           {
            "marker": {
             "colorbar": {
              "outlinewidth": 0,
              "ticks": ""
             }
            },
            "type": "scattergeo"
           }
          ],
          "scattergl": [
           {
            "marker": {
             "colorbar": {
              "outlinewidth": 0,
              "ticks": ""
             }
            },
            "type": "scattergl"
           }
          ],
          "scattermap": [
           {
            "marker": {
             "colorbar": {
              "outlinewidth": 0,
              "ticks": ""
             }
            },
            "type": "scattermap"
           }
          ],
          "scattermapbox": [
           {
            "marker": {
             "colorbar": {
              "outlinewidth": 0,
              "ticks": ""
             }
            },
            "type": "scattermapbox"
           }
          ],
          "scatterpolar": [
           {
            "marker": {
             "colorbar": {
              "outlinewidth": 0,
              "ticks": ""
             }
            },
            "type": "scatterpolar"
           }
          ],
          "scatterpolargl": [
           {
            "marker": {
             "colorbar": {
              "outlinewidth": 0,
              "ticks": ""
             }
            },
            "type": "scatterpolargl"
           }
          ],
          "scatterternary": [
           {
            "marker": {
             "colorbar": {
              "outlinewidth": 0,
              "ticks": ""
             }
            },
            "type": "scatterternary"
           }
          ],
          "surface": [
           {
            "colorbar": {
             "outlinewidth": 0,
             "ticks": ""
            },
            "colorscale": [
             [
              0,
              "#0d0887"
             ],
             [
              0.1111111111111111,
              "#46039f"
             ],
             [
              0.2222222222222222,
              "#7201a8"
             ],
             [
              0.3333333333333333,
              "#9c179e"
             ],
             [
              0.4444444444444444,
              "#bd3786"
             ],
             [
              0.5555555555555556,
              "#d8576b"
             ],
             [
              0.6666666666666666,
              "#ed7953"
             ],
             [
              0.7777777777777778,
              "#fb9f3a"
             ],
             [
              0.8888888888888888,
              "#fdca26"
             ],
             [
              1,
              "#f0f921"
             ]
            ],
            "type": "surface"
           }
          ],
          "table": [
           {
            "cells": {
             "fill": {
              "color": "#EBF0F8"
             },
             "line": {
              "color": "white"
             }
            },
            "header": {
             "fill": {
              "color": "#C8D4E3"
             },
             "line": {
              "color": "white"
             }
            },
            "type": "table"
           }
          ]
         },
         "layout": {
          "annotationdefaults": {
           "arrowcolor": "#2a3f5f",
           "arrowhead": 0,
           "arrowwidth": 1
          },
          "autotypenumbers": "strict",
          "coloraxis": {
           "colorbar": {
            "outlinewidth": 0,
            "ticks": ""
           }
          },
          "colorscale": {
           "diverging": [
            [
             0,
             "#8e0152"
            ],
            [
             0.1,
             "#c51b7d"
            ],
            [
             0.2,
             "#de77ae"
            ],
            [
             0.3,
             "#f1b6da"
            ],
            [
             0.4,
             "#fde0ef"
            ],
            [
             0.5,
             "#f7f7f7"
            ],
            [
             0.6,
             "#e6f5d0"
            ],
            [
             0.7,
             "#b8e186"
            ],
            [
             0.8,
             "#7fbc41"
            ],
            [
             0.9,
             "#4d9221"
            ],
            [
             1,
             "#276419"
            ]
           ],
           "sequential": [
            [
             0,
             "#0d0887"
            ],
            [
             0.1111111111111111,
             "#46039f"
            ],
            [
             0.2222222222222222,
             "#7201a8"
            ],
            [
             0.3333333333333333,
             "#9c179e"
            ],
            [
             0.4444444444444444,
             "#bd3786"
            ],
            [
             0.5555555555555556,
             "#d8576b"
            ],
            [
             0.6666666666666666,
             "#ed7953"
            ],
            [
             0.7777777777777778,
             "#fb9f3a"
            ],
            [
             0.8888888888888888,
             "#fdca26"
            ],
            [
             1,
             "#f0f921"
            ]
           ],
           "sequentialminus": [
            [
             0,
             "#0d0887"
            ],
            [
             0.1111111111111111,
             "#46039f"
            ],
            [
             0.2222222222222222,
             "#7201a8"
            ],
            [
             0.3333333333333333,
             "#9c179e"
            ],
            [
             0.4444444444444444,
             "#bd3786"
            ],
            [
             0.5555555555555556,
             "#d8576b"
            ],
            [
             0.6666666666666666,
             "#ed7953"
            ],
            [
             0.7777777777777778,
             "#fb9f3a"
            ],
            [
             0.8888888888888888,
             "#fdca26"
            ],
            [
             1,
             "#f0f921"
            ]
           ]
          },
          "colorway": [
           "#636efa",
           "#EF553B",
           "#00cc96",
           "#ab63fa",
           "#FFA15A",
           "#19d3f3",
           "#FF6692",
           "#B6E880",
           "#FF97FF",
           "#FECB52"
          ],
          "font": {
           "color": "#2a3f5f"
          },
          "geo": {
           "bgcolor": "white",
           "lakecolor": "white",
           "landcolor": "#E5ECF6",
           "showlakes": true,
           "showland": true,
           "subunitcolor": "white"
          },
          "hoverlabel": {
           "align": "left"
          },
          "hovermode": "closest",
          "mapbox": {
           "style": "light"
          },
          "paper_bgcolor": "white",
          "plot_bgcolor": "#E5ECF6",
          "polar": {
           "angularaxis": {
            "gridcolor": "white",
            "linecolor": "white",
            "ticks": ""
           },
           "bgcolor": "#E5ECF6",
           "radialaxis": {
            "gridcolor": "white",
            "linecolor": "white",
            "ticks": ""
           }
          },
          "scene": {
           "xaxis": {
            "backgroundcolor": "#E5ECF6",
            "gridcolor": "white",
            "gridwidth": 2,
            "linecolor": "white",
            "showbackground": true,
            "ticks": "",
            "zerolinecolor": "white"
           },
           "yaxis": {
            "backgroundcolor": "#E5ECF6",
            "gridcolor": "white",
            "gridwidth": 2,
            "linecolor": "white",
            "showbackground": true,
            "ticks": "",
            "zerolinecolor": "white"
           },
           "zaxis": {
            "backgroundcolor": "#E5ECF6",
            "gridcolor": "white",
            "gridwidth": 2,
            "linecolor": "white",
            "showbackground": true,
            "ticks": "",
            "zerolinecolor": "white"
           }
          },
          "shapedefaults": {
           "line": {
            "color": "#2a3f5f"
           }
          },
          "ternary": {
           "aaxis": {
            "gridcolor": "white",
            "linecolor": "white",
            "ticks": ""
           },
           "baxis": {
            "gridcolor": "white",
            "linecolor": "white",
            "ticks": ""
           },
           "bgcolor": "#E5ECF6",
           "caxis": {
            "gridcolor": "white",
            "linecolor": "white",
            "ticks": ""
           }
          },
          "title": {
           "x": 0.05
          },
          "xaxis": {
           "automargin": true,
           "gridcolor": "white",
           "linecolor": "white",
           "ticks": "",
           "title": {
            "standoff": 15
           },
           "zerolinecolor": "white",
           "zerolinewidth": 2
          },
          "yaxis": {
           "automargin": true,
           "gridcolor": "white",
           "linecolor": "white",
           "ticks": "",
           "title": {
            "standoff": 15
           },
           "zerolinecolor": "white",
           "zerolinewidth": 2
          }
         }
        },
        "title": {
         "text": "Real-World Distance Analysis"
        },
        "xaxis": {
         "anchor": "y",
         "domain": [
          0,
          0.45
         ],
         "title": {
          "text": "Frame Index"
         }
        },
        "xaxis2": {
         "anchor": "y2",
         "domain": [
          0.55,
          1
         ],
         "title": {
          "text": "Time"
         }
        },
        "xaxis3": {
         "anchor": "y3",
         "domain": [
          0,
          0.45
         ],
         "title": {
          "text": "Distance (meters)"
         }
        },
        "xaxis4": {
         "anchor": "y4",
         "domain": [
          0.55,
          1
         ],
         "title": {
          "text": "Frame Index"
         }
        },
        "yaxis": {
         "anchor": "x",
         "domain": [
          0.625,
          1
         ],
         "title": {
          "text": "Distance (meters)"
         }
        },
        "yaxis2": {
         "anchor": "x2",
         "domain": [
          0.625,
          1
         ],
         "title": {
          "text": "Distance (meters)"
         }
        },
        "yaxis3": {
         "anchor": "x3",
         "domain": [
          0,
          0.375
         ],
         "title": {
          "text": "Frequency"
         }
        },
        "yaxis4": {
         "anchor": "x4",
         "domain": [
          0,
          0.375
         ],
         "title": {
          "text": "Distance (meters)"
         }
        }
       }
      }
     },
     "metadata": {},
     "output_type": "display_data"
    }
   ],
   "source": [
    "# Real-world distance analysis and plotting using utility function\n",
    "iau.plot_real_world_distance_analysis(distance_results, image_shape=image_shape, sonar_coverage_meters=sonar_coverage_meters)"
   ]
  },
  {
   "cell_type": "code",
   "execution_count": 9,
   "id": "c10a8be6",
   "metadata": {},
   "outputs": [
    {
     "name": "stdout",
     "output_type": "stream",
     "text": [
      "🎯 LOADING DVL DATA FOR COMPARISON: 2024-08-20_14-31-29\n",
      "============================================================\n",
      "🎯 LOADING ALL DISTANCE DATA FOR BAG: 2024-08-20_14-31-29\n",
      "============================================================\n",
      "📡 1. Loading Navigation Data...\n",
      "   ✅ Loaded 559 navigation records\n",
      "📡 2. Loading Guidance Data...\n",
      "   ✅ Loaded 549 guidance records with ['error_net_distance', 'desired_net_distance', 'r_net_distance_d']\n",
      "📡 3. Loading DVL Altimeter...\n",
      "   ❌ DVL altimeter file not found\n",
      "📡 4. Loading USBL...\n",
      "   ✅ Loaded 33 USBL records\n",
      "📡 5. Loading DVL Position...\n",
      "   ✅ Loaded 283 DVL position records\n",
      "📡 6. Loading Navigation Position...\n",
      "   ✅ Loaded 278 navigation position records\n",
      "📡 7. Loading INS Z Position...\n",
      "   ❌ INS file not found\n",
      "\n",
      "📊 LOADING SUMMARY:\n",
      "   🎯 Target bag: 2024-08-20_14-31-29\n",
      "   📁 Raw data loaded: 2/2\n",
      "   📏 Distance measurements: 4\n",
      "\n",
      "📊 RAW DATA LOADED:\n",
      "   ✅ navigation: 559 records\n",
      "   ✅ guidance: 549 records\n",
      "\n",
      "📏 DISTANCE MEASUREMENTS LOADED:\n",
      "   ✅ USBL_3D: 33 records - 3D acoustic position\n",
      "   ✅ USBL_Depth: 33 records - USBL depth measurement\n",
      "   ✅ DVL_Position: 283 records - 3D DVL position\n",
      "   ✅ Nav_Position: 278 records - 2D navigation position\n"
     ]
    }
   ],
   "source": [
    "# 🔄 COMPARISON: SONAR vs DVL DISTANCE MEASUREMENTS\n",
    "# =================================================\n",
    "import utils.net_distance_analysis as sda\n",
    "\n",
    "print(f\"🎯 LOADING DVL DATA FOR COMPARISON: {TARGET_BAG}\")\n",
    "print(\"=\" * 60)\n",
    "\n",
    "# IMPORTANT: Pass the by_bag folder, not just the exports root\n",
    "# The function expects the folder containing the CSV files\n",
    "from utils.sonar_config import EXPORTS_SUBDIRS\n",
    "BY_BAG_FOLDER = EXPORTS_FOLDER / EXPORTS_SUBDIRS.get('by_bag', 'by_bag')\n",
    "\n",
    "# Load all distance data for the target bag\n",
    "raw_data, distance_measurements = sda.load_all_distance_data_for_bag(TARGET_BAG, BY_BAG_FOLDER)\n",
    "\n",
    "# Display what we loaded\n",
    "print(f\"\\n📊 RAW DATA LOADED:\")\n",
    "for key, data in raw_data.items():\n",
    "    if data is not None:\n",
    "        print(f\"   ✅ {key}: {len(data)} records\")\n",
    "    else:\n",
    "        print(f\"   ❌ {key}: None\")\n",
    "\n",
    "print(f\"\\n📏 DISTANCE MEASUREMENTS LOADED:\")\n",
    "for key, info in distance_measurements.items():\n",
    "    data_len = len(info['data'])\n",
    "    print(f\"   ✅ {key}: {data_len} records - {info['description']}\")"
   ]
  },
  {
   "cell_type": "code",
   "execution_count": 10,
   "id": "0375375e",
   "metadata": {},
   "outputs": [
    {
     "name": "stderr",
     "output_type": "stream",
     "text": [
      "/Users/eirikvarnes/code/SOLAQUA/utils/sonar_image_analysis.py:496: FutureWarning:\n",
      "\n",
      "Series.fillna with 'method' is deprecated and will raise in a future version. Use obj.ffill() or obj.bfill() instead.\n",
      "\n",
      "/Users/eirikvarnes/code/SOLAQUA/utils/sonar_image_analysis.py:503: FutureWarning:\n",
      "\n",
      "Series.fillna with 'method' is deprecated and will raise in a future version. Use obj.ffill() or obj.bfill() instead.\n",
      "\n"
     ]
    },
    {
     "data": {
      "application/vnd.plotly.v1+json": {
       "config": {
        "plotlyServerURL": "https://plot.ly"
       },
       "data": [
        {
         "line": {
          "color": "rgba(255,0,0,0.3)"
         },
         "mode": "lines",
         "name": "Sonar Raw",
         "type": "scatter",
         "x": {
          "bdata": "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",
          "dtype": "f8"
         },
         "xaxis": "x",
         "y": {
          "bdata": "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",
          "dtype": "f8"
         },
         "yaxis": "y"
        },
        {
         "line": {
          "color": "red",
          "width": 3
         },
         "mode": "lines",
         "name": "Sonar Smoothed",
         "type": "scatter",
         "x": {
          "bdata": "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",
          "dtype": "f8"
         },
         "xaxis": "x",
         "y": {
          "bdata": "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",
          "dtype": "f8"
         },
         "yaxis": "y"
        },
        {
         "line": {
          "color": "blue",
          "width": 3
         },
         "mode": "lines",
         "name": "DVL Distance",
         "type": "scatter",
         "x": {
          "bdata": "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",
          "dtype": "f8"
         },
         "xaxis": "x",
         "y": {
          "bdata": "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",
          "dtype": "f8"
         },
         "yaxis": "y"
        }
       ],
       "layout": {
        "height": 600,
        "hovermode": "x unified",
        "template": {
         "data": {
          "bar": [
           {
            "error_x": {
             "color": "#2a3f5f"
            },
            "error_y": {
             "color": "#2a3f5f"
            },
            "marker": {
             "line": {
              "color": "#E5ECF6",
              "width": 0.5
             },
             "pattern": {
              "fillmode": "overlay",
              "size": 10,
              "solidity": 0.2
             }
            },
            "type": "bar"
           }
          ],
          "barpolar": [
           {
            "marker": {
             "line": {
              "color": "#E5ECF6",
              "width": 0.5
             },
             "pattern": {
              "fillmode": "overlay",
              "size": 10,
              "solidity": 0.2
             }
            },
            "type": "barpolar"
           }
          ],
          "carpet": [
           {
            "aaxis": {
             "endlinecolor": "#2a3f5f",
             "gridcolor": "white",
             "linecolor": "white",
             "minorgridcolor": "white",
             "startlinecolor": "#2a3f5f"
            },
            "baxis": {
             "endlinecolor": "#2a3f5f",
             "gridcolor": "white",
             "linecolor": "white",
             "minorgridcolor": "white",
             "startlinecolor": "#2a3f5f"
            },
            "type": "carpet"
           }
          ],
          "choropleth": [
           {
            "colorbar": {
             "outlinewidth": 0,
             "ticks": ""
            },
            "type": "choropleth"
           }
          ],
          "contour": [
           {
            "colorbar": {
             "outlinewidth": 0,
             "ticks": ""
            },
            "colorscale": [
             [
              0,
              "#0d0887"
             ],
             [
              0.1111111111111111,
              "#46039f"
             ],
             [
              0.2222222222222222,
              "#7201a8"
             ],
             [
              0.3333333333333333,
              "#9c179e"
             ],
             [
              0.4444444444444444,
              "#bd3786"
             ],
             [
              0.5555555555555556,
              "#d8576b"
             ],
             [
              0.6666666666666666,
              "#ed7953"
             ],
             [
              0.7777777777777778,
              "#fb9f3a"
             ],
             [
              0.8888888888888888,
              "#fdca26"
             ],
             [
              1,
              "#f0f921"
             ]
            ],
            "type": "contour"
           }
          ],
          "contourcarpet": [
           {
            "colorbar": {
             "outlinewidth": 0,
             "ticks": ""
            },
            "type": "contourcarpet"
           }
          ],
          "heatmap": [
           {
            "colorbar": {
             "outlinewidth": 0,
             "ticks": ""
            },
            "colorscale": [
             [
              0,
              "#0d0887"
             ],
             [
              0.1111111111111111,
              "#46039f"
             ],
             [
              0.2222222222222222,
              "#7201a8"
             ],
             [
              0.3333333333333333,
              "#9c179e"
             ],
             [
              0.4444444444444444,
              "#bd3786"
             ],
             [
              0.5555555555555556,
              "#d8576b"
             ],
             [
              0.6666666666666666,
              "#ed7953"
             ],
             [
              0.7777777777777778,
              "#fb9f3a"
             ],
             [
              0.8888888888888888,
              "#fdca26"
             ],
             [
              1,
              "#f0f921"
             ]
            ],
            "type": "heatmap"
           }
          ],
          "histogram": [
           {
            "marker": {
             "pattern": {
              "fillmode": "overlay",
              "size": 10,
              "solidity": 0.2
             }
            },
            "type": "histogram"
           }
          ],
          "histogram2d": [
           {
            "colorbar": {
             "outlinewidth": 0,
             "ticks": ""
            },
            "colorscale": [
             [
              0,
              "#0d0887"
             ],
             [
              0.1111111111111111,
              "#46039f"
             ],
             [
              0.2222222222222222,
              "#7201a8"
             ],
             [
              0.3333333333333333,
              "#9c179e"
             ],
             [
              0.4444444444444444,
              "#bd3786"
             ],
             [
              0.5555555555555556,
              "#d8576b"
             ],
             [
              0.6666666666666666,
              "#ed7953"
             ],
             [
              0.7777777777777778,
              "#fb9f3a"
             ],
             [
              0.8888888888888888,
              "#fdca26"
             ],
             [
              1,
              "#f0f921"
             ]
            ],
            "type": "histogram2d"
           }
          ],
          "histogram2dcontour": [
           {
            "colorbar": {
             "outlinewidth": 0,
             "ticks": ""
            },
            "colorscale": [
             [
              0,
              "#0d0887"
             ],
             [
              0.1111111111111111,
              "#46039f"
             ],
             [
              0.2222222222222222,
              "#7201a8"
             ],
             [
              0.3333333333333333,
              "#9c179e"
             ],
             [
              0.4444444444444444,
              "#bd3786"
             ],
             [
              0.5555555555555556,
              "#d8576b"
             ],
             [
              0.6666666666666666,
              "#ed7953"
             ],
             [
              0.7777777777777778,
              "#fb9f3a"
             ],
             [
              0.8888888888888888,
              "#fdca26"
             ],
             [
              1,
              "#f0f921"
             ]
            ],
            "type": "histogram2dcontour"
           }
          ],
          "mesh3d": [
           {
            "colorbar": {
             "outlinewidth": 0,
             "ticks": ""
            },
            "type": "mesh3d"
           }
          ],
          "parcoords": [
           {
            "line": {
             "colorbar": {
              "outlinewidth": 0,
              "ticks": ""
             }
            },
            "type": "parcoords"
           }
          ],
          "pie": [
           {
            "automargin": true,
            "type": "pie"
           }
          ],
          "scatter": [
           {
            "fillpattern": {
             "fillmode": "overlay",
             "size": 10,
             "solidity": 0.2
            },
            "type": "scatter"
           }
          ],
          "scatter3d": [
           {
            "line": {
             "colorbar": {
              "outlinewidth": 0,
              "ticks": ""
             }
            },
            "marker": {
             "colorbar": {
              "outlinewidth": 0,
              "ticks": ""
             }
            },
            "type": "scatter3d"
           }
          ],
          "scattercarpet": [
           {
            "marker": {
             "colorbar": {
              "outlinewidth": 0,
              "ticks": ""
             }
            },
            "type": "scattercarpet"
           }
          ],
          "scattergeo": [
           {
            "marker": {
             "colorbar": {
              "outlinewidth": 0,
              "ticks": ""
             }
            },
            "type": "scattergeo"
           }
          ],
          "scattergl": [
           {
            "marker": {
             "colorbar": {
              "outlinewidth": 0,
              "ticks": ""
             }
            },
            "type": "scattergl"
           }
          ],
          "scattermap": [
           {
            "marker": {
             "colorbar": {
              "outlinewidth": 0,
              "ticks": ""
             }
            },
            "type": "scattermap"
           }
          ],
          "scattermapbox": [
           {
            "marker": {
             "colorbar": {
              "outlinewidth": 0,
              "ticks": ""
             }
            },
            "type": "scattermapbox"
           }
          ],
          "scatterpolar": [
           {
            "marker": {
             "colorbar": {
              "outlinewidth": 0,
              "ticks": ""
             }
            },
            "type": "scatterpolar"
           }
          ],
          "scatterpolargl": [
           {
            "marker": {
             "colorbar": {
              "outlinewidth": 0,
              "ticks": ""
             }
            },
            "type": "scatterpolargl"
           }
          ],
          "scatterternary": [
           {
            "marker": {
             "colorbar": {
              "outlinewidth": 0,
              "ticks": ""
             }
            },
            "type": "scatterternary"
           }
          ],
          "surface": [
           {
            "colorbar": {
             "outlinewidth": 0,
             "ticks": ""
            },
            "colorscale": [
             [
              0,
              "#0d0887"
             ],
             [
              0.1111111111111111,
              "#46039f"
             ],
             [
              0.2222222222222222,
              "#7201a8"
             ],
             [
              0.3333333333333333,
              "#9c179e"
             ],
             [
              0.4444444444444444,
              "#bd3786"
             ],
             [
              0.5555555555555556,
              "#d8576b"
             ],
             [
              0.6666666666666666,
              "#ed7953"
             ],
             [
              0.7777777777777778,
              "#fb9f3a"
             ],
             [
              0.8888888888888888,
              "#fdca26"
             ],
             [
              1,
              "#f0f921"
             ]
            ],
            "type": "surface"
           }
          ],
          "table": [
           {
            "cells": {
             "fill": {
              "color": "#EBF0F8"
             },
             "line": {
              "color": "white"
             }
            },
            "header": {
             "fill": {
              "color": "#C8D4E3"
             },
             "line": {
              "color": "white"
             }
            },
            "type": "table"
           }
          ]
         },
         "layout": {
          "annotationdefaults": {
           "arrowcolor": "#2a3f5f",
           "arrowhead": 0,
           "arrowwidth": 1
          },
          "autotypenumbers": "strict",
          "coloraxis": {
           "colorbar": {
            "outlinewidth": 0,
            "ticks": ""
           }
          },
          "colorscale": {
           "diverging": [
            [
             0,
             "#8e0152"
            ],
            [
             0.1,
             "#c51b7d"
            ],
            [
             0.2,
             "#de77ae"
            ],
            [
             0.3,
             "#f1b6da"
            ],
            [
             0.4,
             "#fde0ef"
            ],
            [
             0.5,
             "#f7f7f7"
            ],
            [
             0.6,
             "#e6f5d0"
            ],
            [
             0.7,
             "#b8e186"
            ],
            [
             0.8,
             "#7fbc41"
            ],
            [
             0.9,
             "#4d9221"
            ],
            [
             1,
             "#276419"
            ]
           ],
           "sequential": [
            [
             0,
             "#0d0887"
            ],
            [
             0.1111111111111111,
             "#46039f"
            ],
            [
             0.2222222222222222,
             "#7201a8"
            ],
            [
             0.3333333333333333,
             "#9c179e"
            ],
            [
             0.4444444444444444,
             "#bd3786"
            ],
            [
             0.5555555555555556,
             "#d8576b"
            ],
            [
             0.6666666666666666,
             "#ed7953"
            ],
            [
             0.7777777777777778,
             "#fb9f3a"
            ],
            [
             0.8888888888888888,
             "#fdca26"
            ],
            [
             1,
             "#f0f921"
            ]
           ],
           "sequentialminus": [
            [
             0,
             "#0d0887"
            ],
            [
             0.1111111111111111,
             "#46039f"
            ],
            [
             0.2222222222222222,
             "#7201a8"
            ],
            [
             0.3333333333333333,
             "#9c179e"
            ],
            [
             0.4444444444444444,
             "#bd3786"
            ],
            [
             0.5555555555555556,
             "#d8576b"
            ],
            [
             0.6666666666666666,
             "#ed7953"
            ],
            [
             0.7777777777777778,
             "#fb9f3a"
            ],
            [
             0.8888888888888888,
             "#fdca26"
            ],
            [
             1,
             "#f0f921"
            ]
           ]
          },
          "colorway": [
           "#636efa",
           "#EF553B",
           "#00cc96",
           "#ab63fa",
           "#FFA15A",
           "#19d3f3",
           "#FF6692",
           "#B6E880",
           "#FF97FF",
           "#FECB52"
          ],
          "font": {
           "color": "#2a3f5f"
          },
          "geo": {
           "bgcolor": "white",
           "lakecolor": "white",
           "landcolor": "#E5ECF6",
           "showlakes": true,
           "showland": true,
           "subunitcolor": "white"
          },
          "hoverlabel": {
           "align": "left"
          },
          "hovermode": "closest",
          "mapbox": {
           "style": "light"
          },
          "paper_bgcolor": "white",
          "plot_bgcolor": "#E5ECF6",
          "polar": {
           "angularaxis": {
            "gridcolor": "white",
            "linecolor": "white",
            "ticks": ""
           },
           "bgcolor": "#E5ECF6",
           "radialaxis": {
            "gridcolor": "white",
            "linecolor": "white",
            "ticks": ""
           }
          },
          "scene": {
           "xaxis": {
            "backgroundcolor": "#E5ECF6",
            "gridcolor": "white",
            "gridwidth": 2,
            "linecolor": "white",
            "showbackground": true,
            "ticks": "",
            "zerolinecolor": "white"
           },
           "yaxis": {
            "backgroundcolor": "#E5ECF6",
            "gridcolor": "white",
            "gridwidth": 2,
            "linecolor": "white",
            "showbackground": true,
            "ticks": "",
            "zerolinecolor": "white"
           },
           "zaxis": {
            "backgroundcolor": "#E5ECF6",
            "gridcolor": "white",
            "gridwidth": 2,
            "linecolor": "white",
            "showbackground": true,
            "ticks": "",
            "zerolinecolor": "white"
           }
          },
          "shapedefaults": {
           "line": {
            "color": "#2a3f5f"
           }
          },
          "ternary": {
           "aaxis": {
            "gridcolor": "white",
            "linecolor": "white",
            "ticks": ""
           },
           "baxis": {
            "gridcolor": "white",
            "linecolor": "white",
            "ticks": ""
           },
           "bgcolor": "#E5ECF6",
           "caxis": {
            "gridcolor": "white",
            "linecolor": "white",
            "ticks": ""
           }
          },
          "title": {
           "x": 0.05
          },
          "xaxis": {
           "automargin": true,
           "gridcolor": "white",
           "linecolor": "white",
           "ticks": "",
           "title": {
            "standoff": 15
           },
           "zerolinecolor": "white",
           "zerolinewidth": 2
          },
          "yaxis": {
           "automargin": true,
           "gridcolor": "white",
           "linecolor": "white",
           "ticks": "",
           "title": {
            "standoff": 15
           },
           "zerolinecolor": "white",
           "zerolinewidth": 2
          }
         }
        },
        "title": {
         "text": "🔄 Interactive Distance Comparison: Sonar vs DVL"
        },
        "xaxis": {
         "anchor": "y",
         "domain": [
          0,
          1
         ],
         "showgrid": true,
         "title": {
          "text": "Time (seconds)"
         }
        },
        "yaxis": {
         "anchor": "x",
         "domain": [
          0,
          1
         ],
         "showgrid": true,
         "title": {
          "text": "Distance (meters)"
         }
        }
       }
      }
     },
     "metadata": {},
     "output_type": "display_data"
    },
    {
     "name": "stdout",
     "output_type": "stream",
     "text": [
      "\n",
      "📊 SONAR vs DVL COMPARISON STATISTICS:\n",
      "==================================================\n",
      "Sonar mean distance: 2.043 m\n",
      "DVL mean distance:   1.968 m\n",
      "Scale ratio (Sonar/DVL): 1.038x\n",
      "Sonar duration: 67.1s (1059 frames)\n",
      "DVL duration:   67.0s (559 records)\n",
      "\n",
      "Comparison stats summary:\n",
      "{'dvl_duration_s': 67.007197142,\n",
      " 'dvl_mean_m': 1.9676565289337435,\n",
      " 'dvl_records': 559,\n",
      " 'scale_ratio': 1.0384467682649405,\n",
      " 'sonar_duration_s': 67.07053097672778,\n",
      " 'sonar_frames': 1059,\n",
      " 'sonar_mean_m': 2.0433065635266563}\n"
     ]
    },
    {
     "data": {
      "application/vnd.plotly.v1+json": {
       "config": {
        "plotlyServerURL": "https://plot.ly"
       },
       "data": [
        {
         "line": {
          "color": "rgba(255,0,0,0.3)"
         },
         "mode": "lines",
         "name": "Sonar Raw",
         "type": "scatter",
         "x": {
          "bdata": "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",
          "dtype": "f8"
         },
         "xaxis": "x",
         "y": {
          "bdata": "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",
          "dtype": "f8"
         },
         "yaxis": "y"
        },
        {
         "line": {
          "color": "red",
          "width": 3
         },
         "mode": "lines",
         "name": "Sonar Smoothed",
         "type": "scatter",
         "x": {
          "bdata": "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",
          "dtype": "f8"
         },
         "xaxis": "x",
         "y": {
          "bdata": "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",
          "dtype": "f8"
         },
         "yaxis": "y"
        },
        {
         "line": {
          "color": "blue",
          "width": 3
         },
         "mode": "lines",
         "name": "DVL Distance",
         "type": "scatter",
         "x": {
          "bdata": "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",
          "dtype": "f8"
         },
         "xaxis": "x",
         "y": {
          "bdata": "AAAAgD0KA0AAAACAwvUCQAAAAEAzMwNAAAAAwB6FA0AAAAAgrkcDQAAAAAApXANAAAAAoJmZA0AAAAAAKVwDQAAAAKCZmQNAAAAA4KNwA0AAAADAzMwEQAAAAGBmZgRAAAAAIFyPBEAAAAAgXI8EQAAAAADXowRAAAAAoEfhBEAAAADAzMwEQAAAAIDC9QRAAAAAgML1BEAAAACAPQoFQAAAAIDC9QRAAAAAYLgeBUAAAACAwvUEQAAAAEDhegRAAAAA4HoUBEAAAACAFK4DQAAAAAApXANAAAAAgML1AkAAAABgZmYCQAAAACCF6wFAAAAAgBSuAUAAAACgmZkBQAAAAAApXAFAAAAAIK5HAUAAAABAMzMBQAAAAIA9CgFAAAAAgML1AEAAAACgR+EAQAAAAADXowBAAAAAIFyPAEAAAABgZmYAQAAAAGBmZgBAAAAAoHA9AEAAAACgcD0AQAAAAKBwPQBAAAAAwPUoAEAAAADgehQAQAAAAOB6FABAAAAA4HoUAEAAAACgR+H2PwAAAAAAAABAAAAAAAAAAEAAAABACtf/PwAAAAAAAABAAAAAAAAAAEAAAADgehQAQAAAAMD1KABAAAAAoHA9AEAAAADgehQAQAAAAMD1KABAAAAAoHA9AEAAAACgcD0AQAAAAGBmZgBAAAAAYGZmAEAAAABA4XoAQAAAAOBRuABAAAAAwMzMAEAAAACgR+EAQAAAAKBH4QBAAAAAgD0KAUAAAACAPQoBQAAAAGC4HgFAAAAAIK5HAUAAAABAMzMBQAAAAOCjcAFAAAAAwB6FAUAAAADAHoUBQAAAAIAUrgFAAAAAgBSuAUAAAABACtcBQAAAAEAK1wFAAAAA4HoUAkAAAADgehQCQAAAAAAAAAJAAAAAAAAAAkAAAABgZmYCQAAAACCF6wFAAAAAIIXrAUAAAABACtcBQAAAAEAK1wFAAAAAIIXrAUAAAAAAAAACQAAAAAAAAAJAAAAAQArXAUAAAAAAAAACQAAAAGCPwgFAAAAAgBSuAUAAAADAHoUBQAAAAAApXAFAAAAAIK5HAUAAAABguB4BQAAAAMDMzABAAAAAANejAEAAAAAA16MAQAAAACBcjwBAAAAAoHA9AEAAAAAAAAAAQAAAAIAUrv8/AAAAwB6F/z8AAACAPQr/PwEAAKBH4f4/AQAA4FG4/j8AAAAghev9PwAAAOB6FP4/AAAAYI/C/T8AAACgmZn9PwAAAOCjcP0/AAAAgML1/D////9fuB79P//////Wo/w//////9aj/D8AAADA9Sj8PwAAAIDrUfw/AAAAwPUo/D8AAACAFK77PwAAAAAAAPw/AAAAgBSu+z8AAADAHoX7PwEAAAApXPs/AAAAQArX+z8AAACAFK77PwAAAMAehfs/AAAAQDMz+z8AAACgR+H6PwAAAEAzM/s/AAAAQDMz+z8AAACAPQr7PwAAAIA9Cvs/AAAAQDMz+z8AAACAPQr7PwAAAKBH4fo/AAAAoEfh+j8AAACgR+H6PwAAAOBRuPo/AAAA4FG4+j8AAAAgXI/6PwAAAOBRuPo/AAAAIFyP+j8AAAAgXI/6PwAAAOBRuPo/AAAAIFyP+j/////fo3DtPwAAACBcj/o/AAAA4FG4+j8AAADgUbj6PwAAAOBRuPo/AAAAYGZm+j8AAADgUbj6PwAAAOBRuPo/AAAA4FG4+j8AAADgUbj6PwAAACBcj/o/AAAAIFyP+j8AAACgR+H6PwAAAOBRuPo/AAAA4FG4+j8AAACgR+H6PwAAAGBmZvo/AAAAoEfh+j8AAABAMzP7PwAAAKBH4fo/AAAAoEfh+j8AAACAPQr7PwAAAEAzM/s/AQAAAClc+z8BAAAAKVz7PwEAAAApXPs/AAAAgBSu+z8AAADA9Sj8PwAAAEAK1/s/AAAAQArX+z8AAADA9Sj8PwAAAEDhevw/AAAAQOF6/D8AAABA4Xr8PwAAAEDhevw//////9aj/D8AAADAzMz8PwAAAIDC9fw/////X7ge/T////8frkf9P////x+uR/0/AAAAoJmZ/T8AAABgj8L9PwAAAGCPwv0/AAAA4HoU/j8AAADgehT+PwAAAOB6FP4/AAAAoHA9/j8AAACgcD3+PwAAAGBmZv4/AAAAoHA9/j8AAAAgXI/+PwAAACBcj/4/AAAAoHA9/j8AAACgcD3+PwAAACBcj/4/AAAAIFyP/j8AAAAgXI/+PwAAACBcj/4/AAAAIFyP/j8BAADgUbj+PwAAACBcj/4/AQAAoEfh/j8BAADgUbj+PwAAAIA9Cv8/AAAAgD0K/z8AAACAPQr/PwEAAKBH4f4/AQAAoEfh/j8BAACgR+H+PwEAAOBRuP4/AQAAoEfh/j8AAAAgXI/+PwEAAOBRuP4/AQAAoEfh/j8AAACAPQr/PwAAAIA9Cv8/AQAAoEfh/j8AAACAPQr/PwAAAGBmZv4/AQAA4FG4/j8BAACgR+H+PwEAAKBH4f4/AAAAgD0K/z8BAABAMzP/PwEAAEAzM/8/AQAAAClc/z8BAAAAKVz/PwEAAAApXP8/AAAAgBSu/z8BAAAAKVz/PwEAAKBH4f4/AQAAAClc/z8BAABAMzP/PwAAAMAehf8/AAAAgBSu/z8AAACAFK7/PwAAAAAAAABAAAAAwPUoAEAAAAAAAAAAQAAAAOB6FABAAAAAgOtRAEAAAADA9SgAQAAAAKBwPQBAAAAAIFyPAEAAAABgZmYAQAAAAEDhegBAAAAAQOF6AEAAAABgZmYAQAAAACBcjwBAAAAA4FG4AEAAAAAgXI8AQAAAAMDMzABAAAAA4FG4AEAAAACgR+EAQAAAAIDC9QBAAAAAYLgeAUAAAACAwvUAQAAAAIDC9QBAAAAAgML1AEAAAACgR+EAQAAAACCuRwFAAAAAAClcAUAAAADgo3ABQAAAAOCjcAFAAAAAQDMzAUAAAABAMzMBQAAAAEAzMwFAAAAAQDMzAUAAAAAgrkcBQAAAACCuRwFAAAAAIK5HAUAAAABAMzMBQAAAACCuRwFAAAAAQDMzAUAAAABAMzMBQAAAAEAzMwFAAAAAQDMzAUAAAAAgrkcBQAAAAEAzMwFAAAAAIK5HAUAAAACAPQoBQAAAACCuRwFAAAAAIK5HAUAAAABguB4BQAAAAEAzMwFAAAAAQDMzAUAAAAAgrkcBQAAAAEAzMwFAAAAAQDMzAUAAAAAgrkcBQAAAAIA9CgFAAAAAYLgeAUAAAACAPQoBQAAAAGC4HgFAAAAAQDMzAUAAAABguB4BQAAAAGC4HgFAAAAAQDMzAUAAAABAMzMBQAAAAEAzMwFAAAAAgD0KAUAAAABguB4BQAAAAEAzMwFAAAAAQDMzAUAAAABAMzMBQAAAAAApXAFAAAAAIK5HAUAAAAAgrkcBQAAAAAApXAFAAAAA4KNwAUAAAADgo3ABQAAAAIAUrgFAAAAAwB6FAUAAAACgmZkBQAAAAIAUrgFAAAAAwB6FAUAAAADAHoUBQAAAAIAUrgFAAAAAoJmZAUAAAADAHoUBQAAAAIAUrgFAAAAA4KNwAUAAAADAHoUBQAAAAOCjcAFAAAAAYLgeAUAAAABAMzMBQAAAAEAzMwFAAAAAQDMzAUAAAABAMzMBQAAAAIA9CgFAAAAAoEfhAEAAAACgR+EAQAAAAKBH4QBAAAAAwMzMAEAAAACgR+EAQAAAAMDMzABAAAAAANejAEAAAADgUbgAQAAAACBcjwBAAAAAQOF6AEAAAACgcD0AQAAAAOB6FABAAAAA4HoUAEAAAABACtf/PwEAAAApXP8/AQAAAClc/z8BAABAMzP/PwEAAAApXP8/AQAAoEfh/j8BAACgR+H+PwEAAKBH4f4/AAAAIFyP/j8AAACAPQr/PwEAAKBH4f4/AQAAQDMz/z8BAABAMzP/PwEAAKBH4f4/AAAAgD0K/z8BAABAMzP/PwEAAEAzM/8/AQAAoEfh/j8AAACAPQr/PwAAAIA9Cv8/AAAAgD0K/z8BAABAMzP/PwEAAAApXP8/AAAAgD0K/z8BAAAAKVz/PwAAAMAehf8/AAAAwB6F/z8AAACAFK7/PwAAAEAK1/8/AAAAAAAAAEAAAACgcD0AQAAAAIDrUQBAAAAAoHA9AEAAAACgcD0AQAAAACBcjwBAAAAAANejAEAAAAAA16MAQAAAAADXowBAAAAAoEfhAEAAAACgR+EAQAAAAIDC9QBAAAAAgML1AEAAAACgR+EAQAAAAKBH4QBAAAAAwMzMAEAAAADgUbgAQAAAAKBH4QBAAAAA4FG4AEAAAAAgXI8AQAAAAOBRuABAAAAA4FG4AEAAAAAA16MAQAAAACBcjwBAAAAA4FG4AEAAAAAgXI8AQAAAAADXowBAAAAA4FG4AEAAAADgUbgAQAAAAOBRuABAAAAAwMzMAEAAAACgR+EAQAAAAMDMzABAAAAA4FG4AEAAAACgR+EAQAAAAMDMzABAAAAA4FG4AEAAAACgR+EAQAAAAKBH4QBAAAAAoEfhAEAAAACAwvUAQAAAAOBRuABAAAAAANejAEAAAACgR+EAQAAAAIDC9QBAAAAAoEfhAEAAAABguB4BQAAAAGC4HgFAAAAAQDMzAUAAAACAwvUAQAAAAGC4HgFAAAAAYLgeAUAAAADgo3ABQAAAAMAehQFAAAAAAClcAUAAAAAAKVwBQAAAAOCjcAFAAAAAYI/CAUAAAABACtcBQAAAAGCPwgFAAAAAIIXrAUAAAADgehQCQAAAAAAAAAJAAAAA4HoUAkAAAABgZmYCQAAAAMDMzAJAAAAAoEfhAkAAAAAgXI8CQAAAAIDrUQJAAAAAoHA9AkAAAADgehQCQAAAAAAAAAJAAAAAIIXrAUAAAABACtcBQAAAAKCZmQFAAAAAoJmZAUAAAADAHoUBQAAAAGC4HgFAAAAAIK5HAUAAAACAPQoBQAAAAKBH4QBAAAAAANejAEAAAAAA16MAQAAAAEAzMwFAAAAAYGZmAEAAAABguB75PwAAAGC4Hvk/AAAAgML1+D8AAACAwvX4P//////Wo/g/AAAAgBSu/z8BAACgR+H+PwEAAEAzM/8/AQAA4FG4/j8AAABgZmb+PwAAAGCPwv0/AAAAoHA9/j8AAACAFK77PwAAAIA9Cvs/AAAAoEfh+j8AAACgR+H6PwEAAAApXPs/AQAAAClc+z8AAABgZmb2PwAAACCF6/U/AQAAAClc7z//////1qPwP////9+jcM0/AAAA4FG48j8AAACgR+HiPwEAAOBRuO4/AAAAQArX6z8AAAAAAADwP////9+jcO0/AQAAAClc8z8AAABACtf3PwAAAOCjcPk/AAAAIIXr+T8AAAAghev5PwAAAAAAAABAAAAAgBSu/z/////fUbjePwEAAAApXPs/AAAAwB6F+z8AAABguB75PwAAAAAAAPg/AAAAwMzM7D8AAAAghevxPwAAAOB6FPI/AAAAwB6F8z8AAABACtfzPwAAAAAAAPQ/AAAAwPUo9D8AAAAAKVznPwAAAIA9CvM/AAAAIFyP9j8AAACA61H4PwAAAEAzMwFAAAAAQDMzAUAAAACAwvX0PwAAACCF6/E/AAAAYI/C8T8AAADgehTyP//////Wo/A//////9aj8D8AAACAwvXwP////1+4Hu0/////X7ge7T8AAADA9SjsPwAAAMAehes/AAAAAAAA8D8AAABA4XrwPwAAAEAK1wNAAAAAwPUoBEAAAADAzMwCQAAAAEDhegJAAAAAYGZmAkD/////1qP8P//////Wo/w/AAAAgOtR/D8AAACgcD0CQAAAAEDhegJAAAAAwPUo/D8AAADA9SgIQAAAAOCjcANAAAAAIIXr+T8AAACgmZn5PwAAAIDC9fg/AAAA4HoU+j8AAACgmZn5PwAAAIDC9QBAAAAAIFyPAkAAAABguB4JQAAAAEAzMwNAAAAAQDMzCUA=",
          "dtype": "f8"
         },
         "yaxis": "y"
        }
       ],
       "layout": {
        "height": 600,
        "hovermode": "x unified",
        "template": {
         "data": {
          "bar": [
           {
            "error_x": {
             "color": "#2a3f5f"
            },
            "error_y": {
             "color": "#2a3f5f"
            },
            "marker": {
             "line": {
              "color": "#E5ECF6",
              "width": 0.5
             },
             "pattern": {
              "fillmode": "overlay",
              "size": 10,
              "solidity": 0.2
             }
            },
            "type": "bar"
           }
          ],
          "barpolar": [
           {
            "marker": {
             "line": {
              "color": "#E5ECF6",
              "width": 0.5
             },
             "pattern": {
              "fillmode": "overlay",
              "size": 10,
              "solidity": 0.2
             }
            },
            "type": "barpolar"
           }
          ],
          "carpet": [
           {
            "aaxis": {
             "endlinecolor": "#2a3f5f",
             "gridcolor": "white",
             "linecolor": "white",
             "minorgridcolor": "white",
             "startlinecolor": "#2a3f5f"
            },
            "baxis": {
             "endlinecolor": "#2a3f5f",
             "gridcolor": "white",
             "linecolor": "white",
             "minorgridcolor": "white",
             "startlinecolor": "#2a3f5f"
            },
            "type": "carpet"
           }
          ],
          "choropleth": [
           {
            "colorbar": {
             "outlinewidth": 0,
             "ticks": ""
            },
            "type": "choropleth"
           }
          ],
          "contour": [
           {
            "colorbar": {
             "outlinewidth": 0,
             "ticks": ""
            },
            "colorscale": [
             [
              0,
              "#0d0887"
             ],
             [
              0.1111111111111111,
              "#46039f"
             ],
             [
              0.2222222222222222,
              "#7201a8"
             ],
             [
              0.3333333333333333,
              "#9c179e"
             ],
             [
              0.4444444444444444,
              "#bd3786"
             ],
             [
              0.5555555555555556,
              "#d8576b"
             ],
             [
              0.6666666666666666,
              "#ed7953"
             ],
             [
              0.7777777777777778,
              "#fb9f3a"
             ],
             [
              0.8888888888888888,
              "#fdca26"
             ],
             [
              1,
              "#f0f921"
             ]
            ],
            "type": "contour"
           }
          ],
          "contourcarpet": [
           {
            "colorbar": {
             "outlinewidth": 0,
             "ticks": ""
            },
            "type": "contourcarpet"
           }
          ],
          "heatmap": [
           {
            "colorbar": {
             "outlinewidth": 0,
             "ticks": ""
            },
            "colorscale": [
             [
              0,
              "#0d0887"
             ],
             [
              0.1111111111111111,
              "#46039f"
             ],
             [
              0.2222222222222222,
              "#7201a8"
             ],
             [
              0.3333333333333333,
              "#9c179e"
             ],
             [
              0.4444444444444444,
              "#bd3786"
             ],
             [
              0.5555555555555556,
              "#d8576b"
             ],
             [
              0.6666666666666666,
              "#ed7953"
             ],
             [
              0.7777777777777778,
              "#fb9f3a"
             ],
             [
              0.8888888888888888,
              "#fdca26"
             ],
             [
              1,
              "#f0f921"
             ]
            ],
            "type": "heatmap"
           }
          ],
          "histogram": [
           {
            "marker": {
             "pattern": {
              "fillmode": "overlay",
              "size": 10,
              "solidity": 0.2
             }
            },
            "type": "histogram"
           }
          ],
          "histogram2d": [
           {
            "colorbar": {
             "outlinewidth": 0,
             "ticks": ""
            },
            "colorscale": [
             [
              0,
              "#0d0887"
             ],
             [
              0.1111111111111111,
              "#46039f"
             ],
             [
              0.2222222222222222,
              "#7201a8"
             ],
             [
              0.3333333333333333,
              "#9c179e"
             ],
             [
              0.4444444444444444,
              "#bd3786"
             ],
             [
              0.5555555555555556,
              "#d8576b"
             ],
             [
              0.6666666666666666,
              "#ed7953"
             ],
             [
              0.7777777777777778,
              "#fb9f3a"
             ],
             [
              0.8888888888888888,
              "#fdca26"
             ],
             [
              1,
              "#f0f921"
             ]
            ],
            "type": "histogram2d"
           }
          ],
          "histogram2dcontour": [
           {
            "colorbar": {
             "outlinewidth": 0,
             "ticks": ""
            },
            "colorscale": [
             [
              0,
              "#0d0887"
             ],
             [
              0.1111111111111111,
              "#46039f"
             ],
             [
              0.2222222222222222,
              "#7201a8"
             ],
             [
              0.3333333333333333,
              "#9c179e"
             ],
             [
              0.4444444444444444,
              "#bd3786"
             ],
             [
              0.5555555555555556,
              "#d8576b"
             ],
             [
              0.6666666666666666,
              "#ed7953"
             ],
             [
              0.7777777777777778,
              "#fb9f3a"
             ],
             [
              0.8888888888888888,
              "#fdca26"
             ],
             [
              1,
              "#f0f921"
             ]
            ],
            "type": "histogram2dcontour"
           }
          ],
          "mesh3d": [
           {
            "colorbar": {
             "outlinewidth": 0,
             "ticks": ""
            },
            "type": "mesh3d"
           }
          ],
          "parcoords": [
           {
            "line": {
             "colorbar": {
              "outlinewidth": 0,
              "ticks": ""
             }
            },
            "type": "parcoords"
           }
          ],
          "pie": [
           {
            "automargin": true,
            "type": "pie"
           }
          ],
          "scatter": [
           {
            "fillpattern": {
             "fillmode": "overlay",
             "size": 10,
             "solidity": 0.2
            },
            "type": "scatter"
           }
          ],
          "scatter3d": [
           {
            "line": {
             "colorbar": {
              "outlinewidth": 0,
              "ticks": ""
             }
            },
            "marker": {
             "colorbar": {
              "outlinewidth": 0,
              "ticks": ""
             }
            },
            "type": "scatter3d"
           }
          ],
          "scattercarpet": [
           {
            "marker": {
             "colorbar": {
              "outlinewidth": 0,
              "ticks": ""
             }
            },
            "type": "scattercarpet"
           }
          ],
          "scattergeo": [
           {
            "marker": {
             "colorbar": {
              "outlinewidth": 0,
              "ticks": ""
             }
            },
            "type": "scattergeo"
           }
          ],
          "scattergl": [
           {
            "marker": {
             "colorbar": {
              "outlinewidth": 0,
              "ticks": ""
             }
            },
            "type": "scattergl"
           }
          ],
          "scattermap": [
           {
            "marker": {
             "colorbar": {
              "outlinewidth": 0,
              "ticks": ""
             }
            },
            "type": "scattermap"
           }
          ],
          "scattermapbox": [
           {
            "marker": {
             "colorbar": {
              "outlinewidth": 0,
              "ticks": ""
             }
            },
            "type": "scattermapbox"
           }
          ],
          "scatterpolar": [
           {
            "marker": {
             "colorbar": {
              "outlinewidth": 0,
              "ticks": ""
             }
            },
            "type": "scatterpolar"
           }
          ],
          "scatterpolargl": [
           {
            "marker": {
             "colorbar": {
              "outlinewidth": 0,
              "ticks": ""
             }
            },
            "type": "scatterpolargl"
           }
          ],
          "scatterternary": [
           {
            "marker": {
             "colorbar": {
              "outlinewidth": 0,
              "ticks": ""
             }
            },
            "type": "scatterternary"
           }
          ],
          "surface": [
           {
            "colorbar": {
             "outlinewidth": 0,
             "ticks": ""
            },
            "colorscale": [
             [
              0,
              "#0d0887"
             ],
             [
              0.1111111111111111,
              "#46039f"
             ],
             [
              0.2222222222222222,
              "#7201a8"
             ],
             [
              0.3333333333333333,
              "#9c179e"
             ],
             [
              0.4444444444444444,
              "#bd3786"
             ],
             [
              0.5555555555555556,
              "#d8576b"
             ],
             [
              0.6666666666666666,
              "#ed7953"
             ],
             [
              0.7777777777777778,
              "#fb9f3a"
             ],
             [
              0.8888888888888888,
              "#fdca26"
             ],
             [
              1,
              "#f0f921"
             ]
            ],
            "type": "surface"
           }
          ],
          "table": [
           {
            "cells": {
             "fill": {
              "color": "#EBF0F8"
             },
             "line": {
              "color": "white"
             }
            },
            "header": {
             "fill": {
              "color": "#C8D4E3"
             },
             "line": {
              "color": "white"
             }
            },
            "type": "table"
           }
          ]
         },
         "layout": {
          "annotationdefaults": {
           "arrowcolor": "#2a3f5f",
           "arrowhead": 0,
           "arrowwidth": 1
          },
          "autotypenumbers": "strict",
          "coloraxis": {
           "colorbar": {
            "outlinewidth": 0,
            "ticks": ""
           }
          },
          "colorscale": {
           "diverging": [
            [
             0,
             "#8e0152"
            ],
            [
             0.1,
             "#c51b7d"
            ],
            [
             0.2,
             "#de77ae"
            ],
            [
             0.3,
             "#f1b6da"
            ],
            [
             0.4,
             "#fde0ef"
            ],
            [
             0.5,
             "#f7f7f7"
            ],
            [
             0.6,
             "#e6f5d0"
            ],
            [
             0.7,
             "#b8e186"
            ],
            [
             0.8,
             "#7fbc41"
            ],
            [
             0.9,
             "#4d9221"
            ],
            [
             1,
             "#276419"
            ]
           ],
           "sequential": [
            [
             0,
             "#0d0887"
            ],
            [
             0.1111111111111111,
             "#46039f"
            ],
            [
             0.2222222222222222,
             "#7201a8"
            ],
            [
             0.3333333333333333,
             "#9c179e"
            ],
            [
             0.4444444444444444,
             "#bd3786"
            ],
            [
             0.5555555555555556,
             "#d8576b"
            ],
            [
             0.6666666666666666,
             "#ed7953"
            ],
            [
             0.7777777777777778,
             "#fb9f3a"
            ],
            [
             0.8888888888888888,
             "#fdca26"
            ],
            [
             1,
             "#f0f921"
            ]
           ],
           "sequentialminus": [
            [
             0,
             "#0d0887"
            ],
            [
             0.1111111111111111,
             "#46039f"
            ],
            [
             0.2222222222222222,
             "#7201a8"
            ],
            [
             0.3333333333333333,
             "#9c179e"
            ],
            [
             0.4444444444444444,
             "#bd3786"
            ],
            [
             0.5555555555555556,
             "#d8576b"
            ],
            [
             0.6666666666666666,
             "#ed7953"
            ],
            [
             0.7777777777777778,
             "#fb9f3a"
            ],
            [
             0.8888888888888888,
             "#fdca26"
            ],
            [
             1,
             "#f0f921"
            ]
           ]
          },
          "colorway": [
           "#636efa",
           "#EF553B",
           "#00cc96",
           "#ab63fa",
           "#FFA15A",
           "#19d3f3",
           "#FF6692",
           "#B6E880",
           "#FF97FF",
           "#FECB52"
          ],
          "font": {
           "color": "#2a3f5f"
          },
          "geo": {
           "bgcolor": "white",
           "lakecolor": "white",
           "landcolor": "#E5ECF6",
           "showlakes": true,
           "showland": true,
           "subunitcolor": "white"
          },
          "hoverlabel": {
           "align": "left"
          },
          "hovermode": "closest",
          "mapbox": {
           "style": "light"
          },
          "paper_bgcolor": "white",
          "plot_bgcolor": "#E5ECF6",
          "polar": {
           "angularaxis": {
            "gridcolor": "white",
            "linecolor": "white",
            "ticks": ""
           },
           "bgcolor": "#E5ECF6",
           "radialaxis": {
            "gridcolor": "white",
            "linecolor": "white",
            "ticks": ""
           }
          },
          "scene": {
           "xaxis": {
            "backgroundcolor": "#E5ECF6",
            "gridcolor": "white",
            "gridwidth": 2,
            "linecolor": "white",
            "showbackground": true,
            "ticks": "",
            "zerolinecolor": "white"
           },
           "yaxis": {
            "backgroundcolor": "#E5ECF6",
            "gridcolor": "white",
            "gridwidth": 2,
            "linecolor": "white",
            "showbackground": true,
            "ticks": "",
            "zerolinecolor": "white"
           },
           "zaxis": {
            "backgroundcolor": "#E5ECF6",
            "gridcolor": "white",
            "gridwidth": 2,
            "linecolor": "white",
            "showbackground": true,
            "ticks": "",
            "zerolinecolor": "white"
           }
          },
          "shapedefaults": {
           "line": {
            "color": "#2a3f5f"
           }
          },
          "ternary": {
           "aaxis": {
            "gridcolor": "white",
            "linecolor": "white",
            "ticks": ""
           },
           "baxis": {
            "gridcolor": "white",
            "linecolor": "white",
            "ticks": ""
           },
           "bgcolor": "#E5ECF6",
           "caxis": {
            "gridcolor": "white",
            "linecolor": "white",
            "ticks": ""
           }
          },
          "title": {
           "x": 0.05
          },
          "xaxis": {
           "automargin": true,
           "gridcolor": "white",
           "linecolor": "white",
           "ticks": "",
           "title": {
            "standoff": 15
           },
           "zerolinecolor": "white",
           "zerolinewidth": 2
          },
          "yaxis": {
           "automargin": true,
           "gridcolor": "white",
           "linecolor": "white",
           "ticks": "",
           "title": {
            "standoff": 15
           },
           "zerolinecolor": "white",
           "zerolinewidth": 2
          }
         }
        },
        "title": {
         "text": "🔄 Interactive Distance Comparison: Sonar vs DVL"
        },
        "xaxis": {
         "anchor": "y",
         "domain": [
          0,
          1
         ],
         "showgrid": true,
         "title": {
          "text": "Time (seconds)"
         }
        },
        "yaxis": {
         "anchor": "x",
         "domain": [
          0,
          1
         ],
         "showgrid": true,
         "title": {
          "text": "Distance (meters)"
         }
        }
       }
      }
     },
     "metadata": {},
     "output_type": "display_data"
    }
   ],
   "source": [
    "try:\n",
    "    fig, comparison_stats = iau.interactive_distance_comparison(distance_results, raw_data, sonar_coverage_m=sonar_coverage_meters, sonar_image_size=image_shape[0])\n",
    "    if comparison_stats and isinstance(comparison_stats, dict) and 'error' in comparison_stats:\n",
    "        print('Comparison did not run:', comparison_stats['error'])\n",
    "    else:\n",
    "        print('\\nComparison stats summary:')\n",
    "        from pprint import pprint\n",
    "        pprint(comparison_stats)\n",
    "        # Display the interactive plot\n",
    "        fig.show()\n",
    "except Exception as e:\n",
    "    print('Error running interactive comparison:', e)"
   ]
  },
  {
   "cell_type": "code",
   "execution_count": null,
   "id": "50f97352",
   "metadata": {},
   "outputs": [
    {
     "name": "stdout",
     "output_type": "stream",
     "text": [
      "🎬 GENERATING VIDEO WITH DUAL NET DISTANCE OVERLAYS\n",
      "============================================================\n",
      "🎯 Target Bag: 2024-08-20_14-31-29\n",
      "📊 DVL Data: 559 records\n",
      "📏 Sonar Analysis: 1059 frames\n",
      "🎥 Camera: disabled\n",
      "🛠️ OPTIMIZED SONAR VIDEO\n",
      "======================================================================\n",
      "🎯 Target Bag: 2024-08-20_14-31-29\n",
      "   Cone Size: 900x700\n",
      "   Range: 0.0-5.0m | FOV: 120.0°\n",
      "   🎥 Camera: disabled\n",
      "   🕸  Net-line: enabled (dist tol=0.5s, pitch tol=2.0s)\n",
      "   📊 Sonar Analysis: enabled\n",
      "   Loading sonar data: sensor_sonoptix_echo_image__2024-08-20_14-31-29_video.csv\n",
      "   ✅ Loaded 1060 sonar frames in 42.01s\n",
      "   ✅ Loaded 559 navigation records in 0.01s\n",
      "      Available: ['NetDistance', 'NetPitch', 'timestamp']\n",
      "   Frames: 1..999 (step 1) => 999\n",
      "   Natural FPS: 15.7\n",
      "   ✅ Loaded 1060 sonar frames in 42.01s\n",
      "   ✅ Loaded 559 navigation records in 0.01s\n",
      "      Available: ['NetDistance', 'NetPitch', 'timestamp']\n",
      "   Frames: 1..999 (step 1) => 999\n",
      "   Natural FPS: 15.7\n",
      "\n",
      "🎉 DONE! Wrote 999 frames to /Volumes/LaCie/SOLAQUA/exports/videos/2024-08-20_14-31-29_optimized_sync_withsonar_20240820_143131_621807+0200.mp4 @ 15.67 FPS\n",
      "Metadata saved to: /Volumes/LaCie/SOLAQUA/exports/videos/2024-08-20_14-31-29_optimized_sync_withsonar_20240820_143131_621807+0200.mp4.meta.json\n",
      "\n",
      "✅ Video generated successfully!\n",
      "📁 Output: None\n",
      "\n",
      "🎉 DONE! Wrote 999 frames to /Volumes/LaCie/SOLAQUA/exports/videos/2024-08-20_14-31-29_optimized_sync_withsonar_20240820_143131_621807+0200.mp4 @ 15.67 FPS\n",
      "Metadata saved to: /Volumes/LaCie/SOLAQUA/exports/videos/2024-08-20_14-31-29_optimized_sync_withsonar_20240820_143131_621807+0200.mp4.meta.json\n",
      "\n",
      "✅ Video generated successfully!\n",
      "📁 Output: None\n"
     ]
    }
   ],
   "source": [
    "# 🎥 Generate Video with Both DVL and Sonar Analysis Overlays\n",
    "# ========================================================\n",
    "import utils.sonar_and_foto_generation as sg\n",
    "\n",
    "# Set up paths\n",
    "VIDEO_SEQ_DIR = None  # Set to path if you want camera footage included\n",
    "\n",
    "print(\"🎬 GENERATING VIDEO WITH DUAL NET DISTANCE OVERLAYS\")\n",
    "print(\"=\" * 60)\n",
    "print(f\"🎯 Target Bag: {TARGET_BAG}\")\n",
    "print(f\"📊 DVL Data: {len(raw_data.get('navigation', []))} records\")\n",
    "print(f\"📏 Sonar Analysis: {len(distance_results)} frames\")\n",
    "print(f\"🎥 Camera: {'enabled' if VIDEO_SEQ_DIR else 'disabled'}\")\n",
    "\n",
    "# Generate the video with both overlays\n",
    "try:\n",
    "    video_path = sg.export_optimized_sonar_video(\n",
    "        TARGET_BAG=TARGET_BAG,\n",
    "        EXPORTS_FOLDER=EXPORTS_FOLDER,\n",
    "        START_IDX=1,\n",
    "        END_IDX=1000,  # Adjust as needed\n",
    "        STRIDE=1,\n",
    "        VIDEO_SEQ_DIR=VIDEO_SEQ_DIR,\n",
    "        INCLUDE_NET=True,  # Enable DVL net distance overlay\n",
    "        SONAR_DISTANCE_RESULTS=distance_results,  # Enable sonar analysis overlay\n",
    "        NET_DISTANCE_TOLERANCE=0.5,\n",
    "        NET_PITCH_TOLERANCE=2.0,  # Increased from 0.3 to 2.0 seconds for better pitch sync\n",
    "    )\n",
    "    print(f\"\\n✅ Video generated successfully!\")\n",
    "    print(f\"📁 Output: {video_path}\")\n",
    "except Exception as e:\n",
    "    print(f\"❌ Error generating video: {e}\")"
   ]
  }
 ],
 "metadata": {
  "kernelspec": {
   "display_name": "venv",
   "language": "python",
   "name": "python3"
  },
  "language_info": {
   "codemirror_mode": {
    "name": "ipython",
    "version": 3
   },
   "file_extension": ".py",
   "mimetype": "text/x-python",
   "name": "python",
   "nbconvert_exporter": "python",
   "pygments_lexer": "ipython3",
   "version": "3.13.5"
  }
 },
 "nbformat": 4,
 "nbformat_minor": 5
}
