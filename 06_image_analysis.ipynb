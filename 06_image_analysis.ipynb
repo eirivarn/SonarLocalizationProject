{
 "cells": [
  {
   "cell_type": "code",
   "execution_count": 1,
   "id": "7a8d02c0",
   "metadata": {},
   "outputs": [],
   "source": [
    "from pathlib import Path\n",
    "import utils.sonar_image_analysis as iau\n",
    "import importlib\n",
    "importlib.reload(iau)\n",
    "\n",
    "# Centralized sonar defaults (inserted by sweep)\n",
    "from utils.sonar_config import SONAR_VIS_DEFAULTS\n",
    "sonar_config = SONAR_VIS_DEFAULTS.copy()\n",
    "# Backwards-compatible variable names used in older notebooks\n",
    "RANGE_MIN_M = sonar_config['range_min_m']\n",
    "RANGE_MAX_M = sonar_config['range_max_m']\n",
    "DISPLAY_RANGE_MAX_M = sonar_config['display_range_max_m']"
   ]
  },
  {
   "cell_type": "markdown",
   "id": "9220eb1d",
   "metadata": {},
   "source": [
    "# Simple Image Analysis with CV2\n",
    "\n",
    "This notebook demonstrates:\n",
    "1. **Pick a frame** from NPZ files and save it locally\n",
    "2. **Use standard cv2 functions** directly for image processing\n",
    "3. **Experiment** with different OpenCV operations"
   ]
  },
  {
   "cell_type": "code",
   "execution_count": 2,
   "id": "4b3e8f46",
   "metadata": {},
   "outputs": [
    {
     "name": "stdout",
     "output_type": "stream",
     "text": [
      "Using DATA_DIR = /Volumes/LaCie/SOLAQUA/raw_data\n",
      "Selected NPZ file: 2024-08-20_14-31-29_data_cones.npz (index=8)\n"
     ]
    }
   ],
   "source": [
    "\n",
    "\n",
    "# Prefer selecting by bag ID (part of the NPZ filename) instead of a numeric index.\n",
    "# Set TARGET_BAG to a substring that appears in the NPZ filename \n",
    "# '2024-08-22_14-47-39'\n",
    "# '2024-08-22_14-29-05'\n",
    "# '2024-08-20_14-22-12'\n",
    "# '2024-08-20_14-31-29' HARD\n",
    "# '2024-08-20_18-47-40' EASY\n",
    "TARGET_BAG = '2024-08-20_14-31-29'  # change this to your desired bag ID\n",
    "from utils.sonar_config import EXPORTS_DIR_DEFAULT, EXPORTS_SUBDIRS\n",
    "EXPORTS_FOLDER = Path(EXPORTS_DIR_DEFAULT)\n",
    "\n",
    "# If you keep your raw .bag files or raw data on an external drive, point DATA_DIR there.\n",
    "# Example (your external disk): /Volumes/LaCie/SOLAQUA/raw_data\n",
    "DATA_DIR = Path(\"/Volumes/LaCie/SOLAQUA/raw_data\")\n",
    "print(f\"Using DATA_DIR = {DATA_DIR}\")\n",
    "\n",
    "# Find NPZ files and pick the one matching TARGET_BAG\n",
    "files = iau.get_available_npz_files()\n",
    "if not files:\n",
    "    raise FileNotFoundError(f\"No NPZ files found in configured exports outputs (looked under {EXPORTS_FOLDER / EXPORTS_SUBDIRS.get('outputs','outputs')})\")\n",
    "matches = [p for p in files if TARGET_BAG in p.name]\n",
    "if not matches:\n",
    "    # Help the user by listing available NPZ files\n",
    "    print(f'No NPZ file matched TARGET_BAG={TARGET_BAG!r}')\n",
    "    print('Available NPZ files:')\n",
    "    for i,p in enumerate(files):\n",
    "        print(f'  {i}: {p.name}')\n",
    "    raise ValueError(f'No NPZ file contains \"{TARGET_BAG}\" in its name')\n",
    "\n",
    "# If multiple matches, choose the most recently modified one\n",
    "selected = max(matches, key=lambda p: p.stat().st_mtime)\n",
    "NPZ_FILE_INDEX = files.index(selected)\n",
    "print(f'Selected NPZ file: {selected.name} (index={NPZ_FILE_INDEX})')"
   ]
  },
  {
   "cell_type": "markdown",
   "id": "0c65358c",
   "metadata": {},
   "source": [
    "## Distance Analysis Over Time\n",
    "\n",
    "Now let's perform a comprehensive analysis of the red line distance over time. The red line represents the major axis of the detected elongated contour (likely a fishing net), and we'll track how this distance changes throughout the video sequence."
   ]
  },
  {
   "cell_type": "code",
   "execution_count": 3,
   "id": "b9c5da85",
   "metadata": {},
   "outputs": [
    {
     "name": "stdout",
     "output_type": "stream",
     "text": [
      "=== ENHANCED VIDEO CREATION (Simplified) ===\n",
      "Creating video with simplified processor...\n",
      "Frames: 1500, step: 1\n",
      "Processing 1059 frames with simplified processor...\n",
      "Processing 1059 frames with simplified processor...\n",
      "Processed 10/1059 frames\n",
      "Processed 10/1059 frames\n",
      "Processed 20/1059 frames\n",
      "Processed 20/1059 frames\n",
      "Processed 30/1059 frames\n",
      "Processed 30/1059 frames\n",
      "Processed 40/1059 frames\n",
      "Processed 40/1059 frames\n",
      "Processed 50/1059 frames\n",
      "Processed 50/1059 frames\n",
      "Processed 60/1059 frames\n",
      "Processed 60/1059 frames\n",
      "Processed 70/1059 frames\n",
      "Processed 70/1059 frames\n",
      "Processed 80/1059 frames\n",
      "Processed 80/1059 frames\n",
      "Processed 90/1059 frames\n",
      "Processed 90/1059 frames\n",
      "Processed 100/1059 frames\n",
      "Processed 100/1059 frames\n",
      "Processed 110/1059 frames\n",
      "Processed 110/1059 frames\n",
      "Processed 120/1059 frames\n",
      "Processed 120/1059 frames\n",
      "Processed 130/1059 frames\n",
      "Processed 130/1059 frames\n",
      "Processed 140/1059 frames\n",
      "Processed 140/1059 frames\n",
      "Processed 150/1059 frames\n",
      "Processed 150/1059 frames\n",
      "Processed 160/1059 frames\n",
      "Processed 160/1059 frames\n",
      "Processed 170/1059 frames\n",
      "Processed 170/1059 frames\n",
      "Processed 180/1059 frames\n",
      "Processed 180/1059 frames\n",
      "Processed 190/1059 frames\n",
      "Processed 190/1059 frames\n",
      "Processed 200/1059 frames\n",
      "Processed 200/1059 frames\n",
      "Processed 210/1059 frames\n",
      "Processed 210/1059 frames\n",
      "Processed 220/1059 frames\n",
      "Processed 220/1059 frames\n",
      "Processed 230/1059 frames\n",
      "Processed 230/1059 frames\n",
      "Processed 240/1059 frames\n",
      "Processed 240/1059 frames\n",
      "Processed 250/1059 frames\n",
      "Processed 250/1059 frames\n",
      "Processed 260/1059 frames\n",
      "Processed 260/1059 frames\n",
      "Processed 270/1059 frames\n",
      "Processed 270/1059 frames\n",
      "Processed 280/1059 frames\n",
      "Processed 280/1059 frames\n",
      "Processed 290/1059 frames\n",
      "Processed 290/1059 frames\n",
      "Processed 300/1059 frames\n",
      "Processed 300/1059 frames\n",
      "Processed 310/1059 frames\n",
      "Processed 310/1059 frames\n",
      "Processed 320/1059 frames\n",
      "Processed 320/1059 frames\n",
      "Processed 330/1059 frames\n",
      "Processed 330/1059 frames\n",
      "Processed 340/1059 frames\n",
      "Processed 340/1059 frames\n",
      "Processed 350/1059 frames\n",
      "Processed 350/1059 frames\n",
      "Processed 360/1059 frames\n",
      "Processed 360/1059 frames\n",
      "Processed 370/1059 frames\n",
      "Processed 370/1059 frames\n",
      "Processed 380/1059 frames\n",
      "Processed 380/1059 frames\n",
      "Processed 390/1059 frames\n",
      "Processed 390/1059 frames\n",
      "Processed 400/1059 frames\n",
      "Processed 400/1059 frames\n",
      "Processed 410/1059 frames\n",
      "Processed 410/1059 frames\n",
      "Processed 420/1059 frames\n",
      "Processed 420/1059 frames\n",
      "Processed 430/1059 frames\n",
      "Processed 430/1059 frames\n",
      "Processed 440/1059 frames\n",
      "Processed 440/1059 frames\n",
      "Processed 450/1059 frames\n",
      "Processed 450/1059 frames\n",
      "Processed 460/1059 frames\n",
      "Processed 460/1059 frames\n",
      "Processed 470/1059 frames\n",
      "Processed 470/1059 frames\n",
      "Processed 480/1059 frames\n",
      "Processed 480/1059 frames\n",
      "Processed 490/1059 frames\n",
      "Processed 490/1059 frames\n",
      "Processed 500/1059 frames\n",
      "Processed 500/1059 frames\n",
      "Processed 510/1059 frames\n",
      "Processed 510/1059 frames\n",
      "Processed 520/1059 frames\n",
      "Processed 520/1059 frames\n",
      "Processed 530/1059 frames\n",
      "Processed 530/1059 frames\n",
      "Processed 540/1059 frames\n",
      "Processed 540/1059 frames\n",
      "Processed 550/1059 frames\n",
      "Processed 550/1059 frames\n",
      "Processed 560/1059 frames\n",
      "Processed 560/1059 frames\n",
      "Processed 570/1059 frames\n",
      "Processed 570/1059 frames\n",
      "Processed 580/1059 frames\n",
      "Processed 580/1059 frames\n",
      "Processed 590/1059 frames\n",
      "Processed 590/1059 frames\n",
      "Processed 600/1059 frames\n",
      "Processed 600/1059 frames\n",
      "Processed 610/1059 frames\n",
      "Processed 610/1059 frames\n",
      "Processed 620/1059 frames\n",
      "Processed 620/1059 frames\n",
      "Processed 630/1059 frames\n",
      "Processed 630/1059 frames\n",
      "Processed 640/1059 frames\n",
      "Processed 640/1059 frames\n",
      "Processed 650/1059 frames\n",
      "Processed 650/1059 frames\n",
      "Processed 660/1059 frames\n",
      "Processed 660/1059 frames\n",
      "Processed 670/1059 frames\n",
      "Processed 670/1059 frames\n",
      "Processed 680/1059 frames\n",
      "Processed 680/1059 frames\n",
      "Processed 690/1059 frames\n",
      "Processed 690/1059 frames\n",
      "Processed 700/1059 frames\n",
      "Processed 700/1059 frames\n",
      "Processed 710/1059 frames\n",
      "Processed 710/1059 frames\n",
      "Processed 720/1059 frames\n",
      "Processed 720/1059 frames\n",
      "Processed 730/1059 frames\n",
      "Processed 730/1059 frames\n",
      "Processed 740/1059 frames\n",
      "Processed 740/1059 frames\n",
      "Processed 750/1059 frames\n",
      "Processed 750/1059 frames\n",
      "Processed 760/1059 frames\n",
      "Processed 760/1059 frames\n",
      "Processed 770/1059 frames\n",
      "Processed 770/1059 frames\n",
      "Processed 780/1059 frames\n",
      "Processed 780/1059 frames\n",
      "Processed 790/1059 frames\n",
      "Processed 790/1059 frames\n",
      "Processed 800/1059 frames\n",
      "Processed 800/1059 frames\n",
      "Processed 810/1059 frames\n",
      "Processed 810/1059 frames\n",
      "Processed 820/1059 frames\n",
      "Processed 820/1059 frames\n",
      "Processed 830/1059 frames\n",
      "Processed 830/1059 frames\n",
      "Processed 840/1059 frames\n",
      "Processed 840/1059 frames\n",
      "Processed 850/1059 frames\n",
      "Processed 850/1059 frames\n",
      "Processed 860/1059 frames\n",
      "Processed 860/1059 frames\n",
      "Processed 870/1059 frames\n",
      "Processed 870/1059 frames\n",
      "Processed 880/1059 frames\n",
      "Processed 880/1059 frames\n",
      "Processed 890/1059 frames\n",
      "Processed 890/1059 frames\n",
      "Processed 900/1059 frames\n",
      "Processed 900/1059 frames\n",
      "Processed 910/1059 frames\n",
      "Processed 910/1059 frames\n",
      "Processed 920/1059 frames\n",
      "Processed 920/1059 frames\n",
      "Processed 930/1059 frames\n",
      "Processed 930/1059 frames\n",
      "Processed 940/1059 frames\n",
      "Processed 940/1059 frames\n",
      "Processed 950/1059 frames\n",
      "Processed 950/1059 frames\n",
      "Processed 960/1059 frames\n",
      "Processed 960/1059 frames\n",
      "Processed 970/1059 frames\n",
      "Processed 970/1059 frames\n",
      "Processed 980/1059 frames\n",
      "Processed 980/1059 frames\n",
      "Processed 990/1059 frames\n",
      "Processed 990/1059 frames\n",
      "Processed 1000/1059 frames\n",
      "Processed 1000/1059 frames\n",
      "Processed 1010/1059 frames\n",
      "Processed 1010/1059 frames\n",
      "Processed 1020/1059 frames\n",
      "Processed 1020/1059 frames\n",
      "Processed 1030/1059 frames\n",
      "Processed 1030/1059 frames\n",
      "Processed 1040/1059 frames\n",
      "Processed 1040/1059 frames\n",
      "Processed 1050/1059 frames\n",
      "Processed 1050/1059 frames\n",
      "\n",
      "=== ENHANCED VIDEO CREATION COMPLETE ===\n",
      "Video saved to: /Volumes/LaCie/SOLAQUA/exports/videos/core_aoi_tracking.mp4\n",
      "Video specs: 900x700, 15 fps, 1059 frames\n",
      "SIMPLIFIED TRACKING STATS:\n",
      "  - Total detected frames: 1059\n",
      "  - Lost/searching frames: 0\n",
      "  - Detection success rate: 100.0%\n",
      "\n",
      "=== ENHANCED VIDEO CREATION COMPLETE ===\n",
      "Video saved to: /Volumes/LaCie/SOLAQUA/exports/videos/core_aoi_tracking.mp4\n",
      "Video specs: 900x700, 15 fps, 1059 frames\n",
      "SIMPLIFIED TRACKING STATS:\n",
      "  - Total detected frames: 1059\n",
      "  - Lost/searching frames: 0\n",
      "  - Detection success rate: 100.0%\n"
     ]
    }
   ],
   "source": [
    "# Create the unified processor\n",
    "processor = iau.SonarDataProcessor()\n",
    "\n",
    "# Use the enhanced video creation with CORE processor\n",
    "video_path = iau.create_enhanced_contour_detection_video_with_processor(\n",
    "    npz_file_index=NPZ_FILE_INDEX,          # Which NPZ file to use\n",
    "    frame_start=1,           # Starting frame\n",
    "    frame_count=1500,         # Number of frames to process\n",
    "    frame_step=1,            # Step between frames\n",
    "    output_path=Path(EXPORTS_DIR_DEFAULT) / EXPORTS_SUBDIRS.get('videos','videos') / 'core_aoi_tracking.mp4',\n",
    "    processor=processor      # Use our CORE processor\n",
    ")"
   ]
  },
  {
   "cell_type": "code",
   "execution_count": 4,
   "id": "d9c0382e",
   "metadata": {},
   "outputs": [
    {
     "name": "stdout",
     "output_type": "stream",
     "text": [
      "=== DISTANCE ANALYSIS FROM NPZ ===\n",
      "Analyzing: /Volumes/LaCie/SOLAQUA/exports/outputs/2024-08-20_14-31-29_data_cones.npz\n",
      "Processing 1059 frames from 1 (step=1)\n",
      "Processing 1059 frames from 1 (step=1)\n",
      "  Processed 50/1059 frames (Success rate: 100.0%)\n",
      "  Processed 50/1059 frames (Success rate: 100.0%)\n",
      "  Processed 100/1059 frames (Success rate: 100.0%)\n",
      "  Processed 100/1059 frames (Success rate: 100.0%)\n",
      "  Processed 150/1059 frames (Success rate: 100.0%)\n",
      "  Processed 150/1059 frames (Success rate: 100.0%)\n",
      "  Processed 200/1059 frames (Success rate: 100.0%)\n",
      "  Processed 200/1059 frames (Success rate: 100.0%)\n",
      "  Processed 250/1059 frames (Success rate: 100.0%)\n",
      "  Processed 250/1059 frames (Success rate: 100.0%)\n",
      "  Processed 300/1059 frames (Success rate: 100.0%)\n",
      "  Processed 300/1059 frames (Success rate: 100.0%)\n",
      "  Processed 350/1059 frames (Success rate: 100.0%)\n",
      "  Processed 350/1059 frames (Success rate: 100.0%)\n",
      "  Processed 400/1059 frames (Success rate: 100.0%)\n",
      "  Processed 400/1059 frames (Success rate: 100.0%)\n",
      "  Processed 450/1059 frames (Success rate: 100.0%)\n",
      "  Processed 450/1059 frames (Success rate: 100.0%)\n",
      "  Processed 500/1059 frames (Success rate: 100.0%)\n",
      "  Processed 500/1059 frames (Success rate: 100.0%)\n",
      "  Processed 550/1059 frames (Success rate: 100.0%)\n",
      "  Processed 550/1059 frames (Success rate: 100.0%)\n",
      "  Processed 600/1059 frames (Success rate: 100.0%)\n",
      "  Processed 600/1059 frames (Success rate: 100.0%)\n",
      "  Processed 650/1059 frames (Success rate: 100.0%)\n",
      "  Processed 650/1059 frames (Success rate: 100.0%)\n",
      "  Processed 700/1059 frames (Success rate: 100.0%)\n",
      "  Processed 700/1059 frames (Success rate: 100.0%)\n",
      "  Processed 750/1059 frames (Success rate: 100.0%)\n",
      "  Processed 750/1059 frames (Success rate: 100.0%)\n",
      "  Processed 800/1059 frames (Success rate: 100.0%)\n",
      "  Processed 800/1059 frames (Success rate: 100.0%)\n",
      "  Processed 850/1059 frames (Success rate: 100.0%)\n",
      "  Processed 850/1059 frames (Success rate: 100.0%)\n",
      "  Processed 900/1059 frames (Success rate: 100.0%)\n",
      "  Processed 900/1059 frames (Success rate: 100.0%)\n",
      "  Processed 950/1059 frames (Success rate: 100.0%)\n",
      "  Processed 950/1059 frames (Success rate: 100.0%)\n",
      "  Processed 1000/1059 frames (Success rate: 100.0%)\n",
      "  Processed 1000/1059 frames (Success rate: 100.0%)\n",
      "  Processed 1050/1059 frames (Success rate: 100.0%)\n",
      "  Processed 1050/1059 frames (Success rate: 100.0%)\n",
      "\n",
      "=== ANALYSIS COMPLETE ===\n",
      "Total frames processed: 1059\n",
      "Successful detections: 1059 (100.0%)\n",
      "Distance statistics (meters):\n",
      "  - Mean: 2.021\n",
      "  - Std:  0.322\n",
      "  - Min:  1.541\n",
      "  - Max:  3.188\n",
      "  - Range: 1.647\n",
      "Analyzed 1059 frames using elliptical AOI\n",
      " Detection success rate: 100.0%\n",
      " Elliptical tracking active: 0 frames\n",
      "\n",
      "=== ANALYSIS COMPLETE ===\n",
      "Total frames processed: 1059\n",
      "Successful detections: 1059 (100.0%)\n",
      "Distance statistics (meters):\n",
      "  - Mean: 2.021\n",
      "  - Std:  0.322\n",
      "  - Min:  1.541\n",
      "  - Max:  3.188\n",
      "  - Range: 1.647\n",
      "Analyzed 1059 frames using elliptical AOI\n",
      " Detection success rate: 100.0%\n",
      " Elliptical tracking active: 0 frames\n"
     ]
    }
   ],
   "source": [
    "engine = iau.DistanceAnalysisEngine()\n",
    "distance_results = engine.analyze_npz_sequence(\n",
    "    npz_file_index=NPZ_FILE_INDEX,    \n",
    "    frame_start=1,        # Start from frame 1\n",
    "    frame_count=1500,      # Analyze all frames from the video\n",
    "    frame_step=1          # Every frame\n",
    ")\n",
    "\n",
    "print(f\"Analyzed {len(distance_results)} frames using elliptical AOI\")\n",
    "print(f\" Detection success rate: {distance_results['detection_success'].mean():.1%}\")\n",
    "print(f\" Elliptical tracking active: {(distance_results['tracking_status'].str.contains('ELLIPSE')).sum()} frames\")"
   ]
  },
  {
   "cell_type": "markdown",
   "id": "fede9d64",
   "metadata": {},
   "source": [
    "## Convert to Real-World Distances\n",
    "\n",
    "Now let's convert the pixel distances to real-world distances using the fact that the entire sonar image represents a 10x10 meter area."
   ]
  },
  {
   "cell_type": "code",
   "execution_count": 5,
   "id": "886897de",
   "metadata": {},
   "outputs": [
    {
     "name": "stdout",
     "output_type": "stream",
     "text": [
      "Detected NPZ extent: x=[-8.660,8.660] m, y=[0.000,10.000] m\n",
      "Image shape from NPZ: H=700, W=900\n",
      "meters/pixel: x=0.019245, y=0.014286, avg=0.016765\n",
      "Using pixels_to_meters_avg = 0.016765 m/px\n"
     ]
    }
   ],
   "source": [
    "# Auto-detect pixel->meter mapping from the selected NPZ (if available)\n",
    "try:\n",
    "    cones, ts, extent, meta = iau.load_cone_run_npz(selected)\n",
    "    T, H, W = cones.shape\n",
    "    x_min, x_max, y_min, y_max = extent\n",
    "    width_m = float(x_max - x_min)\n",
    "    height_m = float(y_max - y_min)\n",
    "    px2m_x = width_m / float(W)\n",
    "    px2m_y = height_m / float(H)\n",
    "    pixels_to_meters_avg = 0.5 * (px2m_x + px2m_y)\n",
    "    image_shape = (H, W)\n",
    "    sonar_coverage_meters = max(width_m, height_m)\n",
    "    print(f\"Detected NPZ extent: x=[{x_min:.3f},{x_max:.3f}] m, y=[{y_min:.3f},{y_max:.3f}] m\")\n",
    "    print(f\"Image shape from NPZ: H={H}, W={W}\")\n",
    "    print(f\"meters/pixel: x={px2m_x:.6f}, y={px2m_y:.6f}, avg={pixels_to_meters_avg:.6f}\")\n",
    "except Exception as e:\n",
    "    print(\"Could not read NPZ metadata:\", e)\n",
    "    print(\"Falling back to defaults from sonar_config.\")\n",
    "    from utils.sonar_config import CONE_H_DEFAULT, CONE_W_DEFAULT, DISPLAY_RANGE_MAX_M_DEFAULT\n",
    "    image_shape = (CONE_H_DEFAULT, CONE_W_DEFAULT)\n",
    "    sonar_coverage_meters = DISPLAY_RANGE_MAX_M_DEFAULT * 2  # approximate\n",
    "    pixels_to_meters_avg = sonar_coverage_meters / max(image_shape)\n",
    "    \n",
    "# Use the computed pixels_to_meters_avg in downstream analysis\n",
    "print(f\"Using pixels_to_meters_avg = {pixels_to_meters_avg:.6f} m/px\")"
   ]
  },
  {
   "cell_type": "code",
   "execution_count": 6,
   "id": "15d6238c",
   "metadata": {},
   "outputs": [
    {
     "data": {
      "application/vnd.plotly.v1+json": {
       "config": {
        "plotlyServerURL": "https://plot.ly"
       },
       "data": [
        {
         "line": {
          "color": "blue"
         },
         "mode": "lines+markers",
         "name": "Distance",
         "type": "scatter",
         "x": {
          "bdata": "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",
          "dtype": "i2"
         },
         "xaxis": "x",
         "y": {
          "bdata": "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",
          "dtype": "f8"
         },
         "yaxis": "y"
        },
        {
         "line": {
          "color": "green"
         },
         "mode": "lines+markers",
         "name": "Distance over Time",
         "type": "scatter",
         "x": [
          "2024-08-20T12:31:31.621807575",
          "2024-08-20T12:31:31.681648731",
          "2024-08-20T12:31:31.742511034",
          "2024-08-20T12:31:31.818883181",
          "2024-08-20T12:31:31.874155045",
          "2024-08-20T12:31:31.937494755",
          "2024-08-20T12:31:31.999329090",
          "2024-08-20T12:31:32.063158035",
          "2024-08-20T12:31:32.130053520",
          "2024-08-20T12:31:32.191398144",
          "2024-08-20T12:31:32.254230738",
          "2024-08-20T12:31:32.318058729",
          "2024-08-20T12:31:32.395849943",
          "2024-08-20T12:31:32.445717096",
          "2024-08-20T12:31:32.511543512",
          "2024-08-20T12:31:32.576503515",
          "2024-08-20T12:31:32.637341022",
          "2024-08-20T12:31:32.702203035",
          "2024-08-20T12:31:32.768987656",
          "2024-08-20T12:31:32.829861403",
          "2024-08-20T12:31:32.894687653",
          "2024-08-20T12:31:32.962601185",
          "2024-08-20T12:31:33.025435448",
          "2024-08-20T12:31:33.088264227",
          "2024-08-20T12:31:33.151147127",
          "2024-08-20T12:31:33.218916655",
          "2024-08-20T12:31:33.280750036",
          "2024-08-20T12:31:33.342585087",
          "2024-08-20T12:31:33.407411814",
          "2024-08-20T12:31:33.484754801",
          "2024-08-20T12:31:33.533624887",
          "2024-08-20T12:31:33.610753059",
          "2024-08-20T12:31:33.671589851",
          "2024-08-20T12:31:33.730820179",
          "2024-08-20T12:31:33.790660143",
          "2024-08-20T12:31:33.854523897",
          "2024-08-20T12:31:33.919317245",
          "2024-08-20T12:31:33.984568357",
          "2024-08-20T12:31:34.048381805",
          "2024-08-20T12:31:34.117199183",
          "2024-08-20T12:31:34.183008671",
          "2024-08-20T12:31:34.237861395",
          "2024-08-20T12:31:34.303685427",
          "2024-08-20T12:31:34.367515802",
          "2024-08-20T12:31:34.431509018",
          "2024-08-20T12:31:34.508416414",
          "2024-08-20T12:31:34.565290689",
          "2024-08-20T12:31:34.624107361",
          "2024-08-20T12:31:34.686995983",
          "2024-08-20T12:31:34.749772310",
          "2024-08-20T12:31:34.822613001",
          "2024-08-20T12:31:34.882473946",
          "2024-08-20T12:31:34.943256378",
          "2024-08-20T12:31:35.006085634",
          "2024-08-20T12:31:35.075951576",
          "2024-08-20T12:31:35.139728308",
          "2024-08-20T12:31:35.197573662",
          "2024-08-20T12:31:35.264425278",
          "2024-08-20T12:31:35.328751326",
          "2024-08-20T12:31:35.404547215",
          "2024-08-20T12:31:35.454563379",
          "2024-08-20T12:31:35.522747992",
          "2024-08-20T12:31:35.597547531",
          "2024-08-20T12:31:35.666362762",
          "2024-08-20T12:31:35.716230869",
          "2024-08-20T12:31:35.779061317",
          "2024-08-20T12:31:35.839905977",
          "2024-08-20T12:31:35.902730942",
          "2024-08-20T12:31:35.968554974",
          "2024-08-20T12:31:36.034378290",
          "2024-08-20T12:31:36.146079779",
          "2024-08-20T12:31:36.202927351",
          "2024-08-20T12:31:36.253791808",
          "2024-08-20T12:31:36.310640812",
          "2024-08-20T12:31:36.362536430",
          "2024-08-20T12:31:36.415360451",
          "2024-08-20T12:31:36.612915516",
          "2024-08-20T12:31:36.629870653",
          "2024-08-20T12:31:36.686092138",
          "2024-08-20T12:31:36.731478691",
          "2024-08-20T12:31:36.792353392",
          "2024-08-20T12:31:36.835259199",
          "2024-08-20T12:31:36.882076502",
          "2024-08-20T12:31:36.930180311",
          "2024-08-20T12:31:36.995010138",
          "2024-08-20T12:31:37.057901382",
          "2024-08-20T12:31:37.120796442",
          "2024-08-20T12:31:37.190546751",
          "2024-08-20T12:31:37.245904446",
          "2024-08-20T12:31:37.310695887",
          "2024-08-20T12:31:37.375525713",
          "2024-08-20T12:31:37.443047285",
          "2024-08-20T12:31:37.501889229",
          "2024-08-20T12:31:37.570401907",
          "2024-08-20T12:31:37.634161472",
          "2024-08-20T12:31:37.698097229",
          "2024-08-20T12:31:37.760633230",
          "2024-08-20T12:31:37.822077274",
          "2024-08-20T12:31:37.890928745",
          "2024-08-20T12:31:37.950802088",
          "2024-08-20T12:31:38.016170025",
          "2024-08-20T12:31:38.079568386",
          "2024-08-20T12:31:38.144387484",
          "2024-08-20T12:31:38.206281900",
          "2024-08-20T12:31:38.272046804",
          "2024-08-20T12:31:38.335875273",
          "2024-08-20T12:31:38.399709225",
          "2024-08-20T12:31:38.464562416",
          "2024-08-20T12:31:38.526404619",
          "2024-08-20T12:31:38.595264912",
          "2024-08-20T12:31:38.654108047",
          "2024-08-20T12:31:38.719931841",
          "2024-08-20T12:31:38.783764362",
          "2024-08-20T12:31:38.857566357",
          "2024-08-20T12:31:38.911419630",
          "2024-08-20T12:31:38.976246357",
          "2024-08-20T12:31:39.042104006",
          "2024-08-20T12:31:39.101980925",
          "2024-08-20T12:31:39.166769743",
          "2024-08-20T12:31:39.232593060",
          "2024-08-20T12:31:39.297420025",
          "2024-08-20T12:31:39.361249447",
          "2024-08-20T12:31:39.423182011",
          "2024-08-20T12:31:39.490002155",
          "2024-08-20T12:31:39.549880981",
          "2024-08-20T12:31:39.614220381",
          "2024-08-20T12:31:39.680010796",
          "2024-08-20T12:31:39.748333454",
          "2024-08-20T12:31:39.812162876",
          "2024-08-20T12:31:39.877536774",
          "2024-08-20T12:31:40.073243380",
          "2024-08-20T12:31:40.086207151",
          "2024-08-20T12:31:40.148041010",
          "2024-08-20T12:31:40.191923618",
          "2024-08-20T12:31:40.237802505",
          "2024-08-20T12:31:40.300632715",
          "2024-08-20T12:31:40.345512867",
          "2024-08-20T12:31:40.391391993",
          "2024-08-20T12:31:40.451229811",
          "2024-08-20T12:31:40.517088412",
          "2024-08-20T12:31:40.581882000",
          "2024-08-20T12:31:40.639754295",
          "2024-08-20T12:31:40.703556538",
          "2024-08-20T12:31:40.769875050",
          "2024-08-20T12:31:40.833705902",
          "2024-08-20T12:31:40.910538912",
          "2024-08-20T12:31:40.974536657",
          "2024-08-20T12:31:41.029807091",
          "2024-08-20T12:31:41.085696697",
          "2024-08-20T12:31:41.153585434",
          "2024-08-20T12:31:41.224370241",
          "2024-08-20T12:31:41.289196968",
          "2024-08-20T12:31:41.349036694",
          "2024-08-20T12:31:41.405884266",
          "2024-08-20T12:31:41.472689152",
          "2024-08-20T12:31:41.540507078",
          "2024-08-20T12:31:41.601395369",
          "2024-08-20T12:31:41.668616772",
          "2024-08-20T12:31:41.727491379",
          "2024-08-20T12:31:41.791326761",
          "2024-08-20T12:31:41.859107018",
          "2024-08-20T12:31:41.926977396",
          "2024-08-20T12:31:41.982784510",
          "2024-08-20T12:31:42.058573484",
          "2024-08-20T12:31:42.111595631",
          "2024-08-20T12:31:42.179451942",
          "2024-08-20T12:31:42.239253283",
          "2024-08-20T12:31:42.305081129",
          "2024-08-20T12:31:42.369940758",
          "2024-08-20T12:31:42.492574692",
          "2024-08-20T12:31:42.547464371",
          "2024-08-20T12:31:42.607268095",
          "2024-08-20T12:31:42.656136990",
          "2024-08-20T12:31:42.714980364",
          "2024-08-20T12:31:42.763849974",
          "2024-08-20T12:31:42.821695328",
          "2024-08-20T12:31:42.879108429",
          "2024-08-20T12:31:42.943912029",
          "2024-08-20T12:31:43.009702921",
          "2024-08-20T12:31:43.071511984",
          "2024-08-20T12:31:43.133901834",
          "2024-08-20T12:31:43.203717709",
          "2024-08-20T12:31:43.261597157",
          "2024-08-20T12:31:43.326387167",
          "2024-08-20T12:31:43.394617081",
          "2024-08-20T12:31:43.464424372",
          "2024-08-20T12:31:43.518105029",
          "2024-08-20T12:31:43.583888292",
          "2024-08-20T12:31:43.646115065",
          "2024-08-20T12:31:43.712907553",
          "2024-08-20T12:31:43.773782730",
          "2024-08-20T12:31:43.840597391",
          "2024-08-20T12:31:43.906425953",
          "2024-08-20T12:31:43.967237234",
          "2024-08-20T12:31:44.030067205",
          "2024-08-20T12:31:44.103466988",
          "2024-08-20T12:31:44.162308455",
          "2024-08-20T12:31:44.223145008",
          "2024-08-20T12:31:44.291014671",
          "2024-08-20T12:31:44.349857092",
          "2024-08-20T12:31:44.415681124",
          "2024-08-20T12:31:44.479695797",
          "2024-08-20T12:31:44.542475224",
          "2024-08-20T12:31:44.613296270",
          "2024-08-20T12:31:44.672163725",
          "2024-08-20T12:31:44.734963417",
          "2024-08-20T12:31:44.800783157",
          "2024-08-20T12:31:44.875235319",
          "2024-08-20T12:31:44.934039116",
          "2024-08-20T12:31:44.991886139",
          "2024-08-20T12:31:45.054715633",
          "2024-08-20T12:31:45.123562574",
          "2024-08-20T12:31:45.184406042",
          "2024-08-20T12:31:45.253189325",
          "2024-08-20T12:31:45.314022064",
          "2024-08-20T12:31:45.391814232",
          "2024-08-20T12:31:45.503517866",
          "2024-08-20T12:31:45.563381672",
          "2024-08-20T12:31:45.625192165",
          "2024-08-20T12:31:45.689467907",
          "2024-08-20T12:31:45.743281364",
          "2024-08-20T12:31:45.799130917",
          "2024-08-20T12:31:45.849994183",
          "2024-08-20T12:31:45.911336899",
          "2024-08-20T12:31:45.973172188",
          "2024-08-20T12:31:46.031045198",
          "2024-08-20T12:31:46.077892065",
          "2024-08-20T12:31:46.141758204",
          "2024-08-20T12:31:46.209540129",
          "2024-08-20T12:31:46.271375179",
          "2024-08-20T12:31:46.336202383",
          "2024-08-20T12:31:46.402061224",
          "2024-08-20T12:31:46.463126421",
          "2024-08-20T12:31:46.525985479",
          "2024-08-20T12:31:46.593837023",
          "2024-08-20T12:31:46.663606167",
          "2024-08-20T12:31:46.721510649",
          "2024-08-20T12:31:46.782323599",
          "2024-08-20T12:31:46.850108624",
          "2024-08-20T12:31:46.921957970",
          "2024-08-20T12:31:46.977843285",
          "2024-08-20T12:31:47.038705826",
          "2024-08-20T12:31:47.102475882",
          "2024-08-20T12:31:47.169295788",
          "2024-08-20T12:31:47.230172157",
          "2024-08-20T12:31:47.304938078",
          "2024-08-20T12:31:47.368804932",
          "2024-08-20T12:31:47.427606583",
          "2024-08-20T12:31:47.491471767",
          "2024-08-20T12:31:47.555302143",
          "2024-08-20T12:31:47.623177528",
          "2024-08-20T12:31:47.811676741",
          "2024-08-20T12:31:47.827633619",
          "2024-08-20T12:31:47.877500534",
          "2024-08-20T12:31:47.938337326",
          "2024-08-20T12:31:47.984474659",
          "2024-08-20T12:31:48.027358532",
          "2024-08-20T12:31:48.088195324",
          "2024-08-20T12:31:48.136068344",
          "2024-08-20T12:31:48.191809654",
          "2024-08-20T12:31:48.256190538",
          "2024-08-20T12:31:48.321072102",
          "2024-08-20T12:31:48.382852077",
          "2024-08-20T12:31:48.445721865",
          "2024-08-20T12:31:48.511081219",
          "2024-08-20T12:31:48.576905251",
          "2024-08-20T12:31:48.638738394",
          "2024-08-20T12:31:48.701770544",
          "2024-08-20T12:31:48.774565697",
          "2024-08-20T12:31:48.831388712",
          "2024-08-20T12:31:48.893730640",
          "2024-08-20T12:31:48.961057901",
          "2024-08-20T12:31:49.028914213",
          "2024-08-20T12:31:49.090711117",
          "2024-08-20T12:31:49.154539824",
          "2024-08-20T12:31:49.213383436",
          "2024-08-20T12:31:49.279206991",
          "2024-08-20T12:31:49.345029116",
          "2024-08-20T12:31:49.405867100",
          "2024-08-20T12:31:49.473721266",
          "2024-08-20T12:31:49.545494080",
          "2024-08-20T12:31:49.602399588",
          "2024-08-20T12:31:49.663179159",
          "2024-08-20T12:31:49.729102612",
          "2024-08-20T12:31:49.791011810",
          "2024-08-20T12:31:49.853843212",
          "2024-08-20T12:31:49.919657946",
          "2024-08-20T12:31:49.983487844",
          "2024-08-20T12:31:50.046319723",
          "2024-08-20T12:31:50.110692024",
          "2024-08-20T12:31:50.174520016",
          "2024-08-20T12:31:50.238417864",
          "2024-08-20T12:31:50.303511620",
          "2024-08-20T12:31:50.366343737",
          "2024-08-20T12:31:50.432175159",
          "2024-08-20T12:31:50.505977631",
          "2024-08-20T12:31:50.560830355",
          "2024-08-20T12:31:50.670942068",
          "2024-08-20T12:31:50.726747036",
          "2024-08-20T12:31:50.789601564",
          "2024-08-20T12:31:50.825510979",
          "2024-08-20T12:31:50.890295744",
          "2024-08-20T12:31:50.943155289",
          "2024-08-20T12:31:51.012972832",
          "2024-08-20T12:31:51.074837446",
          "2024-08-20T12:31:51.134642601",
          "2024-08-20T12:31:51.200467348",
          "2024-08-20T12:31:51.273272991",
          "2024-08-20T12:31:51.336102962",
          "2024-08-20T12:31:51.389957905",
          "2024-08-20T12:31:51.454820395",
          "2024-08-20T12:31:51.517674922",
          "2024-08-20T12:31:51.586463928",
          "2024-08-20T12:31:51.646686554",
          "2024-08-20T12:31:51.712054014",
          "2024-08-20T12:31:51.782867193",
          "2024-08-20T12:31:51.838715792",
          "2024-08-20T12:31:51.903051376",
          "2024-08-20T12:31:51.967877626",
          "2024-08-20T12:31:52.030061007",
          "2024-08-20T12:31:52.102158070",
          "2024-08-20T12:31:52.168978691",
          "2024-08-20T12:31:52.222800970",
          "2024-08-20T12:31:52.292626858",
          "2024-08-20T12:31:52.351458549",
          "2024-08-20T12:31:52.418277025",
          "2024-08-20T12:31:52.481150866",
          "2024-08-20T12:31:52.541553497",
          "2024-08-20T12:31:52.606345415",
          "2024-08-20T12:31:52.673228025",
          "2024-08-20T12:31:52.735998154",
          "2024-08-20T12:31:52.798882484",
          "2024-08-20T12:31:52.862711668",
          "2024-08-20T12:31:52.927570105",
          "2024-08-20T12:31:52.990370035",
          "2024-08-20T12:31:53.070696592",
          "2024-08-20T12:31:53.131572007",
          "2024-08-20T12:31:53.195363998",
          "2024-08-20T12:31:53.245267153",
          "2024-08-20T12:31:53.310670376",
          "2024-08-20T12:31:53.375495911",
          "2024-08-20T12:31:53.440849304",
          "2024-08-20T12:31:53.502685069",
          "2024-08-20T12:31:53.581473112",
          "2024-08-20T12:31:53.671237707",
          "2024-08-20T12:31:53.730012655",
          "2024-08-20T12:31:53.778313637",
          "2024-08-20T12:31:53.833030939",
          "2024-08-20T12:31:53.893876076",
          "2024-08-20T12:31:53.949759483",
          "2024-08-20T12:31:54.014583826",
          "2024-08-20T12:31:54.080477238",
          "2024-08-20T12:31:54.146250486",
          "2024-08-20T12:31:54.208119631",
          "2024-08-20T12:31:54.272945881",
          "2024-08-20T12:31:54.337438822",
          "2024-08-20T12:31:54.401267767",
          "2024-08-20T12:31:54.464104652",
          "2024-08-20T12:31:54.525992393",
          "2024-08-20T12:31:54.604726553",
          "2024-08-20T12:31:54.660574675",
          "2024-08-20T12:31:54.717456818",
          "2024-08-20T12:31:54.788233280",
          "2024-08-20T12:31:54.846078873",
          "2024-08-20T12:31:54.909790993",
          "2024-08-20T12:31:54.976554394",
          "2024-08-20T12:31:55.039385557",
          "2024-08-20T12:31:55.105245590",
          "2024-08-20T12:31:55.171085119",
          "2024-08-20T12:31:55.230873108",
          "2024-08-20T12:31:55.299697399",
          "2024-08-20T12:31:55.362556934",
          "2024-08-20T12:31:55.429852486",
          "2024-08-20T12:31:55.490688562",
          "2024-08-20T12:31:55.549531460",
          "2024-08-20T12:31:55.615355253",
          "2024-08-20T12:31:55.682177305",
          "2024-08-20T12:31:55.744011879",
          "2024-08-20T12:31:55.807841063",
          "2024-08-20T12:31:55.870673656",
          "2024-08-20T12:31:55.949462414",
          "2024-08-20T12:31:56.003352642",
          "2024-08-20T12:31:56.067021132",
          "2024-08-20T12:31:56.125862597",
          "2024-08-20T12:31:56.193681240",
          "2024-08-20T12:31:56.253522635",
          "2024-08-20T12:31:56.318383694",
          "2024-08-20T12:31:56.386166811",
          "2024-08-20T12:31:56.448000908",
          "2024-08-20T12:31:56.512829065",
          "2024-08-20T12:31:56.583638668",
          "2024-08-20T12:31:56.640494585",
          "2024-08-20T12:31:56.703325510",
          "2024-08-20T12:31:56.767193556",
          "2024-08-20T12:31:56.835482836",
          "2024-08-20T12:31:56.902304649",
          "2024-08-20T12:31:56.962438345",
          "2024-08-20T12:31:57.025873184",
          "2024-08-20T12:31:57.087665081",
          "2024-08-20T12:31:57.154531956",
          "2024-08-20T12:31:57.214373350",
          "2024-08-20T12:31:57.293160200",
          "2024-08-20T12:31:57.345025063",
          "2024-08-20T12:31:57.412839890",
          "2024-08-20T12:31:57.473701954",
          "2024-08-20T12:31:57.534539223",
          "2024-08-20T12:31:57.604353428",
          "2024-08-20T12:31:57.663195133",
          "2024-08-20T12:31:57.726027727",
          "2024-08-20T12:31:57.791850805",
          "2024-08-20T12:31:57.855682135",
          "2024-08-20T12:31:57.919509649",
          "2024-08-20T12:31:57.984847546",
          "2024-08-20T12:31:58.048672438",
          "2024-08-20T12:31:58.114497423",
          "2024-08-20T12:31:58.232179642",
          "2024-08-20T12:31:58.303023338",
          "2024-08-20T12:31:58.362874031",
          "2024-08-20T12:31:58.422821522",
          "2024-08-20T12:31:58.476673603",
          "2024-08-20T12:31:58.501605749",
          "2024-08-20T12:31:58.569931507",
          "2024-08-20T12:31:58.628283978",
          "2024-08-20T12:31:58.687161207",
          "2024-08-20T12:31:58.754455805",
          "2024-08-20T12:31:58.874644995",
          "2024-08-20T12:31:58.942510366",
          "2024-08-20T12:31:59.005335093",
          "2024-08-20T12:31:59.067801952",
          "2024-08-20T12:31:59.130631208",
          "2024-08-20T12:31:59.181493998",
          "2024-08-20T12:31:59.239844561",
          "2024-08-20T12:31:59.299728394",
          "2024-08-20T12:31:59.346602917",
          "2024-08-20T12:31:59.392479658",
          "2024-08-20T12:31:59.455312490",
          "2024-08-20T12:31:59.519181966",
          "2024-08-20T12:31:59.584981441",
          "2024-08-20T12:31:59.647796392",
          "2024-08-20T12:31:59.710932016",
          "2024-08-20T12:31:59.783735514",
          "2024-08-20T12:31:59.839586020",
          "2024-08-20T12:31:59.903450012",
          "2024-08-20T12:31:59.966248512",
          "2024-08-20T12:32:00.031110048",
          "2024-08-20T12:32:00.101887941",
          "2024-08-20T12:32:00.159729958",
          "2024-08-20T12:32:00.222562075",
          "2024-08-20T12:32:00.287391663",
          "2024-08-20T12:32:00.352120399",
          "2024-08-20T12:32:00.413935184",
          "2024-08-20T12:32:00.478729010",
          "2024-08-20T12:32:00.542225122",
          "2024-08-20T12:32:00.610045195",
          "2024-08-20T12:32:00.671614647",
          "2024-08-20T12:32:00.735095501",
          "2024-08-20T12:32:00.799942493",
          "2024-08-20T12:32:00.863315344",
          "2024-08-20T12:32:00.928106546",
          "2024-08-20T12:32:01.008890390",
          "2024-08-20T12:32:01.070760727",
          "2024-08-20T12:32:01.117598772",
          "2024-08-20T12:32:01.181464672",
          "2024-08-20T12:32:01.245420218",
          "2024-08-20T12:32:01.314198017",
          "2024-08-20T12:32:01.377030849",
          "2024-08-20T12:32:01.439896584",
          "2024-08-20T12:32:01.512666941",
          "2024-08-20T12:32:01.589461088",
          "2024-08-20T12:32:01.634341002",
          "2024-08-20T12:32:01.695178032",
          "2024-08-20T12:32:01.761003256",
          "2024-08-20T12:32:01.821839809",
          "2024-08-20T12:32:01.885703325",
          "2024-08-20T12:32:01.950496435",
          "2024-08-20T12:32:02.016355275",
          "2024-08-20T12:32:02.079560041",
          "2024-08-20T12:32:02.147934437",
          "2024-08-20T12:32:02.205846548",
          "2024-08-20T12:32:02.270641804",
          "2024-08-20T12:32:02.344480515",
          "2024-08-20T12:32:02.461406469",
          "2024-08-20T12:32:02.517229556",
          "2024-08-20T12:32:02.564082146",
          "2024-08-20T12:32:02.629870892",
          "2024-08-20T12:32:02.699684858",
          "2024-08-20T12:32:02.746571541",
          "2024-08-20T12:32:02.795462847",
          "2024-08-20T12:32:02.853273153",
          "2024-08-20T12:32:02.914112091",
          "2024-08-20T12:32:02.973954678",
          "2024-08-20T12:32:03.051743984",
          "2024-08-20T12:32:03.102615833",
          "2024-08-20T12:32:03.168430090",
          "2024-08-20T12:32:03.248250484",
          "2024-08-20T12:32:03.296088934",
          "2024-08-20T12:32:03.361934662",
          "2024-08-20T12:32:03.423750877",
          "2024-08-20T12:32:03.487687349",
          "2024-08-20T12:32:03.550518513",
          "2024-08-20T12:32:03.618339300",
          "2024-08-20T12:32:03.692140341",
          "2024-08-20T12:32:03.742039919",
          "2024-08-20T12:32:03.805836201",
          "2024-08-20T12:32:03.872937918",
          "2024-08-20T12:32:03.934771776",
          "2024-08-20T12:32:04.138708115",
          "2024-08-20T12:32:04.162652016",
          "2024-08-20T12:32:04.215462923",
          "2024-08-20T12:32:04.261340141",
          "2024-08-20T12:32:04.305223465",
          "2024-08-20T12:32:04.367092133",
          "2024-08-20T12:32:04.410940409",
          "2024-08-20T12:32:04.457854271",
          "2024-08-20T12:32:04.517654896",
          "2024-08-20T12:32:04.580527544",
          "2024-08-20T12:32:04.637335539",
          "2024-08-20T12:32:04.706151247",
          "2024-08-20T12:32:04.765990496",
          "2024-08-20T12:32:04.830850601",
          "2024-08-20T12:32:04.894646168",
          "2024-08-20T12:32:04.958475590",
          "2024-08-20T12:32:05.028358459",
          "2024-08-20T12:32:05.090869427",
          "2024-08-20T12:32:05.155694008",
          "2024-08-20T12:32:05.220520258",
          "2024-08-20T12:32:05.280360222",
          "2024-08-20T12:32:05.344203472",
          "2024-08-20T12:32:05.416617870",
          "2024-08-20T12:32:05.473434925",
          "2024-08-20T12:32:05.533270836",
          "2024-08-20T12:32:05.599692583",
          "2024-08-20T12:32:05.668574572",
          "2024-08-20T12:32:05.727350950",
          "2024-08-20T12:32:05.791183472",
          "2024-08-20T12:32:05.854014158",
          "2024-08-20T12:32:05.924823761",
          "2024-08-20T12:32:05.983665466",
          "2024-08-20T12:32:06.046497345",
          "2024-08-20T12:32:06.113318920",
          "2024-08-20T12:32:06.185126543",
          "2024-08-20T12:32:06.244966507",
          "2024-08-20T12:32:06.305804491",
          "2024-08-20T12:32:06.427478552",
          "2024-08-20T12:32:06.476348162",
          "2024-08-20T12:32:06.519232987",
          "2024-08-20T12:32:06.580214500",
          "2024-08-20T12:32:06.640358686",
          "2024-08-20T12:32:06.689215422",
          "2024-08-20T12:32:06.750109673",
          "2024-08-20T12:32:06.817869663",
          "2024-08-20T12:32:06.883101940",
          "2024-08-20T12:32:06.941977024",
          "2024-08-20T12:32:07.051910162",
          "2024-08-20T12:32:07.107870817",
          "2024-08-20T12:32:07.159778595",
          "2024-08-20T12:32:07.225763559",
          "2024-08-20T12:32:07.280441046",
          "2024-08-20T12:32:07.327314854",
          "2024-08-20T12:32:07.392040730",
          "2024-08-20T12:32:07.453844547",
          "2024-08-20T12:32:07.519663572",
          "2024-08-20T12:32:07.585496664",
          "2024-08-20T12:32:07.646383524",
          "2024-08-20T12:32:07.712150097",
          "2024-08-20T12:32:07.776016474",
          "2024-08-20T12:32:07.839809179",
          "2024-08-20T12:32:07.902639627",
          "2024-08-20T12:32:07.965471029",
          "2024-08-20T12:32:08.032032250",
          "2024-08-20T12:32:08.093867064",
          "2024-08-20T12:32:08.167701006",
          "2024-08-20T12:32:08.227540970",
          "2024-08-20T12:32:08.295396090",
          "2024-08-20T12:32:08.349215508",
          "2024-08-20T12:32:08.416072607",
          "2024-08-20T12:32:08.480871439",
          "2024-08-20T12:32:08.542946577",
          "2024-08-20T12:32:08.606839895",
          "2024-08-20T12:32:08.670669317",
          "2024-08-20T12:32:08.748494625",
          "2024-08-20T12:32:08.810294867",
          "2024-08-20T12:32:08.870174646",
          "2024-08-20T12:32:08.929901600",
          "2024-08-20T12:32:08.990741253",
          "2024-08-20T12:32:09.054567575",
          "2024-08-20T12:32:09.119748592",
          "2024-08-20T12:32:09.183618307",
          "2024-08-20T12:32:09.246409178",
          "2024-08-20T12:32:09.310237885",
          "2024-08-20T12:32:09.376274586",
          "2024-08-20T12:32:09.444119215",
          "2024-08-20T12:32:09.505930185",
          "2024-08-20T12:32:09.570753813",
          "2024-08-20T12:32:09.633613825",
          "2024-08-20T12:32:09.695421457",
          "2024-08-20T12:32:09.758251190",
          "2024-08-20T12:32:09.823078632",
          "2024-08-20T12:32:09.892893553",
          "2024-08-20T12:32:09.950737238",
          "2024-08-20T12:32:10.014777422",
          "2024-08-20T12:32:10.086585045",
          "2024-08-20T12:32:10.141972303",
          "2024-08-20T12:32:10.210790157",
          "2024-08-20T12:32:10.270623446",
          "2024-08-20T12:32:10.334451199",
          "2024-08-20T12:32:10.401107311",
          "2024-08-20T12:32:10.475941658",
          "2024-08-20T12:32:10.526770592",
          "2024-08-20T12:32:10.592339277",
          "2024-08-20T12:32:10.654148579",
          "2024-08-20T12:32:10.718975782",
          "2024-08-20T12:32:10.782802105",
          "2024-08-20T12:32:10.848627567",
          "2024-08-20T12:32:10.910460711",
          "2024-08-20T12:32:10.977282286",
          "2024-08-20T12:32:11.039152861",
          "2024-08-20T12:32:11.103947401",
          "2024-08-20T12:32:11.167773247",
          "2024-08-20T12:32:11.229755402",
          "2024-08-20T12:32:11.300566435",
          "2024-08-20T12:32:11.360479593",
          "2024-08-20T12:32:11.429301023",
          "2024-08-20T12:32:11.491092443",
          "2024-08-20T12:32:11.549935341",
          "2024-08-20T12:32:11.614765167",
          "2024-08-20T12:32:11.678591490",
          "2024-08-20T12:32:11.881561279",
          "2024-08-20T12:32:11.898514748",
          "2024-08-20T12:32:11.957359314",
          "2024-08-20T12:32:12.000243187",
          "2024-08-20T12:32:12.059998989",
          "2024-08-20T12:32:12.107871294",
          "2024-08-20T12:32:12.150756359",
          "2024-08-20T12:32:12.212984085",
          "2024-08-20T12:32:12.266843080",
          "2024-08-20T12:32:12.333659649",
          "2024-08-20T12:32:12.400614738",
          "2024-08-20T12:32:12.452477217",
          "2024-08-20T12:32:12.509835005",
          "2024-08-20T12:32:12.584639788",
          "2024-08-20T12:32:12.639522791",
          "2024-08-20T12:32:12.704347134",
          "2024-08-20T12:32:12.766216516",
          "2024-08-20T12:32:12.831049442",
          "2024-08-20T12:32:12.897837639",
          "2024-08-20T12:32:12.957735538",
          "2024-08-20T12:32:13.023500681",
          "2024-08-20T12:32:13.087365866",
          "2024-08-20T12:32:13.162170649",
          "2024-08-20T12:32:13.215023041",
          "2024-08-20T12:32:13.280812502",
          "2024-08-20T12:32:13.341650486",
          "2024-08-20T12:32:13.405478477",
          "2024-08-20T12:32:13.470162392",
          "2024-08-20T12:32:13.536520719",
          "2024-08-20T12:32:13.601319313",
          "2024-08-20T12:32:13.662052870",
          "2024-08-20T12:32:13.725847721",
          "2024-08-20T12:32:13.791673660",
          "2024-08-20T12:32:13.853515148",
          "2024-08-20T12:32:13.930917978",
          "2024-08-20T12:32:13.993786335",
          "2024-08-20T12:32:14.059574604",
          "2024-08-20T12:32:14.110471010",
          "2024-08-20T12:32:14.175262690",
          "2024-08-20T12:32:14.239600658",
          "2024-08-20T12:32:14.304803610",
          "2024-08-20T12:32:14.370627165",
          "2024-08-20T12:32:14.430467367",
          "2024-08-20T12:32:14.494708300",
          "2024-08-20T12:32:14.558565378",
          "2024-08-20T12:32:14.631342411",
          "2024-08-20T12:32:14.685559273",
          "2024-08-20T12:32:14.750857830",
          "2024-08-20T12:32:14.813715219",
          "2024-08-20T12:32:14.879512548",
          "2024-08-20T12:32:14.945337057",
          "2024-08-20T12:32:15.009166241",
          "2024-08-20T12:32:15.070513248",
          "2024-08-20T12:32:15.136845350",
          "2024-08-20T12:32:15.243623495",
          "2024-08-20T12:32:15.292493105",
          "2024-08-20T12:32:15.336418152",
          "2024-08-20T12:32:15.403240204",
          "2024-08-20T12:32:15.460046530",
          "2024-08-20T12:32:15.519924878",
          "2024-08-20T12:32:15.582721472",
          "2024-08-20T12:32:15.646606445",
          "2024-08-20T12:32:15.718358517",
          "2024-08-20T12:32:15.777199030",
          "2024-08-20T12:32:15.840064526",
          "2024-08-20T12:32:15.907848120",
          "2024-08-20T12:32:15.965693712",
          "2024-08-20T12:32:16.031555175",
          "2024-08-20T12:32:16.096345186",
          "2024-08-20T12:32:16.159226656",
          "2024-08-20T12:32:16.222518921",
          "2024-08-20T12:32:16.286342859",
          "2024-08-20T12:32:16.351169825",
          "2024-08-20T12:32:16.413003683",
          "2024-08-20T12:32:16.480856419",
          "2024-08-20T12:32:16.542655945",
          "2024-08-20T12:32:16.610476255",
          "2024-08-20T12:32:16.670314550",
          "2024-08-20T12:32:16.734145641",
          "2024-08-20T12:32:16.799000502",
          "2024-08-20T12:32:16.881431103",
          "2024-08-20T12:32:16.929389238",
          "2024-08-20T12:32:16.989288330",
          "2024-08-20T12:32:17.056051016",
          "2024-08-20T12:32:17.117888451",
          "2024-08-20T12:32:17.183228970",
          "2024-08-20T12:32:17.246451139",
          "2024-08-20T12:32:17.311335325",
          "2024-08-20T12:32:17.374109983",
          "2024-08-20T12:32:17.440968990",
          "2024-08-20T12:32:17.502764702",
          "2024-08-20T12:32:17.568790674",
          "2024-08-20T12:32:17.629988670",
          "2024-08-20T12:32:17.707792282",
          "2024-08-20T12:32:17.769598246",
          "2024-08-20T12:32:17.823451996",
          "2024-08-20T12:32:17.886348248",
          "2024-08-20T12:32:17.957094431",
          "2024-08-20T12:32:18.015938759",
          "2024-08-20T12:32:18.084788322",
          "2024-08-20T12:32:18.142599106",
          "2024-08-20T12:32:18.207425594",
          "2024-08-20T12:32:18.270257473",
          "2024-08-20T12:32:18.335122108",
          "2024-08-20T12:32:18.399975538",
          "2024-08-20T12:32:18.470842600",
          "2024-08-20T12:32:18.525648832",
          "2024-08-20T12:32:18.590513945",
          "2024-08-20T12:32:18.657296419",
          "2024-08-20T12:32:18.718192339",
          "2024-08-20T12:32:18.782960415",
          "2024-08-20T12:32:18.847694159",
          "2024-08-20T12:32:18.910487652",
          "2024-08-20T12:32:18.975023031",
          "2024-08-20T12:32:19.037863016",
          "2024-08-20T12:32:19.103645325",
          "2024-08-20T12:32:19.172459364",
          "2024-08-20T12:32:19.240307093",
          "2024-08-20T12:32:19.297124147",
          "2024-08-20T12:32:19.359956264",
          "2024-08-20T12:32:19.425780773",
          "2024-08-20T12:32:19.623049498",
          "2024-08-20T12:32:19.641996622",
          "2024-08-20T12:32:19.698847055",
          "2024-08-20T12:32:19.756545067",
          "2024-08-20T12:32:19.804416180",
          "2024-08-20T12:32:19.850294828",
          "2024-08-20T12:32:19.894176245",
          "2024-08-20T12:32:19.955012321",
          "2024-08-20T12:32:20.001924038",
          "2024-08-20T12:32:20.070703506",
          "2024-08-20T12:32:20.132539988",
          "2024-08-20T12:32:20.191419840",
          "2024-08-20T12:32:20.262194872",
          "2024-08-20T12:32:20.322516203",
          "2024-08-20T12:32:20.387259722",
          "2024-08-20T12:32:20.446102619",
          "2024-08-20T12:32:20.520902157",
          "2024-08-20T12:32:20.584731817",
          "2024-08-20T12:32:20.653100014",
          "2024-08-20T12:32:20.706911802",
          "2024-08-20T12:32:20.771246910",
          "2024-08-20T12:32:20.832086563",
          "2024-08-20T12:32:20.895421505",
          "2024-08-20T12:32:20.959251165",
          "2024-08-20T12:32:21.024112225",
          "2024-08-20T12:32:21.086937666",
          "2024-08-20T12:32:21.150739670",
          "2024-08-20T12:32:21.215182066",
          "2024-08-20T12:32:21.288241148",
          "2024-08-20T12:32:21.342065573",
          "2024-08-20T12:32:21.407263279",
          "2024-08-20T12:32:21.483011246",
          "2024-08-20T12:32:21.532878399",
          "2024-08-20T12:32:21.599734306",
          "2024-08-20T12:32:21.667518377",
          "2024-08-20T12:32:21.730396748",
          "2024-08-20T12:32:21.791186571",
          "2024-08-20T12:32:21.855018854",
          "2024-08-20T12:32:21.920847893",
          "2024-08-20T12:32:21.982674122",
          "2024-08-20T12:32:22.189171791",
          "2024-08-20T12:32:22.202137947",
          "2024-08-20T12:32:22.256990194",
          "2024-08-20T12:32:22.320201874",
          "2024-08-20T12:32:22.365945339",
          "2024-08-20T12:32:22.409827948",
          "2024-08-20T12:32:22.457733631",
          "2024-08-20T12:32:22.516542673",
          "2024-08-20T12:32:22.564417124",
          "2024-08-20T12:32:22.622356653",
          "2024-08-20T12:32:22.687514067",
          "2024-08-20T12:32:22.750309229",
          "2024-08-20T12:32:22.818037748",
          "2024-08-20T12:32:22.886855364",
          "2024-08-20T12:32:22.941748381",
          "2024-08-20T12:32:23.005697012",
          "2024-08-20T12:32:23.077054977",
          "2024-08-20T12:32:23.133903503",
          "2024-08-20T12:32:23.235785723",
          "2024-08-20T12:32:23.298555374",
          "2024-08-20T12:32:23.360395193",
          "2024-08-20T12:32:23.415242434",
          "2024-08-20T12:32:23.455136061",
          "2024-08-20T12:32:23.520959139",
          "2024-08-20T12:32:23.591769695",
          "2024-08-20T12:32:23.645626307",
          "2024-08-20T12:32:23.709454775",
          "2024-08-20T12:32:23.781263590",
          "2024-08-20T12:32:23.837112904",
          "2024-08-20T12:32:23.903935671",
          "2024-08-20T12:32:23.965770245",
          "2024-08-20T12:32:24.034584522",
          "2024-08-20T12:32:24.102404833",
          "2024-08-20T12:32:24.158255816",
          "2024-08-20T12:32:24.223082304",
          "2024-08-20T12:32:24.300907373",
          "2024-08-20T12:32:24.357778549",
          "2024-08-20T12:32:24.416562796",
          "2024-08-20T12:32:24.479396105",
          "2024-08-20T12:32:24.543224573",
          "2024-08-20T12:32:24.606056452",
          "2024-08-20T12:32:24.671190023",
          "2024-08-20T12:32:24.737014294",
          "2024-08-20T12:32:24.801352024",
          "2024-08-20T12:32:24.864221811",
          "2024-08-20T12:32:24.932000160",
          "2024-08-20T12:32:24.992837667",
          "2024-08-20T12:32:25.054672956",
          "2024-08-20T12:32:25.118500710",
          "2024-08-20T12:32:25.195301294",
          "2024-08-20T12:32:25.253140926",
          "2024-08-20T12:32:25.311498642",
          "2024-08-20T12:32:25.375326633",
          "2024-08-20T12:32:25.440153599",
          "2024-08-20T12:32:25.641125202",
          "2024-08-20T12:32:25.657083750",
          "2024-08-20T12:32:25.720910788",
          "2024-08-20T12:32:25.765789747",
          "2024-08-20T12:32:25.811667442",
          "2024-08-20T12:32:25.873502493",
          "2024-08-20T12:32:25.917384863",
          "2024-08-20T12:32:25.965266705",
          "2024-08-20T12:32:26.015124083",
          "2024-08-20T12:32:26.081945181",
          "2024-08-20T12:32:26.143970490",
          "2024-08-20T12:32:26.207308531",
          "2024-08-20T12:32:26.277124882",
          "2024-08-20T12:32:26.335473299",
          "2024-08-20T12:32:26.399356604",
          "2024-08-20T12:32:26.469116211",
          "2024-08-20T12:32:26.526027203",
          "2024-08-20T12:32:26.599806547",
          "2024-08-20T12:32:26.662598610",
          "2024-08-20T12:32:26.719447613",
          "2024-08-20T12:32:26.787300110",
          "2024-08-20T12:32:26.846109152",
          "2024-08-20T12:32:26.909974575",
          "2024-08-20T12:32:26.982742786",
          "2024-08-20T12:32:27.039618492",
          "2024-08-20T12:32:27.109428883",
          "2024-08-20T12:32:27.168270826",
          "2024-08-20T12:32:27.244070053",
          "2024-08-20T12:32:27.300915718",
          "2024-08-20T12:32:27.358763456",
          "2024-08-20T12:32:27.430572271",
          "2024-08-20T12:32:27.495396614",
          "2024-08-20T12:32:27.552243471",
          "2024-08-20T12:32:27.618986607",
          "2024-08-20T12:32:27.679826498",
          "2024-08-20T12:32:27.744651794",
          "2024-08-20T12:32:27.811474085",
          "2024-08-20T12:32:27.871311665",
          "2024-08-20T12:32:27.938232660",
          "2024-08-20T12:32:28.007043123",
          "2024-08-20T12:32:28.066883086",
          "2024-08-20T12:32:28.126723528",
          "2024-08-20T12:32:28.193597555",
          "2024-08-20T12:32:28.260417461",
          "2024-08-20T12:32:28.320315361",
          "2024-08-20T12:32:28.384086132",
          "2024-08-20T12:32:28.446953297",
          "2024-08-20T12:32:28.518725634",
          "2024-08-20T12:32:28.576572895",
          "2024-08-20T12:32:28.641489267",
          "2024-08-20T12:32:28.702045441",
          "2024-08-20T12:32:28.767858028",
          "2024-08-20T12:32:28.830724716",
          "2024-08-20T12:32:28.896514893",
          "2024-08-20T12:32:28.961437941",
          "2024-08-20T12:32:29.023036718",
          "2024-08-20T12:32:29.086858511",
          "2024-08-20T12:32:29.150660276",
          "2024-08-20T12:32:29.214490175",
          "2024-08-20T12:32:29.280347824",
          "2024-08-20T12:32:29.347641230",
          "2024-08-20T12:32:29.408477068",
          "2024-08-20T12:32:29.473303795",
          "2024-08-20T12:32:29.534140825",
          "2024-08-20T12:32:29.603953600",
          "2024-08-20T12:32:29.662796974",
          "2024-08-20T12:32:29.728660822",
          "2024-08-20T12:32:29.829075098",
          "2024-08-20T12:32:29.855006218",
          "2024-08-20T12:32:29.918835640",
          "2024-08-20T12:32:29.984659910",
          "2024-08-20T12:32:30.048488617",
          "2024-08-20T12:32:30.111320496",
          "2024-08-20T12:32:30.174177170",
          "2024-08-20T12:32:30.241478205",
          "2024-08-20T12:32:30.304310322",
          "2024-08-20T12:32:30.367180586",
          "2024-08-20T12:32:30.433924198",
          "2024-08-20T12:32:30.496754646",
          "2024-08-20T12:32:30.561550379",
          "2024-08-20T12:32:30.623412132",
          "2024-08-20T12:32:30.686249495",
          "2024-08-20T12:32:30.753970623",
          "2024-08-20T12:32:30.815323591",
          "2024-08-20T12:32:30.879150867",
          "2024-08-20T12:32:30.955455780",
          "2024-08-20T12:32:31.006345749",
          "2024-08-20T12:32:31.084110022",
          "2024-08-20T12:32:31.133013964",
          "2024-08-20T12:32:31.203535080",
          "2024-08-20T12:32:31.271354437",
          "2024-08-20T12:32:31.326326847",
          "2024-08-20T12:32:31.408055782",
          "2024-08-20T12:32:31.458920002",
          "2024-08-20T12:32:31.552667856",
          "2024-08-20T12:32:31.591563702",
          "2024-08-20T12:32:31.650408030",
          "2024-08-20T12:32:31.710282564",
          "2024-08-20T12:32:31.776070833",
          "2024-08-20T12:32:31.837939978",
          "2024-08-20T12:32:31.907718420",
          "2024-08-20T12:32:31.973545551",
          "2024-08-20T12:32:32.030505180",
          "2024-08-20T12:32:32.096329927",
          "2024-08-20T12:32:32.159909010",
          "2024-08-20T12:32:32.223783493",
          "2024-08-20T12:32:32.285617352",
          "2024-08-20T12:32:32.355093002",
          "2024-08-20T12:32:32.423932314",
          "2024-08-20T12:32:32.477780581",
          "2024-08-20T12:32:32.545111179",
          "2024-08-20T12:32:32.610616684",
          "2024-08-20T12:32:32.672452688",
          "2024-08-20T12:32:32.738783121",
          "2024-08-20T12:32:32.800617695",
          "2024-08-20T12:32:32.862452507",
          "2024-08-20T12:32:32.927278280",
          "2024-08-20T12:32:32.991107702",
          "2024-08-20T12:32:33.061918974",
          "2024-08-20T12:32:33.117813110",
          "2024-08-20T12:32:33.183628321",
          "2024-08-20T12:32:33.247426987",
          "2024-08-20T12:32:33.313245773",
          "2024-08-20T12:32:33.376078844",
          "2024-08-20T12:32:33.437913418",
          "2024-08-20T12:32:33.507761955",
          "2024-08-20T12:32:33.566568375",
          "2024-08-20T12:32:33.630432606",
          "2024-08-20T12:32:33.696256876",
          "2024-08-20T12:32:33.763337374",
          "2024-08-20T12:32:33.823216915",
          "2024-08-20T12:32:33.886786699",
          "2024-08-20T12:32:33.951614380",
          "2024-08-20T12:32:34.019431353",
          "2024-08-20T12:32:34.080267668",
          "2024-08-20T12:32:34.142103195",
          "2024-08-20T12:32:34.208925486",
          "2024-08-20T12:32:34.270759106",
          "2024-08-20T12:32:34.334587574",
          "2024-08-20T12:32:34.409389973",
          "2024-08-20T12:32:34.463746071",
          "2024-08-20T12:32:34.525631427",
          "2024-08-20T12:32:34.590441942",
          "2024-08-20T12:32:34.672589302",
          "2024-08-20T12:32:34.718495369",
          "2024-08-20T12:32:34.784605265",
          "2024-08-20T12:32:34.845502377",
          "2024-08-20T12:32:34.915297985",
          "2024-08-20T12:32:34.976535082",
          "2024-08-20T12:32:35.038368940",
          "2024-08-20T12:32:35.101213455",
          "2024-08-20T12:32:35.170028687",
          "2024-08-20T12:32:35.229869604",
          "2024-08-20T12:32:35.296691179",
          "2024-08-20T12:32:35.365506649",
          "2024-08-20T12:32:35.421391964",
          "2024-08-20T12:32:35.489713669",
          "2024-08-20T12:32:35.550548553",
          "2024-08-20T12:32:35.615374088",
          "2024-08-20T12:32:35.679830551",
          "2024-08-20T12:32:35.741671562",
          "2024-08-20T12:32:35.821450710",
          "2024-08-20T12:32:35.875407696",
          "2024-08-20T12:32:35.934213400",
          "2024-08-20T12:32:35.999787569",
          "2024-08-20T12:32:36.072578192",
          "2024-08-20T12:32:36.127431630",
          "2024-08-20T12:32:36.198305845",
          "2024-08-20T12:32:36.259132385",
          "2024-08-20T12:32:36.320932627",
          "2024-08-20T12:32:36.381804943",
          "2024-08-20T12:32:36.446623564",
          "2024-08-20T12:32:36.520399332",
          "2024-08-20T12:32:36.578244925",
          "2024-08-20T12:32:36.646062136",
          "2024-08-20T12:32:36.707958698",
          "2024-08-20T12:32:36.768796206",
          "2024-08-20T12:32:36.829632759",
          "2024-08-20T12:32:36.895457745",
          "2024-08-20T12:32:36.961305380",
          "2024-08-20T12:32:37.027129889",
          "2024-08-20T12:32:37.094947815",
          "2024-08-20T12:32:37.150824547",
          "2024-08-20T12:32:37.228126764",
          "2024-08-20T12:32:37.278991222",
          "2024-08-20T12:32:37.345320702",
          "2024-08-20T12:32:37.412676811",
          "2024-08-20T12:32:37.476505041",
          "2024-08-20T12:32:37.534350395",
          "2024-08-20T12:32:37.598179579",
          "2024-08-20T12:32:37.665997982",
          "2024-08-20T12:32:37.730824471",
          "2024-08-20T12:32:37.793656349",
          "2024-08-20T12:32:37.855490446",
          "2024-08-20T12:32:37.923312902",
          "2024-08-20T12:32:37.984147787",
          "2024-08-20T12:32:38.045563459",
          "2024-08-20T12:32:38.111385584",
          "2024-08-20T12:32:38.179205894",
          "2024-08-20T12:32:38.238048077",
          "2024-08-20T12:32:38.304870605",
          "2024-08-20T12:32:38.370692492",
          "2024-08-20T12:32:38.430532455",
          "2024-08-20T12:32:38.496356726",
          "2024-08-20T12:32:38.569162130",
          "2024-08-20T12:32:38.633988142",
          "2024-08-20T12:32:38.691833019",
          "2024-08-20T12:32:38.750226259",
          "2024-08-20T12:32:38.815091372",
          "2024-08-20T12:32:38.885902166",
          "2024-08-20T12:32:38.943747044",
          "2024-08-20T12:32:39.007613659",
          "2024-08-20T12:32:39.073400497",
          "2024-08-20T12:32:39.143213987",
          "2024-08-20T12:32:39.201062202",
          "2024-08-20T12:32:39.264887571",
          "2024-08-20T12:32:39.331712246"
         ],
         "xaxis": "x2",
         "y": {
          "bdata": "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",
          "dtype": "f8"
         },
         "yaxis": "y2"
        },
        {
         "marker": {
          "color": "lightcoral"
         },
         "name": "Distribution",
         "nbinsx": 30,
         "opacity": 0.7,
         "type": "histogram",
         "x": {
          "bdata": "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",
          "dtype": "f8"
         },
         "xaxis": "x3",
         "yaxis": "y3"
        },
        {
         "line": {
          "color": "lightcoral",
          "width": 1
         },
         "mode": "lines",
         "name": "Raw",
         "opacity": 0.5,
         "type": "scatter",
         "x": {
          "bdata": "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",
          "dtype": "i2"
         },
         "xaxis": "x4",
         "y": {
          "bdata": "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",
          "dtype": "f8"
         },
         "yaxis": "y4"
        },
        {
         "line": {
          "color": "darkred",
          "width": 3
         },
         "mode": "lines",
         "name": "Smoothed (n=52)",
         "type": "scatter",
         "x": {
          "bdata": "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",
          "dtype": "i2"
         },
         "xaxis": "x4",
         "y": {
          "bdata": "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",
          "dtype": "f8"
         },
         "yaxis": "y4"
        }
       ],
       "layout": {
        "annotations": [
         {
          "font": {
           "size": 16
          },
          "showarrow": false,
          "text": "Distance vs Frame Index",
          "x": 0.225,
          "xanchor": "center",
          "xref": "paper",
          "y": 1,
          "yanchor": "bottom",
          "yref": "paper"
         },
         {
          "font": {
           "size": 16
          },
          "showarrow": false,
          "text": "Distance vs Time",
          "x": 0.775,
          "xanchor": "center",
          "xref": "paper",
          "y": 1,
          "yanchor": "bottom",
          "yref": "paper"
         },
         {
          "font": {
           "size": 16
          },
          "showarrow": false,
          "text": "Distance Distribution",
          "x": 0.225,
          "xanchor": "center",
          "xref": "paper",
          "y": 0.375,
          "yanchor": "bottom",
          "yref": "paper"
         },
         {
          "font": {
           "size": 16
          },
          "showarrow": false,
          "text": "Distance Trends",
          "x": 0.775,
          "xanchor": "center",
          "xref": "paper",
          "y": 0.375,
          "yanchor": "bottom",
          "yref": "paper"
         },
         {
          "showarrow": false,
          "text": "Mean: 2.02meters",
          "x": 2.0214252725326345,
          "xanchor": "left",
          "xref": "x3",
          "y": 1,
          "yanchor": "top",
          "yref": "y3 domain"
         }
        ],
        "height": 800,
        "shapes": [
         {
          "line": {
           "color": "red",
           "dash": "dash"
          },
          "type": "line",
          "x0": 2.0214252725326345,
          "x1": 2.0214252725326345,
          "xref": "x3",
          "y0": 0,
          "y1": 1,
          "yref": "y3 domain"
         }
        ],
        "showlegend": true,
        "template": {
         "data": {
          "bar": [
           {
            "error_x": {
             "color": "#2a3f5f"
            },
            "error_y": {
             "color": "#2a3f5f"
            },
            "marker": {
             "line": {
              "color": "#E5ECF6",
              "width": 0.5
             },
             "pattern": {
              "fillmode": "overlay",
              "size": 10,
              "solidity": 0.2
             }
            },
            "type": "bar"
           }
          ],
          "barpolar": [
           {
            "marker": {
             "line": {
              "color": "#E5ECF6",
              "width": 0.5
             },
             "pattern": {
              "fillmode": "overlay",
              "size": 10,
              "solidity": 0.2
             }
            },
            "type": "barpolar"
           }
          ],
          "carpet": [
           {
            "aaxis": {
             "endlinecolor": "#2a3f5f",
             "gridcolor": "white",
             "linecolor": "white",
             "minorgridcolor": "white",
             "startlinecolor": "#2a3f5f"
            },
            "baxis": {
             "endlinecolor": "#2a3f5f",
             "gridcolor": "white",
             "linecolor": "white",
             "minorgridcolor": "white",
             "startlinecolor": "#2a3f5f"
            },
            "type": "carpet"
           }
          ],
          "choropleth": [
           {
            "colorbar": {
             "outlinewidth": 0,
             "ticks": ""
            },
            "type": "choropleth"
           }
          ],
          "contour": [
           {
            "colorbar": {
             "outlinewidth": 0,
             "ticks": ""
            },
            "colorscale": [
             [
              0,
              "#0d0887"
             ],
             [
              0.1111111111111111,
              "#46039f"
             ],
             [
              0.2222222222222222,
              "#7201a8"
             ],
             [
              0.3333333333333333,
              "#9c179e"
             ],
             [
              0.4444444444444444,
              "#bd3786"
             ],
             [
              0.5555555555555556,
              "#d8576b"
             ],
             [
              0.6666666666666666,
              "#ed7953"
             ],
             [
              0.7777777777777778,
              "#fb9f3a"
             ],
             [
              0.8888888888888888,
              "#fdca26"
             ],
             [
              1,
              "#f0f921"
             ]
            ],
            "type": "contour"
           }
          ],
          "contourcarpet": [
           {
            "colorbar": {
             "outlinewidth": 0,
             "ticks": ""
            },
            "type": "contourcarpet"
           }
          ],
          "heatmap": [
           {
            "colorbar": {
             "outlinewidth": 0,
             "ticks": ""
            },
            "colorscale": [
             [
              0,
              "#0d0887"
             ],
             [
              0.1111111111111111,
              "#46039f"
             ],
             [
              0.2222222222222222,
              "#7201a8"
             ],
             [
              0.3333333333333333,
              "#9c179e"
             ],
             [
              0.4444444444444444,
              "#bd3786"
             ],
             [
              0.5555555555555556,
              "#d8576b"
             ],
             [
              0.6666666666666666,
              "#ed7953"
             ],
             [
              0.7777777777777778,
              "#fb9f3a"
             ],
             [
              0.8888888888888888,
              "#fdca26"
             ],
             [
              1,
              "#f0f921"
             ]
            ],
            "type": "heatmap"
           }
          ],
          "histogram": [
           {
            "marker": {
             "pattern": {
              "fillmode": "overlay",
              "size": 10,
              "solidity": 0.2
             }
            },
            "type": "histogram"
           }
          ],
          "histogram2d": [
           {
            "colorbar": {
             "outlinewidth": 0,
             "ticks": ""
            },
            "colorscale": [
             [
              0,
              "#0d0887"
             ],
             [
              0.1111111111111111,
              "#46039f"
             ],
             [
              0.2222222222222222,
              "#7201a8"
             ],
             [
              0.3333333333333333,
              "#9c179e"
             ],
             [
              0.4444444444444444,
              "#bd3786"
             ],
             [
              0.5555555555555556,
              "#d8576b"
             ],
             [
              0.6666666666666666,
              "#ed7953"
             ],
             [
              0.7777777777777778,
              "#fb9f3a"
             ],
             [
              0.8888888888888888,
              "#fdca26"
             ],
             [
              1,
              "#f0f921"
             ]
            ],
            "type": "histogram2d"
           }
          ],
          "histogram2dcontour": [
           {
            "colorbar": {
             "outlinewidth": 0,
             "ticks": ""
            },
            "colorscale": [
             [
              0,
              "#0d0887"
             ],
             [
              0.1111111111111111,
              "#46039f"
             ],
             [
              0.2222222222222222,
              "#7201a8"
             ],
             [
              0.3333333333333333,
              "#9c179e"
             ],
             [
              0.4444444444444444,
              "#bd3786"
             ],
             [
              0.5555555555555556,
              "#d8576b"
             ],
             [
              0.6666666666666666,
              "#ed7953"
             ],
             [
              0.7777777777777778,
              "#fb9f3a"
             ],
             [
              0.8888888888888888,
              "#fdca26"
             ],
             [
              1,
              "#f0f921"
             ]
            ],
            "type": "histogram2dcontour"
           }
          ],
          "mesh3d": [
           {
            "colorbar": {
             "outlinewidth": 0,
             "ticks": ""
            },
            "type": "mesh3d"
           }
          ],
          "parcoords": [
           {
            "line": {
             "colorbar": {
              "outlinewidth": 0,
              "ticks": ""
             }
            },
            "type": "parcoords"
           }
          ],
          "pie": [
           {
            "automargin": true,
            "type": "pie"
           }
          ],
          "scatter": [
           {
            "fillpattern": {
             "fillmode": "overlay",
             "size": 10,
             "solidity": 0.2
            },
            "type": "scatter"
           }
          ],
          "scatter3d": [
           {
            "line": {
             "colorbar": {
              "outlinewidth": 0,
              "ticks": ""
             }
            },
            "marker": {
             "colorbar": {
              "outlinewidth": 0,
              "ticks": ""
             }
            },
            "type": "scatter3d"
           }
          ],
          "scattercarpet": [
           {
            "marker": {
             "colorbar": {
              "outlinewidth": 0,
              "ticks": ""
             }
            },
            "type": "scattercarpet"
           }
          ],
          "scattergeo": [
           {
            "marker": {
             "colorbar": {
              "outlinewidth": 0,
              "ticks": ""
             }
            },
            "type": "scattergeo"
           }
          ],
          "scattergl": [
           {
            "marker": {
             "colorbar": {
              "outlinewidth": 0,
              "ticks": ""
             }
            },
            "type": "scattergl"
           }
          ],
          "scattermap": [
           {
            "marker": {
             "colorbar": {
              "outlinewidth": 0,
              "ticks": ""
             }
            },
            "type": "scattermap"
           }
          ],
          "scattermapbox": [
           {
            "marker": {
             "colorbar": {
              "outlinewidth": 0,
              "ticks": ""
             }
            },
            "type": "scattermapbox"
           }
          ],
          "scatterpolar": [
           {
            "marker": {
             "colorbar": {
              "outlinewidth": 0,
              "ticks": ""
             }
            },
            "type": "scatterpolar"
           }
          ],
          "scatterpolargl": [
           {
            "marker": {
             "colorbar": {
              "outlinewidth": 0,
              "ticks": ""
             }
            },
            "type": "scatterpolargl"
           }
          ],
          "scatterternary": [
           {
            "marker": {
             "colorbar": {
              "outlinewidth": 0,
              "ticks": ""
             }
            },
            "type": "scatterternary"
           }
          ],
          "surface": [
           {
            "colorbar": {
             "outlinewidth": 0,
             "ticks": ""
            },
            "colorscale": [
             [
              0,
              "#0d0887"
             ],
             [
              0.1111111111111111,
              "#46039f"
             ],
             [
              0.2222222222222222,
              "#7201a8"
             ],
             [
              0.3333333333333333,
              "#9c179e"
             ],
             [
              0.4444444444444444,
              "#bd3786"
             ],
             [
              0.5555555555555556,
              "#d8576b"
             ],
             [
              0.6666666666666666,
              "#ed7953"
             ],
             [
              0.7777777777777778,
              "#fb9f3a"
             ],
             [
              0.8888888888888888,
              "#fdca26"
             ],
             [
              1,
              "#f0f921"
             ]
            ],
            "type": "surface"
           }
          ],
          "table": [
           {
            "cells": {
             "fill": {
              "color": "#EBF0F8"
             },
             "line": {
              "color": "white"
             }
            },
            "header": {
             "fill": {
              "color": "#C8D4E3"
             },
             "line": {
              "color": "white"
             }
            },
            "type": "table"
           }
          ]
         },
         "layout": {
          "annotationdefaults": {
           "arrowcolor": "#2a3f5f",
           "arrowhead": 0,
           "arrowwidth": 1
          },
          "autotypenumbers": "strict",
          "coloraxis": {
           "colorbar": {
            "outlinewidth": 0,
            "ticks": ""
           }
          },
          "colorscale": {
           "diverging": [
            [
             0,
             "#8e0152"
            ],
            [
             0.1,
             "#c51b7d"
            ],
            [
             0.2,
             "#de77ae"
            ],
            [
             0.3,
             "#f1b6da"
            ],
            [
             0.4,
             "#fde0ef"
            ],
            [
             0.5,
             "#f7f7f7"
            ],
            [
             0.6,
             "#e6f5d0"
            ],
            [
             0.7,
             "#b8e186"
            ],
            [
             0.8,
             "#7fbc41"
            ],
            [
             0.9,
             "#4d9221"
            ],
            [
             1,
             "#276419"
            ]
           ],
           "sequential": [
            [
             0,
             "#0d0887"
            ],
            [
             0.1111111111111111,
             "#46039f"
            ],
            [
             0.2222222222222222,
             "#7201a8"
            ],
            [
             0.3333333333333333,
             "#9c179e"
            ],
            [
             0.4444444444444444,
             "#bd3786"
            ],
            [
             0.5555555555555556,
             "#d8576b"
            ],
            [
             0.6666666666666666,
             "#ed7953"
            ],
            [
             0.7777777777777778,
             "#fb9f3a"
            ],
            [
             0.8888888888888888,
             "#fdca26"
            ],
            [
             1,
             "#f0f921"
            ]
           ],
           "sequentialminus": [
            [
             0,
             "#0d0887"
            ],
            [
             0.1111111111111111,
             "#46039f"
            ],
            [
             0.2222222222222222,
             "#7201a8"
            ],
            [
             0.3333333333333333,
             "#9c179e"
            ],
            [
             0.4444444444444444,
             "#bd3786"
            ],
            [
             0.5555555555555556,
             "#d8576b"
            ],
            [
             0.6666666666666666,
             "#ed7953"
            ],
            [
             0.7777777777777778,
             "#fb9f3a"
            ],
            [
             0.8888888888888888,
             "#fdca26"
            ],
            [
             1,
             "#f0f921"
            ]
           ]
          },
          "colorway": [
           "#636efa",
           "#EF553B",
           "#00cc96",
           "#ab63fa",
           "#FFA15A",
           "#19d3f3",
           "#FF6692",
           "#B6E880",
           "#FF97FF",
           "#FECB52"
          ],
          "font": {
           "color": "#2a3f5f"
          },
          "geo": {
           "bgcolor": "white",
           "lakecolor": "white",
           "landcolor": "#E5ECF6",
           "showlakes": true,
           "showland": true,
           "subunitcolor": "white"
          },
          "hoverlabel": {
           "align": "left"
          },
          "hovermode": "closest",
          "mapbox": {
           "style": "light"
          },
          "paper_bgcolor": "white",
          "plot_bgcolor": "#E5ECF6",
          "polar": {
           "angularaxis": {
            "gridcolor": "white",
            "linecolor": "white",
            "ticks": ""
           },
           "bgcolor": "#E5ECF6",
           "radialaxis": {
            "gridcolor": "white",
            "linecolor": "white",
            "ticks": ""
           }
          },
          "scene": {
           "xaxis": {
            "backgroundcolor": "#E5ECF6",
            "gridcolor": "white",
            "gridwidth": 2,
            "linecolor": "white",
            "showbackground": true,
            "ticks": "",
            "zerolinecolor": "white"
           },
           "yaxis": {
            "backgroundcolor": "#E5ECF6",
            "gridcolor": "white",
            "gridwidth": 2,
            "linecolor": "white",
            "showbackground": true,
            "ticks": "",
            "zerolinecolor": "white"
           },
           "zaxis": {
            "backgroundcolor": "#E5ECF6",
            "gridcolor": "white",
            "gridwidth": 2,
            "linecolor": "white",
            "showbackground": true,
            "ticks": "",
            "zerolinecolor": "white"
           }
          },
          "shapedefaults": {
           "line": {
            "color": "#2a3f5f"
           }
          },
          "ternary": {
           "aaxis": {
            "gridcolor": "white",
            "linecolor": "white",
            "ticks": ""
           },
           "baxis": {
            "gridcolor": "white",
            "linecolor": "white",
            "ticks": ""
           },
           "bgcolor": "#E5ECF6",
           "caxis": {
            "gridcolor": "white",
            "linecolor": "white",
            "ticks": ""
           }
          },
          "title": {
           "x": 0.05
          },
          "xaxis": {
           "automargin": true,
           "gridcolor": "white",
           "linecolor": "white",
           "ticks": "",
           "title": {
            "standoff": 15
           },
           "zerolinecolor": "white",
           "zerolinewidth": 2
          },
          "yaxis": {
           "automargin": true,
           "gridcolor": "white",
           "linecolor": "white",
           "ticks": "",
           "title": {
            "standoff": 15
           },
           "zerolinecolor": "white",
           "zerolinewidth": 2
          }
         }
        },
        "title": {
         "text": "Real-World Distance Analysis"
        },
        "xaxis": {
         "anchor": "y",
         "domain": [
          0,
          0.45
         ],
         "title": {
          "text": "Frame Index"
         }
        },
        "xaxis2": {
         "anchor": "y2",
         "domain": [
          0.55,
          1
         ],
         "title": {
          "text": "Time"
         }
        },
        "xaxis3": {
         "anchor": "y3",
         "domain": [
          0,
          0.45
         ],
         "title": {
          "text": "Distance (meters)"
         }
        },
        "xaxis4": {
         "anchor": "y4",
         "domain": [
          0.55,
          1
         ],
         "title": {
          "text": "Frame Index"
         }
        },
        "yaxis": {
         "anchor": "x",
         "domain": [
          0.625,
          1
         ],
         "title": {
          "text": "Distance (meters)"
         }
        },
        "yaxis2": {
         "anchor": "x2",
         "domain": [
          0.625,
          1
         ],
         "title": {
          "text": "Distance (meters)"
         }
        },
        "yaxis3": {
         "anchor": "x3",
         "domain": [
          0,
          0.375
         ],
         "title": {
          "text": "Frequency"
         }
        },
        "yaxis4": {
         "anchor": "x4",
         "domain": [
          0,
          0.375
         ],
         "title": {
          "text": "Distance (meters)"
         }
        }
       }
      }
     },
     "metadata": {},
     "output_type": "display_data"
    }
   ],
   "source": [
    "iau.VisualizationEngine.plot_distance_analysis(distance_results, \"Real-World Distance Analysis\")"
   ]
  },
  {
   "cell_type": "code",
   "execution_count": 7,
   "id": "c10a8be6",
   "metadata": {},
   "outputs": [
    {
     "name": "stdout",
     "output_type": "stream",
     "text": [
      " LOADING ALL DISTANCE DATA FOR BAG: 2024-08-20_14-31-29\n",
      "============================================================\n",
      "📡 1. Loading Navigation Data...\n",
      "    Loaded 559 navigation records\n",
      "📡 2. Loading Guidance Data...\n",
      "    Loaded 549 guidance records with ['error_net_distance', 'desired_net_distance', 'r_net_distance_d']\n",
      "📡 3. Loading DVL Altimeter...\n",
      "    DVL altimeter file not found\n",
      " 4. Loading USBL...\n",
      "    Loaded 33 USBL records\n",
      "📡 5. Loading DVL Position...\n",
      "    Loaded 283 DVL position records\n",
      " 6. Loading Navigation Position...\n",
      "    Loaded 278 navigation position records\n",
      "📡 7. Loading INS Z Position...\n",
      "    INS file not found\n",
      "\n",
      " LOADING SUMMARY:\n",
      "    Target bag: 2024-08-20_14-31-29\n",
      "    Raw data loaded: 2/2\n",
      "    Distance measurements: 4\n",
      "\n",
      " RAW DATA LOADED:\n",
      "    navigation: 559 records\n",
      "    guidance: 549 records\n",
      "\n",
      " DISTANCE MEASUREMENTS LOADED:\n",
      "    USBL_3D: 33 records - 3D acoustic position\n",
      "    USBL_Depth: 33 records - USBL depth measurement\n",
      "    DVL_Position: 283 records - 3D DVL position\n",
      "    Nav_Position: 278 records - 2D navigation position\n"
     ]
    }
   ],
   "source": [
    "# COMPARISON: SONAR vs DVL DISTANCE MEASUREMENTS\n",
    "# =================================================\n",
    "import utils.net_distance_analysis as sda\n",
    "\n",
    "# IMPORTANT: Pass the by_bag folder, not just the exports root\n",
    "# The function expects the folder containing the CSV files\n",
    "from utils.sonar_config import EXPORTS_SUBDIRS\n",
    "BY_BAG_FOLDER = EXPORTS_FOLDER / EXPORTS_SUBDIRS.get('by_bag', 'by_bag')\n",
    "\n",
    "# Load all distance data for the target bag\n",
    "raw_data, distance_measurements = sda.load_all_distance_data_for_bag(TARGET_BAG, BY_BAG_FOLDER)\n",
    "\n",
    "# Display what we loaded\n",
    "print(f\"\\n RAW DATA LOADED:\")\n",
    "for key, data in raw_data.items():\n",
    "    if data is not None:\n",
    "        print(f\"    {key}: {len(data)} records\")\n",
    "    else:\n",
    "        print(f\"    {key}: None\")\n",
    "\n",
    "print(f\"\\n DISTANCE MEASUREMENTS LOADED:\")\n",
    "for key, info in distance_measurements.items():\n",
    "    data_len = len(info['data'])\n",
    "    print(f\"    {key}: {data_len} records - {info['description']}\")"
   ]
  },
  {
   "cell_type": "code",
   "execution_count": 8,
   "id": "0375375e",
   "metadata": {},
   "outputs": [
    {
     "name": "stdout",
     "output_type": "stream",
     "text": [
      "\n",
      "SONAR vs DVL COMPARISON STATISTICS:\n",
      "==================================================\n",
      "Sonar mean distance: 2.021 m\n",
      "DVL mean distance:   1.968 m\n",
      "Scale ratio (Sonar/DVL): 1.027x\n",
      "Sonar duration: 67.1s (1059 frames)\n",
      "DVL duration:   67.0s (559 records)\n"
     ]
    },
    {
     "name": "stderr",
     "output_type": "stream",
     "text": [
      "/Users/eirikvarnes/code/SOLAQUA/utils/sonar_image_analysis.py:311: FutureWarning:\n",
      "\n",
      "Series.fillna with 'method' is deprecated and will raise in a future version. Use obj.ffill() or obj.bfill() instead.\n",
      "\n",
      "/Users/eirikvarnes/code/SOLAQUA/utils/sonar_image_analysis.py:318: FutureWarning:\n",
      "\n",
      "Series.fillna with 'method' is deprecated and will raise in a future version. Use obj.ffill() or obj.bfill() instead.\n",
      "\n"
     ]
    },
    {
     "data": {
      "application/vnd.plotly.v1+json": {
       "config": {
        "plotlyServerURL": "https://plot.ly"
       },
       "data": [
        {
         "line": {
          "color": "rgba(255,0,0,0.3)"
         },
         "mode": "lines",
         "name": "Sonar Raw",
         "type": "scatter",
         "x": {
          "bdata": "vtjibKU2sD++2OJspTbAPx1FVCP4Ucg/vtjibKU20D/tjhvITkTUPx1FVCP4Udg/TPuMfqFf3D++2OJspTbgP9Uzfxp6PeI/7Y4byE5E5D8F6rd1I0vmPx1FVCP4Ueg/NKDw0MxY6j9M+4x+oV/sP2RWKSx2Zu4/vtjibKU28D9KBrHDDzrxP9Uzfxp6PfI/YmFNceRA8z/tjhvITkT0P3m86R65R/U/Beq3dSNL9j+RF4bMjU73Px1FVCP4Ufg/qHIiemJV+T80oPDQzFj6P8DNvic3XPs/TPuMfqFf/D/YKFvVC2P9P2RWKSx2Zv4/74P3guBp/z++2OJspTYAQITvSZhauABASgaxww86AUAPHRjvxLsBQNUzfxp6PQJAm0rmRS+/AkBiYU1x5EADQCd4tJyZwgNA7Y4byE5EBECzpYLzA8YEQHm86R65RwVAP9NQSm7JBUAF6rd1I0sGQMoAH6HYzAZAkReGzI1OB0BXLu33QtAHQB1FVCP4UQhA4lu7Tq3TCECociJ6YlUJQG+JiaUX1wlANKDw0MxYCkD6tlf8gdoKQMDNvic3XAtAhuQlU+zdC0BM+4x+oV8MQBIS9KlW4QxA2Chb1QtjDUCdP8IAweQNQGRWKSx2Zg5AKm2QVyvoDkDvg/eC4GkPQLWaXq6V6w9AvtjibKU2EEAgZJYCgHcQQITvSZhauBBA5nr9LTX5EEBKBrHDDzoRQKyRZFnqehFADx0Y78S7EUBzqMuEn/wRQNUzfxp6PRJAOb8ysFR+EkCbSuZFL78SQP7VmdsJABNAYmFNceRAE0DE7AAHv4ETQCd4tJyZwhNAiwNoMnQDFEDtjhvITkQUQFAaz10phRRAs6WC8wPGFEAWMTaJ3gYVQHm86R65RxVA3EedtJOIFUA/01BKbskVQKFeBOBIChZABeq3dSNLFkBodWsL/osWQMoAH6HYzBZALozSNrMNF0CRF4bMjU4XQPSiOWJojxdAVy7t90LQF0C5uaCNHREYQB1FVCP4URhAgNAHudKSGEDiW7tOrdMYQEbnbuSHFBlAqHIiemJVGUAL/tUPPZYZQG+JiaUX1xlA0RQ9O/IXGkA0oPDQzFgaQJgrpGanmRpA+rZX/IHaGkBdQguSXBsbQMDNvic3XBtAI1lyvRGdG0CG5CVT7N0bQOlv2ejGHhxATPuMfqFfHECvhkAUfKAcQBIS9KlW4RxAdZ2nPzEiHUDYKFvVC2MdQDu0Dmvmox1AnT/CAMHkHUABy3WWmyUeQGRWKSx2Zh5AxuHcwVCnHkAqbZBXK+geQI34Q+0FKR9A74P3guBpH0BTD6sYu6ofQLWaXq6V6x9ADBMJIjgWIEC+2OJspTYgQG+evLcSVyBAIGSWAoB3IEDSKXBN7ZcgQITvSZhauCBANbUj48fYIEDmev0tNfkgQJhA13iiGSFASgaxww86IUD7y4oOfVohQKyRZFnqeiFAXlc+pFebIUAPHRjvxLshQMHi8Tky3CFAc6jLhJ/8IUAkbqXPDB0iQNUzfxp6PSJAh/lYZeddIkA5vzKwVH4iQOqEDPvBniJAm0rmRS+/IkBNEMCQnN8iQP7VmdsJACNAsJtzJncgI0BiYU1x5EAjQBInJ7xRYSNAxOwAB7+BI0B2stpRLKIjQCd4tJyZwiNA2T2O5wbjI0CLA2gydAMkQDvJQX3hIyRA7Y4byE5EJECfVPUSvGQkQFAaz10phSRAAuCoqJalJECzpYLzA8YkQGRrXD5x5iRAFjE2id4GJUDI9g/USyclQHm86R65RyVAKoLDaSZoJUDcR520k4glQI0Nd/8AqSVAP9NQSm7JJUDxmCqV2+klQKFeBOBICiZAUyTeKrYqJkAF6rd1I0smQLavkcCQayZAaHVrC/6LJkAZO0VWa6wmQMoAH6HYzCZAfMb460XtJkAujNI2sw0nQN9RrIEgLidAkReGzI1OJ0BC3V8X+24nQPSiOWJojydApWgTrdWvJ0BXLu33QtAnQAn0xkKw8CdAubmgjR0RKEBrf3rYijEoQB1FVCP4UShAzgoubmVyKECA0Ae50pIoQDGW4QNAsyhA4lu7Tq3TKECUIZWZGvQoQEbnbuSHFClA96xIL/U0KUCociJ6YlUpQFo4/MTPdSlAC/7VDz2WKUC9w69aqrYpQG+JiaUX1ylAH09j8IT3KUDRFD078hcqQIPaFoZfOCpANKDw0MxYKkDmZcobOnkqQJgrpGanmSpASPF9sRS6KkD6tlf8gdoqQKx8MUfv+ipAXUILklwbK0APCOXcyTsrQMDNvic3XCtAcZOYcqR8K0AjWXK9EZ0rQNUeTAh/vStAhuQlU+zdK0A3qv+dWf4rQOlv2ejGHixAmjWzMzQ/LEBM+4x+oV8sQP7AZskOgCxAr4ZAFHygLEBgTBpf6cAsQBIS9KlW4SxAxNfN9MMBLUB1nac/MSItQCZjgYqeQi1A2Chb1QtjLUCJ7jQgeYMtQDu0Dmvmoy1A7XnotVPELUCdP8IAweQtQE8FnEsuBS5AAct1lpslLkCykE/hCEYuQGRWKSx2Zi5AFhwDd+OGLkDG4dzBUKcuQHintgy+xy5AKm2QVyvoLkDbMmqimAgvQI34Q+0FKS9APr4dOHNJL0Dvg/eC4GkvQKFJ0c1Nii9AUw+rGLuqL0AE1YRjKMsvQLWaXq6V6y9ANDCcfAEGMEAMEwkiOBYwQOX1dcduJjBAvtjibKU2MECWu08S3EYwQG+evLcSVzBASIEpXUlnMEAgZJYCgHcwQPlGA6i2hzBA0ilwTe2XMECrDN3yI6gwQITvSZhauDBAXNK2PZHIMEA1tSPjx9gwQA6YkIj+6DBA5nr9LTX5MEC/XWrTawkxQJhA13iiGTFAcSNEHtkpMUBKBrHDDzoxQCPpHWlGSjFA+8uKDn1aMUDTrvezs2oxQKyRZFnqejFAhXTR/iCLMUBeVz6kV5sxQDc6q0mOqzFADx0Y78S7MUDo/4SU+8sxQMHi8Tky3DFAmsVe32jsMUBzqMuEn/wxQEyLOCrWDDJAJG6lzwwdMkD8UBJ1Qy0yQNUzfxp6PTJArhbsv7BNMkCH+Vhl510yQGDcxQoebjJAOb8ysFR+MkARop9Vi44yQOqEDPvBnjJAw2d5oPiuMkCbSuZFL78yQHQtU+tlzzJATRDAkJzfMkAl8yw20+8yQP7VmdsJADNA17gGgUAQM0Cwm3MmdyAzQIl+4MutMDNAYmFNceRAM0A6RLoWG1EzQBInJ7xRYTNA6wmUYYhxM0DE7AAHv4EzQJ3Pbaz1kTNAdrLaUSyiM0BOlUf3YrIzQCd4tJyZwjNAAFshQtDSM0DZPY7nBuMzQLIg+4w98zNAiwNoMnQDNEBi5tTXqhM0QDvJQX3hIzRAFKyuIhg0NEDtjhvITkQ0QMZxiG2FVDRAn1T1ErxkNEB3N2K48nQ0QFAaz10phTRAKf07A2CVNEAC4KiolqU0QNrCFU7NtTRAs6WC8wPGNECMiO+YOtY0QGRrXD5x5jRAPU7J46f2NEAWMTaJ3gY1QO8Toy4VFzVAyPYP1EsnNUCh2Xx5gjc1QHm86R65RzVAUp9WxO9XNUAqgsNpJmg1QANlMA9deDVA3EedtJOINUC1Kgpaypg1QI0Nd/8AqTVAZvDjpDe5NUA/01BKbsk1QBi2ve+k2TVA8ZgqldvpNUDKe5c6Evo1QKFeBOBICjZAekFxhX8aNkBTJN4qtio2QCwHS9DsOjZABeq3dSNLNkDezCQbWls2QLavkcCQazZAj5L+Zcd7NkBodWsL/os2QEFY2LA0nDZAGTtFVmusNkDyHbL7obw2QMoAH6HYzDZAo+OLRg/dNkB8xvjrRe02QFWpZZF8/TZALozSNrMNN0AHbz/c6R03QN9RrIEgLjdAuDQZJ1c+N0CRF4bMjU43QGn68nHEXjdAQt1fF/tuN0AbwMy8MX83QPSiOWJojzdAzIWmB5+fN0ClaBOt1a83QH5LgFIMwDdAVy7t90LQN0AwEVqdeeA3QAn0xkKw8DdA4NYz6OYAOEC5uaCNHRE4QJKcDTNUIThAa3962IoxOEBEYud9wUE4QB1FVCP4UThA9SfByC5iOEDOCi5uZXI4QKftmhOcgjhAgNAHudKSOEBZs3ReCaM4QDGW4QNAszhACXlOqXbDOEDiW7tOrdM4QLs+KPTj4zhAlCGVmRr0OEBtBAI/UQQ5QEbnbuSHFDlAHsrbib4kOUD3rEgv9TQ5QNCPtdQrRTlAqHIiemJVOUCBVY8fmWU5QFo4/MTPdTlAMhtpagaGOUAL/tUPPZY5QOTgQrVzpjlAvcOvWqq2OUCWphwA4cY5QG+JiaUX1zlASGz2Sk7nOUAfT2PwhPc5QPgx0JW7BzpA0RQ9O/IXOkCq96ngKCg6QIPaFoZfODpAXL2DK5ZIOkA0oPDQzFg6QA2DXXYDaTpA5mXKGzp5OkC/SDfBcIk6QJgrpGanmTpAcA4RDN6pOkBI8X2xFLo6QCHU6lZLyjpA+rZX/IHaOkDTmcShuOo6QKx8MUfv+jpAhV+e7CULO0BdQguSXBs7QDYleDeTKztADwjl3Mk7O0Dn6lGCAEw7QMDNvic3XDtAmbArzW1sO0Bxk5hypHw7QEp2BRjbjDtAI1lyvRGdO0D8O99iSK07QNUeTAh/vTtArgG5rbXNO0CG5CVT7N07QF7Hkvgi7jtAN6r/nVn+O0AQjWxDkA48QOlv2ejGHjxAwlJGjv0uPECaNbMzND88QHMYINlqTzxATPuMfqFfPEAl3vkj2G88QP7AZskOgDxA16PTbkWQPECvhkAUfKA8QIdprbmysDxAYEwaX+nAPEA5L4cEINE8QBIS9KlW4TxA6/RgT43xPEDE1830wwE9QJy6Opr6ET1AdZ2nPzEiPUBOgBTlZzI9QCZjgYqeQj1A/0XuL9VSPUDYKFvVC2M9QLALyHpCcz1Aie40IHmDPUBi0aHFr5M9QDu0Dmvmoz1AFJd7EB20PUDteei1U8Q9QMVcVVuK1D1AnT/CAMHkPUB2Ii+m9/Q9QE8FnEsuBT5AKOgI8WQVPkABy3WWmyU+QNmt4jvSNT5AspBP4QhGPkCLc7yGP1Y+QGRWKSx2Zj5APTmW0ax2PkAWHAN344Y+QO3+bxwalz5AxuHcwVCnPkCfxElnh7c+QHintgy+xz5AUYojsvTXPkAqbZBXK+g+QANQ/fxh+D5A2zJqopgIP0C0FddHzxg/QI34Q+0FKT9AZduwkjw5P0A+vh04c0k/QBehit2pWT9A74P3guBpP0DIZmQoF3o/QKFJ0c1Nij9Aeiw+c4SaP0BTD6sYu6o/QCzyF77xuj9ABNWEYyjLP0Dct/EIX9s/QLWaXq6V6z9Ajn3LU8z7P0A0MJx8AQZAQKChUs8cDkBADBMJIjgWQEB4hL90Ux5AQOX1dcduJkBAUWcsGoouQEC+2OJspTZAQCpKmb/APkBAlrtPEtxGQEADLQZl905AQG+evLcSV0BA3A9zCi5fQEBIgSldSWdAQLTy369kb0BAIGSWAoB3QECN1UxVm39AQPlGA6i2h0BAZri5+tGPQEDSKXBN7ZdAQD+bJqAIoEBAqwzd8iOoQEAXfpNFP7BAQITvSZhauEBA8GAA63XAQEBc0rY9kchAQMlDbZCs0EBANbUj48fYQECiJto14+BAQA6YkIj+6EBAewlH2xnxQEDmev0tNflAQFPss4BQAUFAv11q02sJQUAszyAmhxFBQJhA13iiGUFABLKNy70hQUBxI0Qe2SlBQN2U+nD0MUFASgaxww86QUC2d2cWK0JBQCPpHWlGSkFAj1rUu2FSQUD7y4oOfVpBQGc9QWGYYkFA0673s7NqQUBAIK4Gz3JBQKyRZFnqekFAGQMbrAWDQUCFdNH+IItBQPLlh1E8k0FAXlc+pFebQUDLyPT2cqNBQDc6q0mOq0FApKthnKmzQUAPHRjvxLtBQHuOzkHgw0FA6P+ElPvLQUBUcTvnFtRBQMHi8Tky3EFALVSojE3kQUCaxV7faOxBQAY3FTKE9EFAc6jLhJ/8QUDfGYLXugRCQEyLOCrWDEJAuPzufPEUQkAkbqXPDB1CQJDfWyIoJUJA/FASdUMtQkBpwsjHXjVCQNUzfxp6PUJAQqU1bZVFQkCuFuy/sE1CQBuIohLMVUJAh/lYZeddQkD0ag+4AmZCQGDcxQoebkJAzE18XTl2QkA5vzKwVH5CQKQw6QJwhkJAEaKfVYuOQkB9E1aoppZCQOqEDPvBnkJAVvbCTd2mQkDDZ3mg+K5CQC/ZL/MTt0JAm0rmRS+/QkAIvJyYSsdCQHQtU+tlz0JA4Z4JPoHXQkBNEMCQnN9CQLmBduO350JAJfMsNtPvQkCSZOOI7vdCQP7VmdsJAENAa0dQLiUIQ0DXuAaBQBBDQEMqvdNbGENAsJtzJncgQ0AcDSp5kihDQIl+4MutMENA9e+WHsk4Q0BiYU1x5EBDQM3SA8T/SENAOkS6FhtRQ0CmtXBpNllDQBInJ7xRYUNAf5jdDm1pQ0DrCZRhiHFDQFh7SrSjeUNAxOwAB7+BQ0AxXrdZ2olDQJ3Pbaz1kUNACkEk/xCaQ0B2stpRLKJDQOMjkaRHqkNATpVH92KyQ0C6Bv5JfrpDQCd4tJyZwkNAk+lq77TKQ0AAWyFC0NJDQGzM15Tr2kNA2T2O5wbjQ0BFr0Q6IutDQLIg+4w980NAHpKx31j7Q0CLA2gydANEQPd0HoWPC0RAYubU16oTREDPV4sqxhtEQDvJQX3hI0RAqDr4z/wrREAUrK4iGDREQIEdZXUzPERA7Y4byE5EREBaANIaakxEQMZxiG2FVERAM+M+wKBcRECfVPUSvGREQAvGq2XXbERAdzdiuPJ0REDjqBgLDn1EQFAaz10phURAvIuFsESNREAp/TsDYJVEQJVu8lV7nURAAuCoqJalREBuUV/7sa1EQNrCFU7NtURARzTMoOi9RECzpYLzA8ZEQCAXOUYfzkRAjIjvmDrWRED4+aXrVd5EQGRrXD5x5kRA0dwSkYzuREA9Tsnjp/ZEQKq/fzbD/kRAFjE2id4GRUCCouzb+Q5FQO8Toy4VF0VAW4VZgTAfRUDI9g/USydFQDRoxiZnL0VAodl8eYI3RUAMSzPMnT9FQHm86R65R0VA5S2gcdRPRUBSn1bE71dFQL4QDRcLYEVAKoLDaSZoRUCX83m8QXBFQANlMA9deEVAcNbmYXiARUDcR520k4hFQEm5UwevkEVAtSoKWsqYRUAhnMCs5aBFQI0Nd/8AqUVA+X4tUhyxRUBm8OOkN7lFQNJhmvdSwUVAP9NQSm7JRUCrRAedidFFQBi2ve+k2UVAhCd0QsDhRUDxmCqV2+lFQF0K4ef28UVAynuXOhL6RUA27U2NLQJGQKFeBOBICkZADtC6MmQSRkB6QXGFfxpGQOeyJ9iaIkZAUyTeKrYqRkDAlZR90TJGQCwHS9DsOkZAmXgBIwhDRkAF6rd1I0tGQHJbbsg+U0ZA3swkG1pbRkBKPtttdWNGQLavkcCQa0ZAIiFIE6xzRkCPkv5lx3tGQPsDtbjig0ZAaHVrC/6LRkDU5iFeGZRGQEFY2LA0nEZArcmOA1CkRkAZO0VWa6xGQIas+6iGtEZA8h2y+6G8RkBfj2hOvcRGQMoAH6HYzEZAN3LV8/PURkCj44tGD91GQBBVQpkq5UZAfMb460XtRkDpN68+YfVGQFWpZZF8/UZAwRoc5JcFR0AujNI2sw1HQJr9iInOFUdAB28/3OkdR0Bz4PUuBSZHQN9RrIEgLkdAS8Ni1Ds2R0C4NBknVz5HQCSmz3lyRkdAkReGzI1OR0D9iDwfqVZHQGn68nHEXkdA1mupxN9mR0BC3V8X+25HQK9OFmoWd0dAG8DMvDF/R0CIMYMPTYdHQPSiOWJoj0dAYBTwtIOXR0DMhaYHn59HQDj3XFq6p0dApWgTrdWvR0AR2sn/8LdHQH5LgFIMwEdA6rw2pSfIR0BXLu33QtBHQMOfo0pe2EdAMBFanXngR0CcghDwlOhHQAn0xkKw8EdAdGV9lcv4R0Dg1jPo5gBIQE1I6joCCUhAubmgjR0RSEAmK1fgOBlIQJKcDTNUIUhA/w3EhW8pSEBrf3rYijFIQNjwMCumOUhARGLnfcFBSECx053Q3ElIQB1FVCP4UUhAiLYKdhNaSED1J8HILmJIQGGZdxtKakhAzgoubmVySEA6fOTAgHpIQKftmhOcgkhAE19RZreKSECA0Ae50pJIQOxBvgvumkhAWbN0XgmjSEDFJCuxJKtIQDGW4QNAs0hAngeYVlu7SEAJeU6pdsNIQHbqBPyRy0hA4lu7Tq3TSEBPzXGhyNtIQLs+KPTj40hAKLDeRv/rSECUIZWZGvRIQACTS+w1/EhAbQQCP1EESUDZdbiRbAxJQEbnbuSHFElAslglN6McSUAeytuJviRJQIo7ktzZLElA96xIL/U0SUBjHv+BED1JQNCPtdQrRUlAPAFsJ0dNSUCociJ6YlVJQBXk2Mx9XUlAgVWPH5llSUDuxkVytG1JQFo4/MTPdUlAx6myF+t9SUAyG2lqBoZJQJ+MH70hjklAC/7VDz2WSUB3b4xiWJ5JQOTgQrVzpklAUFL5B4+uSUC9w69aqrZJQCk1Zq3FvklAlqYcAOHGSUACGNNS/M5JQG+JiaUX10lA2/o/+DLfSUBIbPZKTudJQLPdrJ1p70lAH09j8IT3SUCMwBlDoP9JQPgx0JW7B0pAZaOG6NYPSkDRFD078hdKQD6G840NIEpAqvep4CgoSkAXaWAzRDBKQIPaFoZfOEpA8EvN2HpASkBcvYMrlkhKQMcuOn6xUEpANKDw0MxYSkCgEacj6GBKQA2DXXYDaUpAefQTyR5xSkDmZcobOnlKQFLXgG5VgUpAv0g3wXCJSkAruu0TjJFKQJgrpGanmUpABJ1aucKhSkBwDhEM3qlKQNx/x175sUpASPF9sRS6SkC1YjQEMMJKQCHU6lZLykpAjkWhqWbSSkD6tlf8gdpKQGcoDk+d4kpA05nEobjqSkA/C3v00/JKQKx8MUfv+kpAGO7nmQoDS0CFX57sJQtLQPHQVD9BE0tAXUILklwbS0DJs8HkdyNLQDYleDeTK0tAopYuiq4zS0APCOXcyTtLQHt5my/lQ0tA5+pRggBMS0BUXAjVG1RLQMDNvic3XEtALT91elJkS0CZsCvNbWxLQAYi4h+JdEtAcZOYcqR8S0DeBE/Fv4RLQEp2BRjbjEtAt+e7avaUS0AjWXK9EZ1LQI/KKBAtpUtA/DvfYkitS0BorZW1Y7VLQNUeTAh/vUtAQZACW5rFS0CuAbmttc1LQBpzbwDR1UtAhuQlU+zdS0DyVdylB+ZLQF7Hkvgi7ktAyzhJSz72S0A3qv+dWf5LQKQbtvB0BkxAEI1sQ5AOTEB9/iKWqxZMQOlv2ejGHkxAVuGPO+ImTEDCUkaO/S5MQC/E/OAYN0xAmjWzMzQ/TEAGp2mGT0dMQHMYINlqT0xA34nWK4ZXTEBM+4x+oV9MQLhsQ9G8Z0xAJd75I9hvTECRT7B283dMQP7AZskOgExAajIdHCqITEDXo9NuRZBMQEMVisFgmExAr4ZAFHygTEAb+PZml6hMQIdprbmysExA9NpjDM64TEBgTBpf6cBMQM290LEEyUxAOS+HBCDRTECmoD1XO9lMQBIS9KlW4UxAfoOq/HHpTEDr9GBPjfFMQFdmF6Ko+UxAxNfN9MMBTUAvSYRH3wlNQJy6Opr6EU1ACCzx7BUaTUB1nac/MSJNQOEOXpJMKk1AToAU5WcyTUC68co3gzpNQCZjgYqeQk1Ak9Q33blKTUD/Re4v1VJNQGy3pILwWk1A2Chb1QtjTUBEmhEoJ2tNQLALyHpCc01AHX1+zV17TUCJ7jQgeYNNQPZf63KUi01AYtGhxa+TTUDOQlgYy5tNQDu0Dmvmo01ApyXFvQGsTUAUl3sQHbRNQIAIMmM4vE1A7XnotVPETUBZ654Ib8xNQMVcVVuK1E1AMc4LrqXcTUCdP8IAweRNQAqxeFPc7E1AdiIvpvf0TUDjk+X4Ev1NQE8FnEsuBU5AvHZSnkkNTkAo6AjxZBVOQJVZv0OAHU5AAct1lpslTkBuPCzpti1OQNmt4jvSNU5ARR+Zju09TkCykE/hCEZOQB4CBjQkTk5Ai3O8hj9WTkD35HLZWl5OQGRWKSx2Zk5A0MfffpFuTkA9OZbRrHZOQKmqTCTIfk5AFhwDd+OGTkCCjbnJ/o5OQO3+bxwal05AWnAmbzWfTkDG4dzBUKdOQDNTkxRsr05An8RJZ4e3TkAMNgC6or9OQHintgy+x05A5RhtX9nPTkBRiiOy9NdOQL772QQQ4E5AKm2QVyvoTkCW3kaqRvBOQANQ/fxh+E5AbsGzT30AT0DbMmqimAhPQEekIPWzEE9AtBXXR88YT0Agh42a6iBPQI34Q+0FKU9A+Wn6PyExT0Bl27CSPDlPQNJMZ+VXQU9APr4dOHNJT0CrL9SKjlFPQBehit2pWU9AgxJBMMVhT0Dvg/eC4GlPQFz1rdX7cU9AyGZkKBd6T0A12Bp7MoJPQKFJ0c1Nik9ADbuHIGmST0B6LD5zhJpPQOad9MWfok9AUw+rGLuqT0C/gGFr1rJPQCzyF77xuk9Al2POEA3DT0AE1YRjKMtPQHBGO7ZD009A3LfxCF/bT0BJKahbeuNPQLWaXq6V609AIgwVAbHzT0COfctTzPtPQH33QNPzAVBANDCcfAEGUEDqaPclDwpQQKChUs8cDlBAVtqteCoSUEAMEwkiOBZQQMJLZMtFGlBAeIS/dFMeUEAvvRoeYSJQQOX1dcduJlBAmy7RcHwqUEBRZywaii5QQAigh8OXMlBAvtjibKU2UEB0ET4WszpQQCpKmb/APlBA4YL0aM5CUECWu08S3EZQQEz0qrvpSlBAAy0GZfdOUEC5ZWEOBVNQQG+evLcSV1BAJdcXYSBbUEDcD3MKLl9QQJJIzrM7Y1BASIEpXUlnUED+uYQGV2tQQLTy369kb1BAays7WXJzUEAgZJYCgHdQQNec8auNe1BAjdVMVZt/UEBDDqj+qINQQPlGA6i2h1BAsH9eUcSLUEBmuLn60Y9QQBzxFKTfk1BA0ilwTe2XUECIYsv2+ptQQD+bJqAIoFBA9dOBSRakUECrDN3yI6hQQGFFOJwxrFBAF36TRT+wUEDNtu7uTLRQQITvSZhauFBAOiilQWi8UEDwYADrdcBQQKaZW5SDxFBA",
          "dtype": "f8"
         },
         "xaxis": "x",
         "y": {
          "bdata": "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",
          "dtype": "f8"
         },
         "yaxis": "y"
        },
        {
         "line": {
          "color": "red",
          "width": 3
         },
         "mode": "lines",
         "name": "Sonar Smoothed",
         "type": "scatter",
         "x": {
          "bdata": "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",
          "dtype": "f8"
         },
         "xaxis": "x",
         "y": {
          "bdata": "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",
          "dtype": "f8"
         },
         "yaxis": "y"
        },
        {
         "line": {
          "color": "blue",
          "width": 3
         },
         "mode": "lines",
         "name": "DVL Distance",
         "type": "scatter",
         "x": {
          "bdata": "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",
          "dtype": "f8"
         },
         "xaxis": "x",
         "y": {
          "bdata": "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",
          "dtype": "f8"
         },
         "yaxis": "y"
        }
       ],
       "layout": {
        "height": 600,
        "hovermode": "x unified",
        "template": {
         "data": {
          "bar": [
           {
            "error_x": {
             "color": "#2a3f5f"
            },
            "error_y": {
             "color": "#2a3f5f"
            },
            "marker": {
             "line": {
              "color": "#E5ECF6",
              "width": 0.5
             },
             "pattern": {
              "fillmode": "overlay",
              "size": 10,
              "solidity": 0.2
             }
            },
            "type": "bar"
           }
          ],
          "barpolar": [
           {
            "marker": {
             "line": {
              "color": "#E5ECF6",
              "width": 0.5
             },
             "pattern": {
              "fillmode": "overlay",
              "size": 10,
              "solidity": 0.2
             }
            },
            "type": "barpolar"
           }
          ],
          "carpet": [
           {
            "aaxis": {
             "endlinecolor": "#2a3f5f",
             "gridcolor": "white",
             "linecolor": "white",
             "minorgridcolor": "white",
             "startlinecolor": "#2a3f5f"
            },
            "baxis": {
             "endlinecolor": "#2a3f5f",
             "gridcolor": "white",
             "linecolor": "white",
             "minorgridcolor": "white",
             "startlinecolor": "#2a3f5f"
            },
            "type": "carpet"
           }
          ],
          "choropleth": [
           {
            "colorbar": {
             "outlinewidth": 0,
             "ticks": ""
            },
            "type": "choropleth"
           }
          ],
          "contour": [
           {
            "colorbar": {
             "outlinewidth": 0,
             "ticks": ""
            },
            "colorscale": [
             [
              0,
              "#0d0887"
             ],
             [
              0.1111111111111111,
              "#46039f"
             ],
             [
              0.2222222222222222,
              "#7201a8"
             ],
             [
              0.3333333333333333,
              "#9c179e"
             ],
             [
              0.4444444444444444,
              "#bd3786"
             ],
             [
              0.5555555555555556,
              "#d8576b"
             ],
             [
              0.6666666666666666,
              "#ed7953"
             ],
             [
              0.7777777777777778,
              "#fb9f3a"
             ],
             [
              0.8888888888888888,
              "#fdca26"
             ],
             [
              1,
              "#f0f921"
             ]
            ],
            "type": "contour"
           }
          ],
          "contourcarpet": [
           {
            "colorbar": {
             "outlinewidth": 0,
             "ticks": ""
            },
            "type": "contourcarpet"
           }
          ],
          "heatmap": [
           {
            "colorbar": {
             "outlinewidth": 0,
             "ticks": ""
            },
            "colorscale": [
             [
              0,
              "#0d0887"
             ],
             [
              0.1111111111111111,
              "#46039f"
             ],
             [
              0.2222222222222222,
              "#7201a8"
             ],
             [
              0.3333333333333333,
              "#9c179e"
             ],
             [
              0.4444444444444444,
              "#bd3786"
             ],
             [
              0.5555555555555556,
              "#d8576b"
             ],
             [
              0.6666666666666666,
              "#ed7953"
             ],
             [
              0.7777777777777778,
              "#fb9f3a"
             ],
             [
              0.8888888888888888,
              "#fdca26"
             ],
             [
              1,
              "#f0f921"
             ]
            ],
            "type": "heatmap"
           }
          ],
          "histogram": [
           {
            "marker": {
             "pattern": {
              "fillmode": "overlay",
              "size": 10,
              "solidity": 0.2
             }
            },
            "type": "histogram"
           }
          ],
          "histogram2d": [
           {
            "colorbar": {
             "outlinewidth": 0,
             "ticks": ""
            },
            "colorscale": [
             [
              0,
              "#0d0887"
             ],
             [
              0.1111111111111111,
              "#46039f"
             ],
             [
              0.2222222222222222,
              "#7201a8"
             ],
             [
              0.3333333333333333,
              "#9c179e"
             ],
             [
              0.4444444444444444,
              "#bd3786"
             ],
             [
              0.5555555555555556,
              "#d8576b"
             ],
             [
              0.6666666666666666,
              "#ed7953"
             ],
             [
              0.7777777777777778,
              "#fb9f3a"
             ],
             [
              0.8888888888888888,
              "#fdca26"
             ],
             [
              1,
              "#f0f921"
             ]
            ],
            "type": "histogram2d"
           }
          ],
          "histogram2dcontour": [
           {
            "colorbar": {
             "outlinewidth": 0,
             "ticks": ""
            },
            "colorscale": [
             [
              0,
              "#0d0887"
             ],
             [
              0.1111111111111111,
              "#46039f"
             ],
             [
              0.2222222222222222,
              "#7201a8"
             ],
             [
              0.3333333333333333,
              "#9c179e"
             ],
             [
              0.4444444444444444,
              "#bd3786"
             ],
             [
              0.5555555555555556,
              "#d8576b"
             ],
             [
              0.6666666666666666,
              "#ed7953"
             ],
             [
              0.7777777777777778,
              "#fb9f3a"
             ],
             [
              0.8888888888888888,
              "#fdca26"
             ],
             [
              1,
              "#f0f921"
             ]
            ],
            "type": "histogram2dcontour"
           }
          ],
          "mesh3d": [
           {
            "colorbar": {
             "outlinewidth": 0,
             "ticks": ""
            },
            "type": "mesh3d"
           }
          ],
          "parcoords": [
           {
            "line": {
             "colorbar": {
              "outlinewidth": 0,
              "ticks": ""
             }
            },
            "type": "parcoords"
           }
          ],
          "pie": [
           {
            "automargin": true,
            "type": "pie"
           }
          ],
          "scatter": [
           {
            "fillpattern": {
             "fillmode": "overlay",
             "size": 10,
             "solidity": 0.2
            },
            "type": "scatter"
           }
          ],
          "scatter3d": [
           {
            "line": {
             "colorbar": {
              "outlinewidth": 0,
              "ticks": ""
             }
            },
            "marker": {
             "colorbar": {
              "outlinewidth": 0,
              "ticks": ""
             }
            },
            "type": "scatter3d"
           }
          ],
          "scattercarpet": [
           {
            "marker": {
             "colorbar": {
              "outlinewidth": 0,
              "ticks": ""
             }
            },
            "type": "scattercarpet"
           }
          ],
          "scattergeo": [
           {
            "marker": {
             "colorbar": {
              "outlinewidth": 0,
              "ticks": ""
             }
            },
            "type": "scattergeo"
           }
          ],
          "scattergl": [
           {
            "marker": {
             "colorbar": {
              "outlinewidth": 0,
              "ticks": ""
             }
            },
            "type": "scattergl"
           }
          ],
          "scattermap": [
           {
            "marker": {
             "colorbar": {
              "outlinewidth": 0,
              "ticks": ""
             }
            },
            "type": "scattermap"
           }
          ],
          "scattermapbox": [
           {
            "marker": {
             "colorbar": {
              "outlinewidth": 0,
              "ticks": ""
             }
            },
            "type": "scattermapbox"
           }
          ],
          "scatterpolar": [
           {
            "marker": {
             "colorbar": {
              "outlinewidth": 0,
              "ticks": ""
             }
            },
            "type": "scatterpolar"
           }
          ],
          "scatterpolargl": [
           {
            "marker": {
             "colorbar": {
              "outlinewidth": 0,
              "ticks": ""
             }
            },
            "type": "scatterpolargl"
           }
          ],
          "scatterternary": [
           {
            "marker": {
             "colorbar": {
              "outlinewidth": 0,
              "ticks": ""
             }
            },
            "type": "scatterternary"
           }
          ],
          "surface": [
           {
            "colorbar": {
             "outlinewidth": 0,
             "ticks": ""
            },
            "colorscale": [
             [
              0,
              "#0d0887"
             ],
             [
              0.1111111111111111,
              "#46039f"
             ],
             [
              0.2222222222222222,
              "#7201a8"
             ],
             [
              0.3333333333333333,
              "#9c179e"
             ],
             [
              0.4444444444444444,
              "#bd3786"
             ],
             [
              0.5555555555555556,
              "#d8576b"
             ],
             [
              0.6666666666666666,
              "#ed7953"
             ],
             [
              0.7777777777777778,
              "#fb9f3a"
             ],
             [
              0.8888888888888888,
              "#fdca26"
             ],
             [
              1,
              "#f0f921"
             ]
            ],
            "type": "surface"
           }
          ],
          "table": [
           {
            "cells": {
             "fill": {
              "color": "#EBF0F8"
             },
             "line": {
              "color": "white"
             }
            },
            "header": {
             "fill": {
              "color": "#C8D4E3"
             },
             "line": {
              "color": "white"
             }
            },
            "type": "table"
           }
          ]
         },
         "layout": {
          "annotationdefaults": {
           "arrowcolor": "#2a3f5f",
           "arrowhead": 0,
           "arrowwidth": 1
          },
          "autotypenumbers": "strict",
          "coloraxis": {
           "colorbar": {
            "outlinewidth": 0,
            "ticks": ""
           }
          },
          "colorscale": {
           "diverging": [
            [
             0,
             "#8e0152"
            ],
            [
             0.1,
             "#c51b7d"
            ],
            [
             0.2,
             "#de77ae"
            ],
            [
             0.3,
             "#f1b6da"
            ],
            [
             0.4,
             "#fde0ef"
            ],
            [
             0.5,
             "#f7f7f7"
            ],
            [
             0.6,
             "#e6f5d0"
            ],
            [
             0.7,
             "#b8e186"
            ],
            [
             0.8,
             "#7fbc41"
            ],
            [
             0.9,
             "#4d9221"
            ],
            [
             1,
             "#276419"
            ]
           ],
           "sequential": [
            [
             0,
             "#0d0887"
            ],
            [
             0.1111111111111111,
             "#46039f"
            ],
            [
             0.2222222222222222,
             "#7201a8"
            ],
            [
             0.3333333333333333,
             "#9c179e"
            ],
            [
             0.4444444444444444,
             "#bd3786"
            ],
            [
             0.5555555555555556,
             "#d8576b"
            ],
            [
             0.6666666666666666,
             "#ed7953"
            ],
            [
             0.7777777777777778,
             "#fb9f3a"
            ],
            [
             0.8888888888888888,
             "#fdca26"
            ],
            [
             1,
             "#f0f921"
            ]
           ],
           "sequentialminus": [
            [
             0,
             "#0d0887"
            ],
            [
             0.1111111111111111,
             "#46039f"
            ],
            [
             0.2222222222222222,
             "#7201a8"
            ],
            [
             0.3333333333333333,
             "#9c179e"
            ],
            [
             0.4444444444444444,
             "#bd3786"
            ],
            [
             0.5555555555555556,
             "#d8576b"
            ],
            [
             0.6666666666666666,
             "#ed7953"
            ],
            [
             0.7777777777777778,
             "#fb9f3a"
            ],
            [
             0.8888888888888888,
             "#fdca26"
            ],
            [
             1,
             "#f0f921"
            ]
           ]
          },
          "colorway": [
           "#636efa",
           "#EF553B",
           "#00cc96",
           "#ab63fa",
           "#FFA15A",
           "#19d3f3",
           "#FF6692",
           "#B6E880",
           "#FF97FF",
           "#FECB52"
          ],
          "font": {
           "color": "#2a3f5f"
          },
          "geo": {
           "bgcolor": "white",
           "lakecolor": "white",
           "landcolor": "#E5ECF6",
           "showlakes": true,
           "showland": true,
           "subunitcolor": "white"
          },
          "hoverlabel": {
           "align": "left"
          },
          "hovermode": "closest",
          "mapbox": {
           "style": "light"
          },
          "paper_bgcolor": "white",
          "plot_bgcolor": "#E5ECF6",
          "polar": {
           "angularaxis": {
            "gridcolor": "white",
            "linecolor": "white",
            "ticks": ""
           },
           "bgcolor": "#E5ECF6",
           "radialaxis": {
            "gridcolor": "white",
            "linecolor": "white",
            "ticks": ""
           }
          },
          "scene": {
           "xaxis": {
            "backgroundcolor": "#E5ECF6",
            "gridcolor": "white",
            "gridwidth": 2,
            "linecolor": "white",
            "showbackground": true,
            "ticks": "",
            "zerolinecolor": "white"
           },
           "yaxis": {
            "backgroundcolor": "#E5ECF6",
            "gridcolor": "white",
            "gridwidth": 2,
            "linecolor": "white",
            "showbackground": true,
            "ticks": "",
            "zerolinecolor": "white"
           },
           "zaxis": {
            "backgroundcolor": "#E5ECF6",
            "gridcolor": "white",
            "gridwidth": 2,
            "linecolor": "white",
            "showbackground": true,
            "ticks": "",
            "zerolinecolor": "white"
           }
          },
          "shapedefaults": {
           "line": {
            "color": "#2a3f5f"
           }
          },
          "ternary": {
           "aaxis": {
            "gridcolor": "white",
            "linecolor": "white",
            "ticks": ""
           },
           "baxis": {
            "gridcolor": "white",
            "linecolor": "white",
            "ticks": ""
           },
           "bgcolor": "#E5ECF6",
           "caxis": {
            "gridcolor": "white",
            "linecolor": "white",
            "ticks": ""
           }
          },
          "title": {
           "x": 0.05
          },
          "xaxis": {
           "automargin": true,
           "gridcolor": "white",
           "linecolor": "white",
           "ticks": "",
           "title": {
            "standoff": 15
           },
           "zerolinecolor": "white",
           "zerolinewidth": 2
          },
          "yaxis": {
           "automargin": true,
           "gridcolor": "white",
           "linecolor": "white",
           "ticks": "",
           "title": {
            "standoff": 15
           },
           "zerolinecolor": "white",
           "zerolinewidth": 2
          }
         }
        },
        "title": {
         "text": "Interactive Distance Comparison: Sonar vs DVL"
        },
        "xaxis": {
         "anchor": "y",
         "domain": [
          0,
          1
         ],
         "showgrid": true,
         "title": {
          "text": "Time (seconds)"
         }
        },
        "yaxis": {
         "anchor": "x",
         "domain": [
          0,
          1
         ],
         "showgrid": true,
         "title": {
          "text": "Distance (meters)"
         }
        }
       }
      }
     },
     "metadata": {},
     "output_type": "display_data"
    }
   ],
   "source": [
    "fig, comparison_stats = iau.ComparisonEngine.compare_sonar_vs_dvl(distance_results, raw_data, sonar_coverage_m=sonar_coverage_meters, sonar_image_size=image_shape[0], use_plotly=True)\n",
    "fig.show()"
   ]
  },
  {
   "cell_type": "code",
   "execution_count": null,
   "id": "50f97352",
   "metadata": {},
   "outputs": [
    {
     "name": "stdout",
     "output_type": "stream",
     "text": [
      "GENERATING VIDEO WITH DUAL NET DISTANCE OVERLAYS\n",
      "============================================================\n",
      " Target Bag: 2024-08-20_14-31-29\n",
      " DVL Data: 559 records\n",
      " Sonar Analysis: 1059 frames\n",
      " Auto-detect video: enabled (PNG frames + index.csv)\n",
      "⏱  Sync tolerance: 1.0s\n",
      "OPTIMIZED SONAR VIDEO\n",
      "======================================================================\n",
      "Target Bag: 2024-08-20_14-31-29\n",
      "   Cone Size: 900x700\n",
      "   Range: 0.0-5.0m | FOV: 120.0°\n",
      "Auto-detecting video files for bag: 2024-08-20_14-31-29\n",
      "Found video frames: 2024-08-20_14-31-29_video__image_compressed_image_data_frames\n",
      "Using frames directory: /Volumes/LaCie/SOLAQUA/exports/frames/2024-08-20_14-31-29_video__image_compressed_image_data_frames\n",
      "Camera: enabled\n",
      "Net-line: enabled (dist tol=0.5s, pitch tol=2.0s)\n",
      "Sonar Analysis: enabled\n",
      "   Loading sonar data: sensor_sonoptix_echo_image__2024-08-20_14-31-29_video.csv\n"
     ]
    }
   ],
   "source": [
    "# Generate Video with Both DVL and Sonar Analysis Overlays (Improved Sync)\n",
    "# ==========================================================================\n",
    "import utils.sonar_and_foto_generation as sg\n",
    "\n",
    "# Enable automatic video detection with improved synchronization\n",
    "from utils.sonar_config import VIDEO_CONFIG\n",
    "VIDEO_CONFIG['enable_video_overlay'] = True  \n",
    "VIDEO_CONFIG['max_sync_tolerance_seconds'] = 1.0  # Tighter sync tolerance\n",
    "\n",
    "print(\"GENERATING VIDEO WITH DUAL NET DISTANCE OVERLAYS\")\n",
    "print(\"=\" * 60)\n",
    "print(f\" Target Bag: {TARGET_BAG}\")\n",
    "print(f\" DVL Data: {len(raw_data.get('navigation', []))} records\")\n",
    "print(f\" Sonar Analysis: {len(distance_results)} frames\")\n",
    "print(f\" Auto-detect video: enabled (PNG frames + index.csv)\")\n",
    "print(f\"⏱  Sync tolerance: {VIDEO_CONFIG['max_sync_tolerance_seconds']}s\")\n",
    "\n",
    "# Generate the video with both overlays and improved sync\n",
    "try:\n",
    "    video_path = sg.export_optimized_sonar_video(\n",
    "        TARGET_BAG=TARGET_BAG,\n",
    "        EXPORTS_FOLDER=EXPORTS_FOLDER,\n",
    "        START_IDX=1,\n",
    "        END_IDX=1200,  \n",
    "        STRIDE=1,    \n",
    "        AUTO_DETECT_VIDEO=True,       # Enable automatic video file detection\n",
    "        INCLUDE_NET=True,             # Enable DVL net distance overlay\n",
    "        SONAR_DISTANCE_RESULTS=distance_results,  # Enable sonar analysis overlay\n",
    "        NET_DISTANCE_TOLERANCE=0.5,\n",
    "        NET_PITCH_TOLERANCE=2.0,      # Increased from 0.3 to 2.0 seconds for better pitch sync\n",
    "    )\n",
    "\n",
    "    print(f\"\\n Video generated successfully!\")\n",
    "    print(f\" Output: {video_path}\")\n",
    "    print(f\"\\n Check the video output:\")\n",
    "    print(f\"   - Camera frames should sync properly with sonar\")\n",
    "    print(f\"   - When camera data ends, video should switch to sonar-only\")\n",
    "    print(f\"   - No frozen camera frames should appear\")\n",
    "    \n",
    "except Exception as e:\n",
    "    print(f\"Error generating video: {e}\")\n",
    "    import traceback\n",
    "    traceback.print_exc()\n",
    "    print(\"\\n Troubleshooting:\")\n",
    "    print(\"  1. Run the video detection cell above to verify files exist\")\n",
    "    print(\"  2. Check that PNG frames directory has index.csv file\")\n",
    "    print(\"  3. Try disabling video overlay: VIDEO_CONFIG['enable_video_overlay'] = False\")\n",
    "    print(\"  4. Check exports directory structure\")"
   ]
  },
  {
   "cell_type": "code",
   "execution_count": null,
   "id": "a0dffba5",
   "metadata": {},
   "outputs": [],
   "source": []
  }
 ],
 "metadata": {
  "kernelspec": {
   "display_name": "venv",
   "language": "python",
   "name": "python3"
  },
  "language_info": {
   "codemirror_mode": {
    "name": "ipython",
    "version": 3
   },
   "file_extension": ".py",
   "mimetype": "text/x-python",
   "name": "python",
   "nbconvert_exporter": "python",
   "pygments_lexer": "ipython3",
   "version": "3.13.5"
  }
 },
 "nbformat": 4,
 "nbformat_minor": 5
}
