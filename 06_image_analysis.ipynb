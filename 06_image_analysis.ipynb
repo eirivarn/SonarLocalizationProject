{
 "cells": [
  {
   "cell_type": "code",
   "execution_count": 1,
   "id": "7a8d02c0",
   "metadata": {},
   "outputs": [],
   "source": [
    "from pathlib import Path\n",
    "import utils.sonar_image_analysis as iau\n",
    "import importlib\n",
    "importlib.reload(iau)\n",
    "\n",
    "# Centralized sonar defaults (inserted by sweep)\n",
    "from utils.sonar_config import SONAR_VIS_DEFAULTS\n",
    "sonar_config = SONAR_VIS_DEFAULTS.copy()\n",
    "# Backwards-compatible variable names used in older notebooks\n",
    "RANGE_MIN_M = sonar_config['range_min_m']\n",
    "RANGE_MAX_M = sonar_config['range_max_m']\n",
    "DISPLAY_RANGE_MAX_M = sonar_config['display_range_max_m']"
   ]
  },
  {
   "cell_type": "markdown",
   "id": "9220eb1d",
   "metadata": {},
   "source": [
    "# Simple Image Analysis with CV2\n",
    "\n",
    "This notebook demonstrates:\n",
    "1. **Pick a frame** from NPZ files and save it locally\n",
    "2. **Use standard cv2 functions** directly for image processing\n",
    "3. **Experiment** with different OpenCV operations"
   ]
  },
  {
   "cell_type": "code",
   "execution_count": 2,
   "id": "4b3e8f46",
   "metadata": {},
   "outputs": [
    {
     "name": "stdout",
     "output_type": "stream",
     "text": [
      "Using DATA_DIR = /Volumes/LaCie/SOLAQUA/raw_data\n",
      "Selected NPZ file: 2024-08-20_14-31-29_data_cones.npz (index=8)\n"
     ]
    }
   ],
   "source": [
    "\n",
    "\n",
    "# Prefer selecting by bag ID (part of the NPZ filename) instead of a numeric index.\n",
    "# Set TARGET_BAG to a substring that appears in the NPZ filename \n",
    "# '2024-08-22_14-47-39' #1\n",
    "# '2024-08-22_14-29-05' #2\n",
    "# '2024-08-20_14-22-12' #3\n",
    "# '2024-08-20_14-31-29' #4\n",
    "# '2024-08-20_18-47-40' #5\n",
    "# '2024-08-20_13-55-34' #6\n",
    "# '2024-08-20_13-57-42' #7\n",
    "TARGET_BAG = '2024-08-20_14-31-29'  # change this to your desired bag ID\n",
    "from utils.sonar_config import EXPORTS_DIR_DEFAULT, EXPORTS_SUBDIRS\n",
    "EXPORTS_FOLDER = Path(EXPORTS_DIR_DEFAULT)\n",
    "\n",
    "# If you keep your raw .bag files or raw data on an external drive, point DATA_DIR there.\n",
    "# Example (your external disk): /Volumes/LaCie/SOLAQUA/raw_data\n",
    "DATA_DIR = Path(\"/Volumes/LaCie/SOLAQUA/raw_data\")\n",
    "print(f\"Using DATA_DIR = {DATA_DIR}\")\n",
    "\n",
    "# Find NPZ files and pick the one matching TARGET_BAG\n",
    "files = iau.get_available_npz_files()\n",
    "if not files:\n",
    "    raise FileNotFoundError(f\"No NPZ files found in configured exports outputs (looked under {EXPORTS_FOLDER / EXPORTS_SUBDIRS.get('outputs','outputs')})\")\n",
    "matches = [p for p in files if TARGET_BAG in p.name]\n",
    "if not matches:\n",
    "    # Help the user by listing available NPZ files\n",
    "    print(f'No NPZ file matched TARGET_BAG={TARGET_BAG!r}')\n",
    "    print('Available NPZ files:')\n",
    "    for i,p in enumerate(files):\n",
    "        print(f'  {i}: {p.name}')\n",
    "    raise ValueError(f'No NPZ file contains \"{TARGET_BAG}\" in its name')\n",
    "\n",
    "# If multiple matches, choose the most recently modified one\n",
    "selected = max(matches, key=lambda p: p.stat().st_mtime)\n",
    "NPZ_FILE_INDEX = files.index(selected)\n",
    "print(f'Selected NPZ file: {selected.name} (index={NPZ_FILE_INDEX})')"
   ]
  },
  {
   "cell_type": "markdown",
   "id": "0c65358c",
   "metadata": {},
   "source": [
    "## Distance Analysis Over Time\n",
    "\n",
    "Now let's perform a comprehensive analysis of the red line distance over time. The red line represents the major axis of the detected elongated contour (likely a fishing net), and we'll track how this distance changes throughout the video sequence."
   ]
  },
  {
   "cell_type": "code",
   "execution_count": 3,
   "id": "b9c5da85",
   "metadata": {},
   "outputs": [
    {
     "name": "stdout",
     "output_type": "stream",
     "text": [
      "=== ENHANCED VIDEO CREATION (Simplified) ===\n",
      "Creating video with simplified processor...\n",
      "Frames: 1500, step: 1\n",
      "Processing 1059 frames with simplified processor...\n",
      "Processed 10/1059 frames\n",
      "Processed 20/1059 frames\n",
      "Processed 30/1059 frames\n",
      "Processed 40/1059 frames\n",
      "Processed 50/1059 frames\n",
      "Processed 60/1059 frames\n",
      "Processed 70/1059 frames\n",
      "Processed 80/1059 frames\n",
      "Processed 90/1059 frames\n",
      "Processed 100/1059 frames\n",
      "Processed 110/1059 frames\n",
      "Processed 120/1059 frames\n",
      "Processed 130/1059 frames\n",
      "Processed 140/1059 frames\n",
      "Processed 150/1059 frames\n",
      "Processed 160/1059 frames\n",
      "Processed 170/1059 frames\n",
      "Processed 180/1059 frames\n",
      "Processed 190/1059 frames\n",
      "Processed 200/1059 frames\n",
      "Processed 210/1059 frames\n",
      "Processed 220/1059 frames\n",
      "Processed 230/1059 frames\n",
      "Processed 240/1059 frames\n",
      "Processed 250/1059 frames\n",
      "Processed 260/1059 frames\n",
      "Processed 270/1059 frames\n",
      "Processed 280/1059 frames\n",
      "Processed 290/1059 frames\n",
      "Processed 300/1059 frames\n",
      "Processed 310/1059 frames\n",
      "Processed 320/1059 frames\n",
      "Processed 330/1059 frames\n",
      "Processed 340/1059 frames\n",
      "Processed 350/1059 frames\n",
      "Processed 360/1059 frames\n",
      "Processed 370/1059 frames\n",
      "Processed 380/1059 frames\n",
      "Processed 390/1059 frames\n",
      "Processed 400/1059 frames\n",
      "Processed 410/1059 frames\n",
      "Processed 420/1059 frames\n",
      "Processed 430/1059 frames\n",
      "Processed 440/1059 frames\n",
      "Processed 450/1059 frames\n",
      "Processed 460/1059 frames\n",
      "Processed 470/1059 frames\n",
      "Processed 480/1059 frames\n",
      "Processed 490/1059 frames\n",
      "Processed 500/1059 frames\n",
      "Processed 510/1059 frames\n",
      "Processed 520/1059 frames\n",
      "Processed 530/1059 frames\n",
      "Processed 540/1059 frames\n",
      "Processed 550/1059 frames\n",
      "Processed 560/1059 frames\n",
      "Processed 570/1059 frames\n",
      "Processed 580/1059 frames\n",
      "Processed 590/1059 frames\n",
      "Processed 600/1059 frames\n",
      "Processed 610/1059 frames\n",
      "Processed 620/1059 frames\n",
      "Processed 630/1059 frames\n",
      "Processed 640/1059 frames\n",
      "Processed 650/1059 frames\n",
      "Processed 660/1059 frames\n",
      "Processed 670/1059 frames\n",
      "Processed 680/1059 frames\n",
      "Processed 690/1059 frames\n",
      "Processed 700/1059 frames\n",
      "Processed 710/1059 frames\n",
      "Processed 720/1059 frames\n",
      "Processed 730/1059 frames\n",
      "Processed 740/1059 frames\n",
      "Processed 750/1059 frames\n",
      "Processed 760/1059 frames\n",
      "Processed 770/1059 frames\n",
      "Processed 780/1059 frames\n",
      "Processed 790/1059 frames\n",
      "Processed 800/1059 frames\n",
      "Processed 810/1059 frames\n",
      "Processed 820/1059 frames\n",
      "Processed 830/1059 frames\n",
      "Processed 840/1059 frames\n",
      "Processed 850/1059 frames\n",
      "Processed 860/1059 frames\n",
      "Processed 870/1059 frames\n",
      "Processed 880/1059 frames\n",
      "Processed 890/1059 frames\n",
      "Processed 900/1059 frames\n",
      "Processed 910/1059 frames\n",
      "Processed 920/1059 frames\n",
      "Processed 930/1059 frames\n",
      "Processed 940/1059 frames\n",
      "Processed 950/1059 frames\n",
      "Processed 960/1059 frames\n",
      "Processed 970/1059 frames\n",
      "Processed 980/1059 frames\n",
      "Processed 990/1059 frames\n",
      "Processed 1000/1059 frames\n",
      "Processed 1010/1059 frames\n",
      "Processed 1020/1059 frames\n",
      "Processed 1030/1059 frames\n",
      "Processed 1040/1059 frames\n",
      "Processed 1050/1059 frames\n",
      "\n",
      "=== ENHANCED VIDEO CREATION COMPLETE ===\n",
      "Video saved to: /Volumes/LaCie/SOLAQUA/exports/videos/core_aoi_tracking.mp4\n",
      "Video specs: 900x700, 15 fps, 1059 frames\n",
      "SIMPLIFIED TRACKING STATS:\n",
      "  - Total detected frames: 1059\n",
      "  - Lost/searching frames: 0\n",
      "  - Detection success rate: 100.0%\n"
     ]
    }
   ],
   "source": [
    "# Create the unified processor\n",
    "processor = iau.SonarDataProcessor()\n",
    "\n",
    "# Use the enhanced video creation with CORE processor\n",
    "video_path = iau.create_enhanced_contour_detection_video_with_processor(\n",
    "    npz_file_index=NPZ_FILE_INDEX,          # Which NPZ file to use\n",
    "    frame_start=1,           # Starting frame\n",
    "    frame_count=1500,         # Number of frames to process\n",
    "    frame_step=1,            # Step between frames\n",
    "    output_path=Path(EXPORTS_DIR_DEFAULT) / EXPORTS_SUBDIRS.get('videos','videos') / 'core_aoi_tracking.mp4',\n",
    "    processor=processor      # Use our CORE processor\n",
    ")"
   ]
  },
  {
   "cell_type": "code",
   "execution_count": 4,
   "id": "d9c0382e",
   "metadata": {},
   "outputs": [
    {
     "name": "stdout",
     "output_type": "stream",
     "text": [
      "=== DISTANCE ANALYSIS FROM NPZ ===\n",
      "Analyzing: /Volumes/LaCie/SOLAQUA/exports/outputs/2024-08-20_14-31-29_data_cones.npz\n",
      "Processing 1059 frames from 1 (step=1)\n",
      "  Processed 50/1059 frames (Success rate: 100.0%)\n",
      "  Processed 100/1059 frames (Success rate: 100.0%)\n",
      "  Processed 150/1059 frames (Success rate: 100.0%)\n",
      "  Processed 200/1059 frames (Success rate: 100.0%)\n",
      "  Processed 250/1059 frames (Success rate: 100.0%)\n",
      "  Processed 300/1059 frames (Success rate: 100.0%)\n",
      "  Processed 350/1059 frames (Success rate: 100.0%)\n",
      "  Processed 400/1059 frames (Success rate: 100.0%)\n",
      "  Processed 450/1059 frames (Success rate: 100.0%)\n",
      "  Processed 500/1059 frames (Success rate: 100.0%)\n",
      "  Processed 550/1059 frames (Success rate: 100.0%)\n",
      "  Processed 600/1059 frames (Success rate: 100.0%)\n",
      "  Processed 650/1059 frames (Success rate: 100.0%)\n",
      "  Processed 700/1059 frames (Success rate: 100.0%)\n",
      "  Processed 750/1059 frames (Success rate: 100.0%)\n",
      "  Processed 800/1059 frames (Success rate: 100.0%)\n",
      "  Processed 850/1059 frames (Success rate: 100.0%)\n",
      "  Processed 900/1059 frames (Success rate: 100.0%)\n",
      "  Processed 950/1059 frames (Success rate: 100.0%)\n",
      "  Processed 1000/1059 frames (Success rate: 100.0%)\n",
      "  Processed 1050/1059 frames (Success rate: 100.0%)\n",
      "\n",
      "=== ANALYSIS COMPLETE ===\n",
      "Total frames processed: 1059\n",
      "Successful detections: 1059 (100.0%)\n",
      "Distance statistics (meters):\n",
      "  - Mean: 2.037\n",
      "  - Std:  0.327\n",
      "  - Min:  1.558\n",
      "  - Max:  3.145\n",
      "  - Range: 1.586\n",
      "Analyzed 1059 frames using elliptical AOI\n",
      " Detection success rate: 100.0%\n",
      " Elliptical tracking active: 0 frames\n"
     ]
    }
   ],
   "source": [
    "engine = iau.DistanceAnalysisEngine()\n",
    "distance_results = engine.analyze_npz_sequence(\n",
    "    npz_file_index=NPZ_FILE_INDEX,    \n",
    "    frame_start=1,        # Start from frame 1\n",
    "    frame_count=1500,      # Analyze all frames from the video\n",
    "    frame_step=1          # Every frame\n",
    ")\n",
    "\n",
    "print(f\"Analyzed {len(distance_results)} frames using elliptical AOI\")\n",
    "print(f\" Detection success rate: {distance_results['detection_success'].mean():.1%}\")\n",
    "print(f\" Elliptical tracking active: {(distance_results['tracking_status'].str.contains('ELLIPSE')).sum()} frames\")"
   ]
  },
  {
   "cell_type": "code",
   "execution_count": 5,
   "id": "0bd5183d",
   "metadata": {},
   "outputs": [
    {
     "data": {
      "text/plain": [
       "Index(['frame_index', 'timestamp', 'distance_pixels', 'angle_degrees',\n",
       "       'distance_meters', 'detection_success', 'tracking_status', 'area',\n",
       "       'aspect_ratio', 'solidity', 'extent', 'ellipse_elongation',\n",
       "       'straightness', 'rect', 'centroid_x', 'centroid_y'],\n",
       "      dtype='object')"
      ]
     },
     "execution_count": 5,
     "metadata": {},
     "output_type": "execute_result"
    }
   ],
   "source": [
    "distance_results.columns"
   ]
  },
  {
   "cell_type": "markdown",
   "id": "fede9d64",
   "metadata": {},
   "source": [
    "## Convert to Real-World Distances\n",
    "\n",
    "Now let's convert the pixel distances to real-world distances using the fact that the entire sonar image represents a 10x10 meter area."
   ]
  },
  {
   "cell_type": "code",
   "execution_count": 6,
   "id": "886897de",
   "metadata": {},
   "outputs": [
    {
     "name": "stdout",
     "output_type": "stream",
     "text": [
      "Detected NPZ extent: x=[-8.660,8.660] m, y=[0.000,10.000] m\n",
      "Image shape from NPZ: H=700, W=900\n",
      "meters/pixel: x=0.019245, y=0.014286, avg=0.016765\n",
      "Using pixels_to_meters_avg = 0.016765 m/px\n"
     ]
    }
   ],
   "source": [
    "# Auto-detect pixel->meter mapping from the selected NPZ (if available)\n",
    "try:\n",
    "    cones, ts, extent, meta = iau.load_cone_run_npz(selected)\n",
    "    T, H, W = cones.shape\n",
    "    x_min, x_max, y_min, y_max = extent\n",
    "    width_m = float(x_max - x_min)\n",
    "    height_m = float(y_max - y_min)\n",
    "    px2m_x = width_m / float(W)\n",
    "    px2m_y = height_m / float(H)\n",
    "    pixels_to_meters_avg = 0.5 * (px2m_x + px2m_y)\n",
    "    image_shape = (H, W)\n",
    "    sonar_coverage_meters = max(width_m, height_m)\n",
    "    print(f\"Detected NPZ extent: x=[{x_min:.3f},{x_max:.3f}] m, y=[{y_min:.3f},{y_max:.3f}] m\")\n",
    "    print(f\"Image shape from NPZ: H={H}, W={W}\")\n",
    "    print(f\"meters/pixel: x={px2m_x:.6f}, y={px2m_y:.6f}, avg={pixels_to_meters_avg:.6f}\")\n",
    "except Exception as e:\n",
    "    print(\"Could not read NPZ metadata:\", e)\n",
    "    print(\"Falling back to defaults from sonar_config.\")\n",
    "    from utils.sonar_config import CONE_H_DEFAULT, CONE_W_DEFAULT, DISPLAY_RANGE_MAX_M_DEFAULT\n",
    "    image_shape = (CONE_H_DEFAULT, CONE_W_DEFAULT)\n",
    "    sonar_coverage_meters = DISPLAY_RANGE_MAX_M_DEFAULT * 2  # approximate\n",
    "    pixels_to_meters_avg = sonar_coverage_meters / max(image_shape)\n",
    "    \n",
    "# Use the computed pixels_to_meters_avg in downstream analysis\n",
    "print(f\"Using pixels_to_meters_avg = {pixels_to_meters_avg:.6f} m/px\")"
   ]
  },
  {
   "cell_type": "code",
   "execution_count": 7,
   "id": "15d6238c",
   "metadata": {},
   "outputs": [
    {
     "data": {
      "application/vnd.plotly.v1+json": {
       "config": {
        "plotlyServerURL": "https://plot.ly"
       },
       "data": [
        {
         "line": {
          "color": "blue"
         },
         "mode": "lines+markers",
         "name": "Distance",
         "type": "scatter",
         "x": {
          "bdata": "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",
          "dtype": "i2"
         },
         "xaxis": "x",
         "y": {
          "bdata": "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",
          "dtype": "f8"
         },
         "yaxis": "y"
        },
        {
         "line": {
          "color": "green"
         },
         "mode": "lines+markers",
         "name": "Distance over Time",
         "type": "scatter",
         "x": [
          "2024-08-20T12:31:31.621807575",
          "2024-08-20T12:31:31.681648731",
          "2024-08-20T12:31:31.742511034",
          "2024-08-20T12:31:31.818883181",
          "2024-08-20T12:31:31.874155045",
          "2024-08-20T12:31:31.937494755",
          "2024-08-20T12:31:31.999329090",
          "2024-08-20T12:31:32.063158035",
          "2024-08-20T12:31:32.130053520",
          "2024-08-20T12:31:32.191398144",
          "2024-08-20T12:31:32.254230738",
          "2024-08-20T12:31:32.318058729",
          "2024-08-20T12:31:32.395849943",
          "2024-08-20T12:31:32.445717096",
          "2024-08-20T12:31:32.511543512",
          "2024-08-20T12:31:32.576503515",
          "2024-08-20T12:31:32.637341022",
          "2024-08-20T12:31:32.702203035",
          "2024-08-20T12:31:32.768987656",
          "2024-08-20T12:31:32.829861403",
          "2024-08-20T12:31:32.894687653",
          "2024-08-20T12:31:32.962601185",
          "2024-08-20T12:31:33.025435448",
          "2024-08-20T12:31:33.088264227",
          "2024-08-20T12:31:33.151147127",
          "2024-08-20T12:31:33.218916655",
          "2024-08-20T12:31:33.280750036",
          "2024-08-20T12:31:33.342585087",
          "2024-08-20T12:31:33.407411814",
          "2024-08-20T12:31:33.484754801",
          "2024-08-20T12:31:33.533624887",
          "2024-08-20T12:31:33.610753059",
          "2024-08-20T12:31:33.671589851",
          "2024-08-20T12:31:33.730820179",
          "2024-08-20T12:31:33.790660143",
          "2024-08-20T12:31:33.854523897",
          "2024-08-20T12:31:33.919317245",
          "2024-08-20T12:31:33.984568357",
          "2024-08-20T12:31:34.048381805",
          "2024-08-20T12:31:34.117199183",
          "2024-08-20T12:31:34.183008671",
          "2024-08-20T12:31:34.237861395",
          "2024-08-20T12:31:34.303685427",
          "2024-08-20T12:31:34.367515802",
          "2024-08-20T12:31:34.431509018",
          "2024-08-20T12:31:34.508416414",
          "2024-08-20T12:31:34.565290689",
          "2024-08-20T12:31:34.624107361",
          "2024-08-20T12:31:34.686995983",
          "2024-08-20T12:31:34.749772310",
          "2024-08-20T12:31:34.822613001",
          "2024-08-20T12:31:34.882473946",
          "2024-08-20T12:31:34.943256378",
          "2024-08-20T12:31:35.006085634",
          "2024-08-20T12:31:35.075951576",
          "2024-08-20T12:31:35.139728308",
          "2024-08-20T12:31:35.197573662",
          "2024-08-20T12:31:35.264425278",
          "2024-08-20T12:31:35.328751326",
          "2024-08-20T12:31:35.404547215",
          "2024-08-20T12:31:35.454563379",
          "2024-08-20T12:31:35.522747992",
          "2024-08-20T12:31:35.597547531",
          "2024-08-20T12:31:35.666362762",
          "2024-08-20T12:31:35.716230869",
          "2024-08-20T12:31:35.779061317",
          "2024-08-20T12:31:35.839905977",
          "2024-08-20T12:31:35.902730942",
          "2024-08-20T12:31:35.968554974",
          "2024-08-20T12:31:36.034378290",
          "2024-08-20T12:31:36.146079779",
          "2024-08-20T12:31:36.202927351",
          "2024-08-20T12:31:36.253791808",
          "2024-08-20T12:31:36.310640812",
          "2024-08-20T12:31:36.362536430",
          "2024-08-20T12:31:36.415360451",
          "2024-08-20T12:31:36.612915516",
          "2024-08-20T12:31:36.629870653",
          "2024-08-20T12:31:36.686092138",
          "2024-08-20T12:31:36.731478691",
          "2024-08-20T12:31:36.792353392",
          "2024-08-20T12:31:36.835259199",
          "2024-08-20T12:31:36.882076502",
          "2024-08-20T12:31:36.930180311",
          "2024-08-20T12:31:36.995010138",
          "2024-08-20T12:31:37.057901382",
          "2024-08-20T12:31:37.120796442",
          "2024-08-20T12:31:37.190546751",
          "2024-08-20T12:31:37.245904446",
          "2024-08-20T12:31:37.310695887",
          "2024-08-20T12:31:37.375525713",
          "2024-08-20T12:31:37.443047285",
          "2024-08-20T12:31:37.501889229",
          "2024-08-20T12:31:37.570401907",
          "2024-08-20T12:31:37.634161472",
          "2024-08-20T12:31:37.698097229",
          "2024-08-20T12:31:37.760633230",
          "2024-08-20T12:31:37.822077274",
          "2024-08-20T12:31:37.890928745",
          "2024-08-20T12:31:37.950802088",
          "2024-08-20T12:31:38.016170025",
          "2024-08-20T12:31:38.079568386",
          "2024-08-20T12:31:38.144387484",
          "2024-08-20T12:31:38.206281900",
          "2024-08-20T12:31:38.272046804",
          "2024-08-20T12:31:38.335875273",
          "2024-08-20T12:31:38.399709225",
          "2024-08-20T12:31:38.464562416",
          "2024-08-20T12:31:38.526404619",
          "2024-08-20T12:31:38.595264912",
          "2024-08-20T12:31:38.654108047",
          "2024-08-20T12:31:38.719931841",
          "2024-08-20T12:31:38.783764362",
          "2024-08-20T12:31:38.857566357",
          "2024-08-20T12:31:38.911419630",
          "2024-08-20T12:31:38.976246357",
          "2024-08-20T12:31:39.042104006",
          "2024-08-20T12:31:39.101980925",
          "2024-08-20T12:31:39.166769743",
          "2024-08-20T12:31:39.232593060",
          "2024-08-20T12:31:39.297420025",
          "2024-08-20T12:31:39.361249447",
          "2024-08-20T12:31:39.423182011",
          "2024-08-20T12:31:39.490002155",
          "2024-08-20T12:31:39.549880981",
          "2024-08-20T12:31:39.614220381",
          "2024-08-20T12:31:39.680010796",
          "2024-08-20T12:31:39.748333454",
          "2024-08-20T12:31:39.812162876",
          "2024-08-20T12:31:39.877536774",
          "2024-08-20T12:31:40.073243380",
          "2024-08-20T12:31:40.086207151",
          "2024-08-20T12:31:40.148041010",
          "2024-08-20T12:31:40.191923618",
          "2024-08-20T12:31:40.237802505",
          "2024-08-20T12:31:40.300632715",
          "2024-08-20T12:31:40.345512867",
          "2024-08-20T12:31:40.391391993",
          "2024-08-20T12:31:40.451229811",
          "2024-08-20T12:31:40.517088412",
          "2024-08-20T12:31:40.581882000",
          "2024-08-20T12:31:40.639754295",
          "2024-08-20T12:31:40.703556538",
          "2024-08-20T12:31:40.769875050",
          "2024-08-20T12:31:40.833705902",
          "2024-08-20T12:31:40.910538912",
          "2024-08-20T12:31:40.974536657",
          "2024-08-20T12:31:41.029807091",
          "2024-08-20T12:31:41.085696697",
          "2024-08-20T12:31:41.153585434",
          "2024-08-20T12:31:41.224370241",
          "2024-08-20T12:31:41.289196968",
          "2024-08-20T12:31:41.349036694",
          "2024-08-20T12:31:41.405884266",
          "2024-08-20T12:31:41.472689152",
          "2024-08-20T12:31:41.540507078",
          "2024-08-20T12:31:41.601395369",
          "2024-08-20T12:31:41.668616772",
          "2024-08-20T12:31:41.727491379",
          "2024-08-20T12:31:41.791326761",
          "2024-08-20T12:31:41.859107018",
          "2024-08-20T12:31:41.926977396",
          "2024-08-20T12:31:41.982784510",
          "2024-08-20T12:31:42.058573484",
          "2024-08-20T12:31:42.111595631",
          "2024-08-20T12:31:42.179451942",
          "2024-08-20T12:31:42.239253283",
          "2024-08-20T12:31:42.305081129",
          "2024-08-20T12:31:42.369940758",
          "2024-08-20T12:31:42.492574692",
          "2024-08-20T12:31:42.547464371",
          "2024-08-20T12:31:42.607268095",
          "2024-08-20T12:31:42.656136990",
          "2024-08-20T12:31:42.714980364",
          "2024-08-20T12:31:42.763849974",
          "2024-08-20T12:31:42.821695328",
          "2024-08-20T12:31:42.879108429",
          "2024-08-20T12:31:42.943912029",
          "2024-08-20T12:31:43.009702921",
          "2024-08-20T12:31:43.071511984",
          "2024-08-20T12:31:43.133901834",
          "2024-08-20T12:31:43.203717709",
          "2024-08-20T12:31:43.261597157",
          "2024-08-20T12:31:43.326387167",
          "2024-08-20T12:31:43.394617081",
          "2024-08-20T12:31:43.464424372",
          "2024-08-20T12:31:43.518105029",
          "2024-08-20T12:31:43.583888292",
          "2024-08-20T12:31:43.646115065",
          "2024-08-20T12:31:43.712907553",
          "2024-08-20T12:31:43.773782730",
          "2024-08-20T12:31:43.840597391",
          "2024-08-20T12:31:43.906425953",
          "2024-08-20T12:31:43.967237234",
          "2024-08-20T12:31:44.030067205",
          "2024-08-20T12:31:44.103466988",
          "2024-08-20T12:31:44.162308455",
          "2024-08-20T12:31:44.223145008",
          "2024-08-20T12:31:44.291014671",
          "2024-08-20T12:31:44.349857092",
          "2024-08-20T12:31:44.415681124",
          "2024-08-20T12:31:44.479695797",
          "2024-08-20T12:31:44.542475224",
          "2024-08-20T12:31:44.613296270",
          "2024-08-20T12:31:44.672163725",
          "2024-08-20T12:31:44.734963417",
          "2024-08-20T12:31:44.800783157",
          "2024-08-20T12:31:44.875235319",
          "2024-08-20T12:31:44.934039116",
          "2024-08-20T12:31:44.991886139",
          "2024-08-20T12:31:45.054715633",
          "2024-08-20T12:31:45.123562574",
          "2024-08-20T12:31:45.184406042",
          "2024-08-20T12:31:45.253189325",
          "2024-08-20T12:31:45.314022064",
          "2024-08-20T12:31:45.391814232",
          "2024-08-20T12:31:45.503517866",
          "2024-08-20T12:31:45.563381672",
          "2024-08-20T12:31:45.625192165",
          "2024-08-20T12:31:45.689467907",
          "2024-08-20T12:31:45.743281364",
          "2024-08-20T12:31:45.799130917",
          "2024-08-20T12:31:45.849994183",
          "2024-08-20T12:31:45.911336899",
          "2024-08-20T12:31:45.973172188",
          "2024-08-20T12:31:46.031045198",
          "2024-08-20T12:31:46.077892065",
          "2024-08-20T12:31:46.141758204",
          "2024-08-20T12:31:46.209540129",
          "2024-08-20T12:31:46.271375179",
          "2024-08-20T12:31:46.336202383",
          "2024-08-20T12:31:46.402061224",
          "2024-08-20T12:31:46.463126421",
          "2024-08-20T12:31:46.525985479",
          "2024-08-20T12:31:46.593837023",
          "2024-08-20T12:31:46.663606167",
          "2024-08-20T12:31:46.721510649",
          "2024-08-20T12:31:46.782323599",
          "2024-08-20T12:31:46.850108624",
          "2024-08-20T12:31:46.921957970",
          "2024-08-20T12:31:46.977843285",
          "2024-08-20T12:31:47.038705826",
          "2024-08-20T12:31:47.102475882",
          "2024-08-20T12:31:47.169295788",
          "2024-08-20T12:31:47.230172157",
          "2024-08-20T12:31:47.304938078",
          "2024-08-20T12:31:47.368804932",
          "2024-08-20T12:31:47.427606583",
          "2024-08-20T12:31:47.491471767",
          "2024-08-20T12:31:47.555302143",
          "2024-08-20T12:31:47.623177528",
          "2024-08-20T12:31:47.811676741",
          "2024-08-20T12:31:47.827633619",
          "2024-08-20T12:31:47.877500534",
          "2024-08-20T12:31:47.938337326",
          "2024-08-20T12:31:47.984474659",
          "2024-08-20T12:31:48.027358532",
          "2024-08-20T12:31:48.088195324",
          "2024-08-20T12:31:48.136068344",
          "2024-08-20T12:31:48.191809654",
          "2024-08-20T12:31:48.256190538",
          "2024-08-20T12:31:48.321072102",
          "2024-08-20T12:31:48.382852077",
          "2024-08-20T12:31:48.445721865",
          "2024-08-20T12:31:48.511081219",
          "2024-08-20T12:31:48.576905251",
          "2024-08-20T12:31:48.638738394",
          "2024-08-20T12:31:48.701770544",
          "2024-08-20T12:31:48.774565697",
          "2024-08-20T12:31:48.831388712",
          "2024-08-20T12:31:48.893730640",
          "2024-08-20T12:31:48.961057901",
          "2024-08-20T12:31:49.028914213",
          "2024-08-20T12:31:49.090711117",
          "2024-08-20T12:31:49.154539824",
          "2024-08-20T12:31:49.213383436",
          "2024-08-20T12:31:49.279206991",
          "2024-08-20T12:31:49.345029116",
          "2024-08-20T12:31:49.405867100",
          "2024-08-20T12:31:49.473721266",
          "2024-08-20T12:31:49.545494080",
          "2024-08-20T12:31:49.602399588",
          "2024-08-20T12:31:49.663179159",
          "2024-08-20T12:31:49.729102612",
          "2024-08-20T12:31:49.791011810",
          "2024-08-20T12:31:49.853843212",
          "2024-08-20T12:31:49.919657946",
          "2024-08-20T12:31:49.983487844",
          "2024-08-20T12:31:50.046319723",
          "2024-08-20T12:31:50.110692024",
          "2024-08-20T12:31:50.174520016",
          "2024-08-20T12:31:50.238417864",
          "2024-08-20T12:31:50.303511620",
          "2024-08-20T12:31:50.366343737",
          "2024-08-20T12:31:50.432175159",
          "2024-08-20T12:31:50.505977631",
          "2024-08-20T12:31:50.560830355",
          "2024-08-20T12:31:50.670942068",
          "2024-08-20T12:31:50.726747036",
          "2024-08-20T12:31:50.789601564",
          "2024-08-20T12:31:50.825510979",
          "2024-08-20T12:31:50.890295744",
          "2024-08-20T12:31:50.943155289",
          "2024-08-20T12:31:51.012972832",
          "2024-08-20T12:31:51.074837446",
          "2024-08-20T12:31:51.134642601",
          "2024-08-20T12:31:51.200467348",
          "2024-08-20T12:31:51.273272991",
          "2024-08-20T12:31:51.336102962",
          "2024-08-20T12:31:51.389957905",
          "2024-08-20T12:31:51.454820395",
          "2024-08-20T12:31:51.517674922",
          "2024-08-20T12:31:51.586463928",
          "2024-08-20T12:31:51.646686554",
          "2024-08-20T12:31:51.712054014",
          "2024-08-20T12:31:51.782867193",
          "2024-08-20T12:31:51.838715792",
          "2024-08-20T12:31:51.903051376",
          "2024-08-20T12:31:51.967877626",
          "2024-08-20T12:31:52.030061007",
          "2024-08-20T12:31:52.102158070",
          "2024-08-20T12:31:52.168978691",
          "2024-08-20T12:31:52.222800970",
          "2024-08-20T12:31:52.292626858",
          "2024-08-20T12:31:52.351458549",
          "2024-08-20T12:31:52.418277025",
          "2024-08-20T12:31:52.481150866",
          "2024-08-20T12:31:52.541553497",
          "2024-08-20T12:31:52.606345415",
          "2024-08-20T12:31:52.673228025",
          "2024-08-20T12:31:52.735998154",
          "2024-08-20T12:31:52.798882484",
          "2024-08-20T12:31:52.862711668",
          "2024-08-20T12:31:52.927570105",
          "2024-08-20T12:31:52.990370035",
          "2024-08-20T12:31:53.070696592",
          "2024-08-20T12:31:53.131572007",
          "2024-08-20T12:31:53.195363998",
          "2024-08-20T12:31:53.245267153",
          "2024-08-20T12:31:53.310670376",
          "2024-08-20T12:31:53.375495911",
          "2024-08-20T12:31:53.440849304",
          "2024-08-20T12:31:53.502685069",
          "2024-08-20T12:31:53.581473112",
          "2024-08-20T12:31:53.671237707",
          "2024-08-20T12:31:53.730012655",
          "2024-08-20T12:31:53.778313637",
          "2024-08-20T12:31:53.833030939",
          "2024-08-20T12:31:53.893876076",
          "2024-08-20T12:31:53.949759483",
          "2024-08-20T12:31:54.014583826",
          "2024-08-20T12:31:54.080477238",
          "2024-08-20T12:31:54.146250486",
          "2024-08-20T12:31:54.208119631",
          "2024-08-20T12:31:54.272945881",
          "2024-08-20T12:31:54.337438822",
          "2024-08-20T12:31:54.401267767",
          "2024-08-20T12:31:54.464104652",
          "2024-08-20T12:31:54.525992393",
          "2024-08-20T12:31:54.604726553",
          "2024-08-20T12:31:54.660574675",
          "2024-08-20T12:31:54.717456818",
          "2024-08-20T12:31:54.788233280",
          "2024-08-20T12:31:54.846078873",
          "2024-08-20T12:31:54.909790993",
          "2024-08-20T12:31:54.976554394",
          "2024-08-20T12:31:55.039385557",
          "2024-08-20T12:31:55.105245590",
          "2024-08-20T12:31:55.171085119",
          "2024-08-20T12:31:55.230873108",
          "2024-08-20T12:31:55.299697399",
          "2024-08-20T12:31:55.362556934",
          "2024-08-20T12:31:55.429852486",
          "2024-08-20T12:31:55.490688562",
          "2024-08-20T12:31:55.549531460",
          "2024-08-20T12:31:55.615355253",
          "2024-08-20T12:31:55.682177305",
          "2024-08-20T12:31:55.744011879",
          "2024-08-20T12:31:55.807841063",
          "2024-08-20T12:31:55.870673656",
          "2024-08-20T12:31:55.949462414",
          "2024-08-20T12:31:56.003352642",
          "2024-08-20T12:31:56.067021132",
          "2024-08-20T12:31:56.125862597",
          "2024-08-20T12:31:56.193681240",
          "2024-08-20T12:31:56.253522635",
          "2024-08-20T12:31:56.318383694",
          "2024-08-20T12:31:56.386166811",
          "2024-08-20T12:31:56.448000908",
          "2024-08-20T12:31:56.512829065",
          "2024-08-20T12:31:56.583638668",
          "2024-08-20T12:31:56.640494585",
          "2024-08-20T12:31:56.703325510",
          "2024-08-20T12:31:56.767193556",
          "2024-08-20T12:31:56.835482836",
          "2024-08-20T12:31:56.902304649",
          "2024-08-20T12:31:56.962438345",
          "2024-08-20T12:31:57.025873184",
          "2024-08-20T12:31:57.087665081",
          "2024-08-20T12:31:57.154531956",
          "2024-08-20T12:31:57.214373350",
          "2024-08-20T12:31:57.293160200",
          "2024-08-20T12:31:57.345025063",
          "2024-08-20T12:31:57.412839890",
          "2024-08-20T12:31:57.473701954",
          "2024-08-20T12:31:57.534539223",
          "2024-08-20T12:31:57.604353428",
          "2024-08-20T12:31:57.663195133",
          "2024-08-20T12:31:57.726027727",
          "2024-08-20T12:31:57.791850805",
          "2024-08-20T12:31:57.855682135",
          "2024-08-20T12:31:57.919509649",
          "2024-08-20T12:31:57.984847546",
          "2024-08-20T12:31:58.048672438",
          "2024-08-20T12:31:58.114497423",
          "2024-08-20T12:31:58.232179642",
          "2024-08-20T12:31:58.303023338",
          "2024-08-20T12:31:58.362874031",
          "2024-08-20T12:31:58.422821522",
          "2024-08-20T12:31:58.476673603",
          "2024-08-20T12:31:58.501605749",
          "2024-08-20T12:31:58.569931507",
          "2024-08-20T12:31:58.628283978",
          "2024-08-20T12:31:58.687161207",
          "2024-08-20T12:31:58.754455805",
          "2024-08-20T12:31:58.874644995",
          "2024-08-20T12:31:58.942510366",
          "2024-08-20T12:31:59.005335093",
          "2024-08-20T12:31:59.067801952",
          "2024-08-20T12:31:59.130631208",
          "2024-08-20T12:31:59.181493998",
          "2024-08-20T12:31:59.239844561",
          "2024-08-20T12:31:59.299728394",
          "2024-08-20T12:31:59.346602917",
          "2024-08-20T12:31:59.392479658",
          "2024-08-20T12:31:59.455312490",
          "2024-08-20T12:31:59.519181966",
          "2024-08-20T12:31:59.584981441",
          "2024-08-20T12:31:59.647796392",
          "2024-08-20T12:31:59.710932016",
          "2024-08-20T12:31:59.783735514",
          "2024-08-20T12:31:59.839586020",
          "2024-08-20T12:31:59.903450012",
          "2024-08-20T12:31:59.966248512",
          "2024-08-20T12:32:00.031110048",
          "2024-08-20T12:32:00.101887941",
          "2024-08-20T12:32:00.159729958",
          "2024-08-20T12:32:00.222562075",
          "2024-08-20T12:32:00.287391663",
          "2024-08-20T12:32:00.352120399",
          "2024-08-20T12:32:00.413935184",
          "2024-08-20T12:32:00.478729010",
          "2024-08-20T12:32:00.542225122",
          "2024-08-20T12:32:00.610045195",
          "2024-08-20T12:32:00.671614647",
          "2024-08-20T12:32:00.735095501",
          "2024-08-20T12:32:00.799942493",
          "2024-08-20T12:32:00.863315344",
          "2024-08-20T12:32:00.928106546",
          "2024-08-20T12:32:01.008890390",
          "2024-08-20T12:32:01.070760727",
          "2024-08-20T12:32:01.117598772",
          "2024-08-20T12:32:01.181464672",
          "2024-08-20T12:32:01.245420218",
          "2024-08-20T12:32:01.314198017",
          "2024-08-20T12:32:01.377030849",
          "2024-08-20T12:32:01.439896584",
          "2024-08-20T12:32:01.512666941",
          "2024-08-20T12:32:01.589461088",
          "2024-08-20T12:32:01.634341002",
          "2024-08-20T12:32:01.695178032",
          "2024-08-20T12:32:01.761003256",
          "2024-08-20T12:32:01.821839809",
          "2024-08-20T12:32:01.885703325",
          "2024-08-20T12:32:01.950496435",
          "2024-08-20T12:32:02.016355275",
          "2024-08-20T12:32:02.079560041",
          "2024-08-20T12:32:02.147934437",
          "2024-08-20T12:32:02.205846548",
          "2024-08-20T12:32:02.270641804",
          "2024-08-20T12:32:02.344480515",
          "2024-08-20T12:32:02.461406469",
          "2024-08-20T12:32:02.517229556",
          "2024-08-20T12:32:02.564082146",
          "2024-08-20T12:32:02.629870892",
          "2024-08-20T12:32:02.699684858",
          "2024-08-20T12:32:02.746571541",
          "2024-08-20T12:32:02.795462847",
          "2024-08-20T12:32:02.853273153",
          "2024-08-20T12:32:02.914112091",
          "2024-08-20T12:32:02.973954678",
          "2024-08-20T12:32:03.051743984",
          "2024-08-20T12:32:03.102615833",
          "2024-08-20T12:32:03.168430090",
          "2024-08-20T12:32:03.248250484",
          "2024-08-20T12:32:03.296088934",
          "2024-08-20T12:32:03.361934662",
          "2024-08-20T12:32:03.423750877",
          "2024-08-20T12:32:03.487687349",
          "2024-08-20T12:32:03.550518513",
          "2024-08-20T12:32:03.618339300",
          "2024-08-20T12:32:03.692140341",
          "2024-08-20T12:32:03.742039919",
          "2024-08-20T12:32:03.805836201",
          "2024-08-20T12:32:03.872937918",
          "2024-08-20T12:32:03.934771776",
          "2024-08-20T12:32:04.138708115",
          "2024-08-20T12:32:04.162652016",
          "2024-08-20T12:32:04.215462923",
          "2024-08-20T12:32:04.261340141",
          "2024-08-20T12:32:04.305223465",
          "2024-08-20T12:32:04.367092133",
          "2024-08-20T12:32:04.410940409",
          "2024-08-20T12:32:04.457854271",
          "2024-08-20T12:32:04.517654896",
          "2024-08-20T12:32:04.580527544",
          "2024-08-20T12:32:04.637335539",
          "2024-08-20T12:32:04.706151247",
          "2024-08-20T12:32:04.765990496",
          "2024-08-20T12:32:04.830850601",
          "2024-08-20T12:32:04.894646168",
          "2024-08-20T12:32:04.958475590",
          "2024-08-20T12:32:05.028358459",
          "2024-08-20T12:32:05.090869427",
          "2024-08-20T12:32:05.155694008",
          "2024-08-20T12:32:05.220520258",
          "2024-08-20T12:32:05.280360222",
          "2024-08-20T12:32:05.344203472",
          "2024-08-20T12:32:05.416617870",
          "2024-08-20T12:32:05.473434925",
          "2024-08-20T12:32:05.533270836",
          "2024-08-20T12:32:05.599692583",
          "2024-08-20T12:32:05.668574572",
          "2024-08-20T12:32:05.727350950",
          "2024-08-20T12:32:05.791183472",
          "2024-08-20T12:32:05.854014158",
          "2024-08-20T12:32:05.924823761",
          "2024-08-20T12:32:05.983665466",
          "2024-08-20T12:32:06.046497345",
          "2024-08-20T12:32:06.113318920",
          "2024-08-20T12:32:06.185126543",
          "2024-08-20T12:32:06.244966507",
          "2024-08-20T12:32:06.305804491",
          "2024-08-20T12:32:06.427478552",
          "2024-08-20T12:32:06.476348162",
          "2024-08-20T12:32:06.519232987",
          "2024-08-20T12:32:06.580214500",
          "2024-08-20T12:32:06.640358686",
          "2024-08-20T12:32:06.689215422",
          "2024-08-20T12:32:06.750109673",
          "2024-08-20T12:32:06.817869663",
          "2024-08-20T12:32:06.883101940",
          "2024-08-20T12:32:06.941977024",
          "2024-08-20T12:32:07.051910162",
          "2024-08-20T12:32:07.107870817",
          "2024-08-20T12:32:07.159778595",
          "2024-08-20T12:32:07.225763559",
          "2024-08-20T12:32:07.280441046",
          "2024-08-20T12:32:07.327314854",
          "2024-08-20T12:32:07.392040730",
          "2024-08-20T12:32:07.453844547",
          "2024-08-20T12:32:07.519663572",
          "2024-08-20T12:32:07.585496664",
          "2024-08-20T12:32:07.646383524",
          "2024-08-20T12:32:07.712150097",
          "2024-08-20T12:32:07.776016474",
          "2024-08-20T12:32:07.839809179",
          "2024-08-20T12:32:07.902639627",
          "2024-08-20T12:32:07.965471029",
          "2024-08-20T12:32:08.032032250",
          "2024-08-20T12:32:08.093867064",
          "2024-08-20T12:32:08.167701006",
          "2024-08-20T12:32:08.227540970",
          "2024-08-20T12:32:08.295396090",
          "2024-08-20T12:32:08.349215508",
          "2024-08-20T12:32:08.416072607",
          "2024-08-20T12:32:08.480871439",
          "2024-08-20T12:32:08.542946577",
          "2024-08-20T12:32:08.606839895",
          "2024-08-20T12:32:08.670669317",
          "2024-08-20T12:32:08.748494625",
          "2024-08-20T12:32:08.810294867",
          "2024-08-20T12:32:08.870174646",
          "2024-08-20T12:32:08.929901600",
          "2024-08-20T12:32:08.990741253",
          "2024-08-20T12:32:09.054567575",
          "2024-08-20T12:32:09.119748592",
          "2024-08-20T12:32:09.183618307",
          "2024-08-20T12:32:09.246409178",
          "2024-08-20T12:32:09.310237885",
          "2024-08-20T12:32:09.376274586",
          "2024-08-20T12:32:09.444119215",
          "2024-08-20T12:32:09.505930185",
          "2024-08-20T12:32:09.570753813",
          "2024-08-20T12:32:09.633613825",
          "2024-08-20T12:32:09.695421457",
          "2024-08-20T12:32:09.758251190",
          "2024-08-20T12:32:09.823078632",
          "2024-08-20T12:32:09.892893553",
          "2024-08-20T12:32:09.950737238",
          "2024-08-20T12:32:10.014777422",
          "2024-08-20T12:32:10.086585045",
          "2024-08-20T12:32:10.141972303",
          "2024-08-20T12:32:10.210790157",
          "2024-08-20T12:32:10.270623446",
          "2024-08-20T12:32:10.334451199",
          "2024-08-20T12:32:10.401107311",
          "2024-08-20T12:32:10.475941658",
          "2024-08-20T12:32:10.526770592",
          "2024-08-20T12:32:10.592339277",
          "2024-08-20T12:32:10.654148579",
          "2024-08-20T12:32:10.718975782",
          "2024-08-20T12:32:10.782802105",
          "2024-08-20T12:32:10.848627567",
          "2024-08-20T12:32:10.910460711",
          "2024-08-20T12:32:10.977282286",
          "2024-08-20T12:32:11.039152861",
          "2024-08-20T12:32:11.103947401",
          "2024-08-20T12:32:11.167773247",
          "2024-08-20T12:32:11.229755402",
          "2024-08-20T12:32:11.300566435",
          "2024-08-20T12:32:11.360479593",
          "2024-08-20T12:32:11.429301023",
          "2024-08-20T12:32:11.491092443",
          "2024-08-20T12:32:11.549935341",
          "2024-08-20T12:32:11.614765167",
          "2024-08-20T12:32:11.678591490",
          "2024-08-20T12:32:11.881561279",
          "2024-08-20T12:32:11.898514748",
          "2024-08-20T12:32:11.957359314",
          "2024-08-20T12:32:12.000243187",
          "2024-08-20T12:32:12.059998989",
          "2024-08-20T12:32:12.107871294",
          "2024-08-20T12:32:12.150756359",
          "2024-08-20T12:32:12.212984085",
          "2024-08-20T12:32:12.266843080",
          "2024-08-20T12:32:12.333659649",
          "2024-08-20T12:32:12.400614738",
          "2024-08-20T12:32:12.452477217",
          "2024-08-20T12:32:12.509835005",
          "2024-08-20T12:32:12.584639788",
          "2024-08-20T12:32:12.639522791",
          "2024-08-20T12:32:12.704347134",
          "2024-08-20T12:32:12.766216516",
          "2024-08-20T12:32:12.831049442",
          "2024-08-20T12:32:12.897837639",
          "2024-08-20T12:32:12.957735538",
          "2024-08-20T12:32:13.023500681",
          "2024-08-20T12:32:13.087365866",
          "2024-08-20T12:32:13.162170649",
          "2024-08-20T12:32:13.215023041",
          "2024-08-20T12:32:13.280812502",
          "2024-08-20T12:32:13.341650486",
          "2024-08-20T12:32:13.405478477",
          "2024-08-20T12:32:13.470162392",
          "2024-08-20T12:32:13.536520719",
          "2024-08-20T12:32:13.601319313",
          "2024-08-20T12:32:13.662052870",
          "2024-08-20T12:32:13.725847721",
          "2024-08-20T12:32:13.791673660",
          "2024-08-20T12:32:13.853515148",
          "2024-08-20T12:32:13.930917978",
          "2024-08-20T12:32:13.993786335",
          "2024-08-20T12:32:14.059574604",
          "2024-08-20T12:32:14.110471010",
          "2024-08-20T12:32:14.175262690",
          "2024-08-20T12:32:14.239600658",
          "2024-08-20T12:32:14.304803610",
          "2024-08-20T12:32:14.370627165",
          "2024-08-20T12:32:14.430467367",
          "2024-08-20T12:32:14.494708300",
          "2024-08-20T12:32:14.558565378",
          "2024-08-20T12:32:14.631342411",
          "2024-08-20T12:32:14.685559273",
          "2024-08-20T12:32:14.750857830",
          "2024-08-20T12:32:14.813715219",
          "2024-08-20T12:32:14.879512548",
          "2024-08-20T12:32:14.945337057",
          "2024-08-20T12:32:15.009166241",
          "2024-08-20T12:32:15.070513248",
          "2024-08-20T12:32:15.136845350",
          "2024-08-20T12:32:15.243623495",
          "2024-08-20T12:32:15.292493105",
          "2024-08-20T12:32:15.336418152",
          "2024-08-20T12:32:15.403240204",
          "2024-08-20T12:32:15.460046530",
          "2024-08-20T12:32:15.519924878",
          "2024-08-20T12:32:15.582721472",
          "2024-08-20T12:32:15.646606445",
          "2024-08-20T12:32:15.718358517",
          "2024-08-20T12:32:15.777199030",
          "2024-08-20T12:32:15.840064526",
          "2024-08-20T12:32:15.907848120",
          "2024-08-20T12:32:15.965693712",
          "2024-08-20T12:32:16.031555175",
          "2024-08-20T12:32:16.096345186",
          "2024-08-20T12:32:16.159226656",
          "2024-08-20T12:32:16.222518921",
          "2024-08-20T12:32:16.286342859",
          "2024-08-20T12:32:16.351169825",
          "2024-08-20T12:32:16.413003683",
          "2024-08-20T12:32:16.480856419",
          "2024-08-20T12:32:16.542655945",
          "2024-08-20T12:32:16.610476255",
          "2024-08-20T12:32:16.670314550",
          "2024-08-20T12:32:16.734145641",
          "2024-08-20T12:32:16.799000502",
          "2024-08-20T12:32:16.881431103",
          "2024-08-20T12:32:16.929389238",
          "2024-08-20T12:32:16.989288330",
          "2024-08-20T12:32:17.056051016",
          "2024-08-20T12:32:17.117888451",
          "2024-08-20T12:32:17.183228970",
          "2024-08-20T12:32:17.246451139",
          "2024-08-20T12:32:17.311335325",
          "2024-08-20T12:32:17.374109983",
          "2024-08-20T12:32:17.440968990",
          "2024-08-20T12:32:17.502764702",
          "2024-08-20T12:32:17.568790674",
          "2024-08-20T12:32:17.629988670",
          "2024-08-20T12:32:17.707792282",
          "2024-08-20T12:32:17.769598246",
          "2024-08-20T12:32:17.823451996",
          "2024-08-20T12:32:17.886348248",
          "2024-08-20T12:32:17.957094431",
          "2024-08-20T12:32:18.015938759",
          "2024-08-20T12:32:18.084788322",
          "2024-08-20T12:32:18.142599106",
          "2024-08-20T12:32:18.207425594",
          "2024-08-20T12:32:18.270257473",
          "2024-08-20T12:32:18.335122108",
          "2024-08-20T12:32:18.399975538",
          "2024-08-20T12:32:18.470842600",
          "2024-08-20T12:32:18.525648832",
          "2024-08-20T12:32:18.590513945",
          "2024-08-20T12:32:18.657296419",
          "2024-08-20T12:32:18.718192339",
          "2024-08-20T12:32:18.782960415",
          "2024-08-20T12:32:18.847694159",
          "2024-08-20T12:32:18.910487652",
          "2024-08-20T12:32:18.975023031",
          "2024-08-20T12:32:19.037863016",
          "2024-08-20T12:32:19.103645325",
          "2024-08-20T12:32:19.172459364",
          "2024-08-20T12:32:19.240307093",
          "2024-08-20T12:32:19.297124147",
          "2024-08-20T12:32:19.359956264",
          "2024-08-20T12:32:19.425780773",
          "2024-08-20T12:32:19.623049498",
          "2024-08-20T12:32:19.641996622",
          "2024-08-20T12:32:19.698847055",
          "2024-08-20T12:32:19.756545067",
          "2024-08-20T12:32:19.804416180",
          "2024-08-20T12:32:19.850294828",
          "2024-08-20T12:32:19.894176245",
          "2024-08-20T12:32:19.955012321",
          "2024-08-20T12:32:20.001924038",
          "2024-08-20T12:32:20.070703506",
          "2024-08-20T12:32:20.132539988",
          "2024-08-20T12:32:20.191419840",
          "2024-08-20T12:32:20.262194872",
          "2024-08-20T12:32:20.322516203",
          "2024-08-20T12:32:20.387259722",
          "2024-08-20T12:32:20.446102619",
          "2024-08-20T12:32:20.520902157",
          "2024-08-20T12:32:20.584731817",
          "2024-08-20T12:32:20.653100014",
          "2024-08-20T12:32:20.706911802",
          "2024-08-20T12:32:20.771246910",
          "2024-08-20T12:32:20.832086563",
          "2024-08-20T12:32:20.895421505",
          "2024-08-20T12:32:20.959251165",
          "2024-08-20T12:32:21.024112225",
          "2024-08-20T12:32:21.086937666",
          "2024-08-20T12:32:21.150739670",
          "2024-08-20T12:32:21.215182066",
          "2024-08-20T12:32:21.288241148",
          "2024-08-20T12:32:21.342065573",
          "2024-08-20T12:32:21.407263279",
          "2024-08-20T12:32:21.483011246",
          "2024-08-20T12:32:21.532878399",
          "2024-08-20T12:32:21.599734306",
          "2024-08-20T12:32:21.667518377",
          "2024-08-20T12:32:21.730396748",
          "2024-08-20T12:32:21.791186571",
          "2024-08-20T12:32:21.855018854",
          "2024-08-20T12:32:21.920847893",
          "2024-08-20T12:32:21.982674122",
          "2024-08-20T12:32:22.189171791",
          "2024-08-20T12:32:22.202137947",
          "2024-08-20T12:32:22.256990194",
          "2024-08-20T12:32:22.320201874",
          "2024-08-20T12:32:22.365945339",
          "2024-08-20T12:32:22.409827948",
          "2024-08-20T12:32:22.457733631",
          "2024-08-20T12:32:22.516542673",
          "2024-08-20T12:32:22.564417124",
          "2024-08-20T12:32:22.622356653",
          "2024-08-20T12:32:22.687514067",
          "2024-08-20T12:32:22.750309229",
          "2024-08-20T12:32:22.818037748",
          "2024-08-20T12:32:22.886855364",
          "2024-08-20T12:32:22.941748381",
          "2024-08-20T12:32:23.005697012",
          "2024-08-20T12:32:23.077054977",
          "2024-08-20T12:32:23.133903503",
          "2024-08-20T12:32:23.235785723",
          "2024-08-20T12:32:23.298555374",
          "2024-08-20T12:32:23.360395193",
          "2024-08-20T12:32:23.415242434",
          "2024-08-20T12:32:23.455136061",
          "2024-08-20T12:32:23.520959139",
          "2024-08-20T12:32:23.591769695",
          "2024-08-20T12:32:23.645626307",
          "2024-08-20T12:32:23.709454775",
          "2024-08-20T12:32:23.781263590",
          "2024-08-20T12:32:23.837112904",
          "2024-08-20T12:32:23.903935671",
          "2024-08-20T12:32:23.965770245",
          "2024-08-20T12:32:24.034584522",
          "2024-08-20T12:32:24.102404833",
          "2024-08-20T12:32:24.158255816",
          "2024-08-20T12:32:24.223082304",
          "2024-08-20T12:32:24.300907373",
          "2024-08-20T12:32:24.357778549",
          "2024-08-20T12:32:24.416562796",
          "2024-08-20T12:32:24.479396105",
          "2024-08-20T12:32:24.543224573",
          "2024-08-20T12:32:24.606056452",
          "2024-08-20T12:32:24.671190023",
          "2024-08-20T12:32:24.737014294",
          "2024-08-20T12:32:24.801352024",
          "2024-08-20T12:32:24.864221811",
          "2024-08-20T12:32:24.932000160",
          "2024-08-20T12:32:24.992837667",
          "2024-08-20T12:32:25.054672956",
          "2024-08-20T12:32:25.118500710",
          "2024-08-20T12:32:25.195301294",
          "2024-08-20T12:32:25.253140926",
          "2024-08-20T12:32:25.311498642",
          "2024-08-20T12:32:25.375326633",
          "2024-08-20T12:32:25.440153599",
          "2024-08-20T12:32:25.641125202",
          "2024-08-20T12:32:25.657083750",
          "2024-08-20T12:32:25.720910788",
          "2024-08-20T12:32:25.765789747",
          "2024-08-20T12:32:25.811667442",
          "2024-08-20T12:32:25.873502493",
          "2024-08-20T12:32:25.917384863",
          "2024-08-20T12:32:25.965266705",
          "2024-08-20T12:32:26.015124083",
          "2024-08-20T12:32:26.081945181",
          "2024-08-20T12:32:26.143970490",
          "2024-08-20T12:32:26.207308531",
          "2024-08-20T12:32:26.277124882",
          "2024-08-20T12:32:26.335473299",
          "2024-08-20T12:32:26.399356604",
          "2024-08-20T12:32:26.469116211",
          "2024-08-20T12:32:26.526027203",
          "2024-08-20T12:32:26.599806547",
          "2024-08-20T12:32:26.662598610",
          "2024-08-20T12:32:26.719447613",
          "2024-08-20T12:32:26.787300110",
          "2024-08-20T12:32:26.846109152",
          "2024-08-20T12:32:26.909974575",
          "2024-08-20T12:32:26.982742786",
          "2024-08-20T12:32:27.039618492",
          "2024-08-20T12:32:27.109428883",
          "2024-08-20T12:32:27.168270826",
          "2024-08-20T12:32:27.244070053",
          "2024-08-20T12:32:27.300915718",
          "2024-08-20T12:32:27.358763456",
          "2024-08-20T12:32:27.430572271",
          "2024-08-20T12:32:27.495396614",
          "2024-08-20T12:32:27.552243471",
          "2024-08-20T12:32:27.618986607",
          "2024-08-20T12:32:27.679826498",
          "2024-08-20T12:32:27.744651794",
          "2024-08-20T12:32:27.811474085",
          "2024-08-20T12:32:27.871311665",
          "2024-08-20T12:32:27.938232660",
          "2024-08-20T12:32:28.007043123",
          "2024-08-20T12:32:28.066883086",
          "2024-08-20T12:32:28.126723528",
          "2024-08-20T12:32:28.193597555",
          "2024-08-20T12:32:28.260417461",
          "2024-08-20T12:32:28.320315361",
          "2024-08-20T12:32:28.384086132",
          "2024-08-20T12:32:28.446953297",
          "2024-08-20T12:32:28.518725634",
          "2024-08-20T12:32:28.576572895",
          "2024-08-20T12:32:28.641489267",
          "2024-08-20T12:32:28.702045441",
          "2024-08-20T12:32:28.767858028",
          "2024-08-20T12:32:28.830724716",
          "2024-08-20T12:32:28.896514893",
          "2024-08-20T12:32:28.961437941",
          "2024-08-20T12:32:29.023036718",
          "2024-08-20T12:32:29.086858511",
          "2024-08-20T12:32:29.150660276",
          "2024-08-20T12:32:29.214490175",
          "2024-08-20T12:32:29.280347824",
          "2024-08-20T12:32:29.347641230",
          "2024-08-20T12:32:29.408477068",
          "2024-08-20T12:32:29.473303795",
          "2024-08-20T12:32:29.534140825",
          "2024-08-20T12:32:29.603953600",
          "2024-08-20T12:32:29.662796974",
          "2024-08-20T12:32:29.728660822",
          "2024-08-20T12:32:29.829075098",
          "2024-08-20T12:32:29.855006218",
          "2024-08-20T12:32:29.918835640",
          "2024-08-20T12:32:29.984659910",
          "2024-08-20T12:32:30.048488617",
          "2024-08-20T12:32:30.111320496",
          "2024-08-20T12:32:30.174177170",
          "2024-08-20T12:32:30.241478205",
          "2024-08-20T12:32:30.304310322",
          "2024-08-20T12:32:30.367180586",
          "2024-08-20T12:32:30.433924198",
          "2024-08-20T12:32:30.496754646",
          "2024-08-20T12:32:30.561550379",
          "2024-08-20T12:32:30.623412132",
          "2024-08-20T12:32:30.686249495",
          "2024-08-20T12:32:30.753970623",
          "2024-08-20T12:32:30.815323591",
          "2024-08-20T12:32:30.879150867",
          "2024-08-20T12:32:30.955455780",
          "2024-08-20T12:32:31.006345749",
          "2024-08-20T12:32:31.084110022",
          "2024-08-20T12:32:31.133013964",
          "2024-08-20T12:32:31.203535080",
          "2024-08-20T12:32:31.271354437",
          "2024-08-20T12:32:31.326326847",
          "2024-08-20T12:32:31.408055782",
          "2024-08-20T12:32:31.458920002",
          "2024-08-20T12:32:31.552667856",
          "2024-08-20T12:32:31.591563702",
          "2024-08-20T12:32:31.650408030",
          "2024-08-20T12:32:31.710282564",
          "2024-08-20T12:32:31.776070833",
          "2024-08-20T12:32:31.837939978",
          "2024-08-20T12:32:31.907718420",
          "2024-08-20T12:32:31.973545551",
          "2024-08-20T12:32:32.030505180",
          "2024-08-20T12:32:32.096329927",
          "2024-08-20T12:32:32.159909010",
          "2024-08-20T12:32:32.223783493",
          "2024-08-20T12:32:32.285617352",
          "2024-08-20T12:32:32.355093002",
          "2024-08-20T12:32:32.423932314",
          "2024-08-20T12:32:32.477780581",
          "2024-08-20T12:32:32.545111179",
          "2024-08-20T12:32:32.610616684",
          "2024-08-20T12:32:32.672452688",
          "2024-08-20T12:32:32.738783121",
          "2024-08-20T12:32:32.800617695",
          "2024-08-20T12:32:32.862452507",
          "2024-08-20T12:32:32.927278280",
          "2024-08-20T12:32:32.991107702",
          "2024-08-20T12:32:33.061918974",
          "2024-08-20T12:32:33.117813110",
          "2024-08-20T12:32:33.183628321",
          "2024-08-20T12:32:33.247426987",
          "2024-08-20T12:32:33.313245773",
          "2024-08-20T12:32:33.376078844",
          "2024-08-20T12:32:33.437913418",
          "2024-08-20T12:32:33.507761955",
          "2024-08-20T12:32:33.566568375",
          "2024-08-20T12:32:33.630432606",
          "2024-08-20T12:32:33.696256876",
          "2024-08-20T12:32:33.763337374",
          "2024-08-20T12:32:33.823216915",
          "2024-08-20T12:32:33.886786699",
          "2024-08-20T12:32:33.951614380",
          "2024-08-20T12:32:34.019431353",
          "2024-08-20T12:32:34.080267668",
          "2024-08-20T12:32:34.142103195",
          "2024-08-20T12:32:34.208925486",
          "2024-08-20T12:32:34.270759106",
          "2024-08-20T12:32:34.334587574",
          "2024-08-20T12:32:34.409389973",
          "2024-08-20T12:32:34.463746071",
          "2024-08-20T12:32:34.525631427",
          "2024-08-20T12:32:34.590441942",
          "2024-08-20T12:32:34.672589302",
          "2024-08-20T12:32:34.718495369",
          "2024-08-20T12:32:34.784605265",
          "2024-08-20T12:32:34.845502377",
          "2024-08-20T12:32:34.915297985",
          "2024-08-20T12:32:34.976535082",
          "2024-08-20T12:32:35.038368940",
          "2024-08-20T12:32:35.101213455",
          "2024-08-20T12:32:35.170028687",
          "2024-08-20T12:32:35.229869604",
          "2024-08-20T12:32:35.296691179",
          "2024-08-20T12:32:35.365506649",
          "2024-08-20T12:32:35.421391964",
          "2024-08-20T12:32:35.489713669",
          "2024-08-20T12:32:35.550548553",
          "2024-08-20T12:32:35.615374088",
          "2024-08-20T12:32:35.679830551",
          "2024-08-20T12:32:35.741671562",
          "2024-08-20T12:32:35.821450710",
          "2024-08-20T12:32:35.875407696",
          "2024-08-20T12:32:35.934213400",
          "2024-08-20T12:32:35.999787569",
          "2024-08-20T12:32:36.072578192",
          "2024-08-20T12:32:36.127431630",
          "2024-08-20T12:32:36.198305845",
          "2024-08-20T12:32:36.259132385",
          "2024-08-20T12:32:36.320932627",
          "2024-08-20T12:32:36.381804943",
          "2024-08-20T12:32:36.446623564",
          "2024-08-20T12:32:36.520399332",
          "2024-08-20T12:32:36.578244925",
          "2024-08-20T12:32:36.646062136",
          "2024-08-20T12:32:36.707958698",
          "2024-08-20T12:32:36.768796206",
          "2024-08-20T12:32:36.829632759",
          "2024-08-20T12:32:36.895457745",
          "2024-08-20T12:32:36.961305380",
          "2024-08-20T12:32:37.027129889",
          "2024-08-20T12:32:37.094947815",
          "2024-08-20T12:32:37.150824547",
          "2024-08-20T12:32:37.228126764",
          "2024-08-20T12:32:37.278991222",
          "2024-08-20T12:32:37.345320702",
          "2024-08-20T12:32:37.412676811",
          "2024-08-20T12:32:37.476505041",
          "2024-08-20T12:32:37.534350395",
          "2024-08-20T12:32:37.598179579",
          "2024-08-20T12:32:37.665997982",
          "2024-08-20T12:32:37.730824471",
          "2024-08-20T12:32:37.793656349",
          "2024-08-20T12:32:37.855490446",
          "2024-08-20T12:32:37.923312902",
          "2024-08-20T12:32:37.984147787",
          "2024-08-20T12:32:38.045563459",
          "2024-08-20T12:32:38.111385584",
          "2024-08-20T12:32:38.179205894",
          "2024-08-20T12:32:38.238048077",
          "2024-08-20T12:32:38.304870605",
          "2024-08-20T12:32:38.370692492",
          "2024-08-20T12:32:38.430532455",
          "2024-08-20T12:32:38.496356726",
          "2024-08-20T12:32:38.569162130",
          "2024-08-20T12:32:38.633988142",
          "2024-08-20T12:32:38.691833019",
          "2024-08-20T12:32:38.750226259",
          "2024-08-20T12:32:38.815091372",
          "2024-08-20T12:32:38.885902166",
          "2024-08-20T12:32:38.943747044",
          "2024-08-20T12:32:39.007613659",
          "2024-08-20T12:32:39.073400497",
          "2024-08-20T12:32:39.143213987",
          "2024-08-20T12:32:39.201062202",
          "2024-08-20T12:32:39.264887571",
          "2024-08-20T12:32:39.331712246"
         ],
         "xaxis": "x2",
         "y": {
          "bdata": "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",
          "dtype": "f8"
         },
         "yaxis": "y2"
        },
        {
         "marker": {
          "color": "lightcoral"
         },
         "name": "Distribution",
         "nbinsx": 30,
         "opacity": 0.7,
         "type": "histogram",
         "x": {
          "bdata": "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",
          "dtype": "f8"
         },
         "xaxis": "x3",
         "yaxis": "y3"
        },
        {
         "line": {
          "color": "lightcoral",
          "width": 1
         },
         "mode": "lines",
         "name": "Raw",
         "opacity": 0.5,
         "type": "scatter",
         "x": {
          "bdata": "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",
          "dtype": "i2"
         },
         "xaxis": "x4",
         "y": {
          "bdata": "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",
          "dtype": "f8"
         },
         "yaxis": "y4"
        },
        {
         "line": {
          "color": "darkred",
          "width": 3
         },
         "mode": "lines",
         "name": "Smoothed (n=52)",
         "type": "scatter",
         "x": {
          "bdata": "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",
          "dtype": "i2"
         },
         "xaxis": "x4",
         "y": {
          "bdata": "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",
          "dtype": "f8"
         },
         "yaxis": "y4"
        }
       ],
       "layout": {
        "annotations": [
         {
          "font": {
           "size": 16
          },
          "showarrow": false,
          "text": "Distance vs Frame Index",
          "x": 0.225,
          "xanchor": "center",
          "xref": "paper",
          "y": 1,
          "yanchor": "bottom",
          "yref": "paper"
         },
         {
          "font": {
           "size": 16
          },
          "showarrow": false,
          "text": "Distance vs Time",
          "x": 0.775,
          "xanchor": "center",
          "xref": "paper",
          "y": 1,
          "yanchor": "bottom",
          "yref": "paper"
         },
         {
          "font": {
           "size": 16
          },
          "showarrow": false,
          "text": "Distance Distribution",
          "x": 0.225,
          "xanchor": "center",
          "xref": "paper",
          "y": 0.375,
          "yanchor": "bottom",
          "yref": "paper"
         },
         {
          "font": {
           "size": 16
          },
          "showarrow": false,
          "text": "Distance Trends",
          "x": 0.775,
          "xanchor": "center",
          "xref": "paper",
          "y": 0.375,
          "yanchor": "bottom",
          "yref": "paper"
         },
         {
          "showarrow": false,
          "text": "Mean: 2.04meters",
          "x": 2.0371957532720266,
          "xanchor": "left",
          "xref": "x3",
          "y": 1,
          "yanchor": "top",
          "yref": "y3 domain"
         }
        ],
        "height": 800,
        "shapes": [
         {
          "line": {
           "color": "red",
           "dash": "dash"
          },
          "type": "line",
          "x0": 2.0371957532720266,
          "x1": 2.0371957532720266,
          "xref": "x3",
          "y0": 0,
          "y1": 1,
          "yref": "y3 domain"
         }
        ],
        "showlegend": true,
        "template": {
         "data": {
          "bar": [
           {
            "error_x": {
             "color": "#2a3f5f"
            },
            "error_y": {
             "color": "#2a3f5f"
            },
            "marker": {
             "line": {
              "color": "#E5ECF6",
              "width": 0.5
             },
             "pattern": {
              "fillmode": "overlay",
              "size": 10,
              "solidity": 0.2
             }
            },
            "type": "bar"
           }
          ],
          "barpolar": [
           {
            "marker": {
             "line": {
              "color": "#E5ECF6",
              "width": 0.5
             },
             "pattern": {
              "fillmode": "overlay",
              "size": 10,
              "solidity": 0.2
             }
            },
            "type": "barpolar"
           }
          ],
          "carpet": [
           {
            "aaxis": {
             "endlinecolor": "#2a3f5f",
             "gridcolor": "white",
             "linecolor": "white",
             "minorgridcolor": "white",
             "startlinecolor": "#2a3f5f"
            },
            "baxis": {
             "endlinecolor": "#2a3f5f",
             "gridcolor": "white",
             "linecolor": "white",
             "minorgridcolor": "white",
             "startlinecolor": "#2a3f5f"
            },
            "type": "carpet"
           }
          ],
          "choropleth": [
           {
            "colorbar": {
             "outlinewidth": 0,
             "ticks": ""
            },
            "type": "choropleth"
           }
          ],
          "contour": [
           {
            "colorbar": {
             "outlinewidth": 0,
             "ticks": ""
            },
            "colorscale": [
             [
              0,
              "#0d0887"
             ],
             [
              0.1111111111111111,
              "#46039f"
             ],
             [
              0.2222222222222222,
              "#7201a8"
             ],
             [
              0.3333333333333333,
              "#9c179e"
             ],
             [
              0.4444444444444444,
              "#bd3786"
             ],
             [
              0.5555555555555556,
              "#d8576b"
             ],
             [
              0.6666666666666666,
              "#ed7953"
             ],
             [
              0.7777777777777778,
              "#fb9f3a"
             ],
             [
              0.8888888888888888,
              "#fdca26"
             ],
             [
              1,
              "#f0f921"
             ]
            ],
            "type": "contour"
           }
          ],
          "contourcarpet": [
           {
            "colorbar": {
             "outlinewidth": 0,
             "ticks": ""
            },
            "type": "contourcarpet"
           }
          ],
          "heatmap": [
           {
            "colorbar": {
             "outlinewidth": 0,
             "ticks": ""
            },
            "colorscale": [
             [
              0,
              "#0d0887"
             ],
             [
              0.1111111111111111,
              "#46039f"
             ],
             [
              0.2222222222222222,
              "#7201a8"
             ],
             [
              0.3333333333333333,
              "#9c179e"
             ],
             [
              0.4444444444444444,
              "#bd3786"
             ],
             [
              0.5555555555555556,
              "#d8576b"
             ],
             [
              0.6666666666666666,
              "#ed7953"
             ],
             [
              0.7777777777777778,
              "#fb9f3a"
             ],
             [
              0.8888888888888888,
              "#fdca26"
             ],
             [
              1,
              "#f0f921"
             ]
            ],
            "type": "heatmap"
           }
          ],
          "histogram": [
           {
            "marker": {
             "pattern": {
              "fillmode": "overlay",
              "size": 10,
              "solidity": 0.2
             }
            },
            "type": "histogram"
           }
          ],
          "histogram2d": [
           {
            "colorbar": {
             "outlinewidth": 0,
             "ticks": ""
            },
            "colorscale": [
             [
              0,
              "#0d0887"
             ],
             [
              0.1111111111111111,
              "#46039f"
             ],
             [
              0.2222222222222222,
              "#7201a8"
             ],
             [
              0.3333333333333333,
              "#9c179e"
             ],
             [
              0.4444444444444444,
              "#bd3786"
             ],
             [
              0.5555555555555556,
              "#d8576b"
             ],
             [
              0.6666666666666666,
              "#ed7953"
             ],
             [
              0.7777777777777778,
              "#fb9f3a"
             ],
             [
              0.8888888888888888,
              "#fdca26"
             ],
             [
              1,
              "#f0f921"
             ]
            ],
            "type": "histogram2d"
           }
          ],
          "histogram2dcontour": [
           {
            "colorbar": {
             "outlinewidth": 0,
             "ticks": ""
            },
            "colorscale": [
             [
              0,
              "#0d0887"
             ],
             [
              0.1111111111111111,
              "#46039f"
             ],
             [
              0.2222222222222222,
              "#7201a8"
             ],
             [
              0.3333333333333333,
              "#9c179e"
             ],
             [
              0.4444444444444444,
              "#bd3786"
             ],
             [
              0.5555555555555556,
              "#d8576b"
             ],
             [
              0.6666666666666666,
              "#ed7953"
             ],
             [
              0.7777777777777778,
              "#fb9f3a"
             ],
             [
              0.8888888888888888,
              "#fdca26"
             ],
             [
              1,
              "#f0f921"
             ]
            ],
            "type": "histogram2dcontour"
           }
          ],
          "mesh3d": [
           {
            "colorbar": {
             "outlinewidth": 0,
             "ticks": ""
            },
            "type": "mesh3d"
           }
          ],
          "parcoords": [
           {
            "line": {
             "colorbar": {
              "outlinewidth": 0,
              "ticks": ""
             }
            },
            "type": "parcoords"
           }
          ],
          "pie": [
           {
            "automargin": true,
            "type": "pie"
           }
          ],
          "scatter": [
           {
            "fillpattern": {
             "fillmode": "overlay",
             "size": 10,
             "solidity": 0.2
            },
            "type": "scatter"
           }
          ],
          "scatter3d": [
           {
            "line": {
             "colorbar": {
              "outlinewidth": 0,
              "ticks": ""
             }
            },
            "marker": {
             "colorbar": {
              "outlinewidth": 0,
              "ticks": ""
             }
            },
            "type": "scatter3d"
           }
          ],
          "scattercarpet": [
           {
            "marker": {
             "colorbar": {
              "outlinewidth": 0,
              "ticks": ""
             }
            },
            "type": "scattercarpet"
           }
          ],
          "scattergeo": [
           {
            "marker": {
             "colorbar": {
              "outlinewidth": 0,
              "ticks": ""
             }
            },
            "type": "scattergeo"
           }
          ],
          "scattergl": [
           {
            "marker": {
             "colorbar": {
              "outlinewidth": 0,
              "ticks": ""
             }
            },
            "type": "scattergl"
           }
          ],
          "scattermap": [
           {
            "marker": {
             "colorbar": {
              "outlinewidth": 0,
              "ticks": ""
             }
            },
            "type": "scattermap"
           }
          ],
          "scattermapbox": [
           {
            "marker": {
             "colorbar": {
              "outlinewidth": 0,
              "ticks": ""
             }
            },
            "type": "scattermapbox"
           }
          ],
          "scatterpolar": [
           {
            "marker": {
             "colorbar": {
              "outlinewidth": 0,
              "ticks": ""
             }
            },
            "type": "scatterpolar"
           }
          ],
          "scatterpolargl": [
           {
            "marker": {
             "colorbar": {
              "outlinewidth": 0,
              "ticks": ""
             }
            },
            "type": "scatterpolargl"
           }
          ],
          "scatterternary": [
           {
            "marker": {
             "colorbar": {
              "outlinewidth": 0,
              "ticks": ""
             }
            },
            "type": "scatterternary"
           }
          ],
          "surface": [
           {
            "colorbar": {
             "outlinewidth": 0,
             "ticks": ""
            },
            "colorscale": [
             [
              0,
              "#0d0887"
             ],
             [
              0.1111111111111111,
              "#46039f"
             ],
             [
              0.2222222222222222,
              "#7201a8"
             ],
             [
              0.3333333333333333,
              "#9c179e"
             ],
             [
              0.4444444444444444,
              "#bd3786"
             ],
             [
              0.5555555555555556,
              "#d8576b"
             ],
             [
              0.6666666666666666,
              "#ed7953"
             ],
             [
              0.7777777777777778,
              "#fb9f3a"
             ],
             [
              0.8888888888888888,
              "#fdca26"
             ],
             [
              1,
              "#f0f921"
             ]
            ],
            "type": "surface"
           }
          ],
          "table": [
           {
            "cells": {
             "fill": {
              "color": "#EBF0F8"
             },
             "line": {
              "color": "white"
             }
            },
            "header": {
             "fill": {
              "color": "#C8D4E3"
             },
             "line": {
              "color": "white"
             }
            },
            "type": "table"
           }
          ]
         },
         "layout": {
          "annotationdefaults": {
           "arrowcolor": "#2a3f5f",
           "arrowhead": 0,
           "arrowwidth": 1
          },
          "autotypenumbers": "strict",
          "coloraxis": {
           "colorbar": {
            "outlinewidth": 0,
            "ticks": ""
           }
          },
          "colorscale": {
           "diverging": [
            [
             0,
             "#8e0152"
            ],
            [
             0.1,
             "#c51b7d"
            ],
            [
             0.2,
             "#de77ae"
            ],
            [
             0.3,
             "#f1b6da"
            ],
            [
             0.4,
             "#fde0ef"
            ],
            [
             0.5,
             "#f7f7f7"
            ],
            [
             0.6,
             "#e6f5d0"
            ],
            [
             0.7,
             "#b8e186"
            ],
            [
             0.8,
             "#7fbc41"
            ],
            [
             0.9,
             "#4d9221"
            ],
            [
             1,
             "#276419"
            ]
           ],
           "sequential": [
            [
             0,
             "#0d0887"
            ],
            [
             0.1111111111111111,
             "#46039f"
            ],
            [
             0.2222222222222222,
             "#7201a8"
            ],
            [
             0.3333333333333333,
             "#9c179e"
            ],
            [
             0.4444444444444444,
             "#bd3786"
            ],
            [
             0.5555555555555556,
             "#d8576b"
            ],
            [
             0.6666666666666666,
             "#ed7953"
            ],
            [
             0.7777777777777778,
             "#fb9f3a"
            ],
            [
             0.8888888888888888,
             "#fdca26"
            ],
            [
             1,
             "#f0f921"
            ]
           ],
           "sequentialminus": [
            [
             0,
             "#0d0887"
            ],
            [
             0.1111111111111111,
             "#46039f"
            ],
            [
             0.2222222222222222,
             "#7201a8"
            ],
            [
             0.3333333333333333,
             "#9c179e"
            ],
            [
             0.4444444444444444,
             "#bd3786"
            ],
            [
             0.5555555555555556,
             "#d8576b"
            ],
            [
             0.6666666666666666,
             "#ed7953"
            ],
            [
             0.7777777777777778,
             "#fb9f3a"
            ],
            [
             0.8888888888888888,
             "#fdca26"
            ],
            [
             1,
             "#f0f921"
            ]
           ]
          },
          "colorway": [
           "#636efa",
           "#EF553B",
           "#00cc96",
           "#ab63fa",
           "#FFA15A",
           "#19d3f3",
           "#FF6692",
           "#B6E880",
           "#FF97FF",
           "#FECB52"
          ],
          "font": {
           "color": "#2a3f5f"
          },
          "geo": {
           "bgcolor": "white",
           "lakecolor": "white",
           "landcolor": "#E5ECF6",
           "showlakes": true,
           "showland": true,
           "subunitcolor": "white"
          },
          "hoverlabel": {
           "align": "left"
          },
          "hovermode": "closest",
          "mapbox": {
           "style": "light"
          },
          "paper_bgcolor": "white",
          "plot_bgcolor": "#E5ECF6",
          "polar": {
           "angularaxis": {
            "gridcolor": "white",
            "linecolor": "white",
            "ticks": ""
           },
           "bgcolor": "#E5ECF6",
           "radialaxis": {
            "gridcolor": "white",
            "linecolor": "white",
            "ticks": ""
           }
          },
          "scene": {
           "xaxis": {
            "backgroundcolor": "#E5ECF6",
            "gridcolor": "white",
            "gridwidth": 2,
            "linecolor": "white",
            "showbackground": true,
            "ticks": "",
            "zerolinecolor": "white"
           },
           "yaxis": {
            "backgroundcolor": "#E5ECF6",
            "gridcolor": "white",
            "gridwidth": 2,
            "linecolor": "white",
            "showbackground": true,
            "ticks": "",
            "zerolinecolor": "white"
           },
           "zaxis": {
            "backgroundcolor": "#E5ECF6",
            "gridcolor": "white",
            "gridwidth": 2,
            "linecolor": "white",
            "showbackground": true,
            "ticks": "",
            "zerolinecolor": "white"
           }
          },
          "shapedefaults": {
           "line": {
            "color": "#2a3f5f"
           }
          },
          "ternary": {
           "aaxis": {
            "gridcolor": "white",
            "linecolor": "white",
            "ticks": ""
           },
           "baxis": {
            "gridcolor": "white",
            "linecolor": "white",
            "ticks": ""
           },
           "bgcolor": "#E5ECF6",
           "caxis": {
            "gridcolor": "white",
            "linecolor": "white",
            "ticks": ""
           }
          },
          "title": {
           "x": 0.05
          },
          "xaxis": {
           "automargin": true,
           "gridcolor": "white",
           "linecolor": "white",
           "ticks": "",
           "title": {
            "standoff": 15
           },
           "zerolinecolor": "white",
           "zerolinewidth": 2
          },
          "yaxis": {
           "automargin": true,
           "gridcolor": "white",
           "linecolor": "white",
           "ticks": "",
           "title": {
            "standoff": 15
           },
           "zerolinecolor": "white",
           "zerolinewidth": 2
          }
         }
        },
        "title": {
         "text": "Real-World Distance Analysis"
        },
        "xaxis": {
         "anchor": "y",
         "domain": [
          0,
          0.45
         ],
         "title": {
          "text": "Frame Index"
         }
        },
        "xaxis2": {
         "anchor": "y2",
         "domain": [
          0.55,
          1
         ],
         "title": {
          "text": "Time"
         }
        },
        "xaxis3": {
         "anchor": "y3",
         "domain": [
          0,
          0.45
         ],
         "title": {
          "text": "Distance (meters)"
         }
        },
        "xaxis4": {
         "anchor": "y4",
         "domain": [
          0.55,
          1
         ],
         "title": {
          "text": "Frame Index"
         }
        },
        "yaxis": {
         "anchor": "x",
         "domain": [
          0.625,
          1
         ],
         "title": {
          "text": "Distance (meters)"
         }
        },
        "yaxis2": {
         "anchor": "x2",
         "domain": [
          0.625,
          1
         ],
         "title": {
          "text": "Distance (meters)"
         }
        },
        "yaxis3": {
         "anchor": "x3",
         "domain": [
          0,
          0.375
         ],
         "title": {
          "text": "Frequency"
         }
        },
        "yaxis4": {
         "anchor": "x4",
         "domain": [
          0,
          0.375
         ],
         "title": {
          "text": "Distance (meters)"
         }
        }
       }
      }
     },
     "metadata": {},
     "output_type": "display_data"
    }
   ],
   "source": [
    "iau.VisualizationEngine.plot_distance_analysis(distance_results, \"Real-World Distance Analysis\")"
   ]
  },
  {
   "cell_type": "code",
   "execution_count": 8,
   "id": "c10a8be6",
   "metadata": {},
   "outputs": [
    {
     "name": "stdout",
     "output_type": "stream",
     "text": [
      " LOADING ALL DISTANCE DATA FOR BAG: 2024-08-20_14-31-29\n",
      "============================================================\n",
      "📡 1. Loading Navigation Data...\n",
      "    Loaded 559 navigation records\n",
      "    NetPitch data available: 559 valid records\n",
      "📡 2. Loading Guidance Data...\n",
      "    Loaded 549 guidance records with ['error_net_distance', 'desired_net_distance', 'r_net_distance_d']\n",
      "📡 3. Loading DVL Altimeter...\n",
      "    DVL altimeter file not found\n",
      " 4. Loading USBL...\n",
      "    Loaded 33 USBL records\n",
      "📡 5. Loading DVL Position...\n",
      "    Loaded 283 DVL position records\n",
      " 6. Loading Navigation Position...\n",
      "    Loaded 278 navigation position records\n",
      "📡 7. Loading INS Z Position...\n",
      "    INS file not found\n",
      "\n",
      " LOADING SUMMARY:\n",
      "    Target bag: 2024-08-20_14-31-29\n",
      "    Raw data loaded: 2/2\n",
      "    Distance measurements: 4\n",
      "\n",
      " RAW DATA LOADED:\n",
      "    navigation: 559 records\n",
      "    guidance: 549 records\n",
      "\n",
      " DISTANCE MEASUREMENTS LOADED:\n",
      "    USBL_3D: 33 records - 3D acoustic position\n",
      "    USBL_Depth: 33 records - USBL depth measurement\n",
      "    DVL_Position: 283 records - 3D DVL position\n",
      "    Nav_Position: 278 records - 2D navigation position\n"
     ]
    }
   ],
   "source": [
    "# COMPARISON: SONAR vs DVL DISTANCE MEASUREMENTS\n",
    "# =================================================\n",
    "import utils.net_distance_analysis as sda\n",
    "\n",
    "# IMPORTANT: Pass the by_bag folder, not just the exports root\n",
    "# The function expects the folder containing the CSV files\n",
    "from utils.sonar_config import EXPORTS_SUBDIRS\n",
    "BY_BAG_FOLDER = EXPORTS_FOLDER / EXPORTS_SUBDIRS.get('by_bag', 'by_bag')\n",
    "\n",
    "# Load all distance data for the target bag\n",
    "raw_data, distance_measurements = sda.load_all_distance_data_for_bag(TARGET_BAG, BY_BAG_FOLDER)\n",
    "\n",
    "# Display what we loaded\n",
    "print(f\"\\n RAW DATA LOADED:\")\n",
    "for key, data in raw_data.items():\n",
    "    if data is not None:\n",
    "        print(f\"    {key}: {len(data)} records\")\n",
    "    else:\n",
    "        print(f\"    {key}: None\")\n",
    "\n",
    "print(f\"\\n DISTANCE MEASUREMENTS LOADED:\")\n",
    "for key, info in distance_measurements.items():\n",
    "    data_len = len(info['data'])\n",
    "    print(f\"    {key}: {data_len} records - {info['description']}\")"
   ]
  },
  {
   "cell_type": "code",
   "execution_count": 9,
   "id": "0375375e",
   "metadata": {},
   "outputs": [
    {
     "name": "stdout",
     "output_type": "stream",
     "text": [
      "\n",
      "SONAR vs DVL COMPARISON STATISTICS:\n",
      "==================================================\n",
      "Sonar mean distance: 2.037 m\n",
      "DVL mean distance:   1.968 m\n",
      "Scale ratio (Sonar/DVL): 1.035x\n",
      "Sonar mean pitch:    10.04°\n",
      "DVL mean pitch:      5.07°\n",
      "Pitch difference:    4.97°\n",
      "Sonar duration: 67.1s (1059 frames)\n",
      "DVL duration:   67.0s (559 records)\n"
     ]
    },
    {
     "data": {
      "application/vnd.plotly.v1+json": {
       "config": {
        "plotlyServerURL": "https://plot.ly"
       },
       "data": [
        {
         "line": {
          "color": "red",
          "width": 3
         },
         "mode": "lines",
         "name": "Sonar Distance",
         "type": "scatter",
         "x": {
          "bdata": "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",
          "dtype": "f8"
         },
         "xaxis": "x",
         "y": {
          "bdata": "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",
          "dtype": "f8"
         },
         "yaxis": "y"
        },
        {
         "line": {
          "color": "blue",
          "width": 3
         },
         "mode": "lines",
         "name": "DVL Distance",
         "type": "scatter",
         "x": {
          "bdata": "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",
          "dtype": "f8"
         },
         "xaxis": "x",
         "y": {
          "bdata": "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",
          "dtype": "f8"
         },
         "yaxis": "y"
        },
        {
         "line": {
          "color": "orange",
          "width": 3
         },
         "mode": "lines",
         "name": "Sonar Pitch",
         "type": "scatter",
         "x": {
          "bdata": "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",
          "dtype": "f8"
         },
         "xaxis": "x2",
         "y": {
          "bdata": "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",
          "dtype": "f8"
         },
         "yaxis": "y2"
        },
        {
         "line": {
          "color": "green",
          "width": 3
         },
         "mode": "lines",
         "name": "DVL Pitch",
         "type": "scatter",
         "x": {
          "bdata": "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",
          "dtype": "f8"
         },
         "xaxis": "x2",
         "y": {
          "bdata": "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",
          "dtype": "f8"
         },
         "yaxis": "y2"
        }
       ],
       "layout": {
        "annotations": [
         {
          "font": {
           "size": 16
          },
          "showarrow": false,
          "text": "Distance Comparison",
          "x": 0.5,
          "xanchor": "center",
          "xref": "paper",
          "y": 1,
          "yanchor": "bottom",
          "yref": "paper"
         },
         {
          "font": {
           "size": 16
          },
          "showarrow": false,
          "text": "Pitch Comparison",
          "x": 0.5,
          "xanchor": "center",
          "xref": "paper",
          "y": 0.375,
          "yanchor": "bottom",
          "yref": "paper"
         }
        ],
        "height": 800,
        "hovermode": "x unified",
        "template": {
         "data": {
          "bar": [
           {
            "error_x": {
             "color": "#2a3f5f"
            },
            "error_y": {
             "color": "#2a3f5f"
            },
            "marker": {
             "line": {
              "color": "#E5ECF6",
              "width": 0.5
             },
             "pattern": {
              "fillmode": "overlay",
              "size": 10,
              "solidity": 0.2
             }
            },
            "type": "bar"
           }
          ],
          "barpolar": [
           {
            "marker": {
             "line": {
              "color": "#E5ECF6",
              "width": 0.5
             },
             "pattern": {
              "fillmode": "overlay",
              "size": 10,
              "solidity": 0.2
             }
            },
            "type": "barpolar"
           }
          ],
          "carpet": [
           {
            "aaxis": {
             "endlinecolor": "#2a3f5f",
             "gridcolor": "white",
             "linecolor": "white",
             "minorgridcolor": "white",
             "startlinecolor": "#2a3f5f"
            },
            "baxis": {
             "endlinecolor": "#2a3f5f",
             "gridcolor": "white",
             "linecolor": "white",
             "minorgridcolor": "white",
             "startlinecolor": "#2a3f5f"
            },
            "type": "carpet"
           }
          ],
          "choropleth": [
           {
            "colorbar": {
             "outlinewidth": 0,
             "ticks": ""
            },
            "type": "choropleth"
           }
          ],
          "contour": [
           {
            "colorbar": {
             "outlinewidth": 0,
             "ticks": ""
            },
            "colorscale": [
             [
              0,
              "#0d0887"
             ],
             [
              0.1111111111111111,
              "#46039f"
             ],
             [
              0.2222222222222222,
              "#7201a8"
             ],
             [
              0.3333333333333333,
              "#9c179e"
             ],
             [
              0.4444444444444444,
              "#bd3786"
             ],
             [
              0.5555555555555556,
              "#d8576b"
             ],
             [
              0.6666666666666666,
              "#ed7953"
             ],
             [
              0.7777777777777778,
              "#fb9f3a"
             ],
             [
              0.8888888888888888,
              "#fdca26"
             ],
             [
              1,
              "#f0f921"
             ]
            ],
            "type": "contour"
           }
          ],
          "contourcarpet": [
           {
            "colorbar": {
             "outlinewidth": 0,
             "ticks": ""
            },
            "type": "contourcarpet"
           }
          ],
          "heatmap": [
           {
            "colorbar": {
             "outlinewidth": 0,
             "ticks": ""
            },
            "colorscale": [
             [
              0,
              "#0d0887"
             ],
             [
              0.1111111111111111,
              "#46039f"
             ],
             [
              0.2222222222222222,
              "#7201a8"
             ],
             [
              0.3333333333333333,
              "#9c179e"
             ],
             [
              0.4444444444444444,
              "#bd3786"
             ],
             [
              0.5555555555555556,
              "#d8576b"
             ],
             [
              0.6666666666666666,
              "#ed7953"
             ],
             [
              0.7777777777777778,
              "#fb9f3a"
             ],
             [
              0.8888888888888888,
              "#fdca26"
             ],
             [
              1,
              "#f0f921"
             ]
            ],
            "type": "heatmap"
           }
          ],
          "histogram": [
           {
            "marker": {
             "pattern": {
              "fillmode": "overlay",
              "size": 10,
              "solidity": 0.2
             }
            },
            "type": "histogram"
           }
          ],
          "histogram2d": [
           {
            "colorbar": {
             "outlinewidth": 0,
             "ticks": ""
            },
            "colorscale": [
             [
              0,
              "#0d0887"
             ],
             [
              0.1111111111111111,
              "#46039f"
             ],
             [
              0.2222222222222222,
              "#7201a8"
             ],
             [
              0.3333333333333333,
              "#9c179e"
             ],
             [
              0.4444444444444444,
              "#bd3786"
             ],
             [
              0.5555555555555556,
              "#d8576b"
             ],
             [
              0.6666666666666666,
              "#ed7953"
             ],
             [
              0.7777777777777778,
              "#fb9f3a"
             ],
             [
              0.8888888888888888,
              "#fdca26"
             ],
             [
              1,
              "#f0f921"
             ]
            ],
            "type": "histogram2d"
           }
          ],
          "histogram2dcontour": [
           {
            "colorbar": {
             "outlinewidth": 0,
             "ticks": ""
            },
            "colorscale": [
             [
              0,
              "#0d0887"
             ],
             [
              0.1111111111111111,
              "#46039f"
             ],
             [
              0.2222222222222222,
              "#7201a8"
             ],
             [
              0.3333333333333333,
              "#9c179e"
             ],
             [
              0.4444444444444444,
              "#bd3786"
             ],
             [
              0.5555555555555556,
              "#d8576b"
             ],
             [
              0.6666666666666666,
              "#ed7953"
             ],
             [
              0.7777777777777778,
              "#fb9f3a"
             ],
             [
              0.8888888888888888,
              "#fdca26"
             ],
             [
              1,
              "#f0f921"
             ]
            ],
            "type": "histogram2dcontour"
           }
          ],
          "mesh3d": [
           {
            "colorbar": {
             "outlinewidth": 0,
             "ticks": ""
            },
            "type": "mesh3d"
           }
          ],
          "parcoords": [
           {
            "line": {
             "colorbar": {
              "outlinewidth": 0,
              "ticks": ""
             }
            },
            "type": "parcoords"
           }
          ],
          "pie": [
           {
            "automargin": true,
            "type": "pie"
           }
          ],
          "scatter": [
           {
            "fillpattern": {
             "fillmode": "overlay",
             "size": 10,
             "solidity": 0.2
            },
            "type": "scatter"
           }
          ],
          "scatter3d": [
           {
            "line": {
             "colorbar": {
              "outlinewidth": 0,
              "ticks": ""
             }
            },
            "marker": {
             "colorbar": {
              "outlinewidth": 0,
              "ticks": ""
             }
            },
            "type": "scatter3d"
           }
          ],
          "scattercarpet": [
           {
            "marker": {
             "colorbar": {
              "outlinewidth": 0,
              "ticks": ""
             }
            },
            "type": "scattercarpet"
           }
          ],
          "scattergeo": [
           {
            "marker": {
             "colorbar": {
              "outlinewidth": 0,
              "ticks": ""
             }
            },
            "type": "scattergeo"
           }
          ],
          "scattergl": [
           {
            "marker": {
             "colorbar": {
              "outlinewidth": 0,
              "ticks": ""
             }
            },
            "type": "scattergl"
           }
          ],
          "scattermap": [
           {
            "marker": {
             "colorbar": {
              "outlinewidth": 0,
              "ticks": ""
             }
            },
            "type": "scattermap"
           }
          ],
          "scattermapbox": [
           {
            "marker": {
             "colorbar": {
              "outlinewidth": 0,
              "ticks": ""
             }
            },
            "type": "scattermapbox"
           }
          ],
          "scatterpolar": [
           {
            "marker": {
             "colorbar": {
              "outlinewidth": 0,
              "ticks": ""
             }
            },
            "type": "scatterpolar"
           }
          ],
          "scatterpolargl": [
           {
            "marker": {
             "colorbar": {
              "outlinewidth": 0,
              "ticks": ""
             }
            },
            "type": "scatterpolargl"
           }
          ],
          "scatterternary": [
           {
            "marker": {
             "colorbar": {
              "outlinewidth": 0,
              "ticks": ""
             }
            },
            "type": "scatterternary"
           }
          ],
          "surface": [
           {
            "colorbar": {
             "outlinewidth": 0,
             "ticks": ""
            },
            "colorscale": [
             [
              0,
              "#0d0887"
             ],
             [
              0.1111111111111111,
              "#46039f"
             ],
             [
              0.2222222222222222,
              "#7201a8"
             ],
             [
              0.3333333333333333,
              "#9c179e"
             ],
             [
              0.4444444444444444,
              "#bd3786"
             ],
             [
              0.5555555555555556,
              "#d8576b"
             ],
             [
              0.6666666666666666,
              "#ed7953"
             ],
             [
              0.7777777777777778,
              "#fb9f3a"
             ],
             [
              0.8888888888888888,
              "#fdca26"
             ],
             [
              1,
              "#f0f921"
             ]
            ],
            "type": "surface"
           }
          ],
          "table": [
           {
            "cells": {
             "fill": {
              "color": "#EBF0F8"
             },
             "line": {
              "color": "white"
             }
            },
            "header": {
             "fill": {
              "color": "#C8D4E3"
             },
             "line": {
              "color": "white"
             }
            },
            "type": "table"
           }
          ]
         },
         "layout": {
          "annotationdefaults": {
           "arrowcolor": "#2a3f5f",
           "arrowhead": 0,
           "arrowwidth": 1
          },
          "autotypenumbers": "strict",
          "coloraxis": {
           "colorbar": {
            "outlinewidth": 0,
            "ticks": ""
           }
          },
          "colorscale": {
           "diverging": [
            [
             0,
             "#8e0152"
            ],
            [
             0.1,
             "#c51b7d"
            ],
            [
             0.2,
             "#de77ae"
            ],
            [
             0.3,
             "#f1b6da"
            ],
            [
             0.4,
             "#fde0ef"
            ],
            [
             0.5,
             "#f7f7f7"
            ],
            [
             0.6,
             "#e6f5d0"
            ],
            [
             0.7,
             "#b8e186"
            ],
            [
             0.8,
             "#7fbc41"
            ],
            [
             0.9,
             "#4d9221"
            ],
            [
             1,
             "#276419"
            ]
           ],
           "sequential": [
            [
             0,
             "#0d0887"
            ],
            [
             0.1111111111111111,
             "#46039f"
            ],
            [
             0.2222222222222222,
             "#7201a8"
            ],
            [
             0.3333333333333333,
             "#9c179e"
            ],
            [
             0.4444444444444444,
             "#bd3786"
            ],
            [
             0.5555555555555556,
             "#d8576b"
            ],
            [
             0.6666666666666666,
             "#ed7953"
            ],
            [
             0.7777777777777778,
             "#fb9f3a"
            ],
            [
             0.8888888888888888,
             "#fdca26"
            ],
            [
             1,
             "#f0f921"
            ]
           ],
           "sequentialminus": [
            [
             0,
             "#0d0887"
            ],
            [
             0.1111111111111111,
             "#46039f"
            ],
            [
             0.2222222222222222,
             "#7201a8"
            ],
            [
             0.3333333333333333,
             "#9c179e"
            ],
            [
             0.4444444444444444,
             "#bd3786"
            ],
            [
             0.5555555555555556,
             "#d8576b"
            ],
            [
             0.6666666666666666,
             "#ed7953"
            ],
            [
             0.7777777777777778,
             "#fb9f3a"
            ],
            [
             0.8888888888888888,
             "#fdca26"
            ],
            [
             1,
             "#f0f921"
            ]
           ]
          },
          "colorway": [
           "#636efa",
           "#EF553B",
           "#00cc96",
           "#ab63fa",
           "#FFA15A",
           "#19d3f3",
           "#FF6692",
           "#B6E880",
           "#FF97FF",
           "#FECB52"
          ],
          "font": {
           "color": "#2a3f5f"
          },
          "geo": {
           "bgcolor": "white",
           "lakecolor": "white",
           "landcolor": "#E5ECF6",
           "showlakes": true,
           "showland": true,
           "subunitcolor": "white"
          },
          "hoverlabel": {
           "align": "left"
          },
          "hovermode": "closest",
          "mapbox": {
           "style": "light"
          },
          "paper_bgcolor": "white",
          "plot_bgcolor": "#E5ECF6",
          "polar": {
           "angularaxis": {
            "gridcolor": "white",
            "linecolor": "white",
            "ticks": ""
           },
           "bgcolor": "#E5ECF6",
           "radialaxis": {
            "gridcolor": "white",
            "linecolor": "white",
            "ticks": ""
           }
          },
          "scene": {
           "xaxis": {
            "backgroundcolor": "#E5ECF6",
            "gridcolor": "white",
            "gridwidth": 2,
            "linecolor": "white",
            "showbackground": true,
            "ticks": "",
            "zerolinecolor": "white"
           },
           "yaxis": {
            "backgroundcolor": "#E5ECF6",
            "gridcolor": "white",
            "gridwidth": 2,
            "linecolor": "white",
            "showbackground": true,
            "ticks": "",
            "zerolinecolor": "white"
           },
           "zaxis": {
            "backgroundcolor": "#E5ECF6",
            "gridcolor": "white",
            "gridwidth": 2,
            "linecolor": "white",
            "showbackground": true,
            "ticks": "",
            "zerolinecolor": "white"
           }
          },
          "shapedefaults": {
           "line": {
            "color": "#2a3f5f"
           }
          },
          "ternary": {
           "aaxis": {
            "gridcolor": "white",
            "linecolor": "white",
            "ticks": ""
           },
           "baxis": {
            "gridcolor": "white",
            "linecolor": "white",
            "ticks": ""
           },
           "bgcolor": "#E5ECF6",
           "caxis": {
            "gridcolor": "white",
            "linecolor": "white",
            "ticks": ""
           }
          },
          "title": {
           "x": 0.05
          },
          "xaxis": {
           "automargin": true,
           "gridcolor": "white",
           "linecolor": "white",
           "ticks": "",
           "title": {
            "standoff": 15
           },
           "zerolinecolor": "white",
           "zerolinewidth": 2
          },
          "yaxis": {
           "automargin": true,
           "gridcolor": "white",
           "linecolor": "white",
           "ticks": "",
           "title": {
            "standoff": 15
           },
           "zerolinecolor": "white",
           "zerolinewidth": 2
          }
         }
        },
        "title": {
         "text": "Interactive Distance & Pitch Comparison: Sonar vs DVL"
        },
        "xaxis": {
         "anchor": "y",
         "domain": [
          0,
          1
         ],
         "showgrid": true,
         "title": {
          "text": "Time (seconds)"
         }
        },
        "xaxis2": {
         "anchor": "y2",
         "domain": [
          0,
          1
         ],
         "showgrid": true,
         "title": {
          "text": "Time (seconds)"
         }
        },
        "yaxis": {
         "anchor": "x",
         "domain": [
          0.625,
          1
         ],
         "showgrid": true,
         "title": {
          "text": "Distance (meters)"
         }
        },
        "yaxis2": {
         "anchor": "x2",
         "domain": [
          0,
          0.375
         ],
         "showgrid": true,
         "title": {
          "text": "Pitch (degrees)"
         }
        }
       }
      }
     },
     "metadata": {},
     "output_type": "display_data"
    }
   ],
   "source": [
    "fig, comparison_stats = iau.ComparisonEngine.compare_sonar_vs_dvl(distance_results, raw_data, sonar_coverage_m=sonar_coverage_meters, sonar_image_size=image_shape[0], use_plotly=True)\n",
    "fig.show()"
   ]
  },
  {
   "cell_type": "code",
   "execution_count": 10,
   "id": "50f97352",
   "metadata": {},
   "outputs": [
    {
     "name": "stdout",
     "output_type": "stream",
     "text": [
      "GENERATING VIDEO WITH DUAL NET DISTANCE OVERLAYS\n",
      "============================================================\n",
      " Target Bag: 2024-08-20_14-31-29\n",
      " DVL Data: 559 records\n",
      " Sonar Analysis: 1059 frames\n",
      " Auto-detect video: enabled (PNG frames + index.csv)\n",
      "⏱  Sync tolerance: 1.0s\n",
      "OPTIMIZED SONAR VIDEO\n",
      "======================================================================\n",
      "Target Bag: 2024-08-20_14-31-29\n",
      "   Cone Size: 900x700\n",
      "   Range: 0.0-5.0m | FOV: 120.0°\n",
      "Auto-detecting video files for bag: 2024-08-20_14-31-29\n",
      "Found video frames: 2024-08-20_14-31-29_video__image_compressed_image_data_frames\n",
      "Using frames directory: /Volumes/LaCie/SOLAQUA/exports/frames/2024-08-20_14-31-29_video__image_compressed_image_data_frames\n",
      "Camera: enabled\n",
      "Net-line: enabled (dist tol=0.5s, pitch tol=2.0s)\n",
      "Sonar Analysis: enabled\n",
      "   Loading sonar data: sensor_sonoptix_echo_image__2024-08-20_14-31-29_video.csv\n",
      "Loaded 1060 sonar frames in 42.57s\n",
      "Loaded 559 navigation records in 0.02s\n",
      "      Available: ['NetDistance', 'NetPitch', 'timestamp']\n",
      "Loaded 844 camera index entries\n",
      "   Frames: 1..1059 (step 1) => 1059\n",
      "   Natural FPS: 15.7\n",
      "\n",
      "🎉 DONE! Wrote 1059 frames to /Volumes/LaCie/SOLAQUA/exports/videos/2024-08-20_14-31-29_optimized_sync_withcam_withsonar_20240820_143131_621807+0200.mp4 @ 15.67 FPS\n",
      "Metadata saved to: /Volumes/LaCie/SOLAQUA/exports/videos/2024-08-20_14-31-29_optimized_sync_withcam_withsonar_20240820_143131_621807+0200.mp4.meta.json\n",
      "\n",
      " Video generated successfully!\n",
      " Output: None\n",
      "\n",
      " Check the video output:\n",
      "   - Camera frames should sync properly with sonar\n",
      "   - When camera data ends, video should switch to sonar-only\n",
      "   - No frozen camera frames should appear\n"
     ]
    }
   ],
   "source": [
    "# Generate Video with Both DVL and Sonar Analysis Overlays (Improved Sync)\n",
    "# ==========================================================================\n",
    "import utils.sonar_and_foto_generation as sg\n",
    "\n",
    "# Enable automatic video detection with improved synchronization\n",
    "from utils.sonar_config import VIDEO_CONFIG\n",
    "VIDEO_CONFIG['enable_video_overlay'] = True  \n",
    "VIDEO_CONFIG['max_sync_tolerance_seconds'] = 1.0  # Tighter sync tolerance\n",
    "\n",
    "print(\"GENERATING VIDEO WITH DUAL NET DISTANCE OVERLAYS\")\n",
    "print(\"=\" * 60)\n",
    "print(f\" Target Bag: {TARGET_BAG}\")\n",
    "print(f\" DVL Data: {len(raw_data.get('navigation', []))} records\")\n",
    "print(f\" Sonar Analysis: {len(distance_results)} frames\")\n",
    "print(f\" Auto-detect video: enabled (PNG frames + index.csv)\")\n",
    "print(f\"⏱  Sync tolerance: {VIDEO_CONFIG['max_sync_tolerance_seconds']}s\")\n",
    "\n",
    "# Generate the video with both overlays and improved sync\n",
    "try:\n",
    "    video_path = sg.export_optimized_sonar_video(\n",
    "        TARGET_BAG=TARGET_BAG,\n",
    "        EXPORTS_FOLDER=EXPORTS_FOLDER,\n",
    "        START_IDX=1,\n",
    "        END_IDX=1200,  \n",
    "        STRIDE=1,    \n",
    "        AUTO_DETECT_VIDEO=True,       # Enable automatic video file detection\n",
    "        INCLUDE_NET=True,             # Enable DVL net distance overlay\n",
    "        SONAR_DISTANCE_RESULTS=distance_results,  # Enable sonar analysis overlay\n",
    "        NET_DISTANCE_TOLERANCE=0.5,\n",
    "        NET_PITCH_TOLERANCE=2.0,      # Increased from 0.3 to 2.0 seconds for better pitch sync\n",
    "    )\n",
    "\n",
    "    print(f\"\\n Video generated successfully!\")\n",
    "    print(f\" Output: {video_path}\")\n",
    "    print(f\"\\n Check the video output:\")\n",
    "    print(f\"   - Camera frames should sync properly with sonar\")\n",
    "    print(f\"   - When camera data ends, video should switch to sonar-only\")\n",
    "    print(f\"   - No frozen camera frames should appear\")\n",
    "    \n",
    "except Exception as e:\n",
    "    print(f\"Error generating video: {e}\")\n",
    "    import traceback\n",
    "    traceback.print_exc()\n",
    "    print(\"\\n Troubleshooting:\")\n",
    "    print(\"  1. Run the video detection cell above to verify files exist\")\n",
    "    print(\"  2. Check that PNG frames directory has index.csv file\")\n",
    "    print(\"  3. Try disabling video overlay: VIDEO_CONFIG['enable_video_overlay'] = False\")\n",
    "    print(\"  4. Check exports directory structure\")"
   ]
  },
  {
   "cell_type": "code",
   "execution_count": null,
   "id": "a0dffba5",
   "metadata": {},
   "outputs": [],
   "source": []
  }
 ],
 "metadata": {
  "kernelspec": {
   "display_name": "venv",
   "language": "python",
   "name": "python3"
  },
  "language_info": {
   "codemirror_mode": {
    "name": "ipython",
    "version": 3
   },
   "file_extension": ".py",
   "mimetype": "text/x-python",
   "name": "python",
   "nbconvert_exporter": "python",
   "pygments_lexer": "ipython3",
   "version": "3.13.5"
  }
 },
 "nbformat": 4,
 "nbformat_minor": 5
}
