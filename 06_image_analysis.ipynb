{
 "cells": [
  {
   "cell_type": "code",
   "execution_count": 1,
   "id": "7a8d02c0",
   "metadata": {},
   "outputs": [],
   "source": [
    "# Centralized sonar defaults (inserted by sweep)\n",
    "from utils.sonar_config import SONAR_VIS_DEFAULTS\n",
    "sonar_config = SONAR_VIS_DEFAULTS.copy()\n",
    "# Backwards-compatible variable names used in older notebooks\n",
    "RANGE_MIN_M = sonar_config['range_min_m']\n",
    "RANGE_MAX_M = sonar_config['range_max_m']\n",
    "DISPLAY_RANGE_MAX_M = sonar_config['display_range_max_m']"
   ]
  },
  {
   "cell_type": "markdown",
   "id": "9220eb1d",
   "metadata": {},
   "source": [
    "# Simple Image Analysis with CV2\n",
    "\n",
    "This notebook demonstrates:\n",
    "1. **Pick a frame** from NPZ files and save it locally\n",
    "2. **Use standard cv2 functions** directly for image processing\n",
    "3. **Experiment** with different OpenCV operations"
   ]
  },
  {
   "cell_type": "code",
   "execution_count": 11,
   "id": "4b3e8f46",
   "metadata": {},
   "outputs": [
    {
     "name": "stdout",
     "output_type": "stream",
     "text": [
      "Using DATA_DIR = /Volumes/LaCie/SOLAQUA/raw_data\n",
      "Selected NPZ file: 2024-08-20_14-31-29_data_cones.npz (index=8)\n"
     ]
    }
   ],
   "source": [
    "from pathlib import Path\n",
    "import utils.sonar_image_analysis as iau\n",
    "\n",
    "\n",
    "# Prefer selecting by bag ID (part of the NPZ filename) instead of a numeric index.\n",
    "# Set TARGET_BAG to a substring that appears in the NPZ filename (e.g. '2024-08-22_14-29-05')\n",
    "# '2024-08-22_14-47-39'\n",
    "# '2024-08-22_14-29-05'\n",
    "# '2024-08-20_14-31-29' HARD\n",
    "TARGET_BAG = '2024-08-20_14-31-29'  # change this to your desired bag ID\n",
    "from utils.sonar_config import EXPORTS_DIR_DEFAULT, EXPORTS_SUBDIRS\n",
    "EXPORTS_FOLDER = Path(EXPORTS_DIR_DEFAULT)\n",
    "\n",
    "# If you keep your raw .bag files or raw data on an external drive, point DATA_DIR there.\n",
    "# Example (your external disk): /Volumes/LaCie/SOLAQUA/raw_data\n",
    "DATA_DIR = Path(\"/Volumes/LaCie/SOLAQUA/raw_data\")\n",
    "print(f\"Using DATA_DIR = {DATA_DIR}\")\n",
    "\n",
    "# Find NPZ files and pick the one matching TARGET_BAG\n",
    "files = iau.get_available_npz_files()\n",
    "if not files:\n",
    "    raise FileNotFoundError(f\"No NPZ files found in configured exports outputs (looked under {EXPORTS_FOLDER / EXPORTS_SUBDIRS.get('outputs','outputs')})\")\n",
    "matches = [p for p in files if TARGET_BAG in p.name]\n",
    "if not matches:\n",
    "    # Help the user by listing available NPZ files\n",
    "    print(f'No NPZ file matched TARGET_BAG={TARGET_BAG!r}')\n",
    "    print('Available NPZ files:')\n",
    "    for i,p in enumerate(files):\n",
    "        print(f'  {i}: {p.name}')\n",
    "    raise ValueError(f'No NPZ file contains \"{TARGET_BAG}\" in its name')\n",
    "\n",
    "# If multiple matches, choose the most recently modified one\n",
    "selected = max(matches, key=lambda p: p.stat().st_mtime)\n",
    "NPZ_FILE_INDEX = files.index(selected)\n",
    "print(f'Selected NPZ file: {selected.name} (index={NPZ_FILE_INDEX})')"
   ]
  },
  {
   "cell_type": "markdown",
   "id": "0c65358c",
   "metadata": {},
   "source": [
    "## Distance Analysis Over Time\n",
    "\n",
    "Now let's perform a comprehensive analysis of the red line distance over time. The red line represents the major axis of the detected elongated contour (likely a fishing net), and we'll track how this distance changes throughout the video sequence."
   ]
  },
  {
   "cell_type": "code",
   "execution_count": 12,
   "id": "d9c0382e",
   "metadata": {},
   "outputs": [
    {
     "name": "stdout",
     "output_type": "stream",
     "text": [
      "=== DISTANCE ANALYSIS FROM NPZ ===\n",
      "Analyzing: /Volumes/LaCie/SOLAQUA/exports/outputs/2024-08-20_14-31-29_data_cones.npz\n",
      "Processing 1000 frames from 1 (step=1)\n",
      "  Processed 50/1000 frames (Success rate: 100.0%)\n",
      "  Processed 100/1000 frames (Success rate: 100.0%)\n",
      "  Processed 150/1000 frames (Success rate: 100.0%)\n",
      "  Processed 200/1000 frames (Success rate: 100.0%)\n",
      "  Processed 250/1000 frames (Success rate: 100.0%)\n",
      "  Processed 300/1000 frames (Success rate: 100.0%)\n",
      "  Processed 350/1000 frames (Success rate: 100.0%)\n",
      "  Processed 400/1000 frames (Success rate: 100.0%)\n",
      "  Processed 450/1000 frames (Success rate: 100.0%)\n",
      "  Processed 500/1000 frames (Success rate: 100.0%)\n",
      "  Processed 550/1000 frames (Success rate: 100.0%)\n",
      "  Processed 600/1000 frames (Success rate: 100.0%)\n",
      "  Processed 650/1000 frames (Success rate: 100.0%)\n",
      "  Processed 700/1000 frames (Success rate: 100.0%)\n",
      "  Processed 750/1000 frames (Success rate: 100.0%)\n",
      "  Processed 800/1000 frames (Success rate: 100.0%)\n",
      "  Processed 850/1000 frames (Success rate: 100.0%)\n",
      "  Processed 900/1000 frames (Success rate: 100.0%)\n",
      "  Processed 950/1000 frames (Success rate: 100.0%)\n",
      "  Processed 1000/1000 frames (Success rate: 100.0%)\n",
      "\n",
      "=== ANALYSIS COMPLETE ===\n",
      "Total frames processed: 1000\n",
      "Successful detections: 1000 (100.0%)\n",
      "Distance statistics (meters):\n",
      "  - Mean: 1.997\n",
      "  - Std:  0.253\n",
      "  - Min:  1.514\n",
      "  - Max:  2.919\n",
      "  - Range: 1.406\n",
      "✅ Analyzed 1000 frames using elliptical AOI\n",
      "🎯 Detection success rate: 100.0%\n",
      "📊 Elliptical tracking active: 0 frames\n"
     ]
    }
   ],
   "source": [
    "# Now using the NEW unified SonarDataProcessor with elliptical AOI support!\n",
    "# This gives us much better net tracking compared to the old rectangular AOI\n",
    "\n",
    "# First reload the module to get the latest elliptical AOI changes\n",
    "import importlib\n",
    "importlib.reload(iau)\n",
    "\n",
    "# Create the unified processor\n",
    "processor = iau.SonarDataProcessor()\n",
    "\n",
    "# Use the new Distance Analysis Engine with elliptical AOI\n",
    "engine = iau.DistanceAnalysisEngine()\n",
    "distance_results = engine.analyze_npz_sequence(\n",
    "    npz_file_index=NPZ_FILE_INDEX,    \n",
    "    frame_start=1,        # Start from frame 1\n",
    "    frame_count=1000,      # Analyze all frames from the video\n",
    "    frame_step=1          # Every frame\n",
    ")\n",
    "\n",
    "print(f\"✅ Analyzed {len(distance_results)} frames using elliptical AOI\")\n",
    "print(f\"🎯 Detection success rate: {distance_results['detection_success'].mean():.1%}\")\n",
    "print(f\"📊 Elliptical tracking active: {(distance_results['tracking_status'].str.contains('ELLIPSE')).sum()} frames\")"
   ]
  },
  {
   "cell_type": "code",
   "execution_count": 13,
   "id": "b9c5da85",
   "metadata": {},
   "outputs": [
    {
     "name": "stdout",
     "output_type": "stream",
     "text": [
      "=== ENHANCED VIDEO CREATION (Simplified) ===\n",
      "Creating video with simplified processor...\n",
      "Frames: 1000, step: 1\n",
      "✅ Processing 1000 frames with simplified processor...\n",
      "Processed 10/1000 frames\n",
      "Processed 20/1000 frames\n",
      "Processed 30/1000 frames\n",
      "Processed 40/1000 frames\n",
      "Processed 50/1000 frames\n",
      "Processed 60/1000 frames\n",
      "Processed 70/1000 frames\n",
      "Processed 80/1000 frames\n",
      "Processed 90/1000 frames\n",
      "Processed 100/1000 frames\n",
      "Processed 110/1000 frames\n",
      "Processed 120/1000 frames\n",
      "Processed 130/1000 frames\n",
      "Processed 140/1000 frames\n",
      "Processed 150/1000 frames\n",
      "Processed 160/1000 frames\n",
      "Processed 170/1000 frames\n",
      "Processed 180/1000 frames\n",
      "Processed 190/1000 frames\n",
      "Processed 200/1000 frames\n",
      "Processed 210/1000 frames\n",
      "Processed 220/1000 frames\n",
      "Processed 230/1000 frames\n",
      "Processed 240/1000 frames\n",
      "Processed 250/1000 frames\n",
      "Processed 260/1000 frames\n",
      "Processed 270/1000 frames\n",
      "Processed 280/1000 frames\n",
      "Processed 290/1000 frames\n",
      "Processed 300/1000 frames\n",
      "Processed 310/1000 frames\n",
      "Processed 320/1000 frames\n",
      "Processed 330/1000 frames\n",
      "Processed 340/1000 frames\n",
      "Processed 350/1000 frames\n",
      "Processed 360/1000 frames\n",
      "Processed 370/1000 frames\n",
      "Processed 380/1000 frames\n",
      "Processed 390/1000 frames\n",
      "Processed 400/1000 frames\n",
      "Processed 410/1000 frames\n",
      "Processed 420/1000 frames\n",
      "Processed 430/1000 frames\n",
      "Processed 440/1000 frames\n",
      "Processed 450/1000 frames\n",
      "Processed 460/1000 frames\n",
      "Processed 470/1000 frames\n",
      "Processed 480/1000 frames\n",
      "Processed 490/1000 frames\n",
      "Processed 500/1000 frames\n",
      "Processed 510/1000 frames\n",
      "Processed 520/1000 frames\n",
      "Processed 530/1000 frames\n",
      "Processed 540/1000 frames\n",
      "Processed 550/1000 frames\n",
      "Processed 560/1000 frames\n",
      "Processed 570/1000 frames\n",
      "Processed 580/1000 frames\n",
      "Processed 590/1000 frames\n",
      "Processed 600/1000 frames\n",
      "Processed 610/1000 frames\n",
      "Processed 620/1000 frames\n",
      "Processed 630/1000 frames\n",
      "Processed 640/1000 frames\n",
      "Processed 650/1000 frames\n",
      "Processed 660/1000 frames\n",
      "Processed 670/1000 frames\n",
      "Processed 680/1000 frames\n",
      "Processed 690/1000 frames\n",
      "Processed 700/1000 frames\n",
      "Processed 710/1000 frames\n",
      "Processed 720/1000 frames\n",
      "Processed 730/1000 frames\n",
      "Processed 740/1000 frames\n",
      "Processed 750/1000 frames\n",
      "Processed 760/1000 frames\n",
      "Processed 770/1000 frames\n",
      "Processed 780/1000 frames\n",
      "Processed 790/1000 frames\n",
      "Processed 800/1000 frames\n",
      "Processed 810/1000 frames\n",
      "Processed 820/1000 frames\n",
      "Processed 830/1000 frames\n",
      "Processed 840/1000 frames\n",
      "Processed 850/1000 frames\n",
      "Processed 860/1000 frames\n",
      "Processed 870/1000 frames\n",
      "Processed 880/1000 frames\n",
      "Processed 890/1000 frames\n",
      "Processed 900/1000 frames\n",
      "Processed 910/1000 frames\n",
      "Processed 920/1000 frames\n",
      "Processed 930/1000 frames\n",
      "Processed 940/1000 frames\n",
      "Processed 950/1000 frames\n",
      "Processed 960/1000 frames\n",
      "Processed 970/1000 frames\n",
      "Processed 980/1000 frames\n",
      "Processed 990/1000 frames\n",
      "Processed 1000/1000 frames\n",
      "\n",
      "=== ENHANCED VIDEO CREATION COMPLETE ===\n",
      "Video saved to: /Volumes/LaCie/SOLAQUA/exports/videos/core_aoi_tracking.mp4\n",
      "Video specs: 900x700, 15 fps, 1000 frames\n",
      "🟢 SIMPLIFIED TRACKING STATS:\n",
      "  - Total detected frames: 1000\n",
      "  - Lost/searching frames: 0\n",
      "  - Detection success rate: 100.0%\n"
     ]
    }
   ],
   "source": [
    "# Create video using the CORE simplified processor\n",
    "# This will show the yellow rectangular AOI and track with momentum merging!\n",
    "\n",
    "# Use the enhanced video creation with CORE processor\n",
    "video_path = iau.create_enhanced_contour_detection_video_with_processor(\n",
    "    npz_file_index=NPZ_FILE_INDEX,          # Which NPZ file to use\n",
    "    frame_start=1,           # Starting frame\n",
    "    frame_count=1000,         # Start with 100 frames for testing\n",
    "    frame_step=1,            # Step between frames\n",
    "    output_path=Path(EXPORTS_DIR_DEFAULT) / EXPORTS_SUBDIRS.get('videos','videos') / 'core_aoi_tracking.mp4',\n",
    "    processor=processor      # Use our CORE processor\n",
    ")\n"
   ]
  },
  {
   "cell_type": "markdown",
   "id": "fede9d64",
   "metadata": {},
   "source": [
    "## Convert to Real-World Distances\n",
    "\n",
    "Now let's convert the pixel distances to real-world distances using the fact that the entire sonar image represents a 10x10 meter area."
   ]
  },
  {
   "cell_type": "code",
   "execution_count": 14,
   "id": "886897de",
   "metadata": {},
   "outputs": [
    {
     "name": "stdout",
     "output_type": "stream",
     "text": [
      "Detected NPZ extent: x=[-8.660,8.660] m, y=[0.000,10.000] m\n",
      "Image shape from NPZ: H=700, W=900\n",
      "meters/pixel: x=0.019245, y=0.014286, avg=0.016765\n",
      "Using pixels_to_meters_avg = 0.016765 m/px\n"
     ]
    }
   ],
   "source": [
    "# Auto-detect pixel->meter mapping from the selected NPZ (if available)\n",
    "try:\n",
    "    cones, ts, extent, meta = iau.load_cone_run_npz(selected)\n",
    "    T, H, W = cones.shape\n",
    "    x_min, x_max, y_min, y_max = extent\n",
    "    width_m = float(x_max - x_min)\n",
    "    height_m = float(y_max - y_min)\n",
    "    px2m_x = width_m / float(W)\n",
    "    px2m_y = height_m / float(H)\n",
    "    pixels_to_meters_avg = 0.5 * (px2m_x + px2m_y)\n",
    "    image_shape = (H, W)\n",
    "    sonar_coverage_meters = max(width_m, height_m)\n",
    "    print(f\"Detected NPZ extent: x=[{x_min:.3f},{x_max:.3f}] m, y=[{y_min:.3f},{y_max:.3f}] m\")\n",
    "    print(f\"Image shape from NPZ: H={H}, W={W}\")\n",
    "    print(f\"meters/pixel: x={px2m_x:.6f}, y={px2m_y:.6f}, avg={pixels_to_meters_avg:.6f}\")\n",
    "except Exception as e:\n",
    "    print(\"Could not read NPZ metadata:\", e)\n",
    "    print(\"Falling back to defaults from sonar_config.\")\n",
    "    from utils.sonar_config import CONE_H_DEFAULT, CONE_W_DEFAULT, DISPLAY_RANGE_MAX_M_DEFAULT\n",
    "    image_shape = (CONE_H_DEFAULT, CONE_W_DEFAULT)\n",
    "    sonar_coverage_meters = DISPLAY_RANGE_MAX_M_DEFAULT * 2  # approximate\n",
    "    pixels_to_meters_avg = sonar_coverage_meters / max(image_shape)\n",
    "    \n",
    "# Use the computed pixels_to_meters_avg in downstream analysis\n",
    "print(f\"Using pixels_to_meters_avg = {pixels_to_meters_avg:.6f} m/px\")"
   ]
  },
  {
   "cell_type": "code",
   "execution_count": 15,
   "id": "15d6238c",
   "metadata": {},
   "outputs": [
    {
     "data": {
      "application/vnd.plotly.v1+json": {
       "config": {
        "plotlyServerURL": "https://plot.ly"
       },
       "data": [
        {
         "line": {
          "color": "blue"
         },
         "mode": "lines+markers",
         "name": "Distance",
         "type": "scatter",
         "x": {
          "bdata": "AQACAAMABAAFAAYABwAIAAkACgALAAwADQAOAA8AEAARABIAEwAUABUAFgAXABgAGQAaABsAHAAdAB4AHwAgACEAIgAjACQAJQAmACcAKAApACoAKwAsAC0ALgAvADAAMQAyADMANAA1ADYANwA4ADkAOgA7ADwAPQA+AD8AQABBAEIAQwBEAEUARgBHAEgASQBKAEsATABNAE4ATwBQAFEAUgBTAFQAVQBWAFcAWABZAFoAWwBcAF0AXgBfAGAAYQBiAGMAZABlAGYAZwBoAGkAagBrAGwAbQBuAG8AcABxAHIAcwB0AHUAdgB3AHgAeQB6AHsAfAB9AH4AfwCAAIEAggCDAIQAhQCGAIcAiACJAIoAiwCMAI0AjgCPAJAAkQCSAJMAlACVAJYAlwCYAJkAmgCbAJwAnQCeAJ8AoAChAKIAowCkAKUApgCnAKgAqQCqAKsArACtAK4ArwCwALEAsgCzALQAtQC2ALcAuAC5ALoAuwC8AL0AvgC/AMAAwQDCAMMAxADFAMYAxwDIAMkAygDLAMwAzQDOAM8A0ADRANIA0wDUANUA1gDXANgA2QDaANsA3ADdAN4A3wDgAOEA4gDjAOQA5QDmAOcA6ADpAOoA6wDsAO0A7gDvAPAA8QDyAPMA9AD1APYA9wD4APkA+gD7APwA/QD+AP8AAAEBAQIBAwEEAQUBBgEHAQgBCQEKAQsBDAENAQ4BDwEQAREBEgETARQBFQEWARcBGAEZARoBGwEcAR0BHgEfASABIQEiASMBJAElASYBJwEoASkBKgErASwBLQEuAS8BMAExATIBMwE0ATUBNgE3ATgBOQE6ATsBPAE9AT4BPwFAAUEBQgFDAUQBRQFGAUcBSAFJAUoBSwFMAU0BTgFPAVABUQFSAVMBVAFVAVYBVwFYAVkBWgFbAVwBXQFeAV8BYAFhAWIBYwFkAWUBZgFnAWgBaQFqAWsBbAFtAW4BbwFwAXEBcgFzAXQBdQF2AXcBeAF5AXoBewF8AX0BfgF/AYABgQGCAYMBhAGFAYYBhwGIAYkBigGLAYwBjQGOAY8BkAGRAZIBkwGUAZUBlgGXAZgBmQGaAZsBnAGdAZ4BnwGgAaEBogGjAaQBpQGmAacBqAGpAaoBqwGsAa0BrgGvAbABsQGyAbMBtAG1AbYBtwG4AbkBugG7AbwBvQG+Ab8BwAHBAcIBwwHEAcUBxgHHAcgByQHKAcsBzAHNAc4BzwHQAdEB0gHTAdQB1QHWAdcB2AHZAdoB2wHcAd0B3gHfAeAB4QHiAeMB5AHlAeYB5wHoAekB6gHrAewB7QHuAe8B8AHxAfIB8wH0AfUB9gH3AfgB+QH6AfsB/AH9Af4B/wEAAgECAgIDAgQCBQIGAgcCCAIJAgoCCwIMAg0CDgIPAhACEQISAhMCFAIVAhYCFwIYAhkCGgIbAhwCHQIeAh8CIAIhAiICIwIkAiUCJgInAigCKQIqAisCLAItAi4CLwIwAjECMgIzAjQCNQI2AjcCOAI5AjoCOwI8Aj0CPgI/AkACQQJCAkMCRAJFAkYCRwJIAkkCSgJLAkwCTQJOAk8CUAJRAlICUwJUAlUCVgJXAlgCWQJaAlsCXAJdAl4CXwJgAmECYgJjAmQCZQJmAmcCaAJpAmoCawJsAm0CbgJvAnACcQJyAnMCdAJ1AnYCdwJ4AnkCegJ7AnwCfQJ+An8CgAKBAoICgwKEAoUChgKHAogCiQKKAosCjAKNAo4CjwKQApECkgKTApQClQKWApcCmAKZApoCmwKcAp0CngKfAqACoQKiAqMCpAKlAqYCpwKoAqkCqgKrAqwCrQKuAq8CsAKxArICswK0ArUCtgK3ArgCuQK6ArsCvAK9Ar4CvwLAAsECwgLDAsQCxQLGAscCyALJAsoCywLMAs0CzgLPAtAC0QLSAtMC1ALVAtYC1wLYAtkC2gLbAtwC3QLeAt8C4ALhAuIC4wLkAuUC5gLnAugC6QLqAusC7ALtAu4C7wLwAvEC8gLzAvQC9QL2AvcC+AL5AvoC+wL8Av0C/gL/AgADAQMCAwMDBAMFAwYDBwMIAwkDCgMLAwwDDQMOAw8DEAMRAxIDEwMUAxUDFgMXAxgDGQMaAxsDHAMdAx4DHwMgAyEDIgMjAyQDJQMmAycDKAMpAyoDKwMsAy0DLgMvAzADMQMyAzMDNAM1AzYDNwM4AzkDOgM7AzwDPQM+Az8DQANBA0IDQwNEA0UDRgNHA0gDSQNKA0sDTANNA04DTwNQA1EDUgNTA1QDVQNWA1cDWANZA1oDWwNcA10DXgNfA2ADYQNiA2MDZANlA2YDZwNoA2kDagNrA2wDbQNuA28DcANxA3IDcwN0A3UDdgN3A3gDeQN6A3sDfAN9A34DfwOAA4EDggODA4QDhQOGA4cDiAOJA4oDiwOMA40DjgOPA5ADkQOSA5MDlAOVA5YDlwOYA5kDmgObA5wDnQOeA58DoAOhA6IDowOkA6UDpgOnA6gDqQOqA6sDrAOtA64DrwOwA7EDsgOzA7QDtQO2A7cDuAO5A7oDuwO8A70DvgO/A8ADwQPCA8MDxAPFA8YDxwPIA8kDygPLA8wDzQPOA88D0APRA9ID0wPUA9UD1gPXA9gD2QPaA9sD3APdA94D3wPgA+ED4gPjA+QD5QPmA+cD6AM=",
          "dtype": "i2"
         },
         "xaxis": "x",
         "y": {
          "bdata": "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",
          "dtype": "f8"
         },
         "yaxis": "y"
        },
        {
         "line": {
          "color": "green"
         },
         "mode": "lines+markers",
         "name": "Distance over Time",
         "type": "scatter",
         "x": [
          "2024-08-20T12:31:31.621807575",
          "2024-08-20T12:31:31.681648731",
          "2024-08-20T12:31:31.742511034",
          "2024-08-20T12:31:31.818883181",
          "2024-08-20T12:31:31.874155045",
          "2024-08-20T12:31:31.937494755",
          "2024-08-20T12:31:31.999329090",
          "2024-08-20T12:31:32.063158035",
          "2024-08-20T12:31:32.130053520",
          "2024-08-20T12:31:32.191398144",
          "2024-08-20T12:31:32.254230738",
          "2024-08-20T12:31:32.318058729",
          "2024-08-20T12:31:32.395849943",
          "2024-08-20T12:31:32.445717096",
          "2024-08-20T12:31:32.511543512",
          "2024-08-20T12:31:32.576503515",
          "2024-08-20T12:31:32.637341022",
          "2024-08-20T12:31:32.702203035",
          "2024-08-20T12:31:32.768987656",
          "2024-08-20T12:31:32.829861403",
          "2024-08-20T12:31:32.894687653",
          "2024-08-20T12:31:32.962601185",
          "2024-08-20T12:31:33.025435448",
          "2024-08-20T12:31:33.088264227",
          "2024-08-20T12:31:33.151147127",
          "2024-08-20T12:31:33.218916655",
          "2024-08-20T12:31:33.280750036",
          "2024-08-20T12:31:33.342585087",
          "2024-08-20T12:31:33.407411814",
          "2024-08-20T12:31:33.484754801",
          "2024-08-20T12:31:33.533624887",
          "2024-08-20T12:31:33.610753059",
          "2024-08-20T12:31:33.671589851",
          "2024-08-20T12:31:33.730820179",
          "2024-08-20T12:31:33.790660143",
          "2024-08-20T12:31:33.854523897",
          "2024-08-20T12:31:33.919317245",
          "2024-08-20T12:31:33.984568357",
          "2024-08-20T12:31:34.048381805",
          "2024-08-20T12:31:34.117199183",
          "2024-08-20T12:31:34.183008671",
          "2024-08-20T12:31:34.237861395",
          "2024-08-20T12:31:34.303685427",
          "2024-08-20T12:31:34.367515802",
          "2024-08-20T12:31:34.431509018",
          "2024-08-20T12:31:34.508416414",
          "2024-08-20T12:31:34.565290689",
          "2024-08-20T12:31:34.624107361",
          "2024-08-20T12:31:34.686995983",
          "2024-08-20T12:31:34.749772310",
          "2024-08-20T12:31:34.822613001",
          "2024-08-20T12:31:34.882473946",
          "2024-08-20T12:31:34.943256378",
          "2024-08-20T12:31:35.006085634",
          "2024-08-20T12:31:35.075951576",
          "2024-08-20T12:31:35.139728308",
          "2024-08-20T12:31:35.197573662",
          "2024-08-20T12:31:35.264425278",
          "2024-08-20T12:31:35.328751326",
          "2024-08-20T12:31:35.404547215",
          "2024-08-20T12:31:35.454563379",
          "2024-08-20T12:31:35.522747992",
          "2024-08-20T12:31:35.597547531",
          "2024-08-20T12:31:35.666362762",
          "2024-08-20T12:31:35.716230869",
          "2024-08-20T12:31:35.779061317",
          "2024-08-20T12:31:35.839905977",
          "2024-08-20T12:31:35.902730942",
          "2024-08-20T12:31:35.968554974",
          "2024-08-20T12:31:36.034378290",
          "2024-08-20T12:31:36.146079779",
          "2024-08-20T12:31:36.202927351",
          "2024-08-20T12:31:36.253791808",
          "2024-08-20T12:31:36.310640812",
          "2024-08-20T12:31:36.362536430",
          "2024-08-20T12:31:36.415360451",
          "2024-08-20T12:31:36.612915516",
          "2024-08-20T12:31:36.629870653",
          "2024-08-20T12:31:36.686092138",
          "2024-08-20T12:31:36.731478691",
          "2024-08-20T12:31:36.792353392",
          "2024-08-20T12:31:36.835259199",
          "2024-08-20T12:31:36.882076502",
          "2024-08-20T12:31:36.930180311",
          "2024-08-20T12:31:36.995010138",
          "2024-08-20T12:31:37.057901382",
          "2024-08-20T12:31:37.120796442",
          "2024-08-20T12:31:37.190546751",
          "2024-08-20T12:31:37.245904446",
          "2024-08-20T12:31:37.310695887",
          "2024-08-20T12:31:37.375525713",
          "2024-08-20T12:31:37.443047285",
          "2024-08-20T12:31:37.501889229",
          "2024-08-20T12:31:37.570401907",
          "2024-08-20T12:31:37.634161472",
          "2024-08-20T12:31:37.698097229",
          "2024-08-20T12:31:37.760633230",
          "2024-08-20T12:31:37.822077274",
          "2024-08-20T12:31:37.890928745",
          "2024-08-20T12:31:37.950802088",
          "2024-08-20T12:31:38.016170025",
          "2024-08-20T12:31:38.079568386",
          "2024-08-20T12:31:38.144387484",
          "2024-08-20T12:31:38.206281900",
          "2024-08-20T12:31:38.272046804",
          "2024-08-20T12:31:38.335875273",
          "2024-08-20T12:31:38.399709225",
          "2024-08-20T12:31:38.464562416",
          "2024-08-20T12:31:38.526404619",
          "2024-08-20T12:31:38.595264912",
          "2024-08-20T12:31:38.654108047",
          "2024-08-20T12:31:38.719931841",
          "2024-08-20T12:31:38.783764362",
          "2024-08-20T12:31:38.857566357",
          "2024-08-20T12:31:38.911419630",
          "2024-08-20T12:31:38.976246357",
          "2024-08-20T12:31:39.042104006",
          "2024-08-20T12:31:39.101980925",
          "2024-08-20T12:31:39.166769743",
          "2024-08-20T12:31:39.232593060",
          "2024-08-20T12:31:39.297420025",
          "2024-08-20T12:31:39.361249447",
          "2024-08-20T12:31:39.423182011",
          "2024-08-20T12:31:39.490002155",
          "2024-08-20T12:31:39.549880981",
          "2024-08-20T12:31:39.614220381",
          "2024-08-20T12:31:39.680010796",
          "2024-08-20T12:31:39.748333454",
          "2024-08-20T12:31:39.812162876",
          "2024-08-20T12:31:39.877536774",
          "2024-08-20T12:31:40.073243380",
          "2024-08-20T12:31:40.086207151",
          "2024-08-20T12:31:40.148041010",
          "2024-08-20T12:31:40.191923618",
          "2024-08-20T12:31:40.237802505",
          "2024-08-20T12:31:40.300632715",
          "2024-08-20T12:31:40.345512867",
          "2024-08-20T12:31:40.391391993",
          "2024-08-20T12:31:40.451229811",
          "2024-08-20T12:31:40.517088412",
          "2024-08-20T12:31:40.581882000",
          "2024-08-20T12:31:40.639754295",
          "2024-08-20T12:31:40.703556538",
          "2024-08-20T12:31:40.769875050",
          "2024-08-20T12:31:40.833705902",
          "2024-08-20T12:31:40.910538912",
          "2024-08-20T12:31:40.974536657",
          "2024-08-20T12:31:41.029807091",
          "2024-08-20T12:31:41.085696697",
          "2024-08-20T12:31:41.153585434",
          "2024-08-20T12:31:41.224370241",
          "2024-08-20T12:31:41.289196968",
          "2024-08-20T12:31:41.349036694",
          "2024-08-20T12:31:41.405884266",
          "2024-08-20T12:31:41.472689152",
          "2024-08-20T12:31:41.540507078",
          "2024-08-20T12:31:41.601395369",
          "2024-08-20T12:31:41.668616772",
          "2024-08-20T12:31:41.727491379",
          "2024-08-20T12:31:41.791326761",
          "2024-08-20T12:31:41.859107018",
          "2024-08-20T12:31:41.926977396",
          "2024-08-20T12:31:41.982784510",
          "2024-08-20T12:31:42.058573484",
          "2024-08-20T12:31:42.111595631",
          "2024-08-20T12:31:42.179451942",
          "2024-08-20T12:31:42.239253283",
          "2024-08-20T12:31:42.305081129",
          "2024-08-20T12:31:42.369940758",
          "2024-08-20T12:31:42.492574692",
          "2024-08-20T12:31:42.547464371",
          "2024-08-20T12:31:42.607268095",
          "2024-08-20T12:31:42.656136990",
          "2024-08-20T12:31:42.714980364",
          "2024-08-20T12:31:42.763849974",
          "2024-08-20T12:31:42.821695328",
          "2024-08-20T12:31:42.879108429",
          "2024-08-20T12:31:42.943912029",
          "2024-08-20T12:31:43.009702921",
          "2024-08-20T12:31:43.071511984",
          "2024-08-20T12:31:43.133901834",
          "2024-08-20T12:31:43.203717709",
          "2024-08-20T12:31:43.261597157",
          "2024-08-20T12:31:43.326387167",
          "2024-08-20T12:31:43.394617081",
          "2024-08-20T12:31:43.464424372",
          "2024-08-20T12:31:43.518105029",
          "2024-08-20T12:31:43.583888292",
          "2024-08-20T12:31:43.646115065",
          "2024-08-20T12:31:43.712907553",
          "2024-08-20T12:31:43.773782730",
          "2024-08-20T12:31:43.840597391",
          "2024-08-20T12:31:43.906425953",
          "2024-08-20T12:31:43.967237234",
          "2024-08-20T12:31:44.030067205",
          "2024-08-20T12:31:44.103466988",
          "2024-08-20T12:31:44.162308455",
          "2024-08-20T12:31:44.223145008",
          "2024-08-20T12:31:44.291014671",
          "2024-08-20T12:31:44.349857092",
          "2024-08-20T12:31:44.415681124",
          "2024-08-20T12:31:44.479695797",
          "2024-08-20T12:31:44.542475224",
          "2024-08-20T12:31:44.613296270",
          "2024-08-20T12:31:44.672163725",
          "2024-08-20T12:31:44.734963417",
          "2024-08-20T12:31:44.800783157",
          "2024-08-20T12:31:44.875235319",
          "2024-08-20T12:31:44.934039116",
          "2024-08-20T12:31:44.991886139",
          "2024-08-20T12:31:45.054715633",
          "2024-08-20T12:31:45.123562574",
          "2024-08-20T12:31:45.184406042",
          "2024-08-20T12:31:45.253189325",
          "2024-08-20T12:31:45.314022064",
          "2024-08-20T12:31:45.391814232",
          "2024-08-20T12:31:45.503517866",
          "2024-08-20T12:31:45.563381672",
          "2024-08-20T12:31:45.625192165",
          "2024-08-20T12:31:45.689467907",
          "2024-08-20T12:31:45.743281364",
          "2024-08-20T12:31:45.799130917",
          "2024-08-20T12:31:45.849994183",
          "2024-08-20T12:31:45.911336899",
          "2024-08-20T12:31:45.973172188",
          "2024-08-20T12:31:46.031045198",
          "2024-08-20T12:31:46.077892065",
          "2024-08-20T12:31:46.141758204",
          "2024-08-20T12:31:46.209540129",
          "2024-08-20T12:31:46.271375179",
          "2024-08-20T12:31:46.336202383",
          "2024-08-20T12:31:46.402061224",
          "2024-08-20T12:31:46.463126421",
          "2024-08-20T12:31:46.525985479",
          "2024-08-20T12:31:46.593837023",
          "2024-08-20T12:31:46.663606167",
          "2024-08-20T12:31:46.721510649",
          "2024-08-20T12:31:46.782323599",
          "2024-08-20T12:31:46.850108624",
          "2024-08-20T12:31:46.921957970",
          "2024-08-20T12:31:46.977843285",
          "2024-08-20T12:31:47.038705826",
          "2024-08-20T12:31:47.102475882",
          "2024-08-20T12:31:47.169295788",
          "2024-08-20T12:31:47.230172157",
          "2024-08-20T12:31:47.304938078",
          "2024-08-20T12:31:47.368804932",
          "2024-08-20T12:31:47.427606583",
          "2024-08-20T12:31:47.491471767",
          "2024-08-20T12:31:47.555302143",
          "2024-08-20T12:31:47.623177528",
          "2024-08-20T12:31:47.811676741",
          "2024-08-20T12:31:47.827633619",
          "2024-08-20T12:31:47.877500534",
          "2024-08-20T12:31:47.938337326",
          "2024-08-20T12:31:47.984474659",
          "2024-08-20T12:31:48.027358532",
          "2024-08-20T12:31:48.088195324",
          "2024-08-20T12:31:48.136068344",
          "2024-08-20T12:31:48.191809654",
          "2024-08-20T12:31:48.256190538",
          "2024-08-20T12:31:48.321072102",
          "2024-08-20T12:31:48.382852077",
          "2024-08-20T12:31:48.445721865",
          "2024-08-20T12:31:48.511081219",
          "2024-08-20T12:31:48.576905251",
          "2024-08-20T12:31:48.638738394",
          "2024-08-20T12:31:48.701770544",
          "2024-08-20T12:31:48.774565697",
          "2024-08-20T12:31:48.831388712",
          "2024-08-20T12:31:48.893730640",
          "2024-08-20T12:31:48.961057901",
          "2024-08-20T12:31:49.028914213",
          "2024-08-20T12:31:49.090711117",
          "2024-08-20T12:31:49.154539824",
          "2024-08-20T12:31:49.213383436",
          "2024-08-20T12:31:49.279206991",
          "2024-08-20T12:31:49.345029116",
          "2024-08-20T12:31:49.405867100",
          "2024-08-20T12:31:49.473721266",
          "2024-08-20T12:31:49.545494080",
          "2024-08-20T12:31:49.602399588",
          "2024-08-20T12:31:49.663179159",
          "2024-08-20T12:31:49.729102612",
          "2024-08-20T12:31:49.791011810",
          "2024-08-20T12:31:49.853843212",
          "2024-08-20T12:31:49.919657946",
          "2024-08-20T12:31:49.983487844",
          "2024-08-20T12:31:50.046319723",
          "2024-08-20T12:31:50.110692024",
          "2024-08-20T12:31:50.174520016",
          "2024-08-20T12:31:50.238417864",
          "2024-08-20T12:31:50.303511620",
          "2024-08-20T12:31:50.366343737",
          "2024-08-20T12:31:50.432175159",
          "2024-08-20T12:31:50.505977631",
          "2024-08-20T12:31:50.560830355",
          "2024-08-20T12:31:50.670942068",
          "2024-08-20T12:31:50.726747036",
          "2024-08-20T12:31:50.789601564",
          "2024-08-20T12:31:50.825510979",
          "2024-08-20T12:31:50.890295744",
          "2024-08-20T12:31:50.943155289",
          "2024-08-20T12:31:51.012972832",
          "2024-08-20T12:31:51.074837446",
          "2024-08-20T12:31:51.134642601",
          "2024-08-20T12:31:51.200467348",
          "2024-08-20T12:31:51.273272991",
          "2024-08-20T12:31:51.336102962",
          "2024-08-20T12:31:51.389957905",
          "2024-08-20T12:31:51.454820395",
          "2024-08-20T12:31:51.517674922",
          "2024-08-20T12:31:51.586463928",
          "2024-08-20T12:31:51.646686554",
          "2024-08-20T12:31:51.712054014",
          "2024-08-20T12:31:51.782867193",
          "2024-08-20T12:31:51.838715792",
          "2024-08-20T12:31:51.903051376",
          "2024-08-20T12:31:51.967877626",
          "2024-08-20T12:31:52.030061007",
          "2024-08-20T12:31:52.102158070",
          "2024-08-20T12:31:52.168978691",
          "2024-08-20T12:31:52.222800970",
          "2024-08-20T12:31:52.292626858",
          "2024-08-20T12:31:52.351458549",
          "2024-08-20T12:31:52.418277025",
          "2024-08-20T12:31:52.481150866",
          "2024-08-20T12:31:52.541553497",
          "2024-08-20T12:31:52.606345415",
          "2024-08-20T12:31:52.673228025",
          "2024-08-20T12:31:52.735998154",
          "2024-08-20T12:31:52.798882484",
          "2024-08-20T12:31:52.862711668",
          "2024-08-20T12:31:52.927570105",
          "2024-08-20T12:31:52.990370035",
          "2024-08-20T12:31:53.070696592",
          "2024-08-20T12:31:53.131572007",
          "2024-08-20T12:31:53.195363998",
          "2024-08-20T12:31:53.245267153",
          "2024-08-20T12:31:53.310670376",
          "2024-08-20T12:31:53.375495911",
          "2024-08-20T12:31:53.440849304",
          "2024-08-20T12:31:53.502685069",
          "2024-08-20T12:31:53.581473112",
          "2024-08-20T12:31:53.671237707",
          "2024-08-20T12:31:53.730012655",
          "2024-08-20T12:31:53.778313637",
          "2024-08-20T12:31:53.833030939",
          "2024-08-20T12:31:53.893876076",
          "2024-08-20T12:31:53.949759483",
          "2024-08-20T12:31:54.014583826",
          "2024-08-20T12:31:54.080477238",
          "2024-08-20T12:31:54.146250486",
          "2024-08-20T12:31:54.208119631",
          "2024-08-20T12:31:54.272945881",
          "2024-08-20T12:31:54.337438822",
          "2024-08-20T12:31:54.401267767",
          "2024-08-20T12:31:54.464104652",
          "2024-08-20T12:31:54.525992393",
          "2024-08-20T12:31:54.604726553",
          "2024-08-20T12:31:54.660574675",
          "2024-08-20T12:31:54.717456818",
          "2024-08-20T12:31:54.788233280",
          "2024-08-20T12:31:54.846078873",
          "2024-08-20T12:31:54.909790993",
          "2024-08-20T12:31:54.976554394",
          "2024-08-20T12:31:55.039385557",
          "2024-08-20T12:31:55.105245590",
          "2024-08-20T12:31:55.171085119",
          "2024-08-20T12:31:55.230873108",
          "2024-08-20T12:31:55.299697399",
          "2024-08-20T12:31:55.362556934",
          "2024-08-20T12:31:55.429852486",
          "2024-08-20T12:31:55.490688562",
          "2024-08-20T12:31:55.549531460",
          "2024-08-20T12:31:55.615355253",
          "2024-08-20T12:31:55.682177305",
          "2024-08-20T12:31:55.744011879",
          "2024-08-20T12:31:55.807841063",
          "2024-08-20T12:31:55.870673656",
          "2024-08-20T12:31:55.949462414",
          "2024-08-20T12:31:56.003352642",
          "2024-08-20T12:31:56.067021132",
          "2024-08-20T12:31:56.125862597",
          "2024-08-20T12:31:56.193681240",
          "2024-08-20T12:31:56.253522635",
          "2024-08-20T12:31:56.318383694",
          "2024-08-20T12:31:56.386166811",
          "2024-08-20T12:31:56.448000908",
          "2024-08-20T12:31:56.512829065",
          "2024-08-20T12:31:56.583638668",
          "2024-08-20T12:31:56.640494585",
          "2024-08-20T12:31:56.703325510",
          "2024-08-20T12:31:56.767193556",
          "2024-08-20T12:31:56.835482836",
          "2024-08-20T12:31:56.902304649",
          "2024-08-20T12:31:56.962438345",
          "2024-08-20T12:31:57.025873184",
          "2024-08-20T12:31:57.087665081",
          "2024-08-20T12:31:57.154531956",
          "2024-08-20T12:31:57.214373350",
          "2024-08-20T12:31:57.293160200",
          "2024-08-20T12:31:57.345025063",
          "2024-08-20T12:31:57.412839890",
          "2024-08-20T12:31:57.473701954",
          "2024-08-20T12:31:57.534539223",
          "2024-08-20T12:31:57.604353428",
          "2024-08-20T12:31:57.663195133",
          "2024-08-20T12:31:57.726027727",
          "2024-08-20T12:31:57.791850805",
          "2024-08-20T12:31:57.855682135",
          "2024-08-20T12:31:57.919509649",
          "2024-08-20T12:31:57.984847546",
          "2024-08-20T12:31:58.048672438",
          "2024-08-20T12:31:58.114497423",
          "2024-08-20T12:31:58.232179642",
          "2024-08-20T12:31:58.303023338",
          "2024-08-20T12:31:58.362874031",
          "2024-08-20T12:31:58.422821522",
          "2024-08-20T12:31:58.476673603",
          "2024-08-20T12:31:58.501605749",
          "2024-08-20T12:31:58.569931507",
          "2024-08-20T12:31:58.628283978",
          "2024-08-20T12:31:58.687161207",
          "2024-08-20T12:31:58.754455805",
          "2024-08-20T12:31:58.874644995",
          "2024-08-20T12:31:58.942510366",
          "2024-08-20T12:31:59.005335093",
          "2024-08-20T12:31:59.067801952",
          "2024-08-20T12:31:59.130631208",
          "2024-08-20T12:31:59.181493998",
          "2024-08-20T12:31:59.239844561",
          "2024-08-20T12:31:59.299728394",
          "2024-08-20T12:31:59.346602917",
          "2024-08-20T12:31:59.392479658",
          "2024-08-20T12:31:59.455312490",
          "2024-08-20T12:31:59.519181966",
          "2024-08-20T12:31:59.584981441",
          "2024-08-20T12:31:59.647796392",
          "2024-08-20T12:31:59.710932016",
          "2024-08-20T12:31:59.783735514",
          "2024-08-20T12:31:59.839586020",
          "2024-08-20T12:31:59.903450012",
          "2024-08-20T12:31:59.966248512",
          "2024-08-20T12:32:00.031110048",
          "2024-08-20T12:32:00.101887941",
          "2024-08-20T12:32:00.159729958",
          "2024-08-20T12:32:00.222562075",
          "2024-08-20T12:32:00.287391663",
          "2024-08-20T12:32:00.352120399",
          "2024-08-20T12:32:00.413935184",
          "2024-08-20T12:32:00.478729010",
          "2024-08-20T12:32:00.542225122",
          "2024-08-20T12:32:00.610045195",
          "2024-08-20T12:32:00.671614647",
          "2024-08-20T12:32:00.735095501",
          "2024-08-20T12:32:00.799942493",
          "2024-08-20T12:32:00.863315344",
          "2024-08-20T12:32:00.928106546",
          "2024-08-20T12:32:01.008890390",
          "2024-08-20T12:32:01.070760727",
          "2024-08-20T12:32:01.117598772",
          "2024-08-20T12:32:01.181464672",
          "2024-08-20T12:32:01.245420218",
          "2024-08-20T12:32:01.314198017",
          "2024-08-20T12:32:01.377030849",
          "2024-08-20T12:32:01.439896584",
          "2024-08-20T12:32:01.512666941",
          "2024-08-20T12:32:01.589461088",
          "2024-08-20T12:32:01.634341002",
          "2024-08-20T12:32:01.695178032",
          "2024-08-20T12:32:01.761003256",
          "2024-08-20T12:32:01.821839809",
          "2024-08-20T12:32:01.885703325",
          "2024-08-20T12:32:01.950496435",
          "2024-08-20T12:32:02.016355275",
          "2024-08-20T12:32:02.079560041",
          "2024-08-20T12:32:02.147934437",
          "2024-08-20T12:32:02.205846548",
          "2024-08-20T12:32:02.270641804",
          "2024-08-20T12:32:02.344480515",
          "2024-08-20T12:32:02.461406469",
          "2024-08-20T12:32:02.517229556",
          "2024-08-20T12:32:02.564082146",
          "2024-08-20T12:32:02.629870892",
          "2024-08-20T12:32:02.699684858",
          "2024-08-20T12:32:02.746571541",
          "2024-08-20T12:32:02.795462847",
          "2024-08-20T12:32:02.853273153",
          "2024-08-20T12:32:02.914112091",
          "2024-08-20T12:32:02.973954678",
          "2024-08-20T12:32:03.051743984",
          "2024-08-20T12:32:03.102615833",
          "2024-08-20T12:32:03.168430090",
          "2024-08-20T12:32:03.248250484",
          "2024-08-20T12:32:03.296088934",
          "2024-08-20T12:32:03.361934662",
          "2024-08-20T12:32:03.423750877",
          "2024-08-20T12:32:03.487687349",
          "2024-08-20T12:32:03.550518513",
          "2024-08-20T12:32:03.618339300",
          "2024-08-20T12:32:03.692140341",
          "2024-08-20T12:32:03.742039919",
          "2024-08-20T12:32:03.805836201",
          "2024-08-20T12:32:03.872937918",
          "2024-08-20T12:32:03.934771776",
          "2024-08-20T12:32:04.138708115",
          "2024-08-20T12:32:04.162652016",
          "2024-08-20T12:32:04.215462923",
          "2024-08-20T12:32:04.261340141",
          "2024-08-20T12:32:04.305223465",
          "2024-08-20T12:32:04.367092133",
          "2024-08-20T12:32:04.410940409",
          "2024-08-20T12:32:04.457854271",
          "2024-08-20T12:32:04.517654896",
          "2024-08-20T12:32:04.580527544",
          "2024-08-20T12:32:04.637335539",
          "2024-08-20T12:32:04.706151247",
          "2024-08-20T12:32:04.765990496",
          "2024-08-20T12:32:04.830850601",
          "2024-08-20T12:32:04.894646168",
          "2024-08-20T12:32:04.958475590",
          "2024-08-20T12:32:05.028358459",
          "2024-08-20T12:32:05.090869427",
          "2024-08-20T12:32:05.155694008",
          "2024-08-20T12:32:05.220520258",
          "2024-08-20T12:32:05.280360222",
          "2024-08-20T12:32:05.344203472",
          "2024-08-20T12:32:05.416617870",
          "2024-08-20T12:32:05.473434925",
          "2024-08-20T12:32:05.533270836",
          "2024-08-20T12:32:05.599692583",
          "2024-08-20T12:32:05.668574572",
          "2024-08-20T12:32:05.727350950",
          "2024-08-20T12:32:05.791183472",
          "2024-08-20T12:32:05.854014158",
          "2024-08-20T12:32:05.924823761",
          "2024-08-20T12:32:05.983665466",
          "2024-08-20T12:32:06.046497345",
          "2024-08-20T12:32:06.113318920",
          "2024-08-20T12:32:06.185126543",
          "2024-08-20T12:32:06.244966507",
          "2024-08-20T12:32:06.305804491",
          "2024-08-20T12:32:06.427478552",
          "2024-08-20T12:32:06.476348162",
          "2024-08-20T12:32:06.519232987",
          "2024-08-20T12:32:06.580214500",
          "2024-08-20T12:32:06.640358686",
          "2024-08-20T12:32:06.689215422",
          "2024-08-20T12:32:06.750109673",
          "2024-08-20T12:32:06.817869663",
          "2024-08-20T12:32:06.883101940",
          "2024-08-20T12:32:06.941977024",
          "2024-08-20T12:32:07.051910162",
          "2024-08-20T12:32:07.107870817",
          "2024-08-20T12:32:07.159778595",
          "2024-08-20T12:32:07.225763559",
          "2024-08-20T12:32:07.280441046",
          "2024-08-20T12:32:07.327314854",
          "2024-08-20T12:32:07.392040730",
          "2024-08-20T12:32:07.453844547",
          "2024-08-20T12:32:07.519663572",
          "2024-08-20T12:32:07.585496664",
          "2024-08-20T12:32:07.646383524",
          "2024-08-20T12:32:07.712150097",
          "2024-08-20T12:32:07.776016474",
          "2024-08-20T12:32:07.839809179",
          "2024-08-20T12:32:07.902639627",
          "2024-08-20T12:32:07.965471029",
          "2024-08-20T12:32:08.032032250",
          "2024-08-20T12:32:08.093867064",
          "2024-08-20T12:32:08.167701006",
          "2024-08-20T12:32:08.227540970",
          "2024-08-20T12:32:08.295396090",
          "2024-08-20T12:32:08.349215508",
          "2024-08-20T12:32:08.416072607",
          "2024-08-20T12:32:08.480871439",
          "2024-08-20T12:32:08.542946577",
          "2024-08-20T12:32:08.606839895",
          "2024-08-20T12:32:08.670669317",
          "2024-08-20T12:32:08.748494625",
          "2024-08-20T12:32:08.810294867",
          "2024-08-20T12:32:08.870174646",
          "2024-08-20T12:32:08.929901600",
          "2024-08-20T12:32:08.990741253",
          "2024-08-20T12:32:09.054567575",
          "2024-08-20T12:32:09.119748592",
          "2024-08-20T12:32:09.183618307",
          "2024-08-20T12:32:09.246409178",
          "2024-08-20T12:32:09.310237885",
          "2024-08-20T12:32:09.376274586",
          "2024-08-20T12:32:09.444119215",
          "2024-08-20T12:32:09.505930185",
          "2024-08-20T12:32:09.570753813",
          "2024-08-20T12:32:09.633613825",
          "2024-08-20T12:32:09.695421457",
          "2024-08-20T12:32:09.758251190",
          "2024-08-20T12:32:09.823078632",
          "2024-08-20T12:32:09.892893553",
          "2024-08-20T12:32:09.950737238",
          "2024-08-20T12:32:10.014777422",
          "2024-08-20T12:32:10.086585045",
          "2024-08-20T12:32:10.141972303",
          "2024-08-20T12:32:10.210790157",
          "2024-08-20T12:32:10.270623446",
          "2024-08-20T12:32:10.334451199",
          "2024-08-20T12:32:10.401107311",
          "2024-08-20T12:32:10.475941658",
          "2024-08-20T12:32:10.526770592",
          "2024-08-20T12:32:10.592339277",
          "2024-08-20T12:32:10.654148579",
          "2024-08-20T12:32:10.718975782",
          "2024-08-20T12:32:10.782802105",
          "2024-08-20T12:32:10.848627567",
          "2024-08-20T12:32:10.910460711",
          "2024-08-20T12:32:10.977282286",
          "2024-08-20T12:32:11.039152861",
          "2024-08-20T12:32:11.103947401",
          "2024-08-20T12:32:11.167773247",
          "2024-08-20T12:32:11.229755402",
          "2024-08-20T12:32:11.300566435",
          "2024-08-20T12:32:11.360479593",
          "2024-08-20T12:32:11.429301023",
          "2024-08-20T12:32:11.491092443",
          "2024-08-20T12:32:11.549935341",
          "2024-08-20T12:32:11.614765167",
          "2024-08-20T12:32:11.678591490",
          "2024-08-20T12:32:11.881561279",
          "2024-08-20T12:32:11.898514748",
          "2024-08-20T12:32:11.957359314",
          "2024-08-20T12:32:12.000243187",
          "2024-08-20T12:32:12.059998989",
          "2024-08-20T12:32:12.107871294",
          "2024-08-20T12:32:12.150756359",
          "2024-08-20T12:32:12.212984085",
          "2024-08-20T12:32:12.266843080",
          "2024-08-20T12:32:12.333659649",
          "2024-08-20T12:32:12.400614738",
          "2024-08-20T12:32:12.452477217",
          "2024-08-20T12:32:12.509835005",
          "2024-08-20T12:32:12.584639788",
          "2024-08-20T12:32:12.639522791",
          "2024-08-20T12:32:12.704347134",
          "2024-08-20T12:32:12.766216516",
          "2024-08-20T12:32:12.831049442",
          "2024-08-20T12:32:12.897837639",
          "2024-08-20T12:32:12.957735538",
          "2024-08-20T12:32:13.023500681",
          "2024-08-20T12:32:13.087365866",
          "2024-08-20T12:32:13.162170649",
          "2024-08-20T12:32:13.215023041",
          "2024-08-20T12:32:13.280812502",
          "2024-08-20T12:32:13.341650486",
          "2024-08-20T12:32:13.405478477",
          "2024-08-20T12:32:13.470162392",
          "2024-08-20T12:32:13.536520719",
          "2024-08-20T12:32:13.601319313",
          "2024-08-20T12:32:13.662052870",
          "2024-08-20T12:32:13.725847721",
          "2024-08-20T12:32:13.791673660",
          "2024-08-20T12:32:13.853515148",
          "2024-08-20T12:32:13.930917978",
          "2024-08-20T12:32:13.993786335",
          "2024-08-20T12:32:14.059574604",
          "2024-08-20T12:32:14.110471010",
          "2024-08-20T12:32:14.175262690",
          "2024-08-20T12:32:14.239600658",
          "2024-08-20T12:32:14.304803610",
          "2024-08-20T12:32:14.370627165",
          "2024-08-20T12:32:14.430467367",
          "2024-08-20T12:32:14.494708300",
          "2024-08-20T12:32:14.558565378",
          "2024-08-20T12:32:14.631342411",
          "2024-08-20T12:32:14.685559273",
          "2024-08-20T12:32:14.750857830",
          "2024-08-20T12:32:14.813715219",
          "2024-08-20T12:32:14.879512548",
          "2024-08-20T12:32:14.945337057",
          "2024-08-20T12:32:15.009166241",
          "2024-08-20T12:32:15.070513248",
          "2024-08-20T12:32:15.136845350",
          "2024-08-20T12:32:15.243623495",
          "2024-08-20T12:32:15.292493105",
          "2024-08-20T12:32:15.336418152",
          "2024-08-20T12:32:15.403240204",
          "2024-08-20T12:32:15.460046530",
          "2024-08-20T12:32:15.519924878",
          "2024-08-20T12:32:15.582721472",
          "2024-08-20T12:32:15.646606445",
          "2024-08-20T12:32:15.718358517",
          "2024-08-20T12:32:15.777199030",
          "2024-08-20T12:32:15.840064526",
          "2024-08-20T12:32:15.907848120",
          "2024-08-20T12:32:15.965693712",
          "2024-08-20T12:32:16.031555175",
          "2024-08-20T12:32:16.096345186",
          "2024-08-20T12:32:16.159226656",
          "2024-08-20T12:32:16.222518921",
          "2024-08-20T12:32:16.286342859",
          "2024-08-20T12:32:16.351169825",
          "2024-08-20T12:32:16.413003683",
          "2024-08-20T12:32:16.480856419",
          "2024-08-20T12:32:16.542655945",
          "2024-08-20T12:32:16.610476255",
          "2024-08-20T12:32:16.670314550",
          "2024-08-20T12:32:16.734145641",
          "2024-08-20T12:32:16.799000502",
          "2024-08-20T12:32:16.881431103",
          "2024-08-20T12:32:16.929389238",
          "2024-08-20T12:32:16.989288330",
          "2024-08-20T12:32:17.056051016",
          "2024-08-20T12:32:17.117888451",
          "2024-08-20T12:32:17.183228970",
          "2024-08-20T12:32:17.246451139",
          "2024-08-20T12:32:17.311335325",
          "2024-08-20T12:32:17.374109983",
          "2024-08-20T12:32:17.440968990",
          "2024-08-20T12:32:17.502764702",
          "2024-08-20T12:32:17.568790674",
          "2024-08-20T12:32:17.629988670",
          "2024-08-20T12:32:17.707792282",
          "2024-08-20T12:32:17.769598246",
          "2024-08-20T12:32:17.823451996",
          "2024-08-20T12:32:17.886348248",
          "2024-08-20T12:32:17.957094431",
          "2024-08-20T12:32:18.015938759",
          "2024-08-20T12:32:18.084788322",
          "2024-08-20T12:32:18.142599106",
          "2024-08-20T12:32:18.207425594",
          "2024-08-20T12:32:18.270257473",
          "2024-08-20T12:32:18.335122108",
          "2024-08-20T12:32:18.399975538",
          "2024-08-20T12:32:18.470842600",
          "2024-08-20T12:32:18.525648832",
          "2024-08-20T12:32:18.590513945",
          "2024-08-20T12:32:18.657296419",
          "2024-08-20T12:32:18.718192339",
          "2024-08-20T12:32:18.782960415",
          "2024-08-20T12:32:18.847694159",
          "2024-08-20T12:32:18.910487652",
          "2024-08-20T12:32:18.975023031",
          "2024-08-20T12:32:19.037863016",
          "2024-08-20T12:32:19.103645325",
          "2024-08-20T12:32:19.172459364",
          "2024-08-20T12:32:19.240307093",
          "2024-08-20T12:32:19.297124147",
          "2024-08-20T12:32:19.359956264",
          "2024-08-20T12:32:19.425780773",
          "2024-08-20T12:32:19.623049498",
          "2024-08-20T12:32:19.641996622",
          "2024-08-20T12:32:19.698847055",
          "2024-08-20T12:32:19.756545067",
          "2024-08-20T12:32:19.804416180",
          "2024-08-20T12:32:19.850294828",
          "2024-08-20T12:32:19.894176245",
          "2024-08-20T12:32:19.955012321",
          "2024-08-20T12:32:20.001924038",
          "2024-08-20T12:32:20.070703506",
          "2024-08-20T12:32:20.132539988",
          "2024-08-20T12:32:20.191419840",
          "2024-08-20T12:32:20.262194872",
          "2024-08-20T12:32:20.322516203",
          "2024-08-20T12:32:20.387259722",
          "2024-08-20T12:32:20.446102619",
          "2024-08-20T12:32:20.520902157",
          "2024-08-20T12:32:20.584731817",
          "2024-08-20T12:32:20.653100014",
          "2024-08-20T12:32:20.706911802",
          "2024-08-20T12:32:20.771246910",
          "2024-08-20T12:32:20.832086563",
          "2024-08-20T12:32:20.895421505",
          "2024-08-20T12:32:20.959251165",
          "2024-08-20T12:32:21.024112225",
          "2024-08-20T12:32:21.086937666",
          "2024-08-20T12:32:21.150739670",
          "2024-08-20T12:32:21.215182066",
          "2024-08-20T12:32:21.288241148",
          "2024-08-20T12:32:21.342065573",
          "2024-08-20T12:32:21.407263279",
          "2024-08-20T12:32:21.483011246",
          "2024-08-20T12:32:21.532878399",
          "2024-08-20T12:32:21.599734306",
          "2024-08-20T12:32:21.667518377",
          "2024-08-20T12:32:21.730396748",
          "2024-08-20T12:32:21.791186571",
          "2024-08-20T12:32:21.855018854",
          "2024-08-20T12:32:21.920847893",
          "2024-08-20T12:32:21.982674122",
          "2024-08-20T12:32:22.189171791",
          "2024-08-20T12:32:22.202137947",
          "2024-08-20T12:32:22.256990194",
          "2024-08-20T12:32:22.320201874",
          "2024-08-20T12:32:22.365945339",
          "2024-08-20T12:32:22.409827948",
          "2024-08-20T12:32:22.457733631",
          "2024-08-20T12:32:22.516542673",
          "2024-08-20T12:32:22.564417124",
          "2024-08-20T12:32:22.622356653",
          "2024-08-20T12:32:22.687514067",
          "2024-08-20T12:32:22.750309229",
          "2024-08-20T12:32:22.818037748",
          "2024-08-20T12:32:22.886855364",
          "2024-08-20T12:32:22.941748381",
          "2024-08-20T12:32:23.005697012",
          "2024-08-20T12:32:23.077054977",
          "2024-08-20T12:32:23.133903503",
          "2024-08-20T12:32:23.235785723",
          "2024-08-20T12:32:23.298555374",
          "2024-08-20T12:32:23.360395193",
          "2024-08-20T12:32:23.415242434",
          "2024-08-20T12:32:23.455136061",
          "2024-08-20T12:32:23.520959139",
          "2024-08-20T12:32:23.591769695",
          "2024-08-20T12:32:23.645626307",
          "2024-08-20T12:32:23.709454775",
          "2024-08-20T12:32:23.781263590",
          "2024-08-20T12:32:23.837112904",
          "2024-08-20T12:32:23.903935671",
          "2024-08-20T12:32:23.965770245",
          "2024-08-20T12:32:24.034584522",
          "2024-08-20T12:32:24.102404833",
          "2024-08-20T12:32:24.158255816",
          "2024-08-20T12:32:24.223082304",
          "2024-08-20T12:32:24.300907373",
          "2024-08-20T12:32:24.357778549",
          "2024-08-20T12:32:24.416562796",
          "2024-08-20T12:32:24.479396105",
          "2024-08-20T12:32:24.543224573",
          "2024-08-20T12:32:24.606056452",
          "2024-08-20T12:32:24.671190023",
          "2024-08-20T12:32:24.737014294",
          "2024-08-20T12:32:24.801352024",
          "2024-08-20T12:32:24.864221811",
          "2024-08-20T12:32:24.932000160",
          "2024-08-20T12:32:24.992837667",
          "2024-08-20T12:32:25.054672956",
          "2024-08-20T12:32:25.118500710",
          "2024-08-20T12:32:25.195301294",
          "2024-08-20T12:32:25.253140926",
          "2024-08-20T12:32:25.311498642",
          "2024-08-20T12:32:25.375326633",
          "2024-08-20T12:32:25.440153599",
          "2024-08-20T12:32:25.641125202",
          "2024-08-20T12:32:25.657083750",
          "2024-08-20T12:32:25.720910788",
          "2024-08-20T12:32:25.765789747",
          "2024-08-20T12:32:25.811667442",
          "2024-08-20T12:32:25.873502493",
          "2024-08-20T12:32:25.917384863",
          "2024-08-20T12:32:25.965266705",
          "2024-08-20T12:32:26.015124083",
          "2024-08-20T12:32:26.081945181",
          "2024-08-20T12:32:26.143970490",
          "2024-08-20T12:32:26.207308531",
          "2024-08-20T12:32:26.277124882",
          "2024-08-20T12:32:26.335473299",
          "2024-08-20T12:32:26.399356604",
          "2024-08-20T12:32:26.469116211",
          "2024-08-20T12:32:26.526027203",
          "2024-08-20T12:32:26.599806547",
          "2024-08-20T12:32:26.662598610",
          "2024-08-20T12:32:26.719447613",
          "2024-08-20T12:32:26.787300110",
          "2024-08-20T12:32:26.846109152",
          "2024-08-20T12:32:26.909974575",
          "2024-08-20T12:32:26.982742786",
          "2024-08-20T12:32:27.039618492",
          "2024-08-20T12:32:27.109428883",
          "2024-08-20T12:32:27.168270826",
          "2024-08-20T12:32:27.244070053",
          "2024-08-20T12:32:27.300915718",
          "2024-08-20T12:32:27.358763456",
          "2024-08-20T12:32:27.430572271",
          "2024-08-20T12:32:27.495396614",
          "2024-08-20T12:32:27.552243471",
          "2024-08-20T12:32:27.618986607",
          "2024-08-20T12:32:27.679826498",
          "2024-08-20T12:32:27.744651794",
          "2024-08-20T12:32:27.811474085",
          "2024-08-20T12:32:27.871311665",
          "2024-08-20T12:32:27.938232660",
          "2024-08-20T12:32:28.007043123",
          "2024-08-20T12:32:28.066883086",
          "2024-08-20T12:32:28.126723528",
          "2024-08-20T12:32:28.193597555",
          "2024-08-20T12:32:28.260417461",
          "2024-08-20T12:32:28.320315361",
          "2024-08-20T12:32:28.384086132",
          "2024-08-20T12:32:28.446953297",
          "2024-08-20T12:32:28.518725634",
          "2024-08-20T12:32:28.576572895",
          "2024-08-20T12:32:28.641489267",
          "2024-08-20T12:32:28.702045441",
          "2024-08-20T12:32:28.767858028",
          "2024-08-20T12:32:28.830724716",
          "2024-08-20T12:32:28.896514893",
          "2024-08-20T12:32:28.961437941",
          "2024-08-20T12:32:29.023036718",
          "2024-08-20T12:32:29.086858511",
          "2024-08-20T12:32:29.150660276",
          "2024-08-20T12:32:29.214490175",
          "2024-08-20T12:32:29.280347824",
          "2024-08-20T12:32:29.347641230",
          "2024-08-20T12:32:29.408477068",
          "2024-08-20T12:32:29.473303795",
          "2024-08-20T12:32:29.534140825",
          "2024-08-20T12:32:29.603953600",
          "2024-08-20T12:32:29.662796974",
          "2024-08-20T12:32:29.728660822",
          "2024-08-20T12:32:29.829075098",
          "2024-08-20T12:32:29.855006218",
          "2024-08-20T12:32:29.918835640",
          "2024-08-20T12:32:29.984659910",
          "2024-08-20T12:32:30.048488617",
          "2024-08-20T12:32:30.111320496",
          "2024-08-20T12:32:30.174177170",
          "2024-08-20T12:32:30.241478205",
          "2024-08-20T12:32:30.304310322",
          "2024-08-20T12:32:30.367180586",
          "2024-08-20T12:32:30.433924198",
          "2024-08-20T12:32:30.496754646",
          "2024-08-20T12:32:30.561550379",
          "2024-08-20T12:32:30.623412132",
          "2024-08-20T12:32:30.686249495",
          "2024-08-20T12:32:30.753970623",
          "2024-08-20T12:32:30.815323591",
          "2024-08-20T12:32:30.879150867",
          "2024-08-20T12:32:30.955455780",
          "2024-08-20T12:32:31.006345749",
          "2024-08-20T12:32:31.084110022",
          "2024-08-20T12:32:31.133013964",
          "2024-08-20T12:32:31.203535080",
          "2024-08-20T12:32:31.271354437",
          "2024-08-20T12:32:31.326326847",
          "2024-08-20T12:32:31.408055782",
          "2024-08-20T12:32:31.458920002",
          "2024-08-20T12:32:31.552667856",
          "2024-08-20T12:32:31.591563702",
          "2024-08-20T12:32:31.650408030",
          "2024-08-20T12:32:31.710282564",
          "2024-08-20T12:32:31.776070833",
          "2024-08-20T12:32:31.837939978",
          "2024-08-20T12:32:31.907718420",
          "2024-08-20T12:32:31.973545551",
          "2024-08-20T12:32:32.030505180",
          "2024-08-20T12:32:32.096329927",
          "2024-08-20T12:32:32.159909010",
          "2024-08-20T12:32:32.223783493",
          "2024-08-20T12:32:32.285617352",
          "2024-08-20T12:32:32.355093002",
          "2024-08-20T12:32:32.423932314",
          "2024-08-20T12:32:32.477780581",
          "2024-08-20T12:32:32.545111179",
          "2024-08-20T12:32:32.610616684",
          "2024-08-20T12:32:32.672452688",
          "2024-08-20T12:32:32.738783121",
          "2024-08-20T12:32:32.800617695",
          "2024-08-20T12:32:32.862452507",
          "2024-08-20T12:32:32.927278280",
          "2024-08-20T12:32:32.991107702",
          "2024-08-20T12:32:33.061918974",
          "2024-08-20T12:32:33.117813110",
          "2024-08-20T12:32:33.183628321",
          "2024-08-20T12:32:33.247426987",
          "2024-08-20T12:32:33.313245773",
          "2024-08-20T12:32:33.376078844",
          "2024-08-20T12:32:33.437913418",
          "2024-08-20T12:32:33.507761955",
          "2024-08-20T12:32:33.566568375",
          "2024-08-20T12:32:33.630432606",
          "2024-08-20T12:32:33.696256876",
          "2024-08-20T12:32:33.763337374",
          "2024-08-20T12:32:33.823216915",
          "2024-08-20T12:32:33.886786699",
          "2024-08-20T12:32:33.951614380",
          "2024-08-20T12:32:34.019431353",
          "2024-08-20T12:32:34.080267668",
          "2024-08-20T12:32:34.142103195",
          "2024-08-20T12:32:34.208925486",
          "2024-08-20T12:32:34.270759106",
          "2024-08-20T12:32:34.334587574",
          "2024-08-20T12:32:34.409389973",
          "2024-08-20T12:32:34.463746071",
          "2024-08-20T12:32:34.525631427",
          "2024-08-20T12:32:34.590441942",
          "2024-08-20T12:32:34.672589302",
          "2024-08-20T12:32:34.718495369",
          "2024-08-20T12:32:34.784605265",
          "2024-08-20T12:32:34.845502377",
          "2024-08-20T12:32:34.915297985",
          "2024-08-20T12:32:34.976535082",
          "2024-08-20T12:32:35.038368940",
          "2024-08-20T12:32:35.101213455",
          "2024-08-20T12:32:35.170028687",
          "2024-08-20T12:32:35.229869604",
          "2024-08-20T12:32:35.296691179",
          "2024-08-20T12:32:35.365506649",
          "2024-08-20T12:32:35.421391964",
          "2024-08-20T12:32:35.489713669",
          "2024-08-20T12:32:35.550548553"
         ],
         "xaxis": "x2",
         "y": {
          "bdata": "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",
          "dtype": "f8"
         },
         "yaxis": "y2"
        },
        {
         "marker": {
          "color": "lightcoral"
         },
         "name": "Distribution",
         "nbinsx": 30,
         "opacity": 0.7,
         "type": "histogram",
         "x": {
          "bdata": "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",
          "dtype": "f8"
         },
         "xaxis": "x3",
         "yaxis": "y3"
        },
        {
         "line": {
          "color": "lightcoral",
          "width": 1
         },
         "mode": "lines",
         "name": "Raw",
         "opacity": 0.5,
         "type": "scatter",
         "x": {
          "bdata": "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",
          "dtype": "i2"
         },
         "xaxis": "x4",
         "y": {
          "bdata": "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",
          "dtype": "f8"
         },
         "yaxis": "y4"
        },
        {
         "line": {
          "color": "darkred",
          "width": 3
         },
         "mode": "lines",
         "name": "Smoothed (n=50)",
         "type": "scatter",
         "x": {
          "bdata": "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",
          "dtype": "i2"
         },
         "xaxis": "x4",
         "y": {
          "bdata": "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",
          "dtype": "f8"
         },
         "yaxis": "y4"
        }
       ],
       "layout": {
        "annotations": [
         {
          "font": {
           "size": 16
          },
          "showarrow": false,
          "text": "Distance vs Frame Index",
          "x": 0.225,
          "xanchor": "center",
          "xref": "paper",
          "y": 1,
          "yanchor": "bottom",
          "yref": "paper"
         },
         {
          "font": {
           "size": 16
          },
          "showarrow": false,
          "text": "Distance vs Time",
          "x": 0.775,
          "xanchor": "center",
          "xref": "paper",
          "y": 1,
          "yanchor": "bottom",
          "yref": "paper"
         },
         {
          "font": {
           "size": 16
          },
          "showarrow": false,
          "text": "Distance Distribution",
          "x": 0.225,
          "xanchor": "center",
          "xref": "paper",
          "y": 0.375,
          "yanchor": "bottom",
          "yref": "paper"
         },
         {
          "font": {
           "size": 16
          },
          "showarrow": false,
          "text": "Distance Trends",
          "x": 0.775,
          "xanchor": "center",
          "xref": "paper",
          "y": 0.375,
          "yanchor": "bottom",
          "yref": "paper"
         },
         {
          "showarrow": false,
          "text": "Mean: 2.00meters",
          "x": 1.9974935659185997,
          "xanchor": "left",
          "xref": "x3",
          "y": 1,
          "yanchor": "top",
          "yref": "y3 domain"
         }
        ],
        "height": 800,
        "shapes": [
         {
          "line": {
           "color": "red",
           "dash": "dash"
          },
          "type": "line",
          "x0": 1.9974935659185997,
          "x1": 1.9974935659185997,
          "xref": "x3",
          "y0": 0,
          "y1": 1,
          "yref": "y3 domain"
         }
        ],
        "showlegend": true,
        "template": {
         "data": {
          "bar": [
           {
            "error_x": {
             "color": "#2a3f5f"
            },
            "error_y": {
             "color": "#2a3f5f"
            },
            "marker": {
             "line": {
              "color": "#E5ECF6",
              "width": 0.5
             },
             "pattern": {
              "fillmode": "overlay",
              "size": 10,
              "solidity": 0.2
             }
            },
            "type": "bar"
           }
          ],
          "barpolar": [
           {
            "marker": {
             "line": {
              "color": "#E5ECF6",
              "width": 0.5
             },
             "pattern": {
              "fillmode": "overlay",
              "size": 10,
              "solidity": 0.2
             }
            },
            "type": "barpolar"
           }
          ],
          "carpet": [
           {
            "aaxis": {
             "endlinecolor": "#2a3f5f",
             "gridcolor": "white",
             "linecolor": "white",
             "minorgridcolor": "white",
             "startlinecolor": "#2a3f5f"
            },
            "baxis": {
             "endlinecolor": "#2a3f5f",
             "gridcolor": "white",
             "linecolor": "white",
             "minorgridcolor": "white",
             "startlinecolor": "#2a3f5f"
            },
            "type": "carpet"
           }
          ],
          "choropleth": [
           {
            "colorbar": {
             "outlinewidth": 0,
             "ticks": ""
            },
            "type": "choropleth"
           }
          ],
          "contour": [
           {
            "colorbar": {
             "outlinewidth": 0,
             "ticks": ""
            },
            "colorscale": [
             [
              0,
              "#0d0887"
             ],
             [
              0.1111111111111111,
              "#46039f"
             ],
             [
              0.2222222222222222,
              "#7201a8"
             ],
             [
              0.3333333333333333,
              "#9c179e"
             ],
             [
              0.4444444444444444,
              "#bd3786"
             ],
             [
              0.5555555555555556,
              "#d8576b"
             ],
             [
              0.6666666666666666,
              "#ed7953"
             ],
             [
              0.7777777777777778,
              "#fb9f3a"
             ],
             [
              0.8888888888888888,
              "#fdca26"
             ],
             [
              1,
              "#f0f921"
             ]
            ],
            "type": "contour"
           }
          ],
          "contourcarpet": [
           {
            "colorbar": {
             "outlinewidth": 0,
             "ticks": ""
            },
            "type": "contourcarpet"
           }
          ],
          "heatmap": [
           {
            "colorbar": {
             "outlinewidth": 0,
             "ticks": ""
            },
            "colorscale": [
             [
              0,
              "#0d0887"
             ],
             [
              0.1111111111111111,
              "#46039f"
             ],
             [
              0.2222222222222222,
              "#7201a8"
             ],
             [
              0.3333333333333333,
              "#9c179e"
             ],
             [
              0.4444444444444444,
              "#bd3786"
             ],
             [
              0.5555555555555556,
              "#d8576b"
             ],
             [
              0.6666666666666666,
              "#ed7953"
             ],
             [
              0.7777777777777778,
              "#fb9f3a"
             ],
             [
              0.8888888888888888,
              "#fdca26"
             ],
             [
              1,
              "#f0f921"
             ]
            ],
            "type": "heatmap"
           }
          ],
          "histogram": [
           {
            "marker": {
             "pattern": {
              "fillmode": "overlay",
              "size": 10,
              "solidity": 0.2
             }
            },
            "type": "histogram"
           }
          ],
          "histogram2d": [
           {
            "colorbar": {
             "outlinewidth": 0,
             "ticks": ""
            },
            "colorscale": [
             [
              0,
              "#0d0887"
             ],
             [
              0.1111111111111111,
              "#46039f"
             ],
             [
              0.2222222222222222,
              "#7201a8"
             ],
             [
              0.3333333333333333,
              "#9c179e"
             ],
             [
              0.4444444444444444,
              "#bd3786"
             ],
             [
              0.5555555555555556,
              "#d8576b"
             ],
             [
              0.6666666666666666,
              "#ed7953"
             ],
             [
              0.7777777777777778,
              "#fb9f3a"
             ],
             [
              0.8888888888888888,
              "#fdca26"
             ],
             [
              1,
              "#f0f921"
             ]
            ],
            "type": "histogram2d"
           }
          ],
          "histogram2dcontour": [
           {
            "colorbar": {
             "outlinewidth": 0,
             "ticks": ""
            },
            "colorscale": [
             [
              0,
              "#0d0887"
             ],
             [
              0.1111111111111111,
              "#46039f"
             ],
             [
              0.2222222222222222,
              "#7201a8"
             ],
             [
              0.3333333333333333,
              "#9c179e"
             ],
             [
              0.4444444444444444,
              "#bd3786"
             ],
             [
              0.5555555555555556,
              "#d8576b"
             ],
             [
              0.6666666666666666,
              "#ed7953"
             ],
             [
              0.7777777777777778,
              "#fb9f3a"
             ],
             [
              0.8888888888888888,
              "#fdca26"
             ],
             [
              1,
              "#f0f921"
             ]
            ],
            "type": "histogram2dcontour"
           }
          ],
          "mesh3d": [
           {
            "colorbar": {
             "outlinewidth": 0,
             "ticks": ""
            },
            "type": "mesh3d"
           }
          ],
          "parcoords": [
           {
            "line": {
             "colorbar": {
              "outlinewidth": 0,
              "ticks": ""
             }
            },
            "type": "parcoords"
           }
          ],
          "pie": [
           {
            "automargin": true,
            "type": "pie"
           }
          ],
          "scatter": [
           {
            "fillpattern": {
             "fillmode": "overlay",
             "size": 10,
             "solidity": 0.2
            },
            "type": "scatter"
           }
          ],
          "scatter3d": [
           {
            "line": {
             "colorbar": {
              "outlinewidth": 0,
              "ticks": ""
             }
            },
            "marker": {
             "colorbar": {
              "outlinewidth": 0,
              "ticks": ""
             }
            },
            "type": "scatter3d"
           }
          ],
          "scattercarpet": [
           {
            "marker": {
             "colorbar": {
              "outlinewidth": 0,
              "ticks": ""
             }
            },
            "type": "scattercarpet"
           }
          ],
          "scattergeo": [
           {
            "marker": {
             "colorbar": {
              "outlinewidth": 0,
              "ticks": ""
             }
            },
            "type": "scattergeo"
           }
          ],
          "scattergl": [
           {
            "marker": {
             "colorbar": {
              "outlinewidth": 0,
              "ticks": ""
             }
            },
            "type": "scattergl"
           }
          ],
          "scattermap": [
           {
            "marker": {
             "colorbar": {
              "outlinewidth": 0,
              "ticks": ""
             }
            },
            "type": "scattermap"
           }
          ],
          "scattermapbox": [
           {
            "marker": {
             "colorbar": {
              "outlinewidth": 0,
              "ticks": ""
             }
            },
            "type": "scattermapbox"
           }
          ],
          "scatterpolar": [
           {
            "marker": {
             "colorbar": {
              "outlinewidth": 0,
              "ticks": ""
             }
            },
            "type": "scatterpolar"
           }
          ],
          "scatterpolargl": [
           {
            "marker": {
             "colorbar": {
              "outlinewidth": 0,
              "ticks": ""
             }
            },
            "type": "scatterpolargl"
           }
          ],
          "scatterternary": [
           {
            "marker": {
             "colorbar": {
              "outlinewidth": 0,
              "ticks": ""
             }
            },
            "type": "scatterternary"
           }
          ],
          "surface": [
           {
            "colorbar": {
             "outlinewidth": 0,
             "ticks": ""
            },
            "colorscale": [
             [
              0,
              "#0d0887"
             ],
             [
              0.1111111111111111,
              "#46039f"
             ],
             [
              0.2222222222222222,
              "#7201a8"
             ],
             [
              0.3333333333333333,
              "#9c179e"
             ],
             [
              0.4444444444444444,
              "#bd3786"
             ],
             [
              0.5555555555555556,
              "#d8576b"
             ],
             [
              0.6666666666666666,
              "#ed7953"
             ],
             [
              0.7777777777777778,
              "#fb9f3a"
             ],
             [
              0.8888888888888888,
              "#fdca26"
             ],
             [
              1,
              "#f0f921"
             ]
            ],
            "type": "surface"
           }
          ],
          "table": [
           {
            "cells": {
             "fill": {
              "color": "#EBF0F8"
             },
             "line": {
              "color": "white"
             }
            },
            "header": {
             "fill": {
              "color": "#C8D4E3"
             },
             "line": {
              "color": "white"
             }
            },
            "type": "table"
           }
          ]
         },
         "layout": {
          "annotationdefaults": {
           "arrowcolor": "#2a3f5f",
           "arrowhead": 0,
           "arrowwidth": 1
          },
          "autotypenumbers": "strict",
          "coloraxis": {
           "colorbar": {
            "outlinewidth": 0,
            "ticks": ""
           }
          },
          "colorscale": {
           "diverging": [
            [
             0,
             "#8e0152"
            ],
            [
             0.1,
             "#c51b7d"
            ],
            [
             0.2,
             "#de77ae"
            ],
            [
             0.3,
             "#f1b6da"
            ],
            [
             0.4,
             "#fde0ef"
            ],
            [
             0.5,
             "#f7f7f7"
            ],
            [
             0.6,
             "#e6f5d0"
            ],
            [
             0.7,
             "#b8e186"
            ],
            [
             0.8,
             "#7fbc41"
            ],
            [
             0.9,
             "#4d9221"
            ],
            [
             1,
             "#276419"
            ]
           ],
           "sequential": [
            [
             0,
             "#0d0887"
            ],
            [
             0.1111111111111111,
             "#46039f"
            ],
            [
             0.2222222222222222,
             "#7201a8"
            ],
            [
             0.3333333333333333,
             "#9c179e"
            ],
            [
             0.4444444444444444,
             "#bd3786"
            ],
            [
             0.5555555555555556,
             "#d8576b"
            ],
            [
             0.6666666666666666,
             "#ed7953"
            ],
            [
             0.7777777777777778,
             "#fb9f3a"
            ],
            [
             0.8888888888888888,
             "#fdca26"
            ],
            [
             1,
             "#f0f921"
            ]
           ],
           "sequentialminus": [
            [
             0,
             "#0d0887"
            ],
            [
             0.1111111111111111,
             "#46039f"
            ],
            [
             0.2222222222222222,
             "#7201a8"
            ],
            [
             0.3333333333333333,
             "#9c179e"
            ],
            [
             0.4444444444444444,
             "#bd3786"
            ],
            [
             0.5555555555555556,
             "#d8576b"
            ],
            [
             0.6666666666666666,
             "#ed7953"
            ],
            [
             0.7777777777777778,
             "#fb9f3a"
            ],
            [
             0.8888888888888888,
             "#fdca26"
            ],
            [
             1,
             "#f0f921"
            ]
           ]
          },
          "colorway": [
           "#636efa",
           "#EF553B",
           "#00cc96",
           "#ab63fa",
           "#FFA15A",
           "#19d3f3",
           "#FF6692",
           "#B6E880",
           "#FF97FF",
           "#FECB52"
          ],
          "font": {
           "color": "#2a3f5f"
          },
          "geo": {
           "bgcolor": "white",
           "lakecolor": "white",
           "landcolor": "#E5ECF6",
           "showlakes": true,
           "showland": true,
           "subunitcolor": "white"
          },
          "hoverlabel": {
           "align": "left"
          },
          "hovermode": "closest",
          "mapbox": {
           "style": "light"
          },
          "paper_bgcolor": "white",
          "plot_bgcolor": "#E5ECF6",
          "polar": {
           "angularaxis": {
            "gridcolor": "white",
            "linecolor": "white",
            "ticks": ""
           },
           "bgcolor": "#E5ECF6",
           "radialaxis": {
            "gridcolor": "white",
            "linecolor": "white",
            "ticks": ""
           }
          },
          "scene": {
           "xaxis": {
            "backgroundcolor": "#E5ECF6",
            "gridcolor": "white",
            "gridwidth": 2,
            "linecolor": "white",
            "showbackground": true,
            "ticks": "",
            "zerolinecolor": "white"
           },
           "yaxis": {
            "backgroundcolor": "#E5ECF6",
            "gridcolor": "white",
            "gridwidth": 2,
            "linecolor": "white",
            "showbackground": true,
            "ticks": "",
            "zerolinecolor": "white"
           },
           "zaxis": {
            "backgroundcolor": "#E5ECF6",
            "gridcolor": "white",
            "gridwidth": 2,
            "linecolor": "white",
            "showbackground": true,
            "ticks": "",
            "zerolinecolor": "white"
           }
          },
          "shapedefaults": {
           "line": {
            "color": "#2a3f5f"
           }
          },
          "ternary": {
           "aaxis": {
            "gridcolor": "white",
            "linecolor": "white",
            "ticks": ""
           },
           "baxis": {
            "gridcolor": "white",
            "linecolor": "white",
            "ticks": ""
           },
           "bgcolor": "#E5ECF6",
           "caxis": {
            "gridcolor": "white",
            "linecolor": "white",
            "ticks": ""
           }
          },
          "title": {
           "x": 0.05
          },
          "xaxis": {
           "automargin": true,
           "gridcolor": "white",
           "linecolor": "white",
           "ticks": "",
           "title": {
            "standoff": 15
           },
           "zerolinecolor": "white",
           "zerolinewidth": 2
          },
          "yaxis": {
           "automargin": true,
           "gridcolor": "white",
           "linecolor": "white",
           "ticks": "",
           "title": {
            "standoff": 15
           },
           "zerolinecolor": "white",
           "zerolinewidth": 2
          }
         }
        },
        "title": {
         "text": "Real-World Distance Analysis"
        },
        "xaxis": {
         "anchor": "y",
         "domain": [
          0,
          0.45
         ],
         "title": {
          "text": "Frame Index"
         }
        },
        "xaxis2": {
         "anchor": "y2",
         "domain": [
          0.55,
          1
         ],
         "title": {
          "text": "Time"
         }
        },
        "xaxis3": {
         "anchor": "y3",
         "domain": [
          0,
          0.45
         ],
         "title": {
          "text": "Distance (meters)"
         }
        },
        "xaxis4": {
         "anchor": "y4",
         "domain": [
          0.55,
          1
         ],
         "title": {
          "text": "Frame Index"
         }
        },
        "yaxis": {
         "anchor": "x",
         "domain": [
          0.625,
          1
         ],
         "title": {
          "text": "Distance (meters)"
         }
        },
        "yaxis2": {
         "anchor": "x2",
         "domain": [
          0.625,
          1
         ],
         "title": {
          "text": "Distance (meters)"
         }
        },
        "yaxis3": {
         "anchor": "x3",
         "domain": [
          0,
          0.375
         ],
         "title": {
          "text": "Frequency"
         }
        },
        "yaxis4": {
         "anchor": "x4",
         "domain": [
          0,
          0.375
         ],
         "title": {
          "text": "Distance (meters)"
         }
        }
       }
      }
     },
     "metadata": {},
     "output_type": "display_data"
    }
   ],
   "source": [
    "iau.VisualizationEngine.plot_distance_analysis(distance_results, \"Real-World Distance Analysis\")"
   ]
  },
  {
   "cell_type": "code",
   "execution_count": 16,
   "id": "c10a8be6",
   "metadata": {},
   "outputs": [
    {
     "name": "stdout",
     "output_type": "stream",
     "text": [
      "🎯 LOADING ALL DISTANCE DATA FOR BAG: 2024-08-20_14-31-29\n",
      "============================================================\n",
      "📡 1. Loading Navigation Data...\n",
      "   ✅ Loaded 559 navigation records\n",
      "📡 2. Loading Guidance Data...\n",
      "   ✅ Loaded 549 guidance records with ['error_net_distance', 'desired_net_distance', 'r_net_distance_d']\n",
      "📡 3. Loading DVL Altimeter...\n",
      "   ❌ DVL altimeter file not found\n",
      "📡 4. Loading USBL...\n",
      "   ✅ Loaded 33 USBL records\n",
      "📡 5. Loading DVL Position...\n",
      "   ✅ Loaded 283 DVL position records\n",
      "📡 6. Loading Navigation Position...\n",
      "   ✅ Loaded 278 navigation position records\n",
      "📡 7. Loading INS Z Position...\n",
      "   ❌ INS file not found\n",
      "\n",
      "📊 LOADING SUMMARY:\n",
      "   🎯 Target bag: 2024-08-20_14-31-29\n",
      "   📁 Raw data loaded: 2/2\n",
      "   📏 Distance measurements: 4\n",
      "\n",
      "📊 RAW DATA LOADED:\n",
      "   ✅ navigation: 559 records\n",
      "   ✅ guidance: 549 records\n",
      "\n",
      "📏 DISTANCE MEASUREMENTS LOADED:\n",
      "   ✅ USBL_3D: 33 records - 3D acoustic position\n",
      "   ✅ USBL_Depth: 33 records - USBL depth measurement\n",
      "   ✅ DVL_Position: 283 records - 3D DVL position\n",
      "   ✅ Nav_Position: 278 records - 2D navigation position\n"
     ]
    }
   ],
   "source": [
    "# 🔄 COMPARISON: SONAR vs DVL DISTANCE MEASUREMENTS\n",
    "# =================================================\n",
    "import utils.net_distance_analysis as sda\n",
    "\n",
    "# IMPORTANT: Pass the by_bag folder, not just the exports root\n",
    "# The function expects the folder containing the CSV files\n",
    "from utils.sonar_config import EXPORTS_SUBDIRS\n",
    "BY_BAG_FOLDER = EXPORTS_FOLDER / EXPORTS_SUBDIRS.get('by_bag', 'by_bag')\n",
    "\n",
    "# Load all distance data for the target bag\n",
    "raw_data, distance_measurements = sda.load_all_distance_data_for_bag(TARGET_BAG, BY_BAG_FOLDER)\n",
    "\n",
    "# Display what we loaded\n",
    "print(f\"\\n📊 RAW DATA LOADED:\")\n",
    "for key, data in raw_data.items():\n",
    "    if data is not None:\n",
    "        print(f\"   ✅ {key}: {len(data)} records\")\n",
    "    else:\n",
    "        print(f\"   ❌ {key}: None\")\n",
    "\n",
    "print(f\"\\n📏 DISTANCE MEASUREMENTS LOADED:\")\n",
    "for key, info in distance_measurements.items():\n",
    "    data_len = len(info['data'])\n",
    "    print(f\"   ✅ {key}: {data_len} records - {info['description']}\")"
   ]
  },
  {
   "cell_type": "code",
   "execution_count": 19,
   "id": "0375375e",
   "metadata": {},
   "outputs": [
    {
     "name": "stdout",
     "output_type": "stream",
     "text": [
      "\n",
      "📊 SONAR vs DVL COMPARISON STATISTICS:\n",
      "==================================================\n",
      "Sonar mean distance: 1.997 m\n",
      "DVL mean distance:   1.968 m\n",
      "Scale ratio (Sonar/DVL): 1.015x\n",
      "Sonar duration: 67.1s (1000 frames)\n",
      "DVL duration:   67.0s (559 records)\n"
     ]
    },
    {
     "name": "stderr",
     "output_type": "stream",
     "text": [
      "/Users/eirikvarnes/code/SOLAQUA/utils/sonar_image_analysis.py:250: FutureWarning:\n",
      "\n",
      "Series.fillna with 'method' is deprecated and will raise in a future version. Use obj.ffill() or obj.bfill() instead.\n",
      "\n",
      "/Users/eirikvarnes/code/SOLAQUA/utils/sonar_image_analysis.py:257: FutureWarning:\n",
      "\n",
      "Series.fillna with 'method' is deprecated and will raise in a future version. Use obj.ffill() or obj.bfill() instead.\n",
      "\n"
     ]
    },
    {
     "data": {
      "application/vnd.plotly.v1+json": {
       "config": {
        "plotlyServerURL": "https://plot.ly"
       },
       "data": [
        {
         "line": {
          "color": "rgba(255,0,0,0.3)"
         },
         "mode": "lines",
         "name": "Sonar Raw",
         "type": "scatter",
         "x": {
          "bdata": "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",
          "dtype": "f8"
         },
         "xaxis": "x",
         "y": {
          "bdata": "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",
          "dtype": "f8"
         },
         "yaxis": "y"
        },
        {
         "line": {
          "color": "red",
          "width": 3
         },
         "mode": "lines",
         "name": "Sonar Smoothed",
         "type": "scatter",
         "x": {
          "bdata": "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",
          "dtype": "f8"
         },
         "xaxis": "x",
         "y": {
          "bdata": "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",
          "dtype": "f8"
         },
         "yaxis": "y"
        },
        {
         "line": {
          "color": "blue",
          "width": 3
         },
         "mode": "lines",
         "name": "DVL Distance",
         "type": "scatter",
         "x": {
          "bdata": "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",
          "dtype": "f8"
         },
         "xaxis": "x",
         "y": {
          "bdata": "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",
          "dtype": "f8"
         },
         "yaxis": "y"
        }
       ],
       "layout": {
        "height": 600,
        "hovermode": "x unified",
        "template": {
         "data": {
          "bar": [
           {
            "error_x": {
             "color": "#2a3f5f"
            },
            "error_y": {
             "color": "#2a3f5f"
            },
            "marker": {
             "line": {
              "color": "#E5ECF6",
              "width": 0.5
             },
             "pattern": {
              "fillmode": "overlay",
              "size": 10,
              "solidity": 0.2
             }
            },
            "type": "bar"
           }
          ],
          "barpolar": [
           {
            "marker": {
             "line": {
              "color": "#E5ECF6",
              "width": 0.5
             },
             "pattern": {
              "fillmode": "overlay",
              "size": 10,
              "solidity": 0.2
             }
            },
            "type": "barpolar"
           }
          ],
          "carpet": [
           {
            "aaxis": {
             "endlinecolor": "#2a3f5f",
             "gridcolor": "white",
             "linecolor": "white",
             "minorgridcolor": "white",
             "startlinecolor": "#2a3f5f"
            },
            "baxis": {
             "endlinecolor": "#2a3f5f",
             "gridcolor": "white",
             "linecolor": "white",
             "minorgridcolor": "white",
             "startlinecolor": "#2a3f5f"
            },
            "type": "carpet"
           }
          ],
          "choropleth": [
           {
            "colorbar": {
             "outlinewidth": 0,
             "ticks": ""
            },
            "type": "choropleth"
           }
          ],
          "contour": [
           {
            "colorbar": {
             "outlinewidth": 0,
             "ticks": ""
            },
            "colorscale": [
             [
              0,
              "#0d0887"
             ],
             [
              0.1111111111111111,
              "#46039f"
             ],
             [
              0.2222222222222222,
              "#7201a8"
             ],
             [
              0.3333333333333333,
              "#9c179e"
             ],
             [
              0.4444444444444444,
              "#bd3786"
             ],
             [
              0.5555555555555556,
              "#d8576b"
             ],
             [
              0.6666666666666666,
              "#ed7953"
             ],
             [
              0.7777777777777778,
              "#fb9f3a"
             ],
             [
              0.8888888888888888,
              "#fdca26"
             ],
             [
              1,
              "#f0f921"
             ]
            ],
            "type": "contour"
           }
          ],
          "contourcarpet": [
           {
            "colorbar": {
             "outlinewidth": 0,
             "ticks": ""
            },
            "type": "contourcarpet"
           }
          ],
          "heatmap": [
           {
            "colorbar": {
             "outlinewidth": 0,
             "ticks": ""
            },
            "colorscale": [
             [
              0,
              "#0d0887"
             ],
             [
              0.1111111111111111,
              "#46039f"
             ],
             [
              0.2222222222222222,
              "#7201a8"
             ],
             [
              0.3333333333333333,
              "#9c179e"
             ],
             [
              0.4444444444444444,
              "#bd3786"
             ],
             [
              0.5555555555555556,
              "#d8576b"
             ],
             [
              0.6666666666666666,
              "#ed7953"
             ],
             [
              0.7777777777777778,
              "#fb9f3a"
             ],
             [
              0.8888888888888888,
              "#fdca26"
             ],
             [
              1,
              "#f0f921"
             ]
            ],
            "type": "heatmap"
           }
          ],
          "histogram": [
           {
            "marker": {
             "pattern": {
              "fillmode": "overlay",
              "size": 10,
              "solidity": 0.2
             }
            },
            "type": "histogram"
           }
          ],
          "histogram2d": [
           {
            "colorbar": {
             "outlinewidth": 0,
             "ticks": ""
            },
            "colorscale": [
             [
              0,
              "#0d0887"
             ],
             [
              0.1111111111111111,
              "#46039f"
             ],
             [
              0.2222222222222222,
              "#7201a8"
             ],
             [
              0.3333333333333333,
              "#9c179e"
             ],
             [
              0.4444444444444444,
              "#bd3786"
             ],
             [
              0.5555555555555556,
              "#d8576b"
             ],
             [
              0.6666666666666666,
              "#ed7953"
             ],
             [
              0.7777777777777778,
              "#fb9f3a"
             ],
             [
              0.8888888888888888,
              "#fdca26"
             ],
             [
              1,
              "#f0f921"
             ]
            ],
            "type": "histogram2d"
           }
          ],
          "histogram2dcontour": [
           {
            "colorbar": {
             "outlinewidth": 0,
             "ticks": ""
            },
            "colorscale": [
             [
              0,
              "#0d0887"
             ],
             [
              0.1111111111111111,
              "#46039f"
             ],
             [
              0.2222222222222222,
              "#7201a8"
             ],
             [
              0.3333333333333333,
              "#9c179e"
             ],
             [
              0.4444444444444444,
              "#bd3786"
             ],
             [
              0.5555555555555556,
              "#d8576b"
             ],
             [
              0.6666666666666666,
              "#ed7953"
             ],
             [
              0.7777777777777778,
              "#fb9f3a"
             ],
             [
              0.8888888888888888,
              "#fdca26"
             ],
             [
              1,
              "#f0f921"
             ]
            ],
            "type": "histogram2dcontour"
           }
          ],
          "mesh3d": [
           {
            "colorbar": {
             "outlinewidth": 0,
             "ticks": ""
            },
            "type": "mesh3d"
           }
          ],
          "parcoords": [
           {
            "line": {
             "colorbar": {
              "outlinewidth": 0,
              "ticks": ""
             }
            },
            "type": "parcoords"
           }
          ],
          "pie": [
           {
            "automargin": true,
            "type": "pie"
           }
          ],
          "scatter": [
           {
            "fillpattern": {
             "fillmode": "overlay",
             "size": 10,
             "solidity": 0.2
            },
            "type": "scatter"
           }
          ],
          "scatter3d": [
           {
            "line": {
             "colorbar": {
              "outlinewidth": 0,
              "ticks": ""
             }
            },
            "marker": {
             "colorbar": {
              "outlinewidth": 0,
              "ticks": ""
             }
            },
            "type": "scatter3d"
           }
          ],
          "scattercarpet": [
           {
            "marker": {
             "colorbar": {
              "outlinewidth": 0,
              "ticks": ""
             }
            },
            "type": "scattercarpet"
           }
          ],
          "scattergeo": [
           {
            "marker": {
             "colorbar": {
              "outlinewidth": 0,
              "ticks": ""
             }
            },
            "type": "scattergeo"
           }
          ],
          "scattergl": [
           {
            "marker": {
             "colorbar": {
              "outlinewidth": 0,
              "ticks": ""
             }
            },
            "type": "scattergl"
           }
          ],
          "scattermap": [
           {
            "marker": {
             "colorbar": {
              "outlinewidth": 0,
              "ticks": ""
             }
            },
            "type": "scattermap"
           }
          ],
          "scattermapbox": [
           {
            "marker": {
             "colorbar": {
              "outlinewidth": 0,
              "ticks": ""
             }
            },
            "type": "scattermapbox"
           }
          ],
          "scatterpolar": [
           {
            "marker": {
             "colorbar": {
              "outlinewidth": 0,
              "ticks": ""
             }
            },
            "type": "scatterpolar"
           }
          ],
          "scatterpolargl": [
           {
            "marker": {
             "colorbar": {
              "outlinewidth": 0,
              "ticks": ""
             }
            },
            "type": "scatterpolargl"
           }
          ],
          "scatterternary": [
           {
            "marker": {
             "colorbar": {
              "outlinewidth": 0,
              "ticks": ""
             }
            },
            "type": "scatterternary"
           }
          ],
          "surface": [
           {
            "colorbar": {
             "outlinewidth": 0,
             "ticks": ""
            },
            "colorscale": [
             [
              0,
              "#0d0887"
             ],
             [
              0.1111111111111111,
              "#46039f"
             ],
             [
              0.2222222222222222,
              "#7201a8"
             ],
             [
              0.3333333333333333,
              "#9c179e"
             ],
             [
              0.4444444444444444,
              "#bd3786"
             ],
             [
              0.5555555555555556,
              "#d8576b"
             ],
             [
              0.6666666666666666,
              "#ed7953"
             ],
             [
              0.7777777777777778,
              "#fb9f3a"
             ],
             [
              0.8888888888888888,
              "#fdca26"
             ],
             [
              1,
              "#f0f921"
             ]
            ],
            "type": "surface"
           }
          ],
          "table": [
           {
            "cells": {
             "fill": {
              "color": "#EBF0F8"
             },
             "line": {
              "color": "white"
             }
            },
            "header": {
             "fill": {
              "color": "#C8D4E3"
             },
             "line": {
              "color": "white"
             }
            },
            "type": "table"
           }
          ]
         },
         "layout": {
          "annotationdefaults": {
           "arrowcolor": "#2a3f5f",
           "arrowhead": 0,
           "arrowwidth": 1
          },
          "autotypenumbers": "strict",
          "coloraxis": {
           "colorbar": {
            "outlinewidth": 0,
            "ticks": ""
           }
          },
          "colorscale": {
           "diverging": [
            [
             0,
             "#8e0152"
            ],
            [
             0.1,
             "#c51b7d"
            ],
            [
             0.2,
             "#de77ae"
            ],
            [
             0.3,
             "#f1b6da"
            ],
            [
             0.4,
             "#fde0ef"
            ],
            [
             0.5,
             "#f7f7f7"
            ],
            [
             0.6,
             "#e6f5d0"
            ],
            [
             0.7,
             "#b8e186"
            ],
            [
             0.8,
             "#7fbc41"
            ],
            [
             0.9,
             "#4d9221"
            ],
            [
             1,
             "#276419"
            ]
           ],
           "sequential": [
            [
             0,
             "#0d0887"
            ],
            [
             0.1111111111111111,
             "#46039f"
            ],
            [
             0.2222222222222222,
             "#7201a8"
            ],
            [
             0.3333333333333333,
             "#9c179e"
            ],
            [
             0.4444444444444444,
             "#bd3786"
            ],
            [
             0.5555555555555556,
             "#d8576b"
            ],
            [
             0.6666666666666666,
             "#ed7953"
            ],
            [
             0.7777777777777778,
             "#fb9f3a"
            ],
            [
             0.8888888888888888,
             "#fdca26"
            ],
            [
             1,
             "#f0f921"
            ]
           ],
           "sequentialminus": [
            [
             0,
             "#0d0887"
            ],
            [
             0.1111111111111111,
             "#46039f"
            ],
            [
             0.2222222222222222,
             "#7201a8"
            ],
            [
             0.3333333333333333,
             "#9c179e"
            ],
            [
             0.4444444444444444,
             "#bd3786"
            ],
            [
             0.5555555555555556,
             "#d8576b"
            ],
            [
             0.6666666666666666,
             "#ed7953"
            ],
            [
             0.7777777777777778,
             "#fb9f3a"
            ],
            [
             0.8888888888888888,
             "#fdca26"
            ],
            [
             1,
             "#f0f921"
            ]
           ]
          },
          "colorway": [
           "#636efa",
           "#EF553B",
           "#00cc96",
           "#ab63fa",
           "#FFA15A",
           "#19d3f3",
           "#FF6692",
           "#B6E880",
           "#FF97FF",
           "#FECB52"
          ],
          "font": {
           "color": "#2a3f5f"
          },
          "geo": {
           "bgcolor": "white",
           "lakecolor": "white",
           "landcolor": "#E5ECF6",
           "showlakes": true,
           "showland": true,
           "subunitcolor": "white"
          },
          "hoverlabel": {
           "align": "left"
          },
          "hovermode": "closest",
          "mapbox": {
           "style": "light"
          },
          "paper_bgcolor": "white",
          "plot_bgcolor": "#E5ECF6",
          "polar": {
           "angularaxis": {
            "gridcolor": "white",
            "linecolor": "white",
            "ticks": ""
           },
           "bgcolor": "#E5ECF6",
           "radialaxis": {
            "gridcolor": "white",
            "linecolor": "white",
            "ticks": ""
           }
          },
          "scene": {
           "xaxis": {
            "backgroundcolor": "#E5ECF6",
            "gridcolor": "white",
            "gridwidth": 2,
            "linecolor": "white",
            "showbackground": true,
            "ticks": "",
            "zerolinecolor": "white"
           },
           "yaxis": {
            "backgroundcolor": "#E5ECF6",
            "gridcolor": "white",
            "gridwidth": 2,
            "linecolor": "white",
            "showbackground": true,
            "ticks": "",
            "zerolinecolor": "white"
           },
           "zaxis": {
            "backgroundcolor": "#E5ECF6",
            "gridcolor": "white",
            "gridwidth": 2,
            "linecolor": "white",
            "showbackground": true,
            "ticks": "",
            "zerolinecolor": "white"
           }
          },
          "shapedefaults": {
           "line": {
            "color": "#2a3f5f"
           }
          },
          "ternary": {
           "aaxis": {
            "gridcolor": "white",
            "linecolor": "white",
            "ticks": ""
           },
           "baxis": {
            "gridcolor": "white",
            "linecolor": "white",
            "ticks": ""
           },
           "bgcolor": "#E5ECF6",
           "caxis": {
            "gridcolor": "white",
            "linecolor": "white",
            "ticks": ""
           }
          },
          "title": {
           "x": 0.05
          },
          "xaxis": {
           "automargin": true,
           "gridcolor": "white",
           "linecolor": "white",
           "ticks": "",
           "title": {
            "standoff": 15
           },
           "zerolinecolor": "white",
           "zerolinewidth": 2
          },
          "yaxis": {
           "automargin": true,
           "gridcolor": "white",
           "linecolor": "white",
           "ticks": "",
           "title": {
            "standoff": 15
           },
           "zerolinecolor": "white",
           "zerolinewidth": 2
          }
         }
        },
        "title": {
         "text": "🔄 Interactive Distance Comparison: Sonar vs DVL"
        },
        "xaxis": {
         "anchor": "y",
         "domain": [
          0,
          1
         ],
         "showgrid": true,
         "title": {
          "text": "Time (seconds)"
         }
        },
        "yaxis": {
         "anchor": "x",
         "domain": [
          0,
          1
         ],
         "showgrid": true,
         "title": {
          "text": "Distance (meters)"
         }
        }
       }
      }
     },
     "metadata": {},
     "output_type": "display_data"
    }
   ],
   "source": [
    "fig, comparison_stats = iau.ComparisonEngine.compare_sonar_vs_dvl(distance_results, raw_data, sonar_coverage_m=sonar_coverage_meters, sonar_image_size=image_shape[0], use_plotly=True)\n",
    "fig.show()"
   ]
  },
  {
   "cell_type": "code",
   "execution_count": 18,
   "id": "50f97352",
   "metadata": {},
   "outputs": [
    {
     "name": "stdout",
     "output_type": "stream",
     "text": [
      "🎬 GENERATING VIDEO WITH DUAL NET DISTANCE OVERLAYS\n",
      "============================================================\n",
      "🎯 Target Bag: 2024-08-20_14-31-29\n",
      "📊 DVL Data: 559 records\n",
      "📏 Sonar Analysis: 1000 frames\n",
      "🎥 Camera: disabled\n",
      "🛠️ OPTIMIZED SONAR VIDEO\n",
      "======================================================================\n",
      "🎯 Target Bag: 2024-08-20_14-31-29\n",
      "   Cone Size: 900x700\n",
      "   Range: 0.0-5.0m | FOV: 120.0°\n",
      "   🎥 Camera: disabled\n",
      "   🕸  Net-line: enabled (dist tol=0.5s, pitch tol=2.0s)\n",
      "   📊 Sonar Analysis: enabled\n",
      "   Loading sonar data: sensor_sonoptix_echo_image__2024-08-20_14-31-29_video.csv\n"
     ]
    },
    {
     "ename": "KeyboardInterrupt",
     "evalue": "",
     "output_type": "error",
     "traceback": [
      "\u001b[31m---------------------------------------------------------------------------\u001b[39m",
      "\u001b[31mKeyboardInterrupt\u001b[39m                         Traceback (most recent call last)",
      "\u001b[36mCell\u001b[39m\u001b[36m \u001b[39m\u001b[32mIn[18]\u001b[39m\u001b[32m, line 17\u001b[39m\n\u001b[32m     15\u001b[39m \u001b[38;5;66;03m# Generate the video with both overlays\u001b[39;00m\n\u001b[32m     16\u001b[39m \u001b[38;5;28;01mtry\u001b[39;00m:\n\u001b[32m---> \u001b[39m\u001b[32m17\u001b[39m     video_path = \u001b[43msg\u001b[49m\u001b[43m.\u001b[49m\u001b[43mexport_optimized_sonar_video\u001b[49m\u001b[43m(\u001b[49m\n\u001b[32m     18\u001b[39m \u001b[43m        \u001b[49m\u001b[43mTARGET_BAG\u001b[49m\u001b[43m=\u001b[49m\u001b[43mTARGET_BAG\u001b[49m\u001b[43m,\u001b[49m\n\u001b[32m     19\u001b[39m \u001b[43m        \u001b[49m\u001b[43mEXPORTS_FOLDER\u001b[49m\u001b[43m=\u001b[49m\u001b[43mEXPORTS_FOLDER\u001b[49m\u001b[43m,\u001b[49m\n\u001b[32m     20\u001b[39m \u001b[43m        \u001b[49m\u001b[43mSTART_IDX\u001b[49m\u001b[43m=\u001b[49m\u001b[32;43m1\u001b[39;49m\u001b[43m,\u001b[49m\n\u001b[32m     21\u001b[39m \u001b[43m        \u001b[49m\u001b[43mEND_IDX\u001b[49m\u001b[43m=\u001b[49m\u001b[32;43m1000\u001b[39;49m\u001b[43m,\u001b[49m\u001b[43m  \u001b[49m\u001b[38;5;66;43;03m# Adjust as needed\u001b[39;49;00m\n\u001b[32m     22\u001b[39m \u001b[43m        \u001b[49m\u001b[43mSTRIDE\u001b[49m\u001b[43m=\u001b[49m\u001b[32;43m1\u001b[39;49m\u001b[43m,\u001b[49m\n\u001b[32m     23\u001b[39m \u001b[43m        \u001b[49m\u001b[43mVIDEO_SEQ_DIR\u001b[49m\u001b[43m=\u001b[49m\u001b[43mVIDEO_SEQ_DIR\u001b[49m\u001b[43m,\u001b[49m\n\u001b[32m     24\u001b[39m \u001b[43m        \u001b[49m\u001b[43mINCLUDE_NET\u001b[49m\u001b[43m=\u001b[49m\u001b[38;5;28;43;01mTrue\u001b[39;49;00m\u001b[43m,\u001b[49m\u001b[43m  \u001b[49m\u001b[38;5;66;43;03m# Enable DVL net distance overlay\u001b[39;49;00m\n\u001b[32m     25\u001b[39m \u001b[43m        \u001b[49m\u001b[43mSONAR_DISTANCE_RESULTS\u001b[49m\u001b[43m=\u001b[49m\u001b[43mdistance_results\u001b[49m\u001b[43m,\u001b[49m\u001b[43m  \u001b[49m\u001b[38;5;66;43;03m# Enable sonar analysis overlay\u001b[39;49;00m\n\u001b[32m     26\u001b[39m \u001b[43m        \u001b[49m\u001b[43mNET_DISTANCE_TOLERANCE\u001b[49m\u001b[43m=\u001b[49m\u001b[32;43m0.5\u001b[39;49m\u001b[43m,\u001b[49m\n\u001b[32m     27\u001b[39m \u001b[43m        \u001b[49m\u001b[43mNET_PITCH_TOLERANCE\u001b[49m\u001b[43m=\u001b[49m\u001b[32;43m2.0\u001b[39;49m\u001b[43m,\u001b[49m\u001b[43m  \u001b[49m\u001b[38;5;66;43;03m# Increased from 0.3 to 2.0 seconds for better pitch sync\u001b[39;49;00m\n\u001b[32m     28\u001b[39m \u001b[43m    \u001b[49m\u001b[43m)\u001b[49m\n\u001b[32m     29\u001b[39m     \u001b[38;5;28mprint\u001b[39m(\u001b[33mf\u001b[39m\u001b[33m\"\u001b[39m\u001b[38;5;130;01m\\n\u001b[39;00m\u001b[33m✅ Video generated successfully!\u001b[39m\u001b[33m\"\u001b[39m)\n\u001b[32m     30\u001b[39m     \u001b[38;5;28mprint\u001b[39m(\u001b[33mf\u001b[39m\u001b[33m\"\u001b[39m\u001b[33m📁 Output: \u001b[39m\u001b[38;5;132;01m{\u001b[39;00mvideo_path\u001b[38;5;132;01m}\u001b[39;00m\u001b[33m\"\u001b[39m)\n",
      "\u001b[36mFile \u001b[39m\u001b[32m~/code/SOLAQUA/utils/sonar_and_foto_generation.py:116\u001b[39m, in \u001b[36mexport_optimized_sonar_video\u001b[39m\u001b[34m(TARGET_BAG, EXPORTS_FOLDER, START_IDX, END_IDX, STRIDE, VIDEO_SEQ_DIR, VIDEO_HEIGHT, PAD_BETWEEN, FONT_SCALE, FOV_DEG, RANGE_MIN_M, RANGE_MAX_M, DISPLAY_RANGE_MAX_M, FLIP_BEAMS, FLIP_RANGE, USE_ENHANCED, ENH_SCALE, ENH_TVG, ENH_ALPHA_DB_PER_M, ENH_R0, ENH_P_LOW, ENH_P_HIGH, ENH_GAMMA, ENH_ZERO_AWARE, ENH_EPS_LOG, CONE_W, CONE_H, CONE_FLIP_VERTICAL, CMAP_NAME, INCLUDE_NET, NET_DISTANCE_TOLERANCE, NET_PITCH_TOLERANCE, SONAR_DISTANCE_RESULTS)\u001b[39m\n\u001b[32m    114\u001b[39m \u001b[38;5;28mprint\u001b[39m(\u001b[33mf\u001b[39m\u001b[33m\"\u001b[39m\u001b[33m   Loading sonar data: \u001b[39m\u001b[38;5;132;01m{\u001b[39;00msonar_csv_file.name\u001b[38;5;132;01m}\u001b[39;00m\u001b[33m\"\u001b[39m)\n\u001b[32m    115\u001b[39m t0 = time.time()\n\u001b[32m--> \u001b[39m\u001b[32m116\u001b[39m df = \u001b[43mload_df\u001b[49m\u001b[43m(\u001b[49m\u001b[43msonar_csv_file\u001b[49m\u001b[43m)\u001b[49m\n\u001b[32m    117\u001b[39m \u001b[38;5;28;01mif\u001b[39;00m \u001b[33m\"\u001b[39m\u001b[33mts_utc\u001b[39m\u001b[33m\"\u001b[39m \u001b[38;5;129;01mnot\u001b[39;00m \u001b[38;5;129;01min\u001b[39;00m df.columns:\n\u001b[32m    118\u001b[39m     \u001b[38;5;28;01mif\u001b[39;00m \u001b[33m\"\u001b[39m\u001b[33mt\u001b[39m\u001b[33m\"\u001b[39m \u001b[38;5;129;01mnot\u001b[39;00m \u001b[38;5;129;01min\u001b[39;00m df.columns:\n",
      "\u001b[36mFile \u001b[39m\u001b[32m~/code/SOLAQUA/utils/sonar_utils.py:55\u001b[39m, in \u001b[36mload_df\u001b[39m\u001b[34m(path)\u001b[39m\n\u001b[32m     53\u001b[39m \u001b[38;5;250m\u001b[39m\u001b[33;03m\"\"\"Load CSV or Parquet into a DataFrame.\"\"\"\u001b[39;00m\n\u001b[32m     54\u001b[39m path = Path(path)\n\u001b[32m---> \u001b[39m\u001b[32m55\u001b[39m \u001b[38;5;28;01mreturn\u001b[39;00m pd.read_parquet(path) \u001b[38;5;28;01mif\u001b[39;00m path.suffix.lower() == \u001b[33m\"\u001b[39m\u001b[33m.parquet\u001b[39m\u001b[33m\"\u001b[39m \u001b[38;5;28;01melse\u001b[39;00m \u001b[43mpd\u001b[49m\u001b[43m.\u001b[49m\u001b[43mread_csv\u001b[49m\u001b[43m(\u001b[49m\u001b[43mpath\u001b[49m\u001b[43m)\u001b[49m\n",
      "\u001b[36mFile \u001b[39m\u001b[32m~/code/SOLAQUA/venv/lib/python3.13/site-packages/pandas/io/parsers/readers.py:1026\u001b[39m, in \u001b[36mread_csv\u001b[39m\u001b[34m(filepath_or_buffer, sep, delimiter, header, names, index_col, usecols, dtype, engine, converters, true_values, false_values, skipinitialspace, skiprows, skipfooter, nrows, na_values, keep_default_na, na_filter, verbose, skip_blank_lines, parse_dates, infer_datetime_format, keep_date_col, date_parser, date_format, dayfirst, cache_dates, iterator, chunksize, compression, thousands, decimal, lineterminator, quotechar, quoting, doublequote, escapechar, comment, encoding, encoding_errors, dialect, on_bad_lines, delim_whitespace, low_memory, memory_map, float_precision, storage_options, dtype_backend)\u001b[39m\n\u001b[32m   1013\u001b[39m kwds_defaults = _refine_defaults_read(\n\u001b[32m   1014\u001b[39m     dialect,\n\u001b[32m   1015\u001b[39m     delimiter,\n\u001b[32m   (...)\u001b[39m\u001b[32m   1022\u001b[39m     dtype_backend=dtype_backend,\n\u001b[32m   1023\u001b[39m )\n\u001b[32m   1024\u001b[39m kwds.update(kwds_defaults)\n\u001b[32m-> \u001b[39m\u001b[32m1026\u001b[39m \u001b[38;5;28;01mreturn\u001b[39;00m \u001b[43m_read\u001b[49m\u001b[43m(\u001b[49m\u001b[43mfilepath_or_buffer\u001b[49m\u001b[43m,\u001b[49m\u001b[43m \u001b[49m\u001b[43mkwds\u001b[49m\u001b[43m)\u001b[49m\n",
      "\u001b[36mFile \u001b[39m\u001b[32m~/code/SOLAQUA/venv/lib/python3.13/site-packages/pandas/io/parsers/readers.py:626\u001b[39m, in \u001b[36m_read\u001b[39m\u001b[34m(filepath_or_buffer, kwds)\u001b[39m\n\u001b[32m    623\u001b[39m     \u001b[38;5;28;01mreturn\u001b[39;00m parser\n\u001b[32m    625\u001b[39m \u001b[38;5;28;01mwith\u001b[39;00m parser:\n\u001b[32m--> \u001b[39m\u001b[32m626\u001b[39m     \u001b[38;5;28;01mreturn\u001b[39;00m \u001b[43mparser\u001b[49m\u001b[43m.\u001b[49m\u001b[43mread\u001b[49m\u001b[43m(\u001b[49m\u001b[43mnrows\u001b[49m\u001b[43m)\u001b[49m\n",
      "\u001b[36mFile \u001b[39m\u001b[32m~/code/SOLAQUA/venv/lib/python3.13/site-packages/pandas/io/parsers/readers.py:1923\u001b[39m, in \u001b[36mTextFileReader.read\u001b[39m\u001b[34m(self, nrows)\u001b[39m\n\u001b[32m   1916\u001b[39m nrows = validate_integer(\u001b[33m\"\u001b[39m\u001b[33mnrows\u001b[39m\u001b[33m\"\u001b[39m, nrows)\n\u001b[32m   1917\u001b[39m \u001b[38;5;28;01mtry\u001b[39;00m:\n\u001b[32m   1918\u001b[39m     \u001b[38;5;66;03m# error: \"ParserBase\" has no attribute \"read\"\u001b[39;00m\n\u001b[32m   1919\u001b[39m     (\n\u001b[32m   1920\u001b[39m         index,\n\u001b[32m   1921\u001b[39m         columns,\n\u001b[32m   1922\u001b[39m         col_dict,\n\u001b[32m-> \u001b[39m\u001b[32m1923\u001b[39m     ) = \u001b[38;5;28;43mself\u001b[39;49m\u001b[43m.\u001b[49m\u001b[43m_engine\u001b[49m\u001b[43m.\u001b[49m\u001b[43mread\u001b[49m\u001b[43m(\u001b[49m\u001b[43m  \u001b[49m\u001b[38;5;66;43;03m# type: ignore[attr-defined]\u001b[39;49;00m\n\u001b[32m   1924\u001b[39m \u001b[43m        \u001b[49m\u001b[43mnrows\u001b[49m\n\u001b[32m   1925\u001b[39m \u001b[43m    \u001b[49m\u001b[43m)\u001b[49m\n\u001b[32m   1926\u001b[39m \u001b[38;5;28;01mexcept\u001b[39;00m \u001b[38;5;167;01mException\u001b[39;00m:\n\u001b[32m   1927\u001b[39m     \u001b[38;5;28mself\u001b[39m.close()\n",
      "\u001b[36mFile \u001b[39m\u001b[32m~/code/SOLAQUA/venv/lib/python3.13/site-packages/pandas/io/parsers/c_parser_wrapper.py:234\u001b[39m, in \u001b[36mCParserWrapper.read\u001b[39m\u001b[34m(self, nrows)\u001b[39m\n\u001b[32m    232\u001b[39m \u001b[38;5;28;01mtry\u001b[39;00m:\n\u001b[32m    233\u001b[39m     \u001b[38;5;28;01mif\u001b[39;00m \u001b[38;5;28mself\u001b[39m.low_memory:\n\u001b[32m--> \u001b[39m\u001b[32m234\u001b[39m         chunks = \u001b[38;5;28;43mself\u001b[39;49m\u001b[43m.\u001b[49m\u001b[43m_reader\u001b[49m\u001b[43m.\u001b[49m\u001b[43mread_low_memory\u001b[49m\u001b[43m(\u001b[49m\u001b[43mnrows\u001b[49m\u001b[43m)\u001b[49m\n\u001b[32m    235\u001b[39m         \u001b[38;5;66;03m# destructive to chunks\u001b[39;00m\n\u001b[32m    236\u001b[39m         data = _concatenate_chunks(chunks)\n",
      "\u001b[36mFile \u001b[39m\u001b[32mpandas/_libs/parsers.pyx:838\u001b[39m, in \u001b[36mpandas._libs.parsers.TextReader.read_low_memory\u001b[39m\u001b[34m()\u001b[39m\n",
      "\u001b[36mFile \u001b[39m\u001b[32mpandas/_libs/parsers.pyx:905\u001b[39m, in \u001b[36mpandas._libs.parsers.TextReader._read_rows\u001b[39m\u001b[34m()\u001b[39m\n",
      "\u001b[36mFile \u001b[39m\u001b[32mpandas/_libs/parsers.pyx:874\u001b[39m, in \u001b[36mpandas._libs.parsers.TextReader._tokenize_rows\u001b[39m\u001b[34m()\u001b[39m\n",
      "\u001b[36mFile \u001b[39m\u001b[32mpandas/_libs/parsers.pyx:891\u001b[39m, in \u001b[36mpandas._libs.parsers.TextReader._check_tokenize_status\u001b[39m\u001b[34m()\u001b[39m\n",
      "\u001b[36mFile \u001b[39m\u001b[32mpandas/_libs/parsers.pyx:2053\u001b[39m, in \u001b[36mpandas._libs.parsers.raise_parser_error\u001b[39m\u001b[34m()\u001b[39m\n",
      "\u001b[36mFile \u001b[39m\u001b[32m<frozen codecs>:322\u001b[39m, in \u001b[36mdecode\u001b[39m\u001b[34m(self, input, final)\u001b[39m\n",
      "\u001b[31mKeyboardInterrupt\u001b[39m: "
     ]
    }
   ],
   "source": [
    "# 🎥 Generate Video with Both DVL and Sonar Analysis Overlays\n",
    "# ========================================================\n",
    "import utils.sonar_and_foto_generation as sg\n",
    "\n",
    "# Set up paths\n",
    "VIDEO_SEQ_DIR = None  # Set to path if you want camera footage included\n",
    "\n",
    "print(\"🎬 GENERATING VIDEO WITH DUAL NET DISTANCE OVERLAYS\")\n",
    "print(\"=\" * 60)\n",
    "print(f\"🎯 Target Bag: {TARGET_BAG}\")\n",
    "print(f\"📊 DVL Data: {len(raw_data.get('navigation', []))} records\")\n",
    "print(f\"📏 Sonar Analysis: {len(distance_results)} frames\")\n",
    "print(f\"🎥 Camera: {'enabled' if VIDEO_SEQ_DIR else 'disabled'}\")\n",
    "\n",
    "# Generate the video with both overlays\n",
    "try:\n",
    "    video_path = sg.export_optimized_sonar_video(\n",
    "        TARGET_BAG=TARGET_BAG,\n",
    "        EXPORTS_FOLDER=EXPORTS_FOLDER,\n",
    "        START_IDX=1,\n",
    "        END_IDX=1000,  # Adjust as needed\n",
    "        STRIDE=1,\n",
    "        VIDEO_SEQ_DIR=VIDEO_SEQ_DIR,\n",
    "        INCLUDE_NET=True,  # Enable DVL net distance overlay\n",
    "        SONAR_DISTANCE_RESULTS=distance_results,  # Enable sonar analysis overlay\n",
    "        NET_DISTANCE_TOLERANCE=0.5,\n",
    "        NET_PITCH_TOLERANCE=2.0,  # Increased from 0.3 to 2.0 seconds for better pitch sync\n",
    "    )\n",
    "    print(f\"\\n✅ Video generated successfully!\")\n",
    "    print(f\"📁 Output: {video_path}\")\n",
    "except Exception as e:\n",
    "    print(f\"❌ Error generating video: {e}\")"
   ]
  },
  {
   "cell_type": "code",
   "execution_count": null,
   "id": "94f1216f",
   "metadata": {},
   "outputs": [],
   "source": []
  }
 ],
 "metadata": {
  "kernelspec": {
   "display_name": "venv",
   "language": "python",
   "name": "python3"
  },
  "language_info": {
   "codemirror_mode": {
    "name": "ipython",
    "version": 3
   },
   "file_extension": ".py",
   "mimetype": "text/x-python",
   "name": "python",
   "nbconvert_exporter": "python",
   "pygments_lexer": "ipython3",
   "version": "3.13.5"
  }
 },
 "nbformat": 4,
 "nbformat_minor": 5
}
