{
 "cells": [
  {
   "cell_type": "code",
   "execution_count": 10,
   "id": "7a8d02c0",
   "metadata": {},
   "outputs": [],
   "source": [
    "from pathlib import Path\n",
    "import utils.sonar_image_analysis as iau\n",
    "import importlib\n",
    "importlib.reload(iau)\n",
    "\n",
    "# Centralized sonar defaults (inserted by sweep)\n",
    "from utils.sonar_config import SONAR_VIS_DEFAULTS\n",
    "sonar_config = SONAR_VIS_DEFAULTS.copy()\n",
    "# Backwards-compatible variable names used in older notebooks\n",
    "RANGE_MIN_M = sonar_config['range_min_m']\n",
    "RANGE_MAX_M = sonar_config['range_max_m']\n",
    "DISPLAY_RANGE_MAX_M = sonar_config['display_range_max_m']"
   ]
  },
  {
   "cell_type": "markdown",
   "id": "9220eb1d",
   "metadata": {},
   "source": [
    "# Simple Image Analysis with CV2\n",
    "\n",
    "This notebook demonstrates:\n",
    "1. **Pick a frame** from NPZ files and save it locally\n",
    "2. **Use standard cv2 functions** directly for image processing\n",
    "3. **Experiment** with different OpenCV operations"
   ]
  },
  {
   "cell_type": "code",
   "execution_count": 11,
   "id": "4b3e8f46",
   "metadata": {},
   "outputs": [
    {
     "name": "stdout",
     "output_type": "stream",
     "text": [
      "Using DATA_DIR = /Volumes/LaCie/SOLAQUA/raw_data\n",
      "Selected NPZ file: 2024-08-20_14-31-29_data_cones.npz (index=8)\n"
     ]
    }
   ],
   "source": [
    "\n",
    "\n",
    "# Prefer selecting by bag ID (part of the NPZ filename) instead of a numeric index.\n",
    "# Set TARGET_BAG to a substring that appears in the NPZ filename \n",
    "# '2024-08-22_14-47-39' #1\n",
    "# '2024-08-22_14-29-05' #2\n",
    "# '2024-08-20_14-22-12' #3\n",
    "# '2024-08-20_14-31-29' #4\n",
    "# '2024-08-20_18-47-40' #5\n",
    "# '2024-08-20_13-55-34' #6\n",
    "# '2024-08-20_13-57-42' #7\n",
    "TARGET_BAG = '2024-08-20_14-31-29'  # change this to your desired bag ID\n",
    "from utils.sonar_config import EXPORTS_DIR_DEFAULT, EXPORTS_SUBDIRS\n",
    "EXPORTS_FOLDER = Path(EXPORTS_DIR_DEFAULT)\n",
    "\n",
    "# If you keep your raw .bag files or raw data on an external drive, point DATA_DIR there.\n",
    "# Example (your external disk): /Volumes/LaCie/SOLAQUA/raw_data\n",
    "DATA_DIR = Path(\"/Volumes/LaCie/SOLAQUA/raw_data\")\n",
    "print(f\"Using DATA_DIR = {DATA_DIR}\")\n",
    "\n",
    "# Find NPZ files and pick the one matching TARGET_BAG\n",
    "files = iau.get_available_npz_files()\n",
    "if not files:\n",
    "    raise FileNotFoundError(f\"No NPZ files found in configured exports outputs (looked under {EXPORTS_FOLDER / EXPORTS_SUBDIRS.get('outputs','outputs')})\")\n",
    "matches = [p for p in files if TARGET_BAG in p.name]\n",
    "if not matches:\n",
    "    # Help the user by listing available NPZ files\n",
    "    print(f'No NPZ file matched TARGET_BAG={TARGET_BAG!r}')\n",
    "    print('Available NPZ files:')\n",
    "    for i,p in enumerate(files):\n",
    "        print(f'  {i}: {p.name}')\n",
    "    raise ValueError(f'No NPZ file contains \"{TARGET_BAG}\" in its name')\n",
    "\n",
    "# If multiple matches, choose the most recently modified one\n",
    "selected = max(matches, key=lambda p: p.stat().st_mtime)\n",
    "NPZ_FILE_INDEX = files.index(selected)\n",
    "print(f'Selected NPZ file: {selected.name} (index={NPZ_FILE_INDEX})')"
   ]
  },
  {
   "cell_type": "markdown",
   "id": "0c65358c",
   "metadata": {},
   "source": [
    "## Distance Analysis Over Time\n",
    "\n",
    "Now let's perform a comprehensive analysis of the red line distance over time. The red line represents the major axis of the detected elongated contour (likely a fishing net), and we'll track how this distance changes throughout the video sequence."
   ]
  },
  {
   "cell_type": "code",
   "execution_count": 12,
   "id": "b9c5da85",
   "metadata": {},
   "outputs": [
    {
     "name": "stdout",
     "output_type": "stream",
     "text": [
      "=== ENHANCED VIDEO CREATION (Simplified) ===\n",
      "Creating video with simplified processor...\n",
      "Frames: 1500, step: 1\n",
      "Processing 1059 frames with simplified processor...\n",
      "Processed 10/1059 frames\n",
      "Processed 20/1059 frames\n",
      "Processed 30/1059 frames\n",
      "Processed 40/1059 frames\n",
      "Processed 50/1059 frames\n",
      "Processed 60/1059 frames\n",
      "Processed 70/1059 frames\n",
      "Processed 80/1059 frames\n",
      "Processed 90/1059 frames\n",
      "Processed 100/1059 frames\n",
      "Processed 110/1059 frames\n",
      "Processed 120/1059 frames\n",
      "Processed 130/1059 frames\n",
      "Processed 140/1059 frames\n",
      "Processed 150/1059 frames\n",
      "Processed 160/1059 frames\n",
      "Processed 170/1059 frames\n",
      "Processed 180/1059 frames\n",
      "Processed 190/1059 frames\n",
      "Processed 200/1059 frames\n",
      "Processed 210/1059 frames\n",
      "Processed 220/1059 frames\n",
      "Processed 230/1059 frames\n",
      "Processed 240/1059 frames\n",
      "Processed 250/1059 frames\n",
      "Processed 260/1059 frames\n",
      "Processed 270/1059 frames\n",
      "Processed 280/1059 frames\n",
      "Processed 290/1059 frames\n",
      "Processed 300/1059 frames\n",
      "Processed 310/1059 frames\n",
      "Processed 320/1059 frames\n",
      "Processed 330/1059 frames\n",
      "Processed 340/1059 frames\n",
      "Processed 350/1059 frames\n",
      "Processed 360/1059 frames\n",
      "Processed 370/1059 frames\n",
      "Processed 380/1059 frames\n",
      "Processed 390/1059 frames\n",
      "Processed 400/1059 frames\n",
      "Processed 410/1059 frames\n",
      "Processed 420/1059 frames\n",
      "Processed 430/1059 frames\n",
      "Processed 440/1059 frames\n",
      "Processed 450/1059 frames\n",
      "Processed 460/1059 frames\n",
      "Processed 470/1059 frames\n",
      "Processed 480/1059 frames\n",
      "Processed 490/1059 frames\n",
      "Processed 500/1059 frames\n",
      "Processed 510/1059 frames\n",
      "Processed 520/1059 frames\n",
      "Processed 530/1059 frames\n",
      "Processed 540/1059 frames\n",
      "Processed 550/1059 frames\n",
      "Processed 560/1059 frames\n",
      "Processed 570/1059 frames\n",
      "Processed 580/1059 frames\n",
      "Processed 590/1059 frames\n",
      "Processed 600/1059 frames\n",
      "Processed 610/1059 frames\n",
      "Processed 620/1059 frames\n",
      "Processed 630/1059 frames\n",
      "Processed 640/1059 frames\n",
      "Processed 650/1059 frames\n",
      "Processed 660/1059 frames\n",
      "Processed 670/1059 frames\n",
      "Processed 680/1059 frames\n",
      "Processed 690/1059 frames\n",
      "Processed 700/1059 frames\n",
      "Processed 710/1059 frames\n",
      "Processed 720/1059 frames\n",
      "Processed 730/1059 frames\n",
      "Processed 740/1059 frames\n",
      "Processed 750/1059 frames\n",
      "Processed 760/1059 frames\n",
      "Processed 770/1059 frames\n",
      "Processed 780/1059 frames\n",
      "Processed 790/1059 frames\n",
      "Processed 800/1059 frames\n",
      "Processed 810/1059 frames\n",
      "Processed 820/1059 frames\n",
      "Processed 830/1059 frames\n",
      "Processed 840/1059 frames\n",
      "Processed 850/1059 frames\n",
      "Processed 860/1059 frames\n",
      "Processed 870/1059 frames\n",
      "Processed 880/1059 frames\n",
      "Processed 890/1059 frames\n",
      "Processed 900/1059 frames\n",
      "Processed 910/1059 frames\n",
      "Processed 920/1059 frames\n",
      "Processed 930/1059 frames\n",
      "Processed 940/1059 frames\n",
      "Processed 950/1059 frames\n",
      "Processed 960/1059 frames\n",
      "Processed 970/1059 frames\n",
      "Processed 980/1059 frames\n",
      "Processed 990/1059 frames\n",
      "Processed 1000/1059 frames\n",
      "Processed 1010/1059 frames\n",
      "Processed 1020/1059 frames\n",
      "Processed 1030/1059 frames\n",
      "Processed 1040/1059 frames\n",
      "Processed 1050/1059 frames\n",
      "\n",
      "=== ENHANCED VIDEO CREATION COMPLETE ===\n",
      "Video saved to: /Volumes/LaCie/SOLAQUA/exports/videos/core_aoi_tracking.mp4\n",
      "Video specs: 900x700, 15 fps, 1059 frames\n",
      "SIMPLIFIED TRACKING STATS:\n",
      "  - Total detected frames: 1059\n",
      "  - Lost/searching frames: 0\n",
      "  - Detection success rate: 100.0%\n"
     ]
    }
   ],
   "source": [
    "# Create the unified processor\n",
    "processor = iau.SonarDataProcessor()\n",
    "\n",
    "# Use the enhanced video creation with CORE processor\n",
    "video_path = iau.create_enhanced_contour_detection_video_with_processor(\n",
    "    npz_file_index=NPZ_FILE_INDEX,          # Which NPZ file to use\n",
    "    frame_start=1,           # Starting frame\n",
    "    frame_count=1500,         # Number of frames to process\n",
    "    frame_step=1,            # Step between frames\n",
    "    output_path=Path(EXPORTS_DIR_DEFAULT) / EXPORTS_SUBDIRS.get('videos','videos') / 'core_aoi_tracking.mp4',\n",
    "    processor=processor      # Use our CORE processor\n",
    ")"
   ]
  },
  {
   "cell_type": "code",
   "execution_count": 13,
   "id": "d9c0382e",
   "metadata": {},
   "outputs": [
    {
     "name": "stdout",
     "output_type": "stream",
     "text": [
      "=== DISTANCE ANALYSIS FROM NPZ ===\n",
      "Analyzing: /Volumes/LaCie/SOLAQUA/exports/outputs/2024-08-20_14-31-29_data_cones.npz\n",
      "Processing 1059 frames from 1 (step=1)\n",
      "  Processed 50/1059 frames (Success rate: 100.0%)\n",
      "  Processed 100/1059 frames (Success rate: 100.0%)\n",
      "  Processed 150/1059 frames (Success rate: 100.0%)\n",
      "  Processed 200/1059 frames (Success rate: 100.0%)\n",
      "  Processed 250/1059 frames (Success rate: 100.0%)\n",
      "  Processed 300/1059 frames (Success rate: 100.0%)\n",
      "  Processed 350/1059 frames (Success rate: 100.0%)\n",
      "  Processed 400/1059 frames (Success rate: 100.0%)\n",
      "  Processed 450/1059 frames (Success rate: 100.0%)\n",
      "  Processed 500/1059 frames (Success rate: 100.0%)\n",
      "  Processed 550/1059 frames (Success rate: 100.0%)\n",
      "  Processed 600/1059 frames (Success rate: 100.0%)\n",
      "  Processed 650/1059 frames (Success rate: 100.0%)\n",
      "  Processed 700/1059 frames (Success rate: 100.0%)\n",
      "  Processed 750/1059 frames (Success rate: 100.0%)\n",
      "  Processed 800/1059 frames (Success rate: 100.0%)\n",
      "  Processed 850/1059 frames (Success rate: 100.0%)\n",
      "  Processed 900/1059 frames (Success rate: 100.0%)\n",
      "  Processed 950/1059 frames (Success rate: 100.0%)\n",
      "  Processed 1000/1059 frames (Success rate: 100.0%)\n",
      "  Processed 1050/1059 frames (Success rate: 99.8%)\n",
      "\n",
      "=== ANALYSIS COMPLETE ===\n",
      "Total frames processed: 1059\n",
      "Successful detections: 1057 (99.8%)\n",
      "Distance statistics (meters):\n",
      "  - Mean: 2.013\n",
      "  - Std:  0.303\n",
      "  - Min:  1.562\n",
      "  - Max:  3.151\n",
      "  - Range: 1.590\n",
      "Analyzed 1059 frames using elliptical AOI\n",
      " Detection success rate: 99.8%\n",
      " Elliptical tracking active: 0 frames\n"
     ]
    }
   ],
   "source": [
    "engine = iau.DistanceAnalysisEngine()\n",
    "distance_results = engine.analyze_npz_sequence(\n",
    "    npz_file_index=NPZ_FILE_INDEX,    \n",
    "    frame_start=1,        # Start from frame 1\n",
    "    frame_count=1500,      # Analyze all frames from the video\n",
    "    frame_step=1          # Every frame\n",
    ")\n",
    "\n",
    "print(f\"Analyzed {len(distance_results)} frames using elliptical AOI\")\n",
    "print(f\" Detection success rate: {distance_results['detection_success'].mean():.1%}\")\n",
    "print(f\" Elliptical tracking active: {(distance_results['tracking_status'].str.contains('ELLIPSE')).sum()} frames\")"
   ]
  },
  {
   "cell_type": "markdown",
   "id": "fede9d64",
   "metadata": {},
   "source": [
    "## Convert to Real-World Distances\n",
    "\n",
    "Now let's convert the pixel distances to real-world distances using the fact that the entire sonar image represents a 10x10 meter area."
   ]
  },
  {
   "cell_type": "code",
   "execution_count": 14,
   "id": "886897de",
   "metadata": {},
   "outputs": [
    {
     "name": "stdout",
     "output_type": "stream",
     "text": [
      "Detected NPZ extent: x=[-8.660,8.660] m, y=[0.000,10.000] m\n",
      "Image shape from NPZ: H=700, W=900\n",
      "meters/pixel: x=0.019245, y=0.014286, avg=0.016765\n",
      "Using pixels_to_meters_avg = 0.016765 m/px\n"
     ]
    }
   ],
   "source": [
    "# Auto-detect pixel->meter mapping from the selected NPZ (if available)\n",
    "try:\n",
    "    cones, ts, extent, meta = iau.load_cone_run_npz(selected)\n",
    "    T, H, W = cones.shape\n",
    "    x_min, x_max, y_min, y_max = extent\n",
    "    width_m = float(x_max - x_min)\n",
    "    height_m = float(y_max - y_min)\n",
    "    px2m_x = width_m / float(W)\n",
    "    px2m_y = height_m / float(H)\n",
    "    pixels_to_meters_avg = 0.5 * (px2m_x + px2m_y)\n",
    "    image_shape = (H, W)\n",
    "    sonar_coverage_meters = max(width_m, height_m)\n",
    "    print(f\"Detected NPZ extent: x=[{x_min:.3f},{x_max:.3f}] m, y=[{y_min:.3f},{y_max:.3f}] m\")\n",
    "    print(f\"Image shape from NPZ: H={H}, W={W}\")\n",
    "    print(f\"meters/pixel: x={px2m_x:.6f}, y={px2m_y:.6f}, avg={pixels_to_meters_avg:.6f}\")\n",
    "except Exception as e:\n",
    "    print(\"Could not read NPZ metadata:\", e)\n",
    "    print(\"Falling back to defaults from sonar_config.\")\n",
    "    from utils.sonar_config import CONE_H_DEFAULT, CONE_W_DEFAULT, DISPLAY_RANGE_MAX_M_DEFAULT\n",
    "    image_shape = (CONE_H_DEFAULT, CONE_W_DEFAULT)\n",
    "    sonar_coverage_meters = DISPLAY_RANGE_MAX_M_DEFAULT * 2  # approximate\n",
    "    pixels_to_meters_avg = sonar_coverage_meters / max(image_shape)\n",
    "    \n",
    "# Use the computed pixels_to_meters_avg in downstream analysis\n",
    "print(f\"Using pixels_to_meters_avg = {pixels_to_meters_avg:.6f} m/px\")"
   ]
  },
  {
   "cell_type": "code",
   "execution_count": 15,
   "id": "15d6238c",
   "metadata": {},
   "outputs": [
    {
     "data": {
      "application/vnd.plotly.v1+json": {
       "config": {
        "plotlyServerURL": "https://plot.ly"
       },
       "data": [
        {
         "line": {
          "color": "blue"
         },
         "mode": "lines+markers",
         "name": "Distance",
         "type": "scatter",
         "x": {
          "bdata": "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",
          "dtype": "i2"
         },
         "xaxis": "x",
         "y": {
          "bdata": "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",
          "dtype": "f8"
         },
         "yaxis": "y"
        },
        {
         "line": {
          "color": "green"
         },
         "mode": "lines+markers",
         "name": "Distance over Time",
         "type": "scatter",
         "x": [
          "2024-08-20T12:31:31.621807575",
          "2024-08-20T12:31:31.681648731",
          "2024-08-20T12:31:31.742511034",
          "2024-08-20T12:31:31.818883181",
          "2024-08-20T12:31:31.874155045",
          "2024-08-20T12:31:31.937494755",
          "2024-08-20T12:31:31.999329090",
          "2024-08-20T12:31:32.063158035",
          "2024-08-20T12:31:32.130053520",
          "2024-08-20T12:31:32.191398144",
          "2024-08-20T12:31:32.254230738",
          "2024-08-20T12:31:32.318058729",
          "2024-08-20T12:31:32.395849943",
          "2024-08-20T12:31:32.445717096",
          "2024-08-20T12:31:32.511543512",
          "2024-08-20T12:31:32.576503515",
          "2024-08-20T12:31:32.637341022",
          "2024-08-20T12:31:32.702203035",
          "2024-08-20T12:31:32.768987656",
          "2024-08-20T12:31:32.829861403",
          "2024-08-20T12:31:32.894687653",
          "2024-08-20T12:31:32.962601185",
          "2024-08-20T12:31:33.025435448",
          "2024-08-20T12:31:33.088264227",
          "2024-08-20T12:31:33.151147127",
          "2024-08-20T12:31:33.218916655",
          "2024-08-20T12:31:33.280750036",
          "2024-08-20T12:31:33.342585087",
          "2024-08-20T12:31:33.407411814",
          "2024-08-20T12:31:33.484754801",
          "2024-08-20T12:31:33.533624887",
          "2024-08-20T12:31:33.610753059",
          "2024-08-20T12:31:33.671589851",
          "2024-08-20T12:31:33.730820179",
          "2024-08-20T12:31:33.790660143",
          "2024-08-20T12:31:33.854523897",
          "2024-08-20T12:31:33.919317245",
          "2024-08-20T12:31:33.984568357",
          "2024-08-20T12:31:34.048381805",
          "2024-08-20T12:31:34.117199183",
          "2024-08-20T12:31:34.183008671",
          "2024-08-20T12:31:34.237861395",
          "2024-08-20T12:31:34.303685427",
          "2024-08-20T12:31:34.367515802",
          "2024-08-20T12:31:34.431509018",
          "2024-08-20T12:31:34.508416414",
          "2024-08-20T12:31:34.565290689",
          "2024-08-20T12:31:34.624107361",
          "2024-08-20T12:31:34.686995983",
          "2024-08-20T12:31:34.749772310",
          "2024-08-20T12:31:34.822613001",
          "2024-08-20T12:31:34.882473946",
          "2024-08-20T12:31:34.943256378",
          "2024-08-20T12:31:35.006085634",
          "2024-08-20T12:31:35.075951576",
          "2024-08-20T12:31:35.139728308",
          "2024-08-20T12:31:35.197573662",
          "2024-08-20T12:31:35.264425278",
          "2024-08-20T12:31:35.328751326",
          "2024-08-20T12:31:35.404547215",
          "2024-08-20T12:31:35.454563379",
          "2024-08-20T12:31:35.522747992",
          "2024-08-20T12:31:35.597547531",
          "2024-08-20T12:31:35.666362762",
          "2024-08-20T12:31:35.716230869",
          "2024-08-20T12:31:35.779061317",
          "2024-08-20T12:31:35.839905977",
          "2024-08-20T12:31:35.902730942",
          "2024-08-20T12:31:35.968554974",
          "2024-08-20T12:31:36.034378290",
          "2024-08-20T12:31:36.146079779",
          "2024-08-20T12:31:36.202927351",
          "2024-08-20T12:31:36.253791808",
          "2024-08-20T12:31:36.310640812",
          "2024-08-20T12:31:36.362536430",
          "2024-08-20T12:31:36.415360451",
          "2024-08-20T12:31:36.612915516",
          "2024-08-20T12:31:36.629870653",
          "2024-08-20T12:31:36.686092138",
          "2024-08-20T12:31:36.731478691",
          "2024-08-20T12:31:36.792353392",
          "2024-08-20T12:31:36.835259199",
          "2024-08-20T12:31:36.882076502",
          "2024-08-20T12:31:36.930180311",
          "2024-08-20T12:31:36.995010138",
          "2024-08-20T12:31:37.057901382",
          "2024-08-20T12:31:37.120796442",
          "2024-08-20T12:31:37.190546751",
          "2024-08-20T12:31:37.245904446",
          "2024-08-20T12:31:37.310695887",
          "2024-08-20T12:31:37.375525713",
          "2024-08-20T12:31:37.443047285",
          "2024-08-20T12:31:37.501889229",
          "2024-08-20T12:31:37.570401907",
          "2024-08-20T12:31:37.634161472",
          "2024-08-20T12:31:37.698097229",
          "2024-08-20T12:31:37.760633230",
          "2024-08-20T12:31:37.822077274",
          "2024-08-20T12:31:37.890928745",
          "2024-08-20T12:31:37.950802088",
          "2024-08-20T12:31:38.016170025",
          "2024-08-20T12:31:38.079568386",
          "2024-08-20T12:31:38.144387484",
          "2024-08-20T12:31:38.206281900",
          "2024-08-20T12:31:38.272046804",
          "2024-08-20T12:31:38.335875273",
          "2024-08-20T12:31:38.399709225",
          "2024-08-20T12:31:38.464562416",
          "2024-08-20T12:31:38.526404619",
          "2024-08-20T12:31:38.595264912",
          "2024-08-20T12:31:38.654108047",
          "2024-08-20T12:31:38.719931841",
          "2024-08-20T12:31:38.783764362",
          "2024-08-20T12:31:38.857566357",
          "2024-08-20T12:31:38.911419630",
          "2024-08-20T12:31:38.976246357",
          "2024-08-20T12:31:39.042104006",
          "2024-08-20T12:31:39.101980925",
          "2024-08-20T12:31:39.166769743",
          "2024-08-20T12:31:39.232593060",
          "2024-08-20T12:31:39.297420025",
          "2024-08-20T12:31:39.361249447",
          "2024-08-20T12:31:39.423182011",
          "2024-08-20T12:31:39.490002155",
          "2024-08-20T12:31:39.549880981",
          "2024-08-20T12:31:39.614220381",
          "2024-08-20T12:31:39.680010796",
          "2024-08-20T12:31:39.748333454",
          "2024-08-20T12:31:39.812162876",
          "2024-08-20T12:31:39.877536774",
          "2024-08-20T12:31:40.073243380",
          "2024-08-20T12:31:40.086207151",
          "2024-08-20T12:31:40.148041010",
          "2024-08-20T12:31:40.191923618",
          "2024-08-20T12:31:40.237802505",
          "2024-08-20T12:31:40.300632715",
          "2024-08-20T12:31:40.345512867",
          "2024-08-20T12:31:40.391391993",
          "2024-08-20T12:31:40.451229811",
          "2024-08-20T12:31:40.517088412",
          "2024-08-20T12:31:40.581882000",
          "2024-08-20T12:31:40.639754295",
          "2024-08-20T12:31:40.703556538",
          "2024-08-20T12:31:40.769875050",
          "2024-08-20T12:31:40.833705902",
          "2024-08-20T12:31:40.910538912",
          "2024-08-20T12:31:40.974536657",
          "2024-08-20T12:31:41.029807091",
          "2024-08-20T12:31:41.085696697",
          "2024-08-20T12:31:41.153585434",
          "2024-08-20T12:31:41.224370241",
          "2024-08-20T12:31:41.289196968",
          "2024-08-20T12:31:41.349036694",
          "2024-08-20T12:31:41.405884266",
          "2024-08-20T12:31:41.472689152",
          "2024-08-20T12:31:41.540507078",
          "2024-08-20T12:31:41.601395369",
          "2024-08-20T12:31:41.668616772",
          "2024-08-20T12:31:41.727491379",
          "2024-08-20T12:31:41.791326761",
          "2024-08-20T12:31:41.859107018",
          "2024-08-20T12:31:41.926977396",
          "2024-08-20T12:31:41.982784510",
          "2024-08-20T12:31:42.058573484",
          "2024-08-20T12:31:42.111595631",
          "2024-08-20T12:31:42.179451942",
          "2024-08-20T12:31:42.239253283",
          "2024-08-20T12:31:42.305081129",
          "2024-08-20T12:31:42.369940758",
          "2024-08-20T12:31:42.492574692",
          "2024-08-20T12:31:42.547464371",
          "2024-08-20T12:31:42.607268095",
          "2024-08-20T12:31:42.656136990",
          "2024-08-20T12:31:42.714980364",
          "2024-08-20T12:31:42.763849974",
          "2024-08-20T12:31:42.821695328",
          "2024-08-20T12:31:42.879108429",
          "2024-08-20T12:31:42.943912029",
          "2024-08-20T12:31:43.009702921",
          "2024-08-20T12:31:43.071511984",
          "2024-08-20T12:31:43.133901834",
          "2024-08-20T12:31:43.203717709",
          "2024-08-20T12:31:43.261597157",
          "2024-08-20T12:31:43.326387167",
          "2024-08-20T12:31:43.394617081",
          "2024-08-20T12:31:43.464424372",
          "2024-08-20T12:31:43.518105029",
          "2024-08-20T12:31:43.583888292",
          "2024-08-20T12:31:43.646115065",
          "2024-08-20T12:31:43.712907553",
          "2024-08-20T12:31:43.773782730",
          "2024-08-20T12:31:43.840597391",
          "2024-08-20T12:31:43.906425953",
          "2024-08-20T12:31:43.967237234",
          "2024-08-20T12:31:44.030067205",
          "2024-08-20T12:31:44.103466988",
          "2024-08-20T12:31:44.162308455",
          "2024-08-20T12:31:44.223145008",
          "2024-08-20T12:31:44.291014671",
          "2024-08-20T12:31:44.349857092",
          "2024-08-20T12:31:44.415681124",
          "2024-08-20T12:31:44.479695797",
          "2024-08-20T12:31:44.542475224",
          "2024-08-20T12:31:44.613296270",
          "2024-08-20T12:31:44.672163725",
          "2024-08-20T12:31:44.734963417",
          "2024-08-20T12:31:44.800783157",
          "2024-08-20T12:31:44.875235319",
          "2024-08-20T12:31:44.934039116",
          "2024-08-20T12:31:44.991886139",
          "2024-08-20T12:31:45.054715633",
          "2024-08-20T12:31:45.123562574",
          "2024-08-20T12:31:45.184406042",
          "2024-08-20T12:31:45.253189325",
          "2024-08-20T12:31:45.314022064",
          "2024-08-20T12:31:45.391814232",
          "2024-08-20T12:31:45.503517866",
          "2024-08-20T12:31:45.563381672",
          "2024-08-20T12:31:45.625192165",
          "2024-08-20T12:31:45.689467907",
          "2024-08-20T12:31:45.743281364",
          "2024-08-20T12:31:45.799130917",
          "2024-08-20T12:31:45.849994183",
          "2024-08-20T12:31:45.911336899",
          "2024-08-20T12:31:45.973172188",
          "2024-08-20T12:31:46.031045198",
          "2024-08-20T12:31:46.077892065",
          "2024-08-20T12:31:46.141758204",
          "2024-08-20T12:31:46.209540129",
          "2024-08-20T12:31:46.271375179",
          "2024-08-20T12:31:46.336202383",
          "2024-08-20T12:31:46.402061224",
          "2024-08-20T12:31:46.463126421",
          "2024-08-20T12:31:46.525985479",
          "2024-08-20T12:31:46.593837023",
          "2024-08-20T12:31:46.663606167",
          "2024-08-20T12:31:46.721510649",
          "2024-08-20T12:31:46.782323599",
          "2024-08-20T12:31:46.850108624",
          "2024-08-20T12:31:46.921957970",
          "2024-08-20T12:31:46.977843285",
          "2024-08-20T12:31:47.038705826",
          "2024-08-20T12:31:47.102475882",
          "2024-08-20T12:31:47.169295788",
          "2024-08-20T12:31:47.230172157",
          "2024-08-20T12:31:47.304938078",
          "2024-08-20T12:31:47.368804932",
          "2024-08-20T12:31:47.427606583",
          "2024-08-20T12:31:47.491471767",
          "2024-08-20T12:31:47.555302143",
          "2024-08-20T12:31:47.623177528",
          "2024-08-20T12:31:47.811676741",
          "2024-08-20T12:31:47.827633619",
          "2024-08-20T12:31:47.877500534",
          "2024-08-20T12:31:47.938337326",
          "2024-08-20T12:31:47.984474659",
          "2024-08-20T12:31:48.027358532",
          "2024-08-20T12:31:48.088195324",
          "2024-08-20T12:31:48.136068344",
          "2024-08-20T12:31:48.191809654",
          "2024-08-20T12:31:48.256190538",
          "2024-08-20T12:31:48.321072102",
          "2024-08-20T12:31:48.382852077",
          "2024-08-20T12:31:48.445721865",
          "2024-08-20T12:31:48.511081219",
          "2024-08-20T12:31:48.576905251",
          "2024-08-20T12:31:48.638738394",
          "2024-08-20T12:31:48.701770544",
          "2024-08-20T12:31:48.774565697",
          "2024-08-20T12:31:48.831388712",
          "2024-08-20T12:31:48.893730640",
          "2024-08-20T12:31:48.961057901",
          "2024-08-20T12:31:49.028914213",
          "2024-08-20T12:31:49.090711117",
          "2024-08-20T12:31:49.154539824",
          "2024-08-20T12:31:49.213383436",
          "2024-08-20T12:31:49.279206991",
          "2024-08-20T12:31:49.345029116",
          "2024-08-20T12:31:49.405867100",
          "2024-08-20T12:31:49.473721266",
          "2024-08-20T12:31:49.545494080",
          "2024-08-20T12:31:49.602399588",
          "2024-08-20T12:31:49.663179159",
          "2024-08-20T12:31:49.729102612",
          "2024-08-20T12:31:49.791011810",
          "2024-08-20T12:31:49.853843212",
          "2024-08-20T12:31:49.919657946",
          "2024-08-20T12:31:49.983487844",
          "2024-08-20T12:31:50.046319723",
          "2024-08-20T12:31:50.110692024",
          "2024-08-20T12:31:50.174520016",
          "2024-08-20T12:31:50.238417864",
          "2024-08-20T12:31:50.303511620",
          "2024-08-20T12:31:50.366343737",
          "2024-08-20T12:31:50.432175159",
          "2024-08-20T12:31:50.505977631",
          "2024-08-20T12:31:50.560830355",
          "2024-08-20T12:31:50.670942068",
          "2024-08-20T12:31:50.726747036",
          "2024-08-20T12:31:50.789601564",
          "2024-08-20T12:31:50.825510979",
          "2024-08-20T12:31:50.890295744",
          "2024-08-20T12:31:50.943155289",
          "2024-08-20T12:31:51.012972832",
          "2024-08-20T12:31:51.074837446",
          "2024-08-20T12:31:51.134642601",
          "2024-08-20T12:31:51.200467348",
          "2024-08-20T12:31:51.273272991",
          "2024-08-20T12:31:51.336102962",
          "2024-08-20T12:31:51.389957905",
          "2024-08-20T12:31:51.454820395",
          "2024-08-20T12:31:51.517674922",
          "2024-08-20T12:31:51.586463928",
          "2024-08-20T12:31:51.646686554",
          "2024-08-20T12:31:51.712054014",
          "2024-08-20T12:31:51.782867193",
          "2024-08-20T12:31:51.838715792",
          "2024-08-20T12:31:51.903051376",
          "2024-08-20T12:31:51.967877626",
          "2024-08-20T12:31:52.030061007",
          "2024-08-20T12:31:52.102158070",
          "2024-08-20T12:31:52.168978691",
          "2024-08-20T12:31:52.222800970",
          "2024-08-20T12:31:52.292626858",
          "2024-08-20T12:31:52.351458549",
          "2024-08-20T12:31:52.418277025",
          "2024-08-20T12:31:52.481150866",
          "2024-08-20T12:31:52.541553497",
          "2024-08-20T12:31:52.606345415",
          "2024-08-20T12:31:52.673228025",
          "2024-08-20T12:31:52.735998154",
          "2024-08-20T12:31:52.798882484",
          "2024-08-20T12:31:52.862711668",
          "2024-08-20T12:31:52.927570105",
          "2024-08-20T12:31:52.990370035",
          "2024-08-20T12:31:53.070696592",
          "2024-08-20T12:31:53.131572007",
          "2024-08-20T12:31:53.195363998",
          "2024-08-20T12:31:53.245267153",
          "2024-08-20T12:31:53.310670376",
          "2024-08-20T12:31:53.375495911",
          "2024-08-20T12:31:53.440849304",
          "2024-08-20T12:31:53.502685069",
          "2024-08-20T12:31:53.581473112",
          "2024-08-20T12:31:53.671237707",
          "2024-08-20T12:31:53.730012655",
          "2024-08-20T12:31:53.778313637",
          "2024-08-20T12:31:53.833030939",
          "2024-08-20T12:31:53.893876076",
          "2024-08-20T12:31:53.949759483",
          "2024-08-20T12:31:54.014583826",
          "2024-08-20T12:31:54.080477238",
          "2024-08-20T12:31:54.146250486",
          "2024-08-20T12:31:54.208119631",
          "2024-08-20T12:31:54.272945881",
          "2024-08-20T12:31:54.337438822",
          "2024-08-20T12:31:54.401267767",
          "2024-08-20T12:31:54.464104652",
          "2024-08-20T12:31:54.525992393",
          "2024-08-20T12:31:54.604726553",
          "2024-08-20T12:31:54.660574675",
          "2024-08-20T12:31:54.717456818",
          "2024-08-20T12:31:54.788233280",
          "2024-08-20T12:31:54.846078873",
          "2024-08-20T12:31:54.909790993",
          "2024-08-20T12:31:54.976554394",
          "2024-08-20T12:31:55.039385557",
          "2024-08-20T12:31:55.105245590",
          "2024-08-20T12:31:55.171085119",
          "2024-08-20T12:31:55.230873108",
          "2024-08-20T12:31:55.299697399",
          "2024-08-20T12:31:55.362556934",
          "2024-08-20T12:31:55.429852486",
          "2024-08-20T12:31:55.490688562",
          "2024-08-20T12:31:55.549531460",
          "2024-08-20T12:31:55.615355253",
          "2024-08-20T12:31:55.682177305",
          "2024-08-20T12:31:55.744011879",
          "2024-08-20T12:31:55.807841063",
          "2024-08-20T12:31:55.870673656",
          "2024-08-20T12:31:55.949462414",
          "2024-08-20T12:31:56.003352642",
          "2024-08-20T12:31:56.067021132",
          "2024-08-20T12:31:56.125862597",
          "2024-08-20T12:31:56.193681240",
          "2024-08-20T12:31:56.253522635",
          "2024-08-20T12:31:56.318383694",
          "2024-08-20T12:31:56.386166811",
          "2024-08-20T12:31:56.448000908",
          "2024-08-20T12:31:56.512829065",
          "2024-08-20T12:31:56.583638668",
          "2024-08-20T12:31:56.640494585",
          "2024-08-20T12:31:56.703325510",
          "2024-08-20T12:31:56.767193556",
          "2024-08-20T12:31:56.835482836",
          "2024-08-20T12:31:56.902304649",
          "2024-08-20T12:31:56.962438345",
          "2024-08-20T12:31:57.025873184",
          "2024-08-20T12:31:57.087665081",
          "2024-08-20T12:31:57.154531956",
          "2024-08-20T12:31:57.214373350",
          "2024-08-20T12:31:57.293160200",
          "2024-08-20T12:31:57.345025063",
          "2024-08-20T12:31:57.412839890",
          "2024-08-20T12:31:57.473701954",
          "2024-08-20T12:31:57.534539223",
          "2024-08-20T12:31:57.604353428",
          "2024-08-20T12:31:57.663195133",
          "2024-08-20T12:31:57.726027727",
          "2024-08-20T12:31:57.791850805",
          "2024-08-20T12:31:57.855682135",
          "2024-08-20T12:31:57.919509649",
          "2024-08-20T12:31:57.984847546",
          "2024-08-20T12:31:58.048672438",
          "2024-08-20T12:31:58.114497423",
          "2024-08-20T12:31:58.232179642",
          "2024-08-20T12:31:58.303023338",
          "2024-08-20T12:31:58.362874031",
          "2024-08-20T12:31:58.422821522",
          "2024-08-20T12:31:58.476673603",
          "2024-08-20T12:31:58.501605749",
          "2024-08-20T12:31:58.569931507",
          "2024-08-20T12:31:58.628283978",
          "2024-08-20T12:31:58.687161207",
          "2024-08-20T12:31:58.754455805",
          "2024-08-20T12:31:58.874644995",
          "2024-08-20T12:31:58.942510366",
          "2024-08-20T12:31:59.005335093",
          "2024-08-20T12:31:59.067801952",
          "2024-08-20T12:31:59.130631208",
          "2024-08-20T12:31:59.181493998",
          "2024-08-20T12:31:59.239844561",
          "2024-08-20T12:31:59.299728394",
          "2024-08-20T12:31:59.346602917",
          "2024-08-20T12:31:59.392479658",
          "2024-08-20T12:31:59.455312490",
          "2024-08-20T12:31:59.519181966",
          "2024-08-20T12:31:59.584981441",
          "2024-08-20T12:31:59.647796392",
          "2024-08-20T12:31:59.710932016",
          "2024-08-20T12:31:59.783735514",
          "2024-08-20T12:31:59.839586020",
          "2024-08-20T12:31:59.903450012",
          "2024-08-20T12:31:59.966248512",
          "2024-08-20T12:32:00.031110048",
          "2024-08-20T12:32:00.101887941",
          "2024-08-20T12:32:00.159729958",
          "2024-08-20T12:32:00.222562075",
          "2024-08-20T12:32:00.287391663",
          "2024-08-20T12:32:00.352120399",
          "2024-08-20T12:32:00.413935184",
          "2024-08-20T12:32:00.478729010",
          "2024-08-20T12:32:00.542225122",
          "2024-08-20T12:32:00.610045195",
          "2024-08-20T12:32:00.671614647",
          "2024-08-20T12:32:00.735095501",
          "2024-08-20T12:32:00.799942493",
          "2024-08-20T12:32:00.863315344",
          "2024-08-20T12:32:00.928106546",
          "2024-08-20T12:32:01.008890390",
          "2024-08-20T12:32:01.070760727",
          "2024-08-20T12:32:01.117598772",
          "2024-08-20T12:32:01.181464672",
          "2024-08-20T12:32:01.245420218",
          "2024-08-20T12:32:01.314198017",
          "2024-08-20T12:32:01.377030849",
          "2024-08-20T12:32:01.439896584",
          "2024-08-20T12:32:01.512666941",
          "2024-08-20T12:32:01.589461088",
          "2024-08-20T12:32:01.634341002",
          "2024-08-20T12:32:01.695178032",
          "2024-08-20T12:32:01.761003256",
          "2024-08-20T12:32:01.821839809",
          "2024-08-20T12:32:01.885703325",
          "2024-08-20T12:32:01.950496435",
          "2024-08-20T12:32:02.016355275",
          "2024-08-20T12:32:02.079560041",
          "2024-08-20T12:32:02.147934437",
          "2024-08-20T12:32:02.205846548",
          "2024-08-20T12:32:02.270641804",
          "2024-08-20T12:32:02.344480515",
          "2024-08-20T12:32:02.461406469",
          "2024-08-20T12:32:02.517229556",
          "2024-08-20T12:32:02.564082146",
          "2024-08-20T12:32:02.629870892",
          "2024-08-20T12:32:02.699684858",
          "2024-08-20T12:32:02.746571541",
          "2024-08-20T12:32:02.795462847",
          "2024-08-20T12:32:02.853273153",
          "2024-08-20T12:32:02.914112091",
          "2024-08-20T12:32:02.973954678",
          "2024-08-20T12:32:03.051743984",
          "2024-08-20T12:32:03.102615833",
          "2024-08-20T12:32:03.168430090",
          "2024-08-20T12:32:03.248250484",
          "2024-08-20T12:32:03.296088934",
          "2024-08-20T12:32:03.361934662",
          "2024-08-20T12:32:03.423750877",
          "2024-08-20T12:32:03.487687349",
          "2024-08-20T12:32:03.550518513",
          "2024-08-20T12:32:03.618339300",
          "2024-08-20T12:32:03.692140341",
          "2024-08-20T12:32:03.742039919",
          "2024-08-20T12:32:03.805836201",
          "2024-08-20T12:32:03.872937918",
          "2024-08-20T12:32:03.934771776",
          "2024-08-20T12:32:04.138708115",
          "2024-08-20T12:32:04.162652016",
          "2024-08-20T12:32:04.215462923",
          "2024-08-20T12:32:04.261340141",
          "2024-08-20T12:32:04.305223465",
          "2024-08-20T12:32:04.367092133",
          "2024-08-20T12:32:04.410940409",
          "2024-08-20T12:32:04.457854271",
          "2024-08-20T12:32:04.517654896",
          "2024-08-20T12:32:04.580527544",
          "2024-08-20T12:32:04.637335539",
          "2024-08-20T12:32:04.706151247",
          "2024-08-20T12:32:04.765990496",
          "2024-08-20T12:32:04.830850601",
          "2024-08-20T12:32:04.894646168",
          "2024-08-20T12:32:04.958475590",
          "2024-08-20T12:32:05.028358459",
          "2024-08-20T12:32:05.090869427",
          "2024-08-20T12:32:05.155694008",
          "2024-08-20T12:32:05.220520258",
          "2024-08-20T12:32:05.280360222",
          "2024-08-20T12:32:05.344203472",
          "2024-08-20T12:32:05.416617870",
          "2024-08-20T12:32:05.473434925",
          "2024-08-20T12:32:05.533270836",
          "2024-08-20T12:32:05.599692583",
          "2024-08-20T12:32:05.668574572",
          "2024-08-20T12:32:05.727350950",
          "2024-08-20T12:32:05.791183472",
          "2024-08-20T12:32:05.854014158",
          "2024-08-20T12:32:05.924823761",
          "2024-08-20T12:32:05.983665466",
          "2024-08-20T12:32:06.046497345",
          "2024-08-20T12:32:06.113318920",
          "2024-08-20T12:32:06.185126543",
          "2024-08-20T12:32:06.244966507",
          "2024-08-20T12:32:06.305804491",
          "2024-08-20T12:32:06.427478552",
          "2024-08-20T12:32:06.476348162",
          "2024-08-20T12:32:06.519232987",
          "2024-08-20T12:32:06.580214500",
          "2024-08-20T12:32:06.640358686",
          "2024-08-20T12:32:06.689215422",
          "2024-08-20T12:32:06.750109673",
          "2024-08-20T12:32:06.817869663",
          "2024-08-20T12:32:06.883101940",
          "2024-08-20T12:32:06.941977024",
          "2024-08-20T12:32:07.051910162",
          "2024-08-20T12:32:07.107870817",
          "2024-08-20T12:32:07.159778595",
          "2024-08-20T12:32:07.225763559",
          "2024-08-20T12:32:07.280441046",
          "2024-08-20T12:32:07.327314854",
          "2024-08-20T12:32:07.392040730",
          "2024-08-20T12:32:07.453844547",
          "2024-08-20T12:32:07.519663572",
          "2024-08-20T12:32:07.585496664",
          "2024-08-20T12:32:07.646383524",
          "2024-08-20T12:32:07.712150097",
          "2024-08-20T12:32:07.776016474",
          "2024-08-20T12:32:07.839809179",
          "2024-08-20T12:32:07.902639627",
          "2024-08-20T12:32:07.965471029",
          "2024-08-20T12:32:08.032032250",
          "2024-08-20T12:32:08.093867064",
          "2024-08-20T12:32:08.167701006",
          "2024-08-20T12:32:08.227540970",
          "2024-08-20T12:32:08.295396090",
          "2024-08-20T12:32:08.349215508",
          "2024-08-20T12:32:08.416072607",
          "2024-08-20T12:32:08.480871439",
          "2024-08-20T12:32:08.542946577",
          "2024-08-20T12:32:08.606839895",
          "2024-08-20T12:32:08.670669317",
          "2024-08-20T12:32:08.748494625",
          "2024-08-20T12:32:08.810294867",
          "2024-08-20T12:32:08.870174646",
          "2024-08-20T12:32:08.929901600",
          "2024-08-20T12:32:08.990741253",
          "2024-08-20T12:32:09.054567575",
          "2024-08-20T12:32:09.119748592",
          "2024-08-20T12:32:09.183618307",
          "2024-08-20T12:32:09.246409178",
          "2024-08-20T12:32:09.310237885",
          "2024-08-20T12:32:09.376274586",
          "2024-08-20T12:32:09.444119215",
          "2024-08-20T12:32:09.505930185",
          "2024-08-20T12:32:09.570753813",
          "2024-08-20T12:32:09.633613825",
          "2024-08-20T12:32:09.695421457",
          "2024-08-20T12:32:09.758251190",
          "2024-08-20T12:32:09.823078632",
          "2024-08-20T12:32:09.892893553",
          "2024-08-20T12:32:09.950737238",
          "2024-08-20T12:32:10.014777422",
          "2024-08-20T12:32:10.086585045",
          "2024-08-20T12:32:10.141972303",
          "2024-08-20T12:32:10.210790157",
          "2024-08-20T12:32:10.270623446",
          "2024-08-20T12:32:10.334451199",
          "2024-08-20T12:32:10.401107311",
          "2024-08-20T12:32:10.475941658",
          "2024-08-20T12:32:10.526770592",
          "2024-08-20T12:32:10.592339277",
          "2024-08-20T12:32:10.654148579",
          "2024-08-20T12:32:10.718975782",
          "2024-08-20T12:32:10.782802105",
          "2024-08-20T12:32:10.848627567",
          "2024-08-20T12:32:10.910460711",
          "2024-08-20T12:32:10.977282286",
          "2024-08-20T12:32:11.039152861",
          "2024-08-20T12:32:11.103947401",
          "2024-08-20T12:32:11.167773247",
          "2024-08-20T12:32:11.229755402",
          "2024-08-20T12:32:11.300566435",
          "2024-08-20T12:32:11.360479593",
          "2024-08-20T12:32:11.429301023",
          "2024-08-20T12:32:11.491092443",
          "2024-08-20T12:32:11.549935341",
          "2024-08-20T12:32:11.614765167",
          "2024-08-20T12:32:11.678591490",
          "2024-08-20T12:32:11.881561279",
          "2024-08-20T12:32:11.898514748",
          "2024-08-20T12:32:11.957359314",
          "2024-08-20T12:32:12.000243187",
          "2024-08-20T12:32:12.059998989",
          "2024-08-20T12:32:12.107871294",
          "2024-08-20T12:32:12.150756359",
          "2024-08-20T12:32:12.212984085",
          "2024-08-20T12:32:12.266843080",
          "2024-08-20T12:32:12.333659649",
          "2024-08-20T12:32:12.400614738",
          "2024-08-20T12:32:12.452477217",
          "2024-08-20T12:32:12.509835005",
          "2024-08-20T12:32:12.584639788",
          "2024-08-20T12:32:12.639522791",
          "2024-08-20T12:32:12.704347134",
          "2024-08-20T12:32:12.766216516",
          "2024-08-20T12:32:12.831049442",
          "2024-08-20T12:32:12.897837639",
          "2024-08-20T12:32:12.957735538",
          "2024-08-20T12:32:13.023500681",
          "2024-08-20T12:32:13.087365866",
          "2024-08-20T12:32:13.162170649",
          "2024-08-20T12:32:13.215023041",
          "2024-08-20T12:32:13.280812502",
          "2024-08-20T12:32:13.341650486",
          "2024-08-20T12:32:13.405478477",
          "2024-08-20T12:32:13.470162392",
          "2024-08-20T12:32:13.536520719",
          "2024-08-20T12:32:13.601319313",
          "2024-08-20T12:32:13.662052870",
          "2024-08-20T12:32:13.725847721",
          "2024-08-20T12:32:13.791673660",
          "2024-08-20T12:32:13.853515148",
          "2024-08-20T12:32:13.930917978",
          "2024-08-20T12:32:13.993786335",
          "2024-08-20T12:32:14.059574604",
          "2024-08-20T12:32:14.110471010",
          "2024-08-20T12:32:14.175262690",
          "2024-08-20T12:32:14.239600658",
          "2024-08-20T12:32:14.304803610",
          "2024-08-20T12:32:14.370627165",
          "2024-08-20T12:32:14.430467367",
          "2024-08-20T12:32:14.494708300",
          "2024-08-20T12:32:14.558565378",
          "2024-08-20T12:32:14.631342411",
          "2024-08-20T12:32:14.685559273",
          "2024-08-20T12:32:14.750857830",
          "2024-08-20T12:32:14.813715219",
          "2024-08-20T12:32:14.879512548",
          "2024-08-20T12:32:14.945337057",
          "2024-08-20T12:32:15.009166241",
          "2024-08-20T12:32:15.070513248",
          "2024-08-20T12:32:15.136845350",
          "2024-08-20T12:32:15.243623495",
          "2024-08-20T12:32:15.292493105",
          "2024-08-20T12:32:15.336418152",
          "2024-08-20T12:32:15.403240204",
          "2024-08-20T12:32:15.460046530",
          "2024-08-20T12:32:15.519924878",
          "2024-08-20T12:32:15.582721472",
          "2024-08-20T12:32:15.646606445",
          "2024-08-20T12:32:15.718358517",
          "2024-08-20T12:32:15.777199030",
          "2024-08-20T12:32:15.840064526",
          "2024-08-20T12:32:15.907848120",
          "2024-08-20T12:32:15.965693712",
          "2024-08-20T12:32:16.031555175",
          "2024-08-20T12:32:16.096345186",
          "2024-08-20T12:32:16.159226656",
          "2024-08-20T12:32:16.222518921",
          "2024-08-20T12:32:16.286342859",
          "2024-08-20T12:32:16.351169825",
          "2024-08-20T12:32:16.413003683",
          "2024-08-20T12:32:16.480856419",
          "2024-08-20T12:32:16.542655945",
          "2024-08-20T12:32:16.610476255",
          "2024-08-20T12:32:16.670314550",
          "2024-08-20T12:32:16.734145641",
          "2024-08-20T12:32:16.799000502",
          "2024-08-20T12:32:16.881431103",
          "2024-08-20T12:32:16.929389238",
          "2024-08-20T12:32:16.989288330",
          "2024-08-20T12:32:17.056051016",
          "2024-08-20T12:32:17.117888451",
          "2024-08-20T12:32:17.183228970",
          "2024-08-20T12:32:17.246451139",
          "2024-08-20T12:32:17.311335325",
          "2024-08-20T12:32:17.374109983",
          "2024-08-20T12:32:17.440968990",
          "2024-08-20T12:32:17.502764702",
          "2024-08-20T12:32:17.568790674",
          "2024-08-20T12:32:17.629988670",
          "2024-08-20T12:32:17.707792282",
          "2024-08-20T12:32:17.769598246",
          "2024-08-20T12:32:17.823451996",
          "2024-08-20T12:32:17.886348248",
          "2024-08-20T12:32:17.957094431",
          "2024-08-20T12:32:18.015938759",
          "2024-08-20T12:32:18.084788322",
          "2024-08-20T12:32:18.142599106",
          "2024-08-20T12:32:18.207425594",
          "2024-08-20T12:32:18.270257473",
          "2024-08-20T12:32:18.335122108",
          "2024-08-20T12:32:18.399975538",
          "2024-08-20T12:32:18.470842600",
          "2024-08-20T12:32:18.525648832",
          "2024-08-20T12:32:18.590513945",
          "2024-08-20T12:32:18.657296419",
          "2024-08-20T12:32:18.718192339",
          "2024-08-20T12:32:18.782960415",
          "2024-08-20T12:32:18.847694159",
          "2024-08-20T12:32:18.910487652",
          "2024-08-20T12:32:18.975023031",
          "2024-08-20T12:32:19.037863016",
          "2024-08-20T12:32:19.103645325",
          "2024-08-20T12:32:19.172459364",
          "2024-08-20T12:32:19.240307093",
          "2024-08-20T12:32:19.297124147",
          "2024-08-20T12:32:19.359956264",
          "2024-08-20T12:32:19.425780773",
          "2024-08-20T12:32:19.623049498",
          "2024-08-20T12:32:19.641996622",
          "2024-08-20T12:32:19.698847055",
          "2024-08-20T12:32:19.756545067",
          "2024-08-20T12:32:19.804416180",
          "2024-08-20T12:32:19.850294828",
          "2024-08-20T12:32:19.894176245",
          "2024-08-20T12:32:19.955012321",
          "2024-08-20T12:32:20.001924038",
          "2024-08-20T12:32:20.070703506",
          "2024-08-20T12:32:20.132539988",
          "2024-08-20T12:32:20.191419840",
          "2024-08-20T12:32:20.262194872",
          "2024-08-20T12:32:20.322516203",
          "2024-08-20T12:32:20.387259722",
          "2024-08-20T12:32:20.446102619",
          "2024-08-20T12:32:20.520902157",
          "2024-08-20T12:32:20.584731817",
          "2024-08-20T12:32:20.653100014",
          "2024-08-20T12:32:20.706911802",
          "2024-08-20T12:32:20.771246910",
          "2024-08-20T12:32:20.832086563",
          "2024-08-20T12:32:20.895421505",
          "2024-08-20T12:32:20.959251165",
          "2024-08-20T12:32:21.024112225",
          "2024-08-20T12:32:21.086937666",
          "2024-08-20T12:32:21.150739670",
          "2024-08-20T12:32:21.215182066",
          "2024-08-20T12:32:21.288241148",
          "2024-08-20T12:32:21.342065573",
          "2024-08-20T12:32:21.407263279",
          "2024-08-20T12:32:21.483011246",
          "2024-08-20T12:32:21.532878399",
          "2024-08-20T12:32:21.599734306",
          "2024-08-20T12:32:21.667518377",
          "2024-08-20T12:32:21.730396748",
          "2024-08-20T12:32:21.791186571",
          "2024-08-20T12:32:21.855018854",
          "2024-08-20T12:32:21.920847893",
          "2024-08-20T12:32:21.982674122",
          "2024-08-20T12:32:22.189171791",
          "2024-08-20T12:32:22.202137947",
          "2024-08-20T12:32:22.256990194",
          "2024-08-20T12:32:22.320201874",
          "2024-08-20T12:32:22.365945339",
          "2024-08-20T12:32:22.409827948",
          "2024-08-20T12:32:22.457733631",
          "2024-08-20T12:32:22.516542673",
          "2024-08-20T12:32:22.564417124",
          "2024-08-20T12:32:22.622356653",
          "2024-08-20T12:32:22.687514067",
          "2024-08-20T12:32:22.750309229",
          "2024-08-20T12:32:22.818037748",
          "2024-08-20T12:32:22.886855364",
          "2024-08-20T12:32:22.941748381",
          "2024-08-20T12:32:23.005697012",
          "2024-08-20T12:32:23.077054977",
          "2024-08-20T12:32:23.133903503",
          "2024-08-20T12:32:23.235785723",
          "2024-08-20T12:32:23.298555374",
          "2024-08-20T12:32:23.360395193",
          "2024-08-20T12:32:23.415242434",
          "2024-08-20T12:32:23.455136061",
          "2024-08-20T12:32:23.520959139",
          "2024-08-20T12:32:23.591769695",
          "2024-08-20T12:32:23.645626307",
          "2024-08-20T12:32:23.709454775",
          "2024-08-20T12:32:23.781263590",
          "2024-08-20T12:32:23.837112904",
          "2024-08-20T12:32:23.903935671",
          "2024-08-20T12:32:23.965770245",
          "2024-08-20T12:32:24.034584522",
          "2024-08-20T12:32:24.102404833",
          "2024-08-20T12:32:24.158255816",
          "2024-08-20T12:32:24.223082304",
          "2024-08-20T12:32:24.300907373",
          "2024-08-20T12:32:24.357778549",
          "2024-08-20T12:32:24.416562796",
          "2024-08-20T12:32:24.479396105",
          "2024-08-20T12:32:24.543224573",
          "2024-08-20T12:32:24.606056452",
          "2024-08-20T12:32:24.671190023",
          "2024-08-20T12:32:24.737014294",
          "2024-08-20T12:32:24.801352024",
          "2024-08-20T12:32:24.864221811",
          "2024-08-20T12:32:24.932000160",
          "2024-08-20T12:32:24.992837667",
          "2024-08-20T12:32:25.054672956",
          "2024-08-20T12:32:25.118500710",
          "2024-08-20T12:32:25.195301294",
          "2024-08-20T12:32:25.253140926",
          "2024-08-20T12:32:25.311498642",
          "2024-08-20T12:32:25.375326633",
          "2024-08-20T12:32:25.440153599",
          "2024-08-20T12:32:25.641125202",
          "2024-08-20T12:32:25.657083750",
          "2024-08-20T12:32:25.720910788",
          "2024-08-20T12:32:25.765789747",
          "2024-08-20T12:32:25.811667442",
          "2024-08-20T12:32:25.873502493",
          "2024-08-20T12:32:25.917384863",
          "2024-08-20T12:32:25.965266705",
          "2024-08-20T12:32:26.015124083",
          "2024-08-20T12:32:26.081945181",
          "2024-08-20T12:32:26.143970490",
          "2024-08-20T12:32:26.207308531",
          "2024-08-20T12:32:26.277124882",
          "2024-08-20T12:32:26.335473299",
          "2024-08-20T12:32:26.399356604",
          "2024-08-20T12:32:26.469116211",
          "2024-08-20T12:32:26.526027203",
          "2024-08-20T12:32:26.599806547",
          "2024-08-20T12:32:26.662598610",
          "2024-08-20T12:32:26.719447613",
          "2024-08-20T12:32:26.787300110",
          "2024-08-20T12:32:26.846109152",
          "2024-08-20T12:32:26.909974575",
          "2024-08-20T12:32:26.982742786",
          "2024-08-20T12:32:27.039618492",
          "2024-08-20T12:32:27.109428883",
          "2024-08-20T12:32:27.168270826",
          "2024-08-20T12:32:27.244070053",
          "2024-08-20T12:32:27.300915718",
          "2024-08-20T12:32:27.358763456",
          "2024-08-20T12:32:27.430572271",
          "2024-08-20T12:32:27.495396614",
          "2024-08-20T12:32:27.552243471",
          "2024-08-20T12:32:27.618986607",
          "2024-08-20T12:32:27.679826498",
          "2024-08-20T12:32:27.744651794",
          "2024-08-20T12:32:27.811474085",
          "2024-08-20T12:32:27.871311665",
          "2024-08-20T12:32:27.938232660",
          "2024-08-20T12:32:28.007043123",
          "2024-08-20T12:32:28.066883086",
          "2024-08-20T12:32:28.126723528",
          "2024-08-20T12:32:28.193597555",
          "2024-08-20T12:32:28.260417461",
          "2024-08-20T12:32:28.320315361",
          "2024-08-20T12:32:28.384086132",
          "2024-08-20T12:32:28.446953297",
          "2024-08-20T12:32:28.518725634",
          "2024-08-20T12:32:28.576572895",
          "2024-08-20T12:32:28.641489267",
          "2024-08-20T12:32:28.702045441",
          "2024-08-20T12:32:28.767858028",
          "2024-08-20T12:32:28.830724716",
          "2024-08-20T12:32:28.896514893",
          "2024-08-20T12:32:28.961437941",
          "2024-08-20T12:32:29.023036718",
          "2024-08-20T12:32:29.086858511",
          "2024-08-20T12:32:29.150660276",
          "2024-08-20T12:32:29.214490175",
          "2024-08-20T12:32:29.280347824",
          "2024-08-20T12:32:29.347641230",
          "2024-08-20T12:32:29.408477068",
          "2024-08-20T12:32:29.473303795",
          "2024-08-20T12:32:29.534140825",
          "2024-08-20T12:32:29.603953600",
          "2024-08-20T12:32:29.662796974",
          "2024-08-20T12:32:29.728660822",
          "2024-08-20T12:32:29.829075098",
          "2024-08-20T12:32:29.855006218",
          "2024-08-20T12:32:29.918835640",
          "2024-08-20T12:32:29.984659910",
          "2024-08-20T12:32:30.048488617",
          "2024-08-20T12:32:30.111320496",
          "2024-08-20T12:32:30.174177170",
          "2024-08-20T12:32:30.241478205",
          "2024-08-20T12:32:30.304310322",
          "2024-08-20T12:32:30.367180586",
          "2024-08-20T12:32:30.433924198",
          "2024-08-20T12:32:30.496754646",
          "2024-08-20T12:32:30.561550379",
          "2024-08-20T12:32:30.623412132",
          "2024-08-20T12:32:30.686249495",
          "2024-08-20T12:32:30.753970623",
          "2024-08-20T12:32:30.815323591",
          "2024-08-20T12:32:30.879150867",
          "2024-08-20T12:32:30.955455780",
          "2024-08-20T12:32:31.006345749",
          "2024-08-20T12:32:31.084110022",
          "2024-08-20T12:32:31.133013964",
          "2024-08-20T12:32:31.203535080",
          "2024-08-20T12:32:31.271354437",
          "2024-08-20T12:32:31.326326847",
          "2024-08-20T12:32:31.408055782",
          "2024-08-20T12:32:31.458920002",
          "2024-08-20T12:32:31.552667856",
          "2024-08-20T12:32:31.591563702",
          "2024-08-20T12:32:31.650408030",
          "2024-08-20T12:32:31.710282564",
          "2024-08-20T12:32:31.776070833",
          "2024-08-20T12:32:31.837939978",
          "2024-08-20T12:32:31.907718420",
          "2024-08-20T12:32:31.973545551",
          "2024-08-20T12:32:32.030505180",
          "2024-08-20T12:32:32.096329927",
          "2024-08-20T12:32:32.159909010",
          "2024-08-20T12:32:32.223783493",
          "2024-08-20T12:32:32.285617352",
          "2024-08-20T12:32:32.355093002",
          "2024-08-20T12:32:32.423932314",
          "2024-08-20T12:32:32.477780581",
          "2024-08-20T12:32:32.545111179",
          "2024-08-20T12:32:32.610616684",
          "2024-08-20T12:32:32.672452688",
          "2024-08-20T12:32:32.738783121",
          "2024-08-20T12:32:32.800617695",
          "2024-08-20T12:32:32.862452507",
          "2024-08-20T12:32:32.927278280",
          "2024-08-20T12:32:32.991107702",
          "2024-08-20T12:32:33.061918974",
          "2024-08-20T12:32:33.117813110",
          "2024-08-20T12:32:33.183628321",
          "2024-08-20T12:32:33.247426987",
          "2024-08-20T12:32:33.313245773",
          "2024-08-20T12:32:33.376078844",
          "2024-08-20T12:32:33.437913418",
          "2024-08-20T12:32:33.507761955",
          "2024-08-20T12:32:33.566568375",
          "2024-08-20T12:32:33.630432606",
          "2024-08-20T12:32:33.696256876",
          "2024-08-20T12:32:33.763337374",
          "2024-08-20T12:32:33.823216915",
          "2024-08-20T12:32:33.886786699",
          "2024-08-20T12:32:33.951614380",
          "2024-08-20T12:32:34.019431353",
          "2024-08-20T12:32:34.080267668",
          "2024-08-20T12:32:34.142103195",
          "2024-08-20T12:32:34.208925486",
          "2024-08-20T12:32:34.270759106",
          "2024-08-20T12:32:34.334587574",
          "2024-08-20T12:32:34.409389973",
          "2024-08-20T12:32:34.463746071",
          "2024-08-20T12:32:34.525631427",
          "2024-08-20T12:32:34.590441942",
          "2024-08-20T12:32:34.672589302",
          "2024-08-20T12:32:34.718495369",
          "2024-08-20T12:32:34.784605265",
          "2024-08-20T12:32:34.845502377",
          "2024-08-20T12:32:34.915297985",
          "2024-08-20T12:32:34.976535082",
          "2024-08-20T12:32:35.038368940",
          "2024-08-20T12:32:35.101213455",
          "2024-08-20T12:32:35.170028687",
          "2024-08-20T12:32:35.229869604",
          "2024-08-20T12:32:35.296691179",
          "2024-08-20T12:32:35.365506649",
          "2024-08-20T12:32:35.421391964",
          "2024-08-20T12:32:35.489713669",
          "2024-08-20T12:32:35.550548553",
          "2024-08-20T12:32:35.615374088",
          "2024-08-20T12:32:35.679830551",
          "2024-08-20T12:32:35.741671562",
          "2024-08-20T12:32:35.821450710",
          "2024-08-20T12:32:35.875407696",
          "2024-08-20T12:32:35.999787569",
          "2024-08-20T12:32:36.072578192",
          "2024-08-20T12:32:36.198305845",
          "2024-08-20T12:32:36.259132385",
          "2024-08-20T12:32:36.320932627",
          "2024-08-20T12:32:36.381804943",
          "2024-08-20T12:32:36.446623564",
          "2024-08-20T12:32:36.520399332",
          "2024-08-20T12:32:36.578244925",
          "2024-08-20T12:32:36.646062136",
          "2024-08-20T12:32:36.707958698",
          "2024-08-20T12:32:36.768796206",
          "2024-08-20T12:32:36.829632759",
          "2024-08-20T12:32:36.895457745",
          "2024-08-20T12:32:36.961305380",
          "2024-08-20T12:32:37.027129889",
          "2024-08-20T12:32:37.094947815",
          "2024-08-20T12:32:37.150824547",
          "2024-08-20T12:32:37.228126764",
          "2024-08-20T12:32:37.278991222",
          "2024-08-20T12:32:37.345320702",
          "2024-08-20T12:32:37.412676811",
          "2024-08-20T12:32:37.476505041",
          "2024-08-20T12:32:37.534350395",
          "2024-08-20T12:32:37.598179579",
          "2024-08-20T12:32:37.665997982",
          "2024-08-20T12:32:37.730824471",
          "2024-08-20T12:32:37.793656349",
          "2024-08-20T12:32:37.855490446",
          "2024-08-20T12:32:37.923312902",
          "2024-08-20T12:32:37.984147787",
          "2024-08-20T12:32:38.045563459",
          "2024-08-20T12:32:38.111385584",
          "2024-08-20T12:32:38.179205894",
          "2024-08-20T12:32:38.238048077",
          "2024-08-20T12:32:38.304870605",
          "2024-08-20T12:32:38.370692492",
          "2024-08-20T12:32:38.430532455",
          "2024-08-20T12:32:38.496356726",
          "2024-08-20T12:32:38.569162130",
          "2024-08-20T12:32:38.633988142",
          "2024-08-20T12:32:38.691833019",
          "2024-08-20T12:32:38.750226259",
          "2024-08-20T12:32:38.815091372",
          "2024-08-20T12:32:38.885902166",
          "2024-08-20T12:32:38.943747044",
          "2024-08-20T12:32:39.007613659",
          "2024-08-20T12:32:39.073400497",
          "2024-08-20T12:32:39.143213987",
          "2024-08-20T12:32:39.201062202",
          "2024-08-20T12:32:39.264887571",
          "2024-08-20T12:32:39.331712246"
         ],
         "xaxis": "x2",
         "y": {
          "bdata": "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",
          "dtype": "f8"
         },
         "yaxis": "y2"
        },
        {
         "marker": {
          "color": "lightcoral"
         },
         "name": "Distribution",
         "nbinsx": 30,
         "opacity": 0.7,
         "type": "histogram",
         "x": {
          "bdata": "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",
          "dtype": "f8"
         },
         "xaxis": "x3",
         "yaxis": "y3"
        },
        {
         "line": {
          "color": "lightcoral",
          "width": 1
         },
         "mode": "lines",
         "name": "Raw",
         "opacity": 0.5,
         "type": "scatter",
         "x": {
          "bdata": "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",
          "dtype": "i2"
         },
         "xaxis": "x4",
         "y": {
          "bdata": "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",
          "dtype": "f8"
         },
         "yaxis": "y4"
        },
        {
         "line": {
          "color": "darkred",
          "width": 3
         },
         "mode": "lines",
         "name": "Smoothed (n=52)",
         "type": "scatter",
         "x": {
          "bdata": "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",
          "dtype": "i2"
         },
         "xaxis": "x4",
         "y": {
          "bdata": "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",
          "dtype": "f8"
         },
         "yaxis": "y4"
        }
       ],
       "layout": {
        "annotations": [
         {
          "font": {
           "size": 16
          },
          "showarrow": false,
          "text": "Distance vs Frame Index",
          "x": 0.225,
          "xanchor": "center",
          "xref": "paper",
          "y": 1,
          "yanchor": "bottom",
          "yref": "paper"
         },
         {
          "font": {
           "size": 16
          },
          "showarrow": false,
          "text": "Distance vs Time",
          "x": 0.775,
          "xanchor": "center",
          "xref": "paper",
          "y": 1,
          "yanchor": "bottom",
          "yref": "paper"
         },
         {
          "font": {
           "size": 16
          },
          "showarrow": false,
          "text": "Distance Distribution",
          "x": 0.225,
          "xanchor": "center",
          "xref": "paper",
          "y": 0.375,
          "yanchor": "bottom",
          "yref": "paper"
         },
         {
          "font": {
           "size": 16
          },
          "showarrow": false,
          "text": "Distance Trends",
          "x": 0.775,
          "xanchor": "center",
          "xref": "paper",
          "y": 0.375,
          "yanchor": "bottom",
          "yref": "paper"
         },
         {
          "showarrow": false,
          "text": "Mean: 2.01meters",
          "x": 2.013328216328865,
          "xanchor": "left",
          "xref": "x3",
          "y": 1,
          "yanchor": "top",
          "yref": "y3 domain"
         }
        ],
        "height": 800,
        "shapes": [
         {
          "line": {
           "color": "red",
           "dash": "dash"
          },
          "type": "line",
          "x0": 2.013328216328865,
          "x1": 2.013328216328865,
          "xref": "x3",
          "y0": 0,
          "y1": 1,
          "yref": "y3 domain"
         }
        ],
        "showlegend": true,
        "template": {
         "data": {
          "bar": [
           {
            "error_x": {
             "color": "#2a3f5f"
            },
            "error_y": {
             "color": "#2a3f5f"
            },
            "marker": {
             "line": {
              "color": "#E5ECF6",
              "width": 0.5
             },
             "pattern": {
              "fillmode": "overlay",
              "size": 10,
              "solidity": 0.2
             }
            },
            "type": "bar"
           }
          ],
          "barpolar": [
           {
            "marker": {
             "line": {
              "color": "#E5ECF6",
              "width": 0.5
             },
             "pattern": {
              "fillmode": "overlay",
              "size": 10,
              "solidity": 0.2
             }
            },
            "type": "barpolar"
           }
          ],
          "carpet": [
           {
            "aaxis": {
             "endlinecolor": "#2a3f5f",
             "gridcolor": "white",
             "linecolor": "white",
             "minorgridcolor": "white",
             "startlinecolor": "#2a3f5f"
            },
            "baxis": {
             "endlinecolor": "#2a3f5f",
             "gridcolor": "white",
             "linecolor": "white",
             "minorgridcolor": "white",
             "startlinecolor": "#2a3f5f"
            },
            "type": "carpet"
           }
          ],
          "choropleth": [
           {
            "colorbar": {
             "outlinewidth": 0,
             "ticks": ""
            },
            "type": "choropleth"
           }
          ],
          "contour": [
           {
            "colorbar": {
             "outlinewidth": 0,
             "ticks": ""
            },
            "colorscale": [
             [
              0,
              "#0d0887"
             ],
             [
              0.1111111111111111,
              "#46039f"
             ],
             [
              0.2222222222222222,
              "#7201a8"
             ],
             [
              0.3333333333333333,
              "#9c179e"
             ],
             [
              0.4444444444444444,
              "#bd3786"
             ],
             [
              0.5555555555555556,
              "#d8576b"
             ],
             [
              0.6666666666666666,
              "#ed7953"
             ],
             [
              0.7777777777777778,
              "#fb9f3a"
             ],
             [
              0.8888888888888888,
              "#fdca26"
             ],
             [
              1,
              "#f0f921"
             ]
            ],
            "type": "contour"
           }
          ],
          "contourcarpet": [
           {
            "colorbar": {
             "outlinewidth": 0,
             "ticks": ""
            },
            "type": "contourcarpet"
           }
          ],
          "heatmap": [
           {
            "colorbar": {
             "outlinewidth": 0,
             "ticks": ""
            },
            "colorscale": [
             [
              0,
              "#0d0887"
             ],
             [
              0.1111111111111111,
              "#46039f"
             ],
             [
              0.2222222222222222,
              "#7201a8"
             ],
             [
              0.3333333333333333,
              "#9c179e"
             ],
             [
              0.4444444444444444,
              "#bd3786"
             ],
             [
              0.5555555555555556,
              "#d8576b"
             ],
             [
              0.6666666666666666,
              "#ed7953"
             ],
             [
              0.7777777777777778,
              "#fb9f3a"
             ],
             [
              0.8888888888888888,
              "#fdca26"
             ],
             [
              1,
              "#f0f921"
             ]
            ],
            "type": "heatmap"
           }
          ],
          "histogram": [
           {
            "marker": {
             "pattern": {
              "fillmode": "overlay",
              "size": 10,
              "solidity": 0.2
             }
            },
            "type": "histogram"
           }
          ],
          "histogram2d": [
           {
            "colorbar": {
             "outlinewidth": 0,
             "ticks": ""
            },
            "colorscale": [
             [
              0,
              "#0d0887"
             ],
             [
              0.1111111111111111,
              "#46039f"
             ],
             [
              0.2222222222222222,
              "#7201a8"
             ],
             [
              0.3333333333333333,
              "#9c179e"
             ],
             [
              0.4444444444444444,
              "#bd3786"
             ],
             [
              0.5555555555555556,
              "#d8576b"
             ],
             [
              0.6666666666666666,
              "#ed7953"
             ],
             [
              0.7777777777777778,
              "#fb9f3a"
             ],
             [
              0.8888888888888888,
              "#fdca26"
             ],
             [
              1,
              "#f0f921"
             ]
            ],
            "type": "histogram2d"
           }
          ],
          "histogram2dcontour": [
           {
            "colorbar": {
             "outlinewidth": 0,
             "ticks": ""
            },
            "colorscale": [
             [
              0,
              "#0d0887"
             ],
             [
              0.1111111111111111,
              "#46039f"
             ],
             [
              0.2222222222222222,
              "#7201a8"
             ],
             [
              0.3333333333333333,
              "#9c179e"
             ],
             [
              0.4444444444444444,
              "#bd3786"
             ],
             [
              0.5555555555555556,
              "#d8576b"
             ],
             [
              0.6666666666666666,
              "#ed7953"
             ],
             [
              0.7777777777777778,
              "#fb9f3a"
             ],
             [
              0.8888888888888888,
              "#fdca26"
             ],
             [
              1,
              "#f0f921"
             ]
            ],
            "type": "histogram2dcontour"
           }
          ],
          "mesh3d": [
           {
            "colorbar": {
             "outlinewidth": 0,
             "ticks": ""
            },
            "type": "mesh3d"
           }
          ],
          "parcoords": [
           {
            "line": {
             "colorbar": {
              "outlinewidth": 0,
              "ticks": ""
             }
            },
            "type": "parcoords"
           }
          ],
          "pie": [
           {
            "automargin": true,
            "type": "pie"
           }
          ],
          "scatter": [
           {
            "fillpattern": {
             "fillmode": "overlay",
             "size": 10,
             "solidity": 0.2
            },
            "type": "scatter"
           }
          ],
          "scatter3d": [
           {
            "line": {
             "colorbar": {
              "outlinewidth": 0,
              "ticks": ""
             }
            },
            "marker": {
             "colorbar": {
              "outlinewidth": 0,
              "ticks": ""
             }
            },
            "type": "scatter3d"
           }
          ],
          "scattercarpet": [
           {
            "marker": {
             "colorbar": {
              "outlinewidth": 0,
              "ticks": ""
             }
            },
            "type": "scattercarpet"
           }
          ],
          "scattergeo": [
           {
            "marker": {
             "colorbar": {
              "outlinewidth": 0,
              "ticks": ""
             }
            },
            "type": "scattergeo"
           }
          ],
          "scattergl": [
           {
            "marker": {
             "colorbar": {
              "outlinewidth": 0,
              "ticks": ""
             }
            },
            "type": "scattergl"
           }
          ],
          "scattermap": [
           {
            "marker": {
             "colorbar": {
              "outlinewidth": 0,
              "ticks": ""
             }
            },
            "type": "scattermap"
           }
          ],
          "scattermapbox": [
           {
            "marker": {
             "colorbar": {
              "outlinewidth": 0,
              "ticks": ""
             }
            },
            "type": "scattermapbox"
           }
          ],
          "scatterpolar": [
           {
            "marker": {
             "colorbar": {
              "outlinewidth": 0,
              "ticks": ""
             }
            },
            "type": "scatterpolar"
           }
          ],
          "scatterpolargl": [
           {
            "marker": {
             "colorbar": {
              "outlinewidth": 0,
              "ticks": ""
             }
            },
            "type": "scatterpolargl"
           }
          ],
          "scatterternary": [
           {
            "marker": {
             "colorbar": {
              "outlinewidth": 0,
              "ticks": ""
             }
            },
            "type": "scatterternary"
           }
          ],
          "surface": [
           {
            "colorbar": {
             "outlinewidth": 0,
             "ticks": ""
            },
            "colorscale": [
             [
              0,
              "#0d0887"
             ],
             [
              0.1111111111111111,
              "#46039f"
             ],
             [
              0.2222222222222222,
              "#7201a8"
             ],
             [
              0.3333333333333333,
              "#9c179e"
             ],
             [
              0.4444444444444444,
              "#bd3786"
             ],
             [
              0.5555555555555556,
              "#d8576b"
             ],
             [
              0.6666666666666666,
              "#ed7953"
             ],
             [
              0.7777777777777778,
              "#fb9f3a"
             ],
             [
              0.8888888888888888,
              "#fdca26"
             ],
             [
              1,
              "#f0f921"
             ]
            ],
            "type": "surface"
           }
          ],
          "table": [
           {
            "cells": {
             "fill": {
              "color": "#EBF0F8"
             },
             "line": {
              "color": "white"
             }
            },
            "header": {
             "fill": {
              "color": "#C8D4E3"
             },
             "line": {
              "color": "white"
             }
            },
            "type": "table"
           }
          ]
         },
         "layout": {
          "annotationdefaults": {
           "arrowcolor": "#2a3f5f",
           "arrowhead": 0,
           "arrowwidth": 1
          },
          "autotypenumbers": "strict",
          "coloraxis": {
           "colorbar": {
            "outlinewidth": 0,
            "ticks": ""
           }
          },
          "colorscale": {
           "diverging": [
            [
             0,
             "#8e0152"
            ],
            [
             0.1,
             "#c51b7d"
            ],
            [
             0.2,
             "#de77ae"
            ],
            [
             0.3,
             "#f1b6da"
            ],
            [
             0.4,
             "#fde0ef"
            ],
            [
             0.5,
             "#f7f7f7"
            ],
            [
             0.6,
             "#e6f5d0"
            ],
            [
             0.7,
             "#b8e186"
            ],
            [
             0.8,
             "#7fbc41"
            ],
            [
             0.9,
             "#4d9221"
            ],
            [
             1,
             "#276419"
            ]
           ],
           "sequential": [
            [
             0,
             "#0d0887"
            ],
            [
             0.1111111111111111,
             "#46039f"
            ],
            [
             0.2222222222222222,
             "#7201a8"
            ],
            [
             0.3333333333333333,
             "#9c179e"
            ],
            [
             0.4444444444444444,
             "#bd3786"
            ],
            [
             0.5555555555555556,
             "#d8576b"
            ],
            [
             0.6666666666666666,
             "#ed7953"
            ],
            [
             0.7777777777777778,
             "#fb9f3a"
            ],
            [
             0.8888888888888888,
             "#fdca26"
            ],
            [
             1,
             "#f0f921"
            ]
           ],
           "sequentialminus": [
            [
             0,
             "#0d0887"
            ],
            [
             0.1111111111111111,
             "#46039f"
            ],
            [
             0.2222222222222222,
             "#7201a8"
            ],
            [
             0.3333333333333333,
             "#9c179e"
            ],
            [
             0.4444444444444444,
             "#bd3786"
            ],
            [
             0.5555555555555556,
             "#d8576b"
            ],
            [
             0.6666666666666666,
             "#ed7953"
            ],
            [
             0.7777777777777778,
             "#fb9f3a"
            ],
            [
             0.8888888888888888,
             "#fdca26"
            ],
            [
             1,
             "#f0f921"
            ]
           ]
          },
          "colorway": [
           "#636efa",
           "#EF553B",
           "#00cc96",
           "#ab63fa",
           "#FFA15A",
           "#19d3f3",
           "#FF6692",
           "#B6E880",
           "#FF97FF",
           "#FECB52"
          ],
          "font": {
           "color": "#2a3f5f"
          },
          "geo": {
           "bgcolor": "white",
           "lakecolor": "white",
           "landcolor": "#E5ECF6",
           "showlakes": true,
           "showland": true,
           "subunitcolor": "white"
          },
          "hoverlabel": {
           "align": "left"
          },
          "hovermode": "closest",
          "mapbox": {
           "style": "light"
          },
          "paper_bgcolor": "white",
          "plot_bgcolor": "#E5ECF6",
          "polar": {
           "angularaxis": {
            "gridcolor": "white",
            "linecolor": "white",
            "ticks": ""
           },
           "bgcolor": "#E5ECF6",
           "radialaxis": {
            "gridcolor": "white",
            "linecolor": "white",
            "ticks": ""
           }
          },
          "scene": {
           "xaxis": {
            "backgroundcolor": "#E5ECF6",
            "gridcolor": "white",
            "gridwidth": 2,
            "linecolor": "white",
            "showbackground": true,
            "ticks": "",
            "zerolinecolor": "white"
           },
           "yaxis": {
            "backgroundcolor": "#E5ECF6",
            "gridcolor": "white",
            "gridwidth": 2,
            "linecolor": "white",
            "showbackground": true,
            "ticks": "",
            "zerolinecolor": "white"
           },
           "zaxis": {
            "backgroundcolor": "#E5ECF6",
            "gridcolor": "white",
            "gridwidth": 2,
            "linecolor": "white",
            "showbackground": true,
            "ticks": "",
            "zerolinecolor": "white"
           }
          },
          "shapedefaults": {
           "line": {
            "color": "#2a3f5f"
           }
          },
          "ternary": {
           "aaxis": {
            "gridcolor": "white",
            "linecolor": "white",
            "ticks": ""
           },
           "baxis": {
            "gridcolor": "white",
            "linecolor": "white",
            "ticks": ""
           },
           "bgcolor": "#E5ECF6",
           "caxis": {
            "gridcolor": "white",
            "linecolor": "white",
            "ticks": ""
           }
          },
          "title": {
           "x": 0.05
          },
          "xaxis": {
           "automargin": true,
           "gridcolor": "white",
           "linecolor": "white",
           "ticks": "",
           "title": {
            "standoff": 15
           },
           "zerolinecolor": "white",
           "zerolinewidth": 2
          },
          "yaxis": {
           "automargin": true,
           "gridcolor": "white",
           "linecolor": "white",
           "ticks": "",
           "title": {
            "standoff": 15
           },
           "zerolinecolor": "white",
           "zerolinewidth": 2
          }
         }
        },
        "title": {
         "text": "Real-World Distance Analysis"
        },
        "xaxis": {
         "anchor": "y",
         "domain": [
          0,
          0.45
         ],
         "title": {
          "text": "Frame Index"
         }
        },
        "xaxis2": {
         "anchor": "y2",
         "domain": [
          0.55,
          1
         ],
         "title": {
          "text": "Time"
         }
        },
        "xaxis3": {
         "anchor": "y3",
         "domain": [
          0,
          0.45
         ],
         "title": {
          "text": "Distance (meters)"
         }
        },
        "xaxis4": {
         "anchor": "y4",
         "domain": [
          0.55,
          1
         ],
         "title": {
          "text": "Frame Index"
         }
        },
        "yaxis": {
         "anchor": "x",
         "domain": [
          0.625,
          1
         ],
         "title": {
          "text": "Distance (meters)"
         }
        },
        "yaxis2": {
         "anchor": "x2",
         "domain": [
          0.625,
          1
         ],
         "title": {
          "text": "Distance (meters)"
         }
        },
        "yaxis3": {
         "anchor": "x3",
         "domain": [
          0,
          0.375
         ],
         "title": {
          "text": "Frequency"
         }
        },
        "yaxis4": {
         "anchor": "x4",
         "domain": [
          0,
          0.375
         ],
         "title": {
          "text": "Distance (meters)"
         }
        }
       }
      }
     },
     "metadata": {},
     "output_type": "display_data"
    }
   ],
   "source": [
    "iau.VisualizationEngine.plot_distance_analysis(distance_results, \"Real-World Distance Analysis\")"
   ]
  },
  {
   "cell_type": "code",
   "execution_count": 16,
   "id": "c10a8be6",
   "metadata": {},
   "outputs": [
    {
     "name": "stdout",
     "output_type": "stream",
     "text": [
      " LOADING ALL DISTANCE DATA FOR BAG: 2024-08-20_14-31-29\n",
      "============================================================\n",
      "📡 1. Loading Navigation Data...\n",
      "    Loaded 559 navigation records\n",
      "📡 2. Loading Guidance Data...\n",
      "    Loaded 549 guidance records with ['error_net_distance', 'desired_net_distance', 'r_net_distance_d']\n",
      "📡 3. Loading DVL Altimeter...\n",
      "    DVL altimeter file not found\n",
      " 4. Loading USBL...\n",
      "    Loaded 33 USBL records\n",
      "📡 5. Loading DVL Position...\n",
      "    Loaded 283 DVL position records\n",
      " 6. Loading Navigation Position...\n",
      "    Loaded 278 navigation position records\n",
      "📡 7. Loading INS Z Position...\n",
      "    INS file not found\n",
      "\n",
      " LOADING SUMMARY:\n",
      "    Target bag: 2024-08-20_14-31-29\n",
      "    Raw data loaded: 2/2\n",
      "    Distance measurements: 4\n",
      "\n",
      " RAW DATA LOADED:\n",
      "    navigation: 559 records\n",
      "    guidance: 549 records\n",
      "\n",
      " DISTANCE MEASUREMENTS LOADED:\n",
      "    USBL_3D: 33 records - 3D acoustic position\n",
      "    USBL_Depth: 33 records - USBL depth measurement\n",
      "    DVL_Position: 283 records - 3D DVL position\n",
      "    Nav_Position: 278 records - 2D navigation position\n"
     ]
    }
   ],
   "source": [
    "# COMPARISON: SONAR vs DVL DISTANCE MEASUREMENTS\n",
    "# =================================================\n",
    "import utils.net_distance_analysis as sda\n",
    "\n",
    "# IMPORTANT: Pass the by_bag folder, not just the exports root\n",
    "# The function expects the folder containing the CSV files\n",
    "from utils.sonar_config import EXPORTS_SUBDIRS\n",
    "BY_BAG_FOLDER = EXPORTS_FOLDER / EXPORTS_SUBDIRS.get('by_bag', 'by_bag')\n",
    "\n",
    "# Load all distance data for the target bag\n",
    "raw_data, distance_measurements = sda.load_all_distance_data_for_bag(TARGET_BAG, BY_BAG_FOLDER)\n",
    "\n",
    "# Display what we loaded\n",
    "print(f\"\\n RAW DATA LOADED:\")\n",
    "for key, data in raw_data.items():\n",
    "    if data is not None:\n",
    "        print(f\"    {key}: {len(data)} records\")\n",
    "    else:\n",
    "        print(f\"    {key}: None\")\n",
    "\n",
    "print(f\"\\n DISTANCE MEASUREMENTS LOADED:\")\n",
    "for key, info in distance_measurements.items():\n",
    "    data_len = len(info['data'])\n",
    "    print(f\"    {key}: {data_len} records - {info['description']}\")"
   ]
  },
  {
   "cell_type": "code",
   "execution_count": 17,
   "id": "0375375e",
   "metadata": {},
   "outputs": [
    {
     "name": "stdout",
     "output_type": "stream",
     "text": [
      "\n",
      "SONAR vs DVL COMPARISON STATISTICS:\n",
      "==================================================\n",
      "Sonar mean distance: 2.013 m\n",
      "DVL mean distance:   1.968 m\n",
      "Scale ratio (Sonar/DVL): 1.023x\n",
      "Sonar duration: 67.1s (1059 frames)\n",
      "DVL duration:   67.0s (559 records)\n"
     ]
    },
    {
     "name": "stderr",
     "output_type": "stream",
     "text": [
      "/Users/eirikvarnes/code/SOLAQUA/utils/sonar_image_analysis.py:311: FutureWarning:\n",
      "\n",
      "Series.fillna with 'method' is deprecated and will raise in a future version. Use obj.ffill() or obj.bfill() instead.\n",
      "\n",
      "/Users/eirikvarnes/code/SOLAQUA/utils/sonar_image_analysis.py:318: FutureWarning:\n",
      "\n",
      "Series.fillna with 'method' is deprecated and will raise in a future version. Use obj.ffill() or obj.bfill() instead.\n",
      "\n"
     ]
    },
    {
     "data": {
      "application/vnd.plotly.v1+json": {
       "config": {
        "plotlyServerURL": "https://plot.ly"
       },
       "data": [
        {
         "line": {
          "color": "rgba(255,0,0,0.3)"
         },
         "mode": "lines",
         "name": "Sonar Raw",
         "type": "scatter",
         "x": {
          "bdata": "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",
          "dtype": "f8"
         },
         "xaxis": "x",
         "y": {
          "bdata": "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",
          "dtype": "f8"
         },
         "yaxis": "y"
        },
        {
         "line": {
          "color": "red",
          "width": 3
         },
         "mode": "lines",
         "name": "Sonar Smoothed",
         "type": "scatter",
         "x": {
          "bdata": "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",
          "dtype": "f8"
         },
         "xaxis": "x",
         "y": {
          "bdata": "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",
          "dtype": "f8"
         },
         "yaxis": "y"
        },
        {
         "line": {
          "color": "blue",
          "width": 3
         },
         "mode": "lines",
         "name": "DVL Distance",
         "type": "scatter",
         "x": {
          "bdata": "AAAAAAAAAAAGnygBGOzJP1oqHgA5zdg/FGlIACrR4j9WNfz/HJzoP1ToQgD+Ju8/x2n6f+S88j8WNxDAPWf1P8xYGwD9qPg/FD4KwAcL/D//VvR/9S3/PyN29F/qrgJAto0MYDQZBEA8TACguK8FQCcpBAA0BwdAhS/9XzasCED4sArg1UoKQMf8/9+owgtAWBn1X9NKDUAJDgfAercOQN9j+m9vJBBAKAYJ0D3bEEC6qQcgQ5wRQKyu/F+ZbBJAZwgEkJMrE0DfzQmQVwoUQFRS/B8tyhRA6v4FEKuWFUBsrAGgQ0AWQNqyB1APEBdAJTD+//16F0A6vQnAauUXQK2o+9+VaRhAiI/8f6TTGEApYQZgjEMZQAG8+5+goxlAM8oKsFUhGkDCGv/vnI4aQAee/I+s8RpA0X38T0VuG0B1mf8vVdEbQNPWB+AGTRxAmC8EQOKnHEBgCgJwWx0dQIaK+u+Ehh1AblwBsPr6HUCzQP1fXG0eQOslClD66h5AV8cI4BpRH0AGF/O/0c4fQEtU/beDGyBAhqb+1z9XIEAYn/+nrY8gQOvFBMBuxSBAZKn97+v0IEDXBP33cyYhQIsA/XeqYCFAuTgEcK6QIUD26/0vn9YhQGO/AxAyCiJAX4L/H7o7IkDZ8v/nhm0iQOsPBDC0piJAbAcC6CDmIkDNjgOY+hsjQPSsBIgLTiNAMYIA+CuEI0B+2/8/z7ojQBB5AMhf7iNALMcDSG8uJEA2KwNQimMkQP0i/ueEkiRAva//d5rGJEB0LQHIbgYlQAtHAqCZOiVApVr/PzJvJUDIfgRo1aUlQKh7AgB+3SVAEUb9P5gRJkCi6f5HLEYmQIVz/gcHhyZAiQsDQFy6JkAMA/4/Ov0mQKuXAHgbMidAPDH1N8RpJ0Cebf73kZ4nQFDbABhB2CdAFrADONSWKEC/Pf3XIdUoQAynBHiWDSlAe8X/j6ZAKUAn3wSQ7nwpQJ1FATh8rilAVpUBkKjkKUD+HAAgECgqQPlWAGAwXipAyz8CmJWRKkA/sv2Hm8MqQEXe/efsAitAPXkCqHw1K0C+ywCoxnMrQGetA0i2oCtAcj4FWJXiK0CrPAAwPhosQHbAA3CkUyxAFB0BkJ6CLEDaFP/fJ8AsQLQjAPja+SxASywA+G0tLUC2pQHIeF8tQHIu/f/DnC1AVmIBwG/PLUCyEgLY0REuQJGH/R/ZQi5Ah2wECD2ELkDuN/43O7QuQOFnA4DI5i5A3GMA4IwjL0AtLv1np1gvQEAMBVCyii9ADJH+V1DAL0ASlQH4i/svQGalAlTcGDBAgrIA2MY4MEAY+v/vilEwQGcD/0dlazBAG7j+u5CLMECGbQBAkqUwQBqnAJyHwDBAFNn/503ZMEBPFwHMt/IwQFRd/y9QDzFASBYASEUvMUB0H/9TkUkxQBRnAADkZDFAPL7/h6J8MUDpkAHEUJ0xQKsoAPRrujFAkUUCXHzVMUA3qwH0wu4xQFTDAohQCTJAh+cAHFYiMkAfEgAUCkIyQPXDAHAJWjJAopYCrLd6MkA1XAD0XZMyQKJPAqCsrTJAY4f+98rHMkC0fgBAOOgyQLun/oPAATNA0WD/50MiM0A8rf6vijszQC7K//OaVjNAnqgCdDNzM0CbmACMf40zQGHA/0eHpjNAd3/+c3/JM0AJj/7jeeAzQLdv/9t2AzRAh9b/Qz4YNECWPgLsFDo0QBTTASDZUjRA6vkAyHxrNEC10ACkV4Q0QHGoAJQWpTRAqj//k3jDNEC/AQDcuds0QOAs/wMn+jRA/8kAzAwUNUCphgJYEi01QMK8/0MFTjVA0eAARItnNUDEvgJw6oo1QLa2AqAQnjVAodgAKKO+NUAqbf83Z9c1QDZCAvCW8TVARVUCGIVXNkDrvQAUhm82QB0EAVi7kDZA2FsCpEGqNkBadf9Tz8Q2QMSZAVyA3TZAHWD6H1/7NkBGHAHIyBo3QMM2ACBJMzdA/gICHElLN0BKZQFIKms3QKeE/ysthDdAYAoCcNukN0BsUQFY5r43QAmP/uN54DdAgCcC3Hn4N0AKvADsPRE4QKW1/4ePLDhAK1n/+5RFOEBezwCsSGc4QDmzAuichDhAocr+s0WYOEBebgKcdrk4QPUQ/0OJ1DhAUB8CwJHuOECM5v5z4wk5QC2u/sPuIzlAaA7/n/k9OUAqbf83Z1g5QI6y/7NGczlALZr+h5yTOUD3rP4X7q45QIqcArysxjlAKV8AfJjmOUAOCADQWf45QA9d/5ezGzpAiJECZJg6OkBtzgCY5FQ6QHbM//+NbjpA+fgAtJiIOkAsvAA4TKo6QKes/6NRwzpAnxcAQFTbOkDlRALgNPg6QJ5hAmioGTtA9EYBMAsyO0Bv3/63bUo7QGAhARDobDtA/+D/a5mGO0CRhP67np87QPtQ/9+svztA7NkBRLLYO0CaaP8fgfM7QL9CAiBQDjxASTIBePEoPECbr/8rjEU8QBkZAITxZDxAvI0AgHl+PEAbJ/8/wJc8QLCT/2tuuDxA/vf+C6bQPEBRDgHo+es8QLkf/+stBj1A0eAARIsnPUDgh/9LhEE9QEXv/r+EXz1ACrwA7D12PUCkjQLIeY09QFsAAQgrrT1AE1//CwrLPUCpPwJMh+I9QJJt/xuS/D1ATEgBKBoWPkCDigBgoi8+QIpEAdgJTz5A4UgANNNoPkD77wDQWok+QHyd/xcCoj5A80H/n2vBPkDIngA0Ed0+QK8F/1PY9j5AheL+izYVP0DouAE89Sw/QCrf/h/RST9AwgMAUBBiP0D3qf+zs4A/QFcE/1vJnD9AV8gBYOG4P0C3EQAw39A/QDNzAkx57D9AukIB1ogEQECK6QCQrDZAQGqx/y3NQkBAWvUAsJZQQEBGAQDSB2BAQH42AIjsbEBAAj4AKA15QEAJ+ACgdIZAQLG8/x0+lEBA1moAUDSkQEC/9ABalrBAQLFh/9UgvkBAdVL/IwrOQEAbIQF4S9pAQIb7AFgo6EBAI3oAKNL1QEDfHgBImAVBQML5/zFnFEFA/McAWDYjQUDOHgAiES5BQIPlAKj/PEFAxD4BFKNJQUDRwgDqD1hBQBYNAPJxZEFAUVUB9AR0QUCtX/9hCoFBQLS0/3NrkEFAon4AGrGdQUB01f/jS6xBQMINAG55uUFACYz/f7/FQUBAR/9Z4NZBQEFtAKi14UFAptsA1mTxQUCjdAD8x/1BQPXQ//HsCkJAkxcBZFQYQkB/SAGabylCQDtIAQITNkJAqFYB7NNDQkD49wB6bVRCQFXoAOTrX0JAJgwA3k1sQkAGGAAkP3pCQHpSAG5RiUJAexYAutqWQkBStADah6VCQAR1/5WrskJAXi0AWGDCQkBRBAHKUM9CQMfGAKx13EJAlFD/+4HpQkAFwwBcJfZCQMBW/6PTBENAneP/NTAWQ0DYKwE4wx9DQJ+8//d2L0NAzhQABGg9Q0BsWwF2z0pDQJFLACTxWUNA07z/aQxlQ0AH9wBmSXFDQLFUAFQ9gUNAoDYA1HqOQ0ATVf/toJtDQJJTARiLqUNAwCcBKk+2Q0BwQgD0ZMZDQFtbAVAI00NAaZkAVJXgQ0DgRAGW7fBDQDQzAEIO/UNA5UP/7ToLREA9xgB8vBdEQKZv/7XvI0RAbcQAensyREBPWv+BjkJEQLZrAD4RT0RAaHAAooVcREAAwACuY21EQBskANzFeURAWsb/fUOIREB8AgB+CJVEQHCJAABwokRAs4v/wZuwRECF6f9FZb5EQGM3AcCQzERA0ScBUJbZRECfKwB8puhEQKOxAOop9kRAjZoA2g4GRUDCHgFGURNFQCjv/739QUVA4+7/JaFORUDWvv/doltFQEc0AKIAbUVAWKb/r/F5RUApugDEtYZFQDOv/0fhlUVAN8IAlI+kRUD60/+fLrBFQMT3AAgYwUVA8h8AqIrNRUC6j/+pyN5FQLpFADqD6UVAv5j9H//6RUBT6v8NOwZGQDYxARj/EkZAmN0AJPQiRkAHCwGiWzBGQIIT/+fYO0ZAYGT/xb5IRkD/j/9BJVlGQFIcAKTIZUZAZdMAlDV0RkBoegDA7oRGQKVXANx3kkZAGYgACGGgRkCrLwGuGq1GQGaG/wfnukZAi0v/2WnHRkDLOwBCYdhGQGgzALSj5EZAUI3/UYfxRkDysP8jm/9GQLuk/x8GDEdAfuX/XXgbR0AIagCInihHQAUAAUpHNkdABQABSkdCR0AyUABinlJHQFwzAdijX0dArEQBJBhvR0BXcAB8/ntHQKoGAfyKikdAHnr/3YqWR0Cfif8nvqZHQKz2/12etEdA9Lv/ey/ER0AxJAFMFNFHQKTJ/8Oh30dAArcAymXsR0D6kwBOkvxHQI4hADi2CEhALsr/85oVSECXo/+ZjCVIQItf/xV8NEhAdOYAvCNCSEABHwCUpk5IQGSZ/wkOXEhABaUAAupqSECW8/+JFXlIQBo1AbSdhkhALVD/F1eUSED/eACimKNIQPIBAE7PsEhAXQQAphC9SEBQvQC+Bc1IQNjF/d8C20hAvez/ZTzqSEBbFAFEffRIQKxbAMTkAUlAM8AAILkRSUDiOwGy7xtJQJqDABZCK0lAlFQBUjY7SUCAkgAK9UZJQIirAGifVElAKR8BKrxjSUAH9wBmCXNJQAJIAEZ2gUlAt+j/fc+LSUDOw//ZM51JQASkAMg+q0lAIZr/q9y2SUBSBQEEfMRJQPxb/zdB0UlAQ///XfHfSUCPTf9NwO5JQBDr/69J/ElA9Fb/FWkISkAUFgDWrxVKQPT/ACTASEpAe+AAhidiSkD3FQHUaHpKQJjq/6VXk0pAg1cAkKmfSkDgjgAGc61KQJN4/3PmvEpAVgoA3EzKSkB3TQGWANpKQPV//8d450pASAwAKhz0SkANbQA24ABLQA5FAL77DktAOa8AkmgdS0DctAAKAS5LQLhBAZxdOUtAiPwAklNIS0CgTf9zB1VLQN5T/0GgYktA85kAhE5xS0AIKgE2AoFLQDZIALjLjktAVx8AUoqaS0Cmef/TGKlLQPpu/zkouEtAARUAdv3HS0BXxP8J7dBLQAokALY+4EtAq0MB6qzuS0AM/f93hf9LQPdpAGJXCUxAPPH/VxsWTECUPP+/7yVMQCgpAUhlNUxA6W7/E6FATEDGPwFODk9MQGyvAAS+XUxAAjQACuRqTECygP9ph3dMQFJjALDThUxAyV8BHGCVTEBNvv+tKaNMQIDPAPgWsUxAgYz/ibG9TEDmx//n581MQHyGAHh13ExA+cUA5F/nTEDhmQBex/RMQO0SANxfBU1AGlMBDhkQTUCITQG8hyBNQIzCAFKzLk1AphEACpg7TUBoFQBaqEpNQPuyAOK4Vk1AiXL/F6NkTUDyZgC0lXRNQOj4AI7Rf01AjWD/T+ePTUCUQwB6nppNQCtgALaDqk1AW1EBMp+4TUAx6v/BLMdNQEgMACqc0U1AU0wBEIffTUDzOwHYNu5NQEuv/f8g/E1AK0//3SsKTkAiZQCy1BdOQOWA/9tcJU5ApNP/4cozTkAJ3f+p80BOQKBHAawSTk5AbyAB/ENdTkCFR//x/GlOQE+1/8mreE5A7JUAnKGHTkCVrP99SpVOQCFGAB7upE5AgM8A+JayTkBbFwCot75OQPSuAPqLzk5AAKwAcpHbTkCLtwD6HupOQEKMADyc9U5AWDQAyMcDT0CKff9vtxJPQKrC/1N6Kk9ACvkA2t9DT0BPVwAeFJBPQCevAGzhqE9AS9v/zbnCT0AibwDQfdtPQE54/9uJ8k9AVYMAfmUGUEDwiABjOhNQQPAjAP3THlBAPvf/IBssUED4+v/dZzdQQC+QAGu+RFBAAt7/UPtPUEBD6/8hn1xQQBik/zYiaVBAFF0A4hp1UECwdwA9jYFQQHry/5b/jVBAxqwAp8OaUECipP9me6ZQQI68/9FPs1BA8GAA63XAUEA=",
          "dtype": "f8"
         },
         "xaxis": "x",
         "y": {
          "bdata": "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",
          "dtype": "f8"
         },
         "yaxis": "y"
        }
       ],
       "layout": {
        "height": 600,
        "hovermode": "x unified",
        "template": {
         "data": {
          "bar": [
           {
            "error_x": {
             "color": "#2a3f5f"
            },
            "error_y": {
             "color": "#2a3f5f"
            },
            "marker": {
             "line": {
              "color": "#E5ECF6",
              "width": 0.5
             },
             "pattern": {
              "fillmode": "overlay",
              "size": 10,
              "solidity": 0.2
             }
            },
            "type": "bar"
           }
          ],
          "barpolar": [
           {
            "marker": {
             "line": {
              "color": "#E5ECF6",
              "width": 0.5
             },
             "pattern": {
              "fillmode": "overlay",
              "size": 10,
              "solidity": 0.2
             }
            },
            "type": "barpolar"
           }
          ],
          "carpet": [
           {
            "aaxis": {
             "endlinecolor": "#2a3f5f",
             "gridcolor": "white",
             "linecolor": "white",
             "minorgridcolor": "white",
             "startlinecolor": "#2a3f5f"
            },
            "baxis": {
             "endlinecolor": "#2a3f5f",
             "gridcolor": "white",
             "linecolor": "white",
             "minorgridcolor": "white",
             "startlinecolor": "#2a3f5f"
            },
            "type": "carpet"
           }
          ],
          "choropleth": [
           {
            "colorbar": {
             "outlinewidth": 0,
             "ticks": ""
            },
            "type": "choropleth"
           }
          ],
          "contour": [
           {
            "colorbar": {
             "outlinewidth": 0,
             "ticks": ""
            },
            "colorscale": [
             [
              0,
              "#0d0887"
             ],
             [
              0.1111111111111111,
              "#46039f"
             ],
             [
              0.2222222222222222,
              "#7201a8"
             ],
             [
              0.3333333333333333,
              "#9c179e"
             ],
             [
              0.4444444444444444,
              "#bd3786"
             ],
             [
              0.5555555555555556,
              "#d8576b"
             ],
             [
              0.6666666666666666,
              "#ed7953"
             ],
             [
              0.7777777777777778,
              "#fb9f3a"
             ],
             [
              0.8888888888888888,
              "#fdca26"
             ],
             [
              1,
              "#f0f921"
             ]
            ],
            "type": "contour"
           }
          ],
          "contourcarpet": [
           {
            "colorbar": {
             "outlinewidth": 0,
             "ticks": ""
            },
            "type": "contourcarpet"
           }
          ],
          "heatmap": [
           {
            "colorbar": {
             "outlinewidth": 0,
             "ticks": ""
            },
            "colorscale": [
             [
              0,
              "#0d0887"
             ],
             [
              0.1111111111111111,
              "#46039f"
             ],
             [
              0.2222222222222222,
              "#7201a8"
             ],
             [
              0.3333333333333333,
              "#9c179e"
             ],
             [
              0.4444444444444444,
              "#bd3786"
             ],
             [
              0.5555555555555556,
              "#d8576b"
             ],
             [
              0.6666666666666666,
              "#ed7953"
             ],
             [
              0.7777777777777778,
              "#fb9f3a"
             ],
             [
              0.8888888888888888,
              "#fdca26"
             ],
             [
              1,
              "#f0f921"
             ]
            ],
            "type": "heatmap"
           }
          ],
          "histogram": [
           {
            "marker": {
             "pattern": {
              "fillmode": "overlay",
              "size": 10,
              "solidity": 0.2
             }
            },
            "type": "histogram"
           }
          ],
          "histogram2d": [
           {
            "colorbar": {
             "outlinewidth": 0,
             "ticks": ""
            },
            "colorscale": [
             [
              0,
              "#0d0887"
             ],
             [
              0.1111111111111111,
              "#46039f"
             ],
             [
              0.2222222222222222,
              "#7201a8"
             ],
             [
              0.3333333333333333,
              "#9c179e"
             ],
             [
              0.4444444444444444,
              "#bd3786"
             ],
             [
              0.5555555555555556,
              "#d8576b"
             ],
             [
              0.6666666666666666,
              "#ed7953"
             ],
             [
              0.7777777777777778,
              "#fb9f3a"
             ],
             [
              0.8888888888888888,
              "#fdca26"
             ],
             [
              1,
              "#f0f921"
             ]
            ],
            "type": "histogram2d"
           }
          ],
          "histogram2dcontour": [
           {
            "colorbar": {
             "outlinewidth": 0,
             "ticks": ""
            },
            "colorscale": [
             [
              0,
              "#0d0887"
             ],
             [
              0.1111111111111111,
              "#46039f"
             ],
             [
              0.2222222222222222,
              "#7201a8"
             ],
             [
              0.3333333333333333,
              "#9c179e"
             ],
             [
              0.4444444444444444,
              "#bd3786"
             ],
             [
              0.5555555555555556,
              "#d8576b"
             ],
             [
              0.6666666666666666,
              "#ed7953"
             ],
             [
              0.7777777777777778,
              "#fb9f3a"
             ],
             [
              0.8888888888888888,
              "#fdca26"
             ],
             [
              1,
              "#f0f921"
             ]
            ],
            "type": "histogram2dcontour"
           }
          ],
          "mesh3d": [
           {
            "colorbar": {
             "outlinewidth": 0,
             "ticks": ""
            },
            "type": "mesh3d"
           }
          ],
          "parcoords": [
           {
            "line": {
             "colorbar": {
              "outlinewidth": 0,
              "ticks": ""
             }
            },
            "type": "parcoords"
           }
          ],
          "pie": [
           {
            "automargin": true,
            "type": "pie"
           }
          ],
          "scatter": [
           {
            "fillpattern": {
             "fillmode": "overlay",
             "size": 10,
             "solidity": 0.2
            },
            "type": "scatter"
           }
          ],
          "scatter3d": [
           {
            "line": {
             "colorbar": {
              "outlinewidth": 0,
              "ticks": ""
             }
            },
            "marker": {
             "colorbar": {
              "outlinewidth": 0,
              "ticks": ""
             }
            },
            "type": "scatter3d"
           }
          ],
          "scattercarpet": [
           {
            "marker": {
             "colorbar": {
              "outlinewidth": 0,
              "ticks": ""
             }
            },
            "type": "scattercarpet"
           }
          ],
          "scattergeo": [
           {
            "marker": {
             "colorbar": {
              "outlinewidth": 0,
              "ticks": ""
             }
            },
            "type": "scattergeo"
           }
          ],
          "scattergl": [
           {
            "marker": {
             "colorbar": {
              "outlinewidth": 0,
              "ticks": ""
             }
            },
            "type": "scattergl"
           }
          ],
          "scattermap": [
           {
            "marker": {
             "colorbar": {
              "outlinewidth": 0,
              "ticks": ""
             }
            },
            "type": "scattermap"
           }
          ],
          "scattermapbox": [
           {
            "marker": {
             "colorbar": {
              "outlinewidth": 0,
              "ticks": ""
             }
            },
            "type": "scattermapbox"
           }
          ],
          "scatterpolar": [
           {
            "marker": {
             "colorbar": {
              "outlinewidth": 0,
              "ticks": ""
             }
            },
            "type": "scatterpolar"
           }
          ],
          "scatterpolargl": [
           {
            "marker": {
             "colorbar": {
              "outlinewidth": 0,
              "ticks": ""
             }
            },
            "type": "scatterpolargl"
           }
          ],
          "scatterternary": [
           {
            "marker": {
             "colorbar": {
              "outlinewidth": 0,
              "ticks": ""
             }
            },
            "type": "scatterternary"
           }
          ],
          "surface": [
           {
            "colorbar": {
             "outlinewidth": 0,
             "ticks": ""
            },
            "colorscale": [
             [
              0,
              "#0d0887"
             ],
             [
              0.1111111111111111,
              "#46039f"
             ],
             [
              0.2222222222222222,
              "#7201a8"
             ],
             [
              0.3333333333333333,
              "#9c179e"
             ],
             [
              0.4444444444444444,
              "#bd3786"
             ],
             [
              0.5555555555555556,
              "#d8576b"
             ],
             [
              0.6666666666666666,
              "#ed7953"
             ],
             [
              0.7777777777777778,
              "#fb9f3a"
             ],
             [
              0.8888888888888888,
              "#fdca26"
             ],
             [
              1,
              "#f0f921"
             ]
            ],
            "type": "surface"
           }
          ],
          "table": [
           {
            "cells": {
             "fill": {
              "color": "#EBF0F8"
             },
             "line": {
              "color": "white"
             }
            },
            "header": {
             "fill": {
              "color": "#C8D4E3"
             },
             "line": {
              "color": "white"
             }
            },
            "type": "table"
           }
          ]
         },
         "layout": {
          "annotationdefaults": {
           "arrowcolor": "#2a3f5f",
           "arrowhead": 0,
           "arrowwidth": 1
          },
          "autotypenumbers": "strict",
          "coloraxis": {
           "colorbar": {
            "outlinewidth": 0,
            "ticks": ""
           }
          },
          "colorscale": {
           "diverging": [
            [
             0,
             "#8e0152"
            ],
            [
             0.1,
             "#c51b7d"
            ],
            [
             0.2,
             "#de77ae"
            ],
            [
             0.3,
             "#f1b6da"
            ],
            [
             0.4,
             "#fde0ef"
            ],
            [
             0.5,
             "#f7f7f7"
            ],
            [
             0.6,
             "#e6f5d0"
            ],
            [
             0.7,
             "#b8e186"
            ],
            [
             0.8,
             "#7fbc41"
            ],
            [
             0.9,
             "#4d9221"
            ],
            [
             1,
             "#276419"
            ]
           ],
           "sequential": [
            [
             0,
             "#0d0887"
            ],
            [
             0.1111111111111111,
             "#46039f"
            ],
            [
             0.2222222222222222,
             "#7201a8"
            ],
            [
             0.3333333333333333,
             "#9c179e"
            ],
            [
             0.4444444444444444,
             "#bd3786"
            ],
            [
             0.5555555555555556,
             "#d8576b"
            ],
            [
             0.6666666666666666,
             "#ed7953"
            ],
            [
             0.7777777777777778,
             "#fb9f3a"
            ],
            [
             0.8888888888888888,
             "#fdca26"
            ],
            [
             1,
             "#f0f921"
            ]
           ],
           "sequentialminus": [
            [
             0,
             "#0d0887"
            ],
            [
             0.1111111111111111,
             "#46039f"
            ],
            [
             0.2222222222222222,
             "#7201a8"
            ],
            [
             0.3333333333333333,
             "#9c179e"
            ],
            [
             0.4444444444444444,
             "#bd3786"
            ],
            [
             0.5555555555555556,
             "#d8576b"
            ],
            [
             0.6666666666666666,
             "#ed7953"
            ],
            [
             0.7777777777777778,
             "#fb9f3a"
            ],
            [
             0.8888888888888888,
             "#fdca26"
            ],
            [
             1,
             "#f0f921"
            ]
           ]
          },
          "colorway": [
           "#636efa",
           "#EF553B",
           "#00cc96",
           "#ab63fa",
           "#FFA15A",
           "#19d3f3",
           "#FF6692",
           "#B6E880",
           "#FF97FF",
           "#FECB52"
          ],
          "font": {
           "color": "#2a3f5f"
          },
          "geo": {
           "bgcolor": "white",
           "lakecolor": "white",
           "landcolor": "#E5ECF6",
           "showlakes": true,
           "showland": true,
           "subunitcolor": "white"
          },
          "hoverlabel": {
           "align": "left"
          },
          "hovermode": "closest",
          "mapbox": {
           "style": "light"
          },
          "paper_bgcolor": "white",
          "plot_bgcolor": "#E5ECF6",
          "polar": {
           "angularaxis": {
            "gridcolor": "white",
            "linecolor": "white",
            "ticks": ""
           },
           "bgcolor": "#E5ECF6",
           "radialaxis": {
            "gridcolor": "white",
            "linecolor": "white",
            "ticks": ""
           }
          },
          "scene": {
           "xaxis": {
            "backgroundcolor": "#E5ECF6",
            "gridcolor": "white",
            "gridwidth": 2,
            "linecolor": "white",
            "showbackground": true,
            "ticks": "",
            "zerolinecolor": "white"
           },
           "yaxis": {
            "backgroundcolor": "#E5ECF6",
            "gridcolor": "white",
            "gridwidth": 2,
            "linecolor": "white",
            "showbackground": true,
            "ticks": "",
            "zerolinecolor": "white"
           },
           "zaxis": {
            "backgroundcolor": "#E5ECF6",
            "gridcolor": "white",
            "gridwidth": 2,
            "linecolor": "white",
            "showbackground": true,
            "ticks": "",
            "zerolinecolor": "white"
           }
          },
          "shapedefaults": {
           "line": {
            "color": "#2a3f5f"
           }
          },
          "ternary": {
           "aaxis": {
            "gridcolor": "white",
            "linecolor": "white",
            "ticks": ""
           },
           "baxis": {
            "gridcolor": "white",
            "linecolor": "white",
            "ticks": ""
           },
           "bgcolor": "#E5ECF6",
           "caxis": {
            "gridcolor": "white",
            "linecolor": "white",
            "ticks": ""
           }
          },
          "title": {
           "x": 0.05
          },
          "xaxis": {
           "automargin": true,
           "gridcolor": "white",
           "linecolor": "white",
           "ticks": "",
           "title": {
            "standoff": 15
           },
           "zerolinecolor": "white",
           "zerolinewidth": 2
          },
          "yaxis": {
           "automargin": true,
           "gridcolor": "white",
           "linecolor": "white",
           "ticks": "",
           "title": {
            "standoff": 15
           },
           "zerolinecolor": "white",
           "zerolinewidth": 2
          }
         }
        },
        "title": {
         "text": "Interactive Distance Comparison: Sonar vs DVL"
        },
        "xaxis": {
         "anchor": "y",
         "domain": [
          0,
          1
         ],
         "showgrid": true,
         "title": {
          "text": "Time (seconds)"
         }
        },
        "yaxis": {
         "anchor": "x",
         "domain": [
          0,
          1
         ],
         "showgrid": true,
         "title": {
          "text": "Distance (meters)"
         }
        }
       }
      }
     },
     "metadata": {},
     "output_type": "display_data"
    }
   ],
   "source": [
    "fig, comparison_stats = iau.ComparisonEngine.compare_sonar_vs_dvl(distance_results, raw_data, sonar_coverage_m=sonar_coverage_meters, sonar_image_size=image_shape[0], use_plotly=True)\n",
    "fig.show()"
   ]
  },
  {
   "cell_type": "code",
   "execution_count": null,
   "id": "50f97352",
   "metadata": {},
   "outputs": [
    {
     "name": "stdout",
     "output_type": "stream",
     "text": [
      "GENERATING VIDEO WITH DUAL NET DISTANCE OVERLAYS\n",
      "============================================================\n",
      " Target Bag: 2024-08-20_14-31-29\n",
      " DVL Data: 559 records\n",
      " Sonar Analysis: 1059 frames\n",
      " Auto-detect video: enabled (PNG frames + index.csv)\n",
      "⏱  Sync tolerance: 1.0s\n",
      "OPTIMIZED SONAR VIDEO\n",
      "======================================================================\n",
      "Target Bag: 2024-08-20_14-31-29\n",
      "   Cone Size: 900x700\n",
      "   Range: 0.0-5.0m | FOV: 120.0°\n",
      "Auto-detecting video files for bag: 2024-08-20_14-31-29\n",
      "Found video frames: 2024-08-20_14-31-29_video__image_compressed_image_data_frames\n",
      "Using frames directory: /Volumes/LaCie/SOLAQUA/exports/frames/2024-08-20_14-31-29_video__image_compressed_image_data_frames\n",
      "Camera: enabled\n",
      "Net-line: enabled (dist tol=0.5s, pitch tol=2.0s)\n",
      "Sonar Analysis: enabled\n",
      "   Loading sonar data: sensor_sonoptix_echo_image__2024-08-20_14-31-29_video.csv\n"
     ]
    }
   ],
   "source": [
    "# Generate Video with Both DVL and Sonar Analysis Overlays (Improved Sync)\n",
    "# ==========================================================================\n",
    "import utils.sonar_and_foto_generation as sg\n",
    "\n",
    "# Enable automatic video detection with improved synchronization\n",
    "from utils.sonar_config import VIDEO_CONFIG\n",
    "VIDEO_CONFIG['enable_video_overlay'] = True  \n",
    "VIDEO_CONFIG['max_sync_tolerance_seconds'] = 1.0  # Tighter sync tolerance\n",
    "\n",
    "print(\"GENERATING VIDEO WITH DUAL NET DISTANCE OVERLAYS\")\n",
    "print(\"=\" * 60)\n",
    "print(f\" Target Bag: {TARGET_BAG}\")\n",
    "print(f\" DVL Data: {len(raw_data.get('navigation', []))} records\")\n",
    "print(f\" Sonar Analysis: {len(distance_results)} frames\")\n",
    "print(f\" Auto-detect video: enabled (PNG frames + index.csv)\")\n",
    "print(f\"⏱  Sync tolerance: {VIDEO_CONFIG['max_sync_tolerance_seconds']}s\")\n",
    "\n",
    "# Generate the video with both overlays and improved sync\n",
    "try:\n",
    "    video_path = sg.export_optimized_sonar_video(\n",
    "        TARGET_BAG=TARGET_BAG,\n",
    "        EXPORTS_FOLDER=EXPORTS_FOLDER,\n",
    "        START_IDX=1,\n",
    "        END_IDX=1200,  \n",
    "        STRIDE=1,    \n",
    "        AUTO_DETECT_VIDEO=True,       # Enable automatic video file detection\n",
    "        INCLUDE_NET=True,             # Enable DVL net distance overlay\n",
    "        SONAR_DISTANCE_RESULTS=distance_results,  # Enable sonar analysis overlay\n",
    "        NET_DISTANCE_TOLERANCE=0.5,\n",
    "        NET_PITCH_TOLERANCE=2.0,      # Increased from 0.3 to 2.0 seconds for better pitch sync\n",
    "    )\n",
    "\n",
    "    print(f\"\\n Video generated successfully!\")\n",
    "    print(f\" Output: {video_path}\")\n",
    "    print(f\"\\n Check the video output:\")\n",
    "    print(f\"   - Camera frames should sync properly with sonar\")\n",
    "    print(f\"   - When camera data ends, video should switch to sonar-only\")\n",
    "    print(f\"   - No frozen camera frames should appear\")\n",
    "    \n",
    "except Exception as e:\n",
    "    print(f\"Error generating video: {e}\")\n",
    "    import traceback\n",
    "    traceback.print_exc()\n",
    "    print(\"\\n Troubleshooting:\")\n",
    "    print(\"  1. Run the video detection cell above to verify files exist\")\n",
    "    print(\"  2. Check that PNG frames directory has index.csv file\")\n",
    "    print(\"  3. Try disabling video overlay: VIDEO_CONFIG['enable_video_overlay'] = False\")\n",
    "    print(\"  4. Check exports directory structure\")"
   ]
  },
  {
   "cell_type": "code",
   "execution_count": null,
   "id": "a0dffba5",
   "metadata": {},
   "outputs": [],
   "source": []
  }
 ],
 "metadata": {
  "kernelspec": {
   "display_name": "venv",
   "language": "python",
   "name": "python3"
  },
  "language_info": {
   "codemirror_mode": {
    "name": "ipython",
    "version": 3
   },
   "file_extension": ".py",
   "mimetype": "text/x-python",
   "name": "python",
   "nbconvert_exporter": "python",
   "pygments_lexer": "ipython3",
   "version": "3.13.5"
  }
 },
 "nbformat": 4,
 "nbformat_minor": 5
}
