{
 "cells": [
  {
   "cell_type": "code",
   "execution_count": 2,
   "id": "7a8d02c0",
   "metadata": {},
   "outputs": [],
   "source": [
    "# Centralized sonar defaults (inserted by sweep)\n",
    "from utils.sonar_config import SONAR_VIS_DEFAULTS\n",
    "sonar_config = SONAR_VIS_DEFAULTS.copy()\n",
    "# Backwards-compatible variable names used in older notebooks\n",
    "RANGE_MIN_M = sonar_config['range_min_m']\n",
    "RANGE_MAX_M = sonar_config['range_max_m']\n",
    "DISPLAY_RANGE_MAX_M = sonar_config['display_range_max_m']"
   ]
  },
  {
   "cell_type": "markdown",
   "id": "9220eb1d",
   "metadata": {},
   "source": [
    "# Simple Image Analysis with CV2\n",
    "\n",
    "This notebook demonstrates:\n",
    "1. **Pick a frame** from NPZ files and save it locally\n",
    "2. **Use standard cv2 functions** directly for image processing\n",
    "3. **Experiment** with different OpenCV operations"
   ]
  },
  {
   "cell_type": "code",
   "execution_count": 3,
   "id": "4b3e8f46",
   "metadata": {},
   "outputs": [
    {
     "name": "stdout",
     "output_type": "stream",
     "text": [
      "Using DATA_DIR = /Volumes/LaCie/SOLAQUA/raw_data\n",
      "Selected NPZ file: 2024-08-22_14-47-39_data_cones.npz (index=11)\n"
     ]
    }
   ],
   "source": [
    "from pathlib import Path\n",
    "import utils.sonar_image_analysis as iau\n",
    "\n",
    "\n",
    "# Prefer selecting by bag ID (part of the NPZ filename) instead of a numeric index.\n",
    "# Set TARGET_BAG to a substring that appears in the NPZ filename (e.g. '2024-08-22_14-29-05')\n",
    "TARGET_BAG = '2024-08-22_14-47-39'  # change this to your desired bag ID\n",
    "from utils.sonar_config import EXPORTS_DIR_DEFAULT, EXPORTS_SUBDIRS\n",
    "EXPORTS_FOLDER = Path(EXPORTS_DIR_DEFAULT)\n",
    "\n",
    "# If you keep your raw .bag files or raw data on an external drive, point DATA_DIR there.\n",
    "# Example (your external disk): /Volumes/LaCie/SOLAQUA/raw_data\n",
    "DATA_DIR = Path(\"/Volumes/LaCie/SOLAQUA/raw_data\")\n",
    "print(f\"Using DATA_DIR = {DATA_DIR}\")\n",
    "\n",
    "# Find NPZ files and pick the one matching TARGET_BAG\n",
    "files = iau.get_available_npz_files()\n",
    "if not files:\n",
    "    raise FileNotFoundError(f\"No NPZ files found in configured exports outputs (looked under {EXPORTS_FOLDER / EXPORTS_SUBDIRS.get('outputs','outputs')})\")\n",
    "matches = [p for p in files if TARGET_BAG in p.name]\n",
    "if not matches:\n",
    "    # Help the user by listing available NPZ files\n",
    "    print(f'No NPZ file matched TARGET_BAG={TARGET_BAG!r}')\n",
    "    print('Available NPZ files:')\n",
    "    for i,p in enumerate(files):\n",
    "        print(f'  {i}: {p.name}')\n",
    "    raise ValueError(f'No NPZ file contains \"{TARGET_BAG}\" in its name')\n",
    "\n",
    "# If multiple matches, choose the most recently modified one\n",
    "selected = max(matches, key=lambda p: p.stat().st_mtime)\n",
    "NPZ_FILE_INDEX = files.index(selected)\n",
    "print(f'Selected NPZ file: {selected.name} (index={NPZ_FILE_INDEX})')"
   ]
  },
  {
   "cell_type": "markdown",
   "id": "0c65358c",
   "metadata": {},
   "source": [
    "## Distance Analysis Over Time\n",
    "\n",
    "Now let's perform a comprehensive analysis of the red line distance over time. The red line represents the major axis of the detected elongated contour (likely a fishing net), and we'll track how this distance changes throughout the video sequence."
   ]
  },
  {
   "cell_type": "code",
   "execution_count": 4,
   "id": "d9c0382e",
   "metadata": {},
   "outputs": [
    {
     "name": "stdout",
     "output_type": "stream",
     "text": [
      "=== DISTANCE ANALYSIS FROM NPZ ===\n",
      "Analyzing: /Volumes/LaCie/SOLAQUA/exports/outputs/2024-08-22_14-47-39_data_cones.npz\n",
      "Processing 725 frames from 1 (step=1)\n",
      "Processing 725 frames from 1 (step=1)\n",
      "  Processed 50/725 frames (Success rate: 100.0%)\n",
      "  Processed 50/725 frames (Success rate: 100.0%)\n",
      "  Processed 100/725 frames (Success rate: 100.0%)\n",
      "  Processed 100/725 frames (Success rate: 100.0%)\n",
      "  Processed 150/725 frames (Success rate: 100.0%)\n",
      "  Processed 150/725 frames (Success rate: 100.0%)\n",
      "  Processed 200/725 frames (Success rate: 100.0%)\n",
      "  Processed 200/725 frames (Success rate: 100.0%)\n",
      "  Processed 250/725 frames (Success rate: 100.0%)\n",
      "  Processed 250/725 frames (Success rate: 100.0%)\n",
      "  Processed 300/725 frames (Success rate: 100.0%)\n",
      "  Processed 350/725 frames (Success rate: 100.0%)\n",
      "  Processed 400/725 frames (Success rate: 100.0%)\n",
      "  Processed 450/725 frames (Success rate: 100.0%)\n",
      "  Processed 500/725 frames (Success rate: 100.0%)\n",
      "  Processed 550/725 frames (Success rate: 100.0%)\n",
      "  Processed 600/725 frames (Success rate: 100.0%)\n",
      "  Processed 650/725 frames (Success rate: 100.0%)\n",
      "  Processed 700/725 frames (Success rate: 100.0%)\n",
      "\n",
      "=== ANALYSIS COMPLETE ===\n",
      "Total frames processed: 725\n",
      "Successful detections: 725 (100.0%)\n",
      "Distance statistics (meters):\n",
      "  - Mean: 0.666\n",
      "  - Std:  0.053\n",
      "  - Min:  0.495\n",
      "  - Max:  0.845\n",
      "  - Range: 0.350\n",
      "✅ Analyzed 725 frames using elliptical AOI\n",
      "🎯 Detection success rate: 100.0%\n",
      "📊 Elliptical tracking active: 0 frames\n"
     ]
    }
   ],
   "source": [
    "# Now using the NEW unified SonarDataProcessor with elliptical AOI support!\n",
    "# This gives us much better net tracking compared to the old rectangular AOI\n",
    "\n",
    "# First reload the module to get the latest elliptical AOI changes\n",
    "import importlib\n",
    "importlib.reload(iau)\n",
    "\n",
    "# Create the unified processor\n",
    "processor = iau.SonarDataProcessor()\n",
    "\n",
    "# Use the new Distance Analysis Engine with elliptical AOI\n",
    "engine = iau.DistanceAnalysisEngine()\n",
    "distance_results = engine.analyze_npz_sequence(\n",
    "    npz_file_index=NPZ_FILE_INDEX,    \n",
    "    frame_start=1,        # Start from frame 1\n",
    "    frame_count=1000,      # Analyze all frames from the video\n",
    "    frame_step=1          # Every frame\n",
    ")\n",
    "\n",
    "print(f\"✅ Analyzed {len(distance_results)} frames using elliptical AOI\")\n",
    "print(f\"🎯 Detection success rate: {distance_results['detection_success'].mean():.1%}\")\n",
    "print(f\"📊 Elliptical tracking active: {(distance_results['tracking_status'].str.contains('ELLIPSE')).sum()} frames\")"
   ]
  },
  {
   "cell_type": "code",
   "execution_count": 5,
   "id": "b9c5da85",
   "metadata": {},
   "outputs": [
    {
     "name": "stdout",
     "output_type": "stream",
     "text": [
      "=== ENHANCED ELLIPTICAL AOI VIDEO CREATION ===\n",
      "Creating video with elliptical AOI tracking...\n",
      "Frames: 100, step: 1\n",
      "✅ Processing 100 frames with elliptical AOI...\n",
      "✅ Processing 100 frames with elliptical AOI...\n",
      "Processed 10/100 frames | Ellipse tracking: 0\n",
      "Processed 20/100 frames | Ellipse tracking: 0\n",
      "Processed 10/100 frames | Ellipse tracking: 0\n",
      "Processed 20/100 frames | Ellipse tracking: 0\n",
      "Processed 30/100 frames | Ellipse tracking: 0\n",
      "Processed 40/100 frames | Ellipse tracking: 0\n",
      "Processed 30/100 frames | Ellipse tracking: 0\n",
      "Processed 40/100 frames | Ellipse tracking: 0\n",
      "Processed 50/100 frames | Ellipse tracking: 0\n",
      "Processed 60/100 frames | Ellipse tracking: 0\n",
      "Processed 50/100 frames | Ellipse tracking: 0\n",
      "Processed 60/100 frames | Ellipse tracking: 0\n",
      "Processed 70/100 frames | Ellipse tracking: 0\n",
      "Processed 70/100 frames | Ellipse tracking: 0\n",
      "Processed 80/100 frames | Ellipse tracking: 0\n",
      "Processed 90/100 frames | Ellipse tracking: 0\n",
      "Processed 80/100 frames | Ellipse tracking: 0\n",
      "Processed 90/100 frames | Ellipse tracking: 0\n",
      "Processed 100/100 frames | Ellipse tracking: 0\n",
      "\n",
      "=== ENHANCED VIDEO CREATION COMPLETE ===\n",
      "Video saved to: /Volumes/LaCie/SOLAQUA/exports/videos/core_aoi_tracking.mp4\n",
      "Video specs: 900x700, 15 fps, 100 frames\n",
      "🟢 ELLIPTICAL AOI TRACKING STATS:\n",
      "  - Total detected frames: 0\n",
      "  - Ellipse-guided frames: 0\n",
      "  - Ellipse effectiveness: 0.0%\n",
      "  - Lost/searching frames: 100\n",
      "Processed 100/100 frames | Ellipse tracking: 0\n",
      "\n",
      "=== ENHANCED VIDEO CREATION COMPLETE ===\n",
      "Video saved to: /Volumes/LaCie/SOLAQUA/exports/videos/core_aoi_tracking.mp4\n",
      "Video specs: 900x700, 15 fps, 100 frames\n",
      "🟢 ELLIPTICAL AOI TRACKING STATS:\n",
      "  - Total detected frames: 0\n",
      "  - Ellipse-guided frames: 0\n",
      "  - Ellipse effectiveness: 0.0%\n",
      "  - Lost/searching frames: 100\n"
     ]
    }
   ],
   "source": [
    "# Create video using the CORE simplified processor\n",
    "# This will show the yellow rectangular AOI and track with momentum merging!\n",
    "\n",
    "# Use the enhanced video creation with CORE processor\n",
    "video_path = iau.create_enhanced_contour_detection_video_with_processor(\n",
    "    npz_file_index=NPZ_FILE_INDEX,          # Which NPZ file to use\n",
    "    frame_start=1,           # Starting frame\n",
    "    frame_count=100,         # Start with 100 frames for testing\n",
    "    frame_step=1,            # Step between frames\n",
    "    output_path=Path(EXPORTS_DIR_DEFAULT) / EXPORTS_SUBDIRS.get('videos','videos') / 'core_aoi_tracking.mp4',\n",
    "    processor=processor      # Use our CORE processor\n",
    ")\n"
   ]
  },
  {
   "cell_type": "markdown",
   "id": "fede9d64",
   "metadata": {},
   "source": [
    "## Convert to Real-World Distances\n",
    "\n",
    "Now let's convert the pixel distances to real-world distances using the fact that the entire sonar image represents a 10x10 meter area."
   ]
  },
  {
   "cell_type": "code",
   "execution_count": 6,
   "id": "886897de",
   "metadata": {},
   "outputs": [
    {
     "name": "stdout",
     "output_type": "stream",
     "text": [
      "Detected NPZ extent: x=[-8.660,8.660] m, y=[0.000,10.000] m\n",
      "Image shape from NPZ: H=700, W=900\n",
      "meters/pixel: x=0.019245, y=0.014286, avg=0.016765\n",
      "Using pixels_to_meters_avg = 0.016765 m/px\n"
     ]
    }
   ],
   "source": [
    "# Auto-detect pixel->meter mapping from the selected NPZ (if available)\n",
    "try:\n",
    "    cones, ts, extent, meta = iau.load_cone_run_npz(selected)\n",
    "    T, H, W = cones.shape\n",
    "    x_min, x_max, y_min, y_max = extent\n",
    "    width_m = float(x_max - x_min)\n",
    "    height_m = float(y_max - y_min)\n",
    "    px2m_x = width_m / float(W)\n",
    "    px2m_y = height_m / float(H)\n",
    "    pixels_to_meters_avg = 0.5 * (px2m_x + px2m_y)\n",
    "    image_shape = (H, W)\n",
    "    sonar_coverage_meters = max(width_m, height_m)\n",
    "    print(f\"Detected NPZ extent: x=[{x_min:.3f},{x_max:.3f}] m, y=[{y_min:.3f},{y_max:.3f}] m\")\n",
    "    print(f\"Image shape from NPZ: H={H}, W={W}\")\n",
    "    print(f\"meters/pixel: x={px2m_x:.6f}, y={px2m_y:.6f}, avg={pixels_to_meters_avg:.6f}\")\n",
    "except Exception as e:\n",
    "    print(\"Could not read NPZ metadata:\", e)\n",
    "    print(\"Falling back to defaults from sonar_config.\")\n",
    "    from utils.sonar_config import CONE_H_DEFAULT, CONE_W_DEFAULT, DISPLAY_RANGE_MAX_M_DEFAULT\n",
    "    image_shape = (CONE_H_DEFAULT, CONE_W_DEFAULT)\n",
    "    sonar_coverage_meters = DISPLAY_RANGE_MAX_M_DEFAULT * 2  # approximate\n",
    "    pixels_to_meters_avg = sonar_coverage_meters / max(image_shape)\n",
    "    \n",
    "# Use the computed pixels_to_meters_avg in downstream analysis\n",
    "print(f\"Using pixels_to_meters_avg = {pixels_to_meters_avg:.6f} m/px\")"
   ]
  },
  {
   "cell_type": "code",
   "execution_count": 7,
   "id": "15d6238c",
   "metadata": {},
   "outputs": [
    {
     "data": {
      "application/vnd.plotly.v1+json": {
       "config": {
        "plotlyServerURL": "https://plot.ly"
       },
       "data": [
        {
         "line": {
          "color": "blue"
         },
         "mode": "lines+markers",
         "name": "Distance",
         "type": "scatter",
         "x": {
          "bdata": "AQACAAMABAAFAAYABwAIAAkACgALAAwADQAOAA8AEAARABIAEwAUABUAFgAXABgAGQAaABsAHAAdAB4AHwAgACEAIgAjACQAJQAmACcAKAApACoAKwAsAC0ALgAvADAAMQAyADMANAA1ADYANwA4ADkAOgA7ADwAPQA+AD8AQABBAEIAQwBEAEUARgBHAEgASQBKAEsATABNAE4ATwBQAFEAUgBTAFQAVQBWAFcAWABZAFoAWwBcAF0AXgBfAGAAYQBiAGMAZABlAGYAZwBoAGkAagBrAGwAbQBuAG8AcABxAHIAcwB0AHUAdgB3AHgAeQB6AHsAfAB9AH4AfwCAAIEAggCDAIQAhQCGAIcAiACJAIoAiwCMAI0AjgCPAJAAkQCSAJMAlACVAJYAlwCYAJkAmgCbAJwAnQCeAJ8AoAChAKIAowCkAKUApgCnAKgAqQCqAKsArACtAK4ArwCwALEAsgCzALQAtQC2ALcAuAC5ALoAuwC8AL0AvgC/AMAAwQDCAMMAxADFAMYAxwDIAMkAygDLAMwAzQDOAM8A0ADRANIA0wDUANUA1gDXANgA2QDaANsA3ADdAN4A3wDgAOEA4gDjAOQA5QDmAOcA6ADpAOoA6wDsAO0A7gDvAPAA8QDyAPMA9AD1APYA9wD4APkA+gD7APwA/QD+AP8AAAEBAQIBAwEEAQUBBgEHAQgBCQEKAQsBDAENAQ4BDwEQAREBEgETARQBFQEWARcBGAEZARoBGwEcAR0BHgEfASABIQEiASMBJAElASYBJwEoASkBKgErASwBLQEuAS8BMAExATIBMwE0ATUBNgE3ATgBOQE6ATsBPAE9AT4BPwFAAUEBQgFDAUQBRQFGAUcBSAFJAUoBSwFMAU0BTgFPAVABUQFSAVMBVAFVAVYBVwFYAVkBWgFbAVwBXQFeAV8BYAFhAWIBYwFkAWUBZgFnAWgBaQFqAWsBbAFtAW4BbwFwAXEBcgFzAXQBdQF2AXcBeAF5AXoBewF8AX0BfgF/AYABgQGCAYMBhAGFAYYBhwGIAYkBigGLAYwBjQGOAY8BkAGRAZIBkwGUAZUBlgGXAZgBmQGaAZsBnAGdAZ4BnwGgAaEBogGjAaQBpQGmAacBqAGpAaoBqwGsAa0BrgGvAbABsQGyAbMBtAG1AbYBtwG4AbkBugG7AbwBvQG+Ab8BwAHBAcIBwwHEAcUBxgHHAcgByQHKAcsBzAHNAc4BzwHQAdEB0gHTAdQB1QHWAdcB2AHZAdoB2wHcAd0B3gHfAeAB4QHiAeMB5AHlAeYB5wHoAekB6gHrAewB7QHuAe8B8AHxAfIB8wH0AfUB9gH3AfgB+QH6AfsB/AH9Af4B/wEAAgECAgIDAgQCBQIGAgcCCAIJAgoCCwIMAg0CDgIPAhACEQISAhMCFAIVAhYCFwIYAhkCGgIbAhwCHQIeAh8CIAIhAiICIwIkAiUCJgInAigCKQIqAisCLAItAi4CLwIwAjECMgIzAjQCNQI2AjcCOAI5AjoCOwI8Aj0CPgI/AkACQQJCAkMCRAJFAkYCRwJIAkkCSgJLAkwCTQJOAk8CUAJRAlICUwJUAlUCVgJXAlgCWQJaAlsCXAJdAl4CXwJgAmECYgJjAmQCZQJmAmcCaAJpAmoCawJsAm0CbgJvAnACcQJyAnMCdAJ1AnYCdwJ4AnkCegJ7AnwCfQJ+An8CgAKBAoICgwKEAoUChgKHAogCiQKKAosCjAKNAo4CjwKQApECkgKTApQClQKWApcCmAKZApoCmwKcAp0CngKfAqACoQKiAqMCpAKlAqYCpwKoAqkCqgKrAqwCrQKuAq8CsAKxArICswK0ArUCtgK3ArgCuQK6ArsCvAK9Ar4CvwLAAsECwgLDAsQCxQLGAscCyALJAsoCywLMAs0CzgLPAtAC0QLSAtMC1ALVAg==",
          "dtype": "i2"
         },
         "xaxis": "x",
         "y": {
          "bdata": "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",
          "dtype": "f8"
         },
         "yaxis": "y"
        },
        {
         "line": {
          "color": "green"
         },
         "mode": "lines+markers",
         "name": "Distance over Time",
         "type": "scatter",
         "x": [
          "2024-08-22T12:47:42.079270124",
          "2024-08-22T12:47:42.142102480",
          "2024-08-22T12:47:42.205967665",
          "2024-08-22T12:47:42.269795418",
          "2024-08-22T12:47:42.336023808",
          "2024-08-22T12:47:42.397914648",
          "2024-08-22T12:47:42.462719917",
          "2024-08-22T12:47:42.526518106",
          "2024-08-22T12:47:42.591380119",
          "2024-08-22T12:47:42.655776262",
          "2024-08-22T12:47:42.717646360",
          "2024-08-22T12:47:42.782440901",
          "2024-08-22T12:47:42.847325802",
          "2024-08-22T12:47:42.913094282",
          "2024-08-22T12:47:42.979914427",
          "2024-08-22T12:47:43.037758112",
          "2024-08-22T12:47:43.103629589",
          "2024-08-22T12:47:43.168455124",
          "2024-08-22T12:47:43.230289459",
          "2024-08-22T12:47:43.297112226",
          "2024-08-22T12:47:43.358057499",
          "2024-08-22T12:47:43.423883915",
          "2024-08-22T12:47:43.489706516",
          "2024-08-22T12:47:43.554531097",
          "2024-08-22T12:47:43.614371061",
          "2024-08-22T12:47:43.681210041",
          "2024-08-22T12:47:43.743044615",
          "2024-08-22T12:47:43.807869673",
          "2024-08-22T12:47:43.873695135",
          "2024-08-22T12:47:43.941514730",
          "2024-08-22T12:47:43.998361826",
          "2024-08-22T12:47:44.074665546",
          "2024-08-22T12:47:44.126527070",
          "2024-08-22T12:47:44.193355322",
          "2024-08-22T12:47:44.255183697",
          "2024-08-22T12:47:44.318017483",
          "2024-08-22T12:47:44.382842064",
          "2024-08-22T12:47:44.445672750",
          "2024-08-22T12:47:44.510514021",
          "2024-08-22T12:47:44.575340748",
          "2024-08-22T12:47:44.638174295",
          "2024-08-22T12:47:44.705569983",
          "2024-08-22T12:47:44.768403053",
          "2024-08-22T12:47:44.834228277",
          "2024-08-22T12:47:44.898564339",
          "2024-08-22T12:47:44.959438801",
          "2024-08-22T12:47:45.023231506",
          "2024-08-22T12:47:45.087059975",
          "2024-08-22T12:47:45.153880835",
          "2024-08-22T12:47:45.219862700",
          "2024-08-22T12:47:45.279679060",
          "2024-08-22T12:47:45.342511177",
          "2024-08-22T12:47:45.406341076",
          "2024-08-22T12:47:45.471167803",
          "2024-08-22T12:47:45.533998965",
          "2024-08-22T12:47:45.599824429",
          "2024-08-22T12:47:45.661656857",
          "2024-08-22T12:47:45.727523565",
          "2024-08-22T12:47:45.791311502",
          "2024-08-22T12:47:45.857160330",
          "2024-08-22T12:47:45.917972803",
          "2024-08-22T12:47:45.981801510",
          "2024-08-22T12:47:46.045691729",
          "2024-08-22T12:47:46.110457182",
          "2024-08-22T12:47:46.174287081",
          "2024-08-22T12:47:46.238117933",
          "2024-08-22T12:47:46.302991867",
          "2024-08-22T12:47:46.365823507",
          "2024-08-22T12:47:46.431176424",
          "2024-08-22T12:47:46.495586872",
          "2024-08-22T12:47:46.559441805",
          "2024-08-22T12:47:46.625262260",
          "2024-08-22T12:47:46.693078756",
          "2024-08-22T12:47:46.753947496",
          "2024-08-22T12:47:46.817774057",
          "2024-08-22T12:47:46.883601427",
          "2024-08-22T12:47:46.942441463",
          "2024-08-22T12:47:47.006270170",
          "2024-08-22T12:47:47.071098804",
          "2024-08-22T12:47:47.134925604",
          "2024-08-22T12:47:47.201746941",
          "2024-08-22T12:47:47.263585805",
          "2024-08-22T12:47:47.325416565",
          "2024-08-22T12:47:47.391242743",
          "2024-08-22T12:47:47.456104517",
          "2024-08-22T12:47:47.517956257",
          "2024-08-22T12:47:47.585775137",
          "2024-08-22T12:47:47.783459425",
          "2024-08-22T12:47:47.798418760",
          "2024-08-22T12:47:47.860253811",
          "2024-08-22T12:47:47.905133486",
          "2024-08-22T12:47:47.952027798",
          "2024-08-22T12:47:48.012863636",
          "2024-08-22T12:47:48.058742285",
          "2024-08-22T12:47:48.106619596",
          "2024-08-22T12:47:48.160469055",
          "2024-08-22T12:47:48.222304106",
          "2024-08-22T12:47:48.289125204",
          "2024-08-22T12:47:48.353955030",
          "2024-08-22T12:47:48.416471243",
          "2024-08-22T12:47:48.481297970",
          "2024-08-22T12:47:48.548118830",
          "2024-08-22T12:47:48.608991146",
          "2024-08-22T12:47:48.672789335",
          "2024-08-22T12:47:48.734709978",
          "2024-08-22T12:47:48.799378157",
          "2024-08-22T12:47:48.863616467",
          "2024-08-22T12:47:48.926483631",
          "2024-08-22T12:47:48.991314173",
          "2024-08-22T12:47:49.057138681",
          "2024-08-22T12:47:49.119432688",
          "2024-08-22T12:47:49.185294628",
          "2024-08-22T12:47:49.246094227",
          "2024-08-22T12:47:49.310529947",
          "2024-08-22T12:47:49.374395370",
          "2024-08-22T12:47:49.438732386",
          "2024-08-22T12:47:49.502139807",
          "2024-08-22T12:47:49.566963911",
          "2024-08-22T12:47:49.630340815",
          "2024-08-22T12:47:49.695523739",
          "2024-08-22T12:47:49.758430243",
          "2024-08-22T12:47:49.822546244",
          "2024-08-22T12:47:49.886227369",
          "2024-08-22T12:47:49.950020552",
          "2024-08-22T12:47:50.013556719",
          "2024-08-22T12:47:50.078420162",
          "2024-08-22T12:47:50.142329693",
          "2024-08-22T12:47:50.206041574",
          "2024-08-22T12:47:50.276866674",
          "2024-08-22T12:47:50.335693598",
          "2024-08-22T12:47:50.406504631",
          "2024-08-22T12:47:50.465346336",
          "2024-08-22T12:47:50.536157608",
          "2024-08-22T12:47:50.598988771",
          "2024-08-22T12:47:50.653844595",
          "2024-08-22T12:47:50.719306231",
          "2024-08-22T12:47:50.785254002",
          "2024-08-22T12:47:50.907845259",
          "2024-08-22T12:47:50.924805403",
          "2024-08-22T12:47:50.978656054",
          "2024-08-22T12:47:51.037887335",
          "2024-08-22T12:47:51.102393389",
          "2024-08-22T12:47:51.169251919",
          "2024-08-22T12:47:51.230048656",
          "2024-08-22T12:47:51.294878006",
          "2024-08-22T12:47:51.358228445",
          "2024-08-22T12:47:51.422244549",
          "2024-08-22T12:47:51.490060091",
          "2024-08-22T12:47:51.550378561",
          "2024-08-22T12:47:51.613721371",
          "2024-08-22T12:47:51.680542469",
          "2024-08-22T12:47:51.742375851",
          "2024-08-22T12:47:51.806545258",
          "2024-08-22T12:47:51.871034145",
          "2024-08-22T12:47:51.933865786",
          "2024-08-22T12:47:51.998691559",
          "2024-08-22T12:47:52.063024044",
          "2024-08-22T12:47:52.127844810",
          "2024-08-22T12:47:52.193671465",
          "2024-08-22T12:47:52.260490893",
          "2024-08-22T12:47:52.325387478",
          "2024-08-22T12:47:52.388179302",
          "2024-08-22T12:47:52.446037531",
          "2024-08-22T12:47:52.510822295",
          "2024-08-22T12:47:52.576648712",
          "2024-08-22T12:47:52.638478994",
          "2024-08-22T12:47:52.702308178",
          "2024-08-22T12:47:52.766648531",
          "2024-08-22T12:47:52.829560041",
          "2024-08-22T12:47:52.895339251",
          "2024-08-22T12:47:52.959167957",
          "2024-08-22T12:47:53.022039413",
          "2024-08-22T12:47:53.090818167",
          "2024-08-22T12:47:53.150656223",
          "2024-08-22T12:47:53.214524746",
          "2024-08-22T12:47:53.280311108",
          "2024-08-22T12:47:53.342396975",
          "2024-08-22T12:47:53.406488180",
          "2024-08-22T12:47:53.471314669",
          "2024-08-22T12:47:53.534695386",
          "2024-08-22T12:47:53.598518610",
          "2024-08-22T12:47:53.666336536",
          "2024-08-22T12:47:53.726413012",
          "2024-08-22T12:47:53.792237997",
          "2024-08-22T12:47:53.856068611",
          "2024-08-22T12:47:53.918899775",
          "2024-08-22T12:47:53.987715483",
          "2024-08-22T12:47:54.048559189",
          "2024-08-22T12:47:54.114376545",
          "2024-08-22T12:47:54.185188532",
          "2024-08-22T12:47:54.239042997",
          "2024-08-22T12:47:54.302942753",
          "2024-08-22T12:47:54.368766546",
          "2024-08-22T12:47:54.433595419",
          "2024-08-22T12:47:54.497421741",
          "2024-08-22T12:47:54.559295416",
          "2024-08-22T12:47:54.622127771",
          "2024-08-22T12:47:54.688026905",
          "2024-08-22T12:47:54.749866486",
          "2024-08-22T12:47:54.814872265",
          "2024-08-22T12:47:54.881490231",
          "2024-08-22T12:47:54.948314667",
          "2024-08-22T12:47:55.006204605",
          "2024-08-22T12:47:55.070983887",
          "2024-08-22T12:47:55.135812759",
          "2024-08-22T12:47:55.199640512",
          "2024-08-22T12:47:55.262197970",
          "2024-08-22T12:47:55.326779127",
          "2024-08-22T12:47:55.390609503",
          "2024-08-22T12:47:55.455941677",
          "2024-08-22T12:47:55.518773794",
          "2024-08-22T12:47:55.583600044",
          "2024-08-22T12:47:55.646431446",
          "2024-08-22T12:47:55.762367487",
          "2024-08-22T12:47:55.822207451",
          "2024-08-22T12:47:55.870615721",
          "2024-08-22T12:47:55.903528929",
          "2024-08-22T12:47:55.972343922",
          "2024-08-22T12:47:56.034180641",
          "2024-08-22T12:47:56.230654240",
          "2024-08-22T12:47:56.244616270",
          "2024-08-22T12:47:56.305584192",
          "2024-08-22T12:47:56.353327036",
          "2024-08-22T12:47:56.397209167",
          "2024-08-22T12:47:56.459064722",
          "2024-08-22T12:47:56.504005194",
          "2024-08-22T12:47:56.550822735",
          "2024-08-22T12:47:56.610658884",
          "2024-08-22T12:47:56.675529957",
          "2024-08-22T12:47:56.734373331",
          "2024-08-22T12:47:56.799198389",
          "2024-08-22T12:47:56.862029791",
          "2024-08-22T12:47:56.926856995",
          "2024-08-22T12:47:56.990686655",
          "2024-08-22T12:47:57.055063725",
          "2024-08-22T12:47:57.118893147",
          "2024-08-22T12:47:57.183237076",
          "2024-08-22T12:47:57.246649742",
          "2024-08-22T12:47:57.319489717",
          "2024-08-22T12:47:57.378296375",
          "2024-08-22T12:47:57.439493179",
          "2024-08-22T12:47:57.503848791",
          "2024-08-22T12:47:57.567677498",
          "2024-08-22T12:47:57.629513025",
          "2024-08-22T12:47:57.695339918",
          "2024-08-22T12:47:57.760162354",
          "2024-08-22T12:47:57.823992252",
          "2024-08-22T12:47:57.892808676",
          "2024-08-22T12:47:57.957634211",
          "2024-08-22T12:47:58.015479803",
          "2024-08-22T12:47:58.080342054",
          "2024-08-22T12:47:58.142693281",
          "2024-08-22T12:47:58.205541849",
          "2024-08-22T12:47:58.271376610",
          "2024-08-22T12:47:58.335172415",
          "2024-08-22T12:47:58.399001360",
          "2024-08-22T12:47:58.463826895",
          "2024-08-22T12:47:58.527019978",
          "2024-08-22T12:47:58.590854406",
          "2024-08-22T12:47:58.654217720",
          "2024-08-22T12:47:58.718048811",
          "2024-08-22T12:47:58.786936283",
          "2024-08-22T12:47:58.849254608",
          "2024-08-22T12:47:58.910111427",
          "2024-08-22T12:47:58.974449873",
          "2024-08-22T12:47:59.041270733",
          "2024-08-22T12:47:59.102612257",
          "2024-08-22T12:47:59.167439699",
          "2024-08-22T12:47:59.231272697",
          "2024-08-22T12:47:59.296097040",
          "2024-08-22T12:47:59.358959436",
          "2024-08-22T12:47:59.421829700",
          "2024-08-22T12:47:59.485619307",
          "2024-08-22T12:47:59.552475691",
          "2024-08-22T12:47:59.614999771",
          "2024-08-22T12:47:59.680792332",
          "2024-08-22T12:47:59.745616198",
          "2024-08-22T12:47:59.809447050",
          "2024-08-22T12:47:59.874827623",
          "2024-08-22T12:47:59.935665131",
          "2024-08-22T12:48:00.000491381",
          "2024-08-22T12:48:00.064320802",
          "2024-08-22T12:48:00.126153708",
          "2024-08-22T12:48:00.194033384",
          "2024-08-22T12:48:00.257676363",
          "2024-08-22T12:48:00.317556143",
          "2024-08-22T12:48:00.389369011",
          "2024-08-22T12:48:00.446218491",
          "2024-08-22T12:48:00.514036179",
          "2024-08-22T12:48:00.575871229",
          "2024-08-22T12:48:00.638703346",
          "2024-08-22T12:48:00.702565670",
          "2024-08-22T12:48:00.766397476",
          "2024-08-22T12:48:00.830226421",
          "2024-08-22T12:48:00.897011518",
          "2024-08-22T12:48:00.958845615",
          "2024-08-22T12:48:01.022715807",
          "2024-08-22T12:48:01.089756012",
          "2024-08-22T12:48:01.151363611",
          "2024-08-22T12:48:01.213592052",
          "2024-08-22T12:48:01.279414177",
          "2024-08-22T12:48:01.341246605",
          "2024-08-22T12:48:01.409272671",
          "2024-08-22T12:48:01.472929239",
          "2024-08-22T12:48:01.537722111",
          "2024-08-22T12:48:01.601768732",
          "2024-08-22T12:48:01.663604975",
          "2024-08-22T12:48:01.728463888",
          "2024-08-22T12:48:01.798316479",
          "2024-08-22T12:48:01.854205132",
          "2024-08-22T12:48:01.917881250",
          "2024-08-22T12:48:01.984704494",
          "2024-08-22T12:48:02.047544479",
          "2024-08-22T12:48:02.110928059",
          "2024-08-22T12:48:02.178150415",
          "2024-08-22T12:48:02.237989902",
          "2024-08-22T12:48:02.302819014",
          "2024-08-22T12:48:02.366724014",
          "2024-08-22T12:48:02.429532051",
          "2024-08-22T12:48:02.495329380",
          "2024-08-22T12:48:02.559236526",
          "2024-08-22T12:48:02.622107506",
          "2024-08-22T12:48:02.685937405",
          "2024-08-22T12:48:02.752839565",
          "2024-08-22T12:48:02.813643456",
          "2024-08-22T12:48:02.878467321",
          "2024-08-22T12:48:02.943349600",
          "2024-08-22T12:48:03.008521795",
          "2024-08-22T12:48:03.073345900",
          "2024-08-22T12:48:03.134183167",
          "2024-08-22T12:48:03.198012590",
          "2024-08-22T12:48:03.263839006",
          "2024-08-22T12:48:03.327667713",
          "2024-08-22T12:48:03.392527819",
          "2024-08-22T12:48:03.458356142",
          "2024-08-22T12:48:03.520795345",
          "2024-08-22T12:48:03.582893372",
          "2024-08-22T12:48:03.645724535",
          "2024-08-22T12:48:03.711549759",
          "2024-08-22T12:48:03.776377201",
          "2024-08-22T12:48:03.838209629",
          "2024-08-22T12:48:03.903037071",
          "2024-08-22T12:48:03.966867447",
          "2024-08-22T12:48:04.033856153",
          "2024-08-22T12:48:04.095293045",
          "2024-08-22T12:48:04.158123732",
          "2024-08-22T12:48:04.251384020",
          "2024-08-22T12:48:04.299203396",
          "2024-08-22T12:48:04.358987808",
          "2024-08-22T12:48:04.414835691",
          "2024-08-22T12:48:04.480659723",
          "2024-08-22T12:48:04.542493343",
          "2024-08-22T12:48:04.606324911",
          "2024-08-22T12:48:04.672146797",
          "2024-08-22T12:48:04.739003181",
          "2024-08-22T12:48:04.799292564",
          "2024-08-22T12:48:04.863119364",
          "2024-08-22T12:48:04.925953388",
          "2024-08-22T12:48:04.993772745",
          "2024-08-22T12:48:05.055605650",
          "2024-08-22T12:48:05.118066788",
          "2024-08-22T12:48:05.186921835",
          "2024-08-22T12:48:05.247793436",
          "2024-08-22T12:48:05.313646793",
          "2024-08-22T12:48:05.389665604",
          "2024-08-22T12:48:05.440528870",
          "2024-08-22T12:48:05.504357815",
          "2024-08-22T12:48:05.567247868",
          "2024-08-22T12:48:05.632790327",
          "2024-08-22T12:48:05.696887970",
          "2024-08-22T12:48:05.758721352",
          "2024-08-22T12:48:05.821586132",
          "2024-08-22T12:48:05.887387276",
          "2024-08-22T12:48:05.951206684",
          "2024-08-22T12:48:06.014078617",
          "2024-08-22T12:48:06.079903603",
          "2024-08-22T12:48:06.196130276",
          "2024-08-22T12:48:06.256000757",
          "2024-08-22T12:48:06.315805674",
          "2024-08-22T12:48:06.377641916",
          "2024-08-22T12:48:06.437481880",
          "2024-08-22T12:48:06.498317719",
          "2024-08-22T12:48:06.573117733",
          "2024-08-22T12:48:06.624019146",
          "2024-08-22T12:48:06.681829453",
          "2024-08-22T12:48:06.738674879",
          "2024-08-22T12:48:06.786588430",
          "2024-08-22T12:48:06.845424891",
          "2024-08-22T12:48:06.910216093",
          "2024-08-22T12:48:06.978382826",
          "2024-08-22T12:48:07.039703846",
          "2024-08-22T12:48:07.106487274",
          "2024-08-22T12:48:07.171312809",
          "2024-08-22T12:48:07.236644506",
          "2024-08-22T12:48:07.305712223",
          "2024-08-22T12:48:07.364514351",
          "2024-08-22T12:48:07.424396753",
          "2024-08-22T12:48:07.487226486",
          "2024-08-22T12:48:07.554117918",
          "2024-08-22T12:48:07.614000797",
          "2024-08-22T12:48:07.682816267",
          "2024-08-22T12:48:07.742656946",
          "2024-08-22T12:48:07.806071281",
          "2024-08-22T12:48:07.872926474",
          "2024-08-22T12:48:07.933764458",
          "2024-08-22T12:48:07.998591661",
          "2024-08-22T12:48:08.061423063",
          "2024-08-22T12:48:08.127249241",
          "2024-08-22T12:48:08.191115618",
          "2024-08-22T12:48:08.255943537",
          "2024-08-22T12:48:08.318773985",
          "2024-08-22T12:48:08.381644011",
          "2024-08-22T12:48:08.445428848",
          "2024-08-22T12:48:08.510257959",
          "2024-08-22T12:48:08.574086189",
          "2024-08-22T12:48:08.637914181",
          "2024-08-22T12:48:08.702741861",
          "2024-08-22T12:48:08.765633106",
          "2024-08-22T12:48:08.830401182",
          "2024-08-22T12:48:08.902842045",
          "2024-08-22T12:48:08.963669062",
          "2024-08-22T12:48:09.027417660",
          "2024-08-22T12:48:09.089256287",
          "2024-08-22T12:48:09.151085854",
          "2024-08-22T12:48:09.215949059",
          "2024-08-22T12:48:09.279741287",
          "2024-08-22T12:48:09.343537331",
          "2024-08-22T12:48:09.405372858",
          "2024-08-22T12:48:09.474188089",
          "2024-08-22T12:48:09.535604239",
          "2024-08-22T12:48:09.598435879",
          "2024-08-22T12:48:09.664261341",
          "2024-08-22T12:48:09.726097584",
          "2024-08-22T12:48:09.790688276",
          "2024-08-22T12:48:09.854517937",
          "2024-08-22T12:48:09.917387009",
          "2024-08-22T12:48:09.984212160",
          "2024-08-22T12:48:10.046046495",
          "2024-08-22T12:48:10.109876156",
          "2024-08-22T12:48:10.175780058",
          "2024-08-22T12:48:10.237578869",
          "2024-08-22T12:48:10.303402185",
          "2024-08-22T12:48:10.368229866",
          "2024-08-22T12:48:10.430063725",
          "2024-08-22T12:48:10.494897842",
          "2024-08-22T12:48:10.560847759",
          "2024-08-22T12:48:10.622554302",
          "2024-08-22T12:48:10.687430859",
          "2024-08-22T12:48:10.753256798",
          "2024-08-22T12:48:10.818082094",
          "2024-08-22T12:48:10.881979465",
          "2024-08-22T12:48:10.945779085",
          "2024-08-22T12:48:11.006616831",
          "2024-08-22T12:48:11.073957682",
          "2024-08-22T12:48:11.134518385",
          "2024-08-22T12:48:11.201706171",
          "2024-08-22T12:48:11.262543201",
          "2024-08-22T12:48:11.333355188",
          "2024-08-22T12:48:11.390202522",
          "2024-08-22T12:48:11.455028296",
          "2024-08-22T12:48:11.517862081",
          "2024-08-22T12:48:11.611610174",
          "2024-08-22T12:48:11.669455051",
          "2024-08-22T12:48:11.717326641",
          "2024-08-22T12:48:11.776171684",
          "2024-08-22T12:48:11.848975182",
          "2024-08-22T12:48:11.915800571",
          "2024-08-22T12:48:11.968654394",
          "2024-08-22T12:48:12.030488729",
          "2024-08-22T12:48:12.226046562",
          "2024-08-22T12:48:12.241007805",
          "2024-08-22T12:48:12.292895317",
          "2024-08-22T12:48:12.354283094",
          "2024-08-22T12:48:12.401190758",
          "2024-08-22T12:48:12.468835354",
          "2024-08-22T12:48:12.526808976",
          "2024-08-22T12:48:12.573686361",
          "2024-08-22T12:48:12.618607044",
          "2024-08-22T12:48:12.681426764",
          "2024-08-22T12:48:12.739243031",
          "2024-08-22T12:48:12.800078392",
          "2024-08-22T12:48:12.864424229",
          "2024-08-22T12:48:12.926810980",
          "2024-08-22T12:48:12.991647482",
          "2024-08-22T12:48:13.054472923",
          "2024-08-22T12:48:13.118298292",
          "2024-08-22T12:48:13.184121132",
          "2024-08-22T12:48:13.244959593",
          "2024-08-22T12:48:13.319758415",
          "2024-08-22T12:48:13.376607418",
          "2024-08-22T12:48:13.437460423",
          "2024-08-22T12:48:13.503284693",
          "2024-08-22T12:48:13.566152334",
          "2024-08-22T12:48:13.629945517",
          "2024-08-22T12:48:13.695771456",
          "2024-08-22T12:48:13.758603811",
          "2024-08-22T12:48:13.824428320",
          "2024-08-22T12:48:13.887018919",
          "2024-08-22T12:48:13.949892282",
          "2024-08-22T12:48:14.013723373",
          "2024-08-22T12:48:14.079546928",
          "2024-08-22T12:48:14.142429590",
          "2024-08-22T12:48:14.206259251",
          "2024-08-22T12:48:14.272220612",
          "2024-08-22T12:48:14.334095001",
          "2024-08-22T12:48:14.398452759",
          "2024-08-22T12:48:14.465273142",
          "2024-08-22T12:48:14.527107954",
          "2024-08-22T12:48:14.597918749",
          "2024-08-22T12:48:14.656789780",
          "2024-08-22T12:48:14.718644619",
          "2024-08-22T12:48:14.791415215",
          "2024-08-22T12:48:14.848263741",
          "2024-08-22T12:48:14.917078972",
          "2024-08-22T12:48:14.975400209",
          "2024-08-22T12:48:15.038426638",
          "2024-08-22T12:48:15.102252960",
          "2024-08-22T12:48:15.166082382",
          "2024-08-22T12:48:15.230912685",
          "2024-08-22T12:48:15.296732903",
          "2024-08-22T12:48:15.360564232",
          "2024-08-22T12:48:15.422398090",
          "2024-08-22T12:48:15.489219189",
          "2024-08-22T12:48:15.551053286",
          "2024-08-22T12:48:15.613885641",
          "2024-08-22T12:48:15.679549932",
          "2024-08-22T12:48:15.742384195",
          "2024-08-22T12:48:15.806211948",
          "2024-08-22T12:48:15.874030352",
          "2024-08-22T12:48:15.935862541",
          "2024-08-22T12:48:16.000688791",
          "2024-08-22T12:48:16.062524318",
          "2024-08-22T12:48:16.126353740",
          "2024-08-22T12:48:16.193174839",
          "2024-08-22T12:48:16.256008387",
          "2024-08-22T12:48:16.317842007",
          "2024-08-22T12:48:16.384663582",
          "2024-08-22T12:48:16.448492289",
          "2024-08-22T12:48:16.514316558",
          "2024-08-22T12:48:16.584706306",
          "2024-08-22T12:48:16.651526451",
          "2024-08-22T12:48:16.709371567",
          "2024-08-22T12:48:16.770213127",
          "2024-08-22T12:48:16.830084801",
          "2024-08-22T12:48:16.896869898",
          "2024-08-22T12:48:17.010566473",
          "2024-08-22T12:48:17.058462620",
          "2024-08-22T12:48:17.087386608",
          "2024-08-22T12:48:17.153210163",
          "2024-08-22T12:48:17.214046478",
          "2024-08-22T12:48:17.278963566",
          "2024-08-22T12:48:17.356720448",
          "2024-08-22T12:48:17.407584190",
          "2024-08-22T12:48:17.472446442",
          "2024-08-22T12:48:17.533287287",
          "2024-08-22T12:48:17.598434925",
          "2024-08-22T12:48:17.666251659",
          "2024-08-22T12:48:17.728086472",
          "2024-08-22T12:48:17.796902895",
          "2024-08-22T12:48:17.853750229",
          "2024-08-22T12:48:17.918576956",
          "2024-08-22T12:48:17.982419252",
          "2024-08-22T12:48:18.045286417",
          "2024-08-22T12:48:18.111075163",
          "2024-08-22T12:48:18.175018311",
          "2024-08-22T12:48:18.238881826",
          "2024-08-22T12:48:18.306704998",
          "2024-08-22T12:48:18.381465673",
          "2024-08-22T12:48:18.441364765",
          "2024-08-22T12:48:18.496666908",
          "2024-08-22T12:48:18.560503960",
          "2024-08-22T12:48:18.622337103",
          "2024-08-22T12:48:18.687837839",
          "2024-08-22T12:48:18.752664089",
          "2024-08-22T12:48:18.813536167",
          "2024-08-22T12:48:18.881377220",
          "2024-08-22T12:48:18.949187517",
          "2024-08-22T12:48:19.006035805",
          "2024-08-22T12:48:19.074423313",
          "2024-08-22T12:48:19.135317802",
          "2024-08-22T12:48:19.198184729",
          "2024-08-22T12:48:19.268092155",
          "2024-08-22T12:48:19.325936794",
          "2024-08-22T12:48:19.392759085",
          "2024-08-22T12:48:19.453595400",
          "2024-08-22T12:48:19.518422603",
          "2024-08-22T12:48:19.587238312",
          "2024-08-22T12:48:19.646118641",
          "2024-08-22T12:48:19.710908890",
          "2024-08-22T12:48:19.773740530",
          "2024-08-22T12:48:19.838566065",
          "2024-08-22T12:48:19.902397156",
          "2024-08-22T12:48:19.966228247",
          "2024-08-22T12:48:20.030054092",
          "2024-08-22T12:48:20.095877886",
          "2024-08-22T12:48:20.164695978",
          "2024-08-22T12:48:20.239495516",
          "2024-08-22T12:48:20.291373491",
          "2024-08-22T12:48:20.354243517",
          "2024-08-22T12:48:20.414179564",
          "2024-08-22T12:48:20.481322050",
          "2024-08-22T12:48:20.541258812",
          "2024-08-22T12:48:20.609018803",
          "2024-08-22T12:48:20.678862810",
          "2024-08-22T12:48:20.733717442",
          "2024-08-22T12:48:20.798050165",
          "2024-08-22T12:48:20.865389585",
          "2024-08-22T12:48:20.927229404",
          "2024-08-22T12:48:20.991416931",
          "2024-08-22T12:48:21.058275223",
          "2024-08-22T12:48:21.118589163",
          "2024-08-22T12:48:21.183450222",
          "2024-08-22T12:48:21.246274710",
          "2024-08-22T12:48:21.310076952",
          "2024-08-22T12:48:21.376941681",
          "2024-08-22T12:48:21.437736273",
          "2024-08-22T12:48:21.503562450",
          "2024-08-22T12:48:21.566435099",
          "2024-08-22T12:48:21.630221605",
          "2024-08-22T12:48:21.699072361",
          "2024-08-22T12:48:21.757911444",
          "2024-08-22T12:48:21.822707176",
          "2024-08-22T12:48:21.886566877",
          "2024-08-22T12:48:21.952358961",
          "2024-08-22T12:48:22.015738726",
          "2024-08-22T12:48:22.093341589",
          "2024-08-22T12:48:22.148159981",
          "2024-08-22T12:48:22.240055799",
          "2024-08-22T12:48:22.272927523",
          "2024-08-22T12:48:22.333765268",
          "2024-08-22T12:48:22.397595406",
          "2024-08-22T12:48:22.464415073",
          "2024-08-22T12:48:22.525756358",
          "2024-08-22T12:48:22.590583324",
          "2024-08-22T12:48:22.656409740",
          "2024-08-22T12:48:22.718276978",
          "2024-08-22T12:48:22.784124851",
          "2024-08-22T12:48:22.844954967",
          "2024-08-22T12:48:22.909729719",
          "2024-08-22T12:48:22.977585316",
          "2024-08-22T12:48:23.038386583",
          "2024-08-22T12:48:23.102214813",
          "2024-08-22T12:48:23.169073343",
          "2024-08-22T12:48:23.231907129",
          "2024-08-22T12:48:23.294798851",
          "2024-08-22T12:48:23.358588696",
          "2024-08-22T12:48:23.422009945",
          "2024-08-22T12:48:23.486795664",
          "2024-08-22T12:48:23.551650286",
          "2024-08-22T12:48:23.614455223",
          "2024-08-22T12:48:23.678283691",
          "2024-08-22T12:48:23.741661787",
          "2024-08-22T12:48:23.807444572",
          "2024-08-22T12:48:23.875263214",
          "2024-08-22T12:48:23.954244852",
          "2024-08-22T12:48:24.012124062",
          "2024-08-22T12:48:24.065950155",
          "2024-08-22T12:48:24.125792503",
          "2024-08-22T12:48:24.191614151",
          "2024-08-22T12:48:24.254447221",
          "2024-08-22T12:48:24.317785740",
          "2024-08-22T12:48:24.384190321",
          "2024-08-22T12:48:24.445951700",
          "2024-08-22T12:48:24.510778189",
          "2024-08-22T12:48:24.575604439",
          "2024-08-22T12:48:24.637439728",
          "2024-08-22T12:48:24.703263283",
          "2024-08-22T12:48:24.766096115",
          "2024-08-22T12:48:24.839897871",
          "2024-08-22T12:48:24.895748854",
          "2024-08-22T12:48:24.957583189",
          "2024-08-22T12:48:25.023407221",
          "2024-08-22T12:48:25.086802721",
          "2024-08-22T12:48:25.151571035",
          "2024-08-22T12:48:25.213406563",
          "2024-08-22T12:48:25.278267145",
          "2024-08-22T12:48:25.342061520",
          "2024-08-22T12:48:25.406211615",
          "2024-08-22T12:48:25.470717669",
          "2024-08-22T12:48:25.534016848",
          "2024-08-22T12:48:25.597887278",
          "2024-08-22T12:48:25.663712502",
          "2024-08-22T12:48:25.727603674",
          "2024-08-22T12:48:25.795359135",
          "2024-08-22T12:48:25.857623100",
          "2024-08-22T12:48:25.918251038",
          "2024-08-22T12:48:25.983794451",
          "2024-08-22T12:48:26.045357943",
          "2024-08-22T12:48:26.110183716",
          "2024-08-22T12:48:26.178068399",
          "2024-08-22T12:48:26.238583803",
          "2024-08-22T12:48:26.303044558",
          "2024-08-22T12:48:26.366868734",
          "2024-08-22T12:48:26.429269552",
          "2024-08-22T12:48:26.494606733",
          "2024-08-22T12:48:26.558431387",
          "2024-08-22T12:48:26.622294426",
          "2024-08-22T12:48:26.687122345",
          "2024-08-22T12:48:26.749953985",
          "2024-08-22T12:48:26.814786673",
          "2024-08-22T12:48:26.882600784",
          "2024-08-22T12:48:26.942437887",
          "2024-08-22T12:48:27.006267548",
          "2024-08-22T12:48:27.073091030",
          "2024-08-22T12:48:27.133926392",
          "2024-08-22T12:48:27.201036692",
          "2024-08-22T12:48:27.265863656",
          "2024-08-22T12:48:27.326701403",
          "2024-08-22T12:48:27.390530109",
          "2024-08-22T12:48:27.454359531",
          "2024-08-22T12:48:27.519186257",
          "2024-08-22T12:48:27.586011410",
          "2024-08-22T12:48:27.649364233",
          "2024-08-22T12:48:27.713886976",
          "2024-08-22T12:48:27.775721550",
          "2024-08-22T12:48:27.839550734",
          "2024-08-22T12:48:27.902930737",
          "2024-08-22T12:48:27.967752457",
          "2024-08-22T12:48:28.030100107",
          "2024-08-22T12:48:28.093927860",
          "2024-08-22T12:48:28.157761335",
          "2024-08-22T12:48:28.222586393",
          "2024-08-22T12:48:28.288410664",
          "2024-08-22T12:48:28.350244761",
          "2024-08-22T12:48:28.414075375"
         ],
         "xaxis": "x2",
         "y": {
          "bdata": "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",
          "dtype": "f8"
         },
         "yaxis": "y2"
        },
        {
         "marker": {
          "color": "lightcoral"
         },
         "name": "Distribution",
         "nbinsx": 30,
         "opacity": 0.7,
         "type": "histogram",
         "x": {
          "bdata": "s1I1yYrj5z+inOuShTToP42KmphuSek/lV8Kymdp6j8nOm+t1KfnP9edW2CDvOk/rhowvbUM6z+oxFhffhfqP7jnfglHXOo/zB4LCZh46j+zN+W6KAfqP4W6gbfaWek/VPClpaqZ6T8jp5y55jTpP92j9Oi8l+g/lPVupQns6D/0XTLv2knoP0+aLglu6ec/da0LHDCB5z/oOKhklCDnP34y4bewVec/RCl4qVjw5j8qkLb44HHnP5jKwEG6z+Y/JIlIxH7B5j+bUy2OXGHmP5jqostwiOY/or0Xep1z5j9TYuRmBj/mP3NVJQBsD+Y/nGnz+qj55T8HPtY47JflP8s5oud6meU/AS69XVmT5T8YsJJwBeHkP2GXyold7OQ/uFxpPJoX5T+eY/xi4czkP4SQmaeKOeQ/GW9whu+h5D+dWZZ1/drkP1bquowereQ/8VIkFWHC5D9zQjGnfXDkP9WSLl83p+Q/JbMDTKuT5D/NCRJZDXHkP1WsVCIsDeQ/zu6FkwwC5D85i9tplbDjPyKw2OmojOM/hXCG9b724z/DmaWbdjDjPznu6R/e/uI/WpkBY9Co4j8wKJn764fiP+4lj/wGZuI/grYFiu024j9O0gsW/zXiP0reNYwRg+E/7z5XTIyj4T9Hw5rxsGvhP1Vqv25Qs+E/1HbRrSZ74T+Za2ZgJSHhPxMc8vrvA+E/DNfLQ9tf4T8Nm5isBIXhP8gwc5/WwOE/y8f6oaiR4T8UoO74OqbhP9fOONMhCOI/g25544Y34j+PgGRcCyniP1kABkDdN+I/4xN8yXUs4j+fkTz0Gi/iP7mVgh2bLuI/nbq475XZ4j83ZnlyCoriPwJ0ga8bsuI/U/PI2ISr4j+GkxYwMI7iP+lRzaGSyuI/oZJIwIdo4j/1mHb+G3LiPzESNVrpr+I/x0sbdRdk4j/M8H/efH3iPxGJjmtcluI/U49H5wKH4j/C1qurI3DiPynCffrzSeI/C/Orvrp04j8ittkIYWXiP5OmNaTXKeI/alswV71F4j9ks9IrVEXiP+03LTEULuI/DscIWkAS4j+i3Ovhh17iP/Ywd9MApeI/w5lKnanV4j+Mic/IT8ziP3mUEMWO9uI/twaCQVDn4j9wvWucSR/jP2JHGb4QD+M/VNNwxuku4z+T8OPUvfPjP5Py7/2mNuQ/hYQdWPFI5D+7cGicGEfkP5SrprJIWOQ/K3UKxfyB5D+MyRJDdp/kP0q1dRCEouQ/TdnFw4W65D/qh8gOugblP6v7/caXUuU/RwVjKC835T8JqG4OENHkP4sn32awNOU/ZVtBkkxp5T+hbcZ+LpXlP73lDYfAgeU/9pXOs/Ji5T+uvGgPJmLlP7QhyV6IcuU/MFfyGkbG5T8DeU7oxwnmPwB8Dnde5+U/J4S8TT9v4z8lMVeaXtTlPy7MpUiD1OU/6S7kgeVJ5j8PWSsh007mP9g+jFjlT+Y/CK6VKIle5j/waZICtYLmPwBg7yLJ4uY/9zMtTCi65j/tMxe+n77mP3jKyxRI5eY/7sjVmtTi5j+eeO4ZGPnmPwkglQxe/+Y/ihVihGoK5z8jdHKB1/DmPwub60o0Euc/m/llaoMW5z8hnDwnN03mP6IqhuQiv+Y/MQnefcyh5j/rzz7OG5TmP0M7P7LhJ+Y/8VnBsvd15j9ZGcTHITLmP/xiwI6lNeY/7a/wKm7t5T+BRdEKCLflP32vorxVx+U/ByllzVXt5T+I9/APb4HlP2Nmaqai5+U/JRcRPoP65T/fT2WZO1DmPw4fEvOeTOY/U8KC9rBY5j91y5DXxHHmP2tY4J/1GOY/Vh4hN9lr5j8mbHM5IUbmP29ff937a+Y/5HgT0Xno5T8wO6UKf0XmP67vRPE78OU/MhbumuER5j92AKsEgLjlP6J3AAdo/+U/5ZsK1KYF5j+ZsXOR5xTmP+/6HkLm0uU/9245odPd5T88Isuqb7rlP+xLwEebteg/QdyQWnAR5j8MV/jV4pnmP3YzYr4HDuY/FfIt+hjU5T8qahfoX+jlPyt+mN32tOU/CBBnkPHB5T+JSi0O8aflP3eHJDDBz+U/Jhzw93hQ5T+58URyDk3lPw2SsllJW+U/HbMltrWr5T/4S9NPAI3lP4qkB5A9guU/3SizR0Kj5T/O9sp2FW7lP41YI+fXaeU/dmuT6GNT5T/OfiNqt5vlP1atanTDqOU/Pt3dJzqe5T9mOveE2YPlP21IOjuueOU/vyvZy3C15T9kbwW4xKvlP4DIbTKmyOU/e8A5Xjev5T944bzg0pvlP93eglAbH+g/pUdLWmeR5z/fyt/GiavlPyOhiw6I1Oc/CquZ3vWd6D8Kj9t+bPrnP9n/sGy1r+g/+oAk9hcK6D/zwMS9mR3oP1TNDnAB6eg/t/atqGt36T9DYbe9rBLoPw1IUJ44Jek/1bhXzLoJ6j8iacWyhe/oP8JD9LX6aOU/VXDuR2iB5T/erXDMAXXlP+Nho1HAlOU/SU9mmaFr5T+/U13MPkHlP7Z2fjOCLuU/2YIZD8Aw5T+QnOv0qQblP1qsr5yRz+Q/roa8bcPn5D9vTDRfwxHlP6agbYrz1+Q/HoxOF4sV5T80O3OPPsTkP6T8mVKxAeU/qx8Nr4SB5T9OEVw0vCjlP7kHea38GOU/17JhWu425T90SwJI5xvlP+TI9pSe6OQ/6p6Lv5/m5D8oKlUcjwzlP05OFhwRIuU/ui+Fn71l5T8iGD9VaOXkPws7MMi6guU/A4mH206a5T+1weQ9qrTlPxOi/hk3m+U/Ssl1Rn7V5T+FVp2Wzi/mP5EbK2aCGOY/gAu1apxc5j+BcqRpNFnmPxjt/6TyheY/4cXLGGGW5j+vMQ7Q17/mPxWfB/KBueY/hUsHBHXP5j94YdFa1t7mP1HJxERAkOY/g0vcKJNK5j9sR9+xYYDmP6wbjIRAjeY/DcSjhWCH5j9zZcNRNR/mPyObSiWwQ+Y/f77L4svL5T+7mfDi1OLlP03UiCCxdeU/qDV9kUNh5T/a1eNquKblP6l+/VXnF+Y/BYvPLD0H5j+JKOaa5DznPzg3htMuL+U/1EjU0YBG5z+Zwe9qaknnP8dRcEA89+Y/PIHRY8lb5z8NfYqw3CLnP7vownSkCOc/qhLiZm+g5j+DHL5JI7nmPzbvmhZP/+Y/eHuegW/B5j/kO2fwrgjnP/QzJOMGEec/r14zHahx5z8iBnkgrPDlP4WCy/2SguU/dVqRPqVa5T9yxHt45DzlP+gY/IOASeY/eUzqM4N+5T8aL1biamLlP3oCkxSAfeU/KTQTdC9P5T+Uag+q1zflP6OdaZPYeOU/kZz8aFpG5T8pRhM+B1blP9Bq/XEn8OQ/X5GxIi4P5T/VMirC9B/lPylm3X7U9uQ/sqQfjNyE5D/MHvP4T53kP+bj5L/s5eQ/6/EoWgPh5D9GtaykffjkP478J4YatOQ/fbns7Zmv5D+OSil8j8LkP/QfidTzF+U/BCvDRbzY5D9jW2T9HsbkPzdbjqD89+Q/FJiexYIb5T/NVScXqkTlP+Yi8sJ+8OQ/abDwKGGE5T85CugmrpblP9+TTWmKbOU/NmQcmjxh5T88qKcgSJjlP2coqnExluU/4maGbN1w5T+cepc/gB7lP4+9W0TraOU/gIcq79bp5D+P/c3F7xPlP/f8tn2iR+U/BHvIJuFJ5T8dFpQk+hTlP7OFgNmK+eQ/cA/vRudG5T+e07cxyhDlP9/xRcTnE+U/cLvkalAh5T8AcGjZafLkP5N/uMSwIeU/RUL6+0EK5T/usFc6VAnlP/hYAOipUOU/9hUhVWAb5T/tES3Dcn/lP1AjFvAcqOU/KhBmKzT45T+Eo9KRn8jlP0k65Gy86OU/V0sC4QsB5j8uL4stSwPmPxlVjX43+OU/g8igZbA+5j+SHZXU3ozmP2xAiizAX+Y/aJajEXgx5z+exl6bnRvnP4PdpsfTVOc/I+zt+sYm5z86fThdZTDnPyh5x5mgSuc/Q/YHtHdP5z+MkV2M12DnP8mjyhGp3uY/Serl9YWe5j/g3mxatmbmP2AEVfilP+Y/kgCOcuAk5j8pUqOjABbmP8fREZ9LQuY/vaytsyq75T/s1ODG3mrlP+95lShiYOU/CS3j9EJh5T8DGSnov+TlPwm5Na0d++U/sTfp2km65T/mI3xTmp7lPy5/YPgXlOU/zKdeZrBC5T852nh3WTrlP25J+7TSXeU/GZTUTx395D/UAdoLPtnkP9fgXZhFD+U/Lh8HtoIu5T+U49BC7BHlPxfnmsMKfeU/NpyRI1hn5T+hYpHODkrlP4vQ08pGQeU/6lHKsS6n5T82xJG39eHlP2Xv0d1M4uU/amNGHn0o5j+2w/RK5vrmPyXCZsTz5OY/upgllvrO5j8N3fm5wNDmP1Ien2NFHuc/JA6WHdIi5z9aNtEstDbnP2sUbImlO+c/ShHYiCxR5z/uWC6K1VjnPzHk2yJCHOc/XT6tnYH05j8/czsVeKvmPwtRZoh6juY/DButlvyo5j8JMC5lCqvmP/h2mVyBRuY/sITomwUz5j+lE6MjyyvmP0jmSvB0GOY/wo0DTA4i5j+0zdokcEHmP5veJ9YFAuY/nybxJabN5T8qYzTZRp7lP26w3Jl8uOU/+cpDcxZf5T/7rHHuIj/lP6AesP3lG+U/LPHZCJ1W5T+jN+0iNT7lPwl3xMwp/eQ/BF3KJuFH5T8Xe7OfZE7lP8W4rqqLP+U/Ml738o795D8rrnBf9gzlP1STeRTlW+U/w5gTCfkK5T+bp3CKyQHlP2kzXA6sQeU/xt/qNl0Q5T8MJE+i6xPlP74vMFBd8OQ/2eOlEboz5T9DXEhKwj3lP/B1efcbReU/XQnuoTxM5T8C7a+I1WTlPypyMzVDmuU/FLVYfcA45T9A5/ShrHjlPys+YxgYJuU/dCLBmmIk5T+1WJChdTTlP1C++O1HIOU/3jUSyzJn5T/O7qDMcPPkP36axmosCeU/eIBjT+4E5T+EGhFM/6DkP51AHx6BzeQ/00Tpkmrb5D+AUrj7gabkP992+dhXTOQ/YXwgwglQ5D87HqeMvErkP0VSZxjCdOQ/FQwMXN1r5D9Rk/wEkqLkP07hmosmduQ/qF8jRBb44z9s7H3Ua2rkP0rxqtbMOuQ/Ixqiz7Yu5D/i516a9UvkP3EHX5bxOOQ/00Ik2+sz5D+VI+bfDOzjP7qQ+Dw7uuM/KZDuFe0X5D9xwpfCJ+rjP4NI9M0b5uM/s5w/5kB94z/9rqdFLMTjPzaFtoUyAuQ/+BcZrlev4z9eirVVZtbjP3EEbi20++M/I/f6FU6j4z+WyrIA0SfkPxbdjh6/HeQ/8SlW5E4R5D+G1U3qP1zkPx8/kbMLxeQ/aGm0mm6m5D9LYYZAHqzkP2KAxdQF7+Q/itka6Fbx5D/Dr2LK+SPlP8nREkLMK+U/Rfdso3FB5T9gW02PKGTlP9DX0rvxq+U/jOlGAJR75T/dL1VEBW7lP6Ft4uMXmOU/8KQ9HSZn5T+sbS77cGvlP5aJIbr2guU/hXWCRCGb5T+OdB+BDJXlP5NU9U/apOU/ZZRhiF275T8ThPzE77blPzrvGynFu+U/8kLGAhmW5T/uzHwwQaHlP9muSFKBq+U/L7XO2rmN5T8fcLhchSLlPyMY+26QcOU/jDC9UVBU5T8uknCe6lTlP9N7nZdQXuU/yXHFdM8K5T+WVnRF1R/lPzEam5WLQOU/cSRopVNN5T/tU1YZbE/lP9ViBEwHOuU/77Q0Viwc5T/AcUEGzA7lPzvgbl1il+Q/3zYhR0LQ5D9bf4dDNzflP4NmDoK2NeU/tLm7shEz5T8V392TGzflPzTQgc5MdOU/eKRV1ma65T/JfK718q3lPwRerbAir+U/TtYpi9r75T+ajCzt6hvmPwA7NxCHVOY/T9Alb8mh5j/uRZH13b/mPzixY+NXceY/q2yZXWug5j+jBUzWt/PmP57KWnS9Jec/cXu/bpQQ5z/U+aQKnw3nP6fl9F9kAOc/lpknC6cW5z8cH/nkdg3nP2PIlU1b4+Y/fq9ayPeX5j+jpXhgfaPmP9xecSS1iOY/gxnQc21e5j9ew9Z4yzDmP3hVT2TeEeY/cGHa1VTf5T/D/lRokLjlP64YcAgp4eU/cdXY9gPF5T++tFfoz9LlPy6Py+TPA+Y/J2lGVG4D5j9jfhEsYirmP8Nrvf8tGeY/Q1RXu7v/5T9TswbB5ublP076PXaly+U/ToFc5lnV5T+fGEkQJ67lPzIOWpgZ6eU/p3kVLMTa5T/x7MLDOwfmP9wQALaQx+U/1yfh22Xt5T9KwRuqyO7lPylBh6usxOU/F8UvpqHb5T8DSc1A6PjlP5a1EaunsuU/mAi/KhYN4T+qtMgaERrmP6NzDzvvTeY/EMPV6ROF5j/J4gMhyGLmPyoPCzTsPeY/V7iqlTlr5j/fWSCTdJDmP7ksQr1UtuA/58vIMfVz4D94k9j28+/gP0auOTy7E+I/grLXkOur3z9dSvNsrQThP8p7fIiLQeI/tJ9AorDx4j9dJjlHwlrjP4SaAXyk0OA/NXMPYKvP4D8fhy2ehb/gP040Tmi5OOA/H5aiFhRW4D8FtA65/A3iP/Y30odevuE/zoMG9P+S4j9Zs4WU1kviPyAtQBvQgOI/SSf2ZLfy4T95Ja8a2AviP3MsA+yjAOI/ySACTYA94T+3cI8WrcLgP3SlLU0bfuA/dFd+Nsxg4D/6mSOqyqrhP9dC8LT8V+E/qET7TMY74T8q3t5NjFjiP/ngTLqGNeI/Lt+8jiym4T/qOSXcZ4LhP3/2+H9uXeE/FF1/oqq44T90uI7ST1LiPy6hHJzlC+I/pO+J1piz4T+/ZJ7GwgXiPxmFic0E0+I/oMKsg8cV4z9L0cy5RL7iP7k4ixj9wOI/ZdaR1xn/4j+KKSJVyAjjP1ycO4CPkOI/gtwiJKUi4z/J79gAQTPlPwR8VJMJ7eQ/xGxZPyxm5T8s4mJZDTLlP+0XT3X6JOU/7IS9uAqO5T+L+X2fkFTlP/eCpMtQZuU/vymD+I0+5T9VnnS4zXXlPy4yOI33gOU/7TeJJ4Og5T/4jU4+7NflP+PdHjNYweU/axIKOOi15T/RQbQk9Z7lP535My0WsuU/HThWAJax5T9jB1V8W7vlP7suawQdm+U/jnyzRQjB5T+CwYOGmOXlP06judiy5uU/CULG8Ha35T/fTz6UsKblP8//3r78xOU/v/oq8e/z5T8Uw0R0kuHlP9zE96wbtuU/T5xs+T+q5T/w8bzM5rXlP7Cxj75SyuU/ys9B3ea95T81c4Dv5gnmPyDoRnkgC+Y/CqokRTjj5T8l0s/hWgjmP5h/kgU+JOY/ToivHwRN5j9NsdkxoV/mP9MUnrqrOOY/A+TAibJa5j+ydYKb5XHmP4wuJ435VeY/e1fyOlh35j84Ay7kYanmPyrbNWlCFuc/+CRD79Tw5j+sCBqgQgrnPw78CUsjn+Y/sEkBWmz05j9bsHQyke7mP5s7QLHB2uY/hyUxeW7w5j/YB3sD/vbmP3H0bR/TCuc/XoqUejq35j9OK8Igi7/mPzecgk/v2eY/4TebePOM5j/UBpT3u0XmP/EaARUdh+Y/CskJ3YQ65j8kF8w8K/zlPziRRv6jzOU/aZzOcFs+5j868q0k7WjmP/Sw2IWqQOY/9jL9BIoi5j+TLv0ZRszlP1TWvjeLluU/3dhSv1Wp5T/6Ub8MJRTlPw==",
          "dtype": "f8"
         },
         "xaxis": "x3",
         "yaxis": "y3"
        },
        {
         "line": {
          "color": "lightcoral",
          "width": 1
         },
         "mode": "lines",
         "name": "Raw",
         "opacity": 0.5,
         "type": "scatter",
         "x": {
          "bdata": "AQACAAMABAAFAAYABwAIAAkACgALAAwADQAOAA8AEAARABIAEwAUABUAFgAXABgAGQAaABsAHAAdAB4AHwAgACEAIgAjACQAJQAmACcAKAApACoAKwAsAC0ALgAvADAAMQAyADMANAA1ADYANwA4ADkAOgA7ADwAPQA+AD8AQABBAEIAQwBEAEUARgBHAEgASQBKAEsATABNAE4ATwBQAFEAUgBTAFQAVQBWAFcAWABZAFoAWwBcAF0AXgBfAGAAYQBiAGMAZABlAGYAZwBoAGkAagBrAGwAbQBuAG8AcABxAHIAcwB0AHUAdgB3AHgAeQB6AHsAfAB9AH4AfwCAAIEAggCDAIQAhQCGAIcAiACJAIoAiwCMAI0AjgCPAJAAkQCSAJMAlACVAJYAlwCYAJkAmgCbAJwAnQCeAJ8AoAChAKIAowCkAKUApgCnAKgAqQCqAKsArACtAK4ArwCwALEAsgCzALQAtQC2ALcAuAC5ALoAuwC8AL0AvgC/AMAAwQDCAMMAxADFAMYAxwDIAMkAygDLAMwAzQDOAM8A0ADRANIA0wDUANUA1gDXANgA2QDaANsA3ADdAN4A3wDgAOEA4gDjAOQA5QDmAOcA6ADpAOoA6wDsAO0A7gDvAPAA8QDyAPMA9AD1APYA9wD4APkA+gD7APwA/QD+AP8AAAEBAQIBAwEEAQUBBgEHAQgBCQEKAQsBDAENAQ4BDwEQAREBEgETARQBFQEWARcBGAEZARoBGwEcAR0BHgEfASABIQEiASMBJAElASYBJwEoASkBKgErASwBLQEuAS8BMAExATIBMwE0ATUBNgE3ATgBOQE6ATsBPAE9AT4BPwFAAUEBQgFDAUQBRQFGAUcBSAFJAUoBSwFMAU0BTgFPAVABUQFSAVMBVAFVAVYBVwFYAVkBWgFbAVwBXQFeAV8BYAFhAWIBYwFkAWUBZgFnAWgBaQFqAWsBbAFtAW4BbwFwAXEBcgFzAXQBdQF2AXcBeAF5AXoBewF8AX0BfgF/AYABgQGCAYMBhAGFAYYBhwGIAYkBigGLAYwBjQGOAY8BkAGRAZIBkwGUAZUBlgGXAZgBmQGaAZsBnAGdAZ4BnwGgAaEBogGjAaQBpQGmAacBqAGpAaoBqwGsAa0BrgGvAbABsQGyAbMBtAG1AbYBtwG4AbkBugG7AbwBvQG+Ab8BwAHBAcIBwwHEAcUBxgHHAcgByQHKAcsBzAHNAc4BzwHQAdEB0gHTAdQB1QHWAdcB2AHZAdoB2wHcAd0B3gHfAeAB4QHiAeMB5AHlAeYB5wHoAekB6gHrAewB7QHuAe8B8AHxAfIB8wH0AfUB9gH3AfgB+QH6AfsB/AH9Af4B/wEAAgECAgIDAgQCBQIGAgcCCAIJAgoCCwIMAg0CDgIPAhACEQISAhMCFAIVAhYCFwIYAhkCGgIbAhwCHQIeAh8CIAIhAiICIwIkAiUCJgInAigCKQIqAisCLAItAi4CLwIwAjECMgIzAjQCNQI2AjcCOAI5AjoCOwI8Aj0CPgI/AkACQQJCAkMCRAJFAkYCRwJIAkkCSgJLAkwCTQJOAk8CUAJRAlICUwJUAlUCVgJXAlgCWQJaAlsCXAJdAl4CXwJgAmECYgJjAmQCZQJmAmcCaAJpAmoCawJsAm0CbgJvAnACcQJyAnMCdAJ1AnYCdwJ4AnkCegJ7AnwCfQJ+An8CgAKBAoICgwKEAoUChgKHAogCiQKKAosCjAKNAo4CjwKQApECkgKTApQClQKWApcCmAKZApoCmwKcAp0CngKfAqACoQKiAqMCpAKlAqYCpwKoAqkCqgKrAqwCrQKuAq8CsAKxArICswK0ArUCtgK3ArgCuQK6ArsCvAK9Ar4CvwLAAsECwgLDAsQCxQLGAscCyALJAsoCywLMAs0CzgLPAtAC0QLSAtMC1ALVAg==",
          "dtype": "i2"
         },
         "xaxis": "x4",
         "y": {
          "bdata": "s1I1yYrj5z+inOuShTToP42KmphuSek/lV8Kymdp6j8nOm+t1KfnP9edW2CDvOk/rhowvbUM6z+oxFhffhfqP7jnfglHXOo/zB4LCZh46j+zN+W6KAfqP4W6gbfaWek/VPClpaqZ6T8jp5y55jTpP92j9Oi8l+g/lPVupQns6D/0XTLv2knoP0+aLglu6ec/da0LHDCB5z/oOKhklCDnP34y4bewVec/RCl4qVjw5j8qkLb44HHnP5jKwEG6z+Y/JIlIxH7B5j+bUy2OXGHmP5jqostwiOY/or0Xep1z5j9TYuRmBj/mP3NVJQBsD+Y/nGnz+qj55T8HPtY47JflP8s5oud6meU/AS69XVmT5T8YsJJwBeHkP2GXyold7OQ/uFxpPJoX5T+eY/xi4czkP4SQmaeKOeQ/GW9whu+h5D+dWZZ1/drkP1bquowereQ/8VIkFWHC5D9zQjGnfXDkP9WSLl83p+Q/JbMDTKuT5D/NCRJZDXHkP1WsVCIsDeQ/zu6FkwwC5D85i9tplbDjPyKw2OmojOM/hXCG9b724z/DmaWbdjDjPznu6R/e/uI/WpkBY9Co4j8wKJn764fiP+4lj/wGZuI/grYFiu024j9O0gsW/zXiP0reNYwRg+E/7z5XTIyj4T9Hw5rxsGvhP1Vqv25Qs+E/1HbRrSZ74T+Za2ZgJSHhPxMc8vrvA+E/DNfLQ9tf4T8Nm5isBIXhP8gwc5/WwOE/y8f6oaiR4T8UoO74OqbhP9fOONMhCOI/g25544Y34j+PgGRcCyniP1kABkDdN+I/4xN8yXUs4j+fkTz0Gi/iP7mVgh2bLuI/nbq475XZ4j83ZnlyCoriPwJ0ga8bsuI/U/PI2ISr4j+GkxYwMI7iP+lRzaGSyuI/oZJIwIdo4j/1mHb+G3LiPzESNVrpr+I/x0sbdRdk4j/M8H/efH3iPxGJjmtcluI/U49H5wKH4j/C1qurI3DiPynCffrzSeI/C/Orvrp04j8ittkIYWXiP5OmNaTXKeI/alswV71F4j9ks9IrVEXiP+03LTEULuI/DscIWkAS4j+i3Ovhh17iP/Ywd9MApeI/w5lKnanV4j+Mic/IT8ziP3mUEMWO9uI/twaCQVDn4j9wvWucSR/jP2JHGb4QD+M/VNNwxuku4z+T8OPUvfPjP5Py7/2mNuQ/hYQdWPFI5D+7cGicGEfkP5SrprJIWOQ/K3UKxfyB5D+MyRJDdp/kP0q1dRCEouQ/TdnFw4W65D/qh8gOugblP6v7/caXUuU/RwVjKC835T8JqG4OENHkP4sn32awNOU/ZVtBkkxp5T+hbcZ+LpXlP73lDYfAgeU/9pXOs/Ji5T+uvGgPJmLlP7QhyV6IcuU/MFfyGkbG5T8DeU7oxwnmPwB8Dnde5+U/J4S8TT9v4z8lMVeaXtTlPy7MpUiD1OU/6S7kgeVJ5j8PWSsh007mP9g+jFjlT+Y/CK6VKIle5j/waZICtYLmPwBg7yLJ4uY/9zMtTCi65j/tMxe+n77mP3jKyxRI5eY/7sjVmtTi5j+eeO4ZGPnmPwkglQxe/+Y/ihVihGoK5z8jdHKB1/DmPwub60o0Euc/m/llaoMW5z8hnDwnN03mP6IqhuQiv+Y/MQnefcyh5j/rzz7OG5TmP0M7P7LhJ+Y/8VnBsvd15j9ZGcTHITLmP/xiwI6lNeY/7a/wKm7t5T+BRdEKCLflP32vorxVx+U/ByllzVXt5T+I9/APb4HlP2Nmaqai5+U/JRcRPoP65T/fT2WZO1DmPw4fEvOeTOY/U8KC9rBY5j91y5DXxHHmP2tY4J/1GOY/Vh4hN9lr5j8mbHM5IUbmP29ff937a+Y/5HgT0Xno5T8wO6UKf0XmP67vRPE78OU/MhbumuER5j92AKsEgLjlP6J3AAdo/+U/5ZsK1KYF5j+ZsXOR5xTmP+/6HkLm0uU/9245odPd5T88Isuqb7rlP+xLwEebteg/QdyQWnAR5j8MV/jV4pnmP3YzYr4HDuY/FfIt+hjU5T8qahfoX+jlPyt+mN32tOU/CBBnkPHB5T+JSi0O8aflP3eHJDDBz+U/Jhzw93hQ5T+58URyDk3lPw2SsllJW+U/HbMltrWr5T/4S9NPAI3lP4qkB5A9guU/3SizR0Kj5T/O9sp2FW7lP41YI+fXaeU/dmuT6GNT5T/OfiNqt5vlP1atanTDqOU/Pt3dJzqe5T9mOveE2YPlP21IOjuueOU/vyvZy3C15T9kbwW4xKvlP4DIbTKmyOU/e8A5Xjev5T944bzg0pvlP93eglAbH+g/pUdLWmeR5z/fyt/GiavlPyOhiw6I1Oc/CquZ3vWd6D8Kj9t+bPrnP9n/sGy1r+g/+oAk9hcK6D/zwMS9mR3oP1TNDnAB6eg/t/atqGt36T9DYbe9rBLoPw1IUJ44Jek/1bhXzLoJ6j8iacWyhe/oP8JD9LX6aOU/VXDuR2iB5T/erXDMAXXlP+Nho1HAlOU/SU9mmaFr5T+/U13MPkHlP7Z2fjOCLuU/2YIZD8Aw5T+QnOv0qQblP1qsr5yRz+Q/roa8bcPn5D9vTDRfwxHlP6agbYrz1+Q/HoxOF4sV5T80O3OPPsTkP6T8mVKxAeU/qx8Nr4SB5T9OEVw0vCjlP7kHea38GOU/17JhWu425T90SwJI5xvlP+TI9pSe6OQ/6p6Lv5/m5D8oKlUcjwzlP05OFhwRIuU/ui+Fn71l5T8iGD9VaOXkPws7MMi6guU/A4mH206a5T+1weQ9qrTlPxOi/hk3m+U/Ssl1Rn7V5T+FVp2Wzi/mP5EbK2aCGOY/gAu1apxc5j+BcqRpNFnmPxjt/6TyheY/4cXLGGGW5j+vMQ7Q17/mPxWfB/KBueY/hUsHBHXP5j94YdFa1t7mP1HJxERAkOY/g0vcKJNK5j9sR9+xYYDmP6wbjIRAjeY/DcSjhWCH5j9zZcNRNR/mPyObSiWwQ+Y/f77L4svL5T+7mfDi1OLlP03UiCCxdeU/qDV9kUNh5T/a1eNquKblP6l+/VXnF+Y/BYvPLD0H5j+JKOaa5DznPzg3htMuL+U/1EjU0YBG5z+Zwe9qaknnP8dRcEA89+Y/PIHRY8lb5z8NfYqw3CLnP7vownSkCOc/qhLiZm+g5j+DHL5JI7nmPzbvmhZP/+Y/eHuegW/B5j/kO2fwrgjnP/QzJOMGEec/r14zHahx5z8iBnkgrPDlP4WCy/2SguU/dVqRPqVa5T9yxHt45DzlP+gY/IOASeY/eUzqM4N+5T8aL1biamLlP3oCkxSAfeU/KTQTdC9P5T+Uag+q1zflP6OdaZPYeOU/kZz8aFpG5T8pRhM+B1blP9Bq/XEn8OQ/X5GxIi4P5T/VMirC9B/lPylm3X7U9uQ/sqQfjNyE5D/MHvP4T53kP+bj5L/s5eQ/6/EoWgPh5D9GtaykffjkP478J4YatOQ/fbns7Zmv5D+OSil8j8LkP/QfidTzF+U/BCvDRbzY5D9jW2T9HsbkPzdbjqD89+Q/FJiexYIb5T/NVScXqkTlP+Yi8sJ+8OQ/abDwKGGE5T85CugmrpblP9+TTWmKbOU/NmQcmjxh5T88qKcgSJjlP2coqnExluU/4maGbN1w5T+cepc/gB7lP4+9W0TraOU/gIcq79bp5D+P/c3F7xPlP/f8tn2iR+U/BHvIJuFJ5T8dFpQk+hTlP7OFgNmK+eQ/cA/vRudG5T+e07cxyhDlP9/xRcTnE+U/cLvkalAh5T8AcGjZafLkP5N/uMSwIeU/RUL6+0EK5T/usFc6VAnlP/hYAOipUOU/9hUhVWAb5T/tES3Dcn/lP1AjFvAcqOU/KhBmKzT45T+Eo9KRn8jlP0k65Gy86OU/V0sC4QsB5j8uL4stSwPmPxlVjX43+OU/g8igZbA+5j+SHZXU3ozmP2xAiizAX+Y/aJajEXgx5z+exl6bnRvnP4PdpsfTVOc/I+zt+sYm5z86fThdZTDnPyh5x5mgSuc/Q/YHtHdP5z+MkV2M12DnP8mjyhGp3uY/Serl9YWe5j/g3mxatmbmP2AEVfilP+Y/kgCOcuAk5j8pUqOjABbmP8fREZ9LQuY/vaytsyq75T/s1ODG3mrlP+95lShiYOU/CS3j9EJh5T8DGSnov+TlPwm5Na0d++U/sTfp2km65T/mI3xTmp7lPy5/YPgXlOU/zKdeZrBC5T852nh3WTrlP25J+7TSXeU/GZTUTx395D/UAdoLPtnkP9fgXZhFD+U/Lh8HtoIu5T+U49BC7BHlPxfnmsMKfeU/NpyRI1hn5T+hYpHODkrlP4vQ08pGQeU/6lHKsS6n5T82xJG39eHlP2Xv0d1M4uU/amNGHn0o5j+2w/RK5vrmPyXCZsTz5OY/upgllvrO5j8N3fm5wNDmP1Ien2NFHuc/JA6WHdIi5z9aNtEstDbnP2sUbImlO+c/ShHYiCxR5z/uWC6K1VjnPzHk2yJCHOc/XT6tnYH05j8/czsVeKvmPwtRZoh6juY/DButlvyo5j8JMC5lCqvmP/h2mVyBRuY/sITomwUz5j+lE6MjyyvmP0jmSvB0GOY/wo0DTA4i5j+0zdokcEHmP5veJ9YFAuY/nybxJabN5T8qYzTZRp7lP26w3Jl8uOU/+cpDcxZf5T/7rHHuIj/lP6AesP3lG+U/LPHZCJ1W5T+jN+0iNT7lPwl3xMwp/eQ/BF3KJuFH5T8Xe7OfZE7lP8W4rqqLP+U/Ml738o795D8rrnBf9gzlP1STeRTlW+U/w5gTCfkK5T+bp3CKyQHlP2kzXA6sQeU/xt/qNl0Q5T8MJE+i6xPlP74vMFBd8OQ/2eOlEboz5T9DXEhKwj3lP/B1efcbReU/XQnuoTxM5T8C7a+I1WTlPypyMzVDmuU/FLVYfcA45T9A5/ShrHjlPys+YxgYJuU/dCLBmmIk5T+1WJChdTTlP1C++O1HIOU/3jUSyzJn5T/O7qDMcPPkP36axmosCeU/eIBjT+4E5T+EGhFM/6DkP51AHx6BzeQ/00Tpkmrb5D+AUrj7gabkP992+dhXTOQ/YXwgwglQ5D87HqeMvErkP0VSZxjCdOQ/FQwMXN1r5D9Rk/wEkqLkP07hmosmduQ/qF8jRBb44z9s7H3Ua2rkP0rxqtbMOuQ/Ixqiz7Yu5D/i516a9UvkP3EHX5bxOOQ/00Ik2+sz5D+VI+bfDOzjP7qQ+Dw7uuM/KZDuFe0X5D9xwpfCJ+rjP4NI9M0b5uM/s5w/5kB94z/9rqdFLMTjPzaFtoUyAuQ/+BcZrlev4z9eirVVZtbjP3EEbi20++M/I/f6FU6j4z+WyrIA0SfkPxbdjh6/HeQ/8SlW5E4R5D+G1U3qP1zkPx8/kbMLxeQ/aGm0mm6m5D9LYYZAHqzkP2KAxdQF7+Q/itka6Fbx5D/Dr2LK+SPlP8nREkLMK+U/Rfdso3FB5T9gW02PKGTlP9DX0rvxq+U/jOlGAJR75T/dL1VEBW7lP6Ft4uMXmOU/8KQ9HSZn5T+sbS77cGvlP5aJIbr2guU/hXWCRCGb5T+OdB+BDJXlP5NU9U/apOU/ZZRhiF275T8ThPzE77blPzrvGynFu+U/8kLGAhmW5T/uzHwwQaHlP9muSFKBq+U/L7XO2rmN5T8fcLhchSLlPyMY+26QcOU/jDC9UVBU5T8uknCe6lTlP9N7nZdQXuU/yXHFdM8K5T+WVnRF1R/lPzEam5WLQOU/cSRopVNN5T/tU1YZbE/lP9ViBEwHOuU/77Q0Viwc5T/AcUEGzA7lPzvgbl1il+Q/3zYhR0LQ5D9bf4dDNzflP4NmDoK2NeU/tLm7shEz5T8V392TGzflPzTQgc5MdOU/eKRV1ma65T/JfK718q3lPwRerbAir+U/TtYpi9r75T+ajCzt6hvmPwA7NxCHVOY/T9Alb8mh5j/uRZH13b/mPzixY+NXceY/q2yZXWug5j+jBUzWt/PmP57KWnS9Jec/cXu/bpQQ5z/U+aQKnw3nP6fl9F9kAOc/lpknC6cW5z8cH/nkdg3nP2PIlU1b4+Y/fq9ayPeX5j+jpXhgfaPmP9xecSS1iOY/gxnQc21e5j9ew9Z4yzDmP3hVT2TeEeY/cGHa1VTf5T/D/lRokLjlP64YcAgp4eU/cdXY9gPF5T++tFfoz9LlPy6Py+TPA+Y/J2lGVG4D5j9jfhEsYirmP8Nrvf8tGeY/Q1RXu7v/5T9TswbB5ublP076PXaly+U/ToFc5lnV5T+fGEkQJ67lPzIOWpgZ6eU/p3kVLMTa5T/x7MLDOwfmP9wQALaQx+U/1yfh22Xt5T9KwRuqyO7lPylBh6usxOU/F8UvpqHb5T8DSc1A6PjlP5a1EaunsuU/mAi/KhYN4T+qtMgaERrmP6NzDzvvTeY/EMPV6ROF5j/J4gMhyGLmPyoPCzTsPeY/V7iqlTlr5j/fWSCTdJDmP7ksQr1UtuA/58vIMfVz4D94k9j28+/gP0auOTy7E+I/grLXkOur3z9dSvNsrQThP8p7fIiLQeI/tJ9AorDx4j9dJjlHwlrjP4SaAXyk0OA/NXMPYKvP4D8fhy2ehb/gP040Tmi5OOA/H5aiFhRW4D8FtA65/A3iP/Y30odevuE/zoMG9P+S4j9Zs4WU1kviPyAtQBvQgOI/SSf2ZLfy4T95Ja8a2AviP3MsA+yjAOI/ySACTYA94T+3cI8WrcLgP3SlLU0bfuA/dFd+Nsxg4D/6mSOqyqrhP9dC8LT8V+E/qET7TMY74T8q3t5NjFjiP/ngTLqGNeI/Lt+8jiym4T/qOSXcZ4LhP3/2+H9uXeE/FF1/oqq44T90uI7ST1LiPy6hHJzlC+I/pO+J1piz4T+/ZJ7GwgXiPxmFic0E0+I/oMKsg8cV4z9L0cy5RL7iP7k4ixj9wOI/ZdaR1xn/4j+KKSJVyAjjP1ycO4CPkOI/gtwiJKUi4z/J79gAQTPlPwR8VJMJ7eQ/xGxZPyxm5T8s4mJZDTLlP+0XT3X6JOU/7IS9uAqO5T+L+X2fkFTlP/eCpMtQZuU/vymD+I0+5T9VnnS4zXXlPy4yOI33gOU/7TeJJ4Og5T/4jU4+7NflP+PdHjNYweU/axIKOOi15T/RQbQk9Z7lP535My0WsuU/HThWAJax5T9jB1V8W7vlP7suawQdm+U/jnyzRQjB5T+CwYOGmOXlP06judiy5uU/CULG8Ha35T/fTz6UsKblP8//3r78xOU/v/oq8e/z5T8Uw0R0kuHlP9zE96wbtuU/T5xs+T+q5T/w8bzM5rXlP7Cxj75SyuU/ys9B3ea95T81c4Dv5gnmPyDoRnkgC+Y/CqokRTjj5T8l0s/hWgjmP5h/kgU+JOY/ToivHwRN5j9NsdkxoV/mP9MUnrqrOOY/A+TAibJa5j+ydYKb5XHmP4wuJ435VeY/e1fyOlh35j84Ay7kYanmPyrbNWlCFuc/+CRD79Tw5j+sCBqgQgrnPw78CUsjn+Y/sEkBWmz05j9bsHQyke7mP5s7QLHB2uY/hyUxeW7w5j/YB3sD/vbmP3H0bR/TCuc/XoqUejq35j9OK8Igi7/mPzecgk/v2eY/4TebePOM5j/UBpT3u0XmP/EaARUdh+Y/CskJ3YQ65j8kF8w8K/zlPziRRv6jzOU/aZzOcFs+5j868q0k7WjmP/Sw2IWqQOY/9jL9BIoi5j+TLv0ZRszlP1TWvjeLluU/3dhSv1Wp5T/6Ub8MJRTlPw==",
          "dtype": "f8"
         },
         "yaxis": "y4"
        },
        {
         "line": {
          "color": "darkred",
          "width": 3
         },
         "mode": "lines",
         "name": "Smoothed (n=36)",
         "type": "scatter",
         "x": {
          "bdata": "AQACAAMABAAFAAYABwAIAAkACgALAAwADQAOAA8AEAARABIAEwAUABUAFgAXABgAGQAaABsAHAAdAB4AHwAgACEAIgAjACQAJQAmACcAKAApACoAKwAsAC0ALgAvADAAMQAyADMANAA1ADYANwA4ADkAOgA7ADwAPQA+AD8AQABBAEIAQwBEAEUARgBHAEgASQBKAEsATABNAE4ATwBQAFEAUgBTAFQAVQBWAFcAWABZAFoAWwBcAF0AXgBfAGAAYQBiAGMAZABlAGYAZwBoAGkAagBrAGwAbQBuAG8AcABxAHIAcwB0AHUAdgB3AHgAeQB6AHsAfAB9AH4AfwCAAIEAggCDAIQAhQCGAIcAiACJAIoAiwCMAI0AjgCPAJAAkQCSAJMAlACVAJYAlwCYAJkAmgCbAJwAnQCeAJ8AoAChAKIAowCkAKUApgCnAKgAqQCqAKsArACtAK4ArwCwALEAsgCzALQAtQC2ALcAuAC5ALoAuwC8AL0AvgC/AMAAwQDCAMMAxADFAMYAxwDIAMkAygDLAMwAzQDOAM8A0ADRANIA0wDUANUA1gDXANgA2QDaANsA3ADdAN4A3wDgAOEA4gDjAOQA5QDmAOcA6ADpAOoA6wDsAO0A7gDvAPAA8QDyAPMA9AD1APYA9wD4APkA+gD7APwA/QD+AP8AAAEBAQIBAwEEAQUBBgEHAQgBCQEKAQsBDAENAQ4BDwEQAREBEgETARQBFQEWARcBGAEZARoBGwEcAR0BHgEfASABIQEiASMBJAElASYBJwEoASkBKgErASwBLQEuAS8BMAExATIBMwE0ATUBNgE3ATgBOQE6ATsBPAE9AT4BPwFAAUEBQgFDAUQBRQFGAUcBSAFJAUoBSwFMAU0BTgFPAVABUQFSAVMBVAFVAVYBVwFYAVkBWgFbAVwBXQFeAV8BYAFhAWIBYwFkAWUBZgFnAWgBaQFqAWsBbAFtAW4BbwFwAXEBcgFzAXQBdQF2AXcBeAF5AXoBewF8AX0BfgF/AYABgQGCAYMBhAGFAYYBhwGIAYkBigGLAYwBjQGOAY8BkAGRAZIBkwGUAZUBlgGXAZgBmQGaAZsBnAGdAZ4BnwGgAaEBogGjAaQBpQGmAacBqAGpAaoBqwGsAa0BrgGvAbABsQGyAbMBtAG1AbYBtwG4AbkBugG7AbwBvQG+Ab8BwAHBAcIBwwHEAcUBxgHHAcgByQHKAcsBzAHNAc4BzwHQAdEB0gHTAdQB1QHWAdcB2AHZAdoB2wHcAd0B3gHfAeAB4QHiAeMB5AHlAeYB5wHoAekB6gHrAewB7QHuAe8B8AHxAfIB8wH0AfUB9gH3AfgB+QH6AfsB/AH9Af4B/wEAAgECAgIDAgQCBQIGAgcCCAIJAgoCCwIMAg0CDgIPAhACEQISAhMCFAIVAhYCFwIYAhkCGgIbAhwCHQIeAh8CIAIhAiICIwIkAiUCJgInAigCKQIqAisCLAItAi4CLwIwAjECMgIzAjQCNQI2AjcCOAI5AjoCOwI8Aj0CPgI/AkACQQJCAkMCRAJFAkYCRwJIAkkCSgJLAkwCTQJOAk8CUAJRAlICUwJUAlUCVgJXAlgCWQJaAlsCXAJdAl4CXwJgAmECYgJjAmQCZQJmAmcCaAJpAmoCawJsAm0CbgJvAnACcQJyAnMCdAJ1AnYCdwJ4AnkCegJ7AnwCfQJ+An8CgAKBAoICgwKEAoUChgKHAogCiQKKAosCjAKNAo4CjwKQApECkgKTApQClQKWApcCmAKZApoCmwKcAp0CngKfAqACoQKiAqMCpAKlAqYCpwKoAqkCqgKrAqwCrQKuAq8CsAKxArICswK0ArUCtgK3ArgCuQK6ArsCvAK9Ar4CvwLAAsECwgLDAsQCxQLGAscCyALJAsoCywLMAs0CzgLPAtAC0QLSAtMC1ALVAg==",
          "dtype": "i2"
         },
         "xaxis": "x4",
         "y": {
          "bdata": "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",
          "dtype": "f8"
         },
         "yaxis": "y4"
        }
       ],
       "layout": {
        "annotations": [
         {
          "font": {
           "size": 16
          },
          "showarrow": false,
          "text": "Distance vs Frame Index",
          "x": 0.225,
          "xanchor": "center",
          "xref": "paper",
          "y": 1,
          "yanchor": "bottom",
          "yref": "paper"
         },
         {
          "font": {
           "size": 16
          },
          "showarrow": false,
          "text": "Distance vs Time",
          "x": 0.775,
          "xanchor": "center",
          "xref": "paper",
          "y": 1,
          "yanchor": "bottom",
          "yref": "paper"
         },
         {
          "font": {
           "size": 16
          },
          "showarrow": false,
          "text": "Distance Distribution",
          "x": 0.225,
          "xanchor": "center",
          "xref": "paper",
          "y": 0.375,
          "yanchor": "bottom",
          "yref": "paper"
         },
         {
          "font": {
           "size": 16
          },
          "showarrow": false,
          "text": "Distance Trends",
          "x": 0.775,
          "xanchor": "center",
          "xref": "paper",
          "y": 0.375,
          "yanchor": "bottom",
          "yref": "paper"
         },
         {
          "showarrow": false,
          "text": "Mean: 0.67meters",
          "x": 0.6659714535870207,
          "xanchor": "left",
          "xref": "x3",
          "y": 1,
          "yanchor": "top",
          "yref": "y3 domain"
         }
        ],
        "height": 800,
        "shapes": [
         {
          "line": {
           "color": "red",
           "dash": "dash"
          },
          "type": "line",
          "x0": 0.6659714535870207,
          "x1": 0.6659714535870207,
          "xref": "x3",
          "y0": 0,
          "y1": 1,
          "yref": "y3 domain"
         }
        ],
        "showlegend": true,
        "template": {
         "data": {
          "bar": [
           {
            "error_x": {
             "color": "#2a3f5f"
            },
            "error_y": {
             "color": "#2a3f5f"
            },
            "marker": {
             "line": {
              "color": "#E5ECF6",
              "width": 0.5
             },
             "pattern": {
              "fillmode": "overlay",
              "size": 10,
              "solidity": 0.2
             }
            },
            "type": "bar"
           }
          ],
          "barpolar": [
           {
            "marker": {
             "line": {
              "color": "#E5ECF6",
              "width": 0.5
             },
             "pattern": {
              "fillmode": "overlay",
              "size": 10,
              "solidity": 0.2
             }
            },
            "type": "barpolar"
           }
          ],
          "carpet": [
           {
            "aaxis": {
             "endlinecolor": "#2a3f5f",
             "gridcolor": "white",
             "linecolor": "white",
             "minorgridcolor": "white",
             "startlinecolor": "#2a3f5f"
            },
            "baxis": {
             "endlinecolor": "#2a3f5f",
             "gridcolor": "white",
             "linecolor": "white",
             "minorgridcolor": "white",
             "startlinecolor": "#2a3f5f"
            },
            "type": "carpet"
           }
          ],
          "choropleth": [
           {
            "colorbar": {
             "outlinewidth": 0,
             "ticks": ""
            },
            "type": "choropleth"
           }
          ],
          "contour": [
           {
            "colorbar": {
             "outlinewidth": 0,
             "ticks": ""
            },
            "colorscale": [
             [
              0,
              "#0d0887"
             ],
             [
              0.1111111111111111,
              "#46039f"
             ],
             [
              0.2222222222222222,
              "#7201a8"
             ],
             [
              0.3333333333333333,
              "#9c179e"
             ],
             [
              0.4444444444444444,
              "#bd3786"
             ],
             [
              0.5555555555555556,
              "#d8576b"
             ],
             [
              0.6666666666666666,
              "#ed7953"
             ],
             [
              0.7777777777777778,
              "#fb9f3a"
             ],
             [
              0.8888888888888888,
              "#fdca26"
             ],
             [
              1,
              "#f0f921"
             ]
            ],
            "type": "contour"
           }
          ],
          "contourcarpet": [
           {
            "colorbar": {
             "outlinewidth": 0,
             "ticks": ""
            },
            "type": "contourcarpet"
           }
          ],
          "heatmap": [
           {
            "colorbar": {
             "outlinewidth": 0,
             "ticks": ""
            },
            "colorscale": [
             [
              0,
              "#0d0887"
             ],
             [
              0.1111111111111111,
              "#46039f"
             ],
             [
              0.2222222222222222,
              "#7201a8"
             ],
             [
              0.3333333333333333,
              "#9c179e"
             ],
             [
              0.4444444444444444,
              "#bd3786"
             ],
             [
              0.5555555555555556,
              "#d8576b"
             ],
             [
              0.6666666666666666,
              "#ed7953"
             ],
             [
              0.7777777777777778,
              "#fb9f3a"
             ],
             [
              0.8888888888888888,
              "#fdca26"
             ],
             [
              1,
              "#f0f921"
             ]
            ],
            "type": "heatmap"
           }
          ],
          "histogram": [
           {
            "marker": {
             "pattern": {
              "fillmode": "overlay",
              "size": 10,
              "solidity": 0.2
             }
            },
            "type": "histogram"
           }
          ],
          "histogram2d": [
           {
            "colorbar": {
             "outlinewidth": 0,
             "ticks": ""
            },
            "colorscale": [
             [
              0,
              "#0d0887"
             ],
             [
              0.1111111111111111,
              "#46039f"
             ],
             [
              0.2222222222222222,
              "#7201a8"
             ],
             [
              0.3333333333333333,
              "#9c179e"
             ],
             [
              0.4444444444444444,
              "#bd3786"
             ],
             [
              0.5555555555555556,
              "#d8576b"
             ],
             [
              0.6666666666666666,
              "#ed7953"
             ],
             [
              0.7777777777777778,
              "#fb9f3a"
             ],
             [
              0.8888888888888888,
              "#fdca26"
             ],
             [
              1,
              "#f0f921"
             ]
            ],
            "type": "histogram2d"
           }
          ],
          "histogram2dcontour": [
           {
            "colorbar": {
             "outlinewidth": 0,
             "ticks": ""
            },
            "colorscale": [
             [
              0,
              "#0d0887"
             ],
             [
              0.1111111111111111,
              "#46039f"
             ],
             [
              0.2222222222222222,
              "#7201a8"
             ],
             [
              0.3333333333333333,
              "#9c179e"
             ],
             [
              0.4444444444444444,
              "#bd3786"
             ],
             [
              0.5555555555555556,
              "#d8576b"
             ],
             [
              0.6666666666666666,
              "#ed7953"
             ],
             [
              0.7777777777777778,
              "#fb9f3a"
             ],
             [
              0.8888888888888888,
              "#fdca26"
             ],
             [
              1,
              "#f0f921"
             ]
            ],
            "type": "histogram2dcontour"
           }
          ],
          "mesh3d": [
           {
            "colorbar": {
             "outlinewidth": 0,
             "ticks": ""
            },
            "type": "mesh3d"
           }
          ],
          "parcoords": [
           {
            "line": {
             "colorbar": {
              "outlinewidth": 0,
              "ticks": ""
             }
            },
            "type": "parcoords"
           }
          ],
          "pie": [
           {
            "automargin": true,
            "type": "pie"
           }
          ],
          "scatter": [
           {
            "fillpattern": {
             "fillmode": "overlay",
             "size": 10,
             "solidity": 0.2
            },
            "type": "scatter"
           }
          ],
          "scatter3d": [
           {
            "line": {
             "colorbar": {
              "outlinewidth": 0,
              "ticks": ""
             }
            },
            "marker": {
             "colorbar": {
              "outlinewidth": 0,
              "ticks": ""
             }
            },
            "type": "scatter3d"
           }
          ],
          "scattercarpet": [
           {
            "marker": {
             "colorbar": {
              "outlinewidth": 0,
              "ticks": ""
             }
            },
            "type": "scattercarpet"
           }
          ],
          "scattergeo": [
           {
            "marker": {
             "colorbar": {
              "outlinewidth": 0,
              "ticks": ""
             }
            },
            "type": "scattergeo"
           }
          ],
          "scattergl": [
           {
            "marker": {
             "colorbar": {
              "outlinewidth": 0,
              "ticks": ""
             }
            },
            "type": "scattergl"
           }
          ],
          "scattermap": [
           {
            "marker": {
             "colorbar": {
              "outlinewidth": 0,
              "ticks": ""
             }
            },
            "type": "scattermap"
           }
          ],
          "scattermapbox": [
           {
            "marker": {
             "colorbar": {
              "outlinewidth": 0,
              "ticks": ""
             }
            },
            "type": "scattermapbox"
           }
          ],
          "scatterpolar": [
           {
            "marker": {
             "colorbar": {
              "outlinewidth": 0,
              "ticks": ""
             }
            },
            "type": "scatterpolar"
           }
          ],
          "scatterpolargl": [
           {
            "marker": {
             "colorbar": {
              "outlinewidth": 0,
              "ticks": ""
             }
            },
            "type": "scatterpolargl"
           }
          ],
          "scatterternary": [
           {
            "marker": {
             "colorbar": {
              "outlinewidth": 0,
              "ticks": ""
             }
            },
            "type": "scatterternary"
           }
          ],
          "surface": [
           {
            "colorbar": {
             "outlinewidth": 0,
             "ticks": ""
            },
            "colorscale": [
             [
              0,
              "#0d0887"
             ],
             [
              0.1111111111111111,
              "#46039f"
             ],
             [
              0.2222222222222222,
              "#7201a8"
             ],
             [
              0.3333333333333333,
              "#9c179e"
             ],
             [
              0.4444444444444444,
              "#bd3786"
             ],
             [
              0.5555555555555556,
              "#d8576b"
             ],
             [
              0.6666666666666666,
              "#ed7953"
             ],
             [
              0.7777777777777778,
              "#fb9f3a"
             ],
             [
              0.8888888888888888,
              "#fdca26"
             ],
             [
              1,
              "#f0f921"
             ]
            ],
            "type": "surface"
           }
          ],
          "table": [
           {
            "cells": {
             "fill": {
              "color": "#EBF0F8"
             },
             "line": {
              "color": "white"
             }
            },
            "header": {
             "fill": {
              "color": "#C8D4E3"
             },
             "line": {
              "color": "white"
             }
            },
            "type": "table"
           }
          ]
         },
         "layout": {
          "annotationdefaults": {
           "arrowcolor": "#2a3f5f",
           "arrowhead": 0,
           "arrowwidth": 1
          },
          "autotypenumbers": "strict",
          "coloraxis": {
           "colorbar": {
            "outlinewidth": 0,
            "ticks": ""
           }
          },
          "colorscale": {
           "diverging": [
            [
             0,
             "#8e0152"
            ],
            [
             0.1,
             "#c51b7d"
            ],
            [
             0.2,
             "#de77ae"
            ],
            [
             0.3,
             "#f1b6da"
            ],
            [
             0.4,
             "#fde0ef"
            ],
            [
             0.5,
             "#f7f7f7"
            ],
            [
             0.6,
             "#e6f5d0"
            ],
            [
             0.7,
             "#b8e186"
            ],
            [
             0.8,
             "#7fbc41"
            ],
            [
             0.9,
             "#4d9221"
            ],
            [
             1,
             "#276419"
            ]
           ],
           "sequential": [
            [
             0,
             "#0d0887"
            ],
            [
             0.1111111111111111,
             "#46039f"
            ],
            [
             0.2222222222222222,
             "#7201a8"
            ],
            [
             0.3333333333333333,
             "#9c179e"
            ],
            [
             0.4444444444444444,
             "#bd3786"
            ],
            [
             0.5555555555555556,
             "#d8576b"
            ],
            [
             0.6666666666666666,
             "#ed7953"
            ],
            [
             0.7777777777777778,
             "#fb9f3a"
            ],
            [
             0.8888888888888888,
             "#fdca26"
            ],
            [
             1,
             "#f0f921"
            ]
           ],
           "sequentialminus": [
            [
             0,
             "#0d0887"
            ],
            [
             0.1111111111111111,
             "#46039f"
            ],
            [
             0.2222222222222222,
             "#7201a8"
            ],
            [
             0.3333333333333333,
             "#9c179e"
            ],
            [
             0.4444444444444444,
             "#bd3786"
            ],
            [
             0.5555555555555556,
             "#d8576b"
            ],
            [
             0.6666666666666666,
             "#ed7953"
            ],
            [
             0.7777777777777778,
             "#fb9f3a"
            ],
            [
             0.8888888888888888,
             "#fdca26"
            ],
            [
             1,
             "#f0f921"
            ]
           ]
          },
          "colorway": [
           "#636efa",
           "#EF553B",
           "#00cc96",
           "#ab63fa",
           "#FFA15A",
           "#19d3f3",
           "#FF6692",
           "#B6E880",
           "#FF97FF",
           "#FECB52"
          ],
          "font": {
           "color": "#2a3f5f"
          },
          "geo": {
           "bgcolor": "white",
           "lakecolor": "white",
           "landcolor": "#E5ECF6",
           "showlakes": true,
           "showland": true,
           "subunitcolor": "white"
          },
          "hoverlabel": {
           "align": "left"
          },
          "hovermode": "closest",
          "mapbox": {
           "style": "light"
          },
          "paper_bgcolor": "white",
          "plot_bgcolor": "#E5ECF6",
          "polar": {
           "angularaxis": {
            "gridcolor": "white",
            "linecolor": "white",
            "ticks": ""
           },
           "bgcolor": "#E5ECF6",
           "radialaxis": {
            "gridcolor": "white",
            "linecolor": "white",
            "ticks": ""
           }
          },
          "scene": {
           "xaxis": {
            "backgroundcolor": "#E5ECF6",
            "gridcolor": "white",
            "gridwidth": 2,
            "linecolor": "white",
            "showbackground": true,
            "ticks": "",
            "zerolinecolor": "white"
           },
           "yaxis": {
            "backgroundcolor": "#E5ECF6",
            "gridcolor": "white",
            "gridwidth": 2,
            "linecolor": "white",
            "showbackground": true,
            "ticks": "",
            "zerolinecolor": "white"
           },
           "zaxis": {
            "backgroundcolor": "#E5ECF6",
            "gridcolor": "white",
            "gridwidth": 2,
            "linecolor": "white",
            "showbackground": true,
            "ticks": "",
            "zerolinecolor": "white"
           }
          },
          "shapedefaults": {
           "line": {
            "color": "#2a3f5f"
           }
          },
          "ternary": {
           "aaxis": {
            "gridcolor": "white",
            "linecolor": "white",
            "ticks": ""
           },
           "baxis": {
            "gridcolor": "white",
            "linecolor": "white",
            "ticks": ""
           },
           "bgcolor": "#E5ECF6",
           "caxis": {
            "gridcolor": "white",
            "linecolor": "white",
            "ticks": ""
           }
          },
          "title": {
           "x": 0.05
          },
          "xaxis": {
           "automargin": true,
           "gridcolor": "white",
           "linecolor": "white",
           "ticks": "",
           "title": {
            "standoff": 15
           },
           "zerolinecolor": "white",
           "zerolinewidth": 2
          },
          "yaxis": {
           "automargin": true,
           "gridcolor": "white",
           "linecolor": "white",
           "ticks": "",
           "title": {
            "standoff": 15
           },
           "zerolinecolor": "white",
           "zerolinewidth": 2
          }
         }
        },
        "title": {
         "text": "Real-World Distance Analysis"
        },
        "xaxis": {
         "anchor": "y",
         "domain": [
          0,
          0.45
         ],
         "title": {
          "text": "Frame Index"
         }
        },
        "xaxis2": {
         "anchor": "y2",
         "domain": [
          0.55,
          1
         ],
         "title": {
          "text": "Time"
         }
        },
        "xaxis3": {
         "anchor": "y3",
         "domain": [
          0,
          0.45
         ],
         "title": {
          "text": "Distance (meters)"
         }
        },
        "xaxis4": {
         "anchor": "y4",
         "domain": [
          0.55,
          1
         ],
         "title": {
          "text": "Frame Index"
         }
        },
        "yaxis": {
         "anchor": "x",
         "domain": [
          0.625,
          1
         ],
         "title": {
          "text": "Distance (meters)"
         }
        },
        "yaxis2": {
         "anchor": "x2",
         "domain": [
          0.625,
          1
         ],
         "title": {
          "text": "Distance (meters)"
         }
        },
        "yaxis3": {
         "anchor": "x3",
         "domain": [
          0,
          0.375
         ],
         "title": {
          "text": "Frequency"
         }
        },
        "yaxis4": {
         "anchor": "x4",
         "domain": [
          0,
          0.375
         ],
         "title": {
          "text": "Distance (meters)"
         }
        }
       }
      }
     },
     "metadata": {},
     "output_type": "display_data"
    },
    {
     "data": {
      "application/vnd.plotly.v1+json": {
       "config": {
        "plotlyServerURL": "https://plot.ly"
       },
       "data": [
        {
         "line": {
          "color": "blue"
         },
         "mode": "lines+markers",
         "name": "Distance",
         "type": "scatter",
         "x": {
          "bdata": "AQACAAMABAAFAAYABwAIAAkACgALAAwADQAOAA8AEAARABIAEwAUABUAFgAXABgAGQAaABsAHAAdAB4AHwAgACEAIgAjACQAJQAmACcAKAApACoAKwAsAC0ALgAvADAAMQAyADMANAA1ADYANwA4ADkAOgA7ADwAPQA+AD8AQABBAEIAQwBEAEUARgBHAEgASQBKAEsATABNAE4ATwBQAFEAUgBTAFQAVQBWAFcAWABZAFoAWwBcAF0AXgBfAGAAYQBiAGMAZABlAGYAZwBoAGkAagBrAGwAbQBuAG8AcABxAHIAcwB0AHUAdgB3AHgAeQB6AHsAfAB9AH4AfwCAAIEAggCDAIQAhQCGAIcAiACJAIoAiwCMAI0AjgCPAJAAkQCSAJMAlACVAJYAlwCYAJkAmgCbAJwAnQCeAJ8AoAChAKIAowCkAKUApgCnAKgAqQCqAKsArACtAK4ArwCwALEAsgCzALQAtQC2ALcAuAC5ALoAuwC8AL0AvgC/AMAAwQDCAMMAxADFAMYAxwDIAMkAygDLAMwAzQDOAM8A0ADRANIA0wDUANUA1gDXANgA2QDaANsA3ADdAN4A3wDgAOEA4gDjAOQA5QDmAOcA6ADpAOoA6wDsAO0A7gDvAPAA8QDyAPMA9AD1APYA9wD4APkA+gD7APwA/QD+AP8AAAEBAQIBAwEEAQUBBgEHAQgBCQEKAQsBDAENAQ4BDwEQAREBEgETARQBFQEWARcBGAEZARoBGwEcAR0BHgEfASABIQEiASMBJAElASYBJwEoASkBKgErASwBLQEuAS8BMAExATIBMwE0ATUBNgE3ATgBOQE6ATsBPAE9AT4BPwFAAUEBQgFDAUQBRQFGAUcBSAFJAUoBSwFMAU0BTgFPAVABUQFSAVMBVAFVAVYBVwFYAVkBWgFbAVwBXQFeAV8BYAFhAWIBYwFkAWUBZgFnAWgBaQFqAWsBbAFtAW4BbwFwAXEBcgFzAXQBdQF2AXcBeAF5AXoBewF8AX0BfgF/AYABgQGCAYMBhAGFAYYBhwGIAYkBigGLAYwBjQGOAY8BkAGRAZIBkwGUAZUBlgGXAZgBmQGaAZsBnAGdAZ4BnwGgAaEBogGjAaQBpQGmAacBqAGpAaoBqwGsAa0BrgGvAbABsQGyAbMBtAG1AbYBtwG4AbkBugG7AbwBvQG+Ab8BwAHBAcIBwwHEAcUBxgHHAcgByQHKAcsBzAHNAc4BzwHQAdEB0gHTAdQB1QHWAdcB2AHZAdoB2wHcAd0B3gHfAeAB4QHiAeMB5AHlAeYB5wHoAekB6gHrAewB7QHuAe8B8AHxAfIB8wH0AfUB9gH3AfgB+QH6AfsB/AH9Af4B/wEAAgECAgIDAgQCBQIGAgcCCAIJAgoCCwIMAg0CDgIPAhACEQISAhMCFAIVAhYCFwIYAhkCGgIbAhwCHQIeAh8CIAIhAiICIwIkAiUCJgInAigCKQIqAisCLAItAi4CLwIwAjECMgIzAjQCNQI2AjcCOAI5AjoCOwI8Aj0CPgI/AkACQQJCAkMCRAJFAkYCRwJIAkkCSgJLAkwCTQJOAk8CUAJRAlICUwJUAlUCVgJXAlgCWQJaAlsCXAJdAl4CXwJgAmECYgJjAmQCZQJmAmcCaAJpAmoCawJsAm0CbgJvAnACcQJyAnMCdAJ1AnYCdwJ4AnkCegJ7AnwCfQJ+An8CgAKBAoICgwKEAoUChgKHAogCiQKKAosCjAKNAo4CjwKQApECkgKTApQClQKWApcCmAKZApoCmwKcAp0CngKfAqACoQKiAqMCpAKlAqYCpwKoAqkCqgKrAqwCrQKuAq8CsAKxArICswK0ArUCtgK3ArgCuQK6ArsCvAK9Ar4CvwLAAsECwgLDAsQCxQLGAscCyALJAsoCywLMAs0CzgLPAtAC0QLSAtMC1ALVAg==",
          "dtype": "i2"
         },
         "xaxis": "x",
         "y": {
          "bdata": "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",
          "dtype": "f8"
         },
         "yaxis": "y"
        },
        {
         "line": {
          "color": "green"
         },
         "mode": "lines+markers",
         "name": "Distance over Time",
         "type": "scatter",
         "x": [
          "2024-08-22T12:47:42.079270124",
          "2024-08-22T12:47:42.142102480",
          "2024-08-22T12:47:42.205967665",
          "2024-08-22T12:47:42.269795418",
          "2024-08-22T12:47:42.336023808",
          "2024-08-22T12:47:42.397914648",
          "2024-08-22T12:47:42.462719917",
          "2024-08-22T12:47:42.526518106",
          "2024-08-22T12:47:42.591380119",
          "2024-08-22T12:47:42.655776262",
          "2024-08-22T12:47:42.717646360",
          "2024-08-22T12:47:42.782440901",
          "2024-08-22T12:47:42.847325802",
          "2024-08-22T12:47:42.913094282",
          "2024-08-22T12:47:42.979914427",
          "2024-08-22T12:47:43.037758112",
          "2024-08-22T12:47:43.103629589",
          "2024-08-22T12:47:43.168455124",
          "2024-08-22T12:47:43.230289459",
          "2024-08-22T12:47:43.297112226",
          "2024-08-22T12:47:43.358057499",
          "2024-08-22T12:47:43.423883915",
          "2024-08-22T12:47:43.489706516",
          "2024-08-22T12:47:43.554531097",
          "2024-08-22T12:47:43.614371061",
          "2024-08-22T12:47:43.681210041",
          "2024-08-22T12:47:43.743044615",
          "2024-08-22T12:47:43.807869673",
          "2024-08-22T12:47:43.873695135",
          "2024-08-22T12:47:43.941514730",
          "2024-08-22T12:47:43.998361826",
          "2024-08-22T12:47:44.074665546",
          "2024-08-22T12:47:44.126527070",
          "2024-08-22T12:47:44.193355322",
          "2024-08-22T12:47:44.255183697",
          "2024-08-22T12:47:44.318017483",
          "2024-08-22T12:47:44.382842064",
          "2024-08-22T12:47:44.445672750",
          "2024-08-22T12:47:44.510514021",
          "2024-08-22T12:47:44.575340748",
          "2024-08-22T12:47:44.638174295",
          "2024-08-22T12:47:44.705569983",
          "2024-08-22T12:47:44.768403053",
          "2024-08-22T12:47:44.834228277",
          "2024-08-22T12:47:44.898564339",
          "2024-08-22T12:47:44.959438801",
          "2024-08-22T12:47:45.023231506",
          "2024-08-22T12:47:45.087059975",
          "2024-08-22T12:47:45.153880835",
          "2024-08-22T12:47:45.219862700",
          "2024-08-22T12:47:45.279679060",
          "2024-08-22T12:47:45.342511177",
          "2024-08-22T12:47:45.406341076",
          "2024-08-22T12:47:45.471167803",
          "2024-08-22T12:47:45.533998965",
          "2024-08-22T12:47:45.599824429",
          "2024-08-22T12:47:45.661656857",
          "2024-08-22T12:47:45.727523565",
          "2024-08-22T12:47:45.791311502",
          "2024-08-22T12:47:45.857160330",
          "2024-08-22T12:47:45.917972803",
          "2024-08-22T12:47:45.981801510",
          "2024-08-22T12:47:46.045691729",
          "2024-08-22T12:47:46.110457182",
          "2024-08-22T12:47:46.174287081",
          "2024-08-22T12:47:46.238117933",
          "2024-08-22T12:47:46.302991867",
          "2024-08-22T12:47:46.365823507",
          "2024-08-22T12:47:46.431176424",
          "2024-08-22T12:47:46.495586872",
          "2024-08-22T12:47:46.559441805",
          "2024-08-22T12:47:46.625262260",
          "2024-08-22T12:47:46.693078756",
          "2024-08-22T12:47:46.753947496",
          "2024-08-22T12:47:46.817774057",
          "2024-08-22T12:47:46.883601427",
          "2024-08-22T12:47:46.942441463",
          "2024-08-22T12:47:47.006270170",
          "2024-08-22T12:47:47.071098804",
          "2024-08-22T12:47:47.134925604",
          "2024-08-22T12:47:47.201746941",
          "2024-08-22T12:47:47.263585805",
          "2024-08-22T12:47:47.325416565",
          "2024-08-22T12:47:47.391242743",
          "2024-08-22T12:47:47.456104517",
          "2024-08-22T12:47:47.517956257",
          "2024-08-22T12:47:47.585775137",
          "2024-08-22T12:47:47.783459425",
          "2024-08-22T12:47:47.798418760",
          "2024-08-22T12:47:47.860253811",
          "2024-08-22T12:47:47.905133486",
          "2024-08-22T12:47:47.952027798",
          "2024-08-22T12:47:48.012863636",
          "2024-08-22T12:47:48.058742285",
          "2024-08-22T12:47:48.106619596",
          "2024-08-22T12:47:48.160469055",
          "2024-08-22T12:47:48.222304106",
          "2024-08-22T12:47:48.289125204",
          "2024-08-22T12:47:48.353955030",
          "2024-08-22T12:47:48.416471243",
          "2024-08-22T12:47:48.481297970",
          "2024-08-22T12:47:48.548118830",
          "2024-08-22T12:47:48.608991146",
          "2024-08-22T12:47:48.672789335",
          "2024-08-22T12:47:48.734709978",
          "2024-08-22T12:47:48.799378157",
          "2024-08-22T12:47:48.863616467",
          "2024-08-22T12:47:48.926483631",
          "2024-08-22T12:47:48.991314173",
          "2024-08-22T12:47:49.057138681",
          "2024-08-22T12:47:49.119432688",
          "2024-08-22T12:47:49.185294628",
          "2024-08-22T12:47:49.246094227",
          "2024-08-22T12:47:49.310529947",
          "2024-08-22T12:47:49.374395370",
          "2024-08-22T12:47:49.438732386",
          "2024-08-22T12:47:49.502139807",
          "2024-08-22T12:47:49.566963911",
          "2024-08-22T12:47:49.630340815",
          "2024-08-22T12:47:49.695523739",
          "2024-08-22T12:47:49.758430243",
          "2024-08-22T12:47:49.822546244",
          "2024-08-22T12:47:49.886227369",
          "2024-08-22T12:47:49.950020552",
          "2024-08-22T12:47:50.013556719",
          "2024-08-22T12:47:50.078420162",
          "2024-08-22T12:47:50.142329693",
          "2024-08-22T12:47:50.206041574",
          "2024-08-22T12:47:50.276866674",
          "2024-08-22T12:47:50.335693598",
          "2024-08-22T12:47:50.406504631",
          "2024-08-22T12:47:50.465346336",
          "2024-08-22T12:47:50.536157608",
          "2024-08-22T12:47:50.598988771",
          "2024-08-22T12:47:50.653844595",
          "2024-08-22T12:47:50.719306231",
          "2024-08-22T12:47:50.785254002",
          "2024-08-22T12:47:50.907845259",
          "2024-08-22T12:47:50.924805403",
          "2024-08-22T12:47:50.978656054",
          "2024-08-22T12:47:51.037887335",
          "2024-08-22T12:47:51.102393389",
          "2024-08-22T12:47:51.169251919",
          "2024-08-22T12:47:51.230048656",
          "2024-08-22T12:47:51.294878006",
          "2024-08-22T12:47:51.358228445",
          "2024-08-22T12:47:51.422244549",
          "2024-08-22T12:47:51.490060091",
          "2024-08-22T12:47:51.550378561",
          "2024-08-22T12:47:51.613721371",
          "2024-08-22T12:47:51.680542469",
          "2024-08-22T12:47:51.742375851",
          "2024-08-22T12:47:51.806545258",
          "2024-08-22T12:47:51.871034145",
          "2024-08-22T12:47:51.933865786",
          "2024-08-22T12:47:51.998691559",
          "2024-08-22T12:47:52.063024044",
          "2024-08-22T12:47:52.127844810",
          "2024-08-22T12:47:52.193671465",
          "2024-08-22T12:47:52.260490893",
          "2024-08-22T12:47:52.325387478",
          "2024-08-22T12:47:52.388179302",
          "2024-08-22T12:47:52.446037531",
          "2024-08-22T12:47:52.510822295",
          "2024-08-22T12:47:52.576648712",
          "2024-08-22T12:47:52.638478994",
          "2024-08-22T12:47:52.702308178",
          "2024-08-22T12:47:52.766648531",
          "2024-08-22T12:47:52.829560041",
          "2024-08-22T12:47:52.895339251",
          "2024-08-22T12:47:52.959167957",
          "2024-08-22T12:47:53.022039413",
          "2024-08-22T12:47:53.090818167",
          "2024-08-22T12:47:53.150656223",
          "2024-08-22T12:47:53.214524746",
          "2024-08-22T12:47:53.280311108",
          "2024-08-22T12:47:53.342396975",
          "2024-08-22T12:47:53.406488180",
          "2024-08-22T12:47:53.471314669",
          "2024-08-22T12:47:53.534695386",
          "2024-08-22T12:47:53.598518610",
          "2024-08-22T12:47:53.666336536",
          "2024-08-22T12:47:53.726413012",
          "2024-08-22T12:47:53.792237997",
          "2024-08-22T12:47:53.856068611",
          "2024-08-22T12:47:53.918899775",
          "2024-08-22T12:47:53.987715483",
          "2024-08-22T12:47:54.048559189",
          "2024-08-22T12:47:54.114376545",
          "2024-08-22T12:47:54.185188532",
          "2024-08-22T12:47:54.239042997",
          "2024-08-22T12:47:54.302942753",
          "2024-08-22T12:47:54.368766546",
          "2024-08-22T12:47:54.433595419",
          "2024-08-22T12:47:54.497421741",
          "2024-08-22T12:47:54.559295416",
          "2024-08-22T12:47:54.622127771",
          "2024-08-22T12:47:54.688026905",
          "2024-08-22T12:47:54.749866486",
          "2024-08-22T12:47:54.814872265",
          "2024-08-22T12:47:54.881490231",
          "2024-08-22T12:47:54.948314667",
          "2024-08-22T12:47:55.006204605",
          "2024-08-22T12:47:55.070983887",
          "2024-08-22T12:47:55.135812759",
          "2024-08-22T12:47:55.199640512",
          "2024-08-22T12:47:55.262197970",
          "2024-08-22T12:47:55.326779127",
          "2024-08-22T12:47:55.390609503",
          "2024-08-22T12:47:55.455941677",
          "2024-08-22T12:47:55.518773794",
          "2024-08-22T12:47:55.583600044",
          "2024-08-22T12:47:55.646431446",
          "2024-08-22T12:47:55.762367487",
          "2024-08-22T12:47:55.822207451",
          "2024-08-22T12:47:55.870615721",
          "2024-08-22T12:47:55.903528929",
          "2024-08-22T12:47:55.972343922",
          "2024-08-22T12:47:56.034180641",
          "2024-08-22T12:47:56.230654240",
          "2024-08-22T12:47:56.244616270",
          "2024-08-22T12:47:56.305584192",
          "2024-08-22T12:47:56.353327036",
          "2024-08-22T12:47:56.397209167",
          "2024-08-22T12:47:56.459064722",
          "2024-08-22T12:47:56.504005194",
          "2024-08-22T12:47:56.550822735",
          "2024-08-22T12:47:56.610658884",
          "2024-08-22T12:47:56.675529957",
          "2024-08-22T12:47:56.734373331",
          "2024-08-22T12:47:56.799198389",
          "2024-08-22T12:47:56.862029791",
          "2024-08-22T12:47:56.926856995",
          "2024-08-22T12:47:56.990686655",
          "2024-08-22T12:47:57.055063725",
          "2024-08-22T12:47:57.118893147",
          "2024-08-22T12:47:57.183237076",
          "2024-08-22T12:47:57.246649742",
          "2024-08-22T12:47:57.319489717",
          "2024-08-22T12:47:57.378296375",
          "2024-08-22T12:47:57.439493179",
          "2024-08-22T12:47:57.503848791",
          "2024-08-22T12:47:57.567677498",
          "2024-08-22T12:47:57.629513025",
          "2024-08-22T12:47:57.695339918",
          "2024-08-22T12:47:57.760162354",
          "2024-08-22T12:47:57.823992252",
          "2024-08-22T12:47:57.892808676",
          "2024-08-22T12:47:57.957634211",
          "2024-08-22T12:47:58.015479803",
          "2024-08-22T12:47:58.080342054",
          "2024-08-22T12:47:58.142693281",
          "2024-08-22T12:47:58.205541849",
          "2024-08-22T12:47:58.271376610",
          "2024-08-22T12:47:58.335172415",
          "2024-08-22T12:47:58.399001360",
          "2024-08-22T12:47:58.463826895",
          "2024-08-22T12:47:58.527019978",
          "2024-08-22T12:47:58.590854406",
          "2024-08-22T12:47:58.654217720",
          "2024-08-22T12:47:58.718048811",
          "2024-08-22T12:47:58.786936283",
          "2024-08-22T12:47:58.849254608",
          "2024-08-22T12:47:58.910111427",
          "2024-08-22T12:47:58.974449873",
          "2024-08-22T12:47:59.041270733",
          "2024-08-22T12:47:59.102612257",
          "2024-08-22T12:47:59.167439699",
          "2024-08-22T12:47:59.231272697",
          "2024-08-22T12:47:59.296097040",
          "2024-08-22T12:47:59.358959436",
          "2024-08-22T12:47:59.421829700",
          "2024-08-22T12:47:59.485619307",
          "2024-08-22T12:47:59.552475691",
          "2024-08-22T12:47:59.614999771",
          "2024-08-22T12:47:59.680792332",
          "2024-08-22T12:47:59.745616198",
          "2024-08-22T12:47:59.809447050",
          "2024-08-22T12:47:59.874827623",
          "2024-08-22T12:47:59.935665131",
          "2024-08-22T12:48:00.000491381",
          "2024-08-22T12:48:00.064320802",
          "2024-08-22T12:48:00.126153708",
          "2024-08-22T12:48:00.194033384",
          "2024-08-22T12:48:00.257676363",
          "2024-08-22T12:48:00.317556143",
          "2024-08-22T12:48:00.389369011",
          "2024-08-22T12:48:00.446218491",
          "2024-08-22T12:48:00.514036179",
          "2024-08-22T12:48:00.575871229",
          "2024-08-22T12:48:00.638703346",
          "2024-08-22T12:48:00.702565670",
          "2024-08-22T12:48:00.766397476",
          "2024-08-22T12:48:00.830226421",
          "2024-08-22T12:48:00.897011518",
          "2024-08-22T12:48:00.958845615",
          "2024-08-22T12:48:01.022715807",
          "2024-08-22T12:48:01.089756012",
          "2024-08-22T12:48:01.151363611",
          "2024-08-22T12:48:01.213592052",
          "2024-08-22T12:48:01.279414177",
          "2024-08-22T12:48:01.341246605",
          "2024-08-22T12:48:01.409272671",
          "2024-08-22T12:48:01.472929239",
          "2024-08-22T12:48:01.537722111",
          "2024-08-22T12:48:01.601768732",
          "2024-08-22T12:48:01.663604975",
          "2024-08-22T12:48:01.728463888",
          "2024-08-22T12:48:01.798316479",
          "2024-08-22T12:48:01.854205132",
          "2024-08-22T12:48:01.917881250",
          "2024-08-22T12:48:01.984704494",
          "2024-08-22T12:48:02.047544479",
          "2024-08-22T12:48:02.110928059",
          "2024-08-22T12:48:02.178150415",
          "2024-08-22T12:48:02.237989902",
          "2024-08-22T12:48:02.302819014",
          "2024-08-22T12:48:02.366724014",
          "2024-08-22T12:48:02.429532051",
          "2024-08-22T12:48:02.495329380",
          "2024-08-22T12:48:02.559236526",
          "2024-08-22T12:48:02.622107506",
          "2024-08-22T12:48:02.685937405",
          "2024-08-22T12:48:02.752839565",
          "2024-08-22T12:48:02.813643456",
          "2024-08-22T12:48:02.878467321",
          "2024-08-22T12:48:02.943349600",
          "2024-08-22T12:48:03.008521795",
          "2024-08-22T12:48:03.073345900",
          "2024-08-22T12:48:03.134183167",
          "2024-08-22T12:48:03.198012590",
          "2024-08-22T12:48:03.263839006",
          "2024-08-22T12:48:03.327667713",
          "2024-08-22T12:48:03.392527819",
          "2024-08-22T12:48:03.458356142",
          "2024-08-22T12:48:03.520795345",
          "2024-08-22T12:48:03.582893372",
          "2024-08-22T12:48:03.645724535",
          "2024-08-22T12:48:03.711549759",
          "2024-08-22T12:48:03.776377201",
          "2024-08-22T12:48:03.838209629",
          "2024-08-22T12:48:03.903037071",
          "2024-08-22T12:48:03.966867447",
          "2024-08-22T12:48:04.033856153",
          "2024-08-22T12:48:04.095293045",
          "2024-08-22T12:48:04.158123732",
          "2024-08-22T12:48:04.251384020",
          "2024-08-22T12:48:04.299203396",
          "2024-08-22T12:48:04.358987808",
          "2024-08-22T12:48:04.414835691",
          "2024-08-22T12:48:04.480659723",
          "2024-08-22T12:48:04.542493343",
          "2024-08-22T12:48:04.606324911",
          "2024-08-22T12:48:04.672146797",
          "2024-08-22T12:48:04.739003181",
          "2024-08-22T12:48:04.799292564",
          "2024-08-22T12:48:04.863119364",
          "2024-08-22T12:48:04.925953388",
          "2024-08-22T12:48:04.993772745",
          "2024-08-22T12:48:05.055605650",
          "2024-08-22T12:48:05.118066788",
          "2024-08-22T12:48:05.186921835",
          "2024-08-22T12:48:05.247793436",
          "2024-08-22T12:48:05.313646793",
          "2024-08-22T12:48:05.389665604",
          "2024-08-22T12:48:05.440528870",
          "2024-08-22T12:48:05.504357815",
          "2024-08-22T12:48:05.567247868",
          "2024-08-22T12:48:05.632790327",
          "2024-08-22T12:48:05.696887970",
          "2024-08-22T12:48:05.758721352",
          "2024-08-22T12:48:05.821586132",
          "2024-08-22T12:48:05.887387276",
          "2024-08-22T12:48:05.951206684",
          "2024-08-22T12:48:06.014078617",
          "2024-08-22T12:48:06.079903603",
          "2024-08-22T12:48:06.196130276",
          "2024-08-22T12:48:06.256000757",
          "2024-08-22T12:48:06.315805674",
          "2024-08-22T12:48:06.377641916",
          "2024-08-22T12:48:06.437481880",
          "2024-08-22T12:48:06.498317719",
          "2024-08-22T12:48:06.573117733",
          "2024-08-22T12:48:06.624019146",
          "2024-08-22T12:48:06.681829453",
          "2024-08-22T12:48:06.738674879",
          "2024-08-22T12:48:06.786588430",
          "2024-08-22T12:48:06.845424891",
          "2024-08-22T12:48:06.910216093",
          "2024-08-22T12:48:06.978382826",
          "2024-08-22T12:48:07.039703846",
          "2024-08-22T12:48:07.106487274",
          "2024-08-22T12:48:07.171312809",
          "2024-08-22T12:48:07.236644506",
          "2024-08-22T12:48:07.305712223",
          "2024-08-22T12:48:07.364514351",
          "2024-08-22T12:48:07.424396753",
          "2024-08-22T12:48:07.487226486",
          "2024-08-22T12:48:07.554117918",
          "2024-08-22T12:48:07.614000797",
          "2024-08-22T12:48:07.682816267",
          "2024-08-22T12:48:07.742656946",
          "2024-08-22T12:48:07.806071281",
          "2024-08-22T12:48:07.872926474",
          "2024-08-22T12:48:07.933764458",
          "2024-08-22T12:48:07.998591661",
          "2024-08-22T12:48:08.061423063",
          "2024-08-22T12:48:08.127249241",
          "2024-08-22T12:48:08.191115618",
          "2024-08-22T12:48:08.255943537",
          "2024-08-22T12:48:08.318773985",
          "2024-08-22T12:48:08.381644011",
          "2024-08-22T12:48:08.445428848",
          "2024-08-22T12:48:08.510257959",
          "2024-08-22T12:48:08.574086189",
          "2024-08-22T12:48:08.637914181",
          "2024-08-22T12:48:08.702741861",
          "2024-08-22T12:48:08.765633106",
          "2024-08-22T12:48:08.830401182",
          "2024-08-22T12:48:08.902842045",
          "2024-08-22T12:48:08.963669062",
          "2024-08-22T12:48:09.027417660",
          "2024-08-22T12:48:09.089256287",
          "2024-08-22T12:48:09.151085854",
          "2024-08-22T12:48:09.215949059",
          "2024-08-22T12:48:09.279741287",
          "2024-08-22T12:48:09.343537331",
          "2024-08-22T12:48:09.405372858",
          "2024-08-22T12:48:09.474188089",
          "2024-08-22T12:48:09.535604239",
          "2024-08-22T12:48:09.598435879",
          "2024-08-22T12:48:09.664261341",
          "2024-08-22T12:48:09.726097584",
          "2024-08-22T12:48:09.790688276",
          "2024-08-22T12:48:09.854517937",
          "2024-08-22T12:48:09.917387009",
          "2024-08-22T12:48:09.984212160",
          "2024-08-22T12:48:10.046046495",
          "2024-08-22T12:48:10.109876156",
          "2024-08-22T12:48:10.175780058",
          "2024-08-22T12:48:10.237578869",
          "2024-08-22T12:48:10.303402185",
          "2024-08-22T12:48:10.368229866",
          "2024-08-22T12:48:10.430063725",
          "2024-08-22T12:48:10.494897842",
          "2024-08-22T12:48:10.560847759",
          "2024-08-22T12:48:10.622554302",
          "2024-08-22T12:48:10.687430859",
          "2024-08-22T12:48:10.753256798",
          "2024-08-22T12:48:10.818082094",
          "2024-08-22T12:48:10.881979465",
          "2024-08-22T12:48:10.945779085",
          "2024-08-22T12:48:11.006616831",
          "2024-08-22T12:48:11.073957682",
          "2024-08-22T12:48:11.134518385",
          "2024-08-22T12:48:11.201706171",
          "2024-08-22T12:48:11.262543201",
          "2024-08-22T12:48:11.333355188",
          "2024-08-22T12:48:11.390202522",
          "2024-08-22T12:48:11.455028296",
          "2024-08-22T12:48:11.517862081",
          "2024-08-22T12:48:11.611610174",
          "2024-08-22T12:48:11.669455051",
          "2024-08-22T12:48:11.717326641",
          "2024-08-22T12:48:11.776171684",
          "2024-08-22T12:48:11.848975182",
          "2024-08-22T12:48:11.915800571",
          "2024-08-22T12:48:11.968654394",
          "2024-08-22T12:48:12.030488729",
          "2024-08-22T12:48:12.226046562",
          "2024-08-22T12:48:12.241007805",
          "2024-08-22T12:48:12.292895317",
          "2024-08-22T12:48:12.354283094",
          "2024-08-22T12:48:12.401190758",
          "2024-08-22T12:48:12.468835354",
          "2024-08-22T12:48:12.526808976",
          "2024-08-22T12:48:12.573686361",
          "2024-08-22T12:48:12.618607044",
          "2024-08-22T12:48:12.681426764",
          "2024-08-22T12:48:12.739243031",
          "2024-08-22T12:48:12.800078392",
          "2024-08-22T12:48:12.864424229",
          "2024-08-22T12:48:12.926810980",
          "2024-08-22T12:48:12.991647482",
          "2024-08-22T12:48:13.054472923",
          "2024-08-22T12:48:13.118298292",
          "2024-08-22T12:48:13.184121132",
          "2024-08-22T12:48:13.244959593",
          "2024-08-22T12:48:13.319758415",
          "2024-08-22T12:48:13.376607418",
          "2024-08-22T12:48:13.437460423",
          "2024-08-22T12:48:13.503284693",
          "2024-08-22T12:48:13.566152334",
          "2024-08-22T12:48:13.629945517",
          "2024-08-22T12:48:13.695771456",
          "2024-08-22T12:48:13.758603811",
          "2024-08-22T12:48:13.824428320",
          "2024-08-22T12:48:13.887018919",
          "2024-08-22T12:48:13.949892282",
          "2024-08-22T12:48:14.013723373",
          "2024-08-22T12:48:14.079546928",
          "2024-08-22T12:48:14.142429590",
          "2024-08-22T12:48:14.206259251",
          "2024-08-22T12:48:14.272220612",
          "2024-08-22T12:48:14.334095001",
          "2024-08-22T12:48:14.398452759",
          "2024-08-22T12:48:14.465273142",
          "2024-08-22T12:48:14.527107954",
          "2024-08-22T12:48:14.597918749",
          "2024-08-22T12:48:14.656789780",
          "2024-08-22T12:48:14.718644619",
          "2024-08-22T12:48:14.791415215",
          "2024-08-22T12:48:14.848263741",
          "2024-08-22T12:48:14.917078972",
          "2024-08-22T12:48:14.975400209",
          "2024-08-22T12:48:15.038426638",
          "2024-08-22T12:48:15.102252960",
          "2024-08-22T12:48:15.166082382",
          "2024-08-22T12:48:15.230912685",
          "2024-08-22T12:48:15.296732903",
          "2024-08-22T12:48:15.360564232",
          "2024-08-22T12:48:15.422398090",
          "2024-08-22T12:48:15.489219189",
          "2024-08-22T12:48:15.551053286",
          "2024-08-22T12:48:15.613885641",
          "2024-08-22T12:48:15.679549932",
          "2024-08-22T12:48:15.742384195",
          "2024-08-22T12:48:15.806211948",
          "2024-08-22T12:48:15.874030352",
          "2024-08-22T12:48:15.935862541",
          "2024-08-22T12:48:16.000688791",
          "2024-08-22T12:48:16.062524318",
          "2024-08-22T12:48:16.126353740",
          "2024-08-22T12:48:16.193174839",
          "2024-08-22T12:48:16.256008387",
          "2024-08-22T12:48:16.317842007",
          "2024-08-22T12:48:16.384663582",
          "2024-08-22T12:48:16.448492289",
          "2024-08-22T12:48:16.514316558",
          "2024-08-22T12:48:16.584706306",
          "2024-08-22T12:48:16.651526451",
          "2024-08-22T12:48:16.709371567",
          "2024-08-22T12:48:16.770213127",
          "2024-08-22T12:48:16.830084801",
          "2024-08-22T12:48:16.896869898",
          "2024-08-22T12:48:17.010566473",
          "2024-08-22T12:48:17.058462620",
          "2024-08-22T12:48:17.087386608",
          "2024-08-22T12:48:17.153210163",
          "2024-08-22T12:48:17.214046478",
          "2024-08-22T12:48:17.278963566",
          "2024-08-22T12:48:17.356720448",
          "2024-08-22T12:48:17.407584190",
          "2024-08-22T12:48:17.472446442",
          "2024-08-22T12:48:17.533287287",
          "2024-08-22T12:48:17.598434925",
          "2024-08-22T12:48:17.666251659",
          "2024-08-22T12:48:17.728086472",
          "2024-08-22T12:48:17.796902895",
          "2024-08-22T12:48:17.853750229",
          "2024-08-22T12:48:17.918576956",
          "2024-08-22T12:48:17.982419252",
          "2024-08-22T12:48:18.045286417",
          "2024-08-22T12:48:18.111075163",
          "2024-08-22T12:48:18.175018311",
          "2024-08-22T12:48:18.238881826",
          "2024-08-22T12:48:18.306704998",
          "2024-08-22T12:48:18.381465673",
          "2024-08-22T12:48:18.441364765",
          "2024-08-22T12:48:18.496666908",
          "2024-08-22T12:48:18.560503960",
          "2024-08-22T12:48:18.622337103",
          "2024-08-22T12:48:18.687837839",
          "2024-08-22T12:48:18.752664089",
          "2024-08-22T12:48:18.813536167",
          "2024-08-22T12:48:18.881377220",
          "2024-08-22T12:48:18.949187517",
          "2024-08-22T12:48:19.006035805",
          "2024-08-22T12:48:19.074423313",
          "2024-08-22T12:48:19.135317802",
          "2024-08-22T12:48:19.198184729",
          "2024-08-22T12:48:19.268092155",
          "2024-08-22T12:48:19.325936794",
          "2024-08-22T12:48:19.392759085",
          "2024-08-22T12:48:19.453595400",
          "2024-08-22T12:48:19.518422603",
          "2024-08-22T12:48:19.587238312",
          "2024-08-22T12:48:19.646118641",
          "2024-08-22T12:48:19.710908890",
          "2024-08-22T12:48:19.773740530",
          "2024-08-22T12:48:19.838566065",
          "2024-08-22T12:48:19.902397156",
          "2024-08-22T12:48:19.966228247",
          "2024-08-22T12:48:20.030054092",
          "2024-08-22T12:48:20.095877886",
          "2024-08-22T12:48:20.164695978",
          "2024-08-22T12:48:20.239495516",
          "2024-08-22T12:48:20.291373491",
          "2024-08-22T12:48:20.354243517",
          "2024-08-22T12:48:20.414179564",
          "2024-08-22T12:48:20.481322050",
          "2024-08-22T12:48:20.541258812",
          "2024-08-22T12:48:20.609018803",
          "2024-08-22T12:48:20.678862810",
          "2024-08-22T12:48:20.733717442",
          "2024-08-22T12:48:20.798050165",
          "2024-08-22T12:48:20.865389585",
          "2024-08-22T12:48:20.927229404",
          "2024-08-22T12:48:20.991416931",
          "2024-08-22T12:48:21.058275223",
          "2024-08-22T12:48:21.118589163",
          "2024-08-22T12:48:21.183450222",
          "2024-08-22T12:48:21.246274710",
          "2024-08-22T12:48:21.310076952",
          "2024-08-22T12:48:21.376941681",
          "2024-08-22T12:48:21.437736273",
          "2024-08-22T12:48:21.503562450",
          "2024-08-22T12:48:21.566435099",
          "2024-08-22T12:48:21.630221605",
          "2024-08-22T12:48:21.699072361",
          "2024-08-22T12:48:21.757911444",
          "2024-08-22T12:48:21.822707176",
          "2024-08-22T12:48:21.886566877",
          "2024-08-22T12:48:21.952358961",
          "2024-08-22T12:48:22.015738726",
          "2024-08-22T12:48:22.093341589",
          "2024-08-22T12:48:22.148159981",
          "2024-08-22T12:48:22.240055799",
          "2024-08-22T12:48:22.272927523",
          "2024-08-22T12:48:22.333765268",
          "2024-08-22T12:48:22.397595406",
          "2024-08-22T12:48:22.464415073",
          "2024-08-22T12:48:22.525756358",
          "2024-08-22T12:48:22.590583324",
          "2024-08-22T12:48:22.656409740",
          "2024-08-22T12:48:22.718276978",
          "2024-08-22T12:48:22.784124851",
          "2024-08-22T12:48:22.844954967",
          "2024-08-22T12:48:22.909729719",
          "2024-08-22T12:48:22.977585316",
          "2024-08-22T12:48:23.038386583",
          "2024-08-22T12:48:23.102214813",
          "2024-08-22T12:48:23.169073343",
          "2024-08-22T12:48:23.231907129",
          "2024-08-22T12:48:23.294798851",
          "2024-08-22T12:48:23.358588696",
          "2024-08-22T12:48:23.422009945",
          "2024-08-22T12:48:23.486795664",
          "2024-08-22T12:48:23.551650286",
          "2024-08-22T12:48:23.614455223",
          "2024-08-22T12:48:23.678283691",
          "2024-08-22T12:48:23.741661787",
          "2024-08-22T12:48:23.807444572",
          "2024-08-22T12:48:23.875263214",
          "2024-08-22T12:48:23.954244852",
          "2024-08-22T12:48:24.012124062",
          "2024-08-22T12:48:24.065950155",
          "2024-08-22T12:48:24.125792503",
          "2024-08-22T12:48:24.191614151",
          "2024-08-22T12:48:24.254447221",
          "2024-08-22T12:48:24.317785740",
          "2024-08-22T12:48:24.384190321",
          "2024-08-22T12:48:24.445951700",
          "2024-08-22T12:48:24.510778189",
          "2024-08-22T12:48:24.575604439",
          "2024-08-22T12:48:24.637439728",
          "2024-08-22T12:48:24.703263283",
          "2024-08-22T12:48:24.766096115",
          "2024-08-22T12:48:24.839897871",
          "2024-08-22T12:48:24.895748854",
          "2024-08-22T12:48:24.957583189",
          "2024-08-22T12:48:25.023407221",
          "2024-08-22T12:48:25.086802721",
          "2024-08-22T12:48:25.151571035",
          "2024-08-22T12:48:25.213406563",
          "2024-08-22T12:48:25.278267145",
          "2024-08-22T12:48:25.342061520",
          "2024-08-22T12:48:25.406211615",
          "2024-08-22T12:48:25.470717669",
          "2024-08-22T12:48:25.534016848",
          "2024-08-22T12:48:25.597887278",
          "2024-08-22T12:48:25.663712502",
          "2024-08-22T12:48:25.727603674",
          "2024-08-22T12:48:25.795359135",
          "2024-08-22T12:48:25.857623100",
          "2024-08-22T12:48:25.918251038",
          "2024-08-22T12:48:25.983794451",
          "2024-08-22T12:48:26.045357943",
          "2024-08-22T12:48:26.110183716",
          "2024-08-22T12:48:26.178068399",
          "2024-08-22T12:48:26.238583803",
          "2024-08-22T12:48:26.303044558",
          "2024-08-22T12:48:26.366868734",
          "2024-08-22T12:48:26.429269552",
          "2024-08-22T12:48:26.494606733",
          "2024-08-22T12:48:26.558431387",
          "2024-08-22T12:48:26.622294426",
          "2024-08-22T12:48:26.687122345",
          "2024-08-22T12:48:26.749953985",
          "2024-08-22T12:48:26.814786673",
          "2024-08-22T12:48:26.882600784",
          "2024-08-22T12:48:26.942437887",
          "2024-08-22T12:48:27.006267548",
          "2024-08-22T12:48:27.073091030",
          "2024-08-22T12:48:27.133926392",
          "2024-08-22T12:48:27.201036692",
          "2024-08-22T12:48:27.265863656",
          "2024-08-22T12:48:27.326701403",
          "2024-08-22T12:48:27.390530109",
          "2024-08-22T12:48:27.454359531",
          "2024-08-22T12:48:27.519186257",
          "2024-08-22T12:48:27.586011410",
          "2024-08-22T12:48:27.649364233",
          "2024-08-22T12:48:27.713886976",
          "2024-08-22T12:48:27.775721550",
          "2024-08-22T12:48:27.839550734",
          "2024-08-22T12:48:27.902930737",
          "2024-08-22T12:48:27.967752457",
          "2024-08-22T12:48:28.030100107",
          "2024-08-22T12:48:28.093927860",
          "2024-08-22T12:48:28.157761335",
          "2024-08-22T12:48:28.222586393",
          "2024-08-22T12:48:28.288410664",
          "2024-08-22T12:48:28.350244761",
          "2024-08-22T12:48:28.414075375"
         ],
         "xaxis": "x2",
         "y": {
          "bdata": "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",
          "dtype": "f8"
         },
         "yaxis": "y2"
        },
        {
         "marker": {
          "color": "lightcoral"
         },
         "name": "Distribution",
         "nbinsx": 30,
         "opacity": 0.7,
         "type": "histogram",
         "x": {
          "bdata": "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",
          "dtype": "f8"
         },
         "xaxis": "x3",
         "yaxis": "y3"
        },
        {
         "line": {
          "color": "lightcoral",
          "width": 1
         },
         "mode": "lines",
         "name": "Raw",
         "opacity": 0.5,
         "type": "scatter",
         "x": {
          "bdata": "AQACAAMABAAFAAYABwAIAAkACgALAAwADQAOAA8AEAARABIAEwAUABUAFgAXABgAGQAaABsAHAAdAB4AHwAgACEAIgAjACQAJQAmACcAKAApACoAKwAsAC0ALgAvADAAMQAyADMANAA1ADYANwA4ADkAOgA7ADwAPQA+AD8AQABBAEIAQwBEAEUARgBHAEgASQBKAEsATABNAE4ATwBQAFEAUgBTAFQAVQBWAFcAWABZAFoAWwBcAF0AXgBfAGAAYQBiAGMAZABlAGYAZwBoAGkAagBrAGwAbQBuAG8AcABxAHIAcwB0AHUAdgB3AHgAeQB6AHsAfAB9AH4AfwCAAIEAggCDAIQAhQCGAIcAiACJAIoAiwCMAI0AjgCPAJAAkQCSAJMAlACVAJYAlwCYAJkAmgCbAJwAnQCeAJ8AoAChAKIAowCkAKUApgCnAKgAqQCqAKsArACtAK4ArwCwALEAsgCzALQAtQC2ALcAuAC5ALoAuwC8AL0AvgC/AMAAwQDCAMMAxADFAMYAxwDIAMkAygDLAMwAzQDOAM8A0ADRANIA0wDUANUA1gDXANgA2QDaANsA3ADdAN4A3wDgAOEA4gDjAOQA5QDmAOcA6ADpAOoA6wDsAO0A7gDvAPAA8QDyAPMA9AD1APYA9wD4APkA+gD7APwA/QD+AP8AAAEBAQIBAwEEAQUBBgEHAQgBCQEKAQsBDAENAQ4BDwEQAREBEgETARQBFQEWARcBGAEZARoBGwEcAR0BHgEfASABIQEiASMBJAElASYBJwEoASkBKgErASwBLQEuAS8BMAExATIBMwE0ATUBNgE3ATgBOQE6ATsBPAE9AT4BPwFAAUEBQgFDAUQBRQFGAUcBSAFJAUoBSwFMAU0BTgFPAVABUQFSAVMBVAFVAVYBVwFYAVkBWgFbAVwBXQFeAV8BYAFhAWIBYwFkAWUBZgFnAWgBaQFqAWsBbAFtAW4BbwFwAXEBcgFzAXQBdQF2AXcBeAF5AXoBewF8AX0BfgF/AYABgQGCAYMBhAGFAYYBhwGIAYkBigGLAYwBjQGOAY8BkAGRAZIBkwGUAZUBlgGXAZgBmQGaAZsBnAGdAZ4BnwGgAaEBogGjAaQBpQGmAacBqAGpAaoBqwGsAa0BrgGvAbABsQGyAbMBtAG1AbYBtwG4AbkBugG7AbwBvQG+Ab8BwAHBAcIBwwHEAcUBxgHHAcgByQHKAcsBzAHNAc4BzwHQAdEB0gHTAdQB1QHWAdcB2AHZAdoB2wHcAd0B3gHfAeAB4QHiAeMB5AHlAeYB5wHoAekB6gHrAewB7QHuAe8B8AHxAfIB8wH0AfUB9gH3AfgB+QH6AfsB/AH9Af4B/wEAAgECAgIDAgQCBQIGAgcCCAIJAgoCCwIMAg0CDgIPAhACEQISAhMCFAIVAhYCFwIYAhkCGgIbAhwCHQIeAh8CIAIhAiICIwIkAiUCJgInAigCKQIqAisCLAItAi4CLwIwAjECMgIzAjQCNQI2AjcCOAI5AjoCOwI8Aj0CPgI/AkACQQJCAkMCRAJFAkYCRwJIAkkCSgJLAkwCTQJOAk8CUAJRAlICUwJUAlUCVgJXAlgCWQJaAlsCXAJdAl4CXwJgAmECYgJjAmQCZQJmAmcCaAJpAmoCawJsAm0CbgJvAnACcQJyAnMCdAJ1AnYCdwJ4AnkCegJ7AnwCfQJ+An8CgAKBAoICgwKEAoUChgKHAogCiQKKAosCjAKNAo4CjwKQApECkgKTApQClQKWApcCmAKZApoCmwKcAp0CngKfAqACoQKiAqMCpAKlAqYCpwKoAqkCqgKrAqwCrQKuAq8CsAKxArICswK0ArUCtgK3ArgCuQK6ArsCvAK9Ar4CvwLAAsECwgLDAsQCxQLGAscCyALJAsoCywLMAs0CzgLPAtAC0QLSAtMC1ALVAg==",
          "dtype": "i2"
         },
         "xaxis": "x4",
         "y": {
          "bdata": "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",
          "dtype": "f8"
         },
         "yaxis": "y4"
        },
        {
         "line": {
          "color": "darkred",
          "width": 3
         },
         "mode": "lines",
         "name": "Smoothed (n=36)",
         "type": "scatter",
         "x": {
          "bdata": "AQACAAMABAAFAAYABwAIAAkACgALAAwADQAOAA8AEAARABIAEwAUABUAFgAXABgAGQAaABsAHAAdAB4AHwAgACEAIgAjACQAJQAmACcAKAApACoAKwAsAC0ALgAvADAAMQAyADMANAA1ADYANwA4ADkAOgA7ADwAPQA+AD8AQABBAEIAQwBEAEUARgBHAEgASQBKAEsATABNAE4ATwBQAFEAUgBTAFQAVQBWAFcAWABZAFoAWwBcAF0AXgBfAGAAYQBiAGMAZABlAGYAZwBoAGkAagBrAGwAbQBuAG8AcABxAHIAcwB0AHUAdgB3AHgAeQB6AHsAfAB9AH4AfwCAAIEAggCDAIQAhQCGAIcAiACJAIoAiwCMAI0AjgCPAJAAkQCSAJMAlACVAJYAlwCYAJkAmgCbAJwAnQCeAJ8AoAChAKIAowCkAKUApgCnAKgAqQCqAKsArACtAK4ArwCwALEAsgCzALQAtQC2ALcAuAC5ALoAuwC8AL0AvgC/AMAAwQDCAMMAxADFAMYAxwDIAMkAygDLAMwAzQDOAM8A0ADRANIA0wDUANUA1gDXANgA2QDaANsA3ADdAN4A3wDgAOEA4gDjAOQA5QDmAOcA6ADpAOoA6wDsAO0A7gDvAPAA8QDyAPMA9AD1APYA9wD4APkA+gD7APwA/QD+AP8AAAEBAQIBAwEEAQUBBgEHAQgBCQEKAQsBDAENAQ4BDwEQAREBEgETARQBFQEWARcBGAEZARoBGwEcAR0BHgEfASABIQEiASMBJAElASYBJwEoASkBKgErASwBLQEuAS8BMAExATIBMwE0ATUBNgE3ATgBOQE6ATsBPAE9AT4BPwFAAUEBQgFDAUQBRQFGAUcBSAFJAUoBSwFMAU0BTgFPAVABUQFSAVMBVAFVAVYBVwFYAVkBWgFbAVwBXQFeAV8BYAFhAWIBYwFkAWUBZgFnAWgBaQFqAWsBbAFtAW4BbwFwAXEBcgFzAXQBdQF2AXcBeAF5AXoBewF8AX0BfgF/AYABgQGCAYMBhAGFAYYBhwGIAYkBigGLAYwBjQGOAY8BkAGRAZIBkwGUAZUBlgGXAZgBmQGaAZsBnAGdAZ4BnwGgAaEBogGjAaQBpQGmAacBqAGpAaoBqwGsAa0BrgGvAbABsQGyAbMBtAG1AbYBtwG4AbkBugG7AbwBvQG+Ab8BwAHBAcIBwwHEAcUBxgHHAcgByQHKAcsBzAHNAc4BzwHQAdEB0gHTAdQB1QHWAdcB2AHZAdoB2wHcAd0B3gHfAeAB4QHiAeMB5AHlAeYB5wHoAekB6gHrAewB7QHuAe8B8AHxAfIB8wH0AfUB9gH3AfgB+QH6AfsB/AH9Af4B/wEAAgECAgIDAgQCBQIGAgcCCAIJAgoCCwIMAg0CDgIPAhACEQISAhMCFAIVAhYCFwIYAhkCGgIbAhwCHQIeAh8CIAIhAiICIwIkAiUCJgInAigCKQIqAisCLAItAi4CLwIwAjECMgIzAjQCNQI2AjcCOAI5AjoCOwI8Aj0CPgI/AkACQQJCAkMCRAJFAkYCRwJIAkkCSgJLAkwCTQJOAk8CUAJRAlICUwJUAlUCVgJXAlgCWQJaAlsCXAJdAl4CXwJgAmECYgJjAmQCZQJmAmcCaAJpAmoCawJsAm0CbgJvAnACcQJyAnMCdAJ1AnYCdwJ4AnkCegJ7AnwCfQJ+An8CgAKBAoICgwKEAoUChgKHAogCiQKKAosCjAKNAo4CjwKQApECkgKTApQClQKWApcCmAKZApoCmwKcAp0CngKfAqACoQKiAqMCpAKlAqYCpwKoAqkCqgKrAqwCrQKuAq8CsAKxArICswK0ArUCtgK3ArgCuQK6ArsCvAK9Ar4CvwLAAsECwgLDAsQCxQLGAscCyALJAsoCywLMAs0CzgLPAtAC0QLSAtMC1ALVAg==",
          "dtype": "i2"
         },
         "xaxis": "x4",
         "y": {
          "bdata": "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",
          "dtype": "f8"
         },
         "yaxis": "y4"
        }
       ],
       "layout": {
        "annotations": [
         {
          "font": {
           "size": 16
          },
          "showarrow": false,
          "text": "Distance vs Frame Index",
          "x": 0.225,
          "xanchor": "center",
          "xref": "paper",
          "y": 1,
          "yanchor": "bottom",
          "yref": "paper"
         },
         {
          "font": {
           "size": 16
          },
          "showarrow": false,
          "text": "Distance vs Time",
          "x": 0.775,
          "xanchor": "center",
          "xref": "paper",
          "y": 1,
          "yanchor": "bottom",
          "yref": "paper"
         },
         {
          "font": {
           "size": 16
          },
          "showarrow": false,
          "text": "Distance Distribution",
          "x": 0.225,
          "xanchor": "center",
          "xref": "paper",
          "y": 0.375,
          "yanchor": "bottom",
          "yref": "paper"
         },
         {
          "font": {
           "size": 16
          },
          "showarrow": false,
          "text": "Distance Trends",
          "x": 0.775,
          "xanchor": "center",
          "xref": "paper",
          "y": 0.375,
          "yanchor": "bottom",
          "yref": "paper"
         },
         {
          "showarrow": false,
          "text": "Mean: 0.67meters",
          "x": 0.6659714535870207,
          "xanchor": "left",
          "xref": "x3",
          "y": 1,
          "yanchor": "top",
          "yref": "y3 domain"
         }
        ],
        "height": 800,
        "shapes": [
         {
          "line": {
           "color": "red",
           "dash": "dash"
          },
          "type": "line",
          "x0": 0.6659714535870207,
          "x1": 0.6659714535870207,
          "xref": "x3",
          "y0": 0,
          "y1": 1,
          "yref": "y3 domain"
         }
        ],
        "showlegend": true,
        "template": {
         "data": {
          "bar": [
           {
            "error_x": {
             "color": "#2a3f5f"
            },
            "error_y": {
             "color": "#2a3f5f"
            },
            "marker": {
             "line": {
              "color": "#E5ECF6",
              "width": 0.5
             },
             "pattern": {
              "fillmode": "overlay",
              "size": 10,
              "solidity": 0.2
             }
            },
            "type": "bar"
           }
          ],
          "barpolar": [
           {
            "marker": {
             "line": {
              "color": "#E5ECF6",
              "width": 0.5
             },
             "pattern": {
              "fillmode": "overlay",
              "size": 10,
              "solidity": 0.2
             }
            },
            "type": "barpolar"
           }
          ],
          "carpet": [
           {
            "aaxis": {
             "endlinecolor": "#2a3f5f",
             "gridcolor": "white",
             "linecolor": "white",
             "minorgridcolor": "white",
             "startlinecolor": "#2a3f5f"
            },
            "baxis": {
             "endlinecolor": "#2a3f5f",
             "gridcolor": "white",
             "linecolor": "white",
             "minorgridcolor": "white",
             "startlinecolor": "#2a3f5f"
            },
            "type": "carpet"
           }
          ],
          "choropleth": [
           {
            "colorbar": {
             "outlinewidth": 0,
             "ticks": ""
            },
            "type": "choropleth"
           }
          ],
          "contour": [
           {
            "colorbar": {
             "outlinewidth": 0,
             "ticks": ""
            },
            "colorscale": [
             [
              0,
              "#0d0887"
             ],
             [
              0.1111111111111111,
              "#46039f"
             ],
             [
              0.2222222222222222,
              "#7201a8"
             ],
             [
              0.3333333333333333,
              "#9c179e"
             ],
             [
              0.4444444444444444,
              "#bd3786"
             ],
             [
              0.5555555555555556,
              "#d8576b"
             ],
             [
              0.6666666666666666,
              "#ed7953"
             ],
             [
              0.7777777777777778,
              "#fb9f3a"
             ],
             [
              0.8888888888888888,
              "#fdca26"
             ],
             [
              1,
              "#f0f921"
             ]
            ],
            "type": "contour"
           }
          ],
          "contourcarpet": [
           {
            "colorbar": {
             "outlinewidth": 0,
             "ticks": ""
            },
            "type": "contourcarpet"
           }
          ],
          "heatmap": [
           {
            "colorbar": {
             "outlinewidth": 0,
             "ticks": ""
            },
            "colorscale": [
             [
              0,
              "#0d0887"
             ],
             [
              0.1111111111111111,
              "#46039f"
             ],
             [
              0.2222222222222222,
              "#7201a8"
             ],
             [
              0.3333333333333333,
              "#9c179e"
             ],
             [
              0.4444444444444444,
              "#bd3786"
             ],
             [
              0.5555555555555556,
              "#d8576b"
             ],
             [
              0.6666666666666666,
              "#ed7953"
             ],
             [
              0.7777777777777778,
              "#fb9f3a"
             ],
             [
              0.8888888888888888,
              "#fdca26"
             ],
             [
              1,
              "#f0f921"
             ]
            ],
            "type": "heatmap"
           }
          ],
          "histogram": [
           {
            "marker": {
             "pattern": {
              "fillmode": "overlay",
              "size": 10,
              "solidity": 0.2
             }
            },
            "type": "histogram"
           }
          ],
          "histogram2d": [
           {
            "colorbar": {
             "outlinewidth": 0,
             "ticks": ""
            },
            "colorscale": [
             [
              0,
              "#0d0887"
             ],
             [
              0.1111111111111111,
              "#46039f"
             ],
             [
              0.2222222222222222,
              "#7201a8"
             ],
             [
              0.3333333333333333,
              "#9c179e"
             ],
             [
              0.4444444444444444,
              "#bd3786"
             ],
             [
              0.5555555555555556,
              "#d8576b"
             ],
             [
              0.6666666666666666,
              "#ed7953"
             ],
             [
              0.7777777777777778,
              "#fb9f3a"
             ],
             [
              0.8888888888888888,
              "#fdca26"
             ],
             [
              1,
              "#f0f921"
             ]
            ],
            "type": "histogram2d"
           }
          ],
          "histogram2dcontour": [
           {
            "colorbar": {
             "outlinewidth": 0,
             "ticks": ""
            },
            "colorscale": [
             [
              0,
              "#0d0887"
             ],
             [
              0.1111111111111111,
              "#46039f"
             ],
             [
              0.2222222222222222,
              "#7201a8"
             ],
             [
              0.3333333333333333,
              "#9c179e"
             ],
             [
              0.4444444444444444,
              "#bd3786"
             ],
             [
              0.5555555555555556,
              "#d8576b"
             ],
             [
              0.6666666666666666,
              "#ed7953"
             ],
             [
              0.7777777777777778,
              "#fb9f3a"
             ],
             [
              0.8888888888888888,
              "#fdca26"
             ],
             [
              1,
              "#f0f921"
             ]
            ],
            "type": "histogram2dcontour"
           }
          ],
          "mesh3d": [
           {
            "colorbar": {
             "outlinewidth": 0,
             "ticks": ""
            },
            "type": "mesh3d"
           }
          ],
          "parcoords": [
           {
            "line": {
             "colorbar": {
              "outlinewidth": 0,
              "ticks": ""
             }
            },
            "type": "parcoords"
           }
          ],
          "pie": [
           {
            "automargin": true,
            "type": "pie"
           }
          ],
          "scatter": [
           {
            "fillpattern": {
             "fillmode": "overlay",
             "size": 10,
             "solidity": 0.2
            },
            "type": "scatter"
           }
          ],
          "scatter3d": [
           {
            "line": {
             "colorbar": {
              "outlinewidth": 0,
              "ticks": ""
             }
            },
            "marker": {
             "colorbar": {
              "outlinewidth": 0,
              "ticks": ""
             }
            },
            "type": "scatter3d"
           }
          ],
          "scattercarpet": [
           {
            "marker": {
             "colorbar": {
              "outlinewidth": 0,
              "ticks": ""
             }
            },
            "type": "scattercarpet"
           }
          ],
          "scattergeo": [
           {
            "marker": {
             "colorbar": {
              "outlinewidth": 0,
              "ticks": ""
             }
            },
            "type": "scattergeo"
           }
          ],
          "scattergl": [
           {
            "marker": {
             "colorbar": {
              "outlinewidth": 0,
              "ticks": ""
             }
            },
            "type": "scattergl"
           }
          ],
          "scattermap": [
           {
            "marker": {
             "colorbar": {
              "outlinewidth": 0,
              "ticks": ""
             }
            },
            "type": "scattermap"
           }
          ],
          "scattermapbox": [
           {
            "marker": {
             "colorbar": {
              "outlinewidth": 0,
              "ticks": ""
             }
            },
            "type": "scattermapbox"
           }
          ],
          "scatterpolar": [
           {
            "marker": {
             "colorbar": {
              "outlinewidth": 0,
              "ticks": ""
             }
            },
            "type": "scatterpolar"
           }
          ],
          "scatterpolargl": [
           {
            "marker": {
             "colorbar": {
              "outlinewidth": 0,
              "ticks": ""
             }
            },
            "type": "scatterpolargl"
           }
          ],
          "scatterternary": [
           {
            "marker": {
             "colorbar": {
              "outlinewidth": 0,
              "ticks": ""
             }
            },
            "type": "scatterternary"
           }
          ],
          "surface": [
           {
            "colorbar": {
             "outlinewidth": 0,
             "ticks": ""
            },
            "colorscale": [
             [
              0,
              "#0d0887"
             ],
             [
              0.1111111111111111,
              "#46039f"
             ],
             [
              0.2222222222222222,
              "#7201a8"
             ],
             [
              0.3333333333333333,
              "#9c179e"
             ],
             [
              0.4444444444444444,
              "#bd3786"
             ],
             [
              0.5555555555555556,
              "#d8576b"
             ],
             [
              0.6666666666666666,
              "#ed7953"
             ],
             [
              0.7777777777777778,
              "#fb9f3a"
             ],
             [
              0.8888888888888888,
              "#fdca26"
             ],
             [
              1,
              "#f0f921"
             ]
            ],
            "type": "surface"
           }
          ],
          "table": [
           {
            "cells": {
             "fill": {
              "color": "#EBF0F8"
             },
             "line": {
              "color": "white"
             }
            },
            "header": {
             "fill": {
              "color": "#C8D4E3"
             },
             "line": {
              "color": "white"
             }
            },
            "type": "table"
           }
          ]
         },
         "layout": {
          "annotationdefaults": {
           "arrowcolor": "#2a3f5f",
           "arrowhead": 0,
           "arrowwidth": 1
          },
          "autotypenumbers": "strict",
          "coloraxis": {
           "colorbar": {
            "outlinewidth": 0,
            "ticks": ""
           }
          },
          "colorscale": {
           "diverging": [
            [
             0,
             "#8e0152"
            ],
            [
             0.1,
             "#c51b7d"
            ],
            [
             0.2,
             "#de77ae"
            ],
            [
             0.3,
             "#f1b6da"
            ],
            [
             0.4,
             "#fde0ef"
            ],
            [
             0.5,
             "#f7f7f7"
            ],
            [
             0.6,
             "#e6f5d0"
            ],
            [
             0.7,
             "#b8e186"
            ],
            [
             0.8,
             "#7fbc41"
            ],
            [
             0.9,
             "#4d9221"
            ],
            [
             1,
             "#276419"
            ]
           ],
           "sequential": [
            [
             0,
             "#0d0887"
            ],
            [
             0.1111111111111111,
             "#46039f"
            ],
            [
             0.2222222222222222,
             "#7201a8"
            ],
            [
             0.3333333333333333,
             "#9c179e"
            ],
            [
             0.4444444444444444,
             "#bd3786"
            ],
            [
             0.5555555555555556,
             "#d8576b"
            ],
            [
             0.6666666666666666,
             "#ed7953"
            ],
            [
             0.7777777777777778,
             "#fb9f3a"
            ],
            [
             0.8888888888888888,
             "#fdca26"
            ],
            [
             1,
             "#f0f921"
            ]
           ],
           "sequentialminus": [
            [
             0,
             "#0d0887"
            ],
            [
             0.1111111111111111,
             "#46039f"
            ],
            [
             0.2222222222222222,
             "#7201a8"
            ],
            [
             0.3333333333333333,
             "#9c179e"
            ],
            [
             0.4444444444444444,
             "#bd3786"
            ],
            [
             0.5555555555555556,
             "#d8576b"
            ],
            [
             0.6666666666666666,
             "#ed7953"
            ],
            [
             0.7777777777777778,
             "#fb9f3a"
            ],
            [
             0.8888888888888888,
             "#fdca26"
            ],
            [
             1,
             "#f0f921"
            ]
           ]
          },
          "colorway": [
           "#636efa",
           "#EF553B",
           "#00cc96",
           "#ab63fa",
           "#FFA15A",
           "#19d3f3",
           "#FF6692",
           "#B6E880",
           "#FF97FF",
           "#FECB52"
          ],
          "font": {
           "color": "#2a3f5f"
          },
          "geo": {
           "bgcolor": "white",
           "lakecolor": "white",
           "landcolor": "#E5ECF6",
           "showlakes": true,
           "showland": true,
           "subunitcolor": "white"
          },
          "hoverlabel": {
           "align": "left"
          },
          "hovermode": "closest",
          "mapbox": {
           "style": "light"
          },
          "paper_bgcolor": "white",
          "plot_bgcolor": "#E5ECF6",
          "polar": {
           "angularaxis": {
            "gridcolor": "white",
            "linecolor": "white",
            "ticks": ""
           },
           "bgcolor": "#E5ECF6",
           "radialaxis": {
            "gridcolor": "white",
            "linecolor": "white",
            "ticks": ""
           }
          },
          "scene": {
           "xaxis": {
            "backgroundcolor": "#E5ECF6",
            "gridcolor": "white",
            "gridwidth": 2,
            "linecolor": "white",
            "showbackground": true,
            "ticks": "",
            "zerolinecolor": "white"
           },
           "yaxis": {
            "backgroundcolor": "#E5ECF6",
            "gridcolor": "white",
            "gridwidth": 2,
            "linecolor": "white",
            "showbackground": true,
            "ticks": "",
            "zerolinecolor": "white"
           },
           "zaxis": {
            "backgroundcolor": "#E5ECF6",
            "gridcolor": "white",
            "gridwidth": 2,
            "linecolor": "white",
            "showbackground": true,
            "ticks": "",
            "zerolinecolor": "white"
           }
          },
          "shapedefaults": {
           "line": {
            "color": "#2a3f5f"
           }
          },
          "ternary": {
           "aaxis": {
            "gridcolor": "white",
            "linecolor": "white",
            "ticks": ""
           },
           "baxis": {
            "gridcolor": "white",
            "linecolor": "white",
            "ticks": ""
           },
           "bgcolor": "#E5ECF6",
           "caxis": {
            "gridcolor": "white",
            "linecolor": "white",
            "ticks": ""
           }
          },
          "title": {
           "x": 0.05
          },
          "xaxis": {
           "automargin": true,
           "gridcolor": "white",
           "linecolor": "white",
           "ticks": "",
           "title": {
            "standoff": 15
           },
           "zerolinecolor": "white",
           "zerolinewidth": 2
          },
          "yaxis": {
           "automargin": true,
           "gridcolor": "white",
           "linecolor": "white",
           "ticks": "",
           "title": {
            "standoff": 15
           },
           "zerolinecolor": "white",
           "zerolinewidth": 2
          }
         }
        },
        "title": {
         "text": "Real-World Distance Analysis"
        },
        "xaxis": {
         "anchor": "y",
         "domain": [
          0,
          0.45
         ],
         "title": {
          "text": "Frame Index"
         }
        },
        "xaxis2": {
         "anchor": "y2",
         "domain": [
          0.55,
          1
         ],
         "title": {
          "text": "Time"
         }
        },
        "xaxis3": {
         "anchor": "y3",
         "domain": [
          0,
          0.45
         ],
         "title": {
          "text": "Distance (meters)"
         }
        },
        "xaxis4": {
         "anchor": "y4",
         "domain": [
          0.55,
          1
         ],
         "title": {
          "text": "Frame Index"
         }
        },
        "yaxis": {
         "anchor": "x",
         "domain": [
          0.625,
          1
         ],
         "title": {
          "text": "Distance (meters)"
         }
        },
        "yaxis2": {
         "anchor": "x2",
         "domain": [
          0.625,
          1
         ],
         "title": {
          "text": "Distance (meters)"
         }
        },
        "yaxis3": {
         "anchor": "x3",
         "domain": [
          0,
          0.375
         ],
         "title": {
          "text": "Frequency"
         }
        },
        "yaxis4": {
         "anchor": "x4",
         "domain": [
          0,
          0.375
         ],
         "title": {
          "text": "Distance (meters)"
         }
        }
       }
      }
     },
     "metadata": {},
     "output_type": "display_data"
    }
   ],
   "source": [
    "# Real-world distance analysis and plotting using utility function\n",
    "iau.plot_real_world_distance_analysis(distance_results, image_shape=image_shape, sonar_coverage_meters=sonar_coverage_meters)"
   ]
  },
  {
   "cell_type": "code",
   "execution_count": 8,
   "id": "c10a8be6",
   "metadata": {},
   "outputs": [
    {
     "name": "stdout",
     "output_type": "stream",
     "text": [
      "🎯 LOADING DVL DATA FOR COMPARISON: 2024-08-22_14-47-39\n",
      "============================================================\n",
      "🎯 LOADING ALL DISTANCE DATA FOR BAG: 2024-08-22_14-47-39\n",
      "============================================================\n",
      "📡 1. Loading Navigation Data...\n",
      "   ✅ Loaded 374 navigation records\n",
      "📡 2. Loading Guidance Data...\n",
      "   ✅ Loaded 364 guidance records with ['error_net_distance', 'desired_net_distance', 'r_net_distance_d']\n",
      "📡 3. Loading DVL Altimeter...\n",
      "   ✅ Loaded 20 DVL altimeter records\n",
      "📡 4. Loading USBL...\n",
      "   ✅ Loaded 21 USBL records\n",
      "📡 5. Loading DVL Position...\n",
      "   ✅ Loaded 208 DVL position records\n",
      "📡 6. Loading Navigation Position...\n",
      "   ✅ Loaded 194 navigation position records\n",
      "📡 7. Loading INS Z Position...\n",
      "   ✅ Loaded 402 INS records with positionFrame.z\n",
      "\n",
      "📊 LOADING SUMMARY:\n",
      "   🎯 Target bag: 2024-08-22_14-47-39\n",
      "   📁 Raw data loaded: 2/2\n",
      "   📏 Distance measurements: 6\n",
      "\n",
      "📊 RAW DATA LOADED:\n",
      "   ✅ navigation: 374 records\n",
      "   ✅ guidance: 364 records\n",
      "\n",
      "📏 DISTANCE MEASUREMENTS LOADED:\n",
      "   ✅ DVL_Altimeter: 20 records - Distance to seafloor\n",
      "   ✅ USBL_3D: 21 records - 3D acoustic position\n",
      "   ✅ USBL_Depth: 21 records - USBL depth measurement\n",
      "   ✅ DVL_Position: 208 records - 3D DVL position\n",
      "   ✅ Nav_Position: 194 records - 2D navigation position\n",
      "   ✅ INS_Z_Position: 402 records - INS positionFrame.z (vertical position)\n"
     ]
    }
   ],
   "source": [
    "# 🔄 COMPARISON: SONAR vs DVL DISTANCE MEASUREMENTS\n",
    "# =================================================\n",
    "import utils.net_distance_analysis as sda\n",
    "\n",
    "print(f\"🎯 LOADING DVL DATA FOR COMPARISON: {TARGET_BAG}\")\n",
    "print(\"=\" * 60)\n",
    "\n",
    "# IMPORTANT: Pass the by_bag folder, not just the exports root\n",
    "# The function expects the folder containing the CSV files\n",
    "from utils.sonar_config import EXPORTS_SUBDIRS\n",
    "BY_BAG_FOLDER = EXPORTS_FOLDER / EXPORTS_SUBDIRS.get('by_bag', 'by_bag')\n",
    "\n",
    "# Load all distance data for the target bag\n",
    "raw_data, distance_measurements = sda.load_all_distance_data_for_bag(TARGET_BAG, BY_BAG_FOLDER)\n",
    "\n",
    "# Display what we loaded\n",
    "print(f\"\\n📊 RAW DATA LOADED:\")\n",
    "for key, data in raw_data.items():\n",
    "    if data is not None:\n",
    "        print(f\"   ✅ {key}: {len(data)} records\")\n",
    "    else:\n",
    "        print(f\"   ❌ {key}: None\")\n",
    "\n",
    "print(f\"\\n📏 DISTANCE MEASUREMENTS LOADED:\")\n",
    "for key, info in distance_measurements.items():\n",
    "    data_len = len(info['data'])\n",
    "    print(f\"   ✅ {key}: {data_len} records - {info['description']}\")"
   ]
  },
  {
   "cell_type": "code",
   "execution_count": 9,
   "id": "0375375e",
   "metadata": {},
   "outputs": [
    {
     "name": "stderr",
     "output_type": "stream",
     "text": [
      "/Users/eirikvarnes/code/SOLAQUA/utils/sonar_image_analysis.py:274: FutureWarning:\n",
      "\n",
      "Series.fillna with 'method' is deprecated and will raise in a future version. Use obj.ffill() or obj.bfill() instead.\n",
      "\n",
      "/Users/eirikvarnes/code/SOLAQUA/utils/sonar_image_analysis.py:281: FutureWarning:\n",
      "\n",
      "Series.fillna with 'method' is deprecated and will raise in a future version. Use obj.ffill() or obj.bfill() instead.\n",
      "\n"
     ]
    },
    {
     "data": {
      "application/vnd.plotly.v1+json": {
       "config": {
        "plotlyServerURL": "https://plot.ly"
       },
       "data": [
        {
         "line": {
          "color": "rgba(255,0,0,0.3)"
         },
         "mode": "lines",
         "name": "Sonar Raw",
         "type": "scatter",
         "x": {
          "bdata": "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",
          "dtype": "f8"
         },
         "xaxis": "x",
         "y": {
          "bdata": "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",
          "dtype": "f8"
         },
         "yaxis": "y"
        },
        {
         "line": {
          "color": "red",
          "width": 3
         },
         "mode": "lines",
         "name": "Sonar Smoothed",
         "type": "scatter",
         "x": {
          "bdata": "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",
          "dtype": "f8"
         },
         "xaxis": "x",
         "y": {
          "bdata": "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",
          "dtype": "f8"
         },
         "yaxis": "y"
        },
        {
         "line": {
          "color": "blue",
          "width": 3
         },
         "mode": "lines",
         "name": "DVL Distance",
         "type": "scatter",
         "x": {
          "bdata": "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",
          "dtype": "f8"
         },
         "xaxis": "x",
         "y": {
          "bdata": "AAAAgML14D8AAAAgrkfhPwAAACCuR+E/AAAAIK5H4T8AAACgmZnhPwAAACCuR+E/AAAAIK5H4T8AAACgmZnhPwAAACCuR+E/AAAAIK5H4T8AAAAgrkfhPwAAAIDC9eA/AAAAIK5H4T8AAAAgrkfhPwAAACCuR+E/AAAAoJmZ4T8AAACgmZnhPwAAACCF6+E/AAAAoHA94j8AAAAgXI/iPwAAACBcj+I/AAAAoEfh4j8AAABAMzPjPwAAAEAzM+M/AAAAwB6F4z8AAADAHoXjPwAAAEAzM+M/AAAAwB6F4z8AAABACtfjPwAAAEAK1+M/AAAAwPUo5D8AAABACtfjPwAAAMD1KOQ/AAAAwPUo5D8AAABA4XrkPwAAAEAK1+M/AAAAwPUo5D8AAADA9SjkPwAAAEDheuQ/AAAAQOF65D8AAABA4XrkPwAAAEDheuQ/AAAAQOF65D8AAABguB7lPwAAAMDMzOQ/AAAAQOF65D8AAABA4XrkPwAAAEDheuQ/AAAAwMzM5D8AAADAzMzkPwAAAEDheuQ/AAAAwMzM5D8AAABA4XrkPwAAAEDheuQ/AAAAQOF65D8AAABA4XrkPwAAAEDheuQ/AAAAQOF65D8AAADA9SjkPwAAACCuR+E/AAAAwPUo5D8AAABACtfjPwAAAEAK1+M/AAAAQOF65D8AAABA4XrkPwAAAMD1KOQ/AAAAwPUo5D8AAADA9SjkPwAAAEAK1+M/AAAAwPUo5D8AAABACtfjPwAAAMAeheM/AAAAwB6F4z8AAADA9SjkPwAAAMD1KOQ/AAAAwPUo5D8AAADA9SjkPwAAAEAK1+M/AAAAQArX4z8AAABACtfjPwAAAEAK1+M/AAAAwB6F4z8AAABACtfjPwAAAEAK1+M/AAAAwB6F4z8AAADAHoXjPwAAAMAeheM/AAAAwB6F4z8AAABAMzPjPwAAAEAzM+M/AAAAQDMz4z8AAABAMzPjPwAAAKBH4eI/////36NwzT8AAACgR+HiPwAAAEAzM+M/AAAAoEfh4j8AAABAMzPjPwAAAEAK1+M/AAAAwPUo5D8AAADA9SjkPwAAAEAK1+M/AAAAQArX4z8AAADA9SjkPwAAAEAK1+M/AAAAQArX4z8AAABACtfjPwAAAEAK1+M/AAAAQArX4z8AAABACtfjPwAAAMAeheM/AAAAQArX4z8AAABACtfjPwAAAMAeheM/AAAAQArX4z8AAABACtfjPwAAAMAeheM/AAAAwB6F4z8AAADAHoXjPwAAAEAzM+M/AAAAoEfh4j8AAACgR+HiPwAAAEAzM+M/AAAAoEfh4j8AAAAgXI/iPwAAAKBH4eI/AAAAIFyP4j8AAACgcD3iPwAAAKBH4eI/AAAAQDMz4z8AAACgR+HiPwAAAEAzM+M/AAAAIFyP4j8AAABAMzPjPwAAACBcj+I/AAAAIFyP4j8AAACgcD3iPwAAACBcj+I/AAAAoEfh4j8AAACgcD3iPwAAACBcj+I/AAAAIFyP4j8AAAAgXI/iPwAAACBcj+I/AAAAIFyP4j8AAAAgXI/iPwAAAKBH4eI/AAAAoEfh4j8AAABAMzPjPwAAAKBH4eI/AAAAoEfh4j8AAABAMzPjPwAAAEAzM+M/AAAAIFyP4j8AAACgR+HiPwAAAMAeheM/AAAAQArX4z8AAABACtfjPwAAAMD1KOQ/AAAAoHA94j8AAABAMzPjPwAAAMAeheM/AAAAwB6F4z8AAABACtfjPwAAAMD1KOQ/AAAAwPUo5D8AAABACtfjPwAAAEAK1+M/AAAAwPUo5D8AAADAHoXjPwAAAGBmZuY/AAAA4HoU5j8AAADA9SjkPwAAAOB6FOY/AAAA4KNw5T8AAADgehTmPwAAAOCjcOU/AAAAQArX4z8AAADA9SjkPwAAAMD1KOQ/AAAAwPUo5D8AAABACtfjP////3/C9dg/AAAAQArX4z8AAABACtfjP////389Ctc/AAAAgD0K5z8AAABACtfjPwAAAMD1KOQ/AAAAgBSu5z8AAABA4XrkPwAAAGC4HuU/AAAAYLge5T8AAADAzMzkPwAAAOCjcOU/AAAAYLge5T8AAAAAAADoPwAAAIA9Cuc/AAAAwMzM5D8AAABA4XrkPwAAAMD1KOQ/AAAAQOF65D8AAADA9SjkPwAAAEAK1+M/AAAA4HoU5j8AAABACtfjPwAAAMAeheM/AAAAgD0K5z8AAADA9SjkPwAAAMAeheM/AAAAwB6F4z8AAADAHoXjPwAAAEAzM+M/AAAAwB6F4z8AAADgo3DlPwAAAKBH4eI/AAAAoEfh4j8AAACgR+HiPwAAAKBH4eI/AAAAoEfh4j8AAACgR+HiPwAAAKBH4eI/AAAAQDMz4z8AAAAgXI/iPwAAACBcj+I/AAAAoHA94j8AAACgcD3iPwAAAKBH4eI/AAAAoHA94j8AAACgcD3iPwAAACBcj+I/AAAAoHA94j8AAACgcD3iPwAAACCF6+E/AAAAIIXr4T8AAAAghevhPwAAACCuR+E/AAAAIIXr4T8AAACgmZnhPwAAAKCZmeE/AAAAoHA94j8AAAAghevhPwAAAKCZmeE/AAAAoHA94j8AAACgcD3iPwAAAKBH4eI/AAAAoHA94j8AAAAgXI/iPwAAACBcj+I/AAAAIFyP4j8AAACgR+HiPwAAAKBH4eI/AAAAoEfh4j8AAACgR+HiPwAAAKBH4eI/AAAAoEfh4j8AAAAgXI/iPwAAAKBH4eI/AAAAoEfh4j8AAACgcD3iPwAAAEAzM+M/AAAAoEfh4j8AAACgR+HiPwAAAKBH4eI/AAAAoEfh4j8AAABAMzPjPwAAAKBH4eI/AAAAoEfh4j8AAABAMzPjPwAAAMAeheM/AAAAQDMz4z8AAABACtfjPwAAAEAK1+M/AAAAwB6F4z8AAADAHoXjPwAAAEAK1+M/AAAAwPUo5D8AAADA9SjkPwAAAMD1KOQ/AAAAwPUo5D8AAADA9SjkPwAAAMD1KOQ/AAAAQArX4z8AAADA9SjkPwAAAMAeheM/AAAAwPUo5D8AAABACtfjPwAAAEAK1+M/AAAAQDMz4z8AAADAHoXjPwAAAEAK1+M/AAAAQArX4z8AAABACtfjPwAAAMAeheM/AAAAQArX4z8AAABACtfjPwAAAMAeheM/AAAAwB6F4z8AAABACtfjPwAAACBcj+I/AAAAoEfh4j8AAACgR+HiPwAAAKBH4eI/AAAAoEfh4j8AAACgR+HiPwAAAEAzM+M/AAAAgOtR4D8AAACA61HgPwAAAAAAAOA/AAAAAAAA4D8AAAAAAADgPwAAAIDrUeA/AAAAAAAA4D8AAAAAAADgPwAAAIDrUeA/AAAAgOtR4D8AAAAAAADgPwAAAIDC9eA/AAAAIK5H4T8AAAAgrkfhPwAAACCF6+E/AAAAIIXr4T8AAACgcD3iPwAAACCF6+E/AAAAoHA94j8AAACgcD3iPwAAAKBH4eI/AAAAoEfh4j8AAACgR+HiPwAAAEAzM+M/AAAAwB6F4z8AAADAHoXjPwAAAEAzM+M/AAAAoEfh4j8AAADAHoXjPwAAAEAzM+M/AAAAQArX4z8AAABACtfjPwAAAEAK1+M/AAAAQArX4z8AAABACtfjPwAAAMD1KOQ/AAAAwPUo5D8AAADA9SjkPwAAAMD1KOQ/AAAAQArX4z8AAADAHoXjPwAAAEAK1+M/AAAAwPUo5D8AAABACtfjPwAAAEAK1+M/AAAAQArX4z8AAADA9SjkPwAAAMDMzOQ/AAAAQOF65D8AAABA4XrkPwAAAOCjcOU/AAAAwPUo5D8AAABA4XrkPwAAAMD1KOQ/AAAAwPUo5D8AAADA9SjkPwAAAMD1KOQ/AAAAwPUo5D8AAABACtfjPwAAAMD1KOQ/AAAAwPUo5D8AAADA9SjkPwAAAEAK1+M/AAAAwB6F4z8AAADAHoXjPwAAAEAK1+M/AAAAwB6F4z8AAAAgXI/iPw==",
          "dtype": "f8"
         },
         "yaxis": "y"
        }
       ],
       "layout": {
        "height": 600,
        "hovermode": "x unified",
        "template": {
         "data": {
          "bar": [
           {
            "error_x": {
             "color": "#2a3f5f"
            },
            "error_y": {
             "color": "#2a3f5f"
            },
            "marker": {
             "line": {
              "color": "#E5ECF6",
              "width": 0.5
             },
             "pattern": {
              "fillmode": "overlay",
              "size": 10,
              "solidity": 0.2
             }
            },
            "type": "bar"
           }
          ],
          "barpolar": [
           {
            "marker": {
             "line": {
              "color": "#E5ECF6",
              "width": 0.5
             },
             "pattern": {
              "fillmode": "overlay",
              "size": 10,
              "solidity": 0.2
             }
            },
            "type": "barpolar"
           }
          ],
          "carpet": [
           {
            "aaxis": {
             "endlinecolor": "#2a3f5f",
             "gridcolor": "white",
             "linecolor": "white",
             "minorgridcolor": "white",
             "startlinecolor": "#2a3f5f"
            },
            "baxis": {
             "endlinecolor": "#2a3f5f",
             "gridcolor": "white",
             "linecolor": "white",
             "minorgridcolor": "white",
             "startlinecolor": "#2a3f5f"
            },
            "type": "carpet"
           }
          ],
          "choropleth": [
           {
            "colorbar": {
             "outlinewidth": 0,
             "ticks": ""
            },
            "type": "choropleth"
           }
          ],
          "contour": [
           {
            "colorbar": {
             "outlinewidth": 0,
             "ticks": ""
            },
            "colorscale": [
             [
              0,
              "#0d0887"
             ],
             [
              0.1111111111111111,
              "#46039f"
             ],
             [
              0.2222222222222222,
              "#7201a8"
             ],
             [
              0.3333333333333333,
              "#9c179e"
             ],
             [
              0.4444444444444444,
              "#bd3786"
             ],
             [
              0.5555555555555556,
              "#d8576b"
             ],
             [
              0.6666666666666666,
              "#ed7953"
             ],
             [
              0.7777777777777778,
              "#fb9f3a"
             ],
             [
              0.8888888888888888,
              "#fdca26"
             ],
             [
              1,
              "#f0f921"
             ]
            ],
            "type": "contour"
           }
          ],
          "contourcarpet": [
           {
            "colorbar": {
             "outlinewidth": 0,
             "ticks": ""
            },
            "type": "contourcarpet"
           }
          ],
          "heatmap": [
           {
            "colorbar": {
             "outlinewidth": 0,
             "ticks": ""
            },
            "colorscale": [
             [
              0,
              "#0d0887"
             ],
             [
              0.1111111111111111,
              "#46039f"
             ],
             [
              0.2222222222222222,
              "#7201a8"
             ],
             [
              0.3333333333333333,
              "#9c179e"
             ],
             [
              0.4444444444444444,
              "#bd3786"
             ],
             [
              0.5555555555555556,
              "#d8576b"
             ],
             [
              0.6666666666666666,
              "#ed7953"
             ],
             [
              0.7777777777777778,
              "#fb9f3a"
             ],
             [
              0.8888888888888888,
              "#fdca26"
             ],
             [
              1,
              "#f0f921"
             ]
            ],
            "type": "heatmap"
           }
          ],
          "histogram": [
           {
            "marker": {
             "pattern": {
              "fillmode": "overlay",
              "size": 10,
              "solidity": 0.2
             }
            },
            "type": "histogram"
           }
          ],
          "histogram2d": [
           {
            "colorbar": {
             "outlinewidth": 0,
             "ticks": ""
            },
            "colorscale": [
             [
              0,
              "#0d0887"
             ],
             [
              0.1111111111111111,
              "#46039f"
             ],
             [
              0.2222222222222222,
              "#7201a8"
             ],
             [
              0.3333333333333333,
              "#9c179e"
             ],
             [
              0.4444444444444444,
              "#bd3786"
             ],
             [
              0.5555555555555556,
              "#d8576b"
             ],
             [
              0.6666666666666666,
              "#ed7953"
             ],
             [
              0.7777777777777778,
              "#fb9f3a"
             ],
             [
              0.8888888888888888,
              "#fdca26"
             ],
             [
              1,
              "#f0f921"
             ]
            ],
            "type": "histogram2d"
           }
          ],
          "histogram2dcontour": [
           {
            "colorbar": {
             "outlinewidth": 0,
             "ticks": ""
            },
            "colorscale": [
             [
              0,
              "#0d0887"
             ],
             [
              0.1111111111111111,
              "#46039f"
             ],
             [
              0.2222222222222222,
              "#7201a8"
             ],
             [
              0.3333333333333333,
              "#9c179e"
             ],
             [
              0.4444444444444444,
              "#bd3786"
             ],
             [
              0.5555555555555556,
              "#d8576b"
             ],
             [
              0.6666666666666666,
              "#ed7953"
             ],
             [
              0.7777777777777778,
              "#fb9f3a"
             ],
             [
              0.8888888888888888,
              "#fdca26"
             ],
             [
              1,
              "#f0f921"
             ]
            ],
            "type": "histogram2dcontour"
           }
          ],
          "mesh3d": [
           {
            "colorbar": {
             "outlinewidth": 0,
             "ticks": ""
            },
            "type": "mesh3d"
           }
          ],
          "parcoords": [
           {
            "line": {
             "colorbar": {
              "outlinewidth": 0,
              "ticks": ""
             }
            },
            "type": "parcoords"
           }
          ],
          "pie": [
           {
            "automargin": true,
            "type": "pie"
           }
          ],
          "scatter": [
           {
            "fillpattern": {
             "fillmode": "overlay",
             "size": 10,
             "solidity": 0.2
            },
            "type": "scatter"
           }
          ],
          "scatter3d": [
           {
            "line": {
             "colorbar": {
              "outlinewidth": 0,
              "ticks": ""
             }
            },
            "marker": {
             "colorbar": {
              "outlinewidth": 0,
              "ticks": ""
             }
            },
            "type": "scatter3d"
           }
          ],
          "scattercarpet": [
           {
            "marker": {
             "colorbar": {
              "outlinewidth": 0,
              "ticks": ""
             }
            },
            "type": "scattercarpet"
           }
          ],
          "scattergeo": [
           {
            "marker": {
             "colorbar": {
              "outlinewidth": 0,
              "ticks": ""
             }
            },
            "type": "scattergeo"
           }
          ],
          "scattergl": [
           {
            "marker": {
             "colorbar": {
              "outlinewidth": 0,
              "ticks": ""
             }
            },
            "type": "scattergl"
           }
          ],
          "scattermap": [
           {
            "marker": {
             "colorbar": {
              "outlinewidth": 0,
              "ticks": ""
             }
            },
            "type": "scattermap"
           }
          ],
          "scattermapbox": [
           {
            "marker": {
             "colorbar": {
              "outlinewidth": 0,
              "ticks": ""
             }
            },
            "type": "scattermapbox"
           }
          ],
          "scatterpolar": [
           {
            "marker": {
             "colorbar": {
              "outlinewidth": 0,
              "ticks": ""
             }
            },
            "type": "scatterpolar"
           }
          ],
          "scatterpolargl": [
           {
            "marker": {
             "colorbar": {
              "outlinewidth": 0,
              "ticks": ""
             }
            },
            "type": "scatterpolargl"
           }
          ],
          "scatterternary": [
           {
            "marker": {
             "colorbar": {
              "outlinewidth": 0,
              "ticks": ""
             }
            },
            "type": "scatterternary"
           }
          ],
          "surface": [
           {
            "colorbar": {
             "outlinewidth": 0,
             "ticks": ""
            },
            "colorscale": [
             [
              0,
              "#0d0887"
             ],
             [
              0.1111111111111111,
              "#46039f"
             ],
             [
              0.2222222222222222,
              "#7201a8"
             ],
             [
              0.3333333333333333,
              "#9c179e"
             ],
             [
              0.4444444444444444,
              "#bd3786"
             ],
             [
              0.5555555555555556,
              "#d8576b"
             ],
             [
              0.6666666666666666,
              "#ed7953"
             ],
             [
              0.7777777777777778,
              "#fb9f3a"
             ],
             [
              0.8888888888888888,
              "#fdca26"
             ],
             [
              1,
              "#f0f921"
             ]
            ],
            "type": "surface"
           }
          ],
          "table": [
           {
            "cells": {
             "fill": {
              "color": "#EBF0F8"
             },
             "line": {
              "color": "white"
             }
            },
            "header": {
             "fill": {
              "color": "#C8D4E3"
             },
             "line": {
              "color": "white"
             }
            },
            "type": "table"
           }
          ]
         },
         "layout": {
          "annotationdefaults": {
           "arrowcolor": "#2a3f5f",
           "arrowhead": 0,
           "arrowwidth": 1
          },
          "autotypenumbers": "strict",
          "coloraxis": {
           "colorbar": {
            "outlinewidth": 0,
            "ticks": ""
           }
          },
          "colorscale": {
           "diverging": [
            [
             0,
             "#8e0152"
            ],
            [
             0.1,
             "#c51b7d"
            ],
            [
             0.2,
             "#de77ae"
            ],
            [
             0.3,
             "#f1b6da"
            ],
            [
             0.4,
             "#fde0ef"
            ],
            [
             0.5,
             "#f7f7f7"
            ],
            [
             0.6,
             "#e6f5d0"
            ],
            [
             0.7,
             "#b8e186"
            ],
            [
             0.8,
             "#7fbc41"
            ],
            [
             0.9,
             "#4d9221"
            ],
            [
             1,
             "#276419"
            ]
           ],
           "sequential": [
            [
             0,
             "#0d0887"
            ],
            [
             0.1111111111111111,
             "#46039f"
            ],
            [
             0.2222222222222222,
             "#7201a8"
            ],
            [
             0.3333333333333333,
             "#9c179e"
            ],
            [
             0.4444444444444444,
             "#bd3786"
            ],
            [
             0.5555555555555556,
             "#d8576b"
            ],
            [
             0.6666666666666666,
             "#ed7953"
            ],
            [
             0.7777777777777778,
             "#fb9f3a"
            ],
            [
             0.8888888888888888,
             "#fdca26"
            ],
            [
             1,
             "#f0f921"
            ]
           ],
           "sequentialminus": [
            [
             0,
             "#0d0887"
            ],
            [
             0.1111111111111111,
             "#46039f"
            ],
            [
             0.2222222222222222,
             "#7201a8"
            ],
            [
             0.3333333333333333,
             "#9c179e"
            ],
            [
             0.4444444444444444,
             "#bd3786"
            ],
            [
             0.5555555555555556,
             "#d8576b"
            ],
            [
             0.6666666666666666,
             "#ed7953"
            ],
            [
             0.7777777777777778,
             "#fb9f3a"
            ],
            [
             0.8888888888888888,
             "#fdca26"
            ],
            [
             1,
             "#f0f921"
            ]
           ]
          },
          "colorway": [
           "#636efa",
           "#EF553B",
           "#00cc96",
           "#ab63fa",
           "#FFA15A",
           "#19d3f3",
           "#FF6692",
           "#B6E880",
           "#FF97FF",
           "#FECB52"
          ],
          "font": {
           "color": "#2a3f5f"
          },
          "geo": {
           "bgcolor": "white",
           "lakecolor": "white",
           "landcolor": "#E5ECF6",
           "showlakes": true,
           "showland": true,
           "subunitcolor": "white"
          },
          "hoverlabel": {
           "align": "left"
          },
          "hovermode": "closest",
          "mapbox": {
           "style": "light"
          },
          "paper_bgcolor": "white",
          "plot_bgcolor": "#E5ECF6",
          "polar": {
           "angularaxis": {
            "gridcolor": "white",
            "linecolor": "white",
            "ticks": ""
           },
           "bgcolor": "#E5ECF6",
           "radialaxis": {
            "gridcolor": "white",
            "linecolor": "white",
            "ticks": ""
           }
          },
          "scene": {
           "xaxis": {
            "backgroundcolor": "#E5ECF6",
            "gridcolor": "white",
            "gridwidth": 2,
            "linecolor": "white",
            "showbackground": true,
            "ticks": "",
            "zerolinecolor": "white"
           },
           "yaxis": {
            "backgroundcolor": "#E5ECF6",
            "gridcolor": "white",
            "gridwidth": 2,
            "linecolor": "white",
            "showbackground": true,
            "ticks": "",
            "zerolinecolor": "white"
           },
           "zaxis": {
            "backgroundcolor": "#E5ECF6",
            "gridcolor": "white",
            "gridwidth": 2,
            "linecolor": "white",
            "showbackground": true,
            "ticks": "",
            "zerolinecolor": "white"
           }
          },
          "shapedefaults": {
           "line": {
            "color": "#2a3f5f"
           }
          },
          "ternary": {
           "aaxis": {
            "gridcolor": "white",
            "linecolor": "white",
            "ticks": ""
           },
           "baxis": {
            "gridcolor": "white",
            "linecolor": "white",
            "ticks": ""
           },
           "bgcolor": "#E5ECF6",
           "caxis": {
            "gridcolor": "white",
            "linecolor": "white",
            "ticks": ""
           }
          },
          "title": {
           "x": 0.05
          },
          "xaxis": {
           "automargin": true,
           "gridcolor": "white",
           "linecolor": "white",
           "ticks": "",
           "title": {
            "standoff": 15
           },
           "zerolinecolor": "white",
           "zerolinewidth": 2
          },
          "yaxis": {
           "automargin": true,
           "gridcolor": "white",
           "linecolor": "white",
           "ticks": "",
           "title": {
            "standoff": 15
           },
           "zerolinecolor": "white",
           "zerolinewidth": 2
          }
         }
        },
        "title": {
         "text": "🔄 Interactive Distance Comparison: Sonar vs DVL"
        },
        "xaxis": {
         "anchor": "y",
         "domain": [
          0,
          1
         ],
         "showgrid": true,
         "title": {
          "text": "Time (seconds)"
         }
        },
        "yaxis": {
         "anchor": "x",
         "domain": [
          0,
          1
         ],
         "showgrid": true,
         "title": {
          "text": "Distance (meters)"
         }
        }
       }
      }
     },
     "metadata": {},
     "output_type": "display_data"
    },
    {
     "name": "stdout",
     "output_type": "stream",
     "text": [
      "\n",
      "📊 SONAR vs DVL COMPARISON STATISTICS:\n",
      "==================================================\n",
      "Sonar mean distance: 0.666 m\n",
      "DVL mean distance:   0.603 m\n",
      "Scale ratio (Sonar/DVL): 1.105x\n",
      "Sonar duration: 41.5s (725 frames)\n",
      "DVL duration:   41.5s (374 records)\n",
      "\n",
      "Comparison stats summary:\n",
      "{'dvl_duration_s': 41.476662158,\n",
      " 'dvl_mean_m': 0.6028074854437042,\n",
      " 'dvl_records': 374,\n",
      " 'scale_ratio': 1.1047829857269005,\n",
      " 'sonar_duration_s': 41.53395036540056,\n",
      " 'sonar_frames': 725,\n",
      " 'sonar_mean_m': 0.6659714535870207}\n"
     ]
    },
    {
     "data": {
      "application/vnd.plotly.v1+json": {
       "config": {
        "plotlyServerURL": "https://plot.ly"
       },
       "data": [
        {
         "line": {
          "color": "rgba(255,0,0,0.3)"
         },
         "mode": "lines",
         "name": "Sonar Raw",
         "type": "scatter",
         "x": {
          "bdata": "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",
          "dtype": "f8"
         },
         "xaxis": "x",
         "y": {
          "bdata": "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",
          "dtype": "f8"
         },
         "yaxis": "y"
        },
        {
         "line": {
          "color": "red",
          "width": 3
         },
         "mode": "lines",
         "name": "Sonar Smoothed",
         "type": "scatter",
         "x": {
          "bdata": "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",
          "dtype": "f8"
         },
         "xaxis": "x",
         "y": {
          "bdata": "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",
          "dtype": "f8"
         },
         "yaxis": "y"
        },
        {
         "line": {
          "color": "blue",
          "width": 3
         },
         "mode": "lines",
         "name": "DVL Distance",
         "type": "scatter",
         "x": {
          "bdata": "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",
          "dtype": "f8"
         },
         "xaxis": "x",
         "y": {
          "bdata": "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",
          "dtype": "f8"
         },
         "yaxis": "y"
        }
       ],
       "layout": {
        "height": 600,
        "hovermode": "x unified",
        "template": {
         "data": {
          "bar": [
           {
            "error_x": {
             "color": "#2a3f5f"
            },
            "error_y": {
             "color": "#2a3f5f"
            },
            "marker": {
             "line": {
              "color": "#E5ECF6",
              "width": 0.5
             },
             "pattern": {
              "fillmode": "overlay",
              "size": 10,
              "solidity": 0.2
             }
            },
            "type": "bar"
           }
          ],
          "barpolar": [
           {
            "marker": {
             "line": {
              "color": "#E5ECF6",
              "width": 0.5
             },
             "pattern": {
              "fillmode": "overlay",
              "size": 10,
              "solidity": 0.2
             }
            },
            "type": "barpolar"
           }
          ],
          "carpet": [
           {
            "aaxis": {
             "endlinecolor": "#2a3f5f",
             "gridcolor": "white",
             "linecolor": "white",
             "minorgridcolor": "white",
             "startlinecolor": "#2a3f5f"
            },
            "baxis": {
             "endlinecolor": "#2a3f5f",
             "gridcolor": "white",
             "linecolor": "white",
             "minorgridcolor": "white",
             "startlinecolor": "#2a3f5f"
            },
            "type": "carpet"
           }
          ],
          "choropleth": [
           {
            "colorbar": {
             "outlinewidth": 0,
             "ticks": ""
            },
            "type": "choropleth"
           }
          ],
          "contour": [
           {
            "colorbar": {
             "outlinewidth": 0,
             "ticks": ""
            },
            "colorscale": [
             [
              0,
              "#0d0887"
             ],
             [
              0.1111111111111111,
              "#46039f"
             ],
             [
              0.2222222222222222,
              "#7201a8"
             ],
             [
              0.3333333333333333,
              "#9c179e"
             ],
             [
              0.4444444444444444,
              "#bd3786"
             ],
             [
              0.5555555555555556,
              "#d8576b"
             ],
             [
              0.6666666666666666,
              "#ed7953"
             ],
             [
              0.7777777777777778,
              "#fb9f3a"
             ],
             [
              0.8888888888888888,
              "#fdca26"
             ],
             [
              1,
              "#f0f921"
             ]
            ],
            "type": "contour"
           }
          ],
          "contourcarpet": [
           {
            "colorbar": {
             "outlinewidth": 0,
             "ticks": ""
            },
            "type": "contourcarpet"
           }
          ],
          "heatmap": [
           {
            "colorbar": {
             "outlinewidth": 0,
             "ticks": ""
            },
            "colorscale": [
             [
              0,
              "#0d0887"
             ],
             [
              0.1111111111111111,
              "#46039f"
             ],
             [
              0.2222222222222222,
              "#7201a8"
             ],
             [
              0.3333333333333333,
              "#9c179e"
             ],
             [
              0.4444444444444444,
              "#bd3786"
             ],
             [
              0.5555555555555556,
              "#d8576b"
             ],
             [
              0.6666666666666666,
              "#ed7953"
             ],
             [
              0.7777777777777778,
              "#fb9f3a"
             ],
             [
              0.8888888888888888,
              "#fdca26"
             ],
             [
              1,
              "#f0f921"
             ]
            ],
            "type": "heatmap"
           }
          ],
          "histogram": [
           {
            "marker": {
             "pattern": {
              "fillmode": "overlay",
              "size": 10,
              "solidity": 0.2
             }
            },
            "type": "histogram"
           }
          ],
          "histogram2d": [
           {
            "colorbar": {
             "outlinewidth": 0,
             "ticks": ""
            },
            "colorscale": [
             [
              0,
              "#0d0887"
             ],
             [
              0.1111111111111111,
              "#46039f"
             ],
             [
              0.2222222222222222,
              "#7201a8"
             ],
             [
              0.3333333333333333,
              "#9c179e"
             ],
             [
              0.4444444444444444,
              "#bd3786"
             ],
             [
              0.5555555555555556,
              "#d8576b"
             ],
             [
              0.6666666666666666,
              "#ed7953"
             ],
             [
              0.7777777777777778,
              "#fb9f3a"
             ],
             [
              0.8888888888888888,
              "#fdca26"
             ],
             [
              1,
              "#f0f921"
             ]
            ],
            "type": "histogram2d"
           }
          ],
          "histogram2dcontour": [
           {
            "colorbar": {
             "outlinewidth": 0,
             "ticks": ""
            },
            "colorscale": [
             [
              0,
              "#0d0887"
             ],
             [
              0.1111111111111111,
              "#46039f"
             ],
             [
              0.2222222222222222,
              "#7201a8"
             ],
             [
              0.3333333333333333,
              "#9c179e"
             ],
             [
              0.4444444444444444,
              "#bd3786"
             ],
             [
              0.5555555555555556,
              "#d8576b"
             ],
             [
              0.6666666666666666,
              "#ed7953"
             ],
             [
              0.7777777777777778,
              "#fb9f3a"
             ],
             [
              0.8888888888888888,
              "#fdca26"
             ],
             [
              1,
              "#f0f921"
             ]
            ],
            "type": "histogram2dcontour"
           }
          ],
          "mesh3d": [
           {
            "colorbar": {
             "outlinewidth": 0,
             "ticks": ""
            },
            "type": "mesh3d"
           }
          ],
          "parcoords": [
           {
            "line": {
             "colorbar": {
              "outlinewidth": 0,
              "ticks": ""
             }
            },
            "type": "parcoords"
           }
          ],
          "pie": [
           {
            "automargin": true,
            "type": "pie"
           }
          ],
          "scatter": [
           {
            "fillpattern": {
             "fillmode": "overlay",
             "size": 10,
             "solidity": 0.2
            },
            "type": "scatter"
           }
          ],
          "scatter3d": [
           {
            "line": {
             "colorbar": {
              "outlinewidth": 0,
              "ticks": ""
             }
            },
            "marker": {
             "colorbar": {
              "outlinewidth": 0,
              "ticks": ""
             }
            },
            "type": "scatter3d"
           }
          ],
          "scattercarpet": [
           {
            "marker": {
             "colorbar": {
              "outlinewidth": 0,
              "ticks": ""
             }
            },
            "type": "scattercarpet"
           }
          ],
          "scattergeo": [
           {
            "marker": {
             "colorbar": {
              "outlinewidth": 0,
              "ticks": ""
             }
            },
            "type": "scattergeo"
           }
          ],
          "scattergl": [
           {
            "marker": {
             "colorbar": {
              "outlinewidth": 0,
              "ticks": ""
             }
            },
            "type": "scattergl"
           }
          ],
          "scattermap": [
           {
            "marker": {
             "colorbar": {
              "outlinewidth": 0,
              "ticks": ""
             }
            },
            "type": "scattermap"
           }
          ],
          "scattermapbox": [
           {
            "marker": {
             "colorbar": {
              "outlinewidth": 0,
              "ticks": ""
             }
            },
            "type": "scattermapbox"
           }
          ],
          "scatterpolar": [
           {
            "marker": {
             "colorbar": {
              "outlinewidth": 0,
              "ticks": ""
             }
            },
            "type": "scatterpolar"
           }
          ],
          "scatterpolargl": [
           {
            "marker": {
             "colorbar": {
              "outlinewidth": 0,
              "ticks": ""
             }
            },
            "type": "scatterpolargl"
           }
          ],
          "scatterternary": [
           {
            "marker": {
             "colorbar": {
              "outlinewidth": 0,
              "ticks": ""
             }
            },
            "type": "scatterternary"
           }
          ],
          "surface": [
           {
            "colorbar": {
             "outlinewidth": 0,
             "ticks": ""
            },
            "colorscale": [
             [
              0,
              "#0d0887"
             ],
             [
              0.1111111111111111,
              "#46039f"
             ],
             [
              0.2222222222222222,
              "#7201a8"
             ],
             [
              0.3333333333333333,
              "#9c179e"
             ],
             [
              0.4444444444444444,
              "#bd3786"
             ],
             [
              0.5555555555555556,
              "#d8576b"
             ],
             [
              0.6666666666666666,
              "#ed7953"
             ],
             [
              0.7777777777777778,
              "#fb9f3a"
             ],
             [
              0.8888888888888888,
              "#fdca26"
             ],
             [
              1,
              "#f0f921"
             ]
            ],
            "type": "surface"
           }
          ],
          "table": [
           {
            "cells": {
             "fill": {
              "color": "#EBF0F8"
             },
             "line": {
              "color": "white"
             }
            },
            "header": {
             "fill": {
              "color": "#C8D4E3"
             },
             "line": {
              "color": "white"
             }
            },
            "type": "table"
           }
          ]
         },
         "layout": {
          "annotationdefaults": {
           "arrowcolor": "#2a3f5f",
           "arrowhead": 0,
           "arrowwidth": 1
          },
          "autotypenumbers": "strict",
          "coloraxis": {
           "colorbar": {
            "outlinewidth": 0,
            "ticks": ""
           }
          },
          "colorscale": {
           "diverging": [
            [
             0,
             "#8e0152"
            ],
            [
             0.1,
             "#c51b7d"
            ],
            [
             0.2,
             "#de77ae"
            ],
            [
             0.3,
             "#f1b6da"
            ],
            [
             0.4,
             "#fde0ef"
            ],
            [
             0.5,
             "#f7f7f7"
            ],
            [
             0.6,
             "#e6f5d0"
            ],
            [
             0.7,
             "#b8e186"
            ],
            [
             0.8,
             "#7fbc41"
            ],
            [
             0.9,
             "#4d9221"
            ],
            [
             1,
             "#276419"
            ]
           ],
           "sequential": [
            [
             0,
             "#0d0887"
            ],
            [
             0.1111111111111111,
             "#46039f"
            ],
            [
             0.2222222222222222,
             "#7201a8"
            ],
            [
             0.3333333333333333,
             "#9c179e"
            ],
            [
             0.4444444444444444,
             "#bd3786"
            ],
            [
             0.5555555555555556,
             "#d8576b"
            ],
            [
             0.6666666666666666,
             "#ed7953"
            ],
            [
             0.7777777777777778,
             "#fb9f3a"
            ],
            [
             0.8888888888888888,
             "#fdca26"
            ],
            [
             1,
             "#f0f921"
            ]
           ],
           "sequentialminus": [
            [
             0,
             "#0d0887"
            ],
            [
             0.1111111111111111,
             "#46039f"
            ],
            [
             0.2222222222222222,
             "#7201a8"
            ],
            [
             0.3333333333333333,
             "#9c179e"
            ],
            [
             0.4444444444444444,
             "#bd3786"
            ],
            [
             0.5555555555555556,
             "#d8576b"
            ],
            [
             0.6666666666666666,
             "#ed7953"
            ],
            [
             0.7777777777777778,
             "#fb9f3a"
            ],
            [
             0.8888888888888888,
             "#fdca26"
            ],
            [
             1,
             "#f0f921"
            ]
           ]
          },
          "colorway": [
           "#636efa",
           "#EF553B",
           "#00cc96",
           "#ab63fa",
           "#FFA15A",
           "#19d3f3",
           "#FF6692",
           "#B6E880",
           "#FF97FF",
           "#FECB52"
          ],
          "font": {
           "color": "#2a3f5f"
          },
          "geo": {
           "bgcolor": "white",
           "lakecolor": "white",
           "landcolor": "#E5ECF6",
           "showlakes": true,
           "showland": true,
           "subunitcolor": "white"
          },
          "hoverlabel": {
           "align": "left"
          },
          "hovermode": "closest",
          "mapbox": {
           "style": "light"
          },
          "paper_bgcolor": "white",
          "plot_bgcolor": "#E5ECF6",
          "polar": {
           "angularaxis": {
            "gridcolor": "white",
            "linecolor": "white",
            "ticks": ""
           },
           "bgcolor": "#E5ECF6",
           "radialaxis": {
            "gridcolor": "white",
            "linecolor": "white",
            "ticks": ""
           }
          },
          "scene": {
           "xaxis": {
            "backgroundcolor": "#E5ECF6",
            "gridcolor": "white",
            "gridwidth": 2,
            "linecolor": "white",
            "showbackground": true,
            "ticks": "",
            "zerolinecolor": "white"
           },
           "yaxis": {
            "backgroundcolor": "#E5ECF6",
            "gridcolor": "white",
            "gridwidth": 2,
            "linecolor": "white",
            "showbackground": true,
            "ticks": "",
            "zerolinecolor": "white"
           },
           "zaxis": {
            "backgroundcolor": "#E5ECF6",
            "gridcolor": "white",
            "gridwidth": 2,
            "linecolor": "white",
            "showbackground": true,
            "ticks": "",
            "zerolinecolor": "white"
           }
          },
          "shapedefaults": {
           "line": {
            "color": "#2a3f5f"
           }
          },
          "ternary": {
           "aaxis": {
            "gridcolor": "white",
            "linecolor": "white",
            "ticks": ""
           },
           "baxis": {
            "gridcolor": "white",
            "linecolor": "white",
            "ticks": ""
           },
           "bgcolor": "#E5ECF6",
           "caxis": {
            "gridcolor": "white",
            "linecolor": "white",
            "ticks": ""
           }
          },
          "title": {
           "x": 0.05
          },
          "xaxis": {
           "automargin": true,
           "gridcolor": "white",
           "linecolor": "white",
           "ticks": "",
           "title": {
            "standoff": 15
           },
           "zerolinecolor": "white",
           "zerolinewidth": 2
          },
          "yaxis": {
           "automargin": true,
           "gridcolor": "white",
           "linecolor": "white",
           "ticks": "",
           "title": {
            "standoff": 15
           },
           "zerolinecolor": "white",
           "zerolinewidth": 2
          }
         }
        },
        "title": {
         "text": "🔄 Interactive Distance Comparison: Sonar vs DVL"
        },
        "xaxis": {
         "anchor": "y",
         "domain": [
          0,
          1
         ],
         "showgrid": true,
         "title": {
          "text": "Time (seconds)"
         }
        },
        "yaxis": {
         "anchor": "x",
         "domain": [
          0,
          1
         ],
         "showgrid": true,
         "title": {
          "text": "Distance (meters)"
         }
        }
       }
      }
     },
     "metadata": {},
     "output_type": "display_data"
    }
   ],
   "source": [
    "try:\n",
    "    fig, comparison_stats = iau.interactive_distance_comparison(distance_results, raw_data, sonar_coverage_m=sonar_coverage_meters, sonar_image_size=image_shape[0])\n",
    "    if comparison_stats and isinstance(comparison_stats, dict) and 'error' in comparison_stats:\n",
    "        print('Comparison did not run:', comparison_stats['error'])\n",
    "    else:\n",
    "        print('\\nComparison stats summary:')\n",
    "        from pprint import pprint\n",
    "        pprint(comparison_stats)\n",
    "        # Display the interactive plot\n",
    "        fig.show()\n",
    "except Exception as e:\n",
    "    print('Error running interactive comparison:', e)"
   ]
  },
  {
   "cell_type": "code",
   "execution_count": null,
   "id": "50f97352",
   "metadata": {},
   "outputs": [
    {
     "name": "stdout",
     "output_type": "stream",
     "text": [
      "🎬 GENERATING VIDEO WITH DUAL NET DISTANCE OVERLAYS\n",
      "============================================================\n",
      "🎯 Target Bag: 2024-08-22_14-47-39\n",
      "📊 DVL Data: 374 records\n",
      "📏 Sonar Analysis: 725 frames\n",
      "🎥 Camera: disabled\n",
      "🛠️ OPTIMIZED SONAR VIDEO\n",
      "======================================================================\n",
      "🎯 Target Bag: 2024-08-22_14-47-39\n",
      "   Cone Size: 900x700\n",
      "   Range: 0.0-5.0m | FOV: 120.0°\n",
      "   🎥 Camera: disabled\n",
      "   🕸  Net-line: enabled (dist tol=0.5s, pitch tol=2.0s)\n",
      "   📊 Sonar Analysis: enabled\n",
      "   Loading sonar data: sensor_sonoptix_echo_image__2024-08-22_14-47-39_video.csv\n",
      "   ✅ Loaded 726 sonar frames in 29.19s\n",
      "   ✅ Loaded 374 navigation records in 0.01s\n",
      "      Available: ['NetDistance', 'NetPitch', 'timestamp']\n",
      "   Frames: 1..725 (step 1) => 725\n",
      "   Natural FPS: 15.4\n",
      "   ✅ Loaded 726 sonar frames in 29.19s\n",
      "   ✅ Loaded 374 navigation records in 0.01s\n",
      "      Available: ['NetDistance', 'NetPitch', 'timestamp']\n",
      "   Frames: 1..725 (step 1) => 725\n",
      "   Natural FPS: 15.4\n"
     ]
    }
   ],
   "source": [
    "# 🎥 Generate Video with Both DVL and Sonar Analysis Overlays\n",
    "# ========================================================\n",
    "import utils.sonar_and_foto_generation as sg\n",
    "\n",
    "# Set up paths\n",
    "VIDEO_SEQ_DIR = None  # Set to path if you want camera footage included\n",
    "\n",
    "print(\"🎬 GENERATING VIDEO WITH DUAL NET DISTANCE OVERLAYS\")\n",
    "print(\"=\" * 60)\n",
    "print(f\"🎯 Target Bag: {TARGET_BAG}\")\n",
    "print(f\"📊 DVL Data: {len(raw_data.get('navigation', []))} records\")\n",
    "print(f\"📏 Sonar Analysis: {len(distance_results)} frames\")\n",
    "print(f\"🎥 Camera: {'enabled' if VIDEO_SEQ_DIR else 'disabled'}\")\n",
    "\n",
    "# Generate the video with both overlays\n",
    "try:\n",
    "    video_path = sg.export_optimized_sonar_video(\n",
    "        TARGET_BAG=TARGET_BAG,\n",
    "        EXPORTS_FOLDER=EXPORTS_FOLDER,\n",
    "        START_IDX=1,\n",
    "        END_IDX=1000,  # Adjust as needed\n",
    "        STRIDE=1,\n",
    "        VIDEO_SEQ_DIR=VIDEO_SEQ_DIR,\n",
    "        INCLUDE_NET=True,  # Enable DVL net distance overlay\n",
    "        SONAR_DISTANCE_RESULTS=distance_results,  # Enable sonar analysis overlay\n",
    "        NET_DISTANCE_TOLERANCE=0.5,\n",
    "        NET_PITCH_TOLERANCE=2.0,  # Increased from 0.3 to 2.0 seconds for better pitch sync\n",
    "    )\n",
    "    print(f\"\\n✅ Video generated successfully!\")\n",
    "    print(f\"📁 Output: {video_path}\")\n",
    "except Exception as e:\n",
    "    print(f\"❌ Error generating video: {e}\")"
   ]
  }
 ],
 "metadata": {
  "kernelspec": {
   "display_name": "venv",
   "language": "python",
   "name": "python3"
  },
  "language_info": {
   "codemirror_mode": {
    "name": "ipython",
    "version": 3
   },
   "file_extension": ".py",
   "mimetype": "text/x-python",
   "name": "python",
   "nbconvert_exporter": "python",
   "pygments_lexer": "ipython3",
   "version": "3.13.5"
  }
 },
 "nbformat": 4,
 "nbformat_minor": 5
}
