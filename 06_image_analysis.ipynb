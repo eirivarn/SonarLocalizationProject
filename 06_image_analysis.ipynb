{
 "cells": [
  {
   "cell_type": "code",
   "execution_count": 1,
   "id": "7a8d02c0",
   "metadata": {},
   "outputs": [],
   "source": [
    "# Centralized sonar defaults (inserted by sweep)\n",
    "from utils.sonar_config import SONAR_VIS_DEFAULTS\n",
    "sonar_config = SONAR_VIS_DEFAULTS.copy()\n",
    "# Backwards-compatible variable names used in older notebooks\n",
    "RANGE_MIN_M = sonar_config['range_min_m']\n",
    "RANGE_MAX_M = sonar_config['range_max_m']\n",
    "DISPLAY_RANGE_MAX_M = sonar_config['display_range_max_m']\n",
    "\n",
    "# If an exported NPZ/MP4 sidecar is available, downstream cells will prefer that metadata\n",
    "# Optional: override defaults below, e.g.\n",
    "# DISPLAY_RANGE_MAX_M = 10.0\n"
   ]
  },
  {
   "cell_type": "markdown",
   "id": "9220eb1d",
   "metadata": {},
   "source": [
    "# Simple Image Analysis with CV2\n",
    "\n",
    "This notebook demonstrates:\n",
    "1. **Pick a frame** from NPZ files and save it locally\n",
    "2. **Use standard cv2 functions** directly for image processing\n",
    "3. **Experiment** with different OpenCV operations"
   ]
  },
  {
   "cell_type": "code",
   "execution_count": 2,
   "id": "4b3e8f46",
   "metadata": {},
   "outputs": [
    {
     "name": "stdout",
     "output_type": "stream",
     "text": [
      "✅ Plotly available for interactive plots\n",
      "Selected NPZ file: 2024-08-22_14-06-43_data_cones.npz (index=0)\n"
     ]
    }
   ],
   "source": [
    "from pathlib import Path\n",
    "import utils.sonar_image_analysis as iau\n",
    "import matplotlib.pyplot as plt\n",
    "\n",
    "# For interactive plots\n",
    "try:\n",
    "    import plotly.graph_objects as go\n",
    "    from plotly.subplots import make_subplots\n",
    "    print(\"✅ Plotly available for interactive plots\")\n",
    "except ImportError:\n",
    "    print(\"⚠️ Plotly not available - install with: pip install plotly\")\n",
    "\n",
    "# Prefer selecting by bag ID (part of the NPZ filename) instead of a numeric index.\n",
    "# Set TARGET_BAG to a substring that appears in the NPZ filename (e.g. '2024-08-22_14-29-05')\n",
    "TARGET_BAG = '2024-08-22_14-06-43'  # change this to your desired bag ID\n",
    "EXPORTS_FOLDER = Path(\"exports\")\n",
    "\n",
    "# Find NPZ files and pick the one matching TARGET_BAG\n",
    "files = iau.get_available_npz_files()\n",
    "if not files:\n",
    "    raise FileNotFoundError('No NPZ files found in exports/outputs')\n",
    "matches = [p for p in files if TARGET_BAG in p.name]\n",
    "if not matches:\n",
    "    # Help the user by listing available NPZ files\n",
    "    print(f'No NPZ file matched TARGET_BAG={TARGET_BAG!r}')\n",
    "    print('Available NPZ files:')\n",
    "    for i,p in enumerate(files):\n",
    "        print(f'  {i}: {p.name}')\n",
    "    raise ValueError(f'No NPZ file contains \"{TARGET_BAG}\" in its name')\n",
    "# If multiple matches, choose the most recently modified one\n",
    "selected = max(matches, key=lambda p: p.stat().st_mtime)\n",
    "NPZ_FILE_INDEX = files.index(selected)\n",
    "print(f'Selected NPZ file: {selected.name} (index={NPZ_FILE_INDEX})')\n",
    "\n",
    "# Set up matplotlib\n",
    "plt.rcParams['figure.figsize'] = (12, 8)\n",
    "plt.rcParams['image.cmap'] = 'gray'"
   ]
  },
  {
   "cell_type": "markdown",
   "id": "10558e62",
   "metadata": {},
   "source": [
    "## Pick and Save a Frame\n",
    "\n",
    "First, let's see what NPZ files are available and pick a frame to work with:"
   ]
  },
  {
   "cell_type": "code",
   "execution_count": 3,
   "id": "7ad52c23",
   "metadata": {},
   "outputs": [
    {
     "name": "stdout",
     "output_type": "stream",
     "text": [
      "Frame saved to: exports/frames/current_frame.png\n",
      "Source: 2024-08-22_14-06-43_data_cones.npz, Frame 591/591\n",
      "Timestamp: 12:07:23\n",
      "Shape: (700, 900)\n"
     ]
    }
   ],
   "source": [
    "# Pick and save a frame\n",
    "frame_info = iau.pick_and_save_frame(\n",
    "    npz_file_index=NPZ_FILE_INDEX,           \n",
    "    frame_position=1000,         \n",
    "    output_path=EXPORTS_FOLDER / 'frames' / 'current_frame.png'  \n",
    ")\n"
   ]
  },
  {
   "cell_type": "markdown",
   "id": "0c65358c",
   "metadata": {},
   "source": [
    "## Red Line Distance Analysis Over Time\n",
    "\n",
    "Now let's perform a comprehensive analysis of the red line distance over time. The red line represents the major axis of the detected elongated contour (likely a fishing net), and we'll track how this distance changes throughout the video sequence."
   ]
  },
  {
   "cell_type": "code",
   "execution_count": 4,
   "id": "d9c0382e",
   "metadata": {},
   "outputs": [
    {
     "name": "stdout",
     "output_type": "stream",
     "text": [
      "=== RED LINE DISTANCE ANALYSIS OVER TIME ===\n",
      "Analyzing: exports/outputs/2024-08-22_14-06-43_data_cones.npz\n",
      "Total frames available: 592\n",
      "Analyzing frames 1 to 592 (step=1)\n",
      "Total frames available: 592\n",
      "Analyzing frames 1 to 592 (step=1)\n",
      "  Processed 50/591 frames (Success rate: 100.0%)\n",
      "  Processed 50/591 frames (Success rate: 100.0%)\n",
      "  Processed 100/591 frames (Success rate: 100.0%)\n",
      "  Processed 100/591 frames (Success rate: 100.0%)\n",
      "  Processed 150/591 frames (Success rate: 100.0%)\n",
      "  Processed 150/591 frames (Success rate: 100.0%)\n",
      "  Processed 200/591 frames (Success rate: 100.0%)\n",
      "  Processed 200/591 frames (Success rate: 100.0%)\n",
      "  Processed 250/591 frames (Success rate: 100.0%)\n",
      "  Processed 250/591 frames (Success rate: 100.0%)\n",
      "  Processed 300/591 frames (Success rate: 100.0%)\n",
      "  Processed 300/591 frames (Success rate: 100.0%)\n",
      "  Processed 350/591 frames (Success rate: 100.0%)\n",
      "  Processed 350/591 frames (Success rate: 100.0%)\n",
      "  Processed 400/591 frames (Success rate: 100.0%)\n",
      "  Processed 400/591 frames (Success rate: 100.0%)\n",
      "  Processed 450/591 frames (Success rate: 100.0%)\n",
      "  Processed 450/591 frames (Success rate: 100.0%)\n",
      "  Processed 500/591 frames (Success rate: 100.0%)\n",
      "  Processed 500/591 frames (Success rate: 100.0%)\n",
      "  Processed 550/591 frames (Success rate: 100.0%)\n",
      "  Processed 550/591 frames (Success rate: 100.0%)\n",
      "\n",
      "=== ANALYSIS COMPLETE ===\n",
      "Total frames processed: 591\n",
      "Successful detections: 591 (100.0%)\n",
      "Distance statistics (pixels):\n",
      "  - Mean: 54.29\n",
      "  - Std:  23.40\n",
      "  - Min:  23.39\n",
      "  - Max:  106.94\n",
      "  - Range:83.55\n",
      "\n",
      "=== ANALYSIS COMPLETE ===\n",
      "Total frames processed: 591\n",
      "Successful detections: 591 (100.0%)\n",
      "Distance statistics (pixels):\n",
      "  - Mean: 54.29\n",
      "  - Std:  23.40\n",
      "  - Min:  23.39\n",
      "  - Max:  106.94\n",
      "  - Range:83.55\n"
     ]
    }
   ],
   "source": [
    "# Analyze the red line distance over time\n",
    "# Now uses the SAME calculation as the video display - no smoothing, no fallbacks\n",
    "distance_results = iau.analyze_red_line_distance_over_time(\n",
    "    npz_file_index=NPZ_FILE_INDEX,    \n",
    "    frame_start=1,        # Start from frame 1\n",
    "    frame_count=1000,      # Analyze all frames from the video\n",
    "    frame_step=1,          # Every frame\n",
    "    save_error_frames=False  # Set to True to save debug frames\n",
    ")"
   ]
  },
  {
   "cell_type": "code",
   "execution_count": 5,
   "id": "b9c5da85",
   "metadata": {},
   "outputs": [
    {
     "name": "stdout",
     "output_type": "stream",
     "text": [
      "=== CONTOUR DETECTION VIDEO CREATION ===\n",
      "Creating video with 1000 frames, stepping by 1...\n",
      "  Image Processing: MOMENTUM MERGING (radius=3, threshold=0.1, decay=0.9), canny=(40, 120), min_area=100\n",
      "  Tracking: boost=1000.0x, expansion=10px\n",
      "  Video: fps=15, show_contours=True, show_ellipse=True\n",
      "Processing frames...\n",
      "Processing frames...\n",
      "Processed 10/591 frames\n",
      "Processed 20/591 frames\n",
      "Processed 10/591 frames\n",
      "Processed 20/591 frames\n",
      "Processed 30/591 frames\n",
      "Processed 40/591 frames\n",
      "Processed 30/591 frames\n",
      "Processed 40/591 frames\n",
      "Processed 50/591 frames\n",
      "Processed 60/591 frames\n",
      "Processed 50/591 frames\n",
      "Processed 60/591 frames\n",
      "Processed 70/591 frames\n",
      "Processed 80/591 frames\n",
      "Processed 70/591 frames\n",
      "Processed 80/591 frames\n",
      "Processed 90/591 frames\n",
      "Processed 100/591 frames\n",
      "Processed 90/591 frames\n",
      "Processed 100/591 frames\n",
      "Processed 110/591 frames\n",
      "Processed 120/591 frames\n",
      "Processed 110/591 frames\n",
      "Processed 120/591 frames\n",
      "Processed 130/591 frames\n",
      "Processed 140/591 frames\n",
      "Processed 130/591 frames\n",
      "Processed 140/591 frames\n",
      "Processed 150/591 frames\n",
      "Processed 160/591 frames\n",
      "Processed 150/591 frames\n",
      "Processed 160/591 frames\n",
      "Processed 170/591 frames\n",
      "Processed 180/591 frames\n",
      "Processed 170/591 frames\n",
      "Processed 180/591 frames\n",
      "Processed 190/591 frames\n",
      "Processed 200/591 frames\n",
      "Processed 190/591 frames\n",
      "Processed 200/591 frames\n",
      "Processed 210/591 frames\n",
      "Processed 220/591 frames\n",
      "Processed 210/591 frames\n",
      "Processed 220/591 frames\n",
      "Processed 230/591 frames\n",
      "Processed 240/591 frames\n",
      "Processed 230/591 frames\n",
      "Processed 240/591 frames\n",
      "Processed 250/591 frames\n",
      "Processed 260/591 frames\n",
      "Processed 250/591 frames\n",
      "Processed 260/591 frames\n",
      "Processed 270/591 frames\n",
      "Processed 280/591 frames\n",
      "Processed 270/591 frames\n",
      "Processed 280/591 frames\n",
      "Processed 290/591 frames\n",
      "Processed 300/591 frames\n",
      "Processed 290/591 frames\n",
      "Processed 300/591 frames\n",
      "Processed 310/591 frames\n",
      "Processed 310/591 frames\n",
      "Processed 320/591 frames\n",
      "Processed 330/591 frames\n",
      "Processed 320/591 frames\n",
      "Processed 330/591 frames\n",
      "Processed 340/591 frames\n",
      "Processed 350/591 frames\n",
      "Processed 340/591 frames\n",
      "Processed 350/591 frames\n",
      "Processed 360/591 frames\n",
      "Processed 370/591 frames\n",
      "Processed 360/591 frames\n",
      "Processed 370/591 frames\n",
      "Processed 380/591 frames\n",
      "Processed 390/591 frames\n",
      "Processed 380/591 frames\n",
      "Processed 390/591 frames\n",
      "Processed 400/591 frames\n",
      "Processed 410/591 frames\n",
      "Processed 400/591 frames\n",
      "Processed 410/591 frames\n",
      "Processed 420/591 frames\n",
      "Processed 430/591 frames\n",
      "Processed 420/591 frames\n",
      "Processed 430/591 frames\n",
      "Processed 440/591 frames\n",
      "Processed 450/591 frames\n",
      "Processed 440/591 frames\n",
      "Processed 450/591 frames\n",
      "Processed 460/591 frames\n",
      "Processed 470/591 frames\n",
      "Processed 460/591 frames\n",
      "Processed 470/591 frames\n",
      "Processed 480/591 frames\n",
      "Processed 490/591 frames\n",
      "Processed 480/591 frames\n",
      "Processed 490/591 frames\n",
      "Processed 500/591 frames\n",
      "Processed 510/591 frames\n",
      "Processed 500/591 frames\n",
      "Processed 510/591 frames\n",
      "Processed 520/591 frames\n",
      "Processed 530/591 frames\n",
      "Processed 520/591 frames\n",
      "Processed 530/591 frames\n",
      "Processed 540/591 frames\n",
      "Processed 550/591 frames\n",
      "Processed 540/591 frames\n",
      "Processed 550/591 frames\n",
      "Processed 560/591 frames\n",
      "Processed 570/591 frames\n",
      "Processed 560/591 frames\n",
      "Processed 570/591 frames\n",
      "Processed 580/591 frames\n",
      "Processed 590/591 frames\n",
      "Processed 580/591 frames\n",
      "Processed 590/591 frames\n",
      "\n",
      "=== VIDEO CREATION COMPLETE ===\n",
      "Video saved to: exports/videos/contour_detection_configurable.mp4\n",
      "Video specs: 900x700, 15 fps, 591 frames\n",
      "Tracking stats:\n",
      "  - Tracked frames: 577\n",
      "  - New detections: 1\n",
      "  - Lost/searching frames: 13\n",
      "  - Detection success rate: 97.8%\n",
      "  - Tracking continuity:   99.8%\n",
      "\n",
      "=== VIDEO CREATION COMPLETE ===\n",
      "Video saved to: exports/videos/contour_detection_configurable.mp4\n",
      "Video specs: 900x700, 15 fps, 591 frames\n",
      "Tracking stats:\n",
      "  - Tracked frames: 577\n",
      "  - New detections: 1\n",
      "  - Lost/searching frames: 13\n",
      "  - Detection success rate: 97.8%\n",
      "  - Tracking continuity:   99.8%\n"
     ]
    }
   ],
   "source": [
    "# Create the video with \n",
    "video_path = iau.create_contour_detection_video(\n",
    "    npz_file_index=NPZ_FILE_INDEX,          # Which NPZ file to use\n",
    "    frame_start=1,           # Starting frame\n",
    "    frame_count=1000,           # How many frames to process\n",
    "    frame_step=1,              # Step between frames \n",
    "    output_path=EXPORTS_FOLDER / 'videos' / 'contour_detection_configurable.mp4'\n",
    ")"
   ]
  },
  {
   "cell_type": "markdown",
   "id": "fede9d64",
   "metadata": {},
   "source": [
    "## Convert to Real-World Distances\n",
    "\n",
    "Now let's convert the pixel distances to real-world distances using the fact that the entire sonar image represents a 10x10 meter area."
   ]
  },
  {
   "cell_type": "code",
   "execution_count": 6,
   "id": "886897de",
   "metadata": {},
   "outputs": [
    {
     "name": "stdout",
     "output_type": "stream",
     "text": [
      "Detected NPZ extent: x=[-8.660,8.660] m, y=[0.000,10.000] m\n",
      "Image shape from NPZ: H=700, W=900\n",
      "meters/pixel: x=0.019245, y=0.014286, avg=0.016765\n",
      "Using pixels_to_meters_avg = 0.016765 m/px\n"
     ]
    }
   ],
   "source": [
    "# Auto-detect pixel->meter mapping from the selected NPZ (if available)\n",
    "try:\n",
    "    cones, ts, extent, meta = iau.load_cone_run_npz(selected)\n",
    "    T, H, W = cones.shape\n",
    "    x_min, x_max, y_min, y_max = extent\n",
    "    width_m = float(x_max - x_min)\n",
    "    height_m = float(y_max - y_min)\n",
    "    px2m_x = width_m / float(W)\n",
    "    px2m_y = height_m / float(H)\n",
    "    pixels_to_meters_avg = 0.5 * (px2m_x + px2m_y)\n",
    "    image_shape = (H, W)\n",
    "    sonar_coverage_meters = max(width_m, height_m)\n",
    "    print(f\"Detected NPZ extent: x=[{x_min:.3f},{x_max:.3f}] m, y=[{y_min:.3f},{y_max:.3f}] m\")\n",
    "    print(f\"Image shape from NPZ: H={H}, W={W}\")\n",
    "    print(f\"meters/pixel: x={px2m_x:.6f}, y={px2m_y:.6f}, avg={pixels_to_meters_avg:.6f}\")\n",
    "except Exception as e:\n",
    "    print(\"Could not read NPZ metadata:\", e)\n",
    "    print(\"Falling back to defaults from sonar_config.\")\n",
    "    from utils.sonar_config import CONE_H_DEFAULT, CONE_W_DEFAULT, DISPLAY_RANGE_MAX_M_DEFAULT\n",
    "    image_shape = (CONE_H_DEFAULT, CONE_W_DEFAULT)\n",
    "    sonar_coverage_meters = DISPLAY_RANGE_MAX_M_DEFAULT * 2  # approximate\n",
    "    pixels_to_meters_avg = sonar_coverage_meters / max(image_shape)\n",
    "    \n",
    "# Use the computed pixels_to_meters_avg in downstream analysis\n",
    "print(f\"Using pixels_to_meters_avg = {pixels_to_meters_avg:.6f} m/px\")"
   ]
  },
  {
   "cell_type": "code",
   "execution_count": 7,
   "id": "15d6238c",
   "metadata": {},
   "outputs": [
    {
     "data": {
      "application/vnd.plotly.v1+json": {
       "config": {
        "plotlyServerURL": "https://plot.ly"
       },
       "data": [
        {
         "line": {
          "color": "blue",
          "width": 2
         },
         "marker": {
          "color": "red",
          "size": 6
         },
         "mode": "lines+markers",
         "name": "Distance",
         "showlegend": false,
         "type": "scatter",
         "x": {
          "bdata": "AQACAAMABAAFAAYABwAIAAkACgALAAwADQAOAA8AEAARABIAEwAUABUAFgAXABgAGQAaABsAHAAdAB4AHwAgACEAIgAjACQAJQAmACcAKAApACoAKwAsAC0ALgAvADAAMQAyADMANAA1ADYANwA4ADkAOgA7ADwAPQA+AD8AQABBAEIAQwBEAEUARgBHAEgASQBKAEsATABNAE4ATwBQAFEAUgBTAFQAVQBWAFcAWABZAFoAWwBcAF0AXgBfAGAAYQBiAGMAZABlAGYAZwBoAGkAagBrAGwAbQBuAG8AcABxAHIAcwB0AHUAdgB3AHgAeQB6AHsAfAB9AH4AfwCAAIEAggCDAIQAhQCGAIcAiACJAIoAiwCMAI0AjgCPAJAAkQCSAJMAlACVAJYAlwCYAJkAmgCbAJwAnQCeAJ8AoAChAKIAowCkAKUApgCnAKgAqQCqAKsArACtAK4ArwCwALEAsgCzALQAtQC2ALcAuAC5ALoAuwC8AL0AvgC/AMAAwQDCAMMAxADFAMYAxwDIAMkAygDLAMwAzQDOAM8A0ADRANIA0wDUANUA1gDXANgA2QDaANsA3ADdAN4A3wDgAOEA4gDjAOQA5QDmAOcA6ADpAOoA6wDsAO0A7gDvAPAA8QDyAPMA9AD1APYA9wD4APkA+gD7APwA/QD+AP8AAAEBAQIBAwEEAQUBBgEHAQgBCQEKAQsBDAENAQ4BDwEQAREBEgETARQBFQEWARcBGAEZARoBGwEcAR0BHgEfASABIQEiASMBJAElASYBJwEoASkBKgErASwBLQEuAS8BMAExATIBMwE0ATUBNgE3ATgBOQE6ATsBPAE9AT4BPwFAAUEBQgFDAUQBRQFGAUcBSAFJAUoBSwFMAU0BTgFPAVABUQFSAVMBVAFVAVYBVwFYAVkBWgFbAVwBXQFeAV8BYAFhAWIBYwFkAWUBZgFnAWgBaQFqAWsBbAFtAW4BbwFwAXEBcgFzAXQBdQF2AXcBeAF5AXoBewF8AX0BfgF/AYABgQGCAYMBhAGFAYYBhwGIAYkBigGLAYwBjQGOAY8BkAGRAZIBkwGUAZUBlgGXAZgBmQGaAZsBnAGdAZ4BnwGgAaEBogGjAaQBpQGmAacBqAGpAaoBqwGsAa0BrgGvAbABsQGyAbMBtAG1AbYBtwG4AbkBugG7AbwBvQG+Ab8BwAHBAcIBwwHEAcUBxgHHAcgByQHKAcsBzAHNAc4BzwHQAdEB0gHTAdQB1QHWAdcB2AHZAdoB2wHcAd0B3gHfAeAB4QHiAeMB5AHlAeYB5wHoAekB6gHrAewB7QHuAe8B8AHxAfIB8wH0AfUB9gH3AfgB+QH6AfsB/AH9Af4B/wEAAgECAgIDAgQCBQIGAgcCCAIJAgoCCwIMAg0CDgIPAhACEQISAhMCFAIVAhYCFwIYAhkCGgIbAhwCHQIeAh8CIAIhAiICIwIkAiUCJgInAigCKQIqAisCLAItAi4CLwIwAjECMgIzAjQCNQI2AjcCOAI5AjoCOwI8Aj0CPgI/AkACQQJCAkMCRAJFAkYCRwJIAkkCSgJLAkwCTQJOAk8C",
          "dtype": "i2"
         },
         "xaxis": "x",
         "y": {
          "bdata": "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",
          "dtype": "f8"
         },
         "yaxis": "y"
        },
        {
         "line": {
          "color": "green",
          "width": 2
         },
         "marker": {
          "color": "red",
          "size": 6
         },
         "mode": "lines+markers",
         "name": "Distance over Time",
         "showlegend": false,
         "type": "scatter",
         "x": {
          "bdata": "AQACAAMABAAFAAYABwAIAAkACgALAAwADQAOAA8AEAARABIAEwAUABUAFgAXABgAGQAaABsAHAAdAB4AHwAgACEAIgAjACQAJQAmACcAKAApACoAKwAsAC0ALgAvADAAMQAyADMANAA1ADYANwA4ADkAOgA7ADwAPQA+AD8AQABBAEIAQwBEAEUARgBHAEgASQBKAEsATABNAE4ATwBQAFEAUgBTAFQAVQBWAFcAWABZAFoAWwBcAF0AXgBfAGAAYQBiAGMAZABlAGYAZwBoAGkAagBrAGwAbQBuAG8AcABxAHIAcwB0AHUAdgB3AHgAeQB6AHsAfAB9AH4AfwCAAIEAggCDAIQAhQCGAIcAiACJAIoAiwCMAI0AjgCPAJAAkQCSAJMAlACVAJYAlwCYAJkAmgCbAJwAnQCeAJ8AoAChAKIAowCkAKUApgCnAKgAqQCqAKsArACtAK4ArwCwALEAsgCzALQAtQC2ALcAuAC5ALoAuwC8AL0AvgC/AMAAwQDCAMMAxADFAMYAxwDIAMkAygDLAMwAzQDOAM8A0ADRANIA0wDUANUA1gDXANgA2QDaANsA3ADdAN4A3wDgAOEA4gDjAOQA5QDmAOcA6ADpAOoA6wDsAO0A7gDvAPAA8QDyAPMA9AD1APYA9wD4APkA+gD7APwA/QD+AP8AAAEBAQIBAwEEAQUBBgEHAQgBCQEKAQsBDAENAQ4BDwEQAREBEgETARQBFQEWARcBGAEZARoBGwEcAR0BHgEfASABIQEiASMBJAElASYBJwEoASkBKgErASwBLQEuAS8BMAExATIBMwE0ATUBNgE3ATgBOQE6ATsBPAE9AT4BPwFAAUEBQgFDAUQBRQFGAUcBSAFJAUoBSwFMAU0BTgFPAVABUQFSAVMBVAFVAVYBVwFYAVkBWgFbAVwBXQFeAV8BYAFhAWIBYwFkAWUBZgFnAWgBaQFqAWsBbAFtAW4BbwFwAXEBcgFzAXQBdQF2AXcBeAF5AXoBewF8AX0BfgF/AYABgQGCAYMBhAGFAYYBhwGIAYkBigGLAYwBjQGOAY8BkAGRAZIBkwGUAZUBlgGXAZgBmQGaAZsBnAGdAZ4BnwGgAaEBogGjAaQBpQGmAacBqAGpAaoBqwGsAa0BrgGvAbABsQGyAbMBtAG1AbYBtwG4AbkBugG7AbwBvQG+Ab8BwAHBAcIBwwHEAcUBxgHHAcgByQHKAcsBzAHNAc4BzwHQAdEB0gHTAdQB1QHWAdcB2AHZAdoB2wHcAd0B3gHfAeAB4QHiAeMB5AHlAeYB5wHoAekB6gHrAewB7QHuAe8B8AHxAfIB8wH0AfUB9gH3AfgB+QH6AfsB/AH9Af4B/wEAAgECAgIDAgQCBQIGAgcCCAIJAgoCCwIMAg0CDgIPAhACEQISAhMCFAIVAhYCFwIYAhkCGgIbAhwCHQIeAh8CIAIhAiICIwIkAiUCJgInAigCKQIqAisCLAItAi4CLwIwAjECMgIzAjQCNQI2AjcCOAI5AjoCOwI8Aj0CPgI/AkACQQJCAkMCRAJFAkYCRwJIAkkCSgJLAkwCTQJOAk8C",
          "dtype": "i2"
         },
         "xaxis": "x2",
         "y": {
          "bdata": "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",
          "dtype": "f8"
         },
         "yaxis": "y2"
        },
        {
         "marker": {
          "color": "lightcoral"
         },
         "name": "Distance Distribution",
         "nbinsx": 30,
         "opacity": 0.7,
         "showlegend": false,
         "type": "histogram",
         "x": {
          "bdata": "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",
          "dtype": "f8"
         },
         "xaxis": "x3",
         "yaxis": "y3"
        },
        {
         "line": {
          "color": "lightcoral",
          "width": 1
         },
         "mode": "lines",
         "name": "Raw data",
         "opacity": 0.5,
         "type": "scatter",
         "x": {
          "bdata": "AQACAAMABAAFAAYABwAIAAkACgALAAwADQAOAA8AEAARABIAEwAUABUAFgAXABgAGQAaABsAHAAdAB4AHwAgACEAIgAjACQAJQAmACcAKAApACoAKwAsAC0ALgAvADAAMQAyADMANAA1ADYANwA4ADkAOgA7ADwAPQA+AD8AQABBAEIAQwBEAEUARgBHAEgASQBKAEsATABNAE4ATwBQAFEAUgBTAFQAVQBWAFcAWABZAFoAWwBcAF0AXgBfAGAAYQBiAGMAZABlAGYAZwBoAGkAagBrAGwAbQBuAG8AcABxAHIAcwB0AHUAdgB3AHgAeQB6AHsAfAB9AH4AfwCAAIEAggCDAIQAhQCGAIcAiACJAIoAiwCMAI0AjgCPAJAAkQCSAJMAlACVAJYAlwCYAJkAmgCbAJwAnQCeAJ8AoAChAKIAowCkAKUApgCnAKgAqQCqAKsArACtAK4ArwCwALEAsgCzALQAtQC2ALcAuAC5ALoAuwC8AL0AvgC/AMAAwQDCAMMAxADFAMYAxwDIAMkAygDLAMwAzQDOAM8A0ADRANIA0wDUANUA1gDXANgA2QDaANsA3ADdAN4A3wDgAOEA4gDjAOQA5QDmAOcA6ADpAOoA6wDsAO0A7gDvAPAA8QDyAPMA9AD1APYA9wD4APkA+gD7APwA/QD+AP8AAAEBAQIBAwEEAQUBBgEHAQgBCQEKAQsBDAENAQ4BDwEQAREBEgETARQBFQEWARcBGAEZARoBGwEcAR0BHgEfASABIQEiASMBJAElASYBJwEoASkBKgErASwBLQEuAS8BMAExATIBMwE0ATUBNgE3ATgBOQE6ATsBPAE9AT4BPwFAAUEBQgFDAUQBRQFGAUcBSAFJAUoBSwFMAU0BTgFPAVABUQFSAVMBVAFVAVYBVwFYAVkBWgFbAVwBXQFeAV8BYAFhAWIBYwFkAWUBZgFnAWgBaQFqAWsBbAFtAW4BbwFwAXEBcgFzAXQBdQF2AXcBeAF5AXoBewF8AX0BfgF/AYABgQGCAYMBhAGFAYYBhwGIAYkBigGLAYwBjQGOAY8BkAGRAZIBkwGUAZUBlgGXAZgBmQGaAZsBnAGdAZ4BnwGgAaEBogGjAaQBpQGmAacBqAGpAaoBqwGsAa0BrgGvAbABsQGyAbMBtAG1AbYBtwG4AbkBugG7AbwBvQG+Ab8BwAHBAcIBwwHEAcUBxgHHAcgByQHKAcsBzAHNAc4BzwHQAdEB0gHTAdQB1QHWAdcB2AHZAdoB2wHcAd0B3gHfAeAB4QHiAeMB5AHlAeYB5wHoAekB6gHrAewB7QHuAe8B8AHxAfIB8wH0AfUB9gH3AfgB+QH6AfsB/AH9Af4B/wEAAgECAgIDAgQCBQIGAgcCCAIJAgoCCwIMAg0CDgIPAhACEQISAhMCFAIVAhYCFwIYAhkCGgIbAhwCHQIeAh8CIAIhAiICIwIkAiUCJgInAigCKQIqAisCLAItAi4CLwIwAjECMgIzAjQCNQI2AjcCOAI5AjoCOwI8Aj0CPgI/AkACQQJCAkMCRAJFAkYCRwJIAkkCSgJLAkwCTQJOAk8C",
          "dtype": "i2"
         },
         "xaxis": "x4",
         "y": {
          "bdata": "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",
          "dtype": "f8"
         },
         "yaxis": "y4"
        },
        {
         "line": {
          "color": "darkred",
          "width": 3
         },
         "mode": "lines",
         "name": "Moving Avg (window=29)",
         "type": "scatter",
         "x": {
          "bdata": "AQACAAMABAAFAAYABwAIAAkACgALAAwADQAOAA8AEAARABIAEwAUABUAFgAXABgAGQAaABsAHAAdAB4AHwAgACEAIgAjACQAJQAmACcAKAApACoAKwAsAC0ALgAvADAAMQAyADMANAA1ADYANwA4ADkAOgA7ADwAPQA+AD8AQABBAEIAQwBEAEUARgBHAEgASQBKAEsATABNAE4ATwBQAFEAUgBTAFQAVQBWAFcAWABZAFoAWwBcAF0AXgBfAGAAYQBiAGMAZABlAGYAZwBoAGkAagBrAGwAbQBuAG8AcABxAHIAcwB0AHUAdgB3AHgAeQB6AHsAfAB9AH4AfwCAAIEAggCDAIQAhQCGAIcAiACJAIoAiwCMAI0AjgCPAJAAkQCSAJMAlACVAJYAlwCYAJkAmgCbAJwAnQCeAJ8AoAChAKIAowCkAKUApgCnAKgAqQCqAKsArACtAK4ArwCwALEAsgCzALQAtQC2ALcAuAC5ALoAuwC8AL0AvgC/AMAAwQDCAMMAxADFAMYAxwDIAMkAygDLAMwAzQDOAM8A0ADRANIA0wDUANUA1gDXANgA2QDaANsA3ADdAN4A3wDgAOEA4gDjAOQA5QDmAOcA6ADpAOoA6wDsAO0A7gDvAPAA8QDyAPMA9AD1APYA9wD4APkA+gD7APwA/QD+AP8AAAEBAQIBAwEEAQUBBgEHAQgBCQEKAQsBDAENAQ4BDwEQAREBEgETARQBFQEWARcBGAEZARoBGwEcAR0BHgEfASABIQEiASMBJAElASYBJwEoASkBKgErASwBLQEuAS8BMAExATIBMwE0ATUBNgE3ATgBOQE6ATsBPAE9AT4BPwFAAUEBQgFDAUQBRQFGAUcBSAFJAUoBSwFMAU0BTgFPAVABUQFSAVMBVAFVAVYBVwFYAVkBWgFbAVwBXQFeAV8BYAFhAWIBYwFkAWUBZgFnAWgBaQFqAWsBbAFtAW4BbwFwAXEBcgFzAXQBdQF2AXcBeAF5AXoBewF8AX0BfgF/AYABgQGCAYMBhAGFAYYBhwGIAYkBigGLAYwBjQGOAY8BkAGRAZIBkwGUAZUBlgGXAZgBmQGaAZsBnAGdAZ4BnwGgAaEBogGjAaQBpQGmAacBqAGpAaoBqwGsAa0BrgGvAbABsQGyAbMBtAG1AbYBtwG4AbkBugG7AbwBvQG+Ab8BwAHBAcIBwwHEAcUBxgHHAcgByQHKAcsBzAHNAc4BzwHQAdEB0gHTAdQB1QHWAdcB2AHZAdoB2wHcAd0B3gHfAeAB4QHiAeMB5AHlAeYB5wHoAekB6gHrAewB7QHuAe8B8AHxAfIB8wH0AfUB9gH3AfgB+QH6AfsB/AH9Af4B/wEAAgECAgIDAgQCBQIGAgcCCAIJAgoCCwIMAg0CDgIPAhACEQISAhMCFAIVAhYCFwIYAhkCGgIbAhwCHQIeAh8CIAIhAiICIwIkAiUCJgInAigCKQIqAisCLAItAi4CLwIwAjECMgIzAjQCNQI2AjcCOAI5AjoCOwI8Aj0CPgI/AkACQQJCAkMCRAJFAkYCRwJIAkkCSgJLAkwCTQJOAk8C",
          "dtype": "i2"
         },
         "xaxis": "x4",
         "y": {
          "bdata": "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",
          "dtype": "f8"
         },
         "yaxis": "y4"
        },
        {
         "fill": "toself",
         "fillcolor": "rgba(255,0,0,0.3)",
         "line": {
          "color": "rgba(255,255,255,0)"
         },
         "name": "±1 Std Dev",
         "type": "scatter",
         "x": [
          1,
          2,
          3,
          4,
          5,
          6,
          7,
          8,
          9,
          10,
          11,
          12,
          13,
          14,
          15,
          16,
          17,
          18,
          19,
          20,
          21,
          22,
          23,
          24,
          25,
          26,
          27,
          28,
          29,
          30,
          31,
          32,
          33,
          34,
          35,
          36,
          37,
          38,
          39,
          40,
          41,
          42,
          43,
          44,
          45,
          46,
          47,
          48,
          49,
          50,
          51,
          52,
          53,
          54,
          55,
          56,
          57,
          58,
          59,
          60,
          61,
          62,
          63,
          64,
          65,
          66,
          67,
          68,
          69,
          70,
          71,
          72,
          73,
          74,
          75,
          76,
          77,
          78,
          79,
          80,
          81,
          82,
          83,
          84,
          85,
          86,
          87,
          88,
          89,
          90,
          91,
          92,
          93,
          94,
          95,
          96,
          97,
          98,
          99,
          100,
          101,
          102,
          103,
          104,
          105,
          106,
          107,
          108,
          109,
          110,
          111,
          112,
          113,
          114,
          115,
          116,
          117,
          118,
          119,
          120,
          121,
          122,
          123,
          124,
          125,
          126,
          127,
          128,
          129,
          130,
          131,
          132,
          133,
          134,
          135,
          136,
          137,
          138,
          139,
          140,
          141,
          142,
          143,
          144,
          145,
          146,
          147,
          148,
          149,
          150,
          151,
          152,
          153,
          154,
          155,
          156,
          157,
          158,
          159,
          160,
          161,
          162,
          163,
          164,
          165,
          166,
          167,
          168,
          169,
          170,
          171,
          172,
          173,
          174,
          175,
          176,
          177,
          178,
          179,
          180,
          181,
          182,
          183,
          184,
          185,
          186,
          187,
          188,
          189,
          190,
          191,
          192,
          193,
          194,
          195,
          196,
          197,
          198,
          199,
          200,
          201,
          202,
          203,
          204,
          205,
          206,
          207,
          208,
          209,
          210,
          211,
          212,
          213,
          214,
          215,
          216,
          217,
          218,
          219,
          220,
          221,
          222,
          223,
          224,
          225,
          226,
          227,
          228,
          229,
          230,
          231,
          232,
          233,
          234,
          235,
          236,
          237,
          238,
          239,
          240,
          241,
          242,
          243,
          244,
          245,
          246,
          247,
          248,
          249,
          250,
          251,
          252,
          253,
          254,
          255,
          256,
          257,
          258,
          259,
          260,
          261,
          262,
          263,
          264,
          265,
          266,
          267,
          268,
          269,
          270,
          271,
          272,
          273,
          274,
          275,
          276,
          277,
          278,
          279,
          280,
          281,
          282,
          283,
          284,
          285,
          286,
          287,
          288,
          289,
          290,
          291,
          292,
          293,
          294,
          295,
          296,
          297,
          298,
          299,
          300,
          301,
          302,
          303,
          304,
          305,
          306,
          307,
          308,
          309,
          310,
          311,
          312,
          313,
          314,
          315,
          316,
          317,
          318,
          319,
          320,
          321,
          322,
          323,
          324,
          325,
          326,
          327,
          328,
          329,
          330,
          331,
          332,
          333,
          334,
          335,
          336,
          337,
          338,
          339,
          340,
          341,
          342,
          343,
          344,
          345,
          346,
          347,
          348,
          349,
          350,
          351,
          352,
          353,
          354,
          355,
          356,
          357,
          358,
          359,
          360,
          361,
          362,
          363,
          364,
          365,
          366,
          367,
          368,
          369,
          370,
          371,
          372,
          373,
          374,
          375,
          376,
          377,
          378,
          379,
          380,
          381,
          382,
          383,
          384,
          385,
          386,
          387,
          388,
          389,
          390,
          391,
          392,
          393,
          394,
          395,
          396,
          397,
          398,
          399,
          400,
          401,
          402,
          403,
          404,
          405,
          406,
          407,
          408,
          409,
          410,
          411,
          412,
          413,
          414,
          415,
          416,
          417,
          418,
          419,
          420,
          421,
          422,
          423,
          424,
          425,
          426,
          427,
          428,
          429,
          430,
          431,
          432,
          433,
          434,
          435,
          436,
          437,
          438,
          439,
          440,
          441,
          442,
          443,
          444,
          445,
          446,
          447,
          448,
          449,
          450,
          451,
          452,
          453,
          454,
          455,
          456,
          457,
          458,
          459,
          460,
          461,
          462,
          463,
          464,
          465,
          466,
          467,
          468,
          469,
          470,
          471,
          472,
          473,
          474,
          475,
          476,
          477,
          478,
          479,
          480,
          481,
          482,
          483,
          484,
          485,
          486,
          487,
          488,
          489,
          490,
          491,
          492,
          493,
          494,
          495,
          496,
          497,
          498,
          499,
          500,
          501,
          502,
          503,
          504,
          505,
          506,
          507,
          508,
          509,
          510,
          511,
          512,
          513,
          514,
          515,
          516,
          517,
          518,
          519,
          520,
          521,
          522,
          523,
          524,
          525,
          526,
          527,
          528,
          529,
          530,
          531,
          532,
          533,
          534,
          535,
          536,
          537,
          538,
          539,
          540,
          541,
          542,
          543,
          544,
          545,
          546,
          547,
          548,
          549,
          550,
          551,
          552,
          553,
          554,
          555,
          556,
          557,
          558,
          559,
          560,
          561,
          562,
          563,
          564,
          565,
          566,
          567,
          568,
          569,
          570,
          571,
          572,
          573,
          574,
          575,
          576,
          577,
          578,
          579,
          580,
          581,
          582,
          583,
          584,
          585,
          586,
          587,
          588,
          589,
          590,
          591,
          591,
          590,
          589,
          588,
          587,
          586,
          585,
          584,
          583,
          582,
          581,
          580,
          579,
          578,
          577,
          576,
          575,
          574,
          573,
          572,
          571,
          570,
          569,
          568,
          567,
          566,
          565,
          564,
          563,
          562,
          561,
          560,
          559,
          558,
          557,
          556,
          555,
          554,
          553,
          552,
          551,
          550,
          549,
          548,
          547,
          546,
          545,
          544,
          543,
          542,
          541,
          540,
          539,
          538,
          537,
          536,
          535,
          534,
          533,
          532,
          531,
          530,
          529,
          528,
          527,
          526,
          525,
          524,
          523,
          522,
          521,
          520,
          519,
          518,
          517,
          516,
          515,
          514,
          513,
          512,
          511,
          510,
          509,
          508,
          507,
          506,
          505,
          504,
          503,
          502,
          501,
          500,
          499,
          498,
          497,
          496,
          495,
          494,
          493,
          492,
          491,
          490,
          489,
          488,
          487,
          486,
          485,
          484,
          483,
          482,
          481,
          480,
          479,
          478,
          477,
          476,
          475,
          474,
          473,
          472,
          471,
          470,
          469,
          468,
          467,
          466,
          465,
          464,
          463,
          462,
          461,
          460,
          459,
          458,
          457,
          456,
          455,
          454,
          453,
          452,
          451,
          450,
          449,
          448,
          447,
          446,
          445,
          444,
          443,
          442,
          441,
          440,
          439,
          438,
          437,
          436,
          435,
          434,
          433,
          432,
          431,
          430,
          429,
          428,
          427,
          426,
          425,
          424,
          423,
          422,
          421,
          420,
          419,
          418,
          417,
          416,
          415,
          414,
          413,
          412,
          411,
          410,
          409,
          408,
          407,
          406,
          405,
          404,
          403,
          402,
          401,
          400,
          399,
          398,
          397,
          396,
          395,
          394,
          393,
          392,
          391,
          390,
          389,
          388,
          387,
          386,
          385,
          384,
          383,
          382,
          381,
          380,
          379,
          378,
          377,
          376,
          375,
          374,
          373,
          372,
          371,
          370,
          369,
          368,
          367,
          366,
          365,
          364,
          363,
          362,
          361,
          360,
          359,
          358,
          357,
          356,
          355,
          354,
          353,
          352,
          351,
          350,
          349,
          348,
          347,
          346,
          345,
          344,
          343,
          342,
          341,
          340,
          339,
          338,
          337,
          336,
          335,
          334,
          333,
          332,
          331,
          330,
          329,
          328,
          327,
          326,
          325,
          324,
          323,
          322,
          321,
          320,
          319,
          318,
          317,
          316,
          315,
          314,
          313,
          312,
          311,
          310,
          309,
          308,
          307,
          306,
          305,
          304,
          303,
          302,
          301,
          300,
          299,
          298,
          297,
          296,
          295,
          294,
          293,
          292,
          291,
          290,
          289,
          288,
          287,
          286,
          285,
          284,
          283,
          282,
          281,
          280,
          279,
          278,
          277,
          276,
          275,
          274,
          273,
          272,
          271,
          270,
          269,
          268,
          267,
          266,
          265,
          264,
          263,
          262,
          261,
          260,
          259,
          258,
          257,
          256,
          255,
          254,
          253,
          252,
          251,
          250,
          249,
          248,
          247,
          246,
          245,
          244,
          243,
          242,
          241,
          240,
          239,
          238,
          237,
          236,
          235,
          234,
          233,
          232,
          231,
          230,
          229,
          228,
          227,
          226,
          225,
          224,
          223,
          222,
          221,
          220,
          219,
          218,
          217,
          216,
          215,
          214,
          213,
          212,
          211,
          210,
          209,
          208,
          207,
          206,
          205,
          204,
          203,
          202,
          201,
          200,
          199,
          198,
          197,
          196,
          195,
          194,
          193,
          192,
          191,
          190,
          189,
          188,
          187,
          186,
          185,
          184,
          183,
          182,
          181,
          180,
          179,
          178,
          177,
          176,
          175,
          174,
          173,
          172,
          171,
          170,
          169,
          168,
          167,
          166,
          165,
          164,
          163,
          162,
          161,
          160,
          159,
          158,
          157,
          156,
          155,
          154,
          153,
          152,
          151,
          150,
          149,
          148,
          147,
          146,
          145,
          144,
          143,
          142,
          141,
          140,
          139,
          138,
          137,
          136,
          135,
          134,
          133,
          132,
          131,
          130,
          129,
          128,
          127,
          126,
          125,
          124,
          123,
          122,
          121,
          120,
          119,
          118,
          117,
          116,
          115,
          114,
          113,
          112,
          111,
          110,
          109,
          108,
          107,
          106,
          105,
          104,
          103,
          102,
          101,
          100,
          99,
          98,
          97,
          96,
          95,
          94,
          93,
          92,
          91,
          90,
          89,
          88,
          87,
          86,
          85,
          84,
          83,
          82,
          81,
          80,
          79,
          78,
          77,
          76,
          75,
          74,
          73,
          72,
          71,
          70,
          69,
          68,
          67,
          66,
          65,
          64,
          63,
          62,
          61,
          60,
          59,
          58,
          57,
          56,
          55,
          54,
          53,
          52,
          51,
          50,
          49,
          48,
          47,
          46,
          45,
          44,
          43,
          42,
          41,
          40,
          39,
          38,
          37,
          36,
          35,
          34,
          33,
          32,
          31,
          30,
          29,
          28,
          27,
          26,
          25,
          24,
          23,
          22,
          21,
          20,
          19,
          18,
          17,
          16,
          15,
          14,
          13,
          12,
          11,
          10,
          9,
          8,
          7,
          6,
          5,
          4,
          3,
          2,
          1
         ],
         "xaxis": "x4",
         "y": [
          null,
          null,
          null,
          null,
          null,
          null,
          null,
          null,
          null,
          null,
          null,
          null,
          null,
          null,
          0.842618195347167,
          0.8370082027786143,
          0.8307713128350579,
          0.8237051347484678,
          0.816284167920894,
          0.807826047058408,
          0.797947094811972,
          0.7877229729590642,
          0.7772442879783559,
          0.7654796930192965,
          0.7543030528665715,
          0.7419937775568118,
          0.7305076633121059,
          0.7187574708849905,
          0.7067105145286054,
          0.6940904858421535,
          0.6811221934663595,
          0.6699393022061758,
          0.6580444344230276,
          0.6454715675405144,
          0.6322953440540084,
          0.617734443546997,
          0.6024927889661628,
          0.5878698525777953,
          0.5737639505682295,
          0.5596242930321683,
          0.5452964205411492,
          0.5327320506028811,
          0.5200938245638358,
          0.5083112702963927,
          0.4971071565946073,
          0.4860972674028354,
          0.4757924540701619,
          0.4658679391977411,
          0.4581209700884622,
          0.4500001426791463,
          0.44216449720817325,
          0.435608827697198,
          0.42983353728288565,
          0.4257399862935492,
          0.42437651979155205,
          0.4236677946183062,
          0.42393799912470614,
          0.4288896235203467,
          0.43399992751926414,
          0.439258536343656,
          0.44528752813589356,
          0.45117465180778443,
          0.4563276788266334,
          0.46089787276586736,
          0.46546151252085566,
          0.4678604616897966,
          0.47142056704937346,
          0.4745610566655919,
          0.4775911530644539,
          0.48019516746775015,
          0.48084386197369156,
          0.47987685639002403,
          0.48132398600036874,
          0.4822900109083879,
          0.4829771971793198,
          0.4839105467553467,
          0.48384564624956805,
          0.4835742712869682,
          0.48412351974135115,
          0.4844544208234034,
          0.48457361862677,
          0.4852788489366454,
          0.4864123952964925,
          0.48923134890760284,
          0.4930560382679542,
          0.49699593960515426,
          0.5023854867296618,
          0.508543070546198,
          0.5145972300400383,
          0.520778159184689,
          0.5275728646729839,
          0.5338935708303326,
          0.5409468137885077,
          0.5473681852880348,
          0.5543224163810756,
          0.5605571221180441,
          0.5669637857397727,
          0.5729212843982227,
          0.5781615710346232,
          0.5825271610246847,
          0.5866327582793592,
          0.5897528312570085,
          0.5922336111585075,
          0.5943880037664002,
          0.5958398134133124,
          0.5966779715484009,
          0.5968355826087051,
          0.5974512799452187,
          0.5973748718115475,
          0.5970409623686868,
          0.596671818013724,
          0.5959693463045814,
          0.5953478564517496,
          0.5948340867322133,
          0.5939855965489624,
          0.5933526708610478,
          0.5935274885961945,
          0.5941641906155458,
          0.5943675252051065,
          0.5950530588521444,
          0.5960107524334938,
          0.5970420515595604,
          0.5978077894645679,
          0.5981798237665138,
          0.5990930693889606,
          0.5989705355229734,
          0.5986872983075602,
          0.5989188878227588,
          0.6000001094578392,
          0.60059139946024,
          0.6011265313875698,
          0.6019619377827152,
          0.6024713989821623,
          0.6028617890116635,
          0.603067585442024,
          0.6031537642596662,
          0.6029847134741868,
          0.6023574250967715,
          0.602261371858132,
          0.6023982517645563,
          0.602431195991438,
          0.6024060247368269,
          0.603148549115838,
          0.6030979348237194,
          0.602942981430239,
          0.6039531844005377,
          0.605088952470265,
          0.606196692824329,
          0.6066040748772988,
          0.6070648900797444,
          0.606867812252783,
          0.6069685337363186,
          0.6069649218711759,
          0.6065965726441023,
          0.6065197627292743,
          0.606754202437568,
          0.606617993161548,
          0.6061224543768918,
          0.6058146899740952,
          0.6059516893405151,
          0.605636394092894,
          0.6055287133987608,
          0.6052328746306572,
          0.6049802696496384,
          0.6047862350599987,
          0.6047394454044785,
          0.6048636146985851,
          0.6043870561440261,
          0.6037067260035035,
          0.6032338180253215,
          0.6027305526536204,
          0.6012144840404937,
          0.6004155013997782,
          0.5998129932895903,
          0.5979776489649632,
          0.5958820653971554,
          0.593537613479984,
          0.5919814502188652,
          0.5900461219451321,
          0.589474065975933,
          0.5882260520595411,
          0.5872217203639283,
          0.5872418402868099,
          0.5870908488169629,
          0.587831281049857,
          0.5875090806684068,
          0.5878799154393866,
          0.5879590591650418,
          0.5885007710738756,
          0.5891897830527095,
          0.5900160723372703,
          0.5915599674471065,
          0.5934419494275839,
          0.5966568535683335,
          0.6000990170139184,
          0.6038003454941051,
          0.6078545651059372,
          0.6114942741755945,
          0.6165506049756119,
          0.6218132755607342,
          0.6254763674827948,
          0.6299640475605968,
          0.6340710182343455,
          0.6382253884497935,
          0.6411760216956319,
          0.6436426335432607,
          0.6454816623651963,
          0.6471194955576863,
          0.6481743627324709,
          0.6492001625298609,
          0.6500348861613487,
          0.6504461360544838,
          0.6509839481445145,
          0.6512283284397389,
          0.650865561677946,
          0.6506261480984491,
          0.6501330369395404,
          0.6497592603353189,
          0.6493852534376505,
          0.6490153260354259,
          0.6488482888262367,
          0.6487324277091145,
          0.6487290876378219,
          0.6487639117954074,
          0.6485460036479526,
          0.6482112998400863,
          0.6479923228684505,
          0.6465632150540722,
          0.6443338490349909,
          0.6427729531887646,
          0.6400100416751507,
          0.6369301683378786,
          0.6331465703366067,
          0.6303137801114109,
          0.628674690982806,
          0.6263023056103131,
          0.6238628999513438,
          0.6221841098132315,
          0.62018947397968,
          0.6183326903845499,
          0.6174250305097073,
          0.6158284118058532,
          0.614528251195011,
          0.6142982837907958,
          0.6136697367802143,
          0.6124586087975751,
          0.6107542147977244,
          0.6093319141450924,
          0.6069073586187427,
          0.6042155450331594,
          0.6016146564052086,
          0.5989555603255595,
          0.5968846478157748,
          0.5942698893823897,
          0.5922450125840683,
          0.5908111798688578,
          0.5894305724752374,
          0.5873061692678496,
          0.5855065013567766,
          0.581802268968812,
          0.5783997813086529,
          0.5741001187342901,
          0.571658536356854,
          0.5711758418042768,
          0.5676426669419335,
          0.5633670915845308,
          0.5606885000580313,
          0.5575850679855715,
          0.5548393658383012,
          0.5532602342868463,
          0.5520744444321803,
          0.5507254083185735,
          0.5504640724155125,
          0.549692493090609,
          0.5480117734734247,
          0.5463513302263407,
          0.5450878332381931,
          0.5433033564310146,
          0.5416458666228371,
          0.5397179384600663,
          0.5385667114632684,
          0.5373301816733197,
          0.5362294511203046,
          0.5352253613186911,
          0.5340364144539884,
          0.534024087509833,
          0.5334933685833372,
          0.5322387315262472,
          0.5309006336120421,
          0.5298830319029261,
          0.5292572520559145,
          0.5281201574172637,
          0.5281214255731906,
          0.5278715248736137,
          0.5277891411414961,
          0.5266883905347907,
          0.5267811841989762,
          0.5272999479066932,
          0.5276797731894443,
          0.5288928791465459,
          0.530025958847635,
          0.5304371525971047,
          0.5313603155209721,
          0.5324417971812978,
          0.5334824058675331,
          0.5337393219462703,
          0.5343815216680303,
          0.5352673062497841,
          0.5360196111921494,
          0.5367702479133253,
          0.5374729069469779,
          0.5387244187592363,
          0.5394030587327358,
          0.5399876602407614,
          0.540949809955982,
          0.5415078911508412,
          0.5421974325600463,
          0.5425909465895644,
          0.5430191131900316,
          0.5441624596697842,
          0.5442504197214122,
          0.5434897311368219,
          0.5431740751679,
          0.5431310529189176,
          0.5427805888083732,
          0.543402509380262,
          0.5437855144702958,
          0.5438503564507701,
          0.5436718362387596,
          0.5435998876602577,
          0.5436665035933623,
          0.5436205929870567,
          0.5432744681504458,
          0.5429630047453858,
          0.5430005676738315,
          0.5428778699837373,
          0.5424345682284937,
          0.542021049313107,
          0.541565072302618,
          0.5415681105828012,
          0.5403438936582471,
          0.5399750450861286,
          0.5405294381623229,
          0.5399716556748057,
          0.5395705591416767,
          0.5401211596950932,
          0.5418458742130168,
          0.5431141053594132,
          0.5439565387672572,
          0.5454800831266126,
          0.5477419202963728,
          0.5510725152059772,
          0.5538905666268805,
          0.5573312824409571,
          0.5620140150265196,
          0.5645481956432276,
          0.5674585657314086,
          0.5726099302727982,
          0.5758395817319232,
          0.5810201684461411,
          0.5864592619494187,
          0.5924331848895962,
          0.597327064629608,
          0.6000575538245811,
          0.6025195813009773,
          0.606207196784603,
          0.6097598424594117,
          0.6130439911292551,
          0.6183425950621753,
          0.6243929839747959,
          0.629293417199657,
          0.6353534958383459,
          0.6406065713833694,
          0.6446452699969926,
          0.6487839186246522,
          0.6518557428392523,
          0.656595679793907,
          0.6610272924845679,
          0.6645128353925092,
          0.6681622315712388,
          0.6724690006168107,
          0.6772416808083186,
          0.6818568755043859,
          0.6862331112662654,
          0.6911820746430141,
          0.6974769525818318,
          0.7057529337198822,
          0.7121803142208758,
          0.7203793309760662,
          0.7289035358820313,
          0.7362432443902541,
          0.7441081534625344,
          0.7506512821255358,
          0.7582909097998642,
          0.7641164110326825,
          0.7696982335119051,
          0.7758077833801553,
          0.7812308475494868,
          0.7898406864884762,
          0.799559786986003,
          0.8096448686070112,
          0.8198299625180712,
          0.8302308282789931,
          0.8406865790951069,
          0.8501060519494533,
          0.8591116783089254,
          0.867949904868081,
          0.8771897384061604,
          0.8857494370406505,
          0.893274090087372,
          0.8996951642506015,
          0.9067009377037678,
          0.9089220544445186,
          0.9161452690948922,
          0.923187727339262,
          0.9267579222089602,
          0.9301668891273532,
          0.9366655877908469,
          0.938553112553637,
          0.9457003733728818,
          0.952626098078669,
          0.9594322678449667,
          0.9668545803803934,
          0.9726658673561204,
          0.9778343113366255,
          0.9828871483610272,
          0.9867088878602951,
          0.9922035949757559,
          0.997245687535506,
          1.0016101220997602,
          1.0061232996554244,
          1.0121172777544152,
          1.0178978380056143,
          1.0227500935258913,
          1.0265427793272996,
          1.0314624113919315,
          1.0353476258135244,
          1.038816429579601,
          1.0433777368626234,
          1.0460665007625067,
          1.0531765721966135,
          1.0564712647060035,
          1.060740381410658,
          1.064539384103481,
          1.065672797448921,
          1.0670389197848282,
          1.0732377640345707,
          1.0745483315482263,
          1.0771633067028503,
          1.0802755396479455,
          1.0813112855996756,
          1.0826189990963513,
          1.0841758864613993,
          1.0852473270693155,
          1.0862779753945955,
          1.0876520852968348,
          1.0894044893208616,
          1.089967994856256,
          1.0910457095988952,
          1.0922817878142865,
          1.095824203911102,
          1.097695359975994,
          1.0985928279946267,
          1.1011840503698889,
          1.1027685295099479,
          1.104271530498799,
          1.1064798704248309,
          1.1095915078303142,
          1.1134721015278441,
          1.116717168788764,
          1.1200801892795487,
          1.123710917287764,
          1.1269208164761768,
          1.1306082841636713,
          1.1330430839158603,
          1.1354857392514737,
          1.1384414493840298,
          1.1415612863014195,
          1.1446120806347349,
          1.1461085840116876,
          1.1505091921852775,
          1.1552130044910665,
          1.1582963673298188,
          1.1628970876316742,
          1.1659703945353201,
          1.1688182284151214,
          1.1724773529362698,
          1.1802866735922357,
          1.1828646635147624,
          1.1876239812258573,
          1.1922938603799003,
          1.1969853874627172,
          1.2027193257023479,
          1.208934929923976,
          1.2158742057196905,
          1.2189288609174425,
          1.229381088525185,
          1.2367596761220512,
          1.2479372376485052,
          1.2618869495635838,
          1.2756711855501934,
          1.286104357176146,
          1.296890459584727,
          1.3076823705248435,
          1.3173397670555256,
          1.3280913026846595,
          1.3375721164735896,
          1.3441187477833214,
          1.3508878009149647,
          1.35737788461417,
          1.3632325396868998,
          1.3691819790443043,
          1.3774197952500957,
          1.3825333336018197,
          1.3871296606974837,
          1.3910894946085786,
          1.3985744088670324,
          1.4038608288595111,
          1.4084190562917869,
          1.4169559265794336,
          1.4214328173213027,
          1.4237627138506372,
          1.427713143362915,
          1.4330127769410343,
          1.434733061057896,
          1.4420807335519676,
          1.4454931725503881,
          1.4473642054071745,
          1.4494086292270194,
          1.4515331421457027,
          1.4532219325792064,
          1.4564855765190838,
          1.45850296139349,
          1.460295036637118,
          1.4619013809954897,
          1.4645058018038766,
          1.4651772386605115,
          1.4671246770748394,
          1.4679414118204528,
          1.4682642897345604,
          1.468801336575968,
          1.4717747737230806,
          1.473967456424607,
          1.4760914740754063,
          1.477850304876551,
          1.4796596144110798,
          1.4826827694720703,
          1.4852062156074737,
          1.4872098105914853,
          1.4897853997321235,
          1.4909096550371732,
          1.4931271139210351,
          1.494010654816796,
          1.4957304347506242,
          1.498866422080054,
          1.4994872339978462,
          1.5006827009659671,
          1.501449549487713,
          1.501255601510128,
          1.5014107791086948,
          1.501712025307105,
          1.5022368942962776,
          1.502367322637779,
          1.5025546715495595,
          1.5025679235553904,
          1.502385733345994,
          1.502633049888369,
          1.5024557168603805,
          1.5022791109624885,
          1.5020143484018937,
          1.5020681702832825,
          1.5019695099541481,
          1.501725717838247,
          1.5016487686088116,
          1.5016113198843817,
          1.5008732900637016,
          1.5000943936772635,
          null,
          null,
          null,
          null,
          null,
          null,
          null,
          null,
          null,
          null,
          null,
          null,
          null,
          null,
          null,
          null,
          null,
          null,
          null,
          null,
          null,
          null,
          null,
          null,
          null,
          null,
          null,
          null,
          1.475504848744186,
          1.476224026401897,
          1.4770093475801866,
          1.477188614348114,
          1.477204192818741,
          1.4780424087757482,
          1.478258168119999,
          1.4792861685211374,
          1.4768429671076493,
          1.4743181404144996,
          1.4720031202588573,
          1.4707709863042386,
          1.4677818183181879,
          1.467189452236246,
          1.464261169459813,
          1.4620619663533738,
          1.4597571258645503,
          1.4590120879712236,
          1.4563299505389153,
          1.4546567508807982,
          1.4517082637731564,
          1.449196670639842,
          1.44880031990873,
          1.4495149365793354,
          1.4489364059173722,
          1.4483486213265642,
          1.4466233839059797,
          1.442469776300127,
          1.4406971463697695,
          1.4407895670382087,
          1.4378768170581624,
          1.4359826364183232,
          1.4341449776064727,
          1.4281920255557172,
          1.4234480315333107,
          1.4187029822929156,
          1.4167323975928365,
          1.4118238660847857,
          1.4060676703198458,
          1.4010112280040143,
          1.396537038789769,
          1.391001623992369,
          1.3880326195747583,
          1.3855958439853915,
          1.3817613079131954,
          1.378393498312414,
          1.3744803580754157,
          1.3698225887645954,
          1.366863473207816,
          1.3632339310134671,
          1.3569375958101668,
          1.347182335935613,
          1.3411904984635838,
          1.3262330802631164,
          1.3175579409167102,
          1.3081563588306162,
          1.298138198696056,
          1.288186732063399,
          1.2791850012101025,
          1.269479925521587,
          1.258277664832314,
          1.2522337317312258,
          1.2431537893750693,
          1.2330332486794962,
          1.2237171052146274,
          1.2166779176704663,
          1.208204586182896,
          1.2012547861485023,
          1.1944092491841523,
          1.1851194598539085,
          1.1777856903192974,
          1.1714157083359569,
          1.1662074994300273,
          1.1608480645554797,
          1.155778041365091,
          1.152246321814351,
          1.1485198797878322,
          1.1470054231296167,
          1.1461429997372758,
          1.1447284810902765,
          1.1426995579860892,
          1.141370868749718,
          1.1373640374741356,
          1.1337572162915268,
          1.1298897379058745,
          1.1273895718994096,
          1.1225204651226448,
          1.119019623838561,
          1.117090225353859,
          1.1130480739973965,
          1.1108604082920657,
          1.1060034138919828,
          1.1027171001733462,
          1.0992644152947524,
          1.0958132643696457,
          1.092117965974166,
          1.0896096549252965,
          1.0866418312235104,
          1.0829687255038132,
          1.0817101551286397,
          1.0800172832876203,
          1.0798697481708321,
          1.0797728989071023,
          1.0774125218509436,
          1.0747442493192934,
          1.0730841300685068,
          1.0718661027777747,
          1.071300276318009,
          1.0714570594060127,
          1.0680673249374357,
          1.0663163655213814,
          1.0627673859628164,
          1.0595234167228667,
          1.057402442660628,
          1.0540808995152906,
          1.0515646173094824,
          1.0496244321908959,
          1.0481011279457135,
          1.0445261562357928,
          1.04069461045193,
          1.0377023996651271,
          1.0350555857936268,
          1.0317014621139842,
          1.0284459004204245,
          1.0250706433274461,
          1.0216280305804653,
          1.018667233190847,
          1.0150863297527277,
          1.0110362419481005,
          1.0069238388397412,
          0.9940931195678753,
          0.9902007219875582,
          0.9814875854964746,
          0.9726701301246962,
          0.968570685167131,
          0.9646282253493611,
          0.9542131995644512,
          0.9505755319862964,
          0.9451666756260132,
          0.9407523517778634,
          0.9368123393593298,
          0.9329979591970444,
          0.928479245085368,
          0.9235701986568753,
          0.9191103605077534,
          0.9150593383393417,
          0.9106838613162408,
          0.9053541754301535,
          0.8995625839450974,
          0.8934248927869417,
          0.8861642033377298,
          0.8753172193045703,
          0.8662535924326977,
          0.8566390349917175,
          0.8476171777186241,
          0.8410937711258006,
          0.833369230102568,
          0.8264946816320494,
          0.8192477448132147,
          0.8126180280876022,
          0.8057367753348553,
          0.7973427568540278,
          0.7901285508387436,
          0.7821877496864814,
          0.7734155716831858,
          0.7634313046088856,
          0.7544877231546778,
          0.745925548255472,
          0.7373186750248444,
          0.728819597462665,
          0.7208361485392278,
          0.7138333773107148,
          0.7073927424016441,
          0.6997428437982393,
          0.6939925350275508,
          0.6886411367753367,
          0.6843798427686449,
          0.6807660402612147,
          0.6764989921705247,
          0.6730221779499975,
          0.6679363878120335,
          0.6615463442293379,
          0.6556068956596889,
          0.6499060131619838,
          0.6437210333311865,
          0.6375625086697763,
          0.6340953542319249,
          0.631264149632639,
          0.6286384499125037,
          0.6258577068336537,
          0.6210731877372189,
          0.6187499556470721,
          0.6140871356226362,
          0.6088441761546248,
          0.6053310824452691,
          0.6011500703184178,
          0.5968452163931047,
          0.5929818091674557,
          0.5884684428641156,
          0.5835401212053133,
          0.5793183980038212,
          0.5753647181665714,
          0.5715435130695152,
          0.5674086029783719,
          0.562611317836324,
          0.5586806143801625,
          0.5560750066044263,
          0.5526759336005447,
          0.5488907940988066,
          0.546399981937884,
          0.5426014985438901,
          0.5384463964894113,
          0.534748513869676,
          0.5307851489922173,
          0.5283832146717469,
          0.52573804204897,
          0.5239230063479583,
          0.5220831157292787,
          0.5208594984751128,
          0.5192412053423664,
          0.5190114571904465,
          0.5177630624525781,
          0.5163084110262648,
          0.5158109656170604,
          0.5156906305542674,
          0.5158129833224754,
          0.5163631049661149,
          0.516733323366284,
          0.5168759177313372,
          0.5171278665154938,
          0.5174080580665088,
          0.5178638800563082,
          0.5179772895517557,
          0.5179764068601008,
          0.5179301136652823,
          0.5179991440351105,
          0.5180043701740719,
          0.5184491238368925,
          0.518448428370391,
          0.5188722232277014,
          0.5198850853713588,
          0.5208867950666201,
          0.5222693621354423,
          0.5221698264656544,
          0.5233838442262897,
          0.5245830924743743,
          0.5260646770582447,
          0.5267278876264401,
          0.5277433012100983,
          0.5281911239401423,
          0.5291784505289253,
          0.5307694166888514,
          0.5322303225968184,
          0.5313922148104765,
          0.5308537162461113,
          0.5294030712916906,
          0.526526378031372,
          0.5252883871997763,
          0.5246884317513326,
          0.5232965627357089,
          0.5220483044094628,
          0.5213001385470583,
          0.5211775691231564,
          0.5210060027520986,
          0.5199183018787076,
          0.5182130014000991,
          0.516716692764553,
          0.516101475782058,
          0.5155132642980793,
          0.5145732507431395,
          0.5142224882211548,
          0.5139418651162386,
          0.5136503320145862,
          0.5133649235011408,
          0.5133965768833311,
          0.5133925545412464,
          0.5132050970891266,
          0.5129967193540239,
          0.5130529654058948,
          0.5131590204542639,
          0.5133066651627012,
          0.5133212453664685,
          0.513237496605879,
          0.5132389327420945,
          0.5134233706077608,
          0.514354032410815,
          0.5144876319808505,
          0.5144983689770853,
          0.5149101623928833,
          0.5152651735465238,
          0.5153947694933472,
          0.5153311568330221,
          0.5153352557816635,
          0.5159367650217853,
          0.5172987154905376,
          0.5188187609520803,
          0.519455136820844,
          0.5202105021249597,
          0.5212593098432744,
          0.5218937183423169,
          0.5224954347216667,
          0.5235035489519184,
          0.5245126561880915,
          0.5252025337872005,
          0.5261813031544753,
          0.5274051227485688,
          0.5290503981126542,
          0.5305615488208916,
          0.5312349643857391,
          0.5316729016952672,
          0.5322136260396884,
          0.5326136978109655,
          0.5330435484427206,
          0.534311019358756,
          0.5367316259865869,
          0.5378104321855753,
          0.5385488983550498,
          0.53971905615638,
          0.5406951897793231,
          0.5422635470566568,
          0.5440536729920921,
          0.546935035340578,
          0.5489552517791051,
          0.551006586766845,
          0.5528581881940537,
          0.5549994663181422,
          0.5571769699002799,
          0.5587788096846009,
          0.5606807463121318,
          0.5626186386202385,
          0.5651488138034858,
          0.5673625448451828,
          0.5696428073839764,
          0.5730562299424198,
          0.577767233688288,
          0.5806375202221714,
          0.5837995585464235,
          0.5869773049522333,
          0.5889327320156699,
          0.5905219477193588,
          0.5924436898668415,
          0.5930535726273439,
          0.5939302949328729,
          0.5981768080068548,
          0.5998079228092618,
          0.599824451928859,
          0.6006002657222193,
          0.6012759585850066,
          0.6036986387210798,
          0.6056543631021333,
          0.6083642068863597,
          0.611166279128149,
          0.6131485202636998,
          0.6143027102369376,
          0.6154949135216025,
          0.6156783182351538,
          0.6148261575957449,
          0.613363254003817,
          0.6111579789495236,
          0.6094937206660397,
          0.6072619090897216,
          0.6048681204084995,
          0.6031873909679686,
          0.6003421720663751,
          0.5986025399924164,
          0.5963723275265893,
          0.5944739059187292,
          0.5925663936291474,
          0.5906080824958561,
          0.5883868615489448,
          0.5863334376316308,
          0.5844040067336181,
          0.5825301524117019,
          0.580888657313483,
          0.5794884393213185,
          0.578677278558404,
          0.5777929233142347,
          0.5759679570249097,
          0.5753012966750536,
          0.5742342692025887,
          0.5734306031420969,
          0.5733291907576491,
          0.5722967478756695,
          0.5723365032047053,
          0.5721733630632683,
          0.5720057022198796,
          0.5717798370767495,
          0.5713308064811384,
          0.5710550682881542,
          0.5706269233588032,
          0.5705750258201259,
          0.5704544513263493,
          0.5706396009928586,
          0.5706092753146023,
          0.5705896212127218,
          0.5705918209780045,
          0.5702532696709991,
          0.5698809387063306,
          0.5698919886202312,
          0.5694132018267044,
          0.5691726839990076,
          0.5687693891681292,
          0.5685773970055324,
          0.5687507229837901,
          0.5689290236356711,
          0.5693854619091837,
          0.5705891188557493,
          0.5716135047208587,
          0.5734597046105371,
          0.5747277441975462,
          0.5757137288455945,
          0.5778526899065632,
          0.5787040990226316,
          0.5803626531658753,
          0.5814834911999338,
          0.5827647669410259,
          0.5842331038089993,
          0.5856202471870245,
          0.5873804185283206,
          0.5886748418435611,
          0.5901242930524774,
          0.5910661150841575,
          0.5924019160919088,
          0.5929296502657666,
          0.5937683284242126,
          0.5937714858762897,
          0.5936980386641878,
          0.5941488831403698,
          0.5939948506064706,
          0.5936265371443985,
          0.5930807461015422,
          0.5932024228489332,
          0.5929538149639073,
          0.5917839415943965,
          0.5907162768402797,
          0.5899269605980734,
          0.5894045829639029,
          0.5885743177102907,
          0.587462268344549,
          0.5860352842322459,
          0.583798925978976,
          0.582726123866845,
          0.5810608630254299,
          0.5795828297539586,
          0.5779777321678089,
          0.5772129631641958,
          0.5764936498733588,
          0.5760873180631715,
          0.5760582646308102,
          0.5761293656194116,
          0.5761355972415914,
          0.5761294719199318,
          0.5761231738562967,
          0.5761991912075967,
          0.5762095924704087,
          0.5760353993839439,
          0.575941616928059,
          0.5752822540110857,
          0.5745310114123628,
          0.5729074723344411,
          0.5705626964513468,
          0.5678198044044908,
          0.5640652889383326,
          0.5593341988194893,
          0.5544032434555635,
          0.548477333846974,
          0.5418093136616129,
          0.535295487235603,
          0.5285453079957974,
          0.5228290066030155,
          0.5172865749391842,
          0.510026958719025,
          0.5035659684800816,
          0.4987486375836765,
          0.49365736212357103,
          0.48875901674256406,
          0.48447798539556775,
          0.47954875922565554,
          0.47449885990300694,
          0.4712657152567602,
          0.46866388365510764,
          0.4663663742202677,
          0.46452189828118723,
          0.46189059339424987,
          0.4611588941758919,
          0.46084155388291836,
          0.4609171809269708,
          0.46153580368638686,
          0.46215113730831714,
          0.4625414678820009,
          0.4634355943432922,
          0.46422236616392504,
          0.46221955116090463,
          0.460705452233465,
          0.45940575870605993,
          0.45617385277095945,
          0.45245525143002413,
          0.44824320332101764,
          0.4436021234158988,
          0.4389297239283965,
          0.43472631067554635,
          0.4301470328138728,
          0.42547862705245393,
          0.42029650039563576,
          0.4153628736616083,
          0.4102326890565399,
          0.4003608962164469,
          0.3940151240335874,
          0.38998892145395847,
          0.3861833712065498,
          0.3827736271957241,
          0.37915318465053555,
          0.3763861932420909,
          0.3732927414482673,
          0.3713486984074815,
          0.36650988909579735,
          0.36513826595331655,
          0.3645718555414667,
          0.36447137980069516,
          0.36527734457405164,
          0.36650408835127096,
          0.366566836388088,
          0.3663509747374802,
          0.36586665738868723,
          0.36459006659902493,
          0.3629659032650956,
          0.36155931444864225,
          0.3602854878217642,
          0.35952498756212325,
          0.3594287103425206,
          0.3592686444093186,
          0.3596545432402332,
          0.36086862210219844,
          0.36272363872415025,
          0.3653523920922906,
          0.3717738444428407,
          0.37738620610578416,
          0.3815091947840918,
          0.38658111541491136,
          0.39237263241494325,
          0.39935722616846203,
          0.40640282521647186,
          0.4153911782683888,
          0.4246670510922014,
          0.43896217947048743,
          0.45110496116223653,
          0.46380065342228816,
          0.4763799368103622,
          0.48877051543050215,
          0.5018438173162879,
          0.5142795680671284,
          0.5267028768625389,
          0.539034236134049,
          0.5515916478981383,
          0.5639020605268643,
          0.5769132330034894,
          0.5898684833490384,
          0.6033343621685479,
          0.6180674814690424,
          0.6317542630742952,
          0.6455706967997176,
          0.6593175375048947,
          0.6732561374390096,
          null,
          null,
          null,
          null,
          null,
          null,
          null,
          null,
          null,
          null,
          null,
          null,
          null,
          null
         ],
         "yaxis": "y4"
        }
       ],
       "layout": {
        "annotations": [
         {
          "font": {
           "size": 16
          },
          "showarrow": false,
          "text": "Red Line Distance vs Frame Index",
          "x": 0.225,
          "xanchor": "center",
          "xref": "paper",
          "y": 1,
          "yanchor": "bottom",
          "yref": "paper"
         },
         {
          "font": {
           "size": 16
          },
          "showarrow": false,
          "text": "Red Line Distance vs Time",
          "x": 0.775,
          "xanchor": "center",
          "xref": "paper",
          "y": 1,
          "yanchor": "bottom",
          "yref": "paper"
         },
         {
          "font": {
           "size": 16
          },
          "showarrow": false,
          "text": "Red Line Distance Distribution",
          "x": 0.225,
          "xanchor": "center",
          "xref": "paper",
          "y": 0.375,
          "yanchor": "bottom",
          "yref": "paper"
         },
         {
          "font": {
           "size": 16
          },
          "showarrow": false,
          "text": "Distance Trends and Variability",
          "x": 0.775,
          "xanchor": "center",
          "xref": "paper",
          "y": 0.375,
          "yanchor": "bottom",
          "yref": "paper"
         },
         {
          "showarrow": false,
          "text": "Mean: 0.78m",
          "x": 0.7756395777864104,
          "xanchor": "left",
          "xref": "x3",
          "y": 1,
          "yanchor": "top",
          "yref": "y3 domain"
         },
         {
          "showarrow": false,
          "text": "Median: 0.60m",
          "x": 0.6010361124034718,
          "xanchor": "left",
          "xref": "x3",
          "y": 1,
          "yanchor": "top",
          "yref": "y3 domain"
         },
         {
          "bgcolor": "wheat",
          "opacity": 0.8,
          "showarrow": false,
          "text": "Mean: 0.78m<br>Std: 0.33m<br>Range: 0.33-1.53m",
          "x": 0.02,
          "xref": "paper",
          "y": 0.98,
          "yref": "paper"
         }
        ],
        "height": 800,
        "shapes": [
         {
          "line": {
           "color": "red",
           "dash": "dash",
           "width": 2
          },
          "type": "line",
          "x0": 0.7756395777864104,
          "x1": 0.7756395777864104,
          "xref": "x3",
          "y0": 0,
          "y1": 1,
          "yref": "y3 domain"
         },
         {
          "line": {
           "color": "green",
           "dash": "dash",
           "width": 2
          },
          "type": "line",
          "x0": 0.6010361124034718,
          "x1": 0.6010361124034718,
          "xref": "x3",
          "y0": 0,
          "y1": 1,
          "yref": "y3 domain"
         }
        ],
        "showlegend": true,
        "template": {
         "data": {
          "bar": [
           {
            "error_x": {
             "color": "#2a3f5f"
            },
            "error_y": {
             "color": "#2a3f5f"
            },
            "marker": {
             "line": {
              "color": "#E5ECF6",
              "width": 0.5
             },
             "pattern": {
              "fillmode": "overlay",
              "size": 10,
              "solidity": 0.2
             }
            },
            "type": "bar"
           }
          ],
          "barpolar": [
           {
            "marker": {
             "line": {
              "color": "#E5ECF6",
              "width": 0.5
             },
             "pattern": {
              "fillmode": "overlay",
              "size": 10,
              "solidity": 0.2
             }
            },
            "type": "barpolar"
           }
          ],
          "carpet": [
           {
            "aaxis": {
             "endlinecolor": "#2a3f5f",
             "gridcolor": "white",
             "linecolor": "white",
             "minorgridcolor": "white",
             "startlinecolor": "#2a3f5f"
            },
            "baxis": {
             "endlinecolor": "#2a3f5f",
             "gridcolor": "white",
             "linecolor": "white",
             "minorgridcolor": "white",
             "startlinecolor": "#2a3f5f"
            },
            "type": "carpet"
           }
          ],
          "choropleth": [
           {
            "colorbar": {
             "outlinewidth": 0,
             "ticks": ""
            },
            "type": "choropleth"
           }
          ],
          "contour": [
           {
            "colorbar": {
             "outlinewidth": 0,
             "ticks": ""
            },
            "colorscale": [
             [
              0,
              "#0d0887"
             ],
             [
              0.1111111111111111,
              "#46039f"
             ],
             [
              0.2222222222222222,
              "#7201a8"
             ],
             [
              0.3333333333333333,
              "#9c179e"
             ],
             [
              0.4444444444444444,
              "#bd3786"
             ],
             [
              0.5555555555555556,
              "#d8576b"
             ],
             [
              0.6666666666666666,
              "#ed7953"
             ],
             [
              0.7777777777777778,
              "#fb9f3a"
             ],
             [
              0.8888888888888888,
              "#fdca26"
             ],
             [
              1,
              "#f0f921"
             ]
            ],
            "type": "contour"
           }
          ],
          "contourcarpet": [
           {
            "colorbar": {
             "outlinewidth": 0,
             "ticks": ""
            },
            "type": "contourcarpet"
           }
          ],
          "heatmap": [
           {
            "colorbar": {
             "outlinewidth": 0,
             "ticks": ""
            },
            "colorscale": [
             [
              0,
              "#0d0887"
             ],
             [
              0.1111111111111111,
              "#46039f"
             ],
             [
              0.2222222222222222,
              "#7201a8"
             ],
             [
              0.3333333333333333,
              "#9c179e"
             ],
             [
              0.4444444444444444,
              "#bd3786"
             ],
             [
              0.5555555555555556,
              "#d8576b"
             ],
             [
              0.6666666666666666,
              "#ed7953"
             ],
             [
              0.7777777777777778,
              "#fb9f3a"
             ],
             [
              0.8888888888888888,
              "#fdca26"
             ],
             [
              1,
              "#f0f921"
             ]
            ],
            "type": "heatmap"
           }
          ],
          "histogram": [
           {
            "marker": {
             "pattern": {
              "fillmode": "overlay",
              "size": 10,
              "solidity": 0.2
             }
            },
            "type": "histogram"
           }
          ],
          "histogram2d": [
           {
            "colorbar": {
             "outlinewidth": 0,
             "ticks": ""
            },
            "colorscale": [
             [
              0,
              "#0d0887"
             ],
             [
              0.1111111111111111,
              "#46039f"
             ],
             [
              0.2222222222222222,
              "#7201a8"
             ],
             [
              0.3333333333333333,
              "#9c179e"
             ],
             [
              0.4444444444444444,
              "#bd3786"
             ],
             [
              0.5555555555555556,
              "#d8576b"
             ],
             [
              0.6666666666666666,
              "#ed7953"
             ],
             [
              0.7777777777777778,
              "#fb9f3a"
             ],
             [
              0.8888888888888888,
              "#fdca26"
             ],
             [
              1,
              "#f0f921"
             ]
            ],
            "type": "histogram2d"
           }
          ],
          "histogram2dcontour": [
           {
            "colorbar": {
             "outlinewidth": 0,
             "ticks": ""
            },
            "colorscale": [
             [
              0,
              "#0d0887"
             ],
             [
              0.1111111111111111,
              "#46039f"
             ],
             [
              0.2222222222222222,
              "#7201a8"
             ],
             [
              0.3333333333333333,
              "#9c179e"
             ],
             [
              0.4444444444444444,
              "#bd3786"
             ],
             [
              0.5555555555555556,
              "#d8576b"
             ],
             [
              0.6666666666666666,
              "#ed7953"
             ],
             [
              0.7777777777777778,
              "#fb9f3a"
             ],
             [
              0.8888888888888888,
              "#fdca26"
             ],
             [
              1,
              "#f0f921"
             ]
            ],
            "type": "histogram2dcontour"
           }
          ],
          "mesh3d": [
           {
            "colorbar": {
             "outlinewidth": 0,
             "ticks": ""
            },
            "type": "mesh3d"
           }
          ],
          "parcoords": [
           {
            "line": {
             "colorbar": {
              "outlinewidth": 0,
              "ticks": ""
             }
            },
            "type": "parcoords"
           }
          ],
          "pie": [
           {
            "automargin": true,
            "type": "pie"
           }
          ],
          "scatter": [
           {
            "fillpattern": {
             "fillmode": "overlay",
             "size": 10,
             "solidity": 0.2
            },
            "type": "scatter"
           }
          ],
          "scatter3d": [
           {
            "line": {
             "colorbar": {
              "outlinewidth": 0,
              "ticks": ""
             }
            },
            "marker": {
             "colorbar": {
              "outlinewidth": 0,
              "ticks": ""
             }
            },
            "type": "scatter3d"
           }
          ],
          "scattercarpet": [
           {
            "marker": {
             "colorbar": {
              "outlinewidth": 0,
              "ticks": ""
             }
            },
            "type": "scattercarpet"
           }
          ],
          "scattergeo": [
           {
            "marker": {
             "colorbar": {
              "outlinewidth": 0,
              "ticks": ""
             }
            },
            "type": "scattergeo"
           }
          ],
          "scattergl": [
           {
            "marker": {
             "colorbar": {
              "outlinewidth": 0,
              "ticks": ""
             }
            },
            "type": "scattergl"
           }
          ],
          "scattermap": [
           {
            "marker": {
             "colorbar": {
              "outlinewidth": 0,
              "ticks": ""
             }
            },
            "type": "scattermap"
           }
          ],
          "scattermapbox": [
           {
            "marker": {
             "colorbar": {
              "outlinewidth": 0,
              "ticks": ""
             }
            },
            "type": "scattermapbox"
           }
          ],
          "scatterpolar": [
           {
            "marker": {
             "colorbar": {
              "outlinewidth": 0,
              "ticks": ""
             }
            },
            "type": "scatterpolar"
           }
          ],
          "scatterpolargl": [
           {
            "marker": {
             "colorbar": {
              "outlinewidth": 0,
              "ticks": ""
             }
            },
            "type": "scatterpolargl"
           }
          ],
          "scatterternary": [
           {
            "marker": {
             "colorbar": {
              "outlinewidth": 0,
              "ticks": ""
             }
            },
            "type": "scatterternary"
           }
          ],
          "surface": [
           {
            "colorbar": {
             "outlinewidth": 0,
             "ticks": ""
            },
            "colorscale": [
             [
              0,
              "#0d0887"
             ],
             [
              0.1111111111111111,
              "#46039f"
             ],
             [
              0.2222222222222222,
              "#7201a8"
             ],
             [
              0.3333333333333333,
              "#9c179e"
             ],
             [
              0.4444444444444444,
              "#bd3786"
             ],
             [
              0.5555555555555556,
              "#d8576b"
             ],
             [
              0.6666666666666666,
              "#ed7953"
             ],
             [
              0.7777777777777778,
              "#fb9f3a"
             ],
             [
              0.8888888888888888,
              "#fdca26"
             ],
             [
              1,
              "#f0f921"
             ]
            ],
            "type": "surface"
           }
          ],
          "table": [
           {
            "cells": {
             "fill": {
              "color": "#EBF0F8"
             },
             "line": {
              "color": "white"
             }
            },
            "header": {
             "fill": {
              "color": "#C8D4E3"
             },
             "line": {
              "color": "white"
             }
            },
            "type": "table"
           }
          ]
         },
         "layout": {
          "annotationdefaults": {
           "arrowcolor": "#2a3f5f",
           "arrowhead": 0,
           "arrowwidth": 1
          },
          "autotypenumbers": "strict",
          "coloraxis": {
           "colorbar": {
            "outlinewidth": 0,
            "ticks": ""
           }
          },
          "colorscale": {
           "diverging": [
            [
             0,
             "#8e0152"
            ],
            [
             0.1,
             "#c51b7d"
            ],
            [
             0.2,
             "#de77ae"
            ],
            [
             0.3,
             "#f1b6da"
            ],
            [
             0.4,
             "#fde0ef"
            ],
            [
             0.5,
             "#f7f7f7"
            ],
            [
             0.6,
             "#e6f5d0"
            ],
            [
             0.7,
             "#b8e186"
            ],
            [
             0.8,
             "#7fbc41"
            ],
            [
             0.9,
             "#4d9221"
            ],
            [
             1,
             "#276419"
            ]
           ],
           "sequential": [
            [
             0,
             "#0d0887"
            ],
            [
             0.1111111111111111,
             "#46039f"
            ],
            [
             0.2222222222222222,
             "#7201a8"
            ],
            [
             0.3333333333333333,
             "#9c179e"
            ],
            [
             0.4444444444444444,
             "#bd3786"
            ],
            [
             0.5555555555555556,
             "#d8576b"
            ],
            [
             0.6666666666666666,
             "#ed7953"
            ],
            [
             0.7777777777777778,
             "#fb9f3a"
            ],
            [
             0.8888888888888888,
             "#fdca26"
            ],
            [
             1,
             "#f0f921"
            ]
           ],
           "sequentialminus": [
            [
             0,
             "#0d0887"
            ],
            [
             0.1111111111111111,
             "#46039f"
            ],
            [
             0.2222222222222222,
             "#7201a8"
            ],
            [
             0.3333333333333333,
             "#9c179e"
            ],
            [
             0.4444444444444444,
             "#bd3786"
            ],
            [
             0.5555555555555556,
             "#d8576b"
            ],
            [
             0.6666666666666666,
             "#ed7953"
            ],
            [
             0.7777777777777778,
             "#fb9f3a"
            ],
            [
             0.8888888888888888,
             "#fdca26"
            ],
            [
             1,
             "#f0f921"
            ]
           ]
          },
          "colorway": [
           "#636efa",
           "#EF553B",
           "#00cc96",
           "#ab63fa",
           "#FFA15A",
           "#19d3f3",
           "#FF6692",
           "#B6E880",
           "#FF97FF",
           "#FECB52"
          ],
          "font": {
           "color": "#2a3f5f"
          },
          "geo": {
           "bgcolor": "white",
           "lakecolor": "white",
           "landcolor": "#E5ECF6",
           "showlakes": true,
           "showland": true,
           "subunitcolor": "white"
          },
          "hoverlabel": {
           "align": "left"
          },
          "hovermode": "closest",
          "mapbox": {
           "style": "light"
          },
          "paper_bgcolor": "white",
          "plot_bgcolor": "#E5ECF6",
          "polar": {
           "angularaxis": {
            "gridcolor": "white",
            "linecolor": "white",
            "ticks": ""
           },
           "bgcolor": "#E5ECF6",
           "radialaxis": {
            "gridcolor": "white",
            "linecolor": "white",
            "ticks": ""
           }
          },
          "scene": {
           "xaxis": {
            "backgroundcolor": "#E5ECF6",
            "gridcolor": "white",
            "gridwidth": 2,
            "linecolor": "white",
            "showbackground": true,
            "ticks": "",
            "zerolinecolor": "white"
           },
           "yaxis": {
            "backgroundcolor": "#E5ECF6",
            "gridcolor": "white",
            "gridwidth": 2,
            "linecolor": "white",
            "showbackground": true,
            "ticks": "",
            "zerolinecolor": "white"
           },
           "zaxis": {
            "backgroundcolor": "#E5ECF6",
            "gridcolor": "white",
            "gridwidth": 2,
            "linecolor": "white",
            "showbackground": true,
            "ticks": "",
            "zerolinecolor": "white"
           }
          },
          "shapedefaults": {
           "line": {
            "color": "#2a3f5f"
           }
          },
          "ternary": {
           "aaxis": {
            "gridcolor": "white",
            "linecolor": "white",
            "ticks": ""
           },
           "baxis": {
            "gridcolor": "white",
            "linecolor": "white",
            "ticks": ""
           },
           "bgcolor": "#E5ECF6",
           "caxis": {
            "gridcolor": "white",
            "linecolor": "white",
            "ticks": ""
           }
          },
          "title": {
           "x": 0.05
          },
          "xaxis": {
           "automargin": true,
           "gridcolor": "white",
           "linecolor": "white",
           "ticks": "",
           "title": {
            "standoff": 15
           },
           "zerolinecolor": "white",
           "zerolinewidth": 2
          },
          "yaxis": {
           "automargin": true,
           "gridcolor": "white",
           "linecolor": "white",
           "ticks": "",
           "title": {
            "standoff": 15
           },
           "zerolinecolor": "white",
           "zerolinewidth": 2
          }
         }
        },
        "title": {
         "font": {
          "size": 16,
          "weight": "bold"
         },
         "text": "Red Line Distance Analysis Over Time (Real-World Distances)"
        },
        "xaxis": {
         "anchor": "y",
         "domain": [
          0,
          0.45
         ],
         "title": {
          "text": "Frame Index"
         }
        },
        "xaxis2": {
         "anchor": "y2",
         "domain": [
          0.55,
          1
         ],
         "title": {
          "text": "Frame Index"
         }
        },
        "xaxis3": {
         "anchor": "y3",
         "domain": [
          0,
          0.45
         ],
         "title": {
          "text": "Distance (m)"
         }
        },
        "xaxis4": {
         "anchor": "y4",
         "domain": [
          0.55,
          1
         ],
         "title": {
          "text": "Frame Index"
         }
        },
        "yaxis": {
         "anchor": "x",
         "domain": [
          0.625,
          1
         ],
         "title": {
          "text": "Distance (m)"
         }
        },
        "yaxis2": {
         "anchor": "x2",
         "domain": [
          0.625,
          1
         ],
         "title": {
          "text": "Distance (m)"
         }
        },
        "yaxis3": {
         "anchor": "x3",
         "domain": [
          0,
          0.375
         ],
         "title": {
          "text": "Frequency"
         }
        },
        "yaxis4": {
         "anchor": "x4",
         "domain": [
          0,
          0.375
         ],
         "title": {
          "text": "Distance (m)"
         }
        }
       }
      }
     },
     "metadata": {},
     "output_type": "display_data"
    }
   ],
   "source": [
    "# Real-world distance analysis and plotting using utility function\n",
    "iau.plot_real_world_distance_analysis(distance_results, image_shape=image_shape, sonar_coverage_meters=sonar_coverage_meters)"
   ]
  },
  {
   "cell_type": "code",
   "execution_count": 8,
   "id": "c10a8be6",
   "metadata": {},
   "outputs": [
    {
     "name": "stdout",
     "output_type": "stream",
     "text": [
      "🎯 LOADING DVL DATA FOR COMPARISON: 2024-08-22_14-06-43\n",
      "============================================================\n",
      "🎯 LOADING ALL DISTANCE DATA FOR BAG: 2024-08-22_14-06-43\n",
      "============================================================\n",
      "📡 1. Loading Navigation Data...\n",
      "   ✅ Loaded 322 navigation records\n",
      "📡 2. Loading Guidance Data...\n",
      "   ✅ Loaded 317 guidance records with ['error_net_distance', 'desired_net_distance', 'r_net_distance_d']\n",
      "📡 3. Loading DVL Altimeter...\n",
      "   ✅ Loaded 17 DVL altimeter records\n",
      "📡 4. Loading USBL...\n",
      "   ✅ Loaded 17 USBL records\n",
      "📡 5. Loading DVL Position...\n",
      "   ✅ Loaded 154 DVL position records\n",
      "📡 6. Loading Navigation Position...\n",
      "   ✅ Loaded 156 navigation position records\n",
      "📡 7. Loading INS Z Position...\n",
      "   ✅ Loaded 366 INS records with positionFrame.z\n",
      "\n",
      "📊 LOADING SUMMARY:\n",
      "   🎯 Target bag: 2024-08-22_14-06-43\n",
      "   📁 Raw data loaded: 2/2\n",
      "   📏 Distance measurements: 6\n",
      "\n",
      "📊 RAW DATA LOADED:\n",
      "   ✅ navigation: 322 records\n",
      "   ✅ guidance: 317 records\n",
      "\n",
      "📏 DISTANCE MEASUREMENTS LOADED:\n",
      "   ✅ DVL_Altimeter: 17 records - Distance to seafloor\n",
      "   ✅ USBL_3D: 17 records - 3D acoustic position\n",
      "   ✅ USBL_Depth: 17 records - USBL depth measurement\n",
      "   ✅ DVL_Position: 154 records - 3D DVL position\n",
      "   ✅ Nav_Position: 156 records - 2D navigation position\n",
      "   ✅ INS_Z_Position: 366 records - INS positionFrame.z (vertical position)\n"
     ]
    }
   ],
   "source": [
    "# 🔄 COMPARISON: SONAR vs DVL DISTANCE MEASUREMENTS\n",
    "# =================================================\n",
    "import utils.net_distance_analysis as sda\n",
    "\n",
    "print(f\"🎯 LOADING DVL DATA FOR COMPARISON: {TARGET_BAG}\")\n",
    "print(\"=\" * 60)\n",
    "\n",
    "# Load all distance data for the target bag\n",
    "raw_data, distance_measurements = sda.load_all_distance_data_for_bag(TARGET_BAG, EXPORTS_FOLDER)\n",
    "\n",
    "# Display what we loaded\n",
    "print(f\"\\n📊 RAW DATA LOADED:\")\n",
    "for key, data in raw_data.items():\n",
    "    if data is not None:\n",
    "        print(f\"   ✅ {key}: {len(data)} records\")\n",
    "    else:\n",
    "        print(f\"   ❌ {key}: None\")\n",
    "\n",
    "print(f\"\\n📏 DISTANCE MEASUREMENTS LOADED:\")\n",
    "for key, info in distance_measurements.items():\n",
    "    data_len = len(info['data'])\n",
    "    print(f\"   ✅ {key}: {data_len} records - {info['description']}\")"
   ]
  },
  {
   "cell_type": "code",
   "execution_count": 9,
   "id": "0375375e",
   "metadata": {},
   "outputs": [
    {
     "name": "stdout",
     "output_type": "stream",
     "text": [
      "\n",
      "Comparison stats summary:\n",
      "{'dvl_mean_m': 0.7157763967880552,\n",
      " 'dvl_records': 322,\n",
      " 'sonar_frames': 591,\n",
      " 'sonar_mean_m': 0.7756405253105702,\n",
      " 'time_span_s': 34.801393271}\n"
     ]
    },
    {
     "data": {
      "application/vnd.plotly.v1+json": {
       "config": {
        "plotlyServerURL": "https://plot.ly"
       },
       "data": [
        {
         "hovertemplate": "Time: %{x:.1f}s<br>Distance: %{y:.3f}m<extra>Sonar Raw</extra>",
         "line": {
          "color": "rgba(255, 0, 0, 0.3)",
          "width": 1
         },
         "mode": "lines",
         "name": "Sonar Raw Distance",
         "type": "scatter",
         "x": {
          "bdata": "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",
          "dtype": "f8"
         },
         "xaxis": "x",
         "y": {
          "bdata": "TFDMq6N96z9JSMoSO13rP/8qADyFW+s/RLbfUPEe6z+raRFihU3rP32GaEtzUes/xOdVYxgE6z/hLtkfIb7qP2h9HWa9xuo/o0tjSVwy6j947O0xvTXqP1Bd+2syhuk/eTjJNEo96T8aqb1t8gTpP4/ckDPNwug/AV5ZdFiA6D9JzxMZQnTnPy6CzQ5ISec/HzocD01a5z/AHb4eI73mP03CfTQc0uY/z7lN2EuO5j9ubhffSfXlP+Z53dREYOU/jC6NpC0A5T/HeJS4XKvkP2DhSipazuM/NQr4XW6J4z8UEDDTZt7iP3bD3E6Ua+I/7UUpuXsX4j/2sbISAKvhP8K4rQquU+E/5YBY08WK4D/cmps8dXzgP0cLTrjBQuA/BT0EAdKv3z8Xzhs9BzbfP5vG7g1FXt4/AoMF3aaN3T8N5SC1R9zcP0M1zAnGCNw/lY/e3B+62j8NIA4Y4k/aP8d8AZJnS9k/Wpa2o7q/2D8OE4aU/EPYPyPxwkmgxdU/vBc88F+k2D+iICrZq8nXP2OQVrHabdg/XzYyxFHd1z9OPIQ2jEnYP80d2uVMLNg/bqHt42M32D/INuagfr7WP5AXRn/kYtU/Y8sLRiNd2D8vAroourjYPwu04WTx1tg/sgEcvjpq2T85xb+bo5fZP7QLqGb8+9k/qvxHdFYk2j86vEKgom7aP/VLNkOQ6No/rb8Lc9pb2z+DIC7WDMHbP2A1ZkrLvNw/RvmMBjFn3D9MQMYADzrcPwOtdHIJL94/EBBM2XRO3j9xZ+0zjUTeP4ChAeiV3t4/+PMqv24A3z+UXvrfXQvfPy/3VvLyr94/bEIiT8Dk3j/wivvOHTndP8Vr9hMwh94/gHqmcaxd3j+oyHk1O4TeP4f4cICEXt4/UIR+9ic83T+NGK+TYqbdP9IOznmyd94/pHEYrksy3j/xAAfLTUnePwtdhPsGnd4/Oo6BVhzI3T8HIynHHKLdP61pK4zV/N4/6vVNn9EL3z/dqY9ph+3eP10JgGzQdt8/bMN4VCTO3z+adPVdoEfgPxEvQyXCreA/Y4y8ze3e4D82ZMQnQTrhP0P/VFdxmOE/unJuTAzD4T8SI/5/ZQTiPxhGggvWXeI/OZAds39r4j9395Jbe8PiPy4AxMMLxOI/4FZsoSoP4z/e+K57RQPjP7thEdjAOOM/q8CovtM64z+cpIlQxB3jP/H1F898/OI/yplFj2IE4z8AUYQ6+6riP+CI/XmrheI/ZVWoRVKB4j/IGCzuLzfiP0xass8TR+I/yWJpqBpC4j+rbOh+51niP7TB5afWI+I/jBS8J+pw4j+MVLoHTJXiP7iFRsOuq+I/hJCz5bS94j/x5kwJc7riP9kSx6IerOI/Ppuopwyt4j/IHEAdBfPiP7nFdS0zJeM/52hOXGbd4j8pV2yMgAjjPxaqxUqUK+M/yUdpoR9J4z8QKBfZsTPjPxu2L2wfOuM/AlODgrhm4z/KbY9D8irjP6gBlyHpGeM/7sDzJ4k44z/TrslEeXTjPwRfSGYSTuM/iCaz688a4z/X/7x8WD7jPzJnD/atGOM/mrxiHzgk4z/QAOvjFg/jPwyiA6slEuM/uCr+ZkHF4j8s3qpi+OLiPzQrxwkCD+M/QizKWaYp4z/yGSnYNxLjP2BThEzE+OI/lvUIU2hw4z+/Y4LS7STjP1hgWQ6bJeM/PXPD64uI4z8evmNhqJ3jP0TvfBvQoeM/s3GfcaRk4z9iXtADnXTjPx3KKScp/OI/gV6iF2JI4z8+iJGTUTnjP7R+D19Y1+I/p7eV3CLj4j+XUlUpFpfiP74EAp97uOI/ldjJpHCN4j8Zf43ywY/iP6/vVF0BWuI/Q6T2iB904j+ZwUNPeV3iP0nSQx3iaOI/CqSoRPJr4j+nCnrYFjbiP6UZfFeQWuI/x0vQLaXz4T96Ja/+R2HiP9do0fM2QuI/hRCZx77+4T+ZF5VnTkPiP9F1rv5YLeI/YGxtGc6P4j/LIGys28jiP0ceO9zymeI/cHgCooq74j+fMT8JPLviP56NDF9dyOI/n8/leZnH4j+m6KWo5bbiP+y5abVd4OI/NqzDDjzq4j87PdNMedniP97XABCJ0+I/KU8f6aPy4j/OTYHDN3ziP2FtOMPPx+I/TdoTvlKf4j/RXz90Nc3iP3VNYVa45uI/SANmIvb04j/rP+E6GjvjP8XXCEBpX+M/OXdWy1jH4z8OCb0pt+7jP4st9wfxJeQ/XpvPYOdO5D+hF0Q7BFLkP/RFOysa1uQ/KzyHrJ0D5T/bXoe7PbnkP+MVN7vqDeU/ZKw2rQ0R5T/rVl2wvi3lP6TO7E0D3eQ/ThOy/M++5D8OKvJY/4fkP3k9LdIPfuQ/OF20QAs85D/OZ5an1ELkPy6R6eX3L+Q/6avHatPr4z+u5hUaVRzkP8fmzidP3uM/AVB/6hej4z+aF1pPBHPjP4dk9uEXgeM/f4a74+mp4z8Z8rs1+3/jPzwZiK34zuM/JMHl2AfV4z//uRMq37bjP/JunSAqseM/jheFwzxl4z9IhzVO9YLjP86czxWwO+M/MQZLCirr4j/xnMwDduriP93rrX9+EuM/FimBWQ7g4j/hFIk6d3XjPzyBWjoPR+M/wlKGv1lq4z8on9u8xcriP8mSrHOyA+I/+eCcMQ4G4z/wvnvp2hPjPwPjc7tbkOI/jZXCXyCZ4j/iTjmDI2viPz64vYGLBuI/WbZGghTn4T/QOEJD7e7hP3ZFB2MvWOE/Mt/2QOWS4T+LsMQ4X+LhP/fs8siA2OE/gpnJin2q4T+Waf5KyMjhP0+fVdtds+E/k2/co6fD4T8kMGFmp3LhP+szbYHlcOE/3QUuF21w4T+bhH7Ef1fhPxKIw+HgUOE/juPaCTXw4D/QZ6G9gkHhP+FPkBH9T+E/VzUwXYNJ4T+QiG8B5yfhP+IsT8jmE+E/cR+WSJso4T89wlzT1KrgPyI2/sbQy+A/ebGFAe3k4D+Bq0CSqSLhP6VU3UxC6OA/CkenKfnw4D/uNeJ3+vrgP+Dbpgq6puA/gzSeIUCL4D9206C7xafgP4QkImv7wuA/0UfFbsjI4D/KXOk2Z5vgPzyY+8monOA/LIEqQFet4D/15RUzIKPgP1yutPUQYuA/72wkZi6Q4D93xCzfbJLgP2iBP7AeOeA/xVugjHM+4D+H56JuM3zgP7zoYoxB7uA/INsBpQYK4T+lu0BWkKvgP5NtjRxmgOA/6pLN8xx+4D+8h1MhS8jgPx7dlR6rkeA/PYBYK2884D9hP70aOZjgP4BtAif42uA/Qzz63Nup4D90d5OrjPHgP3n1FmkOHeE/Xolgd38b4T8d2OumJDDhP9Z8CR2YKuE/rx+r8OHu4D9GPLnrHTHhP7BtnVl8ReE/OmjUrek44T+ArvNqzt3gPwbQyRj1GuE/2dGR/gE24T8wPQssFivhPwr0qgk3L+E/RYMBxvcu4T+US9xYhH/hP2EUwRagWeE/NCv0+tdC4T8OLqFi7HThP2FVBlngWuE/DXfbJldW4T/Zc/hHakPhP0/BbeBNVuE/xy+4rl6X4T+kLEGRKy/hP9oFESHIN+E/7pkHpgof4T8pJevx0hXhP6YIs3nI4+A/jDemNuSN4D+vYkDhkY3gP5O3qOfrreA/VgX6X77l4D/yG9zWbqngP73cO0UEqOA/+dmNxax74D/U566O643gP3aRF8a1g+A/mbSRaBfu4D8w8ELyJ2jgP57jpRFdiuA/CiLLxaeB4D/nScFQtsbgP5Ly1U9pL+E/vS5SHUW54D9kUTP2MC3hPxM4LTt/fOE/fjilqCo44T9ZCw9dVivhP7fYtJBFiuE/duSOqCPa4T8ecFnhqsvhP+Sj/I2C3eE/q2COdzTT4T/q5u3NeRjiP9gmsTxRaeI/NNS7pQdW4j+qztxqx4riP1ACebY29eI/sSDBF2Fn4j/NbbON6pviP7G6uQnvZOM/c3cojUrp4j9nyDLQu6DjP8q8yj5N3OM/lv30sR8r5D8DzOWVOgPkP6pmhsG9T+M/PvjtzGNj4z/SuKF+pPfjP4R0T2Q2FeQ/9yk4+gMQ5D++VTVcq8zkP2zUacmSSeU/h02iMAoH5T/4/DeG14HlPy5q3HkNe+U/VgiXLelE5T9x92vDCWHlP24oFr/rDOU/Ywv/f1TU5T+U/81IY+HlPyGmIi+juuU/fA4i1RTi5T937Xy1zTPmPx4aBrJLjOY//6bCqqCf5j+kyFf/Vp7mP/cR/UEEIuc/ECSJ8oOx5z8Zhixg80/oP2F4NeMVHeg/UsR+FPS46D+HCApluwjpPyqTMvtD4+g/67NV80tF6T+jVXySfjTpPxUfszKIzek/DLO94spQ6T9WARhQwW3pP3inL2rE3Ok/QQINAPSs6T8ckLs+RuXqP4zLrddehOs/TQQ+1gzd6z8S+vpoDS/sP81XnhwHlOw/Ge9HCA/m7D92Cuc1ffjsP1sybEkZ/+w/SWVHfws77T9fK+XhfLjtP6/QxxtkzO0/RSs+hPiv7T94/4/hEIDtP0N8IOEnBu4/N5+s5iRI7D8QIhhrA47uP76xhXJJpe4/Kp2uB/dQ7T8xoHlgF5ftP/oA7Q9H7u4/QDuFq3H87D+xjWTgEJHvP63mZl+MrO8/JgnQp4Ly7z8X+La4ByPwP542DspdGfA/efIYnd4k8D+GY7rkyTTwP1q9om+uPfA/g05rqTRo8D/GFMbJLFrwP4x7oja2SfA/kVrEEB1g8D85ktBm4LHwPy65IlvyuvA/IIyN9E6l8D9YXd7XXITwPzvKp68VzvA/B2WayYml8D8uyK1NOJ7wP1Rf1ukQ7fA/Fb1kgveg8D/h/8pYaIHxP6FaU9VRUvE/dSW6aLUu8T+qfIOAvyfxPxljkwZ89/A/orybSSwi8T+rFfJSes7xP5uZ4O8ZxvE/atGL3RVY8T9ebdShqH/xP5YBen1yC/E/hurfqYsg8T8F/+TyS0LxP+F4T8X3LPE/Jq548Foz8T9Eae4pgFbxP/rQUOt7bfE/EMmXJlst8T83V6lWSG3xP/TqSPbZffE/pd6WZb3e8T9hsTVUT53xP07yudAOcPE/pp6LnIjj8T/eMnKzKKrxP1hc0GR4v/E/tVeOnSj08T+gGxGM3Q3yP8M1UCPEUPI/VW/ctNM48j9qT8FnqTvyP98hZ5evTvI/mp0C+vxI8j8VROzv9nDyPzsR+Nf3PvI/BACJ2E1l8j9ZhCfFaH7yP55yw/vrdfI/ef3lupl/8j+CwOoLez7yPyMbP+Ur1vI/TMRnnKPu8j/OyBfskL/yP+7ieWySEfM/4xDXoxfa8j+XA5SozdnyP8sRczglJ/M/48bACQa/8z8QxZvrCAfzP9WGB/7+a/M/qR+t1pWC8z+iUtEO4qfzP/e/s9SSzPM//L0rcAMB9D+Kvuj20jH0P4EEAvGNl/M/qZPzwI7J9D9uTPk9f3/0P2E6OCCyJPU/hoEKU2Kr9T9f8a1MTtv1P9fZDLr0kfU/omZjJFTD9T/gXgdGCu31Py7NVAkv4fU/NjgIWEoy9j8HldUPVSP2P1Qs/Dr8t/U/F8UNVz/49T8NX79dM+71P5sbtw0f5/U/BkKWzikY9j/H2cJd55z2P6GpAZoZM/Y/NTbEGN5D9j/8v6GRmi32P5TqP2WH4vY/HkQdoFTa9j8Y2QxGH7v2P+/iZuc8lPc/Y+rW4c8A9z8bKukH86n2P367Vh8EGvc/GHnGVNBv9z9Y5heZE3b3P9z11lvR4fc/VaIeko2N9z9QhS2qxQn3P71yB01f/PY/XOCIkzsJ9z/ZDRsO5Ar3P+j9t36Sbfc/Nf16quAs9z9oZfUDXC/3P4R33FxrIvc/uV5+YVlu9z+D5kRjnyj3P4P95Aakdfc/o8G0NwVL9z+Y7vttK1D3Pz5nC0yWW/c/8FnEA4rC9z/UBfNRJc/3P98AhsPF2/c/Kd/aOp/39z/NPJwvIbv3P9mPQYdh/vc/lOznHP399z9IMCkSvwX4P32nSrwPA/g/CTozhGnj9z8szs1DLgT4P2HhuuEyx/c/+O7b65P+9z+ggQa7oHH4Pyv2pt72yfc/TVCGHPHl9z9whlSSCNn3P7XbuaMWYfc/uMdwl2ez9z+B3A2Rtqv3PyNPnZDw1Pc/UbRRjbi59z8DjQyGdtv3P0e6UmlRkvc/VjV7qlXP9z+MI/Ecgs33P/3mel37yfc/xW/smqLb9z9Rc1UM+Nz3P0GL90KuiPc/r0fRxXi89z+NYjuIgpv3P691+2cg8vc/BlPXKkKu9z8FUKr256P3P1DAKd4Dpfc/",
          "dtype": "f8"
         },
         "yaxis": "y"
        },
        {
         "hovertemplate": "Time: %{x:.1f}s<br>Distance: %{y:.3f}m<extra>Sonar Smoothed</extra>",
         "line": {
          "color": "rgba(255, 0, 0, 1)",
          "width": 3
         },
         "mode": "lines",
         "name": "Sonar Smoothed Distance",
         "type": "scatter",
         "x": {
          "bdata": "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",
          "dtype": "f8"
         },
         "xaxis": "x",
         "y": {
          "bdata": "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",
          "dtype": "f8"
         },
         "yaxis": "y"
        },
        {
         "hovertemplate": "Time: %{x:.1f}s<br>Distance: %{y:.3f}m<extra>DVL Distance</extra>",
         "line": {
          "color": "rgba(0, 0, 255, 1)",
          "width": 3
         },
         "mode": "lines",
         "name": "DVL Distance",
         "type": "scatter",
         "x": {
          "bdata": "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",
          "dtype": "f8"
         },
         "xaxis": "x",
         "y": {
          "bdata": "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",
          "dtype": "f8"
         },
         "yaxis": "y"
        }
       ],
       "layout": {
        "hovermode": "x unified",
        "template": {
         "data": {
          "bar": [
           {
            "error_x": {
             "color": "#2a3f5f"
            },
            "error_y": {
             "color": "#2a3f5f"
            },
            "marker": {
             "line": {
              "color": "#E5ECF6",
              "width": 0.5
             },
             "pattern": {
              "fillmode": "overlay",
              "size": 10,
              "solidity": 0.2
             }
            },
            "type": "bar"
           }
          ],
          "barpolar": [
           {
            "marker": {
             "line": {
              "color": "#E5ECF6",
              "width": 0.5
             },
             "pattern": {
              "fillmode": "overlay",
              "size": 10,
              "solidity": 0.2
             }
            },
            "type": "barpolar"
           }
          ],
          "carpet": [
           {
            "aaxis": {
             "endlinecolor": "#2a3f5f",
             "gridcolor": "white",
             "linecolor": "white",
             "minorgridcolor": "white",
             "startlinecolor": "#2a3f5f"
            },
            "baxis": {
             "endlinecolor": "#2a3f5f",
             "gridcolor": "white",
             "linecolor": "white",
             "minorgridcolor": "white",
             "startlinecolor": "#2a3f5f"
            },
            "type": "carpet"
           }
          ],
          "choropleth": [
           {
            "colorbar": {
             "outlinewidth": 0,
             "ticks": ""
            },
            "type": "choropleth"
           }
          ],
          "contour": [
           {
            "colorbar": {
             "outlinewidth": 0,
             "ticks": ""
            },
            "colorscale": [
             [
              0,
              "#0d0887"
             ],
             [
              0.1111111111111111,
              "#46039f"
             ],
             [
              0.2222222222222222,
              "#7201a8"
             ],
             [
              0.3333333333333333,
              "#9c179e"
             ],
             [
              0.4444444444444444,
              "#bd3786"
             ],
             [
              0.5555555555555556,
              "#d8576b"
             ],
             [
              0.6666666666666666,
              "#ed7953"
             ],
             [
              0.7777777777777778,
              "#fb9f3a"
             ],
             [
              0.8888888888888888,
              "#fdca26"
             ],
             [
              1,
              "#f0f921"
             ]
            ],
            "type": "contour"
           }
          ],
          "contourcarpet": [
           {
            "colorbar": {
             "outlinewidth": 0,
             "ticks": ""
            },
            "type": "contourcarpet"
           }
          ],
          "heatmap": [
           {
            "colorbar": {
             "outlinewidth": 0,
             "ticks": ""
            },
            "colorscale": [
             [
              0,
              "#0d0887"
             ],
             [
              0.1111111111111111,
              "#46039f"
             ],
             [
              0.2222222222222222,
              "#7201a8"
             ],
             [
              0.3333333333333333,
              "#9c179e"
             ],
             [
              0.4444444444444444,
              "#bd3786"
             ],
             [
              0.5555555555555556,
              "#d8576b"
             ],
             [
              0.6666666666666666,
              "#ed7953"
             ],
             [
              0.7777777777777778,
              "#fb9f3a"
             ],
             [
              0.8888888888888888,
              "#fdca26"
             ],
             [
              1,
              "#f0f921"
             ]
            ],
            "type": "heatmap"
           }
          ],
          "histogram": [
           {
            "marker": {
             "pattern": {
              "fillmode": "overlay",
              "size": 10,
              "solidity": 0.2
             }
            },
            "type": "histogram"
           }
          ],
          "histogram2d": [
           {
            "colorbar": {
             "outlinewidth": 0,
             "ticks": ""
            },
            "colorscale": [
             [
              0,
              "#0d0887"
             ],
             [
              0.1111111111111111,
              "#46039f"
             ],
             [
              0.2222222222222222,
              "#7201a8"
             ],
             [
              0.3333333333333333,
              "#9c179e"
             ],
             [
              0.4444444444444444,
              "#bd3786"
             ],
             [
              0.5555555555555556,
              "#d8576b"
             ],
             [
              0.6666666666666666,
              "#ed7953"
             ],
             [
              0.7777777777777778,
              "#fb9f3a"
             ],
             [
              0.8888888888888888,
              "#fdca26"
             ],
             [
              1,
              "#f0f921"
             ]
            ],
            "type": "histogram2d"
           }
          ],
          "histogram2dcontour": [
           {
            "colorbar": {
             "outlinewidth": 0,
             "ticks": ""
            },
            "colorscale": [
             [
              0,
              "#0d0887"
             ],
             [
              0.1111111111111111,
              "#46039f"
             ],
             [
              0.2222222222222222,
              "#7201a8"
             ],
             [
              0.3333333333333333,
              "#9c179e"
             ],
             [
              0.4444444444444444,
              "#bd3786"
             ],
             [
              0.5555555555555556,
              "#d8576b"
             ],
             [
              0.6666666666666666,
              "#ed7953"
             ],
             [
              0.7777777777777778,
              "#fb9f3a"
             ],
             [
              0.8888888888888888,
              "#fdca26"
             ],
             [
              1,
              "#f0f921"
             ]
            ],
            "type": "histogram2dcontour"
           }
          ],
          "mesh3d": [
           {
            "colorbar": {
             "outlinewidth": 0,
             "ticks": ""
            },
            "type": "mesh3d"
           }
          ],
          "parcoords": [
           {
            "line": {
             "colorbar": {
              "outlinewidth": 0,
              "ticks": ""
             }
            },
            "type": "parcoords"
           }
          ],
          "pie": [
           {
            "automargin": true,
            "type": "pie"
           }
          ],
          "scatter": [
           {
            "fillpattern": {
             "fillmode": "overlay",
             "size": 10,
             "solidity": 0.2
            },
            "type": "scatter"
           }
          ],
          "scatter3d": [
           {
            "line": {
             "colorbar": {
              "outlinewidth": 0,
              "ticks": ""
             }
            },
            "marker": {
             "colorbar": {
              "outlinewidth": 0,
              "ticks": ""
             }
            },
            "type": "scatter3d"
           }
          ],
          "scattercarpet": [
           {
            "marker": {
             "colorbar": {
              "outlinewidth": 0,
              "ticks": ""
             }
            },
            "type": "scattercarpet"
           }
          ],
          "scattergeo": [
           {
            "marker": {
             "colorbar": {
              "outlinewidth": 0,
              "ticks": ""
             }
            },
            "type": "scattergeo"
           }
          ],
          "scattergl": [
           {
            "marker": {
             "colorbar": {
              "outlinewidth": 0,
              "ticks": ""
             }
            },
            "type": "scattergl"
           }
          ],
          "scattermap": [
           {
            "marker": {
             "colorbar": {
              "outlinewidth": 0,
              "ticks": ""
             }
            },
            "type": "scattermap"
           }
          ],
          "scattermapbox": [
           {
            "marker": {
             "colorbar": {
              "outlinewidth": 0,
              "ticks": ""
             }
            },
            "type": "scattermapbox"
           }
          ],
          "scatterpolar": [
           {
            "marker": {
             "colorbar": {
              "outlinewidth": 0,
              "ticks": ""
             }
            },
            "type": "scatterpolar"
           }
          ],
          "scatterpolargl": [
           {
            "marker": {
             "colorbar": {
              "outlinewidth": 0,
              "ticks": ""
             }
            },
            "type": "scatterpolargl"
           }
          ],
          "scatterternary": [
           {
            "marker": {
             "colorbar": {
              "outlinewidth": 0,
              "ticks": ""
             }
            },
            "type": "scatterternary"
           }
          ],
          "surface": [
           {
            "colorbar": {
             "outlinewidth": 0,
             "ticks": ""
            },
            "colorscale": [
             [
              0,
              "#0d0887"
             ],
             [
              0.1111111111111111,
              "#46039f"
             ],
             [
              0.2222222222222222,
              "#7201a8"
             ],
             [
              0.3333333333333333,
              "#9c179e"
             ],
             [
              0.4444444444444444,
              "#bd3786"
             ],
             [
              0.5555555555555556,
              "#d8576b"
             ],
             [
              0.6666666666666666,
              "#ed7953"
             ],
             [
              0.7777777777777778,
              "#fb9f3a"
             ],
             [
              0.8888888888888888,
              "#fdca26"
             ],
             [
              1,
              "#f0f921"
             ]
            ],
            "type": "surface"
           }
          ],
          "table": [
           {
            "cells": {
             "fill": {
              "color": "#EBF0F8"
             },
             "line": {
              "color": "white"
             }
            },
            "header": {
             "fill": {
              "color": "#C8D4E3"
             },
             "line": {
              "color": "white"
             }
            },
            "type": "table"
           }
          ]
         },
         "layout": {
          "annotationdefaults": {
           "arrowcolor": "#2a3f5f",
           "arrowhead": 0,
           "arrowwidth": 1
          },
          "autotypenumbers": "strict",
          "coloraxis": {
           "colorbar": {
            "outlinewidth": 0,
            "ticks": ""
           }
          },
          "colorscale": {
           "diverging": [
            [
             0,
             "#8e0152"
            ],
            [
             0.1,
             "#c51b7d"
            ],
            [
             0.2,
             "#de77ae"
            ],
            [
             0.3,
             "#f1b6da"
            ],
            [
             0.4,
             "#fde0ef"
            ],
            [
             0.5,
             "#f7f7f7"
            ],
            [
             0.6,
             "#e6f5d0"
            ],
            [
             0.7,
             "#b8e186"
            ],
            [
             0.8,
             "#7fbc41"
            ],
            [
             0.9,
             "#4d9221"
            ],
            [
             1,
             "#276419"
            ]
           ],
           "sequential": [
            [
             0,
             "#0d0887"
            ],
            [
             0.1111111111111111,
             "#46039f"
            ],
            [
             0.2222222222222222,
             "#7201a8"
            ],
            [
             0.3333333333333333,
             "#9c179e"
            ],
            [
             0.4444444444444444,
             "#bd3786"
            ],
            [
             0.5555555555555556,
             "#d8576b"
            ],
            [
             0.6666666666666666,
             "#ed7953"
            ],
            [
             0.7777777777777778,
             "#fb9f3a"
            ],
            [
             0.8888888888888888,
             "#fdca26"
            ],
            [
             1,
             "#f0f921"
            ]
           ],
           "sequentialminus": [
            [
             0,
             "#0d0887"
            ],
            [
             0.1111111111111111,
             "#46039f"
            ],
            [
             0.2222222222222222,
             "#7201a8"
            ],
            [
             0.3333333333333333,
             "#9c179e"
            ],
            [
             0.4444444444444444,
             "#bd3786"
            ],
            [
             0.5555555555555556,
             "#d8576b"
            ],
            [
             0.6666666666666666,
             "#ed7953"
            ],
            [
             0.7777777777777778,
             "#fb9f3a"
            ],
            [
             0.8888888888888888,
             "#fdca26"
            ],
            [
             1,
             "#f0f921"
            ]
           ]
          },
          "colorway": [
           "#636efa",
           "#EF553B",
           "#00cc96",
           "#ab63fa",
           "#FFA15A",
           "#19d3f3",
           "#FF6692",
           "#B6E880",
           "#FF97FF",
           "#FECB52"
          ],
          "font": {
           "color": "#2a3f5f"
          },
          "geo": {
           "bgcolor": "white",
           "lakecolor": "white",
           "landcolor": "#E5ECF6",
           "showlakes": true,
           "showland": true,
           "subunitcolor": "white"
          },
          "hoverlabel": {
           "align": "left"
          },
          "hovermode": "closest",
          "mapbox": {
           "style": "light"
          },
          "paper_bgcolor": "white",
          "plot_bgcolor": "#E5ECF6",
          "polar": {
           "angularaxis": {
            "gridcolor": "white",
            "linecolor": "white",
            "ticks": ""
           },
           "bgcolor": "#E5ECF6",
           "radialaxis": {
            "gridcolor": "white",
            "linecolor": "white",
            "ticks": ""
           }
          },
          "scene": {
           "xaxis": {
            "backgroundcolor": "#E5ECF6",
            "gridcolor": "white",
            "gridwidth": 2,
            "linecolor": "white",
            "showbackground": true,
            "ticks": "",
            "zerolinecolor": "white"
           },
           "yaxis": {
            "backgroundcolor": "#E5ECF6",
            "gridcolor": "white",
            "gridwidth": 2,
            "linecolor": "white",
            "showbackground": true,
            "ticks": "",
            "zerolinecolor": "white"
           },
           "zaxis": {
            "backgroundcolor": "#E5ECF6",
            "gridcolor": "white",
            "gridwidth": 2,
            "linecolor": "white",
            "showbackground": true,
            "ticks": "",
            "zerolinecolor": "white"
           }
          },
          "shapedefaults": {
           "line": {
            "color": "#2a3f5f"
           }
          },
          "ternary": {
           "aaxis": {
            "gridcolor": "white",
            "linecolor": "white",
            "ticks": ""
           },
           "baxis": {
            "gridcolor": "white",
            "linecolor": "white",
            "ticks": ""
           },
           "bgcolor": "#E5ECF6",
           "caxis": {
            "gridcolor": "white",
            "linecolor": "white",
            "ticks": ""
           }
          },
          "title": {
           "x": 0.05
          },
          "xaxis": {
           "automargin": true,
           "gridcolor": "white",
           "linecolor": "white",
           "ticks": "",
           "title": {
            "standoff": 15
           },
           "zerolinecolor": "white",
           "zerolinewidth": 2
          },
          "yaxis": {
           "automargin": true,
           "gridcolor": "white",
           "linecolor": "white",
           "ticks": "",
           "title": {
            "standoff": 15
           },
           "zerolinecolor": "white",
           "zerolinewidth": 2
          }
         }
        },
        "title": {
         "text": "🔄 Interactive Distance Comparison: Sonar vs DVL"
        },
        "xaxis": {
         "anchor": "y",
         "domain": [
          0,
          1
         ],
         "gridcolor": "LightGray",
         "gridwidth": 1,
         "showgrid": true,
         "title": {
          "text": "Time (seconds)"
         }
        },
        "yaxis": {
         "anchor": "x",
         "domain": [
          0,
          1
         ],
         "gridcolor": "LightGray",
         "gridwidth": 1,
         "showgrid": true,
         "title": {
          "text": "Distance (meters)"
         }
        }
       }
      }
     },
     "metadata": {},
     "output_type": "display_data"
    }
   ],
   "source": [
    "try:\n",
    "    fig, comparison_stats = iau.interactive_distance_comparison(distance_results, raw_data, sonar_coverage_m=sonar_coverage_meters, sonar_image_size=image_shape[0])\n",
    "    if comparison_stats and isinstance(comparison_stats, dict) and 'error' in comparison_stats:\n",
    "        print('Comparison did not run:', comparison_stats['error'])\n",
    "    else:\n",
    "        print('\\nComparison stats summary:')\n",
    "        from pprint import pprint\n",
    "        pprint(comparison_stats)\n",
    "        # Display the interactive plot\n",
    "        fig.show()\n",
    "except Exception as e:\n",
    "    print('Error running interactive comparison:', e)"
   ]
  },
  {
   "cell_type": "code",
   "execution_count": null,
   "id": "50f97352",
   "metadata": {},
   "outputs": [
    {
     "name": "stdout",
     "output_type": "stream",
     "text": [
      "🎬 GENERATING VIDEO WITH DUAL NET DISTANCE OVERLAYS\n",
      "============================================================\n",
      "🎯 Target Bag: 2024-08-22_14-06-43\n",
      "📊 DVL Data: 322 records\n",
      "📏 Sonar Analysis: 591 frames\n",
      "🎥 Camera: disabled\n",
      "🛠️ OPTIMIZED SONAR VIDEO\n",
      "======================================================================\n",
      "🎯 Target Bag: 2024-08-22_14-06-43\n",
      "   Cone Size: 900x700\n",
      "   Range: 0.0-5.0m | FOV: 120.0°\n",
      "   🎥 Camera: disabled\n",
      "   🕸  Net-line: enabled (dist tol=0.5s, pitch tol=2.0s)\n",
      "   📊 Sonar Analysis: enabled\n",
      "   Loading sonar data: sensor_sonoptix_echo_image__2024-08-22_14-06-43_video.csv\n",
      "   ✅ Loaded 592 sonar frames in 5.32s\n",
      "   ✅ Loaded 322 navigation records in 0.00s\n",
      "      Available: ['NetDistance', 'NetPitch', 'timestamp']\n",
      "   Frames: 1..591 (step 1) => 591\n",
      "   Natural FPS: 15.9\n",
      "   ✅ Loaded 592 sonar frames in 5.32s\n",
      "   ✅ Loaded 322 navigation records in 0.00s\n",
      "      Available: ['NetDistance', 'NetPitch', 'timestamp']\n",
      "   Frames: 1..591 (step 1) => 591\n",
      "   Natural FPS: 15.9\n"
     ]
    }
   ],
   "source": [
    "# 🎥 Generate Video with Both DVL and Sonar Analysis Overlays\n",
    "# ========================================================\n",
    "import utils.sonar_and_foto_generation as sg\n",
    "\n",
    "# Set up paths\n",
    "VIDEO_SEQ_DIR = None  # Set to path if you want camera footage included\n",
    "\n",
    "print(\"🎬 GENERATING VIDEO WITH DUAL NET DISTANCE OVERLAYS\")\n",
    "print(\"=\" * 60)\n",
    "print(f\"🎯 Target Bag: {TARGET_BAG}\")\n",
    "print(f\"📊 DVL Data: {len(raw_data.get('navigation', []))} records\")\n",
    "print(f\"📏 Sonar Analysis: {len(distance_results)} frames\")\n",
    "print(f\"🎥 Camera: {'enabled' if VIDEO_SEQ_DIR else 'disabled'}\")\n",
    "\n",
    "# Generate the video with both overlays\n",
    "try:\n",
    "    video_path = sg.export_optimized_sonar_video(\n",
    "        TARGET_BAG=TARGET_BAG,\n",
    "        EXPORTS_FOLDER=EXPORTS_FOLDER,\n",
    "        START_IDX=1,\n",
    "        END_IDX=1000,  # Adjust as needed\n",
    "        STRIDE=1,\n",
    "        VIDEO_SEQ_DIR=VIDEO_SEQ_DIR,\n",
    "        INCLUDE_NET=True,  # Enable DVL net distance overlay\n",
    "        SONAR_DISTANCE_RESULTS=distance_results,  # Enable sonar analysis overlay\n",
    "        NET_DISTANCE_TOLERANCE=0.5,\n",
    "        NET_PITCH_TOLERANCE=2.0,  # Increased from 0.3 to 2.0 seconds for better pitch sync\n",
    "    )\n",
    "    print(f\"\\n✅ Video generated successfully!\")\n",
    "    print(f\"📁 Output: {video_path}\")\n",
    "except Exception as e:\n",
    "    print(f\"❌ Error generating video: {e}\")"
   ]
  }
 ],
 "metadata": {
  "kernelspec": {
   "display_name": "venv",
   "language": "python",
   "name": "python3"
  },
  "language_info": {
   "codemirror_mode": {
    "name": "ipython",
    "version": 3
   },
   "file_extension": ".py",
   "mimetype": "text/x-python",
   "name": "python",
   "nbconvert_exporter": "python",
   "pygments_lexer": "ipython3",
   "version": "3.13.5"
  }
 },
 "nbformat": 4,
 "nbformat_minor": 5
}
