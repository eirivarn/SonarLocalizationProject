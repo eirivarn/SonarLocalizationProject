{
 "cells": [
  {
   "cell_type": "code",
   "execution_count": 1,
   "id": "7a8d02c0",
   "metadata": {},
   "outputs": [],
   "source": [
    "# Centralized sonar defaults (inserted by sweep)\n",
    "from utils.sonar_config import SONAR_VIS_DEFAULTS\n",
    "sonar_config = SONAR_VIS_DEFAULTS.copy()\n",
    "# Backwards-compatible variable names used in older notebooks\n",
    "RANGE_MIN_M = sonar_config['range_min_m']\n",
    "RANGE_MAX_M = sonar_config['range_max_m']\n",
    "DISPLAY_RANGE_MAX_M = sonar_config['display_range_max_m']"
   ]
  },
  {
   "cell_type": "markdown",
   "id": "9220eb1d",
   "metadata": {},
   "source": [
    "# Simple Image Analysis with CV2\n",
    "\n",
    "This notebook demonstrates:\n",
    "1. **Pick a frame** from NPZ files and save it locally\n",
    "2. **Use standard cv2 functions** directly for image processing\n",
    "3. **Experiment** with different OpenCV operations"
   ]
  },
  {
   "cell_type": "code",
   "execution_count": 2,
   "id": "4b3e8f46",
   "metadata": {},
   "outputs": [
    {
     "name": "stdout",
     "output_type": "stream",
     "text": [
      "Using DATA_DIR = /Volumes/LaCie/SOLAQUA/raw_data\n",
      "Selected NPZ file: 2024-08-20_14-16-05_data_cones.npz (index=5)\n"
     ]
    }
   ],
   "source": [
    "from pathlib import Path\n",
    "import utils.sonar_image_analysis as iau\n",
    "\n",
    "\n",
    "# Prefer selecting by bag ID (part of the NPZ filename) instead of a numeric index.\n",
    "# Set TARGET_BAG to a substring that appears in the NPZ filename (e.g. '2024-08-22_14-29-05')\n",
    "# '2024-08-22_14-47-39'\n",
    "# '2024-08-22_14-29-05'\n",
    "# '2024-08-20_14-31-29' HARD\n",
    "TARGET_BAG = '2024-08-20_14-16-05'  # change this to your desired bag ID\n",
    "from utils.sonar_config import EXPORTS_DIR_DEFAULT, EXPORTS_SUBDIRS\n",
    "EXPORTS_FOLDER = Path(EXPORTS_DIR_DEFAULT)\n",
    "\n",
    "# If you keep your raw .bag files or raw data on an external drive, point DATA_DIR there.\n",
    "# Example (your external disk): /Volumes/LaCie/SOLAQUA/raw_data\n",
    "DATA_DIR = Path(\"/Volumes/LaCie/SOLAQUA/raw_data\")\n",
    "print(f\"Using DATA_DIR = {DATA_DIR}\")\n",
    "\n",
    "# Find NPZ files and pick the one matching TARGET_BAG\n",
    "files = iau.get_available_npz_files()\n",
    "if not files:\n",
    "    raise FileNotFoundError(f\"No NPZ files found in configured exports outputs (looked under {EXPORTS_FOLDER / EXPORTS_SUBDIRS.get('outputs','outputs')})\")\n",
    "matches = [p for p in files if TARGET_BAG in p.name]\n",
    "if not matches:\n",
    "    # Help the user by listing available NPZ files\n",
    "    print(f'No NPZ file matched TARGET_BAG={TARGET_BAG!r}')\n",
    "    print('Available NPZ files:')\n",
    "    for i,p in enumerate(files):\n",
    "        print(f'  {i}: {p.name}')\n",
    "    raise ValueError(f'No NPZ file contains \"{TARGET_BAG}\" in its name')\n",
    "\n",
    "# If multiple matches, choose the most recently modified one\n",
    "selected = max(matches, key=lambda p: p.stat().st_mtime)\n",
    "NPZ_FILE_INDEX = files.index(selected)\n",
    "print(f'Selected NPZ file: {selected.name} (index={NPZ_FILE_INDEX})')"
   ]
  },
  {
   "cell_type": "markdown",
   "id": "0c65358c",
   "metadata": {},
   "source": [
    "## Distance Analysis Over Time\n",
    "\n",
    "Now let's perform a comprehensive analysis of the red line distance over time. The red line represents the major axis of the detected elongated contour (likely a fishing net), and we'll track how this distance changes throughout the video sequence."
   ]
  },
  {
   "cell_type": "code",
   "execution_count": 3,
   "id": "d9c0382e",
   "metadata": {},
   "outputs": [
    {
     "name": "stdout",
     "output_type": "stream",
     "text": [
      "=== DISTANCE ANALYSIS FROM NPZ ===\n",
      "Analyzing: /Volumes/LaCie/SOLAQUA/exports/outputs/2024-08-20_14-16-05_data_cones.npz\n",
      "Processing 814 frames from 1 (step=1)\n",
      "Processing 814 frames from 1 (step=1)\n",
      "  Processed 50/814 frames (Success rate: 100.0%)\n",
      "  Processed 50/814 frames (Success rate: 100.0%)\n",
      "  Processed 100/814 frames (Success rate: 100.0%)\n",
      "  Processed 100/814 frames (Success rate: 100.0%)\n",
      "  Processed 150/814 frames (Success rate: 100.0%)\n",
      "  Processed 150/814 frames (Success rate: 100.0%)\n",
      "  Processed 200/814 frames (Success rate: 100.0%)\n",
      "  Processed 200/814 frames (Success rate: 100.0%)\n",
      "  Processed 250/814 frames (Success rate: 100.0%)\n",
      "  Processed 250/814 frames (Success rate: 100.0%)\n",
      "  Processed 300/814 frames (Success rate: 100.0%)\n",
      "  Processed 300/814 frames (Success rate: 100.0%)\n",
      "  Processed 350/814 frames (Success rate: 100.0%)\n",
      "  Processed 350/814 frames (Success rate: 100.0%)\n",
      "  Processed 400/814 frames (Success rate: 100.0%)\n",
      "  Processed 400/814 frames (Success rate: 100.0%)\n",
      "  Processed 450/814 frames (Success rate: 100.0%)\n",
      "  Processed 450/814 frames (Success rate: 100.0%)\n",
      "  Processed 500/814 frames (Success rate: 100.0%)\n",
      "  Processed 500/814 frames (Success rate: 100.0%)\n",
      "  Processed 550/814 frames (Success rate: 100.0%)\n",
      "  Processed 550/814 frames (Success rate: 100.0%)\n",
      "  Processed 600/814 frames (Success rate: 100.0%)\n",
      "  Processed 600/814 frames (Success rate: 100.0%)\n",
      "  Processed 650/814 frames (Success rate: 100.0%)\n",
      "  Processed 650/814 frames (Success rate: 100.0%)\n",
      "  Processed 700/814 frames (Success rate: 100.0%)\n",
      "  Processed 700/814 frames (Success rate: 100.0%)\n",
      "  Processed 750/814 frames (Success rate: 100.0%)\n",
      "  Processed 750/814 frames (Success rate: 100.0%)\n",
      "  Processed 800/814 frames (Success rate: 100.0%)\n",
      "\n",
      "=== ANALYSIS COMPLETE ===\n",
      "Total frames processed: 814\n",
      "Successful detections: 814 (100.0%)\n",
      "Distance statistics (meters):\n",
      "  - Mean: 1.400\n",
      "  - Std:  0.102\n",
      "  - Min:  1.050\n",
      "  - Max:  1.653\n",
      "  - Range: 0.603\n",
      "✅ Analyzed 814 frames using elliptical AOI\n",
      "🎯 Detection success rate: 100.0%\n",
      "📊 Elliptical tracking active: 0 frames\n",
      "  Processed 800/814 frames (Success rate: 100.0%)\n",
      "\n",
      "=== ANALYSIS COMPLETE ===\n",
      "Total frames processed: 814\n",
      "Successful detections: 814 (100.0%)\n",
      "Distance statistics (meters):\n",
      "  - Mean: 1.400\n",
      "  - Std:  0.102\n",
      "  - Min:  1.050\n",
      "  - Max:  1.653\n",
      "  - Range: 0.603\n",
      "✅ Analyzed 814 frames using elliptical AOI\n",
      "🎯 Detection success rate: 100.0%\n",
      "📊 Elliptical tracking active: 0 frames\n"
     ]
    }
   ],
   "source": [
    "# Now using the NEW unified SonarDataProcessor with elliptical AOI support!\n",
    "# This gives us much better net tracking compared to the old rectangular AOI\n",
    "\n",
    "# First reload the module to get the latest elliptical AOI changes\n",
    "import importlib\n",
    "importlib.reload(iau)\n",
    "\n",
    "# Create the unified processor\n",
    "processor = iau.SonarDataProcessor()\n",
    "\n",
    "# Use the new Distance Analysis Engine with elliptical AOI\n",
    "engine = iau.DistanceAnalysisEngine()\n",
    "distance_results = engine.analyze_npz_sequence(\n",
    "    npz_file_index=NPZ_FILE_INDEX,    \n",
    "    frame_start=1,        # Start from frame 1\n",
    "    frame_count=1000,      # Analyze all frames from the video\n",
    "    frame_step=1          # Every frame\n",
    ")\n",
    "\n",
    "print(f\"✅ Analyzed {len(distance_results)} frames using elliptical AOI\")\n",
    "print(f\"🎯 Detection success rate: {distance_results['detection_success'].mean():.1%}\")\n",
    "print(f\"📊 Elliptical tracking active: {(distance_results['tracking_status'].str.contains('ELLIPSE')).sum()} frames\")"
   ]
  },
  {
   "cell_type": "code",
   "execution_count": 4,
   "id": "b9c5da85",
   "metadata": {},
   "outputs": [
    {
     "name": "stdout",
     "output_type": "stream",
     "text": [
      "=== ENHANCED ELLIPTICAL AOI VIDEO CREATION ===\n",
      "Creating video with elliptical AOI tracking...\n",
      "Frames: 1000, step: 1\n",
      "✅ Processing 814 frames with elliptical AOI...\n",
      "✅ Processing 814 frames with elliptical AOI...\n",
      "Processed 10/814 frames | Ellipse tracking: 0\n",
      "Processed 10/814 frames | Ellipse tracking: 0\n",
      "Processed 20/814 frames | Ellipse tracking: 0\n",
      "Processed 20/814 frames | Ellipse tracking: 0\n",
      "Processed 30/814 frames | Ellipse tracking: 0\n",
      "Processed 30/814 frames | Ellipse tracking: 0\n",
      "Processed 40/814 frames | Ellipse tracking: 0\n",
      "Processed 40/814 frames | Ellipse tracking: 0\n",
      "Processed 50/814 frames | Ellipse tracking: 0\n",
      "Processed 50/814 frames | Ellipse tracking: 0\n",
      "Processed 60/814 frames | Ellipse tracking: 0\n",
      "Processed 60/814 frames | Ellipse tracking: 0\n",
      "Processed 70/814 frames | Ellipse tracking: 0\n",
      "Processed 70/814 frames | Ellipse tracking: 0\n",
      "Processed 80/814 frames | Ellipse tracking: 0\n",
      "Processed 80/814 frames | Ellipse tracking: 0\n",
      "Processed 90/814 frames | Ellipse tracking: 0\n",
      "Processed 90/814 frames | Ellipse tracking: 0\n",
      "Processed 100/814 frames | Ellipse tracking: 0\n",
      "Processed 100/814 frames | Ellipse tracking: 0\n",
      "Processed 110/814 frames | Ellipse tracking: 0\n",
      "Processed 110/814 frames | Ellipse tracking: 0\n",
      "Processed 120/814 frames | Ellipse tracking: 0\n",
      "Processed 120/814 frames | Ellipse tracking: 0\n",
      "Processed 130/814 frames | Ellipse tracking: 0\n",
      "Processed 130/814 frames | Ellipse tracking: 0\n",
      "Processed 140/814 frames | Ellipse tracking: 0\n",
      "Processed 140/814 frames | Ellipse tracking: 0\n",
      "Processed 150/814 frames | Ellipse tracking: 0\n",
      "Processed 150/814 frames | Ellipse tracking: 0\n",
      "Processed 160/814 frames | Ellipse tracking: 0\n",
      "Processed 160/814 frames | Ellipse tracking: 0\n",
      "Processed 170/814 frames | Ellipse tracking: 0\n",
      "Processed 170/814 frames | Ellipse tracking: 0\n",
      "Processed 180/814 frames | Ellipse tracking: 0\n",
      "Processed 180/814 frames | Ellipse tracking: 0\n",
      "Processed 190/814 frames | Ellipse tracking: 0\n",
      "Processed 190/814 frames | Ellipse tracking: 0\n",
      "Processed 200/814 frames | Ellipse tracking: 0\n",
      "Processed 200/814 frames | Ellipse tracking: 0\n",
      "Processed 210/814 frames | Ellipse tracking: 0\n",
      "Processed 210/814 frames | Ellipse tracking: 0\n",
      "Processed 220/814 frames | Ellipse tracking: 0\n",
      "Processed 220/814 frames | Ellipse tracking: 0\n",
      "Processed 230/814 frames | Ellipse tracking: 0\n",
      "Processed 230/814 frames | Ellipse tracking: 0\n",
      "Processed 240/814 frames | Ellipse tracking: 0\n",
      "Processed 240/814 frames | Ellipse tracking: 0\n",
      "Processed 250/814 frames | Ellipse tracking: 0\n",
      "Processed 250/814 frames | Ellipse tracking: 0\n",
      "Processed 260/814 frames | Ellipse tracking: 0\n",
      "Processed 260/814 frames | Ellipse tracking: 0\n",
      "Processed 270/814 frames | Ellipse tracking: 0\n",
      "Processed 270/814 frames | Ellipse tracking: 0\n",
      "Processed 280/814 frames | Ellipse tracking: 0\n",
      "Processed 280/814 frames | Ellipse tracking: 0\n",
      "Processed 290/814 frames | Ellipse tracking: 0\n",
      "Processed 290/814 frames | Ellipse tracking: 0\n",
      "Processed 300/814 frames | Ellipse tracking: 0\n",
      "Processed 300/814 frames | Ellipse tracking: 0\n",
      "Processed 310/814 frames | Ellipse tracking: 0\n",
      "Processed 310/814 frames | Ellipse tracking: 0\n",
      "Processed 320/814 frames | Ellipse tracking: 0\n",
      "Processed 320/814 frames | Ellipse tracking: 0\n",
      "Processed 330/814 frames | Ellipse tracking: 0\n",
      "Processed 330/814 frames | Ellipse tracking: 0\n",
      "Processed 340/814 frames | Ellipse tracking: 0\n",
      "Processed 340/814 frames | Ellipse tracking: 0\n",
      "Processed 350/814 frames | Ellipse tracking: 0\n",
      "Processed 350/814 frames | Ellipse tracking: 0\n",
      "Processed 360/814 frames | Ellipse tracking: 0\n",
      "Processed 360/814 frames | Ellipse tracking: 0\n",
      "Processed 370/814 frames | Ellipse tracking: 0\n",
      "Processed 370/814 frames | Ellipse tracking: 0\n",
      "Processed 380/814 frames | Ellipse tracking: 0\n",
      "Processed 380/814 frames | Ellipse tracking: 0\n",
      "Processed 390/814 frames | Ellipse tracking: 0\n",
      "Processed 390/814 frames | Ellipse tracking: 0\n",
      "Processed 400/814 frames | Ellipse tracking: 0\n",
      "Processed 400/814 frames | Ellipse tracking: 0\n",
      "Processed 410/814 frames | Ellipse tracking: 0\n",
      "Processed 410/814 frames | Ellipse tracking: 0\n",
      "Processed 420/814 frames | Ellipse tracking: 0\n",
      "Processed 420/814 frames | Ellipse tracking: 0\n",
      "Processed 430/814 frames | Ellipse tracking: 0\n",
      "Processed 430/814 frames | Ellipse tracking: 0\n",
      "Processed 440/814 frames | Ellipse tracking: 0\n",
      "Processed 440/814 frames | Ellipse tracking: 0\n",
      "Processed 450/814 frames | Ellipse tracking: 0\n",
      "Processed 450/814 frames | Ellipse tracking: 0\n",
      "Processed 460/814 frames | Ellipse tracking: 0\n",
      "Processed 460/814 frames | Ellipse tracking: 0\n",
      "Processed 470/814 frames | Ellipse tracking: 0\n",
      "Processed 470/814 frames | Ellipse tracking: 0\n",
      "Processed 480/814 frames | Ellipse tracking: 0\n",
      "Processed 480/814 frames | Ellipse tracking: 0\n",
      "Processed 490/814 frames | Ellipse tracking: 0\n",
      "Processed 490/814 frames | Ellipse tracking: 0\n",
      "Processed 500/814 frames | Ellipse tracking: 0\n",
      "Processed 500/814 frames | Ellipse tracking: 0\n",
      "Processed 510/814 frames | Ellipse tracking: 0\n",
      "Processed 510/814 frames | Ellipse tracking: 0\n",
      "Processed 520/814 frames | Ellipse tracking: 0\n",
      "Processed 520/814 frames | Ellipse tracking: 0\n",
      "Processed 530/814 frames | Ellipse tracking: 0\n",
      "Processed 530/814 frames | Ellipse tracking: 0\n",
      "Processed 540/814 frames | Ellipse tracking: 0\n",
      "Processed 540/814 frames | Ellipse tracking: 0\n",
      "Processed 550/814 frames | Ellipse tracking: 0\n",
      "Processed 550/814 frames | Ellipse tracking: 0\n",
      "Processed 560/814 frames | Ellipse tracking: 0\n",
      "Processed 560/814 frames | Ellipse tracking: 0\n",
      "Processed 570/814 frames | Ellipse tracking: 0\n",
      "Processed 570/814 frames | Ellipse tracking: 0\n",
      "Processed 580/814 frames | Ellipse tracking: 0\n",
      "Processed 580/814 frames | Ellipse tracking: 0\n",
      "Processed 590/814 frames | Ellipse tracking: 0\n",
      "Processed 590/814 frames | Ellipse tracking: 0\n",
      "Processed 600/814 frames | Ellipse tracking: 0\n",
      "Processed 600/814 frames | Ellipse tracking: 0\n",
      "Processed 610/814 frames | Ellipse tracking: 0\n",
      "Processed 610/814 frames | Ellipse tracking: 0\n",
      "Processed 620/814 frames | Ellipse tracking: 0\n",
      "Processed 620/814 frames | Ellipse tracking: 0\n",
      "Processed 630/814 frames | Ellipse tracking: 0\n",
      "Processed 630/814 frames | Ellipse tracking: 0\n",
      "Processed 640/814 frames | Ellipse tracking: 0\n",
      "Processed 640/814 frames | Ellipse tracking: 0\n",
      "Processed 650/814 frames | Ellipse tracking: 0\n",
      "Processed 650/814 frames | Ellipse tracking: 0\n",
      "Processed 660/814 frames | Ellipse tracking: 0\n",
      "Processed 660/814 frames | Ellipse tracking: 0\n",
      "Processed 670/814 frames | Ellipse tracking: 0\n",
      "Processed 670/814 frames | Ellipse tracking: 0\n",
      "Processed 680/814 frames | Ellipse tracking: 0\n",
      "Processed 680/814 frames | Ellipse tracking: 0\n",
      "Processed 690/814 frames | Ellipse tracking: 0\n",
      "Processed 690/814 frames | Ellipse tracking: 0\n",
      "Processed 700/814 frames | Ellipse tracking: 0\n",
      "Processed 700/814 frames | Ellipse tracking: 0\n",
      "Processed 710/814 frames | Ellipse tracking: 0\n",
      "Processed 710/814 frames | Ellipse tracking: 0\n",
      "Processed 720/814 frames | Ellipse tracking: 0\n",
      "Processed 720/814 frames | Ellipse tracking: 0\n",
      "Processed 730/814 frames | Ellipse tracking: 0\n",
      "Processed 730/814 frames | Ellipse tracking: 0\n",
      "Processed 740/814 frames | Ellipse tracking: 0\n",
      "Processed 740/814 frames | Ellipse tracking: 0\n",
      "Processed 750/814 frames | Ellipse tracking: 0\n",
      "Processed 750/814 frames | Ellipse tracking: 0\n",
      "Processed 760/814 frames | Ellipse tracking: 0\n",
      "Processed 760/814 frames | Ellipse tracking: 0\n",
      "Processed 770/814 frames | Ellipse tracking: 0\n",
      "Processed 770/814 frames | Ellipse tracking: 0\n",
      "Processed 780/814 frames | Ellipse tracking: 0\n",
      "Processed 780/814 frames | Ellipse tracking: 0\n",
      "Processed 790/814 frames | Ellipse tracking: 0\n",
      "Processed 790/814 frames | Ellipse tracking: 0\n",
      "Processed 800/814 frames | Ellipse tracking: 0\n",
      "Processed 800/814 frames | Ellipse tracking: 0\n",
      "Processed 810/814 frames | Ellipse tracking: 0\n",
      "\n",
      "=== ENHANCED VIDEO CREATION COMPLETE ===\n",
      "Video saved to: /Volumes/LaCie/SOLAQUA/exports/videos/core_aoi_tracking.mp4\n",
      "Video specs: 900x700, 15 fps, 814 frames\n",
      "🟢 ELLIPTICAL AOI TRACKING STATS:\n",
      "  - Total detected frames: 0\n",
      "  - Ellipse-guided frames: 0\n",
      "  - Ellipse effectiveness: 0.0%\n",
      "  - Lost/searching frames: 814\n",
      "Processed 810/814 frames | Ellipse tracking: 0\n",
      "\n",
      "=== ENHANCED VIDEO CREATION COMPLETE ===\n",
      "Video saved to: /Volumes/LaCie/SOLAQUA/exports/videos/core_aoi_tracking.mp4\n",
      "Video specs: 900x700, 15 fps, 814 frames\n",
      "🟢 ELLIPTICAL AOI TRACKING STATS:\n",
      "  - Total detected frames: 0\n",
      "  - Ellipse-guided frames: 0\n",
      "  - Ellipse effectiveness: 0.0%\n",
      "  - Lost/searching frames: 814\n"
     ]
    }
   ],
   "source": [
    "# Create video using the CORE simplified processor\n",
    "# This will show the yellow rectangular AOI and track with momentum merging!\n",
    "\n",
    "# Use the enhanced video creation with CORE processor\n",
    "video_path = iau.create_enhanced_contour_detection_video_with_processor(\n",
    "    npz_file_index=NPZ_FILE_INDEX,          # Which NPZ file to use\n",
    "    frame_start=1,           # Starting frame\n",
    "    frame_count=1000,         # Start with 100 frames for testing\n",
    "    frame_step=1,            # Step between frames\n",
    "    output_path=Path(EXPORTS_DIR_DEFAULT) / EXPORTS_SUBDIRS.get('videos','videos') / 'core_aoi_tracking.mp4',\n",
    "    processor=processor      # Use our CORE processor\n",
    ")\n"
   ]
  },
  {
   "cell_type": "markdown",
   "id": "fede9d64",
   "metadata": {},
   "source": [
    "## Convert to Real-World Distances\n",
    "\n",
    "Now let's convert the pixel distances to real-world distances using the fact that the entire sonar image represents a 10x10 meter area."
   ]
  },
  {
   "cell_type": "code",
   "execution_count": 5,
   "id": "886897de",
   "metadata": {},
   "outputs": [
    {
     "name": "stdout",
     "output_type": "stream",
     "text": [
      "Detected NPZ extent: x=[-8.660,8.660] m, y=[0.000,10.000] m\n",
      "Image shape from NPZ: H=700, W=900\n",
      "meters/pixel: x=0.019245, y=0.014286, avg=0.016765\n",
      "Using pixels_to_meters_avg = 0.016765 m/px\n"
     ]
    }
   ],
   "source": [
    "# Auto-detect pixel->meter mapping from the selected NPZ (if available)\n",
    "try:\n",
    "    cones, ts, extent, meta = iau.load_cone_run_npz(selected)\n",
    "    T, H, W = cones.shape\n",
    "    x_min, x_max, y_min, y_max = extent\n",
    "    width_m = float(x_max - x_min)\n",
    "    height_m = float(y_max - y_min)\n",
    "    px2m_x = width_m / float(W)\n",
    "    px2m_y = height_m / float(H)\n",
    "    pixels_to_meters_avg = 0.5 * (px2m_x + px2m_y)\n",
    "    image_shape = (H, W)\n",
    "    sonar_coverage_meters = max(width_m, height_m)\n",
    "    print(f\"Detected NPZ extent: x=[{x_min:.3f},{x_max:.3f}] m, y=[{y_min:.3f},{y_max:.3f}] m\")\n",
    "    print(f\"Image shape from NPZ: H={H}, W={W}\")\n",
    "    print(f\"meters/pixel: x={px2m_x:.6f}, y={px2m_y:.6f}, avg={pixels_to_meters_avg:.6f}\")\n",
    "except Exception as e:\n",
    "    print(\"Could not read NPZ metadata:\", e)\n",
    "    print(\"Falling back to defaults from sonar_config.\")\n",
    "    from utils.sonar_config import CONE_H_DEFAULT, CONE_W_DEFAULT, DISPLAY_RANGE_MAX_M_DEFAULT\n",
    "    image_shape = (CONE_H_DEFAULT, CONE_W_DEFAULT)\n",
    "    sonar_coverage_meters = DISPLAY_RANGE_MAX_M_DEFAULT * 2  # approximate\n",
    "    pixels_to_meters_avg = sonar_coverage_meters / max(image_shape)\n",
    "    \n",
    "# Use the computed pixels_to_meters_avg in downstream analysis\n",
    "print(f\"Using pixels_to_meters_avg = {pixels_to_meters_avg:.6f} m/px\")"
   ]
  },
  {
   "cell_type": "code",
   "execution_count": 6,
   "id": "15d6238c",
   "metadata": {},
   "outputs": [
    {
     "data": {
      "application/vnd.plotly.v1+json": {
       "config": {
        "plotlyServerURL": "https://plot.ly"
       },
       "data": [
        {
         "line": {
          "color": "blue"
         },
         "mode": "lines+markers",
         "name": "Distance",
         "type": "scatter",
         "x": {
          "bdata": "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",
          "dtype": "i2"
         },
         "xaxis": "x",
         "y": {
          "bdata": "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",
          "dtype": "f8"
         },
         "yaxis": "y"
        },
        {
         "line": {
          "color": "green"
         },
         "mode": "lines+markers",
         "name": "Distance over Time",
         "type": "scatter",
         "x": [
          "2024-08-20T12:16:08.095385790",
          "2024-08-20T12:16:08.156692982",
          "2024-08-20T12:16:08.219524860",
          "2024-08-20T12:16:08.285349369",
          "2024-08-20T12:16:08.348218918",
          "2024-08-20T12:16:08.418995619",
          "2024-08-20T12:16:08.475838661",
          "2024-08-20T12:16:08.545522451",
          "2024-08-20T12:16:08.604363203",
          "2024-08-20T12:16:08.668194294",
          "2024-08-20T12:16:08.738012314",
          "2024-08-20T12:16:08.796479225",
          "2024-08-20T12:16:08.859308958",
          "2024-08-20T12:16:08.929124117",
          "2024-08-20T12:16:08.998935699",
          "2024-08-20T12:16:09.053789139",
          "2024-08-20T12:16:09.317293882",
          "2024-08-20T12:16:09.332246304",
          "2024-08-20T12:16:09.398071289",
          "2024-08-20T12:16:09.444946289",
          "2024-08-20T12:16:09.487864494",
          "2024-08-20T12:16:09.538703918",
          "2024-08-20T12:16:09.594544888",
          "2024-08-20T12:16:09.646440983",
          "2024-08-20T12:16:09.688481331",
          "2024-08-20T12:16:09.747323990",
          "2024-08-20T12:16:09.791205168",
          "2024-08-20T12:16:09.837082386",
          "2024-08-20T12:16:09.885986328",
          "2024-08-20T12:16:10.151277542",
          "2024-08-20T12:16:10.166237116",
          "2024-08-20T12:16:10.220057487",
          "2024-08-20T12:16:10.281892776",
          "2024-08-20T12:16:10.328772068",
          "2024-08-20T12:16:10.372649193",
          "2024-08-20T12:16:10.421150446",
          "2024-08-20T12:16:10.479957104",
          "2024-08-20T12:16:10.525750874",
          "2024-08-20T12:16:10.570657969",
          "2024-08-20T12:16:10.616500139",
          "2024-08-20T12:16:10.677337170",
          "2024-08-20T12:16:10.722884893",
          "2024-08-20T12:16:10.786714554",
          "2024-08-20T12:16:10.852535009",
          "2024-08-20T12:16:10.914369583",
          "2024-08-20T12:16:10.971218109",
          "2024-08-20T12:16:11.038893223",
          "2024-08-20T12:16:11.101723909",
          "2024-08-20T12:16:11.163594007",
          "2024-08-20T12:16:11.230381966",
          "2024-08-20T12:16:11.337513924",
          "2024-08-20T12:16:11.390371799",
          "2024-08-20T12:16:11.447247267",
          "2024-08-20T12:16:11.508056402",
          "2024-08-20T12:16:11.565927744",
          "2024-08-20T12:16:11.628760576",
          "2024-08-20T12:16:11.676606178",
          "2024-08-20T12:16:11.743453979",
          "2024-08-20T12:16:11.804263115",
          "2024-08-20T12:16:11.868093252",
          "2024-08-20T12:16:11.932918787",
          "2024-08-20T12:16:12.010747194",
          "2024-08-20T12:16:12.059581757",
          "2024-08-20T12:16:12.125442743",
          "2024-08-20T12:16:12.191058159",
          "2024-08-20T12:16:12.251457690",
          "2024-08-20T12:16:12.319262266",
          "2024-08-20T12:16:12.381096601",
          "2024-08-20T12:16:12.444440603",
          "2024-08-20T12:16:12.509266852",
          "2024-08-20T12:16:12.573122740",
          "2024-08-20T12:16:12.636775732",
          "2024-08-20T12:16:12.719557524",
          "2024-08-20T12:16:12.782385588",
          "2024-08-20T12:16:12.833288193",
          "2024-08-20T12:16:12.894086123",
          "2024-08-20T12:16:12.958918571",
          "2024-08-20T12:16:13.020746946",
          "2024-08-20T12:16:13.085608482",
          "2024-08-20T12:16:13.150400400",
          "2024-08-20T12:16:13.215255499",
          "2024-08-20T12:16:13.277569056",
          "2024-08-20T12:16:13.341398478",
          "2024-08-20T12:16:13.408219576",
          "2024-08-20T12:16:13.467061996",
          "2024-08-20T12:16:13.534880161",
          "2024-08-20T12:16:13.606726408",
          "2024-08-20T12:16:13.665532112",
          "2024-08-20T12:16:13.725370646",
          "2024-08-20T12:16:13.787713289",
          "2024-08-20T12:16:13.852538347",
          "2024-08-20T12:16:13.928337097",
          "2024-08-20T12:16:13.984186649",
          "2024-08-20T12:16:14.045024872",
          "2024-08-20T12:16:14.109850883",
          "2024-08-20T12:16:14.175674677",
          "2024-08-20T12:16:14.236512661",
          "2024-08-20T12:16:14.305328131",
          "2024-08-20T12:16:14.363680601",
          "2024-08-20T12:16:14.429505348",
          "2024-08-20T12:16:14.491366386",
          "2024-08-20T12:16:14.559155703",
          "2024-08-20T12:16:14.622988224",
          "2024-08-20T12:16:14.683823109",
          "2024-08-20T12:16:14.749647856",
          "2024-08-20T12:16:14.815474033",
          "2024-08-20T12:16:14.942689419",
          "2024-08-20T12:16:14.996544361",
          "2024-08-20T12:16:15.050402403",
          "2024-08-20T12:16:15.096278429",
          "2024-08-20T12:16:15.142211437",
          "2024-08-20T12:16:15.197064161",
          "2024-08-20T12:16:15.259902715",
          "2024-08-20T12:16:15.330705404",
          "2024-08-20T12:16:15.396497011",
          "2024-08-20T12:16:15.454342842",
          "2024-08-20T12:16:15.516176462",
          "2024-08-20T12:16:15.581003189",
          "2024-08-20T12:16:15.645887136",
          "2024-08-20T12:16:15.713536263",
          "2024-08-20T12:16:15.772229433",
          "2024-08-20T12:16:15.839612007",
          "2024-08-20T12:16:15.907465696",
          "2024-08-20T12:16:15.965557575",
          "2024-08-20T12:16:16.028423309",
          "2024-08-20T12:16:16.094249487",
          "2024-08-20T12:16:16.161033869",
          "2024-08-20T12:16:16.221873045",
          "2024-08-20T12:16:16.283735752",
          "2024-08-20T12:16:16.347535372",
          "2024-08-20T12:16:16.413395643",
          "2024-08-20T12:16:16.476192474",
          "2024-08-20T12:16:16.546299696",
          "2024-08-20T12:16:16.629079819",
          "2024-08-20T12:16:16.684929371",
          "2024-08-20T12:16:16.736790419",
          "2024-08-20T12:16:16.798627377",
          "2024-08-20T12:16:16.865446091",
          "2024-08-20T12:16:16.926492929",
          "2024-08-20T12:16:17.003689289",
          "2024-08-20T12:16:17.068026304",
          "2024-08-20T12:16:17.116954088",
          "2024-08-20T12:16:17.180784941",
          "2024-08-20T12:16:17.246645451",
          "2024-08-20T12:16:17.312469959",
          "2024-08-20T12:16:17.371610641",
          "2024-08-20T12:16:17.436438084",
          "2024-08-20T12:16:17.505678176",
          "2024-08-20T12:16:17.700255156",
          "2024-08-20T12:16:17.715215206",
          "2024-08-20T12:16:17.781074524",
          "2024-08-20T12:16:17.826915026",
          "2024-08-20T12:16:17.874336004",
          "2024-08-20T12:16:17.919216871",
          "2024-08-20T12:16:17.978058338",
          "2024-08-20T12:16:18.023938417",
          "2024-08-20T12:16:18.077301979",
          "2024-08-20T12:16:18.153097868",
          "2024-08-20T12:16:18.210949183",
          "2024-08-20T12:16:18.271780491",
          "2024-08-20T12:16:18.342592001",
          "2024-08-20T12:16:18.397445917",
          "2024-08-20T12:16:18.460276127",
          "2024-08-20T12:16:18.524105548",
          "2024-08-20T12:16:18.589965820",
          "2024-08-20T12:16:18.653793812",
          "2024-08-20T12:16:18.720581770",
          "2024-08-20T12:16:18.779474258",
          "2024-08-20T12:16:18.844306469",
          "2024-08-20T12:16:18.908523321",
          "2024-08-20T12:16:18.978335142",
          "2024-08-20T12:16:19.094026089",
          "2024-08-20T12:16:19.159850359",
          "2024-08-20T12:16:19.213402510",
          "2024-08-20T12:16:19.274233818",
          "2024-08-20T12:16:19.335072517",
          "2024-08-20T12:16:19.380311966",
          "2024-08-20T12:16:19.438191414",
          "2024-08-20T12:16:19.486337900",
          "2024-08-20T12:16:19.548173428",
          "2024-08-20T12:16:19.614435673",
          "2024-08-20T12:16:19.677235126",
          "2024-08-20T12:16:19.740064621",
          "2024-08-20T12:16:19.807920456",
          "2024-08-20T12:16:19.871726990",
          "2024-08-20T12:16:19.933547735",
          "2024-08-20T12:16:19.997411728",
          "2024-08-20T12:16:20.060209990",
          "2024-08-20T12:16:20.128026724",
          "2024-08-20T12:16:20.190895081",
          "2024-08-20T12:16:20.252728462",
          "2024-08-20T12:16:20.320512533",
          "2024-08-20T12:16:20.381349087",
          "2024-08-20T12:16:20.450168133",
          "2024-08-20T12:16:20.508009911",
          "2024-08-20T12:16:20.576901436",
          "2024-08-20T12:16:20.640777111",
          "2024-08-20T12:16:20.700568438",
          "2024-08-20T12:16:20.764396906",
          "2024-08-20T12:16:20.831218243",
          "2024-08-20T12:16:20.893592358",
          "2024-08-20T12:16:20.956424236",
          "2024-08-20T12:16:21.034921169",
          "2024-08-20T12:16:21.094760180",
          "2024-08-20T12:16:21.155631542",
          "2024-08-20T12:16:21.211953878",
          "2024-08-20T12:16:21.277812719",
          "2024-08-20T12:16:21.340610743",
          "2024-08-20T12:16:21.405436754",
          "2024-08-20T12:16:21.468268633",
          "2024-08-20T12:16:21.532132626",
          "2024-08-20T12:16:21.595961571",
          "2024-08-20T12:16:21.662785530",
          "2024-08-20T12:16:21.727574587",
          "2024-08-20T12:16:21.788411379",
          "2024-08-20T12:16:21.853240013",
          "2024-08-20T12:16:21.919152498",
          "2024-08-20T12:16:21.979023933",
          "2024-08-20T12:16:22.114965916",
          "2024-08-20T12:16:22.173819304",
          "2024-08-20T12:16:22.189765453",
          "2024-08-20T12:16:22.243622065",
          "2024-08-20T12:16:22.301979542",
          "2024-08-20T12:16:22.372381449",
          "2024-08-20T12:16:22.429226637",
          "2024-08-20T12:16:22.494352818",
          "2024-08-20T12:16:22.558182955",
          "2024-08-20T12:16:22.620466948",
          "2024-08-20T12:16:22.689296246",
          "2024-08-20T12:16:22.750136614",
          "2024-08-20T12:16:22.815995932",
          "2024-08-20T12:16:22.878876448",
          "2024-08-20T12:16:22.939754486",
          "2024-08-20T12:16:23.005537271",
          "2024-08-20T12:16:23.067454815",
          "2024-08-20T12:16:23.136214256",
          "2024-08-20T12:16:23.195904970",
          "2024-08-20T12:16:23.263723372",
          "2024-08-20T12:16:23.326404095",
          "2024-08-20T12:16:23.392229080",
          "2024-08-20T12:16:23.451071978",
          "2024-08-20T12:16:23.517899752",
          "2024-08-20T12:16:23.584714890",
          "2024-08-20T12:16:23.644552946",
          "2024-08-20T12:16:23.710378170",
          "2024-08-20T12:16:23.774206638",
          "2024-08-20T12:16:23.837038994",
          "2024-08-20T12:16:23.902899265",
          "2024-08-20T12:16:23.966692924",
          "2024-08-20T12:16:24.029523611",
          "2024-08-20T12:16:24.098378658",
          "2024-08-20T12:16:24.156186581",
          "2024-08-20T12:16:24.222009897",
          "2024-08-20T12:16:24.301798344",
          "2024-08-20T12:16:24.350664854",
          "2024-08-20T12:16:24.414499998",
          "2024-08-20T12:16:24.476333618",
          "2024-08-20T12:16:24.540163040",
          "2024-08-20T12:16:24.607981682",
          "2024-08-20T12:16:24.672324657",
          "2024-08-20T12:16:24.734939814",
          "2024-08-20T12:16:24.796520472",
          "2024-08-20T12:16:24.859352112",
          "2024-08-20T12:16:24.924237728",
          "2024-08-20T12:16:24.991036892",
          "2024-08-20T12:16:25.055827379",
          "2024-08-20T12:16:25.168562651",
          "2024-08-20T12:16:25.223378658",
          "2024-08-20T12:16:25.277269363",
          "2024-08-20T12:16:25.347047329",
          "2024-08-20T12:16:25.397949219",
          "2024-08-20T12:16:25.447778225",
          "2024-08-20T12:16:25.513601541",
          "2024-08-20T12:16:25.567355394",
          "2024-08-20T12:16:25.628190517",
          "2024-08-20T12:16:25.692020416",
          "2024-08-20T12:16:25.755885124",
          "2024-08-20T12:16:25.819678545",
          "2024-08-20T12:16:25.886539221",
          "2024-08-20T12:16:25.949131489",
          "2024-08-20T12:16:26.013958454",
          "2024-08-20T12:16:26.078693628",
          "2024-08-20T12:16:26.143519640",
          "2024-08-20T12:16:26.205090284",
          "2024-08-20T12:16:26.268921852",
          "2024-08-20T12:16:26.334743023",
          "2024-08-20T12:16:26.396163225",
          "2024-08-20T12:16:26.459990978",
          "2024-08-20T12:16:26.530802965",
          "2024-08-20T12:16:26.590641975",
          "2024-08-20T12:16:26.654471159",
          "2024-08-20T12:16:26.718213081",
          "2024-08-20T12:16:26.786028862",
          "2024-08-20T12:16:26.843874216",
          "2024-08-20T12:16:26.908700466",
          "2024-08-20T12:16:26.972530365",
          "2024-08-20T12:16:27.043340445",
          "2024-08-20T12:16:27.102183580",
          "2024-08-20T12:16:27.164018154",
          "2024-08-20T12:16:27.273385286",
          "2024-08-20T12:16:27.321257830",
          "2024-08-20T12:16:27.382095575",
          "2024-08-20T12:16:27.427971363",
          "2024-08-20T12:16:27.504765749",
          "2024-08-20T12:16:27.548648357",
          "2024-08-20T12:16:27.615473986",
          "2024-08-20T12:16:27.676312208",
          "2024-08-20T12:16:27.740140438",
          "2024-08-20T12:16:27.806761503",
          "2024-08-20T12:16:27.870623589",
          "2024-08-20T12:16:27.933420897",
          "2024-08-20T12:16:28.003234625",
          "2024-08-20T12:16:28.061078548",
          "2024-08-20T12:16:28.154828310",
          "2024-08-20T12:16:28.206448078",
          "2024-08-20T12:16:28.264327048",
          "2024-08-20T12:16:28.316189289",
          "2024-08-20T12:16:28.379982948",
          "2024-08-20T12:16:28.446804285",
          "2024-08-20T12:16:28.509667157",
          "2024-08-20T12:16:28.573464155",
          "2024-08-20T12:16:28.638877630",
          "2024-08-20T12:16:28.701742649",
          "2024-08-20T12:16:28.765537739",
          "2024-08-20T12:16:28.830366611",
          "2024-08-20T12:16:28.892197847",
          "2024-08-20T12:16:28.956026554",
          "2024-08-20T12:16:29.024352551",
          "2024-08-20T12:16:29.086186409",
          "2024-08-20T12:16:29.151012659",
          "2024-08-20T12:16:29.212503910",
          "2024-08-20T12:16:29.280323029",
          "2024-08-20T12:16:29.348139763",
          "2024-08-20T12:16:29.406981945",
          "2024-08-20T12:16:29.469735146",
          "2024-08-20T12:16:29.531569481",
          "2024-08-20T12:16:29.597393990",
          "2024-08-20T12:16:29.661501169",
          "2024-08-20T12:16:29.723593950",
          "2024-08-20T12:16:29.789381266",
          "2024-08-20T12:16:29.854513884",
          "2024-08-20T12:16:29.924432278",
          "2024-08-20T12:16:29.982328653",
          "2024-08-20T12:16:30.045651436",
          "2024-08-20T12:16:30.110443592",
          "2024-08-20T12:16:30.171280146",
          "2024-08-20T12:16:30.236106157",
          "2024-08-20T12:16:30.305918694",
          "2024-08-20T12:16:30.364761829",
          "2024-08-20T12:16:30.428591251",
          "2024-08-20T12:16:30.493417263",
          "2024-08-20T12:16:30.556249619",
          "2024-08-20T12:16:30.626084566",
          "2024-08-20T12:16:30.687896252",
          "2024-08-20T12:16:30.806614637",
          "2024-08-20T12:16:30.871407032",
          "2024-08-20T12:16:30.929253340",
          "2024-08-20T12:16:30.978122473",
          "2024-08-20T12:16:31.036021948",
          "2024-08-20T12:16:31.096859932",
          "2024-08-20T12:16:31.140511751",
          "2024-08-20T12:16:31.200352907",
          "2024-08-20T12:16:31.266175031",
          "2024-08-20T12:16:31.326369762",
          "2024-08-20T12:16:31.388169289",
          "2024-08-20T12:16:31.455027103",
          "2024-08-20T12:16:31.519330978",
          "2024-08-20T12:16:31.580135584",
          "2024-08-20T12:16:31.645958900",
          "2024-08-20T12:16:31.710784674",
          "2024-08-20T12:16:31.771656752",
          "2024-08-20T12:16:31.838446140",
          "2024-08-20T12:16:31.907258987",
          "2024-08-20T12:16:31.967431068",
          "2024-08-20T12:16:32.028268576",
          "2024-08-20T12:16:32.099089384",
          "2024-08-20T12:16:32.160914183",
          "2024-08-20T12:16:32.224743605",
          "2024-08-20T12:16:32.285583258",
          "2024-08-20T12:16:32.347416162",
          "2024-08-20T12:16:32.428202152",
          "2024-08-20T12:16:32.476071596",
          "2024-08-20T12:16:32.548875332",
          "2024-08-20T12:16:32.606748343",
          "2024-08-20T12:16:32.667106867",
          "2024-08-20T12:16:32.732671499",
          "2024-08-20T12:16:32.799492836",
          "2024-08-20T12:16:32.863267422",
          "2024-08-20T12:16:32.924104929",
          "2024-08-20T12:16:32.987934113",
          "2024-08-20T12:16:33.078692436",
          "2024-08-20T12:16:33.135137796",
          "2024-08-20T12:16:33.180017233",
          "2024-08-20T12:16:33.244468451",
          "2024-08-20T12:16:33.311290979",
          "2024-08-20T12:16:33.380610704",
          "2024-08-20T12:16:33.443478823",
          "2024-08-20T12:16:33.507271767",
          "2024-08-20T12:16:33.565117121",
          "2024-08-20T12:16:33.627983570",
          "2024-08-20T12:16:33.694771528",
          "2024-08-20T12:16:33.756604671",
          "2024-08-20T12:16:33.819472075",
          "2024-08-20T12:16:33.884301901",
          "2024-08-20T12:16:33.951085329",
          "2024-08-20T12:16:34.015942812",
          "2024-08-20T12:16:34.082733870",
          "2024-08-20T12:16:34.139580965",
          "2024-08-20T12:16:34.205641747",
          "2024-08-20T12:16:34.278481722",
          "2024-08-20T12:16:34.334296465",
          "2024-08-20T12:16:34.397128344",
          "2024-08-20T12:16:34.459961653",
          "2024-08-20T12:16:34.528776169",
          "2024-08-20T12:16:34.589202642",
          "2024-08-20T12:16:34.657021523",
          "2024-08-20T12:16:34.721847773",
          "2024-08-20T12:16:34.779693127",
          "2024-08-20T12:16:34.845558167",
          "2024-08-20T12:16:34.909351110",
          "2024-08-20T12:16:34.978670359",
          "2024-08-20T12:16:35.036588907",
          "2024-08-20T12:16:35.100418568",
          "2024-08-20T12:16:35.166277170",
          "2024-08-20T12:16:35.229074240",
          "2024-08-20T12:16:35.294898033",
          "2024-08-20T12:16:35.396627426",
          "2024-08-20T12:16:35.470429659",
          "2024-08-20T12:16:35.533899546",
          "2024-08-20T12:16:35.587755442",
          "2024-08-20T12:16:35.633633852",
          "2024-08-20T12:16:35.681555748",
          "2024-08-20T12:16:35.740349770",
          "2024-08-20T12:16:35.804176807",
          "2024-08-20T12:16:35.874988794",
          "2024-08-20T12:16:35.934828758",
          "2024-08-20T12:16:35.996936798",
          "2024-08-20T12:16:36.061763048",
          "2024-08-20T12:16:36.124597549",
          "2024-08-20T12:16:36.188092709",
          "2024-08-20T12:16:36.251937628",
          "2024-08-20T12:16:36.319757462",
          "2024-08-20T12:16:36.380624533",
          "2024-08-20T12:16:36.445451021",
          "2024-08-20T12:16:36.510277748",
          "2024-08-20T12:16:36.584500551",
          "2024-08-20T12:16:36.644340515",
          "2024-08-20T12:16:36.701697350",
          "2024-08-20T12:16:36.767521858",
          "2024-08-20T12:16:36.828392982",
          "2024-08-20T12:16:36.892188311",
          "2024-08-20T12:16:36.961858511",
          "2024-08-20T12:16:37.025690794",
          "2024-08-20T12:16:37.085562944",
          "2024-08-20T12:16:37.149357319",
          "2024-08-20T12:16:37.213186264",
          "2024-08-20T12:16:37.277015924",
          "2024-08-20T12:16:37.340923786",
          "2024-08-20T12:16:37.405789852",
          "2024-08-20T12:16:37.469618082",
          "2024-08-20T12:16:37.531413078",
          "2024-08-20T12:16:37.596240282",
          "2024-08-20T12:16:37.662063360",
          "2024-08-20T12:16:37.726890802",
          "2024-08-20T12:16:37.787763119",
          "2024-08-20T12:16:37.855547428",
          "2024-08-20T12:16:37.917381525",
          "2024-08-20T12:16:37.981212378",
          "2024-08-20T12:16:38.046036482",
          "2024-08-20T12:16:38.109570980",
          "2024-08-20T12:16:38.174366713",
          "2024-08-20T12:16:38.235985994",
          "2024-08-20T12:16:38.301046133",
          "2024-08-20T12:16:38.363903999",
          "2024-08-20T12:16:38.431695938",
          "2024-08-20T12:16:38.492533445",
          "2024-08-20T12:16:38.559354544",
          "2024-08-20T12:16:38.626209259",
          "2024-08-20T12:16:38.685063124",
          "2024-08-20T12:16:38.749844551",
          "2024-08-20T12:16:38.819657564",
          "2024-08-20T12:16:38.881402731",
          "2024-08-20T12:16:38.941209078",
          "2024-08-20T12:16:39.004039526",
          "2024-08-20T12:16:39.076845646",
          "2024-08-20T12:16:39.135687113",
          "2024-08-20T12:16:39.195986748",
          "2024-08-20T12:16:39.259816170",
          "2024-08-20T12:16:39.327204943",
          "2024-08-20T12:16:39.386985779",
          "2024-08-20T12:16:39.450998545",
          "2024-08-20T12:16:39.518326283",
          "2024-08-20T12:16:39.581085205",
          "2024-08-20T12:16:39.645912886",
          "2024-08-20T12:16:39.708446026",
          "2024-08-20T12:16:39.772303820",
          "2024-08-20T12:16:39.838095665",
          "2024-08-20T12:16:39.901435614",
          "2024-08-20T12:16:39.965547562",
          "2024-08-20T12:16:40.028379202",
          "2024-08-20T12:16:40.093206644",
          "2024-08-20T12:16:40.157036781",
          "2024-08-20T12:16:40.220864296",
          "2024-08-20T12:16:40.285703659",
          "2024-08-20T12:16:40.347567558",
          "2024-08-20T12:16:40.415346146",
          "2024-08-20T12:16:40.490145683",
          "2024-08-20T12:16:40.540010929",
          "2024-08-20T12:16:40.605837584",
          "2024-08-20T12:16:40.667669058",
          "2024-08-20T12:16:40.736486197",
          "2024-08-20T12:16:40.799316406",
          "2024-08-20T12:16:40.860188723",
          "2024-08-20T12:16:40.924980640",
          "2024-08-20T12:16:40.987322807",
          "2024-08-20T12:16:41.052266598",
          "2024-08-20T12:16:41.116094828",
          "2024-08-20T12:16:41.188935995",
          "2024-08-20T12:16:41.247742176",
          "2024-08-20T12:16:41.311650991",
          "2024-08-20T12:16:41.373488665",
          "2024-08-20T12:16:41.437658548",
          "2024-08-20T12:16:41.507472754",
          "2024-08-20T12:16:41.566313267",
          "2024-08-20T12:16:41.632138252",
          "2024-08-20T12:16:41.696951389",
          "2024-08-20T12:16:41.756791115",
          "2024-08-20T12:16:41.823612928",
          "2024-08-20T12:16:41.885446310",
          "2024-08-20T12:16:41.947316408",
          "2024-08-20T12:16:42.016132832",
          "2024-08-20T12:16:42.075978756",
          "2024-08-20T12:16:42.142799854",
          "2024-08-20T12:16:42.207627058",
          "2024-08-20T12:16:42.267501831",
          "2024-08-20T12:16:42.334329367",
          "2024-08-20T12:16:42.399032593",
          "2024-08-20T12:16:42.460904121",
          "2024-08-20T12:16:42.536894560",
          "2024-08-20T12:16:42.592325926",
          "2024-08-20T12:16:42.652166605",
          "2024-08-20T12:16:42.718005180",
          "2024-08-20T12:16:42.779834986",
          "2024-08-20T12:16:42.843824148",
          "2024-08-20T12:16:42.907660246",
          "2024-08-20T12:16:42.977556467",
          "2024-08-20T12:16:43.037439823",
          "2024-08-20T12:16:43.100963354",
          "2024-08-20T12:16:43.171775341",
          "2024-08-20T12:16:43.229617834",
          "2024-08-20T12:16:43.293076277",
          "2024-08-20T12:16:43.355946779",
          "2024-08-20T12:16:43.420776367",
          "2024-08-20T12:16:43.489561558",
          "2024-08-20T12:16:43.547403097",
          "2024-08-20T12:16:43.651124477",
          "2024-08-20T12:16:43.710998774",
          "2024-08-20T12:16:43.767498255",
          "2024-08-20T12:16:43.824345112",
          "2024-08-20T12:16:43.883220911",
          "2024-08-20T12:16:43.949009657",
          "2024-08-20T12:16:44.006890059",
          "2024-08-20T12:16:44.062737703",
          "2024-08-20T12:16:44.124540567",
          "2024-08-20T12:16:44.189367533",
          "2024-08-20T12:16:44.253229618",
          "2024-08-20T12:16:44.316185713",
          "2024-08-20T12:16:44.379046202",
          "2024-08-20T12:16:44.444174528",
          "2024-08-20T12:16:44.514346600",
          "2024-08-20T12:16:44.572191715",
          "2024-08-20T12:16:44.639078379",
          "2024-08-20T12:16:44.704474688",
          "2024-08-20T12:16:44.763350487",
          "2024-08-20T12:16:44.829139471",
          "2024-08-20T12:16:44.894028425",
          "2024-08-20T12:16:44.956413269",
          "2024-08-20T12:16:45.025400400",
          "2024-08-20T12:16:45.084244251",
          "2024-08-20T12:16:45.152088881",
          "2024-08-20T12:16:45.213922262",
          "2024-08-20T12:16:45.277752161",
          "2024-08-20T12:16:45.347600698",
          "2024-08-20T12:16:45.406036139",
          "2024-08-20T12:16:45.467909098",
          "2024-08-20T12:16:45.534692049",
          "2024-08-20T12:16:45.597522736",
          "2024-08-20T12:16:45.659392357",
          "2024-08-20T12:16:45.726183414",
          "2024-08-20T12:16:45.793002129",
          "2024-08-20T12:16:45.853837729",
          "2024-08-20T12:16:45.916709185",
          "2024-08-20T12:16:45.982528448",
          "2024-08-20T12:16:46.046327353",
          "2024-08-20T12:16:46.109154224",
          "2024-08-20T12:16:46.170989513",
          "2024-08-20T12:16:46.236022949",
          "2024-08-20T12:16:46.299850464",
          "2024-08-20T12:16:46.364199400",
          "2024-08-20T12:16:46.429173470",
          "2024-08-20T12:16:46.495971680",
          "2024-08-20T12:16:46.555811644",
          "2024-08-20T12:16:46.626326084",
          "2024-08-20T12:16:46.684170961",
          "2024-08-20T12:16:46.757974625",
          "2024-08-20T12:16:46.817813396",
          "2024-08-20T12:16:46.876714945",
          "2024-08-20T12:16:46.940485477",
          "2024-08-20T12:16:47.012800694",
          "2024-08-20T12:16:47.068651915",
          "2024-08-20T12:16:47.132986546",
          "2024-08-20T12:16:47.206822395",
          "2024-08-20T12:16:47.259686232",
          "2024-08-20T12:16:47.386310101",
          "2024-08-20T12:16:47.437172651",
          "2024-08-20T12:16:47.497013569",
          "2024-08-20T12:16:47.543887615",
          "2024-08-20T12:16:47.607716322",
          "2024-08-20T12:16:47.665561199",
          "2024-08-20T12:16:47.728394032",
          "2024-08-20T12:16:47.786280394",
          "2024-08-20T12:16:47.846248865",
          "2024-08-20T12:16:47.902099133",
          "2024-08-20T12:16:47.973907232",
          "2024-08-20T12:16:48.028760433",
          "2024-08-20T12:16:48.096580982",
          "2024-08-20T12:16:48.161984444",
          "2024-08-20T12:16:48.220808029",
          "2024-08-20T12:16:48.283670425",
          "2024-08-20T12:16:48.349090099",
          "2024-08-20T12:16:48.412950039",
          "2024-08-20T12:16:48.475680590",
          "2024-08-20T12:16:48.554410934",
          "2024-08-20T12:16:48.622227669",
          "2024-08-20T12:16:48.677082300",
          "2024-08-20T12:16:48.732578278",
          "2024-08-20T12:16:48.808376551",
          "2024-08-20T12:16:48.861769676",
          "2024-08-20T12:16:48.925569057",
          "2024-08-20T12:16:49.130389451",
          "2024-08-20T12:16:49.145349264",
          "2024-08-20T12:16:49.204797268",
          "2024-08-20T12:16:49.248680592",
          "2024-08-20T12:16:49.307520628",
          "2024-08-20T12:16:49.354395866",
          "2024-08-20T12:16:49.398307085",
          "2024-08-20T12:16:49.458119392",
          "2024-08-20T12:16:49.504994154",
          "2024-08-20T12:16:49.563835859",
          "2024-08-20T12:16:49.637637615",
          "2024-08-20T12:16:49.693488598",
          "2024-08-20T12:16:49.772279263",
          "2024-08-20T12:16:49.957781553",
          "2024-08-20T12:16:49.973739862",
          "2024-08-20T12:16:50.034578085",
          "2024-08-20T12:16:50.078537464",
          "2024-08-20T12:16:50.138314486",
          "2024-08-20T12:16:50.185190439",
          "2024-08-20T12:16:50.231067896",
          "2024-08-20T12:16:50.275953293",
          "2024-08-20T12:16:50.339813471",
          "2024-08-20T12:16:50.397620916",
          "2024-08-20T12:16:50.467789412",
          "2024-08-20T12:16:50.526661395",
          "2024-08-20T12:16:50.592426062",
          "2024-08-20T12:16:50.652230978",
          "2024-08-20T12:16:50.718054771",
          "2024-08-20T12:16:50.783918858",
          "2024-08-20T12:16:50.844773531",
          "2024-08-20T12:16:50.909575939",
          "2024-08-20T12:16:50.972373724",
          "2024-08-20T12:16:51.039195061",
          "2024-08-20T12:16:51.115990639",
          "2024-08-20T12:16:51.167850733",
          "2024-08-20T12:16:51.228871584",
          "2024-08-20T12:16:51.291702986",
          "2024-08-20T12:16:51.355562449",
          "2024-08-20T12:16:51.420359612",
          "2024-08-20T12:16:51.487182617",
          "2024-08-20T12:16:51.550013781",
          "2024-08-20T12:16:51.621820211",
          "2024-08-20T12:16:51.675227165",
          "2024-08-20T12:16:51.742013693",
          "2024-08-20T12:16:51.840767384",
          "2024-08-20T12:16:51.902601719",
          "2024-08-20T12:16:51.948479891",
          "2024-08-20T12:16:52.006323338",
          "2024-08-20T12:16:52.068565607",
          "2024-08-20T12:16:52.127442597",
          "2024-08-20T12:16:52.188757658",
          "2024-08-20T12:16:52.252624750",
          "2024-08-20T12:16:52.320444345",
          "2024-08-20T12:16:52.380243301",
          "2024-08-20T12:16:52.445104599",
          "2024-08-20T12:16:52.511892796",
          "2024-08-20T12:16:52.576718092",
          "2024-08-20T12:16:52.636559010",
          "2024-08-20T12:16:52.701385260",
          "2024-08-20T12:16:52.764218569",
          "2024-08-20T12:16:52.829043627",
          "2024-08-20T12:16:52.893871069",
          "2024-08-20T12:16:52.955703735",
          "2024-08-20T12:16:53.022524595",
          "2024-08-20T12:16:53.102823734",
          "2024-08-20T12:16:53.160718679",
          "2024-08-20T12:16:53.218513250",
          "2024-08-20T12:16:53.278518200",
          "2024-08-20T12:16:53.341351271",
          "2024-08-20T12:16:53.405178785",
          "2024-08-20T12:16:53.468009949",
          "2024-08-20T12:16:53.537825823",
          "2024-08-20T12:16:53.600655079",
          "2024-08-20T12:16:53.664532423",
          "2024-08-20T12:16:53.725801706",
          "2024-08-20T12:16:53.787636995",
          "2024-08-20T12:16:53.852016687",
          "2024-08-20T12:16:53.921796083",
          "2024-08-20T12:16:53.980579615",
          "2024-08-20T12:16:54.043408871",
          "2024-08-20T12:16:54.110231400",
          "2024-08-20T12:16:54.175058365",
          "2024-08-20T12:16:54.237909555",
          "2024-08-20T12:16:54.302735806",
          "2024-08-20T12:16:54.363573790",
          "2024-08-20T12:16:54.439370394",
          "2024-08-20T12:16:54.505674600",
          "2024-08-20T12:16:54.556575775",
          "2024-08-20T12:16:54.621365547",
          "2024-08-20T12:16:54.685702324",
          "2024-08-20T12:16:54.758507013",
          "2024-08-20T12:16:54.812362909",
          "2024-08-20T12:16:54.884222269",
          "2024-08-20T12:16:54.940021515",
          "2024-08-20T12:16:55.005850554",
          "2024-08-20T12:16:55.069046736",
          "2024-08-20T12:16:55.132934093",
          "2024-08-20T12:16:55.196768284",
          "2024-08-20T12:16:55.270569801",
          "2024-08-20T12:16:55.329474926",
          "2024-08-20T12:16:55.388601303",
          "2024-08-20T12:16:55.451397657",
          "2024-08-20T12:16:55.521809101",
          "2024-08-20T12:16:55.582866669",
          "2024-08-20T12:16:55.644743443",
          "2024-08-20T12:16:55.708039522",
          "2024-08-20T12:16:55.774860382",
          "2024-08-20T12:16:55.848698854",
          "2024-08-20T12:16:55.903517723",
          "2024-08-20T12:16:55.965970278",
          "2024-08-20T12:16:56.032788038",
          "2024-08-20T12:16:56.092688084",
          "2024-08-20T12:16:56.156456709",
          "2024-08-20T12:16:56.225302219",
          "2024-08-20T12:16:56.291131735",
          "2024-08-20T12:16:56.351935387",
          "2024-08-20T12:16:56.413772106",
          "2024-08-20T12:16:56.478632450",
          "2024-08-20T12:16:56.541461706",
          "2024-08-20T12:16:56.606253862",
          "2024-08-20T12:16:56.667126894",
          "2024-08-20T12:16:56.737072706",
          "2024-08-20T12:16:56.797910452",
          "2024-08-20T12:16:56.859745264",
          "2024-08-20T12:16:56.926205397",
          "2024-08-20T12:16:57.039867163",
          "2024-08-20T12:16:57.100703478",
          "2024-08-20T12:16:57.161543369",
          "2024-08-20T12:16:57.224379301",
          "2024-08-20T12:16:57.279637098",
          "2024-08-20T12:16:57.342443943",
          "2024-08-20T12:16:57.387506008",
          "2024-08-20T12:16:57.436410189",
          "2024-08-20T12:16:57.502428055",
          "2024-08-20T12:16:57.566221237",
          "2024-08-20T12:16:57.641531944",
          "2024-08-20T12:16:57.694428682",
          "2024-08-20T12:16:57.759217501",
          "2024-08-20T12:16:57.822085619",
          "2024-08-20T12:16:57.889868975",
          "2024-08-20T12:16:57.949707508",
          "2024-08-20T12:16:58.013572693",
          "2024-08-20T12:16:58.077366352",
          "2024-08-20T12:16:58.139806509",
          "2024-08-20T12:16:58.203635216",
          "2024-08-20T12:16:58.267492055",
          "2024-08-20T12:16:58.340271473",
          "2024-08-20T12:16:58.398117065",
          "2024-08-20T12:16:58.459951639",
          "2024-08-20T12:16:58.526771784",
          "2024-08-20T12:16:58.589602709",
          "2024-08-20T12:16:58.652434587",
          "2024-08-20T12:16:58.720253468",
          "2024-08-20T12:16:58.780977964",
          "2024-08-20T12:16:58.879713774",
          "2024-08-20T12:16:58.937559366",
          "2024-08-20T12:16:59.003454447",
          "2024-08-20T12:16:59.054319143",
          "2024-08-20T12:16:59.102700710",
          "2024-08-20T12:16:59.163537502",
          "2024-08-20T12:16:59.231873512",
          "2024-08-20T12:16:59.295702934",
          "2024-08-20T12:16:59.365517855",
          "2024-08-20T12:16:59.422363997",
          "2024-08-20T12:16:59.484198570",
          "2024-08-20T12:16:59.549028635",
          "2024-08-20T12:16:59.615846634",
          "2024-08-20T12:16:59.681671381",
          "2024-08-20T12:16:59.741510391",
          "2024-08-20T12:16:59.817307472",
          "2024-08-20T12:16:59.877695560",
          "2024-08-20T12:16:59.933547974",
          "2024-08-20T12:17:00.047241688",
          "2024-08-20T12:17:00.098105907",
          "2024-08-20T12:17:00.155955315"
         ],
         "xaxis": "x2",
         "y": {
          "bdata": "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",
          "dtype": "f8"
         },
         "yaxis": "y2"
        },
        {
         "marker": {
          "color": "lightcoral"
         },
         "name": "Distribution",
         "nbinsx": 30,
         "opacity": 0.7,
         "type": "histogram",
         "x": {
          "bdata": "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",
          "dtype": "f8"
         },
         "xaxis": "x3",
         "yaxis": "y3"
        },
        {
         "line": {
          "color": "lightcoral",
          "width": 1
         },
         "mode": "lines",
         "name": "Raw",
         "opacity": 0.5,
         "type": "scatter",
         "x": {
          "bdata": "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",
          "dtype": "i2"
         },
         "xaxis": "x4",
         "y": {
          "bdata": "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",
          "dtype": "f8"
         },
         "yaxis": "y4"
        },
        {
         "line": {
          "color": "darkred",
          "width": 3
         },
         "mode": "lines",
         "name": "Smoothed (n=40)",
         "type": "scatter",
         "x": {
          "bdata": "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",
          "dtype": "i2"
         },
         "xaxis": "x4",
         "y": {
          "bdata": "AAAAAAAA+H8AAAAAAAD4fwAAAAAAAPh/AAAAAAAA+H8AAAAAAAD4fwAAAAAAAPh/AAAAAAAA+H8AAAAAAAD4fwAAAAAAAPh/AAAAAAAA+H8AAAAAAAD4fwAAAAAAAPh/AAAAAAAA+H8AAAAAAAD4fwAAAAAAAPh/AAAAAAAA+H8AAAAAAAD4fwAAAAAAAPh/AAAAAAAA+H8AAAAAAAD4f7mOdaP7fPQ/yvwUbFCG9D+K3pBSuo/0P99pkgfIlPQ/Jcom5jma9D9aH4x5/aH0P8lfeCsSqvQ/ADOhJ5u99D+wah0h5Mb0Pxl8YLT80/Q/lbHbh7/e9D90q0J3BOn0Px5ws1017vQ/fKCa9E749D+bNGhIo//0P7VdJlIvCPU/GCKeOlMR9T/mNIVX0Rz1P1fGeMpXJfU/SORPilsw9T9VwjHChDb1P/0EZOhXP/U/xFzpzEdI9T/n5YQvzk71P4Kcm5VUV/U/OtexqQhj9T+ixU5N1mz1P0yfiPpxd/U/uUzq9WOE9T+s+2TXVo71P2cQ19srmfU/c0KEiIir9T+bfjUcx8D1P9P+6+mPyvU/ulqPN/XT9T9cVvLsY971PyUbRL0E6vU/FsC2fYr19T+KbR4JOP71P/Z+1JG9CfY/6Do0yQ4V9j9COi9UBR72P9iKbPAKKPY/RDWc+dk19j8b+1BlykL2P/oefhoWTfY/2n21GRVZ9j+KiOjSE2D2Pw7ouuOoa/Y/GlPAQ9Fz9j9nEb65Y4H2Pyxfh+AXkPY/dXD8m2Ke9j/4qhVqLav2P3GSQY4itvY/NOh7zw/C9j+GNt6z9Mn2PzPSU2T20vY/ToDFvBXe9j891I7Kp+j2P34Rcumq9fY/7isfr94A9z/zHxPvIg/3P23Ulc8oHPc/BUcSifUm9z9eNfJnVTD3P9zRabokOfc/vmAFaEpA9z/EiknmfkX3P3p2VeiaVfc/fwbMryNk9z8n5dteQWD3P9FRBIfYXfc/ZsjFMOJp9z9CiVYownL3P3cn4m00fvc/Bj0EkmiD9z+9b8+96Yb3PzJ8weypjvc/NQMmOqWP9z/x2lejhZf3P2XYFQ+lo/c/Au9bIQGq9z/yKS2n6K/3P8wd095StPc/ngdsH4219z8FuAHha7L3PzYNtv5lvPc/0c6I0tHA9z8O8L4tT8v3Py7UwlQuy/c/Lmv4sPzH9z/T1cBX9Mj3P/ByPXXdxvc/RHZ9zX3F9z+VCsk9N8T3P23uzwEhw/c/AtXEvjS+9z8bwWYQ8L33P+Pqc54evvc/YyCkADG/9z/1JVB7wMP3P/FI7Dz7xPc/nX75DWfG9z9OKrnLF8f3P+oW0j2Ry/c/oWs1ZcbO9z/DQrLQsc/3Pzc+5Vbt0vc/L6NN4CXN9z/ynfE0NMj3P8cjZNPQy/c/2g39Pa/M9z9lpwFzfMj3P0s0VcicxPc/iRxH6Y+99z+Lg6oAWrr3PxK6SWeVt/c/MUQf9FOx9z+zl3VPCrD3P5kHOlBqpvc/AhCP1k2b9z+0IIESepX3PzKfp097jPc/ysDdrtmE9z+Mt/b024L3P1r2zSwOg/c/bvKr2rl49z/yvquzbm/3P/3164MWYvc/2jtXNZtZ9z9mEc6EWVL3P9BiQx09Sfc/U73qxxNE9z8TgVjCzjv3PxzmqVZEM/c/PhK9kL0s9z9MqsxS+yj3P1+BDT+gIvc/tNyyb1AY9z8bLBQoZQ33PyTloxe5/vY/N3GK8Ljy9j+quZHAs+b2P8FibcJ72/Y/asjTP67O9j/YaHbw3cP2PxL0gBM+u/Y/Mr3UkW6x9j8u3LbJ8qb2PxKF6nxmnfY/tNG9HnqW9j/uVhAmDI72P/B0B99HhvY/sq5Tkcx99j9KSWgroHb2P1h9AUxWcfY/II8g8Jtr9j8OLtiwqGb2P4kHxrAjYfY/ihUj9Xhb9j8BE4UB6Fb2P3EKXC+qUfY/Df9prqRN9j9fcg5unUj2P1CNLirvQ/Y/ur6iSRg/9j9lQpXQXTv2P9XoT8xqN/Y/b5mg43sz9j/y3vcpTTD2P4PNJdUZLvY/sXwzPVcs9j+y7KMZbyr2P6hs6fTqKfY/86FsN6so9j+mXV9HICj2P5BSvN+kJvY/+5fCtOgk9j/pdVO99ST2P/WWKF0zJfY/xwLTxREm9j+NapNs/Sb2P1FGZUdUKPY/9VxSS1oo9j/6mOGtnij2P4qRYtWCKfY/utsIjx0r9j/WEcbNci32P0/iEHyqL/Y/wHM5JTwx9j/Y8AncBDL2P2cxJ1ijMvY/tEpt5BEz9j+mvl218DT2P9mCYBEoN/Y/oQSx8Mc39j/6ufDjXjn2P4Ja427KOfY/ue8HFO469j8oXCV5Gz32PyRIBQfmPPY/XXgD7xo+9j/d/P+oeT/2P7Iy+V9fQfY/rhzEsWdC9j/rUkY6dET2PwGjehGqRfY/k5CiPbNH9j+L15Pqs0n2P0PenbdxS/Y/zb35t5xO9j/mZsOAKlD2P/58H1C2UfY/i/5jTeBT9j+lH98+gFX2P7Nr5/fvVfY/QhQfW9BU9j/T9UsRslP2P/z564NzUvY/zaNlBMZR9j+yTzd9uFH2P1H5NQJlT/Y/KcjYRoxM9j/vdcp840n2P4LI6XIQR/Y/7xVjQDc/9j/Ajy5rxDz2P6kn/ol7NvY/DVCL85wx9j8uBIspsSz2P4snES7aKfY/gnDzAe0m9j93pWvOgCP2P7oL+clhH/Y/Tp3VB8ca9j+lV21TMRj2P6db3CS9E/Y/2c44dt0Q9j8f1fOhDQ/2P2pAgmXWC/Y/CffzPywK9j/ycHWLXAj2P3zuMylzBfY/qk4atgkD9j+6XyJkFwH2P4L/dRCn//U/7qhqn27+9T+GdpNl7fz1P/tbr03v+fU/Gto7krL19T9iX3lWXO/1PwBolw++6vU/sFa5TY/n9T9pBXjBieP1Pyv7c8ki3vU/b1CQwIvZ9T8Xu7GjLdf1P6Lsn34d1fU/xkv3tj3S9T9a7dN1AM/1P0KtpMPAyfU/0pXDztbD9T8O1qZ7PL71P6OiR+30ufU/teuxJ6O19T/q2SPvErb1Pw5Us3J6r/U/zqyYsAms9T9O0FSrjaj1P2FlUK26pfU/1eh8A2uf9T9Kzja6q5v1P7nfu+YllvU/mFPxZi+R9T9OqYDh7Iv1P46QXE4uhfU/4sxXA35/9T+GLdsuIHj1P9qK6EavcPU/LVoDhJNq9T/6phXhQWH1P4p/xJOyV/U/oiPxIRdP9T/LJBzY+UX1Pzt0AtZDPfU/h6sGJaQy9T8fijP39Sj1PxxD96RVIPU/RYTQYUIZ9T+DTYHNmhH1PzVDkb5FCvU/8pIMCJYD9T9T+2eAvvv0P+6oA+Ai9PQ/k4JPrPDu9D/nuEJyRuv0P4WJoqGO5vQ/CxnUUCLj9D+B08eOad/0PyoUP7SI2/Q/XFg4CM7Y9D8VTOE6SNn0P1+SzwUC2/Q/UbKZw/ja9D+M6AMZk9r0P0CpCD6z2vQ/G3Ph8Ive9D9jAEnLCuL0PyL+CxZO5PQ/oP0/3cfn9D/GP56V8O30P8LXK6vF8vQ/C8xp4QH69D+ei/OlwgH1PwrEE0HLCfU/3Dbe0E8T9T8IUFFOyBz1Pyi7nqF+JvU/C3jBdLIv9T82uyt42zb1Py8XQuhaQvU/bf2wlAtO9T93Xe4061j1P7zi7iO2ZPU/0ndwiYlv9T8R7GDy6nv1PznJGf8rh/U/r/GwhZyR9T/H9e+rvZz1P5YWNYkuq/U/BmV1tL659T9sABi86MT1P1KLJ2al0PU/2xpjMBTc9T/hTQfmUOf1P/yc93Nr8fU/rtTuNL8A9j/f2hzQPAz2P5TnrKShGPY/iXkiSdUk9j83DZZpgy/2PywKte+jO/Y/1kJibw9H9j+N1igQ01X2P544wNUTZPY/rBkHrG1u9j+J1F1UQXv2P5K2b8PThPY/6J4cWzaR9j8TZdwvq532P9ugwmFrqPY/fQiT7UCx9j++ETVyx732PznjuT40x/Y//b/vi/7M9j8glSHLn9X2P2JqE1q83PY/4npmaWvn9j9sSNPPGe72PwwvkrRD+PY/OqF0/8r/9j953BPyLAr3PwKE1t7FFvc/CrZtjE8f9z+HYwCiKyr3P66lJ9RXNPc/qB7p30c+9z8PZUXdVEr3P21PFPx4VPc/5oN4L1Rc9z8SiVTFRGP3P+7tiQHXcPc/bZd5Nxl69z/tCoQOJYP3PzpbSCinkfc/4eEZqNKd9z+DdZ2F0qb3P3rC5CbWtPc/wSZxHjrB9z/info2I873P752x33z2/c/h8VNk7rn9z9SOsjHXvP3P5srC0u//Pc/HrN1mDwI+D8NwL/nfxf4P6OM9uRbIvg/8hES+Lcx+D9ew8fxUz74PyD4422RSfg/9xc9vuFW+D8+cjrVbmb4Pza9V98Sc/g/xlBdK11/+D+O/PltEZD4PxG2zJ1Qnfg/ojgQbris+D9Oi8hOKrP4P/va8eEtvPg/Yvtn857K+D9KNFjoItv4P7EqovRr4fg/c6hd3/nl+D9yIP0FnO34Pxy7a20t+fg/+tkPq20E+T/yrwX3CBD5P0qnZ99DFfk/1gQ9GI4f+T+grduPJSf5P/ROXf6KM/k/OKEZ8Uo9+T/uCcFb1kT5P2bGC+yXTfk/Wepq2YFV+T8QJMyxRF/5P38yNBVFYfk/ET5+BxVg+T+OEw3JGmf5P8KP7awlafk/GiiqtFdr+T+ykjuzoGX5PzkSNfciYfk/K1qitxZc+T/MxzW6MVX5P4IkSrxHTfk/Sgwt5ElF+T9VErgnzEP5PxPAPwvTPfk/MPFAiNI8+T+vd1q4pTb5P3ZT44+pMvk//WC3j3Mm+T8fWHpSmRH5P/9nSWF0Dfk/fVqBKAYO+T/e5+DZOwr5PzW6pww7Cvk/Zt+of8AN+T+Dv7o2vQP5P64F4wwk+fg/FrElht36+D/2p39Wof34P3wIWwmmAvk/uHfPiSwA+T+uS1myfPT4P86qhQ0n8vg/Sar+M7f4+D8+/BueIfP4P7IyeBpP9vg/aLSLfET2+D+9fNuSAPT4P6YwMgWq+fg/LM+ZYQj7+D8blOCEWvr4P01r5nrE+vg/2vkmH4UA+T8pxrl/rwn5P9AiuFIPCPk/MkXjRJQM+T8C//IyOBD5P8F7EYUrHfk/8kyU76Ir+T+f5NtFfjb5Pzmt27B/Qfk/Xwj8n6pN+T+u3M10blb5P+PZF4yQW/k/M2m8sThf+T+6WxIr2175P44xA2C2XPk/pU7LE+VZ+T9u51gF41z5P4Q4EmTdafk/v35KKP9j+T9Ctl1P81n5P6ywnSDbU/k/e5FWfBtO+T/JqT0ih0P5P2kSIeJeP/k/SjfXLbw7+T+kWH43ojD5Pz9vqw+TJPk/AvgRKkQU+T/p/ky0NQX5P6BHYcqG//g/z5SFvPTw+D9NWJTdAt74P1JPP1mv0vg/vm8hjSLB+D9ReehZnq74P0/mM5jgmvg/4m6e+tOF+D/c5Mm5bHP4P0KKBZ/oWfg/v6Y/e8pB+D9tL/7bWyn4P2VmjIVXDvg/zpirReT69z9WmuOd1eT3P2L2Todgy/c/AHkiE+eu9z/7tbAU+ZP3Pz7ev3SLd/c/goAVzr5g9z8zKxKNUUX3P0oie1gkLPc/vhg/qfAU9z8exRBOnwL3PyK/268/7PY/777GWiTh9j+ONgyFt9H2PzsDfuh6xfY/Rnk0REC79j+mifzn8rD2P2aMzhPfpPY//kvB+MWZ9j/LHnw5T4/2P2WcNQOdh/Y/DxjPeu6B9j+EyYehj3r2Pz2xl9Twc/Y/FC3VYPFv9j9e/3eEfmv2P1oDuvDiaPY/OY91uWVm9j9aKg6UUWD2P+hWeXW/WfY/HzqB4exW9j8mD21felL2Pysemo5zTfY/8pVVyrNK9j9jwAW+REn2P4sH971rR/Y/57l5fWNM9j+308VvfVD2PyGpQfvCU/Y/tvRN+stX9j++Fln0gFj2P9foOHPjWvY/rIpChYdg9j91xxYo4Gz2Py1zJtaxbPY/nXvjcYZx9j9ak6cqbHH2P8tq3a+LdfY/2Vwh6Mp/9j/P3dwnvX/2PxiXsipZfvY/BgYeUBSA9j8c7iuDnnz2P9amyeXRevY/8JwW7TZ19j+vb2R6W2n2P+AJ2h1OZfY/6zvMDWJh9j+80wWghlv2P/rsGMpTWfY/sC3zsK1S9j/sFQbF2Ev2P1T4PV0RQ/Y/6161zBk89j91tzllpjD2P3OfqYUMK/Y//ghxdfIg9j8wTGf0TRr2PzwV5p/4FPY/9bZRfdUO9j9i3IyRTgX2P705gTN4AvY/cPNhYNsG9j82u+gkmAz2P2LJjTwFBPY/VlctByn99T+tUgdhwP/1P715HzXrAfY/YSAaV1cF9j9M8aNitwj2P0k6iyic//U/RosAtnr59T+aGhvj5wD2P2r+szu/9vU/HYrNBB3z9T/OTtx+HPL1P7JjCruz7/U/gQCZsLzt9T8SdgnmvPP1P3ddfLLY8PU/n2+avmL+9T/eUxL6/gz2P3PSiteBGvY/GM26mtsm9j9cdyKl2Cb2PyH9A0lAKfY/OByu3Uw59j93JQCY3D32P5klo+xzQfY/7aWbVGBF9j88l3I8qUr2P1p/JjzBUPY/AvAGNepb9j+SWaJ45mj2Pzqq37rlc/Y/kBeac1R99j8KS+VQI4j2P06YA+wYkfY/n13VGgKe9j/BszR2d6b2Py5R6+VkuvY/YRnVJ6PA9j+5Q8rDSbr2P3rHYfnbtvY/bxhEV9nJ9j87cQcgmNT2P6qf9dPK2fY//zo7XVjd9j/dIE7c09/2P2fNye4z4fY/F9m/jnTt9j84Ks03Qvb2P8JiWS1z9PY/CgsfODH99j/mss7RGwj3PyxqeB68EPc/Bmg8ACAb9z/C+KnBFiX3P++ugVONIfc/OgBgk3Ep9z/Hat3sEiT3PxZK7LXJHfc/5fRincYX9z+OBHj2fxP3P2pc9JDaHfc/kZ5j988r9z+Nis6owST3P1LxJbzZKfc/3E9K6oMy9z+mmbS+Wjj3P06hwH5BP/c/RsLEFqRA9z/eSng5SD73P2cgWgIyOvc/BkyWyHM69z/9F9Sn8jb3P4YRdOS6N/c/AgnqIYY29z8O/y1OyjL3P231Rvj0LPc/WgCp554Z9z8rNs/i6Az3P8U0rTdkA/c/bjb0Saz/9j8lSZBM4PD2P1YMP8Zx6fY/bz7d+hzc9j8NyUGFDM/2P2dYHNSSwvY/RUaqlvaX9j85Ml0qfIv2PzUwcjBaf/Y/rgMlEw9x9j/xDYQ5MGP2P8LpfKFkVPY/EbpoZ2ZE9j/uri9SezX2P7xJV0xkJvY/u96tOowW9j9K0Liplwf2P9/DgwMM+PU/Mhr6dFjm9T+Hyx4KRNb1PxNpBO09xvU/WkD+J3639T+W7iMCl6X1P461gY/alfU/VWntQbKE9T8cfTErlHH1P3onUQWkXfU/WJX0WEJL9T+QSCn8Ajz1P88tphYqLvU/iDEDTpMd9T89XndUNw31P/6ZBhD9/vQ/K5em7oju9D82X5GVAdr0P4pp3SEHxfQ/AMeRj+S29D/hTrYnCqr0P+sdq5p+oPQ/rMByo4ya9D/rcVi874n0PxJUX8uJdfQ/krik+Whh9D+eVMDy+FD0P4akDmuwP/Q/p5DeLnUy9D/1o2iigT/0P+aquZSHK/Q/pXDXaGkd9D9LSOIXdQ/0PwGzix6/AfQ/1lB6mBz18z/2ngVs2ejzP3hrxYxh2/M/ZHfFgoTK8z/xgLFjf77zPyvEmuxmsfM/VqCmUaih8z+1wRwrfpnzP7GXlmNLj/M/mBgnXamH8z+yNOjhDX3zP44DCcDjdPM/hg4lZoRq8z+2i4avL2PzP3McC8rrWvM/BeLk4q5T8z/ldY4mXk3zP/DLX3mBRfM/o4MrTjA/8z+KMl/Q7TrzP4xDeGlNNfM//y9WPzMx8z/sSrnA7SvzPwyeqSOKLPM/m8qEc1Av8z9jZr5ddTPzPxWX+N7HOPM/PUDMIj878z/ORGYm1T7zP9cNGvSNQvM/i4dRLQRN8z/aPR2l7VXzP1K1PJlzW/M/DRWVoJdk8z8sExUS82rzPybj2/I2dfM/eO0rrOWB8z/H2KhuJYfzP3e8ZeBtj/M/Kch5x7CW8z9iOBGccJ/zP6aktH1sp/M/RnaUcSmw8z+avmNmgb3zPzD3eQSpxvM/+Zt7iibS8z+NHcNWet/zP4WKPR4W6fM/mgcknTzy8z8TKIuVDvjzPwvsq0ZKAvQ/7owgB8kM9D+daj1Esxj0PzEXTN+4I/Q/dZxq8gcw9D82RSNfvDz0P7I2G43HRfQ/dNYF/GNQ9D9UIREYnVr0P5kZwl0gZfQ/bHiHhJFw9D8Ce7bpF3v0P7AX8r64ifQ/Pr51uZ6V9D+7wUStjqH0P2U+X6VeqfQ/4iC1Tjiz9D9vtPE1m7/0P5lKnZTVyfQ/w6YnI1/T9D+eTDrJLtv0PyKaQFpT5fQ/AAAAAAAA+H8AAAAAAAD4fwAAAAAAAPh/AAAAAAAA+H8AAAAAAAD4fwAAAAAAAPh/AAAAAAAA+H8AAAAAAAD4fwAAAAAAAPh/AAAAAAAA+H8AAAAAAAD4fwAAAAAAAPh/AAAAAAAA+H8AAAAAAAD4fwAAAAAAAPh/AAAAAAAA+H8AAAAAAAD4fwAAAAAAAPh/AAAAAAAA+H8=",
          "dtype": "f8"
         },
         "yaxis": "y4"
        }
       ],
       "layout": {
        "annotations": [
         {
          "font": {
           "size": 16
          },
          "showarrow": false,
          "text": "Distance vs Frame Index",
          "x": 0.225,
          "xanchor": "center",
          "xref": "paper",
          "y": 1,
          "yanchor": "bottom",
          "yref": "paper"
         },
         {
          "font": {
           "size": 16
          },
          "showarrow": false,
          "text": "Distance vs Time",
          "x": 0.775,
          "xanchor": "center",
          "xref": "paper",
          "y": 1,
          "yanchor": "bottom",
          "yref": "paper"
         },
         {
          "font": {
           "size": 16
          },
          "showarrow": false,
          "text": "Distance Distribution",
          "x": 0.225,
          "xanchor": "center",
          "xref": "paper",
          "y": 0.375,
          "yanchor": "bottom",
          "yref": "paper"
         },
         {
          "font": {
           "size": 16
          },
          "showarrow": false,
          "text": "Distance Trends",
          "x": 0.775,
          "xanchor": "center",
          "xref": "paper",
          "y": 0.375,
          "yanchor": "bottom",
          "yref": "paper"
         },
         {
          "showarrow": false,
          "text": "Mean: 1.40meters",
          "x": 1.399916742605283,
          "xanchor": "left",
          "xref": "x3",
          "y": 1,
          "yanchor": "top",
          "yref": "y3 domain"
         }
        ],
        "height": 800,
        "shapes": [
         {
          "line": {
           "color": "red",
           "dash": "dash"
          },
          "type": "line",
          "x0": 1.399916742605283,
          "x1": 1.399916742605283,
          "xref": "x3",
          "y0": 0,
          "y1": 1,
          "yref": "y3 domain"
         }
        ],
        "showlegend": true,
        "template": {
         "data": {
          "bar": [
           {
            "error_x": {
             "color": "#2a3f5f"
            },
            "error_y": {
             "color": "#2a3f5f"
            },
            "marker": {
             "line": {
              "color": "#E5ECF6",
              "width": 0.5
             },
             "pattern": {
              "fillmode": "overlay",
              "size": 10,
              "solidity": 0.2
             }
            },
            "type": "bar"
           }
          ],
          "barpolar": [
           {
            "marker": {
             "line": {
              "color": "#E5ECF6",
              "width": 0.5
             },
             "pattern": {
              "fillmode": "overlay",
              "size": 10,
              "solidity": 0.2
             }
            },
            "type": "barpolar"
           }
          ],
          "carpet": [
           {
            "aaxis": {
             "endlinecolor": "#2a3f5f",
             "gridcolor": "white",
             "linecolor": "white",
             "minorgridcolor": "white",
             "startlinecolor": "#2a3f5f"
            },
            "baxis": {
             "endlinecolor": "#2a3f5f",
             "gridcolor": "white",
             "linecolor": "white",
             "minorgridcolor": "white",
             "startlinecolor": "#2a3f5f"
            },
            "type": "carpet"
           }
          ],
          "choropleth": [
           {
            "colorbar": {
             "outlinewidth": 0,
             "ticks": ""
            },
            "type": "choropleth"
           }
          ],
          "contour": [
           {
            "colorbar": {
             "outlinewidth": 0,
             "ticks": ""
            },
            "colorscale": [
             [
              0,
              "#0d0887"
             ],
             [
              0.1111111111111111,
              "#46039f"
             ],
             [
              0.2222222222222222,
              "#7201a8"
             ],
             [
              0.3333333333333333,
              "#9c179e"
             ],
             [
              0.4444444444444444,
              "#bd3786"
             ],
             [
              0.5555555555555556,
              "#d8576b"
             ],
             [
              0.6666666666666666,
              "#ed7953"
             ],
             [
              0.7777777777777778,
              "#fb9f3a"
             ],
             [
              0.8888888888888888,
              "#fdca26"
             ],
             [
              1,
              "#f0f921"
             ]
            ],
            "type": "contour"
           }
          ],
          "contourcarpet": [
           {
            "colorbar": {
             "outlinewidth": 0,
             "ticks": ""
            },
            "type": "contourcarpet"
           }
          ],
          "heatmap": [
           {
            "colorbar": {
             "outlinewidth": 0,
             "ticks": ""
            },
            "colorscale": [
             [
              0,
              "#0d0887"
             ],
             [
              0.1111111111111111,
              "#46039f"
             ],
             [
              0.2222222222222222,
              "#7201a8"
             ],
             [
              0.3333333333333333,
              "#9c179e"
             ],
             [
              0.4444444444444444,
              "#bd3786"
             ],
             [
              0.5555555555555556,
              "#d8576b"
             ],
             [
              0.6666666666666666,
              "#ed7953"
             ],
             [
              0.7777777777777778,
              "#fb9f3a"
             ],
             [
              0.8888888888888888,
              "#fdca26"
             ],
             [
              1,
              "#f0f921"
             ]
            ],
            "type": "heatmap"
           }
          ],
          "histogram": [
           {
            "marker": {
             "pattern": {
              "fillmode": "overlay",
              "size": 10,
              "solidity": 0.2
             }
            },
            "type": "histogram"
           }
          ],
          "histogram2d": [
           {
            "colorbar": {
             "outlinewidth": 0,
             "ticks": ""
            },
            "colorscale": [
             [
              0,
              "#0d0887"
             ],
             [
              0.1111111111111111,
              "#46039f"
             ],
             [
              0.2222222222222222,
              "#7201a8"
             ],
             [
              0.3333333333333333,
              "#9c179e"
             ],
             [
              0.4444444444444444,
              "#bd3786"
             ],
             [
              0.5555555555555556,
              "#d8576b"
             ],
             [
              0.6666666666666666,
              "#ed7953"
             ],
             [
              0.7777777777777778,
              "#fb9f3a"
             ],
             [
              0.8888888888888888,
              "#fdca26"
             ],
             [
              1,
              "#f0f921"
             ]
            ],
            "type": "histogram2d"
           }
          ],
          "histogram2dcontour": [
           {
            "colorbar": {
             "outlinewidth": 0,
             "ticks": ""
            },
            "colorscale": [
             [
              0,
              "#0d0887"
             ],
             [
              0.1111111111111111,
              "#46039f"
             ],
             [
              0.2222222222222222,
              "#7201a8"
             ],
             [
              0.3333333333333333,
              "#9c179e"
             ],
             [
              0.4444444444444444,
              "#bd3786"
             ],
             [
              0.5555555555555556,
              "#d8576b"
             ],
             [
              0.6666666666666666,
              "#ed7953"
             ],
             [
              0.7777777777777778,
              "#fb9f3a"
             ],
             [
              0.8888888888888888,
              "#fdca26"
             ],
             [
              1,
              "#f0f921"
             ]
            ],
            "type": "histogram2dcontour"
           }
          ],
          "mesh3d": [
           {
            "colorbar": {
             "outlinewidth": 0,
             "ticks": ""
            },
            "type": "mesh3d"
           }
          ],
          "parcoords": [
           {
            "line": {
             "colorbar": {
              "outlinewidth": 0,
              "ticks": ""
             }
            },
            "type": "parcoords"
           }
          ],
          "pie": [
           {
            "automargin": true,
            "type": "pie"
           }
          ],
          "scatter": [
           {
            "fillpattern": {
             "fillmode": "overlay",
             "size": 10,
             "solidity": 0.2
            },
            "type": "scatter"
           }
          ],
          "scatter3d": [
           {
            "line": {
             "colorbar": {
              "outlinewidth": 0,
              "ticks": ""
             }
            },
            "marker": {
             "colorbar": {
              "outlinewidth": 0,
              "ticks": ""
             }
            },
            "type": "scatter3d"
           }
          ],
          "scattercarpet": [
           {
            "marker": {
             "colorbar": {
              "outlinewidth": 0,
              "ticks": ""
             }
            },
            "type": "scattercarpet"
           }
          ],
          "scattergeo": [
           {
            "marker": {
             "colorbar": {
              "outlinewidth": 0,
              "ticks": ""
             }
            },
            "type": "scattergeo"
           }
          ],
          "scattergl": [
           {
            "marker": {
             "colorbar": {
              "outlinewidth": 0,
              "ticks": ""
             }
            },
            "type": "scattergl"
           }
          ],
          "scattermap": [
           {
            "marker": {
             "colorbar": {
              "outlinewidth": 0,
              "ticks": ""
             }
            },
            "type": "scattermap"
           }
          ],
          "scattermapbox": [
           {
            "marker": {
             "colorbar": {
              "outlinewidth": 0,
              "ticks": ""
             }
            },
            "type": "scattermapbox"
           }
          ],
          "scatterpolar": [
           {
            "marker": {
             "colorbar": {
              "outlinewidth": 0,
              "ticks": ""
             }
            },
            "type": "scatterpolar"
           }
          ],
          "scatterpolargl": [
           {
            "marker": {
             "colorbar": {
              "outlinewidth": 0,
              "ticks": ""
             }
            },
            "type": "scatterpolargl"
           }
          ],
          "scatterternary": [
           {
            "marker": {
             "colorbar": {
              "outlinewidth": 0,
              "ticks": ""
             }
            },
            "type": "scatterternary"
           }
          ],
          "surface": [
           {
            "colorbar": {
             "outlinewidth": 0,
             "ticks": ""
            },
            "colorscale": [
             [
              0,
              "#0d0887"
             ],
             [
              0.1111111111111111,
              "#46039f"
             ],
             [
              0.2222222222222222,
              "#7201a8"
             ],
             [
              0.3333333333333333,
              "#9c179e"
             ],
             [
              0.4444444444444444,
              "#bd3786"
             ],
             [
              0.5555555555555556,
              "#d8576b"
             ],
             [
              0.6666666666666666,
              "#ed7953"
             ],
             [
              0.7777777777777778,
              "#fb9f3a"
             ],
             [
              0.8888888888888888,
              "#fdca26"
             ],
             [
              1,
              "#f0f921"
             ]
            ],
            "type": "surface"
           }
          ],
          "table": [
           {
            "cells": {
             "fill": {
              "color": "#EBF0F8"
             },
             "line": {
              "color": "white"
             }
            },
            "header": {
             "fill": {
              "color": "#C8D4E3"
             },
             "line": {
              "color": "white"
             }
            },
            "type": "table"
           }
          ]
         },
         "layout": {
          "annotationdefaults": {
           "arrowcolor": "#2a3f5f",
           "arrowhead": 0,
           "arrowwidth": 1
          },
          "autotypenumbers": "strict",
          "coloraxis": {
           "colorbar": {
            "outlinewidth": 0,
            "ticks": ""
           }
          },
          "colorscale": {
           "diverging": [
            [
             0,
             "#8e0152"
            ],
            [
             0.1,
             "#c51b7d"
            ],
            [
             0.2,
             "#de77ae"
            ],
            [
             0.3,
             "#f1b6da"
            ],
            [
             0.4,
             "#fde0ef"
            ],
            [
             0.5,
             "#f7f7f7"
            ],
            [
             0.6,
             "#e6f5d0"
            ],
            [
             0.7,
             "#b8e186"
            ],
            [
             0.8,
             "#7fbc41"
            ],
            [
             0.9,
             "#4d9221"
            ],
            [
             1,
             "#276419"
            ]
           ],
           "sequential": [
            [
             0,
             "#0d0887"
            ],
            [
             0.1111111111111111,
             "#46039f"
            ],
            [
             0.2222222222222222,
             "#7201a8"
            ],
            [
             0.3333333333333333,
             "#9c179e"
            ],
            [
             0.4444444444444444,
             "#bd3786"
            ],
            [
             0.5555555555555556,
             "#d8576b"
            ],
            [
             0.6666666666666666,
             "#ed7953"
            ],
            [
             0.7777777777777778,
             "#fb9f3a"
            ],
            [
             0.8888888888888888,
             "#fdca26"
            ],
            [
             1,
             "#f0f921"
            ]
           ],
           "sequentialminus": [
            [
             0,
             "#0d0887"
            ],
            [
             0.1111111111111111,
             "#46039f"
            ],
            [
             0.2222222222222222,
             "#7201a8"
            ],
            [
             0.3333333333333333,
             "#9c179e"
            ],
            [
             0.4444444444444444,
             "#bd3786"
            ],
            [
             0.5555555555555556,
             "#d8576b"
            ],
            [
             0.6666666666666666,
             "#ed7953"
            ],
            [
             0.7777777777777778,
             "#fb9f3a"
            ],
            [
             0.8888888888888888,
             "#fdca26"
            ],
            [
             1,
             "#f0f921"
            ]
           ]
          },
          "colorway": [
           "#636efa",
           "#EF553B",
           "#00cc96",
           "#ab63fa",
           "#FFA15A",
           "#19d3f3",
           "#FF6692",
           "#B6E880",
           "#FF97FF",
           "#FECB52"
          ],
          "font": {
           "color": "#2a3f5f"
          },
          "geo": {
           "bgcolor": "white",
           "lakecolor": "white",
           "landcolor": "#E5ECF6",
           "showlakes": true,
           "showland": true,
           "subunitcolor": "white"
          },
          "hoverlabel": {
           "align": "left"
          },
          "hovermode": "closest",
          "mapbox": {
           "style": "light"
          },
          "paper_bgcolor": "white",
          "plot_bgcolor": "#E5ECF6",
          "polar": {
           "angularaxis": {
            "gridcolor": "white",
            "linecolor": "white",
            "ticks": ""
           },
           "bgcolor": "#E5ECF6",
           "radialaxis": {
            "gridcolor": "white",
            "linecolor": "white",
            "ticks": ""
           }
          },
          "scene": {
           "xaxis": {
            "backgroundcolor": "#E5ECF6",
            "gridcolor": "white",
            "gridwidth": 2,
            "linecolor": "white",
            "showbackground": true,
            "ticks": "",
            "zerolinecolor": "white"
           },
           "yaxis": {
            "backgroundcolor": "#E5ECF6",
            "gridcolor": "white",
            "gridwidth": 2,
            "linecolor": "white",
            "showbackground": true,
            "ticks": "",
            "zerolinecolor": "white"
           },
           "zaxis": {
            "backgroundcolor": "#E5ECF6",
            "gridcolor": "white",
            "gridwidth": 2,
            "linecolor": "white",
            "showbackground": true,
            "ticks": "",
            "zerolinecolor": "white"
           }
          },
          "shapedefaults": {
           "line": {
            "color": "#2a3f5f"
           }
          },
          "ternary": {
           "aaxis": {
            "gridcolor": "white",
            "linecolor": "white",
            "ticks": ""
           },
           "baxis": {
            "gridcolor": "white",
            "linecolor": "white",
            "ticks": ""
           },
           "bgcolor": "#E5ECF6",
           "caxis": {
            "gridcolor": "white",
            "linecolor": "white",
            "ticks": ""
           }
          },
          "title": {
           "x": 0.05
          },
          "xaxis": {
           "automargin": true,
           "gridcolor": "white",
           "linecolor": "white",
           "ticks": "",
           "title": {
            "standoff": 15
           },
           "zerolinecolor": "white",
           "zerolinewidth": 2
          },
          "yaxis": {
           "automargin": true,
           "gridcolor": "white",
           "linecolor": "white",
           "ticks": "",
           "title": {
            "standoff": 15
           },
           "zerolinecolor": "white",
           "zerolinewidth": 2
          }
         }
        },
        "title": {
         "text": "Real-World Distance Analysis"
        },
        "xaxis": {
         "anchor": "y",
         "domain": [
          0,
          0.45
         ],
         "title": {
          "text": "Frame Index"
         }
        },
        "xaxis2": {
         "anchor": "y2",
         "domain": [
          0.55,
          1
         ],
         "title": {
          "text": "Time"
         }
        },
        "xaxis3": {
         "anchor": "y3",
         "domain": [
          0,
          0.45
         ],
         "title": {
          "text": "Distance (meters)"
         }
        },
        "xaxis4": {
         "anchor": "y4",
         "domain": [
          0.55,
          1
         ],
         "title": {
          "text": "Frame Index"
         }
        },
        "yaxis": {
         "anchor": "x",
         "domain": [
          0.625,
          1
         ],
         "title": {
          "text": "Distance (meters)"
         }
        },
        "yaxis2": {
         "anchor": "x2",
         "domain": [
          0.625,
          1
         ],
         "title": {
          "text": "Distance (meters)"
         }
        },
        "yaxis3": {
         "anchor": "x3",
         "domain": [
          0,
          0.375
         ],
         "title": {
          "text": "Frequency"
         }
        },
        "yaxis4": {
         "anchor": "x4",
         "domain": [
          0,
          0.375
         ],
         "title": {
          "text": "Distance (meters)"
         }
        }
       }
      }
     },
     "metadata": {},
     "output_type": "display_data"
    },
    {
     "data": {
      "application/vnd.plotly.v1+json": {
       "config": {
        "plotlyServerURL": "https://plot.ly"
       },
       "data": [
        {
         "line": {
          "color": "blue"
         },
         "mode": "lines+markers",
         "name": "Distance",
         "type": "scatter",
         "x": {
          "bdata": "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",
          "dtype": "i2"
         },
         "xaxis": "x",
         "y": {
          "bdata": "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",
          "dtype": "f8"
         },
         "yaxis": "y"
        },
        {
         "line": {
          "color": "green"
         },
         "mode": "lines+markers",
         "name": "Distance over Time",
         "type": "scatter",
         "x": [
          "2024-08-20T12:16:08.095385790",
          "2024-08-20T12:16:08.156692982",
          "2024-08-20T12:16:08.219524860",
          "2024-08-20T12:16:08.285349369",
          "2024-08-20T12:16:08.348218918",
          "2024-08-20T12:16:08.418995619",
          "2024-08-20T12:16:08.475838661",
          "2024-08-20T12:16:08.545522451",
          "2024-08-20T12:16:08.604363203",
          "2024-08-20T12:16:08.668194294",
          "2024-08-20T12:16:08.738012314",
          "2024-08-20T12:16:08.796479225",
          "2024-08-20T12:16:08.859308958",
          "2024-08-20T12:16:08.929124117",
          "2024-08-20T12:16:08.998935699",
          "2024-08-20T12:16:09.053789139",
          "2024-08-20T12:16:09.317293882",
          "2024-08-20T12:16:09.332246304",
          "2024-08-20T12:16:09.398071289",
          "2024-08-20T12:16:09.444946289",
          "2024-08-20T12:16:09.487864494",
          "2024-08-20T12:16:09.538703918",
          "2024-08-20T12:16:09.594544888",
          "2024-08-20T12:16:09.646440983",
          "2024-08-20T12:16:09.688481331",
          "2024-08-20T12:16:09.747323990",
          "2024-08-20T12:16:09.791205168",
          "2024-08-20T12:16:09.837082386",
          "2024-08-20T12:16:09.885986328",
          "2024-08-20T12:16:10.151277542",
          "2024-08-20T12:16:10.166237116",
          "2024-08-20T12:16:10.220057487",
          "2024-08-20T12:16:10.281892776",
          "2024-08-20T12:16:10.328772068",
          "2024-08-20T12:16:10.372649193",
          "2024-08-20T12:16:10.421150446",
          "2024-08-20T12:16:10.479957104",
          "2024-08-20T12:16:10.525750874",
          "2024-08-20T12:16:10.570657969",
          "2024-08-20T12:16:10.616500139",
          "2024-08-20T12:16:10.677337170",
          "2024-08-20T12:16:10.722884893",
          "2024-08-20T12:16:10.786714554",
          "2024-08-20T12:16:10.852535009",
          "2024-08-20T12:16:10.914369583",
          "2024-08-20T12:16:10.971218109",
          "2024-08-20T12:16:11.038893223",
          "2024-08-20T12:16:11.101723909",
          "2024-08-20T12:16:11.163594007",
          "2024-08-20T12:16:11.230381966",
          "2024-08-20T12:16:11.337513924",
          "2024-08-20T12:16:11.390371799",
          "2024-08-20T12:16:11.447247267",
          "2024-08-20T12:16:11.508056402",
          "2024-08-20T12:16:11.565927744",
          "2024-08-20T12:16:11.628760576",
          "2024-08-20T12:16:11.676606178",
          "2024-08-20T12:16:11.743453979",
          "2024-08-20T12:16:11.804263115",
          "2024-08-20T12:16:11.868093252",
          "2024-08-20T12:16:11.932918787",
          "2024-08-20T12:16:12.010747194",
          "2024-08-20T12:16:12.059581757",
          "2024-08-20T12:16:12.125442743",
          "2024-08-20T12:16:12.191058159",
          "2024-08-20T12:16:12.251457690",
          "2024-08-20T12:16:12.319262266",
          "2024-08-20T12:16:12.381096601",
          "2024-08-20T12:16:12.444440603",
          "2024-08-20T12:16:12.509266852",
          "2024-08-20T12:16:12.573122740",
          "2024-08-20T12:16:12.636775732",
          "2024-08-20T12:16:12.719557524",
          "2024-08-20T12:16:12.782385588",
          "2024-08-20T12:16:12.833288193",
          "2024-08-20T12:16:12.894086123",
          "2024-08-20T12:16:12.958918571",
          "2024-08-20T12:16:13.020746946",
          "2024-08-20T12:16:13.085608482",
          "2024-08-20T12:16:13.150400400",
          "2024-08-20T12:16:13.215255499",
          "2024-08-20T12:16:13.277569056",
          "2024-08-20T12:16:13.341398478",
          "2024-08-20T12:16:13.408219576",
          "2024-08-20T12:16:13.467061996",
          "2024-08-20T12:16:13.534880161",
          "2024-08-20T12:16:13.606726408",
          "2024-08-20T12:16:13.665532112",
          "2024-08-20T12:16:13.725370646",
          "2024-08-20T12:16:13.787713289",
          "2024-08-20T12:16:13.852538347",
          "2024-08-20T12:16:13.928337097",
          "2024-08-20T12:16:13.984186649",
          "2024-08-20T12:16:14.045024872",
          "2024-08-20T12:16:14.109850883",
          "2024-08-20T12:16:14.175674677",
          "2024-08-20T12:16:14.236512661",
          "2024-08-20T12:16:14.305328131",
          "2024-08-20T12:16:14.363680601",
          "2024-08-20T12:16:14.429505348",
          "2024-08-20T12:16:14.491366386",
          "2024-08-20T12:16:14.559155703",
          "2024-08-20T12:16:14.622988224",
          "2024-08-20T12:16:14.683823109",
          "2024-08-20T12:16:14.749647856",
          "2024-08-20T12:16:14.815474033",
          "2024-08-20T12:16:14.942689419",
          "2024-08-20T12:16:14.996544361",
          "2024-08-20T12:16:15.050402403",
          "2024-08-20T12:16:15.096278429",
          "2024-08-20T12:16:15.142211437",
          "2024-08-20T12:16:15.197064161",
          "2024-08-20T12:16:15.259902715",
          "2024-08-20T12:16:15.330705404",
          "2024-08-20T12:16:15.396497011",
          "2024-08-20T12:16:15.454342842",
          "2024-08-20T12:16:15.516176462",
          "2024-08-20T12:16:15.581003189",
          "2024-08-20T12:16:15.645887136",
          "2024-08-20T12:16:15.713536263",
          "2024-08-20T12:16:15.772229433",
          "2024-08-20T12:16:15.839612007",
          "2024-08-20T12:16:15.907465696",
          "2024-08-20T12:16:15.965557575",
          "2024-08-20T12:16:16.028423309",
          "2024-08-20T12:16:16.094249487",
          "2024-08-20T12:16:16.161033869",
          "2024-08-20T12:16:16.221873045",
          "2024-08-20T12:16:16.283735752",
          "2024-08-20T12:16:16.347535372",
          "2024-08-20T12:16:16.413395643",
          "2024-08-20T12:16:16.476192474",
          "2024-08-20T12:16:16.546299696",
          "2024-08-20T12:16:16.629079819",
          "2024-08-20T12:16:16.684929371",
          "2024-08-20T12:16:16.736790419",
          "2024-08-20T12:16:16.798627377",
          "2024-08-20T12:16:16.865446091",
          "2024-08-20T12:16:16.926492929",
          "2024-08-20T12:16:17.003689289",
          "2024-08-20T12:16:17.068026304",
          "2024-08-20T12:16:17.116954088",
          "2024-08-20T12:16:17.180784941",
          "2024-08-20T12:16:17.246645451",
          "2024-08-20T12:16:17.312469959",
          "2024-08-20T12:16:17.371610641",
          "2024-08-20T12:16:17.436438084",
          "2024-08-20T12:16:17.505678176",
          "2024-08-20T12:16:17.700255156",
          "2024-08-20T12:16:17.715215206",
          "2024-08-20T12:16:17.781074524",
          "2024-08-20T12:16:17.826915026",
          "2024-08-20T12:16:17.874336004",
          "2024-08-20T12:16:17.919216871",
          "2024-08-20T12:16:17.978058338",
          "2024-08-20T12:16:18.023938417",
          "2024-08-20T12:16:18.077301979",
          "2024-08-20T12:16:18.153097868",
          "2024-08-20T12:16:18.210949183",
          "2024-08-20T12:16:18.271780491",
          "2024-08-20T12:16:18.342592001",
          "2024-08-20T12:16:18.397445917",
          "2024-08-20T12:16:18.460276127",
          "2024-08-20T12:16:18.524105548",
          "2024-08-20T12:16:18.589965820",
          "2024-08-20T12:16:18.653793812",
          "2024-08-20T12:16:18.720581770",
          "2024-08-20T12:16:18.779474258",
          "2024-08-20T12:16:18.844306469",
          "2024-08-20T12:16:18.908523321",
          "2024-08-20T12:16:18.978335142",
          "2024-08-20T12:16:19.094026089",
          "2024-08-20T12:16:19.159850359",
          "2024-08-20T12:16:19.213402510",
          "2024-08-20T12:16:19.274233818",
          "2024-08-20T12:16:19.335072517",
          "2024-08-20T12:16:19.380311966",
          "2024-08-20T12:16:19.438191414",
          "2024-08-20T12:16:19.486337900",
          "2024-08-20T12:16:19.548173428",
          "2024-08-20T12:16:19.614435673",
          "2024-08-20T12:16:19.677235126",
          "2024-08-20T12:16:19.740064621",
          "2024-08-20T12:16:19.807920456",
          "2024-08-20T12:16:19.871726990",
          "2024-08-20T12:16:19.933547735",
          "2024-08-20T12:16:19.997411728",
          "2024-08-20T12:16:20.060209990",
          "2024-08-20T12:16:20.128026724",
          "2024-08-20T12:16:20.190895081",
          "2024-08-20T12:16:20.252728462",
          "2024-08-20T12:16:20.320512533",
          "2024-08-20T12:16:20.381349087",
          "2024-08-20T12:16:20.450168133",
          "2024-08-20T12:16:20.508009911",
          "2024-08-20T12:16:20.576901436",
          "2024-08-20T12:16:20.640777111",
          "2024-08-20T12:16:20.700568438",
          "2024-08-20T12:16:20.764396906",
          "2024-08-20T12:16:20.831218243",
          "2024-08-20T12:16:20.893592358",
          "2024-08-20T12:16:20.956424236",
          "2024-08-20T12:16:21.034921169",
          "2024-08-20T12:16:21.094760180",
          "2024-08-20T12:16:21.155631542",
          "2024-08-20T12:16:21.211953878",
          "2024-08-20T12:16:21.277812719",
          "2024-08-20T12:16:21.340610743",
          "2024-08-20T12:16:21.405436754",
          "2024-08-20T12:16:21.468268633",
          "2024-08-20T12:16:21.532132626",
          "2024-08-20T12:16:21.595961571",
          "2024-08-20T12:16:21.662785530",
          "2024-08-20T12:16:21.727574587",
          "2024-08-20T12:16:21.788411379",
          "2024-08-20T12:16:21.853240013",
          "2024-08-20T12:16:21.919152498",
          "2024-08-20T12:16:21.979023933",
          "2024-08-20T12:16:22.114965916",
          "2024-08-20T12:16:22.173819304",
          "2024-08-20T12:16:22.189765453",
          "2024-08-20T12:16:22.243622065",
          "2024-08-20T12:16:22.301979542",
          "2024-08-20T12:16:22.372381449",
          "2024-08-20T12:16:22.429226637",
          "2024-08-20T12:16:22.494352818",
          "2024-08-20T12:16:22.558182955",
          "2024-08-20T12:16:22.620466948",
          "2024-08-20T12:16:22.689296246",
          "2024-08-20T12:16:22.750136614",
          "2024-08-20T12:16:22.815995932",
          "2024-08-20T12:16:22.878876448",
          "2024-08-20T12:16:22.939754486",
          "2024-08-20T12:16:23.005537271",
          "2024-08-20T12:16:23.067454815",
          "2024-08-20T12:16:23.136214256",
          "2024-08-20T12:16:23.195904970",
          "2024-08-20T12:16:23.263723372",
          "2024-08-20T12:16:23.326404095",
          "2024-08-20T12:16:23.392229080",
          "2024-08-20T12:16:23.451071978",
          "2024-08-20T12:16:23.517899752",
          "2024-08-20T12:16:23.584714890",
          "2024-08-20T12:16:23.644552946",
          "2024-08-20T12:16:23.710378170",
          "2024-08-20T12:16:23.774206638",
          "2024-08-20T12:16:23.837038994",
          "2024-08-20T12:16:23.902899265",
          "2024-08-20T12:16:23.966692924",
          "2024-08-20T12:16:24.029523611",
          "2024-08-20T12:16:24.098378658",
          "2024-08-20T12:16:24.156186581",
          "2024-08-20T12:16:24.222009897",
          "2024-08-20T12:16:24.301798344",
          "2024-08-20T12:16:24.350664854",
          "2024-08-20T12:16:24.414499998",
          "2024-08-20T12:16:24.476333618",
          "2024-08-20T12:16:24.540163040",
          "2024-08-20T12:16:24.607981682",
          "2024-08-20T12:16:24.672324657",
          "2024-08-20T12:16:24.734939814",
          "2024-08-20T12:16:24.796520472",
          "2024-08-20T12:16:24.859352112",
          "2024-08-20T12:16:24.924237728",
          "2024-08-20T12:16:24.991036892",
          "2024-08-20T12:16:25.055827379",
          "2024-08-20T12:16:25.168562651",
          "2024-08-20T12:16:25.223378658",
          "2024-08-20T12:16:25.277269363",
          "2024-08-20T12:16:25.347047329",
          "2024-08-20T12:16:25.397949219",
          "2024-08-20T12:16:25.447778225",
          "2024-08-20T12:16:25.513601541",
          "2024-08-20T12:16:25.567355394",
          "2024-08-20T12:16:25.628190517",
          "2024-08-20T12:16:25.692020416",
          "2024-08-20T12:16:25.755885124",
          "2024-08-20T12:16:25.819678545",
          "2024-08-20T12:16:25.886539221",
          "2024-08-20T12:16:25.949131489",
          "2024-08-20T12:16:26.013958454",
          "2024-08-20T12:16:26.078693628",
          "2024-08-20T12:16:26.143519640",
          "2024-08-20T12:16:26.205090284",
          "2024-08-20T12:16:26.268921852",
          "2024-08-20T12:16:26.334743023",
          "2024-08-20T12:16:26.396163225",
          "2024-08-20T12:16:26.459990978",
          "2024-08-20T12:16:26.530802965",
          "2024-08-20T12:16:26.590641975",
          "2024-08-20T12:16:26.654471159",
          "2024-08-20T12:16:26.718213081",
          "2024-08-20T12:16:26.786028862",
          "2024-08-20T12:16:26.843874216",
          "2024-08-20T12:16:26.908700466",
          "2024-08-20T12:16:26.972530365",
          "2024-08-20T12:16:27.043340445",
          "2024-08-20T12:16:27.102183580",
          "2024-08-20T12:16:27.164018154",
          "2024-08-20T12:16:27.273385286",
          "2024-08-20T12:16:27.321257830",
          "2024-08-20T12:16:27.382095575",
          "2024-08-20T12:16:27.427971363",
          "2024-08-20T12:16:27.504765749",
          "2024-08-20T12:16:27.548648357",
          "2024-08-20T12:16:27.615473986",
          "2024-08-20T12:16:27.676312208",
          "2024-08-20T12:16:27.740140438",
          "2024-08-20T12:16:27.806761503",
          "2024-08-20T12:16:27.870623589",
          "2024-08-20T12:16:27.933420897",
          "2024-08-20T12:16:28.003234625",
          "2024-08-20T12:16:28.061078548",
          "2024-08-20T12:16:28.154828310",
          "2024-08-20T12:16:28.206448078",
          "2024-08-20T12:16:28.264327048",
          "2024-08-20T12:16:28.316189289",
          "2024-08-20T12:16:28.379982948",
          "2024-08-20T12:16:28.446804285",
          "2024-08-20T12:16:28.509667157",
          "2024-08-20T12:16:28.573464155",
          "2024-08-20T12:16:28.638877630",
          "2024-08-20T12:16:28.701742649",
          "2024-08-20T12:16:28.765537739",
          "2024-08-20T12:16:28.830366611",
          "2024-08-20T12:16:28.892197847",
          "2024-08-20T12:16:28.956026554",
          "2024-08-20T12:16:29.024352551",
          "2024-08-20T12:16:29.086186409",
          "2024-08-20T12:16:29.151012659",
          "2024-08-20T12:16:29.212503910",
          "2024-08-20T12:16:29.280323029",
          "2024-08-20T12:16:29.348139763",
          "2024-08-20T12:16:29.406981945",
          "2024-08-20T12:16:29.469735146",
          "2024-08-20T12:16:29.531569481",
          "2024-08-20T12:16:29.597393990",
          "2024-08-20T12:16:29.661501169",
          "2024-08-20T12:16:29.723593950",
          "2024-08-20T12:16:29.789381266",
          "2024-08-20T12:16:29.854513884",
          "2024-08-20T12:16:29.924432278",
          "2024-08-20T12:16:29.982328653",
          "2024-08-20T12:16:30.045651436",
          "2024-08-20T12:16:30.110443592",
          "2024-08-20T12:16:30.171280146",
          "2024-08-20T12:16:30.236106157",
          "2024-08-20T12:16:30.305918694",
          "2024-08-20T12:16:30.364761829",
          "2024-08-20T12:16:30.428591251",
          "2024-08-20T12:16:30.493417263",
          "2024-08-20T12:16:30.556249619",
          "2024-08-20T12:16:30.626084566",
          "2024-08-20T12:16:30.687896252",
          "2024-08-20T12:16:30.806614637",
          "2024-08-20T12:16:30.871407032",
          "2024-08-20T12:16:30.929253340",
          "2024-08-20T12:16:30.978122473",
          "2024-08-20T12:16:31.036021948",
          "2024-08-20T12:16:31.096859932",
          "2024-08-20T12:16:31.140511751",
          "2024-08-20T12:16:31.200352907",
          "2024-08-20T12:16:31.266175031",
          "2024-08-20T12:16:31.326369762",
          "2024-08-20T12:16:31.388169289",
          "2024-08-20T12:16:31.455027103",
          "2024-08-20T12:16:31.519330978",
          "2024-08-20T12:16:31.580135584",
          "2024-08-20T12:16:31.645958900",
          "2024-08-20T12:16:31.710784674",
          "2024-08-20T12:16:31.771656752",
          "2024-08-20T12:16:31.838446140",
          "2024-08-20T12:16:31.907258987",
          "2024-08-20T12:16:31.967431068",
          "2024-08-20T12:16:32.028268576",
          "2024-08-20T12:16:32.099089384",
          "2024-08-20T12:16:32.160914183",
          "2024-08-20T12:16:32.224743605",
          "2024-08-20T12:16:32.285583258",
          "2024-08-20T12:16:32.347416162",
          "2024-08-20T12:16:32.428202152",
          "2024-08-20T12:16:32.476071596",
          "2024-08-20T12:16:32.548875332",
          "2024-08-20T12:16:32.606748343",
          "2024-08-20T12:16:32.667106867",
          "2024-08-20T12:16:32.732671499",
          "2024-08-20T12:16:32.799492836",
          "2024-08-20T12:16:32.863267422",
          "2024-08-20T12:16:32.924104929",
          "2024-08-20T12:16:32.987934113",
          "2024-08-20T12:16:33.078692436",
          "2024-08-20T12:16:33.135137796",
          "2024-08-20T12:16:33.180017233",
          "2024-08-20T12:16:33.244468451",
          "2024-08-20T12:16:33.311290979",
          "2024-08-20T12:16:33.380610704",
          "2024-08-20T12:16:33.443478823",
          "2024-08-20T12:16:33.507271767",
          "2024-08-20T12:16:33.565117121",
          "2024-08-20T12:16:33.627983570",
          "2024-08-20T12:16:33.694771528",
          "2024-08-20T12:16:33.756604671",
          "2024-08-20T12:16:33.819472075",
          "2024-08-20T12:16:33.884301901",
          "2024-08-20T12:16:33.951085329",
          "2024-08-20T12:16:34.015942812",
          "2024-08-20T12:16:34.082733870",
          "2024-08-20T12:16:34.139580965",
          "2024-08-20T12:16:34.205641747",
          "2024-08-20T12:16:34.278481722",
          "2024-08-20T12:16:34.334296465",
          "2024-08-20T12:16:34.397128344",
          "2024-08-20T12:16:34.459961653",
          "2024-08-20T12:16:34.528776169",
          "2024-08-20T12:16:34.589202642",
          "2024-08-20T12:16:34.657021523",
          "2024-08-20T12:16:34.721847773",
          "2024-08-20T12:16:34.779693127",
          "2024-08-20T12:16:34.845558167",
          "2024-08-20T12:16:34.909351110",
          "2024-08-20T12:16:34.978670359",
          "2024-08-20T12:16:35.036588907",
          "2024-08-20T12:16:35.100418568",
          "2024-08-20T12:16:35.166277170",
          "2024-08-20T12:16:35.229074240",
          "2024-08-20T12:16:35.294898033",
          "2024-08-20T12:16:35.396627426",
          "2024-08-20T12:16:35.470429659",
          "2024-08-20T12:16:35.533899546",
          "2024-08-20T12:16:35.587755442",
          "2024-08-20T12:16:35.633633852",
          "2024-08-20T12:16:35.681555748",
          "2024-08-20T12:16:35.740349770",
          "2024-08-20T12:16:35.804176807",
          "2024-08-20T12:16:35.874988794",
          "2024-08-20T12:16:35.934828758",
          "2024-08-20T12:16:35.996936798",
          "2024-08-20T12:16:36.061763048",
          "2024-08-20T12:16:36.124597549",
          "2024-08-20T12:16:36.188092709",
          "2024-08-20T12:16:36.251937628",
          "2024-08-20T12:16:36.319757462",
          "2024-08-20T12:16:36.380624533",
          "2024-08-20T12:16:36.445451021",
          "2024-08-20T12:16:36.510277748",
          "2024-08-20T12:16:36.584500551",
          "2024-08-20T12:16:36.644340515",
          "2024-08-20T12:16:36.701697350",
          "2024-08-20T12:16:36.767521858",
          "2024-08-20T12:16:36.828392982",
          "2024-08-20T12:16:36.892188311",
          "2024-08-20T12:16:36.961858511",
          "2024-08-20T12:16:37.025690794",
          "2024-08-20T12:16:37.085562944",
          "2024-08-20T12:16:37.149357319",
          "2024-08-20T12:16:37.213186264",
          "2024-08-20T12:16:37.277015924",
          "2024-08-20T12:16:37.340923786",
          "2024-08-20T12:16:37.405789852",
          "2024-08-20T12:16:37.469618082",
          "2024-08-20T12:16:37.531413078",
          "2024-08-20T12:16:37.596240282",
          "2024-08-20T12:16:37.662063360",
          "2024-08-20T12:16:37.726890802",
          "2024-08-20T12:16:37.787763119",
          "2024-08-20T12:16:37.855547428",
          "2024-08-20T12:16:37.917381525",
          "2024-08-20T12:16:37.981212378",
          "2024-08-20T12:16:38.046036482",
          "2024-08-20T12:16:38.109570980",
          "2024-08-20T12:16:38.174366713",
          "2024-08-20T12:16:38.235985994",
          "2024-08-20T12:16:38.301046133",
          "2024-08-20T12:16:38.363903999",
          "2024-08-20T12:16:38.431695938",
          "2024-08-20T12:16:38.492533445",
          "2024-08-20T12:16:38.559354544",
          "2024-08-20T12:16:38.626209259",
          "2024-08-20T12:16:38.685063124",
          "2024-08-20T12:16:38.749844551",
          "2024-08-20T12:16:38.819657564",
          "2024-08-20T12:16:38.881402731",
          "2024-08-20T12:16:38.941209078",
          "2024-08-20T12:16:39.004039526",
          "2024-08-20T12:16:39.076845646",
          "2024-08-20T12:16:39.135687113",
          "2024-08-20T12:16:39.195986748",
          "2024-08-20T12:16:39.259816170",
          "2024-08-20T12:16:39.327204943",
          "2024-08-20T12:16:39.386985779",
          "2024-08-20T12:16:39.450998545",
          "2024-08-20T12:16:39.518326283",
          "2024-08-20T12:16:39.581085205",
          "2024-08-20T12:16:39.645912886",
          "2024-08-20T12:16:39.708446026",
          "2024-08-20T12:16:39.772303820",
          "2024-08-20T12:16:39.838095665",
          "2024-08-20T12:16:39.901435614",
          "2024-08-20T12:16:39.965547562",
          "2024-08-20T12:16:40.028379202",
          "2024-08-20T12:16:40.093206644",
          "2024-08-20T12:16:40.157036781",
          "2024-08-20T12:16:40.220864296",
          "2024-08-20T12:16:40.285703659",
          "2024-08-20T12:16:40.347567558",
          "2024-08-20T12:16:40.415346146",
          "2024-08-20T12:16:40.490145683",
          "2024-08-20T12:16:40.540010929",
          "2024-08-20T12:16:40.605837584",
          "2024-08-20T12:16:40.667669058",
          "2024-08-20T12:16:40.736486197",
          "2024-08-20T12:16:40.799316406",
          "2024-08-20T12:16:40.860188723",
          "2024-08-20T12:16:40.924980640",
          "2024-08-20T12:16:40.987322807",
          "2024-08-20T12:16:41.052266598",
          "2024-08-20T12:16:41.116094828",
          "2024-08-20T12:16:41.188935995",
          "2024-08-20T12:16:41.247742176",
          "2024-08-20T12:16:41.311650991",
          "2024-08-20T12:16:41.373488665",
          "2024-08-20T12:16:41.437658548",
          "2024-08-20T12:16:41.507472754",
          "2024-08-20T12:16:41.566313267",
          "2024-08-20T12:16:41.632138252",
          "2024-08-20T12:16:41.696951389",
          "2024-08-20T12:16:41.756791115",
          "2024-08-20T12:16:41.823612928",
          "2024-08-20T12:16:41.885446310",
          "2024-08-20T12:16:41.947316408",
          "2024-08-20T12:16:42.016132832",
          "2024-08-20T12:16:42.075978756",
          "2024-08-20T12:16:42.142799854",
          "2024-08-20T12:16:42.207627058",
          "2024-08-20T12:16:42.267501831",
          "2024-08-20T12:16:42.334329367",
          "2024-08-20T12:16:42.399032593",
          "2024-08-20T12:16:42.460904121",
          "2024-08-20T12:16:42.536894560",
          "2024-08-20T12:16:42.592325926",
          "2024-08-20T12:16:42.652166605",
          "2024-08-20T12:16:42.718005180",
          "2024-08-20T12:16:42.779834986",
          "2024-08-20T12:16:42.843824148",
          "2024-08-20T12:16:42.907660246",
          "2024-08-20T12:16:42.977556467",
          "2024-08-20T12:16:43.037439823",
          "2024-08-20T12:16:43.100963354",
          "2024-08-20T12:16:43.171775341",
          "2024-08-20T12:16:43.229617834",
          "2024-08-20T12:16:43.293076277",
          "2024-08-20T12:16:43.355946779",
          "2024-08-20T12:16:43.420776367",
          "2024-08-20T12:16:43.489561558",
          "2024-08-20T12:16:43.547403097",
          "2024-08-20T12:16:43.651124477",
          "2024-08-20T12:16:43.710998774",
          "2024-08-20T12:16:43.767498255",
          "2024-08-20T12:16:43.824345112",
          "2024-08-20T12:16:43.883220911",
          "2024-08-20T12:16:43.949009657",
          "2024-08-20T12:16:44.006890059",
          "2024-08-20T12:16:44.062737703",
          "2024-08-20T12:16:44.124540567",
          "2024-08-20T12:16:44.189367533",
          "2024-08-20T12:16:44.253229618",
          "2024-08-20T12:16:44.316185713",
          "2024-08-20T12:16:44.379046202",
          "2024-08-20T12:16:44.444174528",
          "2024-08-20T12:16:44.514346600",
          "2024-08-20T12:16:44.572191715",
          "2024-08-20T12:16:44.639078379",
          "2024-08-20T12:16:44.704474688",
          "2024-08-20T12:16:44.763350487",
          "2024-08-20T12:16:44.829139471",
          "2024-08-20T12:16:44.894028425",
          "2024-08-20T12:16:44.956413269",
          "2024-08-20T12:16:45.025400400",
          "2024-08-20T12:16:45.084244251",
          "2024-08-20T12:16:45.152088881",
          "2024-08-20T12:16:45.213922262",
          "2024-08-20T12:16:45.277752161",
          "2024-08-20T12:16:45.347600698",
          "2024-08-20T12:16:45.406036139",
          "2024-08-20T12:16:45.467909098",
          "2024-08-20T12:16:45.534692049",
          "2024-08-20T12:16:45.597522736",
          "2024-08-20T12:16:45.659392357",
          "2024-08-20T12:16:45.726183414",
          "2024-08-20T12:16:45.793002129",
          "2024-08-20T12:16:45.853837729",
          "2024-08-20T12:16:45.916709185",
          "2024-08-20T12:16:45.982528448",
          "2024-08-20T12:16:46.046327353",
          "2024-08-20T12:16:46.109154224",
          "2024-08-20T12:16:46.170989513",
          "2024-08-20T12:16:46.236022949",
          "2024-08-20T12:16:46.299850464",
          "2024-08-20T12:16:46.364199400",
          "2024-08-20T12:16:46.429173470",
          "2024-08-20T12:16:46.495971680",
          "2024-08-20T12:16:46.555811644",
          "2024-08-20T12:16:46.626326084",
          "2024-08-20T12:16:46.684170961",
          "2024-08-20T12:16:46.757974625",
          "2024-08-20T12:16:46.817813396",
          "2024-08-20T12:16:46.876714945",
          "2024-08-20T12:16:46.940485477",
          "2024-08-20T12:16:47.012800694",
          "2024-08-20T12:16:47.068651915",
          "2024-08-20T12:16:47.132986546",
          "2024-08-20T12:16:47.206822395",
          "2024-08-20T12:16:47.259686232",
          "2024-08-20T12:16:47.386310101",
          "2024-08-20T12:16:47.437172651",
          "2024-08-20T12:16:47.497013569",
          "2024-08-20T12:16:47.543887615",
          "2024-08-20T12:16:47.607716322",
          "2024-08-20T12:16:47.665561199",
          "2024-08-20T12:16:47.728394032",
          "2024-08-20T12:16:47.786280394",
          "2024-08-20T12:16:47.846248865",
          "2024-08-20T12:16:47.902099133",
          "2024-08-20T12:16:47.973907232",
          "2024-08-20T12:16:48.028760433",
          "2024-08-20T12:16:48.096580982",
          "2024-08-20T12:16:48.161984444",
          "2024-08-20T12:16:48.220808029",
          "2024-08-20T12:16:48.283670425",
          "2024-08-20T12:16:48.349090099",
          "2024-08-20T12:16:48.412950039",
          "2024-08-20T12:16:48.475680590",
          "2024-08-20T12:16:48.554410934",
          "2024-08-20T12:16:48.622227669",
          "2024-08-20T12:16:48.677082300",
          "2024-08-20T12:16:48.732578278",
          "2024-08-20T12:16:48.808376551",
          "2024-08-20T12:16:48.861769676",
          "2024-08-20T12:16:48.925569057",
          "2024-08-20T12:16:49.130389451",
          "2024-08-20T12:16:49.145349264",
          "2024-08-20T12:16:49.204797268",
          "2024-08-20T12:16:49.248680592",
          "2024-08-20T12:16:49.307520628",
          "2024-08-20T12:16:49.354395866",
          "2024-08-20T12:16:49.398307085",
          "2024-08-20T12:16:49.458119392",
          "2024-08-20T12:16:49.504994154",
          "2024-08-20T12:16:49.563835859",
          "2024-08-20T12:16:49.637637615",
          "2024-08-20T12:16:49.693488598",
          "2024-08-20T12:16:49.772279263",
          "2024-08-20T12:16:49.957781553",
          "2024-08-20T12:16:49.973739862",
          "2024-08-20T12:16:50.034578085",
          "2024-08-20T12:16:50.078537464",
          "2024-08-20T12:16:50.138314486",
          "2024-08-20T12:16:50.185190439",
          "2024-08-20T12:16:50.231067896",
          "2024-08-20T12:16:50.275953293",
          "2024-08-20T12:16:50.339813471",
          "2024-08-20T12:16:50.397620916",
          "2024-08-20T12:16:50.467789412",
          "2024-08-20T12:16:50.526661395",
          "2024-08-20T12:16:50.592426062",
          "2024-08-20T12:16:50.652230978",
          "2024-08-20T12:16:50.718054771",
          "2024-08-20T12:16:50.783918858",
          "2024-08-20T12:16:50.844773531",
          "2024-08-20T12:16:50.909575939",
          "2024-08-20T12:16:50.972373724",
          "2024-08-20T12:16:51.039195061",
          "2024-08-20T12:16:51.115990639",
          "2024-08-20T12:16:51.167850733",
          "2024-08-20T12:16:51.228871584",
          "2024-08-20T12:16:51.291702986",
          "2024-08-20T12:16:51.355562449",
          "2024-08-20T12:16:51.420359612",
          "2024-08-20T12:16:51.487182617",
          "2024-08-20T12:16:51.550013781",
          "2024-08-20T12:16:51.621820211",
          "2024-08-20T12:16:51.675227165",
          "2024-08-20T12:16:51.742013693",
          "2024-08-20T12:16:51.840767384",
          "2024-08-20T12:16:51.902601719",
          "2024-08-20T12:16:51.948479891",
          "2024-08-20T12:16:52.006323338",
          "2024-08-20T12:16:52.068565607",
          "2024-08-20T12:16:52.127442597",
          "2024-08-20T12:16:52.188757658",
          "2024-08-20T12:16:52.252624750",
          "2024-08-20T12:16:52.320444345",
          "2024-08-20T12:16:52.380243301",
          "2024-08-20T12:16:52.445104599",
          "2024-08-20T12:16:52.511892796",
          "2024-08-20T12:16:52.576718092",
          "2024-08-20T12:16:52.636559010",
          "2024-08-20T12:16:52.701385260",
          "2024-08-20T12:16:52.764218569",
          "2024-08-20T12:16:52.829043627",
          "2024-08-20T12:16:52.893871069",
          "2024-08-20T12:16:52.955703735",
          "2024-08-20T12:16:53.022524595",
          "2024-08-20T12:16:53.102823734",
          "2024-08-20T12:16:53.160718679",
          "2024-08-20T12:16:53.218513250",
          "2024-08-20T12:16:53.278518200",
          "2024-08-20T12:16:53.341351271",
          "2024-08-20T12:16:53.405178785",
          "2024-08-20T12:16:53.468009949",
          "2024-08-20T12:16:53.537825823",
          "2024-08-20T12:16:53.600655079",
          "2024-08-20T12:16:53.664532423",
          "2024-08-20T12:16:53.725801706",
          "2024-08-20T12:16:53.787636995",
          "2024-08-20T12:16:53.852016687",
          "2024-08-20T12:16:53.921796083",
          "2024-08-20T12:16:53.980579615",
          "2024-08-20T12:16:54.043408871",
          "2024-08-20T12:16:54.110231400",
          "2024-08-20T12:16:54.175058365",
          "2024-08-20T12:16:54.237909555",
          "2024-08-20T12:16:54.302735806",
          "2024-08-20T12:16:54.363573790",
          "2024-08-20T12:16:54.439370394",
          "2024-08-20T12:16:54.505674600",
          "2024-08-20T12:16:54.556575775",
          "2024-08-20T12:16:54.621365547",
          "2024-08-20T12:16:54.685702324",
          "2024-08-20T12:16:54.758507013",
          "2024-08-20T12:16:54.812362909",
          "2024-08-20T12:16:54.884222269",
          "2024-08-20T12:16:54.940021515",
          "2024-08-20T12:16:55.005850554",
          "2024-08-20T12:16:55.069046736",
          "2024-08-20T12:16:55.132934093",
          "2024-08-20T12:16:55.196768284",
          "2024-08-20T12:16:55.270569801",
          "2024-08-20T12:16:55.329474926",
          "2024-08-20T12:16:55.388601303",
          "2024-08-20T12:16:55.451397657",
          "2024-08-20T12:16:55.521809101",
          "2024-08-20T12:16:55.582866669",
          "2024-08-20T12:16:55.644743443",
          "2024-08-20T12:16:55.708039522",
          "2024-08-20T12:16:55.774860382",
          "2024-08-20T12:16:55.848698854",
          "2024-08-20T12:16:55.903517723",
          "2024-08-20T12:16:55.965970278",
          "2024-08-20T12:16:56.032788038",
          "2024-08-20T12:16:56.092688084",
          "2024-08-20T12:16:56.156456709",
          "2024-08-20T12:16:56.225302219",
          "2024-08-20T12:16:56.291131735",
          "2024-08-20T12:16:56.351935387",
          "2024-08-20T12:16:56.413772106",
          "2024-08-20T12:16:56.478632450",
          "2024-08-20T12:16:56.541461706",
          "2024-08-20T12:16:56.606253862",
          "2024-08-20T12:16:56.667126894",
          "2024-08-20T12:16:56.737072706",
          "2024-08-20T12:16:56.797910452",
          "2024-08-20T12:16:56.859745264",
          "2024-08-20T12:16:56.926205397",
          "2024-08-20T12:16:57.039867163",
          "2024-08-20T12:16:57.100703478",
          "2024-08-20T12:16:57.161543369",
          "2024-08-20T12:16:57.224379301",
          "2024-08-20T12:16:57.279637098",
          "2024-08-20T12:16:57.342443943",
          "2024-08-20T12:16:57.387506008",
          "2024-08-20T12:16:57.436410189",
          "2024-08-20T12:16:57.502428055",
          "2024-08-20T12:16:57.566221237",
          "2024-08-20T12:16:57.641531944",
          "2024-08-20T12:16:57.694428682",
          "2024-08-20T12:16:57.759217501",
          "2024-08-20T12:16:57.822085619",
          "2024-08-20T12:16:57.889868975",
          "2024-08-20T12:16:57.949707508",
          "2024-08-20T12:16:58.013572693",
          "2024-08-20T12:16:58.077366352",
          "2024-08-20T12:16:58.139806509",
          "2024-08-20T12:16:58.203635216",
          "2024-08-20T12:16:58.267492055",
          "2024-08-20T12:16:58.340271473",
          "2024-08-20T12:16:58.398117065",
          "2024-08-20T12:16:58.459951639",
          "2024-08-20T12:16:58.526771784",
          "2024-08-20T12:16:58.589602709",
          "2024-08-20T12:16:58.652434587",
          "2024-08-20T12:16:58.720253468",
          "2024-08-20T12:16:58.780977964",
          "2024-08-20T12:16:58.879713774",
          "2024-08-20T12:16:58.937559366",
          "2024-08-20T12:16:59.003454447",
          "2024-08-20T12:16:59.054319143",
          "2024-08-20T12:16:59.102700710",
          "2024-08-20T12:16:59.163537502",
          "2024-08-20T12:16:59.231873512",
          "2024-08-20T12:16:59.295702934",
          "2024-08-20T12:16:59.365517855",
          "2024-08-20T12:16:59.422363997",
          "2024-08-20T12:16:59.484198570",
          "2024-08-20T12:16:59.549028635",
          "2024-08-20T12:16:59.615846634",
          "2024-08-20T12:16:59.681671381",
          "2024-08-20T12:16:59.741510391",
          "2024-08-20T12:16:59.817307472",
          "2024-08-20T12:16:59.877695560",
          "2024-08-20T12:16:59.933547974",
          "2024-08-20T12:17:00.047241688",
          "2024-08-20T12:17:00.098105907",
          "2024-08-20T12:17:00.155955315"
         ],
         "xaxis": "x2",
         "y": {
          "bdata": "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",
          "dtype": "f8"
         },
         "yaxis": "y2"
        },
        {
         "marker": {
          "color": "lightcoral"
         },
         "name": "Distribution",
         "nbinsx": 30,
         "opacity": 0.7,
         "type": "histogram",
         "x": {
          "bdata": "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",
          "dtype": "f8"
         },
         "xaxis": "x3",
         "yaxis": "y3"
        },
        {
         "line": {
          "color": "lightcoral",
          "width": 1
         },
         "mode": "lines",
         "name": "Raw",
         "opacity": 0.5,
         "type": "scatter",
         "x": {
          "bdata": "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",
          "dtype": "i2"
         },
         "xaxis": "x4",
         "y": {
          "bdata": "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",
          "dtype": "f8"
         },
         "yaxis": "y4"
        },
        {
         "line": {
          "color": "darkred",
          "width": 3
         },
         "mode": "lines",
         "name": "Smoothed (n=40)",
         "type": "scatter",
         "x": {
          "bdata": "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",
          "dtype": "i2"
         },
         "xaxis": "x4",
         "y": {
          "bdata": "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",
          "dtype": "f8"
         },
         "yaxis": "y4"
        }
       ],
       "layout": {
        "annotations": [
         {
          "font": {
           "size": 16
          },
          "showarrow": false,
          "text": "Distance vs Frame Index",
          "x": 0.225,
          "xanchor": "center",
          "xref": "paper",
          "y": 1,
          "yanchor": "bottom",
          "yref": "paper"
         },
         {
          "font": {
           "size": 16
          },
          "showarrow": false,
          "text": "Distance vs Time",
          "x": 0.775,
          "xanchor": "center",
          "xref": "paper",
          "y": 1,
          "yanchor": "bottom",
          "yref": "paper"
         },
         {
          "font": {
           "size": 16
          },
          "showarrow": false,
          "text": "Distance Distribution",
          "x": 0.225,
          "xanchor": "center",
          "xref": "paper",
          "y": 0.375,
          "yanchor": "bottom",
          "yref": "paper"
         },
         {
          "font": {
           "size": 16
          },
          "showarrow": false,
          "text": "Distance Trends",
          "x": 0.775,
          "xanchor": "center",
          "xref": "paper",
          "y": 0.375,
          "yanchor": "bottom",
          "yref": "paper"
         },
         {
          "showarrow": false,
          "text": "Mean: 1.40meters",
          "x": 1.399916742605283,
          "xanchor": "left",
          "xref": "x3",
          "y": 1,
          "yanchor": "top",
          "yref": "y3 domain"
         }
        ],
        "height": 800,
        "shapes": [
         {
          "line": {
           "color": "red",
           "dash": "dash"
          },
          "type": "line",
          "x0": 1.399916742605283,
          "x1": 1.399916742605283,
          "xref": "x3",
          "y0": 0,
          "y1": 1,
          "yref": "y3 domain"
         }
        ],
        "showlegend": true,
        "template": {
         "data": {
          "bar": [
           {
            "error_x": {
             "color": "#2a3f5f"
            },
            "error_y": {
             "color": "#2a3f5f"
            },
            "marker": {
             "line": {
              "color": "#E5ECF6",
              "width": 0.5
             },
             "pattern": {
              "fillmode": "overlay",
              "size": 10,
              "solidity": 0.2
             }
            },
            "type": "bar"
           }
          ],
          "barpolar": [
           {
            "marker": {
             "line": {
              "color": "#E5ECF6",
              "width": 0.5
             },
             "pattern": {
              "fillmode": "overlay",
              "size": 10,
              "solidity": 0.2
             }
            },
            "type": "barpolar"
           }
          ],
          "carpet": [
           {
            "aaxis": {
             "endlinecolor": "#2a3f5f",
             "gridcolor": "white",
             "linecolor": "white",
             "minorgridcolor": "white",
             "startlinecolor": "#2a3f5f"
            },
            "baxis": {
             "endlinecolor": "#2a3f5f",
             "gridcolor": "white",
             "linecolor": "white",
             "minorgridcolor": "white",
             "startlinecolor": "#2a3f5f"
            },
            "type": "carpet"
           }
          ],
          "choropleth": [
           {
            "colorbar": {
             "outlinewidth": 0,
             "ticks": ""
            },
            "type": "choropleth"
           }
          ],
          "contour": [
           {
            "colorbar": {
             "outlinewidth": 0,
             "ticks": ""
            },
            "colorscale": [
             [
              0,
              "#0d0887"
             ],
             [
              0.1111111111111111,
              "#46039f"
             ],
             [
              0.2222222222222222,
              "#7201a8"
             ],
             [
              0.3333333333333333,
              "#9c179e"
             ],
             [
              0.4444444444444444,
              "#bd3786"
             ],
             [
              0.5555555555555556,
              "#d8576b"
             ],
             [
              0.6666666666666666,
              "#ed7953"
             ],
             [
              0.7777777777777778,
              "#fb9f3a"
             ],
             [
              0.8888888888888888,
              "#fdca26"
             ],
             [
              1,
              "#f0f921"
             ]
            ],
            "type": "contour"
           }
          ],
          "contourcarpet": [
           {
            "colorbar": {
             "outlinewidth": 0,
             "ticks": ""
            },
            "type": "contourcarpet"
           }
          ],
          "heatmap": [
           {
            "colorbar": {
             "outlinewidth": 0,
             "ticks": ""
            },
            "colorscale": [
             [
              0,
              "#0d0887"
             ],
             [
              0.1111111111111111,
              "#46039f"
             ],
             [
              0.2222222222222222,
              "#7201a8"
             ],
             [
              0.3333333333333333,
              "#9c179e"
             ],
             [
              0.4444444444444444,
              "#bd3786"
             ],
             [
              0.5555555555555556,
              "#d8576b"
             ],
             [
              0.6666666666666666,
              "#ed7953"
             ],
             [
              0.7777777777777778,
              "#fb9f3a"
             ],
             [
              0.8888888888888888,
              "#fdca26"
             ],
             [
              1,
              "#f0f921"
             ]
            ],
            "type": "heatmap"
           }
          ],
          "histogram": [
           {
            "marker": {
             "pattern": {
              "fillmode": "overlay",
              "size": 10,
              "solidity": 0.2
             }
            },
            "type": "histogram"
           }
          ],
          "histogram2d": [
           {
            "colorbar": {
             "outlinewidth": 0,
             "ticks": ""
            },
            "colorscale": [
             [
              0,
              "#0d0887"
             ],
             [
              0.1111111111111111,
              "#46039f"
             ],
             [
              0.2222222222222222,
              "#7201a8"
             ],
             [
              0.3333333333333333,
              "#9c179e"
             ],
             [
              0.4444444444444444,
              "#bd3786"
             ],
             [
              0.5555555555555556,
              "#d8576b"
             ],
             [
              0.6666666666666666,
              "#ed7953"
             ],
             [
              0.7777777777777778,
              "#fb9f3a"
             ],
             [
              0.8888888888888888,
              "#fdca26"
             ],
             [
              1,
              "#f0f921"
             ]
            ],
            "type": "histogram2d"
           }
          ],
          "histogram2dcontour": [
           {
            "colorbar": {
             "outlinewidth": 0,
             "ticks": ""
            },
            "colorscale": [
             [
              0,
              "#0d0887"
             ],
             [
              0.1111111111111111,
              "#46039f"
             ],
             [
              0.2222222222222222,
              "#7201a8"
             ],
             [
              0.3333333333333333,
              "#9c179e"
             ],
             [
              0.4444444444444444,
              "#bd3786"
             ],
             [
              0.5555555555555556,
              "#d8576b"
             ],
             [
              0.6666666666666666,
              "#ed7953"
             ],
             [
              0.7777777777777778,
              "#fb9f3a"
             ],
             [
              0.8888888888888888,
              "#fdca26"
             ],
             [
              1,
              "#f0f921"
             ]
            ],
            "type": "histogram2dcontour"
           }
          ],
          "mesh3d": [
           {
            "colorbar": {
             "outlinewidth": 0,
             "ticks": ""
            },
            "type": "mesh3d"
           }
          ],
          "parcoords": [
           {
            "line": {
             "colorbar": {
              "outlinewidth": 0,
              "ticks": ""
             }
            },
            "type": "parcoords"
           }
          ],
          "pie": [
           {
            "automargin": true,
            "type": "pie"
           }
          ],
          "scatter": [
           {
            "fillpattern": {
             "fillmode": "overlay",
             "size": 10,
             "solidity": 0.2
            },
            "type": "scatter"
           }
          ],
          "scatter3d": [
           {
            "line": {
             "colorbar": {
              "outlinewidth": 0,
              "ticks": ""
             }
            },
            "marker": {
             "colorbar": {
              "outlinewidth": 0,
              "ticks": ""
             }
            },
            "type": "scatter3d"
           }
          ],
          "scattercarpet": [
           {
            "marker": {
             "colorbar": {
              "outlinewidth": 0,
              "ticks": ""
             }
            },
            "type": "scattercarpet"
           }
          ],
          "scattergeo": [
           {
            "marker": {
             "colorbar": {
              "outlinewidth": 0,
              "ticks": ""
             }
            },
            "type": "scattergeo"
           }
          ],
          "scattergl": [
           {
            "marker": {
             "colorbar": {
              "outlinewidth": 0,
              "ticks": ""
             }
            },
            "type": "scattergl"
           }
          ],
          "scattermap": [
           {
            "marker": {
             "colorbar": {
              "outlinewidth": 0,
              "ticks": ""
             }
            },
            "type": "scattermap"
           }
          ],
          "scattermapbox": [
           {
            "marker": {
             "colorbar": {
              "outlinewidth": 0,
              "ticks": ""
             }
            },
            "type": "scattermapbox"
           }
          ],
          "scatterpolar": [
           {
            "marker": {
             "colorbar": {
              "outlinewidth": 0,
              "ticks": ""
             }
            },
            "type": "scatterpolar"
           }
          ],
          "scatterpolargl": [
           {
            "marker": {
             "colorbar": {
              "outlinewidth": 0,
              "ticks": ""
             }
            },
            "type": "scatterpolargl"
           }
          ],
          "scatterternary": [
           {
            "marker": {
             "colorbar": {
              "outlinewidth": 0,
              "ticks": ""
             }
            },
            "type": "scatterternary"
           }
          ],
          "surface": [
           {
            "colorbar": {
             "outlinewidth": 0,
             "ticks": ""
            },
            "colorscale": [
             [
              0,
              "#0d0887"
             ],
             [
              0.1111111111111111,
              "#46039f"
             ],
             [
              0.2222222222222222,
              "#7201a8"
             ],
             [
              0.3333333333333333,
              "#9c179e"
             ],
             [
              0.4444444444444444,
              "#bd3786"
             ],
             [
              0.5555555555555556,
              "#d8576b"
             ],
             [
              0.6666666666666666,
              "#ed7953"
             ],
             [
              0.7777777777777778,
              "#fb9f3a"
             ],
             [
              0.8888888888888888,
              "#fdca26"
             ],
             [
              1,
              "#f0f921"
             ]
            ],
            "type": "surface"
           }
          ],
          "table": [
           {
            "cells": {
             "fill": {
              "color": "#EBF0F8"
             },
             "line": {
              "color": "white"
             }
            },
            "header": {
             "fill": {
              "color": "#C8D4E3"
             },
             "line": {
              "color": "white"
             }
            },
            "type": "table"
           }
          ]
         },
         "layout": {
          "annotationdefaults": {
           "arrowcolor": "#2a3f5f",
           "arrowhead": 0,
           "arrowwidth": 1
          },
          "autotypenumbers": "strict",
          "coloraxis": {
           "colorbar": {
            "outlinewidth": 0,
            "ticks": ""
           }
          },
          "colorscale": {
           "diverging": [
            [
             0,
             "#8e0152"
            ],
            [
             0.1,
             "#c51b7d"
            ],
            [
             0.2,
             "#de77ae"
            ],
            [
             0.3,
             "#f1b6da"
            ],
            [
             0.4,
             "#fde0ef"
            ],
            [
             0.5,
             "#f7f7f7"
            ],
            [
             0.6,
             "#e6f5d0"
            ],
            [
             0.7,
             "#b8e186"
            ],
            [
             0.8,
             "#7fbc41"
            ],
            [
             0.9,
             "#4d9221"
            ],
            [
             1,
             "#276419"
            ]
           ],
           "sequential": [
            [
             0,
             "#0d0887"
            ],
            [
             0.1111111111111111,
             "#46039f"
            ],
            [
             0.2222222222222222,
             "#7201a8"
            ],
            [
             0.3333333333333333,
             "#9c179e"
            ],
            [
             0.4444444444444444,
             "#bd3786"
            ],
            [
             0.5555555555555556,
             "#d8576b"
            ],
            [
             0.6666666666666666,
             "#ed7953"
            ],
            [
             0.7777777777777778,
             "#fb9f3a"
            ],
            [
             0.8888888888888888,
             "#fdca26"
            ],
            [
             1,
             "#f0f921"
            ]
           ],
           "sequentialminus": [
            [
             0,
             "#0d0887"
            ],
            [
             0.1111111111111111,
             "#46039f"
            ],
            [
             0.2222222222222222,
             "#7201a8"
            ],
            [
             0.3333333333333333,
             "#9c179e"
            ],
            [
             0.4444444444444444,
             "#bd3786"
            ],
            [
             0.5555555555555556,
             "#d8576b"
            ],
            [
             0.6666666666666666,
             "#ed7953"
            ],
            [
             0.7777777777777778,
             "#fb9f3a"
            ],
            [
             0.8888888888888888,
             "#fdca26"
            ],
            [
             1,
             "#f0f921"
            ]
           ]
          },
          "colorway": [
           "#636efa",
           "#EF553B",
           "#00cc96",
           "#ab63fa",
           "#FFA15A",
           "#19d3f3",
           "#FF6692",
           "#B6E880",
           "#FF97FF",
           "#FECB52"
          ],
          "font": {
           "color": "#2a3f5f"
          },
          "geo": {
           "bgcolor": "white",
           "lakecolor": "white",
           "landcolor": "#E5ECF6",
           "showlakes": true,
           "showland": true,
           "subunitcolor": "white"
          },
          "hoverlabel": {
           "align": "left"
          },
          "hovermode": "closest",
          "mapbox": {
           "style": "light"
          },
          "paper_bgcolor": "white",
          "plot_bgcolor": "#E5ECF6",
          "polar": {
           "angularaxis": {
            "gridcolor": "white",
            "linecolor": "white",
            "ticks": ""
           },
           "bgcolor": "#E5ECF6",
           "radialaxis": {
            "gridcolor": "white",
            "linecolor": "white",
            "ticks": ""
           }
          },
          "scene": {
           "xaxis": {
            "backgroundcolor": "#E5ECF6",
            "gridcolor": "white",
            "gridwidth": 2,
            "linecolor": "white",
            "showbackground": true,
            "ticks": "",
            "zerolinecolor": "white"
           },
           "yaxis": {
            "backgroundcolor": "#E5ECF6",
            "gridcolor": "white",
            "gridwidth": 2,
            "linecolor": "white",
            "showbackground": true,
            "ticks": "",
            "zerolinecolor": "white"
           },
           "zaxis": {
            "backgroundcolor": "#E5ECF6",
            "gridcolor": "white",
            "gridwidth": 2,
            "linecolor": "white",
            "showbackground": true,
            "ticks": "",
            "zerolinecolor": "white"
           }
          },
          "shapedefaults": {
           "line": {
            "color": "#2a3f5f"
           }
          },
          "ternary": {
           "aaxis": {
            "gridcolor": "white",
            "linecolor": "white",
            "ticks": ""
           },
           "baxis": {
            "gridcolor": "white",
            "linecolor": "white",
            "ticks": ""
           },
           "bgcolor": "#E5ECF6",
           "caxis": {
            "gridcolor": "white",
            "linecolor": "white",
            "ticks": ""
           }
          },
          "title": {
           "x": 0.05
          },
          "xaxis": {
           "automargin": true,
           "gridcolor": "white",
           "linecolor": "white",
           "ticks": "",
           "title": {
            "standoff": 15
           },
           "zerolinecolor": "white",
           "zerolinewidth": 2
          },
          "yaxis": {
           "automargin": true,
           "gridcolor": "white",
           "linecolor": "white",
           "ticks": "",
           "title": {
            "standoff": 15
           },
           "zerolinecolor": "white",
           "zerolinewidth": 2
          }
         }
        },
        "title": {
         "text": "Real-World Distance Analysis"
        },
        "xaxis": {
         "anchor": "y",
         "domain": [
          0,
          0.45
         ],
         "title": {
          "text": "Frame Index"
         }
        },
        "xaxis2": {
         "anchor": "y2",
         "domain": [
          0.55,
          1
         ],
         "title": {
          "text": "Time"
         }
        },
        "xaxis3": {
         "anchor": "y3",
         "domain": [
          0,
          0.45
         ],
         "title": {
          "text": "Distance (meters)"
         }
        },
        "xaxis4": {
         "anchor": "y4",
         "domain": [
          0.55,
          1
         ],
         "title": {
          "text": "Frame Index"
         }
        },
        "yaxis": {
         "anchor": "x",
         "domain": [
          0.625,
          1
         ],
         "title": {
          "text": "Distance (meters)"
         }
        },
        "yaxis2": {
         "anchor": "x2",
         "domain": [
          0.625,
          1
         ],
         "title": {
          "text": "Distance (meters)"
         }
        },
        "yaxis3": {
         "anchor": "x3",
         "domain": [
          0,
          0.375
         ],
         "title": {
          "text": "Frequency"
         }
        },
        "yaxis4": {
         "anchor": "x4",
         "domain": [
          0,
          0.375
         ],
         "title": {
          "text": "Distance (meters)"
         }
        }
       }
      }
     },
     "metadata": {},
     "output_type": "display_data"
    }
   ],
   "source": [
    "# Real-world distance analysis and plotting using utility function\n",
    "iau.plot_real_world_distance_analysis(distance_results, image_shape=image_shape, sonar_coverage_meters=sonar_coverage_meters)"
   ]
  },
  {
   "cell_type": "code",
   "execution_count": 7,
   "id": "c10a8be6",
   "metadata": {},
   "outputs": [
    {
     "name": "stdout",
     "output_type": "stream",
     "text": [
      "🎯 LOADING DVL DATA FOR COMPARISON: 2024-08-20_14-16-05\n",
      "============================================================\n",
      "🎯 LOADING ALL DISTANCE DATA FOR BAG: 2024-08-20_14-16-05\n",
      "============================================================\n",
      "📡 1. Loading Navigation Data...\n",
      "   ✅ Loaded 420 navigation records\n",
      "📡 2. Loading Guidance Data...\n",
      "   ✅ Loaded 443 guidance records with ['error_net_distance', 'desired_net_distance', 'r_net_distance_d']\n",
      "📡 3. Loading DVL Altimeter...\n",
      "   ❌ DVL altimeter file not found\n",
      "📡 4. Loading USBL...\n",
      "   ✅ Loaded 23 USBL records\n",
      "📡 5. Loading DVL Position...\n",
      "   ✅ Loaded 231 DVL position records\n",
      "📡 6. Loading Navigation Position...\n",
      "   ✅ Loaded 223 navigation position records\n",
      "📡 7. Loading INS Z Position...\n",
      "   ❌ INS file not found\n",
      "\n",
      "📊 LOADING SUMMARY:\n",
      "   🎯 Target bag: 2024-08-20_14-16-05\n",
      "   📁 Raw data loaded: 2/2\n",
      "   📏 Distance measurements: 4\n",
      "\n",
      "📊 RAW DATA LOADED:\n",
      "   ✅ navigation: 420 records\n",
      "   ✅ guidance: 443 records\n",
      "\n",
      "📏 DISTANCE MEASUREMENTS LOADED:\n",
      "   ✅ USBL_3D: 23 records - 3D acoustic position\n",
      "   ✅ USBL_Depth: 23 records - USBL depth measurement\n",
      "   ✅ DVL_Position: 231 records - 3D DVL position\n",
      "   ✅ Nav_Position: 223 records - 2D navigation position\n"
     ]
    }
   ],
   "source": [
    "# 🔄 COMPARISON: SONAR vs DVL DISTANCE MEASUREMENTS\n",
    "# =================================================\n",
    "import utils.net_distance_analysis as sda\n",
    "\n",
    "print(f\"🎯 LOADING DVL DATA FOR COMPARISON: {TARGET_BAG}\")\n",
    "print(\"=\" * 60)\n",
    "\n",
    "# IMPORTANT: Pass the by_bag folder, not just the exports root\n",
    "# The function expects the folder containing the CSV files\n",
    "from utils.sonar_config import EXPORTS_SUBDIRS\n",
    "BY_BAG_FOLDER = EXPORTS_FOLDER / EXPORTS_SUBDIRS.get('by_bag', 'by_bag')\n",
    "\n",
    "# Load all distance data for the target bag\n",
    "raw_data, distance_measurements = sda.load_all_distance_data_for_bag(TARGET_BAG, BY_BAG_FOLDER)\n",
    "\n",
    "# Display what we loaded\n",
    "print(f\"\\n📊 RAW DATA LOADED:\")\n",
    "for key, data in raw_data.items():\n",
    "    if data is not None:\n",
    "        print(f\"   ✅ {key}: {len(data)} records\")\n",
    "    else:\n",
    "        print(f\"   ❌ {key}: None\")\n",
    "\n",
    "print(f\"\\n📏 DISTANCE MEASUREMENTS LOADED:\")\n",
    "for key, info in distance_measurements.items():\n",
    "    data_len = len(info['data'])\n",
    "    print(f\"   ✅ {key}: {data_len} records - {info['description']}\")"
   ]
  },
  {
   "cell_type": "code",
   "execution_count": 8,
   "id": "0375375e",
   "metadata": {},
   "outputs": [
    {
     "name": "stderr",
     "output_type": "stream",
     "text": [
      "/Users/eirikvarnes/code/SOLAQUA/utils/sonar_image_analysis.py:331: FutureWarning:\n",
      "\n",
      "Series.fillna with 'method' is deprecated and will raise in a future version. Use obj.ffill() or obj.bfill() instead.\n",
      "\n",
      "/Users/eirikvarnes/code/SOLAQUA/utils/sonar_image_analysis.py:338: FutureWarning:\n",
      "\n",
      "Series.fillna with 'method' is deprecated and will raise in a future version. Use obj.ffill() or obj.bfill() instead.\n",
      "\n"
     ]
    },
    {
     "data": {
      "application/vnd.plotly.v1+json": {
       "config": {
        "plotlyServerURL": "https://plot.ly"
       },
       "data": [
        {
         "line": {
          "color": "rgba(255,0,0,0.3)"
         },
         "mode": "lines",
         "name": "Sonar Raw",
         "type": "scatter",
         "x": {
          "bdata": "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",
          "dtype": "f8"
         },
         "xaxis": "x",
         "y": {
          "bdata": "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",
          "dtype": "f8"
         },
         "yaxis": "y"
        },
        {
         "line": {
          "color": "red",
          "width": 3
         },
         "mode": "lines",
         "name": "Sonar Smoothed",
         "type": "scatter",
         "x": {
          "bdata": "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",
          "dtype": "f8"
         },
         "xaxis": "x",
         "y": {
          "bdata": "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",
          "dtype": "f8"
         },
         "yaxis": "y"
        },
        {
         "line": {
          "color": "blue",
          "width": 3
         },
         "mode": "lines",
         "name": "DVL Distance",
         "type": "scatter",
         "x": {
          "bdata": "AAAAAAAAAABsiVD9Z3O3P6l3HgBkbcs/i9sSALYY1D9jDRIA7gLcP9oo6H+ElOE/l1wJADW15D/Gv/V/EzzoP7uOzn9jbes/3MiGfyIA7z+y2vy/6ijxP+fR2z8Z4vI/pYLRf+tX9D+t58y/Wx32P4Xsxv9AKPg/3pz7v6u8+T866ep/mmn7P3Z05391Qf0/CYmTf1bm/j+rmug/4FcAQG69/79MLAFAxsDu/9kGAkCbTup/RAUDQNTS+F+Q0wNAgCoBQDSwBECKnMCf2p8HQEDU/H88cghA/R/rn2NECUBGv+P/gUIKQIas/J+0HQtA/yvhvy/4C0C/gf5/8twMQG1T8J9k4g1Aat3qX7CwDkD2dfJ/zYkPQNeI838tMhBA6471b7+rEEBs1vBf5hQRQMXF9v8WjxFAQ+HrH8/6EUA2y/2//mASQNVl/r9UzxJA8o3wD740E0CuhvkvZrQTQP3T+S+RFhRAZWQAEMabFECY2/o/QBQVQH7b/z/PdBVALgf2b8nTFUBa0/7/5lAWQP0z/78cuxZAPMT9TxcaF0DD7ACwg44XQAeSAADD+BdAeQv275J/GEDJ1fUvPNEYQMTo8S8NQxlAVivyb8DEGUByzvdvODsaQPZ0+f8GoRpAsGryjxwFG0DaSfGv7XobQHQS9l965htAagj+H3ZgHEBavfjfoMgcQJaB9i+4Lh1AoZvzD/+bHUAYpvbv6CceQLkN8a/ohx5ASQD3b3ABH0BxUvGvgGQfQCPs/w+8zx9AKHT5N7ElIEBUovlX518gQHDf+/9ejiBAKt/+H9HGIECUJvmfaQIhQDw8+EfnPSFApgX6Bzt9IUB9U/3vLashQOr0+39O4SFASSf+Z04RIkDWZfsHxlciQGgJ+lfLiCJAvwT/P3S+IkD0gPhHf/AiQKRx/t8+JCNAZwn9D1pZI0DnBvmPO5kjQFjw/h/3zSNAEnT4xyIDJED76vuHLEQkQDHe+b/PeiRAT6n5x86nJECbof23rukkQAFh+1fDHSVAamP+Z1NUJUCruf9vvIMlQIcY+webxCVAQbf/F7v6JUCgOf83dTYmQF5s/LcCaSZAx6H/l8ulJkAsHvjHZNsmQMxi+g/9DydAA7D8VyhIJ0AAAfl/xn0nQPrU+B91tidAISz4pzPyJ0BK0vgvVygoQPVj+9/9WChAZU7673+PKEBLG/8f1s4oQPug/BfnAilAbKf8V5U7KUD4w/r/a/YpQA90/jdANipAI9b573VvKkAzu/vXSpgqQDpk+3ca3CpAbjv4f5EMK0AH+fzXiUErQNmB+X9jgitA/lv8fzKzK0AqGP23fvErQLZn/uccJyxA7NH9l8lhLEBluvsP9ZksQIQC+1dyySxAQRIAYJgALUDijwBA3jwtQDf4/8fCcC1A7UP6xySzLUDa3PYPsuUtQBlh+Q/DGC5AQZD4H91MLkCYbgCgBIouQAp1AOCywi5AXFb5T0v3LkBW9v+f+jUvQGw29u9xZC9AdUr7d2GpL0C4AP9Xx9MvQNvp/wPJAzBAO+z9x7sjMECLDv/rBz4wQLUx/7OpWzBAuvT/D091MEBbVvwHWo8wQBCW/S/hrDBA4mr/K3TIMEBpVf+rhOQwQFHv/ZuE/DBAfXX/n10WMUA8vv+HIjgxQCja/I+xTzFAu8H8h4dpMUCej/3vMoQxQEeR/FtepDFAYlT+JxK6MUBS1f+XPdoxQOw6AFSE8zFAxp/8a+YRMkD0SQCUxS8yQI4q/WOlTTJATVYA5GhmMkAbqvxHs38yQCen/L94mzJAolUAaCG7MkBM5fwz1NgyQM5y/68/8zJAyhX/84sNM0BZX/zrFyczQPHY/5s/RzNAemX9tyljM0Asfv1XcHwzQFwr/St7ljNATRv8Z8ewM0AI0fxfZc4zQDRG/Yum5jNAvUn8H5oHNEDOuf+7SiM0QI6F/auCPDRA49n895RYNEAlGf9f8YE0QBO6/1PnkDRANaz9K5iqNECpI/5jTMY0QLlb/OcV4DRALZf/I2L6NEBbD/z7zho1QAWy/4ONMjVAQ2f/J3JRNUCOa/+nO2s1QDe0/h9yjTVAI8r9X4ynNUAli/5HW8I1QHCP/sck3DVAS2P4q6f0NUBKQAA0QBY2QKgY/gu4LDZApNL87xBJNkBwo/4Dd2I2QEXb/oOyhDZA+Uj+69KiNkBJJ/5nTgY3QM/K/dtTHzdA9PH+ryI6N0CUPP+/L1Q3QClo/afHbTdAhdH9sx6KN0DKOgAI9qo3QObv/Ke9wzdAzzMAmI7eN0A1FQDoUv43QCT9/S/FEzhAZz/8Q80yOEAKwv6zMlI4QEoQ/8fBbjhAUTn9C0qIOECaMgDsDaE4QJf0/8PAujhA1CT8ez7ZOEBkS/5DVPU4QNkd/AvXDTlAOlj/57AqOUAWZP7jmko5QJT4/RdfYzlA3jv9r1l+OUCANv3PHZc5QOCb/4dWsDlAYcn8czbLOUAMqP33XOo5QGaJ/muhAzpA1J7/D5EkOkC2Rfw3bUE6QP39/4upWjpA1Ov94xB6OkBtJPyXk5I6QMcQABx7rDpAs5X/38TLOkD+af7zD+Q6QMjr/gcRAztAa0z/x8YcO0Cs8v0Hajs7QBCZ/JObVjtArIb85/RvO0DKMvxbjYw7QGn9/cdhqDtAvMP/s2zCO0AOOwCgkuE7QIRU/nMg/DtAekgAUKgVPEDWGP0zRjM8QMpl/CtGSzxAOCP865JrPECs3v3LF4M8QDf4/8fCojxA2zb+10i8PEDAAf0jq9U8QK/p+msd9zxAA2n8Sx0PPUCqDP/Dvy09QBFo/+9HRz1A0Pr+R9JgPUCrYf6LGXo9QGV7/6/SnD1AKtz/u5a1PUCf0/6XA9c9QA6i/HdZ8D1ASZP/h0MJPkC1N/17niY+QFn+/dtFQz5AwgMAUJBdPkDfaP+3nXY+QAeY/se3lj5A6RP/y0OxPkD8EQDI+8s+QMVY/F/b6T5AZ03+tyoFP0Bx+P3LUCQ/QI/l/4N/PD9ArkH/B89XP0DH/P/fqHQ/QD0c/HsrjT9ACTf9/1atP0ATh/zLH8U/QJJWAHyF4D9A4ab/3+r6P0A4IQB6Ug5AQGVx/5FpG0BA31T/e8snQEC9Of45PDhAQMf//kNjRUBARyb+LWNRQEAAqP4bXYJAQKCe/507jkBANWL+u5KeQECNY/6zYa1AQOJ+/2dGukBAQ2r+i2zHQEBIHP4PutRAQPuh/wkh5UBAdrH+CU3yQEDx7P/XUf9AQHX3/tssDEFAxKL+h68YQUBd8/7NOCxBQKMI/9tSN0FAGyf/P8BFQUAJPv65xVJBQB+c/tXrX0FAONP+s1huQUBWTf6RY3xBQG0iACZTi0FAB6L+5eCZQUC3KP/P66ZBQDoYAJaUtEFAZFX+YT3CQUCZ+P5hptJBQAL3/xsC4EFA9PH+ryLsQUDsIv7B/f1BQAq//0/4CEJA1OX/G5wXQkDIg/89kCRCQNej/ufhM0JAsZf+CRRBQkDbH/83/FBCQBiY/u1+XUJABDv+C0RqQkD12v8P1nlCQMb+/gk4hkJAXMr+G2mVQkAKSf4RmqRCQK8P/3EBskJAa/H+f2m/QkBJif9pms5CQNvf/+Wf20JA+B/+OUPoQkBLg/7p1vVCQIqb/8lyB0NA1Oj+f9YTQ0DW3/6bWCBDQGCr/9HJL0NAnSP/h0w8Q0DtGP6j1ElDQJVl/3G/VkNAaZz/t89lQ0A8XP6FFnNDQNeP/qvPg0NA8zf/gUKQQ0Dv7v4B4ZtDQD5Q/z1erUNA6j/+4U22Q0AkB/5N7sVDQLqS/g3D0kNA/UD+QUDkQ0Duz/5t+u5DQLYQAPbz/0NAdhn+080KREAcMv+XFBhEQOHE/zlmJ0RAKoT+1/M1REAtrv7D7kNEQMv0/zVWUURAYxX/D2FeRED3Cv7DRWtEQGFy/oGNeERAwBL++8KIREB+jf55VZVEQPXJ/jf+okRAcNb+0y+vRED4ov75hL9EQOsh/ocSzkRAuj7/f1TaREBpi/7f9+ZEQL6z/hWA9ERAyG//AT4DRUALJQDwaRRFQPHY/5t/HkVAfSEAEi8tRUAKHf/7TztFQONC/7NPSUVAy6P/C2JYRUA+jf8rQIdFQA6j/2nTk0VAwhr/75yhRUAaXP45CLJFQLDQ/1mQv0VA4Ir+rz7ORUBmIf+hoNpFQAJV/8dZ60VAJ1f/hz74RUCeDADofwRGQK/7/jUvEkZAjisAVl8hRkDYFv4JNy5GQOGp/kPlPEZA5IL+BSxKRkAtq/9ftFdGQHls/nEYZ0ZAAgT/nWV0RkA2d/4xUIVGQP9+/mnNkEZAco3/nVWeRkAyif75i65GQPwU/yt2vEZAi7P+o6rIRkDiav8rdNZGQPJY/j8440ZALaH/QcvyRkCfO/5hhP1GQKz5/sFYDUdA2VD/kx4bR0B4+f5PAyhHQCgv/w/aN0dANtL+eW1ER0BdR/5bJ1JHQE4q/hXQX0dA",
          "dtype": "f8"
         },
         "xaxis": "x",
         "y": {
          "bdata": "AAAAIK5H+T8AAAAgrkf5PwAAAGC4Hvk/AAAA4KNw+T8AAADgo3D5PwAAACCuR/k/AAAAIK5H+T8AAAAgrkf5PwAAACCuR/k/AAAAgML1+D8AAACAwvX4PwAAAIDC9fg/AAAAwMzM+D8AAABguB75PwAAAMDMzPg/AAAAYLge+T8AAACAwvX4P//////Wo/g/AAAAwMzM+D//////1qP4PwAAAMDMzPg/AAAAQOF6+D//////1qP4PwAAAEDhevg/AAAAgOtR+D//////1qP4PwAAAEDhevg//////9aj+D8AAABA4Xr4PwAAAIDrUfg/AAAAwMzM+D//////1qP4PwAAAIDrUfg/AAAAgOtR+D8AAADA9Sj4PwAAAEDhevg/AAAAwPUo+D8AAADA9Sj4PwAAAIDrUfg/AAAAwPUo+D8AAACA61H4PwAAAEDhevg/AAAAQOF6+D8AAABA4Xr4PwAAAIDrUfg/AAAAwMzM+D8AAACA61H4PwAAAMDMzPg/AAAAQOF6+D//////1qP4PwAAAMDMzPg/AAAAgOtR+D8AAACA61H4PwAAAAAAAPg/AAAAwB6F9z8BAAAAKVz3PwAAAMAehfc/AQAAAClc9z8AAACAPQr3PwAAAOBRuPY/AAAAoEfh9j8AAADgUbj2PwAAAOBRuPY/AAAAIFyP9j8AAABgZmb2PwAAACBcj/Y/AAAAIFyP9j8AAACgcD32PwAAAOB6FPY/AAAAYGZm9j8AAABgZmb2PwAAACCF6/U/AAAA4HoU9j8AAADgehT2PwAAACCF6/U/AAAA4HoU9j8AAADgehT2PwAAAKBwPfY/AAAAYI/C9T8AAAAghev1PwAAAGCPwvU/AAAAYI/C9T8AAADgehT2PwAAACCF6/U/AAAA4HoU9j8AAAAghev1PwAAAGCPwvU/AAAA4HoU9j8AAABgj8L1PwAAAGCPwvU/AAAA4KNw9T8AAACgcD32PwAAAGCPwvU/AAAAYI/C9T8AAADgehT2PwAAAOB6FPY/AAAAIIXr9T8AAABgj8L1PwAAAGCPwvU/AAAAIIXr9T8AAABgj8L1PwAAAKCZmfU/AAAAoJmZ9T8AAADgo3D1PwAAACCuR/U/AAAAYI/C9T8AAACgmZn1PwAAAGCPwvU/AAAA4KNw9T8AAADgo3D1PwAAAOCjcPU/AAAA4KNw9T8AAABgj8L1PwAAAOCjcPU/AAAAYI/C9T8AAADgehT2PwAAAKCZmfU/AAAAYI/C9T8AAABgj8L1PwAAAOB6FPY/AAAAoHA99j8AAADgehT2PwAAAKBwPfY/AAAA4HoU9j8AAADgehT2PwAAACBcj/Y/AAAAYGZm9j8AAABgZmb2PwAAAOBRuPY/AAAAYGZm9j8AAAAgXI/2PwAAAKBH4fY/AAAA4FG49j8AAABAMzP3PwAAAKBH4fY/AAAAYGZm9j8AAACgcD32PwAAAKBwPfY/AAAAYI/C9T8AAACgmZn1PwAAAOCjcPU/AAAAIK5H9T8AAACAwvX0PwAAAGC4HvU/AAAAYLge9T8AAABguB71PwAAAGC4HvU/AAAAYLge9T8AAADAzMz0PwAAACCuR/U/AAAAIK5H9T8AAACAwvX0PwAAAOCjcPU/AAAA4KNw9T8AAACgmZn1PwAAAGC4HvU/AAAA4KNw9T8AAADgo3D1PwAAAGCPwvU/AAAAoHA99j8AAABgj8L1PwAAACCF6/U/AAAAIIXr9T8AAAAghev1PwAAAOB6FPY/AAAAIIXr9T8AAABgZmb2PwAAAKBwPfY/AAAA4HoU9j8AAAAgXI/2PwAAAGBmZvY/AAAA4FG49j8AAADgUbj2PwAAAGBmZvY/AAAAIFyP9j8AAACgR+H2PwAAACBcj/Y/AAAAoEfh9j8AAADgUbj2PwAAAOBRuPY/AAAA4FG49j8AAACAPQr3PwAAAEAzM/c/AAAA4FG49j8AAACgR+H2PwEAAAApXPc/AAAAgD0K9z8AAACAFK73PwAAAMAehfc/AQAAAClc9z8AAACAFK73PwAAAEAK1/c/AAAAQArX9z8AAAAAAAD4PwAAAMD1KPg/AAAAgOtR+D8AAADA9Sj4PwAAAMDMzPg//////9aj+D//////1qP4P//////Wo/g/AAAAYLge+T8AAAAgrkf5PwAAAOCjcPk/AAAA4KNw+T8AAADgehT6PwAAACCF6/k/AAAA4HoU+j8AAADgehT6PwAAACCF6/k/AAAA4HoU+j8AAADgehT6PwAAACBcj/o/AAAAIFyP+j8AAAAgXI/6PwAAAEAzM/s/AAAAgD0K+z8AAABAMzP7PwAAAEAzM/s/AAAAwB6F+z8AAADAHoX7PwEAAAApXPs/AAAAgBSu+z8AAACAFK77PwAAAAAAAPw/AAAAwPUo/D8AAACA61H8P//////Wo/w/AAAAgOtR/D//////1qP8PwAAAMDMzPw/AAAAwMzM/D////9fuB79P////x+uR/0/AAAAoJmZ/T8AAADgo3D9PwAAACCF6/0/AAAAoHA9/j8AAACgcD3+PwAAAOB6FP4/AAAAYGZm/j8AAADgehT+PwAAACCF6/0/AAAAoJmZ/T8AAADAzMz8PwAAAMDMzPw/AAAAgOtR/D8AAADA9Sj8PwAAAIAUrvs/AAAAgBSu+z8AAABAMzP7PwAAAKBH4fo/AAAA4FG4+j8AAAAgXI/6PwAAACBcj/o/AAAAoHA9+j8AAAAghev5PwAAAKCZmfk/AAAA4KNw+T8AAAAgrkf5PwAAAIDC9fg//////9aj+D8AAACA61H4PwAAAEDhevg/AAAAQArX9z8AAABACtf3PwAAAMAehfc/AQAAAClc9z8AAABAMzP3PwAAAKBH4fY/AAAAoEfh9j8AAADgUbj2PwAAACBcj/Y/AAAA4FG49j8AAADgehT2PwAAACCF6/U/AAAAYI/C9T8AAAAghev1PwAAAGCPwvU/AAAAoJmZ9T8AAACgmZn1PwAAAGCPwvU/AAAAYLge9T8AAADgo3D1PwAAAKCZmfU/AAAA4KNw9T8AAAAgrkf1PwAAACCuR/U/AAAA4KNw9T8AAABguB71PwAAAOCjcPU/AAAA4KNw9T8AAACAwvX0PwAAAGC4HvU/AAAAYLge9T8AAACAwvX0PwAAAIDC9fQ/AAAAgML19D8AAADgo3D1PwAAAKCZmfU/AAAAoJmZ9T8AAAAghev1PwAAAAApXOc/AAAAYI/C9T8AAADgehT2PwAAAGBmZvY/AAAAoHA99j8AAACgcD32PwAAAGBmZvY/AAAAgD0K9z8AAACgR+H2PwAAAIA9Cvc/AQAAAClc9z8AAACAFK73PwAAAEAzM/c/AQAAAClc9z8AAADAHoX3PwAAAIAUrvc/AAAAwPUo+D8AAAAAAAD4PwAAAMD1KPg/AAAAgOtR+D//////1qP4PwAAAMDMzPg/AAAAgML1+D8AAACAwvX4PwAAACCuR/k/AAAA4KNw+T8AAAAgrkf5PwAAAKCZmfk/AAAAIIXr+T8AAABgj8L5PwAAACCF6/k/AAAAoJmZ+T8AAACgmZn5PwAAACCuR/k/AAAA4KNw+T8AAABguB75PwAAACCuR/k/AAAA4KNw+T8AAADgo3D5PwAAAIDC9fg/AAAA4KNw+T8AAAAgrkf5P//////Wo/g/AAAAoHA94j8AAACA61H4PwAAAEAK1/c/AAAAQArX9z8BAAAAKVz3PwAAAIA9Cvc/AAAAgD0K9z8AAABgZmb2PwAAAOB6FPY/AAAAYI/C9T8AAADgehT2PwAAAKCZmfU/AAAAYI/C9T8AAAAgrkf1PwAAAGC4HvU/AAAAQOF68D8AAACA61HwPwAAAOCjcPE/AAAAIK5H8T8AAACA61H0PwAAAIDrUfQ/AAAAQArX8z8AAADAHoXzPwAAAEAzM/M/AAAA4FG48j8AAADgUbjyPwAAAGBmZvI/AAAAYI/C8T8AAACgmZnxPwAAACCuR/E/AAAAoJmZ8T8AAAAgrkfxPwAAAGC4HvE/AAAAgML18D//////1qPwPwAAAGC4HvE/AAAAwMzM8D8AAABA4XrwP//////Wo/A/AAAAAClc5z8AAABACtfjPwAAAMDMzOw/AAAAYLge8T8AAACAwvXwPwAAAMDMzPA/AAAAgML18D8AAAAgrkfxPwAAACCuR/E/AAAA4KNw8T8AAADgo3DxPwAAACCF6/E/AAAAYI/C8T8AAADgehTyPwAAACCF6/E/AAAAoHA98j8AAACgcD3yPwAAACBcj/I/AAAAIFyP8j8AAACAPQrzPwAAAIA9CvM/AAAAQDMz8z8AAADAHoXzPwAAAEAK1/M/AAAAAAAA9D8AAABA4Xr0PwAAAEDhevQ/AAAAwMzM9D8AAADAzMz0PwAAAOCjcPU/AAAAoJmZ9T8AAACgmZn1PwAAAGCPwvU/AAAA4HoU9j8AAACgcD32PwAAAOBRuPY/",
          "dtype": "f8"
         },
         "yaxis": "y"
        }
       ],
       "layout": {
        "height": 600,
        "hovermode": "x unified",
        "template": {
         "data": {
          "bar": [
           {
            "error_x": {
             "color": "#2a3f5f"
            },
            "error_y": {
             "color": "#2a3f5f"
            },
            "marker": {
             "line": {
              "color": "#E5ECF6",
              "width": 0.5
             },
             "pattern": {
              "fillmode": "overlay",
              "size": 10,
              "solidity": 0.2
             }
            },
            "type": "bar"
           }
          ],
          "barpolar": [
           {
            "marker": {
             "line": {
              "color": "#E5ECF6",
              "width": 0.5
             },
             "pattern": {
              "fillmode": "overlay",
              "size": 10,
              "solidity": 0.2
             }
            },
            "type": "barpolar"
           }
          ],
          "carpet": [
           {
            "aaxis": {
             "endlinecolor": "#2a3f5f",
             "gridcolor": "white",
             "linecolor": "white",
             "minorgridcolor": "white",
             "startlinecolor": "#2a3f5f"
            },
            "baxis": {
             "endlinecolor": "#2a3f5f",
             "gridcolor": "white",
             "linecolor": "white",
             "minorgridcolor": "white",
             "startlinecolor": "#2a3f5f"
            },
            "type": "carpet"
           }
          ],
          "choropleth": [
           {
            "colorbar": {
             "outlinewidth": 0,
             "ticks": ""
            },
            "type": "choropleth"
           }
          ],
          "contour": [
           {
            "colorbar": {
             "outlinewidth": 0,
             "ticks": ""
            },
            "colorscale": [
             [
              0,
              "#0d0887"
             ],
             [
              0.1111111111111111,
              "#46039f"
             ],
             [
              0.2222222222222222,
              "#7201a8"
             ],
             [
              0.3333333333333333,
              "#9c179e"
             ],
             [
              0.4444444444444444,
              "#bd3786"
             ],
             [
              0.5555555555555556,
              "#d8576b"
             ],
             [
              0.6666666666666666,
              "#ed7953"
             ],
             [
              0.7777777777777778,
              "#fb9f3a"
             ],
             [
              0.8888888888888888,
              "#fdca26"
             ],
             [
              1,
              "#f0f921"
             ]
            ],
            "type": "contour"
           }
          ],
          "contourcarpet": [
           {
            "colorbar": {
             "outlinewidth": 0,
             "ticks": ""
            },
            "type": "contourcarpet"
           }
          ],
          "heatmap": [
           {
            "colorbar": {
             "outlinewidth": 0,
             "ticks": ""
            },
            "colorscale": [
             [
              0,
              "#0d0887"
             ],
             [
              0.1111111111111111,
              "#46039f"
             ],
             [
              0.2222222222222222,
              "#7201a8"
             ],
             [
              0.3333333333333333,
              "#9c179e"
             ],
             [
              0.4444444444444444,
              "#bd3786"
             ],
             [
              0.5555555555555556,
              "#d8576b"
             ],
             [
              0.6666666666666666,
              "#ed7953"
             ],
             [
              0.7777777777777778,
              "#fb9f3a"
             ],
             [
              0.8888888888888888,
              "#fdca26"
             ],
             [
              1,
              "#f0f921"
             ]
            ],
            "type": "heatmap"
           }
          ],
          "histogram": [
           {
            "marker": {
             "pattern": {
              "fillmode": "overlay",
              "size": 10,
              "solidity": 0.2
             }
            },
            "type": "histogram"
           }
          ],
          "histogram2d": [
           {
            "colorbar": {
             "outlinewidth": 0,
             "ticks": ""
            },
            "colorscale": [
             [
              0,
              "#0d0887"
             ],
             [
              0.1111111111111111,
              "#46039f"
             ],
             [
              0.2222222222222222,
              "#7201a8"
             ],
             [
              0.3333333333333333,
              "#9c179e"
             ],
             [
              0.4444444444444444,
              "#bd3786"
             ],
             [
              0.5555555555555556,
              "#d8576b"
             ],
             [
              0.6666666666666666,
              "#ed7953"
             ],
             [
              0.7777777777777778,
              "#fb9f3a"
             ],
             [
              0.8888888888888888,
              "#fdca26"
             ],
             [
              1,
              "#f0f921"
             ]
            ],
            "type": "histogram2d"
           }
          ],
          "histogram2dcontour": [
           {
            "colorbar": {
             "outlinewidth": 0,
             "ticks": ""
            },
            "colorscale": [
             [
              0,
              "#0d0887"
             ],
             [
              0.1111111111111111,
              "#46039f"
             ],
             [
              0.2222222222222222,
              "#7201a8"
             ],
             [
              0.3333333333333333,
              "#9c179e"
             ],
             [
              0.4444444444444444,
              "#bd3786"
             ],
             [
              0.5555555555555556,
              "#d8576b"
             ],
             [
              0.6666666666666666,
              "#ed7953"
             ],
             [
              0.7777777777777778,
              "#fb9f3a"
             ],
             [
              0.8888888888888888,
              "#fdca26"
             ],
             [
              1,
              "#f0f921"
             ]
            ],
            "type": "histogram2dcontour"
           }
          ],
          "mesh3d": [
           {
            "colorbar": {
             "outlinewidth": 0,
             "ticks": ""
            },
            "type": "mesh3d"
           }
          ],
          "parcoords": [
           {
            "line": {
             "colorbar": {
              "outlinewidth": 0,
              "ticks": ""
             }
            },
            "type": "parcoords"
           }
          ],
          "pie": [
           {
            "automargin": true,
            "type": "pie"
           }
          ],
          "scatter": [
           {
            "fillpattern": {
             "fillmode": "overlay",
             "size": 10,
             "solidity": 0.2
            },
            "type": "scatter"
           }
          ],
          "scatter3d": [
           {
            "line": {
             "colorbar": {
              "outlinewidth": 0,
              "ticks": ""
             }
            },
            "marker": {
             "colorbar": {
              "outlinewidth": 0,
              "ticks": ""
             }
            },
            "type": "scatter3d"
           }
          ],
          "scattercarpet": [
           {
            "marker": {
             "colorbar": {
              "outlinewidth": 0,
              "ticks": ""
             }
            },
            "type": "scattercarpet"
           }
          ],
          "scattergeo": [
           {
            "marker": {
             "colorbar": {
              "outlinewidth": 0,
              "ticks": ""
             }
            },
            "type": "scattergeo"
           }
          ],
          "scattergl": [
           {
            "marker": {
             "colorbar": {
              "outlinewidth": 0,
              "ticks": ""
             }
            },
            "type": "scattergl"
           }
          ],
          "scattermap": [
           {
            "marker": {
             "colorbar": {
              "outlinewidth": 0,
              "ticks": ""
             }
            },
            "type": "scattermap"
           }
          ],
          "scattermapbox": [
           {
            "marker": {
             "colorbar": {
              "outlinewidth": 0,
              "ticks": ""
             }
            },
            "type": "scattermapbox"
           }
          ],
          "scatterpolar": [
           {
            "marker": {
             "colorbar": {
              "outlinewidth": 0,
              "ticks": ""
             }
            },
            "type": "scatterpolar"
           }
          ],
          "scatterpolargl": [
           {
            "marker": {
             "colorbar": {
              "outlinewidth": 0,
              "ticks": ""
             }
            },
            "type": "scatterpolargl"
           }
          ],
          "scatterternary": [
           {
            "marker": {
             "colorbar": {
              "outlinewidth": 0,
              "ticks": ""
             }
            },
            "type": "scatterternary"
           }
          ],
          "surface": [
           {
            "colorbar": {
             "outlinewidth": 0,
             "ticks": ""
            },
            "colorscale": [
             [
              0,
              "#0d0887"
             ],
             [
              0.1111111111111111,
              "#46039f"
             ],
             [
              0.2222222222222222,
              "#7201a8"
             ],
             [
              0.3333333333333333,
              "#9c179e"
             ],
             [
              0.4444444444444444,
              "#bd3786"
             ],
             [
              0.5555555555555556,
              "#d8576b"
             ],
             [
              0.6666666666666666,
              "#ed7953"
             ],
             [
              0.7777777777777778,
              "#fb9f3a"
             ],
             [
              0.8888888888888888,
              "#fdca26"
             ],
             [
              1,
              "#f0f921"
             ]
            ],
            "type": "surface"
           }
          ],
          "table": [
           {
            "cells": {
             "fill": {
              "color": "#EBF0F8"
             },
             "line": {
              "color": "white"
             }
            },
            "header": {
             "fill": {
              "color": "#C8D4E3"
             },
             "line": {
              "color": "white"
             }
            },
            "type": "table"
           }
          ]
         },
         "layout": {
          "annotationdefaults": {
           "arrowcolor": "#2a3f5f",
           "arrowhead": 0,
           "arrowwidth": 1
          },
          "autotypenumbers": "strict",
          "coloraxis": {
           "colorbar": {
            "outlinewidth": 0,
            "ticks": ""
           }
          },
          "colorscale": {
           "diverging": [
            [
             0,
             "#8e0152"
            ],
            [
             0.1,
             "#c51b7d"
            ],
            [
             0.2,
             "#de77ae"
            ],
            [
             0.3,
             "#f1b6da"
            ],
            [
             0.4,
             "#fde0ef"
            ],
            [
             0.5,
             "#f7f7f7"
            ],
            [
             0.6,
             "#e6f5d0"
            ],
            [
             0.7,
             "#b8e186"
            ],
            [
             0.8,
             "#7fbc41"
            ],
            [
             0.9,
             "#4d9221"
            ],
            [
             1,
             "#276419"
            ]
           ],
           "sequential": [
            [
             0,
             "#0d0887"
            ],
            [
             0.1111111111111111,
             "#46039f"
            ],
            [
             0.2222222222222222,
             "#7201a8"
            ],
            [
             0.3333333333333333,
             "#9c179e"
            ],
            [
             0.4444444444444444,
             "#bd3786"
            ],
            [
             0.5555555555555556,
             "#d8576b"
            ],
            [
             0.6666666666666666,
             "#ed7953"
            ],
            [
             0.7777777777777778,
             "#fb9f3a"
            ],
            [
             0.8888888888888888,
             "#fdca26"
            ],
            [
             1,
             "#f0f921"
            ]
           ],
           "sequentialminus": [
            [
             0,
             "#0d0887"
            ],
            [
             0.1111111111111111,
             "#46039f"
            ],
            [
             0.2222222222222222,
             "#7201a8"
            ],
            [
             0.3333333333333333,
             "#9c179e"
            ],
            [
             0.4444444444444444,
             "#bd3786"
            ],
            [
             0.5555555555555556,
             "#d8576b"
            ],
            [
             0.6666666666666666,
             "#ed7953"
            ],
            [
             0.7777777777777778,
             "#fb9f3a"
            ],
            [
             0.8888888888888888,
             "#fdca26"
            ],
            [
             1,
             "#f0f921"
            ]
           ]
          },
          "colorway": [
           "#636efa",
           "#EF553B",
           "#00cc96",
           "#ab63fa",
           "#FFA15A",
           "#19d3f3",
           "#FF6692",
           "#B6E880",
           "#FF97FF",
           "#FECB52"
          ],
          "font": {
           "color": "#2a3f5f"
          },
          "geo": {
           "bgcolor": "white",
           "lakecolor": "white",
           "landcolor": "#E5ECF6",
           "showlakes": true,
           "showland": true,
           "subunitcolor": "white"
          },
          "hoverlabel": {
           "align": "left"
          },
          "hovermode": "closest",
          "mapbox": {
           "style": "light"
          },
          "paper_bgcolor": "white",
          "plot_bgcolor": "#E5ECF6",
          "polar": {
           "angularaxis": {
            "gridcolor": "white",
            "linecolor": "white",
            "ticks": ""
           },
           "bgcolor": "#E5ECF6",
           "radialaxis": {
            "gridcolor": "white",
            "linecolor": "white",
            "ticks": ""
           }
          },
          "scene": {
           "xaxis": {
            "backgroundcolor": "#E5ECF6",
            "gridcolor": "white",
            "gridwidth": 2,
            "linecolor": "white",
            "showbackground": true,
            "ticks": "",
            "zerolinecolor": "white"
           },
           "yaxis": {
            "backgroundcolor": "#E5ECF6",
            "gridcolor": "white",
            "gridwidth": 2,
            "linecolor": "white",
            "showbackground": true,
            "ticks": "",
            "zerolinecolor": "white"
           },
           "zaxis": {
            "backgroundcolor": "#E5ECF6",
            "gridcolor": "white",
            "gridwidth": 2,
            "linecolor": "white",
            "showbackground": true,
            "ticks": "",
            "zerolinecolor": "white"
           }
          },
          "shapedefaults": {
           "line": {
            "color": "#2a3f5f"
           }
          },
          "ternary": {
           "aaxis": {
            "gridcolor": "white",
            "linecolor": "white",
            "ticks": ""
           },
           "baxis": {
            "gridcolor": "white",
            "linecolor": "white",
            "ticks": ""
           },
           "bgcolor": "#E5ECF6",
           "caxis": {
            "gridcolor": "white",
            "linecolor": "white",
            "ticks": ""
           }
          },
          "title": {
           "x": 0.05
          },
          "xaxis": {
           "automargin": true,
           "gridcolor": "white",
           "linecolor": "white",
           "ticks": "",
           "title": {
            "standoff": 15
           },
           "zerolinecolor": "white",
           "zerolinewidth": 2
          },
          "yaxis": {
           "automargin": true,
           "gridcolor": "white",
           "linecolor": "white",
           "ticks": "",
           "title": {
            "standoff": 15
           },
           "zerolinecolor": "white",
           "zerolinewidth": 2
          }
         }
        },
        "title": {
         "text": "🔄 Interactive Distance Comparison: Sonar vs DVL"
        },
        "xaxis": {
         "anchor": "y",
         "domain": [
          0,
          1
         ],
         "showgrid": true,
         "title": {
          "text": "Time (seconds)"
         }
        },
        "yaxis": {
         "anchor": "x",
         "domain": [
          0,
          1
         ],
         "showgrid": true,
         "title": {
          "text": "Distance (meters)"
         }
        }
       }
      }
     },
     "metadata": {},
     "output_type": "display_data"
    },
    {
     "name": "stdout",
     "output_type": "stream",
     "text": [
      "\n",
      "📊 SONAR vs DVL COMPARISON STATISTICS:\n",
      "==================================================\n",
      "Sonar mean distance: 1.400 m\n",
      "DVL mean distance:   1.432 m\n",
      "Scale ratio (Sonar/DVL): 0.978x\n",
      "Sonar duration: 46.8s (814 frames)\n",
      "DVL duration:   46.7s (420 records)\n",
      "\n",
      "Comparison stats summary:\n",
      "{'dvl_duration_s': 46.748537778,\n",
      " 'dvl_mean_m': 1.4318809530564718,\n",
      " 'dvl_records': 420,\n",
      " 'scale_ratio': 0.9776767681817693,\n",
      " 'sonar_duration_s': 46.806039054479704,\n",
      " 'sonar_frames': 814,\n",
      " 'sonar_mean_m': 1.399916742605283}\n"
     ]
    },
    {
     "data": {
      "application/vnd.plotly.v1+json": {
       "config": {
        "plotlyServerURL": "https://plot.ly"
       },
       "data": [
        {
         "line": {
          "color": "rgba(255,0,0,0.3)"
         },
         "mode": "lines",
         "name": "Sonar Raw",
         "type": "scatter",
         "x": {
          "bdata": "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",
          "dtype": "f8"
         },
         "xaxis": "x",
         "y": {
          "bdata": "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",
          "dtype": "f8"
         },
         "yaxis": "y"
        },
        {
         "line": {
          "color": "red",
          "width": 3
         },
         "mode": "lines",
         "name": "Sonar Smoothed",
         "type": "scatter",
         "x": {
          "bdata": "zcvqq85wrT/Ny+qrznC9P9kY8ACbFMY/zcvqq85wzT9gv3IrgWbSP9kY8ACbFNY/UnJt1rTC2T/Ny+qrznDdP6MStEB0j+A/YL9yK4Fm4j8dbDEWjj3kP9kY8ACbFOY/lcWu66fr5z9Scm3WtMLpPxAfLMHBmes/zcvqq85w7T+KeKmW20fvP6MStEB0j/A/AWkTtvp68T9gv3IrgWbyP74V0qAHUvM/HWwxFo499D97wpCLFCn1P9kY8ACbFPY/OG9PdiEA9z+Vxa7rp+v3P/UbDmEu1/g/UnJt1rTC+T+yyMxLO676PxAfLMHBmfs/bXWLNkiF/D/Ny+qrznD9PyoiSiFVXP4/iniplttH/z90ZwQGsRkAQKMStEB0jwBA0r1jezcFAUABaRO2+noBQDEUw/C98AFAYL9yK4FmAkCPaiJmRNwCQL4V0qAHUgNA7cCB28rHA0AdbDEWjj0EQEwX4VBRswRAe8KQixQpBUCqbUDG154FQNkY8ACbFAZACcSfO16KBkA4b092IQAHQGca/7DkdQdAlcWu66frB0DGcF4ma2EIQPUbDmEu1whAJMe9m/FMCUBScm3WtMIJQIEdHRF4OApAssjMSzuuCkDhc3yG/iMLQBAfLMHBmQtAPsrb+4QPDEBtdYs2SIUMQJ4gO3EL+wxAzcvqq85wDUD8dprmkeYNQCoiSiFVXA5AWc35WxjSDkCKeKmW20cPQLkjWdGevQ9AdGcEBrEZEEALPVyjklQQQKMStEB0jxBAO+gL3lXKEEDSvWN7NwURQGqTuxgZQBFAAWkTtvp6EUCZPmtT3LURQDEUw/C98BFAyOkajp8rEkBgv3IrgWYSQPeUyshioRJAj2oiZkTcEkAnQHoDJhcTQL4V0qAHUhNAVuspPumME0DtwIHbyscTQIWW2XisAhRAHWwxFo49FEC0QYmzb3gUQEwX4VBRsxRA4+w47jLuFEB7wpCLFCkVQBOY6Cj2YxVAqm1AxteeFUBCQ5hjudkVQNkY8ACbFBZAce5HnnxPFkAJxJ87XooWQKCZ99g/xRZAOG9PdiEAF0DPRKcTAzsXQGca/7DkdRdA/+9WTsawF0CVxa7rp+sXQC6bBomJJhhAxnBeJmthGEBdRrbDTJwYQPUbDmEu1xhAi/Fl/g8SGUAkx72b8UwZQLycFTnThxlAUnJt1rTCGUDrR8Vzlv0ZQIEdHRF4OBpAGvN0rllzGkCyyMxLO64aQEieJOkc6RpA4XN8hv4jG0B3SdQj4F4bQBAfLMHBmRtAqPSDXqPUG0A+ytv7hA8cQNefM5lmShxAbXWLNkiFHEAGS+PTKcAcQJ4gO3EL+xxANPaSDu01HUDNy+qrznAdQGOhQkmwqx1A/Haa5pHmHUCUTPKDcyEeQCoiSiFVXB5Aw/ehvjaXHkBZzflbGNIeQPGiUfn5DB9AiniplttHH0AgTgE0vYIfQLkjWdGevR9AT/mwboD4H0B0ZwQGsRkgQEBSsNQhNyBACz1co5JUIEDXJwhyA3IgQKMStEB0jyBAb/1fD+WsIEA76AveVcogQAbTt6zG5yBA0r1jezcFIUCeqA9KqCIhQGqTuxgZQCFANn5n54ldIUABaRO2+nohQM1Tv4RrmCFAmT5rU9y1IUBlKRciTdMhQDEUw/C98CFA/P5uvy4OIkDI6RqOnysiQJTUxlwQSSJAYL9yK4FmIkAsqh768YMiQPeUyshioSJAw392l9O+IkCPaiJmRNwiQFtVzjS1+SJAJ0B6AyYXI0DyKibSljQjQL4V0qAHUiNAigB+b3hvI0BW6yk+6YwjQCLW1QxaqiNA7cCB28rHI0C5qy2qO+UjQIWW2XisAiRAUYGFRx0gJEAdbDEWjj0kQOhW3eT+WiRAtEGJs294JECALDWC4JUkQEwX4VBRsyRAGAKNH8LQJEDj7DjuMu4kQK/X5LyjCyVAe8KQixQpJUBHrTxahUYlQBOY6Cj2YyVA3oKU92aBJUCqbUDG154lQHZY7JRIvCVAQkOYY7nZJUAOLkQyKvclQNkY8ACbFCZApQOczwsyJkBx7keefE8mQD3Z82ztbCZACcSfO16KJkDUrksKz6cmQKCZ99g/xSZAbISjp7DiJkA4b092IQAnQARa+0SSHSdAz0SnEwM7J0CbL1Pic1gnQGca/7DkdSdAMwWrf1WTJ0D/71ZOxrAnQMraAh03zidAlcWu66frJ0BisFq6GAkoQC6bBomJJihA+YWyV/pDKEDGcF4ma2EoQJFbCvXbfihAXUa2w0ycKEApMWKSvbkoQPUbDmEu1yhAwAa6L5/0KECL8WX+DxIpQFjcEc2ALylAJMe9m/FMKUDvsWlqYmopQLycFTnThylAh4fBB0SlKUBScm3WtMIpQB9dGaUl4ClA60fFc5b9KUC2MnFCBxsqQIEdHRF4OCpATgjJ3+hVKkAa83SuWXMqQOXdIH3KkCpAssjMSzuuKkB9s3garMsqQEieJOkc6SpAFYnQt40GK0Dhc3yG/iMrQKxeKFVvQStAd0nUI+BeK0BENIDyUHwrQBAfLMHBmStA2wnYjzK3K0Co9INeo9QrQHPfLy0U8itAPsrb+4QPLEALtYfK9SwsQNefM5lmSixAoorfZ9dnLEBtdYs2SIUsQDpgNwW5oixABkvj0ynALEDRNY+imt0sQJ4gO3EL+yxAaQvnP3wYLUA09pIO7TUtQAHhPt1dUy1Azcvqq85wLUCYtpZ6P44tQGOhQkmwqy1AMIzuFyHJLUD8dprmkeYtQMdhRrUCBC5AlEzyg3MhLkBfN55S5D4uQCoiSiFVXC5A9wz278V5LkDD96G+NpcuQI7iTY2ntC5AWc35WxjSLkAmuKUqie8uQPGiUfn5DC9AvY39x2oqL0CKeKmW20cvQFVjVWVMZS9AIE4BNL2CL0DtOK0CLqAvQLkjWdGevS9AhA4FoA/bL0BP+bBugPgvQA5yrp74CjBAdGcEBrEZMEDZXFptaSgwQEBSsNQhNzBApkcGPNpFMEALPVyjklQwQHIysgpLYzBA1ycIcgNyMEA9HV7Zu4AwQKMStEB0jzBACQgKqCyeMEBv/V8P5awwQNTytXaduzBAO+gL3lXKMECg3WFFDtkwQAbTt6zG5zBAbcgNFH/2MEDSvWN7NwUxQDizueLvEzFAnqgPSqgiMUAEnmWxYDExQGqTuxgZQDFAz4gRgNFOMUA2fmfniV0xQJtzvU5CbDFAAWkTtvp6MUBoXmkds4kxQM1Tv4RrmDFAM0kV7COnMUCZPmtT3LUxQP8zwbqUxDFAZSkXIk3TMUDKHm2JBeIxQDEUw/C98DFAlgkZWHb/MUD8/m6/Lg4yQGP0xCbnHDJAyOkajp8rMkAu33D1VzoyQJTUxlwQSTJA+skcxMhXMkBgv3IrgWYyQMW0yJI5dTJALKoe+vGDMkCRn3RhqpIyQPeUyshioTJAXoogMBuwMkDDf3aX074yQCl1zP6LzTJAj2oiZkTcMkD1X3jN/OoyQFtVzjS1+TJAwEoknG0IM0AnQHoDJhczQIw10GreJTNA8iom0pY0M0BZIHw5T0MzQL4V0qAHUjNAJAsoCMBgM0CKAH5veG8zQPD109YwfjNAVuspPumMM0C74H+loZszQCLW1QxaqjNAh8srdBK5M0DtwIHbysczQFS210KD1jNAuastqjvlM0AfoYMR9PMzQIWW2XisAjRA64sv4GQRNEBRgYVHHSA0QLZ2267VLjRAHWwxFo49NECCYYd9Rkw0QOhW3eT+WjRAT0wzTLdpNEC0QYmzb3g0QBo33xoohzRAgCw1guCVNEDmIYvpmKQ0QEwX4VBRszRAsQw3uAnCNEAYAo0fwtA0QH334oZ63zRA4+w47jLuNEBK4o5V6/w0QK/X5LyjCzVAFc06JFwaNUB7wpCLFCk1QOG35vLMNzVAR608WoVGNUCsopLBPVU1QBOY6Cj2YzVAeI0+kK5yNUDegpT3ZoE1QEV46l4fkDVAqm1AxteeNUAQY5YtkK01QHZY7JRIvDVA3E1C/ADLNUBCQ5hjudk1QKc47spx6DVADi5EMir3NUBzI5qZ4gU2QNkY8ACbFDZAPw5GaFMjNkClA5zPCzI2QAv58TbEQDZAce5HnnxPNkDX450FNV42QD3Z82ztbDZAos5J1KV7NkAJxJ87Xoo2QG659aIWmTZA1K5LCs+nNkA6pKFxh7Y2QKCZ99g/xTZABo9NQPjTNkBshKOnsOI2QNJ5+Q5p8TZAOG9PdiEAN0CdZKXd2Q43QARa+0SSHTdAaU9RrEosN0DPRKcTAzs3QDU6/Xq7STdAmy9T4nNYN0ABJalJLGc3QGca/7DkdTdAzA9VGJ2EN0AzBat/VZM3QJn6AOcNojdA/+9WTsawN0Bk5ay1fr83QMraAh03zjdAMNBYhO/cN0CVxa7rp+s3QP26BFNg+jdAYrBauhgJOEDIpbAh0Rc4QC6bBomJJjhAk5Bc8EE1OED5hbJX+kM4QF97CL+yUjhAxnBeJmthOEArZrSNI3A4QJFbCvXbfjhA91BgXJSNOEBdRrbDTJw4QMI7DCsFqzhAKTFikr25OECPJrj5dcg4QPUbDmEu1zhAWhFkyOblOEDABrovn/Q4QCb8D5dXAzlAi/Fl/g8SOUDz5rtlyCA5QFjcEc2ALzlAvtFnNDk+OUAkx72b8Uw5QIm8EwOqWzlA77FpamJqOUBVp7/RGnk5QLycFTnThzlAIZJroIuWOUCHh8EHRKU5QO18F2/8szlAUnJt1rTCOUC4Z8M9bdE5QB9dGaUl4DlAhVJvDN7uOUDrR8Vzlv05QFA9G9tODDpAtjJxQgcbOkAcKMepvyk6QIEdHRF4ODpA6RJzeDBHOkBOCMnf6FU6QLT9HkehZDpAGvN0rllzOkB/6MoVEoI6QOXdIH3KkDpAS9N25IKfOkCyyMxLO646QBe+IrPzvDpAfbN4GqzLOkDjqM6BZNo6QEieJOkc6TpArpN6UNX3OkAVidC3jQY7QHt+Jh9GFTtA4XN8hv4jO0BGadLttjI7QKxeKFVvQTtAElR+vCdQO0B3SdQj4F47QN8+KouYbTtARDSA8lB8O0CqKdZZCYs7QBAfLMHBmTtAdRSCKHqoO0DbCdiPMrc7QEH/LffqxTtAqPSDXqPUO0AN6tnFW+M7QHPfLy0U8jtA2dSFlMwAPEA+ytv7hA88QKS/MWM9HjxAC7WHyvUsPEBxqt0xrjs8QNefM5lmSjxAPJWJAB9ZPECiit9n12c8QAiANc+PdjxAbXWLNkiFPEDUauGdAJQ8QDpgNwW5ojxAoFWNbHGxPEAGS+PTKcA8QGtAOTvizjxA0TWPoprdPEA3K+UJU+w8QJ4gO3EL+zxAAxaR2MMJPUBpC+c/fBg9QM8APac0Jz1ANPaSDu01PUCa6+h1pUQ9QAHhPt1dUz1AZ9aURBZiPUDNy+qrznA9QDLBQBOHfz1AmLaWej+OPUD+q+zh95w9QGOhQkmwqz1AypaYsGi6PUAwjO4XIck9QJaBRH/Z1z1A/Haa5pHmPUBhbPBNSvU9QMdhRrUCBD5ALVecHLsSPkCUTPKDcyE+QPlBSOsrMD5AXzeeUuQ+PkDFLPS5nE0+QCoiSiFVXD5AkBegiA1rPkD3DPbvxXk+QF0CTFd+iD5Aw/ehvjaXPkAo7fcl76U+QI7iTY2ntD5A9Nej9F/DPkBZzflbGNI+QMDCT8PQ4D5AJrilKonvPkCMrfuRQf4+QPGiUfn5DD9AV5inYLIbP0C9jf3Haio/QCODUy8jOT9AiniplttHP0Dvbf/9k1Y/QFVjVWVMZT9Au1irzAR0P0AgTgE0vYI/QIZDV5t1kT9A7TitAi6gP0BTLgNq5q4/QLkjWdGevT9AHhmvOFfMP0CEDgWgD9s/QOoDWwfI6T9AT/mwboD4P0BbdwNrnANAQA5yrp74CkBAwWxZ0lQSQEB0ZwQGsRlAQCdirzkNIUBA2VxabWkoQECMVwWhxS9AQEBSsNQhN0BA80xbCH4+QECmRwY82kVAQFhCsW82TUBACz1co5JUQEC+NwfX7ltAQHIysgpLY0BAJC1dPqdqQEDXJwhyA3JAQIois6VfeUBAPR1e2buAQEDwFwkNGIhAQKMStEB0j0BAVg1fdNCWQEAJCAqoLJ5AQLwCtduIpUBAb/1fD+WsQEAi+ApDQbRAQNTytXadu0BAh+1gqvnCQEA76AveVcpAQO7ithGy0UBAoN1hRQ7ZQEBT2Ax5auBAQAbTt6zG50BAuc1i4CLvQEBtyA0Uf/ZAQB/DuEfb/UBA0r1jezcFQUCFuA6vkwxBQDizueLvE0FA661kFkwbQUCeqA9KqCJBQFGjun0EKkFABJ5lsWAxQUC3mBDlvDhBQGqTuxgZQEFAHY5mTHVHQUDPiBGA0U5BQIKDvLMtVkFANn5n54ldQUDpeBIb5mRBQJtzvU5CbEFATm5ogp5zQUABaRO2+npBQLRjvulWgkFAaF5pHbOJQUAaWRRRD5FBQM1Tv4RrmEFAgE5quMefQUAzSRXsI6dBQOZDwB+ArkFAmT5rU9y1QUBMORaHOL1BQP8zwbqUxEFAsi5s7vDLQUBlKRciTdNBQBgkwlWp2kFAyh5tiQXiQUB9GRi9YelBQDEUw/C98EFA5A5uJBr4QUCWCRlYdv9BQEkExIvSBkJA/P5uvy4OQkCv+RnzihVCQGP0xCbnHEJAFe9vWkMkQkDI6RqOnytCQHvkxcH7MkJALt9w9Vc6QkDh2RsptEFCQJTUxlwQSUJAR89xkGxQQkD6yRzEyFdCQK3Ex/ckX0JAYL9yK4FmQkATuh1f3W1CQMW0yJI5dUJAeK9zxpV8QkAsqh768YNCQN+kyS1Oi0JAkZ90YaqSQkBEmh+VBppCQPeUyshioUJAqo91/L6oQkBeiiAwG7BCQBCFy2N3t0JAw392l9O+QkB2eiHLL8ZCQCl1zP6LzUJA3G93MujUQkCPaiJmRNxCQEJlzZmg40JA9V94zfzqQkCoWiMBWfJCQFtVzjS1+UJADlB5aBEBQ0DASiScbQhDQHNFz8/JD0NAJ0B6AyYXQ0DaOiU3gh5DQIw10GreJUNAPzB7njotQ0DyKibSljRDQKUl0QXzO0NAWSB8OU9DQ0ALGydtq0pDQL4V0qAHUkNAcRB91GNZQ0AkCygIwGBDQNcF0zscaENAigB+b3hvQ0A9+yij1HZDQPD109YwfkNAo/B+Co2FQ0BW6yk+6YxDQAnm1HFFlENAu+B/paGbQ0Bu2yrZ/aJDQCLW1QxaqkNA1dCAQLaxQ0CHyyt0ErlDQDrG1qduwENA7cCB28rHQ0CguywPJ89DQFS210KD1kNABrGCdt/dQ0C5qy2qO+VDQGym2N2X7ENAH6GDEfTzQ0DSmy5FUPtDQIWW2XisAkRAOJGErAgKREDriy/gZBFEQJ6G2hPBGERAUYGFRx0gREAEfDB7eSdEQLZ2267VLkRAaXGG4jE2REAdbDEWjj1EQNBm3EnqRERAgmGHfUZMREA1XDKxolNEQOhW3eT+WkRAm1GIGFtiREBPTDNMt2lEQAFH3n8TcURAtEGJs294REBnPDTny39EQBo33xooh0RAzTGKToSORECALDWC4JVEQDMn4LU8nURA5iGL6ZikRECZHDYd9atEQEwX4VBRs0RA/hGMhK26RECxDDe4CcJEQGQH4utlyURAGAKNH8LQREDL/DdTHthEQH334oZ630RAMPKNutbmREDj7DjuMu5EQJbn4yGP9URASuKOVev8RED83DmJRwRFQK/X5LyjC0VAYtKP8P8SRUAVzTokXBpFQMjH5Ve4IUVAe8KQixQpRUAuvTu/cDBFQOG35vLMN0VAlLKRJik/RUBHrTxahUZFQPmn543hTUVArKKSwT1VRUBfnT31mVxFQBOY6Cj2Y0VAxpKTXFJrRUB4jT6QrnJFQCuI6cMKekVA3oKU92aBRUCRfT8rw4hFQEV46l4fkEVA93KVknuXRUCqbUDG155FQF1o6/kzpkVAEGOWLZCtRUDDXUFh7LRFQHZY7JRIvEVAKVOXyKTDRUDcTUL8AMtFQI9I7S9d0kVAQkOYY7nZRUD0PUOXFeFFQKc47spx6EVAWjOZ/s3vRUAOLkQyKvdFQMEo72WG/kVAcyOameIFRkAmHkXNPg1GQNkY8ACbFEZAjBObNPcbRkA/DkZoUyNGQPII8ZuvKkZApQOczwsyRkBY/kYDaDlGQAv58TbEQEZAvvOcaiBIRkBx7keefE9GQCTp8tHYVkZA1+OdBTVeRkCK3kg5kWVGQD3Z82ztbEZA79OeoEl0RkCizknUpXtGQFXJ9AcCg0ZACcSfO16KRkC8vkpvupFGQG659aIWmUZAIbSg1nKgRkDUrksKz6dGQIep9j0rr0ZAOqShcYe2RkDtnkyl471GQKCZ99g/xUZAU5SiDJzMRkAGj01A+NNGQLmJ+HNU20ZAbISjp7DiRkAff07bDOpGQNJ5+Q5p8UZAhXSkQsX4RkA4b092IQBHQOpp+ql9B0dAnWSl3dkOR0BQX1ARNhZHQARa+0SSHUdAt1SmeO4kR0BpT1GsSixHQBxK/N+mM0dAz0SnEwM7R0CCP1JHX0JHQDU6/Xq7SUdA6DSorhdRR0CbL1Pic1hHQE4q/hXQX0dAASWpSSxnR0A=",
          "dtype": "f8"
         },
         "xaxis": "x",
         "y": {
          "bdata": "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",
          "dtype": "f8"
         },
         "yaxis": "y"
        },
        {
         "line": {
          "color": "blue",
          "width": 3
         },
         "mode": "lines",
         "name": "DVL Distance",
         "type": "scatter",
         "x": {
          "bdata": "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",
          "dtype": "f8"
         },
         "xaxis": "x",
         "y": {
          "bdata": "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",
          "dtype": "f8"
         },
         "yaxis": "y"
        }
       ],
       "layout": {
        "height": 600,
        "hovermode": "x unified",
        "template": {
         "data": {
          "bar": [
           {
            "error_x": {
             "color": "#2a3f5f"
            },
            "error_y": {
             "color": "#2a3f5f"
            },
            "marker": {
             "line": {
              "color": "#E5ECF6",
              "width": 0.5
             },
             "pattern": {
              "fillmode": "overlay",
              "size": 10,
              "solidity": 0.2
             }
            },
            "type": "bar"
           }
          ],
          "barpolar": [
           {
            "marker": {
             "line": {
              "color": "#E5ECF6",
              "width": 0.5
             },
             "pattern": {
              "fillmode": "overlay",
              "size": 10,
              "solidity": 0.2
             }
            },
            "type": "barpolar"
           }
          ],
          "carpet": [
           {
            "aaxis": {
             "endlinecolor": "#2a3f5f",
             "gridcolor": "white",
             "linecolor": "white",
             "minorgridcolor": "white",
             "startlinecolor": "#2a3f5f"
            },
            "baxis": {
             "endlinecolor": "#2a3f5f",
             "gridcolor": "white",
             "linecolor": "white",
             "minorgridcolor": "white",
             "startlinecolor": "#2a3f5f"
            },
            "type": "carpet"
           }
          ],
          "choropleth": [
           {
            "colorbar": {
             "outlinewidth": 0,
             "ticks": ""
            },
            "type": "choropleth"
           }
          ],
          "contour": [
           {
            "colorbar": {
             "outlinewidth": 0,
             "ticks": ""
            },
            "colorscale": [
             [
              0,
              "#0d0887"
             ],
             [
              0.1111111111111111,
              "#46039f"
             ],
             [
              0.2222222222222222,
              "#7201a8"
             ],
             [
              0.3333333333333333,
              "#9c179e"
             ],
             [
              0.4444444444444444,
              "#bd3786"
             ],
             [
              0.5555555555555556,
              "#d8576b"
             ],
             [
              0.6666666666666666,
              "#ed7953"
             ],
             [
              0.7777777777777778,
              "#fb9f3a"
             ],
             [
              0.8888888888888888,
              "#fdca26"
             ],
             [
              1,
              "#f0f921"
             ]
            ],
            "type": "contour"
           }
          ],
          "contourcarpet": [
           {
            "colorbar": {
             "outlinewidth": 0,
             "ticks": ""
            },
            "type": "contourcarpet"
           }
          ],
          "heatmap": [
           {
            "colorbar": {
             "outlinewidth": 0,
             "ticks": ""
            },
            "colorscale": [
             [
              0,
              "#0d0887"
             ],
             [
              0.1111111111111111,
              "#46039f"
             ],
             [
              0.2222222222222222,
              "#7201a8"
             ],
             [
              0.3333333333333333,
              "#9c179e"
             ],
             [
              0.4444444444444444,
              "#bd3786"
             ],
             [
              0.5555555555555556,
              "#d8576b"
             ],
             [
              0.6666666666666666,
              "#ed7953"
             ],
             [
              0.7777777777777778,
              "#fb9f3a"
             ],
             [
              0.8888888888888888,
              "#fdca26"
             ],
             [
              1,
              "#f0f921"
             ]
            ],
            "type": "heatmap"
           }
          ],
          "histogram": [
           {
            "marker": {
             "pattern": {
              "fillmode": "overlay",
              "size": 10,
              "solidity": 0.2
             }
            },
            "type": "histogram"
           }
          ],
          "histogram2d": [
           {
            "colorbar": {
             "outlinewidth": 0,
             "ticks": ""
            },
            "colorscale": [
             [
              0,
              "#0d0887"
             ],
             [
              0.1111111111111111,
              "#46039f"
             ],
             [
              0.2222222222222222,
              "#7201a8"
             ],
             [
              0.3333333333333333,
              "#9c179e"
             ],
             [
              0.4444444444444444,
              "#bd3786"
             ],
             [
              0.5555555555555556,
              "#d8576b"
             ],
             [
              0.6666666666666666,
              "#ed7953"
             ],
             [
              0.7777777777777778,
              "#fb9f3a"
             ],
             [
              0.8888888888888888,
              "#fdca26"
             ],
             [
              1,
              "#f0f921"
             ]
            ],
            "type": "histogram2d"
           }
          ],
          "histogram2dcontour": [
           {
            "colorbar": {
             "outlinewidth": 0,
             "ticks": ""
            },
            "colorscale": [
             [
              0,
              "#0d0887"
             ],
             [
              0.1111111111111111,
              "#46039f"
             ],
             [
              0.2222222222222222,
              "#7201a8"
             ],
             [
              0.3333333333333333,
              "#9c179e"
             ],
             [
              0.4444444444444444,
              "#bd3786"
             ],
             [
              0.5555555555555556,
              "#d8576b"
             ],
             [
              0.6666666666666666,
              "#ed7953"
             ],
             [
              0.7777777777777778,
              "#fb9f3a"
             ],
             [
              0.8888888888888888,
              "#fdca26"
             ],
             [
              1,
              "#f0f921"
             ]
            ],
            "type": "histogram2dcontour"
           }
          ],
          "mesh3d": [
           {
            "colorbar": {
             "outlinewidth": 0,
             "ticks": ""
            },
            "type": "mesh3d"
           }
          ],
          "parcoords": [
           {
            "line": {
             "colorbar": {
              "outlinewidth": 0,
              "ticks": ""
             }
            },
            "type": "parcoords"
           }
          ],
          "pie": [
           {
            "automargin": true,
            "type": "pie"
           }
          ],
          "scatter": [
           {
            "fillpattern": {
             "fillmode": "overlay",
             "size": 10,
             "solidity": 0.2
            },
            "type": "scatter"
           }
          ],
          "scatter3d": [
           {
            "line": {
             "colorbar": {
              "outlinewidth": 0,
              "ticks": ""
             }
            },
            "marker": {
             "colorbar": {
              "outlinewidth": 0,
              "ticks": ""
             }
            },
            "type": "scatter3d"
           }
          ],
          "scattercarpet": [
           {
            "marker": {
             "colorbar": {
              "outlinewidth": 0,
              "ticks": ""
             }
            },
            "type": "scattercarpet"
           }
          ],
          "scattergeo": [
           {
            "marker": {
             "colorbar": {
              "outlinewidth": 0,
              "ticks": ""
             }
            },
            "type": "scattergeo"
           }
          ],
          "scattergl": [
           {
            "marker": {
             "colorbar": {
              "outlinewidth": 0,
              "ticks": ""
             }
            },
            "type": "scattergl"
           }
          ],
          "scattermap": [
           {
            "marker": {
             "colorbar": {
              "outlinewidth": 0,
              "ticks": ""
             }
            },
            "type": "scattermap"
           }
          ],
          "scattermapbox": [
           {
            "marker": {
             "colorbar": {
              "outlinewidth": 0,
              "ticks": ""
             }
            },
            "type": "scattermapbox"
           }
          ],
          "scatterpolar": [
           {
            "marker": {
             "colorbar": {
              "outlinewidth": 0,
              "ticks": ""
             }
            },
            "type": "scatterpolar"
           }
          ],
          "scatterpolargl": [
           {
            "marker": {
             "colorbar": {
              "outlinewidth": 0,
              "ticks": ""
             }
            },
            "type": "scatterpolargl"
           }
          ],
          "scatterternary": [
           {
            "marker": {
             "colorbar": {
              "outlinewidth": 0,
              "ticks": ""
             }
            },
            "type": "scatterternary"
           }
          ],
          "surface": [
           {
            "colorbar": {
             "outlinewidth": 0,
             "ticks": ""
            },
            "colorscale": [
             [
              0,
              "#0d0887"
             ],
             [
              0.1111111111111111,
              "#46039f"
             ],
             [
              0.2222222222222222,
              "#7201a8"
             ],
             [
              0.3333333333333333,
              "#9c179e"
             ],
             [
              0.4444444444444444,
              "#bd3786"
             ],
             [
              0.5555555555555556,
              "#d8576b"
             ],
             [
              0.6666666666666666,
              "#ed7953"
             ],
             [
              0.7777777777777778,
              "#fb9f3a"
             ],
             [
              0.8888888888888888,
              "#fdca26"
             ],
             [
              1,
              "#f0f921"
             ]
            ],
            "type": "surface"
           }
          ],
          "table": [
           {
            "cells": {
             "fill": {
              "color": "#EBF0F8"
             },
             "line": {
              "color": "white"
             }
            },
            "header": {
             "fill": {
              "color": "#C8D4E3"
             },
             "line": {
              "color": "white"
             }
            },
            "type": "table"
           }
          ]
         },
         "layout": {
          "annotationdefaults": {
           "arrowcolor": "#2a3f5f",
           "arrowhead": 0,
           "arrowwidth": 1
          },
          "autotypenumbers": "strict",
          "coloraxis": {
           "colorbar": {
            "outlinewidth": 0,
            "ticks": ""
           }
          },
          "colorscale": {
           "diverging": [
            [
             0,
             "#8e0152"
            ],
            [
             0.1,
             "#c51b7d"
            ],
            [
             0.2,
             "#de77ae"
            ],
            [
             0.3,
             "#f1b6da"
            ],
            [
             0.4,
             "#fde0ef"
            ],
            [
             0.5,
             "#f7f7f7"
            ],
            [
             0.6,
             "#e6f5d0"
            ],
            [
             0.7,
             "#b8e186"
            ],
            [
             0.8,
             "#7fbc41"
            ],
            [
             0.9,
             "#4d9221"
            ],
            [
             1,
             "#276419"
            ]
           ],
           "sequential": [
            [
             0,
             "#0d0887"
            ],
            [
             0.1111111111111111,
             "#46039f"
            ],
            [
             0.2222222222222222,
             "#7201a8"
            ],
            [
             0.3333333333333333,
             "#9c179e"
            ],
            [
             0.4444444444444444,
             "#bd3786"
            ],
            [
             0.5555555555555556,
             "#d8576b"
            ],
            [
             0.6666666666666666,
             "#ed7953"
            ],
            [
             0.7777777777777778,
             "#fb9f3a"
            ],
            [
             0.8888888888888888,
             "#fdca26"
            ],
            [
             1,
             "#f0f921"
            ]
           ],
           "sequentialminus": [
            [
             0,
             "#0d0887"
            ],
            [
             0.1111111111111111,
             "#46039f"
            ],
            [
             0.2222222222222222,
             "#7201a8"
            ],
            [
             0.3333333333333333,
             "#9c179e"
            ],
            [
             0.4444444444444444,
             "#bd3786"
            ],
            [
             0.5555555555555556,
             "#d8576b"
            ],
            [
             0.6666666666666666,
             "#ed7953"
            ],
            [
             0.7777777777777778,
             "#fb9f3a"
            ],
            [
             0.8888888888888888,
             "#fdca26"
            ],
            [
             1,
             "#f0f921"
            ]
           ]
          },
          "colorway": [
           "#636efa",
           "#EF553B",
           "#00cc96",
           "#ab63fa",
           "#FFA15A",
           "#19d3f3",
           "#FF6692",
           "#B6E880",
           "#FF97FF",
           "#FECB52"
          ],
          "font": {
           "color": "#2a3f5f"
          },
          "geo": {
           "bgcolor": "white",
           "lakecolor": "white",
           "landcolor": "#E5ECF6",
           "showlakes": true,
           "showland": true,
           "subunitcolor": "white"
          },
          "hoverlabel": {
           "align": "left"
          },
          "hovermode": "closest",
          "mapbox": {
           "style": "light"
          },
          "paper_bgcolor": "white",
          "plot_bgcolor": "#E5ECF6",
          "polar": {
           "angularaxis": {
            "gridcolor": "white",
            "linecolor": "white",
            "ticks": ""
           },
           "bgcolor": "#E5ECF6",
           "radialaxis": {
            "gridcolor": "white",
            "linecolor": "white",
            "ticks": ""
           }
          },
          "scene": {
           "xaxis": {
            "backgroundcolor": "#E5ECF6",
            "gridcolor": "white",
            "gridwidth": 2,
            "linecolor": "white",
            "showbackground": true,
            "ticks": "",
            "zerolinecolor": "white"
           },
           "yaxis": {
            "backgroundcolor": "#E5ECF6",
            "gridcolor": "white",
            "gridwidth": 2,
            "linecolor": "white",
            "showbackground": true,
            "ticks": "",
            "zerolinecolor": "white"
           },
           "zaxis": {
            "backgroundcolor": "#E5ECF6",
            "gridcolor": "white",
            "gridwidth": 2,
            "linecolor": "white",
            "showbackground": true,
            "ticks": "",
            "zerolinecolor": "white"
           }
          },
          "shapedefaults": {
           "line": {
            "color": "#2a3f5f"
           }
          },
          "ternary": {
           "aaxis": {
            "gridcolor": "white",
            "linecolor": "white",
            "ticks": ""
           },
           "baxis": {
            "gridcolor": "white",
            "linecolor": "white",
            "ticks": ""
           },
           "bgcolor": "#E5ECF6",
           "caxis": {
            "gridcolor": "white",
            "linecolor": "white",
            "ticks": ""
           }
          },
          "title": {
           "x": 0.05
          },
          "xaxis": {
           "automargin": true,
           "gridcolor": "white",
           "linecolor": "white",
           "ticks": "",
           "title": {
            "standoff": 15
           },
           "zerolinecolor": "white",
           "zerolinewidth": 2
          },
          "yaxis": {
           "automargin": true,
           "gridcolor": "white",
           "linecolor": "white",
           "ticks": "",
           "title": {
            "standoff": 15
           },
           "zerolinecolor": "white",
           "zerolinewidth": 2
          }
         }
        },
        "title": {
         "text": "🔄 Interactive Distance Comparison: Sonar vs DVL"
        },
        "xaxis": {
         "anchor": "y",
         "domain": [
          0,
          1
         ],
         "showgrid": true,
         "title": {
          "text": "Time (seconds)"
         }
        },
        "yaxis": {
         "anchor": "x",
         "domain": [
          0,
          1
         ],
         "showgrid": true,
         "title": {
          "text": "Distance (meters)"
         }
        }
       }
      }
     },
     "metadata": {},
     "output_type": "display_data"
    }
   ],
   "source": [
    "try:\n",
    "    fig, comparison_stats = iau.interactive_distance_comparison(distance_results, raw_data, sonar_coverage_m=sonar_coverage_meters, sonar_image_size=image_shape[0])\n",
    "    if comparison_stats and isinstance(comparison_stats, dict) and 'error' in comparison_stats:\n",
    "        print('Comparison did not run:', comparison_stats['error'])\n",
    "    else:\n",
    "        print('\\nComparison stats summary:')\n",
    "        from pprint import pprint\n",
    "        pprint(comparison_stats)\n",
    "        # Display the interactive plot\n",
    "        fig.show()\n",
    "except Exception as e:\n",
    "    print('Error running interactive comparison:', e)"
   ]
  },
  {
   "cell_type": "code",
   "execution_count": null,
   "id": "50f97352",
   "metadata": {},
   "outputs": [
    {
     "name": "stdout",
     "output_type": "stream",
     "text": [
      "🎬 GENERATING VIDEO WITH DUAL NET DISTANCE OVERLAYS\n",
      "============================================================\n",
      "🎯 Target Bag: 2024-08-20_14-16-05\n",
      "📊 DVL Data: 420 records\n",
      "📏 Sonar Analysis: 814 frames\n",
      "🎥 Camera: disabled\n",
      "🛠️ OPTIMIZED SONAR VIDEO\n",
      "======================================================================\n",
      "🎯 Target Bag: 2024-08-20_14-16-05\n",
      "   Cone Size: 900x700\n",
      "   Range: 0.0-5.0m | FOV: 120.0°\n",
      "   🎥 Camera: disabled\n",
      "   🕸  Net-line: enabled (dist tol=0.5s, pitch tol=2.0s)\n",
      "   📊 Sonar Analysis: enabled\n",
      "   Loading sonar data: sensor_sonoptix_echo_image__2024-08-20_14-16-05_video.csv\n",
      "   ✅ Loaded 815 sonar frames in 34.85s\n",
      "   ✅ Loaded 420 navigation records in 0.04s\n",
      "      Available: ['NetDistance', 'NetPitch', 'timestamp']\n",
      "   Frames: 1..814 (step 1) => 814\n",
      "   Natural FPS: 17.0\n",
      "   ✅ Loaded 815 sonar frames in 34.85s\n",
      "   ✅ Loaded 420 navigation records in 0.04s\n",
      "      Available: ['NetDistance', 'NetPitch', 'timestamp']\n",
      "   Frames: 1..814 (step 1) => 814\n",
      "   Natural FPS: 17.0\n"
     ]
    }
   ],
   "source": [
    "# 🎥 Generate Video with Both DVL and Sonar Analysis Overlays\n",
    "# ========================================================\n",
    "import utils.sonar_and_foto_generation as sg\n",
    "\n",
    "# Set up paths\n",
    "VIDEO_SEQ_DIR = None  # Set to path if you want camera footage included\n",
    "\n",
    "print(\"🎬 GENERATING VIDEO WITH DUAL NET DISTANCE OVERLAYS\")\n",
    "print(\"=\" * 60)\n",
    "print(f\"🎯 Target Bag: {TARGET_BAG}\")\n",
    "print(f\"📊 DVL Data: {len(raw_data.get('navigation', []))} records\")\n",
    "print(f\"📏 Sonar Analysis: {len(distance_results)} frames\")\n",
    "print(f\"🎥 Camera: {'enabled' if VIDEO_SEQ_DIR else 'disabled'}\")\n",
    "\n",
    "# Generate the video with both overlays\n",
    "try:\n",
    "    video_path = sg.export_optimized_sonar_video(\n",
    "        TARGET_BAG=TARGET_BAG,\n",
    "        EXPORTS_FOLDER=EXPORTS_FOLDER,\n",
    "        START_IDX=1,\n",
    "        END_IDX=1000,  # Adjust as needed\n",
    "        STRIDE=1,\n",
    "        VIDEO_SEQ_DIR=VIDEO_SEQ_DIR,\n",
    "        INCLUDE_NET=True,  # Enable DVL net distance overlay\n",
    "        SONAR_DISTANCE_RESULTS=distance_results,  # Enable sonar analysis overlay\n",
    "        NET_DISTANCE_TOLERANCE=0.5,\n",
    "        NET_PITCH_TOLERANCE=2.0,  # Increased from 0.3 to 2.0 seconds for better pitch sync\n",
    "    )\n",
    "    print(f\"\\n✅ Video generated successfully!\")\n",
    "    print(f\"📁 Output: {video_path}\")\n",
    "except Exception as e:\n",
    "    print(f\"❌ Error generating video: {e}\")"
   ]
  }
 ],
 "metadata": {
  "kernelspec": {
   "display_name": "venv",
   "language": "python",
   "name": "python3"
  },
  "language_info": {
   "codemirror_mode": {
    "name": "ipython",
    "version": 3
   },
   "file_extension": ".py",
   "mimetype": "text/x-python",
   "name": "python",
   "nbconvert_exporter": "python",
   "pygments_lexer": "ipython3",
   "version": "3.13.5"
  }
 },
 "nbformat": 4,
 "nbformat_minor": 5
}
