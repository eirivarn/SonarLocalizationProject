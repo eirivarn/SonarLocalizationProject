{
 "cells": [
  {
   "cell_type": "code",
   "execution_count": 1,
   "id": "7a8d02c0",
   "metadata": {},
   "outputs": [],
   "source": [
    "# Centralized sonar defaults (inserted by sweep)\n",
    "from utils.sonar_config import SONAR_VIS_DEFAULTS\n",
    "sonar_config = SONAR_VIS_DEFAULTS.copy()\n",
    "# Backwards-compatible variable names used in older notebooks\n",
    "RANGE_MIN_M = sonar_config['range_min_m']\n",
    "RANGE_MAX_M = sonar_config['range_max_m']\n",
    "DISPLAY_RANGE_MAX_M = sonar_config['display_range_max_m']"
   ]
  },
  {
   "cell_type": "markdown",
   "id": "9220eb1d",
   "metadata": {},
   "source": [
    "# Simple Image Analysis with CV2\n",
    "\n",
    "This notebook demonstrates:\n",
    "1. **Pick a frame** from NPZ files and save it locally\n",
    "2. **Use standard cv2 functions** directly for image processing\n",
    "3. **Experiment** with different OpenCV operations"
   ]
  },
  {
   "cell_type": "code",
   "execution_count": 2,
   "id": "4b3e8f46",
   "metadata": {},
   "outputs": [
    {
     "name": "stdout",
     "output_type": "stream",
     "text": [
      "Using DATA_DIR = /Volumes/LaCie/SOLAQUA/raw_data\n",
      "Selected NPZ file: 2024-08-20_14-31-29_data_cones.npz (index=8)\n",
      "Selected NPZ file: 2024-08-20_14-31-29_data_cones.npz (index=8)\n"
     ]
    }
   ],
   "source": [
    "from pathlib import Path\n",
    "import utils.sonar_image_analysis as iau\n",
    "\n",
    "\n",
    "# Prefer selecting by bag ID (part of the NPZ filename) instead of a numeric index.\n",
    "# Set TARGET_BAG to a substring that appears in the NPZ filename (e.g. '2024-08-22_14-29-05')\n",
    "# '2024-08-22_14-47-39'\n",
    "# '2024-08-22_14-29-05'\n",
    "# '2024-08-20_14-31-29' HARD\n",
    "TARGET_BAG = '2024-08-20_14-31-29'  # change this to your desired bag ID\n",
    "from utils.sonar_config import EXPORTS_DIR_DEFAULT, EXPORTS_SUBDIRS\n",
    "EXPORTS_FOLDER = Path(EXPORTS_DIR_DEFAULT)\n",
    "\n",
    "# If you keep your raw .bag files or raw data on an external drive, point DATA_DIR there.\n",
    "# Example (your external disk): /Volumes/LaCie/SOLAQUA/raw_data\n",
    "DATA_DIR = Path(\"/Volumes/LaCie/SOLAQUA/raw_data\")\n",
    "print(f\"Using DATA_DIR = {DATA_DIR}\")\n",
    "\n",
    "# Find NPZ files and pick the one matching TARGET_BAG\n",
    "files = iau.get_available_npz_files()\n",
    "if not files:\n",
    "    raise FileNotFoundError(f\"No NPZ files found in configured exports outputs (looked under {EXPORTS_FOLDER / EXPORTS_SUBDIRS.get('outputs','outputs')})\")\n",
    "matches = [p for p in files if TARGET_BAG in p.name]\n",
    "if not matches:\n",
    "    # Help the user by listing available NPZ files\n",
    "    print(f'No NPZ file matched TARGET_BAG={TARGET_BAG!r}')\n",
    "    print('Available NPZ files:')\n",
    "    for i,p in enumerate(files):\n",
    "        print(f'  {i}: {p.name}')\n",
    "    raise ValueError(f'No NPZ file contains \"{TARGET_BAG}\" in its name')\n",
    "\n",
    "# If multiple matches, choose the most recently modified one\n",
    "selected = max(matches, key=lambda p: p.stat().st_mtime)\n",
    "NPZ_FILE_INDEX = files.index(selected)\n",
    "print(f'Selected NPZ file: {selected.name} (index={NPZ_FILE_INDEX})')"
   ]
  },
  {
   "cell_type": "markdown",
   "id": "0c65358c",
   "metadata": {},
   "source": [
    "## Distance Analysis Over Time\n",
    "\n",
    "Now let's perform a comprehensive analysis of the red line distance over time. The red line represents the major axis of the detected elongated contour (likely a fishing net), and we'll track how this distance changes throughout the video sequence."
   ]
  },
  {
   "cell_type": "code",
   "execution_count": null,
   "id": "d9c0382e",
   "metadata": {},
   "outputs": [
    {
     "name": "stdout",
     "output_type": "stream",
     "text": [
      "=== DISTANCE ANALYSIS FROM NPZ ===\n",
      "Analyzing: /Volumes/LaCie/SOLAQUA/exports/outputs/2024-08-20_14-31-29_data_cones.npz\n",
      "Processing 1000 frames from 1 (step=1)\n",
      "Processing 1000 frames from 1 (step=1)\n",
      "  Processed 50/1000 frames (Success rate: 100.0%)\n",
      "  Processed 50/1000 frames (Success rate: 100.0%)\n",
      "  Processed 100/1000 frames (Success rate: 100.0%)\n",
      "  Processed 100/1000 frames (Success rate: 100.0%)\n",
      "  Processed 150/1000 frames (Success rate: 100.0%)\n",
      "  Processed 150/1000 frames (Success rate: 100.0%)\n",
      "  Processed 200/1000 frames (Success rate: 100.0%)\n",
      "  Processed 200/1000 frames (Success rate: 100.0%)\n",
      "  Processed 250/1000 frames (Success rate: 100.0%)\n",
      "  Processed 250/1000 frames (Success rate: 100.0%)\n",
      "  Processed 300/1000 frames (Success rate: 100.0%)\n",
      "  Processed 300/1000 frames (Success rate: 100.0%)\n",
      "  Processed 350/1000 frames (Success rate: 100.0%)\n",
      "  Processed 350/1000 frames (Success rate: 100.0%)\n",
      "  Processed 400/1000 frames (Success rate: 100.0%)\n",
      "  Processed 400/1000 frames (Success rate: 100.0%)\n",
      "  Processed 450/1000 frames (Success rate: 100.0%)\n",
      "  Processed 450/1000 frames (Success rate: 100.0%)\n",
      "  Processed 500/1000 frames (Success rate: 100.0%)\n",
      "  Processed 500/1000 frames (Success rate: 100.0%)\n",
      "  Processed 550/1000 frames (Success rate: 100.0%)\n",
      "  Processed 550/1000 frames (Success rate: 100.0%)\n",
      "  Processed 600/1000 frames (Success rate: 100.0%)\n",
      "  Processed 600/1000 frames (Success rate: 100.0%)\n",
      "  Processed 650/1000 frames (Success rate: 100.0%)\n",
      "  Processed 650/1000 frames (Success rate: 100.0%)\n",
      "  Processed 700/1000 frames (Success rate: 100.0%)\n",
      "  Processed 700/1000 frames (Success rate: 100.0%)\n",
      "  Processed 750/1000 frames (Success rate: 100.0%)\n",
      "  Processed 750/1000 frames (Success rate: 100.0%)\n",
      "  Processed 800/1000 frames (Success rate: 100.0%)\n",
      "  Processed 800/1000 frames (Success rate: 100.0%)\n",
      "  Processed 850/1000 frames (Success rate: 100.0%)\n",
      "  Processed 850/1000 frames (Success rate: 100.0%)\n",
      "  Processed 900/1000 frames (Success rate: 100.0%)\n",
      "  Processed 900/1000 frames (Success rate: 100.0%)\n",
      "  Processed 950/1000 frames (Success rate: 100.0%)\n",
      "  Processed 950/1000 frames (Success rate: 100.0%)\n",
      "  Processed 1000/1000 frames (Success rate: 100.0%)\n",
      "\n",
      "=== ANALYSIS COMPLETE ===\n",
      "Total frames processed: 1000\n",
      "Successful detections: 1000 (100.0%)\n",
      "Distance statistics (meters):\n",
      "  - Mean: 1.975\n",
      "  - Std:  0.230\n",
      "  - Min:  1.581\n",
      "  - Max:  2.893\n",
      "  - Range: 1.312\n",
      "✅ Analyzed 1000 frames using elliptical AOI\n",
      "🎯 Detection success rate: 100.0%\n",
      "📊 Elliptical tracking active: 0 frames\n",
      "  Processed 1000/1000 frames (Success rate: 100.0%)\n",
      "\n",
      "=== ANALYSIS COMPLETE ===\n",
      "Total frames processed: 1000\n",
      "Successful detections: 1000 (100.0%)\n",
      "Distance statistics (meters):\n",
      "  - Mean: 1.975\n",
      "  - Std:  0.230\n",
      "  - Min:  1.581\n",
      "  - Max:  2.893\n",
      "  - Range: 1.312\n",
      "✅ Analyzed 1000 frames using elliptical AOI\n",
      "🎯 Detection success rate: 100.0%\n",
      "📊 Elliptical tracking active: 0 frames\n"
     ]
    }
   ],
   "source": [
    "# First reload the module to get the latest elliptical AOI changes\n",
    "import importlib\n",
    "importlib.reload(iau)\n",
    "\n",
    "# Create the unified processor\n",
    "processor = iau.SonarDataProcessor()\n",
    "\n",
    "# Use the new Distance Analysis Engine with elliptical AOI\n",
    "engine = iau.DistanceAnalysisEngine()\n",
    "distance_results = engine.analyze_npz_sequence(\n",
    "    npz_file_index=NPZ_FILE_INDEX,    \n",
    "    frame_start=1,        # Start from frame 1\n",
    "    frame_count=1000,      # Analyze all frames from the video\n",
    "    frame_step=1          # Every frame\n",
    ")\n",
    "\n",
    "print(f\"✅ Analyzed {len(distance_results)} frames using elliptical AOI\")\n",
    "print(f\"🎯 Detection success rate: {distance_results['detection_success'].mean():.1%}\")\n",
    "print(f\"📊 Elliptical tracking active: {(distance_results['tracking_status'].str.contains('ELLIPSE')).sum()} frames\")"
   ]
  },
  {
   "cell_type": "code",
   "execution_count": 4,
   "id": "b9c5da85",
   "metadata": {},
   "outputs": [
    {
     "name": "stdout",
     "output_type": "stream",
     "text": [
      "=== ENHANCED VIDEO CREATION (Simplified) ===\n",
      "Creating video with simplified processor...\n",
      "Frames: 1000, step: 1\n",
      "✅ Processing 1000 frames with simplified processor...\n",
      "✅ Processing 1000 frames with simplified processor...\n",
      "Processed 10/1000 frames\n",
      "Processed 10/1000 frames\n",
      "Processed 20/1000 frames\n",
      "Processed 20/1000 frames\n",
      "Processed 30/1000 frames\n",
      "Processed 30/1000 frames\n",
      "Processed 40/1000 frames\n",
      "Processed 40/1000 frames\n",
      "Processed 50/1000 frames\n",
      "Processed 50/1000 frames\n",
      "Processed 60/1000 frames\n",
      "Processed 60/1000 frames\n",
      "Processed 70/1000 frames\n",
      "Processed 70/1000 frames\n",
      "Processed 80/1000 frames\n",
      "Processed 80/1000 frames\n",
      "Processed 90/1000 frames\n",
      "Processed 90/1000 frames\n",
      "Processed 100/1000 frames\n",
      "Processed 100/1000 frames\n",
      "Processed 110/1000 frames\n",
      "Processed 110/1000 frames\n",
      "Processed 120/1000 frames\n",
      "Processed 120/1000 frames\n",
      "Processed 130/1000 frames\n",
      "Processed 130/1000 frames\n",
      "Processed 140/1000 frames\n",
      "Processed 140/1000 frames\n",
      "Processed 150/1000 frames\n",
      "Processed 150/1000 frames\n",
      "Processed 160/1000 frames\n",
      "Processed 160/1000 frames\n",
      "Processed 170/1000 frames\n",
      "Processed 170/1000 frames\n",
      "Processed 180/1000 frames\n",
      "Processed 180/1000 frames\n",
      "Processed 190/1000 frames\n",
      "Processed 190/1000 frames\n",
      "Processed 200/1000 frames\n",
      "Processed 200/1000 frames\n",
      "Processed 210/1000 frames\n",
      "Processed 210/1000 frames\n",
      "Processed 220/1000 frames\n",
      "Processed 220/1000 frames\n",
      "Processed 230/1000 frames\n",
      "Processed 230/1000 frames\n",
      "Processed 240/1000 frames\n",
      "Processed 240/1000 frames\n",
      "Processed 250/1000 frames\n",
      "Processed 250/1000 frames\n",
      "Processed 260/1000 frames\n",
      "Processed 260/1000 frames\n",
      "Processed 270/1000 frames\n",
      "Processed 270/1000 frames\n",
      "Processed 280/1000 frames\n",
      "Processed 280/1000 frames\n",
      "Processed 290/1000 frames\n",
      "Processed 290/1000 frames\n",
      "Processed 300/1000 frames\n",
      "Processed 300/1000 frames\n",
      "Processed 310/1000 frames\n",
      "Processed 310/1000 frames\n",
      "Processed 320/1000 frames\n",
      "Processed 320/1000 frames\n",
      "Processed 330/1000 frames\n",
      "Processed 330/1000 frames\n",
      "Processed 340/1000 frames\n",
      "Processed 340/1000 frames\n",
      "Processed 350/1000 frames\n",
      "Processed 350/1000 frames\n",
      "Processed 360/1000 frames\n",
      "Processed 360/1000 frames\n",
      "Processed 370/1000 frames\n",
      "Processed 370/1000 frames\n",
      "Processed 380/1000 frames\n",
      "Processed 380/1000 frames\n",
      "Processed 390/1000 frames\n",
      "Processed 390/1000 frames\n",
      "Processed 400/1000 frames\n",
      "Processed 400/1000 frames\n",
      "Processed 410/1000 frames\n",
      "Processed 410/1000 frames\n",
      "Processed 420/1000 frames\n",
      "Processed 420/1000 frames\n",
      "Processed 430/1000 frames\n",
      "Processed 430/1000 frames\n",
      "Processed 440/1000 frames\n",
      "Processed 440/1000 frames\n",
      "Processed 450/1000 frames\n",
      "Processed 450/1000 frames\n",
      "Processed 460/1000 frames\n",
      "Processed 460/1000 frames\n",
      "Processed 470/1000 frames\n",
      "Processed 470/1000 frames\n",
      "Processed 480/1000 frames\n",
      "Processed 480/1000 frames\n",
      "Processed 490/1000 frames\n",
      "Processed 490/1000 frames\n",
      "Processed 500/1000 frames\n",
      "Processed 500/1000 frames\n",
      "Processed 510/1000 frames\n",
      "Processed 510/1000 frames\n",
      "Processed 520/1000 frames\n",
      "Processed 520/1000 frames\n",
      "Processed 530/1000 frames\n",
      "Processed 530/1000 frames\n",
      "Processed 540/1000 frames\n",
      "Processed 540/1000 frames\n",
      "Processed 550/1000 frames\n",
      "Processed 550/1000 frames\n",
      "Processed 560/1000 frames\n",
      "Processed 560/1000 frames\n",
      "Processed 570/1000 frames\n",
      "Processed 570/1000 frames\n",
      "Processed 580/1000 frames\n",
      "Processed 580/1000 frames\n",
      "Processed 590/1000 frames\n",
      "Processed 590/1000 frames\n",
      "Processed 600/1000 frames\n",
      "Processed 600/1000 frames\n",
      "Processed 610/1000 frames\n",
      "Processed 610/1000 frames\n",
      "Processed 620/1000 frames\n",
      "Processed 620/1000 frames\n",
      "Processed 630/1000 frames\n",
      "Processed 630/1000 frames\n",
      "Processed 640/1000 frames\n",
      "Processed 640/1000 frames\n",
      "Processed 650/1000 frames\n",
      "Processed 650/1000 frames\n",
      "Processed 660/1000 frames\n",
      "Processed 660/1000 frames\n",
      "Processed 670/1000 frames\n",
      "Processed 670/1000 frames\n",
      "Processed 680/1000 frames\n",
      "Processed 680/1000 frames\n",
      "Processed 690/1000 frames\n",
      "Processed 690/1000 frames\n",
      "Processed 700/1000 frames\n",
      "Processed 700/1000 frames\n",
      "Processed 710/1000 frames\n",
      "Processed 710/1000 frames\n",
      "Processed 720/1000 frames\n",
      "Processed 720/1000 frames\n",
      "Processed 730/1000 frames\n",
      "Processed 730/1000 frames\n",
      "Processed 740/1000 frames\n",
      "Processed 740/1000 frames\n",
      "Processed 750/1000 frames\n",
      "Processed 750/1000 frames\n",
      "Processed 760/1000 frames\n",
      "Processed 760/1000 frames\n",
      "Processed 770/1000 frames\n",
      "Processed 770/1000 frames\n",
      "Processed 780/1000 frames\n",
      "Processed 780/1000 frames\n",
      "Processed 790/1000 frames\n",
      "Processed 790/1000 frames\n",
      "Processed 800/1000 frames\n",
      "Processed 800/1000 frames\n",
      "Processed 810/1000 frames\n",
      "Processed 810/1000 frames\n",
      "Processed 820/1000 frames\n",
      "Processed 820/1000 frames\n",
      "Processed 830/1000 frames\n",
      "Processed 830/1000 frames\n",
      "Processed 840/1000 frames\n",
      "Processed 840/1000 frames\n",
      "Processed 850/1000 frames\n",
      "Processed 850/1000 frames\n",
      "Processed 860/1000 frames\n",
      "Processed 860/1000 frames\n",
      "Processed 870/1000 frames\n",
      "Processed 870/1000 frames\n",
      "Processed 880/1000 frames\n",
      "Processed 880/1000 frames\n",
      "Processed 890/1000 frames\n",
      "Processed 890/1000 frames\n",
      "Processed 900/1000 frames\n",
      "Processed 900/1000 frames\n",
      "Processed 910/1000 frames\n",
      "Processed 910/1000 frames\n",
      "Processed 920/1000 frames\n",
      "Processed 920/1000 frames\n",
      "Processed 930/1000 frames\n",
      "Processed 930/1000 frames\n",
      "Processed 940/1000 frames\n",
      "Processed 940/1000 frames\n",
      "Processed 950/1000 frames\n",
      "Processed 950/1000 frames\n",
      "Processed 960/1000 frames\n",
      "Processed 960/1000 frames\n",
      "Processed 970/1000 frames\n",
      "Processed 970/1000 frames\n",
      "Processed 980/1000 frames\n",
      "Processed 980/1000 frames\n",
      "Processed 990/1000 frames\n",
      "Processed 990/1000 frames\n",
      "Processed 1000/1000 frames\n",
      "\n",
      "=== ENHANCED VIDEO CREATION COMPLETE ===\n",
      "Video saved to: /Volumes/LaCie/SOLAQUA/exports/videos/core_aoi_tracking.mp4\n",
      "Video specs: 900x700, 15 fps, 1000 frames\n",
      "🟢 SIMPLIFIED TRACKING STATS:\n",
      "  - Total detected frames: 1000\n",
      "  - Lost/searching frames: 0\n",
      "  - Detection success rate: 100.0%\n",
      "Processed 1000/1000 frames\n",
      "\n",
      "=== ENHANCED VIDEO CREATION COMPLETE ===\n",
      "Video saved to: /Volumes/LaCie/SOLAQUA/exports/videos/core_aoi_tracking.mp4\n",
      "Video specs: 900x700, 15 fps, 1000 frames\n",
      "🟢 SIMPLIFIED TRACKING STATS:\n",
      "  - Total detected frames: 1000\n",
      "  - Lost/searching frames: 0\n",
      "  - Detection success rate: 100.0%\n"
     ]
    }
   ],
   "source": [
    "# Create video using the CORE simplified processor\n",
    "# This will show the yellow rectangular AOI and track with momentum merging!\n",
    "\n",
    "# Use the enhanced video creation with CORE processor\n",
    "video_path = iau.create_enhanced_contour_detection_video_with_processor(\n",
    "    npz_file_index=NPZ_FILE_INDEX,          # Which NPZ file to use\n",
    "    frame_start=1,           # Starting frame\n",
    "    frame_count=1000,         # Start with 100 frames for testing\n",
    "    frame_step=1,            # Step between frames\n",
    "    output_path=Path(EXPORTS_DIR_DEFAULT) / EXPORTS_SUBDIRS.get('videos','videos') / 'core_aoi_tracking.mp4',\n",
    "    processor=processor      # Use our CORE processor\n",
    ")\n"
   ]
  },
  {
   "cell_type": "markdown",
   "id": "fede9d64",
   "metadata": {},
   "source": [
    "## Convert to Real-World Distances\n",
    "\n",
    "Now let's convert the pixel distances to real-world distances using the fact that the entire sonar image represents a 10x10 meter area."
   ]
  },
  {
   "cell_type": "code",
   "execution_count": 5,
   "id": "886897de",
   "metadata": {},
   "outputs": [
    {
     "name": "stdout",
     "output_type": "stream",
     "text": [
      "Detected NPZ extent: x=[-8.660,8.660] m, y=[0.000,10.000] m\n",
      "Image shape from NPZ: H=700, W=900\n",
      "meters/pixel: x=0.019245, y=0.014286, avg=0.016765\n",
      "Using pixels_to_meters_avg = 0.016765 m/px\n"
     ]
    }
   ],
   "source": [
    "# Auto-detect pixel->meter mapping from the selected NPZ (if available)\n",
    "try:\n",
    "    cones, ts, extent, meta = iau.load_cone_run_npz(selected)\n",
    "    T, H, W = cones.shape\n",
    "    x_min, x_max, y_min, y_max = extent\n",
    "    width_m = float(x_max - x_min)\n",
    "    height_m = float(y_max - y_min)\n",
    "    px2m_x = width_m / float(W)\n",
    "    px2m_y = height_m / float(H)\n",
    "    pixels_to_meters_avg = 0.5 * (px2m_x + px2m_y)\n",
    "    image_shape = (H, W)\n",
    "    sonar_coverage_meters = max(width_m, height_m)\n",
    "    print(f\"Detected NPZ extent: x=[{x_min:.3f},{x_max:.3f}] m, y=[{y_min:.3f},{y_max:.3f}] m\")\n",
    "    print(f\"Image shape from NPZ: H={H}, W={W}\")\n",
    "    print(f\"meters/pixel: x={px2m_x:.6f}, y={px2m_y:.6f}, avg={pixels_to_meters_avg:.6f}\")\n",
    "except Exception as e:\n",
    "    print(\"Could not read NPZ metadata:\", e)\n",
    "    print(\"Falling back to defaults from sonar_config.\")\n",
    "    from utils.sonar_config import CONE_H_DEFAULT, CONE_W_DEFAULT, DISPLAY_RANGE_MAX_M_DEFAULT\n",
    "    image_shape = (CONE_H_DEFAULT, CONE_W_DEFAULT)\n",
    "    sonar_coverage_meters = DISPLAY_RANGE_MAX_M_DEFAULT * 2  # approximate\n",
    "    pixels_to_meters_avg = sonar_coverage_meters / max(image_shape)\n",
    "    \n",
    "# Use the computed pixels_to_meters_avg in downstream analysis\n",
    "print(f\"Using pixels_to_meters_avg = {pixels_to_meters_avg:.6f} m/px\")"
   ]
  },
  {
   "cell_type": "code",
   "execution_count": 6,
   "id": "15d6238c",
   "metadata": {},
   "outputs": [
    {
     "data": {
      "application/vnd.plotly.v1+json": {
       "config": {
        "plotlyServerURL": "https://plot.ly"
       },
       "data": [
        {
         "line": {
          "color": "blue"
         },
         "mode": "lines+markers",
         "name": "Distance",
         "type": "scatter",
         "x": {
          "bdata": "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",
          "dtype": "i2"
         },
         "xaxis": "x",
         "y": {
          "bdata": "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",
          "dtype": "f8"
         },
         "yaxis": "y"
        },
        {
         "line": {
          "color": "green"
         },
         "mode": "lines+markers",
         "name": "Distance over Time",
         "type": "scatter",
         "x": [
          "2024-08-20T12:31:31.621807575",
          "2024-08-20T12:31:31.681648731",
          "2024-08-20T12:31:31.742511034",
          "2024-08-20T12:31:31.818883181",
          "2024-08-20T12:31:31.874155045",
          "2024-08-20T12:31:31.937494755",
          "2024-08-20T12:31:31.999329090",
          "2024-08-20T12:31:32.063158035",
          "2024-08-20T12:31:32.130053520",
          "2024-08-20T12:31:32.191398144",
          "2024-08-20T12:31:32.254230738",
          "2024-08-20T12:31:32.318058729",
          "2024-08-20T12:31:32.395849943",
          "2024-08-20T12:31:32.445717096",
          "2024-08-20T12:31:32.511543512",
          "2024-08-20T12:31:32.576503515",
          "2024-08-20T12:31:32.637341022",
          "2024-08-20T12:31:32.702203035",
          "2024-08-20T12:31:32.768987656",
          "2024-08-20T12:31:32.829861403",
          "2024-08-20T12:31:32.894687653",
          "2024-08-20T12:31:32.962601185",
          "2024-08-20T12:31:33.025435448",
          "2024-08-20T12:31:33.088264227",
          "2024-08-20T12:31:33.151147127",
          "2024-08-20T12:31:33.218916655",
          "2024-08-20T12:31:33.280750036",
          "2024-08-20T12:31:33.342585087",
          "2024-08-20T12:31:33.407411814",
          "2024-08-20T12:31:33.484754801",
          "2024-08-20T12:31:33.533624887",
          "2024-08-20T12:31:33.610753059",
          "2024-08-20T12:31:33.671589851",
          "2024-08-20T12:31:33.730820179",
          "2024-08-20T12:31:33.790660143",
          "2024-08-20T12:31:33.854523897",
          "2024-08-20T12:31:33.919317245",
          "2024-08-20T12:31:33.984568357",
          "2024-08-20T12:31:34.048381805",
          "2024-08-20T12:31:34.117199183",
          "2024-08-20T12:31:34.183008671",
          "2024-08-20T12:31:34.237861395",
          "2024-08-20T12:31:34.303685427",
          "2024-08-20T12:31:34.367515802",
          "2024-08-20T12:31:34.431509018",
          "2024-08-20T12:31:34.508416414",
          "2024-08-20T12:31:34.565290689",
          "2024-08-20T12:31:34.624107361",
          "2024-08-20T12:31:34.686995983",
          "2024-08-20T12:31:34.749772310",
          "2024-08-20T12:31:34.822613001",
          "2024-08-20T12:31:34.882473946",
          "2024-08-20T12:31:34.943256378",
          "2024-08-20T12:31:35.006085634",
          "2024-08-20T12:31:35.075951576",
          "2024-08-20T12:31:35.139728308",
          "2024-08-20T12:31:35.197573662",
          "2024-08-20T12:31:35.264425278",
          "2024-08-20T12:31:35.328751326",
          "2024-08-20T12:31:35.404547215",
          "2024-08-20T12:31:35.454563379",
          "2024-08-20T12:31:35.522747992",
          "2024-08-20T12:31:35.597547531",
          "2024-08-20T12:31:35.666362762",
          "2024-08-20T12:31:35.716230869",
          "2024-08-20T12:31:35.779061317",
          "2024-08-20T12:31:35.839905977",
          "2024-08-20T12:31:35.902730942",
          "2024-08-20T12:31:35.968554974",
          "2024-08-20T12:31:36.034378290",
          "2024-08-20T12:31:36.146079779",
          "2024-08-20T12:31:36.202927351",
          "2024-08-20T12:31:36.253791808",
          "2024-08-20T12:31:36.310640812",
          "2024-08-20T12:31:36.362536430",
          "2024-08-20T12:31:36.415360451",
          "2024-08-20T12:31:36.612915516",
          "2024-08-20T12:31:36.629870653",
          "2024-08-20T12:31:36.686092138",
          "2024-08-20T12:31:36.731478691",
          "2024-08-20T12:31:36.792353392",
          "2024-08-20T12:31:36.835259199",
          "2024-08-20T12:31:36.882076502",
          "2024-08-20T12:31:36.930180311",
          "2024-08-20T12:31:36.995010138",
          "2024-08-20T12:31:37.057901382",
          "2024-08-20T12:31:37.120796442",
          "2024-08-20T12:31:37.190546751",
          "2024-08-20T12:31:37.245904446",
          "2024-08-20T12:31:37.310695887",
          "2024-08-20T12:31:37.375525713",
          "2024-08-20T12:31:37.443047285",
          "2024-08-20T12:31:37.501889229",
          "2024-08-20T12:31:37.570401907",
          "2024-08-20T12:31:37.634161472",
          "2024-08-20T12:31:37.698097229",
          "2024-08-20T12:31:37.760633230",
          "2024-08-20T12:31:37.822077274",
          "2024-08-20T12:31:37.890928745",
          "2024-08-20T12:31:37.950802088",
          "2024-08-20T12:31:38.016170025",
          "2024-08-20T12:31:38.079568386",
          "2024-08-20T12:31:38.144387484",
          "2024-08-20T12:31:38.206281900",
          "2024-08-20T12:31:38.272046804",
          "2024-08-20T12:31:38.335875273",
          "2024-08-20T12:31:38.399709225",
          "2024-08-20T12:31:38.464562416",
          "2024-08-20T12:31:38.526404619",
          "2024-08-20T12:31:38.595264912",
          "2024-08-20T12:31:38.654108047",
          "2024-08-20T12:31:38.719931841",
          "2024-08-20T12:31:38.783764362",
          "2024-08-20T12:31:38.857566357",
          "2024-08-20T12:31:38.911419630",
          "2024-08-20T12:31:38.976246357",
          "2024-08-20T12:31:39.042104006",
          "2024-08-20T12:31:39.101980925",
          "2024-08-20T12:31:39.166769743",
          "2024-08-20T12:31:39.232593060",
          "2024-08-20T12:31:39.297420025",
          "2024-08-20T12:31:39.361249447",
          "2024-08-20T12:31:39.423182011",
          "2024-08-20T12:31:39.490002155",
          "2024-08-20T12:31:39.549880981",
          "2024-08-20T12:31:39.614220381",
          "2024-08-20T12:31:39.680010796",
          "2024-08-20T12:31:39.748333454",
          "2024-08-20T12:31:39.812162876",
          "2024-08-20T12:31:39.877536774",
          "2024-08-20T12:31:40.073243380",
          "2024-08-20T12:31:40.086207151",
          "2024-08-20T12:31:40.148041010",
          "2024-08-20T12:31:40.191923618",
          "2024-08-20T12:31:40.237802505",
          "2024-08-20T12:31:40.300632715",
          "2024-08-20T12:31:40.345512867",
          "2024-08-20T12:31:40.391391993",
          "2024-08-20T12:31:40.451229811",
          "2024-08-20T12:31:40.517088412",
          "2024-08-20T12:31:40.581882000",
          "2024-08-20T12:31:40.639754295",
          "2024-08-20T12:31:40.703556538",
          "2024-08-20T12:31:40.769875050",
          "2024-08-20T12:31:40.833705902",
          "2024-08-20T12:31:40.910538912",
          "2024-08-20T12:31:40.974536657",
          "2024-08-20T12:31:41.029807091",
          "2024-08-20T12:31:41.085696697",
          "2024-08-20T12:31:41.153585434",
          "2024-08-20T12:31:41.224370241",
          "2024-08-20T12:31:41.289196968",
          "2024-08-20T12:31:41.349036694",
          "2024-08-20T12:31:41.405884266",
          "2024-08-20T12:31:41.472689152",
          "2024-08-20T12:31:41.540507078",
          "2024-08-20T12:31:41.601395369",
          "2024-08-20T12:31:41.668616772",
          "2024-08-20T12:31:41.727491379",
          "2024-08-20T12:31:41.791326761",
          "2024-08-20T12:31:41.859107018",
          "2024-08-20T12:31:41.926977396",
          "2024-08-20T12:31:41.982784510",
          "2024-08-20T12:31:42.058573484",
          "2024-08-20T12:31:42.111595631",
          "2024-08-20T12:31:42.179451942",
          "2024-08-20T12:31:42.239253283",
          "2024-08-20T12:31:42.305081129",
          "2024-08-20T12:31:42.369940758",
          "2024-08-20T12:31:42.492574692",
          "2024-08-20T12:31:42.547464371",
          "2024-08-20T12:31:42.607268095",
          "2024-08-20T12:31:42.656136990",
          "2024-08-20T12:31:42.714980364",
          "2024-08-20T12:31:42.763849974",
          "2024-08-20T12:31:42.821695328",
          "2024-08-20T12:31:42.879108429",
          "2024-08-20T12:31:42.943912029",
          "2024-08-20T12:31:43.009702921",
          "2024-08-20T12:31:43.071511984",
          "2024-08-20T12:31:43.133901834",
          "2024-08-20T12:31:43.203717709",
          "2024-08-20T12:31:43.261597157",
          "2024-08-20T12:31:43.326387167",
          "2024-08-20T12:31:43.394617081",
          "2024-08-20T12:31:43.464424372",
          "2024-08-20T12:31:43.518105029",
          "2024-08-20T12:31:43.583888292",
          "2024-08-20T12:31:43.646115065",
          "2024-08-20T12:31:43.712907553",
          "2024-08-20T12:31:43.773782730",
          "2024-08-20T12:31:43.840597391",
          "2024-08-20T12:31:43.906425953",
          "2024-08-20T12:31:43.967237234",
          "2024-08-20T12:31:44.030067205",
          "2024-08-20T12:31:44.103466988",
          "2024-08-20T12:31:44.162308455",
          "2024-08-20T12:31:44.223145008",
          "2024-08-20T12:31:44.291014671",
          "2024-08-20T12:31:44.349857092",
          "2024-08-20T12:31:44.415681124",
          "2024-08-20T12:31:44.479695797",
          "2024-08-20T12:31:44.542475224",
          "2024-08-20T12:31:44.613296270",
          "2024-08-20T12:31:44.672163725",
          "2024-08-20T12:31:44.734963417",
          "2024-08-20T12:31:44.800783157",
          "2024-08-20T12:31:44.875235319",
          "2024-08-20T12:31:44.934039116",
          "2024-08-20T12:31:44.991886139",
          "2024-08-20T12:31:45.054715633",
          "2024-08-20T12:31:45.123562574",
          "2024-08-20T12:31:45.184406042",
          "2024-08-20T12:31:45.253189325",
          "2024-08-20T12:31:45.314022064",
          "2024-08-20T12:31:45.391814232",
          "2024-08-20T12:31:45.503517866",
          "2024-08-20T12:31:45.563381672",
          "2024-08-20T12:31:45.625192165",
          "2024-08-20T12:31:45.689467907",
          "2024-08-20T12:31:45.743281364",
          "2024-08-20T12:31:45.799130917",
          "2024-08-20T12:31:45.849994183",
          "2024-08-20T12:31:45.911336899",
          "2024-08-20T12:31:45.973172188",
          "2024-08-20T12:31:46.031045198",
          "2024-08-20T12:31:46.077892065",
          "2024-08-20T12:31:46.141758204",
          "2024-08-20T12:31:46.209540129",
          "2024-08-20T12:31:46.271375179",
          "2024-08-20T12:31:46.336202383",
          "2024-08-20T12:31:46.402061224",
          "2024-08-20T12:31:46.463126421",
          "2024-08-20T12:31:46.525985479",
          "2024-08-20T12:31:46.593837023",
          "2024-08-20T12:31:46.663606167",
          "2024-08-20T12:31:46.721510649",
          "2024-08-20T12:31:46.782323599",
          "2024-08-20T12:31:46.850108624",
          "2024-08-20T12:31:46.921957970",
          "2024-08-20T12:31:46.977843285",
          "2024-08-20T12:31:47.038705826",
          "2024-08-20T12:31:47.102475882",
          "2024-08-20T12:31:47.169295788",
          "2024-08-20T12:31:47.230172157",
          "2024-08-20T12:31:47.304938078",
          "2024-08-20T12:31:47.368804932",
          "2024-08-20T12:31:47.427606583",
          "2024-08-20T12:31:47.491471767",
          "2024-08-20T12:31:47.555302143",
          "2024-08-20T12:31:47.623177528",
          "2024-08-20T12:31:47.811676741",
          "2024-08-20T12:31:47.827633619",
          "2024-08-20T12:31:47.877500534",
          "2024-08-20T12:31:47.938337326",
          "2024-08-20T12:31:47.984474659",
          "2024-08-20T12:31:48.027358532",
          "2024-08-20T12:31:48.088195324",
          "2024-08-20T12:31:48.136068344",
          "2024-08-20T12:31:48.191809654",
          "2024-08-20T12:31:48.256190538",
          "2024-08-20T12:31:48.321072102",
          "2024-08-20T12:31:48.382852077",
          "2024-08-20T12:31:48.445721865",
          "2024-08-20T12:31:48.511081219",
          "2024-08-20T12:31:48.576905251",
          "2024-08-20T12:31:48.638738394",
          "2024-08-20T12:31:48.701770544",
          "2024-08-20T12:31:48.774565697",
          "2024-08-20T12:31:48.831388712",
          "2024-08-20T12:31:48.893730640",
          "2024-08-20T12:31:48.961057901",
          "2024-08-20T12:31:49.028914213",
          "2024-08-20T12:31:49.090711117",
          "2024-08-20T12:31:49.154539824",
          "2024-08-20T12:31:49.213383436",
          "2024-08-20T12:31:49.279206991",
          "2024-08-20T12:31:49.345029116",
          "2024-08-20T12:31:49.405867100",
          "2024-08-20T12:31:49.473721266",
          "2024-08-20T12:31:49.545494080",
          "2024-08-20T12:31:49.602399588",
          "2024-08-20T12:31:49.663179159",
          "2024-08-20T12:31:49.729102612",
          "2024-08-20T12:31:49.791011810",
          "2024-08-20T12:31:49.853843212",
          "2024-08-20T12:31:49.919657946",
          "2024-08-20T12:31:49.983487844",
          "2024-08-20T12:31:50.046319723",
          "2024-08-20T12:31:50.110692024",
          "2024-08-20T12:31:50.174520016",
          "2024-08-20T12:31:50.238417864",
          "2024-08-20T12:31:50.303511620",
          "2024-08-20T12:31:50.366343737",
          "2024-08-20T12:31:50.432175159",
          "2024-08-20T12:31:50.505977631",
          "2024-08-20T12:31:50.560830355",
          "2024-08-20T12:31:50.670942068",
          "2024-08-20T12:31:50.726747036",
          "2024-08-20T12:31:50.789601564",
          "2024-08-20T12:31:50.825510979",
          "2024-08-20T12:31:50.890295744",
          "2024-08-20T12:31:50.943155289",
          "2024-08-20T12:31:51.012972832",
          "2024-08-20T12:31:51.074837446",
          "2024-08-20T12:31:51.134642601",
          "2024-08-20T12:31:51.200467348",
          "2024-08-20T12:31:51.273272991",
          "2024-08-20T12:31:51.336102962",
          "2024-08-20T12:31:51.389957905",
          "2024-08-20T12:31:51.454820395",
          "2024-08-20T12:31:51.517674922",
          "2024-08-20T12:31:51.586463928",
          "2024-08-20T12:31:51.646686554",
          "2024-08-20T12:31:51.712054014",
          "2024-08-20T12:31:51.782867193",
          "2024-08-20T12:31:51.838715792",
          "2024-08-20T12:31:51.903051376",
          "2024-08-20T12:31:51.967877626",
          "2024-08-20T12:31:52.030061007",
          "2024-08-20T12:31:52.102158070",
          "2024-08-20T12:31:52.168978691",
          "2024-08-20T12:31:52.222800970",
          "2024-08-20T12:31:52.292626858",
          "2024-08-20T12:31:52.351458549",
          "2024-08-20T12:31:52.418277025",
          "2024-08-20T12:31:52.481150866",
          "2024-08-20T12:31:52.541553497",
          "2024-08-20T12:31:52.606345415",
          "2024-08-20T12:31:52.673228025",
          "2024-08-20T12:31:52.735998154",
          "2024-08-20T12:31:52.798882484",
          "2024-08-20T12:31:52.862711668",
          "2024-08-20T12:31:52.927570105",
          "2024-08-20T12:31:52.990370035",
          "2024-08-20T12:31:53.070696592",
          "2024-08-20T12:31:53.131572007",
          "2024-08-20T12:31:53.195363998",
          "2024-08-20T12:31:53.245267153",
          "2024-08-20T12:31:53.310670376",
          "2024-08-20T12:31:53.375495911",
          "2024-08-20T12:31:53.440849304",
          "2024-08-20T12:31:53.502685069",
          "2024-08-20T12:31:53.581473112",
          "2024-08-20T12:31:53.671237707",
          "2024-08-20T12:31:53.730012655",
          "2024-08-20T12:31:53.778313637",
          "2024-08-20T12:31:53.833030939",
          "2024-08-20T12:31:53.893876076",
          "2024-08-20T12:31:53.949759483",
          "2024-08-20T12:31:54.014583826",
          "2024-08-20T12:31:54.080477238",
          "2024-08-20T12:31:54.146250486",
          "2024-08-20T12:31:54.208119631",
          "2024-08-20T12:31:54.272945881",
          "2024-08-20T12:31:54.337438822",
          "2024-08-20T12:31:54.401267767",
          "2024-08-20T12:31:54.464104652",
          "2024-08-20T12:31:54.525992393",
          "2024-08-20T12:31:54.604726553",
          "2024-08-20T12:31:54.660574675",
          "2024-08-20T12:31:54.717456818",
          "2024-08-20T12:31:54.788233280",
          "2024-08-20T12:31:54.846078873",
          "2024-08-20T12:31:54.909790993",
          "2024-08-20T12:31:54.976554394",
          "2024-08-20T12:31:55.039385557",
          "2024-08-20T12:31:55.105245590",
          "2024-08-20T12:31:55.171085119",
          "2024-08-20T12:31:55.230873108",
          "2024-08-20T12:31:55.299697399",
          "2024-08-20T12:31:55.362556934",
          "2024-08-20T12:31:55.429852486",
          "2024-08-20T12:31:55.490688562",
          "2024-08-20T12:31:55.549531460",
          "2024-08-20T12:31:55.615355253",
          "2024-08-20T12:31:55.682177305",
          "2024-08-20T12:31:55.744011879",
          "2024-08-20T12:31:55.807841063",
          "2024-08-20T12:31:55.870673656",
          "2024-08-20T12:31:55.949462414",
          "2024-08-20T12:31:56.003352642",
          "2024-08-20T12:31:56.067021132",
          "2024-08-20T12:31:56.125862597",
          "2024-08-20T12:31:56.193681240",
          "2024-08-20T12:31:56.253522635",
          "2024-08-20T12:31:56.318383694",
          "2024-08-20T12:31:56.386166811",
          "2024-08-20T12:31:56.448000908",
          "2024-08-20T12:31:56.512829065",
          "2024-08-20T12:31:56.583638668",
          "2024-08-20T12:31:56.640494585",
          "2024-08-20T12:31:56.703325510",
          "2024-08-20T12:31:56.767193556",
          "2024-08-20T12:31:56.835482836",
          "2024-08-20T12:31:56.902304649",
          "2024-08-20T12:31:56.962438345",
          "2024-08-20T12:31:57.025873184",
          "2024-08-20T12:31:57.087665081",
          "2024-08-20T12:31:57.154531956",
          "2024-08-20T12:31:57.214373350",
          "2024-08-20T12:31:57.293160200",
          "2024-08-20T12:31:57.345025063",
          "2024-08-20T12:31:57.412839890",
          "2024-08-20T12:31:57.473701954",
          "2024-08-20T12:31:57.534539223",
          "2024-08-20T12:31:57.604353428",
          "2024-08-20T12:31:57.663195133",
          "2024-08-20T12:31:57.726027727",
          "2024-08-20T12:31:57.791850805",
          "2024-08-20T12:31:57.855682135",
          "2024-08-20T12:31:57.919509649",
          "2024-08-20T12:31:57.984847546",
          "2024-08-20T12:31:58.048672438",
          "2024-08-20T12:31:58.114497423",
          "2024-08-20T12:31:58.232179642",
          "2024-08-20T12:31:58.303023338",
          "2024-08-20T12:31:58.362874031",
          "2024-08-20T12:31:58.422821522",
          "2024-08-20T12:31:58.476673603",
          "2024-08-20T12:31:58.501605749",
          "2024-08-20T12:31:58.569931507",
          "2024-08-20T12:31:58.628283978",
          "2024-08-20T12:31:58.687161207",
          "2024-08-20T12:31:58.754455805",
          "2024-08-20T12:31:58.874644995",
          "2024-08-20T12:31:58.942510366",
          "2024-08-20T12:31:59.005335093",
          "2024-08-20T12:31:59.067801952",
          "2024-08-20T12:31:59.130631208",
          "2024-08-20T12:31:59.181493998",
          "2024-08-20T12:31:59.239844561",
          "2024-08-20T12:31:59.299728394",
          "2024-08-20T12:31:59.346602917",
          "2024-08-20T12:31:59.392479658",
          "2024-08-20T12:31:59.455312490",
          "2024-08-20T12:31:59.519181966",
          "2024-08-20T12:31:59.584981441",
          "2024-08-20T12:31:59.647796392",
          "2024-08-20T12:31:59.710932016",
          "2024-08-20T12:31:59.783735514",
          "2024-08-20T12:31:59.839586020",
          "2024-08-20T12:31:59.903450012",
          "2024-08-20T12:31:59.966248512",
          "2024-08-20T12:32:00.031110048",
          "2024-08-20T12:32:00.101887941",
          "2024-08-20T12:32:00.159729958",
          "2024-08-20T12:32:00.222562075",
          "2024-08-20T12:32:00.287391663",
          "2024-08-20T12:32:00.352120399",
          "2024-08-20T12:32:00.413935184",
          "2024-08-20T12:32:00.478729010",
          "2024-08-20T12:32:00.542225122",
          "2024-08-20T12:32:00.610045195",
          "2024-08-20T12:32:00.671614647",
          "2024-08-20T12:32:00.735095501",
          "2024-08-20T12:32:00.799942493",
          "2024-08-20T12:32:00.863315344",
          "2024-08-20T12:32:00.928106546",
          "2024-08-20T12:32:01.008890390",
          "2024-08-20T12:32:01.070760727",
          "2024-08-20T12:32:01.117598772",
          "2024-08-20T12:32:01.181464672",
          "2024-08-20T12:32:01.245420218",
          "2024-08-20T12:32:01.314198017",
          "2024-08-20T12:32:01.377030849",
          "2024-08-20T12:32:01.439896584",
          "2024-08-20T12:32:01.512666941",
          "2024-08-20T12:32:01.589461088",
          "2024-08-20T12:32:01.634341002",
          "2024-08-20T12:32:01.695178032",
          "2024-08-20T12:32:01.761003256",
          "2024-08-20T12:32:01.821839809",
          "2024-08-20T12:32:01.885703325",
          "2024-08-20T12:32:01.950496435",
          "2024-08-20T12:32:02.016355275",
          "2024-08-20T12:32:02.079560041",
          "2024-08-20T12:32:02.147934437",
          "2024-08-20T12:32:02.205846548",
          "2024-08-20T12:32:02.270641804",
          "2024-08-20T12:32:02.344480515",
          "2024-08-20T12:32:02.461406469",
          "2024-08-20T12:32:02.517229556",
          "2024-08-20T12:32:02.564082146",
          "2024-08-20T12:32:02.629870892",
          "2024-08-20T12:32:02.699684858",
          "2024-08-20T12:32:02.746571541",
          "2024-08-20T12:32:02.795462847",
          "2024-08-20T12:32:02.853273153",
          "2024-08-20T12:32:02.914112091",
          "2024-08-20T12:32:02.973954678",
          "2024-08-20T12:32:03.051743984",
          "2024-08-20T12:32:03.102615833",
          "2024-08-20T12:32:03.168430090",
          "2024-08-20T12:32:03.248250484",
          "2024-08-20T12:32:03.296088934",
          "2024-08-20T12:32:03.361934662",
          "2024-08-20T12:32:03.423750877",
          "2024-08-20T12:32:03.487687349",
          "2024-08-20T12:32:03.550518513",
          "2024-08-20T12:32:03.618339300",
          "2024-08-20T12:32:03.692140341",
          "2024-08-20T12:32:03.742039919",
          "2024-08-20T12:32:03.805836201",
          "2024-08-20T12:32:03.872937918",
          "2024-08-20T12:32:03.934771776",
          "2024-08-20T12:32:04.138708115",
          "2024-08-20T12:32:04.162652016",
          "2024-08-20T12:32:04.215462923",
          "2024-08-20T12:32:04.261340141",
          "2024-08-20T12:32:04.305223465",
          "2024-08-20T12:32:04.367092133",
          "2024-08-20T12:32:04.410940409",
          "2024-08-20T12:32:04.457854271",
          "2024-08-20T12:32:04.517654896",
          "2024-08-20T12:32:04.580527544",
          "2024-08-20T12:32:04.637335539",
          "2024-08-20T12:32:04.706151247",
          "2024-08-20T12:32:04.765990496",
          "2024-08-20T12:32:04.830850601",
          "2024-08-20T12:32:04.894646168",
          "2024-08-20T12:32:04.958475590",
          "2024-08-20T12:32:05.028358459",
          "2024-08-20T12:32:05.090869427",
          "2024-08-20T12:32:05.155694008",
          "2024-08-20T12:32:05.220520258",
          "2024-08-20T12:32:05.280360222",
          "2024-08-20T12:32:05.344203472",
          "2024-08-20T12:32:05.416617870",
          "2024-08-20T12:32:05.473434925",
          "2024-08-20T12:32:05.533270836",
          "2024-08-20T12:32:05.599692583",
          "2024-08-20T12:32:05.668574572",
          "2024-08-20T12:32:05.727350950",
          "2024-08-20T12:32:05.791183472",
          "2024-08-20T12:32:05.854014158",
          "2024-08-20T12:32:05.924823761",
          "2024-08-20T12:32:05.983665466",
          "2024-08-20T12:32:06.046497345",
          "2024-08-20T12:32:06.113318920",
          "2024-08-20T12:32:06.185126543",
          "2024-08-20T12:32:06.244966507",
          "2024-08-20T12:32:06.305804491",
          "2024-08-20T12:32:06.427478552",
          "2024-08-20T12:32:06.476348162",
          "2024-08-20T12:32:06.519232987",
          "2024-08-20T12:32:06.580214500",
          "2024-08-20T12:32:06.640358686",
          "2024-08-20T12:32:06.689215422",
          "2024-08-20T12:32:06.750109673",
          "2024-08-20T12:32:06.817869663",
          "2024-08-20T12:32:06.883101940",
          "2024-08-20T12:32:06.941977024",
          "2024-08-20T12:32:07.051910162",
          "2024-08-20T12:32:07.107870817",
          "2024-08-20T12:32:07.159778595",
          "2024-08-20T12:32:07.225763559",
          "2024-08-20T12:32:07.280441046",
          "2024-08-20T12:32:07.327314854",
          "2024-08-20T12:32:07.392040730",
          "2024-08-20T12:32:07.453844547",
          "2024-08-20T12:32:07.519663572",
          "2024-08-20T12:32:07.585496664",
          "2024-08-20T12:32:07.646383524",
          "2024-08-20T12:32:07.712150097",
          "2024-08-20T12:32:07.776016474",
          "2024-08-20T12:32:07.839809179",
          "2024-08-20T12:32:07.902639627",
          "2024-08-20T12:32:07.965471029",
          "2024-08-20T12:32:08.032032250",
          "2024-08-20T12:32:08.093867064",
          "2024-08-20T12:32:08.167701006",
          "2024-08-20T12:32:08.227540970",
          "2024-08-20T12:32:08.295396090",
          "2024-08-20T12:32:08.349215508",
          "2024-08-20T12:32:08.416072607",
          "2024-08-20T12:32:08.480871439",
          "2024-08-20T12:32:08.542946577",
          "2024-08-20T12:32:08.606839895",
          "2024-08-20T12:32:08.670669317",
          "2024-08-20T12:32:08.748494625",
          "2024-08-20T12:32:08.810294867",
          "2024-08-20T12:32:08.870174646",
          "2024-08-20T12:32:08.929901600",
          "2024-08-20T12:32:08.990741253",
          "2024-08-20T12:32:09.054567575",
          "2024-08-20T12:32:09.119748592",
          "2024-08-20T12:32:09.183618307",
          "2024-08-20T12:32:09.246409178",
          "2024-08-20T12:32:09.310237885",
          "2024-08-20T12:32:09.376274586",
          "2024-08-20T12:32:09.444119215",
          "2024-08-20T12:32:09.505930185",
          "2024-08-20T12:32:09.570753813",
          "2024-08-20T12:32:09.633613825",
          "2024-08-20T12:32:09.695421457",
          "2024-08-20T12:32:09.758251190",
          "2024-08-20T12:32:09.823078632",
          "2024-08-20T12:32:09.892893553",
          "2024-08-20T12:32:09.950737238",
          "2024-08-20T12:32:10.014777422",
          "2024-08-20T12:32:10.086585045",
          "2024-08-20T12:32:10.141972303",
          "2024-08-20T12:32:10.210790157",
          "2024-08-20T12:32:10.270623446",
          "2024-08-20T12:32:10.334451199",
          "2024-08-20T12:32:10.401107311",
          "2024-08-20T12:32:10.475941658",
          "2024-08-20T12:32:10.526770592",
          "2024-08-20T12:32:10.592339277",
          "2024-08-20T12:32:10.654148579",
          "2024-08-20T12:32:10.718975782",
          "2024-08-20T12:32:10.782802105",
          "2024-08-20T12:32:10.848627567",
          "2024-08-20T12:32:10.910460711",
          "2024-08-20T12:32:10.977282286",
          "2024-08-20T12:32:11.039152861",
          "2024-08-20T12:32:11.103947401",
          "2024-08-20T12:32:11.167773247",
          "2024-08-20T12:32:11.229755402",
          "2024-08-20T12:32:11.300566435",
          "2024-08-20T12:32:11.360479593",
          "2024-08-20T12:32:11.429301023",
          "2024-08-20T12:32:11.491092443",
          "2024-08-20T12:32:11.549935341",
          "2024-08-20T12:32:11.614765167",
          "2024-08-20T12:32:11.678591490",
          "2024-08-20T12:32:11.881561279",
          "2024-08-20T12:32:11.898514748",
          "2024-08-20T12:32:11.957359314",
          "2024-08-20T12:32:12.000243187",
          "2024-08-20T12:32:12.059998989",
          "2024-08-20T12:32:12.107871294",
          "2024-08-20T12:32:12.150756359",
          "2024-08-20T12:32:12.212984085",
          "2024-08-20T12:32:12.266843080",
          "2024-08-20T12:32:12.333659649",
          "2024-08-20T12:32:12.400614738",
          "2024-08-20T12:32:12.452477217",
          "2024-08-20T12:32:12.509835005",
          "2024-08-20T12:32:12.584639788",
          "2024-08-20T12:32:12.639522791",
          "2024-08-20T12:32:12.704347134",
          "2024-08-20T12:32:12.766216516",
          "2024-08-20T12:32:12.831049442",
          "2024-08-20T12:32:12.897837639",
          "2024-08-20T12:32:12.957735538",
          "2024-08-20T12:32:13.023500681",
          "2024-08-20T12:32:13.087365866",
          "2024-08-20T12:32:13.162170649",
          "2024-08-20T12:32:13.215023041",
          "2024-08-20T12:32:13.280812502",
          "2024-08-20T12:32:13.341650486",
          "2024-08-20T12:32:13.405478477",
          "2024-08-20T12:32:13.470162392",
          "2024-08-20T12:32:13.536520719",
          "2024-08-20T12:32:13.601319313",
          "2024-08-20T12:32:13.662052870",
          "2024-08-20T12:32:13.725847721",
          "2024-08-20T12:32:13.791673660",
          "2024-08-20T12:32:13.853515148",
          "2024-08-20T12:32:13.930917978",
          "2024-08-20T12:32:13.993786335",
          "2024-08-20T12:32:14.059574604",
          "2024-08-20T12:32:14.110471010",
          "2024-08-20T12:32:14.175262690",
          "2024-08-20T12:32:14.239600658",
          "2024-08-20T12:32:14.304803610",
          "2024-08-20T12:32:14.370627165",
          "2024-08-20T12:32:14.430467367",
          "2024-08-20T12:32:14.494708300",
          "2024-08-20T12:32:14.558565378",
          "2024-08-20T12:32:14.631342411",
          "2024-08-20T12:32:14.685559273",
          "2024-08-20T12:32:14.750857830",
          "2024-08-20T12:32:14.813715219",
          "2024-08-20T12:32:14.879512548",
          "2024-08-20T12:32:14.945337057",
          "2024-08-20T12:32:15.009166241",
          "2024-08-20T12:32:15.070513248",
          "2024-08-20T12:32:15.136845350",
          "2024-08-20T12:32:15.243623495",
          "2024-08-20T12:32:15.292493105",
          "2024-08-20T12:32:15.336418152",
          "2024-08-20T12:32:15.403240204",
          "2024-08-20T12:32:15.460046530",
          "2024-08-20T12:32:15.519924878",
          "2024-08-20T12:32:15.582721472",
          "2024-08-20T12:32:15.646606445",
          "2024-08-20T12:32:15.718358517",
          "2024-08-20T12:32:15.777199030",
          "2024-08-20T12:32:15.840064526",
          "2024-08-20T12:32:15.907848120",
          "2024-08-20T12:32:15.965693712",
          "2024-08-20T12:32:16.031555175",
          "2024-08-20T12:32:16.096345186",
          "2024-08-20T12:32:16.159226656",
          "2024-08-20T12:32:16.222518921",
          "2024-08-20T12:32:16.286342859",
          "2024-08-20T12:32:16.351169825",
          "2024-08-20T12:32:16.413003683",
          "2024-08-20T12:32:16.480856419",
          "2024-08-20T12:32:16.542655945",
          "2024-08-20T12:32:16.610476255",
          "2024-08-20T12:32:16.670314550",
          "2024-08-20T12:32:16.734145641",
          "2024-08-20T12:32:16.799000502",
          "2024-08-20T12:32:16.881431103",
          "2024-08-20T12:32:16.929389238",
          "2024-08-20T12:32:16.989288330",
          "2024-08-20T12:32:17.056051016",
          "2024-08-20T12:32:17.117888451",
          "2024-08-20T12:32:17.183228970",
          "2024-08-20T12:32:17.246451139",
          "2024-08-20T12:32:17.311335325",
          "2024-08-20T12:32:17.374109983",
          "2024-08-20T12:32:17.440968990",
          "2024-08-20T12:32:17.502764702",
          "2024-08-20T12:32:17.568790674",
          "2024-08-20T12:32:17.629988670",
          "2024-08-20T12:32:17.707792282",
          "2024-08-20T12:32:17.769598246",
          "2024-08-20T12:32:17.823451996",
          "2024-08-20T12:32:17.886348248",
          "2024-08-20T12:32:17.957094431",
          "2024-08-20T12:32:18.015938759",
          "2024-08-20T12:32:18.084788322",
          "2024-08-20T12:32:18.142599106",
          "2024-08-20T12:32:18.207425594",
          "2024-08-20T12:32:18.270257473",
          "2024-08-20T12:32:18.335122108",
          "2024-08-20T12:32:18.399975538",
          "2024-08-20T12:32:18.470842600",
          "2024-08-20T12:32:18.525648832",
          "2024-08-20T12:32:18.590513945",
          "2024-08-20T12:32:18.657296419",
          "2024-08-20T12:32:18.718192339",
          "2024-08-20T12:32:18.782960415",
          "2024-08-20T12:32:18.847694159",
          "2024-08-20T12:32:18.910487652",
          "2024-08-20T12:32:18.975023031",
          "2024-08-20T12:32:19.037863016",
          "2024-08-20T12:32:19.103645325",
          "2024-08-20T12:32:19.172459364",
          "2024-08-20T12:32:19.240307093",
          "2024-08-20T12:32:19.297124147",
          "2024-08-20T12:32:19.359956264",
          "2024-08-20T12:32:19.425780773",
          "2024-08-20T12:32:19.623049498",
          "2024-08-20T12:32:19.641996622",
          "2024-08-20T12:32:19.698847055",
          "2024-08-20T12:32:19.756545067",
          "2024-08-20T12:32:19.804416180",
          "2024-08-20T12:32:19.850294828",
          "2024-08-20T12:32:19.894176245",
          "2024-08-20T12:32:19.955012321",
          "2024-08-20T12:32:20.001924038",
          "2024-08-20T12:32:20.070703506",
          "2024-08-20T12:32:20.132539988",
          "2024-08-20T12:32:20.191419840",
          "2024-08-20T12:32:20.262194872",
          "2024-08-20T12:32:20.322516203",
          "2024-08-20T12:32:20.387259722",
          "2024-08-20T12:32:20.446102619",
          "2024-08-20T12:32:20.520902157",
          "2024-08-20T12:32:20.584731817",
          "2024-08-20T12:32:20.653100014",
          "2024-08-20T12:32:20.706911802",
          "2024-08-20T12:32:20.771246910",
          "2024-08-20T12:32:20.832086563",
          "2024-08-20T12:32:20.895421505",
          "2024-08-20T12:32:20.959251165",
          "2024-08-20T12:32:21.024112225",
          "2024-08-20T12:32:21.086937666",
          "2024-08-20T12:32:21.150739670",
          "2024-08-20T12:32:21.215182066",
          "2024-08-20T12:32:21.288241148",
          "2024-08-20T12:32:21.342065573",
          "2024-08-20T12:32:21.407263279",
          "2024-08-20T12:32:21.483011246",
          "2024-08-20T12:32:21.532878399",
          "2024-08-20T12:32:21.599734306",
          "2024-08-20T12:32:21.667518377",
          "2024-08-20T12:32:21.730396748",
          "2024-08-20T12:32:21.791186571",
          "2024-08-20T12:32:21.855018854",
          "2024-08-20T12:32:21.920847893",
          "2024-08-20T12:32:21.982674122",
          "2024-08-20T12:32:22.189171791",
          "2024-08-20T12:32:22.202137947",
          "2024-08-20T12:32:22.256990194",
          "2024-08-20T12:32:22.320201874",
          "2024-08-20T12:32:22.365945339",
          "2024-08-20T12:32:22.409827948",
          "2024-08-20T12:32:22.457733631",
          "2024-08-20T12:32:22.516542673",
          "2024-08-20T12:32:22.564417124",
          "2024-08-20T12:32:22.622356653",
          "2024-08-20T12:32:22.687514067",
          "2024-08-20T12:32:22.750309229",
          "2024-08-20T12:32:22.818037748",
          "2024-08-20T12:32:22.886855364",
          "2024-08-20T12:32:22.941748381",
          "2024-08-20T12:32:23.005697012",
          "2024-08-20T12:32:23.077054977",
          "2024-08-20T12:32:23.133903503",
          "2024-08-20T12:32:23.235785723",
          "2024-08-20T12:32:23.298555374",
          "2024-08-20T12:32:23.360395193",
          "2024-08-20T12:32:23.415242434",
          "2024-08-20T12:32:23.455136061",
          "2024-08-20T12:32:23.520959139",
          "2024-08-20T12:32:23.591769695",
          "2024-08-20T12:32:23.645626307",
          "2024-08-20T12:32:23.709454775",
          "2024-08-20T12:32:23.781263590",
          "2024-08-20T12:32:23.837112904",
          "2024-08-20T12:32:23.903935671",
          "2024-08-20T12:32:23.965770245",
          "2024-08-20T12:32:24.034584522",
          "2024-08-20T12:32:24.102404833",
          "2024-08-20T12:32:24.158255816",
          "2024-08-20T12:32:24.223082304",
          "2024-08-20T12:32:24.300907373",
          "2024-08-20T12:32:24.357778549",
          "2024-08-20T12:32:24.416562796",
          "2024-08-20T12:32:24.479396105",
          "2024-08-20T12:32:24.543224573",
          "2024-08-20T12:32:24.606056452",
          "2024-08-20T12:32:24.671190023",
          "2024-08-20T12:32:24.737014294",
          "2024-08-20T12:32:24.801352024",
          "2024-08-20T12:32:24.864221811",
          "2024-08-20T12:32:24.932000160",
          "2024-08-20T12:32:24.992837667",
          "2024-08-20T12:32:25.054672956",
          "2024-08-20T12:32:25.118500710",
          "2024-08-20T12:32:25.195301294",
          "2024-08-20T12:32:25.253140926",
          "2024-08-20T12:32:25.311498642",
          "2024-08-20T12:32:25.375326633",
          "2024-08-20T12:32:25.440153599",
          "2024-08-20T12:32:25.641125202",
          "2024-08-20T12:32:25.657083750",
          "2024-08-20T12:32:25.720910788",
          "2024-08-20T12:32:25.765789747",
          "2024-08-20T12:32:25.811667442",
          "2024-08-20T12:32:25.873502493",
          "2024-08-20T12:32:25.917384863",
          "2024-08-20T12:32:25.965266705",
          "2024-08-20T12:32:26.015124083",
          "2024-08-20T12:32:26.081945181",
          "2024-08-20T12:32:26.143970490",
          "2024-08-20T12:32:26.207308531",
          "2024-08-20T12:32:26.277124882",
          "2024-08-20T12:32:26.335473299",
          "2024-08-20T12:32:26.399356604",
          "2024-08-20T12:32:26.469116211",
          "2024-08-20T12:32:26.526027203",
          "2024-08-20T12:32:26.599806547",
          "2024-08-20T12:32:26.662598610",
          "2024-08-20T12:32:26.719447613",
          "2024-08-20T12:32:26.787300110",
          "2024-08-20T12:32:26.846109152",
          "2024-08-20T12:32:26.909974575",
          "2024-08-20T12:32:26.982742786",
          "2024-08-20T12:32:27.039618492",
          "2024-08-20T12:32:27.109428883",
          "2024-08-20T12:32:27.168270826",
          "2024-08-20T12:32:27.244070053",
          "2024-08-20T12:32:27.300915718",
          "2024-08-20T12:32:27.358763456",
          "2024-08-20T12:32:27.430572271",
          "2024-08-20T12:32:27.495396614",
          "2024-08-20T12:32:27.552243471",
          "2024-08-20T12:32:27.618986607",
          "2024-08-20T12:32:27.679826498",
          "2024-08-20T12:32:27.744651794",
          "2024-08-20T12:32:27.811474085",
          "2024-08-20T12:32:27.871311665",
          "2024-08-20T12:32:27.938232660",
          "2024-08-20T12:32:28.007043123",
          "2024-08-20T12:32:28.066883086",
          "2024-08-20T12:32:28.126723528",
          "2024-08-20T12:32:28.193597555",
          "2024-08-20T12:32:28.260417461",
          "2024-08-20T12:32:28.320315361",
          "2024-08-20T12:32:28.384086132",
          "2024-08-20T12:32:28.446953297",
          "2024-08-20T12:32:28.518725634",
          "2024-08-20T12:32:28.576572895",
          "2024-08-20T12:32:28.641489267",
          "2024-08-20T12:32:28.702045441",
          "2024-08-20T12:32:28.767858028",
          "2024-08-20T12:32:28.830724716",
          "2024-08-20T12:32:28.896514893",
          "2024-08-20T12:32:28.961437941",
          "2024-08-20T12:32:29.023036718",
          "2024-08-20T12:32:29.086858511",
          "2024-08-20T12:32:29.150660276",
          "2024-08-20T12:32:29.214490175",
          "2024-08-20T12:32:29.280347824",
          "2024-08-20T12:32:29.347641230",
          "2024-08-20T12:32:29.408477068",
          "2024-08-20T12:32:29.473303795",
          "2024-08-20T12:32:29.534140825",
          "2024-08-20T12:32:29.603953600",
          "2024-08-20T12:32:29.662796974",
          "2024-08-20T12:32:29.728660822",
          "2024-08-20T12:32:29.829075098",
          "2024-08-20T12:32:29.855006218",
          "2024-08-20T12:32:29.918835640",
          "2024-08-20T12:32:29.984659910",
          "2024-08-20T12:32:30.048488617",
          "2024-08-20T12:32:30.111320496",
          "2024-08-20T12:32:30.174177170",
          "2024-08-20T12:32:30.241478205",
          "2024-08-20T12:32:30.304310322",
          "2024-08-20T12:32:30.367180586",
          "2024-08-20T12:32:30.433924198",
          "2024-08-20T12:32:30.496754646",
          "2024-08-20T12:32:30.561550379",
          "2024-08-20T12:32:30.623412132",
          "2024-08-20T12:32:30.686249495",
          "2024-08-20T12:32:30.753970623",
          "2024-08-20T12:32:30.815323591",
          "2024-08-20T12:32:30.879150867",
          "2024-08-20T12:32:30.955455780",
          "2024-08-20T12:32:31.006345749",
          "2024-08-20T12:32:31.084110022",
          "2024-08-20T12:32:31.133013964",
          "2024-08-20T12:32:31.203535080",
          "2024-08-20T12:32:31.271354437",
          "2024-08-20T12:32:31.326326847",
          "2024-08-20T12:32:31.408055782",
          "2024-08-20T12:32:31.458920002",
          "2024-08-20T12:32:31.552667856",
          "2024-08-20T12:32:31.591563702",
          "2024-08-20T12:32:31.650408030",
          "2024-08-20T12:32:31.710282564",
          "2024-08-20T12:32:31.776070833",
          "2024-08-20T12:32:31.837939978",
          "2024-08-20T12:32:31.907718420",
          "2024-08-20T12:32:31.973545551",
          "2024-08-20T12:32:32.030505180",
          "2024-08-20T12:32:32.096329927",
          "2024-08-20T12:32:32.159909010",
          "2024-08-20T12:32:32.223783493",
          "2024-08-20T12:32:32.285617352",
          "2024-08-20T12:32:32.355093002",
          "2024-08-20T12:32:32.423932314",
          "2024-08-20T12:32:32.477780581",
          "2024-08-20T12:32:32.545111179",
          "2024-08-20T12:32:32.610616684",
          "2024-08-20T12:32:32.672452688",
          "2024-08-20T12:32:32.738783121",
          "2024-08-20T12:32:32.800617695",
          "2024-08-20T12:32:32.862452507",
          "2024-08-20T12:32:32.927278280",
          "2024-08-20T12:32:32.991107702",
          "2024-08-20T12:32:33.061918974",
          "2024-08-20T12:32:33.117813110",
          "2024-08-20T12:32:33.183628321",
          "2024-08-20T12:32:33.247426987",
          "2024-08-20T12:32:33.313245773",
          "2024-08-20T12:32:33.376078844",
          "2024-08-20T12:32:33.437913418",
          "2024-08-20T12:32:33.507761955",
          "2024-08-20T12:32:33.566568375",
          "2024-08-20T12:32:33.630432606",
          "2024-08-20T12:32:33.696256876",
          "2024-08-20T12:32:33.763337374",
          "2024-08-20T12:32:33.823216915",
          "2024-08-20T12:32:33.886786699",
          "2024-08-20T12:32:33.951614380",
          "2024-08-20T12:32:34.019431353",
          "2024-08-20T12:32:34.080267668",
          "2024-08-20T12:32:34.142103195",
          "2024-08-20T12:32:34.208925486",
          "2024-08-20T12:32:34.270759106",
          "2024-08-20T12:32:34.334587574",
          "2024-08-20T12:32:34.409389973",
          "2024-08-20T12:32:34.463746071",
          "2024-08-20T12:32:34.525631427",
          "2024-08-20T12:32:34.590441942",
          "2024-08-20T12:32:34.672589302",
          "2024-08-20T12:32:34.718495369",
          "2024-08-20T12:32:34.784605265",
          "2024-08-20T12:32:34.845502377",
          "2024-08-20T12:32:34.915297985",
          "2024-08-20T12:32:34.976535082",
          "2024-08-20T12:32:35.038368940",
          "2024-08-20T12:32:35.101213455",
          "2024-08-20T12:32:35.170028687",
          "2024-08-20T12:32:35.229869604",
          "2024-08-20T12:32:35.296691179",
          "2024-08-20T12:32:35.365506649",
          "2024-08-20T12:32:35.421391964",
          "2024-08-20T12:32:35.489713669",
          "2024-08-20T12:32:35.550548553"
         ],
         "xaxis": "x2",
         "y": {
          "bdata": "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",
          "dtype": "f8"
         },
         "yaxis": "y2"
        },
        {
         "marker": {
          "color": "lightcoral"
         },
         "name": "Distribution",
         "nbinsx": 30,
         "opacity": 0.7,
         "type": "histogram",
         "x": {
          "bdata": "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",
          "dtype": "f8"
         },
         "xaxis": "x3",
         "yaxis": "y3"
        },
        {
         "line": {
          "color": "lightcoral",
          "width": 1
         },
         "mode": "lines",
         "name": "Raw",
         "opacity": 0.5,
         "type": "scatter",
         "x": {
          "bdata": "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",
          "dtype": "i2"
         },
         "xaxis": "x4",
         "y": {
          "bdata": "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",
          "dtype": "f8"
         },
         "yaxis": "y4"
        },
        {
         "line": {
          "color": "darkred",
          "width": 3
         },
         "mode": "lines",
         "name": "Smoothed (n=50)",
         "type": "scatter",
         "x": {
          "bdata": "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",
          "dtype": "i2"
         },
         "xaxis": "x4",
         "y": {
          "bdata": "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",
          "dtype": "f8"
         },
         "yaxis": "y4"
        }
       ],
       "layout": {
        "annotations": [
         {
          "font": {
           "size": 16
          },
          "showarrow": false,
          "text": "Distance vs Frame Index",
          "x": 0.225,
          "xanchor": "center",
          "xref": "paper",
          "y": 1,
          "yanchor": "bottom",
          "yref": "paper"
         },
         {
          "font": {
           "size": 16
          },
          "showarrow": false,
          "text": "Distance vs Time",
          "x": 0.775,
          "xanchor": "center",
          "xref": "paper",
          "y": 1,
          "yanchor": "bottom",
          "yref": "paper"
         },
         {
          "font": {
           "size": 16
          },
          "showarrow": false,
          "text": "Distance Distribution",
          "x": 0.225,
          "xanchor": "center",
          "xref": "paper",
          "y": 0.375,
          "yanchor": "bottom",
          "yref": "paper"
         },
         {
          "font": {
           "size": 16
          },
          "showarrow": false,
          "text": "Distance Trends",
          "x": 0.775,
          "xanchor": "center",
          "xref": "paper",
          "y": 0.375,
          "yanchor": "bottom",
          "yref": "paper"
         },
         {
          "showarrow": false,
          "text": "Mean: 1.98meters",
          "x": 1.9754925108935237,
          "xanchor": "left",
          "xref": "x3",
          "y": 1,
          "yanchor": "top",
          "yref": "y3 domain"
         }
        ],
        "height": 800,
        "shapes": [
         {
          "line": {
           "color": "red",
           "dash": "dash"
          },
          "type": "line",
          "x0": 1.9754925108935237,
          "x1": 1.9754925108935237,
          "xref": "x3",
          "y0": 0,
          "y1": 1,
          "yref": "y3 domain"
         }
        ],
        "showlegend": true,
        "template": {
         "data": {
          "bar": [
           {
            "error_x": {
             "color": "#2a3f5f"
            },
            "error_y": {
             "color": "#2a3f5f"
            },
            "marker": {
             "line": {
              "color": "#E5ECF6",
              "width": 0.5
             },
             "pattern": {
              "fillmode": "overlay",
              "size": 10,
              "solidity": 0.2
             }
            },
            "type": "bar"
           }
          ],
          "barpolar": [
           {
            "marker": {
             "line": {
              "color": "#E5ECF6",
              "width": 0.5
             },
             "pattern": {
              "fillmode": "overlay",
              "size": 10,
              "solidity": 0.2
             }
            },
            "type": "barpolar"
           }
          ],
          "carpet": [
           {
            "aaxis": {
             "endlinecolor": "#2a3f5f",
             "gridcolor": "white",
             "linecolor": "white",
             "minorgridcolor": "white",
             "startlinecolor": "#2a3f5f"
            },
            "baxis": {
             "endlinecolor": "#2a3f5f",
             "gridcolor": "white",
             "linecolor": "white",
             "minorgridcolor": "white",
             "startlinecolor": "#2a3f5f"
            },
            "type": "carpet"
           }
          ],
          "choropleth": [
           {
            "colorbar": {
             "outlinewidth": 0,
             "ticks": ""
            },
            "type": "choropleth"
           }
          ],
          "contour": [
           {
            "colorbar": {
             "outlinewidth": 0,
             "ticks": ""
            },
            "colorscale": [
             [
              0,
              "#0d0887"
             ],
             [
              0.1111111111111111,
              "#46039f"
             ],
             [
              0.2222222222222222,
              "#7201a8"
             ],
             [
              0.3333333333333333,
              "#9c179e"
             ],
             [
              0.4444444444444444,
              "#bd3786"
             ],
             [
              0.5555555555555556,
              "#d8576b"
             ],
             [
              0.6666666666666666,
              "#ed7953"
             ],
             [
              0.7777777777777778,
              "#fb9f3a"
             ],
             [
              0.8888888888888888,
              "#fdca26"
             ],
             [
              1,
              "#f0f921"
             ]
            ],
            "type": "contour"
           }
          ],
          "contourcarpet": [
           {
            "colorbar": {
             "outlinewidth": 0,
             "ticks": ""
            },
            "type": "contourcarpet"
           }
          ],
          "heatmap": [
           {
            "colorbar": {
             "outlinewidth": 0,
             "ticks": ""
            },
            "colorscale": [
             [
              0,
              "#0d0887"
             ],
             [
              0.1111111111111111,
              "#46039f"
             ],
             [
              0.2222222222222222,
              "#7201a8"
             ],
             [
              0.3333333333333333,
              "#9c179e"
             ],
             [
              0.4444444444444444,
              "#bd3786"
             ],
             [
              0.5555555555555556,
              "#d8576b"
             ],
             [
              0.6666666666666666,
              "#ed7953"
             ],
             [
              0.7777777777777778,
              "#fb9f3a"
             ],
             [
              0.8888888888888888,
              "#fdca26"
             ],
             [
              1,
              "#f0f921"
             ]
            ],
            "type": "heatmap"
           }
          ],
          "histogram": [
           {
            "marker": {
             "pattern": {
              "fillmode": "overlay",
              "size": 10,
              "solidity": 0.2
             }
            },
            "type": "histogram"
           }
          ],
          "histogram2d": [
           {
            "colorbar": {
             "outlinewidth": 0,
             "ticks": ""
            },
            "colorscale": [
             [
              0,
              "#0d0887"
             ],
             [
              0.1111111111111111,
              "#46039f"
             ],
             [
              0.2222222222222222,
              "#7201a8"
             ],
             [
              0.3333333333333333,
              "#9c179e"
             ],
             [
              0.4444444444444444,
              "#bd3786"
             ],
             [
              0.5555555555555556,
              "#d8576b"
             ],
             [
              0.6666666666666666,
              "#ed7953"
             ],
             [
              0.7777777777777778,
              "#fb9f3a"
             ],
             [
              0.8888888888888888,
              "#fdca26"
             ],
             [
              1,
              "#f0f921"
             ]
            ],
            "type": "histogram2d"
           }
          ],
          "histogram2dcontour": [
           {
            "colorbar": {
             "outlinewidth": 0,
             "ticks": ""
            },
            "colorscale": [
             [
              0,
              "#0d0887"
             ],
             [
              0.1111111111111111,
              "#46039f"
             ],
             [
              0.2222222222222222,
              "#7201a8"
             ],
             [
              0.3333333333333333,
              "#9c179e"
             ],
             [
              0.4444444444444444,
              "#bd3786"
             ],
             [
              0.5555555555555556,
              "#d8576b"
             ],
             [
              0.6666666666666666,
              "#ed7953"
             ],
             [
              0.7777777777777778,
              "#fb9f3a"
             ],
             [
              0.8888888888888888,
              "#fdca26"
             ],
             [
              1,
              "#f0f921"
             ]
            ],
            "type": "histogram2dcontour"
           }
          ],
          "mesh3d": [
           {
            "colorbar": {
             "outlinewidth": 0,
             "ticks": ""
            },
            "type": "mesh3d"
           }
          ],
          "parcoords": [
           {
            "line": {
             "colorbar": {
              "outlinewidth": 0,
              "ticks": ""
             }
            },
            "type": "parcoords"
           }
          ],
          "pie": [
           {
            "automargin": true,
            "type": "pie"
           }
          ],
          "scatter": [
           {
            "fillpattern": {
             "fillmode": "overlay",
             "size": 10,
             "solidity": 0.2
            },
            "type": "scatter"
           }
          ],
          "scatter3d": [
           {
            "line": {
             "colorbar": {
              "outlinewidth": 0,
              "ticks": ""
             }
            },
            "marker": {
             "colorbar": {
              "outlinewidth": 0,
              "ticks": ""
             }
            },
            "type": "scatter3d"
           }
          ],
          "scattercarpet": [
           {
            "marker": {
             "colorbar": {
              "outlinewidth": 0,
              "ticks": ""
             }
            },
            "type": "scattercarpet"
           }
          ],
          "scattergeo": [
           {
            "marker": {
             "colorbar": {
              "outlinewidth": 0,
              "ticks": ""
             }
            },
            "type": "scattergeo"
           }
          ],
          "scattergl": [
           {
            "marker": {
             "colorbar": {
              "outlinewidth": 0,
              "ticks": ""
             }
            },
            "type": "scattergl"
           }
          ],
          "scattermap": [
           {
            "marker": {
             "colorbar": {
              "outlinewidth": 0,
              "ticks": ""
             }
            },
            "type": "scattermap"
           }
          ],
          "scattermapbox": [
           {
            "marker": {
             "colorbar": {
              "outlinewidth": 0,
              "ticks": ""
             }
            },
            "type": "scattermapbox"
           }
          ],
          "scatterpolar": [
           {
            "marker": {
             "colorbar": {
              "outlinewidth": 0,
              "ticks": ""
             }
            },
            "type": "scatterpolar"
           }
          ],
          "scatterpolargl": [
           {
            "marker": {
             "colorbar": {
              "outlinewidth": 0,
              "ticks": ""
             }
            },
            "type": "scatterpolargl"
           }
          ],
          "scatterternary": [
           {
            "marker": {
             "colorbar": {
              "outlinewidth": 0,
              "ticks": ""
             }
            },
            "type": "scatterternary"
           }
          ],
          "surface": [
           {
            "colorbar": {
             "outlinewidth": 0,
             "ticks": ""
            },
            "colorscale": [
             [
              0,
              "#0d0887"
             ],
             [
              0.1111111111111111,
              "#46039f"
             ],
             [
              0.2222222222222222,
              "#7201a8"
             ],
             [
              0.3333333333333333,
              "#9c179e"
             ],
             [
              0.4444444444444444,
              "#bd3786"
             ],
             [
              0.5555555555555556,
              "#d8576b"
             ],
             [
              0.6666666666666666,
              "#ed7953"
             ],
             [
              0.7777777777777778,
              "#fb9f3a"
             ],
             [
              0.8888888888888888,
              "#fdca26"
             ],
             [
              1,
              "#f0f921"
             ]
            ],
            "type": "surface"
           }
          ],
          "table": [
           {
            "cells": {
             "fill": {
              "color": "#EBF0F8"
             },
             "line": {
              "color": "white"
             }
            },
            "header": {
             "fill": {
              "color": "#C8D4E3"
             },
             "line": {
              "color": "white"
             }
            },
            "type": "table"
           }
          ]
         },
         "layout": {
          "annotationdefaults": {
           "arrowcolor": "#2a3f5f",
           "arrowhead": 0,
           "arrowwidth": 1
          },
          "autotypenumbers": "strict",
          "coloraxis": {
           "colorbar": {
            "outlinewidth": 0,
            "ticks": ""
           }
          },
          "colorscale": {
           "diverging": [
            [
             0,
             "#8e0152"
            ],
            [
             0.1,
             "#c51b7d"
            ],
            [
             0.2,
             "#de77ae"
            ],
            [
             0.3,
             "#f1b6da"
            ],
            [
             0.4,
             "#fde0ef"
            ],
            [
             0.5,
             "#f7f7f7"
            ],
            [
             0.6,
             "#e6f5d0"
            ],
            [
             0.7,
             "#b8e186"
            ],
            [
             0.8,
             "#7fbc41"
            ],
            [
             0.9,
             "#4d9221"
            ],
            [
             1,
             "#276419"
            ]
           ],
           "sequential": [
            [
             0,
             "#0d0887"
            ],
            [
             0.1111111111111111,
             "#46039f"
            ],
            [
             0.2222222222222222,
             "#7201a8"
            ],
            [
             0.3333333333333333,
             "#9c179e"
            ],
            [
             0.4444444444444444,
             "#bd3786"
            ],
            [
             0.5555555555555556,
             "#d8576b"
            ],
            [
             0.6666666666666666,
             "#ed7953"
            ],
            [
             0.7777777777777778,
             "#fb9f3a"
            ],
            [
             0.8888888888888888,
             "#fdca26"
            ],
            [
             1,
             "#f0f921"
            ]
           ],
           "sequentialminus": [
            [
             0,
             "#0d0887"
            ],
            [
             0.1111111111111111,
             "#46039f"
            ],
            [
             0.2222222222222222,
             "#7201a8"
            ],
            [
             0.3333333333333333,
             "#9c179e"
            ],
            [
             0.4444444444444444,
             "#bd3786"
            ],
            [
             0.5555555555555556,
             "#d8576b"
            ],
            [
             0.6666666666666666,
             "#ed7953"
            ],
            [
             0.7777777777777778,
             "#fb9f3a"
            ],
            [
             0.8888888888888888,
             "#fdca26"
            ],
            [
             1,
             "#f0f921"
            ]
           ]
          },
          "colorway": [
           "#636efa",
           "#EF553B",
           "#00cc96",
           "#ab63fa",
           "#FFA15A",
           "#19d3f3",
           "#FF6692",
           "#B6E880",
           "#FF97FF",
           "#FECB52"
          ],
          "font": {
           "color": "#2a3f5f"
          },
          "geo": {
           "bgcolor": "white",
           "lakecolor": "white",
           "landcolor": "#E5ECF6",
           "showlakes": true,
           "showland": true,
           "subunitcolor": "white"
          },
          "hoverlabel": {
           "align": "left"
          },
          "hovermode": "closest",
          "mapbox": {
           "style": "light"
          },
          "paper_bgcolor": "white",
          "plot_bgcolor": "#E5ECF6",
          "polar": {
           "angularaxis": {
            "gridcolor": "white",
            "linecolor": "white",
            "ticks": ""
           },
           "bgcolor": "#E5ECF6",
           "radialaxis": {
            "gridcolor": "white",
            "linecolor": "white",
            "ticks": ""
           }
          },
          "scene": {
           "xaxis": {
            "backgroundcolor": "#E5ECF6",
            "gridcolor": "white",
            "gridwidth": 2,
            "linecolor": "white",
            "showbackground": true,
            "ticks": "",
            "zerolinecolor": "white"
           },
           "yaxis": {
            "backgroundcolor": "#E5ECF6",
            "gridcolor": "white",
            "gridwidth": 2,
            "linecolor": "white",
            "showbackground": true,
            "ticks": "",
            "zerolinecolor": "white"
           },
           "zaxis": {
            "backgroundcolor": "#E5ECF6",
            "gridcolor": "white",
            "gridwidth": 2,
            "linecolor": "white",
            "showbackground": true,
            "ticks": "",
            "zerolinecolor": "white"
           }
          },
          "shapedefaults": {
           "line": {
            "color": "#2a3f5f"
           }
          },
          "ternary": {
           "aaxis": {
            "gridcolor": "white",
            "linecolor": "white",
            "ticks": ""
           },
           "baxis": {
            "gridcolor": "white",
            "linecolor": "white",
            "ticks": ""
           },
           "bgcolor": "#E5ECF6",
           "caxis": {
            "gridcolor": "white",
            "linecolor": "white",
            "ticks": ""
           }
          },
          "title": {
           "x": 0.05
          },
          "xaxis": {
           "automargin": true,
           "gridcolor": "white",
           "linecolor": "white",
           "ticks": "",
           "title": {
            "standoff": 15
           },
           "zerolinecolor": "white",
           "zerolinewidth": 2
          },
          "yaxis": {
           "automargin": true,
           "gridcolor": "white",
           "linecolor": "white",
           "ticks": "",
           "title": {
            "standoff": 15
           },
           "zerolinecolor": "white",
           "zerolinewidth": 2
          }
         }
        },
        "title": {
         "text": "Real-World Distance Analysis"
        },
        "xaxis": {
         "anchor": "y",
         "domain": [
          0,
          0.45
         ],
         "title": {
          "text": "Frame Index"
         }
        },
        "xaxis2": {
         "anchor": "y2",
         "domain": [
          0.55,
          1
         ],
         "title": {
          "text": "Time"
         }
        },
        "xaxis3": {
         "anchor": "y3",
         "domain": [
          0,
          0.45
         ],
         "title": {
          "text": "Distance (meters)"
         }
        },
        "xaxis4": {
         "anchor": "y4",
         "domain": [
          0.55,
          1
         ],
         "title": {
          "text": "Frame Index"
         }
        },
        "yaxis": {
         "anchor": "x",
         "domain": [
          0.625,
          1
         ],
         "title": {
          "text": "Distance (meters)"
         }
        },
        "yaxis2": {
         "anchor": "x2",
         "domain": [
          0.625,
          1
         ],
         "title": {
          "text": "Distance (meters)"
         }
        },
        "yaxis3": {
         "anchor": "x3",
         "domain": [
          0,
          0.375
         ],
         "title": {
          "text": "Frequency"
         }
        },
        "yaxis4": {
         "anchor": "x4",
         "domain": [
          0,
          0.375
         ],
         "title": {
          "text": "Distance (meters)"
         }
        }
       }
      }
     },
     "metadata": {},
     "output_type": "display_data"
    }
   ],
   "source": [
    "iau.VisualizationEngine.plot_distance_analysis(distance_results, \"Real-World Distance Analysis\")"
   ]
  },
  {
   "cell_type": "code",
   "execution_count": 7,
   "id": "c10a8be6",
   "metadata": {},
   "outputs": [
    {
     "name": "stdout",
     "output_type": "stream",
     "text": [
      "🎯 LOADING ALL DISTANCE DATA FOR BAG: 2024-08-20_14-31-29\n",
      "============================================================\n",
      "📡 1. Loading Navigation Data...\n",
      "   ✅ Loaded 559 navigation records\n",
      "📡 2. Loading Guidance Data...\n",
      "   ✅ Loaded 549 guidance records with ['error_net_distance', 'desired_net_distance', 'r_net_distance_d']\n",
      "📡 3. Loading DVL Altimeter...\n",
      "   ❌ DVL altimeter file not found\n",
      "📡 4. Loading USBL...\n",
      "   ✅ Loaded 33 USBL records\n",
      "📡 5. Loading DVL Position...\n",
      "   ✅ Loaded 283 DVL position records\n",
      "📡 6. Loading Navigation Position...\n",
      "   ✅ Loaded 278 navigation position records\n",
      "📡 7. Loading INS Z Position...\n",
      "   ❌ INS file not found\n",
      "\n",
      "📊 LOADING SUMMARY:\n",
      "   🎯 Target bag: 2024-08-20_14-31-29\n",
      "   📁 Raw data loaded: 2/2\n",
      "   📏 Distance measurements: 4\n",
      "\n",
      "📊 RAW DATA LOADED:\n",
      "   ✅ navigation: 559 records\n",
      "   ✅ guidance: 549 records\n",
      "\n",
      "📏 DISTANCE MEASUREMENTS LOADED:\n",
      "   ✅ USBL_3D: 33 records - 3D acoustic position\n",
      "   ✅ USBL_Depth: 33 records - USBL depth measurement\n",
      "   ✅ DVL_Position: 283 records - 3D DVL position\n",
      "   ✅ Nav_Position: 278 records - 2D navigation position\n",
      "   ✅ Loaded 33 USBL records\n",
      "📡 5. Loading DVL Position...\n",
      "   ✅ Loaded 283 DVL position records\n",
      "📡 6. Loading Navigation Position...\n",
      "   ✅ Loaded 278 navigation position records\n",
      "📡 7. Loading INS Z Position...\n",
      "   ❌ INS file not found\n",
      "\n",
      "📊 LOADING SUMMARY:\n",
      "   🎯 Target bag: 2024-08-20_14-31-29\n",
      "   📁 Raw data loaded: 2/2\n",
      "   📏 Distance measurements: 4\n",
      "\n",
      "📊 RAW DATA LOADED:\n",
      "   ✅ navigation: 559 records\n",
      "   ✅ guidance: 549 records\n",
      "\n",
      "📏 DISTANCE MEASUREMENTS LOADED:\n",
      "   ✅ USBL_3D: 33 records - 3D acoustic position\n",
      "   ✅ USBL_Depth: 33 records - USBL depth measurement\n",
      "   ✅ DVL_Position: 283 records - 3D DVL position\n",
      "   ✅ Nav_Position: 278 records - 2D navigation position\n"
     ]
    }
   ],
   "source": [
    "# 🔄 COMPARISON: SONAR vs DVL DISTANCE MEASUREMENTS\n",
    "# =================================================\n",
    "import utils.net_distance_analysis as sda\n",
    "\n",
    "# IMPORTANT: Pass the by_bag folder, not just the exports root\n",
    "# The function expects the folder containing the CSV files\n",
    "from utils.sonar_config import EXPORTS_SUBDIRS\n",
    "BY_BAG_FOLDER = EXPORTS_FOLDER / EXPORTS_SUBDIRS.get('by_bag', 'by_bag')\n",
    "\n",
    "# Load all distance data for the target bag\n",
    "raw_data, distance_measurements = sda.load_all_distance_data_for_bag(TARGET_BAG, BY_BAG_FOLDER)\n",
    "\n",
    "# Display what we loaded\n",
    "print(f\"\\n📊 RAW DATA LOADED:\")\n",
    "for key, data in raw_data.items():\n",
    "    if data is not None:\n",
    "        print(f\"   ✅ {key}: {len(data)} records\")\n",
    "    else:\n",
    "        print(f\"   ❌ {key}: None\")\n",
    "\n",
    "print(f\"\\n📏 DISTANCE MEASUREMENTS LOADED:\")\n",
    "for key, info in distance_measurements.items():\n",
    "    data_len = len(info['data'])\n",
    "    print(f\"   ✅ {key}: {data_len} records - {info['description']}\")"
   ]
  },
  {
   "cell_type": "code",
   "execution_count": 8,
   "id": "0375375e",
   "metadata": {},
   "outputs": [
    {
     "name": "stdout",
     "output_type": "stream",
     "text": [
      "\n",
      "📊 SONAR vs DVL COMPARISON STATISTICS:\n",
      "==================================================\n",
      "Sonar mean distance: 1.975 m\n",
      "DVL mean distance:   1.968 m\n",
      "Scale ratio (Sonar/DVL): 1.004x\n",
      "Sonar duration: 67.1s (1000 frames)\n",
      "DVL duration:   67.0s (559 records)\n"
     ]
    },
    {
     "name": "stderr",
     "output_type": "stream",
     "text": [
      "/Users/eirikvarnes/code/SOLAQUA/utils/sonar_image_analysis.py:285: FutureWarning:\n",
      "\n",
      "Series.fillna with 'method' is deprecated and will raise in a future version. Use obj.ffill() or obj.bfill() instead.\n",
      "\n",
      "/Users/eirikvarnes/code/SOLAQUA/utils/sonar_image_analysis.py:292: FutureWarning:\n",
      "\n",
      "Series.fillna with 'method' is deprecated and will raise in a future version. Use obj.ffill() or obj.bfill() instead.\n",
      "\n"
     ]
    },
    {
     "data": {
      "application/vnd.plotly.v1+json": {
       "config": {
        "plotlyServerURL": "https://plot.ly"
       },
       "data": [
        {
         "line": {
          "color": "rgba(255,0,0,0.3)"
         },
         "mode": "lines",
         "name": "Sonar Raw",
         "type": "scatter",
         "x": {
          "bdata": "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",
          "dtype": "f8"
         },
         "xaxis": "x",
         "y": {
          "bdata": "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",
          "dtype": "f8"
         },
         "yaxis": "y"
        },
        {
         "line": {
          "color": "red",
          "width": 3
         },
         "mode": "lines",
         "name": "Sonar Smoothed",
         "type": "scatter",
         "x": {
          "bdata": "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",
          "dtype": "f8"
         },
         "xaxis": "x",
         "y": {
          "bdata": "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",
          "dtype": "f8"
         },
         "yaxis": "y"
        },
        {
         "line": {
          "color": "blue",
          "width": 3
         },
         "mode": "lines",
         "name": "DVL Distance",
         "type": "scatter",
         "x": {
          "bdata": "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",
          "dtype": "f8"
         },
         "xaxis": "x",
         "y": {
          "bdata": "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",
          "dtype": "f8"
         },
         "yaxis": "y"
        }
       ],
       "layout": {
        "height": 600,
        "hovermode": "x unified",
        "template": {
         "data": {
          "bar": [
           {
            "error_x": {
             "color": "#2a3f5f"
            },
            "error_y": {
             "color": "#2a3f5f"
            },
            "marker": {
             "line": {
              "color": "#E5ECF6",
              "width": 0.5
             },
             "pattern": {
              "fillmode": "overlay",
              "size": 10,
              "solidity": 0.2
             }
            },
            "type": "bar"
           }
          ],
          "barpolar": [
           {
            "marker": {
             "line": {
              "color": "#E5ECF6",
              "width": 0.5
             },
             "pattern": {
              "fillmode": "overlay",
              "size": 10,
              "solidity": 0.2
             }
            },
            "type": "barpolar"
           }
          ],
          "carpet": [
           {
            "aaxis": {
             "endlinecolor": "#2a3f5f",
             "gridcolor": "white",
             "linecolor": "white",
             "minorgridcolor": "white",
             "startlinecolor": "#2a3f5f"
            },
            "baxis": {
             "endlinecolor": "#2a3f5f",
             "gridcolor": "white",
             "linecolor": "white",
             "minorgridcolor": "white",
             "startlinecolor": "#2a3f5f"
            },
            "type": "carpet"
           }
          ],
          "choropleth": [
           {
            "colorbar": {
             "outlinewidth": 0,
             "ticks": ""
            },
            "type": "choropleth"
           }
          ],
          "contour": [
           {
            "colorbar": {
             "outlinewidth": 0,
             "ticks": ""
            },
            "colorscale": [
             [
              0,
              "#0d0887"
             ],
             [
              0.1111111111111111,
              "#46039f"
             ],
             [
              0.2222222222222222,
              "#7201a8"
             ],
             [
              0.3333333333333333,
              "#9c179e"
             ],
             [
              0.4444444444444444,
              "#bd3786"
             ],
             [
              0.5555555555555556,
              "#d8576b"
             ],
             [
              0.6666666666666666,
              "#ed7953"
             ],
             [
              0.7777777777777778,
              "#fb9f3a"
             ],
             [
              0.8888888888888888,
              "#fdca26"
             ],
             [
              1,
              "#f0f921"
             ]
            ],
            "type": "contour"
           }
          ],
          "contourcarpet": [
           {
            "colorbar": {
             "outlinewidth": 0,
             "ticks": ""
            },
            "type": "contourcarpet"
           }
          ],
          "heatmap": [
           {
            "colorbar": {
             "outlinewidth": 0,
             "ticks": ""
            },
            "colorscale": [
             [
              0,
              "#0d0887"
             ],
             [
              0.1111111111111111,
              "#46039f"
             ],
             [
              0.2222222222222222,
              "#7201a8"
             ],
             [
              0.3333333333333333,
              "#9c179e"
             ],
             [
              0.4444444444444444,
              "#bd3786"
             ],
             [
              0.5555555555555556,
              "#d8576b"
             ],
             [
              0.6666666666666666,
              "#ed7953"
             ],
             [
              0.7777777777777778,
              "#fb9f3a"
             ],
             [
              0.8888888888888888,
              "#fdca26"
             ],
             [
              1,
              "#f0f921"
             ]
            ],
            "type": "heatmap"
           }
          ],
          "histogram": [
           {
            "marker": {
             "pattern": {
              "fillmode": "overlay",
              "size": 10,
              "solidity": 0.2
             }
            },
            "type": "histogram"
           }
          ],
          "histogram2d": [
           {
            "colorbar": {
             "outlinewidth": 0,
             "ticks": ""
            },
            "colorscale": [
             [
              0,
              "#0d0887"
             ],
             [
              0.1111111111111111,
              "#46039f"
             ],
             [
              0.2222222222222222,
              "#7201a8"
             ],
             [
              0.3333333333333333,
              "#9c179e"
             ],
             [
              0.4444444444444444,
              "#bd3786"
             ],
             [
              0.5555555555555556,
              "#d8576b"
             ],
             [
              0.6666666666666666,
              "#ed7953"
             ],
             [
              0.7777777777777778,
              "#fb9f3a"
             ],
             [
              0.8888888888888888,
              "#fdca26"
             ],
             [
              1,
              "#f0f921"
             ]
            ],
            "type": "histogram2d"
           }
          ],
          "histogram2dcontour": [
           {
            "colorbar": {
             "outlinewidth": 0,
             "ticks": ""
            },
            "colorscale": [
             [
              0,
              "#0d0887"
             ],
             [
              0.1111111111111111,
              "#46039f"
             ],
             [
              0.2222222222222222,
              "#7201a8"
             ],
             [
              0.3333333333333333,
              "#9c179e"
             ],
             [
              0.4444444444444444,
              "#bd3786"
             ],
             [
              0.5555555555555556,
              "#d8576b"
             ],
             [
              0.6666666666666666,
              "#ed7953"
             ],
             [
              0.7777777777777778,
              "#fb9f3a"
             ],
             [
              0.8888888888888888,
              "#fdca26"
             ],
             [
              1,
              "#f0f921"
             ]
            ],
            "type": "histogram2dcontour"
           }
          ],
          "mesh3d": [
           {
            "colorbar": {
             "outlinewidth": 0,
             "ticks": ""
            },
            "type": "mesh3d"
           }
          ],
          "parcoords": [
           {
            "line": {
             "colorbar": {
              "outlinewidth": 0,
              "ticks": ""
             }
            },
            "type": "parcoords"
           }
          ],
          "pie": [
           {
            "automargin": true,
            "type": "pie"
           }
          ],
          "scatter": [
           {
            "fillpattern": {
             "fillmode": "overlay",
             "size": 10,
             "solidity": 0.2
            },
            "type": "scatter"
           }
          ],
          "scatter3d": [
           {
            "line": {
             "colorbar": {
              "outlinewidth": 0,
              "ticks": ""
             }
            },
            "marker": {
             "colorbar": {
              "outlinewidth": 0,
              "ticks": ""
             }
            },
            "type": "scatter3d"
           }
          ],
          "scattercarpet": [
           {
            "marker": {
             "colorbar": {
              "outlinewidth": 0,
              "ticks": ""
             }
            },
            "type": "scattercarpet"
           }
          ],
          "scattergeo": [
           {
            "marker": {
             "colorbar": {
              "outlinewidth": 0,
              "ticks": ""
             }
            },
            "type": "scattergeo"
           }
          ],
          "scattergl": [
           {
            "marker": {
             "colorbar": {
              "outlinewidth": 0,
              "ticks": ""
             }
            },
            "type": "scattergl"
           }
          ],
          "scattermap": [
           {
            "marker": {
             "colorbar": {
              "outlinewidth": 0,
              "ticks": ""
             }
            },
            "type": "scattermap"
           }
          ],
          "scattermapbox": [
           {
            "marker": {
             "colorbar": {
              "outlinewidth": 0,
              "ticks": ""
             }
            },
            "type": "scattermapbox"
           }
          ],
          "scatterpolar": [
           {
            "marker": {
             "colorbar": {
              "outlinewidth": 0,
              "ticks": ""
             }
            },
            "type": "scatterpolar"
           }
          ],
          "scatterpolargl": [
           {
            "marker": {
             "colorbar": {
              "outlinewidth": 0,
              "ticks": ""
             }
            },
            "type": "scatterpolargl"
           }
          ],
          "scatterternary": [
           {
            "marker": {
             "colorbar": {
              "outlinewidth": 0,
              "ticks": ""
             }
            },
            "type": "scatterternary"
           }
          ],
          "surface": [
           {
            "colorbar": {
             "outlinewidth": 0,
             "ticks": ""
            },
            "colorscale": [
             [
              0,
              "#0d0887"
             ],
             [
              0.1111111111111111,
              "#46039f"
             ],
             [
              0.2222222222222222,
              "#7201a8"
             ],
             [
              0.3333333333333333,
              "#9c179e"
             ],
             [
              0.4444444444444444,
              "#bd3786"
             ],
             [
              0.5555555555555556,
              "#d8576b"
             ],
             [
              0.6666666666666666,
              "#ed7953"
             ],
             [
              0.7777777777777778,
              "#fb9f3a"
             ],
             [
              0.8888888888888888,
              "#fdca26"
             ],
             [
              1,
              "#f0f921"
             ]
            ],
            "type": "surface"
           }
          ],
          "table": [
           {
            "cells": {
             "fill": {
              "color": "#EBF0F8"
             },
             "line": {
              "color": "white"
             }
            },
            "header": {
             "fill": {
              "color": "#C8D4E3"
             },
             "line": {
              "color": "white"
             }
            },
            "type": "table"
           }
          ]
         },
         "layout": {
          "annotationdefaults": {
           "arrowcolor": "#2a3f5f",
           "arrowhead": 0,
           "arrowwidth": 1
          },
          "autotypenumbers": "strict",
          "coloraxis": {
           "colorbar": {
            "outlinewidth": 0,
            "ticks": ""
           }
          },
          "colorscale": {
           "diverging": [
            [
             0,
             "#8e0152"
            ],
            [
             0.1,
             "#c51b7d"
            ],
            [
             0.2,
             "#de77ae"
            ],
            [
             0.3,
             "#f1b6da"
            ],
            [
             0.4,
             "#fde0ef"
            ],
            [
             0.5,
             "#f7f7f7"
            ],
            [
             0.6,
             "#e6f5d0"
            ],
            [
             0.7,
             "#b8e186"
            ],
            [
             0.8,
             "#7fbc41"
            ],
            [
             0.9,
             "#4d9221"
            ],
            [
             1,
             "#276419"
            ]
           ],
           "sequential": [
            [
             0,
             "#0d0887"
            ],
            [
             0.1111111111111111,
             "#46039f"
            ],
            [
             0.2222222222222222,
             "#7201a8"
            ],
            [
             0.3333333333333333,
             "#9c179e"
            ],
            [
             0.4444444444444444,
             "#bd3786"
            ],
            [
             0.5555555555555556,
             "#d8576b"
            ],
            [
             0.6666666666666666,
             "#ed7953"
            ],
            [
             0.7777777777777778,
             "#fb9f3a"
            ],
            [
             0.8888888888888888,
             "#fdca26"
            ],
            [
             1,
             "#f0f921"
            ]
           ],
           "sequentialminus": [
            [
             0,
             "#0d0887"
            ],
            [
             0.1111111111111111,
             "#46039f"
            ],
            [
             0.2222222222222222,
             "#7201a8"
            ],
            [
             0.3333333333333333,
             "#9c179e"
            ],
            [
             0.4444444444444444,
             "#bd3786"
            ],
            [
             0.5555555555555556,
             "#d8576b"
            ],
            [
             0.6666666666666666,
             "#ed7953"
            ],
            [
             0.7777777777777778,
             "#fb9f3a"
            ],
            [
             0.8888888888888888,
             "#fdca26"
            ],
            [
             1,
             "#f0f921"
            ]
           ]
          },
          "colorway": [
           "#636efa",
           "#EF553B",
           "#00cc96",
           "#ab63fa",
           "#FFA15A",
           "#19d3f3",
           "#FF6692",
           "#B6E880",
           "#FF97FF",
           "#FECB52"
          ],
          "font": {
           "color": "#2a3f5f"
          },
          "geo": {
           "bgcolor": "white",
           "lakecolor": "white",
           "landcolor": "#E5ECF6",
           "showlakes": true,
           "showland": true,
           "subunitcolor": "white"
          },
          "hoverlabel": {
           "align": "left"
          },
          "hovermode": "closest",
          "mapbox": {
           "style": "light"
          },
          "paper_bgcolor": "white",
          "plot_bgcolor": "#E5ECF6",
          "polar": {
           "angularaxis": {
            "gridcolor": "white",
            "linecolor": "white",
            "ticks": ""
           },
           "bgcolor": "#E5ECF6",
           "radialaxis": {
            "gridcolor": "white",
            "linecolor": "white",
            "ticks": ""
           }
          },
          "scene": {
           "xaxis": {
            "backgroundcolor": "#E5ECF6",
            "gridcolor": "white",
            "gridwidth": 2,
            "linecolor": "white",
            "showbackground": true,
            "ticks": "",
            "zerolinecolor": "white"
           },
           "yaxis": {
            "backgroundcolor": "#E5ECF6",
            "gridcolor": "white",
            "gridwidth": 2,
            "linecolor": "white",
            "showbackground": true,
            "ticks": "",
            "zerolinecolor": "white"
           },
           "zaxis": {
            "backgroundcolor": "#E5ECF6",
            "gridcolor": "white",
            "gridwidth": 2,
            "linecolor": "white",
            "showbackground": true,
            "ticks": "",
            "zerolinecolor": "white"
           }
          },
          "shapedefaults": {
           "line": {
            "color": "#2a3f5f"
           }
          },
          "ternary": {
           "aaxis": {
            "gridcolor": "white",
            "linecolor": "white",
            "ticks": ""
           },
           "baxis": {
            "gridcolor": "white",
            "linecolor": "white",
            "ticks": ""
           },
           "bgcolor": "#E5ECF6",
           "caxis": {
            "gridcolor": "white",
            "linecolor": "white",
            "ticks": ""
           }
          },
          "title": {
           "x": 0.05
          },
          "xaxis": {
           "automargin": true,
           "gridcolor": "white",
           "linecolor": "white",
           "ticks": "",
           "title": {
            "standoff": 15
           },
           "zerolinecolor": "white",
           "zerolinewidth": 2
          },
          "yaxis": {
           "automargin": true,
           "gridcolor": "white",
           "linecolor": "white",
           "ticks": "",
           "title": {
            "standoff": 15
           },
           "zerolinecolor": "white",
           "zerolinewidth": 2
          }
         }
        },
        "title": {
         "text": "🔄 Interactive Distance Comparison: Sonar vs DVL"
        },
        "xaxis": {
         "anchor": "y",
         "domain": [
          0,
          1
         ],
         "showgrid": true,
         "title": {
          "text": "Time (seconds)"
         }
        },
        "yaxis": {
         "anchor": "x",
         "domain": [
          0,
          1
         ],
         "showgrid": true,
         "title": {
          "text": "Distance (meters)"
         }
        }
       }
      }
     },
     "metadata": {},
     "output_type": "display_data"
    }
   ],
   "source": [
    "fig, comparison_stats = iau.ComparisonEngine.compare_sonar_vs_dvl(distance_results, raw_data, sonar_coverage_m=sonar_coverage_meters, sonar_image_size=image_shape[0], use_plotly=True)\n",
    "fig.show()"
   ]
  },
  {
   "cell_type": "code",
   "execution_count": 10,
   "id": "50f97352",
   "metadata": {},
   "outputs": [
    {
     "name": "stdout",
     "output_type": "stream",
     "text": [
      "🎬 GENERATING VIDEO WITH DUAL NET DISTANCE OVERLAYS\n",
      "============================================================\n",
      "🎯 Target Bag: 2024-08-20_14-31-29\n",
      "📊 DVL Data: 559 records\n",
      "📏 Sonar Analysis: 1000 frames\n",
      "🎥 Camera: enabled\n",
      "🛠️ OPTIMIZED SONAR VIDEO\n",
      "======================================================================\n",
      "🎯 Target Bag: 2024-08-20_14-31-29\n",
      "   Cone Size: 900x700\n",
      "   Range: 0.0-5.0m | FOV: 120.0°\n",
      "   🎥 Camera: enabled\n",
      "   🕸  Net-line: enabled (dist tol=0.5s, pitch tol=2.0s)\n",
      "   📊 Sonar Analysis: enabled\n",
      "   Loading sonar data: sensor_sonoptix_echo_image__2024-08-20_14-31-29_video.csv\n",
      "   ✅ Loaded 1060 sonar frames in 42.43s\n",
      "   ✅ Loaded 559 navigation records in 0.02s\n",
      "      Available: ['NetDistance', 'NetPitch', 'timestamp']\n",
      "   ❌ Camera index load failed: No index.csv and could not parse timestamps from filenames.\n",
      "   Frames: 1..999 (step 1) => 999\n",
      "   Natural FPS: 15.7\n",
      "\n",
      "🎉 DONE! Wrote 999 frames to /Volumes/LaCie/SOLAQUA/exports/videos/2024-08-20_14-31-29_optimized_sync_withsonar_20240820_143131_621807+0200.mp4 @ 15.67 FPS\n",
      "Metadata saved to: /Volumes/LaCie/SOLAQUA/exports/videos/2024-08-20_14-31-29_optimized_sync_withsonar_20240820_143131_621807+0200.mp4.meta.json\n",
      "\n",
      "✅ Video generated successfully!\n",
      "📁 Output: None\n"
     ]
    }
   ],
   "source": [
    "# 🎥 Generate Video with Both DVL and Sonar Analysis Overlays\n",
    "# ========================================================\n",
    "import utils.sonar_and_foto_generation as sg\n",
    "\n",
    "# Set up paths\n",
    "VIDEO_SEQ_DIR = '/Volumes/LaCie/SOLAQUA/exports/videos/2024-08-20_14-31-29_video__image_compressed_image_data.mp4'  # Set to path if you want camera footage included\n",
    "\n",
    "print(\"🎬 GENERATING VIDEO WITH DUAL NET DISTANCE OVERLAYS\")\n",
    "print(\"=\" * 60)\n",
    "print(f\"🎯 Target Bag: {TARGET_BAG}\")\n",
    "print(f\"📊 DVL Data: {len(raw_data.get('navigation', []))} records\")\n",
    "print(f\"📏 Sonar Analysis: {len(distance_results)} frames\")\n",
    "print(f\"🎥 Camera: {'enabled' if VIDEO_SEQ_DIR else 'disabled'}\")\n",
    "\n",
    "# Generate the video with both overlays\n",
    "try:\n",
    "    video_path = sg.export_optimized_sonar_video(\n",
    "        TARGET_BAG=TARGET_BAG,\n",
    "        EXPORTS_FOLDER=EXPORTS_FOLDER,\n",
    "        START_IDX=1,\n",
    "        END_IDX=1000,  # Adjust as needed\n",
    "        STRIDE=1,\n",
    "        VIDEO_SEQ_DIR=VIDEO_SEQ_DIR,\n",
    "        INCLUDE_NET=True,  # Enable DVL net distance overlay\n",
    "        SONAR_DISTANCE_RESULTS=distance_results,  # Enable sonar analysis overlay\n",
    "        NET_DISTANCE_TOLERANCE=0.5,\n",
    "        NET_PITCH_TOLERANCE=2.0,  # Increased from 0.3 to 2.0 seconds for better pitch sync\n",
    "    )\n",
    "\n",
    "    print(f\"\\n✅ Video generated successfully!\")\n",
    "    print(f\"📁 Output: {video_path}\")\n",
    "except Exception as e:\n",
    "    print(f\"❌ Error generating video: {e}\")"
   ]
  },
  {
   "cell_type": "code",
   "execution_count": null,
   "id": "0fa1311b",
   "metadata": {},
   "outputs": [],
   "source": []
  }
 ],
 "metadata": {
  "kernelspec": {
   "display_name": "venv",
   "language": "python",
   "name": "python3"
  },
  "language_info": {
   "codemirror_mode": {
    "name": "ipython",
    "version": 3
   },
   "file_extension": ".py",
   "mimetype": "text/x-python",
   "name": "python",
   "nbconvert_exporter": "python",
   "pygments_lexer": "ipython3",
   "version": "3.13.5"
  }
 },
 "nbformat": 4,
 "nbformat_minor": 5
}
