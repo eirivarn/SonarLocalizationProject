{
 "cells": [
  {
   "cell_type": "code",
   "execution_count": 1,
   "id": "7a8d02c0",
   "metadata": {},
   "outputs": [],
   "source": [
    "# Centralized sonar defaults (inserted by sweep)\n",
    "from utils.sonar_config import SONAR_VIS_DEFAULTS\n",
    "sonar_config = SONAR_VIS_DEFAULTS.copy()\n",
    "# Backwards-compatible variable names used in older notebooks\n",
    "RANGE_MIN_M = sonar_config['range_min_m']\n",
    "RANGE_MAX_M = sonar_config['range_max_m']\n",
    "DISPLAY_RANGE_MAX_M = sonar_config['display_range_max_m']"
   ]
  },
  {
   "cell_type": "markdown",
   "id": "9220eb1d",
   "metadata": {},
   "source": [
    "# Simple Image Analysis with CV2\n",
    "\n",
    "This notebook demonstrates:\n",
    "1. **Pick a frame** from NPZ files and save it locally\n",
    "2. **Use standard cv2 functions** directly for image processing\n",
    "3. **Experiment** with different OpenCV operations"
   ]
  },
  {
   "cell_type": "code",
   "execution_count": 2,
   "id": "4b3e8f46",
   "metadata": {},
   "outputs": [
    {
     "name": "stdout",
     "output_type": "stream",
     "text": [
      "Using DATA_DIR = /Volumes/LaCie/SOLAQUA/raw_data\n",
      "Selected NPZ file: 2024-08-20_14-31-29_data_cones.npz (index=8)\n"
     ]
    }
   ],
   "source": [
    "from pathlib import Path\n",
    "import utils.sonar_image_analysis as iau\n",
    "\n",
    "\n",
    "# Prefer selecting by bag ID (part of the NPZ filename) instead of a numeric index.\n",
    "# Set TARGET_BAG to a substring that appears in the NPZ filename (e.g. '2024-08-22_14-29-05')\n",
    "# '2024-08-22_14-47-39'\n",
    "# '2024-08-22_14-29-05'\n",
    "# '2024-08-20_14-31-29' HARD\n",
    "TARGET_BAG = '2024-08-20_14-31-29'  # change this to your desired bag ID\n",
    "from utils.sonar_config import EXPORTS_DIR_DEFAULT, EXPORTS_SUBDIRS\n",
    "EXPORTS_FOLDER = Path(EXPORTS_DIR_DEFAULT)\n",
    "\n",
    "# If you keep your raw .bag files or raw data on an external drive, point DATA_DIR there.\n",
    "# Example (your external disk): /Volumes/LaCie/SOLAQUA/raw_data\n",
    "DATA_DIR = Path(\"/Volumes/LaCie/SOLAQUA/raw_data\")\n",
    "print(f\"Using DATA_DIR = {DATA_DIR}\")\n",
    "\n",
    "# Find NPZ files and pick the one matching TARGET_BAG\n",
    "files = iau.get_available_npz_files()\n",
    "if not files:\n",
    "    raise FileNotFoundError(f\"No NPZ files found in configured exports outputs (looked under {EXPORTS_FOLDER / EXPORTS_SUBDIRS.get('outputs','outputs')})\")\n",
    "matches = [p for p in files if TARGET_BAG in p.name]\n",
    "if not matches:\n",
    "    # Help the user by listing available NPZ files\n",
    "    print(f'No NPZ file matched TARGET_BAG={TARGET_BAG!r}')\n",
    "    print('Available NPZ files:')\n",
    "    for i,p in enumerate(files):\n",
    "        print(f'  {i}: {p.name}')\n",
    "    raise ValueError(f'No NPZ file contains \"{TARGET_BAG}\" in its name')\n",
    "\n",
    "# If multiple matches, choose the most recently modified one\n",
    "selected = max(matches, key=lambda p: p.stat().st_mtime)\n",
    "NPZ_FILE_INDEX = files.index(selected)\n",
    "print(f'Selected NPZ file: {selected.name} (index={NPZ_FILE_INDEX})')"
   ]
  },
  {
   "cell_type": "markdown",
   "id": "0c65358c",
   "metadata": {},
   "source": [
    "## Distance Analysis Over Time\n",
    "\n",
    "Now let's perform a comprehensive analysis of the red line distance over time. The red line represents the major axis of the detected elongated contour (likely a fishing net), and we'll track how this distance changes throughout the video sequence."
   ]
  },
  {
   "cell_type": "code",
   "execution_count": 3,
   "id": "d9c0382e",
   "metadata": {},
   "outputs": [
    {
     "name": "stdout",
     "output_type": "stream",
     "text": [
      "=== DISTANCE ANALYSIS FROM NPZ ===\n",
      "Analyzing: /Volumes/LaCie/SOLAQUA/exports/outputs/2024-08-20_14-31-29_data_cones.npz\n",
      "Processing 1000 frames from 1 (step=1)\n",
      "  Processed 50/1000 frames (Success rate: 100.0%)\n",
      "  Processed 100/1000 frames (Success rate: 100.0%)\n",
      "  Processed 150/1000 frames (Success rate: 100.0%)\n",
      "  Processed 200/1000 frames (Success rate: 100.0%)\n",
      "  Processed 250/1000 frames (Success rate: 100.0%)\n",
      "  Processed 300/1000 frames (Success rate: 100.0%)\n",
      "  Processed 350/1000 frames (Success rate: 100.0%)\n",
      "  Processed 400/1000 frames (Success rate: 100.0%)\n",
      "  Processed 450/1000 frames (Success rate: 100.0%)\n",
      "  Processed 500/1000 frames (Success rate: 100.0%)\n",
      "  Processed 550/1000 frames (Success rate: 100.0%)\n",
      "  Processed 600/1000 frames (Success rate: 100.0%)\n",
      "  Processed 650/1000 frames (Success rate: 100.0%)\n",
      "  Processed 700/1000 frames (Success rate: 100.0%)\n",
      "  Processed 750/1000 frames (Success rate: 100.0%)\n",
      "  Processed 800/1000 frames (Success rate: 100.0%)\n",
      "  Processed 850/1000 frames (Success rate: 100.0%)\n",
      "  Processed 900/1000 frames (Success rate: 100.0%)\n",
      "  Processed 950/1000 frames (Success rate: 100.0%)\n",
      "  Processed 1000/1000 frames (Success rate: 100.0%)\n",
      "\n",
      "=== ANALYSIS COMPLETE ===\n",
      "Total frames processed: 1000\n",
      "Successful detections: 1000 (100.0%)\n",
      "Distance statistics (meters):\n",
      "  - Mean: 1.986\n",
      "  - Std:  0.225\n",
      "  - Min:  1.571\n",
      "  - Max:  2.862\n",
      "  - Range: 1.291\n",
      "✅ Analyzed 1000 frames using elliptical AOI\n",
      "🎯 Detection success rate: 100.0%\n",
      "📊 Elliptical tracking active: 0 frames\n"
     ]
    }
   ],
   "source": [
    "# Now using the NEW unified SonarDataProcessor with elliptical AOI support!\n",
    "# This gives us much better net tracking compared to the old rectangular AOI\n",
    "\n",
    "# First reload the module to get the latest elliptical AOI changes\n",
    "import importlib\n",
    "importlib.reload(iau)\n",
    "\n",
    "# Create the unified processor\n",
    "processor = iau.SonarDataProcessor()\n",
    "\n",
    "# Use the new Distance Analysis Engine with elliptical AOI\n",
    "engine = iau.DistanceAnalysisEngine()\n",
    "distance_results = engine.analyze_npz_sequence(\n",
    "    npz_file_index=NPZ_FILE_INDEX,    \n",
    "    frame_start=1,        # Start from frame 1\n",
    "    frame_count=1000,      # Analyze all frames from the video\n",
    "    frame_step=1          # Every frame\n",
    ")\n",
    "\n",
    "print(f\"✅ Analyzed {len(distance_results)} frames using elliptical AOI\")\n",
    "print(f\"🎯 Detection success rate: {distance_results['detection_success'].mean():.1%}\")\n",
    "print(f\"📊 Elliptical tracking active: {(distance_results['tracking_status'].str.contains('ELLIPSE')).sum()} frames\")"
   ]
  },
  {
   "cell_type": "code",
   "execution_count": 4,
   "id": "b9c5da85",
   "metadata": {},
   "outputs": [
    {
     "name": "stdout",
     "output_type": "stream",
     "text": [
      "=== ENHANCED VIDEO CREATION (Simplified) ===\n",
      "Creating video with simplified processor...\n",
      "Frames: 1000, step: 1\n",
      "✅ Processing 1000 frames with simplified processor...\n",
      "Processed 10/1000 frames\n",
      "Processed 20/1000 frames\n",
      "Processed 30/1000 frames\n",
      "Processed 40/1000 frames\n",
      "Processed 50/1000 frames\n",
      "Processed 60/1000 frames\n",
      "Processed 70/1000 frames\n",
      "Processed 80/1000 frames\n",
      "Processed 90/1000 frames\n",
      "Processed 100/1000 frames\n",
      "Processed 110/1000 frames\n",
      "Processed 120/1000 frames\n",
      "Processed 130/1000 frames\n",
      "Processed 140/1000 frames\n",
      "Processed 150/1000 frames\n",
      "Processed 160/1000 frames\n",
      "Processed 170/1000 frames\n",
      "Processed 180/1000 frames\n",
      "Processed 190/1000 frames\n",
      "Processed 200/1000 frames\n",
      "Processed 210/1000 frames\n",
      "Processed 220/1000 frames\n",
      "Processed 230/1000 frames\n",
      "Processed 240/1000 frames\n",
      "Processed 250/1000 frames\n",
      "Processed 260/1000 frames\n",
      "Processed 270/1000 frames\n",
      "Processed 280/1000 frames\n",
      "Processed 290/1000 frames\n",
      "Processed 300/1000 frames\n",
      "Processed 310/1000 frames\n",
      "Processed 320/1000 frames\n",
      "Processed 330/1000 frames\n",
      "Processed 340/1000 frames\n",
      "Processed 350/1000 frames\n",
      "Processed 360/1000 frames\n",
      "Processed 370/1000 frames\n",
      "Processed 380/1000 frames\n",
      "Processed 390/1000 frames\n",
      "Processed 400/1000 frames\n",
      "Processed 410/1000 frames\n",
      "Processed 420/1000 frames\n",
      "Processed 430/1000 frames\n",
      "Processed 440/1000 frames\n",
      "Processed 450/1000 frames\n",
      "Processed 460/1000 frames\n",
      "Processed 470/1000 frames\n",
      "Processed 480/1000 frames\n",
      "Processed 490/1000 frames\n",
      "Processed 500/1000 frames\n",
      "Processed 510/1000 frames\n",
      "Processed 520/1000 frames\n",
      "Processed 530/1000 frames\n",
      "Processed 540/1000 frames\n",
      "Processed 550/1000 frames\n",
      "Processed 560/1000 frames\n",
      "Processed 570/1000 frames\n",
      "Processed 580/1000 frames\n",
      "Processed 590/1000 frames\n",
      "Processed 600/1000 frames\n",
      "Processed 610/1000 frames\n",
      "Processed 620/1000 frames\n",
      "Processed 630/1000 frames\n",
      "Processed 640/1000 frames\n",
      "Processed 650/1000 frames\n",
      "Processed 660/1000 frames\n",
      "Processed 670/1000 frames\n",
      "Processed 680/1000 frames\n",
      "Processed 690/1000 frames\n",
      "Processed 700/1000 frames\n",
      "Processed 710/1000 frames\n",
      "Processed 720/1000 frames\n",
      "Processed 730/1000 frames\n",
      "Processed 740/1000 frames\n",
      "Processed 750/1000 frames\n",
      "Processed 760/1000 frames\n",
      "Processed 770/1000 frames\n",
      "Processed 780/1000 frames\n",
      "Processed 790/1000 frames\n",
      "Processed 800/1000 frames\n",
      "Processed 810/1000 frames\n",
      "Processed 820/1000 frames\n",
      "Processed 830/1000 frames\n",
      "Processed 840/1000 frames\n",
      "Processed 850/1000 frames\n",
      "Processed 860/1000 frames\n",
      "Processed 870/1000 frames\n",
      "Processed 880/1000 frames\n",
      "Processed 890/1000 frames\n",
      "Processed 900/1000 frames\n",
      "Processed 910/1000 frames\n",
      "Processed 920/1000 frames\n",
      "Processed 930/1000 frames\n",
      "Processed 940/1000 frames\n",
      "Processed 950/1000 frames\n",
      "Processed 960/1000 frames\n",
      "Processed 970/1000 frames\n",
      "Processed 980/1000 frames\n",
      "Processed 990/1000 frames\n",
      "Processed 1000/1000 frames\n",
      "\n",
      "=== ENHANCED VIDEO CREATION COMPLETE ===\n",
      "Video saved to: /Volumes/LaCie/SOLAQUA/exports/videos/core_aoi_tracking.mp4\n",
      "Video specs: 900x700, 15 fps, 1000 frames\n",
      "🟢 SIMPLIFIED TRACKING STATS:\n",
      "  - Total detected frames: 1000\n",
      "  - Lost/searching frames: 0\n",
      "  - Detection success rate: 100.0%\n"
     ]
    }
   ],
   "source": [
    "# Create video using the CORE simplified processor\n",
    "# This will show the yellow rectangular AOI and track with momentum merging!\n",
    "\n",
    "# Use the enhanced video creation with CORE processor\n",
    "video_path = iau.create_enhanced_contour_detection_video_with_processor(\n",
    "    npz_file_index=NPZ_FILE_INDEX,          # Which NPZ file to use\n",
    "    frame_start=1,           # Starting frame\n",
    "    frame_count=1000,         # Start with 100 frames for testing\n",
    "    frame_step=1,            # Step between frames\n",
    "    output_path=Path(EXPORTS_DIR_DEFAULT) / EXPORTS_SUBDIRS.get('videos','videos') / 'core_aoi_tracking.mp4',\n",
    "    processor=processor      # Use our CORE processor\n",
    ")\n"
   ]
  },
  {
   "cell_type": "markdown",
   "id": "fede9d64",
   "metadata": {},
   "source": [
    "## Convert to Real-World Distances\n",
    "\n",
    "Now let's convert the pixel distances to real-world distances using the fact that the entire sonar image represents a 10x10 meter area."
   ]
  },
  {
   "cell_type": "code",
   "execution_count": 5,
   "id": "886897de",
   "metadata": {},
   "outputs": [
    {
     "name": "stdout",
     "output_type": "stream",
     "text": [
      "Detected NPZ extent: x=[-8.660,8.660] m, y=[0.000,10.000] m\n",
      "Image shape from NPZ: H=700, W=900\n",
      "meters/pixel: x=0.019245, y=0.014286, avg=0.016765\n",
      "Using pixels_to_meters_avg = 0.016765 m/px\n"
     ]
    }
   ],
   "source": [
    "# Auto-detect pixel->meter mapping from the selected NPZ (if available)\n",
    "try:\n",
    "    cones, ts, extent, meta = iau.load_cone_run_npz(selected)\n",
    "    T, H, W = cones.shape\n",
    "    x_min, x_max, y_min, y_max = extent\n",
    "    width_m = float(x_max - x_min)\n",
    "    height_m = float(y_max - y_min)\n",
    "    px2m_x = width_m / float(W)\n",
    "    px2m_y = height_m / float(H)\n",
    "    pixels_to_meters_avg = 0.5 * (px2m_x + px2m_y)\n",
    "    image_shape = (H, W)\n",
    "    sonar_coverage_meters = max(width_m, height_m)\n",
    "    print(f\"Detected NPZ extent: x=[{x_min:.3f},{x_max:.3f}] m, y=[{y_min:.3f},{y_max:.3f}] m\")\n",
    "    print(f\"Image shape from NPZ: H={H}, W={W}\")\n",
    "    print(f\"meters/pixel: x={px2m_x:.6f}, y={px2m_y:.6f}, avg={pixels_to_meters_avg:.6f}\")\n",
    "except Exception as e:\n",
    "    print(\"Could not read NPZ metadata:\", e)\n",
    "    print(\"Falling back to defaults from sonar_config.\")\n",
    "    from utils.sonar_config import CONE_H_DEFAULT, CONE_W_DEFAULT, DISPLAY_RANGE_MAX_M_DEFAULT\n",
    "    image_shape = (CONE_H_DEFAULT, CONE_W_DEFAULT)\n",
    "    sonar_coverage_meters = DISPLAY_RANGE_MAX_M_DEFAULT * 2  # approximate\n",
    "    pixels_to_meters_avg = sonar_coverage_meters / max(image_shape)\n",
    "    \n",
    "# Use the computed pixels_to_meters_avg in downstream analysis\n",
    "print(f\"Using pixels_to_meters_avg = {pixels_to_meters_avg:.6f} m/px\")"
   ]
  },
  {
   "cell_type": "code",
   "execution_count": 6,
   "id": "15d6238c",
   "metadata": {},
   "outputs": [
    {
     "data": {
      "application/vnd.plotly.v1+json": {
       "config": {
        "plotlyServerURL": "https://plot.ly"
       },
       "data": [
        {
         "line": {
          "color": "blue"
         },
         "mode": "lines+markers",
         "name": "Distance",
         "type": "scatter",
         "x": {
          "bdata": "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",
          "dtype": "i2"
         },
         "xaxis": "x",
         "y": {
          "bdata": "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",
          "dtype": "f8"
         },
         "yaxis": "y"
        },
        {
         "line": {
          "color": "green"
         },
         "mode": "lines+markers",
         "name": "Distance over Time",
         "type": "scatter",
         "x": [
          "2024-08-20T12:31:31.621807575",
          "2024-08-20T12:31:31.681648731",
          "2024-08-20T12:31:31.742511034",
          "2024-08-20T12:31:31.818883181",
          "2024-08-20T12:31:31.874155045",
          "2024-08-20T12:31:31.937494755",
          "2024-08-20T12:31:31.999329090",
          "2024-08-20T12:31:32.063158035",
          "2024-08-20T12:31:32.130053520",
          "2024-08-20T12:31:32.191398144",
          "2024-08-20T12:31:32.254230738",
          "2024-08-20T12:31:32.318058729",
          "2024-08-20T12:31:32.395849943",
          "2024-08-20T12:31:32.445717096",
          "2024-08-20T12:31:32.511543512",
          "2024-08-20T12:31:32.576503515",
          "2024-08-20T12:31:32.637341022",
          "2024-08-20T12:31:32.702203035",
          "2024-08-20T12:31:32.768987656",
          "2024-08-20T12:31:32.829861403",
          "2024-08-20T12:31:32.894687653",
          "2024-08-20T12:31:32.962601185",
          "2024-08-20T12:31:33.025435448",
          "2024-08-20T12:31:33.088264227",
          "2024-08-20T12:31:33.151147127",
          "2024-08-20T12:31:33.218916655",
          "2024-08-20T12:31:33.280750036",
          "2024-08-20T12:31:33.342585087",
          "2024-08-20T12:31:33.407411814",
          "2024-08-20T12:31:33.484754801",
          "2024-08-20T12:31:33.533624887",
          "2024-08-20T12:31:33.610753059",
          "2024-08-20T12:31:33.671589851",
          "2024-08-20T12:31:33.730820179",
          "2024-08-20T12:31:33.790660143",
          "2024-08-20T12:31:33.854523897",
          "2024-08-20T12:31:33.919317245",
          "2024-08-20T12:31:33.984568357",
          "2024-08-20T12:31:34.048381805",
          "2024-08-20T12:31:34.117199183",
          "2024-08-20T12:31:34.183008671",
          "2024-08-20T12:31:34.237861395",
          "2024-08-20T12:31:34.303685427",
          "2024-08-20T12:31:34.367515802",
          "2024-08-20T12:31:34.431509018",
          "2024-08-20T12:31:34.508416414",
          "2024-08-20T12:31:34.565290689",
          "2024-08-20T12:31:34.624107361",
          "2024-08-20T12:31:34.686995983",
          "2024-08-20T12:31:34.749772310",
          "2024-08-20T12:31:34.822613001",
          "2024-08-20T12:31:34.882473946",
          "2024-08-20T12:31:34.943256378",
          "2024-08-20T12:31:35.006085634",
          "2024-08-20T12:31:35.075951576",
          "2024-08-20T12:31:35.139728308",
          "2024-08-20T12:31:35.197573662",
          "2024-08-20T12:31:35.264425278",
          "2024-08-20T12:31:35.328751326",
          "2024-08-20T12:31:35.404547215",
          "2024-08-20T12:31:35.454563379",
          "2024-08-20T12:31:35.522747992",
          "2024-08-20T12:31:35.597547531",
          "2024-08-20T12:31:35.666362762",
          "2024-08-20T12:31:35.716230869",
          "2024-08-20T12:31:35.779061317",
          "2024-08-20T12:31:35.839905977",
          "2024-08-20T12:31:35.902730942",
          "2024-08-20T12:31:35.968554974",
          "2024-08-20T12:31:36.034378290",
          "2024-08-20T12:31:36.146079779",
          "2024-08-20T12:31:36.202927351",
          "2024-08-20T12:31:36.253791808",
          "2024-08-20T12:31:36.310640812",
          "2024-08-20T12:31:36.362536430",
          "2024-08-20T12:31:36.415360451",
          "2024-08-20T12:31:36.612915516",
          "2024-08-20T12:31:36.629870653",
          "2024-08-20T12:31:36.686092138",
          "2024-08-20T12:31:36.731478691",
          "2024-08-20T12:31:36.792353392",
          "2024-08-20T12:31:36.835259199",
          "2024-08-20T12:31:36.882076502",
          "2024-08-20T12:31:36.930180311",
          "2024-08-20T12:31:36.995010138",
          "2024-08-20T12:31:37.057901382",
          "2024-08-20T12:31:37.120796442",
          "2024-08-20T12:31:37.190546751",
          "2024-08-20T12:31:37.245904446",
          "2024-08-20T12:31:37.310695887",
          "2024-08-20T12:31:37.375525713",
          "2024-08-20T12:31:37.443047285",
          "2024-08-20T12:31:37.501889229",
          "2024-08-20T12:31:37.570401907",
          "2024-08-20T12:31:37.634161472",
          "2024-08-20T12:31:37.698097229",
          "2024-08-20T12:31:37.760633230",
          "2024-08-20T12:31:37.822077274",
          "2024-08-20T12:31:37.890928745",
          "2024-08-20T12:31:37.950802088",
          "2024-08-20T12:31:38.016170025",
          "2024-08-20T12:31:38.079568386",
          "2024-08-20T12:31:38.144387484",
          "2024-08-20T12:31:38.206281900",
          "2024-08-20T12:31:38.272046804",
          "2024-08-20T12:31:38.335875273",
          "2024-08-20T12:31:38.399709225",
          "2024-08-20T12:31:38.464562416",
          "2024-08-20T12:31:38.526404619",
          "2024-08-20T12:31:38.595264912",
          "2024-08-20T12:31:38.654108047",
          "2024-08-20T12:31:38.719931841",
          "2024-08-20T12:31:38.783764362",
          "2024-08-20T12:31:38.857566357",
          "2024-08-20T12:31:38.911419630",
          "2024-08-20T12:31:38.976246357",
          "2024-08-20T12:31:39.042104006",
          "2024-08-20T12:31:39.101980925",
          "2024-08-20T12:31:39.166769743",
          "2024-08-20T12:31:39.232593060",
          "2024-08-20T12:31:39.297420025",
          "2024-08-20T12:31:39.361249447",
          "2024-08-20T12:31:39.423182011",
          "2024-08-20T12:31:39.490002155",
          "2024-08-20T12:31:39.549880981",
          "2024-08-20T12:31:39.614220381",
          "2024-08-20T12:31:39.680010796",
          "2024-08-20T12:31:39.748333454",
          "2024-08-20T12:31:39.812162876",
          "2024-08-20T12:31:39.877536774",
          "2024-08-20T12:31:40.073243380",
          "2024-08-20T12:31:40.086207151",
          "2024-08-20T12:31:40.148041010",
          "2024-08-20T12:31:40.191923618",
          "2024-08-20T12:31:40.237802505",
          "2024-08-20T12:31:40.300632715",
          "2024-08-20T12:31:40.345512867",
          "2024-08-20T12:31:40.391391993",
          "2024-08-20T12:31:40.451229811",
          "2024-08-20T12:31:40.517088412",
          "2024-08-20T12:31:40.581882000",
          "2024-08-20T12:31:40.639754295",
          "2024-08-20T12:31:40.703556538",
          "2024-08-20T12:31:40.769875050",
          "2024-08-20T12:31:40.833705902",
          "2024-08-20T12:31:40.910538912",
          "2024-08-20T12:31:40.974536657",
          "2024-08-20T12:31:41.029807091",
          "2024-08-20T12:31:41.085696697",
          "2024-08-20T12:31:41.153585434",
          "2024-08-20T12:31:41.224370241",
          "2024-08-20T12:31:41.289196968",
          "2024-08-20T12:31:41.349036694",
          "2024-08-20T12:31:41.405884266",
          "2024-08-20T12:31:41.472689152",
          "2024-08-20T12:31:41.540507078",
          "2024-08-20T12:31:41.601395369",
          "2024-08-20T12:31:41.668616772",
          "2024-08-20T12:31:41.727491379",
          "2024-08-20T12:31:41.791326761",
          "2024-08-20T12:31:41.859107018",
          "2024-08-20T12:31:41.926977396",
          "2024-08-20T12:31:41.982784510",
          "2024-08-20T12:31:42.058573484",
          "2024-08-20T12:31:42.111595631",
          "2024-08-20T12:31:42.179451942",
          "2024-08-20T12:31:42.239253283",
          "2024-08-20T12:31:42.305081129",
          "2024-08-20T12:31:42.369940758",
          "2024-08-20T12:31:42.492574692",
          "2024-08-20T12:31:42.547464371",
          "2024-08-20T12:31:42.607268095",
          "2024-08-20T12:31:42.656136990",
          "2024-08-20T12:31:42.714980364",
          "2024-08-20T12:31:42.763849974",
          "2024-08-20T12:31:42.821695328",
          "2024-08-20T12:31:42.879108429",
          "2024-08-20T12:31:42.943912029",
          "2024-08-20T12:31:43.009702921",
          "2024-08-20T12:31:43.071511984",
          "2024-08-20T12:31:43.133901834",
          "2024-08-20T12:31:43.203717709",
          "2024-08-20T12:31:43.261597157",
          "2024-08-20T12:31:43.326387167",
          "2024-08-20T12:31:43.394617081",
          "2024-08-20T12:31:43.464424372",
          "2024-08-20T12:31:43.518105029",
          "2024-08-20T12:31:43.583888292",
          "2024-08-20T12:31:43.646115065",
          "2024-08-20T12:31:43.712907553",
          "2024-08-20T12:31:43.773782730",
          "2024-08-20T12:31:43.840597391",
          "2024-08-20T12:31:43.906425953",
          "2024-08-20T12:31:43.967237234",
          "2024-08-20T12:31:44.030067205",
          "2024-08-20T12:31:44.103466988",
          "2024-08-20T12:31:44.162308455",
          "2024-08-20T12:31:44.223145008",
          "2024-08-20T12:31:44.291014671",
          "2024-08-20T12:31:44.349857092",
          "2024-08-20T12:31:44.415681124",
          "2024-08-20T12:31:44.479695797",
          "2024-08-20T12:31:44.542475224",
          "2024-08-20T12:31:44.613296270",
          "2024-08-20T12:31:44.672163725",
          "2024-08-20T12:31:44.734963417",
          "2024-08-20T12:31:44.800783157",
          "2024-08-20T12:31:44.875235319",
          "2024-08-20T12:31:44.934039116",
          "2024-08-20T12:31:44.991886139",
          "2024-08-20T12:31:45.054715633",
          "2024-08-20T12:31:45.123562574",
          "2024-08-20T12:31:45.184406042",
          "2024-08-20T12:31:45.253189325",
          "2024-08-20T12:31:45.314022064",
          "2024-08-20T12:31:45.391814232",
          "2024-08-20T12:31:45.503517866",
          "2024-08-20T12:31:45.563381672",
          "2024-08-20T12:31:45.625192165",
          "2024-08-20T12:31:45.689467907",
          "2024-08-20T12:31:45.743281364",
          "2024-08-20T12:31:45.799130917",
          "2024-08-20T12:31:45.849994183",
          "2024-08-20T12:31:45.911336899",
          "2024-08-20T12:31:45.973172188",
          "2024-08-20T12:31:46.031045198",
          "2024-08-20T12:31:46.077892065",
          "2024-08-20T12:31:46.141758204",
          "2024-08-20T12:31:46.209540129",
          "2024-08-20T12:31:46.271375179",
          "2024-08-20T12:31:46.336202383",
          "2024-08-20T12:31:46.402061224",
          "2024-08-20T12:31:46.463126421",
          "2024-08-20T12:31:46.525985479",
          "2024-08-20T12:31:46.593837023",
          "2024-08-20T12:31:46.663606167",
          "2024-08-20T12:31:46.721510649",
          "2024-08-20T12:31:46.782323599",
          "2024-08-20T12:31:46.850108624",
          "2024-08-20T12:31:46.921957970",
          "2024-08-20T12:31:46.977843285",
          "2024-08-20T12:31:47.038705826",
          "2024-08-20T12:31:47.102475882",
          "2024-08-20T12:31:47.169295788",
          "2024-08-20T12:31:47.230172157",
          "2024-08-20T12:31:47.304938078",
          "2024-08-20T12:31:47.368804932",
          "2024-08-20T12:31:47.427606583",
          "2024-08-20T12:31:47.491471767",
          "2024-08-20T12:31:47.555302143",
          "2024-08-20T12:31:47.623177528",
          "2024-08-20T12:31:47.811676741",
          "2024-08-20T12:31:47.827633619",
          "2024-08-20T12:31:47.877500534",
          "2024-08-20T12:31:47.938337326",
          "2024-08-20T12:31:47.984474659",
          "2024-08-20T12:31:48.027358532",
          "2024-08-20T12:31:48.088195324",
          "2024-08-20T12:31:48.136068344",
          "2024-08-20T12:31:48.191809654",
          "2024-08-20T12:31:48.256190538",
          "2024-08-20T12:31:48.321072102",
          "2024-08-20T12:31:48.382852077",
          "2024-08-20T12:31:48.445721865",
          "2024-08-20T12:31:48.511081219",
          "2024-08-20T12:31:48.576905251",
          "2024-08-20T12:31:48.638738394",
          "2024-08-20T12:31:48.701770544",
          "2024-08-20T12:31:48.774565697",
          "2024-08-20T12:31:48.831388712",
          "2024-08-20T12:31:48.893730640",
          "2024-08-20T12:31:48.961057901",
          "2024-08-20T12:31:49.028914213",
          "2024-08-20T12:31:49.090711117",
          "2024-08-20T12:31:49.154539824",
          "2024-08-20T12:31:49.213383436",
          "2024-08-20T12:31:49.279206991",
          "2024-08-20T12:31:49.345029116",
          "2024-08-20T12:31:49.405867100",
          "2024-08-20T12:31:49.473721266",
          "2024-08-20T12:31:49.545494080",
          "2024-08-20T12:31:49.602399588",
          "2024-08-20T12:31:49.663179159",
          "2024-08-20T12:31:49.729102612",
          "2024-08-20T12:31:49.791011810",
          "2024-08-20T12:31:49.853843212",
          "2024-08-20T12:31:49.919657946",
          "2024-08-20T12:31:49.983487844",
          "2024-08-20T12:31:50.046319723",
          "2024-08-20T12:31:50.110692024",
          "2024-08-20T12:31:50.174520016",
          "2024-08-20T12:31:50.238417864",
          "2024-08-20T12:31:50.303511620",
          "2024-08-20T12:31:50.366343737",
          "2024-08-20T12:31:50.432175159",
          "2024-08-20T12:31:50.505977631",
          "2024-08-20T12:31:50.560830355",
          "2024-08-20T12:31:50.670942068",
          "2024-08-20T12:31:50.726747036",
          "2024-08-20T12:31:50.789601564",
          "2024-08-20T12:31:50.825510979",
          "2024-08-20T12:31:50.890295744",
          "2024-08-20T12:31:50.943155289",
          "2024-08-20T12:31:51.012972832",
          "2024-08-20T12:31:51.074837446",
          "2024-08-20T12:31:51.134642601",
          "2024-08-20T12:31:51.200467348",
          "2024-08-20T12:31:51.273272991",
          "2024-08-20T12:31:51.336102962",
          "2024-08-20T12:31:51.389957905",
          "2024-08-20T12:31:51.454820395",
          "2024-08-20T12:31:51.517674922",
          "2024-08-20T12:31:51.586463928",
          "2024-08-20T12:31:51.646686554",
          "2024-08-20T12:31:51.712054014",
          "2024-08-20T12:31:51.782867193",
          "2024-08-20T12:31:51.838715792",
          "2024-08-20T12:31:51.903051376",
          "2024-08-20T12:31:51.967877626",
          "2024-08-20T12:31:52.030061007",
          "2024-08-20T12:31:52.102158070",
          "2024-08-20T12:31:52.168978691",
          "2024-08-20T12:31:52.222800970",
          "2024-08-20T12:31:52.292626858",
          "2024-08-20T12:31:52.351458549",
          "2024-08-20T12:31:52.418277025",
          "2024-08-20T12:31:52.481150866",
          "2024-08-20T12:31:52.541553497",
          "2024-08-20T12:31:52.606345415",
          "2024-08-20T12:31:52.673228025",
          "2024-08-20T12:31:52.735998154",
          "2024-08-20T12:31:52.798882484",
          "2024-08-20T12:31:52.862711668",
          "2024-08-20T12:31:52.927570105",
          "2024-08-20T12:31:52.990370035",
          "2024-08-20T12:31:53.070696592",
          "2024-08-20T12:31:53.131572007",
          "2024-08-20T12:31:53.195363998",
          "2024-08-20T12:31:53.245267153",
          "2024-08-20T12:31:53.310670376",
          "2024-08-20T12:31:53.375495911",
          "2024-08-20T12:31:53.440849304",
          "2024-08-20T12:31:53.502685069",
          "2024-08-20T12:31:53.581473112",
          "2024-08-20T12:31:53.671237707",
          "2024-08-20T12:31:53.730012655",
          "2024-08-20T12:31:53.778313637",
          "2024-08-20T12:31:53.833030939",
          "2024-08-20T12:31:53.893876076",
          "2024-08-20T12:31:53.949759483",
          "2024-08-20T12:31:54.014583826",
          "2024-08-20T12:31:54.080477238",
          "2024-08-20T12:31:54.146250486",
          "2024-08-20T12:31:54.208119631",
          "2024-08-20T12:31:54.272945881",
          "2024-08-20T12:31:54.337438822",
          "2024-08-20T12:31:54.401267767",
          "2024-08-20T12:31:54.464104652",
          "2024-08-20T12:31:54.525992393",
          "2024-08-20T12:31:54.604726553",
          "2024-08-20T12:31:54.660574675",
          "2024-08-20T12:31:54.717456818",
          "2024-08-20T12:31:54.788233280",
          "2024-08-20T12:31:54.846078873",
          "2024-08-20T12:31:54.909790993",
          "2024-08-20T12:31:54.976554394",
          "2024-08-20T12:31:55.039385557",
          "2024-08-20T12:31:55.105245590",
          "2024-08-20T12:31:55.171085119",
          "2024-08-20T12:31:55.230873108",
          "2024-08-20T12:31:55.299697399",
          "2024-08-20T12:31:55.362556934",
          "2024-08-20T12:31:55.429852486",
          "2024-08-20T12:31:55.490688562",
          "2024-08-20T12:31:55.549531460",
          "2024-08-20T12:31:55.615355253",
          "2024-08-20T12:31:55.682177305",
          "2024-08-20T12:31:55.744011879",
          "2024-08-20T12:31:55.807841063",
          "2024-08-20T12:31:55.870673656",
          "2024-08-20T12:31:55.949462414",
          "2024-08-20T12:31:56.003352642",
          "2024-08-20T12:31:56.067021132",
          "2024-08-20T12:31:56.125862597",
          "2024-08-20T12:31:56.193681240",
          "2024-08-20T12:31:56.253522635",
          "2024-08-20T12:31:56.318383694",
          "2024-08-20T12:31:56.386166811",
          "2024-08-20T12:31:56.448000908",
          "2024-08-20T12:31:56.512829065",
          "2024-08-20T12:31:56.583638668",
          "2024-08-20T12:31:56.640494585",
          "2024-08-20T12:31:56.703325510",
          "2024-08-20T12:31:56.767193556",
          "2024-08-20T12:31:56.835482836",
          "2024-08-20T12:31:56.902304649",
          "2024-08-20T12:31:56.962438345",
          "2024-08-20T12:31:57.025873184",
          "2024-08-20T12:31:57.087665081",
          "2024-08-20T12:31:57.154531956",
          "2024-08-20T12:31:57.214373350",
          "2024-08-20T12:31:57.293160200",
          "2024-08-20T12:31:57.345025063",
          "2024-08-20T12:31:57.412839890",
          "2024-08-20T12:31:57.473701954",
          "2024-08-20T12:31:57.534539223",
          "2024-08-20T12:31:57.604353428",
          "2024-08-20T12:31:57.663195133",
          "2024-08-20T12:31:57.726027727",
          "2024-08-20T12:31:57.791850805",
          "2024-08-20T12:31:57.855682135",
          "2024-08-20T12:31:57.919509649",
          "2024-08-20T12:31:57.984847546",
          "2024-08-20T12:31:58.048672438",
          "2024-08-20T12:31:58.114497423",
          "2024-08-20T12:31:58.232179642",
          "2024-08-20T12:31:58.303023338",
          "2024-08-20T12:31:58.362874031",
          "2024-08-20T12:31:58.422821522",
          "2024-08-20T12:31:58.476673603",
          "2024-08-20T12:31:58.501605749",
          "2024-08-20T12:31:58.569931507",
          "2024-08-20T12:31:58.628283978",
          "2024-08-20T12:31:58.687161207",
          "2024-08-20T12:31:58.754455805",
          "2024-08-20T12:31:58.874644995",
          "2024-08-20T12:31:58.942510366",
          "2024-08-20T12:31:59.005335093",
          "2024-08-20T12:31:59.067801952",
          "2024-08-20T12:31:59.130631208",
          "2024-08-20T12:31:59.181493998",
          "2024-08-20T12:31:59.239844561",
          "2024-08-20T12:31:59.299728394",
          "2024-08-20T12:31:59.346602917",
          "2024-08-20T12:31:59.392479658",
          "2024-08-20T12:31:59.455312490",
          "2024-08-20T12:31:59.519181966",
          "2024-08-20T12:31:59.584981441",
          "2024-08-20T12:31:59.647796392",
          "2024-08-20T12:31:59.710932016",
          "2024-08-20T12:31:59.783735514",
          "2024-08-20T12:31:59.839586020",
          "2024-08-20T12:31:59.903450012",
          "2024-08-20T12:31:59.966248512",
          "2024-08-20T12:32:00.031110048",
          "2024-08-20T12:32:00.101887941",
          "2024-08-20T12:32:00.159729958",
          "2024-08-20T12:32:00.222562075",
          "2024-08-20T12:32:00.287391663",
          "2024-08-20T12:32:00.352120399",
          "2024-08-20T12:32:00.413935184",
          "2024-08-20T12:32:00.478729010",
          "2024-08-20T12:32:00.542225122",
          "2024-08-20T12:32:00.610045195",
          "2024-08-20T12:32:00.671614647",
          "2024-08-20T12:32:00.735095501",
          "2024-08-20T12:32:00.799942493",
          "2024-08-20T12:32:00.863315344",
          "2024-08-20T12:32:00.928106546",
          "2024-08-20T12:32:01.008890390",
          "2024-08-20T12:32:01.070760727",
          "2024-08-20T12:32:01.117598772",
          "2024-08-20T12:32:01.181464672",
          "2024-08-20T12:32:01.245420218",
          "2024-08-20T12:32:01.314198017",
          "2024-08-20T12:32:01.377030849",
          "2024-08-20T12:32:01.439896584",
          "2024-08-20T12:32:01.512666941",
          "2024-08-20T12:32:01.589461088",
          "2024-08-20T12:32:01.634341002",
          "2024-08-20T12:32:01.695178032",
          "2024-08-20T12:32:01.761003256",
          "2024-08-20T12:32:01.821839809",
          "2024-08-20T12:32:01.885703325",
          "2024-08-20T12:32:01.950496435",
          "2024-08-20T12:32:02.016355275",
          "2024-08-20T12:32:02.079560041",
          "2024-08-20T12:32:02.147934437",
          "2024-08-20T12:32:02.205846548",
          "2024-08-20T12:32:02.270641804",
          "2024-08-20T12:32:02.344480515",
          "2024-08-20T12:32:02.461406469",
          "2024-08-20T12:32:02.517229556",
          "2024-08-20T12:32:02.564082146",
          "2024-08-20T12:32:02.629870892",
          "2024-08-20T12:32:02.699684858",
          "2024-08-20T12:32:02.746571541",
          "2024-08-20T12:32:02.795462847",
          "2024-08-20T12:32:02.853273153",
          "2024-08-20T12:32:02.914112091",
          "2024-08-20T12:32:02.973954678",
          "2024-08-20T12:32:03.051743984",
          "2024-08-20T12:32:03.102615833",
          "2024-08-20T12:32:03.168430090",
          "2024-08-20T12:32:03.248250484",
          "2024-08-20T12:32:03.296088934",
          "2024-08-20T12:32:03.361934662",
          "2024-08-20T12:32:03.423750877",
          "2024-08-20T12:32:03.487687349",
          "2024-08-20T12:32:03.550518513",
          "2024-08-20T12:32:03.618339300",
          "2024-08-20T12:32:03.692140341",
          "2024-08-20T12:32:03.742039919",
          "2024-08-20T12:32:03.805836201",
          "2024-08-20T12:32:03.872937918",
          "2024-08-20T12:32:03.934771776",
          "2024-08-20T12:32:04.138708115",
          "2024-08-20T12:32:04.162652016",
          "2024-08-20T12:32:04.215462923",
          "2024-08-20T12:32:04.261340141",
          "2024-08-20T12:32:04.305223465",
          "2024-08-20T12:32:04.367092133",
          "2024-08-20T12:32:04.410940409",
          "2024-08-20T12:32:04.457854271",
          "2024-08-20T12:32:04.517654896",
          "2024-08-20T12:32:04.580527544",
          "2024-08-20T12:32:04.637335539",
          "2024-08-20T12:32:04.706151247",
          "2024-08-20T12:32:04.765990496",
          "2024-08-20T12:32:04.830850601",
          "2024-08-20T12:32:04.894646168",
          "2024-08-20T12:32:04.958475590",
          "2024-08-20T12:32:05.028358459",
          "2024-08-20T12:32:05.090869427",
          "2024-08-20T12:32:05.155694008",
          "2024-08-20T12:32:05.220520258",
          "2024-08-20T12:32:05.280360222",
          "2024-08-20T12:32:05.344203472",
          "2024-08-20T12:32:05.416617870",
          "2024-08-20T12:32:05.473434925",
          "2024-08-20T12:32:05.533270836",
          "2024-08-20T12:32:05.599692583",
          "2024-08-20T12:32:05.668574572",
          "2024-08-20T12:32:05.727350950",
          "2024-08-20T12:32:05.791183472",
          "2024-08-20T12:32:05.854014158",
          "2024-08-20T12:32:05.924823761",
          "2024-08-20T12:32:05.983665466",
          "2024-08-20T12:32:06.046497345",
          "2024-08-20T12:32:06.113318920",
          "2024-08-20T12:32:06.185126543",
          "2024-08-20T12:32:06.244966507",
          "2024-08-20T12:32:06.305804491",
          "2024-08-20T12:32:06.427478552",
          "2024-08-20T12:32:06.476348162",
          "2024-08-20T12:32:06.519232987",
          "2024-08-20T12:32:06.580214500",
          "2024-08-20T12:32:06.640358686",
          "2024-08-20T12:32:06.689215422",
          "2024-08-20T12:32:06.750109673",
          "2024-08-20T12:32:06.817869663",
          "2024-08-20T12:32:06.883101940",
          "2024-08-20T12:32:06.941977024",
          "2024-08-20T12:32:07.051910162",
          "2024-08-20T12:32:07.107870817",
          "2024-08-20T12:32:07.159778595",
          "2024-08-20T12:32:07.225763559",
          "2024-08-20T12:32:07.280441046",
          "2024-08-20T12:32:07.327314854",
          "2024-08-20T12:32:07.392040730",
          "2024-08-20T12:32:07.453844547",
          "2024-08-20T12:32:07.519663572",
          "2024-08-20T12:32:07.585496664",
          "2024-08-20T12:32:07.646383524",
          "2024-08-20T12:32:07.712150097",
          "2024-08-20T12:32:07.776016474",
          "2024-08-20T12:32:07.839809179",
          "2024-08-20T12:32:07.902639627",
          "2024-08-20T12:32:07.965471029",
          "2024-08-20T12:32:08.032032250",
          "2024-08-20T12:32:08.093867064",
          "2024-08-20T12:32:08.167701006",
          "2024-08-20T12:32:08.227540970",
          "2024-08-20T12:32:08.295396090",
          "2024-08-20T12:32:08.349215508",
          "2024-08-20T12:32:08.416072607",
          "2024-08-20T12:32:08.480871439",
          "2024-08-20T12:32:08.542946577",
          "2024-08-20T12:32:08.606839895",
          "2024-08-20T12:32:08.670669317",
          "2024-08-20T12:32:08.748494625",
          "2024-08-20T12:32:08.810294867",
          "2024-08-20T12:32:08.870174646",
          "2024-08-20T12:32:08.929901600",
          "2024-08-20T12:32:08.990741253",
          "2024-08-20T12:32:09.054567575",
          "2024-08-20T12:32:09.119748592",
          "2024-08-20T12:32:09.183618307",
          "2024-08-20T12:32:09.246409178",
          "2024-08-20T12:32:09.310237885",
          "2024-08-20T12:32:09.376274586",
          "2024-08-20T12:32:09.444119215",
          "2024-08-20T12:32:09.505930185",
          "2024-08-20T12:32:09.570753813",
          "2024-08-20T12:32:09.633613825",
          "2024-08-20T12:32:09.695421457",
          "2024-08-20T12:32:09.758251190",
          "2024-08-20T12:32:09.823078632",
          "2024-08-20T12:32:09.892893553",
          "2024-08-20T12:32:09.950737238",
          "2024-08-20T12:32:10.014777422",
          "2024-08-20T12:32:10.086585045",
          "2024-08-20T12:32:10.141972303",
          "2024-08-20T12:32:10.210790157",
          "2024-08-20T12:32:10.270623446",
          "2024-08-20T12:32:10.334451199",
          "2024-08-20T12:32:10.401107311",
          "2024-08-20T12:32:10.475941658",
          "2024-08-20T12:32:10.526770592",
          "2024-08-20T12:32:10.592339277",
          "2024-08-20T12:32:10.654148579",
          "2024-08-20T12:32:10.718975782",
          "2024-08-20T12:32:10.782802105",
          "2024-08-20T12:32:10.848627567",
          "2024-08-20T12:32:10.910460711",
          "2024-08-20T12:32:10.977282286",
          "2024-08-20T12:32:11.039152861",
          "2024-08-20T12:32:11.103947401",
          "2024-08-20T12:32:11.167773247",
          "2024-08-20T12:32:11.229755402",
          "2024-08-20T12:32:11.300566435",
          "2024-08-20T12:32:11.360479593",
          "2024-08-20T12:32:11.429301023",
          "2024-08-20T12:32:11.491092443",
          "2024-08-20T12:32:11.549935341",
          "2024-08-20T12:32:11.614765167",
          "2024-08-20T12:32:11.678591490",
          "2024-08-20T12:32:11.881561279",
          "2024-08-20T12:32:11.898514748",
          "2024-08-20T12:32:11.957359314",
          "2024-08-20T12:32:12.000243187",
          "2024-08-20T12:32:12.059998989",
          "2024-08-20T12:32:12.107871294",
          "2024-08-20T12:32:12.150756359",
          "2024-08-20T12:32:12.212984085",
          "2024-08-20T12:32:12.266843080",
          "2024-08-20T12:32:12.333659649",
          "2024-08-20T12:32:12.400614738",
          "2024-08-20T12:32:12.452477217",
          "2024-08-20T12:32:12.509835005",
          "2024-08-20T12:32:12.584639788",
          "2024-08-20T12:32:12.639522791",
          "2024-08-20T12:32:12.704347134",
          "2024-08-20T12:32:12.766216516",
          "2024-08-20T12:32:12.831049442",
          "2024-08-20T12:32:12.897837639",
          "2024-08-20T12:32:12.957735538",
          "2024-08-20T12:32:13.023500681",
          "2024-08-20T12:32:13.087365866",
          "2024-08-20T12:32:13.162170649",
          "2024-08-20T12:32:13.215023041",
          "2024-08-20T12:32:13.280812502",
          "2024-08-20T12:32:13.341650486",
          "2024-08-20T12:32:13.405478477",
          "2024-08-20T12:32:13.470162392",
          "2024-08-20T12:32:13.536520719",
          "2024-08-20T12:32:13.601319313",
          "2024-08-20T12:32:13.662052870",
          "2024-08-20T12:32:13.725847721",
          "2024-08-20T12:32:13.791673660",
          "2024-08-20T12:32:13.853515148",
          "2024-08-20T12:32:13.930917978",
          "2024-08-20T12:32:13.993786335",
          "2024-08-20T12:32:14.059574604",
          "2024-08-20T12:32:14.110471010",
          "2024-08-20T12:32:14.175262690",
          "2024-08-20T12:32:14.239600658",
          "2024-08-20T12:32:14.304803610",
          "2024-08-20T12:32:14.370627165",
          "2024-08-20T12:32:14.430467367",
          "2024-08-20T12:32:14.494708300",
          "2024-08-20T12:32:14.558565378",
          "2024-08-20T12:32:14.631342411",
          "2024-08-20T12:32:14.685559273",
          "2024-08-20T12:32:14.750857830",
          "2024-08-20T12:32:14.813715219",
          "2024-08-20T12:32:14.879512548",
          "2024-08-20T12:32:14.945337057",
          "2024-08-20T12:32:15.009166241",
          "2024-08-20T12:32:15.070513248",
          "2024-08-20T12:32:15.136845350",
          "2024-08-20T12:32:15.243623495",
          "2024-08-20T12:32:15.292493105",
          "2024-08-20T12:32:15.336418152",
          "2024-08-20T12:32:15.403240204",
          "2024-08-20T12:32:15.460046530",
          "2024-08-20T12:32:15.519924878",
          "2024-08-20T12:32:15.582721472",
          "2024-08-20T12:32:15.646606445",
          "2024-08-20T12:32:15.718358517",
          "2024-08-20T12:32:15.777199030",
          "2024-08-20T12:32:15.840064526",
          "2024-08-20T12:32:15.907848120",
          "2024-08-20T12:32:15.965693712",
          "2024-08-20T12:32:16.031555175",
          "2024-08-20T12:32:16.096345186",
          "2024-08-20T12:32:16.159226656",
          "2024-08-20T12:32:16.222518921",
          "2024-08-20T12:32:16.286342859",
          "2024-08-20T12:32:16.351169825",
          "2024-08-20T12:32:16.413003683",
          "2024-08-20T12:32:16.480856419",
          "2024-08-20T12:32:16.542655945",
          "2024-08-20T12:32:16.610476255",
          "2024-08-20T12:32:16.670314550",
          "2024-08-20T12:32:16.734145641",
          "2024-08-20T12:32:16.799000502",
          "2024-08-20T12:32:16.881431103",
          "2024-08-20T12:32:16.929389238",
          "2024-08-20T12:32:16.989288330",
          "2024-08-20T12:32:17.056051016",
          "2024-08-20T12:32:17.117888451",
          "2024-08-20T12:32:17.183228970",
          "2024-08-20T12:32:17.246451139",
          "2024-08-20T12:32:17.311335325",
          "2024-08-20T12:32:17.374109983",
          "2024-08-20T12:32:17.440968990",
          "2024-08-20T12:32:17.502764702",
          "2024-08-20T12:32:17.568790674",
          "2024-08-20T12:32:17.629988670",
          "2024-08-20T12:32:17.707792282",
          "2024-08-20T12:32:17.769598246",
          "2024-08-20T12:32:17.823451996",
          "2024-08-20T12:32:17.886348248",
          "2024-08-20T12:32:17.957094431",
          "2024-08-20T12:32:18.015938759",
          "2024-08-20T12:32:18.084788322",
          "2024-08-20T12:32:18.142599106",
          "2024-08-20T12:32:18.207425594",
          "2024-08-20T12:32:18.270257473",
          "2024-08-20T12:32:18.335122108",
          "2024-08-20T12:32:18.399975538",
          "2024-08-20T12:32:18.470842600",
          "2024-08-20T12:32:18.525648832",
          "2024-08-20T12:32:18.590513945",
          "2024-08-20T12:32:18.657296419",
          "2024-08-20T12:32:18.718192339",
          "2024-08-20T12:32:18.782960415",
          "2024-08-20T12:32:18.847694159",
          "2024-08-20T12:32:18.910487652",
          "2024-08-20T12:32:18.975023031",
          "2024-08-20T12:32:19.037863016",
          "2024-08-20T12:32:19.103645325",
          "2024-08-20T12:32:19.172459364",
          "2024-08-20T12:32:19.240307093",
          "2024-08-20T12:32:19.297124147",
          "2024-08-20T12:32:19.359956264",
          "2024-08-20T12:32:19.425780773",
          "2024-08-20T12:32:19.623049498",
          "2024-08-20T12:32:19.641996622",
          "2024-08-20T12:32:19.698847055",
          "2024-08-20T12:32:19.756545067",
          "2024-08-20T12:32:19.804416180",
          "2024-08-20T12:32:19.850294828",
          "2024-08-20T12:32:19.894176245",
          "2024-08-20T12:32:19.955012321",
          "2024-08-20T12:32:20.001924038",
          "2024-08-20T12:32:20.070703506",
          "2024-08-20T12:32:20.132539988",
          "2024-08-20T12:32:20.191419840",
          "2024-08-20T12:32:20.262194872",
          "2024-08-20T12:32:20.322516203",
          "2024-08-20T12:32:20.387259722",
          "2024-08-20T12:32:20.446102619",
          "2024-08-20T12:32:20.520902157",
          "2024-08-20T12:32:20.584731817",
          "2024-08-20T12:32:20.653100014",
          "2024-08-20T12:32:20.706911802",
          "2024-08-20T12:32:20.771246910",
          "2024-08-20T12:32:20.832086563",
          "2024-08-20T12:32:20.895421505",
          "2024-08-20T12:32:20.959251165",
          "2024-08-20T12:32:21.024112225",
          "2024-08-20T12:32:21.086937666",
          "2024-08-20T12:32:21.150739670",
          "2024-08-20T12:32:21.215182066",
          "2024-08-20T12:32:21.288241148",
          "2024-08-20T12:32:21.342065573",
          "2024-08-20T12:32:21.407263279",
          "2024-08-20T12:32:21.483011246",
          "2024-08-20T12:32:21.532878399",
          "2024-08-20T12:32:21.599734306",
          "2024-08-20T12:32:21.667518377",
          "2024-08-20T12:32:21.730396748",
          "2024-08-20T12:32:21.791186571",
          "2024-08-20T12:32:21.855018854",
          "2024-08-20T12:32:21.920847893",
          "2024-08-20T12:32:21.982674122",
          "2024-08-20T12:32:22.189171791",
          "2024-08-20T12:32:22.202137947",
          "2024-08-20T12:32:22.256990194",
          "2024-08-20T12:32:22.320201874",
          "2024-08-20T12:32:22.365945339",
          "2024-08-20T12:32:22.409827948",
          "2024-08-20T12:32:22.457733631",
          "2024-08-20T12:32:22.516542673",
          "2024-08-20T12:32:22.564417124",
          "2024-08-20T12:32:22.622356653",
          "2024-08-20T12:32:22.687514067",
          "2024-08-20T12:32:22.750309229",
          "2024-08-20T12:32:22.818037748",
          "2024-08-20T12:32:22.886855364",
          "2024-08-20T12:32:22.941748381",
          "2024-08-20T12:32:23.005697012",
          "2024-08-20T12:32:23.077054977",
          "2024-08-20T12:32:23.133903503",
          "2024-08-20T12:32:23.235785723",
          "2024-08-20T12:32:23.298555374",
          "2024-08-20T12:32:23.360395193",
          "2024-08-20T12:32:23.415242434",
          "2024-08-20T12:32:23.455136061",
          "2024-08-20T12:32:23.520959139",
          "2024-08-20T12:32:23.591769695",
          "2024-08-20T12:32:23.645626307",
          "2024-08-20T12:32:23.709454775",
          "2024-08-20T12:32:23.781263590",
          "2024-08-20T12:32:23.837112904",
          "2024-08-20T12:32:23.903935671",
          "2024-08-20T12:32:23.965770245",
          "2024-08-20T12:32:24.034584522",
          "2024-08-20T12:32:24.102404833",
          "2024-08-20T12:32:24.158255816",
          "2024-08-20T12:32:24.223082304",
          "2024-08-20T12:32:24.300907373",
          "2024-08-20T12:32:24.357778549",
          "2024-08-20T12:32:24.416562796",
          "2024-08-20T12:32:24.479396105",
          "2024-08-20T12:32:24.543224573",
          "2024-08-20T12:32:24.606056452",
          "2024-08-20T12:32:24.671190023",
          "2024-08-20T12:32:24.737014294",
          "2024-08-20T12:32:24.801352024",
          "2024-08-20T12:32:24.864221811",
          "2024-08-20T12:32:24.932000160",
          "2024-08-20T12:32:24.992837667",
          "2024-08-20T12:32:25.054672956",
          "2024-08-20T12:32:25.118500710",
          "2024-08-20T12:32:25.195301294",
          "2024-08-20T12:32:25.253140926",
          "2024-08-20T12:32:25.311498642",
          "2024-08-20T12:32:25.375326633",
          "2024-08-20T12:32:25.440153599",
          "2024-08-20T12:32:25.641125202",
          "2024-08-20T12:32:25.657083750",
          "2024-08-20T12:32:25.720910788",
          "2024-08-20T12:32:25.765789747",
          "2024-08-20T12:32:25.811667442",
          "2024-08-20T12:32:25.873502493",
          "2024-08-20T12:32:25.917384863",
          "2024-08-20T12:32:25.965266705",
          "2024-08-20T12:32:26.015124083",
          "2024-08-20T12:32:26.081945181",
          "2024-08-20T12:32:26.143970490",
          "2024-08-20T12:32:26.207308531",
          "2024-08-20T12:32:26.277124882",
          "2024-08-20T12:32:26.335473299",
          "2024-08-20T12:32:26.399356604",
          "2024-08-20T12:32:26.469116211",
          "2024-08-20T12:32:26.526027203",
          "2024-08-20T12:32:26.599806547",
          "2024-08-20T12:32:26.662598610",
          "2024-08-20T12:32:26.719447613",
          "2024-08-20T12:32:26.787300110",
          "2024-08-20T12:32:26.846109152",
          "2024-08-20T12:32:26.909974575",
          "2024-08-20T12:32:26.982742786",
          "2024-08-20T12:32:27.039618492",
          "2024-08-20T12:32:27.109428883",
          "2024-08-20T12:32:27.168270826",
          "2024-08-20T12:32:27.244070053",
          "2024-08-20T12:32:27.300915718",
          "2024-08-20T12:32:27.358763456",
          "2024-08-20T12:32:27.430572271",
          "2024-08-20T12:32:27.495396614",
          "2024-08-20T12:32:27.552243471",
          "2024-08-20T12:32:27.618986607",
          "2024-08-20T12:32:27.679826498",
          "2024-08-20T12:32:27.744651794",
          "2024-08-20T12:32:27.811474085",
          "2024-08-20T12:32:27.871311665",
          "2024-08-20T12:32:27.938232660",
          "2024-08-20T12:32:28.007043123",
          "2024-08-20T12:32:28.066883086",
          "2024-08-20T12:32:28.126723528",
          "2024-08-20T12:32:28.193597555",
          "2024-08-20T12:32:28.260417461",
          "2024-08-20T12:32:28.320315361",
          "2024-08-20T12:32:28.384086132",
          "2024-08-20T12:32:28.446953297",
          "2024-08-20T12:32:28.518725634",
          "2024-08-20T12:32:28.576572895",
          "2024-08-20T12:32:28.641489267",
          "2024-08-20T12:32:28.702045441",
          "2024-08-20T12:32:28.767858028",
          "2024-08-20T12:32:28.830724716",
          "2024-08-20T12:32:28.896514893",
          "2024-08-20T12:32:28.961437941",
          "2024-08-20T12:32:29.023036718",
          "2024-08-20T12:32:29.086858511",
          "2024-08-20T12:32:29.150660276",
          "2024-08-20T12:32:29.214490175",
          "2024-08-20T12:32:29.280347824",
          "2024-08-20T12:32:29.347641230",
          "2024-08-20T12:32:29.408477068",
          "2024-08-20T12:32:29.473303795",
          "2024-08-20T12:32:29.534140825",
          "2024-08-20T12:32:29.603953600",
          "2024-08-20T12:32:29.662796974",
          "2024-08-20T12:32:29.728660822",
          "2024-08-20T12:32:29.829075098",
          "2024-08-20T12:32:29.855006218",
          "2024-08-20T12:32:29.918835640",
          "2024-08-20T12:32:29.984659910",
          "2024-08-20T12:32:30.048488617",
          "2024-08-20T12:32:30.111320496",
          "2024-08-20T12:32:30.174177170",
          "2024-08-20T12:32:30.241478205",
          "2024-08-20T12:32:30.304310322",
          "2024-08-20T12:32:30.367180586",
          "2024-08-20T12:32:30.433924198",
          "2024-08-20T12:32:30.496754646",
          "2024-08-20T12:32:30.561550379",
          "2024-08-20T12:32:30.623412132",
          "2024-08-20T12:32:30.686249495",
          "2024-08-20T12:32:30.753970623",
          "2024-08-20T12:32:30.815323591",
          "2024-08-20T12:32:30.879150867",
          "2024-08-20T12:32:30.955455780",
          "2024-08-20T12:32:31.006345749",
          "2024-08-20T12:32:31.084110022",
          "2024-08-20T12:32:31.133013964",
          "2024-08-20T12:32:31.203535080",
          "2024-08-20T12:32:31.271354437",
          "2024-08-20T12:32:31.326326847",
          "2024-08-20T12:32:31.408055782",
          "2024-08-20T12:32:31.458920002",
          "2024-08-20T12:32:31.552667856",
          "2024-08-20T12:32:31.591563702",
          "2024-08-20T12:32:31.650408030",
          "2024-08-20T12:32:31.710282564",
          "2024-08-20T12:32:31.776070833",
          "2024-08-20T12:32:31.837939978",
          "2024-08-20T12:32:31.907718420",
          "2024-08-20T12:32:31.973545551",
          "2024-08-20T12:32:32.030505180",
          "2024-08-20T12:32:32.096329927",
          "2024-08-20T12:32:32.159909010",
          "2024-08-20T12:32:32.223783493",
          "2024-08-20T12:32:32.285617352",
          "2024-08-20T12:32:32.355093002",
          "2024-08-20T12:32:32.423932314",
          "2024-08-20T12:32:32.477780581",
          "2024-08-20T12:32:32.545111179",
          "2024-08-20T12:32:32.610616684",
          "2024-08-20T12:32:32.672452688",
          "2024-08-20T12:32:32.738783121",
          "2024-08-20T12:32:32.800617695",
          "2024-08-20T12:32:32.862452507",
          "2024-08-20T12:32:32.927278280",
          "2024-08-20T12:32:32.991107702",
          "2024-08-20T12:32:33.061918974",
          "2024-08-20T12:32:33.117813110",
          "2024-08-20T12:32:33.183628321",
          "2024-08-20T12:32:33.247426987",
          "2024-08-20T12:32:33.313245773",
          "2024-08-20T12:32:33.376078844",
          "2024-08-20T12:32:33.437913418",
          "2024-08-20T12:32:33.507761955",
          "2024-08-20T12:32:33.566568375",
          "2024-08-20T12:32:33.630432606",
          "2024-08-20T12:32:33.696256876",
          "2024-08-20T12:32:33.763337374",
          "2024-08-20T12:32:33.823216915",
          "2024-08-20T12:32:33.886786699",
          "2024-08-20T12:32:33.951614380",
          "2024-08-20T12:32:34.019431353",
          "2024-08-20T12:32:34.080267668",
          "2024-08-20T12:32:34.142103195",
          "2024-08-20T12:32:34.208925486",
          "2024-08-20T12:32:34.270759106",
          "2024-08-20T12:32:34.334587574",
          "2024-08-20T12:32:34.409389973",
          "2024-08-20T12:32:34.463746071",
          "2024-08-20T12:32:34.525631427",
          "2024-08-20T12:32:34.590441942",
          "2024-08-20T12:32:34.672589302",
          "2024-08-20T12:32:34.718495369",
          "2024-08-20T12:32:34.784605265",
          "2024-08-20T12:32:34.845502377",
          "2024-08-20T12:32:34.915297985",
          "2024-08-20T12:32:34.976535082",
          "2024-08-20T12:32:35.038368940",
          "2024-08-20T12:32:35.101213455",
          "2024-08-20T12:32:35.170028687",
          "2024-08-20T12:32:35.229869604",
          "2024-08-20T12:32:35.296691179",
          "2024-08-20T12:32:35.365506649",
          "2024-08-20T12:32:35.421391964",
          "2024-08-20T12:32:35.489713669",
          "2024-08-20T12:32:35.550548553"
         ],
         "xaxis": "x2",
         "y": {
          "bdata": "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",
          "dtype": "f8"
         },
         "yaxis": "y2"
        },
        {
         "marker": {
          "color": "lightcoral"
         },
         "name": "Distribution",
         "nbinsx": 30,
         "opacity": 0.7,
         "type": "histogram",
         "x": {
          "bdata": "tfN8chJHAkA0lGjtEk4CQHkTKoAXIgJA1OxxrfA9AkDE+zLmbsACQM7f1FCa4AJAbUPkIVuzAkDju9A3LB4DQA1sqUOIqwJAdxOa7XpOAkDYEz183XkCQM5JNz0gEgJA9/gXC5upAkCEJD1IHmACQJIl+obEBQJAtttAj0XEAkBY7WKkgIoCQGWBLKg31gJA5nmCKpRFAkDe1R/8VD4CQHDbZQ3X+wJAwGTIG2LGAkB5jdx6GcMCQLF8KfSpugJAHeDrKAURA0CbZ4OVo9ACQGXZeof2xQJAxfURB307A0BZYcnTd8wCQHqxMicKzwJAUyC+GofwAkCw8NYhWusCQGTsuRxJWwRAScCSGiUFA0AqLyERHBgDQCQVEp4MpgJAJUkt7VRfAkCCDRRghOMBQCHuIeWh/QFARqCffJr8AUBuVIrlc80BQKkwQuIvEwJA/fYpi9T5AUA9wwORjN8AQNn0R/BD9QFAwPaPBeE0AkDVZsxqutICQCB0WH9fegJA8gPfQ/prAkDZrMtjn54CQOOoi3vE0QJAWUg4bP6+AkCLuofA6fECQIMxtcjVPQNAPI/Y+thdA0BQIBD8O2kDQD3HdE0uWQNAJTBaRk6sA0Apt3tonaIDQDOw3EZo6gNATSYxAW2tA0BZktCTq54DQAIWTEo+mwNAFkMldgP5A0D5t/wgPM0DQCTN3CvvwgNAM9/zbM0JBEBzxNSu4L0DQFkAP83mswNAojq+E/e9A0BzgN3noiAEQFKigESmMgRAk4x9G+S8A0BSm2H32AcEQCQN3VK3AQRA8qyS/vcqBEDp0RxRT3QDQBWzCI14VwNAq4JZgGlDA0DyIO9J1EsDQJtk6z8PKwNAgxkoNZcPA0B41dUjxPQCQP8RFtMLFwNAjGcHjygVA0AtFye3nwADQJzJfR1PEgNAoKFyGQfCAkDmo58R8LcCQORND2uPhgJAxjZFfSO/AkDydc1rb2ICQDi2e1m//gFAaR0YQ93GAUAo6auhNKUBQC7hbuBhbgFAONTyK+k2AUDFD2a5ehUBQHDYKGVv4gBAnrkrA/ayAEAedKFjN64AQFvwiQwGeQBA/yo5iEBJAEBuCeFrzB4AQN93k5ZpDQBANRTERx3u/z8sO2QMW6H/PxYncBIdaf8/fkmVeyFG/z+LLhr1vQz/P6jmPmssDP8/UCK7mBAB/z+q+NGL0O7+P2obpz9O4f4/NRwPDXji/j84LvZsadr+PxD3IGr+2v4/pEUruQTa/j/t2tiT+9f+P35v6x/c3/4/nQPMqGvM/j+hGZGhHtH+P5k94WNkyf4/ZGgjfOCf/j+YsJ1ZvY/+PwK2MIkdjf4/iydcwGuA/j+QjP4E9rr+P6g8NwmK2v4/XXSdI5Od/j8vMWvr7s/+P5tK7CSElv4/LA+sy0jf/j8zZonCLxP/PwujVGcgnP4/SfZxioWq/j8dgPGWG53+P1+SZBeIm/4/KtFSPkKn/j83NKkhmYL+PwW5K6Sltf4/Jm4b50ae/j8ksansHYH+Pz7ME3IHmv4/1LCfbwCn/j8SHjcheIH+P63YknVHWv4/ar6kbI5K/j8t08OhVRf+P3Xo3uZ4HP4/hd53AqlZ/j/Js5h4R27+PzzK765JZf4/cUKbxMhX/j+olyDSeEL+P1RozRA8K/4/cYZF7zRF/j+ZEKDAgkX+P9Tkz83kcv4/Q0oPI4qN/j9YyU/ygsf+P0MLHm/C9P4/Ivn2RLGS/j9swD5fSI7+P/xbtm29gP4/Xx6c3vCs/j/NpQ27mLz+P36N3WXTsP4//LWmGVDh/j96Y/ZTQxP/P07WjmuKHf8/Qp3DFMo6/z8iH1MH2Dz/P+o7+e6ET/8/ABbjr51K/z8HWmm6cEn/PxIf1btwYP8/m4+JPYt6/z+fQMxb4db/P6QfGy24pP8/EBVbiTfG/z/+WXz57dP/P+py2Cmb4v8/NVgwdNS9/z8d9NdcY7H/P7omuqG/wf8/1NfYNq3o/z8KvqmHlwMAQFle53TNFABArLPuD9IkAECNODrEwQkAQB2BQjQCWgBAInfCWzYmAEBksrTVNEYAQEq7EeggJgBA+Ga4XWUWAEBLWdgokhoAQIVOFNvfIwBAYv738oEhAEBrdJcUAisAQJxdOSskHgBAgMn6BA47AEAiTx+8pkEAQCMiG6cBSQBA22r2eYJNAEDcDLxGzVAAQLvnWmBXQgBAdXE5Vfs4AEBhuUwLOi0AQM+SgYK0HwBAg2AjkcghAEBOmpdxkBkAQMBPrlo2GwBAL5kCfJspAEBeevLFwiAAQOBomcMLGwBA0hwHUn0OAED9LmO7KBoAQDJWsx76HgBAL3gyuVgiAEBZA4rFXBgAQCtRQCBuFgBA4sNsa4keAEDXYByElDAAQGzHksUGCgBAFHJBLjQKAEDhHfLiigYAQPjPwT4W6P8/+OnI7GTK/z9Ojyrct8H/P061HtFotf8/w142kGiU/z8owU4tsW//P6LU4PzYQf8/h5KGEiMs/z+F6i9Xogb/P02VEK3/tf4/zrtEZ3Z0/j/JvpKo91v+PxvIgOG9Pv4//k0gjB8K/j+dlt5CX/z9P7gdZJ0m1v0/g3Ut3t6//T9tyzms7t39P6oVChcSoP0/UPbFIr9e/T+brvK9A179P41L+6+fIf0/2zEb9RL7/D/bfVA/yOX8P9+GpiSHz/w/zSu39TOh/D8AOivw6Yv8P79B4sUVZvw/HOtY0Xs//D+ebKXIYRT8P/AKJD6V4/s/GsSr1aq++z/VVBL9Prz7P917xJjpo/s/Iu96hZaF+z+5b1ZXbHz7PzuL5204Xvs/caPL0/o4+z97ZAF3sDT7P0CcIzmXJPs/mNC2TJsQ+z9+C623w/v6PyRLEbUNL/s/zz0zm6f9+j9jsvkRH+L6Pzgns4Uv8/o/T0NxohvV+j+G9M+WKqf6P7p9+P5Vhfo/4N4GOtKE+j/y6Irzs3D6P7iuszHIqvo/OXXAMyB0+j/4OMMS5Wz6PzEk+0UgT/o/X8pbdoIw+j/wAJWYERz6Pwe7yF0uYfo/j/UMK2hB+j/b30CKMCP6Pz0rE3ZXFvo/kBYlC/f7+T9tTduBs+r5PyPbm+930/k/0D6Jv4zN+T9/TWfKH8/5Pz7LtE9g9Pk/jfCwPFzJ+T8TJ/K48Lf5P+bT+hDIovk/n3RqIOyR+T/LAfV+h3r5PyPf5c8Vd/k/uFQ7/ZNv+T9n82lwCG35P6FXx9Qsevk/8M8HlS15+T9kubB40XP5P5iBrkzcufk/RLq39j2G+T92tVmzuoT5P8EJjL8ri/k/i/CySFm0+T9vJbP1Etf5P13bfGmCnPk/azcp1D2I+T/YV0RAnHf5PxeFmMnFWfk/XtGM+qoh+T+Xdp+7Sy35P1GlOeqSQPk/r/dRJONY+T9XJYH6/VX5P1ZwzbOzlvk/LTpSmQpz+T+d2fQDYnv5P8EmbQ35g/k/yxlvvw6X+T/QY7M+8o35P7Ay7plSuPk/RiXYjJvN+T/sFhFj3Oj5P2MThOPURfo/aKXmGWUW+j/t7r3Swf/5P84wHNVmCfo/iH2O57ka+j9Qve8HPC76Pzrx2+JjSPo/s/6HE3tf+j8wFTMxs1D6PzzJAbqcb/o/aOWVKfp0+j9zFZQll4P6P1c+f4xOiPo/GFLwJB+G+j8vJ0uzrIT6P6CxUxddmPo/I6l+IL6Q+j+mnLFfypH6P20hbkbmnfo/JvqVPf2t+j+YA9ScecT6P2zsF01Yxvo/uJV50BDS+j8g6Em1fN76P+EtA0vl9vo/sOKYTGsN+z8lF7IcDST7P2sqQ0MxJ/s/9O1nUikh+z+jFll6biP7P7cO5OLAAvs/4EI2bH/++j9oOF0xtDL7PxJcMId+L/s/AYuoEPA6+z98kilILg/7PxkleH5ROvs/NFHLyM0a+z+HEut/wSj7PxbTyGeFTvs/CFYuGuZI+z9/WCu1lI/7P/J6GvuBXvs/Z8L57rpq+z8hiCvpllH7P3WHtTxiFvs/VAev95UE+z8bPBaNUx77P5dDV8I6FPs/KQiKIEkk+z9qgdDGkwb7P7XH924I9vo/aEbnhQlP+z+OhPUDmAT7P8oVWu312vo/eSrudGDc+j80OIHfjOv6Pxo5nEr6+vo/lZSJWNok+z8w40hk5in7P56kW9NmL/s/WmKZdThA+z/jZY4IikH7P6odkAg4Wfs/awPNQRt7+z/f+WWZuZ/7P08HTfQDxPs/rexE9KGp+z+sXK5ACs37P6rQdDJe2fs/xTZQ/efn+z8F09hYRgL8P4RLsCXuEvw/g7zs0Xwe/D9ToBTRWSP8P2bUXSQCG/w/HrHttCwH/D+CX7m0fQD8P8jY/woxGPw/UFk15XQp/D+MeqSurjH8P+4DrdP+I/w/Kw45X24i/D9uIFbIlyH8P2qYsEt/Jvw/YsYMStkV/D88BCLI1Rj8P2fQVEXIVvw/cLcfI+9O/D96yzEr+Vz8Pxmmlj8aW/w/fX4vE0Bk/D/QJ8oBylP8PxInrpg3Xvw/FSNyMLGh/D9lVgbjcdX8P4159HI1sfw/WPrcd/Pc/D9G1RM7kCL9Pxesv+91DP0/rIwVeGXz/D815xgpFPv8P+w1wafG+vw/zeQeVX3o/D8jZJYWIQH9P15x0dd+//w/PUeK3S3b/D8AKxvpZfP8PxdcXr8u/Pw/Kumc4u37/D8tVQq7xxb9Pw2jiWg1Ef0/wBRTDAlU/T8OV+2GQ6H9P3XwIqGrUf4/kqu/ALam/T8STBqgT2X9P2RWrzvRWP0/kr1onf1v/T8AcjyBsr/9P6y5fRxfiP0/76nwT5e0/T9daDLqm+39P52HNLpk/P0/4Tr0yHr3/T9kfYoJGvj9P4mhce9cNf4/iZl332E//j+Hnpuatvr9P3fqB71l9v0/Cy/4r8Pm/T+W/ZbVzLT9P/5/Dg471P0/9ftocENN/j8O3n864ZL+P6or5DeuO/4/A17etJ9y/j96WC2zeIX+P1m9Mhw2nv4/M6H71YNZ/j9zjbLnK2j+P692sbjEsP4/Dcuoml+0/j8mQW5kEfD+P/MMkQcMI/8/bR8T+LXI/j8tLe/3cA7/Pyb+KYaBRf8/PMW5f/My/z/J0LyXX2//P1SS9HeXFP8/KLiWKkhr/z/6fNcHNpX/P05PQNexjf8/sYuU/rR0/z+LZItbzQ3/P/XFDrcQjf8/xeDNFfGH/z/zyPf8eH7/PxL0eyXHdv8/4cWQSYF3/z/dWsDxkJr/P++W6q23UP8/t9BUGyk6/z/8+7TU8If/PyajyTaL//4/c4cLn/xG/z9qeRK6VmH/P6a9GvaSWf8/iWc6PRpp/z/tLop7dE7/PwckRUBdo/8/26o+l2YK/z9XOMjeCSX/P7eURf+nOP8/Vu9HywZT/z/4yoC5dRf/P21faoV8OP8/nU7UYlJV/z+Qofilxfj+P/zRyHcBBP8/FFNYCNse/z8o5thTLOX+P/5Hbd2PPv8/g5qPiQlN/z/xfSR5T53/P2rNQbbLif8/DVPuk5VD/z9LnvnOD1j/P6+kEa+sOf8/6BcX1eti/z9vUPaVfGP/P/1xf9wzNABAUAWyDWCl/z93KhziDKr/PwmcJ0dy2v8/+pk+nsGw/z8q+gHOrJr/P++lmQp1ov8/sQ5ZCnCy/z8ANjQkwFr/PwefpkGGsf8/X9tK+z2n/z+iW9lUuZf/P5/mX+zJjP8/MSwglD2o/z9HcP8J4b//P2iQQrx7ev8/qAOqh92T/z8L+ItPPbX/P/cRFsUG7P8/db+jpy3I/z9D5tN1TNT/P9015S9M3f8/bCAGQU7a/z8DNDFGM8b/P2QgRULm0f8/U/zr1ccBAECa3t/pOgYAQG9Qp5RPAABAYtP3uVEnAEA/gMZvKBYAQGO6raKrHwBA5xKQhtgxAEBARDED0iUAQJ0ZTJl+HgBA+jPk16VEAEDPmZP2Ak8AQCBq4fX2NgBAnKeDXT83AEAm4V5uVD8AQIQOSZuyQQBAkwdopCJEAEBgBNWx0lUAQKi3GbpqXwBARqKDvW1gAEDHgd1nRF4AQC8JNXUuVABAo4ZJXBFSAEAoKLmRHT4AQNdDS3HgTABAGHugONxSAEDwNIA1gl4AQNC2Jjr9XwBA+0X4Ea5fAEB4wjr+lFcAQL/CxjM1TABAx8Va4dJeAED1PhF5rVEAQLlCSLxoTgBAA48dNHpZAEBnKuroJ2wAQETuS9CYZABA7r9/MUpjAECwXCQG5mYAQPEQEipQTwBAZ5lX+rhMAEBQgvyag2gAQGdFcpAuhwBAki1HU8B6AEBiLmrnq3gAQBW48li4cwBA+kwiqI1uAEBlPDqOGF4AQOCnpchwZQBAtsE2MLFZAEB4txhfxVcAQAjg6nJ1YABAUqABHjtYAEC0Pv9GiVQAQLarg3F0YABATjVfIllLAEAhjVEL7UwAQAya7l8hPgBAxEdvmyR0AEBwNfVdKkAAQO0JfX4B7gBAl6kuG7FWAEBrTo4egUIAQCvAlUzmUwBAX8DPONZIAEDO002zgEkAQMXbUgRplABAIYX7ZYFIAEDm2HVrclIAQK+CvBDiFwBARmVL5zZNAEAUFRBI91EAQERuM8APYgBA3exDzP1aAEDU5dh6/HMAQApPZdZd8wBALfdGNBh6AECzBhlU7mIAQBzCmHRBOwBADrXOUfePAEDF2Tm6Jk8AQAMnf/E/SABA1hYrbpweAEBFBUfqRlsAQL37n6oWNwBAUldLdQE4AEAUZ/kBajUAQOdvD+tyNQBAid1DhjQrAECYHhKBpiwAQBE/2McMMgBA/vq6QsNCAECLm3ZbKTMAQDbCNqd0PABA3607Zg41AEBThgT8MDIAQP4iWBysOgBA9eZef7pzAEBcpDgf0IUAQKmOgU4AWwBAk3Eu2uVbAECcoS48eYUAQGScPq5VZgBAp7brrTZnAEDmuesZrnkAQP+9YZBVXwBAD9cM9SRbAEA4JLPT8nMAQJRUwMWtgABAtmePGnZiAEAhRHKuO2gAQD+TLukWbQBAaV3P2GdiAEDthmoj6GMAQGvl/SGhfgBA7F7Z6HttAEAVNvGATmoAQB9JpgyIWwBAK9MNs7NHAEBEYye/qU0AQLNfUfRQSABASyhObL5KAEBsZrz3pEcAQMerOkYUGQBAy1ddSmoXAEB4FIvY2v//PwBqr4NlGgBAwhElF5vK/z/3IT2iNAwAQC4hkr7xMQBAIGyYTawJAEChc9Nl8CgAQNYUfhYmMwBA8zOFDcsRAEC6SiDqPUUAQBs/zoKsPABAcfu2GwozAEA3U+OFoRcAQIv7l8EN2v8/Gw00EXsDAEAC2MpCA0z/P8SuPHYGCQBAZIM9KDlt/z+YIPLEtyMAQH7ReKusjv8/t2nlzlqf/z+4Sqipwaz/P4Uz++qSV/8/4rfL13DO/z/U9kDGAn7/P1tPRGAN9v8/yUnAMSjk/z9AyNLHoRr/P8K51lOR+f4/YdckO7PI/j8vOZMG78/+P8lgy6km4P4/Ih6EgzCC/j+FCSAiroX+P5vTkspPL/4/WXIwpy+w/j+b63aNEWn+P7egoZkJAv4//M1B7pXt/T8Oo5MKWif+P9vzvkjYd/4/m6vHLB+D/j+AKrmlaEr+P1RgMULHCv4/C6n9iwDt/T8F+jkmgPb9P2HUXslYNP4/4tKXvHsk/j8ZVGT6H03+PxZTxGZlI/4/syrPMfRF/j8WetutMCr+P68eoq6iCv4/2SllEprb/T+i8ozSORr+P802qonzMf4/N9agB0H3/T8vGsj+D8j+P0OEMr5YWf4/kl9A/GKy/j/dfJ2gm9D+P7M617XWpf4/alNZca2g/j/Zeg1eQzX+PxJROm2+Bf8/GQWcRS/E/j/32F7xKej+P7rKxZon/v4/xW8ysrUH/z/8wX7KvLL+P1+OSUoEbv8/MfxxB2BD/z9Umu/c6Vv/P+IHUKgdX/8/Nbwcmp/G/z91xM0PMGL/P8LScR5B/v8/OkYSlvJo/z9NtXJL837/P+rTsolyjv8/7QmTRCCG/z8bNgS9DxQAQILn01A0/v8/B6JqoIr+/z/qc2U67bj/P0DyOX4dnv8/1/LOjUX2/z+w7Hlp2CQAQE/tWNZoWQBAMfGSoXS6/z+4/GlyyfL/P1BanSTkMQBAD2eKOXFKAECePOS97QoAQBU9shvQAgBA/NgbhMKmAEBxxUtw2YYAQAHYs3JFNABAc+Ufko5PAEB758Lnu5wAQMjEHeEIpQBA00NjhFeuAECvYm0bPzkAQGv4EB9SdABAyBVrW+ueAECln3VhvecAQM7VWbof7gBAgNJ7tn6zAECjIXfTX7kAQPSecpLSjQBAlGbZrAoDAUDjhBzbYfcAQLh5BGR4xf8/KhY6A4teAUD6TH/Cu64AQMX2lmGAJABAmROYLsvwAECwpYecjlcBQO6iqV4hcABAtGPY0xQOAUAdocT2GyoBQIz27R3d3QBAFCH2gIfZAEBv8sL6JsT/PyWa1vZHDgFAlElr+94LAUBEyDoVHb8AQLV1OIfBugBAgx+MevEuAEBDACrgG4sAQFWlQHt93QBA6u/XZ+qgAEBJJHlkE10AQOCwvk7akgBAPNpkBhMKAUB/Sk8Pk3wAQPz553flXQBAbRVnp+Uc/z+CFHU7PGUAQMnq4dC4KgBA31LPY74vAUAUt7KNnGgAQN+hw4PYJP8/ZjsBag+tAEDaQz9o2p0AQAt+A2V9LQBAm2nxt+U9AEBZrjucMWsAQB2g4rJEHABAR6BQshpHAUBUt4EH1DEAQG48bZY5CwBA0dvmBcsbAEB9RSMcqF4BQMBtWZkeg/8/1VLoyDoWAUC4LIiOnrUAQKVpybWMYABAHFW2ppHwAEAmRl+k1Df/P/lQWIa1LABABnYxB2WEAECFPRRhuOgAQC9dWgMYPwBAanYfyUStAEDFfN3fGLoAQI4BtB+UPQBAIVodcKuPAECnSM7CziwBQCJxqiXh0ABAQlP8eCJfAEBpMy0lZE4BQA88L+VOVQFAIr+fgE/FAECLaZmM9HUAQElWCkvIuABAXDv1XhN/AUCYz5bw9xIBQOtDXDdYFQFAOMD5mbtJAUAynNicH1MBQI48OXAyIwFARHRsDk7NAUDed14faiIBQOevg82A8gFAxHLE8JfTAEDaeWz3L5gBQKidHOF24gBAcUH2A8ZiAUDCzyXMU+gAQJ9R6UK9IgFAVelD7466AEDs1J4meL0AQKTQBW4ybABAX7AJF3j3AEDZ4z7mzNgAQE0chDzxFgBArH46db74/z+quMXPl1X/P7P9oBiil/8/po5HLZMfAEA84K6wqdf9P86bCb/QZf8/fLOrqP48/z8U2z3UlTL+P2LPLnGYSP8/iTso0Ulg/j/f2h4Z+p8AQKhSraq0s/4/H1XrvpL4/j+HWD4gsBr/P6ocUAX/ev8/OgJu8KL4/j96RYRfG+v+P6SQ179FIP8/vILAxxoM/z84LUGiQ/3+P2JfOCi72/8/8bjyo7by/j8b1ywVulj/P7VcYa3xkP4/fKiJTc5n/T8re+riUID7P/Bt1Uugjvw/GkVM5boW+j+28SEKcar6P7K4xt9r2vs/mLfh/Ssc/T8iFY0QpBn7Pwr0QGyTbPw/7FwLHCBc+j/2Ui+6YYH6P4rLBU6B3/s/WFFQ2NkN/D/zc/pXaZP7P/qpWon9avw/3VPNTrPH/D/pG7A1car8PygWnZfcPvw/7ta9YqiG+z+SncPp12n8P2j3sCYNefw/ygagW1+Y/D+SrVu/cej9P3xXeS8Jqvw/78IlxtSS/j9TbC95Fyb9PwWbeZyURP0/WSm9tM3r/T/Ha1SIG+79P0qCXLx83/w/ehVQvo1W/j/BnY1LEin9P0xecVZBCABACiQ9FAIBAEDFGh+E2qz+PzWbKU1/V/4/PJ9glicl/j/bfPnBpN/9PyMDfRjo6gBAYjDDuj+y/z+SgRGFJx8AQGYjo1f8y/0/hTForRWa/z8CvvzRo0cAQE1CV2pgkv8/qrIC7odq/z+1Vy1O//wBQPoOS0cuigJAA6O5791VAEC4nuKBJmP/P2c13UIoHABA+llZ+ECiAEA1FWXfrcgBQHTeN/QqvAFALq/ePDqyAEA0CNdv61sAQCVC4TgKXABAeWdAyIovAECQ+789rxL/P/rWEnhAdf4/unW8HNHj/T8rzhAt3IgAQMcMqoAXtf8/kJllojaeAEC3lKwd4bwBQGML8/EbjAFAjjtNm8PWAUA2UG/HsGYCQLWKa12pNgNAJFifYiaiA0BurU/usLEDQBNjhFfeuwNAnBStaoqAA0AEYpGz+okBQCH6amFEswNAscahPgaKA0A9Pr+FEkADQMHPzKKxJQRARuXf3+KKA0B5hz/gVzUEQNz6aD4hvANAP0aJwOQeBEBCqlVngrQCQNnAXCyU/QJAyfW5E+tkAUBlfcVMWwwCQO31CiJtlANAvrRoje73A0BX342daFMDQC0Nz0tOtfw/fO0idy2u/T/Ad+fdmD8CQLibQITvQgNA6Qfp7rOVA0DqQXxjRi4EQFueTSsv6ARAOT6sg+EABUDXOJ9KqygFQBtk3wFhYAVAYH7PRiS1BUCKg7cc79kFQJERJG0M0AVAjqEKMQ0mBkCedqUyNWwGQLHoR9HnxAZAYdw8n3LKBkDqaaK2qtYGQJwpBabCyAZAxq3pMYXlBkA=",
          "dtype": "f8"
         },
         "xaxis": "x3",
         "yaxis": "y3"
        },
        {
         "line": {
          "color": "lightcoral",
          "width": 1
         },
         "mode": "lines",
         "name": "Raw",
         "opacity": 0.5,
         "type": "scatter",
         "x": {
          "bdata": "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",
          "dtype": "i2"
         },
         "xaxis": "x4",
         "y": {
          "bdata": "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",
          "dtype": "f8"
         },
         "yaxis": "y4"
        },
        {
         "line": {
          "color": "darkred",
          "width": 3
         },
         "mode": "lines",
         "name": "Smoothed (n=50)",
         "type": "scatter",
         "x": {
          "bdata": "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",
          "dtype": "i2"
         },
         "xaxis": "x4",
         "y": {
          "bdata": "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",
          "dtype": "f8"
         },
         "yaxis": "y4"
        }
       ],
       "layout": {
        "annotations": [
         {
          "font": {
           "size": 16
          },
          "showarrow": false,
          "text": "Distance vs Frame Index",
          "x": 0.225,
          "xanchor": "center",
          "xref": "paper",
          "y": 1,
          "yanchor": "bottom",
          "yref": "paper"
         },
         {
          "font": {
           "size": 16
          },
          "showarrow": false,
          "text": "Distance vs Time",
          "x": 0.775,
          "xanchor": "center",
          "xref": "paper",
          "y": 1,
          "yanchor": "bottom",
          "yref": "paper"
         },
         {
          "font": {
           "size": 16
          },
          "showarrow": false,
          "text": "Distance Distribution",
          "x": 0.225,
          "xanchor": "center",
          "xref": "paper",
          "y": 0.375,
          "yanchor": "bottom",
          "yref": "paper"
         },
         {
          "font": {
           "size": 16
          },
          "showarrow": false,
          "text": "Distance Trends",
          "x": 0.775,
          "xanchor": "center",
          "xref": "paper",
          "y": 0.375,
          "yanchor": "bottom",
          "yref": "paper"
         },
         {
          "showarrow": false,
          "text": "Mean: 1.99meters",
          "x": 1.9856972557935129,
          "xanchor": "left",
          "xref": "x3",
          "y": 1,
          "yanchor": "top",
          "yref": "y3 domain"
         }
        ],
        "height": 800,
        "shapes": [
         {
          "line": {
           "color": "red",
           "dash": "dash"
          },
          "type": "line",
          "x0": 1.9856972557935129,
          "x1": 1.9856972557935129,
          "xref": "x3",
          "y0": 0,
          "y1": 1,
          "yref": "y3 domain"
         }
        ],
        "showlegend": true,
        "template": {
         "data": {
          "bar": [
           {
            "error_x": {
             "color": "#2a3f5f"
            },
            "error_y": {
             "color": "#2a3f5f"
            },
            "marker": {
             "line": {
              "color": "#E5ECF6",
              "width": 0.5
             },
             "pattern": {
              "fillmode": "overlay",
              "size": 10,
              "solidity": 0.2
             }
            },
            "type": "bar"
           }
          ],
          "barpolar": [
           {
            "marker": {
             "line": {
              "color": "#E5ECF6",
              "width": 0.5
             },
             "pattern": {
              "fillmode": "overlay",
              "size": 10,
              "solidity": 0.2
             }
            },
            "type": "barpolar"
           }
          ],
          "carpet": [
           {
            "aaxis": {
             "endlinecolor": "#2a3f5f",
             "gridcolor": "white",
             "linecolor": "white",
             "minorgridcolor": "white",
             "startlinecolor": "#2a3f5f"
            },
            "baxis": {
             "endlinecolor": "#2a3f5f",
             "gridcolor": "white",
             "linecolor": "white",
             "minorgridcolor": "white",
             "startlinecolor": "#2a3f5f"
            },
            "type": "carpet"
           }
          ],
          "choropleth": [
           {
            "colorbar": {
             "outlinewidth": 0,
             "ticks": ""
            },
            "type": "choropleth"
           }
          ],
          "contour": [
           {
            "colorbar": {
             "outlinewidth": 0,
             "ticks": ""
            },
            "colorscale": [
             [
              0,
              "#0d0887"
             ],
             [
              0.1111111111111111,
              "#46039f"
             ],
             [
              0.2222222222222222,
              "#7201a8"
             ],
             [
              0.3333333333333333,
              "#9c179e"
             ],
             [
              0.4444444444444444,
              "#bd3786"
             ],
             [
              0.5555555555555556,
              "#d8576b"
             ],
             [
              0.6666666666666666,
              "#ed7953"
             ],
             [
              0.7777777777777778,
              "#fb9f3a"
             ],
             [
              0.8888888888888888,
              "#fdca26"
             ],
             [
              1,
              "#f0f921"
             ]
            ],
            "type": "contour"
           }
          ],
          "contourcarpet": [
           {
            "colorbar": {
             "outlinewidth": 0,
             "ticks": ""
            },
            "type": "contourcarpet"
           }
          ],
          "heatmap": [
           {
            "colorbar": {
             "outlinewidth": 0,
             "ticks": ""
            },
            "colorscale": [
             [
              0,
              "#0d0887"
             ],
             [
              0.1111111111111111,
              "#46039f"
             ],
             [
              0.2222222222222222,
              "#7201a8"
             ],
             [
              0.3333333333333333,
              "#9c179e"
             ],
             [
              0.4444444444444444,
              "#bd3786"
             ],
             [
              0.5555555555555556,
              "#d8576b"
             ],
             [
              0.6666666666666666,
              "#ed7953"
             ],
             [
              0.7777777777777778,
              "#fb9f3a"
             ],
             [
              0.8888888888888888,
              "#fdca26"
             ],
             [
              1,
              "#f0f921"
             ]
            ],
            "type": "heatmap"
           }
          ],
          "histogram": [
           {
            "marker": {
             "pattern": {
              "fillmode": "overlay",
              "size": 10,
              "solidity": 0.2
             }
            },
            "type": "histogram"
           }
          ],
          "histogram2d": [
           {
            "colorbar": {
             "outlinewidth": 0,
             "ticks": ""
            },
            "colorscale": [
             [
              0,
              "#0d0887"
             ],
             [
              0.1111111111111111,
              "#46039f"
             ],
             [
              0.2222222222222222,
              "#7201a8"
             ],
             [
              0.3333333333333333,
              "#9c179e"
             ],
             [
              0.4444444444444444,
              "#bd3786"
             ],
             [
              0.5555555555555556,
              "#d8576b"
             ],
             [
              0.6666666666666666,
              "#ed7953"
             ],
             [
              0.7777777777777778,
              "#fb9f3a"
             ],
             [
              0.8888888888888888,
              "#fdca26"
             ],
             [
              1,
              "#f0f921"
             ]
            ],
            "type": "histogram2d"
           }
          ],
          "histogram2dcontour": [
           {
            "colorbar": {
             "outlinewidth": 0,
             "ticks": ""
            },
            "colorscale": [
             [
              0,
              "#0d0887"
             ],
             [
              0.1111111111111111,
              "#46039f"
             ],
             [
              0.2222222222222222,
              "#7201a8"
             ],
             [
              0.3333333333333333,
              "#9c179e"
             ],
             [
              0.4444444444444444,
              "#bd3786"
             ],
             [
              0.5555555555555556,
              "#d8576b"
             ],
             [
              0.6666666666666666,
              "#ed7953"
             ],
             [
              0.7777777777777778,
              "#fb9f3a"
             ],
             [
              0.8888888888888888,
              "#fdca26"
             ],
             [
              1,
              "#f0f921"
             ]
            ],
            "type": "histogram2dcontour"
           }
          ],
          "mesh3d": [
           {
            "colorbar": {
             "outlinewidth": 0,
             "ticks": ""
            },
            "type": "mesh3d"
           }
          ],
          "parcoords": [
           {
            "line": {
             "colorbar": {
              "outlinewidth": 0,
              "ticks": ""
             }
            },
            "type": "parcoords"
           }
          ],
          "pie": [
           {
            "automargin": true,
            "type": "pie"
           }
          ],
          "scatter": [
           {
            "fillpattern": {
             "fillmode": "overlay",
             "size": 10,
             "solidity": 0.2
            },
            "type": "scatter"
           }
          ],
          "scatter3d": [
           {
            "line": {
             "colorbar": {
              "outlinewidth": 0,
              "ticks": ""
             }
            },
            "marker": {
             "colorbar": {
              "outlinewidth": 0,
              "ticks": ""
             }
            },
            "type": "scatter3d"
           }
          ],
          "scattercarpet": [
           {
            "marker": {
             "colorbar": {
              "outlinewidth": 0,
              "ticks": ""
             }
            },
            "type": "scattercarpet"
           }
          ],
          "scattergeo": [
           {
            "marker": {
             "colorbar": {
              "outlinewidth": 0,
              "ticks": ""
             }
            },
            "type": "scattergeo"
           }
          ],
          "scattergl": [
           {
            "marker": {
             "colorbar": {
              "outlinewidth": 0,
              "ticks": ""
             }
            },
            "type": "scattergl"
           }
          ],
          "scattermap": [
           {
            "marker": {
             "colorbar": {
              "outlinewidth": 0,
              "ticks": ""
             }
            },
            "type": "scattermap"
           }
          ],
          "scattermapbox": [
           {
            "marker": {
             "colorbar": {
              "outlinewidth": 0,
              "ticks": ""
             }
            },
            "type": "scattermapbox"
           }
          ],
          "scatterpolar": [
           {
            "marker": {
             "colorbar": {
              "outlinewidth": 0,
              "ticks": ""
             }
            },
            "type": "scatterpolar"
           }
          ],
          "scatterpolargl": [
           {
            "marker": {
             "colorbar": {
              "outlinewidth": 0,
              "ticks": ""
             }
            },
            "type": "scatterpolargl"
           }
          ],
          "scatterternary": [
           {
            "marker": {
             "colorbar": {
              "outlinewidth": 0,
              "ticks": ""
             }
            },
            "type": "scatterternary"
           }
          ],
          "surface": [
           {
            "colorbar": {
             "outlinewidth": 0,
             "ticks": ""
            },
            "colorscale": [
             [
              0,
              "#0d0887"
             ],
             [
              0.1111111111111111,
              "#46039f"
             ],
             [
              0.2222222222222222,
              "#7201a8"
             ],
             [
              0.3333333333333333,
              "#9c179e"
             ],
             [
              0.4444444444444444,
              "#bd3786"
             ],
             [
              0.5555555555555556,
              "#d8576b"
             ],
             [
              0.6666666666666666,
              "#ed7953"
             ],
             [
              0.7777777777777778,
              "#fb9f3a"
             ],
             [
              0.8888888888888888,
              "#fdca26"
             ],
             [
              1,
              "#f0f921"
             ]
            ],
            "type": "surface"
           }
          ],
          "table": [
           {
            "cells": {
             "fill": {
              "color": "#EBF0F8"
             },
             "line": {
              "color": "white"
             }
            },
            "header": {
             "fill": {
              "color": "#C8D4E3"
             },
             "line": {
              "color": "white"
             }
            },
            "type": "table"
           }
          ]
         },
         "layout": {
          "annotationdefaults": {
           "arrowcolor": "#2a3f5f",
           "arrowhead": 0,
           "arrowwidth": 1
          },
          "autotypenumbers": "strict",
          "coloraxis": {
           "colorbar": {
            "outlinewidth": 0,
            "ticks": ""
           }
          },
          "colorscale": {
           "diverging": [
            [
             0,
             "#8e0152"
            ],
            [
             0.1,
             "#c51b7d"
            ],
            [
             0.2,
             "#de77ae"
            ],
            [
             0.3,
             "#f1b6da"
            ],
            [
             0.4,
             "#fde0ef"
            ],
            [
             0.5,
             "#f7f7f7"
            ],
            [
             0.6,
             "#e6f5d0"
            ],
            [
             0.7,
             "#b8e186"
            ],
            [
             0.8,
             "#7fbc41"
            ],
            [
             0.9,
             "#4d9221"
            ],
            [
             1,
             "#276419"
            ]
           ],
           "sequential": [
            [
             0,
             "#0d0887"
            ],
            [
             0.1111111111111111,
             "#46039f"
            ],
            [
             0.2222222222222222,
             "#7201a8"
            ],
            [
             0.3333333333333333,
             "#9c179e"
            ],
            [
             0.4444444444444444,
             "#bd3786"
            ],
            [
             0.5555555555555556,
             "#d8576b"
            ],
            [
             0.6666666666666666,
             "#ed7953"
            ],
            [
             0.7777777777777778,
             "#fb9f3a"
            ],
            [
             0.8888888888888888,
             "#fdca26"
            ],
            [
             1,
             "#f0f921"
            ]
           ],
           "sequentialminus": [
            [
             0,
             "#0d0887"
            ],
            [
             0.1111111111111111,
             "#46039f"
            ],
            [
             0.2222222222222222,
             "#7201a8"
            ],
            [
             0.3333333333333333,
             "#9c179e"
            ],
            [
             0.4444444444444444,
             "#bd3786"
            ],
            [
             0.5555555555555556,
             "#d8576b"
            ],
            [
             0.6666666666666666,
             "#ed7953"
            ],
            [
             0.7777777777777778,
             "#fb9f3a"
            ],
            [
             0.8888888888888888,
             "#fdca26"
            ],
            [
             1,
             "#f0f921"
            ]
           ]
          },
          "colorway": [
           "#636efa",
           "#EF553B",
           "#00cc96",
           "#ab63fa",
           "#FFA15A",
           "#19d3f3",
           "#FF6692",
           "#B6E880",
           "#FF97FF",
           "#FECB52"
          ],
          "font": {
           "color": "#2a3f5f"
          },
          "geo": {
           "bgcolor": "white",
           "lakecolor": "white",
           "landcolor": "#E5ECF6",
           "showlakes": true,
           "showland": true,
           "subunitcolor": "white"
          },
          "hoverlabel": {
           "align": "left"
          },
          "hovermode": "closest",
          "mapbox": {
           "style": "light"
          },
          "paper_bgcolor": "white",
          "plot_bgcolor": "#E5ECF6",
          "polar": {
           "angularaxis": {
            "gridcolor": "white",
            "linecolor": "white",
            "ticks": ""
           },
           "bgcolor": "#E5ECF6",
           "radialaxis": {
            "gridcolor": "white",
            "linecolor": "white",
            "ticks": ""
           }
          },
          "scene": {
           "xaxis": {
            "backgroundcolor": "#E5ECF6",
            "gridcolor": "white",
            "gridwidth": 2,
            "linecolor": "white",
            "showbackground": true,
            "ticks": "",
            "zerolinecolor": "white"
           },
           "yaxis": {
            "backgroundcolor": "#E5ECF6",
            "gridcolor": "white",
            "gridwidth": 2,
            "linecolor": "white",
            "showbackground": true,
            "ticks": "",
            "zerolinecolor": "white"
           },
           "zaxis": {
            "backgroundcolor": "#E5ECF6",
            "gridcolor": "white",
            "gridwidth": 2,
            "linecolor": "white",
            "showbackground": true,
            "ticks": "",
            "zerolinecolor": "white"
           }
          },
          "shapedefaults": {
           "line": {
            "color": "#2a3f5f"
           }
          },
          "ternary": {
           "aaxis": {
            "gridcolor": "white",
            "linecolor": "white",
            "ticks": ""
           },
           "baxis": {
            "gridcolor": "white",
            "linecolor": "white",
            "ticks": ""
           },
           "bgcolor": "#E5ECF6",
           "caxis": {
            "gridcolor": "white",
            "linecolor": "white",
            "ticks": ""
           }
          },
          "title": {
           "x": 0.05
          },
          "xaxis": {
           "automargin": true,
           "gridcolor": "white",
           "linecolor": "white",
           "ticks": "",
           "title": {
            "standoff": 15
           },
           "zerolinecolor": "white",
           "zerolinewidth": 2
          },
          "yaxis": {
           "automargin": true,
           "gridcolor": "white",
           "linecolor": "white",
           "ticks": "",
           "title": {
            "standoff": 15
           },
           "zerolinecolor": "white",
           "zerolinewidth": 2
          }
         }
        },
        "title": {
         "text": "Real-World Distance Analysis"
        },
        "xaxis": {
         "anchor": "y",
         "domain": [
          0,
          0.45
         ],
         "title": {
          "text": "Frame Index"
         }
        },
        "xaxis2": {
         "anchor": "y2",
         "domain": [
          0.55,
          1
         ],
         "title": {
          "text": "Time"
         }
        },
        "xaxis3": {
         "anchor": "y3",
         "domain": [
          0,
          0.45
         ],
         "title": {
          "text": "Distance (meters)"
         }
        },
        "xaxis4": {
         "anchor": "y4",
         "domain": [
          0.55,
          1
         ],
         "title": {
          "text": "Frame Index"
         }
        },
        "yaxis": {
         "anchor": "x",
         "domain": [
          0.625,
          1
         ],
         "title": {
          "text": "Distance (meters)"
         }
        },
        "yaxis2": {
         "anchor": "x2",
         "domain": [
          0.625,
          1
         ],
         "title": {
          "text": "Distance (meters)"
         }
        },
        "yaxis3": {
         "anchor": "x3",
         "domain": [
          0,
          0.375
         ],
         "title": {
          "text": "Frequency"
         }
        },
        "yaxis4": {
         "anchor": "x4",
         "domain": [
          0,
          0.375
         ],
         "title": {
          "text": "Distance (meters)"
         }
        }
       }
      }
     },
     "metadata": {},
     "output_type": "display_data"
    }
   ],
   "source": [
    "iau.VisualizationEngine.plot_distance_analysis(distance_results, \"Real-World Distance Analysis\")"
   ]
  },
  {
   "cell_type": "code",
   "execution_count": 7,
   "id": "c10a8be6",
   "metadata": {},
   "outputs": [
    {
     "name": "stdout",
     "output_type": "stream",
     "text": [
      "🎯 LOADING ALL DISTANCE DATA FOR BAG: 2024-08-20_14-31-29\n",
      "============================================================\n",
      "📡 1. Loading Navigation Data...\n",
      "   ✅ Loaded 559 navigation records\n",
      "📡 2. Loading Guidance Data...\n",
      "   ✅ Loaded 549 guidance records with ['error_net_distance', 'desired_net_distance', 'r_net_distance_d']\n",
      "📡 3. Loading DVL Altimeter...\n",
      "   ❌ DVL altimeter file not found\n",
      "📡 4. Loading USBL...\n",
      "   ✅ Loaded 33 USBL records\n",
      "📡 5. Loading DVL Position...\n",
      "   ✅ Loaded 283 DVL position records\n",
      "📡 6. Loading Navigation Position...\n",
      "   ✅ Loaded 278 navigation position records\n",
      "📡 7. Loading INS Z Position...\n",
      "   ❌ INS file not found\n",
      "\n",
      "📊 LOADING SUMMARY:\n",
      "   🎯 Target bag: 2024-08-20_14-31-29\n",
      "   📁 Raw data loaded: 2/2\n",
      "   📏 Distance measurements: 4\n",
      "\n",
      "📊 RAW DATA LOADED:\n",
      "   ✅ navigation: 559 records\n",
      "   ✅ guidance: 549 records\n",
      "\n",
      "📏 DISTANCE MEASUREMENTS LOADED:\n",
      "   ✅ USBL_3D: 33 records - 3D acoustic position\n",
      "   ✅ USBL_Depth: 33 records - USBL depth measurement\n",
      "   ✅ DVL_Position: 283 records - 3D DVL position\n",
      "   ✅ Nav_Position: 278 records - 2D navigation position\n"
     ]
    }
   ],
   "source": [
    "# 🔄 COMPARISON: SONAR vs DVL DISTANCE MEASUREMENTS\n",
    "# =================================================\n",
    "import utils.net_distance_analysis as sda\n",
    "\n",
    "# IMPORTANT: Pass the by_bag folder, not just the exports root\n",
    "# The function expects the folder containing the CSV files\n",
    "from utils.sonar_config import EXPORTS_SUBDIRS\n",
    "BY_BAG_FOLDER = EXPORTS_FOLDER / EXPORTS_SUBDIRS.get('by_bag', 'by_bag')\n",
    "\n",
    "# Load all distance data for the target bag\n",
    "raw_data, distance_measurements = sda.load_all_distance_data_for_bag(TARGET_BAG, BY_BAG_FOLDER)\n",
    "\n",
    "# Display what we loaded\n",
    "print(f\"\\n📊 RAW DATA LOADED:\")\n",
    "for key, data in raw_data.items():\n",
    "    if data is not None:\n",
    "        print(f\"   ✅ {key}: {len(data)} records\")\n",
    "    else:\n",
    "        print(f\"   ❌ {key}: None\")\n",
    "\n",
    "print(f\"\\n📏 DISTANCE MEASUREMENTS LOADED:\")\n",
    "for key, info in distance_measurements.items():\n",
    "    data_len = len(info['data'])\n",
    "    print(f\"   ✅ {key}: {data_len} records - {info['description']}\")"
   ]
  },
  {
   "cell_type": "code",
   "execution_count": 8,
   "id": "0375375e",
   "metadata": {},
   "outputs": [
    {
     "name": "stdout",
     "output_type": "stream",
     "text": [
      "\n",
      "📊 SONAR vs DVL COMPARISON STATISTICS:\n",
      "==================================================\n",
      "Sonar mean distance: 1.986 m\n",
      "DVL mean distance:   1.968 m\n",
      "Scale ratio (Sonar/DVL): 1.009x\n",
      "Sonar duration: 67.1s (1000 frames)\n",
      "DVL duration:   67.0s (559 records)\n"
     ]
    },
    {
     "name": "stderr",
     "output_type": "stream",
     "text": [
      "/Users/eirikvarnes/code/SOLAQUA/utils/sonar_image_analysis.py:285: FutureWarning:\n",
      "\n",
      "Series.fillna with 'method' is deprecated and will raise in a future version. Use obj.ffill() or obj.bfill() instead.\n",
      "\n",
      "/Users/eirikvarnes/code/SOLAQUA/utils/sonar_image_analysis.py:292: FutureWarning:\n",
      "\n",
      "Series.fillna with 'method' is deprecated and will raise in a future version. Use obj.ffill() or obj.bfill() instead.\n",
      "\n"
     ]
    },
    {
     "data": {
      "application/vnd.plotly.v1+json": {
       "config": {
        "plotlyServerURL": "https://plot.ly"
       },
       "data": [
        {
         "line": {
          "color": "rgba(255,0,0,0.3)"
         },
         "mode": "lines",
         "name": "Sonar Raw",
         "type": "scatter",
         "x": {
          "bdata": "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",
          "dtype": "f8"
         },
         "xaxis": "x",
         "y": {
          "bdata": "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",
          "dtype": "f8"
         },
         "yaxis": "y"
        },
        {
         "line": {
          "color": "red",
          "width": 3
         },
         "mode": "lines",
         "name": "Sonar Smoothed",
         "type": "scatter",
         "x": {
          "bdata": "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",
          "dtype": "f8"
         },
         "xaxis": "x",
         "y": {
          "bdata": "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",
          "dtype": "f8"
         },
         "yaxis": "y"
        },
        {
         "line": {
          "color": "blue",
          "width": 3
         },
         "mode": "lines",
         "name": "DVL Distance",
         "type": "scatter",
         "x": {
          "bdata": "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",
          "dtype": "f8"
         },
         "xaxis": "x",
         "y": {
          "bdata": "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",
          "dtype": "f8"
         },
         "yaxis": "y"
        }
       ],
       "layout": {
        "height": 600,
        "hovermode": "x unified",
        "template": {
         "data": {
          "bar": [
           {
            "error_x": {
             "color": "#2a3f5f"
            },
            "error_y": {
             "color": "#2a3f5f"
            },
            "marker": {
             "line": {
              "color": "#E5ECF6",
              "width": 0.5
             },
             "pattern": {
              "fillmode": "overlay",
              "size": 10,
              "solidity": 0.2
             }
            },
            "type": "bar"
           }
          ],
          "barpolar": [
           {
            "marker": {
             "line": {
              "color": "#E5ECF6",
              "width": 0.5
             },
             "pattern": {
              "fillmode": "overlay",
              "size": 10,
              "solidity": 0.2
             }
            },
            "type": "barpolar"
           }
          ],
          "carpet": [
           {
            "aaxis": {
             "endlinecolor": "#2a3f5f",
             "gridcolor": "white",
             "linecolor": "white",
             "minorgridcolor": "white",
             "startlinecolor": "#2a3f5f"
            },
            "baxis": {
             "endlinecolor": "#2a3f5f",
             "gridcolor": "white",
             "linecolor": "white",
             "minorgridcolor": "white",
             "startlinecolor": "#2a3f5f"
            },
            "type": "carpet"
           }
          ],
          "choropleth": [
           {
            "colorbar": {
             "outlinewidth": 0,
             "ticks": ""
            },
            "type": "choropleth"
           }
          ],
          "contour": [
           {
            "colorbar": {
             "outlinewidth": 0,
             "ticks": ""
            },
            "colorscale": [
             [
              0,
              "#0d0887"
             ],
             [
              0.1111111111111111,
              "#46039f"
             ],
             [
              0.2222222222222222,
              "#7201a8"
             ],
             [
              0.3333333333333333,
              "#9c179e"
             ],
             [
              0.4444444444444444,
              "#bd3786"
             ],
             [
              0.5555555555555556,
              "#d8576b"
             ],
             [
              0.6666666666666666,
              "#ed7953"
             ],
             [
              0.7777777777777778,
              "#fb9f3a"
             ],
             [
              0.8888888888888888,
              "#fdca26"
             ],
             [
              1,
              "#f0f921"
             ]
            ],
            "type": "contour"
           }
          ],
          "contourcarpet": [
           {
            "colorbar": {
             "outlinewidth": 0,
             "ticks": ""
            },
            "type": "contourcarpet"
           }
          ],
          "heatmap": [
           {
            "colorbar": {
             "outlinewidth": 0,
             "ticks": ""
            },
            "colorscale": [
             [
              0,
              "#0d0887"
             ],
             [
              0.1111111111111111,
              "#46039f"
             ],
             [
              0.2222222222222222,
              "#7201a8"
             ],
             [
              0.3333333333333333,
              "#9c179e"
             ],
             [
              0.4444444444444444,
              "#bd3786"
             ],
             [
              0.5555555555555556,
              "#d8576b"
             ],
             [
              0.6666666666666666,
              "#ed7953"
             ],
             [
              0.7777777777777778,
              "#fb9f3a"
             ],
             [
              0.8888888888888888,
              "#fdca26"
             ],
             [
              1,
              "#f0f921"
             ]
            ],
            "type": "heatmap"
           }
          ],
          "histogram": [
           {
            "marker": {
             "pattern": {
              "fillmode": "overlay",
              "size": 10,
              "solidity": 0.2
             }
            },
            "type": "histogram"
           }
          ],
          "histogram2d": [
           {
            "colorbar": {
             "outlinewidth": 0,
             "ticks": ""
            },
            "colorscale": [
             [
              0,
              "#0d0887"
             ],
             [
              0.1111111111111111,
              "#46039f"
             ],
             [
              0.2222222222222222,
              "#7201a8"
             ],
             [
              0.3333333333333333,
              "#9c179e"
             ],
             [
              0.4444444444444444,
              "#bd3786"
             ],
             [
              0.5555555555555556,
              "#d8576b"
             ],
             [
              0.6666666666666666,
              "#ed7953"
             ],
             [
              0.7777777777777778,
              "#fb9f3a"
             ],
             [
              0.8888888888888888,
              "#fdca26"
             ],
             [
              1,
              "#f0f921"
             ]
            ],
            "type": "histogram2d"
           }
          ],
          "histogram2dcontour": [
           {
            "colorbar": {
             "outlinewidth": 0,
             "ticks": ""
            },
            "colorscale": [
             [
              0,
              "#0d0887"
             ],
             [
              0.1111111111111111,
              "#46039f"
             ],
             [
              0.2222222222222222,
              "#7201a8"
             ],
             [
              0.3333333333333333,
              "#9c179e"
             ],
             [
              0.4444444444444444,
              "#bd3786"
             ],
             [
              0.5555555555555556,
              "#d8576b"
             ],
             [
              0.6666666666666666,
              "#ed7953"
             ],
             [
              0.7777777777777778,
              "#fb9f3a"
             ],
             [
              0.8888888888888888,
              "#fdca26"
             ],
             [
              1,
              "#f0f921"
             ]
            ],
            "type": "histogram2dcontour"
           }
          ],
          "mesh3d": [
           {
            "colorbar": {
             "outlinewidth": 0,
             "ticks": ""
            },
            "type": "mesh3d"
           }
          ],
          "parcoords": [
           {
            "line": {
             "colorbar": {
              "outlinewidth": 0,
              "ticks": ""
             }
            },
            "type": "parcoords"
           }
          ],
          "pie": [
           {
            "automargin": true,
            "type": "pie"
           }
          ],
          "scatter": [
           {
            "fillpattern": {
             "fillmode": "overlay",
             "size": 10,
             "solidity": 0.2
            },
            "type": "scatter"
           }
          ],
          "scatter3d": [
           {
            "line": {
             "colorbar": {
              "outlinewidth": 0,
              "ticks": ""
             }
            },
            "marker": {
             "colorbar": {
              "outlinewidth": 0,
              "ticks": ""
             }
            },
            "type": "scatter3d"
           }
          ],
          "scattercarpet": [
           {
            "marker": {
             "colorbar": {
              "outlinewidth": 0,
              "ticks": ""
             }
            },
            "type": "scattercarpet"
           }
          ],
          "scattergeo": [
           {
            "marker": {
             "colorbar": {
              "outlinewidth": 0,
              "ticks": ""
             }
            },
            "type": "scattergeo"
           }
          ],
          "scattergl": [
           {
            "marker": {
             "colorbar": {
              "outlinewidth": 0,
              "ticks": ""
             }
            },
            "type": "scattergl"
           }
          ],
          "scattermap": [
           {
            "marker": {
             "colorbar": {
              "outlinewidth": 0,
              "ticks": ""
             }
            },
            "type": "scattermap"
           }
          ],
          "scattermapbox": [
           {
            "marker": {
             "colorbar": {
              "outlinewidth": 0,
              "ticks": ""
             }
            },
            "type": "scattermapbox"
           }
          ],
          "scatterpolar": [
           {
            "marker": {
             "colorbar": {
              "outlinewidth": 0,
              "ticks": ""
             }
            },
            "type": "scatterpolar"
           }
          ],
          "scatterpolargl": [
           {
            "marker": {
             "colorbar": {
              "outlinewidth": 0,
              "ticks": ""
             }
            },
            "type": "scatterpolargl"
           }
          ],
          "scatterternary": [
           {
            "marker": {
             "colorbar": {
              "outlinewidth": 0,
              "ticks": ""
             }
            },
            "type": "scatterternary"
           }
          ],
          "surface": [
           {
            "colorbar": {
             "outlinewidth": 0,
             "ticks": ""
            },
            "colorscale": [
             [
              0,
              "#0d0887"
             ],
             [
              0.1111111111111111,
              "#46039f"
             ],
             [
              0.2222222222222222,
              "#7201a8"
             ],
             [
              0.3333333333333333,
              "#9c179e"
             ],
             [
              0.4444444444444444,
              "#bd3786"
             ],
             [
              0.5555555555555556,
              "#d8576b"
             ],
             [
              0.6666666666666666,
              "#ed7953"
             ],
             [
              0.7777777777777778,
              "#fb9f3a"
             ],
             [
              0.8888888888888888,
              "#fdca26"
             ],
             [
              1,
              "#f0f921"
             ]
            ],
            "type": "surface"
           }
          ],
          "table": [
           {
            "cells": {
             "fill": {
              "color": "#EBF0F8"
             },
             "line": {
              "color": "white"
             }
            },
            "header": {
             "fill": {
              "color": "#C8D4E3"
             },
             "line": {
              "color": "white"
             }
            },
            "type": "table"
           }
          ]
         },
         "layout": {
          "annotationdefaults": {
           "arrowcolor": "#2a3f5f",
           "arrowhead": 0,
           "arrowwidth": 1
          },
          "autotypenumbers": "strict",
          "coloraxis": {
           "colorbar": {
            "outlinewidth": 0,
            "ticks": ""
           }
          },
          "colorscale": {
           "diverging": [
            [
             0,
             "#8e0152"
            ],
            [
             0.1,
             "#c51b7d"
            ],
            [
             0.2,
             "#de77ae"
            ],
            [
             0.3,
             "#f1b6da"
            ],
            [
             0.4,
             "#fde0ef"
            ],
            [
             0.5,
             "#f7f7f7"
            ],
            [
             0.6,
             "#e6f5d0"
            ],
            [
             0.7,
             "#b8e186"
            ],
            [
             0.8,
             "#7fbc41"
            ],
            [
             0.9,
             "#4d9221"
            ],
            [
             1,
             "#276419"
            ]
           ],
           "sequential": [
            [
             0,
             "#0d0887"
            ],
            [
             0.1111111111111111,
             "#46039f"
            ],
            [
             0.2222222222222222,
             "#7201a8"
            ],
            [
             0.3333333333333333,
             "#9c179e"
            ],
            [
             0.4444444444444444,
             "#bd3786"
            ],
            [
             0.5555555555555556,
             "#d8576b"
            ],
            [
             0.6666666666666666,
             "#ed7953"
            ],
            [
             0.7777777777777778,
             "#fb9f3a"
            ],
            [
             0.8888888888888888,
             "#fdca26"
            ],
            [
             1,
             "#f0f921"
            ]
           ],
           "sequentialminus": [
            [
             0,
             "#0d0887"
            ],
            [
             0.1111111111111111,
             "#46039f"
            ],
            [
             0.2222222222222222,
             "#7201a8"
            ],
            [
             0.3333333333333333,
             "#9c179e"
            ],
            [
             0.4444444444444444,
             "#bd3786"
            ],
            [
             0.5555555555555556,
             "#d8576b"
            ],
            [
             0.6666666666666666,
             "#ed7953"
            ],
            [
             0.7777777777777778,
             "#fb9f3a"
            ],
            [
             0.8888888888888888,
             "#fdca26"
            ],
            [
             1,
             "#f0f921"
            ]
           ]
          },
          "colorway": [
           "#636efa",
           "#EF553B",
           "#00cc96",
           "#ab63fa",
           "#FFA15A",
           "#19d3f3",
           "#FF6692",
           "#B6E880",
           "#FF97FF",
           "#FECB52"
          ],
          "font": {
           "color": "#2a3f5f"
          },
          "geo": {
           "bgcolor": "white",
           "lakecolor": "white",
           "landcolor": "#E5ECF6",
           "showlakes": true,
           "showland": true,
           "subunitcolor": "white"
          },
          "hoverlabel": {
           "align": "left"
          },
          "hovermode": "closest",
          "mapbox": {
           "style": "light"
          },
          "paper_bgcolor": "white",
          "plot_bgcolor": "#E5ECF6",
          "polar": {
           "angularaxis": {
            "gridcolor": "white",
            "linecolor": "white",
            "ticks": ""
           },
           "bgcolor": "#E5ECF6",
           "radialaxis": {
            "gridcolor": "white",
            "linecolor": "white",
            "ticks": ""
           }
          },
          "scene": {
           "xaxis": {
            "backgroundcolor": "#E5ECF6",
            "gridcolor": "white",
            "gridwidth": 2,
            "linecolor": "white",
            "showbackground": true,
            "ticks": "",
            "zerolinecolor": "white"
           },
           "yaxis": {
            "backgroundcolor": "#E5ECF6",
            "gridcolor": "white",
            "gridwidth": 2,
            "linecolor": "white",
            "showbackground": true,
            "ticks": "",
            "zerolinecolor": "white"
           },
           "zaxis": {
            "backgroundcolor": "#E5ECF6",
            "gridcolor": "white",
            "gridwidth": 2,
            "linecolor": "white",
            "showbackground": true,
            "ticks": "",
            "zerolinecolor": "white"
           }
          },
          "shapedefaults": {
           "line": {
            "color": "#2a3f5f"
           }
          },
          "ternary": {
           "aaxis": {
            "gridcolor": "white",
            "linecolor": "white",
            "ticks": ""
           },
           "baxis": {
            "gridcolor": "white",
            "linecolor": "white",
            "ticks": ""
           },
           "bgcolor": "#E5ECF6",
           "caxis": {
            "gridcolor": "white",
            "linecolor": "white",
            "ticks": ""
           }
          },
          "title": {
           "x": 0.05
          },
          "xaxis": {
           "automargin": true,
           "gridcolor": "white",
           "linecolor": "white",
           "ticks": "",
           "title": {
            "standoff": 15
           },
           "zerolinecolor": "white",
           "zerolinewidth": 2
          },
          "yaxis": {
           "automargin": true,
           "gridcolor": "white",
           "linecolor": "white",
           "ticks": "",
           "title": {
            "standoff": 15
           },
           "zerolinecolor": "white",
           "zerolinewidth": 2
          }
         }
        },
        "title": {
         "text": "🔄 Interactive Distance Comparison: Sonar vs DVL"
        },
        "xaxis": {
         "anchor": "y",
         "domain": [
          0,
          1
         ],
         "showgrid": true,
         "title": {
          "text": "Time (seconds)"
         }
        },
        "yaxis": {
         "anchor": "x",
         "domain": [
          0,
          1
         ],
         "showgrid": true,
         "title": {
          "text": "Distance (meters)"
         }
        }
       }
      }
     },
     "metadata": {},
     "output_type": "display_data"
    }
   ],
   "source": [
    "fig, comparison_stats = iau.ComparisonEngine.compare_sonar_vs_dvl(distance_results, raw_data, sonar_coverage_m=sonar_coverage_meters, sonar_image_size=image_shape[0], use_plotly=True)\n",
    "fig.show()"
   ]
  },
  {
   "cell_type": "code",
   "execution_count": 9,
   "id": "50f97352",
   "metadata": {},
   "outputs": [
    {
     "name": "stdout",
     "output_type": "stream",
     "text": [
      "🎬 GENERATING VIDEO WITH DUAL NET DISTANCE OVERLAYS\n",
      "============================================================\n",
      "🎯 Target Bag: 2024-08-20_14-31-29\n",
      "📊 DVL Data: 559 records\n",
      "📏 Sonar Analysis: 1000 frames\n",
      "🎥 Camera: disabled\n",
      "🛠️ OPTIMIZED SONAR VIDEO\n",
      "======================================================================\n",
      "🎯 Target Bag: 2024-08-20_14-31-29\n",
      "   Cone Size: 900x700\n",
      "   Range: 0.0-5.0m | FOV: 120.0°\n",
      "   🎥 Camera: disabled\n",
      "   🕸  Net-line: enabled (dist tol=0.5s, pitch tol=2.0s)\n",
      "   📊 Sonar Analysis: enabled\n",
      "   Loading sonar data: sensor_sonoptix_echo_image__2024-08-20_14-31-29_video.csv\n",
      "   ✅ Loaded 1060 sonar frames in 42.05s\n",
      "   ✅ Loaded 559 navigation records in 0.02s\n",
      "      Available: ['NetDistance', 'NetPitch', 'timestamp']\n",
      "   Frames: 1..999 (step 1) => 999\n",
      "   Natural FPS: 15.7\n",
      "\n",
      "🎉 DONE! Wrote 999 frames to /Volumes/LaCie/SOLAQUA/exports/videos/2024-08-20_14-31-29_optimized_sync_withsonar_20240820_143131_621807+0200.mp4 @ 15.67 FPS\n",
      "Metadata saved to: /Volumes/LaCie/SOLAQUA/exports/videos/2024-08-20_14-31-29_optimized_sync_withsonar_20240820_143131_621807+0200.mp4.meta.json\n",
      "\n",
      "✅ Video generated successfully!\n",
      "📁 Output: None\n"
     ]
    }
   ],
   "source": [
    "# 🎥 Generate Video with Both DVL and Sonar Analysis Overlays\n",
    "# ========================================================\n",
    "import utils.sonar_and_foto_generation as sg\n",
    "\n",
    "# Set up paths\n",
    "VIDEO_SEQ_DIR = None  # Set to path if you want camera footage included\n",
    "\n",
    "print(\"🎬 GENERATING VIDEO WITH DUAL NET DISTANCE OVERLAYS\")\n",
    "print(\"=\" * 60)\n",
    "print(f\"🎯 Target Bag: {TARGET_BAG}\")\n",
    "print(f\"📊 DVL Data: {len(raw_data.get('navigation', []))} records\")\n",
    "print(f\"📏 Sonar Analysis: {len(distance_results)} frames\")\n",
    "print(f\"🎥 Camera: {'enabled' if VIDEO_SEQ_DIR else 'disabled'}\")\n",
    "\n",
    "# Generate the video with both overlays\n",
    "try:\n",
    "    video_path = sg.export_optimized_sonar_video(\n",
    "        TARGET_BAG=TARGET_BAG,\n",
    "        EXPORTS_FOLDER=EXPORTS_FOLDER,\n",
    "        START_IDX=1,\n",
    "        END_IDX=1000,  # Adjust as needed\n",
    "        STRIDE=1,\n",
    "        VIDEO_SEQ_DIR=VIDEO_SEQ_DIR,\n",
    "        INCLUDE_NET=True,  # Enable DVL net distance overlay\n",
    "        SONAR_DISTANCE_RESULTS=distance_results,  # Enable sonar analysis overlay\n",
    "        NET_DISTANCE_TOLERANCE=0.5,\n",
    "        NET_PITCH_TOLERANCE=2.0,  # Increased from 0.3 to 2.0 seconds for better pitch sync\n",
    "    )\n",
    "    print(f\"\\n✅ Video generated successfully!\")\n",
    "    print(f\"📁 Output: {video_path}\")\n",
    "except Exception as e:\n",
    "    print(f\"❌ Error generating video: {e}\")"
   ]
  },
  {
   "cell_type": "code",
   "execution_count": null,
   "id": "94f1216f",
   "metadata": {},
   "outputs": [],
   "source": []
  }
 ],
 "metadata": {
  "kernelspec": {
   "display_name": "venv",
   "language": "python",
   "name": "python3"
  },
  "language_info": {
   "codemirror_mode": {
    "name": "ipython",
    "version": 3
   },
   "file_extension": ".py",
   "mimetype": "text/x-python",
   "name": "python",
   "nbconvert_exporter": "python",
   "pygments_lexer": "ipython3",
   "version": "3.13.5"
  }
 },
 "nbformat": 4,
 "nbformat_minor": 5
}
