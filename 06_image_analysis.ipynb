{
 "cells": [
  {
   "cell_type": "code",
   "execution_count": 4,
   "id": "145fb703",
   "metadata": {},
   "outputs": [
    {
     "name": "stdout",
     "output_type": "stream",
     "text": [
      "Using DATA_DIR = /Volumes/LaCie/SOLAQUA/raw_data\n",
      "Selected NPZ file: 2024-08-20_14-31-29_data_cones.npz (index=8)\n"
     ]
    }
   ],
   "source": [
    "# Centralized sonar defaults (inserted by sweep)\n",
    "from utils.sonar_config import SONAR_VIS_DEFAULTS\n",
    "from pathlib import Path\n",
    "import utils.sonar_image_analysis as iau\n",
    "from utils.sonar_config import IMAGE_PROCESSING_CONFIG\n",
    "sonar_config = SONAR_VIS_DEFAULTS.copy()\n",
    "# Backwards-compatible variable names used in older notebooks\n",
    "RANGE_MIN_M = sonar_config['range_min_m']\n",
    "RANGE_MAX_M = sonar_config['range_max_m']\n",
    "DISPLAY_RANGE_MAX_M = sonar_config['display_range_max_m']\n",
    "\n",
    "# Prefer selecting by bag ID (part of the NPZ filename) instead of a numeric index.\n",
    "# Set TARGET_BAG to a substring that appears in the NPZ filename (e.g. '2024-08-22_14-29-05')\n",
    "# '2024-08-22_14-47-39'\n",
    "# '2024-08-22_14-29-05'\n",
    "# '2024-08-20_14-31-29' HARD\n",
    "TARGET_BAG = '2024-08-20_14-31-29'  # change this to your desired bag ID\n",
    "from utils.sonar_config import EXPORTS_DIR_DEFAULT, EXPORTS_SUBDIRS\n",
    "EXPORTS_FOLDER = Path(EXPORTS_DIR_DEFAULT)\n",
    "\n",
    "# If you keep your raw .bag files or raw data on an external drive, point DATA_DIR there.\n",
    "# Example (your external disk): /Volumes/LaCie/SOLAQUA/raw_data\n",
    "DATA_DIR = Path(\"/Volumes/LaCie/SOLAQUA/raw_data\")\n",
    "print(f\"Using DATA_DIR = {DATA_DIR}\")\n",
    "\n",
    "# Find NPZ files and pick the one matching TARGET_BAG\n",
    "files = iau.get_available_npz_files()\n",
    "if not files:\n",
    "    raise FileNotFoundError(f\"No NPZ files found in configured exports outputs (looked under {EXPORTS_FOLDER / EXPORTS_SUBDIRS.get('outputs','outputs')})\")\n",
    "matches = [p for p in files if TARGET_BAG in p.name]\n",
    "if not matches:\n",
    "    # Help the user by listing available NPZ files\n",
    "    print(f'No NPZ file matched TARGET_BAG={TARGET_BAG!r}')\n",
    "    print('Available NPZ files:')\n",
    "    for i,p in enumerate(files):\n",
    "        print(f'  {i}: {p.name}')\n",
    "    raise ValueError(f'No NPZ file contains \"{TARGET_BAG}\" in its name')\n",
    "\n",
    "# If multiple matches, choose the most recently modified one\n",
    "selected = max(matches, key=lambda p: p.stat().st_mtime)\n",
    "NPZ_FILE_INDEX = files.index(selected)\n",
    "print(f'Selected NPZ file: {selected.name} (index={NPZ_FILE_INDEX})')"
   ]
  },
  {
   "cell_type": "markdown",
   "id": "3deec45d",
   "metadata": {},
   "source": [
    "# 🔍 Net Detection Pipeline Visualization\n",
    "\n",
    "This section creates individual figures to visualize each step in the net detection pipeline. Each step shows the transformation of the sonar image as it progresses through the processing stages.\n",
    "\n",
    "## Pipeline Overview:\n",
    "1. **Original Frame** - Raw sonar data (uint8 grayscale)\n",
    "2. **Momentum Enhancement** - Directional momentum merge for sharper objects  \n",
    "3. **Edge Detection** - Canny edge detection on enhanced image\n",
    "4. **Edge Processing** - Morphological operations (close + dilate)\n",
    "5. **Contour Detection** - Find contours from processed edges\n",
    "6. **Contour Selection** - Select best contour based on area, elongation, and tracking\n",
    "7. **Final Result** - Distance measurement and AOI tracking"
   ]
  },
  {
   "cell_type": "markdown",
   "id": "9220eb1d",
   "metadata": {},
   "source": [
    "# Simple Image Analysis with CV2\n",
    "\n",
    "This notebook demonstrates:\n",
    "1. **Pick a frame** from NPZ files and save it locally\n",
    "2. **Use standard cv2 functions** directly for image processing\n",
    "3. **Experiment** with different OpenCV operations"
   ]
  },
  {
   "cell_type": "markdown",
   "id": "0c65358c",
   "metadata": {},
   "source": [
    "## Distance Analysis Over Time\n",
    "\n",
    "Now let's perform a comprehensive analysis of the red line distance over time. The red line represents the major axis of the detected elongated contour (likely a fishing net), and we'll track how this distance changes throughout the video sequence."
   ]
  },
  {
   "cell_type": "code",
   "execution_count": 5,
   "id": "b9c5da85",
   "metadata": {},
   "outputs": [
    {
     "name": "stdout",
     "output_type": "stream",
     "text": [
      "=== ENHANCED ELLIPTICAL AOI VIDEO CREATION ===\n",
      "Creating video with elliptical AOI tracking...\n",
      "Frames: 1500, step: 1\n",
      "✅ Processing 1059 frames with elliptical AOI...\n",
      "✅ Processing 1059 frames with elliptical AOI...\n",
      "Processed 110/1059 frames | Ellipse tracking: 0\n",
      "Processed 110/1059 frames | Ellipse tracking: 0\n",
      "Processed 120/1059 frames | Ellipse tracking: 0\n",
      "Processed 120/1059 frames | Ellipse tracking: 0\n",
      "Processed 130/1059 frames | Ellipse tracking: 0\n",
      "Processed 130/1059 frames | Ellipse tracking: 0\n",
      "Processed 150/1059 frames | Ellipse tracking: 0\n",
      "Processed 150/1059 frames | Ellipse tracking: 0\n",
      "Processed 190/1059 frames | Ellipse tracking: 0\n",
      "Processed 190/1059 frames | Ellipse tracking: 0\n",
      "Processed 380/1059 frames | Ellipse tracking: 0\n",
      "Processed 380/1059 frames | Ellipse tracking: 0\n",
      "Processed 390/1059 frames | Ellipse tracking: 0\n",
      "Processed 390/1059 frames | Ellipse tracking: 0\n",
      "Processed 420/1059 frames | Ellipse tracking: 0\n",
      "Processed 420/1059 frames | Ellipse tracking: 0\n",
      "Processed 440/1059 frames | Ellipse tracking: 0\n",
      "Processed 440/1059 frames | Ellipse tracking: 0\n",
      "Processed 480/1059 frames | Ellipse tracking: 0\n",
      "Processed 480/1059 frames | Ellipse tracking: 0\n",
      "Processed 510/1059 frames | Ellipse tracking: 0\n",
      "Processed 510/1059 frames | Ellipse tracking: 0\n",
      "Processed 520/1059 frames | Ellipse tracking: 0\n",
      "Processed 520/1059 frames | Ellipse tracking: 0\n",
      "Processed 550/1059 frames | Ellipse tracking: 0\n",
      "Processed 550/1059 frames | Ellipse tracking: 0\n",
      "\n",
      "=== ENHANCED VIDEO CREATION COMPLETE ===\n",
      "Video saved to: /Volumes/LaCie/SOLAQUA/exports/videos/elliptical_aoi_tracking.mp4\n",
      "Video specs: 900x700, 15 fps, 1059 frames\n",
      "🟢 ELLIPTICAL AOI TRACKING STATS:\n",
      "  - Total detected frames: 0\n",
      "  - Ellipse-guided frames: 0\n",
      "  - Ellipse effectiveness: 0.0%\n",
      "  - Lost/searching frames: 1059\n",
      "✅ Video created with ELLIPTICAL AOI visualization!\n",
      "🎯 The AOI should now appear as a yellow ELLIPSE that smoothly tracks the net\n",
      "📁 Video saved to: /Volumes/LaCie/SOLAQUA/exports/videos/elliptical_aoi_tracking.mp4\n",
      "\n",
      "=== ENHANCED VIDEO CREATION COMPLETE ===\n",
      "Video saved to: /Volumes/LaCie/SOLAQUA/exports/videos/elliptical_aoi_tracking.mp4\n",
      "Video specs: 900x700, 15 fps, 1059 frames\n",
      "🟢 ELLIPTICAL AOI TRACKING STATS:\n",
      "  - Total detected frames: 0\n",
      "  - Ellipse-guided frames: 0\n",
      "  - Ellipse effectiveness: 0.0%\n",
      "  - Lost/searching frames: 1059\n",
      "✅ Video created with ELLIPTICAL AOI visualization!\n",
      "🎯 The AOI should now appear as a yellow ELLIPSE that smoothly tracks the net\n",
      "📁 Video saved to: /Volumes/LaCie/SOLAQUA/exports/videos/elliptical_aoi_tracking.mp4\n"
     ]
    }
   ],
   "source": [
    "# Create video using the CORE simplified processor with ELLIPTICAL AOI\n",
    "# This will now show the yellow ELLIPTICAL AOI instead of rectangular!\n",
    "\n",
    "# Create the unified processor\n",
    "processor = iau.SonarDataProcessor()\n",
    "\n",
    "# Use the enhanced video creation with CORE processor\n",
    "video_path = iau.create_enhanced_contour_detection_video_with_processor(\n",
    "    npz_file_index=NPZ_FILE_INDEX,          # Which NPZ file to use\n",
    "    frame_start=1,           # Starting frame\n",
    "    frame_count=1500,         # Start with 1500 frames for testing\n",
    "    frame_step=1,            # Step between frames\n",
    "    output_path=Path(EXPORTS_DIR_DEFAULT) / EXPORTS_SUBDIRS.get('videos','videos') / 'elliptical_aoi_tracking.mp4',\n",
    "    processor=processor      # Use our CORE processor with ellipse tracking\n",
    ")\n",
    "\n",
    "print(f\"✅ Video created with ELLIPTICAL AOI visualization!\")\n",
    "print(f\"🎯 The AOI should now appear as a yellow ELLIPSE that smoothly tracks the net\")\n",
    "print(f\"📁 Video saved to: {video_path}\")"
   ]
  },
  {
   "cell_type": "code",
   "execution_count": 6,
   "id": "bfff5f42",
   "metadata": {},
   "outputs": [
    {
     "name": "stdout",
     "output_type": "stream",
     "text": [
      "=== DISTANCE ANALYSIS FROM NPZ ===\n",
      "Analyzing: /Volumes/LaCie/SOLAQUA/exports/outputs/2024-08-20_14-31-29_data_cones.npz\n",
      "Processing 1059 frames from 1 (step=1)\n",
      "Processing 1059 frames from 1 (step=1)\n",
      "  Processed 50/1059 frames (Success rate: 100.0%)\n",
      "  Processed 50/1059 frames (Success rate: 100.0%)\n",
      "  Processed 100/1059 frames (Success rate: 100.0%)\n",
      "  Processed 100/1059 frames (Success rate: 100.0%)\n",
      "  Processed 150/1059 frames (Success rate: 100.0%)\n",
      "  Processed 150/1059 frames (Success rate: 100.0%)\n",
      "  Processed 200/1059 frames (Success rate: 100.0%)\n",
      "  Processed 200/1059 frames (Success rate: 100.0%)\n",
      "  Processed 250/1059 frames (Success rate: 100.0%)\n",
      "  Processed 250/1059 frames (Success rate: 100.0%)\n",
      "  Processed 300/1059 frames (Success rate: 100.0%)\n",
      "  Processed 300/1059 frames (Success rate: 100.0%)\n",
      "  Processed 350/1059 frames (Success rate: 100.0%)\n",
      "  Processed 350/1059 frames (Success rate: 100.0%)\n",
      "  Processed 400/1059 frames (Success rate: 100.0%)\n",
      "  Processed 400/1059 frames (Success rate: 100.0%)\n",
      "  Processed 450/1059 frames (Success rate: 100.0%)\n",
      "  Processed 450/1059 frames (Success rate: 100.0%)\n",
      "  Processed 500/1059 frames (Success rate: 100.0%)\n",
      "  Processed 500/1059 frames (Success rate: 100.0%)\n",
      "  Processed 550/1059 frames (Success rate: 100.0%)\n",
      "  Processed 550/1059 frames (Success rate: 100.0%)\n",
      "  Processed 600/1059 frames (Success rate: 100.0%)\n",
      "  Processed 600/1059 frames (Success rate: 100.0%)\n",
      "  Processed 650/1059 frames (Success rate: 100.0%)\n",
      "  Processed 650/1059 frames (Success rate: 100.0%)\n",
      "  Processed 700/1059 frames (Success rate: 100.0%)\n",
      "  Processed 700/1059 frames (Success rate: 100.0%)\n",
      "  Processed 750/1059 frames (Success rate: 100.0%)\n",
      "  Processed 750/1059 frames (Success rate: 100.0%)\n",
      "  Processed 800/1059 frames (Success rate: 100.0%)\n",
      "  Processed 800/1059 frames (Success rate: 100.0%)\n",
      "  Processed 850/1059 frames (Success rate: 100.0%)\n",
      "  Processed 850/1059 frames (Success rate: 100.0%)\n",
      "  Processed 900/1059 frames (Success rate: 100.0%)\n",
      "  Processed 900/1059 frames (Success rate: 100.0%)\n",
      "  Processed 950/1059 frames (Success rate: 98.2%)\n",
      "  Processed 950/1059 frames (Success rate: 98.2%)\n",
      "  Processed 1000/1059 frames (Success rate: 94.7%)\n",
      "  Processed 1000/1059 frames (Success rate: 94.7%)\n",
      "  Processed 1050/1059 frames (Success rate: 91.1%)\n",
      "  Processed 1050/1059 frames (Success rate: 91.1%)\n",
      "\n",
      "=== ANALYSIS COMPLETE ===\n",
      "Total frames processed: 1059\n",
      "Successful detections: 957 (90.4%)\n",
      "Distance statistics (meters):\n",
      "  - Mean: 1.981\n",
      "  - Std:  0.608\n",
      "  - Min:  0.086\n",
      "  - Max:  9.515\n",
      "  - Range: 9.430\n",
      "\n",
      "=== ANALYSIS COMPLETE ===\n",
      "Total frames processed: 1059\n",
      "Successful detections: 957 (90.4%)\n",
      "Distance statistics (meters):\n",
      "  - Mean: 1.981\n",
      "  - Std:  0.608\n",
      "  - Min:  0.086\n",
      "  - Max:  9.515\n",
      "  - Range: 9.430\n"
     ]
    }
   ],
   "source": [
    "# Use the new Distance Analysis Engine with elliptical AOI\n",
    "engine = iau.DistanceAnalysisEngine()\n",
    "distance_results = engine.analyze_npz_sequence(\n",
    "    npz_file_index=NPZ_FILE_INDEX,    \n",
    "    frame_start=1,        # Start from frame 1\n",
    "    frame_count=1500,      # Analyze all frames from the video\n",
    "    frame_step=1          # Every frame\n",
    ")"
   ]
  },
  {
   "cell_type": "markdown",
   "id": "fede9d64",
   "metadata": {},
   "source": [
    "## Convert to Real-World Distances\n",
    "\n",
    "Now let's convert the pixel distances to real-world distances using the fact that the entire sonar image represents a 10x10 meter area."
   ]
  },
  {
   "cell_type": "code",
   "execution_count": 7,
   "id": "3ba2f3a6",
   "metadata": {},
   "outputs": [
    {
     "name": "stdout",
     "output_type": "stream",
     "text": [
      "Detected NPZ extent: x=[-8.660,8.660] m, y=[0.000,10.000] m\n",
      "Image shape from NPZ: H=700, W=900\n",
      "meters/pixel: x=0.019245, y=0.014286, avg=0.016765\n",
      "Using pixels_to_meters_avg = 0.016765 m/px\n"
     ]
    }
   ],
   "source": [
    "# Auto-detect pixel->meter mapping from the selected NPZ (if available)\n",
    "try:\n",
    "    cones, ts, extent, meta = iau.load_cone_run_npz(selected)\n",
    "    T, H, W = cones.shape\n",
    "    x_min, x_max, y_min, y_max = extent\n",
    "    width_m = float(x_max - x_min)\n",
    "    height_m = float(y_max - y_min)\n",
    "    px2m_x = width_m / float(W)\n",
    "    px2m_y = height_m / float(H)\n",
    "    pixels_to_meters_avg = 0.5 * (px2m_x + px2m_y)\n",
    "    image_shape = (H, W)\n",
    "    sonar_coverage_meters = max(width_m, height_m)\n",
    "    print(f\"Detected NPZ extent: x=[{x_min:.3f},{x_max:.3f}] m, y=[{y_min:.3f},{y_max:.3f}] m\")\n",
    "    print(f\"Image shape from NPZ: H={H}, W={W}\")\n",
    "    print(f\"meters/pixel: x={px2m_x:.6f}, y={px2m_y:.6f}, avg={pixels_to_meters_avg:.6f}\")\n",
    "except Exception as e:\n",
    "    print(\"Could not read NPZ metadata:\", e)\n",
    "    print(\"Falling back to defaults from sonar_config.\")\n",
    "    from utils.sonar_config import CONE_H_DEFAULT, CONE_W_DEFAULT, DISPLAY_RANGE_MAX_M_DEFAULT\n",
    "    image_shape = (CONE_H_DEFAULT, CONE_W_DEFAULT)\n",
    "    sonar_coverage_meters = DISPLAY_RANGE_MAX_M_DEFAULT * 2  # approximate\n",
    "    pixels_to_meters_avg = sonar_coverage_meters / max(image_shape)\n",
    "    \n",
    "# Use the computed pixels_to_meters_avg in downstream analysis\n",
    "print(f\"Using pixels_to_meters_avg = {pixels_to_meters_avg:.6f} m/px\")"
   ]
  },
  {
   "cell_type": "code",
   "execution_count": 8,
   "id": "15d6238c",
   "metadata": {},
   "outputs": [
    {
     "data": {
      "application/vnd.plotly.v1+json": {
       "config": {
        "plotlyServerURL": "https://plot.ly"
       },
       "data": [
        {
         "line": {
          "color": "blue"
         },
         "mode": "lines+markers",
         "name": "Distance",
         "type": "scatter",
         "x": {
          "bdata": "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",
          "dtype": "i2"
         },
         "xaxis": "x",
         "y": {
          "bdata": "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",
          "dtype": "f8"
         },
         "yaxis": "y"
        },
        {
         "line": {
          "color": "green"
         },
         "mode": "lines+markers",
         "name": "Distance over Time",
         "type": "scatter",
         "x": [
          "2024-08-20T12:31:31.621807575",
          "2024-08-20T12:31:31.681648731",
          "2024-08-20T12:31:31.742511034",
          "2024-08-20T12:31:31.818883181",
          "2024-08-20T12:31:31.874155045",
          "2024-08-20T12:31:31.937494755",
          "2024-08-20T12:31:31.999329090",
          "2024-08-20T12:31:32.063158035",
          "2024-08-20T12:31:32.130053520",
          "2024-08-20T12:31:32.191398144",
          "2024-08-20T12:31:32.254230738",
          "2024-08-20T12:31:32.318058729",
          "2024-08-20T12:31:32.395849943",
          "2024-08-20T12:31:32.445717096",
          "2024-08-20T12:31:32.511543512",
          "2024-08-20T12:31:32.576503515",
          "2024-08-20T12:31:32.637341022",
          "2024-08-20T12:31:32.702203035",
          "2024-08-20T12:31:32.768987656",
          "2024-08-20T12:31:32.829861403",
          "2024-08-20T12:31:32.894687653",
          "2024-08-20T12:31:32.962601185",
          "2024-08-20T12:31:33.025435448",
          "2024-08-20T12:31:33.088264227",
          "2024-08-20T12:31:33.151147127",
          "2024-08-20T12:31:33.218916655",
          "2024-08-20T12:31:33.280750036",
          "2024-08-20T12:31:33.342585087",
          "2024-08-20T12:31:33.407411814",
          "2024-08-20T12:31:33.484754801",
          "2024-08-20T12:31:33.533624887",
          "2024-08-20T12:31:33.610753059",
          "2024-08-20T12:31:33.671589851",
          "2024-08-20T12:31:33.730820179",
          "2024-08-20T12:31:33.790660143",
          "2024-08-20T12:31:33.854523897",
          "2024-08-20T12:31:33.919317245",
          "2024-08-20T12:31:33.984568357",
          "2024-08-20T12:31:34.048381805",
          "2024-08-20T12:31:34.117199183",
          "2024-08-20T12:31:34.183008671",
          "2024-08-20T12:31:34.237861395",
          "2024-08-20T12:31:34.303685427",
          "2024-08-20T12:31:34.367515802",
          "2024-08-20T12:31:34.431509018",
          "2024-08-20T12:31:34.508416414",
          "2024-08-20T12:31:34.565290689",
          "2024-08-20T12:31:34.624107361",
          "2024-08-20T12:31:34.686995983",
          "2024-08-20T12:31:34.749772310",
          "2024-08-20T12:31:34.822613001",
          "2024-08-20T12:31:34.882473946",
          "2024-08-20T12:31:34.943256378",
          "2024-08-20T12:31:35.006085634",
          "2024-08-20T12:31:35.075951576",
          "2024-08-20T12:31:35.139728308",
          "2024-08-20T12:31:35.197573662",
          "2024-08-20T12:31:35.264425278",
          "2024-08-20T12:31:35.328751326",
          "2024-08-20T12:31:35.404547215",
          "2024-08-20T12:31:35.454563379",
          "2024-08-20T12:31:35.522747992",
          "2024-08-20T12:31:35.597547531",
          "2024-08-20T12:31:35.666362762",
          "2024-08-20T12:31:35.716230869",
          "2024-08-20T12:31:35.779061317",
          "2024-08-20T12:31:35.839905977",
          "2024-08-20T12:31:35.902730942",
          "2024-08-20T12:31:35.968554974",
          "2024-08-20T12:31:36.034378290",
          "2024-08-20T12:31:36.146079779",
          "2024-08-20T12:31:36.202927351",
          "2024-08-20T12:31:36.253791808",
          "2024-08-20T12:31:36.310640812",
          "2024-08-20T12:31:36.362536430",
          "2024-08-20T12:31:36.415360451",
          "2024-08-20T12:31:36.612915516",
          "2024-08-20T12:31:36.629870653",
          "2024-08-20T12:31:36.686092138",
          "2024-08-20T12:31:36.731478691",
          "2024-08-20T12:31:36.792353392",
          "2024-08-20T12:31:36.835259199",
          "2024-08-20T12:31:36.882076502",
          "2024-08-20T12:31:36.930180311",
          "2024-08-20T12:31:36.995010138",
          "2024-08-20T12:31:37.057901382",
          "2024-08-20T12:31:37.120796442",
          "2024-08-20T12:31:37.190546751",
          "2024-08-20T12:31:37.245904446",
          "2024-08-20T12:31:37.310695887",
          "2024-08-20T12:31:37.375525713",
          "2024-08-20T12:31:37.443047285",
          "2024-08-20T12:31:37.501889229",
          "2024-08-20T12:31:37.570401907",
          "2024-08-20T12:31:37.634161472",
          "2024-08-20T12:31:37.698097229",
          "2024-08-20T12:31:37.760633230",
          "2024-08-20T12:31:37.822077274",
          "2024-08-20T12:31:37.890928745",
          "2024-08-20T12:31:37.950802088",
          "2024-08-20T12:31:38.016170025",
          "2024-08-20T12:31:38.079568386",
          "2024-08-20T12:31:38.144387484",
          "2024-08-20T12:31:38.206281900",
          "2024-08-20T12:31:38.272046804",
          "2024-08-20T12:31:38.335875273",
          "2024-08-20T12:31:38.399709225",
          "2024-08-20T12:31:38.464562416",
          "2024-08-20T12:31:38.526404619",
          "2024-08-20T12:31:38.595264912",
          "2024-08-20T12:31:38.654108047",
          "2024-08-20T12:31:38.719931841",
          "2024-08-20T12:31:38.783764362",
          "2024-08-20T12:31:38.857566357",
          "2024-08-20T12:31:38.911419630",
          "2024-08-20T12:31:38.976246357",
          "2024-08-20T12:31:39.042104006",
          "2024-08-20T12:31:39.101980925",
          "2024-08-20T12:31:39.166769743",
          "2024-08-20T12:31:39.232593060",
          "2024-08-20T12:31:39.297420025",
          "2024-08-20T12:31:39.361249447",
          "2024-08-20T12:31:39.423182011",
          "2024-08-20T12:31:39.490002155",
          "2024-08-20T12:31:39.549880981",
          "2024-08-20T12:31:39.614220381",
          "2024-08-20T12:31:39.680010796",
          "2024-08-20T12:31:39.748333454",
          "2024-08-20T12:31:39.812162876",
          "2024-08-20T12:31:39.877536774",
          "2024-08-20T12:31:40.073243380",
          "2024-08-20T12:31:40.086207151",
          "2024-08-20T12:31:40.148041010",
          "2024-08-20T12:31:40.191923618",
          "2024-08-20T12:31:40.237802505",
          "2024-08-20T12:31:40.300632715",
          "2024-08-20T12:31:40.345512867",
          "2024-08-20T12:31:40.391391993",
          "2024-08-20T12:31:40.451229811",
          "2024-08-20T12:31:40.517088412",
          "2024-08-20T12:31:40.581882000",
          "2024-08-20T12:31:40.639754295",
          "2024-08-20T12:31:40.703556538",
          "2024-08-20T12:31:40.769875050",
          "2024-08-20T12:31:40.833705902",
          "2024-08-20T12:31:40.910538912",
          "2024-08-20T12:31:40.974536657",
          "2024-08-20T12:31:41.029807091",
          "2024-08-20T12:31:41.085696697",
          "2024-08-20T12:31:41.153585434",
          "2024-08-20T12:31:41.224370241",
          "2024-08-20T12:31:41.289196968",
          "2024-08-20T12:31:41.349036694",
          "2024-08-20T12:31:41.405884266",
          "2024-08-20T12:31:41.472689152",
          "2024-08-20T12:31:41.540507078",
          "2024-08-20T12:31:41.601395369",
          "2024-08-20T12:31:41.668616772",
          "2024-08-20T12:31:41.727491379",
          "2024-08-20T12:31:41.791326761",
          "2024-08-20T12:31:41.859107018",
          "2024-08-20T12:31:41.926977396",
          "2024-08-20T12:31:41.982784510",
          "2024-08-20T12:31:42.058573484",
          "2024-08-20T12:31:42.111595631",
          "2024-08-20T12:31:42.179451942",
          "2024-08-20T12:31:42.239253283",
          "2024-08-20T12:31:42.305081129",
          "2024-08-20T12:31:42.369940758",
          "2024-08-20T12:31:42.492574692",
          "2024-08-20T12:31:42.547464371",
          "2024-08-20T12:31:42.607268095",
          "2024-08-20T12:31:42.656136990",
          "2024-08-20T12:31:42.714980364",
          "2024-08-20T12:31:42.763849974",
          "2024-08-20T12:31:42.821695328",
          "2024-08-20T12:31:42.879108429",
          "2024-08-20T12:31:42.943912029",
          "2024-08-20T12:31:43.009702921",
          "2024-08-20T12:31:43.071511984",
          "2024-08-20T12:31:43.133901834",
          "2024-08-20T12:31:43.203717709",
          "2024-08-20T12:31:43.261597157",
          "2024-08-20T12:31:43.326387167",
          "2024-08-20T12:31:43.394617081",
          "2024-08-20T12:31:43.464424372",
          "2024-08-20T12:31:43.518105029",
          "2024-08-20T12:31:43.583888292",
          "2024-08-20T12:31:43.646115065",
          "2024-08-20T12:31:43.712907553",
          "2024-08-20T12:31:43.773782730",
          "2024-08-20T12:31:43.840597391",
          "2024-08-20T12:31:43.906425953",
          "2024-08-20T12:31:43.967237234",
          "2024-08-20T12:31:44.030067205",
          "2024-08-20T12:31:44.103466988",
          "2024-08-20T12:31:44.162308455",
          "2024-08-20T12:31:44.223145008",
          "2024-08-20T12:31:44.291014671",
          "2024-08-20T12:31:44.349857092",
          "2024-08-20T12:31:44.415681124",
          "2024-08-20T12:31:44.479695797",
          "2024-08-20T12:31:44.542475224",
          "2024-08-20T12:31:44.613296270",
          "2024-08-20T12:31:44.672163725",
          "2024-08-20T12:31:44.734963417",
          "2024-08-20T12:31:44.800783157",
          "2024-08-20T12:31:44.875235319",
          "2024-08-20T12:31:44.934039116",
          "2024-08-20T12:31:44.991886139",
          "2024-08-20T12:31:45.054715633",
          "2024-08-20T12:31:45.123562574",
          "2024-08-20T12:31:45.184406042",
          "2024-08-20T12:31:45.253189325",
          "2024-08-20T12:31:45.314022064",
          "2024-08-20T12:31:45.391814232",
          "2024-08-20T12:31:45.503517866",
          "2024-08-20T12:31:45.563381672",
          "2024-08-20T12:31:45.625192165",
          "2024-08-20T12:31:45.689467907",
          "2024-08-20T12:31:45.743281364",
          "2024-08-20T12:31:45.799130917",
          "2024-08-20T12:31:45.849994183",
          "2024-08-20T12:31:45.911336899",
          "2024-08-20T12:31:45.973172188",
          "2024-08-20T12:31:46.031045198",
          "2024-08-20T12:31:46.077892065",
          "2024-08-20T12:31:46.141758204",
          "2024-08-20T12:31:46.209540129",
          "2024-08-20T12:31:46.271375179",
          "2024-08-20T12:31:46.336202383",
          "2024-08-20T12:31:46.402061224",
          "2024-08-20T12:31:46.463126421",
          "2024-08-20T12:31:46.525985479",
          "2024-08-20T12:31:46.593837023",
          "2024-08-20T12:31:46.663606167",
          "2024-08-20T12:31:46.721510649",
          "2024-08-20T12:31:46.782323599",
          "2024-08-20T12:31:46.850108624",
          "2024-08-20T12:31:46.921957970",
          "2024-08-20T12:31:46.977843285",
          "2024-08-20T12:31:47.038705826",
          "2024-08-20T12:31:47.102475882",
          "2024-08-20T12:31:47.169295788",
          "2024-08-20T12:31:47.230172157",
          "2024-08-20T12:31:47.304938078",
          "2024-08-20T12:31:47.368804932",
          "2024-08-20T12:31:47.427606583",
          "2024-08-20T12:31:47.491471767",
          "2024-08-20T12:31:47.555302143",
          "2024-08-20T12:31:47.623177528",
          "2024-08-20T12:31:47.811676741",
          "2024-08-20T12:31:47.827633619",
          "2024-08-20T12:31:47.877500534",
          "2024-08-20T12:31:47.938337326",
          "2024-08-20T12:31:47.984474659",
          "2024-08-20T12:31:48.027358532",
          "2024-08-20T12:31:48.088195324",
          "2024-08-20T12:31:48.136068344",
          "2024-08-20T12:31:48.191809654",
          "2024-08-20T12:31:48.256190538",
          "2024-08-20T12:31:48.321072102",
          "2024-08-20T12:31:48.382852077",
          "2024-08-20T12:31:48.445721865",
          "2024-08-20T12:31:48.511081219",
          "2024-08-20T12:31:48.576905251",
          "2024-08-20T12:31:48.638738394",
          "2024-08-20T12:31:48.701770544",
          "2024-08-20T12:31:48.774565697",
          "2024-08-20T12:31:48.831388712",
          "2024-08-20T12:31:48.893730640",
          "2024-08-20T12:31:48.961057901",
          "2024-08-20T12:31:49.028914213",
          "2024-08-20T12:31:49.090711117",
          "2024-08-20T12:31:49.154539824",
          "2024-08-20T12:31:49.213383436",
          "2024-08-20T12:31:49.279206991",
          "2024-08-20T12:31:49.345029116",
          "2024-08-20T12:31:49.405867100",
          "2024-08-20T12:31:49.473721266",
          "2024-08-20T12:31:49.545494080",
          "2024-08-20T12:31:49.602399588",
          "2024-08-20T12:31:49.663179159",
          "2024-08-20T12:31:49.729102612",
          "2024-08-20T12:31:49.791011810",
          "2024-08-20T12:31:49.853843212",
          "2024-08-20T12:31:49.919657946",
          "2024-08-20T12:31:49.983487844",
          "2024-08-20T12:31:50.046319723",
          "2024-08-20T12:31:50.110692024",
          "2024-08-20T12:31:50.174520016",
          "2024-08-20T12:31:50.238417864",
          "2024-08-20T12:31:50.303511620",
          "2024-08-20T12:31:50.366343737",
          "2024-08-20T12:31:50.432175159",
          "2024-08-20T12:31:50.505977631",
          "2024-08-20T12:31:50.560830355",
          "2024-08-20T12:31:50.670942068",
          "2024-08-20T12:31:50.726747036",
          "2024-08-20T12:31:50.789601564",
          "2024-08-20T12:31:50.825510979",
          "2024-08-20T12:31:50.890295744",
          "2024-08-20T12:31:50.943155289",
          "2024-08-20T12:31:51.012972832",
          "2024-08-20T12:31:51.074837446",
          "2024-08-20T12:31:51.134642601",
          "2024-08-20T12:31:51.200467348",
          "2024-08-20T12:31:51.273272991",
          "2024-08-20T12:31:51.336102962",
          "2024-08-20T12:31:51.389957905",
          "2024-08-20T12:31:51.454820395",
          "2024-08-20T12:31:51.517674922",
          "2024-08-20T12:31:51.586463928",
          "2024-08-20T12:31:51.646686554",
          "2024-08-20T12:31:51.712054014",
          "2024-08-20T12:31:51.782867193",
          "2024-08-20T12:31:51.838715792",
          "2024-08-20T12:31:51.903051376",
          "2024-08-20T12:31:51.967877626",
          "2024-08-20T12:31:52.030061007",
          "2024-08-20T12:31:52.102158070",
          "2024-08-20T12:31:52.168978691",
          "2024-08-20T12:31:52.222800970",
          "2024-08-20T12:31:52.292626858",
          "2024-08-20T12:31:52.351458549",
          "2024-08-20T12:31:52.418277025",
          "2024-08-20T12:31:52.481150866",
          "2024-08-20T12:31:52.541553497",
          "2024-08-20T12:31:52.606345415",
          "2024-08-20T12:31:52.673228025",
          "2024-08-20T12:31:52.735998154",
          "2024-08-20T12:31:52.798882484",
          "2024-08-20T12:31:52.862711668",
          "2024-08-20T12:31:52.927570105",
          "2024-08-20T12:31:52.990370035",
          "2024-08-20T12:31:53.070696592",
          "2024-08-20T12:31:53.131572007",
          "2024-08-20T12:31:53.195363998",
          "2024-08-20T12:31:53.245267153",
          "2024-08-20T12:31:53.310670376",
          "2024-08-20T12:31:53.375495911",
          "2024-08-20T12:31:53.440849304",
          "2024-08-20T12:31:53.502685069",
          "2024-08-20T12:31:53.581473112",
          "2024-08-20T12:31:53.671237707",
          "2024-08-20T12:31:53.730012655",
          "2024-08-20T12:31:53.778313637",
          "2024-08-20T12:31:53.833030939",
          "2024-08-20T12:31:53.893876076",
          "2024-08-20T12:31:53.949759483",
          "2024-08-20T12:31:54.014583826",
          "2024-08-20T12:31:54.080477238",
          "2024-08-20T12:31:54.146250486",
          "2024-08-20T12:31:54.208119631",
          "2024-08-20T12:31:54.272945881",
          "2024-08-20T12:31:54.337438822",
          "2024-08-20T12:31:54.401267767",
          "2024-08-20T12:31:54.464104652",
          "2024-08-20T12:31:54.525992393",
          "2024-08-20T12:31:54.604726553",
          "2024-08-20T12:31:54.660574675",
          "2024-08-20T12:31:54.717456818",
          "2024-08-20T12:31:54.788233280",
          "2024-08-20T12:31:54.846078873",
          "2024-08-20T12:31:54.909790993",
          "2024-08-20T12:31:54.976554394",
          "2024-08-20T12:31:55.039385557",
          "2024-08-20T12:31:55.105245590",
          "2024-08-20T12:31:55.171085119",
          "2024-08-20T12:31:55.230873108",
          "2024-08-20T12:31:55.299697399",
          "2024-08-20T12:31:55.362556934",
          "2024-08-20T12:31:55.429852486",
          "2024-08-20T12:31:55.490688562",
          "2024-08-20T12:31:55.549531460",
          "2024-08-20T12:31:55.615355253",
          "2024-08-20T12:31:55.682177305",
          "2024-08-20T12:31:55.744011879",
          "2024-08-20T12:31:55.807841063",
          "2024-08-20T12:31:55.870673656",
          "2024-08-20T12:31:55.949462414",
          "2024-08-20T12:31:56.003352642",
          "2024-08-20T12:31:56.067021132",
          "2024-08-20T12:31:56.125862597",
          "2024-08-20T12:31:56.193681240",
          "2024-08-20T12:31:56.253522635",
          "2024-08-20T12:31:56.318383694",
          "2024-08-20T12:31:56.386166811",
          "2024-08-20T12:31:56.448000908",
          "2024-08-20T12:31:56.512829065",
          "2024-08-20T12:31:56.583638668",
          "2024-08-20T12:31:56.640494585",
          "2024-08-20T12:31:56.703325510",
          "2024-08-20T12:31:56.767193556",
          "2024-08-20T12:31:56.835482836",
          "2024-08-20T12:31:56.902304649",
          "2024-08-20T12:31:56.962438345",
          "2024-08-20T12:31:57.025873184",
          "2024-08-20T12:31:57.087665081",
          "2024-08-20T12:31:57.154531956",
          "2024-08-20T12:31:57.214373350",
          "2024-08-20T12:31:57.293160200",
          "2024-08-20T12:31:57.345025063",
          "2024-08-20T12:31:57.412839890",
          "2024-08-20T12:31:57.473701954",
          "2024-08-20T12:31:57.534539223",
          "2024-08-20T12:31:57.604353428",
          "2024-08-20T12:31:57.663195133",
          "2024-08-20T12:31:57.726027727",
          "2024-08-20T12:31:57.791850805",
          "2024-08-20T12:31:57.855682135",
          "2024-08-20T12:31:57.919509649",
          "2024-08-20T12:31:57.984847546",
          "2024-08-20T12:31:58.048672438",
          "2024-08-20T12:31:58.114497423",
          "2024-08-20T12:31:58.232179642",
          "2024-08-20T12:31:58.303023338",
          "2024-08-20T12:31:58.362874031",
          "2024-08-20T12:31:58.422821522",
          "2024-08-20T12:31:58.476673603",
          "2024-08-20T12:31:58.501605749",
          "2024-08-20T12:31:58.569931507",
          "2024-08-20T12:31:58.628283978",
          "2024-08-20T12:31:58.687161207",
          "2024-08-20T12:31:58.754455805",
          "2024-08-20T12:31:58.874644995",
          "2024-08-20T12:31:58.942510366",
          "2024-08-20T12:31:59.005335093",
          "2024-08-20T12:31:59.067801952",
          "2024-08-20T12:31:59.130631208",
          "2024-08-20T12:31:59.181493998",
          "2024-08-20T12:31:59.239844561",
          "2024-08-20T12:31:59.299728394",
          "2024-08-20T12:31:59.346602917",
          "2024-08-20T12:31:59.392479658",
          "2024-08-20T12:31:59.455312490",
          "2024-08-20T12:31:59.519181966",
          "2024-08-20T12:31:59.584981441",
          "2024-08-20T12:31:59.647796392",
          "2024-08-20T12:31:59.710932016",
          "2024-08-20T12:31:59.783735514",
          "2024-08-20T12:31:59.839586020",
          "2024-08-20T12:31:59.903450012",
          "2024-08-20T12:31:59.966248512",
          "2024-08-20T12:32:00.031110048",
          "2024-08-20T12:32:00.101887941",
          "2024-08-20T12:32:00.159729958",
          "2024-08-20T12:32:00.222562075",
          "2024-08-20T12:32:00.287391663",
          "2024-08-20T12:32:00.352120399",
          "2024-08-20T12:32:00.413935184",
          "2024-08-20T12:32:00.478729010",
          "2024-08-20T12:32:00.542225122",
          "2024-08-20T12:32:00.610045195",
          "2024-08-20T12:32:00.671614647",
          "2024-08-20T12:32:00.735095501",
          "2024-08-20T12:32:00.799942493",
          "2024-08-20T12:32:00.863315344",
          "2024-08-20T12:32:00.928106546",
          "2024-08-20T12:32:01.008890390",
          "2024-08-20T12:32:01.070760727",
          "2024-08-20T12:32:01.117598772",
          "2024-08-20T12:32:01.181464672",
          "2024-08-20T12:32:01.245420218",
          "2024-08-20T12:32:01.314198017",
          "2024-08-20T12:32:01.377030849",
          "2024-08-20T12:32:01.439896584",
          "2024-08-20T12:32:01.512666941",
          "2024-08-20T12:32:01.589461088",
          "2024-08-20T12:32:01.634341002",
          "2024-08-20T12:32:01.695178032",
          "2024-08-20T12:32:01.761003256",
          "2024-08-20T12:32:01.821839809",
          "2024-08-20T12:32:01.885703325",
          "2024-08-20T12:32:01.950496435",
          "2024-08-20T12:32:02.016355275",
          "2024-08-20T12:32:02.079560041",
          "2024-08-20T12:32:02.147934437",
          "2024-08-20T12:32:02.205846548",
          "2024-08-20T12:32:02.270641804",
          "2024-08-20T12:32:02.344480515",
          "2024-08-20T12:32:02.461406469",
          "2024-08-20T12:32:02.517229556",
          "2024-08-20T12:32:02.564082146",
          "2024-08-20T12:32:02.629870892",
          "2024-08-20T12:32:02.699684858",
          "2024-08-20T12:32:02.746571541",
          "2024-08-20T12:32:02.795462847",
          "2024-08-20T12:32:02.853273153",
          "2024-08-20T12:32:02.914112091",
          "2024-08-20T12:32:02.973954678",
          "2024-08-20T12:32:03.051743984",
          "2024-08-20T12:32:03.102615833",
          "2024-08-20T12:32:03.168430090",
          "2024-08-20T12:32:03.248250484",
          "2024-08-20T12:32:03.296088934",
          "2024-08-20T12:32:03.361934662",
          "2024-08-20T12:32:03.423750877",
          "2024-08-20T12:32:03.487687349",
          "2024-08-20T12:32:03.550518513",
          "2024-08-20T12:32:03.618339300",
          "2024-08-20T12:32:03.692140341",
          "2024-08-20T12:32:03.742039919",
          "2024-08-20T12:32:03.805836201",
          "2024-08-20T12:32:03.872937918",
          "2024-08-20T12:32:03.934771776",
          "2024-08-20T12:32:04.138708115",
          "2024-08-20T12:32:04.162652016",
          "2024-08-20T12:32:04.215462923",
          "2024-08-20T12:32:04.261340141",
          "2024-08-20T12:32:04.305223465",
          "2024-08-20T12:32:04.367092133",
          "2024-08-20T12:32:04.410940409",
          "2024-08-20T12:32:04.457854271",
          "2024-08-20T12:32:04.517654896",
          "2024-08-20T12:32:04.580527544",
          "2024-08-20T12:32:04.637335539",
          "2024-08-20T12:32:04.706151247",
          "2024-08-20T12:32:04.765990496",
          "2024-08-20T12:32:04.830850601",
          "2024-08-20T12:32:04.894646168",
          "2024-08-20T12:32:04.958475590",
          "2024-08-20T12:32:05.028358459",
          "2024-08-20T12:32:05.090869427",
          "2024-08-20T12:32:05.155694008",
          "2024-08-20T12:32:05.220520258",
          "2024-08-20T12:32:05.280360222",
          "2024-08-20T12:32:05.344203472",
          "2024-08-20T12:32:05.416617870",
          "2024-08-20T12:32:05.473434925",
          "2024-08-20T12:32:05.533270836",
          "2024-08-20T12:32:05.599692583",
          "2024-08-20T12:32:05.668574572",
          "2024-08-20T12:32:05.727350950",
          "2024-08-20T12:32:05.791183472",
          "2024-08-20T12:32:05.854014158",
          "2024-08-20T12:32:05.924823761",
          "2024-08-20T12:32:05.983665466",
          "2024-08-20T12:32:06.046497345",
          "2024-08-20T12:32:06.113318920",
          "2024-08-20T12:32:06.185126543",
          "2024-08-20T12:32:06.244966507",
          "2024-08-20T12:32:06.305804491",
          "2024-08-20T12:32:06.427478552",
          "2024-08-20T12:32:06.476348162",
          "2024-08-20T12:32:06.519232987",
          "2024-08-20T12:32:06.580214500",
          "2024-08-20T12:32:06.640358686",
          "2024-08-20T12:32:06.689215422",
          "2024-08-20T12:32:06.750109673",
          "2024-08-20T12:32:06.817869663",
          "2024-08-20T12:32:06.883101940",
          "2024-08-20T12:32:06.941977024",
          "2024-08-20T12:32:07.051910162",
          "2024-08-20T12:32:07.107870817",
          "2024-08-20T12:32:07.159778595",
          "2024-08-20T12:32:07.225763559",
          "2024-08-20T12:32:07.280441046",
          "2024-08-20T12:32:07.327314854",
          "2024-08-20T12:32:07.392040730",
          "2024-08-20T12:32:07.453844547",
          "2024-08-20T12:32:07.519663572",
          "2024-08-20T12:32:07.585496664",
          "2024-08-20T12:32:07.646383524",
          "2024-08-20T12:32:07.712150097",
          "2024-08-20T12:32:07.776016474",
          "2024-08-20T12:32:07.839809179",
          "2024-08-20T12:32:07.902639627",
          "2024-08-20T12:32:07.965471029",
          "2024-08-20T12:32:08.032032250",
          "2024-08-20T12:32:08.093867064",
          "2024-08-20T12:32:08.167701006",
          "2024-08-20T12:32:08.227540970",
          "2024-08-20T12:32:08.295396090",
          "2024-08-20T12:32:08.349215508",
          "2024-08-20T12:32:08.416072607",
          "2024-08-20T12:32:08.480871439",
          "2024-08-20T12:32:08.542946577",
          "2024-08-20T12:32:08.606839895",
          "2024-08-20T12:32:08.670669317",
          "2024-08-20T12:32:08.748494625",
          "2024-08-20T12:32:08.810294867",
          "2024-08-20T12:32:08.870174646",
          "2024-08-20T12:32:08.929901600",
          "2024-08-20T12:32:08.990741253",
          "2024-08-20T12:32:09.054567575",
          "2024-08-20T12:32:09.119748592",
          "2024-08-20T12:32:09.183618307",
          "2024-08-20T12:32:09.246409178",
          "2024-08-20T12:32:09.310237885",
          "2024-08-20T12:32:09.376274586",
          "2024-08-20T12:32:09.444119215",
          "2024-08-20T12:32:09.505930185",
          "2024-08-20T12:32:09.570753813",
          "2024-08-20T12:32:09.633613825",
          "2024-08-20T12:32:09.695421457",
          "2024-08-20T12:32:09.758251190",
          "2024-08-20T12:32:09.823078632",
          "2024-08-20T12:32:09.892893553",
          "2024-08-20T12:32:09.950737238",
          "2024-08-20T12:32:10.014777422",
          "2024-08-20T12:32:10.086585045",
          "2024-08-20T12:32:10.141972303",
          "2024-08-20T12:32:10.210790157",
          "2024-08-20T12:32:10.270623446",
          "2024-08-20T12:32:10.334451199",
          "2024-08-20T12:32:10.401107311",
          "2024-08-20T12:32:10.475941658",
          "2024-08-20T12:32:10.526770592",
          "2024-08-20T12:32:10.592339277",
          "2024-08-20T12:32:10.654148579",
          "2024-08-20T12:32:10.718975782",
          "2024-08-20T12:32:10.782802105",
          "2024-08-20T12:32:10.848627567",
          "2024-08-20T12:32:10.910460711",
          "2024-08-20T12:32:10.977282286",
          "2024-08-20T12:32:11.039152861",
          "2024-08-20T12:32:11.103947401",
          "2024-08-20T12:32:11.167773247",
          "2024-08-20T12:32:11.229755402",
          "2024-08-20T12:32:11.300566435",
          "2024-08-20T12:32:11.360479593",
          "2024-08-20T12:32:11.429301023",
          "2024-08-20T12:32:11.491092443",
          "2024-08-20T12:32:11.549935341",
          "2024-08-20T12:32:11.614765167",
          "2024-08-20T12:32:11.678591490",
          "2024-08-20T12:32:11.881561279",
          "2024-08-20T12:32:11.898514748",
          "2024-08-20T12:32:11.957359314",
          "2024-08-20T12:32:12.000243187",
          "2024-08-20T12:32:12.059998989",
          "2024-08-20T12:32:12.107871294",
          "2024-08-20T12:32:12.150756359",
          "2024-08-20T12:32:12.212984085",
          "2024-08-20T12:32:12.266843080",
          "2024-08-20T12:32:12.333659649",
          "2024-08-20T12:32:12.400614738",
          "2024-08-20T12:32:12.452477217",
          "2024-08-20T12:32:12.509835005",
          "2024-08-20T12:32:12.584639788",
          "2024-08-20T12:32:12.639522791",
          "2024-08-20T12:32:12.704347134",
          "2024-08-20T12:32:12.766216516",
          "2024-08-20T12:32:12.831049442",
          "2024-08-20T12:32:12.897837639",
          "2024-08-20T12:32:12.957735538",
          "2024-08-20T12:32:13.023500681",
          "2024-08-20T12:32:13.087365866",
          "2024-08-20T12:32:13.162170649",
          "2024-08-20T12:32:13.215023041",
          "2024-08-20T12:32:13.280812502",
          "2024-08-20T12:32:13.341650486",
          "2024-08-20T12:32:13.405478477",
          "2024-08-20T12:32:13.470162392",
          "2024-08-20T12:32:13.536520719",
          "2024-08-20T12:32:13.601319313",
          "2024-08-20T12:32:13.662052870",
          "2024-08-20T12:32:13.725847721",
          "2024-08-20T12:32:13.791673660",
          "2024-08-20T12:32:13.853515148",
          "2024-08-20T12:32:13.930917978",
          "2024-08-20T12:32:13.993786335",
          "2024-08-20T12:32:14.059574604",
          "2024-08-20T12:32:14.110471010",
          "2024-08-20T12:32:14.175262690",
          "2024-08-20T12:32:14.239600658",
          "2024-08-20T12:32:14.304803610",
          "2024-08-20T12:32:14.370627165",
          "2024-08-20T12:32:14.430467367",
          "2024-08-20T12:32:14.494708300",
          "2024-08-20T12:32:14.558565378",
          "2024-08-20T12:32:14.631342411",
          "2024-08-20T12:32:14.685559273",
          "2024-08-20T12:32:14.750857830",
          "2024-08-20T12:32:14.813715219",
          "2024-08-20T12:32:14.879512548",
          "2024-08-20T12:32:14.945337057",
          "2024-08-20T12:32:15.009166241",
          "2024-08-20T12:32:15.070513248",
          "2024-08-20T12:32:15.136845350",
          "2024-08-20T12:32:15.243623495",
          "2024-08-20T12:32:15.292493105",
          "2024-08-20T12:32:15.336418152",
          "2024-08-20T12:32:15.403240204",
          "2024-08-20T12:32:15.460046530",
          "2024-08-20T12:32:15.519924878",
          "2024-08-20T12:32:15.582721472",
          "2024-08-20T12:32:15.646606445",
          "2024-08-20T12:32:15.718358517",
          "2024-08-20T12:32:15.777199030",
          "2024-08-20T12:32:15.840064526",
          "2024-08-20T12:32:15.907848120",
          "2024-08-20T12:32:15.965693712",
          "2024-08-20T12:32:16.031555175",
          "2024-08-20T12:32:16.096345186",
          "2024-08-20T12:32:16.159226656",
          "2024-08-20T12:32:16.222518921",
          "2024-08-20T12:32:16.286342859",
          "2024-08-20T12:32:16.351169825",
          "2024-08-20T12:32:16.413003683",
          "2024-08-20T12:32:16.480856419",
          "2024-08-20T12:32:16.542655945",
          "2024-08-20T12:32:16.610476255",
          "2024-08-20T12:32:16.670314550",
          "2024-08-20T12:32:16.734145641",
          "2024-08-20T12:32:16.799000502",
          "2024-08-20T12:32:16.881431103",
          "2024-08-20T12:32:16.929389238",
          "2024-08-20T12:32:16.989288330",
          "2024-08-20T12:32:17.056051016",
          "2024-08-20T12:32:17.117888451",
          "2024-08-20T12:32:17.183228970",
          "2024-08-20T12:32:17.246451139",
          "2024-08-20T12:32:17.311335325",
          "2024-08-20T12:32:17.374109983",
          "2024-08-20T12:32:17.440968990",
          "2024-08-20T12:32:17.502764702",
          "2024-08-20T12:32:17.568790674",
          "2024-08-20T12:32:17.629988670",
          "2024-08-20T12:32:17.707792282",
          "2024-08-20T12:32:17.769598246",
          "2024-08-20T12:32:17.823451996",
          "2024-08-20T12:32:17.886348248",
          "2024-08-20T12:32:17.957094431",
          "2024-08-20T12:32:18.015938759",
          "2024-08-20T12:32:18.084788322",
          "2024-08-20T12:32:18.142599106",
          "2024-08-20T12:32:18.207425594",
          "2024-08-20T12:32:18.270257473",
          "2024-08-20T12:32:18.335122108",
          "2024-08-20T12:32:18.399975538",
          "2024-08-20T12:32:18.470842600",
          "2024-08-20T12:32:18.525648832",
          "2024-08-20T12:32:18.590513945",
          "2024-08-20T12:32:18.657296419",
          "2024-08-20T12:32:18.718192339",
          "2024-08-20T12:32:18.782960415",
          "2024-08-20T12:32:18.847694159",
          "2024-08-20T12:32:18.910487652",
          "2024-08-20T12:32:18.975023031",
          "2024-08-20T12:32:19.037863016",
          "2024-08-20T12:32:19.103645325",
          "2024-08-20T12:32:19.172459364",
          "2024-08-20T12:32:19.240307093",
          "2024-08-20T12:32:19.297124147",
          "2024-08-20T12:32:19.359956264",
          "2024-08-20T12:32:19.425780773",
          "2024-08-20T12:32:19.623049498",
          "2024-08-20T12:32:19.641996622",
          "2024-08-20T12:32:19.698847055",
          "2024-08-20T12:32:19.756545067",
          "2024-08-20T12:32:19.804416180",
          "2024-08-20T12:32:19.850294828",
          "2024-08-20T12:32:19.894176245",
          "2024-08-20T12:32:19.955012321",
          "2024-08-20T12:32:20.001924038",
          "2024-08-20T12:32:20.070703506",
          "2024-08-20T12:32:20.132539988",
          "2024-08-20T12:32:20.191419840",
          "2024-08-20T12:32:20.262194872",
          "2024-08-20T12:32:20.322516203",
          "2024-08-20T12:32:20.387259722",
          "2024-08-20T12:32:20.446102619",
          "2024-08-20T12:32:20.520902157",
          "2024-08-20T12:32:20.584731817",
          "2024-08-20T12:32:20.653100014",
          "2024-08-20T12:32:20.706911802",
          "2024-08-20T12:32:20.771246910",
          "2024-08-20T12:32:20.832086563",
          "2024-08-20T12:32:20.895421505",
          "2024-08-20T12:32:20.959251165",
          "2024-08-20T12:32:21.024112225",
          "2024-08-20T12:32:21.086937666",
          "2024-08-20T12:32:21.150739670",
          "2024-08-20T12:32:21.215182066",
          "2024-08-20T12:32:21.288241148",
          "2024-08-20T12:32:21.342065573",
          "2024-08-20T12:32:21.407263279",
          "2024-08-20T12:32:21.483011246",
          "2024-08-20T12:32:21.532878399",
          "2024-08-20T12:32:21.599734306",
          "2024-08-20T12:32:21.667518377",
          "2024-08-20T12:32:21.730396748",
          "2024-08-20T12:32:21.791186571",
          "2024-08-20T12:32:21.855018854",
          "2024-08-20T12:32:21.920847893",
          "2024-08-20T12:32:21.982674122",
          "2024-08-20T12:32:22.189171791",
          "2024-08-20T12:32:22.202137947",
          "2024-08-20T12:32:22.256990194",
          "2024-08-20T12:32:22.320201874",
          "2024-08-20T12:32:22.365945339",
          "2024-08-20T12:32:22.409827948",
          "2024-08-20T12:32:22.457733631",
          "2024-08-20T12:32:22.516542673",
          "2024-08-20T12:32:22.564417124",
          "2024-08-20T12:32:22.622356653",
          "2024-08-20T12:32:22.687514067",
          "2024-08-20T12:32:22.750309229",
          "2024-08-20T12:32:22.818037748",
          "2024-08-20T12:32:22.886855364",
          "2024-08-20T12:32:22.941748381",
          "2024-08-20T12:32:23.005697012",
          "2024-08-20T12:32:23.077054977",
          "2024-08-20T12:32:23.133903503",
          "2024-08-20T12:32:23.235785723",
          "2024-08-20T12:32:23.298555374",
          "2024-08-20T12:32:23.360395193",
          "2024-08-20T12:32:23.415242434",
          "2024-08-20T12:32:23.455136061",
          "2024-08-20T12:32:23.520959139",
          "2024-08-20T12:32:23.591769695",
          "2024-08-20T12:32:23.645626307",
          "2024-08-20T12:32:23.709454775",
          "2024-08-20T12:32:23.781263590",
          "2024-08-20T12:32:23.837112904",
          "2024-08-20T12:32:23.903935671",
          "2024-08-20T12:32:23.965770245",
          "2024-08-20T12:32:24.034584522",
          "2024-08-20T12:32:24.102404833",
          "2024-08-20T12:32:24.158255816",
          "2024-08-20T12:32:24.223082304",
          "2024-08-20T12:32:24.300907373",
          "2024-08-20T12:32:24.357778549",
          "2024-08-20T12:32:24.416562796",
          "2024-08-20T12:32:24.479396105",
          "2024-08-20T12:32:24.543224573",
          "2024-08-20T12:32:24.606056452",
          "2024-08-20T12:32:24.671190023",
          "2024-08-20T12:32:24.737014294",
          "2024-08-20T12:32:24.801352024",
          "2024-08-20T12:32:24.864221811",
          "2024-08-20T12:32:24.932000160",
          "2024-08-20T12:32:24.992837667",
          "2024-08-20T12:32:25.054672956",
          "2024-08-20T12:32:25.118500710",
          "2024-08-20T12:32:25.195301294",
          "2024-08-20T12:32:25.253140926",
          "2024-08-20T12:32:25.311498642",
          "2024-08-20T12:32:25.375326633",
          "2024-08-20T12:32:25.440153599",
          "2024-08-20T12:32:25.641125202",
          "2024-08-20T12:32:25.657083750",
          "2024-08-20T12:32:25.720910788",
          "2024-08-20T12:32:25.765789747",
          "2024-08-20T12:32:25.811667442",
          "2024-08-20T12:32:25.873502493",
          "2024-08-20T12:32:25.917384863",
          "2024-08-20T12:32:25.965266705",
          "2024-08-20T12:32:26.015124083",
          "2024-08-20T12:32:26.081945181",
          "2024-08-20T12:32:26.143970490",
          "2024-08-20T12:32:26.207308531",
          "2024-08-20T12:32:26.277124882",
          "2024-08-20T12:32:26.335473299",
          "2024-08-20T12:32:26.399356604",
          "2024-08-20T12:32:26.469116211",
          "2024-08-20T12:32:26.526027203",
          "2024-08-20T12:32:26.599806547",
          "2024-08-20T12:32:26.662598610",
          "2024-08-20T12:32:26.719447613",
          "2024-08-20T12:32:26.787300110",
          "2024-08-20T12:32:26.846109152",
          "2024-08-20T12:32:26.909974575",
          "2024-08-20T12:32:26.982742786",
          "2024-08-20T12:32:27.039618492",
          "2024-08-20T12:32:27.109428883",
          "2024-08-20T12:32:27.168270826",
          "2024-08-20T12:32:27.244070053",
          "2024-08-20T12:32:27.300915718",
          "2024-08-20T12:32:27.358763456",
          "2024-08-20T12:32:27.430572271",
          "2024-08-20T12:32:27.495396614",
          "2024-08-20T12:32:27.552243471",
          "2024-08-20T12:32:27.618986607",
          "2024-08-20T12:32:27.679826498",
          "2024-08-20T12:32:27.744651794",
          "2024-08-20T12:32:27.811474085",
          "2024-08-20T12:32:27.871311665",
          "2024-08-20T12:32:27.938232660",
          "2024-08-20T12:32:28.007043123",
          "2024-08-20T12:32:28.066883086",
          "2024-08-20T12:32:28.126723528",
          "2024-08-20T12:32:28.193597555",
          "2024-08-20T12:32:28.260417461",
          "2024-08-20T12:32:28.320315361",
          "2024-08-20T12:32:28.384086132",
          "2024-08-20T12:32:28.446953297",
          "2024-08-20T12:32:28.518725634",
          "2024-08-20T12:32:28.576572895",
          "2024-08-20T12:32:28.641489267",
          "2024-08-20T12:32:28.702045441",
          "2024-08-20T12:32:28.767858028",
          "2024-08-20T12:32:28.830724716",
          "2024-08-20T12:32:28.896514893",
          "2024-08-20T12:32:28.961437941",
          "2024-08-20T12:32:29.023036718",
          "2024-08-20T12:32:29.086858511",
          "2024-08-20T12:32:29.150660276",
          "2024-08-20T12:32:29.214490175",
          "2024-08-20T12:32:29.280347824",
          "2024-08-20T12:32:29.347641230",
          "2024-08-20T12:32:29.408477068",
          "2024-08-20T12:32:29.473303795",
          "2024-08-20T12:32:29.534140825",
          "2024-08-20T12:32:29.855006218",
          "2024-08-20T12:32:29.918835640",
          "2024-08-20T12:32:29.984659910",
          "2024-08-20T12:32:30.048488617",
          "2024-08-20T12:32:30.111320496",
          "2024-08-20T12:32:30.174177170",
          "2024-08-20T12:32:30.241478205",
          "2024-08-20T12:32:30.304310322",
          "2024-08-20T12:32:30.433924198",
          "2024-08-20T12:32:30.561550379",
          "2024-08-20T12:32:30.623412132",
          "2024-08-20T12:32:30.879150867",
          "2024-08-20T12:32:30.955455780",
          "2024-08-20T12:32:31.006345749",
          "2024-08-20T12:32:31.084110022",
          "2024-08-20T12:32:31.133013964",
          "2024-08-20T12:32:31.203535080",
          "2024-08-20T12:32:31.271354437",
          "2024-08-20T12:32:31.326326847",
          "2024-08-20T12:32:31.408055782",
          "2024-08-20T12:32:31.458920002",
          "2024-08-20T12:32:31.552667856",
          "2024-08-20T12:32:31.591563702",
          "2024-08-20T12:32:31.650408030",
          "2024-08-20T12:32:31.710282564",
          "2024-08-20T12:32:31.973545551",
          "2024-08-20T12:32:32.223783493",
          "2024-08-20T12:32:32.423932314",
          "2024-08-20T12:32:32.738783121",
          "2024-08-20T12:32:32.862452507",
          "2024-08-20T12:32:33.061918974",
          "2024-08-20T12:32:33.247426987",
          "2024-08-20T12:32:33.823216915",
          "2024-08-20T12:32:34.142103195",
          "2024-08-20T12:32:34.463746071",
          "2024-08-20T12:32:34.525631427",
          "2024-08-20T12:32:34.784605265",
          "2024-08-20T12:32:34.915297985",
          "2024-08-20T12:32:35.038368940",
          "2024-08-20T12:32:35.101213455",
          "2024-08-20T12:32:35.296691179",
          "2024-08-20T12:32:35.615374088",
          "2024-08-20T12:32:35.679830551",
          "2024-08-20T12:32:36.198305845",
          "2024-08-20T12:32:36.578244925",
          "2024-08-20T12:32:36.768796206",
          "2024-08-20T12:32:37.278991222",
          "2024-08-20T12:32:37.345320702",
          "2024-08-20T12:32:37.534350395",
          "2024-08-20T12:32:37.730824471",
          "2024-08-20T12:32:38.691833019"
         ],
         "xaxis": "x2",
         "y": {
          "bdata": "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",
          "dtype": "f8"
         },
         "yaxis": "y2"
        },
        {
         "marker": {
          "color": "lightcoral"
         },
         "name": "Distribution",
         "nbinsx": 30,
         "opacity": 0.7,
         "type": "histogram",
         "x": {
          "bdata": "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",
          "dtype": "f8"
         },
         "xaxis": "x3",
         "yaxis": "y3"
        },
        {
         "line": {
          "color": "lightcoral",
          "width": 1
         },
         "mode": "lines",
         "name": "Raw",
         "opacity": 0.5,
         "type": "scatter",
         "x": {
          "bdata": "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",
          "dtype": "i2"
         },
         "xaxis": "x4",
         "y": {
          "bdata": "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",
          "dtype": "f8"
         },
         "yaxis": "y4"
        },
        {
         "line": {
          "color": "darkred",
          "width": 3
         },
         "mode": "lines",
         "name": "Smoothed (n=47)",
         "type": "scatter",
         "x": {
          "bdata": "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",
          "dtype": "i2"
         },
         "xaxis": "x4",
         "y": {
          "bdata": "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",
          "dtype": "f8"
         },
         "yaxis": "y4"
        }
       ],
       "layout": {
        "annotations": [
         {
          "font": {
           "size": 16
          },
          "showarrow": false,
          "text": "Distance vs Frame Index",
          "x": 0.225,
          "xanchor": "center",
          "xref": "paper",
          "y": 1,
          "yanchor": "bottom",
          "yref": "paper"
         },
         {
          "font": {
           "size": 16
          },
          "showarrow": false,
          "text": "Distance vs Time",
          "x": 0.775,
          "xanchor": "center",
          "xref": "paper",
          "y": 1,
          "yanchor": "bottom",
          "yref": "paper"
         },
         {
          "font": {
           "size": 16
          },
          "showarrow": false,
          "text": "Distance Distribution",
          "x": 0.225,
          "xanchor": "center",
          "xref": "paper",
          "y": 0.375,
          "yanchor": "bottom",
          "yref": "paper"
         },
         {
          "font": {
           "size": 16
          },
          "showarrow": false,
          "text": "Distance Trends",
          "x": 0.775,
          "xanchor": "center",
          "xref": "paper",
          "y": 0.375,
          "yanchor": "bottom",
          "yref": "paper"
         },
         {
          "showarrow": false,
          "text": "Mean: 1.98meters",
          "x": 1.9812934665810769,
          "xanchor": "left",
          "xref": "x3",
          "y": 1,
          "yanchor": "top",
          "yref": "y3 domain"
         }
        ],
        "height": 800,
        "shapes": [
         {
          "line": {
           "color": "red",
           "dash": "dash"
          },
          "type": "line",
          "x0": 1.9812934665810769,
          "x1": 1.9812934665810769,
          "xref": "x3",
          "y0": 0,
          "y1": 1,
          "yref": "y3 domain"
         }
        ],
        "showlegend": true,
        "template": {
         "data": {
          "bar": [
           {
            "error_x": {
             "color": "#2a3f5f"
            },
            "error_y": {
             "color": "#2a3f5f"
            },
            "marker": {
             "line": {
              "color": "#E5ECF6",
              "width": 0.5
             },
             "pattern": {
              "fillmode": "overlay",
              "size": 10,
              "solidity": 0.2
             }
            },
            "type": "bar"
           }
          ],
          "barpolar": [
           {
            "marker": {
             "line": {
              "color": "#E5ECF6",
              "width": 0.5
             },
             "pattern": {
              "fillmode": "overlay",
              "size": 10,
              "solidity": 0.2
             }
            },
            "type": "barpolar"
           }
          ],
          "carpet": [
           {
            "aaxis": {
             "endlinecolor": "#2a3f5f",
             "gridcolor": "white",
             "linecolor": "white",
             "minorgridcolor": "white",
             "startlinecolor": "#2a3f5f"
            },
            "baxis": {
             "endlinecolor": "#2a3f5f",
             "gridcolor": "white",
             "linecolor": "white",
             "minorgridcolor": "white",
             "startlinecolor": "#2a3f5f"
            },
            "type": "carpet"
           }
          ],
          "choropleth": [
           {
            "colorbar": {
             "outlinewidth": 0,
             "ticks": ""
            },
            "type": "choropleth"
           }
          ],
          "contour": [
           {
            "colorbar": {
             "outlinewidth": 0,
             "ticks": ""
            },
            "colorscale": [
             [
              0,
              "#0d0887"
             ],
             [
              0.1111111111111111,
              "#46039f"
             ],
             [
              0.2222222222222222,
              "#7201a8"
             ],
             [
              0.3333333333333333,
              "#9c179e"
             ],
             [
              0.4444444444444444,
              "#bd3786"
             ],
             [
              0.5555555555555556,
              "#d8576b"
             ],
             [
              0.6666666666666666,
              "#ed7953"
             ],
             [
              0.7777777777777778,
              "#fb9f3a"
             ],
             [
              0.8888888888888888,
              "#fdca26"
             ],
             [
              1,
              "#f0f921"
             ]
            ],
            "type": "contour"
           }
          ],
          "contourcarpet": [
           {
            "colorbar": {
             "outlinewidth": 0,
             "ticks": ""
            },
            "type": "contourcarpet"
           }
          ],
          "heatmap": [
           {
            "colorbar": {
             "outlinewidth": 0,
             "ticks": ""
            },
            "colorscale": [
             [
              0,
              "#0d0887"
             ],
             [
              0.1111111111111111,
              "#46039f"
             ],
             [
              0.2222222222222222,
              "#7201a8"
             ],
             [
              0.3333333333333333,
              "#9c179e"
             ],
             [
              0.4444444444444444,
              "#bd3786"
             ],
             [
              0.5555555555555556,
              "#d8576b"
             ],
             [
              0.6666666666666666,
              "#ed7953"
             ],
             [
              0.7777777777777778,
              "#fb9f3a"
             ],
             [
              0.8888888888888888,
              "#fdca26"
             ],
             [
              1,
              "#f0f921"
             ]
            ],
            "type": "heatmap"
           }
          ],
          "histogram": [
           {
            "marker": {
             "pattern": {
              "fillmode": "overlay",
              "size": 10,
              "solidity": 0.2
             }
            },
            "type": "histogram"
           }
          ],
          "histogram2d": [
           {
            "colorbar": {
             "outlinewidth": 0,
             "ticks": ""
            },
            "colorscale": [
             [
              0,
              "#0d0887"
             ],
             [
              0.1111111111111111,
              "#46039f"
             ],
             [
              0.2222222222222222,
              "#7201a8"
             ],
             [
              0.3333333333333333,
              "#9c179e"
             ],
             [
              0.4444444444444444,
              "#bd3786"
             ],
             [
              0.5555555555555556,
              "#d8576b"
             ],
             [
              0.6666666666666666,
              "#ed7953"
             ],
             [
              0.7777777777777778,
              "#fb9f3a"
             ],
             [
              0.8888888888888888,
              "#fdca26"
             ],
             [
              1,
              "#f0f921"
             ]
            ],
            "type": "histogram2d"
           }
          ],
          "histogram2dcontour": [
           {
            "colorbar": {
             "outlinewidth": 0,
             "ticks": ""
            },
            "colorscale": [
             [
              0,
              "#0d0887"
             ],
             [
              0.1111111111111111,
              "#46039f"
             ],
             [
              0.2222222222222222,
              "#7201a8"
             ],
             [
              0.3333333333333333,
              "#9c179e"
             ],
             [
              0.4444444444444444,
              "#bd3786"
             ],
             [
              0.5555555555555556,
              "#d8576b"
             ],
             [
              0.6666666666666666,
              "#ed7953"
             ],
             [
              0.7777777777777778,
              "#fb9f3a"
             ],
             [
              0.8888888888888888,
              "#fdca26"
             ],
             [
              1,
              "#f0f921"
             ]
            ],
            "type": "histogram2dcontour"
           }
          ],
          "mesh3d": [
           {
            "colorbar": {
             "outlinewidth": 0,
             "ticks": ""
            },
            "type": "mesh3d"
           }
          ],
          "parcoords": [
           {
            "line": {
             "colorbar": {
              "outlinewidth": 0,
              "ticks": ""
             }
            },
            "type": "parcoords"
           }
          ],
          "pie": [
           {
            "automargin": true,
            "type": "pie"
           }
          ],
          "scatter": [
           {
            "fillpattern": {
             "fillmode": "overlay",
             "size": 10,
             "solidity": 0.2
            },
            "type": "scatter"
           }
          ],
          "scatter3d": [
           {
            "line": {
             "colorbar": {
              "outlinewidth": 0,
              "ticks": ""
             }
            },
            "marker": {
             "colorbar": {
              "outlinewidth": 0,
              "ticks": ""
             }
            },
            "type": "scatter3d"
           }
          ],
          "scattercarpet": [
           {
            "marker": {
             "colorbar": {
              "outlinewidth": 0,
              "ticks": ""
             }
            },
            "type": "scattercarpet"
           }
          ],
          "scattergeo": [
           {
            "marker": {
             "colorbar": {
              "outlinewidth": 0,
              "ticks": ""
             }
            },
            "type": "scattergeo"
           }
          ],
          "scattergl": [
           {
            "marker": {
             "colorbar": {
              "outlinewidth": 0,
              "ticks": ""
             }
            },
            "type": "scattergl"
           }
          ],
          "scattermap": [
           {
            "marker": {
             "colorbar": {
              "outlinewidth": 0,
              "ticks": ""
             }
            },
            "type": "scattermap"
           }
          ],
          "scattermapbox": [
           {
            "marker": {
             "colorbar": {
              "outlinewidth": 0,
              "ticks": ""
             }
            },
            "type": "scattermapbox"
           }
          ],
          "scatterpolar": [
           {
            "marker": {
             "colorbar": {
              "outlinewidth": 0,
              "ticks": ""
             }
            },
            "type": "scatterpolar"
           }
          ],
          "scatterpolargl": [
           {
            "marker": {
             "colorbar": {
              "outlinewidth": 0,
              "ticks": ""
             }
            },
            "type": "scatterpolargl"
           }
          ],
          "scatterternary": [
           {
            "marker": {
             "colorbar": {
              "outlinewidth": 0,
              "ticks": ""
             }
            },
            "type": "scatterternary"
           }
          ],
          "surface": [
           {
            "colorbar": {
             "outlinewidth": 0,
             "ticks": ""
            },
            "colorscale": [
             [
              0,
              "#0d0887"
             ],
             [
              0.1111111111111111,
              "#46039f"
             ],
             [
              0.2222222222222222,
              "#7201a8"
             ],
             [
              0.3333333333333333,
              "#9c179e"
             ],
             [
              0.4444444444444444,
              "#bd3786"
             ],
             [
              0.5555555555555556,
              "#d8576b"
             ],
             [
              0.6666666666666666,
              "#ed7953"
             ],
             [
              0.7777777777777778,
              "#fb9f3a"
             ],
             [
              0.8888888888888888,
              "#fdca26"
             ],
             [
              1,
              "#f0f921"
             ]
            ],
            "type": "surface"
           }
          ],
          "table": [
           {
            "cells": {
             "fill": {
              "color": "#EBF0F8"
             },
             "line": {
              "color": "white"
             }
            },
            "header": {
             "fill": {
              "color": "#C8D4E3"
             },
             "line": {
              "color": "white"
             }
            },
            "type": "table"
           }
          ]
         },
         "layout": {
          "annotationdefaults": {
           "arrowcolor": "#2a3f5f",
           "arrowhead": 0,
           "arrowwidth": 1
          },
          "autotypenumbers": "strict",
          "coloraxis": {
           "colorbar": {
            "outlinewidth": 0,
            "ticks": ""
           }
          },
          "colorscale": {
           "diverging": [
            [
             0,
             "#8e0152"
            ],
            [
             0.1,
             "#c51b7d"
            ],
            [
             0.2,
             "#de77ae"
            ],
            [
             0.3,
             "#f1b6da"
            ],
            [
             0.4,
             "#fde0ef"
            ],
            [
             0.5,
             "#f7f7f7"
            ],
            [
             0.6,
             "#e6f5d0"
            ],
            [
             0.7,
             "#b8e186"
            ],
            [
             0.8,
             "#7fbc41"
            ],
            [
             0.9,
             "#4d9221"
            ],
            [
             1,
             "#276419"
            ]
           ],
           "sequential": [
            [
             0,
             "#0d0887"
            ],
            [
             0.1111111111111111,
             "#46039f"
            ],
            [
             0.2222222222222222,
             "#7201a8"
            ],
            [
             0.3333333333333333,
             "#9c179e"
            ],
            [
             0.4444444444444444,
             "#bd3786"
            ],
            [
             0.5555555555555556,
             "#d8576b"
            ],
            [
             0.6666666666666666,
             "#ed7953"
            ],
            [
             0.7777777777777778,
             "#fb9f3a"
            ],
            [
             0.8888888888888888,
             "#fdca26"
            ],
            [
             1,
             "#f0f921"
            ]
           ],
           "sequentialminus": [
            [
             0,
             "#0d0887"
            ],
            [
             0.1111111111111111,
             "#46039f"
            ],
            [
             0.2222222222222222,
             "#7201a8"
            ],
            [
             0.3333333333333333,
             "#9c179e"
            ],
            [
             0.4444444444444444,
             "#bd3786"
            ],
            [
             0.5555555555555556,
             "#d8576b"
            ],
            [
             0.6666666666666666,
             "#ed7953"
            ],
            [
             0.7777777777777778,
             "#fb9f3a"
            ],
            [
             0.8888888888888888,
             "#fdca26"
            ],
            [
             1,
             "#f0f921"
            ]
           ]
          },
          "colorway": [
           "#636efa",
           "#EF553B",
           "#00cc96",
           "#ab63fa",
           "#FFA15A",
           "#19d3f3",
           "#FF6692",
           "#B6E880",
           "#FF97FF",
           "#FECB52"
          ],
          "font": {
           "color": "#2a3f5f"
          },
          "geo": {
           "bgcolor": "white",
           "lakecolor": "white",
           "landcolor": "#E5ECF6",
           "showlakes": true,
           "showland": true,
           "subunitcolor": "white"
          },
          "hoverlabel": {
           "align": "left"
          },
          "hovermode": "closest",
          "mapbox": {
           "style": "light"
          },
          "paper_bgcolor": "white",
          "plot_bgcolor": "#E5ECF6",
          "polar": {
           "angularaxis": {
            "gridcolor": "white",
            "linecolor": "white",
            "ticks": ""
           },
           "bgcolor": "#E5ECF6",
           "radialaxis": {
            "gridcolor": "white",
            "linecolor": "white",
            "ticks": ""
           }
          },
          "scene": {
           "xaxis": {
            "backgroundcolor": "#E5ECF6",
            "gridcolor": "white",
            "gridwidth": 2,
            "linecolor": "white",
            "showbackground": true,
            "ticks": "",
            "zerolinecolor": "white"
           },
           "yaxis": {
            "backgroundcolor": "#E5ECF6",
            "gridcolor": "white",
            "gridwidth": 2,
            "linecolor": "white",
            "showbackground": true,
            "ticks": "",
            "zerolinecolor": "white"
           },
           "zaxis": {
            "backgroundcolor": "#E5ECF6",
            "gridcolor": "white",
            "gridwidth": 2,
            "linecolor": "white",
            "showbackground": true,
            "ticks": "",
            "zerolinecolor": "white"
           }
          },
          "shapedefaults": {
           "line": {
            "color": "#2a3f5f"
           }
          },
          "ternary": {
           "aaxis": {
            "gridcolor": "white",
            "linecolor": "white",
            "ticks": ""
           },
           "baxis": {
            "gridcolor": "white",
            "linecolor": "white",
            "ticks": ""
           },
           "bgcolor": "#E5ECF6",
           "caxis": {
            "gridcolor": "white",
            "linecolor": "white",
            "ticks": ""
           }
          },
          "title": {
           "x": 0.05
          },
          "xaxis": {
           "automargin": true,
           "gridcolor": "white",
           "linecolor": "white",
           "ticks": "",
           "title": {
            "standoff": 15
           },
           "zerolinecolor": "white",
           "zerolinewidth": 2
          },
          "yaxis": {
           "automargin": true,
           "gridcolor": "white",
           "linecolor": "white",
           "ticks": "",
           "title": {
            "standoff": 15
           },
           "zerolinecolor": "white",
           "zerolinewidth": 2
          }
         }
        },
        "title": {
         "text": "Real-World Distance Analysis"
        },
        "xaxis": {
         "anchor": "y",
         "domain": [
          0,
          0.45
         ],
         "title": {
          "text": "Frame Index"
         }
        },
        "xaxis2": {
         "anchor": "y2",
         "domain": [
          0.55,
          1
         ],
         "title": {
          "text": "Time"
         }
        },
        "xaxis3": {
         "anchor": "y3",
         "domain": [
          0,
          0.45
         ],
         "title": {
          "text": "Distance (meters)"
         }
        },
        "xaxis4": {
         "anchor": "y4",
         "domain": [
          0.55,
          1
         ],
         "title": {
          "text": "Frame Index"
         }
        },
        "yaxis": {
         "anchor": "x",
         "domain": [
          0.625,
          1
         ],
         "title": {
          "text": "Distance (meters)"
         }
        },
        "yaxis2": {
         "anchor": "x2",
         "domain": [
          0.625,
          1
         ],
         "title": {
          "text": "Distance (meters)"
         }
        },
        "yaxis3": {
         "anchor": "x3",
         "domain": [
          0,
          0.375
         ],
         "title": {
          "text": "Frequency"
         }
        },
        "yaxis4": {
         "anchor": "x4",
         "domain": [
          0,
          0.375
         ],
         "title": {
          "text": "Distance (meters)"
         }
        }
       }
      }
     },
     "metadata": {},
     "output_type": "display_data"
    },
    {
     "data": {
      "application/vnd.plotly.v1+json": {
       "config": {
        "plotlyServerURL": "https://plot.ly"
       },
       "data": [
        {
         "line": {
          "color": "blue"
         },
         "mode": "lines+markers",
         "name": "Distance",
         "type": "scatter",
         "x": {
          "bdata": "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",
          "dtype": "i2"
         },
         "xaxis": "x",
         "y": {
          "bdata": "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",
          "dtype": "f8"
         },
         "yaxis": "y"
        },
        {
         "line": {
          "color": "green"
         },
         "mode": "lines+markers",
         "name": "Distance over Time",
         "type": "scatter",
         "x": [
          "2024-08-20T12:31:31.621807575",
          "2024-08-20T12:31:31.681648731",
          "2024-08-20T12:31:31.742511034",
          "2024-08-20T12:31:31.818883181",
          "2024-08-20T12:31:31.874155045",
          "2024-08-20T12:31:31.937494755",
          "2024-08-20T12:31:31.999329090",
          "2024-08-20T12:31:32.063158035",
          "2024-08-20T12:31:32.130053520",
          "2024-08-20T12:31:32.191398144",
          "2024-08-20T12:31:32.254230738",
          "2024-08-20T12:31:32.318058729",
          "2024-08-20T12:31:32.395849943",
          "2024-08-20T12:31:32.445717096",
          "2024-08-20T12:31:32.511543512",
          "2024-08-20T12:31:32.576503515",
          "2024-08-20T12:31:32.637341022",
          "2024-08-20T12:31:32.702203035",
          "2024-08-20T12:31:32.768987656",
          "2024-08-20T12:31:32.829861403",
          "2024-08-20T12:31:32.894687653",
          "2024-08-20T12:31:32.962601185",
          "2024-08-20T12:31:33.025435448",
          "2024-08-20T12:31:33.088264227",
          "2024-08-20T12:31:33.151147127",
          "2024-08-20T12:31:33.218916655",
          "2024-08-20T12:31:33.280750036",
          "2024-08-20T12:31:33.342585087",
          "2024-08-20T12:31:33.407411814",
          "2024-08-20T12:31:33.484754801",
          "2024-08-20T12:31:33.533624887",
          "2024-08-20T12:31:33.610753059",
          "2024-08-20T12:31:33.671589851",
          "2024-08-20T12:31:33.730820179",
          "2024-08-20T12:31:33.790660143",
          "2024-08-20T12:31:33.854523897",
          "2024-08-20T12:31:33.919317245",
          "2024-08-20T12:31:33.984568357",
          "2024-08-20T12:31:34.048381805",
          "2024-08-20T12:31:34.117199183",
          "2024-08-20T12:31:34.183008671",
          "2024-08-20T12:31:34.237861395",
          "2024-08-20T12:31:34.303685427",
          "2024-08-20T12:31:34.367515802",
          "2024-08-20T12:31:34.431509018",
          "2024-08-20T12:31:34.508416414",
          "2024-08-20T12:31:34.565290689",
          "2024-08-20T12:31:34.624107361",
          "2024-08-20T12:31:34.686995983",
          "2024-08-20T12:31:34.749772310",
          "2024-08-20T12:31:34.822613001",
          "2024-08-20T12:31:34.882473946",
          "2024-08-20T12:31:34.943256378",
          "2024-08-20T12:31:35.006085634",
          "2024-08-20T12:31:35.075951576",
          "2024-08-20T12:31:35.139728308",
          "2024-08-20T12:31:35.197573662",
          "2024-08-20T12:31:35.264425278",
          "2024-08-20T12:31:35.328751326",
          "2024-08-20T12:31:35.404547215",
          "2024-08-20T12:31:35.454563379",
          "2024-08-20T12:31:35.522747992",
          "2024-08-20T12:31:35.597547531",
          "2024-08-20T12:31:35.666362762",
          "2024-08-20T12:31:35.716230869",
          "2024-08-20T12:31:35.779061317",
          "2024-08-20T12:31:35.839905977",
          "2024-08-20T12:31:35.902730942",
          "2024-08-20T12:31:35.968554974",
          "2024-08-20T12:31:36.034378290",
          "2024-08-20T12:31:36.146079779",
          "2024-08-20T12:31:36.202927351",
          "2024-08-20T12:31:36.253791808",
          "2024-08-20T12:31:36.310640812",
          "2024-08-20T12:31:36.362536430",
          "2024-08-20T12:31:36.415360451",
          "2024-08-20T12:31:36.612915516",
          "2024-08-20T12:31:36.629870653",
          "2024-08-20T12:31:36.686092138",
          "2024-08-20T12:31:36.731478691",
          "2024-08-20T12:31:36.792353392",
          "2024-08-20T12:31:36.835259199",
          "2024-08-20T12:31:36.882076502",
          "2024-08-20T12:31:36.930180311",
          "2024-08-20T12:31:36.995010138",
          "2024-08-20T12:31:37.057901382",
          "2024-08-20T12:31:37.120796442",
          "2024-08-20T12:31:37.190546751",
          "2024-08-20T12:31:37.245904446",
          "2024-08-20T12:31:37.310695887",
          "2024-08-20T12:31:37.375525713",
          "2024-08-20T12:31:37.443047285",
          "2024-08-20T12:31:37.501889229",
          "2024-08-20T12:31:37.570401907",
          "2024-08-20T12:31:37.634161472",
          "2024-08-20T12:31:37.698097229",
          "2024-08-20T12:31:37.760633230",
          "2024-08-20T12:31:37.822077274",
          "2024-08-20T12:31:37.890928745",
          "2024-08-20T12:31:37.950802088",
          "2024-08-20T12:31:38.016170025",
          "2024-08-20T12:31:38.079568386",
          "2024-08-20T12:31:38.144387484",
          "2024-08-20T12:31:38.206281900",
          "2024-08-20T12:31:38.272046804",
          "2024-08-20T12:31:38.335875273",
          "2024-08-20T12:31:38.399709225",
          "2024-08-20T12:31:38.464562416",
          "2024-08-20T12:31:38.526404619",
          "2024-08-20T12:31:38.595264912",
          "2024-08-20T12:31:38.654108047",
          "2024-08-20T12:31:38.719931841",
          "2024-08-20T12:31:38.783764362",
          "2024-08-20T12:31:38.857566357",
          "2024-08-20T12:31:38.911419630",
          "2024-08-20T12:31:38.976246357",
          "2024-08-20T12:31:39.042104006",
          "2024-08-20T12:31:39.101980925",
          "2024-08-20T12:31:39.166769743",
          "2024-08-20T12:31:39.232593060",
          "2024-08-20T12:31:39.297420025",
          "2024-08-20T12:31:39.361249447",
          "2024-08-20T12:31:39.423182011",
          "2024-08-20T12:31:39.490002155",
          "2024-08-20T12:31:39.549880981",
          "2024-08-20T12:31:39.614220381",
          "2024-08-20T12:31:39.680010796",
          "2024-08-20T12:31:39.748333454",
          "2024-08-20T12:31:39.812162876",
          "2024-08-20T12:31:39.877536774",
          "2024-08-20T12:31:40.073243380",
          "2024-08-20T12:31:40.086207151",
          "2024-08-20T12:31:40.148041010",
          "2024-08-20T12:31:40.191923618",
          "2024-08-20T12:31:40.237802505",
          "2024-08-20T12:31:40.300632715",
          "2024-08-20T12:31:40.345512867",
          "2024-08-20T12:31:40.391391993",
          "2024-08-20T12:31:40.451229811",
          "2024-08-20T12:31:40.517088412",
          "2024-08-20T12:31:40.581882000",
          "2024-08-20T12:31:40.639754295",
          "2024-08-20T12:31:40.703556538",
          "2024-08-20T12:31:40.769875050",
          "2024-08-20T12:31:40.833705902",
          "2024-08-20T12:31:40.910538912",
          "2024-08-20T12:31:40.974536657",
          "2024-08-20T12:31:41.029807091",
          "2024-08-20T12:31:41.085696697",
          "2024-08-20T12:31:41.153585434",
          "2024-08-20T12:31:41.224370241",
          "2024-08-20T12:31:41.289196968",
          "2024-08-20T12:31:41.349036694",
          "2024-08-20T12:31:41.405884266",
          "2024-08-20T12:31:41.472689152",
          "2024-08-20T12:31:41.540507078",
          "2024-08-20T12:31:41.601395369",
          "2024-08-20T12:31:41.668616772",
          "2024-08-20T12:31:41.727491379",
          "2024-08-20T12:31:41.791326761",
          "2024-08-20T12:31:41.859107018",
          "2024-08-20T12:31:41.926977396",
          "2024-08-20T12:31:41.982784510",
          "2024-08-20T12:31:42.058573484",
          "2024-08-20T12:31:42.111595631",
          "2024-08-20T12:31:42.179451942",
          "2024-08-20T12:31:42.239253283",
          "2024-08-20T12:31:42.305081129",
          "2024-08-20T12:31:42.369940758",
          "2024-08-20T12:31:42.492574692",
          "2024-08-20T12:31:42.547464371",
          "2024-08-20T12:31:42.607268095",
          "2024-08-20T12:31:42.656136990",
          "2024-08-20T12:31:42.714980364",
          "2024-08-20T12:31:42.763849974",
          "2024-08-20T12:31:42.821695328",
          "2024-08-20T12:31:42.879108429",
          "2024-08-20T12:31:42.943912029",
          "2024-08-20T12:31:43.009702921",
          "2024-08-20T12:31:43.071511984",
          "2024-08-20T12:31:43.133901834",
          "2024-08-20T12:31:43.203717709",
          "2024-08-20T12:31:43.261597157",
          "2024-08-20T12:31:43.326387167",
          "2024-08-20T12:31:43.394617081",
          "2024-08-20T12:31:43.464424372",
          "2024-08-20T12:31:43.518105029",
          "2024-08-20T12:31:43.583888292",
          "2024-08-20T12:31:43.646115065",
          "2024-08-20T12:31:43.712907553",
          "2024-08-20T12:31:43.773782730",
          "2024-08-20T12:31:43.840597391",
          "2024-08-20T12:31:43.906425953",
          "2024-08-20T12:31:43.967237234",
          "2024-08-20T12:31:44.030067205",
          "2024-08-20T12:31:44.103466988",
          "2024-08-20T12:31:44.162308455",
          "2024-08-20T12:31:44.223145008",
          "2024-08-20T12:31:44.291014671",
          "2024-08-20T12:31:44.349857092",
          "2024-08-20T12:31:44.415681124",
          "2024-08-20T12:31:44.479695797",
          "2024-08-20T12:31:44.542475224",
          "2024-08-20T12:31:44.613296270",
          "2024-08-20T12:31:44.672163725",
          "2024-08-20T12:31:44.734963417",
          "2024-08-20T12:31:44.800783157",
          "2024-08-20T12:31:44.875235319",
          "2024-08-20T12:31:44.934039116",
          "2024-08-20T12:31:44.991886139",
          "2024-08-20T12:31:45.054715633",
          "2024-08-20T12:31:45.123562574",
          "2024-08-20T12:31:45.184406042",
          "2024-08-20T12:31:45.253189325",
          "2024-08-20T12:31:45.314022064",
          "2024-08-20T12:31:45.391814232",
          "2024-08-20T12:31:45.503517866",
          "2024-08-20T12:31:45.563381672",
          "2024-08-20T12:31:45.625192165",
          "2024-08-20T12:31:45.689467907",
          "2024-08-20T12:31:45.743281364",
          "2024-08-20T12:31:45.799130917",
          "2024-08-20T12:31:45.849994183",
          "2024-08-20T12:31:45.911336899",
          "2024-08-20T12:31:45.973172188",
          "2024-08-20T12:31:46.031045198",
          "2024-08-20T12:31:46.077892065",
          "2024-08-20T12:31:46.141758204",
          "2024-08-20T12:31:46.209540129",
          "2024-08-20T12:31:46.271375179",
          "2024-08-20T12:31:46.336202383",
          "2024-08-20T12:31:46.402061224",
          "2024-08-20T12:31:46.463126421",
          "2024-08-20T12:31:46.525985479",
          "2024-08-20T12:31:46.593837023",
          "2024-08-20T12:31:46.663606167",
          "2024-08-20T12:31:46.721510649",
          "2024-08-20T12:31:46.782323599",
          "2024-08-20T12:31:46.850108624",
          "2024-08-20T12:31:46.921957970",
          "2024-08-20T12:31:46.977843285",
          "2024-08-20T12:31:47.038705826",
          "2024-08-20T12:31:47.102475882",
          "2024-08-20T12:31:47.169295788",
          "2024-08-20T12:31:47.230172157",
          "2024-08-20T12:31:47.304938078",
          "2024-08-20T12:31:47.368804932",
          "2024-08-20T12:31:47.427606583",
          "2024-08-20T12:31:47.491471767",
          "2024-08-20T12:31:47.555302143",
          "2024-08-20T12:31:47.623177528",
          "2024-08-20T12:31:47.811676741",
          "2024-08-20T12:31:47.827633619",
          "2024-08-20T12:31:47.877500534",
          "2024-08-20T12:31:47.938337326",
          "2024-08-20T12:31:47.984474659",
          "2024-08-20T12:31:48.027358532",
          "2024-08-20T12:31:48.088195324",
          "2024-08-20T12:31:48.136068344",
          "2024-08-20T12:31:48.191809654",
          "2024-08-20T12:31:48.256190538",
          "2024-08-20T12:31:48.321072102",
          "2024-08-20T12:31:48.382852077",
          "2024-08-20T12:31:48.445721865",
          "2024-08-20T12:31:48.511081219",
          "2024-08-20T12:31:48.576905251",
          "2024-08-20T12:31:48.638738394",
          "2024-08-20T12:31:48.701770544",
          "2024-08-20T12:31:48.774565697",
          "2024-08-20T12:31:48.831388712",
          "2024-08-20T12:31:48.893730640",
          "2024-08-20T12:31:48.961057901",
          "2024-08-20T12:31:49.028914213",
          "2024-08-20T12:31:49.090711117",
          "2024-08-20T12:31:49.154539824",
          "2024-08-20T12:31:49.213383436",
          "2024-08-20T12:31:49.279206991",
          "2024-08-20T12:31:49.345029116",
          "2024-08-20T12:31:49.405867100",
          "2024-08-20T12:31:49.473721266",
          "2024-08-20T12:31:49.545494080",
          "2024-08-20T12:31:49.602399588",
          "2024-08-20T12:31:49.663179159",
          "2024-08-20T12:31:49.729102612",
          "2024-08-20T12:31:49.791011810",
          "2024-08-20T12:31:49.853843212",
          "2024-08-20T12:31:49.919657946",
          "2024-08-20T12:31:49.983487844",
          "2024-08-20T12:31:50.046319723",
          "2024-08-20T12:31:50.110692024",
          "2024-08-20T12:31:50.174520016",
          "2024-08-20T12:31:50.238417864",
          "2024-08-20T12:31:50.303511620",
          "2024-08-20T12:31:50.366343737",
          "2024-08-20T12:31:50.432175159",
          "2024-08-20T12:31:50.505977631",
          "2024-08-20T12:31:50.560830355",
          "2024-08-20T12:31:50.670942068",
          "2024-08-20T12:31:50.726747036",
          "2024-08-20T12:31:50.789601564",
          "2024-08-20T12:31:50.825510979",
          "2024-08-20T12:31:50.890295744",
          "2024-08-20T12:31:50.943155289",
          "2024-08-20T12:31:51.012972832",
          "2024-08-20T12:31:51.074837446",
          "2024-08-20T12:31:51.134642601",
          "2024-08-20T12:31:51.200467348",
          "2024-08-20T12:31:51.273272991",
          "2024-08-20T12:31:51.336102962",
          "2024-08-20T12:31:51.389957905",
          "2024-08-20T12:31:51.454820395",
          "2024-08-20T12:31:51.517674922",
          "2024-08-20T12:31:51.586463928",
          "2024-08-20T12:31:51.646686554",
          "2024-08-20T12:31:51.712054014",
          "2024-08-20T12:31:51.782867193",
          "2024-08-20T12:31:51.838715792",
          "2024-08-20T12:31:51.903051376",
          "2024-08-20T12:31:51.967877626",
          "2024-08-20T12:31:52.030061007",
          "2024-08-20T12:31:52.102158070",
          "2024-08-20T12:31:52.168978691",
          "2024-08-20T12:31:52.222800970",
          "2024-08-20T12:31:52.292626858",
          "2024-08-20T12:31:52.351458549",
          "2024-08-20T12:31:52.418277025",
          "2024-08-20T12:31:52.481150866",
          "2024-08-20T12:31:52.541553497",
          "2024-08-20T12:31:52.606345415",
          "2024-08-20T12:31:52.673228025",
          "2024-08-20T12:31:52.735998154",
          "2024-08-20T12:31:52.798882484",
          "2024-08-20T12:31:52.862711668",
          "2024-08-20T12:31:52.927570105",
          "2024-08-20T12:31:52.990370035",
          "2024-08-20T12:31:53.070696592",
          "2024-08-20T12:31:53.131572007",
          "2024-08-20T12:31:53.195363998",
          "2024-08-20T12:31:53.245267153",
          "2024-08-20T12:31:53.310670376",
          "2024-08-20T12:31:53.375495911",
          "2024-08-20T12:31:53.440849304",
          "2024-08-20T12:31:53.502685069",
          "2024-08-20T12:31:53.581473112",
          "2024-08-20T12:31:53.671237707",
          "2024-08-20T12:31:53.730012655",
          "2024-08-20T12:31:53.778313637",
          "2024-08-20T12:31:53.833030939",
          "2024-08-20T12:31:53.893876076",
          "2024-08-20T12:31:53.949759483",
          "2024-08-20T12:31:54.014583826",
          "2024-08-20T12:31:54.080477238",
          "2024-08-20T12:31:54.146250486",
          "2024-08-20T12:31:54.208119631",
          "2024-08-20T12:31:54.272945881",
          "2024-08-20T12:31:54.337438822",
          "2024-08-20T12:31:54.401267767",
          "2024-08-20T12:31:54.464104652",
          "2024-08-20T12:31:54.525992393",
          "2024-08-20T12:31:54.604726553",
          "2024-08-20T12:31:54.660574675",
          "2024-08-20T12:31:54.717456818",
          "2024-08-20T12:31:54.788233280",
          "2024-08-20T12:31:54.846078873",
          "2024-08-20T12:31:54.909790993",
          "2024-08-20T12:31:54.976554394",
          "2024-08-20T12:31:55.039385557",
          "2024-08-20T12:31:55.105245590",
          "2024-08-20T12:31:55.171085119",
          "2024-08-20T12:31:55.230873108",
          "2024-08-20T12:31:55.299697399",
          "2024-08-20T12:31:55.362556934",
          "2024-08-20T12:31:55.429852486",
          "2024-08-20T12:31:55.490688562",
          "2024-08-20T12:31:55.549531460",
          "2024-08-20T12:31:55.615355253",
          "2024-08-20T12:31:55.682177305",
          "2024-08-20T12:31:55.744011879",
          "2024-08-20T12:31:55.807841063",
          "2024-08-20T12:31:55.870673656",
          "2024-08-20T12:31:55.949462414",
          "2024-08-20T12:31:56.003352642",
          "2024-08-20T12:31:56.067021132",
          "2024-08-20T12:31:56.125862597",
          "2024-08-20T12:31:56.193681240",
          "2024-08-20T12:31:56.253522635",
          "2024-08-20T12:31:56.318383694",
          "2024-08-20T12:31:56.386166811",
          "2024-08-20T12:31:56.448000908",
          "2024-08-20T12:31:56.512829065",
          "2024-08-20T12:31:56.583638668",
          "2024-08-20T12:31:56.640494585",
          "2024-08-20T12:31:56.703325510",
          "2024-08-20T12:31:56.767193556",
          "2024-08-20T12:31:56.835482836",
          "2024-08-20T12:31:56.902304649",
          "2024-08-20T12:31:56.962438345",
          "2024-08-20T12:31:57.025873184",
          "2024-08-20T12:31:57.087665081",
          "2024-08-20T12:31:57.154531956",
          "2024-08-20T12:31:57.214373350",
          "2024-08-20T12:31:57.293160200",
          "2024-08-20T12:31:57.345025063",
          "2024-08-20T12:31:57.412839890",
          "2024-08-20T12:31:57.473701954",
          "2024-08-20T12:31:57.534539223",
          "2024-08-20T12:31:57.604353428",
          "2024-08-20T12:31:57.663195133",
          "2024-08-20T12:31:57.726027727",
          "2024-08-20T12:31:57.791850805",
          "2024-08-20T12:31:57.855682135",
          "2024-08-20T12:31:57.919509649",
          "2024-08-20T12:31:57.984847546",
          "2024-08-20T12:31:58.048672438",
          "2024-08-20T12:31:58.114497423",
          "2024-08-20T12:31:58.232179642",
          "2024-08-20T12:31:58.303023338",
          "2024-08-20T12:31:58.362874031",
          "2024-08-20T12:31:58.422821522",
          "2024-08-20T12:31:58.476673603",
          "2024-08-20T12:31:58.501605749",
          "2024-08-20T12:31:58.569931507",
          "2024-08-20T12:31:58.628283978",
          "2024-08-20T12:31:58.687161207",
          "2024-08-20T12:31:58.754455805",
          "2024-08-20T12:31:58.874644995",
          "2024-08-20T12:31:58.942510366",
          "2024-08-20T12:31:59.005335093",
          "2024-08-20T12:31:59.067801952",
          "2024-08-20T12:31:59.130631208",
          "2024-08-20T12:31:59.181493998",
          "2024-08-20T12:31:59.239844561",
          "2024-08-20T12:31:59.299728394",
          "2024-08-20T12:31:59.346602917",
          "2024-08-20T12:31:59.392479658",
          "2024-08-20T12:31:59.455312490",
          "2024-08-20T12:31:59.519181966",
          "2024-08-20T12:31:59.584981441",
          "2024-08-20T12:31:59.647796392",
          "2024-08-20T12:31:59.710932016",
          "2024-08-20T12:31:59.783735514",
          "2024-08-20T12:31:59.839586020",
          "2024-08-20T12:31:59.903450012",
          "2024-08-20T12:31:59.966248512",
          "2024-08-20T12:32:00.031110048",
          "2024-08-20T12:32:00.101887941",
          "2024-08-20T12:32:00.159729958",
          "2024-08-20T12:32:00.222562075",
          "2024-08-20T12:32:00.287391663",
          "2024-08-20T12:32:00.352120399",
          "2024-08-20T12:32:00.413935184",
          "2024-08-20T12:32:00.478729010",
          "2024-08-20T12:32:00.542225122",
          "2024-08-20T12:32:00.610045195",
          "2024-08-20T12:32:00.671614647",
          "2024-08-20T12:32:00.735095501",
          "2024-08-20T12:32:00.799942493",
          "2024-08-20T12:32:00.863315344",
          "2024-08-20T12:32:00.928106546",
          "2024-08-20T12:32:01.008890390",
          "2024-08-20T12:32:01.070760727",
          "2024-08-20T12:32:01.117598772",
          "2024-08-20T12:32:01.181464672",
          "2024-08-20T12:32:01.245420218",
          "2024-08-20T12:32:01.314198017",
          "2024-08-20T12:32:01.377030849",
          "2024-08-20T12:32:01.439896584",
          "2024-08-20T12:32:01.512666941",
          "2024-08-20T12:32:01.589461088",
          "2024-08-20T12:32:01.634341002",
          "2024-08-20T12:32:01.695178032",
          "2024-08-20T12:32:01.761003256",
          "2024-08-20T12:32:01.821839809",
          "2024-08-20T12:32:01.885703325",
          "2024-08-20T12:32:01.950496435",
          "2024-08-20T12:32:02.016355275",
          "2024-08-20T12:32:02.079560041",
          "2024-08-20T12:32:02.147934437",
          "2024-08-20T12:32:02.205846548",
          "2024-08-20T12:32:02.270641804",
          "2024-08-20T12:32:02.344480515",
          "2024-08-20T12:32:02.461406469",
          "2024-08-20T12:32:02.517229556",
          "2024-08-20T12:32:02.564082146",
          "2024-08-20T12:32:02.629870892",
          "2024-08-20T12:32:02.699684858",
          "2024-08-20T12:32:02.746571541",
          "2024-08-20T12:32:02.795462847",
          "2024-08-20T12:32:02.853273153",
          "2024-08-20T12:32:02.914112091",
          "2024-08-20T12:32:02.973954678",
          "2024-08-20T12:32:03.051743984",
          "2024-08-20T12:32:03.102615833",
          "2024-08-20T12:32:03.168430090",
          "2024-08-20T12:32:03.248250484",
          "2024-08-20T12:32:03.296088934",
          "2024-08-20T12:32:03.361934662",
          "2024-08-20T12:32:03.423750877",
          "2024-08-20T12:32:03.487687349",
          "2024-08-20T12:32:03.550518513",
          "2024-08-20T12:32:03.618339300",
          "2024-08-20T12:32:03.692140341",
          "2024-08-20T12:32:03.742039919",
          "2024-08-20T12:32:03.805836201",
          "2024-08-20T12:32:03.872937918",
          "2024-08-20T12:32:03.934771776",
          "2024-08-20T12:32:04.138708115",
          "2024-08-20T12:32:04.162652016",
          "2024-08-20T12:32:04.215462923",
          "2024-08-20T12:32:04.261340141",
          "2024-08-20T12:32:04.305223465",
          "2024-08-20T12:32:04.367092133",
          "2024-08-20T12:32:04.410940409",
          "2024-08-20T12:32:04.457854271",
          "2024-08-20T12:32:04.517654896",
          "2024-08-20T12:32:04.580527544",
          "2024-08-20T12:32:04.637335539",
          "2024-08-20T12:32:04.706151247",
          "2024-08-20T12:32:04.765990496",
          "2024-08-20T12:32:04.830850601",
          "2024-08-20T12:32:04.894646168",
          "2024-08-20T12:32:04.958475590",
          "2024-08-20T12:32:05.028358459",
          "2024-08-20T12:32:05.090869427",
          "2024-08-20T12:32:05.155694008",
          "2024-08-20T12:32:05.220520258",
          "2024-08-20T12:32:05.280360222",
          "2024-08-20T12:32:05.344203472",
          "2024-08-20T12:32:05.416617870",
          "2024-08-20T12:32:05.473434925",
          "2024-08-20T12:32:05.533270836",
          "2024-08-20T12:32:05.599692583",
          "2024-08-20T12:32:05.668574572",
          "2024-08-20T12:32:05.727350950",
          "2024-08-20T12:32:05.791183472",
          "2024-08-20T12:32:05.854014158",
          "2024-08-20T12:32:05.924823761",
          "2024-08-20T12:32:05.983665466",
          "2024-08-20T12:32:06.046497345",
          "2024-08-20T12:32:06.113318920",
          "2024-08-20T12:32:06.185126543",
          "2024-08-20T12:32:06.244966507",
          "2024-08-20T12:32:06.305804491",
          "2024-08-20T12:32:06.427478552",
          "2024-08-20T12:32:06.476348162",
          "2024-08-20T12:32:06.519232987",
          "2024-08-20T12:32:06.580214500",
          "2024-08-20T12:32:06.640358686",
          "2024-08-20T12:32:06.689215422",
          "2024-08-20T12:32:06.750109673",
          "2024-08-20T12:32:06.817869663",
          "2024-08-20T12:32:06.883101940",
          "2024-08-20T12:32:06.941977024",
          "2024-08-20T12:32:07.051910162",
          "2024-08-20T12:32:07.107870817",
          "2024-08-20T12:32:07.159778595",
          "2024-08-20T12:32:07.225763559",
          "2024-08-20T12:32:07.280441046",
          "2024-08-20T12:32:07.327314854",
          "2024-08-20T12:32:07.392040730",
          "2024-08-20T12:32:07.453844547",
          "2024-08-20T12:32:07.519663572",
          "2024-08-20T12:32:07.585496664",
          "2024-08-20T12:32:07.646383524",
          "2024-08-20T12:32:07.712150097",
          "2024-08-20T12:32:07.776016474",
          "2024-08-20T12:32:07.839809179",
          "2024-08-20T12:32:07.902639627",
          "2024-08-20T12:32:07.965471029",
          "2024-08-20T12:32:08.032032250",
          "2024-08-20T12:32:08.093867064",
          "2024-08-20T12:32:08.167701006",
          "2024-08-20T12:32:08.227540970",
          "2024-08-20T12:32:08.295396090",
          "2024-08-20T12:32:08.349215508",
          "2024-08-20T12:32:08.416072607",
          "2024-08-20T12:32:08.480871439",
          "2024-08-20T12:32:08.542946577",
          "2024-08-20T12:32:08.606839895",
          "2024-08-20T12:32:08.670669317",
          "2024-08-20T12:32:08.748494625",
          "2024-08-20T12:32:08.810294867",
          "2024-08-20T12:32:08.870174646",
          "2024-08-20T12:32:08.929901600",
          "2024-08-20T12:32:08.990741253",
          "2024-08-20T12:32:09.054567575",
          "2024-08-20T12:32:09.119748592",
          "2024-08-20T12:32:09.183618307",
          "2024-08-20T12:32:09.246409178",
          "2024-08-20T12:32:09.310237885",
          "2024-08-20T12:32:09.376274586",
          "2024-08-20T12:32:09.444119215",
          "2024-08-20T12:32:09.505930185",
          "2024-08-20T12:32:09.570753813",
          "2024-08-20T12:32:09.633613825",
          "2024-08-20T12:32:09.695421457",
          "2024-08-20T12:32:09.758251190",
          "2024-08-20T12:32:09.823078632",
          "2024-08-20T12:32:09.892893553",
          "2024-08-20T12:32:09.950737238",
          "2024-08-20T12:32:10.014777422",
          "2024-08-20T12:32:10.086585045",
          "2024-08-20T12:32:10.141972303",
          "2024-08-20T12:32:10.210790157",
          "2024-08-20T12:32:10.270623446",
          "2024-08-20T12:32:10.334451199",
          "2024-08-20T12:32:10.401107311",
          "2024-08-20T12:32:10.475941658",
          "2024-08-20T12:32:10.526770592",
          "2024-08-20T12:32:10.592339277",
          "2024-08-20T12:32:10.654148579",
          "2024-08-20T12:32:10.718975782",
          "2024-08-20T12:32:10.782802105",
          "2024-08-20T12:32:10.848627567",
          "2024-08-20T12:32:10.910460711",
          "2024-08-20T12:32:10.977282286",
          "2024-08-20T12:32:11.039152861",
          "2024-08-20T12:32:11.103947401",
          "2024-08-20T12:32:11.167773247",
          "2024-08-20T12:32:11.229755402",
          "2024-08-20T12:32:11.300566435",
          "2024-08-20T12:32:11.360479593",
          "2024-08-20T12:32:11.429301023",
          "2024-08-20T12:32:11.491092443",
          "2024-08-20T12:32:11.549935341",
          "2024-08-20T12:32:11.614765167",
          "2024-08-20T12:32:11.678591490",
          "2024-08-20T12:32:11.881561279",
          "2024-08-20T12:32:11.898514748",
          "2024-08-20T12:32:11.957359314",
          "2024-08-20T12:32:12.000243187",
          "2024-08-20T12:32:12.059998989",
          "2024-08-20T12:32:12.107871294",
          "2024-08-20T12:32:12.150756359",
          "2024-08-20T12:32:12.212984085",
          "2024-08-20T12:32:12.266843080",
          "2024-08-20T12:32:12.333659649",
          "2024-08-20T12:32:12.400614738",
          "2024-08-20T12:32:12.452477217",
          "2024-08-20T12:32:12.509835005",
          "2024-08-20T12:32:12.584639788",
          "2024-08-20T12:32:12.639522791",
          "2024-08-20T12:32:12.704347134",
          "2024-08-20T12:32:12.766216516",
          "2024-08-20T12:32:12.831049442",
          "2024-08-20T12:32:12.897837639",
          "2024-08-20T12:32:12.957735538",
          "2024-08-20T12:32:13.023500681",
          "2024-08-20T12:32:13.087365866",
          "2024-08-20T12:32:13.162170649",
          "2024-08-20T12:32:13.215023041",
          "2024-08-20T12:32:13.280812502",
          "2024-08-20T12:32:13.341650486",
          "2024-08-20T12:32:13.405478477",
          "2024-08-20T12:32:13.470162392",
          "2024-08-20T12:32:13.536520719",
          "2024-08-20T12:32:13.601319313",
          "2024-08-20T12:32:13.662052870",
          "2024-08-20T12:32:13.725847721",
          "2024-08-20T12:32:13.791673660",
          "2024-08-20T12:32:13.853515148",
          "2024-08-20T12:32:13.930917978",
          "2024-08-20T12:32:13.993786335",
          "2024-08-20T12:32:14.059574604",
          "2024-08-20T12:32:14.110471010",
          "2024-08-20T12:32:14.175262690",
          "2024-08-20T12:32:14.239600658",
          "2024-08-20T12:32:14.304803610",
          "2024-08-20T12:32:14.370627165",
          "2024-08-20T12:32:14.430467367",
          "2024-08-20T12:32:14.494708300",
          "2024-08-20T12:32:14.558565378",
          "2024-08-20T12:32:14.631342411",
          "2024-08-20T12:32:14.685559273",
          "2024-08-20T12:32:14.750857830",
          "2024-08-20T12:32:14.813715219",
          "2024-08-20T12:32:14.879512548",
          "2024-08-20T12:32:14.945337057",
          "2024-08-20T12:32:15.009166241",
          "2024-08-20T12:32:15.070513248",
          "2024-08-20T12:32:15.136845350",
          "2024-08-20T12:32:15.243623495",
          "2024-08-20T12:32:15.292493105",
          "2024-08-20T12:32:15.336418152",
          "2024-08-20T12:32:15.403240204",
          "2024-08-20T12:32:15.460046530",
          "2024-08-20T12:32:15.519924878",
          "2024-08-20T12:32:15.582721472",
          "2024-08-20T12:32:15.646606445",
          "2024-08-20T12:32:15.718358517",
          "2024-08-20T12:32:15.777199030",
          "2024-08-20T12:32:15.840064526",
          "2024-08-20T12:32:15.907848120",
          "2024-08-20T12:32:15.965693712",
          "2024-08-20T12:32:16.031555175",
          "2024-08-20T12:32:16.096345186",
          "2024-08-20T12:32:16.159226656",
          "2024-08-20T12:32:16.222518921",
          "2024-08-20T12:32:16.286342859",
          "2024-08-20T12:32:16.351169825",
          "2024-08-20T12:32:16.413003683",
          "2024-08-20T12:32:16.480856419",
          "2024-08-20T12:32:16.542655945",
          "2024-08-20T12:32:16.610476255",
          "2024-08-20T12:32:16.670314550",
          "2024-08-20T12:32:16.734145641",
          "2024-08-20T12:32:16.799000502",
          "2024-08-20T12:32:16.881431103",
          "2024-08-20T12:32:16.929389238",
          "2024-08-20T12:32:16.989288330",
          "2024-08-20T12:32:17.056051016",
          "2024-08-20T12:32:17.117888451",
          "2024-08-20T12:32:17.183228970",
          "2024-08-20T12:32:17.246451139",
          "2024-08-20T12:32:17.311335325",
          "2024-08-20T12:32:17.374109983",
          "2024-08-20T12:32:17.440968990",
          "2024-08-20T12:32:17.502764702",
          "2024-08-20T12:32:17.568790674",
          "2024-08-20T12:32:17.629988670",
          "2024-08-20T12:32:17.707792282",
          "2024-08-20T12:32:17.769598246",
          "2024-08-20T12:32:17.823451996",
          "2024-08-20T12:32:17.886348248",
          "2024-08-20T12:32:17.957094431",
          "2024-08-20T12:32:18.015938759",
          "2024-08-20T12:32:18.084788322",
          "2024-08-20T12:32:18.142599106",
          "2024-08-20T12:32:18.207425594",
          "2024-08-20T12:32:18.270257473",
          "2024-08-20T12:32:18.335122108",
          "2024-08-20T12:32:18.399975538",
          "2024-08-20T12:32:18.470842600",
          "2024-08-20T12:32:18.525648832",
          "2024-08-20T12:32:18.590513945",
          "2024-08-20T12:32:18.657296419",
          "2024-08-20T12:32:18.718192339",
          "2024-08-20T12:32:18.782960415",
          "2024-08-20T12:32:18.847694159",
          "2024-08-20T12:32:18.910487652",
          "2024-08-20T12:32:18.975023031",
          "2024-08-20T12:32:19.037863016",
          "2024-08-20T12:32:19.103645325",
          "2024-08-20T12:32:19.172459364",
          "2024-08-20T12:32:19.240307093",
          "2024-08-20T12:32:19.297124147",
          "2024-08-20T12:32:19.359956264",
          "2024-08-20T12:32:19.425780773",
          "2024-08-20T12:32:19.623049498",
          "2024-08-20T12:32:19.641996622",
          "2024-08-20T12:32:19.698847055",
          "2024-08-20T12:32:19.756545067",
          "2024-08-20T12:32:19.804416180",
          "2024-08-20T12:32:19.850294828",
          "2024-08-20T12:32:19.894176245",
          "2024-08-20T12:32:19.955012321",
          "2024-08-20T12:32:20.001924038",
          "2024-08-20T12:32:20.070703506",
          "2024-08-20T12:32:20.132539988",
          "2024-08-20T12:32:20.191419840",
          "2024-08-20T12:32:20.262194872",
          "2024-08-20T12:32:20.322516203",
          "2024-08-20T12:32:20.387259722",
          "2024-08-20T12:32:20.446102619",
          "2024-08-20T12:32:20.520902157",
          "2024-08-20T12:32:20.584731817",
          "2024-08-20T12:32:20.653100014",
          "2024-08-20T12:32:20.706911802",
          "2024-08-20T12:32:20.771246910",
          "2024-08-20T12:32:20.832086563",
          "2024-08-20T12:32:20.895421505",
          "2024-08-20T12:32:20.959251165",
          "2024-08-20T12:32:21.024112225",
          "2024-08-20T12:32:21.086937666",
          "2024-08-20T12:32:21.150739670",
          "2024-08-20T12:32:21.215182066",
          "2024-08-20T12:32:21.288241148",
          "2024-08-20T12:32:21.342065573",
          "2024-08-20T12:32:21.407263279",
          "2024-08-20T12:32:21.483011246",
          "2024-08-20T12:32:21.532878399",
          "2024-08-20T12:32:21.599734306",
          "2024-08-20T12:32:21.667518377",
          "2024-08-20T12:32:21.730396748",
          "2024-08-20T12:32:21.791186571",
          "2024-08-20T12:32:21.855018854",
          "2024-08-20T12:32:21.920847893",
          "2024-08-20T12:32:21.982674122",
          "2024-08-20T12:32:22.189171791",
          "2024-08-20T12:32:22.202137947",
          "2024-08-20T12:32:22.256990194",
          "2024-08-20T12:32:22.320201874",
          "2024-08-20T12:32:22.365945339",
          "2024-08-20T12:32:22.409827948",
          "2024-08-20T12:32:22.457733631",
          "2024-08-20T12:32:22.516542673",
          "2024-08-20T12:32:22.564417124",
          "2024-08-20T12:32:22.622356653",
          "2024-08-20T12:32:22.687514067",
          "2024-08-20T12:32:22.750309229",
          "2024-08-20T12:32:22.818037748",
          "2024-08-20T12:32:22.886855364",
          "2024-08-20T12:32:22.941748381",
          "2024-08-20T12:32:23.005697012",
          "2024-08-20T12:32:23.077054977",
          "2024-08-20T12:32:23.133903503",
          "2024-08-20T12:32:23.235785723",
          "2024-08-20T12:32:23.298555374",
          "2024-08-20T12:32:23.360395193",
          "2024-08-20T12:32:23.415242434",
          "2024-08-20T12:32:23.455136061",
          "2024-08-20T12:32:23.520959139",
          "2024-08-20T12:32:23.591769695",
          "2024-08-20T12:32:23.645626307",
          "2024-08-20T12:32:23.709454775",
          "2024-08-20T12:32:23.781263590",
          "2024-08-20T12:32:23.837112904",
          "2024-08-20T12:32:23.903935671",
          "2024-08-20T12:32:23.965770245",
          "2024-08-20T12:32:24.034584522",
          "2024-08-20T12:32:24.102404833",
          "2024-08-20T12:32:24.158255816",
          "2024-08-20T12:32:24.223082304",
          "2024-08-20T12:32:24.300907373",
          "2024-08-20T12:32:24.357778549",
          "2024-08-20T12:32:24.416562796",
          "2024-08-20T12:32:24.479396105",
          "2024-08-20T12:32:24.543224573",
          "2024-08-20T12:32:24.606056452",
          "2024-08-20T12:32:24.671190023",
          "2024-08-20T12:32:24.737014294",
          "2024-08-20T12:32:24.801352024",
          "2024-08-20T12:32:24.864221811",
          "2024-08-20T12:32:24.932000160",
          "2024-08-20T12:32:24.992837667",
          "2024-08-20T12:32:25.054672956",
          "2024-08-20T12:32:25.118500710",
          "2024-08-20T12:32:25.195301294",
          "2024-08-20T12:32:25.253140926",
          "2024-08-20T12:32:25.311498642",
          "2024-08-20T12:32:25.375326633",
          "2024-08-20T12:32:25.440153599",
          "2024-08-20T12:32:25.641125202",
          "2024-08-20T12:32:25.657083750",
          "2024-08-20T12:32:25.720910788",
          "2024-08-20T12:32:25.765789747",
          "2024-08-20T12:32:25.811667442",
          "2024-08-20T12:32:25.873502493",
          "2024-08-20T12:32:25.917384863",
          "2024-08-20T12:32:25.965266705",
          "2024-08-20T12:32:26.015124083",
          "2024-08-20T12:32:26.081945181",
          "2024-08-20T12:32:26.143970490",
          "2024-08-20T12:32:26.207308531",
          "2024-08-20T12:32:26.277124882",
          "2024-08-20T12:32:26.335473299",
          "2024-08-20T12:32:26.399356604",
          "2024-08-20T12:32:26.469116211",
          "2024-08-20T12:32:26.526027203",
          "2024-08-20T12:32:26.599806547",
          "2024-08-20T12:32:26.662598610",
          "2024-08-20T12:32:26.719447613",
          "2024-08-20T12:32:26.787300110",
          "2024-08-20T12:32:26.846109152",
          "2024-08-20T12:32:26.909974575",
          "2024-08-20T12:32:26.982742786",
          "2024-08-20T12:32:27.039618492",
          "2024-08-20T12:32:27.109428883",
          "2024-08-20T12:32:27.168270826",
          "2024-08-20T12:32:27.244070053",
          "2024-08-20T12:32:27.300915718",
          "2024-08-20T12:32:27.358763456",
          "2024-08-20T12:32:27.430572271",
          "2024-08-20T12:32:27.495396614",
          "2024-08-20T12:32:27.552243471",
          "2024-08-20T12:32:27.618986607",
          "2024-08-20T12:32:27.679826498",
          "2024-08-20T12:32:27.744651794",
          "2024-08-20T12:32:27.811474085",
          "2024-08-20T12:32:27.871311665",
          "2024-08-20T12:32:27.938232660",
          "2024-08-20T12:32:28.007043123",
          "2024-08-20T12:32:28.066883086",
          "2024-08-20T12:32:28.126723528",
          "2024-08-20T12:32:28.193597555",
          "2024-08-20T12:32:28.260417461",
          "2024-08-20T12:32:28.320315361",
          "2024-08-20T12:32:28.384086132",
          "2024-08-20T12:32:28.446953297",
          "2024-08-20T12:32:28.518725634",
          "2024-08-20T12:32:28.576572895",
          "2024-08-20T12:32:28.641489267",
          "2024-08-20T12:32:28.702045441",
          "2024-08-20T12:32:28.767858028",
          "2024-08-20T12:32:28.830724716",
          "2024-08-20T12:32:28.896514893",
          "2024-08-20T12:32:28.961437941",
          "2024-08-20T12:32:29.023036718",
          "2024-08-20T12:32:29.086858511",
          "2024-08-20T12:32:29.150660276",
          "2024-08-20T12:32:29.214490175",
          "2024-08-20T12:32:29.280347824",
          "2024-08-20T12:32:29.347641230",
          "2024-08-20T12:32:29.408477068",
          "2024-08-20T12:32:29.473303795",
          "2024-08-20T12:32:29.534140825",
          "2024-08-20T12:32:29.855006218",
          "2024-08-20T12:32:29.918835640",
          "2024-08-20T12:32:29.984659910",
          "2024-08-20T12:32:30.048488617",
          "2024-08-20T12:32:30.111320496",
          "2024-08-20T12:32:30.174177170",
          "2024-08-20T12:32:30.241478205",
          "2024-08-20T12:32:30.304310322",
          "2024-08-20T12:32:30.433924198",
          "2024-08-20T12:32:30.561550379",
          "2024-08-20T12:32:30.623412132",
          "2024-08-20T12:32:30.879150867",
          "2024-08-20T12:32:30.955455780",
          "2024-08-20T12:32:31.006345749",
          "2024-08-20T12:32:31.084110022",
          "2024-08-20T12:32:31.133013964",
          "2024-08-20T12:32:31.203535080",
          "2024-08-20T12:32:31.271354437",
          "2024-08-20T12:32:31.326326847",
          "2024-08-20T12:32:31.408055782",
          "2024-08-20T12:32:31.458920002",
          "2024-08-20T12:32:31.552667856",
          "2024-08-20T12:32:31.591563702",
          "2024-08-20T12:32:31.650408030",
          "2024-08-20T12:32:31.710282564",
          "2024-08-20T12:32:31.973545551",
          "2024-08-20T12:32:32.223783493",
          "2024-08-20T12:32:32.423932314",
          "2024-08-20T12:32:32.738783121",
          "2024-08-20T12:32:32.862452507",
          "2024-08-20T12:32:33.061918974",
          "2024-08-20T12:32:33.247426987",
          "2024-08-20T12:32:33.823216915",
          "2024-08-20T12:32:34.142103195",
          "2024-08-20T12:32:34.463746071",
          "2024-08-20T12:32:34.525631427",
          "2024-08-20T12:32:34.784605265",
          "2024-08-20T12:32:34.915297985",
          "2024-08-20T12:32:35.038368940",
          "2024-08-20T12:32:35.101213455",
          "2024-08-20T12:32:35.296691179",
          "2024-08-20T12:32:35.615374088",
          "2024-08-20T12:32:35.679830551",
          "2024-08-20T12:32:36.198305845",
          "2024-08-20T12:32:36.578244925",
          "2024-08-20T12:32:36.768796206",
          "2024-08-20T12:32:37.278991222",
          "2024-08-20T12:32:37.345320702",
          "2024-08-20T12:32:37.534350395",
          "2024-08-20T12:32:37.730824471",
          "2024-08-20T12:32:38.691833019"
         ],
         "xaxis": "x2",
         "y": {
          "bdata": "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",
          "dtype": "f8"
         },
         "yaxis": "y2"
        },
        {
         "marker": {
          "color": "lightcoral"
         },
         "name": "Distribution",
         "nbinsx": 30,
         "opacity": 0.7,
         "type": "histogram",
         "x": {
          "bdata": "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",
          "dtype": "f8"
         },
         "xaxis": "x3",
         "yaxis": "y3"
        },
        {
         "line": {
          "color": "lightcoral",
          "width": 1
         },
         "mode": "lines",
         "name": "Raw",
         "opacity": 0.5,
         "type": "scatter",
         "x": {
          "bdata": "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",
          "dtype": "i2"
         },
         "xaxis": "x4",
         "y": {
          "bdata": "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",
          "dtype": "f8"
         },
         "yaxis": "y4"
        },
        {
         "line": {
          "color": "darkred",
          "width": 3
         },
         "mode": "lines",
         "name": "Smoothed (n=47)",
         "type": "scatter",
         "x": {
          "bdata": "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",
          "dtype": "i2"
         },
         "xaxis": "x4",
         "y": {
          "bdata": "AAAAAAAA+H8AAAAAAAD4fwAAAAAAAPh/AAAAAAAA+H8AAAAAAAD4fwAAAAAAAPh/AAAAAAAA+H8AAAAAAAD4fwAAAAAAAPh/AAAAAAAA+H8AAAAAAAD4fwAAAAAAAPh/AAAAAAAA+H8AAAAAAAD4fwAAAAAAAPh/AAAAAAAA+H8AAAAAAAD4fwAAAAAAAPh/AAAAAAAA+H8AAAAAAAD4fwAAAAAAAPh/AAAAAAAA+H8AAAAAAAD4f1exXdq64gNAo4URdH/fA0AJtNxvI9oDQADL5E7i0wNA6p4lX3rQA0BKfAykFMgDQMydWECwxANA6hqLeZa+A0BglxrUtrgDQGFGjNNMtgNAAhtoVdmvA0A+R6AOq6kDQIuCVlKipgNAWTt+WuijA0DsnbbNQaIDQBFsmTBPoQNATNgNsSCjA0CFuYft46ADQD7UReRWoQNAtrzQ8vOeA0BhRNSUnpwDQDiftqxknANAOrfxfRaaA0CmySXHO5sDQOWW2W5wlgNAbvsGEsiRA0DGP+7w8IsDQHCW3Zl1hwNA3vGPzQmDA0DfuLuBK4IDQAqlchCHgANAKbzaJoeAA0CLkK8qQH8DQBI1nOq9fQNAE/+cVtV+A0AVHrcRWoIDQIzskmtrhwNAfoZFe8uLA0CssgOL35IDQOF14gRAlwNAUo5ylEGaA0ADR6D2uZcDQO9TkxlklANAKpmzj52RA0B5yfr3A4oDQNuyOE50ggNAE7iohF96A0AIJOHiTnIDQBWGEJUBagNAjuy73B5gA0ChCicnFloDQCdQ/CbTTgNAD2uXFQBHA0DfKzVoIDgDQOPb0N1RLwNAY4smiOklA0ADXMQRZRcDQFkWUjofDgNAxRX/jZoCA0BD55G3/PQCQLgP9qk45AJAxEjZR/7TAkBCoKKLhb8CQPvb2fY0qQJA9KqfS1OTAkBW+gE1c34CQDDs+2rBZwJA64zOgO1QAkCju2wcmzgCQP+vqWPOIgJAZdVNwKELAkBZK7CyvfQBQCefZjF63wFAiiGHXZvIAUC2FpqicbIBQKS8rBu7mgFAsSnJUKaAAUA1ymXsH2kBQDOeNVV9UQFAYP93X2M7AUAGRi4YXyYBQCXNRJ5sDgFAPPGuJo33AEAb522T6OAAQH+C9v6EywBAT76jorKzAEBOIz3Cl5wAQBvBprS8iQBA2PUpQt94AEA5qnaRN2gAQOLtp7L6VgBA4bd97pRIAEBVxkmoJjoAQOdr8S2zKwBAUn875OUcAEB7apwHeA4AQD1rm5oqBABA4Z4aJCrv/z8LPsXFddn/P9c4V8E3xP8/jj6s3n+0/z8t3JLsq53/P93DV+m2iP8/hMxaHzl6/z87iCWyaGn/P/zEaoREWP8/fI0WBmBC/z9qgT8yrTT/P1uueTKQJP8/eyDki+Ac/z+4x6OyjRf/PzQC+MsBE/8/T7PCKDcM/z+8BTrZ1Qb/PxurUY/mA/8/SL2jkRb//j8IhcU4RPr+PzEijd3/+P4/SuA5Zpb5/j9tT0tcN/n+P+a8EVaJ+v4/09Gemvj6/j/UMypJ+v3+P8Q1M2+UAv8/8MPGhaEH/z9Eb03KOA3/P1riIlQyFP8/LKrQcMEX/z9LvDy6EBr/P4C2jC+IHv8/bH9Sq7Em/z8A1Z8Oqyz/PyPChPMgMf8/P5xlF6U2/z9SnVVABD7/P4vDj93MRf8/AQObt8lT/z+IS00xRmL/P8UqJa5AbP8/eevuucd0/z+Qsd/BL33/P4ByXry6hf8/Y6DxebiY/z8p1GBQM6f/Pw4mNfrWtv8/ily4u6fG/z+4XyKo487/P5/K64SY1/8/Uq+zwIvh/z97JCtIiub/PxON78Gs7P8/+RxpqFjy/z+plujOQfj/P+ZBDPRWAgBAqmGmdokEAEDn9e6G6wcAQEFg4OKbCgBAzmR+ONQQAEC3cZkz4BUAQLdGROlQGgBA5nQ/9VAiAEA2kNWEKSgAQM2vbd5hLABAnMxDHNMwAEDH89XhWDYAQLi/mhjiMwBA1mkbX2QzAEB77rzxoTMAQBanUeXCNgBABqks2g06AEDJUySOtDsAQP/RQvglOwBA7PyD+Hk6AECh8rmgmDkAQA5QWALsKwBABRgp6l0xAECXpvUBrjMAQLD8nDxMGQBAM2PcVmcMAECn83btqvj/P6nlTqj53f8/qtxO96jQ/z/WO9+0FsD/P4zGN6WVsP8/bnR+PFSc/z+A1PtkS4v/P1kKsGo2e/8/AVpOR7h+/z810q1pWGz/P/gMoQgxUv8/XXZ6jBg//z+WoDmZHiz/P8qsyI+EEv8/ao1vGScA/z9ES5dAN+v+P+3PeYaY0v4/ZVOLpUbB/j8WtY5Z4a3+P+FJFQoimf4/liqGl56E/j+fB+hp7Wr+P9YKgiO4V/4/XiNJRdtC/j/BQSk6MS/+P7AqL9DfE/4/ASDWePD5/T+D6UrhLN39PybBolJ3uv0/rj4rjMuW/T/hiYcWRnf9PyVJIaRyV/0/z5ZtmDs7/T92mAioiyn9P9twzZvJEP0/1ll78vT0/D/MvbnwfdT8P8AOZBF0svw/RbK45paS/D9tIBkgBXf8P8FRJ9lsXPw/J/SnZRRA/D8DJuJc9UD8PxDZ+BkHGvw/rCJdn2n7+z9yyBTEOhH8P18MMGsrDfw/ADNe6Q4O/D8tFO4ucwr8P57QFq639fs/G9ALDTrk+z8xbOp9BMv7PxArmhi8t/s/srG1iACo+z//un5eE5T7P/E1zGAobPs/iiRrRfFb+z/ATOzhWEn7P8oKVIdFM/s/CrodAt8e+z+DulyBJhH7P+pcR0taA/s/iJvK87/3+j+IzVCZiOz6P6pb+X0l3fo/9Lf54iHQ+j+25q+ZmML6P4N8Qh8LuPo/ykYnY0ir+j/xDTKORp/6PzIRfo2Rl/o/XfXdM3mQ+j+5ahA/Son6P6XkH5hIg/o/iht2lJh5+j+FA6d0UW/6P6G6FrXEaPo/rmt93iZi+j/OlWF13Vn6P5qne6wdV/o/xwH6oM9o+j+4T/57EF/6P8UkS3raY/o/zGvWMTBh+j+wz2z5tmf6P45aQ429Zfo/ohyKZ8dh+j8A1oXh+lr6Px5PWujDVvo/LPXJP4lV+j/uSqMpJVT6P4RFzgbeSPo/47DaC68/+j8XI1/2STn6P1Rv9BNHNfo/4azEz4Qz+j+hdqsxOjT6P2HRpxV+M/o/wDFPLh4w+j8ExTey+Sz6P/goMUq3J/o/V+4gxbIl+j+OwM5yIST6PzHMYtLPI/o/kOUB3Bwk+j/0MGCJ2CP6P2rERCT0Ifo/Xu/jkDAh+j+7wOZS4CD6P6HAbuH3Hvo/P/cQENsb+j8P2uLzURz6P/AR32BpGfo/w7/luTcb+j/a8gSeCxn6PxAVTkHzGvo/ZjKgRfUd+j8OklvuYhz6P9CrF5srGvo/uwaAhcsZ+j/9sKa5VBn6P/nELTnkH/o/WRPcRvcm+j8bHyiHQC76P1pzIbRQNPo/HedaIik7+j87XASWFjf6P5ool7MJJPo/2tl5x+ou+j98fyzevCz6P5lIWvflMPo/LAxbWFkv+j+W0uLBeDT6PzVBwx0YQPo/o/wUTP9H+j+Wsf2XDFD6P+x0a9PFU/o/qqd6fLVb+j9HOBDUhWj6PwhLKSqievo/XxF+/B6G+j/jJOs0P5D6P4RuyVYImfo/PHsm6+yh+j/Mdnr02Kj6P3wktcEQsvo/kOkNb5W5+j8M114JB8P6P8+jSnW6yvo/U1DhouTT+j9ut5KHGtz6P1mYUWZZ4vo/iB9L96Xp+j9TMlKGpvH6P7EK+XcW+vo/qmsyO84C+z/4qURx9Av7P5CyEUXbFvs/573LHt8g+z9Xbhn9DS37P8/t37+2NPs/JQlnk2M/+z+mnpWswUf7P2Uju0VWTfs/DPrer9JT+z/n8jGI51n7P7bpZWcxX/s/ufzon9Nk+z8ibdYDR2v7P3CKKllbcfs/cWnu3W52+z/OmLvA+Hz7P1ccY9s0hfs/cSmnqwiL+z9Tq6WtoJD7P929XQIRl/s/bReri3Od+z9u7NPvKqT7P2evz6JrqPs/Msl45YSu+z94hXDsmq/7P+ajibVFtvs/dbUkBe66+z8m8+KLaMH7PwX7mtRTxvs/GgbWPVnM+z8ZtgneFs37P+EFwyWK0/s/+Y5PnxLY+z8pwmR9Utz7P7ziU75j3/s/E/xgAuTk+z84n5E5K+z7P23521AJ9Ps/g4crGYj6+z/dRRd84AH8P5LXotJgCPw/qYxvguEO/D+d+PYVnxb8P4fO0VGBHvw/yuJVycUk/D+hk43jnSz8PwPQtJHdM/w/nm1hwUA6/D8729vBzkL8P7smoy1hSfw/7fobNXZQ/D/9wYqfX1n8P+GA020uYvw/Jk0EpJNr/D9lfhkqO3T8PxpzFfyqfPw/6tiaukmG/D8nRdmXGY/8P5aDOu2gmPw/ZWPooMSf/D+KyYCPK6f8P2HQD4oqsPw/sZB5NjW5/D8nMonOab/8P8ExQrnGyPw/Fk3AVevR/D9x74tN1Nr8P9PtVspP4/w/8E/Oz6Xr/D8XUF/o3fP8P+a/0k/w/Pw/cOK9YJEF/T+5k6tjvw39PxcXJIVFFv0/Yvxvxpwd/T9wXUcMHCX9P3R6YDFcLf0/Co83c3U1/T9W1Je9sD39PyIVTFkzR/0/pv7CT7pQ/T9uTr5ieVr9P+pifaL1Zf0/BXnnfcxv/T9DrYpClHz9P4EQ+sIfh/0/yw31IEWR/T+b+kUhCJ39Py2zD28NqP0/bEkiNny1/T/4eDCnBsP9P1nlUwSQ0f0/TykN29fa/T81zbPOteb9PwUxuwXW8v0/B17cl53+/T9wYDD5Pgz+P7VKoQWaGf4/7h0PvTcn/j+hf5UDjjT+P6fa3wpBQP4/cn1rzSdN/j9ibC7s4Fj+P9/5AfTDZP4/vUEsrHdv/j/5wsyVdnn+P+5PZJOVg/4/tPGv+X+P/j98WQtbaZr+P730FhSdpf4/lM8y/+ew/j+iR4WfP77+P3K2merby/4/DLMRNL3X/j/eciYwH+P+P8zuF6JI7/4/jgqu8275/j+WYgGHDQT/P94qWBPwDv8/FzEO8x8b/z8KAacxniX/P0tZwGReMP8/eWYGkCs6/z9l/fp0Q0T/P6ac0P1MTP8/rlGOymZS/z9i5Lzoyln/P95lMui3YP8/Oe8ysc1n/z/MueD6pmz/Py7r1tM5cv8/Nqib6kh1/z+Lfk3Rw3r/P6bJHUBdf/8/y1EtDiaE/z9QFWhE0ob/PyKMBSCliv8/U5hXVQuL/z+yZBnAt4v/PwRXS4BKkf8/wEO5DmWT/z//Mq3QQpX/PxOwRSXQlf8/lqfVmE6W/z8M8ieZU5f/P+1yX+oDl/8/SN/4AseV/z8wHDiT3pb/P8VcGwG0lP8/TyfHGumU/z+EISrK9pL/PzHDwt83k/8/X7Df2AWT/z8qC0Up3ZT/P4ASv2smlf8/cOE6g7uT/z80bA86/JL/P1TagK4ClP8/LRdYxgCQ/z91/q+veYv/P1oIiwXxiP8/AeLSbByH/z/xH3uWyYT/P6JFPZjlhP8/8Uk1i9eC/z/bUnefbIH/P66oLqXdf/8/zypUKU1+/z/FRRHdXXz/PxRPD37Pev8/h0KPJQZ4/z/U+OtU63b/PwjoyakPeP8/9NNmNeB4/z8HOn6TIXj/P9I2oqrteP8/BItsULp6/z/T5Xn+t3n/P1PyqvxKef8/tvZgX5x6/z/LJwF1ZH3/PzzKWpo+fv8/bMNq0TiB/z8hdEv6yIH/P5A4genXg/8/Oy8DFd+E/z8AG7sRnHP/P4oYglJFMf8/+1/lp+p1/z+bi8lAuUr/Pyz0vL8BL/8/h90o/yR9/z8qjTP74H7/P1R6TRmAYf8/m9YJ1CY8/z9se1XCjyH/P7nEySsLH/8/IesXW6EW/z8Ue7YtLsEAQDZeoktvuwBAt2VqdbeqAEDjX0wwUaYAQM3bKzY7ogBA0aB2eIKiAECoXMRUX6QAQNgDRrY/pwBANpYiOByrAEAs9NUaha0AQMFDWvh1sABAiwxu15CyAEDhYvn6NLQAQEyUYtattgBAT5sBVYa5AEDffQ+2ArwAQHWM5dmavgBAZ/iTnFbBAEC7IwoqP8MAQKbij4AcxgBAcO8/awHJAEC28H6c5MoAQGwN2OstzQBAi2yGCT7PAEBd2hRS59AAQDvNuRPp0wBAXNSd39DXAECfV7SlutoAQMijgtAb3gBAuef5lB7hAEALlP2/luMAQIEVWSUg5gBAEMC7VoXpAEDnlQuHwOwAQDidUZK68wBA5Q5+VoACAUC/oA1mNSkBQIeL2XqbDAFAhxnPskcoAUA6a2mEPDwBQFSb7EDlGwFADEPtOe8eAUCrEXVNfzcBQAdJ5I2SUgFAj3c0we+5AUAdGal4+ikCQGU8hYrVJAJAs+XZXLX3AEDe8VA+QwcBQPRXdjCcIAFA0iwOmPUsAUDV60rRIzcBQOnK0mpFPgFATteTrX9BAUCyLEEhnEEBQMZdKiF0RgFArssbMWtKAUAbsFheLE0BQNRONHWQVAFAJfwL1U9cAUBEnRH36mMBQFzFP2mIagFAvZCeAbpwAUByRbOxS28BQGzzkQuNbwFAeW9Cn2pxAUCwiY0LZXIBQEJ7B9bNcQFA9KchjPNrAUCn2+U23GQBQP+inhuLXgFAGmx96/pXAUCSoMbeUVABQP322zupSAFA3TyQZ4VBAUCQuuf0njgBQP0KtXuxMwFA0Dlnbf8sAUBQCYUnsiMBQNYjxgqEHQFAB5ljgS0YAUDXGywPZRABQFt/wxvxCgFAv9WryqoEAUD9SqhS9gABQDnYfXFL/ABAzBn1/Vr1AEC1xwxZZO0AQNLBIXHK5wBAqKGuT8jcAEBTnyet2tMAQFKTHUOdegBAKie86SsMAEAX/7UnyBUAQDjWtpSDDQBAjALk7hwEAEAEMU+PKfj/PxotM0PY6f8/fWfTtjrg/z9HFzUIlc7/P7yZkURpxP8/7tLQ1v3F/z/7nqrl8af/P+01L4Fljf8/I7wJK+Z1/z9BUiUR4FT/P2W5bpU8NP8/cvaOf18U/z90g5raCPP+PwG8lmi+1P4/m781WgXG/j8XuWCiyrH+PzY3J2IEnv4/rraBcPuL/j8p0FUbIHr+P3b7q0XCdf4/0Ndpyrt0/j97Yi+uWnP+P5oLtEhTcP4/aptRQFRs/j+lgUS0WGj+P5f4fAbQZP4/ePDGiwhh/j+qCxeAO1b+PyEIwemHT/4/9gxlgjlO/j+llWyVHUb+P6IRcw9PSv4/2kxM2PQ9/j9quyNqni3+P08xBa9SIv4/eeE3KMsQ/j8BiB/fkAD+P3Kroa0t9P0/vPu9efXn/T+saRTBrtv9P3UpJA+kz/0/hxPpzBHB/T+fXBcI8LH9PwipMQENof0/J2c3HEWR/T8pFz4pHIH9P+5vDE/ucv0/CPo3qHVi/T+1fPcoV1T9P5CGwsRGQ/0/Z4jdhhM2/T/ef6GgDCb9P3BPwLHXEP0/kpdQyOQN/T/wlCeFXQv9P5dDhRhtB/0/cup7rRQE/T9w0QdvRQP9P4sQ++zwAf0/iFWhFcz+/D8tbn35uf78P/SjWZtL/Pw/5yT8qbf7/D9EulLJB/n8P0SErw9z9fw/Mgcf9ZX2/D85xX4R4/L8PwR3Ljub7/w/Oyywai7q/D/5v/CItuf8P1KVIzdN5Pw/41yK9G3j/D/wD9CIf9/8PzHA6BVN3/w/jv05RPrf/D9B32rub+H8P96aV8Wm4/w/8rkI9bbg/D/2luLk2OH8P1+8xjel4/w/fTvKt1Xl/D/d5dQkM+H8P8RWdQ9O1vw/vxTqO1rQ/D+EuA5e5tP8P/xsLrnmz/w/tgFjMHu6/D8uYsCgP8D8P3FYHLIw4fw/9euURBED/T9FQBQ0XPr8PxOXnMKDzPw/DoC52Y7w/D9PWnKGafX8P8Qv67NXCf0/I8mr0Esj/T8HUTV7SD/9Pxr4GlnWVf0/e8Jf3FB8/T8s75d/sYX9P5QPKLNhk/0/pZy99Oeg/T80J0x16639P7YaZIbuvP0/Fnt6D0fI/T+WKY9LbdT9P70bUpe/4/0/tVJq3cL3/T/FUGIokxH+P6Idab2QLf4/UK55SkRG/j+OnV2h21v+P5LQLpRWdf4/yjNKUpWU/j/FcI/TmLP+P3+yl6tP0P4/2oRz//fc/j/446Te//T+P1ns7NnjAf8/17cTUGIS/z/iP3SDjSD/P2d3cnqILf8/FwhShEA6/z+jEAplhkT/P7lAzxweVP8/36Rx1ZBT/z+5tuH0TmD/P9bI8h0gbv8/BYpvdDaA/z9arKpveZv/P2NvVuGstP8/AAL84U/B/z95pZWay9X/P3jX/LGh//8/YQVemTEHAEAo7UxErAAAQNc4614C8/8/K+uRkokIAEBhu9DjjSkAQLWnOGEzIQBA/IdEvbknAEDjWZc5sSYAQKfVVtqCIABA+dlAdP8dAECVPEEtAiEAQPyoJOdmGQBAIJrOyeQcAEDMtHubpiAAQNqPVArMIwBA6l0PBYYpAEAsBn4RMSoAQNoHen74KQBAitZedqMoAEAVARLATSkAQGUBi3VmIABAN0oiIuYcAEB+e8n0RRYAQCVN7QaEFQBAUdtZz6sVAEDTokniJQ8AQKW4opRBBgBAGftZApX0/z9jD05zytv/P6yWrfz+zf8/3XVMbiWz/z/wnfwF7Hz/P0RcLefgQ/8/yokdaTgL/z+84lFktgX/Px/XXSUN2v4/YdCjkpXa/j8loyO5AKz+PyIKXtcwe/4/wS776btL/j/hBTgvujr+P0j+U3aNFP4/FujohsP2/T9aEYpX09X9P8+Ot2NWtf0/h2Usf8iU/T9F38MgNXb9PwXtgmPsP/0/Zgcb5PIh/T9XBM24Xf78P8iUo2z/u/w/H4KOdsGR/D/a3IPn1HD8P0OpZr7zUfw/XrxNA+Q3/D/XAByOfiH8P1Jj2CDUDfw/x0w1ATjq+z8t6/AWM8b7P4FHIAmuqPs/mraZRIaH+z9XrYWmPmn7PxMGhZihOPs/xGvxiXkc+z/ypB4rd//6PwACnsmH1vo/AC7Vav+2+j8f7Pa5bZb6PwuofsSvcfo/DwNDWNZE+j9XajyUeB36P49KkcHs+fk/tnK8WbDf+T8uMLoIKMH5Px9s15YCp/k/g38txeaS+T9T2U9XRXn5P4C35lx4YPk/aYwKMUlu+T/Kv0jpx375PxsFE9G/jfk/OeInrT9r+T+7F7yvCWz5P+a1HPuSRfk/znrGDt5G+T/EEtQOOEb5P6cqditxN/k/W2GUg2Gi+D/sdx4QA4X4P8cKfLLVavg/rJIQwkBR+D8QioiLhzL4P5Q/tsVJDvg/X86J5k3u9z9yWVBVEMT3P5upCnr4pvc/VIFeS7Gt9z8bL6Czl8f3P+eFiMPN7/c/MW1N0y+H+D/1GT7oUM/4P3sFu2jz7fg/kGaTdfIM+T+2qMymYiL5P7lkOGB1G/k/g/ne48Uw+j9w5if0u0X7P6zBNigSi/s/XXi9rhyQ+z+ZfqYCaCr8P/kHtne/NPw/HaaBGqtU/D+Z7B8EnY78PzhsGCejtfw/TLRVSnjv/T9pk1NiGU/+P1YN9UIRYP4/WmSPGq6e/j/UMFAZyjEAQDYjnjQ+TgBADvHdb2SSAEC0gmq9ZaQAQLqQuYAh7AFAe1q3Dy1JA0B/76eDkF4DQIcnjyeLmQRA1wWZeUO2BEC0cR76EskEQLhUS4zc2gRAjqP5N0cABUDeC1tzTAQFQJSXdsfBMwVABsyz8thbBUCpI+db5XQFQI36USgjwQVAPGFlcwHdBUBWOsIlUwgGQCcV7L1iFgZAtMntbTYjBkDjX0eDf1YGQBkHwd95eQZAytqT3vWwBkDlWXA/S+wGQD+VgUr3MQdADAXyszNCB0BEStpuUEEHQMdacXtemAdA9MInwMaiB0AAAAAAAAD4fwAAAAAAAPh/AAAAAAAA+H8AAAAAAAD4fwAAAAAAAPh/AAAAAAAA+H8AAAAAAAD4fwAAAAAAAPh/AAAAAAAA+H8AAAAAAAD4fwAAAAAAAPh/AAAAAAAA+H8AAAAAAAD4fwAAAAAAAPh/AAAAAAAA+H8AAAAAAAD4fwAAAAAAAPh/AAAAAAAA+H8AAAAAAAD4fwAAAAAAAPh/AAAAAAAA+H8AAAAAAAD4fwAAAAAAAPh/",
          "dtype": "f8"
         },
         "yaxis": "y4"
        }
       ],
       "layout": {
        "annotations": [
         {
          "font": {
           "size": 16
          },
          "showarrow": false,
          "text": "Distance vs Frame Index",
          "x": 0.225,
          "xanchor": "center",
          "xref": "paper",
          "y": 1,
          "yanchor": "bottom",
          "yref": "paper"
         },
         {
          "font": {
           "size": 16
          },
          "showarrow": false,
          "text": "Distance vs Time",
          "x": 0.775,
          "xanchor": "center",
          "xref": "paper",
          "y": 1,
          "yanchor": "bottom",
          "yref": "paper"
         },
         {
          "font": {
           "size": 16
          },
          "showarrow": false,
          "text": "Distance Distribution",
          "x": 0.225,
          "xanchor": "center",
          "xref": "paper",
          "y": 0.375,
          "yanchor": "bottom",
          "yref": "paper"
         },
         {
          "font": {
           "size": 16
          },
          "showarrow": false,
          "text": "Distance Trends",
          "x": 0.775,
          "xanchor": "center",
          "xref": "paper",
          "y": 0.375,
          "yanchor": "bottom",
          "yref": "paper"
         },
         {
          "showarrow": false,
          "text": "Mean: 1.98meters",
          "x": 1.9812934665810769,
          "xanchor": "left",
          "xref": "x3",
          "y": 1,
          "yanchor": "top",
          "yref": "y3 domain"
         }
        ],
        "height": 800,
        "shapes": [
         {
          "line": {
           "color": "red",
           "dash": "dash"
          },
          "type": "line",
          "x0": 1.9812934665810769,
          "x1": 1.9812934665810769,
          "xref": "x3",
          "y0": 0,
          "y1": 1,
          "yref": "y3 domain"
         }
        ],
        "showlegend": true,
        "template": {
         "data": {
          "bar": [
           {
            "error_x": {
             "color": "#2a3f5f"
            },
            "error_y": {
             "color": "#2a3f5f"
            },
            "marker": {
             "line": {
              "color": "#E5ECF6",
              "width": 0.5
             },
             "pattern": {
              "fillmode": "overlay",
              "size": 10,
              "solidity": 0.2
             }
            },
            "type": "bar"
           }
          ],
          "barpolar": [
           {
            "marker": {
             "line": {
              "color": "#E5ECF6",
              "width": 0.5
             },
             "pattern": {
              "fillmode": "overlay",
              "size": 10,
              "solidity": 0.2
             }
            },
            "type": "barpolar"
           }
          ],
          "carpet": [
           {
            "aaxis": {
             "endlinecolor": "#2a3f5f",
             "gridcolor": "white",
             "linecolor": "white",
             "minorgridcolor": "white",
             "startlinecolor": "#2a3f5f"
            },
            "baxis": {
             "endlinecolor": "#2a3f5f",
             "gridcolor": "white",
             "linecolor": "white",
             "minorgridcolor": "white",
             "startlinecolor": "#2a3f5f"
            },
            "type": "carpet"
           }
          ],
          "choropleth": [
           {
            "colorbar": {
             "outlinewidth": 0,
             "ticks": ""
            },
            "type": "choropleth"
           }
          ],
          "contour": [
           {
            "colorbar": {
             "outlinewidth": 0,
             "ticks": ""
            },
            "colorscale": [
             [
              0,
              "#0d0887"
             ],
             [
              0.1111111111111111,
              "#46039f"
             ],
             [
              0.2222222222222222,
              "#7201a8"
             ],
             [
              0.3333333333333333,
              "#9c179e"
             ],
             [
              0.4444444444444444,
              "#bd3786"
             ],
             [
              0.5555555555555556,
              "#d8576b"
             ],
             [
              0.6666666666666666,
              "#ed7953"
             ],
             [
              0.7777777777777778,
              "#fb9f3a"
             ],
             [
              0.8888888888888888,
              "#fdca26"
             ],
             [
              1,
              "#f0f921"
             ]
            ],
            "type": "contour"
           }
          ],
          "contourcarpet": [
           {
            "colorbar": {
             "outlinewidth": 0,
             "ticks": ""
            },
            "type": "contourcarpet"
           }
          ],
          "heatmap": [
           {
            "colorbar": {
             "outlinewidth": 0,
             "ticks": ""
            },
            "colorscale": [
             [
              0,
              "#0d0887"
             ],
             [
              0.1111111111111111,
              "#46039f"
             ],
             [
              0.2222222222222222,
              "#7201a8"
             ],
             [
              0.3333333333333333,
              "#9c179e"
             ],
             [
              0.4444444444444444,
              "#bd3786"
             ],
             [
              0.5555555555555556,
              "#d8576b"
             ],
             [
              0.6666666666666666,
              "#ed7953"
             ],
             [
              0.7777777777777778,
              "#fb9f3a"
             ],
             [
              0.8888888888888888,
              "#fdca26"
             ],
             [
              1,
              "#f0f921"
             ]
            ],
            "type": "heatmap"
           }
          ],
          "histogram": [
           {
            "marker": {
             "pattern": {
              "fillmode": "overlay",
              "size": 10,
              "solidity": 0.2
             }
            },
            "type": "histogram"
           }
          ],
          "histogram2d": [
           {
            "colorbar": {
             "outlinewidth": 0,
             "ticks": ""
            },
            "colorscale": [
             [
              0,
              "#0d0887"
             ],
             [
              0.1111111111111111,
              "#46039f"
             ],
             [
              0.2222222222222222,
              "#7201a8"
             ],
             [
              0.3333333333333333,
              "#9c179e"
             ],
             [
              0.4444444444444444,
              "#bd3786"
             ],
             [
              0.5555555555555556,
              "#d8576b"
             ],
             [
              0.6666666666666666,
              "#ed7953"
             ],
             [
              0.7777777777777778,
              "#fb9f3a"
             ],
             [
              0.8888888888888888,
              "#fdca26"
             ],
             [
              1,
              "#f0f921"
             ]
            ],
            "type": "histogram2d"
           }
          ],
          "histogram2dcontour": [
           {
            "colorbar": {
             "outlinewidth": 0,
             "ticks": ""
            },
            "colorscale": [
             [
              0,
              "#0d0887"
             ],
             [
              0.1111111111111111,
              "#46039f"
             ],
             [
              0.2222222222222222,
              "#7201a8"
             ],
             [
              0.3333333333333333,
              "#9c179e"
             ],
             [
              0.4444444444444444,
              "#bd3786"
             ],
             [
              0.5555555555555556,
              "#d8576b"
             ],
             [
              0.6666666666666666,
              "#ed7953"
             ],
             [
              0.7777777777777778,
              "#fb9f3a"
             ],
             [
              0.8888888888888888,
              "#fdca26"
             ],
             [
              1,
              "#f0f921"
             ]
            ],
            "type": "histogram2dcontour"
           }
          ],
          "mesh3d": [
           {
            "colorbar": {
             "outlinewidth": 0,
             "ticks": ""
            },
            "type": "mesh3d"
           }
          ],
          "parcoords": [
           {
            "line": {
             "colorbar": {
              "outlinewidth": 0,
              "ticks": ""
             }
            },
            "type": "parcoords"
           }
          ],
          "pie": [
           {
            "automargin": true,
            "type": "pie"
           }
          ],
          "scatter": [
           {
            "fillpattern": {
             "fillmode": "overlay",
             "size": 10,
             "solidity": 0.2
            },
            "type": "scatter"
           }
          ],
          "scatter3d": [
           {
            "line": {
             "colorbar": {
              "outlinewidth": 0,
              "ticks": ""
             }
            },
            "marker": {
             "colorbar": {
              "outlinewidth": 0,
              "ticks": ""
             }
            },
            "type": "scatter3d"
           }
          ],
          "scattercarpet": [
           {
            "marker": {
             "colorbar": {
              "outlinewidth": 0,
              "ticks": ""
             }
            },
            "type": "scattercarpet"
           }
          ],
          "scattergeo": [
           {
            "marker": {
             "colorbar": {
              "outlinewidth": 0,
              "ticks": ""
             }
            },
            "type": "scattergeo"
           }
          ],
          "scattergl": [
           {
            "marker": {
             "colorbar": {
              "outlinewidth": 0,
              "ticks": ""
             }
            },
            "type": "scattergl"
           }
          ],
          "scattermap": [
           {
            "marker": {
             "colorbar": {
              "outlinewidth": 0,
              "ticks": ""
             }
            },
            "type": "scattermap"
           }
          ],
          "scattermapbox": [
           {
            "marker": {
             "colorbar": {
              "outlinewidth": 0,
              "ticks": ""
             }
            },
            "type": "scattermapbox"
           }
          ],
          "scatterpolar": [
           {
            "marker": {
             "colorbar": {
              "outlinewidth": 0,
              "ticks": ""
             }
            },
            "type": "scatterpolar"
           }
          ],
          "scatterpolargl": [
           {
            "marker": {
             "colorbar": {
              "outlinewidth": 0,
              "ticks": ""
             }
            },
            "type": "scatterpolargl"
           }
          ],
          "scatterternary": [
           {
            "marker": {
             "colorbar": {
              "outlinewidth": 0,
              "ticks": ""
             }
            },
            "type": "scatterternary"
           }
          ],
          "surface": [
           {
            "colorbar": {
             "outlinewidth": 0,
             "ticks": ""
            },
            "colorscale": [
             [
              0,
              "#0d0887"
             ],
             [
              0.1111111111111111,
              "#46039f"
             ],
             [
              0.2222222222222222,
              "#7201a8"
             ],
             [
              0.3333333333333333,
              "#9c179e"
             ],
             [
              0.4444444444444444,
              "#bd3786"
             ],
             [
              0.5555555555555556,
              "#d8576b"
             ],
             [
              0.6666666666666666,
              "#ed7953"
             ],
             [
              0.7777777777777778,
              "#fb9f3a"
             ],
             [
              0.8888888888888888,
              "#fdca26"
             ],
             [
              1,
              "#f0f921"
             ]
            ],
            "type": "surface"
           }
          ],
          "table": [
           {
            "cells": {
             "fill": {
              "color": "#EBF0F8"
             },
             "line": {
              "color": "white"
             }
            },
            "header": {
             "fill": {
              "color": "#C8D4E3"
             },
             "line": {
              "color": "white"
             }
            },
            "type": "table"
           }
          ]
         },
         "layout": {
          "annotationdefaults": {
           "arrowcolor": "#2a3f5f",
           "arrowhead": 0,
           "arrowwidth": 1
          },
          "autotypenumbers": "strict",
          "coloraxis": {
           "colorbar": {
            "outlinewidth": 0,
            "ticks": ""
           }
          },
          "colorscale": {
           "diverging": [
            [
             0,
             "#8e0152"
            ],
            [
             0.1,
             "#c51b7d"
            ],
            [
             0.2,
             "#de77ae"
            ],
            [
             0.3,
             "#f1b6da"
            ],
            [
             0.4,
             "#fde0ef"
            ],
            [
             0.5,
             "#f7f7f7"
            ],
            [
             0.6,
             "#e6f5d0"
            ],
            [
             0.7,
             "#b8e186"
            ],
            [
             0.8,
             "#7fbc41"
            ],
            [
             0.9,
             "#4d9221"
            ],
            [
             1,
             "#276419"
            ]
           ],
           "sequential": [
            [
             0,
             "#0d0887"
            ],
            [
             0.1111111111111111,
             "#46039f"
            ],
            [
             0.2222222222222222,
             "#7201a8"
            ],
            [
             0.3333333333333333,
             "#9c179e"
            ],
            [
             0.4444444444444444,
             "#bd3786"
            ],
            [
             0.5555555555555556,
             "#d8576b"
            ],
            [
             0.6666666666666666,
             "#ed7953"
            ],
            [
             0.7777777777777778,
             "#fb9f3a"
            ],
            [
             0.8888888888888888,
             "#fdca26"
            ],
            [
             1,
             "#f0f921"
            ]
           ],
           "sequentialminus": [
            [
             0,
             "#0d0887"
            ],
            [
             0.1111111111111111,
             "#46039f"
            ],
            [
             0.2222222222222222,
             "#7201a8"
            ],
            [
             0.3333333333333333,
             "#9c179e"
            ],
            [
             0.4444444444444444,
             "#bd3786"
            ],
            [
             0.5555555555555556,
             "#d8576b"
            ],
            [
             0.6666666666666666,
             "#ed7953"
            ],
            [
             0.7777777777777778,
             "#fb9f3a"
            ],
            [
             0.8888888888888888,
             "#fdca26"
            ],
            [
             1,
             "#f0f921"
            ]
           ]
          },
          "colorway": [
           "#636efa",
           "#EF553B",
           "#00cc96",
           "#ab63fa",
           "#FFA15A",
           "#19d3f3",
           "#FF6692",
           "#B6E880",
           "#FF97FF",
           "#FECB52"
          ],
          "font": {
           "color": "#2a3f5f"
          },
          "geo": {
           "bgcolor": "white",
           "lakecolor": "white",
           "landcolor": "#E5ECF6",
           "showlakes": true,
           "showland": true,
           "subunitcolor": "white"
          },
          "hoverlabel": {
           "align": "left"
          },
          "hovermode": "closest",
          "mapbox": {
           "style": "light"
          },
          "paper_bgcolor": "white",
          "plot_bgcolor": "#E5ECF6",
          "polar": {
           "angularaxis": {
            "gridcolor": "white",
            "linecolor": "white",
            "ticks": ""
           },
           "bgcolor": "#E5ECF6",
           "radialaxis": {
            "gridcolor": "white",
            "linecolor": "white",
            "ticks": ""
           }
          },
          "scene": {
           "xaxis": {
            "backgroundcolor": "#E5ECF6",
            "gridcolor": "white",
            "gridwidth": 2,
            "linecolor": "white",
            "showbackground": true,
            "ticks": "",
            "zerolinecolor": "white"
           },
           "yaxis": {
            "backgroundcolor": "#E5ECF6",
            "gridcolor": "white",
            "gridwidth": 2,
            "linecolor": "white",
            "showbackground": true,
            "ticks": "",
            "zerolinecolor": "white"
           },
           "zaxis": {
            "backgroundcolor": "#E5ECF6",
            "gridcolor": "white",
            "gridwidth": 2,
            "linecolor": "white",
            "showbackground": true,
            "ticks": "",
            "zerolinecolor": "white"
           }
          },
          "shapedefaults": {
           "line": {
            "color": "#2a3f5f"
           }
          },
          "ternary": {
           "aaxis": {
            "gridcolor": "white",
            "linecolor": "white",
            "ticks": ""
           },
           "baxis": {
            "gridcolor": "white",
            "linecolor": "white",
            "ticks": ""
           },
           "bgcolor": "#E5ECF6",
           "caxis": {
            "gridcolor": "white",
            "linecolor": "white",
            "ticks": ""
           }
          },
          "title": {
           "x": 0.05
          },
          "xaxis": {
           "automargin": true,
           "gridcolor": "white",
           "linecolor": "white",
           "ticks": "",
           "title": {
            "standoff": 15
           },
           "zerolinecolor": "white",
           "zerolinewidth": 2
          },
          "yaxis": {
           "automargin": true,
           "gridcolor": "white",
           "linecolor": "white",
           "ticks": "",
           "title": {
            "standoff": 15
           },
           "zerolinecolor": "white",
           "zerolinewidth": 2
          }
         }
        },
        "title": {
         "text": "Real-World Distance Analysis"
        },
        "xaxis": {
         "anchor": "y",
         "domain": [
          0,
          0.45
         ],
         "title": {
          "text": "Frame Index"
         }
        },
        "xaxis2": {
         "anchor": "y2",
         "domain": [
          0.55,
          1
         ],
         "title": {
          "text": "Time"
         }
        },
        "xaxis3": {
         "anchor": "y3",
         "domain": [
          0,
          0.45
         ],
         "title": {
          "text": "Distance (meters)"
         }
        },
        "xaxis4": {
         "anchor": "y4",
         "domain": [
          0.55,
          1
         ],
         "title": {
          "text": "Frame Index"
         }
        },
        "yaxis": {
         "anchor": "x",
         "domain": [
          0.625,
          1
         ],
         "title": {
          "text": "Distance (meters)"
         }
        },
        "yaxis2": {
         "anchor": "x2",
         "domain": [
          0.625,
          1
         ],
         "title": {
          "text": "Distance (meters)"
         }
        },
        "yaxis3": {
         "anchor": "x3",
         "domain": [
          0,
          0.375
         ],
         "title": {
          "text": "Frequency"
         }
        },
        "yaxis4": {
         "anchor": "x4",
         "domain": [
          0,
          0.375
         ],
         "title": {
          "text": "Distance (meters)"
         }
        }
       }
      }
     },
     "metadata": {},
     "output_type": "display_data"
    }
   ],
   "source": [
    "# Real-world distance analysis and plotting using utility function\n",
    "iau.plot_real_world_distance_analysis(distance_results, image_shape=image_shape, sonar_coverage_meters=sonar_coverage_meters)"
   ]
  },
  {
   "cell_type": "code",
   "execution_count": 9,
   "id": "0375375e",
   "metadata": {},
   "outputs": [
    {
     "name": "stdout",
     "output_type": "stream",
     "text": [
      "🎯 LOADING DVL DATA FOR COMPARISON: 2024-08-20_14-31-29\n",
      "============================================================\n",
      "🎯 LOADING ALL DISTANCE DATA FOR BAG: 2024-08-20_14-31-29\n",
      "============================================================\n",
      "📡 1. Loading Navigation Data...\n",
      "   ✅ Loaded 559 navigation records\n",
      "📡 2. Loading Guidance Data...\n",
      "   ✅ Loaded 549 guidance records with ['error_net_distance', 'desired_net_distance', 'r_net_distance_d']\n",
      "📡 3. Loading DVL Altimeter...\n",
      "   ❌ DVL altimeter file not found\n",
      "📡 4. Loading USBL...\n",
      "   ✅ Loaded 33 USBL records\n",
      "📡 5. Loading DVL Position...\n",
      "   ✅ Loaded 283 DVL position records\n",
      "📡 6. Loading Navigation Position...\n",
      "   ✅ Loaded 278 navigation position records\n",
      "📡 7. Loading INS Z Position...\n",
      "   ❌ INS file not found\n",
      "\n",
      "📊 LOADING SUMMARY:\n",
      "   🎯 Target bag: 2024-08-20_14-31-29\n",
      "   📁 Raw data loaded: 2/2\n",
      "   📏 Distance measurements: 4\n",
      "\n",
      "📊 RAW DATA LOADED:\n",
      "   ✅ navigation: 559 records\n",
      "   ✅ guidance: 549 records\n",
      "\n",
      "📏 DISTANCE MEASUREMENTS LOADED:\n",
      "   ✅ USBL_3D: 33 records - 3D acoustic position\n",
      "   ✅ USBL_Depth: 33 records - USBL depth measurement\n",
      "   ✅ DVL_Position: 283 records - 3D DVL position\n",
      "   ✅ Nav_Position: 278 records - 2D navigation position\n"
     ]
    },
    {
     "name": "stderr",
     "output_type": "stream",
     "text": [
      "/Users/eirikvarnes/code/SOLAQUA/utils/sonar_image_analysis.py:505: FutureWarning:\n",
      "\n",
      "Series.fillna with 'method' is deprecated and will raise in a future version. Use obj.ffill() or obj.bfill() instead.\n",
      "\n",
      "/Users/eirikvarnes/code/SOLAQUA/utils/sonar_image_analysis.py:512: FutureWarning:\n",
      "\n",
      "Series.fillna with 'method' is deprecated and will raise in a future version. Use obj.ffill() or obj.bfill() instead.\n",
      "\n"
     ]
    },
    {
     "data": {
      "application/vnd.plotly.v1+json": {
       "config": {
        "plotlyServerURL": "https://plot.ly"
       },
       "data": [
        {
         "line": {
          "color": "rgba(255,0,0,0.3)"
         },
         "mode": "lines",
         "name": "Sonar Raw",
         "type": "scatter",
         "x": {
          "bdata": "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",
          "dtype": "f8"
         },
         "xaxis": "x",
         "y": {
          "bdata": "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",
          "dtype": "f8"
         },
         "yaxis": "y"
        },
        {
         "line": {
          "color": "red",
          "width": 3
         },
         "mode": "lines",
         "name": "Sonar Smoothed",
         "type": "scatter",
         "x": {
          "bdata": "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",
          "dtype": "f8"
         },
         "xaxis": "x",
         "y": {
          "bdata": "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",
          "dtype": "f8"
         },
         "yaxis": "y"
        },
        {
         "line": {
          "color": "blue",
          "width": 3
         },
         "mode": "lines",
         "name": "DVL Distance",
         "type": "scatter",
         "x": {
          "bdata": "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",
          "dtype": "f8"
         },
         "xaxis": "x",
         "y": {
          "bdata": "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",
          "dtype": "f8"
         },
         "yaxis": "y"
        }
       ],
       "layout": {
        "height": 600,
        "hovermode": "x unified",
        "template": {
         "data": {
          "bar": [
           {
            "error_x": {
             "color": "#2a3f5f"
            },
            "error_y": {
             "color": "#2a3f5f"
            },
            "marker": {
             "line": {
              "color": "#E5ECF6",
              "width": 0.5
             },
             "pattern": {
              "fillmode": "overlay",
              "size": 10,
              "solidity": 0.2
             }
            },
            "type": "bar"
           }
          ],
          "barpolar": [
           {
            "marker": {
             "line": {
              "color": "#E5ECF6",
              "width": 0.5
             },
             "pattern": {
              "fillmode": "overlay",
              "size": 10,
              "solidity": 0.2
             }
            },
            "type": "barpolar"
           }
          ],
          "carpet": [
           {
            "aaxis": {
             "endlinecolor": "#2a3f5f",
             "gridcolor": "white",
             "linecolor": "white",
             "minorgridcolor": "white",
             "startlinecolor": "#2a3f5f"
            },
            "baxis": {
             "endlinecolor": "#2a3f5f",
             "gridcolor": "white",
             "linecolor": "white",
             "minorgridcolor": "white",
             "startlinecolor": "#2a3f5f"
            },
            "type": "carpet"
           }
          ],
          "choropleth": [
           {
            "colorbar": {
             "outlinewidth": 0,
             "ticks": ""
            },
            "type": "choropleth"
           }
          ],
          "contour": [
           {
            "colorbar": {
             "outlinewidth": 0,
             "ticks": ""
            },
            "colorscale": [
             [
              0,
              "#0d0887"
             ],
             [
              0.1111111111111111,
              "#46039f"
             ],
             [
              0.2222222222222222,
              "#7201a8"
             ],
             [
              0.3333333333333333,
              "#9c179e"
             ],
             [
              0.4444444444444444,
              "#bd3786"
             ],
             [
              0.5555555555555556,
              "#d8576b"
             ],
             [
              0.6666666666666666,
              "#ed7953"
             ],
             [
              0.7777777777777778,
              "#fb9f3a"
             ],
             [
              0.8888888888888888,
              "#fdca26"
             ],
             [
              1,
              "#f0f921"
             ]
            ],
            "type": "contour"
           }
          ],
          "contourcarpet": [
           {
            "colorbar": {
             "outlinewidth": 0,
             "ticks": ""
            },
            "type": "contourcarpet"
           }
          ],
          "heatmap": [
           {
            "colorbar": {
             "outlinewidth": 0,
             "ticks": ""
            },
            "colorscale": [
             [
              0,
              "#0d0887"
             ],
             [
              0.1111111111111111,
              "#46039f"
             ],
             [
              0.2222222222222222,
              "#7201a8"
             ],
             [
              0.3333333333333333,
              "#9c179e"
             ],
             [
              0.4444444444444444,
              "#bd3786"
             ],
             [
              0.5555555555555556,
              "#d8576b"
             ],
             [
              0.6666666666666666,
              "#ed7953"
             ],
             [
              0.7777777777777778,
              "#fb9f3a"
             ],
             [
              0.8888888888888888,
              "#fdca26"
             ],
             [
              1,
              "#f0f921"
             ]
            ],
            "type": "heatmap"
           }
          ],
          "histogram": [
           {
            "marker": {
             "pattern": {
              "fillmode": "overlay",
              "size": 10,
              "solidity": 0.2
             }
            },
            "type": "histogram"
           }
          ],
          "histogram2d": [
           {
            "colorbar": {
             "outlinewidth": 0,
             "ticks": ""
            },
            "colorscale": [
             [
              0,
              "#0d0887"
             ],
             [
              0.1111111111111111,
              "#46039f"
             ],
             [
              0.2222222222222222,
              "#7201a8"
             ],
             [
              0.3333333333333333,
              "#9c179e"
             ],
             [
              0.4444444444444444,
              "#bd3786"
             ],
             [
              0.5555555555555556,
              "#d8576b"
             ],
             [
              0.6666666666666666,
              "#ed7953"
             ],
             [
              0.7777777777777778,
              "#fb9f3a"
             ],
             [
              0.8888888888888888,
              "#fdca26"
             ],
             [
              1,
              "#f0f921"
             ]
            ],
            "type": "histogram2d"
           }
          ],
          "histogram2dcontour": [
           {
            "colorbar": {
             "outlinewidth": 0,
             "ticks": ""
            },
            "colorscale": [
             [
              0,
              "#0d0887"
             ],
             [
              0.1111111111111111,
              "#46039f"
             ],
             [
              0.2222222222222222,
              "#7201a8"
             ],
             [
              0.3333333333333333,
              "#9c179e"
             ],
             [
              0.4444444444444444,
              "#bd3786"
             ],
             [
              0.5555555555555556,
              "#d8576b"
             ],
             [
              0.6666666666666666,
              "#ed7953"
             ],
             [
              0.7777777777777778,
              "#fb9f3a"
             ],
             [
              0.8888888888888888,
              "#fdca26"
             ],
             [
              1,
              "#f0f921"
             ]
            ],
            "type": "histogram2dcontour"
           }
          ],
          "mesh3d": [
           {
            "colorbar": {
             "outlinewidth": 0,
             "ticks": ""
            },
            "type": "mesh3d"
           }
          ],
          "parcoords": [
           {
            "line": {
             "colorbar": {
              "outlinewidth": 0,
              "ticks": ""
             }
            },
            "type": "parcoords"
           }
          ],
          "pie": [
           {
            "automargin": true,
            "type": "pie"
           }
          ],
          "scatter": [
           {
            "fillpattern": {
             "fillmode": "overlay",
             "size": 10,
             "solidity": 0.2
            },
            "type": "scatter"
           }
          ],
          "scatter3d": [
           {
            "line": {
             "colorbar": {
              "outlinewidth": 0,
              "ticks": ""
             }
            },
            "marker": {
             "colorbar": {
              "outlinewidth": 0,
              "ticks": ""
             }
            },
            "type": "scatter3d"
           }
          ],
          "scattercarpet": [
           {
            "marker": {
             "colorbar": {
              "outlinewidth": 0,
              "ticks": ""
             }
            },
            "type": "scattercarpet"
           }
          ],
          "scattergeo": [
           {
            "marker": {
             "colorbar": {
              "outlinewidth": 0,
              "ticks": ""
             }
            },
            "type": "scattergeo"
           }
          ],
          "scattergl": [
           {
            "marker": {
             "colorbar": {
              "outlinewidth": 0,
              "ticks": ""
             }
            },
            "type": "scattergl"
           }
          ],
          "scattermap": [
           {
            "marker": {
             "colorbar": {
              "outlinewidth": 0,
              "ticks": ""
             }
            },
            "type": "scattermap"
           }
          ],
          "scattermapbox": [
           {
            "marker": {
             "colorbar": {
              "outlinewidth": 0,
              "ticks": ""
             }
            },
            "type": "scattermapbox"
           }
          ],
          "scatterpolar": [
           {
            "marker": {
             "colorbar": {
              "outlinewidth": 0,
              "ticks": ""
             }
            },
            "type": "scatterpolar"
           }
          ],
          "scatterpolargl": [
           {
            "marker": {
             "colorbar": {
              "outlinewidth": 0,
              "ticks": ""
             }
            },
            "type": "scatterpolargl"
           }
          ],
          "scatterternary": [
           {
            "marker": {
             "colorbar": {
              "outlinewidth": 0,
              "ticks": ""
             }
            },
            "type": "scatterternary"
           }
          ],
          "surface": [
           {
            "colorbar": {
             "outlinewidth": 0,
             "ticks": ""
            },
            "colorscale": [
             [
              0,
              "#0d0887"
             ],
             [
              0.1111111111111111,
              "#46039f"
             ],
             [
              0.2222222222222222,
              "#7201a8"
             ],
             [
              0.3333333333333333,
              "#9c179e"
             ],
             [
              0.4444444444444444,
              "#bd3786"
             ],
             [
              0.5555555555555556,
              "#d8576b"
             ],
             [
              0.6666666666666666,
              "#ed7953"
             ],
             [
              0.7777777777777778,
              "#fb9f3a"
             ],
             [
              0.8888888888888888,
              "#fdca26"
             ],
             [
              1,
              "#f0f921"
             ]
            ],
            "type": "surface"
           }
          ],
          "table": [
           {
            "cells": {
             "fill": {
              "color": "#EBF0F8"
             },
             "line": {
              "color": "white"
             }
            },
            "header": {
             "fill": {
              "color": "#C8D4E3"
             },
             "line": {
              "color": "white"
             }
            },
            "type": "table"
           }
          ]
         },
         "layout": {
          "annotationdefaults": {
           "arrowcolor": "#2a3f5f",
           "arrowhead": 0,
           "arrowwidth": 1
          },
          "autotypenumbers": "strict",
          "coloraxis": {
           "colorbar": {
            "outlinewidth": 0,
            "ticks": ""
           }
          },
          "colorscale": {
           "diverging": [
            [
             0,
             "#8e0152"
            ],
            [
             0.1,
             "#c51b7d"
            ],
            [
             0.2,
             "#de77ae"
            ],
            [
             0.3,
             "#f1b6da"
            ],
            [
             0.4,
             "#fde0ef"
            ],
            [
             0.5,
             "#f7f7f7"
            ],
            [
             0.6,
             "#e6f5d0"
            ],
            [
             0.7,
             "#b8e186"
            ],
            [
             0.8,
             "#7fbc41"
            ],
            [
             0.9,
             "#4d9221"
            ],
            [
             1,
             "#276419"
            ]
           ],
           "sequential": [
            [
             0,
             "#0d0887"
            ],
            [
             0.1111111111111111,
             "#46039f"
            ],
            [
             0.2222222222222222,
             "#7201a8"
            ],
            [
             0.3333333333333333,
             "#9c179e"
            ],
            [
             0.4444444444444444,
             "#bd3786"
            ],
            [
             0.5555555555555556,
             "#d8576b"
            ],
            [
             0.6666666666666666,
             "#ed7953"
            ],
            [
             0.7777777777777778,
             "#fb9f3a"
            ],
            [
             0.8888888888888888,
             "#fdca26"
            ],
            [
             1,
             "#f0f921"
            ]
           ],
           "sequentialminus": [
            [
             0,
             "#0d0887"
            ],
            [
             0.1111111111111111,
             "#46039f"
            ],
            [
             0.2222222222222222,
             "#7201a8"
            ],
            [
             0.3333333333333333,
             "#9c179e"
            ],
            [
             0.4444444444444444,
             "#bd3786"
            ],
            [
             0.5555555555555556,
             "#d8576b"
            ],
            [
             0.6666666666666666,
             "#ed7953"
            ],
            [
             0.7777777777777778,
             "#fb9f3a"
            ],
            [
             0.8888888888888888,
             "#fdca26"
            ],
            [
             1,
             "#f0f921"
            ]
           ]
          },
          "colorway": [
           "#636efa",
           "#EF553B",
           "#00cc96",
           "#ab63fa",
           "#FFA15A",
           "#19d3f3",
           "#FF6692",
           "#B6E880",
           "#FF97FF",
           "#FECB52"
          ],
          "font": {
           "color": "#2a3f5f"
          },
          "geo": {
           "bgcolor": "white",
           "lakecolor": "white",
           "landcolor": "#E5ECF6",
           "showlakes": true,
           "showland": true,
           "subunitcolor": "white"
          },
          "hoverlabel": {
           "align": "left"
          },
          "hovermode": "closest",
          "mapbox": {
           "style": "light"
          },
          "paper_bgcolor": "white",
          "plot_bgcolor": "#E5ECF6",
          "polar": {
           "angularaxis": {
            "gridcolor": "white",
            "linecolor": "white",
            "ticks": ""
           },
           "bgcolor": "#E5ECF6",
           "radialaxis": {
            "gridcolor": "white",
            "linecolor": "white",
            "ticks": ""
           }
          },
          "scene": {
           "xaxis": {
            "backgroundcolor": "#E5ECF6",
            "gridcolor": "white",
            "gridwidth": 2,
            "linecolor": "white",
            "showbackground": true,
            "ticks": "",
            "zerolinecolor": "white"
           },
           "yaxis": {
            "backgroundcolor": "#E5ECF6",
            "gridcolor": "white",
            "gridwidth": 2,
            "linecolor": "white",
            "showbackground": true,
            "ticks": "",
            "zerolinecolor": "white"
           },
           "zaxis": {
            "backgroundcolor": "#E5ECF6",
            "gridcolor": "white",
            "gridwidth": 2,
            "linecolor": "white",
            "showbackground": true,
            "ticks": "",
            "zerolinecolor": "white"
           }
          },
          "shapedefaults": {
           "line": {
            "color": "#2a3f5f"
           }
          },
          "ternary": {
           "aaxis": {
            "gridcolor": "white",
            "linecolor": "white",
            "ticks": ""
           },
           "baxis": {
            "gridcolor": "white",
            "linecolor": "white",
            "ticks": ""
           },
           "bgcolor": "#E5ECF6",
           "caxis": {
            "gridcolor": "white",
            "linecolor": "white",
            "ticks": ""
           }
          },
          "title": {
           "x": 0.05
          },
          "xaxis": {
           "automargin": true,
           "gridcolor": "white",
           "linecolor": "white",
           "ticks": "",
           "title": {
            "standoff": 15
           },
           "zerolinecolor": "white",
           "zerolinewidth": 2
          },
          "yaxis": {
           "automargin": true,
           "gridcolor": "white",
           "linecolor": "white",
           "ticks": "",
           "title": {
            "standoff": 15
           },
           "zerolinecolor": "white",
           "zerolinewidth": 2
          }
         }
        },
        "title": {
         "text": "🔄 Interactive Distance Comparison: Sonar vs DVL"
        },
        "xaxis": {
         "anchor": "y",
         "domain": [
          0,
          1
         ],
         "showgrid": true,
         "title": {
          "text": "Time (seconds)"
         }
        },
        "yaxis": {
         "anchor": "x",
         "domain": [
          0,
          1
         ],
         "showgrid": true,
         "title": {
          "text": "Distance (meters)"
         }
        }
       }
      }
     },
     "metadata": {},
     "output_type": "display_data"
    },
    {
     "name": "stdout",
     "output_type": "stream",
     "text": [
      "\n",
      "📊 SONAR vs DVL COMPARISON STATISTICS:\n",
      "==================================================\n",
      "Sonar mean distance: 2.085 m\n",
      "DVL mean distance:   1.968 m\n",
      "Scale ratio (Sonar/DVL): 1.060x\n",
      "Sonar duration: 67.1s (1059 frames)\n",
      "DVL duration:   67.0s (559 records)\n",
      "\n",
      "Comparison stats summary:\n",
      "{'dvl_duration_s': 67.007197142,\n",
      " 'dvl_mean_m': 1.9676565289337435,\n",
      " 'dvl_records': 559,\n",
      " 'scale_ratio': 1.0595705518465377,\n",
      " 'sonar_duration_s': 67.07053097672778,\n",
      " 'sonar_frames': 1059,\n",
      " 'sonar_mean_m': 2.0848709142067694}\n"
     ]
    },
    {
     "data": {
      "application/vnd.plotly.v1+json": {
       "config": {
        "plotlyServerURL": "https://plot.ly"
       },
       "data": [
        {
         "line": {
          "color": "rgba(255,0,0,0.3)"
         },
         "mode": "lines",
         "name": "Sonar Raw",
         "type": "scatter",
         "x": {
          "bdata": "vtjibKU2sD++2OJspTbAPx1FVCP4Ucg/vtjibKU20D/tjhvITkTUPx1FVCP4Udg/TPuMfqFf3D++2OJspTbgP9Uzfxp6PeI/7Y4byE5E5D8F6rd1I0vmPx1FVCP4Ueg/NKDw0MxY6j9M+4x+oV/sP2RWKSx2Zu4/vtjibKU28D9KBrHDDzrxP9Uzfxp6PfI/YmFNceRA8z/tjhvITkT0P3m86R65R/U/Beq3dSNL9j+RF4bMjU73Px1FVCP4Ufg/qHIiemJV+T80oPDQzFj6P8DNvic3XPs/TPuMfqFf/D/YKFvVC2P9P2RWKSx2Zv4/74P3guBp/z++2OJspTYAQITvSZhauABASgaxww86AUAPHRjvxLsBQNUzfxp6PQJAm0rmRS+/AkBiYU1x5EADQCd4tJyZwgNA7Y4byE5EBECzpYLzA8YEQHm86R65RwVAP9NQSm7JBUAF6rd1I0sGQMoAH6HYzAZAkReGzI1OB0BXLu33QtAHQB1FVCP4UQhA4lu7Tq3TCECociJ6YlUJQG+JiaUX1wlANKDw0MxYCkD6tlf8gdoKQMDNvic3XAtAhuQlU+zdC0BM+4x+oV8MQBIS9KlW4QxA2Chb1QtjDUCdP8IAweQNQGRWKSx2Zg5AKm2QVyvoDkDvg/eC4GkPQLWaXq6V6w9AvtjibKU2EEAgZJYCgHcQQITvSZhauBBA5nr9LTX5EEBKBrHDDzoRQKyRZFnqehFADx0Y78S7EUBzqMuEn/wRQNUzfxp6PRJAOb8ysFR+EkCbSuZFL78SQP7VmdsJABNAYmFNceRAE0DE7AAHv4ETQCd4tJyZwhNAiwNoMnQDFEDtjhvITkQUQFAaz10phRRAs6WC8wPGFEAWMTaJ3gYVQHm86R65RxVA3EedtJOIFUA/01BKbskVQKFeBOBIChZABeq3dSNLFkBodWsL/osWQMoAH6HYzBZALozSNrMNF0CRF4bMjU4XQPSiOWJojxdAVy7t90LQF0C5uaCNHREYQB1FVCP4URhAgNAHudKSGEDiW7tOrdMYQEbnbuSHFBlAqHIiemJVGUAL/tUPPZYZQG+JiaUX1xlA0RQ9O/IXGkA0oPDQzFgaQJgrpGanmRpA+rZX/IHaGkBdQguSXBsbQMDNvic3XBtAI1lyvRGdG0CG5CVT7N0bQOlv2ejGHhxATPuMfqFfHECvhkAUfKAcQBIS9KlW4RxAdZ2nPzEiHUDYKFvVC2MdQDu0Dmvmox1AnT/CAMHkHUABy3WWmyUeQGRWKSx2Zh5AxuHcwVCnHkAqbZBXK+geQI34Q+0FKR9A74P3guBpH0BTD6sYu6ofQLWaXq6V6x9ADBMJIjgWIEC+2OJspTYgQG+evLcSVyBAIGSWAoB3IEDSKXBN7ZcgQITvSZhauCBANbUj48fYIEDmev0tNfkgQJhA13iiGSFASgaxww86IUD7y4oOfVohQKyRZFnqeiFAXlc+pFebIUAPHRjvxLshQMHi8Tky3CFAc6jLhJ/8IUAkbqXPDB0iQNUzfxp6PSJAh/lYZeddIkA5vzKwVH4iQOqEDPvBniJAm0rmRS+/IkBNEMCQnN8iQP7VmdsJACNAsJtzJncgI0BiYU1x5EAjQBInJ7xRYSNAxOwAB7+BI0B2stpRLKIjQCd4tJyZwiNA2T2O5wbjI0CLA2gydAMkQDvJQX3hIyRA7Y4byE5EJECfVPUSvGQkQFAaz10phSRAAuCoqJalJECzpYLzA8YkQGRrXD5x5iRAFjE2id4GJUDI9g/USyclQHm86R65RyVAKoLDaSZoJUDcR520k4glQI0Nd/8AqSVAP9NQSm7JJUDxmCqV2+klQKFeBOBICiZAUyTeKrYqJkAF6rd1I0smQLavkcCQayZAaHVrC/6LJkAZO0VWa6wmQMoAH6HYzCZAfMb460XtJkAujNI2sw0nQN9RrIEgLidAkReGzI1OJ0BC3V8X+24nQPSiOWJojydApWgTrdWvJ0BXLu33QtAnQAn0xkKw8CdAubmgjR0RKEBrf3rYijEoQB1FVCP4UShAzgoubmVyKECA0Ae50pIoQDGW4QNAsyhA4lu7Tq3TKECUIZWZGvQoQEbnbuSHFClA96xIL/U0KUCociJ6YlUpQFo4/MTPdSlAC/7VDz2WKUC9w69aqrYpQG+JiaUX1ylAH09j8IT3KUDRFD078hcqQIPaFoZfOCpANKDw0MxYKkDmZcobOnkqQJgrpGanmSpASPF9sRS6KkD6tlf8gdoqQKx8MUfv+ipAXUILklwbK0APCOXcyTsrQMDNvic3XCtAcZOYcqR8K0AjWXK9EZ0rQNUeTAh/vStAhuQlU+zdK0A3qv+dWf4rQOlv2ejGHixAmjWzMzQ/LEBM+4x+oV8sQP7AZskOgCxAr4ZAFHygLEBgTBpf6cAsQBIS9KlW4SxAxNfN9MMBLUB1nac/MSItQCZjgYqeQi1A2Chb1QtjLUCJ7jQgeYMtQDu0Dmvmoy1A7XnotVPELUCdP8IAweQtQE8FnEsuBS5AAct1lpslLkCykE/hCEYuQGRWKSx2Zi5AFhwDd+OGLkDG4dzBUKcuQHintgy+xy5AKm2QVyvoLkDbMmqimAgvQI34Q+0FKS9APr4dOHNJL0Dvg/eC4GkvQKFJ0c1Nii9AUw+rGLuqL0AE1YRjKMsvQLWaXq6V6y9ANDCcfAEGMEAMEwkiOBYwQOX1dcduJjBAvtjibKU2MECWu08S3EYwQG+evLcSVzBASIEpXUlnMEAgZJYCgHcwQPlGA6i2hzBA0ilwTe2XMECrDN3yI6gwQITvSZhauDBAXNK2PZHIMEA1tSPjx9gwQA6YkIj+6DBA5nr9LTX5MEC/XWrTawkxQJhA13iiGTFAcSNEHtkpMUBKBrHDDzoxQCPpHWlGSjFA+8uKDn1aMUDTrvezs2oxQKyRZFnqejFAhXTR/iCLMUBeVz6kV5sxQDc6q0mOqzFADx0Y78S7MUDo/4SU+8sxQMHi8Tky3DFAmsVe32jsMUBzqMuEn/wxQEyLOCrWDDJAJG6lzwwdMkD8UBJ1Qy0yQNUzfxp6PTJArhbsv7BNMkCH+Vhl510yQGDcxQoebjJAOb8ysFR+MkARop9Vi44yQOqEDPvBnjJAw2d5oPiuMkCbSuZFL78yQHQtU+tlzzJATRDAkJzfMkAl8yw20+8yQP7VmdsJADNA17gGgUAQM0Cwm3MmdyAzQIl+4MutMDNAYmFNceRAM0A6RLoWG1EzQBInJ7xRYTNA6wmUYYhxM0DE7AAHv4EzQJ3Pbaz1kTNAdrLaUSyiM0BOlUf3YrIzQCd4tJyZwjNAAFshQtDSM0DZPY7nBuMzQLIg+4w98zNAiwNoMnQDNEBi5tTXqhM0QDvJQX3hIzRAFKyuIhg0NEDtjhvITkQ0QMZxiG2FVDRAn1T1ErxkNEB3N2K48nQ0QFAaz10phTRAKf07A2CVNEAC4KiolqU0QNrCFU7NtTRAs6WC8wPGNECMiO+YOtY0QGRrXD5x5jRAPU7J46f2NEAWMTaJ3gY1QO8Toy4VFzVAyPYP1EsnNUCh2Xx5gjc1QHm86R65RzVAUp9WxO9XNUAqgsNpJmg1QANlMA9deDVA3EedtJOINUC1Kgpaypg1QI0Nd/8AqTVAZvDjpDe5NUA/01BKbsk1QBi2ve+k2TVA8ZgqldvpNUDKe5c6Evo1QKFeBOBICjZAekFxhX8aNkBTJN4qtio2QCwHS9DsOjZABeq3dSNLNkDezCQbWls2QLavkcCQazZAj5L+Zcd7NkBodWsL/os2QEFY2LA0nDZAGTtFVmusNkDyHbL7obw2QMoAH6HYzDZAo+OLRg/dNkB8xvjrRe02QFWpZZF8/TZALozSNrMNN0AHbz/c6R03QN9RrIEgLjdAuDQZJ1c+N0CRF4bMjU43QGn68nHEXjdAQt1fF/tuN0AbwMy8MX83QPSiOWJojzdAzIWmB5+fN0ClaBOt1a83QH5LgFIMwDdAVy7t90LQN0AwEVqdeeA3QAn0xkKw8DdA4NYz6OYAOEC5uaCNHRE4QJKcDTNUIThAa3962IoxOEBEYud9wUE4QB1FVCP4UThA9SfByC5iOEDOCi5uZXI4QKftmhOcgjhAgNAHudKSOEBZs3ReCaM4QDGW4QNAszhACXlOqXbDOEDiW7tOrdM4QLs+KPTj4zhAlCGVmRr0OEBtBAI/UQQ5QEbnbuSHFDlAHsrbib4kOUD3rEgv9TQ5QNCPtdQrRTlAqHIiemJVOUCBVY8fmWU5QFo4/MTPdTlAMhtpagaGOUAL/tUPPZY5QOTgQrVzpjlAvcOvWqq2OUCWphwA4cY5QG+JiaUX1zlASGz2Sk7nOUAfT2PwhPc5QPgx0JW7BzpA0RQ9O/IXOkCq96ngKCg6QIPaFoZfODpAXL2DK5ZIOkA0oPDQzFg6QA2DXXYDaTpA5mXKGzp5OkC/SDfBcIk6QJgrpGanmTpAcA4RDN6pOkBI8X2xFLo6QCHU6lZLyjpA+rZX/IHaOkDTmcShuOo6QKx8MUfv+jpAhV+e7CULO0BdQguSXBs7QDYleDeTKztADwjl3Mk7O0Dn6lGCAEw7QMDNvic3XDtAmbArzW1sO0Bxk5hypHw7QEp2BRjbjDtAI1lyvRGdO0D8O99iSK07QNUeTAh/vTtArgG5rbXNO0CG5CVT7N07QF7Hkvgi7jtAN6r/nVn+O0AQjWxDkA48QOlv2ejGHjxAwlJGjv0uPECaNbMzND88QHMYINlqTzxATPuMfqFfPEAl3vkj2G88QP7AZskOgDxA16PTbkWQPECvhkAUfKA8QIdprbmysDxAYEwaX+nAPEA5L4cEINE8QBIS9KlW4TxA6/RgT43xPEDE1830wwE9QJy6Opr6ET1AdZ2nPzEiPUBOgBTlZzI9QCZjgYqeQj1A/0XuL9VSPUDYKFvVC2M9QLALyHpCcz1Aie40IHmDPUBi0aHFr5M9QDu0Dmvmoz1AFJd7EB20PUDteei1U8Q9QMVcVVuK1D1AnT/CAMHkPUB2Ii+m9/Q9QE8FnEsuBT5AKOgI8WQVPkABy3WWmyU+QNmt4jvSNT5AspBP4QhGPkCLc7yGP1Y+QGRWKSx2Zj5APTmW0ax2PkAWHAN344Y+QO3+bxwalz5AxuHcwVCnPkCfxElnh7c+QHintgy+xz5AUYojsvTXPkAqbZBXK+g+QANQ/fxh+D5A2zJqopgIP0C0FddHzxg/QI34Q+0FKT9AZduwkjw5P0A+vh04c0k/QBehit2pWT9A74P3guBpP0DIZmQoF3o/QKFJ0c1Nij9Aeiw+c4SaP0BTD6sYu6o/QCzyF77xuj9ABNWEYyjLP0Dct/EIX9s/QLWaXq6V6z9Ajn3LU8z7P0A0MJx8AQZAQKChUs8cDkBADBMJIjgWQEB4hL90Ux5AQOX1dcduJkBAUWcsGoouQEC+2OJspTZAQCpKmb/APkBAlrtPEtxGQEADLQZl905AQG+evLcSV0BA3A9zCi5fQEBIgSldSWdAQLTy369kb0BAIGSWAoB3QECN1UxVm39AQPlGA6i2h0BAZri5+tGPQEDSKXBN7ZdAQD+bJqAIoEBAqwzd8iOoQEAXfpNFP7BAQITvSZhauEBA8GAA63XAQEBc0rY9kchAQMlDbZCs0EBANbUj48fYQECiJto14+BAQA6YkIj+6EBAewlH2xnxQEDmev0tNflAQFPss4BQAUFAv11q02sJQUAszyAmhxFBQJhA13iiGUFABLKNy70hQUBxI0Qe2SlBQN2U+nD0MUFASgaxww86QUC2d2cWK0JBQCPpHWlGSkFAj1rUu2FSQUD7y4oOfVpBQGc9QWGYYkFA0673s7NqQUBAIK4Gz3JBQKyRZFnqekFAGQMbrAWDQUCFdNH+IItBQPLlh1E8k0FAXlc+pFebQUDLyPT2cqNBQDc6q0mOq0FApKthnKmzQUAPHRjvxLtBQHuOzkHgw0FA6P+ElPvLQUBUcTvnFtRBQMHi8Tky3EFALVSojE3kQUCaxV7faOxBQAY3FTKE9EFAc6jLhJ/8QUDfGYLXugRCQEyLOCrWDEJAuPzufPEUQkAkbqXPDB1CQJDfWyIoJUJA/FASdUMtQkBpwsjHXjVCQNUzfxp6PUJAQqU1bZVFQkCuFuy/sE1CQBuIohLMVUJAh/lYZeddQkD0ag+4AmZCQGDcxQoebkJAzE18XTl2QkA5vzKwVH5CQKQw6QJwhkJAEaKfVYuOQkB9E1aoppZCQOqEDPvBnkJAVvbCTd2mQkDDZ3mg+K5CQC/ZL/MTt0JAm0rmRS+/QkAIvJyYSsdCQHQtU+tlz0JA4Z4JPoHXQkBNEMCQnN9CQLmBduO350JAJfMsNtPvQkCSZOOI7vdCQP7VmdsJAENAa0dQLiUIQ0DXuAaBQBBDQEMqvdNbGENAsJtzJncgQ0AcDSp5kihDQIl+4MutMENA9e+WHsk4Q0BiYU1x5EBDQM3SA8T/SENAOkS6FhtRQ0CmtXBpNllDQBInJ7xRYUNAf5jdDm1pQ0DrCZRhiHFDQFh7SrSjeUNAxOwAB7+BQ0AxXrdZ2olDQJ3Pbaz1kUNACkEk/xCaQ0B2stpRLKJDQOMjkaRHqkNATpVH92KyQ0C6Bv5JfrpDQCd4tJyZwkNAk+lq77TKQ0AAWyFC0NJDQGzM15Tr2kNA2T2O5wbjQ0BFr0Q6IutDQLIg+4w980NAHpKx31j7Q0CLA2gydANEQPd0HoWPC0RAYubU16oTREDPV4sqxhtEQDvJQX3hI0RAqDr4z/wrREAUrK4iGDREQIEdZXUzPERA7Y4byE5EREBaANIaakxEQMZxiG2FVERAM+M+wKBcRECfVPUSvGREQAvGq2XXbERAdzdiuPJ0REDjqBgLDn1EQFAaz10phURAvIuFsESNREAp/TsDYJVEQJVu8lV7nURAAuCoqJalREBuUV/7sa1EQNrCFU7NtURARzTMoOi9RECzpYLzA8ZEQCAXOUYfzkRAjIjvmDrWRED4+aXrVd5EQGRrXD5x5kRA0dwSkYzuREA9Tsnjp/ZEQKq/fzbD/kRAFjE2id4GRUCCouzb+Q5FQO8Toy4VF0VAW4VZgTAfRUDI9g/USydFQDRoxiZnL0VAodl8eYI3RUAMSzPMnT9FQHm86R65R0VA5S2gcdRPRUBSn1bE71dFQL4QDRcLYEVAKoLDaSZoRUCX83m8QXBFQANlMA9deEVAcNbmYXiARUDcR520k4hFQEm5UwevkEVAtSoKWsqYRUAhnMCs5aBFQI0Nd/8AqUVA+X4tUhyxRUBm8OOkN7lFQNJhmvdSwUVAP9NQSm7JRUCrRAedidFFQBi2ve+k2UVAhCd0QsDhRUDxmCqV2+lFQF0K4ef28UVAynuXOhL6RUA27U2NLQJGQKFeBOBICkZADtC6MmQSRkB6QXGFfxpGQOeyJ9iaIkZAUyTeKrYqRkDAlZR90TJGQCwHS9DsOkZAmXgBIwhDRkAF6rd1I0tGQHJbbsg+U0ZA3swkG1pbRkBKPtttdWNGQLavkcCQa0ZAIiFIE6xzRkCPkv5lx3tGQPsDtbjig0ZAaHVrC/6LRkDU5iFeGZRGQEFY2LA0nEZArcmOA1CkRkAZO0VWa6xGQIas+6iGtEZA8h2y+6G8RkBfj2hOvcRGQMoAH6HYzEZAN3LV8/PURkCj44tGD91GQBBVQpkq5UZAfMb460XtRkDpN68+YfVGQFWpZZF8/UZAwRoc5JcFR0AujNI2sw1HQJr9iInOFUdAB28/3OkdR0Bz4PUuBSZHQN9RrIEgLkdAS8Ni1Ds2R0C4NBknVz5HQCSmz3lyRkdAkReGzI1OR0D9iDwfqVZHQGn68nHEXkdA1mupxN9mR0BC3V8X+25HQK9OFmoWd0dAG8DMvDF/R0CIMYMPTYdHQPSiOWJoj0dAYBTwtIOXR0DMhaYHn59HQDj3XFq6p0dApWgTrdWvR0AR2sn/8LdHQH5LgFIMwEdA6rw2pSfIR0BXLu33QtBHQMOfo0pe2EdAMBFanXngR0CcghDwlOhHQAn0xkKw8EdAdGV9lcv4R0Dg1jPo5gBIQE1I6joCCUhAubmgjR0RSEAmK1fgOBlIQJKcDTNUIUhA/w3EhW8pSEBrf3rYijFIQNjwMCumOUhARGLnfcFBSECx053Q3ElIQB1FVCP4UUhAiLYKdhNaSED1J8HILmJIQGGZdxtKakhAzgoubmVySEA6fOTAgHpIQKftmhOcgkhAE19RZreKSECA0Ae50pJIQOxBvgvumkhAWbN0XgmjSEDFJCuxJKtIQDGW4QNAs0hAngeYVlu7SEAJeU6pdsNIQHbqBPyRy0hA4lu7Tq3TSEBPzXGhyNtIQLs+KPTj40hAKLDeRv/rSECUIZWZGvRIQACTS+w1/EhAbQQCP1EESUDZdbiRbAxJQEbnbuSHFElAslglN6McSUAeytuJviRJQIo7ktzZLElA96xIL/U0SUBjHv+BED1JQNCPtdQrRUlAPAFsJ0dNSUCociJ6YlVJQBXk2Mx9XUlAgVWPH5llSUDuxkVytG1JQFo4/MTPdUlAx6myF+t9SUAyG2lqBoZJQJ+MH70hjklAC/7VDz2WSUB3b4xiWJ5JQOTgQrVzpklAUFL5B4+uSUC9w69aqrZJQCk1Zq3FvklAlqYcAOHGSUACGNNS/M5JQG+JiaUX10lA2/o/+DLfSUBIbPZKTudJQLPdrJ1p70lAH09j8IT3SUCMwBlDoP9JQPgx0JW7B0pAZaOG6NYPSkDRFD078hdKQD6G840NIEpAqvep4CgoSkAXaWAzRDBKQIPaFoZfOEpA8EvN2HpASkBcvYMrlkhKQMcuOn6xUEpANKDw0MxYSkCgEacj6GBKQA2DXXYDaUpAefQTyR5xSkDmZcobOnlKQFLXgG5VgUpAv0g3wXCJSkAruu0TjJFKQJgrpGanmUpABJ1aucKhSkBwDhEM3qlKQNx/x175sUpASPF9sRS6SkC1YjQEMMJKQCHU6lZLykpAjkWhqWbSSkD6tlf8gdpKQGcoDk+d4kpA05nEobjqSkA/C3v00/JKQKx8MUfv+kpAGO7nmQoDS0CFX57sJQtLQPHQVD9BE0tAXUILklwbS0DJs8HkdyNLQDYleDeTK0tAopYuiq4zS0APCOXcyTtLQHt5my/lQ0tA5+pRggBMS0BUXAjVG1RLQMDNvic3XEtALT91elJkS0CZsCvNbWxLQAYi4h+JdEtAcZOYcqR8S0DeBE/Fv4RLQEp2BRjbjEtAt+e7avaUS0AjWXK9EZ1LQI/KKBAtpUtA/DvfYkitS0BorZW1Y7VLQNUeTAh/vUtAQZACW5rFS0CuAbmttc1LQBpzbwDR1UtAhuQlU+zdS0DyVdylB+ZLQF7Hkvgi7ktAyzhJSz72S0A3qv+dWf5LQKQbtvB0BkxAEI1sQ5AOTEB9/iKWqxZMQOlv2ejGHkxAVuGPO+ImTEDCUkaO/S5MQC/E/OAYN0xAmjWzMzQ/TEAGp2mGT0dMQHMYINlqT0xA34nWK4ZXTEBM+4x+oV9MQLhsQ9G8Z0xAJd75I9hvTECRT7B283dMQP7AZskOgExAajIdHCqITEDXo9NuRZBMQEMVisFgmExAr4ZAFHygTEAb+PZml6hMQIdprbmysExA9NpjDM64TEBgTBpf6cBMQM290LEEyUxAOS+HBCDRTECmoD1XO9lMQBIS9KlW4UxAfoOq/HHpTEDr9GBPjfFMQFdmF6Ko+UxAxNfN9MMBTUAvSYRH3wlNQJy6Opr6EU1ACCzx7BUaTUB1nac/MSJNQOEOXpJMKk1AToAU5WcyTUC68co3gzpNQCZjgYqeQk1Ak9Q33blKTUD/Re4v1VJNQGy3pILwWk1A2Chb1QtjTUBEmhEoJ2tNQLALyHpCc01AHX1+zV17TUCJ7jQgeYNNQPZf63KUi01AYtGhxa+TTUDOQlgYy5tNQDu0Dmvmo01ApyXFvQGsTUAUl3sQHbRNQIAIMmM4vE1A7XnotVPETUBZ654Ib8xNQMVcVVuK1E1AMc4LrqXcTUCdP8IAweRNQAqxeFPc7E1AdiIvpvf0TUDjk+X4Ev1NQE8FnEsuBU5AvHZSnkkNTkAo6AjxZBVOQJVZv0OAHU5AAct1lpslTkBuPCzpti1OQNmt4jvSNU5ARR+Zju09TkCykE/hCEZOQB4CBjQkTk5Ai3O8hj9WTkD35HLZWl5OQGRWKSx2Zk5A0MfffpFuTkA9OZbRrHZOQKmqTCTIfk5AFhwDd+OGTkCCjbnJ/o5OQO3+bxwal05AWnAmbzWfTkDG4dzBUKdOQDNTkxRsr05An8RJZ4e3TkAMNgC6or9OQHintgy+x05A5RhtX9nPTkBRiiOy9NdOQL772QQQ4E5AKm2QVyvoTkCW3kaqRvBOQANQ/fxh+E5AbsGzT30AT0DbMmqimAhPQEekIPWzEE9AtBXXR88YT0Agh42a6iBPQI34Q+0FKU9A+Wn6PyExT0Bl27CSPDlPQNJMZ+VXQU9APr4dOHNJT0CrL9SKjlFPQBehit2pWU9AgxJBMMVhT0Dvg/eC4GlPQFz1rdX7cU9AyGZkKBd6T0A12Bp7MoJPQKFJ0c1Nik9ADbuHIGmST0B6LD5zhJpPQOad9MWfok9AUw+rGLuqT0C/gGFr1rJPQCzyF77xuk9Al2POEA3DT0AE1YRjKMtPQHBGO7ZD009A3LfxCF/bT0BJKahbeuNPQLWaXq6V609AIgwVAbHzT0COfctTzPtPQH33QNPzAVBANDCcfAEGUEDqaPclDwpQQKChUs8cDlBAVtqteCoSUEAMEwkiOBZQQMJLZMtFGlBAeIS/dFMeUEAvvRoeYSJQQOX1dcduJlBAmy7RcHwqUEBRZywaii5QQAigh8OXMlBAvtjibKU2UEB0ET4WszpQQCpKmb/APlBA4YL0aM5CUECWu08S3EZQQEz0qrvpSlBAAy0GZfdOUEC5ZWEOBVNQQG+evLcSV1BAJdcXYSBbUEDcD3MKLl9QQJJIzrM7Y1BASIEpXUlnUED+uYQGV2tQQLTy369kb1BAays7WXJzUEAgZJYCgHdQQNec8auNe1BAjdVMVZt/UEBDDqj+qINQQPlGA6i2h1BAsH9eUcSLUEBmuLn60Y9QQBzxFKTfk1BA0ilwTe2XUECIYsv2+ptQQD+bJqAIoFBA9dOBSRakUECrDN3yI6hQQGFFOJwxrFBAF36TRT+wUEDNtu7uTLRQQITvSZhauFBAOiilQWi8UEDwYADrdcBQQKaZW5SDxFBA",
          "dtype": "f8"
         },
         "xaxis": "x",
         "y": {
          "bdata": "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",
          "dtype": "f8"
         },
         "yaxis": "y"
        },
        {
         "line": {
          "color": "red",
          "width": 3
         },
         "mode": "lines",
         "name": "Sonar Smoothed",
         "type": "scatter",
         "x": {
          "bdata": "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",
          "dtype": "f8"
         },
         "xaxis": "x",
         "y": {
          "bdata": "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",
          "dtype": "f8"
         },
         "yaxis": "y"
        },
        {
         "line": {
          "color": "blue",
          "width": 3
         },
         "mode": "lines",
         "name": "DVL Distance",
         "type": "scatter",
         "x": {
          "bdata": "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",
          "dtype": "f8"
         },
         "xaxis": "x",
         "y": {
          "bdata": "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",
          "dtype": "f8"
         },
         "yaxis": "y"
        }
       ],
       "layout": {
        "height": 600,
        "hovermode": "x unified",
        "template": {
         "data": {
          "bar": [
           {
            "error_x": {
             "color": "#2a3f5f"
            },
            "error_y": {
             "color": "#2a3f5f"
            },
            "marker": {
             "line": {
              "color": "#E5ECF6",
              "width": 0.5
             },
             "pattern": {
              "fillmode": "overlay",
              "size": 10,
              "solidity": 0.2
             }
            },
            "type": "bar"
           }
          ],
          "barpolar": [
           {
            "marker": {
             "line": {
              "color": "#E5ECF6",
              "width": 0.5
             },
             "pattern": {
              "fillmode": "overlay",
              "size": 10,
              "solidity": 0.2
             }
            },
            "type": "barpolar"
           }
          ],
          "carpet": [
           {
            "aaxis": {
             "endlinecolor": "#2a3f5f",
             "gridcolor": "white",
             "linecolor": "white",
             "minorgridcolor": "white",
             "startlinecolor": "#2a3f5f"
            },
            "baxis": {
             "endlinecolor": "#2a3f5f",
             "gridcolor": "white",
             "linecolor": "white",
             "minorgridcolor": "white",
             "startlinecolor": "#2a3f5f"
            },
            "type": "carpet"
           }
          ],
          "choropleth": [
           {
            "colorbar": {
             "outlinewidth": 0,
             "ticks": ""
            },
            "type": "choropleth"
           }
          ],
          "contour": [
           {
            "colorbar": {
             "outlinewidth": 0,
             "ticks": ""
            },
            "colorscale": [
             [
              0,
              "#0d0887"
             ],
             [
              0.1111111111111111,
              "#46039f"
             ],
             [
              0.2222222222222222,
              "#7201a8"
             ],
             [
              0.3333333333333333,
              "#9c179e"
             ],
             [
              0.4444444444444444,
              "#bd3786"
             ],
             [
              0.5555555555555556,
              "#d8576b"
             ],
             [
              0.6666666666666666,
              "#ed7953"
             ],
             [
              0.7777777777777778,
              "#fb9f3a"
             ],
             [
              0.8888888888888888,
              "#fdca26"
             ],
             [
              1,
              "#f0f921"
             ]
            ],
            "type": "contour"
           }
          ],
          "contourcarpet": [
           {
            "colorbar": {
             "outlinewidth": 0,
             "ticks": ""
            },
            "type": "contourcarpet"
           }
          ],
          "heatmap": [
           {
            "colorbar": {
             "outlinewidth": 0,
             "ticks": ""
            },
            "colorscale": [
             [
              0,
              "#0d0887"
             ],
             [
              0.1111111111111111,
              "#46039f"
             ],
             [
              0.2222222222222222,
              "#7201a8"
             ],
             [
              0.3333333333333333,
              "#9c179e"
             ],
             [
              0.4444444444444444,
              "#bd3786"
             ],
             [
              0.5555555555555556,
              "#d8576b"
             ],
             [
              0.6666666666666666,
              "#ed7953"
             ],
             [
              0.7777777777777778,
              "#fb9f3a"
             ],
             [
              0.8888888888888888,
              "#fdca26"
             ],
             [
              1,
              "#f0f921"
             ]
            ],
            "type": "heatmap"
           }
          ],
          "histogram": [
           {
            "marker": {
             "pattern": {
              "fillmode": "overlay",
              "size": 10,
              "solidity": 0.2
             }
            },
            "type": "histogram"
           }
          ],
          "histogram2d": [
           {
            "colorbar": {
             "outlinewidth": 0,
             "ticks": ""
            },
            "colorscale": [
             [
              0,
              "#0d0887"
             ],
             [
              0.1111111111111111,
              "#46039f"
             ],
             [
              0.2222222222222222,
              "#7201a8"
             ],
             [
              0.3333333333333333,
              "#9c179e"
             ],
             [
              0.4444444444444444,
              "#bd3786"
             ],
             [
              0.5555555555555556,
              "#d8576b"
             ],
             [
              0.6666666666666666,
              "#ed7953"
             ],
             [
              0.7777777777777778,
              "#fb9f3a"
             ],
             [
              0.8888888888888888,
              "#fdca26"
             ],
             [
              1,
              "#f0f921"
             ]
            ],
            "type": "histogram2d"
           }
          ],
          "histogram2dcontour": [
           {
            "colorbar": {
             "outlinewidth": 0,
             "ticks": ""
            },
            "colorscale": [
             [
              0,
              "#0d0887"
             ],
             [
              0.1111111111111111,
              "#46039f"
             ],
             [
              0.2222222222222222,
              "#7201a8"
             ],
             [
              0.3333333333333333,
              "#9c179e"
             ],
             [
              0.4444444444444444,
              "#bd3786"
             ],
             [
              0.5555555555555556,
              "#d8576b"
             ],
             [
              0.6666666666666666,
              "#ed7953"
             ],
             [
              0.7777777777777778,
              "#fb9f3a"
             ],
             [
              0.8888888888888888,
              "#fdca26"
             ],
             [
              1,
              "#f0f921"
             ]
            ],
            "type": "histogram2dcontour"
           }
          ],
          "mesh3d": [
           {
            "colorbar": {
             "outlinewidth": 0,
             "ticks": ""
            },
            "type": "mesh3d"
           }
          ],
          "parcoords": [
           {
            "line": {
             "colorbar": {
              "outlinewidth": 0,
              "ticks": ""
             }
            },
            "type": "parcoords"
           }
          ],
          "pie": [
           {
            "automargin": true,
            "type": "pie"
           }
          ],
          "scatter": [
           {
            "fillpattern": {
             "fillmode": "overlay",
             "size": 10,
             "solidity": 0.2
            },
            "type": "scatter"
           }
          ],
          "scatter3d": [
           {
            "line": {
             "colorbar": {
              "outlinewidth": 0,
              "ticks": ""
             }
            },
            "marker": {
             "colorbar": {
              "outlinewidth": 0,
              "ticks": ""
             }
            },
            "type": "scatter3d"
           }
          ],
          "scattercarpet": [
           {
            "marker": {
             "colorbar": {
              "outlinewidth": 0,
              "ticks": ""
             }
            },
            "type": "scattercarpet"
           }
          ],
          "scattergeo": [
           {
            "marker": {
             "colorbar": {
              "outlinewidth": 0,
              "ticks": ""
             }
            },
            "type": "scattergeo"
           }
          ],
          "scattergl": [
           {
            "marker": {
             "colorbar": {
              "outlinewidth": 0,
              "ticks": ""
             }
            },
            "type": "scattergl"
           }
          ],
          "scattermap": [
           {
            "marker": {
             "colorbar": {
              "outlinewidth": 0,
              "ticks": ""
             }
            },
            "type": "scattermap"
           }
          ],
          "scattermapbox": [
           {
            "marker": {
             "colorbar": {
              "outlinewidth": 0,
              "ticks": ""
             }
            },
            "type": "scattermapbox"
           }
          ],
          "scatterpolar": [
           {
            "marker": {
             "colorbar": {
              "outlinewidth": 0,
              "ticks": ""
             }
            },
            "type": "scatterpolar"
           }
          ],
          "scatterpolargl": [
           {
            "marker": {
             "colorbar": {
              "outlinewidth": 0,
              "ticks": ""
             }
            },
            "type": "scatterpolargl"
           }
          ],
          "scatterternary": [
           {
            "marker": {
             "colorbar": {
              "outlinewidth": 0,
              "ticks": ""
             }
            },
            "type": "scatterternary"
           }
          ],
          "surface": [
           {
            "colorbar": {
             "outlinewidth": 0,
             "ticks": ""
            },
            "colorscale": [
             [
              0,
              "#0d0887"
             ],
             [
              0.1111111111111111,
              "#46039f"
             ],
             [
              0.2222222222222222,
              "#7201a8"
             ],
             [
              0.3333333333333333,
              "#9c179e"
             ],
             [
              0.4444444444444444,
              "#bd3786"
             ],
             [
              0.5555555555555556,
              "#d8576b"
             ],
             [
              0.6666666666666666,
              "#ed7953"
             ],
             [
              0.7777777777777778,
              "#fb9f3a"
             ],
             [
              0.8888888888888888,
              "#fdca26"
             ],
             [
              1,
              "#f0f921"
             ]
            ],
            "type": "surface"
           }
          ],
          "table": [
           {
            "cells": {
             "fill": {
              "color": "#EBF0F8"
             },
             "line": {
              "color": "white"
             }
            },
            "header": {
             "fill": {
              "color": "#C8D4E3"
             },
             "line": {
              "color": "white"
             }
            },
            "type": "table"
           }
          ]
         },
         "layout": {
          "annotationdefaults": {
           "arrowcolor": "#2a3f5f",
           "arrowhead": 0,
           "arrowwidth": 1
          },
          "autotypenumbers": "strict",
          "coloraxis": {
           "colorbar": {
            "outlinewidth": 0,
            "ticks": ""
           }
          },
          "colorscale": {
           "diverging": [
            [
             0,
             "#8e0152"
            ],
            [
             0.1,
             "#c51b7d"
            ],
            [
             0.2,
             "#de77ae"
            ],
            [
             0.3,
             "#f1b6da"
            ],
            [
             0.4,
             "#fde0ef"
            ],
            [
             0.5,
             "#f7f7f7"
            ],
            [
             0.6,
             "#e6f5d0"
            ],
            [
             0.7,
             "#b8e186"
            ],
            [
             0.8,
             "#7fbc41"
            ],
            [
             0.9,
             "#4d9221"
            ],
            [
             1,
             "#276419"
            ]
           ],
           "sequential": [
            [
             0,
             "#0d0887"
            ],
            [
             0.1111111111111111,
             "#46039f"
            ],
            [
             0.2222222222222222,
             "#7201a8"
            ],
            [
             0.3333333333333333,
             "#9c179e"
            ],
            [
             0.4444444444444444,
             "#bd3786"
            ],
            [
             0.5555555555555556,
             "#d8576b"
            ],
            [
             0.6666666666666666,
             "#ed7953"
            ],
            [
             0.7777777777777778,
             "#fb9f3a"
            ],
            [
             0.8888888888888888,
             "#fdca26"
            ],
            [
             1,
             "#f0f921"
            ]
           ],
           "sequentialminus": [
            [
             0,
             "#0d0887"
            ],
            [
             0.1111111111111111,
             "#46039f"
            ],
            [
             0.2222222222222222,
             "#7201a8"
            ],
            [
             0.3333333333333333,
             "#9c179e"
            ],
            [
             0.4444444444444444,
             "#bd3786"
            ],
            [
             0.5555555555555556,
             "#d8576b"
            ],
            [
             0.6666666666666666,
             "#ed7953"
            ],
            [
             0.7777777777777778,
             "#fb9f3a"
            ],
            [
             0.8888888888888888,
             "#fdca26"
            ],
            [
             1,
             "#f0f921"
            ]
           ]
          },
          "colorway": [
           "#636efa",
           "#EF553B",
           "#00cc96",
           "#ab63fa",
           "#FFA15A",
           "#19d3f3",
           "#FF6692",
           "#B6E880",
           "#FF97FF",
           "#FECB52"
          ],
          "font": {
           "color": "#2a3f5f"
          },
          "geo": {
           "bgcolor": "white",
           "lakecolor": "white",
           "landcolor": "#E5ECF6",
           "showlakes": true,
           "showland": true,
           "subunitcolor": "white"
          },
          "hoverlabel": {
           "align": "left"
          },
          "hovermode": "closest",
          "mapbox": {
           "style": "light"
          },
          "paper_bgcolor": "white",
          "plot_bgcolor": "#E5ECF6",
          "polar": {
           "angularaxis": {
            "gridcolor": "white",
            "linecolor": "white",
            "ticks": ""
           },
           "bgcolor": "#E5ECF6",
           "radialaxis": {
            "gridcolor": "white",
            "linecolor": "white",
            "ticks": ""
           }
          },
          "scene": {
           "xaxis": {
            "backgroundcolor": "#E5ECF6",
            "gridcolor": "white",
            "gridwidth": 2,
            "linecolor": "white",
            "showbackground": true,
            "ticks": "",
            "zerolinecolor": "white"
           },
           "yaxis": {
            "backgroundcolor": "#E5ECF6",
            "gridcolor": "white",
            "gridwidth": 2,
            "linecolor": "white",
            "showbackground": true,
            "ticks": "",
            "zerolinecolor": "white"
           },
           "zaxis": {
            "backgroundcolor": "#E5ECF6",
            "gridcolor": "white",
            "gridwidth": 2,
            "linecolor": "white",
            "showbackground": true,
            "ticks": "",
            "zerolinecolor": "white"
           }
          },
          "shapedefaults": {
           "line": {
            "color": "#2a3f5f"
           }
          },
          "ternary": {
           "aaxis": {
            "gridcolor": "white",
            "linecolor": "white",
            "ticks": ""
           },
           "baxis": {
            "gridcolor": "white",
            "linecolor": "white",
            "ticks": ""
           },
           "bgcolor": "#E5ECF6",
           "caxis": {
            "gridcolor": "white",
            "linecolor": "white",
            "ticks": ""
           }
          },
          "title": {
           "x": 0.05
          },
          "xaxis": {
           "automargin": true,
           "gridcolor": "white",
           "linecolor": "white",
           "ticks": "",
           "title": {
            "standoff": 15
           },
           "zerolinecolor": "white",
           "zerolinewidth": 2
          },
          "yaxis": {
           "automargin": true,
           "gridcolor": "white",
           "linecolor": "white",
           "ticks": "",
           "title": {
            "standoff": 15
           },
           "zerolinecolor": "white",
           "zerolinewidth": 2
          }
         }
        },
        "title": {
         "text": "🔄 Interactive Distance Comparison: Sonar vs DVL"
        },
        "xaxis": {
         "anchor": "y",
         "domain": [
          0,
          1
         ],
         "showgrid": true,
         "title": {
          "text": "Time (seconds)"
         }
        },
        "yaxis": {
         "anchor": "x",
         "domain": [
          0,
          1
         ],
         "showgrid": true,
         "title": {
          "text": "Distance (meters)"
         }
        }
       }
      }
     },
     "metadata": {},
     "output_type": "display_data"
    }
   ],
   "source": [
    "# 🔄 COMPARISON: SONAR vs DVL DISTANCE MEASUREMENTS\n",
    "# =================================================\n",
    "import utils.net_distance_analysis as sda\n",
    "\n",
    "print(f\"🎯 LOADING DVL DATA FOR COMPARISON: {TARGET_BAG}\")\n",
    "print(\"=\" * 60)\n",
    "\n",
    "# IMPORTANT: Pass the by_bag folder, not just the exports root\n",
    "# The function expects the folder containing the CSV files\n",
    "from utils.sonar_config import EXPORTS_SUBDIRS\n",
    "BY_BAG_FOLDER = EXPORTS_FOLDER / EXPORTS_SUBDIRS.get('by_bag', 'by_bag')\n",
    "\n",
    "# Load all distance data for the target bag\n",
    "raw_data, distance_measurements = sda.load_all_distance_data_for_bag(TARGET_BAG, BY_BAG_FOLDER)\n",
    "\n",
    "# Display what we loaded\n",
    "print(f\"\\n📊 RAW DATA LOADED:\")\n",
    "for key, data in raw_data.items():\n",
    "    if data is not None:\n",
    "        print(f\"   ✅ {key}: {len(data)} records\")\n",
    "    else:\n",
    "        print(f\"   ❌ {key}: None\")\n",
    "\n",
    "print(f\"\\n📏 DISTANCE MEASUREMENTS LOADED:\")\n",
    "for key, info in distance_measurements.items():\n",
    "    data_len = len(info['data'])\n",
    "    print(f\"   ✅ {key}: {data_len} records - {info['description']}\")\n",
    "\n",
    "try:\n",
    "    fig, comparison_stats = iau.interactive_distance_comparison(distance_results, raw_data, sonar_coverage_m=sonar_coverage_meters, sonar_image_size=image_shape[0])\n",
    "    if comparison_stats and isinstance(comparison_stats, dict) and 'error' in comparison_stats:\n",
    "        print('Comparison did not run:', comparison_stats['error'])\n",
    "    else:\n",
    "        print('\\nComparison stats summary:')\n",
    "        from pprint import pprint\n",
    "        pprint(comparison_stats)\n",
    "        # Display the interactive plot\n",
    "        fig.show()\n",
    "except Exception as e:\n",
    "    print('Error running interactive comparison:', e)"
   ]
  },
  {
   "cell_type": "code",
   "execution_count": 10,
   "id": "43810482",
   "metadata": {},
   "outputs": [
    {
     "name": "stdout",
     "output_type": "stream",
     "text": [
      "🎬 GENERATING VIDEO WITH DUAL NET DISTANCE OVERLAYS\n",
      "============================================================\n",
      "🎯 Target Bag: 2024-08-20_14-31-29\n",
      "📊 DVL Data: 559 records\n",
      "📏 Sonar Analysis: 1059 frames\n",
      "🎥 Camera: disabled\n",
      "🛠️ OPTIMIZED SONAR VIDEO\n",
      "======================================================================\n",
      "🎯 Target Bag: 2024-08-20_14-31-29\n",
      "   Cone Size: 900x700\n",
      "   Range: 0.0-5.0m | FOV: 120.0°\n",
      "   🎥 Camera: disabled\n",
      "   🕸  Net-line: enabled (dist tol=0.5s, pitch tol=2.0s)\n",
      "   📊 Sonar Analysis: enabled\n",
      "   Loading sonar data: sensor_sonoptix_echo_image__2024-08-20_14-31-29_video.csv\n",
      "   ✅ Loaded 1060 sonar frames in 42.49s\n",
      "   ✅ Loaded 559 navigation records in 0.01s\n",
      "      Available: ['NetDistance', 'NetPitch', 'timestamp']\n",
      "   Frames: 1..999 (step 1) => 999\n",
      "   Natural FPS: 15.7\n",
      "   ✅ Loaded 1060 sonar frames in 42.49s\n",
      "   ✅ Loaded 559 navigation records in 0.01s\n",
      "      Available: ['NetDistance', 'NetPitch', 'timestamp']\n",
      "   Frames: 1..999 (step 1) => 999\n",
      "   Natural FPS: 15.7\n",
      "❌ Frame 580 error: cannot access local variable 'sonar_label' where it is not associated with a value\n",
      "❌ Frame 580 error: cannot access local variable 'sonar_label' where it is not associated with a value\n"
     ]
    },
    {
     "ename": "KeyboardInterrupt",
     "evalue": "",
     "output_type": "error",
     "traceback": [
      "\u001b[31m---------------------------------------------------------------------------\u001b[39m",
      "\u001b[31mKeyboardInterrupt\u001b[39m                         Traceback (most recent call last)",
      "\u001b[36mCell\u001b[39m\u001b[36m \u001b[39m\u001b[32mIn[10]\u001b[39m\u001b[32m, line 17\u001b[39m\n\u001b[32m     15\u001b[39m \u001b[38;5;66;03m# Generate the video with both overlays\u001b[39;00m\n\u001b[32m     16\u001b[39m \u001b[38;5;28;01mtry\u001b[39;00m:\n\u001b[32m---> \u001b[39m\u001b[32m17\u001b[39m     video_path = \u001b[43msg\u001b[49m\u001b[43m.\u001b[49m\u001b[43mexport_optimized_sonar_video\u001b[49m\u001b[43m(\u001b[49m\n\u001b[32m     18\u001b[39m \u001b[43m        \u001b[49m\u001b[43mTARGET_BAG\u001b[49m\u001b[43m=\u001b[49m\u001b[43mTARGET_BAG\u001b[49m\u001b[43m,\u001b[49m\n\u001b[32m     19\u001b[39m \u001b[43m        \u001b[49m\u001b[43mEXPORTS_FOLDER\u001b[49m\u001b[43m=\u001b[49m\u001b[43mEXPORTS_FOLDER\u001b[49m\u001b[43m,\u001b[49m\n\u001b[32m     20\u001b[39m \u001b[43m        \u001b[49m\u001b[43mSTART_IDX\u001b[49m\u001b[43m=\u001b[49m\u001b[32;43m1\u001b[39;49m\u001b[43m,\u001b[49m\n\u001b[32m     21\u001b[39m \u001b[43m        \u001b[49m\u001b[43mEND_IDX\u001b[49m\u001b[43m=\u001b[49m\u001b[32;43m1000\u001b[39;49m\u001b[43m,\u001b[49m\u001b[43m  \u001b[49m\u001b[38;5;66;43;03m# Adjust as needed\u001b[39;49;00m\n\u001b[32m     22\u001b[39m \u001b[43m        \u001b[49m\u001b[43mSTRIDE\u001b[49m\u001b[43m=\u001b[49m\u001b[32;43m1\u001b[39;49m\u001b[43m,\u001b[49m\n\u001b[32m     23\u001b[39m \u001b[43m        \u001b[49m\u001b[43mVIDEO_SEQ_DIR\u001b[49m\u001b[43m=\u001b[49m\u001b[43mVIDEO_SEQ_DIR\u001b[49m\u001b[43m,\u001b[49m\n\u001b[32m     24\u001b[39m \u001b[43m        \u001b[49m\u001b[43mINCLUDE_NET\u001b[49m\u001b[43m=\u001b[49m\u001b[38;5;28;43;01mTrue\u001b[39;49;00m\u001b[43m,\u001b[49m\u001b[43m  \u001b[49m\u001b[38;5;66;43;03m# Enable DVL net distance overlay\u001b[39;49;00m\n\u001b[32m     25\u001b[39m \u001b[43m        \u001b[49m\u001b[43mSONAR_DISTANCE_RESULTS\u001b[49m\u001b[43m=\u001b[49m\u001b[43mdistance_results\u001b[49m\u001b[43m,\u001b[49m\u001b[43m  \u001b[49m\u001b[38;5;66;43;03m# Enable sonar analysis overlay\u001b[39;49;00m\n\u001b[32m     26\u001b[39m \u001b[43m        \u001b[49m\u001b[43mNET_DISTANCE_TOLERANCE\u001b[49m\u001b[43m=\u001b[49m\u001b[32;43m0.5\u001b[39;49m\u001b[43m,\u001b[49m\n\u001b[32m     27\u001b[39m \u001b[43m        \u001b[49m\u001b[43mNET_PITCH_TOLERANCE\u001b[49m\u001b[43m=\u001b[49m\u001b[32;43m2.0\u001b[39;49m\u001b[43m,\u001b[49m\u001b[43m  \u001b[49m\u001b[38;5;66;43;03m# Increased from 0.3 to 2.0 seconds for better pitch sync\u001b[39;49;00m\n\u001b[32m     28\u001b[39m \u001b[43m    \u001b[49m\u001b[43m)\u001b[49m\n\u001b[32m     29\u001b[39m     \u001b[38;5;28mprint\u001b[39m(\u001b[33mf\u001b[39m\u001b[33m\"\u001b[39m\u001b[38;5;130;01m\\n\u001b[39;00m\u001b[33m✅ Video generated successfully!\u001b[39m\u001b[33m\"\u001b[39m)\n\u001b[32m     30\u001b[39m     \u001b[38;5;28mprint\u001b[39m(\u001b[33mf\u001b[39m\u001b[33m\"\u001b[39m\u001b[33m📁 Output: \u001b[39m\u001b[38;5;132;01m{\u001b[39;00mvideo_path\u001b[38;5;132;01m}\u001b[39;00m\u001b[33m\"\u001b[39m)\n",
      "\u001b[36mFile \u001b[39m\u001b[32m~/code/SOLAQUA/utils/sonar_and_foto_generation.py:437\u001b[39m, in \u001b[36mexport_optimized_sonar_video\u001b[39m\u001b[34m(TARGET_BAG, EXPORTS_FOLDER, START_IDX, END_IDX, STRIDE, VIDEO_SEQ_DIR, VIDEO_HEIGHT, PAD_BETWEEN, FONT_SCALE, FOV_DEG, RANGE_MIN_M, RANGE_MAX_M, DISPLAY_RANGE_MAX_M, FLIP_BEAMS, FLIP_RANGE, USE_ENHANCED, ENH_SCALE, ENH_TVG, ENH_ALPHA_DB_PER_M, ENH_R0, ENH_P_LOW, ENH_P_HIGH, ENH_GAMMA, ENH_ZERO_AWARE, ENH_EPS_LOG, CONE_W, CONE_H, CONE_FLIP_VERTICAL, CMAP_NAME, INCLUDE_NET, NET_DISTANCE_TOLERANCE, NET_PITCH_TOLERANCE, SONAR_DISTANCE_RESULTS)\u001b[39m\n\u001b[32m    435\u001b[39m frames_written = \u001b[32m0\u001b[39m\n\u001b[32m    436\u001b[39m \u001b[38;5;28;01mfor\u001b[39;00m k, frame_idx \u001b[38;5;129;01min\u001b[39;00m \u001b[38;5;28menumerate\u001b[39m(frame_indices):\n\u001b[32m--> \u001b[39m\u001b[32m437\u001b[39m     cone_frame = \u001b[43mmake_cone_frame\u001b[49m\u001b[43m(\u001b[49m\u001b[43mframe_idx\u001b[49m\u001b[43m)\u001b[49m\n\u001b[32m    438\u001b[39m     \u001b[38;5;28;01mif\u001b[39;00m cone_frame \u001b[38;5;129;01mis\u001b[39;00m \u001b[38;5;28;01mNone\u001b[39;00m:\n\u001b[32m    439\u001b[39m         \u001b[38;5;28;01mcontinue\u001b[39;00m\n",
      "\u001b[36mFile \u001b[39m\u001b[32m~/code/SOLAQUA/utils/sonar_and_foto_generation.py:197\u001b[39m, in \u001b[36mexport_optimized_sonar_video.<locals>.make_cone_frame\u001b[39m\u001b[34m(frame_idx)\u001b[39m\n\u001b[32m    194\u001b[39m \u001b[38;5;28;01mdef\u001b[39;00m\u001b[38;5;250m \u001b[39m\u001b[34mmake_cone_frame\u001b[39m(frame_idx: \u001b[38;5;28mint\u001b[39m) -> np.ndarray | \u001b[38;5;28;01mNone\u001b[39;00m:\n\u001b[32m    195\u001b[39m     \u001b[38;5;28;01mtry\u001b[39;00m:\n\u001b[32m    196\u001b[39m         \u001b[38;5;66;03m# sonar frame\u001b[39;00m\n\u001b[32m--> \u001b[39m\u001b[32m197\u001b[39m         M0 = \u001b[43mget_sonoptix_frame\u001b[49m\u001b[43m(\u001b[49m\u001b[43mdf\u001b[49m\u001b[43m,\u001b[49m\u001b[43m \u001b[49m\u001b[43mframe_idx\u001b[49m\u001b[43m)\u001b[49m\n\u001b[32m    198\u001b[39m         \u001b[38;5;28;01mif\u001b[39;00m M0 \u001b[38;5;129;01mis\u001b[39;00m \u001b[38;5;28;01mNone\u001b[39;00m:\n\u001b[32m    199\u001b[39m             \u001b[38;5;28;01mreturn\u001b[39;00m \u001b[38;5;28;01mNone\u001b[39;00m\n",
      "\u001b[36mFile \u001b[39m\u001b[32m~/code/SOLAQUA/utils/sonar_utils.py:100\u001b[39m, in \u001b[36mget_sonoptix_frame\u001b[39m\u001b[34m(dfs, idx)\u001b[39m\n\u001b[32m     97\u001b[39m         \u001b[38;5;28;01mreturn\u001b[39;00m np.asarray(img, dtype=\u001b[38;5;28mfloat\u001b[39m)\n\u001b[32m     99\u001b[39m \u001b[38;5;28;01mif\u001b[39;00m \u001b[33m\"\u001b[39m\u001b[33mdata\u001b[39m\u001b[33m\"\u001b[39m \u001b[38;5;129;01min\u001b[39;00m dfs.columns:\n\u001b[32m--> \u001b[39m\u001b[32m100\u001b[39m     data = \u001b[43mparse_json_cell\u001b[49m\u001b[43m(\u001b[49m\u001b[43mdfs\u001b[49m\u001b[43m.\u001b[49m\u001b[43mloc\u001b[49m\u001b[43m[\u001b[49m\u001b[43midx\u001b[49m\u001b[43m,\u001b[49m\u001b[43m \u001b[49m\u001b[33;43m\"\u001b[39;49m\u001b[33;43mdata\u001b[39;49m\u001b[33;43m\"\u001b[39;49m\u001b[43m]\u001b[49m\u001b[43m)\u001b[49m\n\u001b[32m    101\u001b[39m     labels = parse_json_cell(dfs.loc[idx, \u001b[33m\"\u001b[39m\u001b[33mdim_labels\u001b[39m\u001b[33m\"\u001b[39m]) \u001b[38;5;28;01mif\u001b[39;00m \u001b[33m\"\u001b[39m\u001b[33mdim_labels\u001b[39m\u001b[33m\"\u001b[39m \u001b[38;5;129;01min\u001b[39;00m dfs.columns \u001b[38;5;28;01melse\u001b[39;00m \u001b[38;5;28;01mNone\u001b[39;00m\n\u001b[32m    102\u001b[39m     sizes = parse_json_cell(dfs.loc[idx, \u001b[33m\"\u001b[39m\u001b[33mdim_sizes\u001b[39m\u001b[33m\"\u001b[39m]) \u001b[38;5;28;01mif\u001b[39;00m \u001b[33m\"\u001b[39m\u001b[33mdim_sizes\u001b[39m\u001b[33m\"\u001b[39m \u001b[38;5;129;01min\u001b[39;00m dfs.columns \u001b[38;5;28;01melse\u001b[39;00m \u001b[38;5;28;01mNone\u001b[39;00m\n",
      "\u001b[36mFile \u001b[39m\u001b[32m~/code/SOLAQUA/utils/sonar_utils.py:62\u001b[39m, in \u001b[36mparse_json_cell\u001b[39m\u001b[34m(v)\u001b[39m\n\u001b[32m     60\u001b[39m \u001b[38;5;28;01mif\u001b[39;00m \u001b[38;5;28misinstance\u001b[39m(v, \u001b[38;5;28mstr\u001b[39m):\n\u001b[32m     61\u001b[39m     \u001b[38;5;28;01mtry\u001b[39;00m:\n\u001b[32m---> \u001b[39m\u001b[32m62\u001b[39m         \u001b[38;5;28;01mreturn\u001b[39;00m \u001b[43mjson\u001b[49m\u001b[43m.\u001b[49m\u001b[43mloads\u001b[49m\u001b[43m(\u001b[49m\u001b[43mv\u001b[49m\u001b[43m)\u001b[49m\n\u001b[32m     63\u001b[39m     \u001b[38;5;28;01mexcept\u001b[39;00m \u001b[38;5;167;01mException\u001b[39;00m:\n\u001b[32m     64\u001b[39m         \u001b[38;5;28;01mreturn\u001b[39;00m \u001b[38;5;28;01mNone\u001b[39;00m\n",
      "\u001b[36mFile \u001b[39m\u001b[32m/opt/homebrew/Cellar/python@3.13/3.13.5/Frameworks/Python.framework/Versions/3.13/lib/python3.13/json/__init__.py:346\u001b[39m, in \u001b[36mloads\u001b[39m\u001b[34m(s, cls, object_hook, parse_float, parse_int, parse_constant, object_pairs_hook, **kw)\u001b[39m\n\u001b[32m    341\u001b[39m     s = s.decode(detect_encoding(s), \u001b[33m'\u001b[39m\u001b[33msurrogatepass\u001b[39m\u001b[33m'\u001b[39m)\n\u001b[32m    343\u001b[39m \u001b[38;5;28;01mif\u001b[39;00m (\u001b[38;5;28mcls\u001b[39m \u001b[38;5;129;01mis\u001b[39;00m \u001b[38;5;28;01mNone\u001b[39;00m \u001b[38;5;129;01mand\u001b[39;00m object_hook \u001b[38;5;129;01mis\u001b[39;00m \u001b[38;5;28;01mNone\u001b[39;00m \u001b[38;5;129;01mand\u001b[39;00m\n\u001b[32m    344\u001b[39m         parse_int \u001b[38;5;129;01mis\u001b[39;00m \u001b[38;5;28;01mNone\u001b[39;00m \u001b[38;5;129;01mand\u001b[39;00m parse_float \u001b[38;5;129;01mis\u001b[39;00m \u001b[38;5;28;01mNone\u001b[39;00m \u001b[38;5;129;01mand\u001b[39;00m\n\u001b[32m    345\u001b[39m         parse_constant \u001b[38;5;129;01mis\u001b[39;00m \u001b[38;5;28;01mNone\u001b[39;00m \u001b[38;5;129;01mand\u001b[39;00m object_pairs_hook \u001b[38;5;129;01mis\u001b[39;00m \u001b[38;5;28;01mNone\u001b[39;00m \u001b[38;5;129;01mand\u001b[39;00m \u001b[38;5;129;01mnot\u001b[39;00m kw):\n\u001b[32m--> \u001b[39m\u001b[32m346\u001b[39m     \u001b[38;5;28;01mreturn\u001b[39;00m \u001b[43m_default_decoder\u001b[49m\u001b[43m.\u001b[49m\u001b[43mdecode\u001b[49m\u001b[43m(\u001b[49m\u001b[43ms\u001b[49m\u001b[43m)\u001b[49m\n\u001b[32m    347\u001b[39m \u001b[38;5;28;01mif\u001b[39;00m \u001b[38;5;28mcls\u001b[39m \u001b[38;5;129;01mis\u001b[39;00m \u001b[38;5;28;01mNone\u001b[39;00m:\n\u001b[32m    348\u001b[39m     \u001b[38;5;28mcls\u001b[39m = JSONDecoder\n",
      "\u001b[36mFile \u001b[39m\u001b[32m/opt/homebrew/Cellar/python@3.13/3.13.5/Frameworks/Python.framework/Versions/3.13/lib/python3.13/json/decoder.py:345\u001b[39m, in \u001b[36mJSONDecoder.decode\u001b[39m\u001b[34m(self, s, _w)\u001b[39m\n\u001b[32m    340\u001b[39m \u001b[38;5;28;01mdef\u001b[39;00m\u001b[38;5;250m \u001b[39m\u001b[34mdecode\u001b[39m(\u001b[38;5;28mself\u001b[39m, s, _w=WHITESPACE.match):\n\u001b[32m    341\u001b[39m \u001b[38;5;250m    \u001b[39m\u001b[33;03m\"\"\"Return the Python representation of ``s`` (a ``str`` instance\u001b[39;00m\n\u001b[32m    342\u001b[39m \u001b[33;03m    containing a JSON document).\u001b[39;00m\n\u001b[32m    343\u001b[39m \n\u001b[32m    344\u001b[39m \u001b[33;03m    \"\"\"\u001b[39;00m\n\u001b[32m--> \u001b[39m\u001b[32m345\u001b[39m     obj, end = \u001b[38;5;28;43mself\u001b[39;49m\u001b[43m.\u001b[49m\u001b[43mraw_decode\u001b[49m\u001b[43m(\u001b[49m\u001b[43ms\u001b[49m\u001b[43m,\u001b[49m\u001b[43m \u001b[49m\u001b[43midx\u001b[49m\u001b[43m=\u001b[49m\u001b[43m_w\u001b[49m\u001b[43m(\u001b[49m\u001b[43ms\u001b[49m\u001b[43m,\u001b[49m\u001b[43m \u001b[49m\u001b[32;43m0\u001b[39;49m\u001b[43m)\u001b[49m\u001b[43m.\u001b[49m\u001b[43mend\u001b[49m\u001b[43m(\u001b[49m\u001b[43m)\u001b[49m\u001b[43m)\u001b[49m\n\u001b[32m    346\u001b[39m     end = _w(s, end).end()\n\u001b[32m    347\u001b[39m     \u001b[38;5;28;01mif\u001b[39;00m end != \u001b[38;5;28mlen\u001b[39m(s):\n",
      "\u001b[36mFile \u001b[39m\u001b[32m/opt/homebrew/Cellar/python@3.13/3.13.5/Frameworks/Python.framework/Versions/3.13/lib/python3.13/json/decoder.py:361\u001b[39m, in \u001b[36mJSONDecoder.raw_decode\u001b[39m\u001b[34m(self, s, idx)\u001b[39m\n\u001b[32m    352\u001b[39m \u001b[38;5;250m\u001b[39m\u001b[33;03m\"\"\"Decode a JSON document from ``s`` (a ``str`` beginning with\u001b[39;00m\n\u001b[32m    353\u001b[39m \u001b[33;03ma JSON document) and return a 2-tuple of the Python\u001b[39;00m\n\u001b[32m    354\u001b[39m \u001b[33;03mrepresentation and the index in ``s`` where the document ended.\u001b[39;00m\n\u001b[32m   (...)\u001b[39m\u001b[32m    358\u001b[39m \n\u001b[32m    359\u001b[39m \u001b[33;03m\"\"\"\u001b[39;00m\n\u001b[32m    360\u001b[39m \u001b[38;5;28;01mtry\u001b[39;00m:\n\u001b[32m--> \u001b[39m\u001b[32m361\u001b[39m     obj, end = \u001b[38;5;28;43mself\u001b[39;49m\u001b[43m.\u001b[49m\u001b[43mscan_once\u001b[49m\u001b[43m(\u001b[49m\u001b[43ms\u001b[49m\u001b[43m,\u001b[49m\u001b[43m \u001b[49m\u001b[43midx\u001b[49m\u001b[43m)\u001b[49m\n\u001b[32m    362\u001b[39m \u001b[38;5;28;01mexcept\u001b[39;00m \u001b[38;5;167;01mStopIteration\u001b[39;00m \u001b[38;5;28;01mas\u001b[39;00m err:\n\u001b[32m    363\u001b[39m     \u001b[38;5;28;01mraise\u001b[39;00m JSONDecodeError(\u001b[33m\"\u001b[39m\u001b[33mExpecting value\u001b[39m\u001b[33m\"\u001b[39m, s, err.value) \u001b[38;5;28;01mfrom\u001b[39;00m\u001b[38;5;250m \u001b[39m\u001b[38;5;28;01mNone\u001b[39;00m\n",
      "\u001b[31mKeyboardInterrupt\u001b[39m: "
     ]
    }
   ],
   "source": [
    "# 🎥 Generate Video with Both DVL and Sonar Analysis Overlays\n",
    "# ========================================================\n",
    "import utils.sonar_and_foto_generation as sg\n",
    "\n",
    "# Set up paths\n",
    "VIDEO_SEQ_DIR = None  # Set to path if you want camera footage included\n",
    "\n",
    "print(\"🎬 GENERATING VIDEO WITH DUAL NET DISTANCE OVERLAYS\")\n",
    "print(\"=\" * 60)\n",
    "print(f\"🎯 Target Bag: {TARGET_BAG}\")\n",
    "print(f\"📊 DVL Data: {len(raw_data.get('navigation', []))} records\")\n",
    "print(f\"📏 Sonar Analysis: {len(distance_results)} frames\")\n",
    "print(f\"🎥 Camera: {'enabled' if VIDEO_SEQ_DIR else 'disabled'}\")\n",
    "\n",
    "# Generate the video with both overlays\n",
    "try:\n",
    "    video_path = sg.export_optimized_sonar_video(\n",
    "        TARGET_BAG=TARGET_BAG,\n",
    "        EXPORTS_FOLDER=EXPORTS_FOLDER,\n",
    "        START_IDX=1,\n",
    "        END_IDX=1000,  # Adjust as needed\n",
    "        STRIDE=1,\n",
    "        VIDEO_SEQ_DIR=VIDEO_SEQ_DIR,\n",
    "        INCLUDE_NET=True,  # Enable DVL net distance overlay\n",
    "        SONAR_DISTANCE_RESULTS=distance_results,  # Enable sonar analysis overlay\n",
    "        NET_DISTANCE_TOLERANCE=0.5,\n",
    "        NET_PITCH_TOLERANCE=2.0,  # Increased from 0.3 to 2.0 seconds for better pitch sync\n",
    "    )\n",
    "    print(f\"\\n✅ Video generated successfully!\")\n",
    "    print(f\"📁 Output: {video_path}\")\n",
    "except Exception as e:\n",
    "    print(f\"❌ Error generating video: {e}\")"
   ]
  },
  {
   "cell_type": "markdown",
   "id": "0ed7ed09",
   "metadata": {},
   "source": [
    "## 🎯 Unified Masking System\n",
    "\n",
    "New integrated pixel-level masking system for preventing unwanted object merging:"
   ]
  },
  {
   "cell_type": "code",
   "execution_count": null,
   "id": "ff88606d",
   "metadata": {},
   "outputs": [
    {
     "ename": "SyntaxError",
     "evalue": "unexpected character after line continuation character (3460883378.py, line 133)",
     "output_type": "error",
     "traceback": [
      "  \u001b[36mCell\u001b[39m\u001b[36m \u001b[39m\u001b[32mIn[8]\u001b[39m\u001b[32m, line 133\u001b[39m\n\u001b[31m    \u001b[39m\u001b[31maxes[1, 0].set_title(f'No Masking\\\\n{results[\\\"No Masking\\\"][\\\"pixels\\\"]:,} pixels', fontsize=14)\u001b[39m\n                                                  ^\n\u001b[31mSyntaxError\u001b[39m\u001b[31m:\u001b[39m unexpected character after line continuation character\n"
     ]
    }
   ],
   "source": [
    "# 🎯 UNIFIED MASKING SYSTEM DEMO\n",
    "# ===============================\n",
    "# Demonstrate the new SonarMaskingSystem for preventing unwanted object merging\n",
    "\n",
    "from utils.sonar_image_analysis import SonarMaskingSystem, preprocess_edges_with_masking\n",
    "import numpy as np\n",
    "import matplotlib.pyplot as plt\n",
    "import cv2\n",
    "\n",
    "print(\"🎯 UNIFIED MASKING SYSTEM DEMONSTRATION\")\n",
    "print(\"=\" * 60)\n",
    "\n",
    "if 'cones' in locals() and len(cones) > 0:\n",
    "    # Get a test frame\n",
    "    test_frame = cones[150].astype(np.uint8)\n",
    "    frame_shape = test_frame.shape\n",
    "    \n",
    "    print(f\"📏 Frame shape: {frame_shape}\")\n",
    "    \n",
    "    # === CONFIGURATION EXAMPLE ===\n",
    "    print(\"\\n⚙️  MASKING SYSTEM CONFIGURATION:\")\n",
    "    \n",
    "    # Example 1: Simple static exclusion zone\n",
    "    masking_config_static = IMAGE_PROCESSING_CONFIG.copy()\n",
    "    masking_config_static['masking_system'] = {\n",
    "        'enabled': True,\n",
    "        'mode': 'static',\n",
    "        'static_zones': [\n",
    "            {'center': (200, 300), 'radius': 50, 'shape': 'circle'},\n",
    "            {'center': (400, 200), 'radius': 30, 'shape': 'circle'}\n",
    "        ],\n",
    "        'apply_to_enhancement': True,\n",
    "        'apply_to_edge_detection': True,\n",
    "    }\n",
    "    \n",
    "    # Example 2: Dynamic object-based exclusions\n",
    "    masking_config_dynamic = IMAGE_PROCESSING_CONFIG.copy()\n",
    "    masking_config_dynamic['masking_system'] = {\n",
    "        'enabled': True,\n",
    "        'mode': 'dynamic',\n",
    "        'dynamic_exclusions': {\n",
    "            'min_object_area': 100,\n",
    "            'exclusion_radius': 15,\n",
    "            'radius_scale_factor': 1.5,\n",
    "            'max_zones': 5,\n",
    "            'zone_lifetime_frames': 3,\n",
    "        },\n",
    "        'mask_application': {\n",
    "            'feather_radius': 5,\n",
    "            'gradient_falloff': True,\n",
    "            'preserve_thin_structures': True,\n",
    "        },\n",
    "        'apply_to_enhancement': True,\n",
    "        'apply_to_edge_detection': True,\n",
    "    }\n",
    "    \n",
    "    # === CREATE MASKING SYSTEMS ===\n",
    "    print(\"🔧 Creating masking system instances...\")\n",
    "    \n",
    "    # No masking (baseline)\n",
    "    no_masking = None\n",
    "    \n",
    "    # Static exclusion zones\n",
    "    static_masking = SonarMaskingSystem(frame_shape, masking_config_static)\n",
    "    \n",
    "    # Dynamic masking (simulate detected objects)\n",
    "    dynamic_masking = SonarMaskingSystem(frame_shape, masking_config_dynamic)\n",
    "    \n",
    "    # Simulate some detected objects for dynamic masking\n",
    "    simulated_objects = [\n",
    "        {'center': (150, 250), 'area': 200, 'id': 1},\n",
    "        {'center': (350, 180), 'area': 150, 'id': 2},\n",
    "        {'center': (180, 400), 'area': 300, 'id': 3},\n",
    "    ]\n",
    "    dynamic_masking.update_dynamic_exclusions(simulated_objects)\n",
    "    \n",
    "    # === PROCESS WITH DIFFERENT MASKING MODES ===\n",
    "    print(\"🔄 Processing with different masking modes...\")\n",
    "    \n",
    "    results = {}\n",
    "    \n",
    "    # 1. No masking (baseline)\n",
    "    no_mask_edges = preprocess_edges_with_masking(test_frame, no_masking, IMAGE_PROCESSING_CONFIG)\n",
    "    results['No Masking'] = {\n",
    "        'edges': no_mask_edges[1],\n",
    "        'pixels': np.count_nonzero(no_mask_edges[1])\n",
    "    }\n",
    "    \n",
    "    # 2. Static masking\n",
    "    static_mask = static_masking.generate_mask()\n",
    "    static_edges = preprocess_edges_with_masking(test_frame, static_masking, masking_config_static)\n",
    "    results['Static Masking'] = {\n",
    "        'edges': static_edges[1],\n",
    "        'mask': static_mask,\n",
    "        'pixels': np.count_nonzero(static_edges[1])\n",
    "    }\n",
    "    \n",
    "    # 3. Dynamic masking\n",
    "    dynamic_mask = dynamic_masking.generate_mask()\n",
    "    dynamic_edges = preprocess_edges_with_masking(test_frame, dynamic_masking, masking_config_dynamic)\n",
    "    results['Dynamic Masking'] = {\n",
    "        'edges': dynamic_edges[1],\n",
    "        'mask': dynamic_mask,\n",
    "        'pixels': np.count_nonzero(dynamic_edges[1])\n",
    "    }\n",
    "    \n",
    "    # === VISUALIZATION ===\n",
    "    print(\"📊 Results comparison:\")\n",
    "    for mode, result in results.items():\n",
    "        print(f\"  {mode:15s}: {result['pixels']:,} edge pixels\")\n",
    "    \n",
    "    # Create comprehensive visualization\n",
    "    fig, axes = plt.subplots(3, 3, figsize=(18, 18))\n",
    "    \n",
    "    # Row 1: Original and masks\n",
    "    axes[0, 0].imshow(test_frame, cmap='gray', aspect='equal')\n",
    "    axes[0, 0].set_title('Original Frame', fontsize=14)\n",
    "    axes[0, 0].set_xlabel('X (pixels)')\n",
    "    axes[0, 0].set_ylabel('Y (pixels)')\n",
    "    \n",
    "    axes[0, 1].imshow(results['Static Masking']['mask'], cmap='gray', aspect='equal')\n",
    "    axes[0, 1].set_title('Static Exclusion Mask', fontsize=14)\n",
    "    axes[0, 1].set_xlabel('X (pixels)')\n",
    "    axes[0, 1].set_ylabel('Y (pixels)')\n",
    "    \n",
    "    axes[0, 2].imshow(results['Dynamic Masking']['mask'], cmap='gray', aspect='equal')\n",
    "    axes[0, 2].set_title('Dynamic Exclusion Mask', fontsize=14)\n",
    "    axes[0, 2].set_xlabel('X (pixels)')\n",
    "    axes[0, 2].set_ylabel('Y (pixels)')\n",
    "    \n",
    "    # Row 2: Edge detection results\n",
    "    axes[1, 0].imshow(results['No Masking']['edges'], cmap='gray', aspect='equal')\n",
    "    axes[1, 0].set_title(f'No Masking\\\\n{results[\\\"No Masking\\\"][\\\"pixels\\\"]:,} pixels', fontsize=14)\n",
    "    axes[1, 0].set_xlabel('X (pixels)')\n",
    "    axes[1, 0].set_ylabel('Y (pixels)')\n",
    "    \n",
    "    axes[1, 1].imshow(results['Static Masking']['edges'], cmap='gray', aspect='equal')\n",
    "    axes[1, 1].set_title(f'Static Masking\\\\n{results[\\\"Static Masking\\\"][\\\"pixels\\\"]:,} pixels', fontsize=14)\n",
    "    axes[1, 1].set_xlabel('X (pixels)')\n",
    "    axes[1, 1].set_ylabel('Y (pixels)')\n",
    "    \n",
    "    axes[1, 2].imshow(results['Dynamic Masking']['edges'], cmap='gray', aspect='equal')\n",
    "    axes[1, 2].set_title(f'Dynamic Masking\\\\n{results[\\\"Dynamic Masking\\\"][\\\"pixels\\\"]:,} pixels', fontsize=14)\n",
    "    axes[1, 2].set_xlabel('X (pixels)')\n",
    "    axes[1, 2].set_ylabel('Y (pixels)')\n",
    "    \n",
    "    # Row 3: Difference maps\n",
    "    diff_static = cv2.absdiff(results['No Masking']['edges'], results['Static Masking']['edges'])\n",
    "    diff_dynamic = cv2.absdiff(results['No Masking']['edges'], results['Dynamic Masking']['edges'])\n",
    "    \n",
    "    axes[2, 0].axis('off')  # Empty for layout\n",
    "    \n",
    "    axes[2, 1].imshow(diff_static, cmap='hot', aspect='equal')\n",
    "    axes[2, 1].set_title('Static Masking\\\\nDifference from Baseline', fontsize=14)\n",
    "    axes[2, 1].set_xlabel('X (pixels)')\n",
    "    axes[2, 1].set_ylabel('Y (pixels)')\n",
    "    \n",
    "    axes[2, 2].imshow(diff_dynamic, cmap='hot', aspect='equal')\n",
    "    axes[2, 2].set_title('Dynamic Masking\\\\nDifference from Baseline', fontsize=14)\n",
    "    axes[2, 2].set_xlabel('X (pixels)')\n",
    "    axes[2, 2].set_ylabel('Y (pixels)')\n",
    "    \n",
    "    plt.suptitle('Unified Masking System - Comparison of Masking Modes', fontsize=16, y=0.98)\n",
    "    plt.tight_layout()\n",
    "    plt.show()\n",
    "    \n",
    "    # === USAGE EXAMPLES ===\n",
    "    print(f\"\\n💡 USAGE EXAMPLES:\")\n",
    "    print(f\"   # 1. Enable static exclusion zones:\")\n",
    "    print(f\"   IMAGE_PROCESSING_CONFIG['masking_system']['enabled'] = True\")\n",
    "    print(f\"   IMAGE_PROCESSING_CONFIG['masking_system']['static_zones'] = [\")\n",
    "    print(f\"       {{'center': (200, 300), 'radius': 50, 'shape': 'circle'}}\")\n",
    "    print(f\"   ]\")\n",
    "    print(f\"\")\n",
    "    print(f\"   # 2. Enable dynamic object exclusions:\")\n",
    "    print(f\"   IMAGE_PROCESSING_CONFIG['masking_system']['mode'] = 'dynamic'\")\n",
    "    print(f\"   IMAGE_PROCESSING_CONFIG['masking_system']['dynamic_exclusions']['min_object_area'] = 150\")\n",
    "    print(f\"\")\n",
    "    print(f\"   # 3. Use in your pipeline:\")\n",
    "    print(f\"   masking_system = SonarMaskingSystem(frame.shape, IMAGE_PROCESSING_CONFIG)\")\n",
    "    print(f\"   edges = preprocess_edges_with_masking(frame, masking_system)\")\n",
    "    \n",
    "    print(f\"\\n🎯 The new masking system provides:\")\n",
    "    print(f\"   ✅ Unified configuration in IMAGE_PROCESSING_CONFIG['masking_system']\")\n",
    "    print(f\"   ✅ Multiple masking modes: static, dynamic, adaptive, ownership\")\n",
    "    print(f\"   ✅ Integration at all pipeline stages\")\n",
    "    print(f\"   ✅ Backward compatibility with legacy functions\")\n",
    "    print(f\"   ✅ Advanced features: feathering, gradient falloff, structure preservation\")\n",
    "    \n",
    "else:\n",
    "    print(\"❌ No sonar data available. Load sonar data first.\")\n",
    "    print(\"💡 Run the data loading cells above to get 'cones' variable.\")"
   ]
  },
  {
   "cell_type": "markdown",
   "id": "1aba4cd5",
   "metadata": {},
   "source": [
    "## 🎯 AOI-Aware Masking\n",
    "\n",
    "Test the new Area of Interest (AOI) aware masking logic:"
   ]
  },
  {
   "cell_type": "code",
   "execution_count": null,
   "id": "d8e8ce46",
   "metadata": {},
   "outputs": [],
   "source": [
    "# 🎯 AOI PIXEL CLIPPING DEMONSTRATION\n",
    "# ===================================\n",
    "# Show how AOI pixel clipping ensures only pixels inside AOI are processed\n",
    "\n",
    "from utils.sonar_image_analysis import SonarMaskingSystem, preprocess_edges_with_masking\n",
    "import numpy as np\n",
    "import matplotlib.pyplot as plt\n",
    "import cv2\n",
    "\n",
    "print(\"🎯 AOI PIXEL CLIPPING DEMONSTRATION\")\n",
    "print(\"=\" * 60)\n",
    "\n",
    "if 'cones' in locals() and len(cones) > 0:\n",
    "    # Get a test frame\n",
    "    test_frame = cones[120].astype(np.uint8)\n",
    "    frame_shape = test_frame.shape\n",
    "    \n",
    "    print(f\"📏 Frame shape: {frame_shape}\")\n",
    "    \n",
    "    # === CONFIGURATION COMPARISON ===\n",
    "    print(\"⚙️  Testing different AOI clipping modes:\")\n",
    "    \n",
    "    # Mode 1: No AOI clipping (standard processing)\n",
    "    config_no_aoi = IMAGE_PROCESSING_CONFIG.copy()\n",
    "    config_no_aoi['masking_system'] = {\n",
    "        'enabled': False,  # Disable all masking\n",
    "    }\n",
    "    \n",
    "    # Mode 2: AOI with flexible boundary (allows processing outside AOI)\n",
    "    config_flexible_aoi = IMAGE_PROCESSING_CONFIG.copy()\n",
    "    config_flexible_aoi['masking_system'] = {\n",
    "        'enabled': True,\n",
    "        'mode': 'adaptive',\n",
    "        'aoi_integration': {\n",
    "            'enabled': True,\n",
    "            'aoi_pixel_clipping': False,      # Allow processing outside AOI\n",
    "            'aoi_overrides_exclusions': True,\n",
    "            'strict_aoi_boundary': False,     # Allow feathering across boundary\n",
    "        },\n",
    "        'apply_to_edge_detection': True,\n",
    "    }\n",
    "    \n",
    "    # Mode 3: AOI with strict pixel clipping (ONLY AOI pixels processed)\n",
    "    config_strict_aoi = IMAGE_PROCESSING_CONFIG.copy()\n",
    "    config_strict_aoi['masking_system'] = {\n",
    "        'enabled': True,\n",
    "        'mode': 'adaptive',\n",
    "        'aoi_integration': {\n",
    "            'enabled': True,\n",
    "            'aoi_pixel_clipping': True,       # ONLY process pixels inside AOI\n",
    "            'aoi_overrides_exclusions': True,\n",
    "            'strict_aoi_boundary': True,      # Hard boundary at AOI edge\n",
    "            'prevent_exclusions_in_aoi': True,\n",
    "        },\n",
    "        'apply_to_edge_detection': True,\n",
    "    }\n",
    "    \n",
    "    # === CREATE MASKING SYSTEMS ===\n",
    "    print(\"🔧 Creating masking systems with different AOI modes...\")\n",
    "    \n",
    "    # Define a representative AOI (simulating detected net area)\n",
    "    H, W = frame_shape\n",
    "    aoi_center = (W // 2, H // 2 + 50)  # Slightly below center\n",
    "    aoi_radius = min(W, H) // 4\n",
    "    \n",
    "    print(f\"🎯 AOI: Center=({aoi_center[0]}, {aoi_center[1]}), Radius={aoi_radius}\")\n",
    "    \n",
    "    # System 1: No AOI\n",
    "    no_aoi_system = None\n",
    "    \n",
    "    # System 2: Flexible AOI\n",
    "    flexible_aoi_system = SonarMaskingSystem(frame_shape, config_flexible_aoi)\n",
    "    flexible_aoi_system.update_aoi({'type': 'circle', 'center': aoi_center, 'radius': aoi_radius})\n",
    "    \n",
    "    # System 3: Strict AOI clipping\n",
    "    strict_aoi_system = SonarMaskingSystem(frame_shape, config_strict_aoi)\n",
    "    strict_aoi_system.update_aoi({'type': 'circle', 'center': aoi_center, 'radius': aoi_radius})\n",
    "    \n",
    "    # === PROCESS WITH DIFFERENT MODES ===\n",
    "    print(\"🔄 Processing with different AOI clipping modes...\")\n",
    "    \n",
    "    results = {}\n",
    "    \n",
    "    # 1. No AOI (baseline)\n",
    "    no_aoi_edges = preprocess_edges_with_masking(test_frame, no_aoi_system, config_no_aoi)\n",
    "    results['No AOI'] = {\n",
    "        'edges': no_aoi_edges[1],\n",
    "        'pixels': np.count_nonzero(no_aoi_edges[1]),\n",
    "        'mask': np.ones(frame_shape, dtype=np.uint8) * 255\n",
    "    }\n",
    "    \n",
    "    # 2. Flexible AOI\n",
    "    flexible_mask = flexible_aoi_system.generate_mask()\n",
    "    flexible_edges = preprocess_edges_with_masking(test_frame, flexible_aoi_system, config_flexible_aoi)\n",
    "    results['Flexible AOI'] = {\n",
    "        'edges': flexible_edges[1],\n",
    "        'mask': flexible_mask,\n",
    "        'pixels': np.count_nonzero(flexible_edges[1])\n",
    "    }\n",
    "    \n",
    "    # 3. Strict AOI clipping\n",
    "    strict_mask = strict_aoi_system.generate_mask()\n",
    "    strict_edges = preprocess_edges_with_masking(test_frame, strict_aoi_system, config_strict_aoi)\n",
    "    results['Strict AOI Clipping'] = {\n",
    "        'edges': strict_edges[1],\n",
    "        'mask': strict_mask,\n",
    "        'pixels': np.count_nonzero(strict_edges[1])\n",
    "    }\n",
    "    \n",
    "    # === ANALYSIS ===\n",
    "    print(\"📊 Results comparison:\")\n",
    "    for mode, result in results.items():\n",
    "        print(f\"  {mode:20s}: {result['pixels']:,} edge pixels\")\n",
    "    \n",
    "    # Calculate pixel reduction\n",
    "    baseline_pixels = results['No AOI']['pixels']\n",
    "    flexible_pixels = results['Flexible AOI']['pixels'] \n",
    "    strict_pixels = results['Strict AOI Clipping']['pixels']\n",
    "    \n",
    "    flexible_reduction = (baseline_pixels - flexible_pixels) / baseline_pixels * 100\n",
    "    strict_reduction = (baseline_pixels - strict_pixels) / baseline_pixels * 100\n",
    "    \n",
    "    print(f\"\\n📉 Pixel reduction from baseline:\")\n",
    "    print(f\"  Flexible AOI:     -{flexible_reduction:.1f}%\")\n",
    "    print(f\"  Strict Clipping:  -{strict_reduction:.1f}%\")\n",
    "    \n",
    "    # === VISUALIZATION ===\n",
    "    fig, axes = plt.subplots(3, 3, figsize=(18, 18))\n",
    "    \n",
    "    # Row 1: Original and AOI masks\n",
    "    axes[0, 0].imshow(test_frame, cmap='gray', aspect='equal')\n",
    "    axes[0, 0].set_title('Original Frame', fontsize=14)\n",
    "    axes[0, 0].set_xlabel('X (pixels)')\n",
    "    axes[0, 0].set_ylabel('Y (pixels)')\n",
    "    \n",
    "    # Draw AOI circle on original\n",
    "    circle = plt.Circle(aoi_center, aoi_radius, fill=False, color='red', linewidth=2)\n",
    "    axes[0, 0].add_patch(circle)\n",
    "    axes[0, 0].text(aoi_center[0], aoi_center[1] - aoi_radius - 20, 'AOI', \n",
    "                   ha='center', va='bottom', color='red', fontweight='bold')\n",
    "    \n",
    "    axes[0, 1].imshow(results['Flexible AOI']['mask'], cmap='gray', aspect='equal')\n",
    "    axes[0, 1].set_title('Flexible AOI Mask', fontsize=14)\n",
    "    axes[0, 1].set_xlabel('X (pixels)')\n",
    "    axes[0, 1].set_ylabel('Y (pixels)')\n",
    "    \n",
    "    axes[0, 2].imshow(results['Strict AOI Clipping']['mask'], cmap='gray', aspect='equal')\n",
    "    axes[0, 2].set_title('Strict AOI Clipping Mask', fontsize=14)\n",
    "    axes[0, 2].set_xlabel('X (pixels)')\n",
    "    axes[0, 2].set_ylabel('Y (pixels)')\n",
    "    \n",
    "    # Row 2: Edge detection results\n",
    "    axes[1, 0].imshow(results['No AOI']['edges'], cmap='gray', aspect='equal')\n",
    "    axes[1, 0].set_title(f'No AOI\\\\n{results[\\\"No AOI\\\"][\\\"pixels\\\"]:,} pixels', fontsize=14)\n",
    "    axes[1, 0].set_xlabel('X (pixels)')\n",
    "    axes[1, 0].set_ylabel('Y (pixels)')\n",
    "    \n",
    "    axes[1, 1].imshow(results['Flexible AOI']['edges'], cmap='gray', aspect='equal')\n",
    "    axes[1, 1].set_title(f'Flexible AOI\\\\n{results[\\\"Flexible AOI\\\"][\\\"pixels\\\"]:,} pixels', fontsize=14)\n",
    "    axes[1, 1].set_xlabel('X (pixels)')\n",
    "    axes[1, 1].set_ylabel('Y (pixels)')\n",
    "    \n",
    "    axes[1, 2].imshow(results['Strict AOI Clipping']['edges'], cmap='gray', aspect='equal')\n",
    "    axes[1, 2].set_title(f'Strict AOI Clipping\\\\n{results[\\\"Strict AOI Clipping\\\"][\\\"pixels\\\"]:,} pixels', fontsize=14)\n",
    "    axes[1, 2].set_xlabel('X (pixels)')\n",
    "    axes[1, 2].set_ylabel('Y (pixels)')\n",
    "    \n",
    "    # Row 3: Difference analysis\n",
    "    diff_flexible = cv2.absdiff(results['No AOI']['edges'], results['Flexible AOI']['edges'])\n",
    "    diff_strict = cv2.absdiff(results['No AOI']['edges'], results['Strict AOI Clipping']['edges'])\n",
    "    overlap_analysis = cv2.bitwise_and(results['Flexible AOI']['edges'], results['Strict AOI Clipping']['edges'])\n",
    "    \n",
    "    axes[2, 0].imshow(diff_flexible, cmap='hot', aspect='equal')\n",
    "    axes[2, 0].set_title('Flexible AOI\\\\nDifference from Baseline', fontsize=14)\n",
    "    axes[2, 0].set_xlabel('X (pixels)')\n",
    "    axes[2, 0].set_ylabel('Y (pixels)')\n",
    "    \n",
    "    axes[2, 1].imshow(diff_strict, cmap='hot', aspect='equal')\n",
    "    axes[2, 1].set_title('Strict Clipping\\\\nDifference from Baseline', fontsize=14)\n",
    "    axes[2, 1].set_xlabel('X (pixels)')\n",
    "    axes[2, 1].set_ylabel('Y (pixels)')\n",
    "    \n",
    "    axes[2, 2].imshow(overlap_analysis, cmap='gray', aspect='equal')\n",
    "    axes[2, 2].set_title('Overlap: Flexible ∩ Strict\\\\n(Common Detected Edges)', fontsize=14)\n",
    "    axes[2, 2].set_xlabel('X (pixels)')\n",
    "    axes[2, 2].set_ylabel('Y (pixels)')\n",
    "    \n",
    "    plt.suptitle('AOI Pixel Clipping - Impact on Edge Detection', fontsize=16, y=0.98)\n",
    "    plt.tight_layout()\n",
    "    plt.show()\n",
    "    \n",
    "    # === USAGE EXAMPLES ===\n",
    "    print(f\"\\n💡 USAGE EXAMPLES:\")\n",
    "    print(f\"   # Enable strict AOI pixel clipping:\")\n",
    "    print(f\"   IMAGE_PROCESSING_CONFIG['masking_system']['aoi_integration']['aoi_pixel_clipping'] = True\")\n",
    "    print(f\"   IMAGE_PROCESSING_CONFIG['masking_system']['aoi_integration']['strict_aoi_boundary'] = True\")\n",
    "    print(f\"\")\n",
    "    print(f\"   # Use in pipeline:\")\n",
    "    print(f\"   masking_system = SonarMaskingSystem(frame.shape)\")\n",
    "    print(f\"   masking_system.update_aoi({{'type': 'circle', 'center': net_center, 'radius': net_radius}})\")\n",
    "    print(f\"   edges = preprocess_edges_with_masking(frame, masking_system)\")\n",
    "    \n",
    "    print(f\"\\n🎯 Key Benefits of AOI Pixel Clipping:\")\n",
    "    print(f\"   ✅ ONLY processes pixels inside the net area\")\n",
    "    print(f\"   ✅ Prevents partial objects from contributing outside pixels\")\n",
    "    print(f\"   ✅ Creates clean boundaries at AOI edges\")\n",
    "    print(f\"   ✅ Reduces processing of irrelevant background\")\n",
    "    print(f\"   ✅ Improves net contour purity\")\n",
    "    \n",
    "    # Show the key difference\n",
    "    clipped_pixel_reduction = strict_reduction - flexible_reduction\n",
    "    print(f\"\\n📈 Additional pixel reduction from strict clipping: {clipped_pixel_reduction:.1f}%\")\n",
    "    print(f\"   This represents pixels that would have been included from objects\")\n",
    "    print(f\"   partially entering the AOI, but are now properly excluded.\")\n",
    "    \n",
    "else:\n",
    "    print(\"❌ No sonar data available. Load sonar data first.\")\n",
    "    print(\"💡 Run the data loading cells above to get 'cones' variable.\")"
   ]
  },
  {
   "cell_type": "markdown",
   "id": "ddce836e",
   "metadata": {},
   "source": [
    "## 🔧 Integration Fix Test\n",
    "\n",
    "Test the fixed integration to ensure AOI pixel clipping works in the actual pipeline:"
   ]
  },
  {
   "cell_type": "code",
   "execution_count": null,
   "id": "41fbf772",
   "metadata": {},
   "outputs": [],
   "source": [
    "# 🔧 INTEGRATION FIX TEST\n",
    "# ========================\n",
    "# Test that AOI pixel clipping is now working in the actual processing pipeline\n",
    "\n",
    "print(\"🔧 TESTING FIXED AOI INTEGRATION\")\n",
    "print(\"=\" * 60)\n",
    "\n",
    "# Verify the masking system configuration\n",
    "print(\"⚙️  Current masking system configuration:\")\n",
    "masking_config = IMAGE_PROCESSING_CONFIG.get('masking_system', {})\n",
    "print(f\"  Enabled: {masking_config.get('enabled', False)}\")\n",
    "print(f\"  AOI Integration Enabled: {masking_config.get('aoi_integration', {}).get('enabled', False)}\")\n",
    "print(f\"  AOI Pixel Clipping: {masking_config.get('aoi_integration', {}).get('aoi_pixel_clipping', False)}\")\n",
    "print(f\"  Prevent Exclusions in AOI: {masking_config.get('aoi_integration', {}).get('prevent_exclusions_in_aoi', False)}\")\n",
    "\n",
    "if 'processor' in locals():\n",
    "    print(f\"\\n🔍 Testing with existing processor...\")\n",
    "    \n",
    "    # Reset the processor to ensure clean state\n",
    "    processor.reset_tracking()\n",
    "    \n",
    "    # Test with a frame that has data\n",
    "    if 'cones' in locals() and len(cones) > 100:\n",
    "        test_frame = cones[100].astype(np.uint8)\n",
    "        print(f\"📊 Processing frame shape: {test_frame.shape}\")\n",
    "        \n",
    "        # Process the frame\n",
    "        try:\n",
    "            result = processor.analyze_frame(test_frame)\n",
    "            print(f\"✅ Frame processed successfully!\")\n",
    "            print(f\"   Distance: {result.distance_pixels:.1f} pixels\")\n",
    "            print(f\"   Angle: {result.angle_degrees:.1f}°\")\n",
    "            \n",
    "            # Check if masking system was created\n",
    "            if hasattr(processor, 'masking_system') and processor.masking_system is not None:\n",
    "                print(f\"✅ Masking system initialized!\")\n",
    "                \n",
    "                # Check if AOI was set\n",
    "                if processor.masking_system.current_aoi is not None:\n",
    "                    aoi = processor.masking_system.current_aoi\n",
    "                    print(f\"✅ AOI set: Type={aoi.get('type')}, Center={aoi.get('center')}\")\n",
    "                    \n",
    "                    # Test mask generation\n",
    "                    mask = processor.masking_system.generate_mask()\n",
    "                    pixels_allowed = np.count_nonzero(mask)\n",
    "                    total_pixels = mask.shape[0] * mask.shape[1]\n",
    "                    percentage_allowed = (pixels_allowed / total_pixels) * 100\n",
    "                    \n",
    "                    print(f\"📊 Mask statistics:\")\n",
    "                    print(f\"   Total pixels: {total_pixels:,}\")\n",
    "                    print(f\"   Allowed pixels: {pixels_allowed:,} ({percentage_allowed:.1f}%)\")\n",
    "                    print(f\"   Excluded pixels: {total_pixels - pixels_allowed:,} ({100 - percentage_allowed:.1f}%)\")\n",
    "                    \n",
    "                    if percentage_allowed < 90:\n",
    "                        print(f\"✅ AOI pixel clipping is working! ({100 - percentage_allowed:.1f}% pixels excluded)\")\n",
    "                    else:\n",
    "                        print(f\"⚠️  Warning: Very few pixels excluded, check AOI size\")\n",
    "                        \n",
    "                else:\n",
    "                    print(f\"❌ AOI not set in masking system\")\n",
    "            else:\n",
    "                print(f\"❌ Masking system not initialized\")\n",
    "                \n",
    "        except Exception as e:\n",
    "            print(f\"❌ Error processing frame: {e}\")\n",
    "            import traceback\n",
    "            traceback.print_exc()\n",
    "    else:\n",
    "        print(f\"❌ No 'cones' data available for testing\")\n",
    "else:\n",
    "    print(f\"❌ No 'processor' available for testing\")\n",
    "    print(f\"💡 Create a processor first:\")\n",
    "    print(f\"   processor = iau.SonarDataProcessor(IMAGE_PROCESSING_CONFIG)\")\n",
    "\n",
    "print(f\"\\n📋 Summary of key fixes made:\")\n",
    "print(f\"   ✅ Updated SonarDataProcessor.preprocess_frame() to use new masking system\")\n",
    "print(f\"   ✅ Added masking system initialization in constructor\")\n",
    "print(f\"   ✅ Added AOI updates when ellipse parameters are calculated\")\n",
    "print(f\"   ✅ Added dynamic exclusion updates from detected contours\")\n",
    "print(f\"   ✅ Integration happens at the pixel level during edge processing\")\n",
    "\n",
    "print(f\"\\n🎯 The integration should now:\")\n",
    "print(f\"   1. Create masking system automatically on first frame\")\n",
    "print(f\"   2. Update AOI based on detected net ellipse\")\n",
    "print(f\"   3. Prevent exclusion zones inside the AOI\")\n",
    "print(f\"   4. Only process pixels inside the AOI (when aoi_pixel_clipping=True)\")\n",
    "print(f\"   5. Apply these restrictions during edge detection phase\")"
   ]
  }
 ],
 "metadata": {
  "kernelspec": {
   "display_name": "venv",
   "language": "python",
   "name": "python3"
  },
  "language_info": {
   "codemirror_mode": {
    "name": "ipython",
    "version": 3
   },
   "file_extension": ".py",
   "mimetype": "text/x-python",
   "name": "python",
   "nbconvert_exporter": "python",
   "pygments_lexer": "ipython3",
   "version": "3.13.5"
  }
 },
 "nbformat": 4,
 "nbformat_minor": 5
}
