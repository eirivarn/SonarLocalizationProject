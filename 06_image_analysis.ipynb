{
 "cells": [
  {
   "cell_type": "code",
   "execution_count": 1,
   "id": "7a8d02c0",
   "metadata": {},
   "outputs": [],
   "source": [
    "from pathlib import Path\n",
    "import utils.sonar_image_analysis as iau\n",
    "import importlib\n",
    "importlib.reload(iau)\n",
    "\n",
    "# Centralized sonar defaults (inserted by sweep)\n",
    "from utils.sonar_config import SONAR_VIS_DEFAULTS\n",
    "sonar_config = SONAR_VIS_DEFAULTS.copy()\n",
    "# Backwards-compatible variable names used in older notebooks\n",
    "RANGE_MIN_M = sonar_config['range_min_m']\n",
    "RANGE_MAX_M = sonar_config['range_max_m']\n",
    "DISPLAY_RANGE_MAX_M = sonar_config['display_range_max_m']"
   ]
  },
  {
   "cell_type": "markdown",
   "id": "9220eb1d",
   "metadata": {},
   "source": [
    "# Simple Image Analysis with CV2\n",
    "\n",
    "This notebook demonstrates:\n",
    "1. **Pick a frame** from NPZ files and save it locally\n",
    "2. **Use standard cv2 functions** directly for image processing\n",
    "3. **Experiment** with different OpenCV operations"
   ]
  },
  {
   "cell_type": "code",
   "execution_count": 2,
   "id": "4b3e8f46",
   "metadata": {},
   "outputs": [
    {
     "name": "stdout",
     "output_type": "stream",
     "text": [
      "Using DATA_DIR = /Volumes/LaCie/SOLAQUA/raw_data\n",
      "Selected NPZ file: 2024-08-20_14-31-29_data_cones.npz (index=8)\n"
     ]
    }
   ],
   "source": [
    "\n",
    "\n",
    "# Prefer selecting by bag ID (part of the NPZ filename) instead of a numeric index.\n",
    "# Set TARGET_BAG to a substring that appears in the NPZ filename \n",
    "# '2024-08-22_14-47-39' #1\n",
    "# '2024-08-22_14-29-05' #2\n",
    "# '2024-08-20_14-22-12' #3\n",
    "# '2024-08-20_14-31-29' #4\n",
    "# '2024-08-20_18-47-40' #5\n",
    "# '2024-08-20_13-55-34' #6\n",
    "# '2024-08-20_13-57-42' #7\n",
    "TARGET_BAG = '2024-08-20_14-31-29'  # change this to your desired bag ID\n",
    "from utils.sonar_config import EXPORTS_DIR_DEFAULT, EXPORTS_SUBDIRS\n",
    "EXPORTS_FOLDER = Path(EXPORTS_DIR_DEFAULT)\n",
    "\n",
    "# If you keep your raw .bag files or raw data on an external drive, point DATA_DIR there.\n",
    "# Example (your external disk): /Volumes/LaCie/SOLAQUA/raw_data\n",
    "DATA_DIR = Path(\"/Volumes/LaCie/SOLAQUA/raw_data\")\n",
    "print(f\"Using DATA_DIR = {DATA_DIR}\")\n",
    "\n",
    "# Find NPZ files and pick the one matching TARGET_BAG\n",
    "files = iau.get_available_npz_files()\n",
    "if not files:\n",
    "    raise FileNotFoundError(f\"No NPZ files found in configured exports outputs (looked under {EXPORTS_FOLDER / EXPORTS_SUBDIRS.get('outputs','outputs')})\")\n",
    "matches = [p for p in files if TARGET_BAG in p.name]\n",
    "if not matches:\n",
    "    # Help the user by listing available NPZ files\n",
    "    print(f'No NPZ file matched TARGET_BAG={TARGET_BAG!r}')\n",
    "    print('Available NPZ files:')\n",
    "    for i,p in enumerate(files):\n",
    "        print(f'  {i}: {p.name}')\n",
    "    raise ValueError(f'No NPZ file contains \"{TARGET_BAG}\" in its name')\n",
    "\n",
    "# If multiple matches, choose the most recently modified one\n",
    "selected = max(matches, key=lambda p: p.stat().st_mtime)\n",
    "NPZ_FILE_INDEX = files.index(selected)\n",
    "print(f'Selected NPZ file: {selected.name} (index={NPZ_FILE_INDEX})')"
   ]
  },
  {
   "cell_type": "markdown",
   "id": "0c65358c",
   "metadata": {},
   "source": [
    "## Distance Analysis Over Time\n",
    "\n",
    "Now let's perform a comprehensive analysis of the red line distance over time. The red line represents the major axis of the detected elongated contour (likely a fishing net), and we'll track how this distance changes throughout the video sequence."
   ]
  },
  {
   "cell_type": "code",
   "execution_count": 3,
   "id": "b9c5da85",
   "metadata": {},
   "outputs": [
    {
     "name": "stdout",
     "output_type": "stream",
     "text": [
      "=== ENHANCED VIDEO CREATION (Simplified) ===\n",
      "Creating video with simplified processor...\n",
      "Frames: 1500, step: 1\n",
      "Processing 1059 frames with simplified processor...\n",
      "Processed 10/1059 frames\n",
      "Processed 20/1059 frames\n"
     ]
    },
    {
     "ename": "KeyboardInterrupt",
     "evalue": "",
     "output_type": "error",
     "traceback": [
      "\u001b[31m---------------------------------------------------------------------------\u001b[39m",
      "\u001b[31mKeyboardInterrupt\u001b[39m                         Traceback (most recent call last)",
      "\u001b[36mCell\u001b[39m\u001b[36m \u001b[39m\u001b[32mIn[3]\u001b[39m\u001b[32m, line 5\u001b[39m\n\u001b[32m      2\u001b[39m processor = iau.SonarDataProcessor()\n\u001b[32m      4\u001b[39m \u001b[38;5;66;03m# Use the enhanced video creation with CORE processor\u001b[39;00m\n\u001b[32m----> \u001b[39m\u001b[32m5\u001b[39m video_path = \u001b[43miau\u001b[49m\u001b[43m.\u001b[49m\u001b[43mcreate_enhanced_contour_detection_video_with_processor\u001b[49m\u001b[43m(\u001b[49m\n\u001b[32m      6\u001b[39m \u001b[43m    \u001b[49m\u001b[43mnpz_file_index\u001b[49m\u001b[43m=\u001b[49m\u001b[43mNPZ_FILE_INDEX\u001b[49m\u001b[43m,\u001b[49m\u001b[43m          \u001b[49m\u001b[38;5;66;43;03m# Which NPZ file to use\u001b[39;49;00m\n\u001b[32m      7\u001b[39m \u001b[43m    \u001b[49m\u001b[43mframe_start\u001b[49m\u001b[43m=\u001b[49m\u001b[32;43m1\u001b[39;49m\u001b[43m,\u001b[49m\u001b[43m           \u001b[49m\u001b[38;5;66;43;03m# Starting frame\u001b[39;49;00m\n\u001b[32m      8\u001b[39m \u001b[43m    \u001b[49m\u001b[43mframe_count\u001b[49m\u001b[43m=\u001b[49m\u001b[32;43m1500\u001b[39;49m\u001b[43m,\u001b[49m\u001b[43m         \u001b[49m\u001b[38;5;66;43;03m# Number of frames to process\u001b[39;49;00m\n\u001b[32m      9\u001b[39m \u001b[43m    \u001b[49m\u001b[43mframe_step\u001b[49m\u001b[43m=\u001b[49m\u001b[32;43m1\u001b[39;49m\u001b[43m,\u001b[49m\u001b[43m            \u001b[49m\u001b[38;5;66;43;03m# Step between frames\u001b[39;49;00m\n\u001b[32m     10\u001b[39m \u001b[43m    \u001b[49m\u001b[43moutput_path\u001b[49m\u001b[43m=\u001b[49m\u001b[43mPath\u001b[49m\u001b[43m(\u001b[49m\u001b[43mEXPORTS_DIR_DEFAULT\u001b[49m\u001b[43m)\u001b[49m\u001b[43m \u001b[49m\u001b[43m/\u001b[49m\u001b[43m \u001b[49m\u001b[43mEXPORTS_SUBDIRS\u001b[49m\u001b[43m.\u001b[49m\u001b[43mget\u001b[49m\u001b[43m(\u001b[49m\u001b[33;43m'\u001b[39;49m\u001b[33;43mvideos\u001b[39;49m\u001b[33;43m'\u001b[39;49m\u001b[43m,\u001b[49m\u001b[33;43m'\u001b[39;49m\u001b[33;43mvideos\u001b[39;49m\u001b[33;43m'\u001b[39;49m\u001b[43m)\u001b[49m\u001b[43m \u001b[49m\u001b[43m/\u001b[49m\u001b[43m \u001b[49m\u001b[33;43m'\u001b[39;49m\u001b[33;43mcore_aoi_tracking.mp4\u001b[39;49m\u001b[33;43m'\u001b[39;49m\u001b[43m,\u001b[49m\n\u001b[32m     11\u001b[39m \u001b[43m    \u001b[49m\u001b[43mprocessor\u001b[49m\u001b[43m=\u001b[49m\u001b[43mprocessor\u001b[49m\u001b[43m      \u001b[49m\u001b[38;5;66;43;03m# Use our CORE processor\u001b[39;49;00m\n\u001b[32m     12\u001b[39m \u001b[43m)\u001b[49m\n",
      "\u001b[36mFile \u001b[39m\u001b[32m~/code/SOLAQUA/utils/sonar_image_analysis.py:2308\u001b[39m, in \u001b[36mcreate_enhanced_contour_detection_video_with_processor\u001b[39m\u001b[34m(npz_file_index, frame_start, frame_count, frame_step, output_path, processor)\u001b[39m\n\u001b[32m   2305\u001b[39m frame_info = \u001b[33mf\u001b[39m\u001b[33m'\u001b[39m\u001b[33mFrame: \u001b[39m\u001b[38;5;132;01m{\u001b[39;00midx\u001b[38;5;132;01m}\u001b[39;00m\u001b[33m | \u001b[39m\u001b[38;5;132;01m{\u001b[39;00mstatus\u001b[38;5;132;01m}\u001b[39;00m\u001b[33m | Simplified Processing\u001b[39m\u001b[33m'\u001b[39m\n\u001b[32m   2306\u001b[39m cv2.putText(vis, frame_info, (\u001b[32m10\u001b[39m, H - \u001b[32m30\u001b[39m), cv2.FONT_HERSHEY_SIMPLEX, \u001b[32m0.5\u001b[39m, (\u001b[32m255\u001b[39m,\u001b[32m255\u001b[39m,\u001b[32m255\u001b[39m), \u001b[32m1\u001b[39m)\n\u001b[32m-> \u001b[39m\u001b[32m2308\u001b[39m \u001b[43mvw\u001b[49m\u001b[43m.\u001b[49m\u001b[43mwrite\u001b[49m\u001b[43m(\u001b[49m\u001b[43mvis\u001b[49m\u001b[43m)\u001b[49m\n\u001b[32m   2310\u001b[39m \u001b[38;5;28;01mif\u001b[39;00m (i+\u001b[32m1\u001b[39m) % \u001b[32m10\u001b[39m == \u001b[32m0\u001b[39m:\n\u001b[32m   2311\u001b[39m     \u001b[38;5;28mprint\u001b[39m(\u001b[33mf\u001b[39m\u001b[33m\"\u001b[39m\u001b[33mProcessed \u001b[39m\u001b[38;5;132;01m{\u001b[39;00mi+\u001b[32m1\u001b[39m\u001b[38;5;132;01m}\u001b[39;00m\u001b[33m/\u001b[39m\u001b[38;5;132;01m{\u001b[39;00mactual\u001b[38;5;132;01m}\u001b[39;00m\u001b[33m frames\u001b[39m\u001b[33m\"\u001b[39m)\n",
      "\u001b[31mKeyboardInterrupt\u001b[39m: "
     ]
    }
   ],
   "source": [
    "# Create the unified processor\n",
    "processor = iau.SonarDataProcessor()\n",
    "\n",
    "# Use the enhanced video creation with CORE processor\n",
    "video_path = iau.create_enhanced_contour_detection_video_with_processor(\n",
    "    npz_file_index=NPZ_FILE_INDEX,          # Which NPZ file to use\n",
    "    frame_start=1,           # Starting frame\n",
    "    frame_count=1500,         # Number of frames to process\n",
    "    frame_step=1,            # Step between frames\n",
    "    output_path=Path(EXPORTS_DIR_DEFAULT) / EXPORTS_SUBDIRS.get('videos','videos') / 'core_aoi_tracking.mp4',\n",
    "    processor=processor      # Use our CORE processor\n",
    ")"
   ]
  },
  {
   "cell_type": "code",
   "execution_count": 10,
   "id": "d9c0382e",
   "metadata": {},
   "outputs": [
    {
     "name": "stdout",
     "output_type": "stream",
     "text": [
      "=== DISTANCE ANALYSIS FROM NPZ ===\n",
      "Analyzing: /Volumes/LaCie/SOLAQUA/exports/outputs/2024-08-20_14-31-29_data_cones.npz\n",
      "Processing 1059 frames from 1 (step=1)\n",
      "  Processed 50/1059 frames (Success rate: 100.0%)\n",
      "  Processed 100/1059 frames (Success rate: 100.0%)\n",
      "  Processed 150/1059 frames (Success rate: 100.0%)\n",
      "  Processed 200/1059 frames (Success rate: 100.0%)\n",
      "  Processed 250/1059 frames (Success rate: 100.0%)\n",
      "  Processed 300/1059 frames (Success rate: 100.0%)\n",
      "  Processed 350/1059 frames (Success rate: 100.0%)\n",
      "  Processed 400/1059 frames (Success rate: 100.0%)\n",
      "  Processed 450/1059 frames (Success rate: 100.0%)\n",
      "  Processed 500/1059 frames (Success rate: 100.0%)\n",
      "  Processed 550/1059 frames (Success rate: 100.0%)\n",
      "  Processed 600/1059 frames (Success rate: 100.0%)\n",
      "  Processed 650/1059 frames (Success rate: 100.0%)\n",
      "  Processed 700/1059 frames (Success rate: 100.0%)\n",
      "  Processed 750/1059 frames (Success rate: 100.0%)\n",
      "  Processed 800/1059 frames (Success rate: 100.0%)\n",
      "  Processed 850/1059 frames (Success rate: 100.0%)\n",
      "  Processed 900/1059 frames (Success rate: 100.0%)\n",
      "  Processed 950/1059 frames (Success rate: 100.0%)\n",
      "  Processed 1000/1059 frames (Success rate: 100.0%)\n",
      "  Processed 1050/1059 frames (Success rate: 100.0%)\n",
      "\n",
      "=== ANALYSIS COMPLETE ===\n",
      "Total frames processed: 1059\n",
      "Successful detections: 1059 (100.0%)\n",
      "Distance statistics (meters):\n",
      "  - Mean: 2.013\n",
      "  - Std:  0.311\n",
      "  - Min:  1.526\n",
      "  - Max:  3.114\n",
      "  - Range: 1.589\n",
      "Analyzed 1059 frames using elliptical AOI\n",
      " Detection success rate: 100.0%\n",
      " Elliptical tracking active: 0 frames\n"
     ]
    }
   ],
   "source": [
    "engine = iau.DistanceAnalysisEngine()\n",
    "distance_results = engine.analyze_npz_sequence(\n",
    "    npz_file_index=NPZ_FILE_INDEX,    \n",
    "    frame_start=1,        # Start from frame 1\n",
    "    frame_count=1500,      # Analyze all frames from the video\n",
    "    frame_step=1          # Every frame\n",
    ")\n",
    "\n",
    "print(f\"Analyzed {len(distance_results)} frames using elliptical AOI\")\n",
    "print(f\" Detection success rate: {distance_results['detection_success'].mean():.1%}\")\n",
    "print(f\" Elliptical tracking active: {(distance_results['tracking_status'].str.contains('ELLIPSE')).sum()} frames\")"
   ]
  },
  {
   "cell_type": "code",
   "execution_count": 11,
   "id": "0bd5183d",
   "metadata": {},
   "outputs": [
    {
     "data": {
      "text/plain": [
       "Index(['frame_index', 'timestamp', 'distance_pixels', 'angle_degrees',\n",
       "       'distance_meters', 'detection_success', 'tracking_status', 'area',\n",
       "       'aspect_ratio', 'solidity', 'extent', 'ellipse_elongation',\n",
       "       'straightness', 'rect', 'centroid_x', 'centroid_y'],\n",
       "      dtype='object')"
      ]
     },
     "execution_count": 11,
     "metadata": {},
     "output_type": "execute_result"
    }
   ],
   "source": [
    "distance_results.columns"
   ]
  },
  {
   "cell_type": "markdown",
   "id": "fede9d64",
   "metadata": {},
   "source": [
    "## Convert to Real-World Distances\n",
    "\n",
    "Now let's convert the pixel distances to real-world distances using the fact that the entire sonar image represents a 10x10 meter area."
   ]
  },
  {
   "cell_type": "code",
   "execution_count": 12,
   "id": "886897de",
   "metadata": {},
   "outputs": [
    {
     "name": "stdout",
     "output_type": "stream",
     "text": [
      "Detected NPZ extent: x=[-8.660,8.660] m, y=[0.000,10.000] m\n",
      "Image shape from NPZ: H=700, W=900\n",
      "meters/pixel: x=0.019245, y=0.014286, avg=0.016765\n",
      "Using pixels_to_meters_avg = 0.016765 m/px\n"
     ]
    }
   ],
   "source": [
    "# Auto-detect pixel->meter mapping from the selected NPZ (if available)\n",
    "try:\n",
    "    cones, ts, extent, meta = iau.load_cone_run_npz(selected)\n",
    "    T, H, W = cones.shape\n",
    "    x_min, x_max, y_min, y_max = extent\n",
    "    width_m = float(x_max - x_min)\n",
    "    height_m = float(y_max - y_min)\n",
    "    px2m_x = width_m / float(W)\n",
    "    px2m_y = height_m / float(H)\n",
    "    pixels_to_meters_avg = 0.5 * (px2m_x + px2m_y)\n",
    "    image_shape = (H, W)\n",
    "    sonar_coverage_meters = max(width_m, height_m)\n",
    "    print(f\"Detected NPZ extent: x=[{x_min:.3f},{x_max:.3f}] m, y=[{y_min:.3f},{y_max:.3f}] m\")\n",
    "    print(f\"Image shape from NPZ: H={H}, W={W}\")\n",
    "    print(f\"meters/pixel: x={px2m_x:.6f}, y={px2m_y:.6f}, avg={pixels_to_meters_avg:.6f}\")\n",
    "except Exception as e:\n",
    "    print(\"Could not read NPZ metadata:\", e)\n",
    "    print(\"Falling back to defaults from sonar_config.\")\n",
    "    from utils.sonar_config import CONE_H_DEFAULT, CONE_W_DEFAULT, DISPLAY_RANGE_MAX_M_DEFAULT\n",
    "    image_shape = (CONE_H_DEFAULT, CONE_W_DEFAULT)\n",
    "    sonar_coverage_meters = DISPLAY_RANGE_MAX_M_DEFAULT * 2  # approximate\n",
    "    pixels_to_meters_avg = sonar_coverage_meters / max(image_shape)\n",
    "    \n",
    "# Use the computed pixels_to_meters_avg in downstream analysis\n",
    "print(f\"Using pixels_to_meters_avg = {pixels_to_meters_avg:.6f} m/px\")"
   ]
  },
  {
   "cell_type": "code",
   "execution_count": 13,
   "id": "15d6238c",
   "metadata": {},
   "outputs": [
    {
     "data": {
      "application/vnd.plotly.v1+json": {
       "config": {
        "plotlyServerURL": "https://plot.ly"
       },
       "data": [
        {
         "line": {
          "color": "blue"
         },
         "mode": "lines+markers",
         "name": "Distance",
         "type": "scatter",
         "x": {
          "bdata": "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",
          "dtype": "i2"
         },
         "xaxis": "x",
         "y": {
          "bdata": "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",
          "dtype": "f8"
         },
         "yaxis": "y"
        },
        {
         "line": {
          "color": "green"
         },
         "mode": "lines+markers",
         "name": "Distance over Time",
         "type": "scatter",
         "x": [
          "2024-08-20T12:31:31.621807575",
          "2024-08-20T12:31:31.681648731",
          "2024-08-20T12:31:31.742511034",
          "2024-08-20T12:31:31.818883181",
          "2024-08-20T12:31:31.874155045",
          "2024-08-20T12:31:31.937494755",
          "2024-08-20T12:31:31.999329090",
          "2024-08-20T12:31:32.063158035",
          "2024-08-20T12:31:32.130053520",
          "2024-08-20T12:31:32.191398144",
          "2024-08-20T12:31:32.254230738",
          "2024-08-20T12:31:32.318058729",
          "2024-08-20T12:31:32.395849943",
          "2024-08-20T12:31:32.445717096",
          "2024-08-20T12:31:32.511543512",
          "2024-08-20T12:31:32.576503515",
          "2024-08-20T12:31:32.637341022",
          "2024-08-20T12:31:32.702203035",
          "2024-08-20T12:31:32.768987656",
          "2024-08-20T12:31:32.829861403",
          "2024-08-20T12:31:32.894687653",
          "2024-08-20T12:31:32.962601185",
          "2024-08-20T12:31:33.025435448",
          "2024-08-20T12:31:33.088264227",
          "2024-08-20T12:31:33.151147127",
          "2024-08-20T12:31:33.218916655",
          "2024-08-20T12:31:33.280750036",
          "2024-08-20T12:31:33.342585087",
          "2024-08-20T12:31:33.407411814",
          "2024-08-20T12:31:33.484754801",
          "2024-08-20T12:31:33.533624887",
          "2024-08-20T12:31:33.610753059",
          "2024-08-20T12:31:33.671589851",
          "2024-08-20T12:31:33.730820179",
          "2024-08-20T12:31:33.790660143",
          "2024-08-20T12:31:33.854523897",
          "2024-08-20T12:31:33.919317245",
          "2024-08-20T12:31:33.984568357",
          "2024-08-20T12:31:34.048381805",
          "2024-08-20T12:31:34.117199183",
          "2024-08-20T12:31:34.183008671",
          "2024-08-20T12:31:34.237861395",
          "2024-08-20T12:31:34.303685427",
          "2024-08-20T12:31:34.367515802",
          "2024-08-20T12:31:34.431509018",
          "2024-08-20T12:31:34.508416414",
          "2024-08-20T12:31:34.565290689",
          "2024-08-20T12:31:34.624107361",
          "2024-08-20T12:31:34.686995983",
          "2024-08-20T12:31:34.749772310",
          "2024-08-20T12:31:34.822613001",
          "2024-08-20T12:31:34.882473946",
          "2024-08-20T12:31:34.943256378",
          "2024-08-20T12:31:35.006085634",
          "2024-08-20T12:31:35.075951576",
          "2024-08-20T12:31:35.139728308",
          "2024-08-20T12:31:35.197573662",
          "2024-08-20T12:31:35.264425278",
          "2024-08-20T12:31:35.328751326",
          "2024-08-20T12:31:35.404547215",
          "2024-08-20T12:31:35.454563379",
          "2024-08-20T12:31:35.522747992",
          "2024-08-20T12:31:35.597547531",
          "2024-08-20T12:31:35.666362762",
          "2024-08-20T12:31:35.716230869",
          "2024-08-20T12:31:35.779061317",
          "2024-08-20T12:31:35.839905977",
          "2024-08-20T12:31:35.902730942",
          "2024-08-20T12:31:35.968554974",
          "2024-08-20T12:31:36.034378290",
          "2024-08-20T12:31:36.146079779",
          "2024-08-20T12:31:36.202927351",
          "2024-08-20T12:31:36.253791808",
          "2024-08-20T12:31:36.310640812",
          "2024-08-20T12:31:36.362536430",
          "2024-08-20T12:31:36.415360451",
          "2024-08-20T12:31:36.612915516",
          "2024-08-20T12:31:36.629870653",
          "2024-08-20T12:31:36.686092138",
          "2024-08-20T12:31:36.731478691",
          "2024-08-20T12:31:36.792353392",
          "2024-08-20T12:31:36.835259199",
          "2024-08-20T12:31:36.882076502",
          "2024-08-20T12:31:36.930180311",
          "2024-08-20T12:31:36.995010138",
          "2024-08-20T12:31:37.057901382",
          "2024-08-20T12:31:37.120796442",
          "2024-08-20T12:31:37.190546751",
          "2024-08-20T12:31:37.245904446",
          "2024-08-20T12:31:37.310695887",
          "2024-08-20T12:31:37.375525713",
          "2024-08-20T12:31:37.443047285",
          "2024-08-20T12:31:37.501889229",
          "2024-08-20T12:31:37.570401907",
          "2024-08-20T12:31:37.634161472",
          "2024-08-20T12:31:37.698097229",
          "2024-08-20T12:31:37.760633230",
          "2024-08-20T12:31:37.822077274",
          "2024-08-20T12:31:37.890928745",
          "2024-08-20T12:31:37.950802088",
          "2024-08-20T12:31:38.016170025",
          "2024-08-20T12:31:38.079568386",
          "2024-08-20T12:31:38.144387484",
          "2024-08-20T12:31:38.206281900",
          "2024-08-20T12:31:38.272046804",
          "2024-08-20T12:31:38.335875273",
          "2024-08-20T12:31:38.399709225",
          "2024-08-20T12:31:38.464562416",
          "2024-08-20T12:31:38.526404619",
          "2024-08-20T12:31:38.595264912",
          "2024-08-20T12:31:38.654108047",
          "2024-08-20T12:31:38.719931841",
          "2024-08-20T12:31:38.783764362",
          "2024-08-20T12:31:38.857566357",
          "2024-08-20T12:31:38.911419630",
          "2024-08-20T12:31:38.976246357",
          "2024-08-20T12:31:39.042104006",
          "2024-08-20T12:31:39.101980925",
          "2024-08-20T12:31:39.166769743",
          "2024-08-20T12:31:39.232593060",
          "2024-08-20T12:31:39.297420025",
          "2024-08-20T12:31:39.361249447",
          "2024-08-20T12:31:39.423182011",
          "2024-08-20T12:31:39.490002155",
          "2024-08-20T12:31:39.549880981",
          "2024-08-20T12:31:39.614220381",
          "2024-08-20T12:31:39.680010796",
          "2024-08-20T12:31:39.748333454",
          "2024-08-20T12:31:39.812162876",
          "2024-08-20T12:31:39.877536774",
          "2024-08-20T12:31:40.073243380",
          "2024-08-20T12:31:40.086207151",
          "2024-08-20T12:31:40.148041010",
          "2024-08-20T12:31:40.191923618",
          "2024-08-20T12:31:40.237802505",
          "2024-08-20T12:31:40.300632715",
          "2024-08-20T12:31:40.345512867",
          "2024-08-20T12:31:40.391391993",
          "2024-08-20T12:31:40.451229811",
          "2024-08-20T12:31:40.517088412",
          "2024-08-20T12:31:40.581882000",
          "2024-08-20T12:31:40.639754295",
          "2024-08-20T12:31:40.703556538",
          "2024-08-20T12:31:40.769875050",
          "2024-08-20T12:31:40.833705902",
          "2024-08-20T12:31:40.910538912",
          "2024-08-20T12:31:40.974536657",
          "2024-08-20T12:31:41.029807091",
          "2024-08-20T12:31:41.085696697",
          "2024-08-20T12:31:41.153585434",
          "2024-08-20T12:31:41.224370241",
          "2024-08-20T12:31:41.289196968",
          "2024-08-20T12:31:41.349036694",
          "2024-08-20T12:31:41.405884266",
          "2024-08-20T12:31:41.472689152",
          "2024-08-20T12:31:41.540507078",
          "2024-08-20T12:31:41.601395369",
          "2024-08-20T12:31:41.668616772",
          "2024-08-20T12:31:41.727491379",
          "2024-08-20T12:31:41.791326761",
          "2024-08-20T12:31:41.859107018",
          "2024-08-20T12:31:41.926977396",
          "2024-08-20T12:31:41.982784510",
          "2024-08-20T12:31:42.058573484",
          "2024-08-20T12:31:42.111595631",
          "2024-08-20T12:31:42.179451942",
          "2024-08-20T12:31:42.239253283",
          "2024-08-20T12:31:42.305081129",
          "2024-08-20T12:31:42.369940758",
          "2024-08-20T12:31:42.492574692",
          "2024-08-20T12:31:42.547464371",
          "2024-08-20T12:31:42.607268095",
          "2024-08-20T12:31:42.656136990",
          "2024-08-20T12:31:42.714980364",
          "2024-08-20T12:31:42.763849974",
          "2024-08-20T12:31:42.821695328",
          "2024-08-20T12:31:42.879108429",
          "2024-08-20T12:31:42.943912029",
          "2024-08-20T12:31:43.009702921",
          "2024-08-20T12:31:43.071511984",
          "2024-08-20T12:31:43.133901834",
          "2024-08-20T12:31:43.203717709",
          "2024-08-20T12:31:43.261597157",
          "2024-08-20T12:31:43.326387167",
          "2024-08-20T12:31:43.394617081",
          "2024-08-20T12:31:43.464424372",
          "2024-08-20T12:31:43.518105029",
          "2024-08-20T12:31:43.583888292",
          "2024-08-20T12:31:43.646115065",
          "2024-08-20T12:31:43.712907553",
          "2024-08-20T12:31:43.773782730",
          "2024-08-20T12:31:43.840597391",
          "2024-08-20T12:31:43.906425953",
          "2024-08-20T12:31:43.967237234",
          "2024-08-20T12:31:44.030067205",
          "2024-08-20T12:31:44.103466988",
          "2024-08-20T12:31:44.162308455",
          "2024-08-20T12:31:44.223145008",
          "2024-08-20T12:31:44.291014671",
          "2024-08-20T12:31:44.349857092",
          "2024-08-20T12:31:44.415681124",
          "2024-08-20T12:31:44.479695797",
          "2024-08-20T12:31:44.542475224",
          "2024-08-20T12:31:44.613296270",
          "2024-08-20T12:31:44.672163725",
          "2024-08-20T12:31:44.734963417",
          "2024-08-20T12:31:44.800783157",
          "2024-08-20T12:31:44.875235319",
          "2024-08-20T12:31:44.934039116",
          "2024-08-20T12:31:44.991886139",
          "2024-08-20T12:31:45.054715633",
          "2024-08-20T12:31:45.123562574",
          "2024-08-20T12:31:45.184406042",
          "2024-08-20T12:31:45.253189325",
          "2024-08-20T12:31:45.314022064",
          "2024-08-20T12:31:45.391814232",
          "2024-08-20T12:31:45.503517866",
          "2024-08-20T12:31:45.563381672",
          "2024-08-20T12:31:45.625192165",
          "2024-08-20T12:31:45.689467907",
          "2024-08-20T12:31:45.743281364",
          "2024-08-20T12:31:45.799130917",
          "2024-08-20T12:31:45.849994183",
          "2024-08-20T12:31:45.911336899",
          "2024-08-20T12:31:45.973172188",
          "2024-08-20T12:31:46.031045198",
          "2024-08-20T12:31:46.077892065",
          "2024-08-20T12:31:46.141758204",
          "2024-08-20T12:31:46.209540129",
          "2024-08-20T12:31:46.271375179",
          "2024-08-20T12:31:46.336202383",
          "2024-08-20T12:31:46.402061224",
          "2024-08-20T12:31:46.463126421",
          "2024-08-20T12:31:46.525985479",
          "2024-08-20T12:31:46.593837023",
          "2024-08-20T12:31:46.663606167",
          "2024-08-20T12:31:46.721510649",
          "2024-08-20T12:31:46.782323599",
          "2024-08-20T12:31:46.850108624",
          "2024-08-20T12:31:46.921957970",
          "2024-08-20T12:31:46.977843285",
          "2024-08-20T12:31:47.038705826",
          "2024-08-20T12:31:47.102475882",
          "2024-08-20T12:31:47.169295788",
          "2024-08-20T12:31:47.230172157",
          "2024-08-20T12:31:47.304938078",
          "2024-08-20T12:31:47.368804932",
          "2024-08-20T12:31:47.427606583",
          "2024-08-20T12:31:47.491471767",
          "2024-08-20T12:31:47.555302143",
          "2024-08-20T12:31:47.623177528",
          "2024-08-20T12:31:47.811676741",
          "2024-08-20T12:31:47.827633619",
          "2024-08-20T12:31:47.877500534",
          "2024-08-20T12:31:47.938337326",
          "2024-08-20T12:31:47.984474659",
          "2024-08-20T12:31:48.027358532",
          "2024-08-20T12:31:48.088195324",
          "2024-08-20T12:31:48.136068344",
          "2024-08-20T12:31:48.191809654",
          "2024-08-20T12:31:48.256190538",
          "2024-08-20T12:31:48.321072102",
          "2024-08-20T12:31:48.382852077",
          "2024-08-20T12:31:48.445721865",
          "2024-08-20T12:31:48.511081219",
          "2024-08-20T12:31:48.576905251",
          "2024-08-20T12:31:48.638738394",
          "2024-08-20T12:31:48.701770544",
          "2024-08-20T12:31:48.774565697",
          "2024-08-20T12:31:48.831388712",
          "2024-08-20T12:31:48.893730640",
          "2024-08-20T12:31:48.961057901",
          "2024-08-20T12:31:49.028914213",
          "2024-08-20T12:31:49.090711117",
          "2024-08-20T12:31:49.154539824",
          "2024-08-20T12:31:49.213383436",
          "2024-08-20T12:31:49.279206991",
          "2024-08-20T12:31:49.345029116",
          "2024-08-20T12:31:49.405867100",
          "2024-08-20T12:31:49.473721266",
          "2024-08-20T12:31:49.545494080",
          "2024-08-20T12:31:49.602399588",
          "2024-08-20T12:31:49.663179159",
          "2024-08-20T12:31:49.729102612",
          "2024-08-20T12:31:49.791011810",
          "2024-08-20T12:31:49.853843212",
          "2024-08-20T12:31:49.919657946",
          "2024-08-20T12:31:49.983487844",
          "2024-08-20T12:31:50.046319723",
          "2024-08-20T12:31:50.110692024",
          "2024-08-20T12:31:50.174520016",
          "2024-08-20T12:31:50.238417864",
          "2024-08-20T12:31:50.303511620",
          "2024-08-20T12:31:50.366343737",
          "2024-08-20T12:31:50.432175159",
          "2024-08-20T12:31:50.505977631",
          "2024-08-20T12:31:50.560830355",
          "2024-08-20T12:31:50.670942068",
          "2024-08-20T12:31:50.726747036",
          "2024-08-20T12:31:50.789601564",
          "2024-08-20T12:31:50.825510979",
          "2024-08-20T12:31:50.890295744",
          "2024-08-20T12:31:50.943155289",
          "2024-08-20T12:31:51.012972832",
          "2024-08-20T12:31:51.074837446",
          "2024-08-20T12:31:51.134642601",
          "2024-08-20T12:31:51.200467348",
          "2024-08-20T12:31:51.273272991",
          "2024-08-20T12:31:51.336102962",
          "2024-08-20T12:31:51.389957905",
          "2024-08-20T12:31:51.454820395",
          "2024-08-20T12:31:51.517674922",
          "2024-08-20T12:31:51.586463928",
          "2024-08-20T12:31:51.646686554",
          "2024-08-20T12:31:51.712054014",
          "2024-08-20T12:31:51.782867193",
          "2024-08-20T12:31:51.838715792",
          "2024-08-20T12:31:51.903051376",
          "2024-08-20T12:31:51.967877626",
          "2024-08-20T12:31:52.030061007",
          "2024-08-20T12:31:52.102158070",
          "2024-08-20T12:31:52.168978691",
          "2024-08-20T12:31:52.222800970",
          "2024-08-20T12:31:52.292626858",
          "2024-08-20T12:31:52.351458549",
          "2024-08-20T12:31:52.418277025",
          "2024-08-20T12:31:52.481150866",
          "2024-08-20T12:31:52.541553497",
          "2024-08-20T12:31:52.606345415",
          "2024-08-20T12:31:52.673228025",
          "2024-08-20T12:31:52.735998154",
          "2024-08-20T12:31:52.798882484",
          "2024-08-20T12:31:52.862711668",
          "2024-08-20T12:31:52.927570105",
          "2024-08-20T12:31:52.990370035",
          "2024-08-20T12:31:53.070696592",
          "2024-08-20T12:31:53.131572007",
          "2024-08-20T12:31:53.195363998",
          "2024-08-20T12:31:53.245267153",
          "2024-08-20T12:31:53.310670376",
          "2024-08-20T12:31:53.375495911",
          "2024-08-20T12:31:53.440849304",
          "2024-08-20T12:31:53.502685069",
          "2024-08-20T12:31:53.581473112",
          "2024-08-20T12:31:53.671237707",
          "2024-08-20T12:31:53.730012655",
          "2024-08-20T12:31:53.778313637",
          "2024-08-20T12:31:53.833030939",
          "2024-08-20T12:31:53.893876076",
          "2024-08-20T12:31:53.949759483",
          "2024-08-20T12:31:54.014583826",
          "2024-08-20T12:31:54.080477238",
          "2024-08-20T12:31:54.146250486",
          "2024-08-20T12:31:54.208119631",
          "2024-08-20T12:31:54.272945881",
          "2024-08-20T12:31:54.337438822",
          "2024-08-20T12:31:54.401267767",
          "2024-08-20T12:31:54.464104652",
          "2024-08-20T12:31:54.525992393",
          "2024-08-20T12:31:54.604726553",
          "2024-08-20T12:31:54.660574675",
          "2024-08-20T12:31:54.717456818",
          "2024-08-20T12:31:54.788233280",
          "2024-08-20T12:31:54.846078873",
          "2024-08-20T12:31:54.909790993",
          "2024-08-20T12:31:54.976554394",
          "2024-08-20T12:31:55.039385557",
          "2024-08-20T12:31:55.105245590",
          "2024-08-20T12:31:55.171085119",
          "2024-08-20T12:31:55.230873108",
          "2024-08-20T12:31:55.299697399",
          "2024-08-20T12:31:55.362556934",
          "2024-08-20T12:31:55.429852486",
          "2024-08-20T12:31:55.490688562",
          "2024-08-20T12:31:55.549531460",
          "2024-08-20T12:31:55.615355253",
          "2024-08-20T12:31:55.682177305",
          "2024-08-20T12:31:55.744011879",
          "2024-08-20T12:31:55.807841063",
          "2024-08-20T12:31:55.870673656",
          "2024-08-20T12:31:55.949462414",
          "2024-08-20T12:31:56.003352642",
          "2024-08-20T12:31:56.067021132",
          "2024-08-20T12:31:56.125862597",
          "2024-08-20T12:31:56.193681240",
          "2024-08-20T12:31:56.253522635",
          "2024-08-20T12:31:56.318383694",
          "2024-08-20T12:31:56.386166811",
          "2024-08-20T12:31:56.448000908",
          "2024-08-20T12:31:56.512829065",
          "2024-08-20T12:31:56.583638668",
          "2024-08-20T12:31:56.640494585",
          "2024-08-20T12:31:56.703325510",
          "2024-08-20T12:31:56.767193556",
          "2024-08-20T12:31:56.835482836",
          "2024-08-20T12:31:56.902304649",
          "2024-08-20T12:31:56.962438345",
          "2024-08-20T12:31:57.025873184",
          "2024-08-20T12:31:57.087665081",
          "2024-08-20T12:31:57.154531956",
          "2024-08-20T12:31:57.214373350",
          "2024-08-20T12:31:57.293160200",
          "2024-08-20T12:31:57.345025063",
          "2024-08-20T12:31:57.412839890",
          "2024-08-20T12:31:57.473701954",
          "2024-08-20T12:31:57.534539223",
          "2024-08-20T12:31:57.604353428",
          "2024-08-20T12:31:57.663195133",
          "2024-08-20T12:31:57.726027727",
          "2024-08-20T12:31:57.791850805",
          "2024-08-20T12:31:57.855682135",
          "2024-08-20T12:31:57.919509649",
          "2024-08-20T12:31:57.984847546",
          "2024-08-20T12:31:58.048672438",
          "2024-08-20T12:31:58.114497423",
          "2024-08-20T12:31:58.232179642",
          "2024-08-20T12:31:58.303023338",
          "2024-08-20T12:31:58.362874031",
          "2024-08-20T12:31:58.422821522",
          "2024-08-20T12:31:58.476673603",
          "2024-08-20T12:31:58.501605749",
          "2024-08-20T12:31:58.569931507",
          "2024-08-20T12:31:58.628283978",
          "2024-08-20T12:31:58.687161207",
          "2024-08-20T12:31:58.754455805",
          "2024-08-20T12:31:58.874644995",
          "2024-08-20T12:31:58.942510366",
          "2024-08-20T12:31:59.005335093",
          "2024-08-20T12:31:59.067801952",
          "2024-08-20T12:31:59.130631208",
          "2024-08-20T12:31:59.181493998",
          "2024-08-20T12:31:59.239844561",
          "2024-08-20T12:31:59.299728394",
          "2024-08-20T12:31:59.346602917",
          "2024-08-20T12:31:59.392479658",
          "2024-08-20T12:31:59.455312490",
          "2024-08-20T12:31:59.519181966",
          "2024-08-20T12:31:59.584981441",
          "2024-08-20T12:31:59.647796392",
          "2024-08-20T12:31:59.710932016",
          "2024-08-20T12:31:59.783735514",
          "2024-08-20T12:31:59.839586020",
          "2024-08-20T12:31:59.903450012",
          "2024-08-20T12:31:59.966248512",
          "2024-08-20T12:32:00.031110048",
          "2024-08-20T12:32:00.101887941",
          "2024-08-20T12:32:00.159729958",
          "2024-08-20T12:32:00.222562075",
          "2024-08-20T12:32:00.287391663",
          "2024-08-20T12:32:00.352120399",
          "2024-08-20T12:32:00.413935184",
          "2024-08-20T12:32:00.478729010",
          "2024-08-20T12:32:00.542225122",
          "2024-08-20T12:32:00.610045195",
          "2024-08-20T12:32:00.671614647",
          "2024-08-20T12:32:00.735095501",
          "2024-08-20T12:32:00.799942493",
          "2024-08-20T12:32:00.863315344",
          "2024-08-20T12:32:00.928106546",
          "2024-08-20T12:32:01.008890390",
          "2024-08-20T12:32:01.070760727",
          "2024-08-20T12:32:01.117598772",
          "2024-08-20T12:32:01.181464672",
          "2024-08-20T12:32:01.245420218",
          "2024-08-20T12:32:01.314198017",
          "2024-08-20T12:32:01.377030849",
          "2024-08-20T12:32:01.439896584",
          "2024-08-20T12:32:01.512666941",
          "2024-08-20T12:32:01.589461088",
          "2024-08-20T12:32:01.634341002",
          "2024-08-20T12:32:01.695178032",
          "2024-08-20T12:32:01.761003256",
          "2024-08-20T12:32:01.821839809",
          "2024-08-20T12:32:01.885703325",
          "2024-08-20T12:32:01.950496435",
          "2024-08-20T12:32:02.016355275",
          "2024-08-20T12:32:02.079560041",
          "2024-08-20T12:32:02.147934437",
          "2024-08-20T12:32:02.205846548",
          "2024-08-20T12:32:02.270641804",
          "2024-08-20T12:32:02.344480515",
          "2024-08-20T12:32:02.461406469",
          "2024-08-20T12:32:02.517229556",
          "2024-08-20T12:32:02.564082146",
          "2024-08-20T12:32:02.629870892",
          "2024-08-20T12:32:02.699684858",
          "2024-08-20T12:32:02.746571541",
          "2024-08-20T12:32:02.795462847",
          "2024-08-20T12:32:02.853273153",
          "2024-08-20T12:32:02.914112091",
          "2024-08-20T12:32:02.973954678",
          "2024-08-20T12:32:03.051743984",
          "2024-08-20T12:32:03.102615833",
          "2024-08-20T12:32:03.168430090",
          "2024-08-20T12:32:03.248250484",
          "2024-08-20T12:32:03.296088934",
          "2024-08-20T12:32:03.361934662",
          "2024-08-20T12:32:03.423750877",
          "2024-08-20T12:32:03.487687349",
          "2024-08-20T12:32:03.550518513",
          "2024-08-20T12:32:03.618339300",
          "2024-08-20T12:32:03.692140341",
          "2024-08-20T12:32:03.742039919",
          "2024-08-20T12:32:03.805836201",
          "2024-08-20T12:32:03.872937918",
          "2024-08-20T12:32:03.934771776",
          "2024-08-20T12:32:04.138708115",
          "2024-08-20T12:32:04.162652016",
          "2024-08-20T12:32:04.215462923",
          "2024-08-20T12:32:04.261340141",
          "2024-08-20T12:32:04.305223465",
          "2024-08-20T12:32:04.367092133",
          "2024-08-20T12:32:04.410940409",
          "2024-08-20T12:32:04.457854271",
          "2024-08-20T12:32:04.517654896",
          "2024-08-20T12:32:04.580527544",
          "2024-08-20T12:32:04.637335539",
          "2024-08-20T12:32:04.706151247",
          "2024-08-20T12:32:04.765990496",
          "2024-08-20T12:32:04.830850601",
          "2024-08-20T12:32:04.894646168",
          "2024-08-20T12:32:04.958475590",
          "2024-08-20T12:32:05.028358459",
          "2024-08-20T12:32:05.090869427",
          "2024-08-20T12:32:05.155694008",
          "2024-08-20T12:32:05.220520258",
          "2024-08-20T12:32:05.280360222",
          "2024-08-20T12:32:05.344203472",
          "2024-08-20T12:32:05.416617870",
          "2024-08-20T12:32:05.473434925",
          "2024-08-20T12:32:05.533270836",
          "2024-08-20T12:32:05.599692583",
          "2024-08-20T12:32:05.668574572",
          "2024-08-20T12:32:05.727350950",
          "2024-08-20T12:32:05.791183472",
          "2024-08-20T12:32:05.854014158",
          "2024-08-20T12:32:05.924823761",
          "2024-08-20T12:32:05.983665466",
          "2024-08-20T12:32:06.046497345",
          "2024-08-20T12:32:06.113318920",
          "2024-08-20T12:32:06.185126543",
          "2024-08-20T12:32:06.244966507",
          "2024-08-20T12:32:06.305804491",
          "2024-08-20T12:32:06.427478552",
          "2024-08-20T12:32:06.476348162",
          "2024-08-20T12:32:06.519232987",
          "2024-08-20T12:32:06.580214500",
          "2024-08-20T12:32:06.640358686",
          "2024-08-20T12:32:06.689215422",
          "2024-08-20T12:32:06.750109673",
          "2024-08-20T12:32:06.817869663",
          "2024-08-20T12:32:06.883101940",
          "2024-08-20T12:32:06.941977024",
          "2024-08-20T12:32:07.051910162",
          "2024-08-20T12:32:07.107870817",
          "2024-08-20T12:32:07.159778595",
          "2024-08-20T12:32:07.225763559",
          "2024-08-20T12:32:07.280441046",
          "2024-08-20T12:32:07.327314854",
          "2024-08-20T12:32:07.392040730",
          "2024-08-20T12:32:07.453844547",
          "2024-08-20T12:32:07.519663572",
          "2024-08-20T12:32:07.585496664",
          "2024-08-20T12:32:07.646383524",
          "2024-08-20T12:32:07.712150097",
          "2024-08-20T12:32:07.776016474",
          "2024-08-20T12:32:07.839809179",
          "2024-08-20T12:32:07.902639627",
          "2024-08-20T12:32:07.965471029",
          "2024-08-20T12:32:08.032032250",
          "2024-08-20T12:32:08.093867064",
          "2024-08-20T12:32:08.167701006",
          "2024-08-20T12:32:08.227540970",
          "2024-08-20T12:32:08.295396090",
          "2024-08-20T12:32:08.349215508",
          "2024-08-20T12:32:08.416072607",
          "2024-08-20T12:32:08.480871439",
          "2024-08-20T12:32:08.542946577",
          "2024-08-20T12:32:08.606839895",
          "2024-08-20T12:32:08.670669317",
          "2024-08-20T12:32:08.748494625",
          "2024-08-20T12:32:08.810294867",
          "2024-08-20T12:32:08.870174646",
          "2024-08-20T12:32:08.929901600",
          "2024-08-20T12:32:08.990741253",
          "2024-08-20T12:32:09.054567575",
          "2024-08-20T12:32:09.119748592",
          "2024-08-20T12:32:09.183618307",
          "2024-08-20T12:32:09.246409178",
          "2024-08-20T12:32:09.310237885",
          "2024-08-20T12:32:09.376274586",
          "2024-08-20T12:32:09.444119215",
          "2024-08-20T12:32:09.505930185",
          "2024-08-20T12:32:09.570753813",
          "2024-08-20T12:32:09.633613825",
          "2024-08-20T12:32:09.695421457",
          "2024-08-20T12:32:09.758251190",
          "2024-08-20T12:32:09.823078632",
          "2024-08-20T12:32:09.892893553",
          "2024-08-20T12:32:09.950737238",
          "2024-08-20T12:32:10.014777422",
          "2024-08-20T12:32:10.086585045",
          "2024-08-20T12:32:10.141972303",
          "2024-08-20T12:32:10.210790157",
          "2024-08-20T12:32:10.270623446",
          "2024-08-20T12:32:10.334451199",
          "2024-08-20T12:32:10.401107311",
          "2024-08-20T12:32:10.475941658",
          "2024-08-20T12:32:10.526770592",
          "2024-08-20T12:32:10.592339277",
          "2024-08-20T12:32:10.654148579",
          "2024-08-20T12:32:10.718975782",
          "2024-08-20T12:32:10.782802105",
          "2024-08-20T12:32:10.848627567",
          "2024-08-20T12:32:10.910460711",
          "2024-08-20T12:32:10.977282286",
          "2024-08-20T12:32:11.039152861",
          "2024-08-20T12:32:11.103947401",
          "2024-08-20T12:32:11.167773247",
          "2024-08-20T12:32:11.229755402",
          "2024-08-20T12:32:11.300566435",
          "2024-08-20T12:32:11.360479593",
          "2024-08-20T12:32:11.429301023",
          "2024-08-20T12:32:11.491092443",
          "2024-08-20T12:32:11.549935341",
          "2024-08-20T12:32:11.614765167",
          "2024-08-20T12:32:11.678591490",
          "2024-08-20T12:32:11.881561279",
          "2024-08-20T12:32:11.898514748",
          "2024-08-20T12:32:11.957359314",
          "2024-08-20T12:32:12.000243187",
          "2024-08-20T12:32:12.059998989",
          "2024-08-20T12:32:12.107871294",
          "2024-08-20T12:32:12.150756359",
          "2024-08-20T12:32:12.212984085",
          "2024-08-20T12:32:12.266843080",
          "2024-08-20T12:32:12.333659649",
          "2024-08-20T12:32:12.400614738",
          "2024-08-20T12:32:12.452477217",
          "2024-08-20T12:32:12.509835005",
          "2024-08-20T12:32:12.584639788",
          "2024-08-20T12:32:12.639522791",
          "2024-08-20T12:32:12.704347134",
          "2024-08-20T12:32:12.766216516",
          "2024-08-20T12:32:12.831049442",
          "2024-08-20T12:32:12.897837639",
          "2024-08-20T12:32:12.957735538",
          "2024-08-20T12:32:13.023500681",
          "2024-08-20T12:32:13.087365866",
          "2024-08-20T12:32:13.162170649",
          "2024-08-20T12:32:13.215023041",
          "2024-08-20T12:32:13.280812502",
          "2024-08-20T12:32:13.341650486",
          "2024-08-20T12:32:13.405478477",
          "2024-08-20T12:32:13.470162392",
          "2024-08-20T12:32:13.536520719",
          "2024-08-20T12:32:13.601319313",
          "2024-08-20T12:32:13.662052870",
          "2024-08-20T12:32:13.725847721",
          "2024-08-20T12:32:13.791673660",
          "2024-08-20T12:32:13.853515148",
          "2024-08-20T12:32:13.930917978",
          "2024-08-20T12:32:13.993786335",
          "2024-08-20T12:32:14.059574604",
          "2024-08-20T12:32:14.110471010",
          "2024-08-20T12:32:14.175262690",
          "2024-08-20T12:32:14.239600658",
          "2024-08-20T12:32:14.304803610",
          "2024-08-20T12:32:14.370627165",
          "2024-08-20T12:32:14.430467367",
          "2024-08-20T12:32:14.494708300",
          "2024-08-20T12:32:14.558565378",
          "2024-08-20T12:32:14.631342411",
          "2024-08-20T12:32:14.685559273",
          "2024-08-20T12:32:14.750857830",
          "2024-08-20T12:32:14.813715219",
          "2024-08-20T12:32:14.879512548",
          "2024-08-20T12:32:14.945337057",
          "2024-08-20T12:32:15.009166241",
          "2024-08-20T12:32:15.070513248",
          "2024-08-20T12:32:15.136845350",
          "2024-08-20T12:32:15.243623495",
          "2024-08-20T12:32:15.292493105",
          "2024-08-20T12:32:15.336418152",
          "2024-08-20T12:32:15.403240204",
          "2024-08-20T12:32:15.460046530",
          "2024-08-20T12:32:15.519924878",
          "2024-08-20T12:32:15.582721472",
          "2024-08-20T12:32:15.646606445",
          "2024-08-20T12:32:15.718358517",
          "2024-08-20T12:32:15.777199030",
          "2024-08-20T12:32:15.840064526",
          "2024-08-20T12:32:15.907848120",
          "2024-08-20T12:32:15.965693712",
          "2024-08-20T12:32:16.031555175",
          "2024-08-20T12:32:16.096345186",
          "2024-08-20T12:32:16.159226656",
          "2024-08-20T12:32:16.222518921",
          "2024-08-20T12:32:16.286342859",
          "2024-08-20T12:32:16.351169825",
          "2024-08-20T12:32:16.413003683",
          "2024-08-20T12:32:16.480856419",
          "2024-08-20T12:32:16.542655945",
          "2024-08-20T12:32:16.610476255",
          "2024-08-20T12:32:16.670314550",
          "2024-08-20T12:32:16.734145641",
          "2024-08-20T12:32:16.799000502",
          "2024-08-20T12:32:16.881431103",
          "2024-08-20T12:32:16.929389238",
          "2024-08-20T12:32:16.989288330",
          "2024-08-20T12:32:17.056051016",
          "2024-08-20T12:32:17.117888451",
          "2024-08-20T12:32:17.183228970",
          "2024-08-20T12:32:17.246451139",
          "2024-08-20T12:32:17.311335325",
          "2024-08-20T12:32:17.374109983",
          "2024-08-20T12:32:17.440968990",
          "2024-08-20T12:32:17.502764702",
          "2024-08-20T12:32:17.568790674",
          "2024-08-20T12:32:17.629988670",
          "2024-08-20T12:32:17.707792282",
          "2024-08-20T12:32:17.769598246",
          "2024-08-20T12:32:17.823451996",
          "2024-08-20T12:32:17.886348248",
          "2024-08-20T12:32:17.957094431",
          "2024-08-20T12:32:18.015938759",
          "2024-08-20T12:32:18.084788322",
          "2024-08-20T12:32:18.142599106",
          "2024-08-20T12:32:18.207425594",
          "2024-08-20T12:32:18.270257473",
          "2024-08-20T12:32:18.335122108",
          "2024-08-20T12:32:18.399975538",
          "2024-08-20T12:32:18.470842600",
          "2024-08-20T12:32:18.525648832",
          "2024-08-20T12:32:18.590513945",
          "2024-08-20T12:32:18.657296419",
          "2024-08-20T12:32:18.718192339",
          "2024-08-20T12:32:18.782960415",
          "2024-08-20T12:32:18.847694159",
          "2024-08-20T12:32:18.910487652",
          "2024-08-20T12:32:18.975023031",
          "2024-08-20T12:32:19.037863016",
          "2024-08-20T12:32:19.103645325",
          "2024-08-20T12:32:19.172459364",
          "2024-08-20T12:32:19.240307093",
          "2024-08-20T12:32:19.297124147",
          "2024-08-20T12:32:19.359956264",
          "2024-08-20T12:32:19.425780773",
          "2024-08-20T12:32:19.623049498",
          "2024-08-20T12:32:19.641996622",
          "2024-08-20T12:32:19.698847055",
          "2024-08-20T12:32:19.756545067",
          "2024-08-20T12:32:19.804416180",
          "2024-08-20T12:32:19.850294828",
          "2024-08-20T12:32:19.894176245",
          "2024-08-20T12:32:19.955012321",
          "2024-08-20T12:32:20.001924038",
          "2024-08-20T12:32:20.070703506",
          "2024-08-20T12:32:20.132539988",
          "2024-08-20T12:32:20.191419840",
          "2024-08-20T12:32:20.262194872",
          "2024-08-20T12:32:20.322516203",
          "2024-08-20T12:32:20.387259722",
          "2024-08-20T12:32:20.446102619",
          "2024-08-20T12:32:20.520902157",
          "2024-08-20T12:32:20.584731817",
          "2024-08-20T12:32:20.653100014",
          "2024-08-20T12:32:20.706911802",
          "2024-08-20T12:32:20.771246910",
          "2024-08-20T12:32:20.832086563",
          "2024-08-20T12:32:20.895421505",
          "2024-08-20T12:32:20.959251165",
          "2024-08-20T12:32:21.024112225",
          "2024-08-20T12:32:21.086937666",
          "2024-08-20T12:32:21.150739670",
          "2024-08-20T12:32:21.215182066",
          "2024-08-20T12:32:21.288241148",
          "2024-08-20T12:32:21.342065573",
          "2024-08-20T12:32:21.407263279",
          "2024-08-20T12:32:21.483011246",
          "2024-08-20T12:32:21.532878399",
          "2024-08-20T12:32:21.599734306",
          "2024-08-20T12:32:21.667518377",
          "2024-08-20T12:32:21.730396748",
          "2024-08-20T12:32:21.791186571",
          "2024-08-20T12:32:21.855018854",
          "2024-08-20T12:32:21.920847893",
          "2024-08-20T12:32:21.982674122",
          "2024-08-20T12:32:22.189171791",
          "2024-08-20T12:32:22.202137947",
          "2024-08-20T12:32:22.256990194",
          "2024-08-20T12:32:22.320201874",
          "2024-08-20T12:32:22.365945339",
          "2024-08-20T12:32:22.409827948",
          "2024-08-20T12:32:22.457733631",
          "2024-08-20T12:32:22.516542673",
          "2024-08-20T12:32:22.564417124",
          "2024-08-20T12:32:22.622356653",
          "2024-08-20T12:32:22.687514067",
          "2024-08-20T12:32:22.750309229",
          "2024-08-20T12:32:22.818037748",
          "2024-08-20T12:32:22.886855364",
          "2024-08-20T12:32:22.941748381",
          "2024-08-20T12:32:23.005697012",
          "2024-08-20T12:32:23.077054977",
          "2024-08-20T12:32:23.133903503",
          "2024-08-20T12:32:23.235785723",
          "2024-08-20T12:32:23.298555374",
          "2024-08-20T12:32:23.360395193",
          "2024-08-20T12:32:23.415242434",
          "2024-08-20T12:32:23.455136061",
          "2024-08-20T12:32:23.520959139",
          "2024-08-20T12:32:23.591769695",
          "2024-08-20T12:32:23.645626307",
          "2024-08-20T12:32:23.709454775",
          "2024-08-20T12:32:23.781263590",
          "2024-08-20T12:32:23.837112904",
          "2024-08-20T12:32:23.903935671",
          "2024-08-20T12:32:23.965770245",
          "2024-08-20T12:32:24.034584522",
          "2024-08-20T12:32:24.102404833",
          "2024-08-20T12:32:24.158255816",
          "2024-08-20T12:32:24.223082304",
          "2024-08-20T12:32:24.300907373",
          "2024-08-20T12:32:24.357778549",
          "2024-08-20T12:32:24.416562796",
          "2024-08-20T12:32:24.479396105",
          "2024-08-20T12:32:24.543224573",
          "2024-08-20T12:32:24.606056452",
          "2024-08-20T12:32:24.671190023",
          "2024-08-20T12:32:24.737014294",
          "2024-08-20T12:32:24.801352024",
          "2024-08-20T12:32:24.864221811",
          "2024-08-20T12:32:24.932000160",
          "2024-08-20T12:32:24.992837667",
          "2024-08-20T12:32:25.054672956",
          "2024-08-20T12:32:25.118500710",
          "2024-08-20T12:32:25.195301294",
          "2024-08-20T12:32:25.253140926",
          "2024-08-20T12:32:25.311498642",
          "2024-08-20T12:32:25.375326633",
          "2024-08-20T12:32:25.440153599",
          "2024-08-20T12:32:25.641125202",
          "2024-08-20T12:32:25.657083750",
          "2024-08-20T12:32:25.720910788",
          "2024-08-20T12:32:25.765789747",
          "2024-08-20T12:32:25.811667442",
          "2024-08-20T12:32:25.873502493",
          "2024-08-20T12:32:25.917384863",
          "2024-08-20T12:32:25.965266705",
          "2024-08-20T12:32:26.015124083",
          "2024-08-20T12:32:26.081945181",
          "2024-08-20T12:32:26.143970490",
          "2024-08-20T12:32:26.207308531",
          "2024-08-20T12:32:26.277124882",
          "2024-08-20T12:32:26.335473299",
          "2024-08-20T12:32:26.399356604",
          "2024-08-20T12:32:26.469116211",
          "2024-08-20T12:32:26.526027203",
          "2024-08-20T12:32:26.599806547",
          "2024-08-20T12:32:26.662598610",
          "2024-08-20T12:32:26.719447613",
          "2024-08-20T12:32:26.787300110",
          "2024-08-20T12:32:26.846109152",
          "2024-08-20T12:32:26.909974575",
          "2024-08-20T12:32:26.982742786",
          "2024-08-20T12:32:27.039618492",
          "2024-08-20T12:32:27.109428883",
          "2024-08-20T12:32:27.168270826",
          "2024-08-20T12:32:27.244070053",
          "2024-08-20T12:32:27.300915718",
          "2024-08-20T12:32:27.358763456",
          "2024-08-20T12:32:27.430572271",
          "2024-08-20T12:32:27.495396614",
          "2024-08-20T12:32:27.552243471",
          "2024-08-20T12:32:27.618986607",
          "2024-08-20T12:32:27.679826498",
          "2024-08-20T12:32:27.744651794",
          "2024-08-20T12:32:27.811474085",
          "2024-08-20T12:32:27.871311665",
          "2024-08-20T12:32:27.938232660",
          "2024-08-20T12:32:28.007043123",
          "2024-08-20T12:32:28.066883086",
          "2024-08-20T12:32:28.126723528",
          "2024-08-20T12:32:28.193597555",
          "2024-08-20T12:32:28.260417461",
          "2024-08-20T12:32:28.320315361",
          "2024-08-20T12:32:28.384086132",
          "2024-08-20T12:32:28.446953297",
          "2024-08-20T12:32:28.518725634",
          "2024-08-20T12:32:28.576572895",
          "2024-08-20T12:32:28.641489267",
          "2024-08-20T12:32:28.702045441",
          "2024-08-20T12:32:28.767858028",
          "2024-08-20T12:32:28.830724716",
          "2024-08-20T12:32:28.896514893",
          "2024-08-20T12:32:28.961437941",
          "2024-08-20T12:32:29.023036718",
          "2024-08-20T12:32:29.086858511",
          "2024-08-20T12:32:29.150660276",
          "2024-08-20T12:32:29.214490175",
          "2024-08-20T12:32:29.280347824",
          "2024-08-20T12:32:29.347641230",
          "2024-08-20T12:32:29.408477068",
          "2024-08-20T12:32:29.473303795",
          "2024-08-20T12:32:29.534140825",
          "2024-08-20T12:32:29.603953600",
          "2024-08-20T12:32:29.662796974",
          "2024-08-20T12:32:29.728660822",
          "2024-08-20T12:32:29.829075098",
          "2024-08-20T12:32:29.855006218",
          "2024-08-20T12:32:29.918835640",
          "2024-08-20T12:32:29.984659910",
          "2024-08-20T12:32:30.048488617",
          "2024-08-20T12:32:30.111320496",
          "2024-08-20T12:32:30.174177170",
          "2024-08-20T12:32:30.241478205",
          "2024-08-20T12:32:30.304310322",
          "2024-08-20T12:32:30.367180586",
          "2024-08-20T12:32:30.433924198",
          "2024-08-20T12:32:30.496754646",
          "2024-08-20T12:32:30.561550379",
          "2024-08-20T12:32:30.623412132",
          "2024-08-20T12:32:30.686249495",
          "2024-08-20T12:32:30.753970623",
          "2024-08-20T12:32:30.815323591",
          "2024-08-20T12:32:30.879150867",
          "2024-08-20T12:32:30.955455780",
          "2024-08-20T12:32:31.006345749",
          "2024-08-20T12:32:31.084110022",
          "2024-08-20T12:32:31.133013964",
          "2024-08-20T12:32:31.203535080",
          "2024-08-20T12:32:31.271354437",
          "2024-08-20T12:32:31.326326847",
          "2024-08-20T12:32:31.408055782",
          "2024-08-20T12:32:31.458920002",
          "2024-08-20T12:32:31.552667856",
          "2024-08-20T12:32:31.591563702",
          "2024-08-20T12:32:31.650408030",
          "2024-08-20T12:32:31.710282564",
          "2024-08-20T12:32:31.776070833",
          "2024-08-20T12:32:31.837939978",
          "2024-08-20T12:32:31.907718420",
          "2024-08-20T12:32:31.973545551",
          "2024-08-20T12:32:32.030505180",
          "2024-08-20T12:32:32.096329927",
          "2024-08-20T12:32:32.159909010",
          "2024-08-20T12:32:32.223783493",
          "2024-08-20T12:32:32.285617352",
          "2024-08-20T12:32:32.355093002",
          "2024-08-20T12:32:32.423932314",
          "2024-08-20T12:32:32.477780581",
          "2024-08-20T12:32:32.545111179",
          "2024-08-20T12:32:32.610616684",
          "2024-08-20T12:32:32.672452688",
          "2024-08-20T12:32:32.738783121",
          "2024-08-20T12:32:32.800617695",
          "2024-08-20T12:32:32.862452507",
          "2024-08-20T12:32:32.927278280",
          "2024-08-20T12:32:32.991107702",
          "2024-08-20T12:32:33.061918974",
          "2024-08-20T12:32:33.117813110",
          "2024-08-20T12:32:33.183628321",
          "2024-08-20T12:32:33.247426987",
          "2024-08-20T12:32:33.313245773",
          "2024-08-20T12:32:33.376078844",
          "2024-08-20T12:32:33.437913418",
          "2024-08-20T12:32:33.507761955",
          "2024-08-20T12:32:33.566568375",
          "2024-08-20T12:32:33.630432606",
          "2024-08-20T12:32:33.696256876",
          "2024-08-20T12:32:33.763337374",
          "2024-08-20T12:32:33.823216915",
          "2024-08-20T12:32:33.886786699",
          "2024-08-20T12:32:33.951614380",
          "2024-08-20T12:32:34.019431353",
          "2024-08-20T12:32:34.080267668",
          "2024-08-20T12:32:34.142103195",
          "2024-08-20T12:32:34.208925486",
          "2024-08-20T12:32:34.270759106",
          "2024-08-20T12:32:34.334587574",
          "2024-08-20T12:32:34.409389973",
          "2024-08-20T12:32:34.463746071",
          "2024-08-20T12:32:34.525631427",
          "2024-08-20T12:32:34.590441942",
          "2024-08-20T12:32:34.672589302",
          "2024-08-20T12:32:34.718495369",
          "2024-08-20T12:32:34.784605265",
          "2024-08-20T12:32:34.845502377",
          "2024-08-20T12:32:34.915297985",
          "2024-08-20T12:32:34.976535082",
          "2024-08-20T12:32:35.038368940",
          "2024-08-20T12:32:35.101213455",
          "2024-08-20T12:32:35.170028687",
          "2024-08-20T12:32:35.229869604",
          "2024-08-20T12:32:35.296691179",
          "2024-08-20T12:32:35.365506649",
          "2024-08-20T12:32:35.421391964",
          "2024-08-20T12:32:35.489713669",
          "2024-08-20T12:32:35.550548553",
          "2024-08-20T12:32:35.615374088",
          "2024-08-20T12:32:35.679830551",
          "2024-08-20T12:32:35.741671562",
          "2024-08-20T12:32:35.821450710",
          "2024-08-20T12:32:35.875407696",
          "2024-08-20T12:32:35.934213400",
          "2024-08-20T12:32:35.999787569",
          "2024-08-20T12:32:36.072578192",
          "2024-08-20T12:32:36.127431630",
          "2024-08-20T12:32:36.198305845",
          "2024-08-20T12:32:36.259132385",
          "2024-08-20T12:32:36.320932627",
          "2024-08-20T12:32:36.381804943",
          "2024-08-20T12:32:36.446623564",
          "2024-08-20T12:32:36.520399332",
          "2024-08-20T12:32:36.578244925",
          "2024-08-20T12:32:36.646062136",
          "2024-08-20T12:32:36.707958698",
          "2024-08-20T12:32:36.768796206",
          "2024-08-20T12:32:36.829632759",
          "2024-08-20T12:32:36.895457745",
          "2024-08-20T12:32:36.961305380",
          "2024-08-20T12:32:37.027129889",
          "2024-08-20T12:32:37.094947815",
          "2024-08-20T12:32:37.150824547",
          "2024-08-20T12:32:37.228126764",
          "2024-08-20T12:32:37.278991222",
          "2024-08-20T12:32:37.345320702",
          "2024-08-20T12:32:37.412676811",
          "2024-08-20T12:32:37.476505041",
          "2024-08-20T12:32:37.534350395",
          "2024-08-20T12:32:37.598179579",
          "2024-08-20T12:32:37.665997982",
          "2024-08-20T12:32:37.730824471",
          "2024-08-20T12:32:37.793656349",
          "2024-08-20T12:32:37.855490446",
          "2024-08-20T12:32:37.923312902",
          "2024-08-20T12:32:37.984147787",
          "2024-08-20T12:32:38.045563459",
          "2024-08-20T12:32:38.111385584",
          "2024-08-20T12:32:38.179205894",
          "2024-08-20T12:32:38.238048077",
          "2024-08-20T12:32:38.304870605",
          "2024-08-20T12:32:38.370692492",
          "2024-08-20T12:32:38.430532455",
          "2024-08-20T12:32:38.496356726",
          "2024-08-20T12:32:38.569162130",
          "2024-08-20T12:32:38.633988142",
          "2024-08-20T12:32:38.691833019",
          "2024-08-20T12:32:38.750226259",
          "2024-08-20T12:32:38.815091372",
          "2024-08-20T12:32:38.885902166",
          "2024-08-20T12:32:38.943747044",
          "2024-08-20T12:32:39.007613659",
          "2024-08-20T12:32:39.073400497",
          "2024-08-20T12:32:39.143213987",
          "2024-08-20T12:32:39.201062202",
          "2024-08-20T12:32:39.264887571",
          "2024-08-20T12:32:39.331712246"
         ],
         "xaxis": "x2",
         "y": {
          "bdata": "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",
          "dtype": "f8"
         },
         "yaxis": "y2"
        },
        {
         "marker": {
          "color": "lightcoral"
         },
         "name": "Distribution",
         "nbinsx": 30,
         "opacity": 0.7,
         "type": "histogram",
         "x": {
          "bdata": "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",
          "dtype": "f8"
         },
         "xaxis": "x3",
         "yaxis": "y3"
        },
        {
         "line": {
          "color": "lightcoral",
          "width": 1
         },
         "mode": "lines",
         "name": "Raw",
         "opacity": 0.5,
         "type": "scatter",
         "x": {
          "bdata": "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",
          "dtype": "i2"
         },
         "xaxis": "x4",
         "y": {
          "bdata": "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",
          "dtype": "f8"
         },
         "yaxis": "y4"
        },
        {
         "line": {
          "color": "darkred",
          "width": 3
         },
         "mode": "lines",
         "name": "Smoothed (n=52)",
         "type": "scatter",
         "x": {
          "bdata": "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",
          "dtype": "i2"
         },
         "xaxis": "x4",
         "y": {
          "bdata": "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",
          "dtype": "f8"
         },
         "yaxis": "y4"
        }
       ],
       "layout": {
        "annotations": [
         {
          "font": {
           "size": 16
          },
          "showarrow": false,
          "text": "Distance vs Frame Index",
          "x": 0.225,
          "xanchor": "center",
          "xref": "paper",
          "y": 1,
          "yanchor": "bottom",
          "yref": "paper"
         },
         {
          "font": {
           "size": 16
          },
          "showarrow": false,
          "text": "Distance vs Time",
          "x": 0.775,
          "xanchor": "center",
          "xref": "paper",
          "y": 1,
          "yanchor": "bottom",
          "yref": "paper"
         },
         {
          "font": {
           "size": 16
          },
          "showarrow": false,
          "text": "Distance Distribution",
          "x": 0.225,
          "xanchor": "center",
          "xref": "paper",
          "y": 0.375,
          "yanchor": "bottom",
          "yref": "paper"
         },
         {
          "font": {
           "size": 16
          },
          "showarrow": false,
          "text": "Distance Trends",
          "x": 0.775,
          "xanchor": "center",
          "xref": "paper",
          "y": 0.375,
          "yanchor": "bottom",
          "yref": "paper"
         },
         {
          "showarrow": false,
          "text": "Mean: 2.01meters",
          "x": 2.013418387928193,
          "xanchor": "left",
          "xref": "x3",
          "y": 1,
          "yanchor": "top",
          "yref": "y3 domain"
         }
        ],
        "height": 800,
        "shapes": [
         {
          "line": {
           "color": "red",
           "dash": "dash"
          },
          "type": "line",
          "x0": 2.013418387928193,
          "x1": 2.013418387928193,
          "xref": "x3",
          "y0": 0,
          "y1": 1,
          "yref": "y3 domain"
         }
        ],
        "showlegend": true,
        "template": {
         "data": {
          "bar": [
           {
            "error_x": {
             "color": "#2a3f5f"
            },
            "error_y": {
             "color": "#2a3f5f"
            },
            "marker": {
             "line": {
              "color": "#E5ECF6",
              "width": 0.5
             },
             "pattern": {
              "fillmode": "overlay",
              "size": 10,
              "solidity": 0.2
             }
            },
            "type": "bar"
           }
          ],
          "barpolar": [
           {
            "marker": {
             "line": {
              "color": "#E5ECF6",
              "width": 0.5
             },
             "pattern": {
              "fillmode": "overlay",
              "size": 10,
              "solidity": 0.2
             }
            },
            "type": "barpolar"
           }
          ],
          "carpet": [
           {
            "aaxis": {
             "endlinecolor": "#2a3f5f",
             "gridcolor": "white",
             "linecolor": "white",
             "minorgridcolor": "white",
             "startlinecolor": "#2a3f5f"
            },
            "baxis": {
             "endlinecolor": "#2a3f5f",
             "gridcolor": "white",
             "linecolor": "white",
             "minorgridcolor": "white",
             "startlinecolor": "#2a3f5f"
            },
            "type": "carpet"
           }
          ],
          "choropleth": [
           {
            "colorbar": {
             "outlinewidth": 0,
             "ticks": ""
            },
            "type": "choropleth"
           }
          ],
          "contour": [
           {
            "colorbar": {
             "outlinewidth": 0,
             "ticks": ""
            },
            "colorscale": [
             [
              0,
              "#0d0887"
             ],
             [
              0.1111111111111111,
              "#46039f"
             ],
             [
              0.2222222222222222,
              "#7201a8"
             ],
             [
              0.3333333333333333,
              "#9c179e"
             ],
             [
              0.4444444444444444,
              "#bd3786"
             ],
             [
              0.5555555555555556,
              "#d8576b"
             ],
             [
              0.6666666666666666,
              "#ed7953"
             ],
             [
              0.7777777777777778,
              "#fb9f3a"
             ],
             [
              0.8888888888888888,
              "#fdca26"
             ],
             [
              1,
              "#f0f921"
             ]
            ],
            "type": "contour"
           }
          ],
          "contourcarpet": [
           {
            "colorbar": {
             "outlinewidth": 0,
             "ticks": ""
            },
            "type": "contourcarpet"
           }
          ],
          "heatmap": [
           {
            "colorbar": {
             "outlinewidth": 0,
             "ticks": ""
            },
            "colorscale": [
             [
              0,
              "#0d0887"
             ],
             [
              0.1111111111111111,
              "#46039f"
             ],
             [
              0.2222222222222222,
              "#7201a8"
             ],
             [
              0.3333333333333333,
              "#9c179e"
             ],
             [
              0.4444444444444444,
              "#bd3786"
             ],
             [
              0.5555555555555556,
              "#d8576b"
             ],
             [
              0.6666666666666666,
              "#ed7953"
             ],
             [
              0.7777777777777778,
              "#fb9f3a"
             ],
             [
              0.8888888888888888,
              "#fdca26"
             ],
             [
              1,
              "#f0f921"
             ]
            ],
            "type": "heatmap"
           }
          ],
          "histogram": [
           {
            "marker": {
             "pattern": {
              "fillmode": "overlay",
              "size": 10,
              "solidity": 0.2
             }
            },
            "type": "histogram"
           }
          ],
          "histogram2d": [
           {
            "colorbar": {
             "outlinewidth": 0,
             "ticks": ""
            },
            "colorscale": [
             [
              0,
              "#0d0887"
             ],
             [
              0.1111111111111111,
              "#46039f"
             ],
             [
              0.2222222222222222,
              "#7201a8"
             ],
             [
              0.3333333333333333,
              "#9c179e"
             ],
             [
              0.4444444444444444,
              "#bd3786"
             ],
             [
              0.5555555555555556,
              "#d8576b"
             ],
             [
              0.6666666666666666,
              "#ed7953"
             ],
             [
              0.7777777777777778,
              "#fb9f3a"
             ],
             [
              0.8888888888888888,
              "#fdca26"
             ],
             [
              1,
              "#f0f921"
             ]
            ],
            "type": "histogram2d"
           }
          ],
          "histogram2dcontour": [
           {
            "colorbar": {
             "outlinewidth": 0,
             "ticks": ""
            },
            "colorscale": [
             [
              0,
              "#0d0887"
             ],
             [
              0.1111111111111111,
              "#46039f"
             ],
             [
              0.2222222222222222,
              "#7201a8"
             ],
             [
              0.3333333333333333,
              "#9c179e"
             ],
             [
              0.4444444444444444,
              "#bd3786"
             ],
             [
              0.5555555555555556,
              "#d8576b"
             ],
             [
              0.6666666666666666,
              "#ed7953"
             ],
             [
              0.7777777777777778,
              "#fb9f3a"
             ],
             [
              0.8888888888888888,
              "#fdca26"
             ],
             [
              1,
              "#f0f921"
             ]
            ],
            "type": "histogram2dcontour"
           }
          ],
          "mesh3d": [
           {
            "colorbar": {
             "outlinewidth": 0,
             "ticks": ""
            },
            "type": "mesh3d"
           }
          ],
          "parcoords": [
           {
            "line": {
             "colorbar": {
              "outlinewidth": 0,
              "ticks": ""
             }
            },
            "type": "parcoords"
           }
          ],
          "pie": [
           {
            "automargin": true,
            "type": "pie"
           }
          ],
          "scatter": [
           {
            "fillpattern": {
             "fillmode": "overlay",
             "size": 10,
             "solidity": 0.2
            },
            "type": "scatter"
           }
          ],
          "scatter3d": [
           {
            "line": {
             "colorbar": {
              "outlinewidth": 0,
              "ticks": ""
             }
            },
            "marker": {
             "colorbar": {
              "outlinewidth": 0,
              "ticks": ""
             }
            },
            "type": "scatter3d"
           }
          ],
          "scattercarpet": [
           {
            "marker": {
             "colorbar": {
              "outlinewidth": 0,
              "ticks": ""
             }
            },
            "type": "scattercarpet"
           }
          ],
          "scattergeo": [
           {
            "marker": {
             "colorbar": {
              "outlinewidth": 0,
              "ticks": ""
             }
            },
            "type": "scattergeo"
           }
          ],
          "scattergl": [
           {
            "marker": {
             "colorbar": {
              "outlinewidth": 0,
              "ticks": ""
             }
            },
            "type": "scattergl"
           }
          ],
          "scattermap": [
           {
            "marker": {
             "colorbar": {
              "outlinewidth": 0,
              "ticks": ""
             }
            },
            "type": "scattermap"
           }
          ],
          "scattermapbox": [
           {
            "marker": {
             "colorbar": {
              "outlinewidth": 0,
              "ticks": ""
             }
            },
            "type": "scattermapbox"
           }
          ],
          "scatterpolar": [
           {
            "marker": {
             "colorbar": {
              "outlinewidth": 0,
              "ticks": ""
             }
            },
            "type": "scatterpolar"
           }
          ],
          "scatterpolargl": [
           {
            "marker": {
             "colorbar": {
              "outlinewidth": 0,
              "ticks": ""
             }
            },
            "type": "scatterpolargl"
           }
          ],
          "scatterternary": [
           {
            "marker": {
             "colorbar": {
              "outlinewidth": 0,
              "ticks": ""
             }
            },
            "type": "scatterternary"
           }
          ],
          "surface": [
           {
            "colorbar": {
             "outlinewidth": 0,
             "ticks": ""
            },
            "colorscale": [
             [
              0,
              "#0d0887"
             ],
             [
              0.1111111111111111,
              "#46039f"
             ],
             [
              0.2222222222222222,
              "#7201a8"
             ],
             [
              0.3333333333333333,
              "#9c179e"
             ],
             [
              0.4444444444444444,
              "#bd3786"
             ],
             [
              0.5555555555555556,
              "#d8576b"
             ],
             [
              0.6666666666666666,
              "#ed7953"
             ],
             [
              0.7777777777777778,
              "#fb9f3a"
             ],
             [
              0.8888888888888888,
              "#fdca26"
             ],
             [
              1,
              "#f0f921"
             ]
            ],
            "type": "surface"
           }
          ],
          "table": [
           {
            "cells": {
             "fill": {
              "color": "#EBF0F8"
             },
             "line": {
              "color": "white"
             }
            },
            "header": {
             "fill": {
              "color": "#C8D4E3"
             },
             "line": {
              "color": "white"
             }
            },
            "type": "table"
           }
          ]
         },
         "layout": {
          "annotationdefaults": {
           "arrowcolor": "#2a3f5f",
           "arrowhead": 0,
           "arrowwidth": 1
          },
          "autotypenumbers": "strict",
          "coloraxis": {
           "colorbar": {
            "outlinewidth": 0,
            "ticks": ""
           }
          },
          "colorscale": {
           "diverging": [
            [
             0,
             "#8e0152"
            ],
            [
             0.1,
             "#c51b7d"
            ],
            [
             0.2,
             "#de77ae"
            ],
            [
             0.3,
             "#f1b6da"
            ],
            [
             0.4,
             "#fde0ef"
            ],
            [
             0.5,
             "#f7f7f7"
            ],
            [
             0.6,
             "#e6f5d0"
            ],
            [
             0.7,
             "#b8e186"
            ],
            [
             0.8,
             "#7fbc41"
            ],
            [
             0.9,
             "#4d9221"
            ],
            [
             1,
             "#276419"
            ]
           ],
           "sequential": [
            [
             0,
             "#0d0887"
            ],
            [
             0.1111111111111111,
             "#46039f"
            ],
            [
             0.2222222222222222,
             "#7201a8"
            ],
            [
             0.3333333333333333,
             "#9c179e"
            ],
            [
             0.4444444444444444,
             "#bd3786"
            ],
            [
             0.5555555555555556,
             "#d8576b"
            ],
            [
             0.6666666666666666,
             "#ed7953"
            ],
            [
             0.7777777777777778,
             "#fb9f3a"
            ],
            [
             0.8888888888888888,
             "#fdca26"
            ],
            [
             1,
             "#f0f921"
            ]
           ],
           "sequentialminus": [
            [
             0,
             "#0d0887"
            ],
            [
             0.1111111111111111,
             "#46039f"
            ],
            [
             0.2222222222222222,
             "#7201a8"
            ],
            [
             0.3333333333333333,
             "#9c179e"
            ],
            [
             0.4444444444444444,
             "#bd3786"
            ],
            [
             0.5555555555555556,
             "#d8576b"
            ],
            [
             0.6666666666666666,
             "#ed7953"
            ],
            [
             0.7777777777777778,
             "#fb9f3a"
            ],
            [
             0.8888888888888888,
             "#fdca26"
            ],
            [
             1,
             "#f0f921"
            ]
           ]
          },
          "colorway": [
           "#636efa",
           "#EF553B",
           "#00cc96",
           "#ab63fa",
           "#FFA15A",
           "#19d3f3",
           "#FF6692",
           "#B6E880",
           "#FF97FF",
           "#FECB52"
          ],
          "font": {
           "color": "#2a3f5f"
          },
          "geo": {
           "bgcolor": "white",
           "lakecolor": "white",
           "landcolor": "#E5ECF6",
           "showlakes": true,
           "showland": true,
           "subunitcolor": "white"
          },
          "hoverlabel": {
           "align": "left"
          },
          "hovermode": "closest",
          "mapbox": {
           "style": "light"
          },
          "paper_bgcolor": "white",
          "plot_bgcolor": "#E5ECF6",
          "polar": {
           "angularaxis": {
            "gridcolor": "white",
            "linecolor": "white",
            "ticks": ""
           },
           "bgcolor": "#E5ECF6",
           "radialaxis": {
            "gridcolor": "white",
            "linecolor": "white",
            "ticks": ""
           }
          },
          "scene": {
           "xaxis": {
            "backgroundcolor": "#E5ECF6",
            "gridcolor": "white",
            "gridwidth": 2,
            "linecolor": "white",
            "showbackground": true,
            "ticks": "",
            "zerolinecolor": "white"
           },
           "yaxis": {
            "backgroundcolor": "#E5ECF6",
            "gridcolor": "white",
            "gridwidth": 2,
            "linecolor": "white",
            "showbackground": true,
            "ticks": "",
            "zerolinecolor": "white"
           },
           "zaxis": {
            "backgroundcolor": "#E5ECF6",
            "gridcolor": "white",
            "gridwidth": 2,
            "linecolor": "white",
            "showbackground": true,
            "ticks": "",
            "zerolinecolor": "white"
           }
          },
          "shapedefaults": {
           "line": {
            "color": "#2a3f5f"
           }
          },
          "ternary": {
           "aaxis": {
            "gridcolor": "white",
            "linecolor": "white",
            "ticks": ""
           },
           "baxis": {
            "gridcolor": "white",
            "linecolor": "white",
            "ticks": ""
           },
           "bgcolor": "#E5ECF6",
           "caxis": {
            "gridcolor": "white",
            "linecolor": "white",
            "ticks": ""
           }
          },
          "title": {
           "x": 0.05
          },
          "xaxis": {
           "automargin": true,
           "gridcolor": "white",
           "linecolor": "white",
           "ticks": "",
           "title": {
            "standoff": 15
           },
           "zerolinecolor": "white",
           "zerolinewidth": 2
          },
          "yaxis": {
           "automargin": true,
           "gridcolor": "white",
           "linecolor": "white",
           "ticks": "",
           "title": {
            "standoff": 15
           },
           "zerolinecolor": "white",
           "zerolinewidth": 2
          }
         }
        },
        "title": {
         "text": "Real-World Distance Analysis"
        },
        "xaxis": {
         "anchor": "y",
         "domain": [
          0,
          0.45
         ],
         "title": {
          "text": "Frame Index"
         }
        },
        "xaxis2": {
         "anchor": "y2",
         "domain": [
          0.55,
          1
         ],
         "title": {
          "text": "Time"
         }
        },
        "xaxis3": {
         "anchor": "y3",
         "domain": [
          0,
          0.45
         ],
         "title": {
          "text": "Distance (meters)"
         }
        },
        "xaxis4": {
         "anchor": "y4",
         "domain": [
          0.55,
          1
         ],
         "title": {
          "text": "Frame Index"
         }
        },
        "yaxis": {
         "anchor": "x",
         "domain": [
          0.625,
          1
         ],
         "title": {
          "text": "Distance (meters)"
         }
        },
        "yaxis2": {
         "anchor": "x2",
         "domain": [
          0.625,
          1
         ],
         "title": {
          "text": "Distance (meters)"
         }
        },
        "yaxis3": {
         "anchor": "x3",
         "domain": [
          0,
          0.375
         ],
         "title": {
          "text": "Frequency"
         }
        },
        "yaxis4": {
         "anchor": "x4",
         "domain": [
          0,
          0.375
         ],
         "title": {
          "text": "Distance (meters)"
         }
        }
       }
      }
     },
     "metadata": {},
     "output_type": "display_data"
    }
   ],
   "source": [
    "iau.VisualizationEngine.plot_distance_analysis(distance_results, \"Real-World Distance Analysis\")"
   ]
  },
  {
   "cell_type": "code",
   "execution_count": 14,
   "id": "c10a8be6",
   "metadata": {},
   "outputs": [
    {
     "name": "stdout",
     "output_type": "stream",
     "text": [
      " LOADING ALL DISTANCE DATA FOR BAG: 2024-08-20_14-31-29\n",
      "============================================================\n",
      "📡 1. Loading Navigation Data...\n",
      "    Loaded 559 navigation records\n",
      "    NetPitch data available: 559 valid records\n",
      "📡 2. Loading Guidance Data...\n",
      "    Loaded 549 guidance records with ['error_net_distance', 'desired_net_distance', 'r_net_distance_d']\n",
      "📡 3. Loading DVL Altimeter...\n",
      "    DVL altimeter file not found\n",
      " 4. Loading USBL...\n",
      "    Loaded 33 USBL records\n",
      "📡 5. Loading DVL Position...\n",
      "    Loaded 283 DVL position records\n",
      " 6. Loading Navigation Position...\n",
      "    Loaded 278 navigation position records\n",
      "📡 7. Loading INS Z Position...\n",
      "    INS file not found\n",
      "\n",
      " LOADING SUMMARY:\n",
      "    Target bag: 2024-08-20_14-31-29\n",
      "    Raw data loaded: 2/2\n",
      "    Distance measurements: 4\n",
      "\n",
      " RAW DATA LOADED:\n",
      "    navigation: 559 records\n",
      "    guidance: 549 records\n",
      "\n",
      " DISTANCE MEASUREMENTS LOADED:\n",
      "    USBL_3D: 33 records - 3D acoustic position\n",
      "    USBL_Depth: 33 records - USBL depth measurement\n",
      "    DVL_Position: 283 records - 3D DVL position\n",
      "    Nav_Position: 278 records - 2D navigation position\n"
     ]
    }
   ],
   "source": [
    "# COMPARISON: SONAR vs DVL DISTANCE MEASUREMENTS\n",
    "# =================================================\n",
    "import utils.net_distance_analysis as sda\n",
    "\n",
    "# IMPORTANT: Pass the by_bag folder, not just the exports root\n",
    "# The function expects the folder containing the CSV files\n",
    "from utils.sonar_config import EXPORTS_SUBDIRS\n",
    "BY_BAG_FOLDER = EXPORTS_FOLDER / EXPORTS_SUBDIRS.get('by_bag', 'by_bag')\n",
    "\n",
    "# Load all distance data for the target bag\n",
    "raw_data, distance_measurements = sda.load_all_distance_data_for_bag(TARGET_BAG, BY_BAG_FOLDER)\n",
    "\n",
    "# Display what we loaded\n",
    "print(f\"\\n RAW DATA LOADED:\")\n",
    "for key, data in raw_data.items():\n",
    "    if data is not None:\n",
    "        print(f\"    {key}: {len(data)} records\")\n",
    "    else:\n",
    "        print(f\"    {key}: None\")\n",
    "\n",
    "print(f\"\\n DISTANCE MEASUREMENTS LOADED:\")\n",
    "for key, info in distance_measurements.items():\n",
    "    data_len = len(info['data'])\n",
    "    print(f\"    {key}: {data_len} records - {info['description']}\")"
   ]
  },
  {
   "cell_type": "code",
   "execution_count": 15,
   "id": "0375375e",
   "metadata": {},
   "outputs": [
    {
     "name": "stdout",
     "output_type": "stream",
     "text": [
      "\n",
      "SONAR vs DVL COMPARISON STATISTICS:\n",
      "==================================================\n",
      "Sonar mean distance: 2.013 m\n",
      "DVL mean distance:   1.968 m\n",
      "Scale ratio (Sonar/DVL): 1.023x\n",
      "Sonar mean pitch:    9.39°\n",
      "DVL mean pitch:      5.07°\n",
      "Pitch difference:    4.32°\n",
      "Sonar duration: 67.1s (1059 frames)\n",
      "DVL duration:   67.0s (559 records)\n"
     ]
    },
    {
     "data": {
      "application/vnd.plotly.v1+json": {
       "config": {
        "plotlyServerURL": "https://plot.ly"
       },
       "data": [
        {
         "line": {
          "color": "red",
          "width": 3
         },
         "mode": "lines",
         "name": "Sonar Distance",
         "type": "scatter",
         "x": {
          "bdata": "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",
          "dtype": "f8"
         },
         "xaxis": "x",
         "y": {
          "bdata": "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",
          "dtype": "f8"
         },
         "yaxis": "y"
        },
        {
         "line": {
          "color": "blue",
          "width": 3
         },
         "mode": "lines",
         "name": "DVL Distance",
         "type": "scatter",
         "x": {
          "bdata": "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",
          "dtype": "f8"
         },
         "xaxis": "x",
         "y": {
          "bdata": "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",
          "dtype": "f8"
         },
         "yaxis": "y"
        },
        {
         "line": {
          "color": "orange",
          "width": 3
         },
         "mode": "lines",
         "name": "Sonar Pitch",
         "type": "scatter",
         "x": {
          "bdata": "vtjibKU2sD++2OJspTbAPx1FVCP4Ucg/vtjibKU20D/tjhvITkTUPx1FVCP4Udg/TPuMfqFf3D++2OJspTbgP9Uzfxp6PeI/7Y4byE5E5D8F6rd1I0vmPx1FVCP4Ueg/NKDw0MxY6j9M+4x+oV/sP2RWKSx2Zu4/vtjibKU28D9KBrHDDzrxP9Uzfxp6PfI/YmFNceRA8z/tjhvITkT0P3m86R65R/U/Beq3dSNL9j+RF4bMjU73Px1FVCP4Ufg/qHIiemJV+T80oPDQzFj6P8DNvic3XPs/TPuMfqFf/D/YKFvVC2P9P2RWKSx2Zv4/74P3guBp/z++2OJspTYAQITvSZhauABASgaxww86AUAPHRjvxLsBQNUzfxp6PQJAm0rmRS+/AkBiYU1x5EADQCd4tJyZwgNA7Y4byE5EBECzpYLzA8YEQHm86R65RwVAP9NQSm7JBUAF6rd1I0sGQMoAH6HYzAZAkReGzI1OB0BXLu33QtAHQB1FVCP4UQhA4lu7Tq3TCECociJ6YlUJQG+JiaUX1wlANKDw0MxYCkD6tlf8gdoKQMDNvic3XAtAhuQlU+zdC0BM+4x+oV8MQBIS9KlW4QxA2Chb1QtjDUCdP8IAweQNQGRWKSx2Zg5AKm2QVyvoDkDvg/eC4GkPQLWaXq6V6w9AvtjibKU2EEAgZJYCgHcQQITvSZhauBBA5nr9LTX5EEBKBrHDDzoRQKyRZFnqehFADx0Y78S7EUBzqMuEn/wRQNUzfxp6PRJAOb8ysFR+EkCbSuZFL78SQP7VmdsJABNAYmFNceRAE0DE7AAHv4ETQCd4tJyZwhNAiwNoMnQDFEDtjhvITkQUQFAaz10phRRAs6WC8wPGFEAWMTaJ3gYVQHm86R65RxVA3EedtJOIFUA/01BKbskVQKFeBOBIChZABeq3dSNLFkBodWsL/osWQMoAH6HYzBZALozSNrMNF0CRF4bMjU4XQPSiOWJojxdAVy7t90LQF0C5uaCNHREYQB1FVCP4URhAgNAHudKSGEDiW7tOrdMYQEbnbuSHFBlAqHIiemJVGUAL/tUPPZYZQG+JiaUX1xlA0RQ9O/IXGkA0oPDQzFgaQJgrpGanmRpA+rZX/IHaGkBdQguSXBsbQMDNvic3XBtAI1lyvRGdG0CG5CVT7N0bQOlv2ejGHhxATPuMfqFfHECvhkAUfKAcQBIS9KlW4RxAdZ2nPzEiHUDYKFvVC2MdQDu0Dmvmox1AnT/CAMHkHUABy3WWmyUeQGRWKSx2Zh5AxuHcwVCnHkAqbZBXK+geQI34Q+0FKR9A74P3guBpH0BTD6sYu6ofQLWaXq6V6x9ADBMJIjgWIEC+2OJspTYgQG+evLcSVyBAIGSWAoB3IEDSKXBN7ZcgQITvSZhauCBANbUj48fYIEDmev0tNfkgQJhA13iiGSFASgaxww86IUD7y4oOfVohQKyRZFnqeiFAXlc+pFebIUAPHRjvxLshQMHi8Tky3CFAc6jLhJ/8IUAkbqXPDB0iQNUzfxp6PSJAh/lYZeddIkA5vzKwVH4iQOqEDPvBniJAm0rmRS+/IkBNEMCQnN8iQP7VmdsJACNAsJtzJncgI0BiYU1x5EAjQBInJ7xRYSNAxOwAB7+BI0B2stpRLKIjQCd4tJyZwiNA2T2O5wbjI0CLA2gydAMkQDvJQX3hIyRA7Y4byE5EJECfVPUSvGQkQFAaz10phSRAAuCoqJalJECzpYLzA8YkQGRrXD5x5iRAFjE2id4GJUDI9g/USyclQHm86R65RyVAKoLDaSZoJUDcR520k4glQI0Nd/8AqSVAP9NQSm7JJUDxmCqV2+klQKFeBOBICiZAUyTeKrYqJkAF6rd1I0smQLavkcCQayZAaHVrC/6LJkAZO0VWa6wmQMoAH6HYzCZAfMb460XtJkAujNI2sw0nQN9RrIEgLidAkReGzI1OJ0BC3V8X+24nQPSiOWJojydApWgTrdWvJ0BXLu33QtAnQAn0xkKw8CdAubmgjR0RKEBrf3rYijEoQB1FVCP4UShAzgoubmVyKECA0Ae50pIoQDGW4QNAsyhA4lu7Tq3TKECUIZWZGvQoQEbnbuSHFClA96xIL/U0KUCociJ6YlUpQFo4/MTPdSlAC/7VDz2WKUC9w69aqrYpQG+JiaUX1ylAH09j8IT3KUDRFD078hcqQIPaFoZfOCpANKDw0MxYKkDmZcobOnkqQJgrpGanmSpASPF9sRS6KkD6tlf8gdoqQKx8MUfv+ipAXUILklwbK0APCOXcyTsrQMDNvic3XCtAcZOYcqR8K0AjWXK9EZ0rQNUeTAh/vStAhuQlU+zdK0A3qv+dWf4rQOlv2ejGHixAmjWzMzQ/LEBM+4x+oV8sQP7AZskOgCxAr4ZAFHygLEBgTBpf6cAsQBIS9KlW4SxAxNfN9MMBLUB1nac/MSItQCZjgYqeQi1A2Chb1QtjLUCJ7jQgeYMtQDu0Dmvmoy1A7XnotVPELUCdP8IAweQtQE8FnEsuBS5AAct1lpslLkCykE/hCEYuQGRWKSx2Zi5AFhwDd+OGLkDG4dzBUKcuQHintgy+xy5AKm2QVyvoLkDbMmqimAgvQI34Q+0FKS9APr4dOHNJL0Dvg/eC4GkvQKFJ0c1Nii9AUw+rGLuqL0AE1YRjKMsvQLWaXq6V6y9ANDCcfAEGMEAMEwkiOBYwQOX1dcduJjBAvtjibKU2MECWu08S3EYwQG+evLcSVzBASIEpXUlnMEAgZJYCgHcwQPlGA6i2hzBA0ilwTe2XMECrDN3yI6gwQITvSZhauDBAXNK2PZHIMEA1tSPjx9gwQA6YkIj+6DBA5nr9LTX5MEC/XWrTawkxQJhA13iiGTFAcSNEHtkpMUBKBrHDDzoxQCPpHWlGSjFA+8uKDn1aMUDTrvezs2oxQKyRZFnqejFAhXTR/iCLMUBeVz6kV5sxQDc6q0mOqzFADx0Y78S7MUDo/4SU+8sxQMHi8Tky3DFAmsVe32jsMUBzqMuEn/wxQEyLOCrWDDJAJG6lzwwdMkD8UBJ1Qy0yQNUzfxp6PTJArhbsv7BNMkCH+Vhl510yQGDcxQoebjJAOb8ysFR+MkARop9Vi44yQOqEDPvBnjJAw2d5oPiuMkCbSuZFL78yQHQtU+tlzzJATRDAkJzfMkAl8yw20+8yQP7VmdsJADNA17gGgUAQM0Cwm3MmdyAzQIl+4MutMDNAYmFNceRAM0A6RLoWG1EzQBInJ7xRYTNA6wmUYYhxM0DE7AAHv4EzQJ3Pbaz1kTNAdrLaUSyiM0BOlUf3YrIzQCd4tJyZwjNAAFshQtDSM0DZPY7nBuMzQLIg+4w98zNAiwNoMnQDNEBi5tTXqhM0QDvJQX3hIzRAFKyuIhg0NEDtjhvITkQ0QMZxiG2FVDRAn1T1ErxkNEB3N2K48nQ0QFAaz10phTRAKf07A2CVNEAC4KiolqU0QNrCFU7NtTRAs6WC8wPGNECMiO+YOtY0QGRrXD5x5jRAPU7J46f2NEAWMTaJ3gY1QO8Toy4VFzVAyPYP1EsnNUCh2Xx5gjc1QHm86R65RzVAUp9WxO9XNUAqgsNpJmg1QANlMA9deDVA3EedtJOINUC1Kgpaypg1QI0Nd/8AqTVAZvDjpDe5NUA/01BKbsk1QBi2ve+k2TVA8ZgqldvpNUDKe5c6Evo1QKFeBOBICjZAekFxhX8aNkBTJN4qtio2QCwHS9DsOjZABeq3dSNLNkDezCQbWls2QLavkcCQazZAj5L+Zcd7NkBodWsL/os2QEFY2LA0nDZAGTtFVmusNkDyHbL7obw2QMoAH6HYzDZAo+OLRg/dNkB8xvjrRe02QFWpZZF8/TZALozSNrMNN0AHbz/c6R03QN9RrIEgLjdAuDQZJ1c+N0CRF4bMjU43QGn68nHEXjdAQt1fF/tuN0AbwMy8MX83QPSiOWJojzdAzIWmB5+fN0ClaBOt1a83QH5LgFIMwDdAVy7t90LQN0AwEVqdeeA3QAn0xkKw8DdA4NYz6OYAOEC5uaCNHRE4QJKcDTNUIThAa3962IoxOEBEYud9wUE4QB1FVCP4UThA9SfByC5iOEDOCi5uZXI4QKftmhOcgjhAgNAHudKSOEBZs3ReCaM4QDGW4QNAszhACXlOqXbDOEDiW7tOrdM4QLs+KPTj4zhAlCGVmRr0OEBtBAI/UQQ5QEbnbuSHFDlAHsrbib4kOUD3rEgv9TQ5QNCPtdQrRTlAqHIiemJVOUCBVY8fmWU5QFo4/MTPdTlAMhtpagaGOUAL/tUPPZY5QOTgQrVzpjlAvcOvWqq2OUCWphwA4cY5QG+JiaUX1zlASGz2Sk7nOUAfT2PwhPc5QPgx0JW7BzpA0RQ9O/IXOkCq96ngKCg6QIPaFoZfODpAXL2DK5ZIOkA0oPDQzFg6QA2DXXYDaTpA5mXKGzp5OkC/SDfBcIk6QJgrpGanmTpAcA4RDN6pOkBI8X2xFLo6QCHU6lZLyjpA+rZX/IHaOkDTmcShuOo6QKx8MUfv+jpAhV+e7CULO0BdQguSXBs7QDYleDeTKztADwjl3Mk7O0Dn6lGCAEw7QMDNvic3XDtAmbArzW1sO0Bxk5hypHw7QEp2BRjbjDtAI1lyvRGdO0D8O99iSK07QNUeTAh/vTtArgG5rbXNO0CG5CVT7N07QF7Hkvgi7jtAN6r/nVn+O0AQjWxDkA48QOlv2ejGHjxAwlJGjv0uPECaNbMzND88QHMYINlqTzxATPuMfqFfPEAl3vkj2G88QP7AZskOgDxA16PTbkWQPECvhkAUfKA8QIdprbmysDxAYEwaX+nAPEA5L4cEINE8QBIS9KlW4TxA6/RgT43xPEDE1830wwE9QJy6Opr6ET1AdZ2nPzEiPUBOgBTlZzI9QCZjgYqeQj1A/0XuL9VSPUDYKFvVC2M9QLALyHpCcz1Aie40IHmDPUBi0aHFr5M9QDu0Dmvmoz1AFJd7EB20PUDteei1U8Q9QMVcVVuK1D1AnT/CAMHkPUB2Ii+m9/Q9QE8FnEsuBT5AKOgI8WQVPkABy3WWmyU+QNmt4jvSNT5AspBP4QhGPkCLc7yGP1Y+QGRWKSx2Zj5APTmW0ax2PkAWHAN344Y+QO3+bxwalz5AxuHcwVCnPkCfxElnh7c+QHintgy+xz5AUYojsvTXPkAqbZBXK+g+QANQ/fxh+D5A2zJqopgIP0C0FddHzxg/QI34Q+0FKT9AZduwkjw5P0A+vh04c0k/QBehit2pWT9A74P3guBpP0DIZmQoF3o/QKFJ0c1Nij9Aeiw+c4SaP0BTD6sYu6o/QCzyF77xuj9ABNWEYyjLP0Dct/EIX9s/QLWaXq6V6z9Ajn3LU8z7P0A0MJx8AQZAQKChUs8cDkBADBMJIjgWQEB4hL90Ux5AQOX1dcduJkBAUWcsGoouQEC+2OJspTZAQCpKmb/APkBAlrtPEtxGQEADLQZl905AQG+evLcSV0BA3A9zCi5fQEBIgSldSWdAQLTy369kb0BAIGSWAoB3QECN1UxVm39AQPlGA6i2h0BAZri5+tGPQEDSKXBN7ZdAQD+bJqAIoEBAqwzd8iOoQEAXfpNFP7BAQITvSZhauEBA8GAA63XAQEBc0rY9kchAQMlDbZCs0EBANbUj48fYQECiJto14+BAQA6YkIj+6EBAewlH2xnxQEDmev0tNflAQFPss4BQAUFAv11q02sJQUAszyAmhxFBQJhA13iiGUFABLKNy70hQUBxI0Qe2SlBQN2U+nD0MUFASgaxww86QUC2d2cWK0JBQCPpHWlGSkFAj1rUu2FSQUD7y4oOfVpBQGc9QWGYYkFA0673s7NqQUBAIK4Gz3JBQKyRZFnqekFAGQMbrAWDQUCFdNH+IItBQPLlh1E8k0FAXlc+pFebQUDLyPT2cqNBQDc6q0mOq0FApKthnKmzQUAPHRjvxLtBQHuOzkHgw0FA6P+ElPvLQUBUcTvnFtRBQMHi8Tky3EFALVSojE3kQUCaxV7faOxBQAY3FTKE9EFAc6jLhJ/8QUDfGYLXugRCQEyLOCrWDEJAuPzufPEUQkAkbqXPDB1CQJDfWyIoJUJA/FASdUMtQkBpwsjHXjVCQNUzfxp6PUJAQqU1bZVFQkCuFuy/sE1CQBuIohLMVUJAh/lYZeddQkD0ag+4AmZCQGDcxQoebkJAzE18XTl2QkA5vzKwVH5CQKQw6QJwhkJAEaKfVYuOQkB9E1aoppZCQOqEDPvBnkJAVvbCTd2mQkDDZ3mg+K5CQC/ZL/MTt0JAm0rmRS+/QkAIvJyYSsdCQHQtU+tlz0JA4Z4JPoHXQkBNEMCQnN9CQLmBduO350JAJfMsNtPvQkCSZOOI7vdCQP7VmdsJAENAa0dQLiUIQ0DXuAaBQBBDQEMqvdNbGENAsJtzJncgQ0AcDSp5kihDQIl+4MutMENA9e+WHsk4Q0BiYU1x5EBDQM3SA8T/SENAOkS6FhtRQ0CmtXBpNllDQBInJ7xRYUNAf5jdDm1pQ0DrCZRhiHFDQFh7SrSjeUNAxOwAB7+BQ0AxXrdZ2olDQJ3Pbaz1kUNACkEk/xCaQ0B2stpRLKJDQOMjkaRHqkNATpVH92KyQ0C6Bv5JfrpDQCd4tJyZwkNAk+lq77TKQ0AAWyFC0NJDQGzM15Tr2kNA2T2O5wbjQ0BFr0Q6IutDQLIg+4w980NAHpKx31j7Q0CLA2gydANEQPd0HoWPC0RAYubU16oTREDPV4sqxhtEQDvJQX3hI0RAqDr4z/wrREAUrK4iGDREQIEdZXUzPERA7Y4byE5EREBaANIaakxEQMZxiG2FVERAM+M+wKBcRECfVPUSvGREQAvGq2XXbERAdzdiuPJ0REDjqBgLDn1EQFAaz10phURAvIuFsESNREAp/TsDYJVEQJVu8lV7nURAAuCoqJalREBuUV/7sa1EQNrCFU7NtURARzTMoOi9RECzpYLzA8ZEQCAXOUYfzkRAjIjvmDrWRED4+aXrVd5EQGRrXD5x5kRA0dwSkYzuREA9Tsnjp/ZEQKq/fzbD/kRAFjE2id4GRUCCouzb+Q5FQO8Toy4VF0VAW4VZgTAfRUDI9g/USydFQDRoxiZnL0VAodl8eYI3RUAMSzPMnT9FQHm86R65R0VA5S2gcdRPRUBSn1bE71dFQL4QDRcLYEVAKoLDaSZoRUCX83m8QXBFQANlMA9deEVAcNbmYXiARUDcR520k4hFQEm5UwevkEVAtSoKWsqYRUAhnMCs5aBFQI0Nd/8AqUVA+X4tUhyxRUBm8OOkN7lFQNJhmvdSwUVAP9NQSm7JRUCrRAedidFFQBi2ve+k2UVAhCd0QsDhRUDxmCqV2+lFQF0K4ef28UVAynuXOhL6RUA27U2NLQJGQKFeBOBICkZADtC6MmQSRkB6QXGFfxpGQOeyJ9iaIkZAUyTeKrYqRkDAlZR90TJGQCwHS9DsOkZAmXgBIwhDRkAF6rd1I0tGQHJbbsg+U0ZA3swkG1pbRkBKPtttdWNGQLavkcCQa0ZAIiFIE6xzRkCPkv5lx3tGQPsDtbjig0ZAaHVrC/6LRkDU5iFeGZRGQEFY2LA0nEZArcmOA1CkRkAZO0VWa6xGQIas+6iGtEZA8h2y+6G8RkBfj2hOvcRGQMoAH6HYzEZAN3LV8/PURkCj44tGD91GQBBVQpkq5UZAfMb460XtRkDpN68+YfVGQFWpZZF8/UZAwRoc5JcFR0AujNI2sw1HQJr9iInOFUdAB28/3OkdR0Bz4PUuBSZHQN9RrIEgLkdAS8Ni1Ds2R0C4NBknVz5HQCSmz3lyRkdAkReGzI1OR0D9iDwfqVZHQGn68nHEXkdA1mupxN9mR0BC3V8X+25HQK9OFmoWd0dAG8DMvDF/R0CIMYMPTYdHQPSiOWJoj0dAYBTwtIOXR0DMhaYHn59HQDj3XFq6p0dApWgTrdWvR0AR2sn/8LdHQH5LgFIMwEdA6rw2pSfIR0BXLu33QtBHQMOfo0pe2EdAMBFanXngR0CcghDwlOhHQAn0xkKw8EdAdGV9lcv4R0Dg1jPo5gBIQE1I6joCCUhAubmgjR0RSEAmK1fgOBlIQJKcDTNUIUhA/w3EhW8pSEBrf3rYijFIQNjwMCumOUhARGLnfcFBSECx053Q3ElIQB1FVCP4UUhAiLYKdhNaSED1J8HILmJIQGGZdxtKakhAzgoubmVySEA6fOTAgHpIQKftmhOcgkhAE19RZreKSECA0Ae50pJIQOxBvgvumkhAWbN0XgmjSEDFJCuxJKtIQDGW4QNAs0hAngeYVlu7SEAJeU6pdsNIQHbqBPyRy0hA4lu7Tq3TSEBPzXGhyNtIQLs+KPTj40hAKLDeRv/rSECUIZWZGvRIQACTS+w1/EhAbQQCP1EESUDZdbiRbAxJQEbnbuSHFElAslglN6McSUAeytuJviRJQIo7ktzZLElA96xIL/U0SUBjHv+BED1JQNCPtdQrRUlAPAFsJ0dNSUCociJ6YlVJQBXk2Mx9XUlAgVWPH5llSUDuxkVytG1JQFo4/MTPdUlAx6myF+t9SUAyG2lqBoZJQJ+MH70hjklAC/7VDz2WSUB3b4xiWJ5JQOTgQrVzpklAUFL5B4+uSUC9w69aqrZJQCk1Zq3FvklAlqYcAOHGSUACGNNS/M5JQG+JiaUX10lA2/o/+DLfSUBIbPZKTudJQLPdrJ1p70lAH09j8IT3SUCMwBlDoP9JQPgx0JW7B0pAZaOG6NYPSkDRFD078hdKQD6G840NIEpAqvep4CgoSkAXaWAzRDBKQIPaFoZfOEpA8EvN2HpASkBcvYMrlkhKQMcuOn6xUEpANKDw0MxYSkCgEacj6GBKQA2DXXYDaUpAefQTyR5xSkDmZcobOnlKQFLXgG5VgUpAv0g3wXCJSkAruu0TjJFKQJgrpGanmUpABJ1aucKhSkBwDhEM3qlKQNx/x175sUpASPF9sRS6SkC1YjQEMMJKQCHU6lZLykpAjkWhqWbSSkD6tlf8gdpKQGcoDk+d4kpA05nEobjqSkA/C3v00/JKQKx8MUfv+kpAGO7nmQoDS0CFX57sJQtLQPHQVD9BE0tAXUILklwbS0DJs8HkdyNLQDYleDeTK0tAopYuiq4zS0APCOXcyTtLQHt5my/lQ0tA5+pRggBMS0BUXAjVG1RLQMDNvic3XEtALT91elJkS0CZsCvNbWxLQAYi4h+JdEtAcZOYcqR8S0DeBE/Fv4RLQEp2BRjbjEtAt+e7avaUS0AjWXK9EZ1LQI/KKBAtpUtA/DvfYkitS0BorZW1Y7VLQNUeTAh/vUtAQZACW5rFS0CuAbmttc1LQBpzbwDR1UtAhuQlU+zdS0DyVdylB+ZLQF7Hkvgi7ktAyzhJSz72S0A3qv+dWf5LQKQbtvB0BkxAEI1sQ5AOTEB9/iKWqxZMQOlv2ejGHkxAVuGPO+ImTEDCUkaO/S5MQC/E/OAYN0xAmjWzMzQ/TEAGp2mGT0dMQHMYINlqT0xA34nWK4ZXTEBM+4x+oV9MQLhsQ9G8Z0xAJd75I9hvTECRT7B283dMQP7AZskOgExAajIdHCqITEDXo9NuRZBMQEMVisFgmExAr4ZAFHygTEAb+PZml6hMQIdprbmysExA9NpjDM64TEBgTBpf6cBMQM290LEEyUxAOS+HBCDRTECmoD1XO9lMQBIS9KlW4UxAfoOq/HHpTEDr9GBPjfFMQFdmF6Ko+UxAxNfN9MMBTUAvSYRH3wlNQJy6Opr6EU1ACCzx7BUaTUB1nac/MSJNQOEOXpJMKk1AToAU5WcyTUC68co3gzpNQCZjgYqeQk1Ak9Q33blKTUD/Re4v1VJNQGy3pILwWk1A2Chb1QtjTUBEmhEoJ2tNQLALyHpCc01AHX1+zV17TUCJ7jQgeYNNQPZf63KUi01AYtGhxa+TTUDOQlgYy5tNQDu0Dmvmo01ApyXFvQGsTUAUl3sQHbRNQIAIMmM4vE1A7XnotVPETUBZ654Ib8xNQMVcVVuK1E1AMc4LrqXcTUCdP8IAweRNQAqxeFPc7E1AdiIvpvf0TUDjk+X4Ev1NQE8FnEsuBU5AvHZSnkkNTkAo6AjxZBVOQJVZv0OAHU5AAct1lpslTkBuPCzpti1OQNmt4jvSNU5ARR+Zju09TkCykE/hCEZOQB4CBjQkTk5Ai3O8hj9WTkD35HLZWl5OQGRWKSx2Zk5A0MfffpFuTkA9OZbRrHZOQKmqTCTIfk5AFhwDd+OGTkCCjbnJ/o5OQO3+bxwal05AWnAmbzWfTkDG4dzBUKdOQDNTkxRsr05An8RJZ4e3TkAMNgC6or9OQHintgy+x05A5RhtX9nPTkBRiiOy9NdOQL772QQQ4E5AKm2QVyvoTkCW3kaqRvBOQANQ/fxh+E5AbsGzT30AT0DbMmqimAhPQEekIPWzEE9AtBXXR88YT0Agh42a6iBPQI34Q+0FKU9A+Wn6PyExT0Bl27CSPDlPQNJMZ+VXQU9APr4dOHNJT0CrL9SKjlFPQBehit2pWU9AgxJBMMVhT0Dvg/eC4GlPQFz1rdX7cU9AyGZkKBd6T0A12Bp7MoJPQKFJ0c1Nik9ADbuHIGmST0B6LD5zhJpPQOad9MWfok9AUw+rGLuqT0C/gGFr1rJPQCzyF77xuk9Al2POEA3DT0AE1YRjKMtPQHBGO7ZD009A3LfxCF/bT0BJKahbeuNPQLWaXq6V609AIgwVAbHzT0COfctTzPtPQH33QNPzAVBANDCcfAEGUEDqaPclDwpQQKChUs8cDlBAVtqteCoSUEAMEwkiOBZQQMJLZMtFGlBAeIS/dFMeUEAvvRoeYSJQQOX1dcduJlBAmy7RcHwqUEBRZywaii5QQAigh8OXMlBAvtjibKU2UEB0ET4WszpQQCpKmb/APlBA4YL0aM5CUECWu08S3EZQQEz0qrvpSlBAAy0GZfdOUEC5ZWEOBVNQQG+evLcSV1BAJdcXYSBbUEDcD3MKLl9QQJJIzrM7Y1BASIEpXUlnUED+uYQGV2tQQLTy369kb1BAays7WXJzUEAgZJYCgHdQQNec8auNe1BAjdVMVZt/UEBDDqj+qINQQPlGA6i2h1BAsH9eUcSLUEBmuLn60Y9QQBzxFKTfk1BA0ilwTe2XUECIYsv2+ptQQD+bJqAIoFBA9dOBSRakUECrDN3yI6hQQGFFOJwxrFBAF36TRT+wUEDNtu7uTLRQQITvSZhauFBAOiilQWi8UEDwYADrdcBQQKaZW5SDxFBA",
          "dtype": "f8"
         },
         "xaxis": "x2",
         "y": {
          "bdata": "AAAAgJmHPEAAAACAl7E+QAAAAIC6SjxAAAAAAJywO0AAAAAAIRs9QAAAAAA9ID1AAAAAgHx6PUAAAAAADKs9QAAAAIAItzxAAAAAAOQbPEAAAACA6FA7QAAAAICX1jtAAAAAgGGHO0AAAAAAQBc8QAAAAIAlWDpAAAAAgJfwOkAAAACAhyg7QAAAAACKETtAAAAAgAKMPEAAAACAcio8QAAAAADMajlAAAAAACkEOkAAAAAA11Q5QAAAAACP8zlAAAAAAA1QOkAAAACAB/A7QAAAAAB2vjtAAAAAgGgHOkAAAAAAYk88QAAAAICVwztAAAAAACqTO0AAAACAnfU3QAAAAIDNpzpAAAAAgPoCO0AAAAAAmP06QAAAAACTUzhAAAAAgGlSOEAAAAAAUOAyQAAAAAC7zjFAAAAAAHuFLkAAAAAAOPAsQAAAAAD0tx1AAAAAAMIRE0AAAAAA6KEDQAAAAACwh+w/AAAAAMBGAsAAAAAAZA8KwAAAAADG5xvAAAAAABt9IcAAAAAArXUmwAAAAAAGEinAAAAAAPMlL8AAAACAP6UwwAAAAAD+nzDAAAAAADURMsAAAACAUqkywAAAAIDp2DLAAAAAgCJlM8AAAAAA420zwAAAAADYkzPAAAAAADFYM8AAAACAXG00wAAAAAB2yDPAAAAAAKNANMAAAACApB40wAAAAIDigTXAAAAAgPhONMAAAACAWho0wAAAAIBHmDTAAAAAABDjM8AAAAAAdMUzwAAAAAB4aDTAAAAAABwqNcAAAACAHS81wAAAAACgLTTAAAAAAA5BM8AAAAAAZyUywAAAAICEQzHAAAAAACHLMMAAAACA4N0wwAAAAACbuDDAAAAAgKY7MMAAAACAGI0wwAAAAIBHNTHAAAAAgCGaMsAAAACAMmgxwAAAAACXYy/AAAAAAF38L8AAAAAAa2IqwAAAAABXkyvAAAAAAOL9K8AAAACAA7cwwAAAAACq8CvAAAAAAG4CMcAAAAAA3boowAAAAACYsCnAAAAAAEXVJ8AAAAAAmnApwAAAAADoJijAAAAAANl6KcAAAAAAupQnwAAAAADFvCjAAAAAAJFqJsAAAAAALOwmwAAAAAClzCbAAAAAAEQkKcAAAAAAQYIowAAAAAD3lCjAAAAAAB4fLcAAAAAAxygtwAAAAAD3Bi3AAAAAAEALK8AAAAAADFAtwAAAAADrCS3AAAAAgJhyMMAAAAAABLMvwAAAAACoyS7AAAAAAJAvLsAAAAAAgxQwwAAAAACYsTDAAAAAAKvML8AAAAAAAQUwwAAAAADx3i7AAAAAANFLMMAAAAAAcgIwwAAAAADRKC/AAAAAAL2AL8AAAAAAZbUvwAAAAABGGy/AAAAAAE0EL8AAAACAySIwwAAAAADOLS/AAAAAAOagL8AAAAAAPHwuwAAAAAAwrC7AAAAAAHf2L8AAAAAAPv8twAAAAAD2fSzAAAAAAPL4LMAAAAAA1R0uwAAAAAB3Di7AAAAAABerLcAAAAAAJMUtwAAAAACIgy7AAAAAAL5ALsAAAAAABMkuwAAAAACY9SvAAAAAACv/LsAAAAAAz3YuwAAAAAAfKC7AAAAAAMA0LsAAAAAAHOEswAAAAADMjyrAAAAAAAbGLMAAAAAAlH0qwAAAAACy4SrAAAAAAKIjK8AAAAAAirIrwAAAAABihSzAAAAAACAEKsAAAAAAS2QpwAAAAADIiCfAAAAAAE0KKcAAAAAAP3cnwAAAAABpNifAAAAAAFP5J8AAAAAAJLolwAAAAADyoSPAAAAAACNVI8AAAAAA3RkkwAAAAAAeRCTAAAAAAEIKJsAAAAAAeGkkwAAAAAC6yiPAAAAAAPANI8AAAAAAcsogwAAAAAC/7SPAAAAAAMfXJcAAAAAAPHciwAAAAAAYYyTAAAAAAHqKJMAAAAAAWZglwAAAAADNryTAAAAAAPpVIsAAAAAAK64jwAAAAAD0AiPAAAAAAGcoJsAAAAAAxPsgwAAAAADVpiLAAAAAAJncIsAAAAAAFMgewAAAAADqHSDAAAAAAO45HMAAAAAAfAAfwAAAAAA3ByDAAAAAADr2G8AAAAAANH4dwAAAAADk0x7AAAAAAObnFsAAAAAAIDEawAAAAABCNhjAAAAAAGKtGMAAAAAAzmUXwAAAAACC3hXAAAAAAMZ4FsAAAAAAMiEWwAAAAAA8mRbAAAAAAN7VFsAAAAAAuK8WwAAAAAAShRfAAAAAAMomGMAAAAAA2gEbwAAAAAA6KBnAAAAAAMjRGMAAAAAAsuMcwAAAAADiqxXAAAAAAN73GsAAAAAAhBwawAAAAACqcxHAAAAAAKo5EsAAAAAA5pUTwAAAAADgWg3AAAAAACyCDcAAAAAAAJoRwAAAAAA8ywnAAAAAAJAxB8AAAAAAuGX7vwAAAAAEkgXAAAAAAAi3+r8AAAAAAPT6vwAAAADokvS/AAAAALjg/L8AAAAAUJQBwAAAAADQqv2/AAAAAKjM+78AAAAAKNDzvwAAAABAAfW/AAAAAGB44r8AAAAAIDrRvwAAAACgTOW/AAAAAABEgD8AAAAAQMbFvwAAAADAmOO/AAAAAGBT078AAAAAOPT+PwAAAAAgo9A/AAAAAFD27T8AAAAAwGvCPwAAAAAAPIo/AAAAAADutj8AAAAAcJblPwAAAABgPNM/AAAAAMDe4j8AAAAAmIP3PwAAAACI4PA/AAAAAOCg6z8AAAAAUL75PwAAAACQ8fw/AAAAAHBV/T8AAAAAWKD9PwAAAADgA/g/AAAAAPBj8z8AAAAAMCH5PwAAAAC4bf0/AAAAAFj/+T8AAAAAoIf6PwAAAABo7Ps/AAAAACTvBEAAAAAAODcFQAAAAACkBQVAAAAAAByNCkAAAAAAOCAFQAAAAACQRwhAAAAAAGAs/z8AAAAAAKwBQAAAAACc+wVAAAAAALDRDEAAAAAA6MAQQAAAAAD0zQxAAAAAADaPEEAAAAAAGHEPQAAAAACWMhFAAAAAAHxmDkAAAAAAAAwMQAAAAADU7Q5AAAAAAOJREUAAAAAALhITQAAAAAAIef8/AAAAABTREUAAAAAA4jgRQAAAAACE5hBAAAAAADDDFEAAAAAAwBQKQAAAAACgmQVAAAAAACwOD0AAAAAAWqASQAAAAADcNARAAAAAALDaFEAAAAAA8BITQAAAAACksw9AAAAAAOQ4GUAAAAAAzMkVQAAAAAAigRhAAAAAADDOGEAAAAAAniYRQAAAAAD4TRFAAAAAACTgE0AAAAAA5OsRQAAAAADyhhNAAAAAADBkE0AAAAAA2o4cQAAAAADknRZAAAAAABh8E0AAAAAAvsASQAAAAADmhRNAAAAAAEKiEkAAAAAA3IUUQAAAAADm6BJAAAAAAGrXEkAAAAAAxgkTQAAAAAD+FhRAAAAAABBxFUAAAAAAKiIUQAAAAADqERVAAAAAAFDbFUAAAAAAqFMWQAAAAACs1RZAAAAAAJ6EFkAAAAAAgqYbQAAAAAA4eRhAAAAAACp1GEAAAAAAymQYQAAAAAAKzRZAAAAAAIT2F0AAAAAAJvMZQAAAAADEshlAAAAAAPSsGEAAAAAADoEYQAAAAAAWExdAAAAAAAQXGEAAAAAAEl4YQAAAAACi1BhAAAAAABDwF0AAAAAAktUYQAAAAACktxpAAAAAAIzRFUAAAAAA1tcXQAAAAABksxhAAAAAAKTXGEAAAAAAMKoZQAAAAACgmBpAAAAAAJTOGEAAAAAAUOMWQAAAAAAuexhAAAAAALx/G0AAAAAA3DwdQAAAAAAuVBpAAAAAAIKEHEAAAAAABkscQAAAAABcixxAAAAAAPj3G0AAAAAAmp4eQAAAAABqaR9AAAAAAFQoH0AAAAAANGkdQAAAAACb6yBAAAAAAJYbIkAAAAAA1AYhQAAAAAAh5yBAAAAAAPcxIUAAAAAAansgQAAAAACDbiJAAAAAADgvI0AAAAAAiuMjQAAAAACUUyNAAAAAADbeJEAAAAAABaEkQAAAAAASYSRAAAAAAN+sJEAAAAAA1hElQAAAAACa4SNAAAAAAGjPJEAAAAAAOQYjQAAAAACFViJAAAAAAAKfH0AAAAAACD8ZQAAAAADaOhxAAAAAAObGGUAAAAAArKEVQAAAAAAysBRAAAAAANwnFUAAAAAA1vwQQAAAAAC2BBFAAAAAAMQzEUAAAAAA/KAPQAAAAABMYBFAAAAAAKxFEUAAAAAA6ssSQAAAAADsghBAAAAAAEpbEEAAAAAA9FMNQAAAAADWPBFAAAAAADiHDkAAAAAAMDMbQAAAAAD0ChRAAAAAAGDxFEAAAAAA1t0QQAAAAAD6ahBAAAAAADKUEEAAAAAA8n0RQAAAAACQKRJAAAAAAOgJFEAAAAAAPjAYQAAAAACkQRNAAAAAAJqjE0AAAAAAUo0SQAAAAAB2FRRAAAAAALaBE0AAAAAA8N0RQAAAAAAakhFAAAAAALL8E0AAAAAA1EAXQAAAAACUARVAAAAAAFbZGkAAAAAA/nsXQAAAAACOABdAAAAAAEhuFEAAAAAA7vYdQAAAAAA8+xlAAAAAABINF0AAAAAAOMwYQAAAAACIHhhAAAAAAOzsGkAAAAAALtAaQAAAAABOnBpAAAAAAF4+GEAAAAAA/gQbQAAAAADSvBxAAAAAAILvHUAAAAAA+FAdQAAAAABKqx5AAAAAAPLeH0AAAAAAdsgfQAAAAAB+GB1AAAAAAGLNHkAAAAAAmj8fQAAAAAA4zB9AAAAAABIyH0AAAAAARtgfQAAAAAA3ZiBAAAAAAKIZIkAAAAAAi3UhQAAAAAA3FyFAAAAAANLwIEAAAAAAL2YhQAAAAAA9RSBAAAAAAGQtIEAAAAAAgDsfQAAAAACokB5AAAAAAFgzHUAAAAAAiNAdQAAAAAAkxB1AAAAAANbSG0AAAAAAgKobQAAAAAB8RxlAAAAAABgdGUAAAAAACoUZQAAAAAA4dxxAAAAAAOL9GUAAAAAA1scdQAAAAABm5xxAAAAAAObxHUAAAAAARtAcQAAAAACexx1AAAAAAP79GkAAAAAAGEwfQAAAAAC26RtAAAAAAE8DIEAAAAAA3ScgQAAAAAD27B5AAAAAANVyIEAAAAAAqIwdQAAAAABuTBxAAAAAAHhcG0AAAAAASFP1PwAAAACILR1AAAAAAGKvHUAAAAAACUohQAAAAAB2YCBAAAAAAP8xIEAAAAAAvWshQAAAAABAdCJAAAAAABz2H0AAAAAAYychQAAAAACTnCFAAAAAAFN9IEAAAAAAZGQhQAAAAABRvyBAAAAAALKMI0AAAAAAEHclQAAAAAAtaSVAAAAAABTsGkAAAAAAV9siQAAAAACeRyJAAAAAAD0FIEAAAAAAmjAgQAAAAAApWyJAAAAAAPOeIEAAAAAAeWwhQAAAAACP4CNAAAAAAH9vJUAAAAAAh4ojQAAAAACtvyNAAAAAACAGJEAAAAAARl0jQAAAAACDIiVAAAAAAARHJUAAAAAAB24kQAAAAABGFxpAAAAAAHWFIEAAAAAAGMEhQAAAAADDgSNAAAAAAPF6IEAAAAAARHklQAAAAACyDiVAAAAAANhBHUAAAAAASAYhQAAAAAAneCFAAAAAACq3H0AAAAAAiBYgQAAAAACssx9AAAAAAOIJHUAAAAAA6KYeQAAAAABApBtAAAAAACzFGkAAAAAAXOsVQAAAAACgvRlAAAAAADqHF0AAAAAAyrsUQAAAAADqEhlAAAAAAAI9GUAAAAAA+uEcQAAAAADg6BRAAAAAAJDbFUAAAAAAPhYVQAAAAADmbBVAAAAAAFDSFEAAAAAAFnUSQAAAAABOdhBAAAAAACAdEkAAAAAAoNAQQAAAAAD4hxNAAAAAAExwF0AAAAAA+PgUQAAAAADwmhZAAAAAAEIPF0AAAAAALIUTQAAAAACGsxZAAAAAAOryFUAAAAAAvFsTQAAAAAC8KQ5AAAAAABQ1EUAAAAAAOKELQAAAAABikBFAAAAAAI57E0AAAAAA4LwTQAAAAAAcBRBAAAAAAAKcFEAAAAAAuAgNQAAAAAByixFAAAAAAKzcB0AAAAAA0JABQAAAAAAgIQVAAAAAAISBCEAAAAAAyMAEQAAAAABwAgJAAAAAAHSkBkAAAAAAdFcDQAAAAAAYGgJAAAAAAAjBAEAAAAAAAIj5PwAAAAC40QJAAAAAAIBi/z8AAAAA8LMDQAAAAABgQwRAAAAAACAgC0AAAAAAfJcJQAAAAABSwRBAAAAAAECTCkAAAAAA9LALQAAAAACkiAhAAAAAAJTdDEAAAAAAnMMPQAAAAADC5xNAAAAAAKa4EkAAAAAAogESQAAAAACgdBRAAAAAAN65GUAAAAAAPHIUQAAAAAB+FxhAAAAAABh/FEAAAAAAKB0VQAAAAABIKBhAAAAAALqRGEAAAAAAeCMYQAAAAAC8qRtAAAAAABaEGkAAAAAAUZ0iQAAAAACiyiBAAAAAAKA4IkAAAAAAX/wgQAAAAAC6aiFAAAAAAMdOIUAAAAAADtIiQAAAAADSGCNAAAAAABfrIUAAAAAA4YkkQAAAAABytyBAAAAAAInRIEAAAAAADuQhQAAAAADE5iJAAAAAAD8IIUAAAAAA150kQAAAAAB/hSBAAAAAAKZeIEAAAAAA580gQAAAAAA9SiBAAAAAACnpIEAAAAAAQeoiQAAAAABqzRxAAAAAAMcdIEAAAAAAfBogQAAAAABC9iFAAAAAAJczIkAAAAAAxf0hQAAAAACW1CJAAAAAAGWoIEAAAAAAoyciQAAAAAAnRiFAAAAAAEOQI0AAAAAAL/AhQAAAAAAnDSNAAAAAAALxIkAAAAAA2xQiQAAAAAB9WiNAAAAAAO8MJEAAAAAAHbcjQAAAAADmmyRAAAAAAG6cI0AAAAAAjWIkQAAAAABY2iRAAAAAAOyDI0AAAAAAjsUkQAAAAABbUyhAAAAAAIV2JkAAAAAAWrQlQAAAAAApVihAAAAAANXRJ0AAAAAABVUlQAAAAAAq8iRAAAAAAJTSLUAAAAAAQwQqQAAAAACg+ihAAAAAAMZ5KUAAAAAAhGkoQAAAAAApfy9AAAAAADmtLkAAAAAA+KwuQAAAAAA0bC1AAAAAACAgLkAAAAAABA4rQAAAAADb0ydAAAAAAOD/K0AAAAAA0/UrQAAAAADQoyxAAAAAAJLmLEAAAAAAFB4sQAAAAAA42ShAAAAAALFnKUAAAAAA4ygpQAAAAABPqCpAAAAAADmXK0AAAAAADxEqQAAAAACynipAAAAAAExlKkAAAAAAq1IsQAAAAABCzClAAAAAAMbvKUAAAAAADlUqQAAAAAAzHyZAAAAAAPlxKEAAAAAAWZsqQAAAAAAEaylAAAAAACy9KEAAAAAAM60pQAAAAADZPypAAAAAAE62K0AAAAAAx3ktQAAAAACYKiRAAAAAAN+HJUAAAAAAbwsnQAAAAADpQSNAAAAAAKtiKkAAAAAANPQmQAAAAAD2mSVAAAAAADEsJkAAAAAAPqgoQAAAAABG2SdAAAAAAHBJJ0AAAAAA2FUmQAAAAACuMiZAAAAAALKdJEAAAAAA8uokQAAAAADRGihAAAAAAGdPJ0AAAAAA4jocQAAAAAAX7CFAAAAAAFRqH0AAAAAA0ZwiQAAAAACP8yRAAAAAAGNFIkAAAAAAySkkQAAAAADLQSZAAAAAAK+qI0AAAAAABwUmQAAAAAD5nyNAAAAAAOY6JEAAAAAAWBMmQAAAAAB8OSZAAAAAALC0JUAAAAAA+wQoQAAAAADrbSZAAAAAAHNQJ0AAAAAAYKMqQAAAAAC26yZAAAAAAGimKEAAAAAAsWkpQAAAAAC/yyhAAAAAABxmLEAAAAAAfLYlQAAAAAC40SlAAAAAAG8OLUAAAAAAqJAoQAAAAABp9ilAAAAAACq3J0AAAAAAKWUlQAAAAAC5giRAAAAAAFeUKUAAAAAAmXMpQAAAAAB1BSlAAAAAAPe5I0AAAAAACMUkQAAAAAD/ZydAAAAAALBPJkAAAAAAdDMoQAAAAADr7CVAAAAAAKJnJEAAAAAAHMwqQAAAAACK/iRAAAAAAOW0I0AAAAAAcU4mQAAAAABC9yVAAAAAAOzrJEAAAAAA/wojQAAAAAA0WyBAAAAAAMEDKUAAAAAAP3AnQAAAAABf3CVAAAAAAMWxI0AAAAAAWngoQAAAAAB7WChAAAAAANvfKUAAAAAAV3EmQAAAAABDkiVAAAAAAFfOJUAAAAAAQJcmQAAAAADK0iZAAAAAAId5IkAAAAAAKB8jQAAAAABmOSJAAAAAAHosJUAAAAAAylcpQAAAAABo0idAAAAAAC0GJ0AAAAAA9zMpQAAAAADSgy5AAAAAAJj2LkAAAAAA58EuQAAAAADqcC1AAAAAAK20LEAAAAAAuMovQAAAAICTjTBAAAAAAOzoLUAAAAAA+1gvQAAAAIBkgTBAAAAAAA5rMUAAAACAdUowQAAAAADumSdAAAAAgK1iMUAAAAAAX+kwQAAAAABk+y9AAAAAAEqtMUAAAACAfIwxQAAAAAAUdDNAAAAAAOD7M0AAAAAAJmQzQAAAAAB2ejdAAAAAAO3kNkAAAAAAI4MuQAAAAIAGoTVAAAAAgD02N0AAAAAAVtcuQAAAAAA4+DRAAAAAgA4JNUAAAAAAoAEtQAAAAICwejNAAAAAAOhFK0AAAACAbHk1QAAAAABP1zZAAAAAAPgENkAAAAAAbnk3QAAAAIClFDFAAAAAgNkYN0AAAAAA3eg2QAAAAACZ0DVAAAAAgA9wOEAAAAAAWeg2QAAAAADqbTZAAAAAABJGNkAAAACAAyo1QAAAAADsaDNAAAAAgC/SNkAAAACAt4o2QAAAAIAD5zVAAAAAgPieNkAAAACA0Ik3QAAAAICG0TRAAAAAgEgJNEAAAAAADws1QAAAAAD3RjVAAAAAgClMNEAAAAAAbuY1QAAAAAAUTDdAAAAAgB/2NUAAAAAALpQ4QAAAAIAC2TZAAAAAAD5iOUAAAACADpg6QAAAAID/DzhAAAAAADu7N0AAAAAA+408QAAAAIDJljlAAAAAgGFYOEAAAAAAUac2QAAAAADmhDZAAAAAAPQ2OkAAAAAAejw5QAAAAICWqzVAAAAAgBtnM0AAAAAAzGo6QAAAAIC5vjlAAAAAAJ32PkAAAACAOrg/QAAAAACe5ztAAAAAAPsHPEAAAAAA6oA9QAAAAACXpDtAAAAAgGk4OkAAAACAlH44QAAAAADLOTpAAAAAgJGwNUAAAAAAeAE8QAAAAAD1LzxAAAAAgBD7PUAAAACAkAI8QAAAAAD8ITJAAAAAACGTN0AAAAAAhG46QAAAAABsuzZAAAAAALnSN0AAAACAD6Q6QAAAAAAKjT9AAAAAwD58QUAAAAAA6vo4QAAAAAD37z9AAAAAgIoUQEAAAAAAQ0I8QAAAAIBGoTdAAAAAgL6CN0AAAAAAfd03QAAAAADmczxAAAAAgMMkQEAAAACAk0w9QAAAAABCKj1AAAAAACgrO0AAAAAAot04QAAAAACCJT1AAAAAALpwNUAAAAAA10s8QAAAAIA1cTpAAAAAgBMpPkAAAAAAR0Y4QAAAAICZDj9AAAAAgH7iN0AAAAAAkQE9QAAAAIBJK0FAAAAAAJyhP0AAAAAA7TBCQAAAAACGEkJAAAAAgFwZP0AAAABAhcNCQAAAAAA/5ENAAAAAAD/nQUAAAABAouFCQAAAAMChwEJAAAAAAPP4QUAAAACAnvVBQAAAAEAuk0JAAAAAwAXDQUAAAACAmJJCQAAAAMCUnUJAAAAAgPduQkAAAACAWnRCQAAAAIDUFENAAAAAQHksQkAAAACAM4VDQAAAAABfyERAAAAAgMbUREAAAACAcTdDQAAAAECBUkJAAAAAALeqREAAAACAqbNFQAAAAABzC0VAAAAAABiaRkAAAACAyhJHQAAAAID6s0RAAAAAgLrdRUAAAACASCBHQAAAAIDq2UZAAAAAACdqRUAAAAAATk5KQAAAAAAhN0VAAAAAAON7QUAAAACA775DQAAAAIClTUVAAAAAgPSsREAAAAAAoGpDQAAAAADbeUNAAAAAAOZcQ0AAAACAdcNCQAAAAIC29kFAAAAAwDmQQEAAAABAI05BQAAAAEBcE0FAAAAAwDqKQUAAAAAAGvo6QAAAAIACAkFAAAAAgOd4OEAAAACAxTExQAAAAIDGRkJAAAAAgOjxOEAAAACAwLs5QAAAAIAzCz1AAAAAADmnOUAAAACAomAyQAAAAACfnT5AAAAAgL2KOEAAAACArxM7QAAAAADFDCpAAAAAAPoTOkAAAAAA7Kg6QAAAAACSYj5AAAAAgJrUPUAAAACAhEI9QAAAAIDjmT9AAAAAAFpBQEAAAAAARdI5QAAAAAD4Fj5AAAAAgOzfQEAAAABAJKFCQAAAAAACTj9AAAAAAEBiJ0AAAACA1sc8QAAAAAD+BjdAAAAAgHYsNEAAAAAAAIwawAAAAAC1Bi1AAAAAAACAVsAAAAAAetcyQAAAAACAlyxAAAAAAHvzN0AAAAAAmjsuQAAAAACy+z5AAAAAAHjENEAAAAAAVdgmwAAAAIBy5T1AAAAAAEAQz78AAAAAAIBWwAAAAIAmVDJAAAAAAFoGP0AAAAAAAIBWwAAAAAB1NzVAAAAAgKpIM0AAAACAlZE+QAAAAAAs8EJAAAAAgPO1QEAAAACAzyk/QAAAAMBQoEJAAAAAAEaQOUAAAACAtnQyQAAAAAAAgFbAAAAAgFxVPkAAAAAA+5BAQAAAAEDgpUFAAAAAgI/MPEAAAAAABwE+QAAAAMDon0JAAAAAABtIQ0AAAACAuytEQAAAAICMwkRAAAAAwJZ8QUAAAACAUbdBQAAAAMA800BAAAAAAK1nPkAAAADAwRNCQAAAAAACDURAAAAAAHi6PEAAAAAAa44/QAAAAADQNj5AAAAAADQdQ0AAAABA39tAQAAAAABMCD1AAAAAwP4cQEAAAAAABAM3QAAAAIDflT1AAAAAwKHbQEAAAADA4MdAQAAAAAC0sT9AAAAAQN3GQEAAAABAlYNBQAAAAIAAykJAAAAAAEeXOUAAAACAaTM4QAAAAACgQDVAAAAAgFrlNkAAAAAA35MyQAAAAABjUzRAAAAAgHokNUAAAACAB0Q2QAAAAICrdTxAAAAAgIqpO0AAAAAAooo/QAAAAIAQSDxAAAAAAHt4PkAAAACA5mg1QAAAAAB8Az9AAAAAQKEWQUAAAABAXEJBQAAAAIAvkjxA",
          "dtype": "f8"
         },
         "yaxis": "y2"
        },
        {
         "line": {
          "color": "green",
          "width": 3
         },
         "mode": "lines",
         "name": "DVL Pitch",
         "type": "scatter",
         "x": {
          "bdata": "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",
          "dtype": "f8"
         },
         "xaxis": "x2",
         "y": {
          "bdata": "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",
          "dtype": "f8"
         },
         "yaxis": "y2"
        }
       ],
       "layout": {
        "annotations": [
         {
          "font": {
           "size": 16
          },
          "showarrow": false,
          "text": "Distance Comparison",
          "x": 0.5,
          "xanchor": "center",
          "xref": "paper",
          "y": 1,
          "yanchor": "bottom",
          "yref": "paper"
         },
         {
          "font": {
           "size": 16
          },
          "showarrow": false,
          "text": "Pitch Comparison",
          "x": 0.5,
          "xanchor": "center",
          "xref": "paper",
          "y": 0.375,
          "yanchor": "bottom",
          "yref": "paper"
         }
        ],
        "height": 800,
        "hovermode": "x unified",
        "template": {
         "data": {
          "bar": [
           {
            "error_x": {
             "color": "#2a3f5f"
            },
            "error_y": {
             "color": "#2a3f5f"
            },
            "marker": {
             "line": {
              "color": "#E5ECF6",
              "width": 0.5
             },
             "pattern": {
              "fillmode": "overlay",
              "size": 10,
              "solidity": 0.2
             }
            },
            "type": "bar"
           }
          ],
          "barpolar": [
           {
            "marker": {
             "line": {
              "color": "#E5ECF6",
              "width": 0.5
             },
             "pattern": {
              "fillmode": "overlay",
              "size": 10,
              "solidity": 0.2
             }
            },
            "type": "barpolar"
           }
          ],
          "carpet": [
           {
            "aaxis": {
             "endlinecolor": "#2a3f5f",
             "gridcolor": "white",
             "linecolor": "white",
             "minorgridcolor": "white",
             "startlinecolor": "#2a3f5f"
            },
            "baxis": {
             "endlinecolor": "#2a3f5f",
             "gridcolor": "white",
             "linecolor": "white",
             "minorgridcolor": "white",
             "startlinecolor": "#2a3f5f"
            },
            "type": "carpet"
           }
          ],
          "choropleth": [
           {
            "colorbar": {
             "outlinewidth": 0,
             "ticks": ""
            },
            "type": "choropleth"
           }
          ],
          "contour": [
           {
            "colorbar": {
             "outlinewidth": 0,
             "ticks": ""
            },
            "colorscale": [
             [
              0,
              "#0d0887"
             ],
             [
              0.1111111111111111,
              "#46039f"
             ],
             [
              0.2222222222222222,
              "#7201a8"
             ],
             [
              0.3333333333333333,
              "#9c179e"
             ],
             [
              0.4444444444444444,
              "#bd3786"
             ],
             [
              0.5555555555555556,
              "#d8576b"
             ],
             [
              0.6666666666666666,
              "#ed7953"
             ],
             [
              0.7777777777777778,
              "#fb9f3a"
             ],
             [
              0.8888888888888888,
              "#fdca26"
             ],
             [
              1,
              "#f0f921"
             ]
            ],
            "type": "contour"
           }
          ],
          "contourcarpet": [
           {
            "colorbar": {
             "outlinewidth": 0,
             "ticks": ""
            },
            "type": "contourcarpet"
           }
          ],
          "heatmap": [
           {
            "colorbar": {
             "outlinewidth": 0,
             "ticks": ""
            },
            "colorscale": [
             [
              0,
              "#0d0887"
             ],
             [
              0.1111111111111111,
              "#46039f"
             ],
             [
              0.2222222222222222,
              "#7201a8"
             ],
             [
              0.3333333333333333,
              "#9c179e"
             ],
             [
              0.4444444444444444,
              "#bd3786"
             ],
             [
              0.5555555555555556,
              "#d8576b"
             ],
             [
              0.6666666666666666,
              "#ed7953"
             ],
             [
              0.7777777777777778,
              "#fb9f3a"
             ],
             [
              0.8888888888888888,
              "#fdca26"
             ],
             [
              1,
              "#f0f921"
             ]
            ],
            "type": "heatmap"
           }
          ],
          "histogram": [
           {
            "marker": {
             "pattern": {
              "fillmode": "overlay",
              "size": 10,
              "solidity": 0.2
             }
            },
            "type": "histogram"
           }
          ],
          "histogram2d": [
           {
            "colorbar": {
             "outlinewidth": 0,
             "ticks": ""
            },
            "colorscale": [
             [
              0,
              "#0d0887"
             ],
             [
              0.1111111111111111,
              "#46039f"
             ],
             [
              0.2222222222222222,
              "#7201a8"
             ],
             [
              0.3333333333333333,
              "#9c179e"
             ],
             [
              0.4444444444444444,
              "#bd3786"
             ],
             [
              0.5555555555555556,
              "#d8576b"
             ],
             [
              0.6666666666666666,
              "#ed7953"
             ],
             [
              0.7777777777777778,
              "#fb9f3a"
             ],
             [
              0.8888888888888888,
              "#fdca26"
             ],
             [
              1,
              "#f0f921"
             ]
            ],
            "type": "histogram2d"
           }
          ],
          "histogram2dcontour": [
           {
            "colorbar": {
             "outlinewidth": 0,
             "ticks": ""
            },
            "colorscale": [
             [
              0,
              "#0d0887"
             ],
             [
              0.1111111111111111,
              "#46039f"
             ],
             [
              0.2222222222222222,
              "#7201a8"
             ],
             [
              0.3333333333333333,
              "#9c179e"
             ],
             [
              0.4444444444444444,
              "#bd3786"
             ],
             [
              0.5555555555555556,
              "#d8576b"
             ],
             [
              0.6666666666666666,
              "#ed7953"
             ],
             [
              0.7777777777777778,
              "#fb9f3a"
             ],
             [
              0.8888888888888888,
              "#fdca26"
             ],
             [
              1,
              "#f0f921"
             ]
            ],
            "type": "histogram2dcontour"
           }
          ],
          "mesh3d": [
           {
            "colorbar": {
             "outlinewidth": 0,
             "ticks": ""
            },
            "type": "mesh3d"
           }
          ],
          "parcoords": [
           {
            "line": {
             "colorbar": {
              "outlinewidth": 0,
              "ticks": ""
             }
            },
            "type": "parcoords"
           }
          ],
          "pie": [
           {
            "automargin": true,
            "type": "pie"
           }
          ],
          "scatter": [
           {
            "fillpattern": {
             "fillmode": "overlay",
             "size": 10,
             "solidity": 0.2
            },
            "type": "scatter"
           }
          ],
          "scatter3d": [
           {
            "line": {
             "colorbar": {
              "outlinewidth": 0,
              "ticks": ""
             }
            },
            "marker": {
             "colorbar": {
              "outlinewidth": 0,
              "ticks": ""
             }
            },
            "type": "scatter3d"
           }
          ],
          "scattercarpet": [
           {
            "marker": {
             "colorbar": {
              "outlinewidth": 0,
              "ticks": ""
             }
            },
            "type": "scattercarpet"
           }
          ],
          "scattergeo": [
           {
            "marker": {
             "colorbar": {
              "outlinewidth": 0,
              "ticks": ""
             }
            },
            "type": "scattergeo"
           }
          ],
          "scattergl": [
           {
            "marker": {
             "colorbar": {
              "outlinewidth": 0,
              "ticks": ""
             }
            },
            "type": "scattergl"
           }
          ],
          "scattermap": [
           {
            "marker": {
             "colorbar": {
              "outlinewidth": 0,
              "ticks": ""
             }
            },
            "type": "scattermap"
           }
          ],
          "scattermapbox": [
           {
            "marker": {
             "colorbar": {
              "outlinewidth": 0,
              "ticks": ""
             }
            },
            "type": "scattermapbox"
           }
          ],
          "scatterpolar": [
           {
            "marker": {
             "colorbar": {
              "outlinewidth": 0,
              "ticks": ""
             }
            },
            "type": "scatterpolar"
           }
          ],
          "scatterpolargl": [
           {
            "marker": {
             "colorbar": {
              "outlinewidth": 0,
              "ticks": ""
             }
            },
            "type": "scatterpolargl"
           }
          ],
          "scatterternary": [
           {
            "marker": {
             "colorbar": {
              "outlinewidth": 0,
              "ticks": ""
             }
            },
            "type": "scatterternary"
           }
          ],
          "surface": [
           {
            "colorbar": {
             "outlinewidth": 0,
             "ticks": ""
            },
            "colorscale": [
             [
              0,
              "#0d0887"
             ],
             [
              0.1111111111111111,
              "#46039f"
             ],
             [
              0.2222222222222222,
              "#7201a8"
             ],
             [
              0.3333333333333333,
              "#9c179e"
             ],
             [
              0.4444444444444444,
              "#bd3786"
             ],
             [
              0.5555555555555556,
              "#d8576b"
             ],
             [
              0.6666666666666666,
              "#ed7953"
             ],
             [
              0.7777777777777778,
              "#fb9f3a"
             ],
             [
              0.8888888888888888,
              "#fdca26"
             ],
             [
              1,
              "#f0f921"
             ]
            ],
            "type": "surface"
           }
          ],
          "table": [
           {
            "cells": {
             "fill": {
              "color": "#EBF0F8"
             },
             "line": {
              "color": "white"
             }
            },
            "header": {
             "fill": {
              "color": "#C8D4E3"
             },
             "line": {
              "color": "white"
             }
            },
            "type": "table"
           }
          ]
         },
         "layout": {
          "annotationdefaults": {
           "arrowcolor": "#2a3f5f",
           "arrowhead": 0,
           "arrowwidth": 1
          },
          "autotypenumbers": "strict",
          "coloraxis": {
           "colorbar": {
            "outlinewidth": 0,
            "ticks": ""
           }
          },
          "colorscale": {
           "diverging": [
            [
             0,
             "#8e0152"
            ],
            [
             0.1,
             "#c51b7d"
            ],
            [
             0.2,
             "#de77ae"
            ],
            [
             0.3,
             "#f1b6da"
            ],
            [
             0.4,
             "#fde0ef"
            ],
            [
             0.5,
             "#f7f7f7"
            ],
            [
             0.6,
             "#e6f5d0"
            ],
            [
             0.7,
             "#b8e186"
            ],
            [
             0.8,
             "#7fbc41"
            ],
            [
             0.9,
             "#4d9221"
            ],
            [
             1,
             "#276419"
            ]
           ],
           "sequential": [
            [
             0,
             "#0d0887"
            ],
            [
             0.1111111111111111,
             "#46039f"
            ],
            [
             0.2222222222222222,
             "#7201a8"
            ],
            [
             0.3333333333333333,
             "#9c179e"
            ],
            [
             0.4444444444444444,
             "#bd3786"
            ],
            [
             0.5555555555555556,
             "#d8576b"
            ],
            [
             0.6666666666666666,
             "#ed7953"
            ],
            [
             0.7777777777777778,
             "#fb9f3a"
            ],
            [
             0.8888888888888888,
             "#fdca26"
            ],
            [
             1,
             "#f0f921"
            ]
           ],
           "sequentialminus": [
            [
             0,
             "#0d0887"
            ],
            [
             0.1111111111111111,
             "#46039f"
            ],
            [
             0.2222222222222222,
             "#7201a8"
            ],
            [
             0.3333333333333333,
             "#9c179e"
            ],
            [
             0.4444444444444444,
             "#bd3786"
            ],
            [
             0.5555555555555556,
             "#d8576b"
            ],
            [
             0.6666666666666666,
             "#ed7953"
            ],
            [
             0.7777777777777778,
             "#fb9f3a"
            ],
            [
             0.8888888888888888,
             "#fdca26"
            ],
            [
             1,
             "#f0f921"
            ]
           ]
          },
          "colorway": [
           "#636efa",
           "#EF553B",
           "#00cc96",
           "#ab63fa",
           "#FFA15A",
           "#19d3f3",
           "#FF6692",
           "#B6E880",
           "#FF97FF",
           "#FECB52"
          ],
          "font": {
           "color": "#2a3f5f"
          },
          "geo": {
           "bgcolor": "white",
           "lakecolor": "white",
           "landcolor": "#E5ECF6",
           "showlakes": true,
           "showland": true,
           "subunitcolor": "white"
          },
          "hoverlabel": {
           "align": "left"
          },
          "hovermode": "closest",
          "mapbox": {
           "style": "light"
          },
          "paper_bgcolor": "white",
          "plot_bgcolor": "#E5ECF6",
          "polar": {
           "angularaxis": {
            "gridcolor": "white",
            "linecolor": "white",
            "ticks": ""
           },
           "bgcolor": "#E5ECF6",
           "radialaxis": {
            "gridcolor": "white",
            "linecolor": "white",
            "ticks": ""
           }
          },
          "scene": {
           "xaxis": {
            "backgroundcolor": "#E5ECF6",
            "gridcolor": "white",
            "gridwidth": 2,
            "linecolor": "white",
            "showbackground": true,
            "ticks": "",
            "zerolinecolor": "white"
           },
           "yaxis": {
            "backgroundcolor": "#E5ECF6",
            "gridcolor": "white",
            "gridwidth": 2,
            "linecolor": "white",
            "showbackground": true,
            "ticks": "",
            "zerolinecolor": "white"
           },
           "zaxis": {
            "backgroundcolor": "#E5ECF6",
            "gridcolor": "white",
            "gridwidth": 2,
            "linecolor": "white",
            "showbackground": true,
            "ticks": "",
            "zerolinecolor": "white"
           }
          },
          "shapedefaults": {
           "line": {
            "color": "#2a3f5f"
           }
          },
          "ternary": {
           "aaxis": {
            "gridcolor": "white",
            "linecolor": "white",
            "ticks": ""
           },
           "baxis": {
            "gridcolor": "white",
            "linecolor": "white",
            "ticks": ""
           },
           "bgcolor": "#E5ECF6",
           "caxis": {
            "gridcolor": "white",
            "linecolor": "white",
            "ticks": ""
           }
          },
          "title": {
           "x": 0.05
          },
          "xaxis": {
           "automargin": true,
           "gridcolor": "white",
           "linecolor": "white",
           "ticks": "",
           "title": {
            "standoff": 15
           },
           "zerolinecolor": "white",
           "zerolinewidth": 2
          },
          "yaxis": {
           "automargin": true,
           "gridcolor": "white",
           "linecolor": "white",
           "ticks": "",
           "title": {
            "standoff": 15
           },
           "zerolinecolor": "white",
           "zerolinewidth": 2
          }
         }
        },
        "title": {
         "text": "Interactive Distance & Pitch Comparison: Sonar vs DVL"
        },
        "xaxis": {
         "anchor": "y",
         "domain": [
          0,
          1
         ],
         "showgrid": true,
         "title": {
          "text": "Time (seconds)"
         }
        },
        "xaxis2": {
         "anchor": "y2",
         "domain": [
          0,
          1
         ],
         "showgrid": true,
         "title": {
          "text": "Time (seconds)"
         }
        },
        "yaxis": {
         "anchor": "x",
         "domain": [
          0.625,
          1
         ],
         "showgrid": true,
         "title": {
          "text": "Distance (meters)"
         }
        },
        "yaxis2": {
         "anchor": "x2",
         "domain": [
          0,
          0.375
         ],
         "showgrid": true,
         "title": {
          "text": "Pitch (degrees)"
         }
        }
       }
      }
     },
     "metadata": {},
     "output_type": "display_data"
    }
   ],
   "source": [
    "fig, comparison_stats = iau.ComparisonEngine.compare_sonar_vs_dvl(distance_results, raw_data, sonar_coverage_m=sonar_coverage_meters, sonar_image_size=image_shape[0], use_plotly=True)\n",
    "fig.show()"
   ]
  },
  {
   "cell_type": "code",
   "execution_count": 9,
   "id": "50f97352",
   "metadata": {},
   "outputs": [
    {
     "name": "stdout",
     "output_type": "stream",
     "text": [
      "GENERATING VIDEO WITH DUAL NET DISTANCE OVERLAYS\n",
      "============================================================\n",
      " Target Bag: 2024-08-20_14-31-29\n",
      " DVL Data: 559 records\n",
      " Sonar Analysis: 1059 frames\n",
      " Auto-detect video: enabled (PNG frames + index.csv)\n",
      "⏱  Sync tolerance: 1.0s\n",
      "OPTIMIZED SONAR VIDEO\n",
      "======================================================================\n",
      "Target Bag: 2024-08-20_14-31-29\n",
      "   Cone Size: 900x700\n",
      "   Range: 0.0-5.0m | FOV: 120.0°\n",
      "Auto-detecting video files for bag: 2024-08-20_14-31-29\n",
      "Found video frames: 2024-08-20_14-31-29_video__image_compressed_image_data_frames\n",
      "Using frames directory: /Volumes/LaCie/SOLAQUA/exports/frames/2024-08-20_14-31-29_video__image_compressed_image_data_frames\n",
      "Camera: enabled\n",
      "Net-line: enabled (dist tol=0.5s, pitch tol=2.0s)\n",
      "Sonar Analysis: enabled\n",
      "   Loading sonar data: sensor_sonoptix_echo_image__2024-08-20_14-31-29_video.csv\n",
      "Loaded 1060 sonar frames in 42.13s\n",
      "Loaded 559 navigation records in 0.02s\n",
      "      Available: ['NetDistance', 'NetPitch', 'timestamp']\n",
      "Loaded 844 camera index entries\n",
      "   Frames: 1..1059 (step 1) => 1059\n",
      "   Natural FPS: 15.7\n",
      "\n",
      "🎉 DONE! Wrote 1059 frames to /Volumes/LaCie/SOLAQUA/exports/videos/2024-08-20_14-31-29_optimized_sync_withcam_withsonar_20240820_143131_621807+0200.mp4 @ 15.67 FPS\n",
      "Metadata saved to: /Volumes/LaCie/SOLAQUA/exports/videos/2024-08-20_14-31-29_optimized_sync_withcam_withsonar_20240820_143131_621807+0200.mp4.meta.json\n",
      "\n",
      " Video generated successfully!\n",
      " Output: None\n",
      "\n",
      " Check the video output:\n",
      "   - Camera frames should sync properly with sonar\n",
      "   - When camera data ends, video should switch to sonar-only\n",
      "   - No frozen camera frames should appear\n"
     ]
    }
   ],
   "source": [
    "# Generate Video with Both DVL and Sonar Analysis Overlays (Improved Sync)\n",
    "# ==========================================================================\n",
    "import utils.sonar_and_foto_generation as sg\n",
    "\n",
    "# Enable automatic video detection with improved synchronization\n",
    "from utils.sonar_config import VIDEO_CONFIG\n",
    "VIDEO_CONFIG['enable_video_overlay'] = True  \n",
    "VIDEO_CONFIG['max_sync_tolerance_seconds'] = 1.0  # Tighter sync tolerance\n",
    "\n",
    "print(\"GENERATING VIDEO WITH DUAL NET DISTANCE OVERLAYS\")\n",
    "print(\"=\" * 60)\n",
    "print(f\" Target Bag: {TARGET_BAG}\")\n",
    "print(f\" DVL Data: {len(raw_data.get('navigation', []))} records\")\n",
    "print(f\" Sonar Analysis: {len(distance_results)} frames\")\n",
    "print(f\" Auto-detect video: enabled (PNG frames + index.csv)\")\n",
    "print(f\"⏱  Sync tolerance: {VIDEO_CONFIG['max_sync_tolerance_seconds']}s\")\n",
    "\n",
    "# Generate the video with both overlays and improved sync\n",
    "try:\n",
    "    video_path = sg.export_optimized_sonar_video(\n",
    "        TARGET_BAG=TARGET_BAG,\n",
    "        EXPORTS_FOLDER=EXPORTS_FOLDER,\n",
    "        START_IDX=1,\n",
    "        END_IDX=1200,  \n",
    "        STRIDE=1,    \n",
    "        AUTO_DETECT_VIDEO=True,       # Enable automatic video file detection\n",
    "        INCLUDE_NET=True,             # Enable DVL net distance overlay\n",
    "        SONAR_DISTANCE_RESULTS=distance_results,  # Enable sonar analysis overlay\n",
    "        NET_DISTANCE_TOLERANCE=0.5,\n",
    "        NET_PITCH_TOLERANCE=2.0,      # Increased from 0.3 to 2.0 seconds for better pitch sync\n",
    "    )\n",
    "\n",
    "    print(f\"\\n Video generated successfully!\")\n",
    "    print(f\" Output: {video_path}\")\n",
    "    print(f\"\\n Check the video output:\")\n",
    "    print(f\"   - Camera frames should sync properly with sonar\")\n",
    "    print(f\"   - When camera data ends, video should switch to sonar-only\")\n",
    "    print(f\"   - No frozen camera frames should appear\")\n",
    "    \n",
    "except Exception as e:\n",
    "    print(f\"Error generating video: {e}\")\n",
    "    import traceback\n",
    "    traceback.print_exc()\n",
    "    print(\"\\n Troubleshooting:\")\n",
    "    print(\"  1. Run the video detection cell above to verify files exist\")\n",
    "    print(\"  2. Check that PNG frames directory has index.csv file\")\n",
    "    print(\"  3. Try disabling video overlay: VIDEO_CONFIG['enable_video_overlay'] = False\")\n",
    "    print(\"  4. Check exports directory structure\")"
   ]
  },
  {
   "cell_type": "code",
   "execution_count": null,
   "id": "a0dffba5",
   "metadata": {},
   "outputs": [],
   "source": []
  }
 ],
 "metadata": {
  "kernelspec": {
   "display_name": "venv",
   "language": "python",
   "name": "python3"
  },
  "language_info": {
   "codemirror_mode": {
    "name": "ipython",
    "version": 3
   },
   "file_extension": ".py",
   "mimetype": "text/x-python",
   "name": "python",
   "nbconvert_exporter": "python",
   "pygments_lexer": "ipython3",
   "version": "3.13.5"
  }
 },
 "nbformat": 4,
 "nbformat_minor": 5
}
