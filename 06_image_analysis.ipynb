{
 "cells": [
  {
   "cell_type": "code",
   "execution_count": 1,
   "id": "7a8d02c0",
   "metadata": {},
   "outputs": [],
   "source": [
    "# Centralized sonar defaults (inserted by sweep)\n",
    "from utils.sonar_config import SONAR_VIS_DEFAULTS\n",
    "sonar_config = SONAR_VIS_DEFAULTS.copy()\n",
    "# Backwards-compatible variable names used in older notebooks\n",
    "RANGE_MIN_M = sonar_config['range_min_m']\n",
    "RANGE_MAX_M = sonar_config['range_max_m']\n",
    "DISPLAY_RANGE_MAX_M = sonar_config['display_range_max_m']"
   ]
  },
  {
   "cell_type": "markdown",
   "id": "9220eb1d",
   "metadata": {},
   "source": [
    "# Simple Image Analysis with CV2\n",
    "\n",
    "This notebook demonstrates:\n",
    "1. **Pick a frame** from NPZ files and save it locally\n",
    "2. **Use standard cv2 functions** directly for image processing\n",
    "3. **Experiment** with different OpenCV operations"
   ]
  },
  {
   "cell_type": "code",
   "execution_count": 2,
   "id": "4b3e8f46",
   "metadata": {},
   "outputs": [
    {
     "name": "stdout",
     "output_type": "stream",
     "text": [
      "Using DATA_DIR = /Volumes/LaCie/SOLAQUA/raw_data\n",
      "Selected NPZ file: 2024-08-20_14-31-29_data_cones.npz (index=8)\n"
     ]
    }
   ],
   "source": [
    "from pathlib import Path\n",
    "import utils.sonar_image_analysis as iau\n",
    "\n",
    "\n",
    "# Prefer selecting by bag ID (part of the NPZ filename) instead of a numeric index.\n",
    "# Set TARGET_BAG to a substring that appears in the NPZ filename (e.g. '2024-08-22_14-29-05')\n",
    "# '2024-08-22_14-47-39'\n",
    "# '2024-08-22_14-29-05'\n",
    "# '2024-08-20_14-31-29' HARD\n",
    "TARGET_BAG = '2024-08-20_14-31-29'  # change this to your desired bag ID\n",
    "from utils.sonar_config import EXPORTS_DIR_DEFAULT, EXPORTS_SUBDIRS\n",
    "EXPORTS_FOLDER = Path(EXPORTS_DIR_DEFAULT)\n",
    "\n",
    "# If you keep your raw .bag files or raw data on an external drive, point DATA_DIR there.\n",
    "# Example (your external disk): /Volumes/LaCie/SOLAQUA/raw_data\n",
    "DATA_DIR = Path(\"/Volumes/LaCie/SOLAQUA/raw_data\")\n",
    "print(f\"Using DATA_DIR = {DATA_DIR}\")\n",
    "\n",
    "# Find NPZ files and pick the one matching TARGET_BAG\n",
    "files = iau.get_available_npz_files()\n",
    "if not files:\n",
    "    raise FileNotFoundError(f\"No NPZ files found in configured exports outputs (looked under {EXPORTS_FOLDER / EXPORTS_SUBDIRS.get('outputs','outputs')})\")\n",
    "matches = [p for p in files if TARGET_BAG in p.name]\n",
    "if not matches:\n",
    "    # Help the user by listing available NPZ files\n",
    "    print(f'No NPZ file matched TARGET_BAG={TARGET_BAG!r}')\n",
    "    print('Available NPZ files:')\n",
    "    for i,p in enumerate(files):\n",
    "        print(f'  {i}: {p.name}')\n",
    "    raise ValueError(f'No NPZ file contains \"{TARGET_BAG}\" in its name')\n",
    "\n",
    "# If multiple matches, choose the most recently modified one\n",
    "selected = max(matches, key=lambda p: p.stat().st_mtime)\n",
    "NPZ_FILE_INDEX = files.index(selected)\n",
    "print(f'Selected NPZ file: {selected.name} (index={NPZ_FILE_INDEX})')"
   ]
  },
  {
   "cell_type": "markdown",
   "id": "0c65358c",
   "metadata": {},
   "source": [
    "## Distance Analysis Over Time\n",
    "\n",
    "Now let's perform a comprehensive analysis of the red line distance over time. The red line represents the major axis of the detected elongated contour (likely a fishing net), and we'll track how this distance changes throughout the video sequence."
   ]
  },
  {
   "cell_type": "code",
   "execution_count": 3,
   "id": "d9c0382e",
   "metadata": {},
   "outputs": [
    {
     "name": "stdout",
     "output_type": "stream",
     "text": [
      "=== DISTANCE ANALYSIS FROM NPZ ===\n",
      "Analyzing: /Volumes/LaCie/SOLAQUA/exports/outputs/2024-08-20_14-31-29_data_cones.npz\n",
      "Processing 1000 frames from 1 (step=1)\n",
      "  Processed 50/1000 frames (Success rate: 100.0%)\n",
      "  Processed 100/1000 frames (Success rate: 100.0%)\n",
      "  Processed 150/1000 frames (Success rate: 100.0%)\n",
      "  Processed 200/1000 frames (Success rate: 100.0%)\n",
      "  Processed 250/1000 frames (Success rate: 100.0%)\n",
      "  Processed 300/1000 frames (Success rate: 100.0%)\n",
      "  Processed 350/1000 frames (Success rate: 100.0%)\n",
      "  Processed 400/1000 frames (Success rate: 100.0%)\n",
      "  Processed 450/1000 frames (Success rate: 100.0%)\n",
      "  Processed 500/1000 frames (Success rate: 100.0%)\n",
      "  Processed 550/1000 frames (Success rate: 100.0%)\n",
      "  Processed 600/1000 frames (Success rate: 100.0%)\n",
      "  Processed 650/1000 frames (Success rate: 100.0%)\n",
      "  Processed 700/1000 frames (Success rate: 100.0%)\n",
      "  Processed 750/1000 frames (Success rate: 100.0%)\n",
      "  Processed 800/1000 frames (Success rate: 100.0%)\n",
      "  Processed 850/1000 frames (Success rate: 100.0%)\n",
      "  Processed 900/1000 frames (Success rate: 100.0%)\n",
      "  Processed 950/1000 frames (Success rate: 100.0%)\n",
      "  Processed 1000/1000 frames (Success rate: 100.0%)\n",
      "\n",
      "=== ANALYSIS COMPLETE ===\n",
      "Total frames processed: 1000\n",
      "Successful detections: 1000 (100.0%)\n",
      "Distance statistics (meters):\n",
      "  - Mean: 1.976\n",
      "  - Std:  0.230\n",
      "  - Min:  1.581\n",
      "  - Max:  2.893\n",
      "  - Range: 1.312\n",
      "✅ Analyzed 1000 frames using elliptical AOI\n",
      "🎯 Detection success rate: 100.0%\n",
      "📊 Elliptical tracking active: 0 frames\n"
     ]
    }
   ],
   "source": [
    "# First reload the module to get the latest elliptical AOI changes\n",
    "import importlib\n",
    "importlib.reload(iau)\n",
    "\n",
    "# Create the unified processor\n",
    "processor = iau.SonarDataProcessor()\n",
    "\n",
    "# Use the new Distance Analysis Engine with elliptical AOI\n",
    "engine = iau.DistanceAnalysisEngine()\n",
    "distance_results = engine.analyze_npz_sequence(\n",
    "    npz_file_index=NPZ_FILE_INDEX,    \n",
    "    frame_start=1,        # Start from frame 1\n",
    "    frame_count=1000,      # Analyze all frames from the video\n",
    "    frame_step=1          # Every frame\n",
    ")\n",
    "\n",
    "print(f\"✅ Analyzed {len(distance_results)} frames using elliptical AOI\")\n",
    "print(f\"🎯 Detection success rate: {distance_results['detection_success'].mean():.1%}\")\n",
    "print(f\"📊 Elliptical tracking active: {(distance_results['tracking_status'].str.contains('ELLIPSE')).sum()} frames\")"
   ]
  },
  {
   "cell_type": "code",
   "execution_count": 4,
   "id": "b9c5da85",
   "metadata": {},
   "outputs": [
    {
     "name": "stdout",
     "output_type": "stream",
     "text": [
      "=== ENHANCED VIDEO CREATION (Simplified) ===\n",
      "Creating video with simplified processor...\n",
      "Frames: 1000, step: 1\n",
      "✅ Processing 1000 frames with simplified processor...\n",
      "Processed 10/1000 frames\n",
      "Processed 20/1000 frames\n",
      "Processed 30/1000 frames\n",
      "Processed 40/1000 frames\n",
      "Processed 50/1000 frames\n",
      "Processed 60/1000 frames\n",
      "Processed 70/1000 frames\n",
      "Processed 80/1000 frames\n",
      "Processed 90/1000 frames\n",
      "Processed 100/1000 frames\n",
      "Processed 110/1000 frames\n",
      "Processed 120/1000 frames\n",
      "Processed 130/1000 frames\n",
      "Processed 140/1000 frames\n",
      "Processed 150/1000 frames\n",
      "Processed 160/1000 frames\n",
      "Processed 170/1000 frames\n",
      "Processed 180/1000 frames\n",
      "Processed 190/1000 frames\n",
      "Processed 200/1000 frames\n",
      "Processed 210/1000 frames\n",
      "Processed 220/1000 frames\n",
      "Processed 230/1000 frames\n",
      "Processed 240/1000 frames\n",
      "Processed 250/1000 frames\n",
      "Processed 260/1000 frames\n",
      "Processed 270/1000 frames\n",
      "Processed 280/1000 frames\n",
      "Processed 290/1000 frames\n",
      "Processed 300/1000 frames\n",
      "Processed 310/1000 frames\n",
      "Processed 320/1000 frames\n",
      "Processed 330/1000 frames\n",
      "Processed 340/1000 frames\n",
      "Processed 350/1000 frames\n",
      "Processed 360/1000 frames\n",
      "Processed 370/1000 frames\n",
      "Processed 380/1000 frames\n",
      "Processed 390/1000 frames\n",
      "Processed 400/1000 frames\n",
      "Processed 410/1000 frames\n",
      "Processed 420/1000 frames\n",
      "Processed 430/1000 frames\n",
      "Processed 440/1000 frames\n",
      "Processed 450/1000 frames\n",
      "Processed 460/1000 frames\n",
      "Processed 470/1000 frames\n",
      "Processed 480/1000 frames\n",
      "Processed 490/1000 frames\n",
      "Processed 500/1000 frames\n",
      "Processed 510/1000 frames\n",
      "Processed 520/1000 frames\n",
      "Processed 530/1000 frames\n",
      "Processed 540/1000 frames\n",
      "Processed 550/1000 frames\n",
      "Processed 560/1000 frames\n",
      "Processed 570/1000 frames\n",
      "Processed 580/1000 frames\n",
      "Processed 590/1000 frames\n",
      "Processed 600/1000 frames\n",
      "Processed 610/1000 frames\n",
      "Processed 620/1000 frames\n",
      "Processed 630/1000 frames\n",
      "Processed 640/1000 frames\n",
      "Processed 650/1000 frames\n",
      "Processed 660/1000 frames\n",
      "Processed 670/1000 frames\n",
      "Processed 680/1000 frames\n",
      "Processed 690/1000 frames\n",
      "Processed 700/1000 frames\n",
      "Processed 710/1000 frames\n",
      "Processed 720/1000 frames\n",
      "Processed 730/1000 frames\n",
      "Processed 740/1000 frames\n",
      "Processed 750/1000 frames\n",
      "Processed 760/1000 frames\n",
      "Processed 770/1000 frames\n",
      "Processed 780/1000 frames\n",
      "Processed 790/1000 frames\n",
      "Processed 800/1000 frames\n",
      "Processed 810/1000 frames\n",
      "Processed 820/1000 frames\n",
      "Processed 830/1000 frames\n",
      "Processed 840/1000 frames\n",
      "Processed 850/1000 frames\n",
      "Processed 860/1000 frames\n",
      "Processed 870/1000 frames\n",
      "Processed 880/1000 frames\n",
      "Processed 890/1000 frames\n",
      "Processed 900/1000 frames\n",
      "Processed 910/1000 frames\n",
      "Processed 920/1000 frames\n",
      "Processed 930/1000 frames\n",
      "Processed 940/1000 frames\n",
      "Processed 950/1000 frames\n",
      "Processed 960/1000 frames\n",
      "Processed 970/1000 frames\n",
      "Processed 980/1000 frames\n",
      "Processed 990/1000 frames\n",
      "Processed 1000/1000 frames\n",
      "\n",
      "=== ENHANCED VIDEO CREATION COMPLETE ===\n",
      "Video saved to: /Volumes/LaCie/SOLAQUA/exports/videos/core_aoi_tracking.mp4\n",
      "Video specs: 900x700, 15 fps, 1000 frames\n",
      "🟢 SIMPLIFIED TRACKING STATS:\n",
      "  - Total detected frames: 1000\n",
      "  - Lost/searching frames: 0\n",
      "  - Detection success rate: 100.0%\n"
     ]
    }
   ],
   "source": [
    "# Create video using the CORE simplified processor\n",
    "# This will show the yellow rectangular AOI and track with momentum merging!\n",
    "\n",
    "# Use the enhanced video creation with CORE processor\n",
    "video_path = iau.create_enhanced_contour_detection_video_with_processor(\n",
    "    npz_file_index=NPZ_FILE_INDEX,          # Which NPZ file to use\n",
    "    frame_start=1,           # Starting frame\n",
    "    frame_count=1000,         # Start with 100 frames for testing\n",
    "    frame_step=1,            # Step between frames\n",
    "    output_path=Path(EXPORTS_DIR_DEFAULT) / EXPORTS_SUBDIRS.get('videos','videos') / 'core_aoi_tracking.mp4',\n",
    "    processor=processor      # Use our CORE processor\n",
    ")\n"
   ]
  },
  {
   "cell_type": "markdown",
   "id": "fede9d64",
   "metadata": {},
   "source": [
    "## Convert to Real-World Distances\n",
    "\n",
    "Now let's convert the pixel distances to real-world distances using the fact that the entire sonar image represents a 10x10 meter area."
   ]
  },
  {
   "cell_type": "code",
   "execution_count": 5,
   "id": "886897de",
   "metadata": {},
   "outputs": [
    {
     "name": "stdout",
     "output_type": "stream",
     "text": [
      "Detected NPZ extent: x=[-8.660,8.660] m, y=[0.000,10.000] m\n",
      "Image shape from NPZ: H=700, W=900\n",
      "meters/pixel: x=0.019245, y=0.014286, avg=0.016765\n",
      "Using pixels_to_meters_avg = 0.016765 m/px\n"
     ]
    }
   ],
   "source": [
    "# Auto-detect pixel->meter mapping from the selected NPZ (if available)\n",
    "try:\n",
    "    cones, ts, extent, meta = iau.load_cone_run_npz(selected)\n",
    "    T, H, W = cones.shape\n",
    "    x_min, x_max, y_min, y_max = extent\n",
    "    width_m = float(x_max - x_min)\n",
    "    height_m = float(y_max - y_min)\n",
    "    px2m_x = width_m / float(W)\n",
    "    px2m_y = height_m / float(H)\n",
    "    pixels_to_meters_avg = 0.5 * (px2m_x + px2m_y)\n",
    "    image_shape = (H, W)\n",
    "    sonar_coverage_meters = max(width_m, height_m)\n",
    "    print(f\"Detected NPZ extent: x=[{x_min:.3f},{x_max:.3f}] m, y=[{y_min:.3f},{y_max:.3f}] m\")\n",
    "    print(f\"Image shape from NPZ: H={H}, W={W}\")\n",
    "    print(f\"meters/pixel: x={px2m_x:.6f}, y={px2m_y:.6f}, avg={pixels_to_meters_avg:.6f}\")\n",
    "except Exception as e:\n",
    "    print(\"Could not read NPZ metadata:\", e)\n",
    "    print(\"Falling back to defaults from sonar_config.\")\n",
    "    from utils.sonar_config import CONE_H_DEFAULT, CONE_W_DEFAULT, DISPLAY_RANGE_MAX_M_DEFAULT\n",
    "    image_shape = (CONE_H_DEFAULT, CONE_W_DEFAULT)\n",
    "    sonar_coverage_meters = DISPLAY_RANGE_MAX_M_DEFAULT * 2  # approximate\n",
    "    pixels_to_meters_avg = sonar_coverage_meters / max(image_shape)\n",
    "    \n",
    "# Use the computed pixels_to_meters_avg in downstream analysis\n",
    "print(f\"Using pixels_to_meters_avg = {pixels_to_meters_avg:.6f} m/px\")"
   ]
  },
  {
   "cell_type": "code",
   "execution_count": 6,
   "id": "15d6238c",
   "metadata": {},
   "outputs": [
    {
     "data": {
      "application/vnd.plotly.v1+json": {
       "config": {
        "plotlyServerURL": "https://plot.ly"
       },
       "data": [
        {
         "line": {
          "color": "blue"
         },
         "mode": "lines+markers",
         "name": "Distance",
         "type": "scatter",
         "x": {
          "bdata": "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",
          "dtype": "i2"
         },
         "xaxis": "x",
         "y": {
          "bdata": "ODTLnConA0DXvmEcrywDQBYIrOvsywJAYyOfNK7lAkC4DNtrpBkDQO3TUiNVFwNAc6PhadXYAkB8pDceyvYCQHCSAhzD5wJAVAVNLHqpAkCnVYKJrXACQNdSpqsXBQNAMRhV5tDOAkDgbv6tVt0CQOXCYMT1/AJAq1q4MvATA0BlbKTPVBADQKyTyp0bDgNAVabMYZmMA0BL1u8IjCUDQExTgJyi+gJAZ5qbts5NA0DlJLqkKCwDQBn4y/KGVQNA+4hwy1UiBEB4VpkQKrkDQJSvXCKAGwRAZ55+vYUwBEBNqzI2b+IDQCktHYKkmwNADppMBvM8BEC902SSwkQDQNWpjEfVuwRAI9ymTT57BEA3cwMhAE0EQDk/asZTaANAdsQSqy6LA0CiZ4F4p6YCQMQADKcxcgJAmuXEQeJqAkD8tYQGUhkCQG6AoKqTgwJA7CsvycNZAkAcS3OZr2sCQPGOXhZdaAJA2IJqpVx8AkDatvuRRXUCQBEt4t9yjQJAfemOePyZAkDr5jVP7Z8CQEScIxH2tgJAhnvRe1nSAkBG3o4MMeMCQLpEJADl/AJAGA17H6wQA0B5dFppbScDQBvwxe3NQQNA54cDTU88A0APeLTRvjQDQCw18ZYNXgNAxYDoKvR2A0CzgxpRoYEDQBKqzPYImQNA4pBhB5aQA0Chv+jyr64DQKZmCaQmpQNAU0opMHKHA0Dufyg+CXYDQErJMq3zagNA0laVb1VyA0AWxvOEAmEDQO17N+YSXgNAg06CdsxdA0A6+Up3QGMDQAmbnZqUOANAxuYkAFKOA0B/e+me0xoDQD2bkEhdBgNA6FcAVAACA0DK21kdVNkCQBE3NbqsrgJA2O0BsVCVAkDvzaYljoQCQPKTg5+GlgJAzHhtVDiTAkBUmOmm2pQCQMwrYpWTSAJAY2ByyDQmAkAMoCbgtl4CQMt3AJ1O+QFAxSF5L2bNAUA52GUkOcsBQPQtw8b4cAFAbo0T3DlRAUDxEpyLqCYBQHoRzEgRDwFA04ZmNSH0AEBeqbg0XtgAQNOAphUsnABAApOKXOx0AEChGgSZ2FIAQBnI6R4SOABAFOWJHg4UAEAO71QO/uT/P2/nGubRx/8/HT4wVRmc/z9sTuEwM2//PxD/mKXhPP8/DUiF3PUq/z9smF21pxv/P7irm1NYFP8/utz3yrTn/j/t3JoboM/+Px8W5zRoxv4/wgbprGfR/j9QFe3RZ8v+P9AmUOJarv4/Iu7shiiQ/j+O1jWEdJ3+P+TmlHEFp/4/PB+v/wai/j8xahtatZv+P7rzUbHIlP4/fqYAwZKC/j+i9cq/BHz+PyE3j0rtdf4/hTUatAdw/j8A2Qd9o2n+P12fAINsa/4/UONK/nVf/j/t2O3XJ07+P5DIs1x7hv4/Cy29yCCc/j9S1xlS6Zz+P9CM8o7Zkv4/4vkuNQGi/j9N1IgE5mv+P/PzDUYNfP4/1lJhPT+H/j/ORuEgB5X+P5uL64x7mf4/ZsjxrgGl/j8OeWLnaXj+PzNpq20Aff4/KJ5oN8tn/j86jEipqmr+P2Ei+SfEYP4/Uohyka5o/j9JWy8+kSz+P0Vxv1ssL/4/kqSz1zM3/j9qT+m0gT/+P3GiuPYIUv4/2ZzbdQtG/j/JVgUETyn+Px3hvBlGGP4/rxd5GHEn/j8ASYPvDjn+Pyyp5Lcpdv4/8696iiZK/j9HAT4MpkH+P8t4W4IOQP4/7J7Hgz9Q/j/hCalMXWL+Px1kbBTlZP4/if72dIp//j+sBxY/YY7+PyGfZrb9gP4/daq57OSy/j/xHYDipd/+P1er/IOnMv8/uumerfxE/z8FL/1sikj/Pxv5OzG1Of8/d5lTGKhN/z9vCKp7oVP/P9SKBegkZP8/NeA/+E9p/z/spR5xxXz/P0viZv1PgP8/MVib+xKT/z+XIArAG5n/P74l339Kmv8/dWjqrwye/z/LQW4z9qX/P3ecSiUhxv8/9/TXpObx/z+fluneA9j/P4nfjtWt2P8/IUkmr3jf/z9hUb09YPf/P90uy2C6NQBAy6uqdvUHAEBUnSLxRP//PyqdrUST+v8/8eJG/MDt/z+DwZ4bl/7/P7pUlDzOCgBAxFv7xg4JAEDo26DSuB0AQCHz9VpJIwBA02yrDW8pAEBrWTi13C0AQEz2th3gNwBA8d3Vn4o3AEC9BuwPUCAAQKdTh/s4HABAEyA/lsUZAEBbd3DO0QIAQLDahug+BABAztDAKi4KAEBjthG0zgIAQLPd1YYU/v8/b/12Anr1/z94aTlx6dn/PwcMRjtRy/8/6q4kYJfR/z/6Kg+LIt3/Pwmyo5+m8v8/ups1Yu/b/z8+qEfWwNL/P+xkfUbc0v8/ErqgxorI/z/1juqkPe3/P3Wm8RM/t/8/R9RlTVSh/z/m58tN4dr/P11Vq+8MuP8/L82aDlK6/z83My0A0oz/PybTjSzTYP8/CXqp36tR/z+ANw4/oAj/P87S+spDBP8/9YcoHqTN/j86CJhLBZv+PxIsTr4qdP4/alwXJCpD/j/zkmhxRTT+P/i2gJKPCP4/5NpkUbHY/T8zhi6iGcL9P/Xzg7kRoP0/bQZ8Z+53/T9Zl6GLfZz9P1vcd6IZXP0/Z7rrXbEs/T/m80e9PCb9P/aJon966fw/iHath+e7/D/NbFzk8bP8P9rUs8AZifw/iyMtFXx6/D8RpblJWlb8PwXtlKRzJvw/O2BTBTnq+z+exnWiGcH7P1hL9lo9jPs/ApHrjgpp+z/BD1ISizv7Pw1tMl9q8/o/o9B0D1b0+j8mYd1sEfv6P6k9tSgD8/o/TfQ4ecMv+z+qA2YvhSX7P2zJHOykK/s/Q8WJXII5+z9PhZCkU1T7PxvRzdCPY/s/hdr1i7Uy+z/00G1jZQz7PxQOoeg+9Po/VnmUYcyv+j+tWETsMZz6P2ik6shqgvo/jK9EV0lt+j9pNzb9eF36P5yUzS2ugfo/29PVSIx8+j9sj9t6O3P6P04Qu/Frmvo/Vv20xvDH+j+YAacoO8/6P7+K5mtn6Po/UKjpSpPt+j/lt7U/kQv7PyW95ce7zfo/9FFbzbza+j8YlD3VsdP6P8X/hsNLnvo/ez1jgNxr+j+cFhzfqkf6P6Gj8zvXNPo/Sskvu/JV+j9j2vesPp/6P79dUNbsPvo/Agi6pXkD+j9SXcxJDhn6P/iwClef4fk/P9Rbz5ph+j9Lg6WsB6H6P2PGpZNV2vo/YJkNtOWC+j8oVYKo8HX6P5H7mMnAN/o/Ue8WwPIM+j/Zx6OAvPT5P/g/NiWL3fk/Pmh/n07l+T/c8lVqvtH5P4xC+nGruvk/iOjJm8y1+T839PhShJr5PwwYt68Dgfk/5m/aeztU+T/j8cniKEv5P8flFjKCavk/PNL9z/17+T/1Yrw+63H5P1BWBZ61jvk/35X4ENeK+T9UNR5ubYb5PzGl/ayjlPk/axaemryi+T/M1n0ut6L5P67LRtb1vfk/gNbWk4DP+T+kuXr6dgf6P5vDeoLyFPo/9CZo/c/m+T9DZRTh8c/5P3LLBu5Gyvk/XMooHFDt+T/n9AIz0QL6P7pyaDndHPo/g+9P5zMh+j8m3peVOST6P9ZIrch7LPo/ONaiBKpB+j9OF4L/9k76PxD2SRZTWfo/cVbJhPFb+j/2ND4aWVL6P631A69yTPo/xHLtoPRR+j8+wKFLJWf6PwceA63lWPo/xK8h0Bhp+j9bwAsHyG36P6PHO7q4dPo/9P8jtR2E+j9UGMV1Opb6P62SRrlzsvo/R8EEDz+r+j9kZY4Sl676P1FTpmffmPo/dk1V/vyG+j8jFHLdfJL6Pz9q49IKlvo/4zhTbxe6+j8csJ2ePtf6P9h82dV74/o/M1sdjpHP+j/7tLDN2Mj6P4lNbbxnxvo/+9U8smrK+j+Sa754UM76P8cQ5F794fo/kfvZGs7f+j+o1UZvOAL7P3DAOUAeCfs/bV+h81bs+j8/ek0s9836PxhNIMYVvfo/OpbXoBOz+j9Ztn0VHa/6P+RX+QRNqfo/8j/ofw7C+j9U25HeAd36P7ezJ7+y5fo/Ysrqc9AG+z+GEjs8bub6P0jk7bz03fo/DH81BPnZ+j9SIT6pw836P1O9OhBc4fo/bGg02+zz+j/4cV+TCfn6P6B52wVoHvs/I0aEhno5+z+3MqOHrT77Pyqr1/yVTPs/HNpN8pJe+z9YIQWOt5f7PzNmmpU0t/s/iAimdqu4+z/n/qa2Wdf7P+OLCqjs4/s/sbjSFi3k+z8Y6z8prgX8P2pwXHH/KPw/fYO8ax00/D9iAJEKrjL8P+3zxNYJOfw/qq0H77kx/D9F7UymvSP8P6gq3rxbNfw/Ahker3JB/D9MPM+SL0v8P1iCGoPOR/w/gqzE641O/D9kmCavy0X8P7hHeQpGN/w/JtBMYHk3/D99ax1stUn8P+35I15pVvw/Zo9ZNohh/D9zzbOCJ2f8P9OW3VIyZPw/SJd7rXVv/D9ngazg5Fv8P5cRtBCyXvw/bq3OYSda/D9U1b6g+lr8P5og+912cfw/HBlQcLaR/D9OINj8DsL8P15gfc9N1vw/eI4bGhjR/D8mKepGH678P/LpN1V9p/w/zbWTwb+m/D9jFGs8Goj8P1LE+U/ziPw/tyYov9aT/D9ZLL6Rm4P8P6004fNee/w/6Z1xqYVx/D+4h29rTnX8PwdaF3Xfpvw/isCAAQjQ/D+4SvmSJFH9P2bYYIq9Hf0/+Iq6tlsV/T969hMZLSn9P1xOHYVfKv0/WYEmw9Ne/T/vfIZAnVz9P5KfsUxIVP0/YqcVW3ad/T++EHvNZX/9P3yToAip1f0/X1Gv2xCz/T/vEXJmN5X9PzolBW3Qt/0/Ir4Zt/iY/T/+calUu6/9P9Dfo1D7r/0/KNtgjYiq/T8vG7ctQr79P3eFiUwKzP0/Tbj4C3kF/j+zMsAKPhT+P5glYpeX/f0/w1ij+Dg4/j+6nMtEhVT+P+F0VZsYav4/LcHe14xT/j+QDgcFYWv+P4cNFR/riv4/GyqC11eY/j8zYqpRjKn+P8sj6jRCu/4/uEbtIkPD/j+qoMPlbOf+P3Pna6G3Af8/l+UfBdH1/j/33piLez7/P92fxBRXWf8/JgMGvCVP/z/8BXkuzkL/P8PJKahbSf8/Q1JK0nst/z8UxSdbogn/P7w49h4AMP8/m5C/AOpD/z/ozivSCW7/P5BpjNZyUf8/Mw+/QwpS/z+JeyXLQlT/P37HTC8laf8/1CdmcZ9J/z9OE6rtqEr/P8BAT+MGa/8/22zXlV5k/z9Lh2gOaE7/P/FrNUf5M/8/OgAlJlwi/z/Dn/R3zFP/P44YtQyXZf8/oSVAQ1ZS/z+4893oWNn/P+oTJadNXf8//HpXTsJw/z8bowP3P0D/P0n5NUUzWv8/i5S9BME9/z91QKEI2gz/PyTDbelb0v4/7VeaFJd9/z/shhiInDT/P81htVyHJ/8/eD3i5XRP/z8OvUswqHH/P7GC9J/Yj/8/+kRBkemb/z8J1UKzRl3/P86dmGHNSP8/kpzZ4Jxo/z+O1e0YlJX/P9d/ANZ+p/8/8yW4w/CY/z9fxgx6A3T/P+YKelJKfv8/H6INh7tq/z91oQg5xlf/P+ooqik5Qf8/VgKuWEA4/z/X53/VIUn/PwLldWMfN/8/mae5PkVP/z9sbHhlMUP/PxL6XPORX/8/6MJEu6Vj/z8Nx/DhPl//P7y4aKkBbP8/VrYEpiJ//z/mVtVqwo3/P061Av3Nmv8/UErLMDKV/z9vdoGBzLX/P0LiYtmzwv8/4ZHrRSe7/z/fMVXB2Z//P2acCEpFvv8/bduvbMyy/z8F3Zjn1bb/P2R7u0DQ1/8/C1keRyDa/z9DKvppdOn/P9jmW/ooAABAXw3vkyQNAECsGTbIYg8AQJGtY9+YDQBAcnbtfokVAECn3qWwlBsAQGBgEQPSJgBACHY+NWkWAEBcueA+ZBUAQK9IiWP0EgBA+7rZp4YaAECcqy+2piMAQNP78zxKMgBAXZklYds9AECCXg8BrkQAQFimv2iMQgBAloyXM7xDAECfZeGx0S8AQKSSXKvTNABAOCWeF38iAECCOerbUSsAQECy1Ad+GQBAjnY4DqsMAEAC7Usda/7/PwdKfybh5/8/S8pdlmfj/z/y5gN/nwYAQBsiiLHIGQBANlHIkkoPAEBK/zFe2SsAQHgUFnMkFgBAT+PARTMoAEAAvB/nNisAQNuYdHe0MgBAjrPsEMkwAEBfpScwaFAAQC6xlLXNbQBAjv+kmiCFAEBxi4hFsG4AQE8a7sKnUgBArv/vdAVDAECrBplxdT0AQMwXBvJeTQBAavO8tRdNAEDOw8eqw0EAQE6WjuptRQBAQwDMsmE+AEBupPkzRUIAQGITf/vrXQBASiP6OlVCAEAKldIrETkAQMT2fg/9NQBAVHmKdtkpAEC4uduIIysAQFiPLxDdKQBAxuoWP3AiAEApuL0V8h8AQLYI/zqyHgBAf2jasGAgAEDyO8ieujIAQITqE3dqQgBAQj3BBvokAEDnhHBT8yIAQGF0yGwoLwBAtju2ZC8oAEDlCIrYZzAAQOHTqFgZOABASgw7VjEzAECUyg8WkzwAQD4RGe9rMwBAxShumUUhAEAZksfZFyIAQDZeRk8/IQBArZDu4kkTAEDVT1ZrEwEAQC3bVFK7BQBAh8bFmMcDAEB2Rd9AvAMAQFQLYmehCQBANPfK/joHAEBk6NtToBMAQIk49pOWGQBACmyivs0sAECHyHxXmSMAQJsWUIi2IwBA7zHJA+QzAEDVTDOibEMAQKoAKnCFQwBApO6Er8dGAEDbJr5M8EcAQHj32e+NKgBA5d4z0c4fAEDt4bINV0AAQIzpZ46fKABASwWhfB8hAEB5kLcBjigAQJK3jksxMwBAGc4sp7gnAEA/S05B1UsAQIFztYKdLABAyLGhfhsmAEDkjThlpB8AQOnZV5h1LwBAd7gKcHcxAED24eiXnC8AQIRxNqctSABAWUsKME5GAEA1EpC/KzgAQIkb9rPBHgBAwfF0eyc6AEDCjhe6IzwAQFhExcdvOQBApMhkzkcjAEBhv82TLCMAQCAq37gLLABAILLLNFY3AEB5riw1jTQAQDzKRGqzDwBAwnbN2qfW/z+Wrm5+9NX/PzM2NIng8f8/uL5aY/PV/z+3EQLdgwUAQP7rWztQ4/8/Mo/T1PwHAEBfD5ObPPj/P33z1juCBwBAf0uWnbkhAEBEPj2l6ygAQJQpHCw+LABAfu12pTcIAEAZs36uSKL/P5vOTFd/lv8/d9ZZoQOm/z+oxaI1E5j/Pw1n6gVsZP8/JDjdkX5K/z/zjzPhZDb/P7rE6wpI7/4/xddoNGC2/j8bCxCEfyf/PyiP5f5t8/4/nyPAZ1cU/z/AmNxp9O/+P6hYbTQ67P4/ULyAs680/z/4gcLpXmD/P2F5RW2xoP4/bb05/Nx7/j+vDd4kgb/+PypHwbtunf4/VgLMfm3c/j/SXxtVccz+P9+0Kwlrif4/uET86Thu/j9LfkDyRbH+P+Gb7D5xzv4/+s0LhDvb/j/ALq7FXa3+P9uOe/i8nf4/iQdX0qZG/j9x0yIgPBP+Pwem7Uki9/0/X36cYlSD/T8A6y919b/9P82MKQoHGv4/8XUNk17l/T8HffEK0v/9P1KLzhOJKv4/eEX1uG79/T8txiJ0KV3+P/MNJYYWFf4/qOELOLkn/j9zovjExiX+P9BaE6qLC/4/6r9GM6kk/j/sHQfdOl7+P3XyD/pPF/4/Ijy19PmI/j/63c8z92D+PypD87fMRP4/gieIYKhs/j9ocCVhzaz+PxkjEnwu3P4/pF+jhlGq/j/3tHrFW7j+P1s5XnePvv4/LDmOWArZ/j9ZT95MNPP+P6L3Go8a7f4/JELwjs/v/j9O3KZ3rdn+P4eRI6aUJv8/wmp8qaMk/z+Of1Y2KkL/P76tx5AWSP8/syc5Dj6k/z/Q/zMgN5r/PxulRDJ2c/8/wlpP889Q/z/AH9MSXcj/Px/FMZC8xv8/H/NsJePS/z+ZPTDiXun/P5T7lSK4h/8/3b+DIwq1/z81HtZ/SRUAQMetiuYBiP8/JE3cy5GZ/z+UOx7YQJv/P8XoGWaau/8/IuPRGS+9/z8XOpiGltf/P3UFLRUQo/8/eJT9Y2BUAECKsTeMUkYAQFedFsmIKQBAxVZhzdQxAEAjVDC6IX4AQFDmZjrhvQBAAvHaxvWvAECaCcOXiLAAQO64ebZ2qgBARhwZH1q9AEBommSvDfoAQITsfCTt6gBAxNLjzATMAEDpP3KLoZsAQITNvT5LmABAwGoGWuvjAECx650WpO0AQM+PyLrYzgBAO1hFM/yYAEBMkbZO/4kAQIKdqq//ywBAG3QyybreAEArj+zRPhIBQHBMV6+6KAFAZlAS/uy9AECTEi9ayBgBQOg3Yhpa9QBAXxr1HXy8AEC5/754wH4AQOM0gv9PgwBADtpr1mG6AEDZP971nrMAQGHHcGtyKwBAu67rzfIXAECKmXhOhrwAQByerW1QUQBAcPMTsgKmAEBhftl+cmgAQIeGl/a+9/8/TWbcv/2UAEAPTiewCDoAQOz6Kp+/QABAO7EP9C4cAECF01tGljb/P4C5eLDbTv8/w2uZ4YU3AECUPn2cUGf/P1jJMMn4GwBA6HB1myaR/z/XbtyKB2D/P76tARRoOf8/RxaJkPH8/j9Z198GWZH/P5bGzuab2v8/OT3f2vUSAEDTepS5g00AQKzEJYiIbP8/zGbqatxlAEDBuDBAQDgAQOvMSJGEVwBAUkNOc2soAEACUvkYLz4AQFSi8AG7FABA7t+rABoiAEA8eBPMmNz/P2qjN9BmuP8/OrIPHy4eAEB94hhpSwcAQOM2//YISABA94JyACgyAEBmyPSbsg0AQJXJhYQRDQBAyi1sYq4VAEBS0EerLxMAQCeNqwTGFABATs1ynk+8/z/qbD3lYOb/P7EvbeSaNwBAs0STIOAXAEBdxtL9yST/P6/2oIe9qABAbzGgpDZdAUBsz3ARDcEAQHfInhZ8iQBAknpADQGRAECMbE4D76oAQOlffxlVnQBAOTABhSw0AUDhGahRRuAAQMW++WC66/8/YZgdSqY0AECSJEQL9RAAQKKkCAvi3v8/rLnf8ubW/z/NVFKoieT/P765cQd/2f8/fHuonmgSAEBby6bcEBoAQDX5HHHm9f8/FY/+5w8cAEAANn3HkgMAQGgq/XSvPv8/7W1SrRWl/z8HC0D2yUT/P+iYa0q7LP8/PjZT+9xJ/T/DnSJv2OP9PyoBP8LLoP8/h48+bveQ/j/A9sf3Ucb9P0Brj1dkMP4/7OVtJOTl/T9maW3+wl7+P2YsranTxf4/dRqykWXx/j8owJuwMmT/P0sx3zMqWv8/Ipq0QPKO/z+WhBqeAbL+P8lt82Uhof4/GRW2z648/z86uoNysc3+PyQL/+KsVP8/B8sibjDE/j/syeTdxpv+P20QtLdwtP0//ng7w69E/j+ESB28O7r6PwtOzwTvs/0/bunonx9+/D/a1eJPyJP8Px8fpCTeXfw/GyVxp1ew/T/CFHvE4Eb8PwDhBnQIbv0/GL59Jgrt+j/Y+T3y0rX6PyG8gMFtuvo/b9ft3CXB+T87KOx8vgP6P9ezqacnv/s/R4LeRlhL+z8JU+SfsBL8P/JDzFR0Lvs//SMZn/lm+z/hc7yFBuD7P2+7EyGLZPw/HDe0GDiP+z+KlG2sSRj8P/8USVfcHPw/mxW3YNpH/D/3pYKqUrr7P9Nd0Au8Z/w/ImpbbQsg/D/9Mxry15v7P8GXTfnWx/s/Ca2qOkBd/D9MpNwSHB78PzmzXxNHnfw/ybNZIFrF/D+brfa8qbT8P3icioRIKv0/LeTH+2lB/T8hWtQ9Spz9P0DRZeCYNP4/CR7tTVRz/z/1bbIhfpT+P40gRcDief4/baHQKCSs/z8xjPmZQJT/PxTERnRC0f4/y1JPj9YJ/z/QbslstEkAQN0m26xa2wBA9X10V9FA/z9qymvM/t7/P71SyihNYgBAMBR33V7WAEBOetsFg/EAQFt8o+VTNQFAs1rVjuYrAUAW6fAvlT0BQEv5Z7z86gBAWMbAk+8jAUDrKJCvJtIBQBn8kJfVFwFAm2xf6PtXAUAuSBn4BfIBQOgrlM0k0AFArmy8743sAUC/PIwAyh0BQBRwISP9wgFAO54xHI4xAkAYiHjeukwCQHhStI5jvQJAKtGVmaVJA0AUQjAx+FAEQDx1BnLztgNARAETYJR3A0C8GGG0LpUDQGdlx2pTwgNADhxoUM/8A0BVl5nqwwcEQBmwqnuLJQRAluxYlnVDBEAlh8uOhKEDQJR71pMpWANAS2MRD/mkA0C0t0ez5NcCQIHXAbkcCQNA37gze783AkCO8/IT8H8BQN59szjkAANAQld4G7Y1A0CFFf7ui/QDQIDJ3msesAJAxVy/amorA0AbZ9ipcswDQODqkTPBJQRAeumvPPNnBEBitioKW88EQJRPCwPlCAVA4Kg4JmNKBUBpPv8QZpIFQLc6exNZjwVALsl6vAsaBkD000q5DGwGQHh/TybNQwZA032JWmJsBkDDezf24K4GQHA/4PtW4QZATgU19+YPB0AWTKhhQiQHQOY6hjbe/wZAuyNkT+kSB0A=",
          "dtype": "f8"
         },
         "yaxis": "y"
        },
        {
         "line": {
          "color": "green"
         },
         "mode": "lines+markers",
         "name": "Distance over Time",
         "type": "scatter",
         "x": [
          "2024-08-20T12:31:31.621807575",
          "2024-08-20T12:31:31.681648731",
          "2024-08-20T12:31:31.742511034",
          "2024-08-20T12:31:31.818883181",
          "2024-08-20T12:31:31.874155045",
          "2024-08-20T12:31:31.937494755",
          "2024-08-20T12:31:31.999329090",
          "2024-08-20T12:31:32.063158035",
          "2024-08-20T12:31:32.130053520",
          "2024-08-20T12:31:32.191398144",
          "2024-08-20T12:31:32.254230738",
          "2024-08-20T12:31:32.318058729",
          "2024-08-20T12:31:32.395849943",
          "2024-08-20T12:31:32.445717096",
          "2024-08-20T12:31:32.511543512",
          "2024-08-20T12:31:32.576503515",
          "2024-08-20T12:31:32.637341022",
          "2024-08-20T12:31:32.702203035",
          "2024-08-20T12:31:32.768987656",
          "2024-08-20T12:31:32.829861403",
          "2024-08-20T12:31:32.894687653",
          "2024-08-20T12:31:32.962601185",
          "2024-08-20T12:31:33.025435448",
          "2024-08-20T12:31:33.088264227",
          "2024-08-20T12:31:33.151147127",
          "2024-08-20T12:31:33.218916655",
          "2024-08-20T12:31:33.280750036",
          "2024-08-20T12:31:33.342585087",
          "2024-08-20T12:31:33.407411814",
          "2024-08-20T12:31:33.484754801",
          "2024-08-20T12:31:33.533624887",
          "2024-08-20T12:31:33.610753059",
          "2024-08-20T12:31:33.671589851",
          "2024-08-20T12:31:33.730820179",
          "2024-08-20T12:31:33.790660143",
          "2024-08-20T12:31:33.854523897",
          "2024-08-20T12:31:33.919317245",
          "2024-08-20T12:31:33.984568357",
          "2024-08-20T12:31:34.048381805",
          "2024-08-20T12:31:34.117199183",
          "2024-08-20T12:31:34.183008671",
          "2024-08-20T12:31:34.237861395",
          "2024-08-20T12:31:34.303685427",
          "2024-08-20T12:31:34.367515802",
          "2024-08-20T12:31:34.431509018",
          "2024-08-20T12:31:34.508416414",
          "2024-08-20T12:31:34.565290689",
          "2024-08-20T12:31:34.624107361",
          "2024-08-20T12:31:34.686995983",
          "2024-08-20T12:31:34.749772310",
          "2024-08-20T12:31:34.822613001",
          "2024-08-20T12:31:34.882473946",
          "2024-08-20T12:31:34.943256378",
          "2024-08-20T12:31:35.006085634",
          "2024-08-20T12:31:35.075951576",
          "2024-08-20T12:31:35.139728308",
          "2024-08-20T12:31:35.197573662",
          "2024-08-20T12:31:35.264425278",
          "2024-08-20T12:31:35.328751326",
          "2024-08-20T12:31:35.404547215",
          "2024-08-20T12:31:35.454563379",
          "2024-08-20T12:31:35.522747992",
          "2024-08-20T12:31:35.597547531",
          "2024-08-20T12:31:35.666362762",
          "2024-08-20T12:31:35.716230869",
          "2024-08-20T12:31:35.779061317",
          "2024-08-20T12:31:35.839905977",
          "2024-08-20T12:31:35.902730942",
          "2024-08-20T12:31:35.968554974",
          "2024-08-20T12:31:36.034378290",
          "2024-08-20T12:31:36.146079779",
          "2024-08-20T12:31:36.202927351",
          "2024-08-20T12:31:36.253791808",
          "2024-08-20T12:31:36.310640812",
          "2024-08-20T12:31:36.362536430",
          "2024-08-20T12:31:36.415360451",
          "2024-08-20T12:31:36.612915516",
          "2024-08-20T12:31:36.629870653",
          "2024-08-20T12:31:36.686092138",
          "2024-08-20T12:31:36.731478691",
          "2024-08-20T12:31:36.792353392",
          "2024-08-20T12:31:36.835259199",
          "2024-08-20T12:31:36.882076502",
          "2024-08-20T12:31:36.930180311",
          "2024-08-20T12:31:36.995010138",
          "2024-08-20T12:31:37.057901382",
          "2024-08-20T12:31:37.120796442",
          "2024-08-20T12:31:37.190546751",
          "2024-08-20T12:31:37.245904446",
          "2024-08-20T12:31:37.310695887",
          "2024-08-20T12:31:37.375525713",
          "2024-08-20T12:31:37.443047285",
          "2024-08-20T12:31:37.501889229",
          "2024-08-20T12:31:37.570401907",
          "2024-08-20T12:31:37.634161472",
          "2024-08-20T12:31:37.698097229",
          "2024-08-20T12:31:37.760633230",
          "2024-08-20T12:31:37.822077274",
          "2024-08-20T12:31:37.890928745",
          "2024-08-20T12:31:37.950802088",
          "2024-08-20T12:31:38.016170025",
          "2024-08-20T12:31:38.079568386",
          "2024-08-20T12:31:38.144387484",
          "2024-08-20T12:31:38.206281900",
          "2024-08-20T12:31:38.272046804",
          "2024-08-20T12:31:38.335875273",
          "2024-08-20T12:31:38.399709225",
          "2024-08-20T12:31:38.464562416",
          "2024-08-20T12:31:38.526404619",
          "2024-08-20T12:31:38.595264912",
          "2024-08-20T12:31:38.654108047",
          "2024-08-20T12:31:38.719931841",
          "2024-08-20T12:31:38.783764362",
          "2024-08-20T12:31:38.857566357",
          "2024-08-20T12:31:38.911419630",
          "2024-08-20T12:31:38.976246357",
          "2024-08-20T12:31:39.042104006",
          "2024-08-20T12:31:39.101980925",
          "2024-08-20T12:31:39.166769743",
          "2024-08-20T12:31:39.232593060",
          "2024-08-20T12:31:39.297420025",
          "2024-08-20T12:31:39.361249447",
          "2024-08-20T12:31:39.423182011",
          "2024-08-20T12:31:39.490002155",
          "2024-08-20T12:31:39.549880981",
          "2024-08-20T12:31:39.614220381",
          "2024-08-20T12:31:39.680010796",
          "2024-08-20T12:31:39.748333454",
          "2024-08-20T12:31:39.812162876",
          "2024-08-20T12:31:39.877536774",
          "2024-08-20T12:31:40.073243380",
          "2024-08-20T12:31:40.086207151",
          "2024-08-20T12:31:40.148041010",
          "2024-08-20T12:31:40.191923618",
          "2024-08-20T12:31:40.237802505",
          "2024-08-20T12:31:40.300632715",
          "2024-08-20T12:31:40.345512867",
          "2024-08-20T12:31:40.391391993",
          "2024-08-20T12:31:40.451229811",
          "2024-08-20T12:31:40.517088412",
          "2024-08-20T12:31:40.581882000",
          "2024-08-20T12:31:40.639754295",
          "2024-08-20T12:31:40.703556538",
          "2024-08-20T12:31:40.769875050",
          "2024-08-20T12:31:40.833705902",
          "2024-08-20T12:31:40.910538912",
          "2024-08-20T12:31:40.974536657",
          "2024-08-20T12:31:41.029807091",
          "2024-08-20T12:31:41.085696697",
          "2024-08-20T12:31:41.153585434",
          "2024-08-20T12:31:41.224370241",
          "2024-08-20T12:31:41.289196968",
          "2024-08-20T12:31:41.349036694",
          "2024-08-20T12:31:41.405884266",
          "2024-08-20T12:31:41.472689152",
          "2024-08-20T12:31:41.540507078",
          "2024-08-20T12:31:41.601395369",
          "2024-08-20T12:31:41.668616772",
          "2024-08-20T12:31:41.727491379",
          "2024-08-20T12:31:41.791326761",
          "2024-08-20T12:31:41.859107018",
          "2024-08-20T12:31:41.926977396",
          "2024-08-20T12:31:41.982784510",
          "2024-08-20T12:31:42.058573484",
          "2024-08-20T12:31:42.111595631",
          "2024-08-20T12:31:42.179451942",
          "2024-08-20T12:31:42.239253283",
          "2024-08-20T12:31:42.305081129",
          "2024-08-20T12:31:42.369940758",
          "2024-08-20T12:31:42.492574692",
          "2024-08-20T12:31:42.547464371",
          "2024-08-20T12:31:42.607268095",
          "2024-08-20T12:31:42.656136990",
          "2024-08-20T12:31:42.714980364",
          "2024-08-20T12:31:42.763849974",
          "2024-08-20T12:31:42.821695328",
          "2024-08-20T12:31:42.879108429",
          "2024-08-20T12:31:42.943912029",
          "2024-08-20T12:31:43.009702921",
          "2024-08-20T12:31:43.071511984",
          "2024-08-20T12:31:43.133901834",
          "2024-08-20T12:31:43.203717709",
          "2024-08-20T12:31:43.261597157",
          "2024-08-20T12:31:43.326387167",
          "2024-08-20T12:31:43.394617081",
          "2024-08-20T12:31:43.464424372",
          "2024-08-20T12:31:43.518105029",
          "2024-08-20T12:31:43.583888292",
          "2024-08-20T12:31:43.646115065",
          "2024-08-20T12:31:43.712907553",
          "2024-08-20T12:31:43.773782730",
          "2024-08-20T12:31:43.840597391",
          "2024-08-20T12:31:43.906425953",
          "2024-08-20T12:31:43.967237234",
          "2024-08-20T12:31:44.030067205",
          "2024-08-20T12:31:44.103466988",
          "2024-08-20T12:31:44.162308455",
          "2024-08-20T12:31:44.223145008",
          "2024-08-20T12:31:44.291014671",
          "2024-08-20T12:31:44.349857092",
          "2024-08-20T12:31:44.415681124",
          "2024-08-20T12:31:44.479695797",
          "2024-08-20T12:31:44.542475224",
          "2024-08-20T12:31:44.613296270",
          "2024-08-20T12:31:44.672163725",
          "2024-08-20T12:31:44.734963417",
          "2024-08-20T12:31:44.800783157",
          "2024-08-20T12:31:44.875235319",
          "2024-08-20T12:31:44.934039116",
          "2024-08-20T12:31:44.991886139",
          "2024-08-20T12:31:45.054715633",
          "2024-08-20T12:31:45.123562574",
          "2024-08-20T12:31:45.184406042",
          "2024-08-20T12:31:45.253189325",
          "2024-08-20T12:31:45.314022064",
          "2024-08-20T12:31:45.391814232",
          "2024-08-20T12:31:45.503517866",
          "2024-08-20T12:31:45.563381672",
          "2024-08-20T12:31:45.625192165",
          "2024-08-20T12:31:45.689467907",
          "2024-08-20T12:31:45.743281364",
          "2024-08-20T12:31:45.799130917",
          "2024-08-20T12:31:45.849994183",
          "2024-08-20T12:31:45.911336899",
          "2024-08-20T12:31:45.973172188",
          "2024-08-20T12:31:46.031045198",
          "2024-08-20T12:31:46.077892065",
          "2024-08-20T12:31:46.141758204",
          "2024-08-20T12:31:46.209540129",
          "2024-08-20T12:31:46.271375179",
          "2024-08-20T12:31:46.336202383",
          "2024-08-20T12:31:46.402061224",
          "2024-08-20T12:31:46.463126421",
          "2024-08-20T12:31:46.525985479",
          "2024-08-20T12:31:46.593837023",
          "2024-08-20T12:31:46.663606167",
          "2024-08-20T12:31:46.721510649",
          "2024-08-20T12:31:46.782323599",
          "2024-08-20T12:31:46.850108624",
          "2024-08-20T12:31:46.921957970",
          "2024-08-20T12:31:46.977843285",
          "2024-08-20T12:31:47.038705826",
          "2024-08-20T12:31:47.102475882",
          "2024-08-20T12:31:47.169295788",
          "2024-08-20T12:31:47.230172157",
          "2024-08-20T12:31:47.304938078",
          "2024-08-20T12:31:47.368804932",
          "2024-08-20T12:31:47.427606583",
          "2024-08-20T12:31:47.491471767",
          "2024-08-20T12:31:47.555302143",
          "2024-08-20T12:31:47.623177528",
          "2024-08-20T12:31:47.811676741",
          "2024-08-20T12:31:47.827633619",
          "2024-08-20T12:31:47.877500534",
          "2024-08-20T12:31:47.938337326",
          "2024-08-20T12:31:47.984474659",
          "2024-08-20T12:31:48.027358532",
          "2024-08-20T12:31:48.088195324",
          "2024-08-20T12:31:48.136068344",
          "2024-08-20T12:31:48.191809654",
          "2024-08-20T12:31:48.256190538",
          "2024-08-20T12:31:48.321072102",
          "2024-08-20T12:31:48.382852077",
          "2024-08-20T12:31:48.445721865",
          "2024-08-20T12:31:48.511081219",
          "2024-08-20T12:31:48.576905251",
          "2024-08-20T12:31:48.638738394",
          "2024-08-20T12:31:48.701770544",
          "2024-08-20T12:31:48.774565697",
          "2024-08-20T12:31:48.831388712",
          "2024-08-20T12:31:48.893730640",
          "2024-08-20T12:31:48.961057901",
          "2024-08-20T12:31:49.028914213",
          "2024-08-20T12:31:49.090711117",
          "2024-08-20T12:31:49.154539824",
          "2024-08-20T12:31:49.213383436",
          "2024-08-20T12:31:49.279206991",
          "2024-08-20T12:31:49.345029116",
          "2024-08-20T12:31:49.405867100",
          "2024-08-20T12:31:49.473721266",
          "2024-08-20T12:31:49.545494080",
          "2024-08-20T12:31:49.602399588",
          "2024-08-20T12:31:49.663179159",
          "2024-08-20T12:31:49.729102612",
          "2024-08-20T12:31:49.791011810",
          "2024-08-20T12:31:49.853843212",
          "2024-08-20T12:31:49.919657946",
          "2024-08-20T12:31:49.983487844",
          "2024-08-20T12:31:50.046319723",
          "2024-08-20T12:31:50.110692024",
          "2024-08-20T12:31:50.174520016",
          "2024-08-20T12:31:50.238417864",
          "2024-08-20T12:31:50.303511620",
          "2024-08-20T12:31:50.366343737",
          "2024-08-20T12:31:50.432175159",
          "2024-08-20T12:31:50.505977631",
          "2024-08-20T12:31:50.560830355",
          "2024-08-20T12:31:50.670942068",
          "2024-08-20T12:31:50.726747036",
          "2024-08-20T12:31:50.789601564",
          "2024-08-20T12:31:50.825510979",
          "2024-08-20T12:31:50.890295744",
          "2024-08-20T12:31:50.943155289",
          "2024-08-20T12:31:51.012972832",
          "2024-08-20T12:31:51.074837446",
          "2024-08-20T12:31:51.134642601",
          "2024-08-20T12:31:51.200467348",
          "2024-08-20T12:31:51.273272991",
          "2024-08-20T12:31:51.336102962",
          "2024-08-20T12:31:51.389957905",
          "2024-08-20T12:31:51.454820395",
          "2024-08-20T12:31:51.517674922",
          "2024-08-20T12:31:51.586463928",
          "2024-08-20T12:31:51.646686554",
          "2024-08-20T12:31:51.712054014",
          "2024-08-20T12:31:51.782867193",
          "2024-08-20T12:31:51.838715792",
          "2024-08-20T12:31:51.903051376",
          "2024-08-20T12:31:51.967877626",
          "2024-08-20T12:31:52.030061007",
          "2024-08-20T12:31:52.102158070",
          "2024-08-20T12:31:52.168978691",
          "2024-08-20T12:31:52.222800970",
          "2024-08-20T12:31:52.292626858",
          "2024-08-20T12:31:52.351458549",
          "2024-08-20T12:31:52.418277025",
          "2024-08-20T12:31:52.481150866",
          "2024-08-20T12:31:52.541553497",
          "2024-08-20T12:31:52.606345415",
          "2024-08-20T12:31:52.673228025",
          "2024-08-20T12:31:52.735998154",
          "2024-08-20T12:31:52.798882484",
          "2024-08-20T12:31:52.862711668",
          "2024-08-20T12:31:52.927570105",
          "2024-08-20T12:31:52.990370035",
          "2024-08-20T12:31:53.070696592",
          "2024-08-20T12:31:53.131572007",
          "2024-08-20T12:31:53.195363998",
          "2024-08-20T12:31:53.245267153",
          "2024-08-20T12:31:53.310670376",
          "2024-08-20T12:31:53.375495911",
          "2024-08-20T12:31:53.440849304",
          "2024-08-20T12:31:53.502685069",
          "2024-08-20T12:31:53.581473112",
          "2024-08-20T12:31:53.671237707",
          "2024-08-20T12:31:53.730012655",
          "2024-08-20T12:31:53.778313637",
          "2024-08-20T12:31:53.833030939",
          "2024-08-20T12:31:53.893876076",
          "2024-08-20T12:31:53.949759483",
          "2024-08-20T12:31:54.014583826",
          "2024-08-20T12:31:54.080477238",
          "2024-08-20T12:31:54.146250486",
          "2024-08-20T12:31:54.208119631",
          "2024-08-20T12:31:54.272945881",
          "2024-08-20T12:31:54.337438822",
          "2024-08-20T12:31:54.401267767",
          "2024-08-20T12:31:54.464104652",
          "2024-08-20T12:31:54.525992393",
          "2024-08-20T12:31:54.604726553",
          "2024-08-20T12:31:54.660574675",
          "2024-08-20T12:31:54.717456818",
          "2024-08-20T12:31:54.788233280",
          "2024-08-20T12:31:54.846078873",
          "2024-08-20T12:31:54.909790993",
          "2024-08-20T12:31:54.976554394",
          "2024-08-20T12:31:55.039385557",
          "2024-08-20T12:31:55.105245590",
          "2024-08-20T12:31:55.171085119",
          "2024-08-20T12:31:55.230873108",
          "2024-08-20T12:31:55.299697399",
          "2024-08-20T12:31:55.362556934",
          "2024-08-20T12:31:55.429852486",
          "2024-08-20T12:31:55.490688562",
          "2024-08-20T12:31:55.549531460",
          "2024-08-20T12:31:55.615355253",
          "2024-08-20T12:31:55.682177305",
          "2024-08-20T12:31:55.744011879",
          "2024-08-20T12:31:55.807841063",
          "2024-08-20T12:31:55.870673656",
          "2024-08-20T12:31:55.949462414",
          "2024-08-20T12:31:56.003352642",
          "2024-08-20T12:31:56.067021132",
          "2024-08-20T12:31:56.125862597",
          "2024-08-20T12:31:56.193681240",
          "2024-08-20T12:31:56.253522635",
          "2024-08-20T12:31:56.318383694",
          "2024-08-20T12:31:56.386166811",
          "2024-08-20T12:31:56.448000908",
          "2024-08-20T12:31:56.512829065",
          "2024-08-20T12:31:56.583638668",
          "2024-08-20T12:31:56.640494585",
          "2024-08-20T12:31:56.703325510",
          "2024-08-20T12:31:56.767193556",
          "2024-08-20T12:31:56.835482836",
          "2024-08-20T12:31:56.902304649",
          "2024-08-20T12:31:56.962438345",
          "2024-08-20T12:31:57.025873184",
          "2024-08-20T12:31:57.087665081",
          "2024-08-20T12:31:57.154531956",
          "2024-08-20T12:31:57.214373350",
          "2024-08-20T12:31:57.293160200",
          "2024-08-20T12:31:57.345025063",
          "2024-08-20T12:31:57.412839890",
          "2024-08-20T12:31:57.473701954",
          "2024-08-20T12:31:57.534539223",
          "2024-08-20T12:31:57.604353428",
          "2024-08-20T12:31:57.663195133",
          "2024-08-20T12:31:57.726027727",
          "2024-08-20T12:31:57.791850805",
          "2024-08-20T12:31:57.855682135",
          "2024-08-20T12:31:57.919509649",
          "2024-08-20T12:31:57.984847546",
          "2024-08-20T12:31:58.048672438",
          "2024-08-20T12:31:58.114497423",
          "2024-08-20T12:31:58.232179642",
          "2024-08-20T12:31:58.303023338",
          "2024-08-20T12:31:58.362874031",
          "2024-08-20T12:31:58.422821522",
          "2024-08-20T12:31:58.476673603",
          "2024-08-20T12:31:58.501605749",
          "2024-08-20T12:31:58.569931507",
          "2024-08-20T12:31:58.628283978",
          "2024-08-20T12:31:58.687161207",
          "2024-08-20T12:31:58.754455805",
          "2024-08-20T12:31:58.874644995",
          "2024-08-20T12:31:58.942510366",
          "2024-08-20T12:31:59.005335093",
          "2024-08-20T12:31:59.067801952",
          "2024-08-20T12:31:59.130631208",
          "2024-08-20T12:31:59.181493998",
          "2024-08-20T12:31:59.239844561",
          "2024-08-20T12:31:59.299728394",
          "2024-08-20T12:31:59.346602917",
          "2024-08-20T12:31:59.392479658",
          "2024-08-20T12:31:59.455312490",
          "2024-08-20T12:31:59.519181966",
          "2024-08-20T12:31:59.584981441",
          "2024-08-20T12:31:59.647796392",
          "2024-08-20T12:31:59.710932016",
          "2024-08-20T12:31:59.783735514",
          "2024-08-20T12:31:59.839586020",
          "2024-08-20T12:31:59.903450012",
          "2024-08-20T12:31:59.966248512",
          "2024-08-20T12:32:00.031110048",
          "2024-08-20T12:32:00.101887941",
          "2024-08-20T12:32:00.159729958",
          "2024-08-20T12:32:00.222562075",
          "2024-08-20T12:32:00.287391663",
          "2024-08-20T12:32:00.352120399",
          "2024-08-20T12:32:00.413935184",
          "2024-08-20T12:32:00.478729010",
          "2024-08-20T12:32:00.542225122",
          "2024-08-20T12:32:00.610045195",
          "2024-08-20T12:32:00.671614647",
          "2024-08-20T12:32:00.735095501",
          "2024-08-20T12:32:00.799942493",
          "2024-08-20T12:32:00.863315344",
          "2024-08-20T12:32:00.928106546",
          "2024-08-20T12:32:01.008890390",
          "2024-08-20T12:32:01.070760727",
          "2024-08-20T12:32:01.117598772",
          "2024-08-20T12:32:01.181464672",
          "2024-08-20T12:32:01.245420218",
          "2024-08-20T12:32:01.314198017",
          "2024-08-20T12:32:01.377030849",
          "2024-08-20T12:32:01.439896584",
          "2024-08-20T12:32:01.512666941",
          "2024-08-20T12:32:01.589461088",
          "2024-08-20T12:32:01.634341002",
          "2024-08-20T12:32:01.695178032",
          "2024-08-20T12:32:01.761003256",
          "2024-08-20T12:32:01.821839809",
          "2024-08-20T12:32:01.885703325",
          "2024-08-20T12:32:01.950496435",
          "2024-08-20T12:32:02.016355275",
          "2024-08-20T12:32:02.079560041",
          "2024-08-20T12:32:02.147934437",
          "2024-08-20T12:32:02.205846548",
          "2024-08-20T12:32:02.270641804",
          "2024-08-20T12:32:02.344480515",
          "2024-08-20T12:32:02.461406469",
          "2024-08-20T12:32:02.517229556",
          "2024-08-20T12:32:02.564082146",
          "2024-08-20T12:32:02.629870892",
          "2024-08-20T12:32:02.699684858",
          "2024-08-20T12:32:02.746571541",
          "2024-08-20T12:32:02.795462847",
          "2024-08-20T12:32:02.853273153",
          "2024-08-20T12:32:02.914112091",
          "2024-08-20T12:32:02.973954678",
          "2024-08-20T12:32:03.051743984",
          "2024-08-20T12:32:03.102615833",
          "2024-08-20T12:32:03.168430090",
          "2024-08-20T12:32:03.248250484",
          "2024-08-20T12:32:03.296088934",
          "2024-08-20T12:32:03.361934662",
          "2024-08-20T12:32:03.423750877",
          "2024-08-20T12:32:03.487687349",
          "2024-08-20T12:32:03.550518513",
          "2024-08-20T12:32:03.618339300",
          "2024-08-20T12:32:03.692140341",
          "2024-08-20T12:32:03.742039919",
          "2024-08-20T12:32:03.805836201",
          "2024-08-20T12:32:03.872937918",
          "2024-08-20T12:32:03.934771776",
          "2024-08-20T12:32:04.138708115",
          "2024-08-20T12:32:04.162652016",
          "2024-08-20T12:32:04.215462923",
          "2024-08-20T12:32:04.261340141",
          "2024-08-20T12:32:04.305223465",
          "2024-08-20T12:32:04.367092133",
          "2024-08-20T12:32:04.410940409",
          "2024-08-20T12:32:04.457854271",
          "2024-08-20T12:32:04.517654896",
          "2024-08-20T12:32:04.580527544",
          "2024-08-20T12:32:04.637335539",
          "2024-08-20T12:32:04.706151247",
          "2024-08-20T12:32:04.765990496",
          "2024-08-20T12:32:04.830850601",
          "2024-08-20T12:32:04.894646168",
          "2024-08-20T12:32:04.958475590",
          "2024-08-20T12:32:05.028358459",
          "2024-08-20T12:32:05.090869427",
          "2024-08-20T12:32:05.155694008",
          "2024-08-20T12:32:05.220520258",
          "2024-08-20T12:32:05.280360222",
          "2024-08-20T12:32:05.344203472",
          "2024-08-20T12:32:05.416617870",
          "2024-08-20T12:32:05.473434925",
          "2024-08-20T12:32:05.533270836",
          "2024-08-20T12:32:05.599692583",
          "2024-08-20T12:32:05.668574572",
          "2024-08-20T12:32:05.727350950",
          "2024-08-20T12:32:05.791183472",
          "2024-08-20T12:32:05.854014158",
          "2024-08-20T12:32:05.924823761",
          "2024-08-20T12:32:05.983665466",
          "2024-08-20T12:32:06.046497345",
          "2024-08-20T12:32:06.113318920",
          "2024-08-20T12:32:06.185126543",
          "2024-08-20T12:32:06.244966507",
          "2024-08-20T12:32:06.305804491",
          "2024-08-20T12:32:06.427478552",
          "2024-08-20T12:32:06.476348162",
          "2024-08-20T12:32:06.519232987",
          "2024-08-20T12:32:06.580214500",
          "2024-08-20T12:32:06.640358686",
          "2024-08-20T12:32:06.689215422",
          "2024-08-20T12:32:06.750109673",
          "2024-08-20T12:32:06.817869663",
          "2024-08-20T12:32:06.883101940",
          "2024-08-20T12:32:06.941977024",
          "2024-08-20T12:32:07.051910162",
          "2024-08-20T12:32:07.107870817",
          "2024-08-20T12:32:07.159778595",
          "2024-08-20T12:32:07.225763559",
          "2024-08-20T12:32:07.280441046",
          "2024-08-20T12:32:07.327314854",
          "2024-08-20T12:32:07.392040730",
          "2024-08-20T12:32:07.453844547",
          "2024-08-20T12:32:07.519663572",
          "2024-08-20T12:32:07.585496664",
          "2024-08-20T12:32:07.646383524",
          "2024-08-20T12:32:07.712150097",
          "2024-08-20T12:32:07.776016474",
          "2024-08-20T12:32:07.839809179",
          "2024-08-20T12:32:07.902639627",
          "2024-08-20T12:32:07.965471029",
          "2024-08-20T12:32:08.032032250",
          "2024-08-20T12:32:08.093867064",
          "2024-08-20T12:32:08.167701006",
          "2024-08-20T12:32:08.227540970",
          "2024-08-20T12:32:08.295396090",
          "2024-08-20T12:32:08.349215508",
          "2024-08-20T12:32:08.416072607",
          "2024-08-20T12:32:08.480871439",
          "2024-08-20T12:32:08.542946577",
          "2024-08-20T12:32:08.606839895",
          "2024-08-20T12:32:08.670669317",
          "2024-08-20T12:32:08.748494625",
          "2024-08-20T12:32:08.810294867",
          "2024-08-20T12:32:08.870174646",
          "2024-08-20T12:32:08.929901600",
          "2024-08-20T12:32:08.990741253",
          "2024-08-20T12:32:09.054567575",
          "2024-08-20T12:32:09.119748592",
          "2024-08-20T12:32:09.183618307",
          "2024-08-20T12:32:09.246409178",
          "2024-08-20T12:32:09.310237885",
          "2024-08-20T12:32:09.376274586",
          "2024-08-20T12:32:09.444119215",
          "2024-08-20T12:32:09.505930185",
          "2024-08-20T12:32:09.570753813",
          "2024-08-20T12:32:09.633613825",
          "2024-08-20T12:32:09.695421457",
          "2024-08-20T12:32:09.758251190",
          "2024-08-20T12:32:09.823078632",
          "2024-08-20T12:32:09.892893553",
          "2024-08-20T12:32:09.950737238",
          "2024-08-20T12:32:10.014777422",
          "2024-08-20T12:32:10.086585045",
          "2024-08-20T12:32:10.141972303",
          "2024-08-20T12:32:10.210790157",
          "2024-08-20T12:32:10.270623446",
          "2024-08-20T12:32:10.334451199",
          "2024-08-20T12:32:10.401107311",
          "2024-08-20T12:32:10.475941658",
          "2024-08-20T12:32:10.526770592",
          "2024-08-20T12:32:10.592339277",
          "2024-08-20T12:32:10.654148579",
          "2024-08-20T12:32:10.718975782",
          "2024-08-20T12:32:10.782802105",
          "2024-08-20T12:32:10.848627567",
          "2024-08-20T12:32:10.910460711",
          "2024-08-20T12:32:10.977282286",
          "2024-08-20T12:32:11.039152861",
          "2024-08-20T12:32:11.103947401",
          "2024-08-20T12:32:11.167773247",
          "2024-08-20T12:32:11.229755402",
          "2024-08-20T12:32:11.300566435",
          "2024-08-20T12:32:11.360479593",
          "2024-08-20T12:32:11.429301023",
          "2024-08-20T12:32:11.491092443",
          "2024-08-20T12:32:11.549935341",
          "2024-08-20T12:32:11.614765167",
          "2024-08-20T12:32:11.678591490",
          "2024-08-20T12:32:11.881561279",
          "2024-08-20T12:32:11.898514748",
          "2024-08-20T12:32:11.957359314",
          "2024-08-20T12:32:12.000243187",
          "2024-08-20T12:32:12.059998989",
          "2024-08-20T12:32:12.107871294",
          "2024-08-20T12:32:12.150756359",
          "2024-08-20T12:32:12.212984085",
          "2024-08-20T12:32:12.266843080",
          "2024-08-20T12:32:12.333659649",
          "2024-08-20T12:32:12.400614738",
          "2024-08-20T12:32:12.452477217",
          "2024-08-20T12:32:12.509835005",
          "2024-08-20T12:32:12.584639788",
          "2024-08-20T12:32:12.639522791",
          "2024-08-20T12:32:12.704347134",
          "2024-08-20T12:32:12.766216516",
          "2024-08-20T12:32:12.831049442",
          "2024-08-20T12:32:12.897837639",
          "2024-08-20T12:32:12.957735538",
          "2024-08-20T12:32:13.023500681",
          "2024-08-20T12:32:13.087365866",
          "2024-08-20T12:32:13.162170649",
          "2024-08-20T12:32:13.215023041",
          "2024-08-20T12:32:13.280812502",
          "2024-08-20T12:32:13.341650486",
          "2024-08-20T12:32:13.405478477",
          "2024-08-20T12:32:13.470162392",
          "2024-08-20T12:32:13.536520719",
          "2024-08-20T12:32:13.601319313",
          "2024-08-20T12:32:13.662052870",
          "2024-08-20T12:32:13.725847721",
          "2024-08-20T12:32:13.791673660",
          "2024-08-20T12:32:13.853515148",
          "2024-08-20T12:32:13.930917978",
          "2024-08-20T12:32:13.993786335",
          "2024-08-20T12:32:14.059574604",
          "2024-08-20T12:32:14.110471010",
          "2024-08-20T12:32:14.175262690",
          "2024-08-20T12:32:14.239600658",
          "2024-08-20T12:32:14.304803610",
          "2024-08-20T12:32:14.370627165",
          "2024-08-20T12:32:14.430467367",
          "2024-08-20T12:32:14.494708300",
          "2024-08-20T12:32:14.558565378",
          "2024-08-20T12:32:14.631342411",
          "2024-08-20T12:32:14.685559273",
          "2024-08-20T12:32:14.750857830",
          "2024-08-20T12:32:14.813715219",
          "2024-08-20T12:32:14.879512548",
          "2024-08-20T12:32:14.945337057",
          "2024-08-20T12:32:15.009166241",
          "2024-08-20T12:32:15.070513248",
          "2024-08-20T12:32:15.136845350",
          "2024-08-20T12:32:15.243623495",
          "2024-08-20T12:32:15.292493105",
          "2024-08-20T12:32:15.336418152",
          "2024-08-20T12:32:15.403240204",
          "2024-08-20T12:32:15.460046530",
          "2024-08-20T12:32:15.519924878",
          "2024-08-20T12:32:15.582721472",
          "2024-08-20T12:32:15.646606445",
          "2024-08-20T12:32:15.718358517",
          "2024-08-20T12:32:15.777199030",
          "2024-08-20T12:32:15.840064526",
          "2024-08-20T12:32:15.907848120",
          "2024-08-20T12:32:15.965693712",
          "2024-08-20T12:32:16.031555175",
          "2024-08-20T12:32:16.096345186",
          "2024-08-20T12:32:16.159226656",
          "2024-08-20T12:32:16.222518921",
          "2024-08-20T12:32:16.286342859",
          "2024-08-20T12:32:16.351169825",
          "2024-08-20T12:32:16.413003683",
          "2024-08-20T12:32:16.480856419",
          "2024-08-20T12:32:16.542655945",
          "2024-08-20T12:32:16.610476255",
          "2024-08-20T12:32:16.670314550",
          "2024-08-20T12:32:16.734145641",
          "2024-08-20T12:32:16.799000502",
          "2024-08-20T12:32:16.881431103",
          "2024-08-20T12:32:16.929389238",
          "2024-08-20T12:32:16.989288330",
          "2024-08-20T12:32:17.056051016",
          "2024-08-20T12:32:17.117888451",
          "2024-08-20T12:32:17.183228970",
          "2024-08-20T12:32:17.246451139",
          "2024-08-20T12:32:17.311335325",
          "2024-08-20T12:32:17.374109983",
          "2024-08-20T12:32:17.440968990",
          "2024-08-20T12:32:17.502764702",
          "2024-08-20T12:32:17.568790674",
          "2024-08-20T12:32:17.629988670",
          "2024-08-20T12:32:17.707792282",
          "2024-08-20T12:32:17.769598246",
          "2024-08-20T12:32:17.823451996",
          "2024-08-20T12:32:17.886348248",
          "2024-08-20T12:32:17.957094431",
          "2024-08-20T12:32:18.015938759",
          "2024-08-20T12:32:18.084788322",
          "2024-08-20T12:32:18.142599106",
          "2024-08-20T12:32:18.207425594",
          "2024-08-20T12:32:18.270257473",
          "2024-08-20T12:32:18.335122108",
          "2024-08-20T12:32:18.399975538",
          "2024-08-20T12:32:18.470842600",
          "2024-08-20T12:32:18.525648832",
          "2024-08-20T12:32:18.590513945",
          "2024-08-20T12:32:18.657296419",
          "2024-08-20T12:32:18.718192339",
          "2024-08-20T12:32:18.782960415",
          "2024-08-20T12:32:18.847694159",
          "2024-08-20T12:32:18.910487652",
          "2024-08-20T12:32:18.975023031",
          "2024-08-20T12:32:19.037863016",
          "2024-08-20T12:32:19.103645325",
          "2024-08-20T12:32:19.172459364",
          "2024-08-20T12:32:19.240307093",
          "2024-08-20T12:32:19.297124147",
          "2024-08-20T12:32:19.359956264",
          "2024-08-20T12:32:19.425780773",
          "2024-08-20T12:32:19.623049498",
          "2024-08-20T12:32:19.641996622",
          "2024-08-20T12:32:19.698847055",
          "2024-08-20T12:32:19.756545067",
          "2024-08-20T12:32:19.804416180",
          "2024-08-20T12:32:19.850294828",
          "2024-08-20T12:32:19.894176245",
          "2024-08-20T12:32:19.955012321",
          "2024-08-20T12:32:20.001924038",
          "2024-08-20T12:32:20.070703506",
          "2024-08-20T12:32:20.132539988",
          "2024-08-20T12:32:20.191419840",
          "2024-08-20T12:32:20.262194872",
          "2024-08-20T12:32:20.322516203",
          "2024-08-20T12:32:20.387259722",
          "2024-08-20T12:32:20.446102619",
          "2024-08-20T12:32:20.520902157",
          "2024-08-20T12:32:20.584731817",
          "2024-08-20T12:32:20.653100014",
          "2024-08-20T12:32:20.706911802",
          "2024-08-20T12:32:20.771246910",
          "2024-08-20T12:32:20.832086563",
          "2024-08-20T12:32:20.895421505",
          "2024-08-20T12:32:20.959251165",
          "2024-08-20T12:32:21.024112225",
          "2024-08-20T12:32:21.086937666",
          "2024-08-20T12:32:21.150739670",
          "2024-08-20T12:32:21.215182066",
          "2024-08-20T12:32:21.288241148",
          "2024-08-20T12:32:21.342065573",
          "2024-08-20T12:32:21.407263279",
          "2024-08-20T12:32:21.483011246",
          "2024-08-20T12:32:21.532878399",
          "2024-08-20T12:32:21.599734306",
          "2024-08-20T12:32:21.667518377",
          "2024-08-20T12:32:21.730396748",
          "2024-08-20T12:32:21.791186571",
          "2024-08-20T12:32:21.855018854",
          "2024-08-20T12:32:21.920847893",
          "2024-08-20T12:32:21.982674122",
          "2024-08-20T12:32:22.189171791",
          "2024-08-20T12:32:22.202137947",
          "2024-08-20T12:32:22.256990194",
          "2024-08-20T12:32:22.320201874",
          "2024-08-20T12:32:22.365945339",
          "2024-08-20T12:32:22.409827948",
          "2024-08-20T12:32:22.457733631",
          "2024-08-20T12:32:22.516542673",
          "2024-08-20T12:32:22.564417124",
          "2024-08-20T12:32:22.622356653",
          "2024-08-20T12:32:22.687514067",
          "2024-08-20T12:32:22.750309229",
          "2024-08-20T12:32:22.818037748",
          "2024-08-20T12:32:22.886855364",
          "2024-08-20T12:32:22.941748381",
          "2024-08-20T12:32:23.005697012",
          "2024-08-20T12:32:23.077054977",
          "2024-08-20T12:32:23.133903503",
          "2024-08-20T12:32:23.235785723",
          "2024-08-20T12:32:23.298555374",
          "2024-08-20T12:32:23.360395193",
          "2024-08-20T12:32:23.415242434",
          "2024-08-20T12:32:23.455136061",
          "2024-08-20T12:32:23.520959139",
          "2024-08-20T12:32:23.591769695",
          "2024-08-20T12:32:23.645626307",
          "2024-08-20T12:32:23.709454775",
          "2024-08-20T12:32:23.781263590",
          "2024-08-20T12:32:23.837112904",
          "2024-08-20T12:32:23.903935671",
          "2024-08-20T12:32:23.965770245",
          "2024-08-20T12:32:24.034584522",
          "2024-08-20T12:32:24.102404833",
          "2024-08-20T12:32:24.158255816",
          "2024-08-20T12:32:24.223082304",
          "2024-08-20T12:32:24.300907373",
          "2024-08-20T12:32:24.357778549",
          "2024-08-20T12:32:24.416562796",
          "2024-08-20T12:32:24.479396105",
          "2024-08-20T12:32:24.543224573",
          "2024-08-20T12:32:24.606056452",
          "2024-08-20T12:32:24.671190023",
          "2024-08-20T12:32:24.737014294",
          "2024-08-20T12:32:24.801352024",
          "2024-08-20T12:32:24.864221811",
          "2024-08-20T12:32:24.932000160",
          "2024-08-20T12:32:24.992837667",
          "2024-08-20T12:32:25.054672956",
          "2024-08-20T12:32:25.118500710",
          "2024-08-20T12:32:25.195301294",
          "2024-08-20T12:32:25.253140926",
          "2024-08-20T12:32:25.311498642",
          "2024-08-20T12:32:25.375326633",
          "2024-08-20T12:32:25.440153599",
          "2024-08-20T12:32:25.641125202",
          "2024-08-20T12:32:25.657083750",
          "2024-08-20T12:32:25.720910788",
          "2024-08-20T12:32:25.765789747",
          "2024-08-20T12:32:25.811667442",
          "2024-08-20T12:32:25.873502493",
          "2024-08-20T12:32:25.917384863",
          "2024-08-20T12:32:25.965266705",
          "2024-08-20T12:32:26.015124083",
          "2024-08-20T12:32:26.081945181",
          "2024-08-20T12:32:26.143970490",
          "2024-08-20T12:32:26.207308531",
          "2024-08-20T12:32:26.277124882",
          "2024-08-20T12:32:26.335473299",
          "2024-08-20T12:32:26.399356604",
          "2024-08-20T12:32:26.469116211",
          "2024-08-20T12:32:26.526027203",
          "2024-08-20T12:32:26.599806547",
          "2024-08-20T12:32:26.662598610",
          "2024-08-20T12:32:26.719447613",
          "2024-08-20T12:32:26.787300110",
          "2024-08-20T12:32:26.846109152",
          "2024-08-20T12:32:26.909974575",
          "2024-08-20T12:32:26.982742786",
          "2024-08-20T12:32:27.039618492",
          "2024-08-20T12:32:27.109428883",
          "2024-08-20T12:32:27.168270826",
          "2024-08-20T12:32:27.244070053",
          "2024-08-20T12:32:27.300915718",
          "2024-08-20T12:32:27.358763456",
          "2024-08-20T12:32:27.430572271",
          "2024-08-20T12:32:27.495396614",
          "2024-08-20T12:32:27.552243471",
          "2024-08-20T12:32:27.618986607",
          "2024-08-20T12:32:27.679826498",
          "2024-08-20T12:32:27.744651794",
          "2024-08-20T12:32:27.811474085",
          "2024-08-20T12:32:27.871311665",
          "2024-08-20T12:32:27.938232660",
          "2024-08-20T12:32:28.007043123",
          "2024-08-20T12:32:28.066883086",
          "2024-08-20T12:32:28.126723528",
          "2024-08-20T12:32:28.193597555",
          "2024-08-20T12:32:28.260417461",
          "2024-08-20T12:32:28.320315361",
          "2024-08-20T12:32:28.384086132",
          "2024-08-20T12:32:28.446953297",
          "2024-08-20T12:32:28.518725634",
          "2024-08-20T12:32:28.576572895",
          "2024-08-20T12:32:28.641489267",
          "2024-08-20T12:32:28.702045441",
          "2024-08-20T12:32:28.767858028",
          "2024-08-20T12:32:28.830724716",
          "2024-08-20T12:32:28.896514893",
          "2024-08-20T12:32:28.961437941",
          "2024-08-20T12:32:29.023036718",
          "2024-08-20T12:32:29.086858511",
          "2024-08-20T12:32:29.150660276",
          "2024-08-20T12:32:29.214490175",
          "2024-08-20T12:32:29.280347824",
          "2024-08-20T12:32:29.347641230",
          "2024-08-20T12:32:29.408477068",
          "2024-08-20T12:32:29.473303795",
          "2024-08-20T12:32:29.534140825",
          "2024-08-20T12:32:29.603953600",
          "2024-08-20T12:32:29.662796974",
          "2024-08-20T12:32:29.728660822",
          "2024-08-20T12:32:29.829075098",
          "2024-08-20T12:32:29.855006218",
          "2024-08-20T12:32:29.918835640",
          "2024-08-20T12:32:29.984659910",
          "2024-08-20T12:32:30.048488617",
          "2024-08-20T12:32:30.111320496",
          "2024-08-20T12:32:30.174177170",
          "2024-08-20T12:32:30.241478205",
          "2024-08-20T12:32:30.304310322",
          "2024-08-20T12:32:30.367180586",
          "2024-08-20T12:32:30.433924198",
          "2024-08-20T12:32:30.496754646",
          "2024-08-20T12:32:30.561550379",
          "2024-08-20T12:32:30.623412132",
          "2024-08-20T12:32:30.686249495",
          "2024-08-20T12:32:30.753970623",
          "2024-08-20T12:32:30.815323591",
          "2024-08-20T12:32:30.879150867",
          "2024-08-20T12:32:30.955455780",
          "2024-08-20T12:32:31.006345749",
          "2024-08-20T12:32:31.084110022",
          "2024-08-20T12:32:31.133013964",
          "2024-08-20T12:32:31.203535080",
          "2024-08-20T12:32:31.271354437",
          "2024-08-20T12:32:31.326326847",
          "2024-08-20T12:32:31.408055782",
          "2024-08-20T12:32:31.458920002",
          "2024-08-20T12:32:31.552667856",
          "2024-08-20T12:32:31.591563702",
          "2024-08-20T12:32:31.650408030",
          "2024-08-20T12:32:31.710282564",
          "2024-08-20T12:32:31.776070833",
          "2024-08-20T12:32:31.837939978",
          "2024-08-20T12:32:31.907718420",
          "2024-08-20T12:32:31.973545551",
          "2024-08-20T12:32:32.030505180",
          "2024-08-20T12:32:32.096329927",
          "2024-08-20T12:32:32.159909010",
          "2024-08-20T12:32:32.223783493",
          "2024-08-20T12:32:32.285617352",
          "2024-08-20T12:32:32.355093002",
          "2024-08-20T12:32:32.423932314",
          "2024-08-20T12:32:32.477780581",
          "2024-08-20T12:32:32.545111179",
          "2024-08-20T12:32:32.610616684",
          "2024-08-20T12:32:32.672452688",
          "2024-08-20T12:32:32.738783121",
          "2024-08-20T12:32:32.800617695",
          "2024-08-20T12:32:32.862452507",
          "2024-08-20T12:32:32.927278280",
          "2024-08-20T12:32:32.991107702",
          "2024-08-20T12:32:33.061918974",
          "2024-08-20T12:32:33.117813110",
          "2024-08-20T12:32:33.183628321",
          "2024-08-20T12:32:33.247426987",
          "2024-08-20T12:32:33.313245773",
          "2024-08-20T12:32:33.376078844",
          "2024-08-20T12:32:33.437913418",
          "2024-08-20T12:32:33.507761955",
          "2024-08-20T12:32:33.566568375",
          "2024-08-20T12:32:33.630432606",
          "2024-08-20T12:32:33.696256876",
          "2024-08-20T12:32:33.763337374",
          "2024-08-20T12:32:33.823216915",
          "2024-08-20T12:32:33.886786699",
          "2024-08-20T12:32:33.951614380",
          "2024-08-20T12:32:34.019431353",
          "2024-08-20T12:32:34.080267668",
          "2024-08-20T12:32:34.142103195",
          "2024-08-20T12:32:34.208925486",
          "2024-08-20T12:32:34.270759106",
          "2024-08-20T12:32:34.334587574",
          "2024-08-20T12:32:34.409389973",
          "2024-08-20T12:32:34.463746071",
          "2024-08-20T12:32:34.525631427",
          "2024-08-20T12:32:34.590441942",
          "2024-08-20T12:32:34.672589302",
          "2024-08-20T12:32:34.718495369",
          "2024-08-20T12:32:34.784605265",
          "2024-08-20T12:32:34.845502377",
          "2024-08-20T12:32:34.915297985",
          "2024-08-20T12:32:34.976535082",
          "2024-08-20T12:32:35.038368940",
          "2024-08-20T12:32:35.101213455",
          "2024-08-20T12:32:35.170028687",
          "2024-08-20T12:32:35.229869604",
          "2024-08-20T12:32:35.296691179",
          "2024-08-20T12:32:35.365506649",
          "2024-08-20T12:32:35.421391964",
          "2024-08-20T12:32:35.489713669",
          "2024-08-20T12:32:35.550548553"
         ],
         "xaxis": "x2",
         "y": {
          "bdata": "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",
          "dtype": "f8"
         },
         "yaxis": "y2"
        },
        {
         "marker": {
          "color": "lightcoral"
         },
         "name": "Distribution",
         "nbinsx": 30,
         "opacity": 0.7,
         "type": "histogram",
         "x": {
          "bdata": "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",
          "dtype": "f8"
         },
         "xaxis": "x3",
         "yaxis": "y3"
        },
        {
         "line": {
          "color": "lightcoral",
          "width": 1
         },
         "mode": "lines",
         "name": "Raw",
         "opacity": 0.5,
         "type": "scatter",
         "x": {
          "bdata": "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",
          "dtype": "i2"
         },
         "xaxis": "x4",
         "y": {
          "bdata": "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",
          "dtype": "f8"
         },
         "yaxis": "y4"
        },
        {
         "line": {
          "color": "darkred",
          "width": 3
         },
         "mode": "lines",
         "name": "Smoothed (n=50)",
         "type": "scatter",
         "x": {
          "bdata": "AQACAAMABAAFAAYABwAIAAkACgALAAwADQAOAA8AEAARABIAEwAUABUAFgAXABgAGQAaABsAHAAdAB4AHwAgACEAIgAjACQAJQAmACcAKAApACoAKwAsAC0ALgAvADAAMQAyADMANAA1ADYANwA4ADkAOgA7ADwAPQA+AD8AQABBAEIAQwBEAEUARgBHAEgASQBKAEsATABNAE4ATwBQAFEAUgBTAFQAVQBWAFcAWABZAFoAWwBcAF0AXgBfAGAAYQBiAGMAZABlAGYAZwBoAGkAagBrAGwAbQBuAG8AcABxAHIAcwB0AHUAdgB3AHgAeQB6AHsAfAB9AH4AfwCAAIEAggCDAIQAhQCGAIcAiACJAIoAiwCMAI0AjgCPAJAAkQCSAJMAlACVAJYAlwCYAJkAmgCbAJwAnQCeAJ8AoAChAKIAowCkAKUApgCnAKgAqQCqAKsArACtAK4ArwCwALEAsgCzALQAtQC2ALcAuAC5ALoAuwC8AL0AvgC/AMAAwQDCAMMAxADFAMYAxwDIAMkAygDLAMwAzQDOAM8A0ADRANIA0wDUANUA1gDXANgA2QDaANsA3ADdAN4A3wDgAOEA4gDjAOQA5QDmAOcA6ADpAOoA6wDsAO0A7gDvAPAA8QDyAPMA9AD1APYA9wD4APkA+gD7APwA/QD+AP8AAAEBAQIBAwEEAQUBBgEHAQgBCQEKAQsBDAENAQ4BDwEQAREBEgETARQBFQEWARcBGAEZARoBGwEcAR0BHgEfASABIQEiASMBJAElASYBJwEoASkBKgErASwBLQEuAS8BMAExATIBMwE0ATUBNgE3ATgBOQE6ATsBPAE9AT4BPwFAAUEBQgFDAUQBRQFGAUcBSAFJAUoBSwFMAU0BTgFPAVABUQFSAVMBVAFVAVYBVwFYAVkBWgFbAVwBXQFeAV8BYAFhAWIBYwFkAWUBZgFnAWgBaQFqAWsBbAFtAW4BbwFwAXEBcgFzAXQBdQF2AXcBeAF5AXoBewF8AX0BfgF/AYABgQGCAYMBhAGFAYYBhwGIAYkBigGLAYwBjQGOAY8BkAGRAZIBkwGUAZUBlgGXAZgBmQGaAZsBnAGdAZ4BnwGgAaEBogGjAaQBpQGmAacBqAGpAaoBqwGsAa0BrgGvAbABsQGyAbMBtAG1AbYBtwG4AbkBugG7AbwBvQG+Ab8BwAHBAcIBwwHEAcUBxgHHAcgByQHKAcsBzAHNAc4BzwHQAdEB0gHTAdQB1QHWAdcB2AHZAdoB2wHcAd0B3gHfAeAB4QHiAeMB5AHlAeYB5wHoAekB6gHrAewB7QHuAe8B8AHxAfIB8wH0AfUB9gH3AfgB+QH6AfsB/AH9Af4B/wEAAgECAgIDAgQCBQIGAgcCCAIJAgoCCwIMAg0CDgIPAhACEQISAhMCFAIVAhYCFwIYAhkCGgIbAhwCHQIeAh8CIAIhAiICIwIkAiUCJgInAigCKQIqAisCLAItAi4CLwIwAjECMgIzAjQCNQI2AjcCOAI5AjoCOwI8Aj0CPgI/AkACQQJCAkMCRAJFAkYCRwJIAkkCSgJLAkwCTQJOAk8CUAJRAlICUwJUAlUCVgJXAlgCWQJaAlsCXAJdAl4CXwJgAmECYgJjAmQCZQJmAmcCaAJpAmoCawJsAm0CbgJvAnACcQJyAnMCdAJ1AnYCdwJ4AnkCegJ7AnwCfQJ+An8CgAKBAoICgwKEAoUChgKHAogCiQKKAosCjAKNAo4CjwKQApECkgKTApQClQKWApcCmAKZApoCmwKcAp0CngKfAqACoQKiAqMCpAKlAqYCpwKoAqkCqgKrAqwCrQKuAq8CsAKxArICswK0ArUCtgK3ArgCuQK6ArsCvAK9Ar4CvwLAAsECwgLDAsQCxQLGAscCyALJAsoCywLMAs0CzgLPAtAC0QLSAtMC1ALVAtYC1wLYAtkC2gLbAtwC3QLeAt8C4ALhAuIC4wLkAuUC5gLnAugC6QLqAusC7ALtAu4C7wLwAvEC8gLzAvQC9QL2AvcC+AL5AvoC+wL8Av0C/gL/AgADAQMCAwMDBAMFAwYDBwMIAwkDCgMLAwwDDQMOAw8DEAMRAxIDEwMUAxUDFgMXAxgDGQMaAxsDHAMdAx4DHwMgAyEDIgMjAyQDJQMmAycDKAMpAyoDKwMsAy0DLgMvAzADMQMyAzMDNAM1AzYDNwM4AzkDOgM7AzwDPQM+Az8DQANBA0IDQwNEA0UDRgNHA0gDSQNKA0sDTANNA04DTwNQA1EDUgNTA1QDVQNWA1cDWANZA1oDWwNcA10DXgNfA2ADYQNiA2MDZANlA2YDZwNoA2kDagNrA2wDbQNuA28DcANxA3IDcwN0A3UDdgN3A3gDeQN6A3sDfAN9A34DfwOAA4EDggODA4QDhQOGA4cDiAOJA4oDiwOMA40DjgOPA5ADkQOSA5MDlAOVA5YDlwOYA5kDmgObA5wDnQOeA58DoAOhA6IDowOkA6UDpgOnA6gDqQOqA6sDrAOtA64DrwOwA7EDsgOzA7QDtQO2A7cDuAO5A7oDuwO8A70DvgO/A8ADwQPCA8MDxAPFA8YDxwPIA8kDygPLA8wDzQPOA88D0APRA9ID0wPUA9UD1gPXA9gD2QPaA9sD3APdA94D3wPgA+ED4gPjA+QD5QPmA+cD6AM=",
          "dtype": "i2"
         },
         "xaxis": "x4",
         "y": {
          "bdata": "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",
          "dtype": "f8"
         },
         "yaxis": "y4"
        }
       ],
       "layout": {
        "annotations": [
         {
          "font": {
           "size": 16
          },
          "showarrow": false,
          "text": "Distance vs Frame Index",
          "x": 0.225,
          "xanchor": "center",
          "xref": "paper",
          "y": 1,
          "yanchor": "bottom",
          "yref": "paper"
         },
         {
          "font": {
           "size": 16
          },
          "showarrow": false,
          "text": "Distance vs Time",
          "x": 0.775,
          "xanchor": "center",
          "xref": "paper",
          "y": 1,
          "yanchor": "bottom",
          "yref": "paper"
         },
         {
          "font": {
           "size": 16
          },
          "showarrow": false,
          "text": "Distance Distribution",
          "x": 0.225,
          "xanchor": "center",
          "xref": "paper",
          "y": 0.375,
          "yanchor": "bottom",
          "yref": "paper"
         },
         {
          "font": {
           "size": 16
          },
          "showarrow": false,
          "text": "Distance Trends",
          "x": 0.775,
          "xanchor": "center",
          "xref": "paper",
          "y": 0.375,
          "yanchor": "bottom",
          "yref": "paper"
         },
         {
          "showarrow": false,
          "text": "Mean: 1.98meters",
          "x": 1.9757424192245667,
          "xanchor": "left",
          "xref": "x3",
          "y": 1,
          "yanchor": "top",
          "yref": "y3 domain"
         }
        ],
        "height": 800,
        "shapes": [
         {
          "line": {
           "color": "red",
           "dash": "dash"
          },
          "type": "line",
          "x0": 1.9757424192245667,
          "x1": 1.9757424192245667,
          "xref": "x3",
          "y0": 0,
          "y1": 1,
          "yref": "y3 domain"
         }
        ],
        "showlegend": true,
        "template": {
         "data": {
          "bar": [
           {
            "error_x": {
             "color": "#2a3f5f"
            },
            "error_y": {
             "color": "#2a3f5f"
            },
            "marker": {
             "line": {
              "color": "#E5ECF6",
              "width": 0.5
             },
             "pattern": {
              "fillmode": "overlay",
              "size": 10,
              "solidity": 0.2
             }
            },
            "type": "bar"
           }
          ],
          "barpolar": [
           {
            "marker": {
             "line": {
              "color": "#E5ECF6",
              "width": 0.5
             },
             "pattern": {
              "fillmode": "overlay",
              "size": 10,
              "solidity": 0.2
             }
            },
            "type": "barpolar"
           }
          ],
          "carpet": [
           {
            "aaxis": {
             "endlinecolor": "#2a3f5f",
             "gridcolor": "white",
             "linecolor": "white",
             "minorgridcolor": "white",
             "startlinecolor": "#2a3f5f"
            },
            "baxis": {
             "endlinecolor": "#2a3f5f",
             "gridcolor": "white",
             "linecolor": "white",
             "minorgridcolor": "white",
             "startlinecolor": "#2a3f5f"
            },
            "type": "carpet"
           }
          ],
          "choropleth": [
           {
            "colorbar": {
             "outlinewidth": 0,
             "ticks": ""
            },
            "type": "choropleth"
           }
          ],
          "contour": [
           {
            "colorbar": {
             "outlinewidth": 0,
             "ticks": ""
            },
            "colorscale": [
             [
              0,
              "#0d0887"
             ],
             [
              0.1111111111111111,
              "#46039f"
             ],
             [
              0.2222222222222222,
              "#7201a8"
             ],
             [
              0.3333333333333333,
              "#9c179e"
             ],
             [
              0.4444444444444444,
              "#bd3786"
             ],
             [
              0.5555555555555556,
              "#d8576b"
             ],
             [
              0.6666666666666666,
              "#ed7953"
             ],
             [
              0.7777777777777778,
              "#fb9f3a"
             ],
             [
              0.8888888888888888,
              "#fdca26"
             ],
             [
              1,
              "#f0f921"
             ]
            ],
            "type": "contour"
           }
          ],
          "contourcarpet": [
           {
            "colorbar": {
             "outlinewidth": 0,
             "ticks": ""
            },
            "type": "contourcarpet"
           }
          ],
          "heatmap": [
           {
            "colorbar": {
             "outlinewidth": 0,
             "ticks": ""
            },
            "colorscale": [
             [
              0,
              "#0d0887"
             ],
             [
              0.1111111111111111,
              "#46039f"
             ],
             [
              0.2222222222222222,
              "#7201a8"
             ],
             [
              0.3333333333333333,
              "#9c179e"
             ],
             [
              0.4444444444444444,
              "#bd3786"
             ],
             [
              0.5555555555555556,
              "#d8576b"
             ],
             [
              0.6666666666666666,
              "#ed7953"
             ],
             [
              0.7777777777777778,
              "#fb9f3a"
             ],
             [
              0.8888888888888888,
              "#fdca26"
             ],
             [
              1,
              "#f0f921"
             ]
            ],
            "type": "heatmap"
           }
          ],
          "histogram": [
           {
            "marker": {
             "pattern": {
              "fillmode": "overlay",
              "size": 10,
              "solidity": 0.2
             }
            },
            "type": "histogram"
           }
          ],
          "histogram2d": [
           {
            "colorbar": {
             "outlinewidth": 0,
             "ticks": ""
            },
            "colorscale": [
             [
              0,
              "#0d0887"
             ],
             [
              0.1111111111111111,
              "#46039f"
             ],
             [
              0.2222222222222222,
              "#7201a8"
             ],
             [
              0.3333333333333333,
              "#9c179e"
             ],
             [
              0.4444444444444444,
              "#bd3786"
             ],
             [
              0.5555555555555556,
              "#d8576b"
             ],
             [
              0.6666666666666666,
              "#ed7953"
             ],
             [
              0.7777777777777778,
              "#fb9f3a"
             ],
             [
              0.8888888888888888,
              "#fdca26"
             ],
             [
              1,
              "#f0f921"
             ]
            ],
            "type": "histogram2d"
           }
          ],
          "histogram2dcontour": [
           {
            "colorbar": {
             "outlinewidth": 0,
             "ticks": ""
            },
            "colorscale": [
             [
              0,
              "#0d0887"
             ],
             [
              0.1111111111111111,
              "#46039f"
             ],
             [
              0.2222222222222222,
              "#7201a8"
             ],
             [
              0.3333333333333333,
              "#9c179e"
             ],
             [
              0.4444444444444444,
              "#bd3786"
             ],
             [
              0.5555555555555556,
              "#d8576b"
             ],
             [
              0.6666666666666666,
              "#ed7953"
             ],
             [
              0.7777777777777778,
              "#fb9f3a"
             ],
             [
              0.8888888888888888,
              "#fdca26"
             ],
             [
              1,
              "#f0f921"
             ]
            ],
            "type": "histogram2dcontour"
           }
          ],
          "mesh3d": [
           {
            "colorbar": {
             "outlinewidth": 0,
             "ticks": ""
            },
            "type": "mesh3d"
           }
          ],
          "parcoords": [
           {
            "line": {
             "colorbar": {
              "outlinewidth": 0,
              "ticks": ""
             }
            },
            "type": "parcoords"
           }
          ],
          "pie": [
           {
            "automargin": true,
            "type": "pie"
           }
          ],
          "scatter": [
           {
            "fillpattern": {
             "fillmode": "overlay",
             "size": 10,
             "solidity": 0.2
            },
            "type": "scatter"
           }
          ],
          "scatter3d": [
           {
            "line": {
             "colorbar": {
              "outlinewidth": 0,
              "ticks": ""
             }
            },
            "marker": {
             "colorbar": {
              "outlinewidth": 0,
              "ticks": ""
             }
            },
            "type": "scatter3d"
           }
          ],
          "scattercarpet": [
           {
            "marker": {
             "colorbar": {
              "outlinewidth": 0,
              "ticks": ""
             }
            },
            "type": "scattercarpet"
           }
          ],
          "scattergeo": [
           {
            "marker": {
             "colorbar": {
              "outlinewidth": 0,
              "ticks": ""
             }
            },
            "type": "scattergeo"
           }
          ],
          "scattergl": [
           {
            "marker": {
             "colorbar": {
              "outlinewidth": 0,
              "ticks": ""
             }
            },
            "type": "scattergl"
           }
          ],
          "scattermap": [
           {
            "marker": {
             "colorbar": {
              "outlinewidth": 0,
              "ticks": ""
             }
            },
            "type": "scattermap"
           }
          ],
          "scattermapbox": [
           {
            "marker": {
             "colorbar": {
              "outlinewidth": 0,
              "ticks": ""
             }
            },
            "type": "scattermapbox"
           }
          ],
          "scatterpolar": [
           {
            "marker": {
             "colorbar": {
              "outlinewidth": 0,
              "ticks": ""
             }
            },
            "type": "scatterpolar"
           }
          ],
          "scatterpolargl": [
           {
            "marker": {
             "colorbar": {
              "outlinewidth": 0,
              "ticks": ""
             }
            },
            "type": "scatterpolargl"
           }
          ],
          "scatterternary": [
           {
            "marker": {
             "colorbar": {
              "outlinewidth": 0,
              "ticks": ""
             }
            },
            "type": "scatterternary"
           }
          ],
          "surface": [
           {
            "colorbar": {
             "outlinewidth": 0,
             "ticks": ""
            },
            "colorscale": [
             [
              0,
              "#0d0887"
             ],
             [
              0.1111111111111111,
              "#46039f"
             ],
             [
              0.2222222222222222,
              "#7201a8"
             ],
             [
              0.3333333333333333,
              "#9c179e"
             ],
             [
              0.4444444444444444,
              "#bd3786"
             ],
             [
              0.5555555555555556,
              "#d8576b"
             ],
             [
              0.6666666666666666,
              "#ed7953"
             ],
             [
              0.7777777777777778,
              "#fb9f3a"
             ],
             [
              0.8888888888888888,
              "#fdca26"
             ],
             [
              1,
              "#f0f921"
             ]
            ],
            "type": "surface"
           }
          ],
          "table": [
           {
            "cells": {
             "fill": {
              "color": "#EBF0F8"
             },
             "line": {
              "color": "white"
             }
            },
            "header": {
             "fill": {
              "color": "#C8D4E3"
             },
             "line": {
              "color": "white"
             }
            },
            "type": "table"
           }
          ]
         },
         "layout": {
          "annotationdefaults": {
           "arrowcolor": "#2a3f5f",
           "arrowhead": 0,
           "arrowwidth": 1
          },
          "autotypenumbers": "strict",
          "coloraxis": {
           "colorbar": {
            "outlinewidth": 0,
            "ticks": ""
           }
          },
          "colorscale": {
           "diverging": [
            [
             0,
             "#8e0152"
            ],
            [
             0.1,
             "#c51b7d"
            ],
            [
             0.2,
             "#de77ae"
            ],
            [
             0.3,
             "#f1b6da"
            ],
            [
             0.4,
             "#fde0ef"
            ],
            [
             0.5,
             "#f7f7f7"
            ],
            [
             0.6,
             "#e6f5d0"
            ],
            [
             0.7,
             "#b8e186"
            ],
            [
             0.8,
             "#7fbc41"
            ],
            [
             0.9,
             "#4d9221"
            ],
            [
             1,
             "#276419"
            ]
           ],
           "sequential": [
            [
             0,
             "#0d0887"
            ],
            [
             0.1111111111111111,
             "#46039f"
            ],
            [
             0.2222222222222222,
             "#7201a8"
            ],
            [
             0.3333333333333333,
             "#9c179e"
            ],
            [
             0.4444444444444444,
             "#bd3786"
            ],
            [
             0.5555555555555556,
             "#d8576b"
            ],
            [
             0.6666666666666666,
             "#ed7953"
            ],
            [
             0.7777777777777778,
             "#fb9f3a"
            ],
            [
             0.8888888888888888,
             "#fdca26"
            ],
            [
             1,
             "#f0f921"
            ]
           ],
           "sequentialminus": [
            [
             0,
             "#0d0887"
            ],
            [
             0.1111111111111111,
             "#46039f"
            ],
            [
             0.2222222222222222,
             "#7201a8"
            ],
            [
             0.3333333333333333,
             "#9c179e"
            ],
            [
             0.4444444444444444,
             "#bd3786"
            ],
            [
             0.5555555555555556,
             "#d8576b"
            ],
            [
             0.6666666666666666,
             "#ed7953"
            ],
            [
             0.7777777777777778,
             "#fb9f3a"
            ],
            [
             0.8888888888888888,
             "#fdca26"
            ],
            [
             1,
             "#f0f921"
            ]
           ]
          },
          "colorway": [
           "#636efa",
           "#EF553B",
           "#00cc96",
           "#ab63fa",
           "#FFA15A",
           "#19d3f3",
           "#FF6692",
           "#B6E880",
           "#FF97FF",
           "#FECB52"
          ],
          "font": {
           "color": "#2a3f5f"
          },
          "geo": {
           "bgcolor": "white",
           "lakecolor": "white",
           "landcolor": "#E5ECF6",
           "showlakes": true,
           "showland": true,
           "subunitcolor": "white"
          },
          "hoverlabel": {
           "align": "left"
          },
          "hovermode": "closest",
          "mapbox": {
           "style": "light"
          },
          "paper_bgcolor": "white",
          "plot_bgcolor": "#E5ECF6",
          "polar": {
           "angularaxis": {
            "gridcolor": "white",
            "linecolor": "white",
            "ticks": ""
           },
           "bgcolor": "#E5ECF6",
           "radialaxis": {
            "gridcolor": "white",
            "linecolor": "white",
            "ticks": ""
           }
          },
          "scene": {
           "xaxis": {
            "backgroundcolor": "#E5ECF6",
            "gridcolor": "white",
            "gridwidth": 2,
            "linecolor": "white",
            "showbackground": true,
            "ticks": "",
            "zerolinecolor": "white"
           },
           "yaxis": {
            "backgroundcolor": "#E5ECF6",
            "gridcolor": "white",
            "gridwidth": 2,
            "linecolor": "white",
            "showbackground": true,
            "ticks": "",
            "zerolinecolor": "white"
           },
           "zaxis": {
            "backgroundcolor": "#E5ECF6",
            "gridcolor": "white",
            "gridwidth": 2,
            "linecolor": "white",
            "showbackground": true,
            "ticks": "",
            "zerolinecolor": "white"
           }
          },
          "shapedefaults": {
           "line": {
            "color": "#2a3f5f"
           }
          },
          "ternary": {
           "aaxis": {
            "gridcolor": "white",
            "linecolor": "white",
            "ticks": ""
           },
           "baxis": {
            "gridcolor": "white",
            "linecolor": "white",
            "ticks": ""
           },
           "bgcolor": "#E5ECF6",
           "caxis": {
            "gridcolor": "white",
            "linecolor": "white",
            "ticks": ""
           }
          },
          "title": {
           "x": 0.05
          },
          "xaxis": {
           "automargin": true,
           "gridcolor": "white",
           "linecolor": "white",
           "ticks": "",
           "title": {
            "standoff": 15
           },
           "zerolinecolor": "white",
           "zerolinewidth": 2
          },
          "yaxis": {
           "automargin": true,
           "gridcolor": "white",
           "linecolor": "white",
           "ticks": "",
           "title": {
            "standoff": 15
           },
           "zerolinecolor": "white",
           "zerolinewidth": 2
          }
         }
        },
        "title": {
         "text": "Real-World Distance Analysis"
        },
        "xaxis": {
         "anchor": "y",
         "domain": [
          0,
          0.45
         ],
         "title": {
          "text": "Frame Index"
         }
        },
        "xaxis2": {
         "anchor": "y2",
         "domain": [
          0.55,
          1
         ],
         "title": {
          "text": "Time"
         }
        },
        "xaxis3": {
         "anchor": "y3",
         "domain": [
          0,
          0.45
         ],
         "title": {
          "text": "Distance (meters)"
         }
        },
        "xaxis4": {
         "anchor": "y4",
         "domain": [
          0.55,
          1
         ],
         "title": {
          "text": "Frame Index"
         }
        },
        "yaxis": {
         "anchor": "x",
         "domain": [
          0.625,
          1
         ],
         "title": {
          "text": "Distance (meters)"
         }
        },
        "yaxis2": {
         "anchor": "x2",
         "domain": [
          0.625,
          1
         ],
         "title": {
          "text": "Distance (meters)"
         }
        },
        "yaxis3": {
         "anchor": "x3",
         "domain": [
          0,
          0.375
         ],
         "title": {
          "text": "Frequency"
         }
        },
        "yaxis4": {
         "anchor": "x4",
         "domain": [
          0,
          0.375
         ],
         "title": {
          "text": "Distance (meters)"
         }
        }
       }
      }
     },
     "metadata": {},
     "output_type": "display_data"
    }
   ],
   "source": [
    "iau.VisualizationEngine.plot_distance_analysis(distance_results, \"Real-World Distance Analysis\")"
   ]
  },
  {
   "cell_type": "code",
   "execution_count": null,
   "id": "b7b04f1e",
   "metadata": {},
   "outputs": [],
   "source": []
  },
  {
   "cell_type": "code",
   "execution_count": 7,
   "id": "c10a8be6",
   "metadata": {},
   "outputs": [
    {
     "name": "stdout",
     "output_type": "stream",
     "text": [
      "🎯 LOADING ALL DISTANCE DATA FOR BAG: 2024-08-20_14-31-29\n",
      "============================================================\n",
      "📡 1. Loading Navigation Data...\n",
      "   ✅ Loaded 559 navigation records\n",
      "📡 2. Loading Guidance Data...\n",
      "   ✅ Loaded 549 guidance records with ['error_net_distance', 'desired_net_distance', 'r_net_distance_d']\n",
      "📡 3. Loading DVL Altimeter...\n",
      "   ❌ DVL altimeter file not found\n",
      "📡 4. Loading USBL...\n",
      "   ✅ Loaded 33 USBL records\n",
      "📡 5. Loading DVL Position...\n",
      "   ✅ Loaded 283 DVL position records\n",
      "📡 6. Loading Navigation Position...\n",
      "   ✅ Loaded 278 navigation position records\n",
      "📡 7. Loading INS Z Position...\n",
      "   ❌ INS file not found\n",
      "\n",
      "📊 LOADING SUMMARY:\n",
      "   🎯 Target bag: 2024-08-20_14-31-29\n",
      "   📁 Raw data loaded: 2/2\n",
      "   📏 Distance measurements: 4\n",
      "\n",
      "📊 RAW DATA LOADED:\n",
      "   ✅ navigation: 559 records\n",
      "   ✅ guidance: 549 records\n",
      "\n",
      "📏 DISTANCE MEASUREMENTS LOADED:\n",
      "   ✅ USBL_3D: 33 records - 3D acoustic position\n",
      "   ✅ USBL_Depth: 33 records - USBL depth measurement\n",
      "   ✅ DVL_Position: 283 records - 3D DVL position\n",
      "   ✅ Nav_Position: 278 records - 2D navigation position\n"
     ]
    }
   ],
   "source": [
    "# 🔄 COMPARISON: SONAR vs DVL DISTANCE MEASUREMENTS\n",
    "# =================================================\n",
    "import utils.net_distance_analysis as sda\n",
    "\n",
    "# IMPORTANT: Pass the by_bag folder, not just the exports root\n",
    "# The function expects the folder containing the CSV files\n",
    "from utils.sonar_config import EXPORTS_SUBDIRS\n",
    "BY_BAG_FOLDER = EXPORTS_FOLDER / EXPORTS_SUBDIRS.get('by_bag', 'by_bag')\n",
    "\n",
    "# Load all distance data for the target bag\n",
    "raw_data, distance_measurements = sda.load_all_distance_data_for_bag(TARGET_BAG, BY_BAG_FOLDER)\n",
    "\n",
    "# Display what we loaded\n",
    "print(f\"\\n📊 RAW DATA LOADED:\")\n",
    "for key, data in raw_data.items():\n",
    "    if data is not None:\n",
    "        print(f\"   ✅ {key}: {len(data)} records\")\n",
    "    else:\n",
    "        print(f\"   ❌ {key}: None\")\n",
    "\n",
    "print(f\"\\n📏 DISTANCE MEASUREMENTS LOADED:\")\n",
    "for key, info in distance_measurements.items():\n",
    "    data_len = len(info['data'])\n",
    "    print(f\"   ✅ {key}: {data_len} records - {info['description']}\")"
   ]
  },
  {
   "cell_type": "code",
   "execution_count": 8,
   "id": "0375375e",
   "metadata": {},
   "outputs": [
    {
     "name": "stdout",
     "output_type": "stream",
     "text": [
      "\n",
      "📊 SONAR vs DVL COMPARISON STATISTICS:\n",
      "==================================================\n",
      "Sonar mean distance: 1.976 m\n",
      "DVL mean distance:   1.968 m\n",
      "Scale ratio (Sonar/DVL): 1.004x\n",
      "Sonar duration: 67.1s (1000 frames)\n",
      "DVL duration:   67.0s (559 records)\n"
     ]
    },
    {
     "name": "stderr",
     "output_type": "stream",
     "text": [
      "/Users/eirikvarnes/code/SOLAQUA/utils/sonar_image_analysis.py:285: FutureWarning:\n",
      "\n",
      "Series.fillna with 'method' is deprecated and will raise in a future version. Use obj.ffill() or obj.bfill() instead.\n",
      "\n",
      "/Users/eirikvarnes/code/SOLAQUA/utils/sonar_image_analysis.py:292: FutureWarning:\n",
      "\n",
      "Series.fillna with 'method' is deprecated and will raise in a future version. Use obj.ffill() or obj.bfill() instead.\n",
      "\n"
     ]
    },
    {
     "data": {
      "application/vnd.plotly.v1+json": {
       "config": {
        "plotlyServerURL": "https://plot.ly"
       },
       "data": [
        {
         "line": {
          "color": "rgba(255,0,0,0.3)"
         },
         "mode": "lines",
         "name": "Sonar Raw",
         "type": "scatter",
         "x": {
          "bdata": "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",
          "dtype": "f8"
         },
         "xaxis": "x",
         "y": {
          "bdata": "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",
          "dtype": "f8"
         },
         "yaxis": "y"
        },
        {
         "line": {
          "color": "red",
          "width": 3
         },
         "mode": "lines",
         "name": "Sonar Smoothed",
         "type": "scatter",
         "x": {
          "bdata": "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",
          "dtype": "f8"
         },
         "xaxis": "x",
         "y": {
          "bdata": "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",
          "dtype": "f8"
         },
         "yaxis": "y"
        },
        {
         "line": {
          "color": "blue",
          "width": 3
         },
         "mode": "lines",
         "name": "DVL Distance",
         "type": "scatter",
         "x": {
          "bdata": "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",
          "dtype": "f8"
         },
         "xaxis": "x",
         "y": {
          "bdata": "AAAAgD0KA0AAAACAwvUCQAAAAEAzMwNAAAAAwB6FA0AAAAAgrkcDQAAAAAApXANAAAAAoJmZA0AAAAAAKVwDQAAAAKCZmQNAAAAA4KNwA0AAAADAzMwEQAAAAGBmZgRAAAAAIFyPBEAAAAAgXI8EQAAAAADXowRAAAAAoEfhBEAAAADAzMwEQAAAAIDC9QRAAAAAgML1BEAAAACAPQoFQAAAAIDC9QRAAAAAYLgeBUAAAACAwvUEQAAAAEDhegRAAAAA4HoUBEAAAACAFK4DQAAAAAApXANAAAAAgML1AkAAAABgZmYCQAAAACCF6wFAAAAAgBSuAUAAAACgmZkBQAAAAAApXAFAAAAAIK5HAUAAAABAMzMBQAAAAIA9CgFAAAAAgML1AEAAAACgR+EAQAAAAADXowBAAAAAIFyPAEAAAABgZmYAQAAAAGBmZgBAAAAAoHA9AEAAAACgcD0AQAAAAKBwPQBAAAAAwPUoAEAAAADgehQAQAAAAOB6FABAAAAA4HoUAEAAAACgR+H2PwAAAAAAAABAAAAAAAAAAEAAAABACtf/PwAAAAAAAABAAAAAAAAAAEAAAADgehQAQAAAAMD1KABAAAAAoHA9AEAAAADgehQAQAAAAMD1KABAAAAAoHA9AEAAAACgcD0AQAAAAGBmZgBAAAAAYGZmAEAAAABA4XoAQAAAAOBRuABAAAAAwMzMAEAAAACgR+EAQAAAAKBH4QBAAAAAgD0KAUAAAACAPQoBQAAAAGC4HgFAAAAAIK5HAUAAAABAMzMBQAAAAOCjcAFAAAAAwB6FAUAAAADAHoUBQAAAAIAUrgFAAAAAgBSuAUAAAABACtcBQAAAAEAK1wFAAAAA4HoUAkAAAADgehQCQAAAAAAAAAJAAAAAAAAAAkAAAABgZmYCQAAAACCF6wFAAAAAIIXrAUAAAABACtcBQAAAAEAK1wFAAAAAIIXrAUAAAAAAAAACQAAAAAAAAAJAAAAAQArXAUAAAAAAAAACQAAAAGCPwgFAAAAAgBSuAUAAAADAHoUBQAAAAAApXAFAAAAAIK5HAUAAAABguB4BQAAAAMDMzABAAAAAANejAEAAAAAA16MAQAAAACBcjwBAAAAAoHA9AEAAAAAAAAAAQAAAAIAUrv8/AAAAwB6F/z8AAACAPQr/PwEAAKBH4f4/AQAA4FG4/j8AAAAghev9PwAAAOB6FP4/AAAAYI/C/T8AAACgmZn9PwAAAOCjcP0/AAAAgML1/D////9fuB79P//////Wo/w//////9aj/D8AAADA9Sj8PwAAAIDrUfw/AAAAwPUo/D8AAACAFK77PwAAAAAAAPw/AAAAgBSu+z8AAADAHoX7PwEAAAApXPs/AAAAQArX+z8AAACAFK77PwAAAMAehfs/AAAAQDMz+z8AAACgR+H6PwAAAEAzM/s/AAAAQDMz+z8AAACAPQr7PwAAAIA9Cvs/AAAAQDMz+z8AAACAPQr7PwAAAKBH4fo/AAAAoEfh+j8AAACgR+H6PwAAAOBRuPo/AAAA4FG4+j8AAAAgXI/6PwAAAOBRuPo/AAAAIFyP+j8AAAAgXI/6PwAAAOBRuPo/AAAAIFyP+j/////fo3DtPwAAACBcj/o/AAAA4FG4+j8AAADgUbj6PwAAAOBRuPo/AAAAYGZm+j8AAADgUbj6PwAAAOBRuPo/AAAA4FG4+j8AAADgUbj6PwAAACBcj/o/AAAAIFyP+j8AAACgR+H6PwAAAOBRuPo/AAAA4FG4+j8AAACgR+H6PwAAAGBmZvo/AAAAoEfh+j8AAABAMzP7PwAAAKBH4fo/AAAAoEfh+j8AAACAPQr7PwAAAEAzM/s/AQAAAClc+z8BAAAAKVz7PwEAAAApXPs/AAAAgBSu+z8AAADA9Sj8PwAAAEAK1/s/AAAAQArX+z8AAADA9Sj8PwAAAEDhevw/AAAAQOF6/D8AAABA4Xr8PwAAAEDhevw//////9aj/D8AAADAzMz8PwAAAIDC9fw/////X7ge/T////8frkf9P////x+uR/0/AAAAoJmZ/T8AAABgj8L9PwAAAGCPwv0/AAAA4HoU/j8AAADgehT+PwAAAOB6FP4/AAAAoHA9/j8AAACgcD3+PwAAAGBmZv4/AAAAoHA9/j8AAAAgXI/+PwAAACBcj/4/AAAAoHA9/j8AAACgcD3+PwAAACBcj/4/AAAAIFyP/j8AAAAgXI/+PwAAACBcj/4/AAAAIFyP/j8BAADgUbj+PwAAACBcj/4/AQAAoEfh/j8BAADgUbj+PwAAAIA9Cv8/AAAAgD0K/z8AAACAPQr/PwEAAKBH4f4/AQAAoEfh/j8BAACgR+H+PwEAAOBRuP4/AQAAoEfh/j8AAAAgXI/+PwEAAOBRuP4/AQAAoEfh/j8AAACAPQr/PwAAAIA9Cv8/AQAAoEfh/j8AAACAPQr/PwAAAGBmZv4/AQAA4FG4/j8BAACgR+H+PwEAAKBH4f4/AAAAgD0K/z8BAABAMzP/PwEAAEAzM/8/AQAAAClc/z8BAAAAKVz/PwEAAAApXP8/AAAAgBSu/z8BAAAAKVz/PwEAAKBH4f4/AQAAAClc/z8BAABAMzP/PwAAAMAehf8/AAAAgBSu/z8AAACAFK7/PwAAAAAAAABAAAAAwPUoAEAAAAAAAAAAQAAAAOB6FABAAAAAgOtRAEAAAADA9SgAQAAAAKBwPQBAAAAAIFyPAEAAAABgZmYAQAAAAEDhegBAAAAAQOF6AEAAAABgZmYAQAAAACBcjwBAAAAA4FG4AEAAAAAgXI8AQAAAAMDMzABAAAAA4FG4AEAAAACgR+EAQAAAAIDC9QBAAAAAYLgeAUAAAACAwvUAQAAAAIDC9QBAAAAAgML1AEAAAACgR+EAQAAAACCuRwFAAAAAAClcAUAAAADgo3ABQAAAAOCjcAFAAAAAQDMzAUAAAABAMzMBQAAAAEAzMwFAAAAAQDMzAUAAAAAgrkcBQAAAACCuRwFAAAAAIK5HAUAAAABAMzMBQAAAACCuRwFAAAAAQDMzAUAAAABAMzMBQAAAAEAzMwFAAAAAQDMzAUAAAAAgrkcBQAAAAEAzMwFAAAAAIK5HAUAAAACAPQoBQAAAACCuRwFAAAAAIK5HAUAAAABguB4BQAAAAEAzMwFAAAAAQDMzAUAAAAAgrkcBQAAAAEAzMwFAAAAAQDMzAUAAAAAgrkcBQAAAAIA9CgFAAAAAYLgeAUAAAACAPQoBQAAAAGC4HgFAAAAAQDMzAUAAAABguB4BQAAAAGC4HgFAAAAAQDMzAUAAAABAMzMBQAAAAEAzMwFAAAAAgD0KAUAAAABguB4BQAAAAEAzMwFAAAAAQDMzAUAAAABAMzMBQAAAAAApXAFAAAAAIK5HAUAAAAAgrkcBQAAAAAApXAFAAAAA4KNwAUAAAADgo3ABQAAAAIAUrgFAAAAAwB6FAUAAAACgmZkBQAAAAIAUrgFAAAAAwB6FAUAAAADAHoUBQAAAAIAUrgFAAAAAoJmZAUAAAADAHoUBQAAAAIAUrgFAAAAA4KNwAUAAAADAHoUBQAAAAOCjcAFAAAAAYLgeAUAAAABAMzMBQAAAAEAzMwFAAAAAQDMzAUAAAABAMzMBQAAAAIA9CgFAAAAAoEfhAEAAAACgR+EAQAAAAKBH4QBAAAAAwMzMAEAAAACgR+EAQAAAAMDMzABAAAAAANejAEAAAADgUbgAQAAAACBcjwBAAAAAQOF6AEAAAACgcD0AQAAAAOB6FABAAAAA4HoUAEAAAABACtf/PwEAAAApXP8/AQAAAClc/z8BAABAMzP/PwEAAAApXP8/AQAAoEfh/j8BAACgR+H+PwEAAKBH4f4/AAAAIFyP/j8AAACAPQr/PwEAAKBH4f4/AQAAQDMz/z8BAABAMzP/PwEAAKBH4f4/AAAAgD0K/z8BAABAMzP/PwEAAEAzM/8/AQAAoEfh/j8AAACAPQr/PwAAAIA9Cv8/AAAAgD0K/z8BAABAMzP/PwEAAAApXP8/AAAAgD0K/z8BAAAAKVz/PwAAAMAehf8/AAAAwB6F/z8AAACAFK7/PwAAAEAK1/8/AAAAAAAAAEAAAACgcD0AQAAAAIDrUQBAAAAAoHA9AEAAAACgcD0AQAAAACBcjwBAAAAAANejAEAAAAAA16MAQAAAAADXowBAAAAAoEfhAEAAAACgR+EAQAAAAIDC9QBAAAAAgML1AEAAAACgR+EAQAAAAKBH4QBAAAAAwMzMAEAAAADgUbgAQAAAAKBH4QBAAAAA4FG4AEAAAAAgXI8AQAAAAOBRuABAAAAA4FG4AEAAAAAA16MAQAAAACBcjwBAAAAA4FG4AEAAAAAgXI8AQAAAAADXowBAAAAA4FG4AEAAAADgUbgAQAAAAOBRuABAAAAAwMzMAEAAAACgR+EAQAAAAMDMzABAAAAA4FG4AEAAAACgR+EAQAAAAMDMzABAAAAA4FG4AEAAAACgR+EAQAAAAKBH4QBAAAAAoEfhAEAAAACAwvUAQAAAAOBRuABAAAAAANejAEAAAACgR+EAQAAAAIDC9QBAAAAAoEfhAEAAAABguB4BQAAAAGC4HgFAAAAAQDMzAUAAAACAwvUAQAAAAGC4HgFAAAAAYLgeAUAAAADgo3ABQAAAAMAehQFAAAAAAClcAUAAAAAAKVwBQAAAAOCjcAFAAAAAYI/CAUAAAABACtcBQAAAAGCPwgFAAAAAIIXrAUAAAADgehQCQAAAAAAAAAJAAAAA4HoUAkAAAABgZmYCQAAAAMDMzAJAAAAAoEfhAkAAAAAgXI8CQAAAAIDrUQJAAAAAoHA9AkAAAADgehQCQAAAAAAAAAJAAAAAIIXrAUAAAABACtcBQAAAAKCZmQFAAAAAoJmZAUAAAADAHoUBQAAAAGC4HgFAAAAAIK5HAUAAAACAPQoBQAAAAKBH4QBAAAAAANejAEAAAAAA16MAQAAAAEAzMwFAAAAAYGZmAEAAAABguB75PwAAAGC4Hvk/AAAAgML1+D8AAACAwvX4P//////Wo/g/AAAAgBSu/z8BAACgR+H+PwEAAEAzM/8/AQAA4FG4/j8AAABgZmb+PwAAAGCPwv0/AAAAoHA9/j8AAACAFK77PwAAAIA9Cvs/AAAAoEfh+j8AAACgR+H6PwEAAAApXPs/AQAAAClc+z8AAABgZmb2PwAAACCF6/U/AQAAAClc7z//////1qPwP////9+jcM0/AAAA4FG48j8AAACgR+HiPwEAAOBRuO4/AAAAQArX6z8AAAAAAADwP////9+jcO0/AQAAAClc8z8AAABACtf3PwAAAOCjcPk/AAAAIIXr+T8AAAAghev5PwAAAAAAAABAAAAAgBSu/z/////fUbjePwEAAAApXPs/AAAAwB6F+z8AAABguB75PwAAAAAAAPg/AAAAwMzM7D8AAAAghevxPwAAAOB6FPI/AAAAwB6F8z8AAABACtfzPwAAAAAAAPQ/AAAAwPUo9D8AAAAAKVznPwAAAIA9CvM/AAAAIFyP9j8AAACA61H4PwAAAEAzMwFAAAAAQDMzAUAAAACAwvX0PwAAACCF6/E/AAAAYI/C8T8AAADgehTyP//////Wo/A//////9aj8D8AAACAwvXwP////1+4Hu0/////X7ge7T8AAADA9SjsPwAAAMAehes/AAAAAAAA8D8AAABA4XrwPwAAAEAK1wNAAAAAwPUoBEAAAADAzMwCQAAAAEDhegJAAAAAYGZmAkD/////1qP8P//////Wo/w/AAAAgOtR/D8AAACgcD0CQAAAAEDhegJAAAAAwPUo/D8AAADA9SgIQAAAAOCjcANAAAAAIIXr+T8AAACgmZn5PwAAAIDC9fg/AAAA4HoU+j8AAACgmZn5PwAAAIDC9QBAAAAAIFyPAkAAAABguB4JQAAAAEAzMwNAAAAAQDMzCUA=",
          "dtype": "f8"
         },
         "yaxis": "y"
        }
       ],
       "layout": {
        "height": 600,
        "hovermode": "x unified",
        "template": {
         "data": {
          "bar": [
           {
            "error_x": {
             "color": "#2a3f5f"
            },
            "error_y": {
             "color": "#2a3f5f"
            },
            "marker": {
             "line": {
              "color": "#E5ECF6",
              "width": 0.5
             },
             "pattern": {
              "fillmode": "overlay",
              "size": 10,
              "solidity": 0.2
             }
            },
            "type": "bar"
           }
          ],
          "barpolar": [
           {
            "marker": {
             "line": {
              "color": "#E5ECF6",
              "width": 0.5
             },
             "pattern": {
              "fillmode": "overlay",
              "size": 10,
              "solidity": 0.2
             }
            },
            "type": "barpolar"
           }
          ],
          "carpet": [
           {
            "aaxis": {
             "endlinecolor": "#2a3f5f",
             "gridcolor": "white",
             "linecolor": "white",
             "minorgridcolor": "white",
             "startlinecolor": "#2a3f5f"
            },
            "baxis": {
             "endlinecolor": "#2a3f5f",
             "gridcolor": "white",
             "linecolor": "white",
             "minorgridcolor": "white",
             "startlinecolor": "#2a3f5f"
            },
            "type": "carpet"
           }
          ],
          "choropleth": [
           {
            "colorbar": {
             "outlinewidth": 0,
             "ticks": ""
            },
            "type": "choropleth"
           }
          ],
          "contour": [
           {
            "colorbar": {
             "outlinewidth": 0,
             "ticks": ""
            },
            "colorscale": [
             [
              0,
              "#0d0887"
             ],
             [
              0.1111111111111111,
              "#46039f"
             ],
             [
              0.2222222222222222,
              "#7201a8"
             ],
             [
              0.3333333333333333,
              "#9c179e"
             ],
             [
              0.4444444444444444,
              "#bd3786"
             ],
             [
              0.5555555555555556,
              "#d8576b"
             ],
             [
              0.6666666666666666,
              "#ed7953"
             ],
             [
              0.7777777777777778,
              "#fb9f3a"
             ],
             [
              0.8888888888888888,
              "#fdca26"
             ],
             [
              1,
              "#f0f921"
             ]
            ],
            "type": "contour"
           }
          ],
          "contourcarpet": [
           {
            "colorbar": {
             "outlinewidth": 0,
             "ticks": ""
            },
            "type": "contourcarpet"
           }
          ],
          "heatmap": [
           {
            "colorbar": {
             "outlinewidth": 0,
             "ticks": ""
            },
            "colorscale": [
             [
              0,
              "#0d0887"
             ],
             [
              0.1111111111111111,
              "#46039f"
             ],
             [
              0.2222222222222222,
              "#7201a8"
             ],
             [
              0.3333333333333333,
              "#9c179e"
             ],
             [
              0.4444444444444444,
              "#bd3786"
             ],
             [
              0.5555555555555556,
              "#d8576b"
             ],
             [
              0.6666666666666666,
              "#ed7953"
             ],
             [
              0.7777777777777778,
              "#fb9f3a"
             ],
             [
              0.8888888888888888,
              "#fdca26"
             ],
             [
              1,
              "#f0f921"
             ]
            ],
            "type": "heatmap"
           }
          ],
          "histogram": [
           {
            "marker": {
             "pattern": {
              "fillmode": "overlay",
              "size": 10,
              "solidity": 0.2
             }
            },
            "type": "histogram"
           }
          ],
          "histogram2d": [
           {
            "colorbar": {
             "outlinewidth": 0,
             "ticks": ""
            },
            "colorscale": [
             [
              0,
              "#0d0887"
             ],
             [
              0.1111111111111111,
              "#46039f"
             ],
             [
              0.2222222222222222,
              "#7201a8"
             ],
             [
              0.3333333333333333,
              "#9c179e"
             ],
             [
              0.4444444444444444,
              "#bd3786"
             ],
             [
              0.5555555555555556,
              "#d8576b"
             ],
             [
              0.6666666666666666,
              "#ed7953"
             ],
             [
              0.7777777777777778,
              "#fb9f3a"
             ],
             [
              0.8888888888888888,
              "#fdca26"
             ],
             [
              1,
              "#f0f921"
             ]
            ],
            "type": "histogram2d"
           }
          ],
          "histogram2dcontour": [
           {
            "colorbar": {
             "outlinewidth": 0,
             "ticks": ""
            },
            "colorscale": [
             [
              0,
              "#0d0887"
             ],
             [
              0.1111111111111111,
              "#46039f"
             ],
             [
              0.2222222222222222,
              "#7201a8"
             ],
             [
              0.3333333333333333,
              "#9c179e"
             ],
             [
              0.4444444444444444,
              "#bd3786"
             ],
             [
              0.5555555555555556,
              "#d8576b"
             ],
             [
              0.6666666666666666,
              "#ed7953"
             ],
             [
              0.7777777777777778,
              "#fb9f3a"
             ],
             [
              0.8888888888888888,
              "#fdca26"
             ],
             [
              1,
              "#f0f921"
             ]
            ],
            "type": "histogram2dcontour"
           }
          ],
          "mesh3d": [
           {
            "colorbar": {
             "outlinewidth": 0,
             "ticks": ""
            },
            "type": "mesh3d"
           }
          ],
          "parcoords": [
           {
            "line": {
             "colorbar": {
              "outlinewidth": 0,
              "ticks": ""
             }
            },
            "type": "parcoords"
           }
          ],
          "pie": [
           {
            "automargin": true,
            "type": "pie"
           }
          ],
          "scatter": [
           {
            "fillpattern": {
             "fillmode": "overlay",
             "size": 10,
             "solidity": 0.2
            },
            "type": "scatter"
           }
          ],
          "scatter3d": [
           {
            "line": {
             "colorbar": {
              "outlinewidth": 0,
              "ticks": ""
             }
            },
            "marker": {
             "colorbar": {
              "outlinewidth": 0,
              "ticks": ""
             }
            },
            "type": "scatter3d"
           }
          ],
          "scattercarpet": [
           {
            "marker": {
             "colorbar": {
              "outlinewidth": 0,
              "ticks": ""
             }
            },
            "type": "scattercarpet"
           }
          ],
          "scattergeo": [
           {
            "marker": {
             "colorbar": {
              "outlinewidth": 0,
              "ticks": ""
             }
            },
            "type": "scattergeo"
           }
          ],
          "scattergl": [
           {
            "marker": {
             "colorbar": {
              "outlinewidth": 0,
              "ticks": ""
             }
            },
            "type": "scattergl"
           }
          ],
          "scattermap": [
           {
            "marker": {
             "colorbar": {
              "outlinewidth": 0,
              "ticks": ""
             }
            },
            "type": "scattermap"
           }
          ],
          "scattermapbox": [
           {
            "marker": {
             "colorbar": {
              "outlinewidth": 0,
              "ticks": ""
             }
            },
            "type": "scattermapbox"
           }
          ],
          "scatterpolar": [
           {
            "marker": {
             "colorbar": {
              "outlinewidth": 0,
              "ticks": ""
             }
            },
            "type": "scatterpolar"
           }
          ],
          "scatterpolargl": [
           {
            "marker": {
             "colorbar": {
              "outlinewidth": 0,
              "ticks": ""
             }
            },
            "type": "scatterpolargl"
           }
          ],
          "scatterternary": [
           {
            "marker": {
             "colorbar": {
              "outlinewidth": 0,
              "ticks": ""
             }
            },
            "type": "scatterternary"
           }
          ],
          "surface": [
           {
            "colorbar": {
             "outlinewidth": 0,
             "ticks": ""
            },
            "colorscale": [
             [
              0,
              "#0d0887"
             ],
             [
              0.1111111111111111,
              "#46039f"
             ],
             [
              0.2222222222222222,
              "#7201a8"
             ],
             [
              0.3333333333333333,
              "#9c179e"
             ],
             [
              0.4444444444444444,
              "#bd3786"
             ],
             [
              0.5555555555555556,
              "#d8576b"
             ],
             [
              0.6666666666666666,
              "#ed7953"
             ],
             [
              0.7777777777777778,
              "#fb9f3a"
             ],
             [
              0.8888888888888888,
              "#fdca26"
             ],
             [
              1,
              "#f0f921"
             ]
            ],
            "type": "surface"
           }
          ],
          "table": [
           {
            "cells": {
             "fill": {
              "color": "#EBF0F8"
             },
             "line": {
              "color": "white"
             }
            },
            "header": {
             "fill": {
              "color": "#C8D4E3"
             },
             "line": {
              "color": "white"
             }
            },
            "type": "table"
           }
          ]
         },
         "layout": {
          "annotationdefaults": {
           "arrowcolor": "#2a3f5f",
           "arrowhead": 0,
           "arrowwidth": 1
          },
          "autotypenumbers": "strict",
          "coloraxis": {
           "colorbar": {
            "outlinewidth": 0,
            "ticks": ""
           }
          },
          "colorscale": {
           "diverging": [
            [
             0,
             "#8e0152"
            ],
            [
             0.1,
             "#c51b7d"
            ],
            [
             0.2,
             "#de77ae"
            ],
            [
             0.3,
             "#f1b6da"
            ],
            [
             0.4,
             "#fde0ef"
            ],
            [
             0.5,
             "#f7f7f7"
            ],
            [
             0.6,
             "#e6f5d0"
            ],
            [
             0.7,
             "#b8e186"
            ],
            [
             0.8,
             "#7fbc41"
            ],
            [
             0.9,
             "#4d9221"
            ],
            [
             1,
             "#276419"
            ]
           ],
           "sequential": [
            [
             0,
             "#0d0887"
            ],
            [
             0.1111111111111111,
             "#46039f"
            ],
            [
             0.2222222222222222,
             "#7201a8"
            ],
            [
             0.3333333333333333,
             "#9c179e"
            ],
            [
             0.4444444444444444,
             "#bd3786"
            ],
            [
             0.5555555555555556,
             "#d8576b"
            ],
            [
             0.6666666666666666,
             "#ed7953"
            ],
            [
             0.7777777777777778,
             "#fb9f3a"
            ],
            [
             0.8888888888888888,
             "#fdca26"
            ],
            [
             1,
             "#f0f921"
            ]
           ],
           "sequentialminus": [
            [
             0,
             "#0d0887"
            ],
            [
             0.1111111111111111,
             "#46039f"
            ],
            [
             0.2222222222222222,
             "#7201a8"
            ],
            [
             0.3333333333333333,
             "#9c179e"
            ],
            [
             0.4444444444444444,
             "#bd3786"
            ],
            [
             0.5555555555555556,
             "#d8576b"
            ],
            [
             0.6666666666666666,
             "#ed7953"
            ],
            [
             0.7777777777777778,
             "#fb9f3a"
            ],
            [
             0.8888888888888888,
             "#fdca26"
            ],
            [
             1,
             "#f0f921"
            ]
           ]
          },
          "colorway": [
           "#636efa",
           "#EF553B",
           "#00cc96",
           "#ab63fa",
           "#FFA15A",
           "#19d3f3",
           "#FF6692",
           "#B6E880",
           "#FF97FF",
           "#FECB52"
          ],
          "font": {
           "color": "#2a3f5f"
          },
          "geo": {
           "bgcolor": "white",
           "lakecolor": "white",
           "landcolor": "#E5ECF6",
           "showlakes": true,
           "showland": true,
           "subunitcolor": "white"
          },
          "hoverlabel": {
           "align": "left"
          },
          "hovermode": "closest",
          "mapbox": {
           "style": "light"
          },
          "paper_bgcolor": "white",
          "plot_bgcolor": "#E5ECF6",
          "polar": {
           "angularaxis": {
            "gridcolor": "white",
            "linecolor": "white",
            "ticks": ""
           },
           "bgcolor": "#E5ECF6",
           "radialaxis": {
            "gridcolor": "white",
            "linecolor": "white",
            "ticks": ""
           }
          },
          "scene": {
           "xaxis": {
            "backgroundcolor": "#E5ECF6",
            "gridcolor": "white",
            "gridwidth": 2,
            "linecolor": "white",
            "showbackground": true,
            "ticks": "",
            "zerolinecolor": "white"
           },
           "yaxis": {
            "backgroundcolor": "#E5ECF6",
            "gridcolor": "white",
            "gridwidth": 2,
            "linecolor": "white",
            "showbackground": true,
            "ticks": "",
            "zerolinecolor": "white"
           },
           "zaxis": {
            "backgroundcolor": "#E5ECF6",
            "gridcolor": "white",
            "gridwidth": 2,
            "linecolor": "white",
            "showbackground": true,
            "ticks": "",
            "zerolinecolor": "white"
           }
          },
          "shapedefaults": {
           "line": {
            "color": "#2a3f5f"
           }
          },
          "ternary": {
           "aaxis": {
            "gridcolor": "white",
            "linecolor": "white",
            "ticks": ""
           },
           "baxis": {
            "gridcolor": "white",
            "linecolor": "white",
            "ticks": ""
           },
           "bgcolor": "#E5ECF6",
           "caxis": {
            "gridcolor": "white",
            "linecolor": "white",
            "ticks": ""
           }
          },
          "title": {
           "x": 0.05
          },
          "xaxis": {
           "automargin": true,
           "gridcolor": "white",
           "linecolor": "white",
           "ticks": "",
           "title": {
            "standoff": 15
           },
           "zerolinecolor": "white",
           "zerolinewidth": 2
          },
          "yaxis": {
           "automargin": true,
           "gridcolor": "white",
           "linecolor": "white",
           "ticks": "",
           "title": {
            "standoff": 15
           },
           "zerolinecolor": "white",
           "zerolinewidth": 2
          }
         }
        },
        "title": {
         "text": "🔄 Interactive Distance Comparison: Sonar vs DVL"
        },
        "xaxis": {
         "anchor": "y",
         "domain": [
          0,
          1
         ],
         "showgrid": true,
         "title": {
          "text": "Time (seconds)"
         }
        },
        "yaxis": {
         "anchor": "x",
         "domain": [
          0,
          1
         ],
         "showgrid": true,
         "title": {
          "text": "Distance (meters)"
         }
        }
       }
      }
     },
     "metadata": {},
     "output_type": "display_data"
    }
   ],
   "source": [
    "fig, comparison_stats = iau.ComparisonEngine.compare_sonar_vs_dvl(distance_results, raw_data, sonar_coverage_m=sonar_coverage_meters, sonar_image_size=image_shape[0], use_plotly=True)\n",
    "fig.show()"
   ]
  },
  {
   "cell_type": "code",
   "execution_count": null,
   "id": "50f97352",
   "metadata": {},
   "outputs": [
    {
     "name": "stdout",
     "output_type": "stream",
     "text": [
      "🎬 GENERATING VIDEO WITH DUAL NET DISTANCE OVERLAYS\n",
      "============================================================\n",
      "🎯 Target Bag: 2024-08-20_14-31-29\n",
      "📊 DVL Data: 559 records\n",
      "📏 Sonar Analysis: 1000 frames\n",
      "🎥 Camera: enabled\n",
      "🛠️ OPTIMIZED SONAR VIDEO\n",
      "======================================================================\n",
      "🎯 Target Bag: 2024-08-20_14-31-29\n",
      "   Cone Size: 900x700\n",
      "   Range: 0.0-5.0m | FOV: 120.0°\n",
      "   🎥 Camera: enabled\n",
      "   🕸  Net-line: enabled (dist tol=0.5s, pitch tol=2.0s)\n",
      "   📊 Sonar Analysis: enabled\n",
      "   Loading sonar data: sensor_sonoptix_echo_image__2024-08-20_14-31-29_video.csv\n"
     ]
    }
   ],
   "source": [
    "# 🎥 Generate Video with Both DVL and Sonar Analysis Overlays\n",
    "# ========================================================\n",
    "import utils.sonar_and_foto_generation as sg\n",
    "\n",
    "# Set up paths\n",
    "VIDEO_SEQ_DIR = '/Volumes/LaCie/SOLAQUA/exports/videos/2024-08-20_14-31-29_video__image_compressed_image_data.mp4'  # Set to path if you want camera footage included\n",
    "\n",
    "print(\"🎬 GENERATING VIDEO WITH DUAL NET DISTANCE OVERLAYS\")\n",
    "print(\"=\" * 60)\n",
    "print(f\"🎯 Target Bag: {TARGET_BAG}\")\n",
    "print(f\"📊 DVL Data: {len(raw_data.get('navigation', []))} records\")\n",
    "print(f\"📏 Sonar Analysis: {len(distance_results)} frames\")\n",
    "print(f\"🎥 Camera: {'enabled' if VIDEO_SEQ_DIR else 'disabled'}\")\n",
    "\n",
    "# Generate the video with both overlays\n",
    "try:\n",
    "    video_path = sg.export_optimized_sonar_video(\n",
    "        TARGET_BAG=TARGET_BAG,\n",
    "        EXPORTS_FOLDER=EXPORTS_FOLDER,\n",
    "        START_IDX=1,\n",
    "        END_IDX=1000,  # Adjust as needed\n",
    "        STRIDE=1,\n",
    "        VIDEO_SEQ_DIR=VIDEO_SEQ_DIR,\n",
    "        INCLUDE_NET=True,  # Enable DVL net distance overlay\n",
    "        SONAR_DISTANCE_RESULTS=distance_results,  # Enable sonar analysis overlay\n",
    "        NET_DISTANCE_TOLERANCE=0.5,\n",
    "        NET_PITCH_TOLERANCE=2.0,  # Increased from 0.3 to 2.0 seconds for better pitch sync\n",
    "    )\n",
    "\n",
    "    print(f\"\\n✅ Video generated successfully!\")\n",
    "    print(f\"📁 Output: {video_path}\")\n",
    "except Exception as e:\n",
    "    print(f\"❌ Error generating video: {e}\")"
   ]
  },
  {
   "cell_type": "code",
   "execution_count": null,
   "id": "0fa1311b",
   "metadata": {},
   "outputs": [],
   "source": []
  }
 ],
 "metadata": {
  "kernelspec": {
   "display_name": "venv",
   "language": "python",
   "name": "python3"
  },
  "language_info": {
   "codemirror_mode": {
    "name": "ipython",
    "version": 3
   },
   "file_extension": ".py",
   "mimetype": "text/x-python",
   "name": "python",
   "nbconvert_exporter": "python",
   "pygments_lexer": "ipython3",
   "version": "3.13.5"
  }
 },
 "nbformat": 4,
 "nbformat_minor": 5
}
