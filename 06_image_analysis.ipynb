{
 "cells": [
  {
   "cell_type": "code",
   "execution_count": 1,
   "id": "7a8d02c0",
   "metadata": {},
   "outputs": [],
   "source": [
    "from pathlib import Path\n",
    "import utils.sonar_image_analysis as iau\n",
    "import importlib\n",
    "importlib.reload(iau)\n",
    "\n",
    "# Centralized sonar defaults (inserted by sweep)\n",
    "from utils.sonar_config import SONAR_VIS_DEFAULTS\n",
    "sonar_config = SONAR_VIS_DEFAULTS.copy()\n",
    "# Backwards-compatible variable names used in older notebooks\n",
    "RANGE_MIN_M = sonar_config['range_min_m']\n",
    "RANGE_MAX_M = sonar_config['range_max_m']\n",
    "DISPLAY_RANGE_MAX_M = sonar_config['display_range_max_m']"
   ]
  },
  {
   "cell_type": "markdown",
   "id": "9220eb1d",
   "metadata": {},
   "source": [
    "# Simple Image Analysis with CV2\n",
    "\n",
    "This notebook demonstrates:\n",
    "1. **Pick a frame** from NPZ files and save it locally\n",
    "2. **Use standard cv2 functions** directly for image processing\n",
    "3. **Experiment** with different OpenCV operations"
   ]
  },
  {
   "cell_type": "code",
   "execution_count": 2,
   "id": "4b3e8f46",
   "metadata": {},
   "outputs": [
    {
     "name": "stdout",
     "output_type": "stream",
     "text": [
      "Using DATA_DIR = /Volumes/LaCie/SOLAQUA/raw_data\n",
      "Selected NPZ file: 2024-08-20_13-55-34_data_cones.npz (index=3)\n"
     ]
    }
   ],
   "source": [
    "\n",
    "\n",
    "# Prefer selecting by bag ID (part of the NPZ filename) instead of a numeric index.\n",
    "# Set TARGET_BAG to a substring that appears in the NPZ filename \n",
    "# '2024-08-22_14-47-39' #1\n",
    "# '2024-08-22_14-29-05' #2\n",
    "# '2024-08-20_14-22-12' #3\n",
    "# '2024-08-20_14-31-29' #4\n",
    "# '2024-08-20_18-47-40' #5\n",
    "# '2024-08-20_13-55-34' #6\n",
    "# '2024-08-20_13-57-42' #7\n",
    "TARGET_BAG = '2024-08-20_13-55-34'  # change this to your desired bag ID\n",
    "from utils.sonar_config import EXPORTS_DIR_DEFAULT, EXPORTS_SUBDIRS\n",
    "EXPORTS_FOLDER = Path(EXPORTS_DIR_DEFAULT)\n",
    "\n",
    "# If you keep your raw .bag files or raw data on an external drive, point DATA_DIR there.\n",
    "# Example (your external disk): /Volumes/LaCie/SOLAQUA/raw_data\n",
    "DATA_DIR = Path(\"/Volumes/LaCie/SOLAQUA/raw_data\")\n",
    "print(f\"Using DATA_DIR = {DATA_DIR}\")\n",
    "\n",
    "# Find NPZ files and pick the one matching TARGET_BAG\n",
    "files = iau.get_available_npz_files()\n",
    "if not files:\n",
    "    raise FileNotFoundError(f\"No NPZ files found in configured exports outputs (looked under {EXPORTS_FOLDER / EXPORTS_SUBDIRS.get('outputs','outputs')})\")\n",
    "matches = [p for p in files if TARGET_BAG in p.name]\n",
    "if not matches:\n",
    "    # Help the user by listing available NPZ files\n",
    "    print(f'No NPZ file matched TARGET_BAG={TARGET_BAG!r}')\n",
    "    print('Available NPZ files:')\n",
    "    for i,p in enumerate(files):\n",
    "        print(f'  {i}: {p.name}')\n",
    "    raise ValueError(f'No NPZ file contains \"{TARGET_BAG}\" in its name')\n",
    "\n",
    "# If multiple matches, choose the most recently modified one\n",
    "selected = max(matches, key=lambda p: p.stat().st_mtime)\n",
    "NPZ_FILE_INDEX = files.index(selected)\n",
    "print(f'Selected NPZ file: {selected.name} (index={NPZ_FILE_INDEX})')"
   ]
  },
  {
   "cell_type": "markdown",
   "id": "0c65358c",
   "metadata": {},
   "source": [
    "## Distance Analysis Over Time\n",
    "\n",
    "Now let's perform a comprehensive analysis of the red line distance over time. The red line represents the major axis of the detected elongated contour (likely a fishing net), and we'll track how this distance changes throughout the video sequence."
   ]
  },
  {
   "cell_type": "code",
   "execution_count": 3,
   "id": "b9c5da85",
   "metadata": {},
   "outputs": [
    {
     "name": "stdout",
     "output_type": "stream",
     "text": [
      "=== ENHANCED VIDEO CREATION (Simplified) ===\n",
      "Creating video with simplified processor...\n",
      "Frames: 1500, step: 1\n",
      "Processing 769 frames with simplified processor...\n",
      "Processed 10/769 frames\n",
      "Processed 20/769 frames\n",
      "Processed 30/769 frames\n",
      "Processed 40/769 frames\n",
      "Processed 50/769 frames\n",
      "Processed 60/769 frames\n",
      "Processed 70/769 frames\n",
      "Processed 80/769 frames\n",
      "Processed 90/769 frames\n",
      "Processed 100/769 frames\n",
      "Processed 110/769 frames\n",
      "Processed 120/769 frames\n",
      "Processed 130/769 frames\n",
      "Processed 140/769 frames\n",
      "Processed 150/769 frames\n",
      "Processed 160/769 frames\n",
      "Processed 170/769 frames\n",
      "Processed 180/769 frames\n",
      "Processed 190/769 frames\n",
      "Processed 200/769 frames\n",
      "Processed 210/769 frames\n",
      "Processed 220/769 frames\n",
      "Processed 230/769 frames\n",
      "Processed 240/769 frames\n",
      "Processed 250/769 frames\n",
      "Processed 260/769 frames\n",
      "Processed 270/769 frames\n",
      "Processed 280/769 frames\n",
      "Processed 290/769 frames\n",
      "Processed 300/769 frames\n",
      "Processed 310/769 frames\n",
      "Processed 320/769 frames\n",
      "Processed 330/769 frames\n",
      "Processed 340/769 frames\n",
      "Processed 350/769 frames\n",
      "Processed 360/769 frames\n",
      "Processed 370/769 frames\n",
      "Processed 380/769 frames\n",
      "Processed 390/769 frames\n",
      "Processed 400/769 frames\n",
      "Processed 410/769 frames\n",
      "Processed 420/769 frames\n",
      "Processed 430/769 frames\n",
      "Processed 440/769 frames\n",
      "Processed 450/769 frames\n",
      "Processed 460/769 frames\n",
      "Processed 470/769 frames\n",
      "Processed 480/769 frames\n",
      "Processed 490/769 frames\n",
      "Processed 500/769 frames\n",
      "Processed 510/769 frames\n",
      "Processed 520/769 frames\n",
      "Processed 530/769 frames\n",
      "Processed 540/769 frames\n",
      "Processed 550/769 frames\n",
      "Processed 560/769 frames\n",
      "Processed 570/769 frames\n",
      "Processed 580/769 frames\n",
      "Processed 590/769 frames\n",
      "Processed 600/769 frames\n",
      "Processed 610/769 frames\n",
      "Processed 620/769 frames\n",
      "Processed 630/769 frames\n",
      "Processed 640/769 frames\n",
      "Processed 650/769 frames\n",
      "Processed 660/769 frames\n",
      "Processed 670/769 frames\n",
      "Processed 680/769 frames\n",
      "Processed 690/769 frames\n",
      "Processed 700/769 frames\n",
      "Processed 710/769 frames\n",
      "Processed 720/769 frames\n",
      "Processed 730/769 frames\n",
      "Processed 740/769 frames\n",
      "Processed 750/769 frames\n",
      "Processed 760/769 frames\n",
      "\n",
      "=== ENHANCED VIDEO CREATION COMPLETE ===\n",
      "Video saved to: /Volumes/LaCie/SOLAQUA/exports/videos/core_aoi_tracking.mp4\n",
      "Video specs: 900x700, 15 fps, 769 frames\n",
      "SIMPLIFIED TRACKING STATS:\n",
      "  - Total detected frames: 769\n",
      "  - Lost/searching frames: 0\n",
      "  - Detection success rate: 100.0%\n"
     ]
    }
   ],
   "source": [
    "# Create the unified processor\n",
    "processor = iau.SonarDataProcessor()\n",
    "\n",
    "# Use the enhanced video creation with CORE processor\n",
    "video_path = iau.create_enhanced_contour_detection_video_with_processor(\n",
    "    npz_file_index=NPZ_FILE_INDEX,          # Which NPZ file to use\n",
    "    frame_start=1,           # Starting frame\n",
    "    frame_count=1500,         # Number of frames to process\n",
    "    frame_step=1,            # Step between frames\n",
    "    output_path=Path(EXPORTS_DIR_DEFAULT) / EXPORTS_SUBDIRS.get('videos','videos') / 'core_aoi_tracking.mp4',\n",
    "    processor=processor      # Use our CORE processor\n",
    ")"
   ]
  },
  {
   "cell_type": "code",
   "execution_count": 4,
   "id": "d9c0382e",
   "metadata": {},
   "outputs": [
    {
     "name": "stdout",
     "output_type": "stream",
     "text": [
      "=== DISTANCE ANALYSIS FROM NPZ ===\n",
      "Analyzing: /Volumes/LaCie/SOLAQUA/exports/outputs/2024-08-20_13-55-34_data_cones.npz\n",
      "Processing 769 frames from 1 (step=1)\n",
      "  Processed 50/769 frames (Success rate: 100.0%)\n",
      "  Processed 100/769 frames (Success rate: 100.0%)\n",
      "  Processed 150/769 frames (Success rate: 100.0%)\n",
      "  Processed 200/769 frames (Success rate: 100.0%)\n",
      "  Processed 250/769 frames (Success rate: 99.2%)\n",
      "  Processed 300/769 frames (Success rate: 98.3%)\n",
      "  Processed 350/769 frames (Success rate: 96.0%)\n",
      "  Processed 400/769 frames (Success rate: 93.5%)\n",
      "  Processed 450/769 frames (Success rate: 91.3%)\n",
      "  Processed 500/769 frames (Success rate: 92.2%)\n",
      "  Processed 550/769 frames (Success rate: 92.2%)\n",
      "  Processed 600/769 frames (Success rate: 89.0%)\n",
      "  Processed 650/769 frames (Success rate: 88.9%)\n",
      "  Processed 700/769 frames (Success rate: 88.4%)\n",
      "  Processed 750/769 frames (Success rate: 88.7%)\n",
      "\n",
      "=== ANALYSIS COMPLETE ===\n",
      "Total frames processed: 769\n",
      "Successful detections: 676 (87.9%)\n",
      "Distance statistics (meters):\n",
      "  - Mean: 2.286\n",
      "  - Std:  0.390\n",
      "  - Min:  1.466\n",
      "  - Max:  2.828\n",
      "  - Range: 1.363\n",
      "Analyzed 769 frames using elliptical AOI\n",
      " Detection success rate: 87.9%\n",
      " Elliptical tracking active: 0 frames\n"
     ]
    }
   ],
   "source": [
    "engine = iau.DistanceAnalysisEngine()\n",
    "distance_results = engine.analyze_npz_sequence(\n",
    "    npz_file_index=NPZ_FILE_INDEX,    \n",
    "    frame_start=1,        # Start from frame 1\n",
    "    frame_count=1500,      # Analyze all frames from the video\n",
    "    frame_step=1          # Every frame\n",
    ")\n",
    "\n",
    "print(f\"Analyzed {len(distance_results)} frames using elliptical AOI\")\n",
    "print(f\" Detection success rate: {distance_results['detection_success'].mean():.1%}\")\n",
    "print(f\" Elliptical tracking active: {(distance_results['tracking_status'].str.contains('ELLIPSE')).sum()} frames\")"
   ]
  },
  {
   "cell_type": "markdown",
   "id": "fede9d64",
   "metadata": {},
   "source": [
    "## Convert to Real-World Distances\n",
    "\n",
    "Now let's convert the pixel distances to real-world distances using the fact that the entire sonar image represents a 10x10 meter area."
   ]
  },
  {
   "cell_type": "code",
   "execution_count": null,
   "id": "886897de",
   "metadata": {},
   "outputs": [
    {
     "name": "stdout",
     "output_type": "stream",
     "text": [
      "Detected NPZ extent: x=[-8.660,8.660] m, y=[0.000,10.000] m\n",
      "Image shape from NPZ: H=700, W=900\n",
      "meters/pixel: x=0.019245, y=0.014286, avg=0.016765\n",
      "Using pixels_to_meters_avg = 0.016765 m/px\n"
     ]
    }
   ],
   "source": [
    "# Auto-detect pixel->meter mapping from the selected NPZ (if available)\n",
    "try:\n",
    "    cones, ts, extent, meta = iau.load_cone_run_npz(selected)\n",
    "    T, H, W = cones.shape\n",
    "    x_min, x_max, y_min, y_max = extent\n",
    "    width_m = float(x_max - x_min)\n",
    "    height_m = float(y_max - y_min)\n",
    "    px2m_x = width_m / float(W)\n",
    "    px2m_y = height_m / float(H)\n",
    "    pixels_to_meters_avg = 0.5 * (px2m_x + px2m_y)\n",
    "    image_shape = (H, W)\n",
    "    sonar_coverage_meters = max(width_m, height_m)\n",
    "    print(f\"Detected NPZ extent: x=[{x_min:.3f},{x_max:.3f}] m, y=[{y_min:.3f},{y_max:.3f}] m\")\n",
    "    print(f\"Image shape from NPZ: H={H}, W={W}\")\n",
    "    print(f\"meters/pixel: x={px2m_x:.6f}, y={px2m_y:.6f}, avg={pixels_to_meters_avg:.6f}\")\n",
    "except Exception as e:\n",
    "    print(\"Could not read NPZ metadata:\", e)\n",
    "    print(\"Falling back to defaults from sonar_config.\")\n",
    "    from utils.sonar_config import CONE_H_DEFAULT, CONE_W_DEFAULT, DISPLAY_RANGE_MAX_M_DEFAULT\n",
    "    image_shape = (CONE_H_DEFAULT, CONE_W_DEFAULT)\n",
    "    sonar_coverage_meters = DISPLAY_RANGE_MAX_M_DEFAULT * 2  # approximate\n",
    "    pixels_to_meters_avg = sonar_coverage_meters / max(image_shape)\n",
    "    \n",
    "# Use the computed pixels_to_meters_avg in downstream analysis\n",
    "print(f\"Using pixels_to_meters_avg = {pixels_to_meters_avg:.6f} m/px\")"
   ]
  },
  {
   "cell_type": "code",
   "execution_count": null,
   "id": "15d6238c",
   "metadata": {},
   "outputs": [
    {
     "data": {
      "application/vnd.plotly.v1+json": {
       "config": {
        "plotlyServerURL": "https://plot.ly"
       },
       "data": [
        {
         "line": {
          "color": "blue"
         },
         "mode": "lines+markers",
         "name": "Distance",
         "type": "scatter",
         "x": {
          "bdata": "AQACAAMABAAFAAYABwAIAAkACgALAAwADQAOAA8AEAARABIAEwAUABUAFgAXABgAGQAaABsAHAAdAB4AHwAgACEAIgAjACQAJQAmACcAKAApACoAKwAsAC0ALgAvADAAMQAyADMANAA1ADYANwA4ADkAOgA7ADwAPQA+AD8AQABBAEIAQwBEAEUARgBHAEgASQBKAEsATABNAE4ATwBQAFEAUgBTAFQAVQBWAFcAWABZAFoAWwBcAF0AXgBfAGAAYQBiAGMAZABlAGYAZwBoAGkAagBrAGwAbQBuAG8AcABxAHIAcwB0AHUAdgB3AHgAeQB6AHsAfAB9AH4AfwCAAIEAggCDAIQAhQCGAIcAiACJAIoAiwCMAI0AjgCPAJAAkQCSAJMAlACVAJYAlwCYAJkAmgCbAJwAnQCeAJ8AoAChAKIAowCkAKUApgCnAKgAqQCqAKsArACtAK4ArwCwALEAsgCzALQAtQC2ALcAuAC5ALoAuwC8AL0AvgC/AMAAwQDCAMMAxADFAMYAxwDIAMkAygDLAMwAzQDOAM8A0ADRANIA0wDUANUA1gDXANgA2QDaANsA3ADdAN4A3wDgAOEA4gDjAOQA5QDmAOcA6ADpAOoA6wDuAO8A8ADxAPIA8wD0APUA9gD3APgA+QD6APsA/AD9AP4A/wAAAQEBAgEDAQQBBQEGAQgBCgELAQwBDQEOAQ8BEAERARIBEwEUARUBFgEXARgBGQEaARsBHAEeAR8BIAEhASIBIwEkASUBJgEnASgBKQEqASsBLAEtAS4BLwEwATEBMgEzATQBNQE2ATcBOQE6ATsBPAE+AUABQQFCAUMBRAFFAUYBRwFKAUwBTQFOAU8BUAFRAVIBUwFUAVYBVwFYAVkBWgFcAV0BYQFjAWQBZQFmAWgBaQFqAWsBbAFuAW8BcgFzAXQBdQF2AXcBegF7AXwBfQF+AX8BgAGCAYMBhAGFAYYBhwGIAYoBiwGNAY4BjwGQAZQBlQGaAZsBnQGeAZ8BoAGhAaUBpgGnAakBqgGrAawBrQGuAa8BsQGyAbMBtAG1AbYBtwG4AbkBugG7AbwBvQG+Ab8BwAHBAcIBwwHEAcUBxgHHAcgByQHKAcsBzAHNAc4BzwHQAdEB0gHTAdQB1QHWAdcB2AHZAdoB2wHcAd0B3gHfAeAB4QHiAeMB5AHlAeYB5wHoAekB6gHrAewB7QHuAe8B8AHxAfIB8wH0AfUB9gH3AfgB+QH6AfsB/AH9Af4B/wEAAgECAgIDAgQCBQIGAgcCCAIJAgoCCwIMAg0CDgIPAhACEQISAhMCFAIVAhYCGAIZAhsCHAIdAh4CHwIhAiICIwIkAiYCJwIoAikCKwIsAi0CLgIvAjUCNgI3AjgCOQI8Aj0CQQJCAkMCRQJGAkgCSwJNAk4CVAJVAlgCWQJaAlsCXAJdAl4CXwJhAmICYwJkAmUCZwJqAmwCbQJuAm8CcAJxAnICcwJ0AnUCdgJ3AngCeQJ6AnsCfAJ9An8CgAKBAoICgwKEAoUChgKHAogCiQKKAosCjAKNAo4CjwKQApECkgKTApcCmAKZApsCnAKdAp4CnwKgAqMCpAKlAqYCpwKoAqkCqgKrAqwCrgKvArACsQKyArMCtAK1ArcCuQK6ArsCvAK9Ar4CvwLAAsECwgLDAsUCxgLHAsgCyQLKAssCzALNAs4CzwLRAtIC0wLUAtUC1gLXAtgC2QLaAtsC3ALdAt4C3wLgAuEC4gLjAuUC5gLoAukC6gLrAuwC7QLuAu8C8QLyAvQC9QL2AvkC+wL/AgADAQM=",
          "dtype": "i2"
         },
         "xaxis": "x",
         "y": {
          "bdata": "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",
          "dtype": "f8"
         },
         "yaxis": "y"
        },
        {
         "line": {
          "color": "green"
         },
         "mode": "lines+markers",
         "name": "Distance over Time",
         "type": "scatter",
         "x": [
          "2024-08-20T11:55:37.091250181",
          "2024-08-20T11:55:37.155596018",
          "2024-08-20T11:55:37.220716715",
          "2024-08-20T11:55:37.286586523",
          "2024-08-20T11:55:37.350666523",
          "2024-08-20T11:55:37.412532330",
          "2024-08-20T11:55:37.479352951",
          "2024-08-20T11:55:37.552163124",
          "2024-08-20T11:55:37.603324413",
          "2024-08-20T11:55:37.667636633",
          "2024-08-20T11:55:37.736027479",
          "2024-08-20T11:55:37.829750776",
          "2024-08-20T11:55:37.862665892",
          "2024-08-20T11:55:37.926489115",
          "2024-08-20T11:55:37.987355471",
          "2024-08-20T11:55:38.056141376",
          "2024-08-20T11:55:38.116017103",
          "2024-08-20T11:55:38.182870865",
          "2024-08-20T11:55:38.246228218",
          "2024-08-20T11:55:38.308063984",
          "2024-08-20T11:55:38.372888327",
          "2024-08-20T11:55:38.436717510",
          "2024-08-20T11:55:38.500549078",
          "2024-08-20T11:55:38.564376354",
          "2024-08-20T11:55:38.628707647",
          "2024-08-20T11:55:38.693049669",
          "2024-08-20T11:55:38.756918669",
          "2024-08-20T11:55:38.823739052",
          "2024-08-20T11:55:38.888600349",
          "2024-08-20T11:55:38.949406624",
          "2024-08-20T11:55:39.012236595",
          "2024-08-20T11:55:39.078061581",
          "2024-08-20T11:55:39.144956350",
          "2024-08-20T11:55:39.203378916",
          "2024-08-20T11:55:39.269845486",
          "2024-08-20T11:55:39.333674431",
          "2024-08-20T11:55:39.397540808",
          "2024-08-20T11:55:39.477293730",
          "2024-08-20T11:55:39.525837898",
          "2024-08-20T11:55:39.588669538",
          "2024-08-20T11:55:39.653207302",
          "2024-08-20T11:55:39.715553045",
          "2024-08-20T11:55:39.787356615",
          "2024-08-20T11:55:39.845203161",
          "2024-08-20T11:55:39.908035040",
          "2024-08-20T11:55:39.974855661",
          "2024-08-20T11:55:40.036197424",
          "2024-08-20T11:55:40.100980759",
          "2024-08-20T11:55:40.163813829",
          "2024-08-20T11:55:40.228671551",
          "2024-08-20T11:55:40.306433201",
          "2024-08-20T11:55:40.369263172",
          "2024-08-20T11:55:40.426147699",
          "2024-08-20T11:55:40.484954357",
          "2024-08-20T11:55:40.547788858",
          "2024-08-20T11:55:40.660111189",
          "2024-08-20T11:55:40.717911720",
          "2024-08-20T11:55:40.799693346",
          "2024-08-20T11:55:40.860563755",
          "2024-08-20T11:55:40.916382313",
          "2024-08-20T11:55:40.978167772",
          "2024-08-20T11:55:41.026036978",
          "2024-08-20T11:55:41.081887960",
          "2024-08-20T11:55:41.131632804",
          "2024-08-20T11:55:41.192430496",
          "2024-08-20T11:55:41.256894350",
          "2024-08-20T11:55:41.318744659",
          "2024-08-20T11:55:41.385004759",
          "2024-08-20T11:55:41.445842266",
          "2024-08-20T11:55:41.510671139",
          "2024-08-20T11:55:41.571506739",
          "2024-08-20T11:55:41.637330294",
          "2024-08-20T11:55:41.701162815",
          "2024-08-20T11:55:41.766983271",
          "2024-08-20T11:55:41.830639124",
          "2024-08-20T11:55:41.896970272",
          "2024-08-20T11:55:42.104431629",
          "2024-08-20T11:55:42.121385813",
          "2024-08-20T11:55:42.173245907",
          "2024-08-20T11:55:42.235081911",
          "2024-08-20T11:55:42.279962063",
          "2024-08-20T11:55:42.325839043",
          "2024-08-20T11:55:42.384681463",
          "2024-08-20T11:55:42.433550119",
          "2024-08-20T11:55:42.478947401",
          "2024-08-20T11:55:42.543773890",
          "2024-08-20T11:55:42.596633196",
          "2024-08-20T11:55:42.660071850",
          "2024-08-20T11:55:42.726402044",
          "2024-08-20T11:55:42.792907476",
          "2024-08-20T11:55:42.853735447",
          "2024-08-20T11:55:42.915568829",
          "2024-08-20T11:55:42.980395794",
          "2024-08-20T11:55:43.048203230",
          "2024-08-20T11:55:43.109038591",
          "2024-08-20T11:55:43.174080610",
          "2024-08-20T11:55:43.235267639",
          "2024-08-20T11:55:43.301123619",
          "2024-08-20T11:55:43.363921165",
          "2024-08-20T11:55:43.475641012",
          "2024-08-20T11:55:43.536494017",
          "2024-08-20T11:55:43.600289583",
          "2024-08-20T11:55:43.659133196",
          "2024-08-20T11:55:43.715979576",
          "2024-08-20T11:55:43.770831823",
          "2024-08-20T11:55:43.825780153",
          "2024-08-20T11:55:43.878640890",
          "2024-08-20T11:55:43.942469120",
          "2024-08-20T11:55:44.006297350",
          "2024-08-20T11:55:44.078104258",
          "2024-08-20T11:55:44.131038189",
          "2024-08-20T11:55:44.199855328",
          "2024-08-20T11:55:44.260734320",
          "2024-08-20T11:55:44.325553417",
          "2024-08-20T11:55:44.396363497",
          "2024-08-20T11:55:44.456168652",
          "2024-08-20T11:55:44.515010595",
          "2024-08-20T11:55:44.582865953",
          "2024-08-20T11:55:44.645661116",
          "2024-08-20T11:55:44.775318861",
          "2024-08-20T11:55:44.836152792",
          "2024-08-20T11:55:44.892003059",
          "2024-08-20T11:55:44.940393925",
          "2024-08-20T11:55:45.024160624",
          "2024-08-20T11:55:45.083002090",
          "2024-08-20T11:55:45.135902405",
          "2024-08-20T11:55:45.199692249",
          "2024-08-20T11:55:45.263520001",
          "2024-08-20T11:55:45.317377806",
          "2024-08-20T11:55:45.378215075",
          "2024-08-20T11:55:45.436057568",
          "2024-08-20T11:55:45.492441654",
          "2024-08-20T11:55:45.552281141",
          "2024-08-20T11:55:45.611124277",
          "2024-08-20T11:55:45.667971134",
          "2024-08-20T11:55:45.734792471",
          "2024-08-20T11:55:45.796629667",
          "2024-08-20T11:55:45.861455202",
          "2024-08-20T11:55:45.923328400",
          "2024-08-20T11:55:45.989113331",
          "2024-08-20T11:55:46.054813623",
          "2024-08-20T11:55:46.116648197",
          "2024-08-20T11:55:46.181473732",
          "2024-08-20T11:55:46.246300220",
          "2024-08-20T11:55:46.309133053",
          "2024-08-20T11:55:46.372965574",
          "2024-08-20T11:55:46.436790943",
          "2024-08-20T11:55:46.501617670",
          "2024-08-20T11:55:46.563453197",
          "2024-08-20T11:55:46.627309084",
          "2024-08-20T11:55:46.693144083",
          "2024-08-20T11:55:46.762918472",
          "2024-08-20T11:55:46.819242716",
          "2024-08-20T11:55:46.883641005",
          "2024-08-20T11:55:46.947406054",
          "2024-08-20T11:55:47.021209717",
          "2024-08-20T11:55:47.077125549",
          "2024-08-20T11:55:47.140889883",
          "2024-08-20T11:55:47.203721046",
          "2024-08-20T11:55:47.283528566",
          "2024-08-20T11:55:47.334391356",
          "2024-08-20T11:55:47.399733782",
          "2024-08-20T11:55:47.463076591",
          "2024-08-20T11:55:47.524912119",
          "2024-08-20T11:55:47.590184450",
          "2024-08-20T11:55:47.656743050",
          "2024-08-20T11:55:47.719575405",
          "2024-08-20T11:55:47.787394047",
          "2024-08-20T11:55:47.848230600",
          "2024-08-20T11:55:47.910065889",
          "2024-08-20T11:55:47.973139048",
          "2024-08-20T11:55:48.034969807",
          "2024-08-20T11:55:48.105784178",
          "2024-08-20T11:55:48.166616201",
          "2024-08-20T11:55:48.228471279",
          "2024-08-20T11:55:48.293297768",
          "2024-08-20T11:55:48.360118389",
          "2024-08-20T11:55:48.418960810",
          "2024-08-20T11:55:48.494758844",
          "2024-08-20T11:55:48.549611330",
          "2024-08-20T11:55:48.617432117",
          "2024-08-20T11:55:48.675335169",
          "2024-08-20T11:55:48.742096901",
          "2024-08-20T11:55:48.802934170",
          "2024-08-20T11:55:48.870391846",
          "2024-08-20T11:55:48.931264877",
          "2024-08-20T11:55:48.997051954",
          "2024-08-20T11:55:49.061879396",
          "2024-08-20T11:55:49.129739285",
          "2024-08-20T11:55:49.191574812",
          "2024-08-20T11:55:49.253409624",
          "2024-08-20T11:55:49.317238331",
          "2024-08-20T11:55:49.379645586",
          "2024-08-20T11:55:49.445469618",
          "2024-08-20T11:55:49.509915829",
          "2024-08-20T11:55:49.575238466",
          "2024-08-20T11:55:49.641027689",
          "2024-08-20T11:55:49.698873520",
          "2024-08-20T11:55:49.764696598",
          "2024-08-20T11:55:49.828526258",
          "2024-08-20T11:55:49.890361309",
          "2024-08-20T11:55:49.957182169",
          "2024-08-20T11:55:50.021012783",
          "2024-08-20T11:55:50.082846642",
          "2024-08-20T11:55:50.148774862",
          "2024-08-20T11:55:50.213630915",
          "2024-08-20T11:55:50.274937391",
          "2024-08-20T11:55:50.341758251",
          "2024-08-20T11:55:50.404556751",
          "2024-08-20T11:55:50.471411943",
          "2024-08-20T11:55:50.534245729",
          "2024-08-20T11:55:50.595084906",
          "2024-08-20T11:55:50.661882639",
          "2024-08-20T11:55:50.725741386",
          "2024-08-20T11:55:50.838979483",
          "2024-08-20T11:55:50.899323225",
          "2024-08-20T11:55:50.945758581",
          "2024-08-20T11:55:50.992633581",
          "2024-08-20T11:55:51.055467844",
          "2024-08-20T11:55:51.112348318",
          "2024-08-20T11:55:51.186155796",
          "2024-08-20T11:55:51.236024380",
          "2024-08-20T11:55:51.299426556",
          "2024-08-20T11:55:51.364288092",
          "2024-08-20T11:55:51.436776638",
          "2024-08-20T11:55:51.495125532",
          "2024-08-20T11:55:51.557993650",
          "2024-08-20T11:55:51.667173386",
          "2024-08-20T11:55:51.721030712",
          "2024-08-20T11:55:51.769036770",
          "2024-08-20T11:55:51.811921835",
          "2024-08-20T11:55:51.883728981",
          "2024-08-20T11:55:51.939580917",
          "2024-08-20T11:55:52.004014254",
          "2024-08-20T11:55:52.067820787",
          "2024-08-20T11:55:52.263912678",
          "2024-08-20T11:55:52.327733517",
          "2024-08-20T11:55:52.387580395",
          "2024-08-20T11:55:52.452368975",
          "2024-08-20T11:55:52.515234470",
          "2024-08-20T11:55:52.585012913",
          "2024-08-20T11:55:52.645851374",
          "2024-08-20T11:55:52.905389309",
          "2024-08-20T11:55:52.918334961",
          "2024-08-20T11:55:52.977598667",
          "2024-08-20T11:55:53.024472713",
          "2024-08-20T11:55:53.070353508",
          "2024-08-20T11:55:53.130190134",
          "2024-08-20T11:55:53.176067591",
          "2024-08-20T11:55:53.219728470",
          "2024-08-20T11:55:53.280689955",
          "2024-08-20T11:55:53.325532913",
          "2024-08-20T11:55:53.371409178",
          "2024-08-20T11:55:53.434665918",
          "2024-08-20T11:55:53.486555815",
          "2024-08-20T11:55:53.545811653",
          "2024-08-20T11:55:53.603717089",
          "2024-08-20T11:55:53.674582958",
          "2024-08-20T11:55:53.735423565",
          "2024-08-20T11:55:53.795340061",
          "2024-08-20T11:55:53.923070908",
          "2024-08-20T11:55:54.054716825",
          "2024-08-20T11:55:54.115958452",
          "2024-08-20T11:55:54.194787979",
          "2024-08-20T11:55:54.243651867",
          "2024-08-20T11:55:54.307446957",
          "2024-08-20T11:55:54.575728893",
          "2024-08-20T11:55:54.587696314",
          "2024-08-20T11:55:54.649584055",
          "2024-08-20T11:55:54.694410563",
          "2024-08-20T11:55:54.742365837",
          "2024-08-20T11:55:54.802209377",
          "2024-08-20T11:55:54.849082708",
          "2024-08-20T11:55:54.892004251",
          "2024-08-20T11:55:54.937844992",
          "2024-08-20T11:55:55.001826286",
          "2024-08-20T11:55:55.045707464",
          "2024-08-20T11:55:55.089626789",
          "2024-08-20T11:55:55.150434017",
          "2024-08-20T11:55:55.203344822",
          "2024-08-20T11:55:55.373713255",
          "2024-08-20T11:55:55.434521675",
          "2024-08-20T11:55:55.491432667",
          "2024-08-20T11:55:55.536314964",
          "2024-08-20T11:55:55.590995312",
          "2024-08-20T11:55:55.653827190",
          "2024-08-20T11:55:55.716744661",
          "2024-08-20T11:55:55.780084133",
          "2024-08-20T11:55:55.844952583",
          "2024-08-20T11:55:55.906780958",
          "2024-08-20T11:55:55.974564791",
          "2024-08-20T11:55:56.232918024",
          "2024-08-20T11:55:56.245883703",
          "2024-08-20T11:55:56.306823730",
          "2024-08-20T11:55:56.353989363",
          "2024-08-20T11:55:56.397235155",
          "2024-08-20T11:55:56.458072662",
          "2024-08-20T11:55:56.504973888",
          "2024-08-20T11:55:56.549826384",
          "2024-08-20T11:55:56.609665871",
          "2024-08-20T11:55:56.655579805",
          "2024-08-20T11:55:56.701423168",
          "2024-08-20T11:55:56.746301651",
          "2024-08-20T11:55:56.810129881",
          "2024-08-20T11:55:56.868973255",
          "2024-08-20T11:55:56.931806326",
          "2024-08-20T11:55:57.059502125",
          "2024-08-20T11:55:57.123329639",
          "2024-08-20T11:55:57.193610907",
          "2024-08-20T11:55:57.250788450",
          "2024-08-20T11:55:57.380476952",
          "2024-08-20T11:55:57.508225202",
          "2024-08-20T11:55:57.574553251",
          "2024-08-20T11:55:57.636642933",
          "2024-08-20T11:55:57.700456858",
          "2024-08-20T11:55:57.764308453",
          "2024-08-20T11:55:57.836056471",
          "2024-08-20T11:55:57.893449783",
          "2024-08-20T11:55:57.956281900",
          "2024-08-20T11:55:58.151758194",
          "2024-08-20T11:55:58.275777817",
          "2024-08-20T11:55:58.344594479",
          "2024-08-20T11:55:58.405431747",
          "2024-08-20T11:55:58.468262911",
          "2024-08-20T11:55:58.534086704",
          "2024-08-20T11:55:58.596918821",
          "2024-08-20T11:55:58.659772873",
          "2024-08-20T11:55:58.722581387",
          "2024-08-20T11:55:58.788406134",
          "2024-08-20T11:55:58.916251659",
          "2024-08-20T11:55:58.983055592",
          "2024-08-20T11:55:59.046846390",
          "2024-08-20T11:55:59.112597942",
          "2024-08-20T11:55:59.172979355",
          "2024-08-20T11:55:59.299212217",
          "2024-08-20T11:55:59.363083124",
          "2024-08-20T11:55:59.619404316",
          "2024-08-20T11:55:59.752202034",
          "2024-08-20T11:55:59.847331285",
          "2024-08-20T11:55:59.905176163",
          "2024-08-20T11:55:59.966062307",
          "2024-08-20T11:56:00.074723005",
          "2024-08-20T11:56:00.134562969",
          "2024-08-20T11:56:00.201383591",
          "2024-08-20T11:56:00.266211271",
          "2024-08-20T11:56:00.323093414",
          "2024-08-20T11:56:00.497619152",
          "2024-08-20T11:56:00.545490742",
          "2024-08-20T11:56:00.726564884",
          "2024-08-20T11:56:00.789397240",
          "2024-08-20T11:56:00.845248222",
          "2024-08-20T11:56:00.901513815",
          "2024-08-20T11:56:00.965343475",
          "2024-08-20T11:56:01.027176619",
          "2024-08-20T11:56:01.219339848",
          "2024-08-20T11:56:01.284239054",
          "2024-08-20T11:56:01.347114325",
          "2024-08-20T11:56:01.410898209",
          "2024-08-20T11:56:01.476722956",
          "2024-08-20T11:56:01.539554358",
          "2024-08-20T11:56:01.603385925",
          "2024-08-20T11:56:01.732102394",
          "2024-08-20T11:56:01.794871330",
          "2024-08-20T11:56:01.864315748",
          "2024-08-20T11:56:01.923152924",
          "2024-08-20T11:56:01.987980366",
          "2024-08-20T11:56:02.058755636",
          "2024-08-20T11:56:02.115604162",
          "2024-08-20T11:56:02.245256424",
          "2024-08-20T11:56:02.309086800",
          "2024-08-20T11:56:02.436744452",
          "2024-08-20T11:56:02.506557940",
          "2024-08-20T11:56:02.572381496",
          "2024-08-20T11:56:02.626830101",
          "2024-08-20T11:56:02.884851933",
          "2024-08-20T11:56:02.949720621",
          "2024-08-20T11:56:03.269035578",
          "2024-08-20T11:56:03.330871105",
          "2024-08-20T11:56:03.464512825",
          "2024-08-20T11:56:03.527346133",
          "2024-08-20T11:56:03.587219477",
          "2024-08-20T11:56:03.652039766",
          "2024-08-20T11:56:03.716838121",
          "2024-08-20T11:56:03.972008228",
          "2024-08-20T11:56:04.034913778",
          "2024-08-20T11:56:04.099705458",
          "2024-08-20T11:56:04.230356216",
          "2024-08-20T11:56:04.291193008",
          "2024-08-20T11:56:04.360008955",
          "2024-08-20T11:56:04.426832438",
          "2024-08-20T11:56:04.484676600",
          "2024-08-20T11:56:04.549504757",
          "2024-08-20T11:56:04.613359213",
          "2024-08-20T11:56:04.741252184",
          "2024-08-20T11:56:04.809950829",
          "2024-08-20T11:56:04.868793488",
          "2024-08-20T11:56:04.932101011",
          "2024-08-20T11:56:04.996265173",
          "2024-08-20T11:56:05.067186832",
          "2024-08-20T11:56:05.123129368",
          "2024-08-20T11:56:05.187996387",
          "2024-08-20T11:56:05.253934859",
          "2024-08-20T11:56:05.320737123",
          "2024-08-20T11:56:05.381574631",
          "2024-08-20T11:56:05.445403099",
          "2024-08-20T11:56:05.513258456",
          "2024-08-20T11:56:05.579655647",
          "2024-08-20T11:56:05.635501385",
          "2024-08-20T11:56:05.699331045",
          "2024-08-20T11:56:05.786099195",
          "2024-08-20T11:56:05.828023911",
          "2024-08-20T11:56:05.891925097",
          "2024-08-20T11:56:05.955914497",
          "2024-08-20T11:56:06.019746780",
          "2024-08-20T11:56:06.083609581",
          "2024-08-20T11:56:06.147438049",
          "2024-08-20T11:56:06.212227345",
          "2024-08-20T11:56:06.323928595",
          "2024-08-20T11:56:06.382805347",
          "2024-08-20T11:56:06.445602417",
          "2024-08-20T11:56:06.509819031",
          "2024-08-20T11:56:06.565728188",
          "2024-08-20T11:56:06.624764442",
          "2024-08-20T11:56:06.674631596",
          "2024-08-20T11:56:06.732981920",
          "2024-08-20T11:56:06.994932175",
          "2024-08-20T11:56:07.009855270",
          "2024-08-20T11:56:07.073683262",
          "2024-08-20T11:56:07.118640900",
          "2024-08-20T11:56:07.164658546",
          "2024-08-20T11:56:07.213472605",
          "2024-08-20T11:56:07.271414280",
          "2024-08-20T11:56:07.316294193",
          "2024-08-20T11:56:07.362230301",
          "2024-08-20T11:56:07.408627987",
          "2024-08-20T11:56:07.469467163",
          "2024-08-20T11:56:07.517339706",
          "2024-08-20T11:56:07.562218666",
          "2024-08-20T11:56:07.624052286",
          "2024-08-20T11:56:07.683953524",
          "2024-08-20T11:56:07.754776478",
          "2024-08-20T11:56:07.814605236",
          "2024-08-20T11:56:07.878436565",
          "2024-08-20T11:56:07.939271688",
          "2024-08-20T11:56:08.043208599",
          "2024-08-20T11:56:08.088050365",
          "2024-08-20T11:56:08.132930279",
          "2024-08-20T11:56:08.196759224",
          "2024-08-20T11:56:08.261585236",
          "2024-08-20T11:56:08.323477983",
          "2024-08-20T11:56:08.388247252",
          "2024-08-20T11:56:08.455112457",
          "2024-08-20T11:56:08.514943838",
          "2024-08-20T11:56:08.581730366",
          "2024-08-20T11:56:08.644146204",
          "2024-08-20T11:56:08.706978083",
          "2024-08-20T11:56:08.775834322",
          "2024-08-20T11:56:08.837667227",
          "2024-08-20T11:56:08.899536848",
          "2024-08-20T11:56:08.967357635",
          "2024-08-20T11:56:09.032777786",
          "2024-08-20T11:56:09.091658592",
          "2024-08-20T11:56:09.156159401",
          "2024-08-20T11:56:09.218931913",
          "2024-08-20T11:56:09.283758163",
          "2024-08-20T11:56:09.351578951",
          "2024-08-20T11:56:09.412416220",
          "2024-08-20T11:56:09.483224630",
          "2024-08-20T11:56:09.541103840",
          "2024-08-20T11:56:09.602938890",
          "2024-08-20T11:56:09.680696249",
          "2024-08-20T11:56:09.736579657",
          "2024-08-20T11:56:09.795391083",
          "2024-08-20T11:56:09.860615730",
          "2024-08-20T11:56:09.924411535",
          "2024-08-20T11:56:09.989235640",
          "2024-08-20T11:56:10.056103468",
          "2024-08-20T11:56:10.161774397",
          "2024-08-20T11:56:10.220657349",
          "2024-08-20T11:56:10.282451630",
          "2024-08-20T11:56:10.344292164",
          "2024-08-20T11:56:10.403132915",
          "2024-08-20T11:56:10.451063633",
          "2024-08-20T11:56:10.511878729",
          "2024-08-20T11:56:10.571646929",
          "2024-08-20T11:56:10.630125046",
          "2024-08-20T11:56:10.691995621",
          "2024-08-20T11:56:10.757335186",
          "2024-08-20T11:56:10.819134235",
          "2024-08-20T11:56:10.886264801",
          "2024-08-20T11:56:10.947607279",
          "2024-08-20T11:56:11.011474371",
          "2024-08-20T11:56:11.076632500",
          "2024-08-20T11:56:11.145442724",
          "2024-08-20T11:56:11.204642057",
          "2024-08-20T11:56:11.332253695",
          "2024-08-20T11:56:11.395696402",
          "2024-08-20T11:56:11.524353027",
          "2024-08-20T11:56:11.587216139",
          "2024-08-20T11:56:11.660987139",
          "2024-08-20T11:56:11.719829559",
          "2024-08-20T11:56:11.785653830",
          "2024-08-20T11:56:11.907570839",
          "2024-08-20T11:56:11.973546028",
          "2024-08-20T11:56:12.067295551",
          "2024-08-20T11:56:12.116197824",
          "2024-08-20T11:56:12.232289314",
          "2024-08-20T11:56:12.294124365",
          "2024-08-20T11:56:12.358505249",
          "2024-08-20T11:56:12.419342995",
          "2024-08-20T11:56:12.548034906",
          "2024-08-20T11:56:12.610831022",
          "2024-08-20T11:56:12.676655293",
          "2024-08-20T11:56:12.741635561",
          "2024-08-20T11:56:12.803468704",
          "2024-08-20T11:56:13.192116737",
          "2024-08-20T11:56:13.256206751",
          "2024-08-20T11:56:13.317076206",
          "2024-08-20T11:56:13.382374048",
          "2024-08-20T11:56:13.466149330",
          "2024-08-20T11:56:13.636693239",
          "2024-08-20T11:56:13.699526310",
          "2024-08-20T11:56:13.955617189",
          "2024-08-20T11:56:14.019409657",
          "2024-08-20T11:56:14.085234404",
          "2024-08-20T11:56:14.212927580",
          "2024-08-20T11:56:14.277747869",
          "2024-08-20T11:56:14.403382778",
          "2024-08-20T11:56:14.597897530",
          "2024-08-20T11:56:14.723528147",
          "2024-08-20T11:56:14.787355900",
          "2024-08-20T11:56:15.174499035",
          "2024-08-20T11:56:15.236374378",
          "2024-08-20T11:56:15.427728415",
          "2024-08-20T11:56:15.494512320",
          "2024-08-20T11:56:15.563370228",
          "2024-08-20T11:56:15.619282961",
          "2024-08-20T11:56:15.683111429",
          "2024-08-20T11:56:15.749932528",
          "2024-08-20T11:56:15.811768293",
          "2024-08-20T11:56:15.878588676",
          "2024-08-20T11:56:16.012794971",
          "2024-08-20T11:56:16.068641901",
          "2024-08-20T11:56:16.131473303",
          "2024-08-20T11:56:16.239527464",
          "2024-08-20T11:56:16.286399841",
          "2024-08-20T11:56:16.406079292",
          "2024-08-20T11:56:16.592581034",
          "2024-08-20T11:56:16.707319975",
          "2024-08-20T11:56:16.772014141",
          "2024-08-20T11:56:16.849328279",
          "2024-08-20T11:56:16.899184704",
          "2024-08-20T11:56:16.963021278",
          "2024-08-20T11:56:17.034986019",
          "2024-08-20T11:56:17.097797394",
          "2024-08-20T11:56:17.157452106",
          "2024-08-20T11:56:17.221284389",
          "2024-08-20T11:56:17.283984900",
          "2024-08-20T11:56:17.350252867",
          "2024-08-20T11:56:17.411079884",
          "2024-08-20T11:56:17.476636410",
          "2024-08-20T11:56:17.542459726",
          "2024-08-20T11:56:17.607778788",
          "2024-08-20T11:56:17.669613838",
          "2024-08-20T11:56:17.730547905",
          "2024-08-20T11:56:17.805893421",
          "2024-08-20T11:56:17.936960459",
          "2024-08-20T11:56:17.998792887",
          "2024-08-20T11:56:18.074589968",
          "2024-08-20T11:56:18.132434130",
          "2024-08-20T11:56:18.190281630",
          "2024-08-20T11:56:18.247127533",
          "2024-08-20T11:56:18.309961319",
          "2024-08-20T11:56:18.372315407",
          "2024-08-20T11:56:18.435146570",
          "2024-08-20T11:56:18.505959511",
          "2024-08-20T11:56:18.565797091",
          "2024-08-20T11:56:18.627631664",
          "2024-08-20T11:56:18.691022635",
          "2024-08-20T11:56:18.760853529",
          "2024-08-20T11:56:18.818681717",
          "2024-08-20T11:56:18.883578300",
          "2024-08-20T11:56:18.949356794",
          "2024-08-20T11:56:19.018232822",
          "2024-08-20T11:56:19.078075409",
          "2024-08-20T11:56:19.142939568",
          "2024-08-20T11:56:19.206829309",
          "2024-08-20T11:56:19.466001511",
          "2024-08-20T11:56:19.524808407",
          "2024-08-20T11:56:19.591662645",
          "2024-08-20T11:56:19.715365410",
          "2024-08-20T11:56:19.782187700",
          "2024-08-20T11:56:19.843986750",
          "2024-08-20T11:56:19.911807060",
          "2024-08-20T11:56:19.975685835",
          "2024-08-20T11:56:20.035677195",
          "2024-08-20T11:56:20.227138281",
          "2024-08-20T11:56:20.292961359",
          "2024-08-20T11:56:20.356790781",
          "2024-08-20T11:56:20.422616243",
          "2024-08-20T11:56:20.483891249",
          "2024-08-20T11:56:20.553670883",
          "2024-08-20T11:56:20.612575054",
          "2024-08-20T11:56:20.676375866",
          "2024-08-20T11:56:20.744162560",
          "2024-08-20T11:56:20.804998159",
          "2024-08-20T11:56:20.932558775",
          "2024-08-20T11:56:21.002325296",
          "2024-08-20T11:56:21.062162161",
          "2024-08-20T11:56:21.123997450",
          "2024-08-20T11:56:21.189820528",
          "2024-08-20T11:56:21.254646062",
          "2024-08-20T11:56:21.321469069",
          "2024-08-20T11:56:21.379313707",
          "2024-08-20T11:56:21.511957644",
          "2024-08-20T11:56:21.635627270",
          "2024-08-20T11:56:21.701452732",
          "2024-08-20T11:56:21.764282942",
          "2024-08-20T11:56:21.828116179",
          "2024-08-20T11:56:21.892215490",
          "2024-08-20T11:56:21.956044197",
          "2024-08-20T11:56:22.025025368",
          "2024-08-20T11:56:22.082909346",
          "2024-08-20T11:56:22.179646730",
          "2024-08-20T11:56:22.240482569",
          "2024-08-20T11:56:22.300038815",
          "2024-08-20T11:56:22.406076670",
          "2024-08-20T11:56:22.470999956",
          "2024-08-20T11:56:22.532245398",
          "2024-08-20T11:56:22.595343113",
          "2024-08-20T11:56:22.660169363",
          "2024-08-20T11:56:22.725993872",
          "2024-08-20T11:56:22.790854454",
          "2024-08-20T11:56:22.852691650",
          "2024-08-20T11:56:22.917509317",
          "2024-08-20T11:56:22.982309103",
          "2024-08-20T11:56:23.044202089",
          "2024-08-20T11:56:23.177879333",
          "2024-08-20T11:56:23.237754583",
          "2024-08-20T11:56:23.301584244",
          "2024-08-20T11:56:23.363419294",
          "2024-08-20T11:56:23.427212954",
          "2024-08-20T11:56:23.493070841",
          "2024-08-20T11:56:23.556865692",
          "2024-08-20T11:56:23.620643377",
          "2024-08-20T11:56:23.683533907",
          "2024-08-20T11:56:23.749108553",
          "2024-08-20T11:56:23.814970732",
          "2024-08-20T11:56:23.877764940",
          "2024-08-20T11:56:23.939567089",
          "2024-08-20T11:56:24.004040956",
          "2024-08-20T11:56:24.068904161",
          "2024-08-20T11:56:24.136684895",
          "2024-08-20T11:56:24.195080042",
          "2024-08-20T11:56:24.276895285",
          "2024-08-20T11:56:24.333710432",
          "2024-08-20T11:56:24.459374428",
          "2024-08-20T11:56:24.519720078",
          "2024-08-20T11:56:24.643439054",
          "2024-08-20T11:56:24.707217455",
          "2024-08-20T11:56:24.774040222",
          "2024-08-20T11:56:24.835875511",
          "2024-08-20T11:56:24.899705410",
          "2024-08-20T11:56:24.963598013",
          "2024-08-20T11:56:25.028932810",
          "2024-08-20T11:56:25.093759298",
          "2024-08-20T11:56:25.219422817",
          "2024-08-20T11:56:25.284168482",
          "2024-08-20T11:56:25.411834002",
          "2024-08-20T11:56:25.480615377",
          "2024-08-20T11:56:25.539457798",
          "2024-08-20T11:56:25.745549917",
          "2024-08-20T11:56:25.995429277",
          "2024-08-20T11:56:26.172950506",
          "2024-08-20T11:56:26.219824314",
          "2024-08-20T11:56:26.262709856"
         ],
         "xaxis": "x2",
         "y": {
          "bdata": "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",
          "dtype": "f8"
         },
         "yaxis": "y2"
        },
        {
         "marker": {
          "color": "lightcoral"
         },
         "name": "Distribution",
         "nbinsx": 30,
         "opacity": 0.7,
         "type": "histogram",
         "x": {
          "bdata": "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",
          "dtype": "f8"
         },
         "xaxis": "x3",
         "yaxis": "y3"
        },
        {
         "line": {
          "color": "lightcoral",
          "width": 1
         },
         "mode": "lines",
         "name": "Raw",
         "opacity": 0.5,
         "type": "scatter",
         "x": {
          "bdata": "AQACAAMABAAFAAYABwAIAAkACgALAAwADQAOAA8AEAARABIAEwAUABUAFgAXABgAGQAaABsAHAAdAB4AHwAgACEAIgAjACQAJQAmACcAKAApACoAKwAsAC0ALgAvADAAMQAyADMANAA1ADYANwA4ADkAOgA7ADwAPQA+AD8AQABBAEIAQwBEAEUARgBHAEgASQBKAEsATABNAE4ATwBQAFEAUgBTAFQAVQBWAFcAWABZAFoAWwBcAF0AXgBfAGAAYQBiAGMAZABlAGYAZwBoAGkAagBrAGwAbQBuAG8AcABxAHIAcwB0AHUAdgB3AHgAeQB6AHsAfAB9AH4AfwCAAIEAggCDAIQAhQCGAIcAiACJAIoAiwCMAI0AjgCPAJAAkQCSAJMAlACVAJYAlwCYAJkAmgCbAJwAnQCeAJ8AoAChAKIAowCkAKUApgCnAKgAqQCqAKsArACtAK4ArwCwALEAsgCzALQAtQC2ALcAuAC5ALoAuwC8AL0AvgC/AMAAwQDCAMMAxADFAMYAxwDIAMkAygDLAMwAzQDOAM8A0ADRANIA0wDUANUA1gDXANgA2QDaANsA3ADdAN4A3wDgAOEA4gDjAOQA5QDmAOcA6ADpAOoA6wDuAO8A8ADxAPIA8wD0APUA9gD3APgA+QD6APsA/AD9AP4A/wAAAQEBAgEDAQQBBQEGAQgBCgELAQwBDQEOAQ8BEAERARIBEwEUARUBFgEXARgBGQEaARsBHAEeAR8BIAEhASIBIwEkASUBJgEnASgBKQEqASsBLAEtAS4BLwEwATEBMgEzATQBNQE2ATcBOQE6ATsBPAE+AUABQQFCAUMBRAFFAUYBRwFKAUwBTQFOAU8BUAFRAVIBUwFUAVYBVwFYAVkBWgFcAV0BYQFjAWQBZQFmAWgBaQFqAWsBbAFuAW8BcgFzAXQBdQF2AXcBegF7AXwBfQF+AX8BgAGCAYMBhAGFAYYBhwGIAYoBiwGNAY4BjwGQAZQBlQGaAZsBnQGeAZ8BoAGhAaUBpgGnAakBqgGrAawBrQGuAa8BsQGyAbMBtAG1AbYBtwG4AbkBugG7AbwBvQG+Ab8BwAHBAcIBwwHEAcUBxgHHAcgByQHKAcsBzAHNAc4BzwHQAdEB0gHTAdQB1QHWAdcB2AHZAdoB2wHcAd0B3gHfAeAB4QHiAeMB5AHlAeYB5wHoAekB6gHrAewB7QHuAe8B8AHxAfIB8wH0AfUB9gH3AfgB+QH6AfsB/AH9Af4B/wEAAgECAgIDAgQCBQIGAgcCCAIJAgoCCwIMAg0CDgIPAhACEQISAhMCFAIVAhYCGAIZAhsCHAIdAh4CHwIhAiICIwIkAiYCJwIoAikCKwIsAi0CLgIvAjUCNgI3AjgCOQI8Aj0CQQJCAkMCRQJGAkgCSwJNAk4CVAJVAlgCWQJaAlsCXAJdAl4CXwJhAmICYwJkAmUCZwJqAmwCbQJuAm8CcAJxAnICcwJ0AnUCdgJ3AngCeQJ6AnsCfAJ9An8CgAKBAoICgwKEAoUChgKHAogCiQKKAosCjAKNAo4CjwKQApECkgKTApcCmAKZApsCnAKdAp4CnwKgAqMCpAKlAqYCpwKoAqkCqgKrAqwCrgKvArACsQKyArMCtAK1ArcCuQK6ArsCvAK9Ar4CvwLAAsECwgLDAsUCxgLHAsgCyQLKAssCzALNAs4CzwLRAtIC0wLUAtUC1gLXAtgC2QLaAtsC3ALdAt4C3wLgAuEC4gLjAuUC5gLoAukC6gLrAuwC7QLuAu8C8QLyAvQC9QL2AvkC+wL/AgADAQM=",
          "dtype": "i2"
         },
         "xaxis": "x4",
         "y": {
          "bdata": "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",
          "dtype": "f8"
         },
         "yaxis": "y4"
        },
        {
         "line": {
          "color": "darkred",
          "width": 3
         },
         "mode": "lines",
         "name": "Smoothed (n=33)",
         "type": "scatter",
         "x": {
          "bdata": "AQACAAMABAAFAAYABwAIAAkACgALAAwADQAOAA8AEAARABIAEwAUABUAFgAXABgAGQAaABsAHAAdAB4AHwAgACEAIgAjACQAJQAmACcAKAApACoAKwAsAC0ALgAvADAAMQAyADMANAA1ADYANwA4ADkAOgA7ADwAPQA+AD8AQABBAEIAQwBEAEUARgBHAEgASQBKAEsATABNAE4ATwBQAFEAUgBTAFQAVQBWAFcAWABZAFoAWwBcAF0AXgBfAGAAYQBiAGMAZABlAGYAZwBoAGkAagBrAGwAbQBuAG8AcABxAHIAcwB0AHUAdgB3AHgAeQB6AHsAfAB9AH4AfwCAAIEAggCDAIQAhQCGAIcAiACJAIoAiwCMAI0AjgCPAJAAkQCSAJMAlACVAJYAlwCYAJkAmgCbAJwAnQCeAJ8AoAChAKIAowCkAKUApgCnAKgAqQCqAKsArACtAK4ArwCwALEAsgCzALQAtQC2ALcAuAC5ALoAuwC8AL0AvgC/AMAAwQDCAMMAxADFAMYAxwDIAMkAygDLAMwAzQDOAM8A0ADRANIA0wDUANUA1gDXANgA2QDaANsA3ADdAN4A3wDgAOEA4gDjAOQA5QDmAOcA6ADpAOoA6wDuAO8A8ADxAPIA8wD0APUA9gD3APgA+QD6APsA/AD9AP4A/wAAAQEBAgEDAQQBBQEGAQgBCgELAQwBDQEOAQ8BEAERARIBEwEUARUBFgEXARgBGQEaARsBHAEeAR8BIAEhASIBIwEkASUBJgEnASgBKQEqASsBLAEtAS4BLwEwATEBMgEzATQBNQE2ATcBOQE6ATsBPAE+AUABQQFCAUMBRAFFAUYBRwFKAUwBTQFOAU8BUAFRAVIBUwFUAVYBVwFYAVkBWgFcAV0BYQFjAWQBZQFmAWgBaQFqAWsBbAFuAW8BcgFzAXQBdQF2AXcBegF7AXwBfQF+AX8BgAGCAYMBhAGFAYYBhwGIAYoBiwGNAY4BjwGQAZQBlQGaAZsBnQGeAZ8BoAGhAaUBpgGnAakBqgGrAawBrQGuAa8BsQGyAbMBtAG1AbYBtwG4AbkBugG7AbwBvQG+Ab8BwAHBAcIBwwHEAcUBxgHHAcgByQHKAcsBzAHNAc4BzwHQAdEB0gHTAdQB1QHWAdcB2AHZAdoB2wHcAd0B3gHfAeAB4QHiAeMB5AHlAeYB5wHoAekB6gHrAewB7QHuAe8B8AHxAfIB8wH0AfUB9gH3AfgB+QH6AfsB/AH9Af4B/wEAAgECAgIDAgQCBQIGAgcCCAIJAgoCCwIMAg0CDgIPAhACEQISAhMCFAIVAhYCGAIZAhsCHAIdAh4CHwIhAiICIwIkAiYCJwIoAikCKwIsAi0CLgIvAjUCNgI3AjgCOQI8Aj0CQQJCAkMCRQJGAkgCSwJNAk4CVAJVAlgCWQJaAlsCXAJdAl4CXwJhAmICYwJkAmUCZwJqAmwCbQJuAm8CcAJxAnICcwJ0AnUCdgJ3AngCeQJ6AnsCfAJ9An8CgAKBAoICgwKEAoUChgKHAogCiQKKAosCjAKNAo4CjwKQApECkgKTApcCmAKZApsCnAKdAp4CnwKgAqMCpAKlAqYCpwKoAqkCqgKrAqwCrgKvArACsQKyArMCtAK1ArcCuQK6ArsCvAK9Ar4CvwLAAsECwgLDAsUCxgLHAsgCyQLKAssCzALNAs4CzwLRAtIC0wLUAtUC1gLXAtgC2QLaAtsC3ALdAt4C3wLgAuEC4gLjAuUC5gLoAukC6gLrAuwC7QLuAu8C8QLyAvQC9QL2AvkC+wL/AgADAQM=",
          "dtype": "i2"
         },
         "xaxis": "x4",
         "y": {
          "bdata": "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",
          "dtype": "f8"
         },
         "yaxis": "y4"
        }
       ],
       "layout": {
        "annotations": [
         {
          "font": {
           "size": 16
          },
          "showarrow": false,
          "text": "Distance vs Frame Index",
          "x": 0.225,
          "xanchor": "center",
          "xref": "paper",
          "y": 1,
          "yanchor": "bottom",
          "yref": "paper"
         },
         {
          "font": {
           "size": 16
          },
          "showarrow": false,
          "text": "Distance vs Time",
          "x": 0.775,
          "xanchor": "center",
          "xref": "paper",
          "y": 1,
          "yanchor": "bottom",
          "yref": "paper"
         },
         {
          "font": {
           "size": 16
          },
          "showarrow": false,
          "text": "Distance Distribution",
          "x": 0.225,
          "xanchor": "center",
          "xref": "paper",
          "y": 0.375,
          "yanchor": "bottom",
          "yref": "paper"
         },
         {
          "font": {
           "size": 16
          },
          "showarrow": false,
          "text": "Distance Trends",
          "x": 0.775,
          "xanchor": "center",
          "xref": "paper",
          "y": 0.375,
          "yanchor": "bottom",
          "yref": "paper"
         },
         {
          "showarrow": false,
          "text": "Mean: 2.29meters",
          "x": 2.285569544631375,
          "xanchor": "left",
          "xref": "x3",
          "y": 1,
          "yanchor": "top",
          "yref": "y3 domain"
         }
        ],
        "height": 800,
        "shapes": [
         {
          "line": {
           "color": "red",
           "dash": "dash"
          },
          "type": "line",
          "x0": 2.285569544631375,
          "x1": 2.285569544631375,
          "xref": "x3",
          "y0": 0,
          "y1": 1,
          "yref": "y3 domain"
         }
        ],
        "showlegend": true,
        "template": {
         "data": {
          "bar": [
           {
            "error_x": {
             "color": "#2a3f5f"
            },
            "error_y": {
             "color": "#2a3f5f"
            },
            "marker": {
             "line": {
              "color": "#E5ECF6",
              "width": 0.5
             },
             "pattern": {
              "fillmode": "overlay",
              "size": 10,
              "solidity": 0.2
             }
            },
            "type": "bar"
           }
          ],
          "barpolar": [
           {
            "marker": {
             "line": {
              "color": "#E5ECF6",
              "width": 0.5
             },
             "pattern": {
              "fillmode": "overlay",
              "size": 10,
              "solidity": 0.2
             }
            },
            "type": "barpolar"
           }
          ],
          "carpet": [
           {
            "aaxis": {
             "endlinecolor": "#2a3f5f",
             "gridcolor": "white",
             "linecolor": "white",
             "minorgridcolor": "white",
             "startlinecolor": "#2a3f5f"
            },
            "baxis": {
             "endlinecolor": "#2a3f5f",
             "gridcolor": "white",
             "linecolor": "white",
             "minorgridcolor": "white",
             "startlinecolor": "#2a3f5f"
            },
            "type": "carpet"
           }
          ],
          "choropleth": [
           {
            "colorbar": {
             "outlinewidth": 0,
             "ticks": ""
            },
            "type": "choropleth"
           }
          ],
          "contour": [
           {
            "colorbar": {
             "outlinewidth": 0,
             "ticks": ""
            },
            "colorscale": [
             [
              0,
              "#0d0887"
             ],
             [
              0.1111111111111111,
              "#46039f"
             ],
             [
              0.2222222222222222,
              "#7201a8"
             ],
             [
              0.3333333333333333,
              "#9c179e"
             ],
             [
              0.4444444444444444,
              "#bd3786"
             ],
             [
              0.5555555555555556,
              "#d8576b"
             ],
             [
              0.6666666666666666,
              "#ed7953"
             ],
             [
              0.7777777777777778,
              "#fb9f3a"
             ],
             [
              0.8888888888888888,
              "#fdca26"
             ],
             [
              1,
              "#f0f921"
             ]
            ],
            "type": "contour"
           }
          ],
          "contourcarpet": [
           {
            "colorbar": {
             "outlinewidth": 0,
             "ticks": ""
            },
            "type": "contourcarpet"
           }
          ],
          "heatmap": [
           {
            "colorbar": {
             "outlinewidth": 0,
             "ticks": ""
            },
            "colorscale": [
             [
              0,
              "#0d0887"
             ],
             [
              0.1111111111111111,
              "#46039f"
             ],
             [
              0.2222222222222222,
              "#7201a8"
             ],
             [
              0.3333333333333333,
              "#9c179e"
             ],
             [
              0.4444444444444444,
              "#bd3786"
             ],
             [
              0.5555555555555556,
              "#d8576b"
             ],
             [
              0.6666666666666666,
              "#ed7953"
             ],
             [
              0.7777777777777778,
              "#fb9f3a"
             ],
             [
              0.8888888888888888,
              "#fdca26"
             ],
             [
              1,
              "#f0f921"
             ]
            ],
            "type": "heatmap"
           }
          ],
          "histogram": [
           {
            "marker": {
             "pattern": {
              "fillmode": "overlay",
              "size": 10,
              "solidity": 0.2
             }
            },
            "type": "histogram"
           }
          ],
          "histogram2d": [
           {
            "colorbar": {
             "outlinewidth": 0,
             "ticks": ""
            },
            "colorscale": [
             [
              0,
              "#0d0887"
             ],
             [
              0.1111111111111111,
              "#46039f"
             ],
             [
              0.2222222222222222,
              "#7201a8"
             ],
             [
              0.3333333333333333,
              "#9c179e"
             ],
             [
              0.4444444444444444,
              "#bd3786"
             ],
             [
              0.5555555555555556,
              "#d8576b"
             ],
             [
              0.6666666666666666,
              "#ed7953"
             ],
             [
              0.7777777777777778,
              "#fb9f3a"
             ],
             [
              0.8888888888888888,
              "#fdca26"
             ],
             [
              1,
              "#f0f921"
             ]
            ],
            "type": "histogram2d"
           }
          ],
          "histogram2dcontour": [
           {
            "colorbar": {
             "outlinewidth": 0,
             "ticks": ""
            },
            "colorscale": [
             [
              0,
              "#0d0887"
             ],
             [
              0.1111111111111111,
              "#46039f"
             ],
             [
              0.2222222222222222,
              "#7201a8"
             ],
             [
              0.3333333333333333,
              "#9c179e"
             ],
             [
              0.4444444444444444,
              "#bd3786"
             ],
             [
              0.5555555555555556,
              "#d8576b"
             ],
             [
              0.6666666666666666,
              "#ed7953"
             ],
             [
              0.7777777777777778,
              "#fb9f3a"
             ],
             [
              0.8888888888888888,
              "#fdca26"
             ],
             [
              1,
              "#f0f921"
             ]
            ],
            "type": "histogram2dcontour"
           }
          ],
          "mesh3d": [
           {
            "colorbar": {
             "outlinewidth": 0,
             "ticks": ""
            },
            "type": "mesh3d"
           }
          ],
          "parcoords": [
           {
            "line": {
             "colorbar": {
              "outlinewidth": 0,
              "ticks": ""
             }
            },
            "type": "parcoords"
           }
          ],
          "pie": [
           {
            "automargin": true,
            "type": "pie"
           }
          ],
          "scatter": [
           {
            "fillpattern": {
             "fillmode": "overlay",
             "size": 10,
             "solidity": 0.2
            },
            "type": "scatter"
           }
          ],
          "scatter3d": [
           {
            "line": {
             "colorbar": {
              "outlinewidth": 0,
              "ticks": ""
             }
            },
            "marker": {
             "colorbar": {
              "outlinewidth": 0,
              "ticks": ""
             }
            },
            "type": "scatter3d"
           }
          ],
          "scattercarpet": [
           {
            "marker": {
             "colorbar": {
              "outlinewidth": 0,
              "ticks": ""
             }
            },
            "type": "scattercarpet"
           }
          ],
          "scattergeo": [
           {
            "marker": {
             "colorbar": {
              "outlinewidth": 0,
              "ticks": ""
             }
            },
            "type": "scattergeo"
           }
          ],
          "scattergl": [
           {
            "marker": {
             "colorbar": {
              "outlinewidth": 0,
              "ticks": ""
             }
            },
            "type": "scattergl"
           }
          ],
          "scattermap": [
           {
            "marker": {
             "colorbar": {
              "outlinewidth": 0,
              "ticks": ""
             }
            },
            "type": "scattermap"
           }
          ],
          "scattermapbox": [
           {
            "marker": {
             "colorbar": {
              "outlinewidth": 0,
              "ticks": ""
             }
            },
            "type": "scattermapbox"
           }
          ],
          "scatterpolar": [
           {
            "marker": {
             "colorbar": {
              "outlinewidth": 0,
              "ticks": ""
             }
            },
            "type": "scatterpolar"
           }
          ],
          "scatterpolargl": [
           {
            "marker": {
             "colorbar": {
              "outlinewidth": 0,
              "ticks": ""
             }
            },
            "type": "scatterpolargl"
           }
          ],
          "scatterternary": [
           {
            "marker": {
             "colorbar": {
              "outlinewidth": 0,
              "ticks": ""
             }
            },
            "type": "scatterternary"
           }
          ],
          "surface": [
           {
            "colorbar": {
             "outlinewidth": 0,
             "ticks": ""
            },
            "colorscale": [
             [
              0,
              "#0d0887"
             ],
             [
              0.1111111111111111,
              "#46039f"
             ],
             [
              0.2222222222222222,
              "#7201a8"
             ],
             [
              0.3333333333333333,
              "#9c179e"
             ],
             [
              0.4444444444444444,
              "#bd3786"
             ],
             [
              0.5555555555555556,
              "#d8576b"
             ],
             [
              0.6666666666666666,
              "#ed7953"
             ],
             [
              0.7777777777777778,
              "#fb9f3a"
             ],
             [
              0.8888888888888888,
              "#fdca26"
             ],
             [
              1,
              "#f0f921"
             ]
            ],
            "type": "surface"
           }
          ],
          "table": [
           {
            "cells": {
             "fill": {
              "color": "#EBF0F8"
             },
             "line": {
              "color": "white"
             }
            },
            "header": {
             "fill": {
              "color": "#C8D4E3"
             },
             "line": {
              "color": "white"
             }
            },
            "type": "table"
           }
          ]
         },
         "layout": {
          "annotationdefaults": {
           "arrowcolor": "#2a3f5f",
           "arrowhead": 0,
           "arrowwidth": 1
          },
          "autotypenumbers": "strict",
          "coloraxis": {
           "colorbar": {
            "outlinewidth": 0,
            "ticks": ""
           }
          },
          "colorscale": {
           "diverging": [
            [
             0,
             "#8e0152"
            ],
            [
             0.1,
             "#c51b7d"
            ],
            [
             0.2,
             "#de77ae"
            ],
            [
             0.3,
             "#f1b6da"
            ],
            [
             0.4,
             "#fde0ef"
            ],
            [
             0.5,
             "#f7f7f7"
            ],
            [
             0.6,
             "#e6f5d0"
            ],
            [
             0.7,
             "#b8e186"
            ],
            [
             0.8,
             "#7fbc41"
            ],
            [
             0.9,
             "#4d9221"
            ],
            [
             1,
             "#276419"
            ]
           ],
           "sequential": [
            [
             0,
             "#0d0887"
            ],
            [
             0.1111111111111111,
             "#46039f"
            ],
            [
             0.2222222222222222,
             "#7201a8"
            ],
            [
             0.3333333333333333,
             "#9c179e"
            ],
            [
             0.4444444444444444,
             "#bd3786"
            ],
            [
             0.5555555555555556,
             "#d8576b"
            ],
            [
             0.6666666666666666,
             "#ed7953"
            ],
            [
             0.7777777777777778,
             "#fb9f3a"
            ],
            [
             0.8888888888888888,
             "#fdca26"
            ],
            [
             1,
             "#f0f921"
            ]
           ],
           "sequentialminus": [
            [
             0,
             "#0d0887"
            ],
            [
             0.1111111111111111,
             "#46039f"
            ],
            [
             0.2222222222222222,
             "#7201a8"
            ],
            [
             0.3333333333333333,
             "#9c179e"
            ],
            [
             0.4444444444444444,
             "#bd3786"
            ],
            [
             0.5555555555555556,
             "#d8576b"
            ],
            [
             0.6666666666666666,
             "#ed7953"
            ],
            [
             0.7777777777777778,
             "#fb9f3a"
            ],
            [
             0.8888888888888888,
             "#fdca26"
            ],
            [
             1,
             "#f0f921"
            ]
           ]
          },
          "colorway": [
           "#636efa",
           "#EF553B",
           "#00cc96",
           "#ab63fa",
           "#FFA15A",
           "#19d3f3",
           "#FF6692",
           "#B6E880",
           "#FF97FF",
           "#FECB52"
          ],
          "font": {
           "color": "#2a3f5f"
          },
          "geo": {
           "bgcolor": "white",
           "lakecolor": "white",
           "landcolor": "#E5ECF6",
           "showlakes": true,
           "showland": true,
           "subunitcolor": "white"
          },
          "hoverlabel": {
           "align": "left"
          },
          "hovermode": "closest",
          "mapbox": {
           "style": "light"
          },
          "paper_bgcolor": "white",
          "plot_bgcolor": "#E5ECF6",
          "polar": {
           "angularaxis": {
            "gridcolor": "white",
            "linecolor": "white",
            "ticks": ""
           },
           "bgcolor": "#E5ECF6",
           "radialaxis": {
            "gridcolor": "white",
            "linecolor": "white",
            "ticks": ""
           }
          },
          "scene": {
           "xaxis": {
            "backgroundcolor": "#E5ECF6",
            "gridcolor": "white",
            "gridwidth": 2,
            "linecolor": "white",
            "showbackground": true,
            "ticks": "",
            "zerolinecolor": "white"
           },
           "yaxis": {
            "backgroundcolor": "#E5ECF6",
            "gridcolor": "white",
            "gridwidth": 2,
            "linecolor": "white",
            "showbackground": true,
            "ticks": "",
            "zerolinecolor": "white"
           },
           "zaxis": {
            "backgroundcolor": "#E5ECF6",
            "gridcolor": "white",
            "gridwidth": 2,
            "linecolor": "white",
            "showbackground": true,
            "ticks": "",
            "zerolinecolor": "white"
           }
          },
          "shapedefaults": {
           "line": {
            "color": "#2a3f5f"
           }
          },
          "ternary": {
           "aaxis": {
            "gridcolor": "white",
            "linecolor": "white",
            "ticks": ""
           },
           "baxis": {
            "gridcolor": "white",
            "linecolor": "white",
            "ticks": ""
           },
           "bgcolor": "#E5ECF6",
           "caxis": {
            "gridcolor": "white",
            "linecolor": "white",
            "ticks": ""
           }
          },
          "title": {
           "x": 0.05
          },
          "xaxis": {
           "automargin": true,
           "gridcolor": "white",
           "linecolor": "white",
           "ticks": "",
           "title": {
            "standoff": 15
           },
           "zerolinecolor": "white",
           "zerolinewidth": 2
          },
          "yaxis": {
           "automargin": true,
           "gridcolor": "white",
           "linecolor": "white",
           "ticks": "",
           "title": {
            "standoff": 15
           },
           "zerolinecolor": "white",
           "zerolinewidth": 2
          }
         }
        },
        "title": {
         "text": "Real-World Distance Analysis"
        },
        "xaxis": {
         "anchor": "y",
         "domain": [
          0,
          0.45
         ],
         "title": {
          "text": "Frame Index"
         }
        },
        "xaxis2": {
         "anchor": "y2",
         "domain": [
          0.55,
          1
         ],
         "title": {
          "text": "Time"
         }
        },
        "xaxis3": {
         "anchor": "y3",
         "domain": [
          0,
          0.45
         ],
         "title": {
          "text": "Distance (meters)"
         }
        },
        "xaxis4": {
         "anchor": "y4",
         "domain": [
          0.55,
          1
         ],
         "title": {
          "text": "Frame Index"
         }
        },
        "yaxis": {
         "anchor": "x",
         "domain": [
          0.625,
          1
         ],
         "title": {
          "text": "Distance (meters)"
         }
        },
        "yaxis2": {
         "anchor": "x2",
         "domain": [
          0.625,
          1
         ],
         "title": {
          "text": "Distance (meters)"
         }
        },
        "yaxis3": {
         "anchor": "x3",
         "domain": [
          0,
          0.375
         ],
         "title": {
          "text": "Frequency"
         }
        },
        "yaxis4": {
         "anchor": "x4",
         "domain": [
          0,
          0.375
         ],
         "title": {
          "text": "Distance (meters)"
         }
        }
       }
      }
     },
     "metadata": {},
     "output_type": "display_data"
    }
   ],
   "source": [
    "iau.VisualizationEngine.plot_distance_analysis(distance_results, \"Real-World Distance Analysis\")"
   ]
  },
  {
   "cell_type": "code",
   "execution_count": 7,
   "id": "c10a8be6",
   "metadata": {},
   "outputs": [
    {
     "name": "stdout",
     "output_type": "stream",
     "text": [
      " LOADING ALL DISTANCE DATA FOR BAG: 2024-08-20_13-55-34\n",
      "============================================================\n",
      "📡 1. Loading Navigation Data...\n",
      "    Loaded 294 navigation records\n",
      "📡 2. Loading Guidance Data...\n",
      "    Loaded 286 guidance records with ['error_net_distance', 'desired_net_distance', 'r_net_distance_d']\n",
      "📡 3. Loading DVL Altimeter...\n",
      "    DVL altimeter file not found\n",
      " 4. Loading USBL...\n",
      "    Loaded 25 USBL records\n",
      "📡 5. Loading DVL Position...\n",
      "    Loaded 153 DVL position records\n",
      " 6. Loading Navigation Position...\n",
      "    Loaded 140 navigation position records\n",
      "📡 7. Loading INS Z Position...\n",
      "    INS file not found\n",
      "\n",
      " LOADING SUMMARY:\n",
      "    Target bag: 2024-08-20_13-55-34\n",
      "    Raw data loaded: 2/2\n",
      "    Distance measurements: 4\n",
      "\n",
      " RAW DATA LOADED:\n",
      "    navigation: 294 records\n",
      "    guidance: 286 records\n",
      "\n",
      " DISTANCE MEASUREMENTS LOADED:\n",
      "    USBL_3D: 25 records - 3D acoustic position\n",
      "    USBL_Depth: 25 records - USBL depth measurement\n",
      "    DVL_Position: 153 records - 3D DVL position\n",
      "    Nav_Position: 140 records - 2D navigation position\n"
     ]
    }
   ],
   "source": [
    "# COMPARISON: SONAR vs DVL DISTANCE MEASUREMENTS\n",
    "# =================================================\n",
    "import utils.net_distance_analysis as sda\n",
    "\n",
    "# IMPORTANT: Pass the by_bag folder, not just the exports root\n",
    "# The function expects the folder containing the CSV files\n",
    "from utils.sonar_config import EXPORTS_SUBDIRS\n",
    "BY_BAG_FOLDER = EXPORTS_FOLDER / EXPORTS_SUBDIRS.get('by_bag', 'by_bag')\n",
    "\n",
    "# Load all distance data for the target bag\n",
    "raw_data, distance_measurements = sda.load_all_distance_data_for_bag(TARGET_BAG, BY_BAG_FOLDER)\n",
    "\n",
    "# Display what we loaded\n",
    "print(f\"\\n RAW DATA LOADED:\")\n",
    "for key, data in raw_data.items():\n",
    "    if data is not None:\n",
    "        print(f\"    {key}: {len(data)} records\")\n",
    "    else:\n",
    "        print(f\"    {key}: None\")\n",
    "\n",
    "print(f\"\\n DISTANCE MEASUREMENTS LOADED:\")\n",
    "for key, info in distance_measurements.items():\n",
    "    data_len = len(info['data'])\n",
    "    print(f\"    {key}: {data_len} records - {info['description']}\")"
   ]
  },
  {
   "cell_type": "code",
   "execution_count": 8,
   "id": "0375375e",
   "metadata": {},
   "outputs": [
    {
     "name": "stdout",
     "output_type": "stream",
     "text": [
      "\n",
      "SONAR vs DVL COMPARISON STATISTICS:\n",
      "==================================================\n",
      "Sonar mean distance: 2.286 m\n",
      "DVL mean distance:   2.370 m\n",
      "Scale ratio (Sonar/DVL): 0.964x\n",
      "Sonar duration: 49.2s (769 frames)\n",
      "DVL duration:   49.1s (294 records)\n"
     ]
    },
    {
     "name": "stderr",
     "output_type": "stream",
     "text": [
      "/Users/eirikvarnes/code/SOLAQUA/utils/sonar_image_analysis.py:311: FutureWarning:\n",
      "\n",
      "Series.fillna with 'method' is deprecated and will raise in a future version. Use obj.ffill() or obj.bfill() instead.\n",
      "\n",
      "/Users/eirikvarnes/code/SOLAQUA/utils/sonar_image_analysis.py:318: FutureWarning:\n",
      "\n",
      "Series.fillna with 'method' is deprecated and will raise in a future version. Use obj.ffill() or obj.bfill() instead.\n",
      "\n"
     ]
    },
    {
     "data": {
      "application/vnd.plotly.v1+json": {
       "config": {
        "plotlyServerURL": "https://plot.ly"
       },
       "data": [
        {
         "line": {
          "color": "rgba(255,0,0,0.3)"
         },
         "mode": "lines",
         "name": "Sonar Raw",
         "type": "scatter",
         "x": {
          "bdata": "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",
          "dtype": "f8"
         },
         "xaxis": "x",
         "y": {
          "bdata": "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",
          "dtype": "f8"
         },
         "yaxis": "y"
        },
        {
         "line": {
          "color": "red",
          "width": 3
         },
         "mode": "lines",
         "name": "Sonar Smoothed",
         "type": "scatter",
         "x": {
          "bdata": "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",
          "dtype": "f8"
         },
         "xaxis": "x",
         "y": {
          "bdata": "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",
          "dtype": "f8"
         },
         "yaxis": "y"
        },
        {
         "line": {
          "color": "blue",
          "width": 3
         },
         "mode": "lines",
         "name": "DVL Distance",
         "type": "scatter",
         "x": {
          "bdata": "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",
          "dtype": "f8"
         },
         "xaxis": "x",
         "y": {
          "bdata": "AAAAQArX/z8AAADAHoX/PwAAAIAUrv8/AAAAwB6F/z8AAABACtf/PwAAAMAehf8/AAAAgD0K/z8AAACAPQr/PwAAACBcj/4/AAAAIFyP/j8AAADgehT+PwAAAGCPwv0/AAAA4KNw/T//////1qP8PwAAAMD1KPw/AAAAwPUo/D8AAACAFK77PwAAAEAzM/s/AAAA4FG4+j8AAADgehT6PwAAACCF6/k/AAAAYI/C+T8AAAAgrkf5PwAAAEDhevg/AAAAwPUo+D8AAADA9Sj4PwAAAMD1KPg/AAAAQArX9z8AAACAFK73PwAAAEAK1/c/AAAAQArX9z8AAABA4Xr4PwAAAEDhevg/AAAAgML1+D8AAABA4Xr4PwAAAIDC9fg/AAAAYLge+T8AAACAwvX4PwAAAGC4Hvk/AAAAYLge+T8AAADgo3D5PwAAAOB6FPo/AAAAIIXr+T8AAABgZmb6PwAAAGBmZvo/AAAA4FG4+j8AAACgR+H6PwAAAIA9Cvs/AAAAQDMz+z8AAADAHoX7PwAAAMAehfs/AAAAAAAA/D8AAADA9Sj8PwAAAEDhevw/AAAAQOF6/D8AAACAwvX8P////1+4Hv0/////H65H/T8AAADgo3D9P////x+uR/0/AAAAYI/C/T8AAACgcD3+PwAAAKBwPf4/AAAAIFyP/j8BAADgUbj+PwEAAKBH4f4/AQAAQDMz/z8BAAAAKVz/PwAAAMAehf8/AAAAgBSu/z8AAADgehQAQAAAAOB6FABAAAAAYGZmAEAAAADAzMwAQAAAACBcjwBAAAAA4FG4AEAAAAAA16MAQAAAAMDMzABAAAAAwMzMAEAAAACAwvUAQAAAAKBH4QBAAAAAoEfhAEAAAACAPQoBQAAAAGC4HgFAAAAAQDMzAUAAAABAMzMBQAAAACCuRwFAAAAAQDMzAUAAAADgo3ABQAAAAOCjcAFAAAAA4KNwAUAAAACgmZkBQAAAACCF6wFAAAAAQArXAUAAAABgj8IBQAAAAEAK1wFAAAAAQArXAUAAAAAghesBQAAAAOB6FAJAAAAAgOtRAkAAAACgcD0CQAAAAKBwPQJAAAAAQOF6AkAAAAAgXI8CQAAAACBcjwJAAAAAANejAkAAAACAPQoDQAAAAIA9CgNAAAAAYLgeA0AAAADgo3ADQAAAACCF6wNAAAAAIIXrA0AAAAAAAAAEQAAAAAAAAARAAAAAANejBkAAAACA61EEQAAAAIDrUQRAAAAAYGZmBEAAAAAgXI8EQAAAACBcjwRAAAAAIFyPBEAAAADgehQAQAAAAMD1KABAAAAAgOtRAEAAAAAA16MAQAAAAMDMzABAAAAAoEfhAEAAAADgo3AFQAAAAIAUrgVAAAAAoJmZBUAAAACAFK4FQAAAACCF6wVAAAAAAAAABkAAAADA9SgGQAAAAMD1KAZAAAAAYGZmBkAAAACA61EGQAAAAEDhegZAAAAAgOtRBkAAAABA4XoGQAAAAADXowZAAAAAANejBkAAAACAPQoHQAAAAKBH4QZAAAAAAClcB0AAAABguB4HQAAAAEAzMwdAAAAAoJmZB0AAAADAHoUHQAAAAOCjcAdAAAAAwB6FB0AAAABgj8IHQAAAAEAK1wdAAAAAIIXrB0AAAAAghesHQAAAAEAK1wdAAAAAQArXB0AAAABgj8IHQAAAAGCPwgdAAAAAQArXB0AAAACgmZkHQAAAAKCZmQdAAAAAwB6FB0AAAABgj8IHQAAAAKCZmQdAAAAAgBSuB0AAAACgmZkHQAAAAGCPwgdAAAAAQArXB0AAAABACtcHQAAAACCF6wdAAAAAAAAACEAAAAAghesHQAAAACCF6wdAAAAAYGZmCEAAAAAAAAAIQAAAAOB6FAhAAAAAAAAACEAAAADA9SgIQAAAAAAAAAhAAAAAwB6FB0AAAADgo3AHQAAAACCuRwdAAAAAoJmZB0AAAACgmZkHQAAAAKCZmQdAAAAAoJmZB0AAAADgo3AHQAAAAAApXAdAAAAA4KNwB0AAAADAHoUHQAAAAKCZmQdAAAAA4KNwB0AAAAAAKVwHQAAAACCuRwdAAAAAQArXCUAAAABguB4HQAAAAGBmZgZAAAAAgML1BkAAAACgR+EGQAAAAOBRuAZAAAAAANejBkAAAACgmZkFQAAAAEDhegZAAAAA4FG4BkAAAAAgXI8GQAAAAEDhegZAAAAAYGZmBkAAAADA9SgGQAAAAMD1KAZAAAAAoHA9BkAAAAAAAAAGQAAAAKCZmQVAAAAAIIXrBUAAAAAghesFQAAAAOCjcAVAAAAAYI/CBUAAAADgo3AFQAAAACCuRwVAAAAAIK5HBUAAAABAMzMFQAAAAKBH4QRAAAAAYLgeBUAAAAAAKVwFQAAAACCuRwVAAAAAIK5HBUAAAABACtcBQAAAAEAzMwVAAAAAIK5HBUAAAABguB4FQAAAAIA9CgVAAAAAgD0KBUAAAAAA16MEQAAAAEDhegRAAAAAoHA9BEAAAAAghesDQAAAAKBwPQRAAAAAAAAABEAAAACAFK4DQAAAAAApXANAAAAAQDMzA0AAAAAAKVwDQAAAAGC4HgNAAAAAQDMzA0AAAADgUbgCQAAAAIA9CgNAAAAA4FG4AkAAAADAzMwCQAAAAMDMzAJAAAAAwMzMAkAAAAAA16MCQAAAAEDhegJAAAAA4HoUAEAAAADAHoX/PwAAAKBH4QJAAAAAgD0KA0AAAACgR+ECQAAAAIA9CgNAAAAAgML1AkAAAADgo3ADQAAAACCuRwNAAAAAAClcA0AAAACAFK4DQAAAACCF6wNAAAAAYI/CA0AAAACgmZkDQAAAAIAUrgNAAAAA4KNwA0AAAADgo3ADQAAAAMAehQNAAAAAAClcA0AAAAAgrkcDQAAAAAApXANAAAAAQDMzA0AAAABguB4DQAAAAIA9CgNAAAAAgD0KA0AAAACgR+ECQAAAAKBH4QJAAAAAoEfhAkAAAAAAAAACQAAAAEAzMwFAAAAAIFyPAEAAAAAAKVwDQAAAAEAzMwNAAAAAAClcA0AAAAAgrkcDQAAAAOCjcANAAAAAoJmZA0AAAACgmZkDQAAAACCuRwFAAAAAwMzMAEAAAADA9SgEQAAAAIDC9QBA",
          "dtype": "f8"
         },
         "yaxis": "y"
        }
       ],
       "layout": {
        "height": 600,
        "hovermode": "x unified",
        "template": {
         "data": {
          "bar": [
           {
            "error_x": {
             "color": "#2a3f5f"
            },
            "error_y": {
             "color": "#2a3f5f"
            },
            "marker": {
             "line": {
              "color": "#E5ECF6",
              "width": 0.5
             },
             "pattern": {
              "fillmode": "overlay",
              "size": 10,
              "solidity": 0.2
             }
            },
            "type": "bar"
           }
          ],
          "barpolar": [
           {
            "marker": {
             "line": {
              "color": "#E5ECF6",
              "width": 0.5
             },
             "pattern": {
              "fillmode": "overlay",
              "size": 10,
              "solidity": 0.2
             }
            },
            "type": "barpolar"
           }
          ],
          "carpet": [
           {
            "aaxis": {
             "endlinecolor": "#2a3f5f",
             "gridcolor": "white",
             "linecolor": "white",
             "minorgridcolor": "white",
             "startlinecolor": "#2a3f5f"
            },
            "baxis": {
             "endlinecolor": "#2a3f5f",
             "gridcolor": "white",
             "linecolor": "white",
             "minorgridcolor": "white",
             "startlinecolor": "#2a3f5f"
            },
            "type": "carpet"
           }
          ],
          "choropleth": [
           {
            "colorbar": {
             "outlinewidth": 0,
             "ticks": ""
            },
            "type": "choropleth"
           }
          ],
          "contour": [
           {
            "colorbar": {
             "outlinewidth": 0,
             "ticks": ""
            },
            "colorscale": [
             [
              0,
              "#0d0887"
             ],
             [
              0.1111111111111111,
              "#46039f"
             ],
             [
              0.2222222222222222,
              "#7201a8"
             ],
             [
              0.3333333333333333,
              "#9c179e"
             ],
             [
              0.4444444444444444,
              "#bd3786"
             ],
             [
              0.5555555555555556,
              "#d8576b"
             ],
             [
              0.6666666666666666,
              "#ed7953"
             ],
             [
              0.7777777777777778,
              "#fb9f3a"
             ],
             [
              0.8888888888888888,
              "#fdca26"
             ],
             [
              1,
              "#f0f921"
             ]
            ],
            "type": "contour"
           }
          ],
          "contourcarpet": [
           {
            "colorbar": {
             "outlinewidth": 0,
             "ticks": ""
            },
            "type": "contourcarpet"
           }
          ],
          "heatmap": [
           {
            "colorbar": {
             "outlinewidth": 0,
             "ticks": ""
            },
            "colorscale": [
             [
              0,
              "#0d0887"
             ],
             [
              0.1111111111111111,
              "#46039f"
             ],
             [
              0.2222222222222222,
              "#7201a8"
             ],
             [
              0.3333333333333333,
              "#9c179e"
             ],
             [
              0.4444444444444444,
              "#bd3786"
             ],
             [
              0.5555555555555556,
              "#d8576b"
             ],
             [
              0.6666666666666666,
              "#ed7953"
             ],
             [
              0.7777777777777778,
              "#fb9f3a"
             ],
             [
              0.8888888888888888,
              "#fdca26"
             ],
             [
              1,
              "#f0f921"
             ]
            ],
            "type": "heatmap"
           }
          ],
          "histogram": [
           {
            "marker": {
             "pattern": {
              "fillmode": "overlay",
              "size": 10,
              "solidity": 0.2
             }
            },
            "type": "histogram"
           }
          ],
          "histogram2d": [
           {
            "colorbar": {
             "outlinewidth": 0,
             "ticks": ""
            },
            "colorscale": [
             [
              0,
              "#0d0887"
             ],
             [
              0.1111111111111111,
              "#46039f"
             ],
             [
              0.2222222222222222,
              "#7201a8"
             ],
             [
              0.3333333333333333,
              "#9c179e"
             ],
             [
              0.4444444444444444,
              "#bd3786"
             ],
             [
              0.5555555555555556,
              "#d8576b"
             ],
             [
              0.6666666666666666,
              "#ed7953"
             ],
             [
              0.7777777777777778,
              "#fb9f3a"
             ],
             [
              0.8888888888888888,
              "#fdca26"
             ],
             [
              1,
              "#f0f921"
             ]
            ],
            "type": "histogram2d"
           }
          ],
          "histogram2dcontour": [
           {
            "colorbar": {
             "outlinewidth": 0,
             "ticks": ""
            },
            "colorscale": [
             [
              0,
              "#0d0887"
             ],
             [
              0.1111111111111111,
              "#46039f"
             ],
             [
              0.2222222222222222,
              "#7201a8"
             ],
             [
              0.3333333333333333,
              "#9c179e"
             ],
             [
              0.4444444444444444,
              "#bd3786"
             ],
             [
              0.5555555555555556,
              "#d8576b"
             ],
             [
              0.6666666666666666,
              "#ed7953"
             ],
             [
              0.7777777777777778,
              "#fb9f3a"
             ],
             [
              0.8888888888888888,
              "#fdca26"
             ],
             [
              1,
              "#f0f921"
             ]
            ],
            "type": "histogram2dcontour"
           }
          ],
          "mesh3d": [
           {
            "colorbar": {
             "outlinewidth": 0,
             "ticks": ""
            },
            "type": "mesh3d"
           }
          ],
          "parcoords": [
           {
            "line": {
             "colorbar": {
              "outlinewidth": 0,
              "ticks": ""
             }
            },
            "type": "parcoords"
           }
          ],
          "pie": [
           {
            "automargin": true,
            "type": "pie"
           }
          ],
          "scatter": [
           {
            "fillpattern": {
             "fillmode": "overlay",
             "size": 10,
             "solidity": 0.2
            },
            "type": "scatter"
           }
          ],
          "scatter3d": [
           {
            "line": {
             "colorbar": {
              "outlinewidth": 0,
              "ticks": ""
             }
            },
            "marker": {
             "colorbar": {
              "outlinewidth": 0,
              "ticks": ""
             }
            },
            "type": "scatter3d"
           }
          ],
          "scattercarpet": [
           {
            "marker": {
             "colorbar": {
              "outlinewidth": 0,
              "ticks": ""
             }
            },
            "type": "scattercarpet"
           }
          ],
          "scattergeo": [
           {
            "marker": {
             "colorbar": {
              "outlinewidth": 0,
              "ticks": ""
             }
            },
            "type": "scattergeo"
           }
          ],
          "scattergl": [
           {
            "marker": {
             "colorbar": {
              "outlinewidth": 0,
              "ticks": ""
             }
            },
            "type": "scattergl"
           }
          ],
          "scattermap": [
           {
            "marker": {
             "colorbar": {
              "outlinewidth": 0,
              "ticks": ""
             }
            },
            "type": "scattermap"
           }
          ],
          "scattermapbox": [
           {
            "marker": {
             "colorbar": {
              "outlinewidth": 0,
              "ticks": ""
             }
            },
            "type": "scattermapbox"
           }
          ],
          "scatterpolar": [
           {
            "marker": {
             "colorbar": {
              "outlinewidth": 0,
              "ticks": ""
             }
            },
            "type": "scatterpolar"
           }
          ],
          "scatterpolargl": [
           {
            "marker": {
             "colorbar": {
              "outlinewidth": 0,
              "ticks": ""
             }
            },
            "type": "scatterpolargl"
           }
          ],
          "scatterternary": [
           {
            "marker": {
             "colorbar": {
              "outlinewidth": 0,
              "ticks": ""
             }
            },
            "type": "scatterternary"
           }
          ],
          "surface": [
           {
            "colorbar": {
             "outlinewidth": 0,
             "ticks": ""
            },
            "colorscale": [
             [
              0,
              "#0d0887"
             ],
             [
              0.1111111111111111,
              "#46039f"
             ],
             [
              0.2222222222222222,
              "#7201a8"
             ],
             [
              0.3333333333333333,
              "#9c179e"
             ],
             [
              0.4444444444444444,
              "#bd3786"
             ],
             [
              0.5555555555555556,
              "#d8576b"
             ],
             [
              0.6666666666666666,
              "#ed7953"
             ],
             [
              0.7777777777777778,
              "#fb9f3a"
             ],
             [
              0.8888888888888888,
              "#fdca26"
             ],
             [
              1,
              "#f0f921"
             ]
            ],
            "type": "surface"
           }
          ],
          "table": [
           {
            "cells": {
             "fill": {
              "color": "#EBF0F8"
             },
             "line": {
              "color": "white"
             }
            },
            "header": {
             "fill": {
              "color": "#C8D4E3"
             },
             "line": {
              "color": "white"
             }
            },
            "type": "table"
           }
          ]
         },
         "layout": {
          "annotationdefaults": {
           "arrowcolor": "#2a3f5f",
           "arrowhead": 0,
           "arrowwidth": 1
          },
          "autotypenumbers": "strict",
          "coloraxis": {
           "colorbar": {
            "outlinewidth": 0,
            "ticks": ""
           }
          },
          "colorscale": {
           "diverging": [
            [
             0,
             "#8e0152"
            ],
            [
             0.1,
             "#c51b7d"
            ],
            [
             0.2,
             "#de77ae"
            ],
            [
             0.3,
             "#f1b6da"
            ],
            [
             0.4,
             "#fde0ef"
            ],
            [
             0.5,
             "#f7f7f7"
            ],
            [
             0.6,
             "#e6f5d0"
            ],
            [
             0.7,
             "#b8e186"
            ],
            [
             0.8,
             "#7fbc41"
            ],
            [
             0.9,
             "#4d9221"
            ],
            [
             1,
             "#276419"
            ]
           ],
           "sequential": [
            [
             0,
             "#0d0887"
            ],
            [
             0.1111111111111111,
             "#46039f"
            ],
            [
             0.2222222222222222,
             "#7201a8"
            ],
            [
             0.3333333333333333,
             "#9c179e"
            ],
            [
             0.4444444444444444,
             "#bd3786"
            ],
            [
             0.5555555555555556,
             "#d8576b"
            ],
            [
             0.6666666666666666,
             "#ed7953"
            ],
            [
             0.7777777777777778,
             "#fb9f3a"
            ],
            [
             0.8888888888888888,
             "#fdca26"
            ],
            [
             1,
             "#f0f921"
            ]
           ],
           "sequentialminus": [
            [
             0,
             "#0d0887"
            ],
            [
             0.1111111111111111,
             "#46039f"
            ],
            [
             0.2222222222222222,
             "#7201a8"
            ],
            [
             0.3333333333333333,
             "#9c179e"
            ],
            [
             0.4444444444444444,
             "#bd3786"
            ],
            [
             0.5555555555555556,
             "#d8576b"
            ],
            [
             0.6666666666666666,
             "#ed7953"
            ],
            [
             0.7777777777777778,
             "#fb9f3a"
            ],
            [
             0.8888888888888888,
             "#fdca26"
            ],
            [
             1,
             "#f0f921"
            ]
           ]
          },
          "colorway": [
           "#636efa",
           "#EF553B",
           "#00cc96",
           "#ab63fa",
           "#FFA15A",
           "#19d3f3",
           "#FF6692",
           "#B6E880",
           "#FF97FF",
           "#FECB52"
          ],
          "font": {
           "color": "#2a3f5f"
          },
          "geo": {
           "bgcolor": "white",
           "lakecolor": "white",
           "landcolor": "#E5ECF6",
           "showlakes": true,
           "showland": true,
           "subunitcolor": "white"
          },
          "hoverlabel": {
           "align": "left"
          },
          "hovermode": "closest",
          "mapbox": {
           "style": "light"
          },
          "paper_bgcolor": "white",
          "plot_bgcolor": "#E5ECF6",
          "polar": {
           "angularaxis": {
            "gridcolor": "white",
            "linecolor": "white",
            "ticks": ""
           },
           "bgcolor": "#E5ECF6",
           "radialaxis": {
            "gridcolor": "white",
            "linecolor": "white",
            "ticks": ""
           }
          },
          "scene": {
           "xaxis": {
            "backgroundcolor": "#E5ECF6",
            "gridcolor": "white",
            "gridwidth": 2,
            "linecolor": "white",
            "showbackground": true,
            "ticks": "",
            "zerolinecolor": "white"
           },
           "yaxis": {
            "backgroundcolor": "#E5ECF6",
            "gridcolor": "white",
            "gridwidth": 2,
            "linecolor": "white",
            "showbackground": true,
            "ticks": "",
            "zerolinecolor": "white"
           },
           "zaxis": {
            "backgroundcolor": "#E5ECF6",
            "gridcolor": "white",
            "gridwidth": 2,
            "linecolor": "white",
            "showbackground": true,
            "ticks": "",
            "zerolinecolor": "white"
           }
          },
          "shapedefaults": {
           "line": {
            "color": "#2a3f5f"
           }
          },
          "ternary": {
           "aaxis": {
            "gridcolor": "white",
            "linecolor": "white",
            "ticks": ""
           },
           "baxis": {
            "gridcolor": "white",
            "linecolor": "white",
            "ticks": ""
           },
           "bgcolor": "#E5ECF6",
           "caxis": {
            "gridcolor": "white",
            "linecolor": "white",
            "ticks": ""
           }
          },
          "title": {
           "x": 0.05
          },
          "xaxis": {
           "automargin": true,
           "gridcolor": "white",
           "linecolor": "white",
           "ticks": "",
           "title": {
            "standoff": 15
           },
           "zerolinecolor": "white",
           "zerolinewidth": 2
          },
          "yaxis": {
           "automargin": true,
           "gridcolor": "white",
           "linecolor": "white",
           "ticks": "",
           "title": {
            "standoff": 15
           },
           "zerolinecolor": "white",
           "zerolinewidth": 2
          }
         }
        },
        "title": {
         "text": "Interactive Distance Comparison: Sonar vs DVL"
        },
        "xaxis": {
         "anchor": "y",
         "domain": [
          0,
          1
         ],
         "showgrid": true,
         "title": {
          "text": "Time (seconds)"
         }
        },
        "yaxis": {
         "anchor": "x",
         "domain": [
          0,
          1
         ],
         "showgrid": true,
         "title": {
          "text": "Distance (meters)"
         }
        }
       }
      }
     },
     "metadata": {},
     "output_type": "display_data"
    }
   ],
   "source": [
    "fig, comparison_stats = iau.ComparisonEngine.compare_sonar_vs_dvl(distance_results, raw_data, sonar_coverage_m=sonar_coverage_meters, sonar_image_size=image_shape[0], use_plotly=True)\n",
    "fig.show()"
   ]
  },
  {
   "cell_type": "code",
   "execution_count": 9,
   "id": "50f97352",
   "metadata": {},
   "outputs": [
    {
     "name": "stdout",
     "output_type": "stream",
     "text": [
      "GENERATING VIDEO WITH DUAL NET DISTANCE OVERLAYS\n",
      "============================================================\n",
      " Target Bag: 2024-08-20_13-55-34\n",
      " DVL Data: 294 records\n",
      " Sonar Analysis: 769 frames\n",
      " Auto-detect video: enabled (PNG frames + index.csv)\n",
      "⏱  Sync tolerance: 1.0s\n",
      "OPTIMIZED SONAR VIDEO\n",
      "======================================================================\n",
      "Target Bag: 2024-08-20_13-55-34\n",
      "   Cone Size: 900x700\n",
      "   Range: 0.0-5.0m | FOV: 120.0°\n",
      "Auto-detecting video files for bag: 2024-08-20_13-55-34\n",
      "Found video frames: 2024-08-20_13-55-34_video__image_compressed_image_data_frames\n",
      "Using frames directory: /Volumes/LaCie/SOLAQUA/exports/frames/2024-08-20_13-55-34_video__image_compressed_image_data_frames\n",
      "Camera: enabled\n",
      "Net-line: enabled (dist tol=0.5s, pitch tol=2.0s)\n",
      "Sonar Analysis: enabled\n",
      "   Loading sonar data: sensor_sonoptix_echo_image__2024-08-20_13-55-34_video.csv\n",
      "Loaded 770 sonar frames in 30.03s\n",
      "Loaded 294 navigation records in 0.02s\n",
      "      Available: ['NetDistance', 'NetPitch', 'timestamp']\n",
      "Loaded 615 camera index entries\n",
      "   Frames: 1..769 (step 1) => 769\n",
      "   Natural FPS: 15.6\n"
     ]
    },
    {
     "ename": "KeyboardInterrupt",
     "evalue": "",
     "output_type": "error",
     "traceback": [
      "\u001b[31m---------------------------------------------------------------------------\u001b[39m",
      "\u001b[31mKeyboardInterrupt\u001b[39m                         Traceback (most recent call last)",
      "\u001b[36mCell\u001b[39m\u001b[36m \u001b[39m\u001b[32mIn[9]\u001b[39m\u001b[32m, line 20\u001b[39m\n\u001b[32m     18\u001b[39m \u001b[38;5;66;03m# Generate the video with both overlays and improved sync\u001b[39;00m\n\u001b[32m     19\u001b[39m \u001b[38;5;28;01mtry\u001b[39;00m:\n\u001b[32m---> \u001b[39m\u001b[32m20\u001b[39m     video_path = \u001b[43msg\u001b[49m\u001b[43m.\u001b[49m\u001b[43mexport_optimized_sonar_video\u001b[49m\u001b[43m(\u001b[49m\n\u001b[32m     21\u001b[39m \u001b[43m        \u001b[49m\u001b[43mTARGET_BAG\u001b[49m\u001b[43m=\u001b[49m\u001b[43mTARGET_BAG\u001b[49m\u001b[43m,\u001b[49m\n\u001b[32m     22\u001b[39m \u001b[43m        \u001b[49m\u001b[43mEXPORTS_FOLDER\u001b[49m\u001b[43m=\u001b[49m\u001b[43mEXPORTS_FOLDER\u001b[49m\u001b[43m,\u001b[49m\n\u001b[32m     23\u001b[39m \u001b[43m        \u001b[49m\u001b[43mSTART_IDX\u001b[49m\u001b[43m=\u001b[49m\u001b[32;43m1\u001b[39;49m\u001b[43m,\u001b[49m\n\u001b[32m     24\u001b[39m \u001b[43m        \u001b[49m\u001b[43mEND_IDX\u001b[49m\u001b[43m=\u001b[49m\u001b[32;43m1200\u001b[39;49m\u001b[43m,\u001b[49m\u001b[43m  \u001b[49m\n\u001b[32m     25\u001b[39m \u001b[43m        \u001b[49m\u001b[43mSTRIDE\u001b[49m\u001b[43m=\u001b[49m\u001b[32;43m1\u001b[39;49m\u001b[43m,\u001b[49m\u001b[43m    \u001b[49m\n\u001b[32m     26\u001b[39m \u001b[43m        \u001b[49m\u001b[43mAUTO_DETECT_VIDEO\u001b[49m\u001b[43m=\u001b[49m\u001b[38;5;28;43;01mTrue\u001b[39;49;00m\u001b[43m,\u001b[49m\u001b[43m       \u001b[49m\u001b[38;5;66;43;03m# Enable automatic video file detection\u001b[39;49;00m\n\u001b[32m     27\u001b[39m \u001b[43m        \u001b[49m\u001b[43mINCLUDE_NET\u001b[49m\u001b[43m=\u001b[49m\u001b[38;5;28;43;01mTrue\u001b[39;49;00m\u001b[43m,\u001b[49m\u001b[43m             \u001b[49m\u001b[38;5;66;43;03m# Enable DVL net distance overlay\u001b[39;49;00m\n\u001b[32m     28\u001b[39m \u001b[43m        \u001b[49m\u001b[43mSONAR_DISTANCE_RESULTS\u001b[49m\u001b[43m=\u001b[49m\u001b[43mdistance_results\u001b[49m\u001b[43m,\u001b[49m\u001b[43m  \u001b[49m\u001b[38;5;66;43;03m# Enable sonar analysis overlay\u001b[39;49;00m\n\u001b[32m     29\u001b[39m \u001b[43m        \u001b[49m\u001b[43mNET_DISTANCE_TOLERANCE\u001b[49m\u001b[43m=\u001b[49m\u001b[32;43m0.5\u001b[39;49m\u001b[43m,\u001b[49m\n\u001b[32m     30\u001b[39m \u001b[43m        \u001b[49m\u001b[43mNET_PITCH_TOLERANCE\u001b[49m\u001b[43m=\u001b[49m\u001b[32;43m2.0\u001b[39;49m\u001b[43m,\u001b[49m\u001b[43m      \u001b[49m\u001b[38;5;66;43;03m# Increased from 0.3 to 2.0 seconds for better pitch sync\u001b[39;49;00m\n\u001b[32m     31\u001b[39m \u001b[43m    \u001b[49m\u001b[43m)\u001b[49m\n\u001b[32m     33\u001b[39m     \u001b[38;5;28mprint\u001b[39m(\u001b[33mf\u001b[39m\u001b[33m\"\u001b[39m\u001b[38;5;130;01m\\n\u001b[39;00m\u001b[33m Video generated successfully!\u001b[39m\u001b[33m\"\u001b[39m)\n\u001b[32m     34\u001b[39m     \u001b[38;5;28mprint\u001b[39m(\u001b[33mf\u001b[39m\u001b[33m\"\u001b[39m\u001b[33m Output: \u001b[39m\u001b[38;5;132;01m{\u001b[39;00mvideo_path\u001b[38;5;132;01m}\u001b[39;00m\u001b[33m\"\u001b[39m)\n",
      "\u001b[36mFile \u001b[39m\u001b[32m~/code/SOLAQUA/utils/sonar_and_foto_generation.py:514\u001b[39m, in \u001b[36mexport_optimized_sonar_video\u001b[39m\u001b[34m(TARGET_BAG, EXPORTS_FOLDER, START_IDX, END_IDX, STRIDE, VIDEO_SEQ_DIR, AUTO_DETECT_VIDEO, VIDEO_HEIGHT, PAD_BETWEEN, FONT_SCALE, FOV_DEG, RANGE_MIN_M, RANGE_MAX_M, DISPLAY_RANGE_MAX_M, FLIP_BEAMS, FLIP_RANGE, USE_ENHANCED, ENH_SCALE, ENH_TVG, ENH_ALPHA_DB_PER_M, ENH_R0, ENH_P_LOW, ENH_P_HIGH, ENH_GAMMA, ENH_ZERO_AWARE, ENH_EPS_LOG, CONE_W, CONE_H, CONE_FLIP_VERTICAL, CMAP_NAME, INCLUDE_NET, NET_DISTANCE_TOLERANCE, NET_PITCH_TOLERANCE, SONAR_DISTANCE_RESULTS)\u001b[39m\n\u001b[32m    511\u001b[39m         \u001b[38;5;28;01mif\u001b[39;00m \u001b[38;5;129;01mnot\u001b[39;00m writer.isOpened():\n\u001b[32m    512\u001b[39m             \u001b[38;5;28;01mraise\u001b[39;00m \u001b[38;5;167;01mRuntimeError\u001b[39;00m(\u001b[33mf\u001b[39m\u001b[33m\"\u001b[39m\u001b[33mCould not open writer: \u001b[39m\u001b[38;5;132;01m{\u001b[39;00mout_path\u001b[38;5;132;01m}\u001b[39;00m\u001b[33m\"\u001b[39m)\n\u001b[32m--> \u001b[39m\u001b[32m514\u001b[39m     \u001b[43mwriter\u001b[49m\u001b[43m.\u001b[49m\u001b[43mwrite\u001b[49m\u001b[43m(\u001b[49m\u001b[43mcomposite\u001b[49m\u001b[43m)\u001b[49m\n\u001b[32m    515\u001b[39m     frames_written += \u001b[32m1\u001b[39m\n\u001b[32m    517\u001b[39m \u001b[38;5;28;01mif\u001b[39;00m writer \u001b[38;5;129;01mis\u001b[39;00m \u001b[38;5;129;01mnot\u001b[39;00m \u001b[38;5;28;01mNone\u001b[39;00m:\n",
      "\u001b[31mKeyboardInterrupt\u001b[39m: "
     ]
    }
   ],
   "source": [
    "# Generate Video with Both DVL and Sonar Analysis Overlays (Improved Sync)\n",
    "# ==========================================================================\n",
    "import utils.sonar_and_foto_generation as sg\n",
    "\n",
    "# Enable automatic video detection with improved synchronization\n",
    "from utils.sonar_config import VIDEO_CONFIG\n",
    "VIDEO_CONFIG['enable_video_overlay'] = True  \n",
    "VIDEO_CONFIG['max_sync_tolerance_seconds'] = 1.0  # Tighter sync tolerance\n",
    "\n",
    "print(\"GENERATING VIDEO WITH DUAL NET DISTANCE OVERLAYS\")\n",
    "print(\"=\" * 60)\n",
    "print(f\" Target Bag: {TARGET_BAG}\")\n",
    "print(f\" DVL Data: {len(raw_data.get('navigation', []))} records\")\n",
    "print(f\" Sonar Analysis: {len(distance_results)} frames\")\n",
    "print(f\" Auto-detect video: enabled (PNG frames + index.csv)\")\n",
    "print(f\"⏱  Sync tolerance: {VIDEO_CONFIG['max_sync_tolerance_seconds']}s\")\n",
    "\n",
    "# Generate the video with both overlays and improved sync\n",
    "try:\n",
    "    video_path = sg.export_optimized_sonar_video(\n",
    "        TARGET_BAG=TARGET_BAG,\n",
    "        EXPORTS_FOLDER=EXPORTS_FOLDER,\n",
    "        START_IDX=1,\n",
    "        END_IDX=1200,  \n",
    "        STRIDE=1,    \n",
    "        AUTO_DETECT_VIDEO=True,       # Enable automatic video file detection\n",
    "        INCLUDE_NET=True,             # Enable DVL net distance overlay\n",
    "        SONAR_DISTANCE_RESULTS=distance_results,  # Enable sonar analysis overlay\n",
    "        NET_DISTANCE_TOLERANCE=0.5,\n",
    "        NET_PITCH_TOLERANCE=2.0,      # Increased from 0.3 to 2.0 seconds for better pitch sync\n",
    "    )\n",
    "\n",
    "    print(f\"\\n Video generated successfully!\")\n",
    "    print(f\" Output: {video_path}\")\n",
    "    print(f\"\\n Check the video output:\")\n",
    "    print(f\"   - Camera frames should sync properly with sonar\")\n",
    "    print(f\"   - When camera data ends, video should switch to sonar-only\")\n",
    "    print(f\"   - No frozen camera frames should appear\")\n",
    "    \n",
    "except Exception as e:\n",
    "    print(f\"Error generating video: {e}\")\n",
    "    import traceback\n",
    "    traceback.print_exc()\n",
    "    print(\"\\n Troubleshooting:\")\n",
    "    print(\"  1. Run the video detection cell above to verify files exist\")\n",
    "    print(\"  2. Check that PNG frames directory has index.csv file\")\n",
    "    print(\"  3. Try disabling video overlay: VIDEO_CONFIG['enable_video_overlay'] = False\")\n",
    "    print(\"  4. Check exports directory structure\")"
   ]
  },
  {
   "cell_type": "code",
   "execution_count": null,
   "id": "a0dffba5",
   "metadata": {},
   "outputs": [],
   "source": []
  }
 ],
 "metadata": {
  "kernelspec": {
   "display_name": "venv",
   "language": "python",
   "name": "python3"
  },
  "language_info": {
   "codemirror_mode": {
    "name": "ipython",
    "version": 3
   },
   "file_extension": ".py",
   "mimetype": "text/x-python",
   "name": "python",
   "nbconvert_exporter": "python",
   "pygments_lexer": "ipython3",
   "version": "3.13.5"
  }
 },
 "nbformat": 4,
 "nbformat_minor": 5
}
