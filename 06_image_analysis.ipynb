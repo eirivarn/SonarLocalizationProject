{
 "cells": [
  {
   "cell_type": "code",
   "execution_count": 15,
   "id": "7a8d02c0",
   "metadata": {},
   "outputs": [],
   "source": [
    "# Centralized sonar defaults (inserted by sweep)\n",
    "from utils.sonar_config import SONAR_VIS_DEFAULTS\n",
    "sonar_config = SONAR_VIS_DEFAULTS.copy()\n",
    "# Backwards-compatible variable names used in older notebooks\n",
    "RANGE_MIN_M = sonar_config['range_min_m']\n",
    "RANGE_MAX_M = sonar_config['range_max_m']\n",
    "DISPLAY_RANGE_MAX_M = sonar_config['display_range_max_m']"
   ]
  },
  {
   "cell_type": "markdown",
   "id": "9220eb1d",
   "metadata": {},
   "source": [
    "# Simple Image Analysis with CV2\n",
    "\n",
    "This notebook demonstrates:\n",
    "1. **Pick a frame** from NPZ files and save it locally\n",
    "2. **Use standard cv2 functions** directly for image processing\n",
    "3. **Experiment** with different OpenCV operations"
   ]
  },
  {
   "cell_type": "code",
   "execution_count": 16,
   "id": "4b3e8f46",
   "metadata": {},
   "outputs": [
    {
     "name": "stdout",
     "output_type": "stream",
     "text": [
      "Using DATA_DIR = /Volumes/LaCie/SOLAQUA/raw_data\n",
      "Selected NPZ file: 2024-08-20_14-22-12_data_cones.npz (index=6)\n"
     ]
    }
   ],
   "source": [
    "from pathlib import Path\n",
    "import utils.sonar_image_analysis as iau\n",
    "import importlib\n",
    "importlib.reload(iau)\n",
    "\n",
    "# Prefer selecting by bag ID (part of the NPZ filename) instead of a numeric index.\n",
    "# Set TARGET_BAG to a substring that appears in the NPZ filename \n",
    "# '2024-08-22_14-47-39'\n",
    "# '2024-08-22_14-29-05'\n",
    "# '2024-08-20_14-22-12'\n",
    "# '2024-08-20_14-31-29' HARD\n",
    "TARGET_BAG = '2024-08-20_14-22-12'  # change this to your desired bag ID\n",
    "from utils.sonar_config import EXPORTS_DIR_DEFAULT, EXPORTS_SUBDIRS\n",
    "EXPORTS_FOLDER = Path(EXPORTS_DIR_DEFAULT)\n",
    "\n",
    "# If you keep your raw .bag files or raw data on an external drive, point DATA_DIR there.\n",
    "# Example (your external disk): /Volumes/LaCie/SOLAQUA/raw_data\n",
    "DATA_DIR = Path(\"/Volumes/LaCie/SOLAQUA/raw_data\")\n",
    "print(f\"Using DATA_DIR = {DATA_DIR}\")\n",
    "\n",
    "# Find NPZ files and pick the one matching TARGET_BAG\n",
    "files = iau.get_available_npz_files()\n",
    "if not files:\n",
    "    raise FileNotFoundError(f\"No NPZ files found in configured exports outputs (looked under {EXPORTS_FOLDER / EXPORTS_SUBDIRS.get('outputs','outputs')})\")\n",
    "matches = [p for p in files if TARGET_BAG in p.name]\n",
    "if not matches:\n",
    "    # Help the user by listing available NPZ files\n",
    "    print(f'No NPZ file matched TARGET_BAG={TARGET_BAG!r}')\n",
    "    print('Available NPZ files:')\n",
    "    for i,p in enumerate(files):\n",
    "        print(f'  {i}: {p.name}')\n",
    "    raise ValueError(f'No NPZ file contains \"{TARGET_BAG}\" in its name')\n",
    "\n",
    "# If multiple matches, choose the most recently modified one\n",
    "selected = max(matches, key=lambda p: p.stat().st_mtime)\n",
    "NPZ_FILE_INDEX = files.index(selected)\n",
    "print(f'Selected NPZ file: {selected.name} (index={NPZ_FILE_INDEX})')"
   ]
  },
  {
   "cell_type": "markdown",
   "id": "0c65358c",
   "metadata": {},
   "source": [
    "## Distance Analysis Over Time\n",
    "\n",
    "Now let's perform a comprehensive analysis of the red line distance over time. The red line represents the major axis of the detected elongated contour (likely a fishing net), and we'll track how this distance changes throughout the video sequence."
   ]
  },
  {
   "cell_type": "code",
   "execution_count": 11,
   "id": "b9c5da85",
   "metadata": {},
   "outputs": [
    {
     "name": "stdout",
     "output_type": "stream",
     "text": [
      "=== ENHANCED VIDEO CREATION (Simplified) ===\n",
      "Creating video with simplified processor...\n",
      "Frames: 1000, step: 1\n",
      "✅ Processing 1000 frames with simplified processor...\n",
      "Processed 10/1000 frames\n",
      "Processed 20/1000 frames\n",
      "Processed 30/1000 frames\n",
      "Processed 40/1000 frames\n",
      "Processed 50/1000 frames\n",
      "Processed 60/1000 frames\n",
      "Processed 70/1000 frames\n",
      "Processed 80/1000 frames\n",
      "Processed 90/1000 frames\n",
      "Processed 100/1000 frames\n",
      "Processed 110/1000 frames\n",
      "Processed 120/1000 frames\n",
      "Processed 130/1000 frames\n",
      "Processed 140/1000 frames\n",
      "Processed 150/1000 frames\n",
      "Processed 160/1000 frames\n",
      "Processed 170/1000 frames\n",
      "Processed 180/1000 frames\n",
      "Processed 190/1000 frames\n",
      "Processed 200/1000 frames\n",
      "Processed 210/1000 frames\n",
      "Processed 220/1000 frames\n",
      "Processed 230/1000 frames\n",
      "Processed 240/1000 frames\n",
      "Processed 250/1000 frames\n",
      "Processed 260/1000 frames\n",
      "Processed 270/1000 frames\n",
      "Processed 280/1000 frames\n",
      "Processed 290/1000 frames\n",
      "Processed 300/1000 frames\n",
      "Processed 310/1000 frames\n",
      "Processed 320/1000 frames\n",
      "Processed 330/1000 frames\n",
      "Processed 340/1000 frames\n",
      "Processed 350/1000 frames\n",
      "Processed 360/1000 frames\n",
      "Processed 370/1000 frames\n",
      "Processed 380/1000 frames\n",
      "Processed 390/1000 frames\n",
      "Processed 400/1000 frames\n",
      "Processed 410/1000 frames\n",
      "Processed 420/1000 frames\n",
      "Processed 430/1000 frames\n",
      "Processed 440/1000 frames\n",
      "Processed 450/1000 frames\n",
      "Processed 460/1000 frames\n",
      "Processed 470/1000 frames\n",
      "Processed 480/1000 frames\n",
      "Processed 490/1000 frames\n",
      "Processed 500/1000 frames\n",
      "Processed 510/1000 frames\n",
      "Processed 520/1000 frames\n",
      "Processed 530/1000 frames\n",
      "Processed 540/1000 frames\n",
      "Processed 550/1000 frames\n",
      "Processed 560/1000 frames\n",
      "Processed 570/1000 frames\n",
      "Processed 580/1000 frames\n",
      "Processed 590/1000 frames\n",
      "Processed 600/1000 frames\n",
      "Processed 610/1000 frames\n",
      "Processed 620/1000 frames\n",
      "Processed 630/1000 frames\n",
      "Processed 640/1000 frames\n",
      "Processed 650/1000 frames\n",
      "Processed 660/1000 frames\n",
      "Processed 670/1000 frames\n",
      "Processed 680/1000 frames\n",
      "Processed 690/1000 frames\n",
      "Processed 700/1000 frames\n",
      "Processed 710/1000 frames\n",
      "Processed 720/1000 frames\n",
      "Processed 730/1000 frames\n",
      "Processed 740/1000 frames\n",
      "Processed 750/1000 frames\n",
      "Processed 760/1000 frames\n",
      "Processed 770/1000 frames\n",
      "Processed 780/1000 frames\n",
      "Processed 790/1000 frames\n",
      "Processed 800/1000 frames\n",
      "Processed 810/1000 frames\n",
      "Processed 820/1000 frames\n",
      "Processed 830/1000 frames\n",
      "Processed 840/1000 frames\n",
      "Processed 850/1000 frames\n",
      "Processed 860/1000 frames\n",
      "Processed 870/1000 frames\n",
      "Processed 880/1000 frames\n",
      "Processed 890/1000 frames\n",
      "Processed 900/1000 frames\n",
      "Processed 910/1000 frames\n",
      "Processed 920/1000 frames\n",
      "Processed 930/1000 frames\n",
      "Processed 940/1000 frames\n",
      "Processed 950/1000 frames\n",
      "Processed 960/1000 frames\n",
      "Processed 970/1000 frames\n",
      "Processed 980/1000 frames\n",
      "Processed 990/1000 frames\n",
      "Processed 1000/1000 frames\n",
      "\n",
      "=== ENHANCED VIDEO CREATION COMPLETE ===\n",
      "Video saved to: /Volumes/LaCie/SOLAQUA/exports/videos/core_aoi_tracking.mp4\n",
      "Video specs: 900x700, 15 fps, 1000 frames\n",
      "🟢 SIMPLIFIED TRACKING STATS:\n",
      "  - Total detected frames: 1000\n",
      "  - Lost/searching frames: 0\n",
      "  - Detection success rate: 100.0%\n"
     ]
    }
   ],
   "source": [
    "# Create the unified processor\n",
    "processor = iau.SonarDataProcessor()\n",
    "\n",
    "# Use the enhanced video creation with CORE processor\n",
    "video_path = iau.create_enhanced_contour_detection_video_with_processor(\n",
    "    npz_file_index=NPZ_FILE_INDEX,          # Which NPZ file to use\n",
    "    frame_start=1,           # Starting frame\n",
    "    frame_count=1500,         # Number of frames to process\n",
    "    frame_step=1,            # Step between frames\n",
    "    output_path=Path(EXPORTS_DIR_DEFAULT) / EXPORTS_SUBDIRS.get('videos','videos') / 'core_aoi_tracking.mp4',\n",
    "    processor=processor      # Use our CORE processor\n",
    ")\n"
   ]
  },
  {
   "cell_type": "code",
   "execution_count": null,
   "id": "d9c0382e",
   "metadata": {},
   "outputs": [
    {
     "name": "stdout",
     "output_type": "stream",
     "text": [
      "=== DISTANCE ANALYSIS FROM NPZ ===\n",
      "Analyzing: /Volumes/LaCie/SOLAQUA/exports/outputs/2024-08-20_14-22-12_data_cones.npz\n",
      "Processing 1098 frames from 1 (step=1)\n",
      "Processing 1098 frames from 1 (step=1)\n",
      "  Processed 50/1098 frames (Success rate: 100.0%)\n",
      "  Processed 50/1098 frames (Success rate: 100.0%)\n",
      "  Processed 100/1098 frames (Success rate: 100.0%)\n",
      "  Processed 100/1098 frames (Success rate: 100.0%)\n",
      "  Processed 150/1098 frames (Success rate: 100.0%)\n",
      "  Processed 150/1098 frames (Success rate: 100.0%)\n",
      "  Processed 200/1098 frames (Success rate: 100.0%)\n",
      "  Processed 200/1098 frames (Success rate: 100.0%)\n",
      "  Processed 250/1098 frames (Success rate: 100.0%)\n",
      "  Processed 250/1098 frames (Success rate: 100.0%)\n",
      "  Processed 300/1098 frames (Success rate: 100.0%)\n",
      "  Processed 300/1098 frames (Success rate: 100.0%)\n",
      "  Processed 350/1098 frames (Success rate: 100.0%)\n",
      "  Processed 350/1098 frames (Success rate: 100.0%)\n",
      "  Processed 400/1098 frames (Success rate: 100.0%)\n",
      "  Processed 400/1098 frames (Success rate: 100.0%)\n",
      "  Processed 450/1098 frames (Success rate: 100.0%)\n",
      "  Processed 450/1098 frames (Success rate: 100.0%)\n",
      "  Processed 500/1098 frames (Success rate: 100.0%)\n",
      "  Processed 500/1098 frames (Success rate: 100.0%)\n",
      "  Processed 550/1098 frames (Success rate: 100.0%)\n",
      "  Processed 550/1098 frames (Success rate: 100.0%)\n",
      "  Processed 600/1098 frames (Success rate: 100.0%)\n",
      "  Processed 600/1098 frames (Success rate: 100.0%)\n",
      "  Processed 650/1098 frames (Success rate: 100.0%)\n",
      "  Processed 650/1098 frames (Success rate: 100.0%)\n",
      "  Processed 700/1098 frames (Success rate: 100.0%)\n",
      "  Processed 700/1098 frames (Success rate: 100.0%)\n",
      "  Processed 750/1098 frames (Success rate: 100.0%)\n",
      "  Processed 800/1098 frames (Success rate: 100.0%)\n",
      "  Processed 800/1098 frames (Success rate: 100.0%)\n",
      "  Processed 850/1098 frames (Success rate: 100.0%)\n",
      "  Processed 850/1098 frames (Success rate: 100.0%)\n",
      "  Processed 900/1098 frames (Success rate: 100.0%)\n",
      "  Processed 900/1098 frames (Success rate: 100.0%)\n",
      "  Processed 950/1098 frames (Success rate: 100.0%)\n",
      "  Processed 950/1098 frames (Success rate: 100.0%)\n",
      "  Processed 1000/1098 frames (Success rate: 100.0%)\n",
      "  Processed 1000/1098 frames (Success rate: 100.0%)\n"
     ]
    }
   ],
   "source": [
    "engine = iau.DistanceAnalysisEngine()\n",
    "distance_results = engine.analyze_npz_sequence(\n",
    "    npz_file_index=NPZ_FILE_INDEX,    \n",
    "    frame_start=1,        # Start from frame 1\n",
    "    frame_count=1500,      # Analyze all frames from the video\n",
    "    frame_step=1          # Every frame\n",
    ")\n",
    "\n",
    "print(f\"✅ Analyzed {len(distance_results)} frames using elliptical AOI\")\n",
    "print(f\"🎯 Detection success rate: {distance_results['detection_success'].mean():.1%}\")\n",
    "print(f\"📊 Elliptical tracking active: {(distance_results['tracking_status'].str.contains('ELLIPSE')).sum()} frames\")"
   ]
  },
  {
   "cell_type": "markdown",
   "id": "fede9d64",
   "metadata": {},
   "source": [
    "## Convert to Real-World Distances\n",
    "\n",
    "Now let's convert the pixel distances to real-world distances using the fact that the entire sonar image represents a 10x10 meter area."
   ]
  },
  {
   "cell_type": "code",
   "execution_count": null,
   "id": "886897de",
   "metadata": {},
   "outputs": [
    {
     "name": "stdout",
     "output_type": "stream",
     "text": [
      "Detected NPZ extent: x=[-8.660,8.660] m, y=[0.000,10.000] m\n",
      "Image shape from NPZ: H=700, W=900\n",
      "meters/pixel: x=0.019245, y=0.014286, avg=0.016765\n",
      "Using pixels_to_meters_avg = 0.016765 m/px\n"
     ]
    }
   ],
   "source": [
    "# Auto-detect pixel->meter mapping from the selected NPZ (if available)\n",
    "try:\n",
    "    cones, ts, extent, meta = iau.load_cone_run_npz(selected)\n",
    "    T, H, W = cones.shape\n",
    "    x_min, x_max, y_min, y_max = extent\n",
    "    width_m = float(x_max - x_min)\n",
    "    height_m = float(y_max - y_min)\n",
    "    px2m_x = width_m / float(W)\n",
    "    px2m_y = height_m / float(H)\n",
    "    pixels_to_meters_avg = 0.5 * (px2m_x + px2m_y)\n",
    "    image_shape = (H, W)\n",
    "    sonar_coverage_meters = max(width_m, height_m)\n",
    "    print(f\"Detected NPZ extent: x=[{x_min:.3f},{x_max:.3f}] m, y=[{y_min:.3f},{y_max:.3f}] m\")\n",
    "    print(f\"Image shape from NPZ: H={H}, W={W}\")\n",
    "    print(f\"meters/pixel: x={px2m_x:.6f}, y={px2m_y:.6f}, avg={pixels_to_meters_avg:.6f}\")\n",
    "except Exception as e:\n",
    "    print(\"Could not read NPZ metadata:\", e)\n",
    "    print(\"Falling back to defaults from sonar_config.\")\n",
    "    from utils.sonar_config import CONE_H_DEFAULT, CONE_W_DEFAULT, DISPLAY_RANGE_MAX_M_DEFAULT\n",
    "    image_shape = (CONE_H_DEFAULT, CONE_W_DEFAULT)\n",
    "    sonar_coverage_meters = DISPLAY_RANGE_MAX_M_DEFAULT * 2  # approximate\n",
    "    pixels_to_meters_avg = sonar_coverage_meters / max(image_shape)\n",
    "    \n",
    "# Use the computed pixels_to_meters_avg in downstream analysis\n",
    "print(f\"Using pixels_to_meters_avg = {pixels_to_meters_avg:.6f} m/px\")"
   ]
  },
  {
   "cell_type": "code",
   "execution_count": null,
   "id": "15d6238c",
   "metadata": {},
   "outputs": [
    {
     "data": {
      "application/vnd.plotly.v1+json": {
       "config": {
        "plotlyServerURL": "https://plot.ly"
       },
       "data": [
        {
         "line": {
          "color": "blue"
         },
         "mode": "lines+markers",
         "name": "Distance",
         "type": "scatter",
         "x": {
          "bdata": "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",
          "dtype": "i2"
         },
         "xaxis": "x",
         "y": {
          "bdata": "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",
          "dtype": "f8"
         },
         "yaxis": "y"
        },
        {
         "line": {
          "color": "green"
         },
         "mode": "lines+markers",
         "name": "Distance over Time",
         "type": "scatter",
         "x": [
          "2024-08-20T12:22:15.022011042",
          "2024-08-20T12:22:15.087797165",
          "2024-08-20T12:22:15.151928663",
          "2024-08-20T12:22:15.213734865",
          "2024-08-20T12:22:15.287537813",
          "2024-08-20T12:22:15.343387127",
          "2024-08-20T12:22:15.406221390",
          "2024-08-20T12:22:15.469058990",
          "2024-08-20T12:22:15.535842418",
          "2024-08-20T12:22:15.602662563",
          "2024-08-20T12:22:15.660508394",
          "2024-08-20T12:22:15.729324579",
          "2024-08-20T12:22:15.789173841",
          "2024-08-20T12:22:15.855987787",
          "2024-08-20T12:22:15.920404911",
          "2024-08-20T12:22:15.981214762",
          "2024-08-20T12:22:16.047037840",
          "2024-08-20T12:22:16.112862825",
          "2024-08-20T12:22:16.177727699",
          "2024-08-20T12:22:16.238518715",
          "2024-08-20T12:22:16.304383039",
          "2024-08-20T12:22:16.365265846",
          "2024-08-20T12:22:16.428880692",
          "2024-08-20T12:22:16.495702028",
          "2024-08-20T12:22:16.559531689",
          "2024-08-20T12:22:16.621365547",
          "2024-08-20T12:22:16.687189341",
          "2024-08-20T12:22:16.749887943",
          "2024-08-20T12:22:16.815674543",
          "2024-08-20T12:22:16.882498980",
          "2024-08-20T12:22:16.941244841",
          "2024-08-20T12:22:17.011203766",
          "2024-08-20T12:22:17.069053173",
          "2024-08-20T12:22:17.144787788",
          "2024-08-20T12:22:17.206625462",
          "2024-08-20T12:22:17.265465259",
          "2024-08-20T12:22:17.326304197",
          "2024-08-20T12:22:17.397114515",
          "2024-08-20T12:22:17.461939573",
          "2024-08-20T12:22:17.527763604",
          "2024-08-20T12:22:17.581655979",
          "2024-08-20T12:22:17.649439573",
          "2024-08-20T12:22:17.716263533",
          "2024-08-20T12:22:17.773108721",
          "2024-08-20T12:22:17.839755774",
          "2024-08-20T12:22:17.908606291",
          "2024-08-20T12:22:17.965421677",
          "2024-08-20T12:22:18.029290915",
          "2024-08-20T12:22:18.098106861",
          "2024-08-20T12:22:18.161934376",
          "2024-08-20T12:22:18.223845482",
          "2024-08-20T12:22:18.291973352",
          "2024-08-20T12:22:18.349817514",
          "2024-08-20T12:22:18.414647579",
          "2024-08-20T12:22:18.479472160",
          "2024-08-20T12:22:18.541306019",
          "2024-08-20T12:22:18.606172085",
          "2024-08-20T12:22:18.668964624",
          "2024-08-20T12:22:18.734789133",
          "2024-08-20T12:22:18.801777363",
          "2024-08-20T12:22:18.868600368",
          "2024-08-20T12:22:18.929439068",
          "2024-08-20T12:22:18.990273952",
          "2024-08-20T12:22:19.057094574",
          "2024-08-20T12:22:19.118938923",
          "2024-08-20T12:22:19.183727980",
          "2024-08-20T12:22:19.245596409",
          "2024-08-20T12:22:19.312383175",
          "2024-08-20T12:22:19.387750387",
          "2024-08-20T12:22:19.440611362",
          "2024-08-20T12:22:19.502409220",
          "2024-08-20T12:22:19.569233179",
          "2024-08-20T12:22:19.630042076",
          "2024-08-20T12:22:19.698858976",
          "2024-08-20T12:22:19.808197260",
          "2024-08-20T12:22:19.871029615",
          "2024-08-20T12:22:19.916566849",
          "2024-08-20T12:22:19.974410534",
          "2024-08-20T12:22:20.035878897",
          "2024-08-20T12:22:20.082754135",
          "2024-08-20T12:22:20.142103434",
          "2024-08-20T12:22:20.207962275",
          "2024-08-20T12:22:20.270759344",
          "2024-08-20T12:22:20.333593369",
          "2024-08-20T12:22:20.398419380",
          "2024-08-20T12:22:20.462620974",
          "2024-08-20T12:22:20.526448965",
          "2024-08-20T12:22:20.593270779",
          "2024-08-20T12:22:20.655105829",
          "2024-08-20T12:22:20.720947504",
          "2024-08-20T12:22:20.783761501",
          "2024-08-20T12:22:20.845604897",
          "2024-08-20T12:22:20.909396172",
          "2024-08-20T12:22:20.974222183",
          "2024-08-20T12:22:21.038052082",
          "2024-08-20T12:22:21.103875160",
          "2024-08-20T12:22:21.173841715",
          "2024-08-20T12:22:21.228693008",
          "2024-08-20T12:22:21.293560982",
          "2024-08-20T12:22:21.357390165",
          "2024-08-20T12:22:21.422833920",
          "2024-08-20T12:22:21.485702991",
          "2024-08-20T12:22:21.549494028",
          "2024-08-20T12:22:21.617312193",
          "2024-08-20T12:22:21.677181005",
          "2024-08-20T12:22:21.741667986",
          "2024-08-20T12:22:21.807291985",
          "2024-08-20T12:22:21.869127750",
          "2024-08-20T12:22:21.935982704",
          "2024-08-20T12:22:22.001771450",
          "2024-08-20T12:22:22.063618897",
          "2024-08-20T12:22:22.127434254",
          "2024-08-20T12:22:22.250873803",
          "2024-08-20T12:22:22.305722713",
          "2024-08-20T12:22:22.363783121",
          "2024-08-20T12:22:22.412618637",
          "2024-08-20T12:22:22.475449085",
          "2024-08-20T12:22:22.532298803",
          "2024-08-20T12:22:22.580205202",
          "2024-08-20T12:22:22.640049696",
          "2024-08-20T12:22:22.702875376",
          "2024-08-20T12:22:22.765700340",
          "2024-08-20T12:22:22.829523087",
          "2024-08-20T12:22:22.896385908",
          "2024-08-20T12:22:22.959213257",
          "2024-08-20T12:22:23.022080421",
          "2024-08-20T12:22:23.086872101",
          "2024-08-20T12:22:23.149704695",
          "2024-08-20T12:22:23.215693235",
          "2024-08-20T12:22:23.280520678",
          "2024-08-20T12:22:23.484312534",
          "2024-08-20T12:22:23.498275995",
          "2024-08-20T12:22:23.548742294",
          "2024-08-20T12:22:23.609578609",
          "2024-08-20T12:22:23.656454325",
          "2024-08-20T12:22:23.702330351",
          "2024-08-20T12:22:23.761209488",
          "2024-08-20T12:22:23.808071613",
          "2024-08-20T12:22:23.853961706",
          "2024-08-20T12:22:23.917821169",
          "2024-08-20T12:22:23.982647896",
          "2024-08-20T12:22:24.046481371",
          "2024-08-20T12:22:24.109788895",
          "2024-08-20T12:22:24.173473358",
          "2024-08-20T12:22:24.251218080",
          "2024-08-20T12:22:24.303040266",
          "2024-08-20T12:22:24.366870880",
          "2024-08-20T12:22:24.443664312",
          "2024-08-20T12:22:24.498185396",
          "2024-08-20T12:22:24.558026552",
          "2024-08-20T12:22:24.623848200",
          "2024-08-20T12:22:24.687677622",
          "2024-08-20T12:22:24.750547886",
          "2024-08-20T12:22:24.815336227",
          "2024-08-20T12:22:24.881197929",
          "2024-08-20T12:22:24.940999985",
          "2024-08-20T12:22:25.009815693",
          "2024-08-20T12:22:25.069656610",
          "2024-08-20T12:22:25.135535717",
          "2024-08-20T12:22:25.199323177",
          "2024-08-20T12:22:25.260766983",
          "2024-08-20T12:22:25.325560331",
          "2024-08-20T12:22:25.390386105",
          "2024-08-20T12:22:25.453282595",
          "2024-08-20T12:22:25.519065142",
          "2024-08-20T12:22:25.597854376",
          "2024-08-20T12:22:25.657991886",
          "2024-08-20T12:22:25.709850788",
          "2024-08-20T12:22:25.774677515",
          "2024-08-20T12:22:25.840501785",
          "2024-08-20T12:22:25.901776075",
          "2024-08-20T12:22:25.965641022",
          "2024-08-20T12:22:26.034418583",
          "2024-08-20T12:22:26.095255375",
          "2024-08-20T12:22:26.158086300",
          "2024-08-20T12:22:26.221916676",
          "2024-08-20T12:22:26.286742449",
          "2024-08-20T12:22:26.352566481",
          "2024-08-20T12:22:26.414401293",
          "2024-08-20T12:22:26.480226278",
          "2024-08-20T12:22:26.541097164",
          "2024-08-20T12:22:26.605889797",
          "2024-08-20T12:22:26.671525955",
          "2024-08-20T12:22:26.736357450",
          "2024-08-20T12:22:26.799222946",
          "2024-08-20T12:22:26.864012003",
          "2024-08-20T12:22:26.925933838",
          "2024-08-20T12:22:26.992711067",
          "2024-08-20T12:22:27.056540489",
          "2024-08-20T12:22:27.120367050",
          "2024-08-20T12:22:27.185194492",
          "2024-08-20T12:22:27.246023893",
          "2024-08-20T12:22:27.314349174",
          "2024-08-20T12:22:27.380847692",
          "2024-08-20T12:22:27.451680422",
          "2024-08-20T12:22:27.502521515",
          "2024-08-20T12:22:27.567350388",
          "2024-08-20T12:22:27.631180048",
          "2024-08-20T12:22:27.696003914",
          "2024-08-20T12:22:27.756841421",
          "2024-08-20T12:22:27.822665215",
          "2024-08-20T12:22:27.896469593",
          "2024-08-20T12:22:27.949697018",
          "2024-08-20T12:22:28.014724493",
          "2024-08-20T12:22:28.077529192",
          "2024-08-20T12:22:28.143354177",
          "2024-08-20T12:22:28.207184076",
          "2024-08-20T12:22:28.269075394",
          "2024-08-20T12:22:28.333901405",
          "2024-08-20T12:22:28.399667740",
          "2024-08-20T12:22:28.598221302",
          "2024-08-20T12:22:28.613142729",
          "2024-08-20T12:22:28.672202349",
          "2024-08-20T12:22:28.720076799",
          "2024-08-20T12:22:28.766376972",
          "2024-08-20T12:22:28.828210115",
          "2024-08-20T12:22:28.872287273",
          "2024-08-20T12:22:28.919125795",
          "2024-08-20T12:22:28.978565454",
          "2024-08-20T12:22:29.089066505",
          "2024-08-20T12:22:29.137901068",
          "2024-08-20T12:22:29.185810804",
          "2024-08-20T12:22:29.243619680",
          "2024-08-20T12:22:29.298470974",
          "2024-08-20T12:22:29.367704391",
          "2024-08-20T12:22:29.421593428",
          "2024-08-20T12:22:29.495628834",
          "2024-08-20T12:22:29.550539494",
          "2024-08-20T12:22:29.614311934",
          "2024-08-20T12:22:29.678447008",
          "2024-08-20T12:22:29.743239403",
          "2024-08-20T12:22:29.806105852",
          "2024-08-20T12:22:29.869899750",
          "2024-08-20T12:22:29.933729887",
          "2024-08-20T12:22:30.000060081",
          "2024-08-20T12:22:30.062935114",
          "2024-08-20T12:22:30.129712582",
          "2024-08-20T12:22:30.191575766",
          "2024-08-20T12:22:30.253383397",
          "2024-08-20T12:22:30.320245504",
          "2024-08-20T12:22:30.431905031",
          "2024-08-20T12:22:30.479776144",
          "2024-08-20T12:22:30.538618803",
          "2024-08-20T12:22:30.600488424",
          "2024-08-20T12:22:30.657302380",
          "2024-08-20T12:22:30.709162474",
          "2024-08-20T12:22:30.765624285",
          "2024-08-20T12:22:30.831449032",
          "2024-08-20T12:22:30.898269415",
          "2024-08-20T12:22:30.958108902",
          "2024-08-20T12:22:31.021955013",
          "2024-08-20T12:22:31.086957932",
          "2024-08-20T12:22:31.150787115",
          "2024-08-20T12:22:31.214616537",
          "2024-08-20T12:22:31.281439066",
          "2024-08-20T12:22:31.345777988",
          "2024-08-20T12:22:31.406618118",
          "2024-08-20T12:22:31.468451262",
          "2024-08-20T12:22:31.533313036",
          "2024-08-20T12:22:31.599136591",
          "2024-08-20T12:22:31.662991047",
          "2024-08-20T12:22:31.727847576",
          "2024-08-20T12:22:31.789721489",
          "2024-08-20T12:22:31.990467787",
          "2024-08-20T12:22:32.005464792",
          "2024-08-20T12:22:32.069257259",
          "2024-08-20T12:22:32.114136934",
          "2024-08-20T12:22:32.160015345",
          "2024-08-20T12:22:32.218893766",
          "2024-08-20T12:22:32.271717072",
          "2024-08-20T12:22:32.331557989",
          "2024-08-20T12:22:32.388431311",
          "2024-08-20T12:22:32.437313080",
          "2024-08-20T12:22:32.497120142",
          "2024-08-20T12:22:32.559870243",
          "2024-08-20T12:22:32.622703552",
          "2024-08-20T12:22:32.686495543",
          "2024-08-20T12:22:32.750227213",
          "2024-08-20T12:22:32.817086935",
          "2024-08-20T12:22:32.881954193",
          "2024-08-20T12:22:32.942790747",
          "2024-08-20T12:22:33.007612705",
          "2024-08-20T12:22:33.101877928",
          "2024-08-20T12:22:33.151743650",
          "2024-08-20T12:22:33.213089228",
          "2024-08-20T12:22:33.275347948",
          "2024-08-20T12:22:33.327268362",
          "2024-08-20T12:22:33.391039848",
          "2024-08-20T12:22:33.458230972",
          "2024-08-20T12:22:33.519065619",
          "2024-08-20T12:22:33.582859993",
          "2024-08-20T12:22:33.645694256",
          "2024-08-20T12:22:33.710518599",
          "2024-08-20T12:22:33.780332804",
          "2024-08-20T12:22:33.837179422",
          "2024-08-20T12:22:33.908000708",
          "2024-08-20T12:22:33.964875460",
          "2024-08-20T12:22:34.030663729",
          "2024-08-20T12:22:34.109921694",
          "2024-08-20T12:22:34.166733742",
          "2024-08-20T12:22:34.222586632",
          "2024-08-20T12:22:34.288410187",
          "2024-08-20T12:22:34.351281166",
          "2024-08-20T12:22:34.416101694",
          "2024-08-20T12:22:34.478855133",
          "2024-08-20T12:22:34.541723728",
          "2024-08-20T12:22:34.609506607",
          "2024-08-20T12:22:34.679217815",
          "2024-08-20T12:22:34.735069036",
          "2024-08-20T12:22:34.798977375",
          "2024-08-20T12:22:34.862771988",
          "2024-08-20T12:22:34.942649126",
          "2024-08-20T12:22:34.991519690",
          "2024-08-20T12:22:35.056350470",
          "2024-08-20T12:22:35.125188111",
          "2024-08-20T12:22:35.181046724",
          "2024-08-20T12:22:35.244840622",
          "2024-08-20T12:22:35.310666323",
          "2024-08-20T12:22:35.381476164",
          "2024-08-20T12:22:35.438324213",
          "2024-08-20T12:22:35.501155853",
          "2024-08-20T12:22:35.566979885",
          "2024-08-20T12:22:35.630809546",
          "2024-08-20T12:22:35.695636272",
          "2024-08-20T12:22:35.759465694",
          "2024-08-20T12:22:35.827283382",
          "2024-08-20T12:22:35.893108368",
          "2024-08-20T12:22:35.955941677",
          "2024-08-20T12:22:36.015813827",
          "2024-08-20T12:22:36.077204943",
          "2024-08-20T12:22:36.141031981",
          "2024-08-20T12:22:36.208910942",
          "2024-08-20T12:22:36.270776272",
          "2024-08-20T12:22:36.336118460",
          "2024-08-20T12:22:36.396926880",
          "2024-08-20T12:22:36.462809801",
          "2024-08-20T12:22:36.529571295",
          "2024-08-20T12:22:36.590409517",
          "2024-08-20T12:22:36.656236172",
          "2024-08-20T12:22:36.720063448",
          "2024-08-20T12:22:36.782448053",
          "2024-08-20T12:22:36.847272635",
          "2024-08-20T12:22:36.913089037",
          "2024-08-20T12:22:36.973900557",
          "2024-08-20T12:22:37.037729263",
          "2024-08-20T12:22:37.101558447",
          "2024-08-20T12:22:37.165386438",
          "2024-08-20T12:22:37.229269028",
          "2024-08-20T12:22:37.293045759",
          "2024-08-20T12:22:37.357871532",
          "2024-08-20T12:22:37.422697783",
          "2024-08-20T12:22:37.486774445",
          "2024-08-20T12:22:37.548642397",
          "2024-08-20T12:22:37.613430977",
          "2024-08-20T12:22:37.684241056",
          "2024-08-20T12:22:37.747971296",
          "2024-08-20T12:22:37.808809042",
          "2024-08-20T12:22:37.904343367",
          "2024-08-20T12:22:37.950256348",
          "2024-08-20T12:22:37.999989748",
          "2024-08-20T12:22:38.061824799",
          "2024-08-20T12:22:38.130217074",
          "2024-08-20T12:22:38.193145275",
          "2024-08-20T12:22:38.253019810",
          "2024-08-20T12:22:38.334799051",
          "2024-08-20T12:22:38.396598101",
          "2024-08-20T12:22:38.453448296",
          "2024-08-20T12:22:38.513288736",
          "2024-08-20T12:22:38.576118708",
          "2024-08-20T12:22:38.636984587",
          "2024-08-20T12:22:38.702781200",
          "2024-08-20T12:22:38.768604755",
          "2024-08-20T12:22:38.833429813",
          "2024-08-20T12:22:38.896262407",
          "2024-08-20T12:22:38.957152605",
          "2024-08-20T12:22:39.028907537",
          "2024-08-20T12:22:39.121682167",
          "2024-08-20T12:22:39.173538446",
          "2024-08-20T12:22:39.228432655",
          "2024-08-20T12:22:39.287240505",
          "2024-08-20T12:22:39.341898918",
          "2024-08-20T12:22:39.406684160",
          "2024-08-20T12:22:39.471544981",
          "2024-08-20T12:22:39.535380363",
          "2024-08-20T12:22:39.599209547",
          "2024-08-20T12:22:39.666030407",
          "2024-08-20T12:22:39.732589483",
          "2024-08-20T12:22:39.789433956",
          "2024-08-20T12:22:39.853264809",
          "2024-08-20T12:22:39.919089079",
          "2024-08-20T12:22:39.988899946",
          "2024-08-20T12:22:40.052729130",
          "2024-08-20T12:22:40.111576557",
          "2024-08-20T12:22:40.177396059",
          "2024-08-20T12:22:40.238268852",
          "2024-08-20T12:22:40.305682659",
          "2024-08-20T12:22:40.382394075",
          "2024-08-20T12:22:40.431300402",
          "2024-08-20T12:22:40.497122288",
          "2024-08-20T12:22:40.557924747",
          "2024-08-20T12:22:40.624746799",
          "2024-08-20T12:22:40.686580896",
          "2024-08-20T12:22:40.750409365",
          "2024-08-20T12:22:40.813713551",
          "2024-08-20T12:22:40.879727364",
          "2024-08-20T12:22:40.942575693",
          "2024-08-20T12:22:41.006404400",
          "2024-08-20T12:22:41.070269108",
          "2024-08-20T12:22:41.145032644",
          "2024-08-20T12:22:41.199886560",
          "2024-08-20T12:22:41.262456179",
          "2024-08-20T12:22:41.327725410",
          "2024-08-20T12:22:41.389579058",
          "2024-08-20T12:22:41.454351425",
          "2024-08-20T12:22:41.521212816",
          "2024-08-20T12:22:41.585004807",
          "2024-08-20T12:22:41.645878315",
          "2024-08-20T12:22:41.709701300",
          "2024-08-20T12:22:41.774927616",
          "2024-08-20T12:22:41.836762190",
          "2024-08-20T12:22:41.904581308",
          "2024-08-20T12:22:41.966416836",
          "2024-08-20T12:22:42.032239199",
          "2024-08-20T12:22:42.096068144",
          "2024-08-20T12:22:42.158112526",
          "2024-08-20T12:22:42.221969366",
          "2024-08-20T12:22:42.340623379",
          "2024-08-20T12:22:42.358576298",
          "2024-08-20T12:22:42.419412374",
          "2024-08-20T12:22:42.478255987",
          "2024-08-20T12:22:42.542083502",
          "2024-08-20T12:22:42.606910229",
          "2024-08-20T12:22:42.670740128",
          "2024-08-20T12:22:42.735590458",
          "2024-08-20T12:22:42.799418211",
          "2024-08-20T12:22:42.861434698",
          "2024-08-20T12:22:42.930982113",
          "2024-08-20T12:22:42.990821838",
          "2024-08-20T12:22:43.057643175",
          "2024-08-20T12:22:43.117519617",
          "2024-08-20T12:22:43.186357498",
          "2024-08-20T12:22:43.246138573",
          "2024-08-20T12:22:43.311022043",
          "2024-08-20T12:22:43.381775618",
          "2024-08-20T12:22:43.441640615",
          "2024-08-20T12:22:43.503449916",
          "2024-08-20T12:22:43.565284014",
          "2024-08-20T12:22:43.628657103",
          "2024-08-20T12:22:43.693503380",
          "2024-08-20T12:22:43.757318497",
          "2024-08-20T12:22:43.822140217",
          "2024-08-20T12:22:43.889221430",
          "2024-08-20T12:22:43.951060057",
          "2024-08-20T12:22:44.013923168",
          "2024-08-20T12:22:44.077716827",
          "2024-08-20T12:22:44.144573689",
          "2024-08-20T12:22:44.205416203",
          "2024-08-20T12:22:44.271204948",
          "2024-08-20T12:22:44.336653471",
          "2024-08-20T12:22:44.402745485",
          "2024-08-20T12:22:44.462391138",
          "2024-08-20T12:22:44.525256872",
          "2024-08-20T12:22:44.593727827",
          "2024-08-20T12:22:44.654565811",
          "2024-08-20T12:22:44.720354557",
          "2024-08-20T12:22:44.782190084",
          "2024-08-20T12:22:44.846018791",
          "2024-08-20T12:22:44.911841869",
          "2024-08-20T12:22:44.972685337",
          "2024-08-20T12:22:45.047118425",
          "2024-08-20T12:22:45.102006674",
          "2024-08-20T12:22:45.165801525",
          "2024-08-20T12:22:45.236617804",
          "2024-08-20T12:22:45.300440311",
          "2024-08-20T12:22:45.361278296",
          "2024-08-20T12:22:45.422114611",
          "2024-08-20T12:22:45.490929842",
          "2024-08-20T12:22:45.550771475",
          "2024-08-20T12:22:45.615597725",
          "2024-08-20T12:22:45.676469564",
          "2024-08-20T12:22:45.744936466",
          "2024-08-20T12:22:45.807767391",
          "2024-08-20T12:22:45.869602203",
          "2024-08-20T12:22:45.934686899",
          "2024-08-20T12:22:45.999396563",
          "2024-08-20T12:22:46.061231136",
          "2024-08-20T12:22:46.126058578",
          "2024-08-20T12:22:46.194921255",
          "2024-08-20T12:22:46.256724118",
          "2024-08-20T12:22:46.316563129",
          "2024-08-20T12:22:46.383383274",
          "2024-08-20T12:22:46.459179878",
          "2024-08-20T12:22:46.512039423",
          "2024-08-20T12:22:46.572875738",
          "2024-08-20T12:22:46.638754368",
          "2024-08-20T12:22:46.703526974",
          "2024-08-20T12:22:46.816225529",
          "2024-08-20T12:22:46.875102520",
          "2024-08-20T12:22:46.923937082",
          "2024-08-20T12:22:46.987824440",
          "2024-08-20T12:22:47.046609163",
          "2024-08-20T12:22:47.094481230",
          "2024-08-20T12:22:47.155770540",
          "2024-08-20T12:22:47.217582703",
          "2024-08-20T12:22:47.279418468",
          "2024-08-20T12:22:47.343245268",
          "2024-08-20T12:22:47.406795979",
          "2024-08-20T12:22:47.470626593",
          "2024-08-20T12:22:47.539441824",
          "2024-08-20T12:22:47.600659609",
          "2024-08-20T12:22:47.661534309",
          "2024-08-20T12:22:47.728982449",
          "2024-08-20T12:22:47.791817904",
          "2024-08-20T12:22:47.854652405",
          "2024-08-20T12:22:47.918514252",
          "2024-08-20T12:22:47.983303308",
          "2024-08-20T12:22:48.092010975",
          "2024-08-20T12:22:48.111992359",
          "2024-08-20T12:22:48.185786009",
          "2024-08-20T12:22:48.243605614",
          "2024-08-20T12:22:48.305474281",
          "2024-08-20T12:22:48.365319014",
          "2024-08-20T12:22:48.432135820",
          "2024-08-20T12:22:48.497924805",
          "2024-08-20T12:22:48.557765722",
          "2024-08-20T12:22:48.624585867",
          "2024-08-20T12:22:48.685525656",
          "2024-08-20T12:22:48.754343271",
          "2024-08-20T12:22:48.817712784",
          "2024-08-20T12:22:48.877518415",
          "2024-08-20T12:22:48.942372561",
          "2024-08-20T12:22:49.009680271",
          "2024-08-20T12:22:49.070484161",
          "2024-08-20T12:22:49.134349823",
          "2024-08-20T12:22:49.204127312",
          "2024-08-20T12:22:49.261851310",
          "2024-08-20T12:22:49.325679779",
          "2024-08-20T12:22:49.389508724",
          "2024-08-20T12:22:49.455333233",
          "2024-08-20T12:22:49.523151159",
          "2024-08-20T12:22:49.585983515",
          "2024-08-20T12:22:49.648815155",
          "2024-08-20T12:22:49.710568428",
          "2024-08-20T12:22:49.774396896",
          "2024-08-20T12:22:49.840260983",
          "2024-08-20T12:22:49.905050993",
          "2024-08-20T12:22:49.965885162",
          "2024-08-20T12:22:50.031712055",
          "2024-08-20T12:22:50.099528790",
          "2024-08-20T12:22:50.158370495",
          "2024-08-20T12:22:50.222239256",
          "2024-08-20T12:22:50.284611940",
          "2024-08-20T12:22:50.364400148",
          "2024-08-20T12:22:50.417413235",
          "2024-08-20T12:22:50.482850313",
          "2024-08-20T12:22:50.544720888",
          "2024-08-20T12:22:50.607517481",
          "2024-08-20T12:22:50.669455051",
          "2024-08-20T12:22:50.742240429",
          "2024-08-20T12:22:50.821822643",
          "2024-08-20T12:22:50.881171227",
          "2024-08-20T12:22:50.939062119",
          "2024-08-20T12:22:51.002195120",
          "2024-08-20T12:22:51.059044600",
          "2024-08-20T12:22:51.119881630",
          "2024-08-20T12:22:51.183709383",
          "2024-08-20T12:22:51.245581388",
          "2024-08-20T12:22:51.311441898",
          "2024-08-20T12:22:51.374378681",
          "2024-08-20T12:22:51.487112761",
          "2024-08-20T12:22:51.549910784",
          "2024-08-20T12:22:51.612742662",
          "2024-08-20T12:22:51.669648409",
          "2024-08-20T12:22:51.719456434",
          "2024-08-20T12:22:51.779304028",
          "2024-08-20T12:22:51.846181631",
          "2024-08-20T12:22:51.917989969",
          "2024-08-20T12:22:51.949936628",
          "2024-08-20T12:22:52.022769928",
          "2024-08-20T12:22:52.093520880",
          "2024-08-20T12:22:52.145382404",
          "2024-08-20T12:22:52.207756758",
          "2024-08-20T12:22:52.268654108",
          "2024-08-20T12:22:52.337286234",
          "2024-08-20T12:22:52.412709713",
          "2024-08-20T12:22:52.462576628",
          "2024-08-20T12:22:52.533385515",
          "2024-08-20T12:22:52.592262983",
          "2024-08-20T12:22:52.654062748",
          "2024-08-20T12:22:52.723899126",
          "2024-08-20T12:22:52.783964634",
          "2024-08-20T12:22:52.846734047",
          "2024-08-20T12:22:52.912871838",
          "2024-08-20T12:22:52.972711563",
          "2024-08-20T12:22:53.041942358",
          "2024-08-20T12:22:53.106916904",
          "2024-08-20T12:22:53.168751717",
          "2024-08-20T12:22:53.231097937",
          "2024-08-20T12:22:53.295432806",
          "2024-08-20T12:22:53.358262777",
          "2024-08-20T12:22:53.423141003",
          "2024-08-20T12:22:53.485923767",
          "2024-08-20T12:22:53.548753500",
          "2024-08-20T12:22:53.615576982",
          "2024-08-20T12:22:53.679403782",
          "2024-08-20T12:22:53.741161108",
          "2024-08-20T12:22:53.806959867",
          "2024-08-20T12:22:53.870814562",
          "2024-08-20T12:22:53.933620453",
          "2024-08-20T12:22:53.999444008",
          "2024-08-20T12:22:54.063275814",
          "2024-08-20T12:22:54.126105547",
          "2024-08-20T12:22:54.191954374",
          "2024-08-20T12:22:54.253764629",
          "2024-08-20T12:22:54.320581675",
          "2024-08-20T12:22:54.384410143",
          "2024-08-20T12:22:54.447242737",
          "2024-08-20T12:22:54.513066292",
          "2024-08-20T12:22:54.573941469",
          "2024-08-20T12:22:54.638370991",
          "2024-08-20T12:22:54.703197479",
          "2024-08-20T12:22:54.766030550",
          "2024-08-20T12:22:54.830890894",
          "2024-08-20T12:22:54.894685984",
          "2024-08-20T12:22:55.012406111",
          "2024-08-20T12:22:55.068257809",
          "2024-08-20T12:22:55.128061533",
          "2024-08-20T12:22:55.188898563",
          "2024-08-20T12:22:55.240759134",
          "2024-08-20T12:22:55.297641754",
          "2024-08-20T12:22:55.357953787",
          "2024-08-20T12:22:55.413803101",
          "2024-08-20T12:22:55.470664740",
          "2024-08-20T12:22:55.535478354",
          "2024-08-20T12:22:55.600304842",
          "2024-08-20T12:22:55.661168575",
          "2024-08-20T12:22:55.729957342",
          "2024-08-20T12:22:55.790795803",
          "2024-08-20T12:22:55.853671074",
          "2024-08-20T12:22:55.923441887",
          "2024-08-20T12:22:55.982316732",
          "2024-08-20T12:22:56.046119928",
          "2024-08-20T12:22:56.111918449",
          "2024-08-20T12:22:56.177741051",
          "2024-08-20T12:22:56.237581491",
          "2024-08-20T12:22:56.304437160",
          "2024-08-20T12:22:56.373218775",
          "2024-08-20T12:22:56.431099415",
          "2024-08-20T12:22:56.494893551",
          "2024-08-20T12:22:56.558722734",
          "2024-08-20T12:22:56.623548985",
          "2024-08-20T12:22:56.693363428",
          "2024-08-20T12:22:56.749256849",
          "2024-08-20T12:22:56.817066431",
          "2024-08-20T12:22:56.883923531",
          "2024-08-20T12:22:56.942734241",
          "2024-08-20T12:22:57.006560087",
          "2024-08-20T12:22:57.070389271",
          "2024-08-20T12:22:57.134218931",
          "2024-08-20T12:22:57.203375340",
          "2024-08-20T12:22:57.262785435",
          "2024-08-20T12:22:57.379473209",
          "2024-08-20T12:22:57.425858974",
          "2024-08-20T12:22:57.471735239",
          "2024-08-20T12:22:57.519606829",
          "2024-08-20T12:22:57.582438231",
          "2024-08-20T12:22:57.646267653",
          "2024-08-20T12:22:57.712091923",
          "2024-08-20T12:22:57.774924755",
          "2024-08-20T12:22:57.838756561",
          "2024-08-20T12:22:57.902585745",
          "2024-08-20T12:22:57.964927435",
          "2024-08-20T12:22:58.033929586",
          "2024-08-20T12:22:58.094769716",
          "2024-08-20T12:22:58.157060623",
          "2024-08-20T12:22:58.223880291",
          "2024-08-20T12:22:58.287708998",
          "2024-08-20T12:22:58.349544287",
          "2024-08-20T12:22:58.415403605",
          "2024-08-20T12:22:58.479863405",
          "2024-08-20T12:22:58.540656805",
          "2024-08-20T12:22:58.608505487",
          "2024-08-20T12:22:58.669765949",
          "2024-08-20T12:22:58.733561754",
          "2024-08-20T12:22:58.798387289",
          "2024-08-20T12:22:58.863251925",
          "2024-08-20T12:22:58.929037094",
          "2024-08-20T12:22:58.994467020",
          "2024-08-20T12:22:59.053308487",
          "2024-08-20T12:22:59.119123220",
          "2024-08-20T12:22:59.189906359",
          "2024-08-20T12:22:59.245792866",
          "2024-08-20T12:22:59.311579227",
          "2024-08-20T12:22:59.375703335",
          "2024-08-20T12:22:59.438573122",
          "2024-08-20T12:22:59.503834009",
          "2024-08-20T12:22:59.564672709",
          "2024-08-20T12:22:59.631527662",
          "2024-08-20T12:22:59.695323706",
          "2024-08-20T12:22:59.759188414",
          "2024-08-20T12:22:59.821977377",
          "2024-08-20T12:22:59.886802673",
          "2024-08-20T12:22:59.950633049",
          "2024-08-20T12:23:00.014714718",
          "2024-08-20T12:23:00.080538988",
          "2024-08-20T12:23:00.145365238",
          "2024-08-20T12:23:00.211231947",
          "2024-08-20T12:23:00.269092560",
          "2024-08-20T12:23:00.332864523",
          "2024-08-20T12:23:00.399684429",
          "2024-08-20T12:23:00.462517500",
          "2024-08-20T12:23:00.528341054",
          "2024-08-20T12:23:00.592222929",
          "2024-08-20T12:23:00.654005527",
          "2024-08-20T12:23:00.717833042",
          "2024-08-20T12:23:00.785686731",
          "2024-08-20T12:23:00.983630419",
          "2024-08-20T12:23:01.000586033",
          "2024-08-20T12:23:01.062419415",
          "2024-08-20T12:23:01.109294653",
          "2024-08-20T12:23:01.153177023",
          "2024-08-20T12:23:01.215011358",
          "2024-08-20T12:23:01.261885881",
          "2024-08-20T12:23:01.306766272",
          "2024-08-20T12:23:01.368605137",
          "2024-08-20T12:23:01.426956177",
          "2024-08-20T12:23:01.491780519",
          "2024-08-20T12:23:01.551130056",
          "2024-08-20T12:23:01.616953850",
          "2024-08-20T12:23:01.678789139",
          "2024-08-20T12:23:01.744612694",
          "2024-08-20T12:23:01.808443069",
          "2024-08-20T12:23:01.868282080",
          "2024-08-20T12:23:01.936099529",
          "2024-08-20T12:23:01.999929190",
          "2024-08-20T12:23:02.099662542",
          "2024-08-20T12:23:02.156512499",
          "2024-08-20T12:23:02.218345642",
          "2024-08-20T12:23:02.280180216",
          "2024-08-20T12:23:02.346040487",
          "2024-08-20T12:23:02.400857449",
          "2024-08-20T12:23:02.461728573",
          "2024-08-20T12:23:02.524525881",
          "2024-08-20T12:23:02.585803270",
          "2024-08-20T12:23:02.642461300",
          "2024-08-20T12:23:02.702826738",
          "2024-08-20T12:23:02.773327112",
          "2024-08-20T12:23:02.830215454",
          "2024-08-20T12:23:02.902976274",
          "2024-08-20T12:23:02.970795631",
          "2024-08-20T12:23:03.024651051",
          "2024-08-20T12:23:03.085488796",
          "2024-08-20T12:23:03.196701527",
          "2024-08-20T12:23:03.257805585",
          "2024-08-20T12:23:03.311661243",
          "2024-08-20T12:23:03.366028309",
          "2024-08-20T12:23:03.421914816",
          "2024-08-20T12:23:03.471747160",
          "2024-08-20T12:23:03.535573243",
          "2024-08-20T12:23:03.601398468",
          "2024-08-20T12:23:03.677195549",
          "2024-08-20T12:23:03.727097034",
          "2024-08-20T12:23:03.792924166",
          "2024-08-20T12:23:03.860738277",
          "2024-08-20T12:23:03.918552637",
          "2024-08-20T12:23:03.984373093",
          "2024-08-20T12:23:04.047233343",
          "2024-08-20T12:23:04.111068249",
          "2024-08-20T12:23:04.178877115",
          "2024-08-20T12:23:04.239749193",
          "2024-08-20T12:23:04.302966118",
          "2024-08-20T12:23:04.364835501",
          "2024-08-20T12:23:04.428665638",
          "2024-08-20T12:23:04.496456623",
          "2024-08-20T12:23:04.556705713",
          "2024-08-20T12:23:04.623565197",
          "2024-08-20T12:23:04.687361717",
          "2024-08-20T12:23:04.755532980",
          "2024-08-20T12:23:04.815372467",
          "2024-08-20T12:23:04.877245188",
          "2024-08-20T12:23:04.941074371",
          "2024-08-20T12:23:05.009812117",
          "2024-08-20T12:23:05.070650101",
          "2024-08-20T12:23:05.133516550",
          "2024-08-20T12:23:05.200304031",
          "2024-08-20T12:23:05.268121481",
          "2024-08-20T12:23:05.324971437",
          "2024-08-20T12:23:05.390119314",
          "2024-08-20T12:23:05.454911947",
          "2024-08-20T12:23:05.517742872",
          "2024-08-20T12:23:05.583565712",
          "2024-08-20T12:23:05.646398067",
          "2024-08-20T12:23:05.716211796",
          "2024-08-20T12:23:05.780041933",
          "2024-08-20T12:23:05.844867468",
          "2024-08-20T12:23:05.901714802",
          "2024-08-20T12:23:05.964548826",
          "2024-08-20T12:23:06.036357880",
          "2024-08-20T12:23:06.094745398",
          "2024-08-20T12:23:06.159429312",
          "2024-08-20T12:23:06.223384619",
          "2024-08-20T12:23:06.288172960",
          "2024-08-20T12:23:06.356036186",
          "2024-08-20T12:23:06.412844658",
          "2024-08-20T12:23:06.484652996",
          "2024-08-20T12:23:06.542808533",
          "2024-08-20T12:23:06.608586311",
          "2024-08-20T12:23:06.669558764",
          "2024-08-20T12:23:06.736524820",
          "2024-08-20T12:23:06.800353765",
          "2024-08-20T12:23:06.863250732",
          "2024-08-20T12:23:06.924594402",
          "2024-08-20T12:23:06.989384890",
          "2024-08-20T12:23:07.054212570",
          "2024-08-20T12:23:07.120036125",
          "2024-08-20T12:23:07.183899164",
          "2024-08-20T12:23:07.245700598",
          "2024-08-20T12:23:07.313551903",
          "2024-08-20T12:23:07.373385668",
          "2024-08-20T12:23:07.437188864",
          "2024-08-20T12:23:07.508994340",
          "2024-08-20T12:23:07.566840649",
          "2024-08-20T12:23:07.694498777",
          "2024-08-20T12:23:07.748355627",
          "2024-08-20T12:23:07.810225964",
          "2024-08-20T12:23:07.870030642",
          "2024-08-20T12:23:07.927762985",
          "2024-08-20T12:23:07.978587866",
          "2024-08-20T12:23:08.036432266",
          "2024-08-20T12:23:08.081312656",
          "2024-08-20T12:23:08.142151594",
          "2024-08-20T12:23:08.210896730",
          "2024-08-20T12:23:08.269465446",
          "2024-08-20T12:23:08.334350348",
          "2024-08-20T12:23:08.398212910",
          "2024-08-20T12:23:08.471985340",
          "2024-08-20T12:23:08.526836157",
          "2024-08-20T12:23:08.599681377",
          "2024-08-20T12:23:08.654495955",
          "2024-08-20T12:23:08.720331192",
          "2024-08-20T12:23:08.782166481",
          "2024-08-20T12:23:08.844998360",
          "2024-08-20T12:23:08.913815022",
          "2024-08-20T12:23:08.972656965",
          "2024-08-20T12:23:09.038481951",
          "2024-08-20T12:23:09.104304552",
          "2024-08-20T12:23:09.170163155",
          "2024-08-20T12:23:09.233960152",
          "2024-08-20T12:23:09.301778078",
          "2024-08-20T12:23:09.361585140",
          "2024-08-20T12:23:09.423420668",
          "2024-08-20T12:23:09.490302563",
          "2024-08-20T12:23:09.549145699",
          "2024-08-20T12:23:09.620916367",
          "2024-08-20T12:23:09.680299997",
          "2024-08-20T12:23:09.752108812",
          "2024-08-20T12:23:09.807840109",
          "2024-08-20T12:23:09.870970726",
          "2024-08-20T12:23:09.934736967",
          "2024-08-20T12:23:09.997890472",
          "2024-08-20T12:23:10.060754776",
          "2024-08-20T12:23:10.125581980",
          "2024-08-20T12:23:10.192367554",
          "2024-08-20T12:23:10.254206180",
          "2024-08-20T12:23:10.324043512",
          "2024-08-20T12:23:10.386547089",
          "2024-08-20T12:23:10.445389271",
          "2024-08-20T12:23:10.510215521",
          "2024-08-20T12:23:10.575075388",
          "2024-08-20T12:23:10.636909962",
          "2024-08-20T12:23:10.703242540",
          "2024-08-20T12:23:10.772061348",
          "2024-08-20T12:23:10.829903364",
          "2024-08-20T12:23:10.896724224",
          "2024-08-20T12:23:10.958557844",
          "2024-08-20T12:23:11.024384975",
          "2024-08-20T12:23:11.086088657",
          "2024-08-20T12:23:11.148883343",
          "2024-08-20T12:23:11.217458487",
          "2024-08-20T12:23:11.278295517",
          "2024-08-20T12:23:11.388001680",
          "2024-08-20T12:23:11.448839426",
          "2024-08-20T12:23:11.496865511",
          "2024-08-20T12:23:11.554747581",
          "2024-08-20T12:23:11.603178978",
          "2024-08-20T12:23:11.661984444",
          "2024-08-20T12:23:11.729801655",
          "2024-08-20T12:23:11.789643526",
          "2024-08-20T12:23:11.853471518",
          "2024-08-20T12:23:11.918365002",
          "2024-08-20T12:23:11.982196331",
          "2024-08-20T12:23:12.046064615",
          "2024-08-20T12:23:12.110850096",
          "2024-08-20T12:23:12.177671671",
          "2024-08-20T12:23:12.237539291",
          "2024-08-20T12:23:12.310379028",
          "2024-08-20T12:23:12.367196321",
          "2024-08-20T12:23:12.431020737",
          "2024-08-20T12:23:12.494890928",
          "2024-08-20T12:23:12.556684732",
          "2024-08-20T12:23:12.626772404",
          "2024-08-20T12:23:12.687613964",
          "2024-08-20T12:23:12.749450684",
          "2024-08-20T12:23:12.813276529",
          "2024-08-20T12:23:12.887079477",
          "2024-08-20T12:23:12.942930937",
          "2024-08-20T12:23:13.005372047",
          "2024-08-20T12:23:13.072193861",
          "2024-08-20T12:23:13.152980328",
          "2024-08-20T12:23:13.201356173",
          "2024-08-20T12:23:13.263189793",
          "2024-08-20T12:23:13.328526497",
          "2024-08-20T12:23:13.391390324",
          "2024-08-20T12:23:13.454223394",
          "2024-08-20T12:23:13.519049406",
          "2024-08-20T12:23:13.583876610",
          "2024-08-20T12:23:13.783343792",
          "2024-08-20T12:23:13.801328897",
          "2024-08-20T12:23:13.867118120",
          "2024-08-20T12:23:13.911998987",
          "2024-08-20T12:23:13.956879139",
          "2024-08-20T12:23:14.003752470",
          "2024-08-20T12:23:14.065589905",
          "2024-08-20T12:23:14.109469652",
          "2024-08-20T12:23:14.157341480",
          "2024-08-20T12:23:14.224704266",
          "2024-08-20T12:23:14.287502527",
          "2024-08-20T12:23:14.365117788",
          "2024-08-20T12:23:14.415298223",
          "2024-08-20T12:23:14.481122017",
          "2024-08-20T12:23:14.540961504",
          "2024-08-20T12:23:14.609380960",
          "2024-08-20T12:23:14.670182943",
          "2024-08-20T12:23:14.736005068",
          "2024-08-20T12:23:14.799839973",
          "2024-08-20T12:23:14.862702847",
          "2024-08-20T12:23:14.926055431",
          "2024-08-20T12:23:14.990941763",
          "2024-08-20T12:23:15.055767298",
          "2024-08-20T12:23:15.120594025",
          "2024-08-20T12:23:15.185455084",
          "2024-08-20T12:23:15.245295048",
          "2024-08-20T12:23:15.319062233",
          "2024-08-20T12:23:15.505572557",
          "2024-08-20T12:23:15.522529125",
          "2024-08-20T12:23:15.588351965",
          "2024-08-20T12:23:15.633232117",
          "2024-08-20T12:23:15.680107117",
          "2024-08-20T12:23:15.725982189",
          "2024-08-20T12:23:15.784826040",
          "2024-08-20T12:23:15.831701517",
          "2024-08-20T12:23:15.890543222",
          "2024-08-20T12:23:15.949385405",
          "2024-08-20T12:23:16.016242743",
          "2024-08-20T12:23:16.080036163",
          "2024-08-20T12:23:16.141582012",
          "2024-08-20T12:23:16.208405018",
          "2024-08-20T12:23:16.268753052",
          "2024-08-20T12:23:16.339599848",
          "2024-08-20T12:23:16.397786856",
          "2024-08-20T12:23:16.462579012",
          "2024-08-20T12:23:16.525411367",
          "2024-08-20T12:23:16.590238094",
          "2024-08-20T12:23:16.653069019",
          "2024-08-20T12:23:16.717933416",
          "2024-08-20T12:23:16.784751892",
          "2024-08-20T12:23:16.846551180",
          "2024-08-20T12:23:16.910382032",
          "2024-08-20T12:23:16.973213196",
          "2024-08-20T12:23:17.037100792",
          "2024-08-20T12:23:17.100905657",
          "2024-08-20T12:23:17.167692900",
          "2024-08-20T12:23:17.229952574",
          "2024-08-20T12:23:17.296771049",
          "2024-08-20T12:23:17.401920080",
          "2024-08-20T12:23:17.467744827",
          "2024-08-20T12:23:17.511627436",
          "2024-08-20T12:23:17.572465181",
          "2024-08-20T12:23:17.631346226",
          "2024-08-20T12:23:17.692862272",
          "2024-08-20T12:23:17.753699303",
          "2024-08-20T12:23:17.806558132",
          "2024-08-20T12:23:17.869424820",
          "2024-08-20T12:23:17.936247110",
          "2024-08-20T12:23:17.998120308",
          "2024-08-20T12:23:18.062893867",
          "2024-08-20T12:23:18.128226995",
          "2024-08-20T12:23:18.194050074",
          "2024-08-20T12:23:18.253398418",
          "2024-08-20T12:23:18.317227364",
          "2024-08-20T12:23:18.384048700",
          "2024-08-20T12:23:18.447885275",
          "2024-08-20T12:23:18.509713887",
          "2024-08-20T12:23:18.573542833",
          "2024-08-20T12:23:18.641359806",
          "2024-08-20T12:23:18.702198744",
          "2024-08-20T12:23:18.834551096",
          "2024-08-20T12:23:18.853530169",
          "2024-08-20T12:23:18.905356884",
          "2024-08-20T12:23:18.967230320",
          "2024-08-20T12:23:19.021046877",
          "2024-08-20T12:23:19.087828875",
          "2024-08-20T12:23:19.150661707",
          "2024-08-20T12:23:19.214493275",
          "2024-08-20T12:23:19.278180838",
          "2024-08-20T12:23:19.341009378",
          "2024-08-20T12:23:19.405733824",
          "2024-08-20T12:23:19.469564438",
          "2024-08-20T12:23:19.581657410",
          "2024-08-20T12:23:19.641497612",
          "2024-08-20T12:23:19.691364288",
          "2024-08-20T12:23:19.746760845",
          "2024-08-20T12:23:19.795629978",
          "2024-08-20T12:23:19.854473591",
          "2024-08-20T12:23:19.917338133",
          "2024-08-20T12:23:19.982165575",
          "2024-08-20T12:23:20.045961618",
          "2024-08-20T12:23:20.108791828",
          "2024-08-20T12:23:20.172620773",
          "2024-08-20T12:23:20.238480568",
          "2024-08-20T12:23:20.311249733",
          "2024-08-20T12:23:20.365105391",
          "2024-08-20T12:23:20.430980921",
          "2024-08-20T12:23:20.495786905",
          "2024-08-20T12:23:20.557607889",
          "2024-08-20T12:23:20.621435881",
          "2024-08-20T12:23:20.686264277",
          "2024-08-20T12:23:20.749129772",
          "2024-08-20T12:23:20.817909956",
          "2024-08-20T12:23:20.878787041",
          "2024-08-20T12:23:20.940620661",
          "2024-08-20T12:23:21.006444216",
          "2024-08-20T12:23:21.070276022",
          "2024-08-20T12:23:21.136727810",
          "2024-08-20T12:23:21.201588392",
          "2024-08-20T12:23:21.261393309",
          "2024-08-20T12:23:21.331603050",
          "2024-08-20T12:23:21.389485836",
          "2024-08-20T12:23:21.455272675",
          "2024-08-20T12:23:21.518142938",
          "2024-08-20T12:23:21.581933260",
          "2024-08-20T12:23:21.649073362",
          "2024-08-20T12:23:21.716890812",
          "2024-08-20T12:23:21.781718969",
          "2024-08-20T12:23:21.844552755",
          "2024-08-20T12:23:21.911373377",
          "2024-08-20T12:23:21.966223717",
          "2024-08-20T12:23:22.037034750",
          "2024-08-20T12:23:22.094880342",
          "2024-08-20T12:23:22.159708500",
          "2024-08-20T12:23:22.221541405",
          "2024-08-20T12:23:22.299333811",
          "2024-08-20T12:23:22.351875782",
          "2024-08-20T12:23:22.412751675",
          "2024-08-20T12:23:22.477705240",
          "2024-08-20T12:23:22.541561604",
          "2024-08-20T12:23:22.605390310",
          "2024-08-20T12:23:22.668270111",
          "2024-08-20T12:23:22.734081745",
          "2024-08-20T12:23:22.803861141",
          "2024-08-20T12:23:22.862429619",
          "2024-08-20T12:23:22.925221682",
          "2024-08-20T12:23:22.991811514",
          "2024-08-20T12:23:23.059323788",
          "2024-08-20T12:23:23.119191885",
          "2024-08-20T12:23:23.183393955",
          "2024-08-20T12:23:23.258196831",
          "2024-08-20T12:23:23.318033695",
          "2024-08-20T12:23:23.383858204",
          "2024-08-20T12:23:23.437715292",
          "2024-08-20T12:23:23.502540349",
          "2024-08-20T12:23:23.564375877",
          "2024-08-20T12:23:23.632193327",
          "2024-08-20T12:23:23.693031788",
          "2024-08-20T12:23:23.761150837",
          "2024-08-20T12:23:23.822021008",
          "2024-08-20T12:23:23.887846708",
          "2024-08-20T12:23:23.949647188",
          "2024-08-20T12:23:24.014506817",
          "2024-08-20T12:23:24.092264891",
          "2024-08-20T12:23:24.147628784",
          "2024-08-20T12:23:24.218438864",
          "2024-08-20T12:23:24.276441574",
          "2024-08-20T12:23:24.337278605",
          "2024-08-20T12:23:24.399112701",
          "2024-08-20T12:23:24.461944818",
          "2024-08-20T12:23:24.527280092",
          "2024-08-20T12:23:24.590008497",
          "2024-08-20T12:23:24.654835939",
          "2024-08-20T12:23:24.718698740",
          "2024-08-20T12:23:24.782825232",
          "2024-08-20T12:23:24.844660282",
          "2024-08-20T12:23:24.915469885",
          "2024-08-20T12:23:24.973318100",
          "2024-08-20T12:23:25.042131662",
          "2024-08-20T12:23:25.102969170",
          "2024-08-20T12:23:25.166799307",
          "2024-08-20T12:23:25.229629755"
         ],
         "xaxis": "x2",
         "y": {
          "bdata": "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",
          "dtype": "f8"
         },
         "yaxis": "y2"
        },
        {
         "marker": {
          "color": "lightcoral"
         },
         "name": "Distribution",
         "nbinsx": 30,
         "opacity": 0.7,
         "type": "histogram",
         "x": {
          "bdata": "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",
          "dtype": "f8"
         },
         "xaxis": "x3",
         "yaxis": "y3"
        },
        {
         "line": {
          "color": "lightcoral",
          "width": 1
         },
         "mode": "lines",
         "name": "Raw",
         "opacity": 0.5,
         "type": "scatter",
         "x": {
          "bdata": "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",
          "dtype": "i2"
         },
         "xaxis": "x4",
         "y": {
          "bdata": "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",
          "dtype": "f8"
         },
         "yaxis": "y4"
        },
        {
         "line": {
          "color": "darkred",
          "width": 3
         },
         "mode": "lines",
         "name": "Smoothed (n=54)",
         "type": "scatter",
         "x": {
          "bdata": "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",
          "dtype": "i2"
         },
         "xaxis": "x4",
         "y": {
          "bdata": "AAAAAAAA+H8AAAAAAAD4fwAAAAAAAPh/AAAAAAAA+H8AAAAAAAD4fwAAAAAAAPh/AAAAAAAA+H8AAAAAAAD4fwAAAAAAAPh/AAAAAAAA+H8AAAAAAAD4fwAAAAAAAPh/AAAAAAAA+H8AAAAAAAD4fwAAAAAAAPh/AAAAAAAA+H8AAAAAAAD4fwAAAAAAAPh/AAAAAAAA+H8AAAAAAAD4fwAAAAAAAPh/AAAAAAAA+H8AAAAAAAD4fwAAAAAAAPh/AAAAAAAA+H8AAAAAAAD4fwAAAAAAAPh/Eu8MLcDo/T8pyTqfRPz9P++8Gkt8D/4/sp9nZ/Qi/j8gfw2q+TX+P6cXUvFeSP4/6eINkR1a/j8kf5MbdWv+P406AUN3ff4/eFX90OCP/j808QNKLKL+P9nJ7u4+tP4/9MqrnFHE/j8ii+VkrNX+P7phDVf15/4/dGUFec32/j9OOCCShgT/P4/jxNiSEf8/0quOdRAd/z+spSU4TiX/P4eyGRSdLP8/LC80s9Ux/z9Mc6kpwjT/P1iGzAFdN/8/ebqvuFc3/z+xakvBjDf/P+uXkxGFNv8/HD+atl0z/z+zZHOoTC//P1Gb693gKf8/yN5YmWkk/z+of5QqmR3/P3sIXtU/F/8/sr+3/5MP/z9l085IDAf/P4EqXjAf//4/q7vC+gv3/j933uKGPu/+P0LytTMk5/4/RzdV/F7f/j/RTscYCNj+P09HLIGAz/4/6zl1AxjH/j+H8rMFZr3+P74z92Q4sv4/MrZ60bGl/j8Ab6xejZj+P9IK6k1Viv4/gJI7DXJ7/j986rUalWz+P6nu+8+JXP4/pXl4HKBK/j8c8VtYfDf+P3VEA4X0Iv4/ZjyeOvgN/j/X8uBKt/j9P3UiJd1y4/0/qyaRDB3N/T+eOTjcnbb9PyauLTfRoP0/KOohzJqL/T+4aMZY9nT9Pymoe/9IXv0/1/SaBddG/T+7tYeoWzD9P5IU/rVeGf0/XyLI9i0D/T8rUDs8wer8P2UfFWrAz/w/ueIDrXu3/D9apepv15/8P4zdcd7siPw/EfkFzH9y/D+JkDZu6lz8P3Mwijv+SPw/P2Oe3Ls3/D+bVsWMOif8P4zvRJ3GFfw/oD5tez4H/D8h5gjJKfn7P7RBjuuC6/s//xle5Pve+z+6BcWEg9P7P0I1ffcdyfs/q+5YiQm/+z+nc68FdLX7P6gw7mnJrPs/aafm5S2k+z+YmgGG/5v7P9RqwDyek/s/iLO661uM+z9sELWF/IP7Py+vbuzievs/iDTwXn1x+z8yUp8LTGf7PwGubNeVXfs/KU/QWARU+z8evkmUVkv7P6z+yi75Qvs/x9UZrfo6+z+RdkgCPjP7PzH9MjHzKvs/ZztxC3ki+z9BPtAF4Bn7P4VWlOv3Efs/8qR3aKcL+z+lAf0WOgX7P4gACf1MAPs/spbHChL8+j+euVXWDvf6P/5bmEZv8fo/HwbYzOHr+j/hANlmFOb6P+uWc97N3/o/M2Z8DlHZ+j+o8nCB4tP6P2bxlQqIzfo/66NR1eTG+j+nAxTzO8D6P9Ruk8/euPo/l96eyBix+j9czKZ72qj6P45vk+Khofo/whqM8vWZ+j9yNPB6xZL6P0xlm4IMi/o/LOd4tj+D+j+LGANGpXv6Px6ocLHQdPo/3PI03rVt+j+SS5DsBWb6P3F+dzp/Xvo/668uPMJW+j9X/hSeBU/6Pxh+7ZKaR/o/sVd2tIo/+j/S3bMLGTf6P3dS8aa4Lvo/DTlm5P8m+j+IN0ZB+h76Pw/Gjz6jFfo/iycfutYM+j8VSHQG4gL6P9xpqbNA+Pk/uY+3Llns+T+yJkdxp+H5Pxn2KdDH1vk/xin81PfK+T+rXJbw3r/5PxQII2p0tPk/BhgnsCSp+T+hY7EA7J35P54xsUr9kvk/L8nE0MeH+T/1Brz74Hv5PxscdapQcPk/5BWHyrlk+T8mj13YX1n5P4sNjDmlTvk/Wr1Eg3VC+T9FhoLrTDb5P+VK96m6KPk/DLS8UHMb+T+nuuiz5w75P++0wX4bA/k/gEgpBIH3+D8+LZ4mvuz4PwJExFlm4vg/3wFDGgbX+D941JTZNcz4P36cPuAawvg/JavKUAu4+D9vvkoEnq34P+SSOQKzo/g/RZLC372a+D8r4NfC15L4P0kH6+F6i/g/dX/s0kKF+D8Yg2r6eX74P/Vx3gwqePg/d9QMtCVy+D+J80UuY2z4P2U0ONh5Zvg/CTmVON9f+D9fbveywVr4P2DtPfd+Vfg/4iz3BEBQ+D/NAH9Pb0v4P5klFPt2R/g/saTjVk1D+D8rR9WQpj/4P+d0XraCPPg/5CS3jVQ5+D9YRLPgujb4P+yJ8Y5KNfg/ebwfbBg0+D/HKT02GjT4P4U1JiYqNfg/oG4HHHU2+D9TmbueSzf4P68B7hBMOPg/p1Ted685+D+B41W4Ljv4P+QcHYPtPfg/vNNjifRA+D/ky7fKD0T4P4vA01XyRvg/p+1tGaJK+D+B0fNTw0/4PzrkD+uAVfg/LwsWKqhb+D90oQjOhGH4P0XVmQQnZ/g/PsSch7Bt+D9Exew+G3X4P4JRJ9g2ffg/XratbeyE+D/Ngm+kC434Pz5/67AYlfg/Gv5nBWWd+D8oNuBMyKX4P065pMMtrvg/k8Hnjf+2+D9uJPJi0b/4P4/2IA4xyPg/5AlZ9VzQ+D9N+a+cNdj4PytJ8tmS4Pg/2I1O3Gzo+D8+t+Csw+/4P49QdNXW9vg/fLLxe2n8+D9SivVFHAL5PwQEMZQ+B/k/2B7j4+oN+T9AWrN/0xP5P6wEESIiGvk/vo1hAUMg+T9mxgEPrSX5P+CuVcDDKPk/DtPG4qAp+T8gJOVweSj5P+hC66m0Jfk/LW1HWB0k+T9r5rP+qSP5P5zeNtLjI/k/6Yx8ni4k+T/J8wzGWyT5P1Fyq3TIJPk/oSsfFpEm+T/FkgSrvyj5P9rmPhiCKvk/9YbRwnws+T+uwxXOJS/5P9sPF75sMvk/pDlc1B82+T8ZULf/5Dn5P0VytIvrPPk/EfLtkC8/+T94WbR6/0D5P2+Lvh65Qvk/iLz9PnNE+T/RztsVXkX5P+LbF+HlRfk/tedSHiVG+T/C31b7NEb5P8ULWo4WRvk/Z7Qk6o1F+T+Xb79zyET5P2S56bE5RPk/x/50baxD+T++PTEZvkP5P3PNqliMRPk/vguitrtE+T+4ynnGUUT5Pw0EUVkORvk/GnrDfhRH+T/xqdPjeUf5PwsO0Kv4R/k/YiYYtwZJ+T9JQy1HzEr5P2S4V+70TPk/FDjQU59O+T+J+COaOVD5PzEvV9EMUvk/PFGQOKRV+T8YB2kRvln5PwhYaB0SXvk/hHQNr9Rg+T9xNLzGF2T5P+eJgQjXZ/k/pnihK79s+T8SDjRRr3H5P4BM6Lwiefk/20JPXXyC+T+yqOAx2Iz5P+BTr0Xxl/k/xtW6Oc+h+T87zxOAJ6v5P0l6JOkltPk/GYJfUu68+T/ClofG8sX5PyYkic7fzvk/Red6sSLX+T+xqRVjgd/5P7kJr/x36Pk/2JcgckPx+T+mBPjnyPj5P4DPV/8zAPo/Mvms6WgH+j/C/HTadw76P6nui5cNFvo/4qvKDKce+j/nr+lrJCf6Pzit8CuXMPo/krDv+Gw6+j+kQ5EnykT6P05DkrSfT/o/ni4SGbda+j8LcfCwrGT6P1nRSNUMb/o/deTJqjt5+j/iOuIn8oL6P9QbMPs7jfo/qXeq7meX+j9P+U50X6H6Pwb/kVTYqvo/R0yNt3i0+j+SCaU1GL76P5JBa2Hixfo/WuWVSmrO+j8NEC+PV9f6P2wpE3WK4Po/XlkZw8rp+j84oEYg8/H6P0eBMOVD+fo/rTSgGe8A+z/HEbIyhQn7P0d2cuqfEfs/eK8fKuUZ+z8P2dvcHCL7P5P70uWzKvs/VVjNKUsz+z9OlX82pzz7P21NvOnwRPs/D9oClnZM+z+xRS84MFT7PynbIlEHXPs/QHP3tT9k+z/axhwR+Gz7P3Ue49UGdvs/D5MKIb1/+z+YQn/EiYj7P09SLeyYkPs/4hXQpZ2Z+z/CG4PAx6H7P55YW3ayqfs/N9qf04ew+z+FSA+TbLb7PyT99vAdu/s/haTxx+G/+z/6o98bg8X7P236T/mDy/s/H55+bzvS+z9T3qRTZNn7Pyc8G8vw3/s/poQz+47l+z+Bco3fnOz7P+9MLVlk9Ps/p97JsNn7+z9Otaq+TQL8P2j8R0EfCPw/08pwl44N/D+BnnfE3BP8P+eGHipbGfw/HnFpkigf/D/5tDHwESX8P8jC6XJ/Kvw/MtpCBnUw/D/POIfGGTb8P/Je2HWQO/w/MnrEOR9C/D+AajZVQ0j8P6v0NY9vTvw/RgeU93BU/D8bis7bnVr8P3z3PLJTYPw/vqYh0pNl/D/RC45+Emz8P0brps2rcvw/AKh78Xx5/D91TZUj8X/8P9EOaLCOhvw/U1waizGM/D/lRnWhOZH8P/Rr3HPjlfw/9wvVg5qa/D+gl6Ii7Z78P+FiHyxSo/w/l1XUx5Kn/D+3ZwddHqz8P3zQQNE4sPw/MmxKs/60/D+li881wLn8P+fRsXCzvvw/fpMjcR7E/D/U9tp7tMn8Pxoptypfz/w/so9xhH3T/D/FDPxzp9j8P0Sz9Msm3fw/J4XtsiHg/D+xUMLluuP8PxvMmqWv5/w/fyHcpb7s/D9JNyKE+PH8PxIC/G92+Pw/yxVYHwf8/D9mZTEmDf78Px8p2hQt//w/1/2ypf7//D/55e2m+AD9P5LEj0gO//w/+Q9iK1X8/D+nqhLAlfn8P+R4kTEn9/w/KV7xQrL0/D8eurZthPL8P2ZTPZBn8Pw/y7FC0lLt/D/sRJTuyOr8Py+6nmNU5/w/zYnE297i/D8vpIO1kd78P7MwQ77J2fw/TJ0fxnHT/D+1pa3Nj8z8P7Ft4R4Axfw/XNZnK96+/D/1toHSvLf8PxnK2/fNr/w/Z6iJPEyn/D+0tcm8Y578P64y4Gv2lfw/qQdbGH6M/D+SjrI9mIL8Py3daNDaePw/Pt+yAylv/D+cdpk5IGX8P3EEEgJgWvw/gVJfDWBP/D9//5W3xEP8PzzH8ba3N/w/rMwZv5cr/D+gPr0NJR78P8GZac7TD/w/7i2KSXgA/D8Hjdr4X/D7P/73QDRv3/s/Ykfy4DfN+z/RxoNF6Lr7P/k4CUNbqfs/ErCRErOX+z+sZxoUKIb7P3pfTwhQdfs/VztkPhll+z/8jfdDDVP7P6UKVElTQPs/SRsrrvEr+z/T3jig3hb7PxVMkxDS//o/+d5yFRXq+j9/yR/DENX6P+hQojGcv/o/q8zFmxGt+j9v8VAKPJj6P9KJJyzrhPo/ZbjC1KFw+j8Uk3Da41v6P5gZU0cJRvo/TLa+if4v+j/XrOVPGRn6PyLH8cKgAfo/B/bwVi/r+T/YPV+4UdP5P3OgT3swu/k/r3htoqei+T+bbPA0J4n5P5R4u83lb/k/UoFpcsJW+T873xNuFD75P/VcwdaWJPk/GBhykHwJ+T9l7vCz+e74P1RxeATs1Pg/ju7xrzO7+D9EybMYjKD4P/uhjXBKhfg/bDwSf7Fq+D9nlKCnXk/4PweZ3vc/M/g/rEdl9kUW+D9bxUxhvvj3PzTqYdJM2/c/Bqw77nu99z+JG9GFs5/3P+6hrc6cgvc/6fmi145l9z8VKSHZJkn3P1q4jRtQLfc/RYzzXboR9z8yeLSPFvf2P8wXWI5Q3PY/SxU5p1jB9j+CmgV+fKb2P1h8dpdSivY/WNNe31lu9j/av4RGLVL2Pxv3Ws55NvY/WmN3jJob9j++w0JsDAH2P/TgHXVo5/U/IXZ+32PO9T/ZTwTuoLX1P7QZ8LeGnfU/4VWWMpWF9T/s9DaZRW71P6S12KTOWPU/5/r2H7lA9T8o7d4SdSn1P2cnSu4kEvU/hCt6liT89D+yO03J1ef0P0jkbsSZ1PQ/Etq2/XDB9D8gGx+b/670P4J1ixc9nfQ/It1z27yL9D/IA8c1HHv0P4JRcsSSavQ/2KoQHLFa9D/BmoPuGEv0P3oWYjCnPfQ/M44CEfAx9D8lEYe37iX0P1sq5ipcG/Q/W6SSYAsR9D+8XxpshQb0PyiQppI6/fM/HL69Fxby8z+GrfCf5ufzP09Nas303PM/OQhePKfT8z/Vpz4Fw8zzP2efkybBxvM/G8+KbkLC8z/uM2VgqL3zPyyg3E5+ufM/LD+OYAe18z/YJjNQ1K/zP5QUVkb9qvM/zx/YOQim8z8MTOMHnKHzP8xt5xEwnPM/L8Nfj7eV8z+lfJzsjY/zP2mH2+omifM/7Ezml3WC8z//4mkSEXzzP/vSjDyOdfM/dxOsBzNv8z+B7GewZmjzP5Of9whiYPM/LHAsEEpY8z8SS2rYj1DzP3+MJIoySfM/yVuBTPBA8z8JawLCFzjzP75FNofPLvM/p6Gs3iwm8z94RAd1Gh3zP00aSiTbE/M/zL91rEYL8z8fPGjIagPzPySPzO9G/PI/Jo8gDmb18j/EzQjV5u3yP+lkK7B35vI//7AYYATg8j/Rr2p3HdryP7+G+GJg1PI/nzN3yKrO8j/vJu/PJ8nyP1lVyojFxPI/E5J2mOnA8j+VcgPwm73yPzXHDlWsuPI/dmlUErCz8j+Hyi+286/yPxqEDFOXrPI/MB5IZNqp8j/2MKGwE6jyP4ka8SD5pfI/qgeMTwGm8j9tCZ5NMqbyPyKJQUJ9p/I/GPxofRuo8j/qCK80RafyP3tp4elwpvI/93mNvFSl8j/MlUSXZqXyP6sJ3K+FpfI/CvHEFWOm8j9N1rV2Q6jyP6Fezq6WqfI/Xhh6Yqaq8j/vFF3E76vyPyR7zsAUr/I/hEAAHEaz8j+i+JyRCrfyP9/UHBeDu/I/jZyiQkrB8j/V/7tymMbyP6WPfJIUzPI/j9SQUBfS8j+mig6nrNjyP++rYyOh3/I/dWNWsljn8j9hQorAqu/yPx9T8mdU9/I/7Jq4HXL/8j9BArSeDQjzPydESR/yEPM/32NKg24Z8z8y6gAU4SHzP8yZG8kEKvM/xtOBq38y8z//B2Z0CzvzP+C0OBJMQ/M/N25o3NlL8z8S+lm+31TzP+WSlKwSXvM/NHCLX+Nn8z+/TqHwOnLzP1gVa3iZfPM/7FwDunSH8z8mVOGp3ZLzP7Vmrh1EnvM/uq+GEu+p8z/SuPQrybXzP5nGntzMwfM/G9X9l3DM8z/C3V5wu9fzP+iePTaz4vM/tfyc6Frt8z8IyEOg3PfzPwGSt7tNAvQ/pbR+ZVMN9D9oWbPZdRf0P6/OD/jyIfQ/xCCAmtgr9D/SqUyFazX0P1Sg9l8XP/Q/83foDkFI9D+iA/if8VD0PxpJHdGYWfQ/q9PJcmFi9D9GQg40XGr0PyYBYQQHcvQ/EcGNg5J59D+lVib0hoD0P/4qkrQdh/Q/DQDn+ViN9D9sQfFQq5P0P+fYYl7mmfQ/lQJYgwag9D+lwZj4Mqb0P98O2NiorPQ/hkgxfPay9D9V2DuI4bj0P+m6ya4Iv/Q/FEdm89vE9D+aOs8V0Mr0P7+CFwVU0fQ/x1AzmSrY9D8HOiUfU970P++u/83i4/Q/hh+H2czp9D+PT6zfuu/0P/GU9GR89fQ/peXEKdf69D9nTYINlQD1PySYKEEfBvU/axxmf68K9T9yqSA17w31P8DeI/lQEfU/wHdxr3oT9T+hfKQWjBT1P4aWKgsLFfU//++TNNsU9T84sVJweRT1P9Oj28kjE/U/6Vwafz8Q9T9Lavbnkw31P2t6NY7JCvU/HrPMYhAI9T+OEuwzowT1P5kCH4+DAfU/l09uE0r+9D/Et0V4ifr0P2bAFyj69fQ/emUtINHw9D8M3AgCpOv0P6l4FUYw5fQ/7ej9djvf9D/C+X+VfNn0P9wHDZcS0/Q/b0Xjz4fM9D91UFvCTcb0Pxc+nfLsv/Q/5jGL/d659D/ItIsoS7T0P1kv/KWvr/Q/hi2WVq2r9D8EzcORLaj0Pzh0tcW+pPQ/vyltLJOh9D/CVDRwIZ70Pw8g1o8Mm/Q/uWHT1duX9D91F49XFZX0P4KPkuSxkvQ/QTkrEKGQ9D+c1odN8I70P++FXjfNjfQ/kkelzyCN9D+At+YBpYz0PysoLWhDjPQ/7mO0yyyM9D98Kq8Feo30P9my3ZC4j/Q/2P9yCr2S9D+3o3FVvJb0P4k1aaVJm/Q/FUGX+/Cf9D9aXmVoGKT0P+uwePwqqfQ/0aWjJXqv9D9YfqN/DLf0P/WvVR/UvvQ/nz4CVWHH9D/SFojC/tD0Py6bNST12/Q/L0Mox6Ln9D+hDqbNfvP0Pwv4G5pbAPU/v8QOQWwO9T8eiW+Yjxz1P3ML1BUfK/U/5VuSPUI69T+s6F47G0n1P4l8XjruV/U/l5B/fsZn9T8P1iy6MHj1P+SeCaeJifU/uIq795+b9T9T3a4D3a71P1wDIJ5hw/U/STkaqB/X9T8haRnbbOz1P8+p8zoBAvY/gNDUDd4X9j9alQVRTy72P9TcKJw8RPY/36KHJKFa9j8hdHmzcHH2Py9scPtGifY/ePwPlmug9j/z532EEbf2P8feEU1HzfY/+c+r7/3i9j8k/b5Qpfj2P4J/GafMDvc/qRRnhw0m9z/BhscKXz33P5gbdZ/wU/c/U0+M+RRq9z/uH1PiIn/3P+2ydKlgk/c/tdA35mSn9z9oTPW4kLr3PxUWmFQYzfc/5gY4kATe9z+u7fSYau73P0gLgpZ7/fc/tcgP2GIN+D9O9MtZkxv4P5+tP1elKPg/lH2HvAo1+D8TUI0KQkD4P3+IDp3PSfg/zRXaGnVS+D93jYdjX1n4P7hgapwnX/g/O7IPwdVi+D8oo7wWiWb4P67TtGJFavg/zUwmk3ts+D9YNlq/eG34P/9Y7NyWbfg/V6BWiKFs+D8b+2hA9Wn4P2B19HSuZfg/E5naaBVg+D/vLqwoTln4P4akpx4PUfg/h/Oze/tG+D9iEv+1rTz4P8A0qTYgMvg/8V7Kkwkn+D98qlsdKhv4P0IaPTmCDvg/ol9K1SkC+D+cjNDe/PL3PyiAb0gQ4/c/TX48SA3S9z9P4LkZUr/3P1JsnAMYrfc/p1i0sgeZ9z8aO775OIT3PzfeL62vbfc/SbIUUYlX9z8JvAjIK0D3P4nkiZIBKPc/5i2wtLkP9z/NlExzFvf2Py3xMObL3PY/wWNzwiLB9j9AbVtLM6T2P1nQCEZPhvY/Rw3TFdln9j//+jm6MEn2PyCb2xkqKvY/QLxPhBUK9j8CCLioDur1P46+ge+/yPU/oHkM1wGo9T8aQqJUNob1PyLgC+6pZPU/Zmcv/x9A9T/e/BZpLhz1P5jxKs9w+fQ/oKQjdT7V9D/ViJcf1rH0P7meUruijvQ/W8SimHZr9D8H085Qekj0PySdtxW/JfQ/Afh4d+YD9D81ADZJg+DzP2JEr3KqvPM/OBzRxUWZ8z8CbQgcjnbzP+LQmx9+VPM/y6QqBZoy8z+8VcTP5RHzP5a0JlWJ8vI/CuLz4OjS8j+GXoBbn7TyP9lrlQQilvI/e6X9gwB68j9HmxOS9lryP2BXnljjO/I/BgF+Dogc8j/MBsS/bP7xP4v8xBuw3/E/HZLrX4DC8T9ZKL7u36TxP2ugFAtyh/E/rw1mUPts8T8WXOUX8VPxP/HhqABqO/E/e3TH0qok8T9niBaCFA3xP0fbgL3L9fA/8Z94DWve8D/16NGaicjwPyGNFpKJs/A/r1YkKm6f8D+pD3KRW4nwP3uix1dWdfA/gflAg79g8D9zUIAokkzwP5g38AECPfA/bSC4m2ou8D/P3jASaiDwP/GwTKkdFfA/7yoAf3YM8D/UGLWY8gPwP6jyi/Zb+u8/p4umfuvv7z/hKmSgKejvP1MqB+5q4+8/66PRYwjl7z/GxB8ClufvP1RINLUh5+8/SRhQKnPr7z9L0VnMAPHvP9+g9oDN+O8/QTZ5v4AA8D/JJHWCJwbwP4LEsFmwC/A/YaB/D4IT8D8Xx9B5hxvwP0QV7yfdJPA/zbv1x+wu8D+wUAeugTjwPyvOhlBZQfA/t1UpOxFM8D+/tMH9EVbwPzvxxU7mX/A/zkbPbtRr8D/HvHeUm3jwP1DkUEMvh/A/5E5gKy+U8D/zDK9IHqTwP5jvzac3s/A/FY12vPvB8D/yU973ZdHwP8eLzwiq4fA/zUV3bpDw8D//4N+L8QHxP0HFdcwtFPE/lKaABnMl8T9Cw9UHdTfxP6GHtnkGSfE/N3+Lpb5Z8T9tlDDLWmvxP5UsCJM9fvE/NkQXU6uR8T/EKouzVaTxP/75fpWht/E/vwyE2i3L8T8HLRKqnuHxP0pOH2TV9vE/JRkHJCUN8j+ldKtBryPyP6SPJ1GiNvI/GUdxIiVJ8j/Sfjo7olvyP9HluWVZbPI/8bwv8KB68j8Bq0jwX4nyP8/yMG2Rl/I/bKQG83Wk8j+rCW+HtLDyP4wdBNfdu/I/uNmnr+3E8j/1GbWfNc7yP7r5tiVR2PI/3CaslNrh8j/C7cHg4eryPyhEbfC78vI/M7tn2XT68j/eoLqHUwHzP+tdnkouCPM/6L2jHpwN8z/IG+WxXBPzPxycS/7gFvM/7QTETh0a8z8Ml9YM9R3zP+0ouBm+IvM/2h3G1Yom8z/Ce2kkvCrzPy2cKUZRLvM/oOtgn9Yw8z8SmmptZDLzP7XT6hODMvM/hTSkF/ky8z+k6rpVnjPzP00jUudzNfM/gK6H1F448z8bNXVYmTnzP0UvM5cIO/M/rkmydik88z8IZMD7xTzzP4Xm6z8TPfM/1wYhVHQ88z/+fs562DrzP8lGvAXHOfM/DOCfVbw48z8zzZtXIDjzP7cjOkECNvM/E9qsOqUz8z9M2gVtEDLzP+GV7dnrMPM/+6aFgRow8z9oGz8PXi/zP8F/pGZAL/M/X0ZskZ8v8z+tMTtAujDzP0DlT+HHMvM/OmLg30w18z8XBGjBoTjzP9hCyQkmPPM/z7/RCblA8z/kraMus0XzPzWuE6xfS/M/C9bgGulR8z/B968Hy1jzP5Ji+Rh/YPM/zc9H1RJp8z8BeOtC9XHzP+x66Ftne/M/TU6iB8SF8z8Ec74TRZHzPxf0Z8pVnvM/8dmxEBCs8z+p0h5X97rzP9x7Rs4sy/M/udWElnzb8z+fxTlejOzzP7QuD7uh/vM/pT2ASw0R9D/IBaIa0iP0P5TCrX6ZNvQ/E/rmLNVJ9D8fSa8LCF70P/TD3GDAc/Q/0calkbyK9D/fLDTIkKH0P4+SVhn+uPQ/a8pUDfHQ9D9N9JH9Mun0PzhNnpxsAvU/YnSFYM4b9T9as8k2lDT1P4/Qh9NQTvU/1NohCSFo9T8ByDep5oH1P9w2z3hlnPU/K0EZql639T+lNF9YuNL1Px5C8CKQ7/U/MkzWLFoL9j8AAAAAAAD4fwAAAAAAAPh/AAAAAAAA+H8AAAAAAAD4fwAAAAAAAPh/AAAAAAAA+H8AAAAAAAD4fwAAAAAAAPh/AAAAAAAA+H8AAAAAAAD4fwAAAAAAAPh/AAAAAAAA+H8AAAAAAAD4fwAAAAAAAPh/AAAAAAAA+H8AAAAAAAD4fwAAAAAAAPh/AAAAAAAA+H8AAAAAAAD4fwAAAAAAAPh/AAAAAAAA+H8AAAAAAAD4fwAAAAAAAPh/AAAAAAAA+H8AAAAAAAD4fwAAAAAAAPh/",
          "dtype": "f8"
         },
         "yaxis": "y4"
        }
       ],
       "layout": {
        "annotations": [
         {
          "font": {
           "size": 16
          },
          "showarrow": false,
          "text": "Distance vs Frame Index",
          "x": 0.225,
          "xanchor": "center",
          "xref": "paper",
          "y": 1,
          "yanchor": "bottom",
          "yref": "paper"
         },
         {
          "font": {
           "size": 16
          },
          "showarrow": false,
          "text": "Distance vs Time",
          "x": 0.775,
          "xanchor": "center",
          "xref": "paper",
          "y": 1,
          "yanchor": "bottom",
          "yref": "paper"
         },
         {
          "font": {
           "size": 16
          },
          "showarrow": false,
          "text": "Distance Distribution",
          "x": 0.225,
          "xanchor": "center",
          "xref": "paper",
          "y": 0.375,
          "yanchor": "bottom",
          "yref": "paper"
         },
         {
          "font": {
           "size": 16
          },
          "showarrow": false,
          "text": "Distance Trends",
          "x": 0.775,
          "xanchor": "center",
          "xref": "paper",
          "y": 0.375,
          "yanchor": "bottom",
          "yref": "paper"
         },
         {
          "showarrow": false,
          "text": "Mean: 1.47meters",
          "x": 1.4738791533123243,
          "xanchor": "left",
          "xref": "x3",
          "y": 1,
          "yanchor": "top",
          "yref": "y3 domain"
         }
        ],
        "height": 800,
        "shapes": [
         {
          "line": {
           "color": "red",
           "dash": "dash"
          },
          "type": "line",
          "x0": 1.4738791533123243,
          "x1": 1.4738791533123243,
          "xref": "x3",
          "y0": 0,
          "y1": 1,
          "yref": "y3 domain"
         }
        ],
        "showlegend": true,
        "template": {
         "data": {
          "bar": [
           {
            "error_x": {
             "color": "#2a3f5f"
            },
            "error_y": {
             "color": "#2a3f5f"
            },
            "marker": {
             "line": {
              "color": "#E5ECF6",
              "width": 0.5
             },
             "pattern": {
              "fillmode": "overlay",
              "size": 10,
              "solidity": 0.2
             }
            },
            "type": "bar"
           }
          ],
          "barpolar": [
           {
            "marker": {
             "line": {
              "color": "#E5ECF6",
              "width": 0.5
             },
             "pattern": {
              "fillmode": "overlay",
              "size": 10,
              "solidity": 0.2
             }
            },
            "type": "barpolar"
           }
          ],
          "carpet": [
           {
            "aaxis": {
             "endlinecolor": "#2a3f5f",
             "gridcolor": "white",
             "linecolor": "white",
             "minorgridcolor": "white",
             "startlinecolor": "#2a3f5f"
            },
            "baxis": {
             "endlinecolor": "#2a3f5f",
             "gridcolor": "white",
             "linecolor": "white",
             "minorgridcolor": "white",
             "startlinecolor": "#2a3f5f"
            },
            "type": "carpet"
           }
          ],
          "choropleth": [
           {
            "colorbar": {
             "outlinewidth": 0,
             "ticks": ""
            },
            "type": "choropleth"
           }
          ],
          "contour": [
           {
            "colorbar": {
             "outlinewidth": 0,
             "ticks": ""
            },
            "colorscale": [
             [
              0,
              "#0d0887"
             ],
             [
              0.1111111111111111,
              "#46039f"
             ],
             [
              0.2222222222222222,
              "#7201a8"
             ],
             [
              0.3333333333333333,
              "#9c179e"
             ],
             [
              0.4444444444444444,
              "#bd3786"
             ],
             [
              0.5555555555555556,
              "#d8576b"
             ],
             [
              0.6666666666666666,
              "#ed7953"
             ],
             [
              0.7777777777777778,
              "#fb9f3a"
             ],
             [
              0.8888888888888888,
              "#fdca26"
             ],
             [
              1,
              "#f0f921"
             ]
            ],
            "type": "contour"
           }
          ],
          "contourcarpet": [
           {
            "colorbar": {
             "outlinewidth": 0,
             "ticks": ""
            },
            "type": "contourcarpet"
           }
          ],
          "heatmap": [
           {
            "colorbar": {
             "outlinewidth": 0,
             "ticks": ""
            },
            "colorscale": [
             [
              0,
              "#0d0887"
             ],
             [
              0.1111111111111111,
              "#46039f"
             ],
             [
              0.2222222222222222,
              "#7201a8"
             ],
             [
              0.3333333333333333,
              "#9c179e"
             ],
             [
              0.4444444444444444,
              "#bd3786"
             ],
             [
              0.5555555555555556,
              "#d8576b"
             ],
             [
              0.6666666666666666,
              "#ed7953"
             ],
             [
              0.7777777777777778,
              "#fb9f3a"
             ],
             [
              0.8888888888888888,
              "#fdca26"
             ],
             [
              1,
              "#f0f921"
             ]
            ],
            "type": "heatmap"
           }
          ],
          "histogram": [
           {
            "marker": {
             "pattern": {
              "fillmode": "overlay",
              "size": 10,
              "solidity": 0.2
             }
            },
            "type": "histogram"
           }
          ],
          "histogram2d": [
           {
            "colorbar": {
             "outlinewidth": 0,
             "ticks": ""
            },
            "colorscale": [
             [
              0,
              "#0d0887"
             ],
             [
              0.1111111111111111,
              "#46039f"
             ],
             [
              0.2222222222222222,
              "#7201a8"
             ],
             [
              0.3333333333333333,
              "#9c179e"
             ],
             [
              0.4444444444444444,
              "#bd3786"
             ],
             [
              0.5555555555555556,
              "#d8576b"
             ],
             [
              0.6666666666666666,
              "#ed7953"
             ],
             [
              0.7777777777777778,
              "#fb9f3a"
             ],
             [
              0.8888888888888888,
              "#fdca26"
             ],
             [
              1,
              "#f0f921"
             ]
            ],
            "type": "histogram2d"
           }
          ],
          "histogram2dcontour": [
           {
            "colorbar": {
             "outlinewidth": 0,
             "ticks": ""
            },
            "colorscale": [
             [
              0,
              "#0d0887"
             ],
             [
              0.1111111111111111,
              "#46039f"
             ],
             [
              0.2222222222222222,
              "#7201a8"
             ],
             [
              0.3333333333333333,
              "#9c179e"
             ],
             [
              0.4444444444444444,
              "#bd3786"
             ],
             [
              0.5555555555555556,
              "#d8576b"
             ],
             [
              0.6666666666666666,
              "#ed7953"
             ],
             [
              0.7777777777777778,
              "#fb9f3a"
             ],
             [
              0.8888888888888888,
              "#fdca26"
             ],
             [
              1,
              "#f0f921"
             ]
            ],
            "type": "histogram2dcontour"
           }
          ],
          "mesh3d": [
           {
            "colorbar": {
             "outlinewidth": 0,
             "ticks": ""
            },
            "type": "mesh3d"
           }
          ],
          "parcoords": [
           {
            "line": {
             "colorbar": {
              "outlinewidth": 0,
              "ticks": ""
             }
            },
            "type": "parcoords"
           }
          ],
          "pie": [
           {
            "automargin": true,
            "type": "pie"
           }
          ],
          "scatter": [
           {
            "fillpattern": {
             "fillmode": "overlay",
             "size": 10,
             "solidity": 0.2
            },
            "type": "scatter"
           }
          ],
          "scatter3d": [
           {
            "line": {
             "colorbar": {
              "outlinewidth": 0,
              "ticks": ""
             }
            },
            "marker": {
             "colorbar": {
              "outlinewidth": 0,
              "ticks": ""
             }
            },
            "type": "scatter3d"
           }
          ],
          "scattercarpet": [
           {
            "marker": {
             "colorbar": {
              "outlinewidth": 0,
              "ticks": ""
             }
            },
            "type": "scattercarpet"
           }
          ],
          "scattergeo": [
           {
            "marker": {
             "colorbar": {
              "outlinewidth": 0,
              "ticks": ""
             }
            },
            "type": "scattergeo"
           }
          ],
          "scattergl": [
           {
            "marker": {
             "colorbar": {
              "outlinewidth": 0,
              "ticks": ""
             }
            },
            "type": "scattergl"
           }
          ],
          "scattermap": [
           {
            "marker": {
             "colorbar": {
              "outlinewidth": 0,
              "ticks": ""
             }
            },
            "type": "scattermap"
           }
          ],
          "scattermapbox": [
           {
            "marker": {
             "colorbar": {
              "outlinewidth": 0,
              "ticks": ""
             }
            },
            "type": "scattermapbox"
           }
          ],
          "scatterpolar": [
           {
            "marker": {
             "colorbar": {
              "outlinewidth": 0,
              "ticks": ""
             }
            },
            "type": "scatterpolar"
           }
          ],
          "scatterpolargl": [
           {
            "marker": {
             "colorbar": {
              "outlinewidth": 0,
              "ticks": ""
             }
            },
            "type": "scatterpolargl"
           }
          ],
          "scatterternary": [
           {
            "marker": {
             "colorbar": {
              "outlinewidth": 0,
              "ticks": ""
             }
            },
            "type": "scatterternary"
           }
          ],
          "surface": [
           {
            "colorbar": {
             "outlinewidth": 0,
             "ticks": ""
            },
            "colorscale": [
             [
              0,
              "#0d0887"
             ],
             [
              0.1111111111111111,
              "#46039f"
             ],
             [
              0.2222222222222222,
              "#7201a8"
             ],
             [
              0.3333333333333333,
              "#9c179e"
             ],
             [
              0.4444444444444444,
              "#bd3786"
             ],
             [
              0.5555555555555556,
              "#d8576b"
             ],
             [
              0.6666666666666666,
              "#ed7953"
             ],
             [
              0.7777777777777778,
              "#fb9f3a"
             ],
             [
              0.8888888888888888,
              "#fdca26"
             ],
             [
              1,
              "#f0f921"
             ]
            ],
            "type": "surface"
           }
          ],
          "table": [
           {
            "cells": {
             "fill": {
              "color": "#EBF0F8"
             },
             "line": {
              "color": "white"
             }
            },
            "header": {
             "fill": {
              "color": "#C8D4E3"
             },
             "line": {
              "color": "white"
             }
            },
            "type": "table"
           }
          ]
         },
         "layout": {
          "annotationdefaults": {
           "arrowcolor": "#2a3f5f",
           "arrowhead": 0,
           "arrowwidth": 1
          },
          "autotypenumbers": "strict",
          "coloraxis": {
           "colorbar": {
            "outlinewidth": 0,
            "ticks": ""
           }
          },
          "colorscale": {
           "diverging": [
            [
             0,
             "#8e0152"
            ],
            [
             0.1,
             "#c51b7d"
            ],
            [
             0.2,
             "#de77ae"
            ],
            [
             0.3,
             "#f1b6da"
            ],
            [
             0.4,
             "#fde0ef"
            ],
            [
             0.5,
             "#f7f7f7"
            ],
            [
             0.6,
             "#e6f5d0"
            ],
            [
             0.7,
             "#b8e186"
            ],
            [
             0.8,
             "#7fbc41"
            ],
            [
             0.9,
             "#4d9221"
            ],
            [
             1,
             "#276419"
            ]
           ],
           "sequential": [
            [
             0,
             "#0d0887"
            ],
            [
             0.1111111111111111,
             "#46039f"
            ],
            [
             0.2222222222222222,
             "#7201a8"
            ],
            [
             0.3333333333333333,
             "#9c179e"
            ],
            [
             0.4444444444444444,
             "#bd3786"
            ],
            [
             0.5555555555555556,
             "#d8576b"
            ],
            [
             0.6666666666666666,
             "#ed7953"
            ],
            [
             0.7777777777777778,
             "#fb9f3a"
            ],
            [
             0.8888888888888888,
             "#fdca26"
            ],
            [
             1,
             "#f0f921"
            ]
           ],
           "sequentialminus": [
            [
             0,
             "#0d0887"
            ],
            [
             0.1111111111111111,
             "#46039f"
            ],
            [
             0.2222222222222222,
             "#7201a8"
            ],
            [
             0.3333333333333333,
             "#9c179e"
            ],
            [
             0.4444444444444444,
             "#bd3786"
            ],
            [
             0.5555555555555556,
             "#d8576b"
            ],
            [
             0.6666666666666666,
             "#ed7953"
            ],
            [
             0.7777777777777778,
             "#fb9f3a"
            ],
            [
             0.8888888888888888,
             "#fdca26"
            ],
            [
             1,
             "#f0f921"
            ]
           ]
          },
          "colorway": [
           "#636efa",
           "#EF553B",
           "#00cc96",
           "#ab63fa",
           "#FFA15A",
           "#19d3f3",
           "#FF6692",
           "#B6E880",
           "#FF97FF",
           "#FECB52"
          ],
          "font": {
           "color": "#2a3f5f"
          },
          "geo": {
           "bgcolor": "white",
           "lakecolor": "white",
           "landcolor": "#E5ECF6",
           "showlakes": true,
           "showland": true,
           "subunitcolor": "white"
          },
          "hoverlabel": {
           "align": "left"
          },
          "hovermode": "closest",
          "mapbox": {
           "style": "light"
          },
          "paper_bgcolor": "white",
          "plot_bgcolor": "#E5ECF6",
          "polar": {
           "angularaxis": {
            "gridcolor": "white",
            "linecolor": "white",
            "ticks": ""
           },
           "bgcolor": "#E5ECF6",
           "radialaxis": {
            "gridcolor": "white",
            "linecolor": "white",
            "ticks": ""
           }
          },
          "scene": {
           "xaxis": {
            "backgroundcolor": "#E5ECF6",
            "gridcolor": "white",
            "gridwidth": 2,
            "linecolor": "white",
            "showbackground": true,
            "ticks": "",
            "zerolinecolor": "white"
           },
           "yaxis": {
            "backgroundcolor": "#E5ECF6",
            "gridcolor": "white",
            "gridwidth": 2,
            "linecolor": "white",
            "showbackground": true,
            "ticks": "",
            "zerolinecolor": "white"
           },
           "zaxis": {
            "backgroundcolor": "#E5ECF6",
            "gridcolor": "white",
            "gridwidth": 2,
            "linecolor": "white",
            "showbackground": true,
            "ticks": "",
            "zerolinecolor": "white"
           }
          },
          "shapedefaults": {
           "line": {
            "color": "#2a3f5f"
           }
          },
          "ternary": {
           "aaxis": {
            "gridcolor": "white",
            "linecolor": "white",
            "ticks": ""
           },
           "baxis": {
            "gridcolor": "white",
            "linecolor": "white",
            "ticks": ""
           },
           "bgcolor": "#E5ECF6",
           "caxis": {
            "gridcolor": "white",
            "linecolor": "white",
            "ticks": ""
           }
          },
          "title": {
           "x": 0.05
          },
          "xaxis": {
           "automargin": true,
           "gridcolor": "white",
           "linecolor": "white",
           "ticks": "",
           "title": {
            "standoff": 15
           },
           "zerolinecolor": "white",
           "zerolinewidth": 2
          },
          "yaxis": {
           "automargin": true,
           "gridcolor": "white",
           "linecolor": "white",
           "ticks": "",
           "title": {
            "standoff": 15
           },
           "zerolinecolor": "white",
           "zerolinewidth": 2
          }
         }
        },
        "title": {
         "text": "Real-World Distance Analysis"
        },
        "xaxis": {
         "anchor": "y",
         "domain": [
          0,
          0.45
         ],
         "title": {
          "text": "Frame Index"
         }
        },
        "xaxis2": {
         "anchor": "y2",
         "domain": [
          0.55,
          1
         ],
         "title": {
          "text": "Time"
         }
        },
        "xaxis3": {
         "anchor": "y3",
         "domain": [
          0,
          0.45
         ],
         "title": {
          "text": "Distance (meters)"
         }
        },
        "xaxis4": {
         "anchor": "y4",
         "domain": [
          0.55,
          1
         ],
         "title": {
          "text": "Frame Index"
         }
        },
        "yaxis": {
         "anchor": "x",
         "domain": [
          0.625,
          1
         ],
         "title": {
          "text": "Distance (meters)"
         }
        },
        "yaxis2": {
         "anchor": "x2",
         "domain": [
          0.625,
          1
         ],
         "title": {
          "text": "Distance (meters)"
         }
        },
        "yaxis3": {
         "anchor": "x3",
         "domain": [
          0,
          0.375
         ],
         "title": {
          "text": "Frequency"
         }
        },
        "yaxis4": {
         "anchor": "x4",
         "domain": [
          0,
          0.375
         ],
         "title": {
          "text": "Distance (meters)"
         }
        }
       }
      }
     },
     "metadata": {},
     "output_type": "display_data"
    }
   ],
   "source": [
    "iau.VisualizationEngine.plot_distance_analysis(distance_results, \"Real-World Distance Analysis\")"
   ]
  },
  {
   "cell_type": "code",
   "execution_count": null,
   "id": "c10a8be6",
   "metadata": {},
   "outputs": [
    {
     "name": "stdout",
     "output_type": "stream",
     "text": [
      "🎯 LOADING ALL DISTANCE DATA FOR BAG: 2024-08-20_14-22-12\n",
      "============================================================\n",
      "📡 1. Loading Navigation Data...\n",
      "   ✅ Loaded 613 navigation records\n",
      "📡 2. Loading Guidance Data...\n",
      "   ✅ Loaded 638 guidance records with ['error_net_distance', 'desired_net_distance', 'r_net_distance_d']\n",
      "📡 3. Loading DVL Altimeter...\n",
      "   ❌ DVL altimeter file not found\n",
      "📡 4. Loading USBL...\n",
      "   ✅ Loaded 32 USBL records\n",
      "📡 5. Loading DVL Position...\n",
      "   ✅ Loaded 315 DVL position records\n",
      "📡 6. Loading Navigation Position...\n",
      "   ✅ Loaded 313 navigation position records\n",
      "📡 7. Loading INS Z Position...\n",
      "   ❌ INS file not found\n",
      "\n",
      "📊 LOADING SUMMARY:\n",
      "   🎯 Target bag: 2024-08-20_14-22-12\n",
      "   📁 Raw data loaded: 2/2\n",
      "   📏 Distance measurements: 4\n",
      "\n",
      "📊 RAW DATA LOADED:\n",
      "   ✅ navigation: 613 records\n",
      "   ✅ guidance: 638 records\n",
      "\n",
      "📏 DISTANCE MEASUREMENTS LOADED:\n",
      "   ✅ USBL_3D: 32 records - 3D acoustic position\n",
      "   ✅ USBL_Depth: 32 records - USBL depth measurement\n",
      "   ✅ DVL_Position: 315 records - 3D DVL position\n",
      "   ✅ Nav_Position: 313 records - 2D navigation position\n",
      "   ✅ Loaded 638 guidance records with ['error_net_distance', 'desired_net_distance', 'r_net_distance_d']\n",
      "📡 3. Loading DVL Altimeter...\n",
      "   ❌ DVL altimeter file not found\n",
      "📡 4. Loading USBL...\n",
      "   ✅ Loaded 32 USBL records\n",
      "📡 5. Loading DVL Position...\n",
      "   ✅ Loaded 315 DVL position records\n",
      "📡 6. Loading Navigation Position...\n",
      "   ✅ Loaded 313 navigation position records\n",
      "📡 7. Loading INS Z Position...\n",
      "   ❌ INS file not found\n",
      "\n",
      "📊 LOADING SUMMARY:\n",
      "   🎯 Target bag: 2024-08-20_14-22-12\n",
      "   📁 Raw data loaded: 2/2\n",
      "   📏 Distance measurements: 4\n",
      "\n",
      "📊 RAW DATA LOADED:\n",
      "   ✅ navigation: 613 records\n",
      "   ✅ guidance: 638 records\n",
      "\n",
      "📏 DISTANCE MEASUREMENTS LOADED:\n",
      "   ✅ USBL_3D: 32 records - 3D acoustic position\n",
      "   ✅ USBL_Depth: 32 records - USBL depth measurement\n",
      "   ✅ DVL_Position: 315 records - 3D DVL position\n",
      "   ✅ Nav_Position: 313 records - 2D navigation position\n"
     ]
    }
   ],
   "source": [
    "# 🔄 COMPARISON: SONAR vs DVL DISTANCE MEASUREMENTS\n",
    "# =================================================\n",
    "import utils.net_distance_analysis as sda\n",
    "\n",
    "# IMPORTANT: Pass the by_bag folder, not just the exports root\n",
    "# The function expects the folder containing the CSV files\n",
    "from utils.sonar_config import EXPORTS_SUBDIRS\n",
    "BY_BAG_FOLDER = EXPORTS_FOLDER / EXPORTS_SUBDIRS.get('by_bag', 'by_bag')\n",
    "\n",
    "# Load all distance data for the target bag\n",
    "raw_data, distance_measurements = sda.load_all_distance_data_for_bag(TARGET_BAG, BY_BAG_FOLDER)\n",
    "\n",
    "# Display what we loaded\n",
    "print(f\"\\n📊 RAW DATA LOADED:\")\n",
    "for key, data in raw_data.items():\n",
    "    if data is not None:\n",
    "        print(f\"   ✅ {key}: {len(data)} records\")\n",
    "    else:\n",
    "        print(f\"   ❌ {key}: None\")\n",
    "\n",
    "print(f\"\\n📏 DISTANCE MEASUREMENTS LOADED:\")\n",
    "for key, info in distance_measurements.items():\n",
    "    data_len = len(info['data'])\n",
    "    print(f\"   ✅ {key}: {data_len} records - {info['description']}\")"
   ]
  },
  {
   "cell_type": "code",
   "execution_count": null,
   "id": "0375375e",
   "metadata": {},
   "outputs": [
    {
     "name": "stdout",
     "output_type": "stream",
     "text": [
      "\n",
      "📊 SONAR vs DVL COMPARISON STATISTICS:\n",
      "==================================================\n",
      "Sonar mean distance: 1.474 m\n",
      "DVL mean distance:   1.461 m\n",
      "Scale ratio (Sonar/DVL): 1.009x\n",
      "Sonar duration: 68.3s (1098 frames)\n",
      "DVL duration:   68.2s (613 records)\n"
     ]
    },
    {
     "name": "stderr",
     "output_type": "stream",
     "text": [
      "/Users/eirikvarnes/code/SOLAQUA/utils/sonar_image_analysis.py:285: FutureWarning:\n",
      "\n",
      "Series.fillna with 'method' is deprecated and will raise in a future version. Use obj.ffill() or obj.bfill() instead.\n",
      "\n",
      "/Users/eirikvarnes/code/SOLAQUA/utils/sonar_image_analysis.py:292: FutureWarning:\n",
      "\n",
      "Series.fillna with 'method' is deprecated and will raise in a future version. Use obj.ffill() or obj.bfill() instead.\n",
      "\n"
     ]
    },
    {
     "data": {
      "application/vnd.plotly.v1+json": {
       "config": {
        "plotlyServerURL": "https://plot.ly"
       },
       "data": [
        {
         "line": {
          "color": "rgba(255,0,0,0.3)"
         },
         "mode": "lines",
         "name": "Sonar Raw",
         "type": "scatter",
         "x": {
          "bdata": "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",
          "dtype": "f8"
         },
         "xaxis": "x",
         "y": {
          "bdata": "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",
          "dtype": "f8"
         },
         "yaxis": "y"
        },
        {
         "line": {
          "color": "red",
          "width": 3
         },
         "mode": "lines",
         "name": "Sonar Smoothed",
         "type": "scatter",
         "x": {
          "bdata": "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",
          "dtype": "f8"
         },
         "xaxis": "x",
         "y": {
          "bdata": "lktp1uDf+z9tqz+cI/n7P/GhJYqEDvw/EUQVKuEg/D+8pggGFzH8P9/e+acDQPw/awHjmYRO/D9cI75ld138P78S/+yscfw/6s9QP+eG/D/O+AL7gpz8P82Gp3/Yrfw/mg4BnyvM/D//01VPDu78P5QyatB0Dv0/0VXJFHwr/T95fPQGTE39P86ZKkocbv0/tl9wd1GK/T/2KkzBFKH9PzswnDZ2uv0/diFB42LS/T98OCqDRer9PzSbkbwG+/0/FziHsLAK/j/IkwTP3RH+P8QcwdtrHv4/cT7HNDMj/j+DjxQdHSP+P+GCVsIxI/4/iA75eckn/j8UkCmNNS7+PyiVmnm+M/4/PpvCsKw1/j8k/djfJEL+P6ONkcNrUP4/d9692hRg/j9coHyBDWz+P4kWvvuzff4/ufwx4I+I/j/+LnHI3Zb+P7Dznw2jrf4/c6n+nqrF/j+B9Sfcwt3+P3bpXlhJ+P4/wbKghVIY/z/OcoBhJD//P+9dm7V4Zf8/bH8tjueO/z+XQSbUvq7/P1/9Cqpgyv8/Y5XvpSDk/z8WitnGZfj/Pxs4evMqAwBAvYstORsHAECFW4vozwgAQGMhyRYYCwBAHSU97eoKAEAZ4vLVcw0AQNfJirE6DABAG7dwJ3QMAEB1FLyN5RYAQO3QhdFJIABAfHOuZrMmAECavlV4Ry0AQAvxxSHcMQBAIidM1tszAECgT5oQhDAAQAQcLEuuJABANVjx7TUOAEDof6xv//H/P5Wo2yxmtv8/yj7nlRB0/z/6/HqlOiT/P3lb0Eko3f4/YPkl16al/j/E0vpifGP+Pw4vPKcHI/4/GshuPbvn/T9MqY38HrP9P/hR/Pt0g/0/nH1G9HZQ/T991MyNiR39Pz6/h0XU6vw/Yn3blnvL/D8QEmnVHqz8P0rpMeBdmvw/rZ0WPtWU/D8+tbtXzZj8P6R4usMxp/w/v3+85re3/D83WziS/cb8P+MLdtgx0Pw/I0G+XhDS/D+UiHwlhcn8PxtN8puiuPw/acIEycWn/D8KL5FElZT8P6YC6ViMf/w/IAUlGyJq/D8EfUNfplb8P6J+0o7bQ/w/N4nDtKcv/D+/9oc6/Bz8P7GSqwOVBvw/PaM5uPrq+z9S0Z1bU8r7P/5GSHhgsvs/jhIFGMqX+z+CBSFiEIL7P079tI5RdPs/U7vPSWps+z9+JJBOymf7P5DjaeYGaPs/4cV/6oRt+z8OFCMwK3H7P4Ik9aLTb/s/WuJwxKVp+z9fDzlRWWH7P3EEgLT2Vfs/nEXrZ61L+z/M+cw9DED7P0b2GD70Lvs/TU40b40f+z/g4ezzPg/7P3ToPzM9BPs/2+2GNiX/+j8Tl6C8c/v6P0qhA0NV+/o/33NzXU/4+j9+g7PEIvX6P9ucWmX98fo/N0dkL7Hu+j9HxzWzWO36PyLKkoy06Po/fgIZmxjf+j/JwI1NGNb6Py/9D+YU0fo/MmgFtrXP+j+Ko3p+qs/6PwGVti4e1fo/4/4aKnvW+j/w5PgN79j6PzMVBCxA3fo/sPHCLTrj+j/6FZfqsuX6P8zzQsce4/o/3HgvDVXi+j/6j2Pwkdn6P95thODhzPo/JcIOGzC++j/6DariJLP6P556G0SBq/o/7SqwdQeg+j81oD+oHJr6P0G0vj5amfo/oeArMDqc+j8ZPuKSFZ76P5JksZBHn/o/pedVpNWb+j/nlKTAuJH6PxvFuYPciPo/tfasvw57+j9V9SZgymn6P9WTIsYKVfo/KF3ZT99B+j+EHa8DBTP6P3ogYOSYIvo/8WUQwyAW+j9B3BhyehD6P3eN7PZ4Avo/miQ+62Hx+T8BUCfZHeD5P0T35zxXy/k//EB+JQ+0+T+rOSfWJJ/5P24Ds1+lkfk/ndj2sPCD+T8EWb5eZ3f5P9q7t/Macvk/KM/E+Mxu+T9W+7sDdm35P+jil44Xa/k/XBk2eqJn+T+f3Fo6Jl35PyjyTD80V/k/wf1UkfpS+T80OIS950j5P7yHOe5xPvk/nCyKMgYy+T9j7nSj5CX5PyKs6ARUDvk/mRFJx5v5+D/qQA5KGOf4P+HJ+vkE1Pg/Fw6IO2HB+D92Uyj+fq34Py170b7Emvg/MRDSxeGL+D+dtSoWxoT4P0qIlnxvgfg/RkSPS217+D/AzDdHw3X4P85cQz4Lavg/LG0WkaVZ+D/wOD1Th034P/NaP7Z7SPg/BcVUA6BD+D9sL/UWpzf4P+LxUVgzLfg/he81wPkg+D8jEQM8XBX4P1DA6ZBeCfg//5Sn8FH/9z+9AAsCy/j3P9vrJNLL7/c/cN9MnUbk9z+Kpcj1pNr3P3j0STW+1fc/VSgDlj/Z9z9AAe27YNr3P+nH9GWT2vc/pS6Th3zY9z8fC4/SKdv3P+eK8ooO3/c/ZVnxoWPj9z/MjcGZZen3P2UXR9LM8fc/bWiZbZP99z+UDCl+ngf4Pz6vcILwD/g/BtDYYvYa+D9rfI5MMCT4P1GHBynlKvg/W8AJZUss+D9hc9IGvzH4P/9ZB1XHNvg/J8ZVSho7+D/VwjaFM0H4Px3fUI0OSPg/uTk7rmZQ+D9QN4xAc1j4P5/uSI5WYfg/dzWGrYdp+D9T9WeMR3L4P+k8nnI7ffg/7sBjm/iK+D8r57JzNpj4P7VSXfqVpPg/IO7hvryu+D/RQabvTLX4P9hwu/CGvfg/gXFxExzK+D+k7jg7FNX4P2XmOLcN3Pg/SW3ojsDj+D/pbIg3EOz4P9MeOMJC9/g/tLTcHNsF+T93mHaEHxf5PwLNSGJqKvk/6i0I+og8+T+t3uaWqEv5P58lfnseWPk/gg1M4ahn+T+Aikb68nX5P8QWQMJygPk/kWY10ZKF+T9txkxRgIn5PxaDOCehjvk/2wgRN96T+T/evadaiZr5P505ISl3oPk/K/FESlyj+T82ZedwjqT5P23YU/sbpvk/27iGqLCl+T+Te/8y/qj5P/NaEFlopvk/8CFY0lOf+T/oY1tLco75PzinGr5tg/k/YrWTKfN4+T/I91nht3H5P8oYeSnVbvk/j6YQpJJ2+T9NIc1ZTX75P/tmYdRDfvk/RqKoP0B0+T9zS4BGsVj5P4Y48tpPLvk/TOH2oo3++D+ZlpEn1Mn4P2MQnWpNmfg/lhPP8+Rp+D9FSX6pdEb4P2zyYmCSL/g/ob0EwQIw+D9QjneQZUT4P1F8IX/Kavg/OOJyqjKZ+D9pnvIRecf4P8qM1Twk8Pg/hBKIHW4O+T86DlS6bSr5PyW+ZwWXR/k/ZPru6SZl+T8sldgjrHn5P1QFGewMhPk/gme+P1yG+T9kIZjE14f5P8A6Yt/nh/k/txh2prmC+T9XEx3b+Xv5P/eb/GFMdvk/c7JGZ5hv+T8rQTUTTWr5P6hld8lrZfk/96wVKIFk+T8Md4rXVWn5P1pZRuqJb/k/0yRO0gVr+T98SzBSGXP5P0MgFUyDgfk/b9+Wu4yQ+T/i1rSpgp/5P3znDJb6rPk/IhI8MRC5+T/FecCpWMb5Px5v48Uq0vk/AIIzjTja+T8wjr5dMt35P/JDhxBY3/k/xZFmkSvm+T+vfGeY4Or5P7IypZ8e7Pk/uBd88wr3+T/Fc9iyDf/5PzlpbQvtCfo/GM4+1oIV+j/rlgy9ICP6P3ujjrOMNPo/ibPBMUFI+j9AHS4BXVf6P51BminJWvo/B5JL+IRX+j837ZX5AlX6PztjhMh+VPo/CUpLAllS+j9Lu1Uibkz6P8Puiej8RPo/EA1LVI5E+j92x0VNHFH6P7jRrG04Zvo/WePk3yqC+j9q2uNee6H6P0iv2YoFv/o/pO+CPjHW+j/8MNNb2eT6P7Z/UQvb9/o/iPjogsIJ+z/I2FCNWRb7P0k9iA9yH/s/wqjo+wsn+z9QohlfYDH7P8su+vYKRvs/4+LK2mpa+z+NPbEgz3H7Pxcmbwunhfs/wVCipyeR+z8gxZYA6Jj7P5V7bJgRmvs/l4Dfi6Cb+z+RHiH3u5/7PxeEbkX+nfs/JF/UH06Y+z/0CCy3f5X7P5aYSxh4lvs/XZ1waaCZ+z+7lLxICaH7Pw+nQvRLp/s/Pq1hg9uv+z/P3rpzILT7P9E3HwoJr/s/tjpmKp+t+z/DJujSVqj7Pz6ewDm5pPs/hzJDWGek+z8WylRg1ab7P+Cgg7Kip/s/36GE/Diw+z+TolWTMbv7P0zcB7JzyPs/KOnB/gnY+z810UxctOr7P1YF+jpJ+/s/dQf4Kk8I/D80tneE7A/8PwAhKXPtF/w/aN16/xsa/D99pyTZ0xf8P6fpNApZG/w/FiLrVp4e/D+OIT3zsSD8P9QwCWzoJfw/1UMekxcr/D9A8jN3Fi38P2uUPjR9Kvw/seAYKrwn/D8NkqtZuiT8P1kFH0n+Ivw/qNkpvPUk/D8TR0BXSyz8P/oCc60bMvw/sG1pDrk3/D9yT9dVs0n8Pwl3P4kDYvw/Q2sN385//D/IyFa/4538P5VQSId3u/w/JN2S2erR/D+0hB+sB+L8P1iG/krR7Pw/MICXxoDv/D9Jql2QOe38P8Wbe29J6fw/PMb6g3vj/D8x0TZKWdT8P0V1PN0Vy/w/Xt5Ctr/G/D/dFEtrqsr8P6MYlT1A0Pw/s7LUbC3Y/D8uPqkxZOL8P0x4K91e6fw/MFdUG/7v/D/6iYpAefT8P8YpmT7n8/w/2IdK7bDz/D9fkCz3d/b8P3yWOIiG+Pw/aImo8of4/D/dY3H4Pvz8P2BS3UbK+vw/O6a1FhX9/D9JuNGjTP78Px9y56nt/vw/DQ+loo7//D/wh8jZMvr8P9IKm2AN+vw/8BnmBan5/D/YSHyG4fj8PwpSPcmB/fw/FzMFBEsF/T+DL0mUoBD9P6TLTHcrGv0/BRHx/bUl/T/ia/aT+jT9PzTZvKBRPP0/YWBevDY+/T/iOyDm2TT9Px7ek8bEKP0/flfTOhQW/T+F4QND1Bb9P1JWBbdyGv0/ZXOs1x0e/T9Yd/oskyL9P3gprN7DH/0/BXAAq20l/T+TAJxRZyX9P8vcFmvHJP0/K6boGDYc/T/OYvB1iwP9PxBrSpTO5fw/IUjs7VbB/D8wTqvS9qT8Pxr/Rd1pifw/f1xFqhSA/D/PwGj9OnP8P8kV5CqcYfw/EUd4nURQ/D9M8Y44Ij78PwuubWygNvw/sDIoZPkk/D+pAB5pugn8P8aEvUJZ8fs/ONmg3bTc+z9NEi0SO8n7P4VOhYLEs/s/zMAtoBWd+z8yO5t2kIb7Pz2ye2D/cfs/c4T5Fqtb+z9f4RptRkb7PxIPeY5ON/s/BnXMkjws+z/R4bjoeh/7P6l6plfPDPs/Iw1azpb5+j/zdwpNa+36Pzfhj+NM4/o/NOK2FCHW+j/KxTX5Rb/6P98TC+x/p/o/KMGECbOP+j/8mjmHzHD6P+UxdDp3TPo/8ttkUMUj+j/JoHbAvgD6P+vZyGz/3fk/r/t0TR29+T8Pz8D9fqb5P3i4EY8kmfk/MTSS0JCO+T8qow0olIb5P0LoWsppevk/qWFJ5ctq+T9QBzZ90V35P4K2HD+HS/k/9DJu9RA3+T9HogmirQ75P++S2Gol7fg/vuy90I7S+D/xY6HR+bz4P/lVyKaCrvg/VdysGQGn+D8y/c5QM5v4P1xzfWG3ivg/Bjedxfpz+D9V+KSmIFb4P1hHwS8iOfg/Qe4mngAa+D/IACI/bPT3P8teGNCQyfc/WakgSXmS9z+U2zouyWj3P+2qx0MGPvc/4SoCFegZ9z/4FND7CfP2P+nqIMMyy/Y/TO2oNy2i9j8LaGkIcHz2Pyzb8C4EWfY/i0DIBMY09j9Igv0YzxX2P+brXYAV+fU/GjvUQ6Dd9T81h89QYMP1P6xBsicCqPU/6C1qOgeM9T/VZl1l5m31P6pzvVXAS/U/6tXsNjsj9T/iv48JzPn0P0N3BQDB0/Q/cUQg78aw9D+Q5HIgIY/0PwhmNsCGbvQ/d3I2bH1W9D+nJLsirUb0Pxhgd0IfN/Q/OeltAEQr9D8sf6MrTx/0P8dBLdO1DvQ/vko1GdP58z/4e5+cd+XzP+ZRRGXb1fM/4YOaxd/G8z+u7TshubjzP+CYDb4Oq/M/NCyW2v+d8z8Z5aLb3pnzP2g10Q/RmfM/r5Ph83CY8z94P/WgPJjzP5OJmdFsnfM/saYDjnmi8z+u/wV2IaTzP4SwurKwovM/ivTifgin8z9uQ1P15a3zPxXgTc8ssPM/BGKq07Ww8z/raVM9FLDzP4npLGK7sPM/B/z2ltW18z/Vn7OyO7TzPzW/q90WsfM/debJsASn8z+2DFFWmprzPweyl8Z0lfM/T9Liz7CO8z+wIsCdaIrzP+zDOPAMj/M/Jo/Y1/OS8z8o74YUcqLzPzAC1FA8rPM/pBYfFJO18z8gCuo5obTzP98s9l/7qvM/KHae4uie8z/MnLAYnJDzP/DLLMKNg/M/LhTUTWR/8z9qzmo8M4fzP45ubWdcjfM/dcfflCaR8z9m2gyY0ZTzPzmjphSblPM/O9d4fgGf8z/vpWbIZJrzP/XYUGZkifM/aZ66QnNr8z+HRVWSfEzzP26o3bG4K/M//z70ZnYM8z8bFae8nvHyP5sd6gjX0/I/ncSeS5O58j9QHRg0x5zyP0pr8FEhffI/PCLdPZde8j/sbANceUbyP2OKHMwKNvI/Hw/AHVgj8j/QI+p00w7yP86gA0J+AfI/bB3GCM/x8T+EApEai97xPx5E/6xu0vE/9EfGWEjJ8T/tQIscIsbxP28Ev8D0yfE/qvVE0qvR8T8sqU+vidrxP9751Nvu5PE/EKgYbZv38T8xGS6UYQvyP3Q8xHrxH/I/O2yGTPwy8j8jDB4/5EPyP22sUVuQUfI/Jb2yvYde8j/LaosL6GbyP57VLGBDcPI/iY/KSD168j8QMz4WvIbyP+9MVAuJlfI/cbkJA3Ol8j8sKBhzurzyP8VljFCf1vI/wF6RwYfx8j9NGSsJlgrzPwuxVL8lIvM/CCfTHvo48z/XLtS1SU7zPwSupFnEX/M/7lzF+bZt8z8Yqc9/JHzzP5clI7LOhfM/ZZ1+3PKO8z9cQMnpopfzP7vIkbw9nPM/WUPIaD+e8z9VNxkBlJzzP9PsDjBVmvM/NgqMlvqW8z+8JZdQ6pPzP+YWSZ4bkfM/T+f1+z+Q8z+GKjDKX47zP13GD41JjPM/L+g0hgOM8z8pAt66ZonzP2cx9h7piPM/0awXk2SK8z+Izf9bjInzP+fah+dliPM/cYFUZQiJ8z8DOUw1h43zP6nfUYm4kvM/KAQp642U8z/znjmUf5PzPxo6C+q+kvM/UjYUnEaR8z9W3kSrrZDzP7Du/upsk/M/8T6jia2Y8z+q03l62J/zP4zAb+R8rPM/IXG+x/vA8z8JMV8GE9nzP3SHqKKW9vM/fza9S0ga9D+U28kdGD30PxUyU/PuXvQ/6oUWykN/9D8xReR2fKL0P/GMkmqKv/Q/KNJRUWXY9D8e2CZrw+/0PzWlK+r8BPU/9DffcNEU9T8XZOBsIyb1Pz+np6rrPPU/ajmG1d9N9T8EN7+ThF71P7OIwxjEbvU/mx3BKE979T9sHD3q6Ij1P9HJblXWlPU/P8rsYg2e9T9taT7YiZ71P5BlMoMfoPU/yNWlaO2e9T+AuMP1qZn1P4BcvAukj/U/pXhFWSSB9T+E/5M4L3L1P0UHz6JYXPU/Zk5ucwJI9T8YP+uymTL1P7VH8UbMHPU/lKNpBS8L9T9gtV/87fr0P/elm/ru7PQ/QW2PTlTi9D8nzPioTtz0PxvxEdtS1/Q/v5FM3MTT9D8cbhfGJtH0PztKpL/l0vQ/ykYDHDHY9D/Ftcmyhtz0P+u3oQ6C4fQ/sc+0FAfj9D+OS/Xgk+H0P86wbNgC3fQ/hvQH2CTa9D9qkKWo9dr0P6LI1Ns13vQ/s9eMtj/d9D+nYrWpItv0P1uXv8h82vQ/x8Bmk8bd9D9UI/oOSOL0PxKBQhaX4vQ/vaHTjPTi9D8wikSBaeP0P0tragl12vQ/GUX1U4PM9D9OY2dIqb70Py03VlVms/Q/9qJdVsen9D/BXaK63J70P1WO6WvzlvQ/snw/91mV9D8jl2u4dZf0P9bwL4TbnPQ/q1vcHvKh9D9bQsLRSKH0P8nyNACoofQ/0qUUux2g9D/halgzY5f0P5eIdrT0i/Q/SlQTVrZ/9D8odXbN/Gz0P5fy7DJTWvQ/op0YJLZJ9D8IryunpT30P3UdLNHKNPQ/NhFagtcu9D98rkJsWC30Pxuo1LwVLvQ/cFkexK8r9D+KMzFToC30P09ZcoSFMPQ/NVdWZFQz9D8W1IEggjT0P9m995qYNvQ/gihkZt829D86NN+lVTn0Pw5je2PiPPQ/8di4AeNF9D+9K8jhNVL0P1oWthPKYfQ/9k4HWtB29D+xk8znz4/0P13bg3hdqvQ/iTh9n7HH9D8m/K72H+b0PzmuxC3cB/U/V5XfHGco9T8gMAzWLkn1P2XZI7DeavU/m5uQtKSN9T9s5IVNLbD1P+mItyvz0fU/zPUcklrz9T/ICfjbRRX2Pzigie56OvY/qUQg4Vlh9j93eOLc1Yn2PyOcLU8fsvY/AIrTDQfZ9j9hT6viWP72PyR4cOG/IPc/B5jfNcE+9z/u9phTV1j3P2SU8gpVcfc/yKCIgiqI9z/vwDowsZ73P4p4Fsj7tfc/j+joyn3P9z+aZrFd2O33PySnGzXFBvg/pxq1YB0k+D+Tus6SgkL4PyME5r1/Xvg/n9WSVxh/+D/O6lEgGpj4P1A+vbYKqvg/lZHlJiez+D+Xk3/kkcP4P4sbCdZ00/g/niP4tTri+D94nc83qO/4Pw5cbyAN+vg/UanFbq/9+D+NSUGtGvb4PyMlzLXM9Pg/Wzs87Tj3+D9KKJZzbPj4P9j+YJQE//g/Cs2Zdd39+D9ZalLUAvr4P1JhgWZp9vg/ezCuH2r7+D9esLSrtQH5P3ld/CEzAfk/WFCZB+b++D//b41ioe34PzKg+dcN3Pg/BkB0U3TK+D/gCua5Hbz4P8CXTElMtPg/HMVTghSs+D93rqMm8aH4Pzyb7oJ2lvg/i8jifCyG+D+Hna/IxXf4P1ZLJhV3Xfg/9SmO1qU9+D8Vflpb7xz4P665ZPfCAPg//b4K+z/h9z/iOSDjk873P4Z8MAqpvfc/E85PwwKt9z8FZ96eLJ33P++VXtL6ifc/wR5o5pJv9z+nzOMMMlL3PxKVFCyCKPc/ixwdcb729j+1eIqehLv2PwScrgBFhvY/c9tiCV1d9j/DvnLm3zj2P7rvm1lrH/Y/NMtu7JQO9j9XRzFzqAT2P2JiMFm9+/U/MHu1inTu9T/48uxcbt71P6jc3N+RxPU/FQ8fw4Sg9T+oGEO753L1PxPBHnqYRvU/yPCMcloa9T9YJxqHAez0P++nIK77vPQ/6tFL8ZCQ9D/t1AKEIGf0P31ckDfqPfQ/tdAdQmgY9D99369rPO7zP5cVkgpbwPM/oU/0oreR8z/0q8tfO1/zPx3rb0YUK/M/KxaD60f+8j+/m06LitTyP8Z5FPqcqPI/UNnPYHR68j/qI0kA5lDyPzkn4jq9JfI/Rdso7qXz8T+Z1eDZpczxPw4ULID2pfE/kR1pF6p+8T/Euk4uo1jxPxdKCkn5NvE/FwN1+r0W8T+Ri179fvjwP82qwOU34PA/TD5lNGXC8D8knk6K0qjwP7vdtDoGkfA/8BiLPvx78D8CdRRvFGfwP3bUXcCIUvA/QXUeRMNF8D/FVjjrPDvwPzPOoBbqMPA/LzMrIsMp8D8sG3wwoxzwPyOkNd3FGvA/RApEyQ0S8D86VX0GwwXwP7gOnP2z3O8/JkL0aZa77z/FkYa9YIjvP4rDo6Jta+8/aXZ6FHxX7z9ehMffhi7vP+Px0t9pD+8/j//YyVME7z9KaI3Lt/XuP+V99EXOA+8/IaRFqTgL7z+KxmM9PDDvPxJjWCGoOe8/PqGvwFxB7z/7QRX7lTvvPz5N7FFeUe8/2bq06G1B7z+uxGdbDUHvP5RgVHxIJO8/atgc4SLS7j+dNqzSwJTuP8Rmy28pa+4/7gKpkXtB7j89WsdtmC/uPxjVHnhzOO4/e6337Alf7j9NjlO0PZXuP4e4EbPY4u4/OzcIR4BA7z8Lczdolq7vP11tMrkDCvA/+94o4b9H8D+poZ0Yb3jwP/WXxobpmvA/p/8ue03E8D+XuFMWSerwPxaN5doeA/E/1vjRMUYg8T/hup9V9znxPwbMLDxjU/E/zlXiWfxh8T8jK2kCqHPxP+a0FeDWifE/JEHqNlOk8T+bsFsRXcDxPxoCLmx64fE/qDWflBn58T8FY6XwDQvyP42g3eCEGPI/hpcfDBol8j/Q7S1xITPyP0C1gMhUQ/I/FuZaq+dQ8j8vvM6lA2fyP2iPPDuObvI/J1fACoyA8j9iDaPJsZXyP8y4tTDLpfI/UrGNV/ux8j/dpWwSlcHyP5dHxONLyvI/XuZZF+zV8j+aqxxEOOXyP4zS+ZOM+vI/g47a5uAN8z/oDnnXDiTzPx2TR0NFQPM/yRAOrJRU8z/SQ7sRgV3zP9Tls4QzavM/yVNeusp08z/L+Rulr3rzP8E+hURegfM/f7IpiCmG8z/H0SwXJIrzP3pP4fU1kvM/ytR4u7CU8z/Z7oVNS5XzP7m5qECXjPM/y7cOTjeJ8z9eX3OXbIbzP/dbDDdGfPM/AwspliJx8z85IW/IjWjzP1dgAftAX/M/G77LaUpV8z+0LV43RE3zP/l2Pah1R/M/CSwSXpBE8z8hz0jfyEHzPzx4rW5wPvM/1CfAEy8+8z8Ay6rk6zfzP2N5XmENNPM/5V3wznEx8z8oDBCO8yvzPwWdhjBtJfM/s7egzBUd8z9x8LlmhxLzP84jv3mgDPM/rylCYucJ8z+ZKq5EcQnzP6k2bYz4CfM/SVMsWSAK8z8G5N4mggfzP+1QaPlbAvM/9xpIvef48j/acfSd6/LyP3kxZxDr8PI/Dn5MQMTu8j8JaDyKUO/yPwARnUyu8PI/EqXiKKH38j82/Bg56gPzPxdK4un1EPM/PhC9mOQb8z+5zyjUEibzPwX7jkD4LvM/Nb6eIo0x8z8uFZPLcDHzP/QuMcN1LvM/ZH3bxh8o8z96VFjtAiLzPw3kc+d3HvM/eMpBtswe8z+ENNK44CDzP7ee/ke2KPM/xMnFleY08z/KBS7RQkXzP1l3XV6vWfM/6K7cSEBz8z/K2sF57I7zPz8jasYHrPM/dyF7pujJ8z9Xaxjt1eXzP8F+9dxw//M/95SGlLUY9D8wJA6cbjT0P/lXtjF5T/Q/IHKtUaxp9D/4UkoM8oL0P4rhRnrNnPQ/LtYAi7+59D9WdF1+n9r0P4vJUTgI/vQ/iybmxRQk9T9H+CVBCk71P725wfd2e/U/2xrlJLSq9T+r+cwSs9v1Pyhwfnv7CvY/fikpyFg59j+iVCHFumL2PzfOOOJ5h/Y/khg39Aal9j/LznxQu7/2PxmOxvY/3/Y/zavciY4A9z/+3cvxqx33P1Cfnc3VOvc/m25hoJlV9z8pv49qw3P3P9OJAKkdmvc/MpHGTE+99z9qinoW/uH3P3F2BAy5BPg/jUWHyIUi+D/lp+DPUT74Pwwo12lhV/g/ALsD7ihs+D8LgR77X434P+ku+uKpo/g/dM1cUL+4+D+qOqSsDc34P5pULmEC4fg/UvlY1wr1+D/iBoJ4lAn5P1hbB64MH/k/",
          "dtype": "f8"
         },
         "yaxis": "y"
        },
        {
         "line": {
          "color": "blue",
          "width": 3
         },
         "mode": "lines",
         "name": "DVL Distance",
         "type": "scatter",
         "x": {
          "bdata": "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",
          "dtype": "f8"
         },
         "xaxis": "x",
         "y": {
          "bdata": "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",
          "dtype": "f8"
         },
         "yaxis": "y"
        }
       ],
       "layout": {
        "height": 600,
        "hovermode": "x unified",
        "template": {
         "data": {
          "bar": [
           {
            "error_x": {
             "color": "#2a3f5f"
            },
            "error_y": {
             "color": "#2a3f5f"
            },
            "marker": {
             "line": {
              "color": "#E5ECF6",
              "width": 0.5
             },
             "pattern": {
              "fillmode": "overlay",
              "size": 10,
              "solidity": 0.2
             }
            },
            "type": "bar"
           }
          ],
          "barpolar": [
           {
            "marker": {
             "line": {
              "color": "#E5ECF6",
              "width": 0.5
             },
             "pattern": {
              "fillmode": "overlay",
              "size": 10,
              "solidity": 0.2
             }
            },
            "type": "barpolar"
           }
          ],
          "carpet": [
           {
            "aaxis": {
             "endlinecolor": "#2a3f5f",
             "gridcolor": "white",
             "linecolor": "white",
             "minorgridcolor": "white",
             "startlinecolor": "#2a3f5f"
            },
            "baxis": {
             "endlinecolor": "#2a3f5f",
             "gridcolor": "white",
             "linecolor": "white",
             "minorgridcolor": "white",
             "startlinecolor": "#2a3f5f"
            },
            "type": "carpet"
           }
          ],
          "choropleth": [
           {
            "colorbar": {
             "outlinewidth": 0,
             "ticks": ""
            },
            "type": "choropleth"
           }
          ],
          "contour": [
           {
            "colorbar": {
             "outlinewidth": 0,
             "ticks": ""
            },
            "colorscale": [
             [
              0,
              "#0d0887"
             ],
             [
              0.1111111111111111,
              "#46039f"
             ],
             [
              0.2222222222222222,
              "#7201a8"
             ],
             [
              0.3333333333333333,
              "#9c179e"
             ],
             [
              0.4444444444444444,
              "#bd3786"
             ],
             [
              0.5555555555555556,
              "#d8576b"
             ],
             [
              0.6666666666666666,
              "#ed7953"
             ],
             [
              0.7777777777777778,
              "#fb9f3a"
             ],
             [
              0.8888888888888888,
              "#fdca26"
             ],
             [
              1,
              "#f0f921"
             ]
            ],
            "type": "contour"
           }
          ],
          "contourcarpet": [
           {
            "colorbar": {
             "outlinewidth": 0,
             "ticks": ""
            },
            "type": "contourcarpet"
           }
          ],
          "heatmap": [
           {
            "colorbar": {
             "outlinewidth": 0,
             "ticks": ""
            },
            "colorscale": [
             [
              0,
              "#0d0887"
             ],
             [
              0.1111111111111111,
              "#46039f"
             ],
             [
              0.2222222222222222,
              "#7201a8"
             ],
             [
              0.3333333333333333,
              "#9c179e"
             ],
             [
              0.4444444444444444,
              "#bd3786"
             ],
             [
              0.5555555555555556,
              "#d8576b"
             ],
             [
              0.6666666666666666,
              "#ed7953"
             ],
             [
              0.7777777777777778,
              "#fb9f3a"
             ],
             [
              0.8888888888888888,
              "#fdca26"
             ],
             [
              1,
              "#f0f921"
             ]
            ],
            "type": "heatmap"
           }
          ],
          "histogram": [
           {
            "marker": {
             "pattern": {
              "fillmode": "overlay",
              "size": 10,
              "solidity": 0.2
             }
            },
            "type": "histogram"
           }
          ],
          "histogram2d": [
           {
            "colorbar": {
             "outlinewidth": 0,
             "ticks": ""
            },
            "colorscale": [
             [
              0,
              "#0d0887"
             ],
             [
              0.1111111111111111,
              "#46039f"
             ],
             [
              0.2222222222222222,
              "#7201a8"
             ],
             [
              0.3333333333333333,
              "#9c179e"
             ],
             [
              0.4444444444444444,
              "#bd3786"
             ],
             [
              0.5555555555555556,
              "#d8576b"
             ],
             [
              0.6666666666666666,
              "#ed7953"
             ],
             [
              0.7777777777777778,
              "#fb9f3a"
             ],
             [
              0.8888888888888888,
              "#fdca26"
             ],
             [
              1,
              "#f0f921"
             ]
            ],
            "type": "histogram2d"
           }
          ],
          "histogram2dcontour": [
           {
            "colorbar": {
             "outlinewidth": 0,
             "ticks": ""
            },
            "colorscale": [
             [
              0,
              "#0d0887"
             ],
             [
              0.1111111111111111,
              "#46039f"
             ],
             [
              0.2222222222222222,
              "#7201a8"
             ],
             [
              0.3333333333333333,
              "#9c179e"
             ],
             [
              0.4444444444444444,
              "#bd3786"
             ],
             [
              0.5555555555555556,
              "#d8576b"
             ],
             [
              0.6666666666666666,
              "#ed7953"
             ],
             [
              0.7777777777777778,
              "#fb9f3a"
             ],
             [
              0.8888888888888888,
              "#fdca26"
             ],
             [
              1,
              "#f0f921"
             ]
            ],
            "type": "histogram2dcontour"
           }
          ],
          "mesh3d": [
           {
            "colorbar": {
             "outlinewidth": 0,
             "ticks": ""
            },
            "type": "mesh3d"
           }
          ],
          "parcoords": [
           {
            "line": {
             "colorbar": {
              "outlinewidth": 0,
              "ticks": ""
             }
            },
            "type": "parcoords"
           }
          ],
          "pie": [
           {
            "automargin": true,
            "type": "pie"
           }
          ],
          "scatter": [
           {
            "fillpattern": {
             "fillmode": "overlay",
             "size": 10,
             "solidity": 0.2
            },
            "type": "scatter"
           }
          ],
          "scatter3d": [
           {
            "line": {
             "colorbar": {
              "outlinewidth": 0,
              "ticks": ""
             }
            },
            "marker": {
             "colorbar": {
              "outlinewidth": 0,
              "ticks": ""
             }
            },
            "type": "scatter3d"
           }
          ],
          "scattercarpet": [
           {
            "marker": {
             "colorbar": {
              "outlinewidth": 0,
              "ticks": ""
             }
            },
            "type": "scattercarpet"
           }
          ],
          "scattergeo": [
           {
            "marker": {
             "colorbar": {
              "outlinewidth": 0,
              "ticks": ""
             }
            },
            "type": "scattergeo"
           }
          ],
          "scattergl": [
           {
            "marker": {
             "colorbar": {
              "outlinewidth": 0,
              "ticks": ""
             }
            },
            "type": "scattergl"
           }
          ],
          "scattermap": [
           {
            "marker": {
             "colorbar": {
              "outlinewidth": 0,
              "ticks": ""
             }
            },
            "type": "scattermap"
           }
          ],
          "scattermapbox": [
           {
            "marker": {
             "colorbar": {
              "outlinewidth": 0,
              "ticks": ""
             }
            },
            "type": "scattermapbox"
           }
          ],
          "scatterpolar": [
           {
            "marker": {
             "colorbar": {
              "outlinewidth": 0,
              "ticks": ""
             }
            },
            "type": "scatterpolar"
           }
          ],
          "scatterpolargl": [
           {
            "marker": {
             "colorbar": {
              "outlinewidth": 0,
              "ticks": ""
             }
            },
            "type": "scatterpolargl"
           }
          ],
          "scatterternary": [
           {
            "marker": {
             "colorbar": {
              "outlinewidth": 0,
              "ticks": ""
             }
            },
            "type": "scatterternary"
           }
          ],
          "surface": [
           {
            "colorbar": {
             "outlinewidth": 0,
             "ticks": ""
            },
            "colorscale": [
             [
              0,
              "#0d0887"
             ],
             [
              0.1111111111111111,
              "#46039f"
             ],
             [
              0.2222222222222222,
              "#7201a8"
             ],
             [
              0.3333333333333333,
              "#9c179e"
             ],
             [
              0.4444444444444444,
              "#bd3786"
             ],
             [
              0.5555555555555556,
              "#d8576b"
             ],
             [
              0.6666666666666666,
              "#ed7953"
             ],
             [
              0.7777777777777778,
              "#fb9f3a"
             ],
             [
              0.8888888888888888,
              "#fdca26"
             ],
             [
              1,
              "#f0f921"
             ]
            ],
            "type": "surface"
           }
          ],
          "table": [
           {
            "cells": {
             "fill": {
              "color": "#EBF0F8"
             },
             "line": {
              "color": "white"
             }
            },
            "header": {
             "fill": {
              "color": "#C8D4E3"
             },
             "line": {
              "color": "white"
             }
            },
            "type": "table"
           }
          ]
         },
         "layout": {
          "annotationdefaults": {
           "arrowcolor": "#2a3f5f",
           "arrowhead": 0,
           "arrowwidth": 1
          },
          "autotypenumbers": "strict",
          "coloraxis": {
           "colorbar": {
            "outlinewidth": 0,
            "ticks": ""
           }
          },
          "colorscale": {
           "diverging": [
            [
             0,
             "#8e0152"
            ],
            [
             0.1,
             "#c51b7d"
            ],
            [
             0.2,
             "#de77ae"
            ],
            [
             0.3,
             "#f1b6da"
            ],
            [
             0.4,
             "#fde0ef"
            ],
            [
             0.5,
             "#f7f7f7"
            ],
            [
             0.6,
             "#e6f5d0"
            ],
            [
             0.7,
             "#b8e186"
            ],
            [
             0.8,
             "#7fbc41"
            ],
            [
             0.9,
             "#4d9221"
            ],
            [
             1,
             "#276419"
            ]
           ],
           "sequential": [
            [
             0,
             "#0d0887"
            ],
            [
             0.1111111111111111,
             "#46039f"
            ],
            [
             0.2222222222222222,
             "#7201a8"
            ],
            [
             0.3333333333333333,
             "#9c179e"
            ],
            [
             0.4444444444444444,
             "#bd3786"
            ],
            [
             0.5555555555555556,
             "#d8576b"
            ],
            [
             0.6666666666666666,
             "#ed7953"
            ],
            [
             0.7777777777777778,
             "#fb9f3a"
            ],
            [
             0.8888888888888888,
             "#fdca26"
            ],
            [
             1,
             "#f0f921"
            ]
           ],
           "sequentialminus": [
            [
             0,
             "#0d0887"
            ],
            [
             0.1111111111111111,
             "#46039f"
            ],
            [
             0.2222222222222222,
             "#7201a8"
            ],
            [
             0.3333333333333333,
             "#9c179e"
            ],
            [
             0.4444444444444444,
             "#bd3786"
            ],
            [
             0.5555555555555556,
             "#d8576b"
            ],
            [
             0.6666666666666666,
             "#ed7953"
            ],
            [
             0.7777777777777778,
             "#fb9f3a"
            ],
            [
             0.8888888888888888,
             "#fdca26"
            ],
            [
             1,
             "#f0f921"
            ]
           ]
          },
          "colorway": [
           "#636efa",
           "#EF553B",
           "#00cc96",
           "#ab63fa",
           "#FFA15A",
           "#19d3f3",
           "#FF6692",
           "#B6E880",
           "#FF97FF",
           "#FECB52"
          ],
          "font": {
           "color": "#2a3f5f"
          },
          "geo": {
           "bgcolor": "white",
           "lakecolor": "white",
           "landcolor": "#E5ECF6",
           "showlakes": true,
           "showland": true,
           "subunitcolor": "white"
          },
          "hoverlabel": {
           "align": "left"
          },
          "hovermode": "closest",
          "mapbox": {
           "style": "light"
          },
          "paper_bgcolor": "white",
          "plot_bgcolor": "#E5ECF6",
          "polar": {
           "angularaxis": {
            "gridcolor": "white",
            "linecolor": "white",
            "ticks": ""
           },
           "bgcolor": "#E5ECF6",
           "radialaxis": {
            "gridcolor": "white",
            "linecolor": "white",
            "ticks": ""
           }
          },
          "scene": {
           "xaxis": {
            "backgroundcolor": "#E5ECF6",
            "gridcolor": "white",
            "gridwidth": 2,
            "linecolor": "white",
            "showbackground": true,
            "ticks": "",
            "zerolinecolor": "white"
           },
           "yaxis": {
            "backgroundcolor": "#E5ECF6",
            "gridcolor": "white",
            "gridwidth": 2,
            "linecolor": "white",
            "showbackground": true,
            "ticks": "",
            "zerolinecolor": "white"
           },
           "zaxis": {
            "backgroundcolor": "#E5ECF6",
            "gridcolor": "white",
            "gridwidth": 2,
            "linecolor": "white",
            "showbackground": true,
            "ticks": "",
            "zerolinecolor": "white"
           }
          },
          "shapedefaults": {
           "line": {
            "color": "#2a3f5f"
           }
          },
          "ternary": {
           "aaxis": {
            "gridcolor": "white",
            "linecolor": "white",
            "ticks": ""
           },
           "baxis": {
            "gridcolor": "white",
            "linecolor": "white",
            "ticks": ""
           },
           "bgcolor": "#E5ECF6",
           "caxis": {
            "gridcolor": "white",
            "linecolor": "white",
            "ticks": ""
           }
          },
          "title": {
           "x": 0.05
          },
          "xaxis": {
           "automargin": true,
           "gridcolor": "white",
           "linecolor": "white",
           "ticks": "",
           "title": {
            "standoff": 15
           },
           "zerolinecolor": "white",
           "zerolinewidth": 2
          },
          "yaxis": {
           "automargin": true,
           "gridcolor": "white",
           "linecolor": "white",
           "ticks": "",
           "title": {
            "standoff": 15
           },
           "zerolinecolor": "white",
           "zerolinewidth": 2
          }
         }
        },
        "title": {
         "text": "🔄 Interactive Distance Comparison: Sonar vs DVL"
        },
        "xaxis": {
         "anchor": "y",
         "domain": [
          0,
          1
         ],
         "showgrid": true,
         "title": {
          "text": "Time (seconds)"
         }
        },
        "yaxis": {
         "anchor": "x",
         "domain": [
          0,
          1
         ],
         "showgrid": true,
         "title": {
          "text": "Distance (meters)"
         }
        }
       }
      }
     },
     "metadata": {},
     "output_type": "display_data"
    }
   ],
   "source": [
    "fig, comparison_stats = iau.ComparisonEngine.compare_sonar_vs_dvl(distance_results, raw_data, sonar_coverage_m=sonar_coverage_meters, sonar_image_size=image_shape[0], use_plotly=True)\n",
    "fig.show()"
   ]
  },
  {
   "cell_type": "code",
   "execution_count": null,
   "id": "50f97352",
   "metadata": {},
   "outputs": [
    {
     "name": "stdout",
     "output_type": "stream",
     "text": [
      "🎬 GENERATING VIDEO WITH DUAL NET DISTANCE OVERLAYS\n",
      "============================================================\n",
      "🎯 Target Bag: 2024-08-20_14-22-12\n",
      "📊 DVL Data: 613 records\n",
      "📏 Sonar Analysis: 1098 frames\n",
      "🤖 Auto-detect video: enabled (PNG frames + index.csv)\n",
      "⏱️  Sync tolerance: 2.0s\n",
      "🛠️ OPTIMIZED SONAR VIDEO\n",
      "======================================================================\n",
      "🎯 Target Bag: 2024-08-20_14-22-12\n",
      "   Cone Size: 900x700\n",
      "   Range: 0.0-5.0m | FOV: 120.0°\n",
      "   🔍 Auto-detecting video files for bag: 2024-08-20_14-22-12\n",
      "   ✅ Found video frames: 2024-08-20_14-22-12_video__image_compressed_image_data\n",
      "   📁 Using frames directory: /Volumes/LaCie/SOLAQUA/exports/frames/2024-08-20_14-22-12_video__image_compressed_image_data\n",
      "   🎥 Camera: enabled\n",
      "   🕸  Net-line: enabled (dist tol=0.5s, pitch tol=2.0s)\n",
      "   📊 Sonar Analysis: enabled\n",
      "   Loading sonar data: sensor_sonoptix_echo_image__2024-08-20_14-22-12_video.csv\n",
      "   ✅ Found video frames: 2024-08-20_14-22-12_video__image_compressed_image_data\n",
      "   📁 Using frames directory: /Volumes/LaCie/SOLAQUA/exports/frames/2024-08-20_14-22-12_video__image_compressed_image_data\n",
      "   🎥 Camera: enabled\n",
      "   🕸  Net-line: enabled (dist tol=0.5s, pitch tol=2.0s)\n",
      "   📊 Sonar Analysis: enabled\n",
      "   Loading sonar data: sensor_sonoptix_echo_image__2024-08-20_14-22-12_video.csv\n",
      "   ✅ Loaded 1099 sonar frames in 45.56s\n",
      "   ✅ Loaded 613 navigation records in 0.01s\n",
      "      Available: ['NetDistance', 'NetPitch', 'timestamp']\n",
      "   ✅ Loaded 100 camera index entries\n",
      "   Frames: 1..1098 (step 1) => 1098\n",
      "   Natural FPS: 15.5\n",
      "   Frame 1: Outside camera time range, using sonar-only\n",
      "   ✅ Loaded 1099 sonar frames in 45.56s\n",
      "   ✅ Loaded 613 navigation records in 0.01s\n",
      "      Available: ['NetDistance', 'NetPitch', 'timestamp']\n",
      "   ✅ Loaded 100 camera index entries\n",
      "   Frames: 1..1098 (step 1) => 1098\n",
      "   Natural FPS: 15.5\n",
      "   Frame 1: Outside camera time range, using sonar-only\n",
      "   Frame 2: Outside camera time range, using sonar-only\n",
      "   Frame 3: Outside camera time range, using sonar-only\n",
      "   Frame 4: Outside camera time range, using sonar-only\n",
      "   Frame 5: Outside camera time range, using sonar-only\n",
      "   Frame 2: Outside camera time range, using sonar-only\n",
      "   Frame 3: Outside camera time range, using sonar-only\n",
      "   Frame 4: Outside camera time range, using sonar-only\n",
      "   Frame 5: Outside camera time range, using sonar-only\n"
     ]
    },
    {
     "name": "stderr",
     "output_type": "stream",
     "text": [
      "[ WARN:0@183.603] global cap_ffmpeg.cpp:198 write FFmpeg: Failed to write frame\n",
      "[ WARN:0@183.671] global cap_ffmpeg.cpp:198 write FFmpeg: Failed to write frame\n",
      "[ WARN:0@183.735] global cap_ffmpeg.cpp:198 write FFmpeg: Failed to write frame\n",
      "[ WARN:0@183.962] global cap_ffmpeg.cpp:198 write FFmpeg: Failed to write frame\n",
      "[ WARN:0@184.029] global cap_ffmpeg.cpp:198 write FFmpeg: Failed to write frame\n",
      "[ WARN:0@184.094] global cap_ffmpeg.cpp:198 write FFmpeg: Failed to write frame\n",
      "[ WARN:0@184.160] global cap_ffmpeg.cpp:198 write FFmpeg: Failed to write frame\n",
      "[ WARN:0@183.962] global cap_ffmpeg.cpp:198 write FFmpeg: Failed to write frame\n",
      "[ WARN:0@184.029] global cap_ffmpeg.cpp:198 write FFmpeg: Failed to write frame\n",
      "[ WARN:0@184.094] global cap_ffmpeg.cpp:198 write FFmpeg: Failed to write frame\n",
      "[ WARN:0@184.160] global cap_ffmpeg.cpp:198 write FFmpeg: Failed to write frame\n",
      "[ WARN:0@184.229] global cap_ffmpeg.cpp:198 write FFmpeg: Failed to write frame\n",
      "[ WARN:0@184.295] global cap_ffmpeg.cpp:198 write FFmpeg: Failed to write frame\n",
      "[ WARN:0@184.229] global cap_ffmpeg.cpp:198 write FFmpeg: Failed to write frame\n",
      "[ WARN:0@184.295] global cap_ffmpeg.cpp:198 write FFmpeg: Failed to write frame\n",
      "[ WARN:0@184.453] global cap_ffmpeg.cpp:198 write FFmpeg: Failed to write frame\n",
      "[ WARN:0@184.523] global cap_ffmpeg.cpp:198 write FFmpeg: Failed to write frame\n",
      "[ WARN:0@184.588] global cap_ffmpeg.cpp:198 write FFmpeg: Failed to write frame\n",
      "[ WARN:0@184.654] global cap_ffmpeg.cpp:198 write FFmpeg: Failed to write frame\n",
      "[ WARN:0@184.453] global cap_ffmpeg.cpp:198 write FFmpeg: Failed to write frame\n",
      "[ WARN:0@184.523] global cap_ffmpeg.cpp:198 write FFmpeg: Failed to write frame\n",
      "[ WARN:0@184.588] global cap_ffmpeg.cpp:198 write FFmpeg: Failed to write frame\n",
      "[ WARN:0@184.654] global cap_ffmpeg.cpp:198 write FFmpeg: Failed to write frame\n",
      "[ WARN:0@184.724] global cap_ffmpeg.cpp:198 write FFmpeg: Failed to write frame\n",
      "[ WARN:0@184.791] global cap_ffmpeg.cpp:198 write FFmpeg: Failed to write frame\n",
      "[ WARN:0@184.880] global cap_ffmpeg.cpp:198 write FFmpeg: Failed to write frame\n",
      "[ WARN:0@184.724] global cap_ffmpeg.cpp:198 write FFmpeg: Failed to write frame\n",
      "[ WARN:0@184.791] global cap_ffmpeg.cpp:198 write FFmpeg: Failed to write frame\n",
      "[ WARN:0@184.880] global cap_ffmpeg.cpp:198 write FFmpeg: Failed to write frame\n",
      "[ WARN:0@184.945] global cap_ffmpeg.cpp:198 write FFmpeg: Failed to write frame\n",
      "[ WARN:0@185.012] global cap_ffmpeg.cpp:198 write FFmpeg: Failed to write frame\n",
      "[ WARN:0@185.075] global cap_ffmpeg.cpp:198 write FFmpeg: Failed to write frame\n",
      "[ WARN:0@185.142] global cap_ffmpeg.cpp:198 write FFmpeg: Failed to write frame\n",
      "[ WARN:0@184.945] global cap_ffmpeg.cpp:198 write FFmpeg: Failed to write frame\n",
      "[ WARN:0@185.012] global cap_ffmpeg.cpp:198 write FFmpeg: Failed to write frame\n",
      "[ WARN:0@185.075] global cap_ffmpeg.cpp:198 write FFmpeg: Failed to write frame\n",
      "[ WARN:0@185.142] global cap_ffmpeg.cpp:198 write FFmpeg: Failed to write frame\n",
      "[ WARN:0@185.212] global cap_ffmpeg.cpp:198 write FFmpeg: Failed to write frame\n",
      "[ WARN:0@185.279] global cap_ffmpeg.cpp:198 write FFmpeg: Failed to write frame\n",
      "[ WARN:0@185.372] global cap_ffmpeg.cpp:198 write FFmpeg: Failed to write frame\n",
      "[ WARN:0@185.212] global cap_ffmpeg.cpp:198 write FFmpeg: Failed to write frame\n",
      "[ WARN:0@185.279] global cap_ffmpeg.cpp:198 write FFmpeg: Failed to write frame\n",
      "[ WARN:0@185.372] global cap_ffmpeg.cpp:198 write FFmpeg: Failed to write frame\n",
      "[ WARN:0@185.439] global cap_ffmpeg.cpp:198 write FFmpeg: Failed to write frame\n",
      "[ WARN:0@185.505] global cap_ffmpeg.cpp:198 write FFmpeg: Failed to write frame\n",
      "[ WARN:0@185.569] global cap_ffmpeg.cpp:198 write FFmpeg: Failed to write frame\n",
      "[ WARN:0@185.637] global cap_ffmpeg.cpp:198 write FFmpeg: Failed to write frame\n",
      "[ WARN:0@185.439] global cap_ffmpeg.cpp:198 write FFmpeg: Failed to write frame\n",
      "[ WARN:0@185.505] global cap_ffmpeg.cpp:198 write FFmpeg: Failed to write frame\n",
      "[ WARN:0@185.569] global cap_ffmpeg.cpp:198 write FFmpeg: Failed to write frame\n",
      "[ WARN:0@185.637] global cap_ffmpeg.cpp:198 write FFmpeg: Failed to write frame\n",
      "[ WARN:0@185.704] global cap_ffmpeg.cpp:198 write FFmpeg: Failed to write frame\n",
      "[ WARN:0@185.806] global cap_ffmpeg.cpp:198 write FFmpeg: Failed to write frame\n",
      "[ WARN:0@185.870] global cap_ffmpeg.cpp:198 write FFmpeg: Failed to write frame\n",
      "[ WARN:0@185.704] global cap_ffmpeg.cpp:198 write FFmpeg: Failed to write frame\n",
      "[ WARN:0@185.806] global cap_ffmpeg.cpp:198 write FFmpeg: Failed to write frame\n",
      "[ WARN:0@185.870] global cap_ffmpeg.cpp:198 write FFmpeg: Failed to write frame\n",
      "[ WARN:0@185.935] global cap_ffmpeg.cpp:198 write FFmpeg: Failed to write frame\n",
      "[ WARN:0@186.005] global cap_ffmpeg.cpp:198 write FFmpeg: Failed to write frame\n",
      "[ WARN:0@186.072] global cap_ffmpeg.cpp:198 write FFmpeg: Failed to write frame\n",
      "[ WARN:0@186.137] global cap_ffmpeg.cpp:198 write FFmpeg: Failed to write frame\n",
      "[ WARN:0@185.935] global cap_ffmpeg.cpp:198 write FFmpeg: Failed to write frame\n",
      "[ WARN:0@186.005] global cap_ffmpeg.cpp:198 write FFmpeg: Failed to write frame\n",
      "[ WARN:0@186.072] global cap_ffmpeg.cpp:198 write FFmpeg: Failed to write frame\n",
      "[ WARN:0@186.137] global cap_ffmpeg.cpp:198 write FFmpeg: Failed to write frame\n",
      "[ WARN:0@186.540] global cap_ffmpeg.cpp:198 write FFmpeg: Failed to write frame\n",
      "[ WARN:0@186.607] global cap_ffmpeg.cpp:198 write FFmpeg: Failed to write frame\n",
      "[ WARN:0@186.671] global cap_ffmpeg.cpp:198 write FFmpeg: Failed to write frame\n",
      "[ WARN:0@186.735] global cap_ffmpeg.cpp:198 write FFmpeg: Failed to write frame\n",
      "[ WARN:0@186.540] global cap_ffmpeg.cpp:198 write FFmpeg: Failed to write frame\n",
      "[ WARN:0@186.607] global cap_ffmpeg.cpp:198 write FFmpeg: Failed to write frame\n",
      "[ WARN:0@186.671] global cap_ffmpeg.cpp:198 write FFmpeg: Failed to write frame\n",
      "[ WARN:0@186.735] global cap_ffmpeg.cpp:198 write FFmpeg: Failed to write frame\n",
      "[ WARN:0@186.804] global cap_ffmpeg.cpp:198 write FFmpeg: Failed to write frame\n",
      "[ WARN:0@186.868] global cap_ffmpeg.cpp:198 write FFmpeg: Failed to write frame\n",
      "[ WARN:0@187.007] global cap_ffmpeg.cpp:198 write FFmpeg: Failed to write frame\n",
      "[ WARN:0@186.804] global cap_ffmpeg.cpp:198 write FFmpeg: Failed to write frame\n",
      "[ WARN:0@186.868] global cap_ffmpeg.cpp:198 write FFmpeg: Failed to write frame\n",
      "[ WARN:0@187.007] global cap_ffmpeg.cpp:198 write FFmpeg: Failed to write frame\n",
      "[ WARN:0@187.075] global cap_ffmpeg.cpp:198 write FFmpeg: Failed to write frame\n",
      "[ WARN:0@187.140] global cap_ffmpeg.cpp:198 write FFmpeg: Failed to write frame\n",
      "[ WARN:0@187.205] global cap_ffmpeg.cpp:198 write FFmpeg: Failed to write frame\n",
      "[ WARN:0@187.271] global cap_ffmpeg.cpp:198 write FFmpeg: Failed to write frame\n",
      "[ WARN:0@187.075] global cap_ffmpeg.cpp:198 write FFmpeg: Failed to write frame\n",
      "[ WARN:0@187.140] global cap_ffmpeg.cpp:198 write FFmpeg: Failed to write frame\n",
      "[ WARN:0@187.205] global cap_ffmpeg.cpp:198 write FFmpeg: Failed to write frame\n",
      "[ WARN:0@187.271] global cap_ffmpeg.cpp:198 write FFmpeg: Failed to write frame\n",
      "[ WARN:0@187.339] global cap_ffmpeg.cpp:198 write FFmpeg: Failed to write frame\n",
      "[ WARN:0@187.406] global cap_ffmpeg.cpp:198 write FFmpeg: Failed to write frame\n",
      "[ WARN:0@187.512] global cap_ffmpeg.cpp:198 write FFmpeg: Failed to write frame\n",
      "[ WARN:0@187.339] global cap_ffmpeg.cpp:198 write FFmpeg: Failed to write frame\n",
      "[ WARN:0@187.406] global cap_ffmpeg.cpp:198 write FFmpeg: Failed to write frame\n",
      "[ WARN:0@187.512] global cap_ffmpeg.cpp:198 write FFmpeg: Failed to write frame\n",
      "[ WARN:0@187.578] global cap_ffmpeg.cpp:198 write FFmpeg: Failed to write frame\n",
      "[ WARN:0@187.643] global cap_ffmpeg.cpp:198 write FFmpeg: Failed to write frame\n",
      "[ WARN:0@187.708] global cap_ffmpeg.cpp:198 write FFmpeg: Failed to write frame\n",
      "[ WARN:0@187.774] global cap_ffmpeg.cpp:198 write FFmpeg: Failed to write frame\n",
      "[ WARN:0@187.578] global cap_ffmpeg.cpp:198 write FFmpeg: Failed to write frame\n",
      "[ WARN:0@187.643] global cap_ffmpeg.cpp:198 write FFmpeg: Failed to write frame\n",
      "[ WARN:0@187.708] global cap_ffmpeg.cpp:198 write FFmpeg: Failed to write frame\n",
      "[ WARN:0@187.774] global cap_ffmpeg.cpp:198 write FFmpeg: Failed to write frame\n",
      "[ WARN:0@187.840] global cap_ffmpeg.cpp:198 write FFmpeg: Failed to write frame\n",
      "[ WARN:0@187.938] global cap_ffmpeg.cpp:198 write FFmpeg: Failed to write frame\n",
      "[ WARN:0@188.006] global cap_ffmpeg.cpp:198 write FFmpeg: Failed to write frame\n",
      "[ WARN:0@187.840] global cap_ffmpeg.cpp:198 write FFmpeg: Failed to write frame\n",
      "[ WARN:0@187.938] global cap_ffmpeg.cpp:198 write FFmpeg: Failed to write frame\n",
      "[ WARN:0@188.006] global cap_ffmpeg.cpp:198 write FFmpeg: Failed to write frame\n",
      "[ WARN:0@188.072] global cap_ffmpeg.cpp:198 write FFmpeg: Failed to write frame\n",
      "[ WARN:0@188.142] global cap_ffmpeg.cpp:198 write FFmpeg: Failed to write frame\n",
      "[ WARN:0@188.206] global cap_ffmpeg.cpp:198 write FFmpeg: Failed to write frame\n",
      "[ WARN:0@188.271] global cap_ffmpeg.cpp:198 write FFmpeg: Failed to write frame\n",
      "[ WARN:0@188.072] global cap_ffmpeg.cpp:198 write FFmpeg: Failed to write frame\n",
      "[ WARN:0@188.142] global cap_ffmpeg.cpp:198 write FFmpeg: Failed to write frame\n",
      "[ WARN:0@188.206] global cap_ffmpeg.cpp:198 write FFmpeg: Failed to write frame\n",
      "[ WARN:0@188.271] global cap_ffmpeg.cpp:198 write FFmpeg: Failed to write frame\n",
      "[ WARN:0@188.764] global cap_ffmpeg.cpp:198 write FFmpeg: Failed to write frame\n",
      "[ WARN:0@188.828] global cap_ffmpeg.cpp:198 write FFmpeg: Failed to write frame\n",
      "[ WARN:0@188.892] global cap_ffmpeg.cpp:198 write FFmpeg: Failed to write frame\n",
      "[ WARN:0@188.955] global cap_ffmpeg.cpp:198 write FFmpeg: Failed to write frame\n",
      "[ WARN:0@188.764] global cap_ffmpeg.cpp:198 write FFmpeg: Failed to write frame\n",
      "[ WARN:0@188.828] global cap_ffmpeg.cpp:198 write FFmpeg: Failed to write frame\n",
      "[ WARN:0@188.892] global cap_ffmpeg.cpp:198 write FFmpeg: Failed to write frame\n",
      "[ WARN:0@188.955] global cap_ffmpeg.cpp:198 write FFmpeg: Failed to write frame\n",
      "[ WARN:0@189.021] global cap_ffmpeg.cpp:198 write FFmpeg: Failed to write frame\n",
      "[ WARN:0@189.087] global cap_ffmpeg.cpp:198 write FFmpeg: Failed to write frame\n",
      "[ WARN:0@189.205] global cap_ffmpeg.cpp:198 write FFmpeg: Failed to write frame\n",
      "[ WARN:0@189.021] global cap_ffmpeg.cpp:198 write FFmpeg: Failed to write frame\n",
      "[ WARN:0@189.087] global cap_ffmpeg.cpp:198 write FFmpeg: Failed to write frame\n",
      "[ WARN:0@189.205] global cap_ffmpeg.cpp:198 write FFmpeg: Failed to write frame\n",
      "[ WARN:0@189.274] global cap_ffmpeg.cpp:198 write FFmpeg: Failed to write frame\n",
      "[ WARN:0@189.342] global cap_ffmpeg.cpp:198 write FFmpeg: Failed to write frame\n",
      "[ WARN:0@189.406] global cap_ffmpeg.cpp:198 write FFmpeg: Failed to write frame\n",
      "[ WARN:0@189.472] global cap_ffmpeg.cpp:198 write FFmpeg: Failed to write frame\n",
      "[ WARN:0@189.274] global cap_ffmpeg.cpp:198 write FFmpeg: Failed to write frame\n",
      "[ WARN:0@189.342] global cap_ffmpeg.cpp:198 write FFmpeg: Failed to write frame\n",
      "[ WARN:0@189.406] global cap_ffmpeg.cpp:198 write FFmpeg: Failed to write frame\n",
      "[ WARN:0@189.472] global cap_ffmpeg.cpp:198 write FFmpeg: Failed to write frame\n",
      "[ WARN:0@189.540] global cap_ffmpeg.cpp:198 write FFmpeg: Failed to write frame\n",
      "[ WARN:0@189.663] global cap_ffmpeg.cpp:198 write FFmpeg: Failed to write frame\n",
      "[ WARN:0@189.730] global cap_ffmpeg.cpp:198 write FFmpeg: Failed to write frame\n",
      "[ WARN:0@189.540] global cap_ffmpeg.cpp:198 write FFmpeg: Failed to write frame\n",
      "[ WARN:0@189.663] global cap_ffmpeg.cpp:198 write FFmpeg: Failed to write frame\n",
      "[ WARN:0@189.730] global cap_ffmpeg.cpp:198 write FFmpeg: Failed to write frame\n",
      "[ WARN:0@189.804] global cap_ffmpeg.cpp:198 write FFmpeg: Failed to write frame\n",
      "[ WARN:0@189.870] global cap_ffmpeg.cpp:198 write FFmpeg: Failed to write frame\n",
      "[ WARN:0@189.934] global cap_ffmpeg.cpp:198 write FFmpeg: Failed to write frame\n",
      "[ WARN:0@189.997] global cap_ffmpeg.cpp:198 write FFmpeg: Failed to write frame\n",
      "[ WARN:0@189.804] global cap_ffmpeg.cpp:198 write FFmpeg: Failed to write frame\n",
      "[ WARN:0@189.870] global cap_ffmpeg.cpp:198 write FFmpeg: Failed to write frame\n",
      "[ WARN:0@189.934] global cap_ffmpeg.cpp:198 write FFmpeg: Failed to write frame\n",
      "[ WARN:0@189.997] global cap_ffmpeg.cpp:198 write FFmpeg: Failed to write frame\n",
      "[ WARN:0@190.065] global cap_ffmpeg.cpp:198 write FFmpeg: Failed to write frame\n",
      "[ WARN:0@190.065] global cap_ffmpeg.cpp:198 write FFmpeg: Failed to write frame\n",
      "[ WARN:0@190.289] global cap_ffmpeg.cpp:198 write FFmpeg: Failed to write frame\n",
      "[ WARN:0@190.358] global cap_ffmpeg.cpp:198 write FFmpeg: Failed to write frame\n",
      "[ WARN:0@190.425] global cap_ffmpeg.cpp:198 write FFmpeg: Failed to write frame\n",
      "[ WARN:0@190.488] global cap_ffmpeg.cpp:198 write FFmpeg: Failed to write frame\n",
      "[ WARN:0@190.289] global cap_ffmpeg.cpp:198 write FFmpeg: Failed to write frame\n",
      "[ WARN:0@190.358] global cap_ffmpeg.cpp:198 write FFmpeg: Failed to write frame\n",
      "[ WARN:0@190.425] global cap_ffmpeg.cpp:198 write FFmpeg: Failed to write frame\n",
      "[ WARN:0@190.488] global cap_ffmpeg.cpp:198 write FFmpeg: Failed to write frame\n",
      "[ WARN:0@190.558] global cap_ffmpeg.cpp:198 write FFmpeg: Failed to write frame\n",
      "[ WARN:0@190.625] global cap_ffmpeg.cpp:198 write FFmpeg: Failed to write frame\n",
      "[ WARN:0@190.558] global cap_ffmpeg.cpp:198 write FFmpeg: Failed to write frame\n",
      "[ WARN:0@190.625] global cap_ffmpeg.cpp:198 write FFmpeg: Failed to write frame\n",
      "[ WARN:0@190.871] global cap_ffmpeg.cpp:198 write FFmpeg: Failed to write frame\n",
      "[ WARN:0@190.937] global cap_ffmpeg.cpp:198 write FFmpeg: Failed to write frame\n",
      "[ WARN:0@191.006] global cap_ffmpeg.cpp:198 write FFmpeg: Failed to write frame\n",
      "[ WARN:0@191.072] global cap_ffmpeg.cpp:198 write FFmpeg: Failed to write frame\n",
      "[ WARN:0@190.871] global cap_ffmpeg.cpp:198 write FFmpeg: Failed to write frame\n",
      "[ WARN:0@190.937] global cap_ffmpeg.cpp:198 write FFmpeg: Failed to write frame\n",
      "[ WARN:0@191.006] global cap_ffmpeg.cpp:198 write FFmpeg: Failed to write frame\n",
      "[ WARN:0@191.072] global cap_ffmpeg.cpp:198 write FFmpeg: Failed to write frame\n",
      "[ WARN:0@191.140] global cap_ffmpeg.cpp:198 write FFmpeg: Failed to write frame\n",
      "[ WARN:0@191.205] global cap_ffmpeg.cpp:198 write FFmpeg: Failed to write frame\n",
      "[ WARN:0@191.324] global cap_ffmpeg.cpp:198 write FFmpeg: Failed to write frame\n",
      "[ WARN:0@191.140] global cap_ffmpeg.cpp:198 write FFmpeg: Failed to write frame\n",
      "[ WARN:0@191.205] global cap_ffmpeg.cpp:198 write FFmpeg: Failed to write frame\n",
      "[ WARN:0@191.324] global cap_ffmpeg.cpp:198 write FFmpeg: Failed to write frame\n",
      "[ WARN:0@191.393] global cap_ffmpeg.cpp:198 write FFmpeg: Failed to write frame\n",
      "[ WARN:0@191.459] global cap_ffmpeg.cpp:198 write FFmpeg: Failed to write frame\n",
      "[ WARN:0@191.525] global cap_ffmpeg.cpp:198 write FFmpeg: Failed to write frame\n",
      "[ WARN:0@191.589] global cap_ffmpeg.cpp:198 write FFmpeg: Failed to write frame\n",
      "[ WARN:0@191.393] global cap_ffmpeg.cpp:198 write FFmpeg: Failed to write frame\n",
      "[ WARN:0@191.459] global cap_ffmpeg.cpp:198 write FFmpeg: Failed to write frame\n",
      "[ WARN:0@191.525] global cap_ffmpeg.cpp:198 write FFmpeg: Failed to write frame\n",
      "[ WARN:0@191.589] global cap_ffmpeg.cpp:198 write FFmpeg: Failed to write frame\n",
      "[ WARN:0@191.656] global cap_ffmpeg.cpp:198 write FFmpeg: Failed to write frame\n",
      "[ WARN:0@191.720] global cap_ffmpeg.cpp:198 write FFmpeg: Failed to write frame\n",
      "[ WARN:0@191.656] global cap_ffmpeg.cpp:198 write FFmpeg: Failed to write frame\n",
      "[ WARN:0@191.720] global cap_ffmpeg.cpp:198 write FFmpeg: Failed to write frame\n",
      "[ WARN:0@191.899] global cap_ffmpeg.cpp:198 write FFmpeg: Failed to write frame\n",
      "[ WARN:0@191.963] global cap_ffmpeg.cpp:198 write FFmpeg: Failed to write frame\n",
      "[ WARN:0@192.028] global cap_ffmpeg.cpp:198 write FFmpeg: Failed to write frame\n",
      "[ WARN:0@192.092] global cap_ffmpeg.cpp:198 write FFmpeg: Failed to write frame\n",
      "[ WARN:0@191.899] global cap_ffmpeg.cpp:198 write FFmpeg: Failed to write frame\n",
      "[ WARN:0@191.963] global cap_ffmpeg.cpp:198 write FFmpeg: Failed to write frame\n",
      "[ WARN:0@192.028] global cap_ffmpeg.cpp:198 write FFmpeg: Failed to write frame\n",
      "[ WARN:0@192.092] global cap_ffmpeg.cpp:198 write FFmpeg: Failed to write frame\n",
      "[ WARN:0@192.157] global cap_ffmpeg.cpp:198 write FFmpeg: Failed to write frame\n",
      "[ WARN:0@192.225] global cap_ffmpeg.cpp:198 write FFmpeg: Failed to write frame\n",
      "[ WARN:0@192.360] global cap_ffmpeg.cpp:198 write FFmpeg: Failed to write frame\n",
      "[ WARN:0@192.157] global cap_ffmpeg.cpp:198 write FFmpeg: Failed to write frame\n",
      "[ WARN:0@192.225] global cap_ffmpeg.cpp:198 write FFmpeg: Failed to write frame\n",
      "[ WARN:0@192.360] global cap_ffmpeg.cpp:198 write FFmpeg: Failed to write frame\n",
      "[ WARN:0@192.428] global cap_ffmpeg.cpp:198 write FFmpeg: Failed to write frame\n",
      "[ WARN:0@192.495] global cap_ffmpeg.cpp:198 write FFmpeg: Failed to write frame\n",
      "[ WARN:0@192.563] global cap_ffmpeg.cpp:198 write FFmpeg: Failed to write frame\n",
      "[ WARN:0@192.629] global cap_ffmpeg.cpp:198 write FFmpeg: Failed to write frame\n",
      "[ WARN:0@192.428] global cap_ffmpeg.cpp:198 write FFmpeg: Failed to write frame\n",
      "[ WARN:0@192.495] global cap_ffmpeg.cpp:198 write FFmpeg: Failed to write frame\n",
      "[ WARN:0@192.563] global cap_ffmpeg.cpp:198 write FFmpeg: Failed to write frame\n",
      "[ WARN:0@192.629] global cap_ffmpeg.cpp:198 write FFmpeg: Failed to write frame\n",
      "[ WARN:0@192.728] global cap_ffmpeg.cpp:198 write FFmpeg: Failed to write frame\n",
      "[ WARN:0@192.797] global cap_ffmpeg.cpp:198 write FFmpeg: Failed to write frame\n",
      "[ WARN:0@192.863] global cap_ffmpeg.cpp:198 write FFmpeg: Failed to write frame\n",
      "[ WARN:0@192.928] global cap_ffmpeg.cpp:198 write FFmpeg: Failed to write frame\n",
      "[ WARN:0@192.728] global cap_ffmpeg.cpp:198 write FFmpeg: Failed to write frame\n",
      "[ WARN:0@192.797] global cap_ffmpeg.cpp:198 write FFmpeg: Failed to write frame\n",
      "[ WARN:0@192.863] global cap_ffmpeg.cpp:198 write FFmpeg: Failed to write frame\n",
      "[ WARN:0@192.928] global cap_ffmpeg.cpp:198 write FFmpeg: Failed to write frame\n",
      "[ WARN:0@192.999] global cap_ffmpeg.cpp:198 write FFmpeg: Failed to write frame\n",
      "[ WARN:0@193.068] global cap_ffmpeg.cpp:198 write FFmpeg: Failed to write frame\n",
      "[ WARN:0@193.138] global cap_ffmpeg.cpp:198 write FFmpeg: Failed to write frame\n",
      "[ WARN:0@192.999] global cap_ffmpeg.cpp:198 write FFmpeg: Failed to write frame\n",
      "[ WARN:0@193.068] global cap_ffmpeg.cpp:198 write FFmpeg: Failed to write frame\n",
      "[ WARN:0@193.138] global cap_ffmpeg.cpp:198 write FFmpeg: Failed to write frame\n",
      "[ WARN:0@193.240] global cap_ffmpeg.cpp:198 write FFmpeg: Failed to write frame\n",
      "[ WARN:0@193.309] global cap_ffmpeg.cpp:198 write FFmpeg: Failed to write frame\n",
      "[ WARN:0@193.377] global cap_ffmpeg.cpp:198 write FFmpeg: Failed to write frame\n",
      "[ WARN:0@193.441] global cap_ffmpeg.cpp:198 write FFmpeg: Failed to write frame\n",
      "[ WARN:0@193.240] global cap_ffmpeg.cpp:198 write FFmpeg: Failed to write frame\n",
      "[ WARN:0@193.309] global cap_ffmpeg.cpp:198 write FFmpeg: Failed to write frame\n",
      "[ WARN:0@193.377] global cap_ffmpeg.cpp:198 write FFmpeg: Failed to write frame\n",
      "[ WARN:0@193.441] global cap_ffmpeg.cpp:198 write FFmpeg: Failed to write frame\n",
      "[ WARN:0@193.510] global cap_ffmpeg.cpp:198 write FFmpeg: Failed to write frame\n",
      "[ WARN:0@193.573] global cap_ffmpeg.cpp:198 write FFmpeg: Failed to write frame\n",
      "[ WARN:0@193.637] global cap_ffmpeg.cpp:198 write FFmpeg: Failed to write frame\n",
      "[ WARN:0@193.510] global cap_ffmpeg.cpp:198 write FFmpeg: Failed to write frame\n",
      "[ WARN:0@193.573] global cap_ffmpeg.cpp:198 write FFmpeg: Failed to write frame\n",
      "[ WARN:0@193.637] global cap_ffmpeg.cpp:198 write FFmpeg: Failed to write frame\n",
      "[ WARN:0@193.890] global cap_ffmpeg.cpp:198 write FFmpeg: Failed to write frame\n",
      "[ WARN:0@193.958] global cap_ffmpeg.cpp:198 write FFmpeg: Failed to write frame\n",
      "[ WARN:0@194.027] global cap_ffmpeg.cpp:198 write FFmpeg: Failed to write frame\n",
      "[ WARN:0@194.094] global cap_ffmpeg.cpp:198 write FFmpeg: Failed to write frame\n",
      "[ WARN:0@193.890] global cap_ffmpeg.cpp:198 write FFmpeg: Failed to write frame\n",
      "[ WARN:0@193.958] global cap_ffmpeg.cpp:198 write FFmpeg: Failed to write frame\n",
      "[ WARN:0@194.027] global cap_ffmpeg.cpp:198 write FFmpeg: Failed to write frame\n",
      "[ WARN:0@194.094] global cap_ffmpeg.cpp:198 write FFmpeg: Failed to write frame\n",
      "[ WARN:0@194.477] global cap_ffmpeg.cpp:198 write FFmpeg: Failed to write frame\n",
      "[ WARN:0@194.546] global cap_ffmpeg.cpp:198 write FFmpeg: Failed to write frame\n",
      "[ WARN:0@194.612] global cap_ffmpeg.cpp:198 write FFmpeg: Failed to write frame\n",
      "[ WARN:0@194.678] global cap_ffmpeg.cpp:198 write FFmpeg: Failed to write frame\n",
      "[ WARN:0@194.477] global cap_ffmpeg.cpp:198 write FFmpeg: Failed to write frame\n",
      "[ WARN:0@194.546] global cap_ffmpeg.cpp:198 write FFmpeg: Failed to write frame\n",
      "[ WARN:0@194.612] global cap_ffmpeg.cpp:198 write FFmpeg: Failed to write frame\n",
      "[ WARN:0@194.678] global cap_ffmpeg.cpp:198 write FFmpeg: Failed to write frame\n",
      "[ WARN:0@194.750] global cap_ffmpeg.cpp:198 write FFmpeg: Failed to write frame\n",
      "[ WARN:0@194.815] global cap_ffmpeg.cpp:198 write FFmpeg: Failed to write frame\n",
      "[ WARN:0@194.882] global cap_ffmpeg.cpp:198 write FFmpeg: Failed to write frame\n",
      "[ WARN:0@194.947] global cap_ffmpeg.cpp:198 write FFmpeg: Failed to write frame\n",
      "[ WARN:0@194.750] global cap_ffmpeg.cpp:198 write FFmpeg: Failed to write frame\n",
      "[ WARN:0@194.815] global cap_ffmpeg.cpp:198 write FFmpeg: Failed to write frame\n",
      "[ WARN:0@194.882] global cap_ffmpeg.cpp:198 write FFmpeg: Failed to write frame\n",
      "[ WARN:0@194.947] global cap_ffmpeg.cpp:198 write FFmpeg: Failed to write frame\n",
      "[ WARN:0@195.045] global cap_ffmpeg.cpp:198 write FFmpeg: Failed to write frame\n",
      "[ WARN:0@195.113] global cap_ffmpeg.cpp:198 write FFmpeg: Failed to write frame\n",
      "[ WARN:0@195.179] global cap_ffmpeg.cpp:198 write FFmpeg: Failed to write frame\n",
      "[ WARN:0@195.247] global cap_ffmpeg.cpp:198 write FFmpeg: Failed to write frame\n",
      "[ WARN:0@195.045] global cap_ffmpeg.cpp:198 write FFmpeg: Failed to write frame\n",
      "[ WARN:0@195.113] global cap_ffmpeg.cpp:198 write FFmpeg: Failed to write frame\n",
      "[ WARN:0@195.179] global cap_ffmpeg.cpp:198 write FFmpeg: Failed to write frame\n",
      "[ WARN:0@195.247] global cap_ffmpeg.cpp:198 write FFmpeg: Failed to write frame\n",
      "[ WARN:0@195.315] global cap_ffmpeg.cpp:198 write FFmpeg: Failed to write frame\n",
      "[ WARN:0@195.381] global cap_ffmpeg.cpp:198 write FFmpeg: Failed to write frame\n",
      "[ WARN:0@195.315] global cap_ffmpeg.cpp:198 write FFmpeg: Failed to write frame\n",
      "[ WARN:0@195.381] global cap_ffmpeg.cpp:198 write FFmpeg: Failed to write frame\n",
      "[ WARN:0@195.561] global cap_ffmpeg.cpp:198 write FFmpeg: Failed to write frame\n",
      "[ WARN:0@195.625] global cap_ffmpeg.cpp:198 write FFmpeg: Failed to write frame\n",
      "[ WARN:0@195.695] global cap_ffmpeg.cpp:198 write FFmpeg: Failed to write frame\n",
      "[ WARN:0@195.758] global cap_ffmpeg.cpp:198 write FFmpeg: Failed to write frame\n",
      "[ WARN:0@195.561] global cap_ffmpeg.cpp:198 write FFmpeg: Failed to write frame\n",
      "[ WARN:0@195.625] global cap_ffmpeg.cpp:198 write FFmpeg: Failed to write frame\n",
      "[ WARN:0@195.695] global cap_ffmpeg.cpp:198 write FFmpeg: Failed to write frame\n",
      "[ WARN:0@195.758] global cap_ffmpeg.cpp:198 write FFmpeg: Failed to write frame\n",
      "[ WARN:0@195.827] global cap_ffmpeg.cpp:198 write FFmpeg: Failed to write frame\n",
      "[ WARN:0@195.897] global cap_ffmpeg.cpp:198 write FFmpeg: Failed to write frame\n",
      "[ WARN:0@195.968] global cap_ffmpeg.cpp:198 write FFmpeg: Failed to write frame\n",
      "[ WARN:0@195.827] global cap_ffmpeg.cpp:198 write FFmpeg: Failed to write frame\n",
      "[ WARN:0@195.897] global cap_ffmpeg.cpp:198 write FFmpeg: Failed to write frame\n",
      "[ WARN:0@195.968] global cap_ffmpeg.cpp:198 write FFmpeg: Failed to write frame\n",
      "[ WARN:0@196.251] global cap_ffmpeg.cpp:198 write FFmpeg: Failed to write frame\n",
      "[ WARN:0@196.320] global cap_ffmpeg.cpp:198 write FFmpeg: Failed to write frame\n",
      "[ WARN:0@196.386] global cap_ffmpeg.cpp:198 write FFmpeg: Failed to write frame\n",
      "[ WARN:0@196.451] global cap_ffmpeg.cpp:198 write FFmpeg: Failed to write frame\n",
      "[ WARN:0@196.251] global cap_ffmpeg.cpp:198 write FFmpeg: Failed to write frame\n",
      "[ WARN:0@196.320] global cap_ffmpeg.cpp:198 write FFmpeg: Failed to write frame\n",
      "[ WARN:0@196.386] global cap_ffmpeg.cpp:198 write FFmpeg: Failed to write frame\n",
      "[ WARN:0@196.451] global cap_ffmpeg.cpp:198 write FFmpeg: Failed to write frame\n",
      "[ WARN:0@196.522] global cap_ffmpeg.cpp:198 write FFmpeg: Failed to write frame\n",
      "[ WARN:0@196.588] global cap_ffmpeg.cpp:198 write FFmpeg: Failed to write frame\n",
      "[ WARN:0@196.522] global cap_ffmpeg.cpp:198 write FFmpeg: Failed to write frame\n",
      "[ WARN:0@196.588] global cap_ffmpeg.cpp:198 write FFmpeg: Failed to write frame\n",
      "[ WARN:0@196.819] global cap_ffmpeg.cpp:198 write FFmpeg: Failed to write frame\n",
      "[ WARN:0@196.887] global cap_ffmpeg.cpp:198 write FFmpeg: Failed to write frame\n",
      "[ WARN:0@196.955] global cap_ffmpeg.cpp:198 write FFmpeg: Failed to write frame\n",
      "[ WARN:0@197.021] global cap_ffmpeg.cpp:198 write FFmpeg: Failed to write frame\n",
      "[ WARN:0@196.819] global cap_ffmpeg.cpp:198 write FFmpeg: Failed to write frame\n",
      "[ WARN:0@196.887] global cap_ffmpeg.cpp:198 write FFmpeg: Failed to write frame\n",
      "[ WARN:0@196.955] global cap_ffmpeg.cpp:198 write FFmpeg: Failed to write frame\n",
      "[ WARN:0@197.021] global cap_ffmpeg.cpp:198 write FFmpeg: Failed to write frame\n",
      "[ WARN:0@197.089] global cap_ffmpeg.cpp:198 write FFmpeg: Failed to write frame\n",
      "[ WARN:0@197.157] global cap_ffmpeg.cpp:198 write FFmpeg: Failed to write frame\n",
      "[ WARN:0@197.089] global cap_ffmpeg.cpp:198 write FFmpeg: Failed to write frame\n",
      "[ WARN:0@197.157] global cap_ffmpeg.cpp:198 write FFmpeg: Failed to write frame\n",
      "[ WARN:0@197.371] global cap_ffmpeg.cpp:198 write FFmpeg: Failed to write frame\n",
      "[ WARN:0@197.438] global cap_ffmpeg.cpp:198 write FFmpeg: Failed to write frame\n",
      "[ WARN:0@197.507] global cap_ffmpeg.cpp:198 write FFmpeg: Failed to write frame\n",
      "[ WARN:0@197.575] global cap_ffmpeg.cpp:198 write FFmpeg: Failed to write frame\n",
      "[ WARN:0@197.371] global cap_ffmpeg.cpp:198 write FFmpeg: Failed to write frame\n",
      "[ WARN:0@197.438] global cap_ffmpeg.cpp:198 write FFmpeg: Failed to write frame\n",
      "[ WARN:0@197.507] global cap_ffmpeg.cpp:198 write FFmpeg: Failed to write frame\n",
      "[ WARN:0@197.575] global cap_ffmpeg.cpp:198 write FFmpeg: Failed to write frame\n",
      "[ WARN:0@197.646] global cap_ffmpeg.cpp:198 write FFmpeg: Failed to write frame\n",
      "[ WARN:0@197.713] global cap_ffmpeg.cpp:198 write FFmpeg: Failed to write frame\n",
      "[ WARN:0@197.646] global cap_ffmpeg.cpp:198 write FFmpeg: Failed to write frame\n",
      "[ WARN:0@197.713] global cap_ffmpeg.cpp:198 write FFmpeg: Failed to write frame\n",
      "[ WARN:0@197.900] global cap_ffmpeg.cpp:198 write FFmpeg: Failed to write frame\n",
      "[ WARN:0@197.969] global cap_ffmpeg.cpp:198 write FFmpeg: Failed to write frame\n",
      "[ WARN:0@198.037] global cap_ffmpeg.cpp:198 write FFmpeg: Failed to write frame\n",
      "[ WARN:0@197.900] global cap_ffmpeg.cpp:198 write FFmpeg: Failed to write frame\n",
      "[ WARN:0@197.969] global cap_ffmpeg.cpp:198 write FFmpeg: Failed to write frame\n",
      "[ WARN:0@198.037] global cap_ffmpeg.cpp:198 write FFmpeg: Failed to write frame\n"
     ]
    },
    {
     "ename": "KeyboardInterrupt",
     "evalue": "",
     "output_type": "error",
     "traceback": [
      "\u001b[31m---------------------------------------------------------------------------\u001b[39m",
      "\u001b[31mKeyboardInterrupt\u001b[39m                         Traceback (most recent call last)",
      "\u001b[36mCell\u001b[39m\u001b[36m \u001b[39m\u001b[32mIn[9]\u001b[39m\u001b[32m, line 20\u001b[39m\n\u001b[32m     18\u001b[39m \u001b[38;5;66;03m# Generate the video with both overlays and improved sync\u001b[39;00m\n\u001b[32m     19\u001b[39m \u001b[38;5;28;01mtry\u001b[39;00m:\n\u001b[32m---> \u001b[39m\u001b[32m20\u001b[39m     video_path = \u001b[43msg\u001b[49m\u001b[43m.\u001b[49m\u001b[43mexport_optimized_sonar_video\u001b[49m\u001b[43m(\u001b[49m\n\u001b[32m     21\u001b[39m \u001b[43m        \u001b[49m\u001b[43mTARGET_BAG\u001b[49m\u001b[43m=\u001b[49m\u001b[43mTARGET_BAG\u001b[49m\u001b[43m,\u001b[49m\n\u001b[32m     22\u001b[39m \u001b[43m        \u001b[49m\u001b[43mEXPORTS_FOLDER\u001b[49m\u001b[43m=\u001b[49m\u001b[43mEXPORTS_FOLDER\u001b[49m\u001b[43m,\u001b[49m\n\u001b[32m     23\u001b[39m \u001b[43m        \u001b[49m\u001b[43mSTART_IDX\u001b[49m\u001b[43m=\u001b[49m\u001b[32;43m1\u001b[39;49m\u001b[43m,\u001b[49m\n\u001b[32m     24\u001b[39m \u001b[43m        \u001b[49m\u001b[43mEND_IDX\u001b[49m\u001b[43m=\u001b[49m\u001b[32;43m1200\u001b[39;49m\u001b[43m,\u001b[49m\u001b[43m  \u001b[49m\n\u001b[32m     25\u001b[39m \u001b[43m        \u001b[49m\u001b[43mSTRIDE\u001b[49m\u001b[43m=\u001b[49m\u001b[32;43m1\u001b[39;49m\u001b[43m,\u001b[49m\u001b[43m    \u001b[49m\n\u001b[32m     26\u001b[39m \u001b[43m        \u001b[49m\u001b[43mAUTO_DETECT_VIDEO\u001b[49m\u001b[43m=\u001b[49m\u001b[38;5;28;43;01mTrue\u001b[39;49;00m\u001b[43m,\u001b[49m\u001b[43m       \u001b[49m\u001b[38;5;66;43;03m# Enable automatic video file detection\u001b[39;49;00m\n\u001b[32m     27\u001b[39m \u001b[43m        \u001b[49m\u001b[43mINCLUDE_NET\u001b[49m\u001b[43m=\u001b[49m\u001b[38;5;28;43;01mTrue\u001b[39;49;00m\u001b[43m,\u001b[49m\u001b[43m             \u001b[49m\u001b[38;5;66;43;03m# Enable DVL net distance overlay\u001b[39;49;00m\n\u001b[32m     28\u001b[39m \u001b[43m        \u001b[49m\u001b[43mSONAR_DISTANCE_RESULTS\u001b[49m\u001b[43m=\u001b[49m\u001b[43mdistance_results\u001b[49m\u001b[43m,\u001b[49m\u001b[43m  \u001b[49m\u001b[38;5;66;43;03m# Enable sonar analysis overlay\u001b[39;49;00m\n\u001b[32m     29\u001b[39m \u001b[43m        \u001b[49m\u001b[43mNET_DISTANCE_TOLERANCE\u001b[49m\u001b[43m=\u001b[49m\u001b[32;43m0.5\u001b[39;49m\u001b[43m,\u001b[49m\n\u001b[32m     30\u001b[39m \u001b[43m        \u001b[49m\u001b[43mNET_PITCH_TOLERANCE\u001b[49m\u001b[43m=\u001b[49m\u001b[32;43m2.0\u001b[39;49m\u001b[43m,\u001b[49m\u001b[43m      \u001b[49m\u001b[38;5;66;43;03m# Increased from 0.3 to 2.0 seconds for better pitch sync\u001b[39;49;00m\n\u001b[32m     31\u001b[39m \u001b[43m    \u001b[49m\u001b[43m)\u001b[49m\n\u001b[32m     33\u001b[39m     \u001b[38;5;28mprint\u001b[39m(\u001b[33mf\u001b[39m\u001b[33m\"\u001b[39m\u001b[38;5;130;01m\\n\u001b[39;00m\u001b[33m✅ Video generated successfully!\u001b[39m\u001b[33m\"\u001b[39m)\n\u001b[32m     34\u001b[39m     \u001b[38;5;28mprint\u001b[39m(\u001b[33mf\u001b[39m\u001b[33m\"\u001b[39m\u001b[33m📁 Output: \u001b[39m\u001b[38;5;132;01m{\u001b[39;00mvideo_path\u001b[38;5;132;01m}\u001b[39;00m\u001b[33m\"\u001b[39m)\n",
      "\u001b[36mFile \u001b[39m\u001b[32m~/code/SOLAQUA/utils/sonar_and_foto_generation.py:459\u001b[39m, in \u001b[36mexport_optimized_sonar_video\u001b[39m\u001b[34m(TARGET_BAG, EXPORTS_FOLDER, START_IDX, END_IDX, STRIDE, VIDEO_SEQ_DIR, AUTO_DETECT_VIDEO, VIDEO_HEIGHT, PAD_BETWEEN, FONT_SCALE, FOV_DEG, RANGE_MIN_M, RANGE_MAX_M, DISPLAY_RANGE_MAX_M, FLIP_BEAMS, FLIP_RANGE, USE_ENHANCED, ENH_SCALE, ENH_TVG, ENH_ALPHA_DB_PER_M, ENH_R0, ENH_P_LOW, ENH_P_HIGH, ENH_GAMMA, ENH_ZERO_AWARE, ENH_EPS_LOG, CONE_W, CONE_H, CONE_FLIP_VERTICAL, CMAP_NAME, INCLUDE_NET, NET_DISTANCE_TOLERANCE, NET_PITCH_TOLERANCE, SONAR_DISTANCE_RESULTS)\u001b[39m\n\u001b[32m    457\u001b[39m frames_written = \u001b[32m0\u001b[39m\n\u001b[32m    458\u001b[39m \u001b[38;5;28;01mfor\u001b[39;00m k, frame_idx \u001b[38;5;129;01min\u001b[39;00m \u001b[38;5;28menumerate\u001b[39m(frame_indices):\n\u001b[32m--> \u001b[39m\u001b[32m459\u001b[39m     cone_frame = \u001b[43mmake_cone_frame\u001b[49m\u001b[43m(\u001b[49m\u001b[43mframe_idx\u001b[49m\u001b[43m)\u001b[49m\n\u001b[32m    460\u001b[39m     \u001b[38;5;28;01mif\u001b[39;00m cone_frame \u001b[38;5;129;01mis\u001b[39;00m \u001b[38;5;28;01mNone\u001b[39;00m:\n\u001b[32m    461\u001b[39m         \u001b[38;5;28;01mcontinue\u001b[39;00m\n",
      "\u001b[36mFile \u001b[39m\u001b[32m~/code/SOLAQUA/utils/sonar_and_foto_generation.py:219\u001b[39m, in \u001b[36mexport_optimized_sonar_video.<locals>.make_cone_frame\u001b[39m\u001b[34m(frame_idx)\u001b[39m\n\u001b[32m    216\u001b[39m \u001b[38;5;28;01mdef\u001b[39;00m\u001b[38;5;250m \u001b[39m\u001b[34mmake_cone_frame\u001b[39m(frame_idx: \u001b[38;5;28mint\u001b[39m) -> np.ndarray | \u001b[38;5;28;01mNone\u001b[39;00m:\n\u001b[32m    217\u001b[39m     \u001b[38;5;28;01mtry\u001b[39;00m:\n\u001b[32m    218\u001b[39m         \u001b[38;5;66;03m# sonar frame\u001b[39;00m\n\u001b[32m--> \u001b[39m\u001b[32m219\u001b[39m         M0 = \u001b[43mget_sonoptix_frame\u001b[49m\u001b[43m(\u001b[49m\u001b[43mdf\u001b[49m\u001b[43m,\u001b[49m\u001b[43m \u001b[49m\u001b[43mframe_idx\u001b[49m\u001b[43m)\u001b[49m\n\u001b[32m    220\u001b[39m         \u001b[38;5;28;01mif\u001b[39;00m M0 \u001b[38;5;129;01mis\u001b[39;00m \u001b[38;5;28;01mNone\u001b[39;00m:\n\u001b[32m    221\u001b[39m             \u001b[38;5;28;01mreturn\u001b[39;00m \u001b[38;5;28;01mNone\u001b[39;00m\n",
      "\u001b[36mFile \u001b[39m\u001b[32m~/code/SOLAQUA/utils/sonar_utils.py:71\u001b[39m, in \u001b[36mget_sonoptix_frame\u001b[39m\u001b[34m(dfs, idx)\u001b[39m\n\u001b[32m     68\u001b[39m         \u001b[38;5;28;01mreturn\u001b[39;00m np.asarray(img, dtype=\u001b[38;5;28mfloat\u001b[39m)\n\u001b[32m     70\u001b[39m \u001b[38;5;28;01mif\u001b[39;00m \u001b[33m\"\u001b[39m\u001b[33mdata\u001b[39m\u001b[33m\"\u001b[39m \u001b[38;5;129;01min\u001b[39;00m dfs.columns:\n\u001b[32m---> \u001b[39m\u001b[32m71\u001b[39m     data = \u001b[43mparse_json_cell\u001b[49m\u001b[43m(\u001b[49m\u001b[43mdfs\u001b[49m\u001b[43m.\u001b[49m\u001b[43mloc\u001b[49m\u001b[43m[\u001b[49m\u001b[43midx\u001b[49m\u001b[43m,\u001b[49m\u001b[43m \u001b[49m\u001b[33;43m\"\u001b[39;49m\u001b[33;43mdata\u001b[39;49m\u001b[33;43m\"\u001b[39;49m\u001b[43m]\u001b[49m\u001b[43m)\u001b[49m\n\u001b[32m     72\u001b[39m     labels = parse_json_cell(dfs.loc[idx, \u001b[33m\"\u001b[39m\u001b[33mdim_labels\u001b[39m\u001b[33m\"\u001b[39m]) \u001b[38;5;28;01mif\u001b[39;00m \u001b[33m\"\u001b[39m\u001b[33mdim_labels\u001b[39m\u001b[33m\"\u001b[39m \u001b[38;5;129;01min\u001b[39;00m dfs.columns \u001b[38;5;28;01melse\u001b[39;00m \u001b[38;5;28;01mNone\u001b[39;00m\n\u001b[32m     73\u001b[39m     sizes = parse_json_cell(dfs.loc[idx, \u001b[33m\"\u001b[39m\u001b[33mdim_sizes\u001b[39m\u001b[33m\"\u001b[39m]) \u001b[38;5;28;01mif\u001b[39;00m \u001b[33m\"\u001b[39m\u001b[33mdim_sizes\u001b[39m\u001b[33m\"\u001b[39m \u001b[38;5;129;01min\u001b[39;00m dfs.columns \u001b[38;5;28;01melse\u001b[39;00m \u001b[38;5;28;01mNone\u001b[39;00m\n",
      "\u001b[36mFile \u001b[39m\u001b[32m~/code/SOLAQUA/utils/sonar_utils.py:33\u001b[39m, in \u001b[36mparse_json_cell\u001b[39m\u001b[34m(v)\u001b[39m\n\u001b[32m     31\u001b[39m \u001b[38;5;28;01mif\u001b[39;00m \u001b[38;5;28misinstance\u001b[39m(v, \u001b[38;5;28mstr\u001b[39m):\n\u001b[32m     32\u001b[39m     \u001b[38;5;28;01mtry\u001b[39;00m:\n\u001b[32m---> \u001b[39m\u001b[32m33\u001b[39m         \u001b[38;5;28;01mreturn\u001b[39;00m \u001b[43mjson\u001b[49m\u001b[43m.\u001b[49m\u001b[43mloads\u001b[49m\u001b[43m(\u001b[49m\u001b[43mv\u001b[49m\u001b[43m)\u001b[49m\n\u001b[32m     34\u001b[39m     \u001b[38;5;28;01mexcept\u001b[39;00m \u001b[38;5;167;01mException\u001b[39;00m:\n\u001b[32m     35\u001b[39m         \u001b[38;5;28;01mreturn\u001b[39;00m \u001b[38;5;28;01mNone\u001b[39;00m\n",
      "\u001b[36mFile \u001b[39m\u001b[32m/opt/homebrew/Cellar/python@3.13/3.13.5/Frameworks/Python.framework/Versions/3.13/lib/python3.13/json/__init__.py:346\u001b[39m, in \u001b[36mloads\u001b[39m\u001b[34m(s, cls, object_hook, parse_float, parse_int, parse_constant, object_pairs_hook, **kw)\u001b[39m\n\u001b[32m    341\u001b[39m     s = s.decode(detect_encoding(s), \u001b[33m'\u001b[39m\u001b[33msurrogatepass\u001b[39m\u001b[33m'\u001b[39m)\n\u001b[32m    343\u001b[39m \u001b[38;5;28;01mif\u001b[39;00m (\u001b[38;5;28mcls\u001b[39m \u001b[38;5;129;01mis\u001b[39;00m \u001b[38;5;28;01mNone\u001b[39;00m \u001b[38;5;129;01mand\u001b[39;00m object_hook \u001b[38;5;129;01mis\u001b[39;00m \u001b[38;5;28;01mNone\u001b[39;00m \u001b[38;5;129;01mand\u001b[39;00m\n\u001b[32m    344\u001b[39m         parse_int \u001b[38;5;129;01mis\u001b[39;00m \u001b[38;5;28;01mNone\u001b[39;00m \u001b[38;5;129;01mand\u001b[39;00m parse_float \u001b[38;5;129;01mis\u001b[39;00m \u001b[38;5;28;01mNone\u001b[39;00m \u001b[38;5;129;01mand\u001b[39;00m\n\u001b[32m    345\u001b[39m         parse_constant \u001b[38;5;129;01mis\u001b[39;00m \u001b[38;5;28;01mNone\u001b[39;00m \u001b[38;5;129;01mand\u001b[39;00m object_pairs_hook \u001b[38;5;129;01mis\u001b[39;00m \u001b[38;5;28;01mNone\u001b[39;00m \u001b[38;5;129;01mand\u001b[39;00m \u001b[38;5;129;01mnot\u001b[39;00m kw):\n\u001b[32m--> \u001b[39m\u001b[32m346\u001b[39m     \u001b[38;5;28;01mreturn\u001b[39;00m \u001b[43m_default_decoder\u001b[49m\u001b[43m.\u001b[49m\u001b[43mdecode\u001b[49m\u001b[43m(\u001b[49m\u001b[43ms\u001b[49m\u001b[43m)\u001b[49m\n\u001b[32m    347\u001b[39m \u001b[38;5;28;01mif\u001b[39;00m \u001b[38;5;28mcls\u001b[39m \u001b[38;5;129;01mis\u001b[39;00m \u001b[38;5;28;01mNone\u001b[39;00m:\n\u001b[32m    348\u001b[39m     \u001b[38;5;28mcls\u001b[39m = JSONDecoder\n",
      "\u001b[36mFile \u001b[39m\u001b[32m/opt/homebrew/Cellar/python@3.13/3.13.5/Frameworks/Python.framework/Versions/3.13/lib/python3.13/json/decoder.py:345\u001b[39m, in \u001b[36mJSONDecoder.decode\u001b[39m\u001b[34m(self, s, _w)\u001b[39m\n\u001b[32m    340\u001b[39m \u001b[38;5;28;01mdef\u001b[39;00m\u001b[38;5;250m \u001b[39m\u001b[34mdecode\u001b[39m(\u001b[38;5;28mself\u001b[39m, s, _w=WHITESPACE.match):\n\u001b[32m    341\u001b[39m \u001b[38;5;250m    \u001b[39m\u001b[33;03m\"\"\"Return the Python representation of ``s`` (a ``str`` instance\u001b[39;00m\n\u001b[32m    342\u001b[39m \u001b[33;03m    containing a JSON document).\u001b[39;00m\n\u001b[32m    343\u001b[39m \n\u001b[32m    344\u001b[39m \u001b[33;03m    \"\"\"\u001b[39;00m\n\u001b[32m--> \u001b[39m\u001b[32m345\u001b[39m     obj, end = \u001b[38;5;28;43mself\u001b[39;49m\u001b[43m.\u001b[49m\u001b[43mraw_decode\u001b[49m\u001b[43m(\u001b[49m\u001b[43ms\u001b[49m\u001b[43m,\u001b[49m\u001b[43m \u001b[49m\u001b[43midx\u001b[49m\u001b[43m=\u001b[49m\u001b[43m_w\u001b[49m\u001b[43m(\u001b[49m\u001b[43ms\u001b[49m\u001b[43m,\u001b[49m\u001b[43m \u001b[49m\u001b[32;43m0\u001b[39;49m\u001b[43m)\u001b[49m\u001b[43m.\u001b[49m\u001b[43mend\u001b[49m\u001b[43m(\u001b[49m\u001b[43m)\u001b[49m\u001b[43m)\u001b[49m\n\u001b[32m    346\u001b[39m     end = _w(s, end).end()\n\u001b[32m    347\u001b[39m     \u001b[38;5;28;01mif\u001b[39;00m end != \u001b[38;5;28mlen\u001b[39m(s):\n",
      "\u001b[36mFile \u001b[39m\u001b[32m/opt/homebrew/Cellar/python@3.13/3.13.5/Frameworks/Python.framework/Versions/3.13/lib/python3.13/json/decoder.py:361\u001b[39m, in \u001b[36mJSONDecoder.raw_decode\u001b[39m\u001b[34m(self, s, idx)\u001b[39m\n\u001b[32m    352\u001b[39m \u001b[38;5;250m\u001b[39m\u001b[33;03m\"\"\"Decode a JSON document from ``s`` (a ``str`` beginning with\u001b[39;00m\n\u001b[32m    353\u001b[39m \u001b[33;03ma JSON document) and return a 2-tuple of the Python\u001b[39;00m\n\u001b[32m    354\u001b[39m \u001b[33;03mrepresentation and the index in ``s`` where the document ended.\u001b[39;00m\n\u001b[32m   (...)\u001b[39m\u001b[32m    358\u001b[39m \n\u001b[32m    359\u001b[39m \u001b[33;03m\"\"\"\u001b[39;00m\n\u001b[32m    360\u001b[39m \u001b[38;5;28;01mtry\u001b[39;00m:\n\u001b[32m--> \u001b[39m\u001b[32m361\u001b[39m     obj, end = \u001b[38;5;28;43mself\u001b[39;49m\u001b[43m.\u001b[49m\u001b[43mscan_once\u001b[49m\u001b[43m(\u001b[49m\u001b[43ms\u001b[49m\u001b[43m,\u001b[49m\u001b[43m \u001b[49m\u001b[43midx\u001b[49m\u001b[43m)\u001b[49m\n\u001b[32m    362\u001b[39m \u001b[38;5;28;01mexcept\u001b[39;00m \u001b[38;5;167;01mStopIteration\u001b[39;00m \u001b[38;5;28;01mas\u001b[39;00m err:\n\u001b[32m    363\u001b[39m     \u001b[38;5;28;01mraise\u001b[39;00m JSONDecodeError(\u001b[33m\"\u001b[39m\u001b[33mExpecting value\u001b[39m\u001b[33m\"\u001b[39m, s, err.value) \u001b[38;5;28;01mfrom\u001b[39;00m\u001b[38;5;250m \u001b[39m\u001b[38;5;28;01mNone\u001b[39;00m\n",
      "\u001b[31mKeyboardInterrupt\u001b[39m: "
     ]
    }
   ],
   "source": [
    "# 🎥 Generate Video with Both DVL and Sonar Analysis Overlays (Improved Sync)\n",
    "# ==========================================================================\n",
    "import utils.sonar_and_foto_generation as sg\n",
    "\n",
    "# 🔧 Enable automatic video detection with improved synchronization\n",
    "from utils.sonar_config import VIDEO_CONFIG\n",
    "VIDEO_CONFIG['enable_video_overlay'] = True  \n",
    "VIDEO_CONFIG['max_sync_tolerance_seconds'] = 2.0  # Tighter sync tolerance\n",
    "\n",
    "print(\"🎬 GENERATING VIDEO WITH DUAL NET DISTANCE OVERLAYS\")\n",
    "print(\"=\" * 60)\n",
    "print(f\"🎯 Target Bag: {TARGET_BAG}\")\n",
    "print(f\"📊 DVL Data: {len(raw_data.get('navigation', []))} records\")\n",
    "print(f\"📏 Sonar Analysis: {len(distance_results)} frames\")\n",
    "print(f\"🤖 Auto-detect video: enabled (PNG frames + index.csv)\")\n",
    "print(f\"⏱️  Sync tolerance: {VIDEO_CONFIG['max_sync_tolerance_seconds']}s\")\n",
    "\n",
    "# Generate the video with both overlays and improved sync\n",
    "try:\n",
    "    video_path = sg.export_optimized_sonar_video(\n",
    "        TARGET_BAG=TARGET_BAG,\n",
    "        EXPORTS_FOLDER=EXPORTS_FOLDER,\n",
    "        START_IDX=1,\n",
    "        END_IDX=1200,  \n",
    "        STRIDE=1,    \n",
    "        AUTO_DETECT_VIDEO=True,       # Enable automatic video file detection\n",
    "        INCLUDE_NET=True,             # Enable DVL net distance overlay\n",
    "        SONAR_DISTANCE_RESULTS=distance_results,  # Enable sonar analysis overlay\n",
    "        NET_DISTANCE_TOLERANCE=0.5,\n",
    "        NET_PITCH_TOLERANCE=2.0,      # Increased from 0.3 to 2.0 seconds for better pitch sync\n",
    "    )\n",
    "\n",
    "    print(f\"\\n✅ Video generated successfully!\")\n",
    "    print(f\"📁 Output: {video_path}\")\n",
    "    print(f\"\\n🔍 Check the video output:\")\n",
    "    print(f\"   - Camera frames should sync properly with sonar\")\n",
    "    print(f\"   - When camera data ends, video should switch to sonar-only\")\n",
    "    print(f\"   - No frozen camera frames should appear\")\n",
    "    \n",
    "except Exception as e:\n",
    "    print(f\"❌ Error generating video: {e}\")\n",
    "    import traceback\n",
    "    traceback.print_exc()\n",
    "    print(\"\\n🔍 Troubleshooting:\")\n",
    "    print(\"  1. Run the video detection cell above to verify files exist\")\n",
    "    print(\"  2. Check that PNG frames directory has index.csv file\")\n",
    "    print(\"  3. Try disabling video overlay: VIDEO_CONFIG['enable_video_overlay'] = False\")\n",
    "    print(\"  4. Check exports directory structure\")"
   ]
  },
  {
   "cell_type": "code",
   "execution_count": null,
   "id": "c1b5141d",
   "metadata": {},
   "outputs": [],
   "source": [
    "# 🕐 TIMESTAMP FORMAT ANALYSIS FOR COMPRESSED_IMAGE MP4 FRAMES\n",
    "# ==========================================================\n",
    "\n",
    "print(\"🕐 COMPRESSED_IMAGE MP4 TIMESTAMP FORMAT ANALYSIS\")\n",
    "print(\"=\" * 60)\n",
    "\n",
    "# Check the actual timestamp format in our fixed compressed_image frames\n",
    "example_bag = '2024-08-20_13-39-34'\n",
    "compressed_frames_dir = Path(\"/Volumes/LaCie/SOLAQUA/exports/frames\") / f\"{example_bag}_video__image_compressed_image_data_frames\"\n",
    "\n",
    "if compressed_frames_dir.exists():\n",
    "    print(f\"✅ Found compressed_image frames: {compressed_frames_dir.name}\")\n",
    "    \n",
    "    # Check the index.csv file\n",
    "    index_path = compressed_frames_dir / \"index.csv\"\n",
    "    if index_path.exists():\n",
    "        import pandas as pd\n",
    "        index_df = pd.read_csv(index_path)\n",
    "        \n",
    "        print(f\"\\n📄 INDEX.CSV STRUCTURE:\")\n",
    "        print(f\"   Columns: {list(index_df.columns)}\")\n",
    "        print(f\"   Total frames: {len(index_df)}\")\n",
    "        \n",
    "        if 'ts_utc' in index_df.columns:\n",
    "            # Parse timestamps for analysis\n",
    "            index_df['ts_utc'] = pd.to_datetime(index_df['ts_utc'], utc=True)\n",
    "            \n",
    "            print(f\"\\n🕐 TIMESTAMP ANALYSIS:\")\n",
    "            print(f\"   Start time: {index_df['ts_utc'].min()}\")\n",
    "            print(f\"   End time:   {index_df['ts_utc'].max()}\")\n",
    "            print(f\"   Duration:   {(index_df['ts_utc'].max() - index_df['ts_utc'].min()).total_seconds():.1f} seconds\")\n",
    "            print(f\"   Time zone:  {index_df['ts_utc'].dt.tz}\")\n",
    "            \n",
    "            print(f\"\\n📋 SAMPLE TIMESTAMPS (first 5 frames):\")\n",
    "            sample = index_df.head().copy()\n",
    "            for idx, row in sample.iterrows():\n",
    "                frame_name = row['file']\n",
    "                timestamp = row['ts_utc']\n",
    "                if 'timestamp_sec' in row:\n",
    "                    relative_time = row['timestamp_sec']\n",
    "                    print(f\"   {frame_name} → {timestamp} (was {relative_time:.3f}s)\")\n",
    "                else:\n",
    "                    print(f\"   {frame_name} → {timestamp}\")\n",
    "            \n",
    "            print(f\"\\n🔍 TIMESTAMP FORMAT DETAILS:\")\n",
    "            sample_ts = index_df['ts_utc'].iloc[0]\n",
    "            print(f\"   Example timestamp: {sample_ts}\")\n",
    "            print(f\"   ISO format: {sample_ts.isoformat()}\")\n",
    "            print(f\"   Pandas dtype: {index_df['ts_utc'].dtype}\")\n",
    "            print(f\"   Nanosecond precision: {sample_ts.nanosecond}\")\n",
    "            \n",
    "        else:\n",
    "            print(f\"\\n❌ Missing ts_utc column - this shouldn't happen after our fix!\")\n",
    "            print(f\"   Available columns: {list(index_df.columns)}\")\n",
    "    else:\n",
    "        print(f\"❌ No index.csv found in {compressed_frames_dir}\")\n",
    "else:\n",
    "    print(f\"❌ Compressed_image frames directory not found: {compressed_frames_dir}\")\n",
    "\n",
    "print(f\"\\n📊 WHAT THE SYNCHRONIZATION SYSTEM EXPECTS:\")\n",
    "print(f\"   Format: ISO 8601 UTC timestamps\")\n",
    "print(f\"   Example: '2024-08-20T11:39:38.596874714+00:00'\")\n",
    "print(f\"   Pandas: datetime64[ns, UTC] dtype\")\n",
    "print(f\"   Precision: Nanosecond precision for accurate sync\")\n",
    "\n",
    "print(f\"\\n🎯 FRAME NAMING CONVENTION:\")\n",
    "print(f\"   Pattern: frame_NNNNNN_T.TTTs.png\")\n",
    "print(f\"   Example: frame_000000_0.000s.png\")\n",
    "print(f\"   Note: The T.TTTs part is relative video time, but index.csv has absolute UTC\")\n",
    "\n",
    "print(f\"\\n✅ SYNCHRONIZATION COMPATIBILITY:\")\n",
    "print(f\"   ✅ Absolute UTC timestamps in index.csv (not relative video time)\")\n",
    "print(f\"   ✅ Nanosecond precision for sub-second accuracy\")\n",
    "print(f\"   ✅ Timezone-aware (UTC) for global compatibility\")\n",
    "print(f\"   ✅ Compatible with read_video_index() function\")\n",
    "print(f\"   ✅ Ready for export_optimized_sonar_video() synchronization\")"
   ]
  }
 ],
 "metadata": {
  "kernelspec": {
   "display_name": "venv",
   "language": "python",
   "name": "python3"
  },
  "language_info": {
   "codemirror_mode": {
    "name": "ipython",
    "version": 3
   },
   "file_extension": ".py",
   "mimetype": "text/x-python",
   "name": "python",
   "nbconvert_exporter": "python",
   "pygments_lexer": "ipython3",
   "version": "3.13.5"
  }
 },
 "nbformat": 4,
 "nbformat_minor": 5
}
