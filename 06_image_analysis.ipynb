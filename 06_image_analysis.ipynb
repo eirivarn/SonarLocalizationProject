{
 "cells": [
  {
   "cell_type": "code",
   "execution_count": 3,
   "id": "7a8d02c0",
   "metadata": {},
   "outputs": [],
   "source": [
    "# Centralized sonar defaults (inserted by sweep)\n",
    "from utils.sonar_config import SONAR_VIS_DEFAULTS\n",
    "sonar_config = SONAR_VIS_DEFAULTS.copy()\n",
    "# Backwards-compatible variable names used in older notebooks\n",
    "RANGE_MIN_M = sonar_config['range_min_m']\n",
    "RANGE_MAX_M = sonar_config['range_max_m']\n",
    "DISPLAY_RANGE_MAX_M = sonar_config['display_range_max_m']"
   ]
  },
  {
   "cell_type": "markdown",
   "id": "9220eb1d",
   "metadata": {},
   "source": [
    "# Simple Image Analysis with CV2\n",
    "\n",
    "This notebook demonstrates:\n",
    "1. **Pick a frame** from NPZ files and save it locally\n",
    "2. **Use standard cv2 functions** directly for image processing\n",
    "3. **Experiment** with different OpenCV operations"
   ]
  },
  {
   "cell_type": "code",
   "execution_count": 4,
   "id": "4b3e8f46",
   "metadata": {},
   "outputs": [
    {
     "name": "stdout",
     "output_type": "stream",
     "text": [
      "Using DATA_DIR = /Volumes/LaCie/SOLAQUA/raw_data\n",
      "Selected NPZ file: 2024-08-20_18-47-40_data_cones.npz (index=12)\n"
     ]
    }
   ],
   "source": [
    "from pathlib import Path\n",
    "import utils.sonar_image_analysis as iau\n",
    "import importlib\n",
    "importlib.reload(iau)\n",
    "\n",
    "# Prefer selecting by bag ID (part of the NPZ filename) instead of a numeric index.\n",
    "# Set TARGET_BAG to a substring that appears in the NPZ filename \n",
    "# '2024-08-22_14-47-39'\n",
    "# '2024-08-22_14-29-05'\n",
    "# '2024-08-20_14-22-12'\n",
    "# '2024-08-20_14-31-29' HARD\n",
    "# '2024-08-20_18-47-40'\n",
    "TARGET_BAG = '2024-08-20_18-47-40'  # change this to your desired bag ID\n",
    "from utils.sonar_config import EXPORTS_DIR_DEFAULT, EXPORTS_SUBDIRS\n",
    "EXPORTS_FOLDER = Path(EXPORTS_DIR_DEFAULT)\n",
    "\n",
    "# If you keep your raw .bag files or raw data on an external drive, point DATA_DIR there.\n",
    "# Example (your external disk): /Volumes/LaCie/SOLAQUA/raw_data\n",
    "DATA_DIR = Path(\"/Volumes/LaCie/SOLAQUA/raw_data\")\n",
    "print(f\"Using DATA_DIR = {DATA_DIR}\")\n",
    "\n",
    "# Find NPZ files and pick the one matching TARGET_BAG\n",
    "files = iau.get_available_npz_files()\n",
    "if not files:\n",
    "    raise FileNotFoundError(f\"No NPZ files found in configured exports outputs (looked under {EXPORTS_FOLDER / EXPORTS_SUBDIRS.get('outputs','outputs')})\")\n",
    "matches = [p for p in files if TARGET_BAG in p.name]\n",
    "if not matches:\n",
    "    # Help the user by listing available NPZ files\n",
    "    print(f'No NPZ file matched TARGET_BAG={TARGET_BAG!r}')\n",
    "    print('Available NPZ files:')\n",
    "    for i,p in enumerate(files):\n",
    "        print(f'  {i}: {p.name}')\n",
    "    raise ValueError(f'No NPZ file contains \"{TARGET_BAG}\" in its name')\n",
    "\n",
    "# If multiple matches, choose the most recently modified one\n",
    "selected = max(matches, key=lambda p: p.stat().st_mtime)\n",
    "NPZ_FILE_INDEX = files.index(selected)\n",
    "print(f'Selected NPZ file: {selected.name} (index={NPZ_FILE_INDEX})')"
   ]
  },
  {
   "cell_type": "markdown",
   "id": "0c65358c",
   "metadata": {},
   "source": [
    "## Distance Analysis Over Time\n",
    "\n",
    "Now let's perform a comprehensive analysis of the red line distance over time. The red line represents the major axis of the detected elongated contour (likely a fishing net), and we'll track how this distance changes throughout the video sequence."
   ]
  },
  {
   "cell_type": "code",
   "execution_count": 5,
   "id": "b9c5da85",
   "metadata": {},
   "outputs": [
    {
     "name": "stdout",
     "output_type": "stream",
     "text": [
      "=== ENHANCED VIDEO CREATION (Simplified) ===\n",
      "Creating video with simplified processor...\n",
      "Frames: 1500, step: 1\n",
      "Processing 613 frames with simplified processor...\n",
      "Processing 613 frames with simplified processor...\n",
      "Processed 10/613 frames\n",
      "Processed 10/613 frames\n",
      "Processed 20/613 frames\n",
      "Processed 20/613 frames\n",
      "Processed 30/613 frames\n",
      "Processed 30/613 frames\n",
      "Processed 40/613 frames\n",
      "Processed 40/613 frames\n",
      "Processed 50/613 frames\n",
      "Processed 50/613 frames\n",
      "Processed 60/613 frames\n",
      "Processed 60/613 frames\n",
      "Processed 70/613 frames\n",
      "Processed 70/613 frames\n",
      "Processed 80/613 frames\n",
      "Processed 80/613 frames\n",
      "Processed 90/613 frames\n",
      "Processed 90/613 frames\n",
      "Processed 100/613 frames\n",
      "Processed 100/613 frames\n",
      "Processed 110/613 frames\n",
      "Processed 110/613 frames\n",
      "Processed 120/613 frames\n",
      "Processed 120/613 frames\n",
      "Processed 130/613 frames\n",
      "Processed 130/613 frames\n",
      "Processed 140/613 frames\n",
      "Processed 140/613 frames\n",
      "Processed 150/613 frames\n",
      "Processed 150/613 frames\n",
      "Processed 160/613 frames\n",
      "Processed 160/613 frames\n",
      "Processed 170/613 frames\n",
      "Processed 170/613 frames\n",
      "Processed 180/613 frames\n",
      "Processed 180/613 frames\n",
      "Processed 190/613 frames\n",
      "Processed 190/613 frames\n",
      "Processed 200/613 frames\n",
      "Processed 200/613 frames\n",
      "Processed 210/613 frames\n",
      "Processed 210/613 frames\n",
      "Processed 220/613 frames\n",
      "Processed 220/613 frames\n",
      "Processed 230/613 frames\n",
      "Processed 230/613 frames\n",
      "Processed 240/613 frames\n",
      "Processed 240/613 frames\n",
      "Processed 250/613 frames\n",
      "Processed 250/613 frames\n",
      "Processed 260/613 frames\n",
      "Processed 260/613 frames\n",
      "Processed 270/613 frames\n",
      "Processed 270/613 frames\n",
      "Processed 280/613 frames\n",
      "Processed 280/613 frames\n",
      "Processed 290/613 frames\n",
      "Processed 290/613 frames\n",
      "Processed 300/613 frames\n",
      "Processed 300/613 frames\n",
      "Processed 310/613 frames\n",
      "Processed 310/613 frames\n",
      "Processed 320/613 frames\n",
      "Processed 320/613 frames\n",
      "Processed 330/613 frames\n",
      "Processed 330/613 frames\n",
      "Processed 340/613 frames\n",
      "Processed 340/613 frames\n",
      "Processed 350/613 frames\n",
      "Processed 350/613 frames\n",
      "Processed 360/613 frames\n",
      "Processed 360/613 frames\n",
      "Processed 370/613 frames\n",
      "Processed 370/613 frames\n",
      "Processed 380/613 frames\n",
      "Processed 380/613 frames\n",
      "Processed 390/613 frames\n",
      "Processed 390/613 frames\n",
      "Processed 400/613 frames\n",
      "Processed 400/613 frames\n",
      "Processed 410/613 frames\n",
      "Processed 410/613 frames\n",
      "Processed 420/613 frames\n",
      "Processed 420/613 frames\n",
      "Processed 430/613 frames\n",
      "Processed 430/613 frames\n",
      "Processed 440/613 frames\n",
      "Processed 440/613 frames\n",
      "Processed 450/613 frames\n",
      "Processed 450/613 frames\n",
      "Processed 460/613 frames\n",
      "Processed 460/613 frames\n",
      "Processed 470/613 frames\n",
      "Processed 470/613 frames\n",
      "Processed 480/613 frames\n",
      "Processed 480/613 frames\n",
      "Processed 490/613 frames\n",
      "Processed 490/613 frames\n",
      "Processed 500/613 frames\n",
      "Processed 500/613 frames\n",
      "Processed 510/613 frames\n",
      "Processed 510/613 frames\n",
      "Processed 520/613 frames\n",
      "Processed 520/613 frames\n",
      "Processed 530/613 frames\n",
      "Processed 530/613 frames\n",
      "Processed 540/613 frames\n",
      "Processed 540/613 frames\n",
      "Processed 550/613 frames\n",
      "Processed 550/613 frames\n",
      "Processed 560/613 frames\n",
      "Processed 560/613 frames\n",
      "Processed 570/613 frames\n",
      "Processed 570/613 frames\n",
      "Processed 580/613 frames\n",
      "Processed 580/613 frames\n",
      "Processed 590/613 frames\n",
      "Processed 590/613 frames\n",
      "Processed 600/613 frames\n",
      "Processed 600/613 frames\n",
      "Processed 610/613 frames\n",
      "Processed 610/613 frames\n",
      "\n",
      "=== ENHANCED VIDEO CREATION COMPLETE ===\n",
      "Video saved to: /Volumes/LaCie/SOLAQUA/exports/videos/core_aoi_tracking.mp4\n",
      "Video specs: 900x700, 15 fps, 613 frames\n",
      "SIMPLIFIED TRACKING STATS:\n",
      "  - Total detected frames: 613\n",
      "  - Lost/searching frames: 0\n",
      "  - Detection success rate: 100.0%\n",
      "\n",
      "=== ENHANCED VIDEO CREATION COMPLETE ===\n",
      "Video saved to: /Volumes/LaCie/SOLAQUA/exports/videos/core_aoi_tracking.mp4\n",
      "Video specs: 900x700, 15 fps, 613 frames\n",
      "SIMPLIFIED TRACKING STATS:\n",
      "  - Total detected frames: 613\n",
      "  - Lost/searching frames: 0\n",
      "  - Detection success rate: 100.0%\n"
     ]
    }
   ],
   "source": [
    "# Create the unified processor\n",
    "processor = iau.SonarDataProcessor()\n",
    "\n",
    "# Use the enhanced video creation with CORE processor\n",
    "video_path = iau.create_enhanced_contour_detection_video_with_processor(\n",
    "    npz_file_index=NPZ_FILE_INDEX,          # Which NPZ file to use\n",
    "    frame_start=1,           # Starting frame\n",
    "    frame_count=1500,         # Number of frames to process\n",
    "    frame_step=1,            # Step between frames\n",
    "    output_path=Path(EXPORTS_DIR_DEFAULT) / EXPORTS_SUBDIRS.get('videos','videos') / 'core_aoi_tracking.mp4',\n",
    "    processor=processor      # Use our CORE processor\n",
    ")"
   ]
  },
  {
   "cell_type": "code",
   "execution_count": 6,
   "id": "d9c0382e",
   "metadata": {},
   "outputs": [
    {
     "name": "stdout",
     "output_type": "stream",
     "text": [
      "=== DISTANCE ANALYSIS FROM NPZ ===\n",
      "Analyzing: /Volumes/LaCie/SOLAQUA/exports/outputs/2024-08-20_18-47-40_data_cones.npz\n",
      "Processing 613 frames from 1 (step=1)\n",
      "Processing 613 frames from 1 (step=1)\n",
      "  Processed 50/613 frames (Success rate: 100.0%)\n",
      "  Processed 50/613 frames (Success rate: 100.0%)\n",
      "  Processed 100/613 frames (Success rate: 100.0%)\n",
      "  Processed 100/613 frames (Success rate: 100.0%)\n",
      "  Processed 150/613 frames (Success rate: 100.0%)\n",
      "  Processed 150/613 frames (Success rate: 100.0%)\n",
      "  Processed 200/613 frames (Success rate: 100.0%)\n",
      "  Processed 200/613 frames (Success rate: 100.0%)\n",
      "  Processed 250/613 frames (Success rate: 100.0%)\n",
      "  Processed 250/613 frames (Success rate: 100.0%)\n",
      "  Processed 300/613 frames (Success rate: 100.0%)\n",
      "  Processed 300/613 frames (Success rate: 100.0%)\n",
      "  Processed 350/613 frames (Success rate: 100.0%)\n",
      "  Processed 350/613 frames (Success rate: 100.0%)\n",
      "  Processed 400/613 frames (Success rate: 100.0%)\n",
      "  Processed 400/613 frames (Success rate: 100.0%)\n",
      "  Processed 450/613 frames (Success rate: 100.0%)\n",
      "  Processed 450/613 frames (Success rate: 100.0%)\n",
      "  Processed 500/613 frames (Success rate: 100.0%)\n",
      "  Processed 500/613 frames (Success rate: 100.0%)\n",
      "  Processed 550/613 frames (Success rate: 100.0%)\n",
      "  Processed 550/613 frames (Success rate: 100.0%)\n",
      "  Processed 600/613 frames (Success rate: 100.0%)\n",
      "  Processed 600/613 frames (Success rate: 100.0%)\n",
      "\n",
      "=== ANALYSIS COMPLETE ===\n",
      "Total frames processed: 613\n",
      "Successful detections: 613 (100.0%)\n",
      "Distance statistics (meters):\n",
      "  - Mean: 0.979\n",
      "  - Std:  0.055\n",
      "  - Min:  0.850\n",
      "  - Max:  1.213\n",
      "  - Range: 0.363\n",
      "Analyzed 613 frames using elliptical AOI\n",
      " Detection success rate: 100.0%\n",
      " Elliptical tracking active: 0 frames\n",
      "\n",
      "=== ANALYSIS COMPLETE ===\n",
      "Total frames processed: 613\n",
      "Successful detections: 613 (100.0%)\n",
      "Distance statistics (meters):\n",
      "  - Mean: 0.979\n",
      "  - Std:  0.055\n",
      "  - Min:  0.850\n",
      "  - Max:  1.213\n",
      "  - Range: 0.363\n",
      "Analyzed 613 frames using elliptical AOI\n",
      " Detection success rate: 100.0%\n",
      " Elliptical tracking active: 0 frames\n"
     ]
    }
   ],
   "source": [
    "engine = iau.DistanceAnalysisEngine()\n",
    "distance_results = engine.analyze_npz_sequence(\n",
    "    npz_file_index=NPZ_FILE_INDEX,    \n",
    "    frame_start=1,        # Start from frame 1\n",
    "    frame_count=1500,      # Analyze all frames from the video\n",
    "    frame_step=1          # Every frame\n",
    ")\n",
    "\n",
    "print(f\"Analyzed {len(distance_results)} frames using elliptical AOI\")\n",
    "print(f\" Detection success rate: {distance_results['detection_success'].mean():.1%}\")\n",
    "print(f\" Elliptical tracking active: {(distance_results['tracking_status'].str.contains('ELLIPSE')).sum()} frames\")"
   ]
  },
  {
   "cell_type": "markdown",
   "id": "fede9d64",
   "metadata": {},
   "source": [
    "## Convert to Real-World Distances\n",
    "\n",
    "Now let's convert the pixel distances to real-world distances using the fact that the entire sonar image represents a 10x10 meter area."
   ]
  },
  {
   "cell_type": "code",
   "execution_count": 7,
   "id": "886897de",
   "metadata": {},
   "outputs": [
    {
     "name": "stdout",
     "output_type": "stream",
     "text": [
      "Detected NPZ extent: x=[-8.660,8.660] m, y=[0.000,10.000] m\n",
      "Image shape from NPZ: H=700, W=900\n",
      "meters/pixel: x=0.019245, y=0.014286, avg=0.016765\n",
      "Using pixels_to_meters_avg = 0.016765 m/px\n"
     ]
    }
   ],
   "source": [
    "# Auto-detect pixel->meter mapping from the selected NPZ (if available)\n",
    "try:\n",
    "    cones, ts, extent, meta = iau.load_cone_run_npz(selected)\n",
    "    T, H, W = cones.shape\n",
    "    x_min, x_max, y_min, y_max = extent\n",
    "    width_m = float(x_max - x_min)\n",
    "    height_m = float(y_max - y_min)\n",
    "    px2m_x = width_m / float(W)\n",
    "    px2m_y = height_m / float(H)\n",
    "    pixels_to_meters_avg = 0.5 * (px2m_x + px2m_y)\n",
    "    image_shape = (H, W)\n",
    "    sonar_coverage_meters = max(width_m, height_m)\n",
    "    print(f\"Detected NPZ extent: x=[{x_min:.3f},{x_max:.3f}] m, y=[{y_min:.3f},{y_max:.3f}] m\")\n",
    "    print(f\"Image shape from NPZ: H={H}, W={W}\")\n",
    "    print(f\"meters/pixel: x={px2m_x:.6f}, y={px2m_y:.6f}, avg={pixels_to_meters_avg:.6f}\")\n",
    "except Exception as e:\n",
    "    print(\"Could not read NPZ metadata:\", e)\n",
    "    print(\"Falling back to defaults from sonar_config.\")\n",
    "    from utils.sonar_config import CONE_H_DEFAULT, CONE_W_DEFAULT, DISPLAY_RANGE_MAX_M_DEFAULT\n",
    "    image_shape = (CONE_H_DEFAULT, CONE_W_DEFAULT)\n",
    "    sonar_coverage_meters = DISPLAY_RANGE_MAX_M_DEFAULT * 2  # approximate\n",
    "    pixels_to_meters_avg = sonar_coverage_meters / max(image_shape)\n",
    "    \n",
    "# Use the computed pixels_to_meters_avg in downstream analysis\n",
    "print(f\"Using pixels_to_meters_avg = {pixels_to_meters_avg:.6f} m/px\")"
   ]
  },
  {
   "cell_type": "code",
   "execution_count": 8,
   "id": "15d6238c",
   "metadata": {},
   "outputs": [
    {
     "data": {
      "application/vnd.plotly.v1+json": {
       "config": {
        "plotlyServerURL": "https://plot.ly"
       },
       "data": [
        {
         "line": {
          "color": "blue"
         },
         "mode": "lines+markers",
         "name": "Distance",
         "type": "scatter",
         "x": {
          "bdata": "AQACAAMABAAFAAYABwAIAAkACgALAAwADQAOAA8AEAARABIAEwAUABUAFgAXABgAGQAaABsAHAAdAB4AHwAgACEAIgAjACQAJQAmACcAKAApACoAKwAsAC0ALgAvADAAMQAyADMANAA1ADYANwA4ADkAOgA7ADwAPQA+AD8AQABBAEIAQwBEAEUARgBHAEgASQBKAEsATABNAE4ATwBQAFEAUgBTAFQAVQBWAFcAWABZAFoAWwBcAF0AXgBfAGAAYQBiAGMAZABlAGYAZwBoAGkAagBrAGwAbQBuAG8AcABxAHIAcwB0AHUAdgB3AHgAeQB6AHsAfAB9AH4AfwCAAIEAggCDAIQAhQCGAIcAiACJAIoAiwCMAI0AjgCPAJAAkQCSAJMAlACVAJYAlwCYAJkAmgCbAJwAnQCeAJ8AoAChAKIAowCkAKUApgCnAKgAqQCqAKsArACtAK4ArwCwALEAsgCzALQAtQC2ALcAuAC5ALoAuwC8AL0AvgC/AMAAwQDCAMMAxADFAMYAxwDIAMkAygDLAMwAzQDOAM8A0ADRANIA0wDUANUA1gDXANgA2QDaANsA3ADdAN4A3wDgAOEA4gDjAOQA5QDmAOcA6ADpAOoA6wDsAO0A7gDvAPAA8QDyAPMA9AD1APYA9wD4APkA+gD7APwA/QD+AP8AAAEBAQIBAwEEAQUBBgEHAQgBCQEKAQsBDAENAQ4BDwEQAREBEgETARQBFQEWARcBGAEZARoBGwEcAR0BHgEfASABIQEiASMBJAElASYBJwEoASkBKgErASwBLQEuAS8BMAExATIBMwE0ATUBNgE3ATgBOQE6ATsBPAE9AT4BPwFAAUEBQgFDAUQBRQFGAUcBSAFJAUoBSwFMAU0BTgFPAVABUQFSAVMBVAFVAVYBVwFYAVkBWgFbAVwBXQFeAV8BYAFhAWIBYwFkAWUBZgFnAWgBaQFqAWsBbAFtAW4BbwFwAXEBcgFzAXQBdQF2AXcBeAF5AXoBewF8AX0BfgF/AYABgQGCAYMBhAGFAYYBhwGIAYkBigGLAYwBjQGOAY8BkAGRAZIBkwGUAZUBlgGXAZgBmQGaAZsBnAGdAZ4BnwGgAaEBogGjAaQBpQGmAacBqAGpAaoBqwGsAa0BrgGvAbABsQGyAbMBtAG1AbYBtwG4AbkBugG7AbwBvQG+Ab8BwAHBAcIBwwHEAcUBxgHHAcgByQHKAcsBzAHNAc4BzwHQAdEB0gHTAdQB1QHWAdcB2AHZAdoB2wHcAd0B3gHfAeAB4QHiAeMB5AHlAeYB5wHoAekB6gHrAewB7QHuAe8B8AHxAfIB8wH0AfUB9gH3AfgB+QH6AfsB/AH9Af4B/wEAAgECAgIDAgQCBQIGAgcCCAIJAgoCCwIMAg0CDgIPAhACEQISAhMCFAIVAhYCFwIYAhkCGgIbAhwCHQIeAh8CIAIhAiICIwIkAiUCJgInAigCKQIqAisCLAItAi4CLwIwAjECMgIzAjQCNQI2AjcCOAI5AjoCOwI8Aj0CPgI/AkACQQJCAkMCRAJFAkYCRwJIAkkCSgJLAkwCTQJOAk8CUAJRAlICUwJUAlUCVgJXAlgCWQJaAlsCXAJdAl4CXwJgAmECYgJjAmQCZQI=",
          "dtype": "i2"
         },
         "xaxis": "x",
         "y": {
          "bdata": "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",
          "dtype": "f8"
         },
         "yaxis": "y"
        },
        {
         "line": {
          "color": "green"
         },
         "mode": "lines+markers",
         "name": "Distance over Time",
         "type": "scatter",
         "x": [
          "2024-08-20T16:47:44.171939850",
          "2024-08-20T16:47:44.246758938",
          "2024-08-20T16:47:44.354124308",
          "2024-08-20T16:47:44.411969185",
          "2024-08-20T16:47:44.471809387",
          "2024-08-20T16:47:44.517326831",
          "2024-08-20T16:47:44.692218542",
          "2024-08-20T16:47:44.721200228",
          "2024-08-20T16:47:44.775993824",
          "2024-08-20T16:47:44.819666862",
          "2024-08-20T16:47:44.866542101",
          "2024-08-20T16:47:44.927247047",
          "2024-08-20T16:47:44.973125935",
          "2024-08-20T16:47:45.020550489",
          "2024-08-20T16:47:45.067422628",
          "2024-08-20T16:47:45.131216049",
          "2024-08-20T16:47:45.194048166",
          "2024-08-20T16:47:45.273834944",
          "2024-08-20T16:47:45.327688932",
          "2024-08-20T16:47:45.386590481",
          "2024-08-20T16:47:45.456371546",
          "2024-08-20T16:47:45.514191151",
          "2024-08-20T16:47:45.581012487",
          "2024-08-20T16:47:45.643843651",
          "2024-08-20T16:47:45.707672358",
          "2024-08-20T16:47:45.772499800",
          "2024-08-20T16:47:45.837326288",
          "2024-08-20T16:47:45.902153254",
          "2024-08-20T16:47:45.974266529",
          "2024-08-20T16:47:46.026164532",
          "2024-08-20T16:47:46.092398643",
          "2024-08-20T16:47:46.154214621",
          "2024-08-20T16:47:46.221339226",
          "2024-08-20T16:47:46.283142090",
          "2024-08-20T16:47:46.348964453",
          "2024-08-20T16:47:46.409801483",
          "2024-08-20T16:47:46.475664377",
          "2024-08-20T16:47:46.538455725",
          "2024-08-20T16:47:46.603900671",
          "2024-08-20T16:47:46.666741848",
          "2024-08-20T16:47:46.736284733",
          "2024-08-20T16:47:46.795178175",
          "2024-08-20T16:47:46.857958317",
          "2024-08-20T16:47:46.929105520",
          "2024-08-20T16:47:46.986919403",
          "2024-08-20T16:47:47.054142714",
          "2024-08-20T16:47:47.113987923",
          "2024-08-20T16:47:47.177778721",
          "2024-08-20T16:47:47.246594906",
          "2024-08-20T16:47:47.358294725",
          "2024-08-20T16:47:47.427145720",
          "2024-08-20T16:47:47.479969978",
          "2024-08-20T16:47:47.527842045",
          "2024-08-20T16:47:47.586736917",
          "2024-08-20T16:47:47.659493208",
          "2024-08-20T16:47:47.708359003",
          "2024-08-20T16:47:47.757228374",
          "2024-08-20T16:47:47.833025694",
          "2024-08-20T16:47:47.882892370",
          "2024-08-20T16:47:47.946822405",
          "2024-08-20T16:47:48.013215542",
          "2024-08-20T16:47:48.074018955",
          "2024-08-20T16:47:48.138726950",
          "2024-08-20T16:47:48.202469349",
          "2024-08-20T16:47:48.266641617",
          "2024-08-20T16:47:48.332435369",
          "2024-08-20T16:47:48.394267321",
          "2024-08-20T16:47:48.475052357",
          "2024-08-20T16:47:48.525180816",
          "2024-08-20T16:47:48.592999697",
          "2024-08-20T16:47:48.652390480",
          "2024-08-20T16:47:48.714364052",
          "2024-08-20T16:47:48.780152559",
          "2024-08-20T16:47:48.851963997",
          "2024-08-20T16:47:48.905861139",
          "2024-08-20T16:47:48.971640587",
          "2024-08-20T16:47:49.034506559",
          "2024-08-20T16:47:49.098338366",
          "2024-08-20T16:47:49.167119503",
          "2024-08-20T16:47:49.226017475",
          "2024-08-20T16:47:49.290824890",
          "2024-08-20T16:47:49.355650663",
          "2024-08-20T16:47:49.422471762",
          "2024-08-20T16:47:49.484307528",
          "2024-08-20T16:47:49.550174475",
          "2024-08-20T16:47:49.620942831",
          "2024-08-20T16:47:49.675711393",
          "2024-08-20T16:47:49.739547491",
          "2024-08-20T16:47:49.803318024",
          "2024-08-20T16:47:49.867148638",
          "2024-08-20T16:47:49.932971716",
          "2024-08-20T16:47:49.993861675",
          "2024-08-20T16:47:50.061627150",
          "2024-08-20T16:47:50.125334740",
          "2024-08-20T16:47:50.188164949",
          "2024-08-20T16:47:50.252163409",
          "2024-08-20T16:47:50.317499161",
          "2024-08-20T16:47:50.382355928",
          "2024-08-20T16:47:50.443242788",
          "2024-08-20T16:47:50.507108927",
          "2024-08-20T16:47:50.571238518",
          "2024-08-20T16:47:50.634930611",
          "2024-08-20T16:47:50.699757099",
          "2024-08-20T16:47:50.763586521",
          "2024-08-20T16:47:50.826418161",
          "2024-08-20T16:47:50.890282154",
          "2024-08-20T16:47:50.955132723",
          "2024-08-20T16:47:51.019939899",
          "2024-08-20T16:47:51.083728790",
          "2024-08-20T16:47:51.149554253",
          "2024-08-20T16:47:51.216409683",
          "2024-08-20T16:47:51.277235270",
          "2024-08-20T16:47:51.340044260",
          "2024-08-20T16:47:51.405867338",
          "2024-08-20T16:47:51.473687410",
          "2024-08-20T16:47:51.535520554",
          "2024-08-20T16:47:51.595361233",
          "2024-08-20T16:47:51.659704208",
          "2024-08-20T16:47:51.724531412",
          "2024-08-20T16:47:51.788359404",
          "2024-08-20T16:47:51.853073359",
          "2024-08-20T16:47:51.917900562",
          "2024-08-20T16:47:51.980785847",
          "2024-08-20T16:47:52.043613672",
          "2024-08-20T16:47:52.141387224",
          "2024-08-20T16:47:52.200196505",
          "2024-08-20T16:47:52.246078968",
          "2024-08-20T16:47:52.304915905",
          "2024-08-20T16:47:52.366280556",
          "2024-08-20T16:47:52.426626921",
          "2024-08-20T16:47:52.525870085",
          "2024-08-20T16:47:52.584752321",
          "2024-08-20T16:47:52.644551277",
          "2024-08-20T16:47:52.691462755",
          "2024-08-20T16:47:52.771213055",
          "2024-08-20T16:47:52.830056190",
          "2024-08-20T16:47:52.890927076",
          "2024-08-20T16:47:52.951729298",
          "2024-08-20T16:47:53.011570215",
          "2024-08-20T16:47:53.202059746",
          "2024-08-20T16:47:53.217020988",
          "2024-08-20T16:47:53.280850172",
          "2024-08-20T16:47:53.323734999",
          "2024-08-20T16:47:53.371240854",
          "2024-08-20T16:47:53.432103395",
          "2024-08-20T16:47:53.476957798",
          "2024-08-20T16:47:53.524829388",
          "2024-08-20T16:47:53.579683304",
          "2024-08-20T16:47:53.642189980",
          "2024-08-20T16:47:53.709011316",
          "2024-08-20T16:47:53.771844149",
          "2024-08-20T16:47:53.868626118",
          "2024-08-20T16:47:53.924451351",
          "2024-08-20T16:47:53.985272169",
          "2024-08-20T16:47:54.031149864",
          "2024-08-20T16:47:54.092983723",
          "2024-08-20T16:47:54.154819250",
          "2024-08-20T16:47:54.219644308",
          "2024-08-20T16:47:54.282478094",
          "2024-08-20T16:47:54.348300695",
          "2024-08-20T16:47:54.410170794",
          "2024-08-20T16:47:54.476963997",
          "2024-08-20T16:47:54.537794828",
          "2024-08-20T16:47:54.602658987",
          "2024-08-20T16:47:54.667447329",
          "2024-08-20T16:47:54.730786800",
          "2024-08-20T16:47:54.795613527",
          "2024-08-20T16:47:54.858543634",
          "2024-08-20T16:47:54.963657141",
          "2024-08-20T16:47:55.023437262",
          "2024-08-20T16:47:55.081900835",
          "2024-08-20T16:47:55.132729769",
          "2024-08-20T16:47:55.190574646",
          "2024-08-20T16:47:55.247935057",
          "2024-08-20T16:47:55.310768843",
          "2024-08-20T16:47:55.373363256",
          "2024-08-20T16:47:55.439188242",
          "2024-08-20T16:47:55.498029232",
          "2024-08-20T16:47:55.563548088",
          "2024-08-20T16:47:55.627378225",
          "2024-08-20T16:47:55.689976215",
          "2024-08-20T16:47:55.754279137",
          "2024-08-20T16:47:55.818141222",
          "2024-08-20T16:47:55.882447720",
          "2024-08-20T16:47:55.953258038",
          "2024-08-20T16:47:56.010139227",
          "2024-08-20T16:47:56.078921318",
          "2024-08-20T16:47:56.147737265",
          "2024-08-20T16:47:56.202618361",
          "2024-08-20T16:47:56.268472910",
          "2024-08-20T16:47:56.335235596",
          "2024-08-20T16:47:56.394118071",
          "2024-08-20T16:47:56.460489273",
          "2024-08-20T16:47:56.522359610",
          "2024-08-20T16:47:56.586188555",
          "2024-08-20T16:47:56.651039600",
          "2024-08-20T16:47:56.725779533",
          "2024-08-20T16:47:56.777676582",
          "2024-08-20T16:47:56.842501879",
          "2024-08-20T16:47:56.907293081",
          "2024-08-20T16:47:56.971778154",
          "2024-08-20T16:47:57.039655924",
          "2024-08-20T16:47:57.101386547",
          "2024-08-20T16:47:57.166303158",
          "2024-08-20T16:47:57.227087021",
          "2024-08-20T16:47:57.290947676",
          "2024-08-20T16:47:57.354745388",
          "2024-08-20T16:47:57.421566725",
          "2024-08-20T16:47:57.483259201",
          "2024-08-20T16:47:57.548047304",
          "2024-08-20T16:47:57.614868164",
          "2024-08-20T16:47:57.674710512",
          "2024-08-20T16:47:57.739534616",
          "2024-08-20T16:47:57.802401304",
          "2024-08-20T16:47:57.866270304",
          "2024-08-20T16:47:57.933017254",
          "2024-08-20T16:47:57.995848417",
          "2024-08-20T16:47:58.059722662",
          "2024-08-20T16:47:58.123565674",
          "2024-08-20T16:47:58.186374664",
          "2024-08-20T16:47:58.264134168",
          "2024-08-20T16:47:58.322974920",
          "2024-08-20T16:47:58.378824711",
          "2024-08-20T16:47:58.447648764",
          "2024-08-20T16:47:58.509407520",
          "2024-08-20T16:47:58.570245028",
          "2024-08-20T16:47:58.634071827",
          "2024-08-20T16:47:58.709217072",
          "2024-08-20T16:47:58.762074471",
          "2024-08-20T16:47:58.829204082",
          "2024-08-20T16:47:58.905050039",
          "2024-08-20T16:47:58.965945482",
          "2024-08-20T16:47:59.157031536",
          "2024-08-20T16:47:59.172988892",
          "2024-08-20T16:47:59.231831551",
          "2024-08-20T16:47:59.278706789",
          "2024-08-20T16:47:59.338548422",
          "2024-08-20T16:47:59.385420561",
          "2024-08-20T16:47:59.431298494",
          "2024-08-20T16:47:59.477175713",
          "2024-08-20T16:47:59.538012266",
          "2024-08-20T16:47:59.596856356",
          "2024-08-20T16:47:59.659686804",
          "2024-08-20T16:47:59.724568367",
          "2024-08-20T16:47:59.787349224",
          "2024-08-20T16:47:59.852172613",
          "2024-08-20T16:47:59.914006948",
          "2024-08-20T16:47:59.978869677",
          "2024-08-20T16:48:00.046685934",
          "2024-08-20T16:48:00.105494261",
          "2024-08-20T16:48:00.169875622",
          "2024-08-20T16:48:00.233754873",
          "2024-08-20T16:48:00.298531294",
          "2024-08-20T16:48:00.363357067",
          "2024-08-20T16:48:00.427844524",
          "2024-08-20T16:48:00.490677357",
          "2024-08-20T16:48:00.553544521",
          "2024-08-20T16:48:00.619970322",
          "2024-08-20T16:48:00.717767000",
          "2024-08-20T16:48:00.767633200",
          "2024-08-20T16:48:00.827415466",
          "2024-08-20T16:48:00.884321213",
          "2024-08-20T16:48:00.948131800",
          "2024-08-20T16:48:01.009926796",
          "2024-08-20T16:48:01.068769217",
          "2024-08-20T16:48:01.134593487",
          "2024-08-20T16:48:01.194461107",
          "2024-08-20T16:48:01.267238379",
          "2024-08-20T16:48:01.330105305",
          "2024-08-20T16:48:01.387915850",
          "2024-08-20T16:48:01.450784445",
          "2024-08-20T16:48:01.514146328",
          "2024-08-20T16:48:01.579647064",
          "2024-08-20T16:48:01.643498182",
          "2024-08-20T16:48:01.706395388",
          "2024-08-20T16:48:01.770217419",
          "2024-08-20T16:48:01.840024471",
          "2024-08-20T16:48:01.899893761",
          "2024-08-20T16:48:01.966684818",
          "2024-08-20T16:48:02.027521849",
          "2024-08-20T16:48:02.091407061",
          "2024-08-20T16:48:02.157230854",
          "2024-08-20T16:48:02.219099283",
          "2024-08-20T16:48:02.283891916",
          "2024-08-20T16:48:02.348719835",
          "2024-08-20T16:48:02.411550283",
          "2024-08-20T16:48:02.474381924",
          "2024-08-20T16:48:02.544195175",
          "2024-08-20T16:48:02.605031729",
          "2024-08-20T16:48:02.671853065",
          "2024-08-20T16:48:02.736750603",
          "2024-08-20T16:48:02.796589851",
          "2024-08-20T16:48:02.878702879",
          "2024-08-20T16:48:02.934868574",
          "2024-08-20T16:48:02.986792564",
          "2024-08-20T16:48:03.052615404",
          "2024-08-20T16:48:03.114449739",
          "2024-08-20T16:48:03.178281307",
          "2024-08-20T16:48:03.243110657",
          "2024-08-20T16:48:03.306975603",
          "2024-08-20T16:48:03.369767427",
          "2024-08-20T16:48:03.434818983",
          "2024-08-20T16:48:03.500152587",
          "2024-08-20T16:48:03.589912891",
          "2024-08-20T16:48:03.641772270",
          "2024-08-20T16:48:03.698728085",
          "2024-08-20T16:48:03.756747484",
          "2024-08-20T16:48:03.819664717",
          "2024-08-20T16:48:03.882495403",
          "2024-08-20T16:48:03.947356939",
          "2024-08-20T16:48:04.010213375",
          "2024-08-20T16:48:04.128244877",
          "2024-08-20T16:48:04.188034534",
          "2024-08-20T16:48:04.232915163",
          "2024-08-20T16:48:04.283824444",
          "2024-08-20T16:48:04.347688198",
          "2024-08-20T16:48:04.405500412",
          "2024-08-20T16:48:04.462346554",
          "2024-08-20T16:48:04.532161236",
          "2024-08-20T16:48:04.591042042",
          "2024-08-20T16:48:04.654832125",
          "2024-08-20T16:48:04.715764046",
          "2024-08-20T16:48:04.779550314",
          "2024-08-20T16:48:04.842439413",
          "2024-08-20T16:48:04.912254572",
          "2024-08-20T16:48:04.970040321",
          "2024-08-20T16:48:05.037896156",
          "2024-08-20T16:48:05.098696709",
          "2024-08-20T16:48:05.162525415",
          "2024-08-20T16:48:05.226354599",
          "2024-08-20T16:48:05.292872429",
          "2024-08-20T16:48:05.355219364",
          "2024-08-20T16:48:05.419068336",
          "2024-08-20T16:48:05.481900692",
          "2024-08-20T16:48:05.546734095",
          "2024-08-20T16:48:05.610528946",
          "2024-08-20T16:48:05.674997568",
          "2024-08-20T16:48:05.748602629",
          "2024-08-20T16:48:05.803342581",
          "2024-08-20T16:48:05.866198540",
          "2024-08-20T16:48:05.931496143",
          "2024-08-20T16:48:05.994328260",
          "2024-08-20T16:48:06.063198566",
          "2024-08-20T16:48:06.122102976",
          "2024-08-20T16:48:06.185932398",
          "2024-08-20T16:48:06.256743908",
          "2024-08-20T16:48:06.317581415",
          "2024-08-20T16:48:06.381409168",
          "2024-08-20T16:48:06.446293831",
          "2024-08-20T16:48:06.512118101",
          "2024-08-20T16:48:06.572896719",
          "2024-08-20T16:48:06.636730433",
          "2024-08-20T16:48:06.836317778",
          "2024-08-20T16:48:06.854288578",
          "2024-08-20T16:48:06.904136658",
          "2024-08-20T16:48:06.966010332",
          "2024-08-20T16:48:07.009807348",
          "2024-08-20T16:48:07.056682587",
          "2024-08-20T16:48:07.103558540",
          "2024-08-20T16:48:07.162968397",
          "2024-08-20T16:48:07.212835073",
          "2024-08-20T16:48:07.274667740",
          "2024-08-20T16:48:07.341491461",
          "2024-08-20T16:48:07.403325081",
          "2024-08-20T16:48:07.466277361",
          "2024-08-20T16:48:07.532282114",
          "2024-08-20T16:48:07.594154596",
          "2024-08-20T16:48:07.660262108",
          "2024-08-20T16:48:07.724040985",
          "2024-08-20T16:48:07.786871195",
          "2024-08-20T16:48:07.850701332",
          "2024-08-20T16:48:07.915526152",
          "2024-08-20T16:48:07.980392218",
          "2024-08-20T16:48:08.053159714",
          "2024-08-20T16:48:08.107014418",
          "2024-08-20T16:48:08.172837973",
          "2024-08-20T16:48:08.236719847",
          "2024-08-20T16:48:08.298501968",
          "2024-08-20T16:48:08.365870953",
          "2024-08-20T16:48:08.428702831",
          "2024-08-20T16:48:08.490572214",
          "2024-08-20T16:48:08.562345505",
          "2024-08-20T16:48:08.622185469",
          "2024-08-20T16:48:08.683021784",
          "2024-08-20T16:48:08.753835678",
          "2024-08-20T16:48:08.816665173",
          "2024-08-20T16:48:08.874510050",
          "2024-08-20T16:48:08.940369368",
          "2024-08-20T16:48:09.003207445",
          "2024-08-20T16:48:09.066655159",
          "2024-08-20T16:48:09.136342525",
          "2024-08-20T16:48:09.195242405",
          "2024-08-20T16:48:09.306885481",
          "2024-08-20T16:48:09.350795031",
          "2024-08-20T16:48:09.412605286",
          "2024-08-20T16:48:09.475659847",
          "2024-08-20T16:48:09.536460876",
          "2024-08-20T16:48:09.593308449",
          "2024-08-20T16:48:09.654146671",
          "2024-08-20T16:48:09.711991549",
          "2024-08-20T16:48:09.778812170",
          "2024-08-20T16:48:09.834663391",
          "2024-08-20T16:48:09.898491859",
          "2024-08-20T16:48:09.963353634",
          "2024-08-20T16:48:10.030206919",
          "2024-08-20T16:48:10.094035625",
          "2024-08-20T16:48:10.158863544",
          "2024-08-20T16:48:10.224722385",
          "2024-08-20T16:48:10.289512634",
          "2024-08-20T16:48:10.353345394",
          "2024-08-20T16:48:10.414207935",
          "2024-08-20T16:48:10.483056307",
          "2024-08-20T16:48:10.544891119",
          "2024-08-20T16:48:10.602737188",
          "2024-08-20T16:48:10.666494131",
          "2024-08-20T16:48:10.739317417",
          "2024-08-20T16:48:10.794203997",
          "2024-08-20T16:48:10.857996941",
          "2024-08-20T16:48:10.921862364",
          "2024-08-20T16:48:10.985691547",
          "2024-08-20T16:48:11.053472996",
          "2024-08-20T16:48:11.114311695",
          "2024-08-20T16:48:11.178140402",
          "2024-08-20T16:48:11.244022369",
          "2024-08-20T16:48:11.308789492",
          "2024-08-20T16:48:11.373616934",
          "2024-08-20T16:48:11.436449528",
          "2024-08-20T16:48:11.498282909",
          "2024-08-20T16:48:11.565140963",
          "2024-08-20T16:48:11.629965782",
          "2024-08-20T16:48:11.695792913",
          "2024-08-20T16:48:11.754638672",
          "2024-08-20T16:48:11.827409267",
          "2024-08-20T16:48:11.883852243",
          "2024-08-20T16:48:11.947742939",
          "2024-08-20T16:48:12.012507439",
          "2024-08-20T16:48:12.076875925",
          "2024-08-20T16:48:12.147686243",
          "2024-08-20T16:48:12.204534054",
          "2024-08-20T16:48:12.267259598",
          "2024-08-20T16:48:12.337114811",
          "2024-08-20T16:48:12.393917799",
          "2024-08-20T16:48:12.460777998",
          "2024-08-20T16:48:12.525565386",
          "2024-08-20T16:48:12.588397264",
          "2024-08-20T16:48:12.652228594",
          "2024-08-20T16:48:12.714060307",
          "2024-08-20T16:48:12.777925014",
          "2024-08-20T16:48:12.895574808",
          "2024-08-20T16:48:12.912529945",
          "2024-08-20T16:48:12.972404480",
          "2024-08-20T16:48:13.035202503",
          "2024-08-20T16:48:13.098033905",
          "2024-08-20T16:48:13.163858414",
          "2024-08-20T16:48:13.227719784",
          "2024-08-20T16:48:13.291516304",
          "2024-08-20T16:48:13.354347467",
          "2024-08-20T16:48:13.418179035",
          "2024-08-20T16:48:13.486033440",
          "2024-08-20T16:48:13.545837879",
          "2024-08-20T16:48:13.612519741",
          "2024-08-20T16:48:13.674001455",
          "2024-08-20T16:48:13.742807627",
          "2024-08-20T16:48:13.803879976",
          "2024-08-20T16:48:13.868707895",
          "2024-08-20T16:48:13.936525345",
          "2024-08-20T16:48:13.994428158",
          "2024-08-20T16:48:14.066179275",
          "2024-08-20T16:48:14.122064829",
          "2024-08-20T16:48:14.185885906",
          "2024-08-20T16:48:14.255061388",
          "2024-08-20T16:48:14.314900637",
          "2024-08-20T16:48:14.380724907",
          "2024-08-20T16:48:14.445611715",
          "2024-08-20T16:48:14.506390095",
          "2024-08-20T16:48:14.570218563",
          "2024-08-20T16:48:14.635071993",
          "2024-08-20T16:48:14.698876619",
          "2024-08-20T16:48:14.762428999",
          "2024-08-20T16:48:14.827227354",
          "2024-08-20T16:48:14.895051003",
          "2024-08-20T16:48:14.955862045",
          "2024-08-20T16:48:15.019717455",
          "2024-08-20T16:48:15.081943512",
          "2024-08-20T16:48:15.145903111",
          "2024-08-20T16:48:15.210730791",
          "2024-08-20T16:48:15.275556087",
          "2024-08-20T16:48:15.341380835",
          "2024-08-20T16:48:15.403215647",
          "2024-08-20T16:48:15.467082500",
          "2024-08-20T16:48:15.530874729",
          "2024-08-20T16:48:15.598694324",
          "2024-08-20T16:48:15.661524534",
          "2024-08-20T16:48:15.724359751",
          "2024-08-20T16:48:15.787189245",
          "2024-08-20T16:48:15.858000040",
          "2024-08-20T16:48:15.916517258",
          "2024-08-20T16:48:15.979348421",
          "2024-08-20T16:48:16.044168234",
          "2024-08-20T16:48:16.106973171",
          "2024-08-20T16:48:16.172796249",
          "2024-08-20T16:48:16.235630035",
          "2024-08-20T16:48:16.300489902",
          "2024-08-20T16:48:16.380242348",
          "2024-08-20T16:48:16.427173853",
          "2024-08-20T16:48:16.491981983",
          "2024-08-20T16:48:16.555432081",
          "2024-08-20T16:48:16.620257854",
          "2024-08-20T16:48:16.682100534",
          "2024-08-20T16:48:16.748934031",
          "2024-08-20T16:48:16.810754299",
          "2024-08-20T16:48:16.873645782",
          "2024-08-20T16:48:16.938413382",
          "2024-08-20T16:48:17.009280205",
          "2024-08-20T16:48:17.123018265",
          "2024-08-20T16:48:17.185289383",
          "2024-08-20T16:48:17.248796940",
          "2024-08-20T16:48:17.305608511",
          "2024-08-20T16:48:17.352488756",
          "2024-08-20T16:48:17.402354240",
          "2024-08-20T16:48:17.469170094",
          "2024-08-20T16:48:17.522073507",
          "2024-08-20T16:48:17.579877138",
          "2024-08-20T16:48:17.642741919",
          "2024-08-20T16:48:17.842206240",
          "2024-08-20T16:48:17.860124826",
          "2024-08-20T16:48:17.921180725",
          "2024-08-20T16:48:17.967006683",
          "2024-08-20T16:48:18.012890339",
          "2024-08-20T16:48:18.073756456",
          "2024-08-20T16:48:18.118637085",
          "2024-08-20T16:48:18.166507483",
          "2024-08-20T16:48:18.219365597",
          "2024-08-20T16:48:18.284160137",
          "2024-08-20T16:48:18.348985910",
          "2024-08-20T16:48:18.411817074",
          "2024-08-20T16:48:18.473703146",
          "2024-08-20T16:48:18.541541338",
          "2024-08-20T16:48:18.602415085",
          "2024-08-20T16:48:18.673191071",
          "2024-08-20T16:48:18.732121706",
          "2024-08-20T16:48:18.799949169",
          "2024-08-20T16:48:18.858753443",
          "2024-08-20T16:48:18.922598362",
          "2024-08-20T16:48:18.992413282",
          "2024-08-20T16:48:19.053250074",
          "2024-08-20T16:48:19.114130259",
          "2024-08-20T16:48:19.177958965",
          "2024-08-20T16:48:19.242491722",
          "2024-08-20T16:48:19.307971478",
          "2024-08-20T16:48:19.374793768",
          "2024-08-20T16:48:19.451589584",
          "2024-08-20T16:48:19.505443573",
          "2024-08-20T16:48:19.563289404",
          "2024-08-20T16:48:19.628154039",
          "2024-08-20T16:48:19.690948248",
          "2024-08-20T16:48:19.770733833",
          "2024-08-20T16:48:19.819602728",
          "2024-08-20T16:48:19.884460449",
          "2024-08-20T16:48:19.947800398",
          "2024-08-20T16:48:20.010573864",
          "2024-08-20T16:48:20.074461937",
          "2024-08-20T16:48:20.141704559",
          "2024-08-20T16:48:20.205575466",
          "2024-08-20T16:48:20.266371250",
          "2024-08-20T16:48:20.331232786",
          "2024-08-20T16:48:20.394728184",
          "2024-08-20T16:48:20.458529711",
          "2024-08-20T16:48:20.524160623",
          "2024-08-20T16:48:20.587005615",
          "2024-08-20T16:48:20.651974440",
          "2024-08-20T16:48:20.717056751",
          "2024-08-20T16:48:20.781908512",
          "2024-08-20T16:48:20.842904806",
          "2024-08-20T16:48:20.906233072",
          "2024-08-20T16:48:20.971096277",
          "2024-08-20T16:48:21.033893347",
          "2024-08-20T16:48:21.098718882",
          "2024-08-20T16:48:21.164578676",
          "2024-08-20T16:48:21.229370117",
          "2024-08-20T16:48:21.295193434",
          "2024-08-20T16:48:21.360019922",
          "2024-08-20T16:48:21.419860125",
          "2024-08-20T16:48:21.482147932",
          "2024-08-20T16:48:21.548967838",
          "2024-08-20T16:48:21.638780355",
          "2024-08-20T16:48:21.686600685",
          "2024-08-20T16:48:21.743448973",
          "2024-08-20T16:48:21.804286003",
          "2024-08-20T16:48:21.867117882",
          "2024-08-20T16:48:21.931745291",
          "2024-08-20T16:48:21.995573759",
          "2024-08-20T16:48:22.060824394",
          "2024-08-20T16:48:22.126934767",
          "2024-08-20T16:48:22.186774969",
          "2024-08-20T16:48:22.255798340",
          "2024-08-20T16:48:22.315148830",
          "2024-08-20T16:48:22.381966829",
          "2024-08-20T16:48:22.442358255",
          "2024-08-20T16:48:22.510727644",
          "2024-08-20T16:48:22.570566654",
          "2024-08-20T16:48:22.635160923",
          "2024-08-20T16:48:22.699987888",
          "2024-08-20T16:48:22.764813423",
          "2024-08-20T16:48:22.826277494",
          "2024-08-20T16:48:22.890106201",
          "2024-08-20T16:48:22.954741001",
          "2024-08-20T16:48:23.018568516",
          "2024-08-20T16:48:23.084412336",
          "2024-08-20T16:48:23.148221493",
          "2024-08-20T16:48:23.214046001",
          "2024-08-20T16:48:23.278872252",
          "2024-08-20T16:48:23.353672266"
         ],
         "xaxis": "x2",
         "y": {
          "bdata": "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",
          "dtype": "f8"
         },
         "yaxis": "y2"
        },
        {
         "marker": {
          "color": "lightcoral"
         },
         "name": "Distribution",
         "nbinsx": 30,
         "opacity": 0.7,
         "type": "histogram",
         "x": {
          "bdata": "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",
          "dtype": "f8"
         },
         "xaxis": "x3",
         "yaxis": "y3"
        },
        {
         "line": {
          "color": "lightcoral",
          "width": 1
         },
         "mode": "lines",
         "name": "Raw",
         "opacity": 0.5,
         "type": "scatter",
         "x": {
          "bdata": "AQACAAMABAAFAAYABwAIAAkACgALAAwADQAOAA8AEAARABIAEwAUABUAFgAXABgAGQAaABsAHAAdAB4AHwAgACEAIgAjACQAJQAmACcAKAApACoAKwAsAC0ALgAvADAAMQAyADMANAA1ADYANwA4ADkAOgA7ADwAPQA+AD8AQABBAEIAQwBEAEUARgBHAEgASQBKAEsATABNAE4ATwBQAFEAUgBTAFQAVQBWAFcAWABZAFoAWwBcAF0AXgBfAGAAYQBiAGMAZABlAGYAZwBoAGkAagBrAGwAbQBuAG8AcABxAHIAcwB0AHUAdgB3AHgAeQB6AHsAfAB9AH4AfwCAAIEAggCDAIQAhQCGAIcAiACJAIoAiwCMAI0AjgCPAJAAkQCSAJMAlACVAJYAlwCYAJkAmgCbAJwAnQCeAJ8AoAChAKIAowCkAKUApgCnAKgAqQCqAKsArACtAK4ArwCwALEAsgCzALQAtQC2ALcAuAC5ALoAuwC8AL0AvgC/AMAAwQDCAMMAxADFAMYAxwDIAMkAygDLAMwAzQDOAM8A0ADRANIA0wDUANUA1gDXANgA2QDaANsA3ADdAN4A3wDgAOEA4gDjAOQA5QDmAOcA6ADpAOoA6wDsAO0A7gDvAPAA8QDyAPMA9AD1APYA9wD4APkA+gD7APwA/QD+AP8AAAEBAQIBAwEEAQUBBgEHAQgBCQEKAQsBDAENAQ4BDwEQAREBEgETARQBFQEWARcBGAEZARoBGwEcAR0BHgEfASABIQEiASMBJAElASYBJwEoASkBKgErASwBLQEuAS8BMAExATIBMwE0ATUBNgE3ATgBOQE6ATsBPAE9AT4BPwFAAUEBQgFDAUQBRQFGAUcBSAFJAUoBSwFMAU0BTgFPAVABUQFSAVMBVAFVAVYBVwFYAVkBWgFbAVwBXQFeAV8BYAFhAWIBYwFkAWUBZgFnAWgBaQFqAWsBbAFtAW4BbwFwAXEBcgFzAXQBdQF2AXcBeAF5AXoBewF8AX0BfgF/AYABgQGCAYMBhAGFAYYBhwGIAYkBigGLAYwBjQGOAY8BkAGRAZIBkwGUAZUBlgGXAZgBmQGaAZsBnAGdAZ4BnwGgAaEBogGjAaQBpQGmAacBqAGpAaoBqwGsAa0BrgGvAbABsQGyAbMBtAG1AbYBtwG4AbkBugG7AbwBvQG+Ab8BwAHBAcIBwwHEAcUBxgHHAcgByQHKAcsBzAHNAc4BzwHQAdEB0gHTAdQB1QHWAdcB2AHZAdoB2wHcAd0B3gHfAeAB4QHiAeMB5AHlAeYB5wHoAekB6gHrAewB7QHuAe8B8AHxAfIB8wH0AfUB9gH3AfgB+QH6AfsB/AH9Af4B/wEAAgECAgIDAgQCBQIGAgcCCAIJAgoCCwIMAg0CDgIPAhACEQISAhMCFAIVAhYCFwIYAhkCGgIbAhwCHQIeAh8CIAIhAiICIwIkAiUCJgInAigCKQIqAisCLAItAi4CLwIwAjECMgIzAjQCNQI2AjcCOAI5AjoCOwI8Aj0CPgI/AkACQQJCAkMCRAJFAkYCRwJIAkkCSgJLAkwCTQJOAk8CUAJRAlICUwJUAlUCVgJXAlgCWQJaAlsCXAJdAl4CXwJgAmECYgJjAmQCZQI=",
          "dtype": "i2"
         },
         "xaxis": "x4",
         "y": {
          "bdata": "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",
          "dtype": "f8"
         },
         "yaxis": "y4"
        },
        {
         "line": {
          "color": "darkred",
          "width": 3
         },
         "mode": "lines",
         "name": "Smoothed (n=30)",
         "type": "scatter",
         "x": {
          "bdata": "AQACAAMABAAFAAYABwAIAAkACgALAAwADQAOAA8AEAARABIAEwAUABUAFgAXABgAGQAaABsAHAAdAB4AHwAgACEAIgAjACQAJQAmACcAKAApACoAKwAsAC0ALgAvADAAMQAyADMANAA1ADYANwA4ADkAOgA7ADwAPQA+AD8AQABBAEIAQwBEAEUARgBHAEgASQBKAEsATABNAE4ATwBQAFEAUgBTAFQAVQBWAFcAWABZAFoAWwBcAF0AXgBfAGAAYQBiAGMAZABlAGYAZwBoAGkAagBrAGwAbQBuAG8AcABxAHIAcwB0AHUAdgB3AHgAeQB6AHsAfAB9AH4AfwCAAIEAggCDAIQAhQCGAIcAiACJAIoAiwCMAI0AjgCPAJAAkQCSAJMAlACVAJYAlwCYAJkAmgCbAJwAnQCeAJ8AoAChAKIAowCkAKUApgCnAKgAqQCqAKsArACtAK4ArwCwALEAsgCzALQAtQC2ALcAuAC5ALoAuwC8AL0AvgC/AMAAwQDCAMMAxADFAMYAxwDIAMkAygDLAMwAzQDOAM8A0ADRANIA0wDUANUA1gDXANgA2QDaANsA3ADdAN4A3wDgAOEA4gDjAOQA5QDmAOcA6ADpAOoA6wDsAO0A7gDvAPAA8QDyAPMA9AD1APYA9wD4APkA+gD7APwA/QD+AP8AAAEBAQIBAwEEAQUBBgEHAQgBCQEKAQsBDAENAQ4BDwEQAREBEgETARQBFQEWARcBGAEZARoBGwEcAR0BHgEfASABIQEiASMBJAElASYBJwEoASkBKgErASwBLQEuAS8BMAExATIBMwE0ATUBNgE3ATgBOQE6ATsBPAE9AT4BPwFAAUEBQgFDAUQBRQFGAUcBSAFJAUoBSwFMAU0BTgFPAVABUQFSAVMBVAFVAVYBVwFYAVkBWgFbAVwBXQFeAV8BYAFhAWIBYwFkAWUBZgFnAWgBaQFqAWsBbAFtAW4BbwFwAXEBcgFzAXQBdQF2AXcBeAF5AXoBewF8AX0BfgF/AYABgQGCAYMBhAGFAYYBhwGIAYkBigGLAYwBjQGOAY8BkAGRAZIBkwGUAZUBlgGXAZgBmQGaAZsBnAGdAZ4BnwGgAaEBogGjAaQBpQGmAacBqAGpAaoBqwGsAa0BrgGvAbABsQGyAbMBtAG1AbYBtwG4AbkBugG7AbwBvQG+Ab8BwAHBAcIBwwHEAcUBxgHHAcgByQHKAcsBzAHNAc4BzwHQAdEB0gHTAdQB1QHWAdcB2AHZAdoB2wHcAd0B3gHfAeAB4QHiAeMB5AHlAeYB5wHoAekB6gHrAewB7QHuAe8B8AHxAfIB8wH0AfUB9gH3AfgB+QH6AfsB/AH9Af4B/wEAAgECAgIDAgQCBQIGAgcCCAIJAgoCCwIMAg0CDgIPAhACEQISAhMCFAIVAhYCFwIYAhkCGgIbAhwCHQIeAh8CIAIhAiICIwIkAiUCJgInAigCKQIqAisCLAItAi4CLwIwAjECMgIzAjQCNQI2AjcCOAI5AjoCOwI8Aj0CPgI/AkACQQJCAkMCRAJFAkYCRwJIAkkCSgJLAkwCTQJOAk8CUAJRAlICUwJUAlUCVgJXAlgCWQJaAlsCXAJdAl4CXwJgAmECYgJjAmQCZQI=",
          "dtype": "i2"
         },
         "xaxis": "x4",
         "y": {
          "bdata": "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",
          "dtype": "f8"
         },
         "yaxis": "y4"
        }
       ],
       "layout": {
        "annotations": [
         {
          "font": {
           "size": 16
          },
          "showarrow": false,
          "text": "Distance vs Frame Index",
          "x": 0.225,
          "xanchor": "center",
          "xref": "paper",
          "y": 1,
          "yanchor": "bottom",
          "yref": "paper"
         },
         {
          "font": {
           "size": 16
          },
          "showarrow": false,
          "text": "Distance vs Time",
          "x": 0.775,
          "xanchor": "center",
          "xref": "paper",
          "y": 1,
          "yanchor": "bottom",
          "yref": "paper"
         },
         {
          "font": {
           "size": 16
          },
          "showarrow": false,
          "text": "Distance Distribution",
          "x": 0.225,
          "xanchor": "center",
          "xref": "paper",
          "y": 0.375,
          "yanchor": "bottom",
          "yref": "paper"
         },
         {
          "font": {
           "size": 16
          },
          "showarrow": false,
          "text": "Distance Trends",
          "x": 0.775,
          "xanchor": "center",
          "xref": "paper",
          "y": 0.375,
          "yanchor": "bottom",
          "yref": "paper"
         },
         {
          "showarrow": false,
          "text": "Mean: 0.98meters",
          "x": 0.9791831666438883,
          "xanchor": "left",
          "xref": "x3",
          "y": 1,
          "yanchor": "top",
          "yref": "y3 domain"
         }
        ],
        "height": 800,
        "shapes": [
         {
          "line": {
           "color": "red",
           "dash": "dash"
          },
          "type": "line",
          "x0": 0.9791831666438883,
          "x1": 0.9791831666438883,
          "xref": "x3",
          "y0": 0,
          "y1": 1,
          "yref": "y3 domain"
         }
        ],
        "showlegend": true,
        "template": {
         "data": {
          "bar": [
           {
            "error_x": {
             "color": "#2a3f5f"
            },
            "error_y": {
             "color": "#2a3f5f"
            },
            "marker": {
             "line": {
              "color": "#E5ECF6",
              "width": 0.5
             },
             "pattern": {
              "fillmode": "overlay",
              "size": 10,
              "solidity": 0.2
             }
            },
            "type": "bar"
           }
          ],
          "barpolar": [
           {
            "marker": {
             "line": {
              "color": "#E5ECF6",
              "width": 0.5
             },
             "pattern": {
              "fillmode": "overlay",
              "size": 10,
              "solidity": 0.2
             }
            },
            "type": "barpolar"
           }
          ],
          "carpet": [
           {
            "aaxis": {
             "endlinecolor": "#2a3f5f",
             "gridcolor": "white",
             "linecolor": "white",
             "minorgridcolor": "white",
             "startlinecolor": "#2a3f5f"
            },
            "baxis": {
             "endlinecolor": "#2a3f5f",
             "gridcolor": "white",
             "linecolor": "white",
             "minorgridcolor": "white",
             "startlinecolor": "#2a3f5f"
            },
            "type": "carpet"
           }
          ],
          "choropleth": [
           {
            "colorbar": {
             "outlinewidth": 0,
             "ticks": ""
            },
            "type": "choropleth"
           }
          ],
          "contour": [
           {
            "colorbar": {
             "outlinewidth": 0,
             "ticks": ""
            },
            "colorscale": [
             [
              0,
              "#0d0887"
             ],
             [
              0.1111111111111111,
              "#46039f"
             ],
             [
              0.2222222222222222,
              "#7201a8"
             ],
             [
              0.3333333333333333,
              "#9c179e"
             ],
             [
              0.4444444444444444,
              "#bd3786"
             ],
             [
              0.5555555555555556,
              "#d8576b"
             ],
             [
              0.6666666666666666,
              "#ed7953"
             ],
             [
              0.7777777777777778,
              "#fb9f3a"
             ],
             [
              0.8888888888888888,
              "#fdca26"
             ],
             [
              1,
              "#f0f921"
             ]
            ],
            "type": "contour"
           }
          ],
          "contourcarpet": [
           {
            "colorbar": {
             "outlinewidth": 0,
             "ticks": ""
            },
            "type": "contourcarpet"
           }
          ],
          "heatmap": [
           {
            "colorbar": {
             "outlinewidth": 0,
             "ticks": ""
            },
            "colorscale": [
             [
              0,
              "#0d0887"
             ],
             [
              0.1111111111111111,
              "#46039f"
             ],
             [
              0.2222222222222222,
              "#7201a8"
             ],
             [
              0.3333333333333333,
              "#9c179e"
             ],
             [
              0.4444444444444444,
              "#bd3786"
             ],
             [
              0.5555555555555556,
              "#d8576b"
             ],
             [
              0.6666666666666666,
              "#ed7953"
             ],
             [
              0.7777777777777778,
              "#fb9f3a"
             ],
             [
              0.8888888888888888,
              "#fdca26"
             ],
             [
              1,
              "#f0f921"
             ]
            ],
            "type": "heatmap"
           }
          ],
          "histogram": [
           {
            "marker": {
             "pattern": {
              "fillmode": "overlay",
              "size": 10,
              "solidity": 0.2
             }
            },
            "type": "histogram"
           }
          ],
          "histogram2d": [
           {
            "colorbar": {
             "outlinewidth": 0,
             "ticks": ""
            },
            "colorscale": [
             [
              0,
              "#0d0887"
             ],
             [
              0.1111111111111111,
              "#46039f"
             ],
             [
              0.2222222222222222,
              "#7201a8"
             ],
             [
              0.3333333333333333,
              "#9c179e"
             ],
             [
              0.4444444444444444,
              "#bd3786"
             ],
             [
              0.5555555555555556,
              "#d8576b"
             ],
             [
              0.6666666666666666,
              "#ed7953"
             ],
             [
              0.7777777777777778,
              "#fb9f3a"
             ],
             [
              0.8888888888888888,
              "#fdca26"
             ],
             [
              1,
              "#f0f921"
             ]
            ],
            "type": "histogram2d"
           }
          ],
          "histogram2dcontour": [
           {
            "colorbar": {
             "outlinewidth": 0,
             "ticks": ""
            },
            "colorscale": [
             [
              0,
              "#0d0887"
             ],
             [
              0.1111111111111111,
              "#46039f"
             ],
             [
              0.2222222222222222,
              "#7201a8"
             ],
             [
              0.3333333333333333,
              "#9c179e"
             ],
             [
              0.4444444444444444,
              "#bd3786"
             ],
             [
              0.5555555555555556,
              "#d8576b"
             ],
             [
              0.6666666666666666,
              "#ed7953"
             ],
             [
              0.7777777777777778,
              "#fb9f3a"
             ],
             [
              0.8888888888888888,
              "#fdca26"
             ],
             [
              1,
              "#f0f921"
             ]
            ],
            "type": "histogram2dcontour"
           }
          ],
          "mesh3d": [
           {
            "colorbar": {
             "outlinewidth": 0,
             "ticks": ""
            },
            "type": "mesh3d"
           }
          ],
          "parcoords": [
           {
            "line": {
             "colorbar": {
              "outlinewidth": 0,
              "ticks": ""
             }
            },
            "type": "parcoords"
           }
          ],
          "pie": [
           {
            "automargin": true,
            "type": "pie"
           }
          ],
          "scatter": [
           {
            "fillpattern": {
             "fillmode": "overlay",
             "size": 10,
             "solidity": 0.2
            },
            "type": "scatter"
           }
          ],
          "scatter3d": [
           {
            "line": {
             "colorbar": {
              "outlinewidth": 0,
              "ticks": ""
             }
            },
            "marker": {
             "colorbar": {
              "outlinewidth": 0,
              "ticks": ""
             }
            },
            "type": "scatter3d"
           }
          ],
          "scattercarpet": [
           {
            "marker": {
             "colorbar": {
              "outlinewidth": 0,
              "ticks": ""
             }
            },
            "type": "scattercarpet"
           }
          ],
          "scattergeo": [
           {
            "marker": {
             "colorbar": {
              "outlinewidth": 0,
              "ticks": ""
             }
            },
            "type": "scattergeo"
           }
          ],
          "scattergl": [
           {
            "marker": {
             "colorbar": {
              "outlinewidth": 0,
              "ticks": ""
             }
            },
            "type": "scattergl"
           }
          ],
          "scattermap": [
           {
            "marker": {
             "colorbar": {
              "outlinewidth": 0,
              "ticks": ""
             }
            },
            "type": "scattermap"
           }
          ],
          "scattermapbox": [
           {
            "marker": {
             "colorbar": {
              "outlinewidth": 0,
              "ticks": ""
             }
            },
            "type": "scattermapbox"
           }
          ],
          "scatterpolar": [
           {
            "marker": {
             "colorbar": {
              "outlinewidth": 0,
              "ticks": ""
             }
            },
            "type": "scatterpolar"
           }
          ],
          "scatterpolargl": [
           {
            "marker": {
             "colorbar": {
              "outlinewidth": 0,
              "ticks": ""
             }
            },
            "type": "scatterpolargl"
           }
          ],
          "scatterternary": [
           {
            "marker": {
             "colorbar": {
              "outlinewidth": 0,
              "ticks": ""
             }
            },
            "type": "scatterternary"
           }
          ],
          "surface": [
           {
            "colorbar": {
             "outlinewidth": 0,
             "ticks": ""
            },
            "colorscale": [
             [
              0,
              "#0d0887"
             ],
             [
              0.1111111111111111,
              "#46039f"
             ],
             [
              0.2222222222222222,
              "#7201a8"
             ],
             [
              0.3333333333333333,
              "#9c179e"
             ],
             [
              0.4444444444444444,
              "#bd3786"
             ],
             [
              0.5555555555555556,
              "#d8576b"
             ],
             [
              0.6666666666666666,
              "#ed7953"
             ],
             [
              0.7777777777777778,
              "#fb9f3a"
             ],
             [
              0.8888888888888888,
              "#fdca26"
             ],
             [
              1,
              "#f0f921"
             ]
            ],
            "type": "surface"
           }
          ],
          "table": [
           {
            "cells": {
             "fill": {
              "color": "#EBF0F8"
             },
             "line": {
              "color": "white"
             }
            },
            "header": {
             "fill": {
              "color": "#C8D4E3"
             },
             "line": {
              "color": "white"
             }
            },
            "type": "table"
           }
          ]
         },
         "layout": {
          "annotationdefaults": {
           "arrowcolor": "#2a3f5f",
           "arrowhead": 0,
           "arrowwidth": 1
          },
          "autotypenumbers": "strict",
          "coloraxis": {
           "colorbar": {
            "outlinewidth": 0,
            "ticks": ""
           }
          },
          "colorscale": {
           "diverging": [
            [
             0,
             "#8e0152"
            ],
            [
             0.1,
             "#c51b7d"
            ],
            [
             0.2,
             "#de77ae"
            ],
            [
             0.3,
             "#f1b6da"
            ],
            [
             0.4,
             "#fde0ef"
            ],
            [
             0.5,
             "#f7f7f7"
            ],
            [
             0.6,
             "#e6f5d0"
            ],
            [
             0.7,
             "#b8e186"
            ],
            [
             0.8,
             "#7fbc41"
            ],
            [
             0.9,
             "#4d9221"
            ],
            [
             1,
             "#276419"
            ]
           ],
           "sequential": [
            [
             0,
             "#0d0887"
            ],
            [
             0.1111111111111111,
             "#46039f"
            ],
            [
             0.2222222222222222,
             "#7201a8"
            ],
            [
             0.3333333333333333,
             "#9c179e"
            ],
            [
             0.4444444444444444,
             "#bd3786"
            ],
            [
             0.5555555555555556,
             "#d8576b"
            ],
            [
             0.6666666666666666,
             "#ed7953"
            ],
            [
             0.7777777777777778,
             "#fb9f3a"
            ],
            [
             0.8888888888888888,
             "#fdca26"
            ],
            [
             1,
             "#f0f921"
            ]
           ],
           "sequentialminus": [
            [
             0,
             "#0d0887"
            ],
            [
             0.1111111111111111,
             "#46039f"
            ],
            [
             0.2222222222222222,
             "#7201a8"
            ],
            [
             0.3333333333333333,
             "#9c179e"
            ],
            [
             0.4444444444444444,
             "#bd3786"
            ],
            [
             0.5555555555555556,
             "#d8576b"
            ],
            [
             0.6666666666666666,
             "#ed7953"
            ],
            [
             0.7777777777777778,
             "#fb9f3a"
            ],
            [
             0.8888888888888888,
             "#fdca26"
            ],
            [
             1,
             "#f0f921"
            ]
           ]
          },
          "colorway": [
           "#636efa",
           "#EF553B",
           "#00cc96",
           "#ab63fa",
           "#FFA15A",
           "#19d3f3",
           "#FF6692",
           "#B6E880",
           "#FF97FF",
           "#FECB52"
          ],
          "font": {
           "color": "#2a3f5f"
          },
          "geo": {
           "bgcolor": "white",
           "lakecolor": "white",
           "landcolor": "#E5ECF6",
           "showlakes": true,
           "showland": true,
           "subunitcolor": "white"
          },
          "hoverlabel": {
           "align": "left"
          },
          "hovermode": "closest",
          "mapbox": {
           "style": "light"
          },
          "paper_bgcolor": "white",
          "plot_bgcolor": "#E5ECF6",
          "polar": {
           "angularaxis": {
            "gridcolor": "white",
            "linecolor": "white",
            "ticks": ""
           },
           "bgcolor": "#E5ECF6",
           "radialaxis": {
            "gridcolor": "white",
            "linecolor": "white",
            "ticks": ""
           }
          },
          "scene": {
           "xaxis": {
            "backgroundcolor": "#E5ECF6",
            "gridcolor": "white",
            "gridwidth": 2,
            "linecolor": "white",
            "showbackground": true,
            "ticks": "",
            "zerolinecolor": "white"
           },
           "yaxis": {
            "backgroundcolor": "#E5ECF6",
            "gridcolor": "white",
            "gridwidth": 2,
            "linecolor": "white",
            "showbackground": true,
            "ticks": "",
            "zerolinecolor": "white"
           },
           "zaxis": {
            "backgroundcolor": "#E5ECF6",
            "gridcolor": "white",
            "gridwidth": 2,
            "linecolor": "white",
            "showbackground": true,
            "ticks": "",
            "zerolinecolor": "white"
           }
          },
          "shapedefaults": {
           "line": {
            "color": "#2a3f5f"
           }
          },
          "ternary": {
           "aaxis": {
            "gridcolor": "white",
            "linecolor": "white",
            "ticks": ""
           },
           "baxis": {
            "gridcolor": "white",
            "linecolor": "white",
            "ticks": ""
           },
           "bgcolor": "#E5ECF6",
           "caxis": {
            "gridcolor": "white",
            "linecolor": "white",
            "ticks": ""
           }
          },
          "title": {
           "x": 0.05
          },
          "xaxis": {
           "automargin": true,
           "gridcolor": "white",
           "linecolor": "white",
           "ticks": "",
           "title": {
            "standoff": 15
           },
           "zerolinecolor": "white",
           "zerolinewidth": 2
          },
          "yaxis": {
           "automargin": true,
           "gridcolor": "white",
           "linecolor": "white",
           "ticks": "",
           "title": {
            "standoff": 15
           },
           "zerolinecolor": "white",
           "zerolinewidth": 2
          }
         }
        },
        "title": {
         "text": "Real-World Distance Analysis"
        },
        "xaxis": {
         "anchor": "y",
         "domain": [
          0,
          0.45
         ],
         "title": {
          "text": "Frame Index"
         }
        },
        "xaxis2": {
         "anchor": "y2",
         "domain": [
          0.55,
          1
         ],
         "title": {
          "text": "Time"
         }
        },
        "xaxis3": {
         "anchor": "y3",
         "domain": [
          0,
          0.45
         ],
         "title": {
          "text": "Distance (meters)"
         }
        },
        "xaxis4": {
         "anchor": "y4",
         "domain": [
          0.55,
          1
         ],
         "title": {
          "text": "Frame Index"
         }
        },
        "yaxis": {
         "anchor": "x",
         "domain": [
          0.625,
          1
         ],
         "title": {
          "text": "Distance (meters)"
         }
        },
        "yaxis2": {
         "anchor": "x2",
         "domain": [
          0.625,
          1
         ],
         "title": {
          "text": "Distance (meters)"
         }
        },
        "yaxis3": {
         "anchor": "x3",
         "domain": [
          0,
          0.375
         ],
         "title": {
          "text": "Frequency"
         }
        },
        "yaxis4": {
         "anchor": "x4",
         "domain": [
          0,
          0.375
         ],
         "title": {
          "text": "Distance (meters)"
         }
        }
       }
      }
     },
     "metadata": {},
     "output_type": "display_data"
    }
   ],
   "source": [
    "iau.VisualizationEngine.plot_distance_analysis(distance_results, \"Real-World Distance Analysis\")"
   ]
  },
  {
   "cell_type": "code",
   "execution_count": 9,
   "id": "c10a8be6",
   "metadata": {},
   "outputs": [
    {
     "name": "stdout",
     "output_type": "stream",
     "text": [
      " LOADING ALL DISTANCE DATA FOR BAG: 2024-08-20_18-47-40\n",
      "============================================================\n",
      "📡 1. Loading Navigation Data...\n",
      "    Loaded 299 navigation records\n",
      "📡 2. Loading Guidance Data...\n",
      "    Loaded 297 guidance records with ['error_net_distance', 'desired_net_distance', 'r_net_distance_d']\n",
      "📡 3. Loading DVL Altimeter...\n",
      "    DVL altimeter file not found\n",
      " 4. Loading USBL...\n",
      "    Loaded 19 USBL records\n",
      "📡 5. Loading DVL Position...\n",
      "    Loaded 165 DVL position records\n",
      " 6. Loading Navigation Position...\n",
      "    Loaded 153 navigation position records\n",
      "📡 7. Loading INS Z Position...\n",
      "    INS file not found\n",
      "\n",
      " LOADING SUMMARY:\n",
      "    Target bag: 2024-08-20_18-47-40\n",
      "    Raw data loaded: 2/2\n",
      "    Distance measurements: 4\n",
      "\n",
      " RAW DATA LOADED:\n",
      "    navigation: 299 records\n",
      "    guidance: 297 records\n",
      "\n",
      " DISTANCE MEASUREMENTS LOADED:\n",
      "    USBL_3D: 19 records - 3D acoustic position\n",
      "    USBL_Depth: 19 records - USBL depth measurement\n",
      "    DVL_Position: 165 records - 3D DVL position\n",
      "    Nav_Position: 153 records - 2D navigation position\n"
     ]
    }
   ],
   "source": [
    "# COMPARISON: SONAR vs DVL DISTANCE MEASUREMENTS\n",
    "# =================================================\n",
    "import utils.net_distance_analysis as sda\n",
    "\n",
    "# IMPORTANT: Pass the by_bag folder, not just the exports root\n",
    "# The function expects the folder containing the CSV files\n",
    "from utils.sonar_config import EXPORTS_SUBDIRS\n",
    "BY_BAG_FOLDER = EXPORTS_FOLDER / EXPORTS_SUBDIRS.get('by_bag', 'by_bag')\n",
    "\n",
    "# Load all distance data for the target bag\n",
    "raw_data, distance_measurements = sda.load_all_distance_data_for_bag(TARGET_BAG, BY_BAG_FOLDER)\n",
    "\n",
    "# Display what we loaded\n",
    "print(f\"\\n RAW DATA LOADED:\")\n",
    "for key, data in raw_data.items():\n",
    "    if data is not None:\n",
    "        print(f\"    {key}: {len(data)} records\")\n",
    "    else:\n",
    "        print(f\"    {key}: None\")\n",
    "\n",
    "print(f\"\\n DISTANCE MEASUREMENTS LOADED:\")\n",
    "for key, info in distance_measurements.items():\n",
    "    data_len = len(info['data'])\n",
    "    print(f\"    {key}: {data_len} records - {info['description']}\")"
   ]
  },
  {
   "cell_type": "code",
   "execution_count": 10,
   "id": "0375375e",
   "metadata": {},
   "outputs": [
    {
     "name": "stdout",
     "output_type": "stream",
     "text": [
      "\n",
      "SONAR vs DVL COMPARISON STATISTICS:\n",
      "==================================================\n",
      "Sonar mean distance: 0.979 m\n",
      "DVL mean distance:   1.044 m\n",
      "Scale ratio (Sonar/DVL): 0.938x\n",
      "Sonar duration: 33.5s (613 frames)\n",
      "DVL duration:   33.5s (299 records)\n"
     ]
    },
    {
     "name": "stderr",
     "output_type": "stream",
     "text": [
      "/Users/eirikvarnes/code/SOLAQUA/utils/sonar_image_analysis.py:285: FutureWarning:\n",
      "\n",
      "Series.fillna with 'method' is deprecated and will raise in a future version. Use obj.ffill() or obj.bfill() instead.\n",
      "\n",
      "/Users/eirikvarnes/code/SOLAQUA/utils/sonar_image_analysis.py:292: FutureWarning:\n",
      "\n",
      "Series.fillna with 'method' is deprecated and will raise in a future version. Use obj.ffill() or obj.bfill() instead.\n",
      "\n"
     ]
    },
    {
     "data": {
      "application/vnd.plotly.v1+json": {
       "config": {
        "plotlyServerURL": "https://plot.ly"
       },
       "data": [
        {
         "line": {
          "color": "rgba(255,0,0,0.3)"
         },
         "mode": "lines",
         "name": "Sonar Raw",
         "type": "scatter",
         "x": {
          "bdata": "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",
          "dtype": "f8"
         },
         "xaxis": "x",
         "y": {
          "bdata": "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",
          "dtype": "f8"
         },
         "yaxis": "y"
        },
        {
         "line": {
          "color": "red",
          "width": 3
         },
         "mode": "lines",
         "name": "Sonar Smoothed",
         "type": "scatter",
         "x": {
          "bdata": "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",
          "dtype": "f8"
         },
         "xaxis": "x",
         "y": {
          "bdata": "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",
          "dtype": "f8"
         },
         "yaxis": "y"
        },
        {
         "line": {
          "color": "blue",
          "width": 3
         },
         "mode": "lines",
         "name": "DVL Distance",
         "type": "scatter",
         "x": {
          "bdata": "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",
          "dtype": "f8"
         },
         "xaxis": "x",
         "y": {
          "bdata": "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",
          "dtype": "f8"
         },
         "yaxis": "y"
        }
       ],
       "layout": {
        "height": 600,
        "hovermode": "x unified",
        "template": {
         "data": {
          "bar": [
           {
            "error_x": {
             "color": "#2a3f5f"
            },
            "error_y": {
             "color": "#2a3f5f"
            },
            "marker": {
             "line": {
              "color": "#E5ECF6",
              "width": 0.5
             },
             "pattern": {
              "fillmode": "overlay",
              "size": 10,
              "solidity": 0.2
             }
            },
            "type": "bar"
           }
          ],
          "barpolar": [
           {
            "marker": {
             "line": {
              "color": "#E5ECF6",
              "width": 0.5
             },
             "pattern": {
              "fillmode": "overlay",
              "size": 10,
              "solidity": 0.2
             }
            },
            "type": "barpolar"
           }
          ],
          "carpet": [
           {
            "aaxis": {
             "endlinecolor": "#2a3f5f",
             "gridcolor": "white",
             "linecolor": "white",
             "minorgridcolor": "white",
             "startlinecolor": "#2a3f5f"
            },
            "baxis": {
             "endlinecolor": "#2a3f5f",
             "gridcolor": "white",
             "linecolor": "white",
             "minorgridcolor": "white",
             "startlinecolor": "#2a3f5f"
            },
            "type": "carpet"
           }
          ],
          "choropleth": [
           {
            "colorbar": {
             "outlinewidth": 0,
             "ticks": ""
            },
            "type": "choropleth"
           }
          ],
          "contour": [
           {
            "colorbar": {
             "outlinewidth": 0,
             "ticks": ""
            },
            "colorscale": [
             [
              0,
              "#0d0887"
             ],
             [
              0.1111111111111111,
              "#46039f"
             ],
             [
              0.2222222222222222,
              "#7201a8"
             ],
             [
              0.3333333333333333,
              "#9c179e"
             ],
             [
              0.4444444444444444,
              "#bd3786"
             ],
             [
              0.5555555555555556,
              "#d8576b"
             ],
             [
              0.6666666666666666,
              "#ed7953"
             ],
             [
              0.7777777777777778,
              "#fb9f3a"
             ],
             [
              0.8888888888888888,
              "#fdca26"
             ],
             [
              1,
              "#f0f921"
             ]
            ],
            "type": "contour"
           }
          ],
          "contourcarpet": [
           {
            "colorbar": {
             "outlinewidth": 0,
             "ticks": ""
            },
            "type": "contourcarpet"
           }
          ],
          "heatmap": [
           {
            "colorbar": {
             "outlinewidth": 0,
             "ticks": ""
            },
            "colorscale": [
             [
              0,
              "#0d0887"
             ],
             [
              0.1111111111111111,
              "#46039f"
             ],
             [
              0.2222222222222222,
              "#7201a8"
             ],
             [
              0.3333333333333333,
              "#9c179e"
             ],
             [
              0.4444444444444444,
              "#bd3786"
             ],
             [
              0.5555555555555556,
              "#d8576b"
             ],
             [
              0.6666666666666666,
              "#ed7953"
             ],
             [
              0.7777777777777778,
              "#fb9f3a"
             ],
             [
              0.8888888888888888,
              "#fdca26"
             ],
             [
              1,
              "#f0f921"
             ]
            ],
            "type": "heatmap"
           }
          ],
          "histogram": [
           {
            "marker": {
             "pattern": {
              "fillmode": "overlay",
              "size": 10,
              "solidity": 0.2
             }
            },
            "type": "histogram"
           }
          ],
          "histogram2d": [
           {
            "colorbar": {
             "outlinewidth": 0,
             "ticks": ""
            },
            "colorscale": [
             [
              0,
              "#0d0887"
             ],
             [
              0.1111111111111111,
              "#46039f"
             ],
             [
              0.2222222222222222,
              "#7201a8"
             ],
             [
              0.3333333333333333,
              "#9c179e"
             ],
             [
              0.4444444444444444,
              "#bd3786"
             ],
             [
              0.5555555555555556,
              "#d8576b"
             ],
             [
              0.6666666666666666,
              "#ed7953"
             ],
             [
              0.7777777777777778,
              "#fb9f3a"
             ],
             [
              0.8888888888888888,
              "#fdca26"
             ],
             [
              1,
              "#f0f921"
             ]
            ],
            "type": "histogram2d"
           }
          ],
          "histogram2dcontour": [
           {
            "colorbar": {
             "outlinewidth": 0,
             "ticks": ""
            },
            "colorscale": [
             [
              0,
              "#0d0887"
             ],
             [
              0.1111111111111111,
              "#46039f"
             ],
             [
              0.2222222222222222,
              "#7201a8"
             ],
             [
              0.3333333333333333,
              "#9c179e"
             ],
             [
              0.4444444444444444,
              "#bd3786"
             ],
             [
              0.5555555555555556,
              "#d8576b"
             ],
             [
              0.6666666666666666,
              "#ed7953"
             ],
             [
              0.7777777777777778,
              "#fb9f3a"
             ],
             [
              0.8888888888888888,
              "#fdca26"
             ],
             [
              1,
              "#f0f921"
             ]
            ],
            "type": "histogram2dcontour"
           }
          ],
          "mesh3d": [
           {
            "colorbar": {
             "outlinewidth": 0,
             "ticks": ""
            },
            "type": "mesh3d"
           }
          ],
          "parcoords": [
           {
            "line": {
             "colorbar": {
              "outlinewidth": 0,
              "ticks": ""
             }
            },
            "type": "parcoords"
           }
          ],
          "pie": [
           {
            "automargin": true,
            "type": "pie"
           }
          ],
          "scatter": [
           {
            "fillpattern": {
             "fillmode": "overlay",
             "size": 10,
             "solidity": 0.2
            },
            "type": "scatter"
           }
          ],
          "scatter3d": [
           {
            "line": {
             "colorbar": {
              "outlinewidth": 0,
              "ticks": ""
             }
            },
            "marker": {
             "colorbar": {
              "outlinewidth": 0,
              "ticks": ""
             }
            },
            "type": "scatter3d"
           }
          ],
          "scattercarpet": [
           {
            "marker": {
             "colorbar": {
              "outlinewidth": 0,
              "ticks": ""
             }
            },
            "type": "scattercarpet"
           }
          ],
          "scattergeo": [
           {
            "marker": {
             "colorbar": {
              "outlinewidth": 0,
              "ticks": ""
             }
            },
            "type": "scattergeo"
           }
          ],
          "scattergl": [
           {
            "marker": {
             "colorbar": {
              "outlinewidth": 0,
              "ticks": ""
             }
            },
            "type": "scattergl"
           }
          ],
          "scattermap": [
           {
            "marker": {
             "colorbar": {
              "outlinewidth": 0,
              "ticks": ""
             }
            },
            "type": "scattermap"
           }
          ],
          "scattermapbox": [
           {
            "marker": {
             "colorbar": {
              "outlinewidth": 0,
              "ticks": ""
             }
            },
            "type": "scattermapbox"
           }
          ],
          "scatterpolar": [
           {
            "marker": {
             "colorbar": {
              "outlinewidth": 0,
              "ticks": ""
             }
            },
            "type": "scatterpolar"
           }
          ],
          "scatterpolargl": [
           {
            "marker": {
             "colorbar": {
              "outlinewidth": 0,
              "ticks": ""
             }
            },
            "type": "scatterpolargl"
           }
          ],
          "scatterternary": [
           {
            "marker": {
             "colorbar": {
              "outlinewidth": 0,
              "ticks": ""
             }
            },
            "type": "scatterternary"
           }
          ],
          "surface": [
           {
            "colorbar": {
             "outlinewidth": 0,
             "ticks": ""
            },
            "colorscale": [
             [
              0,
              "#0d0887"
             ],
             [
              0.1111111111111111,
              "#46039f"
             ],
             [
              0.2222222222222222,
              "#7201a8"
             ],
             [
              0.3333333333333333,
              "#9c179e"
             ],
             [
              0.4444444444444444,
              "#bd3786"
             ],
             [
              0.5555555555555556,
              "#d8576b"
             ],
             [
              0.6666666666666666,
              "#ed7953"
             ],
             [
              0.7777777777777778,
              "#fb9f3a"
             ],
             [
              0.8888888888888888,
              "#fdca26"
             ],
             [
              1,
              "#f0f921"
             ]
            ],
            "type": "surface"
           }
          ],
          "table": [
           {
            "cells": {
             "fill": {
              "color": "#EBF0F8"
             },
             "line": {
              "color": "white"
             }
            },
            "header": {
             "fill": {
              "color": "#C8D4E3"
             },
             "line": {
              "color": "white"
             }
            },
            "type": "table"
           }
          ]
         },
         "layout": {
          "annotationdefaults": {
           "arrowcolor": "#2a3f5f",
           "arrowhead": 0,
           "arrowwidth": 1
          },
          "autotypenumbers": "strict",
          "coloraxis": {
           "colorbar": {
            "outlinewidth": 0,
            "ticks": ""
           }
          },
          "colorscale": {
           "diverging": [
            [
             0,
             "#8e0152"
            ],
            [
             0.1,
             "#c51b7d"
            ],
            [
             0.2,
             "#de77ae"
            ],
            [
             0.3,
             "#f1b6da"
            ],
            [
             0.4,
             "#fde0ef"
            ],
            [
             0.5,
             "#f7f7f7"
            ],
            [
             0.6,
             "#e6f5d0"
            ],
            [
             0.7,
             "#b8e186"
            ],
            [
             0.8,
             "#7fbc41"
            ],
            [
             0.9,
             "#4d9221"
            ],
            [
             1,
             "#276419"
            ]
           ],
           "sequential": [
            [
             0,
             "#0d0887"
            ],
            [
             0.1111111111111111,
             "#46039f"
            ],
            [
             0.2222222222222222,
             "#7201a8"
            ],
            [
             0.3333333333333333,
             "#9c179e"
            ],
            [
             0.4444444444444444,
             "#bd3786"
            ],
            [
             0.5555555555555556,
             "#d8576b"
            ],
            [
             0.6666666666666666,
             "#ed7953"
            ],
            [
             0.7777777777777778,
             "#fb9f3a"
            ],
            [
             0.8888888888888888,
             "#fdca26"
            ],
            [
             1,
             "#f0f921"
            ]
           ],
           "sequentialminus": [
            [
             0,
             "#0d0887"
            ],
            [
             0.1111111111111111,
             "#46039f"
            ],
            [
             0.2222222222222222,
             "#7201a8"
            ],
            [
             0.3333333333333333,
             "#9c179e"
            ],
            [
             0.4444444444444444,
             "#bd3786"
            ],
            [
             0.5555555555555556,
             "#d8576b"
            ],
            [
             0.6666666666666666,
             "#ed7953"
            ],
            [
             0.7777777777777778,
             "#fb9f3a"
            ],
            [
             0.8888888888888888,
             "#fdca26"
            ],
            [
             1,
             "#f0f921"
            ]
           ]
          },
          "colorway": [
           "#636efa",
           "#EF553B",
           "#00cc96",
           "#ab63fa",
           "#FFA15A",
           "#19d3f3",
           "#FF6692",
           "#B6E880",
           "#FF97FF",
           "#FECB52"
          ],
          "font": {
           "color": "#2a3f5f"
          },
          "geo": {
           "bgcolor": "white",
           "lakecolor": "white",
           "landcolor": "#E5ECF6",
           "showlakes": true,
           "showland": true,
           "subunitcolor": "white"
          },
          "hoverlabel": {
           "align": "left"
          },
          "hovermode": "closest",
          "mapbox": {
           "style": "light"
          },
          "paper_bgcolor": "white",
          "plot_bgcolor": "#E5ECF6",
          "polar": {
           "angularaxis": {
            "gridcolor": "white",
            "linecolor": "white",
            "ticks": ""
           },
           "bgcolor": "#E5ECF6",
           "radialaxis": {
            "gridcolor": "white",
            "linecolor": "white",
            "ticks": ""
           }
          },
          "scene": {
           "xaxis": {
            "backgroundcolor": "#E5ECF6",
            "gridcolor": "white",
            "gridwidth": 2,
            "linecolor": "white",
            "showbackground": true,
            "ticks": "",
            "zerolinecolor": "white"
           },
           "yaxis": {
            "backgroundcolor": "#E5ECF6",
            "gridcolor": "white",
            "gridwidth": 2,
            "linecolor": "white",
            "showbackground": true,
            "ticks": "",
            "zerolinecolor": "white"
           },
           "zaxis": {
            "backgroundcolor": "#E5ECF6",
            "gridcolor": "white",
            "gridwidth": 2,
            "linecolor": "white",
            "showbackground": true,
            "ticks": "",
            "zerolinecolor": "white"
           }
          },
          "shapedefaults": {
           "line": {
            "color": "#2a3f5f"
           }
          },
          "ternary": {
           "aaxis": {
            "gridcolor": "white",
            "linecolor": "white",
            "ticks": ""
           },
           "baxis": {
            "gridcolor": "white",
            "linecolor": "white",
            "ticks": ""
           },
           "bgcolor": "#E5ECF6",
           "caxis": {
            "gridcolor": "white",
            "linecolor": "white",
            "ticks": ""
           }
          },
          "title": {
           "x": 0.05
          },
          "xaxis": {
           "automargin": true,
           "gridcolor": "white",
           "linecolor": "white",
           "ticks": "",
           "title": {
            "standoff": 15
           },
           "zerolinecolor": "white",
           "zerolinewidth": 2
          },
          "yaxis": {
           "automargin": true,
           "gridcolor": "white",
           "linecolor": "white",
           "ticks": "",
           "title": {
            "standoff": 15
           },
           "zerolinecolor": "white",
           "zerolinewidth": 2
          }
         }
        },
        "title": {
         "text": "Interactive Distance Comparison: Sonar vs DVL"
        },
        "xaxis": {
         "anchor": "y",
         "domain": [
          0,
          1
         ],
         "showgrid": true,
         "title": {
          "text": "Time (seconds)"
         }
        },
        "yaxis": {
         "anchor": "x",
         "domain": [
          0,
          1
         ],
         "showgrid": true,
         "title": {
          "text": "Distance (meters)"
         }
        }
       }
      }
     },
     "metadata": {},
     "output_type": "display_data"
    }
   ],
   "source": [
    "fig, comparison_stats = iau.ComparisonEngine.compare_sonar_vs_dvl(distance_results, raw_data, sonar_coverage_m=sonar_coverage_meters, sonar_image_size=image_shape[0], use_plotly=True)\n",
    "fig.show()"
   ]
  },
  {
   "cell_type": "code",
   "execution_count": 11,
   "id": "50f97352",
   "metadata": {},
   "outputs": [
    {
     "name": "stdout",
     "output_type": "stream",
     "text": [
      "GENERATING VIDEO WITH DUAL NET DISTANCE OVERLAYS\n",
      "============================================================\n",
      " Target Bag: 2024-08-20_18-47-40\n",
      " DVL Data: 299 records\n",
      " Sonar Analysis: 613 frames\n",
      " Auto-detect video: enabled (PNG frames + index.csv)\n",
      "⏱  Sync tolerance: 1.0s\n",
      "OPTIMIZED SONAR VIDEO\n",
      "======================================================================\n",
      "Target Bag: 2024-08-20_18-47-40\n",
      "   Cone Size: 900x700\n",
      "   Range: 0.0-5.0m | FOV: 120.0°\n",
      "Auto-detecting video files for bag: 2024-08-20_18-47-40\n",
      "Found video frames: 2024-08-20_18-47-40_video__image_compressed_image_data\n",
      "Using frames directory: /Volumes/LaCie/SOLAQUA/exports/frames/2024-08-20_18-47-40_video__image_compressed_image_data\n",
      "Camera: enabled\n",
      "Net-line: enabled (dist tol=0.5s, pitch tol=2.0s)\n",
      "Sonar Analysis: enabled\n",
      "   Loading sonar data: sensor_sonoptix_echo_image__2024-08-20_18-47-40_video.csv\n",
      "Loaded 614 sonar frames in 25.54s\n",
      "Loaded 299 navigation records in 0.01s\n",
      "      Available: ['NetDistance', 'NetPitch', 'timestamp']\n",
      "Loaded 99 camera index entries\n",
      "   Frames: 1..613 (step 1) => 613\n",
      "   Natural FPS: 15.9\n",
      "Loaded 614 sonar frames in 25.54s\n",
      "Loaded 299 navigation records in 0.01s\n",
      "      Available: ['NetDistance', 'NetPitch', 'timestamp']\n",
      "Loaded 99 camera index entries\n",
      "   Frames: 1..613 (step 1) => 613\n",
      "   Natural FPS: 15.9\n",
      "   Frame 611: Outside camera time range, using sonar-only\n",
      "   Frame 612: Outside camera time range, using sonar-only\n",
      "   Frame 613: Outside camera time range, using sonar-only\n",
      "   Frame 611: Outside camera time range, using sonar-only\n",
      "   Frame 612: Outside camera time range, using sonar-only\n",
      "   Frame 613: Outside camera time range, using sonar-only\n"
     ]
    },
    {
     "name": "stderr",
     "output_type": "stream",
     "text": [
      "[ WARN:0@869.390] global cap_ffmpeg.cpp:198 write FFmpeg: Failed to write frame\n",
      "[ WARN:0@869.443] global cap_ffmpeg.cpp:198 write FFmpeg: Failed to write frame\n",
      "[ WARN:0@869.497] global cap_ffmpeg.cpp:198 write FFmpeg: Failed to write frame\n"
     ]
    },
    {
     "name": "stdout",
     "output_type": "stream",
     "text": [
      "\n",
      "🎉 DONE! Wrote 613 frames to /Volumes/LaCie/SOLAQUA/exports/videos/2024-08-20_18-47-40_optimized_sync_withcam_withsonar_20240820_184744_171939+0200.mp4 @ 15.92 FPS\n",
      "Metadata saved to: /Volumes/LaCie/SOLAQUA/exports/videos/2024-08-20_18-47-40_optimized_sync_withcam_withsonar_20240820_184744_171939+0200.mp4.meta.json\n",
      "\n",
      " Video generated successfully!\n",
      " Output: None\n",
      "\n",
      " Check the video output:\n",
      "   - Camera frames should sync properly with sonar\n",
      "   - When camera data ends, video should switch to sonar-only\n",
      "   - No frozen camera frames should appear\n"
     ]
    }
   ],
   "source": [
    "# Generate Video with Both DVL and Sonar Analysis Overlays (Improved Sync)\n",
    "# ==========================================================================\n",
    "import utils.sonar_and_foto_generation as sg\n",
    "\n",
    "# Enable automatic video detection with improved synchronization\n",
    "from utils.sonar_config import VIDEO_CONFIG\n",
    "VIDEO_CONFIG['enable_video_overlay'] = True  \n",
    "VIDEO_CONFIG['max_sync_tolerance_seconds'] = 1.0  # Tighter sync tolerance\n",
    "\n",
    "print(\"GENERATING VIDEO WITH DUAL NET DISTANCE OVERLAYS\")\n",
    "print(\"=\" * 60)\n",
    "print(f\" Target Bag: {TARGET_BAG}\")\n",
    "print(f\" DVL Data: {len(raw_data.get('navigation', []))} records\")\n",
    "print(f\" Sonar Analysis: {len(distance_results)} frames\")\n",
    "print(f\" Auto-detect video: enabled (PNG frames + index.csv)\")\n",
    "print(f\"⏱  Sync tolerance: {VIDEO_CONFIG['max_sync_tolerance_seconds']}s\")\n",
    "\n",
    "# Generate the video with both overlays and improved sync\n",
    "try:\n",
    "    video_path = sg.export_optimized_sonar_video(\n",
    "        TARGET_BAG=TARGET_BAG,\n",
    "        EXPORTS_FOLDER=EXPORTS_FOLDER,\n",
    "        START_IDX=1,\n",
    "        END_IDX=1200,  \n",
    "        STRIDE=1,    \n",
    "        AUTO_DETECT_VIDEO=True,       # Enable automatic video file detection\n",
    "        INCLUDE_NET=True,             # Enable DVL net distance overlay\n",
    "        SONAR_DISTANCE_RESULTS=distance_results,  # Enable sonar analysis overlay\n",
    "        NET_DISTANCE_TOLERANCE=0.5,\n",
    "        NET_PITCH_TOLERANCE=2.0,      # Increased from 0.3 to 2.0 seconds for better pitch sync\n",
    "    )\n",
    "\n",
    "    print(f\"\\n Video generated successfully!\")\n",
    "    print(f\" Output: {video_path}\")\n",
    "    print(f\"\\n Check the video output:\")\n",
    "    print(f\"   - Camera frames should sync properly with sonar\")\n",
    "    print(f\"   - When camera data ends, video should switch to sonar-only\")\n",
    "    print(f\"   - No frozen camera frames should appear\")\n",
    "    \n",
    "except Exception as e:\n",
    "    print(f\"Error generating video: {e}\")\n",
    "    import traceback\n",
    "    traceback.print_exc()\n",
    "    print(\"\\n Troubleshooting:\")\n",
    "    print(\"  1. Run the video detection cell above to verify files exist\")\n",
    "    print(\"  2. Check that PNG frames directory has index.csv file\")\n",
    "    print(\"  3. Try disabling video overlay: VIDEO_CONFIG['enable_video_overlay'] = False\")\n",
    "    print(\"  4. Check exports directory structure\")"
   ]
  }
 ],
 "metadata": {
  "kernelspec": {
   "display_name": "venv",
   "language": "python",
   "name": "python3"
  },
  "language_info": {
   "codemirror_mode": {
    "name": "ipython",
    "version": 3
   },
   "file_extension": ".py",
   "mimetype": "text/x-python",
   "name": "python",
   "nbconvert_exporter": "python",
   "pygments_lexer": "ipython3",
   "version": "3.13.5"
  }
 },
 "nbformat": 4,
 "nbformat_minor": 5
}
