{
 "cells": [
  {
   "cell_type": "code",
   "execution_count": 7,
   "id": "7a8d02c0",
   "metadata": {},
   "outputs": [],
   "source": [
    "from pathlib import Path\n",
    "import utils.sonar_image_analysis as iau\n",
    "import importlib\n",
    "importlib.reload(iau)\n",
    "\n",
    "# Centralized sonar defaults (inserted by sweep)\n",
    "from utils.sonar_config import SONAR_VIS_DEFAULTS\n",
    "sonar_config = SONAR_VIS_DEFAULTS.copy()\n",
    "# Backwards-compatible variable names used in older notebooks\n",
    "RANGE_MIN_M = sonar_config['range_min_m']\n",
    "RANGE_MAX_M = sonar_config['range_max_m']\n",
    "DISPLAY_RANGE_MAX_M = sonar_config['display_range_max_m']"
   ]
  },
  {
   "cell_type": "markdown",
   "id": "9220eb1d",
   "metadata": {},
   "source": [
    "# Simple Image Analysis with CV2\n",
    "\n",
    "This notebook demonstrates:\n",
    "1. **Pick a frame** from NPZ files and save it locally\n",
    "2. **Use standard cv2 functions** directly for image processing\n",
    "3. **Experiment** with different OpenCV operations"
   ]
  },
  {
   "cell_type": "code",
   "execution_count": 8,
   "id": "4b3e8f46",
   "metadata": {},
   "outputs": [
    {
     "name": "stdout",
     "output_type": "stream",
     "text": [
      "Using DATA_DIR = /Volumes/LaCie/SOLAQUA/raw_data\n",
      "Selected NPZ file: 2024-08-20_17-02-00_data_cones.npz (index=13)\n"
     ]
    }
   ],
   "source": [
    "# Prefer selecting by bag ID (part of the NPZ filename) instead of a numeric index.\n",
    "# Set TARGET_BAG to a substring that appears in the NPZ filename \n",
    "# '2024-08-22_14-47-39' #1\n",
    "# '2024-08-22_14-29-05' #2\n",
    "# '2024-08-20_14-22-12' #3\n",
    "# '2024-08-20_14-31-29' #4\n",
    "# '2024-08-20_18-47-40' #5\n",
    "# '2024-08-20_13-55-34' #6\n",
    "# '2024-08-20_13-57-42' #7\n",
    "# '2024-08-20_17-02-00' #8\n",
    "TARGET_BAG = '2024-08-20_17-02-00'  # change this to your desired bag ID\n",
    "from utils.sonar_config import EXPORTS_DIR_DEFAULT, EXPORTS_SUBDIRS\n",
    "EXPORTS_FOLDER = Path(EXPORTS_DIR_DEFAULT)\n",
    "\n",
    "# If you keep your raw .bag files or raw data on an external drive, point DATA_DIR there.\n",
    "# Example (your external disk): /Volumes/LaCie/SOLAQUA/raw_data\n",
    "DATA_DIR = Path(\"/Volumes/LaCie/SOLAQUA/raw_data\")\n",
    "print(f\"Using DATA_DIR = {DATA_DIR}\")\n",
    "\n",
    "# NOTE: To export data for this specific bag, use:\n",
    "# python scripts/solaqua_export.py --data-dir /Volumes/LaCie/SOLAQUA/raw_data --exports-dir /Volumes/LaCie/SOLAQUA/exports --bag-stem 2024-08-20_17-02-00 --all\n",
    "\n",
    "# Find NPZ files and pick the one matching TARGET_BAG\n",
    "files = iau.get_available_npz_files()\n",
    "if not files:\n",
    "    raise FileNotFoundError(f\"No NPZ files found in configured exports outputs (looked under {EXPORTS_FOLDER / EXPORTS_SUBDIRS.get('outputs','outputs')})\")\n",
    "matches = [p for p in files if TARGET_BAG in p.name]\n",
    "if not matches:\n",
    "    # Help the user by listing available NPZ files\n",
    "    print(f'No NPZ file matched TARGET_BAG={TARGET_BAG!r}')\n",
    "    print('Available NPZ files:')\n",
    "    for i,p in enumerate(files):\n",
    "        print(f'  {i}: {p.name}')\n",
    "    raise ValueError(f'No NPZ file contains \"{TARGET_BAG}\" in its name')\n",
    "\n",
    "# If multiple matches, choose the most recently modified one\n",
    "selected = max(matches, key=lambda p: p.stat().st_mtime)\n",
    "NPZ_FILE_INDEX = files.index(selected)\n",
    "print(f'Selected NPZ file: {selected.name} (index={NPZ_FILE_INDEX})')"
   ]
  },
  {
   "cell_type": "markdown",
   "id": "0c65358c",
   "metadata": {},
   "source": [
    "## Distance Analysis Over Time\n",
    "\n",
    "Now let's perform a comprehensive analysis of the red line distance over time. The red line represents the major axis of the detected elongated contour (likely a fishing net), and we'll track how this distance changes throughout the video sequence."
   ]
  },
  {
   "cell_type": "code",
   "execution_count": 9,
   "id": "b9c5da85",
   "metadata": {},
   "outputs": [
    {
     "name": "stdout",
     "output_type": "stream",
     "text": [
      "=== ENHANCED VIDEO CREATION (Simplified) ===\n",
      "Creating video with simplified processor...\n",
      "Frames: 1500, step: 1\n",
      "Processing 944 frames with simplified processor...\n",
      "Processing 944 frames with simplified processor...\n",
      "Processed 10/944 frames\n",
      "Processed 10/944 frames\n",
      "Processed 20/944 frames\n",
      "Processed 20/944 frames\n",
      "Processed 30/944 frames\n",
      "Processed 30/944 frames\n",
      "Processed 40/944 frames\n",
      "Processed 40/944 frames\n",
      "Processed 50/944 frames\n",
      "Processed 50/944 frames\n",
      "Processed 60/944 frames\n",
      "Processed 60/944 frames\n",
      "Processed 70/944 frames\n",
      "Processed 70/944 frames\n",
      "Processed 80/944 frames\n",
      "Processed 80/944 frames\n",
      "Processed 90/944 frames\n",
      "Processed 90/944 frames\n",
      "Processed 100/944 frames\n",
      "Processed 100/944 frames\n",
      "Processed 110/944 frames\n",
      "Processed 110/944 frames\n",
      "Processed 120/944 frames\n",
      "Processed 120/944 frames\n",
      "Processed 130/944 frames\n",
      "Processed 130/944 frames\n",
      "Processed 140/944 frames\n",
      "Processed 140/944 frames\n",
      "Processed 150/944 frames\n",
      "Processed 150/944 frames\n",
      "Processed 160/944 frames\n",
      "Processed 160/944 frames\n",
      "Processed 170/944 frames\n",
      "Processed 170/944 frames\n",
      "Processed 180/944 frames\n",
      "Processed 180/944 frames\n",
      "Processed 190/944 frames\n",
      "Processed 190/944 frames\n",
      "Processed 200/944 frames\n",
      "Processed 200/944 frames\n",
      "Processed 210/944 frames\n",
      "Processed 210/944 frames\n",
      "Processed 220/944 frames\n",
      "Processed 220/944 frames\n",
      "Processed 230/944 frames\n",
      "Processed 230/944 frames\n",
      "Processed 240/944 frames\n",
      "Processed 240/944 frames\n",
      "Processed 250/944 frames\n",
      "Processed 250/944 frames\n",
      "Processed 260/944 frames\n",
      "Processed 260/944 frames\n",
      "Processed 270/944 frames\n",
      "Processed 270/944 frames\n",
      "Processed 280/944 frames\n",
      "Processed 280/944 frames\n",
      "Processed 290/944 frames\n",
      "Processed 290/944 frames\n",
      "Processed 300/944 frames\n",
      "Processed 300/944 frames\n",
      "Processed 310/944 frames\n",
      "Processed 310/944 frames\n",
      "Processed 320/944 frames\n",
      "Processed 320/944 frames\n",
      "Processed 330/944 frames\n",
      "Processed 330/944 frames\n",
      "Processed 340/944 frames\n",
      "Processed 340/944 frames\n",
      "Processed 350/944 frames\n",
      "Processed 350/944 frames\n",
      "Processed 360/944 frames\n",
      "Processed 360/944 frames\n",
      "Processed 370/944 frames\n",
      "Processed 370/944 frames\n",
      "Processed 380/944 frames\n",
      "Processed 380/944 frames\n",
      "Processed 390/944 frames\n",
      "Processed 390/944 frames\n",
      "Processed 400/944 frames\n",
      "Processed 400/944 frames\n",
      "Processed 410/944 frames\n",
      "Processed 410/944 frames\n",
      "Processed 420/944 frames\n",
      "Processed 420/944 frames\n",
      "Processed 430/944 frames\n",
      "Processed 430/944 frames\n",
      "Processed 440/944 frames\n",
      "Processed 440/944 frames\n",
      "Processed 450/944 frames\n",
      "Processed 450/944 frames\n",
      "Processed 460/944 frames\n",
      "Processed 460/944 frames\n",
      "Processed 470/944 frames\n",
      "Processed 470/944 frames\n",
      "Processed 480/944 frames\n",
      "Processed 480/944 frames\n",
      "Processed 490/944 frames\n",
      "Processed 490/944 frames\n",
      "Processed 500/944 frames\n",
      "Processed 500/944 frames\n",
      "Processed 510/944 frames\n",
      "Processed 510/944 frames\n",
      "Processed 520/944 frames\n",
      "Processed 520/944 frames\n",
      "Processed 530/944 frames\n",
      "Processed 530/944 frames\n",
      "Processed 540/944 frames\n",
      "Processed 540/944 frames\n",
      "Processed 550/944 frames\n",
      "Processed 550/944 frames\n",
      "Processed 560/944 frames\n",
      "Processed 560/944 frames\n",
      "Processed 570/944 frames\n",
      "Processed 570/944 frames\n",
      "Processed 580/944 frames\n",
      "Processed 580/944 frames\n",
      "Processed 590/944 frames\n",
      "Processed 590/944 frames\n",
      "Processed 600/944 frames\n",
      "Processed 600/944 frames\n",
      "Processed 610/944 frames\n",
      "Processed 610/944 frames\n",
      "Processed 620/944 frames\n",
      "Processed 620/944 frames\n",
      "Processed 630/944 frames\n",
      "Processed 630/944 frames\n",
      "Processed 640/944 frames\n",
      "Processed 640/944 frames\n",
      "Processed 650/944 frames\n",
      "Processed 650/944 frames\n",
      "Processed 660/944 frames\n",
      "Processed 660/944 frames\n",
      "Processed 670/944 frames\n",
      "Processed 670/944 frames\n",
      "Processed 680/944 frames\n",
      "Processed 680/944 frames\n",
      "Processed 690/944 frames\n",
      "Processed 690/944 frames\n",
      "Processed 700/944 frames\n",
      "Processed 700/944 frames\n",
      "Processed 710/944 frames\n",
      "Processed 710/944 frames\n",
      "Processed 720/944 frames\n",
      "Processed 720/944 frames\n",
      "Processed 730/944 frames\n",
      "Processed 730/944 frames\n",
      "Processed 740/944 frames\n",
      "Processed 740/944 frames\n",
      "Processed 750/944 frames\n",
      "Processed 750/944 frames\n",
      "Processed 760/944 frames\n",
      "Processed 760/944 frames\n",
      "Processed 770/944 frames\n",
      "Processed 770/944 frames\n",
      "Processed 780/944 frames\n",
      "Processed 780/944 frames\n",
      "Processed 790/944 frames\n",
      "Processed 790/944 frames\n",
      "Processed 800/944 frames\n",
      "Processed 800/944 frames\n",
      "Processed 810/944 frames\n",
      "Processed 810/944 frames\n",
      "Processed 820/944 frames\n",
      "Processed 820/944 frames\n",
      "Processed 830/944 frames\n",
      "Processed 830/944 frames\n",
      "Processed 840/944 frames\n",
      "Processed 840/944 frames\n",
      "Processed 850/944 frames\n",
      "Processed 850/944 frames\n",
      "Processed 860/944 frames\n",
      "Processed 860/944 frames\n",
      "Processed 870/944 frames\n",
      "Processed 870/944 frames\n",
      "Processed 880/944 frames\n",
      "Processed 880/944 frames\n",
      "Processed 890/944 frames\n",
      "Processed 890/944 frames\n",
      "Processed 900/944 frames\n",
      "Processed 900/944 frames\n",
      "Processed 910/944 frames\n",
      "Processed 910/944 frames\n",
      "Processed 920/944 frames\n",
      "Processed 920/944 frames\n",
      "Processed 930/944 frames\n",
      "Processed 930/944 frames\n",
      "Processed 940/944 frames\n",
      "Processed 940/944 frames\n",
      "\n",
      "=== ENHANCED VIDEO CREATION COMPLETE ===\n",
      "Video saved to: /Volumes/LaCie/SOLAQUA/exports/videos/core_aoi_tracking.mp4\n",
      "Video specs: 900x700, 15 fps, 944 frames\n",
      "SIMPLIFIED TRACKING STATS:\n",
      "  - Total detected frames: 944\n",
      "  - Lost/searching frames: 0\n",
      "  - Detection success rate: 100.0%\n",
      "\n",
      "=== ENHANCED VIDEO CREATION COMPLETE ===\n",
      "Video saved to: /Volumes/LaCie/SOLAQUA/exports/videos/core_aoi_tracking.mp4\n",
      "Video specs: 900x700, 15 fps, 944 frames\n",
      "SIMPLIFIED TRACKING STATS:\n",
      "  - Total detected frames: 944\n",
      "  - Lost/searching frames: 0\n",
      "  - Detection success rate: 100.0%\n"
     ]
    }
   ],
   "source": [
    "# Create the unified processor\n",
    "processor = iau.SonarDataProcessor()\n",
    "\n",
    "# Use the enhanced video creation with CORE processor\n",
    "video_path = iau.create_enhanced_contour_detection_video_with_processor(\n",
    "    npz_file_index=NPZ_FILE_INDEX,          # Which NPZ file to use\n",
    "    frame_start=1,           # Starting frame\n",
    "    frame_count=1500,         # Number of frames to process\n",
    "    frame_step=1,            # Step between frames\n",
    "    output_path=Path(EXPORTS_DIR_DEFAULT) / EXPORTS_SUBDIRS.get('videos','videos') / 'core_aoi_tracking.mp4',\n",
    "    processor=processor      # Use our CORE processor\n",
    ")"
   ]
  },
  {
   "cell_type": "code",
   "execution_count": 10,
   "id": "d9c0382e",
   "metadata": {},
   "outputs": [
    {
     "name": "stdout",
     "output_type": "stream",
     "text": [
      "=== DISTANCE ANALYSIS FROM NPZ ===\n",
      "Analyzing: /Volumes/LaCie/SOLAQUA/exports/outputs/2024-08-20_17-02-00_data_cones.npz\n",
      "Processing 944 frames from 1 (step=1)\n",
      "Processing 944 frames from 1 (step=1)\n",
      "  Processed 50/944 frames (Success rate: 100.0%)\n",
      "  Processed 50/944 frames (Success rate: 100.0%)\n",
      "  Processed 100/944 frames (Success rate: 100.0%)\n",
      "  Processed 100/944 frames (Success rate: 100.0%)\n",
      "  Processed 150/944 frames (Success rate: 100.0%)\n",
      "  Processed 150/944 frames (Success rate: 100.0%)\n",
      "  Processed 200/944 frames (Success rate: 100.0%)\n",
      "  Processed 200/944 frames (Success rate: 100.0%)\n",
      "  Processed 250/944 frames (Success rate: 100.0%)\n",
      "  Processed 250/944 frames (Success rate: 100.0%)\n",
      "  Processed 300/944 frames (Success rate: 100.0%)\n",
      "  Processed 300/944 frames (Success rate: 100.0%)\n",
      "  Processed 350/944 frames (Success rate: 100.0%)\n",
      "  Processed 350/944 frames (Success rate: 100.0%)\n",
      "  Processed 400/944 frames (Success rate: 100.0%)\n",
      "  Processed 400/944 frames (Success rate: 100.0%)\n",
      "  Processed 450/944 frames (Success rate: 100.0%)\n",
      "  Processed 450/944 frames (Success rate: 100.0%)\n",
      "  Processed 500/944 frames (Success rate: 100.0%)\n",
      "  Processed 500/944 frames (Success rate: 100.0%)\n",
      "  Processed 550/944 frames (Success rate: 100.0%)\n",
      "  Processed 550/944 frames (Success rate: 100.0%)\n",
      "  Processed 600/944 frames (Success rate: 100.0%)\n",
      "  Processed 600/944 frames (Success rate: 100.0%)\n",
      "  Processed 650/944 frames (Success rate: 100.0%)\n",
      "  Processed 650/944 frames (Success rate: 100.0%)\n",
      "  Processed 700/944 frames (Success rate: 100.0%)\n",
      "  Processed 700/944 frames (Success rate: 100.0%)\n",
      "  Processed 750/944 frames (Success rate: 100.0%)\n",
      "  Processed 750/944 frames (Success rate: 100.0%)\n",
      "  Processed 800/944 frames (Success rate: 100.0%)\n",
      "  Processed 800/944 frames (Success rate: 100.0%)\n",
      "  Processed 850/944 frames (Success rate: 100.0%)\n",
      "  Processed 850/944 frames (Success rate: 100.0%)\n",
      "  Processed 900/944 frames (Success rate: 100.0%)\n",
      "  Processed 900/944 frames (Success rate: 100.0%)\n",
      "\n",
      "=== ANALYSIS COMPLETE ===\n",
      "Total frames processed: 944\n",
      "Successful detections: 944 (100.0%)\n",
      "Distance statistics (meters):\n",
      "  - Mean: 1.300\n",
      "  - Std:  0.798\n",
      "  - Min:  0.560\n",
      "  - Max:  4.616\n",
      "  - Range: 4.056\n",
      "Analysis results saved to: /Volumes/LaCie/SOLAQUA/exports/outputs/2024-08-20_17-02-00_data_cones_analysis_results.csv\n",
      "Analyzed 944 frames using elliptical AOI\n",
      " Detection success rate: 100.0%\n",
      " Elliptical tracking active: 0 frames\n",
      "\n",
      "=== ANALYSIS COMPLETE ===\n",
      "Total frames processed: 944\n",
      "Successful detections: 944 (100.0%)\n",
      "Distance statistics (meters):\n",
      "  - Mean: 1.300\n",
      "  - Std:  0.798\n",
      "  - Min:  0.560\n",
      "  - Max:  4.616\n",
      "  - Range: 4.056\n",
      "Analysis results saved to: /Volumes/LaCie/SOLAQUA/exports/outputs/2024-08-20_17-02-00_data_cones_analysis_results.csv\n",
      "Analyzed 944 frames using elliptical AOI\n",
      " Detection success rate: 100.0%\n",
      " Elliptical tracking active: 0 frames\n"
     ]
    }
   ],
   "source": [
    "engine = iau.DistanceAnalysisEngine()\n",
    "net_analysis_results = engine.analyze_npz_sequence(\n",
    "    npz_file_index=NPZ_FILE_INDEX,    \n",
    "    frame_start=1,        # Start from frame 1\n",
    "    frame_count=1500,      # Analyze all frames from the video\n",
    "    frame_step=1,          # Every frame\n",
    "    save_outputs=True   # Save outputs to CSV and NPZ\n",
    ")\n",
    "\n",
    "print(f\"Analyzed {len(net_analysis_results)} frames using elliptical AOI\")\n",
    "print(f\" Detection success rate: {net_analysis_results['detection_success'].mean():.1%}\")\n",
    "print(f\" Elliptical tracking active: {(net_analysis_results['tracking_status'].str.contains('ELLIPSE')).sum()} frames\")"
   ]
  },
  {
   "cell_type": "code",
   "execution_count": 11,
   "id": "0bd5183d",
   "metadata": {},
   "outputs": [
    {
     "data": {
      "text/plain": [
       "Index(['frame_index', 'timestamp', 'distance_pixels', 'angle_degrees',\n",
       "       'distance_meters', 'detection_success', 'tracking_status', 'area',\n",
       "       'aspect_ratio', 'solidity', 'extent', 'ellipse_elongation',\n",
       "       'straightness', 'rect', 'centroid_x', 'centroid_y'],\n",
       "      dtype='object')"
      ]
     },
     "execution_count": 11,
     "metadata": {},
     "output_type": "execute_result"
    }
   ],
   "source": [
    "net_analysis_results.columns"
   ]
  },
  {
   "cell_type": "markdown",
   "id": "fede9d64",
   "metadata": {},
   "source": [
    "## Convert to Real-World Distances\n",
    "\n",
    "Now let's convert the pixel distances to real-world distances using the fact that the entire sonar image represents a 10x10 meter area."
   ]
  },
  {
   "cell_type": "code",
   "execution_count": 12,
   "id": "886897de",
   "metadata": {},
   "outputs": [
    {
     "name": "stdout",
     "output_type": "stream",
     "text": [
      "Detected NPZ extent: x=[-8.660,8.660] m, y=[0.000,10.000] m\n",
      "Image shape from NPZ: H=700, W=900\n",
      "meters/pixel: x=0.019245, y=0.014286, avg=0.016765\n",
      "Using pixels_to_meters_avg = 0.016765 m/px\n"
     ]
    }
   ],
   "source": [
    "# Auto-detect pixel->meter mapping from the selected NPZ (if available)\n",
    "try:\n",
    "    cones, ts, extent, meta = iau.load_cone_run_npz(selected)\n",
    "    T, H, W = cones.shape\n",
    "    x_min, x_max, y_min, y_max = extent\n",
    "    width_m = float(x_max - x_min)\n",
    "    height_m = float(y_max - y_min)\n",
    "    px2m_x = width_m / float(W)\n",
    "    px2m_y = height_m / float(H)\n",
    "    pixels_to_meters_avg = 0.5 * (px2m_x + px2m_y)\n",
    "    image_shape = (H, W)\n",
    "    sonar_coverage_meters = max(width_m, height_m)\n",
    "    print(f\"Detected NPZ extent: x=[{x_min:.3f},{x_max:.3f}] m, y=[{y_min:.3f},{y_max:.3f}] m\")\n",
    "    print(f\"Image shape from NPZ: H={H}, W={W}\")\n",
    "    print(f\"meters/pixel: x={px2m_x:.6f}, y={px2m_y:.6f}, avg={pixels_to_meters_avg:.6f}\")\n",
    "except Exception as e:\n",
    "    print(\"Could not read NPZ metadata:\", e)\n",
    "    print(\"Falling back to defaults from sonar_config.\")\n",
    "    from utils.sonar_config import CONE_H_DEFAULT, CONE_W_DEFAULT, DISPLAY_RANGE_MAX_M_DEFAULT\n",
    "    image_shape = (CONE_H_DEFAULT, CONE_W_DEFAULT)\n",
    "    sonar_coverage_meters = DISPLAY_RANGE_MAX_M_DEFAULT * 2  # approximate\n",
    "    pixels_to_meters_avg = sonar_coverage_meters / max(image_shape)\n",
    "    \n",
    "# Use the computed pixels_to_meters_avg in downstream analysis\n",
    "print(f\"Using pixels_to_meters_avg = {pixels_to_meters_avg:.6f} m/px\")"
   ]
  },
  {
   "cell_type": "code",
   "execution_count": 13,
   "id": "15d6238c",
   "metadata": {},
   "outputs": [
    {
     "data": {
      "application/vnd.plotly.v1+json": {
       "config": {
        "plotlyServerURL": "https://plot.ly"
       },
       "data": [
        {
         "line": {
          "color": "blue"
         },
         "mode": "lines+markers",
         "name": "Distance",
         "type": "scatter",
         "x": {
          "bdata": "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",
          "dtype": "i2"
         },
         "xaxis": "x",
         "y": {
          "bdata": "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",
          "dtype": "f8"
         },
         "yaxis": "y"
        },
        {
         "line": {
          "color": "green"
         },
         "mode": "lines+markers",
         "name": "Distance over Time",
         "type": "scatter",
         "x": [
          "2024-08-20T15:02:03.304299593",
          "2024-08-20T15:02:03.392066002",
          "2024-08-20T15:02:03.444470167",
          "2024-08-20T15:02:03.490314007",
          "2024-08-20T15:02:03.596029997",
          "2024-08-20T15:02:03.660857439",
          "2024-08-20T15:02:03.722691059",
          "2024-08-20T15:02:03.777779818",
          "2024-08-20T15:02:03.829639673",
          "2024-08-20T15:02:03.885847569",
          "2024-08-20T15:02:04.068356037",
          "2024-08-20T15:02:04.086308002",
          "2024-08-20T15:02:04.141202450",
          "2024-08-20T15:02:04.186041594",
          "2024-08-20T15:02:04.246188641",
          "2024-08-20T15:02:04.294025660",
          "2024-08-20T15:02:04.339898109",
          "2024-08-20T15:02:04.399738312",
          "2024-08-20T15:02:04.444617748",
          "2024-08-20T15:02:04.506453037",
          "2024-08-20T15:02:04.572278261",
          "2024-08-20T15:02:04.634138584",
          "2024-08-20T15:02:04.699935436",
          "2024-08-20T15:02:04.787726879",
          "2024-08-20T15:02:04.835607052",
          "2024-08-20T15:02:04.892460585",
          "2024-08-20T15:02:04.964228868",
          "2024-08-20T15:02:05.022073030",
          "2024-08-20T15:02:05.083785772",
          "2024-08-20T15:02:05.149605751",
          "2024-08-20T15:02:05.218421936",
          "2024-08-20T15:02:05.278495789",
          "2024-08-20T15:02:05.342324734",
          "2024-08-20T15:02:05.406154394",
          "2024-08-20T15:02:05.468985319",
          "2024-08-20T15:02:05.536804913",
          "2024-08-20T15:02:05.598678589",
          "2024-08-20T15:02:05.662467480",
          "2024-08-20T15:02:05.725300789",
          "2024-08-20T15:02:05.787727118",
          "2024-08-20T15:02:05.856579065",
          "2024-08-20T15:02:05.918375969",
          "2024-08-20T15:02:05.978216171",
          "2024-08-20T15:02:06.049027681",
          "2024-08-20T15:02:06.107869387",
          "2024-08-20T15:02:06.170728683",
          "2024-08-20T15:02:06.238523960",
          "2024-08-20T15:02:06.323292255",
          "2024-08-20T15:02:06.423026085",
          "2024-08-20T15:02:06.485858202",
          "2024-08-20T15:02:06.541708231",
          "2024-08-20T15:02:06.589580774",
          "2024-08-20T15:02:06.647721767",
          "2024-08-20T15:02:06.705601215",
          "2024-08-20T15:02:06.753438473",
          "2024-08-20T15:02:06.811283827",
          "2024-08-20T15:02:06.883090973",
          "2024-08-20T15:02:06.939137936",
          "2024-08-20T15:02:07.005617142",
          "2024-08-20T15:02:07.068420887",
          "2024-08-20T15:02:07.133276701",
          "2024-08-20T15:02:07.211549997",
          "2024-08-20T15:02:07.272386789",
          "2024-08-20T15:02:07.333224297",
          "2024-08-20T15:02:07.391822100",
          "2024-08-20T15:02:07.453657150",
          "2024-08-20T15:02:07.517920256",
          "2024-08-20T15:02:07.580791235",
          "2024-08-20T15:02:07.645579100",
          "2024-08-20T15:02:07.707412243",
          "2024-08-20T15:02:07.773238182",
          "2024-08-20T15:02:07.837123871",
          "2024-08-20T15:02:07.897961617",
          "2024-08-20T15:02:08.011687517",
          "2024-08-20T15:02:08.061526537",
          "2024-08-20T15:02:08.125351906",
          "2024-08-20T15:02:08.183196783",
          "2024-08-20T15:02:08.243036985",
          "2024-08-20T15:02:08.299884796",
          "2024-08-20T15:02:08.346761227",
          "2024-08-20T15:02:08.413581371",
          "2024-08-20T15:02:08.480402708",
          "2024-08-20T15:02:08.538277149",
          "2024-08-20T15:02:08.603734732",
          "2024-08-20T15:02:08.669523001",
          "2024-08-20T15:02:08.733913660",
          "2024-08-20T15:02:08.794792175",
          "2024-08-20T15:02:08.861671686",
          "2024-08-20T15:02:08.922474146",
          "2024-08-20T15:02:08.991289139",
          "2024-08-20T15:02:09.051129580",
          "2024-08-20T15:02:09.114971638",
          "2024-08-20T15:02:09.178800583",
          "2024-08-20T15:02:09.246592522",
          "2024-08-20T15:02:09.307428837",
          "2024-08-20T15:02:09.373254299",
          "2024-08-20T15:02:09.437119007",
          "2024-08-20T15:02:09.498916864",
          "2024-08-20T15:02:09.562747717",
          "2024-08-20T15:02:09.627574682",
          "2024-08-20T15:02:09.690404177",
          "2024-08-20T15:02:09.758185625",
          "2024-08-20T15:02:09.817968369",
          "2024-08-20T15:02:09.893765926",
          "2024-08-20T15:02:09.950613260",
          "2024-08-20T15:02:10.010488987",
          "2024-08-20T15:02:10.075279951",
          "2024-08-20T15:02:10.145600080",
          "2024-08-20T15:02:10.202506542",
          "2024-08-20T15:02:10.269307137",
          "2024-08-20T15:02:10.334095478",
          "2024-08-20T15:02:10.394942760",
          "2024-08-20T15:02:10.458763123",
          "2024-08-20T15:02:10.524369478",
          "2024-08-20T15:02:10.595182657",
          "2024-08-20T15:02:10.657254457",
          "2024-08-20T15:02:10.715044260",
          "2024-08-20T15:02:10.786852360",
          "2024-08-20T15:02:10.844699383",
          "2024-08-20T15:02:10.915508032",
          "2024-08-20T15:02:10.972356081",
          "2024-08-20T15:02:11.042195082",
          "2024-08-20T15:02:11.099019289",
          "2024-08-20T15:02:11.162847281",
          "2024-08-20T15:02:11.227673292",
          "2024-08-20T15:02:11.294109106",
          "2024-08-20T15:02:11.361928225",
          "2024-08-20T15:02:11.421767235",
          "2024-08-20T15:02:11.492577791",
          "2024-08-20T15:02:11.548429728",
          "2024-08-20T15:02:11.612260103",
          "2024-08-20T15:02:11.675089359",
          "2024-08-20T15:02:11.746477365",
          "2024-08-20T15:02:11.806315660",
          "2024-08-20T15:02:11.869150639",
          "2024-08-20T15:02:11.934139967",
          "2024-08-20T15:02:11.998970509",
          "2024-08-20T15:02:12.058772326",
          "2024-08-20T15:02:12.122766733",
          "2024-08-20T15:02:12.187594414",
          "2024-08-20T15:02:12.251423120",
          "2024-08-20T15:02:12.314289331",
          "2024-08-20T15:02:12.380115032",
          "2024-08-20T15:02:12.449693680",
          "2024-08-20T15:02:12.506574392",
          "2024-08-20T15:02:12.570403099",
          "2024-08-20T15:02:12.641209602",
          "2024-08-20T15:02:12.702016592",
          "2024-08-20T15:02:12.769521713",
          "2024-08-20T15:02:12.826366186",
          "2024-08-20T15:02:12.890194654",
          "2024-08-20T15:02:12.955021858",
          "2024-08-20T15:02:13.018850088",
          "2024-08-20T15:02:13.129554272",
          "2024-08-20T15:02:13.187434196",
          "2024-08-20T15:02:13.248237371",
          "2024-08-20T15:02:13.308077335",
          "2024-08-20T15:02:13.354986906",
          "2024-08-20T15:02:13.415789843",
          "2024-08-20T15:02:13.474442720",
          "2024-08-20T15:02:13.532286881",
          "2024-08-20T15:02:13.596147537",
          "2024-08-20T15:02:13.658748865",
          "2024-08-20T15:02:13.727600336",
          "2024-08-20T15:02:13.786439419",
          "2024-08-20T15:02:13.857252121",
          "2024-08-20T15:02:13.923075676",
          "2024-08-20T15:02:13.979178667",
          "2024-08-20T15:02:14.049057245",
          "2024-08-20T15:02:14.106864214",
          "2024-08-20T15:02:14.172687769",
          "2024-08-20T15:02:14.244565010",
          "2024-08-20T15:02:14.333326101",
          "2024-08-20T15:02:14.377759457",
          "2024-08-20T15:02:14.437664986",
          "2024-08-20T15:02:14.492484570",
          "2024-08-20T15:02:14.555350780",
          "2024-08-20T15:02:14.620141745",
          "2024-08-20T15:02:14.682007551",
          "2024-08-20T15:02:14.753486872",
          "2024-08-20T15:02:14.812296629",
          "2024-08-20T15:02:14.898066282",
          "2024-08-20T15:02:14.940951824",
          "2024-08-20T15:02:15.003818035",
          "2024-08-20T15:02:15.066665888",
          "2024-08-20T15:02:15.131476641",
          "2024-08-20T15:02:15.195301294",
          "2024-08-20T15:02:15.260098934",
          "2024-08-20T15:02:15.323928118",
          "2024-08-20T15:02:15.388707399",
          "2024-08-20T15:02:15.460512161",
          "2024-08-20T15:02:15.536344289",
          "2024-08-20T15:02:15.579195499",
          "2024-08-20T15:02:15.646017313",
          "2024-08-20T15:02:15.708849192",
          "2024-08-20T15:02:15.770298958",
          "2024-08-20T15:02:15.837092161",
          "2024-08-20T15:02:15.901920080",
          "2024-08-20T15:02:15.962757111",
          "2024-08-20T15:02:16.027582884",
          "2024-08-20T15:02:16.090415955",
          "2024-08-20T15:02:16.202356577",
          "2024-08-20T15:02:16.261173248",
          "2024-08-20T15:02:16.312033653",
          "2024-08-20T15:02:16.372870445",
          "2024-08-20T15:02:16.429718971",
          "2024-08-20T15:02:16.476593971",
          "2024-08-20T15:02:16.538427830",
          "2024-08-20T15:02:16.604252815",
          "2024-08-20T15:02:16.668452978",
          "2024-08-20T15:02:16.731235027",
          "2024-08-20T15:02:16.798726559",
          "2024-08-20T15:02:16.864550352",
          "2024-08-20T15:02:16.926385880",
          "2024-08-20T15:02:16.986892223",
          "2024-08-20T15:02:17.054455757",
          "2024-08-20T15:02:17.117319345",
          "2024-08-20T15:02:17.178864717",
          "2024-08-20T15:02:17.246713400",
          "2024-08-20T15:02:17.306555033",
          "2024-08-20T15:02:17.370386600",
          "2024-08-20T15:02:17.435178518",
          "2024-08-20T15:02:17.499037504",
          "2024-08-20T15:02:17.572759390",
          "2024-08-20T15:02:17.626615763",
          "2024-08-20T15:02:17.691481829",
          "2024-08-20T15:02:17.762252331",
          "2024-08-20T15:02:17.820130587",
          "2024-08-20T15:02:17.882928610",
          "2024-08-20T15:02:18.086412907",
          "2024-08-20T15:02:18.100347042",
          "2024-08-20T15:02:18.155219555",
          "2024-08-20T15:02:18.215085983",
          "2024-08-20T15:02:18.261734486",
          "2024-08-20T15:02:18.309607267",
          "2024-08-20T15:02:18.355485201",
          "2024-08-20T15:02:18.416321039",
          "2024-08-20T15:02:18.462198257",
          "2024-08-20T15:02:18.526028872",
          "2024-08-20T15:02:18.588497877",
          "2024-08-20T15:02:18.650332451",
          "2024-08-20T15:02:18.718190193",
          "2024-08-20T15:02:18.778018713",
          "2024-08-20T15:02:18.843816042",
          "2024-08-20T15:02:18.910053015",
          "2024-08-20T15:02:18.971923113",
          "2024-08-20T15:02:19.033722639",
          "2024-08-20T15:02:19.101540804",
          "2024-08-20T15:02:19.168361664",
          "2024-08-20T15:02:19.229200840",
          "2024-08-20T15:02:19.291034698",
          "2024-08-20T15:02:19.354862452",
          "2024-08-20T15:02:19.422681808",
          "2024-08-20T15:02:19.485513687",
          "2024-08-20T15:02:19.549374104",
          "2024-08-20T15:02:19.611212730",
          "2024-08-20T15:02:19.677590132",
          "2024-08-20T15:02:19.738435268",
          "2024-08-20T15:02:19.807215691",
          "2024-08-20T15:02:19.874108315",
          "2024-08-20T15:02:19.929925919",
          "2024-08-20T15:02:20.000735044",
          "2024-08-20T15:02:20.059579372",
          "2024-08-20T15:02:20.125180006",
          "2024-08-20T15:02:20.186627626",
          "2024-08-20T15:02:20.252451896",
          "2024-08-20T15:02:20.314707756",
          "2024-08-20T15:02:20.382554531",
          "2024-08-20T15:02:20.445398569",
          "2024-08-20T15:02:20.507268429",
          "2024-08-20T15:02:20.583035946",
          "2024-08-20T15:02:20.636886597",
          "2024-08-20T15:02:20.697723627",
          "2024-08-20T15:02:20.765542507",
          "2024-08-20T15:02:20.828375340",
          "2024-08-20T15:02:20.890208960",
          "2024-08-20T15:02:20.954076052",
          "2024-08-20T15:02:21.023852348",
          "2024-08-20T15:02:21.084793329",
          "2024-08-20T15:02:21.147659540",
          "2024-08-20T15:02:21.212452173",
          "2024-08-20T15:02:21.279273510",
          "2024-08-20T15:02:21.395482063",
          "2024-08-20T15:02:21.448340893",
          "2024-08-20T15:02:21.500256538",
          "2024-08-20T15:02:21.563036203",
          "2024-08-20T15:02:21.614895105",
          "2024-08-20T15:02:21.666627169",
          "2024-08-20T15:02:21.729454517",
          "2024-08-20T15:02:21.788352966",
          "2024-08-20T15:02:21.854137421",
          "2024-08-20T15:02:21.916970968",
          "2024-08-20T15:02:21.977836370",
          "2024-08-20T15:02:22.045223713",
          "2024-08-20T15:02:22.109052896",
          "2024-08-20T15:02:22.174877167",
          "2024-08-20T15:02:22.368360519",
          "2024-08-20T15:02:22.386315107",
          "2024-08-20T15:02:22.442163229",
          "2024-08-20T15:02:22.491070032",
          "2024-08-20T15:02:22.547880173",
          "2024-08-20T15:02:22.593755960",
          "2024-08-20T15:02:22.641628742",
          "2024-08-20T15:02:22.686537981",
          "2024-08-20T15:02:22.746387005",
          "2024-08-20T15:02:22.812171698",
          "2024-08-20T15:02:22.878998995",
          "2024-08-20T15:02:22.940828323",
          "2024-08-20T15:02:23.003662109",
          "2024-08-20T15:02:23.067489862",
          "2024-08-20T15:02:23.131362677",
          "2024-08-20T15:02:23.194230080",
          "2024-08-20T15:02:23.274977684",
          "2024-08-20T15:02:23.335814953",
          "2024-08-20T15:02:23.386677980",
          "2024-08-20T15:02:23.452734709",
          "2024-08-20T15:02:23.514557838",
          "2024-08-20T15:02:23.582381487",
          "2024-08-20T15:02:23.645174265",
          "2024-08-20T15:02:23.710029364",
          "2024-08-20T15:02:23.771135807",
          "2024-08-20T15:02:23.835964203",
          "2024-08-20T15:02:23.898831129",
          "2024-08-20T15:02:24.011618376",
          "2024-08-20T15:02:24.029536009",
          "2024-08-20T15:02:24.091368914",
          "2024-08-20T15:02:24.155727863",
          "2024-08-20T15:02:24.218558788",
          "2024-08-20T15:02:24.288547039",
          "2024-08-20T15:02:24.348361731",
          "2024-08-20T15:02:24.411191702",
          "2024-08-20T15:02:24.480009317",
          "2024-08-20T15:02:24.539888144",
          "2024-08-20T15:02:24.603718996",
          "2024-08-20T15:02:24.670497894",
          "2024-08-20T15:02:24.739343166",
          "2024-08-20T15:02:24.794201374",
          "2024-08-20T15:02:24.860028982",
          "2024-08-20T15:02:24.927920580",
          "2024-08-20T15:02:24.986800432",
          "2024-08-20T15:02:25.052374125",
          "2024-08-20T15:02:25.114244699",
          "2024-08-20T15:02:25.179036379",
          "2024-08-20T15:02:25.244895220",
          "2024-08-20T15:02:25.314752817",
          "2024-08-20T15:02:25.373595476",
          "2024-08-20T15:02:25.437424660",
          "2024-08-20T15:02:25.498262167",
          "2024-08-20T15:02:25.568075657",
          "2024-08-20T15:02:25.626950741",
          "2024-08-20T15:02:25.689749718",
          "2024-08-20T15:02:25.756576538",
          "2024-08-20T15:02:25.818395853",
          "2024-08-20T15:02:25.883255959",
          "2024-08-20T15:02:25.956028461",
          "2024-08-20T15:02:26.011919022",
          "2024-08-20T15:02:26.074709654",
          "2024-08-20T15:02:26.160514593",
          "2024-08-20T15:02:26.202398300",
          "2024-08-20T15:02:26.267194270",
          "2024-08-20T15:02:26.333018541",
          "2024-08-20T15:02:26.394853115",
          "2024-08-20T15:02:26.459887505",
          "2024-08-20T15:02:26.522615194",
          "2024-08-20T15:02:26.592429876",
          "2024-08-20T15:02:26.651271820",
          "2024-08-20T15:02:26.715100765",
          "2024-08-20T15:02:26.778957605",
          "2024-08-20T15:02:26.843417883",
          "2024-08-20T15:02:26.906209707",
          "2024-08-20T15:02:26.970726252",
          "2024-08-20T15:02:27.040756226",
          "2024-08-20T15:02:27.099146128",
          "2024-08-20T15:02:27.162782669",
          "2024-08-20T15:02:27.227643490",
          "2024-08-20T15:02:27.291465998",
          "2024-08-20T15:02:27.358259439",
          "2024-08-20T15:02:27.421091795",
          "2024-08-20T15:02:27.485918760",
          "2024-08-20T15:02:27.548776865",
          "2024-08-20T15:02:27.610584021",
          "2024-08-20T15:02:27.677405596",
          "2024-08-20T15:02:27.743229628",
          "2024-08-20T15:02:27.803073645",
          "2024-08-20T15:02:27.868896484",
          "2024-08-20T15:02:27.932015896",
          "2024-08-20T15:02:27.999172449",
          "2024-08-20T15:02:28.059038639",
          "2024-08-20T15:02:28.123874664",
          "2024-08-20T15:02:28.187668324",
          "2024-08-20T15:02:28.295153856",
          "2024-08-20T15:02:28.315102577",
          "2024-08-20T15:02:28.379971504",
          "2024-08-20T15:02:28.446793556",
          "2024-08-20T15:02:28.506668091",
          "2024-08-20T15:02:28.570851326",
          "2024-08-20T15:02:28.635647297",
          "2024-08-20T15:02:28.700474739",
          "2024-08-20T15:02:28.763339758",
          "2024-08-20T15:02:28.833149672",
          "2024-08-20T15:02:28.894953489",
          "2024-08-20T15:02:28.954792738",
          "2024-08-20T15:02:29.025669098",
          "2024-08-20T15:02:29.084449053",
          "2024-08-20T15:02:29.151267529",
          "2024-08-20T15:02:29.210144520",
          "2024-08-20T15:02:29.275969028",
          "2024-08-20T15:02:29.340761662",
          "2024-08-20T15:02:29.404593468",
          "2024-08-20T15:02:29.467423201",
          "2024-08-20T15:02:29.533245325",
          "2024-08-20T15:02:29.599071741",
          "2024-08-20T15:02:29.659331560",
          "2024-08-20T15:02:29.727157354",
          "2024-08-20T15:02:29.787344456",
          "2024-08-20T15:02:29.852588654",
          "2024-08-20T15:02:29.914407969",
          "2024-08-20T15:02:29.980266571",
          "2024-08-20T15:02:30.049048424",
          "2024-08-20T15:02:30.106894016",
          "2024-08-20T15:02:30.169724703",
          "2024-08-20T15:02:30.240573645",
          "2024-08-20T15:02:30.303368092",
          "2024-08-20T15:02:30.362868071",
          "2024-08-20T15:02:30.427694559",
          "2024-08-20T15:02:30.493519306",
          "2024-08-20T15:02:30.564329386",
          "2024-08-20T15:02:30.621176004",
          "2024-08-20T15:02:30.683012962",
          "2024-08-20T15:02:30.753823280",
          "2024-08-20T15:02:30.813663483",
          "2024-08-20T15:02:30.874500513",
          "2024-08-20T15:02:30.938327789",
          "2024-08-20T15:02:31.005744934",
          "2024-08-20T15:02:31.066608191",
          "2024-08-20T15:02:31.131409644",
          "2024-08-20T15:02:31.194277287",
          "2024-08-20T15:02:31.261062383",
          "2024-08-20T15:02:31.322901011",
          "2024-08-20T15:02:31.386727333",
          "2024-08-20T15:02:31.457615614",
          "2024-08-20T15:02:31.514473677",
          "2024-08-20T15:02:31.578299284",
          "2024-08-20T15:02:31.649094820",
          "2024-08-20T15:02:31.713903427",
          "2024-08-20T15:02:31.769995928",
          "2024-08-20T15:02:31.839774609",
          "2024-08-20T15:02:31.904601097",
          "2024-08-20T15:02:31.962445021",
          "2024-08-20T15:02:32.027272701",
          "2024-08-20T15:02:32.089107037",
          "2024-08-20T15:02:32.157922745",
          "2024-08-20T15:02:32.218795538",
          "2024-08-20T15:02:32.283586979",
          "2024-08-20T15:02:32.348412991",
          "2024-08-20T15:02:32.410275221",
          "2024-08-20T15:02:32.475102186",
          "2024-08-20T15:02:32.540917397",
          "2024-08-20T15:02:32.605744123",
          "2024-08-20T15:02:32.666581869",
          "2024-08-20T15:02:32.734436512",
          "2024-08-20T15:02:32.794274092",
          "2024-08-20T15:02:32.873089790",
          "2024-08-20T15:02:32.922958136",
          "2024-08-20T15:02:32.986787558",
          "2024-08-20T15:02:33.055222273",
          "2024-08-20T15:02:33.115104914",
          "2024-08-20T15:02:33.178912163",
          "2024-08-20T15:02:33.243738890",
          "2024-08-20T15:02:33.311069489",
          "2024-08-20T15:02:33.372418165",
          "2024-08-20T15:02:33.434253216",
          "2024-08-20T15:02:33.499078751",
          "2024-08-20T15:02:33.562911510",
          "2024-08-20T15:02:33.627774239",
          "2024-08-20T15:02:33.690601826",
          "2024-08-20T15:02:33.764369011",
          "2024-08-20T15:02:33.819256544",
          "2024-08-20T15:02:33.883051634",
          "2024-08-20T15:02:33.949952364",
          "2024-08-20T15:02:34.016774416",
          "2024-08-20T15:02:34.074661970",
          "2024-08-20T15:02:34.138484955",
          "2024-08-20T15:02:34.202277184",
          "2024-08-20T15:02:34.267134427",
          "2024-08-20T15:02:34.331930161",
          "2024-08-20T15:02:34.395759344",
          "2024-08-20T15:02:34.464576960",
          "2024-08-20T15:02:34.522455692",
          "2024-08-20T15:02:34.587076187",
          "2024-08-20T15:02:34.653862953",
          "2024-08-20T15:02:34.719785929",
          "2024-08-20T15:02:34.778628349",
          "2024-08-20T15:02:34.844450474",
          "2024-08-20T15:02:34.907284975",
          "2024-08-20T15:02:34.973107338",
          "2024-08-20T15:02:35.034942389",
          "2024-08-20T15:02:35.098828554",
          "2024-08-20T15:02:35.172574043",
          "2024-08-20T15:02:35.226464987",
          "2024-08-20T15:02:35.291679144",
          "2024-08-20T15:02:35.355508327",
          "2024-08-20T15:02:35.420335054",
          "2024-08-20T15:02:35.490182400",
          "2024-08-20T15:02:35.549025774",
          "2024-08-20T15:02:35.612855196",
          "2024-08-20T15:02:35.674654722",
          "2024-08-20T15:02:35.739481688",
          "2024-08-20T15:02:35.802358866",
          "2024-08-20T15:02:35.868889809",
          "2024-08-20T15:02:35.930701256",
          "2024-08-20T15:02:35.996526003",
          "2024-08-20T15:02:36.060353279",
          "2024-08-20T15:02:36.123874903",
          "2024-08-20T15:02:36.190417051",
          "2024-08-20T15:02:36.253272294",
          "2024-08-20T15:02:36.383145809",
          "2024-08-20T15:02:36.401098967",
          "2024-08-20T15:02:36.462934494",
          "2024-08-20T15:02:36.508847713",
          "2024-08-20T15:02:36.574646950",
          "2024-08-20T15:02:36.638509274",
          "2024-08-20T15:02:36.698319674",
          "2024-08-20T15:02:36.771124363",
          "2024-08-20T15:02:36.832960606",
          "2024-08-20T15:02:36.890803814",
          "2024-08-20T15:02:36.956665039",
          "2024-08-20T15:02:37.023480654",
          "2024-08-20T15:02:37.082292795",
          "2024-08-20T15:02:37.147120953",
          "2024-08-20T15:02:37.216933489",
          "2024-08-20T15:02:37.276771545",
          "2024-08-20T15:02:37.340601206",
          "2024-08-20T15:02:37.402435541",
          "2024-08-20T15:02:37.482595682",
          "2024-08-20T15:02:37.541473627",
          "2024-08-20T15:02:37.596332788",
          "2024-08-20T15:02:37.659157515",
          "2024-08-20T15:02:37.723949194",
          "2024-08-20T15:02:37.787708521",
          "2024-08-20T15:02:37.854471684",
          "2024-08-20T15:02:37.924791336",
          "2024-08-20T15:02:37.978779316",
          "2024-08-20T15:02:38.045258999",
          "2024-08-20T15:02:38.105938196",
          "2024-08-20T15:02:38.174710751",
          "2024-08-20T15:02:38.240534544",
          "2024-08-20T15:02:38.298413038",
          "2024-08-20T15:02:38.366223812",
          "2024-08-20T15:02:38.442023277",
          "2024-08-20T15:02:38.489866257",
          "2024-08-20T15:02:38.554692745",
          "2024-08-20T15:02:38.624506474",
          "2024-08-20T15:02:38.683348179",
          "2024-08-20T15:02:38.747228622",
          "2024-08-20T15:02:38.812041283",
          "2024-08-20T15:02:38.877828598",
          "2024-08-20T15:02:38.941657066",
          "2024-08-20T15:02:39.004488945",
          "2024-08-20T15:02:39.067321301",
          "2024-08-20T15:02:39.132147788",
          "2024-08-20T15:02:39.196139812",
          "2024-08-20T15:02:39.260967493",
          "2024-08-20T15:02:39.326836109",
          "2024-08-20T15:02:39.388612270",
          "2024-08-20T15:02:39.451442957",
          "2024-08-20T15:02:39.516917466",
          "2024-08-20T15:02:39.582761526",
          "2024-08-20T15:02:39.642794847",
          "2024-08-20T15:02:39.705896616",
          "2024-08-20T15:02:39.769726276",
          "2024-08-20T15:02:39.834555626",
          "2024-08-20T15:02:39.899408340",
          "2024-08-20T15:02:39.963209152",
          "2024-08-20T15:02:40.042191029",
          "2024-08-20T15:02:40.090063095",
          "2024-08-20T15:02:40.154976845",
          "2024-08-20T15:02:40.218805552",
          "2024-08-20T15:02:40.286624432",
          "2024-08-20T15:02:40.350454092",
          "2024-08-20T15:02:40.409831762",
          "2024-08-20T15:02:40.482679367",
          "2024-08-20T15:02:40.541522264",
          "2024-08-20T15:02:40.602393389",
          "2024-08-20T15:02:40.666214705",
          "2024-08-20T15:02:40.739012718",
          "2024-08-20T15:02:40.793869019",
          "2024-08-20T15:02:40.864676714",
          "2024-08-20T15:02:40.922522545",
          "2024-08-20T15:02:40.986350298",
          "2024-08-20T15:02:41.058159113",
          "2024-08-20T15:02:41.117634296",
          "2024-08-20T15:02:41.181462765",
          "2024-08-20T15:02:41.243265867",
          "2024-08-20T15:02:41.306095123",
          "2024-08-20T15:02:41.369924784",
          "2024-08-20T15:02:41.439007759",
          "2024-08-20T15:02:41.502836943",
          "2024-08-20T15:02:41.562678099",
          "2024-08-20T15:02:41.641015291",
          "2024-08-20T15:02:41.689849854",
          "2024-08-20T15:02:41.754677534",
          "2024-08-20T15:02:41.823493481",
          "2024-08-20T15:02:41.886323929",
          "2024-08-20T15:02:41.949166536",
          "2024-08-20T15:02:42.010031700",
          "2024-08-20T15:02:42.078618050",
          "2024-08-20T15:02:42.146435261",
          "2024-08-20T15:02:42.203318357",
          "2024-08-20T15:02:42.267148495",
          "2024-08-20T15:02:42.335928679",
          "2024-08-20T15:02:42.395769358",
          "2024-08-20T15:02:42.458607674",
          "2024-08-20T15:02:42.524423838",
          "2024-08-20T15:02:42.587256432",
          "2024-08-20T15:02:42.650122643",
          "2024-08-20T15:02:42.715951204",
          "2024-08-20T15:02:42.781802177",
          "2024-08-20T15:02:42.844636917",
          "2024-08-20T15:02:42.906473398",
          "2024-08-20T15:02:42.972176313",
          "2024-08-20T15:02:43.039748669",
          "2024-08-20T15:02:43.098587275",
          "2024-08-20T15:02:43.162765265",
          "2024-08-20T15:02:43.228587151",
          "2024-08-20T15:02:43.294449329",
          "2024-08-20T15:02:43.354286194",
          "2024-08-20T15:02:43.423090219",
          "2024-08-20T15:02:43.487915039",
          "2024-08-20T15:02:43.548751831",
          "2024-08-20T15:02:43.610624075",
          "2024-08-20T15:02:43.680435419",
          "2024-08-20T15:02:43.750213146",
          "2024-08-20T15:02:43.802075148",
          "2024-08-20T15:02:43.867898226",
          "2024-08-20T15:02:43.931728363",
          "2024-08-20T15:02:43.994559288",
          "2024-08-20T15:02:44.059565306",
          "2024-08-20T15:02:44.122397184",
          "2024-08-20T15:02:44.193207264",
          "2024-08-20T15:02:44.251716852",
          "2024-08-20T15:02:44.319507122",
          "2024-08-20T15:02:44.379382372",
          "2024-08-20T15:02:44.454146862",
          "2024-08-20T15:02:44.508006333",
          "2024-08-20T15:02:44.571833849",
          "2024-08-20T15:02:44.637687206",
          "2024-08-20T15:02:44.698493481",
          "2024-08-20T15:02:44.762322187",
          "2024-08-20T15:02:44.829236269",
          "2024-08-20T15:02:44.894062281",
          "2024-08-20T15:02:44.953903675",
          "2024-08-20T15:02:45.018729448",
          "2024-08-20T15:02:45.086583138",
          "2024-08-20T15:02:45.157424212",
          "2024-08-20T15:02:45.212272644",
          "2024-08-20T15:02:45.275110483",
          "2024-08-20T15:02:45.341892004",
          "2024-08-20T15:02:45.402730942",
          "2024-08-20T15:02:45.473910093",
          "2024-08-20T15:02:45.533748388",
          "2024-08-20T15:02:45.596580982",
          "2024-08-20T15:02:45.661407709",
          "2024-08-20T15:02:45.724239111",
          "2024-08-20T15:02:45.791064262",
          "2024-08-20T15:02:45.851935148",
          "2024-08-20T15:02:45.913732290",
          "2024-08-20T15:02:45.978341579",
          "2024-08-20T15:02:46.047887802",
          "2024-08-20T15:02:46.108726501",
          "2024-08-20T15:02:46.170922041",
          "2024-08-20T15:02:46.235777617",
          "2024-08-20T15:02:46.301572561",
          "2024-08-20T15:02:46.365436077",
          "2024-08-20T15:02:46.428233147",
          "2024-08-20T15:02:46.492084026",
          "2024-08-20T15:02:46.561914682",
          "2024-08-20T15:02:46.619720697",
          "2024-08-20T15:02:46.682604790",
          "2024-08-20T15:02:46.752367020",
          "2024-08-20T15:02:46.812240839",
          "2024-08-20T15:02:46.875084639",
          "2024-08-20T15:02:46.941888094",
          "2024-08-20T15:02:47.007724047",
          "2024-08-20T15:02:47.069904327",
          "2024-08-20T15:02:47.132818699",
          "2024-08-20T15:02:47.196647644",
          "2024-08-20T15:02:47.259480237",
          "2024-08-20T15:02:47.324307203",
          "2024-08-20T15:02:47.389706850",
          "2024-08-20T15:02:47.451538086",
          "2024-08-20T15:02:47.515367508",
          "2024-08-20T15:02:47.579179525",
          "2024-08-20T15:02:47.646007061",
          "2024-08-20T15:02:47.705847740",
          "2024-08-20T15:02:47.771251917",
          "2024-08-20T15:02:47.842062235",
          "2024-08-20T15:02:47.899908304",
          "2024-08-20T15:02:47.963772297",
          "2024-08-20T15:02:48.026569843",
          "2024-08-20T15:02:48.091423750",
          "2024-08-20T15:02:48.157220125",
          "2024-08-20T15:02:48.218057632",
          "2024-08-20T15:02:48.282918453",
          "2024-08-20T15:02:48.399585724",
          "2024-08-20T15:02:48.455436707",
          "2024-08-20T15:02:48.511322021",
          "2024-08-20T15:02:48.559159756",
          "2024-08-20T15:02:48.624019861",
          "2024-08-20T15:02:48.681410074",
          "2024-08-20T15:02:48.740978003",
          "2024-08-20T15:02:48.794469357",
          "2024-08-20T15:02:48.864273310",
          "2024-08-20T15:02:48.925058365",
          "2024-08-20T15:02:48.989817142",
          "2024-08-20T15:02:49.066611290",
          "2024-08-20T15:02:49.132436514",
          "2024-08-20T15:02:49.189425707",
          "2024-08-20T15:02:49.245274782",
          "2024-08-20T15:02:49.311102629",
          "2024-08-20T15:02:49.373934031",
          "2024-08-20T15:02:49.434800386",
          "2024-08-20T15:02:49.499597549",
          "2024-08-20T15:02:49.566419601",
          "2024-08-20T15:02:49.629251242",
          "2024-08-20T15:02:49.691086531",
          "2024-08-20T15:02:49.764888048",
          "2024-08-20T15:02:49.819778919",
          "2024-08-20T15:02:49.882591963",
          "2024-08-20T15:02:49.948636055",
          "2024-08-20T15:02:50.013462543",
          "2024-08-20T15:02:50.075297832",
          "2024-08-20T15:02:50.139133930",
          "2024-08-20T15:02:50.206947803",
          "2024-08-20T15:02:50.269984007",
          "2024-08-20T15:02:50.330820799",
          "2024-08-20T15:02:50.394648552",
          "2024-08-20T15:02:50.460505247",
          "2024-08-20T15:02:50.522339581",
          "2024-08-20T15:02:50.587234974",
          "2024-08-20T15:02:50.662442207",
          "2024-08-20T15:02:50.723279953",
          "2024-08-20T15:02:50.780127048",
          "2024-08-20T15:02:50.842959166",
          "2024-08-20T15:02:50.911922216",
          "2024-08-20T15:02:50.976260424",
          "2024-08-20T15:02:51.036100149",
          "2024-08-20T15:02:51.099191189",
          "2024-08-20T15:02:51.164017677",
          "2024-08-20T15:02:51.225852489",
          "2024-08-20T15:02:51.289681911",
          "2024-08-20T15:02:51.357503891",
          "2024-08-20T15:02:51.422328949",
          "2024-08-20T15:02:51.482187986",
          "2024-08-20T15:02:51.547024012",
          "2024-08-20T15:02:51.610854387",
          "2024-08-20T15:02:51.674741983",
          "2024-08-20T15:02:51.739568949",
          "2024-08-20T15:02:51.803404808",
          "2024-08-20T15:02:51.872219086",
          "2024-08-20T15:02:51.933056593",
          "2024-08-20T15:02:51.994941950",
          "2024-08-20T15:02:52.060714483",
          "2024-08-20T15:02:52.122749805",
          "2024-08-20T15:02:52.190568686",
          "2024-08-20T15:02:52.252403975",
          "2024-08-20T15:02:52.318249226",
          "2024-08-20T15:02:52.380089283",
          "2024-08-20T15:02:52.444888353",
          "2024-08-20T15:02:52.506876945",
          "2024-08-20T15:02:52.590651989",
          "2024-08-20T15:02:52.635532618",
          "2024-08-20T15:02:52.698933363",
          "2024-08-20T15:02:52.768145561",
          "2024-08-20T15:02:52.826989889",
          "2024-08-20T15:02:52.890367270",
          "2024-08-20T15:02:52.955186129",
          "2024-08-20T15:02:53.024555922",
          "2024-08-20T15:02:53.139220715",
          "2024-08-20T15:02:53.153184414",
          "2024-08-20T15:02:53.217014313",
          "2024-08-20T15:02:53.280841827",
          "2024-08-20T15:02:53.338688850",
          "2024-08-20T15:02:53.403810024",
          "2024-08-20T15:02:53.467815876",
          "2024-08-20T15:02:53.530674219",
          "2024-08-20T15:02:53.594470263",
          "2024-08-20T15:02:53.660327673",
          "2024-08-20T15:02:53.727113962",
          "2024-08-20T15:02:53.794934034",
          "2024-08-20T15:02:53.850785017",
          "2024-08-20T15:02:53.914612770",
          "2024-08-20T15:02:53.978441954",
          "2024-08-20T15:02:54.043295383",
          "2024-08-20T15:02:54.106127977",
          "2024-08-20T15:02:54.177947760",
          "2024-08-20T15:02:54.234792709",
          "2024-08-20T15:02:54.298584938",
          "2024-08-20T15:02:54.363106251",
          "2024-08-20T15:02:54.426873207",
          "2024-08-20T15:02:54.491688490",
          "2024-08-20T15:02:54.562464237",
          "2024-08-20T15:02:54.623351574",
          "2024-08-20T15:02:54.684141159",
          "2024-08-20T15:02:54.749962807",
          "2024-08-20T15:02:54.809833288",
          "2024-08-20T15:02:54.875626087",
          "2024-08-20T15:02:54.939455748",
          "2024-08-20T15:02:55.004341602",
          "2024-08-20T15:02:55.068111181",
          "2024-08-20T15:02:55.137924194",
          "2024-08-20T15:02:55.195810795",
          "2024-08-20T15:02:55.260626793",
          "2024-08-20T15:02:55.331425905",
          "2024-08-20T15:02:55.387281418",
          "2024-08-20T15:02:55.453650475",
          "2024-08-20T15:02:55.514300345",
          "2024-08-20T15:02:55.580135584",
          "2024-08-20T15:02:55.644570827",
          "2024-08-20T15:02:55.706820250",
          "2024-08-20T15:02:55.775637388",
          "2024-08-20T15:02:55.835477352",
          "2024-08-20T15:02:55.901246071",
          "2024-08-20T15:02:55.966109753",
          "2024-08-20T15:02:56.038524866",
          "2024-08-20T15:02:56.091417789",
          "2024-08-20T15:02:56.157236576",
          "2024-08-20T15:02:56.224563360",
          "2024-08-20T15:02:56.282408953",
          "2024-08-20T15:02:56.347278595",
          "2024-08-20T15:02:56.412062407",
          "2024-08-20T15:02:56.474892855",
          "2024-08-20T15:02:56.540717602",
          "2024-08-20T15:02:56.602553606",
          "2024-08-20T15:02:56.666415930",
          "2024-08-20T15:02:56.732240200",
          "2024-08-20T15:02:56.794669867",
          "2024-08-20T15:02:56.861550331",
          "2024-08-20T15:02:56.923325777",
          "2024-08-20T15:02:56.986186743",
          "2024-08-20T15:02:57.050014734",
          "2024-08-20T15:02:57.120799303",
          "2024-08-20T15:02:57.181636333",
          "2024-08-20T15:02:57.244270086",
          "2024-08-20T15:02:57.306085587",
          "2024-08-20T15:02:57.373910427",
          "2024-08-20T15:02:57.437703133",
          "2024-08-20T15:02:57.500166655",
          "2024-08-20T15:02:57.563994646",
          "2024-08-20T15:02:57.627446413",
          "2024-08-20T15:02:57.690959215",
          "2024-08-20T15:02:57.755471706",
          "2024-08-20T15:02:57.820298672",
          "2024-08-20T15:02:57.885125875",
          "2024-08-20T15:02:57.961443186",
          "2024-08-20T15:02:58.011309147",
          "2024-08-20T15:02:58.084116459",
          "2024-08-20T15:02:58.139997005",
          "2024-08-20T15:02:58.202834129",
          "2024-08-20T15:02:58.269618511",
          "2024-08-20T15:02:58.345415115",
          "2024-08-20T15:02:58.395281553",
          "2024-08-20T15:02:58.459437847",
          "2024-08-20T15:02:58.524318694",
          "2024-08-20T15:02:58.592110634",
          "2024-08-20T15:02:58.652921915",
          "2024-08-20T15:02:58.714787006",
          "2024-08-20T15:02:58.788558006",
          "2024-08-20T15:02:58.843410730",
          "2024-08-20T15:02:58.907274961",
          "2024-08-20T15:02:58.974112272",
          "2024-08-20T15:02:59.040593386",
          "2024-08-20T15:02:59.098437309",
          "2024-08-20T15:02:59.167257547",
          "2024-08-20T15:02:59.226149082",
          "2024-08-20T15:02:59.293915033",
          "2024-08-20T15:02:59.355618954",
          "2024-08-20T15:02:59.420460701",
          "2024-08-20T15:02:59.483311415",
          "2024-08-20T15:02:59.548154593",
          "2024-08-20T15:02:59.611932278",
          "2024-08-20T15:02:59.674762487",
          "2024-08-20T15:02:59.753592253",
          "2024-08-20T15:02:59.803458929",
          "2024-08-20T15:02:59.869282961",
          "2024-08-20T15:02:59.934110165",
          "2024-08-20T15:02:59.994946003",
          "2024-08-20T15:03:00.059772968",
          "2024-08-20T15:03:00.123630047",
          "2024-08-20T15:03:00.190470934",
          "2024-08-20T15:03:00.251308203",
          "2024-08-20T15:03:00.315139532",
          "2024-08-20T15:03:00.379477262",
          "2024-08-20T15:03:00.447335005",
          "2024-08-20T15:03:00.506248236",
          "2024-08-20T15:03:00.570660353",
          "2024-08-20T15:03:00.638440847",
          "2024-08-20T15:03:00.700278044",
          "2024-08-20T15:03:00.763107538",
          "2024-08-20T15:03:00.826932669",
          "2024-08-20T15:03:00.895710945",
          "2024-08-20T15:03:00.955577135",
          "2024-08-20T15:03:01.019379377",
          "2024-08-20T15:03:01.085203886",
          "2024-08-20T15:03:01.149032116",
          "2024-08-20T15:03:01.211186647",
          "2024-08-20T15:03:01.275015831",
          "2024-08-20T15:03:01.343832731",
          "2024-08-20T15:03:01.402674675",
          "2024-08-20T15:03:01.467554331",
          "2024-08-20T15:03:01.532362938",
          "2024-08-20T15:03:01.599183798",
          "2024-08-20T15:03:01.659030437",
          "2024-08-20T15:03:01.724813223",
          "2024-08-20T15:03:01.787174940",
          "2024-08-20T15:03:01.852001190",
          "2024-08-20T15:03:01.915831327",
          "2024-08-20T15:03:01.982651472",
          "2024-08-20T15:03:02.044486284",
          "2024-08-20T15:03:02.106355190",
          "2024-08-20T15:03:02.170762777",
          "2024-08-20T15:03:02.237583637",
          "2024-08-20T15:03:02.300415516",
          "2024-08-20T15:03:02.367306471",
          "2024-08-20T15:03:02.427146196",
          "2024-08-20T15:03:02.497899055",
          "2024-08-20T15:03:02.557856083",
          "2024-08-20T15:03:02.620687723",
          "2024-08-20T15:03:02.682523966",
          "2024-08-20T15:03:02.748347044",
          "2024-08-20T15:03:02.810182095",
          "2024-08-20T15:03:02.877999306",
          "2024-08-20T15:03:02.942826986",
          "2024-08-20T15:03:03.009647131",
          "2024-08-20T15:03:03.066495180",
          "2024-08-20T15:03:03.134313822",
          "2024-08-20T15:03:03.210111141",
          "2024-08-20T15:03:03.261972189",
          "2024-08-20T15:03:03.328794956",
          "2024-08-20T15:03:03.390632629",
          "2024-08-20T15:03:03.458952188",
          "2024-08-20T15:03:03.514803170",
          "2024-08-20T15:03:03.580137253",
          "2024-08-20T15:03:03.646958113"
         ],
         "xaxis": "x2",
         "y": {
          "bdata": "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",
          "dtype": "f8"
         },
         "yaxis": "y2"
        },
        {
         "marker": {
          "color": "lightcoral"
         },
         "name": "Distribution",
         "nbinsx": 30,
         "opacity": 0.7,
         "type": "histogram",
         "x": {
          "bdata": "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",
          "dtype": "f8"
         },
         "xaxis": "x3",
         "yaxis": "y3"
        },
        {
         "line": {
          "color": "lightcoral",
          "width": 1
         },
         "mode": "lines",
         "name": "Raw",
         "opacity": 0.5,
         "type": "scatter",
         "x": {
          "bdata": "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",
          "dtype": "i2"
         },
         "xaxis": "x4",
         "y": {
          "bdata": "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",
          "dtype": "f8"
         },
         "yaxis": "y4"
        },
        {
         "line": {
          "color": "darkred",
          "width": 3
         },
         "mode": "lines",
         "name": "Smoothed (n=47)",
         "type": "scatter",
         "x": {
          "bdata": "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",
          "dtype": "i2"
         },
         "xaxis": "x4",
         "y": {
          "bdata": "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",
          "dtype": "f8"
         },
         "yaxis": "y4"
        }
       ],
       "layout": {
        "annotations": [
         {
          "font": {
           "size": 16
          },
          "showarrow": false,
          "text": "Distance vs Frame Index",
          "x": 0.225,
          "xanchor": "center",
          "xref": "paper",
          "y": 1,
          "yanchor": "bottom",
          "yref": "paper"
         },
         {
          "font": {
           "size": 16
          },
          "showarrow": false,
          "text": "Distance vs Time",
          "x": 0.775,
          "xanchor": "center",
          "xref": "paper",
          "y": 1,
          "yanchor": "bottom",
          "yref": "paper"
         },
         {
          "font": {
           "size": 16
          },
          "showarrow": false,
          "text": "Distance Distribution",
          "x": 0.225,
          "xanchor": "center",
          "xref": "paper",
          "y": 0.375,
          "yanchor": "bottom",
          "yref": "paper"
         },
         {
          "font": {
           "size": 16
          },
          "showarrow": false,
          "text": "Distance Trends",
          "x": 0.775,
          "xanchor": "center",
          "xref": "paper",
          "y": 0.375,
          "yanchor": "bottom",
          "yref": "paper"
         },
         {
          "showarrow": false,
          "text": "Mean: 1.30meters",
          "x": 1.3003326352074347,
          "xanchor": "left",
          "xref": "x3",
          "y": 1,
          "yanchor": "top",
          "yref": "y3 domain"
         }
        ],
        "height": 800,
        "shapes": [
         {
          "line": {
           "color": "red",
           "dash": "dash"
          },
          "type": "line",
          "x0": 1.3003326352074347,
          "x1": 1.3003326352074347,
          "xref": "x3",
          "y0": 0,
          "y1": 1,
          "yref": "y3 domain"
         }
        ],
        "showlegend": true,
        "template": {
         "data": {
          "bar": [
           {
            "error_x": {
             "color": "#2a3f5f"
            },
            "error_y": {
             "color": "#2a3f5f"
            },
            "marker": {
             "line": {
              "color": "#E5ECF6",
              "width": 0.5
             },
             "pattern": {
              "fillmode": "overlay",
              "size": 10,
              "solidity": 0.2
             }
            },
            "type": "bar"
           }
          ],
          "barpolar": [
           {
            "marker": {
             "line": {
              "color": "#E5ECF6",
              "width": 0.5
             },
             "pattern": {
              "fillmode": "overlay",
              "size": 10,
              "solidity": 0.2
             }
            },
            "type": "barpolar"
           }
          ],
          "carpet": [
           {
            "aaxis": {
             "endlinecolor": "#2a3f5f",
             "gridcolor": "white",
             "linecolor": "white",
             "minorgridcolor": "white",
             "startlinecolor": "#2a3f5f"
            },
            "baxis": {
             "endlinecolor": "#2a3f5f",
             "gridcolor": "white",
             "linecolor": "white",
             "minorgridcolor": "white",
             "startlinecolor": "#2a3f5f"
            },
            "type": "carpet"
           }
          ],
          "choropleth": [
           {
            "colorbar": {
             "outlinewidth": 0,
             "ticks": ""
            },
            "type": "choropleth"
           }
          ],
          "contour": [
           {
            "colorbar": {
             "outlinewidth": 0,
             "ticks": ""
            },
            "colorscale": [
             [
              0,
              "#0d0887"
             ],
             [
              0.1111111111111111,
              "#46039f"
             ],
             [
              0.2222222222222222,
              "#7201a8"
             ],
             [
              0.3333333333333333,
              "#9c179e"
             ],
             [
              0.4444444444444444,
              "#bd3786"
             ],
             [
              0.5555555555555556,
              "#d8576b"
             ],
             [
              0.6666666666666666,
              "#ed7953"
             ],
             [
              0.7777777777777778,
              "#fb9f3a"
             ],
             [
              0.8888888888888888,
              "#fdca26"
             ],
             [
              1,
              "#f0f921"
             ]
            ],
            "type": "contour"
           }
          ],
          "contourcarpet": [
           {
            "colorbar": {
             "outlinewidth": 0,
             "ticks": ""
            },
            "type": "contourcarpet"
           }
          ],
          "heatmap": [
           {
            "colorbar": {
             "outlinewidth": 0,
             "ticks": ""
            },
            "colorscale": [
             [
              0,
              "#0d0887"
             ],
             [
              0.1111111111111111,
              "#46039f"
             ],
             [
              0.2222222222222222,
              "#7201a8"
             ],
             [
              0.3333333333333333,
              "#9c179e"
             ],
             [
              0.4444444444444444,
              "#bd3786"
             ],
             [
              0.5555555555555556,
              "#d8576b"
             ],
             [
              0.6666666666666666,
              "#ed7953"
             ],
             [
              0.7777777777777778,
              "#fb9f3a"
             ],
             [
              0.8888888888888888,
              "#fdca26"
             ],
             [
              1,
              "#f0f921"
             ]
            ],
            "type": "heatmap"
           }
          ],
          "histogram": [
           {
            "marker": {
             "pattern": {
              "fillmode": "overlay",
              "size": 10,
              "solidity": 0.2
             }
            },
            "type": "histogram"
           }
          ],
          "histogram2d": [
           {
            "colorbar": {
             "outlinewidth": 0,
             "ticks": ""
            },
            "colorscale": [
             [
              0,
              "#0d0887"
             ],
             [
              0.1111111111111111,
              "#46039f"
             ],
             [
              0.2222222222222222,
              "#7201a8"
             ],
             [
              0.3333333333333333,
              "#9c179e"
             ],
             [
              0.4444444444444444,
              "#bd3786"
             ],
             [
              0.5555555555555556,
              "#d8576b"
             ],
             [
              0.6666666666666666,
              "#ed7953"
             ],
             [
              0.7777777777777778,
              "#fb9f3a"
             ],
             [
              0.8888888888888888,
              "#fdca26"
             ],
             [
              1,
              "#f0f921"
             ]
            ],
            "type": "histogram2d"
           }
          ],
          "histogram2dcontour": [
           {
            "colorbar": {
             "outlinewidth": 0,
             "ticks": ""
            },
            "colorscale": [
             [
              0,
              "#0d0887"
             ],
             [
              0.1111111111111111,
              "#46039f"
             ],
             [
              0.2222222222222222,
              "#7201a8"
             ],
             [
              0.3333333333333333,
              "#9c179e"
             ],
             [
              0.4444444444444444,
              "#bd3786"
             ],
             [
              0.5555555555555556,
              "#d8576b"
             ],
             [
              0.6666666666666666,
              "#ed7953"
             ],
             [
              0.7777777777777778,
              "#fb9f3a"
             ],
             [
              0.8888888888888888,
              "#fdca26"
             ],
             [
              1,
              "#f0f921"
             ]
            ],
            "type": "histogram2dcontour"
           }
          ],
          "mesh3d": [
           {
            "colorbar": {
             "outlinewidth": 0,
             "ticks": ""
            },
            "type": "mesh3d"
           }
          ],
          "parcoords": [
           {
            "line": {
             "colorbar": {
              "outlinewidth": 0,
              "ticks": ""
             }
            },
            "type": "parcoords"
           }
          ],
          "pie": [
           {
            "automargin": true,
            "type": "pie"
           }
          ],
          "scatter": [
           {
            "fillpattern": {
             "fillmode": "overlay",
             "size": 10,
             "solidity": 0.2
            },
            "type": "scatter"
           }
          ],
          "scatter3d": [
           {
            "line": {
             "colorbar": {
              "outlinewidth": 0,
              "ticks": ""
             }
            },
            "marker": {
             "colorbar": {
              "outlinewidth": 0,
              "ticks": ""
             }
            },
            "type": "scatter3d"
           }
          ],
          "scattercarpet": [
           {
            "marker": {
             "colorbar": {
              "outlinewidth": 0,
              "ticks": ""
             }
            },
            "type": "scattercarpet"
           }
          ],
          "scattergeo": [
           {
            "marker": {
             "colorbar": {
              "outlinewidth": 0,
              "ticks": ""
             }
            },
            "type": "scattergeo"
           }
          ],
          "scattergl": [
           {
            "marker": {
             "colorbar": {
              "outlinewidth": 0,
              "ticks": ""
             }
            },
            "type": "scattergl"
           }
          ],
          "scattermap": [
           {
            "marker": {
             "colorbar": {
              "outlinewidth": 0,
              "ticks": ""
             }
            },
            "type": "scattermap"
           }
          ],
          "scattermapbox": [
           {
            "marker": {
             "colorbar": {
              "outlinewidth": 0,
              "ticks": ""
             }
            },
            "type": "scattermapbox"
           }
          ],
          "scatterpolar": [
           {
            "marker": {
             "colorbar": {
              "outlinewidth": 0,
              "ticks": ""
             }
            },
            "type": "scatterpolar"
           }
          ],
          "scatterpolargl": [
           {
            "marker": {
             "colorbar": {
              "outlinewidth": 0,
              "ticks": ""
             }
            },
            "type": "scatterpolargl"
           }
          ],
          "scatterternary": [
           {
            "marker": {
             "colorbar": {
              "outlinewidth": 0,
              "ticks": ""
             }
            },
            "type": "scatterternary"
           }
          ],
          "surface": [
           {
            "colorbar": {
             "outlinewidth": 0,
             "ticks": ""
            },
            "colorscale": [
             [
              0,
              "#0d0887"
             ],
             [
              0.1111111111111111,
              "#46039f"
             ],
             [
              0.2222222222222222,
              "#7201a8"
             ],
             [
              0.3333333333333333,
              "#9c179e"
             ],
             [
              0.4444444444444444,
              "#bd3786"
             ],
             [
              0.5555555555555556,
              "#d8576b"
             ],
             [
              0.6666666666666666,
              "#ed7953"
             ],
             [
              0.7777777777777778,
              "#fb9f3a"
             ],
             [
              0.8888888888888888,
              "#fdca26"
             ],
             [
              1,
              "#f0f921"
             ]
            ],
            "type": "surface"
           }
          ],
          "table": [
           {
            "cells": {
             "fill": {
              "color": "#EBF0F8"
             },
             "line": {
              "color": "white"
             }
            },
            "header": {
             "fill": {
              "color": "#C8D4E3"
             },
             "line": {
              "color": "white"
             }
            },
            "type": "table"
           }
          ]
         },
         "layout": {
          "annotationdefaults": {
           "arrowcolor": "#2a3f5f",
           "arrowhead": 0,
           "arrowwidth": 1
          },
          "autotypenumbers": "strict",
          "coloraxis": {
           "colorbar": {
            "outlinewidth": 0,
            "ticks": ""
           }
          },
          "colorscale": {
           "diverging": [
            [
             0,
             "#8e0152"
            ],
            [
             0.1,
             "#c51b7d"
            ],
            [
             0.2,
             "#de77ae"
            ],
            [
             0.3,
             "#f1b6da"
            ],
            [
             0.4,
             "#fde0ef"
            ],
            [
             0.5,
             "#f7f7f7"
            ],
            [
             0.6,
             "#e6f5d0"
            ],
            [
             0.7,
             "#b8e186"
            ],
            [
             0.8,
             "#7fbc41"
            ],
            [
             0.9,
             "#4d9221"
            ],
            [
             1,
             "#276419"
            ]
           ],
           "sequential": [
            [
             0,
             "#0d0887"
            ],
            [
             0.1111111111111111,
             "#46039f"
            ],
            [
             0.2222222222222222,
             "#7201a8"
            ],
            [
             0.3333333333333333,
             "#9c179e"
            ],
            [
             0.4444444444444444,
             "#bd3786"
            ],
            [
             0.5555555555555556,
             "#d8576b"
            ],
            [
             0.6666666666666666,
             "#ed7953"
            ],
            [
             0.7777777777777778,
             "#fb9f3a"
            ],
            [
             0.8888888888888888,
             "#fdca26"
            ],
            [
             1,
             "#f0f921"
            ]
           ],
           "sequentialminus": [
            [
             0,
             "#0d0887"
            ],
            [
             0.1111111111111111,
             "#46039f"
            ],
            [
             0.2222222222222222,
             "#7201a8"
            ],
            [
             0.3333333333333333,
             "#9c179e"
            ],
            [
             0.4444444444444444,
             "#bd3786"
            ],
            [
             0.5555555555555556,
             "#d8576b"
            ],
            [
             0.6666666666666666,
             "#ed7953"
            ],
            [
             0.7777777777777778,
             "#fb9f3a"
            ],
            [
             0.8888888888888888,
             "#fdca26"
            ],
            [
             1,
             "#f0f921"
            ]
           ]
          },
          "colorway": [
           "#636efa",
           "#EF553B",
           "#00cc96",
           "#ab63fa",
           "#FFA15A",
           "#19d3f3",
           "#FF6692",
           "#B6E880",
           "#FF97FF",
           "#FECB52"
          ],
          "font": {
           "color": "#2a3f5f"
          },
          "geo": {
           "bgcolor": "white",
           "lakecolor": "white",
           "landcolor": "#E5ECF6",
           "showlakes": true,
           "showland": true,
           "subunitcolor": "white"
          },
          "hoverlabel": {
           "align": "left"
          },
          "hovermode": "closest",
          "mapbox": {
           "style": "light"
          },
          "paper_bgcolor": "white",
          "plot_bgcolor": "#E5ECF6",
          "polar": {
           "angularaxis": {
            "gridcolor": "white",
            "linecolor": "white",
            "ticks": ""
           },
           "bgcolor": "#E5ECF6",
           "radialaxis": {
            "gridcolor": "white",
            "linecolor": "white",
            "ticks": ""
           }
          },
          "scene": {
           "xaxis": {
            "backgroundcolor": "#E5ECF6",
            "gridcolor": "white",
            "gridwidth": 2,
            "linecolor": "white",
            "showbackground": true,
            "ticks": "",
            "zerolinecolor": "white"
           },
           "yaxis": {
            "backgroundcolor": "#E5ECF6",
            "gridcolor": "white",
            "gridwidth": 2,
            "linecolor": "white",
            "showbackground": true,
            "ticks": "",
            "zerolinecolor": "white"
           },
           "zaxis": {
            "backgroundcolor": "#E5ECF6",
            "gridcolor": "white",
            "gridwidth": 2,
            "linecolor": "white",
            "showbackground": true,
            "ticks": "",
            "zerolinecolor": "white"
           }
          },
          "shapedefaults": {
           "line": {
            "color": "#2a3f5f"
           }
          },
          "ternary": {
           "aaxis": {
            "gridcolor": "white",
            "linecolor": "white",
            "ticks": ""
           },
           "baxis": {
            "gridcolor": "white",
            "linecolor": "white",
            "ticks": ""
           },
           "bgcolor": "#E5ECF6",
           "caxis": {
            "gridcolor": "white",
            "linecolor": "white",
            "ticks": ""
           }
          },
          "title": {
           "x": 0.05
          },
          "xaxis": {
           "automargin": true,
           "gridcolor": "white",
           "linecolor": "white",
           "ticks": "",
           "title": {
            "standoff": 15
           },
           "zerolinecolor": "white",
           "zerolinewidth": 2
          },
          "yaxis": {
           "automargin": true,
           "gridcolor": "white",
           "linecolor": "white",
           "ticks": "",
           "title": {
            "standoff": 15
           },
           "zerolinecolor": "white",
           "zerolinewidth": 2
          }
         }
        },
        "title": {
         "text": "Real-World Distance Analysis"
        },
        "xaxis": {
         "anchor": "y",
         "domain": [
          0,
          0.45
         ],
         "title": {
          "text": "Frame Index"
         }
        },
        "xaxis2": {
         "anchor": "y2",
         "domain": [
          0.55,
          1
         ],
         "title": {
          "text": "Time"
         }
        },
        "xaxis3": {
         "anchor": "y3",
         "domain": [
          0,
          0.45
         ],
         "title": {
          "text": "Distance (meters)"
         }
        },
        "xaxis4": {
         "anchor": "y4",
         "domain": [
          0.55,
          1
         ],
         "title": {
          "text": "Frame Index"
         }
        },
        "yaxis": {
         "anchor": "x",
         "domain": [
          0.625,
          1
         ],
         "title": {
          "text": "Distance (meters)"
         }
        },
        "yaxis2": {
         "anchor": "x2",
         "domain": [
          0.625,
          1
         ],
         "title": {
          "text": "Distance (meters)"
         }
        },
        "yaxis3": {
         "anchor": "x3",
         "domain": [
          0,
          0.375
         ],
         "title": {
          "text": "Frequency"
         }
        },
        "yaxis4": {
         "anchor": "x4",
         "domain": [
          0,
          0.375
         ],
         "title": {
          "text": "Distance (meters)"
         }
        }
       }
      }
     },
     "metadata": {},
     "output_type": "display_data"
    }
   ],
   "source": [
    "iau.VisualizationEngine.plot_distance_analysis(net_analysis_results, \"Real-World Distance Analysis\")"
   ]
  },
  {
   "cell_type": "code",
   "execution_count": 14,
   "id": "c10a8be6",
   "metadata": {},
   "outputs": [
    {
     "name": "stdout",
     "output_type": "stream",
     "text": [
      " LOADING ALL DISTANCE DATA FOR BAG: 2024-08-20_17-02-00\n",
      "============================================================\n",
      "📡 1. Loading Navigation Data...\n",
      "    Loaded 497 navigation records\n",
      "    NetPitch data available: 497 valid records\n",
      "📡 2. Loading Guidance Data...\n",
      "    Loaded 509 guidance records with ['error_net_distance', 'desired_net_distance', 'r_net_distance_d']\n",
      "📡 3. Loading DVL Altimeter...\n",
      "    DVL altimeter file not found\n",
      " 4. Loading USBL...\n",
      "    Loaded 30 USBL records\n",
      "📡 5. Loading DVL Position...\n",
      "    Loaded 265 DVL position records\n",
      " 6. Loading Navigation Position...\n",
      "    Loaded 245 navigation position records\n",
      "📡 7. Loading INS Z Position...\n",
      "    INS file not found\n",
      "\n",
      " LOADING SUMMARY:\n",
      "    Target bag: 2024-08-20_17-02-00\n",
      "    Raw data loaded: 2/2\n",
      "    Distance measurements: 4\n",
      "\n",
      " RAW DATA LOADED:\n",
      "    navigation: 497 records\n",
      "    guidance: 509 records\n",
      "\n",
      " DISTANCE MEASUREMENTS LOADED:\n",
      "    USBL_3D: 30 records - 3D acoustic position\n",
      "    USBL_Depth: 30 records - USBL depth measurement\n",
      "    DVL_Position: 265 records - 3D DVL position\n",
      "    Nav_Position: 245 records - 2D navigation position\n"
     ]
    }
   ],
   "source": [
    "# COMPARISON: SONAR vs DVL DISTANCE MEASUREMENTS\n",
    "# =================================================\n",
    "import utils.net_distance_analysis as sda\n",
    "\n",
    "# IMPORTANT: Pass the by_bag folder, not just the exports root\n",
    "# The function expects the folder containing the CSV files\n",
    "from utils.sonar_config import EXPORTS_SUBDIRS\n",
    "BY_BAG_FOLDER = EXPORTS_FOLDER / EXPORTS_SUBDIRS.get('by_bag', 'by_bag')\n",
    "\n",
    "# Load all distance data for the target bag\n",
    "raw_data, distance_measurements = sda.load_all_distance_data_for_bag(TARGET_BAG, BY_BAG_FOLDER)\n",
    "\n",
    "# Display what we loaded\n",
    "print(f\"\\n RAW DATA LOADED:\")\n",
    "for key, data in raw_data.items():\n",
    "    if data is not None:\n",
    "        print(f\"    {key}: {len(data)} records\")\n",
    "    else:\n",
    "        print(f\"    {key}: None\")\n",
    "\n",
    "print(f\"\\n DISTANCE MEASUREMENTS LOADED:\")\n",
    "for key, info in distance_measurements.items():\n",
    "    data_len = len(info['data'])\n",
    "    print(f\"    {key}: {data_len} records - {info['description']}\")"
   ]
  },
  {
   "cell_type": "code",
   "execution_count": 15,
   "id": "0375375e",
   "metadata": {},
   "outputs": [
    {
     "name": "stdout",
     "output_type": "stream",
     "text": [
      "\n",
      "SONAR vs DVL COMPARISON STATISTICS:\n",
      "==================================================\n",
      "Sonar mean distance: 1.300 m\n",
      "DVL mean distance:   1.121 m\n",
      "Scale ratio (Sonar/DVL): 1.160x\n",
      "Sonar mean pitch:    -9.33°\n",
      "DVL mean pitch:      -1.81°\n",
      "Pitch difference:    -7.52°\n",
      "Sonar duration: 57.4s (944 frames)\n",
      "DVL duration:   57.4s (497 records)\n"
     ]
    },
    {
     "data": {
      "application/vnd.plotly.v1+json": {
       "config": {
        "plotlyServerURL": "https://plot.ly"
       },
       "data": [
        {
         "line": {
          "color": "red",
          "width": 3
         },
         "mode": "lines",
         "name": "Sonar Distance",
         "type": "scatter",
         "x": {
          "bdata": "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",
          "dtype": "f8"
         },
         "xaxis": "x",
         "y": {
          "bdata": "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",
          "dtype": "f8"
         },
         "yaxis": "y"
        },
        {
         "line": {
          "color": "blue",
          "width": 3
         },
         "mode": "lines",
         "name": "DVL Distance",
         "type": "scatter",
         "x": {
          "bdata": "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",
          "dtype": "f8"
         },
         "xaxis": "x",
         "y": {
          "bdata": "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",
          "dtype": "f8"
         },
         "yaxis": "y"
        },
        {
         "line": {
          "color": "orange",
          "width": 3
         },
         "mode": "lines",
         "name": "Sonar Pitch",
         "type": "scatter",
         "x": {
          "bdata": "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",
          "dtype": "f8"
         },
         "xaxis": "x2",
         "y": {
          "bdata": "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",
          "dtype": "f8"
         },
         "yaxis": "y2"
        },
        {
         "line": {
          "color": "green",
          "width": 3
         },
         "mode": "lines",
         "name": "DVL Pitch",
         "type": "scatter",
         "x": {
          "bdata": "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",
          "dtype": "f8"
         },
         "xaxis": "x2",
         "y": {
          "bdata": "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",
          "dtype": "f8"
         },
         "yaxis": "y2"
        }
       ],
       "layout": {
        "annotations": [
         {
          "font": {
           "size": 16
          },
          "showarrow": false,
          "text": "Distance Comparison",
          "x": 0.5,
          "xanchor": "center",
          "xref": "paper",
          "y": 1,
          "yanchor": "bottom",
          "yref": "paper"
         },
         {
          "font": {
           "size": 16
          },
          "showarrow": false,
          "text": "Pitch Comparison",
          "x": 0.5,
          "xanchor": "center",
          "xref": "paper",
          "y": 0.375,
          "yanchor": "bottom",
          "yref": "paper"
         }
        ],
        "height": 800,
        "hovermode": "x unified",
        "template": {
         "data": {
          "bar": [
           {
            "error_x": {
             "color": "#2a3f5f"
            },
            "error_y": {
             "color": "#2a3f5f"
            },
            "marker": {
             "line": {
              "color": "#E5ECF6",
              "width": 0.5
             },
             "pattern": {
              "fillmode": "overlay",
              "size": 10,
              "solidity": 0.2
             }
            },
            "type": "bar"
           }
          ],
          "barpolar": [
           {
            "marker": {
             "line": {
              "color": "#E5ECF6",
              "width": 0.5
             },
             "pattern": {
              "fillmode": "overlay",
              "size": 10,
              "solidity": 0.2
             }
            },
            "type": "barpolar"
           }
          ],
          "carpet": [
           {
            "aaxis": {
             "endlinecolor": "#2a3f5f",
             "gridcolor": "white",
             "linecolor": "white",
             "minorgridcolor": "white",
             "startlinecolor": "#2a3f5f"
            },
            "baxis": {
             "endlinecolor": "#2a3f5f",
             "gridcolor": "white",
             "linecolor": "white",
             "minorgridcolor": "white",
             "startlinecolor": "#2a3f5f"
            },
            "type": "carpet"
           }
          ],
          "choropleth": [
           {
            "colorbar": {
             "outlinewidth": 0,
             "ticks": ""
            },
            "type": "choropleth"
           }
          ],
          "contour": [
           {
            "colorbar": {
             "outlinewidth": 0,
             "ticks": ""
            },
            "colorscale": [
             [
              0,
              "#0d0887"
             ],
             [
              0.1111111111111111,
              "#46039f"
             ],
             [
              0.2222222222222222,
              "#7201a8"
             ],
             [
              0.3333333333333333,
              "#9c179e"
             ],
             [
              0.4444444444444444,
              "#bd3786"
             ],
             [
              0.5555555555555556,
              "#d8576b"
             ],
             [
              0.6666666666666666,
              "#ed7953"
             ],
             [
              0.7777777777777778,
              "#fb9f3a"
             ],
             [
              0.8888888888888888,
              "#fdca26"
             ],
             [
              1,
              "#f0f921"
             ]
            ],
            "type": "contour"
           }
          ],
          "contourcarpet": [
           {
            "colorbar": {
             "outlinewidth": 0,
             "ticks": ""
            },
            "type": "contourcarpet"
           }
          ],
          "heatmap": [
           {
            "colorbar": {
             "outlinewidth": 0,
             "ticks": ""
            },
            "colorscale": [
             [
              0,
              "#0d0887"
             ],
             [
              0.1111111111111111,
              "#46039f"
             ],
             [
              0.2222222222222222,
              "#7201a8"
             ],
             [
              0.3333333333333333,
              "#9c179e"
             ],
             [
              0.4444444444444444,
              "#bd3786"
             ],
             [
              0.5555555555555556,
              "#d8576b"
             ],
             [
              0.6666666666666666,
              "#ed7953"
             ],
             [
              0.7777777777777778,
              "#fb9f3a"
             ],
             [
              0.8888888888888888,
              "#fdca26"
             ],
             [
              1,
              "#f0f921"
             ]
            ],
            "type": "heatmap"
           }
          ],
          "histogram": [
           {
            "marker": {
             "pattern": {
              "fillmode": "overlay",
              "size": 10,
              "solidity": 0.2
             }
            },
            "type": "histogram"
           }
          ],
          "histogram2d": [
           {
            "colorbar": {
             "outlinewidth": 0,
             "ticks": ""
            },
            "colorscale": [
             [
              0,
              "#0d0887"
             ],
             [
              0.1111111111111111,
              "#46039f"
             ],
             [
              0.2222222222222222,
              "#7201a8"
             ],
             [
              0.3333333333333333,
              "#9c179e"
             ],
             [
              0.4444444444444444,
              "#bd3786"
             ],
             [
              0.5555555555555556,
              "#d8576b"
             ],
             [
              0.6666666666666666,
              "#ed7953"
             ],
             [
              0.7777777777777778,
              "#fb9f3a"
             ],
             [
              0.8888888888888888,
              "#fdca26"
             ],
             [
              1,
              "#f0f921"
             ]
            ],
            "type": "histogram2d"
           }
          ],
          "histogram2dcontour": [
           {
            "colorbar": {
             "outlinewidth": 0,
             "ticks": ""
            },
            "colorscale": [
             [
              0,
              "#0d0887"
             ],
             [
              0.1111111111111111,
              "#46039f"
             ],
             [
              0.2222222222222222,
              "#7201a8"
             ],
             [
              0.3333333333333333,
              "#9c179e"
             ],
             [
              0.4444444444444444,
              "#bd3786"
             ],
             [
              0.5555555555555556,
              "#d8576b"
             ],
             [
              0.6666666666666666,
              "#ed7953"
             ],
             [
              0.7777777777777778,
              "#fb9f3a"
             ],
             [
              0.8888888888888888,
              "#fdca26"
             ],
             [
              1,
              "#f0f921"
             ]
            ],
            "type": "histogram2dcontour"
           }
          ],
          "mesh3d": [
           {
            "colorbar": {
             "outlinewidth": 0,
             "ticks": ""
            },
            "type": "mesh3d"
           }
          ],
          "parcoords": [
           {
            "line": {
             "colorbar": {
              "outlinewidth": 0,
              "ticks": ""
             }
            },
            "type": "parcoords"
           }
          ],
          "pie": [
           {
            "automargin": true,
            "type": "pie"
           }
          ],
          "scatter": [
           {
            "fillpattern": {
             "fillmode": "overlay",
             "size": 10,
             "solidity": 0.2
            },
            "type": "scatter"
           }
          ],
          "scatter3d": [
           {
            "line": {
             "colorbar": {
              "outlinewidth": 0,
              "ticks": ""
             }
            },
            "marker": {
             "colorbar": {
              "outlinewidth": 0,
              "ticks": ""
             }
            },
            "type": "scatter3d"
           }
          ],
          "scattercarpet": [
           {
            "marker": {
             "colorbar": {
              "outlinewidth": 0,
              "ticks": ""
             }
            },
            "type": "scattercarpet"
           }
          ],
          "scattergeo": [
           {
            "marker": {
             "colorbar": {
              "outlinewidth": 0,
              "ticks": ""
             }
            },
            "type": "scattergeo"
           }
          ],
          "scattergl": [
           {
            "marker": {
             "colorbar": {
              "outlinewidth": 0,
              "ticks": ""
             }
            },
            "type": "scattergl"
           }
          ],
          "scattermap": [
           {
            "marker": {
             "colorbar": {
              "outlinewidth": 0,
              "ticks": ""
             }
            },
            "type": "scattermap"
           }
          ],
          "scattermapbox": [
           {
            "marker": {
             "colorbar": {
              "outlinewidth": 0,
              "ticks": ""
             }
            },
            "type": "scattermapbox"
           }
          ],
          "scatterpolar": [
           {
            "marker": {
             "colorbar": {
              "outlinewidth": 0,
              "ticks": ""
             }
            },
            "type": "scatterpolar"
           }
          ],
          "scatterpolargl": [
           {
            "marker": {
             "colorbar": {
              "outlinewidth": 0,
              "ticks": ""
             }
            },
            "type": "scatterpolargl"
           }
          ],
          "scatterternary": [
           {
            "marker": {
             "colorbar": {
              "outlinewidth": 0,
              "ticks": ""
             }
            },
            "type": "scatterternary"
           }
          ],
          "surface": [
           {
            "colorbar": {
             "outlinewidth": 0,
             "ticks": ""
            },
            "colorscale": [
             [
              0,
              "#0d0887"
             ],
             [
              0.1111111111111111,
              "#46039f"
             ],
             [
              0.2222222222222222,
              "#7201a8"
             ],
             [
              0.3333333333333333,
              "#9c179e"
             ],
             [
              0.4444444444444444,
              "#bd3786"
             ],
             [
              0.5555555555555556,
              "#d8576b"
             ],
             [
              0.6666666666666666,
              "#ed7953"
             ],
             [
              0.7777777777777778,
              "#fb9f3a"
             ],
             [
              0.8888888888888888,
              "#fdca26"
             ],
             [
              1,
              "#f0f921"
             ]
            ],
            "type": "surface"
           }
          ],
          "table": [
           {
            "cells": {
             "fill": {
              "color": "#EBF0F8"
             },
             "line": {
              "color": "white"
             }
            },
            "header": {
             "fill": {
              "color": "#C8D4E3"
             },
             "line": {
              "color": "white"
             }
            },
            "type": "table"
           }
          ]
         },
         "layout": {
          "annotationdefaults": {
           "arrowcolor": "#2a3f5f",
           "arrowhead": 0,
           "arrowwidth": 1
          },
          "autotypenumbers": "strict",
          "coloraxis": {
           "colorbar": {
            "outlinewidth": 0,
            "ticks": ""
           }
          },
          "colorscale": {
           "diverging": [
            [
             0,
             "#8e0152"
            ],
            [
             0.1,
             "#c51b7d"
            ],
            [
             0.2,
             "#de77ae"
            ],
            [
             0.3,
             "#f1b6da"
            ],
            [
             0.4,
             "#fde0ef"
            ],
            [
             0.5,
             "#f7f7f7"
            ],
            [
             0.6,
             "#e6f5d0"
            ],
            [
             0.7,
             "#b8e186"
            ],
            [
             0.8,
             "#7fbc41"
            ],
            [
             0.9,
             "#4d9221"
            ],
            [
             1,
             "#276419"
            ]
           ],
           "sequential": [
            [
             0,
             "#0d0887"
            ],
            [
             0.1111111111111111,
             "#46039f"
            ],
            [
             0.2222222222222222,
             "#7201a8"
            ],
            [
             0.3333333333333333,
             "#9c179e"
            ],
            [
             0.4444444444444444,
             "#bd3786"
            ],
            [
             0.5555555555555556,
             "#d8576b"
            ],
            [
             0.6666666666666666,
             "#ed7953"
            ],
            [
             0.7777777777777778,
             "#fb9f3a"
            ],
            [
             0.8888888888888888,
             "#fdca26"
            ],
            [
             1,
             "#f0f921"
            ]
           ],
           "sequentialminus": [
            [
             0,
             "#0d0887"
            ],
            [
             0.1111111111111111,
             "#46039f"
            ],
            [
             0.2222222222222222,
             "#7201a8"
            ],
            [
             0.3333333333333333,
             "#9c179e"
            ],
            [
             0.4444444444444444,
             "#bd3786"
            ],
            [
             0.5555555555555556,
             "#d8576b"
            ],
            [
             0.6666666666666666,
             "#ed7953"
            ],
            [
             0.7777777777777778,
             "#fb9f3a"
            ],
            [
             0.8888888888888888,
             "#fdca26"
            ],
            [
             1,
             "#f0f921"
            ]
           ]
          },
          "colorway": [
           "#636efa",
           "#EF553B",
           "#00cc96",
           "#ab63fa",
           "#FFA15A",
           "#19d3f3",
           "#FF6692",
           "#B6E880",
           "#FF97FF",
           "#FECB52"
          ],
          "font": {
           "color": "#2a3f5f"
          },
          "geo": {
           "bgcolor": "white",
           "lakecolor": "white",
           "landcolor": "#E5ECF6",
           "showlakes": true,
           "showland": true,
           "subunitcolor": "white"
          },
          "hoverlabel": {
           "align": "left"
          },
          "hovermode": "closest",
          "mapbox": {
           "style": "light"
          },
          "paper_bgcolor": "white",
          "plot_bgcolor": "#E5ECF6",
          "polar": {
           "angularaxis": {
            "gridcolor": "white",
            "linecolor": "white",
            "ticks": ""
           },
           "bgcolor": "#E5ECF6",
           "radialaxis": {
            "gridcolor": "white",
            "linecolor": "white",
            "ticks": ""
           }
          },
          "scene": {
           "xaxis": {
            "backgroundcolor": "#E5ECF6",
            "gridcolor": "white",
            "gridwidth": 2,
            "linecolor": "white",
            "showbackground": true,
            "ticks": "",
            "zerolinecolor": "white"
           },
           "yaxis": {
            "backgroundcolor": "#E5ECF6",
            "gridcolor": "white",
            "gridwidth": 2,
            "linecolor": "white",
            "showbackground": true,
            "ticks": "",
            "zerolinecolor": "white"
           },
           "zaxis": {
            "backgroundcolor": "#E5ECF6",
            "gridcolor": "white",
            "gridwidth": 2,
            "linecolor": "white",
            "showbackground": true,
            "ticks": "",
            "zerolinecolor": "white"
           }
          },
          "shapedefaults": {
           "line": {
            "color": "#2a3f5f"
           }
          },
          "ternary": {
           "aaxis": {
            "gridcolor": "white",
            "linecolor": "white",
            "ticks": ""
           },
           "baxis": {
            "gridcolor": "white",
            "linecolor": "white",
            "ticks": ""
           },
           "bgcolor": "#E5ECF6",
           "caxis": {
            "gridcolor": "white",
            "linecolor": "white",
            "ticks": ""
           }
          },
          "title": {
           "x": 0.05
          },
          "xaxis": {
           "automargin": true,
           "gridcolor": "white",
           "linecolor": "white",
           "ticks": "",
           "title": {
            "standoff": 15
           },
           "zerolinecolor": "white",
           "zerolinewidth": 2
          },
          "yaxis": {
           "automargin": true,
           "gridcolor": "white",
           "linecolor": "white",
           "ticks": "",
           "title": {
            "standoff": 15
           },
           "zerolinecolor": "white",
           "zerolinewidth": 2
          }
         }
        },
        "title": {
         "text": "Interactive Distance & Pitch Comparison: Sonar vs DVL"
        },
        "xaxis": {
         "anchor": "y",
         "domain": [
          0,
          1
         ],
         "showgrid": true,
         "title": {
          "text": "Time (seconds)"
         }
        },
        "xaxis2": {
         "anchor": "y2",
         "domain": [
          0,
          1
         ],
         "showgrid": true,
         "title": {
          "text": "Time (seconds)"
         }
        },
        "yaxis": {
         "anchor": "x",
         "domain": [
          0.625,
          1
         ],
         "showgrid": true,
         "title": {
          "text": "Distance (meters)"
         }
        },
        "yaxis2": {
         "anchor": "x2",
         "domain": [
          0,
          0.375
         ],
         "showgrid": true,
         "title": {
          "text": "Pitch (degrees)"
         }
        }
       }
      }
     },
     "metadata": {},
     "output_type": "display_data"
    }
   ],
   "source": [
    "fig, comparison_stats = iau.ComparisonEngine.compare_sonar_vs_dvl(net_analysis_results, raw_data, sonar_coverage_m=sonar_coverage_meters, sonar_image_size=image_shape[0], use_plotly=True)\n",
    "fig.show()"
   ]
  },
  {
   "cell_type": "code",
   "execution_count": 16,
   "id": "50f97352",
   "metadata": {},
   "outputs": [
    {
     "name": "stdout",
     "output_type": "stream",
     "text": [
      "GENERATING VIDEO WITH DUAL NET DISTANCE OVERLAYS\n",
      "============================================================\n",
      " Target Bag: 2024-08-20_17-02-00\n",
      " DVL Data: 497 records\n",
      " Sonar Analysis: 944 frames\n",
      " Auto-detect video: enabled (PNG frames + index.csv)\n",
      "⏱  Sync tolerance: 1.0s\n",
      "\n",
      "🔍 PRE-FLIGHT DATA CHECK:\n",
      "   Sonar frames: 944\n",
      "   Navigation records: 497\n",
      "   Camera frame directories: 1\n",
      "\n",
      "🕒 TIMESTAMP ANALYSIS:\n",
      "     - 2024-08-20_17-02-00_video__image_compressed_image_data_frames: 1510 PNG frames\n",
      "       Index columns: ['video', 'frame_number', 'timestamp_sec', 'file', 'extracted_count', 'ts_utc']\n",
      "       Camera time range: 2024-08-20 15:02:03.226644993+00:00 to 2024-08-20 15:03:09.358294337+00:00\n",
      "       Sample index data:\n",
      "                                               video  frame_number  \\\n",
      "0  2024-08-20_17-02-00_video__image_compressed_im...             0   \n",
      "1  2024-08-20_17-02-00_video__image_compressed_im...             2   \n",
      "2  2024-08-20_17-02-00_video__image_compressed_im...             4   \n",
      "\n",
      "   timestamp_sec                     file  extracted_count  \\\n",
      "0       0.000000  frame_000000_0.000s.png                1   \n",
      "1       0.087708  frame_000002_0.088s.png                2   \n",
      "2       0.175416  frame_000004_0.175s.png                3   \n",
      "\n",
      "                               ts_utc  \n",
      "0 2024-08-20 15:02:03.226644993+00:00  \n",
      "1 2024-08-20 15:02:03.314352750+00:00  \n",
      "2 2024-08-20 15:02:03.402060508+00:00  \n",
      "   ⚠️  No recognizable timestamp column in sonar data\n",
      "   Available columns: ['frame_index', 'timestamp', 'distance_pixels', 'angle_degrees', 'distance_meters', 'detection_success', 'tracking_status', 'area', 'aspect_ratio', 'solidity', 'extent', 'ellipse_elongation', 'straightness', 'rect', 'centroid_x', 'centroid_y']\n",
      "   Frame range: 1 to 1200 (stride=1)\n",
      "\n",
      "🎬 STARTING VIDEO GENERATION...\n",
      "OPTIMIZED SONAR VIDEO\n",
      "======================================================================\n",
      "Target Bag: 2024-08-20_17-02-00\n",
      "   Cone Size: 900x700\n",
      "   Range: 0.0-5.0m | FOV: 120.0°\n",
      "Auto-detecting video files for bag: 2024-08-20_17-02-00\n",
      "Found video frames: 2024-08-20_17-02-00_video__image_compressed_image_data_frames\n",
      "Using frames directory: /Volumes/LaCie/SOLAQUA/exports/frames/2024-08-20_17-02-00_video__image_compressed_image_data_frames\n",
      "Camera: enabled\n",
      "Net-line: enabled (dist tol=0.5s, pitch tol=2.0s)\n",
      "Sonar Analysis: enabled\n",
      "   Loading sonar data: sensor_sonoptix_echo_image__2024-08-20_17-02-00_video.csv\n",
      "Loaded 945 sonar frames in 38.09s\n",
      "Loaded 497 navigation records in 0.01s\n",
      "      Available: ['NetDistance', 'NetPitch', 'timestamp']\n",
      "Loaded 755 camera index entries\n",
      "   Frames: 1..944 (step 1) => 944\n",
      "   Natural FPS: 16.2\n",
      "Loaded 945 sonar frames in 38.09s\n",
      "Loaded 497 navigation records in 0.01s\n",
      "      Available: ['NetDistance', 'NetPitch', 'timestamp']\n",
      "Loaded 755 camera index entries\n",
      "   Frames: 1..944 (step 1) => 944\n",
      "   Natural FPS: 16.2\n",
      "\n",
      "🎉 DONE! Wrote 944 frames to /Volumes/LaCie/SOLAQUA/exports/videos/2024-08-20_17-02-00_optimized_sync_withcam_withsonar_20240820_170203_304299+0200.mp4 @ 16.16 FPS\n",
      "Metadata saved to: /Volumes/LaCie/SOLAQUA/exports/videos/2024-08-20_17-02-00_optimized_sync_withcam_withsonar_20240820_170203_304299+0200.mp4.meta.json\n",
      "\n",
      "✅ Video generated successfully!\n",
      " Output: None\n",
      "\n",
      "🎉 DONE! Wrote 944 frames to /Volumes/LaCie/SOLAQUA/exports/videos/2024-08-20_17-02-00_optimized_sync_withcam_withsonar_20240820_170203_304299+0200.mp4 @ 16.16 FPS\n",
      "Metadata saved to: /Volumes/LaCie/SOLAQUA/exports/videos/2024-08-20_17-02-00_optimized_sync_withcam_withsonar_20240820_170203_304299+0200.mp4.meta.json\n",
      "\n",
      "✅ Video generated successfully!\n",
      " Output: None\n"
     ]
    }
   ],
   "source": [
    "# Generate Video with Both DVL and Sonar Analysis Overlays (Improved Sync)\n",
    "# ==========================================================================\n",
    "import utils.sonar_and_foto_generation as sg\n",
    "\n",
    "# Enable automatic video detection with improved synchronization\n",
    "from utils.sonar_config import VIDEO_CONFIG\n",
    "VIDEO_CONFIG['enable_video_overlay'] = True  \n",
    "VIDEO_CONFIG['max_sync_tolerance_seconds'] = 1.0  # Tighter sync tolerance\n",
    "\n",
    "print(\"GENERATING VIDEO WITH DUAL NET DISTANCE OVERLAYS\")\n",
    "print(\"=\" * 60)\n",
    "print(f\" Target Bag: {TARGET_BAG}\")\n",
    "print(f\" DVL Data: {len(raw_data.get('navigation', []))} records\")\n",
    "print(f\" Sonar Analysis: {len(net_analysis_results)} frames\")\n",
    "print(f\" Auto-detect video: enabled (PNG frames + index.csv)\")\n",
    "print(f\"⏱  Sync tolerance: {VIDEO_CONFIG['max_sync_tolerance_seconds']}s\")\n",
    "\n",
    "# Pre-flight check: Verify data availability\n",
    "print(\"\\n🔍 PRE-FLIGHT DATA CHECK:\")\n",
    "print(f\"   Sonar frames: {len(net_analysis_results)}\")\n",
    "print(f\"   Navigation records: {len(raw_data.get('navigation', []))}\")\n",
    "\n",
    "# Check for camera frames and TIMESTAMPS\n",
    "frames_dir = EXPORTS_FOLDER / EXPORTS_SUBDIRS.get('frames', 'frames')\n",
    "camera_frame_dirs = list(frames_dir.glob(f\"*{TARGET_BAG}*\")) if frames_dir.exists() else []\n",
    "print(f\"   Camera frame directories: {len(camera_frame_dirs)}\")\n",
    "\n",
    "# TIMESTAMP DEBUGGING\n",
    "print(f\"\\n🕒 TIMESTAMP ANALYSIS:\")\n",
    "for cam_dir in camera_frame_dirs[:2]:  # Check first 2 directories\n",
    "    if cam_dir.is_dir():\n",
    "        frame_count = len(list(cam_dir.glob(\"*.png\")))\n",
    "        print(f\"     - {cam_dir.name}: {frame_count} PNG frames\")\n",
    "        \n",
    "        # Check if index.csv exists and examine timestamps\n",
    "        index_file = cam_dir / \"index.csv\"\n",
    "        if index_file.exists():\n",
    "            try:\n",
    "                import pandas as pd\n",
    "                cam_index = pd.read_csv(index_file)\n",
    "                print(f\"       Index columns: {list(cam_index.columns)}\")\n",
    "                \n",
    "                # Check for timestamp columns\n",
    "                if 'ts_utc' in cam_index.columns:\n",
    "                    cam_index['ts_utc'] = pd.to_datetime(cam_index['ts_utc'])\n",
    "                    print(f\"       Camera time range: {cam_index['ts_utc'].min()} to {cam_index['ts_utc'].max()}\")\n",
    "                elif 'timestamp_sec' in cam_index.columns:\n",
    "                    print(f\"       Relative timestamps: {cam_index['timestamp_sec'].min():.3f}s to {cam_index['timestamp_sec'].max():.3f}s\")\n",
    "                    print(f\"       ⚠️  No absolute timestamps found - this may cause sync issues\")\n",
    "                \n",
    "                print(f\"       Sample index data:\")\n",
    "                print(cam_index.head(3))\n",
    "                \n",
    "            except Exception as e:\n",
    "                print(f\"       ❌ Error reading index: {e}\")\n",
    "        else:\n",
    "            print(f\"       ❌ No index.csv found\")\n",
    "\n",
    "# Check sonar timestamps for comparison\n",
    "if 'net_analysis_results' in locals() and len(net_analysis_results) > 0:\n",
    "    if 'frame_timestamp' in net_analysis_results.columns:\n",
    "        sonar_ts = pd.to_datetime(net_analysis_results['frame_timestamp'])\n",
    "        print(f\"   Sonar time range: {sonar_ts.min()} to {sonar_ts.max()}\")\n",
    "    elif 'ts_utc' in net_analysis_results.columns:\n",
    "        sonar_ts = pd.to_datetime(net_analysis_results['ts_utc'])\n",
    "        print(f\"   Sonar time range: {sonar_ts.min()} to {sonar_ts.max()}\")\n",
    "    else:\n",
    "        print(f\"   ⚠️  No recognizable timestamp column in sonar data\")\n",
    "        print(f\"   Available columns: {list(net_analysis_results.columns)}\")\n",
    "\n",
    "# Reduced frame range for debugging\n",
    "debug_mode = False\n",
    "if debug_mode:\n",
    "    print(\"\\n🐛 DEBUG MODE: Processing smaller frame range\")\n",
    "    START_IDX = 1\n",
    "    END_IDX = 20  # Even smaller range for debugging\n",
    "    STRIDE = 1    # Don't skip frames to ensure continuity\n",
    "else:\n",
    "    START_IDX = 1\n",
    "    END_IDX = 1200\n",
    "    STRIDE = 1\n",
    "\n",
    "print(f\"   Frame range: {START_IDX} to {END_IDX} (stride={STRIDE})\")\n",
    "\n",
    "# Generate the video with both overlays and improved sync\n",
    "try:\n",
    "    print(\"\\n🎬 STARTING VIDEO GENERATION...\")\n",
    "    video_path = sg.export_optimized_sonar_video(\n",
    "        TARGET_BAG=TARGET_BAG,\n",
    "        EXPORTS_FOLDER=EXPORTS_FOLDER,\n",
    "        START_IDX=START_IDX,\n",
    "        END_IDX=END_IDX,  \n",
    "        STRIDE=STRIDE,    \n",
    "        AUTO_DETECT_VIDEO=True,       # Enable automatic video file detection\n",
    "        INCLUDE_NET=True,             # Enable DVL net distance overlay\n",
    "        SONAR_RESULTS=net_analysis_results,  # Enable sonar analysis overlay\n",
    "        NET_DISTANCE_TOLERANCE=0.5,\n",
    "        NET_PITCH_TOLERANCE=2.0,      # Increased from 0.3 to 2.0 seconds for better pitch sync\n",
    "    )\n",
    "\n",
    "    print(f\"\\n✅ Video generated successfully!\")\n",
    "    print(f\" Output: {video_path}\")\n",
    "    \n",
    "    if debug_mode:\n",
    "        print(f\"\\n🐛 Debug mode completed. To generate full video:\")\n",
    "        print(f\"   Set debug_mode = False and re-run this cell\")\n",
    "    \n",
    "except Exception as e:\n",
    "    print(f\"\\n❌ Error generating video: {e}\")\n",
    "    import traceback\n",
    "    traceback.print_exc()\n",
    "    \n",
    "    print(f\"\\n🛠  TROUBLESHOOTING:\")\n",
    "    print(f\"1. Timestamp synchronization issues:\")\n",
    "    print(f\"   - Camera frames may not have absolute timestamps\")\n",
    "    print(f\"   - Sonar and camera time ranges don't overlap\")\n",
    "    print(f\"   - Solution: Re-export frames with proper timestamp conversion\")\n",
    "    print(f\"2. Try sonar-only video first:\")\n",
    "    print(f\"   - Set AUTO_DETECT_VIDEO=False\")\n",
    "    print(f\"3. Re-export camera frames with correct timestamps:\")\n",
    "    print(f\"   - python scripts/solaqua_export.py --bag-stem {TARGET_BAG} --frames-from-mp4 --overwrite-frames\")"
   ]
  },
  {
   "cell_type": "code",
   "execution_count": 17,
   "id": "4716ab25",
   "metadata": {},
   "outputs": [],
   "source": [
    "# Extract frames for specific bag using utils function\n",
    "# from utils.net_position_analysis import extract_frames_from_specific_bag\n",
    "\n",
    "# SPECIFIC_BAG_STEM = \"2024-08-20_17-02-00\"\n",
    "\n",
    "# print(f\"Extracting frames for bag: {SPECIFIC_BAG_STEM}\")\n",
    "# success = extract_frames_from_specific_bag(\n",
    "#     target_bag=SPECIFIC_BAG_STEM,\n",
    "#     exports_folder=EXPORTS_FOLDER,\n",
    "#     frame_stride=2,\n",
    "#     limit_frames=1000\n",
    "# )\n",
    "\n",
    "# if success:\n",
    "#     print(\"Frame extraction completed successfully\")\n",
    "#     print(\"Camera frames now have proper timestamps for video synchronization\")\n",
    "# else:\n",
    "#     print(\"Frame extraction failed\")\n",
    "#     print(\"Check that MP4 files exist for the target bag\")"
   ]
  }
 ],
 "metadata": {
  "kernelspec": {
   "display_name": "venv",
   "language": "python",
   "name": "python3"
  },
  "language_info": {
   "codemirror_mode": {
    "name": "ipython",
    "version": 3
   },
   "file_extension": ".py",
   "mimetype": "text/x-python",
   "name": "python",
   "nbconvert_exporter": "python",
   "pygments_lexer": "ipython3",
   "version": "3.13.5"
  }
 },
 "nbformat": 4,
 "nbformat_minor": 5
}
