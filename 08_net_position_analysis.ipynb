{
 "cells": [
  {
   "cell_type": "markdown",
   "id": "e744f3f7",
   "metadata": {},
   "source": [
    "# Net Position Analysis: From Net-to-Robot to Robot\n",
    "\n",
    "This notebook analyzes the relationship between:\n",
    "1. **Net position from robot's perspective** (sonar-detected distance and angle)\n",
    "2. **Robot position relative to the net** (navigation-based positioning)\n",
    "\n",
    "The analysis transforms between these two coordinate systems using CSV data from net detection results and navigation data."
   ]
  },
  {
   "cell_type": "markdown",
   "id": "559aa4f4",
   "metadata": {},
   "source": [
    "## 1. Import Libraries and Utils\n",
    "\n",
    "Import necessary libraries and our custom net position analysis utilities."
   ]
  },
  {
   "cell_type": "code",
   "execution_count": 1,
   "id": "17d68d14",
   "metadata": {},
   "outputs": [
    {
     "name": "stdout",
     "output_type": "stream",
     "text": [
      "Libraries and utilities imported successfully!\n"
     ]
    }
   ],
   "source": [
    "# Import required libraries\n",
    "import pandas as pd\n",
    "import numpy as np\n",
    "import plotly.graph_objects as go\n",
    "from pathlib import Path\n",
    "\n",
    "# Import our custom net position analysis utilities\n",
    "from utils.net_position_analysis import (\n",
    "    load_net_analysis_results,\n",
    "    load_navigation_data,\n",
    "    calculate_robot_to_net_position,\n",
    "    analyze_net_position_consistency,\n",
    "    create_net_position_visualization,\n",
    "    run_net_position_analysis\n",
    ")\n",
    "\n",
    "# Import configuration\n",
    "from utils.sonar_config import EXPORTS_DIR_DEFAULT\n",
    "\n",
    "print(\"Libraries and utilities imported successfully!\")"
   ]
  },
  {
   "cell_type": "markdown",
   "id": "aed25a14",
   "metadata": {},
   "source": [
    "## 2. Load Net Results from CSV\n",
    "\n",
    "Load the net analysis results that contain sonar-detected distances and angles to the net from the robot's perspective."
   ]
  },
  {
   "cell_type": "code",
   "execution_count": 2,
   "id": "b99902a0",
   "metadata": {},
   "outputs": [
    {
     "name": "stdout",
     "output_type": "stream",
     "text": [
      "Target Bag: 2024-08-20_14-31-29\n",
      "Exports Folder: /Volumes/LaCie/SOLAQUA/exports\n",
      "Loading net analysis results: /Volumes/LaCie/SOLAQUA/exports/outputs/2024-08-20_14-31-29_data_cones_analysis_results.csv\n",
      "✓ Loaded 1059 net analysis frames\n",
      "Columns: ['frame_index', 'timestamp', 'distance_pixels', 'angle_degrees', 'distance_meters', 'detection_success', 'tracking_status', 'area', 'aspect_ratio', 'solidity', 'extent', 'ellipse_elongation', 'straightness', 'rect', 'centroid_x', 'centroid_y']\n",
      "Detection success rate: 100.0%\n"
     ]
    }
   ],
   "source": [
    "# Configuration - set your target bag name here\n",
    "TARGET_BAG = \"2024-08-20_14-31-29\"  # Replace with your actual bag name\n",
    "EXPORTS_FOLDER = Path(EXPORTS_DIR_DEFAULT)\n",
    "\n",
    "print(f\"Target Bag: {TARGET_BAG}\")\n",
    "print(f\"Exports Folder: {EXPORTS_FOLDER}\")\n",
    "\n",
    "# Load net analysis results (sonar detections from robot perspective)\n",
    "try:\n",
    "    net_df = load_net_analysis_results(TARGET_BAG, EXPORTS_FOLDER)\n",
    "    print(f\"✓ Loaded {len(net_df)} net analysis frames\")\n",
    "    print(f\"Columns: {list(net_df.columns)}\")\n",
    "    print(f\"Detection success rate: {net_df['detection_success'].mean()*100:.1f}%\")\n",
    "except FileNotFoundError as e:\n",
    "    print(f\"✗ Error loading net results: {e}\")\n",
    "    print(\"Make sure you have run the sonar analysis and saved results to CSV first.\")"
   ]
  },
  {
   "cell_type": "markdown",
   "id": "ca029513",
   "metadata": {},
   "source": [
    "## 2a. Load Sonar Analysis Results and Navigation Data\n",
    "\n",
    "Load the CSV files containing sonar distance/angle detections and DVL navigation data for comparison."
   ]
  },
  {
   "cell_type": "code",
   "execution_count": 3,
   "id": "cff26b88",
   "metadata": {},
   "outputs": [
    {
     "name": "stdout",
     "output_type": "stream",
     "text": [
      "Searching for sonar analysis results...\n",
      "✓ Found sonar analysis file: 2024-08-20_14-31-29_data_cones_analysis_results.csv\n",
      "✓ Loaded sonar analysis: 1059 frames\n",
      "Columns: ['frame_index', 'timestamp', 'distance_pixels', 'angle_degrees', 'distance_meters', 'detection_success', 'tracking_status', 'area', 'aspect_ratio', 'solidity', 'extent', 'ellipse_elongation', 'straightness', 'rect', 'centroid_x', 'centroid_y']\n",
      "Detection success rate: 100.0%\n"
     ]
    }
   ],
   "source": [
    "# Load sonar distance analysis results - search for matching files\n",
    "print(\"Searching for sonar analysis results...\")\n",
    "\n",
    "# Try multiple possible patterns\n",
    "outputs_dir = EXPORTS_FOLDER / \"outputs\"\n",
    "possible_patterns = [\n",
    "    f\"{TARGET_BAG}_analysis_results.csv\",           # Exact bag name\n",
    "    f\"*{TARGET_BAG}*analysis_results.csv\",          # Bag name anywhere in filename\n",
    "    f\"*{TARGET_BAG}*_cones_analysis_results.csv\",   # With _cones suffix\n",
    "]\n",
    "\n",
    "df_sonar = None\n",
    "sonar_csv_path = None\n",
    "\n",
    "for pattern in possible_patterns:\n",
    "    matching_files = list(outputs_dir.glob(pattern))\n",
    "    if matching_files:\n",
    "        sonar_csv_path = matching_files[0]  # Take first match\n",
    "        print(f\"✓ Found sonar analysis file: {sonar_csv_path.name}\")\n",
    "        break\n",
    "\n",
    "if sonar_csv_path and sonar_csv_path.exists():\n",
    "    df_sonar = pd.read_csv(sonar_csv_path)\n",
    "    print(f\"✓ Loaded sonar analysis: {len(df_sonar)} frames\")\n",
    "    print(f\"Columns: {list(df_sonar.columns)}\")\n",
    "    print(f\"Detection success rate: {df_sonar['detection_success'].mean()*100:.1f}%\")\n",
    "else:\n",
    "    print(f\"✗ No sonar analysis CSV found for bag '{TARGET_BAG}' in {outputs_dir}\")\n",
    "    print(\"\\nTROUBLESHOoting:\")\n",
    "    print(\"1. Check if you have run distance analysis first:\")\n",
    "    print(\"   - Run notebook 06: Image Analysis (with save_outputs=True)\")\n",
    "    print(\"   - OR run DistanceAnalysisEngine.analyze_npz_sequence(save_outputs=True)\")\n",
    "    print(\"\\n2. Check available analysis files:\")\n",
    "    \n",
    "    # List existing analysis files to help user\n",
    "    analysis_files = list(outputs_dir.glob(\"*analysis_results.csv\"))\n",
    "    if analysis_files:\n",
    "        print(\"   Available analysis files:\")\n",
    "        for f in analysis_files:\n",
    "            print(f\"     - {f.name}\")\n",
    "        print(f\"   Update TARGET_BAG to match one of these files\")\n",
    "    else:\n",
    "        print(\"   No analysis results files found - run distance analysis first\")\n",
    "    \n",
    "    df_sonar = None"
   ]
  },
  {
   "cell_type": "code",
   "execution_count": 4,
   "id": "9b0bee00",
   "metadata": {},
   "outputs": [
    {
     "name": "stdout",
     "output_type": "stream",
     "text": [
      "Loading DVL data using video generation method...\n",
      "✓ Found navigation file: navigation_plane_approximation__2024-08-20_14-31-29_data.csv\n",
      "✓ Loaded navigation data: 559 records\n",
      "Columns: ['t', 't_header', 't_bag', 't_src', 'bag', 'bag_file', 'topic', 'NormalDVL', 'Altitude', 'NetDistance', 'NetHeading', 'NetPitch', 'NetLock', 'NetVelocity_u', 'NetVelocity_v', 'NetVelocity_w', '__msgtype__', 't0', 't_rel', 'ts_utc', 'ts_oslo', 'timestamp']\n",
      "Key DVL columns available: ['NetDistance', 'NetPitch', 'timestamp']\n",
      "NetDistance: 559 valid measurements\n",
      "  Range: 0.230 to 3.150 m\n",
      "  Mean: 1.968 ± 0.346 m\n",
      "NetPitch: 559 valid measurements\n",
      "  Range: -37.7° to 47.2°\n",
      "  Mean: 5.1° ± 12.9°\n",
      "\n",
      "Sample navigation data (first 3 rows):\n",
      "                            timestamp  NetDistance  NetPitch\n",
      "0 2024-08-20 12:31:31.549001932+00:00         2.38   0.34494\n",
      "1 2024-08-20 12:31:31.751519442+00:00         2.37   0.34790\n",
      "2 2024-08-20 12:31:31.936527729+00:00         2.40   0.34084\n"
     ]
    }
   ],
   "source": [
    "# Load navigation data (DVL) - EXACT same method as video generation\n",
    "print(\"Loading DVL data using video generation method...\")\n",
    "\n",
    "# Use the same file pattern as the video generation code\n",
    "nav_file = EXPORTS_FOLDER / \"by_bag\" / f\"navigation_plane_approximation__{TARGET_BAG}_data.csv\"\n",
    "\n",
    "if nav_file.exists():\n",
    "    print(f\"✓ Found navigation file: {nav_file.name}\")\n",
    "    df_nav = pd.read_csv(nav_file)\n",
    "    \n",
    "    # Apply same transformations as video generation code\n",
    "    df_nav[\"timestamp\"] = pd.to_datetime(df_nav[\"ts_utc\"])\n",
    "    df_nav = df_nav.sort_values(\"timestamp\")\n",
    "    \n",
    "    print(f\"✓ Loaded navigation data: {len(df_nav)} records\")\n",
    "    print(f\"Columns: {list(df_nav.columns)}\")\n",
    "    \n",
    "    # Check for the key columns that video generation uses\n",
    "    key_columns = [c for c in [\"NetDistance\", \"NetPitch\", \"timestamp\"] if c in df_nav.columns]\n",
    "    print(f\"Key DVL columns available: {key_columns}\")\n",
    "    \n",
    "    # Display sample data focusing on the columns used by video generation\n",
    "    if 'NetDistance' in df_nav.columns:\n",
    "        valid_distances = df_nav['NetDistance'].dropna()\n",
    "        print(f\"NetDistance: {len(valid_distances)} valid measurements\")\n",
    "        print(f\"  Range: {valid_distances.min():.3f} to {valid_distances.max():.3f} m\")\n",
    "        print(f\"  Mean: {valid_distances.mean():.3f} ± {valid_distances.std():.3f} m\")\n",
    "    \n",
    "    if 'NetPitch' in df_nav.columns:\n",
    "        valid_pitch = df_nav['NetPitch'].dropna()\n",
    "        print(f\"NetPitch: {len(valid_pitch)} valid measurements\")\n",
    "        print(f\"  Range: {np.degrees(valid_pitch.min()):.1f}° to {np.degrees(valid_pitch.max()):.1f}°\")\n",
    "        print(f\"  Mean: {np.degrees(valid_pitch.mean()):.1f}° ± {np.degrees(valid_pitch.std()):.1f}°\")\n",
    "    \n",
    "    print(f\"\\nSample navigation data (first 3 rows):\")\n",
    "    display_cols = ['timestamp', 'NetDistance', 'NetPitch']\n",
    "    available_cols = [c for c in display_cols if c in df_nav.columns]\n",
    "    print(df_nav[available_cols].head(3))\n",
    "    \n",
    "else:\n",
    "    print(f\"✗ Navigation file not found: {nav_file}\")\n",
    "    \n",
    "    # Try the alternative loading method as fallback\n",
    "    print(\"Trying alternative loading method...\")\n",
    "    try:\n",
    "        import utils.net_distance_analysis as sda\n",
    "        BY_BAG_FOLDER = EXPORTS_FOLDER / \"by_bag\"\n",
    "        raw_data, _ = sda.load_all_distance_data_for_bag(TARGET_BAG, BY_BAG_FOLDER)\n",
    "        \n",
    "        if raw_data and 'navigation' in raw_data and raw_data['navigation'] is not None:\n",
    "            df_nav = raw_data['navigation'].copy()\n",
    "            df_nav['timestamp'] = pd.to_datetime(df_nav['timestamp'], errors='coerce')\n",
    "            print(f\"✓ Loaded via fallback method: {len(df_nav)} records\")\n",
    "        else:\n",
    "            df_nav = None\n",
    "            print(\"✗ No navigation data found via fallback method\")\n",
    "    except Exception as e:\n",
    "        print(f\"✗ Fallback loading failed: {e}\")\n",
    "        df_nav = None"
   ]
  },
  {
   "cell_type": "code",
   "execution_count": 5,
   "id": "5b0818dc",
   "metadata": {},
   "outputs": [
    {
     "name": "stdout",
     "output_type": "stream",
     "text": [
      "✓ Both datasets loaded successfully\n",
      "Sonar: 1059 frames, 1059 successful\n",
      "Navigation: 559 records\n",
      "✓ Set net_df for compatibility\n"
     ]
    }
   ],
   "source": [
    "# Verify both datasets are loaded before comparison\n",
    "if df_sonar is not None and df_nav is not None:\n",
    "    print(\"✓ Both datasets loaded successfully\")\n",
    "    print(f\"Sonar: {len(df_sonar)} frames, {df_sonar['detection_success'].sum()} successful\")\n",
    "    print(f\"Navigation: {len(df_nav)} records\")\n",
    "    \n",
    "    # Set net_df to df_sonar for compatibility with existing code\n",
    "    net_df = df_sonar.copy()\n",
    "    print(f\"✓ Set net_df for compatibility\")\n",
    "else:\n",
    "    print(\"✗ Cannot proceed - missing sonar or navigation data\")\n",
    "    net_df = None"
   ]
  },
  {
   "cell_type": "code",
   "execution_count": 6,
   "id": "36b17d90",
   "metadata": {},
   "outputs": [
    {
     "name": "stdout",
     "output_type": "stream",
     "text": [
      "Calculating robot-to-net positions...\n",
      "Timestamp range - Sonar: 2024-08-20 12:31:31.621807575 to 2024-08-20 12:32:39.331712246\n",
      "Timestamp range - Nav:   2024-08-20 12:31:31.549001932 to 2024-08-20 12:32:38.556199074\n",
      "Merged 1059 records from 1059 sonar and 559 nav records\n",
      "✓ Generated 1059 position calculations\n",
      "Successful detections: 1059\n",
      "\n",
      "Sample combined data:\n",
      "                      timestamp  frame_index  detection_success  \\\n",
      "0 2024-08-20 12:31:31.621807575            1               True   \n",
      "1 2024-08-20 12:31:31.681648731            2               True   \n",
      "2 2024-08-20 12:31:31.742511034            3               True   \n",
      "3 2024-08-20 12:31:31.818883181            4               True   \n",
      "4 2024-08-20 12:31:31.874155045            5               True   \n",
      "\n",
      "   sonar_distance_m  sonar_angle_deg  robot_x  robot_y  robot_heading  \\\n",
      "0          2.387373       209.268875      0.0      0.0        0.52279   \n",
      "1          2.390208       209.701591      0.0      0.0        0.51002   \n",
      "2          2.355667       208.376633      0.0      0.0        0.51002   \n",
      "3          2.346505       208.530899      0.0      0.0        0.51002   \n",
      "4          2.349601       209.089966      0.0      0.0        0.48688   \n",
      "\n",
      "   net_x_world  net_y_world  sonar_angle_world  \n",
      "0    -2.071852    -1.186161         209.791665  \n",
      "1    -2.065553    -1.202741         210.211612  \n",
      "2    -2.062568    -1.137972         208.886653  \n",
      "3    -2.051487    -1.139074         209.040919  \n",
      "4    -2.043435    -1.159741         209.576846  \n",
      "\n",
      "Position Summary:\n",
      "Mean sonar distance: 2.04 m\n",
      "Mean sonar angle: 190.04°\n",
      "Net position range - X: -2.94 to -1.38 m\n",
      "Net position range - Y: -2.45 to 1.00 m\n",
      "✓ Generated 1059 position calculations\n",
      "Successful detections: 1059\n",
      "\n",
      "Sample combined data:\n",
      "                      timestamp  frame_index  detection_success  \\\n",
      "0 2024-08-20 12:31:31.621807575            1               True   \n",
      "1 2024-08-20 12:31:31.681648731            2               True   \n",
      "2 2024-08-20 12:31:31.742511034            3               True   \n",
      "3 2024-08-20 12:31:31.818883181            4               True   \n",
      "4 2024-08-20 12:31:31.874155045            5               True   \n",
      "\n",
      "   sonar_distance_m  sonar_angle_deg  robot_x  robot_y  robot_heading  \\\n",
      "0          2.387373       209.268875      0.0      0.0        0.52279   \n",
      "1          2.390208       209.701591      0.0      0.0        0.51002   \n",
      "2          2.355667       208.376633      0.0      0.0        0.51002   \n",
      "3          2.346505       208.530899      0.0      0.0        0.51002   \n",
      "4          2.349601       209.089966      0.0      0.0        0.48688   \n",
      "\n",
      "   net_x_world  net_y_world  sonar_angle_world  \n",
      "0    -2.071852    -1.186161         209.791665  \n",
      "1    -2.065553    -1.202741         210.211612  \n",
      "2    -2.062568    -1.137972         208.886653  \n",
      "3    -2.051487    -1.139074         209.040919  \n",
      "4    -2.043435    -1.159741         209.576846  \n",
      "\n",
      "Position Summary:\n",
      "Mean sonar distance: 2.04 m\n",
      "Mean sonar angle: 190.04°\n",
      "Net position range - X: -2.94 to -1.38 m\n",
      "Net position range - Y: -2.45 to 1.00 m\n"
     ]
    }
   ],
   "source": [
    "# Calculate robot-to-net positions (transform sonar detections to world coordinates)\n",
    "if net_df is not None and df_nav is not None:\n",
    "    print(\"Calculating robot-to-net positions...\")\n",
    "    combined_df = calculate_robot_to_net_position(net_df, df_nav)\n",
    "\n",
    "    print(f\"✓ Generated {len(combined_df)} position calculations\")\n",
    "    print(f\"Successful detections: {combined_df['detection_success'].sum()}\")\n",
    "\n",
    "    # Show sample of combined data\n",
    "    print(\"\\nSample combined data:\")\n",
    "    print(combined_df.head())\n",
    "\n",
    "    # Summary statistics\n",
    "    print(\"\\nPosition Summary:\")\n",
    "    print(f\"Mean sonar distance: {combined_df['sonar_distance_m'].mean():.2f} m\")\n",
    "    print(f\"Mean sonar angle: {combined_df['sonar_angle_deg'].mean():.2f}°\")\n",
    "    print(f\"Net position range - X: {combined_df['net_x_world'].min():.2f} to {combined_df['net_x_world'].max():.2f} m\")\n",
    "    print(f\"Net position range - Y: {combined_df['net_y_world'].min():.2f} to {combined_df['net_y_world'].max():.2f} m\")\n",
    "else:\n",
    "    print(\"✗ Cannot proceed - missing data\")\n",
    "    combined_df = None"
   ]
  },
  {
   "cell_type": "markdown",
   "id": "0ca0c4a3",
   "metadata": {},
   "source": [
    "## 4. Analyze Position Consistency\n",
    "\n",
    "Analyze the consistency of net position estimates and calculate statistics."
   ]
  },
  {
   "cell_type": "code",
   "execution_count": 7,
   "id": "c85c249b",
   "metadata": {},
   "outputs": [
    {
     "name": "stdout",
     "output_type": "stream",
     "text": [
      "=== POSITION CONSISTENCY ANALYSIS ===\n",
      "total_frames: 1059\n",
      "successful_detections: 1059\n",
      "detection_rate: 100.000\n",
      "net_centroid_x: -1.931\n",
      "net_centroid_y: -0.352\n",
      "position_std_m: 0.389\n",
      "position_95th_percentile_m: 1.232\n",
      "sonar_distance_mean: 2.037\n",
      "sonar_distance_std: 0.327\n",
      "sonar_angle_std: 15.259\n",
      "\n",
      "Detailed analysis of 1059 successful detections:\n",
      "95th percentile position error: 1.232 m\n",
      "Maximum position error: 2.128 m\n",
      "\n",
      "Detailed analysis of 1059 successful detections:\n",
      "95th percentile position error: 1.232 m\n",
      "Maximum position error: 2.128 m\n"
     ]
    }
   ],
   "source": [
    "# Analyze consistency of net position estimates\n",
    "consistency_stats = analyze_net_position_consistency(combined_df)\n",
    "\n",
    "print(\"=== POSITION CONSISTENCY ANALYSIS ===\")\n",
    "for key, value in consistency_stats.items():\n",
    "    if isinstance(value, float):\n",
    "        print(f\"{key}: {value:.3f}\")\n",
    "    else:\n",
    "        print(f\"{key}: {value}\")\n",
    "\n",
    "# Filter to successful detections for detailed analysis\n",
    "success_df = combined_df[combined_df['detection_success']].copy()\n",
    "print(f\"\\nDetailed analysis of {len(success_df)} successful detections:\")\n",
    "\n",
    "if len(success_df) > 0:\n",
    "    # Calculate position variability\n",
    "    position_variability = np.sqrt(\n",
    "        (success_df['net_x_world'] - consistency_stats['net_centroid_x'])**2 +\n",
    "        (success_df['net_y_world'] - consistency_stats['net_centroid_y'])**2\n",
    "    )\n",
    "\n",
    "    print(f\"95th percentile position error: {np.percentile(position_variability, 95):.3f} m\")\n",
    "    print(f\"Maximum position error: {position_variability.max():.3f} m\")"
   ]
  },
  {
   "cell_type": "markdown",
   "id": "23a51669",
   "metadata": {},
   "source": [
    "## 5. Visualize Net Position Over Time\n",
    "\n",
    "Create focused plots showing how the estimated net position changes over time in X and Y coordinates separately."
   ]
  },
  {
   "cell_type": "code",
   "execution_count": 8,
   "id": "c1c0a6e3",
   "metadata": {},
   "outputs": [
    {
     "data": {
      "application/vnd.plotly.v1+json": {
       "config": {
        "plotlyServerURL": "https://plot.ly"
       },
       "data": [
        {
         "line": {
          "color": "blue",
          "width": 2
         },
         "marker": {
          "color": "blue",
          "size": 4
         },
         "mode": "lines+markers",
         "name": "Net X Position",
         "showlegend": false,
         "type": "scatter",
         "x": [
          "2024-08-20T12:31:31.621807575",
          "2024-08-20T12:31:31.681648731",
          "2024-08-20T12:31:31.742511034",
          "2024-08-20T12:31:31.818883181",
          "2024-08-20T12:31:31.874155045",
          "2024-08-20T12:31:31.937494755",
          "2024-08-20T12:31:31.999329090",
          "2024-08-20T12:31:32.063158035",
          "2024-08-20T12:31:32.130053520",
          "2024-08-20T12:31:32.191398144",
          "2024-08-20T12:31:32.254230738",
          "2024-08-20T12:31:32.318058729",
          "2024-08-20T12:31:32.395849943",
          "2024-08-20T12:31:32.445717096",
          "2024-08-20T12:31:32.511543512",
          "2024-08-20T12:31:32.576503515",
          "2024-08-20T12:31:32.637341022",
          "2024-08-20T12:31:32.702203035",
          "2024-08-20T12:31:32.768987656",
          "2024-08-20T12:31:32.829861403",
          "2024-08-20T12:31:32.894687653",
          "2024-08-20T12:31:32.962601185",
          "2024-08-20T12:31:33.025435448",
          "2024-08-20T12:31:33.088264227",
          "2024-08-20T12:31:33.151147127",
          "2024-08-20T12:31:33.218916655",
          "2024-08-20T12:31:33.280750036",
          "2024-08-20T12:31:33.342585087",
          "2024-08-20T12:31:33.407411814",
          "2024-08-20T12:31:33.484754801",
          "2024-08-20T12:31:33.533624887",
          "2024-08-20T12:31:33.610753059",
          "2024-08-20T12:31:33.671589851",
          "2024-08-20T12:31:33.730820179",
          "2024-08-20T12:31:33.790660143",
          "2024-08-20T12:31:33.854523897",
          "2024-08-20T12:31:33.919317245",
          "2024-08-20T12:31:33.984568357",
          "2024-08-20T12:31:34.048381805",
          "2024-08-20T12:31:34.117199183",
          "2024-08-20T12:31:34.183008671",
          "2024-08-20T12:31:34.237861395",
          "2024-08-20T12:31:34.303685427",
          "2024-08-20T12:31:34.367515802",
          "2024-08-20T12:31:34.431509018",
          "2024-08-20T12:31:34.508416414",
          "2024-08-20T12:31:34.565290689",
          "2024-08-20T12:31:34.624107361",
          "2024-08-20T12:31:34.686995983",
          "2024-08-20T12:31:34.749772310",
          "2024-08-20T12:31:34.822613001",
          "2024-08-20T12:31:34.882473946",
          "2024-08-20T12:31:34.943256378",
          "2024-08-20T12:31:35.006085634",
          "2024-08-20T12:31:35.075951576",
          "2024-08-20T12:31:35.139728308",
          "2024-08-20T12:31:35.197573662",
          "2024-08-20T12:31:35.264425278",
          "2024-08-20T12:31:35.328751326",
          "2024-08-20T12:31:35.404547215",
          "2024-08-20T12:31:35.454563379",
          "2024-08-20T12:31:35.522747992",
          "2024-08-20T12:31:35.597547531",
          "2024-08-20T12:31:35.666362762",
          "2024-08-20T12:31:35.716230869",
          "2024-08-20T12:31:35.779061317",
          "2024-08-20T12:31:35.839905977",
          "2024-08-20T12:31:35.902730942",
          "2024-08-20T12:31:35.968554974",
          "2024-08-20T12:31:36.034378290",
          "2024-08-20T12:31:36.146079779",
          "2024-08-20T12:31:36.202927351",
          "2024-08-20T12:31:36.253791808",
          "2024-08-20T12:31:36.310640812",
          "2024-08-20T12:31:36.362536430",
          "2024-08-20T12:31:36.415360451",
          "2024-08-20T12:31:36.612915516",
          "2024-08-20T12:31:36.629870653",
          "2024-08-20T12:31:36.686092138",
          "2024-08-20T12:31:36.731478691",
          "2024-08-20T12:31:36.792353392",
          "2024-08-20T12:31:36.835259199",
          "2024-08-20T12:31:36.882076502",
          "2024-08-20T12:31:36.930180311",
          "2024-08-20T12:31:36.995010138",
          "2024-08-20T12:31:37.057901382",
          "2024-08-20T12:31:37.120796442",
          "2024-08-20T12:31:37.190546751",
          "2024-08-20T12:31:37.245904446",
          "2024-08-20T12:31:37.310695887",
          "2024-08-20T12:31:37.375525713",
          "2024-08-20T12:31:37.443047285",
          "2024-08-20T12:31:37.501889229",
          "2024-08-20T12:31:37.570401907",
          "2024-08-20T12:31:37.634161472",
          "2024-08-20T12:31:37.698097229",
          "2024-08-20T12:31:37.760633230",
          "2024-08-20T12:31:37.822077274",
          "2024-08-20T12:31:37.890928745",
          "2024-08-20T12:31:37.950802088",
          "2024-08-20T12:31:38.016170025",
          "2024-08-20T12:31:38.079568386",
          "2024-08-20T12:31:38.144387484",
          "2024-08-20T12:31:38.206281900",
          "2024-08-20T12:31:38.272046804",
          "2024-08-20T12:31:38.335875273",
          "2024-08-20T12:31:38.399709225",
          "2024-08-20T12:31:38.464562416",
          "2024-08-20T12:31:38.526404619",
          "2024-08-20T12:31:38.595264912",
          "2024-08-20T12:31:38.654108047",
          "2024-08-20T12:31:38.719931841",
          "2024-08-20T12:31:38.783764362",
          "2024-08-20T12:31:38.857566357",
          "2024-08-20T12:31:38.911419630",
          "2024-08-20T12:31:38.976246357",
          "2024-08-20T12:31:39.042104006",
          "2024-08-20T12:31:39.101980925",
          "2024-08-20T12:31:39.166769743",
          "2024-08-20T12:31:39.232593060",
          "2024-08-20T12:31:39.297420025",
          "2024-08-20T12:31:39.361249447",
          "2024-08-20T12:31:39.423182011",
          "2024-08-20T12:31:39.490002155",
          "2024-08-20T12:31:39.549880981",
          "2024-08-20T12:31:39.614220381",
          "2024-08-20T12:31:39.680010796",
          "2024-08-20T12:31:39.748333454",
          "2024-08-20T12:31:39.812162876",
          "2024-08-20T12:31:39.877536774",
          "2024-08-20T12:31:40.073243380",
          "2024-08-20T12:31:40.086207151",
          "2024-08-20T12:31:40.148041010",
          "2024-08-20T12:31:40.191923618",
          "2024-08-20T12:31:40.237802505",
          "2024-08-20T12:31:40.300632715",
          "2024-08-20T12:31:40.345512867",
          "2024-08-20T12:31:40.391391993",
          "2024-08-20T12:31:40.451229811",
          "2024-08-20T12:31:40.517088412",
          "2024-08-20T12:31:40.581882000",
          "2024-08-20T12:31:40.639754295",
          "2024-08-20T12:31:40.703556538",
          "2024-08-20T12:31:40.769875050",
          "2024-08-20T12:31:40.833705902",
          "2024-08-20T12:31:40.910538912",
          "2024-08-20T12:31:40.974536657",
          "2024-08-20T12:31:41.029807091",
          "2024-08-20T12:31:41.085696697",
          "2024-08-20T12:31:41.153585434",
          "2024-08-20T12:31:41.224370241",
          "2024-08-20T12:31:41.289196968",
          "2024-08-20T12:31:41.349036694",
          "2024-08-20T12:31:41.405884266",
          "2024-08-20T12:31:41.472689152",
          "2024-08-20T12:31:41.540507078",
          "2024-08-20T12:31:41.601395369",
          "2024-08-20T12:31:41.668616772",
          "2024-08-20T12:31:41.727491379",
          "2024-08-20T12:31:41.791326761",
          "2024-08-20T12:31:41.859107018",
          "2024-08-20T12:31:41.926977396",
          "2024-08-20T12:31:41.982784510",
          "2024-08-20T12:31:42.058573484",
          "2024-08-20T12:31:42.111595631",
          "2024-08-20T12:31:42.179451942",
          "2024-08-20T12:31:42.239253283",
          "2024-08-20T12:31:42.305081129",
          "2024-08-20T12:31:42.369940758",
          "2024-08-20T12:31:42.492574692",
          "2024-08-20T12:31:42.547464371",
          "2024-08-20T12:31:42.607268095",
          "2024-08-20T12:31:42.656136990",
          "2024-08-20T12:31:42.714980364",
          "2024-08-20T12:31:42.763849974",
          "2024-08-20T12:31:42.821695328",
          "2024-08-20T12:31:42.879108429",
          "2024-08-20T12:31:42.943912029",
          "2024-08-20T12:31:43.009702921",
          "2024-08-20T12:31:43.071511984",
          "2024-08-20T12:31:43.133901834",
          "2024-08-20T12:31:43.203717709",
          "2024-08-20T12:31:43.261597157",
          "2024-08-20T12:31:43.326387167",
          "2024-08-20T12:31:43.394617081",
          "2024-08-20T12:31:43.464424372",
          "2024-08-20T12:31:43.518105029",
          "2024-08-20T12:31:43.583888292",
          "2024-08-20T12:31:43.646115065",
          "2024-08-20T12:31:43.712907553",
          "2024-08-20T12:31:43.773782730",
          "2024-08-20T12:31:43.840597391",
          "2024-08-20T12:31:43.906425953",
          "2024-08-20T12:31:43.967237234",
          "2024-08-20T12:31:44.030067205",
          "2024-08-20T12:31:44.103466988",
          "2024-08-20T12:31:44.162308455",
          "2024-08-20T12:31:44.223145008",
          "2024-08-20T12:31:44.291014671",
          "2024-08-20T12:31:44.349857092",
          "2024-08-20T12:31:44.415681124",
          "2024-08-20T12:31:44.479695797",
          "2024-08-20T12:31:44.542475224",
          "2024-08-20T12:31:44.613296270",
          "2024-08-20T12:31:44.672163725",
          "2024-08-20T12:31:44.734963417",
          "2024-08-20T12:31:44.800783157",
          "2024-08-20T12:31:44.875235319",
          "2024-08-20T12:31:44.934039116",
          "2024-08-20T12:31:44.991886139",
          "2024-08-20T12:31:45.054715633",
          "2024-08-20T12:31:45.123562574",
          "2024-08-20T12:31:45.184406042",
          "2024-08-20T12:31:45.253189325",
          "2024-08-20T12:31:45.314022064",
          "2024-08-20T12:31:45.391814232",
          "2024-08-20T12:31:45.503517866",
          "2024-08-20T12:31:45.563381672",
          "2024-08-20T12:31:45.625192165",
          "2024-08-20T12:31:45.689467907",
          "2024-08-20T12:31:45.743281364",
          "2024-08-20T12:31:45.799130917",
          "2024-08-20T12:31:45.849994183",
          "2024-08-20T12:31:45.911336899",
          "2024-08-20T12:31:45.973172188",
          "2024-08-20T12:31:46.031045198",
          "2024-08-20T12:31:46.077892065",
          "2024-08-20T12:31:46.141758204",
          "2024-08-20T12:31:46.209540129",
          "2024-08-20T12:31:46.271375179",
          "2024-08-20T12:31:46.336202383",
          "2024-08-20T12:31:46.402061224",
          "2024-08-20T12:31:46.463126421",
          "2024-08-20T12:31:46.525985479",
          "2024-08-20T12:31:46.593837023",
          "2024-08-20T12:31:46.663606167",
          "2024-08-20T12:31:46.721510649",
          "2024-08-20T12:31:46.782323599",
          "2024-08-20T12:31:46.850108624",
          "2024-08-20T12:31:46.921957970",
          "2024-08-20T12:31:46.977843285",
          "2024-08-20T12:31:47.038705826",
          "2024-08-20T12:31:47.102475882",
          "2024-08-20T12:31:47.169295788",
          "2024-08-20T12:31:47.230172157",
          "2024-08-20T12:31:47.304938078",
          "2024-08-20T12:31:47.368804932",
          "2024-08-20T12:31:47.427606583",
          "2024-08-20T12:31:47.491471767",
          "2024-08-20T12:31:47.555302143",
          "2024-08-20T12:31:47.623177528",
          "2024-08-20T12:31:47.811676741",
          "2024-08-20T12:31:47.827633619",
          "2024-08-20T12:31:47.877500534",
          "2024-08-20T12:31:47.938337326",
          "2024-08-20T12:31:47.984474659",
          "2024-08-20T12:31:48.027358532",
          "2024-08-20T12:31:48.088195324",
          "2024-08-20T12:31:48.136068344",
          "2024-08-20T12:31:48.191809654",
          "2024-08-20T12:31:48.256190538",
          "2024-08-20T12:31:48.321072102",
          "2024-08-20T12:31:48.382852077",
          "2024-08-20T12:31:48.445721865",
          "2024-08-20T12:31:48.511081219",
          "2024-08-20T12:31:48.576905251",
          "2024-08-20T12:31:48.638738394",
          "2024-08-20T12:31:48.701770544",
          "2024-08-20T12:31:48.774565697",
          "2024-08-20T12:31:48.831388712",
          "2024-08-20T12:31:48.893730640",
          "2024-08-20T12:31:48.961057901",
          "2024-08-20T12:31:49.028914213",
          "2024-08-20T12:31:49.090711117",
          "2024-08-20T12:31:49.154539824",
          "2024-08-20T12:31:49.213383436",
          "2024-08-20T12:31:49.279206991",
          "2024-08-20T12:31:49.345029116",
          "2024-08-20T12:31:49.405867100",
          "2024-08-20T12:31:49.473721266",
          "2024-08-20T12:31:49.545494080",
          "2024-08-20T12:31:49.602399588",
          "2024-08-20T12:31:49.663179159",
          "2024-08-20T12:31:49.729102612",
          "2024-08-20T12:31:49.791011810",
          "2024-08-20T12:31:49.853843212",
          "2024-08-20T12:31:49.919657946",
          "2024-08-20T12:31:49.983487844",
          "2024-08-20T12:31:50.046319723",
          "2024-08-20T12:31:50.110692024",
          "2024-08-20T12:31:50.174520016",
          "2024-08-20T12:31:50.238417864",
          "2024-08-20T12:31:50.303511620",
          "2024-08-20T12:31:50.366343737",
          "2024-08-20T12:31:50.432175159",
          "2024-08-20T12:31:50.505977631",
          "2024-08-20T12:31:50.560830355",
          "2024-08-20T12:31:50.670942068",
          "2024-08-20T12:31:50.726747036",
          "2024-08-20T12:31:50.789601564",
          "2024-08-20T12:31:50.825510979",
          "2024-08-20T12:31:50.890295744",
          "2024-08-20T12:31:50.943155289",
          "2024-08-20T12:31:51.012972832",
          "2024-08-20T12:31:51.074837446",
          "2024-08-20T12:31:51.134642601",
          "2024-08-20T12:31:51.200467348",
          "2024-08-20T12:31:51.273272991",
          "2024-08-20T12:31:51.336102962",
          "2024-08-20T12:31:51.389957905",
          "2024-08-20T12:31:51.454820395",
          "2024-08-20T12:31:51.517674922",
          "2024-08-20T12:31:51.586463928",
          "2024-08-20T12:31:51.646686554",
          "2024-08-20T12:31:51.712054014",
          "2024-08-20T12:31:51.782867193",
          "2024-08-20T12:31:51.838715792",
          "2024-08-20T12:31:51.903051376",
          "2024-08-20T12:31:51.967877626",
          "2024-08-20T12:31:52.030061007",
          "2024-08-20T12:31:52.102158070",
          "2024-08-20T12:31:52.168978691",
          "2024-08-20T12:31:52.222800970",
          "2024-08-20T12:31:52.292626858",
          "2024-08-20T12:31:52.351458549",
          "2024-08-20T12:31:52.418277025",
          "2024-08-20T12:31:52.481150866",
          "2024-08-20T12:31:52.541553497",
          "2024-08-20T12:31:52.606345415",
          "2024-08-20T12:31:52.673228025",
          "2024-08-20T12:31:52.735998154",
          "2024-08-20T12:31:52.798882484",
          "2024-08-20T12:31:52.862711668",
          "2024-08-20T12:31:52.927570105",
          "2024-08-20T12:31:52.990370035",
          "2024-08-20T12:31:53.070696592",
          "2024-08-20T12:31:53.131572007",
          "2024-08-20T12:31:53.195363998",
          "2024-08-20T12:31:53.245267153",
          "2024-08-20T12:31:53.310670376",
          "2024-08-20T12:31:53.375495911",
          "2024-08-20T12:31:53.440849304",
          "2024-08-20T12:31:53.502685069",
          "2024-08-20T12:31:53.581473112",
          "2024-08-20T12:31:53.671237707",
          "2024-08-20T12:31:53.730012655",
          "2024-08-20T12:31:53.778313637",
          "2024-08-20T12:31:53.833030939",
          "2024-08-20T12:31:53.893876076",
          "2024-08-20T12:31:53.949759483",
          "2024-08-20T12:31:54.014583826",
          "2024-08-20T12:31:54.080477238",
          "2024-08-20T12:31:54.146250486",
          "2024-08-20T12:31:54.208119631",
          "2024-08-20T12:31:54.272945881",
          "2024-08-20T12:31:54.337438822",
          "2024-08-20T12:31:54.401267767",
          "2024-08-20T12:31:54.464104652",
          "2024-08-20T12:31:54.525992393",
          "2024-08-20T12:31:54.604726553",
          "2024-08-20T12:31:54.660574675",
          "2024-08-20T12:31:54.717456818",
          "2024-08-20T12:31:54.788233280",
          "2024-08-20T12:31:54.846078873",
          "2024-08-20T12:31:54.909790993",
          "2024-08-20T12:31:54.976554394",
          "2024-08-20T12:31:55.039385557",
          "2024-08-20T12:31:55.105245590",
          "2024-08-20T12:31:55.171085119",
          "2024-08-20T12:31:55.230873108",
          "2024-08-20T12:31:55.299697399",
          "2024-08-20T12:31:55.362556934",
          "2024-08-20T12:31:55.429852486",
          "2024-08-20T12:31:55.490688562",
          "2024-08-20T12:31:55.549531460",
          "2024-08-20T12:31:55.615355253",
          "2024-08-20T12:31:55.682177305",
          "2024-08-20T12:31:55.744011879",
          "2024-08-20T12:31:55.807841063",
          "2024-08-20T12:31:55.870673656",
          "2024-08-20T12:31:55.949462414",
          "2024-08-20T12:31:56.003352642",
          "2024-08-20T12:31:56.067021132",
          "2024-08-20T12:31:56.125862597",
          "2024-08-20T12:31:56.193681240",
          "2024-08-20T12:31:56.253522635",
          "2024-08-20T12:31:56.318383694",
          "2024-08-20T12:31:56.386166811",
          "2024-08-20T12:31:56.448000908",
          "2024-08-20T12:31:56.512829065",
          "2024-08-20T12:31:56.583638668",
          "2024-08-20T12:31:56.640494585",
          "2024-08-20T12:31:56.703325510",
          "2024-08-20T12:31:56.767193556",
          "2024-08-20T12:31:56.835482836",
          "2024-08-20T12:31:56.902304649",
          "2024-08-20T12:31:56.962438345",
          "2024-08-20T12:31:57.025873184",
          "2024-08-20T12:31:57.087665081",
          "2024-08-20T12:31:57.154531956",
          "2024-08-20T12:31:57.214373350",
          "2024-08-20T12:31:57.293160200",
          "2024-08-20T12:31:57.345025063",
          "2024-08-20T12:31:57.412839890",
          "2024-08-20T12:31:57.473701954",
          "2024-08-20T12:31:57.534539223",
          "2024-08-20T12:31:57.604353428",
          "2024-08-20T12:31:57.663195133",
          "2024-08-20T12:31:57.726027727",
          "2024-08-20T12:31:57.791850805",
          "2024-08-20T12:31:57.855682135",
          "2024-08-20T12:31:57.919509649",
          "2024-08-20T12:31:57.984847546",
          "2024-08-20T12:31:58.048672438",
          "2024-08-20T12:31:58.114497423",
          "2024-08-20T12:31:58.232179642",
          "2024-08-20T12:31:58.303023338",
          "2024-08-20T12:31:58.362874031",
          "2024-08-20T12:31:58.422821522",
          "2024-08-20T12:31:58.476673603",
          "2024-08-20T12:31:58.501605749",
          "2024-08-20T12:31:58.569931507",
          "2024-08-20T12:31:58.628283978",
          "2024-08-20T12:31:58.687161207",
          "2024-08-20T12:31:58.754455805",
          "2024-08-20T12:31:58.874644995",
          "2024-08-20T12:31:58.942510366",
          "2024-08-20T12:31:59.005335093",
          "2024-08-20T12:31:59.067801952",
          "2024-08-20T12:31:59.130631208",
          "2024-08-20T12:31:59.181493998",
          "2024-08-20T12:31:59.239844561",
          "2024-08-20T12:31:59.299728394",
          "2024-08-20T12:31:59.346602917",
          "2024-08-20T12:31:59.392479658",
          "2024-08-20T12:31:59.455312490",
          "2024-08-20T12:31:59.519181966",
          "2024-08-20T12:31:59.584981441",
          "2024-08-20T12:31:59.647796392",
          "2024-08-20T12:31:59.710932016",
          "2024-08-20T12:31:59.783735514",
          "2024-08-20T12:31:59.839586020",
          "2024-08-20T12:31:59.903450012",
          "2024-08-20T12:31:59.966248512",
          "2024-08-20T12:32:00.031110048",
          "2024-08-20T12:32:00.101887941",
          "2024-08-20T12:32:00.159729958",
          "2024-08-20T12:32:00.222562075",
          "2024-08-20T12:32:00.287391663",
          "2024-08-20T12:32:00.352120399",
          "2024-08-20T12:32:00.413935184",
          "2024-08-20T12:32:00.478729010",
          "2024-08-20T12:32:00.542225122",
          "2024-08-20T12:32:00.610045195",
          "2024-08-20T12:32:00.671614647",
          "2024-08-20T12:32:00.735095501",
          "2024-08-20T12:32:00.799942493",
          "2024-08-20T12:32:00.863315344",
          "2024-08-20T12:32:00.928106546",
          "2024-08-20T12:32:01.008890390",
          "2024-08-20T12:32:01.070760727",
          "2024-08-20T12:32:01.117598772",
          "2024-08-20T12:32:01.181464672",
          "2024-08-20T12:32:01.245420218",
          "2024-08-20T12:32:01.314198017",
          "2024-08-20T12:32:01.377030849",
          "2024-08-20T12:32:01.439896584",
          "2024-08-20T12:32:01.512666941",
          "2024-08-20T12:32:01.589461088",
          "2024-08-20T12:32:01.634341002",
          "2024-08-20T12:32:01.695178032",
          "2024-08-20T12:32:01.761003256",
          "2024-08-20T12:32:01.821839809",
          "2024-08-20T12:32:01.885703325",
          "2024-08-20T12:32:01.950496435",
          "2024-08-20T12:32:02.016355275",
          "2024-08-20T12:32:02.079560041",
          "2024-08-20T12:32:02.147934437",
          "2024-08-20T12:32:02.205846548",
          "2024-08-20T12:32:02.270641804",
          "2024-08-20T12:32:02.344480515",
          "2024-08-20T12:32:02.461406469",
          "2024-08-20T12:32:02.517229556",
          "2024-08-20T12:32:02.564082146",
          "2024-08-20T12:32:02.629870892",
          "2024-08-20T12:32:02.699684858",
          "2024-08-20T12:32:02.746571541",
          "2024-08-20T12:32:02.795462847",
          "2024-08-20T12:32:02.853273153",
          "2024-08-20T12:32:02.914112091",
          "2024-08-20T12:32:02.973954678",
          "2024-08-20T12:32:03.051743984",
          "2024-08-20T12:32:03.102615833",
          "2024-08-20T12:32:03.168430090",
          "2024-08-20T12:32:03.248250484",
          "2024-08-20T12:32:03.296088934",
          "2024-08-20T12:32:03.361934662",
          "2024-08-20T12:32:03.423750877",
          "2024-08-20T12:32:03.487687349",
          "2024-08-20T12:32:03.550518513",
          "2024-08-20T12:32:03.618339300",
          "2024-08-20T12:32:03.692140341",
          "2024-08-20T12:32:03.742039919",
          "2024-08-20T12:32:03.805836201",
          "2024-08-20T12:32:03.872937918",
          "2024-08-20T12:32:03.934771776",
          "2024-08-20T12:32:04.138708115",
          "2024-08-20T12:32:04.162652016",
          "2024-08-20T12:32:04.215462923",
          "2024-08-20T12:32:04.261340141",
          "2024-08-20T12:32:04.305223465",
          "2024-08-20T12:32:04.367092133",
          "2024-08-20T12:32:04.410940409",
          "2024-08-20T12:32:04.457854271",
          "2024-08-20T12:32:04.517654896",
          "2024-08-20T12:32:04.580527544",
          "2024-08-20T12:32:04.637335539",
          "2024-08-20T12:32:04.706151247",
          "2024-08-20T12:32:04.765990496",
          "2024-08-20T12:32:04.830850601",
          "2024-08-20T12:32:04.894646168",
          "2024-08-20T12:32:04.958475590",
          "2024-08-20T12:32:05.028358459",
          "2024-08-20T12:32:05.090869427",
          "2024-08-20T12:32:05.155694008",
          "2024-08-20T12:32:05.220520258",
          "2024-08-20T12:32:05.280360222",
          "2024-08-20T12:32:05.344203472",
          "2024-08-20T12:32:05.416617870",
          "2024-08-20T12:32:05.473434925",
          "2024-08-20T12:32:05.533270836",
          "2024-08-20T12:32:05.599692583",
          "2024-08-20T12:32:05.668574572",
          "2024-08-20T12:32:05.727350950",
          "2024-08-20T12:32:05.791183472",
          "2024-08-20T12:32:05.854014158",
          "2024-08-20T12:32:05.924823761",
          "2024-08-20T12:32:05.983665466",
          "2024-08-20T12:32:06.046497345",
          "2024-08-20T12:32:06.113318920",
          "2024-08-20T12:32:06.185126543",
          "2024-08-20T12:32:06.244966507",
          "2024-08-20T12:32:06.305804491",
          "2024-08-20T12:32:06.427478552",
          "2024-08-20T12:32:06.476348162",
          "2024-08-20T12:32:06.519232987",
          "2024-08-20T12:32:06.580214500",
          "2024-08-20T12:32:06.640358686",
          "2024-08-20T12:32:06.689215422",
          "2024-08-20T12:32:06.750109673",
          "2024-08-20T12:32:06.817869663",
          "2024-08-20T12:32:06.883101940",
          "2024-08-20T12:32:06.941977024",
          "2024-08-20T12:32:07.051910162",
          "2024-08-20T12:32:07.107870817",
          "2024-08-20T12:32:07.159778595",
          "2024-08-20T12:32:07.225763559",
          "2024-08-20T12:32:07.280441046",
          "2024-08-20T12:32:07.327314854",
          "2024-08-20T12:32:07.392040730",
          "2024-08-20T12:32:07.453844547",
          "2024-08-20T12:32:07.519663572",
          "2024-08-20T12:32:07.585496664",
          "2024-08-20T12:32:07.646383524",
          "2024-08-20T12:32:07.712150097",
          "2024-08-20T12:32:07.776016474",
          "2024-08-20T12:32:07.839809179",
          "2024-08-20T12:32:07.902639627",
          "2024-08-20T12:32:07.965471029",
          "2024-08-20T12:32:08.032032250",
          "2024-08-20T12:32:08.093867064",
          "2024-08-20T12:32:08.167701006",
          "2024-08-20T12:32:08.227540970",
          "2024-08-20T12:32:08.295396090",
          "2024-08-20T12:32:08.349215508",
          "2024-08-20T12:32:08.416072607",
          "2024-08-20T12:32:08.480871439",
          "2024-08-20T12:32:08.542946577",
          "2024-08-20T12:32:08.606839895",
          "2024-08-20T12:32:08.670669317",
          "2024-08-20T12:32:08.748494625",
          "2024-08-20T12:32:08.810294867",
          "2024-08-20T12:32:08.870174646",
          "2024-08-20T12:32:08.929901600",
          "2024-08-20T12:32:08.990741253",
          "2024-08-20T12:32:09.054567575",
          "2024-08-20T12:32:09.119748592",
          "2024-08-20T12:32:09.183618307",
          "2024-08-20T12:32:09.246409178",
          "2024-08-20T12:32:09.310237885",
          "2024-08-20T12:32:09.376274586",
          "2024-08-20T12:32:09.444119215",
          "2024-08-20T12:32:09.505930185",
          "2024-08-20T12:32:09.570753813",
          "2024-08-20T12:32:09.633613825",
          "2024-08-20T12:32:09.695421457",
          "2024-08-20T12:32:09.758251190",
          "2024-08-20T12:32:09.823078632",
          "2024-08-20T12:32:09.892893553",
          "2024-08-20T12:32:09.950737238",
          "2024-08-20T12:32:10.014777422",
          "2024-08-20T12:32:10.086585045",
          "2024-08-20T12:32:10.141972303",
          "2024-08-20T12:32:10.210790157",
          "2024-08-20T12:32:10.270623446",
          "2024-08-20T12:32:10.334451199",
          "2024-08-20T12:32:10.401107311",
          "2024-08-20T12:32:10.475941658",
          "2024-08-20T12:32:10.526770592",
          "2024-08-20T12:32:10.592339277",
          "2024-08-20T12:32:10.654148579",
          "2024-08-20T12:32:10.718975782",
          "2024-08-20T12:32:10.782802105",
          "2024-08-20T12:32:10.848627567",
          "2024-08-20T12:32:10.910460711",
          "2024-08-20T12:32:10.977282286",
          "2024-08-20T12:32:11.039152861",
          "2024-08-20T12:32:11.103947401",
          "2024-08-20T12:32:11.167773247",
          "2024-08-20T12:32:11.229755402",
          "2024-08-20T12:32:11.300566435",
          "2024-08-20T12:32:11.360479593",
          "2024-08-20T12:32:11.429301023",
          "2024-08-20T12:32:11.491092443",
          "2024-08-20T12:32:11.549935341",
          "2024-08-20T12:32:11.614765167",
          "2024-08-20T12:32:11.678591490",
          "2024-08-20T12:32:11.881561279",
          "2024-08-20T12:32:11.898514748",
          "2024-08-20T12:32:11.957359314",
          "2024-08-20T12:32:12.000243187",
          "2024-08-20T12:32:12.059998989",
          "2024-08-20T12:32:12.107871294",
          "2024-08-20T12:32:12.150756359",
          "2024-08-20T12:32:12.212984085",
          "2024-08-20T12:32:12.266843080",
          "2024-08-20T12:32:12.333659649",
          "2024-08-20T12:32:12.400614738",
          "2024-08-20T12:32:12.452477217",
          "2024-08-20T12:32:12.509835005",
          "2024-08-20T12:32:12.584639788",
          "2024-08-20T12:32:12.639522791",
          "2024-08-20T12:32:12.704347134",
          "2024-08-20T12:32:12.766216516",
          "2024-08-20T12:32:12.831049442",
          "2024-08-20T12:32:12.897837639",
          "2024-08-20T12:32:12.957735538",
          "2024-08-20T12:32:13.023500681",
          "2024-08-20T12:32:13.087365866",
          "2024-08-20T12:32:13.162170649",
          "2024-08-20T12:32:13.215023041",
          "2024-08-20T12:32:13.280812502",
          "2024-08-20T12:32:13.341650486",
          "2024-08-20T12:32:13.405478477",
          "2024-08-20T12:32:13.470162392",
          "2024-08-20T12:32:13.536520719",
          "2024-08-20T12:32:13.601319313",
          "2024-08-20T12:32:13.662052870",
          "2024-08-20T12:32:13.725847721",
          "2024-08-20T12:32:13.791673660",
          "2024-08-20T12:32:13.853515148",
          "2024-08-20T12:32:13.930917978",
          "2024-08-20T12:32:13.993786335",
          "2024-08-20T12:32:14.059574604",
          "2024-08-20T12:32:14.110471010",
          "2024-08-20T12:32:14.175262690",
          "2024-08-20T12:32:14.239600658",
          "2024-08-20T12:32:14.304803610",
          "2024-08-20T12:32:14.370627165",
          "2024-08-20T12:32:14.430467367",
          "2024-08-20T12:32:14.494708300",
          "2024-08-20T12:32:14.558565378",
          "2024-08-20T12:32:14.631342411",
          "2024-08-20T12:32:14.685559273",
          "2024-08-20T12:32:14.750857830",
          "2024-08-20T12:32:14.813715219",
          "2024-08-20T12:32:14.879512548",
          "2024-08-20T12:32:14.945337057",
          "2024-08-20T12:32:15.009166241",
          "2024-08-20T12:32:15.070513248",
          "2024-08-20T12:32:15.136845350",
          "2024-08-20T12:32:15.243623495",
          "2024-08-20T12:32:15.292493105",
          "2024-08-20T12:32:15.336418152",
          "2024-08-20T12:32:15.403240204",
          "2024-08-20T12:32:15.460046530",
          "2024-08-20T12:32:15.519924878",
          "2024-08-20T12:32:15.582721472",
          "2024-08-20T12:32:15.646606445",
          "2024-08-20T12:32:15.718358517",
          "2024-08-20T12:32:15.777199030",
          "2024-08-20T12:32:15.840064526",
          "2024-08-20T12:32:15.907848120",
          "2024-08-20T12:32:15.965693712",
          "2024-08-20T12:32:16.031555175",
          "2024-08-20T12:32:16.096345186",
          "2024-08-20T12:32:16.159226656",
          "2024-08-20T12:32:16.222518921",
          "2024-08-20T12:32:16.286342859",
          "2024-08-20T12:32:16.351169825",
          "2024-08-20T12:32:16.413003683",
          "2024-08-20T12:32:16.480856419",
          "2024-08-20T12:32:16.542655945",
          "2024-08-20T12:32:16.610476255",
          "2024-08-20T12:32:16.670314550",
          "2024-08-20T12:32:16.734145641",
          "2024-08-20T12:32:16.799000502",
          "2024-08-20T12:32:16.881431103",
          "2024-08-20T12:32:16.929389238",
          "2024-08-20T12:32:16.989288330",
          "2024-08-20T12:32:17.056051016",
          "2024-08-20T12:32:17.117888451",
          "2024-08-20T12:32:17.183228970",
          "2024-08-20T12:32:17.246451139",
          "2024-08-20T12:32:17.311335325",
          "2024-08-20T12:32:17.374109983",
          "2024-08-20T12:32:17.440968990",
          "2024-08-20T12:32:17.502764702",
          "2024-08-20T12:32:17.568790674",
          "2024-08-20T12:32:17.629988670",
          "2024-08-20T12:32:17.707792282",
          "2024-08-20T12:32:17.769598246",
          "2024-08-20T12:32:17.823451996",
          "2024-08-20T12:32:17.886348248",
          "2024-08-20T12:32:17.957094431",
          "2024-08-20T12:32:18.015938759",
          "2024-08-20T12:32:18.084788322",
          "2024-08-20T12:32:18.142599106",
          "2024-08-20T12:32:18.207425594",
          "2024-08-20T12:32:18.270257473",
          "2024-08-20T12:32:18.335122108",
          "2024-08-20T12:32:18.399975538",
          "2024-08-20T12:32:18.470842600",
          "2024-08-20T12:32:18.525648832",
          "2024-08-20T12:32:18.590513945",
          "2024-08-20T12:32:18.657296419",
          "2024-08-20T12:32:18.718192339",
          "2024-08-20T12:32:18.782960415",
          "2024-08-20T12:32:18.847694159",
          "2024-08-20T12:32:18.910487652",
          "2024-08-20T12:32:18.975023031",
          "2024-08-20T12:32:19.037863016",
          "2024-08-20T12:32:19.103645325",
          "2024-08-20T12:32:19.172459364",
          "2024-08-20T12:32:19.240307093",
          "2024-08-20T12:32:19.297124147",
          "2024-08-20T12:32:19.359956264",
          "2024-08-20T12:32:19.425780773",
          "2024-08-20T12:32:19.623049498",
          "2024-08-20T12:32:19.641996622",
          "2024-08-20T12:32:19.698847055",
          "2024-08-20T12:32:19.756545067",
          "2024-08-20T12:32:19.804416180",
          "2024-08-20T12:32:19.850294828",
          "2024-08-20T12:32:19.894176245",
          "2024-08-20T12:32:19.955012321",
          "2024-08-20T12:32:20.001924038",
          "2024-08-20T12:32:20.070703506",
          "2024-08-20T12:32:20.132539988",
          "2024-08-20T12:32:20.191419840",
          "2024-08-20T12:32:20.262194872",
          "2024-08-20T12:32:20.322516203",
          "2024-08-20T12:32:20.387259722",
          "2024-08-20T12:32:20.446102619",
          "2024-08-20T12:32:20.520902157",
          "2024-08-20T12:32:20.584731817",
          "2024-08-20T12:32:20.653100014",
          "2024-08-20T12:32:20.706911802",
          "2024-08-20T12:32:20.771246910",
          "2024-08-20T12:32:20.832086563",
          "2024-08-20T12:32:20.895421505",
          "2024-08-20T12:32:20.959251165",
          "2024-08-20T12:32:21.024112225",
          "2024-08-20T12:32:21.086937666",
          "2024-08-20T12:32:21.150739670",
          "2024-08-20T12:32:21.215182066",
          "2024-08-20T12:32:21.288241148",
          "2024-08-20T12:32:21.342065573",
          "2024-08-20T12:32:21.407263279",
          "2024-08-20T12:32:21.483011246",
          "2024-08-20T12:32:21.532878399",
          "2024-08-20T12:32:21.599734306",
          "2024-08-20T12:32:21.667518377",
          "2024-08-20T12:32:21.730396748",
          "2024-08-20T12:32:21.791186571",
          "2024-08-20T12:32:21.855018854",
          "2024-08-20T12:32:21.920847893",
          "2024-08-20T12:32:21.982674122",
          "2024-08-20T12:32:22.189171791",
          "2024-08-20T12:32:22.202137947",
          "2024-08-20T12:32:22.256990194",
          "2024-08-20T12:32:22.320201874",
          "2024-08-20T12:32:22.365945339",
          "2024-08-20T12:32:22.409827948",
          "2024-08-20T12:32:22.457733631",
          "2024-08-20T12:32:22.516542673",
          "2024-08-20T12:32:22.564417124",
          "2024-08-20T12:32:22.622356653",
          "2024-08-20T12:32:22.687514067",
          "2024-08-20T12:32:22.750309229",
          "2024-08-20T12:32:22.818037748",
          "2024-08-20T12:32:22.886855364",
          "2024-08-20T12:32:22.941748381",
          "2024-08-20T12:32:23.005697012",
          "2024-08-20T12:32:23.077054977",
          "2024-08-20T12:32:23.133903503",
          "2024-08-20T12:32:23.235785723",
          "2024-08-20T12:32:23.298555374",
          "2024-08-20T12:32:23.360395193",
          "2024-08-20T12:32:23.415242434",
          "2024-08-20T12:32:23.455136061",
          "2024-08-20T12:32:23.520959139",
          "2024-08-20T12:32:23.591769695",
          "2024-08-20T12:32:23.645626307",
          "2024-08-20T12:32:23.709454775",
          "2024-08-20T12:32:23.781263590",
          "2024-08-20T12:32:23.837112904",
          "2024-08-20T12:32:23.903935671",
          "2024-08-20T12:32:23.965770245",
          "2024-08-20T12:32:24.034584522",
          "2024-08-20T12:32:24.102404833",
          "2024-08-20T12:32:24.158255816",
          "2024-08-20T12:32:24.223082304",
          "2024-08-20T12:32:24.300907373",
          "2024-08-20T12:32:24.357778549",
          "2024-08-20T12:32:24.416562796",
          "2024-08-20T12:32:24.479396105",
          "2024-08-20T12:32:24.543224573",
          "2024-08-20T12:32:24.606056452",
          "2024-08-20T12:32:24.671190023",
          "2024-08-20T12:32:24.737014294",
          "2024-08-20T12:32:24.801352024",
          "2024-08-20T12:32:24.864221811",
          "2024-08-20T12:32:24.932000160",
          "2024-08-20T12:32:24.992837667",
          "2024-08-20T12:32:25.054672956",
          "2024-08-20T12:32:25.118500710",
          "2024-08-20T12:32:25.195301294",
          "2024-08-20T12:32:25.253140926",
          "2024-08-20T12:32:25.311498642",
          "2024-08-20T12:32:25.375326633",
          "2024-08-20T12:32:25.440153599",
          "2024-08-20T12:32:25.641125202",
          "2024-08-20T12:32:25.657083750",
          "2024-08-20T12:32:25.720910788",
          "2024-08-20T12:32:25.765789747",
          "2024-08-20T12:32:25.811667442",
          "2024-08-20T12:32:25.873502493",
          "2024-08-20T12:32:25.917384863",
          "2024-08-20T12:32:25.965266705",
          "2024-08-20T12:32:26.015124083",
          "2024-08-20T12:32:26.081945181",
          "2024-08-20T12:32:26.143970490",
          "2024-08-20T12:32:26.207308531",
          "2024-08-20T12:32:26.277124882",
          "2024-08-20T12:32:26.335473299",
          "2024-08-20T12:32:26.399356604",
          "2024-08-20T12:32:26.469116211",
          "2024-08-20T12:32:26.526027203",
          "2024-08-20T12:32:26.599806547",
          "2024-08-20T12:32:26.662598610",
          "2024-08-20T12:32:26.719447613",
          "2024-08-20T12:32:26.787300110",
          "2024-08-20T12:32:26.846109152",
          "2024-08-20T12:32:26.909974575",
          "2024-08-20T12:32:26.982742786",
          "2024-08-20T12:32:27.039618492",
          "2024-08-20T12:32:27.109428883",
          "2024-08-20T12:32:27.168270826",
          "2024-08-20T12:32:27.244070053",
          "2024-08-20T12:32:27.300915718",
          "2024-08-20T12:32:27.358763456",
          "2024-08-20T12:32:27.430572271",
          "2024-08-20T12:32:27.495396614",
          "2024-08-20T12:32:27.552243471",
          "2024-08-20T12:32:27.618986607",
          "2024-08-20T12:32:27.679826498",
          "2024-08-20T12:32:27.744651794",
          "2024-08-20T12:32:27.811474085",
          "2024-08-20T12:32:27.871311665",
          "2024-08-20T12:32:27.938232660",
          "2024-08-20T12:32:28.007043123",
          "2024-08-20T12:32:28.066883086",
          "2024-08-20T12:32:28.126723528",
          "2024-08-20T12:32:28.193597555",
          "2024-08-20T12:32:28.260417461",
          "2024-08-20T12:32:28.320315361",
          "2024-08-20T12:32:28.384086132",
          "2024-08-20T12:32:28.446953297",
          "2024-08-20T12:32:28.518725634",
          "2024-08-20T12:32:28.576572895",
          "2024-08-20T12:32:28.641489267",
          "2024-08-20T12:32:28.702045441",
          "2024-08-20T12:32:28.767858028",
          "2024-08-20T12:32:28.830724716",
          "2024-08-20T12:32:28.896514893",
          "2024-08-20T12:32:28.961437941",
          "2024-08-20T12:32:29.023036718",
          "2024-08-20T12:32:29.086858511",
          "2024-08-20T12:32:29.150660276",
          "2024-08-20T12:32:29.214490175",
          "2024-08-20T12:32:29.280347824",
          "2024-08-20T12:32:29.347641230",
          "2024-08-20T12:32:29.408477068",
          "2024-08-20T12:32:29.473303795",
          "2024-08-20T12:32:29.534140825",
          "2024-08-20T12:32:29.603953600",
          "2024-08-20T12:32:29.662796974",
          "2024-08-20T12:32:29.728660822",
          "2024-08-20T12:32:29.829075098",
          "2024-08-20T12:32:29.855006218",
          "2024-08-20T12:32:29.918835640",
          "2024-08-20T12:32:29.984659910",
          "2024-08-20T12:32:30.048488617",
          "2024-08-20T12:32:30.111320496",
          "2024-08-20T12:32:30.174177170",
          "2024-08-20T12:32:30.241478205",
          "2024-08-20T12:32:30.304310322",
          "2024-08-20T12:32:30.367180586",
          "2024-08-20T12:32:30.433924198",
          "2024-08-20T12:32:30.496754646",
          "2024-08-20T12:32:30.561550379",
          "2024-08-20T12:32:30.623412132",
          "2024-08-20T12:32:30.686249495",
          "2024-08-20T12:32:30.753970623",
          "2024-08-20T12:32:30.815323591",
          "2024-08-20T12:32:30.879150867",
          "2024-08-20T12:32:30.955455780",
          "2024-08-20T12:32:31.006345749",
          "2024-08-20T12:32:31.084110022",
          "2024-08-20T12:32:31.133013964",
          "2024-08-20T12:32:31.203535080",
          "2024-08-20T12:32:31.271354437",
          "2024-08-20T12:32:31.326326847",
          "2024-08-20T12:32:31.408055782",
          "2024-08-20T12:32:31.458920002",
          "2024-08-20T12:32:31.552667856",
          "2024-08-20T12:32:31.591563702",
          "2024-08-20T12:32:31.650408030",
          "2024-08-20T12:32:31.710282564",
          "2024-08-20T12:32:31.776070833",
          "2024-08-20T12:32:31.837939978",
          "2024-08-20T12:32:31.907718420",
          "2024-08-20T12:32:31.973545551",
          "2024-08-20T12:32:32.030505180",
          "2024-08-20T12:32:32.096329927",
          "2024-08-20T12:32:32.159909010",
          "2024-08-20T12:32:32.223783493",
          "2024-08-20T12:32:32.285617352",
          "2024-08-20T12:32:32.355093002",
          "2024-08-20T12:32:32.423932314",
          "2024-08-20T12:32:32.477780581",
          "2024-08-20T12:32:32.545111179",
          "2024-08-20T12:32:32.610616684",
          "2024-08-20T12:32:32.672452688",
          "2024-08-20T12:32:32.738783121",
          "2024-08-20T12:32:32.800617695",
          "2024-08-20T12:32:32.862452507",
          "2024-08-20T12:32:32.927278280",
          "2024-08-20T12:32:32.991107702",
          "2024-08-20T12:32:33.061918974",
          "2024-08-20T12:32:33.117813110",
          "2024-08-20T12:32:33.183628321",
          "2024-08-20T12:32:33.247426987",
          "2024-08-20T12:32:33.313245773",
          "2024-08-20T12:32:33.376078844",
          "2024-08-20T12:32:33.437913418",
          "2024-08-20T12:32:33.507761955",
          "2024-08-20T12:32:33.566568375",
          "2024-08-20T12:32:33.630432606",
          "2024-08-20T12:32:33.696256876",
          "2024-08-20T12:32:33.763337374",
          "2024-08-20T12:32:33.823216915",
          "2024-08-20T12:32:33.886786699",
          "2024-08-20T12:32:33.951614380",
          "2024-08-20T12:32:34.019431353",
          "2024-08-20T12:32:34.080267668",
          "2024-08-20T12:32:34.142103195",
          "2024-08-20T12:32:34.208925486",
          "2024-08-20T12:32:34.270759106",
          "2024-08-20T12:32:34.334587574",
          "2024-08-20T12:32:34.409389973",
          "2024-08-20T12:32:34.463746071",
          "2024-08-20T12:32:34.525631427",
          "2024-08-20T12:32:34.590441942",
          "2024-08-20T12:32:34.672589302",
          "2024-08-20T12:32:34.718495369",
          "2024-08-20T12:32:34.784605265",
          "2024-08-20T12:32:34.845502377",
          "2024-08-20T12:32:34.915297985",
          "2024-08-20T12:32:34.976535082",
          "2024-08-20T12:32:35.038368940",
          "2024-08-20T12:32:35.101213455",
          "2024-08-20T12:32:35.170028687",
          "2024-08-20T12:32:35.229869604",
          "2024-08-20T12:32:35.296691179",
          "2024-08-20T12:32:35.365506649",
          "2024-08-20T12:32:35.421391964",
          "2024-08-20T12:32:35.489713669",
          "2024-08-20T12:32:35.550548553",
          "2024-08-20T12:32:35.615374088",
          "2024-08-20T12:32:35.679830551",
          "2024-08-20T12:32:35.741671562",
          "2024-08-20T12:32:35.821450710",
          "2024-08-20T12:32:35.875407696",
          "2024-08-20T12:32:35.934213400",
          "2024-08-20T12:32:35.999787569",
          "2024-08-20T12:32:36.072578192",
          "2024-08-20T12:32:36.127431630",
          "2024-08-20T12:32:36.198305845",
          "2024-08-20T12:32:36.259132385",
          "2024-08-20T12:32:36.320932627",
          "2024-08-20T12:32:36.381804943",
          "2024-08-20T12:32:36.446623564",
          "2024-08-20T12:32:36.520399332",
          "2024-08-20T12:32:36.578244925",
          "2024-08-20T12:32:36.646062136",
          "2024-08-20T12:32:36.707958698",
          "2024-08-20T12:32:36.768796206",
          "2024-08-20T12:32:36.829632759",
          "2024-08-20T12:32:36.895457745",
          "2024-08-20T12:32:36.961305380",
          "2024-08-20T12:32:37.027129889",
          "2024-08-20T12:32:37.094947815",
          "2024-08-20T12:32:37.150824547",
          "2024-08-20T12:32:37.228126764",
          "2024-08-20T12:32:37.278991222",
          "2024-08-20T12:32:37.345320702",
          "2024-08-20T12:32:37.412676811",
          "2024-08-20T12:32:37.476505041",
          "2024-08-20T12:32:37.534350395",
          "2024-08-20T12:32:37.598179579",
          "2024-08-20T12:32:37.665997982",
          "2024-08-20T12:32:37.730824471",
          "2024-08-20T12:32:37.793656349",
          "2024-08-20T12:32:37.855490446",
          "2024-08-20T12:32:37.923312902",
          "2024-08-20T12:32:37.984147787",
          "2024-08-20T12:32:38.045563459",
          "2024-08-20T12:32:38.111385584",
          "2024-08-20T12:32:38.179205894",
          "2024-08-20T12:32:38.238048077",
          "2024-08-20T12:32:38.304870605",
          "2024-08-20T12:32:38.370692492",
          "2024-08-20T12:32:38.430532455",
          "2024-08-20T12:32:38.496356726",
          "2024-08-20T12:32:38.569162130",
          "2024-08-20T12:32:38.633988142",
          "2024-08-20T12:32:38.691833019",
          "2024-08-20T12:32:38.750226259",
          "2024-08-20T12:32:38.815091372",
          "2024-08-20T12:32:38.885902166",
          "2024-08-20T12:32:38.943747044",
          "2024-08-20T12:32:39.007613659",
          "2024-08-20T12:32:39.073400497",
          "2024-08-20T12:32:39.143213987",
          "2024-08-20T12:32:39.201062202",
          "2024-08-20T12:32:39.264887571",
          "2024-08-20T12:32:39.331712246"
         ],
         "xaxis": "x",
         "y": {
          "bdata": "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",
          "dtype": "f8"
         },
         "yaxis": "y"
        },
        {
         "line": {
          "color": "green",
          "width": 2
         },
         "marker": {
          "color": "green",
          "size": 4
         },
         "mode": "lines+markers",
         "name": "Net Y Position",
         "showlegend": false,
         "type": "scatter",
         "x": [
          "2024-08-20T12:31:31.621807575",
          "2024-08-20T12:31:31.681648731",
          "2024-08-20T12:31:31.742511034",
          "2024-08-20T12:31:31.818883181",
          "2024-08-20T12:31:31.874155045",
          "2024-08-20T12:31:31.937494755",
          "2024-08-20T12:31:31.999329090",
          "2024-08-20T12:31:32.063158035",
          "2024-08-20T12:31:32.130053520",
          "2024-08-20T12:31:32.191398144",
          "2024-08-20T12:31:32.254230738",
          "2024-08-20T12:31:32.318058729",
          "2024-08-20T12:31:32.395849943",
          "2024-08-20T12:31:32.445717096",
          "2024-08-20T12:31:32.511543512",
          "2024-08-20T12:31:32.576503515",
          "2024-08-20T12:31:32.637341022",
          "2024-08-20T12:31:32.702203035",
          "2024-08-20T12:31:32.768987656",
          "2024-08-20T12:31:32.829861403",
          "2024-08-20T12:31:32.894687653",
          "2024-08-20T12:31:32.962601185",
          "2024-08-20T12:31:33.025435448",
          "2024-08-20T12:31:33.088264227",
          "2024-08-20T12:31:33.151147127",
          "2024-08-20T12:31:33.218916655",
          "2024-08-20T12:31:33.280750036",
          "2024-08-20T12:31:33.342585087",
          "2024-08-20T12:31:33.407411814",
          "2024-08-20T12:31:33.484754801",
          "2024-08-20T12:31:33.533624887",
          "2024-08-20T12:31:33.610753059",
          "2024-08-20T12:31:33.671589851",
          "2024-08-20T12:31:33.730820179",
          "2024-08-20T12:31:33.790660143",
          "2024-08-20T12:31:33.854523897",
          "2024-08-20T12:31:33.919317245",
          "2024-08-20T12:31:33.984568357",
          "2024-08-20T12:31:34.048381805",
          "2024-08-20T12:31:34.117199183",
          "2024-08-20T12:31:34.183008671",
          "2024-08-20T12:31:34.237861395",
          "2024-08-20T12:31:34.303685427",
          "2024-08-20T12:31:34.367515802",
          "2024-08-20T12:31:34.431509018",
          "2024-08-20T12:31:34.508416414",
          "2024-08-20T12:31:34.565290689",
          "2024-08-20T12:31:34.624107361",
          "2024-08-20T12:31:34.686995983",
          "2024-08-20T12:31:34.749772310",
          "2024-08-20T12:31:34.822613001",
          "2024-08-20T12:31:34.882473946",
          "2024-08-20T12:31:34.943256378",
          "2024-08-20T12:31:35.006085634",
          "2024-08-20T12:31:35.075951576",
          "2024-08-20T12:31:35.139728308",
          "2024-08-20T12:31:35.197573662",
          "2024-08-20T12:31:35.264425278",
          "2024-08-20T12:31:35.328751326",
          "2024-08-20T12:31:35.404547215",
          "2024-08-20T12:31:35.454563379",
          "2024-08-20T12:31:35.522747992",
          "2024-08-20T12:31:35.597547531",
          "2024-08-20T12:31:35.666362762",
          "2024-08-20T12:31:35.716230869",
          "2024-08-20T12:31:35.779061317",
          "2024-08-20T12:31:35.839905977",
          "2024-08-20T12:31:35.902730942",
          "2024-08-20T12:31:35.968554974",
          "2024-08-20T12:31:36.034378290",
          "2024-08-20T12:31:36.146079779",
          "2024-08-20T12:31:36.202927351",
          "2024-08-20T12:31:36.253791808",
          "2024-08-20T12:31:36.310640812",
          "2024-08-20T12:31:36.362536430",
          "2024-08-20T12:31:36.415360451",
          "2024-08-20T12:31:36.612915516",
          "2024-08-20T12:31:36.629870653",
          "2024-08-20T12:31:36.686092138",
          "2024-08-20T12:31:36.731478691",
          "2024-08-20T12:31:36.792353392",
          "2024-08-20T12:31:36.835259199",
          "2024-08-20T12:31:36.882076502",
          "2024-08-20T12:31:36.930180311",
          "2024-08-20T12:31:36.995010138",
          "2024-08-20T12:31:37.057901382",
          "2024-08-20T12:31:37.120796442",
          "2024-08-20T12:31:37.190546751",
          "2024-08-20T12:31:37.245904446",
          "2024-08-20T12:31:37.310695887",
          "2024-08-20T12:31:37.375525713",
          "2024-08-20T12:31:37.443047285",
          "2024-08-20T12:31:37.501889229",
          "2024-08-20T12:31:37.570401907",
          "2024-08-20T12:31:37.634161472",
          "2024-08-20T12:31:37.698097229",
          "2024-08-20T12:31:37.760633230",
          "2024-08-20T12:31:37.822077274",
          "2024-08-20T12:31:37.890928745",
          "2024-08-20T12:31:37.950802088",
          "2024-08-20T12:31:38.016170025",
          "2024-08-20T12:31:38.079568386",
          "2024-08-20T12:31:38.144387484",
          "2024-08-20T12:31:38.206281900",
          "2024-08-20T12:31:38.272046804",
          "2024-08-20T12:31:38.335875273",
          "2024-08-20T12:31:38.399709225",
          "2024-08-20T12:31:38.464562416",
          "2024-08-20T12:31:38.526404619",
          "2024-08-20T12:31:38.595264912",
          "2024-08-20T12:31:38.654108047",
          "2024-08-20T12:31:38.719931841",
          "2024-08-20T12:31:38.783764362",
          "2024-08-20T12:31:38.857566357",
          "2024-08-20T12:31:38.911419630",
          "2024-08-20T12:31:38.976246357",
          "2024-08-20T12:31:39.042104006",
          "2024-08-20T12:31:39.101980925",
          "2024-08-20T12:31:39.166769743",
          "2024-08-20T12:31:39.232593060",
          "2024-08-20T12:31:39.297420025",
          "2024-08-20T12:31:39.361249447",
          "2024-08-20T12:31:39.423182011",
          "2024-08-20T12:31:39.490002155",
          "2024-08-20T12:31:39.549880981",
          "2024-08-20T12:31:39.614220381",
          "2024-08-20T12:31:39.680010796",
          "2024-08-20T12:31:39.748333454",
          "2024-08-20T12:31:39.812162876",
          "2024-08-20T12:31:39.877536774",
          "2024-08-20T12:31:40.073243380",
          "2024-08-20T12:31:40.086207151",
          "2024-08-20T12:31:40.148041010",
          "2024-08-20T12:31:40.191923618",
          "2024-08-20T12:31:40.237802505",
          "2024-08-20T12:31:40.300632715",
          "2024-08-20T12:31:40.345512867",
          "2024-08-20T12:31:40.391391993",
          "2024-08-20T12:31:40.451229811",
          "2024-08-20T12:31:40.517088412",
          "2024-08-20T12:31:40.581882000",
          "2024-08-20T12:31:40.639754295",
          "2024-08-20T12:31:40.703556538",
          "2024-08-20T12:31:40.769875050",
          "2024-08-20T12:31:40.833705902",
          "2024-08-20T12:31:40.910538912",
          "2024-08-20T12:31:40.974536657",
          "2024-08-20T12:31:41.029807091",
          "2024-08-20T12:31:41.085696697",
          "2024-08-20T12:31:41.153585434",
          "2024-08-20T12:31:41.224370241",
          "2024-08-20T12:31:41.289196968",
          "2024-08-20T12:31:41.349036694",
          "2024-08-20T12:31:41.405884266",
          "2024-08-20T12:31:41.472689152",
          "2024-08-20T12:31:41.540507078",
          "2024-08-20T12:31:41.601395369",
          "2024-08-20T12:31:41.668616772",
          "2024-08-20T12:31:41.727491379",
          "2024-08-20T12:31:41.791326761",
          "2024-08-20T12:31:41.859107018",
          "2024-08-20T12:31:41.926977396",
          "2024-08-20T12:31:41.982784510",
          "2024-08-20T12:31:42.058573484",
          "2024-08-20T12:31:42.111595631",
          "2024-08-20T12:31:42.179451942",
          "2024-08-20T12:31:42.239253283",
          "2024-08-20T12:31:42.305081129",
          "2024-08-20T12:31:42.369940758",
          "2024-08-20T12:31:42.492574692",
          "2024-08-20T12:31:42.547464371",
          "2024-08-20T12:31:42.607268095",
          "2024-08-20T12:31:42.656136990",
          "2024-08-20T12:31:42.714980364",
          "2024-08-20T12:31:42.763849974",
          "2024-08-20T12:31:42.821695328",
          "2024-08-20T12:31:42.879108429",
          "2024-08-20T12:31:42.943912029",
          "2024-08-20T12:31:43.009702921",
          "2024-08-20T12:31:43.071511984",
          "2024-08-20T12:31:43.133901834",
          "2024-08-20T12:31:43.203717709",
          "2024-08-20T12:31:43.261597157",
          "2024-08-20T12:31:43.326387167",
          "2024-08-20T12:31:43.394617081",
          "2024-08-20T12:31:43.464424372",
          "2024-08-20T12:31:43.518105029",
          "2024-08-20T12:31:43.583888292",
          "2024-08-20T12:31:43.646115065",
          "2024-08-20T12:31:43.712907553",
          "2024-08-20T12:31:43.773782730",
          "2024-08-20T12:31:43.840597391",
          "2024-08-20T12:31:43.906425953",
          "2024-08-20T12:31:43.967237234",
          "2024-08-20T12:31:44.030067205",
          "2024-08-20T12:31:44.103466988",
          "2024-08-20T12:31:44.162308455",
          "2024-08-20T12:31:44.223145008",
          "2024-08-20T12:31:44.291014671",
          "2024-08-20T12:31:44.349857092",
          "2024-08-20T12:31:44.415681124",
          "2024-08-20T12:31:44.479695797",
          "2024-08-20T12:31:44.542475224",
          "2024-08-20T12:31:44.613296270",
          "2024-08-20T12:31:44.672163725",
          "2024-08-20T12:31:44.734963417",
          "2024-08-20T12:31:44.800783157",
          "2024-08-20T12:31:44.875235319",
          "2024-08-20T12:31:44.934039116",
          "2024-08-20T12:31:44.991886139",
          "2024-08-20T12:31:45.054715633",
          "2024-08-20T12:31:45.123562574",
          "2024-08-20T12:31:45.184406042",
          "2024-08-20T12:31:45.253189325",
          "2024-08-20T12:31:45.314022064",
          "2024-08-20T12:31:45.391814232",
          "2024-08-20T12:31:45.503517866",
          "2024-08-20T12:31:45.563381672",
          "2024-08-20T12:31:45.625192165",
          "2024-08-20T12:31:45.689467907",
          "2024-08-20T12:31:45.743281364",
          "2024-08-20T12:31:45.799130917",
          "2024-08-20T12:31:45.849994183",
          "2024-08-20T12:31:45.911336899",
          "2024-08-20T12:31:45.973172188",
          "2024-08-20T12:31:46.031045198",
          "2024-08-20T12:31:46.077892065",
          "2024-08-20T12:31:46.141758204",
          "2024-08-20T12:31:46.209540129",
          "2024-08-20T12:31:46.271375179",
          "2024-08-20T12:31:46.336202383",
          "2024-08-20T12:31:46.402061224",
          "2024-08-20T12:31:46.463126421",
          "2024-08-20T12:31:46.525985479",
          "2024-08-20T12:31:46.593837023",
          "2024-08-20T12:31:46.663606167",
          "2024-08-20T12:31:46.721510649",
          "2024-08-20T12:31:46.782323599",
          "2024-08-20T12:31:46.850108624",
          "2024-08-20T12:31:46.921957970",
          "2024-08-20T12:31:46.977843285",
          "2024-08-20T12:31:47.038705826",
          "2024-08-20T12:31:47.102475882",
          "2024-08-20T12:31:47.169295788",
          "2024-08-20T12:31:47.230172157",
          "2024-08-20T12:31:47.304938078",
          "2024-08-20T12:31:47.368804932",
          "2024-08-20T12:31:47.427606583",
          "2024-08-20T12:31:47.491471767",
          "2024-08-20T12:31:47.555302143",
          "2024-08-20T12:31:47.623177528",
          "2024-08-20T12:31:47.811676741",
          "2024-08-20T12:31:47.827633619",
          "2024-08-20T12:31:47.877500534",
          "2024-08-20T12:31:47.938337326",
          "2024-08-20T12:31:47.984474659",
          "2024-08-20T12:31:48.027358532",
          "2024-08-20T12:31:48.088195324",
          "2024-08-20T12:31:48.136068344",
          "2024-08-20T12:31:48.191809654",
          "2024-08-20T12:31:48.256190538",
          "2024-08-20T12:31:48.321072102",
          "2024-08-20T12:31:48.382852077",
          "2024-08-20T12:31:48.445721865",
          "2024-08-20T12:31:48.511081219",
          "2024-08-20T12:31:48.576905251",
          "2024-08-20T12:31:48.638738394",
          "2024-08-20T12:31:48.701770544",
          "2024-08-20T12:31:48.774565697",
          "2024-08-20T12:31:48.831388712",
          "2024-08-20T12:31:48.893730640",
          "2024-08-20T12:31:48.961057901",
          "2024-08-20T12:31:49.028914213",
          "2024-08-20T12:31:49.090711117",
          "2024-08-20T12:31:49.154539824",
          "2024-08-20T12:31:49.213383436",
          "2024-08-20T12:31:49.279206991",
          "2024-08-20T12:31:49.345029116",
          "2024-08-20T12:31:49.405867100",
          "2024-08-20T12:31:49.473721266",
          "2024-08-20T12:31:49.545494080",
          "2024-08-20T12:31:49.602399588",
          "2024-08-20T12:31:49.663179159",
          "2024-08-20T12:31:49.729102612",
          "2024-08-20T12:31:49.791011810",
          "2024-08-20T12:31:49.853843212",
          "2024-08-20T12:31:49.919657946",
          "2024-08-20T12:31:49.983487844",
          "2024-08-20T12:31:50.046319723",
          "2024-08-20T12:31:50.110692024",
          "2024-08-20T12:31:50.174520016",
          "2024-08-20T12:31:50.238417864",
          "2024-08-20T12:31:50.303511620",
          "2024-08-20T12:31:50.366343737",
          "2024-08-20T12:31:50.432175159",
          "2024-08-20T12:31:50.505977631",
          "2024-08-20T12:31:50.560830355",
          "2024-08-20T12:31:50.670942068",
          "2024-08-20T12:31:50.726747036",
          "2024-08-20T12:31:50.789601564",
          "2024-08-20T12:31:50.825510979",
          "2024-08-20T12:31:50.890295744",
          "2024-08-20T12:31:50.943155289",
          "2024-08-20T12:31:51.012972832",
          "2024-08-20T12:31:51.074837446",
          "2024-08-20T12:31:51.134642601",
          "2024-08-20T12:31:51.200467348",
          "2024-08-20T12:31:51.273272991",
          "2024-08-20T12:31:51.336102962",
          "2024-08-20T12:31:51.389957905",
          "2024-08-20T12:31:51.454820395",
          "2024-08-20T12:31:51.517674922",
          "2024-08-20T12:31:51.586463928",
          "2024-08-20T12:31:51.646686554",
          "2024-08-20T12:31:51.712054014",
          "2024-08-20T12:31:51.782867193",
          "2024-08-20T12:31:51.838715792",
          "2024-08-20T12:31:51.903051376",
          "2024-08-20T12:31:51.967877626",
          "2024-08-20T12:31:52.030061007",
          "2024-08-20T12:31:52.102158070",
          "2024-08-20T12:31:52.168978691",
          "2024-08-20T12:31:52.222800970",
          "2024-08-20T12:31:52.292626858",
          "2024-08-20T12:31:52.351458549",
          "2024-08-20T12:31:52.418277025",
          "2024-08-20T12:31:52.481150866",
          "2024-08-20T12:31:52.541553497",
          "2024-08-20T12:31:52.606345415",
          "2024-08-20T12:31:52.673228025",
          "2024-08-20T12:31:52.735998154",
          "2024-08-20T12:31:52.798882484",
          "2024-08-20T12:31:52.862711668",
          "2024-08-20T12:31:52.927570105",
          "2024-08-20T12:31:52.990370035",
          "2024-08-20T12:31:53.070696592",
          "2024-08-20T12:31:53.131572007",
          "2024-08-20T12:31:53.195363998",
          "2024-08-20T12:31:53.245267153",
          "2024-08-20T12:31:53.310670376",
          "2024-08-20T12:31:53.375495911",
          "2024-08-20T12:31:53.440849304",
          "2024-08-20T12:31:53.502685069",
          "2024-08-20T12:31:53.581473112",
          "2024-08-20T12:31:53.671237707",
          "2024-08-20T12:31:53.730012655",
          "2024-08-20T12:31:53.778313637",
          "2024-08-20T12:31:53.833030939",
          "2024-08-20T12:31:53.893876076",
          "2024-08-20T12:31:53.949759483",
          "2024-08-20T12:31:54.014583826",
          "2024-08-20T12:31:54.080477238",
          "2024-08-20T12:31:54.146250486",
          "2024-08-20T12:31:54.208119631",
          "2024-08-20T12:31:54.272945881",
          "2024-08-20T12:31:54.337438822",
          "2024-08-20T12:31:54.401267767",
          "2024-08-20T12:31:54.464104652",
          "2024-08-20T12:31:54.525992393",
          "2024-08-20T12:31:54.604726553",
          "2024-08-20T12:31:54.660574675",
          "2024-08-20T12:31:54.717456818",
          "2024-08-20T12:31:54.788233280",
          "2024-08-20T12:31:54.846078873",
          "2024-08-20T12:31:54.909790993",
          "2024-08-20T12:31:54.976554394",
          "2024-08-20T12:31:55.039385557",
          "2024-08-20T12:31:55.105245590",
          "2024-08-20T12:31:55.171085119",
          "2024-08-20T12:31:55.230873108",
          "2024-08-20T12:31:55.299697399",
          "2024-08-20T12:31:55.362556934",
          "2024-08-20T12:31:55.429852486",
          "2024-08-20T12:31:55.490688562",
          "2024-08-20T12:31:55.549531460",
          "2024-08-20T12:31:55.615355253",
          "2024-08-20T12:31:55.682177305",
          "2024-08-20T12:31:55.744011879",
          "2024-08-20T12:31:55.807841063",
          "2024-08-20T12:31:55.870673656",
          "2024-08-20T12:31:55.949462414",
          "2024-08-20T12:31:56.003352642",
          "2024-08-20T12:31:56.067021132",
          "2024-08-20T12:31:56.125862597",
          "2024-08-20T12:31:56.193681240",
          "2024-08-20T12:31:56.253522635",
          "2024-08-20T12:31:56.318383694",
          "2024-08-20T12:31:56.386166811",
          "2024-08-20T12:31:56.448000908",
          "2024-08-20T12:31:56.512829065",
          "2024-08-20T12:31:56.583638668",
          "2024-08-20T12:31:56.640494585",
          "2024-08-20T12:31:56.703325510",
          "2024-08-20T12:31:56.767193556",
          "2024-08-20T12:31:56.835482836",
          "2024-08-20T12:31:56.902304649",
          "2024-08-20T12:31:56.962438345",
          "2024-08-20T12:31:57.025873184",
          "2024-08-20T12:31:57.087665081",
          "2024-08-20T12:31:57.154531956",
          "2024-08-20T12:31:57.214373350",
          "2024-08-20T12:31:57.293160200",
          "2024-08-20T12:31:57.345025063",
          "2024-08-20T12:31:57.412839890",
          "2024-08-20T12:31:57.473701954",
          "2024-08-20T12:31:57.534539223",
          "2024-08-20T12:31:57.604353428",
          "2024-08-20T12:31:57.663195133",
          "2024-08-20T12:31:57.726027727",
          "2024-08-20T12:31:57.791850805",
          "2024-08-20T12:31:57.855682135",
          "2024-08-20T12:31:57.919509649",
          "2024-08-20T12:31:57.984847546",
          "2024-08-20T12:31:58.048672438",
          "2024-08-20T12:31:58.114497423",
          "2024-08-20T12:31:58.232179642",
          "2024-08-20T12:31:58.303023338",
          "2024-08-20T12:31:58.362874031",
          "2024-08-20T12:31:58.422821522",
          "2024-08-20T12:31:58.476673603",
          "2024-08-20T12:31:58.501605749",
          "2024-08-20T12:31:58.569931507",
          "2024-08-20T12:31:58.628283978",
          "2024-08-20T12:31:58.687161207",
          "2024-08-20T12:31:58.754455805",
          "2024-08-20T12:31:58.874644995",
          "2024-08-20T12:31:58.942510366",
          "2024-08-20T12:31:59.005335093",
          "2024-08-20T12:31:59.067801952",
          "2024-08-20T12:31:59.130631208",
          "2024-08-20T12:31:59.181493998",
          "2024-08-20T12:31:59.239844561",
          "2024-08-20T12:31:59.299728394",
          "2024-08-20T12:31:59.346602917",
          "2024-08-20T12:31:59.392479658",
          "2024-08-20T12:31:59.455312490",
          "2024-08-20T12:31:59.519181966",
          "2024-08-20T12:31:59.584981441",
          "2024-08-20T12:31:59.647796392",
          "2024-08-20T12:31:59.710932016",
          "2024-08-20T12:31:59.783735514",
          "2024-08-20T12:31:59.839586020",
          "2024-08-20T12:31:59.903450012",
          "2024-08-20T12:31:59.966248512",
          "2024-08-20T12:32:00.031110048",
          "2024-08-20T12:32:00.101887941",
          "2024-08-20T12:32:00.159729958",
          "2024-08-20T12:32:00.222562075",
          "2024-08-20T12:32:00.287391663",
          "2024-08-20T12:32:00.352120399",
          "2024-08-20T12:32:00.413935184",
          "2024-08-20T12:32:00.478729010",
          "2024-08-20T12:32:00.542225122",
          "2024-08-20T12:32:00.610045195",
          "2024-08-20T12:32:00.671614647",
          "2024-08-20T12:32:00.735095501",
          "2024-08-20T12:32:00.799942493",
          "2024-08-20T12:32:00.863315344",
          "2024-08-20T12:32:00.928106546",
          "2024-08-20T12:32:01.008890390",
          "2024-08-20T12:32:01.070760727",
          "2024-08-20T12:32:01.117598772",
          "2024-08-20T12:32:01.181464672",
          "2024-08-20T12:32:01.245420218",
          "2024-08-20T12:32:01.314198017",
          "2024-08-20T12:32:01.377030849",
          "2024-08-20T12:32:01.439896584",
          "2024-08-20T12:32:01.512666941",
          "2024-08-20T12:32:01.589461088",
          "2024-08-20T12:32:01.634341002",
          "2024-08-20T12:32:01.695178032",
          "2024-08-20T12:32:01.761003256",
          "2024-08-20T12:32:01.821839809",
          "2024-08-20T12:32:01.885703325",
          "2024-08-20T12:32:01.950496435",
          "2024-08-20T12:32:02.016355275",
          "2024-08-20T12:32:02.079560041",
          "2024-08-20T12:32:02.147934437",
          "2024-08-20T12:32:02.205846548",
          "2024-08-20T12:32:02.270641804",
          "2024-08-20T12:32:02.344480515",
          "2024-08-20T12:32:02.461406469",
          "2024-08-20T12:32:02.517229556",
          "2024-08-20T12:32:02.564082146",
          "2024-08-20T12:32:02.629870892",
          "2024-08-20T12:32:02.699684858",
          "2024-08-20T12:32:02.746571541",
          "2024-08-20T12:32:02.795462847",
          "2024-08-20T12:32:02.853273153",
          "2024-08-20T12:32:02.914112091",
          "2024-08-20T12:32:02.973954678",
          "2024-08-20T12:32:03.051743984",
          "2024-08-20T12:32:03.102615833",
          "2024-08-20T12:32:03.168430090",
          "2024-08-20T12:32:03.248250484",
          "2024-08-20T12:32:03.296088934",
          "2024-08-20T12:32:03.361934662",
          "2024-08-20T12:32:03.423750877",
          "2024-08-20T12:32:03.487687349",
          "2024-08-20T12:32:03.550518513",
          "2024-08-20T12:32:03.618339300",
          "2024-08-20T12:32:03.692140341",
          "2024-08-20T12:32:03.742039919",
          "2024-08-20T12:32:03.805836201",
          "2024-08-20T12:32:03.872937918",
          "2024-08-20T12:32:03.934771776",
          "2024-08-20T12:32:04.138708115",
          "2024-08-20T12:32:04.162652016",
          "2024-08-20T12:32:04.215462923",
          "2024-08-20T12:32:04.261340141",
          "2024-08-20T12:32:04.305223465",
          "2024-08-20T12:32:04.367092133",
          "2024-08-20T12:32:04.410940409",
          "2024-08-20T12:32:04.457854271",
          "2024-08-20T12:32:04.517654896",
          "2024-08-20T12:32:04.580527544",
          "2024-08-20T12:32:04.637335539",
          "2024-08-20T12:32:04.706151247",
          "2024-08-20T12:32:04.765990496",
          "2024-08-20T12:32:04.830850601",
          "2024-08-20T12:32:04.894646168",
          "2024-08-20T12:32:04.958475590",
          "2024-08-20T12:32:05.028358459",
          "2024-08-20T12:32:05.090869427",
          "2024-08-20T12:32:05.155694008",
          "2024-08-20T12:32:05.220520258",
          "2024-08-20T12:32:05.280360222",
          "2024-08-20T12:32:05.344203472",
          "2024-08-20T12:32:05.416617870",
          "2024-08-20T12:32:05.473434925",
          "2024-08-20T12:32:05.533270836",
          "2024-08-20T12:32:05.599692583",
          "2024-08-20T12:32:05.668574572",
          "2024-08-20T12:32:05.727350950",
          "2024-08-20T12:32:05.791183472",
          "2024-08-20T12:32:05.854014158",
          "2024-08-20T12:32:05.924823761",
          "2024-08-20T12:32:05.983665466",
          "2024-08-20T12:32:06.046497345",
          "2024-08-20T12:32:06.113318920",
          "2024-08-20T12:32:06.185126543",
          "2024-08-20T12:32:06.244966507",
          "2024-08-20T12:32:06.305804491",
          "2024-08-20T12:32:06.427478552",
          "2024-08-20T12:32:06.476348162",
          "2024-08-20T12:32:06.519232987",
          "2024-08-20T12:32:06.580214500",
          "2024-08-20T12:32:06.640358686",
          "2024-08-20T12:32:06.689215422",
          "2024-08-20T12:32:06.750109673",
          "2024-08-20T12:32:06.817869663",
          "2024-08-20T12:32:06.883101940",
          "2024-08-20T12:32:06.941977024",
          "2024-08-20T12:32:07.051910162",
          "2024-08-20T12:32:07.107870817",
          "2024-08-20T12:32:07.159778595",
          "2024-08-20T12:32:07.225763559",
          "2024-08-20T12:32:07.280441046",
          "2024-08-20T12:32:07.327314854",
          "2024-08-20T12:32:07.392040730",
          "2024-08-20T12:32:07.453844547",
          "2024-08-20T12:32:07.519663572",
          "2024-08-20T12:32:07.585496664",
          "2024-08-20T12:32:07.646383524",
          "2024-08-20T12:32:07.712150097",
          "2024-08-20T12:32:07.776016474",
          "2024-08-20T12:32:07.839809179",
          "2024-08-20T12:32:07.902639627",
          "2024-08-20T12:32:07.965471029",
          "2024-08-20T12:32:08.032032250",
          "2024-08-20T12:32:08.093867064",
          "2024-08-20T12:32:08.167701006",
          "2024-08-20T12:32:08.227540970",
          "2024-08-20T12:32:08.295396090",
          "2024-08-20T12:32:08.349215508",
          "2024-08-20T12:32:08.416072607",
          "2024-08-20T12:32:08.480871439",
          "2024-08-20T12:32:08.542946577",
          "2024-08-20T12:32:08.606839895",
          "2024-08-20T12:32:08.670669317",
          "2024-08-20T12:32:08.748494625",
          "2024-08-20T12:32:08.810294867",
          "2024-08-20T12:32:08.870174646",
          "2024-08-20T12:32:08.929901600",
          "2024-08-20T12:32:08.990741253",
          "2024-08-20T12:32:09.054567575",
          "2024-08-20T12:32:09.119748592",
          "2024-08-20T12:32:09.183618307",
          "2024-08-20T12:32:09.246409178",
          "2024-08-20T12:32:09.310237885",
          "2024-08-20T12:32:09.376274586",
          "2024-08-20T12:32:09.444119215",
          "2024-08-20T12:32:09.505930185",
          "2024-08-20T12:32:09.570753813",
          "2024-08-20T12:32:09.633613825",
          "2024-08-20T12:32:09.695421457",
          "2024-08-20T12:32:09.758251190",
          "2024-08-20T12:32:09.823078632",
          "2024-08-20T12:32:09.892893553",
          "2024-08-20T12:32:09.950737238",
          "2024-08-20T12:32:10.014777422",
          "2024-08-20T12:32:10.086585045",
          "2024-08-20T12:32:10.141972303",
          "2024-08-20T12:32:10.210790157",
          "2024-08-20T12:32:10.270623446",
          "2024-08-20T12:32:10.334451199",
          "2024-08-20T12:32:10.401107311",
          "2024-08-20T12:32:10.475941658",
          "2024-08-20T12:32:10.526770592",
          "2024-08-20T12:32:10.592339277",
          "2024-08-20T12:32:10.654148579",
          "2024-08-20T12:32:10.718975782",
          "2024-08-20T12:32:10.782802105",
          "2024-08-20T12:32:10.848627567",
          "2024-08-20T12:32:10.910460711",
          "2024-08-20T12:32:10.977282286",
          "2024-08-20T12:32:11.039152861",
          "2024-08-20T12:32:11.103947401",
          "2024-08-20T12:32:11.167773247",
          "2024-08-20T12:32:11.229755402",
          "2024-08-20T12:32:11.300566435",
          "2024-08-20T12:32:11.360479593",
          "2024-08-20T12:32:11.429301023",
          "2024-08-20T12:32:11.491092443",
          "2024-08-20T12:32:11.549935341",
          "2024-08-20T12:32:11.614765167",
          "2024-08-20T12:32:11.678591490",
          "2024-08-20T12:32:11.881561279",
          "2024-08-20T12:32:11.898514748",
          "2024-08-20T12:32:11.957359314",
          "2024-08-20T12:32:12.000243187",
          "2024-08-20T12:32:12.059998989",
          "2024-08-20T12:32:12.107871294",
          "2024-08-20T12:32:12.150756359",
          "2024-08-20T12:32:12.212984085",
          "2024-08-20T12:32:12.266843080",
          "2024-08-20T12:32:12.333659649",
          "2024-08-20T12:32:12.400614738",
          "2024-08-20T12:32:12.452477217",
          "2024-08-20T12:32:12.509835005",
          "2024-08-20T12:32:12.584639788",
          "2024-08-20T12:32:12.639522791",
          "2024-08-20T12:32:12.704347134",
          "2024-08-20T12:32:12.766216516",
          "2024-08-20T12:32:12.831049442",
          "2024-08-20T12:32:12.897837639",
          "2024-08-20T12:32:12.957735538",
          "2024-08-20T12:32:13.023500681",
          "2024-08-20T12:32:13.087365866",
          "2024-08-20T12:32:13.162170649",
          "2024-08-20T12:32:13.215023041",
          "2024-08-20T12:32:13.280812502",
          "2024-08-20T12:32:13.341650486",
          "2024-08-20T12:32:13.405478477",
          "2024-08-20T12:32:13.470162392",
          "2024-08-20T12:32:13.536520719",
          "2024-08-20T12:32:13.601319313",
          "2024-08-20T12:32:13.662052870",
          "2024-08-20T12:32:13.725847721",
          "2024-08-20T12:32:13.791673660",
          "2024-08-20T12:32:13.853515148",
          "2024-08-20T12:32:13.930917978",
          "2024-08-20T12:32:13.993786335",
          "2024-08-20T12:32:14.059574604",
          "2024-08-20T12:32:14.110471010",
          "2024-08-20T12:32:14.175262690",
          "2024-08-20T12:32:14.239600658",
          "2024-08-20T12:32:14.304803610",
          "2024-08-20T12:32:14.370627165",
          "2024-08-20T12:32:14.430467367",
          "2024-08-20T12:32:14.494708300",
          "2024-08-20T12:32:14.558565378",
          "2024-08-20T12:32:14.631342411",
          "2024-08-20T12:32:14.685559273",
          "2024-08-20T12:32:14.750857830",
          "2024-08-20T12:32:14.813715219",
          "2024-08-20T12:32:14.879512548",
          "2024-08-20T12:32:14.945337057",
          "2024-08-20T12:32:15.009166241",
          "2024-08-20T12:32:15.070513248",
          "2024-08-20T12:32:15.136845350",
          "2024-08-20T12:32:15.243623495",
          "2024-08-20T12:32:15.292493105",
          "2024-08-20T12:32:15.336418152",
          "2024-08-20T12:32:15.403240204",
          "2024-08-20T12:32:15.460046530",
          "2024-08-20T12:32:15.519924878",
          "2024-08-20T12:32:15.582721472",
          "2024-08-20T12:32:15.646606445",
          "2024-08-20T12:32:15.718358517",
          "2024-08-20T12:32:15.777199030",
          "2024-08-20T12:32:15.840064526",
          "2024-08-20T12:32:15.907848120",
          "2024-08-20T12:32:15.965693712",
          "2024-08-20T12:32:16.031555175",
          "2024-08-20T12:32:16.096345186",
          "2024-08-20T12:32:16.159226656",
          "2024-08-20T12:32:16.222518921",
          "2024-08-20T12:32:16.286342859",
          "2024-08-20T12:32:16.351169825",
          "2024-08-20T12:32:16.413003683",
          "2024-08-20T12:32:16.480856419",
          "2024-08-20T12:32:16.542655945",
          "2024-08-20T12:32:16.610476255",
          "2024-08-20T12:32:16.670314550",
          "2024-08-20T12:32:16.734145641",
          "2024-08-20T12:32:16.799000502",
          "2024-08-20T12:32:16.881431103",
          "2024-08-20T12:32:16.929389238",
          "2024-08-20T12:32:16.989288330",
          "2024-08-20T12:32:17.056051016",
          "2024-08-20T12:32:17.117888451",
          "2024-08-20T12:32:17.183228970",
          "2024-08-20T12:32:17.246451139",
          "2024-08-20T12:32:17.311335325",
          "2024-08-20T12:32:17.374109983",
          "2024-08-20T12:32:17.440968990",
          "2024-08-20T12:32:17.502764702",
          "2024-08-20T12:32:17.568790674",
          "2024-08-20T12:32:17.629988670",
          "2024-08-20T12:32:17.707792282",
          "2024-08-20T12:32:17.769598246",
          "2024-08-20T12:32:17.823451996",
          "2024-08-20T12:32:17.886348248",
          "2024-08-20T12:32:17.957094431",
          "2024-08-20T12:32:18.015938759",
          "2024-08-20T12:32:18.084788322",
          "2024-08-20T12:32:18.142599106",
          "2024-08-20T12:32:18.207425594",
          "2024-08-20T12:32:18.270257473",
          "2024-08-20T12:32:18.335122108",
          "2024-08-20T12:32:18.399975538",
          "2024-08-20T12:32:18.470842600",
          "2024-08-20T12:32:18.525648832",
          "2024-08-20T12:32:18.590513945",
          "2024-08-20T12:32:18.657296419",
          "2024-08-20T12:32:18.718192339",
          "2024-08-20T12:32:18.782960415",
          "2024-08-20T12:32:18.847694159",
          "2024-08-20T12:32:18.910487652",
          "2024-08-20T12:32:18.975023031",
          "2024-08-20T12:32:19.037863016",
          "2024-08-20T12:32:19.103645325",
          "2024-08-20T12:32:19.172459364",
          "2024-08-20T12:32:19.240307093",
          "2024-08-20T12:32:19.297124147",
          "2024-08-20T12:32:19.359956264",
          "2024-08-20T12:32:19.425780773",
          "2024-08-20T12:32:19.623049498",
          "2024-08-20T12:32:19.641996622",
          "2024-08-20T12:32:19.698847055",
          "2024-08-20T12:32:19.756545067",
          "2024-08-20T12:32:19.804416180",
          "2024-08-20T12:32:19.850294828",
          "2024-08-20T12:32:19.894176245",
          "2024-08-20T12:32:19.955012321",
          "2024-08-20T12:32:20.001924038",
          "2024-08-20T12:32:20.070703506",
          "2024-08-20T12:32:20.132539988",
          "2024-08-20T12:32:20.191419840",
          "2024-08-20T12:32:20.262194872",
          "2024-08-20T12:32:20.322516203",
          "2024-08-20T12:32:20.387259722",
          "2024-08-20T12:32:20.446102619",
          "2024-08-20T12:32:20.520902157",
          "2024-08-20T12:32:20.584731817",
          "2024-08-20T12:32:20.653100014",
          "2024-08-20T12:32:20.706911802",
          "2024-08-20T12:32:20.771246910",
          "2024-08-20T12:32:20.832086563",
          "2024-08-20T12:32:20.895421505",
          "2024-08-20T12:32:20.959251165",
          "2024-08-20T12:32:21.024112225",
          "2024-08-20T12:32:21.086937666",
          "2024-08-20T12:32:21.150739670",
          "2024-08-20T12:32:21.215182066",
          "2024-08-20T12:32:21.288241148",
          "2024-08-20T12:32:21.342065573",
          "2024-08-20T12:32:21.407263279",
          "2024-08-20T12:32:21.483011246",
          "2024-08-20T12:32:21.532878399",
          "2024-08-20T12:32:21.599734306",
          "2024-08-20T12:32:21.667518377",
          "2024-08-20T12:32:21.730396748",
          "2024-08-20T12:32:21.791186571",
          "2024-08-20T12:32:21.855018854",
          "2024-08-20T12:32:21.920847893",
          "2024-08-20T12:32:21.982674122",
          "2024-08-20T12:32:22.189171791",
          "2024-08-20T12:32:22.202137947",
          "2024-08-20T12:32:22.256990194",
          "2024-08-20T12:32:22.320201874",
          "2024-08-20T12:32:22.365945339",
          "2024-08-20T12:32:22.409827948",
          "2024-08-20T12:32:22.457733631",
          "2024-08-20T12:32:22.516542673",
          "2024-08-20T12:32:22.564417124",
          "2024-08-20T12:32:22.622356653",
          "2024-08-20T12:32:22.687514067",
          "2024-08-20T12:32:22.750309229",
          "2024-08-20T12:32:22.818037748",
          "2024-08-20T12:32:22.886855364",
          "2024-08-20T12:32:22.941748381",
          "2024-08-20T12:32:23.005697012",
          "2024-08-20T12:32:23.077054977",
          "2024-08-20T12:32:23.133903503",
          "2024-08-20T12:32:23.235785723",
          "2024-08-20T12:32:23.298555374",
          "2024-08-20T12:32:23.360395193",
          "2024-08-20T12:32:23.415242434",
          "2024-08-20T12:32:23.455136061",
          "2024-08-20T12:32:23.520959139",
          "2024-08-20T12:32:23.591769695",
          "2024-08-20T12:32:23.645626307",
          "2024-08-20T12:32:23.709454775",
          "2024-08-20T12:32:23.781263590",
          "2024-08-20T12:32:23.837112904",
          "2024-08-20T12:32:23.903935671",
          "2024-08-20T12:32:23.965770245",
          "2024-08-20T12:32:24.034584522",
          "2024-08-20T12:32:24.102404833",
          "2024-08-20T12:32:24.158255816",
          "2024-08-20T12:32:24.223082304",
          "2024-08-20T12:32:24.300907373",
          "2024-08-20T12:32:24.357778549",
          "2024-08-20T12:32:24.416562796",
          "2024-08-20T12:32:24.479396105",
          "2024-08-20T12:32:24.543224573",
          "2024-08-20T12:32:24.606056452",
          "2024-08-20T12:32:24.671190023",
          "2024-08-20T12:32:24.737014294",
          "2024-08-20T12:32:24.801352024",
          "2024-08-20T12:32:24.864221811",
          "2024-08-20T12:32:24.932000160",
          "2024-08-20T12:32:24.992837667",
          "2024-08-20T12:32:25.054672956",
          "2024-08-20T12:32:25.118500710",
          "2024-08-20T12:32:25.195301294",
          "2024-08-20T12:32:25.253140926",
          "2024-08-20T12:32:25.311498642",
          "2024-08-20T12:32:25.375326633",
          "2024-08-20T12:32:25.440153599",
          "2024-08-20T12:32:25.641125202",
          "2024-08-20T12:32:25.657083750",
          "2024-08-20T12:32:25.720910788",
          "2024-08-20T12:32:25.765789747",
          "2024-08-20T12:32:25.811667442",
          "2024-08-20T12:32:25.873502493",
          "2024-08-20T12:32:25.917384863",
          "2024-08-20T12:32:25.965266705",
          "2024-08-20T12:32:26.015124083",
          "2024-08-20T12:32:26.081945181",
          "2024-08-20T12:32:26.143970490",
          "2024-08-20T12:32:26.207308531",
          "2024-08-20T12:32:26.277124882",
          "2024-08-20T12:32:26.335473299",
          "2024-08-20T12:32:26.399356604",
          "2024-08-20T12:32:26.469116211",
          "2024-08-20T12:32:26.526027203",
          "2024-08-20T12:32:26.599806547",
          "2024-08-20T12:32:26.662598610",
          "2024-08-20T12:32:26.719447613",
          "2024-08-20T12:32:26.787300110",
          "2024-08-20T12:32:26.846109152",
          "2024-08-20T12:32:26.909974575",
          "2024-08-20T12:32:26.982742786",
          "2024-08-20T12:32:27.039618492",
          "2024-08-20T12:32:27.109428883",
          "2024-08-20T12:32:27.168270826",
          "2024-08-20T12:32:27.244070053",
          "2024-08-20T12:32:27.300915718",
          "2024-08-20T12:32:27.358763456",
          "2024-08-20T12:32:27.430572271",
          "2024-08-20T12:32:27.495396614",
          "2024-08-20T12:32:27.552243471",
          "2024-08-20T12:32:27.618986607",
          "2024-08-20T12:32:27.679826498",
          "2024-08-20T12:32:27.744651794",
          "2024-08-20T12:32:27.811474085",
          "2024-08-20T12:32:27.871311665",
          "2024-08-20T12:32:27.938232660",
          "2024-08-20T12:32:28.007043123",
          "2024-08-20T12:32:28.066883086",
          "2024-08-20T12:32:28.126723528",
          "2024-08-20T12:32:28.193597555",
          "2024-08-20T12:32:28.260417461",
          "2024-08-20T12:32:28.320315361",
          "2024-08-20T12:32:28.384086132",
          "2024-08-20T12:32:28.446953297",
          "2024-08-20T12:32:28.518725634",
          "2024-08-20T12:32:28.576572895",
          "2024-08-20T12:32:28.641489267",
          "2024-08-20T12:32:28.702045441",
          "2024-08-20T12:32:28.767858028",
          "2024-08-20T12:32:28.830724716",
          "2024-08-20T12:32:28.896514893",
          "2024-08-20T12:32:28.961437941",
          "2024-08-20T12:32:29.023036718",
          "2024-08-20T12:32:29.086858511",
          "2024-08-20T12:32:29.150660276",
          "2024-08-20T12:32:29.214490175",
          "2024-08-20T12:32:29.280347824",
          "2024-08-20T12:32:29.347641230",
          "2024-08-20T12:32:29.408477068",
          "2024-08-20T12:32:29.473303795",
          "2024-08-20T12:32:29.534140825",
          "2024-08-20T12:32:29.603953600",
          "2024-08-20T12:32:29.662796974",
          "2024-08-20T12:32:29.728660822",
          "2024-08-20T12:32:29.829075098",
          "2024-08-20T12:32:29.855006218",
          "2024-08-20T12:32:29.918835640",
          "2024-08-20T12:32:29.984659910",
          "2024-08-20T12:32:30.048488617",
          "2024-08-20T12:32:30.111320496",
          "2024-08-20T12:32:30.174177170",
          "2024-08-20T12:32:30.241478205",
          "2024-08-20T12:32:30.304310322",
          "2024-08-20T12:32:30.367180586",
          "2024-08-20T12:32:30.433924198",
          "2024-08-20T12:32:30.496754646",
          "2024-08-20T12:32:30.561550379",
          "2024-08-20T12:32:30.623412132",
          "2024-08-20T12:32:30.686249495",
          "2024-08-20T12:32:30.753970623",
          "2024-08-20T12:32:30.815323591",
          "2024-08-20T12:32:30.879150867",
          "2024-08-20T12:32:30.955455780",
          "2024-08-20T12:32:31.006345749",
          "2024-08-20T12:32:31.084110022",
          "2024-08-20T12:32:31.133013964",
          "2024-08-20T12:32:31.203535080",
          "2024-08-20T12:32:31.271354437",
          "2024-08-20T12:32:31.326326847",
          "2024-08-20T12:32:31.408055782",
          "2024-08-20T12:32:31.458920002",
          "2024-08-20T12:32:31.552667856",
          "2024-08-20T12:32:31.591563702",
          "2024-08-20T12:32:31.650408030",
          "2024-08-20T12:32:31.710282564",
          "2024-08-20T12:32:31.776070833",
          "2024-08-20T12:32:31.837939978",
          "2024-08-20T12:32:31.907718420",
          "2024-08-20T12:32:31.973545551",
          "2024-08-20T12:32:32.030505180",
          "2024-08-20T12:32:32.096329927",
          "2024-08-20T12:32:32.159909010",
          "2024-08-20T12:32:32.223783493",
          "2024-08-20T12:32:32.285617352",
          "2024-08-20T12:32:32.355093002",
          "2024-08-20T12:32:32.423932314",
          "2024-08-20T12:32:32.477780581",
          "2024-08-20T12:32:32.545111179",
          "2024-08-20T12:32:32.610616684",
          "2024-08-20T12:32:32.672452688",
          "2024-08-20T12:32:32.738783121",
          "2024-08-20T12:32:32.800617695",
          "2024-08-20T12:32:32.862452507",
          "2024-08-20T12:32:32.927278280",
          "2024-08-20T12:32:32.991107702",
          "2024-08-20T12:32:33.061918974",
          "2024-08-20T12:32:33.117813110",
          "2024-08-20T12:32:33.183628321",
          "2024-08-20T12:32:33.247426987",
          "2024-08-20T12:32:33.313245773",
          "2024-08-20T12:32:33.376078844",
          "2024-08-20T12:32:33.437913418",
          "2024-08-20T12:32:33.507761955",
          "2024-08-20T12:32:33.566568375",
          "2024-08-20T12:32:33.630432606",
          "2024-08-20T12:32:33.696256876",
          "2024-08-20T12:32:33.763337374",
          "2024-08-20T12:32:33.823216915",
          "2024-08-20T12:32:33.886786699",
          "2024-08-20T12:32:33.951614380",
          "2024-08-20T12:32:34.019431353",
          "2024-08-20T12:32:34.080267668",
          "2024-08-20T12:32:34.142103195",
          "2024-08-20T12:32:34.208925486",
          "2024-08-20T12:32:34.270759106",
          "2024-08-20T12:32:34.334587574",
          "2024-08-20T12:32:34.409389973",
          "2024-08-20T12:32:34.463746071",
          "2024-08-20T12:32:34.525631427",
          "2024-08-20T12:32:34.590441942",
          "2024-08-20T12:32:34.672589302",
          "2024-08-20T12:32:34.718495369",
          "2024-08-20T12:32:34.784605265",
          "2024-08-20T12:32:34.845502377",
          "2024-08-20T12:32:34.915297985",
          "2024-08-20T12:32:34.976535082",
          "2024-08-20T12:32:35.038368940",
          "2024-08-20T12:32:35.101213455",
          "2024-08-20T12:32:35.170028687",
          "2024-08-20T12:32:35.229869604",
          "2024-08-20T12:32:35.296691179",
          "2024-08-20T12:32:35.365506649",
          "2024-08-20T12:32:35.421391964",
          "2024-08-20T12:32:35.489713669",
          "2024-08-20T12:32:35.550548553",
          "2024-08-20T12:32:35.615374088",
          "2024-08-20T12:32:35.679830551",
          "2024-08-20T12:32:35.741671562",
          "2024-08-20T12:32:35.821450710",
          "2024-08-20T12:32:35.875407696",
          "2024-08-20T12:32:35.934213400",
          "2024-08-20T12:32:35.999787569",
          "2024-08-20T12:32:36.072578192",
          "2024-08-20T12:32:36.127431630",
          "2024-08-20T12:32:36.198305845",
          "2024-08-20T12:32:36.259132385",
          "2024-08-20T12:32:36.320932627",
          "2024-08-20T12:32:36.381804943",
          "2024-08-20T12:32:36.446623564",
          "2024-08-20T12:32:36.520399332",
          "2024-08-20T12:32:36.578244925",
          "2024-08-20T12:32:36.646062136",
          "2024-08-20T12:32:36.707958698",
          "2024-08-20T12:32:36.768796206",
          "2024-08-20T12:32:36.829632759",
          "2024-08-20T12:32:36.895457745",
          "2024-08-20T12:32:36.961305380",
          "2024-08-20T12:32:37.027129889",
          "2024-08-20T12:32:37.094947815",
          "2024-08-20T12:32:37.150824547",
          "2024-08-20T12:32:37.228126764",
          "2024-08-20T12:32:37.278991222",
          "2024-08-20T12:32:37.345320702",
          "2024-08-20T12:32:37.412676811",
          "2024-08-20T12:32:37.476505041",
          "2024-08-20T12:32:37.534350395",
          "2024-08-20T12:32:37.598179579",
          "2024-08-20T12:32:37.665997982",
          "2024-08-20T12:32:37.730824471",
          "2024-08-20T12:32:37.793656349",
          "2024-08-20T12:32:37.855490446",
          "2024-08-20T12:32:37.923312902",
          "2024-08-20T12:32:37.984147787",
          "2024-08-20T12:32:38.045563459",
          "2024-08-20T12:32:38.111385584",
          "2024-08-20T12:32:38.179205894",
          "2024-08-20T12:32:38.238048077",
          "2024-08-20T12:32:38.304870605",
          "2024-08-20T12:32:38.370692492",
          "2024-08-20T12:32:38.430532455",
          "2024-08-20T12:32:38.496356726",
          "2024-08-20T12:32:38.569162130",
          "2024-08-20T12:32:38.633988142",
          "2024-08-20T12:32:38.691833019",
          "2024-08-20T12:32:38.750226259",
          "2024-08-20T12:32:38.815091372",
          "2024-08-20T12:32:38.885902166",
          "2024-08-20T12:32:38.943747044",
          "2024-08-20T12:32:39.007613659",
          "2024-08-20T12:32:39.073400497",
          "2024-08-20T12:32:39.143213987",
          "2024-08-20T12:32:39.201062202",
          "2024-08-20T12:32:39.264887571",
          "2024-08-20T12:32:39.331712246"
         ],
         "xaxis": "x2",
         "y": {
          "bdata": "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",
          "dtype": "f8"
         },
         "yaxis": "y2"
        }
       ],
       "layout": {
        "annotations": [
         {
          "font": {
           "size": 16
          },
          "showarrow": false,
          "text": "Net X Position Over Time (Centroid: -1.93 m)",
          "x": 0.5,
          "xanchor": "center",
          "xref": "paper",
          "y": 1,
          "yanchor": "bottom",
          "yref": "paper"
         },
         {
          "font": {
           "size": 16
          },
          "showarrow": false,
          "text": "Net Y Position Over Time (Centroid: -0.35 m)",
          "x": 0.5,
          "xanchor": "center",
          "xref": "paper",
          "y": 0.375,
          "yanchor": "bottom",
          "yref": "paper"
         },
         {
          "showarrow": false,
          "text": "Centroid: -1.93 m",
          "x": 1,
          "xanchor": "right",
          "xref": "x domain",
          "y": -1.9309880363564949,
          "yanchor": "bottom",
          "yref": "y"
         },
         {
          "showarrow": false,
          "text": "Centroid: -0.35 m",
          "x": 1,
          "xanchor": "right",
          "xref": "x2 domain",
          "y": -0.3516844496515637,
          "yanchor": "bottom",
          "yref": "y2"
         }
        ],
        "height": 600,
        "shapes": [
         {
          "line": {
           "color": "red",
           "dash": "dash"
          },
          "type": "line",
          "x0": 0,
          "x1": 1,
          "xref": "x domain",
          "y0": -1.9309880363564949,
          "y1": -1.9309880363564949,
          "yref": "y"
         },
         {
          "line": {
           "color": "red",
           "dash": "dash"
          },
          "type": "line",
          "x0": 0,
          "x1": 1,
          "xref": "x2 domain",
          "y0": -0.3516844496515637,
          "y1": -0.3516844496515637,
          "yref": "y2"
         }
        ],
        "showlegend": false,
        "template": {
         "data": {
          "bar": [
           {
            "error_x": {
             "color": "#2a3f5f"
            },
            "error_y": {
             "color": "#2a3f5f"
            },
            "marker": {
             "line": {
              "color": "#E5ECF6",
              "width": 0.5
             },
             "pattern": {
              "fillmode": "overlay",
              "size": 10,
              "solidity": 0.2
             }
            },
            "type": "bar"
           }
          ],
          "barpolar": [
           {
            "marker": {
             "line": {
              "color": "#E5ECF6",
              "width": 0.5
             },
             "pattern": {
              "fillmode": "overlay",
              "size": 10,
              "solidity": 0.2
             }
            },
            "type": "barpolar"
           }
          ],
          "carpet": [
           {
            "aaxis": {
             "endlinecolor": "#2a3f5f",
             "gridcolor": "white",
             "linecolor": "white",
             "minorgridcolor": "white",
             "startlinecolor": "#2a3f5f"
            },
            "baxis": {
             "endlinecolor": "#2a3f5f",
             "gridcolor": "white",
             "linecolor": "white",
             "minorgridcolor": "white",
             "startlinecolor": "#2a3f5f"
            },
            "type": "carpet"
           }
          ],
          "choropleth": [
           {
            "colorbar": {
             "outlinewidth": 0,
             "ticks": ""
            },
            "type": "choropleth"
           }
          ],
          "contour": [
           {
            "colorbar": {
             "outlinewidth": 0,
             "ticks": ""
            },
            "colorscale": [
             [
              0,
              "#0d0887"
             ],
             [
              0.1111111111111111,
              "#46039f"
             ],
             [
              0.2222222222222222,
              "#7201a8"
             ],
             [
              0.3333333333333333,
              "#9c179e"
             ],
             [
              0.4444444444444444,
              "#bd3786"
             ],
             [
              0.5555555555555556,
              "#d8576b"
             ],
             [
              0.6666666666666666,
              "#ed7953"
             ],
             [
              0.7777777777777778,
              "#fb9f3a"
             ],
             [
              0.8888888888888888,
              "#fdca26"
             ],
             [
              1,
              "#f0f921"
             ]
            ],
            "type": "contour"
           }
          ],
          "contourcarpet": [
           {
            "colorbar": {
             "outlinewidth": 0,
             "ticks": ""
            },
            "type": "contourcarpet"
           }
          ],
          "heatmap": [
           {
            "colorbar": {
             "outlinewidth": 0,
             "ticks": ""
            },
            "colorscale": [
             [
              0,
              "#0d0887"
             ],
             [
              0.1111111111111111,
              "#46039f"
             ],
             [
              0.2222222222222222,
              "#7201a8"
             ],
             [
              0.3333333333333333,
              "#9c179e"
             ],
             [
              0.4444444444444444,
              "#bd3786"
             ],
             [
              0.5555555555555556,
              "#d8576b"
             ],
             [
              0.6666666666666666,
              "#ed7953"
             ],
             [
              0.7777777777777778,
              "#fb9f3a"
             ],
             [
              0.8888888888888888,
              "#fdca26"
             ],
             [
              1,
              "#f0f921"
             ]
            ],
            "type": "heatmap"
           }
          ],
          "histogram": [
           {
            "marker": {
             "pattern": {
              "fillmode": "overlay",
              "size": 10,
              "solidity": 0.2
             }
            },
            "type": "histogram"
           }
          ],
          "histogram2d": [
           {
            "colorbar": {
             "outlinewidth": 0,
             "ticks": ""
            },
            "colorscale": [
             [
              0,
              "#0d0887"
             ],
             [
              0.1111111111111111,
              "#46039f"
             ],
             [
              0.2222222222222222,
              "#7201a8"
             ],
             [
              0.3333333333333333,
              "#9c179e"
             ],
             [
              0.4444444444444444,
              "#bd3786"
             ],
             [
              0.5555555555555556,
              "#d8576b"
             ],
             [
              0.6666666666666666,
              "#ed7953"
             ],
             [
              0.7777777777777778,
              "#fb9f3a"
             ],
             [
              0.8888888888888888,
              "#fdca26"
             ],
             [
              1,
              "#f0f921"
             ]
            ],
            "type": "histogram2d"
           }
          ],
          "histogram2dcontour": [
           {
            "colorbar": {
             "outlinewidth": 0,
             "ticks": ""
            },
            "colorscale": [
             [
              0,
              "#0d0887"
             ],
             [
              0.1111111111111111,
              "#46039f"
             ],
             [
              0.2222222222222222,
              "#7201a8"
             ],
             [
              0.3333333333333333,
              "#9c179e"
             ],
             [
              0.4444444444444444,
              "#bd3786"
             ],
             [
              0.5555555555555556,
              "#d8576b"
             ],
             [
              0.6666666666666666,
              "#ed7953"
             ],
             [
              0.7777777777777778,
              "#fb9f3a"
             ],
             [
              0.8888888888888888,
              "#fdca26"
             ],
             [
              1,
              "#f0f921"
             ]
            ],
            "type": "histogram2dcontour"
           }
          ],
          "mesh3d": [
           {
            "colorbar": {
             "outlinewidth": 0,
             "ticks": ""
            },
            "type": "mesh3d"
           }
          ],
          "parcoords": [
           {
            "line": {
             "colorbar": {
              "outlinewidth": 0,
              "ticks": ""
             }
            },
            "type": "parcoords"
           }
          ],
          "pie": [
           {
            "automargin": true,
            "type": "pie"
           }
          ],
          "scatter": [
           {
            "fillpattern": {
             "fillmode": "overlay",
             "size": 10,
             "solidity": 0.2
            },
            "type": "scatter"
           }
          ],
          "scatter3d": [
           {
            "line": {
             "colorbar": {
              "outlinewidth": 0,
              "ticks": ""
             }
            },
            "marker": {
             "colorbar": {
              "outlinewidth": 0,
              "ticks": ""
             }
            },
            "type": "scatter3d"
           }
          ],
          "scattercarpet": [
           {
            "marker": {
             "colorbar": {
              "outlinewidth": 0,
              "ticks": ""
             }
            },
            "type": "scattercarpet"
           }
          ],
          "scattergeo": [
           {
            "marker": {
             "colorbar": {
              "outlinewidth": 0,
              "ticks": ""
             }
            },
            "type": "scattergeo"
           }
          ],
          "scattergl": [
           {
            "marker": {
             "colorbar": {
              "outlinewidth": 0,
              "ticks": ""
             }
            },
            "type": "scattergl"
           }
          ],
          "scattermap": [
           {
            "marker": {
             "colorbar": {
              "outlinewidth": 0,
              "ticks": ""
             }
            },
            "type": "scattermap"
           }
          ],
          "scattermapbox": [
           {
            "marker": {
             "colorbar": {
              "outlinewidth": 0,
              "ticks": ""
             }
            },
            "type": "scattermapbox"
           }
          ],
          "scatterpolar": [
           {
            "marker": {
             "colorbar": {
              "outlinewidth": 0,
              "ticks": ""
             }
            },
            "type": "scatterpolar"
           }
          ],
          "scatterpolargl": [
           {
            "marker": {
             "colorbar": {
              "outlinewidth": 0,
              "ticks": ""
             }
            },
            "type": "scatterpolargl"
           }
          ],
          "scatterternary": [
           {
            "marker": {
             "colorbar": {
              "outlinewidth": 0,
              "ticks": ""
             }
            },
            "type": "scatterternary"
           }
          ],
          "surface": [
           {
            "colorbar": {
             "outlinewidth": 0,
             "ticks": ""
            },
            "colorscale": [
             [
              0,
              "#0d0887"
             ],
             [
              0.1111111111111111,
              "#46039f"
             ],
             [
              0.2222222222222222,
              "#7201a8"
             ],
             [
              0.3333333333333333,
              "#9c179e"
             ],
             [
              0.4444444444444444,
              "#bd3786"
             ],
             [
              0.5555555555555556,
              "#d8576b"
             ],
             [
              0.6666666666666666,
              "#ed7953"
             ],
             [
              0.7777777777777778,
              "#fb9f3a"
             ],
             [
              0.8888888888888888,
              "#fdca26"
             ],
             [
              1,
              "#f0f921"
             ]
            ],
            "type": "surface"
           }
          ],
          "table": [
           {
            "cells": {
             "fill": {
              "color": "#EBF0F8"
             },
             "line": {
              "color": "white"
             }
            },
            "header": {
             "fill": {
              "color": "#C8D4E3"
             },
             "line": {
              "color": "white"
             }
            },
            "type": "table"
           }
          ]
         },
         "layout": {
          "annotationdefaults": {
           "arrowcolor": "#2a3f5f",
           "arrowhead": 0,
           "arrowwidth": 1
          },
          "autotypenumbers": "strict",
          "coloraxis": {
           "colorbar": {
            "outlinewidth": 0,
            "ticks": ""
           }
          },
          "colorscale": {
           "diverging": [
            [
             0,
             "#8e0152"
            ],
            [
             0.1,
             "#c51b7d"
            ],
            [
             0.2,
             "#de77ae"
            ],
            [
             0.3,
             "#f1b6da"
            ],
            [
             0.4,
             "#fde0ef"
            ],
            [
             0.5,
             "#f7f7f7"
            ],
            [
             0.6,
             "#e6f5d0"
            ],
            [
             0.7,
             "#b8e186"
            ],
            [
             0.8,
             "#7fbc41"
            ],
            [
             0.9,
             "#4d9221"
            ],
            [
             1,
             "#276419"
            ]
           ],
           "sequential": [
            [
             0,
             "#0d0887"
            ],
            [
             0.1111111111111111,
             "#46039f"
            ],
            [
             0.2222222222222222,
             "#7201a8"
            ],
            [
             0.3333333333333333,
             "#9c179e"
            ],
            [
             0.4444444444444444,
             "#bd3786"
            ],
            [
             0.5555555555555556,
             "#d8576b"
            ],
            [
             0.6666666666666666,
             "#ed7953"
            ],
            [
             0.7777777777777778,
             "#fb9f3a"
            ],
            [
             0.8888888888888888,
             "#fdca26"
            ],
            [
             1,
             "#f0f921"
            ]
           ],
           "sequentialminus": [
            [
             0,
             "#0d0887"
            ],
            [
             0.1111111111111111,
             "#46039f"
            ],
            [
             0.2222222222222222,
             "#7201a8"
            ],
            [
             0.3333333333333333,
             "#9c179e"
            ],
            [
             0.4444444444444444,
             "#bd3786"
            ],
            [
             0.5555555555555556,
             "#d8576b"
            ],
            [
             0.6666666666666666,
             "#ed7953"
            ],
            [
             0.7777777777777778,
             "#fb9f3a"
            ],
            [
             0.8888888888888888,
             "#fdca26"
            ],
            [
             1,
             "#f0f921"
            ]
           ]
          },
          "colorway": [
           "#636efa",
           "#EF553B",
           "#00cc96",
           "#ab63fa",
           "#FFA15A",
           "#19d3f3",
           "#FF6692",
           "#B6E880",
           "#FF97FF",
           "#FECB52"
          ],
          "font": {
           "color": "#2a3f5f"
          },
          "geo": {
           "bgcolor": "white",
           "lakecolor": "white",
           "landcolor": "#E5ECF6",
           "showlakes": true,
           "showland": true,
           "subunitcolor": "white"
          },
          "hoverlabel": {
           "align": "left"
          },
          "hovermode": "closest",
          "mapbox": {
           "style": "light"
          },
          "paper_bgcolor": "white",
          "plot_bgcolor": "#E5ECF6",
          "polar": {
           "angularaxis": {
            "gridcolor": "white",
            "linecolor": "white",
            "ticks": ""
           },
           "bgcolor": "#E5ECF6",
           "radialaxis": {
            "gridcolor": "white",
            "linecolor": "white",
            "ticks": ""
           }
          },
          "scene": {
           "xaxis": {
            "backgroundcolor": "#E5ECF6",
            "gridcolor": "white",
            "gridwidth": 2,
            "linecolor": "white",
            "showbackground": true,
            "ticks": "",
            "zerolinecolor": "white"
           },
           "yaxis": {
            "backgroundcolor": "#E5ECF6",
            "gridcolor": "white",
            "gridwidth": 2,
            "linecolor": "white",
            "showbackground": true,
            "ticks": "",
            "zerolinecolor": "white"
           },
           "zaxis": {
            "backgroundcolor": "#E5ECF6",
            "gridcolor": "white",
            "gridwidth": 2,
            "linecolor": "white",
            "showbackground": true,
            "ticks": "",
            "zerolinecolor": "white"
           }
          },
          "shapedefaults": {
           "line": {
            "color": "#2a3f5f"
           }
          },
          "ternary": {
           "aaxis": {
            "gridcolor": "white",
            "linecolor": "white",
            "ticks": ""
           },
           "baxis": {
            "gridcolor": "white",
            "linecolor": "white",
            "ticks": ""
           },
           "bgcolor": "#E5ECF6",
           "caxis": {
            "gridcolor": "white",
            "linecolor": "white",
            "ticks": ""
           }
          },
          "title": {
           "x": 0.05
          },
          "xaxis": {
           "automargin": true,
           "gridcolor": "white",
           "linecolor": "white",
           "ticks": "",
           "title": {
            "standoff": 15
           },
           "zerolinecolor": "white",
           "zerolinewidth": 2
          },
          "yaxis": {
           "automargin": true,
           "gridcolor": "white",
           "linecolor": "white",
           "ticks": "",
           "title": {
            "standoff": 15
           },
           "zerolinecolor": "white",
           "zerolinewidth": 2
          }
         }
        },
        "title": {
         "text": "Net Position Estimates Over Time<br>Detection Rate: 100.0% | Consistency (STD): 0.39 m"
        },
        "xaxis": {
         "anchor": "y",
         "domain": [
          0,
          1
         ],
         "matches": "x2",
         "showticklabels": false
        },
        "xaxis2": {
         "anchor": "y2",
         "domain": [
          0,
          1
         ],
         "title": {
          "text": "Time"
         }
        },
        "yaxis": {
         "anchor": "x",
         "domain": [
          0.625,
          1
         ],
         "title": {
          "text": "X Position (m)"
         }
        },
        "yaxis2": {
         "anchor": "x2",
         "domain": [
          0,
          0.375
         ],
         "title": {
          "text": "Y Position (m)"
         }
        }
       }
      }
     },
     "metadata": {},
     "output_type": "display_data"
    },
    {
     "name": "stdout",
     "output_type": "stream",
     "text": [
      "Visualization shows 1059 successful detections\n",
      "Net position centroid: (-1.93, -0.35) m\n"
     ]
    }
   ],
   "source": [
    "# Create focused visualization of net position over time\n",
    "fig = create_net_position_visualization(combined_df, consistency_stats)\n",
    "\n",
    "# Display the figure\n",
    "fig.show()\n",
    "\n",
    "# Optional: Save the figure as HTML\n",
    "# fig.write_html(f\"{TARGET_BAG}_net_position_over_time.html\")\n",
    "# print(f\"Visualization saved as {TARGET_BAG}_net_position_over_time.html\")\n",
    "\n",
    "print(f\"Visualization shows {len(combined_df[combined_df['detection_success']])} successful detections\")\n",
    "print(f\"Net position centroid: ({consistency_stats['net_centroid_x']:.2f}, {consistency_stats['net_centroid_y']:.2f}) m\")"
   ]
  },
  {
   "cell_type": "code",
   "execution_count": 9,
   "id": "239c4434",
   "metadata": {},
   "outputs": [
    {
     "name": "stdout",
     "output_type": "stream",
     "text": [
      "✓ Complete analysis results saved to: /Volumes/LaCie/SOLAQUA/exports/outputs/2024-08-20_14-31-29_net_position_analysis_complete.csv\n",
      "✓ Analysis statistics saved to: /Volumes/LaCie/SOLAQUA/exports/outputs/2024-08-20_14-31-29_net_position_stats.json\n",
      "\n",
      "=== ANALYSIS COMPLETE ===\n",
      "Processed 1059 frames with 100.0% detection rate\n",
      "Net estimated at world coordinates: (-1.93, -0.35) m\n",
      "Position consistency (STD): 0.39 m\n"
     ]
    }
   ],
   "source": [
    "# Save complete analysis results to CSV\n",
    "output_file = EXPORTS_FOLDER / \"outputs\" / f\"{TARGET_BAG}_net_position_analysis_complete.csv\"\n",
    "\n",
    "# Create outputs directory if it doesn't exist\n",
    "output_file.parent.mkdir(parents=True, exist_ok=True)\n",
    "\n",
    "# Save the combined dataframe with all analysis results\n",
    "combined_df.to_csv(output_file, index=False)\n",
    "print(f\"✓ Complete analysis results saved to: {output_file}\")\n",
    "\n",
    "# Also save consistency statistics as a separate summary file\n",
    "stats_file = EXPORTS_FOLDER / \"outputs\" / f\"{TARGET_BAG}_net_position_stats.json\"\n",
    "\n",
    "import json\n",
    "with open(stats_file, 'w') as f:\n",
    "    # Convert numpy types to native Python types for JSON serialization\n",
    "    json_stats = {k: float(v) if isinstance(v, (np.floating, np.integer)) else v\n",
    "                  for k, v in consistency_stats.items()}\n",
    "    json.dump(json_stats, f, indent=2)\n",
    "\n",
    "print(f\"✓ Analysis statistics saved to: {stats_file}\")\n",
    "\n",
    "print(\"\\n=== ANALYSIS COMPLETE ===\")\n",
    "print(f\"Processed {len(combined_df)} frames with {consistency_stats['detection_rate']:.1f}% detection rate\")\n",
    "print(f\"Net estimated at world coordinates: ({consistency_stats['net_centroid_x']:.2f}, {consistency_stats['net_centroid_y']:.2f}) m\")\n",
    "print(f\"Position consistency (STD): {consistency_stats['position_std_m']:.2f} m\")"
   ]
  },
  {
   "cell_type": "code",
   "execution_count": 10,
   "id": "bd659808",
   "metadata": {},
   "outputs": [
    {
     "name": "stdout",
     "output_type": "stream",
     "text": [
      "=== COMPREHENSIVE POSITION COMPARISON ===\n",
      "Using utility functions for frame-by-frame synchronization\n",
      "=== COMPLETE POSITION COMPARISON PIPELINE ===\n",
      "Synchronizing 1059 sonar frames with DVL data...\n",
      "✓ Successfully synchronized 1054 frame pairs\n",
      "\n",
      "=== POSITION COMPARISON RESULTS ===\n",
      "Synchronized frames: 1054\n",
      "Mean sync tolerance: 0.036s\n",
      "\n",
      "ANGLE CORRECTION:\n",
      "  Raw sonar angles:      190.0 ± 15.3°\n",
      "  Corrected sonar angles: 10.0 ± 15.3°\n",
      "  DVL angles:            5.5 ± 13.5°\n",
      "\n",
      "POSITION COMPARISON:\n",
      "  DVL net position X:    0.171 ± 0.446 m\n",
      "  DVL net position Y:    1.946 ± 0.374 m\n",
      "  Sonar net position X:  0.363 ± 0.583 m\n",
      "  Sonar net position Y:  1.922 ± 0.257 m\n",
      "\n",
      "POSITION AGREEMENT:\n",
      "  X position agreement (<0.5m):     916/1054 (86.9%)\n",
      "  Y position agreement (<0.5m):     943/1054 (89.5%)\n",
      "  Total position agreement (<1.0m):  935/1054 (88.7%)\n",
      "✓ Synchronized data saved to: /Volumes/LaCie/SOLAQUA/exports/outputs/2024-08-20_14-31-29_position_comparison_sync.csv\n",
      "✓ Statistics saved to: /Volumes/LaCie/SOLAQUA/exports/outputs/2024-08-20_14-31-29_position_comparison_stats.json\n",
      "✓ Successfully synchronized 1054 frame pairs\n",
      "\n",
      "=== POSITION COMPARISON RESULTS ===\n",
      "Synchronized frames: 1054\n",
      "Mean sync tolerance: 0.036s\n",
      "\n",
      "ANGLE CORRECTION:\n",
      "  Raw sonar angles:      190.0 ± 15.3°\n",
      "  Corrected sonar angles: 10.0 ± 15.3°\n",
      "  DVL angles:            5.5 ± 13.5°\n",
      "\n",
      "POSITION COMPARISON:\n",
      "  DVL net position X:    0.171 ± 0.446 m\n",
      "  DVL net position Y:    1.946 ± 0.374 m\n",
      "  Sonar net position X:  0.363 ± 0.583 m\n",
      "  Sonar net position Y:  1.922 ± 0.257 m\n",
      "\n",
      "POSITION AGREEMENT:\n",
      "  X position agreement (<0.5m):     916/1054 (86.9%)\n",
      "  Y position agreement (<0.5m):     943/1054 (89.5%)\n",
      "  Total position agreement (<1.0m):  935/1054 (88.7%)\n",
      "✓ Synchronized data saved to: /Volumes/LaCie/SOLAQUA/exports/outputs/2024-08-20_14-31-29_position_comparison_sync.csv\n",
      "✓ Statistics saved to: /Volumes/LaCie/SOLAQUA/exports/outputs/2024-08-20_14-31-29_position_comparison_stats.json\n"
     ]
    },
    {
     "data": {
      "application/vnd.plotly.v1+json": {
       "config": {
        "plotlyServerURL": "https://plot.ly"
       },
       "data": [
        {
         "line": {
          "color": "red",
          "width": 2
         },
         "marker": {
          "size": 4
         },
         "mode": "lines+markers",
         "name": "Sonar X",
         "type": "scatter",
         "x": {
          "bdata": "AAABAAIAAwAEAAUABgAHAAgACQAKAAsADAANAA4ADwAQABEAEgATABQAFQAWABcAGAAZABoAGwAcAB0AHgAfACAAIQAiACMAJAAlACYAJwAoACkAKgArACwALQAuAC8AMAAxADIAMwA0ADUANgA3ADgAOQA6ADsAPAA9AD4APwBAAEEAQgBDAEQARQBGAEcASABJAEoASwBMAE0ATgBPAFAAUQBSAFMAVABVAFYAVwBYAFkAWgBbAFwAXQBeAF8AYABhAGIAYwBkAGUAZgBnAGgAaQBqAGsAbABtAG4AbwBwAHEAcgBzAHQAdQB2AHcAeAB5AHoAewB8AH0AfgB/AIAAgQCCAIMAhACFAIYAhwCIAIkAigCLAIwAjQCOAI8AkACRAJIAkwCUAJUAlgCXAJgAmQCaAJsAnACdAJ4AnwCgAKEAogCjAKQApQCmAKcAqACpAKoAqwCsAK0ArgCvALAAsQCyALMAtAC1ALYAtwC4ALkAugC7ALwAvQC+AL8AwADBAMIAwwDEAMUAxgDHAMgAyQDKAMsAzADNAM4AzwDQANEA0gDTANQA1QDWANcA2ADZANoA2wDcAN0A3gDfAOAA4QDiAOMA5ADlAOYA5wDoAOkA6gDrAOwA7QDuAO8A8ADxAPIA8wD0APUA9gD3APgA+QD6APsA/AD9AP4A/wAAAQEBAgEDAQQBBQEGAQcBCAEJAQoBCwEMAQ0BDgEPARABEQESARMBFAEVARYBFwEYARkBGgEbARwBHQEeAR8BIAEhASIBIwEkASUBJgEnASgBKQEqASsBLAEtAS4BLwEwATEBMgEzATQBNQE2ATcBOAE5AToBOwE8AT0BPgE/AUABQQFCAUMBRAFFAUYBRwFIAUkBSgFLAUwBTQFOAU8BUAFRAVIBUwFUAVUBVgFXAVgBWQFaAVsBXAFdAV4BXwFgAWEBYgFjAWQBZQFmAWcBaAFpAWoBawFsAW0BbgFvAXABcQFyAXMBdAF1AXYBdwF4AXkBegF7AXwBfQF+AX8BgAGBAYIBgwGEAYUBhgGHAYgBiQGKAYsBjAGNAY4BjwGQAZEBkgGTAZQBlQGWAZcBmAGZAZoBmwGcAZ0BngGfAaABoQGiAaMBpAGlAaYBpwGoAakBqgGrAawBrQGuAa8BsAGxAbIBswG0AbUBtgG3AbgBuQG6AbsBvAG9Ab4BvwHAAcEBwgHDAcQBxQHGAccByAHJAcoBywHMAc0BzgHPAdAB0QHSAdMB1AHVAdYB1wHYAdkB2gHbAdwB3QHeAd8B4AHhAeIB4wHkAeUB5gHnAegB6QHqAesB7AHtAe4B7wHwAfEB8gHzAfQB9QH2AfcB+AH5AfoB+wH8Af0B/gH/AQACAQICAgMCBAIFAgYCBwIIAgkCCgILAgwCDQIOAg8CEAIRAhICEwIUAhUCFgIXAhgCGQIaAhsCHAIdAh4CHwIgAiECIgIjAiQCJQImAicCKAIpAioCKwIsAi0CLgIvAjACMQIyAjMCNAI1AjYCNwI4AjkCOgI7AjwCPQI+Aj8CQAJBAkICQwJEAkUCRgJHAkgCSQJKAksCTAJNAk4CTwJQAlECUgJTAlQCVQJWAlcCWAJZAloCWwJcAl0CXgJfAmACYQJiAmMCZAJlAmYCZwJoAmkCagJrAmwCbQJuAm8CcAJxAnICcwJ0AnUCdgJ3AngCeQJ6AnsCfAJ9An4CfwKAAoECggKDAoQChQKGAocCiAKJAooCiwKMAo0CjgKPApACkQKSApMClAKVApYClwKYApkCmgKbApwCnQKeAp8CoAKhAqICowKkAqUCpgKnAqgCqQKqAqsCrAKtAq4CrwKwArECsgKzArQCtQK2ArcCuAK5AroCuwK8Ar0CvgK/AsACwQLCAsMCxALFAsYCxwLIAskCygLLAswCzQLOAs8C0ALRAtIC0wLUAtUC1gLXAtgC2QLaAtsC3ALdAt4C3wLgAuEC4gLjAuQC5QLmAucC6ALpAuoC6wLsAu0C7gLvAvAC8QLyAvMC9AL1AvYC9wL4AvkC+gL7AvwC/QL+Av8CAAMBAwIDAwMEAwUDBgMHAwgDCQMKAwsDDAMNAw4DDwMQAxEDEgMTAxQDFQMWAxcDGAMZAxoDGwMcAx0DHgMfAyADIQMiAyMDJAMlAyYDJwMoAykDKgMrAywDLQMuAy8DMAMxAzIDMwM0AzUDNgM3AzgDOQM6AzsDPAM9Az4DPwNAA0EDQgNDA0QDRQNGA0cDSANJA0oDSwNMA00DTgNPA1ADUQNSA1MDVANVA1YDVwNYA1kDWgNbA1wDXQNeA18DYANhA2IDYwNkA2UDZgNnA2gDaQNqA2sDbANtA24DbwNwA3EDcgNzA3QDdQN2A3cDeAN5A3oDewN8A30DfgN/A4ADgQOCA4MDhAOFA4YDhwOIA4kDigOLA4wDjQOOA48DkAORA5IDkwOUA5UDlgOXA5gDmQOaA5sDnAOdA54DnwOgA6EDogOjA6QDpQOmA6cDqAOpA6oDqwOsA60DrgOvA7ADsQOyA7MDtAO1A7YDtwO4A7kDugO7A7wDvQO+A78DwAPBA8IDwwPEA8UDxgPHA8gDyQPKA8sDzAPNA84DzwPQA9ED0gPTA9QD1QPWA9cD2APZA9oD2wPcA90D3gPfA+AD4QPiA+MD5APlA+YD5wPoA+kD6gPrA+wD7QPuA+8D8APxA/ID8wP0A/UD9gP3A/gD+QP6A/sD/AP9A/4D/wMABAEEAgQDBAQEBQQGBAcECAQJBAoECwQMBA0EDgQPBBAEEQQSBBMEFAQVBBYEFwQYBBkEGgQbBBwEHQQ=",
          "dtype": "i2"
         },
         "xaxis": "x",
         "y": {
          "bdata": "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",
          "dtype": "f8"
         },
         "yaxis": "y"
        },
        {
         "line": {
          "color": "blue",
          "width": 2
         },
         "marker": {
          "size": 4
         },
         "mode": "lines+markers",
         "name": "DVL X",
         "type": "scatter",
         "x": {
          "bdata": "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",
          "dtype": "i2"
         },
         "xaxis": "x",
         "y": {
          "bdata": "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",
          "dtype": "f8"
         },
         "yaxis": "y"
        },
        {
         "line": {
          "color": "orange",
          "width": 2
         },
         "marker": {
          "size": 4
         },
         "mode": "lines+markers",
         "name": "Sonar Y",
         "type": "scatter",
         "x": {
          "bdata": "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",
          "dtype": "i2"
         },
         "xaxis": "x2",
         "y": {
          "bdata": "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",
          "dtype": "f8"
         },
         "yaxis": "y2"
        },
        {
         "line": {
          "color": "green",
          "width": 2
         },
         "marker": {
          "size": 4
         },
         "mode": "lines+markers",
         "name": "DVL Y",
         "type": "scatter",
         "x": {
          "bdata": "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",
          "dtype": "i2"
         },
         "xaxis": "x2",
         "y": {
          "bdata": "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",
          "dtype": "f8"
         },
         "yaxis": "y2"
        }
       ],
       "layout": {
        "annotations": [
         {
          "font": {
           "size": 16
          },
          "showarrow": false,
          "text": "X Position Over Time",
          "x": 0.5,
          "xanchor": "center",
          "xref": "paper",
          "y": 1,
          "yanchor": "bottom",
          "yref": "paper"
         },
         {
          "font": {
           "size": 16
          },
          "showarrow": false,
          "text": "Y Position Over Time",
          "x": 0.5,
          "xanchor": "center",
          "xref": "paper",
          "y": 0.375,
          "yanchor": "bottom",
          "yref": "paper"
         }
        ],
        "height": 700,
        "hovermode": "x unified",
        "showlegend": true,
        "template": {
         "data": {
          "bar": [
           {
            "error_x": {
             "color": "#2a3f5f"
            },
            "error_y": {
             "color": "#2a3f5f"
            },
            "marker": {
             "line": {
              "color": "#E5ECF6",
              "width": 0.5
             },
             "pattern": {
              "fillmode": "overlay",
              "size": 10,
              "solidity": 0.2
             }
            },
            "type": "bar"
           }
          ],
          "barpolar": [
           {
            "marker": {
             "line": {
              "color": "#E5ECF6",
              "width": 0.5
             },
             "pattern": {
              "fillmode": "overlay",
              "size": 10,
              "solidity": 0.2
             }
            },
            "type": "barpolar"
           }
          ],
          "carpet": [
           {
            "aaxis": {
             "endlinecolor": "#2a3f5f",
             "gridcolor": "white",
             "linecolor": "white",
             "minorgridcolor": "white",
             "startlinecolor": "#2a3f5f"
            },
            "baxis": {
             "endlinecolor": "#2a3f5f",
             "gridcolor": "white",
             "linecolor": "white",
             "minorgridcolor": "white",
             "startlinecolor": "#2a3f5f"
            },
            "type": "carpet"
           }
          ],
          "choropleth": [
           {
            "colorbar": {
             "outlinewidth": 0,
             "ticks": ""
            },
            "type": "choropleth"
           }
          ],
          "contour": [
           {
            "colorbar": {
             "outlinewidth": 0,
             "ticks": ""
            },
            "colorscale": [
             [
              0,
              "#0d0887"
             ],
             [
              0.1111111111111111,
              "#46039f"
             ],
             [
              0.2222222222222222,
              "#7201a8"
             ],
             [
              0.3333333333333333,
              "#9c179e"
             ],
             [
              0.4444444444444444,
              "#bd3786"
             ],
             [
              0.5555555555555556,
              "#d8576b"
             ],
             [
              0.6666666666666666,
              "#ed7953"
             ],
             [
              0.7777777777777778,
              "#fb9f3a"
             ],
             [
              0.8888888888888888,
              "#fdca26"
             ],
             [
              1,
              "#f0f921"
             ]
            ],
            "type": "contour"
           }
          ],
          "contourcarpet": [
           {
            "colorbar": {
             "outlinewidth": 0,
             "ticks": ""
            },
            "type": "contourcarpet"
           }
          ],
          "heatmap": [
           {
            "colorbar": {
             "outlinewidth": 0,
             "ticks": ""
            },
            "colorscale": [
             [
              0,
              "#0d0887"
             ],
             [
              0.1111111111111111,
              "#46039f"
             ],
             [
              0.2222222222222222,
              "#7201a8"
             ],
             [
              0.3333333333333333,
              "#9c179e"
             ],
             [
              0.4444444444444444,
              "#bd3786"
             ],
             [
              0.5555555555555556,
              "#d8576b"
             ],
             [
              0.6666666666666666,
              "#ed7953"
             ],
             [
              0.7777777777777778,
              "#fb9f3a"
             ],
             [
              0.8888888888888888,
              "#fdca26"
             ],
             [
              1,
              "#f0f921"
             ]
            ],
            "type": "heatmap"
           }
          ],
          "histogram": [
           {
            "marker": {
             "pattern": {
              "fillmode": "overlay",
              "size": 10,
              "solidity": 0.2
             }
            },
            "type": "histogram"
           }
          ],
          "histogram2d": [
           {
            "colorbar": {
             "outlinewidth": 0,
             "ticks": ""
            },
            "colorscale": [
             [
              0,
              "#0d0887"
             ],
             [
              0.1111111111111111,
              "#46039f"
             ],
             [
              0.2222222222222222,
              "#7201a8"
             ],
             [
              0.3333333333333333,
              "#9c179e"
             ],
             [
              0.4444444444444444,
              "#bd3786"
             ],
             [
              0.5555555555555556,
              "#d8576b"
             ],
             [
              0.6666666666666666,
              "#ed7953"
             ],
             [
              0.7777777777777778,
              "#fb9f3a"
             ],
             [
              0.8888888888888888,
              "#fdca26"
             ],
             [
              1,
              "#f0f921"
             ]
            ],
            "type": "histogram2d"
           }
          ],
          "histogram2dcontour": [
           {
            "colorbar": {
             "outlinewidth": 0,
             "ticks": ""
            },
            "colorscale": [
             [
              0,
              "#0d0887"
             ],
             [
              0.1111111111111111,
              "#46039f"
             ],
             [
              0.2222222222222222,
              "#7201a8"
             ],
             [
              0.3333333333333333,
              "#9c179e"
             ],
             [
              0.4444444444444444,
              "#bd3786"
             ],
             [
              0.5555555555555556,
              "#d8576b"
             ],
             [
              0.6666666666666666,
              "#ed7953"
             ],
             [
              0.7777777777777778,
              "#fb9f3a"
             ],
             [
              0.8888888888888888,
              "#fdca26"
             ],
             [
              1,
              "#f0f921"
             ]
            ],
            "type": "histogram2dcontour"
           }
          ],
          "mesh3d": [
           {
            "colorbar": {
             "outlinewidth": 0,
             "ticks": ""
            },
            "type": "mesh3d"
           }
          ],
          "parcoords": [
           {
            "line": {
             "colorbar": {
              "outlinewidth": 0,
              "ticks": ""
             }
            },
            "type": "parcoords"
           }
          ],
          "pie": [
           {
            "automargin": true,
            "type": "pie"
           }
          ],
          "scatter": [
           {
            "fillpattern": {
             "fillmode": "overlay",
             "size": 10,
             "solidity": 0.2
            },
            "type": "scatter"
           }
          ],
          "scatter3d": [
           {
            "line": {
             "colorbar": {
              "outlinewidth": 0,
              "ticks": ""
             }
            },
            "marker": {
             "colorbar": {
              "outlinewidth": 0,
              "ticks": ""
             }
            },
            "type": "scatter3d"
           }
          ],
          "scattercarpet": [
           {
            "marker": {
             "colorbar": {
              "outlinewidth": 0,
              "ticks": ""
             }
            },
            "type": "scattercarpet"
           }
          ],
          "scattergeo": [
           {
            "marker": {
             "colorbar": {
              "outlinewidth": 0,
              "ticks": ""
             }
            },
            "type": "scattergeo"
           }
          ],
          "scattergl": [
           {
            "marker": {
             "colorbar": {
              "outlinewidth": 0,
              "ticks": ""
             }
            },
            "type": "scattergl"
           }
          ],
          "scattermap": [
           {
            "marker": {
             "colorbar": {
              "outlinewidth": 0,
              "ticks": ""
             }
            },
            "type": "scattermap"
           }
          ],
          "scattermapbox": [
           {
            "marker": {
             "colorbar": {
              "outlinewidth": 0,
              "ticks": ""
             }
            },
            "type": "scattermapbox"
           }
          ],
          "scatterpolar": [
           {
            "marker": {
             "colorbar": {
              "outlinewidth": 0,
              "ticks": ""
             }
            },
            "type": "scatterpolar"
           }
          ],
          "scatterpolargl": [
           {
            "marker": {
             "colorbar": {
              "outlinewidth": 0,
              "ticks": ""
             }
            },
            "type": "scatterpolargl"
           }
          ],
          "scatterternary": [
           {
            "marker": {
             "colorbar": {
              "outlinewidth": 0,
              "ticks": ""
             }
            },
            "type": "scatterternary"
           }
          ],
          "surface": [
           {
            "colorbar": {
             "outlinewidth": 0,
             "ticks": ""
            },
            "colorscale": [
             [
              0,
              "#0d0887"
             ],
             [
              0.1111111111111111,
              "#46039f"
             ],
             [
              0.2222222222222222,
              "#7201a8"
             ],
             [
              0.3333333333333333,
              "#9c179e"
             ],
             [
              0.4444444444444444,
              "#bd3786"
             ],
             [
              0.5555555555555556,
              "#d8576b"
             ],
             [
              0.6666666666666666,
              "#ed7953"
             ],
             [
              0.7777777777777778,
              "#fb9f3a"
             ],
             [
              0.8888888888888888,
              "#fdca26"
             ],
             [
              1,
              "#f0f921"
             ]
            ],
            "type": "surface"
           }
          ],
          "table": [
           {
            "cells": {
             "fill": {
              "color": "#EBF0F8"
             },
             "line": {
              "color": "white"
             }
            },
            "header": {
             "fill": {
              "color": "#C8D4E3"
             },
             "line": {
              "color": "white"
             }
            },
            "type": "table"
           }
          ]
         },
         "layout": {
          "annotationdefaults": {
           "arrowcolor": "#2a3f5f",
           "arrowhead": 0,
           "arrowwidth": 1
          },
          "autotypenumbers": "strict",
          "coloraxis": {
           "colorbar": {
            "outlinewidth": 0,
            "ticks": ""
           }
          },
          "colorscale": {
           "diverging": [
            [
             0,
             "#8e0152"
            ],
            [
             0.1,
             "#c51b7d"
            ],
            [
             0.2,
             "#de77ae"
            ],
            [
             0.3,
             "#f1b6da"
            ],
            [
             0.4,
             "#fde0ef"
            ],
            [
             0.5,
             "#f7f7f7"
            ],
            [
             0.6,
             "#e6f5d0"
            ],
            [
             0.7,
             "#b8e186"
            ],
            [
             0.8,
             "#7fbc41"
            ],
            [
             0.9,
             "#4d9221"
            ],
            [
             1,
             "#276419"
            ]
           ],
           "sequential": [
            [
             0,
             "#0d0887"
            ],
            [
             0.1111111111111111,
             "#46039f"
            ],
            [
             0.2222222222222222,
             "#7201a8"
            ],
            [
             0.3333333333333333,
             "#9c179e"
            ],
            [
             0.4444444444444444,
             "#bd3786"
            ],
            [
             0.5555555555555556,
             "#d8576b"
            ],
            [
             0.6666666666666666,
             "#ed7953"
            ],
            [
             0.7777777777777778,
             "#fb9f3a"
            ],
            [
             0.8888888888888888,
             "#fdca26"
            ],
            [
             1,
             "#f0f921"
            ]
           ],
           "sequentialminus": [
            [
             0,
             "#0d0887"
            ],
            [
             0.1111111111111111,
             "#46039f"
            ],
            [
             0.2222222222222222,
             "#7201a8"
            ],
            [
             0.3333333333333333,
             "#9c179e"
            ],
            [
             0.4444444444444444,
             "#bd3786"
            ],
            [
             0.5555555555555556,
             "#d8576b"
            ],
            [
             0.6666666666666666,
             "#ed7953"
            ],
            [
             0.7777777777777778,
             "#fb9f3a"
            ],
            [
             0.8888888888888888,
             "#fdca26"
            ],
            [
             1,
             "#f0f921"
            ]
           ]
          },
          "colorway": [
           "#636efa",
           "#EF553B",
           "#00cc96",
           "#ab63fa",
           "#FFA15A",
           "#19d3f3",
           "#FF6692",
           "#B6E880",
           "#FF97FF",
           "#FECB52"
          ],
          "font": {
           "color": "#2a3f5f"
          },
          "geo": {
           "bgcolor": "white",
           "lakecolor": "white",
           "landcolor": "#E5ECF6",
           "showlakes": true,
           "showland": true,
           "subunitcolor": "white"
          },
          "hoverlabel": {
           "align": "left"
          },
          "hovermode": "closest",
          "mapbox": {
           "style": "light"
          },
          "paper_bgcolor": "white",
          "plot_bgcolor": "#E5ECF6",
          "polar": {
           "angularaxis": {
            "gridcolor": "white",
            "linecolor": "white",
            "ticks": ""
           },
           "bgcolor": "#E5ECF6",
           "radialaxis": {
            "gridcolor": "white",
            "linecolor": "white",
            "ticks": ""
           }
          },
          "scene": {
           "xaxis": {
            "backgroundcolor": "#E5ECF6",
            "gridcolor": "white",
            "gridwidth": 2,
            "linecolor": "white",
            "showbackground": true,
            "ticks": "",
            "zerolinecolor": "white"
           },
           "yaxis": {
            "backgroundcolor": "#E5ECF6",
            "gridcolor": "white",
            "gridwidth": 2,
            "linecolor": "white",
            "showbackground": true,
            "ticks": "",
            "zerolinecolor": "white"
           },
           "zaxis": {
            "backgroundcolor": "#E5ECF6",
            "gridcolor": "white",
            "gridwidth": 2,
            "linecolor": "white",
            "showbackground": true,
            "ticks": "",
            "zerolinecolor": "white"
           }
          },
          "shapedefaults": {
           "line": {
            "color": "#2a3f5f"
           }
          },
          "ternary": {
           "aaxis": {
            "gridcolor": "white",
            "linecolor": "white",
            "ticks": ""
           },
           "baxis": {
            "gridcolor": "white",
            "linecolor": "white",
            "ticks": ""
           },
           "bgcolor": "#E5ECF6",
           "caxis": {
            "gridcolor": "white",
            "linecolor": "white",
            "ticks": ""
           }
          },
          "title": {
           "x": 0.05
          },
          "xaxis": {
           "automargin": true,
           "gridcolor": "white",
           "linecolor": "white",
           "ticks": "",
           "title": {
            "standoff": 15
           },
           "zerolinecolor": "white",
           "zerolinewidth": 2
          },
          "yaxis": {
           "automargin": true,
           "gridcolor": "white",
           "linecolor": "white",
           "ticks": "",
           "title": {
            "standoff": 15
           },
           "zerolinecolor": "white",
           "zerolinewidth": 2
          }
         }
        },
        "title": {
         "text": "Sonar vs DVL Net Position Comparison (Frame-by-Frame Synchronized)"
        },
        "xaxis": {
         "anchor": "y",
         "domain": [
          0,
          1
         ],
         "matches": "x2",
         "showticklabels": false
        },
        "xaxis2": {
         "anchor": "y2",
         "domain": [
          0,
          1
         ],
         "title": {
          "text": "Time (frame sequence)"
         }
        },
        "yaxis": {
         "anchor": "x",
         "domain": [
          0.625,
          1
         ],
         "title": {
          "text": "X Position (m)"
         }
        },
        "yaxis2": {
         "anchor": "x2",
         "domain": [
          0,
          0.375
         ],
         "title": {
          "text": "Y Position (m)"
         }
        }
       }
      }
     },
     "metadata": {},
     "output_type": "display_data"
    },
    {
     "name": "stdout",
     "output_type": "stream",
     "text": [
      "\n",
      "VIDEO VALIDATION:\n",
      "  Applied 180° correction to sonar angles to match video coordinate system\n",
      "  - Yellow/Orange lines: DVL NetDistance @ NetPitch → XY position\n",
      "  - Magenta lines: Sonar distance_meters @ (angle_degrees - 180°) → XY position\n",
      "  - Frame-by-frame synchronization ensures temporal alignment\n",
      "\n",
      "RESULTS SAVED:\n",
      "  - Synchronized data: 2024-08-20_14-31-29_position_comparison_sync.csv\n",
      "  - Statistics: 2024-08-20_14-31-29_position_comparison_stats.json\n"
     ]
    }
   ],
   "source": [
    "# Use utility functions for comprehensive position comparison\n",
    "if df_sonar is not None and df_nav is not None:\n",
    "    print(\"=== COMPREHENSIVE POSITION COMPARISON ===\")\n",
    "    print(\"Using utility functions for frame-by-frame synchronization\")\n",
    "    \n",
    "    # Import utility functions\n",
    "    from utils.net_position_analysis import run_complete_position_comparison\n",
    "    \n",
    "    # Run complete comparison pipeline\n",
    "    sync_df, stats, fig = run_complete_position_comparison(\n",
    "        df_sonar=df_sonar,\n",
    "        df_nav=df_nav,\n",
    "        target_bag=TARGET_BAG,\n",
    "        tolerance_seconds=0.5,\n",
    "        save_results=True,\n",
    "        exports_folder=EXPORTS_FOLDER\n",
    "    )\n",
    "    \n",
    "    # Display the visualization\n",
    "    if len(sync_df) > 0:\n",
    "        fig.show()\n",
    "        \n",
    "        print(f\"\\nVIDEO VALIDATION:\")\n",
    "        print(f\"  Applied 180° correction to sonar angles to match video coordinate system\")\n",
    "        print(f\"  - Yellow/Orange lines: DVL NetDistance @ NetPitch → XY position\")\n",
    "        print(f\"  - Magenta lines: Sonar distance_meters @ (angle_degrees - 180°) → XY position\")\n",
    "        print(f\"  - Frame-by-frame synchronization ensures temporal alignment\")\n",
    "        print(f\"\\nRESULTS SAVED:\")\n",
    "        print(f\"  - Synchronized data: {TARGET_BAG}_position_comparison_sync.csv\")\n",
    "        print(f\"  - Statistics: {TARGET_BAG}_position_comparison_stats.json\")\n",
    "    else:\n",
    "        print(\"No synchronized data available for visualization\")\n",
    "        \n",
    "else:\n",
    "    print(\"Cannot perform position comparison - missing sonar or DVL data\")"
   ]
  }
 ],
 "metadata": {
  "kernelspec": {
   "display_name": "venv",
   "language": "python",
   "name": "python3"
  },
  "language_info": {
   "codemirror_mode": {
    "name": "ipython",
    "version": 3
   },
   "file_extension": ".py",
   "mimetype": "text/x-python",
   "name": "python",
   "nbconvert_exporter": "python",
   "pygments_lexer": "ipython3",
   "version": "3.13.5"
  }
 },
 "nbformat": 4,
 "nbformat_minor": 5
}
