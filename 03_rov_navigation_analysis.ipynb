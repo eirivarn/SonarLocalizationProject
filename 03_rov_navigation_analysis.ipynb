{
 "cells": [
  {
   "cell_type": "code",
   "execution_count": null,
   "id": "9d16983e",
   "metadata": {},
   "outputs": [],
   "source": [
    "# Centralized sonar defaults (inserted by sweep)\n",
    "from utils.sonar_config import SONAR_VIS_DEFAULTS\n",
    "sonar_config = SONAR_VIS_DEFAULTS.copy()\n",
    "# Backwards-compatible variable names used in older notebooks\n",
    "RANGE_MIN_M = sonar_config['range_min_m']\n",
    "RANGE_MAX_M = sonar_config['range_max_m']\n",
    "DISPLAY_RANGE_MAX_M = sonar_config['display_range_max_m']\n"
   ]
  },
  {
   "cell_type": "code",
   "execution_count": null,
   "id": "17613ddf",
   "metadata": {},
   "outputs": [],
   "source": [
    "import warnings\n",
    "import matplotlib.pyplot as plt\n",
    "\n",
    "warnings.filterwarnings('ignore', category=FutureWarning)\n",
    "plt.rcParams['figure.figsize'] = (12, 8)\n",
    "plt.rcParams['font.size'] = 10\n"
   ]
  },
  {
   "cell_type": "code",
   "execution_count": null,
   "id": "6e03211a",
   "metadata": {},
   "outputs": [
    {
     "name": "stdout",
     "output_type": "stream",
     "text": [
      "⚙️  Configuration loaded:\n",
      "   📂 Data folder: /Volumes/LaCie/SOLAQUA/exports/by_bag\n",
      "   📅 Bag selection: 2024-08-22_14-47-39\n",
      "   🔧 Sensor selection: All sensors\n",
      "   💾 Export summary: False\n",
      "   📊 Export plots: False\n",
      "   🎨 Plot style: static\n"
     ]
    }
   ],
   "source": [
    "# 🔍 CONFIGURATION PARAMETERS\n",
    "# ===========================\n",
    "# Modify these parameters to customize the analysis\n",
    "\n",
    "# Data source configuration\n",
    "from pathlib import Path\n",
    "from utils.sonar_config import EXPORTS_DIR_DEFAULT, EXPORTS_SUBDIRS, NAVIGATION_ANALYSIS_CONFIG\n",
    "BY_BAG_FOLDER = Path(EXPORTS_DIR_DEFAULT) / EXPORTS_SUBDIRS.get('by_bag', 'by_bag')  # Path to CSV files\n",
    "\n",
    "# Analysis parameters - load from centralized config\n",
    "nav_config = NAVIGATION_ANALYSIS_CONFIG.copy()\n",
    "\n",
    "# IMPORTANT: Some bags only have sensor_dvl files (2024-08-20_*), \n",
    "# while others have nucleus1000dvl files (2024-08-22_*).\n",
    "# Choose a bag from the nucleus1000dvl collection for full sensor data:\n",
    "BAG_SELECTION = \"2024-08-22_14-47-39\"  # Override: use a bag with nucleus1000dvl data\n",
    "# BAG_SELECTION = nav_config['bag_selection']  # Uncomment to use config default (may have no data)\n",
    "\n",
    "SENSOR_SELECTION = nav_config['sensor_selection']  # None for all sensors, or specify like [\"bottomtrack\", \"ins\"]\n",
    "\n",
    "# Export settings\n",
    "EXPORT_SUMMARY = nav_config['export_summary']  # Export data summary to CSV\n",
    "EXPORT_PLOTS = nav_config['export_plots']   # Save plots to files\n",
    "PLOT_STYLE = nav_config['plot_style']  # 'static' or 'interactive'\n",
    "OUTPUT_FOLDER = Path(EXPORTS_DIR_DEFAULT) / EXPORTS_SUBDIRS.get('outputs', 'outputs')  # Output folder for exports\n",
    "\n",
    "print(\"Configuration loaded:\")\n",
    "print(f\"Data folder: {BY_BAG_FOLDER}\")\n",
    "print(f\"Bag selection: {BAG_SELECTION or 'All bags'}\")\n",
    "print(f\"Sensor selection: {SENSOR_SELECTION or 'All sensors'}\")\n",
    "print(f\"Export summary: {EXPORT_SUMMARY}\")\n",
    "print(f\"Export plots: {EXPORT_PLOTS}\")\n",
    "print(f\"Plot style: {PLOT_STYLE}\")"
   ]
  },
  {
   "cell_type": "code",
   "execution_count": null,
   "id": "ae26cca5",
   "metadata": {},
   "outputs": [
    {
     "name": "stdout",
     "output_type": "stream",
     "text": [
      "🚀 Running consolidated Nucleus1000DVL analysis workflow (utils)\n",
      "🚀 Running full Nucleus1000DVL notebook workflow...\n",
      "\n",
      "📋 Data Discovery Summary:\n",
      "   📅 Available bags: 61\n",
      "   🔧 Available sensors: 8\n",
      "\n",
      "📅 Using bag: 2024-08-22_14-47-39\n",
      "   🔧 Sensors available for this bag: altimeter, bottomtrack, imu, ins, magnetometer, position, velocity\n",
      "\n",
      "📊 Basic data exploration for selected bag\n",
      "\n",
      "🔧 ALTIMETER Data:\n",
      "   📏 Shape: (20, 21)\n",
      "   ⏱️  Duration: 0.7 minutes\n",
      "\n",
      "🔧 BOTTOMTRACK Data:\n",
      "   📏 Shape: (62, 35)\n",
      "   ⏱️  Duration: 0.7 minutes\n",
      "\n",
      "🔧 IMU Data:\n",
      "   📏 Shape: (4400, 24)\n",
      "   ⏱️  Duration: 0.7 minutes\n",
      "\n",
      "🔧 INS Data:\n",
      "   📏 Shape: (402, 50)\n",
      "   ⏱️  Duration: 0.7 minutes\n",
      "\n",
      "🔧 MAGNETOMETER Data:\n",
      "   📏 Shape: (1999, 20)\n",
      "   ⏱️  Duration: 0.7 minutes\n",
      "\n",
      "🔧 POSITION Data:\n",
      "   📏 Shape: (208, 25)\n",
      "   ⏱️  Duration: 0.8 minutes\n",
      "\n",
      "🔧 VELOCITY Data:\n",
      "   📏 Shape: (410, 26)\n",
      "   ⏱️  Duration: 0.8 minutes\n",
      "\n",
      "🚀 Generating plots (may open interactive windows if enabled)...\n",
      "   📏 Shape: (410, 26)\n",
      "   ⏱️  Duration: 0.8 minutes\n",
      "\n",
      "🚀 Generating plots (may open interactive windows if enabled)...\n"
     ]
    },
    {
     "data": {
      "application/vnd.plotly.v1+json": {
       "config": {
        "plotlyServerURL": "https://plot.ly"
       },
       "data": [
        {
         "legendgroup": "2024-08-22_14-47-39",
         "line": {
          "color": "rgb(228,26,28)"
         },
         "name": "2024-08-22_14-47-39 - X",
         "type": "scatter",
         "x": {
          "bdata": "AAAAAAAAAAC8u7u7yyV9P7y7u7u7k40/ZmZmZuaPnT+rqqqqwYG4P2ZmZmZxdLo/q6qqqlg2vD/NzMzMVd/AP4mIiIjWzcM/mZmZmfaqxz8AAACA2GTJP2ZmZmZgQ8o/q6qqKnMZyz9VVVXV8fLMP+7u7m7m5M0/NDMzs5tj0D8AAABACO3QP2ZmZiZnYdE/VVVVlbFW0j8RERERosHSP5uZmRnfvtM/7+7uLqmq1D8zMzNzoB7VP0RERERJj9U/rKqqqmzb1j+JiIhI9lPXP83MzMx0v9c/MzMz80k53D8iIiIiNXrdP83MzEym6t0/ERERUXxW3j8RERGR01jfP6uqqkoyDOA/ZmZmxkxE4D8iIiICTMHgPxEREVEDH+E/vLu7W10t4j8iIiIipGXiP0RERAQO/OI/REREpA5F4z9mZmaG+JXjP5qZmRklEeQ/q6qqipRJ5D8iIiJCUIjkP1VVVVXJBeU/ZmZmpjBX5T8=",
          "dtype": "f8"
         },
         "xaxis": "x",
         "y": {
          "bdata": "Rf//3yThZr/7//9/0Dq5P/3//9+QzLU//v//n7XgvD8AAADAeRKtP/7//9+ttrc/vv//H7ZYe7/8//+/zLe4PwAAACC/pbo/+v///8+Fsj/2////oFmnP/3//19TsbA/+v///+PutT/8//8fxYW1P/3///+Yibk/9f//X9nZlT/////f1H7PP/r//9+CWbI/////f9CyxD/1//8/oF+tP/b//3+A96k/////PzDKtT8AAADAtvK0P/T//x+486s/+////34nsz////9frka9P/3//x+t48M//v//ny8rtT/5///fdfqsP/j//x8waa0//v//v8FjwT/+//+f+CvDP//////iNLk/8///HxV9oj/9///f48/LP////z9lBco/////v2AQuz/+//+fP83DP/3//59DL7I//v//f6EIuj////8f8zG+PwAAAGCahrE/9f//X5hZnD/+//8/ndfFP/n//59V97o//f//n0eiuD8=",
          "dtype": "f8"
         },
         "yaxis": "y"
        },
        {
         "legendgroup": "2024-08-22_14-47-39",
         "line": {
          "color": "rgb(228,26,28)",
          "dash": "dash"
         },
         "name": "2024-08-22_14-47-39 - Y",
         "type": "scatter",
         "x": {
          "bdata": "AAAAAAAAAAC8u7u7yyV9P7y7u7u7k40/ZmZmZuaPnT+rqqqqwYG4P2ZmZmZxdLo/q6qqqlg2vD/NzMzMVd/AP4mIiIjWzcM/mZmZmfaqxz8AAACA2GTJP2ZmZmZgQ8o/q6qqKnMZyz9VVVXV8fLMP+7u7m7m5M0/NDMzs5tj0D8AAABACO3QP2ZmZiZnYdE/VVVVlbFW0j8RERERosHSP5uZmRnfvtM/7+7uLqmq1D8zMzNzoB7VP0RERERJj9U/rKqqqmzb1j+JiIhI9lPXP83MzMx0v9c/MzMz80k53D8iIiIiNXrdP83MzEym6t0/ERERUXxW3j8RERGR01jfP6uqqkoyDOA/ZmZmxkxE4D8iIiICTMHgPxEREVEDH+E/vLu7W10t4j8iIiIipGXiP0RERAQO/OI/REREpA5F4z9mZmaG+JXjP5qZmRklEeQ/q6qqipRJ5D8iIiJCUIjkP1VVVVXJBeU/ZmZmpjBX5T8=",
          "dtype": "f8"
         },
         "xaxis": "x2",
         "y": {
          "bdata": "/v///3iNx795/f8fUkA7v/X//1+gM5y//f//P6mApb/+//9f4tO4v/v//z+L2LC/////H55itj/9//9/W6uiP/3//9/t8Zu/0v//35RBhr/5/////0qgP////99Ur6g/7v//P1/unD/9///fFtK8v+r//x+iSZg//P//nzpet7/9//9ffN2Qv/v//9+fN7W/+v//3xwWrT/a//+/fKCOP+7//z9PVp8//f//f8mUu7/q//8fiieOv/f//9/mmJC//P//fzontL9t//9fvQlgP/3//1+Qaqs/9///f2QGk7+x//8/CBFyv/n////rQ5K/7f//XzbSlj/0//9/g8ilPyL//58tFGG/v///37bEdL/9//9/x6vLP////x8efMI/+f//H03goT/1//+/c96jv8D//3817nA/yv//f2cRhL9V//8fk95RP/T//18Jwqq/+v///xSuur/6//8/p4q5PwAAAAC7Hnw/x///f/jlgj8=",
          "dtype": "f8"
         },
         "yaxis": "y2"
        },
        {
         "legendgroup": "2024-08-22_14-47-39",
         "line": {
          "color": "rgb(228,26,28)",
          "dash": "dot"
         },
         "name": "2024-08-22_14-47-39 - Z",
         "type": "scatter",
         "x": {
          "bdata": "AAAAAAAAAAC8u7u7yyV9P7y7u7u7k40/ZmZmZuaPnT+rqqqqwYG4P2ZmZmZxdLo/q6qqqlg2vD/NzMzMVd/AP4mIiIjWzcM/mZmZmfaqxz8AAACA2GTJP2ZmZmZgQ8o/q6qqKnMZyz9VVVXV8fLMP+7u7m7m5M0/NDMzs5tj0D8AAABACO3QP2ZmZiZnYdE/VVVVlbFW0j8RERERosHSP5uZmRnfvtM/7+7uLqmq1D8zMzNzoB7VP0RERERJj9U/rKqqqmzb1j+JiIhI9lPXP83MzMx0v9c/MzMz80k53D8iIiIiNXrdP83MzEym6t0/ERERUXxW3j8RERGR01jfP6uqqkoyDOA/ZmZmxkxE4D8iIiICTMHgPxEREVEDH+E/vLu7W10t4j8iIiIipGXiP0RERAQO/OI/REREpA5F4z9mZmaG+JXjP5qZmRklEeQ/q6qqipRJ5D8iIiJCUIjkP1VVVVXJBeU/ZmZmpjBX5T8=",
          "dtype": "f8"
         },
         "xaxis": "x3",
         "y": {
          "bdata": "6P//P+ILmD/2/v9fz55fP+H//3/iVIi/5P///2l+mL/p//8fxmaMv/7//790Taw/5P//v1Ggnz/p//8/geOQPwAAACBZwJA/zf//v30iiD/X//9/BReHv/L//7+S0KQ/+///3+iIpz/U//8/9weAv/X//x+ImaE/6v//33WGmD/z//+f/IykP+7//z8aiZE/q////3rae7/m//8/sCN3P+3///8RV4k/AAAAoBzzoj/u//+fuEqcv8P//x8zl3+/////v5UEsj/2//+/WwKqP/v//z8NJqM/zv//fxBzcb9N/v9fpctZP/T//x+sYpU/wv//348adb/y//9fDHOYv5L9/x9koU2//v//n701mz/3//9foYunv/L//5/Pv6q/9v//P/q9qD/7//+/YlmQP6///1/Ks3U/+v//X26+n7/h//9f1j+Dv6X//1/1T2s/2///X21mfD/n////JmWRv7z////xBXQ/+P//HySQnj8=",
          "dtype": "f8"
         },
         "yaxis": "y3"
        }
       ],
       "layout": {
        "annotations": [
         {
          "font": {
           "size": 16
          },
          "showarrow": false,
          "text": "X Velocity",
          "x": 0.5,
          "xanchor": "center",
          "xref": "paper",
          "y": 1,
          "yanchor": "bottom",
          "yref": "paper"
         },
         {
          "font": {
           "size": 16
          },
          "showarrow": false,
          "text": "Y Velocity",
          "x": 0.5,
          "xanchor": "center",
          "xref": "paper",
          "y": 0.6399999999999999,
          "yanchor": "bottom",
          "yref": "paper"
         },
         {
          "font": {
           "size": 16
          },
          "showarrow": false,
          "text": "Z Velocity",
          "x": 0.5,
          "xanchor": "center",
          "xref": "paper",
          "y": 0.27999999999999997,
          "yanchor": "bottom",
          "yref": "paper"
         }
        ],
        "height": 800,
        "hovermode": "x unified",
        "template": {
         "data": {
          "bar": [
           {
            "error_x": {
             "color": "#2a3f5f"
            },
            "error_y": {
             "color": "#2a3f5f"
            },
            "marker": {
             "line": {
              "color": "#E5ECF6",
              "width": 0.5
             },
             "pattern": {
              "fillmode": "overlay",
              "size": 10,
              "solidity": 0.2
             }
            },
            "type": "bar"
           }
          ],
          "barpolar": [
           {
            "marker": {
             "line": {
              "color": "#E5ECF6",
              "width": 0.5
             },
             "pattern": {
              "fillmode": "overlay",
              "size": 10,
              "solidity": 0.2
             }
            },
            "type": "barpolar"
           }
          ],
          "carpet": [
           {
            "aaxis": {
             "endlinecolor": "#2a3f5f",
             "gridcolor": "white",
             "linecolor": "white",
             "minorgridcolor": "white",
             "startlinecolor": "#2a3f5f"
            },
            "baxis": {
             "endlinecolor": "#2a3f5f",
             "gridcolor": "white",
             "linecolor": "white",
             "minorgridcolor": "white",
             "startlinecolor": "#2a3f5f"
            },
            "type": "carpet"
           }
          ],
          "choropleth": [
           {
            "colorbar": {
             "outlinewidth": 0,
             "ticks": ""
            },
            "type": "choropleth"
           }
          ],
          "contour": [
           {
            "colorbar": {
             "outlinewidth": 0,
             "ticks": ""
            },
            "colorscale": [
             [
              0,
              "#0d0887"
             ],
             [
              0.1111111111111111,
              "#46039f"
             ],
             [
              0.2222222222222222,
              "#7201a8"
             ],
             [
              0.3333333333333333,
              "#9c179e"
             ],
             [
              0.4444444444444444,
              "#bd3786"
             ],
             [
              0.5555555555555556,
              "#d8576b"
             ],
             [
              0.6666666666666666,
              "#ed7953"
             ],
             [
              0.7777777777777778,
              "#fb9f3a"
             ],
             [
              0.8888888888888888,
              "#fdca26"
             ],
             [
              1,
              "#f0f921"
             ]
            ],
            "type": "contour"
           }
          ],
          "contourcarpet": [
           {
            "colorbar": {
             "outlinewidth": 0,
             "ticks": ""
            },
            "type": "contourcarpet"
           }
          ],
          "heatmap": [
           {
            "colorbar": {
             "outlinewidth": 0,
             "ticks": ""
            },
            "colorscale": [
             [
              0,
              "#0d0887"
             ],
             [
              0.1111111111111111,
              "#46039f"
             ],
             [
              0.2222222222222222,
              "#7201a8"
             ],
             [
              0.3333333333333333,
              "#9c179e"
             ],
             [
              0.4444444444444444,
              "#bd3786"
             ],
             [
              0.5555555555555556,
              "#d8576b"
             ],
             [
              0.6666666666666666,
              "#ed7953"
             ],
             [
              0.7777777777777778,
              "#fb9f3a"
             ],
             [
              0.8888888888888888,
              "#fdca26"
             ],
             [
              1,
              "#f0f921"
             ]
            ],
            "type": "heatmap"
           }
          ],
          "histogram": [
           {
            "marker": {
             "pattern": {
              "fillmode": "overlay",
              "size": 10,
              "solidity": 0.2
             }
            },
            "type": "histogram"
           }
          ],
          "histogram2d": [
           {
            "colorbar": {
             "outlinewidth": 0,
             "ticks": ""
            },
            "colorscale": [
             [
              0,
              "#0d0887"
             ],
             [
              0.1111111111111111,
              "#46039f"
             ],
             [
              0.2222222222222222,
              "#7201a8"
             ],
             [
              0.3333333333333333,
              "#9c179e"
             ],
             [
              0.4444444444444444,
              "#bd3786"
             ],
             [
              0.5555555555555556,
              "#d8576b"
             ],
             [
              0.6666666666666666,
              "#ed7953"
             ],
             [
              0.7777777777777778,
              "#fb9f3a"
             ],
             [
              0.8888888888888888,
              "#fdca26"
             ],
             [
              1,
              "#f0f921"
             ]
            ],
            "type": "histogram2d"
           }
          ],
          "histogram2dcontour": [
           {
            "colorbar": {
             "outlinewidth": 0,
             "ticks": ""
            },
            "colorscale": [
             [
              0,
              "#0d0887"
             ],
             [
              0.1111111111111111,
              "#46039f"
             ],
             [
              0.2222222222222222,
              "#7201a8"
             ],
             [
              0.3333333333333333,
              "#9c179e"
             ],
             [
              0.4444444444444444,
              "#bd3786"
             ],
             [
              0.5555555555555556,
              "#d8576b"
             ],
             [
              0.6666666666666666,
              "#ed7953"
             ],
             [
              0.7777777777777778,
              "#fb9f3a"
             ],
             [
              0.8888888888888888,
              "#fdca26"
             ],
             [
              1,
              "#f0f921"
             ]
            ],
            "type": "histogram2dcontour"
           }
          ],
          "mesh3d": [
           {
            "colorbar": {
             "outlinewidth": 0,
             "ticks": ""
            },
            "type": "mesh3d"
           }
          ],
          "parcoords": [
           {
            "line": {
             "colorbar": {
              "outlinewidth": 0,
              "ticks": ""
             }
            },
            "type": "parcoords"
           }
          ],
          "pie": [
           {
            "automargin": true,
            "type": "pie"
           }
          ],
          "scatter": [
           {
            "fillpattern": {
             "fillmode": "overlay",
             "size": 10,
             "solidity": 0.2
            },
            "type": "scatter"
           }
          ],
          "scatter3d": [
           {
            "line": {
             "colorbar": {
              "outlinewidth": 0,
              "ticks": ""
             }
            },
            "marker": {
             "colorbar": {
              "outlinewidth": 0,
              "ticks": ""
             }
            },
            "type": "scatter3d"
           }
          ],
          "scattercarpet": [
           {
            "marker": {
             "colorbar": {
              "outlinewidth": 0,
              "ticks": ""
             }
            },
            "type": "scattercarpet"
           }
          ],
          "scattergeo": [
           {
            "marker": {
             "colorbar": {
              "outlinewidth": 0,
              "ticks": ""
             }
            },
            "type": "scattergeo"
           }
          ],
          "scattergl": [
           {
            "marker": {
             "colorbar": {
              "outlinewidth": 0,
              "ticks": ""
             }
            },
            "type": "scattergl"
           }
          ],
          "scattermap": [
           {
            "marker": {
             "colorbar": {
              "outlinewidth": 0,
              "ticks": ""
             }
            },
            "type": "scattermap"
           }
          ],
          "scattermapbox": [
           {
            "marker": {
             "colorbar": {
              "outlinewidth": 0,
              "ticks": ""
             }
            },
            "type": "scattermapbox"
           }
          ],
          "scatterpolar": [
           {
            "marker": {
             "colorbar": {
              "outlinewidth": 0,
              "ticks": ""
             }
            },
            "type": "scatterpolar"
           }
          ],
          "scatterpolargl": [
           {
            "marker": {
             "colorbar": {
              "outlinewidth": 0,
              "ticks": ""
             }
            },
            "type": "scatterpolargl"
           }
          ],
          "scatterternary": [
           {
            "marker": {
             "colorbar": {
              "outlinewidth": 0,
              "ticks": ""
             }
            },
            "type": "scatterternary"
           }
          ],
          "surface": [
           {
            "colorbar": {
             "outlinewidth": 0,
             "ticks": ""
            },
            "colorscale": [
             [
              0,
              "#0d0887"
             ],
             [
              0.1111111111111111,
              "#46039f"
             ],
             [
              0.2222222222222222,
              "#7201a8"
             ],
             [
              0.3333333333333333,
              "#9c179e"
             ],
             [
              0.4444444444444444,
              "#bd3786"
             ],
             [
              0.5555555555555556,
              "#d8576b"
             ],
             [
              0.6666666666666666,
              "#ed7953"
             ],
             [
              0.7777777777777778,
              "#fb9f3a"
             ],
             [
              0.8888888888888888,
              "#fdca26"
             ],
             [
              1,
              "#f0f921"
             ]
            ],
            "type": "surface"
           }
          ],
          "table": [
           {
            "cells": {
             "fill": {
              "color": "#EBF0F8"
             },
             "line": {
              "color": "white"
             }
            },
            "header": {
             "fill": {
              "color": "#C8D4E3"
             },
             "line": {
              "color": "white"
             }
            },
            "type": "table"
           }
          ]
         },
         "layout": {
          "annotationdefaults": {
           "arrowcolor": "#2a3f5f",
           "arrowhead": 0,
           "arrowwidth": 1
          },
          "autotypenumbers": "strict",
          "coloraxis": {
           "colorbar": {
            "outlinewidth": 0,
            "ticks": ""
           }
          },
          "colorscale": {
           "diverging": [
            [
             0,
             "#8e0152"
            ],
            [
             0.1,
             "#c51b7d"
            ],
            [
             0.2,
             "#de77ae"
            ],
            [
             0.3,
             "#f1b6da"
            ],
            [
             0.4,
             "#fde0ef"
            ],
            [
             0.5,
             "#f7f7f7"
            ],
            [
             0.6,
             "#e6f5d0"
            ],
            [
             0.7,
             "#b8e186"
            ],
            [
             0.8,
             "#7fbc41"
            ],
            [
             0.9,
             "#4d9221"
            ],
            [
             1,
             "#276419"
            ]
           ],
           "sequential": [
            [
             0,
             "#0d0887"
            ],
            [
             0.1111111111111111,
             "#46039f"
            ],
            [
             0.2222222222222222,
             "#7201a8"
            ],
            [
             0.3333333333333333,
             "#9c179e"
            ],
            [
             0.4444444444444444,
             "#bd3786"
            ],
            [
             0.5555555555555556,
             "#d8576b"
            ],
            [
             0.6666666666666666,
             "#ed7953"
            ],
            [
             0.7777777777777778,
             "#fb9f3a"
            ],
            [
             0.8888888888888888,
             "#fdca26"
            ],
            [
             1,
             "#f0f921"
            ]
           ],
           "sequentialminus": [
            [
             0,
             "#0d0887"
            ],
            [
             0.1111111111111111,
             "#46039f"
            ],
            [
             0.2222222222222222,
             "#7201a8"
            ],
            [
             0.3333333333333333,
             "#9c179e"
            ],
            [
             0.4444444444444444,
             "#bd3786"
            ],
            [
             0.5555555555555556,
             "#d8576b"
            ],
            [
             0.6666666666666666,
             "#ed7953"
            ],
            [
             0.7777777777777778,
             "#fb9f3a"
            ],
            [
             0.8888888888888888,
             "#fdca26"
            ],
            [
             1,
             "#f0f921"
            ]
           ]
          },
          "colorway": [
           "#636efa",
           "#EF553B",
           "#00cc96",
           "#ab63fa",
           "#FFA15A",
           "#19d3f3",
           "#FF6692",
           "#B6E880",
           "#FF97FF",
           "#FECB52"
          ],
          "font": {
           "color": "#2a3f5f"
          },
          "geo": {
           "bgcolor": "white",
           "lakecolor": "white",
           "landcolor": "#E5ECF6",
           "showlakes": true,
           "showland": true,
           "subunitcolor": "white"
          },
          "hoverlabel": {
           "align": "left"
          },
          "hovermode": "closest",
          "mapbox": {
           "style": "light"
          },
          "paper_bgcolor": "white",
          "plot_bgcolor": "#E5ECF6",
          "polar": {
           "angularaxis": {
            "gridcolor": "white",
            "linecolor": "white",
            "ticks": ""
           },
           "bgcolor": "#E5ECF6",
           "radialaxis": {
            "gridcolor": "white",
            "linecolor": "white",
            "ticks": ""
           }
          },
          "scene": {
           "xaxis": {
            "backgroundcolor": "#E5ECF6",
            "gridcolor": "white",
            "gridwidth": 2,
            "linecolor": "white",
            "showbackground": true,
            "ticks": "",
            "zerolinecolor": "white"
           },
           "yaxis": {
            "backgroundcolor": "#E5ECF6",
            "gridcolor": "white",
            "gridwidth": 2,
            "linecolor": "white",
            "showbackground": true,
            "ticks": "",
            "zerolinecolor": "white"
           },
           "zaxis": {
            "backgroundcolor": "#E5ECF6",
            "gridcolor": "white",
            "gridwidth": 2,
            "linecolor": "white",
            "showbackground": true,
            "ticks": "",
            "zerolinecolor": "white"
           }
          },
          "shapedefaults": {
           "line": {
            "color": "#2a3f5f"
           }
          },
          "ternary": {
           "aaxis": {
            "gridcolor": "white",
            "linecolor": "white",
            "ticks": ""
           },
           "baxis": {
            "gridcolor": "white",
            "linecolor": "white",
            "ticks": ""
           },
           "bgcolor": "#E5ECF6",
           "caxis": {
            "gridcolor": "white",
            "linecolor": "white",
            "ticks": ""
           }
          },
          "title": {
           "x": 0.05
          },
          "xaxis": {
           "automargin": true,
           "gridcolor": "white",
           "linecolor": "white",
           "ticks": "",
           "title": {
            "standoff": 15
           },
           "zerolinecolor": "white",
           "zerolinewidth": 2
          },
          "yaxis": {
           "automargin": true,
           "gridcolor": "white",
           "linecolor": "white",
           "ticks": "",
           "title": {
            "standoff": 15
           },
           "zerolinecolor": "white",
           "zerolinewidth": 2
          }
         }
        },
        "title": {
         "text": "Bottom Track Velocity - 2024-08-22_14-47-39"
        },
        "xaxis": {
         "anchor": "y",
         "domain": [
          0,
          1
         ],
         "matches": "x3",
         "showticklabels": false
        },
        "xaxis2": {
         "anchor": "y2",
         "domain": [
          0,
          1
         ],
         "matches": "x3",
         "showticklabels": false
        },
        "xaxis3": {
         "anchor": "y3",
         "domain": [
          0,
          1
         ],
         "title": {
          "text": "Time (minutes)"
         }
        },
        "yaxis": {
         "anchor": "x",
         "domain": [
          0.72,
          1
         ],
         "title": {
          "text": "Velocity (m/s)"
         }
        },
        "yaxis2": {
         "anchor": "x2",
         "domain": [
          0.36,
          0.6399999999999999
         ],
         "title": {
          "text": "Velocity (m/s)"
         }
        },
        "yaxis3": {
         "anchor": "x3",
         "domain": [
          0,
          0.27999999999999997
         ],
         "title": {
          "text": "Velocity (m/s)"
         }
        }
       }
      }
     },
     "metadata": {},
     "output_type": "display_data"
    },
    {
     "data": {
      "application/vnd.plotly.v1+json": {
       "config": {
        "plotlyServerURL": "https://plot.ly"
       },
       "data": [
        {
         "line": {
          "color": "rgb(228,26,28)"
         },
         "marker": {
          "size": 3
         },
         "mode": "lines+markers",
         "name": "2024-08-22_14-47-39",
         "type": "scatter",
         "x": {
          "bdata": "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",
          "dtype": "f8"
         },
         "y": {
          "bdata": "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",
          "dtype": "f8"
         }
        },
        {
         "marker": {
          "color": "rgb(228,26,28)",
          "size": 10,
          "symbol": "square"
         },
         "mode": "markers",
         "name": "2024-08-22_14-47-39 Start",
         "showlegend": false,
         "type": "scatter",
         "x": [
          -0.9605532884597778
         ],
         "y": [
          1.9200801849365232
         ]
        },
        {
         "marker": {
          "color": "rgb(228,26,28)",
          "size": 10,
          "symbol": "diamond"
         },
         "mode": "markers",
         "name": "2024-08-22_14-47-39 End",
         "showlegend": false,
         "type": "scatter",
         "x": [
          2.073158025741577
         ],
         "y": [
          3.942232608795166
         ]
        }
       ],
       "layout": {
        "height": 600,
        "template": {
         "data": {
          "bar": [
           {
            "error_x": {
             "color": "#2a3f5f"
            },
            "error_y": {
             "color": "#2a3f5f"
            },
            "marker": {
             "line": {
              "color": "#E5ECF6",
              "width": 0.5
             },
             "pattern": {
              "fillmode": "overlay",
              "size": 10,
              "solidity": 0.2
             }
            },
            "type": "bar"
           }
          ],
          "barpolar": [
           {
            "marker": {
             "line": {
              "color": "#E5ECF6",
              "width": 0.5
             },
             "pattern": {
              "fillmode": "overlay",
              "size": 10,
              "solidity": 0.2
             }
            },
            "type": "barpolar"
           }
          ],
          "carpet": [
           {
            "aaxis": {
             "endlinecolor": "#2a3f5f",
             "gridcolor": "white",
             "linecolor": "white",
             "minorgridcolor": "white",
             "startlinecolor": "#2a3f5f"
            },
            "baxis": {
             "endlinecolor": "#2a3f5f",
             "gridcolor": "white",
             "linecolor": "white",
             "minorgridcolor": "white",
             "startlinecolor": "#2a3f5f"
            },
            "type": "carpet"
           }
          ],
          "choropleth": [
           {
            "colorbar": {
             "outlinewidth": 0,
             "ticks": ""
            },
            "type": "choropleth"
           }
          ],
          "contour": [
           {
            "colorbar": {
             "outlinewidth": 0,
             "ticks": ""
            },
            "colorscale": [
             [
              0,
              "#0d0887"
             ],
             [
              0.1111111111111111,
              "#46039f"
             ],
             [
              0.2222222222222222,
              "#7201a8"
             ],
             [
              0.3333333333333333,
              "#9c179e"
             ],
             [
              0.4444444444444444,
              "#bd3786"
             ],
             [
              0.5555555555555556,
              "#d8576b"
             ],
             [
              0.6666666666666666,
              "#ed7953"
             ],
             [
              0.7777777777777778,
              "#fb9f3a"
             ],
             [
              0.8888888888888888,
              "#fdca26"
             ],
             [
              1,
              "#f0f921"
             ]
            ],
            "type": "contour"
           }
          ],
          "contourcarpet": [
           {
            "colorbar": {
             "outlinewidth": 0,
             "ticks": ""
            },
            "type": "contourcarpet"
           }
          ],
          "heatmap": [
           {
            "colorbar": {
             "outlinewidth": 0,
             "ticks": ""
            },
            "colorscale": [
             [
              0,
              "#0d0887"
             ],
             [
              0.1111111111111111,
              "#46039f"
             ],
             [
              0.2222222222222222,
              "#7201a8"
             ],
             [
              0.3333333333333333,
              "#9c179e"
             ],
             [
              0.4444444444444444,
              "#bd3786"
             ],
             [
              0.5555555555555556,
              "#d8576b"
             ],
             [
              0.6666666666666666,
              "#ed7953"
             ],
             [
              0.7777777777777778,
              "#fb9f3a"
             ],
             [
              0.8888888888888888,
              "#fdca26"
             ],
             [
              1,
              "#f0f921"
             ]
            ],
            "type": "heatmap"
           }
          ],
          "histogram": [
           {
            "marker": {
             "pattern": {
              "fillmode": "overlay",
              "size": 10,
              "solidity": 0.2
             }
            },
            "type": "histogram"
           }
          ],
          "histogram2d": [
           {
            "colorbar": {
             "outlinewidth": 0,
             "ticks": ""
            },
            "colorscale": [
             [
              0,
              "#0d0887"
             ],
             [
              0.1111111111111111,
              "#46039f"
             ],
             [
              0.2222222222222222,
              "#7201a8"
             ],
             [
              0.3333333333333333,
              "#9c179e"
             ],
             [
              0.4444444444444444,
              "#bd3786"
             ],
             [
              0.5555555555555556,
              "#d8576b"
             ],
             [
              0.6666666666666666,
              "#ed7953"
             ],
             [
              0.7777777777777778,
              "#fb9f3a"
             ],
             [
              0.8888888888888888,
              "#fdca26"
             ],
             [
              1,
              "#f0f921"
             ]
            ],
            "type": "histogram2d"
           }
          ],
          "histogram2dcontour": [
           {
            "colorbar": {
             "outlinewidth": 0,
             "ticks": ""
            },
            "colorscale": [
             [
              0,
              "#0d0887"
             ],
             [
              0.1111111111111111,
              "#46039f"
             ],
             [
              0.2222222222222222,
              "#7201a8"
             ],
             [
              0.3333333333333333,
              "#9c179e"
             ],
             [
              0.4444444444444444,
              "#bd3786"
             ],
             [
              0.5555555555555556,
              "#d8576b"
             ],
             [
              0.6666666666666666,
              "#ed7953"
             ],
             [
              0.7777777777777778,
              "#fb9f3a"
             ],
             [
              0.8888888888888888,
              "#fdca26"
             ],
             [
              1,
              "#f0f921"
             ]
            ],
            "type": "histogram2dcontour"
           }
          ],
          "mesh3d": [
           {
            "colorbar": {
             "outlinewidth": 0,
             "ticks": ""
            },
            "type": "mesh3d"
           }
          ],
          "parcoords": [
           {
            "line": {
             "colorbar": {
              "outlinewidth": 0,
              "ticks": ""
             }
            },
            "type": "parcoords"
           }
          ],
          "pie": [
           {
            "automargin": true,
            "type": "pie"
           }
          ],
          "scatter": [
           {
            "fillpattern": {
             "fillmode": "overlay",
             "size": 10,
             "solidity": 0.2
            },
            "type": "scatter"
           }
          ],
          "scatter3d": [
           {
            "line": {
             "colorbar": {
              "outlinewidth": 0,
              "ticks": ""
             }
            },
            "marker": {
             "colorbar": {
              "outlinewidth": 0,
              "ticks": ""
             }
            },
            "type": "scatter3d"
           }
          ],
          "scattercarpet": [
           {
            "marker": {
             "colorbar": {
              "outlinewidth": 0,
              "ticks": ""
             }
            },
            "type": "scattercarpet"
           }
          ],
          "scattergeo": [
           {
            "marker": {
             "colorbar": {
              "outlinewidth": 0,
              "ticks": ""
             }
            },
            "type": "scattergeo"
           }
          ],
          "scattergl": [
           {
            "marker": {
             "colorbar": {
              "outlinewidth": 0,
              "ticks": ""
             }
            },
            "type": "scattergl"
           }
          ],
          "scattermap": [
           {
            "marker": {
             "colorbar": {
              "outlinewidth": 0,
              "ticks": ""
             }
            },
            "type": "scattermap"
           }
          ],
          "scattermapbox": [
           {
            "marker": {
             "colorbar": {
              "outlinewidth": 0,
              "ticks": ""
             }
            },
            "type": "scattermapbox"
           }
          ],
          "scatterpolar": [
           {
            "marker": {
             "colorbar": {
              "outlinewidth": 0,
              "ticks": ""
             }
            },
            "type": "scatterpolar"
           }
          ],
          "scatterpolargl": [
           {
            "marker": {
             "colorbar": {
              "outlinewidth": 0,
              "ticks": ""
             }
            },
            "type": "scatterpolargl"
           }
          ],
          "scatterternary": [
           {
            "marker": {
             "colorbar": {
              "outlinewidth": 0,
              "ticks": ""
             }
            },
            "type": "scatterternary"
           }
          ],
          "surface": [
           {
            "colorbar": {
             "outlinewidth": 0,
             "ticks": ""
            },
            "colorscale": [
             [
              0,
              "#0d0887"
             ],
             [
              0.1111111111111111,
              "#46039f"
             ],
             [
              0.2222222222222222,
              "#7201a8"
             ],
             [
              0.3333333333333333,
              "#9c179e"
             ],
             [
              0.4444444444444444,
              "#bd3786"
             ],
             [
              0.5555555555555556,
              "#d8576b"
             ],
             [
              0.6666666666666666,
              "#ed7953"
             ],
             [
              0.7777777777777778,
              "#fb9f3a"
             ],
             [
              0.8888888888888888,
              "#fdca26"
             ],
             [
              1,
              "#f0f921"
             ]
            ],
            "type": "surface"
           }
          ],
          "table": [
           {
            "cells": {
             "fill": {
              "color": "#EBF0F8"
             },
             "line": {
              "color": "white"
             }
            },
            "header": {
             "fill": {
              "color": "#C8D4E3"
             },
             "line": {
              "color": "white"
             }
            },
            "type": "table"
           }
          ]
         },
         "layout": {
          "annotationdefaults": {
           "arrowcolor": "#2a3f5f",
           "arrowhead": 0,
           "arrowwidth": 1
          },
          "autotypenumbers": "strict",
          "coloraxis": {
           "colorbar": {
            "outlinewidth": 0,
            "ticks": ""
           }
          },
          "colorscale": {
           "diverging": [
            [
             0,
             "#8e0152"
            ],
            [
             0.1,
             "#c51b7d"
            ],
            [
             0.2,
             "#de77ae"
            ],
            [
             0.3,
             "#f1b6da"
            ],
            [
             0.4,
             "#fde0ef"
            ],
            [
             0.5,
             "#f7f7f7"
            ],
            [
             0.6,
             "#e6f5d0"
            ],
            [
             0.7,
             "#b8e186"
            ],
            [
             0.8,
             "#7fbc41"
            ],
            [
             0.9,
             "#4d9221"
            ],
            [
             1,
             "#276419"
            ]
           ],
           "sequential": [
            [
             0,
             "#0d0887"
            ],
            [
             0.1111111111111111,
             "#46039f"
            ],
            [
             0.2222222222222222,
             "#7201a8"
            ],
            [
             0.3333333333333333,
             "#9c179e"
            ],
            [
             0.4444444444444444,
             "#bd3786"
            ],
            [
             0.5555555555555556,
             "#d8576b"
            ],
            [
             0.6666666666666666,
             "#ed7953"
            ],
            [
             0.7777777777777778,
             "#fb9f3a"
            ],
            [
             0.8888888888888888,
             "#fdca26"
            ],
            [
             1,
             "#f0f921"
            ]
           ],
           "sequentialminus": [
            [
             0,
             "#0d0887"
            ],
            [
             0.1111111111111111,
             "#46039f"
            ],
            [
             0.2222222222222222,
             "#7201a8"
            ],
            [
             0.3333333333333333,
             "#9c179e"
            ],
            [
             0.4444444444444444,
             "#bd3786"
            ],
            [
             0.5555555555555556,
             "#d8576b"
            ],
            [
             0.6666666666666666,
             "#ed7953"
            ],
            [
             0.7777777777777778,
             "#fb9f3a"
            ],
            [
             0.8888888888888888,
             "#fdca26"
            ],
            [
             1,
             "#f0f921"
            ]
           ]
          },
          "colorway": [
           "#636efa",
           "#EF553B",
           "#00cc96",
           "#ab63fa",
           "#FFA15A",
           "#19d3f3",
           "#FF6692",
           "#B6E880",
           "#FF97FF",
           "#FECB52"
          ],
          "font": {
           "color": "#2a3f5f"
          },
          "geo": {
           "bgcolor": "white",
           "lakecolor": "white",
           "landcolor": "#E5ECF6",
           "showlakes": true,
           "showland": true,
           "subunitcolor": "white"
          },
          "hoverlabel": {
           "align": "left"
          },
          "hovermode": "closest",
          "mapbox": {
           "style": "light"
          },
          "paper_bgcolor": "white",
          "plot_bgcolor": "#E5ECF6",
          "polar": {
           "angularaxis": {
            "gridcolor": "white",
            "linecolor": "white",
            "ticks": ""
           },
           "bgcolor": "#E5ECF6",
           "radialaxis": {
            "gridcolor": "white",
            "linecolor": "white",
            "ticks": ""
           }
          },
          "scene": {
           "xaxis": {
            "backgroundcolor": "#E5ECF6",
            "gridcolor": "white",
            "gridwidth": 2,
            "linecolor": "white",
            "showbackground": true,
            "ticks": "",
            "zerolinecolor": "white"
           },
           "yaxis": {
            "backgroundcolor": "#E5ECF6",
            "gridcolor": "white",
            "gridwidth": 2,
            "linecolor": "white",
            "showbackground": true,
            "ticks": "",
            "zerolinecolor": "white"
           },
           "zaxis": {
            "backgroundcolor": "#E5ECF6",
            "gridcolor": "white",
            "gridwidth": 2,
            "linecolor": "white",
            "showbackground": true,
            "ticks": "",
            "zerolinecolor": "white"
           }
          },
          "shapedefaults": {
           "line": {
            "color": "#2a3f5f"
           }
          },
          "ternary": {
           "aaxis": {
            "gridcolor": "white",
            "linecolor": "white",
            "ticks": ""
           },
           "baxis": {
            "gridcolor": "white",
            "linecolor": "white",
            "ticks": ""
           },
           "bgcolor": "#E5ECF6",
           "caxis": {
            "gridcolor": "white",
            "linecolor": "white",
            "ticks": ""
           }
          },
          "title": {
           "x": 0.05
          },
          "xaxis": {
           "automargin": true,
           "gridcolor": "white",
           "linecolor": "white",
           "ticks": "",
           "title": {
            "standoff": 15
           },
           "zerolinecolor": "white",
           "zerolinewidth": 2
          },
          "yaxis": {
           "automargin": true,
           "gridcolor": "white",
           "linecolor": "white",
           "ticks": "",
           "title": {
            "standoff": 15
           },
           "zerolinecolor": "white",
           "zerolinewidth": 2
          }
         }
        },
        "title": {
         "text": "Vehicle Trajectory - 2024-08-22_14-47-39"
        },
        "xaxis": {
         "title": {
          "text": "X Position (m)"
         }
        },
        "yaxis": {
         "scaleanchor": "x",
         "scaleratio": 1,
         "title": {
          "text": "Y Position (m)"
         }
        }
       }
      }
     },
     "metadata": {},
     "output_type": "display_data"
    },
    {
     "data": {
      "application/vnd.plotly.v1+json": {
       "config": {
        "plotlyServerURL": "https://plot.ly"
       },
       "data": [
        {
         "line": {
          "color": "red"
         },
         "name": "pos_x",
         "type": "scatter",
         "x": {
          "bdata": "AAAAAAAAAACCiIiISMZYP9zd3d0dxmg/AAAAAPCmcj8QERERkd92P93d3d3dI30/d3d3d6ctgj8zMzMzg9qFP4mIiIhoZYg/vLu7u4N5ij+JiIiIEBiNP8zMzMw0FJA/IiIiIr6ckT9VVVVVZeeSP0REREQQt5Q/ZmZmZl4/lj9lZmZmehOYP87MzMyUpJk/mpmZmfnzmj/v7u7uHvybP3l3d3cLi50/IyIiIspfnz93d3d3OZygP3d3d3cBRaE/Q0RERBTIoT9EREREVLOiP6uqqqpAZac/3t3d3cUtqD8RERER1faoP7y7u7s/eqk/AAAAAAIiqj+8u7u7W+iqP3d3d3ehrqs/iYiIiBKarD9mZmZmJIGtP5qZmZlDaq4/zczMzPg1rz/NzMzMTvqvP0REREQDILA/mpmZmbSDsD94d3d3DdewPzMzMzM6OrE/iYiIiCzAsT+8u7u7TSOyP0RERETCd7I/mpmZmYTKsj9EREREty2zPzMzMzP/krM/mpmZmbnksz+8u7u7ESa0PxERERFIirQ/iYiIiC4PtT8zMzMzDHW1P2ZmZmb6yLU/ERERERwstj/e3d3dnqC2P97d3d0XFLc/ZmZmZpyHtz9VVVVVtdu3PyIiIiIfHrg/d3d3d09xuD/NzMzMfOe4PzMzMzPfWbk/3t3d3UK9uT+amZmZv/+5P6uqqqquVLo/q6qqqn7Yuj+rqqqqtjy7P6uqqqrvoLs/MzMzM2Pjuz+amZmZVze8P7y7u7vyq7w/ZmZmZnQfvT8RERERBZS9P2ZmZmbNCb4/3t3d3ehtvj8iIiIiOdO+P97d3d0eWL8/q6qqqgisvz8zMzMz47XAP83MzMxI88E/iYiIiNkkwj/NzMzMtF/CP2ZmZmZuk8I/iYiICAazwj8AAAAAa9zCP97d3d0HDsM/zMzMTMRHwz9VVVXV2nnDPzMzM7Ofm8M/q6qqKpDFwz9VVVVV+ffDP1ZVVVVQCMQ/ioiIiAFTxD9mZmbmHYXEP3d3d3eynsQ/IyIiokHpxD+HiIiI0hrFP83MzExjTMU/d3d3d9uOxT+9u7s702bGP6qqqqpAkMY/vbu7O1XCxj8RERGR6/PGP4mIiIjsLsc/ISIiIqFYxz9nZmZmSnnHP0RERMQqosc/3t3dXQXUxz/e3d1dcQbIPzQzM7PQOMg/3t3d3edqyD+8u7s7563IP4mIiAgz6Mg/IiIiohERyT+9u7u70TLJPyIiIqIQXMk/7+7ubqGNyT/w7u5u5MfJP1VVVVUM8ck/IiIiIroRyj8RERGRrzvKP5qZmRmwbMo/RERERL6dyj+8u7s7DsfKP0RERES858o/iYiICJ0Qyz+JiIiILULLP93d3d24c8s/EBEREdWlyz9mZmbmhNjLP83MzEyCCcw/MjMzsxc7zD+JiIgIW3XMP3d3d3d7p8w/eXd3d/DIzD/e3d1d3PLMP2ZmZmb4JM0/EREREXJnzT8RERERaZDNP+/u7u6isc0/qqqqKkrkzT////9/nx7OPwAAAIBaWc4/8O7u7r+Czj/NzMxMvKPOP2ZmZuZzxM4/eXd39+r+zj/MzMxMYTjPP7y7uztucs8/d3d398Gszz9WVVVVUN7PP5qZmVkJDNA/vLu7u9Ek0D9VVVXV4D3QP2ZmZqaYTtA/ZmZm5pBj0D/e3d0dC5rQP1VVVRXRstA/vLu7+z3H0D8iIiLiTtjQP3d3d/cU7dA/ZmZmJnwK0T+JiIiIRCPRPxEREdHJO9E/AAAAAJRI0T9EREQED13RP7y7u/tXetE/REREBIyT0T/e3d2dVKzRP4mIiMhaxdE/MzMzcyXe0T+amZnZSfvRP97d3V0lGNI/mpmZGdsw0j9ERETE8UHSP7y7u7vsVtI/vLu7u2xv0j8zMzPz8YfSPwAAAACLnNI/3t3dHeKs0j+rqqoqVsHSP83MzAxx2tI/7+7uLk/30j/f3d2dj5XTP4mIiIgOptM/ERERkXy60z/NzMwMh9PTPzMzMzMM7NM/Q0RExOcI1D93d3f39SHUP4mIiIh4OtQ/h4iIyIZT1D/NzMyMUWzUP2ZmZqa/gNQ/mpmZ2baR1D+8u7u7iKbUP727u7tmw9Q/IiIionng1D/e3d2dLfXUP83MzEzJBdU/3t3d3Xsa1T9lZmYmlDPVP+/u7i5aTNU/q6qqamhl1T9nZmamXnbVP5qZmVmGydU/VVVVVQjr1T/d3d1dPCHWP7y7u3s2NtY/7+7urrdO1j9lZmYm2WvWPwAAAIBbhNY/mpmZmY+d1j+amZkZW7bWP5qZmRmvxtY/3t3d3UvX1j8AAAAAWvDWP0RERMT7CNc/7u7u7kMm1z8RERGR+jrXP+7u7m6OT9c/EBERkfVs1z9mZmZm84XXP1VVVVVkmtc/vLu7O7qq1z/e3d1d9b/XP5qZmdnY3Nc/IiIi4qH11z/NzMzM9Q7YPyIiIiKXWdg/AAAAwOhy2D+rqqqqQozYP3Z3dzdoqdg/AAAAwHTC2D9VVVXV+87YP2ZmZiaN49g/MzMzs50A2T8RERFRCxrZP5qZmZnWMtk/ERERUbpD2T/e3d3dxlzZP97d3Z0Ho9k/REREhAbm2T8iIiJi1P7ZPxERERG3D9o/ERERUX8o2j8AAADAtUHaPwAAAEC+Wto/RERERDRv2j8yMzNzr5DaP8zMzAwyqdo/REREBP3B2j9ERESEdtvaP4mIiAin9No/d3d3t4kF2z8RERHRKBbbP4mIiEiqLts/ZmZmJhVM2z+sqqrqN2nbP83MzEyReds/d3d3N4mO2z+amZkZ2bPbP1VVVZX60Ns/393dXfnp2z8QERHRQiTcP6uqqqr5ONw/MzMzc7RW3D9FRETEt3PcP7y7u3tqiNw/RERERL6h3D/NzMyMiLrcP+/u7i5gJ90/iYiIyMw73T8zMzPz2lTdP7y7u7t3Zd0/VFVVFXB63T+8u7t7OJPdP0RERMRGrN0/iYiISP3A3T+amZnZitHdPxERERGZ6t0/7+7ubmED3j/e3d3dbxzeP97d3R0iMd4/7+7u7r5B3j8SERGRcVbeP6uqqqo5eN4/AAAAQBeV3j/v7u6u9bHePzQzM/PNxt4/mpmZGdzf3j8iIiJiMvneP2VmZqYQFt8/iYiISDIz3z/v7u5uFETfP97d3V2CpN8/3t3dXb+83z93d3e3h9XfP+/u7u7e6t8/vLu7+5P/3z/v7u4u/wngP97d3T1uGOA/vLu7mxgl4D8AAAAgcy/gPwAAAGDCN+A/IiIiYktE4D+8u7tb31LgPwAAAKBNYeA/iIiIyM5v4D9mZmZGbnrgPwAAAEDohuA/q6qqyiqT4D8RERFRA6LgP4mIiAiMruA/zczMjM204D+7u7u7R8HgP97d3T3VzeA/AAAAYDfa4D+JiIioUwzhP0RERGSAFOE/IiIiAv0e4T8AAABAvC/hP2ZmZoZwYeE/zczM7O5r4T9ERETEYHThP5qZmRnHfuE/VVVVVU6L4T+rqqqqtZfhP+/u7k5MpOE/mpmZeeWw4T+JiIhoVr3hPwAAAGDwyeE/REREpFXW4T+rqqqK2uLhPzMzM1Mg6eE/REREhHfz4T8RERFx8gPiPyIiIoJ6EOI/3t3d3dMa4j9ERESE/iLiP+/u7u5hLeI/ZmZmpt054j8AAACgXkjiP+/u7g73UuI/VVVV9U9b4j+8u7tbomXiP7y7u5sqcuI/IiIiQtN+4j+rqqoqSYviPyIiIgLzl+I/MzMz87W/4j9EREQEPcziP6uqqoqi2OI/iYiISDPn4j/NzMyMge/iP97d3b05/uI/iYiIqNIK4z8iIiLiNhfjPxEREfGlJeM/ZmZm5hAw4z/NzMxsCkXjP1VVVbU8auM/iYiIyKt44z/NzMysOYPjP7y7uxuIi+M/REREhPSV4z/v7u4ueqLjP2ZmZiYMseM/d3d3F56/4z9mZmZGAszjP5qZmVmJ2OM/mpmZOTPl4z9VVVX1y/HjPzMzM/M9/uM/RERExJcE5D93d3eXHRHkP83MzMzIHeQ/IiIiAjwq5D8zMzOzxjbkP1VVVfUSP+Q/MzMzU2xJ5D+amZn5I1bkP5qZmbnTZuQ/AAAAgC5z5D/v7u7On3vkP0RERORkiOQ/VVVVFdSS5D+amZm5fp/kPxAREdEYrOQ/ZmZm5ui85D+JiIhIccnkPzMzMzP41eQ/VVVVNYrk5D8iIiJi7vDkPwAAAOA8+eQ/MzMzs84H5T8SERHRahblP3d3d9fZJOU/zczMzGsz5T93d3cXr0zlP2ZmZqYgV+U/",
          "dtype": "f8"
         },
         "xaxis": "x",
         "y": {
          "bdata": "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",
          "dtype": "f8"
         },
         "yaxis": "y"
        },
        {
         "line": {
          "color": "green"
         },
         "name": "pos_y",
         "type": "scatter",
         "x": {
          "bdata": "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",
          "dtype": "f8"
         },
         "xaxis": "x",
         "y": {
          "bdata": "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",
          "dtype": "f8"
         },
         "yaxis": "y"
        },
        {
         "line": {
          "color": "blue"
         },
         "name": "pos_z",
         "type": "scatter",
         "x": {
          "bdata": "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",
          "dtype": "f8"
         },
         "xaxis": "x",
         "y": {
          "bdata": "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",
          "dtype": "f8"
         },
         "yaxis": "y"
        },
        {
         "line": {
          "color": "red"
         },
         "name": "vel_N",
         "type": "scatter",
         "x": {
          "bdata": "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",
          "dtype": "f8"
         },
         "xaxis": "x2",
         "y": {
          "bdata": "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",
          "dtype": "f8"
         },
         "yaxis": "y2"
        },
        {
         "line": {
          "color": "green"
         },
         "name": "vel_E",
         "type": "scatter",
         "x": {
          "bdata": "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",
          "dtype": "f8"
         },
         "xaxis": "x2",
         "y": {
          "bdata": "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",
          "dtype": "f8"
         },
         "yaxis": "y2"
        },
        {
         "line": {
          "color": "blue"
         },
         "name": "vel_D",
         "type": "scatter",
         "x": {
          "bdata": "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",
          "dtype": "f8"
         },
         "xaxis": "x2",
         "y": {
          "bdata": "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",
          "dtype": "f8"
         },
         "yaxis": "y2"
        }
       ],
       "layout": {
        "annotations": [
         {
          "font": {
           "size": 16
          },
          "showarrow": false,
          "text": "Position",
          "x": 0.5,
          "xanchor": "center",
          "xref": "paper",
          "y": 1,
          "yanchor": "bottom",
          "yref": "paper"
         },
         {
          "font": {
           "size": 16
          },
          "showarrow": false,
          "text": "Velocity",
          "x": 0.5,
          "xanchor": "center",
          "xref": "paper",
          "y": 0.46,
          "yanchor": "bottom",
          "yref": "paper"
         }
        ],
        "height": 500,
        "hovermode": "x unified",
        "template": {
         "data": {
          "bar": [
           {
            "error_x": {
             "color": "#2a3f5f"
            },
            "error_y": {
             "color": "#2a3f5f"
            },
            "marker": {
             "line": {
              "color": "#E5ECF6",
              "width": 0.5
             },
             "pattern": {
              "fillmode": "overlay",
              "size": 10,
              "solidity": 0.2
             }
            },
            "type": "bar"
           }
          ],
          "barpolar": [
           {
            "marker": {
             "line": {
              "color": "#E5ECF6",
              "width": 0.5
             },
             "pattern": {
              "fillmode": "overlay",
              "size": 10,
              "solidity": 0.2
             }
            },
            "type": "barpolar"
           }
          ],
          "carpet": [
           {
            "aaxis": {
             "endlinecolor": "#2a3f5f",
             "gridcolor": "white",
             "linecolor": "white",
             "minorgridcolor": "white",
             "startlinecolor": "#2a3f5f"
            },
            "baxis": {
             "endlinecolor": "#2a3f5f",
             "gridcolor": "white",
             "linecolor": "white",
             "minorgridcolor": "white",
             "startlinecolor": "#2a3f5f"
            },
            "type": "carpet"
           }
          ],
          "choropleth": [
           {
            "colorbar": {
             "outlinewidth": 0,
             "ticks": ""
            },
            "type": "choropleth"
           }
          ],
          "contour": [
           {
            "colorbar": {
             "outlinewidth": 0,
             "ticks": ""
            },
            "colorscale": [
             [
              0,
              "#0d0887"
             ],
             [
              0.1111111111111111,
              "#46039f"
             ],
             [
              0.2222222222222222,
              "#7201a8"
             ],
             [
              0.3333333333333333,
              "#9c179e"
             ],
             [
              0.4444444444444444,
              "#bd3786"
             ],
             [
              0.5555555555555556,
              "#d8576b"
             ],
             [
              0.6666666666666666,
              "#ed7953"
             ],
             [
              0.7777777777777778,
              "#fb9f3a"
             ],
             [
              0.8888888888888888,
              "#fdca26"
             ],
             [
              1,
              "#f0f921"
             ]
            ],
            "type": "contour"
           }
          ],
          "contourcarpet": [
           {
            "colorbar": {
             "outlinewidth": 0,
             "ticks": ""
            },
            "type": "contourcarpet"
           }
          ],
          "heatmap": [
           {
            "colorbar": {
             "outlinewidth": 0,
             "ticks": ""
            },
            "colorscale": [
             [
              0,
              "#0d0887"
             ],
             [
              0.1111111111111111,
              "#46039f"
             ],
             [
              0.2222222222222222,
              "#7201a8"
             ],
             [
              0.3333333333333333,
              "#9c179e"
             ],
             [
              0.4444444444444444,
              "#bd3786"
             ],
             [
              0.5555555555555556,
              "#d8576b"
             ],
             [
              0.6666666666666666,
              "#ed7953"
             ],
             [
              0.7777777777777778,
              "#fb9f3a"
             ],
             [
              0.8888888888888888,
              "#fdca26"
             ],
             [
              1,
              "#f0f921"
             ]
            ],
            "type": "heatmap"
           }
          ],
          "histogram": [
           {
            "marker": {
             "pattern": {
              "fillmode": "overlay",
              "size": 10,
              "solidity": 0.2
             }
            },
            "type": "histogram"
           }
          ],
          "histogram2d": [
           {
            "colorbar": {
             "outlinewidth": 0,
             "ticks": ""
            },
            "colorscale": [
             [
              0,
              "#0d0887"
             ],
             [
              0.1111111111111111,
              "#46039f"
             ],
             [
              0.2222222222222222,
              "#7201a8"
             ],
             [
              0.3333333333333333,
              "#9c179e"
             ],
             [
              0.4444444444444444,
              "#bd3786"
             ],
             [
              0.5555555555555556,
              "#d8576b"
             ],
             [
              0.6666666666666666,
              "#ed7953"
             ],
             [
              0.7777777777777778,
              "#fb9f3a"
             ],
             [
              0.8888888888888888,
              "#fdca26"
             ],
             [
              1,
              "#f0f921"
             ]
            ],
            "type": "histogram2d"
           }
          ],
          "histogram2dcontour": [
           {
            "colorbar": {
             "outlinewidth": 0,
             "ticks": ""
            },
            "colorscale": [
             [
              0,
              "#0d0887"
             ],
             [
              0.1111111111111111,
              "#46039f"
             ],
             [
              0.2222222222222222,
              "#7201a8"
             ],
             [
              0.3333333333333333,
              "#9c179e"
             ],
             [
              0.4444444444444444,
              "#bd3786"
             ],
             [
              0.5555555555555556,
              "#d8576b"
             ],
             [
              0.6666666666666666,
              "#ed7953"
             ],
             [
              0.7777777777777778,
              "#fb9f3a"
             ],
             [
              0.8888888888888888,
              "#fdca26"
             ],
             [
              1,
              "#f0f921"
             ]
            ],
            "type": "histogram2dcontour"
           }
          ],
          "mesh3d": [
           {
            "colorbar": {
             "outlinewidth": 0,
             "ticks": ""
            },
            "type": "mesh3d"
           }
          ],
          "parcoords": [
           {
            "line": {
             "colorbar": {
              "outlinewidth": 0,
              "ticks": ""
             }
            },
            "type": "parcoords"
           }
          ],
          "pie": [
           {
            "automargin": true,
            "type": "pie"
           }
          ],
          "scatter": [
           {
            "fillpattern": {
             "fillmode": "overlay",
             "size": 10,
             "solidity": 0.2
            },
            "type": "scatter"
           }
          ],
          "scatter3d": [
           {
            "line": {
             "colorbar": {
              "outlinewidth": 0,
              "ticks": ""
             }
            },
            "marker": {
             "colorbar": {
              "outlinewidth": 0,
              "ticks": ""
             }
            },
            "type": "scatter3d"
           }
          ],
          "scattercarpet": [
           {
            "marker": {
             "colorbar": {
              "outlinewidth": 0,
              "ticks": ""
             }
            },
            "type": "scattercarpet"
           }
          ],
          "scattergeo": [
           {
            "marker": {
             "colorbar": {
              "outlinewidth": 0,
              "ticks": ""
             }
            },
            "type": "scattergeo"
           }
          ],
          "scattergl": [
           {
            "marker": {
             "colorbar": {
              "outlinewidth": 0,
              "ticks": ""
             }
            },
            "type": "scattergl"
           }
          ],
          "scattermap": [
           {
            "marker": {
             "colorbar": {
              "outlinewidth": 0,
              "ticks": ""
             }
            },
            "type": "scattermap"
           }
          ],
          "scattermapbox": [
           {
            "marker": {
             "colorbar": {
              "outlinewidth": 0,
              "ticks": ""
             }
            },
            "type": "scattermapbox"
           }
          ],
          "scatterpolar": [
           {
            "marker": {
             "colorbar": {
              "outlinewidth": 0,
              "ticks": ""
             }
            },
            "type": "scatterpolar"
           }
          ],
          "scatterpolargl": [
           {
            "marker": {
             "colorbar": {
              "outlinewidth": 0,
              "ticks": ""
             }
            },
            "type": "scatterpolargl"
           }
          ],
          "scatterternary": [
           {
            "marker": {
             "colorbar": {
              "outlinewidth": 0,
              "ticks": ""
             }
            },
            "type": "scatterternary"
           }
          ],
          "surface": [
           {
            "colorbar": {
             "outlinewidth": 0,
             "ticks": ""
            },
            "colorscale": [
             [
              0,
              "#0d0887"
             ],
             [
              0.1111111111111111,
              "#46039f"
             ],
             [
              0.2222222222222222,
              "#7201a8"
             ],
             [
              0.3333333333333333,
              "#9c179e"
             ],
             [
              0.4444444444444444,
              "#bd3786"
             ],
             [
              0.5555555555555556,
              "#d8576b"
             ],
             [
              0.6666666666666666,
              "#ed7953"
             ],
             [
              0.7777777777777778,
              "#fb9f3a"
             ],
             [
              0.8888888888888888,
              "#fdca26"
             ],
             [
              1,
              "#f0f921"
             ]
            ],
            "type": "surface"
           }
          ],
          "table": [
           {
            "cells": {
             "fill": {
              "color": "#EBF0F8"
             },
             "line": {
              "color": "white"
             }
            },
            "header": {
             "fill": {
              "color": "#C8D4E3"
             },
             "line": {
              "color": "white"
             }
            },
            "type": "table"
           }
          ]
         },
         "layout": {
          "annotationdefaults": {
           "arrowcolor": "#2a3f5f",
           "arrowhead": 0,
           "arrowwidth": 1
          },
          "autotypenumbers": "strict",
          "coloraxis": {
           "colorbar": {
            "outlinewidth": 0,
            "ticks": ""
           }
          },
          "colorscale": {
           "diverging": [
            [
             0,
             "#8e0152"
            ],
            [
             0.1,
             "#c51b7d"
            ],
            [
             0.2,
             "#de77ae"
            ],
            [
             0.3,
             "#f1b6da"
            ],
            [
             0.4,
             "#fde0ef"
            ],
            [
             0.5,
             "#f7f7f7"
            ],
            [
             0.6,
             "#e6f5d0"
            ],
            [
             0.7,
             "#b8e186"
            ],
            [
             0.8,
             "#7fbc41"
            ],
            [
             0.9,
             "#4d9221"
            ],
            [
             1,
             "#276419"
            ]
           ],
           "sequential": [
            [
             0,
             "#0d0887"
            ],
            [
             0.1111111111111111,
             "#46039f"
            ],
            [
             0.2222222222222222,
             "#7201a8"
            ],
            [
             0.3333333333333333,
             "#9c179e"
            ],
            [
             0.4444444444444444,
             "#bd3786"
            ],
            [
             0.5555555555555556,
             "#d8576b"
            ],
            [
             0.6666666666666666,
             "#ed7953"
            ],
            [
             0.7777777777777778,
             "#fb9f3a"
            ],
            [
             0.8888888888888888,
             "#fdca26"
            ],
            [
             1,
             "#f0f921"
            ]
           ],
           "sequentialminus": [
            [
             0,
             "#0d0887"
            ],
            [
             0.1111111111111111,
             "#46039f"
            ],
            [
             0.2222222222222222,
             "#7201a8"
            ],
            [
             0.3333333333333333,
             "#9c179e"
            ],
            [
             0.4444444444444444,
             "#bd3786"
            ],
            [
             0.5555555555555556,
             "#d8576b"
            ],
            [
             0.6666666666666666,
             "#ed7953"
            ],
            [
             0.7777777777777778,
             "#fb9f3a"
            ],
            [
             0.8888888888888888,
             "#fdca26"
            ],
            [
             1,
             "#f0f921"
            ]
           ]
          },
          "colorway": [
           "#636efa",
           "#EF553B",
           "#00cc96",
           "#ab63fa",
           "#FFA15A",
           "#19d3f3",
           "#FF6692",
           "#B6E880",
           "#FF97FF",
           "#FECB52"
          ],
          "font": {
           "color": "#2a3f5f"
          },
          "geo": {
           "bgcolor": "white",
           "lakecolor": "white",
           "landcolor": "#E5ECF6",
           "showlakes": true,
           "showland": true,
           "subunitcolor": "white"
          },
          "hoverlabel": {
           "align": "left"
          },
          "hovermode": "closest",
          "mapbox": {
           "style": "light"
          },
          "paper_bgcolor": "white",
          "plot_bgcolor": "#E5ECF6",
          "polar": {
           "angularaxis": {
            "gridcolor": "white",
            "linecolor": "white",
            "ticks": ""
           },
           "bgcolor": "#E5ECF6",
           "radialaxis": {
            "gridcolor": "white",
            "linecolor": "white",
            "ticks": ""
           }
          },
          "scene": {
           "xaxis": {
            "backgroundcolor": "#E5ECF6",
            "gridcolor": "white",
            "gridwidth": 2,
            "linecolor": "white",
            "showbackground": true,
            "ticks": "",
            "zerolinecolor": "white"
           },
           "yaxis": {
            "backgroundcolor": "#E5ECF6",
            "gridcolor": "white",
            "gridwidth": 2,
            "linecolor": "white",
            "showbackground": true,
            "ticks": "",
            "zerolinecolor": "white"
           },
           "zaxis": {
            "backgroundcolor": "#E5ECF6",
            "gridcolor": "white",
            "gridwidth": 2,
            "linecolor": "white",
            "showbackground": true,
            "ticks": "",
            "zerolinecolor": "white"
           }
          },
          "shapedefaults": {
           "line": {
            "color": "#2a3f5f"
           }
          },
          "ternary": {
           "aaxis": {
            "gridcolor": "white",
            "linecolor": "white",
            "ticks": ""
           },
           "baxis": {
            "gridcolor": "white",
            "linecolor": "white",
            "ticks": ""
           },
           "bgcolor": "#E5ECF6",
           "caxis": {
            "gridcolor": "white",
            "linecolor": "white",
            "ticks": ""
           }
          },
          "title": {
           "x": 0.05
          },
          "xaxis": {
           "automargin": true,
           "gridcolor": "white",
           "linecolor": "white",
           "ticks": "",
           "title": {
            "standoff": 15
           },
           "zerolinecolor": "white",
           "zerolinewidth": 2
          },
          "yaxis": {
           "automargin": true,
           "gridcolor": "white",
           "linecolor": "white",
           "ticks": "",
           "title": {
            "standoff": 15
           },
           "zerolinecolor": "white",
           "zerolinewidth": 2
          }
         }
        },
        "title": {
         "text": "INS Data - 2024-08-22_14-47-39"
        },
        "xaxis": {
         "anchor": "y",
         "domain": [
          0,
          1
         ],
         "matches": "x2",
         "showticklabels": false
        },
        "xaxis2": {
         "anchor": "y2",
         "domain": [
          0,
          1
         ],
         "title": {
          "text": "Time (minutes)"
         }
        },
        "yaxis": {
         "anchor": "x",
         "domain": [
          0.54,
          1
         ]
        },
        "yaxis2": {
         "anchor": "x2",
         "domain": [
          0,
          0.46
         ]
        }
       }
      }
     },
     "metadata": {},
     "output_type": "display_data"
    },
    {
     "name": "stdout",
     "output_type": "stream",
     "text": [
      "\n",
      "📈 Running multi-file comparisons across bags...\n"
     ]
    },
    {
     "data": {
      "application/vnd.plotly.v1+json": {
       "config": {
        "plotlyServerURL": "https://plot.ly"
       },
       "data": [
        {
         "legendgroup": "2024-08-22_14-06-43",
         "line": {
          "color": "rgb(228,26,28)"
         },
         "name": "2024-08-22_14-06-43 - X",
         "type": "scatter",
         "x": {
          "bdata": "EREREYGCkD/v7u7uhpGYPxERERFtGaA/VVVVVVcMqD/e3d3d+/+rP+7u7u6I7a8/IiIiIjbKsz+amZmZP9G1P83MzMwyx7c/vLu7u8g5vz8iIiKiwp/APwAAAADJmcE/MzMzs5Sfwz/v7u5uLpLEP2dmZub/jMU/7+7ubqSTxz+8u7s7rS7JP+/u7m6dfMo/3t3d3cCDzD+rqqqqiFzNPwAAAIBCXs4/vLu7e8s10D+amZnZw7fQPzMzM7PENNE/AAAAwMdA0j93d3d327nSP1VVVdXaLtM/zczMjNlB1D9VVVXVQMPUP6uqquqdSNU/IyIiIs221z/e3d2dW0HYPwAAAEC1wtg/zczMjDTk2D/NzMzMcmXZP83MzMwi69k/mpmZWUD72j+bmZlZsu3bP3d3d3c/c90/VVVV1Z3w3T9mZmYmBe/eP2ZmZqYAjd8/3t3dPQTS4D+JiIhICQ/hP6uqqiqQmuE/ERERsZlo4j9mZmYmHqniPw==",
          "dtype": "f8"
         },
         "xaxis": "x",
         "y": {
          "bdata": "/v//30G7zj////+/hZ7LP////x/9mso/////f40j0D/+////RW/KP////9+b2sA/AAAAYIoRzD/9//9/u2PKP/3//z+v1sk//////5cQyz////+/xE7PPwAAAIAQXcg/////f5OPzD8AAAAADFnHP////7/W2Mg/////3yNixD/+////+oLIPwAAAOBnN8g//f//nwLCyT////+ffwbNP/7//z/W38g/AAAAwDSoyj/+//8f/6nHP/3//x/qdMk/AAAAoO++xj8AAABA/obEP/7//3/yHso/////3yePzD/+//8fAw3IPwAAAMD/4sk/AAAAQBoLyD////8f5aPAPwAAAOC6Lbk/+////zFksD/+////xVmmP/z//3/hSqw/4v//X3nQjj////9/eZasPwAAAABNgak/9f//3wnylz/p//9f//CYP/7//3/2Yac/+v//H2IVoj/7//8fCaOsP+7//x/F4Z4/8///3wRRnj/z//+/s5yjPw==",
          "dtype": "f8"
         },
         "yaxis": "y"
        },
        {
         "legendgroup": "2024-08-22_14-06-43",
         "line": {
          "color": "rgb(228,26,28)",
          "dash": "dash"
         },
         "name": "2024-08-22_14-06-43 - Y",
         "type": "scatter",
         "x": {
          "bdata": "EREREYGCkD/v7u7uhpGYPxERERFtGaA/VVVVVVcMqD/e3d3d+/+rP+7u7u6I7a8/IiIiIjbKsz+amZmZP9G1P83MzMwyx7c/vLu7u8g5vz8iIiKiwp/APwAAAADJmcE/MzMzs5Sfwz/v7u5uLpLEP2dmZub/jMU/7+7ubqSTxz+8u7s7rS7JP+/u7m6dfMo/3t3d3cCDzD+rqqqqiFzNPwAAAIBCXs4/vLu7e8s10D+amZnZw7fQPzMzM7PENNE/AAAAwMdA0j93d3d327nSP1VVVdXaLtM/zczMjNlB1D9VVVXVQMPUP6uqquqdSNU/IyIiIs221z/e3d2dW0HYPwAAAEC1wtg/zczMjDTk2D/NzMzMcmXZP83MzMwi69k/mpmZWUD72j+bmZlZsu3bP3d3d3c/c90/VVVV1Z3w3T9mZmYmBe/eP2ZmZqYAjd8/3t3dPQTS4D+JiIhICQ/hP6uqqiqQmuE/ERERsZlo4j9mZmYmHqniPw==",
          "dtype": "f8"
         },
         "xaxis": "x2",
         "y": {
          "bdata": "+P//v1wupL/z///fSaqmP/X//z/dHKg//f//P3Qzsb/m//9/vBqRP/3//7+MhaQ/9P//36O4r7/m//8/Go6JP/j//99kRJc/7f//Xyp7k78n////qShmv/f//1/KqY0//v//fy/ooL/w//8/E2efP+X//18Z7JC/////vwMdmz81+v8/Zms1P7P//9/s03S//v//38XTnD/q//9/dchyP+///9+cV52/+P//fwdDlD/z//9fIRiHP9r//58jAIS/8f//nwdCkD/6//9f7LGHv8///19W6oi/8f//n40vcr/e//8/1E12v+7//1/dJ4O/6P7/Py1mRz/8//+f/SmqvwAAAIDbhrS/n///v1tweT////9/sjiRPwAAAGBl56e/SP3//+AoQj/1////AQaov/v//7/c9rG/6f//H3GZkr/8//9f9aGtv/v//58dk7e//P//ny6esr/6//9fp7a0v/r//789lrG/+f//H47Oq7/8////0Hu8vw==",
          "dtype": "f8"
         },
         "yaxis": "y2"
        },
        {
         "legendgroup": "2024-08-22_14-06-43",
         "line": {
          "color": "rgb(228,26,28)",
          "dash": "dot"
         },
         "name": "2024-08-22_14-06-43 - Z",
         "type": "scatter",
         "x": {
          "bdata": "EREREYGCkD/v7u7uhpGYPxERERFtGaA/VVVVVVcMqD/e3d3d+/+rP+7u7u6I7a8/IiIiIjbKsz+amZmZP9G1P83MzMwyx7c/vLu7u8g5vz8iIiKiwp/APwAAAADJmcE/MzMzs5Sfwz/v7u5uLpLEP2dmZub/jMU/7+7ubqSTxz+8u7s7rS7JP+/u7m6dfMo/3t3d3cCDzD+rqqqqiFzNPwAAAIBCXs4/vLu7e8s10D+amZnZw7fQPzMzM7PENNE/AAAAwMdA0j93d3d327nSP1VVVdXaLtM/zczMjNlB1D9VVVXVQMPUP6uqquqdSNU/IyIiIs221z/e3d2dW0HYPwAAAEC1wtg/zczMjDTk2D/NzMzMcmXZP83MzMwi69k/mpmZWUD72j+bmZlZsu3bP3d3d3c/c90/VVVV1Z3w3T9mZmYmBe/eP2ZmZqYAjd8/3t3dPQTS4D+JiIhICQ/hP6uqqiqQmuE/ERERsZlo4j9mZmYmHqniPw==",
          "dtype": "f8"
         },
         "xaxis": "x3",
         "y": {
          "bdata": "/P//37jJvL/t////bs6AP/j//59Au68/AAAAwP/Aub/l//9fGRiXv/z//9/AkrE//P//39BEsL/5//9/FMyqP/P//9+WS6M/3///P7TVfD/d//9fKaWJP////19EnbM/8v//n8+For8AAACg49y1P/v//5/MHaC/+///fx0XuD/T//+/O7mBv/n//98oT64//v//38X2sj/0////ObyeP/T//98RWqI/////P+NeoT/7//+fITugP+H//7/F0YM/+P//35m1kj/9////IqGFv8j+/38nrVM/2v//P85MjT/4//8/IM2Fv+T//5/DDpm/9v//fw6Vq7/+//8/zpG6v/7//1+VHbO/7P//Xylbjj/2//+fCkKoP////1847Ko/////fzjSnj////9fOKycPwAAAABJ2qo//v//n7Foqj/S//8fuVZ3P/j//98bvoE/2v//H53ufj/t//9f/X+LP/L//9+mfZg/4///X2G6ij/6//8fbu6RPw==",
          "dtype": "f8"
         },
         "yaxis": "y3"
        },
        {
         "legendgroup": "2024-08-22_14-29-05",
         "line": {
          "color": "rgb(55,126,184)"
         },
         "name": "2024-08-22_14-29-05 - X",
         "type": "scatter",
         "x": {
          "bdata": "AAAAAAAAAADMzMzM/BR/P+/u7u7GKI4/EhEREZ1+nz+amZmZl56jP6uqqqqAYac/ISIiIrhzrz93d3d3aO2xP4mIiIgnZbQ/EREREZGxuD9VVVVVUrK7P3d3d3d9o70/3t3dXZ+8wD8AAACAMq7BP2ZmZmb+rsI/////f3msxT8zMzMzeJ/GPzIzMzOQmsc/ERERETXzyT8jIiKiYzrMP0RERMSAfM4/VVVVFR0b0D8iIiLi3JfQP1VVVRVMjdE/q6qqaocT0j8AAADAteDTP7y7uzss8NQ/7+7uboT/1T8RERFR0oPWP7y7u/uw/dc/mpmZ2Vt+2D+KiIgIkf/YP+/u7u4tBto/m5mZ2ZWL2j/NzMyMLBHbPzIzMzNiC9w/EBERkTKI3D+rqqpqkhXdP+/u7q6YC94/zczMTLCE3j9VVVVVHgrfPyIiIoL9BeA/3d3dfZBE4D9mZmaG8YLgP5qZmTnSA+E/REREBL2P4T8AAADgLM7hP1VVVTVojeI/zczMLE4E4z+JiIiIGYHjP83MzGzIw+M/zczMjN8K5D+rqqoK74nkPyIiIoL6xeQ/7+7uzgt35T+rqqrq/C3mP2dmZoaXqeY/EREREQzm5j8zMzNThCbnP6uqqmq0q+c/7+7ujs/n5z/NzMzsgSjoPzMzM/OTqeg/REREpHPs6D8zMzOzJy3pP+/u7q7sp+k/q6qqKnno6T93d3dX6CjqP1VVVZXrpeo/vLu7Wy7k6j8iIiKCL53rP1VVVXXzD+w/vLu7u5JU7D+rqqqqFJPsPyIiIqLgL+0/vLu7m/dW7T9VVVX1GZftP0RERARDFu4/IiIiIohS7j8RERGRMZHuPw==",
          "dtype": "f8"
         },
         "xaxis": "x",
         "y": {
          "bdata": "+f//3ySCtT/7////eq+vP/n//x9+wqo/AAAAQARLtj/0//8/sKmsP/P//9+O0ao/+v//H6s5vD/8//9f8YW4P/n//x8xarQ//v//X1zpsj/7//+fo0m/P////99Ku8Q/7f///+SfnT8AAACAZQC2P////78Pqb8/+v//PykUtz/9////KuS/P/v//3+DI78/+///n05Utz/8//9/Pkq9P/3//x9kWbw/////v8K7uz////+fzkq5P/7//9/JGrc/////n4kavz/7//+/1M+7PwAAAGCWx7I/+///f179tz/8//8fX++3P/3///9lqsA/////P+t8vD////+/D566PwAAAMA8x7c//v//P8pUuT/9//9/kAK1P/3//78OBL0//f//318SvD/9////mGizP/r//3/DxLs//P//n/0luj/7//9fxKOxP/7//58jrLI/+///35tIuj/9///fMj27P/T//z8uW6s//f//391ptD8AAACApsK4P/7//18fYbw/+v//P5cKuz/7//+/LSu7P/////+d/r0/////n9ICwz/9//+/oAe4P/7////JFb8/+///H0YQvz8AAAAABvbDPwAAAAAQRLc//f//f1d2sj/8///fNlC9PwAAACC3Xbk/AAAAgM8nvD8AAACAVZO4P/7//990AL4//v//X3C+vj////+/F/63P/3//x+xR7s/+v//P+Tguz/9//9fM8K1P/7//x/eGL4/AAAAgFG0vz/+//8fA9a3P/z//5/EebY//f//n5AKuT/+///fzcm3PwAAAGDHxrQ/AAAAQAA7tj//////odu1P/v//x9ryL8/8v//v5YFqT/4////TNCYPw==",
          "dtype": "f8"
         },
         "yaxis": "y"
        },
        {
         "legendgroup": "2024-08-22_14-29-05",
         "line": {
          "color": "rgb(55,126,184)",
          "dash": "dash"
         },
         "name": "2024-08-22_14-29-05 - Y",
         "type": "scatter",
         "x": {
          "bdata": "AAAAAAAAAADMzMzM/BR/P+/u7u7GKI4/EhEREZ1+nz+amZmZl56jP6uqqqqAYac/ISIiIrhzrz93d3d3aO2xP4mIiIgnZbQ/EREREZGxuD9VVVVVUrK7P3d3d3d9o70/3t3dXZ+8wD8AAACAMq7BP2ZmZmb+rsI/////f3msxT8zMzMzeJ/GPzIzMzOQmsc/ERERETXzyT8jIiKiYzrMP0RERMSAfM4/VVVVFR0b0D8iIiLi3JfQP1VVVRVMjdE/q6qqaocT0j8AAADAteDTP7y7uzss8NQ/7+7uboT/1T8RERFR0oPWP7y7u/uw/dc/mpmZ2Vt+2D+KiIgIkf/YP+/u7u4tBto/m5mZ2ZWL2j/NzMyMLBHbPzIzMzNiC9w/EBERkTKI3D+rqqpqkhXdP+/u7q6YC94/zczMTLCE3j9VVVVVHgrfPyIiIoL9BeA/3d3dfZBE4D9mZmaG8YLgP5qZmTnSA+E/REREBL2P4T8AAADgLM7hP1VVVTVojeI/zczMLE4E4z+JiIiIGYHjP83MzGzIw+M/zczMjN8K5D+rqqoK74nkPyIiIoL6xeQ/7+7uzgt35T+rqqrq/C3mP2dmZoaXqeY/EREREQzm5j8zMzNThCbnP6uqqmq0q+c/7+7ujs/n5z/NzMzsgSjoPzMzM/OTqeg/REREpHPs6D8zMzOzJy3pP+/u7q7sp+k/q6qqKnno6T93d3dX6CjqP1VVVZXrpeo/vLu7Wy7k6j8iIiKCL53rP1VVVXXzD+w/vLu7u5JU7D+rqqqqFJPsPyIiIqLgL+0/vLu7m/dW7T9VVVX1GZftP0RERARDFu4/IiIiIohS7j8RERGRMZHuPw==",
          "dtype": "f8"
         },
         "xaxis": "x2",
         "y": {
          "bdata": "/v///ztPob/n//8fS2SSv6P9/9/rHES/9P////SOXr84//+f7NBfv+r//780FIg/2f//36yeiT/q//8/3yaeP3L+/1+dxEY/4f//P1Bkjb+v//8/iaFWv+r//5+FVoO/+v//39tdpL/w///fqaqFP/D//z9Er4e/o///36aUfr/2//+fgJeVP7///38w3Xe/2///P6YqiD/4//8/dVKSv+n//z8HyZC/0P//f0YAhT/y//9/IDadv+///9/ZzoM/+v//nzGPhL+f////wJ19v6T//9+KTXc/AAAAwN+/nr+Z//+fqVJ8v/////+VLYO/zf//v4U0gD/r//+/IIOUP4X//x/nTGw/+P//n0QUoL/R//+fPmiLP+v//7+qzZW/+v//X5+Upr8AAAAAuxCuv/v//39iNru/sf7/f825Vb/i//+/ysJVvwAAAKB51Jw/6///fxipjD8p//8/YlpjP/7//98zTaK/9v//X3w6nL/l//+/r4+fP/D//1+hjJC/8///fy3joz////9/SCqJv5L//7/iY3O/rP///zkafr/e//8/xImIv9v///8rIHA/mv//36XVdD/u//8/X2qXv9////8J94S/zf//30gfiz/R//8f/keDP8r//x/6h30/3v//H7Qjgr/o//+frdCbv97//x/9hXg/+f//H0XAmr/n//8fR0+Rv/D//7/2w4M/5P//3xxpfj9d//8f8ZRrv/T//x9jgJu/8v//P7fHp7/5//9/VdaBv+n//7+xA5E/zf//H5JNi7/7//+f0LaDP/r//59FNIa/lPz/HypWOj/q//9/LBqfv/r//18tWo4/+P///x+9lT/r//8/vy6Hvw==",
          "dtype": "f8"
         },
         "yaxis": "y2"
        },
        {
         "legendgroup": "2024-08-22_14-29-05",
         "line": {
          "color": "rgb(55,126,184)",
          "dash": "dot"
         },
         "name": "2024-08-22_14-29-05 - Z",
         "type": "scatter",
         "x": {
          "bdata": "AAAAAAAAAADMzMzM/BR/P+/u7u7GKI4/EhEREZ1+nz+amZmZl56jP6uqqqqAYac/ISIiIrhzrz93d3d3aO2xP4mIiIgnZbQ/EREREZGxuD9VVVVVUrK7P3d3d3d9o70/3t3dXZ+8wD8AAACAMq7BP2ZmZmb+rsI/////f3msxT8zMzMzeJ/GPzIzMzOQmsc/ERERETXzyT8jIiKiYzrMP0RERMSAfM4/VVVVFR0b0D8iIiLi3JfQP1VVVRVMjdE/q6qqaocT0j8AAADAteDTP7y7uzss8NQ/7+7uboT/1T8RERFR0oPWP7y7u/uw/dc/mpmZ2Vt+2D+KiIgIkf/YP+/u7u4tBto/m5mZ2ZWL2j/NzMyMLBHbPzIzMzNiC9w/EBERkTKI3D+rqqpqkhXdP+/u7q6YC94/zczMTLCE3j9VVVVVHgrfPyIiIoL9BeA/3d3dfZBE4D9mZmaG8YLgP5qZmTnSA+E/REREBL2P4T8AAADgLM7hP1VVVTVojeI/zczMLE4E4z+JiIiIGYHjP83MzGzIw+M/zczMjN8K5D+rqqoK74nkPyIiIoL6xeQ/7+7uzgt35T+rqqrq/C3mP2dmZoaXqeY/EREREQzm5j8zMzNThCbnP6uqqmq0q+c/7+7ujs/n5z/NzMzsgSjoPzMzM/OTqeg/REREpHPs6D8zMzOzJy3pP+/u7q7sp+k/q6qqKnno6T93d3dX6CjqP1VVVZXrpeo/vLu7Wy7k6j8iIiKCL53rP1VVVXXzD+w/vLu7u5JU7D+rqqqqFJPsPyIiIqLgL+0/vLu7m/dW7T9VVVX1GZftP0RERARDFu4/IiIiIohS7j8RERGRMZHuPw==",
          "dtype": "f8"
         },
         "xaxis": "x3",
         "y": {
          "bdata": "+v///0n1q7/7//+/n3ijv43//99dVX2/////n0jsjL/2//8/wdOjv/z//3/xJKC/9///Pwvmqz/7//8/Pt6hP+X//58dFZS/8P///y/Gnz/7///fGYWjP+X//1/Iw4i/6f//X/8wjL/8///fzC2sP/D//z/Cupo/k///n0BJfD/6////SY+WP/L//38ILIk/8////57xrD/r///fJGaXv/P//7+znKO/9P//P0rUqD/6//8fDVqgv+j//3/qiZM//v//n3zJoj/x//9fZcmAP/T//182JYC//f//f09woL/r//9/WZGRP/7///8O/IK/4v//n4m4ib+u//+fTzl8P/T//9+jBqo/5f//H5NOnr+z//8fc1l+P2D//z9Qjm2/tP3/v1IyOz/r//8/r16aP+n//19I75C/+P//n/sZoD/y//9/SRyTv/n//58ozZe/9P///yULgr/y//8f7MKTPwAAAKB5rbC/5P//H+i3nr/5//+fGFGYP/f//x/3yI2/+v//H06mkT/R//8fP9hnv/7//z+JVpE/+f//n+9qmT+5//8f4AN1v/7//3+pepU//v//P+IEpb/6//9/8Eqwv/z//7/MXaW/+v//Hy3GnL/s//+/bvKEv/n//5+enpY/7f7/H7omXj////+/ncN3v/L//z/0kqU/0f//H80zhj/m//+/wM+QP+P//z8UjYo/+///fyFZhb/U////TDGOP8z//7+xn3g/9f//H4zGnb/V//9fDA+Bvzn+/3+RO1G/1v//v47Fe7/3///frS6XP/7//3831pG/2P//X+Ezjr/1//9fa+Kav/X//9/5kaM/6f//n+ZuiD/k//+fUa6Yvw==",
          "dtype": "f8"
         },
         "yaxis": "y3"
        },
        {
         "legendgroup": "2024-08-22_14-47-39",
         "line": {
          "color": "rgb(77,175,74)"
         },
         "name": "2024-08-22_14-47-39 - X",
         "type": "scatter",
         "x": {
          "bdata": "AAAAAAAAAAC8u7u7yyV9P7y7u7u7k40/ZmZmZuaPnT+rqqqqwYG4P2ZmZmZxdLo/q6qqqlg2vD/NzMzMVd/AP4mIiIjWzcM/mZmZmfaqxz8AAACA2GTJP2ZmZmZgQ8o/q6qqKnMZyz9VVVXV8fLMP+7u7m7m5M0/NDMzs5tj0D8AAABACO3QP2ZmZiZnYdE/VVVVlbFW0j8RERERosHSP5uZmRnfvtM/7+7uLqmq1D8zMzNzoB7VP0RERERJj9U/rKqqqmzb1j+JiIhI9lPXP83MzMx0v9c/MzMz80k53D8iIiIiNXrdP83MzEym6t0/ERERUXxW3j8RERGR01jfP6uqqkoyDOA/ZmZmxkxE4D8iIiICTMHgPxEREVEDH+E/vLu7W10t4j8iIiIipGXiP0RERAQO/OI/REREpA5F4z9mZmaG+JXjP5qZmRklEeQ/q6qqipRJ5D8iIiJCUIjkP1VVVVXJBeU/ZmZmpjBX5T8=",
          "dtype": "f8"
         },
         "xaxis": "x",
         "y": {
          "bdata": "Rf//3yThZr/7//9/0Dq5P/3//9+QzLU//v//n7XgvD8AAADAeRKtP/7//9+ttrc/vv//H7ZYe7/8//+/zLe4PwAAACC/pbo/+v///8+Fsj/2////oFmnP/3//19TsbA/+v///+PutT/8//8fxYW1P/3///+Yibk/9f//X9nZlT/////f1H7PP/r//9+CWbI/////f9CyxD/1//8/oF+tP/b//3+A96k/////PzDKtT8AAADAtvK0P/T//x+486s/+////34nsz////9frka9P/3//x+t48M//v//ny8rtT/5///fdfqsP/j//x8waa0//v//v8FjwT/+//+f+CvDP//////iNLk/8///HxV9oj/9///f48/LP////z9lBco/////v2AQuz/+//+fP83DP/3//59DL7I//v//f6EIuj////8f8zG+PwAAAGCahrE/9f//X5hZnD/+//8/ndfFP/n//59V97o//f//n0eiuD8=",
          "dtype": "f8"
         },
         "yaxis": "y"
        },
        {
         "legendgroup": "2024-08-22_14-47-39",
         "line": {
          "color": "rgb(77,175,74)",
          "dash": "dash"
         },
         "name": "2024-08-22_14-47-39 - Y",
         "type": "scatter",
         "x": {
          "bdata": "AAAAAAAAAAC8u7u7yyV9P7y7u7u7k40/ZmZmZuaPnT+rqqqqwYG4P2ZmZmZxdLo/q6qqqlg2vD/NzMzMVd/AP4mIiIjWzcM/mZmZmfaqxz8AAACA2GTJP2ZmZmZgQ8o/q6qqKnMZyz9VVVXV8fLMP+7u7m7m5M0/NDMzs5tj0D8AAABACO3QP2ZmZiZnYdE/VVVVlbFW0j8RERERosHSP5uZmRnfvtM/7+7uLqmq1D8zMzNzoB7VP0RERERJj9U/rKqqqmzb1j+JiIhI9lPXP83MzMx0v9c/MzMz80k53D8iIiIiNXrdP83MzEym6t0/ERERUXxW3j8RERGR01jfP6uqqkoyDOA/ZmZmxkxE4D8iIiICTMHgPxEREVEDH+E/vLu7W10t4j8iIiIipGXiP0RERAQO/OI/REREpA5F4z9mZmaG+JXjP5qZmRklEeQ/q6qqipRJ5D8iIiJCUIjkP1VVVVXJBeU/ZmZmpjBX5T8=",
          "dtype": "f8"
         },
         "xaxis": "x2",
         "y": {
          "bdata": "/v///3iNx795/f8fUkA7v/X//1+gM5y//f//P6mApb/+//9f4tO4v/v//z+L2LC/////H55itj/9//9/W6uiP/3//9/t8Zu/0v//35RBhr/5/////0qgP////99Ur6g/7v//P1/unD/9///fFtK8v+r//x+iSZg//P//nzpet7/9//9ffN2Qv/v//9+fN7W/+v//3xwWrT/a//+/fKCOP+7//z9PVp8//f//f8mUu7/q//8fiieOv/f//9/mmJC//P//fzontL9t//9fvQlgP/3//1+Qaqs/9///f2QGk7+x//8/CBFyv/n////rQ5K/7f//XzbSlj/0//9/g8ilPyL//58tFGG/v///37bEdL/9//9/x6vLP////x8efMI/+f//H03goT/1//+/c96jv8D//3817nA/yv//f2cRhL9V//8fk95RP/T//18Jwqq/+v///xSuur/6//8/p4q5PwAAAAC7Hnw/x///f/jlgj8=",
          "dtype": "f8"
         },
         "yaxis": "y2"
        },
        {
         "legendgroup": "2024-08-22_14-47-39",
         "line": {
          "color": "rgb(77,175,74)",
          "dash": "dot"
         },
         "name": "2024-08-22_14-47-39 - Z",
         "type": "scatter",
         "x": {
          "bdata": "AAAAAAAAAAC8u7u7yyV9P7y7u7u7k40/ZmZmZuaPnT+rqqqqwYG4P2ZmZmZxdLo/q6qqqlg2vD/NzMzMVd/AP4mIiIjWzcM/mZmZmfaqxz8AAACA2GTJP2ZmZmZgQ8o/q6qqKnMZyz9VVVXV8fLMP+7u7m7m5M0/NDMzs5tj0D8AAABACO3QP2ZmZiZnYdE/VVVVlbFW0j8RERERosHSP5uZmRnfvtM/7+7uLqmq1D8zMzNzoB7VP0RERERJj9U/rKqqqmzb1j+JiIhI9lPXP83MzMx0v9c/MzMz80k53D8iIiIiNXrdP83MzEym6t0/ERERUXxW3j8RERGR01jfP6uqqkoyDOA/ZmZmxkxE4D8iIiICTMHgPxEREVEDH+E/vLu7W10t4j8iIiIipGXiP0RERAQO/OI/REREpA5F4z9mZmaG+JXjP5qZmRklEeQ/q6qqipRJ5D8iIiJCUIjkP1VVVVXJBeU/ZmZmpjBX5T8=",
          "dtype": "f8"
         },
         "xaxis": "x3",
         "y": {
          "bdata": "6P//P+ILmD/2/v9fz55fP+H//3/iVIi/5P///2l+mL/p//8fxmaMv/7//790Taw/5P//v1Ggnz/p//8/geOQPwAAACBZwJA/zf//v30iiD/X//9/BReHv/L//7+S0KQ/+///3+iIpz/U//8/9weAv/X//x+ImaE/6v//33WGmD/z//+f/IykP+7//z8aiZE/q////3rae7/m//8/sCN3P+3///8RV4k/AAAAoBzzoj/u//+fuEqcv8P//x8zl3+/////v5UEsj/2//+/WwKqP/v//z8NJqM/zv//fxBzcb9N/v9fpctZP/T//x+sYpU/wv//348adb/y//9fDHOYv5L9/x9koU2//v//n701mz/3//9foYunv/L//5/Pv6q/9v//P/q9qD/7//+/YlmQP6///1/Ks3U/+v//X26+n7/h//9f1j+Dv6X//1/1T2s/2///X21mfD/n////JmWRv7z////xBXQ/+P//HySQnj8=",
          "dtype": "f8"
         },
         "yaxis": "y3"
        }
       ],
       "layout": {
        "annotations": [
         {
          "font": {
           "size": 16
          },
          "showarrow": false,
          "text": "X Velocity",
          "x": 0.5,
          "xanchor": "center",
          "xref": "paper",
          "y": 1,
          "yanchor": "bottom",
          "yref": "paper"
         },
         {
          "font": {
           "size": 16
          },
          "showarrow": false,
          "text": "Y Velocity",
          "x": 0.5,
          "xanchor": "center",
          "xref": "paper",
          "y": 0.6399999999999999,
          "yanchor": "bottom",
          "yref": "paper"
         },
         {
          "font": {
           "size": 16
          },
          "showarrow": false,
          "text": "Z Velocity",
          "x": 0.5,
          "xanchor": "center",
          "xref": "paper",
          "y": 0.27999999999999997,
          "yanchor": "bottom",
          "yref": "paper"
         }
        ],
        "height": 800,
        "hovermode": "x unified",
        "template": {
         "data": {
          "bar": [
           {
            "error_x": {
             "color": "#2a3f5f"
            },
            "error_y": {
             "color": "#2a3f5f"
            },
            "marker": {
             "line": {
              "color": "#E5ECF6",
              "width": 0.5
             },
             "pattern": {
              "fillmode": "overlay",
              "size": 10,
              "solidity": 0.2
             }
            },
            "type": "bar"
           }
          ],
          "barpolar": [
           {
            "marker": {
             "line": {
              "color": "#E5ECF6",
              "width": 0.5
             },
             "pattern": {
              "fillmode": "overlay",
              "size": 10,
              "solidity": 0.2
             }
            },
            "type": "barpolar"
           }
          ],
          "carpet": [
           {
            "aaxis": {
             "endlinecolor": "#2a3f5f",
             "gridcolor": "white",
             "linecolor": "white",
             "minorgridcolor": "white",
             "startlinecolor": "#2a3f5f"
            },
            "baxis": {
             "endlinecolor": "#2a3f5f",
             "gridcolor": "white",
             "linecolor": "white",
             "minorgridcolor": "white",
             "startlinecolor": "#2a3f5f"
            },
            "type": "carpet"
           }
          ],
          "choropleth": [
           {
            "colorbar": {
             "outlinewidth": 0,
             "ticks": ""
            },
            "type": "choropleth"
           }
          ],
          "contour": [
           {
            "colorbar": {
             "outlinewidth": 0,
             "ticks": ""
            },
            "colorscale": [
             [
              0,
              "#0d0887"
             ],
             [
              0.1111111111111111,
              "#46039f"
             ],
             [
              0.2222222222222222,
              "#7201a8"
             ],
             [
              0.3333333333333333,
              "#9c179e"
             ],
             [
              0.4444444444444444,
              "#bd3786"
             ],
             [
              0.5555555555555556,
              "#d8576b"
             ],
             [
              0.6666666666666666,
              "#ed7953"
             ],
             [
              0.7777777777777778,
              "#fb9f3a"
             ],
             [
              0.8888888888888888,
              "#fdca26"
             ],
             [
              1,
              "#f0f921"
             ]
            ],
            "type": "contour"
           }
          ],
          "contourcarpet": [
           {
            "colorbar": {
             "outlinewidth": 0,
             "ticks": ""
            },
            "type": "contourcarpet"
           }
          ],
          "heatmap": [
           {
            "colorbar": {
             "outlinewidth": 0,
             "ticks": ""
            },
            "colorscale": [
             [
              0,
              "#0d0887"
             ],
             [
              0.1111111111111111,
              "#46039f"
             ],
             [
              0.2222222222222222,
              "#7201a8"
             ],
             [
              0.3333333333333333,
              "#9c179e"
             ],
             [
              0.4444444444444444,
              "#bd3786"
             ],
             [
              0.5555555555555556,
              "#d8576b"
             ],
             [
              0.6666666666666666,
              "#ed7953"
             ],
             [
              0.7777777777777778,
              "#fb9f3a"
             ],
             [
              0.8888888888888888,
              "#fdca26"
             ],
             [
              1,
              "#f0f921"
             ]
            ],
            "type": "heatmap"
           }
          ],
          "histogram": [
           {
            "marker": {
             "pattern": {
              "fillmode": "overlay",
              "size": 10,
              "solidity": 0.2
             }
            },
            "type": "histogram"
           }
          ],
          "histogram2d": [
           {
            "colorbar": {
             "outlinewidth": 0,
             "ticks": ""
            },
            "colorscale": [
             [
              0,
              "#0d0887"
             ],
             [
              0.1111111111111111,
              "#46039f"
             ],
             [
              0.2222222222222222,
              "#7201a8"
             ],
             [
              0.3333333333333333,
              "#9c179e"
             ],
             [
              0.4444444444444444,
              "#bd3786"
             ],
             [
              0.5555555555555556,
              "#d8576b"
             ],
             [
              0.6666666666666666,
              "#ed7953"
             ],
             [
              0.7777777777777778,
              "#fb9f3a"
             ],
             [
              0.8888888888888888,
              "#fdca26"
             ],
             [
              1,
              "#f0f921"
             ]
            ],
            "type": "histogram2d"
           }
          ],
          "histogram2dcontour": [
           {
            "colorbar": {
             "outlinewidth": 0,
             "ticks": ""
            },
            "colorscale": [
             [
              0,
              "#0d0887"
             ],
             [
              0.1111111111111111,
              "#46039f"
             ],
             [
              0.2222222222222222,
              "#7201a8"
             ],
             [
              0.3333333333333333,
              "#9c179e"
             ],
             [
              0.4444444444444444,
              "#bd3786"
             ],
             [
              0.5555555555555556,
              "#d8576b"
             ],
             [
              0.6666666666666666,
              "#ed7953"
             ],
             [
              0.7777777777777778,
              "#fb9f3a"
             ],
             [
              0.8888888888888888,
              "#fdca26"
             ],
             [
              1,
              "#f0f921"
             ]
            ],
            "type": "histogram2dcontour"
           }
          ],
          "mesh3d": [
           {
            "colorbar": {
             "outlinewidth": 0,
             "ticks": ""
            },
            "type": "mesh3d"
           }
          ],
          "parcoords": [
           {
            "line": {
             "colorbar": {
              "outlinewidth": 0,
              "ticks": ""
             }
            },
            "type": "parcoords"
           }
          ],
          "pie": [
           {
            "automargin": true,
            "type": "pie"
           }
          ],
          "scatter": [
           {
            "fillpattern": {
             "fillmode": "overlay",
             "size": 10,
             "solidity": 0.2
            },
            "type": "scatter"
           }
          ],
          "scatter3d": [
           {
            "line": {
             "colorbar": {
              "outlinewidth": 0,
              "ticks": ""
             }
            },
            "marker": {
             "colorbar": {
              "outlinewidth": 0,
              "ticks": ""
             }
            },
            "type": "scatter3d"
           }
          ],
          "scattercarpet": [
           {
            "marker": {
             "colorbar": {
              "outlinewidth": 0,
              "ticks": ""
             }
            },
            "type": "scattercarpet"
           }
          ],
          "scattergeo": [
           {
            "marker": {
             "colorbar": {
              "outlinewidth": 0,
              "ticks": ""
             }
            },
            "type": "scattergeo"
           }
          ],
          "scattergl": [
           {
            "marker": {
             "colorbar": {
              "outlinewidth": 0,
              "ticks": ""
             }
            },
            "type": "scattergl"
           }
          ],
          "scattermap": [
           {
            "marker": {
             "colorbar": {
              "outlinewidth": 0,
              "ticks": ""
             }
            },
            "type": "scattermap"
           }
          ],
          "scattermapbox": [
           {
            "marker": {
             "colorbar": {
              "outlinewidth": 0,
              "ticks": ""
             }
            },
            "type": "scattermapbox"
           }
          ],
          "scatterpolar": [
           {
            "marker": {
             "colorbar": {
              "outlinewidth": 0,
              "ticks": ""
             }
            },
            "type": "scatterpolar"
           }
          ],
          "scatterpolargl": [
           {
            "marker": {
             "colorbar": {
              "outlinewidth": 0,
              "ticks": ""
             }
            },
            "type": "scatterpolargl"
           }
          ],
          "scatterternary": [
           {
            "marker": {
             "colorbar": {
              "outlinewidth": 0,
              "ticks": ""
             }
            },
            "type": "scatterternary"
           }
          ],
          "surface": [
           {
            "colorbar": {
             "outlinewidth": 0,
             "ticks": ""
            },
            "colorscale": [
             [
              0,
              "#0d0887"
             ],
             [
              0.1111111111111111,
              "#46039f"
             ],
             [
              0.2222222222222222,
              "#7201a8"
             ],
             [
              0.3333333333333333,
              "#9c179e"
             ],
             [
              0.4444444444444444,
              "#bd3786"
             ],
             [
              0.5555555555555556,
              "#d8576b"
             ],
             [
              0.6666666666666666,
              "#ed7953"
             ],
             [
              0.7777777777777778,
              "#fb9f3a"
             ],
             [
              0.8888888888888888,
              "#fdca26"
             ],
             [
              1,
              "#f0f921"
             ]
            ],
            "type": "surface"
           }
          ],
          "table": [
           {
            "cells": {
             "fill": {
              "color": "#EBF0F8"
             },
             "line": {
              "color": "white"
             }
            },
            "header": {
             "fill": {
              "color": "#C8D4E3"
             },
             "line": {
              "color": "white"
             }
            },
            "type": "table"
           }
          ]
         },
         "layout": {
          "annotationdefaults": {
           "arrowcolor": "#2a3f5f",
           "arrowhead": 0,
           "arrowwidth": 1
          },
          "autotypenumbers": "strict",
          "coloraxis": {
           "colorbar": {
            "outlinewidth": 0,
            "ticks": ""
           }
          },
          "colorscale": {
           "diverging": [
            [
             0,
             "#8e0152"
            ],
            [
             0.1,
             "#c51b7d"
            ],
            [
             0.2,
             "#de77ae"
            ],
            [
             0.3,
             "#f1b6da"
            ],
            [
             0.4,
             "#fde0ef"
            ],
            [
             0.5,
             "#f7f7f7"
            ],
            [
             0.6,
             "#e6f5d0"
            ],
            [
             0.7,
             "#b8e186"
            ],
            [
             0.8,
             "#7fbc41"
            ],
            [
             0.9,
             "#4d9221"
            ],
            [
             1,
             "#276419"
            ]
           ],
           "sequential": [
            [
             0,
             "#0d0887"
            ],
            [
             0.1111111111111111,
             "#46039f"
            ],
            [
             0.2222222222222222,
             "#7201a8"
            ],
            [
             0.3333333333333333,
             "#9c179e"
            ],
            [
             0.4444444444444444,
             "#bd3786"
            ],
            [
             0.5555555555555556,
             "#d8576b"
            ],
            [
             0.6666666666666666,
             "#ed7953"
            ],
            [
             0.7777777777777778,
             "#fb9f3a"
            ],
            [
             0.8888888888888888,
             "#fdca26"
            ],
            [
             1,
             "#f0f921"
            ]
           ],
           "sequentialminus": [
            [
             0,
             "#0d0887"
            ],
            [
             0.1111111111111111,
             "#46039f"
            ],
            [
             0.2222222222222222,
             "#7201a8"
            ],
            [
             0.3333333333333333,
             "#9c179e"
            ],
            [
             0.4444444444444444,
             "#bd3786"
            ],
            [
             0.5555555555555556,
             "#d8576b"
            ],
            [
             0.6666666666666666,
             "#ed7953"
            ],
            [
             0.7777777777777778,
             "#fb9f3a"
            ],
            [
             0.8888888888888888,
             "#fdca26"
            ],
            [
             1,
             "#f0f921"
            ]
           ]
          },
          "colorway": [
           "#636efa",
           "#EF553B",
           "#00cc96",
           "#ab63fa",
           "#FFA15A",
           "#19d3f3",
           "#FF6692",
           "#B6E880",
           "#FF97FF",
           "#FECB52"
          ],
          "font": {
           "color": "#2a3f5f"
          },
          "geo": {
           "bgcolor": "white",
           "lakecolor": "white",
           "landcolor": "#E5ECF6",
           "showlakes": true,
           "showland": true,
           "subunitcolor": "white"
          },
          "hoverlabel": {
           "align": "left"
          },
          "hovermode": "closest",
          "mapbox": {
           "style": "light"
          },
          "paper_bgcolor": "white",
          "plot_bgcolor": "#E5ECF6",
          "polar": {
           "angularaxis": {
            "gridcolor": "white",
            "linecolor": "white",
            "ticks": ""
           },
           "bgcolor": "#E5ECF6",
           "radialaxis": {
            "gridcolor": "white",
            "linecolor": "white",
            "ticks": ""
           }
          },
          "scene": {
           "xaxis": {
            "backgroundcolor": "#E5ECF6",
            "gridcolor": "white",
            "gridwidth": 2,
            "linecolor": "white",
            "showbackground": true,
            "ticks": "",
            "zerolinecolor": "white"
           },
           "yaxis": {
            "backgroundcolor": "#E5ECF6",
            "gridcolor": "white",
            "gridwidth": 2,
            "linecolor": "white",
            "showbackground": true,
            "ticks": "",
            "zerolinecolor": "white"
           },
           "zaxis": {
            "backgroundcolor": "#E5ECF6",
            "gridcolor": "white",
            "gridwidth": 2,
            "linecolor": "white",
            "showbackground": true,
            "ticks": "",
            "zerolinecolor": "white"
           }
          },
          "shapedefaults": {
           "line": {
            "color": "#2a3f5f"
           }
          },
          "ternary": {
           "aaxis": {
            "gridcolor": "white",
            "linecolor": "white",
            "ticks": ""
           },
           "baxis": {
            "gridcolor": "white",
            "linecolor": "white",
            "ticks": ""
           },
           "bgcolor": "#E5ECF6",
           "caxis": {
            "gridcolor": "white",
            "linecolor": "white",
            "ticks": ""
           }
          },
          "title": {
           "x": 0.05
          },
          "xaxis": {
           "automargin": true,
           "gridcolor": "white",
           "linecolor": "white",
           "ticks": "",
           "title": {
            "standoff": 15
           },
           "zerolinecolor": "white",
           "zerolinewidth": 2
          },
          "yaxis": {
           "automargin": true,
           "gridcolor": "white",
           "linecolor": "white",
           "ticks": "",
           "title": {
            "standoff": 15
           },
           "zerolinecolor": "white",
           "zerolinewidth": 2
          }
         }
        },
        "title": {
         "text": "Bottom Track Velocity - All Bags"
        },
        "xaxis": {
         "anchor": "y",
         "domain": [
          0,
          1
         ],
         "matches": "x3",
         "showticklabels": false
        },
        "xaxis2": {
         "anchor": "y2",
         "domain": [
          0,
          1
         ],
         "matches": "x3",
         "showticklabels": false
        },
        "xaxis3": {
         "anchor": "y3",
         "domain": [
          0,
          1
         ],
         "title": {
          "text": "Time (minutes)"
         }
        },
        "yaxis": {
         "anchor": "x",
         "domain": [
          0.72,
          1
         ],
         "title": {
          "text": "Velocity (m/s)"
         }
        },
        "yaxis2": {
         "anchor": "x2",
         "domain": [
          0.36,
          0.6399999999999999
         ],
         "title": {
          "text": "Velocity (m/s)"
         }
        },
        "yaxis3": {
         "anchor": "x3",
         "domain": [
          0,
          0.27999999999999997
         ],
         "title": {
          "text": "Velocity (m/s)"
         }
        }
       }
      }
     },
     "metadata": {},
     "output_type": "display_data"
    },
    {
     "name": "stdout",
     "output_type": "stream",
     "text": [
      "\n",
      "📊 Computing summary statistics...\n",
      "\n",
      "📋 Overall Summary: 17 datasets\n",
      "\n",
      "🎛️ Creating interactive dashboard...\n",
      "\n",
      "📋 Overall Summary: 17 datasets\n",
      "\n",
      "🎛️ Creating interactive dashboard...\n",
      "📊 Dashboard saved to: /Volumes/LaCie/SOLAQUA/exports/outputs/nucleus1000dvl_dashboard.html\n",
      "\n",
      "🔍 Running DVL sensor comparison...\n",
      "🔄 Comparing DVL sensors for bag: 2024-08-22_14-47-39\n",
      "❌ Sensor 'sensor_dvl_position' not available\n",
      "   Available sensors: altimeter, bottomtrack, imu, ins, magnetometer, position, velocity, watertrack\n",
      "❌ Sensor 'sensor_dvl_velocity' not available\n",
      "   Available sensors: altimeter, bottomtrack, imu, ins, magnetometer, position, velocity, watertrack\n",
      "📊 Dashboard saved to: /Volumes/LaCie/SOLAQUA/exports/outputs/nucleus1000dvl_dashboard.html\n",
      "\n",
      "🔍 Running DVL sensor comparison...\n",
      "🔄 Comparing DVL sensors for bag: 2024-08-22_14-47-39\n",
      "❌ Sensor 'sensor_dvl_position' not available\n",
      "   Available sensors: altimeter, bottomtrack, imu, ins, magnetometer, position, velocity, watertrack\n",
      "❌ Sensor 'sensor_dvl_velocity' not available\n",
      "   Available sensors: altimeter, bottomtrack, imu, ins, magnetometer, position, velocity, watertrack\n"
     ]
    },
    {
     "data": {
      "application/vnd.plotly.v1+json": {
       "config": {
        "plotlyServerURL": "https://plot.ly"
       },
       "data": [
        {
         "line": {
          "color": "red"
         },
         "name": "Nucleus1000 VX",
         "type": "scatter",
         "x": {
          "bdata": "AAAAAAAAAAC8u7u7yyV9P7y7u7u7k40/ZmZmZuaPnT+rqqqqwYG4P2ZmZmZxdLo/q6qqqlg2vD/NzMzMVd/AP4mIiIjWzcM/mZmZmfaqxz8AAACA2GTJP2ZmZmZgQ8o/q6qqKnMZyz9VVVXV8fLMP+7u7m7m5M0/NDMzs5tj0D8AAABACO3QP2ZmZiZnYdE/VVVVlbFW0j8RERERosHSP5uZmRnfvtM/7+7uLqmq1D8zMzNzoB7VP0RERERJj9U/rKqqqmzb1j+JiIhI9lPXP83MzMx0v9c/MzMz80k53D8iIiIiNXrdP83MzEym6t0/ERERUXxW3j8RERGR01jfP6uqqkoyDOA/ZmZmxkxE4D8iIiICTMHgPxEREVEDH+E/vLu7W10t4j8iIiIipGXiP0RERAQO/OI/REREpA5F4z9mZmaG+JXjP5qZmRklEeQ/q6qqipRJ5D8iIiJCUIjkP1VVVVXJBeU/ZmZmpjBX5T8=",
          "dtype": "f8"
         },
         "xaxis": "x",
         "y": {
          "bdata": "Rf//3yThZr/7//9/0Dq5P/3//9+QzLU//v//n7XgvD8AAADAeRKtP/7//9+ttrc/vv//H7ZYe7/8//+/zLe4PwAAACC/pbo/+v///8+Fsj/2////oFmnP/3//19TsbA/+v///+PutT/8//8fxYW1P/3///+Yibk/9f//X9nZlT/////f1H7PP/r//9+CWbI/////f9CyxD/1//8/oF+tP/b//3+A96k/////PzDKtT8AAADAtvK0P/T//x+486s/+////34nsz////9frka9P/3//x+t48M//v//ny8rtT/5///fdfqsP/j//x8waa0//v//v8FjwT/+//+f+CvDP//////iNLk/8///HxV9oj/9///f48/LP////z9lBco/////v2AQuz/+//+fP83DP/3//59DL7I//v//f6EIuj////8f8zG+PwAAAGCahrE/9f//X5hZnD/+//8/ndfFP/n//59V97o//f//n0eiuD8=",
          "dtype": "f8"
         },
         "yaxis": "y"
        },
        {
         "line": {
          "color": "red"
         },
         "name": "Nucleus1000 VY",
         "type": "scatter",
         "x": {
          "bdata": "AAAAAAAAAAC8u7u7yyV9P7y7u7u7k40/ZmZmZuaPnT+rqqqqwYG4P2ZmZmZxdLo/q6qqqlg2vD/NzMzMVd/AP4mIiIjWzcM/mZmZmfaqxz8AAACA2GTJP2ZmZmZgQ8o/q6qqKnMZyz9VVVXV8fLMP+7u7m7m5M0/NDMzs5tj0D8AAABACO3QP2ZmZiZnYdE/VVVVlbFW0j8RERERosHSP5uZmRnfvtM/7+7uLqmq1D8zMzNzoB7VP0RERERJj9U/rKqqqmzb1j+JiIhI9lPXP83MzMx0v9c/MzMz80k53D8iIiIiNXrdP83MzEym6t0/ERERUXxW3j8RERGR01jfP6uqqkoyDOA/ZmZmxkxE4D8iIiICTMHgPxEREVEDH+E/vLu7W10t4j8iIiIipGXiP0RERAQO/OI/REREpA5F4z9mZmaG+JXjP5qZmRklEeQ/q6qqipRJ5D8iIiJCUIjkP1VVVVXJBeU/ZmZmpjBX5T8=",
          "dtype": "f8"
         },
         "xaxis": "x2",
         "y": {
          "bdata": "/v///3iNx795/f8fUkA7v/X//1+gM5y//f//P6mApb/+//9f4tO4v/v//z+L2LC/////H55itj/9//9/W6uiP/3//9/t8Zu/0v//35RBhr/5/////0qgP////99Ur6g/7v//P1/unD/9///fFtK8v+r//x+iSZg//P//nzpet7/9//9ffN2Qv/v//9+fN7W/+v//3xwWrT/a//+/fKCOP+7//z9PVp8//f//f8mUu7/q//8fiieOv/f//9/mmJC//P//fzontL9t//9fvQlgP/3//1+Qaqs/9///f2QGk7+x//8/CBFyv/n////rQ5K/7f//XzbSlj/0//9/g8ilPyL//58tFGG/v///37bEdL/9//9/x6vLP////x8efMI/+f//H03goT/1//+/c96jv8D//3817nA/yv//f2cRhL9V//8fk95RP/T//18Jwqq/+v///xSuur/6//8/p4q5PwAAAAC7Hnw/x///f/jlgj8=",
          "dtype": "f8"
         },
         "yaxis": "y2"
        },
        {
         "line": {
          "color": "red"
         },
         "name": "Nucleus1000 VZ",
         "type": "scatter",
         "x": {
          "bdata": "AAAAAAAAAAC8u7u7yyV9P7y7u7u7k40/ZmZmZuaPnT+rqqqqwYG4P2ZmZmZxdLo/q6qqqlg2vD/NzMzMVd/AP4mIiIjWzcM/mZmZmfaqxz8AAACA2GTJP2ZmZmZgQ8o/q6qqKnMZyz9VVVXV8fLMP+7u7m7m5M0/NDMzs5tj0D8AAABACO3QP2ZmZiZnYdE/VVVVlbFW0j8RERERosHSP5uZmRnfvtM/7+7uLqmq1D8zMzNzoB7VP0RERERJj9U/rKqqqmzb1j+JiIhI9lPXP83MzMx0v9c/MzMz80k53D8iIiIiNXrdP83MzEym6t0/ERERUXxW3j8RERGR01jfP6uqqkoyDOA/ZmZmxkxE4D8iIiICTMHgPxEREVEDH+E/vLu7W10t4j8iIiIipGXiP0RERAQO/OI/REREpA5F4z9mZmaG+JXjP5qZmRklEeQ/q6qqipRJ5D8iIiJCUIjkP1VVVVXJBeU/ZmZmpjBX5T8=",
          "dtype": "f8"
         },
         "xaxis": "x3",
         "y": {
          "bdata": "6P//P+ILmD/2/v9fz55fP+H//3/iVIi/5P///2l+mL/p//8fxmaMv/7//790Taw/5P//v1Ggnz/p//8/geOQPwAAACBZwJA/zf//v30iiD/X//9/BReHv/L//7+S0KQ/+///3+iIpz/U//8/9weAv/X//x+ImaE/6v//33WGmD/z//+f/IykP+7//z8aiZE/q////3rae7/m//8/sCN3P+3///8RV4k/AAAAoBzzoj/u//+fuEqcv8P//x8zl3+/////v5UEsj/2//+/WwKqP/v//z8NJqM/zv//fxBzcb9N/v9fpctZP/T//x+sYpU/wv//348adb/y//9fDHOYv5L9/x9koU2//v//n701mz/3//9foYunv/L//5/Pv6q/9v//P/q9qD/7//+/YlmQP6///1/Ks3U/+v//X26+n7/h//9f1j+Dv6X//1/1T2s/2///X21mfD/n////JmWRv7z////xBXQ/+P//HySQnj8=",
          "dtype": "f8"
         },
         "yaxis": "y3"
        },
        {
         "line": {
          "color": "green"
         },
         "name": "Nucleus1000 PosX",
         "type": "scatter",
         "x": {
          "bdata": "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",
          "dtype": "f8"
         },
         "xaxis": "x4",
         "y": {
          "bdata": "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",
          "dtype": "f8"
         },
         "yaxis": "y4"
        },
        {
         "line": {
          "color": "green"
         },
         "name": "Nucleus1000 PosY",
         "type": "scatter",
         "x": {
          "bdata": "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",
          "dtype": "f8"
         },
         "xaxis": "x5",
         "y": {
          "bdata": "/////6W4/j8AAAAgl73+PwAAACAKw/4/AAAAYIbI/j8AAAAg+s3+PwAAAMCB3P4/AAAAgGTx/j//////Ygb/PwAAAIBaF/8/////f38w/z////9f/0D/PwAAACCRTv8/AAAAoCxc/z8BAADg22n/PwAAAADJd/8/////H5uF/z8AAACAKZP/PwAAACCXoP8/////38yt/z8AAABg3Lr/PwEAAMDLyP8/AAAAwLvX/z8BAABg9ub/PwAAACB59v8/AAAAoBIDAEAAAADA6goAQAAAAMBZEgBAAAAAYFAZAEAAAABg2R8AQAAAAIAFJgBAAAAA4OMrAEAAAADggDEAQAAAAKDlNgBAAAAAIBc8AEAAAAAAGkEAQAAAAODxRQBAAAAAYKFKAEAAAACgJ08AQAAAAEAKUABAAAAAQK9XAEAAAAAAsVsAQAAAAEB+XwBAAAAAwBZjAED///+femYAQAAAACClaQBAAAAA4JZsAEAAAADgVW8AQAAAAODncQBA/////1F0AEAAAADgl3YAQAAAACC8eABAAAAAYLx6AEAAAABgnHwAQAAAAGBlfgBAAAAAgByAAEAAAACgwoEAQAAAAABWgwBAAAAAYNCEAEAAAADAMIYAQAAAAOB7hwBAAAAAwO2JAEAAAABABo0AQAAAAOAfkABAAAAAQEeTAEAAAADAdJYAQAAAAMA0owBAAAAA4Gm2AEAAAABAmskAQAAAAIDd3ABAAAAAYArwAEAAAACAmvoAQAAAAIB4/wBAAAAAYGIEAUAAAADAaAkBQAAAAGCBDgFAAAAAYKITAUAAAADgzxgBQAAAAADoHQFAAAAAgOciAUAAAADg4CcBQAAAAGC9MQFAAAAAYK0+AUAAAADAkUsBQAAAAKBpWAFAAAAAQCplAUAAAADA0XEBQAAAAODzfQFAAAAAQIiJAUAAAACAk5QBQAAAAGASnwFAAAAA4DerAUAAAAAA0bgBQAAAAGCGuwFAAAAA4ODuAUAAAADAZfkBQAAAACCx+wFAAAAAYBELAkAAAAAgPhcCQAAAAGD/IwJAAAAAIPMvAkABAABgxToCQAAAACBURAJAAAAAALFMAkAAAAAgB1QCQAAAAAC6WgJAAAAAgClhAkAAAACAhGcCQAAAAEBGbgJAAAAAwCF0AkAAAAAgZXgCQAAAAOAmfAJAAAAAoAKAAkAAAADg3IgCQAAAAED0jQJAAAAAYM6PAkAAAACgeYoCQAAAAIC8hgJAAAAAgHaGAkD/////k4oCQAAAAGCljwJAAAAAQOmVAkAAAABA6cMCQAAAACBAzwJAAAAAQCTcAkAAAAAgm+gCQAAAACAW9gJAAAAAgJUuA0AAAABgnTwDQAAAAID+SQNAAAAAQCRWA0AAAACAY2IDQP////8SbgNAAAAAQEp5A0AAAAAgL4IDQAAAAIAxjQNAAAAAoCqWA0AAAAAAtXQDQAAAAOCXgANAAAAA4AaNA0AAAAAgtZkDQAAAAIDmpgNAAAAAYMvLA0D///+/AtsDQAAAAMDQ6ANAAAAAgMj1A0AAAAAgZgIEQAAAAODhEQRAAAAAQNciBEAAAABA9TIEQAAAAABCQgRAAAAAQMtQBEAAAABAml4EQAAAAAC7awRAAAAAgDR4BEAAAABgEoQEQAAAAMBbjwRAAAAA4MmYBEABAACglKEEQAAAAGA8qwRAAAAA4Cu1BEAAAABgUb8EQAAAAGCcBwVAAAAAwI0gBUAAAAAg3TkFQAAAAOAUVAVAAAAAgI5tBUAAAADgMlgFQAAAAADbaAVAAAAAQK14BUAAAABgsYkFQAAAACAynQVAAAAA4CKyBUAAAABgoMcFQAAAAADZ2gVAAAAAQFHrBUAAAABgr/4FQAAAACCcDwZAAAAAIB8fBkAAAAAAWzEGQAAAAGAAPwZAAAAA4FtKBkAAAABgeEgGQAAAAGDCUAZAAAAAQDRZBkAAAACAtFgGQAAAAEAQVAZAAAAAQLhOBkAAAACgD1cGQAAAAKBQYAZAAAAAwGFoBkAAAABAlG8GQAAAAIDSdAZAAAAAwCl0BkAAAABgiHMGQAAAAGATewZAAAAAYNF/BkAAAAAAnosGQAAAAOCbmAZAAAAAQJ+ZBkAAAADAEJwGQAAAAAAaoAZAAAAA4BKfBkAAAACA2IcGQAAAAGDkjgZAAAAAwLKPBkAAAACgtIMGQAAAAGCCZgZAAAAA4KhsBkAAAACA3HUGQAAAAAA9gwZAAAAAIFmNBkAAAABARpcGQAAAAMDhlAZAAAAAoF+UBkAAAAAg1pkGQAAAACCEmgZAAAAAIH6oBkAAAAAgX78GQAAAAEC3zAZAAAAAwEbZBkAAAAAAEOgGQAAAAAAHHwdAAAAAoAczB0AAAAAAKEQHQAAAACBDSQdAAAAAwJ9XB0AAAABA6oEHQAAAAOCXkwdAAAAAgAqkB0AAAACAJbQHQAAAAICkxAdAAAAA4LrRB0AAAACAfNwHQAAAAMBs8AdAAAAAgNP9B0AAAADAHgsIQAAAAIDoHAhAAAAAwD0xCEAAAABgpUQIQAEAACA0VwhAAAAA4PJoCEAAAACg6nkIQAAAAEAdighAAAAAQJOZCEAAAAAAT6gIQAAAAABVtghAAAAAYPLECEAAAACAh9EIQAAAAKBP3AhAAAAA4LjnCEAAAABAlPIIQAAAAEDn/AhAAAAAYL4GCUAAAAAgIxAJQAAAAEAeGQlAAAAA4LUhCUAAAACA6SkJQP///5+7MQlAAAAAwCo5CUAAAABgOEAJQAAAAEDoRglAAAAAwEFNCUAAAACA4VMJQAAAAICaWQlAAAAAYIdeCUAAAACgSWQJQAAAAMDlaglAAAAA4EFyCUAAAADgenoJQAAAAIDKgglAAAAAIAeKCUAAAAAA2JEJQAAAAIDymQlAAAAAANmgCUAAAACgEagJQAAAAODmrQlAAAAAYKipCUAAAABAxLEJQAAAAOAbuQlAAAAAYPq/CUAAAADgSsgJQAAAAKDn3AlAAAAAgKflCUAAAACgf+4JQAAAAEDf9QlAAAAAwC//CUAAAAAg0hwKQAAAAIClJwpAAQAA4OU0CkAAAABANkEKQAAAAMDRTQpAAAAAwJZaCkAAAADgXmcKQAAAAEBJcgpAAAAAQCt9CkAAAACAf4kKQAAAAICtjQpAAAAAwBubCkAAAADgMqgKQAAAAGDvswpAAQAAAC3CCkD///8/Y8UKQAAAAGA+0ApAAAAAIP3bCkAAAABAMeUKQAAAAOD/7wpAAAAAAOr0CkAAAACgq/0KQAAAAKB9BgtAAAAAwOsPC0AAAACgzBkLQAAAAEBcIwtAAAAAYOMsC0AAAADguDULQAAAACAbPwtAAAAAIPxGC0AAAABgE3oLQAAAAGC3iQtAAAAAILOZC0AAAADg/KcLQAAAAEAQugtAAAAA4Ay5C0AAAACgHskLQAAAAED32QtAAAAAAGHpC0ABAAAArPwLQAAAAOCyCwxAAAAAIKEYDED///8/oyUMQAAAAGDyMgxAAAAAwK5ADEAAAACA6U4MQAAAACCpXQxAAAAAANhsDEAAAAAAUHwMQAAAAKCpiwxAAAAA4EOaDEAAAABg3KcMQAAAAGCBtAxAAAAA4Cq/DEAAAABAZssMQAAAACAB2wxA////X3XsDEAAAADAZP0MQAAAAAA2DQ1AAAAAQEAbDUAAAAAAJUcNQP///9+RVw1AAQAAIGRmDUAAAADAunMNQP///3/0fw1AAAAA4OaLDUAAAACg/pcNQAAAACBcpA1A////X7qwDUAAAADgisANQP/////TzA1AAQAAAGnZDUAAAACgZeENQAEAACCv6A1AAAAAoFPuDUAAAABAp+0NQAAAACBE8w1AAAAA4Mr3DUAAAABg4f4NQAAAAKC2Bw5AAAAAAMYkDkAAAABALC4OQAAAAKBaNw5AAQAAYMU/DkAAAADghkgOQAEAAOAhUQ5AAAAAQBhYDkAAAADgcmEOQAAAAOAoag5AAAAAYKxyDkAAAACAH2UOQAAAAIB4bg5AAAAAgGl4DkAAAABAoYEOQAAAAKA1jQ5AAAAAwK90DkAAAACg33sOQAAAAKBygw5AAAAAQE+KDkAAAAAg0pIOQAAAAGAfvA5AAAAAgAjIDkAAAAAAVtMOQAAAAOBZ3g5AAAAA4ArpDkAAAADAd/QOQAAAAEB//Q5AAAAAoPcGD0AAAACg8xAPQP////9iFw9AAAAAgKE+D0ABAABgNU0PQAAAAADyXA9AAAAAYBVsD0AAAADgn34PQAAAAECxiQ9A",
          "dtype": "f8"
         },
         "yaxis": "y5"
        },
        {
         "line": {
          "color": "purple"
         },
         "name": "Nucleus1000 PosZ",
         "type": "scatter",
         "x": {
          "bdata": "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",
          "dtype": "f8"
         },
         "xaxis": "x6",
         "y": {
          "bdata": "AAAA4KpYA0AAAADAkX4DQAAAAMBypANAAAAAgFTKA0AAAADgMfADQAAAAKDFegNAAAAAwG96A0AAAAAgEnoDQAAAAMC/eQNAAAAAADp5A0AAAACASZADQAAAAOBAlQNAAAAAIDuaA0AAAADgOZ8DQAAAAIA/pANAAAAAoEipA0AAAABgU64DQAAAAOBpswNAAAAAIIu4A0AAAABgt70DQAAAAAC+tgNAAAAA4Le+A0AAAADAtMYDQAAAAGCvzgNAAQAA4KXWA0AAAABgobYDQAAAAEAVvgNAAAAAwCrFA0AAAABg6csDQAAAAIBU0gNAAAAAwO7HA0AAAADgv80DQAAAAIBF0wNAAAAAgITYA0AAAABAhN0DQAAAAMBL4gNAAAAAQOLmA0AAAABASusDQAAAAMAm7ANAAAAAgKPzA0ABAACgVH0DQAAAAKAkgQNAAAAAAMiEA0AAAABgPIgDQAAAAACDiwNAAAAAwBVWA0AAAADgAFkDQAAAAEC/WwNAAAAAYFZeA0AAAACgyGADQAAAAMBIQwNAAAAAIHhFA0AAAACAjEcDQAAAAOCHSQNAAAAAAGpLA0AAAADgM00DQAAAAIDmTgNAAAAAYINQA0AAAADADFIDQAAAAICCUwNAAAAAIKuGA0AAAACAJpoDQAAAAECarQNAAAAAoAXBA0AAAADgaNQDQAAAAOCxggNAAAAAoIePA0D///8/Y5wDQAEAAGBFqQNAAAAA4DK2A0AAAAAAmIIDQAAAAMDAcANAAAAAYOxeA0AAAAAAG00DQAAAACBPOwNAAAAAgIkpA0AAAADAyRcDQAAAACALBgNAAAAAIE/0AkAAAADgkOICQAAAAOBgdgNAAAAAoLduA0AAAACgBmcDQAAAAKBPXwNAAAAAIJFXA0AAAACAhFgDQP///x8aUQNAAAAAYAFKA0AAAADgNkMDQAAAAKC1PANAAAAAwHpPA0AAAAAgJVMDQAAAACDEUwNAAAAAoEpjA0AAAAAADWgDQAAAAGCeaQNAAAAA4BJ0A0AAAACArnoDQAAAACCkfwNAAAAAIFiEA0AAAADg1ogDQAAAAAAijQNAAAAAQHmTA0AAAAAAR5cDQAAAAEDomgNAAAAAYGCeA0AAAADAoqEDQAAAAMDzpQNAAAAAQE2nA0AAAADA3acDQAAAAKCspwNAAQAAIPSmA0AAAAAAiqQDQAAAAKDoogNAAAAA4FmiA0AAAAAA6qIDQAAAAGDhnQNAAAAAQHycA0AAAAAARZsDQAAAAOAUmgNAAAAAAEeZA0AAAACAfYMDQAAAAEBhgQNAAAAAgKaAA0AAAABgPIEDQAAAAOA0gwNAAAAAoAhtA0AAAAAgBm8DQAAAAMAZcgNAAAAAwPh1A0AAAADA2XkDQAAAACAtfQNAAAAAYId/A0AAAACAeoADQAAAAEDofwNAAAAAIM99A0AAAADAxesDQAAAAOCD8ANAAAAAwCT0A0AAAADg5/YDQAAAAMBW+QNAAAAAgKnWA0AAAACAqtYDQAAAAEAO1wNAAAAA4BnYA0AAAAAA2tkDQAAAACA50wNAAAAAwDPOA0AAAAAAgMkDQAAAAMAUxQNAAAAAYObAA0AAAAAg7rwDQAAAAOAquQNAAAAAQJu1A0AAAACgPLIDQAAAAGALrwNAAAAAYG2sA0AAAAAAm7IDQAAAAAByuQNAAAAAAL/AA0AAAACggMgDQAAAAKB2wwNAAAAAILLKA0AAAABguNIDQAAAAICh2wNAAAAAALDlA0AAAADAVPYDQAAAAAC7BARAAAAAIP8TBEAAAABgmCQEQAAAAIBCNARAAAAAYHBDBEAAAADAd1EEQAAAACAvXgRAAAAAAGNoBEAAAABgcXIEQAAAAACfagRAAAAAYPRpBEAAAABAq2gEQAAAAGD6ZgRAAAAAQDplBEAAAAAAilIEQAAAAGBkUQRAAAAAoB5RBEAAAACg01EEQAAAAACHUgRAAAAAQNUxBEAAAACghDMEQAAAAIBeNgRAAAAAwEE6BEAAAAAAgD8EQAAAAADKRQRAAQAAIPRNBEAAAACAqFYEQAAAACCiYQRAAAAAACZtBED///+fOnEEQAAAAAAGggRAAAAAoFeQBEAAAACAWZwEQAAAACDxqARAAAAAgFmkBEAAAAAACKoEQAAAACDWrgRAAAAAQKqyBEAAAACAz7QEQAAAAABqrARAAAAAIGStBEAAAABA5K0EQAAAAECirgRAAAAAgC6wBEAAAABA9LIEQAAAAEC7tgRAAAAAwOe6BEAAAACAoMEEQAAAACCDyQRAAAAAwOzCBEAAAADAwc4EQAAAAIDh2gRAAAAAAJfnBEAAAACgr/QEQAAAAMDx2gRAAAAAgH3kBEAAAACgTu8EQP///18r+gRA/////5MEBUAAAADAwMcEQAAAAKD+ygRAAAAAoKnNBEAAAACA0c8EQAAAACBS0QRAAAAAwF/SBEAAAADAP9IEQAAAAOAO0wRAAAAAQDTUBEAAAABgOtUEQAAAAOD/wARAAAAAgPu1BEAAAABAmqsEQAAAAADWoQRAAAAAwJ2YBEAAAAAg/YMEQAAAAGCtewRAAQAAYMVzBEAAAADAP2wEQAAAACAWZQRAAAAAYLBSBEAAAAAgOkwEQAAAACCsRgRAAAAAIMZABEAAAAAgIzsEQAAAACC+NQRAAQAAoJQwBEAAAACgpCsEQAAAAIDrJgRAAAAA4GciBEAAAADgFBkEQAAAAMD3FARAAAAAAA0RBEAAAADAUw0EQAAAAADKCQRAAAAAoIACBEAAAAAA/f4DQAAAAGD1+wNAAAAAAF35A0AAAACAWvYDQAAAAOC/8gNAAAAAwNbyA0AAAABgsvIDQAAAAMB78gNAAAAAYHPyA0AAAABgyfIDQAAAAMCF8wNAAAAAwH70A0AAAAAgJ/YDQAAAAKAE+ANAAAAA4P/uA0AAAAAgk/EDQAAAAIDL9ANAAAAAwIv4A0AAAADgQ/4DQAAAAODh8wNAAAAAQAH6A0AAAABgCAEEQAAAAMAOCARAAAAAQEoRBEAAAADANdgDQAAAAGAG3ANAAAAAAP3fA0D/////kuIDQAAAAODf4wNAAAAAAPHjA0AAAABg0OIDQAAAAECY4ANAAAAAAGbdA0AAAAAAadkDQAAAACAntANAAAAAoHCtA0AAAADA36YDQAAAAMA7oQNAAAAAAICaA0AAAABgprIDQAAAAACnrgNAAAAAYL6qA0AAAABg/qcDQAAAAECmpQNAAAAAYCWtA0AAAACAha0DQAAAACATrwNAAAAAwLyxA0AAAABgj7UDQAAAAOCVugNAAAAAANzAA0AAAADgSMgDQAAAACDB0ANAAAAAgFfaA0AAAABgC4YCQAAAAIA+fQJAAAAAQHF0AkAAAADgPWwCQAAAAGC3YQJAAAAAIP7sAUAAAABAA9sBQAAAACDIxwFAAAAAwDG1AUAAAAAgBJ0BQAAAAOB/kwFAAAAAIPZ1AUAAAABg4lkBQAAAACAxPwFAAAAAAN8lAUD///9f6w0BQAAAAIBH9wBAAAAAoOLhAEAAAABAos0AQAAAAABpugBAAAAAYNG/AEAAAAAAXa4AQAAAAIDCnQBAAAAAoIiPAEAAAADACX8AQAAAAOD6iwBAAAAAwLeBAEAAAAAANHgAQAAAAIBobwBAAAAAYDppAED///8fGpYAQAAAAIB2lABAAAAAQGmRAEAAAAAgTIwAQAAAAEBOhQBAAAAAgJB9AEAAAADAKHQAQAAAAADFaABAAAAAgHRcAEAAAABg8k8AQP///98LYQBAAAAAILFZAEAAAADAZFMAQAAAAOAkTgBAAAAAAOVJAEAAAADAImoAQAAAAKD5aABAAAAAQAJoAEAAAAAAY2cAQAAAAGAAZwBAAAAA4Bl+AEAAAADggX4AQAAAAEAtfwBAAAAAYBmAAEAAAAAAKYEAQAAAAKBQggBAAAAAQGmDAEAAAACg7IQAQAEAACB0hgBAAAAAYP2HAEAAAABAd8oAQAAAAEDozgBAAAAAgO3SAEAAAABAFNYAQAAAAAAr2QBAAAAAIMNLAUAAAACgMlMBQAAAAEDlWQFAAAAAQIRfAUAAAADgzWUBQAAAACBF/wBAAAAAwNX7AEAAAABACvgAQAAAAKAp9ABAAAAAICrwAEAAAAAg5uwAQAEAAGCF6QBAAAAAoPflAEAAAABABeMAQAEAAMDc4ABAAAAAwB/wAEAAAABgb+8AQAAAAKAX7wBAAAAAQAfvAEAAAACAaO8AQAAAAODu8gBA",
          "dtype": "f8"
         },
         "yaxis": "y6"
        }
       ],
       "layout": {
        "annotations": [
         {
          "font": {
           "size": 16
          },
          "showarrow": false,
          "text": "Velocity Comparison (X)",
          "x": 0.225,
          "xanchor": "center",
          "xref": "paper",
          "y": 1,
          "yanchor": "bottom",
          "yref": "paper"
         },
         {
          "font": {
           "size": 16
          },
          "showarrow": false,
          "text": "Velocity Comparison (Y)",
          "x": 0.775,
          "xanchor": "center",
          "xref": "paper",
          "y": 1,
          "yanchor": "bottom",
          "yref": "paper"
         },
         {
          "font": {
           "size": 16
          },
          "showarrow": false,
          "text": "Velocity Comparison (Z)",
          "x": 0.225,
          "xanchor": "center",
          "xref": "paper",
          "y": 0.6399999999999999,
          "yanchor": "bottom",
          "yref": "paper"
         },
         {
          "font": {
           "size": 16
          },
          "showarrow": false,
          "text": "Position Comparison (X)",
          "x": 0.775,
          "xanchor": "center",
          "xref": "paper",
          "y": 0.6399999999999999,
          "yanchor": "bottom",
          "yref": "paper"
         },
         {
          "font": {
           "size": 16
          },
          "showarrow": false,
          "text": "Position Comparison (Y)",
          "x": 0.225,
          "xanchor": "center",
          "xref": "paper",
          "y": 0.27999999999999997,
          "yanchor": "bottom",
          "yref": "paper"
         },
         {
          "font": {
           "size": 16
          },
          "showarrow": false,
          "text": "Altitude/Z Comparison",
          "x": 0.775,
          "xanchor": "center",
          "xref": "paper",
          "y": 0.27999999999999997,
          "yanchor": "bottom",
          "yref": "paper"
         }
        ],
        "height": 900,
        "hovermode": "x unified",
        "template": {
         "data": {
          "bar": [
           {
            "error_x": {
             "color": "#2a3f5f"
            },
            "error_y": {
             "color": "#2a3f5f"
            },
            "marker": {
             "line": {
              "color": "#E5ECF6",
              "width": 0.5
             },
             "pattern": {
              "fillmode": "overlay",
              "size": 10,
              "solidity": 0.2
             }
            },
            "type": "bar"
           }
          ],
          "barpolar": [
           {
            "marker": {
             "line": {
              "color": "#E5ECF6",
              "width": 0.5
             },
             "pattern": {
              "fillmode": "overlay",
              "size": 10,
              "solidity": 0.2
             }
            },
            "type": "barpolar"
           }
          ],
          "carpet": [
           {
            "aaxis": {
             "endlinecolor": "#2a3f5f",
             "gridcolor": "white",
             "linecolor": "white",
             "minorgridcolor": "white",
             "startlinecolor": "#2a3f5f"
            },
            "baxis": {
             "endlinecolor": "#2a3f5f",
             "gridcolor": "white",
             "linecolor": "white",
             "minorgridcolor": "white",
             "startlinecolor": "#2a3f5f"
            },
            "type": "carpet"
           }
          ],
          "choropleth": [
           {
            "colorbar": {
             "outlinewidth": 0,
             "ticks": ""
            },
            "type": "choropleth"
           }
          ],
          "contour": [
           {
            "colorbar": {
             "outlinewidth": 0,
             "ticks": ""
            },
            "colorscale": [
             [
              0,
              "#0d0887"
             ],
             [
              0.1111111111111111,
              "#46039f"
             ],
             [
              0.2222222222222222,
              "#7201a8"
             ],
             [
              0.3333333333333333,
              "#9c179e"
             ],
             [
              0.4444444444444444,
              "#bd3786"
             ],
             [
              0.5555555555555556,
              "#d8576b"
             ],
             [
              0.6666666666666666,
              "#ed7953"
             ],
             [
              0.7777777777777778,
              "#fb9f3a"
             ],
             [
              0.8888888888888888,
              "#fdca26"
             ],
             [
              1,
              "#f0f921"
             ]
            ],
            "type": "contour"
           }
          ],
          "contourcarpet": [
           {
            "colorbar": {
             "outlinewidth": 0,
             "ticks": ""
            },
            "type": "contourcarpet"
           }
          ],
          "heatmap": [
           {
            "colorbar": {
             "outlinewidth": 0,
             "ticks": ""
            },
            "colorscale": [
             [
              0,
              "#0d0887"
             ],
             [
              0.1111111111111111,
              "#46039f"
             ],
             [
              0.2222222222222222,
              "#7201a8"
             ],
             [
              0.3333333333333333,
              "#9c179e"
             ],
             [
              0.4444444444444444,
              "#bd3786"
             ],
             [
              0.5555555555555556,
              "#d8576b"
             ],
             [
              0.6666666666666666,
              "#ed7953"
             ],
             [
              0.7777777777777778,
              "#fb9f3a"
             ],
             [
              0.8888888888888888,
              "#fdca26"
             ],
             [
              1,
              "#f0f921"
             ]
            ],
            "type": "heatmap"
           }
          ],
          "histogram": [
           {
            "marker": {
             "pattern": {
              "fillmode": "overlay",
              "size": 10,
              "solidity": 0.2
             }
            },
            "type": "histogram"
           }
          ],
          "histogram2d": [
           {
            "colorbar": {
             "outlinewidth": 0,
             "ticks": ""
            },
            "colorscale": [
             [
              0,
              "#0d0887"
             ],
             [
              0.1111111111111111,
              "#46039f"
             ],
             [
              0.2222222222222222,
              "#7201a8"
             ],
             [
              0.3333333333333333,
              "#9c179e"
             ],
             [
              0.4444444444444444,
              "#bd3786"
             ],
             [
              0.5555555555555556,
              "#d8576b"
             ],
             [
              0.6666666666666666,
              "#ed7953"
             ],
             [
              0.7777777777777778,
              "#fb9f3a"
             ],
             [
              0.8888888888888888,
              "#fdca26"
             ],
             [
              1,
              "#f0f921"
             ]
            ],
            "type": "histogram2d"
           }
          ],
          "histogram2dcontour": [
           {
            "colorbar": {
             "outlinewidth": 0,
             "ticks": ""
            },
            "colorscale": [
             [
              0,
              "#0d0887"
             ],
             [
              0.1111111111111111,
              "#46039f"
             ],
             [
              0.2222222222222222,
              "#7201a8"
             ],
             [
              0.3333333333333333,
              "#9c179e"
             ],
             [
              0.4444444444444444,
              "#bd3786"
             ],
             [
              0.5555555555555556,
              "#d8576b"
             ],
             [
              0.6666666666666666,
              "#ed7953"
             ],
             [
              0.7777777777777778,
              "#fb9f3a"
             ],
             [
              0.8888888888888888,
              "#fdca26"
             ],
             [
              1,
              "#f0f921"
             ]
            ],
            "type": "histogram2dcontour"
           }
          ],
          "mesh3d": [
           {
            "colorbar": {
             "outlinewidth": 0,
             "ticks": ""
            },
            "type": "mesh3d"
           }
          ],
          "parcoords": [
           {
            "line": {
             "colorbar": {
              "outlinewidth": 0,
              "ticks": ""
             }
            },
            "type": "parcoords"
           }
          ],
          "pie": [
           {
            "automargin": true,
            "type": "pie"
           }
          ],
          "scatter": [
           {
            "fillpattern": {
             "fillmode": "overlay",
             "size": 10,
             "solidity": 0.2
            },
            "type": "scatter"
           }
          ],
          "scatter3d": [
           {
            "line": {
             "colorbar": {
              "outlinewidth": 0,
              "ticks": ""
             }
            },
            "marker": {
             "colorbar": {
              "outlinewidth": 0,
              "ticks": ""
             }
            },
            "type": "scatter3d"
           }
          ],
          "scattercarpet": [
           {
            "marker": {
             "colorbar": {
              "outlinewidth": 0,
              "ticks": ""
             }
            },
            "type": "scattercarpet"
           }
          ],
          "scattergeo": [
           {
            "marker": {
             "colorbar": {
              "outlinewidth": 0,
              "ticks": ""
             }
            },
            "type": "scattergeo"
           }
          ],
          "scattergl": [
           {
            "marker": {
             "colorbar": {
              "outlinewidth": 0,
              "ticks": ""
             }
            },
            "type": "scattergl"
           }
          ],
          "scattermap": [
           {
            "marker": {
             "colorbar": {
              "outlinewidth": 0,
              "ticks": ""
             }
            },
            "type": "scattermap"
           }
          ],
          "scattermapbox": [
           {
            "marker": {
             "colorbar": {
              "outlinewidth": 0,
              "ticks": ""
             }
            },
            "type": "scattermapbox"
           }
          ],
          "scatterpolar": [
           {
            "marker": {
             "colorbar": {
              "outlinewidth": 0,
              "ticks": ""
             }
            },
            "type": "scatterpolar"
           }
          ],
          "scatterpolargl": [
           {
            "marker": {
             "colorbar": {
              "outlinewidth": 0,
              "ticks": ""
             }
            },
            "type": "scatterpolargl"
           }
          ],
          "scatterternary": [
           {
            "marker": {
             "colorbar": {
              "outlinewidth": 0,
              "ticks": ""
             }
            },
            "type": "scatterternary"
           }
          ],
          "surface": [
           {
            "colorbar": {
             "outlinewidth": 0,
             "ticks": ""
            },
            "colorscale": [
             [
              0,
              "#0d0887"
             ],
             [
              0.1111111111111111,
              "#46039f"
             ],
             [
              0.2222222222222222,
              "#7201a8"
             ],
             [
              0.3333333333333333,
              "#9c179e"
             ],
             [
              0.4444444444444444,
              "#bd3786"
             ],
             [
              0.5555555555555556,
              "#d8576b"
             ],
             [
              0.6666666666666666,
              "#ed7953"
             ],
             [
              0.7777777777777778,
              "#fb9f3a"
             ],
             [
              0.8888888888888888,
              "#fdca26"
             ],
             [
              1,
              "#f0f921"
             ]
            ],
            "type": "surface"
           }
          ],
          "table": [
           {
            "cells": {
             "fill": {
              "color": "#EBF0F8"
             },
             "line": {
              "color": "white"
             }
            },
            "header": {
             "fill": {
              "color": "#C8D4E3"
             },
             "line": {
              "color": "white"
             }
            },
            "type": "table"
           }
          ]
         },
         "layout": {
          "annotationdefaults": {
           "arrowcolor": "#2a3f5f",
           "arrowhead": 0,
           "arrowwidth": 1
          },
          "autotypenumbers": "strict",
          "coloraxis": {
           "colorbar": {
            "outlinewidth": 0,
            "ticks": ""
           }
          },
          "colorscale": {
           "diverging": [
            [
             0,
             "#8e0152"
            ],
            [
             0.1,
             "#c51b7d"
            ],
            [
             0.2,
             "#de77ae"
            ],
            [
             0.3,
             "#f1b6da"
            ],
            [
             0.4,
             "#fde0ef"
            ],
            [
             0.5,
             "#f7f7f7"
            ],
            [
             0.6,
             "#e6f5d0"
            ],
            [
             0.7,
             "#b8e186"
            ],
            [
             0.8,
             "#7fbc41"
            ],
            [
             0.9,
             "#4d9221"
            ],
            [
             1,
             "#276419"
            ]
           ],
           "sequential": [
            [
             0,
             "#0d0887"
            ],
            [
             0.1111111111111111,
             "#46039f"
            ],
            [
             0.2222222222222222,
             "#7201a8"
            ],
            [
             0.3333333333333333,
             "#9c179e"
            ],
            [
             0.4444444444444444,
             "#bd3786"
            ],
            [
             0.5555555555555556,
             "#d8576b"
            ],
            [
             0.6666666666666666,
             "#ed7953"
            ],
            [
             0.7777777777777778,
             "#fb9f3a"
            ],
            [
             0.8888888888888888,
             "#fdca26"
            ],
            [
             1,
             "#f0f921"
            ]
           ],
           "sequentialminus": [
            [
             0,
             "#0d0887"
            ],
            [
             0.1111111111111111,
             "#46039f"
            ],
            [
             0.2222222222222222,
             "#7201a8"
            ],
            [
             0.3333333333333333,
             "#9c179e"
            ],
            [
             0.4444444444444444,
             "#bd3786"
            ],
            [
             0.5555555555555556,
             "#d8576b"
            ],
            [
             0.6666666666666666,
             "#ed7953"
            ],
            [
             0.7777777777777778,
             "#fb9f3a"
            ],
            [
             0.8888888888888888,
             "#fdca26"
            ],
            [
             1,
             "#f0f921"
            ]
           ]
          },
          "colorway": [
           "#636efa",
           "#EF553B",
           "#00cc96",
           "#ab63fa",
           "#FFA15A",
           "#19d3f3",
           "#FF6692",
           "#B6E880",
           "#FF97FF",
           "#FECB52"
          ],
          "font": {
           "color": "#2a3f5f"
          },
          "geo": {
           "bgcolor": "white",
           "lakecolor": "white",
           "landcolor": "#E5ECF6",
           "showlakes": true,
           "showland": true,
           "subunitcolor": "white"
          },
          "hoverlabel": {
           "align": "left"
          },
          "hovermode": "closest",
          "mapbox": {
           "style": "light"
          },
          "paper_bgcolor": "white",
          "plot_bgcolor": "#E5ECF6",
          "polar": {
           "angularaxis": {
            "gridcolor": "white",
            "linecolor": "white",
            "ticks": ""
           },
           "bgcolor": "#E5ECF6",
           "radialaxis": {
            "gridcolor": "white",
            "linecolor": "white",
            "ticks": ""
           }
          },
          "scene": {
           "xaxis": {
            "backgroundcolor": "#E5ECF6",
            "gridcolor": "white",
            "gridwidth": 2,
            "linecolor": "white",
            "showbackground": true,
            "ticks": "",
            "zerolinecolor": "white"
           },
           "yaxis": {
            "backgroundcolor": "#E5ECF6",
            "gridcolor": "white",
            "gridwidth": 2,
            "linecolor": "white",
            "showbackground": true,
            "ticks": "",
            "zerolinecolor": "white"
           },
           "zaxis": {
            "backgroundcolor": "#E5ECF6",
            "gridcolor": "white",
            "gridwidth": 2,
            "linecolor": "white",
            "showbackground": true,
            "ticks": "",
            "zerolinecolor": "white"
           }
          },
          "shapedefaults": {
           "line": {
            "color": "#2a3f5f"
           }
          },
          "ternary": {
           "aaxis": {
            "gridcolor": "white",
            "linecolor": "white",
            "ticks": ""
           },
           "baxis": {
            "gridcolor": "white",
            "linecolor": "white",
            "ticks": ""
           },
           "bgcolor": "#E5ECF6",
           "caxis": {
            "gridcolor": "white",
            "linecolor": "white",
            "ticks": ""
           }
          },
          "title": {
           "x": 0.05
          },
          "xaxis": {
           "automargin": true,
           "gridcolor": "white",
           "linecolor": "white",
           "ticks": "",
           "title": {
            "standoff": 15
           },
           "zerolinecolor": "white",
           "zerolinewidth": 2
          },
          "yaxis": {
           "automargin": true,
           "gridcolor": "white",
           "linecolor": "white",
           "ticks": "",
           "title": {
            "standoff": 15
           },
           "zerolinecolor": "white",
           "zerolinewidth": 2
          }
         }
        },
        "title": {
         "text": "DVL Sensor Comparison - 2024-08-22_14-47-39"
        },
        "xaxis": {
         "anchor": "y",
         "domain": [
          0,
          0.45
         ],
         "matches": "x5",
         "showticklabels": false
        },
        "xaxis2": {
         "anchor": "y2",
         "domain": [
          0.55,
          1
         ],
         "matches": "x6",
         "showticklabels": false
        },
        "xaxis3": {
         "anchor": "y3",
         "domain": [
          0,
          0.45
         ],
         "matches": "x5",
         "showticklabels": false
        },
        "xaxis4": {
         "anchor": "y4",
         "domain": [
          0.55,
          1
         ],
         "matches": "x6",
         "showticklabels": false
        },
        "xaxis5": {
         "anchor": "y5",
         "domain": [
          0,
          0.45
         ],
         "title": {
          "text": "Time (minutes)"
         }
        },
        "xaxis6": {
         "anchor": "y6",
         "domain": [
          0.55,
          1
         ],
         "title": {
          "text": "Time (minutes)"
         }
        },
        "yaxis": {
         "anchor": "x",
         "domain": [
          0.72,
          1
         ]
        },
        "yaxis2": {
         "anchor": "x2",
         "domain": [
          0.72,
          1
         ]
        },
        "yaxis3": {
         "anchor": "x3",
         "domain": [
          0.36,
          0.6399999999999999
         ]
        },
        "yaxis4": {
         "anchor": "x4",
         "domain": [
          0.36,
          0.6399999999999999
         ]
        },
        "yaxis5": {
         "anchor": "x5",
         "domain": [
          0,
          0.27999999999999997
         ]
        },
        "yaxis6": {
         "anchor": "x6",
         "domain": [
          0,
          0.27999999999999997
         ]
        }
       }
      }
     },
     "metadata": {},
     "output_type": "display_data"
    },
    {
     "name": "stdout",
     "output_type": "stream",
     "text": [
      "\n",
      "✅ Notebook workflow complete.\n",
      "Workflow result: {'status': 'done', 'selected_bag': '2024-08-22_14-47-39'}\n"
     ]
    }
   ],
   "source": [
    "# Run the refactored notebook workflow from utils.nucleus1000dvl_analysis\n",
    "from utils import nucleus1000dvl_analysis as dvl_utils\n",
    "print('Running consolidated Nucleus1000DVL analysis workflow (utils)')\n",
    "workflow_result = dvl_utils.run_full_notebook_workflow(by_bag_folder=BY_BAG_FOLDER,\n",
    "                                                     bag_selection=BAG_SELECTION,\n",
    "                                                     sensor_selection=SENSOR_SELECTION,\n",
    "                                                     export_summary=EXPORT_SUMMARY,\n",
    "                                                     export_plots=EXPORT_PLOTS,\n",
    "                                                     output_folder=OUTPUT_FOLDER)\n",
    "print('Workflow result:', workflow_result)"
   ]
  },
  {
   "cell_type": "code",
   "execution_count": null,
   "id": "e697be8f",
   "metadata": {},
   "outputs": [
    {
     "name": "stdout",
     "output_type": "stream",
     "text": [
      "🔍 Discovering Nucleus1000DVL data files...\n",
      "📋 Data Discovery: 61 bags, 8 sensors\n",
      "📊 Nucleus1000DVL Data Summary\n",
      "========================================\n",
      "\n",
      "🔧 ALTIMETER:\n",
      "   📅 2024-08-20_13-39-34: No data\n",
      "   📅 2024-08-20_13-40-35: No data\n",
      "   📅 2024-08-20_13-42-51: No data\n",
      "   📅 2024-08-20_13-55-34: No data\n",
      "   📅 2024-08-20_13-57-42: No data\n",
      "   📅 2024-08-20_14-16-05: No data\n",
      "   📅 2024-08-20_14-22-12: No data\n",
      "   📅 2024-08-20_14-24-35: No data\n",
      "   📅 2024-08-20_14-31-29: No data\n",
      "   📅 2024-08-20_14-34-07: No data\n",
      "   📅 2024-08-20_14-36-22: No data\n",
      "   📅 2024-08-20_14-38-37: No data\n",
      "   📅 2024-08-20_14-49-47: No data\n",
      "   📅 2024-08-20_14-54-52: No data\n",
      "   📅 2024-08-20_14-57-38: No data\n",
      "   📅 2024-08-20_15-00-24: No data\n",
      "   📅 2024-08-20_15-05-53: No data\n",
      "   📅 2024-08-20_15-09-34: No data\n",
      "   📅 2024-08-20_15-12-51: No data\n",
      "   📅 2024-08-20_15-14-40: No data\n",
      "   📅 2024-08-20_15-18-27: No data\n",
      "   📅 2024-08-20_15-20-29: No data\n",
      "   📅 2024-08-20_16-34-34: No data\n",
      "   📅 2024-08-20_16-37-15: No data\n",
      "   📅 2024-08-20_16-39-23: No data\n",
      "   📅 2024-08-20_16-43-25: No data\n",
      "   📅 2024-08-20_16-45-21: No data\n",
      "   📅 2024-08-20_16-47-54: No data\n",
      "   📅 2024-08-20_16-51-57: No data\n",
      "   📅 2024-08-20_16-54-36: No data\n",
      "   📅 2024-08-20_16-57-46: No data\n",
      "   📅 2024-08-20_17-02-00: No data\n",
      "   📅 2024-08-20_17-04-52: No data\n",
      "   📅 2024-08-20_17-08-14: No data\n",
      "   📅 2024-08-20_17-11-14: No data\n",
      "   📅 2024-08-20_17-14-36: No data\n",
      "   📅 2024-08-20_17-22-40: No data\n",
      "   📅 2024-08-20_17-31-58: No data\n",
      "   📅 2024-08-20_17-34-52: No data\n",
      "   📅 2024-08-20_17-37-08: No data\n",
      "   📅 2024-08-20_17-39-32: No data\n",
      "   📅 2024-08-20_17-40-54: No data\n",
      "   📅 2024-08-20_17-47-49: No data\n",
      "   📅 2024-08-20_17-50-22: No data\n",
      "   📅 2024-08-20_17-53-06: No data\n",
      "   📅 2024-08-20_17-55-40: No data\n",
      "   📅 2024-08-20_17-57-55: No data\n",
      "   📅 2024-08-20_18-01-46: No data\n",
      "   📅 2024-08-20_18-05-42: No data\n",
      "   📅 2024-08-20_18-07-47: No data\n",
      "   📅 2024-08-20_18-09-52: No data\n",
      "   📅 2024-08-20_18-12-20: No data\n",
      "   📅 2024-08-20_18-38-53: No data\n",
      "   📅 2024-08-20_18-41-02: No data\n",
      "   📅 2024-08-20_18-47-40: No data\n",
      "   📅 2024-08-20_18-50-22: No data\n",
      "   📅 2024-08-20_18-52-15: No data\n",
      "   📅 2024-08-20_18-53-59: No data\n",
      "   📅 2024-08-22_14-06-43: 17 samples, 0.6 min\n",
      "   📅 2024-08-22_14-29-05: 31 samples, 1.0 min\n",
      "   📅 2024-08-22_14-47-39: 20 samples, 0.7 min\n",
      "\n",
      "🔧 BOTTOMTRACK:\n",
      "   📅 2024-08-20_13-39-34: No data\n",
      "   📅 2024-08-20_13-40-35: No data\n",
      "   📅 2024-08-20_13-42-51: No data\n",
      "   📅 2024-08-20_13-55-34: No data\n",
      "   📅 2024-08-20_13-57-42: No data\n",
      "   📅 2024-08-20_14-16-05: No data\n",
      "   📅 2024-08-20_14-22-12: No data\n",
      "   📅 2024-08-20_14-24-35: No data\n",
      "   📅 2024-08-20_14-31-29: No data\n",
      "   📅 2024-08-20_14-34-07: No data\n",
      "   📅 2024-08-20_14-36-22: No data\n",
      "   📅 2024-08-20_14-38-37: No data\n",
      "   📅 2024-08-20_14-49-47: No data\n",
      "   📅 2024-08-20_14-54-52: No data\n",
      "   📅 2024-08-20_14-57-38: No data\n",
      "   📅 2024-08-20_15-00-24: No data\n",
      "   📅 2024-08-20_15-05-53: No data\n",
      "   📅 2024-08-20_15-09-34: No data\n",
      "   📅 2024-08-20_15-12-51: No data\n",
      "   📅 2024-08-20_15-14-40: No data\n",
      "   📅 2024-08-20_15-18-27: No data\n",
      "   📅 2024-08-20_15-20-29: No data\n",
      "   📅 2024-08-20_16-34-34: No data\n",
      "   📅 2024-08-20_16-37-15: No data\n",
      "   📅 2024-08-20_16-39-23: No data\n",
      "   📅 2024-08-20_16-43-25: No data\n",
      "   📅 2024-08-20_16-45-21: No data\n",
      "   📅 2024-08-20_16-47-54: No data\n",
      "   📅 2024-08-20_16-51-57: No data\n",
      "   📅 2024-08-20_16-54-36: No data\n",
      "   📅 2024-08-20_16-57-46: No data\n",
      "   📅 2024-08-20_17-02-00: No data\n",
      "   📅 2024-08-20_17-04-52: No data\n",
      "   📅 2024-08-20_17-08-14: No data\n",
      "   📅 2024-08-20_17-11-14: No data\n",
      "   📅 2024-08-20_17-14-36: No data\n",
      "   📅 2024-08-20_17-22-40: No data\n",
      "   📅 2024-08-20_17-31-58: No data\n",
      "   📅 2024-08-20_17-34-52: No data\n",
      "   📅 2024-08-20_17-37-08: No data\n",
      "   📅 2024-08-20_17-39-32: No data\n",
      "   📅 2024-08-20_17-40-54: No data\n",
      "   📅 2024-08-20_17-47-49: No data\n",
      "   📅 2024-08-20_17-50-22: No data\n",
      "   📅 2024-08-20_17-53-06: No data\n",
      "   📅 2024-08-20_17-55-40: No data\n",
      "   📅 2024-08-20_17-57-55: No data\n",
      "   📅 2024-08-20_18-01-46: No data\n",
      "   📅 2024-08-20_18-05-42: No data\n",
      "   📅 2024-08-20_18-07-47: No data\n",
      "   📅 2024-08-20_18-09-52: No data\n",
      "   📅 2024-08-20_18-12-20: No data\n",
      "   📅 2024-08-20_18-38-53: No data\n",
      "   📅 2024-08-20_18-41-02: No data\n",
      "   📅 2024-08-20_18-47-40: No data\n",
      "   📅 2024-08-20_18-50-22: No data\n",
      "   📅 2024-08-20_18-52-15: No data\n",
      "   📅 2024-08-20_18-53-59: No data\n",
      "   📅 2024-08-22_14-06-43: 52 samples, 0.6 min\n",
      "   📅 2024-08-22_14-29-05: 81 samples, 1.0 min\n",
      "   📅 2024-08-22_14-47-39: 62 samples, 0.7 min\n",
      "\n",
      "🔧 IMU:\n",
      "   📅 2024-08-20_13-39-34: No data\n",
      "   📅 2024-08-20_13-40-35: No data\n",
      "   📅 2024-08-20_13-42-51: No data\n",
      "   📅 2024-08-20_13-55-34: No data\n",
      "   📅 2024-08-20_13-57-42: No data\n",
      "   📅 2024-08-20_14-16-05: No data\n",
      "   📅 2024-08-20_14-22-12: No data\n",
      "   📅 2024-08-20_14-24-35: No data\n",
      "   📅 2024-08-20_14-31-29: No data\n",
      "   📅 2024-08-20_14-34-07: No data\n",
      "   📅 2024-08-20_14-36-22: No data\n",
      "   📅 2024-08-20_14-38-37: No data\n",
      "   📅 2024-08-20_14-49-47: No data\n",
      "   📅 2024-08-20_14-54-52: No data\n",
      "   📅 2024-08-20_14-57-38: No data\n",
      "   📅 2024-08-20_15-00-24: No data\n",
      "   📅 2024-08-20_15-05-53: No data\n",
      "   📅 2024-08-20_15-09-34: No data\n",
      "   📅 2024-08-20_15-12-51: No data\n",
      "   📅 2024-08-20_15-14-40: No data\n",
      "   📅 2024-08-20_15-18-27: No data\n",
      "   📅 2024-08-20_15-20-29: No data\n",
      "   📅 2024-08-20_16-34-34: No data\n",
      "   📅 2024-08-20_16-37-15: No data\n",
      "   📅 2024-08-20_16-39-23: No data\n",
      "   📅 2024-08-20_16-43-25: No data\n",
      "   📅 2024-08-20_16-45-21: No data\n",
      "   📅 2024-08-20_16-47-54: No data\n",
      "   📅 2024-08-20_16-51-57: No data\n",
      "   📅 2024-08-20_16-54-36: No data\n",
      "   📅 2024-08-20_16-57-46: No data\n",
      "   📅 2024-08-20_17-02-00: No data\n",
      "   📅 2024-08-20_17-04-52: No data\n",
      "   📅 2024-08-20_17-08-14: No data\n",
      "   📅 2024-08-20_17-11-14: No data\n",
      "   📅 2024-08-20_17-14-36: No data\n",
      "   📅 2024-08-20_17-22-40: No data\n",
      "   📅 2024-08-20_17-31-58: No data\n",
      "   📅 2024-08-20_17-34-52: No data\n",
      "   📅 2024-08-20_17-37-08: No data\n",
      "   📅 2024-08-20_17-39-32: No data\n",
      "   📅 2024-08-20_17-40-54: No data\n",
      "   📅 2024-08-20_17-47-49: No data\n",
      "   📅 2024-08-20_17-50-22: No data\n",
      "   📅 2024-08-20_17-53-06: No data\n",
      "   📅 2024-08-20_17-55-40: No data\n",
      "   📅 2024-08-20_17-57-55: No data\n",
      "   📅 2024-08-20_18-01-46: No data\n",
      "   📅 2024-08-20_18-05-42: No data\n",
      "   📅 2024-08-20_18-07-47: No data\n",
      "   📅 2024-08-20_18-09-52: No data\n",
      "   📅 2024-08-20_18-12-20: No data\n",
      "   📅 2024-08-20_18-38-53: No data\n",
      "   📅 2024-08-20_18-41-02: No data\n",
      "   📅 2024-08-20_18-47-40: No data\n",
      "   📅 2024-08-20_18-50-22: No data\n",
      "   📅 2024-08-20_18-52-15: No data\n",
      "   📅 2024-08-20_18-53-59: No data\n",
      "   📅 2024-08-22_14-06-43: 3580 samples, 0.6 min\n",
      "   📅 2024-08-22_14-29-05: 6034 samples, 1.0 min\n",
      "   📅 2024-08-22_14-47-39: 4400 samples, 0.7 min\n",
      "\n",
      "🔧 INS:\n",
      "   📅 2024-08-20_13-39-34: No data\n",
      "   📅 2024-08-20_13-40-35: No data\n",
      "   📅 2024-08-20_13-42-51: No data\n",
      "   📅 2024-08-20_13-55-34: No data\n",
      "   📅 2024-08-20_13-57-42: No data\n",
      "   📅 2024-08-20_14-16-05: No data\n",
      "   📅 2024-08-20_14-22-12: No data\n",
      "   📅 2024-08-20_14-24-35: No data\n",
      "   📅 2024-08-20_14-31-29: No data\n",
      "   📅 2024-08-20_14-34-07: No data\n",
      "   📅 2024-08-20_14-36-22: No data\n",
      "   📅 2024-08-20_14-38-37: No data\n",
      "   📅 2024-08-20_14-49-47: No data\n",
      "   📅 2024-08-20_14-54-52: No data\n",
      "   📅 2024-08-20_14-57-38: No data\n",
      "   📅 2024-08-20_15-00-24: No data\n",
      "   📅 2024-08-20_15-05-53: No data\n",
      "   📅 2024-08-20_15-09-34: No data\n",
      "   📅 2024-08-20_15-12-51: No data\n",
      "   📅 2024-08-20_15-14-40: No data\n",
      "   📅 2024-08-20_15-18-27: No data\n",
      "   📅 2024-08-20_15-20-29: No data\n",
      "   📅 2024-08-20_16-34-34: No data\n",
      "   📅 2024-08-20_16-37-15: No data\n",
      "   📅 2024-08-20_16-39-23: No data\n",
      "   📅 2024-08-20_16-43-25: No data\n",
      "   📅 2024-08-20_16-45-21: No data\n",
      "   📅 2024-08-20_16-47-54: No data\n",
      "   📅 2024-08-20_16-51-57: No data\n",
      "   📅 2024-08-20_16-54-36: No data\n",
      "   📅 2024-08-20_16-57-46: No data\n",
      "   📅 2024-08-20_17-02-00: No data\n",
      "   📅 2024-08-20_17-04-52: No data\n",
      "   📅 2024-08-20_17-08-14: No data\n",
      "   📅 2024-08-20_17-11-14: No data\n",
      "   📅 2024-08-20_17-14-36: No data\n",
      "   📅 2024-08-20_17-22-40: No data\n",
      "   📅 2024-08-20_17-31-58: No data\n",
      "   📅 2024-08-20_17-34-52: No data\n",
      "   📅 2024-08-20_17-37-08: No data\n",
      "   📅 2024-08-20_17-39-32: No data\n",
      "   📅 2024-08-20_17-40-54: No data\n",
      "   📅 2024-08-20_17-47-49: No data\n",
      "   📅 2024-08-20_17-50-22: No data\n",
      "   📅 2024-08-20_17-53-06: No data\n",
      "   📅 2024-08-20_17-55-40: No data\n",
      "   📅 2024-08-20_17-57-55: No data\n",
      "   📅 2024-08-20_18-01-46: No data\n",
      "   📅 2024-08-20_18-05-42: No data\n",
      "   📅 2024-08-20_18-07-47: No data\n",
      "   📅 2024-08-20_18-09-52: No data\n",
      "   📅 2024-08-20_18-12-20: No data\n",
      "   📅 2024-08-20_18-38-53: No data\n",
      "   📅 2024-08-20_18-41-02: No data\n",
      "   📅 2024-08-20_18-47-40: No data\n",
      "   📅 2024-08-20_18-50-22: No data\n",
      "   📅 2024-08-20_18-52-15: No data\n",
      "   📅 2024-08-20_18-53-59: No data\n",
      "   📅 2024-08-22_14-06-43: 366 samples, 0.6 min\n",
      "   📅 2024-08-22_14-29-05: 562 samples, 1.0 min\n",
      "   📅 2024-08-22_14-47-39: 402 samples, 0.7 min\n",
      "\n",
      "🔧 MAGNETOMETER:\n",
      "   📅 2024-08-20_13-39-34: No data\n",
      "   📅 2024-08-20_13-40-35: No data\n",
      "   📅 2024-08-20_13-42-51: No data\n",
      "   📅 2024-08-20_13-55-34: No data\n",
      "   📅 2024-08-20_13-57-42: No data\n",
      "   📅 2024-08-20_14-16-05: No data\n",
      "   📅 2024-08-20_14-22-12: No data\n",
      "   📅 2024-08-20_14-24-35: No data\n",
      "   📅 2024-08-20_14-31-29: No data\n",
      "   📅 2024-08-20_14-34-07: No data\n",
      "   📅 2024-08-20_14-36-22: No data\n",
      "   📅 2024-08-20_14-38-37: No data\n",
      "   📅 2024-08-20_14-49-47: No data\n",
      "   📅 2024-08-20_14-54-52: No data\n",
      "   📅 2024-08-20_14-57-38: No data\n",
      "   📅 2024-08-20_15-00-24: No data\n",
      "   📅 2024-08-20_15-05-53: No data\n",
      "   📅 2024-08-20_15-09-34: No data\n",
      "   📅 2024-08-20_15-12-51: No data\n",
      "   📅 2024-08-20_15-14-40: No data\n",
      "   📅 2024-08-20_15-18-27: No data\n",
      "   📅 2024-08-20_15-20-29: No data\n",
      "   📅 2024-08-20_16-34-34: No data\n",
      "   📅 2024-08-20_16-37-15: No data\n",
      "   📅 2024-08-20_16-39-23: No data\n",
      "   📅 2024-08-20_16-43-25: No data\n",
      "   📅 2024-08-20_16-45-21: No data\n",
      "   📅 2024-08-20_16-47-54: No data\n",
      "   📅 2024-08-20_16-51-57: No data\n",
      "   📅 2024-08-20_16-54-36: No data\n",
      "   📅 2024-08-20_16-57-46: No data\n",
      "   📅 2024-08-20_17-02-00: No data\n",
      "   📅 2024-08-20_17-04-52: No data\n",
      "   📅 2024-08-20_17-08-14: No data\n",
      "   📅 2024-08-20_17-11-14: No data\n",
      "   📅 2024-08-20_17-14-36: No data\n",
      "   📅 2024-08-20_17-22-40: No data\n",
      "   📅 2024-08-20_17-31-58: No data\n",
      "   📅 2024-08-20_17-34-52: No data\n",
      "   📅 2024-08-20_17-37-08: No data\n",
      "   📅 2024-08-20_17-39-32: No data\n",
      "   📅 2024-08-20_17-40-54: No data\n",
      "   📅 2024-08-20_17-47-49: No data\n",
      "   📅 2024-08-20_17-50-22: No data\n",
      "   📅 2024-08-20_17-53-06: No data\n",
      "   📅 2024-08-20_17-55-40: No data\n",
      "   📅 2024-08-20_17-57-55: No data\n",
      "   📅 2024-08-20_18-01-46: No data\n",
      "   📅 2024-08-20_18-05-42: No data\n",
      "   📅 2024-08-20_18-07-47: No data\n",
      "   📅 2024-08-20_18-09-52: No data\n",
      "   📅 2024-08-20_18-12-20: No data\n",
      "   📅 2024-08-20_18-38-53: No data\n",
      "   📅 2024-08-20_18-41-02: No data\n",
      "   📅 2024-08-20_18-47-40: No data\n",
      "   📅 2024-08-20_18-50-22: No data\n",
      "   📅 2024-08-20_18-52-15: No data\n",
      "   📅 2024-08-20_18-53-59: No data\n",
      "   📅 2024-08-22_14-06-43: 2039 samples, 0.6 min\n",
      "   📅 2024-08-22_14-29-05: 3297 samples, 1.0 min\n",
      "   📅 2024-08-22_14-47-39: 1999 samples, 0.7 min\n",
      "\n",
      "🔧 POSITION:\n",
      "   📅 2024-08-20_13-39-34: No data\n",
      "   📅 2024-08-20_13-40-35: No data\n",
      "   📅 2024-08-20_13-42-51: No data\n",
      "   📅 2024-08-20_13-55-34: No data\n",
      "   📅 2024-08-20_13-57-42: No data\n",
      "   📅 2024-08-20_14-16-05: No data\n",
      "   📅 2024-08-20_14-22-12: No data\n",
      "   📅 2024-08-20_14-24-35: No data\n",
      "   📅 2024-08-20_14-31-29: No data\n",
      "   📅 2024-08-20_14-34-07: No data\n",
      "   📅 2024-08-20_14-36-22: No data\n",
      "   📅 2024-08-20_14-38-37: No data\n",
      "   📅 2024-08-20_14-49-47: No data\n",
      "   📅 2024-08-20_14-54-52: No data\n",
      "   📅 2024-08-20_14-57-38: No data\n",
      "   📅 2024-08-20_15-00-24: No data\n",
      "   📅 2024-08-20_15-05-53: No data\n",
      "   📅 2024-08-20_15-09-34: No data\n",
      "   📅 2024-08-20_15-12-51: No data\n",
      "   📅 2024-08-20_15-14-40: No data\n",
      "   📅 2024-08-20_15-18-27: No data\n",
      "   📅 2024-08-20_15-20-29: No data\n",
      "   📅 2024-08-20_16-34-34: No data\n",
      "   📅 2024-08-20_16-37-15: No data\n",
      "   📅 2024-08-20_16-39-23: No data\n",
      "   📅 2024-08-20_16-43-25: No data\n",
      "   📅 2024-08-20_16-45-21: No data\n",
      "   📅 2024-08-20_16-47-54: No data\n",
      "   📅 2024-08-20_16-51-57: No data\n",
      "   📅 2024-08-20_16-54-36: No data\n",
      "   📅 2024-08-20_16-57-46: No data\n",
      "   📅 2024-08-20_17-02-00: No data\n",
      "   📅 2024-08-20_17-04-52: No data\n",
      "   📅 2024-08-20_17-08-14: No data\n",
      "   📅 2024-08-20_17-11-14: No data\n",
      "   📅 2024-08-20_17-14-36: No data\n",
      "   📅 2024-08-20_17-22-40: No data\n",
      "   📅 2024-08-20_17-31-58: No data\n",
      "   📅 2024-08-20_17-34-52: No data\n",
      "   📅 2024-08-20_17-37-08: No data\n",
      "   📅 2024-08-20_17-39-32: No data\n",
      "   📅 2024-08-20_17-40-54: No data\n",
      "   📅 2024-08-20_17-47-49: No data\n",
      "   📅 2024-08-20_17-50-22: No data\n",
      "   📅 2024-08-20_17-53-06: No data\n",
      "   📅 2024-08-20_17-55-40: No data\n",
      "   📅 2024-08-20_17-57-55: No data\n",
      "   📅 2024-08-20_18-01-46: No data\n",
      "   📅 2024-08-20_18-05-42: No data\n",
      "   📅 2024-08-20_18-07-47: No data\n",
      "   📅 2024-08-20_18-09-52: No data\n",
      "   📅 2024-08-20_18-12-20: No data\n",
      "   📅 2024-08-20_18-38-53: No data\n",
      "   📅 2024-08-20_18-41-02: No data\n",
      "   📅 2024-08-20_18-47-40: No data\n",
      "   📅 2024-08-20_18-50-22: No data\n",
      "   📅 2024-08-20_18-52-15: No data\n",
      "   📅 2024-08-20_18-53-59: No data\n",
      "   📅 2024-08-22_14-06-43: No data\n",
      "   📅 2024-08-22_14-29-05: No data\n",
      "   📅 2024-08-22_14-47-39: No data\n",
      "\n",
      "🔧 VELOCITY:\n",
      "   📅 2024-08-20_13-39-34: No data\n",
      "   📅 2024-08-20_13-40-35: No data\n",
      "   📅 2024-08-20_13-42-51: No data\n",
      "   📅 2024-08-20_13-55-34: No data\n",
      "   📅 2024-08-20_13-57-42: No data\n",
      "   📅 2024-08-20_14-16-05: No data\n",
      "   📅 2024-08-20_14-22-12: No data\n",
      "   📅 2024-08-20_14-24-35: No data\n",
      "   📅 2024-08-20_14-31-29: No data\n",
      "   📅 2024-08-20_14-34-07: No data\n",
      "   📅 2024-08-20_14-36-22: No data\n",
      "   📅 2024-08-20_14-38-37: No data\n",
      "   📅 2024-08-20_14-49-47: No data\n",
      "   📅 2024-08-20_14-54-52: No data\n",
      "   📅 2024-08-20_14-57-38: No data\n",
      "   📅 2024-08-20_15-00-24: No data\n",
      "   📅 2024-08-20_15-05-53: No data\n",
      "   📅 2024-08-20_15-09-34: No data\n",
      "   📅 2024-08-20_15-12-51: No data\n",
      "   📅 2024-08-20_15-14-40: No data\n",
      "   📅 2024-08-20_15-18-27: No data\n",
      "   📅 2024-08-20_15-20-29: No data\n",
      "   📅 2024-08-20_16-34-34: No data\n",
      "   📅 2024-08-20_16-37-15: No data\n",
      "   📅 2024-08-20_16-39-23: No data\n",
      "   📅 2024-08-20_16-43-25: No data\n",
      "   📅 2024-08-20_16-45-21: No data\n",
      "   📅 2024-08-20_16-47-54: No data\n",
      "   📅 2024-08-20_16-51-57: No data\n",
      "   📅 2024-08-20_16-54-36: No data\n",
      "   📅 2024-08-20_16-57-46: No data\n",
      "   📅 2024-08-20_17-02-00: No data\n",
      "   📅 2024-08-20_17-04-52: No data\n",
      "   📅 2024-08-20_17-08-14: No data\n",
      "   📅 2024-08-20_17-11-14: No data\n",
      "   📅 2024-08-20_17-14-36: No data\n",
      "   📅 2024-08-20_17-22-40: No data\n",
      "   📅 2024-08-20_17-31-58: No data\n",
      "   📅 2024-08-20_17-34-52: No data\n",
      "   📅 2024-08-20_17-37-08: No data\n",
      "   📅 2024-08-20_17-39-32: No data\n",
      "   📅 2024-08-20_17-40-54: No data\n",
      "   📅 2024-08-20_17-47-49: No data\n",
      "   📅 2024-08-20_17-50-22: No data\n",
      "   📅 2024-08-20_17-53-06: No data\n",
      "   📅 2024-08-20_17-55-40: No data\n",
      "   📅 2024-08-20_17-57-55: No data\n",
      "   📅 2024-08-20_18-01-46: No data\n",
      "   📅 2024-08-20_18-05-42: No data\n",
      "   📅 2024-08-20_18-07-47: No data\n",
      "   📅 2024-08-20_18-09-52: No data\n",
      "   📅 2024-08-20_18-12-20: No data\n",
      "   📅 2024-08-20_18-38-53: No data\n",
      "   📅 2024-08-20_18-41-02: No data\n",
      "   📅 2024-08-20_18-47-40: No data\n",
      "   📅 2024-08-20_18-50-22: No data\n",
      "   📅 2024-08-20_18-52-15: No data\n",
      "   📅 2024-08-20_18-53-59: No data\n",
      "   📅 2024-08-22_14-06-43: No data\n",
      "   📅 2024-08-22_14-29-05: No data\n",
      "   📅 2024-08-22_14-47-39: No data\n",
      "\n",
      "🔧 WATERTRACK:\n",
      "   📅 2024-08-20_13-39-34: No data\n",
      "   📅 2024-08-20_13-40-35: No data\n",
      "   📅 2024-08-20_13-42-51: No data\n",
      "   📅 2024-08-20_13-55-34: No data\n",
      "   📅 2024-08-20_13-57-42: No data\n",
      "   📅 2024-08-20_14-16-05: No data\n",
      "   📅 2024-08-20_14-22-12: No data\n",
      "   📅 2024-08-20_14-24-35: No data\n",
      "   📅 2024-08-20_14-31-29: No data\n",
      "   📅 2024-08-20_14-34-07: No data\n",
      "   📅 2024-08-20_14-36-22: No data\n",
      "   📅 2024-08-20_14-38-37: No data\n",
      "   📅 2024-08-20_14-49-47: No data\n",
      "   📅 2024-08-20_14-54-52: No data\n",
      "   📅 2024-08-20_14-57-38: No data\n",
      "   📅 2024-08-20_15-00-24: No data\n",
      "   📅 2024-08-20_15-05-53: No data\n",
      "   📅 2024-08-20_15-09-34: No data\n",
      "   📅 2024-08-20_15-12-51: No data\n",
      "   📅 2024-08-20_15-14-40: No data\n",
      "   📅 2024-08-20_15-18-27: No data\n",
      "   📅 2024-08-20_15-20-29: No data\n",
      "   📅 2024-08-20_16-34-34: No data\n",
      "   📅 2024-08-20_16-37-15: No data\n",
      "   📅 2024-08-20_16-39-23: No data\n",
      "   📅 2024-08-20_16-43-25: No data\n",
      "   📅 2024-08-20_16-45-21: No data\n",
      "   📅 2024-08-20_16-47-54: No data\n",
      "   📅 2024-08-20_16-51-57: No data\n",
      "   📅 2024-08-20_16-54-36: No data\n",
      "   📅 2024-08-20_16-57-46: No data\n",
      "   📅 2024-08-20_17-02-00: No data\n",
      "   📅 2024-08-20_17-04-52: No data\n",
      "   📅 2024-08-20_17-08-14: No data\n",
      "   📅 2024-08-20_17-11-14: No data\n",
      "   📅 2024-08-20_17-14-36: No data\n",
      "   📅 2024-08-20_17-22-40: No data\n",
      "   📅 2024-08-20_17-31-58: No data\n",
      "   📅 2024-08-20_17-34-52: No data\n",
      "   📅 2024-08-20_17-37-08: No data\n",
      "   📅 2024-08-20_17-39-32: No data\n",
      "   📅 2024-08-20_17-40-54: No data\n",
      "   📅 2024-08-20_17-47-49: No data\n",
      "   📅 2024-08-20_17-50-22: No data\n",
      "   📅 2024-08-20_17-53-06: No data\n",
      "   📅 2024-08-20_17-55-40: No data\n",
      "   📅 2024-08-20_17-57-55: No data\n",
      "   📅 2024-08-20_18-01-46: No data\n",
      "   📅 2024-08-20_18-05-42: No data\n",
      "   📅 2024-08-20_18-07-47: No data\n",
      "   📅 2024-08-20_18-09-52: No data\n",
      "   📅 2024-08-20_18-12-20: No data\n",
      "   📅 2024-08-20_18-38-53: No data\n",
      "   📅 2024-08-20_18-41-02: No data\n",
      "   📅 2024-08-20_18-47-40: No data\n",
      "   📅 2024-08-20_18-50-22: No data\n",
      "   📅 2024-08-20_18-52-15: No data\n",
      "   📅 2024-08-20_18-53-59: No data\n",
      "   📅 2024-08-22_14-06-43: 53 samples, 0.6 min\n",
      "   📅 2024-08-22_14-29-05: 79 samples, 0.9 min\n",
      "   📅 2024-08-22_14-47-39: No data\n"
     ]
    }
   ],
   "source": [
    "# 🔍 FILE DISCOVERY AND DATA LOADING — compact\n",
    "print(\"Discovering Nucleus1000DVL data files...\")\n",
    "analyzer = dvl_utils.Nucleus1000DVLAnalyzer(BY_BAG_FOLDER)\n",
    "print(f\"Data Discovery: {len(analyzer.available_bags)} bags, {len(analyzer.available_sensors)} sensors\")\n",
    "# Print a short summary (detailed summaries can be produced with analyzer.get_summary())\n",
    "analyzer.get_summary()"
   ]
  },
  {
   "cell_type": "code",
   "execution_count": null,
   "id": "a04578e6",
   "metadata": {},
   "outputs": [
    {
     "name": "stdout",
     "output_type": "stream",
     "text": [
      "\n",
      "🔍 Exploring bag: 2024-08-22_14-47-39\n",
      "\n",
      "🔧 ALTIMETER Data:\n",
      "   📏 Shape: (20, 21)\n",
      "   ⏱️  Duration: 0.7 minutes\n",
      "\n",
      "🔧 BOTTOMTRACK Data:\n",
      "   📏 Shape: (62, 35)\n",
      "   ⏱️  Duration: 0.7 minutes\n",
      "\n",
      "🔧 IMU Data:\n",
      "   📏 Shape: (4400, 24)\n",
      "   ⏱️  Duration: 0.7 minutes\n",
      "\n",
      "🔧 INS Data:\n",
      "   📏 Shape: (402, 50)\n",
      "   ⏱️  Duration: 0.7 minutes\n",
      "\n",
      "🔧 MAGNETOMETER Data:\n",
      "   📏 Shape: (1999, 20)\n",
      "   ⏱️  Duration: 0.7 minutes\n",
      "\n",
      "🔧 POSITION Data:\n",
      "   📏 Shape: (208, 25)\n",
      "   ⏱️  Duration: 0.8 minutes\n",
      "\n",
      "🔧 VELOCITY Data:\n",
      "   📏 Shape: (410, 26)\n",
      "   ⏱️  Duration: 0.8 minutes\n",
      "\n",
      "🔧 WATERTRACK Data:\n",
      "   ❌ No data available\n",
      "   📏 Shape: (1999, 20)\n",
      "   ⏱️  Duration: 0.7 minutes\n",
      "\n",
      "🔧 POSITION Data:\n",
      "   📏 Shape: (208, 25)\n",
      "   ⏱️  Duration: 0.8 minutes\n",
      "\n",
      "🔧 VELOCITY Data:\n",
      "   📏 Shape: (410, 26)\n",
      "   ⏱️  Duration: 0.8 minutes\n",
      "\n",
      "🔧 WATERTRACK Data:\n",
      "   ❌ No data available\n"
     ]
    }
   ],
   "source": [
    "# BASIC DATA EXPLORATION — compact\n",
    "# Choose bag (uses BAG_SELECTION or falls back to first available)\n",
    "if BAG_SELECTION and BAG_SELECTION in analyzer.available_bags:\n",
    "    selected_bag = BAG_SELECTION\n",
    "elif analyzer.available_bags:\n",
    "    selected_bag = analyzer.available_bags[0]\n",
    "    print(f\"Auto-selected bag: {selected_bag}\")\n",
    "else:\n",
    "    selected_bag = None\n",
    "\n",
    "if selected_bag:\n",
    "    analyzer.explore_bag(selected_bag)\n",
    "else:\n",
    "    print(\"No bag available for exploration\")"
   ]
  },
  {
   "cell_type": "code",
   "execution_count": null,
   "id": "4e730457",
   "metadata": {},
   "outputs": [
    {
     "data": {
      "application/vnd.plotly.v1+json": {
       "config": {
        "plotlyServerURL": "https://plot.ly"
       },
       "data": [
        {
         "legendgroup": "2024-08-22_14-47-39",
         "line": {
          "color": "rgb(228,26,28)"
         },
         "name": "2024-08-22_14-47-39 - X",
         "type": "scatter",
         "x": {
          "bdata": "AAAAAAAAAAC8u7u7yyV9P7y7u7u7k40/ZmZmZuaPnT+rqqqqwYG4P2ZmZmZxdLo/q6qqqlg2vD/NzMzMVd/AP4mIiIjWzcM/mZmZmfaqxz8AAACA2GTJP2ZmZmZgQ8o/q6qqKnMZyz9VVVXV8fLMP+7u7m7m5M0/NDMzs5tj0D8AAABACO3QP2ZmZiZnYdE/VVVVlbFW0j8RERERosHSP5uZmRnfvtM/7+7uLqmq1D8zMzNzoB7VP0RERERJj9U/rKqqqmzb1j+JiIhI9lPXP83MzMx0v9c/MzMz80k53D8iIiIiNXrdP83MzEym6t0/ERERUXxW3j8RERGR01jfP6uqqkoyDOA/ZmZmxkxE4D8iIiICTMHgPxEREVEDH+E/vLu7W10t4j8iIiIipGXiP0RERAQO/OI/REREpA5F4z9mZmaG+JXjP5qZmRklEeQ/q6qqipRJ5D8iIiJCUIjkP1VVVVXJBeU/ZmZmpjBX5T8=",
          "dtype": "f8"
         },
         "xaxis": "x",
         "y": {
          "bdata": "Rf//3yThZr/7//9/0Dq5P/3//9+QzLU//v//n7XgvD8AAADAeRKtP/7//9+ttrc/vv//H7ZYe7/8//+/zLe4PwAAACC/pbo/+v///8+Fsj/2////oFmnP/3//19TsbA/+v///+PutT/8//8fxYW1P/3///+Yibk/9f//X9nZlT/////f1H7PP/r//9+CWbI/////f9CyxD/1//8/oF+tP/b//3+A96k/////PzDKtT8AAADAtvK0P/T//x+486s/+////34nsz////9frka9P/3//x+t48M//v//ny8rtT/5///fdfqsP/j//x8waa0//v//v8FjwT/+//+f+CvDP//////iNLk/8///HxV9oj/9///f48/LP////z9lBco/////v2AQuz/+//+fP83DP/3//59DL7I//v//f6EIuj////8f8zG+PwAAAGCahrE/9f//X5hZnD/+//8/ndfFP/n//59V97o//f//n0eiuD8=",
          "dtype": "f8"
         },
         "yaxis": "y"
        },
        {
         "legendgroup": "2024-08-22_14-47-39",
         "line": {
          "color": "rgb(228,26,28)",
          "dash": "dash"
         },
         "name": "2024-08-22_14-47-39 - Y",
         "type": "scatter",
         "x": {
          "bdata": "AAAAAAAAAAC8u7u7yyV9P7y7u7u7k40/ZmZmZuaPnT+rqqqqwYG4P2ZmZmZxdLo/q6qqqlg2vD/NzMzMVd/AP4mIiIjWzcM/mZmZmfaqxz8AAACA2GTJP2ZmZmZgQ8o/q6qqKnMZyz9VVVXV8fLMP+7u7m7m5M0/NDMzs5tj0D8AAABACO3QP2ZmZiZnYdE/VVVVlbFW0j8RERERosHSP5uZmRnfvtM/7+7uLqmq1D8zMzNzoB7VP0RERERJj9U/rKqqqmzb1j+JiIhI9lPXP83MzMx0v9c/MzMz80k53D8iIiIiNXrdP83MzEym6t0/ERERUXxW3j8RERGR01jfP6uqqkoyDOA/ZmZmxkxE4D8iIiICTMHgPxEREVEDH+E/vLu7W10t4j8iIiIipGXiP0RERAQO/OI/REREpA5F4z9mZmaG+JXjP5qZmRklEeQ/q6qqipRJ5D8iIiJCUIjkP1VVVVXJBeU/ZmZmpjBX5T8=",
          "dtype": "f8"
         },
         "xaxis": "x2",
         "y": {
          "bdata": "/v///3iNx795/f8fUkA7v/X//1+gM5y//f//P6mApb/+//9f4tO4v/v//z+L2LC/////H55itj/9//9/W6uiP/3//9/t8Zu/0v//35RBhr/5/////0qgP////99Ur6g/7v//P1/unD/9///fFtK8v+r//x+iSZg//P//nzpet7/9//9ffN2Qv/v//9+fN7W/+v//3xwWrT/a//+/fKCOP+7//z9PVp8//f//f8mUu7/q//8fiieOv/f//9/mmJC//P//fzontL9t//9fvQlgP/3//1+Qaqs/9///f2QGk7+x//8/CBFyv/n////rQ5K/7f//XzbSlj/0//9/g8ilPyL//58tFGG/v///37bEdL/9//9/x6vLP////x8efMI/+f//H03goT/1//+/c96jv8D//3817nA/yv//f2cRhL9V//8fk95RP/T//18Jwqq/+v///xSuur/6//8/p4q5PwAAAAC7Hnw/x///f/jlgj8=",
          "dtype": "f8"
         },
         "yaxis": "y2"
        },
        {
         "legendgroup": "2024-08-22_14-47-39",
         "line": {
          "color": "rgb(228,26,28)",
          "dash": "dot"
         },
         "name": "2024-08-22_14-47-39 - Z",
         "type": "scatter",
         "x": {
          "bdata": "AAAAAAAAAAC8u7u7yyV9P7y7u7u7k40/ZmZmZuaPnT+rqqqqwYG4P2ZmZmZxdLo/q6qqqlg2vD/NzMzMVd/AP4mIiIjWzcM/mZmZmfaqxz8AAACA2GTJP2ZmZmZgQ8o/q6qqKnMZyz9VVVXV8fLMP+7u7m7m5M0/NDMzs5tj0D8AAABACO3QP2ZmZiZnYdE/VVVVlbFW0j8RERERosHSP5uZmRnfvtM/7+7uLqmq1D8zMzNzoB7VP0RERERJj9U/rKqqqmzb1j+JiIhI9lPXP83MzMx0v9c/MzMz80k53D8iIiIiNXrdP83MzEym6t0/ERERUXxW3j8RERGR01jfP6uqqkoyDOA/ZmZmxkxE4D8iIiICTMHgPxEREVEDH+E/vLu7W10t4j8iIiIipGXiP0RERAQO/OI/REREpA5F4z9mZmaG+JXjP5qZmRklEeQ/q6qqipRJ5D8iIiJCUIjkP1VVVVXJBeU/ZmZmpjBX5T8=",
          "dtype": "f8"
         },
         "xaxis": "x3",
         "y": {
          "bdata": "6P//P+ILmD/2/v9fz55fP+H//3/iVIi/5P///2l+mL/p//8fxmaMv/7//790Taw/5P//v1Ggnz/p//8/geOQPwAAACBZwJA/zf//v30iiD/X//9/BReHv/L//7+S0KQ/+///3+iIpz/U//8/9weAv/X//x+ImaE/6v//33WGmD/z//+f/IykP+7//z8aiZE/q////3rae7/m//8/sCN3P+3///8RV4k/AAAAoBzzoj/u//+fuEqcv8P//x8zl3+/////v5UEsj/2//+/WwKqP/v//z8NJqM/zv//fxBzcb9N/v9fpctZP/T//x+sYpU/wv//348adb/y//9fDHOYv5L9/x9koU2//v//n701mz/3//9foYunv/L//5/Pv6q/9v//P/q9qD/7//+/YlmQP6///1/Ks3U/+v//X26+n7/h//9f1j+Dv6X//1/1T2s/2///X21mfD/n////JmWRv7z////xBXQ/+P//HySQnj8=",
          "dtype": "f8"
         },
         "yaxis": "y3"
        }
       ],
       "layout": {
        "annotations": [
         {
          "font": {
           "size": 16
          },
          "showarrow": false,
          "text": "X Velocity",
          "x": 0.5,
          "xanchor": "center",
          "xref": "paper",
          "y": 1,
          "yanchor": "bottom",
          "yref": "paper"
         },
         {
          "font": {
           "size": 16
          },
          "showarrow": false,
          "text": "Y Velocity",
          "x": 0.5,
          "xanchor": "center",
          "xref": "paper",
          "y": 0.6399999999999999,
          "yanchor": "bottom",
          "yref": "paper"
         },
         {
          "font": {
           "size": 16
          },
          "showarrow": false,
          "text": "Z Velocity",
          "x": 0.5,
          "xanchor": "center",
          "xref": "paper",
          "y": 0.27999999999999997,
          "yanchor": "bottom",
          "yref": "paper"
         }
        ],
        "height": 800,
        "hovermode": "x unified",
        "template": {
         "data": {
          "bar": [
           {
            "error_x": {
             "color": "#2a3f5f"
            },
            "error_y": {
             "color": "#2a3f5f"
            },
            "marker": {
             "line": {
              "color": "#E5ECF6",
              "width": 0.5
             },
             "pattern": {
              "fillmode": "overlay",
              "size": 10,
              "solidity": 0.2
             }
            },
            "type": "bar"
           }
          ],
          "barpolar": [
           {
            "marker": {
             "line": {
              "color": "#E5ECF6",
              "width": 0.5
             },
             "pattern": {
              "fillmode": "overlay",
              "size": 10,
              "solidity": 0.2
             }
            },
            "type": "barpolar"
           }
          ],
          "carpet": [
           {
            "aaxis": {
             "endlinecolor": "#2a3f5f",
             "gridcolor": "white",
             "linecolor": "white",
             "minorgridcolor": "white",
             "startlinecolor": "#2a3f5f"
            },
            "baxis": {
             "endlinecolor": "#2a3f5f",
             "gridcolor": "white",
             "linecolor": "white",
             "minorgridcolor": "white",
             "startlinecolor": "#2a3f5f"
            },
            "type": "carpet"
           }
          ],
          "choropleth": [
           {
            "colorbar": {
             "outlinewidth": 0,
             "ticks": ""
            },
            "type": "choropleth"
           }
          ],
          "contour": [
           {
            "colorbar": {
             "outlinewidth": 0,
             "ticks": ""
            },
            "colorscale": [
             [
              0,
              "#0d0887"
             ],
             [
              0.1111111111111111,
              "#46039f"
             ],
             [
              0.2222222222222222,
              "#7201a8"
             ],
             [
              0.3333333333333333,
              "#9c179e"
             ],
             [
              0.4444444444444444,
              "#bd3786"
             ],
             [
              0.5555555555555556,
              "#d8576b"
             ],
             [
              0.6666666666666666,
              "#ed7953"
             ],
             [
              0.7777777777777778,
              "#fb9f3a"
             ],
             [
              0.8888888888888888,
              "#fdca26"
             ],
             [
              1,
              "#f0f921"
             ]
            ],
            "type": "contour"
           }
          ],
          "contourcarpet": [
           {
            "colorbar": {
             "outlinewidth": 0,
             "ticks": ""
            },
            "type": "contourcarpet"
           }
          ],
          "heatmap": [
           {
            "colorbar": {
             "outlinewidth": 0,
             "ticks": ""
            },
            "colorscale": [
             [
              0,
              "#0d0887"
             ],
             [
              0.1111111111111111,
              "#46039f"
             ],
             [
              0.2222222222222222,
              "#7201a8"
             ],
             [
              0.3333333333333333,
              "#9c179e"
             ],
             [
              0.4444444444444444,
              "#bd3786"
             ],
             [
              0.5555555555555556,
              "#d8576b"
             ],
             [
              0.6666666666666666,
              "#ed7953"
             ],
             [
              0.7777777777777778,
              "#fb9f3a"
             ],
             [
              0.8888888888888888,
              "#fdca26"
             ],
             [
              1,
              "#f0f921"
             ]
            ],
            "type": "heatmap"
           }
          ],
          "histogram": [
           {
            "marker": {
             "pattern": {
              "fillmode": "overlay",
              "size": 10,
              "solidity": 0.2
             }
            },
            "type": "histogram"
           }
          ],
          "histogram2d": [
           {
            "colorbar": {
             "outlinewidth": 0,
             "ticks": ""
            },
            "colorscale": [
             [
              0,
              "#0d0887"
             ],
             [
              0.1111111111111111,
              "#46039f"
             ],
             [
              0.2222222222222222,
              "#7201a8"
             ],
             [
              0.3333333333333333,
              "#9c179e"
             ],
             [
              0.4444444444444444,
              "#bd3786"
             ],
             [
              0.5555555555555556,
              "#d8576b"
             ],
             [
              0.6666666666666666,
              "#ed7953"
             ],
             [
              0.7777777777777778,
              "#fb9f3a"
             ],
             [
              0.8888888888888888,
              "#fdca26"
             ],
             [
              1,
              "#f0f921"
             ]
            ],
            "type": "histogram2d"
           }
          ],
          "histogram2dcontour": [
           {
            "colorbar": {
             "outlinewidth": 0,
             "ticks": ""
            },
            "colorscale": [
             [
              0,
              "#0d0887"
             ],
             [
              0.1111111111111111,
              "#46039f"
             ],
             [
              0.2222222222222222,
              "#7201a8"
             ],
             [
              0.3333333333333333,
              "#9c179e"
             ],
             [
              0.4444444444444444,
              "#bd3786"
             ],
             [
              0.5555555555555556,
              "#d8576b"
             ],
             [
              0.6666666666666666,
              "#ed7953"
             ],
             [
              0.7777777777777778,
              "#fb9f3a"
             ],
             [
              0.8888888888888888,
              "#fdca26"
             ],
             [
              1,
              "#f0f921"
             ]
            ],
            "type": "histogram2dcontour"
           }
          ],
          "mesh3d": [
           {
            "colorbar": {
             "outlinewidth": 0,
             "ticks": ""
            },
            "type": "mesh3d"
           }
          ],
          "parcoords": [
           {
            "line": {
             "colorbar": {
              "outlinewidth": 0,
              "ticks": ""
             }
            },
            "type": "parcoords"
           }
          ],
          "pie": [
           {
            "automargin": true,
            "type": "pie"
           }
          ],
          "scatter": [
           {
            "fillpattern": {
             "fillmode": "overlay",
             "size": 10,
             "solidity": 0.2
            },
            "type": "scatter"
           }
          ],
          "scatter3d": [
           {
            "line": {
             "colorbar": {
              "outlinewidth": 0,
              "ticks": ""
             }
            },
            "marker": {
             "colorbar": {
              "outlinewidth": 0,
              "ticks": ""
             }
            },
            "type": "scatter3d"
           }
          ],
          "scattercarpet": [
           {
            "marker": {
             "colorbar": {
              "outlinewidth": 0,
              "ticks": ""
             }
            },
            "type": "scattercarpet"
           }
          ],
          "scattergeo": [
           {
            "marker": {
             "colorbar": {
              "outlinewidth": 0,
              "ticks": ""
             }
            },
            "type": "scattergeo"
           }
          ],
          "scattergl": [
           {
            "marker": {
             "colorbar": {
              "outlinewidth": 0,
              "ticks": ""
             }
            },
            "type": "scattergl"
           }
          ],
          "scattermap": [
           {
            "marker": {
             "colorbar": {
              "outlinewidth": 0,
              "ticks": ""
             }
            },
            "type": "scattermap"
           }
          ],
          "scattermapbox": [
           {
            "marker": {
             "colorbar": {
              "outlinewidth": 0,
              "ticks": ""
             }
            },
            "type": "scattermapbox"
           }
          ],
          "scatterpolar": [
           {
            "marker": {
             "colorbar": {
              "outlinewidth": 0,
              "ticks": ""
             }
            },
            "type": "scatterpolar"
           }
          ],
          "scatterpolargl": [
           {
            "marker": {
             "colorbar": {
              "outlinewidth": 0,
              "ticks": ""
             }
            },
            "type": "scatterpolargl"
           }
          ],
          "scatterternary": [
           {
            "marker": {
             "colorbar": {
              "outlinewidth": 0,
              "ticks": ""
             }
            },
            "type": "scatterternary"
           }
          ],
          "surface": [
           {
            "colorbar": {
             "outlinewidth": 0,
             "ticks": ""
            },
            "colorscale": [
             [
              0,
              "#0d0887"
             ],
             [
              0.1111111111111111,
              "#46039f"
             ],
             [
              0.2222222222222222,
              "#7201a8"
             ],
             [
              0.3333333333333333,
              "#9c179e"
             ],
             [
              0.4444444444444444,
              "#bd3786"
             ],
             [
              0.5555555555555556,
              "#d8576b"
             ],
             [
              0.6666666666666666,
              "#ed7953"
             ],
             [
              0.7777777777777778,
              "#fb9f3a"
             ],
             [
              0.8888888888888888,
              "#fdca26"
             ],
             [
              1,
              "#f0f921"
             ]
            ],
            "type": "surface"
           }
          ],
          "table": [
           {
            "cells": {
             "fill": {
              "color": "#EBF0F8"
             },
             "line": {
              "color": "white"
             }
            },
            "header": {
             "fill": {
              "color": "#C8D4E3"
             },
             "line": {
              "color": "white"
             }
            },
            "type": "table"
           }
          ]
         },
         "layout": {
          "annotationdefaults": {
           "arrowcolor": "#2a3f5f",
           "arrowhead": 0,
           "arrowwidth": 1
          },
          "autotypenumbers": "strict",
          "coloraxis": {
           "colorbar": {
            "outlinewidth": 0,
            "ticks": ""
           }
          },
          "colorscale": {
           "diverging": [
            [
             0,
             "#8e0152"
            ],
            [
             0.1,
             "#c51b7d"
            ],
            [
             0.2,
             "#de77ae"
            ],
            [
             0.3,
             "#f1b6da"
            ],
            [
             0.4,
             "#fde0ef"
            ],
            [
             0.5,
             "#f7f7f7"
            ],
            [
             0.6,
             "#e6f5d0"
            ],
            [
             0.7,
             "#b8e186"
            ],
            [
             0.8,
             "#7fbc41"
            ],
            [
             0.9,
             "#4d9221"
            ],
            [
             1,
             "#276419"
            ]
           ],
           "sequential": [
            [
             0,
             "#0d0887"
            ],
            [
             0.1111111111111111,
             "#46039f"
            ],
            [
             0.2222222222222222,
             "#7201a8"
            ],
            [
             0.3333333333333333,
             "#9c179e"
            ],
            [
             0.4444444444444444,
             "#bd3786"
            ],
            [
             0.5555555555555556,
             "#d8576b"
            ],
            [
             0.6666666666666666,
             "#ed7953"
            ],
            [
             0.7777777777777778,
             "#fb9f3a"
            ],
            [
             0.8888888888888888,
             "#fdca26"
            ],
            [
             1,
             "#f0f921"
            ]
           ],
           "sequentialminus": [
            [
             0,
             "#0d0887"
            ],
            [
             0.1111111111111111,
             "#46039f"
            ],
            [
             0.2222222222222222,
             "#7201a8"
            ],
            [
             0.3333333333333333,
             "#9c179e"
            ],
            [
             0.4444444444444444,
             "#bd3786"
            ],
            [
             0.5555555555555556,
             "#d8576b"
            ],
            [
             0.6666666666666666,
             "#ed7953"
            ],
            [
             0.7777777777777778,
             "#fb9f3a"
            ],
            [
             0.8888888888888888,
             "#fdca26"
            ],
            [
             1,
             "#f0f921"
            ]
           ]
          },
          "colorway": [
           "#636efa",
           "#EF553B",
           "#00cc96",
           "#ab63fa",
           "#FFA15A",
           "#19d3f3",
           "#FF6692",
           "#B6E880",
           "#FF97FF",
           "#FECB52"
          ],
          "font": {
           "color": "#2a3f5f"
          },
          "geo": {
           "bgcolor": "white",
           "lakecolor": "white",
           "landcolor": "#E5ECF6",
           "showlakes": true,
           "showland": true,
           "subunitcolor": "white"
          },
          "hoverlabel": {
           "align": "left"
          },
          "hovermode": "closest",
          "mapbox": {
           "style": "light"
          },
          "paper_bgcolor": "white",
          "plot_bgcolor": "#E5ECF6",
          "polar": {
           "angularaxis": {
            "gridcolor": "white",
            "linecolor": "white",
            "ticks": ""
           },
           "bgcolor": "#E5ECF6",
           "radialaxis": {
            "gridcolor": "white",
            "linecolor": "white",
            "ticks": ""
           }
          },
          "scene": {
           "xaxis": {
            "backgroundcolor": "#E5ECF6",
            "gridcolor": "white",
            "gridwidth": 2,
            "linecolor": "white",
            "showbackground": true,
            "ticks": "",
            "zerolinecolor": "white"
           },
           "yaxis": {
            "backgroundcolor": "#E5ECF6",
            "gridcolor": "white",
            "gridwidth": 2,
            "linecolor": "white",
            "showbackground": true,
            "ticks": "",
            "zerolinecolor": "white"
           },
           "zaxis": {
            "backgroundcolor": "#E5ECF6",
            "gridcolor": "white",
            "gridwidth": 2,
            "linecolor": "white",
            "showbackground": true,
            "ticks": "",
            "zerolinecolor": "white"
           }
          },
          "shapedefaults": {
           "line": {
            "color": "#2a3f5f"
           }
          },
          "ternary": {
           "aaxis": {
            "gridcolor": "white",
            "linecolor": "white",
            "ticks": ""
           },
           "baxis": {
            "gridcolor": "white",
            "linecolor": "white",
            "ticks": ""
           },
           "bgcolor": "#E5ECF6",
           "caxis": {
            "gridcolor": "white",
            "linecolor": "white",
            "ticks": ""
           }
          },
          "title": {
           "x": 0.05
          },
          "xaxis": {
           "automargin": true,
           "gridcolor": "white",
           "linecolor": "white",
           "ticks": "",
           "title": {
            "standoff": 15
           },
           "zerolinecolor": "white",
           "zerolinewidth": 2
          },
          "yaxis": {
           "automargin": true,
           "gridcolor": "white",
           "linecolor": "white",
           "ticks": "",
           "title": {
            "standoff": 15
           },
           "zerolinecolor": "white",
           "zerolinewidth": 2
          }
         }
        },
        "title": {
         "text": "Bottom Track Velocity - 2024-08-22_14-47-39"
        },
        "xaxis": {
         "anchor": "y",
         "domain": [
          0,
          1
         ],
         "matches": "x3",
         "showticklabels": false
        },
        "xaxis2": {
         "anchor": "y2",
         "domain": [
          0,
          1
         ],
         "matches": "x3",
         "showticklabels": false
        },
        "xaxis3": {
         "anchor": "y3",
         "domain": [
          0,
          1
         ],
         "title": {
          "text": "Time (minutes)"
         }
        },
        "yaxis": {
         "anchor": "x",
         "domain": [
          0.72,
          1
         ],
         "title": {
          "text": "Velocity (m/s)"
         }
        },
        "yaxis2": {
         "anchor": "x2",
         "domain": [
          0.36,
          0.6399999999999999
         ],
         "title": {
          "text": "Velocity (m/s)"
         }
        },
        "yaxis3": {
         "anchor": "x3",
         "domain": [
          0,
          0.27999999999999997
         ],
         "title": {
          "text": "Velocity (m/s)"
         }
        }
       }
      }
     },
     "metadata": {},
     "output_type": "display_data"
    }
   ],
   "source": [
    "# BOTTOM TRACK VELOCITY VISUALIZATION — compact\n",
    "if 'bottomtrack' in analyzer.available_sensors:\n",
    "    if BAG_SELECTION:\n",
    "        analyzer.plot_bottomtrack_velocity(BAG_SELECTION, interactive=(PLOT_STYLE == \"interactive\"))\n",
    "    else:\n",
    "        analyzer.plot_bottomtrack_velocity(None, interactive=(PLOT_STYLE == \"interactive\"))\n",
    "else:\n",
    "    print(\"No bottom track data available\")"
   ]
  },
  {
   "cell_type": "code",
   "execution_count": null,
   "id": "3b045a19",
   "metadata": {},
   "outputs": [
    {
     "data": {
      "application/vnd.plotly.v1+json": {
       "config": {
        "plotlyServerURL": "https://plot.ly"
       },
       "data": [
        {
         "line": {
          "color": "rgb(228,26,28)"
         },
         "marker": {
          "size": 3
         },
         "mode": "lines+markers",
         "name": "2024-08-22_14-47-39",
         "type": "scatter",
         "x": {
          "bdata": "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",
          "dtype": "f8"
         },
         "y": {
          "bdata": "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",
          "dtype": "f8"
         }
        },
        {
         "marker": {
          "color": "rgb(228,26,28)",
          "size": 10,
          "symbol": "square"
         },
         "mode": "markers",
         "name": "2024-08-22_14-47-39 Start",
         "showlegend": false,
         "type": "scatter",
         "x": [
          -0.9605532884597778
         ],
         "y": [
          1.9200801849365232
         ]
        },
        {
         "marker": {
          "color": "rgb(228,26,28)",
          "size": 10,
          "symbol": "diamond"
         },
         "mode": "markers",
         "name": "2024-08-22_14-47-39 End",
         "showlegend": false,
         "type": "scatter",
         "x": [
          2.073158025741577
         ],
         "y": [
          3.942232608795166
         ]
        }
       ],
       "layout": {
        "height": 600,
        "template": {
         "data": {
          "bar": [
           {
            "error_x": {
             "color": "#2a3f5f"
            },
            "error_y": {
             "color": "#2a3f5f"
            },
            "marker": {
             "line": {
              "color": "#E5ECF6",
              "width": 0.5
             },
             "pattern": {
              "fillmode": "overlay",
              "size": 10,
              "solidity": 0.2
             }
            },
            "type": "bar"
           }
          ],
          "barpolar": [
           {
            "marker": {
             "line": {
              "color": "#E5ECF6",
              "width": 0.5
             },
             "pattern": {
              "fillmode": "overlay",
              "size": 10,
              "solidity": 0.2
             }
            },
            "type": "barpolar"
           }
          ],
          "carpet": [
           {
            "aaxis": {
             "endlinecolor": "#2a3f5f",
             "gridcolor": "white",
             "linecolor": "white",
             "minorgridcolor": "white",
             "startlinecolor": "#2a3f5f"
            },
            "baxis": {
             "endlinecolor": "#2a3f5f",
             "gridcolor": "white",
             "linecolor": "white",
             "minorgridcolor": "white",
             "startlinecolor": "#2a3f5f"
            },
            "type": "carpet"
           }
          ],
          "choropleth": [
           {
            "colorbar": {
             "outlinewidth": 0,
             "ticks": ""
            },
            "type": "choropleth"
           }
          ],
          "contour": [
           {
            "colorbar": {
             "outlinewidth": 0,
             "ticks": ""
            },
            "colorscale": [
             [
              0,
              "#0d0887"
             ],
             [
              0.1111111111111111,
              "#46039f"
             ],
             [
              0.2222222222222222,
              "#7201a8"
             ],
             [
              0.3333333333333333,
              "#9c179e"
             ],
             [
              0.4444444444444444,
              "#bd3786"
             ],
             [
              0.5555555555555556,
              "#d8576b"
             ],
             [
              0.6666666666666666,
              "#ed7953"
             ],
             [
              0.7777777777777778,
              "#fb9f3a"
             ],
             [
              0.8888888888888888,
              "#fdca26"
             ],
             [
              1,
              "#f0f921"
             ]
            ],
            "type": "contour"
           }
          ],
          "contourcarpet": [
           {
            "colorbar": {
             "outlinewidth": 0,
             "ticks": ""
            },
            "type": "contourcarpet"
           }
          ],
          "heatmap": [
           {
            "colorbar": {
             "outlinewidth": 0,
             "ticks": ""
            },
            "colorscale": [
             [
              0,
              "#0d0887"
             ],
             [
              0.1111111111111111,
              "#46039f"
             ],
             [
              0.2222222222222222,
              "#7201a8"
             ],
             [
              0.3333333333333333,
              "#9c179e"
             ],
             [
              0.4444444444444444,
              "#bd3786"
             ],
             [
              0.5555555555555556,
              "#d8576b"
             ],
             [
              0.6666666666666666,
              "#ed7953"
             ],
             [
              0.7777777777777778,
              "#fb9f3a"
             ],
             [
              0.8888888888888888,
              "#fdca26"
             ],
             [
              1,
              "#f0f921"
             ]
            ],
            "type": "heatmap"
           }
          ],
          "histogram": [
           {
            "marker": {
             "pattern": {
              "fillmode": "overlay",
              "size": 10,
              "solidity": 0.2
             }
            },
            "type": "histogram"
           }
          ],
          "histogram2d": [
           {
            "colorbar": {
             "outlinewidth": 0,
             "ticks": ""
            },
            "colorscale": [
             [
              0,
              "#0d0887"
             ],
             [
              0.1111111111111111,
              "#46039f"
             ],
             [
              0.2222222222222222,
              "#7201a8"
             ],
             [
              0.3333333333333333,
              "#9c179e"
             ],
             [
              0.4444444444444444,
              "#bd3786"
             ],
             [
              0.5555555555555556,
              "#d8576b"
             ],
             [
              0.6666666666666666,
              "#ed7953"
             ],
             [
              0.7777777777777778,
              "#fb9f3a"
             ],
             [
              0.8888888888888888,
              "#fdca26"
             ],
             [
              1,
              "#f0f921"
             ]
            ],
            "type": "histogram2d"
           }
          ],
          "histogram2dcontour": [
           {
            "colorbar": {
             "outlinewidth": 0,
             "ticks": ""
            },
            "colorscale": [
             [
              0,
              "#0d0887"
             ],
             [
              0.1111111111111111,
              "#46039f"
             ],
             [
              0.2222222222222222,
              "#7201a8"
             ],
             [
              0.3333333333333333,
              "#9c179e"
             ],
             [
              0.4444444444444444,
              "#bd3786"
             ],
             [
              0.5555555555555556,
              "#d8576b"
             ],
             [
              0.6666666666666666,
              "#ed7953"
             ],
             [
              0.7777777777777778,
              "#fb9f3a"
             ],
             [
              0.8888888888888888,
              "#fdca26"
             ],
             [
              1,
              "#f0f921"
             ]
            ],
            "type": "histogram2dcontour"
           }
          ],
          "mesh3d": [
           {
            "colorbar": {
             "outlinewidth": 0,
             "ticks": ""
            },
            "type": "mesh3d"
           }
          ],
          "parcoords": [
           {
            "line": {
             "colorbar": {
              "outlinewidth": 0,
              "ticks": ""
             }
            },
            "type": "parcoords"
           }
          ],
          "pie": [
           {
            "automargin": true,
            "type": "pie"
           }
          ],
          "scatter": [
           {
            "fillpattern": {
             "fillmode": "overlay",
             "size": 10,
             "solidity": 0.2
            },
            "type": "scatter"
           }
          ],
          "scatter3d": [
           {
            "line": {
             "colorbar": {
              "outlinewidth": 0,
              "ticks": ""
             }
            },
            "marker": {
             "colorbar": {
              "outlinewidth": 0,
              "ticks": ""
             }
            },
            "type": "scatter3d"
           }
          ],
          "scattercarpet": [
           {
            "marker": {
             "colorbar": {
              "outlinewidth": 0,
              "ticks": ""
             }
            },
            "type": "scattercarpet"
           }
          ],
          "scattergeo": [
           {
            "marker": {
             "colorbar": {
              "outlinewidth": 0,
              "ticks": ""
             }
            },
            "type": "scattergeo"
           }
          ],
          "scattergl": [
           {
            "marker": {
             "colorbar": {
              "outlinewidth": 0,
              "ticks": ""
             }
            },
            "type": "scattergl"
           }
          ],
          "scattermap": [
           {
            "marker": {
             "colorbar": {
              "outlinewidth": 0,
              "ticks": ""
             }
            },
            "type": "scattermap"
           }
          ],
          "scattermapbox": [
           {
            "marker": {
             "colorbar": {
              "outlinewidth": 0,
              "ticks": ""
             }
            },
            "type": "scattermapbox"
           }
          ],
          "scatterpolar": [
           {
            "marker": {
             "colorbar": {
              "outlinewidth": 0,
              "ticks": ""
             }
            },
            "type": "scatterpolar"
           }
          ],
          "scatterpolargl": [
           {
            "marker": {
             "colorbar": {
              "outlinewidth": 0,
              "ticks": ""
             }
            },
            "type": "scatterpolargl"
           }
          ],
          "scatterternary": [
           {
            "marker": {
             "colorbar": {
              "outlinewidth": 0,
              "ticks": ""
             }
            },
            "type": "scatterternary"
           }
          ],
          "surface": [
           {
            "colorbar": {
             "outlinewidth": 0,
             "ticks": ""
            },
            "colorscale": [
             [
              0,
              "#0d0887"
             ],
             [
              0.1111111111111111,
              "#46039f"
             ],
             [
              0.2222222222222222,
              "#7201a8"
             ],
             [
              0.3333333333333333,
              "#9c179e"
             ],
             [
              0.4444444444444444,
              "#bd3786"
             ],
             [
              0.5555555555555556,
              "#d8576b"
             ],
             [
              0.6666666666666666,
              "#ed7953"
             ],
             [
              0.7777777777777778,
              "#fb9f3a"
             ],
             [
              0.8888888888888888,
              "#fdca26"
             ],
             [
              1,
              "#f0f921"
             ]
            ],
            "type": "surface"
           }
          ],
          "table": [
           {
            "cells": {
             "fill": {
              "color": "#EBF0F8"
             },
             "line": {
              "color": "white"
             }
            },
            "header": {
             "fill": {
              "color": "#C8D4E3"
             },
             "line": {
              "color": "white"
             }
            },
            "type": "table"
           }
          ]
         },
         "layout": {
          "annotationdefaults": {
           "arrowcolor": "#2a3f5f",
           "arrowhead": 0,
           "arrowwidth": 1
          },
          "autotypenumbers": "strict",
          "coloraxis": {
           "colorbar": {
            "outlinewidth": 0,
            "ticks": ""
           }
          },
          "colorscale": {
           "diverging": [
            [
             0,
             "#8e0152"
            ],
            [
             0.1,
             "#c51b7d"
            ],
            [
             0.2,
             "#de77ae"
            ],
            [
             0.3,
             "#f1b6da"
            ],
            [
             0.4,
             "#fde0ef"
            ],
            [
             0.5,
             "#f7f7f7"
            ],
            [
             0.6,
             "#e6f5d0"
            ],
            [
             0.7,
             "#b8e186"
            ],
            [
             0.8,
             "#7fbc41"
            ],
            [
             0.9,
             "#4d9221"
            ],
            [
             1,
             "#276419"
            ]
           ],
           "sequential": [
            [
             0,
             "#0d0887"
            ],
            [
             0.1111111111111111,
             "#46039f"
            ],
            [
             0.2222222222222222,
             "#7201a8"
            ],
            [
             0.3333333333333333,
             "#9c179e"
            ],
            [
             0.4444444444444444,
             "#bd3786"
            ],
            [
             0.5555555555555556,
             "#d8576b"
            ],
            [
             0.6666666666666666,
             "#ed7953"
            ],
            [
             0.7777777777777778,
             "#fb9f3a"
            ],
            [
             0.8888888888888888,
             "#fdca26"
            ],
            [
             1,
             "#f0f921"
            ]
           ],
           "sequentialminus": [
            [
             0,
             "#0d0887"
            ],
            [
             0.1111111111111111,
             "#46039f"
            ],
            [
             0.2222222222222222,
             "#7201a8"
            ],
            [
             0.3333333333333333,
             "#9c179e"
            ],
            [
             0.4444444444444444,
             "#bd3786"
            ],
            [
             0.5555555555555556,
             "#d8576b"
            ],
            [
             0.6666666666666666,
             "#ed7953"
            ],
            [
             0.7777777777777778,
             "#fb9f3a"
            ],
            [
             0.8888888888888888,
             "#fdca26"
            ],
            [
             1,
             "#f0f921"
            ]
           ]
          },
          "colorway": [
           "#636efa",
           "#EF553B",
           "#00cc96",
           "#ab63fa",
           "#FFA15A",
           "#19d3f3",
           "#FF6692",
           "#B6E880",
           "#FF97FF",
           "#FECB52"
          ],
          "font": {
           "color": "#2a3f5f"
          },
          "geo": {
           "bgcolor": "white",
           "lakecolor": "white",
           "landcolor": "#E5ECF6",
           "showlakes": true,
           "showland": true,
           "subunitcolor": "white"
          },
          "hoverlabel": {
           "align": "left"
          },
          "hovermode": "closest",
          "mapbox": {
           "style": "light"
          },
          "paper_bgcolor": "white",
          "plot_bgcolor": "#E5ECF6",
          "polar": {
           "angularaxis": {
            "gridcolor": "white",
            "linecolor": "white",
            "ticks": ""
           },
           "bgcolor": "#E5ECF6",
           "radialaxis": {
            "gridcolor": "white",
            "linecolor": "white",
            "ticks": ""
           }
          },
          "scene": {
           "xaxis": {
            "backgroundcolor": "#E5ECF6",
            "gridcolor": "white",
            "gridwidth": 2,
            "linecolor": "white",
            "showbackground": true,
            "ticks": "",
            "zerolinecolor": "white"
           },
           "yaxis": {
            "backgroundcolor": "#E5ECF6",
            "gridcolor": "white",
            "gridwidth": 2,
            "linecolor": "white",
            "showbackground": true,
            "ticks": "",
            "zerolinecolor": "white"
           },
           "zaxis": {
            "backgroundcolor": "#E5ECF6",
            "gridcolor": "white",
            "gridwidth": 2,
            "linecolor": "white",
            "showbackground": true,
            "ticks": "",
            "zerolinecolor": "white"
           }
          },
          "shapedefaults": {
           "line": {
            "color": "#2a3f5f"
           }
          },
          "ternary": {
           "aaxis": {
            "gridcolor": "white",
            "linecolor": "white",
            "ticks": ""
           },
           "baxis": {
            "gridcolor": "white",
            "linecolor": "white",
            "ticks": ""
           },
           "bgcolor": "#E5ECF6",
           "caxis": {
            "gridcolor": "white",
            "linecolor": "white",
            "ticks": ""
           }
          },
          "title": {
           "x": 0.05
          },
          "xaxis": {
           "automargin": true,
           "gridcolor": "white",
           "linecolor": "white",
           "ticks": "",
           "title": {
            "standoff": 15
           },
           "zerolinecolor": "white",
           "zerolinewidth": 2
          },
          "yaxis": {
           "automargin": true,
           "gridcolor": "white",
           "linecolor": "white",
           "ticks": "",
           "title": {
            "standoff": 15
           },
           "zerolinecolor": "white",
           "zerolinewidth": 2
          }
         }
        },
        "title": {
         "text": "Vehicle Trajectory - 2024-08-22_14-47-39"
        },
        "xaxis": {
         "title": {
          "text": "X Position (m)"
         }
        },
        "yaxis": {
         "scaleanchor": "x",
         "scaleratio": 1,
         "title": {
          "text": "Y Position (m)"
         }
        }
       }
      }
     },
     "metadata": {},
     "output_type": "display_data"
    }
   ],
   "source": [
    "# SPATIAL DATA VISUALIZATION - TRAJECTORIES — compact\n",
    "if 'ins' in analyzer.available_sensors:\n",
    "    if BAG_SELECTION:\n",
    "        analyzer.plot_trajectory_2d(BAG_SELECTION, interactive=(PLOT_STYLE == \"interactive\"))\n",
    "    else:\n",
    "        analyzer.plot_trajectory_2d(None, interactive=(PLOT_STYLE == \"interactive\"))\n",
    "else:\n",
    "    print(\"No INS data available for trajectory plotting\")"
   ]
  },
  {
   "cell_type": "code",
   "execution_count": null,
   "id": "9e5038c4",
   "metadata": {},
   "outputs": [
    {
     "data": {
      "application/vnd.plotly.v1+json": {
       "config": {
        "plotlyServerURL": "https://plot.ly"
       },
       "data": [
        {
         "line": {
          "color": "red"
         },
         "name": "pos_x",
         "type": "scatter",
         "x": {
          "bdata": "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",
          "dtype": "f8"
         },
         "xaxis": "x",
         "y": {
          "bdata": "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",
          "dtype": "f8"
         },
         "yaxis": "y"
        },
        {
         "line": {
          "color": "green"
         },
         "name": "pos_y",
         "type": "scatter",
         "x": {
          "bdata": "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",
          "dtype": "f8"
         },
         "xaxis": "x",
         "y": {
          "bdata": "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",
          "dtype": "f8"
         },
         "yaxis": "y"
        },
        {
         "line": {
          "color": "blue"
         },
         "name": "pos_z",
         "type": "scatter",
         "x": {
          "bdata": "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",
          "dtype": "f8"
         },
         "xaxis": "x",
         "y": {
          "bdata": "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",
          "dtype": "f8"
         },
         "yaxis": "y"
        },
        {
         "line": {
          "color": "red"
         },
         "name": "vel_N",
         "type": "scatter",
         "x": {
          "bdata": "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",
          "dtype": "f8"
         },
         "xaxis": "x2",
         "y": {
          "bdata": "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",
          "dtype": "f8"
         },
         "yaxis": "y2"
        },
        {
         "line": {
          "color": "green"
         },
         "name": "vel_E",
         "type": "scatter",
         "x": {
          "bdata": "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",
          "dtype": "f8"
         },
         "xaxis": "x2",
         "y": {
          "bdata": "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",
          "dtype": "f8"
         },
         "yaxis": "y2"
        },
        {
         "line": {
          "color": "blue"
         },
         "name": "vel_D",
         "type": "scatter",
         "x": {
          "bdata": "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",
          "dtype": "f8"
         },
         "xaxis": "x2",
         "y": {
          "bdata": "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",
          "dtype": "f8"
         },
         "yaxis": "y2"
        },
        {
         "line": {
          "color": "red"
         },
         "name": "qx",
         "type": "scatter",
         "x": {
          "bdata": "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",
          "dtype": "f8"
         },
         "xaxis": "x3",
         "y": {
          "bdata": "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",
          "dtype": "f8"
         },
         "yaxis": "y3"
        },
        {
         "line": {
          "color": "green"
         },
         "name": "qy",
         "type": "scatter",
         "x": {
          "bdata": "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",
          "dtype": "f8"
         },
         "xaxis": "x3",
         "y": {
          "bdata": "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",
          "dtype": "f8"
         },
         "yaxis": "y3"
        },
        {
         "line": {
          "color": "blue"
         },
         "name": "qz",
         "type": "scatter",
         "x": {
          "bdata": "AAAAAAAAAACCiIiISMZYP9zd3d0dxmg/AAAAAPCmcj8QERERkd92P93d3d3dI30/d3d3d6ctgj8zMzMzg9qFP4mIiIhoZYg/vLu7u4N5ij+JiIiIEBiNP8zMzMw0FJA/IiIiIr6ckT9VVVVVZeeSP0REREQQt5Q/ZmZmZl4/lj9lZmZmehOYP87MzMyUpJk/mpmZmfnzmj/v7u7uHvybP3l3d3cLi50/IyIiIspfnz93d3d3OZygP3d3d3cBRaE/Q0RERBTIoT9EREREVLOiP6uqqqpAZac/3t3d3cUtqD8RERER1faoP7y7u7s/eqk/AAAAAAIiqj+8u7u7W+iqP3d3d3ehrqs/iYiIiBKarD9mZmZmJIGtP5qZmZlDaq4/zczMzPg1rz/NzMzMTvqvP0REREQDILA/mpmZmbSDsD94d3d3DdewPzMzMzM6OrE/iYiIiCzAsT+8u7u7TSOyP0RERETCd7I/mpmZmYTKsj9EREREty2zPzMzMzP/krM/mpmZmbnksz+8u7u7ESa0PxERERFIirQ/iYiIiC4PtT8zMzMzDHW1P2ZmZmb6yLU/ERERERwstj/e3d3dnqC2P97d3d0XFLc/ZmZmZpyHtz9VVVVVtdu3PyIiIiIfHrg/d3d3d09xuD/NzMzMfOe4PzMzMzPfWbk/3t3d3UK9uT+amZmZv/+5P6uqqqquVLo/q6qqqn7Yuj+rqqqqtjy7P6uqqqrvoLs/MzMzM2Pjuz+amZmZVze8P7y7u7vyq7w/ZmZmZnQfvT8RERERBZS9P2ZmZmbNCb4/3t3d3ehtvj8iIiIiOdO+P97d3d0eWL8/q6qqqgisvz8zMzMz47XAP83MzMxI88E/iYiIiNkkwj/NzMzMtF/CP2ZmZmZuk8I/iYiICAazwj8AAAAAa9zCP97d3d0HDsM/zMzMTMRHwz9VVVXV2nnDPzMzM7Ofm8M/q6qqKpDFwz9VVVVV+ffDP1ZVVVVQCMQ/ioiIiAFTxD9mZmbmHYXEP3d3d3eynsQ/IyIiokHpxD+HiIiI0hrFP83MzExjTMU/d3d3d9uOxT+9u7s702bGP6qqqqpAkMY/vbu7O1XCxj8RERGR6/PGP4mIiIjsLsc/ISIiIqFYxz9nZmZmSnnHP0RERMQqosc/3t3dXQXUxz/e3d1dcQbIPzQzM7PQOMg/3t3d3edqyD+8u7s7563IP4mIiAgz6Mg/IiIiohERyT+9u7u70TLJPyIiIqIQXMk/7+7ubqGNyT/w7u5u5MfJP1VVVVUM8ck/IiIiIroRyj8RERGRrzvKP5qZmRmwbMo/RERERL6dyj+8u7s7DsfKP0RERES858o/iYiICJ0Qyz+JiIiILULLP93d3d24c8s/EBEREdWlyz9mZmbmhNjLP83MzEyCCcw/MjMzsxc7zD+JiIgIW3XMP3d3d3d7p8w/eXd3d/DIzD/e3d1d3PLMP2ZmZmb4JM0/EREREXJnzT8RERERaZDNP+/u7u6isc0/qqqqKkrkzT////9/nx7OPwAAAIBaWc4/8O7u7r+Czj/NzMxMvKPOP2ZmZuZzxM4/eXd39+r+zj/MzMxMYTjPP7y7uztucs8/d3d398Gszz9WVVVVUN7PP5qZmVkJDNA/vLu7u9Ek0D9VVVXV4D3QP2ZmZqaYTtA/ZmZm5pBj0D/e3d0dC5rQP1VVVRXRstA/vLu7+z3H0D8iIiLiTtjQP3d3d/cU7dA/ZmZmJnwK0T+JiIiIRCPRPxEREdHJO9E/AAAAAJRI0T9EREQED13RP7y7u/tXetE/REREBIyT0T/e3d2dVKzRP4mIiMhaxdE/MzMzcyXe0T+amZnZSfvRP97d3V0lGNI/mpmZGdsw0j9ERETE8UHSP7y7u7vsVtI/vLu7u2xv0j8zMzPz8YfSPwAAAACLnNI/3t3dHeKs0j+rqqoqVsHSP83MzAxx2tI/7+7uLk/30j/f3d2dj5XTP4mIiIgOptM/ERERkXy60z/NzMwMh9PTPzMzMzMM7NM/Q0RExOcI1D93d3f39SHUP4mIiIh4OtQ/h4iIyIZT1D/NzMyMUWzUP2ZmZqa/gNQ/mpmZ2baR1D+8u7u7iKbUP727u7tmw9Q/IiIionng1D/e3d2dLfXUP83MzEzJBdU/3t3d3Xsa1T9lZmYmlDPVP+/u7i5aTNU/q6qqamhl1T9nZmamXnbVP5qZmVmGydU/VVVVVQjr1T/d3d1dPCHWP7y7u3s2NtY/7+7urrdO1j9lZmYm2WvWPwAAAIBbhNY/mpmZmY+d1j+amZkZW7bWP5qZmRmvxtY/3t3d3UvX1j8AAAAAWvDWP0RERMT7CNc/7u7u7kMm1z8RERGR+jrXP+7u7m6OT9c/EBERkfVs1z9mZmZm84XXP1VVVVVkmtc/vLu7O7qq1z/e3d1d9b/XP5qZmdnY3Nc/IiIi4qH11z/NzMzM9Q7YPyIiIiKXWdg/AAAAwOhy2D+rqqqqQozYP3Z3dzdoqdg/AAAAwHTC2D9VVVXV+87YP2ZmZiaN49g/MzMzs50A2T8RERFRCxrZP5qZmZnWMtk/ERERUbpD2T/e3d3dxlzZP97d3Z0Ho9k/REREhAbm2T8iIiJi1P7ZPxERERG3D9o/ERERUX8o2j8AAADAtUHaPwAAAEC+Wto/RERERDRv2j8yMzNzr5DaP8zMzAwyqdo/REREBP3B2j9ERESEdtvaP4mIiAin9No/d3d3t4kF2z8RERHRKBbbP4mIiEiqLts/ZmZmJhVM2z+sqqrqN2nbP83MzEyReds/d3d3N4mO2z+amZkZ2bPbP1VVVZX60Ns/393dXfnp2z8QERHRQiTcP6uqqqr5ONw/MzMzc7RW3D9FRETEt3PcP7y7u3tqiNw/RERERL6h3D/NzMyMiLrcP+/u7i5gJ90/iYiIyMw73T8zMzPz2lTdP7y7u7t3Zd0/VFVVFXB63T+8u7t7OJPdP0RERMRGrN0/iYiISP3A3T+amZnZitHdPxERERGZ6t0/7+7ubmED3j/e3d3dbxzeP97d3R0iMd4/7+7u7r5B3j8SERGRcVbeP6uqqqo5eN4/AAAAQBeV3j/v7u6u9bHePzQzM/PNxt4/mpmZGdzf3j8iIiJiMvneP2VmZqYQFt8/iYiISDIz3z/v7u5uFETfP97d3V2CpN8/3t3dXb+83z93d3e3h9XfP+/u7u7e6t8/vLu7+5P/3z/v7u4u/wngP97d3T1uGOA/vLu7mxgl4D8AAAAgcy/gPwAAAGDCN+A/IiIiYktE4D+8u7tb31LgPwAAAKBNYeA/iIiIyM5v4D9mZmZGbnrgPwAAAEDohuA/q6qqyiqT4D8RERFRA6LgP4mIiAiMruA/zczMjM204D+7u7u7R8HgP97d3T3VzeA/AAAAYDfa4D+JiIioUwzhP0RERGSAFOE/IiIiAv0e4T8AAABAvC/hP2ZmZoZwYeE/zczM7O5r4T9ERETEYHThP5qZmRnHfuE/VVVVVU6L4T+rqqqqtZfhP+/u7k5MpOE/mpmZeeWw4T+JiIhoVr3hPwAAAGDwyeE/REREpFXW4T+rqqqK2uLhPzMzM1Mg6eE/REREhHfz4T8RERFx8gPiPyIiIoJ6EOI/3t3d3dMa4j9ERESE/iLiP+/u7u5hLeI/ZmZmpt054j8AAACgXkjiP+/u7g73UuI/VVVV9U9b4j+8u7tbomXiP7y7u5sqcuI/IiIiQtN+4j+rqqoqSYviPyIiIgLzl+I/MzMz87W/4j9EREQEPcziP6uqqoqi2OI/iYiISDPn4j/NzMyMge/iP97d3b05/uI/iYiIqNIK4z8iIiLiNhfjPxEREfGlJeM/ZmZm5hAw4z/NzMxsCkXjP1VVVbU8auM/iYiIyKt44z/NzMysOYPjP7y7uxuIi+M/REREhPSV4z/v7u4ueqLjP2ZmZiYMseM/d3d3F56/4z9mZmZGAszjP5qZmVmJ2OM/mpmZOTPl4z9VVVX1y/HjPzMzM/M9/uM/RERExJcE5D93d3eXHRHkP83MzMzIHeQ/IiIiAjwq5D8zMzOzxjbkP1VVVfUSP+Q/MzMzU2xJ5D+amZn5I1bkP5qZmbnTZuQ/AAAAgC5z5D/v7u7On3vkP0RERORkiOQ/VVVVFdSS5D+amZm5fp/kPxAREdEYrOQ/ZmZm5ui85D+JiIhIccnkPzMzMzP41eQ/VVVVNYrk5D8iIiJi7vDkPwAAAOA8+eQ/MzMzs84H5T8SERHRahblP3d3d9fZJOU/zczMzGsz5T93d3cXr0zlP2ZmZqYgV+U/",
          "dtype": "f8"
         },
         "xaxis": "x3",
         "y": {
          "bdata": "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",
          "dtype": "f8"
         },
         "yaxis": "y3"
        },
        {
         "line": {
          "color": "orange"
         },
         "name": "qw",
         "type": "scatter",
         "x": {
          "bdata": "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",
          "dtype": "f8"
         },
         "xaxis": "x3",
         "y": {
          "bdata": "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",
          "dtype": "f8"
         },
         "yaxis": "y3"
        }
       ],
       "layout": {
        "annotations": [
         {
          "font": {
           "size": 16
          },
          "showarrow": false,
          "text": "Position",
          "x": 0.5,
          "xanchor": "center",
          "xref": "paper",
          "y": 1,
          "yanchor": "bottom",
          "yref": "paper"
         },
         {
          "font": {
           "size": 16
          },
          "showarrow": false,
          "text": "Velocity",
          "x": 0.5,
          "xanchor": "center",
          "xref": "paper",
          "y": 0.6399999999999999,
          "yanchor": "bottom",
          "yref": "paper"
         },
         {
          "font": {
           "size": 16
          },
          "showarrow": false,
          "text": "Quaternion",
          "x": 0.5,
          "xanchor": "center",
          "xref": "paper",
          "y": 0.27999999999999997,
          "yanchor": "bottom",
          "yref": "paper"
         }
        ],
        "height": 700,
        "hovermode": "x unified",
        "template": {
         "data": {
          "bar": [
           {
            "error_x": {
             "color": "#2a3f5f"
            },
            "error_y": {
             "color": "#2a3f5f"
            },
            "marker": {
             "line": {
              "color": "#E5ECF6",
              "width": 0.5
             },
             "pattern": {
              "fillmode": "overlay",
              "size": 10,
              "solidity": 0.2
             }
            },
            "type": "bar"
           }
          ],
          "barpolar": [
           {
            "marker": {
             "line": {
              "color": "#E5ECF6",
              "width": 0.5
             },
             "pattern": {
              "fillmode": "overlay",
              "size": 10,
              "solidity": 0.2
             }
            },
            "type": "barpolar"
           }
          ],
          "carpet": [
           {
            "aaxis": {
             "endlinecolor": "#2a3f5f",
             "gridcolor": "white",
             "linecolor": "white",
             "minorgridcolor": "white",
             "startlinecolor": "#2a3f5f"
            },
            "baxis": {
             "endlinecolor": "#2a3f5f",
             "gridcolor": "white",
             "linecolor": "white",
             "minorgridcolor": "white",
             "startlinecolor": "#2a3f5f"
            },
            "type": "carpet"
           }
          ],
          "choropleth": [
           {
            "colorbar": {
             "outlinewidth": 0,
             "ticks": ""
            },
            "type": "choropleth"
           }
          ],
          "contour": [
           {
            "colorbar": {
             "outlinewidth": 0,
             "ticks": ""
            },
            "colorscale": [
             [
              0,
              "#0d0887"
             ],
             [
              0.1111111111111111,
              "#46039f"
             ],
             [
              0.2222222222222222,
              "#7201a8"
             ],
             [
              0.3333333333333333,
              "#9c179e"
             ],
             [
              0.4444444444444444,
              "#bd3786"
             ],
             [
              0.5555555555555556,
              "#d8576b"
             ],
             [
              0.6666666666666666,
              "#ed7953"
             ],
             [
              0.7777777777777778,
              "#fb9f3a"
             ],
             [
              0.8888888888888888,
              "#fdca26"
             ],
             [
              1,
              "#f0f921"
             ]
            ],
            "type": "contour"
           }
          ],
          "contourcarpet": [
           {
            "colorbar": {
             "outlinewidth": 0,
             "ticks": ""
            },
            "type": "contourcarpet"
           }
          ],
          "heatmap": [
           {
            "colorbar": {
             "outlinewidth": 0,
             "ticks": ""
            },
            "colorscale": [
             [
              0,
              "#0d0887"
             ],
             [
              0.1111111111111111,
              "#46039f"
             ],
             [
              0.2222222222222222,
              "#7201a8"
             ],
             [
              0.3333333333333333,
              "#9c179e"
             ],
             [
              0.4444444444444444,
              "#bd3786"
             ],
             [
              0.5555555555555556,
              "#d8576b"
             ],
             [
              0.6666666666666666,
              "#ed7953"
             ],
             [
              0.7777777777777778,
              "#fb9f3a"
             ],
             [
              0.8888888888888888,
              "#fdca26"
             ],
             [
              1,
              "#f0f921"
             ]
            ],
            "type": "heatmap"
           }
          ],
          "histogram": [
           {
            "marker": {
             "pattern": {
              "fillmode": "overlay",
              "size": 10,
              "solidity": 0.2
             }
            },
            "type": "histogram"
           }
          ],
          "histogram2d": [
           {
            "colorbar": {
             "outlinewidth": 0,
             "ticks": ""
            },
            "colorscale": [
             [
              0,
              "#0d0887"
             ],
             [
              0.1111111111111111,
              "#46039f"
             ],
             [
              0.2222222222222222,
              "#7201a8"
             ],
             [
              0.3333333333333333,
              "#9c179e"
             ],
             [
              0.4444444444444444,
              "#bd3786"
             ],
             [
              0.5555555555555556,
              "#d8576b"
             ],
             [
              0.6666666666666666,
              "#ed7953"
             ],
             [
              0.7777777777777778,
              "#fb9f3a"
             ],
             [
              0.8888888888888888,
              "#fdca26"
             ],
             [
              1,
              "#f0f921"
             ]
            ],
            "type": "histogram2d"
           }
          ],
          "histogram2dcontour": [
           {
            "colorbar": {
             "outlinewidth": 0,
             "ticks": ""
            },
            "colorscale": [
             [
              0,
              "#0d0887"
             ],
             [
              0.1111111111111111,
              "#46039f"
             ],
             [
              0.2222222222222222,
              "#7201a8"
             ],
             [
              0.3333333333333333,
              "#9c179e"
             ],
             [
              0.4444444444444444,
              "#bd3786"
             ],
             [
              0.5555555555555556,
              "#d8576b"
             ],
             [
              0.6666666666666666,
              "#ed7953"
             ],
             [
              0.7777777777777778,
              "#fb9f3a"
             ],
             [
              0.8888888888888888,
              "#fdca26"
             ],
             [
              1,
              "#f0f921"
             ]
            ],
            "type": "histogram2dcontour"
           }
          ],
          "mesh3d": [
           {
            "colorbar": {
             "outlinewidth": 0,
             "ticks": ""
            },
            "type": "mesh3d"
           }
          ],
          "parcoords": [
           {
            "line": {
             "colorbar": {
              "outlinewidth": 0,
              "ticks": ""
             }
            },
            "type": "parcoords"
           }
          ],
          "pie": [
           {
            "automargin": true,
            "type": "pie"
           }
          ],
          "scatter": [
           {
            "fillpattern": {
             "fillmode": "overlay",
             "size": 10,
             "solidity": 0.2
            },
            "type": "scatter"
           }
          ],
          "scatter3d": [
           {
            "line": {
             "colorbar": {
              "outlinewidth": 0,
              "ticks": ""
             }
            },
            "marker": {
             "colorbar": {
              "outlinewidth": 0,
              "ticks": ""
             }
            },
            "type": "scatter3d"
           }
          ],
          "scattercarpet": [
           {
            "marker": {
             "colorbar": {
              "outlinewidth": 0,
              "ticks": ""
             }
            },
            "type": "scattercarpet"
           }
          ],
          "scattergeo": [
           {
            "marker": {
             "colorbar": {
              "outlinewidth": 0,
              "ticks": ""
             }
            },
            "type": "scattergeo"
           }
          ],
          "scattergl": [
           {
            "marker": {
             "colorbar": {
              "outlinewidth": 0,
              "ticks": ""
             }
            },
            "type": "scattergl"
           }
          ],
          "scattermap": [
           {
            "marker": {
             "colorbar": {
              "outlinewidth": 0,
              "ticks": ""
             }
            },
            "type": "scattermap"
           }
          ],
          "scattermapbox": [
           {
            "marker": {
             "colorbar": {
              "outlinewidth": 0,
              "ticks": ""
             }
            },
            "type": "scattermapbox"
           }
          ],
          "scatterpolar": [
           {
            "marker": {
             "colorbar": {
              "outlinewidth": 0,
              "ticks": ""
             }
            },
            "type": "scatterpolar"
           }
          ],
          "scatterpolargl": [
           {
            "marker": {
             "colorbar": {
              "outlinewidth": 0,
              "ticks": ""
             }
            },
            "type": "scatterpolargl"
           }
          ],
          "scatterternary": [
           {
            "marker": {
             "colorbar": {
              "outlinewidth": 0,
              "ticks": ""
             }
            },
            "type": "scatterternary"
           }
          ],
          "surface": [
           {
            "colorbar": {
             "outlinewidth": 0,
             "ticks": ""
            },
            "colorscale": [
             [
              0,
              "#0d0887"
             ],
             [
              0.1111111111111111,
              "#46039f"
             ],
             [
              0.2222222222222222,
              "#7201a8"
             ],
             [
              0.3333333333333333,
              "#9c179e"
             ],
             [
              0.4444444444444444,
              "#bd3786"
             ],
             [
              0.5555555555555556,
              "#d8576b"
             ],
             [
              0.6666666666666666,
              "#ed7953"
             ],
             [
              0.7777777777777778,
              "#fb9f3a"
             ],
             [
              0.8888888888888888,
              "#fdca26"
             ],
             [
              1,
              "#f0f921"
             ]
            ],
            "type": "surface"
           }
          ],
          "table": [
           {
            "cells": {
             "fill": {
              "color": "#EBF0F8"
             },
             "line": {
              "color": "white"
             }
            },
            "header": {
             "fill": {
              "color": "#C8D4E3"
             },
             "line": {
              "color": "white"
             }
            },
            "type": "table"
           }
          ]
         },
         "layout": {
          "annotationdefaults": {
           "arrowcolor": "#2a3f5f",
           "arrowhead": 0,
           "arrowwidth": 1
          },
          "autotypenumbers": "strict",
          "coloraxis": {
           "colorbar": {
            "outlinewidth": 0,
            "ticks": ""
           }
          },
          "colorscale": {
           "diverging": [
            [
             0,
             "#8e0152"
            ],
            [
             0.1,
             "#c51b7d"
            ],
            [
             0.2,
             "#de77ae"
            ],
            [
             0.3,
             "#f1b6da"
            ],
            [
             0.4,
             "#fde0ef"
            ],
            [
             0.5,
             "#f7f7f7"
            ],
            [
             0.6,
             "#e6f5d0"
            ],
            [
             0.7,
             "#b8e186"
            ],
            [
             0.8,
             "#7fbc41"
            ],
            [
             0.9,
             "#4d9221"
            ],
            [
             1,
             "#276419"
            ]
           ],
           "sequential": [
            [
             0,
             "#0d0887"
            ],
            [
             0.1111111111111111,
             "#46039f"
            ],
            [
             0.2222222222222222,
             "#7201a8"
            ],
            [
             0.3333333333333333,
             "#9c179e"
            ],
            [
             0.4444444444444444,
             "#bd3786"
            ],
            [
             0.5555555555555556,
             "#d8576b"
            ],
            [
             0.6666666666666666,
             "#ed7953"
            ],
            [
             0.7777777777777778,
             "#fb9f3a"
            ],
            [
             0.8888888888888888,
             "#fdca26"
            ],
            [
             1,
             "#f0f921"
            ]
           ],
           "sequentialminus": [
            [
             0,
             "#0d0887"
            ],
            [
             0.1111111111111111,
             "#46039f"
            ],
            [
             0.2222222222222222,
             "#7201a8"
            ],
            [
             0.3333333333333333,
             "#9c179e"
            ],
            [
             0.4444444444444444,
             "#bd3786"
            ],
            [
             0.5555555555555556,
             "#d8576b"
            ],
            [
             0.6666666666666666,
             "#ed7953"
            ],
            [
             0.7777777777777778,
             "#fb9f3a"
            ],
            [
             0.8888888888888888,
             "#fdca26"
            ],
            [
             1,
             "#f0f921"
            ]
           ]
          },
          "colorway": [
           "#636efa",
           "#EF553B",
           "#00cc96",
           "#ab63fa",
           "#FFA15A",
           "#19d3f3",
           "#FF6692",
           "#B6E880",
           "#FF97FF",
           "#FECB52"
          ],
          "font": {
           "color": "#2a3f5f"
          },
          "geo": {
           "bgcolor": "white",
           "lakecolor": "white",
           "landcolor": "#E5ECF6",
           "showlakes": true,
           "showland": true,
           "subunitcolor": "white"
          },
          "hoverlabel": {
           "align": "left"
          },
          "hovermode": "closest",
          "mapbox": {
           "style": "light"
          },
          "paper_bgcolor": "white",
          "plot_bgcolor": "#E5ECF6",
          "polar": {
           "angularaxis": {
            "gridcolor": "white",
            "linecolor": "white",
            "ticks": ""
           },
           "bgcolor": "#E5ECF6",
           "radialaxis": {
            "gridcolor": "white",
            "linecolor": "white",
            "ticks": ""
           }
          },
          "scene": {
           "xaxis": {
            "backgroundcolor": "#E5ECF6",
            "gridcolor": "white",
            "gridwidth": 2,
            "linecolor": "white",
            "showbackground": true,
            "ticks": "",
            "zerolinecolor": "white"
           },
           "yaxis": {
            "backgroundcolor": "#E5ECF6",
            "gridcolor": "white",
            "gridwidth": 2,
            "linecolor": "white",
            "showbackground": true,
            "ticks": "",
            "zerolinecolor": "white"
           },
           "zaxis": {
            "backgroundcolor": "#E5ECF6",
            "gridcolor": "white",
            "gridwidth": 2,
            "linecolor": "white",
            "showbackground": true,
            "ticks": "",
            "zerolinecolor": "white"
           }
          },
          "shapedefaults": {
           "line": {
            "color": "#2a3f5f"
           }
          },
          "ternary": {
           "aaxis": {
            "gridcolor": "white",
            "linecolor": "white",
            "ticks": ""
           },
           "baxis": {
            "gridcolor": "white",
            "linecolor": "white",
            "ticks": ""
           },
           "bgcolor": "#E5ECF6",
           "caxis": {
            "gridcolor": "white",
            "linecolor": "white",
            "ticks": ""
           }
          },
          "title": {
           "x": 0.05
          },
          "xaxis": {
           "automargin": true,
           "gridcolor": "white",
           "linecolor": "white",
           "ticks": "",
           "title": {
            "standoff": 15
           },
           "zerolinecolor": "white",
           "zerolinewidth": 2
          },
          "yaxis": {
           "automargin": true,
           "gridcolor": "white",
           "linecolor": "white",
           "ticks": "",
           "title": {
            "standoff": 15
           },
           "zerolinecolor": "white",
           "zerolinewidth": 2
          }
         }
        },
        "title": {
         "text": "INS Data - 2024-08-22_14-47-39"
        },
        "xaxis": {
         "anchor": "y",
         "domain": [
          0,
          1
         ],
         "matches": "x3",
         "showticklabels": false
        },
        "xaxis2": {
         "anchor": "y2",
         "domain": [
          0,
          1
         ],
         "matches": "x3",
         "showticklabels": false
        },
        "xaxis3": {
         "anchor": "y3",
         "domain": [
          0,
          1
         ],
         "title": {
          "text": "Time (minutes)"
         }
        },
        "yaxis": {
         "anchor": "x",
         "domain": [
          0.72,
          1
         ]
        },
        "yaxis2": {
         "anchor": "x2",
         "domain": [
          0.36,
          0.6399999999999999
         ]
        },
        "yaxis3": {
         "anchor": "x3",
         "domain": [
          0,
          0.27999999999999997
         ]
        }
       }
      }
     },
     "metadata": {},
     "output_type": "display_data"
    }
   ],
   "source": [
    "# INS DATA VISUALIZATION — compact\n",
    "if 'ins' in analyzer.available_sensors:\n",
    "    ins_variables = ['position', 'velocity', 'quaternion']\n",
    "    if BAG_SELECTION:\n",
    "        analyzer.plot_ins_data(BAG_SELECTION, variables=ins_variables, interactive=(PLOT_STYLE == \"interactive\"))\n",
    "    else:\n",
    "        first_bag = analyzer.available_bags[0] if analyzer.available_bags else None\n",
    "        if first_bag:\n",
    "            analyzer.plot_ins_data(first_bag, variables=ins_variables, interactive=(PLOT_STYLE == \"interactive\"))\n",
    "else:\n",
    "    print(\"No INS data available\")"
   ]
  },
  {
   "cell_type": "code",
   "execution_count": null,
   "id": "d5373ccd",
   "metadata": {},
   "outputs": [
    {
     "name": "stdout",
     "output_type": "stream",
     "text": [
      "📊 Comparing bottomtrack across 61 bags\n",
      "❌ Bag '/Volumes/LaCie/SOLAQUA/exports/outputs' not available\n",
      "   Available bags: 2024-08-20_13-39-34, 2024-08-20_13-40-35, 2024-08-20_13-42-51, 2024-08-20_13-55-34, 2024-08-20_13-57-42, 2024-08-20_14-16-05, 2024-08-20_14-22-12, 2024-08-20_14-24-35, 2024-08-20_14-31-29, 2024-08-20_14-34-07, 2024-08-20_14-36-22, 2024-08-20_14-38-37, 2024-08-20_14-49-47, 2024-08-20_14-54-52, 2024-08-20_14-57-38, 2024-08-20_15-00-24, 2024-08-20_15-05-53, 2024-08-20_15-09-34, 2024-08-20_15-12-51, 2024-08-20_15-14-40, 2024-08-20_15-18-27, 2024-08-20_15-20-29, 2024-08-20_16-34-34, 2024-08-20_16-37-15, 2024-08-20_16-39-23, 2024-08-20_16-43-25, 2024-08-20_16-45-21, 2024-08-20_16-47-54, 2024-08-20_16-51-57, 2024-08-20_16-54-36, 2024-08-20_16-57-46, 2024-08-20_17-02-00, 2024-08-20_17-04-52, 2024-08-20_17-08-14, 2024-08-20_17-11-14, 2024-08-20_17-14-36, 2024-08-20_17-22-40, 2024-08-20_17-31-58, 2024-08-20_17-34-52, 2024-08-20_17-37-08, 2024-08-20_17-39-32, 2024-08-20_17-40-54, 2024-08-20_17-47-49, 2024-08-20_17-50-22, 2024-08-20_17-53-06, 2024-08-20_17-55-40, 2024-08-20_17-57-55, 2024-08-20_18-01-46, 2024-08-20_18-05-42, 2024-08-20_18-07-47, 2024-08-20_18-09-52, 2024-08-20_18-12-20, 2024-08-20_18-38-53, 2024-08-20_18-41-02, 2024-08-20_18-47-40, 2024-08-20_18-50-22, 2024-08-20_18-52-15, 2024-08-20_18-53-59, 2024-08-22_14-06-43, 2024-08-22_14-29-05, 2024-08-22_14-47-39\n"
     ]
    }
   ],
   "source": [
    "# MULTI-FILE COMPARISON ANALYSIS — compact\n",
    "if len(analyzer.available_bags) > 1:\n",
    "    analyzer.compare_bottomtrack_across_bags(output_folder=OUTPUT_FOLDER, export_plots=EXPORT_PLOTS)\n",
    "else:\n",
    "    print(\"Only one bag available - skipping comparison analysis\")"
   ]
  },
  {
   "cell_type": "code",
   "execution_count": null,
   "id": "73a7308f",
   "metadata": {},
   "outputs": [
    {
     "name": "stdout",
     "output_type": "stream",
     "text": [
      "Generated summary for 17 datasets\n"
     ]
    },
    {
     "data": {
      "text/html": [
       "<div>\n",
       "<style scoped>\n",
       "    .dataframe tbody tr th:only-of-type {\n",
       "        vertical-align: middle;\n",
       "    }\n",
       "\n",
       "    .dataframe tbody tr th {\n",
       "        vertical-align: top;\n",
       "    }\n",
       "\n",
       "    .dataframe thead th {\n",
       "        text-align: right;\n",
       "    }\n",
       "</style>\n",
       "<table border=\"1\" class=\"dataframe\">\n",
       "  <thead>\n",
       "    <tr style=\"text-align: right;\">\n",
       "      <th></th>\n",
       "      <th>sensor</th>\n",
       "      <th>bag</th>\n",
       "      <th>samples</th>\n",
       "      <th>duration_min</th>\n",
       "      <th>sample_rate_hz</th>\n",
       "      <th>mean_speed</th>\n",
       "      <th>std_speed</th>\n",
       "      <th>valid_percent</th>\n",
       "    </tr>\n",
       "  </thead>\n",
       "  <tbody>\n",
       "    <tr>\n",
       "      <th>0</th>\n",
       "      <td>altimeter</td>\n",
       "      <td>2024-08-22_14-06-43</td>\n",
       "      <td>17</td>\n",
       "      <td>0.564162</td>\n",
       "      <td>0.502220</td>\n",
       "      <td>NaN</td>\n",
       "      <td>NaN</td>\n",
       "      <td>NaN</td>\n",
       "    </tr>\n",
       "    <tr>\n",
       "      <th>1</th>\n",
       "      <td>altimeter</td>\n",
       "      <td>2024-08-22_14-29-05</td>\n",
       "      <td>31</td>\n",
       "      <td>1.002527</td>\n",
       "      <td>0.515364</td>\n",
       "      <td>NaN</td>\n",
       "      <td>NaN</td>\n",
       "      <td>NaN</td>\n",
       "    </tr>\n",
       "    <tr>\n",
       "      <th>2</th>\n",
       "      <td>altimeter</td>\n",
       "      <td>2024-08-22_14-47-39</td>\n",
       "      <td>20</td>\n",
       "      <td>0.666027</td>\n",
       "      <td>0.500480</td>\n",
       "      <td>NaN</td>\n",
       "      <td>NaN</td>\n",
       "      <td>NaN</td>\n",
       "    </tr>\n",
       "    <tr>\n",
       "      <th>3</th>\n",
       "      <td>bottomtrack</td>\n",
       "      <td>2024-08-22_14-06-43</td>\n",
       "      <td>52</td>\n",
       "      <td>0.583144</td>\n",
       "      <td>1.486196</td>\n",
       "      <td>0.168106</td>\n",
       "      <td>0.064454</td>\n",
       "      <td>90.384615</td>\n",
       "    </tr>\n",
       "    <tr>\n",
       "      <th>4</th>\n",
       "      <td>bottomtrack</td>\n",
       "      <td>2024-08-22_14-29-05</td>\n",
       "      <td>81</td>\n",
       "      <td>0.955224</td>\n",
       "      <td>1.413281</td>\n",
       "      <td>0.103959</td>\n",
       "      <td>0.023894</td>\n",
       "      <td>98.765432</td>\n",
       "    </tr>\n",
       "    <tr>\n",
       "      <th>5</th>\n",
       "      <td>bottomtrack</td>\n",
       "      <td>2024-08-22_14-47-39</td>\n",
       "      <td>62</td>\n",
       "      <td>0.666893</td>\n",
       "      <td>1.549473</td>\n",
       "      <td>0.118712</td>\n",
       "      <td>0.054261</td>\n",
       "      <td>74.193548</td>\n",
       "    </tr>\n",
       "    <tr>\n",
       "      <th>6</th>\n",
       "      <td>imu</td>\n",
       "      <td>2024-08-22_14-06-43</td>\n",
       "      <td>3580</td>\n",
       "      <td>0.624660</td>\n",
       "      <td>95.518665</td>\n",
       "      <td>NaN</td>\n",
       "      <td>NaN</td>\n",
       "      <td>NaN</td>\n",
       "    </tr>\n",
       "    <tr>\n",
       "      <th>7</th>\n",
       "      <td>imu</td>\n",
       "      <td>2024-08-22_14-29-05</td>\n",
       "      <td>6034</td>\n",
       "      <td>1.047727</td>\n",
       "      <td>95.985590</td>\n",
       "      <td>NaN</td>\n",
       "      <td>NaN</td>\n",
       "      <td>NaN</td>\n",
       "    </tr>\n",
       "    <tr>\n",
       "      <th>8</th>\n",
       "      <td>imu</td>\n",
       "      <td>2024-08-22_14-47-39</td>\n",
       "      <td>4400</td>\n",
       "      <td>0.746314</td>\n",
       "      <td>98.260668</td>\n",
       "      <td>NaN</td>\n",
       "      <td>NaN</td>\n",
       "      <td>NaN</td>\n",
       "    </tr>\n",
       "    <tr>\n",
       "      <th>9</th>\n",
       "      <td>ins</td>\n",
       "      <td>2024-08-22_14-06-43</td>\n",
       "      <td>366</td>\n",
       "      <td>0.637416</td>\n",
       "      <td>9.569885</td>\n",
       "      <td>NaN</td>\n",
       "      <td>NaN</td>\n",
       "      <td>NaN</td>\n",
       "    </tr>\n",
       "  </tbody>\n",
       "</table>\n",
       "</div>"
      ],
      "text/plain": [
       "        sensor                  bag  samples  duration_min  sample_rate_hz  \\\n",
       "0    altimeter  2024-08-22_14-06-43       17      0.564162        0.502220   \n",
       "1    altimeter  2024-08-22_14-29-05       31      1.002527        0.515364   \n",
       "2    altimeter  2024-08-22_14-47-39       20      0.666027        0.500480   \n",
       "3  bottomtrack  2024-08-22_14-06-43       52      0.583144        1.486196   \n",
       "4  bottomtrack  2024-08-22_14-29-05       81      0.955224        1.413281   \n",
       "5  bottomtrack  2024-08-22_14-47-39       62      0.666893        1.549473   \n",
       "6          imu  2024-08-22_14-06-43     3580      0.624660       95.518665   \n",
       "7          imu  2024-08-22_14-29-05     6034      1.047727       95.985590   \n",
       "8          imu  2024-08-22_14-47-39     4400      0.746314       98.260668   \n",
       "9          ins  2024-08-22_14-06-43      366      0.637416        9.569885   \n",
       "\n",
       "   mean_speed  std_speed  valid_percent  \n",
       "0         NaN        NaN            NaN  \n",
       "1         NaN        NaN            NaN  \n",
       "2         NaN        NaN            NaN  \n",
       "3    0.168106   0.064454      90.384615  \n",
       "4    0.103959   0.023894      98.765432  \n",
       "5    0.118712   0.054261      74.193548  \n",
       "6         NaN        NaN            NaN  \n",
       "7         NaN        NaN            NaN  \n",
       "8         NaN        NaN            NaN  \n",
       "9         NaN        NaN            NaN  "
      ]
     },
     "metadata": {},
     "output_type": "display_data"
    }
   ],
   "source": [
    "# STATISTICAL SUMMARY AND METRICS — compact\n",
    "summary_df = analyzer.compute_summary_stats(export_summary=EXPORT_SUMMARY, output_folder=OUTPUT_FOLDER)\n",
    "if not summary_df.empty:\n",
    "    print(f\"Generated summary for {len(summary_df)} datasets\")\n",
    "    display(summary_df.head(10))\n",
    "else:\n",
    "    print(\"No summary statistics generated\")"
   ]
  },
  {
   "cell_type": "code",
   "execution_count": null,
   "id": "c83b17cd",
   "metadata": {},
   "outputs": [
    {
     "name": "stdout",
     "output_type": "stream",
     "text": [
      "🔍 Found Navigation/Guidance data:\n",
      "   📅 Bags: 61\n",
      "   📊 Sensors: 3\n",
      "   Sensors: guidance, navigation_plane_approximation, navigation_plane_approximation_position\n",
      "📁 Running navigation/guidance analysis for bag: 2024-08-22_14-47-39\n",
      "📁 Loaded guidance__2024-08-22_14-47-39_data.csv: 364 rows, 30 columns\n",
      "🎯 Analyzing guidance errors for bag: 2024-08-22_14-47-39\n"
     ]
    },
    {
     "data": {
      "application/vnd.plotly.v1+json": {
       "config": {
        "plotlyServerURL": "https://plot.ly"
       },
       "data": [
        {
         "line": {
          "color": "rgb(228,26,28)"
         },
         "name": "x",
         "type": "scatter",
         "x": {
          "bdata": "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",
          "dtype": "f8"
         },
         "xaxis": "x",
         "y": {
          "bdata": "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",
          "dtype": "f8"
         },
         "yaxis": "y"
        },
        {
         "line": {
          "color": "rgb(55,126,184)"
         },
         "name": "y",
         "type": "scatter",
         "x": {
          "bdata": "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",
          "dtype": "f8"
         },
         "xaxis": "x",
         "y": {
          "bdata": "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",
          "dtype": "f8"
         },
         "yaxis": "y"
        },
        {
         "line": {
          "color": "rgb(77,175,74)"
         },
         "name": "z",
         "type": "scatter",
         "x": {
          "bdata": "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",
          "dtype": "f8"
         },
         "xaxis": "x",
         "y": {
          "bdata": "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",
          "dtype": "f8"
         },
         "yaxis": "y"
        },
        {
         "line": {
          "color": "blue"
         },
         "name": "Desired Surge",
         "type": "scatter",
         "x": {
          "bdata": "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",
          "dtype": "f8"
         },
         "xaxis": "x2",
         "y": {
          "bdata": "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",
          "dtype": "f8"
         },
         "yaxis": "y2"
        },
        {
         "line": {
          "color": "red"
         },
         "name": "Error Surge",
         "type": "scatter",
         "x": {
          "bdata": "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",
          "dtype": "f8"
         },
         "xaxis": "x2",
         "y": {
          "bdata": "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",
          "dtype": "f8"
         },
         "yaxis": "y2"
        },
        {
         "line": {
          "color": "green"
         },
         "name": "Yaw Error",
         "type": "scatter",
         "x": {
          "bdata": "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",
          "dtype": "f8"
         },
         "xaxis": "x3",
         "y": {
          "bdata": "s+jU2Q0PdUBRTMsr90RsQB2bLKKsUWVAd+S7yfp2dUAolsGtgq1sQAAAAAAAAACA9ofr7qLkW0DdFYupHoBkQEr0DxQWc3RAoG3vnsUSW0AGnNwuPhZ3QJfV8rq1RWNACFmoc5p6dkB4H1yzAG9ZQCj/V2B3IG9AhrSn6A10YkAf2ICJGwBpQB/YgIkbAGlApuvEFxmdWECGtKfoDXRiQCVMkA7DLmhAJUyQDsMuaEDwpAlaLstXQBOqXV0wznFAUHeYR45+bUBGmyOGEz90QHQn0JZA+VZAj1H+fuyLZkA7ukEMgDlhQIA0exXCMXFAKJbBrYKtbEAtcxjOTydWQI9R/n7si2ZALTX8aG3JcECXgFZ+ChZtQGu8w9FdXWdA8KQJWi7LV0DII3EHDppxQO+GFQ8Wp3RAl4BWfgoWbUBQd5hHjn5tQFB3mEeOfm1Aa7zD0V1dZ0BGmyOGEz90QGu8w9FdXWdAa7zD0V1dZ0BQd5hHjn5tQGu8w9FdXWdAUHeYR45+bUBGmyOGEz90QC0W8OSElaHAAZvoPRPbdEARB42ameV3QJeAVn4KFm1AsgRJUc25ekDvhhUPFqd0QE3kNg+g3YJAAZvoPRPbdEBMneVb1b59QBOqXV0wznFAJUyQDsMuaEDwpAlaLstXQCVMkA7DLmhA2VE65IOeSMAlTJAOwy5oQIa0p+gNdGJAqCKe4opPbkBQd5hHjn5tQNG3jqkFQ3VAveoefA7nbUAlTJAOwy5oQJjEIE42C2JAJUyQDsMuaECm68QXGZ1YQN1mykEDuG5AqCKe4opPbkC96h58DudtQHfku8n6dnVAhq3HznCXaECGtKfoDXRiQKbrxBcZnVhAhrSn6A10YkAf2ICJGwBpQJjEIE42C2JAk/ZlwSQXrMDdZspBA7huQH8bUULOBnNA1VzxF/EifED2jniDqFR7QLGkXbzLCYVAh2Ck0xJiikDwKVgXVBiKQDaHjbKE6YtAc9qz74BJikAOvduf0EKIQNFx6hCwrYdAOlzrGWAQg0DfmL3naBl4QMmfqkgOC3RAAAAAAAAAAIAAAAAAAAAAgHQn0JZA+VbA8KQJWi7LV8A7ukEMgDlhwCiWwa2CrWzAYSIgq6b0ZsB/xv5ZXKJhwKwf6fIRxmfAveoefA7nbcAlTJAOwy5owIatx85wl2jAmMQgTjYLYsAxuu0M49xiwKbrxBcZnVjAAAAAAAAAAIB4H1yzAG9ZwNlROuSDnkjAeB9cswBvWcAxuu0M49xiwNlROuSDnkhA2VE65IOeSEDZUTrkg55IwAAAAAAAAACApuvEFxmdWMCm68QXGZ1YwCj/V2B3IG/Ahq3HznCXaMDdZspBA7huwHgfXLMAb1nAMbrtDOPcYsAxuu0M49xiwJfV8rq1RWPAH9iAiRsAacAf2ICJGwBpwJfV8rq1RWPAhq3HznCXaMAo/1dgdyBvwCVMkA7DLmjA2VE65IOeSMDZUTrkg55IwNlROuSDnkjAAAAAAAAAAIDZUTrkg55IwAAAAAAAAACApuvEFxmdWMAAAAAAAAAAgMKXcGl3U5bAQ3UOydFzlsDVbFQgCjOWwBB6ZMj2LJXApuvEFxmdWMCm68QXGZ1YQEKAmUNk73tAxkxW+yvggEDgSVKEOGmGQNQ3nHtuXINAykSHq995gED7kElcR2CAQDqKo7YA8XxAE/L6YiTreUDII3EHDppxQLItRELCCpLAkgmKmLQpk8BhIiCrpvRmQEAVRaJ/t5LA7hQhpo8AlMDyjPG1VVyRwJ5NtfXsEpPA9tx2AsS0eECTLWe7DVl+QPVCxZA+goZA8ClYF1QYikBz2rPvgEmKQLkGt/KFrmPAP8lRebWrikBpgIDru22NQFUQFopukYLALB6y8hhXi8DUN5x7blyDQFr7llhDEoJAFea37xrnicDGTFb7K+CAQADP8mG1wYNAxkxW+yvggEB+/Cv307t7QEgX5oDN+IFAky1nuw1ZfkC6n3VjJdGLwCY73tiOxY/A0V9jz5j9cEBp1NriX+J2QGnU2uJf4nZA74YVDxandEAdP7Hv8X13QB0/se/xfXdAdWBMY+OFjcC5PhSMXqyBQLPo1NkND3VAuYkhnFZGgcBIF+aAzfiBQMkXyhI1TXhAMFFzNChFgkB6qbgyzyyBQMZMVvsr4IBAK5dajEUTgUBnHDGcXhKQwBcOYem50nJAoDfK6MJoaUCGrcfOcJdoQIXy1TajnnJAH9iAiRsAaUB35LvJ+nZ1QNG3jqkFQ3VA3WbKQQO4bkAxuu0M49xiQDG67Qzj3GJAeB9cswBvWUC85U8wnUJKQEald1CzRnZAI6hJCWfRaUBGpXdQs0Z2QB2yAK5+rnZAFkFTAd4scEBp1NriX+J2QDOIg/PkQFpAM4iD8+RAWkCqKf/qBzpqQMlLUxulompAXvz5qD+VcEC5Brfyha5jQAe68JQG13NAyUtTG6WiakAGnNwuPhZ3QJfV8rq1RWNAFkFTAd4scEAziIPz5EBaQCCeJMLc3nVAKP9XYHcgb0CX1fK6tUVjQIa0p+gNdGJAAAAAAAAAAIAAAAAAAAAAgDG67Qzj3GJAMbrtDOPcYkAAAAAAAAAAgNlROuSDnkhA2VE65IOeSMAAAAAAAAAAgAAAAAAAAACA2VE65IOeSEDZUTrkg55IwKbrxBcZnVhAMbrtDOPcYkCm68QXGZ1YQHgfXLMAb1lAMbrtDOPcYkAo/1dgdyBvQDG67Qzj3GJAAAAAAAAAAIDZUTrkg55IQKbrxBcZnVhApuvEFxmdWECsH+nyEcZnQKbrxBcZnVhAdCfQlkD5VkBIY0yvZ/pGQHQn0JZA+VZAdCfQlkD5VkB0J9CWQPlWwEhjTK9n+kbAdCfQlkD5VsAAAAAAAAAAgEhjTK9n+kbAO7pBDIA5YcAAAAAAAAAAgHQn0JZA+VbASGNMr2f6RkAAAAAAAAAAgAAAAAAAAACA2VE65IOeSMDZUTrkg55IQNlROuSDnkhA2VE65IOeSEC96h58DudtQNlROuSDnkhAf8b+WVyiYUCGtKfoDXRiQJjEIE42C2JA2VE65IOeSMCsH+nyEcZnQFGAHW1u1JZA2yYqrLbqlEAW6XFq82OVQO4UIaaPAJRAfm/OOvhYlUAW6XFq82OVQEydfz4ZZ5JAsYo6VHy2XEBIPG60iRKWwLGKOlR8tlzAHZssoqxRZcDgnzFsb7plwJeAVn4KFm3AT74JX/bxlcBcQ78hAxeUwBtt8p/wrZHAeaf1QkA5kcD8/6q5Q6yQwC1oFB8AinzA5g1QTvyic8AziIPz5EBawAAAAAAAAACAvOVPMJ1CSkC5Brfyha5jQLkGt/KFrmNAvOVPMJ1CSkC85U8wnUJKQHgfXLMAb1lAAAAAAAAAAIAxuu0M49xiwAAAAAAAAACA2VE65IOeSMCm68QXGZ1YQKbrxBcZnVhA2VE65IOeSEDZUTrkg55IQNlROuSDnkhA2VE65IOeSEB/xv5ZXKJhQJjEIE42C2JA8KQJWi7LV0CsH+nyEcZnQL3qHnwO521Af8b+WVyiYUCsH+nyEcZnQKwf6fIRxmdA8KQJWi7LV0DZUTrkg55IQPCkCVouy1dA8KQJWi7LV0AAAAAAAAAAgAAAAAAAAACA8KQJWi7LV8BrvMPRXV1nQDu6QQyAOWFAYSIgq6b0ZkB0J9CWQPlWQHBI0VcIQqRAAAAAAAAAAIAAAAAAAAAAgHQn0JZA+VbAUUzLK/dEbMB0J9CWQPlWQANYNZ6h0GDAKJbBrYKtbMCPUf5+7ItmwHQn0JZA+VbAf8b+WVyiYcA7ukEMgDlhwKwf6fIRxmfAdCfQlkD5VsCsH+nyEcZnwAAAAAAAAACApuvEFxmdWMA=",
          "dtype": "f8"
         },
         "yaxis": "y3"
        },
        {
         "line": {
          "color": "purple"
         },
         "name": "Net Distance Error",
         "type": "scatter",
         "x": {
          "bdata": "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",
          "dtype": "f8"
         },
         "xaxis": "x4",
         "y": {
          "bdata": "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",
          "dtype": "f8"
         },
         "yaxis": "y4"
        },
        {
         "line": {
          "color": "rgb(102,194,165)"
         },
         "name": "surge",
         "type": "scatter",
         "x": {
          "bdata": "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",
          "dtype": "f8"
         },
         "xaxis": "x5",
         "y": {
          "bdata": "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",
          "dtype": "f8"
         },
         "yaxis": "y5"
        },
        {
         "line": {
          "color": "rgb(252,141,98)"
         },
         "name": "sway",
         "type": "scatter",
         "x": {
          "bdata": "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",
          "dtype": "f8"
         },
         "xaxis": "x5",
         "y": {
          "bdata": "9f///8wInb8AAAAAdmGUvwAAAAAIEoe/1P///94dir/6////IIGOv7L////DK32/1f///6rAgL+f////f21NP9X///95BHY/2P///0JOhT/r//9/BPybP+T///9dc4k//////+6jgD+i////jXB6P7X///9fIkE/G////7cNWb+V////z2Jyv5X////XxGO/2v///9FpeD+m////bzh7PwAAAAAAHQ6/z////8NXf7/r////5/x6v+f///86YpC/4////4H0er/2////rDSCv+D///+wKIq/yf///xGkjb/2////1bqXv+z//38tTpK/7v////GOd7+U/v//j1ZSv/z///+XZlY/9f//f7QOnz/z//9/Xv2YP/r///9hvZM/+v///8/cgD/J////o7B/P6T///9FznU/3f///1H5dL/I////s/R8v9P///9P+mS//v///71Pcz/1////ixyEv6X+//83fls/yP///1W1jD+j/P//f1c3P3v6//8fzD8/mv///50FdD/J////n+eFP/r//x9mQKW/9/////74iD+p////oVR1P+v//3+OOpE/3P///3kjdj/a////P02BP+///387FZA/wv///yGxcj/+//9/G8+dP/r////bp5Q/9f////USmT/6////YXmUP+3//3862Zw//f//v1ONoj/z//+/9N6hP/z//z/dW6E/9f//P81Upj/m//9/BRGcP/b//38z0p4/3////xGJgT84/v//Pw87P9L////RsoO//v///703ib/6//9/PQyRv+b///8pxoe/2f////kLjb8AAAAARTGNv9j///8F74O/4v////oig78r/v//H4lHv3T///9vr12/7P///z0yeD/T////fCWKP/L//3/HW5w/8///f/SmkT/o////5aCVPwAAAEAg2Kc/+f//XwT5tz/9//8/9o+sP/v//39CfZw/zf///4lZcj/4//9/vhiXv/f//z8TCqO//f//P/49oL////9/yoqdv/7//78n/KG/9///v940pb/4//+/UCGlv/z//3+g6KC/8P///zPnn7/y////cfabv/j///9QRZu/7v//f91Vl7/l////ikKXv87////vOo+/+f//fyAtkr/z//9/rwGav+n///+l5JW/8v///32xnb/z////UTCgvwAAAIBtI6K/9P///+DBlr/J////0BuPv9T///8XfHK/4v///ysfdz/H////5wmOP/j///+RfYQ/7////5igkD/c////B2+LP+j///8es5E/4v///3Sxgj/M////eC2LP+b//3/ErJU/yv///+3Sez/n////sMOSP+j//38jmJE/6v///9Yskj/2////JtuBP1z+//9XUFg//////xPFaj9C/v//3/VYv0j///+X32G/+v///xg3h7/s////QbuKv8r////9Noa/7////91hkL/1////l/+Mv/j///+lcoq//////94vhL/5////79yFv/v///8A0YK/1f///0gAjr8AAADAsvLFv+n///9sZoq//v///81zhL/j////+zJ2v+X///9BNIm/jf///+NIZL/g////7QeJv8z////mcIg/+P//v8IPrj/9//8/BoCoP/7//1+p77A/+///P9Baoj/2//9/0fmUP2n////jbWs//f///3vPgL/3////O3yZv/v//38RcaG//P//f/VVpb/1//+foL+pv/P//z/oO6m//v//P5Wtrr/z////gpaTv/z//3/xTJ6/9////8kDhz/6//+/x7KiP+3//39O0p8/+///vy0Erz/0//+/Dd2mPwAAAMBAlqg/6P//f+5Cnj/L////0VuPPwb///+vjlS/z////0kxhL/I////fp+Pv83///+FyI+/AAAAgGXtnr/6////ngScv+v//38AN5G//f//v0t3or/k//9/ijaSv/v////wHJa/9f//P0+nob/6////opuhv/r//39ueqC/8v//vxhyob/y//+/zzmnv/j///9kJKG//P///9CsiL8AAAAAeg6OP/3//78eWKA/5v///6uujj/M////pfiKP6H///8vSXs/6v///wcZkT/N////H1+EP/X//3/Z85k//v//n/4luT////8fda+1PwAAAGBp/74/4////9KwjT/d////Xdx+v+P////CLIa//P//f+2zmr/5//+/mh+gv/T//z+8+qW//////xe6or/j////fauHv/L//39RmpK/7v////mEkr/l/////AKIv/P///+KVIu/9v////EVl7/r////GLWfv/r//3/wTqG//P////0Tob/o//9/xbSUv/T//3/A0ZS/+f//f56kkL/3//9/kfmTv/3///+sB5i/8f//f7pok7/u////g1eQv8f////b7nq/yf7//y93Tr/W////w/aFP+H////Nf4E/AAAAgOdxkT/2//9/gM2ZP+3//39SV5U/7f///6uhlj/+//9/rf+UP/X//3+wdZg/6////yDLkT/3////L+1zP+D///934l8/3P///7aair/e////w9V7v+X////0qIq/7///f8Ujlr/w////6pSOv/v////4rpq/AAAAAEkKnr/l////y3qfv+T///+aZp+/8v//f8+hmb/5//9/x7qbv/n///+JcaC/5v//f0LcmL/b////G9SNv+T///9p3nS/pf///4+wVz/0////XoGDP9f///9ihog/+P//P9+ioD/4//8/LMCkP/n//z+SPaQ/9P//v5Ncqj/6//+/AAunP/3//z9Dg6c/+P//v9bwoD/6//9/p66ZP+H////da44/3P///4UmiD/p////8neIP8j///85HoI/qP///y9IcL/7/////F+Av/P//3/cFJe//v//fxt9or////+f/yOlv/T//1/1dqe/+P//H1mfo7/9//9/R9qcv+v//3/bmZa/6P//f/r1nL/3//9/rTSXv+7///9/4oy/z////47Kjr+I////pxpsv8j///+7roY/4////3liiz/p////N8F1P+r///8HOZA/9///f960lj/l//9/1OyfP////7/efaQ//f//f5iWmz/u////yIiZP/7////2lZA/0P///+Sviz/+//9f6g2yP9D///8h73a/8v///3FOcz/+////S1Oiv////78Pj7i/+///P3NHrr/9//+fiFuzvwAAAKAmw8K/9///X1gRqL/3//8/iRGlv7b////Fy3m//////zMws7/y////ZduLvwv////vXVA/6P///5SwgL/8//+/g1GjP/n//58QGrg//f//XxJ0sT/2//+/ycWtP/j//z+iia0/7f//f/2dmD8l////XzZnv+L///8vmIu/4P///z5shL//////M2WKvwAAAAByfH2/6f///ycVgb92////J91lv3L///+vf1W/Yv////u0Yr+r////x11zv+n///+1IIW/z////7t1ir/9////sKyBv8f///+q2oK/6////+udgb/x////0kaHv9H////Qko6/9P///6tok7/j////wiyLv+n//39Y9ZK/+////+RJkL/O////feaNv+////+Y3Ji//P//fzoXl7/u//9/qEyVv+7//39Tm5e/7////x4SlL/i////rb+Iv4////+jmHu/rP///7epdD/6////z+yEP+r///9cRpM/7f//f06CkT/8////h6qDP8r///+wE4M/AAAAAPidZ7/M////veZ6v/P///9BpqG//v///8mKm7/6////TZyUv/v///+jyYS/1////+DVhb/e////u1Nnv/L////v/Uy/Wf///yPAbD/Z////2SOIP5L///+9/nk/6v///0QUhj/p////oUt7P0fj//9/HB8/uP///31Zdj8=",
          "dtype": "f8"
         },
         "yaxis": "y5"
        },
        {
         "line": {
          "color": "rgb(141,160,203)"
         },
         "name": "heave",
         "type": "scatter",
         "x": {
          "bdata": "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",
          "dtype": "f8"
         },
         "xaxis": "x5",
         "y": {
          "bdata": "AAAAAAAAAAAAAAAAAAAAAAAAAAAAAAAAAAAAAAAAAAAAAAAAAAAAAAAAAAAAAAAAAAAAAAAAAAAAAAAAAAAAAAAAAAAAAAAAAAAAAAAAAAAAAAAAAAAAAAAAAAAAAAAAAAAAAAAAAAAAAAAAAAAAAAAAAAAAAAAAAAAAAAAAAAAAAAAAAAAAAAAAAAAAAAAAAAAAAAAAAAAAAAAAAAAAAAAAAAAAAAAAAAAAAAAAAAAAAAAAAAAAAAAAAAAAAAAAAAAAAAAAAAAAAAAAAAAAAAAAAAAAAAAAAAAAAAAAAAAAAAAAAAAAAAAAAAAAAAAAAAAAAAAAAAAAAAAAAAAAAAAAAAAAAAAAAAAAAAAAAAAAAAAAAAAAAAAAAAAAAAAAAAAAAAAAAAAAAAAAAAAAAAAAAAAAAAAAAAAAAAAAAAAAAAAAAAAAAAAAAAAAAAAAAAAAAAAAAAAAAAAAAAAAAAAAAAAAAAAAAAAAAAAAAAAAAAAAAAAAAAAAAAAAAAAAAAAAAAAAAAAAAAAAAAAAAAAAAAAAAAAAAAAAAAAAAAAAAAAAAAAAAAAAAAAAAAAAAAAAAAAAAAAAAAAAAAAAAAAAAAAAAAAAAAAAAAAAAAAAAAAAAAAAAAAAAAAAAAAAAAAAAAAAAAAAAAAAAAAAAAAAAAAAAAAAAAAAAAAAAAAAAAAAAAAAAAAAAAAAAAAAAAAAAAAAAAAAAAAAAAAAAAAAAAAAAAAAAAAAAAAAAAAAAAAAAAAAAAAAAAAAAAAAAAAAAAAAAAAAAAAAAAAAAAAAAAAAAAAAAAAAAAAAAAAAAAAAAAAAAAAAAAAAAAAAAAAAAAAAAAAAAAAAAAAAAAAAAAAAAAAAAAAAAAAAAAAAAAAAAAAAAAAAAAAAAAAAAAAAAAAAAAAAAAAAAAAAAAAAAAAAAAAAAAAAAAAAAAAAAAAAAAAAAAAAAAAAAAAAAAAAAAAAAAAAAAAAAAAAAAAAAAAAAAAAAAAAAAAAAAAAAAAAAAAAAAAAAAAAAAAAAAAAAAAAAAAAAAAAAAAAAAAAAAAAAAAAAAAAAAAAAAAAAAAAAAAAAAAAAAAAAAAAAAAAAAAAAAAAAAAAAAAAAAAAAAAAAAAAAAAAAAAAAAAAAAAAAAAAAAAAAAAAAAAAAAAAAAAAAAAAAAAAAAAAAAAAAAAAAAAAAAAAAAAAAAAAAAAAAAAAAAAAAAAAAAAAAAAAAAAAAAAAAAAAAAAAAAAAAAAAAAAAAAAAAAAAAAAAAAAAAAAAAAAAAAAAAAAAAAAAAAAAAAAAAAAAAAAAAAAAAAAAAAAAAAAAAAAAAAAAAAAAAAAAAAAAAAAAAAAAAAAAAAAAAAAAAAAAAAAAAAAAAAAAAAAAAAAAAAAAAAAAAAAAAAAAAAAAAAAAAAAAAAAAAAAAAAAAAAAAAAAAAAAAAAAAAAAAAAAAAAAAAAAAAAAAAAAAAAAAAAAAAAAAAAAAAAAAAAAAAAAAAAAAAAAAAAAAAAAAAAAAAAAAAAAAAAAAAAAAAAAAAAAAAAAAAAAAAAAAAAAAAAAAAAAAAAAAAAAAAAAAAAAAAAAAAAAAAAAAAAAAAAAAAAAAAAAAAAAAAAAAAAAAAAAAAAAAAAAAAAAAAAAAAAAAAAAAAAAAAAAAAAAAAAAAAAAAAAAAAAAAAAAAAAAAAAAAAAAAAAAAAAAAAAAAAAAAAAAAAAAAAAAAAAAAAAAAAAAAAAAAAAAAAAAAAAAAAAAAAAAAAAAAAAAAAAAAAAAAAAAAAAAAAAAAAAAAAAAAAAAAAAAAAAAAAAAAAAAAAAAAAAAAAAAAAAAAAAAAAAAAAAAAAAAAAAAAAAAAAAAAAAAAAAAAAAAAAAAAAAAAAAAAAAAAAAAAAAAAAAAAAAAAAAAAAAAAAAAAAAAAAAAAAAAAAAAAAAAAAAAAAAAAAAAAAAAAAAAAAAAAAAAAAAAAAAAAAAAAAAAAAAAAAAAAAAAAAAAAAAAAAAAAAAAAAAAAAAAAAAAAAAAAAAAAAAAAAAAAAAAAAAAAAAAAAAAAAAAAAAAAAAAAAAAAAAAAAAAAAAAAAAAAAAAAAAAAAAAAAAAAAAAAAAAAAAAAAAAAAAAAAAAAAAAAAAAAAAAAAAAAAAAAAAAAAAAAAAAAAAAAAAAAAAAAAAAAAAAAAAAAAAAAAAAAAAAAAAAAAAAAAAAAAAAAAAAAAAAAAAAAAAAAAAAAAAAAAAAAAAAAAAAAAAAAAAAAAAAAAAAAAAAAAAAAAAAAAAAAAAAAAAAAAAAAAAAAAAAAAAAAAAAAAAAAAAAAAAAAAAAAAAAAAAAAAAAAAAAAAAAAAAAAAAAAAAAAAAAAAAAAAAAAAAAAAAAAAAAAAAAAAAAAAAAAAAAAAAAAAAAAAAAAAAAAAAAAAAAAAAAAAAAAAAAAAAAAAAAAAAAAAAAAAAAAAAAAAAAAAAAAAAAAAAAAAAAAAAAAAAAAAAAAAAAAAAAAAAAAAAAAAAAAAAAAAAAAAAAAAAAAAAAAAAAAAAAAAAAAAAAAAAAAAAAAAAAAAAAAAAAAAAAAAAAAAAAAAAAAAAAAAAAAAAAAAAAAAAAAAAAAAAAAAAAAAAAAAAAAAAAAAAAAAAAAAAAAAAAAAAAAAAAAAAAAAAAAAAAAAAAAAAAAAAAAAAAAAAAAAAAAAAAAAAAAAAAAAAAAAAAAAAAAAAAAAAAAAAAAAAAAAAAAAAAAAAAAAAAAAAAAAAAAAAAAAAAAAAAAAAAAAAAAAAAAAAAAAAAAAAAAAAAAAAAAAAAAAAAAAAAAAAAAAAAAAAAAAAAAAAAAAAAAAAAAAAAAAAAAAAAAAAAAAAAAAAAAAAAAAAAAAAAAAAAAAAAAAAAAAAAAAAAAAAAAAAAAAAAAAAAAAAAAAAAAAAAAAAAAAAAAAAAAAAAAAAAAAAAAAAAAAAAAAAAAAAAAAAAAAAAAAAAAAAAAAAAAAAAAAAAAAAAAAAAAAAAAAAAAAAAAAAAAAAAAAAAAAAAAAAAAAAAAAAAAAAAAAAAAAAAAAAAAAAAAAAAAAAAAAAAAAAAAAAAAAAAAAAAAAAAAAAAAAAAAAAAAAAAAAAAAAAAAAAAAAAAAAAAAAAAAAAAAAAAAAAAAAAAAAAAAAAAAAAAAAAAAAAAAAAAAAAAAAAAAAAAAAAAAAAAAAAAAAAAAAAAAAAAAAAAAAAAAAAAAAAAAAAAAAAAAAAAAAAAAAAAAAAAAAAAAAAAAAAAAAAAAAAAAAAAAAAAAAAAAAAAAAAAAAAAAAAAAAAAAAAAAAAAAAAAAAAAAAAAAAAAAAAAAAAAAAAAAAAAAAAAAAAAAAAAAAAAAAAAAAAAAAAAAAAAAAAAAAAAAAAAAAAAAAAAAAAAAAAAAAAAAAAAAAAAAAAAAAAAAAAAAAAAAAAAAAAAAAAAAAAAAAAAAAAAAAAAAAAAAAAAAAAAAAAAAAAAAAAAAAAAAAAAAAAAAAAAAAAAAAAAAAAAAAAAAAAAAAAAAAAAAAAAAAAAAAAAAAAAAAAAAAAAAAAAAAAAAAAAAAAAAAAAAAAAAAAAAAAAAAAAAAAAAAAAAAAAAAAAAAAAAAAAAAAAAAAAAAAAAAAAAAAAAAAAAAAAAAAAAAAAAAAAAAAAAAAAAAAAAAAAAAAAAAAAAAAAAAAAAAAAAAAAAAAAAAAAAAAAAAAAAAAAAAAAAAAAAAAAAAAAAAAAAAAAAAAAAAAAAAAAAAAAAAAAAAAAAAAAAAAAAAAAAAAAAAAAAAAAAAAAAAAAAAAAAAAAAAAAAAAAAAAAAAAAAAAAAAAAAAAAAAAAAAAAAAAAAAAAAAAAAAAAAAAAAAAAAAAAAAAAAAAAAAAAAAAAAAAAAAAAAAAAAAAAAAAAAAAAAAAAAAAA=",
          "dtype": "f8"
         },
         "yaxis": "y5"
        },
        {
         "name": "Mean Absolute Error",
         "type": "bar",
         "x": [
          "x",
          "y",
          "z",
          "net_distance",
          "surge",
          "sway",
          "heave",
          "depth",
          "yaw"
         ],
         "xaxis": "x6",
         "y": [
          1.0598824736521488,
          1.9741858939056869,
          0.17719204351305962,
          0.030054945375893104,
          0.03147505301883654,
          0.021236579394438716,
          0,
          0,
          5.609415938566019
         ],
         "yaxis": "y6"
        }
       ],
       "layout": {
        "annotations": [
         {
          "font": {
           "size": 16
          },
          "showarrow": false,
          "text": "Position Errors (m)",
          "x": 0.225,
          "xanchor": "center",
          "xref": "paper",
          "y": 1,
          "yanchor": "bottom",
          "yref": "paper"
         },
         {
          "font": {
           "size": 16
          },
          "showarrow": false,
          "text": "Desired vs Error",
          "x": 0.775,
          "xanchor": "center",
          "xref": "paper",
          "y": 1,
          "yanchor": "bottom",
          "yref": "paper"
         },
         {
          "font": {
           "size": 16
          },
          "showarrow": false,
          "text": "Attitude Errors (deg)",
          "x": 0.225,
          "xanchor": "center",
          "xref": "paper",
          "y": 0.6111111111111112,
          "yanchor": "bottom",
          "yref": "paper"
         },
         {
          "font": {
           "size": 16
          },
          "showarrow": false,
          "text": "Net Distance Error",
          "x": 0.775,
          "xanchor": "center",
          "xref": "paper",
          "y": 0.6111111111111112,
          "yanchor": "bottom",
          "yref": "paper"
         },
         {
          "font": {
           "size": 16
          },
          "showarrow": false,
          "text": "Velocity Errors (m/s)",
          "x": 0.225,
          "xanchor": "center",
          "xref": "paper",
          "y": 0.22222222222222224,
          "yanchor": "bottom",
          "yref": "paper"
         },
         {
          "font": {
           "size": 16
          },
          "showarrow": false,
          "text": "Error Statistics",
          "x": 0.775,
          "xanchor": "center",
          "xref": "paper",
          "y": 0.22222222222222224,
          "yanchor": "bottom",
          "yref": "paper"
         }
        ],
        "height": 900,
        "showlegend": true,
        "template": {
         "data": {
          "bar": [
           {
            "error_x": {
             "color": "#2a3f5f"
            },
            "error_y": {
             "color": "#2a3f5f"
            },
            "marker": {
             "line": {
              "color": "#E5ECF6",
              "width": 0.5
             },
             "pattern": {
              "fillmode": "overlay",
              "size": 10,
              "solidity": 0.2
             }
            },
            "type": "bar"
           }
          ],
          "barpolar": [
           {
            "marker": {
             "line": {
              "color": "#E5ECF6",
              "width": 0.5
             },
             "pattern": {
              "fillmode": "overlay",
              "size": 10,
              "solidity": 0.2
             }
            },
            "type": "barpolar"
           }
          ],
          "carpet": [
           {
            "aaxis": {
             "endlinecolor": "#2a3f5f",
             "gridcolor": "white",
             "linecolor": "white",
             "minorgridcolor": "white",
             "startlinecolor": "#2a3f5f"
            },
            "baxis": {
             "endlinecolor": "#2a3f5f",
             "gridcolor": "white",
             "linecolor": "white",
             "minorgridcolor": "white",
             "startlinecolor": "#2a3f5f"
            },
            "type": "carpet"
           }
          ],
          "choropleth": [
           {
            "colorbar": {
             "outlinewidth": 0,
             "ticks": ""
            },
            "type": "choropleth"
           }
          ],
          "contour": [
           {
            "colorbar": {
             "outlinewidth": 0,
             "ticks": ""
            },
            "colorscale": [
             [
              0,
              "#0d0887"
             ],
             [
              0.1111111111111111,
              "#46039f"
             ],
             [
              0.2222222222222222,
              "#7201a8"
             ],
             [
              0.3333333333333333,
              "#9c179e"
             ],
             [
              0.4444444444444444,
              "#bd3786"
             ],
             [
              0.5555555555555556,
              "#d8576b"
             ],
             [
              0.6666666666666666,
              "#ed7953"
             ],
             [
              0.7777777777777778,
              "#fb9f3a"
             ],
             [
              0.8888888888888888,
              "#fdca26"
             ],
             [
              1,
              "#f0f921"
             ]
            ],
            "type": "contour"
           }
          ],
          "contourcarpet": [
           {
            "colorbar": {
             "outlinewidth": 0,
             "ticks": ""
            },
            "type": "contourcarpet"
           }
          ],
          "heatmap": [
           {
            "colorbar": {
             "outlinewidth": 0,
             "ticks": ""
            },
            "colorscale": [
             [
              0,
              "#0d0887"
             ],
             [
              0.1111111111111111,
              "#46039f"
             ],
             [
              0.2222222222222222,
              "#7201a8"
             ],
             [
              0.3333333333333333,
              "#9c179e"
             ],
             [
              0.4444444444444444,
              "#bd3786"
             ],
             [
              0.5555555555555556,
              "#d8576b"
             ],
             [
              0.6666666666666666,
              "#ed7953"
             ],
             [
              0.7777777777777778,
              "#fb9f3a"
             ],
             [
              0.8888888888888888,
              "#fdca26"
             ],
             [
              1,
              "#f0f921"
             ]
            ],
            "type": "heatmap"
           }
          ],
          "histogram": [
           {
            "marker": {
             "pattern": {
              "fillmode": "overlay",
              "size": 10,
              "solidity": 0.2
             }
            },
            "type": "histogram"
           }
          ],
          "histogram2d": [
           {
            "colorbar": {
             "outlinewidth": 0,
             "ticks": ""
            },
            "colorscale": [
             [
              0,
              "#0d0887"
             ],
             [
              0.1111111111111111,
              "#46039f"
             ],
             [
              0.2222222222222222,
              "#7201a8"
             ],
             [
              0.3333333333333333,
              "#9c179e"
             ],
             [
              0.4444444444444444,
              "#bd3786"
             ],
             [
              0.5555555555555556,
              "#d8576b"
             ],
             [
              0.6666666666666666,
              "#ed7953"
             ],
             [
              0.7777777777777778,
              "#fb9f3a"
             ],
             [
              0.8888888888888888,
              "#fdca26"
             ],
             [
              1,
              "#f0f921"
             ]
            ],
            "type": "histogram2d"
           }
          ],
          "histogram2dcontour": [
           {
            "colorbar": {
             "outlinewidth": 0,
             "ticks": ""
            },
            "colorscale": [
             [
              0,
              "#0d0887"
             ],
             [
              0.1111111111111111,
              "#46039f"
             ],
             [
              0.2222222222222222,
              "#7201a8"
             ],
             [
              0.3333333333333333,
              "#9c179e"
             ],
             [
              0.4444444444444444,
              "#bd3786"
             ],
             [
              0.5555555555555556,
              "#d8576b"
             ],
             [
              0.6666666666666666,
              "#ed7953"
             ],
             [
              0.7777777777777778,
              "#fb9f3a"
             ],
             [
              0.8888888888888888,
              "#fdca26"
             ],
             [
              1,
              "#f0f921"
             ]
            ],
            "type": "histogram2dcontour"
           }
          ],
          "mesh3d": [
           {
            "colorbar": {
             "outlinewidth": 0,
             "ticks": ""
            },
            "type": "mesh3d"
           }
          ],
          "parcoords": [
           {
            "line": {
             "colorbar": {
              "outlinewidth": 0,
              "ticks": ""
             }
            },
            "type": "parcoords"
           }
          ],
          "pie": [
           {
            "automargin": true,
            "type": "pie"
           }
          ],
          "scatter": [
           {
            "fillpattern": {
             "fillmode": "overlay",
             "size": 10,
             "solidity": 0.2
            },
            "type": "scatter"
           }
          ],
          "scatter3d": [
           {
            "line": {
             "colorbar": {
              "outlinewidth": 0,
              "ticks": ""
             }
            },
            "marker": {
             "colorbar": {
              "outlinewidth": 0,
              "ticks": ""
             }
            },
            "type": "scatter3d"
           }
          ],
          "scattercarpet": [
           {
            "marker": {
             "colorbar": {
              "outlinewidth": 0,
              "ticks": ""
             }
            },
            "type": "scattercarpet"
           }
          ],
          "scattergeo": [
           {
            "marker": {
             "colorbar": {
              "outlinewidth": 0,
              "ticks": ""
             }
            },
            "type": "scattergeo"
           }
          ],
          "scattergl": [
           {
            "marker": {
             "colorbar": {
              "outlinewidth": 0,
              "ticks": ""
             }
            },
            "type": "scattergl"
           }
          ],
          "scattermap": [
           {
            "marker": {
             "colorbar": {
              "outlinewidth": 0,
              "ticks": ""
             }
            },
            "type": "scattermap"
           }
          ],
          "scattermapbox": [
           {
            "marker": {
             "colorbar": {
              "outlinewidth": 0,
              "ticks": ""
             }
            },
            "type": "scattermapbox"
           }
          ],
          "scatterpolar": [
           {
            "marker": {
             "colorbar": {
              "outlinewidth": 0,
              "ticks": ""
             }
            },
            "type": "scatterpolar"
           }
          ],
          "scatterpolargl": [
           {
            "marker": {
             "colorbar": {
              "outlinewidth": 0,
              "ticks": ""
             }
            },
            "type": "scatterpolargl"
           }
          ],
          "scatterternary": [
           {
            "marker": {
             "colorbar": {
              "outlinewidth": 0,
              "ticks": ""
             }
            },
            "type": "scatterternary"
           }
          ],
          "surface": [
           {
            "colorbar": {
             "outlinewidth": 0,
             "ticks": ""
            },
            "colorscale": [
             [
              0,
              "#0d0887"
             ],
             [
              0.1111111111111111,
              "#46039f"
             ],
             [
              0.2222222222222222,
              "#7201a8"
             ],
             [
              0.3333333333333333,
              "#9c179e"
             ],
             [
              0.4444444444444444,
              "#bd3786"
             ],
             [
              0.5555555555555556,
              "#d8576b"
             ],
             [
              0.6666666666666666,
              "#ed7953"
             ],
             [
              0.7777777777777778,
              "#fb9f3a"
             ],
             [
              0.8888888888888888,
              "#fdca26"
             ],
             [
              1,
              "#f0f921"
             ]
            ],
            "type": "surface"
           }
          ],
          "table": [
           {
            "cells": {
             "fill": {
              "color": "#EBF0F8"
             },
             "line": {
              "color": "white"
             }
            },
            "header": {
             "fill": {
              "color": "#C8D4E3"
             },
             "line": {
              "color": "white"
             }
            },
            "type": "table"
           }
          ]
         },
         "layout": {
          "annotationdefaults": {
           "arrowcolor": "#2a3f5f",
           "arrowhead": 0,
           "arrowwidth": 1
          },
          "autotypenumbers": "strict",
          "coloraxis": {
           "colorbar": {
            "outlinewidth": 0,
            "ticks": ""
           }
          },
          "colorscale": {
           "diverging": [
            [
             0,
             "#8e0152"
            ],
            [
             0.1,
             "#c51b7d"
            ],
            [
             0.2,
             "#de77ae"
            ],
            [
             0.3,
             "#f1b6da"
            ],
            [
             0.4,
             "#fde0ef"
            ],
            [
             0.5,
             "#f7f7f7"
            ],
            [
             0.6,
             "#e6f5d0"
            ],
            [
             0.7,
             "#b8e186"
            ],
            [
             0.8,
             "#7fbc41"
            ],
            [
             0.9,
             "#4d9221"
            ],
            [
             1,
             "#276419"
            ]
           ],
           "sequential": [
            [
             0,
             "#0d0887"
            ],
            [
             0.1111111111111111,
             "#46039f"
            ],
            [
             0.2222222222222222,
             "#7201a8"
            ],
            [
             0.3333333333333333,
             "#9c179e"
            ],
            [
             0.4444444444444444,
             "#bd3786"
            ],
            [
             0.5555555555555556,
             "#d8576b"
            ],
            [
             0.6666666666666666,
             "#ed7953"
            ],
            [
             0.7777777777777778,
             "#fb9f3a"
            ],
            [
             0.8888888888888888,
             "#fdca26"
            ],
            [
             1,
             "#f0f921"
            ]
           ],
           "sequentialminus": [
            [
             0,
             "#0d0887"
            ],
            [
             0.1111111111111111,
             "#46039f"
            ],
            [
             0.2222222222222222,
             "#7201a8"
            ],
            [
             0.3333333333333333,
             "#9c179e"
            ],
            [
             0.4444444444444444,
             "#bd3786"
            ],
            [
             0.5555555555555556,
             "#d8576b"
            ],
            [
             0.6666666666666666,
             "#ed7953"
            ],
            [
             0.7777777777777778,
             "#fb9f3a"
            ],
            [
             0.8888888888888888,
             "#fdca26"
            ],
            [
             1,
             "#f0f921"
            ]
           ]
          },
          "colorway": [
           "#636efa",
           "#EF553B",
           "#00cc96",
           "#ab63fa",
           "#FFA15A",
           "#19d3f3",
           "#FF6692",
           "#B6E880",
           "#FF97FF",
           "#FECB52"
          ],
          "font": {
           "color": "#2a3f5f"
          },
          "geo": {
           "bgcolor": "white",
           "lakecolor": "white",
           "landcolor": "#E5ECF6",
           "showlakes": true,
           "showland": true,
           "subunitcolor": "white"
          },
          "hoverlabel": {
           "align": "left"
          },
          "hovermode": "closest",
          "mapbox": {
           "style": "light"
          },
          "paper_bgcolor": "white",
          "plot_bgcolor": "#E5ECF6",
          "polar": {
           "angularaxis": {
            "gridcolor": "white",
            "linecolor": "white",
            "ticks": ""
           },
           "bgcolor": "#E5ECF6",
           "radialaxis": {
            "gridcolor": "white",
            "linecolor": "white",
            "ticks": ""
           }
          },
          "scene": {
           "xaxis": {
            "backgroundcolor": "#E5ECF6",
            "gridcolor": "white",
            "gridwidth": 2,
            "linecolor": "white",
            "showbackground": true,
            "ticks": "",
            "zerolinecolor": "white"
           },
           "yaxis": {
            "backgroundcolor": "#E5ECF6",
            "gridcolor": "white",
            "gridwidth": 2,
            "linecolor": "white",
            "showbackground": true,
            "ticks": "",
            "zerolinecolor": "white"
           },
           "zaxis": {
            "backgroundcolor": "#E5ECF6",
            "gridcolor": "white",
            "gridwidth": 2,
            "linecolor": "white",
            "showbackground": true,
            "ticks": "",
            "zerolinecolor": "white"
           }
          },
          "shapedefaults": {
           "line": {
            "color": "#2a3f5f"
           }
          },
          "ternary": {
           "aaxis": {
            "gridcolor": "white",
            "linecolor": "white",
            "ticks": ""
           },
           "baxis": {
            "gridcolor": "white",
            "linecolor": "white",
            "ticks": ""
           },
           "bgcolor": "#E5ECF6",
           "caxis": {
            "gridcolor": "white",
            "linecolor": "white",
            "ticks": ""
           }
          },
          "title": {
           "x": 0.05
          },
          "xaxis": {
           "automargin": true,
           "gridcolor": "white",
           "linecolor": "white",
           "ticks": "",
           "title": {
            "standoff": 15
           },
           "zerolinecolor": "white",
           "zerolinewidth": 2
          },
          "yaxis": {
           "automargin": true,
           "gridcolor": "white",
           "linecolor": "white",
           "ticks": "",
           "title": {
            "standoff": 15
           },
           "zerolinecolor": "white",
           "zerolinewidth": 2
          }
         }
        },
        "title": {
         "text": "Guidance System Error Analysis"
        },
        "xaxis": {
         "anchor": "y",
         "domain": [
          0,
          0.45
         ],
         "title": {
          "text": "Time (minutes)"
         }
        },
        "xaxis2": {
         "anchor": "y2",
         "domain": [
          0.55,
          1
         ],
         "title": {
          "text": "Time (minutes)"
         }
        },
        "xaxis3": {
         "anchor": "y3",
         "domain": [
          0,
          0.45
         ],
         "title": {
          "text": "Time (minutes)"
         }
        },
        "xaxis4": {
         "anchor": "y4",
         "domain": [
          0.55,
          1
         ],
         "title": {
          "text": "Time (minutes)"
         }
        },
        "xaxis5": {
         "anchor": "y5",
         "domain": [
          0,
          0.45
         ],
         "title": {
          "text": "Time (minutes)"
         }
        },
        "xaxis6": {
         "anchor": "y6",
         "domain": [
          0.55,
          1
         ],
         "title": {
          "text": "Time (minutes)"
         }
        },
        "yaxis": {
         "anchor": "x",
         "domain": [
          0.7777777777777778,
          1
         ]
        },
        "yaxis2": {
         "anchor": "x2",
         "domain": [
          0.7777777777777778,
          1
         ]
        },
        "yaxis3": {
         "anchor": "x3",
         "domain": [
          0.3888888888888889,
          0.6111111111111112
         ]
        },
        "yaxis4": {
         "anchor": "x4",
         "domain": [
          0.3888888888888889,
          0.6111111111111112
         ]
        },
        "yaxis5": {
         "anchor": "x5",
         "domain": [
          0,
          0.22222222222222224
         ]
        },
        "yaxis6": {
         "anchor": "x6",
         "domain": [
          0,
          0.22222222222222224
         ]
        }
       }
      }
     },
     "metadata": {},
     "output_type": "display_data"
    },
    {
     "name": "stdout",
     "output_type": "stream",
     "text": [
      "📁 Loaded navigation_plane_approximation__2024-08-22_14-47-39_data.csv: 374 rows, 23 columns\n",
      "📁 Loaded navigation_plane_approximation_position__2024-08-22_14-47-39_data.csv: 194 rows, 22 columns\n",
      "🧭 Analyzing navigation plane for bag: 2024-08-22_14-47-39\n"
     ]
    },
    {
     "data": {
      "application/vnd.plotly.v1+json": {
       "config": {
        "plotlyServerURL": "https://plot.ly"
       },
       "data": [
        {
         "line": {
          "color": "blue"
         },
         "name": "Net Distance",
         "type": "scatter",
         "x": {
          "bdata": "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",
          "dtype": "f8"
         },
         "xaxis": "x",
         "y": {
          "bdata": "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",
          "dtype": "f8"
         },
         "yaxis": "y"
        },
        {
         "line": {
          "color": "red"
         },
         "name": "Altitude",
         "type": "scatter",
         "x": {
          "bdata": "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",
          "dtype": "f8"
         },
         "xaxis": "x",
         "y": {
          "bdata": "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",
          "dtype": "f8"
         },
         "yaxis": "y2"
        },
        {
         "line": {
          "color": "blue"
         },
         "name": "NetVelocity_u",
         "type": "scatter",
         "x": {
          "bdata": "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",
          "dtype": "f8"
         },
         "xaxis": "x2",
         "y": {
          "bdata": "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",
          "dtype": "f8"
         },
         "yaxis": "y3"
        },
        {
         "line": {
          "color": "green"
         },
         "name": "NetVelocity_v",
         "type": "scatter",
         "x": {
          "bdata": "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",
          "dtype": "f8"
         },
         "xaxis": "x2",
         "y": {
          "bdata": "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",
          "dtype": "f8"
         },
         "yaxis": "y3"
        },
        {
         "line": {
          "color": "red"
         },
         "name": "NetVelocity_w",
         "type": "scatter",
         "x": {
          "bdata": "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",
          "dtype": "f8"
         },
         "xaxis": "x2",
         "y": {
          "bdata": "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",
          "dtype": "f8"
         },
         "yaxis": "y3"
        },
        {
         "line": {
          "color": "blue",
          "width": 4
         },
         "marker": {
          "size": 3
         },
         "mode": "lines+markers",
         "name": "3D Trajectory",
         "scene": "scene",
         "type": "scatter3d",
         "x": {
          "bdata": "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",
          "dtype": "f8"
         },
         "y": {
          "bdata": "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",
          "dtype": "f8"
         },
         "z": {
          "bdata": "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",
          "dtype": "f8"
         }
        },
        {
         "line": {
          "color": "purple"
         },
         "name": "Net Heading (deg)",
         "type": "scatter",
         "x": {
          "bdata": "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",
          "dtype": "f8"
         },
         "xaxis": "x3",
         "y": {
          "bdata": "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",
          "dtype": "f8"
         },
         "yaxis": "y4"
        },
        {
         "line": {
          "color": "orange"
         },
         "name": "Net Pitch (deg)",
         "type": "scatter",
         "x": {
          "bdata": "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",
          "dtype": "f8"
         },
         "xaxis": "x3",
         "y": {
          "bdata": "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",
          "dtype": "f8"
         },
         "yaxis": "y4"
        }
       ],
       "layout": {
        "annotations": [
         {
          "font": {
           "size": 16
          },
          "showarrow": false,
          "text": "Net Distance & Altitude",
          "x": 0.185,
          "xanchor": "center",
          "xref": "paper",
          "y": 1,
          "yanchor": "bottom",
          "yref": "paper"
         },
         {
          "font": {
           "size": 16
          },
          "showarrow": false,
          "text": "Net Velocity Components",
          "x": 0.7550000000000001,
          "xanchor": "center",
          "xref": "paper",
          "y": 1,
          "yanchor": "bottom",
          "yref": "paper"
         },
         {
          "font": {
           "size": 16
          },
          "showarrow": false,
          "text": "3D Position Trajectory",
          "x": 0.185,
          "xanchor": "center",
          "xref": "paper",
          "y": 0.375,
          "yanchor": "bottom",
          "yref": "paper"
         },
         {
          "font": {
           "size": 16
          },
          "showarrow": false,
          "text": "Net Heading & Pitch",
          "x": 0.7550000000000001,
          "xanchor": "center",
          "xref": "paper",
          "y": 0.375,
          "yanchor": "bottom",
          "yref": "paper"
         }
        ],
        "height": 800,
        "scene": {
         "domain": {
          "x": [
           0,
           0.37
          ],
          "y": [
           0,
           0.375
          ]
         }
        },
        "showlegend": true,
        "template": {
         "data": {
          "bar": [
           {
            "error_x": {
             "color": "#2a3f5f"
            },
            "error_y": {
             "color": "#2a3f5f"
            },
            "marker": {
             "line": {
              "color": "#E5ECF6",
              "width": 0.5
             },
             "pattern": {
              "fillmode": "overlay",
              "size": 10,
              "solidity": 0.2
             }
            },
            "type": "bar"
           }
          ],
          "barpolar": [
           {
            "marker": {
             "line": {
              "color": "#E5ECF6",
              "width": 0.5
             },
             "pattern": {
              "fillmode": "overlay",
              "size": 10,
              "solidity": 0.2
             }
            },
            "type": "barpolar"
           }
          ],
          "carpet": [
           {
            "aaxis": {
             "endlinecolor": "#2a3f5f",
             "gridcolor": "white",
             "linecolor": "white",
             "minorgridcolor": "white",
             "startlinecolor": "#2a3f5f"
            },
            "baxis": {
             "endlinecolor": "#2a3f5f",
             "gridcolor": "white",
             "linecolor": "white",
             "minorgridcolor": "white",
             "startlinecolor": "#2a3f5f"
            },
            "type": "carpet"
           }
          ],
          "choropleth": [
           {
            "colorbar": {
             "outlinewidth": 0,
             "ticks": ""
            },
            "type": "choropleth"
           }
          ],
          "contour": [
           {
            "colorbar": {
             "outlinewidth": 0,
             "ticks": ""
            },
            "colorscale": [
             [
              0,
              "#0d0887"
             ],
             [
              0.1111111111111111,
              "#46039f"
             ],
             [
              0.2222222222222222,
              "#7201a8"
             ],
             [
              0.3333333333333333,
              "#9c179e"
             ],
             [
              0.4444444444444444,
              "#bd3786"
             ],
             [
              0.5555555555555556,
              "#d8576b"
             ],
             [
              0.6666666666666666,
              "#ed7953"
             ],
             [
              0.7777777777777778,
              "#fb9f3a"
             ],
             [
              0.8888888888888888,
              "#fdca26"
             ],
             [
              1,
              "#f0f921"
             ]
            ],
            "type": "contour"
           }
          ],
          "contourcarpet": [
           {
            "colorbar": {
             "outlinewidth": 0,
             "ticks": ""
            },
            "type": "contourcarpet"
           }
          ],
          "heatmap": [
           {
            "colorbar": {
             "outlinewidth": 0,
             "ticks": ""
            },
            "colorscale": [
             [
              0,
              "#0d0887"
             ],
             [
              0.1111111111111111,
              "#46039f"
             ],
             [
              0.2222222222222222,
              "#7201a8"
             ],
             [
              0.3333333333333333,
              "#9c179e"
             ],
             [
              0.4444444444444444,
              "#bd3786"
             ],
             [
              0.5555555555555556,
              "#d8576b"
             ],
             [
              0.6666666666666666,
              "#ed7953"
             ],
             [
              0.7777777777777778,
              "#fb9f3a"
             ],
             [
              0.8888888888888888,
              "#fdca26"
             ],
             [
              1,
              "#f0f921"
             ]
            ],
            "type": "heatmap"
           }
          ],
          "histogram": [
           {
            "marker": {
             "pattern": {
              "fillmode": "overlay",
              "size": 10,
              "solidity": 0.2
             }
            },
            "type": "histogram"
           }
          ],
          "histogram2d": [
           {
            "colorbar": {
             "outlinewidth": 0,
             "ticks": ""
            },
            "colorscale": [
             [
              0,
              "#0d0887"
             ],
             [
              0.1111111111111111,
              "#46039f"
             ],
             [
              0.2222222222222222,
              "#7201a8"
             ],
             [
              0.3333333333333333,
              "#9c179e"
             ],
             [
              0.4444444444444444,
              "#bd3786"
             ],
             [
              0.5555555555555556,
              "#d8576b"
             ],
             [
              0.6666666666666666,
              "#ed7953"
             ],
             [
              0.7777777777777778,
              "#fb9f3a"
             ],
             [
              0.8888888888888888,
              "#fdca26"
             ],
             [
              1,
              "#f0f921"
             ]
            ],
            "type": "histogram2d"
           }
          ],
          "histogram2dcontour": [
           {
            "colorbar": {
             "outlinewidth": 0,
             "ticks": ""
            },
            "colorscale": [
             [
              0,
              "#0d0887"
             ],
             [
              0.1111111111111111,
              "#46039f"
             ],
             [
              0.2222222222222222,
              "#7201a8"
             ],
             [
              0.3333333333333333,
              "#9c179e"
             ],
             [
              0.4444444444444444,
              "#bd3786"
             ],
             [
              0.5555555555555556,
              "#d8576b"
             ],
             [
              0.6666666666666666,
              "#ed7953"
             ],
             [
              0.7777777777777778,
              "#fb9f3a"
             ],
             [
              0.8888888888888888,
              "#fdca26"
             ],
             [
              1,
              "#f0f921"
             ]
            ],
            "type": "histogram2dcontour"
           }
          ],
          "mesh3d": [
           {
            "colorbar": {
             "outlinewidth": 0,
             "ticks": ""
            },
            "type": "mesh3d"
           }
          ],
          "parcoords": [
           {
            "line": {
             "colorbar": {
              "outlinewidth": 0,
              "ticks": ""
             }
            },
            "type": "parcoords"
           }
          ],
          "pie": [
           {
            "automargin": true,
            "type": "pie"
           }
          ],
          "scatter": [
           {
            "fillpattern": {
             "fillmode": "overlay",
             "size": 10,
             "solidity": 0.2
            },
            "type": "scatter"
           }
          ],
          "scatter3d": [
           {
            "line": {
             "colorbar": {
              "outlinewidth": 0,
              "ticks": ""
             }
            },
            "marker": {
             "colorbar": {
              "outlinewidth": 0,
              "ticks": ""
             }
            },
            "type": "scatter3d"
           }
          ],
          "scattercarpet": [
           {
            "marker": {
             "colorbar": {
              "outlinewidth": 0,
              "ticks": ""
             }
            },
            "type": "scattercarpet"
           }
          ],
          "scattergeo": [
           {
            "marker": {
             "colorbar": {
              "outlinewidth": 0,
              "ticks": ""
             }
            },
            "type": "scattergeo"
           }
          ],
          "scattergl": [
           {
            "marker": {
             "colorbar": {
              "outlinewidth": 0,
              "ticks": ""
             }
            },
            "type": "scattergl"
           }
          ],
          "scattermap": [
           {
            "marker": {
             "colorbar": {
              "outlinewidth": 0,
              "ticks": ""
             }
            },
            "type": "scattermap"
           }
          ],
          "scattermapbox": [
           {
            "marker": {
             "colorbar": {
              "outlinewidth": 0,
              "ticks": ""
             }
            },
            "type": "scattermapbox"
           }
          ],
          "scatterpolar": [
           {
            "marker": {
             "colorbar": {
              "outlinewidth": 0,
              "ticks": ""
             }
            },
            "type": "scatterpolar"
           }
          ],
          "scatterpolargl": [
           {
            "marker": {
             "colorbar": {
              "outlinewidth": 0,
              "ticks": ""
             }
            },
            "type": "scatterpolargl"
           }
          ],
          "scatterternary": [
           {
            "marker": {
             "colorbar": {
              "outlinewidth": 0,
              "ticks": ""
             }
            },
            "type": "scatterternary"
           }
          ],
          "surface": [
           {
            "colorbar": {
             "outlinewidth": 0,
             "ticks": ""
            },
            "colorscale": [
             [
              0,
              "#0d0887"
             ],
             [
              0.1111111111111111,
              "#46039f"
             ],
             [
              0.2222222222222222,
              "#7201a8"
             ],
             [
              0.3333333333333333,
              "#9c179e"
             ],
             [
              0.4444444444444444,
              "#bd3786"
             ],
             [
              0.5555555555555556,
              "#d8576b"
             ],
             [
              0.6666666666666666,
              "#ed7953"
             ],
             [
              0.7777777777777778,
              "#fb9f3a"
             ],
             [
              0.8888888888888888,
              "#fdca26"
             ],
             [
              1,
              "#f0f921"
             ]
            ],
            "type": "surface"
           }
          ],
          "table": [
           {
            "cells": {
             "fill": {
              "color": "#EBF0F8"
             },
             "line": {
              "color": "white"
             }
            },
            "header": {
             "fill": {
              "color": "#C8D4E3"
             },
             "line": {
              "color": "white"
             }
            },
            "type": "table"
           }
          ]
         },
         "layout": {
          "annotationdefaults": {
           "arrowcolor": "#2a3f5f",
           "arrowhead": 0,
           "arrowwidth": 1
          },
          "autotypenumbers": "strict",
          "coloraxis": {
           "colorbar": {
            "outlinewidth": 0,
            "ticks": ""
           }
          },
          "colorscale": {
           "diverging": [
            [
             0,
             "#8e0152"
            ],
            [
             0.1,
             "#c51b7d"
            ],
            [
             0.2,
             "#de77ae"
            ],
            [
             0.3,
             "#f1b6da"
            ],
            [
             0.4,
             "#fde0ef"
            ],
            [
             0.5,
             "#f7f7f7"
            ],
            [
             0.6,
             "#e6f5d0"
            ],
            [
             0.7,
             "#b8e186"
            ],
            [
             0.8,
             "#7fbc41"
            ],
            [
             0.9,
             "#4d9221"
            ],
            [
             1,
             "#276419"
            ]
           ],
           "sequential": [
            [
             0,
             "#0d0887"
            ],
            [
             0.1111111111111111,
             "#46039f"
            ],
            [
             0.2222222222222222,
             "#7201a8"
            ],
            [
             0.3333333333333333,
             "#9c179e"
            ],
            [
             0.4444444444444444,
             "#bd3786"
            ],
            [
             0.5555555555555556,
             "#d8576b"
            ],
            [
             0.6666666666666666,
             "#ed7953"
            ],
            [
             0.7777777777777778,
             "#fb9f3a"
            ],
            [
             0.8888888888888888,
             "#fdca26"
            ],
            [
             1,
             "#f0f921"
            ]
           ],
           "sequentialminus": [
            [
             0,
             "#0d0887"
            ],
            [
             0.1111111111111111,
             "#46039f"
            ],
            [
             0.2222222222222222,
             "#7201a8"
            ],
            [
             0.3333333333333333,
             "#9c179e"
            ],
            [
             0.4444444444444444,
             "#bd3786"
            ],
            [
             0.5555555555555556,
             "#d8576b"
            ],
            [
             0.6666666666666666,
             "#ed7953"
            ],
            [
             0.7777777777777778,
             "#fb9f3a"
            ],
            [
             0.8888888888888888,
             "#fdca26"
            ],
            [
             1,
             "#f0f921"
            ]
           ]
          },
          "colorway": [
           "#636efa",
           "#EF553B",
           "#00cc96",
           "#ab63fa",
           "#FFA15A",
           "#19d3f3",
           "#FF6692",
           "#B6E880",
           "#FF97FF",
           "#FECB52"
          ],
          "font": {
           "color": "#2a3f5f"
          },
          "geo": {
           "bgcolor": "white",
           "lakecolor": "white",
           "landcolor": "#E5ECF6",
           "showlakes": true,
           "showland": true,
           "subunitcolor": "white"
          },
          "hoverlabel": {
           "align": "left"
          },
          "hovermode": "closest",
          "mapbox": {
           "style": "light"
          },
          "paper_bgcolor": "white",
          "plot_bgcolor": "#E5ECF6",
          "polar": {
           "angularaxis": {
            "gridcolor": "white",
            "linecolor": "white",
            "ticks": ""
           },
           "bgcolor": "#E5ECF6",
           "radialaxis": {
            "gridcolor": "white",
            "linecolor": "white",
            "ticks": ""
           }
          },
          "scene": {
           "xaxis": {
            "backgroundcolor": "#E5ECF6",
            "gridcolor": "white",
            "gridwidth": 2,
            "linecolor": "white",
            "showbackground": true,
            "ticks": "",
            "zerolinecolor": "white"
           },
           "yaxis": {
            "backgroundcolor": "#E5ECF6",
            "gridcolor": "white",
            "gridwidth": 2,
            "linecolor": "white",
            "showbackground": true,
            "ticks": "",
            "zerolinecolor": "white"
           },
           "zaxis": {
            "backgroundcolor": "#E5ECF6",
            "gridcolor": "white",
            "gridwidth": 2,
            "linecolor": "white",
            "showbackground": true,
            "ticks": "",
            "zerolinecolor": "white"
           }
          },
          "shapedefaults": {
           "line": {
            "color": "#2a3f5f"
           }
          },
          "ternary": {
           "aaxis": {
            "gridcolor": "white",
            "linecolor": "white",
            "ticks": ""
           },
           "baxis": {
            "gridcolor": "white",
            "linecolor": "white",
            "ticks": ""
           },
           "bgcolor": "#E5ECF6",
           "caxis": {
            "gridcolor": "white",
            "linecolor": "white",
            "ticks": ""
           }
          },
          "title": {
           "x": 0.05
          },
          "xaxis": {
           "automargin": true,
           "gridcolor": "white",
           "linecolor": "white",
           "ticks": "",
           "title": {
            "standoff": 15
           },
           "zerolinecolor": "white",
           "zerolinewidth": 2
          },
          "yaxis": {
           "automargin": true,
           "gridcolor": "white",
           "linecolor": "white",
           "ticks": "",
           "title": {
            "standoff": 15
           },
           "zerolinecolor": "white",
           "zerolinewidth": 2
          }
         }
        },
        "title": {
         "text": "Navigation Plane Approximation Analysis"
        },
        "xaxis": {
         "anchor": "y",
         "domain": [
          0,
          0.37
         ],
         "title": {
          "text": "Time (minutes)"
         }
        },
        "xaxis2": {
         "anchor": "y3",
         "domain": [
          0.5700000000000001,
          0.9400000000000001
         ],
         "title": {
          "text": "Time (minutes)"
         }
        },
        "xaxis3": {
         "anchor": "y4",
         "domain": [
          0.5700000000000001,
          0.9400000000000001
         ],
         "title": {
          "text": "Time (minutes)"
         }
        },
        "yaxis": {
         "anchor": "x",
         "domain": [
          0.625,
          1
         ]
        },
        "yaxis2": {
         "anchor": "x",
         "overlaying": "y",
         "side": "right"
        },
        "yaxis3": {
         "anchor": "x2",
         "domain": [
          0.625,
          1
         ]
        },
        "yaxis4": {
         "anchor": "x3",
         "domain": [
          0,
          0.375
         ]
        }
       }
      }
     },
     "metadata": {},
     "output_type": "display_data"
    },
    {
     "name": "stdout",
     "output_type": "stream",
     "text": [
      "📁 Loaded guidance__2024-08-22_14-47-39_data.csv: 364 rows, 30 columns\n",
      "📁 Loaded navigation_plane_approximation__2024-08-22_14-47-39_data.csv: 374 rows, 23 columns\n",
      "📁 Loaded navigation_plane_approximation_position__2024-08-22_14-47-39_data.csv: 194 rows, 22 columns\n",
      "⚖️  Comparing navigation and guidance for bag: 2024-08-22_14-47-39\n",
      "\n",
      "📊 Data Summary:\n",
      "  - Guidance samples: 364\n",
      "  - Navigation plane samples: 374\n",
      "  - Navigation position samples: 194\n",
      "\n",
      "🕐 Sampling Rates:\n",
      "  - Guidance: 540.8 samples/min\n",
      "  - Navigation plane: 541.0 samples/min\n"
     ]
    },
    {
     "data": {
      "application/vnd.plotly.v1+json": {
       "config": {
        "plotlyServerURL": "https://plot.ly"
       },
       "data": [
        {
         "line": {
          "color": "red"
         },
         "mode": "lines",
         "name": "Guidance Errors",
         "type": "scatter",
         "x": {
          "bdata": "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",
          "dtype": "f8"
         },
         "xaxis": "x",
         "y": {
          "bdata": "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",
          "dtype": "f8"
         },
         "yaxis": "y"
        },
        {
         "line": {
          "color": "blue"
         },
         "mode": "lines",
         "name": "Navigation Position",
         "type": "scatter",
         "x": {
          "bdata": "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",
          "dtype": "f8"
         },
         "xaxis": "x",
         "y": {
          "bdata": "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",
          "dtype": "f8"
         },
         "yaxis": "y"
        },
        {
         "line": {
          "color": "blue"
         },
         "name": "Nav Velocity U",
         "type": "scatter",
         "x": {
          "bdata": "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",
          "dtype": "f8"
         },
         "xaxis": "x2",
         "y": {
          "bdata": "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",
          "dtype": "f8"
         },
         "yaxis": "y2"
        },
        {
         "line": {
          "color": "red",
          "dash": "dash"
         },
         "name": "Guidance Desired Surge",
         "type": "scatter",
         "x": {
          "bdata": "AAAAAAAAAADHzMzMDPVdP2VmZmbmI20/3t3d3f1KdD/MzMzMrNl7P1VVVVUFv4E/d3d3d6+6hT+8u7u7m02JP7y7u7vz14w/mpmZmZFCkD/e3d3d5USSP7y7u7v7GZQ/vLu7uwPFlT9EREREnNiXP97d3d0Jd5k/rKqqqk6Hmz9mZmZmekydP727u7tP854/Z2ZmZnaEoD+amZmZC2ehP4mIiIjAX6I/zczMzOA6oz9mZmZmuDikPyIiIiK8R6U/zczMzHQbpj+8u7u7HQunP5uZmZnj3ac/eXd3d7fcqD9VVVVVzaCpP3d3d3d1kKo/REREROaVqz9mZmZmfHisP2VmZmZ6T60/eHd3dxdisD/v7u7ui+GwPyIiIiJoU7E/MzMzM2y/sT93d3d360SyPwAAAAAar7I/7+7u7gA0sz+8u7u7rLWzP7y7u7vtJrQ/AAAAACCdtD+rqqqqRwy1P2ZmZmbndbU/ZmZmZlcBtj+rqqqqRm62P0RERESy4LY/MzMzM2pLtz93d3d3Fbu3P4mIiIh0Ubg/iYiIiJqouD8zMzMzmC65PyIiIiLfq7k/RERERDoPuj8AAAAA84G6P5qZmZlvB7s/IiIiIhCGuz+JiIiISOq7P97d3d3uX7w/AAAAACPQvD/e3d3dIFa9P3d3d3diur0/RERERGpAvj8zMzMzI8O+P6uqqqqPNb8/IiIiIv6/vz+8u7u7txLAP1VVVVVgTMA/EREREauMwD/NzMzM78DAP+/u7m5MAsE/7+7u7utDwT+8u7s7Y33BPyIiIiIOtsE/AAAAAGjxwT9ERERE5iPCPxEREZEdacI/IiIiIpWfwj+amZkZwuTCP97d3d3GIcM/zczMzAtcwz8AAACAPpXDPyMiIqJBzMM/AAAAAC4CxD95d3d32TrEP97d3V3YfcQ/u7u7u62yxD+sqqqq5ujEPzMzM7OIMMU/AAAAAN1nxT8jIiKiUKrFP/////9c3MU/3t3dXRkWxj/e3d1dkUzGP1VVVVXXjMY/dnd396vBxj9DRERENgXHP3l3d3ciO8c/AAAAAMpwxz+rqqqqoLHHPxIREZFa8cc/VVVVVb0eyD8AAACAPljIP3d3d3f8ncg/mpmZmbzayD8zMzMzIxPJP4mIiIivR8k/RERERIGCyT8zMzMzWb3JP5qZmRmK9sk/7+7ubugxyj93d3f3SW/KPxERERHtrco/q6qqqmvnyj8zMzMzDSzLP3Z3d/evass/3t3dXV6jyz9mZmZm8NXLP1RVVVWADcw/ERERkQpRzD8AAACAUovMP5qZmZlVwsw/3t3d3Y+gzT+rqqqqEtvNPyIiIqJcD84/3t3d3f9Nzj9VVVXVAIvOP83MzMwkvM4/zczMTNL6zj8iIiKi8kDPP83MzEwic88/AAAAgCqzzz9VVVVVaOTPP1VVVZWQE9A/MzMz834v0D+amZlZvlDQP7y7uzs9bNA/REREhPGM0D+JiIgI0qnQP3h3d7f3xtA/3t3d3afj0D8RERFR+AXRP7y7uzuTItE/ZmZmZhI+0T8zMzPz6l7RP0RERAQledE/3t3dXbub0T/NzMxMyLfRP4mIiAjr19E/d3d3d1r50T+8u7s7RRXSP5qZmZkNLtI/zczMzFhQ0j9EREREem3SP5qZmdkSitI/ERER0Qil0j+rqqrqwsHSP5qZmRn+5dI/q6qqat3/0j8AAAAAixvTP1VVVdWtO9M/mpmZmcxd0z9VVVUV9XTTP87MzAzYktM/3t3d3eKq0z8QERERp8zTPxEREZGe6tM/AQAAgMcB1D8jIiJixiTUP97d3Z1MPdQ/h4iIiMpY1D8iIiIiBHrUP2ZmZiYRltQ/zczMjNix1D9nZmYmK87UP2VmZmZQ7tQ/VVVVVVsM1T8iIiJitifVP0RERMTNSNU/ERERUUdp1T93d3d3m4LVP97d3d0apNU/mpmZ2f/D1T9VVVVVbtvVP87MzMyO99U/3d3dXVMV1j+JiIjIvDLWP0REREThVdY/3t3d3WJx1j8iIiLiWIzWP4mIiAjap9Y/ERERkf/H1j+8u7s7rOXWP97d3Z1yBNc/7+7ubnYh1z9EREQE+DzXP6uqqip7W9c/d3d3N8p61z9EREREd5jXP3d3dzeEtNc/zMzMjNDR1z/v7u4uUu3XP1RVVVWqDdg/3t3dHeUr2D93d3c3UkbYP0RERIS9YNg/IiIiYsuC2D/e3d1d2ZvYP97d3Z3mt9g/zczMjNvV2D8zMzMzjfDYP5mZmRkmE9k/VFVVFVl82T/v7u4uC5nZP97d3Z0atdk/7+7urn/Y2T+9u7s7AfTZP2ZmZibLD9o/rKqq6qYs2j9EREREhUnaP2ZmZiYzato/iYiIiKOE2j+rqqrqx6HaP+/u7u53vNo/ZmZmJn7Z2j9mZmbm/PraP0NERAT0Ets/AAAAwP032z9EREREAVLbPyIiIqI0bts/MzMzs/iS2z/e3d0dwavbP7y7u7tCx9s/iYiIyDfo2z+KiIjILAbcP2ZmZuYiIdw/7+7ubrs93D8AAADAJl7cP2ZmZmb1d9w/q6qqqqOY3D80MzOzP7XcPzQzMzOGzdw/IyIiYkTw3D93d3c3gAvdPyIiIiKNJ90/iYiICIJI3T8zMzNzMmPdP+7u7i5Uht0/AAAAgL6e3T/NzMwMbr/dPyIiImIf3d0/Z2ZmZvr83T+qqqoqZRfePwAAAEAqOd4/VVVVVeZU3j8AAADAZXbeP////z/+kt4/ZmZmJjur3j8AAAAARs3eP1VVVVUN6d4/q6qqaqIO3z+JiIhIJiTfPwAAAIAEQd8/3t3d3fJf3z93d3c3in/fP5qZmRnGmt8/Q0RExOe93z8iIiKiD9XfP+/u7i5J9t8/d3d3d9AH4D8RERExnBfgP2ZmZqauJOA/d3d3t5E24D/v7u4Ox0PgP7y7u9uHUeA/IiIiAkhi4D+amZkZz27gP83MzGz4fOA/d3d3V46L4D/NzMxs/ZngPyIiIgLQp+A/ERERcRy24D9VVVX1ocfgPzMzM9OG1eA/IiIiIkjj4D93d3cXtvTgP97d3X3GA+E/IiIigt0Q4T/v7u7OTR/hP0RERGQZLOE/7+7uDtk84T9ERETEmE3hPyIiImKIWuE/3t3dvb5q4T+8u7ubTnnhP1VVVbWlieE/VVVVteuZ4T9ERETEVqThP3d3dzeZtuE/vLu7W//D4T93d3f3+tLhP3d3dzfK3+E/MzMz040V4j+rqqqKiiHiP+/u7o4cMOI/7+7u7vFB4j8zMzPTj0/iP4mIiOgKXeI/iYiIKD9t4j/v7u7OInviP1VVVfWMiOI/ERERka6Z4j9mZmbGiajiP0RERCSztuI/MzMz83/D4j93d3c3jNXiP0RERETL5OI/iYiICKTw4j/v7u4uff/iP83MzExfDeM/7+7uzpQd4z+rqqqKYC3jP4mIiKiWOuM/eXd31yNL4z+rqqrqklnjP+7u7m6lZuM/d3d3l6V24z8iIiKiLIPjPxEREXHFlOM/7+7u7sCg4z/NzMzMdK/jP5qZmTk6weM/MzMzc1LP4z9mZmYmKt7jPxEREfHe7OM/3t3d3Xz64z9ERESEVAnkP1VVVTU4F+Q/iYiIqOYn5D93d3dX7TjkP7y7uxtfROQ/d3d31yZX5D9EREREXGTkPxEREZHnceQ/vLu7252A5D/v7u7uGI7kPzMzM9OVnOQ/7+7u7l6t5D+8u7t7ZbvkP5qZmXnWy+Q/ERERkVDY5D8zMzOTjOnkP2ZmZmYN+OQ/iYiIiKwF5T+JiIiIDhjlP1VVVZWVJOU/3t3dHbMz5T/e3d1d0ELlPyIiIoJhT+U/zczM7Ipd5T8iIiLiBG7lP2ZmZqbFe+U/3t3dPSSK5T8=",
          "dtype": "f8"
         },
         "xaxis": "x2",
         "y": {
          "bdata": "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",
          "dtype": "f8"
         },
         "yaxis": "y2"
        },
        {
         "line": {
          "color": "red"
         },
         "name": "Guidance Error",
         "type": "scatter",
         "x": {
          "bdata": "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",
          "dtype": "f8"
         },
         "xaxis": "x3",
         "y": {
          "bdata": "8////1G4rr/z////UbiuvwAAAACG67G/8////1G4rr/z////Ubiuv/P///9RuK6/+P///5mZqb/4////mZmpv/3////heqS/6P///1O4nr/y////43qUv/L////jepS/+f///+d6hL8AAAAAAAAAAAAAAAAAAAAA6////996hD/r////33qEPwAAAAAAAAAA6////996hD/r////33qUP+v////fepQ//v///0+4nj/r////33qUP/7///9PuJ4//v///0+4nj/6////33qkP+v////fepQ//v///0+4nj/+////T7ieP/r////feqQ/+v///996pD/6////33qkP/r////feqQ/+v///996pD/z////UbiuP/X///+Xmak/+v///996pD/6////33qkP/r////feqQ/9f///5eZqT/1////l5mpP/r////feqQ/9f///5eZqT/6////33qkP/r////feqQ/+v///996pD/6////33qkP/r////feqQ/+v///996pD/+////T7ieP/P///9RuK6//v///0+4nj/r////33qUP+v////fepQ/+v///996pD/6////33qkP/7///9PuJ4//v///0+4nj/+////T7ieP+v////fepQ//v///0+4nj/r////33qUP+v////feoQ/6////996hD/+////T7ieP/7///9PuJ4//v///0+4nj/+////T7ieP+v////fepQ/6////996lD/r////33qUP+v////fepQ/6////996hD/r////33qUP+v////fepQ/6////996hD/r////33qEP+v////feoQ/6////996hD8AAAAAAAAAAAAAAAAAAAAAAAAAAAAAAAAAAAAAAAAAAPn////neoS/AAAAgBSu17/5////53qEvwAAAAAAAAAA+f///+d6hL8AAAAAAAAAAOv////fepQ//v///0+4nj/+////T7ieP+v////fepQ/6////996lD/+////T7ieP+v////fepQ/6////996lD/r////33qUP+v////fepQ/6////996lD/r////33qUP+v////feoQ/6////996lD/r////33qUP+v////feoQ/6////996lD/r////33qUP+v////feoQ/6////996hD/r////33qEPwAAAAAAAAAA+f///+d6hL/5////53qEvwAAAAAAAAAA+f///+d6hL/y////43qUv/n////neoS/8v///+N6lL/o////U7iev/n////neoS/AAAAAAAAAAD5////53qEvwAAAAAAAAAA8v///+N6lL8AAAAAAAAAAPL////jepS/8v///+N6lL/o////U7iev/L////jepS/+f///+d6hL/o////U7iev/L////jepS/8v///+N6lL/y////43qUv/L////jepS/8v///+N6lL/y////43qUv/n////neoS/+f///+d6hL8AAAAAAAAAAPn////neoS/+f///+d6hL8AAAAAAAAAAAAAAAAAAAAA8v///+N6lL/5////53qEv+v////feoQ/6////996lD/r////33qUP/7///9PuJ4/6P///1O4nr8AAAAAAAAAAOv////feoQ/6////996hD/r////33qUP/7///9PuJ4//v///0+4nj/r////33qUP+v////fepQ//v///0+4nj/r////33qEP/3///+Ymbk/AAAAAD0Ktz/+////T7iePwAAAAA9Crc//v///4TrsT8AAAAAPQq3P/7///+E67E/6////996lD/+////T7ieP/7///9PuJ4//v///0+4nj/r////33qUP/7///9H4cq/6////996lD/r////33qUP/7///9RuM6/+v///1G4vj/r////33qUP/7///9PuJ4//v///4TrwT/6////33qkP/P///9RuK4/8////1G4rj/1////l5mpP/7///+E67E/8////1G4rj8AAAAAMzPDP/r///9RuL4/9f///5eZqT/6////33qkP/7///9PuJ4/+v///996pD/+////T7ieP+v////fepQ/AAAAAD0Ktz/r////33qUP+v////feoQ/+v///1G4vj/+////T7ieP+v////feoQ/6////996hD/r////33qEPwAAAAAAAAAA6////996hD/+////hOuxP/n////neoS/+f///+d6hL/5////53qEv/n////neoS/+f///+d6hL/5////53qEv/n////neoS/AAAAAAAAAADy////43qUv/L////jepS/6P///1O4nr/o////U7iev/n////neoS/6P///1O4nr/o////U7iev/L////jepS/6P///1O4nr/o////U7iev/3////heqS//f///+F6pL/9////4Xqkv/P///9RuK6//f///+F6pL/4////mZmpv/j///+Zmam/6P///1O4nr/9////4Xqkv/j///+Zmam/6P///1O4nr/o////U7iev/n////neoS/6P///1O4nr/y////43qUv/L////jepS/8v///+N6lL/5////53qEv/n////neoS/+f///+d6hL/5////53qEv/n////neoS/+f///+d6hL/y////43qUv/n////neoS/+f///+d6hL/o////U7ievwAAAAAAAAAA+f///+d6hL/5////53qEv/n////neoS/+f///+d6hL8AAAAAAAAAAPn////neoS/+f///+d6hL8AAAAAAAAAAOv////feoQ/AAAAAAAAAADr////33qUP+v////fepQ/6////996hD/r////33qEP+v////fepQ//v///0+4nj/+////T7ieP/7///9PuJ4//v///0+4nj/+////T7ieP/7///9PuJ4/6////996lD/+////T7ieP+v////feoQ//v///0+4nj/r////33qUP+v////fepQ/AAAAAAAAAADr////33qEP+v////fepQ/6////996lD/r////33qUP+v////feoQ/6////996lD/r////33qUP+v////feoQ/6////996hD/r////33qUP/L////jepS/+f///+d6hL/5////53qEv/n////neoS/+f///+d6hL/5////53qEvwAAAAAAAAAA+////z0Kt7/7////PQq3v/////+Zmbm//////5mZub//////mZm5v/v///89Cre//////5mZub//////mZm5v/v///89Cre/+////z0Kt7//////mZm5vwAAAACG67G/8////1G4rr/z////Ubiuv/3////heqS//f///+F6pL/o////U7iev/3////heqS/6P///1O4nr/o////U7iev/n////neoS/+f///+d6hL/5////53qEvwAAAAAAAAAA6////996hD/r////33qEPwAAAAAAAAAA+f///+d6hL/r////33qEPwAAAAAAAAAA6////996lD/r////33qUP+v////fepQ/6////996lD/r////33qUP/7///9PuJ4//v///0+4nj/+////T7ieP/7///9PuJ4/6////996lD/r////33qEP+v////fepQ//v///0+4nj/r////33qUP+v////fepQ/6////996lD/+////T7ieP/X///+Xmak/+v///996pD/6////33qkP/7///+E67E//v///0+4nj/6////33qkP/7///9PuJ4//v///0+4nj/+////T7ieP/7///9PuJ4//v///0+4nj/r////33qUP/7///9PuJ4//v///0+4nj/+////T7ieP+v////fepQ/6////996hD/r////33qEP+v////fepQ/6////996hD8=",
          "dtype": "f8"
         },
         "yaxis": "y3"
        },
        {
         "line": {
          "color": "blue"
         },
         "name": "Navigation Distance",
         "type": "scatter",
         "x": {
          "bdata": "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",
          "dtype": "f8"
         },
         "xaxis": "x3",
         "y": {
          "bdata": "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",
          "dtype": "f8"
         },
         "yaxis": "y3"
        },
        {
         "line": {
          "color": "green",
          "dash": "dash"
         },
         "name": "Desired Yaw",
         "type": "scatter",
         "x": {
          "bdata": "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",
          "dtype": "f8"
         },
         "xaxis": "x4",
         "y": {
          "bdata": "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",
          "dtype": "f8"
         },
         "yaxis": "y4"
        },
        {
         "line": {
          "color": "blue"
         },
         "name": "Actual Heading",
         "type": "scatter",
         "x": {
          "bdata": "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",
          "dtype": "f8"
         },
         "xaxis": "x4",
         "y": {
          "bdata": "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",
          "dtype": "f8"
         },
         "yaxis": "y4"
        }
       ],
       "layout": {
        "annotations": [
         {
          "font": {
           "size": 16
          },
          "showarrow": false,
          "text": "Position: Guidance vs Navigation",
          "x": 0.225,
          "xanchor": "center",
          "xref": "paper",
          "y": 1,
          "yanchor": "bottom",
          "yref": "paper"
         },
         {
          "font": {
           "size": 16
          },
          "showarrow": false,
          "text": "Velocity Comparison",
          "x": 0.775,
          "xanchor": "center",
          "xref": "paper",
          "y": 1,
          "yanchor": "bottom",
          "yref": "paper"
         },
         {
          "font": {
           "size": 16
          },
          "showarrow": false,
          "text": "Error vs Net Distance",
          "x": 0.225,
          "xanchor": "center",
          "xref": "paper",
          "y": 0.375,
          "yanchor": "bottom",
          "yref": "paper"
         },
         {
          "font": {
           "size": 16
          },
          "showarrow": false,
          "text": "Guidance Desired vs Navigation Actual",
          "x": 0.775,
          "xanchor": "center",
          "xref": "paper",
          "y": 0.375,
          "yanchor": "bottom",
          "yref": "paper"
         }
        ],
        "height": 800,
        "showlegend": true,
        "template": {
         "data": {
          "bar": [
           {
            "error_x": {
             "color": "#2a3f5f"
            },
            "error_y": {
             "color": "#2a3f5f"
            },
            "marker": {
             "line": {
              "color": "#E5ECF6",
              "width": 0.5
             },
             "pattern": {
              "fillmode": "overlay",
              "size": 10,
              "solidity": 0.2
             }
            },
            "type": "bar"
           }
          ],
          "barpolar": [
           {
            "marker": {
             "line": {
              "color": "#E5ECF6",
              "width": 0.5
             },
             "pattern": {
              "fillmode": "overlay",
              "size": 10,
              "solidity": 0.2
             }
            },
            "type": "barpolar"
           }
          ],
          "carpet": [
           {
            "aaxis": {
             "endlinecolor": "#2a3f5f",
             "gridcolor": "white",
             "linecolor": "white",
             "minorgridcolor": "white",
             "startlinecolor": "#2a3f5f"
            },
            "baxis": {
             "endlinecolor": "#2a3f5f",
             "gridcolor": "white",
             "linecolor": "white",
             "minorgridcolor": "white",
             "startlinecolor": "#2a3f5f"
            },
            "type": "carpet"
           }
          ],
          "choropleth": [
           {
            "colorbar": {
             "outlinewidth": 0,
             "ticks": ""
            },
            "type": "choropleth"
           }
          ],
          "contour": [
           {
            "colorbar": {
             "outlinewidth": 0,
             "ticks": ""
            },
            "colorscale": [
             [
              0,
              "#0d0887"
             ],
             [
              0.1111111111111111,
              "#46039f"
             ],
             [
              0.2222222222222222,
              "#7201a8"
             ],
             [
              0.3333333333333333,
              "#9c179e"
             ],
             [
              0.4444444444444444,
              "#bd3786"
             ],
             [
              0.5555555555555556,
              "#d8576b"
             ],
             [
              0.6666666666666666,
              "#ed7953"
             ],
             [
              0.7777777777777778,
              "#fb9f3a"
             ],
             [
              0.8888888888888888,
              "#fdca26"
             ],
             [
              1,
              "#f0f921"
             ]
            ],
            "type": "contour"
           }
          ],
          "contourcarpet": [
           {
            "colorbar": {
             "outlinewidth": 0,
             "ticks": ""
            },
            "type": "contourcarpet"
           }
          ],
          "heatmap": [
           {
            "colorbar": {
             "outlinewidth": 0,
             "ticks": ""
            },
            "colorscale": [
             [
              0,
              "#0d0887"
             ],
             [
              0.1111111111111111,
              "#46039f"
             ],
             [
              0.2222222222222222,
              "#7201a8"
             ],
             [
              0.3333333333333333,
              "#9c179e"
             ],
             [
              0.4444444444444444,
              "#bd3786"
             ],
             [
              0.5555555555555556,
              "#d8576b"
             ],
             [
              0.6666666666666666,
              "#ed7953"
             ],
             [
              0.7777777777777778,
              "#fb9f3a"
             ],
             [
              0.8888888888888888,
              "#fdca26"
             ],
             [
              1,
              "#f0f921"
             ]
            ],
            "type": "heatmap"
           }
          ],
          "histogram": [
           {
            "marker": {
             "pattern": {
              "fillmode": "overlay",
              "size": 10,
              "solidity": 0.2
             }
            },
            "type": "histogram"
           }
          ],
          "histogram2d": [
           {
            "colorbar": {
             "outlinewidth": 0,
             "ticks": ""
            },
            "colorscale": [
             [
              0,
              "#0d0887"
             ],
             [
              0.1111111111111111,
              "#46039f"
             ],
             [
              0.2222222222222222,
              "#7201a8"
             ],
             [
              0.3333333333333333,
              "#9c179e"
             ],
             [
              0.4444444444444444,
              "#bd3786"
             ],
             [
              0.5555555555555556,
              "#d8576b"
             ],
             [
              0.6666666666666666,
              "#ed7953"
             ],
             [
              0.7777777777777778,
              "#fb9f3a"
             ],
             [
              0.8888888888888888,
              "#fdca26"
             ],
             [
              1,
              "#f0f921"
             ]
            ],
            "type": "histogram2d"
           }
          ],
          "histogram2dcontour": [
           {
            "colorbar": {
             "outlinewidth": 0,
             "ticks": ""
            },
            "colorscale": [
             [
              0,
              "#0d0887"
             ],
             [
              0.1111111111111111,
              "#46039f"
             ],
             [
              0.2222222222222222,
              "#7201a8"
             ],
             [
              0.3333333333333333,
              "#9c179e"
             ],
             [
              0.4444444444444444,
              "#bd3786"
             ],
             [
              0.5555555555555556,
              "#d8576b"
             ],
             [
              0.6666666666666666,
              "#ed7953"
             ],
             [
              0.7777777777777778,
              "#fb9f3a"
             ],
             [
              0.8888888888888888,
              "#fdca26"
             ],
             [
              1,
              "#f0f921"
             ]
            ],
            "type": "histogram2dcontour"
           }
          ],
          "mesh3d": [
           {
            "colorbar": {
             "outlinewidth": 0,
             "ticks": ""
            },
            "type": "mesh3d"
           }
          ],
          "parcoords": [
           {
            "line": {
             "colorbar": {
              "outlinewidth": 0,
              "ticks": ""
             }
            },
            "type": "parcoords"
           }
          ],
          "pie": [
           {
            "automargin": true,
            "type": "pie"
           }
          ],
          "scatter": [
           {
            "fillpattern": {
             "fillmode": "overlay",
             "size": 10,
             "solidity": 0.2
            },
            "type": "scatter"
           }
          ],
          "scatter3d": [
           {
            "line": {
             "colorbar": {
              "outlinewidth": 0,
              "ticks": ""
             }
            },
            "marker": {
             "colorbar": {
              "outlinewidth": 0,
              "ticks": ""
             }
            },
            "type": "scatter3d"
           }
          ],
          "scattercarpet": [
           {
            "marker": {
             "colorbar": {
              "outlinewidth": 0,
              "ticks": ""
             }
            },
            "type": "scattercarpet"
           }
          ],
          "scattergeo": [
           {
            "marker": {
             "colorbar": {
              "outlinewidth": 0,
              "ticks": ""
             }
            },
            "type": "scattergeo"
           }
          ],
          "scattergl": [
           {
            "marker": {
             "colorbar": {
              "outlinewidth": 0,
              "ticks": ""
             }
            },
            "type": "scattergl"
           }
          ],
          "scattermap": [
           {
            "marker": {
             "colorbar": {
              "outlinewidth": 0,
              "ticks": ""
             }
            },
            "type": "scattermap"
           }
          ],
          "scattermapbox": [
           {
            "marker": {
             "colorbar": {
              "outlinewidth": 0,
              "ticks": ""
             }
            },
            "type": "scattermapbox"
           }
          ],
          "scatterpolar": [
           {
            "marker": {
             "colorbar": {
              "outlinewidth": 0,
              "ticks": ""
             }
            },
            "type": "scatterpolar"
           }
          ],
          "scatterpolargl": [
           {
            "marker": {
             "colorbar": {
              "outlinewidth": 0,
              "ticks": ""
             }
            },
            "type": "scatterpolargl"
           }
          ],
          "scatterternary": [
           {
            "marker": {
             "colorbar": {
              "outlinewidth": 0,
              "ticks": ""
             }
            },
            "type": "scatterternary"
           }
          ],
          "surface": [
           {
            "colorbar": {
             "outlinewidth": 0,
             "ticks": ""
            },
            "colorscale": [
             [
              0,
              "#0d0887"
             ],
             [
              0.1111111111111111,
              "#46039f"
             ],
             [
              0.2222222222222222,
              "#7201a8"
             ],
             [
              0.3333333333333333,
              "#9c179e"
             ],
             [
              0.4444444444444444,
              "#bd3786"
             ],
             [
              0.5555555555555556,
              "#d8576b"
             ],
             [
              0.6666666666666666,
              "#ed7953"
             ],
             [
              0.7777777777777778,
              "#fb9f3a"
             ],
             [
              0.8888888888888888,
              "#fdca26"
             ],
             [
              1,
              "#f0f921"
             ]
            ],
            "type": "surface"
           }
          ],
          "table": [
           {
            "cells": {
             "fill": {
              "color": "#EBF0F8"
             },
             "line": {
              "color": "white"
             }
            },
            "header": {
             "fill": {
              "color": "#C8D4E3"
             },
             "line": {
              "color": "white"
             }
            },
            "type": "table"
           }
          ]
         },
         "layout": {
          "annotationdefaults": {
           "arrowcolor": "#2a3f5f",
           "arrowhead": 0,
           "arrowwidth": 1
          },
          "autotypenumbers": "strict",
          "coloraxis": {
           "colorbar": {
            "outlinewidth": 0,
            "ticks": ""
           }
          },
          "colorscale": {
           "diverging": [
            [
             0,
             "#8e0152"
            ],
            [
             0.1,
             "#c51b7d"
            ],
            [
             0.2,
             "#de77ae"
            ],
            [
             0.3,
             "#f1b6da"
            ],
            [
             0.4,
             "#fde0ef"
            ],
            [
             0.5,
             "#f7f7f7"
            ],
            [
             0.6,
             "#e6f5d0"
            ],
            [
             0.7,
             "#b8e186"
            ],
            [
             0.8,
             "#7fbc41"
            ],
            [
             0.9,
             "#4d9221"
            ],
            [
             1,
             "#276419"
            ]
           ],
           "sequential": [
            [
             0,
             "#0d0887"
            ],
            [
             0.1111111111111111,
             "#46039f"
            ],
            [
             0.2222222222222222,
             "#7201a8"
            ],
            [
             0.3333333333333333,
             "#9c179e"
            ],
            [
             0.4444444444444444,
             "#bd3786"
            ],
            [
             0.5555555555555556,
             "#d8576b"
            ],
            [
             0.6666666666666666,
             "#ed7953"
            ],
            [
             0.7777777777777778,
             "#fb9f3a"
            ],
            [
             0.8888888888888888,
             "#fdca26"
            ],
            [
             1,
             "#f0f921"
            ]
           ],
           "sequentialminus": [
            [
             0,
             "#0d0887"
            ],
            [
             0.1111111111111111,
             "#46039f"
            ],
            [
             0.2222222222222222,
             "#7201a8"
            ],
            [
             0.3333333333333333,
             "#9c179e"
            ],
            [
             0.4444444444444444,
             "#bd3786"
            ],
            [
             0.5555555555555556,
             "#d8576b"
            ],
            [
             0.6666666666666666,
             "#ed7953"
            ],
            [
             0.7777777777777778,
             "#fb9f3a"
            ],
            [
             0.8888888888888888,
             "#fdca26"
            ],
            [
             1,
             "#f0f921"
            ]
           ]
          },
          "colorway": [
           "#636efa",
           "#EF553B",
           "#00cc96",
           "#ab63fa",
           "#FFA15A",
           "#19d3f3",
           "#FF6692",
           "#B6E880",
           "#FF97FF",
           "#FECB52"
          ],
          "font": {
           "color": "#2a3f5f"
          },
          "geo": {
           "bgcolor": "white",
           "lakecolor": "white",
           "landcolor": "#E5ECF6",
           "showlakes": true,
           "showland": true,
           "subunitcolor": "white"
          },
          "hoverlabel": {
           "align": "left"
          },
          "hovermode": "closest",
          "mapbox": {
           "style": "light"
          },
          "paper_bgcolor": "white",
          "plot_bgcolor": "#E5ECF6",
          "polar": {
           "angularaxis": {
            "gridcolor": "white",
            "linecolor": "white",
            "ticks": ""
           },
           "bgcolor": "#E5ECF6",
           "radialaxis": {
            "gridcolor": "white",
            "linecolor": "white",
            "ticks": ""
           }
          },
          "scene": {
           "xaxis": {
            "backgroundcolor": "#E5ECF6",
            "gridcolor": "white",
            "gridwidth": 2,
            "linecolor": "white",
            "showbackground": true,
            "ticks": "",
            "zerolinecolor": "white"
           },
           "yaxis": {
            "backgroundcolor": "#E5ECF6",
            "gridcolor": "white",
            "gridwidth": 2,
            "linecolor": "white",
            "showbackground": true,
            "ticks": "",
            "zerolinecolor": "white"
           },
           "zaxis": {
            "backgroundcolor": "#E5ECF6",
            "gridcolor": "white",
            "gridwidth": 2,
            "linecolor": "white",
            "showbackground": true,
            "ticks": "",
            "zerolinecolor": "white"
           }
          },
          "shapedefaults": {
           "line": {
            "color": "#2a3f5f"
           }
          },
          "ternary": {
           "aaxis": {
            "gridcolor": "white",
            "linecolor": "white",
            "ticks": ""
           },
           "baxis": {
            "gridcolor": "white",
            "linecolor": "white",
            "ticks": ""
           },
           "bgcolor": "#E5ECF6",
           "caxis": {
            "gridcolor": "white",
            "linecolor": "white",
            "ticks": ""
           }
          },
          "title": {
           "x": 0.05
          },
          "xaxis": {
           "automargin": true,
           "gridcolor": "white",
           "linecolor": "white",
           "ticks": "",
           "title": {
            "standoff": 15
           },
           "zerolinecolor": "white",
           "zerolinewidth": 2
          },
          "yaxis": {
           "automargin": true,
           "gridcolor": "white",
           "linecolor": "white",
           "ticks": "",
           "title": {
            "standoff": 15
           },
           "zerolinecolor": "white",
           "zerolinewidth": 2
          }
         }
        },
        "title": {
         "text": "Navigation vs Guidance System Comparison"
        },
        "xaxis": {
         "anchor": "y",
         "domain": [
          0,
          0.45
         ]
        },
        "xaxis2": {
         "anchor": "y2",
         "domain": [
          0.55,
          1
         ]
        },
        "xaxis3": {
         "anchor": "y3",
         "domain": [
          0,
          0.45
         ]
        },
        "xaxis4": {
         "anchor": "y4",
         "domain": [
          0.55,
          1
         ]
        },
        "yaxis": {
         "anchor": "x",
         "domain": [
          0.625,
          1
         ]
        },
        "yaxis2": {
         "anchor": "x2",
         "domain": [
          0.625,
          1
         ]
        },
        "yaxis3": {
         "anchor": "x3",
         "domain": [
          0,
          0.375
         ]
        },
        "yaxis4": {
         "anchor": "x4",
         "domain": [
          0,
          0.375
         ]
        }
       }
      }
     },
     "metadata": {},
     "output_type": "display_data"
    }
   ],
   "source": [
    "# 🧭 NAVIGATION AND GUIDANCE SYSTEM ANALYSIS — compact\n",
    "import importlib\n",
    "importlib.reload(dvl_utils)\n",
    "analyzer = dvl_utils.Nucleus1000DVLAnalyzer(BY_BAG_FOLDER)\n",
    "analysis_bag = selected_bag if 'selected_bag' in globals() else (analyzer.available_bags[0] if analyzer.available_bags else None)\n",
    "if analysis_bag:\n",
    "    success = analyzer.run_navigation_guidance_analysis(analysis_bag)\n",
    "    if not success:\n",
    "        print(\"Navigation/guidance analysis failed or is partially complete\")\n",
    "else:\n",
    "    print(\"No bag available for navigation/guidance analysis\")"
   ]
  }
 ],
 "metadata": {
  "kernelspec": {
   "display_name": "venv",
   "language": "python",
   "name": "python3"
  },
  "language_info": {
   "codemirror_mode": {
    "name": "ipython",
    "version": 3
   },
   "file_extension": ".py",
   "mimetype": "text/x-python",
   "name": "python",
   "nbconvert_exporter": "python",
   "pygments_lexer": "ipython3",
   "version": "3.13.5"
  }
 },
 "nbformat": 4,
 "nbformat_minor": 5
}
